{
 "cells": [
  {
   "cell_type": "markdown",
   "metadata": {
    "collapsed": false
   },
   "source": [
    "# DeepState Results"
   ]
  },
  {
   "cell_type": "code",
   "execution_count": 1,
   "metadata": {
    "collapsed": false,
    "pycharm": {
     "name": "#%%\n"
    }
   },
   "outputs": [],
   "source": [
    "import pandas"
   ]
  },
  {
   "cell_type": "markdown",
   "metadata": {
    "collapsed": false,
    "pycharm": {
     "name": "#%% md\n"
    }
   },
   "source": [
    "## Table 1"
   ]
  },
  {
   "cell_type": "code",
   "execution_count": 2,
   "metadata": {
    "collapsed": false,
    "pycharm": {
     "name": "#%%\n"
    }
   },
   "outputs": [],
   "source": [
    "df = pandas.read_fwf(\"results/DeepStateTable1.fwf\")\n",
    "df[\"Forecasting-Horizon\"] = pandas.to_timedelta(df[\"Forecasting-Horizon\"])\n",
    "df[\"Observation-Horizon\"] = pandas.to_timedelta(df[\"Observation-Horizon\"])\n",
    "df = df.set_index([\n",
    "    \"Dataset\", \"Test-Metric\", \"Observation-Horizon\", \"Forecasting-Horizon\"\n",
    "])\n",
    "df.columns.name = \"Model\"\n",
    "df = df.melt(ignore_index=False).reset_index()\n",
    "df.to_hdf(\"results/DeepState.h5\", key=\"Table1\", complevel=9, mode=\"w\", format=\"table\")\n",
    "df.pivot(\n",
    "    index=[\"Dataset\", \"Model\"],\n",
    "    columns=[\"Observation-Horizon\", \"Test-Metric\"],\n",
    "    values=\"value\",\n",
    ")"
   ]
  },
  {
   "cell_type": "markdown",
   "metadata": {
    "collapsed": false,
    "pycharm": {
     "name": "#%% md\n"
    }
   },
   "source": [
    "## Table 2"
   ]
  },
  {
   "cell_type": "code",
   "execution_count": 3,
   "metadata": {
    "collapsed": false,
    "pycharm": {
     "name": "#%%\n"
    }
   },
   "outputs": [],
   "source": [
    "df = pandas.read_fwf(\"results/DeepStateTable2.fwf\", header=[0, 1], index_col=0)\n",
    "df = df.melt(ignore_index=False).reset_index()\n",
    "df.to_hdf(\"results/DeepState.h5\", key=\"Table2\", complevel=9, mode=\"a\", format=\"table\")\n",
    "df2 = pandas.read_hdf(\"results/DeepState.h5\", key=\"Table2\")\n",
    "pandas.testing.assert_frame_equal(df, df2)\n",
    "df.pivot(index=[\"Dataset\"], columns=[\"Model\", \"Test-Metric\"], values=\"value\")"
   ]
  },
  {
   "cell_type": "markdown",
   "metadata": {
    "collapsed": false
   },
   "source": [
    "## Table 3"
   ]
  },
  {
   "cell_type": "code",
   "execution_count": 4,
   "metadata": {
    "collapsed": false,
    "pycharm": {
     "name": "#%%\n"
    }
   },
   "outputs": [],
   "source": [
    "df = pandas.read_fwf(\"results/DeepStateTable3.fwf\", header=[0, 1], index_col=0)\n",
    "df = df.melt(ignore_index=False).reset_index()\n",
    "df.to_hdf(\"results/DeepState.h5\", key=\"Table3\", complevel=9, mode=\"a\", format=\"table\")\n",
    "df2 = pandas.read_hdf(\"results/DeepState.h5\", key=\"Table3\")\n",
    "pandas.testing.assert_frame_equal(df, df2)\n",
    "df.pivot(index=[\"Dataset\", \"Test-Metric\"], columns=\"Model\", values=\"value\")"
   ]
  }
 ],
 "metadata": {
  "kernelspec": {
   "display_name": "Python 3",
   "language": "python",
   "name": "python3"
  },
  "language_info": {
   "codemirror_mode": {
    "name": "ipython",
    "version": 3
   },
   "file_extension": ".py",
   "mimetype": "text/x-python",
   "name": "python",
   "nbconvert_exporter": "python",
   "pygments_lexer": "ipython3",
   "version": "3.6.8"
  }
 },
 "nbformat": 4,
 "nbformat_minor": 1
}
