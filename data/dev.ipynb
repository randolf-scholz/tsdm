{
 "cells": [
  {
   "cell_type": "code",
   "execution_count": 2,
   "metadata": {
    "collapsed": true
   },
   "outputs": [],
   "source": [
    "import pandas\n",
    "from importlib import resources\n",
    "from tsdm.tasks import results\n",
    "\n",
    "list(resources.contents(results))"
   ]
  },
  {
   "cell_type": "code",
   "execution_count": 13,
   "metadata": {
    "collapsed": false,
    "pycharm": {
     "name": "#%%\n"
    }
   },
   "outputs": [],
   "source": [
    "with resources.path(results, \"TemporalFusionTransformerTable2.fwf\") as path:\n",
    "    with open(path, \"r\", encoding=\"utf8\") as file:\n",
    "        df = pandas.read_fwf(file, sep=\";\")\n",
    "\n",
    "df = df.pivot(index=[\"Dataset\", \"Test-Metric\"], columns=\"Model\", values=\"Value\")\n",
    "df.loc[[(\"electricity\", \"p50\"), (\"traffic\", \"p50\")]]"
   ]
  }
 ],
 "metadata": {
  "kernelspec": {
   "display_name": "Python 3",
   "language": "python",
   "name": "python3"
  },
  "language_info": {
   "codemirror_mode": {
    "name": "ipython",
    "version": 2
   },
   "file_extension": ".py",
   "mimetype": "text/x-python",
   "name": "python",
   "nbconvert_exporter": "python",
   "pygments_lexer": "ipython2",
   "version": "2.7.6"
  }
 },
 "nbformat": 4,
 "nbformat_minor": 0
}
