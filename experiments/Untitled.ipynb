{
  "cells": [
    {
      "cell_type": "code",
      "execution_count": null,
      "id": "1f0a9f52-fcd9-46a2-89bc-c73c01b1d06a",
      "metadata": {
        "execution": {
          "iopub.execute_input": "2023-06-21T18:17:40.193022Z",
          "iopub.status.busy": "2023-06-21T18:17:40.192158Z",
          "iopub.status.idle": "2023-06-21T18:17:40.275920Z",
          "shell.execute_reply": "2023-06-21T18:17:40.275283Z",
          "shell.execute_reply.started": "2023-06-21T18:17:40.192951Z"
        }
      },
      "outputs": [],
      "source": [
        "%matplotlib widget\n",
        "import numpy as np\n",
        "import plotly.graph_objects as go\n",
        "from plotly.subplots import make_subplots\n",
        "\n",
        "# Define the linear transformation matrix A\n",
        "A = np.array([[1, 2, 3], [4, 5, 6], [7, 8, 9]])\n",
        "\n",
        "# Create a meshgrid of a sphere\n",
        "theta = np.linspace(0, 2 * np.pi, 100)\n",
        "phi = np.linspace(0, np.pi, 50)\n",
        "theta, phi = np.meshgrid(theta, phi)\n",
        "x = np.sin(phi) * np.cos(theta)\n",
        "y = np.sin(phi) * np.sin(theta)\n",
        "z = np.cos(phi)\n",
        "\n",
        "# Create the figure with subplots\n",
        "fig = make_subplots(\n",
        "    rows=1,\n",
        "    cols=2,\n",
        "    subplot_titles=(\"Original Sphere\", \"Transformed Sphere\"),\n",
        "    specs=[[{\"type\": \"3d\"}, {\"type\": \"3d\"}]],\n",
        ")\n",
        "\n",
        "# Add the meshgrid of the original sphere to the left subplot\n",
        "fig.add_trace(go.Surface(x=x, y=y, z=z), row=1, col=1)\n",
        "\n",
        "# Create an empty scatter plot for the transformed sphere on the right subplot\n",
        "fig.add_trace(go.Scatter3d(mode=\"markers\", marker=dict(size=3)), row=1, col=2)\n",
        "\n",
        "\n",
        "# Add a callback function to handle the point selection\n",
        "def point_selection_callback(trace, points, state):\n",
        "    if points.point_inds:\n",
        "        # Get the selected point coordinates\n",
        "        selected_point = np.array([x[points.point_inds[0]] for x in [x, y, z]])\n",
        "\n",
        "        # Apply the linear transformation to the selected point\n",
        "        transformed_point = np.dot(A, selected_point)\n",
        "\n",
        "        # Update the scatter plot with the transformed point\n",
        "        fig.data[1].x = [transformed_point[0]]\n",
        "        fig.data[1].y = [transformed_point[1]]\n",
        "        fig.data[1].z = [transformed_point[2]]\n",
        "        fig.data[1].marker.color = \"red\"\n",
        "    else:\n",
        "        # If no point is selected, reset the scatter plot\n",
        "        fig.data[1].x = []\n",
        "        fig.data[1].y = []\n",
        "        fig.data[1].z = []\n",
        "        fig.data[1].marker.color = \"blue\"\n",
        "\n",
        "\n",
        "# Assign the callback function to the scatter plot\n",
        "fig.data[1].on_click(point_selection_callback)\n",
        "\n",
        "# Update the layout and display the figure\n",
        "fig.update_layout(scene=dict(aspectmode=\"cube\"))\n",
        "fig.show()"
      ]
    },
    {
      "cell_type": "code",
      "execution_count": null,
      "id": "524c1780-ad73-4e93-8a11-a0cc9e6ef8e4",
      "metadata": {},
      "outputs": [],
      "source": []
    }
  ],
  "metadata": {
    "kernelspec": {
      "display_name": "Python 3 (ipykernel)",
      "language": "python",
      "name": "python3"
    },
    "language_info": {
      "codemirror_mode": {
        "name": "ipython",
        "version": 3
      },
      "file_extension": ".py",
      "mimetype": "text/x-python",
      "name": "python",
      "nbconvert_exporter": "python",
      "pygments_lexer": "ipython3",
      "version": "3.11.3"
    }
  },
  "nbformat": 4,
  "nbformat_minor": 5
}
