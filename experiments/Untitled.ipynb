{
 "cells": [
  {
   "cell_type": "code",
   "execution_count": null,
   "id": "cd3ad528-aed1-4f16-8e2c-90c900adfb8e",
   "metadata": {},
   "outputs": [],
   "source": [
    "{x for x in {1, 2, 3} | {4}}"
   ]
  },
  {
   "cell_type": "code",
   "execution_count": null,
   "id": "78fed6bc-e55b-4cea-ad22-7cfaad5c4faa",
   "metadata": {},
   "outputs": [],
   "source": []
  }
 ],
 "metadata": {
  "kernelspec": {
   "display_name": "Python 3 (ipykernel)",
   "language": "python",
   "name": "python3"
  },
  "language_info": {
   "codemirror_mode": {
    "name": "ipython",
    "version": 3
   },
   "file_extension": ".py",
   "mimetype": "text/x-python",
   "name": "python",
   "nbconvert_exporter": "python",
   "pygments_lexer": "ipython3",
   "version": "3.9.7"
  }
 },
 "nbformat": 4,
 "nbformat_minor": 5
}
