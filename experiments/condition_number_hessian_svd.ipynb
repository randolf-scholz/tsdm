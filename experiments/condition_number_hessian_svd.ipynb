{
 "cells": [
  {
   "cell_type": "markdown",
   "id": "25a4e876-01a2-4260-bb9c-b48c9abf6f20",
   "metadata": {},
   "source": [
    "# condition number spectral norm newton"
   ]
  },
  {
   "cell_type": "code",
   "execution_count": null,
   "id": "b48b2460-0e2b-4d7d-a0be-d1e9da001f41",
   "metadata": {
    "execution": {
     "iopub.execute_input": "2023-06-21T17:47:33.453925Z",
     "iopub.status.busy": "2023-06-21T17:47:33.453306Z",
     "iopub.status.idle": "2023-06-21T17:47:33.457897Z",
     "shell.execute_reply": "2023-06-21T17:47:33.457613Z",
     "shell.execute_reply.started": "2023-06-21T17:47:33.453908Z"
    }
   },
   "outputs": [],
   "source": [
    "import numpy as np\n",
    "\n",
    "m, n = 128, 54\n",
    "\n",
    "A = np.random.randn(m, n) / np.sqrt(n)\n",
    "u = np.random.randn(m, 1)\n",
    "v = np.random.randn(n, 1)\n",
    "\n",
    "# svd = np.linalg.svd(A)\n",
    "# U = svd.U\n",
    "# S = svd.S\n",
    "# Vh = svd.Vh\n",
    "# u = U[:, 0].reshape(-1, 1)\n",
    "# v = Vh[0, :].reshape(-1, 1)\n",
    "\n",
    "np.linalg.cond(A)"
   ]
  },
  {
   "cell_type": "code",
   "execution_count": null,
   "id": "61ebd123-a772-4453-a33c-57f487bb05ed",
   "metadata": {
    "execution": {
     "iopub.execute_input": "2023-06-21T17:46:45.958215Z",
     "iopub.status.busy": "2023-06-21T17:46:45.957779Z",
     "iopub.status.idle": "2023-06-21T17:46:45.963166Z",
     "shell.execute_reply": "2023-06-21T17:46:45.962559Z",
     "shell.execute_reply.started": "2023-06-21T17:46:45.958195Z"
    }
   },
   "outputs": [],
   "source": [
    "@np.vectorize\n",
    "def f(t):\n",
    "    mu = t\n",
    "    nu = t\n",
    "    B = np.block([[2 * u, np.zeros_like(u)], [np.zeros_like(v), 2 * v]])\n",
    "    X = np.block([[np.zeros((m, m)), A], [A.T, np.zeros((n, n))]])\n",
    "    X += np.block([\n",
    "        [mu * np.eye(m), np.zeros_like(A)], [np.zeros_like(A.T), nu * np.eye(n)]\n",
    "    ])\n",
    "    H = np.block([[X, B], [B.T, np.zeros((2, 2))]])\n",
    "    return np.linalg.cond(H)"
   ]
  },
  {
   "cell_type": "code",
   "execution_count": null,
   "id": "53eaed25-0a14-4c44-9ab4-b15cc7a337e5",
   "metadata": {
    "execution": {
     "iopub.execute_input": "2023-06-21T17:46:45.964158Z",
     "iopub.status.busy": "2023-06-21T17:46:45.963876Z",
     "iopub.status.idle": "2023-06-21T17:46:45.968928Z",
     "shell.execute_reply": "2023-06-21T17:46:45.968524Z",
     "shell.execute_reply.started": "2023-06-21T17:46:45.964142Z"
    }
   },
   "outputs": [],
   "source": [
    "@np.vectorize\n",
    "def g(t):\n",
    "    mu = t\n",
    "    nu = t\n",
    "    u2 = A @ v\n",
    "    v2 = A.T @ u\n",
    "    B = np.block([[2 * u, np.zeros_like(u)], [np.zeros_like(v), 2 * v]])\n",
    "    X = np.block([[u2 @ u2.T, A], [A.T, v2 @ v2.T]])\n",
    "    X += np.block([\n",
    "        [mu * np.eye(m), np.zeros_like(A)], [np.zeros_like(A.T), nu * np.eye(n)]\n",
    "    ])\n",
    "    H = np.block([[X, B], [B.T, np.zeros((2, 2))]])\n",
    "    return np.linalg.cond(H)"
   ]
  },
  {
   "cell_type": "code",
   "execution_count": null,
   "id": "0891ee14-86d5-4c92-adab-f909fca55b7a",
   "metadata": {
    "execution": {
     "iopub.execute_input": "2023-06-21T17:46:45.969840Z",
     "iopub.status.busy": "2023-06-21T17:46:45.969559Z",
     "iopub.status.idle": "2023-06-21T17:46:52.164495Z",
     "shell.execute_reply": "2023-06-21T17:46:52.164203Z",
     "shell.execute_reply.started": "2023-06-21T17:46:45.969823Z"
    }
   },
   "outputs": [],
   "source": [
    "import matplotlib.pyplot as plt\n",
    "\n",
    "T = np.logspace(-5, 3, 1000)\n",
    "fig, ax = plt.subplots()\n",
    "ax.loglog(T, f(T), label=\"regular newton\")\n",
    "ax.plot(T, g(T), label=\"newton on $e^{u^⊤Av}$\")\n",
    "ax.set_xlabel(\"regularization strength\")\n",
    "ax.set_ylabel(\"cond κ\")\n",
    "ax.legend();"
   ]
  },
  {
   "cell_type": "code",
   "execution_count": null,
   "id": "748b7ba0-1dea-42e9-a3ca-2d28c413fe04",
   "metadata": {},
   "outputs": [],
   "source": []
  }
 ],
 "metadata": {
  "kernelspec": {
   "display_name": "Python 3 (ipykernel)",
   "language": "python",
   "name": "python3"
  },
  "language_info": {
   "codemirror_mode": {
    "name": "ipython",
    "version": 3
   },
   "file_extension": ".py",
   "mimetype": "text/x-python",
   "name": "python",
   "nbconvert_exporter": "python",
   "pygments_lexer": "ipython3",
   "version": "3.11.3"
  }
 },
 "nbformat": 4,
 "nbformat_minor": 5
}
