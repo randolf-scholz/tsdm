{
 "cells": [
  {
   "cell_type": "code",
   "execution_count": 1,
   "id": "cc22d517-c76d-4da2-ac57-ab077be3396f",
   "metadata": {},
   "outputs": [],
   "source": [
    "%config InteractiveShell.ast_node_interactivity='last_expr_or_assign'  # always print last expr.\n",
    "%config InlineBackend.figure_format = 'svg'\n",
    "%load_ext autoreload\n",
    "%autoreload 2\n",
    "%matplotlib inline\n",
    "\n",
    "import logging\n",
    "import os\n",
    "from pathlib import Path\n",
    "from time import perf_counter, time\n",
    "from typing import Any, NamedTuple\n",
    "\n",
    "import numpy as np\n",
    "\n",
    "# enable JIT compilation - must be done before loading torch!\n",
    "os.environ[\"PYTORCH_JIT\"] = \"1\"\n",
    "os.environ[\"CUDA_LAUNCH_BLOCKING\"] = \"1\"\n",
    "# logging.basicConfig(level=logging.INFO)"
   ]
  },
  {
   "cell_type": "code",
   "execution_count": 2,
   "id": "880c03d7-324c-4bc8-ae50-5392d4ff4642",
   "metadata": {},
   "outputs": [],
   "source": [
    "import torch\n",
    "import torchinfo\n",
    "\n",
    "BATCH_SIZE = 128\n",
    "TARGET = \"OD600\"\n",
    "SPLIT = 0\n",
    "\n",
    "RUN_NAME = f\"CONVNET-ReZero-{TARGET}-{SPLIT}\"  # | input(\"enter name for run\")"
   ]
  },
  {
   "cell_type": "code",
   "execution_count": 3,
   "id": "20e1c36b-b316-486d-bf09-724a98b0f477",
   "metadata": {},
   "outputs": [],
   "source": [
    "from typing import NamedTuple\n",
    "\n",
    "import matplotlib.pyplot as plt\n",
    "import numpy as np\n",
    "import pandas\n",
    "import torch\n",
    "import pandas as pd\n",
    "from pandas.core.indexes.frozen import FrozenList\n",
    "\n",
    "from linodenet.models import LinODE, LinODECell, LinODEnet\n",
    "from linodenet.models.filters import SequentialFilter\n",
    "from linodenet.projections.functional import skew_symmetric, symmetric\n",
    "from numpy.typing import NDArray\n",
    "from pandas import DataFrame, Index, Series, Timedelta, Timestamp\n",
    "from torch import Tensor, jit, nn, tensor\n",
    "from torch.optim import SGD, Adam, AdamW\n",
    "from torch.utils.data import BatchSampler, DataLoader\n",
    "from torch.utils.tensorboard import SummaryWriter\n",
    "from torchinfo import summary\n",
    "from tqdm import tqdm, trange\n",
    "from tsdm.logutils import compute_metrics\n",
    "\n",
    "import tsdm\n",
    "from tsdm.datasets import DATASETS\n",
    "from tsdm.encoders.functional import time2float\n",
    "from tsdm.encoders.modular import *\n",
    "from tsdm.logutils import (\n",
    "    log_kernel_information,\n",
    "    log_metrics,\n",
    "    log_model_state,\n",
    "    log_optimizer_state,\n",
    ")\n",
    "from tsdm.losses import LOSSES\n",
    "from tsdm.random.samplers import *\n",
    "from tsdm.tasks import KIWI_FINAL_PRODUCT\n",
    "from tsdm.utils import grad_norm, multi_norm\n",
    "from tsdm.utils.strings import *\n",
    "\n",
    "np.set_printoptions(4, linewidth=80)"
   ]
  },
  {
   "cell_type": "code",
   "execution_count": 4,
   "id": "464673c5-e855-4a21-b089-eb02aa58c584",
   "metadata": {},
   "outputs": [],
   "source": [
    "# Disable benchmarking for variable sized input\n",
    "torch.backends.cudnn.benchmark = True\n",
    "\n",
    "# The flag below controls whether to allow TF32 on matmul. This flag defaults to True.\n",
    "torch.backends.cuda.matmul.allow_tf32 = True\n",
    "\n",
    "# The flag below controls whether to allow TF32 on cuDNN. This flag defaults to True.\n",
    "torch.backends.cudnn.allow_tf32 = True"
   ]
  },
  {
   "cell_type": "markdown",
   "id": "e75c73e6-8f71-4570-ae16-0f01889052b3",
   "metadata": {
    "tags": []
   },
   "source": [
    "# Initialize Task"
   ]
  },
  {
   "cell_type": "code",
   "execution_count": 5,
   "id": "a0cfe050-72d6-46c0-b062-e1dbf7ebc93e",
   "metadata": {},
   "outputs": [],
   "source": [
    "DEVICE = torch.device(\"cuda\" if torch.cuda.is_available() else \"cpu\")\n",
    "DTYPE = torch.float32\n",
    "\n",
    "task = KIWI_FINAL_PRODUCT(\n",
    "    train_batch_size=BATCH_SIZE,\n",
    "    eval_batch_size=2048,\n",
    "    target=TARGET,\n",
    ")\n",
    "\n",
    "DATASET = task.dataset\n",
    "ts = task.timeseries\n",
    "md = task.metadata\n",
    "NUM_PTS, NUM_DIM = ts.shape"
   ]
  },
  {
   "cell_type": "code",
   "execution_count": 6,
   "id": "0e314057-f294-4b76-9c28-438fa107070e",
   "metadata": {},
   "outputs": [],
   "source": [
    "ts, md = task.splits[SPLIT, \"train\"]"
   ]
  },
  {
   "cell_type": "code",
   "execution_count": 7,
   "id": "f760679d-f366-4b70-9f8c-5aefeedcb5a8",
   "metadata": {},
   "outputs": [],
   "source": [
    "channel_freq = pd.notna(ts).mean().sort_values()\n",
    "fast_channels = FrozenList(channel_freq[channel_freq >= 0.1].index)\n",
    "slow_channels = FrozenList(channel_freq[channel_freq < 0.1].index)\n",
    "FAST = ts[fast_channels].dropna(how=\"all\")\n",
    "SLOW = ts[slow_channels].dropna(how=\"all\")\n",
    "groups = {\"slow\": slow_channels, \"fast\": fast_channels}\n",
    "FAST_DIM = len(fast_channels)\n",
    "SLOW_DIM = len(slow_channels)\n",
    "fast_channels, slow_channels"
   ]
  },
  {
   "cell_type": "code",
   "execution_count": 8,
   "id": "0d7ec833-f7b5-474c-a2f2-28d32cb1c0d4",
   "metadata": {
    "tags": []
   },
   "outputs": [],
   "source": [
    "encoder = ChainedEncoder(\n",
    "    TensorEncoder(),\n",
    "    ValueEncoder(\"float32\") | ValueEncoder(\"float32\"),\n",
    "    TripletEncoder() | TripletEncoder(),\n",
    "    FrameSplitter(groups, dropna=True),\n",
    "    FrameEncoder(\n",
    "        index_encoders={\n",
    "            \"measurement_time\": MinMaxScaler() @ TimeDeltaEncoder(unit=\"s\")\n",
    "        },\n",
    "    ),\n",
    "    Standardizer(),\n",
    ")"
   ]
  },
  {
   "cell_type": "code",
   "execution_count": 9,
   "id": "7b542478-1caf-49ab-8086-2cb12f1dc01d",
   "metadata": {
    "tags": []
   },
   "outputs": [],
   "source": [
    "encoder.fit(ts.reset_index([0, 1], drop=True))\n",
    "target_idx = task.timeseries.columns.get_loc(task.target)\n",
    "target_encoder = TensorEncoder() @ encoder[-1][target_idx]"
   ]
  },
  {
   "cell_type": "code",
   "execution_count": 10,
   "id": "6be1ad71-ffe5-459b-8eb8-968d54e88063",
   "metadata": {
    "scrolled": true,
    "tags": []
   },
   "outputs": [],
   "source": [
    "encoded = encoder.encode(ts.loc[439, 15325])\n",
    "decoded = encoder.decode(encoded)\n",
    "pd.testing.assert_frame_equal(ts.loc[439, 15325], decoded, atol=1e-3)"
   ]
  },
  {
   "cell_type": "markdown",
   "id": "d8b5e60a-4bc6-4671-9872-82ff8d437619",
   "metadata": {
    "tags": []
   },
   "source": [
    "## Define Batching Function"
   ]
  },
  {
   "cell_type": "code",
   "execution_count": 11,
   "id": "a463f976-c300-4d15-9324-58fb2f45bf68",
   "metadata": {},
   "outputs": [],
   "source": [
    "class Batch(NamedTuple):\n",
    "    idx: list\n",
    "    timeseries: list[Tensor]\n",
    "    targets: NDArray\n",
    "    encoded_targets: NDArray\n",
    "    ts_data: Any\n",
    "\n",
    "\n",
    "@torch.no_grad()\n",
    "def mycollate(samples: list[tuple]) -> tuple[list[Tensor], NDArray, NDArray]:\n",
    "    index = []\n",
    "    timeseries = []\n",
    "    targets = []\n",
    "    encoded_targets = []\n",
    "    originals = []\n",
    "\n",
    "    for idx, (ts_data, md_data), target, _ in samples:\n",
    "        index.append(idx)  # timeseries.append(ts_data)\n",
    "        timeseries.append(encoder.encode(ts_data))\n",
    "        targets.append(target)\n",
    "        encoded_targets.append(target_encoder.encode(target))\n",
    "        originals.append(ts_data)\n",
    "\n",
    "    # timeseries = torch.cat(timeseries)\n",
    "    targets = np.stack(targets)\n",
    "    encoded_targets = torch.tensor(encoded_targets)\n",
    "\n",
    "    return Batch(idx, timeseries, targets, encoded_targets, originals)"
   ]
  },
  {
   "cell_type": "code",
   "execution_count": 12,
   "id": "ee4e50d1-9cd6-40ff-abc6-e93142bc746e",
   "metadata": {
    "scrolled": true,
    "tags": []
   },
   "outputs": [],
   "source": [
    "dloader = task.get_dataloader((SPLIT, \"train\"), batch_size=128, shuffle=False)\n",
    "batch = next(iter(dloader))\n",
    "mycollate(batch).timeseries"
   ]
  },
  {
   "cell_type": "markdown",
   "id": "3e7ad313-0bca-47ae-a23d-05c1430fb739",
   "metadata": {},
   "source": [
    "## Initialize Loss & Metrics"
   ]
  },
  {
   "cell_type": "code",
   "execution_count": 13,
   "id": "c89a3b59-6ef4-4b41-b53e-9b23ef5bbafb",
   "metadata": {},
   "outputs": [],
   "source": [
    "LOSS = task.test_metric.to(device=DEVICE)\n",
    "metrics = {key: jit.script(LOSSES[key]()) for key in (\"RMSE\", \"MSE\", \"MAE\")}"
   ]
  },
  {
   "cell_type": "markdown",
   "id": "dfde25ec-dea8-462e-9164-45dff7fd7859",
   "metadata": {},
   "source": [
    "## Initialize DataLoaders"
   ]
  },
  {
   "cell_type": "code",
   "execution_count": 14,
   "id": "b1f62fa2-dc36-455e-91cf-6b46b8b0e6c2",
   "metadata": {},
   "outputs": [],
   "source": [
    "TRAINLOADER = task.get_dataloader(\n",
    "    (SPLIT, \"train\"),\n",
    "    batch_size=BATCH_SIZE,\n",
    "    collate_fn=mycollate,\n",
    "    pin_memory=True,\n",
    "    drop_last=True,\n",
    "    shuffle=True,\n",
    "    num_workers=8,\n",
    "    # num_workers=os.cpu_count() // 4,\n",
    "    persistent_workers=True,\n",
    ")\n",
    "\n",
    "\n",
    "EVALLOADER = task.get_dataloader(\n",
    "    (SPLIT, \"test\"),\n",
    "    batch_size=BATCH_SIZE,\n",
    "    collate_fn=mycollate,\n",
    "    pin_memory=True,\n",
    "    drop_last=False,\n",
    "    shuffle=False,\n",
    "    num_workers=8,\n",
    "    # num_workers=os.cpu_count() // 4,\n",
    "    persistent_workers=True,\n",
    ")"
   ]
  },
  {
   "cell_type": "markdown",
   "id": "6d1996de-7202-46f1-8c42-70d7622db779",
   "metadata": {
    "tags": []
   },
   "source": [
    "## Hyperparamters"
   ]
  },
  {
   "cell_type": "code",
   "execution_count": 15,
   "id": "eeaef85b-c8a3-4cb5-a6ad-bf6312f6f6e8",
   "metadata": {
    "scrolled": true,
    "tags": []
   },
   "outputs": [],
   "source": [
    "OPTIMIZER_CONFIG = {\n",
    "    \"__name__\": \"AdamW\",\n",
    "    \"lr\": 0.001,\n",
    "    \"betas\": (0.9, 0.999),\n",
    "    \"eps\": 1e-08,\n",
    "    \"weight_decay\": 0.001,\n",
    "    \"amsgrad\": False,\n",
    "}\n",
    "\n",
    "LR_SCHEDULER_CONFIG = {\n",
    "    \"__name__\": \"ReduceLROnPlateau\",\n",
    "    \"mode\": \"min\",\n",
    "    # (str) – One of min, max. In min mode, lr will be reduced when the quantity monitored has stopped decreasing; in max mode it will be reduced when the quantity monitored has stopped increasing. Default: ‘min’.\n",
    "    \"factor\": 0.1,\n",
    "    # (float) – Factor by which the learning rate will be reduced. new_lr = lr * factor. Default: 0.1.\n",
    "    \"patience\": 10,\n",
    "    # (int) – Number of epochs with no improvement after which learning rate will be reduced. For example, if patience = 2, then we will ignore the first 2 epochs with no improvement, and will only decrease the LR after the 3rd epoch if the loss still hasn’t improved then. Default: 10.\n",
    "    \"threshold\": 0.0001,\n",
    "    # (float) – Threshold for measuring the new optimum, to only focus on significant changes. Default: 1e-4.\n",
    "    \"threshold_mode\": \"rel\",\n",
    "    # (str) – One of rel, abs. In rel mode, dynamic_threshold = best * ( 1 + threshold ) in ‘max’ mode or best * ( 1 - threshold ) in min mode. In abs mode, dynamic_threshold = best + threshold in max mode or best - threshold in min mode. Default: ‘rel’.\n",
    "    \"cooldown\": 0,\n",
    "    # (int) – Number of epochs to wait before resuming normal operation after lr has been reduced. Default: 0.\n",
    "    \"min_lr\": 1e-08,\n",
    "    # (float or list) – A scalar or a list of scalars. A lower bound on the learning rate of all param groups or each group respectively. Default: 0.\n",
    "    \"eps\": 1e-08,\n",
    "    # (float) – Minimal decay applied to lr. If the difference between new and old lr is smaller than eps, the update is ignored. Default: 1e-8.\n",
    "    \"verbose\": True\n",
    "    # (bool) – If True, prints a message to stdout for each update. Default: False.\n",
    "}"
   ]
  },
  {
   "cell_type": "markdown",
   "id": "91c913f4-ea56-4e3c-ae29-2bf615e3464c",
   "metadata": {},
   "source": [
    "## Model"
   ]
  },
  {
   "cell_type": "code",
   "execution_count": 16,
   "id": "1ba10ccb-933b-431a-98a2-0ab0dcc36170",
   "metadata": {
    "tags": []
   },
   "outputs": [],
   "source": [
    "from tsdm.encoders.modular.torch import Time2Vec\n",
    "from tsdm.models.generic import MLP\n",
    "from tsdm.models.generic.rezero import ReZero, ReZeroMLP\n",
    "from tsdm.models.generic.conv1d import ConvBlock\n",
    "from tsdm.models.set_function_for_timeseries import GroupedSetFuncTS\n",
    "\n",
    "\n",
    "dim_time = 6\n",
    "dim_conv = FAST_DIM + 2 + dim_time - 1\n",
    "\n",
    "slow_encoder = ReZeroMLP(SLOW_DIM + 2 + dim_time - 1, 16)\n",
    "\n",
    "fast_encoder = nn.Sequential(\n",
    "    # nn.Conv1d(\n",
    "    #     16, 16, kernel_size=8, padding=\"same\", padding_mode=\"replicate\"\n",
    "    # ),\n",
    "    ReZero(ConvBlock(dim_conv), ConvBlock(dim_conv), ConvBlock(dim_conv)),\n",
    "    nn.AvgPool1d(16),\n",
    ")\n",
    "\n",
    "MODEL = GroupedSetFuncTS\n",
    "model = GroupedSetFuncTS(\n",
    "    input_size=16,\n",
    "    output_size=1,\n",
    "    fast_encoder=fast_encoder,\n",
    "    slow_encoder=slow_encoder,\n",
    "    latent_size=128,\n",
    "    dim_keys=64,\n",
    "    dim_vals=64,\n",
    "    dim_deepset=64,\n",
    "    dim_time=dim_time,\n",
    ")\n",
    "model.to(device=DEVICE, dtype=DTYPE)\n",
    "summary(model)"
   ]
  },
  {
   "cell_type": "markdown",
   "id": "844d9c1c-4c7c-419b-9dd4-d1ef6fce83fa",
   "metadata": {
    "tags": []
   },
   "source": [
    "### Warmup - test forward / backward pass"
   ]
  },
  {
   "cell_type": "code",
   "execution_count": 17,
   "id": "548fa2ca-f5d9-4bc5-a9c9-00f941065c3b",
   "metadata": {},
   "outputs": [],
   "source": [
    "data = encoder.encode(ts.loc[439, 15325].iloc[:100])\n",
    "model.zero_grad()\n",
    "y = model(*data)\n",
    "y.norm().backward()"
   ]
  },
  {
   "cell_type": "markdown",
   "id": "f83e71ba-af79-4c01-a587-3785154e4036",
   "metadata": {
    "tags": []
   },
   "source": [
    "## Initalize Optimizer"
   ]
  },
  {
   "cell_type": "code",
   "execution_count": 18,
   "id": "0c34d87a-a015-46c7-8448-19731bbf7d85",
   "metadata": {},
   "outputs": [],
   "source": [
    "from tsdm.optimizers import LR_SCHEDULERS, OPTIMIZERS\n",
    "from tsdm.utils import initialize_from\n",
    "\n",
    "OPTIMIZER_CONFIG |= {\"params\": model.parameters()}\n",
    "optimizer = initialize_from(OPTIMIZERS, **OPTIMIZER_CONFIG)"
   ]
  },
  {
   "cell_type": "markdown",
   "id": "3a9afe97-5756-4863-b42e-eafccc66eba6",
   "metadata": {},
   "source": [
    "## Load Existing Model instead"
   ]
  },
  {
   "cell_type": "code",
   "execution_count": 19,
   "id": "9f2613d2-d67a-4c2f-964d-244209514118",
   "metadata": {},
   "outputs": [],
   "source": [
    "# # load existing model & optimizer\n",
    "# from pathlib import Path\n",
    "\n",
    "# model_path = Path(\n",
    "#     \"/home/rscholz/Projects/KIWI/tsdm/examples/\"\n",
    "#     \"checkpoints/SetFuncTS/KIWI_RUNS/OD600-0-More_params/2022-02-07T00:55:25\"\n",
    "# )\n",
    "# model_name = \"SetFuncTS\"\n",
    "# optim_name = \"AdamW\"\n",
    "# model_versions = {}\n",
    "# optim_versions = {}\n",
    "\n",
    "# for file in model_path.iterdir():\n",
    "#     name, version = file.stem.split(\"-\")\n",
    "#     if name == model_name:\n",
    "#         model_versions[int(version)] = file\n",
    "#     if name == optim_name:\n",
    "#         optim_versions[int(version)] = file\n",
    "\n",
    "# MODEL = model_versions[max(model_versions)]\n",
    "# model = jit.load(MODEL)\n",
    "# MODEL = SetFuncTS\n",
    "# OPTIM = optim_versions[max(optim_versions)]\n",
    "# optim = torch.load(OPTIM)\n",
    "\n",
    "# epoch = optim[\"epoch\"]\n",
    "# batch_num = optim[\"batch\"]\n",
    "# optim = optim[\"optimizer\"]"
   ]
  },
  {
   "cell_type": "markdown",
   "id": "bf5892b9-c3ad-4b3b-992e-e082b600227c",
   "metadata": {
    "tags": []
   },
   "source": [
    "## Logging Utilities"
   ]
  },
  {
   "cell_type": "code",
   "execution_count": 20,
   "id": "4fb58f90-3da5-4b03-b398-25eb4cf0a643",
   "metadata": {},
   "outputs": [],
   "source": [
    "@torch.no_grad()\n",
    "def get_all_predictions(model, dataloader):\n",
    "    ys = []\n",
    "    yhats = []\n",
    "    for batch in tqdm(dataloader, leave=False):\n",
    "        # ts = batch.timeseries\n",
    "        # inputs = [(t.to(device=DEVICE),v.to(device=DEVICE), m.to(device=DEVICE)) for t,v,m in ts]\n",
    "        # yhats.append(model.batch_forward(inputs))\n",
    "        yhats.append(model.forward_batch(batch.timeseries))\n",
    "        ys.append(batch.encoded_targets.to(device=DEVICE))\n",
    "    y = torch.cat(ys)\n",
    "    yhat = torch.cat(yhats)\n",
    "    y = torch.tensor(target_encoder.decode(y))\n",
    "    yhat = torch.tensor(target_encoder.decode(yhat))\n",
    "    return y, yhat"
   ]
  },
  {
   "cell_type": "code",
   "execution_count": 21,
   "id": "d2919d5f-1d1f-4147-aacf-3e50d09230ff",
   "metadata": {},
   "outputs": [],
   "source": [
    "# def log_all(i, model, writer, optimizer):\n",
    "#     kernel = model.system.kernel.clone().detach().cpu()\n",
    "#     log_kernel_information(i, writer, kernel, histograms=True)\n",
    "#     log_optimizer_state(i, writer, optimizer, histograms=True)\n",
    "\n",
    "\n",
    "def log_hparams(i, writer, *, metric_dict, hparam_dict):\n",
    "    hparam_dict |= {\"epoch\": i}\n",
    "    metric_dict = add_prefix(metric_dict, \"hparam\")\n",
    "    writer.add_hparams(hparam_dict=hparam_dict, metric_dict=metric_dict)"
   ]
  },
  {
   "cell_type": "markdown",
   "id": "62361bf2-16b2-46b0-bc69-71bee7045422",
   "metadata": {
    "tags": []
   },
   "source": [
    "# Training"
   ]
  },
  {
   "cell_type": "code",
   "execution_count": 22,
   "id": "d1c6573b-5538-4d71-ae65-c314886f4b69",
   "metadata": {},
   "outputs": [],
   "source": [
    "RUN_START = tsdm.utils.now()\n",
    "CHECKPOINTDIR = Path(\n",
    "    f\"checkpoints/{MODEL.__name__}/{DATASET.name}/{RUN_NAME}/{RUN_START}\"\n",
    ")\n",
    "CHECKPOINTDIR.mkdir(parents=True, exist_ok=True)\n",
    "LOGGING_DIR = f\"runs/{MODEL.__name__}/{DATASET.name}/{RUN_NAME}/{RUN_START}\"\n",
    "writer = SummaryWriter(LOGGING_DIR)"
   ]
  },
  {
   "cell_type": "code",
   "execution_count": 23,
   "id": "98f8e9b5-c185-4ee6-8192-6a27c9a30708",
   "metadata": {
    "scrolled": true,
    "tags": []
   },
   "outputs": [],
   "source": [
    "i = 0  # batch_num\n",
    "epoch = 0  # epoch\n",
    "\n",
    "# with torch.no_grad():\n",
    "#     for key, dloader in {\"train\": TRAINLOADER, \"test\": EVALLOADER}.items():\n",
    "#         y, ŷ = get_all_predictions(model, dloader)\n",
    "#         assert torch.isfinite(y).all()\n",
    "#         log_metrics(epoch, writer=writer, metrics=metrics, targets=y, predics=ŷ, prefix=key)"
   ]
  },
  {
   "cell_type": "code",
   "execution_count": 24,
   "id": "97e9b5c3-8da4-4e5b-b4a5-f0dfac9ff450",
   "metadata": {
    "tags": []
   },
   "outputs": [],
   "source": [
    "for epoch in (epochs := range(epoch, epoch + 1000)):\n",
    "    if epoch == 1000:\n",
    "        for g in optimizer.param_groups:\n",
    "            g[\"lr\"] = 0.0001\n",
    "    batching_time = perf_counter()\n",
    "    for batch in (batches := tqdm(TRAINLOADER, leave=False)):\n",
    "        batching_time = perf_counter() - batching_time\n",
    "        i += 1\n",
    "        # Optimization step\n",
    "        model.zero_grad(set_to_none=True)\n",
    "        targets = batch.encoded_targets.to(device=DEVICE)\n",
    "\n",
    "        # forward\n",
    "        forward_time = perf_counter()\n",
    "        predics = model.forward_batch(batch.timeseries)\n",
    "        loss = LOSS(targets, predics)\n",
    "        forward_time = perf_counter() - forward_time\n",
    "\n",
    "        # backward\n",
    "        backward_time = perf_counter()\n",
    "        loss.backward()\n",
    "        backward_time = perf_counter() - backward_time\n",
    "\n",
    "        # step\n",
    "        optimizer.step()\n",
    "\n",
    "        # batch logging\n",
    "        with torch.no_grad():\n",
    "            logging_time = time()\n",
    "            if torch.any(~torch.isfinite(loss)):\n",
    "                raise RuntimeError(\"NaN/INF-value encountered!!\")\n",
    "\n",
    "            log_metrics(\n",
    "                i,\n",
    "                writer=writer,\n",
    "                metrics=metrics,\n",
    "                targets=targets.clone(),\n",
    "                predics=predics.clone(),\n",
    "                prefix=\"batch\",\n",
    "            )\n",
    "            log_optimizer_state(i, writer=writer, optimizer=optimizer, prefix=\"batch\")\n",
    "\n",
    "            # lval = loss.clone().detach().cpu().numpy()\n",
    "            # gval = grad_norm(list(model.parameters())).clone().detach().cpu().numpy()\n",
    "            logging_time = time() - logging_time\n",
    "\n",
    "        batches.set_postfix(\n",
    "            # gnorm=f\"{gval:.2e}\",\n",
    "            epoch=epoch,\n",
    "            loss=f\"{loss.clone().detach().cpu().numpy().item():.2e}\",\n",
    "            # Δt_forward=f\"{forward_time:.1f}\",\n",
    "            # Δt_backward=f\"{backward_time:.1f}\",\n",
    "            # Δt_logging=f\"{logging_time:.1f}\",\n",
    "            # Δt_batching=f\"{batching_time:.1f}\",\n",
    "        )\n",
    "        batching_time = perf_counter()\n",
    "\n",
    "    with torch.no_grad():\n",
    "        # end-of-epoch logging\n",
    "        for key, dloader in {\"train\": TRAINLOADER, \"test\": EVALLOADER}.items():\n",
    "            y, ŷ = get_all_predictions(model, dloader)\n",
    "            assert torch.isfinite(y).all()\n",
    "            log_metrics(\n",
    "                epoch, writer=writer, metrics=metrics, targets=y, predics=ŷ, prefix=key\n",
    "            )\n",
    "\n",
    "        # Model Checkpoint\n",
    "        torch.jit.save(model, CHECKPOINTDIR.joinpath(f\"{MODEL.__name__}-{epoch}\"))\n",
    "        torch.save(\n",
    "            {\n",
    "                \"optimizer\": optimizer,\n",
    "                \"optimizer_state\": optimizer.state_dict(),\n",
    "                \"epoch\": epoch,\n",
    "                \"batch\": i,\n",
    "            },\n",
    "            CHECKPOINTDIR.joinpath(f\"{optimizer.__class__.__name__}-{epoch}\"),\n",
    "        )"
   ]
  },
  {
   "cell_type": "markdown",
   "id": "605bef8a-a964-4dbe-b071-2e3e468b28c6",
   "metadata": {
    "tags": []
   },
   "source": [
    "# Post Training Analysis"
   ]
  },
  {
   "cell_type": "markdown",
   "id": "aea7e528-85a7-416e-b7b9-5a7e979ab466",
   "metadata": {},
   "source": [
    "# Profiling"
   ]
  },
  {
   "cell_type": "code",
   "execution_count": null,
   "id": "c5074e2d-ca8b-49ca-a7ee-7b495d6a1ebe",
   "metadata": {},
   "outputs": [],
   "source": [
    "raise"
   ]
  },
  {
   "cell_type": "code",
   "execution_count": null,
   "id": "69ac0c3f-ccfc-43ee-9f25-ead61773b0d8",
   "metadata": {},
   "outputs": [],
   "source": [
    "from torch.profiler import ProfilerActivity, profile, record_function\n",
    "\n",
    "with profile(\n",
    "    activities=[ProfilerActivity.CPU, ProfilerActivity.CUDA],\n",
    "    record_shapes=False,\n",
    "    profile_memory=False,\n",
    "    with_modules=True,\n",
    "    with_flops=True,\n",
    "    on_trace_ready=torch.profiler.tensorboard_trace_handler(\"profiling\"),\n",
    ") as prof:\n",
    "    for batch in tqdm(TRAINLOADER):\n",
    "        targets = batch.encoded_targets.to(device=DEVICE)\n",
    "        model.zero_grad(set_to_none=True)\n",
    "        predics = model.forward_batch(batch.timeseries)\n",
    "        loss = LOSS(targets, predics)\n",
    "        loss.backward()\n",
    "        optimizer.step()\n",
    "        break"
   ]
  },
  {
   "cell_type": "code",
   "execution_count": null,
   "id": "3a10b5b8-3233-43b5-90cd-1956281c4a7e",
   "metadata": {},
   "outputs": [],
   "source": [
    "print(prof.key_averages().table(sort_by=\"cuda_time_total\", row_limit=10))"
   ]
  },
  {
   "cell_type": "code",
   "execution_count": null,
   "id": "1e37192a-219d-4a0c-8d0c-126fbfa3e01d",
   "metadata": {},
   "outputs": [],
   "source": [
    "print(prof.key_averages().table(sort_by=\"cpu_time_total\", row_limit=10))"
   ]
  },
  {
   "cell_type": "code",
   "execution_count": null,
   "id": "c844c142-b28d-49eb-8271-9892968ce862",
   "metadata": {},
   "outputs": [],
   "source": [
    "with profile(\n",
    "    activities=[ProfilerActivity.CPU, ProfilerActivity.CUDA],\n",
    "    record_shapes=True,\n",
    "    profile_memory=True,\n",
    ") as prof:\n",
    "    model.forward_batch(inputs.timeseries)"
   ]
  },
  {
   "cell_type": "code",
   "execution_count": null,
   "id": "fbe31e70-550f-4cfd-b73e-3a026786a390",
   "metadata": {},
   "outputs": [],
   "source": [
    "print(prof.key_averages().table(sort_by=\"cuda_time_total\", row_limit=10))"
   ]
  },
  {
   "cell_type": "code",
   "execution_count": null,
   "id": "0fa42321-19e6-4e2e-9722-02abfe93519e",
   "metadata": {},
   "outputs": [],
   "source": [
    "print(prof.key_averages().table(sort_by=\"cpu_time_total\", row_limit=10))"
   ]
  }
 ],
 "metadata": {
  "kernelspec": {
   "display_name": "Python 3 (ipykernel)",
   "language": "python",
   "name": "python3"
  },
  "language_info": {
   "codemirror_mode": {
    "name": "ipython",
    "version": 3
   },
   "file_extension": ".py",
   "mimetype": "text/x-python",
   "name": "python",
   "nbconvert_exporter": "python",
   "pygments_lexer": "ipython3",
   "version": "3.9.10"
  }
 },
 "nbformat": 4,
 "nbformat_minor": 5
}
