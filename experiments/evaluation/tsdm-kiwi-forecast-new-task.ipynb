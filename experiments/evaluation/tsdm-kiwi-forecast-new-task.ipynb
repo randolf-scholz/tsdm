{
 "cells": [
  {
   "cell_type": "markdown",
   "metadata": {},
   "source": [
    "# Create a Forecast plot given a stored model"
   ]
  },
  {
   "cell_type": "markdown",
   "metadata": {},
   "source": [
    "### Notebook Configuration"
   ]
  },
  {
   "cell_type": "code",
   "execution_count": null,
   "metadata": {
    "execution": {
     "iopub.execute_input": "2022-11-29T14:46:28.475119Z",
     "iopub.status.busy": "2022-11-29T14:46:28.474827Z",
     "iopub.status.idle": "2022-11-29T14:46:29.601113Z",
     "shell.execute_reply": "2022-11-29T14:46:29.600661Z",
     "shell.execute_reply.started": "2022-11-29T14:46:28.475061Z"
    },
    "tags": []
   },
   "outputs": [],
   "source": [
    "%config InteractiveShell.ast_node_interactivity='last_expr_or_assign'  # always print last expr.\n",
    "%config InlineBackend.figure_format = 'svg'\n",
    "%load_ext autoreload\n",
    "%autoreload 2\n",
    "%matplotlib inline\n",
    "\n",
    "import logging\n",
    "import pickle\n",
    "from copy import deepcopy\n",
    "from pathlib import Path\n",
    "\n",
    "import matplotlib.dates as mdates\n",
    "import matplotlib.pyplot as plt\n",
    "import numpy as np\n",
    "import pandas\n",
    "import pandas as pd\n",
    "import torch\n",
    "import torchinfo\n",
    "from pandas import DataFrame, Index, Series, Timedelta, Timestamp\n",
    "from torch import Tensor, jit, tensor\n",
    "from torch.utils.data import DataLoader\n",
    "\n",
    "rng = np.random.default_rng()\n",
    "np.set_printoptions()\n",
    "plt.style.use(\"bmh\")\n",
    "plt.rcParams[\"axes.axisbelow\"] = True\n",
    "# logging.basicConfig(level=logging.INFO)"
   ]
  },
  {
   "cell_type": "markdown",
   "metadata": {},
   "source": [
    "### Enter Path and Name"
   ]
  },
  {
   "cell_type": "code",
   "execution_count": null,
   "metadata": {
    "execution": {
     "iopub.execute_input": "2022-11-29T14:46:29.602189Z",
     "iopub.status.busy": "2022-11-29T14:46:29.601918Z",
     "iopub.status.idle": "2022-11-29T14:46:29.622069Z",
     "shell.execute_reply": "2022-11-29T14:46:29.621209Z",
     "shell.execute_reply.started": "2022-11-29T14:46:29.602177Z"
    },
    "tags": []
   },
   "outputs": [],
   "source": [
    "Fold = 0\n",
    "Partition = \"test\"\n",
    "RunID = 449\n",
    "ExpID = 15653\n",
    "SplitID = (Fold, Partition)\n",
    "KEY = (RunID, ExpID)"
   ]
  },
  {
   "cell_type": "code",
   "execution_count": null,
   "metadata": {
    "execution": {
     "iopub.execute_input": "2022-11-29T14:46:29.623161Z",
     "iopub.status.busy": "2022-11-29T14:46:29.623020Z",
     "iopub.status.idle": "2022-11-29T14:46:29.649359Z",
     "shell.execute_reply": "2022-11-29T14:46:29.648425Z",
     "shell.execute_reply.started": "2022-11-29T14:46:29.623149Z"
    },
    "tags": []
   },
   "outputs": [],
   "source": [
    "# files:  2021-11-12T00:52:10 2021-11-12T00:51:55 2021-11-12T00:51:48\n",
    "# \"checkpoints/2021-11-15T12:05:00/LinODEnet-0\"\n",
    "# \"checkpoints/LinODEnet/KIWI_RUNS/skew_allways/2021-11-15T16:05:41/LinODEnet-0\"\n",
    "# \"adam/2021-11-15T20:38:52/LinODEnet-0\"\n",
    "PATH = Path(\"/home/rscholz/Projects/KIWI/tsdm/experiments/evaluation/checkpoints/\")\n",
    "PATH = PATH / \"\"\n",
    "# NAME = \"RecursiveScriptModule-30\"\n",
    "NAME = \"RecursiveScriptModule-100\"\n",
    "# the model checkpoint, should be a zip-archive created by torch.save / torch.jit.save\n",
    "MODEL_FILE = PATH / NAME\n",
    "DEVICE = torch.device(\"cpu\")\n",
    "DTYPE = torch.float32\n",
    "NAN = tensor(float(\"nan\"), dtype=DTYPE, device=DEVICE)\n",
    "PRD_HORIZON = \"2h\"\n",
    "OBS_HORIZON = \"2h\"\n",
    "# HORIZON = \"3h\""
   ]
  },
  {
   "cell_type": "markdown",
   "metadata": {},
   "source": [
    "## Intialize the task"
   ]
  },
  {
   "cell_type": "code",
   "execution_count": null,
   "metadata": {
    "execution": {
     "iopub.execute_input": "2022-11-29T14:46:29.650309Z",
     "iopub.status.busy": "2022-11-29T14:46:29.650136Z",
     "iopub.status.idle": "2022-11-29T14:46:31.369982Z",
     "shell.execute_reply": "2022-11-29T14:46:31.369268Z",
     "shell.execute_reply.started": "2022-11-29T14:46:29.650297Z"
    },
    "tags": []
   },
   "outputs": [],
   "source": [
    "from tsdm.tasks import KiwiTask\n",
    "\n",
    "task = KiwiTask(\n",
    "    sampler_kwargs=dict(\n",
    "        forecasting_horizon=PRD_HORIZON,\n",
    "        observation_horizon=OBS_HORIZON,\n",
    "    )\n",
    ")"
   ]
  },
  {
   "cell_type": "markdown",
   "metadata": {},
   "source": [
    "## Load the Model"
   ]
  },
  {
   "cell_type": "code",
   "execution_count": null,
   "metadata": {
    "execution": {
     "iopub.execute_input": "2022-11-29T14:46:31.370910Z",
     "iopub.status.busy": "2022-11-29T14:46:31.370672Z",
     "iopub.status.idle": "2022-11-29T14:46:31.511601Z",
     "shell.execute_reply": "2022-11-29T14:46:31.510461Z",
     "shell.execute_reply.started": "2022-11-29T14:46:31.370896Z"
    },
    "tags": []
   },
   "outputs": [],
   "source": [
    "model = torch.jit.load(MODEL_FILE, torch.device(\"cpu\"))\n",
    "torchinfo.summary(model, depth=1)"
   ]
  },
  {
   "cell_type": "code",
   "execution_count": null,
   "metadata": {
    "execution": {
     "iopub.status.busy": "2022-11-29T14:46:31.512195Z",
     "iopub.status.idle": "2022-11-29T14:46:31.512837Z",
     "shell.execute_reply": "2022-11-29T14:46:31.512726Z",
     "shell.execute_reply.started": "2022-11-29T14:46:31.512713Z"
    }
   },
   "outputs": [],
   "source": [
    "model.kernel"
   ]
  },
  {
   "cell_type": "markdown",
   "metadata": {},
   "source": [
    "## Load the Encoder"
   ]
  },
  {
   "cell_type": "code",
   "execution_count": null,
   "metadata": {
    "execution": {
     "iopub.status.busy": "2022-11-29T14:46:31.513392Z",
     "iopub.status.idle": "2022-11-29T14:46:31.513569Z",
     "shell.execute_reply": "2022-11-29T14:46:31.513488Z",
     "shell.execute_reply.started": "2022-11-29T14:46:31.513481Z"
    },
    "tags": []
   },
   "outputs": [],
   "source": [
    "with open(PATH / \"encoder.pickle\", \"rb\") as file:\n",
    "    encoder = pickle.load(file)\n",
    "encoder"
   ]
  },
  {
   "cell_type": "markdown",
   "metadata": {},
   "source": [
    "## Import Task"
   ]
  },
  {
   "cell_type": "code",
   "execution_count": null,
   "metadata": {
    "execution": {
     "iopub.status.busy": "2022-11-29T14:46:31.514129Z",
     "iopub.status.idle": "2022-11-29T14:46:31.514275Z",
     "shell.execute_reply": "2022-11-29T14:46:31.514210Z",
     "shell.execute_reply.started": "2022-11-29T14:46:31.514203Z"
    },
    "tags": []
   },
   "outputs": [],
   "source": [
    "split = task.splits[SplitID][KEY]\n",
    "# encoder = task.encoders[SplitID]\n",
    "sampler = task.samplers[SplitID][KEY]\n",
    "sampler.shuffle = False\n",
    "TS = split.timeseries\n",
    "\n",
    "from tsdm.tasks import TimeSeriesSampleGenerator\n",
    "\n",
    "generator = TimeSeriesSampleGenerator(\n",
    "    split,\n",
    "    observables=task.observables,\n",
    "    targets=task.targets,\n",
    "    covariates=task.covariates,\n",
    ")\n",
    "\n",
    "samples = [generator[key] for key in sampler];"
   ]
  },
  {
   "cell_type": "code",
   "execution_count": null,
   "metadata": {
    "execution": {
     "iopub.status.busy": "2022-11-29T14:46:31.514669Z",
     "iopub.status.idle": "2022-11-29T14:46:31.515033Z",
     "shell.execute_reply": "2022-11-29T14:46:31.514766Z",
     "shell.execute_reply.started": "2022-11-29T14:46:31.514759Z"
    },
    "tags": []
   },
   "outputs": [],
   "source": [
    "sample = samples[0]\n",
    "tx, x = encoder.encode(sample.inputs.x).values()\n",
    "tx, x = encoder.encode(sample.inputs.x).values()\n",
    "ty, y = encoder.encode(sample.targets.y).values()\n",
    "yhat = model(tx, x)\n",
    "reconstructed = encoder.decode({\"T\": tx, \"X\": yhat})"
   ]
  },
  {
   "cell_type": "code",
   "execution_count": null,
   "metadata": {
    "execution": {
     "iopub.status.busy": "2022-11-29T14:46:31.516121Z",
     "iopub.status.idle": "2022-11-29T14:46:31.516272Z",
     "shell.execute_reply": "2022-11-29T14:46:31.516204Z",
     "shell.execute_reply.started": "2022-11-29T14:46:31.516197Z"
    },
    "tags": []
   },
   "outputs": [],
   "source": [
    "reconstructed.index  # .loc[: task.observation_horizon]"
   ]
  },
  {
   "cell_type": "markdown",
   "metadata": {},
   "source": [
    "### Helper Function for Batch post-processing"
   ]
  },
  {
   "cell_type": "code",
   "execution_count": null,
   "metadata": {
    "execution": {
     "iopub.status.busy": "2022-11-29T14:46:31.516914Z",
     "iopub.status.idle": "2022-11-29T14:46:31.517058Z",
     "shell.execute_reply": "2022-11-29T14:46:31.516991Z",
     "shell.execute_reply.started": "2022-11-29T14:46:31.516984Z"
    },
    "tags": []
   },
   "outputs": [],
   "source": [
    "def prep_batch(batch: tuple[Tensor, Tensor]):\n",
    "    \"\"\"Get batch and create model inputs and targets.\"\"\"\n",
    "    T, X = batch\n",
    "    targets = X[..., task.observation_horizon :, task.targets.index].clone()\n",
    "    # assert targets.shape == (BATCH_SIZE, PRD_HORIZON, len(TASK.targets))\n",
    "    originals = X.clone()\n",
    "    inputs = X.clone()\n",
    "    inputs[:, task.observation_horizon :, task.targets.index] = NAN\n",
    "    inputs[:, task.observation_horizon :, task.observables.index] = NAN\n",
    "    # assert inputs.shape == (BATCH_SIZE, HORIZON, NUM_DIM)\n",
    "    return T, inputs, targets, originals"
   ]
  },
  {
   "cell_type": "markdown",
   "metadata": {
    "tags": []
   },
   "source": [
    "## Helper function to create the plot"
   ]
  },
  {
   "cell_type": "code",
   "execution_count": null,
   "metadata": {
    "execution": {
     "iopub.status.busy": "2022-11-29T14:46:31.517893Z",
     "iopub.status.idle": "2022-11-29T14:46:31.518086Z",
     "shell.execute_reply": "2022-11-29T14:46:31.518013Z",
     "shell.execute_reply.started": "2022-11-29T14:46:31.518006Z"
    },
    "tags": []
   },
   "outputs": [],
   "source": [
    "def make_plot(axes, task, sample):\n",
    "    \"\"\"Helper function to create plot automatically.\"\"\"\n",
    "    # batch = slices[0]\n",
    "    tx, x = encoder.encode(sample.inputs.x).values()\n",
    "    ty, y = encoder.encode(sample.targets.y).values()\n",
    "    yhat = model(tx, x)\n",
    "    reconstructed = encoder.decode({\"T\": tx, \"X\": yhat})\n",
    "    # mask = sample.inputs.x.notna() | sample.targets.y.notna()\n",
    "\n",
    "    time = reconstructed.index.to_series()\n",
    "    t0 = time[0]\n",
    "    t1 = t0 + pd.Timedelta(task.observation_horizon)\n",
    "    t2 = t1 + pd.Timedelta(task.forecasting_horizon)\n",
    "\n",
    "    # # convert to float\n",
    "    # time = time / np.timedelta64(1, \"h\")\n",
    "    # t0 = t0 / np.timedelta64(1, \"h\")\n",
    "    # t1 = t1 / np.timedelta64(1, \"h\")\n",
    "    # t2 = t2 / np.timedelta64(1, \"h\")\n",
    "    # reconstructed.index = time\n",
    "    # time = time.to_series()\n",
    "    # display(t0, t1,  time.loc[t0:t1])\n",
    "\n",
    "    for ax, target in zip(axes.flatten(), task.targets + task.covariates):\n",
    "        # color = next(ax._get_lines.prop_cycler)[\"color\"]\n",
    "        ax.axvspan(t0.to_numpy(), t1.to_numpy(), facecolor=\"grey\", alpha=0.3)\n",
    "        ax.axvspan(t1.to_numpy(), t2.to_numpy(), facecolor=\"green\", alpha=0.3)\n",
    "        ax.plot(\n",
    "            time.loc[t0:t1], reconstructed.loc[t0:t1, target], ls=\":\", lw=2, color=\"y\"\n",
    "        )\n",
    "        ax.plot(\n",
    "            time.loc[t1:t2], reconstructed.loc[t1:t2, target], ls=\"-\", lw=2, color=\"r\"\n",
    "        )"
   ]
  },
  {
   "cell_type": "markdown",
   "metadata": {},
   "source": [
    "### Create the Raw data plot"
   ]
  },
  {
   "cell_type": "code",
   "execution_count": null,
   "metadata": {
    "execution": {
     "iopub.status.busy": "2022-11-29T14:46:31.518835Z",
     "iopub.status.idle": "2022-11-29T14:46:31.518995Z",
     "shell.execute_reply": "2022-11-29T14:46:31.518921Z",
     "shell.execute_reply.started": "2022-11-29T14:46:31.518914Z"
    },
    "tags": []
   },
   "outputs": [],
   "source": [
    "%matplotlib widget\n",
    "\n",
    "fig, axes = plt.subplots(\n",
    "    nrows=5, ncols=3, sharex=True, figsize=(16, 8), constrained_layout=True\n",
    ")\n",
    "\n",
    "for ax, target in zip(axes.flatten(), task.targets + task.covariates):\n",
    "    data = TS[target]\n",
    "    times = TS.index.values\n",
    "    mask = ~np.isnan(data)\n",
    "    ax.plot(\n",
    "        times[mask],\n",
    "        data[mask],\n",
    "        ls=\":\",\n",
    "        lw=0.5,\n",
    "        marker=\".\",\n",
    "        ms=6,\n",
    "    )\n",
    "    if target == \"Fluo_GFP\":\n",
    "        ax.set_yscale(\"log\")\n",
    "    ax.legend([f\"{target} - observations\"])\n",
    "\n",
    "fig.suptitle(f\"{Fold=}  {Partition=}  {RunID=}  {ExpID=}\");"
   ]
  },
  {
   "cell_type": "markdown",
   "metadata": {},
   "source": [
    "### Add the model Forecast Plots"
   ]
  },
  {
   "cell_type": "code",
   "execution_count": null,
   "metadata": {
    "execution": {
     "iopub.status.busy": "2022-11-29T14:46:31.519520Z",
     "iopub.status.idle": "2022-11-29T14:46:31.519747Z",
     "shell.execute_reply": "2022-11-29T14:46:31.519674Z",
     "shell.execute_reply.started": "2022-11-29T14:46:31.519666Z"
    },
    "tags": []
   },
   "outputs": [],
   "source": [
    "grid = np.linspace(0, len(samples) - 1, num=3, dtype=int)\n",
    "# grid = [0]\n",
    "batch = [samples[key] for key in grid]\n",
    "\n",
    "for sample in batch:\n",
    "    make_plot(axes, task, sample)\n",
    "\n",
    "fig.savefig(f\"{NAME.replace(r'/', r'_')}_{PRD_HORIZON}.pdf\")\n",
    "fig.savefig(f\"{NAME.replace(r'/', r'_')}_{PRD_HORIZON}.png\")"
   ]
  },
  {
   "cell_type": "code",
   "execution_count": null,
   "metadata": {
    "execution": {
     "iopub.status.busy": "2022-11-29T14:46:31.520206Z",
     "iopub.status.idle": "2022-11-29T14:46:31.520353Z",
     "shell.execute_reply": "2022-11-29T14:46:31.520285Z",
     "shell.execute_reply.started": "2022-11-29T14:46:31.520278Z"
    },
    "tags": []
   },
   "outputs": [],
   "source": [
    "pd.Series(task.test_metrics[0, \"test\"].w.numpy(), index=TS.columns)"
   ]
  },
  {
   "cell_type": "code",
   "execution_count": null,
   "metadata": {
    "execution": {
     "iopub.status.busy": "2022-11-29T14:46:31.520956Z",
     "iopub.status.idle": "2022-11-29T14:46:31.521112Z",
     "shell.execute_reply": "2022-11-29T14:46:31.521043Z",
     "shell.execute_reply.started": "2022-11-29T14:46:31.521036Z"
    },
    "tags": []
   },
   "outputs": [],
   "source": [
    "(Path.cwd() / \"test.py\").name"
   ]
  },
  {
   "cell_type": "code",
   "execution_count": null,
   "metadata": {},
   "outputs": [],
   "source": []
  },
  {
   "cell_type": "code",
   "execution_count": null,
   "metadata": {
    "execution": {
     "iopub.status.busy": "2022-11-29T14:46:31.521647Z",
     "iopub.status.idle": "2022-11-29T14:46:31.521792Z",
     "shell.execute_reply": "2022-11-29T14:46:31.521725Z",
     "shell.execute_reply.started": "2022-11-29T14:46:31.521718Z"
    },
    "tags": []
   },
   "outputs": [],
   "source": [
    "raise"
   ]
  }
 ],
 "metadata": {
  "kernelspec": {
   "display_name": "Python 3 (ipykernel)",
   "language": "python",
   "name": "python3"
  },
  "language_info": {
   "codemirror_mode": {
    "name": "ipython",
    "version": 3
   },
   "file_extension": ".py",
   "mimetype": "text/x-python",
   "name": "python",
   "nbconvert_exporter": "python",
   "pygments_lexer": "ipython3",
   "version": "3.10.8"
  }
 },
 "nbformat": 4,
 "nbformat_minor": 4
}
