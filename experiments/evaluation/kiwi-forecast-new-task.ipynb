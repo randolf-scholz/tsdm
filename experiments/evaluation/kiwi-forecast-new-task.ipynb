{
 "cells": [
  {
   "cell_type": "markdown",
   "metadata": {},
   "source": [
    "# Create a Forecast plot given a stored model"
   ]
  },
  {
   "cell_type": "markdown",
   "metadata": {},
   "source": [
    "### Notebook Configuration"
   ]
  },
  {
   "cell_type": "code",
   "execution_count": null,
   "metadata": {
    "execution": {
     "iopub.execute_input": "2022-11-16T18:24:29.309962Z",
     "iopub.status.busy": "2022-11-16T18:24:29.309788Z",
     "iopub.status.idle": "2022-11-16T18:24:30.757521Z",
     "shell.execute_reply": "2022-11-16T18:24:30.756930Z",
     "shell.execute_reply.started": "2022-11-16T18:24:29.309919Z"
    },
    "tags": []
   },
   "outputs": [],
   "source": [
    "%config InteractiveShell.ast_node_interactivity='last_expr_or_assign'  # always print last expr.\n",
    "%config InlineBackend.figure_format = 'svg'\n",
    "%load_ext autoreload\n",
    "%autoreload 2\n",
    "%matplotlib inline\n",
    "\n",
    "import logging\n",
    "import pickle\n",
    "from copy import deepcopy\n",
    "from pathlib import Path\n",
    "\n",
    "import matplotlib.dates as mdates\n",
    "import matplotlib.pyplot as plt\n",
    "import numpy as np\n",
    "import pandas\n",
    "import pandas as pd\n",
    "import torch\n",
    "import torchinfo\n",
    "from pandas import DataFrame, Index, Series, Timedelta, Timestamp\n",
    "from torch import Tensor, jit, tensor\n",
    "from torch.utils.data import DataLoader\n",
    "\n",
    "rng = np.random.default_rng()\n",
    "np.set_printoptions()\n",
    "plt.style.use(\"bmh\")\n",
    "plt.rcParams[\"axes.axisbelow\"] = True\n",
    "# logging.basicConfig(level=logging.INFO)"
   ]
  },
  {
   "cell_type": "markdown",
   "metadata": {},
   "source": [
    "### Enter Path and Name"
   ]
  },
  {
   "cell_type": "code",
   "execution_count": null,
   "metadata": {
    "execution": {
     "iopub.execute_input": "2022-11-16T18:24:30.759034Z",
     "iopub.status.busy": "2022-11-16T18:24:30.758798Z",
     "iopub.status.idle": "2022-11-16T18:24:30.778292Z",
     "shell.execute_reply": "2022-11-16T18:24:30.777722Z",
     "shell.execute_reply.started": "2022-11-16T18:24:30.759019Z"
    },
    "tags": []
   },
   "outputs": [],
   "source": [
    "Fold = 0\n",
    "Partition = \"test\"\n",
    "RunID = 449\n",
    "ExpID = 15653\n",
    "SplitID = (Fold, Partition)\n",
    "KEY = (RunID, ExpID)"
   ]
  },
  {
   "cell_type": "code",
   "execution_count": null,
   "metadata": {
    "execution": {
     "iopub.execute_input": "2022-11-16T18:24:30.779264Z",
     "iopub.status.busy": "2022-11-16T18:24:30.779055Z",
     "iopub.status.idle": "2022-11-16T18:24:30.799399Z",
     "shell.execute_reply": "2022-11-16T18:24:30.798865Z",
     "shell.execute_reply.started": "2022-11-16T18:24:30.779245Z"
    },
    "tags": []
   },
   "outputs": [],
   "source": [
    "# files:  2021-11-12T00:52:10 2021-11-12T00:51:55 2021-11-12T00:51:48\n",
    "# \"checkpoints/2021-11-15T12:05:00/LinODEnet-0\"\n",
    "# \"checkpoints/LinODEnet/KIWI_RUNS/skew_allways/2021-11-15T16:05:41/LinODEnet-0\"\n",
    "# \"adam/2021-11-15T20:38:52/LinODEnet-0\"\n",
    "PATH = Path(\"/home/rscholz/Projects/KIWI/tsdm/experiments/evaluation/checkpoints/\")\n",
    "NAME = \"RecursiveScriptModule-30\"\n",
    "# the model checkpoint, should be a zip-archive created by torch.save / torch.jit.save\n",
    "MODEL_FILE = PATH / NAME\n",
    "DEVICE = torch.device(\"cpu\")\n",
    "DTYPE = torch.float32\n",
    "NAN = tensor(float(\"nan\"), dtype=DTYPE, device=DEVICE)\n",
    "PRD_HORIZON = \"2h\"\n",
    "OBS_HORIZON = \"2h\"\n",
    "# HORIZON = \"3h\""
   ]
  },
  {
   "cell_type": "markdown",
   "metadata": {},
   "source": [
    "## Intialize the task"
   ]
  },
  {
   "cell_type": "code",
   "execution_count": null,
   "metadata": {
    "execution": {
     "iopub.execute_input": "2022-11-16T18:24:30.800557Z",
     "iopub.status.busy": "2022-11-16T18:24:30.800278Z",
     "iopub.status.idle": "2022-11-16T18:24:32.537781Z",
     "shell.execute_reply": "2022-11-16T18:24:32.537191Z",
     "shell.execute_reply.started": "2022-11-16T18:24:30.800532Z"
    },
    "tags": []
   },
   "outputs": [],
   "source": [
    "from tsdm.tasks import KiwiTask\n",
    "\n",
    "task = KiwiTask(\n",
    "    sampler_kwargs=dict(\n",
    "        forecasting_horizon=PRD_HORIZON,\n",
    "        observation_horizon=OBS_HORIZON,\n",
    "    )\n",
    ")"
   ]
  },
  {
   "cell_type": "markdown",
   "metadata": {},
   "source": [
    "## Load the Model"
   ]
  },
  {
   "cell_type": "code",
   "execution_count": null,
   "metadata": {
    "execution": {
     "iopub.execute_input": "2022-11-16T18:24:32.538799Z",
     "iopub.status.busy": "2022-11-16T18:24:32.538475Z",
     "iopub.status.idle": "2022-11-16T18:24:32.633871Z",
     "shell.execute_reply": "2022-11-16T18:24:32.633191Z",
     "shell.execute_reply.started": "2022-11-16T18:24:32.538782Z"
    },
    "tags": []
   },
   "outputs": [],
   "source": [
    "model = torch.jit.load(MODEL_FILE, torch.device(\"cpu\"))\n",
    "torchinfo.summary(model, depth=1)"
   ]
  },
  {
   "cell_type": "markdown",
   "metadata": {},
   "source": [
    "## Load the Encoder"
   ]
  },
  {
   "cell_type": "code",
   "execution_count": null,
   "metadata": {
    "execution": {
     "iopub.execute_input": "2022-11-16T18:24:32.634684Z",
     "iopub.status.busy": "2022-11-16T18:24:32.634494Z",
     "iopub.status.idle": "2022-11-16T18:24:32.667383Z",
     "shell.execute_reply": "2022-11-16T18:24:32.666712Z",
     "shell.execute_reply.started": "2022-11-16T18:24:32.634660Z"
    },
    "tags": []
   },
   "outputs": [],
   "source": [
    "with open(PATH / \"encoder.pickle\", \"rb\") as file:\n",
    "    encoder = pickle.load(file)\n",
    "encoder"
   ]
  },
  {
   "cell_type": "markdown",
   "metadata": {},
   "source": [
    "## Import Task"
   ]
  },
  {
   "cell_type": "code",
   "execution_count": null,
   "metadata": {
    "execution": {
     "iopub.execute_input": "2022-11-16T18:24:32.669107Z",
     "iopub.status.busy": "2022-11-16T18:24:32.668863Z",
     "iopub.status.idle": "2022-11-16T18:24:33.513116Z",
     "shell.execute_reply": "2022-11-16T18:24:33.512217Z",
     "shell.execute_reply.started": "2022-11-16T18:24:32.669091Z"
    },
    "tags": []
   },
   "outputs": [],
   "source": [
    "split = task.splits[SplitID][KEY]\n",
    "# encoder = task.encoders[SplitID]\n",
    "sampler = task.samplers[SplitID][KEY]\n",
    "sampler.shuffle = False\n",
    "TS = split.timeseries\n",
    "\n",
    "from tsdm.tasks import TimeSeriesSampleGenerator\n",
    "\n",
    "generator = TimeSeriesSampleGenerator(\n",
    "    split,\n",
    "    observables=task.observables,\n",
    "    targets=task.targets,\n",
    "    covariates=task.covariates,\n",
    ")\n",
    "\n",
    "samples = [generator[key] for key in sampler];"
   ]
  },
  {
   "cell_type": "code",
   "execution_count": null,
   "metadata": {
    "execution": {
     "iopub.execute_input": "2022-11-16T18:24:33.513963Z",
     "iopub.status.busy": "2022-11-16T18:24:33.513793Z",
     "iopub.status.idle": "2022-11-16T18:24:34.681279Z",
     "shell.execute_reply": "2022-11-16T18:24:34.680681Z",
     "shell.execute_reply.started": "2022-11-16T18:24:33.513948Z"
    },
    "tags": []
   },
   "outputs": [],
   "source": [
    "sample = samples[0]\n",
    "tx, x = encoder.encode(sample.inputs.x).values()\n",
    "tx, x = encoder.encode(sample.inputs.x).values()\n",
    "ty, y = encoder.encode(sample.targets.y).values()\n",
    "yhat = model(tx, x)\n",
    "reconstructed = encoder.decode({\"T\": tx, \"X\": yhat})"
   ]
  },
  {
   "cell_type": "code",
   "execution_count": null,
   "metadata": {
    "execution": {
     "iopub.execute_input": "2022-11-16T18:24:34.682338Z",
     "iopub.status.busy": "2022-11-16T18:24:34.682120Z",
     "iopub.status.idle": "2022-11-16T18:24:34.714426Z",
     "shell.execute_reply": "2022-11-16T18:24:34.713525Z",
     "shell.execute_reply.started": "2022-11-16T18:24:34.682321Z"
    },
    "tags": []
   },
   "outputs": [],
   "source": [
    "reconstructed.index  # .loc[: task.observation_horizon]"
   ]
  },
  {
   "cell_type": "markdown",
   "metadata": {},
   "source": [
    "### Helper Function for Batch post-processing"
   ]
  },
  {
   "cell_type": "code",
   "execution_count": null,
   "metadata": {
    "execution": {
     "iopub.execute_input": "2022-11-16T18:24:34.715962Z",
     "iopub.status.busy": "2022-11-16T18:24:34.715650Z",
     "iopub.status.idle": "2022-11-16T18:24:34.751299Z",
     "shell.execute_reply": "2022-11-16T18:24:34.750584Z",
     "shell.execute_reply.started": "2022-11-16T18:24:34.715938Z"
    },
    "tags": []
   },
   "outputs": [],
   "source": [
    "def prep_batch(batch: tuple[Tensor, Tensor]):\n",
    "    \"\"\"Get batch and create model inputs and targets.\"\"\"\n",
    "    T, X = batch\n",
    "    targets = X[..., task.observation_horizon :, task.targets.index].clone()\n",
    "    # assert targets.shape == (BATCH_SIZE, PRD_HORIZON, len(TASK.targets))\n",
    "    originals = X.clone()\n",
    "    inputs = X.clone()\n",
    "    inputs[:, task.observation_horizon :, task.targets.index] = NAN\n",
    "    inputs[:, task.observation_horizon :, task.observables.index] = NAN\n",
    "    # assert inputs.shape == (BATCH_SIZE, HORIZON, NUM_DIM)\n",
    "    return T, inputs, targets, originals"
   ]
  },
  {
   "cell_type": "markdown",
   "metadata": {
    "tags": []
   },
   "source": [
    "## Helper function to create the plot"
   ]
  },
  {
   "cell_type": "code",
   "execution_count": null,
   "metadata": {
    "execution": {
     "iopub.execute_input": "2022-11-16T18:24:34.752966Z",
     "iopub.status.busy": "2022-11-16T18:24:34.752400Z",
     "iopub.status.idle": "2022-11-16T18:24:34.801307Z",
     "shell.execute_reply": "2022-11-16T18:24:34.800486Z",
     "shell.execute_reply.started": "2022-11-16T18:24:34.752932Z"
    },
    "tags": []
   },
   "outputs": [],
   "source": [
    "def make_plot(axes, task, sample):\n",
    "    \"\"\"Helper function to create plot automatically.\"\"\"\n",
    "    # batch = slices[0]\n",
    "    tx, x = encoder.encode(sample.inputs.x).values()\n",
    "    ty, y = encoder.encode(sample.targets.y).values()\n",
    "    yhat = model(tx, x)\n",
    "    reconstructed = encoder.decode({\"T\": tx, \"X\": yhat})\n",
    "    # mask = sample.inputs.x.notna() | sample.targets.y.notna()\n",
    "\n",
    "    time = reconstructed.index.to_series()\n",
    "    t0 = time[0]\n",
    "    t1 = t0 + pd.Timedelta(task.observation_horizon)\n",
    "    t2 = t1 + pd.Timedelta(task.forecasting_horizon)\n",
    "\n",
    "    # # convert to float\n",
    "    # time = time / np.timedelta64(1, \"h\")\n",
    "    # t0 = t0 / np.timedelta64(1, \"h\")\n",
    "    # t1 = t1 / np.timedelta64(1, \"h\")\n",
    "    # t2 = t2 / np.timedelta64(1, \"h\")\n",
    "    # reconstructed.index = time\n",
    "    # time = time.to_series()\n",
    "    # display(t0, t1,  time.loc[t0:t1])\n",
    "\n",
    "    for ax, target in zip(axes.flatten(), task.targets):\n",
    "        # color = next(ax._get_lines.prop_cycler)[\"color\"]\n",
    "        ax.axvspan(t0.to_numpy(), t1.to_numpy(), facecolor=\"grey\", alpha=0.3)\n",
    "        ax.axvspan(t1.to_numpy(), t2.to_numpy(), facecolor=\"green\", alpha=0.3)\n",
    "        ax.plot(\n",
    "            time.loc[t0:t1], reconstructed.loc[t0:t1, target], ls=\":\", lw=2, color=\"y\"\n",
    "        )\n",
    "        ax.plot(\n",
    "            time.loc[t1:t2], reconstructed.loc[t1:t2, target], ls=\"-\", lw=2, color=\"r\"\n",
    "        )"
   ]
  },
  {
   "cell_type": "markdown",
   "metadata": {},
   "source": [
    "### Create the Raw data plot"
   ]
  },
  {
   "cell_type": "code",
   "execution_count": null,
   "metadata": {
    "execution": {
     "iopub.execute_input": "2022-11-16T18:24:34.802863Z",
     "iopub.status.busy": "2022-11-16T18:24:34.802525Z",
     "iopub.status.idle": "2022-11-16T18:24:36.123010Z",
     "shell.execute_reply": "2022-11-16T18:24:36.122262Z",
     "shell.execute_reply.started": "2022-11-16T18:24:34.802833Z"
    },
    "tags": []
   },
   "outputs": [],
   "source": [
    "%matplotlib widget\n",
    "\n",
    "fig, axes = plt.subplots(\n",
    "    nrows=3, ncols=3, sharex=True, figsize=(16, 8), constrained_layout=True\n",
    ")\n",
    "\n",
    "for ax, target in zip(axes.flatten(), task.targets):\n",
    "    data = TS[target]\n",
    "    times = TS.index.values\n",
    "    mask = ~np.isnan(data)\n",
    "    ax.plot(\n",
    "        times[mask],\n",
    "        data[mask],\n",
    "        ls=\":\",\n",
    "        lw=0.5,\n",
    "        marker=\".\",\n",
    "        ms=6,\n",
    "    )\n",
    "    ax.legend([f\"{target} - observations\"])\n",
    "\n",
    "fig.suptitle(f\"{Fold=}  {Partition=}  {RunID=}  {ExpID=}\");"
   ]
  },
  {
   "cell_type": "markdown",
   "metadata": {},
   "source": [
    "### Add the model Forecast Plots"
   ]
  },
  {
   "cell_type": "code",
   "execution_count": null,
   "metadata": {
    "execution": {
     "iopub.execute_input": "2022-11-16T18:24:36.124061Z",
     "iopub.status.busy": "2022-11-16T18:24:36.123836Z",
     "iopub.status.idle": "2022-11-16T18:24:41.612454Z",
     "shell.execute_reply": "2022-11-16T18:24:41.611868Z",
     "shell.execute_reply.started": "2022-11-16T18:24:36.124042Z"
    },
    "tags": []
   },
   "outputs": [],
   "source": [
    "grid = np.linspace(0, len(samples) - 1, num=3, dtype=int)\n",
    "# grid = [0]\n",
    "batch = [samples[key] for key in grid]\n",
    "\n",
    "for sample in batch:\n",
    "    make_plot(axes, task, sample)\n",
    "\n",
    "fig.savefig(f\"{NAME.replace(r'/', r'_')}_{PRD_HORIZON}.pdf\")"
   ]
  },
  {
   "cell_type": "code",
   "execution_count": null,
   "metadata": {
    "execution": {
     "iopub.execute_input": "2022-11-16T18:24:41.613546Z",
     "iopub.status.busy": "2022-11-16T18:24:41.613324Z",
     "iopub.status.idle": "2022-11-16T18:24:41.892377Z",
     "shell.execute_reply": "2022-11-16T18:24:41.891375Z",
     "shell.execute_reply.started": "2022-11-16T18:24:41.613529Z"
    },
    "tags": []
   },
   "outputs": [],
   "source": [
    "raise"
   ]
  },
  {
   "cell_type": "code",
   "execution_count": null,
   "metadata": {},
   "outputs": [],
   "source": []
  },
  {
   "cell_type": "code",
   "execution_count": null,
   "metadata": {
    "execution": {
     "iopub.execute_input": "2022-11-16T18:27:22.216269Z",
     "iopub.status.busy": "2022-11-16T18:27:22.216002Z",
     "iopub.status.idle": "2022-11-16T18:27:22.236686Z",
     "shell.execute_reply": "2022-11-16T18:27:22.236149Z",
     "shell.execute_reply.started": "2022-11-16T18:27:22.216250Z"
    },
    "tags": []
   },
   "outputs": [],
   "source": [
    "from torch.optim import AdamW"
   ]
  },
  {
   "cell_type": "code",
   "execution_count": null,
   "metadata": {
    "execution": {
     "iopub.execute_input": "2022-11-16T18:27:22.311179Z",
     "iopub.status.busy": "2022-11-16T18:27:22.310499Z",
     "iopub.status.idle": "2022-11-16T18:27:22.334105Z",
     "shell.execute_reply": "2022-11-16T18:27:22.333711Z",
     "shell.execute_reply.started": "2022-11-16T18:27:22.311158Z"
    }
   },
   "outputs": [],
   "source": [
    "hparams = {\n",
    "    \"optimizer\": {\n",
    "        \"__name__\": \"AdamW\",\n",
    "        \"__module__\": \"torch.optim\",\n",
    "        \"lr\": 0.001,\n",
    "        \"betas\": (0.9, 0.999),\n",
    "    }\n",
    "}"
   ]
  },
  {
   "cell_type": "code",
   "execution_count": null,
   "metadata": {
    "execution": {
     "iopub.execute_input": "2022-11-16T18:30:29.288390Z",
     "iopub.status.busy": "2022-11-16T18:30:29.288127Z",
     "iopub.status.idle": "2022-11-16T18:30:29.308843Z",
     "shell.execute_reply": "2022-11-16T18:30:29.308139Z",
     "shell.execute_reply.started": "2022-11-16T18:30:29.288373Z"
    },
    "tags": []
   },
   "outputs": [],
   "source": [
    "import yaml"
   ]
  },
  {
   "cell_type": "code",
   "execution_count": null,
   "metadata": {
    "execution": {
     "iopub.execute_input": "2022-11-16T18:31:01.481012Z",
     "iopub.status.busy": "2022-11-16T18:31:01.480646Z",
     "iopub.status.idle": "2022-11-16T18:31:01.513774Z",
     "shell.execute_reply": "2022-11-16T18:31:01.512950Z",
     "shell.execute_reply.started": "2022-11-16T18:31:01.480986Z"
    }
   },
   "outputs": [],
   "source": [
    "with open(\"hparams.yaml\", \"w\") as file:\n",
    "    yaml.safe_dump(hparams, file)"
   ]
  },
  {
   "cell_type": "code",
   "execution_count": null,
   "metadata": {},
   "outputs": [],
   "source": []
  }
 ],
 "metadata": {
  "kernelspec": {
   "display_name": "Python 3 (ipykernel)",
   "language": "python",
   "name": "python3"
  },
  "language_info": {
   "codemirror_mode": {
    "name": "ipython",
    "version": 3
   },
   "file_extension": ".py",
   "mimetype": "text/x-python",
   "name": "python",
   "nbconvert_exporter": "python",
   "pygments_lexer": "ipython3",
   "version": "3.10.6"
  }
 },
 "nbformat": 4,
 "nbformat_minor": 4
}
