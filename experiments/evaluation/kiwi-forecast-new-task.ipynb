{
 "cells": [
  {
   "cell_type": "markdown",
   "metadata": {},
   "source": [
    "# Create a Forecast plot given a stored model"
   ]
  },
  {
   "cell_type": "markdown",
   "metadata": {},
   "source": [
    "### Notebook Configuration"
   ]
  },
  {
   "cell_type": "code",
   "execution_count": null,
   "metadata": {
    "execution": {
     "iopub.execute_input": "2022-11-29T14:47:15.026444Z",
     "iopub.status.busy": "2022-11-29T14:47:15.026231Z",
     "iopub.status.idle": "2022-11-29T14:47:15.338396Z",
     "shell.execute_reply": "2022-11-29T14:47:15.338033Z",
     "shell.execute_reply.started": "2022-11-29T14:47:15.026361Z"
    },
    "tags": []
   },
   "outputs": [],
   "source": [
    "%config InteractiveShell.ast_node_interactivity='last_expr_or_assign'  # always print last expr.\n",
    "%config InlineBackend.figure_format = 'svg'\n",
    "%load_ext autoreload\n",
    "%autoreload 2\n",
    "%matplotlib inline"
   ]
  },
  {
   "cell_type": "code",
   "execution_count": null,
   "metadata": {
    "execution": {
     "iopub.execute_input": "2022-11-29T14:47:15.339406Z",
     "iopub.status.busy": "2022-11-29T14:47:15.339182Z",
     "iopub.status.idle": "2022-11-29T14:47:16.126820Z",
     "shell.execute_reply": "2022-11-29T14:47:16.126308Z",
     "shell.execute_reply.started": "2022-11-29T14:47:15.339393Z"
    },
    "tags": []
   },
   "outputs": [],
   "source": [
    "import logging\n",
    "import pickle\n",
    "from copy import deepcopy\n",
    "from pathlib import Path\n",
    "\n",
    "import matplotlib.dates as mdates\n",
    "import matplotlib.pyplot as plt\n",
    "import numpy as np\n",
    "import pandas\n",
    "import pandas as pd\n",
    "import torch\n",
    "from pandas import DataFrame, Index, Series, Timedelta, Timestamp\n",
    "from torch import Tensor, jit, tensor\n",
    "from torch.utils.data import DataLoader\n",
    "from torchinfo import summary\n",
    "\n",
    "rng = np.random.default_rng()\n",
    "np.set_printoptions()\n",
    "plt.style.use(\"bmh\")\n",
    "plt.rcParams[\"axes.axisbelow\"] = True\n",
    "# logging.basicConfig(level=logging.INFO)"
   ]
  },
  {
   "cell_type": "markdown",
   "metadata": {},
   "source": [
    "### Enter Path and Name"
   ]
  },
  {
   "cell_type": "code",
   "execution_count": null,
   "metadata": {
    "execution": {
     "iopub.execute_input": "2022-11-29T14:47:16.127576Z",
     "iopub.status.busy": "2022-11-29T14:47:16.127383Z",
     "iopub.status.idle": "2022-11-29T14:47:16.145516Z",
     "shell.execute_reply": "2022-11-29T14:47:16.144922Z",
     "shell.execute_reply.started": "2022-11-29T14:47:16.127566Z"
    },
    "tags": []
   },
   "outputs": [],
   "source": [
    "Fold = 0\n",
    "Partition = \"test\"\n",
    "RunID = 449\n",
    "ExpID = 15653\n",
    "SplitID = (Fold, Partition)\n",
    "KEY = (RunID, ExpID)\n",
    "\n",
    "DEVICE = torch.device(\"cpu\")\n",
    "DTYPE = torch.float32\n",
    "NAN = tensor(float(\"nan\"), dtype=DTYPE, device=DEVICE)\n",
    "PRD_HORIZON = \"2h\"\n",
    "OBS_HORIZON = \"2h\"\n",
    "# HORIZON = \"3h\""
   ]
  },
  {
   "cell_type": "markdown",
   "metadata": {},
   "source": [
    "## Intialize the task"
   ]
  },
  {
   "cell_type": "code",
   "execution_count": null,
   "metadata": {
    "execution": {
     "iopub.execute_input": "2022-11-29T14:47:16.146912Z",
     "iopub.status.busy": "2022-11-29T14:47:16.146254Z",
     "iopub.status.idle": "2022-11-29T14:47:17.860244Z",
     "shell.execute_reply": "2022-11-29T14:47:17.859809Z",
     "shell.execute_reply.started": "2022-11-29T14:47:16.146901Z"
    },
    "tags": []
   },
   "outputs": [],
   "source": [
    "from tsdm.tasks import KiwiTask\n",
    "\n",
    "task = KiwiTask(\n",
    "    sampler_kwargs=dict(\n",
    "        forecasting_horizon=PRD_HORIZON,\n",
    "        observation_horizon=OBS_HORIZON,\n",
    "    )\n",
    ")"
   ]
  },
  {
   "cell_type": "markdown",
   "metadata": {},
   "source": [
    "## Load the Model"
   ]
  },
  {
   "cell_type": "code",
   "execution_count": null,
   "metadata": {
    "execution": {
     "iopub.execute_input": "2022-11-29T14:47:17.861401Z",
     "iopub.status.busy": "2022-11-29T14:47:17.861064Z",
     "iopub.status.idle": "2022-11-29T14:47:18.065910Z",
     "shell.execute_reply": "2022-11-29T14:47:18.065295Z",
     "shell.execute_reply.started": "2022-11-29T14:47:17.861373Z"
    },
    "tags": []
   },
   "outputs": [],
   "source": [
    "from tsdm.models.pretrained import LinODEnet\n",
    "\n",
    "pretrained = LinODEnet()\n",
    "model = pretrained.model.to(device=\"cpu\")\n",
    "summary(model, depth=2)"
   ]
  },
  {
   "cell_type": "code",
   "execution_count": null,
   "metadata": {
    "execution": {
     "iopub.execute_input": "2022-11-29T14:47:18.067310Z",
     "iopub.status.busy": "2022-11-29T14:47:18.067092Z",
     "iopub.status.idle": "2022-11-29T14:47:18.094907Z",
     "shell.execute_reply": "2022-11-29T14:47:18.094448Z",
     "shell.execute_reply.started": "2022-11-29T14:47:18.067296Z"
    },
    "tags": []
   },
   "outputs": [],
   "source": [
    "encoder = pretrained.encoder"
   ]
  },
  {
   "cell_type": "markdown",
   "metadata": {},
   "source": [
    "## Import Task"
   ]
  },
  {
   "cell_type": "code",
   "execution_count": null,
   "metadata": {
    "execution": {
     "iopub.execute_input": "2022-11-29T14:47:18.096344Z",
     "iopub.status.busy": "2022-11-29T14:47:18.096184Z",
     "iopub.status.idle": "2022-11-29T14:47:18.745096Z",
     "shell.execute_reply": "2022-11-29T14:47:18.744453Z",
     "shell.execute_reply.started": "2022-11-29T14:47:18.096333Z"
    },
    "tags": []
   },
   "outputs": [],
   "source": [
    "split = task.splits[SplitID][KEY]\n",
    "# encoder = task.encoders[SplitID]\n",
    "sampler = task.samplers[SplitID][KEY]\n",
    "sampler.shuffle = False\n",
    "TS = split.timeseries\n",
    "\n",
    "from tsdm.tasks import TimeSeriesSampleGenerator\n",
    "\n",
    "generator = TimeSeriesSampleGenerator(\n",
    "    split,\n",
    "    observables=task.observables,\n",
    "    targets=task.targets,\n",
    "    covariates=task.covariates,\n",
    ")\n",
    "\n",
    "samples = [generator[key] for key in sampler];"
   ]
  },
  {
   "cell_type": "code",
   "execution_count": null,
   "metadata": {
    "execution": {
     "iopub.execute_input": "2022-11-29T14:47:18.746488Z",
     "iopub.status.busy": "2022-11-29T14:47:18.746053Z",
     "iopub.status.idle": "2022-11-29T14:47:19.710655Z",
     "shell.execute_reply": "2022-11-29T14:47:19.710195Z",
     "shell.execute_reply.started": "2022-11-29T14:47:18.746370Z"
    },
    "tags": []
   },
   "outputs": [],
   "source": [
    "sample = samples[0]\n",
    "tx, x = encoder.encode(sample.inputs.x).values()\n",
    "tx, x = encoder.encode(sample.inputs.x).values()\n",
    "ty, y = encoder.encode(sample.targets.y).values()\n",
    "yhat = model(tx, x)\n",
    "reconstructed = encoder.decode({\"T\": tx, \"X\": yhat})"
   ]
  },
  {
   "cell_type": "code",
   "execution_count": null,
   "metadata": {
    "execution": {
     "iopub.execute_input": "2022-11-29T14:47:19.711694Z",
     "iopub.status.busy": "2022-11-29T14:47:19.711392Z",
     "iopub.status.idle": "2022-11-29T14:47:19.742803Z",
     "shell.execute_reply": "2022-11-29T14:47:19.742052Z",
     "shell.execute_reply.started": "2022-11-29T14:47:19.711673Z"
    },
    "tags": []
   },
   "outputs": [],
   "source": [
    "reconstructed.index  # .loc[: task.observation_horizon]"
   ]
  },
  {
   "cell_type": "markdown",
   "metadata": {},
   "source": [
    "### Helper Function for Batch post-processing"
   ]
  },
  {
   "cell_type": "code",
   "execution_count": null,
   "metadata": {
    "execution": {
     "iopub.execute_input": "2022-11-29T14:47:19.743951Z",
     "iopub.status.busy": "2022-11-29T14:47:19.743579Z",
     "iopub.status.idle": "2022-11-29T14:47:19.781505Z",
     "shell.execute_reply": "2022-11-29T14:47:19.780838Z",
     "shell.execute_reply.started": "2022-11-29T14:47:19.743931Z"
    },
    "tags": []
   },
   "outputs": [],
   "source": [
    "def prep_batch(batch: tuple[Tensor, Tensor]):\n",
    "    \"\"\"Get batch and create model inputs and targets.\"\"\"\n",
    "    T, X = batch\n",
    "    targets = X[..., task.observation_horizon :, task.targets.index].clone()\n",
    "    # assert targets.shape == (BATCH_SIZE, PRD_HORIZON, len(TASK.targets))\n",
    "    originals = X.clone()\n",
    "    inputs = X.clone()\n",
    "    inputs[:, task.observation_horizon :, task.targets.index] = NAN\n",
    "    inputs[:, task.observation_horizon :, task.observables.index] = NAN\n",
    "    # assert inputs.shape == (BATCH_SIZE, HORIZON, NUM_DIM)\n",
    "    return T, inputs, targets, originals"
   ]
  },
  {
   "cell_type": "markdown",
   "metadata": {
    "tags": []
   },
   "source": [
    "## Helper function to create the plot"
   ]
  },
  {
   "cell_type": "code",
   "execution_count": null,
   "metadata": {
    "execution": {
     "iopub.execute_input": "2022-11-29T14:47:19.782557Z",
     "iopub.status.busy": "2022-11-29T14:47:19.782312Z",
     "iopub.status.idle": "2022-11-29T14:47:19.813244Z",
     "shell.execute_reply": "2022-11-29T14:47:19.812625Z",
     "shell.execute_reply.started": "2022-11-29T14:47:19.782540Z"
    },
    "tags": []
   },
   "outputs": [],
   "source": [
    "def make_plot(axes, task, sample):\n",
    "    \"\"\"Helper function to create plot automatically.\"\"\"\n",
    "    # batch = slices[0]\n",
    "    tx, x = encoder.encode(sample.inputs.x).values()\n",
    "    # ty, y = encoder.encode(sample.targets.y).values()\n",
    "    yhat = model(tx, x)\n",
    "    reconstructed = encoder.decode({\"T\": tx, \"X\": yhat})\n",
    "    # mask = sample.inputs.x.notna() | sample.targets.y.notna()\n",
    "\n",
    "    time = reconstructed.index.to_series()\n",
    "    t0 = time[0]\n",
    "    t1 = t0 + pd.Timedelta(task.observation_horizon)\n",
    "    t2 = t1 + pd.Timedelta(task.forecasting_horizon)\n",
    "\n",
    "    # # convert to float\n",
    "    # time = time / np.timedelta64(1, \"h\")\n",
    "    # t0 = t0 / np.timedelta64(1, \"h\")\n",
    "    # t1 = t1 / np.timedelta64(1, \"h\")\n",
    "    # t2 = t2 / np.timedelta64(1, \"h\")\n",
    "    # reconstructed.index = time\n",
    "    # time = time.to_series()\n",
    "    # display(t0, t1,  time.loc[t0:t1])\n",
    "\n",
    "    for ax, target in zip(axes.flatten(), task.targets):\n",
    "        # color = next(ax._get_lines.prop_cycler)[\"color\"]\n",
    "        ax.axvspan(t0.to_numpy(), t1.to_numpy(), facecolor=\"grey\", alpha=0.3)\n",
    "        ax.axvspan(t1.to_numpy(), t2.to_numpy(), facecolor=\"green\", alpha=0.3)\n",
    "        ax.plot(\n",
    "            time.loc[t0:t1], reconstructed.loc[t0:t1, target], ls=\":\", lw=2, color=\"y\"\n",
    "        )\n",
    "        ax.plot(\n",
    "            time.loc[t1:t2], reconstructed.loc[t1:t2, target], ls=\"-\", lw=2, color=\"r\"\n",
    "        )"
   ]
  },
  {
   "cell_type": "markdown",
   "metadata": {},
   "source": [
    "### Create the Raw data plot"
   ]
  },
  {
   "cell_type": "code",
   "execution_count": null,
   "metadata": {
    "execution": {
     "iopub.execute_input": "2022-11-29T14:47:19.814313Z",
     "iopub.status.busy": "2022-11-29T14:47:19.814050Z",
     "iopub.status.idle": "2022-11-29T14:47:20.782203Z",
     "shell.execute_reply": "2022-11-29T14:47:20.781754Z",
     "shell.execute_reply.started": "2022-11-29T14:47:19.814295Z"
    },
    "tags": []
   },
   "outputs": [],
   "source": [
    "%matplotlib widget\n",
    "\n",
    "fig, axes = plt.subplots(\n",
    "    nrows=3, ncols=3, sharex=True, figsize=(16, 8), constrained_layout=True\n",
    ")\n",
    "\n",
    "for ax, target in zip(axes.flatten(), task.targets):\n",
    "    data = TS[target]\n",
    "    times = TS.index.values\n",
    "    mask = ~np.isnan(data)\n",
    "    ax.plot(\n",
    "        times[mask],\n",
    "        data[mask],\n",
    "        ls=\":\",\n",
    "        lw=0.5,\n",
    "        marker=\".\",\n",
    "        ms=6,\n",
    "    )\n",
    "    ax.legend([f\"{target} - observations\"])\n",
    "\n",
    "fig.suptitle(f\"{Fold=}  {Partition=}  {RunID=}  {ExpID=}\");"
   ]
  },
  {
   "cell_type": "markdown",
   "metadata": {},
   "source": [
    "### Add the model Forecast Plots"
   ]
  },
  {
   "cell_type": "code",
   "execution_count": null,
   "metadata": {
    "execution": {
     "iopub.execute_input": "2022-11-29T14:47:20.783015Z",
     "iopub.status.busy": "2022-11-29T14:47:20.782853Z",
     "iopub.status.idle": "2022-11-29T14:47:23.473801Z",
     "shell.execute_reply": "2022-11-29T14:47:23.472756Z",
     "shell.execute_reply.started": "2022-11-29T14:47:20.782999Z"
    },
    "tags": []
   },
   "outputs": [],
   "source": [
    "grid = np.linspace(0, len(samples) - 1, num=3, dtype=int)\n",
    "# grid = [0]\n",
    "batch = [samples[key] for key in grid]\n",
    "\n",
    "for sample in batch:\n",
    "    make_plot(axes, task, sample)\n",
    "\n",
    "fig.savefig(f\"{NAME.replace(r'/', r'_')}_{PRD_HORIZON}.pdf\")"
   ]
  },
  {
   "cell_type": "code",
   "execution_count": null,
   "metadata": {
    "execution": {
     "iopub.status.busy": "2022-11-29T14:47:23.474285Z",
     "iopub.status.idle": "2022-11-29T14:47:23.474531Z",
     "shell.execute_reply": "2022-11-29T14:47:23.474448Z",
     "shell.execute_reply.started": "2022-11-29T14:47:23.474439Z"
    },
    "tags": []
   },
   "outputs": [],
   "source": [
    "raise"
   ]
  },
  {
   "cell_type": "code",
   "execution_count": null,
   "metadata": {},
   "outputs": [],
   "source": []
  }
 ],
 "metadata": {
  "kernelspec": {
   "display_name": "Python 3 (ipykernel)",
   "language": "python",
   "name": "python3"
  },
  "language_info": {
   "codemirror_mode": {
    "name": "ipython",
    "version": 3
   },
   "file_extension": ".py",
   "mimetype": "text/x-python",
   "name": "python",
   "nbconvert_exporter": "python",
   "pygments_lexer": "ipython3",
   "version": "3.10.6"
  }
 },
 "nbformat": 4,
 "nbformat_minor": 4
}
