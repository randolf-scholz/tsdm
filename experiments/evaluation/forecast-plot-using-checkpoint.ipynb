{
 "cells": [
  {
   "cell_type": "markdown",
   "metadata": {},
   "source": [
    "# Create a Forecast plot given a stored model"
   ]
  },
  {
   "cell_type": "markdown",
   "metadata": {},
   "source": [
    "### Notebook Configuration"
   ]
  },
  {
   "cell_type": "code",
   "execution_count": null,
   "metadata": {
    "execution": {
     "iopub.execute_input": "2022-12-01T16:52:07.426122Z",
     "iopub.status.busy": "2022-12-01T16:52:07.425808Z",
     "iopub.status.idle": "2022-12-01T16:52:07.721453Z",
     "shell.execute_reply": "2022-12-01T16:52:07.720977Z",
     "shell.execute_reply.started": "2022-12-01T16:52:07.426062Z"
    },
    "tags": []
   },
   "outputs": [],
   "source": [
    "%config InteractiveShell.ast_node_interactivity='last_expr_or_assign'  # always print last expr.\n",
    "%config InlineBackend.figure_format = 'svg'\n",
    "%load_ext autoreload\n",
    "%autoreload 2\n",
    "%matplotlib inline"
   ]
  },
  {
   "cell_type": "code",
   "execution_count": null,
   "metadata": {
    "execution": {
     "iopub.execute_input": "2022-12-01T16:52:07.722562Z",
     "iopub.status.busy": "2022-12-01T16:52:07.722408Z",
     "iopub.status.idle": "2022-12-01T16:52:08.602138Z",
     "shell.execute_reply": "2022-12-01T16:52:08.601613Z",
     "shell.execute_reply.started": "2022-12-01T16:52:07.722550Z"
    },
    "tags": []
   },
   "outputs": [],
   "source": [
    "import logging\n",
    "import pickle\n",
    "from copy import deepcopy\n",
    "from pathlib import Path\n",
    "\n",
    "import matplotlib.dates as mdates\n",
    "import matplotlib.pyplot as plt\n",
    "import numpy as np\n",
    "import pandas\n",
    "import pandas as pd\n",
    "import torch\n",
    "import torchinfo\n",
    "from pandas import DataFrame, Index, Series, Timedelta, Timestamp\n",
    "from torch import Tensor, jit, tensor\n",
    "from torch.utils.data import DataLoader\n",
    "\n",
    "rng = np.random.default_rng()\n",
    "np.set_printoptions()\n",
    "plt.style.use(\"bmh\")\n",
    "plt.rcParams[\"axes.axisbelow\"] = True\n",
    "# logging.basicConfig(level=logging.INFO)"
   ]
  },
  {
   "cell_type": "markdown",
   "metadata": {},
   "source": [
    "### Enter Path and Name"
   ]
  },
  {
   "cell_type": "code",
   "execution_count": null,
   "metadata": {
    "execution": {
     "iopub.execute_input": "2022-12-01T16:52:08.602927Z",
     "iopub.status.busy": "2022-12-01T16:52:08.602734Z",
     "iopub.status.idle": "2022-12-01T16:52:08.618988Z",
     "shell.execute_reply": "2022-12-01T16:52:08.618542Z",
     "shell.execute_reply.started": "2022-12-01T16:52:08.602915Z"
    },
    "tags": []
   },
   "outputs": [],
   "source": [
    "Fold = 0\n",
    "Partition = \"test\"\n",
    "\n",
    "TEST_IDS = [\n",
    "    (439, 15327),\n",
    "    (445, 15495),\n",
    "    (449, 15645),\n",
    "    (468, 15995),\n",
    "    (474, 16110),\n",
    "    (475, 16130),\n",
    "    (482, 16283),\n",
    "    (484, 16335),\n",
    "    (510, 16850),\n",
    "    (557, 17862),\n",
    "]\n",
    "RunID, ExpID = TEST_IDS[-3]\n",
    "\n",
    "SplitID = (Fold, Partition)\n",
    "KEY = (RunID, ExpID)"
   ]
  },
  {
   "cell_type": "code",
   "execution_count": null,
   "metadata": {
    "execution": {
     "iopub.execute_input": "2022-12-01T16:52:08.619650Z",
     "iopub.status.busy": "2022-12-01T16:52:08.619539Z",
     "iopub.status.idle": "2022-12-01T16:52:08.634464Z",
     "shell.execute_reply": "2022-12-01T16:52:08.633996Z",
     "shell.execute_reply.started": "2022-12-01T16:52:08.619638Z"
    },
    "tags": []
   },
   "outputs": [],
   "source": [
    "# files:  2021-11-12T00:52:10 2021-11-12T00:51:55 2021-11-12T00:51:48\n",
    "# \"checkpoints/2021-11-15T12:05:00/LinODEnet-0\"\n",
    "# \"checkpoints/LinODEnet/KIWI_RUNS/skew_allways/2021-11-15T16:05:41/LinODEnet-0\"\n",
    "# \"adam/2021-11-15T20:38:52/LinODEnet-0\"\n",
    "PATH = Path(\"/home/rscholz/Projects/KIWI/tsdm/experiments/evaluation/checkpoints/\")\n",
    "PATH = PATH / \"2022-12-01-linodenet-40\"\n",
    "# NAME = \"RecursiveScriptModule-30\"\n",
    "NAME = \"LinODEnet\"\n",
    "# the model checkpoint, should be a zip-archive created by torch.save / torch.jit.save\n",
    "MODEL_FILE = PATH / NAME\n",
    "DEVICE = torch.device(\"cpu\")\n",
    "DTYPE = torch.float32\n",
    "NAN = tensor(float(\"nan\"), dtype=DTYPE, device=DEVICE)\n",
    "PRD_HORIZON = \"2h\"\n",
    "OBS_HORIZON = \"2h\"\n",
    "# HORIZON = \"3h\""
   ]
  },
  {
   "cell_type": "markdown",
   "metadata": {},
   "source": [
    "## Intialize the task"
   ]
  },
  {
   "cell_type": "code",
   "execution_count": null,
   "metadata": {
    "execution": {
     "iopub.execute_input": "2022-12-01T16:52:08.635122Z",
     "iopub.status.busy": "2022-12-01T16:52:08.635004Z",
     "iopub.status.idle": "2022-12-01T16:52:12.237574Z",
     "shell.execute_reply": "2022-12-01T16:52:12.237053Z",
     "shell.execute_reply.started": "2022-12-01T16:52:08.635111Z"
    },
    "tags": []
   },
   "outputs": [],
   "source": [
    "from tsdm.tasks import KiwiTask\n",
    "\n",
    "task = KiwiTask(\n",
    "    sampler_kwargs=dict(\n",
    "        forecasting_horizon=PRD_HORIZON,\n",
    "        observation_horizon=OBS_HORIZON,\n",
    "    )\n",
    ")"
   ]
  },
  {
   "cell_type": "markdown",
   "metadata": {},
   "source": [
    "## Load the Model"
   ]
  },
  {
   "cell_type": "code",
   "execution_count": null,
   "metadata": {
    "execution": {
     "iopub.execute_input": "2022-12-01T16:52:12.238379Z",
     "iopub.status.busy": "2022-12-01T16:52:12.238148Z",
     "iopub.status.idle": "2022-12-01T16:52:12.319520Z",
     "shell.execute_reply": "2022-12-01T16:52:12.319035Z",
     "shell.execute_reply.started": "2022-12-01T16:52:12.238367Z"
    },
    "tags": []
   },
   "outputs": [],
   "source": [
    "model = torch.jit.load(MODEL_FILE, torch.device(\"cpu\"))\n",
    "torchinfo.summary(model, depth=1)"
   ]
  },
  {
   "cell_type": "code",
   "execution_count": null,
   "metadata": {
    "execution": {
     "iopub.execute_input": "2022-12-01T16:52:12.321057Z",
     "iopub.status.busy": "2022-12-01T16:52:12.320936Z",
     "iopub.status.idle": "2022-12-01T16:52:12.359971Z",
     "shell.execute_reply": "2022-12-01T16:52:12.359598Z",
     "shell.execute_reply.started": "2022-12-01T16:52:12.321046Z"
    },
    "tags": []
   },
   "outputs": [],
   "source": [
    "model.kernel"
   ]
  },
  {
   "cell_type": "markdown",
   "metadata": {},
   "source": [
    "## Load the Encoder"
   ]
  },
  {
   "cell_type": "code",
   "execution_count": null,
   "metadata": {
    "execution": {
     "iopub.execute_input": "2022-12-01T16:52:12.360592Z",
     "iopub.status.busy": "2022-12-01T16:52:12.360483Z",
     "iopub.status.idle": "2022-12-01T16:52:12.383950Z",
     "shell.execute_reply": "2022-12-01T16:52:12.383485Z",
     "shell.execute_reply.started": "2022-12-01T16:52:12.360582Z"
    },
    "tags": []
   },
   "outputs": [],
   "source": [
    "with open(PATH / \"encoder.pickle\", \"rb\") as file:\n",
    "    encoder = pickle.load(file)\n",
    "encoder"
   ]
  },
  {
   "cell_type": "markdown",
   "metadata": {},
   "source": [
    "## Import Task"
   ]
  },
  {
   "cell_type": "code",
   "execution_count": null,
   "metadata": {
    "execution": {
     "iopub.execute_input": "2022-12-01T16:52:12.384639Z",
     "iopub.status.busy": "2022-12-01T16:52:12.384521Z",
     "iopub.status.idle": "2022-12-01T16:52:13.051426Z",
     "shell.execute_reply": "2022-12-01T16:52:13.050904Z",
     "shell.execute_reply.started": "2022-12-01T16:52:12.384628Z"
    },
    "tags": []
   },
   "outputs": [],
   "source": [
    "split = task.splits[SplitID][KEY]\n",
    "# encoder = task.encoders[SplitID]\n",
    "sampler = task.samplers[SplitID][KEY]\n",
    "sampler.shuffle = False\n",
    "TS = split.timeseries\n",
    "\n",
    "from tsdm.tasks import TimeSeriesSampleGenerator\n",
    "\n",
    "generator = TimeSeriesSampleGenerator(\n",
    "    split,\n",
    "    observables=task.observables,\n",
    "    targets=task.targets,\n",
    "    covariates=task.covariates,\n",
    ")\n",
    "\n",
    "samples = [generator[key] for key in sampler];"
   ]
  },
  {
   "cell_type": "code",
   "execution_count": null,
   "metadata": {
    "execution": {
     "iopub.execute_input": "2022-12-01T16:52:13.052201Z",
     "iopub.status.busy": "2022-12-01T16:52:13.052085Z",
     "iopub.status.idle": "2022-12-01T16:52:14.860976Z",
     "shell.execute_reply": "2022-12-01T16:52:14.860558Z",
     "shell.execute_reply.started": "2022-12-01T16:52:13.052190Z"
    },
    "tags": []
   },
   "outputs": [],
   "source": [
    "sample = samples[0]\n",
    "tx, x = encoder.encode(sample.inputs.x).values()\n",
    "tx, x = encoder.encode(sample.inputs.x).values()\n",
    "ty, y = encoder.encode(sample.targets.y).values()\n",
    "yhat = model(tx, x)\n",
    "reconstructed = encoder.decode({\"T\": tx, \"X\": yhat})"
   ]
  },
  {
   "cell_type": "code",
   "execution_count": null,
   "metadata": {
    "execution": {
     "iopub.execute_input": "2022-12-01T16:52:14.861767Z",
     "iopub.status.busy": "2022-12-01T16:52:14.861537Z",
     "iopub.status.idle": "2022-12-01T16:52:14.881984Z",
     "shell.execute_reply": "2022-12-01T16:52:14.881601Z",
     "shell.execute_reply.started": "2022-12-01T16:52:14.861748Z"
    },
    "tags": []
   },
   "outputs": [],
   "source": [
    "reconstructed.index  # .loc[: task.observation_horizon]"
   ]
  },
  {
   "cell_type": "markdown",
   "metadata": {},
   "source": [
    "### Helper Function for Batch post-processing"
   ]
  },
  {
   "cell_type": "code",
   "execution_count": null,
   "metadata": {
    "execution": {
     "iopub.execute_input": "2022-12-01T16:52:14.882793Z",
     "iopub.status.busy": "2022-12-01T16:52:14.882508Z",
     "iopub.status.idle": "2022-12-01T16:52:14.902765Z",
     "shell.execute_reply": "2022-12-01T16:52:14.902372Z",
     "shell.execute_reply.started": "2022-12-01T16:52:14.882774Z"
    },
    "tags": []
   },
   "outputs": [],
   "source": [
    "def prep_batch(batch: tuple[Tensor, Tensor]):\n",
    "    \"\"\"Get batch and create model inputs and targets.\"\"\"\n",
    "    T, X = batch\n",
    "    targets = X[..., task.observation_horizon :, task.targets.index].clone()\n",
    "    # assert targets.shape == (BATCH_SIZE, PRD_HORIZON, len(TASK.targets))\n",
    "    originals = X.clone()\n",
    "    inputs = X.clone()\n",
    "    inputs[:, task.observation_horizon :, task.targets.index] = NAN\n",
    "    inputs[:, task.observation_horizon :, task.observables.index] = NAN\n",
    "    # assert inputs.shape == (BATCH_SIZE, HORIZON, NUM_DIM)\n",
    "    return T, inputs, targets, originals"
   ]
  },
  {
   "cell_type": "markdown",
   "metadata": {
    "tags": []
   },
   "source": [
    "## Helper function to create the plot"
   ]
  },
  {
   "cell_type": "code",
   "execution_count": null,
   "metadata": {
    "execution": {
     "iopub.execute_input": "2022-12-01T16:52:14.903425Z",
     "iopub.status.busy": "2022-12-01T16:52:14.903254Z",
     "iopub.status.idle": "2022-12-01T16:52:14.924083Z",
     "shell.execute_reply": "2022-12-01T16:52:14.923685Z",
     "shell.execute_reply.started": "2022-12-01T16:52:14.903413Z"
    },
    "tags": []
   },
   "outputs": [],
   "source": [
    "def make_plot(axes, task, sample):\n",
    "    \"\"\"Helper function to create plot automatically.\"\"\"\n",
    "    # batch = slices[0]\n",
    "    tx, x = encoder.encode(sample.inputs.x).values()\n",
    "    ty, y = encoder.encode(sample.targets.y).values()\n",
    "    yhat = model(tx, x)\n",
    "    reconstructed = encoder.decode({\"T\": tx, \"X\": yhat})\n",
    "    # mask = sample.inputs.x.notna() | sample.targets.y.notna()\n",
    "\n",
    "    time = reconstructed.index.to_series()\n",
    "    t0 = time[0]\n",
    "    t1 = t0 + pd.Timedelta(task.observation_horizon)\n",
    "    t2 = t1 + pd.Timedelta(task.forecasting_horizon)\n",
    "\n",
    "    # # convert to float\n",
    "    # time = time / np.timedelta64(1, \"h\")\n",
    "    # t0 = t0 / np.timedelta64(1, \"h\")\n",
    "    # t1 = t1 / np.timedelta64(1, \"h\")\n",
    "    # t2 = t2 / np.timedelta64(1, \"h\")\n",
    "    # reconstructed.index = time\n",
    "    # time = time.to_series()\n",
    "    # display(t0, t1,  time.loc[t0:t1])\n",
    "\n",
    "    for ax, target in zip(axes.flatten(), task.targets + task.covariates):\n",
    "        # color = next(ax._get_lines.prop_cycler)[\"color\"]\n",
    "        ax.axvspan(t0.to_numpy(), t1.to_numpy(), facecolor=\"grey\", alpha=0.3)\n",
    "        ax.axvspan(t1.to_numpy(), t2.to_numpy(), facecolor=\"green\", alpha=0.3)\n",
    "        ax.plot(\n",
    "            time.loc[t0:t1], reconstructed.loc[t0:t1, target], ls=\":\", lw=2, color=\"y\"\n",
    "        )\n",
    "        ax.plot(\n",
    "            time.loc[t1:t2], reconstructed.loc[t1:t2, target], ls=\"-\", lw=2, color=\"r\"\n",
    "        )"
   ]
  },
  {
   "cell_type": "markdown",
   "metadata": {},
   "source": [
    "### Create the Raw data plot"
   ]
  },
  {
   "cell_type": "code",
   "execution_count": null,
   "metadata": {
    "execution": {
     "iopub.execute_input": "2022-12-01T16:52:14.924693Z",
     "iopub.status.busy": "2022-12-01T16:52:14.924572Z",
     "iopub.status.idle": "2022-12-01T16:52:16.228927Z",
     "shell.execute_reply": "2022-12-01T16:52:16.228445Z",
     "shell.execute_reply.started": "2022-12-01T16:52:14.924681Z"
    },
    "tags": []
   },
   "outputs": [],
   "source": [
    "%matplotlib widget\n",
    "\n",
    "fig, axes = plt.subplots(\n",
    "    nrows=5, ncols=3, sharex=True, figsize=(16, 8), constrained_layout=True\n",
    ")\n",
    "\n",
    "for ax, target in zip(axes.flatten(), task.targets + task.covariates):\n",
    "    data = TS[target]\n",
    "    times = TS.index.values\n",
    "    mask = ~np.isnan(data)\n",
    "    ax.plot(\n",
    "        times[mask],\n",
    "        data[mask],\n",
    "        ls=\":\",\n",
    "        lw=0.5,\n",
    "        marker=\".\",\n",
    "        ms=6,\n",
    "    )\n",
    "    if target == \"Fluo_GFP\":\n",
    "        ax.set_yscale(\"log\")\n",
    "    ax.legend([f\"{target} - observations\"])\n",
    "\n",
    "fig.suptitle(f\"{Fold=}  {Partition=}  {RunID=}  {ExpID=}\");"
   ]
  },
  {
   "cell_type": "markdown",
   "metadata": {},
   "source": [
    "### Add the model Forecast Plots"
   ]
  },
  {
   "cell_type": "code",
   "execution_count": null,
   "metadata": {
    "execution": {
     "iopub.execute_input": "2022-12-01T16:52:16.229966Z",
     "iopub.status.busy": "2022-12-01T16:52:16.229753Z",
     "iopub.status.idle": "2022-12-01T16:52:24.194989Z",
     "shell.execute_reply": "2022-12-01T16:52:24.194530Z",
     "shell.execute_reply.started": "2022-12-01T16:52:16.229953Z"
    },
    "tags": []
   },
   "outputs": [],
   "source": [
    "grid = np.linspace(0, len(samples) - 1, num=3, dtype=int)\n",
    "# grid = [0]\n",
    "batch = [samples[key] for key in grid]\n",
    "\n",
    "for sample in batch:\n",
    "    make_plot(axes, task, sample)\n",
    "\n",
    "fig.savefig(f\"{NAME.replace(r'/', r'_')}_{PRD_HORIZON}.pdf\")\n",
    "fig.savefig(f\"{NAME.replace(r'/', r'_')}_{PRD_HORIZON}.png\")"
   ]
  },
  {
   "cell_type": "code",
   "execution_count": null,
   "metadata": {
    "execution": {
     "iopub.execute_input": "2022-12-01T16:52:24.195704Z",
     "iopub.status.busy": "2022-12-01T16:52:24.195555Z",
     "iopub.status.idle": "2022-12-01T16:52:24.303809Z",
     "shell.execute_reply": "2022-12-01T16:52:24.302957Z",
     "shell.execute_reply.started": "2022-12-01T16:52:24.195692Z"
    }
   },
   "outputs": [],
   "source": [
    "raise"
   ]
  },
  {
   "cell_type": "code",
   "execution_count": null,
   "metadata": {
    "execution": {
     "iopub.status.busy": "2022-12-01T16:52:24.304270Z",
     "iopub.status.idle": "2022-12-01T16:52:24.304423Z",
     "shell.execute_reply": "2022-12-01T16:52:24.304352Z",
     "shell.execute_reply.started": "2022-12-01T16:52:24.304345Z"
    },
    "tags": []
   },
   "outputs": [],
   "source": [
    "(Path.cwd() / \"test.py\").name"
   ]
  },
  {
   "cell_type": "code",
   "execution_count": null,
   "metadata": {},
   "outputs": [],
   "source": []
  },
  {
   "cell_type": "code",
   "execution_count": null,
   "metadata": {},
   "outputs": [],
   "source": []
  },
  {
   "cell_type": "code",
   "execution_count": null,
   "metadata": {
    "execution": {
     "iopub.status.busy": "2022-12-01T16:52:24.305270Z",
     "iopub.status.idle": "2022-12-01T16:52:24.305467Z",
     "shell.execute_reply": "2022-12-01T16:52:24.305398Z",
     "shell.execute_reply.started": "2022-12-01T16:52:24.305390Z"
    },
    "tags": []
   },
   "outputs": [],
   "source": [
    "torch.stack(res, dim=1).shape"
   ]
  },
  {
   "cell_type": "code",
   "execution_count": null,
   "metadata": {
    "execution": {
     "iopub.status.busy": "2022-12-01T16:52:24.306249Z",
     "iopub.status.idle": "2022-12-01T16:52:24.306600Z",
     "shell.execute_reply": "2022-12-01T16:52:24.306455Z",
     "shell.execute_reply.started": "2022-12-01T16:52:24.306440Z"
    }
   },
   "outputs": [],
   "source": [
    "import torch\n",
    "from torch import Tensor"
   ]
  },
  {
   "cell_type": "code",
   "execution_count": null,
   "metadata": {
    "execution": {
     "iopub.status.busy": "2022-12-01T16:52:24.307242Z",
     "iopub.status.idle": "2022-12-01T16:52:24.307396Z",
     "shell.execute_reply": "2022-12-01T16:52:24.307326Z",
     "shell.execute_reply.started": "2022-12-01T16:52:24.307319Z"
    },
    "tags": []
   },
   "outputs": [],
   "source": [
    "@torch.jit.script\n",
    "def foo(ATD: Tensor) -> Tensor:\n",
    "    res: list[Tensor] = []\n",
    "    for Atd in ATD.swapaxes(0, 1):\n",
    "        res.append(torch.linalg.matrix_exp(Atd))\n",
    "\n",
    "    return torch.stack(res, dim=0).swapaxes(0, 1)"
   ]
  },
  {
   "cell_type": "code",
   "execution_count": null,
   "metadata": {
    "execution": {
     "iopub.status.busy": "2022-12-01T16:52:24.307789Z",
     "iopub.status.idle": "2022-12-01T16:52:24.307934Z",
     "shell.execute_reply": "2022-12-01T16:52:24.307865Z",
     "shell.execute_reply.started": "2022-12-01T16:52:24.307858Z"
    },
    "tags": []
   },
   "outputs": [],
   "source": [
    "A = torch.randn(128, 128)\n",
    "TD = torch.rand(64, 700)\n",
    "ATD = torch.einsum(\"..., kl -> ...kl\", TD, A)"
   ]
  },
  {
   "cell_type": "code",
   "execution_count": null,
   "metadata": {
    "execution": {
     "iopub.status.busy": "2022-12-01T16:52:24.308411Z",
     "iopub.status.idle": "2022-12-01T16:52:24.308556Z",
     "shell.execute_reply": "2022-12-01T16:52:24.308488Z",
     "shell.execute_reply.started": "2022-12-01T16:52:24.308481Z"
    },
    "tags": []
   },
   "outputs": [],
   "source": [
    "%%timeit\n",
    "torch.linalg.matrix_exp(ATD)"
   ]
  },
  {
   "cell_type": "code",
   "execution_count": null,
   "metadata": {
    "execution": {
     "iopub.status.busy": "2022-12-01T16:52:24.309001Z",
     "iopub.status.idle": "2022-12-01T16:52:24.309151Z",
     "shell.execute_reply": "2022-12-01T16:52:24.309083Z",
     "shell.execute_reply.started": "2022-12-01T16:52:24.309075Z"
    },
    "tags": []
   },
   "outputs": [],
   "source": [
    "%%timeit\n",
    "foo(ATD)"
   ]
  },
  {
   "cell_type": "code",
   "execution_count": null,
   "metadata": {
    "tags": []
   },
   "outputs": [],
   "source": []
  },
  {
   "cell_type": "code",
   "execution_count": null,
   "metadata": {
    "execution": {
     "iopub.status.busy": "2022-12-01T16:52:24.309857Z",
     "iopub.status.idle": "2022-12-01T16:52:24.310052Z",
     "shell.execute_reply": "2022-12-01T16:52:24.309979Z",
     "shell.execute_reply.started": "2022-12-01T16:52:24.309972Z"
    },
    "tags": []
   },
   "outputs": [],
   "source": [
    "%%timeit\n",
    "fun(ATD)"
   ]
  },
  {
   "cell_type": "code",
   "execution_count": null,
   "metadata": {
    "tags": []
   },
   "outputs": [],
   "source": []
  },
  {
   "cell_type": "code",
   "execution_count": null,
   "metadata": {
    "execution": {
     "iopub.status.busy": "2022-12-01T16:52:24.310527Z",
     "iopub.status.idle": "2022-12-01T16:52:24.310715Z",
     "shell.execute_reply": "2022-12-01T16:52:24.310646Z",
     "shell.execute_reply.started": "2022-12-01T16:52:24.310639Z"
    }
   },
   "outputs": [],
   "source": [
    "x = torch.randn(64, 128a)"
   ]
  },
  {
   "cell_type": "code",
   "execution_count": null,
   "metadata": {
    "execution": {
     "iopub.status.busy": "2022-12-01T16:52:24.311262Z",
     "iopub.status.idle": "2022-12-01T16:52:24.311441Z",
     "shell.execute_reply": "2022-12-01T16:52:24.311374Z",
     "shell.execute_reply.started": "2022-12-01T16:52:24.311367Z"
    },
    "tags": []
   },
   "outputs": [],
   "source": [
    "%%timeit\n",
    "\n",
    "torch.linalg.matrix_exp(Atd)"
   ]
  },
  {
   "cell_type": "code",
   "execution_count": null,
   "metadata": {},
   "outputs": [],
   "source": []
  }
 ],
 "metadata": {
  "kernelspec": {
   "display_name": "Python 3 (ipykernel)",
   "language": "python",
   "name": "python3"
  },
  "language_info": {
   "codemirror_mode": {
    "name": "ipython",
    "version": 3
   },
   "file_extension": ".py",
   "mimetype": "text/x-python",
   "name": "python",
   "nbconvert_exporter": "python",
   "pygments_lexer": "ipython3",
   "version": "3.10.8"
  }
 },
 "nbformat": 4,
 "nbformat_minor": 4
}
