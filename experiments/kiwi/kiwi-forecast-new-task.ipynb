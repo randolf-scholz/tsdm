{
 "cells": [
  {
   "cell_type": "markdown",
   "metadata": {},
   "source": [
    "# Create a Forecast plot given a stored model"
   ]
  },
  {
   "cell_type": "markdown",
   "metadata": {},
   "source": [
    "### Notebook Configuration"
   ]
  },
  {
   "cell_type": "code",
   "execution_count": null,
   "metadata": {
    "execution": {
     "iopub.execute_input": "2022-11-16T10:39:53.986817Z",
     "iopub.status.busy": "2022-11-16T10:39:53.986612Z",
     "iopub.status.idle": "2022-11-16T10:39:54.244129Z",
     "shell.execute_reply": "2022-11-16T10:39:54.243727Z",
     "shell.execute_reply.started": "2022-11-16T10:39:53.986747Z"
    }
   },
   "outputs": [],
   "source": [
    "%config InteractiveShell.ast_node_interactivity='last_expr_or_assign'  # always print last expr.\n",
    "%config InlineBackend.figure_format = 'svg'\n",
    "%load_ext autoreload\n",
    "%autoreload 2\n",
    "%matplotlib inline\n",
    "\n",
    "import logging\n",
    "\n",
    "# logging.basicConfig(level=logging.INFO)"
   ]
  },
  {
   "cell_type": "markdown",
   "metadata": {},
   "source": [
    "### Imports"
   ]
  },
  {
   "cell_type": "code",
   "execution_count": null,
   "metadata": {
    "execution": {
     "iopub.execute_input": "2022-11-16T10:39:54.245188Z",
     "iopub.status.busy": "2022-11-16T10:39:54.244877Z",
     "iopub.status.idle": "2022-11-16T10:39:54.996775Z",
     "shell.execute_reply": "2022-11-16T10:39:54.996422Z",
     "shell.execute_reply.started": "2022-11-16T10:39:54.245167Z"
    }
   },
   "outputs": [],
   "source": [
    "import matplotlib.pyplot as plt\n",
    "\n",
    "plt.style.use(\"bmh\")\n",
    "plt.rcParams[\"axes.axisbelow\"] = True\n",
    "import matplotlib.dates as mdates\n",
    "import numpy as np\n",
    "import pandas\n",
    "import pandas as pd\n",
    "from pandas import DataFrame, Index, Series, Timedelta, Timestamp\n",
    "\n",
    "rng = np.random.default_rng()\n",
    "np.set_printoptions()\n",
    "\n",
    "from copy import deepcopy\n",
    "\n",
    "import torch\n",
    "import torchinfo\n",
    "from torch import Tensor, jit, tensor\n",
    "from torch.utils.data import DataLoader"
   ]
  },
  {
   "cell_type": "markdown",
   "metadata": {},
   "source": [
    "### Enter Path and Name"
   ]
  },
  {
   "cell_type": "code",
   "execution_count": null,
   "metadata": {
    "execution": {
     "iopub.execute_input": "2022-11-16T10:39:54.997416Z",
     "iopub.status.busy": "2022-11-16T10:39:54.997237Z",
     "iopub.status.idle": "2022-11-16T10:39:55.012661Z",
     "shell.execute_reply": "2022-11-16T10:39:55.012334Z",
     "shell.execute_reply.started": "2022-11-16T10:39:54.997405Z"
    },
    "tags": []
   },
   "outputs": [],
   "source": [
    "ID = (449, 15653)  # the Run_id / Experiment_id we want to plot.\n",
    "# files:  2021-11-12T00:52:10 2021-11-12T00:51:55 2021-11-12T00:51:48\n",
    "# \"checkpoints/2021-11-15T12:05:00/LinODEnet-0\"\n",
    "# \"checkpoints/LinODEnet/KIWI_RUNS/skew_allways/2021-11-15T16:05:41/LinODEnet-0\"\n",
    "# \"adam/2021-11-15T20:38:52/LinODEnet-0\"\n",
    "PATH = \"/home/rscholz/Projects/KIWI/tsdm/experiments/kiwi/checkpoints/KIWI/LinODEnet/2022-11-16T01:55:32/f=0_bs=64_lr=0.001_hs=60_ls=128/\"\n",
    "NAME = \"RecursiveScriptModule-24-3168\"\n",
    "# the model checkpoint, should be a zip-archive created by torch.save / torch.jit.save\n",
    "MODEL_FILE = PATH + NAME\n",
    "DEVICE = torch.device(\"cpu\")\n",
    "DTYPE = torch.float32\n",
    "NAN = tensor(float(\"nan\"), dtype=DTYPE, device=DEVICE)\n",
    "PRD_HORIZON = \"1h\"\n",
    "OBS_HORIZON = \"2h\"\n",
    "# HORIZON = \"3h\""
   ]
  },
  {
   "cell_type": "markdown",
   "metadata": {},
   "source": [
    "## Intialize the task"
   ]
  },
  {
   "cell_type": "code",
   "execution_count": null,
   "metadata": {
    "execution": {
     "iopub.execute_input": "2022-11-16T10:39:55.013448Z",
     "iopub.status.busy": "2022-11-16T10:39:55.013268Z",
     "iopub.status.idle": "2022-11-16T10:39:56.293132Z",
     "shell.execute_reply": "2022-11-16T10:39:56.292746Z",
     "shell.execute_reply.started": "2022-11-16T10:39:55.013434Z"
    },
    "tags": []
   },
   "outputs": [],
   "source": [
    "from tsdm.tasks import KiwiTask\n",
    "\n",
    "task = KiwiTask(\n",
    "    sampler_kwargs=dict(\n",
    "        forecasting_horizon=PRD_HORIZON,\n",
    "        observation_horizon=OBS_HORIZON,\n",
    "    )\n",
    ")"
   ]
  },
  {
   "cell_type": "markdown",
   "metadata": {},
   "source": [
    "## Load the Model"
   ]
  },
  {
   "cell_type": "code",
   "execution_count": null,
   "metadata": {
    "execution": {
     "iopub.execute_input": "2022-11-16T10:39:56.293747Z",
     "iopub.status.busy": "2022-11-16T10:39:56.293561Z",
     "iopub.status.idle": "2022-11-16T10:39:56.398471Z",
     "shell.execute_reply": "2022-11-16T10:39:56.398043Z",
     "shell.execute_reply.started": "2022-11-16T10:39:56.293736Z"
    },
    "tags": []
   },
   "outputs": [],
   "source": [
    "model = torch.jit.load(MODEL_FILE, torch.device(\"cpu\"))\n",
    "torchinfo.summary(model, depth=1)"
   ]
  },
  {
   "cell_type": "markdown",
   "metadata": {},
   "source": [
    "## Import Task"
   ]
  },
  {
   "cell_type": "code",
   "execution_count": null,
   "metadata": {},
   "outputs": [],
   "source": []
  },
  {
   "cell_type": "code",
   "execution_count": null,
   "metadata": {
    "execution": {
     "iopub.execute_input": "2022-11-16T10:39:56.399123Z",
     "iopub.status.busy": "2022-11-16T10:39:56.398982Z",
     "iopub.status.idle": "2022-11-16T10:39:59.410364Z",
     "shell.execute_reply": "2022-11-16T10:39:59.409805Z",
     "shell.execute_reply.started": "2022-11-16T10:39:56.399113Z"
    },
    "tags": []
   },
   "outputs": [],
   "source": [
    "# assert ID in task.splits[(0, \"train\")][0].index\n",
    "TRAINLOADER = task.dataloaders[(0, \"train\")]\n",
    "EVALLOADER = task.dataloaders[(0, \"test\")]\n",
    "\n",
    "ts = task.dataset[ID].timeseries\n",
    "\n",
    "dloader = TRAINLOADER\n",
    "split = task.splits[(0, \"test\")][ID]\n",
    "encoder = task.encoders[(0, \"test\")]\n",
    "sampler = task.samplers[(0, \"test\")][ID]\n",
    "sampler.shuffle = False\n",
    "\n",
    "from tsdm.tasks import TimeSeriesSampleGenerator\n",
    "\n",
    "generator = TimeSeriesSampleGenerator(\n",
    "    split,\n",
    "    observables=task.observables,\n",
    "    targets=task.targets,\n",
    "    covariates=task.covariates,\n",
    ")\n",
    "\n",
    "samples = [generator[key] for key in sampler];"
   ]
  },
  {
   "cell_type": "code",
   "execution_count": null,
   "metadata": {
    "execution": {
     "iopub.execute_input": "2022-11-16T10:39:59.412050Z",
     "iopub.status.busy": "2022-11-16T10:39:59.411831Z",
     "iopub.status.idle": "2022-11-16T10:40:00.262947Z",
     "shell.execute_reply": "2022-11-16T10:40:00.262276Z",
     "shell.execute_reply.started": "2022-11-16T10:39:59.412037Z"
    },
    "tags": []
   },
   "outputs": [],
   "source": [
    "sample = samples[0]\n",
    "tx, x = encoder.encode(sample.inputs.x).values()\n",
    "tx, x = encoder.encode(sample.inputs.x).values()\n",
    "ty, y = encoder.encode(sample.targets.y).values()\n",
    "yhat = model(tx, x)\n",
    "reconstructed = encoder.decode({\"T\": tx, \"X\": yhat})"
   ]
  },
  {
   "cell_type": "code",
   "execution_count": null,
   "metadata": {
    "execution": {
     "iopub.execute_input": "2022-11-16T10:40:00.264023Z",
     "iopub.status.busy": "2022-11-16T10:40:00.263788Z",
     "iopub.status.idle": "2022-11-16T10:40:00.299420Z",
     "shell.execute_reply": "2022-11-16T10:40:00.298703Z",
     "shell.execute_reply.started": "2022-11-16T10:40:00.264003Z"
    },
    "tags": []
   },
   "outputs": [],
   "source": [
    "reconstructed.index  # .loc[: task.observation_horizon]"
   ]
  },
  {
   "cell_type": "markdown",
   "metadata": {},
   "source": [
    "### Helper Function for Batch post-processing"
   ]
  },
  {
   "cell_type": "code",
   "execution_count": null,
   "metadata": {
    "execution": {
     "iopub.execute_input": "2022-11-16T10:40:00.300578Z",
     "iopub.status.busy": "2022-11-16T10:40:00.300338Z",
     "iopub.status.idle": "2022-11-16T10:40:00.336064Z",
     "shell.execute_reply": "2022-11-16T10:40:00.335337Z",
     "shell.execute_reply.started": "2022-11-16T10:40:00.300557Z"
    },
    "tags": []
   },
   "outputs": [],
   "source": [
    "def prep_batch(batch: tuple[Tensor, Tensor]):\n",
    "    \"\"\"Get batch and create model inputs and targets.\"\"\"\n",
    "    T, X = batch\n",
    "    targets = X[..., task.observation_horizon :, task.targets.index].clone()\n",
    "    # assert targets.shape == (BATCH_SIZE, PRD_HORIZON, len(TASK.targets))\n",
    "    originals = X.clone()\n",
    "    inputs = X.clone()\n",
    "    inputs[:, task.observation_horizon :, task.targets.index] = NAN\n",
    "    inputs[:, task.observation_horizon :, task.observables.index] = NAN\n",
    "    # assert inputs.shape == (BATCH_SIZE, HORIZON, NUM_DIM)\n",
    "    return T, inputs, targets, originals"
   ]
  },
  {
   "cell_type": "markdown",
   "metadata": {
    "tags": []
   },
   "source": [
    "## Helper function to create the plot"
   ]
  },
  {
   "cell_type": "code",
   "execution_count": null,
   "metadata": {
    "execution": {
     "iopub.execute_input": "2022-11-16T10:40:00.337486Z",
     "iopub.status.busy": "2022-11-16T10:40:00.336991Z",
     "iopub.status.idle": "2022-11-16T10:40:00.375712Z",
     "shell.execute_reply": "2022-11-16T10:40:00.375011Z",
     "shell.execute_reply.started": "2022-11-16T10:40:00.337464Z"
    },
    "tags": []
   },
   "outputs": [],
   "source": [
    "def make_plot(axes, task, sample):\n",
    "    \"\"\"Helper function to create plot automatically.\"\"\"\n",
    "    # batch = slices[0]\n",
    "    tx, x = encoder.encode(sample.inputs.x).values()\n",
    "    ty, y = encoder.encode(sample.targets.y).values()\n",
    "    yhat = model(tx, x)\n",
    "    reconstructed = encoder.decode({\"T\": tx, \"X\": yhat})\n",
    "    # mask = sample.inputs.x.notna() | sample.targets.y.notna()\n",
    "\n",
    "    time = reconstructed.index.to_series()\n",
    "    t0 = time[0]\n",
    "    t1 = t0 + pd.Timedelta(task.observation_horizon)\n",
    "    t2 = t1 + pd.Timedelta(task.forecasting_horizon)\n",
    "\n",
    "    # # convert to float\n",
    "    # time = time / np.timedelta64(1, \"h\")\n",
    "    # t0 = t0 / np.timedelta64(1, \"h\")\n",
    "    # t1 = t1 / np.timedelta64(1, \"h\")\n",
    "    # t2 = t2 / np.timedelta64(1, \"h\")\n",
    "    # reconstructed.index = time\n",
    "    # time = time.to_series()\n",
    "    # display(t0, t1,  time.loc[t0:t1])\n",
    "\n",
    "    for ax, target in zip(axes.flatten(), task.targets):\n",
    "        # color = next(ax._get_lines.prop_cycler)[\"color\"]\n",
    "        ax.axvspan(t0.to_numpy(), t1.to_numpy(), facecolor=\"grey\", alpha=0.3)\n",
    "        ax.axvspan(t1.to_numpy(), t2.to_numpy(), facecolor=\"green\", alpha=0.3)\n",
    "        ax.plot(\n",
    "            time.loc[t0:t1], reconstructed.loc[t0:t1, target], ls=\":\", lw=2, color=\"y\"\n",
    "        )\n",
    "        ax.plot(\n",
    "            time.loc[t1:t2], reconstructed.loc[t1:t2, target], ls=\"-\", lw=2, color=\"r\"\n",
    "        )"
   ]
  },
  {
   "cell_type": "markdown",
   "metadata": {},
   "source": [
    "### Create the Raw data plot"
   ]
  },
  {
   "cell_type": "code",
   "execution_count": null,
   "metadata": {
    "execution": {
     "iopub.execute_input": "2022-11-16T10:40:00.377145Z",
     "iopub.status.busy": "2022-11-16T10:40:00.376834Z",
     "iopub.status.idle": "2022-11-16T10:40:01.676537Z",
     "shell.execute_reply": "2022-11-16T10:40:01.675972Z",
     "shell.execute_reply.started": "2022-11-16T10:40:00.377122Z"
    },
    "tags": []
   },
   "outputs": [],
   "source": [
    "%matplotlib widget\n",
    "\n",
    "fig, axes = plt.subplots(\n",
    "    nrows=3, ncols=3, sharex=True, figsize=(16, 8), constrained_layout=True\n",
    ")\n",
    "\n",
    "for ax, target in zip(axes.flatten(), task.targets):\n",
    "    data = ts[target]\n",
    "    times = ts.index.values\n",
    "    mask = ~np.isnan(data)\n",
    "    ax.plot(\n",
    "        times[mask],\n",
    "        data[mask],\n",
    "        ls=\":\",\n",
    "        lw=0.5,\n",
    "        marker=\".\",\n",
    "        ms=6,\n",
    "    )\n",
    "    ax.legend([f\"{target} - observations\"])"
   ]
  },
  {
   "cell_type": "markdown",
   "metadata": {},
   "source": [
    "### Add the model Forecast Plots"
   ]
  },
  {
   "cell_type": "code",
   "execution_count": null,
   "metadata": {
    "execution": {
     "iopub.execute_input": "2022-11-16T10:40:01.677519Z",
     "iopub.status.busy": "2022-11-16T10:40:01.677316Z",
     "iopub.status.idle": "2022-11-16T10:40:06.899169Z",
     "shell.execute_reply": "2022-11-16T10:40:06.898457Z",
     "shell.execute_reply.started": "2022-11-16T10:40:01.677499Z"
    },
    "tags": []
   },
   "outputs": [],
   "source": [
    "grid = np.linspace(0, len(samples) - 1, num=3, dtype=int)\n",
    "# grid = [0]\n",
    "batch = [samples[key] for key in grid]\n",
    "\n",
    "for sample in batch:\n",
    "    make_plot(axes, task, sample)\n",
    "\n",
    "fig.savefig(f\"{NAME.replace(r'/', r'_')}_{PRD_HORIZON}.pdf\")"
   ]
  },
  {
   "cell_type": "code",
   "execution_count": null,
   "metadata": {
    "execution": {
     "iopub.execute_input": "2022-11-16T10:40:06.899988Z",
     "iopub.status.busy": "2022-11-16T10:40:06.899793Z",
     "iopub.status.idle": "2022-11-16T10:40:07.080086Z",
     "shell.execute_reply": "2022-11-16T10:40:07.077267Z",
     "shell.execute_reply.started": "2022-11-16T10:40:06.899971Z"
    },
    "tags": []
   },
   "outputs": [],
   "source": [
    "raise"
   ]
  },
  {
   "cell_type": "markdown",
   "metadata": {},
   "source": [
    "## Creating per-channel plots for all channels"
   ]
  },
  {
   "cell_type": "code",
   "execution_count": null,
   "metadata": {
    "execution": {
     "iopub.status.busy": "2022-11-16T10:40:07.080966Z",
     "iopub.status.idle": "2022-11-16T10:40:07.081293Z",
     "shell.execute_reply": "2022-11-16T10:40:07.081171Z",
     "shell.execute_reply.started": "2022-11-16T10:40:07.081158Z"
    }
   },
   "outputs": [],
   "source": [
    "def make_plot(axes, task, batch, target):\n",
    "    \"\"\"Helper function to create plot automatically.\"\"\"\n",
    "    # batch = slices[0]\n",
    "    times, inputs, targets, originals = (x.to(device=\"cpu\") for x in prep_batch(batch))\n",
    "    outputs = model(times, inputs)\n",
    "\n",
    "    times = times[0].detach().cpu()\n",
    "    inputs = inputs[0].detach().cpu()\n",
    "    outputs = outputs[0].detach().cpu()\n",
    "    targets = targets[0].detach().cpu()\n",
    "    originals = originals[0].detach().cpu()\n",
    "\n",
    "    times.shape, outputs.shape, inputs.shape, targets.shape, originals.shape\n",
    "    reconstructed = encoder.decode((times, outputs)).astype(\"float32\")\n",
    "\n",
    "    data = originals[:, idx]\n",
    "    mask = ~np.isnan(data)\n",
    "    ax.plot(\n",
    "        reconstructed.index[: task.observation_horizon],\n",
    "        reconstructed.iloc[: task.observation_horizon, idx],\n",
    "        ls=\":\",\n",
    "        lw=0.1,\n",
    "        color=\"r\",\n",
    "    )\n",
    "    ax.plot(\n",
    "        reconstructed.index[task.observation_horizon - 1 :],\n",
    "        reconstructed.iloc[task.observation_horizon - 1 :, idx],\n",
    "        ls=\"-\",\n",
    "        lw=2,\n",
    "        color=\"r\",\n",
    "    )\n",
    "    print(reconstructed)"
   ]
  },
  {
   "cell_type": "code",
   "execution_count": null,
   "metadata": {
    "execution": {
     "iopub.status.busy": "2022-11-16T10:40:07.082118Z",
     "iopub.status.idle": "2022-11-16T10:40:07.082356Z",
     "shell.execute_reply": "2022-11-16T10:40:07.082248Z",
     "shell.execute_reply.started": "2022-11-16T10:40:07.082236Z"
    }
   },
   "outputs": [],
   "source": [
    "columns = task.dataset.timeseries.columns"
   ]
  },
  {
   "cell_type": "code",
   "execution_count": null,
   "metadata": {
    "execution": {
     "iopub.status.busy": "2022-11-16T10:40:07.083531Z",
     "iopub.status.idle": "2022-11-16T10:40:07.083812Z",
     "shell.execute_reply": "2022-11-16T10:40:07.083693Z",
     "shell.execute_reply.started": "2022-11-16T10:40:07.083680Z"
    }
   },
   "outputs": [],
   "source": [
    "%matplotlib widget\n",
    "\n",
    "fig, axes = plt.subplots(\n",
    "    nrows=2, ncols=2, sharex=True, figsize=(16, 8), constrained_layout=True\n",
    ")\n",
    "\n",
    "for target in task.targets.items():\n",
    "    data = ts[target]\n",
    "    times = ts.index.values\n",
    "    mask = ~np.isnan(data)\n",
    "    ax.plot(\n",
    "        times[mask],\n",
    "        data[mask],\n",
    "        ls=\":\",\n",
    "        lw=0.5,\n",
    "        marker=\".\",\n",
    "        ms=6,\n",
    "    )\n",
    "    ax.legend([f\"{target} - observations\"])"
   ]
  },
  {
   "cell_type": "code",
   "execution_count": null,
   "metadata": {},
   "outputs": [],
   "source": []
  },
  {
   "cell_type": "code",
   "execution_count": null,
   "metadata": {},
   "outputs": [],
   "source": []
  }
 ],
 "metadata": {
  "kernelspec": {
   "display_name": "Python 3 (ipykernel)",
   "language": "python",
   "name": "python3"
  },
  "language_info": {
   "codemirror_mode": {
    "name": "ipython",
    "version": 3
   },
   "file_extension": ".py",
   "mimetype": "text/x-python",
   "name": "python",
   "nbconvert_exporter": "python",
   "pygments_lexer": "ipython3",
   "version": "3.10.6"
  }
 },
 "nbformat": 4,
 "nbformat_minor": 4
}
