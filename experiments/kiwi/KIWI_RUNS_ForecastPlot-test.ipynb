{
 "cells": [
  {
   "cell_type": "markdown",
   "metadata": {},
   "source": [
    "# Create a Forecast plot given a stored model"
   ]
  },
  {
   "cell_type": "markdown",
   "metadata": {},
   "source": [
    "### Notebook Configuration"
   ]
  },
  {
   "cell_type": "code",
   "execution_count": null,
   "metadata": {},
   "outputs": [],
   "source": [
    "%config InteractiveShell.ast_node_interactivity='last_expr_or_assign'  # always print last expr.\n",
    "%config InlineBackend.figure_format = 'svg'\n",
    "%load_ext autoreload\n",
    "%autoreload 2\n",
    "%matplotlib inline\n",
    "\n",
    "import logging\n",
    "\n",
    "logging.basicConfig(level=logging.INFO)"
   ]
  },
  {
   "cell_type": "markdown",
   "metadata": {},
   "source": [
    "### Imports"
   ]
  },
  {
   "cell_type": "code",
   "execution_count": null,
   "metadata": {},
   "outputs": [],
   "source": [
    "import matplotlib.pyplot as plt\n",
    "\n",
    "plt.style.use(\"bmh\")\n",
    "plt.rcParams[\"axes.axisbelow\"] = True\n",
    "import numpy as np\n",
    "import pandas\n",
    "import pandas as pd\n",
    "from pandas import DataFrame, Index, Series, Timedelta, Timestamp\n",
    "import matplotlib.dates as mdates\n",
    "\n",
    "rng = np.random.default_rng()\n",
    "np.set_printoptions()\n",
    "\n",
    "import torch\n",
    "import torchinfo\n",
    "from torch import Tensor, jit, tensor\n",
    "from torch.utils.data import DataLoader\n",
    "from copy import deepcopy"
   ]
  },
  {
   "cell_type": "markdown",
   "metadata": {},
   "source": [
    "### Enter Path and Name"
   ]
  },
  {
   "cell_type": "code",
   "execution_count": null,
   "metadata": {},
   "outputs": [],
   "source": [
    "ID = (510, 16866)  # the Run_id / Experiment_id we want to plot.\n",
    "RUN, EXP = ID\n",
    "# files:  2021-11-12T00:52:10 2021-11-12T00:51:55 2021-11-12T00:51:48\n",
    "# \"checkpoints/2021-11-15T12:05:00/LinODEnet-0\"\n",
    "# \"checkpoints/LinODEnet/KIWI_RUNS/skew_allways/2021-11-15T16:05:41/LinODEnet-0\"\n",
    "# \"adam/2021-11-15T20:38:52/LinODEnet-0\"\n",
    "PATH = \"checkpoints/LinODEnet/KIWI_RUNS/\"\n",
    "NAME = \"SurrLoss+Sequential_Filter/2021-12-20T13:43:00/LinODEnet-50\"\n",
    "# the model checkpoint, should be a zip-archive created by torch.save / torch.jit.save\n",
    "MODEL_FILE = PATH + NAME\n",
    "DEVICE = torch.device(\"cpu\")\n",
    "DTYPE = torch.float32\n",
    "NAN = tensor(float(\"nan\"), dtype=DTYPE, device=DEVICE)\n",
    "PRD_HORIZON = 900\n",
    "OBS_HORIZON = 240\n",
    "HORIZON = SEQLEN = OBS_HORIZON + PRD_HORIZON"
   ]
  },
  {
   "cell_type": "markdown",
   "metadata": {},
   "source": [
    "## Intialize the task"
   ]
  },
  {
   "cell_type": "code",
   "execution_count": null,
   "metadata": {},
   "outputs": [],
   "source": [
    "from tsdm.tasks import KIWI_RUNS_TASK\n",
    "\n",
    "task = KIWI_RUNS_TASK(\n",
    "    forecasting_horizon=PRD_HORIZON,\n",
    "    observation_horizon=OBS_HORIZON,\n",
    ")"
   ]
  },
  {
   "cell_type": "markdown",
   "metadata": {},
   "source": [
    "## Load the Model"
   ]
  },
  {
   "cell_type": "code",
   "execution_count": null,
   "metadata": {},
   "outputs": [],
   "source": [
    "model = torch.jit.load(MODEL_FILE, torch.device(\"cpu\"))\n",
    "torchinfo.summary(model, depth=5)"
   ]
  },
  {
   "cell_type": "markdown",
   "metadata": {},
   "source": [
    "## Import Task"
   ]
  },
  {
   "cell_type": "code",
   "execution_count": null,
   "metadata": {},
   "outputs": [],
   "source": [
    "assert ID in task.splits[(0, \"test\")][0].index\n",
    "TRAINLOADER = task.dataloaders[(0, \"train\")]\n",
    "EVALLOADER = task.dataloaders[(0, \"test\")]\n",
    "\n",
    "dloader = EVALLOADER\n",
    "dataset = dloader.dataset[ID]\n",
    "preprocessor = deepcopy(dloader.preprocessor)\n",
    "sampler = deepcopy(dloader.sampler[ID])\n",
    "sampler.shuffle = False\n",
    "LOADER = DataLoader(dataset, sampler=sampler)\n",
    "slices = Series(LOADER)\n",
    "\n",
    "ts = task.timeseries\n",
    "ts = ts.loc[ID].astype(\"float32\")"
   ]
  },
  {
   "cell_type": "markdown",
   "metadata": {},
   "source": [
    "### Helper Function for Batch post-processing"
   ]
  },
  {
   "cell_type": "code",
   "execution_count": null,
   "metadata": {},
   "outputs": [],
   "source": [
    "def prep_batch(batch: tuple[Tensor, Tensor]):\n",
    "    \"\"\"Get batch and create model inputs and targets.\"\"\"\n",
    "    T, X = batch\n",
    "    targets = X[..., task.observation_horizon :, task.targets.index].clone()\n",
    "    # assert targets.shape == (BATCH_SIZE, PRD_HORIZON, len(TASK.targets))\n",
    "    originals = X.clone()\n",
    "    inputs = X.clone()\n",
    "    inputs[:, task.observation_horizon :, task.targets.index] = NAN\n",
    "    inputs[:, task.observation_horizon :, task.observables.index] = NAN\n",
    "    # assert inputs.shape == (BATCH_SIZE, HORIZON, NUM_DIM)\n",
    "    return T, inputs, targets, originals"
   ]
  },
  {
   "cell_type": "markdown",
   "metadata": {
    "tags": []
   },
   "source": [
    "## Helper function to create the plot"
   ]
  },
  {
   "cell_type": "code",
   "execution_count": null,
   "metadata": {},
   "outputs": [],
   "source": [
    "def make_plot(axes, task, batch):\n",
    "    \"\"\"Helper function to create plot automatically.\"\"\"\n",
    "    # batch = slices[0]\n",
    "    times, inputs, targets, originals = (x.to(device=\"cpu\") for x in prep_batch(batch))\n",
    "\n",
    "    inputs[:, task.observation_horizon :, task.targets.index] = NAN\n",
    "    inputs[:, task.observation_horizon :, task.observables.index] = NAN\n",
    "    outputs = model(times, inputs)\n",
    "\n",
    "    times = times[0].detach().cpu()\n",
    "    inputs = inputs[0].detach().cpu()\n",
    "    outputs = outputs[0].detach().cpu()\n",
    "    targets = targets[0].detach().cpu()\n",
    "    originals = originals[0].detach().cpu()\n",
    "\n",
    "    times.shape, outputs.shape, inputs.shape, targets.shape, originals.shape\n",
    "    reconstructed = preprocessor.decode((times, outputs)).astype(\"float32\")\n",
    "\n",
    "    for ax, (idx, target) in zip(axes.flatten(), task.targets.items()):\n",
    "        color = next(ax._get_lines.prop_cycler)[\"color\"]\n",
    "        data = originals[:, idx]\n",
    "        mask = ~np.isnan(data)\n",
    "        ax.plot(\n",
    "            reconstructed.index[: task.observation_horizon],\n",
    "            reconstructed.iloc[: task.observation_horizon, idx],\n",
    "            ls=\":\",\n",
    "            lw=0.1,\n",
    "            color=\"r\",\n",
    "        )\n",
    "        ax.plot(\n",
    "            reconstructed.index[task.observation_horizon - 1 :],\n",
    "            reconstructed.iloc[task.observation_horizon - 1 :, idx],\n",
    "            ls=\"-\",\n",
    "            lw=2,\n",
    "            color=\"r\",\n",
    "        )\n",
    "        print(reconstructed)"
   ]
  },
  {
   "cell_type": "markdown",
   "metadata": {},
   "source": [
    "### Create the Raw data plot"
   ]
  },
  {
   "cell_type": "code",
   "execution_count": null,
   "metadata": {},
   "outputs": [],
   "source": [
    "task.targets = task.observables[[3, 7, 9, 8]]"
   ]
  },
  {
   "cell_type": "code",
   "execution_count": null,
   "metadata": {},
   "outputs": [],
   "source": [
    "%matplotlib widget\n",
    "\n",
    "fig, axes = plt.subplots(\n",
    "    nrows=2, ncols=2, sharex=True, figsize=(16, 8), constrained_layout=True\n",
    ")\n",
    "\n",
    "for ax, (idx, target) in zip(axes.flatten(), task.targets.items()):\n",
    "    data = ts[target]\n",
    "    times = ts.index.values\n",
    "    mask = ~np.isnan(data)\n",
    "    ax.plot(\n",
    "        times[mask],\n",
    "        data[mask],\n",
    "        ls=\":\",\n",
    "        lw=0.5,\n",
    "        marker=\".\",\n",
    "        ms=6,\n",
    "    )\n",
    "    ax.legend([f\"{target} - observations\"])"
   ]
  },
  {
   "cell_type": "markdown",
   "metadata": {},
   "source": [
    "### Add the model Forecast Plots"
   ]
  },
  {
   "cell_type": "code",
   "execution_count": null,
   "metadata": {
    "tags": []
   },
   "outputs": [],
   "source": [
    "# grid = np.linspace(0, len(slices)-1, num=8, dtype=int)\n",
    "grid = [300]\n",
    "batches = slices.iloc[grid]\n",
    "\n",
    "for batch in batches:\n",
    "    make_plot(axes, task, batch)\n",
    "\n",
    "fig.suptitle(f\"Run{RUN}, Experiment {EXP}\")\n",
    "\n",
    "fig.savefig(f\"pics/test-{NAME.replace(r'/', r'_')}_{PRD_HORIZON}.pdf\")"
   ]
  },
  {
   "cell_type": "code",
   "execution_count": null,
   "metadata": {},
   "outputs": [],
   "source": [
    "raise"
   ]
  },
  {
   "cell_type": "markdown",
   "metadata": {},
   "source": [
    "## Creating per-channel plots for all channels"
   ]
  },
  {
   "cell_type": "code",
   "execution_count": null,
   "metadata": {},
   "outputs": [],
   "source": [
    "def make_plot(ax, task, batch, idx):\n",
    "    \"\"\"Helper function to create plot automatically.\"\"\"\n",
    "    # batch = slices[0]\n",
    "    times, inputs, targets, originals = (x.to(device=\"cpu\") for x in prep_batch(batch))\n",
    "    outputs = model(times, inputs)\n",
    "\n",
    "    times = times[0].detach().cpu()\n",
    "    inputs = inputs[0].detach().cpu()\n",
    "    outputs = outputs[0].detach().cpu()\n",
    "    targets = targets[0].detach().cpu()\n",
    "    originals = originals[0].detach().cpu()\n",
    "\n",
    "    times.shape, outputs.shape, inputs.shape, targets.shape, originals.shape\n",
    "    reconstructed = preprocessor.decode((times, outputs)).astype(\"float32\")\n",
    "\n",
    "    T = reconstructed.index\n",
    "    data = originals[:, idx]\n",
    "    mask = ~np.isnan(data)\n",
    "    ax.plot(\n",
    "        T[: task.observation_horizon],\n",
    "        reconstructed.iloc[: task.observation_horizon, idx],\n",
    "        ls=\":\",\n",
    "        lw=0.1,\n",
    "        color=\"r\",\n",
    "    )\n",
    "    ax.plot(\n",
    "        T[task.observation_horizon - 1 :],\n",
    "        reconstructed.iloc[task.observation_horizon - 1 :, idx],\n",
    "        ls=\"-\",\n",
    "        lw=2,\n",
    "        color=\"r\",\n",
    "    )"
   ]
  },
  {
   "cell_type": "code",
   "execution_count": null,
   "metadata": {},
   "outputs": [],
   "source": [
    "columns = task.dataset.timeseries.columns"
   ]
  },
  {
   "cell_type": "code",
   "execution_count": null,
   "metadata": {},
   "outputs": [],
   "source": [
    "from tsdm.utils.strings import snake2camel"
   ]
  },
  {
   "cell_type": "code",
   "execution_count": null,
   "metadata": {},
   "outputs": [],
   "source": [
    "%matplotlib widget\n",
    "ts = task.timeseries\n",
    "# ts = ts[sorted(ts.columns, key=snake2camel)]\n",
    "ts = ts.astype(\"float32\").loc[ID]\n",
    "T = ts.index  # ((ts.index - ts.index[0]) / Timedelta(\"1h\")).values\n",
    "\n",
    "fig, axes = plt.subplots(\n",
    "    nrows=3, ncols=5, figsize=(16, 10), constrained_layout=True, sharex=True\n",
    ")\n",
    "\n",
    "for col, ax in zip(ts.columns, axes.flatten()):\n",
    "    vals = ts[col]\n",
    "    mask = pandas.notna(vals)\n",
    "    ax.plot(\n",
    "        T[mask],\n",
    "        vals[mask],\n",
    "        ls=\"-\",\n",
    "        lw=0.5,\n",
    "        marker=\".\",\n",
    "        ms=3,\n",
    "    )\n",
    "    ax.set_title(snake2camel(col))"
   ]
  },
  {
   "cell_type": "code",
   "execution_count": null,
   "metadata": {},
   "outputs": [],
   "source": [
    "from tqdm.auto import tqdm"
   ]
  },
  {
   "cell_type": "code",
   "execution_count": null,
   "metadata": {},
   "outputs": [],
   "source": [
    "grid = [300]\n",
    "batches = slices.iloc[grid]\n",
    "\n",
    "for batch in batches:\n",
    "    for (idx, col), ax in tqdm(zip(enumerate(ts.columns), axes.flatten())):\n",
    "        make_plot(ax, task, batch, idx)"
   ]
  },
  {
   "cell_type": "code",
   "execution_count": null,
   "metadata": {},
   "outputs": [],
   "source": [
    "fig.savefig(\"pics/all_plots.png\")"
   ]
  },
  {
   "cell_type": "code",
   "execution_count": null,
   "metadata": {},
   "outputs": [],
   "source": []
  }
 ],
 "metadata": {
  "kernelspec": {
   "display_name": "Python 3 (ipykernel)",
   "language": "python",
   "name": "python3"
  },
  "language_info": {
   "codemirror_mode": {
    "name": "ipython",
    "version": 3
   },
   "file_extension": ".py",
   "mimetype": "text/x-python",
   "name": "python",
   "nbconvert_exporter": "python",
   "pygments_lexer": "ipython3",
   "version": "3.9.9"
  }
 },
 "nbformat": 4,
 "nbformat_minor": 4
}
