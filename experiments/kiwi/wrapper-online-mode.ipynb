{
 "cells": [
  {
   "cell_type": "markdown",
   "metadata": {},
   "source": [
    "# Title"
   ]
  },
  {
   "cell_type": "code",
   "execution_count": null,
   "metadata": {
    "execution": {
     "iopub.execute_input": "2022-11-14T16:31:19.908824Z",
     "iopub.status.busy": "2022-11-14T16:31:19.908404Z",
     "iopub.status.idle": "2022-11-14T16:31:20.405770Z",
     "shell.execute_reply": "2022-11-14T16:31:20.405335Z",
     "shell.execute_reply.started": "2022-11-14T16:31:19.908781Z"
    }
   },
   "outputs": [],
   "source": [
    "%config InteractiveShell.ast_node_interactivity='last_expr_or_assign'\n",
    "%config InlineBackend.figure_format = 'svg'\n",
    "%load_ext autoreload\n",
    "%autoreload 2\n",
    "%matplotlib inline\n",
    "\n",
    "import logging\n",
    "from collections.abc import *\n",
    "from dataclasses import KW_ONLY, dataclass\n",
    "from typing import Any, NamedTuple\n",
    "\n",
    "import matplotlib.pyplot as plt\n",
    "import numpy as np\n",
    "import pandas as pd\n",
    "import scipy as sp\n",
    "from pandas import DataFrame, Index, MultiIndex, Series\n",
    "\n",
    "rng = np.random.default_rng()\n",
    "np.set_printoptions(precision=4, floatmode=\"fixed\", suppress=True)\n",
    "logging.basicConfig(level=logging.INFO)"
   ]
  },
  {
   "cell_type": "code",
   "execution_count": null,
   "metadata": {
    "execution": {
     "iopub.execute_input": "2022-11-14T16:31:23.683415Z",
     "iopub.status.busy": "2022-11-14T16:31:23.682780Z",
     "iopub.status.idle": "2022-11-14T16:31:23.696011Z",
     "shell.execute_reply": "2022-11-14T16:31:23.695462Z",
     "shell.execute_reply.started": "2022-11-14T16:31:23.683396Z"
    }
   },
   "outputs": [],
   "source": [
    "import pickle"
   ]
  },
  {
   "cell_type": "code",
   "execution_count": null,
   "metadata": {
    "execution": {
     "iopub.execute_input": "2022-11-14T16:32:37.136832Z",
     "iopub.status.busy": "2022-11-14T16:32:37.136391Z",
     "iopub.status.idle": "2022-11-14T16:32:37.165207Z",
     "shell.execute_reply": "2022-11-14T16:32:37.164837Z",
     "shell.execute_reply.started": "2022-11-14T16:32:37.136811Z"
    },
    "tags": []
   },
   "outputs": [],
   "source": [
    "with open(\"example_510.pk\", \"rb\") as file:\n",
    "    d = pickle.load(file)"
   ]
  },
  {
   "cell_type": "code",
   "execution_count": null,
   "metadata": {
    "execution": {
     "iopub.execute_input": "2022-11-14T16:33:42.559308Z",
     "iopub.status.busy": "2022-11-14T16:33:42.559132Z",
     "iopub.status.idle": "2022-11-14T16:33:42.578874Z",
     "shell.execute_reply": "2022-11-14T16:33:42.578473Z",
     "shell.execute_reply.started": "2022-11-14T16:33:42.559296Z"
    }
   },
   "outputs": [],
   "source": [
    "d.keys()"
   ]
  },
  {
   "cell_type": "code",
   "execution_count": null,
   "metadata": {
    "execution": {
     "iopub.execute_input": "2022-11-14T16:33:52.058188Z",
     "iopub.status.busy": "2022-11-14T16:33:52.057810Z",
     "iopub.status.idle": "2022-11-14T16:33:52.077741Z",
     "shell.execute_reply": "2022-11-14T16:33:52.077190Z",
     "shell.execute_reply.started": "2022-11-14T16:33:52.058174Z"
    },
    "tags": []
   },
   "outputs": [],
   "source": [
    "d[16848].keys()"
   ]
  },
  {
   "cell_type": "code",
   "execution_count": null,
   "metadata": {
    "execution": {
     "iopub.execute_input": "2022-11-14T16:34:07.338035Z",
     "iopub.status.busy": "2022-11-14T16:34:07.337753Z",
     "iopub.status.idle": "2022-11-14T16:34:07.363450Z",
     "shell.execute_reply": "2022-11-14T16:34:07.363020Z",
     "shell.execute_reply.started": "2022-11-14T16:34:07.338023Z"
    }
   },
   "outputs": [],
   "source": [
    "d[16848][\"metadata\"]"
   ]
  },
  {
   "cell_type": "code",
   "execution_count": null,
   "metadata": {
    "execution": {
     "iopub.execute_input": "2022-11-14T16:34:29.153576Z",
     "iopub.status.busy": "2022-11-14T16:34:29.153320Z",
     "iopub.status.idle": "2022-11-14T16:34:29.193990Z",
     "shell.execute_reply": "2022-11-14T16:34:29.193514Z",
     "shell.execute_reply.started": "2022-11-14T16:34:29.153557Z"
    }
   },
   "outputs": [],
   "source": [
    "d[16848][\"measurements_aggregated\"]"
   ]
  },
  {
   "cell_type": "code",
   "execution_count": null,
   "metadata": {},
   "outputs": [],
   "source": []
  }
 ],
 "metadata": {
  "kernelspec": {
   "display_name": "Python 3 (ipykernel)",
   "language": "python",
   "name": "python3"
  },
  "language_info": {
   "codemirror_mode": {
    "name": "ipython",
    "version": 3
   },
   "file_extension": ".py",
   "mimetype": "text/x-python",
   "name": "python",
   "nbconvert_exporter": "python",
   "pygments_lexer": "ipython3",
   "version": "3.10.6"
  }
 },
 "nbformat": 4,
 "nbformat_minor": 4
}
