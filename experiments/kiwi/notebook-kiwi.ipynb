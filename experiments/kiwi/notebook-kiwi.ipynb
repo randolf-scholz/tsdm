{
 "cells": [
  {
   "cell_type": "markdown",
   "metadata": {},
   "source": [
    "# KIWI"
   ]
  },
  {
   "cell_type": "markdown",
   "metadata": {},
   "source": [
    "## Input Parsing (for command line use)"
   ]
  },
  {
   "cell_type": "code",
   "execution_count": null,
   "metadata": {
    "execution": {
     "iopub.execute_input": "2022-11-23T02:07:43.414979Z",
     "iopub.status.busy": "2022-11-23T02:07:43.414732Z",
     "iopub.status.idle": "2022-11-23T02:07:43.440641Z",
     "shell.execute_reply": "2022-11-23T02:07:43.439882Z",
     "shell.execute_reply.started": "2022-11-23T02:07:43.414921Z"
    },
    "tags": []
   },
   "outputs": [],
   "source": [
    "import argparse\n",
    "\n",
    "# fmt: off\n",
    "parser = argparse.ArgumentParser(description=\"Training Script for MIMIC dataset.\")\n",
    "parser.add_argument(\"-q\",  \"--quiet\",        default=False,  const=True, help=\"kernel-inititialization\", nargs=\"?\")\n",
    "parser.add_argument(\"-r\",  \"--run_id\",       default=None,   type=str,   help=\"run_id\")\n",
    "parser.add_argument(\"-c\",  \"--config\",       default=None,   type=str,   help=\"load external config\", nargs=2)\n",
    "parser.add_argument(\"-e\",  \"--epochs\",       default=100,    type=int,   help=\"maximum epochs\")\n",
    "parser.add_argument(\"-f\",  \"--fold\",         default=0,      type=int,   help=\"fold number\")\n",
    "parser.add_argument(\"-bs\", \"--batch-size\",   default=64,     type=int,   help=\"batch-size\")\n",
    "parser.add_argument(\"-lr\", \"--learn-rate\",   default=0.001,  type=float, help=\"learn-rate\")\n",
    "parser.add_argument(\"-b\",  \"--betas\", default=(0.9, 0.999),  type=float, help=\"adam betas\", nargs=2)\n",
    "parser.add_argument(\"-wd\", \"--weight-decay\", default=0.001,  type=float, help=\"weight-decay\")\n",
    "parser.add_argument(\"-hs\", \"--hidden-size\",  default=0,     type=int,   help=\"hidden-size\")\n",
    "parser.add_argument(\"-ls\", \"--latent-size\",  default=128,    type=int,   help=\"latent-size\")\n",
    "parser.add_argument(\"-ki\", \"--kernel-init\",  default=\"skew-symmetric\",   help=\"kernel-inititialization\")\n",
    "parser.add_argument(\"-kp\", \"--kernel-param\", default=\"identity\",         help=\"kernel-parametrization\")\n",
    "parser.add_argument(\"-fc\", \"--filter\",       default=\"SequentialFilter\", help=\"filter-component\")\n",
    "parser.add_argument(\"-ec\", \"--encoder\",      default=\"ResNet\",           help=\"encoder-component\")\n",
    "parser.add_argument(\"-dc\", \"--decoder\",      default=\"ResNet\",           help=\"decoder-component\")\n",
    "parser.add_argument(\"-sc\", \"--system\",       default=\"LinODECell\",       help=\"system-component\")\n",
    "parser.add_argument(\"-eb\", \"--embedding\",    default=\"ConcatEmbedding\",  help=\"embedding-component\")\n",
    "parser.add_argument(\"-pc\", \"--projection\",   default=\"ConcatProjection\", help=\"projection-component\")\n",
    "parser.add_argument(\"-n\",  \"--note\",         default=\"\",     type=str,   help=\"Note that can be added\")\n",
    "parser.add_argument(\"-s\",  \"--seed\",         default=None,   type=int,   help=\"Set the random seed.\")\n",
    "# fmt: on\n",
    "\n",
    "try:\n",
    "    get_ipython().run_line_magic(\n",
    "        \"config\", \"InteractiveShell.ast_node_interactivity='last_expr_or_assign'\"\n",
    "    )\n",
    "except NameError:\n",
    "    ARGS = parser.parse_args()\n",
    "else:\n",
    "    ARGS = parser.parse_args(\"\")\n",
    "\n",
    "print(ARGS)"
   ]
  },
  {
   "cell_type": "markdown",
   "metadata": {},
   "source": [
    "### Load from config file if provided"
   ]
  },
  {
   "cell_type": "code",
   "execution_count": null,
   "metadata": {
    "execution": {
     "iopub.execute_input": "2022-11-23T02:07:43.442366Z",
     "iopub.status.busy": "2022-11-23T02:07:43.442157Z",
     "iopub.status.idle": "2022-11-23T02:07:43.466057Z",
     "shell.execute_reply": "2022-11-23T02:07:43.464470Z",
     "shell.execute_reply.started": "2022-11-23T02:07:43.442346Z"
    },
    "tags": []
   },
   "outputs": [],
   "source": [
    "import yaml\n",
    "\n",
    "if ARGS.config is not None:\n",
    "    cfg_file, cfg_id = ARGS.config\n",
    "    with open(cfg_file, \"r\") as file:\n",
    "        cfg_dict = yaml.safe_load(file)\n",
    "        vars(ARGS).update(**cfg_dict[int(cfg_id)])\n",
    "\n",
    "print(ARGS)"
   ]
  },
  {
   "cell_type": "markdown",
   "metadata": {},
   "source": [
    "## Global Variables"
   ]
  },
  {
   "cell_type": "code",
   "execution_count": null,
   "metadata": {
    "execution": {
     "iopub.execute_input": "2022-11-23T02:07:43.468019Z",
     "iopub.status.busy": "2022-11-23T02:07:43.467388Z",
     "iopub.status.idle": "2022-11-23T02:07:44.194761Z",
     "shell.execute_reply": "2022-11-23T02:07:44.194402Z",
     "shell.execute_reply.started": "2022-11-23T02:07:43.467991Z"
    },
    "tags": []
   },
   "outputs": [],
   "source": [
    "import logging\n",
    "import os\n",
    "import pickle\n",
    "import random\n",
    "import warnings\n",
    "from datetime import datetime\n",
    "from pathlib import Path\n",
    "\n",
    "import numpy as np\n",
    "import torch\n",
    "import torchinfo\n",
    "from IPython.core.display import HTML\n",
    "from torch import Tensor, jit\n",
    "from tqdm.autonotebook import tqdm, trange\n",
    "\n",
    "# os.environ[\"CUDA_LAUNCH_BLOCKING\"] = \"1\"\n",
    "torch.backends.cuda.matmul.allow_tf32 = True\n",
    "torch.backends.cudnn.allow_tf32 = True\n",
    "# torch.jit.enable_onednn_fusion(True)\n",
    "torch.backends.cudnn.benchmark = True\n",
    "# torch.multiprocessing.set_start_method('spawn')\n",
    "\n",
    "warnings.filterwarnings(action=\"ignore\", category=UserWarning, module=\"torch\")\n",
    "logging.basicConfig(level=logging.WARN)\n",
    "HTML(\"<style>.jp-OutputArea-prompt:empty {padding: 0; border: 0;}</style>\")"
   ]
  },
  {
   "cell_type": "markdown",
   "metadata": {
    "tags": []
   },
   "source": [
    "## Initialize Task"
   ]
  },
  {
   "cell_type": "code",
   "execution_count": null,
   "metadata": {
    "execution": {
     "iopub.execute_input": "2022-11-23T02:07:44.195402Z",
     "iopub.status.busy": "2022-11-23T02:07:44.195249Z",
     "iopub.status.idle": "2022-11-23T02:07:46.010183Z",
     "shell.execute_reply": "2022-11-23T02:07:46.009759Z",
     "shell.execute_reply.started": "2022-11-23T02:07:44.195391Z"
    },
    "tags": []
   },
   "outputs": [],
   "source": [
    "from tsdm.tasks import KiwiTask\n",
    "\n",
    "TASK = KiwiTask()"
   ]
  },
  {
   "cell_type": "markdown",
   "metadata": {},
   "source": [
    "## Hyperparameter choices"
   ]
  },
  {
   "cell_type": "code",
   "execution_count": null,
   "metadata": {
    "execution": {
     "iopub.execute_input": "2022-11-23T02:07:46.010881Z",
     "iopub.status.busy": "2022-11-23T02:07:46.010706Z",
     "iopub.status.idle": "2022-11-23T02:07:46.119836Z",
     "shell.execute_reply": "2022-11-23T02:07:46.119530Z",
     "shell.execute_reply.started": "2022-11-23T02:07:46.010868Z"
    },
    "tags": []
   },
   "outputs": [],
   "source": [
    "if ARGS.seed is not None:\n",
    "    torch.manual_seed(ARGS.seed)\n",
    "    random.seed(ARGS.seed)\n",
    "    np.random.seed(ARGS.seed)\n",
    "\n",
    "OPTIMIZER_CONFIG = {\n",
    "    \"lr\": ARGS.learn_rate,\n",
    "    \"betas\": torch.tensor(ARGS.betas),\n",
    "    \"weight_decay\": ARGS.weight_decay,\n",
    "}\n",
    "\n",
    "hparam_dict = {\n",
    "    \"dataset\": (DATASET := \"KIWI\"),\n",
    "    \"model\": (MODEL_NAME := \"LinODEnet\"),\n",
    "    \"fold\": ARGS.fold,\n",
    "    \"seed\": ARGS.seed,\n",
    "    \"max_epochs\": ARGS.epochs,\n",
    "    \"batch_size\": ARGS.batch_size,\n",
    "    \"hidden_size\": ARGS.hidden_size,\n",
    "    \"latent_size\": ARGS.latent_size,\n",
    "    \"kernel-initialization\": ARGS.kernel_init,\n",
    "} | OPTIMIZER_CONFIG"
   ]
  },
  {
   "cell_type": "code",
   "execution_count": null,
   "metadata": {
    "execution": {
     "iopub.execute_input": "2022-11-23T02:07:46.120376Z",
     "iopub.status.busy": "2022-11-23T02:07:46.120267Z",
     "iopub.status.idle": "2022-11-23T02:07:46.123945Z",
     "shell.execute_reply": "2022-11-23T02:07:46.123664Z",
     "shell.execute_reply.started": "2022-11-23T02:07:46.120365Z"
    },
    "tags": []
   },
   "outputs": [],
   "source": [
    "DEVICE = torch.device(\"cuda\" if torch.cuda.is_available() else \"cpu\")\n",
    "CONFIG_STR = f\"f={ARGS.fold}_bs={ARGS.batch_size}_lr={ARGS.learn_rate}_hs={ARGS.hidden_size}_ls={ARGS.latent_size}\"\n",
    "RUN_ID = ARGS.run_id or datetime.now().isoformat(timespec=\"seconds\")\n",
    "CFG_ID = 0 if ARGS.config is None else ARGS.config[1]\n",
    "HOME = Path.cwd()\n",
    "\n",
    "LOGGING_DIR = HOME / \"tensorboard\" / DATASET / MODEL_NAME / RUN_ID / CONFIG_STR\n",
    "CKPOINT_DIR = HOME / \"checkpoints\" / DATASET / MODEL_NAME / RUN_ID / CONFIG_STR\n",
    "RESULTS_DIR = HOME / \"results\" / DATASET / MODEL_NAME / RUN_ID\n",
    "LOGGING_DIR.mkdir(parents=True, exist_ok=True)\n",
    "CKPOINT_DIR.mkdir(parents=True, exist_ok=True)\n",
    "RESULTS_DIR.mkdir(parents=True, exist_ok=True)"
   ]
  },
  {
   "cell_type": "markdown",
   "metadata": {},
   "source": [
    "## Initialize DataLoaders"
   ]
  },
  {
   "cell_type": "code",
   "execution_count": null,
   "metadata": {
    "execution": {
     "iopub.execute_input": "2022-11-23T02:07:46.125245Z",
     "iopub.status.busy": "2022-11-23T02:07:46.125064Z",
     "iopub.status.idle": "2022-11-23T02:07:50.596901Z",
     "shell.execute_reply": "2022-11-23T02:07:50.596516Z",
     "shell.execute_reply.started": "2022-11-23T02:07:46.125234Z"
    },
    "tags": []
   },
   "outputs": [],
   "source": [
    "# from tsdm.tasks.mimic_iii_debrouwer2019 import mimic_collate as task_collate_fn\n",
    "\n",
    "dloader_config_train = {\n",
    "    \"batch_size\": ARGS.batch_size,\n",
    "    # \"shuffle\": True,\n",
    "    \"drop_last\": True,\n",
    "    \"pin_memory\": True,\n",
    "    \"num_workers\": os.cpu_count() * 3 // 4,\n",
    "    # \"collate_fn\": task_collate_fn,\n",
    "}\n",
    "\n",
    "dloader_config_infer = {\n",
    "    \"batch_size\": 2 * ARGS.batch_size,\n",
    "    # \"shuffle\": False,\n",
    "    \"drop_last\": False,\n",
    "    \"pin_memory\": True,\n",
    "    \"num_workers\": os.cpu_count() * 3 // 4,\n",
    "    # \"collate_fn\": task_collate_fn,\n",
    "}\n",
    "\n",
    "# TRAIN_LOADER = TASK.dataloaders[ARGS.fold, \"train\"]\n",
    "# INFER_LOADER = TASK.dataloaders[ARGS.fold, \"train\"]\n",
    "# VALID_LOADER = TASK.dataloaders[ARGS.fold, \"valid\"]\n",
    "# TEST_LOADER = TASK.dataloaders[ARGS.fold, \"test\"]\n",
    "\n",
    "TRAIN_LOADER = TASK.make_dataloader((ARGS.fold, \"train\"), **dloader_config_train)\n",
    "INFER_LOADER = TASK.make_dataloader((ARGS.fold, \"train\"), **dloader_config_infer)\n",
    "VALID_LOADER = TASK.make_dataloader((ARGS.fold, \"valid\"), **dloader_config_infer)\n",
    "TEST_LOADER = TASK.make_dataloader((ARGS.fold, \"test\"), **dloader_config_infer)\n",
    "EVAL_LOADERS = {\"train\": INFER_LOADER, \"valid\": VALID_LOADER, \"test\": TEST_LOADER}"
   ]
  },
  {
   "cell_type": "markdown",
   "metadata": {},
   "source": [
    "# Serialize Encoder"
   ]
  },
  {
   "cell_type": "code",
   "execution_count": null,
   "metadata": {
    "execution": {
     "iopub.execute_input": "2022-11-23T02:07:50.597669Z",
     "iopub.status.busy": "2022-11-23T02:07:50.597438Z",
     "iopub.status.idle": "2022-11-23T02:07:50.602976Z",
     "shell.execute_reply": "2022-11-23T02:07:50.602655Z",
     "shell.execute_reply.started": "2022-11-23T02:07:50.597656Z"
    },
    "tags": []
   },
   "outputs": [],
   "source": [
    "ENCODER = TASK.encoders[ARGS.fold, \"train\"]\n",
    "\n",
    "with open(CKPOINT_DIR / \"encoder.pickle\", \"wb\") as file:\n",
    "    pickle.dump(ENCODER, file)\n",
    "\n",
    "# check loading\n",
    "with open(CKPOINT_DIR / \"encoder.pickle\", \"rb\") as file:\n",
    "    _ = pickle.load(file)"
   ]
  },
  {
   "cell_type": "markdown",
   "metadata": {},
   "source": [
    "## Initialize Loss"
   ]
  },
  {
   "cell_type": "code",
   "execution_count": null,
   "metadata": {
    "execution": {
     "iopub.execute_input": "2022-11-23T02:07:50.603520Z",
     "iopub.status.busy": "2022-11-23T02:07:50.603400Z",
     "iopub.status.idle": "2022-11-23T02:07:51.385468Z",
     "shell.execute_reply": "2022-11-23T02:07:51.384934Z",
     "shell.execute_reply.started": "2022-11-23T02:07:50.603508Z"
    },
    "tags": []
   },
   "outputs": [],
   "source": [
    "from tsdm.metrics import RMSE, MSE, MAE\n",
    "\n",
    "LOSS = TASK.test_metrics[ARGS.fold, \"train\"]\n",
    "METRICS = {\n",
    "    \"wMSE\": LOSS,\n",
    "    \"RMSE\": RMSE(),\n",
    "    \"MSE\": MSE(),\n",
    "    \"MAE\": MAE(),\n",
    "}\n",
    "\n",
    "LOSS = LOSS.to(device=DEVICE)"
   ]
  },
  {
   "cell_type": "markdown",
   "metadata": {},
   "source": [
    "## Initialize Model"
   ]
  },
  {
   "cell_type": "code",
   "execution_count": null,
   "metadata": {
    "execution": {
     "iopub.execute_input": "2022-11-23T02:07:51.386072Z",
     "iopub.status.busy": "2022-11-23T02:07:51.385963Z",
     "iopub.status.idle": "2022-11-23T02:07:51.391234Z",
     "shell.execute_reply": "2022-11-23T02:07:51.390755Z",
     "shell.execute_reply.started": "2022-11-23T02:07:51.386060Z"
    }
   },
   "outputs": [],
   "source": [
    "from linodenet.models import LinODEnet\n",
    "from linodenet.models.embeddings import EMBEDDINGS\n",
    "from linodenet.models.encoders import ENCODERS\n",
    "from linodenet.models.filters import FILTERS\n",
    "from linodenet.models.system import SYSTEMS\n",
    "\n",
    "MODEL_CONFIG = {\n",
    "    \"__name__\": \"LinODEnet\",\n",
    "    \"input_size\": TASK.dataset.shape[-1],\n",
    "    \"hidden_size\": ARGS.hidden_size,\n",
    "    \"latent_size\": ARGS.latent_size,\n",
    "    \"Filter\": FILTERS[ARGS.filter].HP | {\"autoregressive\": True},\n",
    "    \"System\": SYSTEMS[ARGS.system].HP\n",
    "    | {\n",
    "        \"kernel_initialization\": ARGS.kernel_init,\n",
    "        \"kernel_parametrization\": ARGS.kernel_param,\n",
    "    },\n",
    "    \"Encoder\": ENCODERS[ARGS.encoder].HP | {\"num_blocks\": 10},\n",
    "    \"Decoder\": ENCODERS[ARGS.decoder].HP | {\"num_blocks\": 10},\n",
    "    \"Embedding\": EMBEDDINGS[ARGS.embedding].HP,\n",
    "    \"Projection\": EMBEDDINGS[ARGS.projection].HP,\n",
    "}\n",
    "\n",
    "MODEL = LinODEnet(**MODEL_CONFIG).to(DEVICE)\n",
    "MODEL = torch.jit.script(MODEL)\n",
    "torchinfo.summary(MODEL, depth=2)"
   ]
  },
  {
   "cell_type": "markdown",
   "metadata": {
    "tags": []
   },
   "source": [
    "## Warm-Up - pre-allocate memory\n",
    "\n",
    "We perform forward and backward with a maximal size batch. \n",
    "\n",
    "**Reference:** [pre-allocate-memory](https://pytorch.org/tutorials/recipes/recipes/tuning_guide.html#pre-allocate-memory-in-case-of-variable-input-lengthhttps://pytorch.org/tutorials/recipes/recipes/tuning_guide.html#pre-allocate-memory-in-case-of-variable-input-length)"
   ]
  },
  {
   "cell_type": "code",
   "execution_count": null,
   "metadata": {
    "execution": {
     "iopub.status.busy": "2022-11-23T02:07:51.391501Z",
     "iopub.status.idle": "2022-11-23T02:07:51.391636Z",
     "shell.execute_reply": "2022-11-23T02:07:51.391572Z",
     "shell.execute_reply.started": "2022-11-23T02:07:51.391565Z"
    },
    "tags": []
   },
   "outputs": [],
   "source": [
    "def predict_fn(model, batch) -> tuple[Tensor, Tensor]:\n",
    "    \"\"\"Get targets and predictions.\"\"\"\n",
    "    T, X, M, _, Y, MY = (tensor.to(DEVICE) for tensor in batch)\n",
    "    YHAT = model(T, X)\n",
    "    return Y, YHAT\n",
    "\n",
    "\n",
    "batch = next(iter(TRAIN_LOADER))\n",
    "MODEL.zero_grad(set_to_none=True)\n",
    "\n",
    "# Forward\n",
    "Y, YHAT = predict_fn(MODEL, batch)\n",
    "assert not torch.isnan(YHAT).any(), f\"prediction has NaN values!\"\n",
    "\n",
    "# Loss\n",
    "R = LOSS(Y, YHAT)\n",
    "assert torch.isfinite(R), \"Model Collapsed!\"\n",
    "\n",
    "# Backward\n",
    "R.backward()\n",
    "assert not torch.isnan(MODEL.kernel.grad).any(), f\"gradient has NaN values!\"\n",
    "\n",
    "# Reset\n",
    "MODEL.zero_grad(set_to_none=True)"
   ]
  },
  {
   "cell_type": "markdown",
   "metadata": {
    "tags": []
   },
   "source": [
    "## Initialize Optimizer"
   ]
  },
  {
   "cell_type": "code",
   "execution_count": null,
   "metadata": {
    "execution": {
     "iopub.status.busy": "2022-11-23T02:07:51.391965Z",
     "iopub.status.idle": "2022-11-23T02:07:51.392096Z",
     "shell.execute_reply": "2022-11-23T02:07:51.392034Z",
     "shell.execute_reply.started": "2022-11-23T02:07:51.392028Z"
    },
    "tags": []
   },
   "outputs": [],
   "source": [
    "from torch.optim import AdamW\n",
    "\n",
    "OPTIMIZER = AdamW(MODEL.parameters(), **OPTIMIZER_CONFIG)"
   ]
  },
  {
   "cell_type": "markdown",
   "metadata": {},
   "source": [
    "## Initialize Logging"
   ]
  },
  {
   "cell_type": "code",
   "execution_count": null,
   "metadata": {
    "execution": {
     "iopub.status.busy": "2022-11-23T02:07:51.392546Z",
     "iopub.status.idle": "2022-11-23T02:07:51.392679Z",
     "shell.execute_reply": "2022-11-23T02:07:51.392614Z",
     "shell.execute_reply.started": "2022-11-23T02:07:51.392607Z"
    },
    "tags": []
   },
   "outputs": [],
   "source": [
    "from torch.utils.tensorboard import SummaryWriter\n",
    "\n",
    "from tsdm.logutils import StandardLogger\n",
    "\n",
    "WRITER = SummaryWriter(LOGGING_DIR)\n",
    "LOGGER = StandardLogger(\n",
    "    writer=WRITER,\n",
    "    model=MODEL,\n",
    "    optimizer=OPTIMIZER,\n",
    "    metrics=METRICS,\n",
    "    dataloaders=EVAL_LOADERS,\n",
    "    hparam_dict=hparam_dict,\n",
    "    checkpoint_dir=CKPOINT_DIR,\n",
    "    predict_fn=predict_fn,\n",
    "    results_dir=RESULTS_DIR,\n",
    ")\n",
    "LOGGER.log_epoch_end(0)"
   ]
  },
  {
   "cell_type": "markdown",
   "metadata": {},
   "source": [
    "## Training"
   ]
  },
  {
   "cell_type": "code",
   "execution_count": null,
   "metadata": {
    "execution": {
     "iopub.status.busy": "2022-11-23T02:07:51.392943Z",
     "iopub.status.idle": "2022-11-23T02:07:51.393071Z",
     "shell.execute_reply": "2022-11-23T02:07:51.393010Z",
     "shell.execute_reply.started": "2022-11-23T02:07:51.393004Z"
    },
    "tags": []
   },
   "outputs": [],
   "source": [
    "total_num_batches = 0\n",
    "for epoch in trange(1, ARGS.epochs, desc=\"Epoch\", position=0):\n",
    "    for batch in tqdm(\n",
    "        TRAIN_LOADER, desc=\"Batch\", leave=False, position=1, disable=ARGS.quiet\n",
    "    ):\n",
    "        total_num_batches += 1\n",
    "        MODEL.zero_grad(set_to_none=True)\n",
    "\n",
    "        # Forward\n",
    "        Y, YHAT = predict_fn(MODEL, batch)\n",
    "        R = LOSS(Y, YHAT)\n",
    "        assert torch.isfinite(R), \"Model Collapsed!\"\n",
    "\n",
    "        # Backward\n",
    "        R.backward()\n",
    "        OPTIMIZER.step()\n",
    "\n",
    "        # Logging\n",
    "        LOGGER.log_batch_end(total_num_batches, targets=Y, predics=YHAT)\n",
    "    LOGGER.log_epoch_end(epoch)\n",
    "\n",
    "LOGGER.log_history(CFG_ID)\n",
    "LOGGER.log_hparams(CFG_ID)"
   ]
  }
 ],
 "metadata": {
  "kernelspec": {
   "display_name": "Python 3 (ipykernel)",
   "language": "python",
   "name": "python3"
  },
  "language_info": {
   "codemirror_mode": {
    "name": "ipython",
    "version": 3
   },
   "file_extension": ".py",
   "mimetype": "text/x-python",
   "name": "python",
   "nbconvert_exporter": "python",
   "pygments_lexer": "ipython3",
   "version": "3.10.6"
  },
  "vscode": {
   "interpreter": {
    "hash": "ec22ec550e91a21331b7b83c9c957f9d692fda7e80c00eddaeb353649ec6f8f4"
   }
  }
 },
 "nbformat": 4,
 "nbformat_minor": 4
}
