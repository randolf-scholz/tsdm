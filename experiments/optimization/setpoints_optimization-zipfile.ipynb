{
 "cells": [
  {
   "cell_type": "code",
   "execution_count": null,
   "id": "20191951-beec-414a-b3c6-89dca8277ad2",
   "metadata": {
    "execution": {
     "iopub.execute_input": "2022-11-24T16:51:48.721363Z",
     "iopub.status.busy": "2022-11-24T16:51:48.721158Z",
     "iopub.status.idle": "2022-11-24T16:51:49.907119Z",
     "shell.execute_reply": "2022-11-24T16:51:49.906599Z",
     "shell.execute_reply.started": "2022-11-24T16:51:48.721315Z"
    },
    "tags": []
   },
   "outputs": [],
   "source": [
    "%config InteractiveShell.ast_node_interactivity='last_expr_or_assign'\n",
    "%config InlineBackend.figure_format = 'svg'\n",
    "%load_ext autoreload\n",
    "%autoreload 2\n",
    "%matplotlib inline\n",
    "\n",
    "\n",
    "import pickle\n",
    "\n",
    "import numpy as np\n",
    "import pandas as pd\n",
    "import torch\n",
    "from pandas import DataFrame, Index, MultiIndex\n",
    "from torch import Tensor\n",
    "from torch.nn.utils.rnn import pad_sequence\n",
    "from torchinfo import summary"
   ]
  },
  {
   "cell_type": "code",
   "execution_count": null,
   "id": "58b7f6d7",
   "metadata": {
    "execution": {
     "iopub.execute_input": "2022-11-24T16:51:49.908294Z",
     "iopub.status.busy": "2022-11-24T16:51:49.908117Z",
     "iopub.status.idle": "2022-11-24T16:51:50.445725Z",
     "shell.execute_reply": "2022-11-24T16:51:50.445239Z",
     "shell.execute_reply.started": "2022-11-24T16:51:49.908283Z"
    },
    "tags": []
   },
   "outputs": [],
   "source": [
    "from tsdm.models.pretrained import LinODEnet\n",
    "\n",
    "DEVICE = torch.device(\"cuda\" if torch.cuda.is_available() else \"cpu\")\n",
    "\n",
    "pretrained = LinODEnet.from_zipfile(\"2022-11-24-linodenet-110.zip\", device=\"cpu\")"
   ]
  },
  {
   "cell_type": "markdown",
   "id": "4dc23284-7aa7-4eaf-a390-f0b3094b83f1",
   "metadata": {
    "tags": []
   },
   "source": [
    "# Load the Model"
   ]
  },
  {
   "cell_type": "code",
   "execution_count": null,
   "id": "d695b42b",
   "metadata": {
    "execution": {
     "iopub.execute_input": "2022-11-24T16:51:50.447110Z",
     "iopub.status.busy": "2022-11-24T16:51:50.446206Z",
     "iopub.status.idle": "2022-11-24T16:51:50.701529Z",
     "shell.execute_reply": "2022-11-24T16:51:50.700910Z",
     "shell.execute_reply.started": "2022-11-24T16:51:50.447098Z"
    },
    "tags": []
   },
   "outputs": [],
   "source": [
    "model = pretrained[\"model\"]\n",
    "summary(model, depth=2)"
   ]
  },
  {
   "cell_type": "markdown",
   "id": "f5582e16-b07b-4271-a06d-00272e0ac33f",
   "metadata": {},
   "source": [
    "# Load the Encoder"
   ]
  },
  {
   "cell_type": "code",
   "execution_count": null,
   "id": "3394a469-5536-4368-a314-3ec62252a425",
   "metadata": {
    "execution": {
     "iopub.execute_input": "2022-11-24T16:51:50.702210Z",
     "iopub.status.busy": "2022-11-24T16:51:50.702094Z",
     "iopub.status.idle": "2022-11-24T16:51:50.725677Z",
     "shell.execute_reply": "2022-11-24T16:51:50.725275Z",
     "shell.execute_reply.started": "2022-11-24T16:51:50.702199Z"
    },
    "tags": []
   },
   "outputs": [],
   "source": [
    "encoder = pretrained[\"encoder\"]"
   ]
  },
  {
   "cell_type": "markdown",
   "id": "eddf97cf-f11e-485f-af68-2d1ee907ec6d",
   "metadata": {},
   "source": [
    "# Load the pickled data"
   ]
  },
  {
   "cell_type": "code",
   "execution_count": null,
   "id": "1136313b-a4ad-4400-916f-fbb5737673e3",
   "metadata": {
    "execution": {
     "iopub.execute_input": "2022-11-24T16:51:50.726299Z",
     "iopub.status.busy": "2022-11-24T16:51:50.726188Z",
     "iopub.status.idle": "2022-11-24T16:51:50.792010Z",
     "shell.execute_reply": "2022-11-24T16:51:50.791503Z",
     "shell.execute_reply.started": "2022-11-24T16:51:50.726288Z"
    },
    "tags": []
   },
   "outputs": [],
   "source": [
    "TS, MD, SP = pretrained.make_dataframes_from_pickle(\"example_510.pk\")\n",
    "TS"
   ]
  },
  {
   "cell_type": "markdown",
   "id": "e8897f75-ee88-410e-aa7c-a4f04fd07878",
   "metadata": {
    "tags": []
   },
   "source": [
    "## Clean the timeseries"
   ]
  },
  {
   "cell_type": "code",
   "execution_count": null,
   "id": "d965316a-ac26-4e4b-bdd0-9ddfd1849f93",
   "metadata": {
    "execution": {
     "iopub.execute_input": "2022-11-24T16:51:50.792649Z",
     "iopub.status.busy": "2022-11-24T16:51:50.792535Z",
     "iopub.status.idle": "2022-11-24T16:51:50.831587Z",
     "shell.execute_reply": "2022-11-24T16:51:50.831207Z",
     "shell.execute_reply.started": "2022-11-24T16:51:50.792638Z"
    },
    "tags": []
   },
   "outputs": [],
   "source": [
    "TS = pretrained.clean_timeseries(TS)"
   ]
  },
  {
   "cell_type": "markdown",
   "id": "4cf7cf3f-a53e-43ca-b6c1-842f97275981",
   "metadata": {},
   "source": [
    "## Predict in Batch Mode - Way Faster!"
   ]
  },
  {
   "cell_type": "code",
   "execution_count": null,
   "id": "ea3c13af-05c3-4ad0-b88f-3011463a2b30",
   "metadata": {
    "execution": {
     "iopub.execute_input": "2022-11-24T16:51:50.832676Z",
     "iopub.status.busy": "2022-11-24T16:51:50.832562Z",
     "iopub.status.idle": "2022-11-24T16:51:59.937170Z",
     "shell.execute_reply": "2022-11-24T16:51:59.936669Z",
     "shell.execute_reply.started": "2022-11-24T16:51:50.832665Z"
    },
    "tags": []
   },
   "outputs": [],
   "source": [
    "pretrained.get_predictions(TS)"
   ]
  },
  {
   "cell_type": "code",
   "execution_count": null,
   "id": "6aa2cca7-0d11-4afd-842c-f7524bd18f46",
   "metadata": {},
   "outputs": [],
   "source": []
  }
 ],
 "metadata": {
  "kernelspec": {
   "display_name": "Python 3 (ipykernel)",
   "language": "python",
   "name": "python3"
  },
  "language_info": {
   "codemirror_mode": {
    "name": "ipython",
    "version": 3
   },
   "file_extension": ".py",
   "mimetype": "text/x-python",
   "name": "python",
   "nbconvert_exporter": "python",
   "pygments_lexer": "ipython3",
   "version": "3.10.6"
  }
 },
 "nbformat": 4,
 "nbformat_minor": 5
}
