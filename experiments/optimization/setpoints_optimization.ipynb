{
 "cells": [
  {
   "cell_type": "code",
   "execution_count": null,
   "id": "20191951-beec-414a-b3c6-89dca8277ad2",
   "metadata": {
    "execution": {
     "iopub.execute_input": "2022-11-17T13:45:59.020223Z",
     "iopub.status.busy": "2022-11-17T13:45:59.020080Z",
     "iopub.status.idle": "2022-11-17T13:45:59.858794Z",
     "shell.execute_reply": "2022-11-17T13:45:59.858137Z",
     "shell.execute_reply.started": "2022-11-17T13:45:59.020169Z"
    },
    "tags": []
   },
   "outputs": [],
   "source": [
    "%config InteractiveShell.ast_node_interactivity='last_expr_or_assign'\n",
    "%config InlineBackend.figure_format = 'svg'\n",
    "%load_ext autoreload\n",
    "%autoreload 2\n",
    "%matplotlib inline\n",
    "\n",
    "\n",
    "from torchinfo import summary"
   ]
  },
  {
   "cell_type": "code",
   "execution_count": null,
   "id": "58b7f6d7",
   "metadata": {
    "execution": {
     "iopub.execute_input": "2022-11-17T13:45:59.859790Z",
     "iopub.status.busy": "2022-11-17T13:45:59.859628Z",
     "iopub.status.idle": "2022-11-17T13:46:00.726609Z",
     "shell.execute_reply": "2022-11-17T13:46:00.726050Z",
     "shell.execute_reply.started": "2022-11-17T13:45:59.859779Z"
    },
    "tags": []
   },
   "outputs": [],
   "source": [
    "from tsdm.models.pretrained import LinODEnet\n",
    "\n",
    "pretrained = LinODEnet()"
   ]
  },
  {
   "cell_type": "markdown",
   "id": "4dc23284-7aa7-4eaf-a390-f0b3094b83f1",
   "metadata": {},
   "source": [
    "# Load the Model"
   ]
  },
  {
   "cell_type": "code",
   "execution_count": null,
   "id": "d695b42b",
   "metadata": {
    "execution": {
     "iopub.execute_input": "2022-11-17T13:46:00.727482Z",
     "iopub.status.busy": "2022-11-17T13:46:00.727163Z",
     "iopub.status.idle": "2022-11-17T13:46:01.964651Z",
     "shell.execute_reply": "2022-11-17T13:46:01.964170Z",
     "shell.execute_reply.started": "2022-11-17T13:46:00.727467Z"
    },
    "tags": []
   },
   "outputs": [],
   "source": [
    "model = pretrained[\"model\"]\n",
    "summary(model, depth=2)"
   ]
  },
  {
   "cell_type": "markdown",
   "id": "f5582e16-b07b-4271-a06d-00272e0ac33f",
   "metadata": {},
   "source": [
    "# Load the Encoder"
   ]
  },
  {
   "cell_type": "code",
   "execution_count": null,
   "id": "3394a469-5536-4368-a314-3ec62252a425",
   "metadata": {
    "execution": {
     "iopub.execute_input": "2022-11-17T13:46:01.965369Z",
     "iopub.status.busy": "2022-11-17T13:46:01.965231Z",
     "iopub.status.idle": "2022-11-17T13:46:01.994389Z",
     "shell.execute_reply": "2022-11-17T13:46:01.993989Z",
     "shell.execute_reply.started": "2022-11-17T13:46:01.965356Z"
    },
    "tags": []
   },
   "outputs": [],
   "source": [
    "encoder = pretrained[\"encoder\"]"
   ]
  },
  {
   "cell_type": "markdown",
   "id": "ee48a27c-6d8f-46f3-8171-cbeca80dfafa",
   "metadata": {},
   "source": [
    "# Load the Optimizer"
   ]
  },
  {
   "cell_type": "code",
   "execution_count": null,
   "id": "8936a115-0c8e-4170-97c3-8c182faa692a",
   "metadata": {
    "execution": {
     "iopub.execute_input": "2022-11-17T13:46:01.995211Z",
     "iopub.status.busy": "2022-11-17T13:46:01.994966Z",
     "iopub.status.idle": "2022-11-17T13:46:02.349461Z",
     "shell.execute_reply": "2022-11-17T13:46:02.348753Z",
     "shell.execute_reply.started": "2022-11-17T13:46:01.995199Z"
    },
    "tags": []
   },
   "outputs": [],
   "source": [
    "optimizer = pretrained[\"optimizer\"]"
   ]
  },
  {
   "cell_type": "code",
   "execution_count": null,
   "id": "5da1f9f1-f129-4a56-a23d-e945bc52d61e",
   "metadata": {},
   "outputs": [],
   "source": []
  }
 ],
 "metadata": {
  "kernelspec": {
   "display_name": "Python 3 (ipykernel)",
   "language": "python",
   "name": "python3"
  },
  "language_info": {
   "codemirror_mode": {
    "name": "ipython",
    "version": 3
   },
   "file_extension": ".py",
   "mimetype": "text/x-python",
   "name": "python",
   "nbconvert_exporter": "python",
   "pygments_lexer": "ipython3",
   "version": "3.10.6"
  }
 },
 "nbformat": 4,
 "nbformat_minor": 5
}
