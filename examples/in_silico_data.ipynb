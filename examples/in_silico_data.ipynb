{
 "cells": [
  {
   "cell_type": "code",
   "execution_count": 1,
   "id": "aa0654e6-74c4-41d6-a8de-ebfebd48c925",
   "metadata": {},
   "outputs": [],
   "source": [
    "import pandas as pd\n",
    "import git\n",
    "from pathlib import Path\n",
    "import matplotlib.pyplot as plt\n",
    "import numpy as np"
   ]
  },
  {
   "cell_type": "code",
   "execution_count": 2,
   "id": "831cec8a-9d73-403e-9708-866dfbcdc978",
   "metadata": {},
   "outputs": [],
   "source": [
    "# assuming data is in \n",
    "repo = git.Repo('.', search_parent_directories=True)\n",
    "path = Path(repo.working_tree_dir).joinpath('data')\n",
    "assert path.exists\n",
    "files = list(path.glob(\"*.txt\"))"
   ]
  },
  {
   "cell_type": "code",
   "execution_count": 3,
   "id": "4570d622-d55a-465d-b35a-c94712516a1e",
   "metadata": {},
   "outputs": [],
   "source": [
    "dfs = {}\n",
    "for file in files:    \n",
    "    df = pd.read_csv(file, index_col=0)\n",
    "    df = df.rename_axis(index=\"time\")\n",
    "    df[\"DOTm\"] /= 100\n",
    "    df.name = \"\".join([c for c in file.name if c.isdigit()])\n",
    "    dfs[df.name] = df\n",
    "\n",
    "df"
   ]
  },
  {
   "cell_type": "code",
   "execution_count": 13,
   "id": "20635b7d-5e29-4355-b061-9e011b5ff237",
   "metadata": {},
   "outputs": [],
   "source": [
    "plt.style.use('ggplot')\n",
    "fig, axes = plt.subplots(nrows=2, ncols=4, figsize=(16, 8), sharex=True, sharey=True, tight_layout=True, subplot_kw={'yscale':'log'})\n",
    "\n",
    "for df, ax in zip(dfs.values(), axes.flatten()):\n",
    "    x = df.index\n",
    "    for col in df.columns:\n",
    "        if col in  ('Biomass', 'Substrate', 'Acetate', 'Product'):\n",
    "            y=df[col]\n",
    "            mask = pd.notna(y)\n",
    "            line, = ax.plot(x[mask], y[mask], ls=\"--\", lw=1, marker=\"*\")\n",
    "            ax.plot(x,y, color=line.get_color(), lw=1.5)\n",
    "            ax.set_title(df.name)"
   ]
  },
  {
   "cell_type": "code",
   "execution_count": 5,
   "id": "414330c4-3eb6-43fe-8760-f85dff030d7c",
   "metadata": {},
   "outputs": [],
   "source": [
    "import os\n",
    "if os.path.exists('in_silico_data.h5'):\n",
    "    os.remove('in_silico_data.h5')\n",
    "    \n",
    "for df in dfs.values():\n",
    "    df.to_hdf('in_silico_data.h5', key=df.name, mode='a')"
   ]
  },
  {
   "cell_type": "code",
   "execution_count": 6,
   "id": "aa236a24-e0ff-4682-ba0d-4fbc0f12b586",
   "metadata": {},
   "outputs": [],
   "source": [
    "import h5py\n",
    "import pandas as pd\n",
    "\n",
    "with h5py.File('in_silico_data.h5', \"r\") as file:\n",
    "    read_dfs = {}\n",
    "    for key in file.keys():\n",
    "        read_dfs[key] = pd.read_hdf('in_silico_data.h5', key=key)"
   ]
  },
  {
   "cell_type": "code",
   "execution_count": 7,
   "id": "1ad9c05f-a431-4eb5-acaf-eb5accdbc4a6",
   "metadata": {},
   "outputs": [],
   "source": [
    "for key in dfs:\n",
    "    pd.testing.assert_frame_equal(dfs[key], read_dfs[key])"
   ]
  },
  {
   "cell_type": "code",
   "execution_count": 11,
   "id": "2322926e-b9af-47b0-80bd-9166303343b5",
   "metadata": {},
   "outputs": [],
   "source": [
    "read_dfs['16130']"
   ]
  },
  {
   "cell_type": "code",
   "execution_count": null,
   "id": "24297015-6ef9-4e8c-bbcf-61b848fff993",
   "metadata": {},
   "outputs": [],
   "source": []
  }
 ],
 "metadata": {
  "kernelspec": {
   "display_name": "Python 3",
   "language": "python",
   "name": "python3"
  },
  "language_info": {
   "codemirror_mode": {
    "name": "ipython",
    "version": 3
   },
   "file_extension": ".py",
   "mimetype": "text/x-python",
   "name": "python",
   "nbconvert_exporter": "python",
   "pygments_lexer": "ipython3",
   "version": "3.9.5"
  }
 },
 "nbformat": 4,
 "nbformat_minor": 5
}
