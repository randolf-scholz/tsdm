{
 "cells": [
  {
   "cell_type": "code",
   "execution_count": 1,
   "id": "8f629588-3317-4c88-94d2-8c2a081266a4",
   "metadata": {},
   "outputs": [],
   "source": [
    "import tsdm"
   ]
  },
  {
   "cell_type": "code",
   "execution_count": 3,
   "id": "f3ce168d-768f-4c47-94a4-d100163dd8c6",
   "metadata": {},
   "outputs": [],
   "source": [
    "tsdm.load_model(\"ODE-RNN\")"
   ]
  },
  {
   "cell_type": "code",
   "execution_count": 9,
   "id": "e15993d9-eb2c-4716-94fb-e6397054c8b1",
   "metadata": {},
   "outputs": [],
   "source": [
    "from pathlib import Path\n",
    "\n",
    "with open(Path.cwd().joinpath(\"test.py\"), \"w\") as file:\n",
    "        file.write(\"aga\")\n",
    "\n",
    "\n"
   ]
  },
  {
   "cell_type": "code",
   "execution_count": 4,
   "id": "812077a2-d0f7-428b-81b3-ac8e65c58b90",
   "metadata": {},
   "outputs": [],
   "source": [
    "\n",
    "\n",
    "with open(\"test.asgasg\", \"w\") as file:\n",
    "    file.write(\"aga\")\n",
    "    "
   ]
  },
  {
   "cell_type": "code",
   "execution_count": 1,
   "id": "12b8e066-4266-43f7-a4b7-e56939741a59",
   "metadata": {},
   "outputs": [],
   "source": [
    "from pathlib import Path\n",
    "MODULE_PATH = Path(\"/home/rscholz/.tsdm/models\")\n",
    "MODULE_NAME = \"LatentODE\"\n",
    "import importlib\n",
    "import sys\n",
    "from importlib.machinery import SourceFileLoader\n",
    "\n",
    "# sys.path.insert(0, MODULE_PATH)\n",
    "# sys.path.insert(0, MODULE_PATH.joinpath('lib'))\n",
    "import os"
   ]
  },
  {
   "cell_type": "code",
   "execution_count": 2,
   "id": "bc875574-168c-40b1-aaee-e388129e63fe",
   "metadata": {},
   "outputs": [],
   "source": [
    "from contextlib import contextmanager\n",
    "\n",
    "@contextmanager\n",
    "def add_to_path(p: Path):\n",
    "    old_path = sys.path\n",
    "    sys.path = sys.path[:]\n",
    "    sys.path.insert(0, str(p))\n",
    "    try:\n",
    "        yield\n",
    "    finally:\n",
    "        sys.path = old_path\n",
    "\n",
    "def path_import(module_path: Path, module_name: str = None):\n",
    "    '''implementation taken from https://docs.python.org/3/library/importlib.html#importing-a-source-file-directly'''\n",
    "    \n",
    "    module_name = module_name or module_path.parts[-1]\n",
    "    module_init = module_path.joinpath(\"__init__.py\")\n",
    "    assert module_init.exists(), F\"Module has no __init__ file !!!\"\n",
    "    \n",
    "    with add_to_path(module_path):\n",
    "        spec = importlib.util.spec_from_file_location(module_name, str(module_init))\n",
    "        module = importlib.util.module_from_spec(spec)\n",
    "        spec.loader.exec_module(module)\n",
    "        return module\n",
    "    \n",
    "    \n",
    "    "
   ]
  },
  {
   "cell_type": "code",
   "execution_count": 5,
   "id": "aa47e910-3a12-46cb-9b73-823d6a27d13b",
   "metadata": {},
   "outputs": [],
   "source": [
    "module = path_import(MODULE_PATH.joinpath('Latent-ODE'))\n",
    "dir(module)\n",
    "dir(module.lib.latent_ode.LatentODE)"
   ]
  },
  {
   "cell_type": "code",
   "execution_count": 8,
   "id": "754f491b-e6c5-4852-be53-647f8778dc81",
   "metadata": {},
   "outputs": [],
   "source": [
    "def path_import(absolute_path: Path, module_name: str = None):\n",
    "    print(os.path.dirname(absolute_path))\n",
    "    print(str(absolute_path))\n",
    "  \n",
    "    with add_to_path(os.path.dirname(absolute_path)):\n",
    "        print(sys.path)\n",
    "\n",
    "        module_name = module_name or str(absolute_path)\n",
    "        spec = importlib.util.spec_from_file_location(module_name, str(absolute_path))\n",
    "        module = importlib.util.module_from_spec(spec)\n",
    "        spec.loader.exec_module(module)\n",
    "        return module\n",
    "    \n",
    "module  = path_import(MODULE_PATH.joinpath('Latent-ODE/__init__.py'))\n",
    "\n",
    "dir(module.lib)"
   ]
  },
  {
   "cell_type": "code",
   "execution_count": 2,
   "id": "2f911a60-87c1-4601-bd61-262894b1fe43",
   "metadata": {
    "tags": []
   },
   "outputs": [],
   "source": [
    "spec = importlib.util.spec_from_file_location(MODULE_NAME, str(MODULE_PATH.joinpath('Latent-ODE/__init__.py')))\n",
    "module = importlib.util.module_from_spec(spec)\n",
    "sys.modules[spec.name] = module \n",
    "spec.loader.exec_module(module)\n",
    "\n",
    "dir(module)"
   ]
  },
  {
   "cell_type": "code",
   "execution_count": 5,
   "id": "53297e28-7d08-4983-9b15-6dd1e8d91e0d",
   "metadata": {},
   "outputs": [],
   "source": [
    "F\".{MODULE_PATH.stem}\""
   ]
  },
  {
   "cell_type": "code",
   "execution_count": 6,
   "id": "4023c230-ba03-4b5f-b06b-6b2ecf33e6be",
   "metadata": {
    "scrolled": true,
    "tags": []
   },
   "outputs": [],
   "source": [
    "spec = importlib.util.spec_from_file_location(MODULE_NAME, str(MODULE_PATH.joinpath('lib/__init__.py')))\n",
    "foo = importlib.util.module_from_spec(spec)\n",
    "spec.loader.exec_module(foo)\n",
    "dir(foo)"
   ]
  },
  {
   "cell_type": "code",
   "execution_count": 4,
   "id": "f9a400b0-8ab3-4df0-9d6b-fb29c87a3f01",
   "metadata": {
    "tags": []
   },
   "outputs": [],
   "source": [
    "spec = importlib.util.spec_from_file_location(MODULE_NAME, MODULE_PATH)\n",
    "module = importlib.util.module_from_spec(spec)\n",
    "sys.modules[spec.name] = module\n",
    "spec.loader.exec_module(module)"
   ]
  },
  {
   "cell_type": "code",
   "execution_count": 3,
   "id": "979ebe7b-a653-4a99-946d-d308f9984068",
   "metadata": {},
   "outputs": [],
   "source": [
    "dir(sys.modules['lib'])"
   ]
  },
  {
   "cell_type": "code",
   "execution_count": 28,
   "id": "270d44c7-99d5-487a-8ae4-d5927c21513b",
   "metadata": {},
   "outputs": [],
   "source": [
    "spec.name"
   ]
  },
  {
   "cell_type": "code",
   "execution_count": 30,
   "id": "31f7a9ce-a7a7-4917-b0ae-6fa86a5d106e",
   "metadata": {},
   "outputs": [],
   "source": [
    "dir(sys.modules['lib'])"
   ]
  },
  {
   "cell_type": "code",
   "execution_count": 1,
   "id": "e6c51ec1-f56d-448d-bdb6-7cf81dfd2728",
   "metadata": {},
   "outputs": [],
   "source": [
    "import tsdm"
   ]
  },
  {
   "cell_type": "code",
   "execution_count": 2,
   "id": "04b16998-9d4b-45d7-83c8-ec89c836deb1",
   "metadata": {},
   "outputs": [],
   "source": [
    "x = tsdm.load_dataset('electricity')"
   ]
  },
  {
   "cell_type": "code",
   "execution_count": 22,
   "id": "d30a9f73-70b2-4f59-a81c-8e4a7460927e",
   "metadata": {},
   "outputs": [],
   "source": [
    "ODERNN = tsdm.load_model('ODE-RNN')"
   ]
  },
  {
   "cell_type": "code",
   "execution_count": 9,
   "id": "e0543880-e9be-470d-a67c-d22e98271977",
   "metadata": {},
   "outputs": [],
   "source": [
    "from torchsummary import summary"
   ]
  },
  {
   "cell_type": "code",
   "execution_count": 23,
   "id": "7d6186b9-8612-4f5e-8be2-551d624d88ad",
   "metadata": {},
   "outputs": [],
   "source": [
    "ODERNN"
   ]
  },
  {
   "cell_type": "code",
   "execution_count": 24,
   "id": "80682e86-6c66-4f0c-8e4d-06b19002e3f2",
   "metadata": {},
   "outputs": [],
   "source": [
    "input_dim = 5\n",
    "latent_dim = 20"
   ]
  },
  {
   "cell_type": "code",
   "execution_count": 38,
   "id": "da127b30-a2ac-45e4-a7e6-4cad4bbd1a36",
   "metadata": {},
   "outputs": [],
   "source": [
    "model = ODERNN(input_dim, latent_dim)\n",
    "model"
   ]
  },
  {
   "cell_type": "code",
   "execution_count": 42,
   "id": "1a0bd777-5a4f-4e8c-a130-51e169dc56cb",
   "metadata": {},
   "outputs": [],
   "source": [
    "from importlib.machinery import SourceFileLoader\n",
    "import sys\n",
    "from pathlib import Path\n",
    "\n",
    "module_path = Path(\"/home/rscholz/.tsdm/models/Latent-ODE\")\n",
    "module_path.exists()"
   ]
  },
  {
   "cell_type": "code",
   "execution_count": 43,
   "id": "00227ec5-b7a0-48d5-9f43-d86c7ed6d1d9",
   "metadata": {},
   "outputs": [],
   "source": []
  },
  {
   "cell_type": "code",
   "execution_count": 50,
   "id": "8cc17480-c1b1-4203-85ab-129f22782cfc",
   "metadata": {},
   "outputs": [],
   "source": [
    "ddd = SourceFileLoader(\"models\", str(module_path.joinpath(\"lib\"))).load_module()"
   ]
  },
  {
   "cell_type": "code",
   "execution_count": 54,
   "id": "7f887775-c65e-4779-a746-99f97be690a6",
   "metadata": {},
   "outputs": [],
   "source": [
    "import lib"
   ]
  },
  {
   "cell_type": "code",
   "execution_count": 59,
   "id": "4e03d136-3cfa-4169-abc0-8997d35a583a",
   "metadata": {},
   "outputs": [],
   "source": [
    "lib"
   ]
  },
  {
   "cell_type": "code",
   "execution_count": 53,
   "id": "9d983bbe-9cc4-4729-b1a1-6768c13ca111",
   "metadata": {},
   "outputs": [],
   "source": [
    "import importlib.util\n",
    "spec = importlib.util.spec_from_file_location(\"module.name\", module_path)\n",
    "foo = importlib.util.module_from_spec(spec)\n"
   ]
  },
  {
   "cell_type": "code",
   "execution_count": null,
   "id": "6266b587-7319-46f8-8ae1-5bebc17f780e",
   "metadata": {},
   "outputs": [],
   "source": [
    "spec.loader.exec_module(foo)\n",
    "foo.MyClass()"
   ]
  },
  {
   "cell_type": "code",
   "execution_count": 49,
   "id": "5d9062aa-c732-4e10-8ffe-a98422ae9ea7",
   "metadata": {},
   "outputs": [],
   "source": [
    "dir(ddd)"
   ]
  },
  {
   "cell_type": "code",
   "execution_count": 39,
   "id": "78aed6ad-3b8b-4687-9396-22cda5110032",
   "metadata": {},
   "outputs": [],
   "source": []
  },
  {
   "cell_type": "code",
   "execution_count": null,
   "id": "62692c31-2b5b-4e22-8296-9c7f4448f64e",
   "metadata": {},
   "outputs": [],
   "source": [
    "ode_func_net = utils.create_net(\n",
    "    n_ode_gru_dims, n_ode_gru_dims, n_layers = args.rec_layers, n_units = args.units, nonlinear = nn.Tanh)\n",
    "\n",
    "rec_ode_func = ODEFunc(\n",
    "    input_dim = input_dim, \n",
    "    latent_dim = n_ode_gru_dims,\n",
    "    ode_func_net = ode_func_net,\n",
    "    device = device).to(device)\n",
    "\n",
    "z0_diffeq_solver = DiffeqSolver(input_dim, rec_ode_func, \"euler\", args.latents, \n",
    "    odeint_rtol = 1e-3, odeint_atol = 1e-4, device = device)\n",
    "\n",
    "model = ODE_RNN(input_dim, n_ode_gru_dims, device = device, \n",
    "    z0_diffeq_solver = z0_diffeq_solver, n_gru_units = args.gru_units,\n",
    "    concat_mask = True, obsrv_std = obsrv_std,\n",
    "    use_binary_classif = args.classif,\n",
    "    classif_per_tp = classif_per_tp,\n",
    "    n_labels = n_labels,\n",
    "    train_classif_w_reconstr = (args.dataset == \"physionet\")\n",
    "    ).to(device)"
   ]
  },
  {
   "cell_type": "code",
   "execution_count": 36,
   "id": "a03812db-fd51-477b-b726-aafdb77ea7b2",
   "metadata": {},
   "outputs": [],
   "source": [
    "import torch\n",
    "\n",
    "x = torch.randn(input_dim+1)"
   ]
  },
  {
   "cell_type": "code",
   "execution_count": 37,
   "id": "898c2cbd-b6f3-4fbb-a3c5-5900e1f2b643",
   "metadata": {},
   "outputs": [],
   "source": [
    "model(x)"
   ]
  },
  {
   "cell_type": "code",
   "execution_count": 26,
   "id": "945eb5ea-a4b6-4a93-a2b5-3c2f7e70a14a",
   "metadata": {},
   "outputs": [],
   "source": [
    "summary(model(input_dim, input_dim), (10, input_dim))"
   ]
  },
  {
   "cell_type": "code",
   "execution_count": 21,
   "id": "62d2f5bd-f0c8-4122-8428-ce6836621ab0",
   "metadata": {},
   "outputs": [],
   "source": [
    "summary(model(4,5), (3,6))"
   ]
  },
  {
   "cell_type": "code",
   "execution_count": 19,
   "id": "3280c47f-74b0-4644-82bd-7479a79e7d05",
   "metadata": {},
   "outputs": [],
   "source": [
    "m?"
   ]
  },
  {
   "cell_type": "code",
   "execution_count": null,
   "id": "d44dc8bd-c681-406d-8edd-0c5fba673576",
   "metadata": {},
   "outputs": [],
   "source": []
  }
 ],
 "metadata": {
  "kernelspec": {
   "display_name": "Python 3",
   "language": "python",
   "name": "python3"
  },
  "language_info": {
   "codemirror_mode": {
    "name": "ipython",
    "version": 3
   },
   "file_extension": ".py",
   "mimetype": "text/x-python",
   "name": "python",
   "nbconvert_exporter": "python",
   "pygments_lexer": "ipython3",
   "version": "3.9.2"
  }
 },
 "nbformat": 4,
 "nbformat_minor": 5
}
