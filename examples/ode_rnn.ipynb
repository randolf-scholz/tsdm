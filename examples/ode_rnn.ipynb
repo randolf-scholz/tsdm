{
 "cells": [
  {
   "cell_type": "code",
   "execution_count": 1,
   "id": "8f629588-3317-4c88-94d2-8c2a081266a4",
   "metadata": {},
   "outputs": [],
   "source": [
    "import tsdm"
   ]
  },
  {
   "cell_type": "code",
   "execution_count": 2,
   "id": "f3ce168d-768f-4c47-94a4-d100163dd8c6",
   "metadata": {},
   "outputs": [],
   "source": [
    "tsdm.load_model(\"ODE-RNN\")"
   ]
  },
  {
   "cell_type": "code",
   "execution_count": 3,
   "id": "6dacfc22-daaf-45e6-8b93-99a1f435a806",
   "metadata": {},
   "outputs": [],
   "source": [
    "from pathlib import Path\n",
    "from types import ModuleType\n",
    "import sys\n",
    "import importlib\n",
    "from contextlib import contextmanager\n",
    "\n",
    "\n",
    "@contextmanager\n",
    "def add_to_path(p: Path) -> None:\n",
    "    \"\"\"Source: https://stackoverflow.com/a/41904558/9318372\"\"\"\n",
    "    old_path = sys.path\n",
    "    sys.path = sys.path[:]\n",
    "    sys.path.insert(0, str(p))\n",
    "    try:\n",
    "        yield\n",
    "    finally:\n",
    "        sys.path = old_path\n",
    "\n",
    "\n",
    "def path_import(module_path: Path, module_name: str = None) -> ModuleType:\n",
    "    \"\"\"\n",
    "    implementation taken from https://docs.python.org/3/library/importlib.html#importing-a-source-file-directly\n",
    "    Source: https://stackoverflow.com/a/41904558/9318372\n",
    "\n",
    "    Parameters\n",
    "    ----------\n",
    "    module_path: Path\n",
    "        Path to the folder where the module is located\n",
    "    module_name: str, optional\n",
    "\n",
    "    Returns\n",
    "    -------\n",
    "    \"\"\"\n",
    "\n",
    "    module_name = module_name or module_path.parts[-1]\n",
    "    module_init = module_path.joinpath(\"__init__.py\")\n",
    "    assert module_init.exists(), F\"Module {module_path} has no __init__ file !!!\"\n",
    "\n",
    "    with add_to_path(module_path):\n",
    "        spec = importlib.util.spec_from_file_location(module_name, str(module_init))\n",
    "        module = importlib.util.module_from_spec(spec)\n",
    "        spec.loader.exec_module(module)\n",
    "        return module"
   ]
  },
  {
   "cell_type": "code",
   "execution_count": 29,
   "id": "97865dc3-9391-41a3-8afc-7627b687e736",
   "metadata": {},
   "outputs": [],
   "source": [
    "module = path_import(Path(\"/home/rscholz/.tsdm/models/ODE-RNN\"))\n",
    "\n",
    "create_net = module.lib.utils.create_net\n",
    "ODEFunc = module.lib.ode_func.ODEFunc\n",
    "DiffeqSolver = module.lib.diffeq_solver.DiffeqSolver\n",
    "ODE_RNN = module.lib.ode_rnn.ODE_RNN\n"
   ]
  },
  {
   "cell_type": "code",
   "execution_count": null,
   "id": "d1f42342-19af-4746-ba07-d79e34af1616",
   "metadata": {},
   "outputs": [],
   "source": []
  },
  {
   "cell_type": "code",
   "execution_count": null,
   "id": "62692c31-2b5b-4e22-8296-9c7f4448f64e",
   "metadata": {},
   "outputs": [],
   "source": [
    "ode_func_net = utils.create_net(\n",
    "    n_ode_gru_dims, n_ode_gru_dims, n_layers = args.rec_layers, n_units = args.units, nonlinear = nn.Tanh)\n",
    "\n",
    "rec_ode_func = ODEFunc(\n",
    "    input_dim = input_dim, \n",
    "    latent_dim = n_ode_gru_dims,\n",
    "    ode_func_net = ode_func_net,\n",
    "    device = device).to(device)\n",
    "\n",
    "z0_diffeq_solver = DiffeqSolver(input_dim, rec_ode_func, \"euler\", args.latents, \n",
    "    odeint_rtol = 1e-3, odeint_atol = 1e-4, device = device)\n",
    "\n",
    "model = ODE_RNN(input_dim, n_ode_gru_dims, device = device, \n",
    "    z0_diffeq_solver = z0_diffeq_solver, n_gru_units = args.gru_units,\n",
    "    concat_mask = True, obsrv_std = obsrv_std,\n",
    "    use_binary_classif = args.classif,\n",
    "    classif_per_tp = classif_per_tp,\n",
    "    n_labels = n_labels,\n",
    "    train_classif_w_reconstr = (args.dataset == \"physionet\")\n",
    "    ).to(device)"
   ]
  },
  {
   "cell_type": "code",
   "execution_count": 4,
   "id": "bb6beb44-541e-49f5-8d49-18089a06e6a9",
   "metadata": {},
   "outputs": [],
   "source": [
    "x = tsdm.load_dataset('electricity')\n"
   ]
  },
  {
   "cell_type": "code",
   "execution_count": null,
   "id": "80de9ce7-a0ae-40a3-b8a1-48c754910f58",
   "metadata": {},
   "outputs": [],
   "source": []
  }
 ],
 "metadata": {
  "kernelspec": {
   "display_name": "Python 3",
   "language": "python",
   "name": "python3"
  },
  "language_info": {
   "codemirror_mode": {
    "name": "ipython",
    "version": 3
   },
   "file_extension": ".py",
   "mimetype": "text/x-python",
   "name": "python",
   "nbconvert_exporter": "python",
   "pygments_lexer": "ipython3",
   "version": "3.9.2"
  }
 },
 "nbformat": 4,
 "nbformat_minor": 5
}
