{
 "cells": [
  {
   "cell_type": "markdown",
   "metadata": {},
   "source": [
    "# Evaluate LinODEnet on Final Product Task"
   ]
  },
  {
   "cell_type": "code",
   "execution_count": 1,
   "metadata": {},
   "outputs": [],
   "source": [
    "%config InteractiveShell.ast_node_interactivity='last_expr_or_assign'  # always print last expr.\n",
    "%config InlineBackend.figure_format = 'svg'\n",
    "%load_ext autoreload\n",
    "%autoreload 2\n",
    "%matplotlib inline\n",
    "import matplotlib.pyplot as plt\n",
    "import numpy as np\n",
    "\n",
    "np.set_printoptions(precision=4, floatmode=\"fixed\", suppress=True)\n",
    "rng = np.random.default_rng()\n",
    "# import logging\n",
    "# logging.basicConfig(level=logging.INFO)"
   ]
  },
  {
   "cell_type": "markdown",
   "metadata": {},
   "source": [
    "# Load Task"
   ]
  },
  {
   "cell_type": "code",
   "execution_count": 2,
   "metadata": {},
   "outputs": [],
   "source": [
    "from tsdm.tasks import KIWI_FINAL_PRODUCT, KIWI_RUNS_TASK\n",
    "\n",
    "SPLIT=0\n",
    "TARGET=\"OD600\"\n",
    "BATCH_SIZE = 128\n",
    "observables = KIWI_RUNS_TASK().observables\n",
    "controls = KIWI_RUNS_TASK().controls\n",
    "task = KIWI_FINAL_PRODUCT(target=TARGET)\n",
    "ts_train, md_train = task.splits[SPLIT, \"train\"]"
   ]
  },
  {
   "cell_type": "markdown",
   "metadata": {},
   "source": [
    "## Setup Dataset object"
   ]
  },
  {
   "cell_type": "code",
   "execution_count": 3,
   "metadata": {},
   "outputs": [],
   "source": [
    "from tsdm.datasets.torch import TimeSeriesDataset, MappingDataset\n",
    "from tsdm.util.decorators import IterItems\n",
    "\n",
    "ts, md = task.splits[SPLIT, \"test\"]\n",
    "TSDs = {}\n",
    "for idx in md.index:\n",
    "    TSDs[idx] = TimeSeriesDataset(\n",
    "        ts.loc[idx],\n",
    "        metadata=(md.loc[idx], task.final_vec.loc[idx]),\n",
    "    )\n",
    "DS = IterItems(MappingDataset(TSDs))"
   ]
  },
  {
   "cell_type": "markdown",
   "metadata": {},
   "source": [
    "# Setup Encoder"
   ]
  },
  {
   "cell_type": "code",
   "execution_count": 4,
   "metadata": {},
   "outputs": [],
   "source": [
    "from tsdm.encoders.modular import *\n",
    "\n",
    "encoder = ChainedEncoder(\n",
    "    TensorEncoder(),\n",
    "    DataFrameEncoder(\n",
    "        FloatEncoder(),\n",
    "        index_encoders=MinMaxScaler() @ DateTimeEncoder(),\n",
    "    ),\n",
    "    Standardizer()\n",
    ")\n",
    "encoder.fit(ts.reset_index([0, 1], drop=True))\n",
    "task.target_idx = task.timeseries.columns.get_loc(task.target)\n",
    "target_encoder = TensorEncoder() @ FloatEncoder() @ encoder[-1][task.target_idx]"
   ]
  },
  {
   "cell_type": "markdown",
   "metadata": {},
   "source": [
    "## Define collate_fn"
   ]
  },
  {
   "cell_type": "code",
   "execution_count": 5,
   "metadata": {},
   "outputs": [],
   "source": [
    "from typing import NamedTuple\n",
    "from torch import Tensor\n",
    "import torch\n",
    "\n",
    "class Batch(NamedTuple):\n",
    "    index: Tensor\n",
    "    timeseries: Tensor\n",
    "    metadata: Tensor\n",
    "    targets: Tensor\n",
    "    encoded_targets: Tensor\n",
    "\n",
    "    def __repr__(self):\n",
    "        return repr_mapping(\n",
    "            self._asdict(), title=self.__class__.__name__, repr_fun=repr_array\n",
    "        )\n",
    "\n",
    "def get_data(dataset, sample):\n",
    "    (key, slc), (ts, (md, target)) = sample\n",
    "    target_time = target.index.item()\n",
    "    target_value = target.item()\n",
    "    start_time, stop_time = slc.start, slc.stop\n",
    "    _, (t, m) = dataset[key, start_time:target_time]\n",
    "    data = t.copy()\n",
    "    data.loc[stop_time:target_time, observables] = float(\"nan\")\n",
    "    return data, target\n",
    "\n",
    "@torch.no_grad()\n",
    "def mycollate(batch: list, dataset=DS):\n",
    "    index = []\n",
    "    timeseries = []\n",
    "    metadata = []\n",
    "    targets = []\n",
    "    encoded_targets = []\n",
    "\n",
    "    for sample in batch:\n",
    "        data, target = get_data(dataset, sample)\n",
    "        timeseries.append(encoder.encode(target))\n",
    "        targets.append(target)\n",
    "        # encoded_targets.append(target_encoder.encode(target))\n",
    "\n",
    "    # index = torch.stack(index)\n",
    "    # targets = pandas.concat(targets)\n",
    "    # encoded_targets = torch.concat(encoded_targets)\n",
    "\n",
    "    return Batch(index, timeseries, metadata, targets, encoded_targets)"
   ]
  },
  {
   "cell_type": "markdown",
   "metadata": {},
   "source": [
    "## Get DataLoaders"
   ]
  },
  {
   "cell_type": "code",
   "execution_count": 6,
   "metadata": {},
   "outputs": [],
   "source": [
    "# TRAINLOADER = task.get_dataloader(\n",
    "#     (SPLIT, \"train\"),\n",
    "#     batch_size=BATCH_SIZE,\n",
    "#     collate_fn=mycollate,\n",
    "#     # pin_memory=True,\n",
    "#     drop_last=True,\n",
    "#     shuffle=True,\n",
    "#     # num_workers=6,\n",
    "#     # num_workers=os.cpu_count() // 4,\n",
    "#     # persistent_workers=True,\n",
    "# )\n",
    "\n",
    "\n",
    "EVALLOADER = task.get_dataloader(\n",
    "    (SPLIT, \"train\"),\n",
    "    batch_size=BATCH_SIZE,\n",
    "    collate_fn=mycollate,\n",
    "    # pin_memory=True,\n",
    "    drop_last=False,\n",
    "    shuffle=False,\n",
    "    # num_workers=6,\n",
    "    # num_workers=os.cpu_count() // 4,\n",
    "    # persistent_workers=True,\n",
    ")"
   ]
  },
  {
   "cell_type": "code",
   "execution_count": 7,
   "metadata": {},
   "outputs": [],
   "source": [
    "next(iter(EVALLOADER))"
   ]
  },
  {
   "cell_type": "code",
   "execution_count": 22,
   "metadata": {},
   "outputs": [],
   "source": [
    "isamp = iter(TRAINLOADER.sampler)\n",
    "dset = TRAINLOADER.dataset"
   ]
  },
  {
   "cell_type": "code",
   "execution_count": 70,
   "metadata": {},
   "outputs": [],
   "source": []
  },
  {
   "cell_type": "code",
   "execution_count": 90,
   "metadata": {},
   "outputs": [],
   "source": [
    "key, slc = idx\n",
    "start_time, stop_time = slc.start, slc.stop\n",
    "target_time = dset[idx][1].metadata[-1].index.item()\n",
    "_, (t, m) = dset[key, start_time:target_time]\n",
    "data = t.copy()\n",
    "data.loc[stop_time:target_time, observables] = float(\"nan\")"
   ]
  },
  {
   "cell_type": "code",
   "execution_count": 92,
   "metadata": {},
   "outputs": [],
   "source": [
    "data"
   ]
  },
  {
   "cell_type": "code",
   "execution_count": 58,
   "metadata": {},
   "outputs": [],
   "source": [
    "idx = next(isamp)\n",
    "\n",
    "\n"
   ]
  },
  {
   "cell_type": "markdown",
   "metadata": {
    "jp-MarkdownHeadingCollapsed": true,
    "tags": []
   },
   "source": [
    "# Load Model"
   ]
  },
  {
   "cell_type": "code",
   "execution_count": 6,
   "metadata": {},
   "outputs": [],
   "source": [
    "import torch\n",
    "from torch import jit\n",
    "from torchinfo import summary\n",
    "\n",
    "PATH = \"checkpoints/LinODEnet/KIWI_RUNS/\"\n",
    "NAME = \"SurrLoss+Sequential_Filter/2021-12-20T13:43:00/LinODEnet-70\"\n",
    "model = torch.jit.load(PATH + NAME, torch.device(\"cpu\"))\n",
    "summary(model, depth=1)"
   ]
  },
  {
   "cell_type": "code",
   "execution_count": null,
   "metadata": {},
   "outputs": [],
   "source": []
  }
 ],
 "metadata": {
  "kernelspec": {
   "display_name": "Python 3 (ipykernel)",
   "language": "python",
   "name": "python3"
  },
  "language_info": {
   "codemirror_mode": {
    "name": "ipython",
    "version": 3
   },
   "file_extension": ".py",
   "mimetype": "text/x-python",
   "name": "python",
   "nbconvert_exporter": "python",
   "pygments_lexer": "ipython3",
   "version": "3.9.10"
  }
 },
 "nbformat": 4,
 "nbformat_minor": 4
}
