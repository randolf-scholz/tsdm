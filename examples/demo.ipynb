{
 "cells": [
  {
   "cell_type": "code",
   "execution_count": 2,
   "id": "4c2f520a-6189-404c-b004-268324f42f61",
   "metadata": {},
   "outputs": [],
   "source": [
    "import tsdm\n",
    "dir(tsdm)"
   ]
  },
  {
   "cell_type": "code",
   "execution_count": 2,
   "id": "3068837b-50d4-44ca-a120-dc6998d5d079",
   "metadata": {},
   "outputs": [],
   "source": [
    "import numpy as np\n",
    "missing = np.random.choice([True, False], x.shape)"
   ]
  },
  {
   "cell_type": "code",
   "execution_count": 5,
   "id": "d84d0bf9-7e43-4147-bf2d-05d525ac07c3",
   "metadata": {},
   "outputs": [],
   "source": [
    "tsdm.download_model('NODE')"
   ]
  },
  {
   "cell_type": "code",
   "execution_count": 6,
   "id": "ff3531e5",
   "metadata": {},
   "outputs": [],
   "source": [
    "x = tsdm.load_dataset('electricity')\n",
    "x"
   ]
  },
  {
   "cell_type": "code",
   "execution_count": 10,
   "id": "71a91729-9e9e-444e-8c53-b4842d1e3ca5",
   "metadata": {},
   "outputs": [],
   "source": [
    "x = x.where(missing)\n",
    "x"
   ]
  },
  {
   "cell_type": "code",
   "execution_count": 11,
   "id": "229ed818",
   "metadata": {},
   "outputs": [],
   "source": [
    "tsdm.make_dense_triplets(x)"
   ]
  },
  {
   "cell_type": "code",
   "execution_count": 12,
   "id": "432a3ee5",
   "metadata": {},
   "outputs": [],
   "source": [
    "sparse_x = tsdm.make_sparse_triplets(x)\n",
    "sparse_x"
   ]
  },
  {
   "cell_type": "code",
   "execution_count": 13,
   "id": "6231394d",
   "metadata": {},
   "outputs": [],
   "source": [
    "x, m, d = tsdm.make_masked_format(x)\n",
    "display(x, m, d)"
   ]
  }
 ],
 "metadata": {
  "kernelspec": {
   "display_name": "Python 3",
   "language": "python",
   "name": "python3"
  },
  "language_info": {
   "codemirror_mode": {
    "name": "ipython",
    "version": 3
   },
   "file_extension": ".py",
   "mimetype": "text/x-python",
   "name": "python",
   "nbconvert_exporter": "python",
   "pygments_lexer": "ipython3",
   "version": "3.9.2"
  }
 },
 "nbformat": 4,
 "nbformat_minor": 5
}
