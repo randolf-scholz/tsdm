{
 "cells": [
  {
   "cell_type": "code",
   "execution_count": 1,
   "id": "4c2f520a-6189-404c-b004-268324f42f61",
   "metadata": {},
   "outputs": [],
   "source": [
    "import tsdm\n",
    "import numpy as np"
   ]
  },
  {
   "cell_type": "code",
   "execution_count": 2,
   "id": "ff3531e5",
   "metadata": {},
   "outputs": [],
   "source": [
    "x = tsdm.load_dataset('electricity')\n",
    "x"
   ]
  },
  {
   "cell_type": "code",
   "execution_count": 3,
   "id": "71a91729-9e9e-444e-8c53-b4842d1e3ca5",
   "metadata": {},
   "outputs": [],
   "source": [
    "observed = np.random.choice([True, False], size=x.shape)\n",
    "x = x.where(observed)\n",
    "display(observed, x)"
   ]
  },
  {
   "cell_type": "markdown",
   "id": "34d74a61-065a-458f-a3e6-2102c693368d",
   "metadata": {},
   "source": [
    "### 2.1 Triplet Format\n",
    "\n",
    "The data is represented as a set of triplets (time, variable, value). All NaNs are dropped."
   ]
  },
  {
   "cell_type": "code",
   "execution_count": 4,
   "id": "229ed818",
   "metadata": {},
   "outputs": [],
   "source": [
    "dense_x = tsdm.make_dense_triplets(x)\n",
    "dense_x"
   ]
  },
  {
   "cell_type": "markdown",
   "id": "8ceb87f0-2039-400b-8589-2ded34cbe625",
   "metadata": {},
   "source": [
    "### 2.2 Sparse Triplet format\n",
    "\n",
    "The same as before, but the variable tensor is encoded in a one-hot fashion, and the tensor is stored as a sparse tensor"
   ]
  },
  {
   "cell_type": "code",
   "execution_count": 5,
   "id": "432a3ee5",
   "metadata": {},
   "outputs": [],
   "source": [
    "sparse_x = tsdm.make_sparse_triplets(x)\n",
    "sparse_x"
   ]
  },
  {
   "cell_type": "markdown",
   "id": "518a0d26-2136-4345-908f-d5a440956f4e",
   "metadata": {},
   "source": [
    "### 2.3 Masked Format\n",
    "\n",
    "Here we get 3 tensors:\n",
    "\n",
    "- x: the original data\n",
    "- m: a boolean mask, 1: value observed, 0: value not observed (NaN)\n",
    "- d: time since the channel was last observed"
   ]
  },
  {
   "cell_type": "code",
   "execution_count": 6,
   "id": "6231394d",
   "metadata": {},
   "outputs": [],
   "source": [
    "x, m, d = tsdm.make_masked_format(x)\n",
    "display(x, m, d)"
   ]
  },
  {
   "cell_type": "markdown",
   "id": "080c5fec-38b8-41ee-a2ab-4584a9d67c1e",
   "metadata": {},
   "source": [
    "## 3. Visualizing the data"
   ]
  },
  {
   "cell_type": "code",
   "execution_count": 6,
   "id": "3567ac9f-e61b-4cd1-b2e3-44088942e0fb",
   "metadata": {},
   "outputs": [],
   "source": [
    "import tsdm\n",
    "import numpy as np\n",
    "from pandas import NA, DataFrame, testing\n",
    "x = [[47, 49, NA, 40, NA, 43, 55],\n",
    "     [NA, 15, 14, NA, NA, NA, 15]]\n",
    "t = [0, 0.1, 0.6, 1.6, 2.2, 2.5, 3.1]\n",
    "\n",
    "d = [[0.0, 0.1, 0.5, 1.5, 0.6, 0.9, 0.6],\n",
    "     [0.0, 0.1, 0.5, 1.0, 1.6, 1.9, 2.5]]\n",
    "\n",
    "m = [[1, 1, 0, 1, 0, 1, 1],\n",
    "     [0, 1, 1, 0, 0, 0, 1]]\n",
    "\n",
    "data = DataFrame(x, columns=t).T\n",
    "mask = DataFrame(m, columns=t).T\n",
    "diff = DataFrame(d, columns=t).T\n",
    "\n",
    "x, m, d = tsdm.make_masked_format(data)\n",
    "testing.assert_frame_equal(x, data, check_dtype=False)\n",
    "testing.assert_frame_equal(m, mask, check_dtype=False)\n",
    "testing.assert_frame_equal(d, diff, check_dtype=False)"
   ]
  },
  {
   "cell_type": "code",
   "execution_count": 10,
   "id": "d2543421-fb20-44f5-a142-22d7a0c36d24",
   "metadata": {},
   "outputs": [],
   "source": [
    "x = np.array([[47, 49, np.nan, 40, np.nan, 43, 55],\n",
    "              [np.nan, 15, 14, np.nan, ]] )"
   ]
  },
  {
   "cell_type": "code",
   "execution_count": 11,
   "id": "72c31376-f675-4b3c-8d2d-3f71bef3be11",
   "metadata": {},
   "outputs": [],
   "source": [
    "pd.NA"
   ]
  },
  {
   "cell_type": "code",
   "execution_count": null,
   "id": "3e9da641-9b0d-4606-8355-24ac59428235",
   "metadata": {},
   "outputs": [],
   "source": []
  }
 ],
 "metadata": {
  "kernelspec": {
   "display_name": "Python 3",
   "language": "python",
   "name": "python3"
  },
  "language_info": {
   "codemirror_mode": {
    "name": "ipython",
    "version": 3
   },
   "file_extension": ".py",
   "mimetype": "text/x-python",
   "name": "python",
   "nbconvert_exporter": "python",
   "pygments_lexer": "ipython3",
   "version": "3.9.2"
  }
 },
 "nbformat": 4,
 "nbformat_minor": 5
}
