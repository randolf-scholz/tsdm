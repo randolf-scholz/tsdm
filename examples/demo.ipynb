{
 "cells": [
  {
   "cell_type": "code",
   "execution_count": 1,
   "id": "850d743a",
   "metadata": {},
   "outputs": [],
   "source": [
    "import tsdm"
   ]
  },
  {
   "cell_type": "code",
   "execution_count": 2,
   "id": "ff3531e5",
   "metadata": {},
   "outputs": [],
   "source": [
    "x = tsdm.load_dataset('electricity')d\n",
    "x"
   ]
  },
  {
   "cell_type": "code",
   "execution_count": 3,
   "id": "229ed818",
   "metadata": {},
   "outputs": [],
   "source": [
    "tsdm.make_dense_triplets(x)"
   ]
  },
  {
   "cell_type": "code",
   "execution_count": 4,
   "id": "432a3ee5",
   "metadata": {},
   "outputs": [],
   "source": [
    "tsdm.make_sparse_triplets(x)"
   ]
  },
  {
   "cell_type": "code",
   "execution_count": 5,
   "id": "6231394d",
   "metadata": {
    "scrolled": false
   },
   "outputs": [],
   "source": [
    "x, m, d = tsdm.make_masked_format(x)\n",
    "display(x, m, d)"
   ]
  },
  {
   "cell_type": "code",
   "execution_count": null,
   "id": "24036e81",
   "metadata": {},
   "outputs": [],
   "source": []
  }
 ],
 "metadata": {
  "kernelspec": {
   "display_name": "Python 3",
   "language": "python",
   "name": "python3"
  },
  "language_info": {
   "codemirror_mode": {
    "name": "ipython",
    "version": 3
   },
   "file_extension": ".py",
   "mimetype": "text/x-python",
   "name": "python",
   "nbconvert_exporter": "python",
   "pygments_lexer": "ipython3",
   "version": "3.9.2"
  }
 },
 "nbformat": 4,
 "nbformat_minor": 5
}
