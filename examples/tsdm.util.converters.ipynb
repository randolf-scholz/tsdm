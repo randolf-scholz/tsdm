{
 "cells": [
  {
   "cell_type": "markdown",
   "id": "a1f32e1e-6130-4b36-8bf3-551e6e4eb2d7",
   "metadata": {},
   "source": [
    "# tsdm.util.converters"
   ]
  },
  {
   "cell_type": "code",
   "execution_count": 1,
   "id": "1e3d620d-9315-44ca-b348-0b1aa5a546e3",
   "metadata": {},
   "outputs": [],
   "source": [
    "%load_ext autoreload\n",
    "%autoreload 2\n",
    "import pandas\n",
    "\n",
    "pandas.options.display.max_rows = 5"
   ]
  },
  {
   "cell_type": "code",
   "execution_count": 2,
   "id": "65efc0af-e5ee-4268-a8ef-b93b00bd1f86",
   "metadata": {},
   "outputs": [],
   "source": [
    "from tsdm.util.converters import make_dense_triplets, make_masked_format, make_sparse_triplets, triplet2dense, time2float, time2int,"
   ]
  },
  {
   "cell_type": "code",
   "execution_count": 3,
   "id": "5cb9421d-7e58-4264-b2d0-1b1d2dba819c",
   "metadata": {},
   "outputs": [],
   "source": [
    "from tsdm.datasets import Electricity\n",
    "\n",
    "Electricity.dataset"
   ]
  },
  {
   "cell_type": "markdown",
   "id": "d3710c23-55a0-412e-9dae-f5985574801c",
   "metadata": {},
   "source": [
    "## make_dense_triplets"
   ]
  },
  {
   "cell_type": "code",
   "execution_count": 4,
   "id": "d8f5b289-4e0a-4d0d-ad07-61d605f60414",
   "metadata": {},
   "outputs": [],
   "source": [
    "make_dense_triplets(Electricity.dataset)"
   ]
  },
  {
   "cell_type": "markdown",
   "id": "b10fb5d0-3228-4b91-8af2-a0841e286b79",
   "metadata": {},
   "source": [
    "## make_sparse_triplets"
   ]
  },
  {
   "cell_type": "code",
   "execution_count": 5,
   "id": "acdef36e-e7b2-46d9-bd3e-9da0fe13e225",
   "metadata": {},
   "outputs": [],
   "source": [
    "make_sparse_triplets(Electricity.dataset)"
   ]
  },
  {
   "cell_type": "markdown",
   "id": "a6aa06b6-dd46-46c9-8851-fdac21e1a1dd",
   "metadata": {},
   "source": [
    "## make_masked_format"
   ]
  },
  {
   "cell_type": "code",
   "execution_count": 8,
   "id": "ea767cec-dab2-4009-b450-a20d0f9cb0d4",
   "metadata": {},
   "outputs": [],
   "source": [
    "x, mask, delta = make_masked_format(Electricity.dataset)\n",
    "display(x, mask, delta)"
   ]
  },
  {
   "cell_type": "markdown",
   "id": "79ef919f-61f1-4022-97cc-790882ad89af",
   "metadata": {},
   "source": [
    "## time2float"
   ]
  },
  {
   "cell_type": "code",
   "execution_count": 9,
   "id": "09fb90ec-05b1-41ae-b158-908b04435ef1",
   "metadata": {},
   "outputs": [],
   "source": [
    "time2float(Electricity.dataset.index)"
   ]
  },
  {
   "cell_type": "markdown",
   "id": "f678f532-4f9c-4c2c-90b8-1a524bd6d8e6",
   "metadata": {},
   "source": [
    "## time2int"
   ]
  },
  {
   "cell_type": "code",
   "execution_count": 11,
   "id": "af920a03-faa6-4a14-8947-e14450085a8c",
   "metadata": {},
   "outputs": [],
   "source": [
    "time2int(Electricity.dataset.index)"
   ]
  },
  {
   "cell_type": "markdown",
   "id": "280bc0b8-ebc8-479b-b0b9-4338ac2201bd",
   "metadata": {},
   "source": [
    "## triplet2dense"
   ]
  },
  {
   "cell_type": "code",
   "execution_count": 12,
   "id": "088ce606-4737-4587-8d27-5ecd151e6798",
   "metadata": {},
   "outputs": [],
   "source": [
    "triplet2dense(Electricity.dataset)"
   ]
  },
  {
   "cell_type": "code",
   "execution_count": null,
   "id": "69b1f6fb-1a90-4bb9-acf7-2a5cef953a07",
   "metadata": {},
   "outputs": [],
   "source": []
  }
 ],
 "metadata": {
  "kernelspec": {
   "display_name": "Python 3 (ipykernel)",
   "language": "python",
   "name": "python3"
  },
  "language_info": {
   "codemirror_mode": {
    "name": "ipython",
    "version": 3
   },
   "file_extension": ".py",
   "mimetype": "text/x-python",
   "name": "python",
   "nbconvert_exporter": "python",
   "pygments_lexer": "ipython3",
   "version": "3.9.6"
  }
 },
 "nbformat": 4,
 "nbformat_minor": 5
}
