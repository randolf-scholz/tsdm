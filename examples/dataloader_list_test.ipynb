{
 "cells": [
  {
   "cell_type": "code",
   "execution_count": 29,
   "id": "c25b2e60-74b8-46ec-adda-68dc45492783",
   "metadata": {},
   "outputs": [],
   "source": [
    "import torch\n",
    "from torch.utils.data import Dataset, DataLoader\n",
    "import numpy as np\n",
    "from torch import Tensor\n",
    "from torch.nn.utils.rnn import pack_sequence, pad_sequence, pack_padded_sequence, pad_packed_sequence, PackedSequence"
   ]
  },
  {
   "cell_type": "code",
   "execution_count": 2,
   "id": "8551dbc2-f3ab-4e7c-9ed8-8780dbda876a",
   "metadata": {},
   "outputs": [],
   "source": [
    "class VaryingLengthDataset(Dataset):\n",
    "    def __init__(self, n, dmin, dmax):\n",
    "        super().__init__()\n",
    "        self.size = n\n",
    "        self.data = [torch.randint(0, 10, (np.random.randint(dmin, dmax), 2)) for _ in range(n)]\n",
    "        \n",
    "    def __len__(self):\n",
    "        return self.size\n",
    "    \n",
    "    def __getitem__(self, index):\n",
    "        return self.data[index]\n",
    "    \n",
    "    def __repr__(self):\n",
    "        return \"\".join(repr(x.shape) for x in self.data)"
   ]
  },
  {
   "cell_type": "markdown",
   "id": "0b04b970-76d2-443a-99d5-d38eaff0485b",
   "metadata": {},
   "source": [
    "Batching this Dataset won't work:"
   ]
  },
  {
   "cell_type": "code",
   "execution_count": 3,
   "id": "b0f940a5-c2a7-4169-86c0-33784c1f83b0",
   "metadata": {},
   "outputs": [],
   "source": [
    "MyDataset = VaryingLengthDataset(100, 3, 7)\n",
    "\n",
    "try:\n",
    "    next(iter(DataLoader(MyDataset, batch_size=10)))\n",
    "    print(x)\n",
    "except Exception as E:\n",
    "    print(E)"
   ]
  },
  {
   "cell_type": "markdown",
   "id": "47ba7662-f3d1-4f97-af2f-a4f5f1834df0",
   "metadata": {},
   "source": [
    "Let's try with a custom collate_fn"
   ]
  },
  {
   "cell_type": "code",
   "execution_count": 4,
   "id": "fe403e14-d692-44d9-8c23-bbc2fbdc7404",
   "metadata": {},
   "outputs": [],
   "source": [
    "def collate_list(batch):\n",
    "    return batch\n",
    "\n",
    "try:\n",
    "    x = next(iter(DataLoader(MyDataset, batch_size=5, collate_fn=collate_list)))\n",
    "    print(x)\n",
    "except Exception as E:\n",
    "    print(E)"
   ]
  },
  {
   "cell_type": "code",
   "execution_count": 6,
   "id": "196eb2ef-e756-4104-87bf-012bd58bba7b",
   "metadata": {},
   "outputs": [],
   "source": [
    "def collate_packed(batch):\n",
    "    batch.sort(key=torch.Tensor.__len__, reverse=True)\n",
    "    return pack_sequence(batch)\n",
    "\n",
    "try:\n",
    "    x = next(iter(DataLoader(MyDataset, batch_size=5, collate_fn=collate_packed)))\n",
    "    print(x)\n",
    "except Exception as E:\n",
    "    print(E)"
   ]
  },
  {
   "cell_type": "code",
   "execution_count": 10,
   "id": "ad82b4c2-42c5-4f09-87b8-ad9ec42f2c7e",
   "metadata": {},
   "outputs": [],
   "source": [
    "batch = next(iter(DataLoader(MyDataset, batch_size=5, collate_fn=collate_list)))\n",
    "[x.T for x in batch]"
   ]
  },
  {
   "cell_type": "code",
   "execution_count": 11,
   "id": "8d5e6f7c-68f2-4529-90de-530909200b36",
   "metadata": {},
   "outputs": [],
   "source": [
    "batch_sorted = batch.copy()\n",
    "batch_sorted.sort(key=torch.Tensor.__len__, reverse=True)\n",
    "[x.T for x in batch_sorted]"
   ]
  },
  {
   "cell_type": "code",
   "execution_count": 26,
   "id": "94a8d19a-6861-4a28-a5af-08b57b655869",
   "metadata": {},
   "outputs": [],
   "source": [
    "batch_packed = pack_sequence(batch_sorted)\n",
    "batch_packed.data.T, batch_packed.batch_sizes"
   ]
  },
  {
   "cell_type": "code",
   "execution_count": 25,
   "id": "26f527d3-18a8-48d7-98a5-5f1b0ccd4d00",
   "metadata": {},
   "outputs": [],
   "source": [
    "batch_pad_packed, lengths = pad_packed_sequence(batch_packed, batch_first=True)\n",
    "torch.swapaxes(batch_pad_packed, 1, 2), lengths"
   ]
  },
  {
   "cell_type": "code",
   "execution_count": 36,
   "id": "536df470-5d42-4b7e-b190-8a8795438d7c",
   "metadata": {},
   "outputs": [],
   "source": [
    "unpacked_batch = [x[:l].T for x, l in zip(batch_pad_packed, lengths)]\n",
    "unpacked_batch"
   ]
  },
  {
   "cell_type": "code",
   "execution_count": null,
   "id": "527a4298-cd1b-4603-92f7-d88566494d3e",
   "metadata": {},
   "outputs": [],
   "source": [
    "def reconstruct_batch(packed: PackedSequence) -> list[Tensor]:\n",
    "    d = packed.data.shape[-1]\n",
    "    dtype = packed.data.dtype\n",
    "    device = packed.data.device\n",
    "    \n",
    "    lengths = []\n",
    "    b0 = 0\n",
    "    for b in batch_sizes:\n",
    "        \n",
    "        lengths += [b]"
   ]
  },
  {
   "cell_type": "code",
   "execution_count": 28,
   "id": "14fe4866-d154-4a79-abf6-0de8fc7b818b",
   "metadata": {},
   "outputs": [],
   "source": [
    "reconstructed_batch = batch_pad_packed"
   ]
  },
  {
   "cell_type": "code",
   "execution_count": 27,
   "id": "9151b9e2-6a83-4754-b156-38ddf9efac6a",
   "metadata": {},
   "outputs": [],
   "source": [
    "batch_pad_packed.shape"
   ]
  },
  {
   "cell_type": "code",
   "execution_count": null,
   "id": "b2ddc7e3-3dd6-46a8-a164-41b3a334890d",
   "metadata": {},
   "outputs": [],
   "source": [
    "def unpack(packed):\n",
    "    \n",
    "    \n",
    "    \n",
    "    \n",
    "    \n",
    "    \n",
    "    "
   ]
  },
  {
   "cell_type": "code",
   "execution_count": null,
   "id": "502d2bd5-c4c5-452f-87ab-732a68eb9efa",
   "metadata": {},
   "outputs": [],
   "source": [
    "a = MyDataset[:5]\n",
    "a.sort(key=lambda x: len(x))\n",
    "a"
   ]
  },
  {
   "cell_type": "code",
   "execution_count": null,
   "id": "3048bb79-11b2-467a-bf42-e7893c5aa63f",
   "metadata": {},
   "outputs": [],
   "source": [
    "list.sort?"
   ]
  },
  {
   "cell_type": "code",
   "execution_count": null,
   "id": "f74da399-b5a6-43bb-8f8e-96717b71781a",
   "metadata": {},
   "outputs": [],
   "source": [
    "len(torch.randn(1,23,4,45,6))"
   ]
  },
  {
   "cell_type": "code",
   "execution_count": null,
   "id": "c6cb0925-f54d-4c85-b7e2-f6960516f524",
   "metadata": {},
   "outputs": [],
   "source": []
  }
 ],
 "metadata": {
  "kernelspec": {
   "display_name": "Python 3",
   "language": "python",
   "name": "python3"
  },
  "language_info": {
   "codemirror_mode": {
    "name": "ipython",
    "version": 3
   },
   "file_extension": ".py",
   "mimetype": "text/x-python",
   "name": "python",
   "nbconvert_exporter": "python",
   "pygments_lexer": "ipython3",
   "version": "3.9.5"
  }
 },
 "nbformat": 4,
 "nbformat_minor": 5
}
