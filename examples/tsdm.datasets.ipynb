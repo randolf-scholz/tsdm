{
 "cells": [
  {
   "cell_type": "markdown",
   "id": "8bb4b9f0-da1e-4f43-8b51-4ac9dc6a1e55",
   "metadata": {},
   "source": [
    "# tsdm.datasets"
   ]
  },
  {
   "cell_type": "code",
   "execution_count": 1,
   "id": "d2ae613a-88bb-498b-9591-b1ddfe5fc8b3",
   "metadata": {},
   "outputs": [],
   "source": [
    "from tsdm.datasets import Electricity, InSilicoData"
   ]
  },
  {
   "cell_type": "code",
   "execution_count": 2,
   "id": "31f7f12c-f875-4fe0-ad41-7c8b1715e9b4",
   "metadata": {},
   "outputs": [],
   "source": [
    "?Electricity"
   ]
  },
  {
   "cell_type": "code",
   "execution_count": 3,
   "id": "348f7122-7f7b-49a1-bd8f-8e04062811af",
   "metadata": {},
   "outputs": [],
   "source": [
    "?InSilicoData"
   ]
  },
  {
   "cell_type": "code",
   "execution_count": 4,
   "id": "aa230c8c-62de-4032-ac12-606d733399cf",
   "metadata": {},
   "outputs": [],
   "source": [
    "[key for key in dir(Electricity) if not \"__\" in key]"
   ]
  },
  {
   "cell_type": "code",
   "execution_count": 10,
   "id": "b43628dc-bb81-477e-bd5e-b56f35556204",
   "metadata": {},
   "outputs": [],
   "source": [
    "Electricity.rawdata_path, Electricity.dataset_path, Electricity.dataset_file, Electricity.url"
   ]
  },
  {
   "cell_type": "code",
   "execution_count": 3,
   "id": "0832acb3-79f1-4ced-a8db-138efd1dcb98",
   "metadata": {
    "scrolled": true,
    "tags": []
   },
   "outputs": [],
   "source": [
    "Electricity.download()"
   ]
  },
  {
   "cell_type": "code",
   "execution_count": 4,
   "id": "280be868-32ab-415f-8a15-91a453f097b3",
   "metadata": {},
   "outputs": [],
   "source": [
    "from tsdm.util import timefun\n",
    "\n",
    "g = timefun(lambda: Electricity.dataset)\n",
    "ds = g()\n",
    "ds = g()"
   ]
  },
  {
   "cell_type": "code",
   "execution_count": 5,
   "id": "20fced83-ee50-40fd-a2df-eeddc1006d2e",
   "metadata": {},
   "outputs": [],
   "source": [
    "Electricity.dataset"
   ]
  },
  {
   "cell_type": "code",
   "execution_count": null,
   "id": "86a68220-1191-4dcd-a7f0-475a432ebc0f",
   "metadata": {},
   "outputs": [],
   "source": []
  }
 ],
 "metadata": {
  "kernelspec": {
   "display_name": "Python 3 (ipykernel)",
   "language": "python",
   "name": "python3"
  },
  "language_info": {
   "codemirror_mode": {
    "name": "ipython",
    "version": 3
   },
   "file_extension": ".py",
   "mimetype": "text/x-python",
   "name": "python",
   "nbconvert_exporter": "python",
   "pygments_lexer": "ipython3",
   "version": "3.9.6"
  }
 },
 "nbformat": 4,
 "nbformat_minor": 5
}
