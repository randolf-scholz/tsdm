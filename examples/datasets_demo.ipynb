{
 "cells": [
  {
   "cell_type": "code",
   "execution_count": 1,
   "id": "a1552ab8-fb73-4f0f-96c7-403bccf00eb5",
   "metadata": {},
   "outputs": [],
   "source": [
    "from tsdm.datasets import Electricity, InSilicoData"
   ]
  },
  {
   "cell_type": "code",
   "execution_count": 6,
   "id": "9f9a99a0-9964-4b4f-bb0e-05b8b6ad2836",
   "metadata": {},
   "outputs": [],
   "source": [
    "list(InSilicoData.dataset.values())[0]"
   ]
  },
  {
   "cell_type": "code",
   "execution_count": null,
   "id": "2bd004f9-407a-4b53-a3a5-87e403124dd5",
   "metadata": {},
   "outputs": [],
   "source": []
  }
 ],
 "metadata": {
  "kernelspec": {
   "display_name": "Python 3 (ipykernel)",
   "language": "python",
   "name": "python3"
  },
  "language_info": {
   "codemirror_mode": {
    "name": "ipython",
    "version": 3
   },
   "file_extension": ".py",
   "mimetype": "text/x-python",
   "name": "python",
   "nbconvert_exporter": "python",
   "pygments_lexer": "ipython3",
   "version": "3.9.5"
  }
 },
 "nbformat": 4,
 "nbformat_minor": 5
}
