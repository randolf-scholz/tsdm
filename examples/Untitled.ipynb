{
 "cells": [
  {
   "cell_type": "code",
   "execution_count": 1,
   "id": "7442d426-6103-457f-95f6-64d223bb6f18",
   "metadata": {},
   "outputs": [],
   "source": [
    "from tsdm.datasets import Electricity"
   ]
  },
  {
   "cell_type": "code",
   "execution_count": 2,
   "id": "fea003cd-5503-4c5b-b7de-9ebebd8d0d5b",
   "metadata": {},
   "outputs": [],
   "source": [
    "print(dir(Electricity))"
   ]
  },
  {
   "cell_type": "code",
   "execution_count": 3,
   "id": "095db957-27fe-4015-b8e8-496b663fda0f",
   "metadata": {},
   "outputs": [],
   "source": [
    "print(dir(Electricity(\"\")))"
   ]
  },
  {
   "cell_type": "code",
   "execution_count": 4,
   "id": "e60a4049-6019-4715-a9f7-80e46acb07ca",
   "metadata": {},
   "outputs": [],
   "source": [
    "Electricity.url\n"
   ]
  },
  {
   "cell_type": "code",
   "execution_count": 5,
   "id": "f3ecc5e9-5059-43fd-b71b-1d74d6b024da",
   "metadata": {},
   "outputs": [],
   "source": [
    "Electricity.dataset"
   ]
  },
  {
   "cell_type": "code",
   "execution_count": 6,
   "id": "f9fd514e-1558-471b-a9e7-ee2da6b7f1d9",
   "metadata": {},
   "outputs": [],
   "source": [
    "%%timeit -n 1 -r 1\n",
    "_ = Electricity.dataset"
   ]
  },
  {
   "cell_type": "code",
   "execution_count": 7,
   "id": "2a1d8948-4cc0-4502-8096-db1362ac2262",
   "metadata": {},
   "outputs": [],
   "source": [
    "%%timeit -n 1 -r 100\n",
    "_ = Electricity.dataset"
   ]
  },
  {
   "cell_type": "code",
   "execution_count": null,
   "id": "9a72ca61-e40a-4504-871a-cca7b4813a84",
   "metadata": {},
   "outputs": [],
   "source": []
  }
 ],
 "metadata": {
  "kernelspec": {
   "display_name": "Python 3",
   "language": "python",
   "name": "python3"
  },
  "language_info": {
   "codemirror_mode": {
    "name": "ipython",
    "version": 3
   },
   "file_extension": ".py",
   "mimetype": "text/x-python",
   "name": "python",
   "nbconvert_exporter": "python",
   "pygments_lexer": "ipython3",
   "version": "3.9.5"
  }
 },
 "nbformat": 4,
 "nbformat_minor": 5
}
