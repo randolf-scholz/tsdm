{
 "cells": [
  {
   "cell_type": "code",
   "execution_count": 1,
   "id": "9a83f93c-e57b-419f-bd8e-ce4945b98738",
   "metadata": {},
   "outputs": [],
   "source": [
    "%config InteractiveShell.ast_node_interactivity='last_expr_or_assign'  # always print last expr.\n",
    "%config InlineBackend.figure_format = 'svg'\n",
    "%load_ext autoreload\n",
    "%autoreload 2\n",
    "%matplotlib inline\n",
    "\n",
    "import logging\n",
    "logging.basicConfig(level=logging.INFO)"
   ]
  },
  {
   "cell_type": "code",
   "execution_count": 2,
   "id": "5518d892-fadf-4856-b9eb-380f998a02f8",
   "metadata": {
    "scrolled": true,
    "tags": []
   },
   "outputs": [],
   "source": [
    "from linodenet.models import ResNet, ResNetBlock\n",
    "from linodenet.util import initialize_from_config\n",
    "from torchinfo import summary"
   ]
  },
  {
   "cell_type": "code",
   "execution_count": 3,
   "id": "3184ecf5-09d1-41f4-8a4d-e9377a0c0eef",
   "metadata": {},
   "outputs": [],
   "source": [
    "model = ResNetBlock(input_size=4)\n",
    "summary(model, (1, 4))"
   ]
  },
  {
   "cell_type": "code",
   "execution_count": 8,
   "id": "1f26c01e-6739-489a-92f4-0fce480fcba6",
   "metadata": {},
   "outputs": [],
   "source": [
    "model = ResNet(input_size=128)\n",
    "summary(model)"
   ]
  },
  {
   "cell_type": "code",
   "execution_count": null,
   "id": "66626b9a-4ef5-449c-8230-8bd122d4e272",
   "metadata": {},
   "outputs": [],
   "source": [
    "import importlib\n",
    "module = importlib.import_module(\"torch.nn\")"
   ]
  },
  {
   "cell_type": "code",
   "execution_count": 5,
   "id": "cd45ba48-d8ce-4239-bbd6-5ce92b55d57c",
   "metadata": {},
   "outputs": [],
   "source": [
    "module = __import__(\"torch.nn\")"
   ]
  },
  {
   "cell_type": "code",
   "execution_count": 3,
   "id": "83fd6df0-f496-4a3b-920c-29110098ab0b",
   "metadata": {},
   "outputs": [],
   "source": [
    "ResNet(input_size=4)"
   ]
  },
  {
   "cell_type": "code",
   "execution_count": 4,
   "id": "5c2f072b-d1f6-4015-aa95-f55f1729bab1",
   "metadata": {},
   "outputs": [],
   "source": [
    ".HP"
   ]
  },
  {
   "cell_type": "code",
   "execution_count": 3,
   "id": "f3aaf7ae-ecd2-4608-8cf4-fbeff91c3167",
   "metadata": {},
   "outputs": [],
   "source": [
    "ResNet(input_size=4)"
   ]
  },
  {
   "cell_type": "code",
   "execution_count": 7,
   "id": "4abfdffa-0df1-496b-9651-f1ece8ed877e",
   "metadata": {},
   "outputs": [],
   "source": [
    "d.pop(\"key\")"
   ]
  },
  {
   "cell_type": "code",
   "execution_count": 8,
   "id": "9a094f5d-8405-45e2-b78a-66795941aff4",
   "metadata": {},
   "outputs": [],
   "source": [
    "HP: dict = {\n",
    "    \"input_size\" : None,\n",
    "    \"num_blocks\": 2,\n",
    "    \"layers\": [\n",
    "        {\n",
    "            \"__name__\": \"BatchNorm1d\",\n",
    "            \"__source__\": \"torch.nn\",\n",
    "            \"num_features\": None,\n",
    "            \"eps\": 1e-05,\n",
    "            \"momentum\": 0.1,\n",
    "            \"affine\": True,\n",
    "            \"track_running_stats\": True,\n",
    "        },\n",
    "        {\n",
    "            \"__name__\": \"ReLU\",\n",
    "            \"__source__\": \"torch.nn\",\n",
    "            \"inplace\": False,\n",
    "        },\n",
    "        {\n",
    "            \"__name__\": \"Linear\",\n",
    "            \"__source__\": \"torch.nn\",\n",
    "            \"in_features\": None,\n",
    "            \"out_features\": None,\n",
    "            \"bias\": True,\n",
    "        },\n",
    "    ],\n",
    "}"
   ]
  },
  {
   "cell_type": "code",
   "execution_count": 3,
   "id": "6a684db2-6182-437f-8016-66fdea13271f",
   "metadata": {},
   "outputs": [],
   "source": []
  },
  {
   "cell_type": "code",
   "execution_count": 10,
   "id": "6c231e4b-ba23-41ce-ade5-97305a9a0124",
   "metadata": {},
   "outputs": [],
   "source": [
    "class A:\n",
    "    class B:\n",
    "        print(locals())"
   ]
  },
  {
   "cell_type": "code",
   "execution_count": null,
   "id": "fcdf555d-7735-4dab-ab41-5c81fa1df16c",
   "metadata": {},
   "outputs": [],
   "source": []
  }
 ],
 "metadata": {
  "kernelspec": {
   "display_name": "Python 3 (ipykernel)",
   "language": "python",
   "name": "python3"
  },
  "language_info": {
   "codemirror_mode": {
    "name": "ipython",
    "version": 3
   },
   "file_extension": ".py",
   "mimetype": "text/x-python",
   "name": "python",
   "nbconvert_exporter": "python",
   "pygments_lexer": "ipython3",
   "version": "3.9.7"
  }
 },
 "nbformat": 4,
 "nbformat_minor": 5
}
