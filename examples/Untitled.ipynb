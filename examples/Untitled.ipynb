{
 "cells": [
  {
   "cell_type": "code",
   "execution_count": 1,
   "id": "d6adb2d8-fbef-449b-885b-de36e8d6c499",
   "metadata": {},
   "outputs": [],
   "source": [
    "import torch\n",
    "from torch import Tensor, jit"
   ]
  },
  {
   "cell_type": "code",
   "execution_count": 2,
   "id": "277d70a6-5c84-4039-919b-044f5a9f7063",
   "metadata": {},
   "outputs": [],
   "source": [
    "A =torch.randn(3,4,5)"
   ]
  },
  {
   "cell_type": "code",
   "execution_count": 10,
   "id": "e0179174-70ef-458c-8406-ec9e7f7e50c1",
   "metadata": {},
   "outputs": [],
   "source": [
    "def _is_float_dtype(x: Tensor) -> bool:\n",
    "    return x.dtype in (torch.half, torch.float, torch.double, torch.bfloat16,\n",
    "                       torch.complex32, torch.complex64, torch.complex128)"
   ]
  },
  {
   "cell_type": "code",
   "execution_count": 71,
   "id": "04f06c56-1a2e-4c33-ab81-d735d8603269",
   "metadata": {},
   "outputs": [],
   "source": [
    "torch.mean(A, [])"
   ]
  },
  {
   "cell_type": "code",
   "execution_count": 19,
   "id": "41a9f00a-160f-4d65-aede-a35696dff33d",
   "metadata": {},
   "outputs": [],
   "source": [
    "@jit.script\n",
    "def jmean(x: Tensor, dim: list[int] = (), keepdim: bool=False):\n",
    "    if not _is_float_dtype(x):\n",
    "        x = x.to(dtype=torch.float)\n",
    "    return torch.mean(x, dim, keepdim=keepdim)"
   ]
  },
  {
   "cell_type": "code",
   "execution_count": 83,
   "id": "d2942770-2451-41e7-93fd-646ba8e8fcb1",
   "metadata": {},
   "outputs": [],
   "source": [
    "@jit.script\n",
    "def torch_scaled_norm(x: Tensor,  p: float = 2, dim: list[int] = (), keepdim: bool = False) -> Tensor:    \n",
    "    if not _is_float_dtype(x):\n",
    "        x.to(dtype=torch.float)\n",
    "\n",
    "    if p == 0:\n",
    "        # https://math.stackexchange.com/q/282271/99220\n",
    "        return torch.exp(torch.mean(torch.log(x), dim=dim, keepdim=keepdim))\n",
    "    if p == 1:\n",
    "        return torch.mean(x, dim=dim, keepdim=keepdim)\n",
    "    if p == 2:\n",
    "        return torch.sqrt(torch.mean(x ** 2, dim=dim, keepdim=keepdim))\n",
    "    if p == float('inf'):\n",
    "        return torch.amax(x, dim=dim, keepdim=keepdim)\n",
    "    # other p\n",
    "    return torch.mean(x ** p, dim=dim, keepdim=keepdim) ** (1 / p)"
   ]
  },
  {
   "cell_type": "code",
   "execution_count": null,
   "id": "5259441d-bd5c-4c56-b6d6-c0aa309dfee5",
   "metadata": {},
   "outputs": [],
   "source": []
  },
  {
   "cell_type": "code",
   "execution_count": 70,
   "id": "28d8bf78-18c8-428b-82a6-fce3b4398183",
   "metadata": {},
   "outputs": [],
   "source": [
    "torch.tensor([1,2]).to(dtype=torch.bfloat16).dtype == float"
   ]
  },
  {
   "cell_type": "code",
   "execution_count": 22,
   "id": "44cc9d71-46af-4349-8933-43ba06d2bbdf",
   "metadata": {},
   "outputs": [],
   "source": [
    "torch_scaled_norm(torch.tensor([1,2]))"
   ]
  },
  {
   "cell_type": "code",
   "execution_count": 65,
   "id": "ddb4f680-eec7-42a3-adf2-a0f6954cbab1",
   "metadata": {},
   "outputs": [],
   "source": [
    "import numba\n",
    "from numpy import ndarray\n",
    "import numpy as np\n",
    "\n",
    "def numpy_scaled_norm(x: ndarray, p: float = 2, axis = (), keepdims: bool = False) -> ndarray:\n",
    "    x = np.abs(x)\n",
    "\n",
    "    if p == 0:\n",
    "        # https://math.stackexchange.com/q/282271/99220\n",
    "        return np.exp(np.sum(np.log(x), axis=axis, keepdims=keepdims))\n",
    "    if p == 1:\n",
    "        return np.sum(x, axis=axis, keepdims=keepdims)\n",
    "    if p == 2:\n",
    "        return np.sqrt(np.sum(x ** 2, axis=axis, keepdims=keepdims))\n",
    "    if p == np.inf:\n",
    "        return np.amax(x, axis=axis, keepdims=keepdims)\n",
    "    # other p\n",
    "    return np.sum(x**p, axis=axis, keepdims=keepdims) ** (1 / p)"
   ]
  },
  {
   "cell_type": "code",
   "execution_count": 66,
   "id": "0f88620c-ba88-407c-b068-860fc62ab446",
   "metadata": {},
   "outputs": [],
   "source": [
    "numpy_scaled_norm(np.array([1,2], dtype=np.float32))"
   ]
  },
  {
   "cell_type": "code",
   "execution_count": 51,
   "id": "bc4bd6d6-731a-47f8-891f-9308dd5634dc",
   "metadata": {},
   "outputs": [],
   "source": [
    "np.array([1,2]).astype(float)"
   ]
  },
  {
   "cell_type": "code",
   "execution_count": 72,
   "id": "401fecfe-46d0-4c2d-91ea-db6adf15a306",
   "metadata": {},
   "outputs": [],
   "source": [
    "B =np.random.randn(3,4,5)"
   ]
  },
  {
   "cell_type": "code",
   "execution_count": 75,
   "id": "5a8ead85-4c6e-45df-8dfa-41c59c87ed20",
   "metadata": {},
   "outputs": [],
   "source": [
    "np.mean(B, axis=())"
   ]
  },
  {
   "cell_type": "code",
   "execution_count": 77,
   "id": "d2928221-775d-4e3e-ad85-70dcf2ef5d11",
   "metadata": {},
   "outputs": [],
   "source": [
    "list(())"
   ]
  },
  {
   "cell_type": "code",
   "execution_count": null,
   "id": "f341295f-67cc-4b72-bfe1-aa4681149593",
   "metadata": {},
   "outputs": [],
   "source": []
  }
 ],
 "metadata": {
  "kernelspec": {
   "display_name": "Python 3",
   "language": "python",
   "name": "python3"
  },
  "language_info": {
   "codemirror_mode": {
    "name": "ipython",
    "version": 3
   },
   "file_extension": ".py",
   "mimetype": "text/x-python",
   "name": "python",
   "nbconvert_exporter": "python",
   "pygments_lexer": "ipython3",
   "version": "3.9.5"
  }
 },
 "nbformat": 4,
 "nbformat_minor": 5
}
