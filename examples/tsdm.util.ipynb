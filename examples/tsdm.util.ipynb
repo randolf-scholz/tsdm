{
 "cells": [
  {
   "cell_type": "markdown",
   "id": "0faa70e2-06ea-4c9a-aab1-63c4573ae8ae",
   "metadata": {},
   "source": [
    "# tsdm.util"
   ]
  },
  {
   "cell_type": "code",
   "execution_count": 3,
   "id": "ca680a8a-be83-4a12-8b10-47e8f4fbf1b8",
   "metadata": {},
   "outputs": [],
   "source": [
    "%load_ext autoreload\n",
    "%autoreload 2"
   ]
  },
  {
   "cell_type": "code",
   "execution_count": 4,
   "id": "bb5da037-9d3b-4423-a6b2-aa68ce3c9596",
   "metadata": {},
   "outputs": [],
   "source": [
    "import pandas\n",
    "\n",
    "pandas.options.display.max_rows = 40"
   ]
  },
  {
   "cell_type": "code",
   "execution_count": 5,
   "id": "dc3d7b5f-fe01-4c70-9755-4c9e3edde0ff",
   "metadata": {},
   "outputs": [],
   "source": [
    "from tsdm.util import (\n",
    "    ACTIVATIONS,\n",
    "    deep_dict_update,\n",
    "    deep_kval_update,\n",
    "    relative_error,\n",
    "    scaled_norm,\n",
    "    timefun,\n",
    "    float_gcd,\n",
    "    time_gcd,\n",
    "    regularity_coefficient,\n",
    "    is_regular,\n",
    "    is_quasiregular,\n",
    ")"
   ]
  },
  {
   "cell_type": "code",
   "execution_count": 6,
   "id": "e168f72d-2526-441b-92fe-c69e6619aab6",
   "metadata": {},
   "outputs": [],
   "source": [
    "from tsdm.datasets import Electricity, InSilicoData"
   ]
  },
  {
   "cell_type": "markdown",
   "id": "8efd7264-54af-46f5-832b-f12d8e50da39",
   "metadata": {},
   "source": [
    "## ACTIVATIONS"
   ]
  },
  {
   "cell_type": "code",
   "execution_count": 7,
   "id": "7d8e19bc-f14c-4eed-87cf-bcd12b5a4250",
   "metadata": {},
   "outputs": [],
   "source": [
    "ACTIVATIONS"
   ]
  },
  {
   "cell_type": "markdown",
   "id": "238fdb17-d1a5-404b-9fb2-e7570f1b4bb3",
   "metadata": {},
   "source": [
    "## deep_dict_update, deep_kval_update"
   ]
  },
  {
   "cell_type": "code",
   "execution_count": 8,
   "id": "fc69c410-2142-409e-bdc1-ba176fe2fee0",
   "metadata": {},
   "outputs": [],
   "source": [
    "default_hyperparameters = {\n",
    "    \"layers\": None,\n",
    "    \"units\": None,\n",
    "    \"activation\": \"ReLU\",\n",
    "    \"submodule_config\": {\n",
    "        \"layers\": 3,\n",
    "        \"units\": None,\n",
    "        \"activation\": \"ReLU\",\n",
    "    },\n",
    "    \"optimizer\": \"Adam\",\n",
    "    \"optimizer_config\": {\n",
    "        \"lr\": 0.001,\n",
    "        \"momentum\": 0.999,\n",
    "    },\n",
    "}\n",
    "\n",
    "deep_kval_update(default_hyperparameters, layers=10, activation=\"Tanh\", units=\"32\")"
   ]
  },
  {
   "cell_type": "code",
   "execution_count": 10,
   "id": "eecd6327-6ba2-4cd8-9d4f-30f49722f0c2",
   "metadata": {},
   "outputs": [],
   "source": [
    "default_hyperparameters = {\n",
    "    \"layers\": None,\n",
    "    \"units\": None,\n",
    "    \"activation\": \"ReLU\",\n",
    "    \"submodule_config\": {\n",
    "        \"layers\": 3,\n",
    "        \"units\": None,\n",
    "        \"activation\": \"ReLU\",\n",
    "    },\n",
    "    \"optimizer\": \"Adam\",\n",
    "    \"optimizer_config\": {\n",
    "        \"lr\": 0.001,\n",
    "        \"momentum\": 0.999,\n",
    "    },\n",
    "}\n",
    "\n",
    "new_hyperparameters = {\n",
    "    \"activation\": \"Tanh\",\n",
    "    \"units\": 128,\n",
    "    \"submodule_config\": {\n",
    "        \"activation\": \"Sigmoid\",\n",
    "    },\n",
    "}\n",
    "\n",
    "deep_dict_update(default_hyperparameters, new_hyperparameters)"
   ]
  },
  {
   "cell_type": "markdown",
   "id": "760ae484-6d0b-4469-8c20-f24b9bf12d4a",
   "metadata": {},
   "source": [
    "## relative_error, scaled_norm\n",
    "\n",
    "Norm scaled by array size such that `scaled_norm(ones(n), p=p)` is always equal to 1, no matter the length."
   ]
  },
  {
   "cell_type": "code",
   "execution_count": 8,
   "id": "032f278f-0432-4175-aad6-f5bd3ed457da",
   "metadata": {},
   "outputs": [],
   "source": [
    "import numpy as np\n",
    "\n",
    "[scaled_norm(np.ones(n)) for n in (3, 5, 10)]"
   ]
  },
  {
   "cell_type": "code",
   "execution_count": 9,
   "id": "0f055fe4-eee8-488b-94e7-866f464c67a5",
   "metadata": {},
   "outputs": [],
   "source": [
    "import torch\n",
    "\n",
    "[scaled_norm(torch.ones(n)) for n in (3, 5, 10)]"
   ]
  },
  {
   "cell_type": "markdown",
   "id": "e6bf042e-c198-4fc1-b352-d368895c5ef3",
   "metadata": {},
   "source": [
    "## timefun"
   ]
  },
  {
   "cell_type": "code",
   "execution_count": 16,
   "id": "cc67d2ab-3a21-4c87-9b1b-155c1841503c",
   "metadata": {},
   "outputs": [],
   "source": [
    "from time import sleep\n",
    "\n",
    "\n",
    "@timefun\n",
    "def slp(seconds: int) -> None:\n",
    "    sleep(seconds)\n",
    "\n",
    "\n",
    "slp(3)"
   ]
  },
  {
   "cell_type": "markdown",
   "id": "05d03e84-646a-49dd-a3ee-853059a1f9f0",
   "metadata": {},
   "source": [
    "## float_gcd, time_gcd"
   ]
  },
  {
   "cell_type": "code",
   "execution_count": 20,
   "id": "0c51f221-6663-4ee9-8caf-a5f86836a11b",
   "metadata": {},
   "outputs": [],
   "source": [
    "float_gcd([1, 1.25, 2.0])"
   ]
  },
  {
   "cell_type": "markdown",
   "id": "6a5d0b6f-09ff-4623-a5ad-3d9f00e3eb43",
   "metadata": {},
   "source": [
    "## regularity_coefficient, is_regular, is_quasiregular"
   ]
  },
  {
   "cell_type": "code",
   "execution_count": 21,
   "id": "e0f02e3d-90d9-4cf3-b3ab-f7f9cc4d7787",
   "metadata": {},
   "outputs": [],
   "source": [
    "is_regular(Electricity.dataset)"
   ]
  },
  {
   "cell_type": "markdown",
   "id": "2a42d714-b900-4107-ba1b-8aa68f6c4824",
   "metadata": {},
   "source": [
    "[2, 3, 5, 6, 8, 10, 12]\n",
    "[2,3,4,5,6,7,8,9,10,11,12]"
   ]
  },
  {
   "cell_type": "code",
   "execution_count": 23,
   "id": "5b0e3618-3f5b-43d6-bf3d-9588254533cd",
   "metadata": {},
   "outputs": [],
   "source": [
    "is_quasiregular(Electricity.dataset)"
   ]
  },
  {
   "cell_type": "code",
   "execution_count": 25,
   "id": "8d0ca20e-e5e6-471d-869d-8f0eb5677804",
   "metadata": {},
   "outputs": [],
   "source": [
    "regularity_coefficient(Electricity.dataset)"
   ]
  },
  {
   "cell_type": "code",
   "execution_count": 14,
   "id": "612eeef2-2ebe-4688-81ed-aa9b1d567062",
   "metadata": {},
   "outputs": [],
   "source": [
    "InSilicoData.dataset[\"run_16130\"]"
   ]
  },
  {
   "cell_type": "code",
   "execution_count": 26,
   "id": "51048cf6-b427-4d43-b510-261ab631df15",
   "metadata": {},
   "outputs": [],
   "source": [
    "is_regular(InSilicoData.dataset[\"run_16130\"])"
   ]
  },
  {
   "cell_type": "code",
   "execution_count": 27,
   "id": "2e6a8e34-8427-49fd-97af-220b9e9e8e14",
   "metadata": {},
   "outputs": [],
   "source": [
    "is_quasiregular(InSilicoData.dataset[\"run_16130\"])"
   ]
  },
  {
   "cell_type": "code",
   "execution_count": 28,
   "id": "c7380d4f-ac40-4aec-ad0f-a23d71b3124a",
   "metadata": {},
   "outputs": [],
   "source": [
    "regularity_coefficient(InSilicoData.dataset[\"run_16130\"])"
   ]
  },
  {
   "cell_type": "code",
   "execution_count": null,
   "id": "1848a211-9db0-44c4-a940-faec080553aa",
   "metadata": {},
   "outputs": [],
   "source": []
  }
 ],
 "metadata": {
  "kernelspec": {
   "display_name": "Python 3 (ipykernel)",
   "language": "python",
   "name": "python3"
  },
  "language_info": {
   "codemirror_mode": {
    "name": "ipython",
    "version": 3
   },
   "file_extension": ".py",
   "mimetype": "text/x-python",
   "name": "python",
   "nbconvert_exporter": "python",
   "pygments_lexer": "ipython3",
   "version": "3.9.6"
  }
 },
 "nbformat": 4,
 "nbformat_minor": 5
}
