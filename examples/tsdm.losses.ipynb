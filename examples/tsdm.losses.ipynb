{
 "cells": [
  {
   "cell_type": "markdown",
   "id": "0b0430ad-afd1-48a8-84fc-974e0f7ca4e2",
   "metadata": {},
   "source": [
    "# tsdm.losses"
   ]
  },
  {
   "cell_type": "code",
   "execution_count": 5,
   "id": "d01b6876-b700-4c23-9da7-ccac6fb65717",
   "metadata": {},
   "outputs": [],
   "source": [
    "from tsdm.losses.functional import nrmse, nd"
   ]
  },
  {
   "cell_type": "code",
   "execution_count": 8,
   "id": "f1ab0d57-d5f2-4e90-a863-8e16bdee9d1d",
   "metadata": {},
   "outputs": [],
   "source": [
    "import torch\n",
    "y, yhat = torch.randn(2, 100, 3)"
   ]
  },
  {
   "cell_type": "code",
   "execution_count": 9,
   "id": "203b9e02-6841-488d-a7af-6b337984ea41",
   "metadata": {},
   "outputs": [],
   "source": [
    "nrmse(y, yhat)"
   ]
  },
  {
   "cell_type": "code",
   "execution_count": null,
   "id": "8c083a72-aec4-45fe-b26d-412a164a09e7",
   "metadata": {},
   "outputs": [],
   "source": []
  }
 ],
 "metadata": {
  "kernelspec": {
   "display_name": "Python 3 (ipykernel)",
   "language": "python",
   "name": "python3"
  },
  "language_info": {
   "codemirror_mode": {
    "name": "ipython",
    "version": 3
   },
   "file_extension": ".py",
   "mimetype": "text/x-python",
   "name": "python",
   "nbconvert_exporter": "python",
   "pygments_lexer": "ipython3",
   "version": "3.9.6"
  }
 },
 "nbformat": 4,
 "nbformat_minor": 5
}
