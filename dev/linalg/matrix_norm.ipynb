{
 "cells": [
  {
   "cell_type": "code",
   "execution_count": null,
   "id": "4284db01-46ba-4f72-bf40-45cfd6e4975b",
   "metadata": {},
   "outputs": [],
   "source": [
    "%config InteractiveShell.ast_node_interactivity='last_expr_or_assign'  # always print last expr."
   ]
  },
  {
   "cell_type": "code",
   "execution_count": null,
   "id": "7d7a9d15-f5ab-40c1-9950-f3e6eb380447",
   "metadata": {},
   "outputs": [],
   "source": [
    "import numpy as np\n",
    "\n",
    "\n",
    "def f(x, p):\n",
    "    x = np.asarray(x)\n",
    "    p = np.asarray(p)\n",
    "    assert p.ndim < 2\n",
    "    return np.sum(np.power.outer(np.abs(x), p), axis=0) ** (1 / p)\n",
    "\n",
    "\n",
    "def g(x, p):\n",
    "    x = np.asarray(x)\n",
    "    p = np.asarray(p)\n",
    "    assert p.ndim < 2\n",
    "    return np.mean(np.power.outer(np.abs(x), p), axis=0) ** (1 / p)\n",
    "\n",
    "\n",
    "def gmean(x):\n",
    "    return np.prod(np.abs(x)) ** (1 / len(x))"
   ]
  },
  {
   "cell_type": "code",
   "execution_count": null,
   "id": "a79dc903-f9cf-48b7-877d-48a15b0ae53f",
   "metadata": {},
   "outputs": [],
   "source": [
    "N = 7\n",
    "x = np.random.randn(N)\n",
    "p = np.logspace(-3, 3, 1000);"
   ]
  },
  {
   "cell_type": "code",
   "execution_count": null,
   "id": "d16813b6-fc9b-4521-bdb5-030d43f76057",
   "metadata": {},
   "outputs": [],
   "source": [
    "import matplotlib.pyplot as plt\n",
    "\n",
    "fig, ax = plt.subplots()\n",
    "\n",
    "ax.loglog(p, f(x, p), \"-b\", label=\"‖x‖ₚ ≔ (∑ₙ|xₙ|ᵖ)¹ᐟᵖ\")\n",
    "ax.loglog(p, g(x, p), \"-r\", label=\"‖x‖ₚ ≔ (⅟ₙ∑ₙ|xₙ|ᵖ)¹ᐟᵖ\")\n",
    "ax.loglog(p, np.max(np.abs(x)) * np.ones_like(p), \"--k\", label=\"‖x‖∞\")\n",
    "ax.loglog(p, gmean(x) * np.ones_like(p), \"--k\", label=\"‖x‖∞\")\n",
    "\n",
    "ax.set_ylim(10**-1, 10**8)\n",
    "ax.set_xlabel(\"p\")\n",
    "ax.set_ylabel(\"‖x‖ₚ\")\n",
    "ax.legend()\n",
    "fig.suptitle(\"Scaled Lₚ norm vs unscaled Lₚ norm.\")\n",
    "fig.savefig(\"scaled_norm.png\", dpi=500)"
   ]
  },
  {
   "cell_type": "markdown",
   "id": "269306dc-555c-4cbd-9e41-324e8679ea12",
   "metadata": {},
   "source": [
    "## Unit circles in "
   ]
  },
  {
   "cell_type": "code",
   "execution_count": null,
   "id": "03bcce0e-d70f-4d2f-be1d-f818598d35f8",
   "metadata": {},
   "outputs": [],
   "source": [
    "def f(x, p):\n",
    "    \"\"\"Normal Lᴾ norm.\n",
    "    .. Signature:: ``[(..., n), (m,)] -> (..., m)``\n",
    "    \"\"\"\n",
    "    assert p.ndim < 2\n",
    "    return np.sum(np.power.outer(np.abs(x), p), axis=-2) ** (1 / p)\n",
    "\n",
    "\n",
    "def g(x, p):\n",
    "    \"\"\"Scaled Lᴾ norm.\n",
    "\n",
    "    .. Signature:: ``[(..., n), (m,)] -> (..., m)``\n",
    "    \"\"\"\n",
    "    assert p.ndim < 2\n",
    "    return np.mean(np.power.outer(np.abs(x), p), axis=-2) ** (1 / p)"
   ]
  },
  {
   "cell_type": "code",
   "execution_count": null,
   "id": "7c4af0c1-a350-4ab8-8859-96c01bd7b3c1",
   "metadata": {},
   "outputs": [],
   "source": [
    "f(x, -1)"
   ]
  },
  {
   "cell_type": "code",
   "execution_count": null,
   "id": "343ec96b-9447-4be6-9383-04f75d7e151e",
   "metadata": {},
   "outputs": [],
   "source": [
    "2**16"
   ]
  },
  {
   "cell_type": "code",
   "execution_count": null,
   "id": "0d610c72-1836-4e77-9c17-e3f0656e836d",
   "metadata": {},
   "outputs": [],
   "source": []
  }
 ],
 "metadata": {
  "kernelspec": {
   "display_name": "Python 3 (ipykernel)",
   "language": "python",
   "name": "python3"
  },
  "language_info": {
   "codemirror_mode": {
    "name": "ipython",
    "version": 3
   },
   "file_extension": ".py",
   "mimetype": "text/x-python",
   "name": "python",
   "nbconvert_exporter": "python",
   "pygments_lexer": "ipython3",
   "version": "3.10.13"
  }
 },
 "nbformat": 4,
 "nbformat_minor": 5
}
