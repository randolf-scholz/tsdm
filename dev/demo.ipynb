{
 "cells": [
  {
   "cell_type": "code",
   "execution_count": null,
   "id": "4c2f520a-6189-404c-b004-268324f42f61",
   "metadata": {},
   "outputs": [],
   "source": [
    "import tsdm\n",
    "import numpy as np"
   ]
  },
  {
   "cell_type": "code",
   "execution_count": null,
   "id": "0f1bde03-b78a-49cf-852f-2a63bde503c3",
   "metadata": {},
   "outputs": [],
   "source": [
    "from tsdm.datasets import Electricity"
   ]
  },
  {
   "cell_type": "code",
   "execution_count": null,
   "id": "d7641c94-4121-4c32-9865-54f436d12f77",
   "metadata": {},
   "outputs": [],
   "source": [
    "vars(Electricity)"
   ]
  },
  {
   "cell_type": "code",
   "execution_count": null,
   "id": "ff3531e5",
   "metadata": {},
   "outputs": [],
   "source": [
    "x = Electricity.dataset\n",
    "x"
   ]
  },
  {
   "cell_type": "code",
   "execution_count": null,
   "id": "71a91729-9e9e-444e-8c53-b4842d1e3ca5",
   "metadata": {},
   "outputs": [],
   "source": [
    "observed = np.random.choice([True, False], size=x.shape)\n",
    "x = x.where(observed)\n",
    "display(observed, x)"
   ]
  },
  {
   "cell_type": "markdown",
   "id": "34d74a61-065a-458f-a3e6-2102c693368d",
   "metadata": {},
   "source": [
    "### 2.1 Triplet Format\n",
    "\n",
    "The data is represented as a set of triplets (time, variable, value). All NaNs are dropped."
   ]
  },
  {
   "cell_type": "code",
   "execution_count": null,
   "id": "229ed818",
   "metadata": {},
   "outputs": [],
   "source": [
    "dense_x = tsdm.util.make_dense_triplets(x)\n",
    "dense_x"
   ]
  },
  {
   "cell_type": "markdown",
   "id": "8ceb87f0-2039-400b-8589-2ded34cbe625",
   "metadata": {},
   "source": [
    "### 2.2 Sparse Triplet format\n",
    "\n",
    "The same as before, but the variable tensor is encoded in a one-hot fashion, and the tensor is stored as a sparse tensor"
   ]
  },
  {
   "cell_type": "code",
   "execution_count": null,
   "id": "432a3ee5",
   "metadata": {},
   "outputs": [],
   "source": [
    "sparse_x = tsdm.util.make_sparse_triplets(x)\n",
    "sparse_x"
   ]
  },
  {
   "cell_type": "markdown",
   "id": "518a0d26-2136-4345-908f-d5a440956f4e",
   "metadata": {},
   "source": [
    "### 2.3 Masked Format\n",
    "\n",
    "Here we get 3 tensors:\n",
    "\n",
    "- x: the original data\n",
    "- m: a boolean mask, 1: value observed, 0: value not observed (NaN)\n",
    "- d: time since the channel was last observed"
   ]
  },
  {
   "cell_type": "code",
   "execution_count": null,
   "id": "6231394d",
   "metadata": {},
   "outputs": [],
   "source": [
    "x, m, d = tsdm.util.make_masked_format(x)\n",
    "display(x, m, d)"
   ]
  },
  {
   "cell_type": "markdown",
   "id": "080c5fec-38b8-41ee-a2ab-4584a9d67c1e",
   "metadata": {},
   "source": [
    "## 3. Visualizing the data"
   ]
  },
  {
   "cell_type": "code",
   "execution_count": null,
   "id": "75e6c0f6-b6f9-49bb-b5de-f2bd51f96fa3",
   "metadata": {},
   "outputs": [],
   "source": [
    "df = Electricity.dataset\n",
    "ΔT = np.diff(df.index)\n",
    "Δt = ΔT[0].astype(\"timedelta64[m]\")\n",
    "assert np.all(ΔT == Δt)\n",
    "N, M = df.shape\n",
    "# remove first year from the data (useless zeros)\n",
    "span = np.timedelta64(365, \"D\")//Δt\n",
    "df = df.iloc[span:]"
   ]
  },
  {
   "cell_type": "code",
   "execution_count": null,
   "id": "d2543421-fb20-44f5-a142-22d7a0c36d24",
   "metadata": {},
   "outputs": [],
   "source": [
    "%config InlineBackend.figure_format = 'retina'\n",
    "from matplotlib import pyplot as plt\n",
    "\n",
    "fig, ax = plt.subplots(nrows=3, ncols=2, figsize=(24, 9), tight_layout=True, sharex='col', sharey=True)\n",
    "ax[0,0].set_title(\"24h rolling average\")\n",
    "ax[1,0].set_title(\"7d rolling average\")\n",
    "selection = np.random.randint(low=0, high=M, size=5)\n",
    "# selection = [319]\n",
    "\n",
    "a = np.datetime64('2013-01-01')\n",
    "b = np.datetime64('2013-02-01')\n",
    "mask = (df.index >= a) & (df.index <= b)\n",
    "\n",
    "\n",
    "for k, timedelta in enumerate((Δt, np.timedelta64(24, \"h\"), np.timedelta64(7, \"D\"))):\n",
    "    for l in range(2):\n",
    "        if l==0:\n",
    "            data = df.rolling(window=timedelta//Δt, min_periods=1, axis=0).mean()\n",
    "        if l==1: \n",
    "            a = np.datetime64('2013-01-01')\n",
    "            b = np.datetime64('2013-02-01')\n",
    "            mask = (df.index >= a) & (df.index <= b)\n",
    "            data = df[mask].rolling(window=timedelta//Δt, min_periods=1, axis=0).mean()\n",
    "\n",
    "        for col in data.iloc[:, selection]:\n",
    "            ax[k,l].plot(data.index, data[col])\n",
    "        ax[k,l].set_title(F\"{timedelta}-rolling average\")\n",
    "        ax[k,l].set_ylabel(\"electricity consumption in kW\")"
   ]
  },
  {
   "cell_type": "code",
   "execution_count": null,
   "id": "885d2365-422c-4769-a9c8-a2765e62103f",
   "metadata": {},
   "outputs": [],
   "source": []
  }
 ],
 "metadata": {
  "kernelspec": {
   "display_name": "Python 3 (ipykernel)",
   "language": "python",
   "name": "python3"
  },
  "language_info": {
   "codemirror_mode": {
    "name": "ipython",
    "version": 3
   },
   "file_extension": ".py",
   "mimetype": "text/x-python",
   "name": "python",
   "nbconvert_exporter": "python",
   "pygments_lexer": "ipython3",
   "version": "3.9.6"
  }
 },
 "nbformat": 4,
 "nbformat_minor": 5
}
