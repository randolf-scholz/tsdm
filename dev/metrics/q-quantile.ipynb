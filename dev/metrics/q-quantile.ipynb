{
 "cells": [
  {
   "cell_type": "code",
   "execution_count": null,
   "id": "b16436b7-9f2f-4c6b-ae17-6a2d803ae9cd",
   "metadata": {},
   "outputs": [],
   "source": [
    "import torch\n",
    "from torch import Tensor, jit\n",
    "\n",
    "DEVICE = torch.device(\"cuda\")"
   ]
  },
  {
   "cell_type": "markdown",
   "id": "a9c7a6bc-13c3-4c64-a785-9e53119d9c89",
   "metadata": {},
   "source": [
    "# Profiling P function implementations"
   ]
  },
  {
   "cell_type": "code",
   "execution_count": null,
   "id": "815f27da-63e7-42b0-a025-33ef7352200e",
   "metadata": {},
   "outputs": [],
   "source": [
    "@jit.script\n",
    "def P1(x: Tensor, xhat: Tensor, q: float = 0.5) -> Tensor:\n",
    "    r = torch.abs(x - xhat)\n",
    "    return torch.where(x > xhat, q * r, (1 - q) * r)\n",
    "\n",
    "\n",
    "@jit.script\n",
    "def P2(x: Tensor, xhat: Tensor, q: float = 0.5) -> Tensor:\n",
    "    errors = x - xhat\n",
    "    return torch.max((q - 1) * errors, q * errors)\n",
    "\n",
    "\n",
    "@jit.script\n",
    "def P3(x: Tensor, xhat: Tensor, q: float = 0.5) -> Tensor:\n",
    "    errors = x - xhat\n",
    "    return torch.max((q - 1) * errors, q * errors)"
   ]
  },
  {
   "cell_type": "code",
   "execution_count": null,
   "id": "6f120899-9b2f-4ab0-a338-ff5138145e7b",
   "metadata": {},
   "outputs": [],
   "source": [
    "import tsdm"
   ]
  },
  {
   "cell_type": "code",
   "execution_count": null,
   "id": "d02fd163-bff4-490d-b58f-745657496853",
   "metadata": {},
   "outputs": [],
   "source": [
    "tsdm.metrics.ND()(x, xhat)"
   ]
  },
  {
   "cell_type": "code",
   "execution_count": null,
   "id": "78bd7c3f-f921-448a-a929-53ec541f5e96",
   "metadata": {},
   "outputs": [],
   "source": [
    "%%timeit\n",
    "\n",
    "x, xhat = torch.randn(2, 1_000_000, device=DEVICE)\n",
    "P1(x, xhat)"
   ]
  },
  {
   "cell_type": "code",
   "execution_count": null,
   "id": "ad622ac5-f5df-4b05-85a3-696c87aa1be2",
   "metadata": {},
   "outputs": [],
   "source": [
    "%%timeit\n",
    "x = torch.nn.Parameter(torch.randn(1_000_000, device=DEVICE))\n",
    "xhat = torch.nn.Parameter(torch.randn(1_000_000, device=DEVICE))\n",
    "result = torch.mean(P1(x, xhat))\n",
    "result.backward()"
   ]
  },
  {
   "cell_type": "code",
   "execution_count": null,
   "id": "cac00768-6d5a-41cd-a12b-89ef1c744cec",
   "metadata": {},
   "outputs": [],
   "source": [
    "%%timeit\n",
    "x = torch.nn.Parameter(torch.randn(1_000_000, device=DEVICE))\n",
    "xhat = torch.nn.Parameter(torch.randn(1_000_000, device=DEVICE))\n",
    "result = torch.mean(P2(x, xhat))\n",
    "result.backward()"
   ]
  },
  {
   "cell_type": "code",
   "execution_count": null,
   "id": "4480f754-bbee-4bc7-ab84-78f8d272889e",
   "metadata": {},
   "outputs": [],
   "source": [
    "def QL(x, xhat, p=0.5):\n",
    "    return 2 * torch.sum(P(x, xhat, p)) / torch.sum(torch.abs(x))"
   ]
  },
  {
   "cell_type": "code",
   "execution_count": null,
   "id": "e3e6768e-c07d-44b3-b5e9-3e4342e282fa",
   "metadata": {},
   "outputs": [],
   "source": [
    "x = torch.nn.Parameter(torch.randn(20, 30, device=DEVICE))\n",
    "xhat = torch.nn.Parameter(torch.randn(20, 30, device=DEVICE))"
   ]
  },
  {
   "cell_type": "code",
   "execution_count": null,
   "id": "82fcd183-b250-45f9-8082-f62d2112b2e8",
   "metadata": {},
   "outputs": [],
   "source": []
  }
 ],
 "metadata": {
  "kernelspec": {
   "display_name": "Python 3 (ipykernel)",
   "language": "python",
   "name": "python3"
  },
  "language_info": {
   "codemirror_mode": {
    "name": "ipython",
    "version": 3
   },
   "file_extension": ".py",
   "mimetype": "text/x-python",
   "name": "python",
   "nbconvert_exporter": "python",
   "pygments_lexer": "ipython3",
   "version": "3.9.7"
  }
 },
 "nbformat": 4,
 "nbformat_minor": 5
}
