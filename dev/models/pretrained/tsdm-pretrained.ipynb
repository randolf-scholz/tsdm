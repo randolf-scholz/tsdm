{
 "cells": [
  {
   "cell_type": "code",
   "execution_count": null,
   "id": "20191951-beec-414a-b3c6-89dca8277ad2",
   "metadata": {
    "execution": {
     "iopub.execute_input": "2022-11-16T18:54:24.000277Z",
     "iopub.status.busy": "2022-11-16T18:54:24.000108Z",
     "iopub.status.idle": "2022-11-16T18:54:24.447463Z",
     "shell.execute_reply": "2022-11-16T18:54:24.446777Z",
     "shell.execute_reply.started": "2022-11-16T18:54:24.000235Z"
    },
    "tags": []
   },
   "outputs": [],
   "source": [
    "%config InteractiveShell.ast_node_interactivity='last_expr_or_assign'  # always print last expr.\n",
    "%config InlineBackend.figure_format = 'svg'\n",
    "%load_ext autoreload\n",
    "%autoreload 2\n",
    "%matplotlib inline"
   ]
  },
  {
   "cell_type": "code",
   "execution_count": null,
   "id": "58b7f6d7",
   "metadata": {
    "execution": {
     "iopub.execute_input": "2022-11-16T18:54:24.449120Z",
     "iopub.status.busy": "2022-11-16T18:54:24.448866Z",
     "iopub.status.idle": "2022-11-16T18:54:26.558538Z",
     "shell.execute_reply": "2022-11-16T18:54:26.557791Z",
     "shell.execute_reply.started": "2022-11-16T18:54:24.449103Z"
    },
    "tags": []
   },
   "outputs": [],
   "source": [
    "from tsdm.models.pretrained import LinODEnet"
   ]
  },
  {
   "cell_type": "code",
   "execution_count": null,
   "id": "d695b42b",
   "metadata": {
    "execution": {
     "iopub.execute_input": "2022-11-16T18:54:26.559637Z",
     "iopub.status.busy": "2022-11-16T18:54:26.559272Z",
     "iopub.status.idle": "2022-11-16T18:54:26.589035Z",
     "shell.execute_reply": "2022-11-16T18:54:26.588380Z",
     "shell.execute_reply.started": "2022-11-16T18:54:26.559619Z"
    },
    "tags": []
   },
   "outputs": [],
   "source": [
    "model = LinODEnet()"
   ]
  },
  {
   "cell_type": "code",
   "execution_count": null,
   "id": "22d2d9bb-67dc-4429-9f2d-a64e43781399",
   "metadata": {
    "execution": {
     "iopub.execute_input": "2022-11-16T18:54:26.590033Z",
     "iopub.status.busy": "2022-11-16T18:54:26.589830Z",
     "iopub.status.idle": "2022-11-16T18:54:26.624177Z",
     "shell.execute_reply": "2022-11-16T18:54:26.623521Z",
     "shell.execute_reply.started": "2022-11-16T18:54:26.590014Z"
    },
    "tags": []
   },
   "outputs": [],
   "source": [
    "model[\"encoder\"]"
   ]
  },
  {
   "cell_type": "code",
   "execution_count": null,
   "id": "14fc323f-a632-4183-be34-cf2f699f75f3",
   "metadata": {
    "execution": {
     "iopub.execute_input": "2022-11-16T18:54:26.625051Z",
     "iopub.status.busy": "2022-11-16T18:54:26.624859Z",
     "iopub.status.idle": "2022-11-16T18:54:26.654554Z",
     "shell.execute_reply": "2022-11-16T18:54:26.654007Z",
     "shell.execute_reply.started": "2022-11-16T18:54:26.625035Z"
    },
    "tags": []
   },
   "outputs": [],
   "source": [
    "model[\"hyperparameters\"]"
   ]
  }
 ],
 "metadata": {
  "kernelspec": {
   "display_name": "Python 3 (ipykernel)",
   "language": "python",
   "name": "python3"
  },
  "language_info": {
   "codemirror_mode": {
    "name": "ipython",
    "version": 3
   },
   "file_extension": ".py",
   "mimetype": "text/x-python",
   "name": "python",
   "nbconvert_exporter": "python",
   "pygments_lexer": "ipython3",
   "version": "3.10.6"
  }
 },
 "nbformat": 4,
 "nbformat_minor": 5
}
