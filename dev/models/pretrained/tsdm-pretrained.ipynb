{
 "cells": [
  {
   "cell_type": "code",
   "execution_count": null,
   "id": "20191951-beec-414a-b3c6-89dca8277ad2",
   "metadata": {
    "execution": {
     "iopub.execute_input": "2022-11-24T14:46:44.771602Z",
     "iopub.status.busy": "2022-11-24T14:46:44.771098Z",
     "iopub.status.idle": "2022-11-24T14:46:45.709954Z",
     "shell.execute_reply": "2022-11-24T14:46:45.709537Z",
     "shell.execute_reply.started": "2022-11-24T14:46:44.771537Z"
    },
    "tags": []
   },
   "outputs": [],
   "source": [
    "%config InteractiveShell.ast_node_interactivity='last_expr_or_assign'\n",
    "%config InlineBackend.figure_format = 'svg'\n",
    "%load_ext autoreload\n",
    "%autoreload 2\n",
    "%matplotlib inline\n",
    "\n",
    "\n",
    "from torchinfo import summary"
   ]
  },
  {
   "cell_type": "code",
   "execution_count": null,
   "id": "58b7f6d7",
   "metadata": {
    "execution": {
     "iopub.execute_input": "2022-11-24T14:46:45.710881Z",
     "iopub.status.busy": "2022-11-24T14:46:45.710716Z",
     "iopub.status.idle": "2022-11-24T14:46:46.446889Z",
     "shell.execute_reply": "2022-11-24T14:46:46.446411Z",
     "shell.execute_reply.started": "2022-11-24T14:46:45.710869Z"
    },
    "tags": []
   },
   "outputs": [],
   "source": [
    "from tsdm.models.pretrained import LinODEnet\n",
    "\n",
    "pretrained = LinODEnet.from_zipfile(\n",
    "    \"2022-11-16-linodenet-e4f9e3bd1e93ff868a0c400dee58d5e9.zip\"\n",
    ")"
   ]
  },
  {
   "cell_type": "code",
   "execution_count": null,
   "id": "6682eb15-44aa-4214-8572-083417eb94a5",
   "metadata": {
    "execution": {
     "iopub.execute_input": "2022-11-24T14:46:46.447693Z",
     "iopub.status.busy": "2022-11-24T14:46:46.447457Z",
     "iopub.status.idle": "2022-11-24T14:46:46.465848Z",
     "shell.execute_reply": "2022-11-24T14:46:46.465448Z",
     "shell.execute_reply.started": "2022-11-24T14:46:46.447681Z"
    },
    "tags": []
   },
   "outputs": [],
   "source": [
    "from pathlib import Path"
   ]
  },
  {
   "cell_type": "code",
   "execution_count": null,
   "id": "0ab2e0cb-f329-4c9b-be2b-1e1cd3162b2a",
   "metadata": {
    "execution": {
     "iopub.execute_input": "2022-11-24T14:46:46.466810Z",
     "iopub.status.busy": "2022-11-24T14:46:46.466689Z",
     "iopub.status.idle": "2022-11-24T14:46:46.485585Z",
     "shell.execute_reply": "2022-11-24T14:46:46.485069Z",
     "shell.execute_reply.started": "2022-11-24T14:46:46.466800Z"
    },
    "tags": []
   },
   "outputs": [],
   "source": [
    "pretrained.rawdata_path"
   ]
  },
  {
   "cell_type": "code",
   "execution_count": null,
   "id": "a17d935f-070e-4da1-af50-b08bd85fa456",
   "metadata": {
    "execution": {
     "iopub.execute_input": "2022-11-24T14:46:46.486302Z",
     "iopub.status.busy": "2022-11-24T14:46:46.486135Z",
     "iopub.status.idle": "2022-11-24T14:46:46.506012Z",
     "shell.execute_reply": "2022-11-24T14:46:46.505445Z",
     "shell.execute_reply.started": "2022-11-24T14:46:46.486290Z"
    },
    "tags": []
   },
   "outputs": [],
   "source": [
    "pretrained.rawdata_path.is_relative_to(Path.cwd())"
   ]
  },
  {
   "cell_type": "code",
   "execution_count": null,
   "id": "313ff781-6324-4d12-9003-944d163b968c",
   "metadata": {
    "execution": {
     "iopub.execute_input": "2022-11-24T14:46:46.552239Z",
     "iopub.status.busy": "2022-11-24T14:46:46.552123Z",
     "iopub.status.idle": "2022-11-24T14:46:46.572173Z",
     "shell.execute_reply": "2022-11-24T14:46:46.571671Z",
     "shell.execute_reply.started": "2022-11-24T14:46:46.552229Z"
    },
    "tags": []
   },
   "outputs": [],
   "source": [
    "pretrained = LinODEnet()"
   ]
  },
  {
   "cell_type": "markdown",
   "id": "4dc23284-7aa7-4eaf-a390-f0b3094b83f1",
   "metadata": {
    "tags": []
   },
   "source": [
    "# Load the Model"
   ]
  },
  {
   "cell_type": "code",
   "execution_count": null,
   "id": "d695b42b",
   "metadata": {
    "execution": {
     "iopub.execute_input": "2022-11-24T11:34:56.837680Z",
     "iopub.status.busy": "2022-11-24T11:34:56.837222Z",
     "iopub.status.idle": "2022-11-24T11:34:57.792165Z",
     "shell.execute_reply": "2022-11-24T11:34:57.791740Z",
     "shell.execute_reply.started": "2022-11-24T11:34:56.837658Z"
    },
    "tags": []
   },
   "outputs": [],
   "source": [
    "model = pretrained[\"model\"]\n",
    "summary(model, depth=2)"
   ]
  },
  {
   "cell_type": "markdown",
   "id": "f5582e16-b07b-4271-a06d-00272e0ac33f",
   "metadata": {},
   "source": [
    "# Load the Encoder"
   ]
  },
  {
   "cell_type": "code",
   "execution_count": null,
   "id": "3394a469-5536-4368-a314-3ec62252a425",
   "metadata": {
    "execution": {
     "iopub.execute_input": "2022-11-24T11:35:07.041638Z",
     "iopub.status.busy": "2022-11-24T11:35:07.041219Z",
     "iopub.status.idle": "2022-11-24T11:35:07.064688Z",
     "shell.execute_reply": "2022-11-24T11:35:07.064150Z",
     "shell.execute_reply.started": "2022-11-24T11:35:07.041627Z"
    },
    "tags": []
   },
   "outputs": [],
   "source": [
    "encoder = pretrained[\"encoder\"]"
   ]
  },
  {
   "cell_type": "markdown",
   "id": "ee48a27c-6d8f-46f3-8171-cbeca80dfafa",
   "metadata": {},
   "source": [
    "# Load the Optimizer"
   ]
  },
  {
   "cell_type": "code",
   "execution_count": null,
   "id": "8936a115-0c8e-4170-97c3-8c182faa692a",
   "metadata": {
    "execution": {
     "iopub.execute_input": "2022-11-24T11:35:07.711417Z",
     "iopub.status.busy": "2022-11-24T11:35:07.711184Z",
     "iopub.status.idle": "2022-11-24T11:35:08.004618Z",
     "shell.execute_reply": "2022-11-24T11:35:08.004215Z",
     "shell.execute_reply.started": "2022-11-24T11:35:07.711405Z"
    },
    "tags": []
   },
   "outputs": [],
   "source": [
    "optimizer = pretrained[\"optimizer\"]"
   ]
  },
  {
   "cell_type": "code",
   "execution_count": null,
   "id": "a29c91a8-d137-46ba-8936-e2f7c594449d",
   "metadata": {
    "execution": {
     "iopub.execute_input": "2022-11-24T11:35:22.406664Z",
     "iopub.status.busy": "2022-11-24T11:35:22.406390Z",
     "iopub.status.idle": "2022-11-24T11:35:22.472943Z",
     "shell.execute_reply": "2022-11-24T11:35:22.472401Z",
     "shell.execute_reply.started": "2022-11-24T11:35:22.406642Z"
    },
    "tags": []
   },
   "outputs": [],
   "source": [
    "import torch\n",
    "\n",
    "torch.save(optimizer, \"optimizer\")"
   ]
  },
  {
   "cell_type": "code",
   "execution_count": null,
   "id": "df07e163-347c-4225-b2e4-1ff6ccd3651d",
   "metadata": {
    "execution": {
     "iopub.execute_input": "2022-11-24T12:17:51.017047Z",
     "iopub.status.busy": "2022-11-24T12:17:51.016819Z",
     "iopub.status.idle": "2022-11-24T12:17:51.046516Z",
     "shell.execute_reply": "2022-11-24T12:17:51.046049Z",
     "shell.execute_reply.started": "2022-11-24T12:17:51.017035Z"
    },
    "tags": []
   },
   "outputs": [],
   "source": [
    "next(model.named_parameters())"
   ]
  },
  {
   "cell_type": "code",
   "execution_count": null,
   "id": "c26a9677-43a7-4e64-8790-0eaf04d7506b",
   "metadata": {
    "execution": {
     "iopub.execute_input": "2022-11-24T16:01:10.239049Z",
     "iopub.status.busy": "2022-11-24T16:01:10.238600Z",
     "iopub.status.idle": "2022-11-24T16:01:10.263845Z",
     "shell.execute_reply": "2022-11-24T16:01:10.263458Z",
     "shell.execute_reply.started": "2022-11-24T16:01:10.239026Z"
    },
    "tags": []
   },
   "outputs": [],
   "source": [
    "from abc import ABCMeta, ABC\n",
    "from inspect import signature"
   ]
  },
  {
   "cell_type": "code",
   "execution_count": null,
   "id": "a04b003f-e8c0-4e39-a045-1e724e1b1f7e",
   "metadata": {
    "execution": {
     "iopub.execute_input": "2022-11-24T15:11:58.684566Z",
     "iopub.status.busy": "2022-11-24T15:11:58.684347Z",
     "iopub.status.idle": "2022-11-24T15:11:58.711095Z",
     "shell.execute_reply": "2022-11-24T15:11:58.710713Z",
     "shell.execute_reply.started": "2022-11-24T15:11:58.684551Z"
    },
    "tags": []
   },
   "outputs": [],
   "source": [
    "signature(type.__new__)"
   ]
  },
  {
   "cell_type": "code",
   "execution_count": null,
   "id": "a1fce103-c767-43e6-9283-cf36ef6978ac",
   "metadata": {
    "execution": {
     "iopub.execute_input": "2022-11-24T15:10:42.067222Z",
     "iopub.status.busy": "2022-11-24T15:10:42.066528Z",
     "iopub.status.idle": "2022-11-24T15:10:42.099111Z",
     "shell.execute_reply": "2022-11-24T15:10:42.098410Z",
     "shell.execute_reply.started": "2022-11-24T15:10:42.067200Z"
    },
    "tags": []
   },
   "outputs": [],
   "source": [
    "signature(ABCMeta.__new__)"
   ]
  },
  {
   "cell_type": "code",
   "execution_count": null,
   "id": "53a12806-591a-4d42-9e93-ef1e5437117f",
   "metadata": {
    "execution": {
     "iopub.execute_input": "2022-11-24T15:40:55.546913Z",
     "iopub.status.busy": "2022-11-24T15:40:55.546521Z",
     "iopub.status.idle": "2022-11-24T15:40:55.578214Z",
     "shell.execute_reply": "2022-11-24T15:40:55.577875Z",
     "shell.execute_reply.started": "2022-11-24T15:40:55.546888Z"
    },
    "tags": []
   },
   "outputs": [],
   "source": [
    "from abc import ABC, abstractmethod\n",
    "\n",
    "\n",
    "class MyClass(ABC, metaclass=type):\n",
    "    @abstractmethod\n",
    "    def foo(self):\n",
    "        ...\n",
    "\n",
    "\n",
    "class Bar(MyClass):\n",
    "    def foo(self):\n",
    "        return 1"
   ]
  },
  {
   "cell_type": "code",
   "execution_count": null,
   "id": "7f04df12-741f-446b-930a-cb33929bdc4f",
   "metadata": {
    "execution": {
     "iopub.execute_input": "2022-11-24T15:40:59.820067Z",
     "iopub.status.busy": "2022-11-24T15:40:59.819702Z",
     "iopub.status.idle": "2022-11-24T15:40:59.920471Z",
     "shell.execute_reply": "2022-11-24T15:40:59.919865Z",
     "shell.execute_reply.started": "2022-11-24T15:40:59.820054Z"
    },
    "tags": []
   },
   "outputs": [],
   "source": [
    "MyClass()"
   ]
  },
  {
   "cell_type": "code",
   "execution_count": null,
   "id": "a2b7255d-75d3-430a-99a1-65b015f09925",
   "metadata": {},
   "outputs": [],
   "source": []
  }
 ],
 "metadata": {
  "kernelspec": {
   "display_name": "Python 3 (ipykernel)",
   "language": "python",
   "name": "python3"
  },
  "language_info": {
   "codemirror_mode": {
    "name": "ipython",
    "version": 3
   },
   "file_extension": ".py",
   "mimetype": "text/x-python",
   "name": "python",
   "nbconvert_exporter": "python",
   "pygments_lexer": "ipython3",
   "version": "3.10.8"
  }
 },
 "nbformat": 4,
 "nbformat_minor": 5
}
