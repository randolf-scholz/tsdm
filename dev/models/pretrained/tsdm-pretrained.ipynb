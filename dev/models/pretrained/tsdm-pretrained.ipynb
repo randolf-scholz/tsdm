{
 "cells": [
  {
   "cell_type": "code",
   "execution_count": null,
   "id": "20191951-beec-414a-b3c6-89dca8277ad2",
   "metadata": {
    "tags": []
   },
   "source": [
    "%config InteractiveShell.ast_node_interactivity='last_expr_or_assign'\n",
    "%config InlineBackend.figure_format = 'svg'\n",
    "%load_ext autoreload\n",
    "%autoreload 2\n",
    "%matplotlib inline\n",
    "\n",
    "\n",
    "from pathlib import Path\n",
    "\n",
    "from torchinfo import summary"
   ],
   "outputs": []
  },
  {
   "cell_type": "code",
   "execution_count": null,
   "id": "58b7f6d7",
   "metadata": {
    "tags": []
   },
   "source": [
    "from tsdm.models.pretrained import LinODEnet\n",
    "\n",
    "pretrained = LinODEnet.from_path(\n",
    "    \"2022-11-16-linodenet-152669f30f5e5325bf916b154262eed5.zip\"\n",
    ")"
   ],
   "outputs": []
  },
  {
   "cell_type": "code",
   "execution_count": null,
   "id": "0ab2e0cb-f329-4c9b-be2b-1e1cd3162b2a",
   "metadata": {
    "tags": []
   },
   "source": [
    "pretrained.rawdata_path"
   ],
   "outputs": []
  },
  {
   "cell_type": "code",
   "execution_count": null,
   "id": "a17d935f-070e-4da1-af50-b08bd85fa456",
   "metadata": {
    "tags": []
   },
   "source": [
    "pretrained.rawdata_path.is_relative_to(Path.cwd())"
   ],
   "outputs": []
  },
  {
   "cell_type": "markdown",
   "id": "4dc23284-7aa7-4eaf-a390-f0b3094b83f1",
   "metadata": {
    "tags": []
   },
   "source": [
    "# Load the Model"
   ]
  },
  {
   "cell_type": "code",
   "execution_count": null,
   "id": "d695b42b",
   "metadata": {
    "tags": []
   },
   "source": [
    "model = pretrained.components[\"LinODEnet\"]\n",
    "summary(model, depth=2)"
   ],
   "outputs": []
  },
  {
   "cell_type": "markdown",
   "id": "f5582e16-b07b-4271-a06d-00272e0ac33f",
   "metadata": {},
   "source": [
    "# Load the Encoder"
   ]
  },
  {
   "cell_type": "code",
   "execution_count": null,
   "id": "3394a469-5536-4368-a314-3ec62252a425",
   "metadata": {
    "tags": []
   },
   "source": [
    "encoder = pretrained.components[\"encoder\"]"
   ],
   "outputs": []
  },
  {
   "cell_type": "markdown",
   "id": "ee48a27c-6d8f-46f3-8171-cbeca80dfafa",
   "metadata": {},
   "source": [
    "# Load the Optimizer"
   ]
  },
  {
   "cell_type": "code",
   "execution_count": null,
   "id": "8936a115-0c8e-4170-97c3-8c182faa692a",
   "metadata": {
    "tags": []
   },
   "source": [
    "optimizer = pretrained.components[\"optimizer\"]"
   ],
   "outputs": []
  },
  {
   "cell_type": "code",
   "execution_count": null,
   "id": "a29c91a8-d137-46ba-8936-e2f7c594449d",
   "metadata": {
    "tags": []
   },
   "source": [
    "import torch\n",
    "\n",
    "torch.save(optimizer, \"optimizer\")"
   ],
   "outputs": []
  },
  {
   "cell_type": "code",
   "execution_count": null,
   "id": "df07e163-347c-4225-b2e4-1ff6ccd3651d",
   "metadata": {
    "tags": []
   },
   "source": [
    "next(model.named_parameters())"
   ],
   "outputs": []
  },
  {
   "cell_type": "code",
   "execution_count": null,
   "id": "c26a9677-43a7-4e64-8790-0eaf04d7506b",
   "metadata": {
    "tags": []
   },
   "source": [
    "from abc import ABC, ABCMeta\n",
    "from inspect import signature"
   ],
   "outputs": []
  },
  {
   "cell_type": "code",
   "execution_count": null,
   "id": "a04b003f-e8c0-4e39-a045-1e724e1b1f7e",
   "metadata": {
    "tags": []
   },
   "source": [
    "signature(type.__new__)"
   ],
   "outputs": []
  },
  {
   "cell_type": "code",
   "execution_count": null,
   "id": "a1fce103-c767-43e6-9283-cf36ef6978ac",
   "metadata": {
    "tags": []
   },
   "source": [
    "signature(ABCMeta.__new__)"
   ],
   "outputs": []
  },
  {
   "cell_type": "code",
   "execution_count": null,
   "id": "53a12806-591a-4d42-9e93-ef1e5437117f",
   "metadata": {
    "tags": []
   },
   "source": [
    "from abc import ABC, abstractmethod\n",
    "\n",
    "\n",
    "class MyClass(ABC, metaclass=type):\n",
    "    @abstractmethod\n",
    "    def foo(self): ...\n",
    "\n",
    "\n",
    "class Bar(MyClass):\n",
    "    def foo(self):\n",
    "        return 1"
   ],
   "outputs": []
  },
  {
   "cell_type": "code",
   "execution_count": null,
   "id": "7f04df12-741f-446b-930a-cb33929bdc4f",
   "metadata": {
    "tags": []
   },
   "source": [
    "MyClass()"
   ],
   "outputs": []
  },
  {
   "cell_type": "code",
   "execution_count": null,
   "id": "a2b7255d-75d3-430a-99a1-65b015f09925",
   "metadata": {},
   "source": [],
   "outputs": []
  }
 ],
 "metadata": {
  "kernelspec": {
   "display_name": "Python 3 (ipykernel)",
   "language": "python",
   "name": "python3"
  },
  "language_info": {
   "codemirror_mode": {
    "name": "ipython",
    "version": 3
   },
   "file_extension": ".py",
   "mimetype": "text/x-python",
   "name": "python",
   "nbconvert_exporter": "python",
   "pygments_lexer": "ipython3",
   "version": "3.10.8"
  }
 },
 "nbformat": 4,
 "nbformat_minor": 5
}
