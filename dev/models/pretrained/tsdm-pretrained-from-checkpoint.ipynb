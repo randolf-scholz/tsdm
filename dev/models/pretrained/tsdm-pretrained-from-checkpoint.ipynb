{
 "cells": [
  {
   "cell_type": "code",
   "execution_count": null,
   "id": "20191951-beec-414a-b3c6-89dca8277ad2",
   "metadata": {
    "tags": []
   },
   "outputs": [],
   "source": [
    "%config InteractiveShell.ast_node_interactivity='last_expr_or_assign'\n",
    "%config InlineBackend.figure_format = 'svg'\n",
    "%load_ext autoreload\n",
    "%autoreload 2\n",
    "%matplotlib inline"
   ]
  },
  {
   "cell_type": "code",
   "execution_count": null,
   "id": "aa819155-f3b9-486a-8a9e-66d2e5ff87f7",
   "metadata": {
    "tags": []
   },
   "outputs": [],
   "source": [
    "from tsdm.models.pretrained import LinODEnet"
   ]
  },
  {
   "cell_type": "code",
   "execution_count": null,
   "id": "864b7008-97c0-481f-8d0e-c51d1e79914a",
   "metadata": {
    "tags": []
   },
   "outputs": [],
   "source": [
    "LinODEnet.available_checkpoints()"
   ]
  },
  {
   "cell_type": "code",
   "execution_count": null,
   "id": "456c5980-f23b-47db-99f8-27727920c86c",
   "metadata": {
    "tags": []
   },
   "outputs": [],
   "source": [
    "pretrained = LinODEnet.from_remote_checkpoint(\"2022-12-01/270\")\n",
    "# pretrained = LinODEnet.from_remote_checkpoint(\"2022-11-24-linodenet-a44fc91eab7a98130266d1c37f072eb5.zip\")\n",
    "# pretrained = LinODEnet.from_remote_checkpoint(\"2022-11-16-linodenet-e4f9e3bd1e93ff868a0c400dee58d5e9.zip\")"
   ]
  },
  {
   "cell_type": "code",
   "execution_count": null,
   "id": "c9ce8517-83ba-4d86-b728-64ba3fd5b951",
   "metadata": {
    "tags": []
   },
   "outputs": [],
   "source": [
    "pretrained.components"
   ]
  },
  {
   "cell_type": "code",
   "execution_count": null,
   "id": "8d67d5e9-86b9-4f72-bfc5-6202e7a351b8",
   "metadata": {},
   "outputs": [],
   "source": [
    "pretrained.components[\"encoder\"]"
   ]
  },
  {
   "cell_type": "code",
   "execution_count": null,
   "id": "bf8da2f2-919b-4820-9bde-dd217dcc863a",
   "metadata": {
    "tags": []
   },
   "outputs": [],
   "source": [
    "pretrained.components[\"hparams\"]"
   ]
  },
  {
   "cell_type": "code",
   "execution_count": null,
   "id": "60cb56f3-890a-46e9-b37c-2c6dbb413794",
   "metadata": {},
   "outputs": [],
   "source": [
    "pretrained.components[\"hparams\"]"
   ]
  },
  {
   "cell_type": "code",
   "execution_count": null,
   "id": "f575507a-ae44-481c-8ff0-d8bf20d26e44",
   "metadata": {
    "tags": []
   },
   "outputs": [],
   "source": [
    "pretrained.components[\"LinODEnet\"]"
   ]
  },
  {
   "cell_type": "code",
   "execution_count": null,
   "id": "67a6e044-d2de-45ed-85de-66fc06874ce5",
   "metadata": {},
   "outputs": [],
   "source": []
  }
 ],
 "metadata": {
  "kernelspec": {
   "display_name": "Python 3 (ipykernel)",
   "language": "python",
   "name": "python3"
  },
  "language_info": {
   "codemirror_mode": {
    "name": "ipython",
    "version": 3
   },
   "file_extension": ".py",
   "mimetype": "text/x-python",
   "name": "python",
   "nbconvert_exporter": "python",
   "pygments_lexer": "ipython3",
   "version": "3.10.8"
  }
 },
 "nbformat": 4,
 "nbformat_minor": 5
}
