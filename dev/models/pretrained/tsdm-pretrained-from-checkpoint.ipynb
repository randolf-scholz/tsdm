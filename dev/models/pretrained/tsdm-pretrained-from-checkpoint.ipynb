{
 "cells": [
  {
   "cell_type": "code",
   "execution_count": null,
   "id": "20191951-beec-414a-b3c6-89dca8277ad2",
   "metadata": {},
   "outputs": [],
   "source": [
    "%config InteractiveShell.ast_node_interactivity='last_expr_or_assign'\n",
    "%config InlineBackend.figure_format = 'svg'\n",
    "%load_ext autoreload\n",
    "%autoreload 2\n",
    "%matplotlib inline"
   ]
  },
  {
   "cell_type": "code",
   "execution_count": null,
   "id": "58b7f6d7",
   "metadata": {
    "execution": {
     "iopub.execute_input": "2023-01-19T13:00:16.585608Z",
     "iopub.status.busy": "2023-01-19T13:00:16.585430Z",
     "iopub.status.idle": "2023-01-19T13:00:16.588538Z",
     "shell.execute_reply": "2023-01-19T13:00:16.588146Z",
     "shell.execute_reply.started": "2023-01-19T13:00:16.585596Z"
    },
    "tags": []
   },
   "outputs": [],
   "source": [
    "class A:\n",
    "    a: int = 2\n",
    "\n",
    "    def __new__(cls):\n",
    "        obj = super().__new__(cls)\n",
    "        obj.a = 3\n",
    "        return obj"
   ]
  },
  {
   "cell_type": "code",
   "execution_count": null,
   "id": "d695b42b",
   "metadata": {
    "execution": {
     "iopub.execute_input": "2023-01-19T13:00:17.509448Z",
     "iopub.status.busy": "2023-01-19T13:00:17.509249Z",
     "iopub.status.idle": "2023-01-19T13:00:17.512332Z",
     "shell.execute_reply": "2023-01-19T13:00:17.512052Z",
     "shell.execute_reply.started": "2023-01-19T13:00:17.509436Z"
    },
    "tags": []
   },
   "outputs": [],
   "source": [
    "A().a"
   ]
  },
  {
   "cell_type": "code",
   "execution_count": null,
   "id": "d2f74061-d0fb-4654-9dd1-fd5aef498b55",
   "metadata": {
    "tags": []
   },
   "outputs": [],
   "source": []
  },
  {
   "cell_type": "code",
   "execution_count": null,
   "id": "f544027d-290d-42e4-8d6b-f49e2184658f",
   "metadata": {
    "execution": {
     "iopub.execute_input": "2023-01-19T15:06:45.868326Z",
     "iopub.status.busy": "2023-01-19T15:06:45.867976Z",
     "iopub.status.idle": "2023-01-19T15:06:45.872862Z",
     "shell.execute_reply": "2023-01-19T15:06:45.872505Z",
     "shell.execute_reply.started": "2023-01-19T15:06:45.868307Z"
    },
    "tags": []
   },
   "outputs": [],
   "source": [
    "x = {\"apple\", \"banana\", \"cherry\"}\n",
    "y = {\"google\", \"microsoft\", \"apple\"}\n",
    "\n",
    "x.intersection(k for k in y)"
   ]
  },
  {
   "cell_type": "code",
   "execution_count": null,
   "id": "b79dce9c-7f51-4f8c-a9dc-9f032e4e0ecf",
   "metadata": {},
   "outputs": [],
   "source": []
  }
 ],
 "metadata": {
  "kernelspec": {
   "display_name": "Python 3 (ipykernel)",
   "language": "python",
   "name": "python3"
  },
  "language_info": {
   "codemirror_mode": {
    "name": "ipython",
    "version": 3
   },
   "file_extension": ".py",
   "mimetype": "text/x-python",
   "name": "python",
   "nbconvert_exporter": "python",
   "pygments_lexer": "ipython3",
   "version": "3.10.8"
  }
 },
 "nbformat": 4,
 "nbformat_minor": 5
}
