{
 "cells": [
  {
   "cell_type": "code",
   "execution_count": null,
   "id": "20191951-beec-414a-b3c6-89dca8277ad2",
   "metadata": {
    "execution": {
     "iopub.execute_input": "2023-01-23T01:34:01.617575Z",
     "iopub.status.busy": "2023-01-23T01:34:01.617295Z",
     "iopub.status.idle": "2023-01-23T01:34:01.909950Z",
     "shell.execute_reply": "2023-01-23T01:34:01.909570Z",
     "shell.execute_reply.started": "2023-01-23T01:34:01.617557Z"
    }
   },
   "outputs": [],
   "source": [
    "%config InteractiveShell.ast_node_interactivity='last_expr_or_assign'\n",
    "%config InlineBackend.figure_format = 'svg'\n",
    "%load_ext autoreload\n",
    "%autoreload 2\n",
    "%matplotlib inline"
   ]
  },
  {
   "cell_type": "code",
   "execution_count": null,
   "id": "aa819155-f3b9-486a-8a9e-66d2e5ff87f7",
   "metadata": {
    "execution": {
     "iopub.execute_input": "2023-01-23T01:34:01.911062Z",
     "iopub.status.busy": "2023-01-23T01:34:01.910834Z",
     "iopub.status.idle": "2023-01-23T01:34:03.234867Z",
     "shell.execute_reply": "2023-01-23T01:34:03.234423Z",
     "shell.execute_reply.started": "2023-01-23T01:34:01.911046Z"
    },
    "tags": []
   },
   "outputs": [],
   "source": [
    "from tsdm.models.pretrained import LinODEnet"
   ]
  },
  {
   "cell_type": "code",
   "execution_count": null,
   "id": "864b7008-97c0-481f-8d0e-c51d1e79914a",
   "metadata": {
    "execution": {
     "iopub.execute_input": "2023-01-23T01:34:03.235640Z",
     "iopub.status.busy": "2023-01-23T01:34:03.235410Z",
     "iopub.status.idle": "2023-01-23T01:34:03.801815Z",
     "shell.execute_reply": "2023-01-23T01:34:03.801143Z",
     "shell.execute_reply.started": "2023-01-23T01:34:03.235627Z"
    },
    "tags": []
   },
   "outputs": [],
   "source": [
    "LinODEnet.available_checkpoints()"
   ]
  },
  {
   "cell_type": "code",
   "execution_count": null,
   "id": "456c5980-f23b-47db-99f8-27727920c86c",
   "metadata": {
    "execution": {
     "iopub.execute_input": "2023-01-23T01:34:03.802537Z",
     "iopub.status.busy": "2023-01-23T01:34:03.802423Z",
     "iopub.status.idle": "2023-01-23T01:34:03.825132Z",
     "shell.execute_reply": "2023-01-23T01:34:03.824675Z",
     "shell.execute_reply.started": "2023-01-23T01:34:03.802526Z"
    },
    "tags": []
   },
   "outputs": [],
   "source": [
    "pretrained = LinODEnet.from_remote_checkpoint(\"2022-12-01/270\")"
   ]
  },
  {
   "cell_type": "code",
   "execution_count": null,
   "id": "c9ce8517-83ba-4d86-b728-64ba3fd5b951",
   "metadata": {
    "execution": {
     "iopub.execute_input": "2023-01-23T01:34:03.825749Z",
     "iopub.status.busy": "2023-01-23T01:34:03.825637Z",
     "iopub.status.idle": "2023-01-23T01:34:03.846614Z",
     "shell.execute_reply": "2023-01-23T01:34:03.846035Z",
     "shell.execute_reply.started": "2023-01-23T01:34:03.825738Z"
    }
   },
   "outputs": [],
   "source": [
    "pretrained.components"
   ]
  },
  {
   "cell_type": "code",
   "execution_count": null,
   "id": "bf8da2f2-919b-4820-9bde-dd217dcc863a",
   "metadata": {
    "execution": {
     "iopub.execute_input": "2023-01-23T01:34:14.583550Z",
     "iopub.status.busy": "2023-01-23T01:34:14.583087Z",
     "iopub.status.idle": "2023-01-23T01:34:14.604964Z",
     "shell.execute_reply": "2023-01-23T01:34:14.604588Z",
     "shell.execute_reply.started": "2023-01-23T01:34:14.583536Z"
    }
   },
   "outputs": [],
   "source": [
    "pretrained.components[\"hparams\"]"
   ]
  },
  {
   "cell_type": "code",
   "execution_count": null,
   "id": "60cb56f3-890a-46e9-b37c-2c6dbb413794",
   "metadata": {},
   "outputs": [],
   "source": [
    "pretrained.components[\"hparams\"]"
   ]
  }
 ],
 "metadata": {
  "kernelspec": {
   "display_name": "Python 3 (ipykernel)",
   "language": "python",
   "name": "python3"
  },
  "language_info": {
   "codemirror_mode": {
    "name": "ipython",
    "version": 3
   },
   "file_extension": ".py",
   "mimetype": "text/x-python",
   "name": "python",
   "nbconvert_exporter": "python",
   "pygments_lexer": "ipython3",
   "version": "3.10.8"
  }
 },
 "nbformat": 4,
 "nbformat_minor": 5
}
