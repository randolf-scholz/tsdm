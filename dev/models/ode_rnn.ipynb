{
 "cells": [
  {
   "cell_type": "code",
   "execution_count": null,
   "id": "8f629588-3317-4c88-94d2-8c2a081266a4",
   "metadata": {},
   "outputs": [],
   "source": [
    "import tsdm"
   ]
  },
  {
   "cell_type": "code",
   "execution_count": null,
   "id": "f3ce168d-768f-4c47-94a4-d100163dd8c6",
   "metadata": {},
   "outputs": [],
   "source": [
    "tsdm.load_model(\"ODE-RNN\")"
   ]
  },
  {
   "cell_type": "code",
   "execution_count": null,
   "id": "d8ebe379-e4e2-4adb-ba78-3ce12d92cda5",
   "metadata": {},
   "outputs": [],
   "source": [
    "from tsdm.datasets import Electricity\n",
    "\n",
    "x = Electricity.dataset\n",
    "n_data, n_dim = x.shape"
   ]
  },
  {
   "cell_type": "code",
   "execution_count": null,
   "id": "6dacfc22-daaf-45e6-8b93-99a1f435a806",
   "metadata": {},
   "outputs": [],
   "source": [
    "import importlib\n",
    "import sys\n",
    "from contextlib import contextmanager\n",
    "from pathlib import Path\n",
    "from types import ModuleType\n",
    "\n",
    "\n",
    "@contextmanager\n",
    "def add_to_path(p: Path) -> None:\n",
    "    \"\"\"Source: https://stackoverflow.com/a/41904558/9318372\"\"\"\n",
    "    old_path = sys.path\n",
    "    sys.path = sys.path[:]\n",
    "    sys.path.insert(0, str(p))\n",
    "    try:\n",
    "        yield\n",
    "    finally:\n",
    "        sys.path = old_path\n",
    "\n",
    "\n",
    "def path_import(module_path: Path, module_name: str = None) -> ModuleType:\n",
    "    \"\"\"\n",
    "    implementation taken from https://docs.python.org/3/library/importlib.html#importing-a-source-file-directly\n",
    "    Source: https://stackoverflow.com/a/41904558/9318372\n",
    "\n",
    "    Parameters\n",
    "    ----------\n",
    "    module_path: Path\n",
    "        Path to the folder where the module is located\n",
    "    module_name: str, optional\n",
    "\n",
    "    Returns\n",
    "    -------\n",
    "    \"\"\"\n",
    "\n",
    "    module_name = module_name or module_path.parts[-1]\n",
    "    module_init = module_path.joinpath(\"__init__.py\")\n",
    "    assert module_init.exists(), f\"Module {module_path} has no __init__ file !!!\"\n",
    "\n",
    "    with add_to_path(module_path):\n",
    "        spec = importlib.util.spec_from_file_location(module_name, str(module_init))\n",
    "        module = importlib.util.module_from_spec(spec)\n",
    "        spec.loader.exec_module(module)\n",
    "        return module"
   ]
  },
  {
   "cell_type": "code",
   "execution_count": null,
   "id": "97865dc3-9391-41a3-8afc-7627b687e736",
   "metadata": {},
   "outputs": [],
   "source": [
    "module = path_import(Path(\"/home/rscholz/.tsdm/models/ODE-RNN\"))\n",
    "\n",
    "create_net = module.lib.utils.create_net\n",
    "ODEFunc = module.lib.ode_func.ODEFunc\n",
    "DiffeqSolver = module.lib.diffeq_solver.DiffeqSolver\n",
    "ODE_RNN = module.lib.ode_rnn.ODE_RNN"
   ]
  },
  {
   "cell_type": "code",
   "execution_count": null,
   "id": "fff7e920-5509-4ade-bae9-ee9de83c6eab",
   "metadata": {},
   "outputs": [],
   "source": []
  },
  {
   "cell_type": "code",
   "execution_count": null,
   "id": "4d5421a8-8c26-4dac-a3df-8021a3028219",
   "metadata": {},
   "outputs": [],
   "source": [
    "import torch\n",
    "from torch import nn, optim"
   ]
  },
  {
   "cell_type": "code",
   "execution_count": null,
   "id": "aa148b47-f143-4b9d-982f-d51f51d85248",
   "metadata": {},
   "outputs": [],
   "source": [
    "HP = {\n",
    "    # Size of the latent state\n",
    "    \"n_ode_gru_dims\": 6,\n",
    "    # Number of layers in ODE func in recognition ODE\n",
    "    \"n_layers\": 1,\n",
    "    # Number of units per layer in ODE func\n",
    "    \"n_units\": 100,\n",
    "    # nonlinearity used\n",
    "    \"nonlinear\": nn.Tanh,\n",
    "    #\n",
    "    \"concat_mask\": True,\n",
    "    # dimensionality of input\n",
    "    \"input_dim\": n_dim,\n",
    "    # device: 'cpu' or 'cuda'\n",
    "    \"device\": torch.device(\"cpu\"),\n",
    "    # Number of units per layer in each of GRU update networks\n",
    "    \"n_gru_units\": 100,\n",
    "    # measurement error\n",
    "    \"obsrv_std\": 0.01,\n",
    "    #\n",
    "    \"use_binary_classif\": False,\n",
    "    #\n",
    "    \"train_classif_w_reconstr\": False,\n",
    "    #\n",
    "    \"classif_per_tp\": False,\n",
    "    # number of outputs\n",
    "    \"n_labels\": 1,\n",
    "    # relative tolerance of ODE solver\n",
    "    \"odeint_rtol\": 1e-3,\n",
    "    # absolute tolereance of ODE solver\n",
    "    \"odeint_atol\": 1e-4,\n",
    "    # batch_size\n",
    "    \"batch-size\": 50,\n",
    "    # learn-rate\n",
    "    \"lr\": 1e-2,\n",
    "}"
   ]
  },
  {
   "cell_type": "code",
   "execution_count": null,
   "id": "b5de11a0-5358-41aa-ac1a-a6e24bd81ec7",
   "metadata": {},
   "outputs": [],
   "source": [
    "ode_func_net = create_net(\n",
    "    HP[\"n_ode_gru_dims\"],\n",
    "    HP[\"n_ode_gru_dims\"],\n",
    "    n_layers=HP[\"n_layers\"],\n",
    "    n_units=HP[\"n_units\"],\n",
    "    nonlinear=HP[\"nonlinear\"],\n",
    ")"
   ]
  },
  {
   "cell_type": "code",
   "execution_count": null,
   "id": "905cfcd3-8091-4777-af7a-44224b5e8732",
   "metadata": {},
   "outputs": [],
   "source": [
    "rec_ode_func = ODEFunc(\n",
    "    ode_func_net=ode_func_net,\n",
    "    input_dim=HP[\"input_dim\"],\n",
    "    latent_dim=HP[\"n_ode_gru_dims\"],\n",
    "    device=HP[\"device\"],\n",
    ").to(HP[\"device\"])"
   ]
  },
  {
   "cell_type": "code",
   "execution_count": null,
   "id": "d8d12cb9-0db2-43d5-ba57-1ebb8f83b5eb",
   "metadata": {},
   "outputs": [],
   "source": [
    "z0_diffeq_solver = DiffeqSolver(\n",
    "    HP[\"input_dim\"],\n",
    "    rec_ode_func,\n",
    "    \"euler\",\n",
    "    HP[\"n_ode_gru_dims\"],\n",
    "    odeint_rtol=HP[\"odeint_rtol\"],\n",
    "    odeint_atol=HP[\"odeint_atol\"],\n",
    "    device=HP[\"device\"],\n",
    ")"
   ]
  },
  {
   "cell_type": "code",
   "execution_count": null,
   "id": "0023199a-7a63-4ca3-b2f1-080cc41b2978",
   "metadata": {},
   "outputs": [],
   "source": [
    "model = ODE_RNN(\n",
    "    HP[\"input_dim\"],\n",
    "    HP[\"n_ode_gru_dims\"],\n",
    "    device=HP[\"device\"],\n",
    "    z0_diffeq_solver=z0_diffeq_solver,\n",
    "    n_gru_units=HP[\"n_gru_units\"],\n",
    "    concat_mask=HP[\"concat_mask\"],\n",
    "    obsrv_std=HP[\"obsrv_std\"],\n",
    "    use_binary_classif=HP[\"use_binary_classif\"],\n",
    "    classif_per_tp=HP[\"classif_per_tp\"],\n",
    "    n_labels=HP[\"n_labels\"],\n",
    "    train_classif_w_reconstr=HP[\"train_classif_w_reconstr\"],\n",
    ").to(HP[\"device\"])\n",
    "\n",
    "model"
   ]
  },
  {
   "cell_type": "code",
   "execution_count": null,
   "id": "51e91403-22e9-4c8b-ac11-7b4b87dd04af",
   "metadata": {},
   "outputs": [],
   "source": [
    "n_steps = 100\n",
    "\n",
    "relative_time = (x.index[:n_steps] - x.index[0]) / (x.index[1] - x.index[0])\n",
    "T = torch.from_numpy(relative_time.values).float().to(HP[\"device\"])\n",
    "X = torch.from_numpy(x[:n_steps].values).float().to(HP[\"device\"]).unsqueeze(0)\n",
    "\n",
    "batch_dict = {\n",
    "    \"observed_tp\": T,\n",
    "    \"tp_to_predict\": T,\n",
    "    \"mask_predicted_data\": torch.ones_like(X),\n",
    "    \"data_to_predict\": X,\n",
    "    \"observed_data\": X,\n",
    "    \"observed_mask\": torch.ones_like(X),\n",
    "    \"labels\": None,\n",
    "    \"mode\": \"interp\",\n",
    "}"
   ]
  },
  {
   "cell_type": "code",
   "execution_count": null,
   "id": "d6c6aea0-d327-410f-a804-b0f81a37385d",
   "metadata": {},
   "outputs": [],
   "source": [
    "for key, val in batch_dict.items():\n",
    "    if type(val) == torch.Tensor:\n",
    "        print(key, val.shape)\n",
    "    else:\n",
    "        print(key, val)"
   ]
  },
  {
   "cell_type": "code",
   "execution_count": null,
   "id": "2401ece0-cc9b-4c47-8183-27224fa5eb14",
   "metadata": {},
   "outputs": [],
   "source": [
    "pred_y, info = model.get_reconstruction(\n",
    "    batch_dict[\"tp_to_predict\"],\n",
    "    batch_dict[\"observed_data\"],\n",
    "    truth_time_steps=batch_dict[\"observed_tp\"],\n",
    "    mask=batch_dict[\"observed_mask\"],\n",
    "    n_traj_samples=1,\n",
    "    mode=batch_dict[\"mode\"],\n",
    ")\n",
    "info"
   ]
  },
  {
   "cell_type": "code",
   "execution_count": null,
   "id": "4ac10bb2-06fc-4064-9459-e27fc3d20bce",
   "metadata": {},
   "outputs": [],
   "source": [
    "pred_y.shape"
   ]
  },
  {
   "cell_type": "code",
   "execution_count": null,
   "id": "7305a272-4cf6-4159-98a4-a85436cbb41f",
   "metadata": {},
   "outputs": [],
   "source": [
    "info"
   ]
  },
  {
   "cell_type": "code",
   "execution_count": null,
   "id": "f5c27df9-41dd-48fe-9929-aa6c847b47b4",
   "metadata": {},
   "outputs": [],
   "source": [
    "batch_dict[\"tp_to_predict\"]"
   ]
  },
  {
   "cell_type": "code",
   "execution_count": null,
   "id": "65a5dd13-4e5d-4380-b118-1f6a3659b943",
   "metadata": {},
   "outputs": [],
   "source": [
    "batch_dict[\"observed_data\"]"
   ]
  },
  {
   "cell_type": "code",
   "execution_count": null,
   "id": "8426ffeb-151b-463d-99c5-2923b3cce05e",
   "metadata": {},
   "outputs": [],
   "source": [
    "model.compute_all_losses(batch_dict, n_traj_samples=20, kl_coef=0)"
   ]
  },
  {
   "cell_type": "code",
   "execution_count": null,
   "id": "bfb7ccd1-9ad0-461d-92dd-7b504ecc2fbd",
   "metadata": {},
   "outputs": [],
   "source": [
    "from tqdm.auto import trange"
   ]
  },
  {
   "cell_type": "code",
   "execution_count": null,
   "id": "80de9ce7-a0ae-40a3-b8a1-48c754910f58",
   "metadata": {},
   "outputs": [],
   "source": [
    "optimizer = optim.Adamax(model.parameters(), lr=HP[\"lr\"])\n",
    "\n",
    "for n in (pbar := trange(1000)):\n",
    "    optimizer.zero_grad()\n",
    "    train_res = model.compute_all_losses(batch_dict, n_traj_samples=3, kl_coef=0)\n",
    "    pbar.set_postfix({key: float(val) for key, val in train_res.items()})\n",
    "    train_res[\"loss\"].backward()\n",
    "    optimizer.step()"
   ]
  },
  {
   "cell_type": "code",
   "execution_count": null,
   "id": "102712fa-459e-4de2-b69f-8566b5ea978c",
   "metadata": {},
   "outputs": [],
   "source": [
    "train_res"
   ]
  },
  {
   "cell_type": "code",
   "execution_count": null,
   "id": "b4c71224-7082-4ee4-90d5-b4733731dfa8",
   "metadata": {},
   "outputs": [],
   "source": [
    "x.index"
   ]
  },
  {
   "cell_type": "code",
   "execution_count": null,
   "id": "728aec55-8d52-4150-9e05-3916e19f0e3a",
   "metadata": {},
   "outputs": [],
   "source": [
    "tsdm.make_dense_triplets(x)"
   ]
  },
  {
   "cell_type": "code",
   "execution_count": null,
   "id": "5d40bc53-3429-4e74-b7a9-cf3d1d1b4050",
   "metadata": {},
   "outputs": [],
   "source": [
    "from typing import TypedDict\n",
    "\n",
    "\n",
    "class ODE_RNN_HP(TypedDict):\n",
    "    param1: int = 3\n",
    "    param2: str = \"gaga\""
   ]
  },
  {
   "cell_type": "code",
   "execution_count": null,
   "id": "b2039a21-0014-45aa-85ff-18ae90202576",
   "metadata": {},
   "outputs": [],
   "source": [
    "isinstance(ODE_RNN_HP(), dict)"
   ]
  },
  {
   "cell_type": "code",
   "execution_count": null,
   "id": "5cba4082-a89d-468c-9882-f1847b8d171e",
   "metadata": {},
   "outputs": [],
   "source": [
    "ODE_RNN_HP.keys()"
   ]
  },
  {
   "cell_type": "code",
   "execution_count": null,
   "id": "b675a3c0-ca61-4e8d-949b-1e4e26e90ba8",
   "metadata": {},
   "outputs": [],
   "source": []
  }
 ],
 "metadata": {
  "kernelspec": {
   "display_name": "Python 3 (ipykernel)",
   "language": "python",
   "name": "python3"
  },
  "language_info": {
   "codemirror_mode": {
    "name": "ipython",
    "version": 3
   },
   "file_extension": ".py",
   "mimetype": "text/x-python",
   "name": "python",
   "nbconvert_exporter": "python",
   "pygments_lexer": "ipython3",
   "version": "3.9.12"
  }
 },
 "nbformat": 4,
 "nbformat_minor": 5
}
