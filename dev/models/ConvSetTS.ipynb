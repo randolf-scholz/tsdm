{
 "cells": [
  {
   "cell_type": "markdown",
   "metadata": {},
   "source": [
    "# Idea: Combine SetFunTS with convolutional Encoder\n",
    "\n",
    "\n",
    "Inputs: Triplet (time, value, indicator)\n",
    "\n",
    "- Reorganize as {channel: (time, value)}\n",
    "- Group the channels as slow channels and fast channels.\n",
    "- Apply a convolutional model to the fast channels, and reduce to match slow channels.\n",
    "    - Alternative: Variable width convolution\n",
    "- Question: Use 1d convolution? Use 1d convolution with shared params?\n",
    "- Use 2d convolution over time+value? (or time+value+indicator)?\n",
    "- Use 2d conv with shared params or 1 per channel?\n",
    "\n",
    "## Irregular Time Convolution\n",
    "\n",
    "Convolution: $(f*g)(t) = ∫f(τ)g(t-τ)𝖽τ ≈ ∑_{τᵢ∈𝓝(t)}f(τᵢ)g(t-τᵢ)ω(τᵢ)$\n",
    "\n",
    "- Pooling: Once a convolutional layer is set up, we ca pool it at arbitrary intermediate points!\n",
    "    - So where do we actually pool?\n",
    "    - Pool at observation times of slow channels!\n",
    "    - Pool at automatically determined times\n",
    "- Map: $(T⊕ℝ)^* ⟶ (T→ℝᵏ)$\n",
    "\n",
    "\n",
    "## Convolution with missing values\n",
    "\n",
    "Simple: Ignore NaN's (only works with 1d convolutions!)\n",
    "\n",
    "\n",
    "\n"
   ]
  },
  {
   "cell_type": "markdown",
   "metadata": {},
   "source": [
    "## Implementation Idea 1\n",
    "\n",
    "- Use separate 2d convolution over time+value (ignore indicator) for each channel\n",
    "- Use a shared 2d convolution model over time+value for each channel\n",
    "\n",
    "\n",
    "## Implementation Idea 2\n",
    "\n",
    "- Use a convolution over all fast channels simultaneously in triplet form.\n",
    "    - time features, indicator features\n",
    "    - issue: might need large kernel to get all information."
   ]
  },
  {
   "cell_type": "code",
   "execution_count": null,
   "metadata": {},
   "outputs": [],
   "source": [
    "%config InteractiveShell.ast_node_interactivity='last_expr_or_assign'  # always print last expr.\n",
    "%config InlineBackend.figure_format = 'svg'\n",
    "%load_ext autoreload\n",
    "%autoreload 2\n",
    "%matplotlib inline\n",
    "\n",
    "# import logging\n",
    "# logging.basicConfig(level=logging.INFO)"
   ]
  },
  {
   "cell_type": "code",
   "execution_count": null,
   "metadata": {},
   "outputs": [],
   "source": [
    "import numpy as np\n",
    "import pandas as pd\n",
    "\n",
    "np.set_printoptions(precision=4, floatmode=\"fixed\", suppress=True)\n",
    "rng = np.random.default_rng()"
   ]
  },
  {
   "cell_type": "code",
   "execution_count": null,
   "metadata": {},
   "outputs": [],
   "source": [
    "from tsdm.tasks import KIWI_FINAL_PRODUCT\n",
    "\n",
    "task = KIWI_FINAL_PRODUCT()\n",
    "ts = task.timeseries.sort_index(axis=\"index\").sort_index(axis=\"columns\")"
   ]
  },
  {
   "cell_type": "code",
   "execution_count": null,
   "metadata": {},
   "outputs": [],
   "source": [
    "channel_freq = pd.notna(ts).mean().sort_values()\n",
    "fast_channels = channel_freq[channel_freq >= 0.1].index\n",
    "slow_channels = channel_freq[channel_freq < 0.1].index\n",
    "FAST = ts[fast_channels].dropna(how=\"all\")\n",
    "SLOW = ts[slow_channels].dropna(how=\"all\")\n",
    "groups = {\"fast\": fast_channels, \"slow\": slow_channels}"
   ]
  },
  {
   "cell_type": "code",
   "execution_count": null,
   "metadata": {},
   "outputs": [],
   "source": [
    "from tsdm.encoders import *\n",
    "\n",
    "encoder = ChainedEncoder(\n",
    "    TensorEncoder(names=(\"time\", \"value\", \"index\")),\n",
    "    DataFrameEncoder(\n",
    "        column_encoders={\n",
    "            \"value\": IdentityEncoder(),\n",
    "            tuple(ts.columns): FloatEncoder(\"float32\"),\n",
    "        },\n",
    "        index_encoders=MinMaxScaler() @ DateTimeEncoder(unit=\"h\"),\n",
    "    ),\n",
    "    TripletEncoder(sparse=True),\n",
    "    Standardizer(),\n",
    ")"
   ]
  },
  {
   "cell_type": "code",
   "execution_count": null,
   "metadata": {},
   "outputs": [],
   "source": [
    "DataFrameEncoder: DataFrame -> DataFrame"
   ]
  },
  {
   "cell_type": "code",
   "execution_count": null,
   "metadata": {},
   "outputs": [],
   "source": []
  },
  {
   "cell_type": "code",
   "execution_count": null,
   "metadata": {},
   "outputs": [],
   "source": [
    "encoder = ChainedEncoder(\n",
    "    TensorEncoder(names=(\"time\", \"value\", \"index\")),\n",
    "    DataFrameEncoder(\n",
    "        column_encoders={\n",
    "            \"value\": IdentityEncoder(),\n",
    "            tuple(ts.columns): FloatEncoder(\"float32\"),\n",
    "        },\n",
    "        index_encoders=MinMaxScaler() @ DateTimeEncoder(unit=\"h\"),\n",
    "    ),\n",
    "    TripletEncoder() | TripletEncoder(),\n",
    "    DataFrameSplitter(groups),\n",
    "    Standardizer(),\n",
    ")"
   ]
  },
  {
   "cell_type": "code",
   "execution_count": null,
   "metadata": {},
   "outputs": [],
   "source": [
    "new = pd.concat((SLOW, FAST), axis=\"columns\")\n",
    "new = new.sort_index(axis=\"index\").sort_index(axis=\"columns\")"
   ]
  },
  {
   "cell_type": "code",
   "execution_count": null,
   "metadata": {},
   "outputs": [],
   "source": [
    "pd.testing.assert_frame_equal(ts, new)"
   ]
  },
  {
   "cell_type": "code",
   "execution_count": null,
   "metadata": {},
   "outputs": [],
   "source": [
    "encoder = ChainedEncoder(\n",
    "    # TensorEncoder(names=(\"time\", \"value\", \"index\")),\n",
    "    DataFrameEncoder(\n",
    "        column_encoders=IdentityEncoder(),\n",
    "        index_encoders=IdentityEncoder(),\n",
    "    ),\n",
    "    Standardizer(),\n",
    ")"
   ]
  },
  {
   "cell_type": "code",
   "execution_count": null,
   "metadata": {},
   "outputs": [],
   "source": [
    "ts = task.timeseries  # .loc[439, 15325]\n",
    "encoder.fit(ts)\n",
    "encoded = encoder.encode(ts)\n",
    "decoded = encoder.decode(encoded)"
   ]
  },
  {
   "cell_type": "code",
   "execution_count": null,
   "metadata": {},
   "outputs": [],
   "source": []
  }
 ],
 "metadata": {
  "kernelspec": {
   "display_name": "Python 3 (ipykernel)",
   "language": "python",
   "name": "python3"
  },
  "language_info": {
   "codemirror_mode": {
    "name": "ipython",
    "version": 3
   },
   "file_extension": ".py",
   "mimetype": "text/x-python",
   "name": "python",
   "nbconvert_exporter": "python",
   "pygments_lexer": "ipython3",
   "version": "3.9.10"
  }
 },
 "nbformat": 4,
 "nbformat_minor": 4
}
