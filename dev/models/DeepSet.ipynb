{
 "cells": [
  {
   "cell_type": "markdown",
   "metadata": {},
   "source": [
    "# DeepSet Implementation"
   ]
  },
  {
   "cell_type": "code",
   "execution_count": null,
   "metadata": {},
   "outputs": [],
   "source": [
    "%config InteractiveShell.ast_node_interactivity='last_expr_or_assign'  # always print last expr.\n",
    "%config InlineBackend.figure_format = 'svg'\n",
    "%load_ext autoreload\n",
    "%autoreload 2\n",
    "%matplotlib inline\n",
    "\n",
    "import logging\n",
    "\n",
    "logging.basicConfig(level=logging.INFO)"
   ]
  },
  {
   "cell_type": "code",
   "execution_count": null,
   "metadata": {},
   "outputs": [],
   "source": [
    "import numpy as np\n",
    "\n",
    "np.set_printoptions(precision=4, floatmode=\"fixed\", suppress=True)\n",
    "rng = np.random.default_rng()"
   ]
  },
  {
   "cell_type": "code",
   "execution_count": null,
   "metadata": {},
   "outputs": [],
   "source": [
    "from torch import jit, nn"
   ]
  },
  {
   "cell_type": "code",
   "execution_count": null,
   "metadata": {},
   "outputs": [],
   "source": []
  },
  {
   "cell_type": "code",
   "execution_count": null,
   "metadata": {},
   "outputs": [],
   "source": []
  },
  {
   "cell_type": "code",
   "execution_count": null,
   "metadata": {},
   "outputs": [],
   "source": []
  },
  {
   "cell_type": "code",
   "execution_count": null,
   "metadata": {},
   "outputs": [],
   "source": []
  },
  {
   "cell_type": "code",
   "execution_count": null,
   "metadata": {},
   "outputs": [],
   "source": []
  },
  {
   "cell_type": "code",
   "execution_count": null,
   "metadata": {},
   "outputs": [],
   "source": [
    "class DeepSet(nn.Module):\n",
    " \n",
    "    class CONFIG(BASE_CONFIG):\n",
    "        input_size : int,\n",
    "        latent_size : int,\n",
    "        output_size : int,\n",
    "        encoder : nn.Module = {},\n",
    "        decoder : nn.Module = {},\n",
    "        aggregation : nn.Module ={},\n",
    "\n",
    "\n",
    "    def __init__(self, *args, **kwargs) -> None:\n",
    "        super().__init__()\n",
    "        \n",
    "        CFG = self.CONFIG(*args, **kwargs)\n",
    "        \n",
    "#         if isinstance(CFG.encoder, nn.Module):\n",
    "#             self.encoder = CFG.encoder\n",
    "#             if hasattr(CFG.encoder, 'HP'):\n",
    "#                 CFG.encoder = CFG.encoder.HP\n",
    "#             else:\n",
    "#                 CFG.encoder = generate_cfg_from_obj(CFG.encoder)\n",
    "#         else:\n",
    "#             self.encoder = initialize_from_config(self.CFG.encoder)\n",
    "            \n",
    "        self.encoder = CFG.encoder\n",
    "        self.aggregation = CFG.aggregation\n",
    "        self.decoder = CFG.decoder\n",
    "        \n",
    "        self.CFG = CFG.dict()\n",
    "        \n",
    "    def forward(self, x: Tensor) -> Tensor:\n",
    "        \"\"\"Signature: [..., <Var>, D] -> [..., F]\n",
    "        \n",
    "        Components:\n",
    "        \n",
    "          - Encoder: [..., D] -> [..., E]\n",
    "          - Aggregation: [..., V, E] -> [..., E]\n",
    "          - Decoder: [..., E] -> [..., F]\n",
    "        \"\"\"\n",
    "        x = self.encoder(x)\n",
    "        x = self.aggregation(x)\n",
    "        x = self.decoder(x)\n",
    "        return x"
   ]
  },
  {
   "cell_type": "code",
   "execution_count": null,
   "metadata": {},
   "outputs": [],
   "source": [
    "?ReduceMixin"
   ]
  },
  {
   "cell_type": "code",
   "execution_count": null,
   "metadata": {},
   "outputs": [],
   "source": [
    "class Mean(nn.Module)\n",
    "\n",
    "    keepdim: Final[bool] = True\n",
    "    dim: Final[list[int]] = []\n",
    "\n",
    "    def __init__(self) -> None:\n",
    "        \n",
    "    \n",
    "    \n",
    "    def forward(self, x: Tensor) -> Tensor:\n",
    "        return "
   ]
  },
  {
   "cell_type": "code",
   "execution_count": null,
   "metadata": {},
   "outputs": [],
   "source": [
    "from dataclasses import dataclass\n",
    "\n",
    "\n",
    "class MyModule(nn.Module):\n",
    "    @dataclass\n",
    "    class CONFIG:\n",
    "        size: int\n",
    "\n",
    "    def __init__(self, *args, **kwargs):\n",
    "        super().__init__()\n",
    "        self.CFG = self.CONFIG(*args, **kwargs)"
   ]
  },
  {
   "cell_type": "code",
   "execution_count": null,
   "metadata": {},
   "outputs": [],
   "source": [
    "jit.script(MyModule(3))"
   ]
  },
  {
   "cell_type": "code",
   "execution_count": null,
   "metadata": {},
   "outputs": [],
   "source": []
  },
  {
   "cell_type": "code",
   "execution_count": null,
   "metadata": {},
   "outputs": [],
   "source": []
  }
 ],
 "metadata": {
  "kernelspec": {
   "display_name": "Python 3 (ipykernel)",
   "language": "python",
   "name": "python3"
  },
  "language_info": {
   "codemirror_mode": {
    "name": "ipython",
    "version": 3
   },
   "file_extension": ".py",
   "mimetype": "text/x-python",
   "name": "python",
   "nbconvert_exporter": "python",
   "pygments_lexer": "ipython3",
   "version": "3.9.9"
  }
 },
 "nbformat": 4,
 "nbformat_minor": 4
}
