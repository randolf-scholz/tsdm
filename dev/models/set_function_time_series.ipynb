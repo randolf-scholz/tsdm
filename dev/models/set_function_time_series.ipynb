{
 "cells": [
  {
   "cell_type": "markdown",
   "metadata": {},
   "source": [
    "# Sample Template"
   ]
  },
  {
   "cell_type": "markdown",
   "metadata": {},
   "source": [
    "Here is some sample text, and a first block of code"
   ]
  },
  {
   "cell_type": "code",
   "execution_count": 29,
   "metadata": {},
   "outputs": [],
   "source": [
    "import torch\n",
    "from torch import nn, Tensor, jit"
   ]
  },
  {
   "cell_type": "code",
   "execution_count": 31,
   "metadata": {},
   "outputs": [],
   "source": []
  },
  {
   "cell_type": "code",
   "execution_count": 35,
   "metadata": {},
   "outputs": [],
   "source": []
  },
  {
   "cell_type": "code",
   "execution_count": 41,
   "metadata": {},
   "outputs": [],
   "source": [
    "scale = torch.tensor(1.23)\n",
    "num_dim = 10\n",
    "1.23 ** -torch.arange(0, num_dim+2, 2)/num_dim"
   ]
  },
  {
   "cell_type": "code",
   "execution_count": 43,
   "metadata": {},
   "outputs": [],
   "source": [
    "a = [0, 2, 4, 6, 8]\n",
    "b = [1, 3, 5, 7, 9]"
   ]
  },
  {
   "cell_type": "code",
   "execution_count": 57,
   "metadata": {},
   "outputs": [],
   "source": [
    "c = sum(zip(a, b), ())"
   ]
  },
  {
   "cell_type": "code",
   "execution_count": 58,
   "metadata": {},
   "outputs": [],
   "source": [
    "c"
   ]
  },
  {
   "cell_type": "code",
   "execution_count": 56,
   "metadata": {},
   "outputs": [],
   "source": [
    "sum(c, ())"
   ]
  },
  {
   "cell_type": "code",
   "execution_count": 1,
   "metadata": {},
   "outputs": [],
   "source": [
    "# insert code here\n",
    "\n",
    "\n",
    "\n",
    "\n",
    "\n",
    "\n"
   ]
  },
  {
   "cell_type": "markdown",
   "metadata": {},
   "source": [
    "## A second heading"
   ]
  },
  {
   "cell_type": "markdown",
   "metadata": {},
   "source": [
    "and some more text"
   ]
  },
  {
   "cell_type": "code",
   "execution_count": 1,
   "metadata": {},
   "outputs": [],
   "source": [
    "import torch\n",
    "from torch import nn, Tensor, jit"
   ]
  },
  {
   "cell_type": "code",
   "execution_count": 28,
   "metadata": {},
   "outputs": [],
   "source": [
    "class SetFuncTS(nn.Module):\n",
    "    \n",
    "    \n",
    "    \n",
    "    def __init__(self, num_dim: int):\n",
    "        super().__init__()\n",
    "        \n",
    "        \n",
    "        self.encoder\n",
    "        self.decoder\n",
    "        self.aggregator\n",
    "    \n",
    "    \n",
    "    \n",
    "    def forward(self, x: Tensor) -> Tensor:\n",
    "        \"\"\"Signature: `[..., <var>, ]`.\n",
    "        \n",
    "        Takes list of triplet-encoded data and applies. \n",
    "        \"\"\"\n",
    "        t = torch.stack(x, dim=-1)\n",
    "        return torch.sum(t, dim=-1)\n",
    "        "
   ]
  },
  {
   "cell_type": "code",
   "execution_count": 26,
   "metadata": {},
   "outputs": [],
   "source": [
    "jit.script(SetFuncTS())"
   ]
  },
  {
   "cell_type": "code",
   "execution_count": null,
   "metadata": {},
   "outputs": [],
   "source": []
  },
  {
   "cell_type": "code",
   "execution_count": null,
   "metadata": {},
   "outputs": [],
   "source": [
    "   def call(self, inputs, segment_ids, lengths, training=None):\n",
    "        if training is None:\n",
    "            training = tf.keras.backend.learning_phase()\n",
    "\n",
    "        def dropout_attn(input_tensor):\n",
    "            if self.attn_dropout > 0:\n",
    "                mask = (\n",
    "                    tf.random.uniform(\n",
    "                        tf.shape(input_tensor)[:-1]\n",
    "                    ) < self.attn_dropout)\n",
    "                return (\n",
    "                    input_tensor\n",
    "                    + tf.expand_dims(tf.cast(mask, tf.float32), -1) * -1e9\n",
    "                )\n",
    "            else:\n",
    "                return tf.identity(input_tensor)\n",
    "\n",
    "        encoded = self.psi(inputs)\n",
    "        agg = self.psi_aggregation(encoded, segment_ids)\n",
    "        agg = self.rho(agg)\n",
    "        agg_scattered = tf.gather_nd(agg, tf.expand_dims(segment_ids, -1))\n",
    "        combined = tf.concat([inputs, agg_scattered], axis=-1)\n",
    "        keys = tf.matmul(combined, self.W_k)\n",
    "        keys = tf.stack(tf.split(keys, self.n_heads, -1), 1)\n",
    "        keys = tf.expand_dims(keys, axis=2)\n",
    "        # should have shape (el, heads, 1, dot_prod_dim)\n",
    "        queries = tf.expand_dims(tf.expand_dims(self.W_q, -1), 0)\n",
    "        # should have shape (1, heads, dot_prod_dim, 1)\n",
    "        preattn = tf.matmul(keys, queries) / tf.sqrt(float(self.dot_prod_dim))\n",
    "        preattn = tf.squeeze(preattn, -1)\n",
    "        preattn = smart_cond(\n",
    "            training,\n",
    "            lambda: dropout_attn(preattn),\n",
    "            lambda: tf.identity(preattn)\n",
    "        )\n",
    "\n",
    "        per_head_preattn = tf.unstack(preattn, axis=1)\n",
    "        attentions = []\n",
    "        for pre_attn in per_head_preattn:\n",
    "            attentions.append(segment_softmax(pre_attn, segment_ids))\n",
    "        return attentions"
   ]
  }
 ],
 "metadata": {
  "kernelspec": {
   "display_name": "Python 3 (ipykernel)",
   "language": "python",
   "name": "python3"
  },
  "language_info": {
   "codemirror_mode": {
    "name": "ipython",
    "version": 3
   },
   "file_extension": ".py",
   "mimetype": "text/x-python",
   "name": "python",
   "nbconvert_exporter": "python",
   "pygments_lexer": "ipython3",
   "version": "3.9.7"
  }
 },
 "nbformat": 4,
 "nbformat_minor": 4
}
