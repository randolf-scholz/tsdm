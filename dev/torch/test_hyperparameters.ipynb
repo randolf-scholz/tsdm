{
 "cells": [
  {
   "cell_type": "code",
   "execution_count": null,
   "metadata": {
    "tags": []
   },
   "outputs": [],
   "source": [
    "from dataclasses import KW_ONLY\n",
    "from typing import Optional\n",
    "\n",
    "import torch\n",
    "from torch import Tensor, nn\n",
    "\n",
    "from tsdm.models.activations import ACTIVATIONS\n",
    "from tsdm.utils.config import Config"
   ]
  },
  {
   "cell_type": "code",
   "execution_count": null,
   "metadata": {
    "tags": []
   },
   "outputs": [],
   "source": [
    "class Dense(nn.Module):\n",
    "    class HP(Config):\n",
    "        input_size: int\n",
    "        output_size: int\n",
    "        activation: str | nn.Module | Config = \"relu\"\n",
    "\n",
    "    def __init__(\n",
    "        self, input_size: int, output_size: int, activation: str | nn.Module = \"ReLU\"\n",
    "    ):\n",
    "        super().__init__()\n",
    "        self.linear = nn.Linear(input_size, output_size)\n",
    "\n",
    "        if isinstance(activation, str):\n",
    "            activation = ACTIVATIONS[activation]()\n",
    "        self.activation = activation\n",
    "\n",
    "    def forward(self, x: Tensor) -> Tensor:\n",
    "        x = self.linear(x)\n",
    "        x = self.activation(x)\n",
    "        return x\n",
    "\n",
    "\n",
    "model = Dense(3, 5)\n",
    "x = torch.randn(16, 3)\n",
    "model(x)"
   ]
  },
  {
   "cell_type": "code",
   "execution_count": null,
   "metadata": {
    "tags": []
   },
   "outputs": [],
   "source": [
    "class MLP(nn.Sequential):\n",
    "    class HP(Config):\n",
    "        input_size: int\n",
    "        output_size: int\n",
    "        _: KW_ONLY\n",
    "        latent_size: Optional[int] = None\n",
    "        num_hidden: int = 0\n",
    "\n",
    "    config: HP\n",
    "\n",
    "    def __init__(self, *layers: nn.Module) -> None:\n",
    "        super().__init__(*layers)\n",
    "\n",
    "    @classmethod\n",
    "    def from_config(\n",
    "        cls,\n",
    "        *args,\n",
    "        **kwargs,\n",
    "    ):\n",
    "        config = cls.HP(*args, **kwargs)\n",
    "        config |= {\"latent_size\": 1}\n",
    "        layers: list[nn.Module] = []\n",
    "\n",
    "        # input layer\n",
    "        layer = nn.Linear(config.input_size, config.latent_size)\n",
    "        nn.init.kaiming_normal_(layer.weight, nonlinearity=\"linear\")\n",
    "        nn.init.kaiming_normal_(layer.bias[None], nonlinearity=\"linear\")\n",
    "        layers.append(layer)\n",
    "\n",
    "        # hidden layers\n",
    "        for _ in range(config.num_hidden):\n",
    "            layers.append(nn.ReLU())\n",
    "            layer = nn.Linear(config.latent_size, config.latent_size)\n",
    "            nn.init.kaiming_normal_(layer.weight, nonlinearity=\"relu\")\n",
    "            nn.init.kaiming_normal_(layer.bias[None], nonlinearity=\"relu\")\n",
    "            layers.append(layer)\n",
    "\n",
    "        # output_layer\n",
    "        layers.append(nn.ReLU())\n",
    "        layer = nn.Linear(config.latent_size, config.output_size)\n",
    "        nn.init.kaiming_normal_(layer.weight, nonlinearity=\"relu\")\n",
    "        nn.init.kaiming_normal_(layer.bias[None], nonlinearity=\"relu\")\n",
    "        layers.append(layer)\n",
    "\n",
    "        module = cls(*layers)\n",
    "        module.config = config\n",
    "        return module"
   ]
  },
  {
   "cell_type": "code",
   "execution_count": null,
   "metadata": {
    "tags": []
   },
   "outputs": [],
   "source": [
    "MLP.from_config(64, 10, latent_size=32, num_hidden=2)"
   ]
  },
  {
   "cell_type": "code",
   "execution_count": null,
   "metadata": {},
   "outputs": [],
   "source": []
  }
 ],
 "metadata": {
  "kernelspec": {
   "display_name": "Python 3 (ipykernel)",
   "language": "python",
   "name": "python3"
  },
  "language_info": {
   "codemirror_mode": {
    "name": "ipython",
    "version": 3
   },
   "file_extension": ".py",
   "mimetype": "text/x-python",
   "name": "python",
   "nbconvert_exporter": "python",
   "pygments_lexer": "ipython3",
   "version": "3.10.6"
  }
 },
 "nbformat": 4,
 "nbformat_minor": 4
}
