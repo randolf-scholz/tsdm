{
 "cells": [
  {
   "cell_type": "markdown",
   "metadata": {},
   "source": [
    "#  [JIT] Infinite RecursionError with self-referential models (also affects __repr__)!! #76775 \n",
    "\n",
    "## https://github.com/pytorch/pytorch/issues/76775"
   ]
  },
  {
   "cell_type": "code",
   "execution_count": null,
   "metadata": {},
   "outputs": [],
   "source": [
    "from typing import Final, Optional\n",
    "\n",
    "import torch\n",
    "from torch import Tensor, jit, nn"
   ]
  },
  {
   "cell_type": "code",
   "execution_count": null,
   "metadata": {},
   "outputs": [],
   "source": [
    "class ConcatProjection(nn.Module):\n",
    "    r\"\"\"Maps `z = [x,w] ⟼ x`.\"\"\"\n",
    "\n",
    "    # Constants\n",
    "    input_size: Final[int]\n",
    "    r\"\"\"CONST: The dimensionality of the inputs.\"\"\"\n",
    "    hidden_size: Final[int]\n",
    "    r\"\"\"CONST: The dimensionality of the outputs.\"\"\"\n",
    "    pad_size: Final[int]\n",
    "    r\"\"\"CONST: The size of the padding.\"\"\"\n",
    "\n",
    "    # Parameters\n",
    "    padding: Tensor\n",
    "    r\"\"\"PARAM: The padding vector.\"\"\"\n",
    "\n",
    "    inverted: Tensor\n",
    "    r\"\"\"BUFFER: Whether module is in forward or reverse\"\"\"\n",
    "\n",
    "    def __init__(\n",
    "        self,\n",
    "        input_size: int,\n",
    "        hidden_size: int,\n",
    "        padding: Optional[Tensor] = None,\n",
    "        inverted: bool = False,\n",
    "    ) -> None:\n",
    "        super().__init__()\n",
    "\n",
    "        if not input_size >= hidden_size:\n",
    "            raise ValueError(\n",
    "                f\"ConcatProjection requires {input_size=} ≥ {hidden_size=}!\"\n",
    "            )\n",
    "\n",
    "        self.input_size = input_size\n",
    "        self.hidden_size = hidden_size\n",
    "        self.pad_size = input_size - hidden_size\n",
    "\n",
    "        if padding is None:\n",
    "            padding = nn.Parameter(torch.randn(self.pad_size))\n",
    "        elif not isinstance(padding, nn.Parameter):\n",
    "            padding = nn.Parameter(padding)\n",
    "\n",
    "        self.register_parameter(\"padding\", padding)\n",
    "        self.register_buffer(\"inverted\", torch.tensor(inverted, dtype=bool))\n",
    "\n",
    "    #     @jit.export\n",
    "    #     def yaya(self):\n",
    "    #         return self\n",
    "\n",
    "    #     @jit.export\n",
    "    #     def __invert__(self) -> None:\n",
    "    #         self.inverted  = ~self.inverted\n",
    "\n",
    "    @jit.export\n",
    "    def _forward(self, Z: Tensor) -> Tensor:\n",
    "        r\"\"\"Signature: `[..., d+e] ⟶ [..., d]`.\"\"\"\n",
    "        return Z[..., : self.hidden_size]\n",
    "\n",
    "    @jit.export\n",
    "    def _inverse(self, X: Tensor) -> Tensor:\n",
    "        r\"\"\"Signature: `[..., d] ⟶ [..., d+e]`.\"\"\"\n",
    "        shape = list(X.shape[:-1]) + [self.pad_size]\n",
    "        return torch.cat([X, self.padding.expand(shape)], dim=-1)\n",
    "\n",
    "    @jit.export\n",
    "    def forward(self, Z: Tensor) -> Tensor:\n",
    "        r\"\"\"Signature: `[..., d+e] ⟶ [..., d]`.\"\"\"\n",
    "        if self.inverted:\n",
    "            return self._inverse(Z)\n",
    "        return self._forward(Z)\n",
    "\n",
    "    @jit.export\n",
    "    def inverse(self, X: Tensor) -> Tensor:\n",
    "        r\"\"\"Signature: `[..., d] ⟶ [..., d+e]`.\"\"\"\n",
    "        if self.inverted:\n",
    "            return self._forward(X)\n",
    "        return self._inverse(X)"
   ]
  },
  {
   "cell_type": "code",
   "execution_count": null,
   "metadata": {},
   "outputs": [],
   "source": [
    "model = ConcatProjection(3, 2)\n",
    "scripted_model = jit.script(model)\n",
    "\n",
    "print(set(dir(model)) - set(dir(scripted_model)))\n",
    "\n",
    "jit.save(scripted_model, \"model.pt\")\n",
    "loaded_model = jit.load(\"model.pt\")\n",
    "\n",
    "print(set(dir(model)) - set(dir(loaded_model)))"
   ]
  },
  {
   "cell_type": "code",
   "execution_count": null,
   "metadata": {},
   "outputs": [],
   "source": [
    "from typing import Final\n",
    "\n",
    "from torch import Tensor, jit, nn\n",
    "\n",
    "\n",
    "class Foo(nn.Module):\n",
    "    const: Final[bool]\n",
    "    \"\"\"Some important COSNTANT\"\"\"\n",
    "\n",
    "    def __init__(self, const):\n",
    "        super().__init__()\n",
    "        self.const = const\n",
    "\n",
    "    @jit.export\n",
    "    def forward(self, x: Tensor) -> Tensor:\n",
    "        return x\n",
    "\n",
    "    @jit.export\n",
    "    def exported_method(self, x: Tensor) -> Tensor:\n",
    "        return x\n",
    "\n",
    "\n",
    "model = Foo(const=False)\n",
    "scripted_model = jit.script(model)\n",
    "jit.save(scripted_model, \"model.pt\")\n",
    "loaded_model = jit.load(\"model.pt\")\n",
    "\n",
    "print(set(dir(model)) - set(dir(scripted_model)))\n",
    "print(set(dir(model)) - set(dir(loaded_model)))\n",
    "\n",
    "for obj in (model, scripted_model, loaded_model):\n",
    "    for attr in (\"const\", \"forward\", \"exported_method\", \"training\"):\n",
    "        assert hasattr(obj, attr)"
   ]
  },
  {
   "cell_type": "code",
   "execution_count": null,
   "metadata": {},
   "outputs": [],
   "source": [
    "loaded_model"
   ]
  },
  {
   "cell_type": "code",
   "execution_count": null,
   "metadata": {},
   "outputs": [],
   "source": [
    "model.training"
   ]
  },
  {
   "cell_type": "code",
   "execution_count": null,
   "metadata": {},
   "outputs": [],
   "source": [
    "loaded_model.__invert__()\n",
    "loaded_model.inverted"
   ]
  },
  {
   "cell_type": "code",
   "execution_count": null,
   "metadata": {},
   "outputs": [],
   "source": [
    "~model"
   ]
  },
  {
   "cell_type": "code",
   "execution_count": null,
   "metadata": {},
   "outputs": [],
   "source": [
    "model.yaya"
   ]
  },
  {
   "cell_type": "code",
   "execution_count": null,
   "metadata": {},
   "outputs": [],
   "source": []
  }
 ],
 "metadata": {
  "kernelspec": {
   "display_name": "Python 3 (ipykernel)",
   "language": "python",
   "name": "python3"
  },
  "language_info": {
   "codemirror_mode": {
    "name": "ipython",
    "version": 3
   },
   "file_extension": ".py",
   "mimetype": "text/x-python",
   "name": "python",
   "nbconvert_exporter": "python",
   "pygments_lexer": "ipython3",
   "version": "3.11.3"
  }
 },
 "nbformat": 4,
 "nbformat_minor": 4
}
