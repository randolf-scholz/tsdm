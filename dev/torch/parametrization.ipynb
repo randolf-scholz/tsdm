{
 "cells": [
  {
   "cell_type": "markdown",
   "metadata": {},
   "source": [
    "# Test if caching works properly"
   ]
  },
  {
   "cell_type": "code",
   "execution_count": null,
   "metadata": {},
   "outputs": [],
   "source": [
    "%config InteractiveShell.ast_node_interactivity='last_expr_or_assign'  # always print last expr."
   ]
  },
  {
   "cell_type": "code",
   "execution_count": null,
   "metadata": {},
   "outputs": [],
   "source": [
    "import torch\n",
    "import torch.nn.utils.parametrize as P\n",
    "from torch import nn"
   ]
  },
  {
   "cell_type": "code",
   "execution_count": null,
   "metadata": {},
   "outputs": [],
   "source": [
    "model = nn.RNN(5, 3)"
   ]
  },
  {
   "cell_type": "code",
   "execution_count": null,
   "metadata": {},
   "outputs": [],
   "source": [
    "x = torch.randn(10, 5)\n",
    "y = torch.randn(10, 3)"
   ]
  },
  {
   "cell_type": "code",
   "execution_count": null,
   "metadata": {},
   "outputs": [],
   "source": [
    "model.zero_grad(set_to_none=True)\n",
    "yhat, hn = model(x)\n",
    "loss = ((y - yhat) ** 2).mean()\n",
    "loss.backward()\n",
    "model.weight_hh_l0.grad"
   ]
  },
  {
   "cell_type": "markdown",
   "metadata": {},
   "source": [
    "### With parameterization"
   ]
  },
  {
   "cell_type": "code",
   "execution_count": null,
   "metadata": {},
   "outputs": [],
   "source": [
    "class MyRNN(nn.Module):\n",
    "    parametrize: bool = False\n",
    "\n",
    "    def __init__(self, input_size: int, hidden_size: int):\n",
    "        super().__init__()\n",
    "        self.W = nn.Parameter(torch.randn(hidden_size, input_size))\n",
    "        self.V = nn.Parameter(torch.randn(hidden_size, hidden_size))\n",
    "\n",
    "        self.bias = nn.Parameter(torch.randn(hidden_size))\n",
    "        self.act = nn.Tanh()\n",
    "        self.register_buffer(\"h0\", torch.zeros(hidden_size))\n",
    "\n",
    "    def forward(self, X):\n",
    "        h_list = []\n",
    "        h = self.h0\n",
    "\n",
    "        if parametrize:\n",
    "            V = (self.V - self.V.T) / 2\n",
    "        else:\n",
    "            V = self.V\n",
    "\n",
    "        for x in torch.moveaxis(X, -2, 0):\n",
    "            w = torch.einsum(\"...j, ij -> ...i\", x, self.W)\n",
    "            v = torch.einsum(\"...j, ij -> ...i\", h, V)\n",
    "            h = self.act(w + v + self.bias)\n",
    "            h_list.append(h)\n",
    "\n",
    "        return torch.stack(h_list, dim=-2)"
   ]
  },
  {
   "cell_type": "code",
   "execution_count": null,
   "metadata": {},
   "outputs": [],
   "source": [
    "model = MyRNN(5, 3)"
   ]
  },
  {
   "cell_type": "code",
   "execution_count": null,
   "metadata": {},
   "outputs": [],
   "source": [
    "model.zero_grad(set_to_none=True)\n",
    "yhat = model(x)\n",
    "loss = ((y - yhat) ** 2).mean()\n",
    "loss.backward()\n",
    "model.V.grad"
   ]
  },
  {
   "cell_type": "code",
   "execution_count": null,
   "metadata": {},
   "outputs": [],
   "source": []
  },
  {
   "cell_type": "code",
   "execution_count": null,
   "metadata": {},
   "outputs": [],
   "source": [
    "class skew_symmetric(nn.Module):\n",
    "    def forward(self, x):\n",
    "        return (x - x.T) / 2"
   ]
  },
  {
   "cell_type": "code",
   "execution_count": null,
   "metadata": {},
   "outputs": [],
   "source": [
    "P.register_parametrization(model, \"weight_hh_l0\", skew_symmetric())\n",
    "model"
   ]
  },
  {
   "cell_type": "code",
   "execution_count": null,
   "metadata": {},
   "outputs": [],
   "source": [
    "model.zero_grad(set_to_none=True)\n",
    "yhat, hn = model(x)\n",
    "loss = ((y - yhat) ** 2).mean()\n",
    "loss.backward()\n",
    "model.parametrizations.weight_hh_l0.original.grad"
   ]
  },
  {
   "cell_type": "code",
   "execution_count": null,
   "metadata": {},
   "outputs": [],
   "source": []
  },
  {
   "cell_type": "code",
   "execution_count": null,
   "metadata": {},
   "outputs": [],
   "source": [
    "...\n",
    "with P.cached():\n",
    "    output = model(inputs)"
   ]
  }
 ],
 "metadata": {
  "kernelspec": {
   "display_name": "Python 3 (ipykernel)",
   "language": "python",
   "name": "python3"
  },
  "language_info": {
   "codemirror_mode": {
    "name": "ipython",
    "version": 3
   },
   "file_extension": ".py",
   "mimetype": "text/x-python",
   "name": "python",
   "nbconvert_exporter": "python",
   "pygments_lexer": "ipython3",
   "version": "3.11.3"
  }
 },
 "nbformat": 4,
 "nbformat_minor": 4
}
