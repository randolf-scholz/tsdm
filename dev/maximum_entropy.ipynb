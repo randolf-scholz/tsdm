{
 "cells": [
  {
   "cell_type": "code",
   "execution_count": 20,
   "id": "a51cf268-972e-46ca-950f-042f94e0cba1",
   "metadata": {},
   "outputs": [],
   "source": [
    "from sympy import symbols, exp, integrate, simplify, Function, Eq\n",
    "\n",
    "\n",
    "a, b, x, y, λ, μ, c, σ = symbols('a b x y λ μ c σ', real=True)"
   ]
  },
  {
   "cell_type": "code",
   "execution_count": 2,
   "id": "c7e0fdcc-bf4b-41c4-9496-403517021072",
   "metadata": {},
   "outputs": [],
   "source": [
    "f = λ*exp(((x-μ)/c)**2/2)\n",
    "f"
   ]
  },
  {
   "cell_type": "code",
   "execution_count": 3,
   "id": "3a99a89f-f3c6-46dd-b07a-ea9c456ab627",
   "metadata": {},
   "outputs": [],
   "source": [
    "g = simplify(integrate(f, x))\n",
    "g"
   ]
  },
  {
   "cell_type": "code",
   "execution_count": 30,
   "id": "18fee44a-8376-4e11-a91a-4ebfd7625bac",
   "metadata": {},
   "outputs": [],
   "source": [
    "I0 = simplify(integrate(f, (x, a, b)))\n",
    "I0"
   ]
  },
  {
   "cell_type": "code",
   "execution_count": 8,
   "id": "7ffbf03e-8f58-4499-b520-b528e014b09f",
   "metadata": {},
   "outputs": [],
   "source": [
    "eq0 = Eq(I0, 1)\n",
    "eq0"
   ]
  },
  {
   "cell_type": "code",
   "execution_count": 29,
   "id": "a088476c-ee15-4aa9-84bd-c97dbfccbb88",
   "metadata": {},
   "outputs": [],
   "source": [
    "I1 = simplify(integrate(f*x, (x, a, b)))\n",
    "I1"
   ]
  },
  {
   "cell_type": "code",
   "execution_count": 9,
   "id": "4a02cd3e-0b0b-42bc-8eca-c70f8e003f74",
   "metadata": {},
   "outputs": [],
   "source": [
    "eq1 = Eq(I1, μ)\n",
    "eq1"
   ]
  },
  {
   "cell_type": "code",
   "execution_count": 28,
   "id": "f239505f-545c-4fbf-9413-36cef9f1a982",
   "metadata": {},
   "outputs": [],
   "source": [
    "I2 = simplify(integrate(f*x**2, (x, a, b)))\n",
    "I2"
   ]
  },
  {
   "cell_type": "code",
   "execution_count": 12,
   "id": "9760e431-d024-4b8e-b149-932030f87cbd",
   "metadata": {},
   "outputs": [],
   "source": [
    "I2 = simplify(integrate(f*x**2, (x, a, b)))\n",
    "eq2 = Eq(I2, σ)\n",
    "eq2"
   ]
  },
  {
   "cell_type": "code",
   "execution_count": 17,
   "id": "e928a9a2-68a6-4edd-a8ad-a4813578e3cf",
   "metadata": {},
   "outputs": [],
   "source": [
    "eqs = [eq0, eq1, eq2]\n",
    "targets = [λ, μ, c]\n",
    "\n",
    "from sympy import solve, solveset, S\n",
    "\n",
    "solveset(eqs, targets)"
   ]
  },
  {
   "cell_type": "code",
   "execution_count": 26,
   "id": "3730f4a9-7f45-497c-92ad-228f5c03fdb7",
   "metadata": {},
   "outputs": [],
   "source": [
    "from sympy.solvers import nonlinsolve\n",
    "eqs = [eq0, eq1, eq2]\n",
    "targets = [λ, μ, c]\n",
    "nonlinsolve(eqs, targets)"
   ]
  },
  {
   "cell_type": "code",
   "execution_count": 25,
   "id": "1de6683a-b3c8-46e1-85ac-a70e7235c104",
   "metadata": {},
   "outputs": [],
   "source": [
    "system=[x*y-1, 4*x*2+y*2-5]\n",
    "\n",
    "symbols=[x,y]\n",
    "nonlinsolve(system, symbols)"
   ]
  },
  {
   "cell_type": "code",
   "execution_count": null,
   "id": "5ea5bfdb-acb4-4794-bd50-4d8ee3968796",
   "metadata": {},
   "outputs": [],
   "source": []
  }
 ],
 "metadata": {
  "kernelspec": {
   "display_name": "Python 3 (ipykernel)",
   "language": "python",
   "name": "python3"
  },
  "language_info": {
   "codemirror_mode": {
    "name": "ipython",
    "version": 3
   },
   "file_extension": ".py",
   "mimetype": "text/x-python",
   "name": "python",
   "nbconvert_exporter": "python",
   "pygments_lexer": "ipython3",
   "version": "3.9.6"
  }
 },
 "nbformat": 4,
 "nbformat_minor": 5
}
