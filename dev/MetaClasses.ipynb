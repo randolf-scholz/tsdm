{
 "cells": [
  {
   "cell_type": "markdown",
   "metadata": {},
   "source": [
    "# Title"
   ]
  },
  {
   "cell_type": "code",
   "execution_count": 1,
   "metadata": {},
   "outputs": [],
   "source": [
    "%config InteractiveShell.ast_node_interactivity='last_expr_or_assign'  # always print last expr.\n",
    "%config InlineBackend.figure_format = 'svg'\n",
    "%load_ext autoreload\n",
    "%autoreload 2\n",
    "%matplotlib inline"
   ]
  },
  {
   "cell_type": "code",
   "execution_count": 2,
   "metadata": {},
   "outputs": [],
   "source": [
    "import numpy as np\n",
    "import matplotlib.pyplot as plt\n",
    "\n",
    "np.set_printoptions(precision=4, floatmode='fixed', suppress=True)\n",
    "rng = np.random.default_rng()"
   ]
  },
  {
   "cell_type": "code",
   "execution_count": 29,
   "metadata": {},
   "outputs": [],
   "source": [
    "from typing import Any"
   ]
  },
  {
   "cell_type": "code",
   "execution_count": 73,
   "metadata": {},
   "outputs": [],
   "source": [
    "from django.utils.functional import classproperty\n"
   ]
  },
  {
   "cell_type": "code",
   "execution_count": 76,
   "metadata": {},
   "outputs": [],
   "source": [
    "class ClassProperty(property):\n",
    "    def __get__(self, cls, owner):\n",
    "        return self.fget.__get__(None, owner)()"
   ]
  },
  {
   "cell_type": "code",
   "execution_count": 86,
   "metadata": {},
   "outputs": [],
   "source": [
    "from abc import ABC, ABCMeta, abstractmethod\n",
    "\n",
    "class MyMetaClass(ABCMeta):\n",
    "    @classmethod\n",
    "    @property\n",
    "    def expensive_metaclass_property(cls):\n",
    "        \"\"\"This may take a while to compute!\"\"\"\n",
    "        print(\"computing metaclass property\")\n",
    "        return \"Phew, that was a lot of work!\"\n",
    "\n",
    "    \n",
    "class MyBaseClass(ABC, metaclass=MyMetaClass):\n",
    "    \n",
    "    @classmethod\n",
    "    def expensive_class_property(cls):\n",
    "        \"\"\"This may take a while to compute!\"\"\"\n",
    "        print(\"computing class property\")\n",
    "        return \"Phew, that was a lot of work!\"\n",
    "    \n",
    "    @property\n",
    "    def expensive_instance_property(self):\n",
    "        \"\"\"This may take a while to compute!\"\"\"\n",
    "        print(\"computing instance property\")\n",
    "        return \"Phew, that was a lot of work!\"\n",
    "\n",
    "class MyClass(MyBaseClass):\n",
    "    \"\"\"Some subclass of MyBaseClass\"\"\""
   ]
  },
  {
   "cell_type": "code",
   "execution_count": 87,
   "metadata": {},
   "outputs": [],
   "source": [
    "help(MyBaseClass())"
   ]
  },
  {
   "cell_type": "code",
   "execution_count": null,
   "metadata": {},
   "outputs": [],
   "source": []
  }
 ],
 "metadata": {
  "kernelspec": {
   "display_name": "Python 3 (ipykernel)",
   "language": "python",
   "name": "python3"
  },
  "language_info": {
   "codemirror_mode": {
    "name": "ipython",
    "version": 3
   },
   "file_extension": ".py",
   "mimetype": "text/x-python",
   "name": "python",
   "nbconvert_exporter": "python",
   "pygments_lexer": "ipython3",
   "version": "3.9.7"
  }
 },
 "nbformat": 4,
 "nbformat_minor": 4
}
