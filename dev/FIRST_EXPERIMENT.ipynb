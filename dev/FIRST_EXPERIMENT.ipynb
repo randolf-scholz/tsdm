{
 "cells": [
  {
   "cell_type": "code",
   "execution_count": 1,
   "id": "76248692-217e-45cd-a0eb-5b508dbe4688",
   "metadata": {},
   "outputs": [],
   "source": [
    "%config InteractiveShell.ast_node_interactivity='last_expr_or_assign'  # always print last expr.\n",
    "%config InlineBackend.figure_format = 'svg'\n",
    "%load_ext autoreload\n",
    "%autoreload 2"
   ]
  },
  {
   "cell_type": "code",
   "execution_count": 2,
   "id": "6e180378-ad98-429f-beed-9ff833c602a9",
   "metadata": {},
   "outputs": [],
   "source": [
    "import pickle\n",
    "import xarray\n",
    "\n",
    "import numpy as np\n",
    "from zipfile import ZipFile\n",
    "\n",
    "import linodenet\n",
    "import matplotlib.pyplot as plt\n",
    "import torch\n",
    "\n",
    "\n",
    "from tqdm import tqdm, trange\n",
    "from pathlib import Path\n",
    "import pandas\n",
    "from pandas import DataFrame"
   ]
  },
  {
   "cell_type": "code",
   "execution_count": 3,
   "id": "26942d6e-c6b5-4e19-b62d-198b9c3d87ba",
   "metadata": {},
   "outputs": [],
   "source": [
    "df = pandas.read_hdf(Path.cwd().parent.joinpath('data/some_data_from_db.h5'))\n",
    "df = df.drop(columns=\"unit\")"
   ]
  },
  {
   "cell_type": "code",
   "execution_count": 16,
   "id": "ee9f9cff-039b-40c0-8482-735889047d73",
   "metadata": {},
   "outputs": [],
   "source": [
    "data = df.loc[8627].reset_index()"
   ]
  },
  {
   "cell_type": "code",
   "execution_count": 101,
   "id": "3dc9827c-3b53-4b00-864d-9cb6643ef76d",
   "metadata": {},
   "outputs": [],
   "source": [
    "slc = data.set_index(\"measurement_time\").iloc[[0,1,2,7,99,101]].iloc[:, [1,5,4]]"
   ]
  },
  {
   "cell_type": "code",
   "execution_count": 124,
   "id": "cd45dcc2-cbaa-4b3b-bdd9-faa374c94534",
   "metadata": {},
   "outputs": [],
   "source": [
    "full = data.set_index([\"measurement_time\", \"measurement_id\"])"
   ]
  },
  {
   "cell_type": "code",
   "execution_count": 131,
   "id": "891fff52-196f-4392-9f8b-41294384e581",
   "metadata": {},
   "outputs": [],
   "source": [
    "xarray.DataArray(full, dims=[\"obs time\", \"obs val\"], name=\"run 1\").to_dataframe().memory_usage()"
   ]
  },
  {
   "cell_type": "code",
   "execution_count": 127,
   "id": "92e08384-ce3a-4194-bfd1-7e14f00a7aa0",
   "metadata": {},
   "outputs": [],
   "source": [
    "xarray.Dataset(coords = {\"full\":xarray.DataArray(full), \"slc\":xarray.DataArray(slc)})"
   ]
  },
  {
   "cell_type": "code",
   "execution_count": 24,
   "id": "767d48e7-e8a8-490d-96a9-9eb1d0c28bcb",
   "metadata": {
    "tags": []
   },
   "outputs": [],
   "source": [
    "fig, ax = plt.subplots()\n",
    "\n",
    "for col in (\"Acetate\", \"Acid\", \"Base\", \"DOT\"):\n",
    "    line = ax.plot(data[\"measurement_time\"].iloc[6:-100], data[col].iloc[6:-100])\n",
    "    \n",
    "ax.legend([\"Acetate\", \"Acid\", \"Base\", \"DOT\"])"
   ]
  },
  {
   "cell_type": "code",
   "execution_count": 6,
   "id": "269b9c59-43fe-418c-b115-33fc73431bfa",
   "metadata": {},
   "outputs": [],
   "source": [
    "ds = torch.tensor(data.values)"
   ]
  },
  {
   "cell_type": "code",
   "execution_count": 88,
   "id": "f7c9a7bf-0558-4ff8-80fe-09c8e0d811d0",
   "metadata": {},
   "outputs": [],
   "source": [
    "sampler = BatchSampler(SequentialSampler(ds), batch_size=32, drop_last=True)\n",
    "from torch import Tensor            \n",
    "def collate_list(batch: list[Tensor]) -> list[Tensor]:\n",
    "    r\"\"\"Collates list of tensors as list of tensors.\"\"\"\n",
    "    return batch"
   ]
  },
  {
   "cell_type": "code",
   "execution_count": 93,
   "id": "27d48598-5c3d-490b-887e-783dff822d10",
   "metadata": {},
   "outputs": [],
   "source": [
    "\n",
    "dloader = DataLoader(TensorDataset(ds), batch_sampler=sampler)\n",
    "\n",
    "idloader = iter(dloader)\n",
    "next(idloader), next(idloader)\n",
    "\n"
   ]
  },
  {
   "cell_type": "code",
   "execution_count": 45,
   "id": "a095bb54-0cb4-491c-a714-5326387ca06b",
   "metadata": {},
   "outputs": [],
   "source": [
    "list(iter(SequentialSampler(ds)))"
   ]
  },
  {
   "cell_type": "code",
   "execution_count": 38,
   "id": "284f35f0-5520-447a-b186-04c452aabe55",
   "metadata": {},
   "outputs": [],
   "source": []
  },
  {
   "cell_type": "code",
   "execution_count": 27,
   "id": "6ce06e35-94eb-4917-b266-ae7b3e72b992",
   "metadata": {},
   "outputs": [],
   "source": [
    "dir(tsdm)"
   ]
  },
  {
   "cell_type": "code",
   "execution_count": 28,
   "id": "dd06f2b7-71f9-4a1d-a945-9325dba6dda0",
   "metadata": {},
   "outputs": [],
   "source": [
    "import numpy"
   ]
  },
  {
   "cell_type": "code",
   "execution_count": 29,
   "id": "181f0699-f224-447e-8955-ac752196e701",
   "metadata": {},
   "outputs": [],
   "source": [
    "dir(numpy)"
   ]
  },
  {
   "cell_type": "code",
   "execution_count": null,
   "id": "ae37ec57-7b68-4398-ba8e-76ae5063057f",
   "metadata": {},
   "outputs": [],
   "source": []
  }
 ],
 "metadata": {
  "kernelspec": {
   "display_name": "Python 3 (ipykernel)",
   "language": "python",
   "name": "python3"
  },
  "language_info": {
   "codemirror_mode": {
    "name": "ipython",
    "version": 3
   },
   "file_extension": ".py",
   "mimetype": "text/x-python",
   "name": "python",
   "nbconvert_exporter": "python",
   "pygments_lexer": "ipython3",
   "version": "3.9.6"
  }
 },
 "nbformat": 4,
 "nbformat_minor": 5
}
