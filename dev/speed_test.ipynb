{
 "cells": [
  {
   "cell_type": "markdown",
   "id": "1f9c1f68-ab42-4f0a-8e50-9b2918e16f0a",
   "metadata": {},
   "source": [
    "# Diagonal extraction"
   ]
  },
  {
   "cell_type": "code",
   "execution_count": null,
   "id": "a4e99aff-02b8-42b2-9c80-5210325d2460",
   "metadata": {},
   "outputs": [],
   "source": [
    "# Note: torch.randn(n, device=torch.device(\"cuda\"))  performs random sampling on the CPU.\n",
    "import torch\n",
    "\n",
    "DEVICE = torch.device(\"cuda\")\n",
    "DTYPE = torch.float32\n",
    "N = 1000\n",
    "ZERO = torch.tensor(0.0, dtype=DTYPE, device=DEVICE)\n",
    "EYE = torch.eye(N, dtype=bool, device=DEVICE)"
   ]
  },
  {
   "cell_type": "code",
   "execution_count": null,
   "id": "581a1783-5f42-44bd-933c-1b488796941b",
   "metadata": {},
   "outputs": [],
   "source": [
    "%%timeit\n",
    "x = torch.cuda.FloatTensor(N, N).normal_()\n",
    "torch.diag(torch.diag(x))"
   ]
  },
  {
   "cell_type": "code",
   "execution_count": null,
   "id": "97884557-6f73-4c2f-925b-8310ef092a7e",
   "metadata": {},
   "outputs": [],
   "source": [
    "%%timeit\n",
    "# creating I, 0 dynamically\n",
    "x = torch.cuda.FloatTensor(N, N).normal_()\n",
    "eye = torch.eye(x.shape[-1], dtype=torch.bool, device=x.device)\n",
    "zero = torch.tensor(0.0, dtype=x.dtype, device=x.device)\n",
    "torch.where(eye, x, zero)"
   ]
  },
  {
   "cell_type": "code",
   "execution_count": null,
   "id": "e1dfd8c9-3b8c-473c-8911-8416037eb2cc",
   "metadata": {},
   "outputs": [],
   "source": [
    "%%timeit\n",
    "# using I, 0 statically\n",
    "x = torch.cuda.FloatTensor(N, N).normal_()\n",
    "torch.where(EYE, x, ZERO)"
   ]
  },
  {
   "cell_type": "markdown",
   "id": "dcae6aad-433f-4051-8823-68285c557eb5",
   "metadata": {},
   "source": [
    "# Tranpose"
   ]
  },
  {
   "cell_type": "code",
   "execution_count": null,
   "id": "8d177da7-4824-4195-9b98-8fedcd3e39e9",
   "metadata": {},
   "outputs": [],
   "source": [
    "%%timeit\n",
    "x = torch.cuda.FloatTensor(N, N).normal_()\n",
    "x.swapaxes(-1, -2)"
   ]
  },
  {
   "cell_type": "code",
   "execution_count": null,
   "id": "bdde69fa-fc53-4eff-893f-d5ab46b5cdf7",
   "metadata": {},
   "outputs": [],
   "source": [
    "%%timeit\n",
    "x = torch.cuda.FloatTensor(N, N).normal_()\n",
    "x.T"
   ]
  },
  {
   "cell_type": "code",
   "execution_count": null,
   "id": "f850ca16-1002-4d5b-8908-1cbb4bce70c0",
   "metadata": {},
   "outputs": [],
   "source": [
    "from typing import Optional\n",
    "\n",
    "from torch import Tensor, jit\n",
    "\n",
    "\n",
    "@jit.script\n",
    "def norm(x: Tensor, p: Optional[float] = None) -> Tensor:\n",
    "    if p is None:\n",
    "        return torch.linalg.matrix_norm(x, ord=\"fro\")\n",
    "    return torch.linalg.matrix_norm(x, ord=p)"
   ]
  },
  {
   "cell_type": "code",
   "execution_count": null,
   "id": "7f2fa5ea-6510-4d03-a641-e1675327462b",
   "metadata": {},
   "outputs": [],
   "source": [
    "x = torch.randn(7, 5, 5)\n",
    "\n",
    "torch.linalg.norm(x, ord=1, dim=(-1, -2))"
   ]
  },
  {
   "cell_type": "code",
   "execution_count": null,
   "id": "4d718cc3-9963-41e2-86bf-236a92ee142e",
   "metadata": {},
   "outputs": [],
   "source": [
    "torch.linalg.matrix_norm(x, ord=\"fro\")"
   ]
  },
  {
   "cell_type": "code",
   "execution_count": null,
   "id": "08a00f0f-c4d8-4a9b-ba75-7fbb8232c978",
   "metadata": {},
   "outputs": [],
   "source": [
    "torch.sum(torch.diagonal(x, dim1=-1, dim2=-2), dim=-1)"
   ]
  },
  {
   "cell_type": "code",
   "execution_count": null,
   "id": "9e64b9dc-ee31-4dbc-9029-645453740b1b",
   "metadata": {},
   "outputs": [],
   "source": [
    "[torch.trace(z) for z in x]"
   ]
  },
  {
   "cell_type": "code",
   "execution_count": null,
   "id": "6c34679f-ab66-4d52-a207-9959ca7e94e6",
   "metadata": {},
   "outputs": [],
   "source": []
  }
 ],
 "metadata": {
  "kernelspec": {
   "display_name": "Python 3 (ipykernel)",
   "language": "python",
   "name": "python3"
  },
  "language_info": {
   "codemirror_mode": {
    "name": "ipython",
    "version": 3
   },
   "file_extension": ".py",
   "mimetype": "text/x-python",
   "name": "python",
   "nbconvert_exporter": "python",
   "pygments_lexer": "ipython3",
   "version": "3.9.7"
  }
 },
 "nbformat": 4,
 "nbformat_minor": 5
}
