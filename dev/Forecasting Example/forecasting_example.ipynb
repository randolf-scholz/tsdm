{
 "cells": [
  {
   "cell_type": "code",
   "execution_count": null,
   "id": "96a4397c-48fa-4cc2-ba4a-d4407951371d",
   "metadata": {
    "execution": {
     "iopub.execute_input": "2022-10-05T15:31:15.062654Z",
     "iopub.status.busy": "2022-10-05T15:31:15.062544Z",
     "iopub.status.idle": "2022-10-05T15:31:15.376972Z",
     "shell.execute_reply": "2022-10-05T15:31:15.376478Z",
     "shell.execute_reply.started": "2022-10-05T15:31:15.062623Z"
    },
    "tags": []
   },
   "outputs": [],
   "source": [
    "%config InteractiveShell.ast_node_interactivity='last_expr_or_assign'  # always print last expr.\n",
    "%config InlineBackend.figure_format = 'svg'\n",
    "%matplotlib inline"
   ]
  },
  {
   "cell_type": "code",
   "execution_count": null,
   "id": "e0281848-5e12-46fe-9dbf-e90aec92ec4c",
   "metadata": {
    "execution": {
     "iopub.execute_input": "2022-10-05T15:31:15.377784Z",
     "iopub.status.busy": "2022-10-05T15:31:15.377634Z",
     "iopub.status.idle": "2022-10-05T15:31:15.763122Z",
     "shell.execute_reply": "2022-10-05T15:31:15.762706Z",
     "shell.execute_reply.started": "2022-10-05T15:31:15.377774Z"
    },
    "tags": []
   },
   "outputs": [],
   "source": [
    "import warnings\n",
    "from torchinfo import summary\n",
    "\n",
    "warnings.filterwarnings(action=\"ignore\", category=UserWarning, module=\"tsdm\")"
   ]
  },
  {
   "cell_type": "markdown",
   "id": "a2d0f73d-dbe7-4fd2-975b-f55a73cb6155",
   "metadata": {},
   "source": [
    "# Load 𝗧ime 𝗦eries 𝗗atasets & 𝗠odels (𝚝𝚜𝚍𝚖)"
   ]
  },
  {
   "cell_type": "code",
   "execution_count": null,
   "id": "1800b571-645b-41eb-b6cd-a33b5f91d7c4",
   "metadata": {
    "execution": {
     "iopub.execute_input": "2022-10-05T15:31:15.763695Z",
     "iopub.status.busy": "2022-10-05T15:31:15.763531Z",
     "iopub.status.idle": "2022-10-05T15:31:16.369208Z",
     "shell.execute_reply": "2022-10-05T15:31:16.368659Z",
     "shell.execute_reply.started": "2022-10-05T15:31:15.763684Z"
    },
    "tags": []
   },
   "outputs": [],
   "source": [
    "import tsdm"
   ]
  },
  {
   "cell_type": "markdown",
   "id": "202520a9-4840-468d-ba5a-fe2e6052e800",
   "metadata": {},
   "source": [
    "## Time Series Datasets\n",
    "\n",
    "### A **time series** is a tuple $D = (𝐓𝐒, M)$\n",
    "\n",
    "- Time-indexed data $𝐓𝐒=\\{(tᵢ, vᵢ)∣i=1…n\\}$\n",
    "  - timestamps $t∈𝓣$, values $v∈𝓥$\n",
    "- Time-independent metadata $M∈𝓜$\n",
    "\n",
    "\n",
    "### A **time series collection** is a tuple $C = (I,S,G)$ consisting of\n",
    "\n",
    "- Index $I⊆𝓘$ (of id's)\n",
    "- Collection of timeseries $\\{Dᵢ=(𝐓𝐒ᵢ, Mᵢ) ∣ i∈𝓘，𝐓𝐒ᵢ∈(𝓣×𝓥)ᵢ^*， Mᵢ∈𝓜ᵢ\\}$\n",
    "- Index-independent Global data $G∈𝓖$\n",
    "- If $𝓣ᵢ=𝓣$, $𝓥ᵢ=𝓥$ and $𝓜ᵢ=𝓜$ ⟶ **equimodal**"
   ]
  },
  {
   "cell_type": "markdown",
   "id": "ed2fc415-2ab4-4fad-b20b-d3a013e95abd",
   "metadata": {},
   "source": [
    "## Examples\n",
    "\n",
    "1. Clinical data:\n",
    "    - index $𝓘$: patient / admission id\n",
    "    - metadata $M_i$: patient metadata (age, sex, preconditions, ...)\n",
    "    - values $V_i$: measured data (heart rate, blood pressure, etc.) \n",
    "    - globals $G$: units of measurement, measurement devices used, etc.\n",
    "    \n",
    "2. Bioreactor data\n",
    "    - index $𝓘$: experiment / run id\n",
    "    - metadata $M_i$: bacterial stem used, reactor size, reactor type\n",
    "    - values $V_i$: measured data (O₂-, Glucose-, Acetate- concentration, stirring speed) \n",
    "    - globals $G$: units of measurement, measurement devices used, etc. "
   ]
  },
  {
   "cell_type": "markdown",
   "id": "9329d676-9aa9-4c05-85bc-17f38e6d97f0",
   "metadata": {},
   "source": [
    "# Load the dataset"
   ]
  },
  {
   "cell_type": "code",
   "execution_count": null,
   "id": "58b7f6d7",
   "metadata": {
    "execution": {
     "iopub.execute_input": "2022-10-05T15:31:16.661335Z",
     "iopub.status.busy": "2022-10-05T15:31:16.660788Z",
     "iopub.status.idle": "2022-10-05T15:31:16.791543Z",
     "shell.execute_reply": "2022-10-05T15:31:16.790555Z",
     "shell.execute_reply.started": "2022-10-05T15:31:16.661295Z"
    },
    "tags": []
   },
   "outputs": [],
   "source": [
    "from tsdm.datasets import KIWI_RUNS\n",
    "\n",
    "dataset = KIWI_RUNS()"
   ]
  },
  {
   "cell_type": "code",
   "execution_count": null,
   "id": "d695b42b",
   "metadata": {
    "execution": {
     "iopub.execute_input": "2022-10-05T15:31:55.647617Z",
     "iopub.status.busy": "2022-10-05T15:31:55.647099Z",
     "iopub.status.idle": "2022-10-05T15:31:55.667910Z",
     "shell.execute_reply": "2022-10-05T15:31:55.667588Z",
     "shell.execute_reply.started": "2022-10-05T15:31:55.647577Z"
    },
    "tags": []
   },
   "outputs": [],
   "source": [
    "ts = dataset.timeseries"
   ]
  },
  {
   "cell_type": "code",
   "execution_count": null,
   "id": "65a7a870-06fc-458d-86b8-9c961a47d280",
   "metadata": {
    "execution": {
     "iopub.execute_input": "2022-10-05T15:31:59.333938Z",
     "iopub.status.busy": "2022-10-05T15:31:59.333438Z",
     "iopub.status.idle": "2022-10-05T15:31:59.350867Z",
     "shell.execute_reply": "2022-10-05T15:31:59.350483Z",
     "shell.execute_reply.started": "2022-10-05T15:31:59.333905Z"
    },
    "tags": []
   },
   "outputs": [],
   "source": [
    "md = dataset.metadata"
   ]
  },
  {
   "cell_type": "code",
   "execution_count": null,
   "id": "90b01958-d75e-4d4f-be63-a11f98535e25",
   "metadata": {
    "execution": {
     "iopub.execute_input": "2022-10-05T15:31:20.272572Z",
     "iopub.status.busy": "2022-10-05T15:31:20.272029Z",
     "iopub.status.idle": "2022-10-05T15:31:20.303179Z",
     "shell.execute_reply": "2022-10-05T15:31:20.301975Z",
     "shell.execute_reply.started": "2022-10-05T15:31:20.272534Z"
    },
    "tags": []
   },
   "outputs": [],
   "source": [
    "dataset.units"
   ]
  },
  {
   "cell_type": "markdown",
   "id": "9cde895f-ea80-4813-ae58-f7752915f2c0",
   "metadata": {},
   "source": [
    "# Load the model & encoder\n",
    "\n",
    "Preliminary API, ideally should be replaced with a database lookup.\n",
    "\n",
    "⇝ Encoder depends both on model and dataset.\n",
    "\n",
    "tags: model, dataset, fold, epoch, hyperparameters"
   ]
  },
  {
   "cell_type": "code",
   "execution_count": null,
   "id": "223e7bae-646b-4cfc-affc-6d7c94ec8f67",
   "metadata": {
    "execution": {
     "iopub.execute_input": "2022-10-05T15:31:21.710086Z",
     "iopub.status.busy": "2022-10-05T15:31:21.709530Z",
     "iopub.status.idle": "2022-10-05T15:31:21.716715Z",
     "shell.execute_reply": "2022-10-05T15:31:21.714947Z",
     "shell.execute_reply.started": "2022-10-05T15:31:21.710047Z"
    },
    "tags": []
   },
   "outputs": [],
   "source": [
    "import tsdm"
   ]
  },
  {
   "cell_type": "code",
   "execution_count": null,
   "id": "5967891e-672d-40c6-b4d5-0bf560889be5",
   "metadata": {
    "execution": {
     "iopub.execute_input": "2022-10-05T15:31:22.242552Z",
     "iopub.status.busy": "2022-10-05T15:31:22.242024Z",
     "iopub.status.idle": "2022-10-05T15:31:31.215845Z",
     "shell.execute_reply": "2022-10-05T15:31:31.215390Z",
     "shell.execute_reply.started": "2022-10-05T15:31:22.242517Z"
    },
    "tags": []
   },
   "outputs": [],
   "source": [
    "from tsdm.models.pretrained import LinODEnet\n",
    "from torchinfo import summary\n",
    "\n",
    "model = LinODEnet()\n",
    "summary(model)"
   ]
  },
  {
   "cell_type": "code",
   "execution_count": null,
   "id": "0900809b-4665-48b6-a0b5-0f47b9239aaa",
   "metadata": {},
   "outputs": [],
   "source": []
  },
  {
   "cell_type": "markdown",
   "id": "60aef8c5-ae99-4c65-a55d-4a9600c656df",
   "metadata": {},
   "source": [
    "## Make a prediction"
   ]
  },
  {
   "cell_type": "code",
   "execution_count": null,
   "id": "1c75cd3a-37fa-44cb-bd78-164e8bd84f74",
   "metadata": {
    "execution": {
     "iopub.execute_input": "2022-10-05T15:41:31.351664Z",
     "iopub.status.busy": "2022-10-05T15:41:31.351127Z",
     "iopub.status.idle": "2022-10-05T15:41:31.357503Z",
     "shell.execute_reply": "2022-10-05T15:41:31.356065Z",
     "shell.execute_reply.started": "2022-10-05T15:41:31.351630Z"
    },
    "tags": []
   },
   "outputs": [],
   "source": [
    "from tsdm.encoders import (\n",
    "    FrameEncoder,\n",
    "    MinMaxScaler,\n",
    "    Standardizer,\n",
    "    FloatEncoder,\n",
    "    TensorEncoder,\n",
    "    Time2Float,\n",
    "    TimeDeltaEncoder,\n",
    ")"
   ]
  },
  {
   "cell_type": "code",
   "execution_count": null,
   "id": "7e7b79fa-621d-4dee-9594-fb4889aba60b",
   "metadata": {
    "execution": {
     "iopub.execute_input": "2022-10-05T15:35:10.009787Z",
     "iopub.status.busy": "2022-10-05T15:35:10.009254Z",
     "iopub.status.idle": "2022-10-05T15:35:10.030004Z",
     "shell.execute_reply": "2022-10-05T15:35:10.029671Z",
     "shell.execute_reply.started": "2022-10-05T15:35:10.009748Z"
    }
   },
   "outputs": [],
   "source": [
    "s = ts.loc[key]"
   ]
  },
  {
   "cell_type": "code",
   "execution_count": null,
   "id": "b335b083-44aa-4855-b551-4bcda0f8e604",
   "metadata": {
    "execution": {
     "iopub.execute_input": "2022-10-05T15:41:37.219307Z",
     "iopub.status.busy": "2022-10-05T15:41:37.218709Z",
     "iopub.status.idle": "2022-10-05T15:41:37.245659Z",
     "shell.execute_reply": "2022-10-05T15:41:37.243949Z",
     "shell.execute_reply.started": "2022-10-05T15:41:37.219261Z"
    }
   },
   "outputs": [],
   "source": [
    "self.preprocessor = ChainedEncoder(\n",
    "    TensorEncoder(),\n",
    "    DataFrameEncoder(\n",
    "        Standardizer() @ FloatEncoder(),\n",
    "        index_encoders=MinMaxScaler() @ DateTimeEncoder(),\n",
    "    ),\n",
    ")"
   ]
  },
  {
   "cell_type": "code",
   "execution_count": null,
   "id": "41d1aeea-4fdf-47c4-9a9c-c2c0760af735",
   "metadata": {
    "execution": {
     "iopub.execute_input": "2022-10-05T15:42:07.431066Z",
     "iopub.status.busy": "2022-10-05T15:42:07.430592Z",
     "iopub.status.idle": "2022-10-05T15:42:07.482579Z",
     "shell.execute_reply": "2022-10-05T15:42:07.481109Z",
     "shell.execute_reply.started": "2022-10-05T15:42:07.431034Z"
    },
    "tags": []
   },
   "outputs": [],
   "source": [
    "encoder = FrameEncoder(\n",
    "    Standardizer() @ FloatEncoder(), index_encoders=MinMaxScaler() @ TimeDeltaEncoder()\n",
    ")\n",
    "\n",
    "encoder.fit(s)\n",
    "\n",
    "encoder.encode(s)"
   ]
  },
  {
   "cell_type": "code",
   "execution_count": null,
   "id": "c24da646-bfa9-4c96-97e8-e55e42ec413a",
   "metadata": {
    "execution": {
     "iopub.execute_input": "2022-10-05T15:33:52.438849Z",
     "iopub.status.busy": "2022-10-05T15:33:52.438351Z",
     "iopub.status.idle": "2022-10-05T15:33:52.452539Z",
     "shell.execute_reply": "2022-10-05T15:33:52.450974Z",
     "shell.execute_reply.started": "2022-10-05T15:33:52.438809Z"
    },
    "tags": []
   },
   "outputs": [],
   "source": [
    "key = (run_id, experiment_id) = (510, 16871)\n",
    "\n",
    "T, X = ts.loc[key].index, ts.loc[key].astype(float).values"
   ]
  },
  {
   "cell_type": "code",
   "execution_count": null,
   "id": "db01924a-0b0d-4b25-90be-5dde8b713c7e",
   "metadata": {
    "execution": {
     "iopub.execute_input": "2022-10-05T15:33:56.611404Z",
     "iopub.status.busy": "2022-10-05T15:33:56.610620Z",
     "iopub.status.idle": "2022-10-05T15:33:56.622954Z",
     "shell.execute_reply": "2022-10-05T15:33:56.621654Z",
     "shell.execute_reply.started": "2022-10-05T15:33:56.611339Z"
    }
   },
   "outputs": [],
   "source": [
    "X"
   ]
  },
  {
   "cell_type": "code",
   "execution_count": null,
   "id": "320eecdc-615e-4a27-ae16-d4d83ea02196",
   "metadata": {},
   "outputs": [],
   "source": []
  },
  {
   "cell_type": "code",
   "execution_count": null,
   "id": "9e2215e0-89d3-4076-a8e6-2180e7b12f2b",
   "metadata": {
    "execution": {
     "iopub.execute_input": "2022-10-05T14:43:54.371185Z",
     "iopub.status.busy": "2022-10-05T14:43:54.371036Z",
     "iopub.status.idle": "2022-10-05T14:43:56.062443Z",
     "shell.execute_reply": "2022-10-05T14:43:56.061775Z",
     "shell.execute_reply.started": "2022-10-05T14:43:54.371135Z"
    },
    "tags": []
   },
   "outputs": [],
   "source": [
    "from zipfile import ZipFile\n",
    "import pickle\n",
    "\n",
    "path = \"/home/rscholz/.tsdm/models/LinODEnet/linodenet.zip\"\n",
    "with ZipFile(path) as archive:\n",
    "    with archive.open(\"encoder.pickle\") as file:\n",
    "        encoder = pickle.load(file)"
   ]
  },
  {
   "cell_type": "code",
   "execution_count": null,
   "id": "bd3fc3c4-9e55-4ceb-bdc8-1c5d964e97f3",
   "metadata": {
    "execution": {
     "iopub.execute_input": "2022-10-05T14:42:05.801687Z",
     "iopub.status.busy": "2022-10-05T14:42:05.801527Z",
     "iopub.status.idle": "2022-10-05T14:42:07.494219Z",
     "shell.execute_reply": "2022-10-05T14:42:07.493537Z",
     "shell.execute_reply.started": "2022-10-05T14:42:05.801642Z"
    },
    "tags": []
   },
   "outputs": [],
   "source": [
    "from tsdm.models.pretrained import LinODEnetEncoder\n",
    "\n",
    "\n",
    "encoder = LinODEnetEncoder()"
   ]
  },
  {
   "cell_type": "code",
   "execution_count": null,
   "id": "45e2167a-3f18-45e5-88cb-ef4f50822b06",
   "metadata": {
    "execution": {
     "iopub.status.busy": "2022-10-05T11:21:57.016947Z",
     "iopub.status.idle": "2022-10-05T11:21:57.017096Z",
     "shell.execute_reply": "2022-10-05T11:21:57.017031Z",
     "shell.execute_reply.started": "2022-10-05T11:21:57.017024Z"
    },
    "tags": []
   },
   "outputs": [],
   "source": [
    "encoder = LinODEnetEncoder()"
   ]
  },
  {
   "cell_type": "markdown",
   "id": "79dbebb5-2a77-442c-a4b6-427807288ed0",
   "metadata": {},
   "source": [
    "# Make a Prediction with the model"
   ]
  },
  {
   "cell_type": "code",
   "execution_count": null,
   "id": "68cc3728-e43e-47cd-86e8-f024ec7ccb7b",
   "metadata": {},
   "outputs": [],
   "source": []
  },
  {
   "cell_type": "markdown",
   "id": "5c2a4d15-ea88-4c11-8bd6-c4cd84a42b42",
   "metadata": {
    "tags": []
   },
   "source": [
    "# What can models do?"
   ]
  },
  {
   "cell_type": "code",
   "execution_count": null,
   "id": "4aa2ccc6-7919-49c4-ac2c-176f211f4e76",
   "metadata": {
    "execution": {
     "iopub.status.busy": "2022-10-05T11:08:12.737586Z",
     "iopub.status.idle": "2022-10-05T11:08:12.737719Z",
     "shell.execute_reply": "2022-10-05T11:08:12.737661Z",
     "shell.execute_reply.started": "2022-10-05T11:08:12.737655Z"
    }
   },
   "outputs": [],
   "source": [
    "Level 1: Simple forecasting model\n",
    "Level 2: Probabilistic forecasting model\n",
    "Level 3: Forecast across datasets\n",
    "Level 4: "
   ]
  },
  {
   "cell_type": "code",
   "execution_count": null,
   "id": "cfe29406-7948-4e06-b1a6-f3745bdb3d62",
   "metadata": {},
   "outputs": [],
   "source": []
  },
  {
   "cell_type": "code",
   "execution_count": null,
   "id": "1d533b95-ead2-4d71-ab2a-d77375a74030",
   "metadata": {},
   "outputs": [],
   "source": []
  },
  {
   "cell_type": "markdown",
   "id": "055a05d9-bc0f-41fd-a2a1-816870f26a26",
   "metadata": {},
   "source": [
    "## What would be nice to have?\n",
    "\n",
    "- Data Collection\n",
    "    - Delayed measurements should come with 2 timestamps. (When was sample collected, when was value recorded)\n",
    "- Data Validation\n",
    "    - Categories instead of strings\n",
    "    - Nullable datatypes for missing values (avoid using e.g. -999 as representation for missing value) \n",
    "    - Timedeltas and Datetimes\n",
    "- Data Annotation - Adding Expert Knowledge\n",
    "    - Biologically plausible minimal / maximal values possible\n",
    "- Model database"
   ]
  },
  {
   "cell_type": "markdown",
   "id": "92caa8d2-5003-436c-b22b-8449547c0218",
   "metadata": {},
   "source": [
    "# Types of temporal data"
   ]
  },
  {
   "cell_type": "code",
   "execution_count": null,
   "id": "d02e12a2-4de9-4232-ab97-4dc8dd216a97",
   "metadata": {
    "execution": {
     "iopub.status.busy": "2022-10-05T11:08:12.738174Z",
     "iopub.status.idle": "2022-10-05T11:08:12.738299Z",
     "shell.execute_reply": "2022-10-05T11:08:12.738244Z",
     "shell.execute_reply.started": "2022-10-05T11:08:12.738238Z"
    },
    "tags": []
   },
   "outputs": [],
   "source": [
    "%%latex\n",
    "\\begin{table}[H]\n",
    "\\centering\n",
    "\\begin{tabular}{lccc}\n",
    "   data       & obs.-horizon & pred.-horizon & predicted %\n",
    "\\\\ \\midrule\n",
    "   $X$        & {\\color{DarkGreen} ✔} & {\\color{Crimson} ✘}   & {\\color{Crimson} ✘}    %\n",
    "\\\\ $U$        & {\\color{DarkGreen} ✔} & {\\color{DarkGreen} ✔} & {\\color{Crimson} ✘}    %\n",
    "\\\\ $Y^{auto}$ & {\\color{DarkGreen} ✔} & {\\color{Crimson} ✘}   & {\\color{DarkGreen} ✔}  %\n",
    "\\\\ $Y^{pred}$ & {\\color{Crimson} ✘}   & {\\color{Crimson} ✘}   & {\\color{DarkGreen} ✔}  %\n",
    "\\end{tabular}\n",
    "\\end{table}"
   ]
  },
  {
   "cell_type": "code",
   "execution_count": null,
   "id": "fcb8c4f2-1944-45c4-8f7e-4762039ca0c2",
   "metadata": {},
   "outputs": [],
   "source": []
  }
 ],
 "metadata": {
  "kernelspec": {
   "display_name": "Python 3 (ipykernel)",
   "language": "python",
   "name": "python3"
  },
  "language_info": {
   "codemirror_mode": {
    "name": "ipython",
    "version": 3
   },
   "file_extension": ".py",
   "mimetype": "text/x-python",
   "name": "python",
   "nbconvert_exporter": "python",
   "pygments_lexer": "ipython3",
   "version": "3.10.6"
  }
 },
 "nbformat": 4,
 "nbformat_minor": 5
}
