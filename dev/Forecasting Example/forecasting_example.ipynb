{
 "cells": [
  {
   "cell_type": "code",
   "execution_count": null,
   "id": "96a4397c-48fa-4cc2-ba4a-d4407951371d",
   "metadata": {
    "execution": {
     "iopub.execute_input": "2022-10-05T17:15:17.992588Z",
     "iopub.status.busy": "2022-10-05T17:15:17.992479Z",
     "iopub.status.idle": "2022-10-05T17:15:18.322208Z",
     "shell.execute_reply": "2022-10-05T17:15:18.321756Z",
     "shell.execute_reply.started": "2022-10-05T17:15:17.992557Z"
    },
    "tags": []
   },
   "outputs": [],
   "source": [
    "%config InteractiveShell.ast_node_interactivity='last_expr_or_assign'  # always print last expr.\n",
    "%config InlineBackend.figure_format = 'svg'\n",
    "%matplotlib inline"
   ]
  },
  {
   "cell_type": "code",
   "execution_count": null,
   "id": "e0281848-5e12-46fe-9dbf-e90aec92ec4c",
   "metadata": {
    "execution": {
     "iopub.execute_input": "2022-10-05T17:15:18.323855Z",
     "iopub.status.busy": "2022-10-05T17:15:18.323474Z",
     "iopub.status.idle": "2022-10-05T17:15:18.641872Z",
     "shell.execute_reply": "2022-10-05T17:15:18.641515Z",
     "shell.execute_reply.started": "2022-10-05T17:15:18.323835Z"
    },
    "tags": []
   },
   "outputs": [],
   "source": [
    "import datetime\n",
    "import warnings\n",
    "\n",
    "import matplotlib\n",
    "import matplotlib.pyplot as plt\n",
    "import numpy as np\n",
    "from torchinfo import summary\n",
    "\n",
    "warnings.filterwarnings(action=\"ignore\", category=UserWarning, module=\"tsdm\")"
   ]
  },
  {
   "cell_type": "markdown",
   "id": "a2d0f73d-dbe7-4fd2-975b-f55a73cb6155",
   "metadata": {},
   "source": [
    "# Load 𝗧ime 𝗦eries 𝗗atasets & 𝗠odels (𝚝𝚜𝚍𝚖)"
   ]
  },
  {
   "cell_type": "code",
   "execution_count": null,
   "id": "1800b571-645b-41eb-b6cd-a33b5f91d7c4",
   "metadata": {
    "execution": {
     "iopub.execute_input": "2022-10-05T17:15:18.642496Z",
     "iopub.status.busy": "2022-10-05T17:15:18.642328Z",
     "iopub.status.idle": "2022-10-05T17:15:19.331872Z",
     "shell.execute_reply": "2022-10-05T17:15:19.331439Z",
     "shell.execute_reply.started": "2022-10-05T17:15:18.642486Z"
    },
    "tags": []
   },
   "outputs": [],
   "source": [
    "import tsdm"
   ]
  },
  {
   "cell_type": "markdown",
   "id": "202520a9-4840-468d-ba5a-fe2e6052e800",
   "metadata": {},
   "source": [
    "## Time Series Datasets\n",
    "\n",
    "### A **time series** is a tuple $D = (𝐓𝐒, M)$\n",
    "\n",
    "- Time-indexed data $𝐓𝐒=\\{(tᵢ, vᵢ)∣i=1…n\\}$\n",
    "  - timestamps $t∈𝓣$, values $v∈𝓥$\n",
    "- Time-independent metadata $M∈𝓜$\n",
    "\n",
    "\n",
    "### A **time series collection** is a tuple $C = (I,S,G)$ consisting of\n",
    "\n",
    "- Index $I⊆𝓘$ (of id's)\n",
    "- Collection of timeseries $\\{Dᵢ=(𝐓𝐒ᵢ, Mᵢ) ∣ i∈𝓘，𝐓𝐒ᵢ∈(𝓣×𝓥)ᵢ^*， Mᵢ∈𝓜ᵢ\\}$\n",
    "- Index-independent Global data $G∈𝓖$\n",
    "- If $𝓣ᵢ=𝓣$, $𝓥ᵢ=𝓥$ and $𝓜ᵢ=𝓜$ ⟶ **equimodal**"
   ]
  },
  {
   "cell_type": "markdown",
   "id": "ed2fc415-2ab4-4fad-b20b-d3a013e95abd",
   "metadata": {},
   "source": [
    "## Examples\n",
    "\n",
    "1. Clinical data:\n",
    "    - index $𝓘$: patient / admission id\n",
    "    - metadata $M_i$: patient metadata (age, sex, preconditions, ...)\n",
    "    - values $V_i$: measured data (heart rate, blood pressure, etc.) \n",
    "    - globals $G$: units of measurement, measurement devices used, etc.\n",
    "    \n",
    "2. Bioreactor data\n",
    "    - index $𝓘$: experiment / run id\n",
    "    - metadata $M_i$: bacterial stem used, reactor size, reactor type\n",
    "    - values $V_i$: measured data (O₂-, Glucose-, Acetate- concentration, stirring speed) \n",
    "    - globals $G$: units of measurement, measurement devices used, etc. "
   ]
  },
  {
   "cell_type": "markdown",
   "id": "9329d676-9aa9-4c05-85bc-17f38e6d97f0",
   "metadata": {},
   "source": [
    "# Load the dataset"
   ]
  },
  {
   "cell_type": "code",
   "execution_count": null,
   "id": "58b7f6d7",
   "metadata": {
    "execution": {
     "iopub.execute_input": "2022-10-05T17:15:19.332944Z",
     "iopub.status.busy": "2022-10-05T17:15:19.332628Z",
     "iopub.status.idle": "2022-10-05T17:15:19.415110Z",
     "shell.execute_reply": "2022-10-05T17:15:19.414763Z",
     "shell.execute_reply.started": "2022-10-05T17:15:19.332932Z"
    },
    "tags": []
   },
   "outputs": [],
   "source": [
    "from tsdm.datasets import KIWI_RUNS\n",
    "\n",
    "dataset = KIWI_RUNS()"
   ]
  },
  {
   "cell_type": "code",
   "execution_count": null,
   "id": "d695b42b",
   "metadata": {
    "execution": {
     "iopub.execute_input": "2022-10-05T17:15:19.415712Z",
     "iopub.status.busy": "2022-10-05T17:15:19.415560Z",
     "iopub.status.idle": "2022-10-05T17:15:19.431821Z",
     "shell.execute_reply": "2022-10-05T17:15:19.431471Z",
     "shell.execute_reply.started": "2022-10-05T17:15:19.415701Z"
    },
    "tags": []
   },
   "outputs": [],
   "source": [
    "ts = dataset.timeseries"
   ]
  },
  {
   "cell_type": "code",
   "execution_count": null,
   "id": "65a7a870-06fc-458d-86b8-9c961a47d280",
   "metadata": {
    "execution": {
     "iopub.execute_input": "2022-10-05T17:15:19.432515Z",
     "iopub.status.busy": "2022-10-05T17:15:19.432345Z",
     "iopub.status.idle": "2022-10-05T17:15:19.445893Z",
     "shell.execute_reply": "2022-10-05T17:15:19.445522Z",
     "shell.execute_reply.started": "2022-10-05T17:15:19.432504Z"
    },
    "tags": []
   },
   "outputs": [],
   "source": [
    "md = dataset.metadata"
   ]
  },
  {
   "cell_type": "code",
   "execution_count": null,
   "id": "90b01958-d75e-4d4f-be63-a11f98535e25",
   "metadata": {
    "execution": {
     "iopub.execute_input": "2022-10-05T17:15:19.447231Z",
     "iopub.status.busy": "2022-10-05T17:15:19.447080Z",
     "iopub.status.idle": "2022-10-05T17:15:19.459748Z",
     "shell.execute_reply": "2022-10-05T17:15:19.459301Z",
     "shell.execute_reply.started": "2022-10-05T17:15:19.447219Z"
    },
    "tags": []
   },
   "outputs": [],
   "source": [
    "dataset.units"
   ]
  },
  {
   "cell_type": "markdown",
   "id": "9cde895f-ea80-4813-ae58-f7752915f2c0",
   "metadata": {},
   "source": [
    "# Load the model & encoder\n",
    "\n",
    "Preliminary API, ideally should be replaced with a database lookup.\n",
    "\n",
    "⇝ Encoder depends both on model and dataset.\n",
    "\n",
    "tags: model, dataset, fold, epoch, hyperparameters"
   ]
  },
  {
   "cell_type": "code",
   "execution_count": null,
   "id": "223e7bae-646b-4cfc-affc-6d7c94ec8f67",
   "metadata": {
    "execution": {
     "iopub.execute_input": "2022-10-05T17:15:19.460492Z",
     "iopub.status.busy": "2022-10-05T17:15:19.460319Z",
     "iopub.status.idle": "2022-10-05T17:15:19.468408Z",
     "shell.execute_reply": "2022-10-05T17:15:19.468062Z",
     "shell.execute_reply.started": "2022-10-05T17:15:19.460480Z"
    },
    "tags": []
   },
   "outputs": [],
   "source": [
    "import tsdm"
   ]
  },
  {
   "cell_type": "code",
   "execution_count": null,
   "id": "5967891e-672d-40c6-b4d5-0bf560889be5",
   "metadata": {
    "execution": {
     "iopub.execute_input": "2022-10-05T17:15:19.468993Z",
     "iopub.status.busy": "2022-10-05T17:15:19.468839Z",
     "iopub.status.idle": "2022-10-05T17:15:30.922228Z",
     "shell.execute_reply": "2022-10-05T17:15:30.921600Z",
     "shell.execute_reply.started": "2022-10-05T17:15:19.468982Z"
    },
    "tags": []
   },
   "outputs": [],
   "source": [
    "from torchinfo import summary\n",
    "\n",
    "from tsdm.models.pretrained import LinODEnet\n",
    "\n",
    "model = LinODEnet()\n",
    "summary(model)"
   ]
  },
  {
   "cell_type": "markdown",
   "id": "60aef8c5-ae99-4c65-a55d-4a9600c656df",
   "metadata": {},
   "source": [
    "## Make a prediction"
   ]
  },
  {
   "cell_type": "code",
   "execution_count": null,
   "id": "6e5262c4-11e2-4b4a-8c57-30deae16ac81",
   "metadata": {
    "execution": {
     "iopub.execute_input": "2022-10-05T17:15:30.922773Z",
     "iopub.status.busy": "2022-10-05T17:15:30.922657Z",
     "iopub.status.idle": "2022-10-05T17:15:30.942157Z",
     "shell.execute_reply": "2022-10-05T17:15:30.941474Z",
     "shell.execute_reply.started": "2022-10-05T17:15:30.922762Z"
    },
    "tags": []
   },
   "outputs": [],
   "source": [
    "ts"
   ]
  },
  {
   "cell_type": "code",
   "execution_count": null,
   "id": "ff275b09-146f-461e-9964-a0cb2636bf21",
   "metadata": {
    "execution": {
     "iopub.execute_input": "2022-10-05T17:15:30.942891Z",
     "iopub.status.busy": "2022-10-05T17:15:30.942742Z",
     "iopub.status.idle": "2022-10-05T17:15:30.973685Z",
     "shell.execute_reply": "2022-10-05T17:15:30.973077Z",
     "shell.execute_reply.started": "2022-10-05T17:15:30.942879Z"
    },
    "tags": []
   },
   "outputs": [],
   "source": [
    "key = (run_id, experiment_id) = (510, 16871)\n",
    "s = ts.loc[key].astype(float).copy()\n",
    "s"
   ]
  },
  {
   "cell_type": "code",
   "execution_count": null,
   "id": "b11b6938-bbcf-4d1b-93b9-f8b8c0ba9106",
   "metadata": {
    "execution": {
     "iopub.execute_input": "2022-10-05T17:15:30.974462Z",
     "iopub.status.busy": "2022-10-05T17:15:30.974313Z",
     "iopub.status.idle": "2022-10-05T17:15:31.008455Z",
     "shell.execute_reply": "2022-10-05T17:15:31.007300Z",
     "shell.execute_reply.started": "2022-10-05T17:15:30.974450Z"
    },
    "tags": []
   },
   "outputs": [],
   "source": [
    "from tsdm.encoders import *\n",
    "\n",
    "encoder = Frame2Tensor() @ FrameEncoder(\n",
    "    Standardizer() @ FloatEncoder(), index_encoders=MinMaxScaler() @ TimeDeltaEncoder()\n",
    ")\n",
    "# encoder = TensorEncoder() @ FloatEncoder()\n",
    "encoder.fit(s)"
   ]
  },
  {
   "cell_type": "code",
   "execution_count": null,
   "id": "00299536-604a-43c4-a98d-8c78fd57f60c",
   "metadata": {
    "execution": {
     "iopub.execute_input": "2022-10-05T17:15:31.010119Z",
     "iopub.status.busy": "2022-10-05T17:15:31.009849Z",
     "iopub.status.idle": "2022-10-05T17:15:31.013590Z",
     "shell.execute_reply": "2022-10-05T17:15:31.013161Z",
     "shell.execute_reply.started": "2022-10-05T17:15:31.010108Z"
    },
    "tags": []
   },
   "outputs": [],
   "source": [
    "observables = [\"Base\", \"DOT\", \"Glucose\", \"OD600\", \"Acetate\", \"Fluo_GFP\", \"Volume\", \"pH\"]\n",
    "controls = [\n",
    "    \"Cumulated_feed_volume_glucose\",\n",
    "    \"Cumulated_feed_volume_medium\",\n",
    "    \"InducerConcentration\",\n",
    "    \"StirringSpeed\",\n",
    "    \"Flow_Air\",\n",
    "    \"Temperature\",\n",
    "    \"Probe_Volume\",\n",
    "]"
   ]
  },
  {
   "cell_type": "code",
   "execution_count": null,
   "id": "3f1410ec-64be-4167-8c74-bbd6e7ce1a16",
   "metadata": {
    "execution": {
     "iopub.execute_input": "2022-10-05T17:18:00.218886Z",
     "iopub.status.busy": "2022-10-05T17:18:00.218383Z",
     "iopub.status.idle": "2022-10-05T17:18:00.228883Z",
     "shell.execute_reply": "2022-10-05T17:18:00.227490Z",
     "shell.execute_reply.started": "2022-10-05T17:18:00.218851Z"
    },
    "tags": []
   },
   "outputs": [],
   "source": [
    "total_horizon = slice(np.timedelta64(3, \"h\"), np.timedelta64(9, \"h\"))\n",
    "observation_horizon = slice(np.timedelta64(3, \"h\"), np.timedelta64(9, \"h\"))\n",
    "forecasting_horizon = slice(np.timedelta64(6, \"h\"), np.timedelta64(9, \"h\"))"
   ]
  },
  {
   "cell_type": "code",
   "execution_count": null,
   "id": "67d390f7-f846-4e50-827b-f89563ab2b05",
   "metadata": {
    "execution": {
     "iopub.execute_input": "2022-10-05T17:18:04.231095Z",
     "iopub.status.busy": "2022-10-05T17:18:04.230573Z",
     "iopub.status.idle": "2022-10-05T17:18:04.268752Z",
     "shell.execute_reply": "2022-10-05T17:18:04.267649Z",
     "shell.execute_reply.started": "2022-10-05T17:18:04.231050Z"
    },
    "tags": []
   },
   "outputs": [],
   "source": [
    "inputs = s.loc[total_horizon].copy()\n",
    "inputs.loc[forecasting_horizon, observables] = float(\"nan\")\n",
    "\n",
    "inputs"
   ]
  },
  {
   "cell_type": "code",
   "execution_count": null,
   "id": "e8f61346-daa3-49dc-aff4-cc50541cec7b",
   "metadata": {},
   "outputs": [],
   "source": []
  },
  {
   "cell_type": "code",
   "execution_count": null,
   "id": "e167064e-6368-4599-b53b-171bd92dc910",
   "metadata": {
    "execution": {
     "iopub.execute_input": "2022-10-05T17:18:05.417210Z",
     "iopub.status.busy": "2022-10-05T17:18:05.416716Z",
     "iopub.status.idle": "2022-10-05T17:18:05.924859Z",
     "shell.execute_reply": "2022-10-05T17:18:05.924544Z",
     "shell.execute_reply.started": "2022-10-05T17:18:05.417176Z"
    },
    "tags": []
   },
   "outputs": [],
   "source": [
    "T, X = encoder.encode(inputs)\n",
    "\n",
    "Xhat = model(T, X)\n",
    "\n",
    "predictions = encoder.decode((T, Xhat))"
   ]
  },
  {
   "cell_type": "markdown",
   "id": "79dbebb5-2a77-442c-a4b6-427807288ed0",
   "metadata": {},
   "source": [
    "# Make a Prediction with the model"
   ]
  },
  {
   "cell_type": "code",
   "execution_count": null,
   "id": "c2547fc1-1de7-43c3-8735-ead4292aa30d",
   "metadata": {
    "execution": {
     "iopub.execute_input": "2022-10-05T17:18:06.520449Z",
     "iopub.status.busy": "2022-10-05T17:18:06.519900Z",
     "iopub.status.idle": "2022-10-05T17:18:06.527797Z",
     "shell.execute_reply": "2022-10-05T17:18:06.526644Z",
     "shell.execute_reply.started": "2022-10-05T17:18:06.520408Z"
    },
    "tags": []
   },
   "outputs": [],
   "source": [
    "%matplotlib inline"
   ]
  },
  {
   "cell_type": "code",
   "execution_count": null,
   "id": "48e17303-55a5-495b-8154-6d1f2ee963dd",
   "metadata": {
    "execution": {
     "iopub.execute_input": "2022-10-05T17:18:07.013170Z",
     "iopub.status.busy": "2022-10-05T17:18:07.012894Z",
     "iopub.status.idle": "2022-10-05T17:18:07.140748Z",
     "shell.execute_reply": "2022-10-05T17:18:07.140372Z",
     "shell.execute_reply.started": "2022-10-05T17:18:07.013156Z"
    },
    "tags": []
   },
   "outputs": [],
   "source": [
    "fig, ax = plt.subplots(constrained_layout=True)\n",
    "\n",
    "T = s.index.to_numpy() / np.timedelta64(1, \"h\")\n",
    "\n",
    "T2 = predictions.index.to_numpy() / np.timedelta64(1, \"h\")\n",
    "\n",
    "ax.plot(T, s[\"DOT\"], \".b\", label=\"DOT\")\n",
    "ax.plot(T2, predictions[\"DOT\"], \"-r\", label=\"DOT\")\n",
    "\n",
    "# ax.xaxis.set_major_formatter(formatter)\n",
    "ax.legend()"
   ]
  },
  {
   "cell_type": "markdown",
   "id": "5c2a4d15-ea88-4c11-8bd6-c4cd84a42b42",
   "metadata": {
    "tags": []
   },
   "source": [
    "# What can models do?"
   ]
  },
  {
   "cell_type": "code",
   "execution_count": null,
   "id": "4aa2ccc6-7919-49c4-ac2c-176f211f4e76",
   "metadata": {
    "execution": {
     "iopub.status.busy": "2022-10-05T17:15:32.754878Z",
     "iopub.status.idle": "2022-10-05T17:15:32.755307Z",
     "shell.execute_reply": "2022-10-05T17:15:32.755187Z",
     "shell.execute_reply.started": "2022-10-05T17:15:32.755175Z"
    }
   },
   "outputs": [],
   "source": [
    "Level 1: Simple forecasting model\n",
    "Level 2: Probabilistic forecasting model\n",
    "Level 3: Forecast across datasets\n",
    "Level 4:"
   ]
  },
  {
   "cell_type": "code",
   "execution_count": null,
   "id": "cfe29406-7948-4e06-b1a6-f3745bdb3d62",
   "metadata": {},
   "outputs": [],
   "source": []
  },
  {
   "cell_type": "code",
   "execution_count": null,
   "id": "1d533b95-ead2-4d71-ab2a-d77375a74030",
   "metadata": {},
   "outputs": [],
   "source": []
  },
  {
   "cell_type": "markdown",
   "id": "055a05d9-bc0f-41fd-a2a1-816870f26a26",
   "metadata": {},
   "source": [
    "## What would be nice to have?\n",
    "\n",
    "- Data Collection\n",
    "    - Delayed measurements should come with 2 timestamps. (When was sample collected, when was value recorded)\n",
    "- Data Validation\n",
    "    - Categories instead of strings\n",
    "    - Nullable datatypes for missing values (avoid using e.g. -999 as representation for missing value) \n",
    "    - Timedeltas and Datetimes\n",
    "- Data Annotation - Adding Expert Knowledge\n",
    "    - Biologically plausible minimal / maximal values possible\n",
    "- Model database"
   ]
  },
  {
   "cell_type": "markdown",
   "id": "92caa8d2-5003-436c-b22b-8449547c0218",
   "metadata": {},
   "source": [
    "# Types of temporal data"
   ]
  },
  {
   "cell_type": "code",
   "execution_count": null,
   "id": "d02e12a2-4de9-4232-ab97-4dc8dd216a97",
   "metadata": {
    "execution": {
     "iopub.status.busy": "2022-10-05T17:15:32.755992Z",
     "iopub.status.idle": "2022-10-05T17:15:32.756329Z",
     "shell.execute_reply": "2022-10-05T17:15:32.756223Z",
     "shell.execute_reply.started": "2022-10-05T17:15:32.756213Z"
    },
    "tags": []
   },
   "outputs": [],
   "source": [
    "%%latex\n",
    "\\begin{table}[H]\n",
    "\\centering\n",
    "\\begin{tabular}{lccc}\n",
    "   data       & obs.-horizon & pred.-horizon & predicted %\n",
    "\\\\ \\midrule\n",
    "   $X$        & {\\color{DarkGreen} ✔} & {\\color{Crimson} ✘}   & {\\color{Crimson} ✘}    %\n",
    "\\\\ $U$        & {\\color{DarkGreen} ✔} & {\\color{DarkGreen} ✔} & {\\color{Crimson} ✘}    %\n",
    "\\\\ $Y^{auto}$ & {\\color{DarkGreen} ✔} & {\\color{Crimson} ✘}   & {\\color{DarkGreen} ✔}  %\n",
    "\\\\ $Y^{pred}$ & {\\color{Crimson} ✘}   & {\\color{Crimson} ✘}   & {\\color{DarkGreen} ✔}  %\n",
    "\\end{tabular}\n",
    "\\end{table}"
   ]
  },
  {
   "cell_type": "code",
   "execution_count": null,
   "id": "fcb8c4f2-1944-45c4-8f7e-4762039ca0c2",
   "metadata": {},
   "outputs": [],
   "source": []
  }
 ],
 "metadata": {
  "kernelspec": {
   "display_name": "Python 3 (ipykernel)",
   "language": "python",
   "name": "python3"
  },
  "language_info": {
   "codemirror_mode": {
    "name": "ipython",
    "version": 3
   },
   "file_extension": ".py",
   "mimetype": "text/x-python",
   "name": "python",
   "nbconvert_exporter": "python",
   "pygments_lexer": "ipython3",
   "version": "3.10.6"
  }
 },
 "nbformat": 4,
 "nbformat_minor": 5
}
