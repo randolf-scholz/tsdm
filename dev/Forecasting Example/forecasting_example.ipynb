{
 "cells": [
  {
   "cell_type": "code",
   "execution_count": null,
   "id": "96a4397c-48fa-4cc2-ba4a-d4407951371d",
   "metadata": {
    "execution": {
     "iopub.execute_input": "2022-10-05T15:31:15.062654Z",
     "iopub.status.busy": "2022-10-05T15:31:15.062544Z",
     "iopub.status.idle": "2022-10-05T15:31:15.376972Z",
     "shell.execute_reply": "2022-10-05T15:31:15.376478Z",
     "shell.execute_reply.started": "2022-10-05T15:31:15.062623Z"
    },
    "tags": []
   },
   "outputs": [],
   "source": [
    "%config InteractiveShell.ast_node_interactivity='last_expr_or_assign'  # always print last expr.\n",
    "%config InlineBackend.figure_format = 'svg'\n",
    "%matplotlib inline"
   ]
  },
  {
   "cell_type": "code",
   "execution_count": null,
   "id": "e0281848-5e12-46fe-9dbf-e90aec92ec4c",
   "metadata": {
    "execution": {
     "iopub.execute_input": "2022-10-05T15:31:15.377784Z",
     "iopub.status.busy": "2022-10-05T15:31:15.377634Z",
     "iopub.status.idle": "2022-10-05T15:31:15.763122Z",
     "shell.execute_reply": "2022-10-05T15:31:15.762706Z",
     "shell.execute_reply.started": "2022-10-05T15:31:15.377774Z"
    },
    "tags": []
   },
   "outputs": [],
   "source": [
    "import warnings\n",
    "\n",
    "from torchinfo import summary\n",
    "\n",
    "warnings.filterwarnings(action=\"ignore\", category=UserWarning, module=\"tsdm\")"
   ]
  },
  {
   "cell_type": "markdown",
   "id": "a2d0f73d-dbe7-4fd2-975b-f55a73cb6155",
   "metadata": {},
   "source": [
    "# Load 𝗧ime 𝗦eries 𝗗atasets & 𝗠odels (𝚝𝚜𝚍𝚖)"
   ]
  },
  {
   "cell_type": "code",
   "execution_count": null,
   "id": "1800b571-645b-41eb-b6cd-a33b5f91d7c4",
   "metadata": {
    "execution": {
     "iopub.execute_input": "2022-10-05T16:53:49.300217Z",
     "iopub.status.busy": "2022-10-05T16:53:49.299523Z",
     "iopub.status.idle": "2022-10-05T16:53:50.599249Z",
     "shell.execute_reply": "2022-10-05T16:53:50.598837Z",
     "shell.execute_reply.started": "2022-10-05T16:53:49.300095Z"
    },
    "tags": []
   },
   "outputs": [],
   "source": [
    "import tsdm"
   ]
  },
  {
   "cell_type": "markdown",
   "id": "202520a9-4840-468d-ba5a-fe2e6052e800",
   "metadata": {},
   "source": [
    "## Time Series Datasets\n",
    "\n",
    "### A **time series** is a tuple $D = (𝐓𝐒, M)$\n",
    "\n",
    "- Time-indexed data $𝐓𝐒=\\{(tᵢ, vᵢ)∣i=1…n\\}$\n",
    "  - timestamps $t∈𝓣$, values $v∈𝓥$\n",
    "- Time-independent metadata $M∈𝓜$\n",
    "\n",
    "\n",
    "### A **time series collection** is a tuple $C = (I,S,G)$ consisting of\n",
    "\n",
    "- Index $I⊆𝓘$ (of id's)\n",
    "- Collection of timeseries $\\{Dᵢ=(𝐓𝐒ᵢ, Mᵢ) ∣ i∈𝓘，𝐓𝐒ᵢ∈(𝓣×𝓥)ᵢ^*， Mᵢ∈𝓜ᵢ\\}$\n",
    "- Index-independent Global data $G∈𝓖$\n",
    "- If $𝓣ᵢ=𝓣$, $𝓥ᵢ=𝓥$ and $𝓜ᵢ=𝓜$ ⟶ **equimodal**"
   ]
  },
  {
   "cell_type": "markdown",
   "id": "ed2fc415-2ab4-4fad-b20b-d3a013e95abd",
   "metadata": {},
   "source": [
    "## Examples\n",
    "\n",
    "1. Clinical data:\n",
    "    - index $𝓘$: patient / admission id\n",
    "    - metadata $M_i$: patient metadata (age, sex, preconditions, ...)\n",
    "    - values $V_i$: measured data (heart rate, blood pressure, etc.) \n",
    "    - globals $G$: units of measurement, measurement devices used, etc.\n",
    "    \n",
    "2. Bioreactor data\n",
    "    - index $𝓘$: experiment / run id\n",
    "    - metadata $M_i$: bacterial stem used, reactor size, reactor type\n",
    "    - values $V_i$: measured data (O₂-, Glucose-, Acetate- concentration, stirring speed) \n",
    "    - globals $G$: units of measurement, measurement devices used, etc. "
   ]
  },
  {
   "cell_type": "markdown",
   "id": "9329d676-9aa9-4c05-85bc-17f38e6d97f0",
   "metadata": {},
   "source": [
    "# Load the dataset"
   ]
  },
  {
   "cell_type": "code",
   "execution_count": null,
   "id": "58b7f6d7",
   "metadata": {
    "execution": {
     "iopub.execute_input": "2022-10-05T16:53:50.600042Z",
     "iopub.status.busy": "2022-10-05T16:53:50.599798Z",
     "iopub.status.idle": "2022-10-05T16:53:50.675056Z",
     "shell.execute_reply": "2022-10-05T16:53:50.674695Z",
     "shell.execute_reply.started": "2022-10-05T16:53:50.600032Z"
    },
    "tags": []
   },
   "outputs": [],
   "source": [
    "from tsdm.datasets import KIWI_RUNS\n",
    "\n",
    "dataset = KIWI_RUNS()"
   ]
  },
  {
   "cell_type": "code",
   "execution_count": null,
   "id": "d695b42b",
   "metadata": {
    "execution": {
     "iopub.execute_input": "2022-10-05T16:53:50.675615Z",
     "iopub.status.busy": "2022-10-05T16:53:50.675464Z",
     "iopub.status.idle": "2022-10-05T16:53:50.677879Z",
     "shell.execute_reply": "2022-10-05T16:53:50.677608Z",
     "shell.execute_reply.started": "2022-10-05T16:53:50.675604Z"
    },
    "tags": []
   },
   "outputs": [],
   "source": [
    "ts = dataset.timeseries"
   ]
  },
  {
   "cell_type": "code",
   "execution_count": null,
   "id": "65a7a870-06fc-458d-86b8-9c961a47d280",
   "metadata": {
    "execution": {
     "iopub.execute_input": "2022-10-05T16:53:50.699503Z",
     "iopub.status.busy": "2022-10-05T16:53:50.699219Z",
     "iopub.status.idle": "2022-10-05T16:53:50.702161Z",
     "shell.execute_reply": "2022-10-05T16:53:50.701795Z",
     "shell.execute_reply.started": "2022-10-05T16:53:50.699489Z"
    },
    "tags": []
   },
   "outputs": [],
   "source": [
    "md = dataset.metadata"
   ]
  },
  {
   "cell_type": "code",
   "execution_count": null,
   "id": "90b01958-d75e-4d4f-be63-a11f98535e25",
   "metadata": {
    "execution": {
     "iopub.execute_input": "2022-10-05T16:53:51.452850Z",
     "iopub.status.busy": "2022-10-05T16:53:51.452315Z",
     "iopub.status.idle": "2022-10-05T16:53:51.492146Z",
     "shell.execute_reply": "2022-10-05T16:53:51.491003Z",
     "shell.execute_reply.started": "2022-10-05T16:53:51.452813Z"
    },
    "tags": []
   },
   "outputs": [],
   "source": [
    "dataset.units"
   ]
  },
  {
   "cell_type": "markdown",
   "id": "9cde895f-ea80-4813-ae58-f7752915f2c0",
   "metadata": {},
   "source": [
    "# Load the model & encoder\n",
    "\n",
    "Preliminary API, ideally should be replaced with a database lookup.\n",
    "\n",
    "⇝ Encoder depends both on model and dataset.\n",
    "\n",
    "tags: model, dataset, fold, epoch, hyperparameters"
   ]
  },
  {
   "cell_type": "code",
   "execution_count": null,
   "id": "223e7bae-646b-4cfc-affc-6d7c94ec8f67",
   "metadata": {
    "execution": {
     "iopub.execute_input": "2022-10-05T15:31:21.710086Z",
     "iopub.status.busy": "2022-10-05T15:31:21.709530Z",
     "iopub.status.idle": "2022-10-05T15:31:21.716715Z",
     "shell.execute_reply": "2022-10-05T15:31:21.714947Z",
     "shell.execute_reply.started": "2022-10-05T15:31:21.710047Z"
    },
    "tags": []
   },
   "outputs": [],
   "source": [
    "import tsdm"
   ]
  },
  {
   "cell_type": "code",
   "execution_count": null,
   "id": "5967891e-672d-40c6-b4d5-0bf560889be5",
   "metadata": {
    "execution": {
     "iopub.execute_input": "2022-10-05T15:31:22.242552Z",
     "iopub.status.busy": "2022-10-05T15:31:22.242024Z",
     "iopub.status.idle": "2022-10-05T15:31:31.215845Z",
     "shell.execute_reply": "2022-10-05T15:31:31.215390Z",
     "shell.execute_reply.started": "2022-10-05T15:31:22.242517Z"
    },
    "tags": []
   },
   "outputs": [],
   "source": [
    "from torchinfo import summary\n",
    "\n",
    "from tsdm.models.pretrained import LinODEnet\n",
    "\n",
    "model = LinODEnet()\n",
    "summary(model)"
   ]
  },
  {
   "cell_type": "code",
   "execution_count": null,
   "id": "0900809b-4665-48b6-a0b5-0f47b9239aaa",
   "metadata": {},
   "outputs": [],
   "source": []
  },
  {
   "cell_type": "markdown",
   "id": "60aef8c5-ae99-4c65-a55d-4a9600c656df",
   "metadata": {},
   "source": [
    "## Make a prediction"
   ]
  },
  {
   "cell_type": "code",
   "execution_count": null,
   "id": "6e5262c4-11e2-4b4a-8c57-30deae16ac81",
   "metadata": {
    "execution": {
     "iopub.execute_input": "2022-10-05T16:53:58.531915Z",
     "iopub.status.busy": "2022-10-05T16:53:58.531428Z",
     "iopub.status.idle": "2022-10-05T16:53:58.551131Z",
     "shell.execute_reply": "2022-10-05T16:53:58.550821Z",
     "shell.execute_reply.started": "2022-10-05T16:53:58.531882Z"
    },
    "tags": []
   },
   "outputs": [],
   "source": [
    "ts"
   ]
  },
  {
   "cell_type": "code",
   "execution_count": null,
   "id": "ff275b09-146f-461e-9964-a0cb2636bf21",
   "metadata": {
    "execution": {
     "iopub.execute_input": "2022-10-05T16:53:59.008923Z",
     "iopub.status.busy": "2022-10-05T16:53:59.008425Z",
     "iopub.status.idle": "2022-10-05T16:53:59.014938Z",
     "shell.execute_reply": "2022-10-05T16:53:59.013663Z",
     "shell.execute_reply.started": "2022-10-05T16:53:59.008888Z"
    },
    "tags": []
   },
   "outputs": [],
   "source": [
    "key = (run_id, experiment_id) = (510, 16871)"
   ]
  },
  {
   "cell_type": "code",
   "execution_count": null,
   "id": "7e7b79fa-621d-4dee-9594-fb4889aba60b",
   "metadata": {
    "execution": {
     "iopub.execute_input": "2022-10-05T16:59:39.694744Z",
     "iopub.status.busy": "2022-10-05T16:59:39.694269Z",
     "iopub.status.idle": "2022-10-05T16:59:39.714268Z",
     "shell.execute_reply": "2022-10-05T16:59:39.713781Z",
     "shell.execute_reply.started": "2022-10-05T16:59:39.694709Z"
    },
    "tags": []
   },
   "outputs": [],
   "source": [
    "s = ts.loc[key].astype(float)\n",
    "s"
   ]
  },
  {
   "cell_type": "code",
   "execution_count": null,
   "id": "b11b6938-bbcf-4d1b-93b9-f8b8c0ba9106",
   "metadata": {
    "execution": {
     "iopub.execute_input": "2022-10-05T17:04:39.501485Z",
     "iopub.status.busy": "2022-10-05T17:04:39.501064Z",
     "iopub.status.idle": "2022-10-05T17:04:39.533521Z",
     "shell.execute_reply": "2022-10-05T17:04:39.532051Z",
     "shell.execute_reply.started": "2022-10-05T17:04:39.501452Z"
    },
    "tags": []
   },
   "outputs": [],
   "source": [
    "from tsdm.encoders import *\n",
    "\n",
    "encoder = Frame2Tensor() @ FrameEncoder(\n",
    "    Standardizer() @ FloatEncoder(), index_encoders=MinMaxScaler() @ TimeDeltaEncoder()\n",
    ")\n",
    "# encoder = TensorEncoder() @ FloatEncoder()\n",
    "encoder.fit(s)"
   ]
  },
  {
   "cell_type": "code",
   "execution_count": null,
   "id": "00299536-604a-43c4-a98d-8c78fd57f60c",
   "metadata": {
    "execution": {
     "iopub.execute_input": "2022-10-05T17:07:34.611889Z",
     "iopub.status.busy": "2022-10-05T17:07:34.611396Z",
     "iopub.status.idle": "2022-10-05T17:07:34.618810Z",
     "shell.execute_reply": "2022-10-05T17:07:34.617348Z",
     "shell.execute_reply.started": "2022-10-05T17:07:34.611855Z"
    }
   },
   "outputs": [],
   "source": [
    "observables = [\"Base\", \"DOT\", \"Glucose\", \"OD600\", \"Acetate\", \"Fluo_GFP\", \"Volume\", \"pH\"]\n",
    "controls = [\n",
    "    \"Cumulated_feed_volume_glucose\",\n",
    "    \"Cumulated_feed_volume_medium\",\n",
    "    \"InducerConcentration\",\n",
    "    \"StirringSpeed\",\n",
    "    \"Flow_Air\",\n",
    "    \"Temperature\",\n",
    "    \"Probe_Volume\",\n",
    "]"
   ]
  },
  {
   "cell_type": "code",
   "execution_count": null,
   "id": "3f1410ec-64be-4167-8c74-bbd6e7ce1a16",
   "metadata": {
    "execution": {
     "iopub.execute_input": "2022-10-05T17:08:55.310186Z",
     "iopub.status.busy": "2022-10-05T17:08:55.309721Z",
     "iopub.status.idle": "2022-10-05T17:08:55.316662Z",
     "shell.execute_reply": "2022-10-05T17:08:55.315172Z",
     "shell.execute_reply.started": "2022-10-05T17:08:55.310151Z"
    }
   },
   "outputs": [],
   "source": [
    "total_horizon = slice(None, np.timedelta64(6, \"h\"))\n",
    "observation_horizon = slice(np.timedelta64(0, \"h\"), np.timedelta64(6, \"h\"))\n",
    "forecasting_horizon = slice(np.timedelta64(3, \"h\"), np.timedelta64(6, \"h\"))"
   ]
  },
  {
   "cell_type": "code",
   "execution_count": null,
   "id": "67d390f7-f846-4e50-827b-f89563ab2b05",
   "metadata": {
    "execution": {
     "iopub.execute_input": "2022-10-05T17:08:58.917611Z",
     "iopub.status.busy": "2022-10-05T17:08:58.917159Z",
     "iopub.status.idle": "2022-10-05T17:08:58.941316Z",
     "shell.execute_reply": "2022-10-05T17:08:58.940971Z",
     "shell.execute_reply.started": "2022-10-05T17:08:58.917577Z"
    },
    "tags": []
   },
   "outputs": [],
   "source": [
    "inputs = s.loc[total_horizon].copy()\n",
    "inputs.loc[forecasting_horizon, observables] = float(\"nan\")\n",
    "\n",
    "inputs"
   ]
  },
  {
   "cell_type": "code",
   "execution_count": null,
   "id": "e167064e-6368-4599-b53b-171bd92dc910",
   "metadata": {
    "execution": {
     "iopub.execute_input": "2022-10-05T17:09:14.864956Z",
     "iopub.status.busy": "2022-10-05T17:09:14.864454Z",
     "iopub.status.idle": "2022-10-05T17:09:14.882208Z",
     "shell.execute_reply": "2022-10-05T17:09:14.881168Z",
     "shell.execute_reply.started": "2022-10-05T17:09:14.864919Z"
    },
    "tags": []
   },
   "outputs": [],
   "source": [
    "T, X = encoder.encode(inputs)"
   ]
  },
  {
   "cell_type": "code",
   "execution_count": null,
   "id": "791c7c1c-46d4-497f-ac00-942830e0fed2",
   "metadata": {},
   "outputs": [],
   "source": []
  },
  {
   "cell_type": "markdown",
   "id": "79dbebb5-2a77-442c-a4b6-427807288ed0",
   "metadata": {},
   "source": [
    "# Make a Prediction with the model"
   ]
  },
  {
   "cell_type": "code",
   "execution_count": null,
   "id": "3394ed27-1ba9-4f80-924c-a4a3ac95488e",
   "metadata": {
    "execution": {
     "iopub.execute_input": "2022-10-05T16:58:19.481479Z",
     "iopub.status.busy": "2022-10-05T16:58:19.481004Z",
     "iopub.status.idle": "2022-10-05T16:58:19.487255Z",
     "shell.execute_reply": "2022-10-05T16:58:19.485978Z",
     "shell.execute_reply.started": "2022-10-05T16:58:19.481448Z"
    }
   },
   "outputs": [],
   "source": [
    "import matplotlib.pyplot as plt"
   ]
  },
  {
   "cell_type": "code",
   "execution_count": null,
   "id": "c2547fc1-1de7-43c3-8735-ead4292aa30d",
   "metadata": {
    "execution": {
     "iopub.execute_input": "2022-10-05T16:59:56.357116Z",
     "iopub.status.busy": "2022-10-05T16:59:56.356571Z",
     "iopub.status.idle": "2022-10-05T16:59:56.368924Z",
     "shell.execute_reply": "2022-10-05T16:59:56.367426Z",
     "shell.execute_reply.started": "2022-10-05T16:59:56.357076Z"
    }
   },
   "outputs": [],
   "source": [
    "%matplotlib inline"
   ]
  },
  {
   "cell_type": "code",
   "execution_count": null,
   "id": "a34e20ed-be60-4837-9a35-2243d55a8ed2",
   "metadata": {
    "execution": {
     "iopub.execute_input": "2022-10-05T17:01:38.122742Z",
     "iopub.status.busy": "2022-10-05T17:01:38.122238Z",
     "iopub.status.idle": "2022-10-05T17:01:38.131359Z",
     "shell.execute_reply": "2022-10-05T17:01:38.129845Z",
     "shell.execute_reply.started": "2022-10-05T17:01:38.122708Z"
    },
    "tags": []
   },
   "outputs": [],
   "source": [
    "s.index.to_numpy()"
   ]
  },
  {
   "cell_type": "code",
   "execution_count": null,
   "id": "6de2e190-60d2-423c-92d3-e694e70a6552",
   "metadata": {
    "execution": {
     "iopub.execute_input": "2022-10-05T17:04:05.877643Z",
     "iopub.status.busy": "2022-10-05T17:04:05.877192Z",
     "iopub.status.idle": "2022-10-05T17:04:05.885868Z",
     "shell.execute_reply": "2022-10-05T17:04:05.884429Z",
     "shell.execute_reply.started": "2022-10-05T17:04:05.877608Z"
    },
    "tags": []
   },
   "outputs": [],
   "source": [
    "import datetime\n",
    "\n",
    "import matplotlib\n",
    "import numpy as np\n",
    "\n",
    "\n",
    "def timeTicks(x, pos):\n",
    "    d = datetime.timedelta(minutes=x)\n",
    "    return str(d)\n",
    "\n",
    "\n",
    "formatter = matplotlib.ticker.FuncFormatter(timeTicks)"
   ]
  },
  {
   "cell_type": "code",
   "execution_count": null,
   "id": "20a2d2c3-b497-4b52-ae35-b3e5b50539c1",
   "metadata": {},
   "outputs": [],
   "source": []
  },
  {
   "cell_type": "code",
   "execution_count": null,
   "id": "48e17303-55a5-495b-8154-6d1f2ee963dd",
   "metadata": {
    "execution": {
     "iopub.execute_input": "2022-10-05T17:04:12.533661Z",
     "iopub.status.busy": "2022-10-05T17:04:12.533191Z",
     "iopub.status.idle": "2022-10-05T17:04:14.642803Z",
     "shell.execute_reply": "2022-10-05T17:04:14.642411Z",
     "shell.execute_reply.started": "2022-10-05T17:04:12.533626Z"
    },
    "tags": []
   },
   "outputs": [],
   "source": [
    "fig, ax = plt.subplots(constrained_layout=True)\n",
    "\n",
    "T = s.index.to_numpy() / np.timedelta64(1, \"h\")\n",
    "\n",
    "ax.plot(T, s[\"DOT\"], \".b\", label=\"DOT\")\n",
    "# ax.xaxis.set_major_formatter(formatter)\n",
    "ax.legend()"
   ]
  },
  {
   "cell_type": "markdown",
   "id": "5c2a4d15-ea88-4c11-8bd6-c4cd84a42b42",
   "metadata": {
    "tags": []
   },
   "source": [
    "# What can models do?"
   ]
  },
  {
   "cell_type": "code",
   "execution_count": null,
   "id": "4aa2ccc6-7919-49c4-ac2c-176f211f4e76",
   "metadata": {
    "execution": {
     "iopub.status.busy": "2022-10-05T11:08:12.737586Z",
     "iopub.status.idle": "2022-10-05T11:08:12.737719Z",
     "shell.execute_reply": "2022-10-05T11:08:12.737661Z",
     "shell.execute_reply.started": "2022-10-05T11:08:12.737655Z"
    }
   },
   "outputs": [],
   "source": [
    "Level 1: Simple forecasting model\n",
    "Level 2: Probabilistic forecasting model\n",
    "Level 3: Forecast across datasets\n",
    "Level 4:"
   ]
  },
  {
   "cell_type": "code",
   "execution_count": null,
   "id": "cfe29406-7948-4e06-b1a6-f3745bdb3d62",
   "metadata": {},
   "outputs": [],
   "source": []
  },
  {
   "cell_type": "code",
   "execution_count": null,
   "id": "1d533b95-ead2-4d71-ab2a-d77375a74030",
   "metadata": {},
   "outputs": [],
   "source": []
  },
  {
   "cell_type": "markdown",
   "id": "055a05d9-bc0f-41fd-a2a1-816870f26a26",
   "metadata": {},
   "source": [
    "## What would be nice to have?\n",
    "\n",
    "- Data Collection\n",
    "    - Delayed measurements should come with 2 timestamps. (When was sample collected, when was value recorded)\n",
    "- Data Validation\n",
    "    - Categories instead of strings\n",
    "    - Nullable datatypes for missing values (avoid using e.g. -999 as representation for missing value) \n",
    "    - Timedeltas and Datetimes\n",
    "- Data Annotation - Adding Expert Knowledge\n",
    "    - Biologically plausible minimal / maximal values possible\n",
    "- Model database"
   ]
  },
  {
   "cell_type": "markdown",
   "id": "92caa8d2-5003-436c-b22b-8449547c0218",
   "metadata": {},
   "source": [
    "# Types of temporal data"
   ]
  },
  {
   "cell_type": "code",
   "execution_count": null,
   "id": "d02e12a2-4de9-4232-ab97-4dc8dd216a97",
   "metadata": {
    "execution": {
     "iopub.status.busy": "2022-10-05T11:08:12.738174Z",
     "iopub.status.idle": "2022-10-05T11:08:12.738299Z",
     "shell.execute_reply": "2022-10-05T11:08:12.738244Z",
     "shell.execute_reply.started": "2022-10-05T11:08:12.738238Z"
    },
    "tags": []
   },
   "outputs": [],
   "source": [
    "%%latex\n",
    "\\begin{table}[H]\n",
    "\\centering\n",
    "\\begin{tabular}{lccc}\n",
    "   data       & obs.-horizon & pred.-horizon & predicted %\n",
    "\\\\ \\midrule\n",
    "   $X$        & {\\color{DarkGreen} ✔} & {\\color{Crimson} ✘}   & {\\color{Crimson} ✘}    %\n",
    "\\\\ $U$        & {\\color{DarkGreen} ✔} & {\\color{DarkGreen} ✔} & {\\color{Crimson} ✘}    %\n",
    "\\\\ $Y^{auto}$ & {\\color{DarkGreen} ✔} & {\\color{Crimson} ✘}   & {\\color{DarkGreen} ✔}  %\n",
    "\\\\ $Y^{pred}$ & {\\color{Crimson} ✘}   & {\\color{Crimson} ✘}   & {\\color{DarkGreen} ✔}  %\n",
    "\\end{tabular}\n",
    "\\end{table}"
   ]
  },
  {
   "cell_type": "code",
   "execution_count": null,
   "id": "fcb8c4f2-1944-45c4-8f7e-4762039ca0c2",
   "metadata": {},
   "outputs": [],
   "source": []
  }
 ],
 "metadata": {
  "kernelspec": {
   "display_name": "Python 3 (ipykernel)",
   "language": "python",
   "name": "python3"
  },
  "language_info": {
   "codemirror_mode": {
    "name": "ipython",
    "version": 3
   },
   "file_extension": ".py",
   "mimetype": "text/x-python",
   "name": "python",
   "nbconvert_exporter": "python",
   "pygments_lexer": "ipython3",
   "version": "3.10.6"
  }
 },
 "nbformat": 4,
 "nbformat_minor": 5
}
