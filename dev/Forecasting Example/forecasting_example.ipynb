{
 "cells": [
  {
   "cell_type": "code",
   "execution_count": null,
   "id": "96a4397c-48fa-4cc2-ba4a-d4407951371d",
   "metadata": {
    "execution": {
     "iopub.execute_input": "2022-10-05T11:08:10.825311Z",
     "iopub.status.busy": "2022-10-05T11:08:10.825006Z",
     "iopub.status.idle": "2022-10-05T11:08:11.142768Z",
     "shell.execute_reply": "2022-10-05T11:08:11.142299Z",
     "shell.execute_reply.started": "2022-10-05T11:08:10.825275Z"
    },
    "tags": []
   },
   "outputs": [],
   "source": [
    "%config InteractiveShell.ast_node_interactivity='last_expr_or_assign'  # always print last expr.\n",
    "%config InlineBackend.figure_format = 'svg'\n",
    "%matplotlib inline"
   ]
  },
  {
   "cell_type": "code",
   "execution_count": null,
   "id": "e0281848-5e12-46fe-9dbf-e90aec92ec4c",
   "metadata": {
    "execution": {
     "iopub.execute_input": "2022-10-05T13:32:48.765675Z",
     "iopub.status.busy": "2022-10-05T13:32:48.764969Z",
     "iopub.status.idle": "2022-10-05T13:32:48.795526Z",
     "shell.execute_reply": "2022-10-05T13:32:48.793841Z",
     "shell.execute_reply.started": "2022-10-05T13:32:48.765602Z"
    },
    "tags": []
   },
   "outputs": [],
   "source": [
    "import warnings\n",
    "from torchinfo import summary\n",
    "\n",
    "warnings.filterwarnings(action=\"ignore\", category=UserWarning, module=\"tsdm\")"
   ]
  },
  {
   "cell_type": "markdown",
   "id": "a2d0f73d-dbe7-4fd2-975b-f55a73cb6155",
   "metadata": {},
   "source": [
    "# Load 𝗧ime 𝗦eries 𝗗atasets & 𝗠odels (𝚝𝚜𝚍𝚖)"
   ]
  },
  {
   "cell_type": "code",
   "execution_count": null,
   "id": "1800b571-645b-41eb-b6cd-a33b5f91d7c4",
   "metadata": {
    "execution": {
     "iopub.execute_input": "2022-10-05T11:08:11.147064Z",
     "iopub.status.busy": "2022-10-05T11:08:11.146965Z",
     "iopub.status.idle": "2022-10-05T11:08:12.177583Z",
     "shell.execute_reply": "2022-10-05T11:08:12.177160Z",
     "shell.execute_reply.started": "2022-10-05T11:08:11.147054Z"
    },
    "tags": []
   },
   "outputs": [],
   "source": [
    "import tsdm"
   ]
  },
  {
   "cell_type": "markdown",
   "id": "202520a9-4840-468d-ba5a-fe2e6052e800",
   "metadata": {},
   "source": [
    "## Time Series Datasets\n",
    "\n",
    "### A **time series** is a tuple $D = (𝐓𝐒, M)$\n",
    "\n",
    "- Time-indexed data $𝐓𝐒=\\{(tᵢ, vᵢ)∣i=1…n\\}$\n",
    "  - timestamps $t∈𝓣$, values $v∈𝓥$\n",
    "- Time-independent metadata $M∈𝓜$\n",
    "\n",
    "\n",
    "### A **time series collection** is a tuple $C = (I,S,G)$ consisting of\n",
    "\n",
    "- Index $I⊆𝓘$ (of id's)\n",
    "- Collection of timeseries $\\{Dᵢ=(𝐓𝐒ᵢ, Mᵢ) ∣ i∈𝓘，𝐓𝐒ᵢ∈(𝓣×𝓥)ᵢ^*， Mᵢ∈𝓜ᵢ\\}$\n",
    "- Index-independent Global data $G∈𝓖$\n",
    "- If $𝓣ᵢ=𝓣$, $𝓥ᵢ=𝓥$ and $𝓜ᵢ=𝓜$ ⟶ **equimodal**"
   ]
  },
  {
   "cell_type": "markdown",
   "id": "ed2fc415-2ab4-4fad-b20b-d3a013e95abd",
   "metadata": {},
   "source": [
    "## Examples\n",
    "\n",
    "1. Clinical data:\n",
    "    - index $𝓘$: patient / admission id\n",
    "    - metadata $M_i$: patient metadata (age, sex, preconditions, ...)\n",
    "    - values $V_i$: measured data (heart rate, blood pressure, etc.) \n",
    "    - globals $G$: units of measurement, measurement devices used, etc.\n",
    "    \n",
    "2. Bioreactor data\n",
    "    - index $𝓘$: experiment / run id\n",
    "    - metadata $M_i$: bacterial stem used, reactor size, reactor type\n",
    "    - values $V_i$: measured data (O₂-, Glucose-, Acetate- concentration, stirring speed) \n",
    "    - globals $G$: units of measurement, measurement devices used, etc. "
   ]
  },
  {
   "cell_type": "markdown",
   "id": "9329d676-9aa9-4c05-85bc-17f38e6d97f0",
   "metadata": {},
   "source": [
    "# Load the dataset"
   ]
  },
  {
   "cell_type": "code",
   "execution_count": null,
   "id": "58b7f6d7",
   "metadata": {
    "execution": {
     "iopub.execute_input": "2022-10-05T11:08:12.178250Z",
     "iopub.status.busy": "2022-10-05T11:08:12.178035Z",
     "iopub.status.idle": "2022-10-05T11:08:12.253586Z",
     "shell.execute_reply": "2022-10-05T11:08:12.253286Z",
     "shell.execute_reply.started": "2022-10-05T11:08:12.178239Z"
    },
    "tags": []
   },
   "outputs": [],
   "source": [
    "from tsdm.datasets import KIWI_RUNS\n",
    "\n",
    "dataset = KIWI_RUNS()"
   ]
  },
  {
   "cell_type": "code",
   "execution_count": null,
   "id": "d695b42b",
   "metadata": {
    "execution": {
     "iopub.execute_input": "2022-10-05T11:08:12.254228Z",
     "iopub.status.busy": "2022-10-05T11:08:12.254069Z",
     "iopub.status.idle": "2022-10-05T11:08:12.269230Z",
     "shell.execute_reply": "2022-10-05T11:08:12.268916Z",
     "shell.execute_reply.started": "2022-10-05T11:08:12.254216Z"
    },
    "tags": []
   },
   "outputs": [],
   "source": [
    "dataset.timeseries"
   ]
  },
  {
   "cell_type": "code",
   "execution_count": null,
   "id": "65a7a870-06fc-458d-86b8-9c961a47d280",
   "metadata": {
    "execution": {
     "iopub.execute_input": "2022-10-05T11:08:12.269829Z",
     "iopub.status.busy": "2022-10-05T11:08:12.269670Z",
     "iopub.status.idle": "2022-10-05T11:08:12.281300Z",
     "shell.execute_reply": "2022-10-05T11:08:12.280936Z",
     "shell.execute_reply.started": "2022-10-05T11:08:12.269818Z"
    },
    "tags": []
   },
   "outputs": [],
   "source": [
    "dataset.metadata"
   ]
  },
  {
   "cell_type": "code",
   "execution_count": null,
   "id": "90b01958-d75e-4d4f-be63-a11f98535e25",
   "metadata": {
    "execution": {
     "iopub.execute_input": "2022-10-05T11:08:12.282502Z",
     "iopub.status.busy": "2022-10-05T11:08:12.282282Z",
     "iopub.status.idle": "2022-10-05T11:08:12.294784Z",
     "shell.execute_reply": "2022-10-05T11:08:12.294476Z",
     "shell.execute_reply.started": "2022-10-05T11:08:12.282491Z"
    },
    "tags": []
   },
   "outputs": [],
   "source": [
    "dataset.units"
   ]
  },
  {
   "cell_type": "markdown",
   "id": "9cde895f-ea80-4813-ae58-f7752915f2c0",
   "metadata": {},
   "source": [
    "# Load the model & encoder\n",
    "\n",
    "Preliminary API, ideally should be replaced with a database lookup.\n",
    "\n",
    "⇝ Encoder depends both on model and dataset.\n",
    "\n",
    "tags: model, dataset, fold, epoch, hyperparameters"
   ]
  },
  {
   "cell_type": "code",
   "execution_count": null,
   "id": "223e7bae-646b-4cfc-affc-6d7c94ec8f67",
   "metadata": {
    "execution": {
     "iopub.execute_input": "2022-10-05T11:32:58.587819Z",
     "iopub.status.busy": "2022-10-05T11:32:58.587575Z",
     "iopub.status.idle": "2022-10-05T11:33:00.012316Z",
     "shell.execute_reply": "2022-10-05T11:33:00.011903Z",
     "shell.execute_reply.started": "2022-10-05T11:32:58.587760Z"
    },
    "tags": []
   },
   "outputs": [],
   "source": [
    "import logging\n",
    "\n",
    "logging.basicConfig(level=0)\n",
    "import tsdm"
   ]
  },
  {
   "cell_type": "code",
   "execution_count": null,
   "id": "f90126d1-1f04-46b2-8813-a58bb389f90c",
   "metadata": {
    "execution": {
     "iopub.execute_input": "2022-10-05T13:35:54.960484Z",
     "iopub.status.busy": "2022-10-05T13:35:54.960009Z",
     "iopub.status.idle": "2022-10-05T13:35:54.967709Z",
     "shell.execute_reply": "2022-10-05T13:35:54.967423Z",
     "shell.execute_reply.started": "2022-10-05T13:35:54.960449Z"
    },
    "tags": []
   },
   "outputs": [],
   "source": [
    "torch.device(\"cpu\")"
   ]
  },
  {
   "cell_type": "code",
   "execution_count": null,
   "id": "5967891e-672d-40c6-b4d5-0bf560889be5",
   "metadata": {
    "execution": {
     "iopub.execute_input": "2022-10-05T14:27:31.478971Z",
     "iopub.status.busy": "2022-10-05T14:27:31.478851Z",
     "iopub.status.idle": "2022-10-05T14:27:41.749342Z",
     "shell.execute_reply": "2022-10-05T14:27:41.749011Z",
     "shell.execute_reply.started": "2022-10-05T14:27:31.478936Z"
    },
    "tags": []
   },
   "outputs": [],
   "source": [
    "from tsdm.models.pretrained import LinODEnet\n",
    "from torchinfo import summary\n",
    "\n",
    "model = LinODEnet()\n",
    "summary(model)"
   ]
  },
  {
   "cell_type": "code",
   "execution_count": null,
   "id": "bd3fc3c4-9e55-4ceb-bdc8-1c5d964e97f3",
   "metadata": {
    "execution": {
     "iopub.execute_input": "2022-10-05T11:29:15.456059Z",
     "iopub.status.busy": "2022-10-05T11:29:15.455580Z",
     "iopub.status.idle": "2022-10-05T11:29:15.462014Z",
     "shell.execute_reply": "2022-10-05T11:29:15.460492Z",
     "shell.execute_reply.started": "2022-10-05T11:29:15.456024Z"
    }
   },
   "outputs": [],
   "source": [
    "from tsdm.utils.remote import download"
   ]
  },
  {
   "cell_type": "code",
   "execution_count": null,
   "id": "45e2167a-3f18-45e5-88cb-ef4f50822b06",
   "metadata": {
    "execution": {
     "iopub.status.busy": "2022-10-05T11:21:57.016947Z",
     "iopub.status.idle": "2022-10-05T11:21:57.017096Z",
     "shell.execute_reply": "2022-10-05T11:21:57.017031Z",
     "shell.execute_reply.started": "2022-10-05T11:21:57.017024Z"
    },
    "tags": []
   },
   "outputs": [],
   "source": [
    "encoder = LinODEnetEncoder()"
   ]
  },
  {
   "cell_type": "markdown",
   "id": "79dbebb5-2a77-442c-a4b6-427807288ed0",
   "metadata": {},
   "source": [
    "# Make a Prediction with the model"
   ]
  },
  {
   "cell_type": "code",
   "execution_count": null,
   "id": "52e3501e-e726-4348-bfa3-732824442d05",
   "metadata": {
    "execution": {
     "iopub.execute_input": "2022-10-05T14:14:46.230149Z",
     "iopub.status.busy": "2022-10-05T14:14:46.229605Z",
     "iopub.status.idle": "2022-10-05T14:14:46.235696Z",
     "shell.execute_reply": "2022-10-05T14:14:46.234807Z",
     "shell.execute_reply.started": "2022-10-05T14:14:46.230111Z"
    },
    "tags": []
   },
   "outputs": [],
   "source": [
    "from typing import IO\n",
    "import io"
   ]
  },
  {
   "cell_type": "code",
   "execution_count": null,
   "id": "23a199b5-5831-4281-8ee0-22713d33cded",
   "metadata": {},
   "outputs": [],
   "source": []
  },
  {
   "cell_type": "code",
   "execution_count": null,
   "id": "0d02d31a-c007-48ac-ad40-61598bf02745",
   "metadata": {
    "execution": {
     "iopub.execute_input": "2022-10-05T14:14:51.531866Z",
     "iopub.status.busy": "2022-10-05T14:14:51.531212Z",
     "iopub.status.idle": "2022-10-05T14:14:51.538070Z",
     "shell.execute_reply": "2022-10-05T14:14:51.537756Z",
     "shell.execute_reply.started": "2022-10-05T14:14:51.531825Z"
    },
    "tags": []
   },
   "outputs": [],
   "source": [
    "with open(\"rest\", \"w\") as file:\n",
    "    print(isinstance(file, io.IOBase))"
   ]
  },
  {
   "cell_type": "code",
   "execution_count": null,
   "id": "bf2ba16f-faff-45d3-9ca3-89adb355ae43",
   "metadata": {
    "execution": {
     "iopub.execute_input": "2022-10-05T14:13:31.253831Z",
     "iopub.status.busy": "2022-10-05T14:13:31.253251Z",
     "iopub.status.idle": "2022-10-05T14:13:31.261898Z",
     "shell.execute_reply": "2022-10-05T14:13:31.260472Z",
     "shell.execute_reply.started": "2022-10-05T14:13:31.253792Z"
    }
   },
   "outputs": [],
   "source": []
  },
  {
   "cell_type": "markdown",
   "id": "5c2a4d15-ea88-4c11-8bd6-c4cd84a42b42",
   "metadata": {},
   "source": [
    "# What can models do?"
   ]
  },
  {
   "cell_type": "code",
   "execution_count": null,
   "id": "4aa2ccc6-7919-49c4-ac2c-176f211f4e76",
   "metadata": {
    "execution": {
     "iopub.status.busy": "2022-10-05T11:08:12.737586Z",
     "iopub.status.idle": "2022-10-05T11:08:12.737719Z",
     "shell.execute_reply": "2022-10-05T11:08:12.737661Z",
     "shell.execute_reply.started": "2022-10-05T11:08:12.737655Z"
    }
   },
   "outputs": [],
   "source": [
    "Level 1: Simple forecasting model\n",
    "Level 2: Probabilistic forecasting model\n",
    "Level 3: Forecast across datasets\n",
    "Level 4: "
   ]
  },
  {
   "cell_type": "code",
   "execution_count": null,
   "id": "cfe29406-7948-4e06-b1a6-f3745bdb3d62",
   "metadata": {},
   "outputs": [],
   "source": []
  },
  {
   "cell_type": "code",
   "execution_count": null,
   "id": "1d533b95-ead2-4d71-ab2a-d77375a74030",
   "metadata": {},
   "outputs": [],
   "source": []
  },
  {
   "cell_type": "markdown",
   "id": "055a05d9-bc0f-41fd-a2a1-816870f26a26",
   "metadata": {},
   "source": [
    "## What would be nice to have?\n",
    "\n",
    "- Data Collection\n",
    "    - Delayed measurements should come with 2 timestamps. (When was sample collected, when was value recorded)\n",
    "- Data Validation\n",
    "    - Categories instead of strings\n",
    "    - Nullable datatypes for missing values (avoid using e.g. -999 as representation for missing value) \n",
    "    - Timedeltas and Datetimes\n",
    "- Data Annotation - Adding Expert Knowledge\n",
    "    - Biologically plausible minimal / maximal values possible\n",
    "- Model database"
   ]
  },
  {
   "cell_type": "markdown",
   "id": "92caa8d2-5003-436c-b22b-8449547c0218",
   "metadata": {},
   "source": [
    "# Types of temporal data"
   ]
  },
  {
   "cell_type": "code",
   "execution_count": null,
   "id": "d02e12a2-4de9-4232-ab97-4dc8dd216a97",
   "metadata": {
    "execution": {
     "iopub.status.busy": "2022-10-05T11:08:12.738174Z",
     "iopub.status.idle": "2022-10-05T11:08:12.738299Z",
     "shell.execute_reply": "2022-10-05T11:08:12.738244Z",
     "shell.execute_reply.started": "2022-10-05T11:08:12.738238Z"
    },
    "tags": []
   },
   "outputs": [],
   "source": [
    "%%latex\n",
    "\\begin{table}[H]\n",
    "\\centering\n",
    "\\begin{tabular}{lccc}\n",
    "   data       & obs.-horizon & pred.-horizon & predicted %\n",
    "\\\\ \\midrule\n",
    "   $X$        & {\\color{DarkGreen} ✔} & {\\color{Crimson} ✘}   & {\\color{Crimson} ✘}    %\n",
    "\\\\ $U$        & {\\color{DarkGreen} ✔} & {\\color{DarkGreen} ✔} & {\\color{Crimson} ✘}    %\n",
    "\\\\ $Y^{auto}$ & {\\color{DarkGreen} ✔} & {\\color{Crimson} ✘}   & {\\color{DarkGreen} ✔}  %\n",
    "\\\\ $Y^{pred}$ & {\\color{Crimson} ✘}   & {\\color{Crimson} ✘}   & {\\color{DarkGreen} ✔}  %\n",
    "\\end{tabular}\n",
    "\\end{table}"
   ]
  },
  {
   "cell_type": "code",
   "execution_count": null,
   "id": "fcb8c4f2-1944-45c4-8f7e-4762039ca0c2",
   "metadata": {},
   "outputs": [],
   "source": []
  }
 ],
 "metadata": {
  "kernelspec": {
   "display_name": "Python 3 (ipykernel)",
   "language": "python",
   "name": "python3"
  },
  "language_info": {
   "codemirror_mode": {
    "name": "ipython",
    "version": 3
   },
   "file_extension": ".py",
   "mimetype": "text/x-python",
   "name": "python",
   "nbconvert_exporter": "python",
   "pygments_lexer": "ipython3",
   "version": "3.10.6"
  }
 },
 "nbformat": 4,
 "nbformat_minor": 5
}
