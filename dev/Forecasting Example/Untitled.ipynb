{
 "cells": [
  {
   "cell_type": "code",
   "execution_count": null,
   "id": "20191951-beec-414a-b3c6-89dca8277ad2",
   "metadata": {
    "execution": {
     "iopub.execute_input": "2022-10-05T07:17:51.169442Z",
     "iopub.status.busy": "2022-10-05T07:17:51.169182Z",
     "iopub.status.idle": "2022-10-05T07:17:51.203437Z",
     "shell.execute_reply": "2022-10-05T07:17:51.202312Z",
     "shell.execute_reply.started": "2022-10-05T07:17:51.169387Z"
    }
   },
   "outputs": [],
   "source": [
    "%config InteractiveShell.ast_node_interactivity='last_expr_or_assign'  # always print last expr.\n",
    "%config InlineBackend.figure_format = 'svg'\n",
    "%load_ext autoreload\n",
    "%autoreload 2\n",
    "%matplotlib inline"
   ]
  },
  {
   "cell_type": "markdown",
   "id": "9329d676-9aa9-4c05-85bc-17f38e6d97f0",
   "metadata": {},
   "source": [
    "# Load the dataset"
   ]
  },
  {
   "cell_type": "code",
   "execution_count": null,
   "id": "58b7f6d7",
   "metadata": {
    "execution": {
     "iopub.execute_input": "2022-10-05T07:17:51.460043Z",
     "iopub.status.busy": "2022-10-05T07:17:51.459515Z",
     "iopub.status.idle": "2022-10-05T07:17:51.642443Z",
     "shell.execute_reply": "2022-10-05T07:17:51.641794Z",
     "shell.execute_reply.started": "2022-10-05T07:17:51.460003Z"
    }
   },
   "outputs": [],
   "source": [
    "from tsdm.datasets import KIWI_RUNS\n",
    "\n",
    "ds = KIWI_RUNS()"
   ]
  },
  {
   "cell_type": "code",
   "execution_count": null,
   "id": "d695b42b",
   "metadata": {
    "execution": {
     "iopub.execute_input": "2022-10-05T07:18:15.014443Z",
     "iopub.status.busy": "2022-10-05T07:18:15.013895Z",
     "iopub.status.idle": "2022-10-05T07:18:15.126348Z",
     "shell.execute_reply": "2022-10-05T07:18:15.125219Z",
     "shell.execute_reply.started": "2022-10-05T07:18:15.014397Z"
    }
   },
   "outputs": [],
   "source": [
    "ds.timeseries"
   ]
  },
  {
   "cell_type": "markdown",
   "id": "9cde895f-ea80-4813-ae58-f7752915f2c0",
   "metadata": {},
   "source": [
    "# Load the model & encoder"
   ]
  },
  {
   "cell_type": "code",
   "execution_count": null,
   "id": "5967891e-672d-40c6-b4d5-0bf560889be5",
   "metadata": {
    "execution": {
     "iopub.execute_input": "2022-10-05T07:37:14.924634Z",
     "iopub.status.busy": "2022-10-05T07:37:14.924079Z",
     "iopub.status.idle": "2022-10-05T07:37:14.974524Z",
     "shell.execute_reply": "2022-10-05T07:37:14.973220Z",
     "shell.execute_reply.started": "2022-10-05T07:37:14.924586Z"
    },
    "tags": []
   },
   "outputs": [],
   "source": [
    "import tsdm\n",
    "\n",
    "tsdm.config.MODELDIR"
   ]
  },
  {
   "cell_type": "code",
   "execution_count": null,
   "id": "45e2167a-3f18-45e5-88cb-ef4f50822b06",
   "metadata": {},
   "outputs": [],
   "source": []
  }
 ],
 "metadata": {
  "kernelspec": {
   "display_name": "Python 3 (ipykernel)",
   "language": "python",
   "name": "python3"
  },
  "language_info": {
   "codemirror_mode": {
    "name": "ipython",
    "version": 3
   },
   "file_extension": ".py",
   "mimetype": "text/x-python",
   "name": "python",
   "nbconvert_exporter": "python",
   "pygments_lexer": "ipython3",
   "version": "3.10.6"
  }
 },
 "nbformat": 4,
 "nbformat_minor": 5
}
