{
 "cells": [
  {
   "cell_type": "code",
   "execution_count": null,
   "metadata": {},
   "outputs": [],
   "source": [
    "%config InteractiveShell.ast_node_interactivity='last_expr_or_assign'  # always print last expr.\n",
    "\n",
    "import tsdm"
   ]
  },
  {
   "cell_type": "code",
   "execution_count": null,
   "metadata": {},
   "outputs": [],
   "source": [
    "ds = tsdm.datasets.KiwiBenchmarkTSC()"
   ]
  },
  {
   "cell_type": "code",
   "execution_count": null,
   "metadata": {},
   "outputs": [],
   "source": [
    "ds.timeseries_description"
   ]
  },
  {
   "cell_type": "code",
   "execution_count": null,
   "metadata": {},
   "outputs": [],
   "source": [
    "ds.rawdata_paths"
   ]
  },
  {
   "cell_type": "code",
   "execution_count": null,
   "metadata": {},
   "outputs": [],
   "source": [
    "from typing import Never\n",
    "\n",
    "\n",
    "class A:\n",
    "    foo: int\n",
    "\n",
    "    def __getattr__(self, name):\n",
    "        if name == \"foo\":\n",
    "            return 42\n",
    "        raise AttributeError\n",
    "\n",
    "\n",
    "class B(A):\n",
    "    foo: Never\n",
    "\n",
    "    def __getattr__(self, name):\n",
    "        if name == \"foo\":\n",
    "            raise NotImplementedError(\"B.foo is not implemented!\")\n",
    "        raise AttributeError"
   ]
  },
  {
   "cell_type": "code",
   "execution_count": null,
   "metadata": {},
   "outputs": [],
   "source": [
    "B().foo"
   ]
  },
  {
   "cell_type": "code",
   "execution_count": null,
   "metadata": {},
   "outputs": [],
   "source": [
    "from typing import Literal, Never, overload\n",
    "\n",
    "\n",
    "class A:\n",
    "    # This will allow assignment to any A.x, if x is the same type as \"value\"\n",
    "    # (use \"value: Any\" to allow arbitrary types)\n",
    "    def __setattr__(self, name: str, value: int) -> None: ...\n",
    "\n",
    "    # This will allow access to any A.x, if x is compatible with the return type\n",
    "    @overload\n",
    "    def __getattr__(self, name: Literal[\"foo\"]) -> Never: ...\n",
    "\n",
    "    @overload\n",
    "    def __getattr__(self, name: Literal[\"bar\"]) -> int: ...\n",
    "\n",
    "    @overload\n",
    "    def __getattr__(self, name: str) -> str: ...\n",
    "\n",
    "    def __getattr__(self, name):\n",
    "        if name == \"foo\":\n",
    "            raise RuntimeError(\"foo not allowed\")\n",
    "        if name == \"bar\":\n",
    "            return 42\n",
    "        return f\"Attempted to access {name}\"\n",
    "\n",
    "\n",
    "a = A()\n",
    "# print(a.foo)\n",
    "print(a.bar)\n",
    "print(a.xzy)"
   ]
  },
  {
   "cell_type": "code",
   "execution_count": null,
   "metadata": {},
   "outputs": [],
   "source": []
  },
  {
   "cell_type": "code",
   "execution_count": null,
   "metadata": {
    "tags": []
   },
   "outputs": [],
   "source": [
    "from tsdm.utils import LazyDict\n",
    "\n",
    "EMPTY: LazyDict = LazyDict()\n",
    "# test __or__ operator with other LazyDict\n",
    "ld = EMPTY | LazyDict({0: lambda: 0}, answer=42)\n",
    "ld.values()"
   ]
  },
  {
   "cell_type": "code",
   "execution_count": null,
   "metadata": {},
   "outputs": [],
   "source": []
  },
  {
   "cell_type": "code",
   "execution_count": null,
   "metadata": {},
   "outputs": [],
   "source": []
  },
  {
   "cell_type": "code",
   "execution_count": null,
   "metadata": {},
   "outputs": [],
   "source": []
  },
  {
   "cell_type": "code",
   "execution_count": null,
   "metadata": {},
   "outputs": [],
   "source": []
  },
  {
   "cell_type": "code",
   "execution_count": null,
   "metadata": {},
   "outputs": [],
   "source": []
  },
  {
   "cell_type": "code",
   "execution_count": null,
   "metadata": {},
   "outputs": [],
   "source": []
  },
  {
   "cell_type": "code",
   "execution_count": null,
   "metadata": {
    "tags": []
   },
   "outputs": [],
   "source": [
    "LazyDict({0: 0})"
   ]
  },
  {
   "cell_type": "code",
   "execution_count": null,
   "metadata": {
    "tags": []
   },
   "outputs": [],
   "source": [
    "ld = LazyDict({0: lambda: 0})"
   ]
  },
  {
   "cell_type": "code",
   "execution_count": null,
   "metadata": {
    "tags": []
   },
   "outputs": [],
   "source": [
    "ld.get(0)"
   ]
  },
  {
   "cell_type": "code",
   "execution_count": null,
   "metadata": {
    "tags": []
   },
   "outputs": [],
   "source": [
    "ld.clear()"
   ]
  },
  {
   "cell_type": "code",
   "execution_count": null,
   "metadata": {
    "tags": []
   },
   "outputs": [],
   "source": [
    "ld"
   ]
  },
  {
   "cell_type": "code",
   "execution_count": null,
   "metadata": {},
   "outputs": [],
   "source": []
  },
  {
   "cell_type": "code",
   "execution_count": null,
   "metadata": {},
   "outputs": [],
   "source": []
  },
  {
   "cell_type": "code",
   "execution_count": null,
   "metadata": {
    "tags": []
   },
   "outputs": [],
   "source": [
    "ld.setdefault(\"bar\", lambda: 12)"
   ]
  },
  {
   "cell_type": "code",
   "execution_count": null,
   "metadata": {
    "tags": []
   },
   "outputs": [],
   "source": [
    "ld"
   ]
  },
  {
   "cell_type": "code",
   "execution_count": null,
   "metadata": {
    "tags": []
   },
   "outputs": [],
   "source": [
    "dir(dict)"
   ]
  },
  {
   "cell_type": "code",
   "execution_count": null,
   "metadata": {},
   "outputs": [],
   "source": []
  }
 ],
 "metadata": {
  "kernelspec": {
   "display_name": "Python 3 (ipykernel)",
   "language": "python",
   "name": "python3"
  },
  "language_info": {
   "codemirror_mode": {
    "name": "ipython",
    "version": 3
   },
   "file_extension": ".py",
   "mimetype": "text/x-python",
   "name": "python",
   "nbconvert_exporter": "python",
   "pygments_lexer": "ipython3",
   "version": "3.10.13"
  }
 },
 "nbformat": 4,
 "nbformat_minor": 4
}
