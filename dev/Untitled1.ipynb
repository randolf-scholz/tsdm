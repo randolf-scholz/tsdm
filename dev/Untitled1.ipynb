{
 "cells": [
  {
   "cell_type": "markdown",
   "metadata": {},
   "source": [
    "# Sample Template"
   ]
  },
  {
   "cell_type": "markdown",
   "metadata": {},
   "source": [
    "Here is some sample text, and a first block of code"
   ]
  },
  {
   "cell_type": "markdown",
   "metadata": {},
   "source": [
    "## A second heading"
   ]
  },
  {
   "cell_type": "markdown",
   "metadata": {},
   "source": [
    "and some more text"
   ]
  },
  {
   "cell_type": "code",
   "execution_count": null,
   "metadata": {},
   "outputs": [],
   "source": [
    "from typing import Never\n",
    "\n",
    "\n",
    "class A:\n",
    "    foo: int\n",
    "\n",
    "    def __getattr__(self, name):\n",
    "        if name == \"foo\":\n",
    "            return 42\n",
    "        raise AttributeError\n",
    "\n",
    "\n",
    "class B(A):\n",
    "    foo: Never\n",
    "\n",
    "    def __getattr__(self, name):\n",
    "        if name == \"foo\":\n",
    "            raise NotImplementedError(\"B.foo is not implemented!\")\n",
    "        raise AttributeError"
   ]
  },
  {
   "cell_type": "code",
   "execution_count": null,
   "metadata": {},
   "outputs": [],
   "source": [
    "B().foo"
   ]
  },
  {
   "cell_type": "code",
   "execution_count": null,
   "metadata": {},
   "outputs": [],
   "source": [
    "from typing import Literal, Never, overload\n",
    "\n",
    "\n",
    "class A:\n",
    "    # This will allow assignment to any A.x, if x is the same type as \"value\"\n",
    "    # (use \"value: Any\" to allow arbitrary types)\n",
    "    def __setattr__(self, name: str, value: int) -> None:\n",
    "        ...\n",
    "\n",
    "    # This will allow access to any A.x, if x is compatible with the return type\n",
    "    @overload\n",
    "    def __getattr__(self, name: Literal[\"foo\"]) -> Never:\n",
    "        ...\n",
    "\n",
    "    @overload\n",
    "    def __getattr__(self, name: Literal[\"bar\"]) -> int:\n",
    "        ...\n",
    "\n",
    "    @overload\n",
    "    def __getattr__(self, name: str) -> str:\n",
    "        ...\n",
    "\n",
    "    def __getattr__(self, name):\n",
    "        if name == \"foo\":\n",
    "            raise RuntimeError(\"foo not allowed\")\n",
    "        if name == \"bar\":\n",
    "            return 42\n",
    "        return f\"Attempted to access {name}\"\n",
    "\n",
    "\n",
    "a = A()\n",
    "# print(a.foo)\n",
    "print(a.bar)\n",
    "print(a.xzy)"
   ]
  },
  {
   "cell_type": "code",
   "execution_count": null,
   "metadata": {},
   "outputs": [],
   "source": []
  },
  {
   "cell_type": "code",
   "execution_count": null,
   "metadata": {
    "tags": []
   },
   "outputs": [],
   "source": [
    "from tsdm.utils import LazyDict\n",
    "\n",
    "EMPTY: LazyDict = LazyDict()\n",
    "# test __or__ operator with other LazyDict\n",
    "ld = EMPTY | LazyDict({0: lambda: 0}, answer=42)\n",
    "ld.values()"
   ]
  },
  {
   "cell_type": "code",
   "execution_count": null,
   "metadata": {},
   "outputs": [],
   "source": []
  },
  {
   "cell_type": "code",
   "execution_count": null,
   "metadata": {},
   "outputs": [],
   "source": []
  },
  {
   "cell_type": "code",
   "execution_count": null,
   "metadata": {},
   "outputs": [],
   "source": []
  },
  {
   "cell_type": "code",
   "execution_count": null,
   "metadata": {},
   "outputs": [],
   "source": []
  },
  {
   "cell_type": "code",
   "execution_count": null,
   "metadata": {},
   "outputs": [],
   "source": []
  },
  {
   "cell_type": "code",
   "execution_count": null,
   "metadata": {},
   "outputs": [],
   "source": []
  },
  {
   "cell_type": "code",
   "execution_count": null,
   "metadata": {
    "tags": []
   },
   "outputs": [],
   "source": [
    "LazyDict({0: 0})"
   ]
  },
  {
   "cell_type": "code",
   "execution_count": null,
   "metadata": {
    "tags": []
   },
   "outputs": [],
   "source": [
    "ld = LazyDict({0: lambda: 0})"
   ]
  },
  {
   "cell_type": "code",
   "execution_count": null,
   "metadata": {
    "tags": []
   },
   "outputs": [],
   "source": [
    "ld.get(0)"
   ]
  },
  {
   "cell_type": "code",
   "execution_count": null,
   "metadata": {
    "tags": []
   },
   "outputs": [],
   "source": [
    "ld.clear()"
   ]
  },
  {
   "cell_type": "code",
   "execution_count": null,
   "metadata": {
    "tags": []
   },
   "outputs": [],
   "source": [
    "ld"
   ]
  },
  {
   "cell_type": "code",
   "execution_count": null,
   "metadata": {},
   "outputs": [],
   "source": []
  },
  {
   "cell_type": "code",
   "execution_count": null,
   "metadata": {},
   "outputs": [],
   "source": []
  },
  {
   "cell_type": "code",
   "execution_count": null,
   "metadata": {
    "tags": []
   },
   "outputs": [],
   "source": [
    "ld.setdefault(\"bar\", lambda: 12)"
   ]
  },
  {
   "cell_type": "code",
   "execution_count": null,
   "metadata": {
    "tags": []
   },
   "outputs": [],
   "source": [
    "ld"
   ]
  },
  {
   "cell_type": "code",
   "execution_count": null,
   "metadata": {
    "tags": []
   },
   "outputs": [],
   "source": [
    "dir(dict)"
   ]
  },
  {
   "cell_type": "code",
   "execution_count": null,
   "metadata": {},
   "outputs": [],
   "source": []
  }
 ],
 "metadata": {
  "kernelspec": {
   "display_name": "Python 3 (ipykernel)",
   "language": "python",
   "name": "python3"
  },
  "language_info": {
   "codemirror_mode": {
    "name": "ipython",
    "version": 3
   },
   "file_extension": ".py",
   "mimetype": "text/x-python",
   "name": "python",
   "nbconvert_exporter": "python",
   "pygments_lexer": "ipython3",
   "version": "3.11.4"
  }
 },
 "nbformat": 4,
 "nbformat_minor": 4
}
