{
 "cells": [
  {
   "cell_type": "markdown",
   "metadata": {},
   "source": [
    "# Sample Template"
   ]
  },
  {
   "cell_type": "markdown",
   "metadata": {},
   "source": [
    "Here is some sample text, and a first block of code"
   ]
  },
  {
   "cell_type": "markdown",
   "metadata": {},
   "source": [
    "## A second heading"
   ]
  },
  {
   "cell_type": "markdown",
   "metadata": {},
   "source": [
    "and some more text"
   ]
  },
  {
   "cell_type": "code",
   "execution_count": null,
   "metadata": {
    "execution": {
     "iopub.execute_input": "2023-08-05T20:58:35.031900Z",
     "iopub.status.busy": "2023-08-05T20:58:35.031574Z",
     "iopub.status.idle": "2023-08-05T20:58:35.036605Z",
     "shell.execute_reply": "2023-08-05T20:58:35.036218Z",
     "shell.execute_reply.started": "2023-08-05T20:58:35.031884Z"
    }
   },
   "outputs": [],
   "source": [
    "from typing import Never\n",
    "\n",
    "\n",
    "class A:\n",
    "    foo: int\n",
    "\n",
    "    def __getattr__(self, name):\n",
    "        if name == \"foo\":\n",
    "            return 42\n",
    "        raise AttributeError\n",
    "\n",
    "\n",
    "class B(A):\n",
    "    foo: Never\n",
    "\n",
    "    def __getattr__(self, name):\n",
    "        if name == \"foo\":\n",
    "            raise NotImplementedError(\"B.foo is not implemented!\")\n",
    "        raise AttributeError"
   ]
  },
  {
   "cell_type": "code",
   "execution_count": null,
   "metadata": {
    "execution": {
     "iopub.execute_input": "2023-08-05T20:58:41.306586Z",
     "iopub.status.busy": "2023-08-05T20:58:41.306056Z",
     "iopub.status.idle": "2023-08-05T20:58:41.438125Z",
     "shell.execute_reply": "2023-08-05T20:58:41.437690Z",
     "shell.execute_reply.started": "2023-08-05T20:58:41.306556Z"
    }
   },
   "outputs": [],
   "source": [
    "B().foo"
   ]
  },
  {
   "cell_type": "code",
   "execution_count": null,
   "metadata": {
    "execution": {
     "iopub.execute_input": "2023-08-05T18:37:08.380230Z",
     "iopub.status.busy": "2023-08-05T18:37:08.379991Z",
     "iopub.status.idle": "2023-08-05T18:37:08.385444Z",
     "shell.execute_reply": "2023-08-05T18:37:08.384979Z",
     "shell.execute_reply.started": "2023-08-05T18:37:08.380210Z"
    }
   },
   "outputs": [],
   "source": [
    "from typing import Literal, Never, overload\n",
    "\n",
    "\n",
    "class A:\n",
    "    # This will allow assignment to any A.x, if x is the same type as \"value\"\n",
    "    # (use \"value: Any\" to allow arbitrary types)\n",
    "    def __setattr__(self, name: str, value: int) -> None:\n",
    "        ...\n",
    "\n",
    "    # This will allow access to any A.x, if x is compatible with the return type\n",
    "    @overload\n",
    "    def __getattr__(self, name: Literal[\"foo\"]) -> Never:\n",
    "        ...\n",
    "\n",
    "    @overload\n",
    "    def __getattr__(self, name: Literal[\"bar\"]) -> int:\n",
    "        ...\n",
    "\n",
    "    @overload\n",
    "    def __getattr__(self, name: str) -> str:\n",
    "        ...\n",
    "\n",
    "    def __getattr__(self, name):\n",
    "        if name == \"foo\":\n",
    "            raise RuntimeError(\"foo not allowed\")\n",
    "        if name == \"bar\":\n",
    "            return 42\n",
    "        return f\"Attempted to access {name}\"\n",
    "\n",
    "\n",
    "a = A()\n",
    "# print(a.foo)\n",
    "print(a.bar)\n",
    "print(a.xzy)"
   ]
  },
  {
   "cell_type": "code",
   "execution_count": null,
   "metadata": {},
   "outputs": [],
   "source": []
  },
  {
   "cell_type": "code",
   "execution_count": null,
   "metadata": {
    "execution": {
     "iopub.execute_input": "2023-07-31T13:41:11.040313Z",
     "iopub.status.busy": "2023-07-31T13:41:11.039839Z",
     "iopub.status.idle": "2023-07-31T13:41:11.046620Z",
     "shell.execute_reply": "2023-07-31T13:41:11.046038Z",
     "shell.execute_reply.started": "2023-07-31T13:41:11.040297Z"
    },
    "tags": []
   },
   "outputs": [],
   "source": [
    "from tsdm.utils import LazyDict\n",
    "\n",
    "EMPTY: LazyDict = LazyDict()\n",
    "# test __or__ operator with other LazyDict\n",
    "ld = EMPTY | LazyDict({0: lambda: 0}, answer=42)\n",
    "ld.values()"
   ]
  },
  {
   "cell_type": "code",
   "execution_count": null,
   "metadata": {},
   "outputs": [],
   "source": []
  },
  {
   "cell_type": "code",
   "execution_count": null,
   "metadata": {},
   "outputs": [],
   "source": []
  },
  {
   "cell_type": "code",
   "execution_count": null,
   "metadata": {},
   "outputs": [],
   "source": []
  },
  {
   "cell_type": "code",
   "execution_count": null,
   "metadata": {},
   "outputs": [],
   "source": []
  },
  {
   "cell_type": "code",
   "execution_count": null,
   "metadata": {},
   "outputs": [],
   "source": []
  },
  {
   "cell_type": "code",
   "execution_count": null,
   "metadata": {},
   "outputs": [],
   "source": []
  },
  {
   "cell_type": "code",
   "execution_count": null,
   "metadata": {
    "execution": {
     "iopub.execute_input": "2023-07-31T13:01:45.036947Z",
     "iopub.status.busy": "2023-07-31T13:01:45.036585Z",
     "iopub.status.idle": "2023-07-31T13:01:45.041624Z",
     "shell.execute_reply": "2023-07-31T13:01:45.041079Z",
     "shell.execute_reply.started": "2023-07-31T13:01:45.036936Z"
    },
    "tags": []
   },
   "outputs": [],
   "source": [
    "LazyDict({0: 0})"
   ]
  },
  {
   "cell_type": "code",
   "execution_count": null,
   "metadata": {
    "execution": {
     "iopub.execute_input": "2023-07-31T13:03:48.291040Z",
     "iopub.status.busy": "2023-07-31T13:03:48.290652Z",
     "iopub.status.idle": "2023-07-31T13:03:48.293696Z",
     "shell.execute_reply": "2023-07-31T13:03:48.293381Z",
     "shell.execute_reply.started": "2023-07-31T13:03:48.290995Z"
    },
    "tags": []
   },
   "outputs": [],
   "source": [
    "ld = LazyDict({0: lambda: 0})"
   ]
  },
  {
   "cell_type": "code",
   "execution_count": null,
   "metadata": {
    "execution": {
     "iopub.execute_input": "2023-07-31T13:03:51.639301Z",
     "iopub.status.busy": "2023-07-31T13:03:51.639002Z",
     "iopub.status.idle": "2023-07-31T13:03:51.642871Z",
     "shell.execute_reply": "2023-07-31T13:03:51.642471Z",
     "shell.execute_reply.started": "2023-07-31T13:03:51.639279Z"
    },
    "tags": []
   },
   "outputs": [],
   "source": [
    "ld.get(0)"
   ]
  },
  {
   "cell_type": "code",
   "execution_count": null,
   "metadata": {
    "execution": {
     "iopub.execute_input": "2023-07-31T13:02:54.819419Z",
     "iopub.status.busy": "2023-07-31T13:02:54.819192Z",
     "iopub.status.idle": "2023-07-31T13:02:54.821428Z",
     "shell.execute_reply": "2023-07-31T13:02:54.821097Z",
     "shell.execute_reply.started": "2023-07-31T13:02:54.819406Z"
    },
    "tags": []
   },
   "outputs": [],
   "source": [
    "ld.clear()"
   ]
  },
  {
   "cell_type": "code",
   "execution_count": null,
   "metadata": {
    "execution": {
     "iopub.execute_input": "2023-07-31T13:03:46.361462Z",
     "iopub.status.busy": "2023-07-31T13:03:46.360896Z",
     "iopub.status.idle": "2023-07-31T13:03:46.365758Z",
     "shell.execute_reply": "2023-07-31T13:03:46.365483Z",
     "shell.execute_reply.started": "2023-07-31T13:03:46.361420Z"
    },
    "tags": []
   },
   "outputs": [],
   "source": [
    "ld"
   ]
  },
  {
   "cell_type": "code",
   "execution_count": null,
   "metadata": {},
   "outputs": [],
   "source": []
  },
  {
   "cell_type": "code",
   "execution_count": null,
   "metadata": {},
   "outputs": [],
   "source": []
  },
  {
   "cell_type": "code",
   "execution_count": null,
   "metadata": {
    "execution": {
     "iopub.execute_input": "2023-07-31T13:02:20.338596Z",
     "iopub.status.busy": "2023-07-31T13:02:20.338399Z",
     "iopub.status.idle": "2023-07-31T13:02:20.341972Z",
     "shell.execute_reply": "2023-07-31T13:02:20.341461Z",
     "shell.execute_reply.started": "2023-07-31T13:02:20.338566Z"
    },
    "tags": []
   },
   "outputs": [],
   "source": [
    "ld.setdefault(\"bar\", lambda: 12)"
   ]
  },
  {
   "cell_type": "code",
   "execution_count": null,
   "metadata": {
    "execution": {
     "iopub.execute_input": "2023-07-31T13:02:48.272765Z",
     "iopub.status.busy": "2023-07-31T13:02:48.272510Z",
     "iopub.status.idle": "2023-07-31T13:02:48.276588Z",
     "shell.execute_reply": "2023-07-31T13:02:48.276127Z",
     "shell.execute_reply.started": "2023-07-31T13:02:48.272746Z"
    },
    "tags": []
   },
   "outputs": [],
   "source": [
    "ld"
   ]
  },
  {
   "cell_type": "code",
   "execution_count": null,
   "metadata": {
    "execution": {
     "iopub.execute_input": "2023-07-31T12:53:08.329016Z",
     "iopub.status.busy": "2023-07-31T12:53:08.328751Z",
     "iopub.status.idle": "2023-07-31T12:53:08.332140Z",
     "shell.execute_reply": "2023-07-31T12:53:08.331839Z",
     "shell.execute_reply.started": "2023-07-31T12:53:08.328984Z"
    },
    "tags": []
   },
   "outputs": [],
   "source": [
    "dir(dict)"
   ]
  },
  {
   "cell_type": "code",
   "execution_count": null,
   "metadata": {},
   "outputs": [],
   "source": []
  }
 ],
 "metadata": {
  "kernelspec": {
   "display_name": "Python 3 (ipykernel)",
   "language": "python",
   "name": "python3"
  },
  "language_info": {
   "codemirror_mode": {
    "name": "ipython",
    "version": 3
   },
   "file_extension": ".py",
   "mimetype": "text/x-python",
   "name": "python",
   "nbconvert_exporter": "python",
   "pygments_lexer": "ipython3",
   "version": "3.11.4"
  }
 },
 "nbformat": 4,
 "nbformat_minor": 4
}
