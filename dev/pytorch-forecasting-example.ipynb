{
 "cells": [
  {
   "cell_type": "markdown",
   "id": "4340cc9c-9439-4ce3-8f20-397e5506884f",
   "metadata": {},
   "source": [
    "## Train Test Split"
   ]
  },
  {
   "cell_type": "code",
   "execution_count": null,
   "id": "3eb16a14-223f-4cbf-a08f-83a1649d9d96",
   "metadata": {
    "execution": {
     "iopub.execute_input": "2022-11-16T08:35:23.038004Z",
     "iopub.status.busy": "2022-11-16T08:35:23.037886Z",
     "iopub.status.idle": "2022-11-16T08:35:23.051209Z",
     "shell.execute_reply": "2022-11-16T08:35:23.050837Z",
     "shell.execute_reply.started": "2022-11-16T08:35:23.037971Z"
    }
   },
   "outputs": [],
   "source": [
    "%load_ext autoreload\n",
    "%autoreload 2"
   ]
  },
  {
   "cell_type": "code",
   "execution_count": null,
   "id": "5ce25be9-0756-4d2d-93a9-e2030d819ed8",
   "metadata": {
    "execution": {
     "iopub.execute_input": "2022-11-16T08:35:23.052275Z",
     "iopub.status.busy": "2022-11-16T08:35:23.052040Z",
     "iopub.status.idle": "2022-11-16T08:35:23.792444Z",
     "shell.execute_reply": "2022-11-16T08:35:23.791921Z",
     "shell.execute_reply.started": "2022-11-16T08:35:23.052263Z"
    }
   },
   "outputs": [],
   "source": [
    "import torch\n",
    "import numpy as np\n",
    "import pandas as pd\n",
    "from pandas import DataFrame, Series, Timestamp, Timedelta, DatetimeIndex\n",
    "from pandas.tseries.offsets import DateOffset\n",
    "\n",
    "pd.set_option(\"display.max_rows\", 5)"
   ]
  },
  {
   "cell_type": "code",
   "execution_count": null,
   "id": "8897644e-5c62-4d5e-89ae-ad7ea8a13fbf",
   "metadata": {
    "execution": {
     "iopub.execute_input": "2022-11-16T08:35:23.793135Z",
     "iopub.status.busy": "2022-11-16T08:35:23.792942Z",
     "iopub.status.idle": "2022-11-16T08:35:23.814002Z",
     "shell.execute_reply": "2022-11-16T08:35:23.813477Z",
     "shell.execute_reply.started": "2022-11-16T08:35:23.793121Z"
    }
   },
   "outputs": [],
   "source": [
    "s = DataFrame({\"abc\": [(0, 1), (1,), (2, 3), (0, 1), (0, 1)]})\n",
    "s"
   ]
  },
  {
   "cell_type": "code",
   "execution_count": null,
   "id": "42455097-57c2-4931-929c-6d04390f65d3",
   "metadata": {
    "execution": {
     "iopub.execute_input": "2022-11-16T08:35:23.814806Z",
     "iopub.status.busy": "2022-11-16T08:35:23.814582Z",
     "iopub.status.idle": "2022-11-16T08:35:23.828135Z",
     "shell.execute_reply": "2022-11-16T08:35:23.827779Z",
     "shell.execute_reply.started": "2022-11-16T08:35:23.814792Z"
    }
   },
   "outputs": [],
   "source": [
    "pd.api.types.is_categorical_dtype(s)"
   ]
  },
  {
   "cell_type": "code",
   "execution_count": null,
   "id": "1ef38b4a-302a-499c-a1d7-848308a1da27",
   "metadata": {
    "execution": {
     "iopub.execute_input": "2022-11-16T08:35:23.828930Z",
     "iopub.status.busy": "2022-11-16T08:35:23.828645Z",
     "iopub.status.idle": "2022-11-16T08:35:23.853825Z",
     "shell.execute_reply": "2022-11-16T08:35:23.853318Z",
     "shell.execute_reply.started": "2022-11-16T08:35:23.828913Z"
    }
   },
   "outputs": [],
   "source": [
    "pd.get_dummies(s)"
   ]
  },
  {
   "cell_type": "code",
   "execution_count": null,
   "id": "5c9e9a87-0450-45fa-954d-955cf75ba251",
   "metadata": {
    "execution": {
     "iopub.execute_input": "2022-11-16T08:36:09.458078Z",
     "iopub.status.busy": "2022-11-16T08:36:09.457904Z",
     "iopub.status.idle": "2022-11-16T08:36:09.470963Z",
     "shell.execute_reply": "2022-11-16T08:36:09.470609Z",
     "shell.execute_reply.started": "2022-11-16T08:36:09.458067Z"
    },
    "tags": []
   },
   "outputs": [],
   "source": [
    "set(s.squeeze().astype(pd.CategoricalDtype()).dtype.categories)"
   ]
  },
  {
   "cell_type": "code",
   "execution_count": null,
   "id": "72488e23-0fdc-482b-9eb6-efde6cd9fb4c",
   "metadata": {
    "execution": {
     "iopub.execute_input": "2022-11-16T08:36:11.852460Z",
     "iopub.status.busy": "2022-11-16T08:36:11.852294Z",
     "iopub.status.idle": "2022-11-16T08:36:11.866390Z",
     "shell.execute_reply": "2022-11-16T08:36:11.865965Z",
     "shell.execute_reply.started": "2022-11-16T08:36:11.852449Z"
    },
    "tags": []
   },
   "outputs": [],
   "source": [
    "s = Series([(0, 1), (1,), (2, 3), (0, 1), (0, 1)], name=\"abc\")\n",
    "s.astype(\"string\").dtype == pd.StringDtype\n",
    "s"
   ]
  },
  {
   "cell_type": "code",
   "execution_count": null,
   "id": "93cf478a-2645-412d-8e8b-6a79fd0ac23f",
   "metadata": {
    "execution": {
     "iopub.execute_input": "2022-11-16T08:36:42.349817Z",
     "iopub.status.busy": "2022-11-16T08:36:42.349651Z",
     "iopub.status.idle": "2022-11-16T08:36:42.684625Z",
     "shell.execute_reply": "2022-11-16T08:36:42.684234Z",
     "shell.execute_reply.started": "2022-11-16T08:36:42.349806Z"
    },
    "tags": []
   },
   "outputs": [],
   "source": [
    "from tsdm.datasets import Electricity\n",
    "\n",
    "X = Electricity().dataset\n",
    "X"
   ]
  },
  {
   "cell_type": "code",
   "execution_count": null,
   "id": "666be7f4-9955-4750-8426-24661617572e",
   "metadata": {
    "execution": {
     "iopub.execute_input": "2022-11-16T08:36:43.341862Z",
     "iopub.status.busy": "2022-11-16T08:36:43.341683Z",
     "iopub.status.idle": "2022-11-16T08:36:59.439568Z",
     "shell.execute_reply": "2022-11-16T08:36:59.437004Z",
     "shell.execute_reply.started": "2022-11-16T08:36:43.341850Z"
    },
    "tags": []
   },
   "outputs": [],
   "source": [
    "from tsdm.encoders.functional import make_dense_triplets\n",
    "\n",
    "df = make_dense_triplets(X)\n",
    "df"
   ]
  },
  {
   "cell_type": "code",
   "execution_count": null,
   "id": "1556300a-ea9a-4a46-a568-c9efc193aa1a",
   "metadata": {
    "execution": {
     "iopub.execute_input": "2022-11-16T08:37:15.280291Z",
     "iopub.status.busy": "2022-11-16T08:37:15.280123Z",
     "iopub.status.idle": "2022-11-16T08:37:15.302918Z",
     "shell.execute_reply": "2022-11-16T08:37:15.302381Z",
     "shell.execute_reply.started": "2022-11-16T08:37:15.280280Z"
    },
    "tags": []
   },
   "outputs": [],
   "source": [
    "from tsdm.utils import time2int\n",
    "\n",
    "df[\"time\"] = time2int(df[\"time\"])"
   ]
  },
  {
   "cell_type": "code",
   "execution_count": null,
   "id": "1289ed60-0b19-4d3e-a408-6d1f8a792e85",
   "metadata": {
    "execution": {
     "iopub.status.busy": "2022-11-16T08:35:24.202053Z",
     "iopub.status.idle": "2022-11-16T08:35:24.202325Z",
     "shell.execute_reply": "2022-11-16T08:35:24.202223Z",
     "shell.execute_reply.started": "2022-11-16T08:35:24.202213Z"
    }
   },
   "outputs": [],
   "source": [
    "X"
   ]
  },
  {
   "cell_type": "code",
   "execution_count": null,
   "id": "fd53be8b-c81a-4b02-be18-9f2495014c94",
   "metadata": {
    "execution": {
     "iopub.status.busy": "2022-11-16T08:35:24.202847Z",
     "iopub.status.idle": "2022-11-16T08:35:24.203228Z",
     "shell.execute_reply": "2022-11-16T08:35:24.203125Z",
     "shell.execute_reply.started": "2022-11-16T08:35:24.203114Z"
    }
   },
   "outputs": [],
   "source": [
    "X.columns"
   ]
  },
  {
   "cell_type": "code",
   "execution_count": null,
   "id": "371be6dc-5db2-4972-b736-dfbe2e2482ba",
   "metadata": {
    "execution": {
     "iopub.execute_input": "2022-11-16T08:37:19.872252Z",
     "iopub.status.busy": "2022-11-16T08:37:19.872085Z",
     "iopub.status.idle": "2022-11-16T08:37:19.950510Z",
     "shell.execute_reply": "2022-11-16T08:37:19.950154Z",
     "shell.execute_reply.started": "2022-11-16T08:37:19.872241Z"
    },
    "tags": []
   },
   "outputs": [],
   "source": [
    "df = X.reset_index()\n",
    "df[\"time\"] = df[\"time\"].astype(int)\n",
    "df"
   ]
  },
  {
   "cell_type": "code",
   "execution_count": null,
   "id": "efd1c10f-997b-489c-8bd9-06d53c16d67e",
   "metadata": {
    "execution": {
     "iopub.execute_input": "2022-11-16T08:37:20.410512Z",
     "iopub.status.busy": "2022-11-16T08:37:20.410344Z",
     "iopub.status.idle": "2022-11-16T08:37:21.519881Z",
     "shell.execute_reply": "2022-11-16T08:37:21.519348Z",
     "shell.execute_reply.started": "2022-11-16T08:37:20.410501Z"
    },
    "tags": []
   },
   "outputs": [],
   "source": [
    "from pytorch_forecasting import TimeSeriesDataSet\n",
    "\n",
    "ds = TimeSeriesDataSet(\n",
    "    df,\n",
    "    time_idx=\"time\",\n",
    "    target=X.columns[:5],\n",
    "    group_ids=X.columns,\n",
    "    min_encoder_length=11,\n",
    "    max_encoder_length=11,\n",
    "    min_prediction_length=7,\n",
    "    max_prediction_length=7,\n",
    "    time_varying_known_reals=X.columns,\n",
    ")"
   ]
  },
  {
   "cell_type": "code",
   "execution_count": null,
   "id": "a606f2b9-0dc1-4f91-b2b5-3dac7cb27fef",
   "metadata": {
    "execution": {
     "iopub.status.busy": "2022-11-16T08:35:24.205429Z",
     "iopub.status.idle": "2022-11-16T08:35:24.205749Z",
     "shell.execute_reply": "2022-11-16T08:35:24.205648Z",
     "shell.execute_reply.started": "2022-11-16T08:35:24.205637Z"
    }
   },
   "outputs": [],
   "source": [
    "dataloader = ds.to_dataloader(batch_size=32)\n",
    "x, y = next(iter(dataloader))\n",
    "for key, value in x.items():\n",
    "    print(f\"{key:16s} = {value.size()}\")"
   ]
  },
  {
   "cell_type": "code",
   "execution_count": null,
   "id": "9cea65c4-9852-48f5-951c-f508686cd611",
   "metadata": {
    "execution": {
     "iopub.status.busy": "2022-11-16T08:35:24.206205Z",
     "iopub.status.idle": "2022-11-16T08:35:24.206419Z",
     "shell.execute_reply": "2022-11-16T08:35:24.206317Z",
     "shell.execute_reply.started": "2022-11-16T08:35:24.206307Z"
    }
   },
   "outputs": [],
   "source": [
    "from tsdm.utils import make_sparse_triplets\n",
    "\n",
    "df = make_sparse_triplets(X).reset_index()\n",
    "df"
   ]
  },
  {
   "cell_type": "code",
   "execution_count": null,
   "id": "16441b10-9794-4541-90f2-1a352ab39729",
   "metadata": {
    "execution": {
     "iopub.status.busy": "2022-11-16T08:35:24.207113Z",
     "iopub.status.idle": "2022-11-16T08:35:24.207332Z",
     "shell.execute_reply": "2022-11-16T08:35:24.207219Z",
     "shell.execute_reply.started": "2022-11-16T08:35:24.207209Z"
    }
   },
   "outputs": [],
   "source": [
    "from tsdm.utils import time2int\n",
    "\n",
    "df[\"time\"] = time2int(df[\"time\"])\n",
    "df"
   ]
  },
  {
   "cell_type": "code",
   "execution_count": null,
   "id": "269bbe86-36d5-410d-9fa6-92ae24e799ec",
   "metadata": {
    "execution": {
     "iopub.status.busy": "2022-11-16T08:35:24.207821Z",
     "iopub.status.idle": "2022-11-16T08:35:24.208031Z",
     "shell.execute_reply": "2022-11-16T08:35:24.207935Z",
     "shell.execute_reply.started": "2022-11-16T08:35:24.207925Z"
    }
   },
   "outputs": [],
   "source": [
    "from pytorch_forecasting import TimeSeriesDataSet\n",
    "\n",
    "ds = TimeSeriesDataSet(\n",
    "    df,\n",
    "    time_idx=\"time\",\n",
    "    target=\"value\",\n",
    "    group_ids=[\"variable\"],\n",
    "    min_encoder_length=11,\n",
    "    max_encoder_length=11,\n",
    "    min_prediction_length=7,\n",
    "    max_prediction_length=7,\n",
    "    time_varying_unknown_reals=[\"value\"],\n",
    ")"
   ]
  },
  {
   "cell_type": "code",
   "execution_count": null,
   "id": "a627564d-1e7e-4433-821a-2f6a2703873a",
   "metadata": {
    "execution": {
     "iopub.status.busy": "2022-11-16T08:35:24.208572Z",
     "iopub.status.idle": "2022-11-16T08:35:24.208778Z",
     "shell.execute_reply": "2022-11-16T08:35:24.208681Z",
     "shell.execute_reply.started": "2022-11-16T08:35:24.208671Z"
    },
    "tags": []
   },
   "outputs": [],
   "source": [
    "dataloader = ds.to_dataloader(batch_size=32)\n",
    "x, y = next(iter(dataloader))\n",
    "for key, value in x.items():\n",
    "    print(f\"{key:16s} = {value.size()}\")"
   ]
  }
 ],
 "metadata": {
  "kernelspec": {
   "display_name": "Python 3 (ipykernel)",
   "language": "python",
   "name": "python3"
  },
  "language_info": {
   "codemirror_mode": {
    "name": "ipython",
    "version": 3
   },
   "file_extension": ".py",
   "mimetype": "text/x-python",
   "name": "python",
   "nbconvert_exporter": "python",
   "pygments_lexer": "ipython3",
   "version": "3.10.6"
  }
 },
 "nbformat": 4,
 "nbformat_minor": 5
}
