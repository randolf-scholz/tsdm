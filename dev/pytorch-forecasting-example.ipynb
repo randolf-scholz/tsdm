{
 "cells": [
  {
   "cell_type": "markdown",
   "id": "4340cc9c-9439-4ce3-8f20-397e5506884f",
   "metadata": {},
   "source": [
    "## Train Test Split"
   ]
  },
  {
   "cell_type": "code",
   "execution_count": null,
   "id": "3eb16a14-223f-4cbf-a08f-83a1649d9d96",
   "metadata": {},
   "outputs": [],
   "source": [
    "%load_ext autoreload\n",
    "%autoreload 2"
   ]
  },
  {
   "cell_type": "code",
   "execution_count": null,
   "id": "5ce25be9-0756-4d2d-93a9-e2030d819ed8",
   "metadata": {},
   "outputs": [],
   "source": [
    "import pandas as pd\n",
    "from pandas import DataFrame, Series\n",
    "\n",
    "pd.set_option(\"display.max_rows\", 5)"
   ]
  },
  {
   "cell_type": "code",
   "execution_count": null,
   "id": "8897644e-5c62-4d5e-89ae-ad7ea8a13fbf",
   "metadata": {},
   "outputs": [],
   "source": [
    "s = DataFrame({\"abc\": [(0, 1), (1,), (2, 3), (0, 1), (0, 1)]})\n",
    "s"
   ]
  },
  {
   "cell_type": "code",
   "execution_count": null,
   "id": "42455097-57c2-4931-929c-6d04390f65d3",
   "metadata": {},
   "outputs": [],
   "source": [
    "pd.api.types.is_categorical_dtype(s)"
   ]
  },
  {
   "cell_type": "code",
   "execution_count": null,
   "id": "1ef38b4a-302a-499c-a1d7-848308a1da27",
   "metadata": {},
   "outputs": [],
   "source": [
    "pd.get_dummies(s)"
   ]
  },
  {
   "cell_type": "code",
   "execution_count": null,
   "id": "5c9e9a87-0450-45fa-954d-955cf75ba251",
   "metadata": {
    "tags": []
   },
   "outputs": [],
   "source": [
    "set(s.squeeze().astype(pd.CategoricalDtype()).dtype.categories)"
   ]
  },
  {
   "cell_type": "code",
   "execution_count": null,
   "id": "72488e23-0fdc-482b-9eb6-efde6cd9fb4c",
   "metadata": {
    "tags": []
   },
   "outputs": [],
   "source": [
    "s = Series([(0, 1), (1,), (2, 3), (0, 1), (0, 1)], name=\"abc\")\n",
    "s.astype(\"string\").dtype == pd.StringDtype\n",
    "s"
   ]
  },
  {
   "cell_type": "code",
   "execution_count": null,
   "id": "93cf478a-2645-412d-8e8b-6a79fd0ac23f",
   "metadata": {
    "tags": []
   },
   "outputs": [],
   "source": [
    "from tsdm.datasets import Electricity\n",
    "\n",
    "X = Electricity().dataset\n",
    "X"
   ]
  },
  {
   "cell_type": "code",
   "execution_count": null,
   "id": "666be7f4-9955-4750-8426-24661617572e",
   "metadata": {
    "tags": []
   },
   "outputs": [],
   "source": [
    "from tsdm.encoders.functional import make_dense_triplets\n",
    "\n",
    "df = make_dense_triplets(X)\n",
    "df"
   ]
  },
  {
   "cell_type": "code",
   "execution_count": null,
   "id": "1556300a-ea9a-4a46-a568-c9efc193aa1a",
   "metadata": {
    "tags": []
   },
   "outputs": [],
   "source": [
    "from tsdm.utils import time2int\n",
    "\n",
    "df[\"time\"] = time2int(df[\"time\"])"
   ]
  },
  {
   "cell_type": "code",
   "execution_count": null,
   "id": "1289ed60-0b19-4d3e-a408-6d1f8a792e85",
   "metadata": {},
   "outputs": [],
   "source": [
    "X"
   ]
  },
  {
   "cell_type": "code",
   "execution_count": null,
   "id": "fd53be8b-c81a-4b02-be18-9f2495014c94",
   "metadata": {},
   "outputs": [],
   "source": [
    "X.columns"
   ]
  },
  {
   "cell_type": "code",
   "execution_count": null,
   "id": "371be6dc-5db2-4972-b736-dfbe2e2482ba",
   "metadata": {
    "tags": []
   },
   "outputs": [],
   "source": [
    "df = X.reset_index()\n",
    "df[\"time\"] = df[\"time\"].astype(int)\n",
    "df"
   ]
  },
  {
   "cell_type": "code",
   "execution_count": null,
   "id": "efd1c10f-997b-489c-8bd9-06d53c16d67e",
   "metadata": {
    "tags": []
   },
   "outputs": [],
   "source": [
    "from pytorch_forecasting import TimeSeriesDataSet\n",
    "\n",
    "ds = TimeSeriesDataSet(\n",
    "    df,\n",
    "    time_idx=\"time\",\n",
    "    target=X.columns[:5],\n",
    "    group_ids=X.columns,\n",
    "    min_encoder_length=11,\n",
    "    max_encoder_length=11,\n",
    "    min_prediction_length=7,\n",
    "    max_prediction_length=7,\n",
    "    time_varying_known_reals=X.columns,\n",
    ")"
   ]
  },
  {
   "cell_type": "code",
   "execution_count": null,
   "id": "a606f2b9-0dc1-4f91-b2b5-3dac7cb27fef",
   "metadata": {},
   "outputs": [],
   "source": [
    "dataloader = ds.to_dataloader(batch_size=32)\n",
    "x, y = next(iter(dataloader))\n",
    "for key, value in x.items():\n",
    "    print(f\"{key:16s} = {value.size()}\")"
   ]
  },
  {
   "cell_type": "code",
   "execution_count": null,
   "id": "9cea65c4-9852-48f5-951c-f508686cd611",
   "metadata": {},
   "outputs": [],
   "source": [
    "from tsdm.utils import make_sparse_triplets\n",
    "\n",
    "df = make_sparse_triplets(X).reset_index()\n",
    "df"
   ]
  },
  {
   "cell_type": "code",
   "execution_count": null,
   "id": "16441b10-9794-4541-90f2-1a352ab39729",
   "metadata": {},
   "outputs": [],
   "source": [
    "from tsdm.utils import time2int\n",
    "\n",
    "df[\"time\"] = time2int(df[\"time\"])\n",
    "df"
   ]
  },
  {
   "cell_type": "code",
   "execution_count": null,
   "id": "269bbe86-36d5-410d-9fa6-92ae24e799ec",
   "metadata": {},
   "outputs": [],
   "source": [
    "from pytorch_forecasting import TimeSeriesDataSet\n",
    "\n",
    "ds = TimeSeriesDataSet(\n",
    "    df,\n",
    "    time_idx=\"time\",\n",
    "    target=\"value\",\n",
    "    group_ids=[\"variable\"],\n",
    "    min_encoder_length=11,\n",
    "    max_encoder_length=11,\n",
    "    min_prediction_length=7,\n",
    "    max_prediction_length=7,\n",
    "    time_varying_unknown_reals=[\"value\"],\n",
    ")"
   ]
  },
  {
   "cell_type": "code",
   "execution_count": null,
   "id": "a627564d-1e7e-4433-821a-2f6a2703873a",
   "metadata": {
    "tags": []
   },
   "outputs": [],
   "source": [
    "dataloader = ds.to_dataloader(batch_size=32)\n",
    "x, y = next(iter(dataloader))\n",
    "for key, value in x.items():\n",
    "    print(f\"{key:16s} = {value.size()}\")"
   ]
  }
 ],
 "metadata": {
  "kernelspec": {
   "display_name": "Python 3 (ipykernel)",
   "language": "python",
   "name": "python3"
  },
  "language_info": {
   "codemirror_mode": {
    "name": "ipython",
    "version": 3
   },
   "file_extension": ".py",
   "mimetype": "text/x-python",
   "name": "python",
   "nbconvert_exporter": "python",
   "pygments_lexer": "ipython3",
   "version": "3.10.6"
  }
 },
 "nbformat": 4,
 "nbformat_minor": 5
}
