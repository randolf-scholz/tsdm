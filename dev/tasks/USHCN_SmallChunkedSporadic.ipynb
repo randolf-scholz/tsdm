{
 "cells": [
  {
   "cell_type": "markdown",
   "metadata": {},
   "source": [
    "# Title"
   ]
  },
  {
   "cell_type": "code",
   "execution_count": 1,
   "metadata": {},
   "outputs": [],
   "source": [
    "%config InteractiveShell.ast_node_interactivity='last_expr_or_assign'  # always print last expr.\n",
    "%load_ext autoreload\n",
    "%autoreload 2\n",
    "%matplotlib inline"
   ]
  },
  {
   "cell_type": "code",
   "execution_count": 2,
   "metadata": {},
   "outputs": [],
   "source": [
    "import numpy as np\n",
    "from sklearn.model_selection import train_test_split\n",
    "from sklearn.preprocessing import LabelEncoder"
   ]
  },
  {
   "cell_type": "code",
   "execution_count": 3,
   "metadata": {
    "tags": []
   },
   "outputs": [],
   "source": [
    "import tsdm\n",
    "USHCN =  tsdm.datasets.USHCN_SmallChunkedSporadic\n",
    "ds = USHCN.dataset"
   ]
  },
  {
   "cell_type": "code",
   "execution_count": 4,
   "metadata": {},
   "outputs": [],
   "source": [
    "from tsdm.util import Split\n",
    "N = ds[\"ID\"].nunique()\n",
    "\n",
    "num_folds = 5\n",
    "np.random.seed(432)\n",
    "\n",
    "folds = []\n",
    "for fold in range(num_folds):\n",
    "    train_idx, test_idx = train_test_split(np.arange(N), test_size=0.1)\n",
    "    train_idx, val_idx = train_test_split(train_idx, test_size=0.2)\n",
    "    folds.append(Split(train=train_idx, valid=val_idx, test=test_idx))"
   ]
  },
  {
   "cell_type": "code",
   "execution_count": 5,
   "metadata": {},
   "outputs": [],
   "source": [
    "df = ds.copy().loc[ds[\"ID\"].isin(folds[0].train)]\n",
    "df.ID  = LabelEncoder().fit_transform(df.ID)\n",
    "df = df.sort_values([\"Time\", \"ID\"]).set_index(\"ID\")"
   ]
  },
  {
   "cell_type": "code",
   "execution_count": 6,
   "metadata": {},
   "outputs": [],
   "source": [
    "import gru_ode_bayes\n",
    "from gru_ode_bayes.data_utils import ODE_Dataset"
   ]
  },
  {
   "cell_type": "code",
   "execution_count": 7,
   "metadata": {},
   "outputs": [],
   "source": [
    "ode_ds = ODE_Dataset(panda_df = ds, idx=folds[0].train )\n",
    "ode_ds.df = ode_ds.df.sort_values([\"Time\", \"ID\"])\n",
    "ode_ds.df"
   ]
  },
  {
   "cell_type": "code",
   "execution_count": 8,
   "metadata": {},
   "outputs": [],
   "source": [
    "df.loc[df.index == 0]"
   ]
  },
  {
   "cell_type": "code",
   "execution_count": 9,
   "metadata": {},
   "outputs": [],
   "source": [
    "ode_ds[0][\"path\"]"
   ]
  }
 ],
 "metadata": {
  "kernelspec": {
   "display_name": "Python 3 (ipykernel)",
   "language": "python",
   "name": "python3"
  },
  "language_info": {
   "codemirror_mode": {
    "name": "ipython",
    "version": 3
   },
   "file_extension": ".py",
   "mimetype": "text/x-python",
   "name": "python",
   "nbconvert_exporter": "python",
   "pygments_lexer": "ipython3",
   "version": "3.9.7"
  }
 },
 "nbformat": 4,
 "nbformat_minor": 4
}
