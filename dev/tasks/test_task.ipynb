{
 "cells": [
  {
   "cell_type": "code",
   "execution_count": null,
   "id": "20191951-beec-414a-b3c6-89dca8277ad2",
   "metadata": {
    "tags": []
   },
   "outputs": [],
   "source": [
    "%config InteractiveShell.ast_node_interactivity='last_expr_or_assign'  # always print last expr.\n",
    "%config InlineBackend.figure_format = 'svg'\n",
    "%load_ext autoreload\n",
    "%autoreload 2\n",
    "%matplotlib inline"
   ]
  },
  {
   "cell_type": "code",
   "execution_count": null,
   "id": "58b7f6d7",
   "metadata": {
    "tags": []
   },
   "outputs": [],
   "source": [
    "import tsdm"
   ]
  },
  {
   "cell_type": "markdown",
   "id": "9cd9d9a8-1a93-44f4-a545-494d92eae358",
   "metadata": {},
   "source": [
    "## USHCN"
   ]
  },
  {
   "cell_type": "code",
   "execution_count": null,
   "id": "d695b42b",
   "metadata": {
    "tags": []
   },
   "outputs": [],
   "source": [
    "task = tsdm.tasks.USHCN_DeBrouwer2019()\n",
    "task.index"
   ]
  },
  {
   "cell_type": "code",
   "execution_count": null,
   "id": "5f1f19db-ae72-4da8-8b53-ea8aaaf934fc",
   "metadata": {},
   "outputs": [],
   "source": [
    "task.dataset"
   ]
  },
  {
   "cell_type": "code",
   "execution_count": null,
   "id": "7392b5f2-cac5-4f90-8186-d1d1fbdc6bf2",
   "metadata": {
    "tags": []
   },
   "outputs": [],
   "source": [
    "collate_fn = tsdm.tasks.ushcn_debrouwer2019.ushcn_collate\n",
    "dloader = task.get_dataloader((0, \"test\"), batch_size=2, collate_fn=collate_fn)\n",
    "next(iter(dloader))"
   ]
  },
  {
   "cell_type": "markdown",
   "id": "4930ec09-56ee-4ac2-8808-78a91ca7e5f7",
   "metadata": {},
   "source": [
    "## MIMIC-III"
   ]
  },
  {
   "cell_type": "code",
   "execution_count": null,
   "id": "92601963-a076-4e01-bdfd-f26f05461761",
   "metadata": {
    "tags": []
   },
   "outputs": [],
   "source": [
    "task = tsdm.tasks.MIMIC_III_DeBrouwer2019()\n",
    "task.index"
   ]
  },
  {
   "cell_type": "code",
   "execution_count": null,
   "id": "d14fba9a-c54c-4a07-86f5-471080692151",
   "metadata": {
    "tags": []
   },
   "outputs": [],
   "source": [
    "collate_fn = tsdm.tasks.mimic_iii_debrouwer2019.mimic_collate\n",
    "dloader = task.get_dataloader((0, \"test\"), batch_size=2, collate_fn=collate_fn)\n",
    "next(iter(dloader))"
   ]
  },
  {
   "cell_type": "markdown",
   "id": "41808648-dcbc-4724-b621-67093a60993c",
   "metadata": {},
   "source": [
    "## MIMIC-IV"
   ]
  },
  {
   "cell_type": "code",
   "execution_count": null,
   "id": "b9aaa316-8022-44d5-b001-02a6af2ef45e",
   "metadata": {
    "tags": []
   },
   "outputs": [],
   "source": [
    "ds = tsdm.datasets.MIMIC_IV_Bilos2021()"
   ]
  },
  {
   "cell_type": "code",
   "execution_count": null,
   "id": "573d168d-99c9-476f-b592-3e9578d8fd4b",
   "metadata": {
    "tags": []
   },
   "outputs": [],
   "source": [
    "ds[\"timeseries\"]"
   ]
  },
  {
   "cell_type": "code",
   "execution_count": null,
   "id": "a4636b1d-4c3b-49db-bea2-9197ebf9ddd2",
   "metadata": {
    "tags": []
   },
   "outputs": [],
   "source": [
    "import pandas as pd"
   ]
  },
  {
   "cell_type": "code",
   "execution_count": null,
   "id": "87d99e43-2898-4cbe-9d9d-c9642cd07f38",
   "metadata": {
    "tags": []
   },
   "outputs": [],
   "source": [
    "import pyarrow.csv"
   ]
  },
  {
   "cell_type": "code",
   "execution_count": null,
   "id": "2fa17188-c4f5-4692-b22e-de66ea8a2361",
   "metadata": {
    "tags": []
   },
   "outputs": [],
   "source": [
    "dfB = pd.read_csv(ds.rawdata_paths)"
   ]
  },
  {
   "cell_type": "code",
   "execution_count": null,
   "id": "5c3973e7-b145-43d7-977b-89c842c78201",
   "metadata": {
    "tags": []
   },
   "outputs": [],
   "source": [
    "pd.testing.assert_frame_equal(dfA, dfB)"
   ]
  },
  {
   "cell_type": "code",
   "execution_count": null,
   "id": "e25b4ab8-ae34-4cce-b7d4-657153ae8338",
   "metadata": {
    "tags": []
   },
   "outputs": [],
   "source": [
    "dfA = pyarrow.csv.read_csv(ds.rawdata_paths).to_pandas()"
   ]
  },
  {
   "cell_type": "code",
   "execution_count": null,
   "id": "cf7add3d-6652-4e23-8a85-599f7b57bb79",
   "metadata": {
    "tags": []
   },
   "outputs": [],
   "source": [
    "ds.timeseries.shape"
   ]
  },
  {
   "cell_type": "code",
   "execution_count": null,
   "id": "2fed2c27-1d69-41ab-bad9-432434e70878",
   "metadata": {},
   "outputs": [],
   "source": []
  }
 ],
 "metadata": {
  "kernelspec": {
   "display_name": "Python 3 (ipykernel)",
   "language": "python",
   "name": "python3"
  },
  "language_info": {
   "codemirror_mode": {
    "name": "ipython",
    "version": 3
   },
   "file_extension": ".py",
   "mimetype": "text/x-python",
   "name": "python",
   "nbconvert_exporter": "python",
   "pygments_lexer": "ipython3",
   "version": "3.10.6"
  }
 },
 "nbformat": 4,
 "nbformat_minor": 5
}
