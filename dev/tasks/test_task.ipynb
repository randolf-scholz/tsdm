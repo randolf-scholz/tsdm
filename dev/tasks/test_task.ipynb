{
 "cells": [
  {
   "cell_type": "code",
   "execution_count": null,
   "id": "20191951-beec-414a-b3c6-89dca8277ad2",
   "metadata": {
    "execution": {
     "iopub.execute_input": "2022-09-20T14:21:48.603174Z",
     "iopub.status.busy": "2022-09-20T14:21:48.602781Z",
     "iopub.status.idle": "2022-09-20T14:21:49.037205Z",
     "shell.execute_reply": "2022-09-20T14:21:49.036780Z",
     "shell.execute_reply.started": "2022-09-20T14:21:48.603069Z"
    },
    "tags": []
   },
   "outputs": [],
   "source": [
    "%config InteractiveShell.ast_node_interactivity='last_expr_or_assign'  # always print last expr.\n",
    "%config InlineBackend.figure_format = 'svg'\n",
    "%load_ext autoreload\n",
    "%autoreload 2\n",
    "%matplotlib inline"
   ]
  },
  {
   "cell_type": "code",
   "execution_count": null,
   "id": "58b7f6d7",
   "metadata": {
    "execution": {
     "iopub.execute_input": "2022-09-20T14:21:49.283581Z",
     "iopub.status.busy": "2022-09-20T14:21:49.283056Z",
     "iopub.status.idle": "2022-09-20T14:21:50.263106Z",
     "shell.execute_reply": "2022-09-20T14:21:50.262471Z",
     "shell.execute_reply.started": "2022-09-20T14:21:49.283563Z"
    },
    "tags": []
   },
   "outputs": [],
   "source": [
    "import tsdm"
   ]
  },
  {
   "cell_type": "markdown",
   "id": "9cd9d9a8-1a93-44f4-a545-494d92eae358",
   "metadata": {},
   "source": [
    "## USHCN"
   ]
  },
  {
   "cell_type": "code",
   "execution_count": null,
   "id": "d695b42b",
   "metadata": {
    "execution": {
     "iopub.execute_input": "2022-09-20T14:13:24.965949Z",
     "iopub.status.busy": "2022-09-20T14:13:24.965630Z",
     "iopub.status.idle": "2022-09-20T14:13:25.068536Z",
     "shell.execute_reply": "2022-09-20T14:13:25.068022Z",
     "shell.execute_reply.started": "2022-09-20T14:13:24.965935Z"
    },
    "tags": []
   },
   "outputs": [],
   "source": [
    "task = tsdm.tasks.USHCN_DeBrouwer2019()\n",
    "task.index"
   ]
  },
  {
   "cell_type": "code",
   "execution_count": null,
   "id": "5f1f19db-ae72-4da8-8b53-ea8aaaf934fc",
   "metadata": {
    "execution": {
     "iopub.execute_input": "2022-09-20T14:09:06.174346Z",
     "iopub.status.busy": "2022-09-20T14:09:06.174129Z",
     "iopub.status.idle": "2022-09-20T14:09:06.202413Z",
     "shell.execute_reply": "2022-09-20T14:09:06.201938Z",
     "shell.execute_reply.started": "2022-09-20T14:09:06.174329Z"
    }
   },
   "outputs": [],
   "source": [
    "task.dataset"
   ]
  },
  {
   "cell_type": "code",
   "execution_count": null,
   "id": "7392b5f2-cac5-4f90-8186-d1d1fbdc6bf2",
   "metadata": {
    "execution": {
     "iopub.execute_input": "2022-09-20T13:57:00.358992Z",
     "iopub.status.busy": "2022-09-20T13:57:00.358857Z",
     "iopub.status.idle": "2022-09-20T13:57:00.729306Z",
     "shell.execute_reply": "2022-09-20T13:57:00.728718Z",
     "shell.execute_reply.started": "2022-09-20T13:57:00.358980Z"
    },
    "tags": []
   },
   "outputs": [],
   "source": [
    "collate_fn = tsdm.tasks.ushcn_debrouwer2019.ushcn_collate\n",
    "dloader = task.get_dataloader((0, \"test\"), batch_size=2, collate_fn=collate_fn)\n",
    "next(iter(dloader))"
   ]
  },
  {
   "cell_type": "markdown",
   "id": "4930ec09-56ee-4ac2-8808-78a91ca7e5f7",
   "metadata": {},
   "source": [
    "## MIMIC-III"
   ]
  },
  {
   "cell_type": "code",
   "execution_count": null,
   "id": "92601963-a076-4e01-bdfd-f26f05461761",
   "metadata": {
    "execution": {
     "iopub.execute_input": "2022-09-20T14:07:28.946750Z",
     "iopub.status.busy": "2022-09-20T14:07:28.946458Z",
     "iopub.status.idle": "2022-09-20T14:07:35.118073Z",
     "shell.execute_reply": "2022-09-20T14:07:35.117468Z",
     "shell.execute_reply.started": "2022-09-20T14:07:28.946736Z"
    },
    "tags": []
   },
   "outputs": [],
   "source": [
    "task = tsdm.tasks.MIMIC_III_DeBrouwer2019()\n",
    "task.index"
   ]
  },
  {
   "cell_type": "code",
   "execution_count": null,
   "id": "d14fba9a-c54c-4a07-86f5-471080692151",
   "metadata": {
    "execution": {
     "iopub.execute_input": "2022-09-20T14:08:02.244681Z",
     "iopub.status.busy": "2022-09-20T14:08:02.244052Z",
     "iopub.status.idle": "2022-09-20T14:08:10.110860Z",
     "shell.execute_reply": "2022-09-20T14:08:10.110283Z",
     "shell.execute_reply.started": "2022-09-20T14:08:02.244635Z"
    },
    "tags": []
   },
   "outputs": [],
   "source": [
    "collate_fn = tsdm.tasks.mimic_iii_debrouwer2019.mimic_collate\n",
    "dloader = task.get_dataloader((0, \"test\"), batch_size=2, collate_fn=collate_fn)\n",
    "next(iter(dloader))"
   ]
  },
  {
   "cell_type": "markdown",
   "id": "41808648-dcbc-4724-b621-67093a60993c",
   "metadata": {},
   "source": [
    "## MIMIC-IV"
   ]
  },
  {
   "cell_type": "code",
   "execution_count": null,
   "id": "b9aaa316-8022-44d5-b001-02a6af2ef45e",
   "metadata": {
    "execution": {
     "iopub.execute_input": "2022-09-20T14:21:55.227927Z",
     "iopub.status.busy": "2022-09-20T14:21:55.227481Z",
     "iopub.status.idle": "2022-09-20T14:21:55.715654Z",
     "shell.execute_reply": "2022-09-20T14:21:55.715310Z",
     "shell.execute_reply.started": "2022-09-20T14:21:55.227908Z"
    },
    "tags": []
   },
   "outputs": [],
   "source": [
    "ds = tsdm.datasets.MIMIC_IV_Bilos2021()"
   ]
  },
  {
   "cell_type": "code",
   "execution_count": null,
   "id": "573d168d-99c9-476f-b592-3e9578d8fd4b",
   "metadata": {
    "execution": {
     "iopub.execute_input": "2022-09-20T14:23:49.928635Z",
     "iopub.status.busy": "2022-09-20T14:23:49.927796Z",
     "iopub.status.idle": "2022-09-20T14:23:50.172394Z",
     "shell.execute_reply": "2022-09-20T14:23:50.171724Z",
     "shell.execute_reply.started": "2022-09-20T14:23:49.928616Z"
    },
    "tags": []
   },
   "outputs": [],
   "source": [
    "ds[\"timeseries\"]"
   ]
  },
  {
   "cell_type": "code",
   "execution_count": null,
   "id": "a4636b1d-4c3b-49db-bea2-9197ebf9ddd2",
   "metadata": {
    "execution": {
     "iopub.execute_input": "2022-09-20T14:21:57.854877Z",
     "iopub.status.busy": "2022-09-20T14:21:57.854676Z",
     "iopub.status.idle": "2022-09-20T14:21:57.872778Z",
     "shell.execute_reply": "2022-09-20T14:21:57.872299Z",
     "shell.execute_reply.started": "2022-09-20T14:21:57.854860Z"
    },
    "tags": []
   },
   "outputs": [],
   "source": [
    "import pandas as pd"
   ]
  },
  {
   "cell_type": "code",
   "execution_count": null,
   "id": "87d99e43-2898-4cbe-9d9d-c9642cd07f38",
   "metadata": {
    "execution": {
     "iopub.execute_input": "2022-09-20T14:21:58.117855Z",
     "iopub.status.busy": "2022-09-20T14:21:58.117314Z",
     "iopub.status.idle": "2022-09-20T14:21:58.136950Z",
     "shell.execute_reply": "2022-09-20T14:21:58.136438Z",
     "shell.execute_reply.started": "2022-09-20T14:21:58.117839Z"
    },
    "tags": []
   },
   "outputs": [],
   "source": [
    "import pyarrow.csv"
   ]
  },
  {
   "cell_type": "code",
   "execution_count": null,
   "id": "2fa17188-c4f5-4692-b22e-de66ea8a2361",
   "metadata": {
    "execution": {
     "iopub.execute_input": "2022-09-20T14:22:00.550991Z",
     "iopub.status.busy": "2022-09-20T14:22:00.550707Z",
     "iopub.status.idle": "2022-09-20T14:22:16.611191Z",
     "shell.execute_reply": "2022-09-20T14:22:16.610681Z",
     "shell.execute_reply.started": "2022-09-20T14:22:00.550975Z"
    },
    "tags": []
   },
   "outputs": [],
   "source": [
    "dfB = pd.read_csv(ds.rawdata_paths)"
   ]
  },
  {
   "cell_type": "code",
   "execution_count": null,
   "id": "5c3973e7-b145-43d7-977b-89c842c78201",
   "metadata": {
    "execution": {
     "iopub.execute_input": "2022-09-20T14:22:54.897515Z",
     "iopub.status.busy": "2022-09-20T14:22:54.897316Z",
     "iopub.status.idle": "2022-09-20T14:23:30.456015Z",
     "shell.execute_reply": "2022-09-20T14:23:30.455488Z",
     "shell.execute_reply.started": "2022-09-20T14:22:54.897502Z"
    },
    "tags": []
   },
   "outputs": [],
   "source": [
    "pd.testing.assert_frame_equal(dfA, dfB)"
   ]
  },
  {
   "cell_type": "code",
   "execution_count": null,
   "id": "e25b4ab8-ae34-4cce-b7d4-657153ae8338",
   "metadata": {
    "execution": {
     "iopub.execute_input": "2022-09-20T14:22:48.736638Z",
     "iopub.status.busy": "2022-09-20T14:22:48.735889Z",
     "iopub.status.idle": "2022-09-20T14:22:51.861081Z",
     "shell.execute_reply": "2022-09-20T14:22:51.860238Z",
     "shell.execute_reply.started": "2022-09-20T14:22:48.736618Z"
    },
    "tags": []
   },
   "outputs": [],
   "source": [
    "dfA = pyarrow.csv.read_csv(ds.rawdata_paths).to_pandas()"
   ]
  },
  {
   "cell_type": "code",
   "execution_count": null,
   "id": "cf7add3d-6652-4e23-8a85-599f7b57bb79",
   "metadata": {
    "execution": {
     "iopub.execute_input": "2022-09-20T14:18:08.106017Z",
     "iopub.status.busy": "2022-09-20T14:18:08.105682Z",
     "iopub.status.idle": "2022-09-20T14:18:08.129087Z",
     "shell.execute_reply": "2022-09-20T14:18:08.128038Z",
     "shell.execute_reply.started": "2022-09-20T14:18:08.105984Z"
    },
    "tags": []
   },
   "outputs": [],
   "source": [
    "ds.timeseries.shape"
   ]
  },
  {
   "cell_type": "code",
   "execution_count": null,
   "id": "2fed2c27-1d69-41ab-bad9-432434e70878",
   "metadata": {},
   "outputs": [],
   "source": []
  }
 ],
 "metadata": {
  "kernelspec": {
   "display_name": "Python 3 (ipykernel)",
   "language": "python",
   "name": "python3"
  },
  "language_info": {
   "codemirror_mode": {
    "name": "ipython",
    "version": 3
   },
   "file_extension": ".py",
   "mimetype": "text/x-python",
   "name": "python",
   "nbconvert_exporter": "python",
   "pygments_lexer": "ipython3",
   "version": "3.10.6"
  }
 },
 "nbformat": 4,
 "nbformat_minor": 5
}
