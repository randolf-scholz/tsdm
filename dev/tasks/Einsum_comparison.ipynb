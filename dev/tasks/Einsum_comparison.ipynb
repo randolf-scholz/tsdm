{
 "cells": [
  {
   "cell_type": "markdown",
   "metadata": {},
   "source": [
    "# Title"
   ]
  },
  {
   "cell_type": "code",
   "execution_count": null,
   "metadata": {},
   "outputs": [],
   "source": [
    "%config InteractiveShell.ast_node_interactivity='last_expr_or_assign'  # always print last expr.\n",
    "%config InlineBackend.figure_format = 'svg'\n",
    "%load_ext autoreload\n",
    "%autoreload 2\n",
    "%matplotlib inline"
   ]
  },
  {
   "cell_type": "code",
   "execution_count": null,
   "metadata": {},
   "outputs": [],
   "source": []
  },
  {
   "cell_type": "code",
   "execution_count": null,
   "metadata": {},
   "outputs": [],
   "source": [
    "%reset -f\n",
    "\n",
    "import numpy as np\n",
    "\n",
    "n, d = 10_000_000, 10\n",
    "A = np.random.randn(d, d)\n",
    "x = np.random.randn(n, d)\n",
    "\n",
    "\n",
    "def f(x):\n",
    "    return np.einsum(\"...d, ...e, de -> ...\", x, x, A, optimize=True)\n",
    "\n",
    "\n",
    "def g(x):\n",
    "    return (x @ A * x).sum(len(x.shape) - 1)\n",
    "\n",
    "\n",
    "assert f(x).shape == g(x).shape\n",
    "np.allclose(f(x), g(x))"
   ]
  },
  {
   "cell_type": "code",
   "execution_count": null,
   "metadata": {},
   "outputs": [],
   "source": [
    "%%timeit\n",
    "f(x)"
   ]
  },
  {
   "cell_type": "code",
   "execution_count": null,
   "metadata": {},
   "outputs": [],
   "source": [
    "%%timeit\n",
    "g(x)"
   ]
  },
  {
   "cell_type": "code",
   "execution_count": null,
   "metadata": {},
   "outputs": [],
   "source": [
    "%reset -f\n",
    "\n",
    "import mxnet as mx\n",
    "from mxnet import np\n",
    "\n",
    "n, d = 10_000_000, 10\n",
    "A = np.random.normal(0, 1, size=(d, d), ctx=mx.gpu())\n",
    "x = np.random.normal(0, 1, size=(n, d), ctx=mx.gpu())\n",
    "\n",
    "\n",
    "def f(x):\n",
    "    return np.einsum(\"...d, ...e, de -> ...\", x, x, A, optimize=True)\n",
    "\n",
    "\n",
    "def g(x):\n",
    "    return (x @ A * x).sum(len(x.shape) - 1)\n",
    "\n",
    "\n",
    "assert f(x).shape == g(x).shape\n",
    "np.allclose(f(x), g(x))"
   ]
  },
  {
   "cell_type": "code",
   "execution_count": null,
   "metadata": {},
   "outputs": [],
   "source": [
    "%%timeit\n",
    "f(x).wait_to_read()"
   ]
  },
  {
   "cell_type": "code",
   "execution_count": null,
   "metadata": {},
   "outputs": [],
   "source": [
    "%%timeit\n",
    "g(x).wait_to_read()"
   ]
  },
  {
   "cell_type": "code",
   "execution_count": null,
   "metadata": {},
   "outputs": [],
   "source": [
    "%reset -f\n",
    "import jax\n",
    "\n",
    "# jax.config.update('jax_platform_name', 'cpu')\n",
    "print(jax.devices())\n",
    "import jax.numpy as np\n",
    "from jax import jit, random\n",
    "\n",
    "key = random.PRNGKey(0)\n",
    "\n",
    "n, d = 10_000_000, 10\n",
    "A = jax.random.normal(key, shape=(d, d))\n",
    "x = jax.random.normal(key, shape=(n, d))\n",
    "\n",
    "\n",
    "@jit\n",
    "def f(x):\n",
    "    return np.einsum(\"...d, ...e, de -> ...\", x, x, A, optimize=True)\n",
    "\n",
    "\n",
    "@jit\n",
    "def g(x):\n",
    "    return (x @ A * x).sum(len(x.shape) - 1)\n",
    "\n",
    "\n",
    "assert f(x).shape == g(x).shape\n",
    "np.allclose(f(x), g(x))"
   ]
  },
  {
   "cell_type": "code",
   "execution_count": null,
   "metadata": {},
   "outputs": [],
   "source": [
    "%%timeit\n",
    "f(x).block_until_ready()"
   ]
  },
  {
   "cell_type": "code",
   "execution_count": null,
   "metadata": {},
   "outputs": [],
   "source": [
    "%%timeit\n",
    "g(x).block_until_ready()"
   ]
  },
  {
   "cell_type": "code",
   "execution_count": null,
   "metadata": {},
   "outputs": [],
   "source": [
    "%reset -f\n",
    "import cupy as np\n",
    "\n",
    "n, d = 10_000_000, 10\n",
    "A = np.random.randn(d, d)\n",
    "x = np.random.randn(n, d)\n",
    "\n",
    "\n",
    "def f(x):\n",
    "    return np.einsum(\"...d, ...e, de -> ...\", x, x, A, optimize=True)\n",
    "\n",
    "\n",
    "def g(x):\n",
    "    return (x @ A * x).sum(len(x.shape) - 1)\n",
    "\n",
    "\n",
    "assert f(x).shape == g(x).shape\n",
    "np.allclose(f(x), g(x))"
   ]
  },
  {
   "cell_type": "code",
   "execution_count": null,
   "metadata": {},
   "outputs": [],
   "source": [
    "%%timeit\n",
    "f(x)"
   ]
  },
  {
   "cell_type": "code",
   "execution_count": null,
   "metadata": {},
   "outputs": [],
   "source": [
    "%%timeit\n",
    "g(x)"
   ]
  },
  {
   "cell_type": "code",
   "execution_count": null,
   "metadata": {},
   "outputs": [],
   "source": [
    "%reset -f\n",
    "\n",
    "import torch\n",
    "from torch import Tensor, jit\n",
    "\n",
    "n, d = 10_000_000, 10\n",
    "A = torch.randn(d, d, device=\"cuda\")\n",
    "x = torch.randn(n, d, device=\"cuda\")\n",
    "\n",
    "\n",
    "@jit.script\n",
    "def f(A: Tensor, x: Tensor) -> Tensor:\n",
    "    return torch.einsum(\"...d, ...e, de -> ...\", x, x, A)\n",
    "\n",
    "\n",
    "@jit.script\n",
    "def g(A: Tensor, x: Tensor):\n",
    "    return (x @ A * x).sum(len(x.shape) - 1)\n",
    "\n",
    "\n",
    "assert f(A, x).shape == g(A, x).shape\n",
    "torch.allclose(f(A, x), g(A, x))"
   ]
  },
  {
   "cell_type": "code",
   "execution_count": null,
   "metadata": {},
   "outputs": [],
   "source": [
    "%%timeit\n",
    "f(A, x)"
   ]
  },
  {
   "cell_type": "code",
   "execution_count": null,
   "metadata": {},
   "outputs": [],
   "source": [
    "%%timeit\n",
    "g(A, x)"
   ]
  }
 ],
 "metadata": {
  "kernelspec": {
   "display_name": "Python 3 (ipykernel)",
   "language": "python",
   "name": "python3"
  },
  "language_info": {
   "codemirror_mode": {
    "name": "ipython",
    "version": 3
   },
   "file_extension": ".py",
   "mimetype": "text/x-python",
   "name": "python",
   "nbconvert_exporter": "python",
   "pygments_lexer": "ipython3",
   "version": "3.9.7"
  }
 },
 "nbformat": 4,
 "nbformat_minor": 4
}
