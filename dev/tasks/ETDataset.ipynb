{
 "cells": [
  {
   "cell_type": "code",
   "execution_count": null,
   "metadata": {},
   "outputs": [],
   "source": [
    "%config InteractiveShell.ast_node_interactivity='last_expr_or_assign'  # always print last expr.\n",
    "%config InlineBackend.figure_format = 'svg'\n",
    "%load_ext autoreload\n",
    "%autoreload 2\n",
    "%matplotlib inline\n",
    "\n",
    "import logging\n",
    "\n",
    "logging.basicConfig(level=logging.INFO)"
   ]
  },
  {
   "cell_type": "code",
   "execution_count": null,
   "metadata": {},
   "outputs": [],
   "source": [
    "from typing import Literal\n",
    "\n",
    "import numpy as np\n",
    "import pandas\n",
    "import torch\n",
    "from pandas import DataFrame\n",
    "from torch import Tensor\n",
    "from torch.utils.data import DataLoader, Dataset\n",
    "\n",
    "from tsdm.encoders import time2float\n",
    "\n",
    "rng = np.random.default_rng()\n",
    "np.set_printoptions(4)"
   ]
  },
  {
   "cell_type": "code",
   "execution_count": null,
   "metadata": {},
   "outputs": [],
   "source": [
    "from tsdm.datasets import ETTh1\n",
    "\n",
    "ds = ETTh1.dataset\n",
    "target = \"OT\"\n",
    "forecasting_horizon: Literal[24, 48, 168, 336, 960] = (24,)\n",
    "observation_horizon: Literal[24, 48, 96, 168, 336, 720] = (96,)\n",
    "test_metric: Literal[\"MSE\", \"MAE\"] = (\"MSE\",)\n",
    "\n",
    "train_dataset = ds[:\"2017-06-30\"]  # inclusive range!\n",
    "valid_dataset = ds[\"2017-07-01\":\"2017-10-31\"]  # inclusive range!\n",
    "trial_dataset = ds[\"2017-11-01\":\"2018-02-28\"]  # inclusive range!\n",
    "trial_dataset_copy = trial_dataset.copy()"
   ]
  },
  {
   "cell_type": "markdown",
   "metadata": {
    "tags": []
   },
   "source": [
    "## Preprocessing"
   ]
  },
  {
   "cell_type": "code",
   "execution_count": null,
   "metadata": {},
   "outputs": [],
   "source": [
    "from sklearn.preprocessing import StandardScaler\n",
    "\n",
    "encoder = StandardScaler()\n",
    "encoder.fit(train_dataset)\n",
    "display(\n",
    "    DataFrame.from_dict(\n",
    "        {\"mean\": encoder.mean_, \"stdv\": encoder.scale_},\n",
    "        orient=\"index\",\n",
    "        columns=train_dataset.columns,\n",
    "    )\n",
    ")"
   ]
  },
  {
   "cell_type": "code",
   "execution_count": null,
   "metadata": {},
   "outputs": [],
   "source": [
    "encoder.transform(trial_dataset, copy=False)\n",
    "trial_dataset"
   ]
  },
  {
   "cell_type": "code",
   "execution_count": null,
   "metadata": {},
   "outputs": [],
   "source": [
    "encoder.inverse_transform(trial_dataset, copy=False)\n",
    "pandas.testing.assert_frame_equal(trial_dataset, trial_dataset_copy)"
   ]
  },
  {
   "cell_type": "code",
   "execution_count": null,
   "metadata": {},
   "outputs": [],
   "source": [
    "splits[\"train\"]"
   ]
  },
  {
   "cell_type": "markdown",
   "metadata": {},
   "source": [
    "### Data Loading"
   ]
  },
  {
   "cell_type": "code",
   "execution_count": null,
   "metadata": {},
   "outputs": [],
   "source": [
    "from tsdm.datasets import SequenceDataset\n",
    "from tsdm.utils.samplers import SequenceSampler"
   ]
  },
  {
   "cell_type": "code",
   "execution_count": null,
   "metadata": {},
   "outputs": [],
   "source": [
    "time_encoder = time2float\n",
    "device = torch.device(\"cuda\" if torch.cuda.is_available() else \"cpu\")\n",
    "dtype = torch.float32\n",
    "\n",
    "train_dataset.drop(columns=\"OT\")\n",
    "\n",
    "_T = time_encoder(train_dataset.index)\n",
    "_X = train_dataset.drop(columns=\"OT\").values\n",
    "_Y = train_dataset[\"OT\"].values\n",
    "\n",
    "T = torch.tensor(_T, device=device, dtype=dtype)\n",
    "X = torch.tensor(_X, device=device, dtype=dtype)\n",
    "Y = torch.tensor(_Y, device=device, dtype=dtype)"
   ]
  },
  {
   "cell_type": "code",
   "execution_count": null,
   "metadata": {},
   "outputs": [],
   "source": [
    "class SequenceDataset(Dataset):\n",
    "    def __init__(self, tensors: list[Tensor]):\n",
    "        assert all(len(x) == len(tensors[0]) for x in tensors)\n",
    "        self.tensors = tensors\n",
    "\n",
    "    def __len__(self):\n",
    "        return len(self.tensors[0])\n",
    "\n",
    "    def __getitem__(self, idx):\n",
    "        return [x[idx] for x in self.tensors]\n",
    "\n",
    "\n",
    "class SequenceSampler(torch.utils.data.Sampler):\n",
    "    def __init__(self, data, seq_len):\n",
    "        self.data = data\n",
    "        self.seq_len = seq_len\n",
    "\n",
    "    def __iter__(self):\n",
    "        print(len(self.data), self.seq_len)\n",
    "        for idx in range(len(self.data) - self.seq_len):\n",
    "            yield range(idx, idx + self.seq_len)"
   ]
  },
  {
   "cell_type": "code",
   "execution_count": null,
   "metadata": {},
   "outputs": [],
   "source": [
    "train_dataset = SequenceDataset([T, X, Y])\n",
    "sampler = SequenceSampler(train_dataset, 2)\n",
    "samples = list(iter(DataLoader(train_dataset, shuffle=True)));"
   ]
  },
  {
   "cell_type": "code",
   "execution_count": null,
   "metadata": {},
   "outputs": [],
   "source": [
    "first, second, last = (samples[0], samples[1], samples[-1])\n",
    "first, second, last"
   ]
  },
  {
   "cell_type": "markdown",
   "metadata": {},
   "source": [
    "# Implemented Task"
   ]
  },
  {
   "cell_type": "code",
   "execution_count": null,
   "metadata": {},
   "outputs": [],
   "source": [
    "from tsdm.tasks import ETDatasetInformer"
   ]
  },
  {
   "cell_type": "code",
   "execution_count": null,
   "metadata": {},
   "outputs": [],
   "source": [
    "task = ETDatasetInformer(\"ETTh2\")"
   ]
  },
  {
   "cell_type": "code",
   "execution_count": null,
   "metadata": {},
   "outputs": [],
   "source": [
    "dloader = task.get_dataloader(\"test\")"
   ]
  },
  {
   "cell_type": "code",
   "execution_count": null,
   "metadata": {},
   "outputs": [],
   "source": [
    "task.splits[\"test\"].values.mean(axis=0)"
   ]
  },
  {
   "cell_type": "code",
   "execution_count": null,
   "metadata": {
    "tags": []
   },
   "outputs": [],
   "source": [
    "for item in dloader:\n",
    "    t, x, y = item\n",
    "torch.mean(x, dim=(0, 1)), torch.std(x, dim=(0, 1))"
   ]
  },
  {
   "cell_type": "code",
   "execution_count": null,
   "metadata": {},
   "outputs": [],
   "source": [
    "task.dataset.dataset"
   ]
  },
  {
   "cell_type": "code",
   "execution_count": null,
   "metadata": {},
   "outputs": [],
   "source": []
  }
 ],
 "metadata": {
  "kernelspec": {
   "display_name": "Python 3 (ipykernel)",
   "language": "python",
   "name": "python3"
  },
  "language_info": {
   "codemirror_mode": {
    "name": "ipython",
    "version": 3
   },
   "file_extension": ".py",
   "mimetype": "text/x-python",
   "name": "python",
   "nbconvert_exporter": "python",
   "pygments_lexer": "ipython3",
   "version": "3.9.7"
  }
 },
 "nbformat": 4,
 "nbformat_minor": 4
}
