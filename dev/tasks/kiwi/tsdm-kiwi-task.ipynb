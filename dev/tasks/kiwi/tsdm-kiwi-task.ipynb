{
 "cells": [
  {
   "cell_type": "markdown",
   "metadata": {},
   "source": [
    "# Novel Implementation of KIWI task"
   ]
  },
  {
   "cell_type": "code",
   "execution_count": null,
   "metadata": {
    "tags": []
   },
   "outputs": [],
   "source": [
    "%config InteractiveShell.ast_node_interactivity='last_expr_or_assign'  # always print last expr.\n",
    "%config InlineBackend.figure_format = 'svg'\n",
    "%load_ext autoreload\n",
    "%autoreload 2\n",
    "%matplotlib inline"
   ]
  },
  {
   "cell_type": "code",
   "execution_count": null,
   "metadata": {
    "tags": []
   },
   "outputs": [],
   "source": [
    "import tsdm"
   ]
  },
  {
   "cell_type": "code",
   "execution_count": null,
   "metadata": {
    "tags": []
   },
   "outputs": [],
   "source": [
    "task = tsdm.tasks.KIWI_RUNS_TASK()\n",
    "\n",
    "task.split_idx"
   ]
  },
  {
   "cell_type": "code",
   "execution_count": null,
   "metadata": {
    "tags": []
   },
   "outputs": [],
   "source": [
    "ts = task.dataset.timeseries"
   ]
  },
  {
   "cell_type": "markdown",
   "metadata": {},
   "source": [
    "# How does the sampler need to look like?\n",
    "\n",
    "- 1. Sample from the index\n",
    "    - Returns (ts, md) = ds[i]\n",
    "- 2. Subsample from the timeseries\n",
    "    - (ts[a:b], md)\n",
    "- 3. Create sample from the slice"
   ]
  },
  {
   "cell_type": "markdown",
   "metadata": {},
   "source": [
    "Size: ~1000-3000 timestamps.\n",
    "∆t:  1s-11m, avg: 33.66s\n",
    "\n",
    "obs-horizon: 2h ~ 200 timestamps -> 256\n",
    "forecasting horizon: 1h ~ 100 timestamps -> 128"
   ]
  },
  {
   "cell_type": "code",
   "execution_count": null,
   "metadata": {},
   "outputs": [],
   "source": [
    "from tsdm.random.samplers import (\n",
    "    HierarchicalSampler,\n",
    "    SequenceSampler,\n",
    "    SlidingWindowSampler,\n",
    ")"
   ]
  },
  {
   "cell_type": "code",
   "execution_count": null,
   "metadata": {},
   "outputs": [],
   "source": [
    "dt = ts.index.to_frame(index=False).groupby([\"run_id\", \"experiment_id\"]).diff()\n",
    "dt.mean()"
   ]
  },
  {
   "cell_type": "code",
   "execution_count": null,
   "metadata": {
    "tags": []
   },
   "outputs": [],
   "source": [
    "from tsdm.utils.data import MappingDataset, TimeSeriesDataset\n",
    "\n",
    "md = task.metadata"
   ]
  },
  {
   "cell_type": "code",
   "execution_count": null,
   "metadata": {
    "tags": []
   },
   "outputs": [],
   "source": [
    "DS = MappingDataset({\n",
    "    idx: TimeSeriesDataset(ts.loc[idx], metadata=md.loc[idx]) for idx in md.index\n",
    "})"
   ]
  },
  {
   "cell_type": "code",
   "execution_count": null,
   "metadata": {
    "tags": []
   },
   "outputs": [],
   "source": [
    "subsamplers = {\n",
    "    key: SlidingWindowSampler(\n",
    "        ds.timeseries.index,\n",
    "        horizons=[\"2h\", \"1h\"],\n",
    "        stride=\"15m\",\n",
    "        shuffle=True,\n",
    "        mode=\"slices\",\n",
    "    )\n",
    "    for key, ds in DS.items()\n",
    "}\n",
    "sampler = HierarchicalSampler(DS, subsamplers, shuffle=True)"
   ]
  },
  {
   "cell_type": "code",
   "execution_count": null,
   "metadata": {},
   "outputs": [],
   "source": [
    "sample = next(iter(sampler))"
   ]
  },
  {
   "cell_type": "code",
   "execution_count": null,
   "metadata": {},
   "outputs": [],
   "source": []
  },
  {
   "cell_type": "code",
   "execution_count": null,
   "metadata": {},
   "outputs": [],
   "source": [
    "from torch.utils.data import DataLoader"
   ]
  },
  {
   "cell_type": "code",
   "execution_count": null,
   "metadata": {},
   "outputs": [],
   "source": [
    "x = next(iter(DataLoader(DS, sampler=sampler, batch_size=10, collate_fn=lambda x: x)))"
   ]
  },
  {
   "cell_type": "code",
   "execution_count": null,
   "metadata": {},
   "outputs": [],
   "source": []
  },
  {
   "cell_type": "code",
   "execution_count": null,
   "metadata": {},
   "outputs": [],
   "source": [
    "ds = next(iter(DS.values()))"
   ]
  },
  {
   "cell_type": "code",
   "execution_count": null,
   "metadata": {},
   "outputs": [],
   "source": []
  },
  {
   "cell_type": "code",
   "execution_count": null,
   "metadata": {},
   "outputs": [],
   "source": [
    "subsamplers = {\n",
    "    key: SequenceSampler(ds, seq_len=300, stride=50, shuffle=True)\n",
    "    for key, ds in DS.items()\n",
    "}"
   ]
  },
  {
   "cell_type": "code",
   "execution_count": null,
   "metadata": {},
   "outputs": [],
   "source": []
  }
 ],
 "metadata": {
  "kernelspec": {
   "display_name": "Python 3 (ipykernel)",
   "language": "python",
   "name": "python3"
  },
  "language_info": {
   "codemirror_mode": {
    "name": "ipython",
    "version": 3
   },
   "file_extension": ".py",
   "mimetype": "text/x-python",
   "name": "python",
   "nbconvert_exporter": "python",
   "pygments_lexer": "ipython3",
   "version": "3.10.8"
  }
 },
 "nbformat": 4,
 "nbformat_minor": 4
}
