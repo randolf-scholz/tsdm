{
 "cells": [
  {
   "cell_type": "markdown",
   "metadata": {},
   "source": [
    "# Novel Implementation of KIWI task"
   ]
  },
  {
   "cell_type": "code",
   "execution_count": null,
   "metadata": {
    "execution": {
     "iopub.execute_input": "2022-11-04T10:10:31.294146Z",
     "iopub.status.busy": "2022-11-04T10:10:31.293994Z",
     "iopub.status.idle": "2022-11-04T10:10:31.731933Z",
     "shell.execute_reply": "2022-11-04T10:10:31.731426Z",
     "shell.execute_reply.started": "2022-11-04T10:10:31.294102Z"
    }
   },
   "outputs": [],
   "source": [
    "%config InteractiveShell.ast_node_interactivity='last_expr_or_assign'  # always print last expr.\n",
    "%config InlineBackend.figure_format = 'svg'\n",
    "%load_ext autoreload\n",
    "%autoreload 2\n",
    "%matplotlib inline"
   ]
  },
  {
   "cell_type": "code",
   "execution_count": null,
   "metadata": {
    "execution": {
     "iopub.execute_input": "2022-11-04T10:10:31.733616Z",
     "iopub.status.busy": "2022-11-04T10:10:31.733170Z",
     "iopub.status.idle": "2022-11-04T10:10:33.659613Z",
     "shell.execute_reply": "2022-11-04T10:10:33.659220Z",
     "shell.execute_reply.started": "2022-11-04T10:10:31.733597Z"
    }
   },
   "outputs": [],
   "source": [
    "import tsdm\n",
    "import numpy as np"
   ]
  },
  {
   "cell_type": "code",
   "execution_count": null,
   "metadata": {
    "execution": {
     "iopub.execute_input": "2022-11-04T10:10:33.660548Z",
     "iopub.status.busy": "2022-11-04T10:10:33.660169Z",
     "iopub.status.idle": "2022-11-04T10:10:34.467308Z",
     "shell.execute_reply": "2022-11-04T10:10:34.466811Z",
     "shell.execute_reply.started": "2022-11-04T10:10:33.660532Z"
    }
   },
   "outputs": [],
   "source": [
    "task = tsdm.tasks.KIWI_RUNS_TASK()"
   ]
  },
  {
   "cell_type": "code",
   "execution_count": null,
   "metadata": {
    "execution": {
     "iopub.execute_input": "2022-11-04T10:10:34.468363Z",
     "iopub.status.busy": "2022-11-04T10:10:34.468140Z",
     "iopub.status.idle": "2022-11-04T10:10:34.511496Z",
     "shell.execute_reply": "2022-11-04T10:10:34.511087Z",
     "shell.execute_reply.started": "2022-11-04T10:10:34.468341Z"
    }
   },
   "outputs": [],
   "source": [
    "ts = task.dataset.timeseries"
   ]
  },
  {
   "cell_type": "markdown",
   "metadata": {},
   "source": [
    "# How does the sampler need to look like?\n",
    "\n",
    "- 1. Sample from the index\n",
    "    - Returns (ts, md) = ds[i]\n",
    "- 2. Subsample from the timeseries\n",
    "    - (ts[a:b], md)\n",
    "- 3. Create sample from the slice"
   ]
  },
  {
   "cell_type": "markdown",
   "metadata": {},
   "source": [
    "Size: ~1000-3000 timestamps.\n",
    "∆t:  1s-11m, avg: 33.66s\n",
    "\n",
    "obs-horizon: 2h ~ 200 timestamps -> 256\n",
    "forecasting horizon: 1h ~ 100 timestamps -> 128"
   ]
  },
  {
   "cell_type": "code",
   "execution_count": null,
   "metadata": {
    "execution": {
     "iopub.execute_input": "2022-11-04T10:10:34.512307Z",
     "iopub.status.busy": "2022-11-04T10:10:34.512138Z",
     "iopub.status.idle": "2022-11-04T10:10:34.532303Z",
     "shell.execute_reply": "2022-11-04T10:10:34.531430Z",
     "shell.execute_reply.started": "2022-11-04T10:10:34.512294Z"
    }
   },
   "outputs": [],
   "source": [
    "from tsdm.random.samplers import (\n",
    "    SequenceSampler,\n",
    "    SlidingWindowSampler,\n",
    "    HierarchicalSampler,\n",
    ")"
   ]
  },
  {
   "cell_type": "code",
   "execution_count": null,
   "metadata": {
    "execution": {
     "iopub.execute_input": "2022-11-04T10:10:34.533423Z",
     "iopub.status.busy": "2022-11-04T10:10:34.533143Z",
     "iopub.status.idle": "2022-11-04T10:10:34.585277Z",
     "shell.execute_reply": "2022-11-04T10:10:34.584791Z",
     "shell.execute_reply.started": "2022-11-04T10:10:34.533410Z"
    }
   },
   "outputs": [],
   "source": [
    "dt = ts.index.to_frame(index=False).groupby([\"run_id\", \"exp_id\"]).diff()\n",
    "dt.mean()"
   ]
  },
  {
   "cell_type": "code",
   "execution_count": null,
   "metadata": {
    "execution": {
     "iopub.execute_input": "2022-11-04T10:10:34.586785Z",
     "iopub.status.busy": "2022-11-04T10:10:34.586537Z",
     "iopub.status.idle": "2022-11-04T10:10:35.221313Z",
     "shell.execute_reply": "2022-11-04T10:10:35.220430Z",
     "shell.execute_reply.started": "2022-11-04T10:10:34.586774Z"
    }
   },
   "outputs": [],
   "source": [
    "sampler = SlidingWindowSampler(\n",
    "    x.index, horizons=[\"2h\", \"1h\"], stride=\"15m\", shuffle=True\n",
    ")"
   ]
  },
  {
   "cell_type": "code",
   "execution_count": null,
   "metadata": {
    "execution": {
     "iopub.status.busy": "2022-11-04T10:10:35.221746Z",
     "iopub.status.idle": "2022-11-04T10:10:35.221906Z",
     "shell.execute_reply": "2022-11-04T10:10:35.221834Z",
     "shell.execute_reply.started": "2022-11-04T10:10:35.221826Z"
    }
   },
   "outputs": [],
   "source": [
    "next(iter(sampler))"
   ]
  },
  {
   "cell_type": "code",
   "execution_count": null,
   "metadata": {
    "execution": {
     "iopub.status.busy": "2022-11-04T10:10:35.222519Z",
     "iopub.status.idle": "2022-11-04T10:10:35.222683Z",
     "shell.execute_reply": "2022-11-04T10:10:35.222603Z",
     "shell.execute_reply.started": "2022-11-04T10:10:35.222596Z"
    }
   },
   "outputs": [],
   "source": [
    "sampler = SequenceSampler(x.reset_index().index, seq_len=300, stride=50, shuffle=True)"
   ]
  },
  {
   "cell_type": "code",
   "execution_count": null,
   "metadata": {
    "execution": {
     "iopub.status.busy": "2022-11-04T10:10:35.223300Z",
     "iopub.status.idle": "2022-11-04T10:10:35.223477Z",
     "shell.execute_reply": "2022-11-04T10:10:35.223397Z",
     "shell.execute_reply.started": "2022-11-04T10:10:35.223390Z"
    }
   },
   "outputs": [],
   "source": [
    "next(iter(sampler))"
   ]
  },
  {
   "cell_type": "code",
   "execution_count": null,
   "metadata": {
    "execution": {
     "iopub.status.busy": "2022-11-04T10:10:35.224011Z",
     "iopub.status.idle": "2022-11-04T10:10:35.224226Z",
     "shell.execute_reply": "2022-11-04T10:10:35.224155Z",
     "shell.execute_reply.started": "2022-11-04T10:10:35.224147Z"
    }
   },
   "outputs": [],
   "source": [
    "from tsdm.utils.data import MappingDataset, TimeSeriesDataset\n",
    "\n",
    "md = task.metadata"
   ]
  },
  {
   "cell_type": "code",
   "execution_count": null,
   "metadata": {
    "execution": {
     "iopub.status.busy": "2022-11-04T10:10:35.224699Z",
     "iopub.status.idle": "2022-11-04T10:10:35.224849Z",
     "shell.execute_reply": "2022-11-04T10:10:35.224776Z",
     "shell.execute_reply.started": "2022-11-04T10:10:35.224770Z"
    }
   },
   "outputs": [],
   "source": [
    "DS = MappingDataset(\n",
    "    {idx: TimeSeriesDataset(ts.loc[idx], metadata=md.loc[idx]) for idx in md.index}\n",
    ")"
   ]
  },
  {
   "cell_type": "code",
   "execution_count": null,
   "metadata": {
    "execution": {
     "iopub.status.busy": "2022-11-04T10:10:35.225234Z",
     "iopub.status.idle": "2022-11-04T10:10:35.225376Z",
     "shell.execute_reply": "2022-11-04T10:10:35.225308Z",
     "shell.execute_reply.started": "2022-11-04T10:10:35.225302Z"
    }
   },
   "outputs": [],
   "source": [
    "subsamplers = {\n",
    "    key: SlidingWindowSampler(\n",
    "        ds.timeseries.index,\n",
    "        horizons=[\"2h\", \"1h\"],\n",
    "        stride=\"15m\",\n",
    "        shuffle=True,\n",
    "        mode=\"slices\",\n",
    "    )\n",
    "    for key, ds in DS.items()\n",
    "}\n",
    "sampler = HierarchicalSampler(DS, subsamplers, shuffle=True)"
   ]
  },
  {
   "cell_type": "code",
   "execution_count": null,
   "metadata": {
    "execution": {
     "iopub.status.busy": "2022-11-04T10:10:35.225847Z",
     "iopub.status.idle": "2022-11-04T10:10:35.225983Z",
     "shell.execute_reply": "2022-11-04T10:10:35.225919Z",
     "shell.execute_reply.started": "2022-11-04T10:10:35.225913Z"
    }
   },
   "outputs": [],
   "source": [
    "sample = next(iter(sampler))"
   ]
  },
  {
   "cell_type": "code",
   "execution_count": null,
   "metadata": {},
   "outputs": [],
   "source": []
  },
  {
   "cell_type": "code",
   "execution_count": null,
   "metadata": {
    "execution": {
     "iopub.status.busy": "2022-11-04T10:10:35.226299Z",
     "iopub.status.idle": "2022-11-04T10:10:35.226440Z",
     "shell.execute_reply": "2022-11-04T10:10:35.226375Z",
     "shell.execute_reply.started": "2022-11-04T10:10:35.226369Z"
    }
   },
   "outputs": [],
   "source": [
    "from torch.utils.data import DataLoader"
   ]
  },
  {
   "cell_type": "code",
   "execution_count": null,
   "metadata": {
    "execution": {
     "iopub.status.busy": "2022-11-04T10:10:35.226985Z",
     "iopub.status.idle": "2022-11-04T10:10:35.227170Z",
     "shell.execute_reply": "2022-11-04T10:10:35.227095Z",
     "shell.execute_reply.started": "2022-11-04T10:10:35.227088Z"
    }
   },
   "outputs": [],
   "source": [
    "x = next(iter(DataLoader(DS, sampler=sampler, batch_size=10, collate_fn=lambda x: x)))"
   ]
  },
  {
   "cell_type": "code",
   "execution_count": null,
   "metadata": {},
   "outputs": [],
   "source": []
  },
  {
   "cell_type": "code",
   "execution_count": null,
   "metadata": {
    "execution": {
     "iopub.status.busy": "2022-11-04T10:10:35.227963Z",
     "iopub.status.idle": "2022-11-04T10:10:35.228123Z",
     "shell.execute_reply": "2022-11-04T10:10:35.228058Z",
     "shell.execute_reply.started": "2022-11-04T10:10:35.228051Z"
    }
   },
   "outputs": [],
   "source": [
    "ds = next(iter(DS.values()))"
   ]
  },
  {
   "cell_type": "code",
   "execution_count": null,
   "metadata": {},
   "outputs": [],
   "source": []
  },
  {
   "cell_type": "code",
   "execution_count": null,
   "metadata": {
    "execution": {
     "iopub.status.busy": "2022-11-04T10:10:35.228644Z",
     "iopub.status.idle": "2022-11-04T10:10:35.228821Z",
     "shell.execute_reply": "2022-11-04T10:10:35.228749Z",
     "shell.execute_reply.started": "2022-11-04T10:10:35.228741Z"
    }
   },
   "outputs": [],
   "source": [
    "subsamplers = {\n",
    "    key: SequenceSampler(ds, seq_len=300, stride=50, shuffle=True)\n",
    "    for key, ds in DS.items()\n",
    "}"
   ]
  },
  {
   "cell_type": "code",
   "execution_count": null,
   "metadata": {},
   "outputs": [],
   "source": []
  }
 ],
 "metadata": {
  "kernelspec": {
   "display_name": "Python 3 (ipykernel)",
   "language": "python",
   "name": "python3"
  },
  "language_info": {
   "codemirror_mode": {
    "name": "ipython",
    "version": 3
   },
   "file_extension": ".py",
   "mimetype": "text/x-python",
   "name": "python",
   "nbconvert_exporter": "python",
   "pygments_lexer": "ipython3",
   "version": "3.10.6"
  }
 },
 "nbformat": 4,
 "nbformat_minor": 4
}
