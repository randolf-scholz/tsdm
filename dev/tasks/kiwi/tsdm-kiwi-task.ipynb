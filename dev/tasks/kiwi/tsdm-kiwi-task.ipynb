{
 "cells": [
  {
   "cell_type": "markdown",
   "metadata": {},
   "source": [
    "# Novel Implementation of KIWI task"
   ]
  },
  {
   "cell_type": "code",
   "execution_count": null,
   "metadata": {
    "execution": {
     "iopub.execute_input": "2022-11-08T22:42:52.845000Z",
     "iopub.status.busy": "2022-11-08T22:42:52.844789Z",
     "iopub.status.idle": "2022-11-08T22:42:53.132901Z",
     "shell.execute_reply": "2022-11-08T22:42:53.132583Z",
     "shell.execute_reply.started": "2022-11-08T22:42:52.844948Z"
    },
    "tags": []
   },
   "outputs": [],
   "source": [
    "%config InteractiveShell.ast_node_interactivity='last_expr_or_assign'  # always print last expr.\n",
    "%config InlineBackend.figure_format = 'svg'\n",
    "%load_ext autoreload\n",
    "%autoreload 2\n",
    "%matplotlib inline"
   ]
  },
  {
   "cell_type": "code",
   "execution_count": null,
   "metadata": {
    "execution": {
     "iopub.execute_input": "2022-11-08T22:42:53.133850Z",
     "iopub.status.busy": "2022-11-08T22:42:53.133679Z",
     "iopub.status.idle": "2022-11-08T22:42:54.445658Z",
     "shell.execute_reply": "2022-11-08T22:42:54.445160Z",
     "shell.execute_reply.started": "2022-11-08T22:42:53.133839Z"
    },
    "tags": []
   },
   "outputs": [],
   "source": [
    "import tsdm\n",
    "import numpy as np"
   ]
  },
  {
   "cell_type": "code",
   "execution_count": null,
   "metadata": {
    "execution": {
     "iopub.execute_input": "2022-11-08T22:42:54.446446Z",
     "iopub.status.busy": "2022-11-08T22:42:54.446233Z",
     "iopub.status.idle": "2022-11-08T22:42:55.336161Z",
     "shell.execute_reply": "2022-11-08T22:42:55.335547Z",
     "shell.execute_reply.started": "2022-11-08T22:42:54.446434Z"
    },
    "tags": []
   },
   "outputs": [],
   "source": [
    "task = tsdm.tasks.KIWI_RUNS_TASK()\n",
    "\n",
    "task.split_idx"
   ]
  },
  {
   "cell_type": "code",
   "execution_count": null,
   "metadata": {
    "execution": {
     "iopub.execute_input": "2022-11-08T22:42:55.336773Z",
     "iopub.status.busy": "2022-11-08T22:42:55.336666Z",
     "iopub.status.idle": "2022-11-08T22:42:55.368423Z",
     "shell.execute_reply": "2022-11-08T22:42:55.367883Z",
     "shell.execute_reply.started": "2022-11-08T22:42:55.336763Z"
    },
    "tags": []
   },
   "outputs": [],
   "source": [
    "ts = task.dataset.timeseries"
   ]
  },
  {
   "cell_type": "markdown",
   "metadata": {},
   "source": [
    "# How does the sampler need to look like?\n",
    "\n",
    "- 1. Sample from the index\n",
    "    - Returns (ts, md) = ds[i]\n",
    "- 2. Subsample from the timeseries\n",
    "    - (ts[a:b], md)\n",
    "- 3. Create sample from the slice"
   ]
  },
  {
   "cell_type": "markdown",
   "metadata": {},
   "source": [
    "Size: ~1000-3000 timestamps.\n",
    "∆t:  1s-11m, avg: 33.66s\n",
    "\n",
    "obs-horizon: 2h ~ 200 timestamps -> 256\n",
    "forecasting horizon: 1h ~ 100 timestamps -> 128"
   ]
  },
  {
   "cell_type": "code",
   "execution_count": null,
   "metadata": {
    "execution": {
     "iopub.execute_input": "2022-11-08T22:42:55.369025Z",
     "iopub.status.busy": "2022-11-08T22:42:55.368916Z",
     "iopub.status.idle": "2022-11-08T22:42:55.387141Z",
     "shell.execute_reply": "2022-11-08T22:42:55.386717Z",
     "shell.execute_reply.started": "2022-11-08T22:42:55.369014Z"
    }
   },
   "outputs": [],
   "source": [
    "from tsdm.random.samplers import (\n",
    "    SequenceSampler,\n",
    "    SlidingWindowSampler,\n",
    "    HierarchicalSampler,\n",
    ")"
   ]
  },
  {
   "cell_type": "code",
   "execution_count": null,
   "metadata": {
    "execution": {
     "iopub.execute_input": "2022-11-08T22:42:55.387725Z",
     "iopub.status.busy": "2022-11-08T22:42:55.387618Z",
     "iopub.status.idle": "2022-11-08T22:42:55.424318Z",
     "shell.execute_reply": "2022-11-08T22:42:55.423936Z",
     "shell.execute_reply.started": "2022-11-08T22:42:55.387715Z"
    }
   },
   "outputs": [],
   "source": [
    "dt = ts.index.to_frame(index=False).groupby([\"run_id\", \"experiment_id\"]).diff()\n",
    "dt.mean()"
   ]
  },
  {
   "cell_type": "code",
   "execution_count": null,
   "metadata": {
    "execution": {
     "iopub.execute_input": "2022-11-08T22:43:07.822676Z",
     "iopub.status.busy": "2022-11-08T22:43:07.822120Z",
     "iopub.status.idle": "2022-11-08T22:43:07.850284Z",
     "shell.execute_reply": "2022-11-08T22:43:07.849638Z",
     "shell.execute_reply.started": "2022-11-08T22:43:07.822654Z"
    },
    "tags": []
   },
   "outputs": [],
   "source": [
    "from tsdm.utils.data import MappingDataset, TimeSeriesDataset\n",
    "\n",
    "md = task.metadata"
   ]
  },
  {
   "cell_type": "code",
   "execution_count": null,
   "metadata": {
    "execution": {
     "iopub.execute_input": "2022-11-08T22:43:08.628737Z",
     "iopub.status.busy": "2022-11-08T22:43:08.628144Z",
     "iopub.status.idle": "2022-11-08T22:43:08.783879Z",
     "shell.execute_reply": "2022-11-08T22:43:08.783350Z",
     "shell.execute_reply.started": "2022-11-08T22:43:08.628719Z"
    },
    "tags": []
   },
   "outputs": [],
   "source": [
    "DS = MappingDataset(\n",
    "    {idx: TimeSeriesDataset(ts.loc[idx], metadata=md.loc[idx]) for idx in md.index}\n",
    ")"
   ]
  },
  {
   "cell_type": "code",
   "execution_count": null,
   "metadata": {
    "execution": {
     "iopub.execute_input": "2022-11-08T22:43:14.004828Z",
     "iopub.status.busy": "2022-11-08T22:43:14.004557Z",
     "iopub.status.idle": "2022-11-08T22:43:14.114869Z",
     "shell.execute_reply": "2022-11-08T22:43:14.114410Z",
     "shell.execute_reply.started": "2022-11-08T22:43:14.004815Z"
    },
    "tags": []
   },
   "outputs": [],
   "source": [
    "subsamplers = {\n",
    "    key: SlidingWindowSampler(\n",
    "        ds.timeseries.index,\n",
    "        horizons=[\"2h\", \"1h\"],\n",
    "        stride=\"15m\",\n",
    "        shuffle=True,\n",
    "        mode=\"slices\",\n",
    "    )\n",
    "    for key, ds in DS.items()\n",
    "}\n",
    "sampler = HierarchicalSampler(DS, subsamplers, shuffle=True)"
   ]
  },
  {
   "cell_type": "code",
   "execution_count": null,
   "metadata": {
    "execution": {
     "iopub.status.busy": "2022-11-08T22:42:55.611138Z",
     "iopub.status.idle": "2022-11-08T22:42:55.611277Z",
     "shell.execute_reply": "2022-11-08T22:42:55.611208Z",
     "shell.execute_reply.started": "2022-11-08T22:42:55.611202Z"
    }
   },
   "outputs": [],
   "source": [
    "sample = next(iter(sampler))"
   ]
  },
  {
   "cell_type": "code",
   "execution_count": null,
   "metadata": {},
   "outputs": [],
   "source": []
  },
  {
   "cell_type": "code",
   "execution_count": null,
   "metadata": {
    "execution": {
     "iopub.status.busy": "2022-11-08T22:42:55.611662Z",
     "iopub.status.idle": "2022-11-08T22:42:55.611797Z",
     "shell.execute_reply": "2022-11-08T22:42:55.611733Z",
     "shell.execute_reply.started": "2022-11-08T22:42:55.611727Z"
    }
   },
   "outputs": [],
   "source": [
    "from torch.utils.data import DataLoader"
   ]
  },
  {
   "cell_type": "code",
   "execution_count": null,
   "metadata": {
    "execution": {
     "iopub.status.busy": "2022-11-08T22:42:55.612260Z",
     "iopub.status.idle": "2022-11-08T22:42:55.612397Z",
     "shell.execute_reply": "2022-11-08T22:42:55.612334Z",
     "shell.execute_reply.started": "2022-11-08T22:42:55.612328Z"
    }
   },
   "outputs": [],
   "source": [
    "x = next(iter(DataLoader(DS, sampler=sampler, batch_size=10, collate_fn=lambda x: x)))"
   ]
  },
  {
   "cell_type": "code",
   "execution_count": null,
   "metadata": {},
   "outputs": [],
   "source": []
  },
  {
   "cell_type": "code",
   "execution_count": null,
   "metadata": {
    "execution": {
     "iopub.status.busy": "2022-11-08T22:42:55.613036Z",
     "iopub.status.idle": "2022-11-08T22:42:55.613170Z",
     "shell.execute_reply": "2022-11-08T22:42:55.613107Z",
     "shell.execute_reply.started": "2022-11-08T22:42:55.613100Z"
    }
   },
   "outputs": [],
   "source": [
    "ds = next(iter(DS.values()))"
   ]
  },
  {
   "cell_type": "code",
   "execution_count": null,
   "metadata": {},
   "outputs": [],
   "source": []
  },
  {
   "cell_type": "code",
   "execution_count": null,
   "metadata": {
    "execution": {
     "iopub.status.busy": "2022-11-08T22:42:55.613502Z",
     "iopub.status.idle": "2022-11-08T22:42:55.613633Z",
     "shell.execute_reply": "2022-11-08T22:42:55.613572Z",
     "shell.execute_reply.started": "2022-11-08T22:42:55.613565Z"
    }
   },
   "outputs": [],
   "source": [
    "subsamplers = {\n",
    "    key: SequenceSampler(ds, seq_len=300, stride=50, shuffle=True)\n",
    "    for key, ds in DS.items()\n",
    "}"
   ]
  },
  {
   "cell_type": "code",
   "execution_count": null,
   "metadata": {},
   "outputs": [],
   "source": []
  }
 ],
 "metadata": {
  "kernelspec": {
   "display_name": "Python 3 (ipykernel)",
   "language": "python",
   "name": "python3"
  },
  "language_info": {
   "codemirror_mode": {
    "name": "ipython",
    "version": 3
   },
   "file_extension": ".py",
   "mimetype": "text/x-python",
   "name": "python",
   "nbconvert_exporter": "python",
   "pygments_lexer": "ipython3",
   "version": "3.10.8"
  }
 },
 "nbformat": 4,
 "nbformat_minor": 4
}
