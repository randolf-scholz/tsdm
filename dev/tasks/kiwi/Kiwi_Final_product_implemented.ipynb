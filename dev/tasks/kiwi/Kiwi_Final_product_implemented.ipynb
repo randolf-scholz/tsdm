{
 "cells": [
  {
   "cell_type": "markdown",
   "metadata": {},
   "source": [
    "# Title"
   ]
  },
  {
   "cell_type": "code",
   "execution_count": null,
   "metadata": {},
   "outputs": [],
   "source": [
    "%config InteractiveShell.ast_node_interactivity='last_expr_or_assign'  # always print last expr.\n",
    "%config InlineBackend.figure_format = 'svg'\n",
    "%load_ext autoreload\n",
    "%autoreload 2\n",
    "%matplotlib inline\n",
    "\n",
    "import logging\n",
    "\n",
    "logging.basicConfig(level=logging.INFO)"
   ]
  },
  {
   "cell_type": "code",
   "execution_count": null,
   "metadata": {},
   "outputs": [],
   "source": [
    "import numpy as np\n",
    "\n",
    "np.set_printoptions(precision=4, floatmode=\"fixed\", suppress=True)\n",
    "rng = np.random.default_rng()"
   ]
  },
  {
   "cell_type": "code",
   "execution_count": null,
   "metadata": {},
   "outputs": [],
   "source": [
    "import pandas\n",
    "\n",
    "from tsdm.tasks import KIWI_FINAL_PRODUCT"
   ]
  },
  {
   "cell_type": "code",
   "execution_count": null,
   "metadata": {},
   "outputs": [],
   "source": [
    "task = KIWI_FINAL_PRODUCT()"
   ]
  },
  {
   "cell_type": "code",
   "execution_count": null,
   "metadata": {},
   "outputs": [],
   "source": [
    "dloader = task.get_dataloader((0, \"train\"), shuffle=False)\n",
    "\n",
    "sampler = dloader.sampler"
   ]
  },
  {
   "cell_type": "code",
   "execution_count": null,
   "metadata": {},
   "outputs": [],
   "source": [
    "ts = task.timeseries\n",
    "t0 = ts.loc[(439, 15325)].index[0]"
   ]
  },
  {
   "cell_type": "code",
   "execution_count": null,
   "metadata": {},
   "outputs": [],
   "source": [
    "(sampler[(439, 15325)][\"right\"] - t0) / pandas.Timedelta(\"1h\")"
   ]
  },
  {
   "cell_type": "raw",
   "metadata": {},
   "source": []
  },
  {
   "cell_type": "code",
   "execution_count": null,
   "metadata": {},
   "outputs": [],
   "source": [
    "from tsdm.encoders import *\n",
    "\n",
    "ts, md = task.splits[0, \"train\"]\n",
    "\n",
    "\n",
    "encoder = ChainedEncoder(\n",
    "    TensorEncoder(device=\"cuda\", names=(\"time\", \"value\", \"index\")),\n",
    "    DataFrameEncoder(\n",
    "        column_encoders={\n",
    "            \"value\": IdentityEncoder(),\n",
    "            tuple(ts.columns): FloatEncoder(\"float32\"),\n",
    "        },\n",
    "        index_encoders=MinMaxScaler() @ DateTimeEncoder(unit=\"h\"),\n",
    "    ),\n",
    "    TripletEncoder(sparse=True),\n",
    "    Standardizer(),\n",
    ")\n",
    "encoder.fit(ts.reset_index([0, 1], drop=True))\n",
    "task.target_idx = task.timeseries.columns.get_loc(task.target)\n",
    "target_encoder = (\n",
    "    TensorEncoder(device=\"cuda\") @ FloatEncoder() @ encoder[-1][task.target_idx]\n",
    ")"
   ]
  },
  {
   "cell_type": "code",
   "execution_count": null,
   "metadata": {},
   "outputs": [],
   "source": [
    "from typing import NamedTuple\n",
    "\n",
    "import torch\n",
    "from torch import Tensor\n",
    "\n",
    "from tsdm.utils.strings import *\n",
    "\n",
    "\n",
    "class Batch(NamedTuple):\n",
    "    index: Tensor\n",
    "    timeseries: Tensor\n",
    "    metadata: Tensor\n",
    "    targets: Tensor\n",
    "    encoded_targets: Tensor\n",
    "\n",
    "    def __repr__(self):\n",
    "        return repr_mapping(\n",
    "            self._asdict(), title=self.__class__.__name__, repr_fun=repr_array\n",
    "        )\n",
    "\n",
    "\n",
    "def mycollate(batch: list):\n",
    "    index = []\n",
    "    timeseries = []\n",
    "    metadata = []\n",
    "    targets = []\n",
    "    encoded_targets = []\n",
    "\n",
    "    for idx, (ts_data, (md_data, target)) in batch:\n",
    "        index.append(torch.tensor(idx[0]))\n",
    "        timeseries.append(encoder.encode(ts_data))\n",
    "        metadata.append(md_data)\n",
    "        targets.append(target)\n",
    "        encoded_targets.append(target_encoder.encode(target))\n",
    "\n",
    "    index = torch.stack(index)\n",
    "    targets = pandas.concat(targets)\n",
    "    encoded_targets = torch.concat(encoded_targets)\n",
    "\n",
    "    return Batch(index, timeseries, metadata, targets, encoded_targets)"
   ]
  },
  {
   "cell_type": "code",
   "execution_count": null,
   "metadata": {},
   "outputs": [],
   "source": [
    "dloader = task.batchloaders[0, \"train\"]"
   ]
  },
  {
   "cell_type": "code",
   "execution_count": null,
   "metadata": {},
   "outputs": [],
   "source": [
    "encoder[-1].mean"
   ]
  },
  {
   "cell_type": "code",
   "execution_count": null,
   "metadata": {},
   "outputs": [],
   "source": [
    "dloader.collate_fn = mycollate"
   ]
  },
  {
   "cell_type": "code",
   "execution_count": null,
   "metadata": {},
   "outputs": [],
   "source": [
    "batch = next(iter(dloader))"
   ]
  },
  {
   "cell_type": "code",
   "execution_count": null,
   "metadata": {},
   "outputs": [],
   "source": [
    "key = next(iter(dloader.sampler))\n",
    "sample = dloader.dataset[key]\n",
    "(key, slc), (ts, (md, target)) = sample"
   ]
  },
  {
   "cell_type": "code",
   "execution_count": null,
   "metadata": {},
   "outputs": [],
   "source": [
    "key"
   ]
  },
  {
   "cell_type": "code",
   "execution_count": null,
   "metadata": {},
   "outputs": [],
   "source": [
    "target"
   ]
  },
  {
   "cell_type": "code",
   "execution_count": null,
   "metadata": {},
   "outputs": [],
   "source": []
  }
 ],
 "metadata": {
  "kernelspec": {
   "display_name": "Python 3 (ipykernel)",
   "language": "python",
   "name": "python3"
  },
  "language_info": {
   "codemirror_mode": {
    "name": "ipython",
    "version": 3
   },
   "file_extension": ".py",
   "mimetype": "text/x-python",
   "name": "python",
   "nbconvert_exporter": "python",
   "pygments_lexer": "ipython3",
   "version": "3.9.10"
  }
 },
 "nbformat": 4,
 "nbformat_minor": 4
}
