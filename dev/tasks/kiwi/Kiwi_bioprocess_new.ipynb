{
 "cells": [
  {
   "cell_type": "markdown",
   "metadata": {
    "pycharm": {
     "name": "#%% md\n"
    },
    "tags": []
   },
   "source": [
    "# New Bioprocess Task\n",
    "\n",
    "We now distinguish clearly between the 4 different categories of features:\n",
    "\n",
    "|            | obs-horizon | pred-horizon | predicted |\n",
    "|------------|-------------|--------------|-----------|\n",
    "| $X$        | ✔           | ✘            | ✘         |\n",
    "| $U$        | ✔           | ✔            | ✘         |\n",
    "| $Y^{auto}$ | ✔           | ✘            | ✔         |\n",
    "| $Y^{pred}$ | ✘           | ✘            | ✔         |\n",
    "\n",
    "In practice, we provide 3 different key sets to the the model:\n",
    "\n",
    "1. Observables: the columns corresponding to the data the model sees in the observation horizon.\n",
    "2. Controls: the columns corresponding to the controls U.\n",
    "3. Targets: the columns that the model needs to predict.\n",
    "\n",
    "Observables and Targets may overlap. In the case of the BioProcess Data, we have:\n",
    "\n",
    "1. Controls: `Cumulated_feed_volume_glucose`, `Cumulated_feed_volume_medium`, `InducerConcentration`, `StirringSpeed`, `Flow_Air`\n",
    "2. Targets: `Base`, `DOT`, `Glucose`, `OD600`\n",
    "3. Observables: `Base`, `DOT`, `Glucose`, `OD600`, `Acetate`, `Fluo_GFP`, `Volume`, `pH`, "
   ]
  },
  {
   "cell_type": "markdown",
   "metadata": {
    "pycharm": {
     "name": "#%% md\n"
    },
    "tags": []
   },
   "source": [
    "## DataLoaders\n",
    "\n",
    "The DataLoader should create batches of samples. A sample consists of:\n",
    "\n",
    "- Triplet: (TS, Meta-Data, Constants)\n"
   ]
  },
  {
   "cell_type": "code",
   "execution_count": null,
   "metadata": {
    "pycharm": {
     "name": "#%%\n"
    }
   },
   "source": [
    "%config InteractiveShell.ast_node_interactivity='last_expr_or_assign'  # always print last expr.\n",
    "%config InlineBackend.figure_format = 'svg'\n",
    "%load_ext autoreload\n",
    "%autoreload 2\n",
    "%matplotlib inline\n",
    "\n",
    "import logging\n",
    "\n",
    "logging.basicConfig(level=logging.INFO)"
   ],
   "outputs": []
  },
  {
   "cell_type": "code",
   "execution_count": null,
   "metadata": {
    "pycharm": {
     "name": "#%%\n"
    },
    "tags": []
   },
   "source": [
    "from tsdm.tasks import Kiwi_BioProcessTask"
   ],
   "outputs": []
  },
  {
   "cell_type": "code",
   "execution_count": null,
   "metadata": {
    "pycharm": {
     "name": "#%%\n"
    }
   },
   "source": [
    "task = Kiwi_BioProcessTask()"
   ],
   "outputs": []
  },
  {
   "cell_type": "code",
   "execution_count": null,
   "metadata": {
    "pycharm": {
     "name": "#%%\n"
    }
   },
   "source": [
    "task.dataset.units"
   ],
   "outputs": []
  },
  {
   "cell_type": "code",
   "execution_count": null,
   "metadata": {
    "pycharm": {
     "name": "#%%\n"
    }
   },
   "source": [
    "task.controls"
   ],
   "outputs": []
  },
  {
   "cell_type": "code",
   "execution_count": null,
   "metadata": {
    "pycharm": {
     "name": "#%%\n"
    }
   },
   "source": [
    "task.targets"
   ],
   "outputs": []
  },
  {
   "cell_type": "code",
   "execution_count": null,
   "metadata": {
    "pycharm": {
     "name": "#%%\n"
    }
   },
   "source": [
    "task.observables"
   ],
   "outputs": []
  },
  {
   "cell_type": "code",
   "execution_count": null,
   "metadata": {
    "pycharm": {
     "name": "#%%\n"
    }
   },
   "source": [
    "task.dataset.units"
   ],
   "outputs": []
  },
  {
   "cell_type": "code",
   "execution_count": null,
   "metadata": {
    "pycharm": {
     "name": "#%%\n"
    }
   },
   "source": [
    "splits_keys = task.splits.keys()\n",
    "key = next(iter(splits_keys))"
   ],
   "outputs": []
  },
  {
   "cell_type": "code",
   "execution_count": null,
   "metadata": {
    "pycharm": {
     "name": "#%%\n"
    }
   },
   "source": [
    "ts, md = task.splits[key]"
   ],
   "outputs": []
  },
  {
   "cell_type": "code",
   "execution_count": null,
   "metadata": {
    "pycharm": {
     "name": "#%%\n"
    }
   },
   "source": [],
   "outputs": []
  },
  {
   "cell_type": "code",
   "execution_count": null,
   "metadata": {
    "pycharm": {
     "name": "#%%\n"
    }
   },
   "source": [
    "task.get_dataloader(key)"
   ],
   "outputs": []
  },
  {
   "cell_type": "code",
   "execution_count": null,
   "metadata": {
    "pycharm": {
     "name": "#%%\n"
    }
   },
   "source": [],
   "outputs": []
  },
  {
   "cell_type": "code",
   "execution_count": null,
   "metadata": {
    "pycharm": {
     "name": "#%%\n"
    },
    "tags": []
   },
   "source": [
    "dataloader = task.batchloaders[(0, \"train\")]\n",
    "dataloader.preprocessor[-1]"
   ],
   "outputs": []
  },
  {
   "cell_type": "code",
   "execution_count": null,
   "metadata": {
    "pycharm": {
     "name": "#%%\n"
    },
    "tags": []
   },
   "source": [
    "dataloader = task.batchloaders[(0, \"train\")]\n",
    "batch = next(iter(dataloader))"
   ],
   "outputs": []
  },
  {
   "cell_type": "code",
   "execution_count": null,
   "metadata": {
    "pycharm": {
     "name": "#%%\n"
    }
   },
   "source": [
    "dataloader.preprocessor.decode(batch)"
   ],
   "outputs": []
  },
  {
   "cell_type": "code",
   "execution_count": null,
   "metadata": {
    "pycharm": {
     "name": "#%%\n"
    }
   },
   "source": [],
   "outputs": []
  }
 ],
 "metadata": {
  "kernelspec": {
   "display_name": "Python 3 (ipykernel)",
   "language": "python",
   "name": "python3"
  },
  "language_info": {
   "codemirror_mode": {
    "name": "ipython",
    "version": 3
   },
   "file_extension": ".py",
   "mimetype": "text/x-python",
   "name": "python",
   "nbconvert_exporter": "python",
   "pygments_lexer": "ipython3",
   "version": "3.10.5"
  }
 },
 "nbformat": 4,
 "nbformat_minor": 4
}
