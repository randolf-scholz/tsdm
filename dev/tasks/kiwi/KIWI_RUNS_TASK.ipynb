{
 "cells": [
  {
   "cell_type": "markdown",
   "metadata": {},
   "source": [
    "# KIWI_RUNS Task Object\n",
    "\n",
    "Evalutation protocol:\n",
    "\n",
    "\n",
    "Loss on some values.\n",
    "\n",
    "\n",
    "There are necessary parameters:\n",
    "\n",
    "- Observation Horizon : 2h (or: all)\n",
    "- Forecasting Horizon : 1h\n",
    "- Stride : 15 / 30 / 60\n",
    "- t0, tmax\n",
    "\n",
    "\n"
   ]
  },
  {
   "cell_type": "code",
   "execution_count": null,
   "metadata": {
    "tags": []
   },
   "outputs": [],
   "source": [
    "from tsdm.datasets import KIWI_RUNS"
   ]
  },
  {
   "cell_type": "code",
   "execution_count": null,
   "metadata": {
    "tags": []
   },
   "outputs": [],
   "source": [
    "ds.clean()"
   ]
  },
  {
   "cell_type": "code",
   "execution_count": null,
   "metadata": {
    "tags": []
   },
   "outputs": [],
   "source": [
    "ds = KIWI_RUNS()"
   ]
  },
  {
   "cell_type": "code",
   "execution_count": null,
   "metadata": {},
   "outputs": [],
   "source": [
    "264"
   ]
  },
  {
   "cell_type": "code",
   "execution_count": null,
   "metadata": {
    "tags": []
   },
   "outputs": [],
   "source": [
    "ds.metadata"
   ]
  },
  {
   "cell_type": "code",
   "execution_count": null,
   "metadata": {
    "tags": []
   },
   "outputs": [],
   "source": [
    "ds.units"
   ]
  },
  {
   "cell_type": "code",
   "execution_count": null,
   "metadata": {},
   "outputs": [],
   "source": [
    "ds.metadata"
   ]
  },
  {
   "cell_type": "code",
   "execution_count": null,
   "metadata": {},
   "outputs": [],
   "source": [
    "ds.timeseries"
   ]
  },
  {
   "cell_type": "code",
   "execution_count": null,
   "metadata": {},
   "outputs": [],
   "source": [
    "%config InteractiveShell.ast_node_interactivity='last_expr_or_assign'  # always print last expr.\n",
    "%config InlineBackend.figure_format = 'svg'\n",
    "%load_ext autoreload\n",
    "%autoreload 2\n",
    "%matplotlib inline"
   ]
  },
  {
   "cell_type": "code",
   "execution_count": null,
   "metadata": {},
   "outputs": [],
   "source": [
    "import pickle\n",
    "\n",
    "import numpy as np\n",
    "import pandas\n",
    "import pandas as pd\n",
    "from pandas import DataFrame, Series\n",
    "\n",
    "pd.set_option(\"display.max_rows\", 10)"
   ]
  },
  {
   "cell_type": "code",
   "execution_count": null,
   "metadata": {},
   "outputs": [],
   "source": [
    "import tsdm\n",
    "\n",
    "ds = tsdm.datasets.KIWI_RUNS()"
   ]
  },
  {
   "cell_type": "markdown",
   "metadata": {},
   "source": [
    "## Stefan's splits"
   ]
  },
  {
   "cell_type": "code",
   "execution_count": null,
   "metadata": {
    "tags": []
   },
   "outputs": [],
   "source": [
    "from cross_validate_kiwi_runs import ReplicateBasedSplitter, create_replicate_dict\n",
    "\n",
    "with open(ds.rawdata_files, \"rb\") as f:\n",
    "    experiments_per_run = pickle.load(f)\n",
    "\n",
    "col_run_to_exp = dict(create_replicate_dict(experiments_per_run))\n",
    "\n",
    "splitter = ReplicateBasedSplitter()\n",
    "\n",
    "stefan_splits = []\n",
    "\n",
    "for train_keys, test_keys in splitter.split(col_run_to_exp):\n",
    "    stefan_splits.append((train_keys, test_keys))\n",
    "\n",
    "stefan_splits"
   ]
  },
  {
   "cell_type": "code",
   "execution_count": null,
   "metadata": {
    "tags": []
   },
   "outputs": [],
   "source": [
    "from tsdm.datasets import KIWI_RUNS\n",
    "\n",
    "ds = KIWI_RUNS()\n",
    "metadata = ds.metadata\n",
    "timeseries = ds.timeseries"
   ]
  },
  {
   "cell_type": "code",
   "execution_count": null,
   "metadata": {},
   "outputs": [],
   "source": [
    "reverse_lookup = {}\n",
    "\n",
    "for run_id in metadata.index.unique(\"run_id\"):\n",
    "    colors = metadata[\"color\"][[run_id]]\n",
    "    for color in colors.unique():\n",
    "        mask = colors == color\n",
    "        indices = colors[colors == color].index.tolist()\n",
    "        reverse_lookup[(color, run_id)] = indices\n",
    "\n",
    "assert reverse_lookup == col_run_to_exp"
   ]
  },
  {
   "cell_type": "markdown",
   "metadata": {},
   "source": [
    "## groupby solution\n",
    "\n",
    "https://stackoverflow.com/a/51329888/9318372"
   ]
  },
  {
   "cell_type": "code",
   "execution_count": null,
   "metadata": {},
   "outputs": [],
   "source": [
    "rev = metadata.groupby([\"color\", \"run_id\"]).groups\n",
    "rev = {key: idx.tolist() for key, idx in rev.items()}\n",
    "assert rev == col_run_to_exp"
   ]
  },
  {
   "cell_type": "markdown",
   "metadata": {},
   "source": [
    "## Custom splitting logic"
   ]
  },
  {
   "cell_type": "code",
   "execution_count": null,
   "metadata": {},
   "outputs": [],
   "source": [
    "from sklearn.model_selection import ShuffleSplit\n",
    "\n",
    "splitter = ShuffleSplit(n_splits=5, random_state=0, test_size=0.25)\n",
    "groups = metadata.groupby([\"color\", \"run_id\"])\n",
    "rev_idx = groups.ngroup()\n",
    "groups = metadata.groupby([\"color\", \"run_id\"])\n",
    "group_idx = groups.ngroup()\n",
    "\n",
    "splits = DataFrame(index=metadata.index)\n",
    "for i, (train, test) in enumerate(splitter.split(groups)):\n",
    "    splits[i] = group_idx.isin(train).map({False: \"test\", True: \"train\"})\n",
    "\n",
    "splits.columns.name = \"split\"\n",
    "splits.astype(\"string\").astype(\"category\")"
   ]
  },
  {
   "cell_type": "markdown",
   "metadata": {},
   "source": [
    "## Loss function\n",
    "\n",
    "Divide 'Glucose' by 10, 'OD600' by 20, 'DOT' by 100, 'Base' by 200, then use RMSE."
   ]
  },
  {
   "cell_type": "code",
   "execution_count": null,
   "metadata": {},
   "outputs": [],
   "source": [
    "targets = {\"Glucose\", \"OD600\", \"DOT\", \"Base\"}\n",
    "assert targets <= set(timeseries.columns)"
   ]
  },
  {
   "cell_type": "code",
   "execution_count": null,
   "metadata": {},
   "outputs": [],
   "source": [
    "timeseries.min()"
   ]
  },
  {
   "cell_type": "code",
   "execution_count": null,
   "metadata": {},
   "outputs": [],
   "source": [
    "timeseries.max()"
   ]
  },
  {
   "cell_type": "code",
   "execution_count": null,
   "metadata": {},
   "outputs": [],
   "source": [
    "timeseries.max() - timeseries.min()"
   ]
  },
  {
   "cell_type": "code",
   "execution_count": null,
   "metadata": {},
   "outputs": [],
   "source": [
    "from itertools import product"
   ]
  },
  {
   "cell_type": "code",
   "execution_count": null,
   "metadata": {},
   "outputs": [],
   "source": [
    "list(product(range(5), (\"train\", \"test\")))"
   ]
  },
  {
   "cell_type": "code",
   "execution_count": null,
   "metadata": {},
   "outputs": [],
   "source": [
    "timeseries.dtypes"
   ]
  },
  {
   "cell_type": "code",
   "execution_count": null,
   "metadata": {},
   "outputs": [],
   "source": [
    "mask = splits[0] == \"train\"\n",
    "idx = splits[0][mask].index"
   ]
  },
  {
   "cell_type": "code",
   "execution_count": null,
   "metadata": {},
   "outputs": [],
   "source": [
    "timeseries.reset_index(level=2).loc[idx].set_index([\"measurement_time\"], append=True)"
   ]
  },
  {
   "cell_type": "markdown",
   "metadata": {
    "tags": []
   },
   "source": [
    "# Implementation"
   ]
  },
  {
   "cell_type": "code",
   "execution_count": null,
   "metadata": {},
   "outputs": [],
   "source": [
    "%config InteractiveShell.ast_node_interactivity='last_expr_or_assign'  # always print last expr.\n",
    "%config InlineBackend.figure_format = 'svg'\n",
    "%load_ext autoreload\n",
    "%autoreload 2\n",
    "%matplotlib inline"
   ]
  },
  {
   "cell_type": "markdown",
   "metadata": {},
   "source": [
    "## Splits"
   ]
  },
  {
   "cell_type": "code",
   "execution_count": null,
   "metadata": {},
   "outputs": [],
   "source": [
    "from tsdm.tasks import KIWI_RUNS_TASK\n",
    "\n",
    "TASK = KIWI_RUNS_TASK()"
   ]
  },
  {
   "cell_type": "code",
   "execution_count": null,
   "metadata": {
    "tags": []
   },
   "outputs": [],
   "source": [
    "TASK.splits[(4, \"train\")]"
   ]
  },
  {
   "cell_type": "markdown",
   "metadata": {},
   "source": [
    "## Preprocessing"
   ]
  },
  {
   "cell_type": "markdown",
   "metadata": {},
   "source": [
    "### Encoding the metadata\n",
    "\n",
    "```\n",
    "Feed_concentration_glc             Int16 → convert to float\n",
    "OD_Dilution                      Float32 → keep as-is\n",
    "bioreactor_id                     UInt32 → drop / One-Hot\n",
    "color                           category → drop / One-Hot\n",
    "container_number                  UInt32 → drop\n",
    "end_time                  datetime64[ns] → drop, but use for time-scaling\n",
    "organism_id                       UInt32 → One-Hot\n",
    "pH_correction_factor             Float32 → keep as-is\n",
    "profile_id                        UInt32 → drop\n",
    "profile_name                    category → drop\n",
    "run_name                        category → drop\n",
    "start_time                datetime64[ns] → drop, but use for time-scaling\n",
    "```"
   ]
  },
  {
   "cell_type": "code",
   "execution_count": null,
   "metadata": {},
   "outputs": [],
   "source": []
  },
  {
   "cell_type": "markdown",
   "metadata": {},
   "source": [
    "### Consistency check: are the observation timestamps within start_time and end_time reported in metadata?"
   ]
  },
  {
   "cell_type": "code",
   "execution_count": null,
   "metadata": {},
   "outputs": [],
   "source": [
    "from tqdm.auto import tqdm\n",
    "\n",
    "from tsdm.datasets import KIWI_RUNS"
   ]
  },
  {
   "cell_type": "code",
   "execution_count": null,
   "metadata": {
    "tags": []
   },
   "outputs": [],
   "source": [
    "ds = KIWI_RUNS()\n",
    "ts = ds.timeseries\n",
    "md = ds.metadata"
   ]
  },
  {
   "cell_type": "code",
   "execution_count": null,
   "metadata": {
    "tags": []
   },
   "outputs": [],
   "source": [
    "ts = ts.reset_index(level=2)\n",
    "runs = ts.index.get_level_values(\"run_id\").unique()\n",
    "\n",
    "times = DataFrame(\n",
    "    index=md.index, columns=[\"ts_start\", \"ts_final\", \"md_start\", \"md_final\"]\n",
    ")\n",
    "\n",
    "for idx in md.index:\n",
    "    ts_slice = ts.loc[idx]\n",
    "    md_slice = md.loc[idx]\n",
    "    times.loc[idx, \"ts_start\"] = ts.loc[idx, \"measurement_time\"].min()\n",
    "    times.loc[idx, \"ts_final\"] = ts.loc[idx, \"measurement_time\"].max()\n",
    "    times.loc[idx, \"md_start\"] = md.loc[idx, \"start_time\"]\n",
    "    times.loc[idx, \"md_final\"] = md.loc[idx, \"end_time\"]\n",
    "\n",
    "times"
   ]
  },
  {
   "cell_type": "code",
   "execution_count": null,
   "metadata": {},
   "outputs": [],
   "source": [
    "discr = DataFrame()\n",
    "discr[\"MD₀-TS₀\"] = times[\"md_start\"] - times[\"ts_start\"]\n",
    "discr[\"MDₜ-TSₜ\"] = times[\"md_final\"] - times[\"ts_final\"]\n",
    "discr = discr / np.timedelta64(1, \"s\")\n",
    "discr = discr.groupby(\"run_id\").mean()\n",
    "with pd.option_context(\"display.float_format\", \"{:.0f}\".format):\n",
    "    display(discr)"
   ]
  },
  {
   "cell_type": "markdown",
   "metadata": {},
   "source": [
    "### Fixing the error"
   ]
  },
  {
   "cell_type": "code",
   "execution_count": null,
   "metadata": {},
   "outputs": [],
   "source": [
    "ts = KIWI_RUNS().timeseries\n",
    "md = KIWI_RUNS().metadata\n",
    "\n",
    "merged = ts[[]].join(md[[\"start_time\", \"end_time\"]])\n",
    "time = merged.index.get_level_values(\"measurement_time\")\n",
    "cond = (merged[\"start_time\"] <= time) & (time <= merged[\"end_time\"])\n",
    "ts[cond]"
   ]
  },
  {
   "cell_type": "markdown",
   "metadata": {},
   "source": [
    "## What went wrong?"
   ]
  },
  {
   "cell_type": "code",
   "execution_count": null,
   "metadata": {},
   "outputs": [],
   "source": [
    "ts = KIWI_RUNS().timeseries.reset_index(level=2)\n",
    "md = KIWI_RUNS().metadata"
   ]
  },
  {
   "cell_type": "code",
   "execution_count": null,
   "metadata": {},
   "outputs": [],
   "source": [
    "import matplotlib.pyplot as plt\n",
    "\n",
    "times.loc[475, 16130]"
   ]
  },
  {
   "cell_type": "code",
   "execution_count": null,
   "metadata": {},
   "outputs": [],
   "source": [
    "exp = ts.loc[475, 16130]"
   ]
  },
  {
   "cell_type": "code",
   "execution_count": null,
   "metadata": {},
   "outputs": [],
   "source": [
    "pandas.isna(exp).mean()"
   ]
  },
  {
   "cell_type": "code",
   "execution_count": null,
   "metadata": {},
   "outputs": [],
   "source": [
    "T = exp[\"measurement_time\"]\n",
    "T = T - T.iloc[0]\n",
    "DOT = exp[\"DOT\"].astype(float).values\n",
    "PH = exp[\"pH\"].astype(float).values\n",
    "TEMP = exp[\"Temperature\"].astype(float).values"
   ]
  },
  {
   "cell_type": "code",
   "execution_count": null,
   "metadata": {
    "tags": []
   },
   "outputs": [],
   "source": [
    "exp.set_index(\"measurement_time\")"
   ]
  },
  {
   "cell_type": "code",
   "execution_count": null,
   "metadata": {},
   "outputs": [],
   "source": [
    "slc = exp.set_index(\"measurement_time\").loc[:\"2021-06-01\"]\n",
    "pandas.isna(slc).mean()"
   ]
  },
  {
   "cell_type": "code",
   "execution_count": null,
   "metadata": {},
   "outputs": [],
   "source": [
    "fig, ax = plt.subplots(figsize=(10, 4))\n",
    "ax.plot(T, DOT, T, PH, T, TEMP)\n",
    "ax.legend([\"DOT\", \"pH\", \"Temp\"])"
   ]
  },
  {
   "cell_type": "code",
   "execution_count": null,
   "metadata": {},
   "outputs": [],
   "source": [
    "md = metadata.drop(355)\n",
    "assert not pandas.isna(md).any(axis=None), \"DataFrame contains NANs!!\""
   ]
  },
  {
   "cell_type": "code",
   "execution_count": null,
   "metadata": {},
   "outputs": [],
   "source": [
    "drop_vals = [\n",
    "    \"bioreactor_id\",\n",
    "    \"color\",\n",
    "    \"container_number\",\n",
    "    \"end_time\",\n",
    "    \"start_time\",\n",
    "    \"profile_id\",\n",
    "    \"profile_name\",\n",
    "    \"run_name\",\n",
    "    \"organism_id\",\n",
    "]"
   ]
  },
  {
   "cell_type": "code",
   "execution_count": null,
   "metadata": {},
   "outputs": [],
   "source": [
    "md = md.drop(columns=drop_vals).astype(\"Float32\")"
   ]
  },
  {
   "cell_type": "code",
   "execution_count": null,
   "metadata": {},
   "outputs": [],
   "source": [
    "md[\"Feed_concentration_glc\"] = md[\"Feed_concentration_glc\"].astype(\"Float32\")"
   ]
  },
  {
   "cell_type": "markdown",
   "metadata": {},
   "source": [
    "## Encoding in torch"
   ]
  },
  {
   "cell_type": "code",
   "execution_count": null,
   "metadata": {},
   "outputs": [],
   "source": [
    "import torch\n",
    "\n",
    "from tsdm.encoders.functional import time2float\n",
    "\n",
    "ts = KIWI_RUNS().timeseries.astype(\"float32\")\n",
    "md = KIWI_RUNS().metadata\n",
    "\n",
    "device = torch.device(\"cuda\" if torch.cuda.is_available() else \"cpu\")\n",
    "dtype = torch.float32\n",
    "ts = ts.reset_index(level=2)  # make measurements regular col"
   ]
  },
  {
   "cell_type": "code",
   "execution_count": null,
   "metadata": {},
   "outputs": [],
   "source": [
    "time2float(ts[\"measurement_time\"].values)"
   ]
  },
  {
   "cell_type": "code",
   "execution_count": null,
   "metadata": {},
   "outputs": [],
   "source": [
    "T = torch.tensor(time2float(ts[\"measurement_time\"].values), device=device, dtype=dtype)\n",
    "X = torch.tensor(\n",
    "    ts.drop(columns=[\"measurement_time\"]).values, device=device, dtype=dtype\n",
    ")"
   ]
  },
  {
   "cell_type": "markdown",
   "metadata": {},
   "source": [
    "## Creating DataSetCollection Object"
   ]
  },
  {
   "cell_type": "code",
   "execution_count": null,
   "metadata": {},
   "outputs": [],
   "source": [
    "from torch.utils.data import TensorDataset\n",
    "\n",
    "from tsdm.datasets import DatasetCollection"
   ]
  },
  {
   "cell_type": "code",
   "execution_count": null,
   "metadata": {
    "tags": []
   },
   "outputs": [],
   "source": [
    "shared_index = ts.index.unique().values\n",
    "masks = {idx: ts.index == idx for idx in shared_index}\n",
    "datasets = {idx: TensorDataset(T[masks[idx]], X[masks[idx]]) for idx in shared_index}"
   ]
  },
  {
   "cell_type": "code",
   "execution_count": null,
   "metadata": {},
   "outputs": [],
   "source": [
    "from pandas import Series"
   ]
  },
  {
   "cell_type": "code",
   "execution_count": null,
   "metadata": {},
   "outputs": [],
   "source": [
    "s = Series(datasets)"
   ]
  },
  {
   "cell_type": "code",
   "execution_count": null,
   "metadata": {},
   "outputs": [],
   "source": [
    "dataset = DatasetCollection(datasets)"
   ]
  },
  {
   "cell_type": "code",
   "execution_count": null,
   "metadata": {},
   "outputs": [],
   "source": [
    "some_index = (439, 15325)\n",
    "dataset[some_index]"
   ]
  },
  {
   "cell_type": "code",
   "execution_count": null,
   "metadata": {},
   "outputs": [],
   "source": [
    "dataset[some_index][:10]"
   ]
  },
  {
   "cell_type": "markdown",
   "metadata": {},
   "source": [
    "## Creating CollectionSampler Object"
   ]
  },
  {
   "cell_type": "code",
   "execution_count": null,
   "metadata": {},
   "outputs": [],
   "source": [
    "from torch.utils.data import TensorDataset\n",
    "\n",
    "from tsdm.random.samplers import CollectionSampler, SequenceSampler\n",
    "\n",
    "subsamplers = {\n",
    "    key: SequenceSampler(ds, seq_len=100, shuffle=True) for key, ds in dataset.items()\n",
    "}\n",
    "sampler = CollectionSampler(dataset, subsamplers=subsamplers)"
   ]
  },
  {
   "cell_type": "code",
   "execution_count": null,
   "metadata": {},
   "outputs": [],
   "source": [
    "sample = next(iter(sampler))\n",
    "element = dataset[sample]"
   ]
  },
  {
   "cell_type": "code",
   "execution_count": null,
   "metadata": {},
   "outputs": [],
   "source": [
    "from tqdm.auto import tqdm\n",
    "\n",
    "for b in tqdm(sampler): ..."
   ]
  },
  {
   "cell_type": "markdown",
   "metadata": {},
   "source": [
    "## DataLoader Object"
   ]
  },
  {
   "cell_type": "code",
   "execution_count": null,
   "metadata": {},
   "outputs": [],
   "source": [
    "from torch.utils.data import DataLoader"
   ]
  },
  {
   "cell_type": "code",
   "execution_count": null,
   "metadata": {},
   "outputs": [],
   "source": [
    "dloader = DataLoader(dataset, sampler=sampler, batch_size=32)"
   ]
  },
  {
   "cell_type": "code",
   "execution_count": null,
   "metadata": {
    "tags": []
   },
   "outputs": [],
   "source": [
    "next(iter(dloader))"
   ]
  },
  {
   "cell_type": "code",
   "execution_count": null,
   "metadata": {},
   "outputs": [],
   "source": [
    "for batch in tqdm(dloader): ..."
   ]
  },
  {
   "cell_type": "markdown",
   "metadata": {},
   "source": [
    "## Testing implemented variant"
   ]
  },
  {
   "cell_type": "code",
   "execution_count": null,
   "metadata": {},
   "outputs": [],
   "source": [
    "from tsdm.tasks import KIWI_RUNS_TASK\n",
    "\n",
    "task = KIWI_RUNS_TASK()"
   ]
  },
  {
   "cell_type": "code",
   "execution_count": null,
   "metadata": {},
   "outputs": [],
   "source": [
    "task.dataloaders"
   ]
  },
  {
   "cell_type": "code",
   "execution_count": null,
   "metadata": {},
   "outputs": [],
   "source": [
    "dloader = task.dataloaders[(0, \"train\")]"
   ]
  },
  {
   "cell_type": "code",
   "execution_count": null,
   "metadata": {},
   "outputs": [],
   "source": [
    "next(iter(dloader))"
   ]
  },
  {
   "cell_type": "code",
   "execution_count": null,
   "metadata": {},
   "outputs": [],
   "source": [
    "T.shape, X.shape"
   ]
  },
  {
   "cell_type": "code",
   "execution_count": null,
   "metadata": {},
   "outputs": [],
   "source": [
    "for batch in tqdm(dloader): ..."
   ]
  },
  {
   "cell_type": "code",
   "execution_count": null,
   "metadata": {},
   "outputs": [],
   "source": [
    "for batch in tqdm(task.dataloaders[(0, \"train\")]): ..."
   ]
  },
  {
   "cell_type": "code",
   "execution_count": null,
   "metadata": {},
   "outputs": [],
   "source": []
  },
  {
   "cell_type": "code",
   "execution_count": null,
   "metadata": {},
   "outputs": [],
   "source": []
  }
 ],
 "metadata": {
  "kernelspec": {
   "display_name": "Python 3 (ipykernel)",
   "language": "python",
   "name": "python3"
  },
  "language_info": {
   "codemirror_mode": {
    "name": "ipython",
    "version": 3
   },
   "file_extension": ".py",
   "mimetype": "text/x-python",
   "name": "python",
   "nbconvert_exporter": "python",
   "pygments_lexer": "ipython3",
   "version": "3.10.6"
  }
 },
 "nbformat": 4,
 "nbformat_minor": 4
}
