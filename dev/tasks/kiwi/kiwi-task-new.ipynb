{
 "cells": [
  {
   "cell_type": "markdown",
   "metadata": {},
   "source": [
    "# Title"
   ]
  },
  {
   "cell_type": "code",
   "execution_count": null,
   "metadata": {
    "execution": {
     "iopub.execute_input": "2022-11-14T03:09:03.855381Z",
     "iopub.status.busy": "2022-11-14T03:09:03.855257Z",
     "iopub.status.idle": "2022-11-14T03:09:04.323831Z",
     "shell.execute_reply": "2022-11-14T03:09:04.323480Z",
     "shell.execute_reply.started": "2022-11-14T03:09:03.855353Z"
    },
    "tags": []
   },
   "outputs": [],
   "source": [
    "%config InteractiveShell.ast_node_interactivity='last_expr_or_assign'\n",
    "%config InlineBackend.figure_format = 'svg'\n",
    "%load_ext autoreload\n",
    "%autoreload 2\n",
    "%matplotlib inline\n",
    "\n",
    "import logging\n",
    "from collections.abc import *\n",
    "from dataclasses import KW_ONLY, dataclass\n",
    "from typing import Any, NamedTuple\n",
    "\n",
    "import matplotlib.pyplot as plt\n",
    "import numpy as np\n",
    "import pandas as pd\n",
    "import scipy as sp\n",
    "from pandas import DataFrame, Index, MultiIndex, Series\n",
    "\n",
    "rng = np.random.default_rng()\n",
    "np.set_printoptions(precision=4, floatmode=\"fixed\", suppress=True)\n",
    "logging.basicConfig(level=logging.INFO)"
   ]
  },
  {
   "cell_type": "code",
   "execution_count": null,
   "metadata": {
    "execution": {
     "iopub.execute_input": "2022-11-14T03:09:04.324845Z",
     "iopub.status.busy": "2022-11-14T03:09:04.324663Z",
     "iopub.status.idle": "2022-11-14T03:09:05.465656Z",
     "shell.execute_reply": "2022-11-14T03:09:05.465204Z",
     "shell.execute_reply.started": "2022-11-14T03:09:04.324834Z"
    },
    "tags": []
   },
   "outputs": [],
   "source": [
    "import torch\n",
    "from sklearn.model_selection import train_test_split\n",
    "from torch import Tensor\n",
    "from torch import nan as NAN\n",
    "from torch import nn\n",
    "from torch.nn.utils.rnn import pad_sequence\n",
    "from torch.utils.data import DataLoader, Dataset\n",
    "from torch.utils.data import Sampler as TorchSampler\n",
    "\n",
    "from tsdm.datasets import KiwiDataset, TimeSeriesCollection\n",
    "from tsdm.random.samplers import HierarchicalSampler, SlidingWindowSampler\n",
    "from tsdm.tasks import TimeSeriesSampleGenerator, TimeSeriesTask\n",
    "from tsdm.tasks.base import Batch, Sample, TimeSeriesSampleGenerator, TimeSeriesTask\n",
    "from tsdm.utils.data import folds_as_frame, folds_as_sparse_frame, folds_from_groups\n",
    "from tsdm.utils.types import KeyVar"
   ]
  },
  {
   "cell_type": "code",
   "execution_count": null,
   "metadata": {
    "execution": {
     "iopub.execute_input": "2022-11-14T03:09:05.466418Z",
     "iopub.status.busy": "2022-11-14T03:09:05.466200Z",
     "iopub.status.idle": "2022-11-14T03:09:05.488707Z",
     "shell.execute_reply": "2022-11-14T03:09:05.488279Z",
     "shell.execute_reply.started": "2022-11-14T03:09:05.466407Z"
    },
    "tags": []
   },
   "outputs": [],
   "source": [
    "class KiwiSampleGenerator(TimeSeriesSampleGenerator):\n",
    "    r\"\"\"Sample generator for the KIWI dataset.\"\"\"\n",
    "\n",
    "    def __init__(self, dataset):\n",
    "        super().__init__(\n",
    "            dataset,\n",
    "            observables=[\n",
    "                \"Base\",\n",
    "                \"DOT\",\n",
    "                \"Glucose\",\n",
    "                \"OD600\",\n",
    "                \"Acetate\",\n",
    "                \"Fluo_GFP\",\n",
    "                \"Temperature\",\n",
    "                \"pH\",\n",
    "            ],\n",
    "            covariates=[\n",
    "                \"Cumulated_feed_volume_glucose\",\n",
    "                \"Cumulated_feed_volume_medium\",\n",
    "                \"InducerConcentration\",\n",
    "                \"StirringSpeed\",\n",
    "                \"Flow_Air\",\n",
    "                \"Probe_Volume\",\n",
    "            ],\n",
    "            targets=[\"OD600\", \"Fluo_GFP\"],\n",
    "        )\n",
    "\n",
    "\n",
    "class KiwiTask(TimeSeriesTask):\n",
    "    r\"\"\"Task for the KIWI dataset.\"\"\"\n",
    "    # dataset: TimeSeriesCollection = KiwiDataset()\n",
    "    observation_horizon: str = \"2h\"\n",
    "    r\"\"\"The number of datapoints observed during prediction.\"\"\"\n",
    "    forecasting_horizon: str = \"1h\"\n",
    "    r\"\"\"The number of datapoints the model should forecast.\"\"\"\n",
    "\n",
    "    def __init__(self) -> None:\n",
    "        dataset = KiwiDataset()\n",
    "        dataset.timeseries = dataset.timeseries.astype(\"float64\")\n",
    "        super().__init__(dataset=dataset)\n",
    "\n",
    "    @staticmethod\n",
    "    def default_metric(*, targets, predictions):\n",
    "        r\"\"\"TODO: implement this.\"\"\"\n",
    "\n",
    "    def default_collate(self):\n",
    "        r\"\"\"TODO: implement this.\"\"\"\n",
    "\n",
    "    # def make_encoder(self, key: KeyVar, /) -> ModularEncoder:\n",
    "    #     ...\n",
    "\n",
    "    def make_sampler(self, key: KeyVar, /) -> TorchSampler:\n",
    "        split: TimeSeriesCollection = self.splits[key]\n",
    "        subsamplers = {\n",
    "            key: SlidingWindowSampler(tsd.index, horizons=[\"2h\", \"1h\"], stride=\"1h\")\n",
    "            for key, tsd in split.items()\n",
    "        }\n",
    "        return HierarchicalSampler(split, subsamplers, shuffle=False)  # type: ignore[return-value]\n",
    "\n",
    "    def make_folds(self, /) -> DataFrame:\n",
    "        r\"\"\"Group by RunID and color which indicates replicates.\"\"\"\n",
    "        md = self.dataset.metadata\n",
    "        groups = md.groupby([\"run_id\", \"color\"], sort=False).ngroup()\n",
    "        folds = folds_from_groups(\n",
    "            groups, seed=2022, num_folds=5, train=7, valid=1, test=2\n",
    "        )\n",
    "        df = folds_as_frame(folds)\n",
    "        return folds_as_sparse_frame(df)\n",
    "\n",
    "    def make_generator(self, key: KeyVar, /) -> KiwiSampleGenerator:\n",
    "        split = self.splits[key]\n",
    "        return KiwiSampleGenerator(split)"
   ]
  },
  {
   "cell_type": "code",
   "execution_count": null,
   "metadata": {
    "execution": {
     "iopub.execute_input": "2022-11-14T03:09:05.489337Z",
     "iopub.status.busy": "2022-11-14T03:09:05.489228Z",
     "iopub.status.idle": "2022-11-14T03:09:06.388963Z",
     "shell.execute_reply": "2022-11-14T03:09:06.388548Z",
     "shell.execute_reply.started": "2022-11-14T03:09:05.489326Z"
    },
    "tags": []
   },
   "outputs": [],
   "source": [
    "task = KiwiTask()"
   ]
  },
  {
   "cell_type": "code",
   "execution_count": null,
   "metadata": {
    "execution": {
     "iopub.execute_input": "2022-11-14T03:09:06.389575Z",
     "iopub.status.busy": "2022-11-14T03:09:06.389468Z",
     "iopub.status.idle": "2022-11-14T03:09:06.409828Z",
     "shell.execute_reply": "2022-11-14T03:09:06.409462Z",
     "shell.execute_reply.started": "2022-11-14T03:09:06.389564Z"
    },
    "tags": []
   },
   "outputs": [],
   "source": [
    "task.dataset"
   ]
  },
  {
   "cell_type": "code",
   "execution_count": null,
   "metadata": {
    "execution": {
     "iopub.execute_input": "2022-11-14T03:09:06.410468Z",
     "iopub.status.busy": "2022-11-14T03:09:06.410326Z",
     "iopub.status.idle": "2022-11-14T03:09:07.220392Z",
     "shell.execute_reply": "2022-11-14T03:09:07.219918Z",
     "shell.execute_reply.started": "2022-11-14T03:09:06.410457Z"
    },
    "tags": []
   },
   "outputs": [],
   "source": [
    "dataloader = task.dataloaders[(0, \"train\")]"
   ]
  },
  {
   "cell_type": "code",
   "execution_count": null,
   "metadata": {
    "execution": {
     "iopub.execute_input": "2022-11-14T03:09:07.221814Z",
     "iopub.status.busy": "2022-11-14T03:09:07.221698Z",
     "iopub.status.idle": "2022-11-14T03:09:07.247121Z",
     "shell.execute_reply": "2022-11-14T03:09:07.246656Z",
     "shell.execute_reply.started": "2022-11-14T03:09:07.221802Z"
    },
    "tags": []
   },
   "outputs": [],
   "source": [
    "sampler = task.samplers[(0, \"train\")]"
   ]
  },
  {
   "cell_type": "code",
   "execution_count": null,
   "metadata": {
    "execution": {
     "iopub.execute_input": "2022-11-14T03:09:07.247745Z",
     "iopub.status.busy": "2022-11-14T03:09:07.247608Z",
     "iopub.status.idle": "2022-11-14T03:09:07.266543Z",
     "shell.execute_reply": "2022-11-14T03:09:07.266094Z",
     "shell.execute_reply.started": "2022-11-14T03:09:07.247734Z"
    },
    "tags": []
   },
   "outputs": [],
   "source": [
    "generator = task.generators[(0, \"train\")]"
   ]
  },
  {
   "cell_type": "code",
   "execution_count": null,
   "metadata": {
    "execution": {
     "iopub.execute_input": "2022-11-14T03:09:07.267159Z",
     "iopub.status.busy": "2022-11-14T03:09:07.267056Z",
     "iopub.status.idle": "2022-11-14T03:09:07.285826Z",
     "shell.execute_reply": "2022-11-14T03:09:07.285466Z",
     "shell.execute_reply.started": "2022-11-14T03:09:07.267150Z"
    },
    "tags": []
   },
   "outputs": [],
   "source": [
    "task.splits"
   ]
  },
  {
   "cell_type": "code",
   "execution_count": null,
   "metadata": {
    "execution": {
     "iopub.execute_input": "2022-11-14T03:09:07.286472Z",
     "iopub.status.busy": "2022-11-14T03:09:07.286368Z",
     "iopub.status.idle": "2022-11-14T03:09:07.609238Z",
     "shell.execute_reply": "2022-11-14T03:09:07.608691Z",
     "shell.execute_reply.started": "2022-11-14T03:09:07.286462Z"
    },
    "tags": []
   },
   "outputs": [],
   "source": [
    "batch = next(iter(dataloader))"
   ]
  },
  {
   "cell_type": "code",
   "execution_count": null,
   "metadata": {
    "execution": {
     "iopub.execute_input": "2022-11-14T03:09:07.610088Z",
     "iopub.status.busy": "2022-11-14T03:09:07.609983Z",
     "iopub.status.idle": "2022-11-14T03:09:07.629441Z",
     "shell.execute_reply": "2022-11-14T03:09:07.628996Z",
     "shell.execute_reply.started": "2022-11-14T03:09:07.610078Z"
    },
    "tags": []
   },
   "outputs": [],
   "source": [
    "sample = batch[0]"
   ]
  },
  {
   "cell_type": "code",
   "execution_count": null,
   "metadata": {
    "execution": {
     "iopub.execute_input": "2022-11-14T03:09:07.630056Z",
     "iopub.status.busy": "2022-11-14T03:09:07.629922Z",
     "iopub.status.idle": "2022-11-14T03:09:07.649288Z",
     "shell.execute_reply": "2022-11-14T03:09:07.648842Z",
     "shell.execute_reply.started": "2022-11-14T03:09:07.630046Z"
    },
    "tags": []
   },
   "outputs": [],
   "source": [
    "sample.inputs"
   ]
  },
  {
   "cell_type": "code",
   "execution_count": null,
   "metadata": {
    "execution": {
     "iopub.execute_input": "2022-11-14T03:09:07.649853Z",
     "iopub.status.busy": "2022-11-14T03:09:07.649746Z",
     "iopub.status.idle": "2022-11-14T03:09:07.668770Z",
     "shell.execute_reply": "2022-11-14T03:09:07.668291Z",
     "shell.execute_reply.started": "2022-11-14T03:09:07.649843Z"
    },
    "tags": []
   },
   "outputs": [],
   "source": [
    "sample.targets"
   ]
  },
  {
   "cell_type": "code",
   "execution_count": null,
   "metadata": {
    "execution": {
     "iopub.execute_input": "2022-11-14T03:09:07.669357Z",
     "iopub.status.busy": "2022-11-14T03:09:07.669255Z",
     "iopub.status.idle": "2022-11-14T03:09:07.688433Z",
     "shell.execute_reply": "2022-11-14T03:09:07.687898Z",
     "shell.execute_reply.started": "2022-11-14T03:09:07.669347Z"
    },
    "tags": []
   },
   "outputs": [],
   "source": [
    "sample.key"
   ]
  },
  {
   "cell_type": "markdown",
   "metadata": {},
   "source": [
    "# Designing Encoder for the data"
   ]
  },
  {
   "cell_type": "code",
   "execution_count": null,
   "metadata": {
    "execution": {
     "iopub.execute_input": "2022-11-14T03:09:07.689057Z",
     "iopub.status.busy": "2022-11-14T03:09:07.688919Z",
     "iopub.status.idle": "2022-11-14T03:09:07.706904Z",
     "shell.execute_reply": "2022-11-14T03:09:07.706418Z",
     "shell.execute_reply.started": "2022-11-14T03:09:07.689046Z"
    },
    "tags": []
   },
   "outputs": [],
   "source": [
    "from tsdm.encoders import *"
   ]
  },
  {
   "cell_type": "code",
   "execution_count": null,
   "metadata": {
    "execution": {
     "iopub.execute_input": "2022-11-14T03:09:07.707463Z",
     "iopub.status.busy": "2022-11-14T03:09:07.707354Z",
     "iopub.status.idle": "2022-11-14T03:09:07.734111Z",
     "shell.execute_reply": "2022-11-14T03:09:07.733706Z",
     "shell.execute_reply.started": "2022-11-14T03:09:07.707453Z"
    },
    "tags": []
   },
   "outputs": [],
   "source": [
    "t = sample.inputs.x.index\n",
    "x = sample.inputs.x\n",
    "t_target = sample.inputs.t_target\n",
    "y = sample.targets.y"
   ]
  },
  {
   "cell_type": "code",
   "execution_count": null,
   "metadata": {
    "execution": {
     "iopub.execute_input": "2022-11-14T03:09:07.734695Z",
     "iopub.status.busy": "2022-11-14T03:09:07.734588Z",
     "iopub.status.idle": "2022-11-14T03:09:07.756030Z",
     "shell.execute_reply": "2022-11-14T03:09:07.755606Z",
     "shell.execute_reply.started": "2022-11-14T03:09:07.734683Z"
    },
    "tags": []
   },
   "outputs": [],
   "source": [
    "VF = task.dataset.value_features"
   ]
  },
  {
   "cell_type": "code",
   "execution_count": null,
   "metadata": {
    "execution": {
     "iopub.execute_input": "2022-11-14T03:09:07.756642Z",
     "iopub.status.busy": "2022-11-14T03:09:07.756509Z",
     "iopub.status.idle": "2022-11-14T03:09:07.779670Z",
     "shell.execute_reply": "2022-11-14T03:09:07.779333Z",
     "shell.execute_reply.started": "2022-11-14T03:09:07.756632Z"
    },
    "tags": []
   },
   "outputs": [],
   "source": [
    "encs = {}\n",
    "\n",
    "for col, scale, lower, upper in VF[[\"scale\", \"lower\", \"upper\"]].itertuples():\n",
    "    encoder = BoundaryEncoder(lower, upper, mode=\"clip\")\n",
    "    match scale:\n",
    "        case \"percent\":\n",
    "            encoder = (\n",
    "                LogitBoxCoxEncoder()\n",
    "                @ LinearScaler(lower, upper)\n",
    "                @ BoundaryEncoder(lower, upper, mode=\"clip\")\n",
    "            )\n",
    "        case \"absolute\":\n",
    "            if upper < np.inf:\n",
    "                encoder = (\n",
    "                    BoxCoxEncoder()\n",
    "                    @ LinearScaler(lower, upper)\n",
    "                    @ BoundaryEncoder(lower, upper, mode=\"clip\")\n",
    "                )\n",
    "            else:\n",
    "                encoder = BoxCoxEncoder() @ BoundaryEncoder(lower, upper, mode=\"clip\")\n",
    "        case \"linear\":\n",
    "            encoder = IdentityEncoder()\n",
    "        case _:\n",
    "            raise ValueError(f\"{scale=} unknown\")\n",
    "    encs[col] = encoder\n",
    "encs"
   ]
  },
  {
   "cell_type": "code",
   "execution_count": null,
   "metadata": {
    "tags": []
   },
   "outputs": [],
   "source": []
  },
  {
   "cell_type": "markdown",
   "metadata": {},
   "source": [
    "# original data"
   ]
  },
  {
   "cell_type": "code",
   "execution_count": null,
   "metadata": {
    "execution": {
     "iopub.execute_input": "2022-11-14T03:09:07.780286Z",
     "iopub.status.busy": "2022-11-14T03:09:07.780181Z",
     "iopub.status.idle": "2022-11-14T03:09:07.799410Z",
     "shell.execute_reply": "2022-11-14T03:09:07.799087Z",
     "shell.execute_reply.started": "2022-11-14T03:09:07.780276Z"
    },
    "tags": []
   },
   "outputs": [],
   "source": [
    "%matplotlib inline\n",
    "ts = task.dataset.timeseries\n",
    "ts[\"dummy\"] = float(\"nan\")"
   ]
  },
  {
   "cell_type": "code",
   "execution_count": null,
   "metadata": {
    "execution": {
     "iopub.execute_input": "2022-11-14T03:09:07.799963Z",
     "iopub.status.busy": "2022-11-14T03:09:07.799858Z",
     "iopub.status.idle": "2022-11-14T03:09:13.198805Z",
     "shell.execute_reply": "2022-11-14T03:09:13.198428Z",
     "shell.execute_reply.started": "2022-11-14T03:09:07.799952Z"
    },
    "tags": []
   },
   "outputs": [],
   "source": [
    "fig, ax = plt.subplots(ncols=5, nrows=3, figsize=(20, 6), constrained_layout=True)\n",
    "ts.hist(ax=ax, density=True, log=True, bins=20)\n",
    "fig.savefig(\"data_original.pdf\")\n",
    "print(list(ts.columns))"
   ]
  },
  {
   "cell_type": "markdown",
   "metadata": {},
   "source": [
    "# plain standardization"
   ]
  },
  {
   "cell_type": "code",
   "execution_count": null,
   "metadata": {
    "execution": {
     "iopub.execute_input": "2022-11-14T03:09:13.199432Z",
     "iopub.status.busy": "2022-11-14T03:09:13.199318Z",
     "iopub.status.idle": "2022-11-14T03:09:18.157723Z",
     "shell.execute_reply": "2022-11-14T03:09:18.157349Z",
     "shell.execute_reply.started": "2022-11-14T03:09:13.199421Z"
    },
    "tags": []
   },
   "outputs": [],
   "source": [
    "encoder = Standardizer()\n",
    "encoder.fit(ts)\n",
    "encoded = encoder.encode(ts)\n",
    "fig, ax = plt.subplots(ncols=5, nrows=3, figsize=(20, 6), constrained_layout=True)\n",
    "encoded.hist(ax=ax, density=True, log=True, bins=20)\n",
    "fig.savefig(\"data_encoded_standardizer.pdf\")\n",
    "print(list(encoded.columns))"
   ]
  },
  {
   "cell_type": "markdown",
   "metadata": {
    "tags": []
   },
   "source": [
    "# With BoxCox"
   ]
  },
  {
   "cell_type": "code",
   "execution_count": null,
   "metadata": {
    "execution": {
     "iopub.execute_input": "2022-11-14T03:09:18.159905Z",
     "iopub.status.busy": "2022-11-14T03:09:18.159576Z",
     "iopub.status.idle": "2022-11-14T03:09:24.977159Z",
     "shell.execute_reply": "2022-11-14T03:09:24.976644Z",
     "shell.execute_reply.started": "2022-11-14T03:09:18.159893Z"
    },
    "tags": []
   },
   "outputs": [],
   "source": [
    "encoder = Standardizer() @ FrameEncoder(encs)\n",
    "encoder.fit(ts)\n",
    "encoded = encoder.encode(ts)\n",
    "fig, ax = plt.subplots(ncols=5, nrows=3, figsize=(20, 6), constrained_layout=True)\n",
    "encoded.hist(ax=ax, density=True, log=True, bins=20)\n",
    "fig.savefig(\"data_encoded_box_cox.pdf\")\n",
    "print(list(encoded.columns))"
   ]
  },
  {
   "cell_type": "markdown",
   "metadata": {},
   "source": [
    "## residual error"
   ]
  },
  {
   "cell_type": "code",
   "execution_count": null,
   "metadata": {
    "execution": {
     "iopub.execute_input": "2022-11-14T03:09:24.977827Z",
     "iopub.status.busy": "2022-11-14T03:09:24.977713Z",
     "iopub.status.idle": "2022-11-14T03:09:25.286615Z",
     "shell.execute_reply": "2022-11-14T03:09:25.286243Z",
     "shell.execute_reply.started": "2022-11-14T03:09:24.977816Z"
    },
    "tags": []
   },
   "outputs": [],
   "source": [
    "(encoder.decode(encoded) - ts).abs().mean().max()"
   ]
  },
  {
   "cell_type": "code",
   "execution_count": null,
   "metadata": {
    "execution": {
     "iopub.execute_input": "2022-11-14T03:09:25.287253Z",
     "iopub.status.busy": "2022-11-14T03:09:25.287140Z",
     "iopub.status.idle": "2022-11-14T03:09:25.308626Z",
     "shell.execute_reply": "2022-11-14T03:09:25.308145Z",
     "shell.execute_reply.started": "2022-11-14T03:09:25.287242Z"
    },
    "tags": []
   },
   "outputs": [],
   "source": [
    "enc = FrameEncoder(\n",
    "    column_encoders=encs,\n",
    "    index_encoders={\n",
    "        \"run_id\": IdentityEncoder(),\n",
    "        \"exp_id\": IdentityEncoder(),\n",
    "        \"measurement_time\": MinMaxScaler() @ TimeDeltaEncoder(),\n",
    "    },\n",
    ")"
   ]
  },
  {
   "cell_type": "code",
   "execution_count": null,
   "metadata": {
    "execution": {
     "iopub.execute_input": "2022-11-14T03:09:25.309286Z",
     "iopub.status.busy": "2022-11-14T03:09:25.309172Z",
     "iopub.status.idle": "2022-11-14T03:09:27.195758Z",
     "shell.execute_reply": "2022-11-14T03:09:27.195300Z",
     "shell.execute_reply.started": "2022-11-14T03:09:25.309276Z"
    },
    "tags": []
   },
   "outputs": [],
   "source": [
    "enc.fit(ts)"
   ]
  },
  {
   "cell_type": "code",
   "execution_count": null,
   "metadata": {
    "execution": {
     "iopub.execute_input": "2022-11-14T03:09:27.196413Z",
     "iopub.status.busy": "2022-11-14T03:09:27.196299Z",
     "iopub.status.idle": "2022-11-14T03:09:27.749251Z",
     "shell.execute_reply": "2022-11-14T03:09:27.748845Z",
     "shell.execute_reply.started": "2022-11-14T03:09:27.196402Z"
    },
    "tags": []
   },
   "outputs": [],
   "source": [
    "encoded = enc.encode(ts)"
   ]
  },
  {
   "cell_type": "code",
   "execution_count": null,
   "metadata": {
    "execution": {
     "iopub.execute_input": "2022-11-14T03:10:12.429799Z",
     "iopub.status.busy": "2022-11-14T03:10:12.428996Z",
     "iopub.status.idle": "2022-11-14T03:10:12.537862Z",
     "shell.execute_reply": "2022-11-14T03:10:12.537419Z",
     "shell.execute_reply.started": "2022-11-14T03:10:12.429779Z"
    },
    "tags": []
   },
   "outputs": [],
   "source": [
    "f2t = Frame2TensorDict(\n",
    "    groups={\"key\": [\"run_id\", \"exp_id\"], \"T\": [\"measurement_time\"], \"X\": ...},\n",
    "    dtypes={\"T\": \"float32\", \"X\": \"float32\"},\n",
    ")\n",
    "\n",
    "f2t.fit(encoded)\n",
    "f2t.encode(encoded)"
   ]
  },
  {
   "cell_type": "markdown",
   "metadata": {
    "tags": []
   },
   "source": [
    "## collate_fn without encoder"
   ]
  },
  {
   "cell_type": "code",
   "execution_count": null,
   "metadata": {
    "execution": {
     "iopub.status.busy": "2022-11-14T03:09:27.997596Z",
     "iopub.status.idle": "2022-11-14T03:09:27.997745Z",
     "shell.execute_reply": "2022-11-14T03:09:27.997677Z",
     "shell.execute_reply.started": "2022-11-14T03:09:27.997669Z"
    },
    "tags": []
   },
   "outputs": [],
   "source": [
    "def collate_fn(batch: list[Sample]) -> Batch:\n",
    "    r\"\"\"Collate tensors into batch.\n",
    "\n",
    "    Transform the data slightly: t, x, t_target → T, X where X[t_target:] = NAN\n",
    "    \"\"\"\n",
    "    x_vals: list[Tensor] = []\n",
    "    y_vals: list[Tensor] = []\n",
    "    x_time: list[Tensor] = []\n",
    "    y_time: list[Tensor] = []\n",
    "    x_mask: list[Tensor] = []\n",
    "    y_mask: list[Tensor] = []\n",
    "\n",
    "    for sample in batch:\n",
    "        t = sample.inputs.x.index\n",
    "        x = sample.inputs.x.values\n",
    "        t_target = sample.inputs.t_target\n",
    "        y = sample.targets.y\n",
    "\n",
    "        # get whole time interval\n",
    "        time = torch.cat((t, t_target))\n",
    "        sorted_idx = torch.argsort(time)\n",
    "\n",
    "        # pad the x-values\n",
    "        x_padding = torch.full(\n",
    "            (t_target.shape[0], x.shape[-1]), fill_value=NAN, device=x.device\n",
    "        )\n",
    "        values = torch.cat((x, x_padding))\n",
    "\n",
    "        # create a mask for looking up the target values\n",
    "        mask_y = y.isfinite()\n",
    "        mask_pad = torch.zeros_like(x, dtype=torch.bool)\n",
    "        mask_x = torch.cat((mask_pad, mask_y))\n",
    "\n",
    "        x_vals.append(values[sorted_idx])\n",
    "        x_time.append(time[sorted_idx])\n",
    "        x_mask.append(mask_x[sorted_idx])\n",
    "\n",
    "        y_time.append(t_target)\n",
    "        y_vals.append(y)\n",
    "        y_mask.append(mask_y)\n",
    "\n",
    "    return Batch(\n",
    "        x_time=pad_sequence(x_time, batch_first=True).squeeze(),\n",
    "        x_vals=pad_sequence(x_vals, batch_first=True, padding_value=NAN).squeeze(),\n",
    "        x_mask=pad_sequence(x_mask, batch_first=True).squeeze(),\n",
    "        y_time=pad_sequence(y_time, batch_first=True).squeeze(),\n",
    "        y_vals=pad_sequence(y_vals, batch_first=True, padding_value=NAN).squeeze(),\n",
    "        y_mask=pad_sequence(y_mask, batch_first=True).squeeze(),\n",
    "    )"
   ]
  },
  {
   "cell_type": "code",
   "execution_count": null,
   "metadata": {},
   "outputs": [],
   "source": []
  },
  {
   "cell_type": "code",
   "execution_count": null,
   "metadata": {},
   "outputs": [],
   "source": []
  },
  {
   "cell_type": "code",
   "execution_count": null,
   "metadata": {
    "execution": {
     "iopub.status.busy": "2022-11-14T03:09:27.998235Z",
     "iopub.status.idle": "2022-11-14T03:09:27.998379Z",
     "shell.execute_reply": "2022-11-14T03:09:27.998313Z",
     "shell.execute_reply.started": "2022-11-14T03:09:27.998306Z"
    },
    "tags": []
   },
   "outputs": [],
   "source": [
    "t = sample.inputs.x.index"
   ]
  },
  {
   "cell_type": "code",
   "execution_count": null,
   "metadata": {
    "execution": {
     "iopub.status.busy": "2022-11-14T03:09:27.998674Z",
     "iopub.status.idle": "2022-11-14T03:09:27.998811Z",
     "shell.execute_reply": "2022-11-14T03:09:27.998746Z",
     "shell.execute_reply.started": "2022-11-14T03:09:27.998740Z"
    },
    "tags": []
   },
   "outputs": [],
   "source": [
    "collate_fn(batch)"
   ]
  },
  {
   "cell_type": "code",
   "execution_count": null,
   "metadata": {},
   "outputs": [],
   "source": []
  },
  {
   "cell_type": "markdown",
   "metadata": {},
   "source": [
    "## collate_fn using encoder!"
   ]
  },
  {
   "cell_type": "code",
   "execution_count": null,
   "metadata": {},
   "outputs": [],
   "source": []
  },
  {
   "cell_type": "code",
   "execution_count": null,
   "metadata": {},
   "outputs": [],
   "source": []
  },
  {
   "cell_type": "code",
   "execution_count": null,
   "metadata": {},
   "outputs": [],
   "source": []
  }
 ],
 "metadata": {
  "kernelspec": {
   "display_name": "Python 3 (ipykernel)",
   "language": "python",
   "name": "python3"
  },
  "language_info": {
   "codemirror_mode": {
    "name": "ipython",
    "version": 3
   },
   "file_extension": ".py",
   "mimetype": "text/x-python",
   "name": "python",
   "nbconvert_exporter": "python",
   "pygments_lexer": "ipython3",
   "version": "3.10.6"
  }
 },
 "nbformat": 4,
 "nbformat_minor": 4
}
