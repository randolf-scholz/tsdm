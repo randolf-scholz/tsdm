{
 "cells": [
  {
   "cell_type": "markdown",
   "metadata": {},
   "source": [
    "# Title"
   ]
  },
  {
   "cell_type": "code",
   "execution_count": null,
   "metadata": {
    "execution": {
     "iopub.execute_input": "2022-11-14T12:48:46.388954Z",
     "iopub.status.busy": "2022-11-14T12:48:46.388668Z",
     "iopub.status.idle": "2022-11-14T12:48:46.883470Z",
     "shell.execute_reply": "2022-11-14T12:48:46.882966Z",
     "shell.execute_reply.started": "2022-11-14T12:48:46.388884Z"
    },
    "tags": []
   },
   "outputs": [],
   "source": [
    "%config InteractiveShell.ast_node_interactivity='last_expr_or_assign'\n",
    "%config InlineBackend.figure_format = 'svg'\n",
    "%load_ext autoreload\n",
    "%autoreload 2\n",
    "%matplotlib inline\n",
    "\n",
    "import logging\n",
    "from collections.abc import *\n",
    "from dataclasses import KW_ONLY, dataclass\n",
    "from typing import Any, NamedTuple\n",
    "\n",
    "import matplotlib.pyplot as plt\n",
    "import numpy as np\n",
    "import pandas as pd\n",
    "import scipy as sp\n",
    "from pandas import DataFrame, Index, MultiIndex, Series\n",
    "\n",
    "rng = np.random.default_rng()\n",
    "np.set_printoptions(precision=4, floatmode=\"fixed\", suppress=True)\n",
    "logging.basicConfig(level=logging.INFO)"
   ]
  },
  {
   "cell_type": "code",
   "execution_count": null,
   "metadata": {
    "execution": {
     "iopub.execute_input": "2022-11-14T12:48:46.884618Z",
     "iopub.status.busy": "2022-11-14T12:48:46.884450Z",
     "iopub.status.idle": "2022-11-14T12:48:48.056964Z",
     "shell.execute_reply": "2022-11-14T12:48:48.056411Z",
     "shell.execute_reply.started": "2022-11-14T12:48:46.884608Z"
    },
    "tags": []
   },
   "outputs": [],
   "source": [
    "import torch\n",
    "from sklearn.model_selection import train_test_split\n",
    "from torch import Tensor\n",
    "from torch import nan as NAN\n",
    "from torch import nn\n",
    "from torch.nn.utils.rnn import pad_sequence\n",
    "from torch.utils.data import DataLoader, Dataset\n",
    "from torch.utils.data import Sampler as TorchSampler\n",
    "\n",
    "from tsdm.datasets import KiwiDataset, TimeSeriesCollection\n",
    "from tsdm.random.samplers import HierarchicalSampler, SlidingWindowSampler\n",
    "from tsdm.tasks import TimeSeriesSampleGenerator, TimeSeriesTask\n",
    "from tsdm.tasks.base import Batch, Sample, TimeSeriesSampleGenerator, TimeSeriesTask\n",
    "from tsdm.utils.data import folds_as_frame, folds_as_sparse_frame, folds_from_groups\n",
    "from tsdm.utils.types import KeyVar"
   ]
  },
  {
   "cell_type": "code",
   "execution_count": null,
   "metadata": {
    "execution": {
     "iopub.execute_input": "2022-11-14T12:48:48.057705Z",
     "iopub.status.busy": "2022-11-14T12:48:48.057484Z",
     "iopub.status.idle": "2022-11-14T12:48:48.080715Z",
     "shell.execute_reply": "2022-11-14T12:48:48.080222Z",
     "shell.execute_reply.started": "2022-11-14T12:48:48.057693Z"
    },
    "tags": []
   },
   "outputs": [],
   "source": [
    "class KiwiSampleGenerator(TimeSeriesSampleGenerator):\n",
    "    r\"\"\"Sample generator for the KIWI dataset.\"\"\"\n",
    "\n",
    "    def __init__(self, dataset):\n",
    "        super().__init__(\n",
    "            dataset,\n",
    "            observables=[\n",
    "                \"Base\",\n",
    "                \"DOT\",\n",
    "                \"Glucose\",\n",
    "                \"OD600\",\n",
    "                \"Acetate\",\n",
    "                \"Fluo_GFP\",\n",
    "                \"Temperature\",\n",
    "                \"pH\",\n",
    "            ],\n",
    "            covariates=[\n",
    "                \"Cumulated_feed_volume_glucose\",\n",
    "                \"Cumulated_feed_volume_medium\",\n",
    "                \"InducerConcentration\",\n",
    "                \"StirringSpeed\",\n",
    "                \"Flow_Air\",\n",
    "                \"Probe_Volume\",\n",
    "            ],\n",
    "            targets=[\"OD600\", \"Fluo_GFP\"],\n",
    "        )\n",
    "\n",
    "\n",
    "class KiwiTask(TimeSeriesTask):\n",
    "    r\"\"\"Task for the KIWI dataset.\"\"\"\n",
    "    # dataset: TimeSeriesCollection = KiwiDataset()\n",
    "    observation_horizon: str = \"2h\"\n",
    "    r\"\"\"The number of datapoints observed during prediction.\"\"\"\n",
    "    forecasting_horizon: str = \"1h\"\n",
    "    r\"\"\"The number of datapoints the model should forecast.\"\"\"\n",
    "\n",
    "    def __init__(self) -> None:\n",
    "        dataset = KiwiDataset()\n",
    "        dataset.timeseries = dataset.timeseries.astype(\"float64\")\n",
    "        super().__init__(dataset=dataset)\n",
    "\n",
    "    @staticmethod\n",
    "    def default_metric(*, targets, predictions):\n",
    "        r\"\"\"TODO: implement this.\"\"\"\n",
    "\n",
    "    def default_collate(self):\n",
    "        r\"\"\"TODO: implement this.\"\"\"\n",
    "\n",
    "    # def make_encoder(self, key: KeyVar, /) -> ModularEncoder:\n",
    "    #     ...\n",
    "\n",
    "    def make_sampler(self, key: KeyVar, /) -> TorchSampler:\n",
    "        split: TimeSeriesCollection = self.splits[key]\n",
    "        subsamplers = {\n",
    "            key: SlidingWindowSampler(tsd.index, horizons=[\"2h\", \"1h\"], stride=\"1h\")\n",
    "            for key, tsd in split.items()\n",
    "        }\n",
    "        return HierarchicalSampler(split, subsamplers, shuffle=False)  # type: ignore[return-value]\n",
    "\n",
    "    def make_folds(self, /) -> DataFrame:\n",
    "        r\"\"\"Group by RunID and color which indicates replicates.\"\"\"\n",
    "        md = self.dataset.metadata\n",
    "        groups = md.groupby([\"run_id\", \"color\"], sort=False).ngroup()\n",
    "        folds = folds_from_groups(\n",
    "            groups, seed=2022, num_folds=5, train=7, valid=1, test=2\n",
    "        )\n",
    "        df = folds_as_frame(folds)\n",
    "        return folds_as_sparse_frame(df)\n",
    "\n",
    "    def make_generator(self, key: KeyVar, /) -> KiwiSampleGenerator:\n",
    "        split = self.splits[key]\n",
    "        return KiwiSampleGenerator(split)"
   ]
  },
  {
   "cell_type": "code",
   "execution_count": null,
   "metadata": {
    "execution": {
     "iopub.execute_input": "2022-11-14T12:48:48.081446Z",
     "iopub.status.busy": "2022-11-14T12:48:48.081331Z",
     "iopub.status.idle": "2022-11-14T12:48:48.982915Z",
     "shell.execute_reply": "2022-11-14T12:48:48.982521Z",
     "shell.execute_reply.started": "2022-11-14T12:48:48.081435Z"
    },
    "tags": []
   },
   "outputs": [],
   "source": [
    "task = KiwiTask()"
   ]
  },
  {
   "cell_type": "code",
   "execution_count": null,
   "metadata": {
    "execution": {
     "iopub.execute_input": "2022-11-14T12:48:48.983563Z",
     "iopub.status.busy": "2022-11-14T12:48:48.983447Z",
     "iopub.status.idle": "2022-11-14T12:48:49.007497Z",
     "shell.execute_reply": "2022-11-14T12:48:49.007060Z",
     "shell.execute_reply.started": "2022-11-14T12:48:48.983552Z"
    },
    "tags": []
   },
   "outputs": [],
   "source": [
    "task.dataset"
   ]
  },
  {
   "cell_type": "code",
   "execution_count": null,
   "metadata": {
    "execution": {
     "iopub.execute_input": "2022-11-14T12:48:49.008229Z",
     "iopub.status.busy": "2022-11-14T12:48:49.008111Z",
     "iopub.status.idle": "2022-11-14T12:48:49.852775Z",
     "shell.execute_reply": "2022-11-14T12:48:49.852193Z",
     "shell.execute_reply.started": "2022-11-14T12:48:49.008218Z"
    },
    "tags": []
   },
   "outputs": [],
   "source": [
    "dataloader = task.dataloaders[(0, \"train\")]"
   ]
  },
  {
   "cell_type": "code",
   "execution_count": null,
   "metadata": {
    "execution": {
     "iopub.execute_input": "2022-11-14T12:48:49.854416Z",
     "iopub.status.busy": "2022-11-14T12:48:49.854299Z",
     "iopub.status.idle": "2022-11-14T12:48:49.880711Z",
     "shell.execute_reply": "2022-11-14T12:48:49.880225Z",
     "shell.execute_reply.started": "2022-11-14T12:48:49.854405Z"
    },
    "tags": []
   },
   "outputs": [],
   "source": [
    "sampler = task.samplers[(0, \"train\")]"
   ]
  },
  {
   "cell_type": "code",
   "execution_count": null,
   "metadata": {
    "execution": {
     "iopub.execute_input": "2022-11-14T12:48:49.881341Z",
     "iopub.status.busy": "2022-11-14T12:48:49.881230Z",
     "iopub.status.idle": "2022-11-14T12:48:49.901830Z",
     "shell.execute_reply": "2022-11-14T12:48:49.901328Z",
     "shell.execute_reply.started": "2022-11-14T12:48:49.881328Z"
    },
    "tags": []
   },
   "outputs": [],
   "source": [
    "generator = task.generators[(0, \"train\")]"
   ]
  },
  {
   "cell_type": "code",
   "execution_count": null,
   "metadata": {
    "execution": {
     "iopub.execute_input": "2022-11-14T12:48:49.902683Z",
     "iopub.status.busy": "2022-11-14T12:48:49.902571Z",
     "iopub.status.idle": "2022-11-14T12:48:49.922754Z",
     "shell.execute_reply": "2022-11-14T12:48:49.922203Z",
     "shell.execute_reply.started": "2022-11-14T12:48:49.902673Z"
    },
    "tags": []
   },
   "outputs": [],
   "source": [
    "task.splits"
   ]
  },
  {
   "cell_type": "code",
   "execution_count": null,
   "metadata": {
    "execution": {
     "iopub.execute_input": "2022-11-14T12:48:49.923657Z",
     "iopub.status.busy": "2022-11-14T12:48:49.923541Z",
     "iopub.status.idle": "2022-11-14T12:48:50.258148Z",
     "shell.execute_reply": "2022-11-14T12:48:50.257679Z",
     "shell.execute_reply.started": "2022-11-14T12:48:49.923647Z"
    },
    "tags": []
   },
   "outputs": [],
   "source": [
    "batch = next(iter(dataloader))"
   ]
  },
  {
   "cell_type": "code",
   "execution_count": null,
   "metadata": {
    "execution": {
     "iopub.execute_input": "2022-11-14T12:48:50.258829Z",
     "iopub.status.busy": "2022-11-14T12:48:50.258717Z",
     "iopub.status.idle": "2022-11-14T12:48:50.279118Z",
     "shell.execute_reply": "2022-11-14T12:48:50.278654Z",
     "shell.execute_reply.started": "2022-11-14T12:48:50.258818Z"
    },
    "tags": []
   },
   "outputs": [],
   "source": [
    "sample = batch[0]"
   ]
  },
  {
   "cell_type": "code",
   "execution_count": null,
   "metadata": {
    "execution": {
     "iopub.execute_input": "2022-11-14T12:48:50.279785Z",
     "iopub.status.busy": "2022-11-14T12:48:50.279675Z",
     "iopub.status.idle": "2022-11-14T12:48:50.301684Z",
     "shell.execute_reply": "2022-11-14T12:48:50.300966Z",
     "shell.execute_reply.started": "2022-11-14T12:48:50.279775Z"
    },
    "tags": []
   },
   "outputs": [],
   "source": [
    "sample.inputs"
   ]
  },
  {
   "cell_type": "code",
   "execution_count": null,
   "metadata": {
    "execution": {
     "iopub.execute_input": "2022-11-14T12:48:50.302341Z",
     "iopub.status.busy": "2022-11-14T12:48:50.302226Z",
     "iopub.status.idle": "2022-11-14T12:48:50.322767Z",
     "shell.execute_reply": "2022-11-14T12:48:50.322053Z",
     "shell.execute_reply.started": "2022-11-14T12:48:50.302328Z"
    },
    "tags": []
   },
   "outputs": [],
   "source": [
    "sample.targets"
   ]
  },
  {
   "cell_type": "code",
   "execution_count": null,
   "metadata": {
    "execution": {
     "iopub.execute_input": "2022-11-14T12:48:50.323483Z",
     "iopub.status.busy": "2022-11-14T12:48:50.323373Z",
     "iopub.status.idle": "2022-11-14T12:48:50.344284Z",
     "shell.execute_reply": "2022-11-14T12:48:50.343802Z",
     "shell.execute_reply.started": "2022-11-14T12:48:50.323472Z"
    },
    "tags": []
   },
   "outputs": [],
   "source": [
    "sample.key"
   ]
  },
  {
   "cell_type": "markdown",
   "metadata": {},
   "source": [
    "# Designing Encoder for the data"
   ]
  },
  {
   "cell_type": "code",
   "execution_count": null,
   "metadata": {
    "execution": {
     "iopub.execute_input": "2022-11-14T12:48:50.345133Z",
     "iopub.status.busy": "2022-11-14T12:48:50.345018Z",
     "iopub.status.idle": "2022-11-14T12:48:50.364309Z",
     "shell.execute_reply": "2022-11-14T12:48:50.363796Z",
     "shell.execute_reply.started": "2022-11-14T12:48:50.345122Z"
    },
    "tags": []
   },
   "outputs": [],
   "source": [
    "from tsdm.encoders import *"
   ]
  },
  {
   "cell_type": "code",
   "execution_count": null,
   "metadata": {
    "execution": {
     "iopub.execute_input": "2022-11-14T12:48:50.365250Z",
     "iopub.status.busy": "2022-11-14T12:48:50.365113Z",
     "iopub.status.idle": "2022-11-14T12:48:50.395136Z",
     "shell.execute_reply": "2022-11-14T12:48:50.394655Z",
     "shell.execute_reply.started": "2022-11-14T12:48:50.365238Z"
    },
    "tags": []
   },
   "outputs": [],
   "source": [
    "t = sample.inputs.x.index\n",
    "x = sample.inputs.x\n",
    "t_target = sample.inputs.t_target\n",
    "y = sample.targets.y"
   ]
  },
  {
   "cell_type": "code",
   "execution_count": null,
   "metadata": {
    "execution": {
     "iopub.execute_input": "2022-11-14T12:48:50.395827Z",
     "iopub.status.busy": "2022-11-14T12:48:50.395714Z",
     "iopub.status.idle": "2022-11-14T12:48:50.419170Z",
     "shell.execute_reply": "2022-11-14T12:48:50.418696Z",
     "shell.execute_reply.started": "2022-11-14T12:48:50.395816Z"
    },
    "tags": []
   },
   "outputs": [],
   "source": [
    "VF = task.dataset.value_features"
   ]
  },
  {
   "cell_type": "code",
   "execution_count": null,
   "metadata": {
    "execution": {
     "iopub.execute_input": "2022-11-14T12:48:50.419931Z",
     "iopub.status.busy": "2022-11-14T12:48:50.419818Z",
     "iopub.status.idle": "2022-11-14T12:48:50.445478Z",
     "shell.execute_reply": "2022-11-14T12:48:50.444998Z",
     "shell.execute_reply.started": "2022-11-14T12:48:50.419920Z"
    },
    "tags": []
   },
   "outputs": [],
   "source": [
    "column_encoders = {}\n",
    "\n",
    "for col, scale, lower, upper in VF[[\"scale\", \"lower\", \"upper\"]].itertuples():\n",
    "    encoder = BoundaryEncoder(lower, upper, mode=\"clip\")\n",
    "    match scale:\n",
    "        case \"percent\":\n",
    "            encoder = (\n",
    "                LogitBoxCoxEncoder()\n",
    "                @ LinearScaler(lower, upper)\n",
    "                @ BoundaryEncoder(lower, upper, mode=\"clip\")\n",
    "            )\n",
    "        case \"absolute\":\n",
    "            if upper < np.inf:\n",
    "                encoder = (\n",
    "                    BoxCoxEncoder()\n",
    "                    # @ LinearScaler(lower, upper)\n",
    "                    @ BoundaryEncoder(lower, upper, mode=\"clip\")\n",
    "                )\n",
    "            else:\n",
    "                encoder = BoxCoxEncoder() @ BoundaryEncoder(lower, upper, mode=\"clip\")\n",
    "        case \"linear\":\n",
    "            encoder = IdentityEncoder()\n",
    "        case _:\n",
    "            raise ValueError(f\"{scale=} unknown\")\n",
    "    column_encoders[col] = encoder\n",
    "column_encoders"
   ]
  },
  {
   "cell_type": "markdown",
   "metadata": {},
   "source": [
    "# original data"
   ]
  },
  {
   "cell_type": "code",
   "execution_count": null,
   "metadata": {
    "execution": {
     "iopub.execute_input": "2022-11-14T12:48:50.446203Z",
     "iopub.status.busy": "2022-11-14T12:48:50.446086Z",
     "iopub.status.idle": "2022-11-14T12:48:50.474084Z",
     "shell.execute_reply": "2022-11-14T12:48:50.473510Z",
     "shell.execute_reply.started": "2022-11-14T12:48:50.446192Z"
    },
    "tags": []
   },
   "outputs": [],
   "source": [
    "%matplotlib inline\n",
    "ts = task.dataset.timeseries.copy()\n",
    "ts[\"dummy\"] = float(\"nan\")"
   ]
  },
  {
   "cell_type": "code",
   "execution_count": null,
   "metadata": {
    "execution": {
     "iopub.execute_input": "2022-11-14T12:48:50.474855Z",
     "iopub.status.busy": "2022-11-14T12:48:50.474738Z",
     "iopub.status.idle": "2022-11-14T12:48:55.870812Z",
     "shell.execute_reply": "2022-11-14T12:48:55.870284Z",
     "shell.execute_reply.started": "2022-11-14T12:48:50.474843Z"
    },
    "tags": []
   },
   "outputs": [],
   "source": [
    "fig, ax = plt.subplots(ncols=5, nrows=3, figsize=(20, 6), constrained_layout=True)\n",
    "ts.hist(ax=ax, density=True, log=True, bins=20)\n",
    "fig.savefig(\"data_original.pdf\")\n",
    "print(list(ts.columns))"
   ]
  },
  {
   "cell_type": "markdown",
   "metadata": {},
   "source": [
    "# plain standardization"
   ]
  },
  {
   "cell_type": "code",
   "execution_count": null,
   "metadata": {
    "execution": {
     "iopub.execute_input": "2022-11-14T12:48:55.872062Z",
     "iopub.status.busy": "2022-11-14T12:48:55.871878Z",
     "iopub.status.idle": "2022-11-14T12:49:00.998325Z",
     "shell.execute_reply": "2022-11-14T12:49:00.997821Z",
     "shell.execute_reply.started": "2022-11-14T12:48:55.872049Z"
    },
    "tags": []
   },
   "outputs": [],
   "source": [
    "encoder = Standardizer()\n",
    "encoder.fit(ts)\n",
    "encoded = encoder.encode(ts)\n",
    "fig, ax = plt.subplots(ncols=5, nrows=3, figsize=(20, 6), constrained_layout=True)\n",
    "encoded.hist(ax=ax, density=True, log=True, bins=20)\n",
    "fig.savefig(\"data_encoded_standardizer.pdf\")\n",
    "print(list(encoded.columns))"
   ]
  },
  {
   "cell_type": "markdown",
   "metadata": {
    "tags": []
   },
   "source": [
    "# With BoxCox"
   ]
  },
  {
   "cell_type": "code",
   "execution_count": null,
   "metadata": {
    "execution": {
     "iopub.execute_input": "2022-11-14T12:49:01.000840Z",
     "iopub.status.busy": "2022-11-14T12:49:01.000721Z",
     "iopub.status.idle": "2022-11-14T12:49:08.679563Z",
     "shell.execute_reply": "2022-11-14T12:49:08.679075Z",
     "shell.execute_reply.started": "2022-11-14T12:49:01.000830Z"
    },
    "tags": []
   },
   "outputs": [],
   "source": [
    "encoder = Standardizer() @ FrameEncoder(column_encoders)\n",
    "encoder.fit(ts)\n",
    "encoded = encoder.encode(ts)\n",
    "fig, ax = plt.subplots(ncols=5, nrows=3, figsize=(20, 6), constrained_layout=True)\n",
    "encoded.hist(ax=ax, density=True, log=True, bins=20)\n",
    "fig.savefig(\"data_encoded_box_cox.pdf\")\n",
    "print(list(encoded.columns))"
   ]
  },
  {
   "cell_type": "markdown",
   "metadata": {},
   "source": [
    "## residual error"
   ]
  },
  {
   "cell_type": "code",
   "execution_count": null,
   "metadata": {
    "execution": {
     "iopub.execute_input": "2022-11-14T12:49:08.680311Z",
     "iopub.status.busy": "2022-11-14T12:49:08.680123Z",
     "iopub.status.idle": "2022-11-14T12:49:09.031536Z",
     "shell.execute_reply": "2022-11-14T12:49:09.031019Z",
     "shell.execute_reply.started": "2022-11-14T12:49:08.680300Z"
    },
    "tags": []
   },
   "outputs": [],
   "source": [
    "decoded = encoder.decode(encoded)\n",
    "assert (encoded.isna() == ts.isna()).all().all()\n",
    "(decoded - ts).abs().mean().max()"
   ]
  },
  {
   "cell_type": "code",
   "execution_count": null,
   "metadata": {
    "execution": {
     "iopub.execute_input": "2022-11-14T12:49:09.032204Z",
     "iopub.status.busy": "2022-11-14T12:49:09.032090Z",
     "iopub.status.idle": "2022-11-14T12:49:09.054602Z",
     "shell.execute_reply": "2022-11-14T12:49:09.054148Z",
     "shell.execute_reply.started": "2022-11-14T12:49:09.032193Z"
    },
    "tags": []
   },
   "outputs": [],
   "source": [
    "enc = FrameEncoder(\n",
    "    column_encoders=column_encoders,\n",
    "    index_encoders={\n",
    "        \"run_id\": IdentityEncoder(),\n",
    "        \"exp_id\": IdentityEncoder(),\n",
    "        \"measurement_time\": MinMaxScaler() @ TimeDeltaEncoder(),\n",
    "    },\n",
    ")"
   ]
  },
  {
   "cell_type": "code",
   "execution_count": null,
   "metadata": {
    "execution": {
     "iopub.execute_input": "2022-11-14T12:49:09.055309Z",
     "iopub.status.busy": "2022-11-14T12:49:09.055192Z",
     "iopub.status.idle": "2022-11-14T12:49:10.638254Z",
     "shell.execute_reply": "2022-11-14T12:49:10.637829Z",
     "shell.execute_reply.started": "2022-11-14T12:49:09.055298Z"
    },
    "tags": []
   },
   "outputs": [],
   "source": [
    "enc.fit(ts)"
   ]
  },
  {
   "cell_type": "code",
   "execution_count": null,
   "metadata": {
    "execution": {
     "iopub.execute_input": "2022-11-14T12:49:10.638989Z",
     "iopub.status.busy": "2022-11-14T12:49:10.638868Z",
     "iopub.status.idle": "2022-11-14T12:49:11.192479Z",
     "shell.execute_reply": "2022-11-14T12:49:11.191957Z",
     "shell.execute_reply.started": "2022-11-14T12:49:10.638978Z"
    },
    "tags": []
   },
   "outputs": [],
   "source": [
    "encoded = enc.encode(ts)"
   ]
  },
  {
   "cell_type": "code",
   "execution_count": null,
   "metadata": {
    "execution": {
     "iopub.execute_input": "2022-11-14T12:49:11.193152Z",
     "iopub.status.busy": "2022-11-14T12:49:11.193040Z",
     "iopub.status.idle": "2022-11-14T12:49:11.291883Z",
     "shell.execute_reply": "2022-11-14T12:49:11.291515Z",
     "shell.execute_reply.started": "2022-11-14T12:49:11.193142Z"
    },
    "tags": []
   },
   "outputs": [],
   "source": [
    "f2t = Frame2TensorDict(\n",
    "    groups={\"key\": [\"run_id\", \"exp_id\"], \"T\": [\"measurement_time\"], \"X\": ...},\n",
    "    dtypes={\"T\": \"float32\", \"X\": \"float32\"},\n",
    "    encode_index=True,\n",
    ")\n",
    "\n",
    "f2t.fit(encoded)\n",
    "f2t.encode(encoded)"
   ]
  },
  {
   "cell_type": "markdown",
   "metadata": {},
   "source": [
    "# single_encoder"
   ]
  },
  {
   "cell_type": "code",
   "execution_count": null,
   "metadata": {
    "execution": {
     "iopub.execute_input": "2022-11-14T12:49:11.292534Z",
     "iopub.status.busy": "2022-11-14T12:49:11.292384Z",
     "iopub.status.idle": "2022-11-14T12:49:11.315003Z",
     "shell.execute_reply": "2022-11-14T12:49:11.314637Z",
     "shell.execute_reply.started": "2022-11-14T12:49:11.292521Z"
    },
    "tags": []
   },
   "outputs": [],
   "source": [
    "encoder = (\n",
    "    Frame2TensorDict(\n",
    "        groups={\"key\": [\"run_id\", \"exp_id\"], \"T\": [\"measurement_time\"], \"X\": ...},\n",
    "        dtypes={\"T\": \"float32\", \"X\": \"float32\"},\n",
    "        encode_index=True,\n",
    "    )\n",
    "    @ Standardizer()\n",
    "    @ FrameEncoder(\n",
    "        column_encoders=column_encoders,\n",
    "        index_encoders={\n",
    "            # \"run_id\": IdentityEncoder(),\n",
    "            # \"exp_id\": IdentityEncoder(),\n",
    "            \"measurement_time\": MinMaxScaler()\n",
    "            @ TimeDeltaEncoder(),\n",
    "        },\n",
    "    )\n",
    ")"
   ]
  },
  {
   "cell_type": "code",
   "execution_count": null,
   "metadata": {
    "execution": {
     "iopub.execute_input": "2022-11-14T12:49:11.315604Z",
     "iopub.status.busy": "2022-11-14T12:49:11.315491Z",
     "iopub.status.idle": "2022-11-14T12:49:14.076292Z",
     "shell.execute_reply": "2022-11-14T12:49:14.075939Z",
     "shell.execute_reply.started": "2022-11-14T12:49:11.315593Z"
    },
    "tags": []
   },
   "outputs": [],
   "source": [
    "ts = task.dataset.timeseries\n",
    "encoder.fit(ts)\n",
    "encoded = encoder.encode(ts)"
   ]
  },
  {
   "cell_type": "code",
   "execution_count": null,
   "metadata": {
    "execution": {
     "iopub.execute_input": "2022-11-14T12:49:14.076886Z",
     "iopub.status.busy": "2022-11-14T12:49:14.076767Z",
     "iopub.status.idle": "2022-11-14T12:49:25.963882Z",
     "shell.execute_reply": "2022-11-14T12:49:25.963497Z",
     "shell.execute_reply.started": "2022-11-14T12:49:14.076873Z"
    },
    "tags": []
   },
   "outputs": [],
   "source": [
    "decoded = encoder.decode(encoded)\n",
    "MAD = (decoded - ts).abs().mean().mean()"
   ]
  },
  {
   "cell_type": "markdown",
   "metadata": {},
   "source": [
    "## Applying to slice"
   ]
  },
  {
   "cell_type": "code",
   "execution_count": null,
   "metadata": {
    "execution": {
     "iopub.execute_input": "2022-11-14T12:51:23.142544Z",
     "iopub.status.busy": "2022-11-14T12:51:23.142198Z",
     "iopub.status.idle": "2022-11-14T12:51:23.188020Z",
     "shell.execute_reply": "2022-11-14T12:51:23.187713Z",
     "shell.execute_reply.started": "2022-11-14T12:51:23.142531Z"
    },
    "tags": []
   },
   "outputs": [],
   "source": [
    "encoded = encoder.encode(sample.inputs.x)"
   ]
  },
  {
   "cell_type": "code",
   "execution_count": null,
   "metadata": {
    "execution": {
     "iopub.execute_input": "2022-11-14T12:51:25.959524Z",
     "iopub.status.busy": "2022-11-14T12:51:25.959115Z",
     "iopub.status.idle": "2022-11-14T12:51:26.045373Z",
     "shell.execute_reply": "2022-11-14T12:51:26.044943Z",
     "shell.execute_reply.started": "2022-11-14T12:51:25.959501Z"
    },
    "tags": []
   },
   "outputs": [],
   "source": [
    "decoded = encoder.decode(encoded)\n",
    "assert (decoded.isna() == sample.inputs.x.isna()).all().all()\n",
    "MAD = (decoded - sample.inputs.x).abs().mean().mean()"
   ]
  },
  {
   "cell_type": "markdown",
   "metadata": {},
   "source": [
    "## Decoding Random Data Satisfies Bounds"
   ]
  },
  {
   "cell_type": "code",
   "execution_count": null,
   "metadata": {
    "execution": {
     "iopub.execute_input": "2022-11-14T12:51:31.776360Z",
     "iopub.status.busy": "2022-11-14T12:51:31.775910Z",
     "iopub.status.idle": "2022-11-14T12:51:31.809381Z",
     "shell.execute_reply": "2022-11-14T12:51:31.808745Z",
     "shell.execute_reply.started": "2022-11-14T12:51:31.776336Z"
    },
    "tags": []
   },
   "outputs": [],
   "source": [
    "rng_data = torch.randn_like(encoded[\"X\"])\n",
    "encoded[\"X\"] = 10 * rng_data  # large std. dev. to ensure that the bounds are violated"
   ]
  },
  {
   "cell_type": "code",
   "execution_count": null,
   "metadata": {
    "execution": {
     "iopub.execute_input": "2022-11-14T12:51:32.917100Z",
     "iopub.status.busy": "2022-11-14T12:51:32.916419Z",
     "iopub.status.idle": "2022-11-14T12:51:33.002793Z",
     "shell.execute_reply": "2022-11-14T12:51:33.002194Z",
     "shell.execute_reply.started": "2022-11-14T12:51:32.917067Z"
    },
    "tags": []
   },
   "outputs": [],
   "source": [
    "decoded = encoder.decode(encoded)\n",
    "pd.concat([decoded.min(), decoded.max()], axis=1)"
   ]
  },
  {
   "cell_type": "markdown",
   "metadata": {},
   "source": [
    "# Collate_fn"
   ]
  },
  {
   "cell_type": "markdown",
   "metadata": {
    "tags": []
   },
   "source": [
    "## collate_fn with encoder"
   ]
  },
  {
   "cell_type": "code",
   "execution_count": null,
   "metadata": {
    "execution": {
     "iopub.execute_input": "2022-11-14T12:57:37.021640Z",
     "iopub.status.busy": "2022-11-14T12:57:37.020994Z",
     "iopub.status.idle": "2022-11-14T12:57:37.050426Z",
     "shell.execute_reply": "2022-11-14T12:57:37.050008Z",
     "shell.execute_reply.started": "2022-11-14T12:57:37.021613Z"
    }
   },
   "outputs": [],
   "source": [
    "bounds = pd.concat([decoded.min(), decoded.max()], axis=1, keys=[\"lower\", \"upper\"])"
   ]
  },
  {
   "cell_type": "code",
   "execution_count": null,
   "metadata": {
    "execution": {
     "iopub.status.busy": "2022-11-14T12:49:26.201310Z",
     "iopub.status.idle": "2022-11-14T12:49:26.201456Z",
     "shell.execute_reply": "2022-11-14T12:49:26.201386Z",
     "shell.execute_reply.started": "2022-11-14T12:49:26.201379Z"
    },
    "tags": []
   },
   "outputs": [],
   "source": [
    "TX, X = encoder.encode(sample.inputs.x).values()\n",
    "TY, Y = encoder.encode(sample.targets.y).values()"
   ]
  },
  {
   "cell_type": "code",
   "execution_count": null,
   "metadata": {
    "execution": {
     "iopub.status.busy": "2022-11-14T12:49:26.201925Z",
     "iopub.status.idle": "2022-11-14T12:49:26.202066Z",
     "shell.execute_reply": "2022-11-14T12:49:26.202000Z",
     "shell.execute_reply.started": "2022-11-14T12:49:26.201993Z"
    },
    "tags": []
   },
   "outputs": [],
   "source": [
    "assert sample.inputs.x.isna().sum().sum() == X.isnan().sum()\n",
    "assert sample.targets.y.isna().sum().sum() == Y.isnan().sum()"
   ]
  },
  {
   "cell_type": "code",
   "execution_count": null,
   "metadata": {
    "execution": {
     "iopub.status.busy": "2022-11-14T12:49:26.202440Z",
     "iopub.status.idle": "2022-11-14T12:49:26.202579Z",
     "shell.execute_reply": "2022-11-14T12:49:26.202513Z",
     "shell.execute_reply.started": "2022-11-14T12:49:26.202506Z"
    }
   },
   "outputs": [],
   "source": [
    "# now collate it!\n",
    "x_vals = []\n",
    "y_vals = []\n",
    "for sample in batch:\n",
    "    TX, X = encoder.encode(sample.inputs.x).values()\n",
    "    TY, Y = encoder.encode(sample.targets.y).values()\n",
    "    x_vals.append(X)\n",
    "    y_vals.append(Y)"
   ]
  },
  {
   "cell_type": "code",
   "execution_count": null,
   "metadata": {
    "execution": {
     "iopub.status.busy": "2022-11-14T12:49:26.202923Z",
     "iopub.status.idle": "2022-11-14T12:49:26.203060Z",
     "shell.execute_reply": "2022-11-14T12:49:26.202995Z",
     "shell.execute_reply.started": "2022-11-14T12:49:26.202988Z"
    }
   },
   "outputs": [],
   "source": [
    "Batch"
   ]
  },
  {
   "cell_type": "code",
   "execution_count": null,
   "metadata": {
    "execution": {
     "iopub.status.busy": "2022-11-14T12:49:26.203473Z",
     "iopub.status.idle": "2022-11-14T12:49:26.203613Z",
     "shell.execute_reply": "2022-11-14T12:49:26.203547Z",
     "shell.execute_reply.started": "2022-11-14T12:49:26.203540Z"
    },
    "tags": []
   },
   "outputs": [],
   "source": [
    "class Batch(NamedTuple):\n",
    "    r\"\"\"A single sample of the data.\"\"\"\n",
    "\n",
    "    x_time: Tensor  # B×N:   the input timestamps.\n",
    "    x_vals: Tensor  # B×N×D: the input values.\n",
    "    x_mask: Tensor  # B×N×D: the input mask.\n",
    "\n",
    "    y_time: Tensor  # B×K:   the target timestamps.\n",
    "    y_vals: Tensor  # B×K×D: the target values.\n",
    "    y_mask: Tensor  # B×K×D: teh target mask.\n",
    "\n",
    "    # def __repr__(self) -> str:\n",
    "    #     return repr_namedtuple(self)"
   ]
  },
  {
   "cell_type": "code",
   "execution_count": null,
   "metadata": {
    "execution": {
     "iopub.status.busy": "2022-11-14T12:49:26.204340Z",
     "iopub.status.idle": "2022-11-14T12:49:26.204496Z",
     "shell.execute_reply": "2022-11-14T12:49:26.204422Z",
     "shell.execute_reply.started": "2022-11-14T12:49:26.204414Z"
    },
    "tags": []
   },
   "outputs": [],
   "source": [
    "x_vals: list[Tensor] = []\n",
    "y_vals: list[Tensor] = []\n",
    "x_time: list[Tensor] = []\n",
    "y_time: list[Tensor] = []\n",
    "x_mask: list[Tensor] = []\n",
    "y_mask: list[Tensor] = []\n",
    "\n",
    "for sample in batch:\n",
    "    tx, x = encoder.encode(sample.inputs.x).values()\n",
    "    ty, y = encoder.encode(sample.targets.y).values()\n",
    "    # create a mask for looking up the target values\n",
    "    x_time.append(tx)\n",
    "    x_vals.append(x)\n",
    "    x_mask.append(x.isfinite())\n",
    "\n",
    "    # y_time.append(t_target)\n",
    "    y_vals.append(y)\n",
    "    y_mask.append(y.isfinite())\n",
    "\n",
    "Batch(\n",
    "    x_time=pad_sequence(x_time, batch_first=True).squeeze(),\n",
    "    x_vals=pad_sequence(x_vals, batch_first=True, padding_value=NAN).squeeze(),\n",
    "    x_mask=pad_sequence(x_mask, batch_first=True).squeeze(),\n",
    "    y_time=None,\n",
    "    y_vals=pad_sequence(y_vals, batch_first=True, padding_value=NAN).squeeze(),\n",
    "    y_mask=pad_sequence(y_mask, batch_first=True).squeeze(),\n",
    ")"
   ]
  },
  {
   "cell_type": "code",
   "execution_count": null,
   "metadata": {
    "execution": {
     "iopub.status.busy": "2022-11-14T12:49:26.204990Z",
     "iopub.status.idle": "2022-11-14T12:49:26.205136Z",
     "shell.execute_reply": "2022-11-14T12:49:26.205067Z",
     "shell.execute_reply.started": "2022-11-14T12:49:26.205060Z"
    },
    "tags": []
   },
   "outputs": [],
   "source": [
    "def collate_fn(batch: list[Sample]) -> Batch:\n",
    "    r\"\"\"Collate tensors into batch.\n",
    "\n",
    "    Transform the data slightly: t, x, t_target → T, X where X[t_target:] = NAN\n",
    "    \"\"\"\n",
    "    x_vals: list[Tensor] = []\n",
    "    y_vals: list[Tensor] = []\n",
    "    x_time: list[Tensor] = []\n",
    "    y_time: list[Tensor] = []\n",
    "    x_mask: list[Tensor] = []\n",
    "    y_mask: list[Tensor] = []\n",
    "\n",
    "    for sample in batch:\n",
    "        t = sample.inputs.x.index\n",
    "        x = sample.inputs.x.values\n",
    "        t_target = sample.inputs.t_target\n",
    "        y = sample.targets.y\n",
    "\n",
    "        # get whole time interval\n",
    "        time = torch.cat((t, t_target))\n",
    "        sorted_idx = torch.argsort(time)\n",
    "\n",
    "        # pad the x-values\n",
    "        x_padding = torch.full(\n",
    "            (t_target.shape[0], x.shape[-1]), fill_value=NAN, device=x.device\n",
    "        )\n",
    "        values = torch.cat((x, x_padding))\n",
    "\n",
    "        # create a mask for looking up the target values\n",
    "        mask_y = y.isfinite()\n",
    "        mask_pad = torch.zeros_like(x, dtype=torch.bool)\n",
    "        mask_x = torch.cat((mask_pad, mask_y))\n",
    "\n",
    "        x_vals.append(values[sorted_idx])\n",
    "        x_time.append(time[sorted_idx])\n",
    "        x_mask.append(mask_x[sorted_idx])\n",
    "\n",
    "        y_time.append(t_target)\n",
    "        y_vals.append(y)\n",
    "        y_mask.append(mask_y)\n",
    "\n",
    "    return Batch(\n",
    "        x_time=pad_sequence(x_time, batch_first=True).squeeze(),\n",
    "        x_vals=pad_sequence(x_vals, batch_first=True, padding_value=NAN).squeeze(),\n",
    "        x_mask=pad_sequence(x_mask, batch_first=True).squeeze(),\n",
    "        y_time=pad_sequence(y_time, batch_first=True).squeeze(),\n",
    "        y_vals=pad_sequence(y_vals, batch_first=True, padding_value=NAN).squeeze(),\n",
    "        y_mask=pad_sequence(y_mask, batch_first=True).squeeze(),\n",
    "    )"
   ]
  },
  {
   "cell_type": "code",
   "execution_count": null,
   "metadata": {},
   "outputs": [],
   "source": []
  },
  {
   "cell_type": "code",
   "execution_count": null,
   "metadata": {},
   "outputs": [],
   "source": []
  },
  {
   "cell_type": "code",
   "execution_count": null,
   "metadata": {
    "execution": {
     "iopub.status.busy": "2022-11-14T12:49:26.205538Z",
     "iopub.status.idle": "2022-11-14T12:49:26.205680Z",
     "shell.execute_reply": "2022-11-14T12:49:26.205614Z",
     "shell.execute_reply.started": "2022-11-14T12:49:26.205606Z"
    },
    "tags": []
   },
   "outputs": [],
   "source": [
    "t = sample.inputs.x.index"
   ]
  },
  {
   "cell_type": "code",
   "execution_count": null,
   "metadata": {
    "execution": {
     "iopub.status.busy": "2022-11-14T12:49:26.206032Z",
     "iopub.status.idle": "2022-11-14T12:49:26.206175Z",
     "shell.execute_reply": "2022-11-14T12:49:26.206105Z",
     "shell.execute_reply.started": "2022-11-14T12:49:26.206099Z"
    },
    "tags": []
   },
   "outputs": [],
   "source": [
    "collate_fn(batch)"
   ]
  },
  {
   "cell_type": "code",
   "execution_count": null,
   "metadata": {},
   "outputs": [],
   "source": []
  },
  {
   "cell_type": "markdown",
   "metadata": {},
   "source": [
    "## collate_fn using encoder!"
   ]
  },
  {
   "cell_type": "code",
   "execution_count": null,
   "metadata": {},
   "outputs": [],
   "source": []
  },
  {
   "cell_type": "code",
   "execution_count": null,
   "metadata": {},
   "outputs": [],
   "source": []
  },
  {
   "cell_type": "code",
   "execution_count": null,
   "metadata": {},
   "outputs": [],
   "source": []
  }
 ],
 "metadata": {
  "kernelspec": {
   "display_name": "Python 3 (ipykernel)",
   "language": "python",
   "name": "python3"
  },
  "language_info": {
   "codemirror_mode": {
    "name": "ipython",
    "version": 3
   },
   "file_extension": ".py",
   "mimetype": "text/x-python",
   "name": "python",
   "nbconvert_exporter": "python",
   "pygments_lexer": "ipython3",
   "version": "3.10.6"
  }
 },
 "nbformat": 4,
 "nbformat_minor": 4
}
