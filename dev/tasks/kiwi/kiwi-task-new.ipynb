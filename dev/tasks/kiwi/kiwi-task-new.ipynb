{
 "cells": [
  {
   "cell_type": "markdown",
   "metadata": {},
   "source": [
    "# Title"
   ]
  },
  {
   "cell_type": "code",
   "execution_count": null,
   "metadata": {
    "execution": {
     "iopub.execute_input": "2022-11-13T23:05:48.931150Z",
     "iopub.status.busy": "2022-11-13T23:05:48.931033Z",
     "iopub.status.idle": "2022-11-13T23:05:49.417813Z",
     "shell.execute_reply": "2022-11-13T23:05:49.417315Z",
     "shell.execute_reply.started": "2022-11-13T23:05:48.931119Z"
    },
    "tags": []
   },
   "outputs": [],
   "source": [
    "%config InteractiveShell.ast_node_interactivity='last_expr_or_assign'\n",
    "%config InlineBackend.figure_format = 'svg'\n",
    "%load_ext autoreload\n",
    "%autoreload 2\n",
    "%matplotlib inline\n",
    "\n",
    "import logging\n",
    "from collections.abc import *\n",
    "from dataclasses import KW_ONLY, dataclass\n",
    "from typing import Any, NamedTuple\n",
    "\n",
    "import matplotlib.pyplot as plt\n",
    "import numpy as np\n",
    "import pandas as pd\n",
    "import scipy as sp\n",
    "from pandas import DataFrame, Index, MultiIndex, Series\n",
    "\n",
    "rng = np.random.default_rng()\n",
    "np.set_printoptions(precision=4, floatmode=\"fixed\", suppress=True)\n",
    "logging.basicConfig(level=logging.INFO)"
   ]
  },
  {
   "cell_type": "code",
   "execution_count": null,
   "metadata": {
    "execution": {
     "iopub.execute_input": "2022-11-13T23:05:49.418971Z",
     "iopub.status.busy": "2022-11-13T23:05:49.418797Z",
     "iopub.status.idle": "2022-11-13T23:05:50.627399Z",
     "shell.execute_reply": "2022-11-13T23:05:50.626996Z",
     "shell.execute_reply.started": "2022-11-13T23:05:49.418959Z"
    },
    "tags": []
   },
   "outputs": [],
   "source": [
    "import torch\n",
    "from sklearn.model_selection import train_test_split\n",
    "from torch import Tensor\n",
    "from torch import nan as NAN\n",
    "from torch import nn\n",
    "from torch.nn.utils.rnn import pad_sequence\n",
    "from torch.utils.data import DataLoader, Dataset\n",
    "from torch.utils.data import Sampler as TorchSampler\n",
    "\n",
    "from tsdm.datasets import KiwiDataset, TimeSeriesCollection\n",
    "from tsdm.random.samplers import HierarchicalSampler, SlidingWindowSampler\n",
    "from tsdm.tasks import TimeSeriesSampleGenerator, TimeSeriesTask\n",
    "from tsdm.tasks.base import Batch, Sample, TimeSeriesSampleGenerator, TimeSeriesTask\n",
    "from tsdm.utils.data import folds_as_frame, folds_as_sparse_frame, folds_from_groups\n",
    "from tsdm.utils.types import KeyVar"
   ]
  },
  {
   "cell_type": "code",
   "execution_count": null,
   "metadata": {
    "execution": {
     "iopub.execute_input": "2022-11-13T23:05:50.628158Z",
     "iopub.status.busy": "2022-11-13T23:05:50.627933Z",
     "iopub.status.idle": "2022-11-13T23:05:50.651373Z",
     "shell.execute_reply": "2022-11-13T23:05:50.650852Z",
     "shell.execute_reply.started": "2022-11-13T23:05:50.628147Z"
    },
    "tags": []
   },
   "outputs": [],
   "source": [
    "class KiwiSampleGenerator(TimeSeriesSampleGenerator):\n",
    "    r\"\"\"Sample generator for the KIWI dataset.\"\"\"\n",
    "\n",
    "    def __init__(self, dataset):\n",
    "        super().__init__(\n",
    "            dataset,\n",
    "            observables=[\n",
    "                \"Base\",\n",
    "                \"DOT\",\n",
    "                \"Glucose\",\n",
    "                \"OD600\",\n",
    "                \"Acetate\",\n",
    "                \"Fluo_GFP\",\n",
    "                \"pH\",\n",
    "            ],\n",
    "            covariates=[\n",
    "                \"Cumulated_feed_volume_glucose\",\n",
    "                \"Cumulated_feed_volume_medium\",\n",
    "                \"InducerConcentration\",\n",
    "                \"StirringSpeed\",\n",
    "                \"Flow_Air\",\n",
    "                \"Temperature\",\n",
    "                \"Probe_Volume\",\n",
    "            ],\n",
    "            targets=[\"Fluo_GFP\"],\n",
    "        )\n",
    "\n",
    "\n",
    "class KiwiTask(TimeSeriesTask):\n",
    "    r\"\"\"Task for the KIWI dataset.\"\"\"\n",
    "    # dataset: TimeSeriesCollection = KiwiDataset()\n",
    "    observation_horizon: str = \"2h\"\n",
    "    r\"\"\"The number of datapoints observed during prediction.\"\"\"\n",
    "    forecasting_horizon: str = \"1h'\"\n",
    "    r\"\"\"The number of datapoints the model should forecast.\"\"\"\n",
    "\n",
    "    def __init__(self) -> None:\n",
    "        dataset = KiwiDataset()\n",
    "        dataset.timeseries = dataset.timeseries.astype(\"float32\")\n",
    "        super().__init__(dataset=dataset)\n",
    "\n",
    "    @staticmethod\n",
    "    def default_metric(*, targets, predictions):\n",
    "        r\"\"\"TODO: implement this.\"\"\"\n",
    "\n",
    "    def default_collate(self):\n",
    "        r\"\"\"TODO: implement this.\"\"\"\n",
    "\n",
    "    # def make_encoder(self, key: KeyVar, /) -> ModularEncoder:\n",
    "    #     ...\n",
    "\n",
    "    def make_sampler(self, key: KeyVar, /) -> TorchSampler:\n",
    "        split: TimeSeriesCollection = self.splits[key]\n",
    "        subsamplers = {\n",
    "            key: SlidingWindowSampler(tsd.index, horizons=[\"2h\", \"1h\"], stride=\"1h\")\n",
    "            for key, tsd in split.items()\n",
    "        }\n",
    "        return HierarchicalSampler(split, subsamplers, shuffle=False)  # type: ignore[return-value]\n",
    "\n",
    "    def make_folds(self, /) -> DataFrame:\n",
    "        r\"\"\"Group by RunID and color which indicates replicates.\"\"\"\n",
    "        md = self.dataset.metadata\n",
    "        groups = md.groupby([\"run_id\", \"color\"], sort=False).ngroup()\n",
    "        folds = folds_from_groups(\n",
    "            groups, seed=2022, num_folds=5, train=7, valid=1, test=2\n",
    "        )\n",
    "        df = folds_as_frame(folds)\n",
    "        return folds_as_sparse_frame(df)\n",
    "\n",
    "    def make_generator(self, key: KeyVar, /) -> KiwiSampleGenerator:\n",
    "        split = self.splits[key]\n",
    "        return KiwiSampleGenerator(split)"
   ]
  },
  {
   "cell_type": "code",
   "execution_count": null,
   "metadata": {
    "execution": {
     "iopub.execute_input": "2022-11-13T23:05:50.652103Z",
     "iopub.status.busy": "2022-11-13T23:05:50.651988Z",
     "iopub.status.idle": "2022-11-13T23:05:51.529142Z",
     "shell.execute_reply": "2022-11-13T23:05:51.528740Z",
     "shell.execute_reply.started": "2022-11-13T23:05:50.652092Z"
    },
    "tags": []
   },
   "outputs": [],
   "source": [
    "task = KiwiTask()"
   ]
  },
  {
   "cell_type": "code",
   "execution_count": null,
   "metadata": {
    "execution": {
     "iopub.execute_input": "2022-11-13T23:05:51.529709Z",
     "iopub.status.busy": "2022-11-13T23:05:51.529599Z",
     "iopub.status.idle": "2022-11-13T23:05:51.550148Z",
     "shell.execute_reply": "2022-11-13T23:05:51.549787Z",
     "shell.execute_reply.started": "2022-11-13T23:05:51.529697Z"
    }
   },
   "outputs": [],
   "source": [
    "task.dataset"
   ]
  },
  {
   "cell_type": "code",
   "execution_count": null,
   "metadata": {
    "execution": {
     "iopub.execute_input": "2022-11-13T23:05:51.550730Z",
     "iopub.status.busy": "2022-11-13T23:05:51.550620Z",
     "iopub.status.idle": "2022-11-13T23:05:52.359720Z",
     "shell.execute_reply": "2022-11-13T23:05:52.359355Z",
     "shell.execute_reply.started": "2022-11-13T23:05:51.550719Z"
    },
    "tags": []
   },
   "outputs": [],
   "source": [
    "dataloader = task.dataloaders[(0, \"train\")]"
   ]
  },
  {
   "cell_type": "code",
   "execution_count": null,
   "metadata": {
    "execution": {
     "iopub.execute_input": "2022-11-13T23:05:52.361089Z",
     "iopub.status.busy": "2022-11-13T23:05:52.360941Z",
     "iopub.status.idle": "2022-11-13T23:05:52.387793Z",
     "shell.execute_reply": "2022-11-13T23:05:52.387333Z",
     "shell.execute_reply.started": "2022-11-13T23:05:52.361077Z"
    },
    "tags": []
   },
   "outputs": [],
   "source": [
    "sampler = task.samplers[(0, \"train\")]"
   ]
  },
  {
   "cell_type": "code",
   "execution_count": null,
   "metadata": {
    "execution": {
     "iopub.execute_input": "2022-11-13T23:05:52.388389Z",
     "iopub.status.busy": "2022-11-13T23:05:52.388278Z",
     "iopub.status.idle": "2022-11-13T23:05:52.408538Z",
     "shell.execute_reply": "2022-11-13T23:05:52.408010Z",
     "shell.execute_reply.started": "2022-11-13T23:05:52.388377Z"
    },
    "tags": []
   },
   "outputs": [],
   "source": [
    "generator = task.generators[(0, \"train\")]"
   ]
  },
  {
   "cell_type": "code",
   "execution_count": null,
   "metadata": {
    "execution": {
     "iopub.execute_input": "2022-11-13T23:05:52.409332Z",
     "iopub.status.busy": "2022-11-13T23:05:52.409219Z",
     "iopub.status.idle": "2022-11-13T23:05:52.428868Z",
     "shell.execute_reply": "2022-11-13T23:05:52.428438Z",
     "shell.execute_reply.started": "2022-11-13T23:05:52.409321Z"
    },
    "tags": []
   },
   "outputs": [],
   "source": [
    "task.splits"
   ]
  },
  {
   "cell_type": "code",
   "execution_count": null,
   "metadata": {
    "execution": {
     "iopub.execute_input": "2022-11-13T23:06:06.193241Z",
     "iopub.status.busy": "2022-11-13T23:06:06.192647Z",
     "iopub.status.idle": "2022-11-13T23:06:06.531348Z",
     "shell.execute_reply": "2022-11-13T23:06:06.530972Z",
     "shell.execute_reply.started": "2022-11-13T23:06:06.193216Z"
    },
    "tags": []
   },
   "outputs": [],
   "source": [
    "batch = next(iter(dataloader))"
   ]
  },
  {
   "cell_type": "code",
   "execution_count": null,
   "metadata": {
    "execution": {
     "iopub.execute_input": "2022-11-13T23:06:06.532134Z",
     "iopub.status.busy": "2022-11-13T23:06:06.532019Z",
     "iopub.status.idle": "2022-11-13T23:06:06.552999Z",
     "shell.execute_reply": "2022-11-13T23:06:06.552571Z",
     "shell.execute_reply.started": "2022-11-13T23:06:06.532123Z"
    }
   },
   "outputs": [],
   "source": [
    "sample = batch[0]"
   ]
  },
  {
   "cell_type": "code",
   "execution_count": null,
   "metadata": {
    "execution": {
     "iopub.execute_input": "2022-11-13T23:06:14.810540Z",
     "iopub.status.busy": "2022-11-13T23:06:14.809966Z",
     "iopub.status.idle": "2022-11-13T23:06:14.831249Z",
     "shell.execute_reply": "2022-11-13T23:06:14.830753Z",
     "shell.execute_reply.started": "2022-11-13T23:06:14.810525Z"
    },
    "tags": []
   },
   "outputs": [],
   "source": [
    "sample.inputs"
   ]
  },
  {
   "cell_type": "code",
   "execution_count": null,
   "metadata": {
    "execution": {
     "iopub.execute_input": "2022-11-13T23:06:15.060154Z",
     "iopub.status.busy": "2022-11-13T23:06:15.059978Z",
     "iopub.status.idle": "2022-11-13T23:06:15.079798Z",
     "shell.execute_reply": "2022-11-13T23:06:15.079450Z",
     "shell.execute_reply.started": "2022-11-13T23:06:15.060142Z"
    },
    "tags": []
   },
   "outputs": [],
   "source": [
    "sample.targets"
   ]
  },
  {
   "cell_type": "code",
   "execution_count": null,
   "metadata": {
    "execution": {
     "iopub.execute_input": "2022-11-13T23:06:15.396992Z",
     "iopub.status.busy": "2022-11-13T23:06:15.396813Z",
     "iopub.status.idle": "2022-11-13T23:06:15.419170Z",
     "shell.execute_reply": "2022-11-13T23:06:15.418765Z",
     "shell.execute_reply.started": "2022-11-13T23:06:15.396974Z"
    },
    "tags": []
   },
   "outputs": [],
   "source": [
    "sample.key"
   ]
  },
  {
   "cell_type": "markdown",
   "metadata": {},
   "source": [
    "# Designing Encoder for the data"
   ]
  },
  {
   "cell_type": "code",
   "execution_count": null,
   "metadata": {
    "execution": {
     "iopub.execute_input": "2022-11-13T23:07:11.886125Z",
     "iopub.status.busy": "2022-11-13T23:07:11.885586Z",
     "iopub.status.idle": "2022-11-13T23:07:11.931117Z",
     "shell.execute_reply": "2022-11-13T23:07:11.930465Z",
     "shell.execute_reply.started": "2022-11-13T23:07:11.886100Z"
    },
    "tags": []
   },
   "outputs": [],
   "source": [
    "t = sample.inputs.x.index\n",
    "x = sample.inputs.x\n",
    "t_target = sample.inputs.t_target\n",
    "y = sample.targets.y"
   ]
  },
  {
   "cell_type": "code",
   "execution_count": null,
   "metadata": {
    "execution": {
     "iopub.execute_input": "2022-11-13T23:07:12.222357Z",
     "iopub.status.busy": "2022-11-13T23:07:12.221977Z",
     "iopub.status.idle": "2022-11-13T23:07:12.269066Z",
     "shell.execute_reply": "2022-11-13T23:07:12.268386Z",
     "shell.execute_reply.started": "2022-11-13T23:07:12.222329Z"
    },
    "tags": []
   },
   "outputs": [],
   "source": [
    "x"
   ]
  },
  {
   "cell_type": "code",
   "execution_count": null,
   "metadata": {
    "execution": {
     "iopub.execute_input": "2022-11-13T23:12:55.177334Z",
     "iopub.status.busy": "2022-11-13T23:12:55.177009Z",
     "iopub.status.idle": "2022-11-13T23:12:55.197046Z",
     "shell.execute_reply": "2022-11-13T23:12:55.196675Z",
     "shell.execute_reply.started": "2022-11-13T23:12:55.177320Z"
    }
   },
   "outputs": [],
   "source": [
    "task.forecasting_horizon"
   ]
  },
  {
   "cell_type": "code",
   "execution_count": null,
   "metadata": {},
   "outputs": [],
   "source": []
  },
  {
   "cell_type": "markdown",
   "metadata": {
    "tags": []
   },
   "source": [
    "## collate_fn without encoder"
   ]
  },
  {
   "cell_type": "code",
   "execution_count": null,
   "metadata": {
    "execution": {
     "iopub.execute_input": "2022-11-13T23:06:16.114781Z",
     "iopub.status.busy": "2022-11-13T23:06:16.114604Z",
     "iopub.status.idle": "2022-11-13T23:06:16.136380Z",
     "shell.execute_reply": "2022-11-13T23:06:16.135991Z",
     "shell.execute_reply.started": "2022-11-13T23:06:16.114769Z"
    },
    "tags": []
   },
   "outputs": [],
   "source": [
    "def collate_fn(batch: list[Sample]) -> Batch:\n",
    "    r\"\"\"Collate tensors into batch.\n",
    "\n",
    "    Transform the data slightly: t, x, t_target → T, X where X[t_target:] = NAN\n",
    "    \"\"\"\n",
    "    x_vals: list[Tensor] = []\n",
    "    y_vals: list[Tensor] = []\n",
    "    x_time: list[Tensor] = []\n",
    "    y_time: list[Tensor] = []\n",
    "    x_mask: list[Tensor] = []\n",
    "    y_mask: list[Tensor] = []\n",
    "\n",
    "    for sample in batch:\n",
    "        t = sample.inputs.x.index\n",
    "        x = sample.inputs.x.values\n",
    "        t_target = sample.inputs.t_target\n",
    "        y = sample.targets.y\n",
    "\n",
    "        # get whole time interval\n",
    "        time = torch.cat((t, t_target))\n",
    "        sorted_idx = torch.argsort(time)\n",
    "\n",
    "        # pad the x-values\n",
    "        x_padding = torch.full(\n",
    "            (t_target.shape[0], x.shape[-1]), fill_value=NAN, device=x.device\n",
    "        )\n",
    "        values = torch.cat((x, x_padding))\n",
    "\n",
    "        # create a mask for looking up the target values\n",
    "        mask_y = y.isfinite()\n",
    "        mask_pad = torch.zeros_like(x, dtype=torch.bool)\n",
    "        mask_x = torch.cat((mask_pad, mask_y))\n",
    "\n",
    "        x_vals.append(values[sorted_idx])\n",
    "        x_time.append(time[sorted_idx])\n",
    "        x_mask.append(mask_x[sorted_idx])\n",
    "\n",
    "        y_time.append(t_target)\n",
    "        y_vals.append(y)\n",
    "        y_mask.append(mask_y)\n",
    "\n",
    "    return Batch(\n",
    "        x_time=pad_sequence(x_time, batch_first=True).squeeze(),\n",
    "        x_vals=pad_sequence(x_vals, batch_first=True, padding_value=NAN).squeeze(),\n",
    "        x_mask=pad_sequence(x_mask, batch_first=True).squeeze(),\n",
    "        y_time=pad_sequence(y_time, batch_first=True).squeeze(),\n",
    "        y_vals=pad_sequence(y_vals, batch_first=True, padding_value=NAN).squeeze(),\n",
    "        y_mask=pad_sequence(y_mask, batch_first=True).squeeze(),\n",
    "    )"
   ]
  },
  {
   "cell_type": "code",
   "execution_count": null,
   "metadata": {},
   "outputs": [],
   "source": []
  },
  {
   "cell_type": "code",
   "execution_count": null,
   "metadata": {},
   "outputs": [],
   "source": []
  },
  {
   "cell_type": "code",
   "execution_count": null,
   "metadata": {
    "execution": {
     "iopub.execute_input": "2022-11-13T23:06:24.899495Z",
     "iopub.status.busy": "2022-11-13T23:06:24.899314Z",
     "iopub.status.idle": "2022-11-13T23:06:24.920337Z",
     "shell.execute_reply": "2022-11-13T23:06:24.919850Z",
     "shell.execute_reply.started": "2022-11-13T23:06:24.899482Z"
    },
    "tags": []
   },
   "outputs": [],
   "source": [
    "t = sample.inputs.x.index"
   ]
  },
  {
   "cell_type": "code",
   "execution_count": null,
   "metadata": {
    "execution": {
     "iopub.execute_input": "2022-11-13T23:06:16.783730Z",
     "iopub.status.busy": "2022-11-13T23:06:16.783553Z",
     "iopub.status.idle": "2022-11-13T23:06:16.819060Z",
     "shell.execute_reply": "2022-11-13T23:06:16.818585Z",
     "shell.execute_reply.started": "2022-11-13T23:06:16.783718Z"
    },
    "tags": []
   },
   "outputs": [],
   "source": [
    "collate_fn(batch)"
   ]
  },
  {
   "cell_type": "code",
   "execution_count": null,
   "metadata": {},
   "outputs": [],
   "source": []
  },
  {
   "cell_type": "markdown",
   "metadata": {},
   "source": [
    "## collate_fn using encoder!"
   ]
  },
  {
   "cell_type": "code",
   "execution_count": null,
   "metadata": {},
   "outputs": [],
   "source": []
  },
  {
   "cell_type": "code",
   "execution_count": null,
   "metadata": {},
   "outputs": [],
   "source": []
  },
  {
   "cell_type": "code",
   "execution_count": null,
   "metadata": {},
   "outputs": [],
   "source": []
  }
 ],
 "metadata": {
  "kernelspec": {
   "display_name": "Python 3 (ipykernel)",
   "language": "python",
   "name": "python3"
  },
  "language_info": {
   "codemirror_mode": {
    "name": "ipython",
    "version": 3
   },
   "file_extension": ".py",
   "mimetype": "text/x-python",
   "name": "python",
   "nbconvert_exporter": "python",
   "pygments_lexer": "ipython3",
   "version": "3.10.6"
  }
 },
 "nbformat": 4,
 "nbformat_minor": 4
}
