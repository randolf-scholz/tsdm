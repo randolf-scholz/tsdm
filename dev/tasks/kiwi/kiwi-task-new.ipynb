{
 "cells": [
  {
   "cell_type": "markdown",
   "metadata": {},
   "source": [
    "# Title"
   ]
  },
  {
   "cell_type": "code",
   "execution_count": null,
   "metadata": {
    "execution": {
     "iopub.execute_input": "2022-11-13T21:24:27.657887Z",
     "iopub.status.busy": "2022-11-13T21:24:27.657767Z",
     "iopub.status.idle": "2022-11-13T21:24:28.130409Z",
     "shell.execute_reply": "2022-11-13T21:24:28.130081Z",
     "shell.execute_reply.started": "2022-11-13T21:24:27.657857Z"
    },
    "tags": []
   },
   "outputs": [],
   "source": [
    "%config InteractiveShell.ast_node_interactivity='last_expr_or_assign'\n",
    "%config InlineBackend.figure_format = 'svg'\n",
    "%load_ext autoreload\n",
    "%autoreload 2\n",
    "%matplotlib inline\n",
    "\n",
    "import logging\n",
    "from collections.abc import *\n",
    "from dataclasses import KW_ONLY, dataclass\n",
    "from typing import Any, NamedTuple\n",
    "\n",
    "import matplotlib.pyplot as plt\n",
    "import numpy as np\n",
    "import pandas as pd\n",
    "import scipy as sp\n",
    "from pandas import DataFrame, Index, MultiIndex, Series\n",
    "\n",
    "rng = np.random.default_rng()\n",
    "np.set_printoptions(precision=4, floatmode=\"fixed\", suppress=True)\n",
    "logging.basicConfig(level=logging.INFO)"
   ]
  },
  {
   "cell_type": "code",
   "execution_count": null,
   "metadata": {
    "execution": {
     "iopub.execute_input": "2022-11-13T21:24:28.131375Z",
     "iopub.status.busy": "2022-11-13T21:24:28.131209Z",
     "iopub.status.idle": "2022-11-13T21:24:29.299319Z",
     "shell.execute_reply": "2022-11-13T21:24:29.298977Z",
     "shell.execute_reply.started": "2022-11-13T21:24:28.131364Z"
    },
    "tags": []
   },
   "outputs": [],
   "source": [
    "import torch\n",
    "from sklearn.model_selection import train_test_split\n",
    "from torch import Tensor\n",
    "from torch import nan as NAN\n",
    "from torch import nn\n",
    "from torch.nn.utils.rnn import pad_sequence\n",
    "from torch.utils.data import DataLoader, Dataset\n",
    "from torch.utils.data import Sampler as TorchSampler\n",
    "\n",
    "from tsdm.datasets import KiwiDataset, TimeSeriesCollection\n",
    "from tsdm.random.samplers import HierarchicalSampler, SlidingWindowSampler\n",
    "from tsdm.tasks import TimeSeriesSampleGenerator, TimeSeriesTask\n",
    "from tsdm.tasks.base import Batch, Sample, TimeSeriesSampleGenerator, TimeSeriesTask\n",
    "from tsdm.utils.data import folds_as_frame, folds_as_sparse_frame, folds_from_groups\n",
    "from tsdm.utils.types import KeyVar"
   ]
  },
  {
   "cell_type": "code",
   "execution_count": null,
   "metadata": {
    "execution": {
     "iopub.execute_input": "2022-11-13T21:24:29.300005Z",
     "iopub.status.busy": "2022-11-13T21:24:29.299786Z",
     "iopub.status.idle": "2022-11-13T21:24:29.321572Z",
     "shell.execute_reply": "2022-11-13T21:24:29.321246Z",
     "shell.execute_reply.started": "2022-11-13T21:24:29.299992Z"
    },
    "tags": []
   },
   "outputs": [],
   "source": [
    "class KiwiSampleGenerator(TimeSeriesSampleGenerator):\n",
    "    r\"\"\"Sample generator for the KIWI dataset.\"\"\"\n",
    "\n",
    "    def __init__(self, dataset):\n",
    "        super().__init__(\n",
    "            dataset,\n",
    "            observables=[\n",
    "                \"Base\",\n",
    "                \"DOT\",\n",
    "                \"Glucose\",\n",
    "                \"OD600\",\n",
    "                \"Acetate\",\n",
    "                \"Fluo_GFP\",\n",
    "                \"pH\",\n",
    "            ],\n",
    "            covariates=[\n",
    "                \"Cumulated_feed_volume_glucose\",\n",
    "                \"Cumulated_feed_volume_medium\",\n",
    "                \"InducerConcentration\",\n",
    "                \"StirringSpeed\",\n",
    "                \"Flow_Air\",\n",
    "                \"Temperature\",\n",
    "                \"Probe_Volume\",\n",
    "            ],\n",
    "            targets=[\"Fluo_GFP\"],\n",
    "        )\n",
    "\n",
    "\n",
    "class KiwiTask(TimeSeriesTask):\n",
    "    r\"\"\"Task for the KIWI dataset.\"\"\"\n",
    "    # dataset: TimeSeriesCollection = KiwiDataset()\n",
    "    observation_horizon: str = \"2h\"\n",
    "    r\"\"\"The number of datapoints observed during prediction.\"\"\"\n",
    "    forecasting_horizon: str = \"1h'\"\n",
    "    r\"\"\"The number of datapoints the model should forecast.\"\"\"\n",
    "\n",
    "    def __init__(self) -> None:\n",
    "        super().__init__(dataset=KiwiDataset())\n",
    "\n",
    "    @staticmethod\n",
    "    def default_metric(*, targets, predictions):\n",
    "        r\"\"\"TODO: implement this.\"\"\"\n",
    "\n",
    "    def default_collate(self):\n",
    "        r\"\"\"TODO: implement this.\"\"\"\n",
    "\n",
    "    # def make_encoder(self, key: KeyVar, /) -> ModularEncoder:\n",
    "    #     ...\n",
    "\n",
    "    def make_sampler(self, key: KeyVar, /) -> TorchSampler:\n",
    "        split: TimeSeriesCollection = self.splits[key]\n",
    "        subsamplers = {\n",
    "            key: SlidingWindowSampler(tsd.index, horizons=[\"2h\", \"1h\"], stride=\"1h\")\n",
    "            for key, tsd in split.items()\n",
    "        }\n",
    "        return HierarchicalSampler(split, subsamplers, shuffle=False)  # type: ignore[return-value]\n",
    "\n",
    "    def make_folds(self, /) -> DataFrame:\n",
    "        r\"\"\"Group by RunID and color which indicates replicates.\"\"\"\n",
    "        md = self.dataset.metadata\n",
    "        groups = md.groupby([\"run_id\", \"color\"], sort=False).ngroup()\n",
    "        folds = folds_from_groups(\n",
    "            groups, seed=2022, num_folds=5, train=7, valid=1, test=2\n",
    "        )\n",
    "        df = folds_as_frame(folds)\n",
    "        return folds_as_sparse_frame(df)\n",
    "\n",
    "    def make_generator(self, key: KeyVar, /) -> KiwiSampleGenerator:\n",
    "        split = self.splits[key]\n",
    "        return KiwiSampleGenerator(split)"
   ]
  },
  {
   "cell_type": "code",
   "execution_count": null,
   "metadata": {
    "execution": {
     "iopub.execute_input": "2022-11-13T21:35:51.213608Z",
     "iopub.status.busy": "2022-11-13T21:35:51.213368Z",
     "iopub.status.idle": "2022-11-13T21:35:51.233166Z",
     "shell.execute_reply": "2022-11-13T21:35:51.232307Z",
     "shell.execute_reply.started": "2022-11-13T21:35:51.213595Z"
    },
    "tags": []
   },
   "outputs": [],
   "source": [
    "0 or False"
   ]
  },
  {
   "cell_type": "code",
   "execution_count": null,
   "metadata": {
    "execution": {
     "iopub.execute_input": "2022-11-13T21:24:29.322228Z",
     "iopub.status.busy": "2022-11-13T21:24:29.322111Z",
     "iopub.status.idle": "2022-11-13T21:24:30.188159Z",
     "shell.execute_reply": "2022-11-13T21:24:30.187762Z",
     "shell.execute_reply.started": "2022-11-13T21:24:29.322216Z"
    },
    "tags": []
   },
   "outputs": [],
   "source": [
    "task = KiwiTask()"
   ]
  },
  {
   "cell_type": "code",
   "execution_count": null,
   "metadata": {
    "execution": {
     "iopub.execute_input": "2022-11-13T21:24:30.188756Z",
     "iopub.status.busy": "2022-11-13T21:24:30.188648Z",
     "iopub.status.idle": "2022-11-13T21:24:30.208637Z",
     "shell.execute_reply": "2022-11-13T21:24:30.208350Z",
     "shell.execute_reply.started": "2022-11-13T21:24:30.188745Z"
    }
   },
   "outputs": [],
   "source": [
    "task.dataset"
   ]
  },
  {
   "cell_type": "code",
   "execution_count": null,
   "metadata": {
    "execution": {
     "iopub.execute_input": "2022-11-13T21:24:30.209161Z",
     "iopub.status.busy": "2022-11-13T21:24:30.209054Z",
     "iopub.status.idle": "2022-11-13T21:24:31.038801Z",
     "shell.execute_reply": "2022-11-13T21:24:31.038397Z",
     "shell.execute_reply.started": "2022-11-13T21:24:30.209150Z"
    },
    "tags": []
   },
   "outputs": [],
   "source": [
    "dataloader = task.dataloaders[(0, \"train\")]"
   ]
  },
  {
   "cell_type": "code",
   "execution_count": null,
   "metadata": {
    "execution": {
     "iopub.execute_input": "2022-11-13T21:24:31.040073Z",
     "iopub.status.busy": "2022-11-13T21:24:31.039961Z",
     "iopub.status.idle": "2022-11-13T21:24:31.059836Z",
     "shell.execute_reply": "2022-11-13T21:24:31.059439Z",
     "shell.execute_reply.started": "2022-11-13T21:24:31.040062Z"
    },
    "tags": []
   },
   "outputs": [],
   "source": [
    "task.splits"
   ]
  },
  {
   "cell_type": "code",
   "execution_count": null,
   "metadata": {
    "execution": {
     "iopub.execute_input": "2022-11-13T21:24:31.060407Z",
     "iopub.status.busy": "2022-11-13T21:24:31.060302Z",
     "iopub.status.idle": "2022-11-13T21:24:31.432825Z",
     "shell.execute_reply": "2022-11-13T21:24:31.432418Z",
     "shell.execute_reply.started": "2022-11-13T21:24:31.060397Z"
    },
    "tags": []
   },
   "outputs": [],
   "source": [
    "batch = next(iter(dataloader))"
   ]
  },
  {
   "cell_type": "code",
   "execution_count": null,
   "metadata": {
    "execution": {
     "iopub.execute_input": "2022-11-13T21:24:31.433461Z",
     "iopub.status.busy": "2022-11-13T21:24:31.433331Z",
     "iopub.status.idle": "2022-11-13T21:24:31.453628Z",
     "shell.execute_reply": "2022-11-13T21:24:31.453333Z",
     "shell.execute_reply.started": "2022-11-13T21:24:31.433448Z"
    },
    "tags": []
   },
   "outputs": [],
   "source": [
    "sample = batch[0]"
   ]
  },
  {
   "cell_type": "code",
   "execution_count": null,
   "metadata": {
    "execution": {
     "iopub.execute_input": "2022-11-13T21:24:31.454154Z",
     "iopub.status.busy": "2022-11-13T21:24:31.454048Z",
     "iopub.status.idle": "2022-11-13T21:24:31.473791Z",
     "shell.execute_reply": "2022-11-13T21:24:31.473494Z",
     "shell.execute_reply.started": "2022-11-13T21:24:31.454143Z"
    },
    "tags": []
   },
   "outputs": [],
   "source": [
    "sample.inputs"
   ]
  },
  {
   "cell_type": "code",
   "execution_count": null,
   "metadata": {
    "execution": {
     "iopub.execute_input": "2022-11-13T21:24:31.474321Z",
     "iopub.status.busy": "2022-11-13T21:24:31.474214Z",
     "iopub.status.idle": "2022-11-13T21:24:31.580864Z",
     "shell.execute_reply": "2022-11-13T21:24:31.580305Z",
     "shell.execute_reply.started": "2022-11-13T21:24:31.474310Z"
    }
   },
   "outputs": [],
   "source": [
    "raise"
   ]
  },
  {
   "cell_type": "code",
   "execution_count": null,
   "metadata": {
    "execution": {
     "iopub.status.busy": "2022-11-13T21:24:31.581357Z",
     "iopub.status.idle": "2022-11-13T21:24:31.581500Z",
     "shell.execute_reply": "2022-11-13T21:24:31.581434Z",
     "shell.execute_reply.started": "2022-11-13T21:24:31.581427Z"
    },
    "tags": []
   },
   "outputs": [],
   "source": [
    "sample.key"
   ]
  },
  {
   "cell_type": "code",
   "execution_count": null,
   "metadata": {
    "execution": {
     "iopub.status.busy": "2022-11-13T21:24:31.581914Z",
     "iopub.status.idle": "2022-11-13T21:24:31.582053Z",
     "shell.execute_reply": "2022-11-13T21:24:31.581987Z",
     "shell.execute_reply.started": "2022-11-13T21:24:31.581980Z"
    },
    "tags": []
   },
   "outputs": [],
   "source": [
    "sample._fields"
   ]
  },
  {
   "cell_type": "code",
   "execution_count": null,
   "metadata": {
    "execution": {
     "iopub.status.busy": "2022-11-13T21:24:31.582716Z",
     "iopub.status.idle": "2022-11-13T21:24:31.582852Z",
     "shell.execute_reply": "2022-11-13T21:24:31.582789Z",
     "shell.execute_reply.started": "2022-11-13T21:24:31.582782Z"
    },
    "tags": []
   },
   "outputs": [],
   "source": [
    "sample.inputs"
   ]
  },
  {
   "cell_type": "markdown",
   "metadata": {
    "tags": []
   },
   "source": [
    "## collate_fn without encoder"
   ]
  },
  {
   "cell_type": "code",
   "execution_count": null,
   "metadata": {
    "execution": {
     "iopub.status.busy": "2022-11-13T21:24:31.583300Z",
     "iopub.status.idle": "2022-11-13T21:24:31.583436Z",
     "shell.execute_reply": "2022-11-13T21:24:31.583373Z",
     "shell.execute_reply.started": "2022-11-13T21:24:31.583366Z"
    },
    "tags": []
   },
   "outputs": [],
   "source": [
    "def collate_fn(batch: list[Sample]) -> Batch:\n",
    "    r\"\"\"Collate tensors into batch.\n",
    "\n",
    "    Transform the data slightly: t, x, t_target → T, X where X[t_target:] = NAN\n",
    "    \"\"\"\n",
    "    x_vals: list[Tensor] = []\n",
    "    y_vals: list[Tensor] = []\n",
    "    x_time: list[Tensor] = []\n",
    "    y_time: list[Tensor] = []\n",
    "    x_mask: list[Tensor] = []\n",
    "    y_mask: list[Tensor] = []\n",
    "\n",
    "    for sample in batch:\n",
    "        t, x, t_target = sample.inputs\n",
    "        y = sample.targets\n",
    "\n",
    "        # get whole time interval\n",
    "        time = torch.cat((t, t_target))\n",
    "        sorted_idx = torch.argsort(time)\n",
    "\n",
    "        # pad the x-values\n",
    "        x_padding = torch.full(\n",
    "            (t_target.shape[0], x.shape[-1]), fill_value=NAN, device=x.device\n",
    "        )\n",
    "        values = torch.cat((x, x_padding))\n",
    "\n",
    "        # create a mask for looking up the target values\n",
    "        mask_y = y.isfinite()\n",
    "        mask_pad = torch.zeros_like(x, dtype=torch.bool)\n",
    "        mask_x = torch.cat((mask_pad, mask_y))\n",
    "\n",
    "        x_vals.append(values[sorted_idx])\n",
    "        x_time.append(time[sorted_idx])\n",
    "        x_mask.append(mask_x[sorted_idx])\n",
    "\n",
    "        y_time.append(t_target)\n",
    "        y_vals.append(y)\n",
    "        y_mask.append(mask_y)\n",
    "\n",
    "    return Batch(\n",
    "        x_time=pad_sequence(x_time, batch_first=True).squeeze(),\n",
    "        x_vals=pad_sequence(x_vals, batch_first=True, padding_value=NAN).squeeze(),\n",
    "        x_mask=pad_sequence(x_mask, batch_first=True).squeeze(),\n",
    "        y_time=pad_sequence(y_time, batch_first=True).squeeze(),\n",
    "        y_vals=pad_sequence(y_vals, batch_first=True, padding_value=NAN).squeeze(),\n",
    "        y_mask=pad_sequence(y_mask, batch_first=True).squeeze(),\n",
    "    )"
   ]
  },
  {
   "cell_type": "code",
   "execution_count": null,
   "metadata": {
    "execution": {
     "iopub.status.busy": "2022-11-13T21:24:31.583863Z",
     "iopub.status.idle": "2022-11-13T21:24:31.584008Z",
     "shell.execute_reply": "2022-11-13T21:24:31.583936Z",
     "shell.execute_reply.started": "2022-11-13T21:24:31.583929Z"
    },
    "tags": []
   },
   "outputs": [],
   "source": [
    "collate_fn(batch)"
   ]
  },
  {
   "cell_type": "code",
   "execution_count": null,
   "metadata": {},
   "outputs": [],
   "source": []
  },
  {
   "cell_type": "markdown",
   "metadata": {},
   "source": [
    "## collate_fn using encoder!"
   ]
  },
  {
   "cell_type": "code",
   "execution_count": null,
   "metadata": {},
   "outputs": [],
   "source": []
  },
  {
   "cell_type": "code",
   "execution_count": null,
   "metadata": {},
   "outputs": [],
   "source": []
  },
  {
   "cell_type": "code",
   "execution_count": null,
   "metadata": {},
   "outputs": [],
   "source": []
  }
 ],
 "metadata": {
  "kernelspec": {
   "display_name": "Python 3 (ipykernel)",
   "language": "python",
   "name": "python3"
  },
  "language_info": {
   "codemirror_mode": {
    "name": "ipython",
    "version": 3
   },
   "file_extension": ".py",
   "mimetype": "text/x-python",
   "name": "python",
   "nbconvert_exporter": "python",
   "pygments_lexer": "ipython3",
   "version": "3.10.6"
  }
 },
 "nbformat": 4,
 "nbformat_minor": 4
}
