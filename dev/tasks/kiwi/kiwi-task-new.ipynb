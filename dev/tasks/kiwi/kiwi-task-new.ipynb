{
 "cells": [
  {
   "cell_type": "markdown",
   "metadata": {},
   "source": [
    "# Title"
   ]
  },
  {
   "cell_type": "code",
   "execution_count": null,
   "metadata": {
    "execution": {
     "iopub.execute_input": "2022-11-13T21:40:40.862910Z",
     "iopub.status.busy": "2022-11-13T21:40:40.862351Z",
     "iopub.status.idle": "2022-11-13T21:40:41.339673Z",
     "shell.execute_reply": "2022-11-13T21:40:41.339232Z",
     "shell.execute_reply.started": "2022-11-13T21:40:40.862843Z"
    },
    "tags": []
   },
   "outputs": [],
   "source": [
    "%config InteractiveShell.ast_node_interactivity='last_expr_or_assign'\n",
    "%config InlineBackend.figure_format = 'svg'\n",
    "%load_ext autoreload\n",
    "%autoreload 2\n",
    "%matplotlib inline\n",
    "\n",
    "import logging\n",
    "from collections.abc import *\n",
    "from dataclasses import KW_ONLY, dataclass\n",
    "from typing import Any, NamedTuple\n",
    "\n",
    "import matplotlib.pyplot as plt\n",
    "import numpy as np\n",
    "import pandas as pd\n",
    "import scipy as sp\n",
    "from pandas import DataFrame, Index, MultiIndex, Series\n",
    "\n",
    "rng = np.random.default_rng()\n",
    "np.set_printoptions(precision=4, floatmode=\"fixed\", suppress=True)\n",
    "logging.basicConfig(level=logging.INFO)"
   ]
  },
  {
   "cell_type": "code",
   "execution_count": null,
   "metadata": {
    "execution": {
     "iopub.execute_input": "2022-11-13T21:40:41.340719Z",
     "iopub.status.busy": "2022-11-13T21:40:41.340553Z",
     "iopub.status.idle": "2022-11-13T21:40:42.493645Z",
     "shell.execute_reply": "2022-11-13T21:40:42.493136Z",
     "shell.execute_reply.started": "2022-11-13T21:40:41.340707Z"
    },
    "tags": []
   },
   "outputs": [],
   "source": [
    "import torch\n",
    "from sklearn.model_selection import train_test_split\n",
    "from torch import Tensor\n",
    "from torch import nan as NAN\n",
    "from torch import nn\n",
    "from torch.nn.utils.rnn import pad_sequence\n",
    "from torch.utils.data import DataLoader, Dataset\n",
    "from torch.utils.data import Sampler as TorchSampler\n",
    "\n",
    "from tsdm.datasets import KiwiDataset, TimeSeriesCollection\n",
    "from tsdm.random.samplers import HierarchicalSampler, SlidingWindowSampler\n",
    "from tsdm.tasks import TimeSeriesSampleGenerator, TimeSeriesTask\n",
    "from tsdm.tasks.base import Batch, Sample, TimeSeriesSampleGenerator, TimeSeriesTask\n",
    "from tsdm.utils.data import folds_as_frame, folds_as_sparse_frame, folds_from_groups\n",
    "from tsdm.utils.types import KeyVar"
   ]
  },
  {
   "cell_type": "code",
   "execution_count": null,
   "metadata": {
    "execution": {
     "iopub.execute_input": "2022-11-13T21:40:42.494471Z",
     "iopub.status.busy": "2022-11-13T21:40:42.494236Z",
     "iopub.status.idle": "2022-11-13T21:40:42.518107Z",
     "shell.execute_reply": "2022-11-13T21:40:42.517588Z",
     "shell.execute_reply.started": "2022-11-13T21:40:42.494459Z"
    },
    "tags": []
   },
   "outputs": [],
   "source": [
    "class KiwiSampleGenerator(TimeSeriesSampleGenerator):\n",
    "    r\"\"\"Sample generator for the KIWI dataset.\"\"\"\n",
    "\n",
    "    def __init__(self, dataset):\n",
    "        super().__init__(\n",
    "            dataset,\n",
    "            observables=[\n",
    "                \"Base\",\n",
    "                \"DOT\",\n",
    "                \"Glucose\",\n",
    "                \"OD600\",\n",
    "                \"Acetate\",\n",
    "                \"Fluo_GFP\",\n",
    "                \"pH\",\n",
    "            ],\n",
    "            covariates=[\n",
    "                \"Cumulated_feed_volume_glucose\",\n",
    "                \"Cumulated_feed_volume_medium\",\n",
    "                \"InducerConcentration\",\n",
    "                \"StirringSpeed\",\n",
    "                \"Flow_Air\",\n",
    "                \"Temperature\",\n",
    "                \"Probe_Volume\",\n",
    "            ],\n",
    "            targets=[\"Fluo_GFP\"],\n",
    "        )\n",
    "\n",
    "\n",
    "class KiwiTask(TimeSeriesTask):\n",
    "    r\"\"\"Task for the KIWI dataset.\"\"\"\n",
    "    # dataset: TimeSeriesCollection = KiwiDataset()\n",
    "    observation_horizon: str = \"2h\"\n",
    "    r\"\"\"The number of datapoints observed during prediction.\"\"\"\n",
    "    forecasting_horizon: str = \"1h'\"\n",
    "    r\"\"\"The number of datapoints the model should forecast.\"\"\"\n",
    "\n",
    "    def __init__(self) -> None:\n",
    "        super().__init__(dataset=KiwiDataset())\n",
    "\n",
    "    @staticmethod\n",
    "    def default_metric(*, targets, predictions):\n",
    "        r\"\"\"TODO: implement this.\"\"\"\n",
    "\n",
    "    def default_collate(self):\n",
    "        r\"\"\"TODO: implement this.\"\"\"\n",
    "\n",
    "    # def make_encoder(self, key: KeyVar, /) -> ModularEncoder:\n",
    "    #     ...\n",
    "\n",
    "    def make_sampler(self, key: KeyVar, /) -> TorchSampler:\n",
    "        split: TimeSeriesCollection = self.splits[key]\n",
    "        subsamplers = {\n",
    "            key: SlidingWindowSampler(tsd.index, horizons=[\"2h\", \"1h\"], stride=\"1h\")\n",
    "            for key, tsd in split.items()\n",
    "        }\n",
    "        return HierarchicalSampler(split, subsamplers, shuffle=False)  # type: ignore[return-value]\n",
    "\n",
    "    def make_folds(self, /) -> DataFrame:\n",
    "        r\"\"\"Group by RunID and color which indicates replicates.\"\"\"\n",
    "        md = self.dataset.metadata\n",
    "        groups = md.groupby([\"run_id\", \"color\"], sort=False).ngroup()\n",
    "        folds = folds_from_groups(\n",
    "            groups, seed=2022, num_folds=5, train=7, valid=1, test=2\n",
    "        )\n",
    "        df = folds_as_frame(folds)\n",
    "        return folds_as_sparse_frame(df)\n",
    "\n",
    "    def make_generator(self, key: KeyVar, /) -> KiwiSampleGenerator:\n",
    "        split = self.splits[key]\n",
    "        return KiwiSampleGenerator(split)"
   ]
  },
  {
   "cell_type": "code",
   "execution_count": null,
   "metadata": {
    "execution": {
     "iopub.execute_input": "2022-11-13T21:40:42.518781Z",
     "iopub.status.busy": "2022-11-13T21:40:42.518667Z",
     "iopub.status.idle": "2022-11-13T21:40:43.393671Z",
     "shell.execute_reply": "2022-11-13T21:40:43.393147Z",
     "shell.execute_reply.started": "2022-11-13T21:40:42.518770Z"
    },
    "tags": []
   },
   "outputs": [],
   "source": [
    "task = KiwiTask()"
   ]
  },
  {
   "cell_type": "code",
   "execution_count": null,
   "metadata": {
    "execution": {
     "iopub.execute_input": "2022-11-13T21:40:43.394334Z",
     "iopub.status.busy": "2022-11-13T21:40:43.394222Z",
     "iopub.status.idle": "2022-11-13T21:40:43.415034Z",
     "shell.execute_reply": "2022-11-13T21:40:43.414566Z",
     "shell.execute_reply.started": "2022-11-13T21:40:43.394323Z"
    }
   },
   "outputs": [],
   "source": [
    "task.dataset"
   ]
  },
  {
   "cell_type": "code",
   "execution_count": null,
   "metadata": {
    "execution": {
     "iopub.execute_input": "2022-11-13T21:40:43.415711Z",
     "iopub.status.busy": "2022-11-13T21:40:43.415584Z",
     "iopub.status.idle": "2022-11-13T21:40:44.274558Z",
     "shell.execute_reply": "2022-11-13T21:40:44.274085Z",
     "shell.execute_reply.started": "2022-11-13T21:40:43.415700Z"
    },
    "tags": []
   },
   "outputs": [],
   "source": [
    "dataloader = task.dataloaders[(0, \"train\")]"
   ]
  },
  {
   "cell_type": "code",
   "execution_count": null,
   "metadata": {
    "execution": {
     "iopub.execute_input": "2022-11-13T21:40:44.275954Z",
     "iopub.status.busy": "2022-11-13T21:40:44.275836Z",
     "iopub.status.idle": "2022-11-13T21:40:44.296080Z",
     "shell.execute_reply": "2022-11-13T21:40:44.295622Z",
     "shell.execute_reply.started": "2022-11-13T21:40:44.275943Z"
    },
    "tags": []
   },
   "outputs": [],
   "source": [
    "task.splits"
   ]
  },
  {
   "cell_type": "code",
   "execution_count": null,
   "metadata": {
    "execution": {
     "iopub.execute_input": "2022-11-13T21:40:44.296653Z",
     "iopub.status.busy": "2022-11-13T21:40:44.296542Z",
     "iopub.status.idle": "2022-11-13T21:40:44.675520Z",
     "shell.execute_reply": "2022-11-13T21:40:44.675039Z",
     "shell.execute_reply.started": "2022-11-13T21:40:44.296642Z"
    },
    "tags": []
   },
   "outputs": [],
   "source": [
    "batch = next(iter(dataloader))"
   ]
  },
  {
   "cell_type": "code",
   "execution_count": null,
   "metadata": {
    "execution": {
     "iopub.execute_input": "2022-11-13T21:40:44.676195Z",
     "iopub.status.busy": "2022-11-13T21:40:44.676080Z",
     "iopub.status.idle": "2022-11-13T21:40:44.696863Z",
     "shell.execute_reply": "2022-11-13T21:40:44.696176Z",
     "shell.execute_reply.started": "2022-11-13T21:40:44.676184Z"
    },
    "tags": []
   },
   "outputs": [],
   "source": [
    "sample = batch[0]"
   ]
  },
  {
   "cell_type": "code",
   "execution_count": null,
   "metadata": {
    "execution": {
     "iopub.execute_input": "2022-11-13T21:40:44.697754Z",
     "iopub.status.busy": "2022-11-13T21:40:44.697626Z",
     "iopub.status.idle": "2022-11-13T21:40:44.718606Z",
     "shell.execute_reply": "2022-11-13T21:40:44.718131Z",
     "shell.execute_reply.started": "2022-11-13T21:40:44.697744Z"
    },
    "tags": []
   },
   "outputs": [],
   "source": [
    "sample.inputs"
   ]
  },
  {
   "cell_type": "code",
   "execution_count": null,
   "metadata": {},
   "outputs": [],
   "source": []
  },
  {
   "cell_type": "code",
   "execution_count": null,
   "metadata": {
    "execution": {
     "iopub.execute_input": "2022-11-13T21:40:44.719329Z",
     "iopub.status.busy": "2022-11-13T21:40:44.719221Z",
     "iopub.status.idle": "2022-11-13T21:40:44.827225Z",
     "shell.execute_reply": "2022-11-13T21:40:44.826656Z",
     "shell.execute_reply.started": "2022-11-13T21:40:44.719319Z"
    }
   },
   "outputs": [],
   "source": [
    "raise"
   ]
  },
  {
   "cell_type": "code",
   "execution_count": null,
   "metadata": {
    "execution": {
     "iopub.status.busy": "2022-11-13T21:40:44.827552Z",
     "iopub.status.idle": "2022-11-13T21:40:44.827700Z",
     "shell.execute_reply": "2022-11-13T21:40:44.827631Z",
     "shell.execute_reply.started": "2022-11-13T21:40:44.827624Z"
    },
    "tags": []
   },
   "outputs": [],
   "source": [
    "sample.key"
   ]
  },
  {
   "cell_type": "code",
   "execution_count": null,
   "metadata": {
    "execution": {
     "iopub.status.busy": "2022-11-13T21:40:44.828267Z",
     "iopub.status.idle": "2022-11-13T21:40:44.828414Z",
     "shell.execute_reply": "2022-11-13T21:40:44.828343Z",
     "shell.execute_reply.started": "2022-11-13T21:40:44.828336Z"
    },
    "tags": []
   },
   "outputs": [],
   "source": [
    "sample._fields"
   ]
  },
  {
   "cell_type": "code",
   "execution_count": null,
   "metadata": {
    "execution": {
     "iopub.status.busy": "2022-11-13T21:40:44.829341Z",
     "iopub.status.idle": "2022-11-13T21:40:44.829495Z",
     "shell.execute_reply": "2022-11-13T21:40:44.829419Z",
     "shell.execute_reply.started": "2022-11-13T21:40:44.829413Z"
    },
    "tags": []
   },
   "outputs": [],
   "source": [
    "sample.inputs"
   ]
  },
  {
   "cell_type": "markdown",
   "metadata": {
    "tags": []
   },
   "source": [
    "## collate_fn without encoder"
   ]
  },
  {
   "cell_type": "code",
   "execution_count": null,
   "metadata": {
    "execution": {
     "iopub.status.busy": "2022-11-13T21:40:44.830055Z",
     "iopub.status.idle": "2022-11-13T21:40:44.830381Z",
     "shell.execute_reply": "2022-11-13T21:40:44.830303Z",
     "shell.execute_reply.started": "2022-11-13T21:40:44.830295Z"
    },
    "tags": []
   },
   "outputs": [],
   "source": [
    "def collate_fn(batch: list[Sample]) -> Batch:\n",
    "    r\"\"\"Collate tensors into batch.\n",
    "\n",
    "    Transform the data slightly: t, x, t_target → T, X where X[t_target:] = NAN\n",
    "    \"\"\"\n",
    "    x_vals: list[Tensor] = []\n",
    "    y_vals: list[Tensor] = []\n",
    "    x_time: list[Tensor] = []\n",
    "    y_time: list[Tensor] = []\n",
    "    x_mask: list[Tensor] = []\n",
    "    y_mask: list[Tensor] = []\n",
    "\n",
    "    for sample in batch:\n",
    "        t, x, t_target = sample.inputs\n",
    "        y = sample.targets\n",
    "\n",
    "        # get whole time interval\n",
    "        time = torch.cat((t, t_target))\n",
    "        sorted_idx = torch.argsort(time)\n",
    "\n",
    "        # pad the x-values\n",
    "        x_padding = torch.full(\n",
    "            (t_target.shape[0], x.shape[-1]), fill_value=NAN, device=x.device\n",
    "        )\n",
    "        values = torch.cat((x, x_padding))\n",
    "\n",
    "        # create a mask for looking up the target values\n",
    "        mask_y = y.isfinite()\n",
    "        mask_pad = torch.zeros_like(x, dtype=torch.bool)\n",
    "        mask_x = torch.cat((mask_pad, mask_y))\n",
    "\n",
    "        x_vals.append(values[sorted_idx])\n",
    "        x_time.append(time[sorted_idx])\n",
    "        x_mask.append(mask_x[sorted_idx])\n",
    "\n",
    "        y_time.append(t_target)\n",
    "        y_vals.append(y)\n",
    "        y_mask.append(mask_y)\n",
    "\n",
    "    return Batch(\n",
    "        x_time=pad_sequence(x_time, batch_first=True).squeeze(),\n",
    "        x_vals=pad_sequence(x_vals, batch_first=True, padding_value=NAN).squeeze(),\n",
    "        x_mask=pad_sequence(x_mask, batch_first=True).squeeze(),\n",
    "        y_time=pad_sequence(y_time, batch_first=True).squeeze(),\n",
    "        y_vals=pad_sequence(y_vals, batch_first=True, padding_value=NAN).squeeze(),\n",
    "        y_mask=pad_sequence(y_mask, batch_first=True).squeeze(),\n",
    "    )"
   ]
  },
  {
   "cell_type": "code",
   "execution_count": null,
   "metadata": {
    "execution": {
     "iopub.status.busy": "2022-11-13T21:40:44.830808Z",
     "iopub.status.idle": "2022-11-13T21:40:44.830948Z",
     "shell.execute_reply": "2022-11-13T21:40:44.830882Z",
     "shell.execute_reply.started": "2022-11-13T21:40:44.830876Z"
    },
    "tags": []
   },
   "outputs": [],
   "source": [
    "collate_fn(batch)"
   ]
  },
  {
   "cell_type": "code",
   "execution_count": null,
   "metadata": {},
   "outputs": [],
   "source": []
  },
  {
   "cell_type": "markdown",
   "metadata": {},
   "source": [
    "## collate_fn using encoder!"
   ]
  },
  {
   "cell_type": "code",
   "execution_count": null,
   "metadata": {},
   "outputs": [],
   "source": []
  },
  {
   "cell_type": "code",
   "execution_count": null,
   "metadata": {},
   "outputs": [],
   "source": []
  },
  {
   "cell_type": "code",
   "execution_count": null,
   "metadata": {},
   "outputs": [],
   "source": []
  }
 ],
 "metadata": {
  "kernelspec": {
   "display_name": "Python 3 (ipykernel)",
   "language": "python",
   "name": "python3"
  },
  "language_info": {
   "codemirror_mode": {
    "name": "ipython",
    "version": 3
   },
   "file_extension": ".py",
   "mimetype": "text/x-python",
   "name": "python",
   "nbconvert_exporter": "python",
   "pygments_lexer": "ipython3",
   "version": "3.10.6"
  }
 },
 "nbformat": 4,
 "nbformat_minor": 4
}
