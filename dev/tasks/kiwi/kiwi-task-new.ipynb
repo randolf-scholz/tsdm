{
 "cells": [
  {
   "cell_type": "markdown",
   "metadata": {},
   "source": [
    "# Title"
   ]
  },
  {
   "cell_type": "code",
   "execution_count": null,
   "metadata": {
    "execution": {
     "iopub.execute_input": "2022-11-14T04:04:56.555498Z",
     "iopub.status.busy": "2022-11-14T04:04:56.555129Z",
     "iopub.status.idle": "2022-11-14T04:04:57.065072Z",
     "shell.execute_reply": "2022-11-14T04:04:57.064574Z",
     "shell.execute_reply.started": "2022-11-14T04:04:56.555443Z"
    },
    "tags": []
   },
   "outputs": [],
   "source": [
    "%config InteractiveShell.ast_node_interactivity='last_expr_or_assign'\n",
    "%config InlineBackend.figure_format = 'svg'\n",
    "%load_ext autoreload\n",
    "%autoreload 2\n",
    "%matplotlib inline\n",
    "\n",
    "import logging\n",
    "from collections.abc import *\n",
    "from dataclasses import KW_ONLY, dataclass\n",
    "from typing import Any, NamedTuple\n",
    "\n",
    "import matplotlib.pyplot as plt\n",
    "import numpy as np\n",
    "import pandas as pd\n",
    "import scipy as sp\n",
    "from pandas import DataFrame, Index, MultiIndex, Series\n",
    "\n",
    "rng = np.random.default_rng()\n",
    "np.set_printoptions(precision=4, floatmode=\"fixed\", suppress=True)\n",
    "logging.basicConfig(level=logging.INFO)"
   ]
  },
  {
   "cell_type": "code",
   "execution_count": null,
   "metadata": {
    "execution": {
     "iopub.execute_input": "2022-11-14T04:04:57.066219Z",
     "iopub.status.busy": "2022-11-14T04:04:57.066051Z",
     "iopub.status.idle": "2022-11-14T04:04:58.214445Z",
     "shell.execute_reply": "2022-11-14T04:04:58.214006Z",
     "shell.execute_reply.started": "2022-11-14T04:04:57.066208Z"
    },
    "tags": []
   },
   "outputs": [],
   "source": [
    "import torch\n",
    "from sklearn.model_selection import train_test_split\n",
    "from torch import Tensor\n",
    "from torch import nan as NAN\n",
    "from torch import nn\n",
    "from torch.nn.utils.rnn import pad_sequence\n",
    "from torch.utils.data import DataLoader, Dataset\n",
    "from torch.utils.data import Sampler as TorchSampler\n",
    "\n",
    "from tsdm.datasets import KiwiDataset, TimeSeriesCollection\n",
    "from tsdm.random.samplers import HierarchicalSampler, SlidingWindowSampler\n",
    "from tsdm.tasks import TimeSeriesSampleGenerator, TimeSeriesTask\n",
    "from tsdm.tasks.base import Batch, Sample, TimeSeriesSampleGenerator, TimeSeriesTask\n",
    "from tsdm.utils.data import folds_as_frame, folds_as_sparse_frame, folds_from_groups\n",
    "from tsdm.utils.types import KeyVar"
   ]
  },
  {
   "cell_type": "code",
   "execution_count": null,
   "metadata": {
    "execution": {
     "iopub.execute_input": "2022-11-14T04:04:58.215114Z",
     "iopub.status.busy": "2022-11-14T04:04:58.214898Z",
     "iopub.status.idle": "2022-11-14T04:04:58.238904Z",
     "shell.execute_reply": "2022-11-14T04:04:58.238404Z",
     "shell.execute_reply.started": "2022-11-14T04:04:58.215103Z"
    },
    "tags": []
   },
   "outputs": [],
   "source": [
    "class KiwiSampleGenerator(TimeSeriesSampleGenerator):\n",
    "    r\"\"\"Sample generator for the KIWI dataset.\"\"\"\n",
    "\n",
    "    def __init__(self, dataset):\n",
    "        super().__init__(\n",
    "            dataset,\n",
    "            observables=[\n",
    "                \"Base\",\n",
    "                \"DOT\",\n",
    "                \"Glucose\",\n",
    "                \"OD600\",\n",
    "                \"Acetate\",\n",
    "                \"Fluo_GFP\",\n",
    "                \"Temperature\",\n",
    "                \"pH\",\n",
    "            ],\n",
    "            covariates=[\n",
    "                \"Cumulated_feed_volume_glucose\",\n",
    "                \"Cumulated_feed_volume_medium\",\n",
    "                \"InducerConcentration\",\n",
    "                \"StirringSpeed\",\n",
    "                \"Flow_Air\",\n",
    "                \"Probe_Volume\",\n",
    "            ],\n",
    "            targets=[\"OD600\", \"Fluo_GFP\"],\n",
    "        )\n",
    "\n",
    "\n",
    "class KiwiTask(TimeSeriesTask):\n",
    "    r\"\"\"Task for the KIWI dataset.\"\"\"\n",
    "    # dataset: TimeSeriesCollection = KiwiDataset()\n",
    "    observation_horizon: str = \"2h\"\n",
    "    r\"\"\"The number of datapoints observed during prediction.\"\"\"\n",
    "    forecasting_horizon: str = \"1h\"\n",
    "    r\"\"\"The number of datapoints the model should forecast.\"\"\"\n",
    "\n",
    "    def __init__(self) -> None:\n",
    "        dataset = KiwiDataset()\n",
    "        dataset.timeseries = dataset.timeseries.astype(\"float64\")\n",
    "        super().__init__(dataset=dataset)\n",
    "\n",
    "    @staticmethod\n",
    "    def default_metric(*, targets, predictions):\n",
    "        r\"\"\"TODO: implement this.\"\"\"\n",
    "\n",
    "    def default_collate(self):\n",
    "        r\"\"\"TODO: implement this.\"\"\"\n",
    "\n",
    "    # def make_encoder(self, key: KeyVar, /) -> ModularEncoder:\n",
    "    #     ...\n",
    "\n",
    "    def make_sampler(self, key: KeyVar, /) -> TorchSampler:\n",
    "        split: TimeSeriesCollection = self.splits[key]\n",
    "        subsamplers = {\n",
    "            key: SlidingWindowSampler(tsd.index, horizons=[\"2h\", \"1h\"], stride=\"1h\")\n",
    "            for key, tsd in split.items()\n",
    "        }\n",
    "        return HierarchicalSampler(split, subsamplers, shuffle=False)  # type: ignore[return-value]\n",
    "\n",
    "    def make_folds(self, /) -> DataFrame:\n",
    "        r\"\"\"Group by RunID and color which indicates replicates.\"\"\"\n",
    "        md = self.dataset.metadata\n",
    "        groups = md.groupby([\"run_id\", \"color\"], sort=False).ngroup()\n",
    "        folds = folds_from_groups(\n",
    "            groups, seed=2022, num_folds=5, train=7, valid=1, test=2\n",
    "        )\n",
    "        df = folds_as_frame(folds)\n",
    "        return folds_as_sparse_frame(df)\n",
    "\n",
    "    def make_generator(self, key: KeyVar, /) -> KiwiSampleGenerator:\n",
    "        split = self.splits[key]\n",
    "        return KiwiSampleGenerator(split)"
   ]
  },
  {
   "cell_type": "code",
   "execution_count": null,
   "metadata": {
    "execution": {
     "iopub.execute_input": "2022-11-14T04:04:58.239869Z",
     "iopub.status.busy": "2022-11-14T04:04:58.239657Z",
     "iopub.status.idle": "2022-11-14T04:04:59.149905Z",
     "shell.execute_reply": "2022-11-14T04:04:59.149554Z",
     "shell.execute_reply.started": "2022-11-14T04:04:58.239848Z"
    },
    "tags": []
   },
   "outputs": [],
   "source": [
    "task = KiwiTask()"
   ]
  },
  {
   "cell_type": "code",
   "execution_count": null,
   "metadata": {
    "execution": {
     "iopub.execute_input": "2022-11-14T04:04:59.150508Z",
     "iopub.status.busy": "2022-11-14T04:04:59.150398Z",
     "iopub.status.idle": "2022-11-14T04:04:59.170947Z",
     "shell.execute_reply": "2022-11-14T04:04:59.170594Z",
     "shell.execute_reply.started": "2022-11-14T04:04:59.150497Z"
    },
    "tags": []
   },
   "outputs": [],
   "source": [
    "task.dataset"
   ]
  },
  {
   "cell_type": "code",
   "execution_count": null,
   "metadata": {
    "execution": {
     "iopub.execute_input": "2022-11-14T04:04:59.171538Z",
     "iopub.status.busy": "2022-11-14T04:04:59.171428Z",
     "iopub.status.idle": "2022-11-14T04:05:00.009069Z",
     "shell.execute_reply": "2022-11-14T04:05:00.008667Z",
     "shell.execute_reply.started": "2022-11-14T04:04:59.171528Z"
    },
    "tags": []
   },
   "outputs": [],
   "source": [
    "dataloader = task.dataloaders[(0, \"train\")]"
   ]
  },
  {
   "cell_type": "code",
   "execution_count": null,
   "metadata": {
    "execution": {
     "iopub.execute_input": "2022-11-14T04:05:00.010539Z",
     "iopub.status.busy": "2022-11-14T04:05:00.010423Z",
     "iopub.status.idle": "2022-11-14T04:05:00.036278Z",
     "shell.execute_reply": "2022-11-14T04:05:00.035886Z",
     "shell.execute_reply.started": "2022-11-14T04:05:00.010528Z"
    },
    "tags": []
   },
   "outputs": [],
   "source": [
    "sampler = task.samplers[(0, \"train\")]"
   ]
  },
  {
   "cell_type": "code",
   "execution_count": null,
   "metadata": {
    "execution": {
     "iopub.execute_input": "2022-11-14T04:05:00.036924Z",
     "iopub.status.busy": "2022-11-14T04:05:00.036814Z",
     "iopub.status.idle": "2022-11-14T04:05:00.056929Z",
     "shell.execute_reply": "2022-11-14T04:05:00.056532Z",
     "shell.execute_reply.started": "2022-11-14T04:05:00.036914Z"
    },
    "tags": []
   },
   "outputs": [],
   "source": [
    "generator = task.generators[(0, \"train\")]"
   ]
  },
  {
   "cell_type": "code",
   "execution_count": null,
   "metadata": {
    "execution": {
     "iopub.execute_input": "2022-11-14T04:05:00.057585Z",
     "iopub.status.busy": "2022-11-14T04:05:00.057469Z",
     "iopub.status.idle": "2022-11-14T04:05:00.077186Z",
     "shell.execute_reply": "2022-11-14T04:05:00.076807Z",
     "shell.execute_reply.started": "2022-11-14T04:05:00.057574Z"
    },
    "tags": []
   },
   "outputs": [],
   "source": [
    "task.splits"
   ]
  },
  {
   "cell_type": "code",
   "execution_count": null,
   "metadata": {
    "execution": {
     "iopub.execute_input": "2022-11-14T04:05:00.077794Z",
     "iopub.status.busy": "2022-11-14T04:05:00.077682Z",
     "iopub.status.idle": "2022-11-14T04:05:00.415272Z",
     "shell.execute_reply": "2022-11-14T04:05:00.414717Z",
     "shell.execute_reply.started": "2022-11-14T04:05:00.077784Z"
    },
    "tags": []
   },
   "outputs": [],
   "source": [
    "batch = next(iter(dataloader))"
   ]
  },
  {
   "cell_type": "code",
   "execution_count": null,
   "metadata": {
    "execution": {
     "iopub.execute_input": "2022-11-14T04:05:00.416001Z",
     "iopub.status.busy": "2022-11-14T04:05:00.415887Z",
     "iopub.status.idle": "2022-11-14T04:05:00.436124Z",
     "shell.execute_reply": "2022-11-14T04:05:00.435665Z",
     "shell.execute_reply.started": "2022-11-14T04:05:00.415990Z"
    },
    "tags": []
   },
   "outputs": [],
   "source": [
    "sample = batch[0]"
   ]
  },
  {
   "cell_type": "code",
   "execution_count": null,
   "metadata": {
    "execution": {
     "iopub.execute_input": "2022-11-14T04:05:00.436766Z",
     "iopub.status.busy": "2022-11-14T04:05:00.436654Z",
     "iopub.status.idle": "2022-11-14T04:05:00.457025Z",
     "shell.execute_reply": "2022-11-14T04:05:00.456662Z",
     "shell.execute_reply.started": "2022-11-14T04:05:00.436756Z"
    },
    "tags": []
   },
   "outputs": [],
   "source": [
    "sample.inputs"
   ]
  },
  {
   "cell_type": "code",
   "execution_count": null,
   "metadata": {
    "execution": {
     "iopub.execute_input": "2022-11-14T04:05:00.457722Z",
     "iopub.status.busy": "2022-11-14T04:05:00.457608Z",
     "iopub.status.idle": "2022-11-14T04:05:00.477591Z",
     "shell.execute_reply": "2022-11-14T04:05:00.477213Z",
     "shell.execute_reply.started": "2022-11-14T04:05:00.457712Z"
    },
    "tags": []
   },
   "outputs": [],
   "source": [
    "sample.targets"
   ]
  },
  {
   "cell_type": "code",
   "execution_count": null,
   "metadata": {
    "execution": {
     "iopub.execute_input": "2022-11-14T04:05:00.478180Z",
     "iopub.status.busy": "2022-11-14T04:05:00.478071Z",
     "iopub.status.idle": "2022-11-14T04:05:00.497368Z",
     "shell.execute_reply": "2022-11-14T04:05:00.496994Z",
     "shell.execute_reply.started": "2022-11-14T04:05:00.478170Z"
    },
    "tags": []
   },
   "outputs": [],
   "source": [
    "sample.key"
   ]
  },
  {
   "cell_type": "markdown",
   "metadata": {},
   "source": [
    "# Designing Encoder for the data"
   ]
  },
  {
   "cell_type": "code",
   "execution_count": null,
   "metadata": {
    "execution": {
     "iopub.execute_input": "2022-11-14T04:05:00.498134Z",
     "iopub.status.busy": "2022-11-14T04:05:00.498020Z",
     "iopub.status.idle": "2022-11-14T04:05:00.516832Z",
     "shell.execute_reply": "2022-11-14T04:05:00.516370Z",
     "shell.execute_reply.started": "2022-11-14T04:05:00.498123Z"
    },
    "tags": []
   },
   "outputs": [],
   "source": [
    "from tsdm.encoders import *"
   ]
  },
  {
   "cell_type": "code",
   "execution_count": null,
   "metadata": {
    "execution": {
     "iopub.execute_input": "2022-11-14T04:05:00.517438Z",
     "iopub.status.busy": "2022-11-14T04:05:00.517329Z",
     "iopub.status.idle": "2022-11-14T04:05:00.546213Z",
     "shell.execute_reply": "2022-11-14T04:05:00.545696Z",
     "shell.execute_reply.started": "2022-11-14T04:05:00.517428Z"
    },
    "tags": []
   },
   "outputs": [],
   "source": [
    "t = sample.inputs.x.index\n",
    "x = sample.inputs.x\n",
    "t_target = sample.inputs.t_target\n",
    "y = sample.targets.y"
   ]
  },
  {
   "cell_type": "code",
   "execution_count": null,
   "metadata": {
    "execution": {
     "iopub.execute_input": "2022-11-14T04:05:00.546999Z",
     "iopub.status.busy": "2022-11-14T04:05:00.546888Z",
     "iopub.status.idle": "2022-11-14T04:05:00.569403Z",
     "shell.execute_reply": "2022-11-14T04:05:00.568858Z",
     "shell.execute_reply.started": "2022-11-14T04:05:00.546988Z"
    },
    "tags": []
   },
   "outputs": [],
   "source": [
    "VF = task.dataset.value_features"
   ]
  },
  {
   "cell_type": "code",
   "execution_count": null,
   "metadata": {
    "execution": {
     "iopub.execute_input": "2022-11-14T04:05:00.570334Z",
     "iopub.status.busy": "2022-11-14T04:05:00.570204Z",
     "iopub.status.idle": "2022-11-14T04:05:00.596596Z",
     "shell.execute_reply": "2022-11-14T04:05:00.596124Z",
     "shell.execute_reply.started": "2022-11-14T04:05:00.570323Z"
    },
    "tags": []
   },
   "outputs": [],
   "source": [
    "column_encoders = {}\n",
    "\n",
    "for col, scale, lower, upper in VF[[\"scale\", \"lower\", \"upper\"]].itertuples():\n",
    "    encoder = BoundaryEncoder(lower, upper, mode=\"clip\")\n",
    "    match scale:\n",
    "        case \"percent\":\n",
    "            encoder = (\n",
    "                LogitBoxCoxEncoder()\n",
    "                @ LinearScaler(lower, upper)\n",
    "                @ BoundaryEncoder(lower, upper, mode=\"clip\")\n",
    "            )\n",
    "        case \"absolute\":\n",
    "            if upper < np.inf:\n",
    "                encoder = (\n",
    "                    BoxCoxEncoder()\n",
    "                    @ LinearScaler(lower, upper)\n",
    "                    @ BoundaryEncoder(lower, upper, mode=\"clip\")\n",
    "                )\n",
    "            else:\n",
    "                encoder = BoxCoxEncoder() @ BoundaryEncoder(lower, upper, mode=\"clip\")\n",
    "        case \"linear\":\n",
    "            encoder = IdentityEncoder()\n",
    "        case _:\n",
    "            raise ValueError(f\"{scale=} unknown\")\n",
    "    column_encoders[col] = encoder\n",
    "column_encoders"
   ]
  },
  {
   "cell_type": "markdown",
   "metadata": {},
   "source": [
    "# original data"
   ]
  },
  {
   "cell_type": "code",
   "execution_count": null,
   "metadata": {
    "execution": {
     "iopub.execute_input": "2022-11-14T04:05:00.597318Z",
     "iopub.status.busy": "2022-11-14T04:05:00.597205Z",
     "iopub.status.idle": "2022-11-14T04:05:00.625441Z",
     "shell.execute_reply": "2022-11-14T04:05:00.624885Z",
     "shell.execute_reply.started": "2022-11-14T04:05:00.597307Z"
    },
    "tags": []
   },
   "outputs": [],
   "source": [
    "%matplotlib inline\n",
    "ts = task.dataset.timeseries.copy()\n",
    "ts[\"dummy\"] = float(\"nan\")"
   ]
  },
  {
   "cell_type": "code",
   "execution_count": null,
   "metadata": {
    "execution": {
     "iopub.execute_input": "2022-11-14T04:05:00.626107Z",
     "iopub.status.busy": "2022-11-14T04:05:00.625995Z",
     "iopub.status.idle": "2022-11-14T04:05:05.919988Z",
     "shell.execute_reply": "2022-11-14T04:05:05.919460Z",
     "shell.execute_reply.started": "2022-11-14T04:05:00.626096Z"
    },
    "tags": []
   },
   "outputs": [],
   "source": [
    "fig, ax = plt.subplots(ncols=5, nrows=3, figsize=(20, 6), constrained_layout=True)\n",
    "ts.hist(ax=ax, density=True, log=True, bins=20)\n",
    "fig.savefig(\"data_original.pdf\")\n",
    "print(list(ts.columns))"
   ]
  },
  {
   "cell_type": "markdown",
   "metadata": {},
   "source": [
    "# plain standardization"
   ]
  },
  {
   "cell_type": "code",
   "execution_count": null,
   "metadata": {
    "execution": {
     "iopub.execute_input": "2022-11-14T04:05:05.920887Z",
     "iopub.status.busy": "2022-11-14T04:05:05.920546Z",
     "iopub.status.idle": "2022-11-14T04:05:10.924592Z",
     "shell.execute_reply": "2022-11-14T04:05:10.924122Z",
     "shell.execute_reply.started": "2022-11-14T04:05:05.920875Z"
    },
    "tags": []
   },
   "outputs": [],
   "source": [
    "encoder = Standardizer()\n",
    "encoder.fit(ts)\n",
    "encoded = encoder.encode(ts)\n",
    "fig, ax = plt.subplots(ncols=5, nrows=3, figsize=(20, 6), constrained_layout=True)\n",
    "encoded.hist(ax=ax, density=True, log=True, bins=20)\n",
    "fig.savefig(\"data_encoded_standardizer.pdf\")\n",
    "print(list(encoded.columns))"
   ]
  },
  {
   "cell_type": "markdown",
   "metadata": {
    "tags": []
   },
   "source": [
    "# With BoxCox"
   ]
  },
  {
   "cell_type": "code",
   "execution_count": null,
   "metadata": {
    "execution": {
     "iopub.execute_input": "2022-11-14T04:05:10.927078Z",
     "iopub.status.busy": "2022-11-14T04:05:10.926964Z",
     "iopub.status.idle": "2022-11-14T04:05:20.158891Z",
     "shell.execute_reply": "2022-11-14T04:05:20.158511Z",
     "shell.execute_reply.started": "2022-11-14T04:05:10.927068Z"
    },
    "tags": []
   },
   "outputs": [],
   "source": [
    "encoder = Standardizer() @ FrameEncoder(column_encoders)\n",
    "encoder.fit(ts)\n",
    "encoded = encoder.encode(ts)\n",
    "fig, ax = plt.subplots(ncols=5, nrows=3, figsize=(20, 6), constrained_layout=True)\n",
    "encoded.hist(ax=ax, density=True, log=True, bins=20)\n",
    "fig.savefig(\"data_encoded_box_cox.pdf\")\n",
    "print(list(encoded.columns))"
   ]
  },
  {
   "cell_type": "markdown",
   "metadata": {},
   "source": [
    "## residual error"
   ]
  },
  {
   "cell_type": "code",
   "execution_count": null,
   "metadata": {
    "execution": {
     "iopub.execute_input": "2022-11-14T04:05:20.159597Z",
     "iopub.status.busy": "2022-11-14T04:05:20.159457Z",
     "iopub.status.idle": "2022-11-14T04:05:20.532842Z",
     "shell.execute_reply": "2022-11-14T04:05:20.532199Z",
     "shell.execute_reply.started": "2022-11-14T04:05:20.159583Z"
    },
    "tags": []
   },
   "outputs": [],
   "source": [
    "decoded = encoder.decode(encoded)\n",
    "assert (encoded.isna() == ts.isna()).all().all()\n",
    "(decoded - ts).abs().mean().max()"
   ]
  },
  {
   "cell_type": "code",
   "execution_count": null,
   "metadata": {
    "execution": {
     "iopub.execute_input": "2022-11-14T04:05:34.819480Z",
     "iopub.status.busy": "2022-11-14T04:05:34.818969Z",
     "iopub.status.idle": "2022-11-14T04:05:34.851143Z",
     "shell.execute_reply": "2022-11-14T04:05:34.850464Z",
     "shell.execute_reply.started": "2022-11-14T04:05:34.819449Z"
    },
    "tags": []
   },
   "outputs": [],
   "source": [
    "enc = FrameEncoder(\n",
    "    column_encoders=column_encoders,\n",
    "    index_encoders={\n",
    "        \"run_id\": IdentityEncoder(),\n",
    "        \"exp_id\": IdentityEncoder(),\n",
    "        \"measurement_time\": MinMaxScaler() @ TimeDeltaEncoder(),\n",
    "    },\n",
    ")"
   ]
  },
  {
   "cell_type": "code",
   "execution_count": null,
   "metadata": {
    "execution": {
     "iopub.execute_input": "2022-11-14T04:05:35.517756Z",
     "iopub.status.busy": "2022-11-14T04:05:35.517322Z",
     "iopub.status.idle": "2022-11-14T04:05:37.111741Z",
     "shell.execute_reply": "2022-11-14T04:05:37.111276Z",
     "shell.execute_reply.started": "2022-11-14T04:05:35.517734Z"
    },
    "tags": []
   },
   "outputs": [],
   "source": [
    "enc.fit(ts)"
   ]
  },
  {
   "cell_type": "code",
   "execution_count": null,
   "metadata": {
    "execution": {
     "iopub.execute_input": "2022-11-14T04:05:37.112592Z",
     "iopub.status.busy": "2022-11-14T04:05:37.112447Z",
     "iopub.status.idle": "2022-11-14T04:05:37.684140Z",
     "shell.execute_reply": "2022-11-14T04:05:37.683719Z",
     "shell.execute_reply.started": "2022-11-14T04:05:37.112581Z"
    },
    "tags": []
   },
   "outputs": [],
   "source": [
    "encoded = enc.encode(ts)"
   ]
  },
  {
   "cell_type": "code",
   "execution_count": null,
   "metadata": {
    "execution": {
     "iopub.execute_input": "2022-11-14T04:05:37.684684Z",
     "iopub.status.busy": "2022-11-14T04:05:37.684576Z",
     "iopub.status.idle": "2022-11-14T04:05:37.774619Z",
     "shell.execute_reply": "2022-11-14T04:05:37.774268Z",
     "shell.execute_reply.started": "2022-11-14T04:05:37.684673Z"
    },
    "tags": []
   },
   "outputs": [],
   "source": [
    "f2t = Frame2TensorDict(\n",
    "    groups={\"key\": [\"run_id\", \"exp_id\"], \"T\": [\"measurement_time\"], \"X\": ...},\n",
    "    dtypes={\"T\": \"float32\", \"X\": \"float32\"},\n",
    ")\n",
    "\n",
    "f2t.fit(encoded)\n",
    "f2t.encode(encoded)"
   ]
  },
  {
   "cell_type": "markdown",
   "metadata": {},
   "source": [
    "# single_encoder"
   ]
  },
  {
   "cell_type": "code",
   "execution_count": null,
   "metadata": {
    "execution": {
     "iopub.execute_input": "2022-11-14T04:05:37.775421Z",
     "iopub.status.busy": "2022-11-14T04:05:37.775283Z",
     "iopub.status.idle": "2022-11-14T04:05:37.796012Z",
     "shell.execute_reply": "2022-11-14T04:05:37.795616Z",
     "shell.execute_reply.started": "2022-11-14T04:05:37.775410Z"
    },
    "tags": []
   },
   "outputs": [],
   "source": [
    "encoder = (\n",
    "    Frame2TensorDict(\n",
    "        groups={\"key\": [\"run_id\", \"exp_id\"], \"T\": [\"measurement_time\"], \"X\": ...},\n",
    "        dtypes={\"T\": \"float32\", \"X\": \"float32\"},\n",
    "    )\n",
    "    @ Standardizer()\n",
    "    @ FrameEncoder(\n",
    "        column_encoders=column_encoders,\n",
    "        index_encoders={\n",
    "            # \"run_id\": IdentityEncoder(),\n",
    "            # \"exp_id\": IdentityEncoder(),\n",
    "            \"measurement_time\": MinMaxScaler()\n",
    "            @ TimeDeltaEncoder(),\n",
    "        },\n",
    "    )\n",
    ")"
   ]
  },
  {
   "cell_type": "code",
   "execution_count": null,
   "metadata": {
    "execution": {
     "iopub.execute_input": "2022-11-14T04:05:42.631712Z",
     "iopub.status.busy": "2022-11-14T04:05:42.631308Z",
     "iopub.status.idle": "2022-11-14T04:05:45.457041Z",
     "shell.execute_reply": "2022-11-14T04:05:45.456640Z",
     "shell.execute_reply.started": "2022-11-14T04:05:42.631690Z"
    },
    "tags": []
   },
   "outputs": [],
   "source": [
    "ts = task.dataset.timeseries\n",
    "encoder.fit(ts)\n",
    "encoded = encoder.encode(ts)"
   ]
  },
  {
   "cell_type": "code",
   "execution_count": null,
   "metadata": {
    "execution": {
     "iopub.execute_input": "2022-11-14T04:05:45.457905Z",
     "iopub.status.busy": "2022-11-14T04:05:45.457745Z",
     "iopub.status.idle": "2022-11-14T04:05:57.192832Z",
     "shell.execute_reply": "2022-11-14T04:05:57.192350Z",
     "shell.execute_reply.started": "2022-11-14T04:05:45.457892Z"
    },
    "tags": []
   },
   "outputs": [],
   "source": [
    "decoded = encoder.decode(encoded)\n",
    "MAD = (decoded - ts).abs().mean().mean()"
   ]
  },
  {
   "cell_type": "markdown",
   "metadata": {},
   "source": [
    "## Applying to slice"
   ]
  },
  {
   "cell_type": "code",
   "execution_count": null,
   "metadata": {
    "execution": {
     "iopub.execute_input": "2022-11-14T04:05:57.193719Z",
     "iopub.status.busy": "2022-11-14T04:05:57.193597Z",
     "iopub.status.idle": "2022-11-14T04:05:57.239619Z",
     "shell.execute_reply": "2022-11-14T04:05:57.239037Z",
     "shell.execute_reply.started": "2022-11-14T04:05:57.193707Z"
    },
    "tags": []
   },
   "outputs": [],
   "source": [
    "encoded = encoder.encode(sample.inputs.x)"
   ]
  },
  {
   "cell_type": "code",
   "execution_count": null,
   "metadata": {
    "execution": {
     "iopub.execute_input": "2022-11-14T04:06:32.055206Z",
     "iopub.status.busy": "2022-11-14T04:06:32.054909Z",
     "iopub.status.idle": "2022-11-14T04:06:32.111737Z",
     "shell.execute_reply": "2022-11-14T04:06:32.111158Z",
     "shell.execute_reply.started": "2022-11-14T04:06:32.055193Z"
    },
    "tags": []
   },
   "outputs": [],
   "source": [
    "decoded = encoder.decode(encoded)\n",
    "assert (decoded.isna() == sample.inputs.x.isna()).all().all()\n",
    "MAD = (decoded - sample.inputs.x).abs().mean().mean()"
   ]
  },
  {
   "cell_type": "markdown",
   "metadata": {},
   "source": [
    "# Collate_fn"
   ]
  },
  {
   "cell_type": "markdown",
   "metadata": {
    "tags": []
   },
   "source": [
    "## collate_fn with encoder"
   ]
  },
  {
   "cell_type": "code",
   "execution_count": null,
   "metadata": {
    "execution": {
     "iopub.execute_input": "2022-11-14T04:06:47.572323Z",
     "iopub.status.busy": "2022-11-14T04:06:47.572116Z",
     "iopub.status.idle": "2022-11-14T04:06:47.639184Z",
     "shell.execute_reply": "2022-11-14T04:06:47.638847Z",
     "shell.execute_reply.started": "2022-11-14T04:06:47.572307Z"
    },
    "tags": []
   },
   "outputs": [],
   "source": [
    "TX, X = encoder.encode(sample.inputs.x).values()\n",
    "TY, Y = encoder.encode(sample.targets.y).values()"
   ]
  },
  {
   "cell_type": "code",
   "execution_count": null,
   "metadata": {
    "execution": {
     "iopub.execute_input": "2022-11-14T04:11:21.703289Z",
     "iopub.status.busy": "2022-11-14T04:11:21.702886Z",
     "iopub.status.idle": "2022-11-14T04:11:21.723356Z",
     "shell.execute_reply": "2022-11-14T04:11:21.722911Z",
     "shell.execute_reply.started": "2022-11-14T04:11:21.703275Z"
    },
    "tags": []
   },
   "outputs": [],
   "source": [
    "assert sample.inputs.x.isna().sum().sum() == X.isnan().sum()\n",
    "assert sample.targets.y.isna().sum().sum() == Y.isnan().sum()"
   ]
  },
  {
   "cell_type": "code",
   "execution_count": null,
   "metadata": {},
   "outputs": [],
   "source": []
  },
  {
   "cell_type": "code",
   "execution_count": null,
   "metadata": {
    "execution": {
     "iopub.status.busy": "2022-11-14T04:05:20.877241Z",
     "iopub.status.idle": "2022-11-14T04:05:20.877412Z",
     "shell.execute_reply": "2022-11-14T04:05:20.877345Z",
     "shell.execute_reply.started": "2022-11-14T04:05:20.877337Z"
    }
   },
   "outputs": [],
   "source": [
    "x_vals: list[Tensor] = []\n",
    "y_vals: list[Tensor] = []\n",
    "x_time: list[Tensor] = []\n",
    "y_time: list[Tensor] = []\n",
    "x_mask: list[Tensor] = []\n",
    "y_mask: list[Tensor] = []\n",
    "\n",
    "for sample in batch:\n",
    "    t = sample.inputs.x.index\n",
    "    x = sample.inputs.x.values\n",
    "    t_target = sample.inputs.t_target\n",
    "    y = sample.targets.y\n",
    "\n",
    "    # get whole time interval\n",
    "    time = torch.cat((t, t_target))\n",
    "    sorted_idx = torch.argsort(time)\n",
    "\n",
    "    # pad the x-values\n",
    "    x_padding = torch.full(\n",
    "        (t_target.shape[0], x.shape[-1]), fill_value=NAN, device=x.device\n",
    "    )\n",
    "    values = torch.cat((x, x_padding))\n",
    "\n",
    "    # create a mask for looking up the target values\n",
    "    mask_y = y.isfinite()\n",
    "    mask_pad = torch.zeros_like(x, dtype=torch.bool)\n",
    "    mask_x = torch.cat((mask_pad, mask_y))\n",
    "\n",
    "    x_vals.append(values[sorted_idx])\n",
    "    x_time.append(time[sorted_idx])\n",
    "    x_mask.append(mask_x[sorted_idx])\n",
    "\n",
    "    y_time.append(t_target)\n",
    "    y_vals.append(y)\n",
    "    y_mask.append(mask_y)\n",
    "\n",
    "Batch(\n",
    "    x_time=pad_sequence(x_time, batch_first=True).squeeze(),\n",
    "    x_vals=pad_sequence(x_vals, batch_first=True, padding_value=NAN).squeeze(),\n",
    "    x_mask=pad_sequence(x_mask, batch_first=True).squeeze(),\n",
    "    y_time=pad_sequence(y_time, batch_first=True).squeeze(),\n",
    "    y_vals=pad_sequence(y_vals, batch_first=True, padding_value=NAN).squeeze(),\n",
    "    y_mask=pad_sequence(y_mask, batch_first=True).squeeze(),\n",
    ")"
   ]
  },
  {
   "cell_type": "code",
   "execution_count": null,
   "metadata": {
    "execution": {
     "iopub.status.busy": "2022-11-14T04:05:20.877942Z",
     "iopub.status.idle": "2022-11-14T04:05:20.878104Z",
     "shell.execute_reply": "2022-11-14T04:05:20.878036Z",
     "shell.execute_reply.started": "2022-11-14T04:05:20.878029Z"
    },
    "tags": []
   },
   "outputs": [],
   "source": [
    "def collate_fn(batch: list[Sample]) -> Batch:\n",
    "    r\"\"\"Collate tensors into batch.\n",
    "\n",
    "    Transform the data slightly: t, x, t_target → T, X where X[t_target:] = NAN\n",
    "    \"\"\"\n",
    "    x_vals: list[Tensor] = []\n",
    "    y_vals: list[Tensor] = []\n",
    "    x_time: list[Tensor] = []\n",
    "    y_time: list[Tensor] = []\n",
    "    x_mask: list[Tensor] = []\n",
    "    y_mask: list[Tensor] = []\n",
    "\n",
    "    for sample in batch:\n",
    "        t = sample.inputs.x.index\n",
    "        x = sample.inputs.x.values\n",
    "        t_target = sample.inputs.t_target\n",
    "        y = sample.targets.y\n",
    "\n",
    "        # get whole time interval\n",
    "        time = torch.cat((t, t_target))\n",
    "        sorted_idx = torch.argsort(time)\n",
    "\n",
    "        # pad the x-values\n",
    "        x_padding = torch.full(\n",
    "            (t_target.shape[0], x.shape[-1]), fill_value=NAN, device=x.device\n",
    "        )\n",
    "        values = torch.cat((x, x_padding))\n",
    "\n",
    "        # create a mask for looking up the target values\n",
    "        mask_y = y.isfinite()\n",
    "        mask_pad = torch.zeros_like(x, dtype=torch.bool)\n",
    "        mask_x = torch.cat((mask_pad, mask_y))\n",
    "\n",
    "        x_vals.append(values[sorted_idx])\n",
    "        x_time.append(time[sorted_idx])\n",
    "        x_mask.append(mask_x[sorted_idx])\n",
    "\n",
    "        y_time.append(t_target)\n",
    "        y_vals.append(y)\n",
    "        y_mask.append(mask_y)\n",
    "\n",
    "    return Batch(\n",
    "        x_time=pad_sequence(x_time, batch_first=True).squeeze(),\n",
    "        x_vals=pad_sequence(x_vals, batch_first=True, padding_value=NAN).squeeze(),\n",
    "        x_mask=pad_sequence(x_mask, batch_first=True).squeeze(),\n",
    "        y_time=pad_sequence(y_time, batch_first=True).squeeze(),\n",
    "        y_vals=pad_sequence(y_vals, batch_first=True, padding_value=NAN).squeeze(),\n",
    "        y_mask=pad_sequence(y_mask, batch_first=True).squeeze(),\n",
    "    )"
   ]
  },
  {
   "cell_type": "code",
   "execution_count": null,
   "metadata": {},
   "outputs": [],
   "source": []
  },
  {
   "cell_type": "code",
   "execution_count": null,
   "metadata": {},
   "outputs": [],
   "source": []
  },
  {
   "cell_type": "code",
   "execution_count": null,
   "metadata": {
    "execution": {
     "iopub.status.busy": "2022-11-14T04:05:20.878606Z",
     "iopub.status.idle": "2022-11-14T04:05:20.878773Z",
     "shell.execute_reply": "2022-11-14T04:05:20.878704Z",
     "shell.execute_reply.started": "2022-11-14T04:05:20.878697Z"
    },
    "tags": []
   },
   "outputs": [],
   "source": [
    "t = sample.inputs.x.index"
   ]
  },
  {
   "cell_type": "code",
   "execution_count": null,
   "metadata": {
    "execution": {
     "iopub.status.busy": "2022-11-14T04:05:20.879302Z",
     "iopub.status.idle": "2022-11-14T04:05:20.879583Z",
     "shell.execute_reply": "2022-11-14T04:05:20.879509Z",
     "shell.execute_reply.started": "2022-11-14T04:05:20.879500Z"
    },
    "tags": []
   },
   "outputs": [],
   "source": [
    "collate_fn(batch)"
   ]
  },
  {
   "cell_type": "code",
   "execution_count": null,
   "metadata": {},
   "outputs": [],
   "source": []
  },
  {
   "cell_type": "markdown",
   "metadata": {},
   "source": [
    "## collate_fn using encoder!"
   ]
  },
  {
   "cell_type": "code",
   "execution_count": null,
   "metadata": {},
   "outputs": [],
   "source": []
  },
  {
   "cell_type": "code",
   "execution_count": null,
   "metadata": {},
   "outputs": [],
   "source": []
  },
  {
   "cell_type": "code",
   "execution_count": null,
   "metadata": {},
   "outputs": [],
   "source": []
  }
 ],
 "metadata": {
  "kernelspec": {
   "display_name": "Python 3 (ipykernel)",
   "language": "python",
   "name": "python3"
  },
  "language_info": {
   "codemirror_mode": {
    "name": "ipython",
    "version": 3
   },
   "file_extension": ".py",
   "mimetype": "text/x-python",
   "name": "python",
   "nbconvert_exporter": "python",
   "pygments_lexer": "ipython3",
   "version": "3.10.6"
  }
 },
 "nbformat": 4,
 "nbformat_minor": 4
}
