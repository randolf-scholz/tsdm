{
 "cells": [
  {
   "cell_type": "code",
   "execution_count": null,
   "metadata": {
    "tags": [
     "pyflyby-cell"
    ]
   },
   "outputs": [],
   "source": [
    "from typing import final\n",
    "\n",
    "from pandas import DataFrame\n",
    "from sklearn.model_selection import train_test_split\n",
    "from torch.utils.data import Sampler as TorchSampler\n",
    "\n",
    "from tsdm import datasets\n",
    "from tsdm.tasks.base import SplitID, TimeSeriesSampleGenerator, TimeSeriesTask\n",
    "from tsdm.types.variables import key_var as K\n",
    "from tsdm.utils.data import is_partition, folds_as_sparse_frame, folds_as_frame\n",
    "\n",
    "from types import SimpleNamespace"
   ]
  },
  {
   "cell_type": "code",
   "execution_count": null,
   "metadata": {},
   "outputs": [],
   "source": [
    "dataset = datasets.synthetic.DampedPendulum_Ansari2023()\n",
    "timeseries = datasets.TimeSeriesCollection(timeseries=dataset.table)\n",
    "dataset = timeseries"
   ]
  },
  {
   "cell_type": "code",
   "execution_count": null,
   "metadata": {},
   "outputs": [],
   "source": [
    "train_size = 5000\n",
    "valid_size = 1000\n",
    "test_size = 1000"
   ]
  },
  {
   "cell_type": "code",
   "execution_count": null,
   "metadata": {},
   "outputs": [],
   "source": [
    "train_idx, test_idx = train_test_split(\n",
    "    dataset.metaindex,\n",
    "    test_size=test_size,\n",
    ")\n",
    "# get the train and validation split\n",
    "train_idx, valid_idx = train_test_split(\n",
    "    train_idx,\n",
    "    test_size=valid_size,\n",
    ")\n",
    "fold = {\n",
    "    \"train\": train_idx,\n",
    "    \"valid\": valid_idx,\n",
    "    \"test\": test_idx,\n",
    "}\n",
    "assert is_partition(fold.values(), union=dataset.metaindex)"
   ]
  },
  {
   "cell_type": "code",
   "execution_count": null,
   "metadata": {},
   "outputs": [],
   "source": [
    "from tsdm.tasks import DampedPendulum_Ansari2023\n",
    "\n",
    "task = DampedPendulum_Ansari2023(validate=False)"
   ]
  },
  {
   "cell_type": "code",
   "execution_count": null,
   "metadata": {},
   "outputs": [],
   "source": [
    "task.folds"
   ]
  },
  {
   "cell_type": "code",
   "execution_count": null,
   "metadata": {},
   "outputs": [],
   "source": [
    "from tsdm.utils import is_zipfile\n",
    "from pathlib import Path"
   ]
  },
  {
   "cell_type": "code",
   "execution_count": null,
   "metadata": {},
   "outputs": [],
   "source": [
    "is_zipfile(Path(\"/home/rscholz/.tsdm/models/LinODEnet/2022-12-01//270\"))"
   ]
  },
  {
   "cell_type": "markdown",
   "metadata": {},
   "source": [
    "## Reference: Kiwi-Task"
   ]
  },
  {
   "cell_type": "code",
   "execution_count": null,
   "metadata": {},
   "outputs": [],
   "source": [
    "from tsdm.tasks import KiwiTask\n",
    "\n",
    "task = KiwiTask()"
   ]
  },
  {
   "cell_type": "code",
   "execution_count": null,
   "metadata": {},
   "outputs": [],
   "source": []
  }
 ],
 "metadata": {
  "kernelspec": {
   "display_name": "Python 3 (ipykernel)",
   "language": "python",
   "name": "python3"
  },
  "language_info": {
   "codemirror_mode": {
    "name": "ipython",
    "version": 3
   },
   "file_extension": ".py",
   "mimetype": "text/x-python",
   "name": "python",
   "nbconvert_exporter": "python",
   "pygments_lexer": "ipython3",
   "version": "3.10.13"
  }
 },
 "nbformat": 4,
 "nbformat_minor": 4
}
