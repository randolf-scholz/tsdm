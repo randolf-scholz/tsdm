{
 "cells": [
  {
   "cell_type": "markdown",
   "metadata": {},
   "source": [
    "# Sample Template"
   ]
  },
  {
   "cell_type": "markdown",
   "metadata": {},
   "source": [
    "Here is some sample text, and a first block of code"
   ]
  },
  {
   "cell_type": "code",
   "execution_count": null,
   "metadata": {
    "execution": {
     "iopub.execute_input": "2023-08-11T11:38:57.282953Z",
     "iopub.status.busy": "2023-08-11T11:38:57.282790Z",
     "iopub.status.idle": "2023-08-11T11:38:57.285118Z",
     "shell.execute_reply": "2023-08-11T11:38:57.284791Z",
     "shell.execute_reply.started": "2023-08-11T11:38:57.282940Z"
    },
    "tags": []
   },
   "outputs": [],
   "source": [
    "import argparse\n",
    "import ast\n",
    "from collections.abc import Iterator\n",
    "from pathlib import Path"
   ]
  },
  {
   "cell_type": "code",
   "execution_count": null,
   "metadata": {
    "execution": {
     "iopub.execute_input": "2023-08-11T11:53:00.505427Z",
     "iopub.status.busy": "2023-08-11T11:53:00.505265Z",
     "iopub.status.idle": "2023-08-11T11:53:00.508708Z",
     "shell.execute_reply": "2023-08-11T11:53:00.508405Z",
     "shell.execute_reply.started": "2023-08-11T11:53:00.505414Z"
    },
    "tags": []
   },
   "outputs": [],
   "source": [
    "with open(\"../src/tsdm/backend/pyarrow.py\", \"r\") as file:\n",
    "    tree = ast.parse(file.read())"
   ]
  },
  {
   "cell_type": "code",
   "execution_count": null,
   "metadata": {
    "execution": {
     "iopub.execute_input": "2023-08-11T11:53:02.803262Z",
     "iopub.status.busy": "2023-08-11T11:53:02.803099Z",
     "iopub.status.idle": "2023-08-11T11:53:02.807900Z",
     "shell.execute_reply": "2023-08-11T11:53:02.807577Z",
     "shell.execute_reply.started": "2023-08-11T11:53:02.803249Z"
    },
    "tags": []
   },
   "outputs": [],
   "source": [
    "def get_attributes(tree: ast.AST) -> Iterator[ast.Attribute]:\n",
    "    \"\"\"Get all attribute nodes.\"\"\"\n",
    "    for node in ast.walk(tree):\n",
    "        if isinstance(node, ast.Attribute):\n",
    "            yield node\n",
    "\n",
    "\n",
    "def get_type_hints(tree: ast.AST) -> Iterator[ast.AST]:\n",
    "    \"\"\"Get all nodes that are type hints.\"\"\"\n",
    "    for node in ast.walk(tree):\n",
    "        ann = getattr(node, \"annotation\", None)\n",
    "        if ann is not None:\n",
    "            yield ann\n",
    "\n",
    "\n",
    "def get_imported_symbols(tree: ast.AST) -> dict[str, str]:\n",
    "    \"\"\"Get all imported symbols.\"\"\"\n",
    "    imported_symbols = {}\n",
    "\n",
    "    for node in ast.walk(tree):\n",
    "        if isinstance(node, ast.Import):\n",
    "            for alias in node.names:\n",
    "                imported_symbols[alias.asname or alias.name] = alias.name\n",
    "        elif isinstance(node, ast.ImportFrom):\n",
    "            module_name = node.module\n",
    "            if module_name is not None:\n",
    "                for alias in node.names:\n",
    "                    full_name = f\"{module_name}.{alias.name}\"\n",
    "                    imported_symbols[alias.asname or alias.name] = full_name\n",
    "\n",
    "    return imported_symbols\n",
    "\n",
    "\n",
    "def get_attrs_shadow_imported(tree: ast.AST) -> Iterator[ast.Attribute]:\n",
    "    \"\"\"Get attribute nodes that shadow directly imported symbols.\"\"\"\n",
    "    imported_symbols = get_imported_symbols(tree)\n",
    "\n",
    "    for node in get_type_hints(tree):\n",
    "        for attr in get_attributes(node):\n",
    "            if attr.attr in imported_symbols:\n",
    "                yield attr"
   ]
  },
  {
   "cell_type": "code",
   "execution_count": null,
   "metadata": {
    "execution": {
     "iopub.execute_input": "2023-08-11T14:11:21.987556Z",
     "iopub.status.busy": "2023-08-11T14:11:21.987391Z",
     "iopub.status.idle": "2023-08-11T14:11:21.990588Z",
     "shell.execute_reply": "2023-08-11T14:11:21.990247Z",
     "shell.execute_reply.started": "2023-08-11T14:11:21.987543Z"
    },
    "tags": []
   },
   "outputs": [],
   "source": [
    "nodes = list(get_attrs_shadow_imported(tree))"
   ]
  },
  {
   "cell_type": "code",
   "execution_count": null,
   "metadata": {
    "execution": {
     "iopub.execute_input": "2023-08-11T14:12:04.114589Z",
     "iopub.status.busy": "2023-08-11T14:12:04.114411Z",
     "iopub.status.idle": "2023-08-11T14:12:04.117492Z",
     "shell.execute_reply": "2023-08-11T14:12:04.117223Z",
     "shell.execute_reply.started": "2023-08-11T14:12:04.114576Z"
    },
    "tags": []
   },
   "outputs": [],
   "source": [
    "vars(nodes[0].value.value.value.ctx)"
   ]
  },
  {
   "cell_type": "code",
   "execution_count": null,
   "metadata": {
    "execution": {
     "iopub.execute_input": "2023-08-11T14:13:17.836510Z",
     "iopub.status.busy": "2023-08-11T14:13:17.836335Z",
     "iopub.status.idle": "2023-08-11T14:13:18.041248Z",
     "shell.execute_reply": "2023-08-11T14:13:18.040755Z",
     "shell.execute_reply.started": "2023-08-11T14:13:17.836498Z"
    },
    "tags": []
   },
   "outputs": [],
   "source": [
    "vars(nodes[0].value.value.attr)"
   ]
  },
  {
   "cell_type": "code",
   "execution_count": null,
   "metadata": {
    "execution": {
     "iopub.execute_input": "2023-08-11T11:47:17.394927Z",
     "iopub.status.busy": "2023-08-11T11:47:17.394776Z",
     "iopub.status.idle": "2023-08-11T11:47:17.397708Z",
     "shell.execute_reply": "2023-08-11T11:47:17.397423Z",
     "shell.execute_reply.started": "2023-08-11T11:47:17.394915Z"
    },
    "tags": []
   },
   "outputs": [],
   "source": []
  },
  {
   "cell_type": "code",
   "execution_count": null,
   "metadata": {},
   "outputs": [],
   "source": []
  },
  {
   "cell_type": "code",
   "execution_count": null,
   "metadata": {
    "execution": {
     "iopub.execute_input": "2023-08-11T09:50:55.722005Z",
     "iopub.status.busy": "2023-08-11T09:50:55.721847Z",
     "iopub.status.idle": "2023-08-11T09:50:55.724523Z",
     "shell.execute_reply": "2023-08-11T09:50:55.724038Z",
     "shell.execute_reply.started": "2023-08-11T09:50:55.721993Z"
    },
    "tags": []
   },
   "outputs": [],
   "source": [
    "for node in ast.walk(tree):\n",
    "    if isinstance(node, ast.ImportFrom):\n",
    "        break"
   ]
  },
  {
   "cell_type": "code",
   "execution_count": null,
   "metadata": {},
   "outputs": [],
   "source": [
    "for node in ast.walk(tree):\n",
    "    if isinstance(node, ast.AnnAssign) and isinstance(node.annotation, ast.Name):"
   ]
  },
  {
   "cell_type": "code",
   "execution_count": null,
   "metadata": {},
   "outputs": [],
   "source": []
  },
  {
   "cell_type": "code",
   "execution_count": null,
   "metadata": {},
   "outputs": [],
   "source": []
  },
  {
   "cell_type": "code",
   "execution_count": null,
   "metadata": {},
   "outputs": [],
   "source": []
  },
  {
   "cell_type": "code",
   "execution_count": null,
   "metadata": {},
   "outputs": [],
   "source": []
  },
  {
   "cell_type": "code",
   "execution_count": null,
   "metadata": {},
   "outputs": [],
   "source": [
    "def get_type_hints"
   ]
  },
  {
   "cell_type": "code",
   "execution_count": null,
   "metadata": {},
   "outputs": [],
   "source": [
    "def get_type_hints(node: ast.FunctionDef):"
   ]
  },
  {
   "cell_type": "code",
   "execution_count": null,
   "metadata": {
    "execution": {
     "iopub.execute_input": "2023-08-11T11:21:43.694821Z",
     "iopub.status.busy": "2023-08-11T11:21:43.694654Z",
     "iopub.status.idle": "2023-08-11T11:21:43.711165Z",
     "shell.execute_reply": "2023-08-11T11:21:43.710580Z",
     "shell.execute_reply.started": "2023-08-11T11:21:43.694807Z"
    },
    "tags": []
   },
   "outputs": [],
   "source": [
    "def extract_type_hints(tree):\n",
    "    for node in ast.walk(tree):\n",
    "        if isinstance(node, ast.AnnAssign):\n",
    "            return node\n",
    "            for arg in node.args.args:\n",
    "                if arg.annotation:\n",
    "                    lineno, col_offset = (\n",
    "                        arg.annotation.lineno,\n",
    "                        arg.annotation.col_offset,\n",
    "                    )\n",
    "                    type_hint = ast.dump(arg.annotation)\n",
    "                    print(\n",
    "                        f\"Function: {node.name}, Argument: {arg.arg}, Type Hint: {type_hint}, Line: {lineno}, Column: {col_offset}\"\n",
    "                    )\n",
    "\n",
    "\n",
    "node = extract_type_hints(tree)\n",
    "ARG = node.args.posonlyargs[0]\n",
    "ANN = ARG.annotation\n",
    "display(type(ANN), ANN)\n",
    "display(vars(ANN))\n",
    "display(vars(ANN.value))\n",
    "display(ANN.attr)"
   ]
  },
  {
   "cell_type": "code",
   "execution_count": null,
   "metadata": {
    "execution": {
     "iopub.execute_input": "2023-08-11T11:29:12.562116Z",
     "iopub.status.busy": "2023-08-11T11:29:12.560976Z",
     "iopub.status.idle": "2023-08-11T11:29:12.567546Z",
     "shell.execute_reply": "2023-08-11T11:29:12.566740Z",
     "shell.execute_reply.started": "2023-08-11T11:29:12.562085Z"
    },
    "tags": []
   },
   "outputs": [],
   "source": [
    "def extract_type_hints(tree):\n",
    "    for node in ast.walk(tree):\n",
    "        ann = getattr(node, \"annotation\", None)\n",
    "        if ann is not None:\n",
    "            yield ann"
   ]
  },
  {
   "cell_type": "code",
   "execution_count": null,
   "metadata": {
    "execution": {
     "iopub.execute_input": "2023-08-11T11:10:21.840578Z",
     "iopub.status.busy": "2023-08-11T11:10:21.840371Z",
     "iopub.status.idle": "2023-08-11T11:10:21.843906Z",
     "shell.execute_reply": "2023-08-11T11:10:21.843452Z",
     "shell.execute_reply.started": "2023-08-11T11:10:21.840564Z"
    },
    "tags": []
   },
   "outputs": [],
   "source": [
    "def get_type_hint(arg: ast.arg) -> ast.AST:\n",
    "    if arg.annotation is not None:\n",
    "        yield arg.annotation\n",
    "\n",
    "\n",
    "def get_type_hints(args: ast.arguments) -> Iterator[ast.AST]:\n",
    "    for arg in args.posonlyargs:\n",
    "        yield from get_type_hint(arg)\n",
    "    for arg in args.args:\n",
    "        yield from get_type_hint(arg)\n",
    "    if args.vararg is not None:\n",
    "        yield from get_type_hint(args.vararg)\n",
    "    for arg in args.kwonlyargs:\n",
    "        yield from get_type_hint(arg)\n",
    "    if args.kwarg is not None:\n",
    "        yield from get_type_hint(arg)"
   ]
  },
  {
   "cell_type": "code",
   "execution_count": null,
   "metadata": {
    "execution": {
     "iopub.execute_input": "2023-08-11T11:10:22.473706Z",
     "iopub.status.busy": "2023-08-11T11:10:22.473545Z",
     "iopub.status.idle": "2023-08-11T11:10:22.476866Z",
     "shell.execute_reply": "2023-08-11T11:10:22.476506Z",
     "shell.execute_reply.started": "2023-08-11T11:10:22.473694Z"
    },
    "tags": []
   },
   "outputs": [],
   "source": [
    "list(get_type_hints(node.args))"
   ]
  },
  {
   "cell_type": "code",
   "execution_count": null,
   "metadata": {
    "execution": {
     "iopub.execute_input": "2023-08-11T11:08:51.381952Z",
     "iopub.status.busy": "2023-08-11T11:08:51.381757Z",
     "iopub.status.idle": "2023-08-11T11:08:51.395921Z",
     "shell.execute_reply": "2023-08-11T11:08:51.395532Z",
     "shell.execute_reply.started": "2023-08-11T11:08:51.381930Z"
    },
    "tags": []
   },
   "outputs": [],
   "source": [
    "def extract_type_hints(tree):\n",
    "    for node in ast.walk(tree):\n",
    "        if isinstance(node, ast.FunctionDef):\n",
    "            return node\n",
    "            for arg in node.args.args:\n",
    "                if arg.annotation:\n",
    "                    lineno, col_offset = (\n",
    "                        arg.annotation.lineno,\n",
    "                        arg.annotation.col_offset,\n",
    "                    )\n",
    "                    type_hint = ast.dump(arg.annotation)\n",
    "                    print(\n",
    "                        f\"Function: {node.name}, Argument: {arg.arg}, Type Hint: {type_hint}, Line: {lineno}, Column: {col_offset}\"\n",
    "                    )\n",
    "\n",
    "\n",
    "node = extract_type_hints(tree)\n",
    "ARG = node.args.posonlyargs[0]\n",
    "display(vars(ARG))\n",
    "ANN = ARG.annotation\n",
    "display(type(ANN), ANN)\n",
    "display(vars(ANN))\n",
    "display(vars(ANN.value))\n",
    "display(ANN.attr)"
   ]
  },
  {
   "cell_type": "code",
   "execution_count": null,
   "metadata": {
    "execution": {
     "iopub.execute_input": "2023-08-11T11:07:29.138911Z",
     "iopub.status.busy": "2023-08-11T11:07:29.138682Z",
     "iopub.status.idle": "2023-08-11T11:07:29.143107Z",
     "shell.execute_reply": "2023-08-11T11:07:29.142734Z",
     "shell.execute_reply.started": "2023-08-11T11:07:29.138886Z"
    },
    "tags": []
   },
   "outputs": [],
   "source": [
    "ARG"
   ]
  },
  {
   "cell_type": "code",
   "execution_count": null,
   "metadata": {},
   "outputs": [],
   "source": []
  },
  {
   "cell_type": "code",
   "execution_count": null,
   "metadata": {
    "execution": {
     "iopub.execute_input": "2023-08-11T11:03:51.809282Z",
     "iopub.status.busy": "2023-08-11T11:03:51.809109Z",
     "iopub.status.idle": "2023-08-11T11:03:51.812627Z",
     "shell.execute_reply": "2023-08-11T11:03:51.812184Z",
     "shell.execute_reply.started": "2023-08-11T11:03:51.809270Z"
    },
    "tags": []
   },
   "outputs": [],
   "source": [
    "type(node.args)"
   ]
  },
  {
   "cell_type": "code",
   "execution_count": null,
   "metadata": {
    "execution": {
     "iopub.execute_input": "2023-08-11T11:03:47.822115Z",
     "iopub.status.busy": "2023-08-11T11:03:47.821841Z",
     "iopub.status.idle": "2023-08-11T11:03:47.827333Z",
     "shell.execute_reply": "2023-08-11T11:03:47.826861Z",
     "shell.execute_reply.started": "2023-08-11T11:03:47.822098Z"
    },
    "tags": []
   },
   "outputs": [],
   "source": [
    "type(node.args.posonlyargs[0])"
   ]
  },
  {
   "cell_type": "code",
   "execution_count": null,
   "metadata": {
    "execution": {
     "iopub.execute_input": "2023-08-11T10:56:33.777604Z",
     "iopub.status.busy": "2023-08-11T10:56:33.777390Z",
     "iopub.status.idle": "2023-08-11T10:56:33.780696Z",
     "shell.execute_reply": "2023-08-11T10:56:33.780352Z",
     "shell.execute_reply.started": "2023-08-11T10:56:33.777591Z"
    },
    "tags": []
   },
   "outputs": [],
   "source": [
    "ast.dump(node.args.posonlyargs[0].annotation)"
   ]
  },
  {
   "cell_type": "code",
   "execution_count": null,
   "metadata": {},
   "outputs": [],
   "source": [
    "\"posonlyargs\",\n",
    "\"args\",\n",
    "\"vararg\"\n",
    "\"kwonlyargs\",\n",
    "\"kwarg\","
   ]
  },
  {
   "cell_type": "code",
   "execution_count": null,
   "metadata": {},
   "outputs": [],
   "source": [
    "def get_type_hints(node: ast.FunctionDef):\n",
    "    args = node.args\n",
    "    if args.posonlyargs:\n",
    "        ...\n",
    "    if args.args:\n",
    "        ...\n",
    "    if args.vararg is not None:\n",
    "        ...\n",
    "    if args.kwonlyargs:\n",
    "        ...\n",
    "    if args.kwarg is not None:\n",
    "        ..."
   ]
  },
  {
   "cell_type": "code",
   "execution_count": null,
   "metadata": {},
   "outputs": [],
   "source": []
  },
  {
   "cell_type": "code",
   "execution_count": null,
   "metadata": {
    "execution": {
     "iopub.execute_input": "2023-08-11T10:54:56.226938Z",
     "iopub.status.busy": "2023-08-11T10:54:56.226458Z",
     "iopub.status.idle": "2023-08-11T10:54:56.230285Z",
     "shell.execute_reply": "2023-08-11T10:54:56.229769Z",
     "shell.execute_reply.started": "2023-08-11T10:54:56.226913Z"
    },
    "tags": []
   },
   "outputs": [],
   "source": []
  },
  {
   "cell_type": "code",
   "execution_count": null,
   "metadata": {
    "execution": {
     "iopub.execute_input": "2023-08-11T10:06:16.752564Z",
     "iopub.status.busy": "2023-08-11T10:06:16.752213Z",
     "iopub.status.idle": "2023-08-11T10:06:16.755724Z",
     "shell.execute_reply": "2023-08-11T10:06:16.755439Z",
     "shell.execute_reply.started": "2023-08-11T10:06:16.752547Z"
    },
    "tags": []
   },
   "outputs": [],
   "source": [
    "vars(node.args)"
   ]
  },
  {
   "cell_type": "code",
   "execution_count": null,
   "metadata": {},
   "outputs": [],
   "source": []
  },
  {
   "cell_type": "code",
   "execution_count": null,
   "metadata": {
    "execution": {
     "iopub.execute_input": "2023-08-11T10:01:35.889958Z",
     "iopub.status.busy": "2023-08-11T10:01:35.889731Z",
     "iopub.status.idle": "2023-08-11T10:01:35.893077Z",
     "shell.execute_reply": "2023-08-11T10:01:35.892770Z",
     "shell.execute_reply.started": "2023-08-11T10:01:35.889944Z"
    },
    "tags": []
   },
   "outputs": [],
   "source": [
    "dir(node.args)"
   ]
  },
  {
   "cell_type": "code",
   "execution_count": null,
   "metadata": {},
   "outputs": [],
   "source": [
    "ast.arg"
   ]
  },
  {
   "cell_type": "code",
   "execution_count": null,
   "metadata": {
    "execution": {
     "iopub.execute_input": "2023-08-11T09:51:19.697688Z",
     "iopub.status.busy": "2023-08-11T09:51:19.697492Z",
     "iopub.status.idle": "2023-08-11T09:51:19.700304Z",
     "shell.execute_reply": "2023-08-11T09:51:19.700035Z",
     "shell.execute_reply.started": "2023-08-11T09:51:19.697675Z"
    },
    "tags": []
   },
   "outputs": [],
   "source": [
    "vars(node)"
   ]
  },
  {
   "cell_type": "code",
   "execution_count": null,
   "metadata": {
    "execution": {
     "iopub.execute_input": "2023-08-04T16:39:24.591698Z",
     "iopub.status.busy": "2023-08-04T16:39:24.590984Z",
     "iopub.status.idle": "2023-08-04T16:39:24.595149Z",
     "shell.execute_reply": "2023-08-04T16:39:24.594674Z",
     "shell.execute_reply.started": "2023-08-04T16:39:24.591666Z"
    },
    "tags": []
   },
   "outputs": [],
   "source": [
    "from typing import Any, Protocol, runtime_checkable\n",
    "\n",
    "\n",
    "@runtime_checkable\n",
    "class Top(Protocol):\n",
    "    \"\"\"Represents the top type.\"\"\"\n",
    "\n",
    "\n",
    "assert issubclass(object, Top)\n",
    "assert issubclass(Top, object)"
   ]
  },
  {
   "cell_type": "code",
   "execution_count": null,
   "metadata": {
    "execution": {
     "iopub.execute_input": "2023-08-04T16:39:34.844990Z",
     "iopub.status.busy": "2023-08-04T16:39:34.844452Z",
     "iopub.status.idle": "2023-08-04T16:39:34.894988Z",
     "shell.execute_reply": "2023-08-04T16:39:34.894004Z",
     "shell.execute_reply.started": "2023-08-04T16:39:34.844961Z"
    },
    "tags": []
   },
   "outputs": [],
   "source": [
    "issubclass(Any, Top)"
   ]
  },
  {
   "cell_type": "code",
   "execution_count": null,
   "metadata": {
    "execution": {
     "iopub.execute_input": "2023-08-04T16:31:04.636136Z",
     "iopub.status.busy": "2023-08-04T16:31:04.635803Z",
     "iopub.status.idle": "2023-08-04T16:31:04.638753Z",
     "shell.execute_reply": "2023-08-04T16:31:04.638205Z",
     "shell.execute_reply.started": "2023-08-04T16:31:04.636119Z"
    },
    "tags": []
   },
   "outputs": [],
   "source": [
    "from typing import _SpecialForm"
   ]
  },
  {
   "cell_type": "code",
   "execution_count": null,
   "metadata": {
    "execution": {
     "iopub.execute_input": "2023-08-04T16:33:11.135003Z",
     "iopub.status.busy": "2023-08-04T16:33:11.134192Z",
     "iopub.status.idle": "2023-08-04T16:33:11.139476Z",
     "shell.execute_reply": "2023-08-04T16:33:11.139005Z",
     "shell.execute_reply.started": "2023-08-04T16:33:11.134960Z"
    },
    "tags": []
   },
   "outputs": [],
   "source": [
    "isinstance(..., object)"
   ]
  },
  {
   "cell_type": "code",
   "execution_count": null,
   "metadata": {
    "execution": {
     "iopub.execute_input": "2023-08-03T22:38:51.490597Z",
     "iopub.status.busy": "2023-08-03T22:38:51.490367Z",
     "iopub.status.idle": "2023-08-03T22:38:51.771051Z",
     "shell.execute_reply": "2023-08-03T22:38:51.770680Z",
     "shell.execute_reply.started": "2023-08-03T22:38:51.490576Z"
    },
    "tags": []
   },
   "outputs": [],
   "source": [
    "%config InteractiveShell.ast_node_interactivity='last_expr_or_assign'  # always print last expr.\n",
    "%config InlineBackend.figure_format = 'svg'\n",
    "%load_ext autoreload\n",
    "%autoreload 2\n",
    "%matplotlib inline\n",
    "\n",
    "import logging\n",
    "\n",
    "logging.basicConfig(level=logging.INFO)"
   ]
  },
  {
   "cell_type": "code",
   "execution_count": null,
   "metadata": {
    "execution": {
     "iopub.execute_input": "2023-08-03T22:38:51.771901Z",
     "iopub.status.busy": "2023-08-03T22:38:51.771744Z",
     "iopub.status.idle": "2023-08-03T22:38:53.283691Z",
     "shell.execute_reply": "2023-08-03T22:38:53.283246Z",
     "shell.execute_reply.started": "2023-08-03T22:38:51.771890Z"
    },
    "tags": []
   },
   "outputs": [],
   "source": [
    "import tsdm"
   ]
  },
  {
   "cell_type": "code",
   "execution_count": null,
   "metadata": {
    "execution": {
     "iopub.execute_input": "2023-08-03T22:38:53.284408Z",
     "iopub.status.busy": "2023-08-03T22:38:53.284176Z",
     "iopub.status.idle": "2023-08-03T22:38:54.276057Z",
     "shell.execute_reply": "2023-08-03T22:38:54.275449Z",
     "shell.execute_reply.started": "2023-08-03T22:38:53.284398Z"
    }
   },
   "outputs": [],
   "source": [
    "ds = tsdm.datasets.PhysioNet2019()"
   ]
  },
  {
   "cell_type": "code",
   "execution_count": null,
   "metadata": {},
   "outputs": [],
   "source": []
  },
  {
   "cell_type": "code",
   "execution_count": null,
   "metadata": {},
   "outputs": [],
   "source": []
  },
  {
   "cell_type": "code",
   "execution_count": null,
   "metadata": {},
   "outputs": [],
   "source": []
  },
  {
   "cell_type": "code",
   "execution_count": null,
   "metadata": {
    "execution": {
     "iopub.execute_input": "2023-08-03T22:28:21.520230Z",
     "iopub.status.busy": "2023-08-03T22:28:21.520045Z",
     "iopub.status.idle": "2023-08-03T22:28:21.528428Z",
     "shell.execute_reply": "2023-08-03T22:28:21.527980Z",
     "shell.execute_reply.started": "2023-08-03T22:28:21.520219Z"
    }
   },
   "outputs": [],
   "source": [
    "ds.metadata"
   ]
  },
  {
   "cell_type": "code",
   "execution_count": null,
   "metadata": {
    "execution": {
     "iopub.execute_input": "2023-08-03T22:39:34.771680Z",
     "iopub.status.busy": "2023-08-03T22:39:34.771435Z",
     "iopub.status.idle": "2023-08-03T22:39:34.798305Z",
     "shell.execute_reply": "2023-08-03T22:39:34.797861Z",
     "shell.execute_reply.started": "2023-08-03T22:39:34.771662Z"
    }
   },
   "outputs": [],
   "source": [
    "import pandas as pd\n",
    "import pyarrow as pa\n",
    "\n",
    "pa_dict = pa.dictionary(pa.int32(), pa.string())\n",
    "pd_dict = pd.ArrowDtype(pa_dict)\n",
    "\n",
    "# create table in pyarrow\n",
    "data = {\"foo\": [1, 2], \"bar\": [\"a\", \"b\"]}\n",
    "schema = {\"foo\": int, \"bar\": \"category\"}\n",
    "\n",
    "df = pd.DataFrame(data).astype(schema)\n",
    "df.to_parquet(\"foo\")\n",
    "df_loaded = pd.read_parquet(\"foo\", dtype_backend=\"pyarrow\")\n",
    "\n",
    "\n",
    "assert df_loaded.bar.dtype == pd_dict"
   ]
  },
  {
   "cell_type": "code",
   "execution_count": null,
   "metadata": {
    "execution": {
     "iopub.execute_input": "2023-08-03T22:27:14.182952Z",
     "iopub.status.busy": "2023-08-03T22:27:14.182584Z",
     "iopub.status.idle": "2023-08-03T22:27:14.187865Z",
     "shell.execute_reply": "2023-08-03T22:27:14.187304Z",
     "shell.execute_reply.started": "2023-08-03T22:27:14.182920Z"
    }
   },
   "outputs": [],
   "source": [
    "df_loaded.bar.dtype == df.bar.dtype"
   ]
  },
  {
   "cell_type": "code",
   "execution_count": null,
   "metadata": {
    "execution": {
     "iopub.execute_input": "2023-08-03T22:27:00.409335Z",
     "iopub.status.busy": "2023-08-03T22:27:00.408961Z",
     "iopub.status.idle": "2023-08-03T22:27:00.413204Z",
     "shell.execute_reply": "2023-08-03T22:27:00.412617Z",
     "shell.execute_reply.started": "2023-08-03T22:27:00.409314Z"
    }
   },
   "outputs": [],
   "source": []
  },
  {
   "cell_type": "code",
   "execution_count": null,
   "metadata": {
    "execution": {
     "iopub.execute_input": "2023-08-03T22:26:48.955929Z",
     "iopub.status.busy": "2023-08-03T22:26:48.955465Z",
     "iopub.status.idle": "2023-08-03T22:26:48.964124Z",
     "shell.execute_reply": "2023-08-03T22:26:48.963632Z",
     "shell.execute_reply.started": "2023-08-03T22:26:48.955908Z"
    }
   },
   "outputs": [],
   "source": [
    "import pandas as pd\n",
    "import pyarrow as pa\n",
    "\n",
    "pa_dict = pa.dictionary(pa.int32(), pa.string())\n",
    "pd_dict = pd.ArrowDtype(pa_dict)\n",
    "\n",
    "# create table in pyarrow\n",
    "data = {\"foo\": [1, 2], \"bar\": [\"a\", \"b\"]}\n",
    "schema = pa.schema({\"foo\": pa.int32(), \"bar\": pa_dict})\n",
    "table = pa.table(data, schema=schema)\n",
    "\n",
    "# serialize in arrow and loading to pandas works\n",
    "pa.parquet.write_table(table, \"demo.parquet\")\n",
    "df = pd.read_parquet(\"demo.parquet\", dtype_backend=\"pyarrow\")\n",
    "\n",
    "assert df.bar.dtype == pd_dict  # ✔ the dtype is dictionary[int32,string]\n",
    "\n",
    "# # saving and re-loading doesn't\n",
    "# df.to_parquet(\"demo2.parquet\")\n",
    "# pd.read_parquet(\"demo2.parquet\", dtype_backend=\"pyarrow\")"
   ]
  },
  {
   "cell_type": "code",
   "execution_count": null,
   "metadata": {
    "execution": {
     "iopub.execute_input": "2023-08-03T22:22:13.902430Z",
     "iopub.status.busy": "2023-08-03T22:22:13.901737Z",
     "iopub.status.idle": "2023-08-03T22:22:13.937018Z",
     "shell.execute_reply": "2023-08-03T22:22:13.936300Z",
     "shell.execute_reply.started": "2023-08-03T22:22:13.902404Z"
    }
   },
   "outputs": [],
   "source": [
    "pa.__version__"
   ]
  },
  {
   "cell_type": "code",
   "execution_count": null,
   "metadata": {
    "execution": {
     "iopub.execute_input": "2023-08-03T21:55:43.022323Z",
     "iopub.status.busy": "2023-08-03T21:55:43.021912Z",
     "iopub.status.idle": "2023-08-03T21:55:46.911472Z",
     "shell.execute_reply": "2023-08-03T21:55:46.911035Z",
     "shell.execute_reply.started": "2023-08-03T21:55:43.022300Z"
    }
   },
   "outputs": [],
   "source": [
    "ds.timeseries.hist(figsize=(20, 12), density=True, log=True, bins=20);"
   ]
  },
  {
   "cell_type": "code",
   "execution_count": null,
   "metadata": {
    "execution": {
     "iopub.execute_input": "2023-08-03T20:25:56.123886Z",
     "iopub.status.busy": "2023-08-03T20:25:56.123499Z",
     "iopub.status.idle": "2023-08-03T20:25:56.157165Z",
     "shell.execute_reply": "2023-08-03T20:25:56.156506Z",
     "shell.execute_reply.started": "2023-08-03T20:25:56.123853Z"
    }
   },
   "outputs": [],
   "source": [
    "import pandas as pd\n",
    "import pyarrow as pa"
   ]
  },
  {
   "cell_type": "code",
   "execution_count": null,
   "metadata": {
    "execution": {
     "iopub.execute_input": "2023-08-03T20:26:25.771370Z",
     "iopub.status.busy": "2023-08-03T20:26:25.771101Z",
     "iopub.status.idle": "2023-08-03T20:26:25.836015Z",
     "shell.execute_reply": "2023-08-03T20:26:25.835629Z",
     "shell.execute_reply.started": "2023-08-03T20:26:25.771353Z"
    }
   },
   "outputs": [],
   "source": [
    "ts = ds.timeseries.astype({\"wd\": pd.ArrowDtype(pa.dictionary(pa.int32(), pa.string()))})"
   ]
  },
  {
   "cell_type": "code",
   "execution_count": null,
   "metadata": {
    "execution": {
     "iopub.execute_input": "2023-08-03T20:52:36.159038Z",
     "iopub.status.busy": "2023-08-03T20:52:36.158585Z",
     "iopub.status.idle": "2023-08-03T20:52:36.245105Z",
     "shell.execute_reply": "2023-08-03T20:52:36.244561Z",
     "shell.execute_reply.started": "2023-08-03T20:52:36.159028Z"
    }
   },
   "outputs": [],
   "source": [
    "import pandas as pd\n",
    "import pyarrow as pa\n",
    "\n",
    "pa_dict = pa.dictionary(pa.int32(), pa.string())\n",
    "pd_dict = pd.ArrowDtype(pa_dict)\n",
    "\n",
    "# create table in pyarrow\n",
    "data = {\"foo\": [1, 2], \"bar\": [\"a\", \"b\"]}\n",
    "schema = pa.schema({\"foo\": pa.int32(), \"bar\": pa_dict})\n",
    "table = pa.table(data, schema=schema)\n",
    "\n",
    "# serliaze in arrow and loading to pandas works\n",
    "pa.parquet.write_table(table, \"demo.parquet\")\n",
    "df = pd.read_parquet(\"demo.parquet\", dtype_backend=\"pyarrow\")\n",
    "\n",
    "assert df.bar.dtype == pd_dict  # ✔ the dtype is dictionary[int32,string]\n",
    "\n",
    "# saving and re-loading doesn't\n",
    "df.to_parquet(\"demo2.parquet\")\n",
    "pd.read_parquet(\"demo2.parquet\", dtype_backend=\"pyarrow\")"
   ]
  },
  {
   "cell_type": "code",
   "execution_count": null,
   "metadata": {},
   "outputs": [],
   "source": []
  }
 ],
 "metadata": {
  "kernelspec": {
   "display_name": "Python 3 (ipykernel)",
   "language": "python",
   "name": "python3"
  },
  "language_info": {
   "codemirror_mode": {
    "name": "ipython",
    "version": 3
   },
   "file_extension": ".py",
   "mimetype": "text/x-python",
   "name": "python",
   "nbconvert_exporter": "python",
   "pygments_lexer": "ipython3",
   "version": "3.11.3"
  }
 },
 "nbformat": 4,
 "nbformat_minor": 4
}
