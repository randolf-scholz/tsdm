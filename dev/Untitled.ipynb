{
 "cells": [
  {
   "cell_type": "code",
   "execution_count": null,
   "metadata": {
    "tags": []
   },
   "source": [
    "%config InteractiveShell.ast_node_interactivity='last_expr_or_assign'  # always print last expr."
   ],
   "outputs": []
  },
  {
   "cell_type": "code",
   "execution_count": null,
   "metadata": {},
   "source": [
    "import pyarrow as pa\n",
    "from pyarrow.lib import ArrowNotImplementedError\n",
    "\n",
    "i8 = pa.int8()\n",
    "i64 = pa.int64()\n",
    "i32 = pa.int32()\n",
    "f64 = pa.float64()\n",
    "td64 = pa.duration(\"s\")\n",
    "b = pa.bool_()\n",
    "\n",
    "duration_arr = pa.array([-3, 2, -1, 1], type=td64)\n",
    "int_arr = pa.array([-3, 2, -1, 1], type=i64)\n",
    "float_arr = pa.array([-3, 2, -1, 1], type=f64)\n",
    "\n",
    "# td64 = pa.int64()\n",
    "# duration_arr = pa.array([-3, 2, -1, 1], type=i64)\n",
    "\n",
    "unary_ops = [\n",
    "    (pa.compute.negate, duration_arr, td64),\n",
    "    (pa.compute.negate_checked, duration_arr, td64),\n",
    "    (pa.compute.abs, duration_arr, td64),\n",
    "    (pa.compute.abs_checked, duration_arr, td64),\n",
    "    (pa.compute.sign, duration_arr, i8),\n",
    "    # tests\n",
    "    (pa.compute.is_null, duration_arr, b),\n",
    "    (pa.compute.is_valid, duration_arr, b),\n",
    "    (pa.compute.is_finite, duration_arr, b),\n",
    "    (pa.compute.is_inf, duration_arr, b),\n",
    "    (pa.compute.is_nan, duration_arr, b),\n",
    "    (pa.compute.true_unless_null, duration_arr, b),\n",
    "    # aggregations\n",
    "    (pa.compute.min_max, duration_arr, pa.struct([('min', td64), ('max', td64)])),\n",
    "    (pa.compute.max, duration_arr, td64),\n",
    "    (pa.compute.min, duration_arr, td64),\n",
    "    (pa.compute.sum, duration_arr, td64),\n",
    "    (pa.compute.mode, duration_arr, pa.struct([('mode', td64), ('count', i64)])),\n",
    "    # cumulative aggregations\n",
    "    (pa.compute.cumulative_sum, duration_arr, td64),\n",
    "    (pa.compute.cumulative_sum_checked, duration_arr, td64),\n",
    "    (pa.compute.cumulative_min, duration_arr, td64),\n",
    "    (pa.compute.cumulative_max, duration_arr, td64),\n",
    "]\n",
    "\n",
    "binary_ops = [\n",
    "    # arithmetic\n",
    "    (pa.compute.add, duration_arr, duration_arr, td64),\n",
    "    (pa.compute.add_checked, duration_arr, duration_arr, td64),\n",
    "    (pa.compute.subtract, duration_arr, duration_arr, td64),\n",
    "    (pa.compute.subtract_checked, duration_arr, duration_arr, td64),\n",
    "    (pa.compute.multiply, duration_arr, int_arr, td64),\n",
    "    (pa.compute.multiply_checked, duration_arr, int_arr, td64),\n",
    "    (pa.compute.divide, duration_arr, duration_arr, f64),\n",
    "    (pa.compute.divide, duration_arr, int_arr, td64),\n",
    "    (pa.compute.divide_checked, duration_arr, duration_arr, f64),\n",
    "    (pa.compute.divide_checked, duration_arr, int_arr, td64),\n",
    "    # comparisons\n",
    "    (pa.compute.less, duration_arr, duration_arr, b),\n",
    "    (pa.compute.less_equal, duration_arr, duration_arr, b),\n",
    "    (pa.compute.greater, duration_arr, duration_arr, b),\n",
    "    (pa.compute.greater_equal, duration_arr, duration_arr, b),\n",
    "    (pa.compute.equal, duration_arr, duration_arr, b),\n",
    "    (pa.compute.not_equal, duration_arr, duration_arr, b),\n",
    "    # min/max\n",
    "    (pa.compute.max_element_wise, duration_arr, duration_arr, td64),\n",
    "    (pa.compute.min_element_wise, duration_arr, duration_arr, td64),\n",
    "    # containment\n",
    "    (pa.compute.is_in, duration_arr, duration_arr, b),\n",
    "    (pa.compute.index_in, duration_arr, duration_arr, i32),\n",
    "    # functions that require rounding\n",
    "]\n",
    "\n",
    "rounding_ops = [\n",
    "    # operations that require rounding\n",
    "    (pa.compute.mean, duration_arr, td64),\n",
    "    (pa.compute.quantile, duration_arr, td64),\n",
    "    (pa.compute.approximate_median, duration_arr, td64),\n",
    "    (pa.compute.multiply, duration_arr, float_arr, td64),\n",
    "    (pa.compute.multiply_checked, duration_arr, float_arr, td64),\n",
    "    (pa.compute.divide, duration_arr, float_arr, td64),\n",
    "    (pa.compute.divide_checked, duration_arr, float_arr, td64),\n",
    "]\n",
    "\n",
    "for op, *operands, dtype in unary_ops + binary_ops:\n",
    "    try:\n",
    "        result = op(*operands)\n",
    "    except ArrowNotImplementedError as e:\n",
    "        x = \" \"\n",
    "    else:\n",
    "        x = \"x\"\n",
    "        assert result.type == dtype, f\"{op}: got {result.type} expected {dtype}\"\n",
    "\n",
    "    formatted_ops = \", \".join(f\"{op.type!s:<11}\" for op in operands)\n",
    "    print(f\" [{x}] {op.__name__:<24}({formatted_ops}) -> {dtype}\")"
   ],
   "outputs": []
  },
  {
   "cell_type": "code",
   "execution_count": null,
   "metadata": {},
   "source": [
    "binary_ops = [\n",
    "    # arithmetic\n",
    "    (pa.compute.add, duration_arr, duration_arr, td64),\n",
    "    (pa.compute.add_checked, duration_arr, duration_arr, td64),\n",
    "    (pa.compute.subtract, duration_arr, duration_arr, td64),\n",
    "    (pa.compute.subtract_checked, duration_arr, duration_arr, td64),\n",
    "    (pa.compute.multiply, duration_arr, int_arr, td64),\n",
    "    (pa.compute.multiply, duration_arr, float_arr, td64),\n",
    "    (pa.compute.multiply_checked, duration_arr, int_arr, td64),\n",
    "    (pa.compute.multiply_checked, duration_arr, float_arr, td64),\n",
    "    (pa.compute.divide, duration_arr, duration_arr, f64),\n",
    "    (pa.compute.divide, duration_arr, int_arr, td64),\n",
    "    (pa.compute.divide, duration_arr, float_arr, td64),\n",
    "    (pa.compute.divide_checked, duration_arr, duration_arr, f64),\n",
    "    (pa.compute.divide_checked, duration_arr, int_arr, td64),\n",
    "    (pa.compute.divide_checked, duration_arr, float_arr, td64),\n",
    "    # comparisons\n",
    "    (pa.compute.less, duration_arr, duration_arr, b),\n",
    "    (pa.compute.less_equal, duration_arr, duration_arr, b),\n",
    "    (pa.compute.greater, duration_arr, duration_arr, b),\n",
    "    (pa.compute.greater_equal, duration_arr, duration_arr, b),\n",
    "    (pa.compute.equal, duration_arr, duration_arr, b),\n",
    "    (pa.compute.not_equal, duration_arr, duration_arr, b),\n",
    "    # min/max\n",
    "    (pa.compute.max_element_wise, duration_arr, duration_arr, td64),\n",
    "    (pa.compute.min_element_wise, duration_arr, duration_arr, td64),\n",
    "    # containment\n",
    "    (pa.compute.is_in, duration_arr, duration_arr, b),\n",
    "    (pa.compute.index_in, duration_arr, duration_arr, i32),\n",
    "]\n",
    "\n",
    "for op, lhs, rhs, dtype in binary_ops:\n",
    "    try:\n",
    "        result = op(lhs, rhs)\n",
    "    except ArrowNotImplementedError as e:\n",
    "        print(f\" [ ] {op.__name__:<20}({lhs.type!s:<11}, {rhs.type!s:<11}) -> {dtype}\")\n",
    "    else:\n",
    "        assert result.type == dtype, f\"{op}: got {result.type} expected {dtype}\"\n",
    "        print(f\" [x] {op.__name__:<20}({lhs.type!s:<11}, {rhs.type!s:<11}) -> {dtype}\")"
   ],
   "outputs": []
  },
  {
   "cell_type": "code",
   "execution_count": null,
   "metadata": {},
   "source": [
    "pa.compute.max_element_wise(duration_arr, pa.compute.multiply(2,duration_arr))"
   ],
   "outputs": []
  },
  {
   "cell_type": "code",
   "execution_count": null,
   "metadata": {},
   "source": [
    "pa.struct([('min', td64), ('max', td64)])"
   ],
   "outputs": []
  },
  {
   "cell_type": "code",
   "execution_count": null,
   "metadata": {},
   "source": [
    "pa.compute.min_max(duration_arr).type == pa.struct([('min', td64), ('max', td64)])"
   ],
   "outputs": []
  },
  {
   "cell_type": "code",
   "execution_count": null,
   "metadata": {},
   "source": [
    "pa.compute.is_in(duration_arr, duration_arr)"
   ],
   "outputs": []
  },
  {
   "cell_type": "code",
   "execution_count": null,
   "metadata": {},
   "source": [
    "import numpy as np\n"
   ],
   "outputs": []
  },
  {
   "cell_type": "code",
   "execution_count": null,
   "metadata": {},
   "source": [
    "td = np.random.rand(100) * 10 * np.timedelta64(1, \"s\")"
   ],
   "outputs": []
  },
  {
   "cell_type": "code",
   "execution_count": null,
   "metadata": {},
   "source": [
    "np.mode(td)"
   ],
   "outputs": []
  },
  {
   "cell_type": "code",
   "execution_count": null,
   "metadata": {},
   "source": [
    "pa.compute.approximate_median?"
   ],
   "outputs": []
  },
  {
   "cell_type": "code",
   "execution_count": null,
   "metadata": {},
   "source": [],
   "outputs": []
  }
 ],
 "metadata": {
  "kernelspec": {
   "display_name": "Python 3 (ipykernel)",
   "language": "python",
   "name": "python3"
  },
  "language_info": {
   "codemirror_mode": {
    "name": "ipython",
    "version": 3
   },
   "file_extension": ".py",
   "mimetype": "text/x-python",
   "name": "python",
   "nbconvert_exporter": "python",
   "pygments_lexer": "ipython3",
   "version": "3.11.7"
  }
 },
 "nbformat": 4,
 "nbformat_minor": 4
}
