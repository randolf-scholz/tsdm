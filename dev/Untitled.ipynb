{
 "cells": [
  {
   "cell_type": "code",
   "metadata": {
    "tags": []
   },
   "source": [
    "%config InteractiveShell.ast_node_interactivity='last_expr_or_assign'  # always print last expr."
   ],
   "outputs": [],
   "execution_count": null
  },
  {
   "metadata": {},
   "cell_type": "code",
   "source": [
    "from dataclasses import dataclass\n",
    "from typing_extensions import get_original_bases\n",
    "\n",
    "@dataclass\n",
    "class A:\n",
    "    ...\n",
    "\n",
    "print(A.__mro__, get_original_bases(A))"
   ],
   "outputs": [],
   "execution_count": null
  },
  {
   "cell_type": "code",
   "metadata": {},
   "source": [
    "import abc\n",
    "from typing import Protocol, runtime_checkable\n",
    "\n",
    "\n",
    "class MyMeta(type(Protocol)):\n",
    "    \n",
    "    \n",
    "    def __subclasscheck__(self, other):\n",
    "        print('in subclasscheck')\n",
    "        return super().__subclasscheck__(other)\n",
    "\n",
    "@runtime_checkable\n",
    "class MyClsABC(Protocol, metaclass=MyMeta):\n",
    "    \n",
    "    def foo(self): ...\n",
    "        \n",
    "    \n",
    "    @classmethod\n",
    "    def __subclasshook__(cls, other):\n",
    "        print('in subclasshook')\n",
    "        print(super())\n",
    "        return super().__subclasscheck__(other)\n",
    "\n",
    "class SupportsFoo:\n",
    "    def foo(self):\n",
    "        pass\n",
    "    \n",
    "class SupportsBar:\n",
    "    def bar(self):\n",
    "        pass"
   ],
   "outputs": [],
   "execution_count": null
  },
  {
   "metadata": {},
   "cell_type": "code",
   "source": "issubclass(SupportsFoo, MyClsABC)",
   "outputs": [],
   "execution_count": null
  },
  {
   "metadata": {},
   "cell_type": "code",
   "source": "",
   "outputs": [],
   "execution_count": null
  },
  {
   "metadata": {},
   "cell_type": "code",
   "outputs": [],
   "execution_count": null,
   "source": ""
  }
 ],
 "metadata": {
  "kernelspec": {
   "display_name": "Python 3 (ipykernel)",
   "language": "python",
   "name": "python3"
  },
  "language_info": {
   "codemirror_mode": {
    "name": "ipython",
    "version": 3
   },
   "file_extension": ".py",
   "mimetype": "text/x-python",
   "name": "python",
   "nbconvert_exporter": "python",
   "pygments_lexer": "ipython3",
   "version": "3.11.7"
  }
 },
 "nbformat": 4,
 "nbformat_minor": 4
}
