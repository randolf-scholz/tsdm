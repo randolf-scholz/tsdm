{
 "cells": [
  {
   "cell_type": "markdown",
   "metadata": {},
   "source": [
    "# Sample Template"
   ]
  },
  {
   "cell_type": "markdown",
   "metadata": {},
   "source": [
    "Here is some sample text, and a first block of code"
   ]
  },
  {
   "cell_type": "code",
   "execution_count": null,
   "metadata": {
    "execution": {
     "iopub.execute_input": "2023-08-04T16:39:24.591698Z",
     "iopub.status.busy": "2023-08-04T16:39:24.590984Z",
     "iopub.status.idle": "2023-08-04T16:39:24.595149Z",
     "shell.execute_reply": "2023-08-04T16:39:24.594674Z",
     "shell.execute_reply.started": "2023-08-04T16:39:24.591666Z"
    },
    "tags": []
   },
   "outputs": [],
   "source": [
    "from typing import Protocol, runtime_checkable, Any\n",
    "\n",
    "\n",
    "@runtime_checkable\n",
    "class Top(Protocol):\n",
    "    \"\"\"Represents the top type.\"\"\"\n",
    "\n",
    "\n",
    "assert issubclass(object, Top)\n",
    "assert issubclass(Top, object)"
   ]
  },
  {
   "cell_type": "code",
   "execution_count": null,
   "metadata": {
    "execution": {
     "iopub.execute_input": "2023-08-04T16:39:34.844990Z",
     "iopub.status.busy": "2023-08-04T16:39:34.844452Z",
     "iopub.status.idle": "2023-08-04T16:39:34.894988Z",
     "shell.execute_reply": "2023-08-04T16:39:34.894004Z",
     "shell.execute_reply.started": "2023-08-04T16:39:34.844961Z"
    },
    "tags": []
   },
   "outputs": [],
   "source": [
    "issubclass(Any, Top)"
   ]
  },
  {
   "cell_type": "code",
   "execution_count": null,
   "metadata": {
    "execution": {
     "iopub.execute_input": "2023-08-04T16:31:04.636136Z",
     "iopub.status.busy": "2023-08-04T16:31:04.635803Z",
     "iopub.status.idle": "2023-08-04T16:31:04.638753Z",
     "shell.execute_reply": "2023-08-04T16:31:04.638205Z",
     "shell.execute_reply.started": "2023-08-04T16:31:04.636119Z"
    },
    "tags": []
   },
   "outputs": [],
   "source": [
    "from typing import _SpecialForm"
   ]
  },
  {
   "cell_type": "code",
   "execution_count": null,
   "metadata": {
    "execution": {
     "iopub.execute_input": "2023-08-04T16:33:11.135003Z",
     "iopub.status.busy": "2023-08-04T16:33:11.134192Z",
     "iopub.status.idle": "2023-08-04T16:33:11.139476Z",
     "shell.execute_reply": "2023-08-04T16:33:11.139005Z",
     "shell.execute_reply.started": "2023-08-04T16:33:11.134960Z"
    },
    "tags": []
   },
   "outputs": [],
   "source": [
    "isinstance(..., object)"
   ]
  },
  {
   "cell_type": "code",
   "execution_count": null,
   "metadata": {
    "execution": {
     "iopub.execute_input": "2023-08-03T22:38:51.490597Z",
     "iopub.status.busy": "2023-08-03T22:38:51.490367Z",
     "iopub.status.idle": "2023-08-03T22:38:51.771051Z",
     "shell.execute_reply": "2023-08-03T22:38:51.770680Z",
     "shell.execute_reply.started": "2023-08-03T22:38:51.490576Z"
    },
    "tags": []
   },
   "outputs": [],
   "source": [
    "%config InteractiveShell.ast_node_interactivity='last_expr_or_assign'  # always print last expr.\n",
    "%config InlineBackend.figure_format = 'svg'\n",
    "%load_ext autoreload\n",
    "%autoreload 2\n",
    "%matplotlib inline\n",
    "\n",
    "import logging\n",
    "\n",
    "logging.basicConfig(level=logging.INFO)"
   ]
  },
  {
   "cell_type": "code",
   "execution_count": null,
   "metadata": {
    "execution": {
     "iopub.execute_input": "2023-08-03T22:38:51.771901Z",
     "iopub.status.busy": "2023-08-03T22:38:51.771744Z",
     "iopub.status.idle": "2023-08-03T22:38:53.283691Z",
     "shell.execute_reply": "2023-08-03T22:38:53.283246Z",
     "shell.execute_reply.started": "2023-08-03T22:38:51.771890Z"
    },
    "tags": []
   },
   "outputs": [],
   "source": [
    "import tsdm"
   ]
  },
  {
   "cell_type": "code",
   "execution_count": null,
   "metadata": {
    "execution": {
     "iopub.execute_input": "2023-08-03T22:38:53.284408Z",
     "iopub.status.busy": "2023-08-03T22:38:53.284176Z",
     "iopub.status.idle": "2023-08-03T22:38:54.276057Z",
     "shell.execute_reply": "2023-08-03T22:38:54.275449Z",
     "shell.execute_reply.started": "2023-08-03T22:38:53.284398Z"
    }
   },
   "outputs": [],
   "source": [
    "ds = tsdm.datasets.PhysioNet2019()"
   ]
  },
  {
   "cell_type": "code",
   "execution_count": null,
   "metadata": {},
   "outputs": [],
   "source": []
  },
  {
   "cell_type": "code",
   "execution_count": null,
   "metadata": {},
   "outputs": [],
   "source": []
  },
  {
   "cell_type": "code",
   "execution_count": null,
   "metadata": {},
   "outputs": [],
   "source": []
  },
  {
   "cell_type": "code",
   "execution_count": null,
   "metadata": {
    "execution": {
     "iopub.execute_input": "2023-08-03T22:28:21.520230Z",
     "iopub.status.busy": "2023-08-03T22:28:21.520045Z",
     "iopub.status.idle": "2023-08-03T22:28:21.528428Z",
     "shell.execute_reply": "2023-08-03T22:28:21.527980Z",
     "shell.execute_reply.started": "2023-08-03T22:28:21.520219Z"
    }
   },
   "outputs": [],
   "source": [
    "ds.metadata"
   ]
  },
  {
   "cell_type": "code",
   "execution_count": null,
   "metadata": {
    "execution": {
     "iopub.execute_input": "2023-08-03T22:39:34.771680Z",
     "iopub.status.busy": "2023-08-03T22:39:34.771435Z",
     "iopub.status.idle": "2023-08-03T22:39:34.798305Z",
     "shell.execute_reply": "2023-08-03T22:39:34.797861Z",
     "shell.execute_reply.started": "2023-08-03T22:39:34.771662Z"
    }
   },
   "outputs": [],
   "source": [
    "import pandas as pd\n",
    "import pyarrow as pa\n",
    "\n",
    "pa_dict = pa.dictionary(pa.int32(), pa.string())\n",
    "pd_dict = pd.ArrowDtype(pa_dict)\n",
    "\n",
    "# create table in pyarrow\n",
    "data = {\"foo\": [1, 2], \"bar\": [\"a\", \"b\"]}\n",
    "schema = {\"foo\": int, \"bar\": \"category\"}\n",
    "\n",
    "df = pd.DataFrame(data).astype(schema)\n",
    "df.to_parquet(\"foo\")\n",
    "df_loaded = pd.read_parquet(\"foo\", dtype_backend=\"pyarrow\")\n",
    "\n",
    "\n",
    "assert df_loaded.bar.dtype == pd_dict"
   ]
  },
  {
   "cell_type": "code",
   "execution_count": null,
   "metadata": {
    "execution": {
     "iopub.execute_input": "2023-08-03T22:27:14.182952Z",
     "iopub.status.busy": "2023-08-03T22:27:14.182584Z",
     "iopub.status.idle": "2023-08-03T22:27:14.187865Z",
     "shell.execute_reply": "2023-08-03T22:27:14.187304Z",
     "shell.execute_reply.started": "2023-08-03T22:27:14.182920Z"
    }
   },
   "outputs": [],
   "source": [
    "df_loaded.bar.dtype == df.bar.dtype"
   ]
  },
  {
   "cell_type": "code",
   "execution_count": null,
   "metadata": {
    "execution": {
     "iopub.execute_input": "2023-08-03T22:27:00.409335Z",
     "iopub.status.busy": "2023-08-03T22:27:00.408961Z",
     "iopub.status.idle": "2023-08-03T22:27:00.413204Z",
     "shell.execute_reply": "2023-08-03T22:27:00.412617Z",
     "shell.execute_reply.started": "2023-08-03T22:27:00.409314Z"
    }
   },
   "outputs": [],
   "source": []
  },
  {
   "cell_type": "code",
   "execution_count": null,
   "metadata": {
    "execution": {
     "iopub.execute_input": "2023-08-03T22:26:48.955929Z",
     "iopub.status.busy": "2023-08-03T22:26:48.955465Z",
     "iopub.status.idle": "2023-08-03T22:26:48.964124Z",
     "shell.execute_reply": "2023-08-03T22:26:48.963632Z",
     "shell.execute_reply.started": "2023-08-03T22:26:48.955908Z"
    }
   },
   "outputs": [],
   "source": [
    "import pandas as pd\n",
    "import pyarrow as pa\n",
    "\n",
    "pa_dict = pa.dictionary(pa.int32(), pa.string())\n",
    "pd_dict = pd.ArrowDtype(pa_dict)\n",
    "\n",
    "# create table in pyarrow\n",
    "data = {\"foo\": [1, 2], \"bar\": [\"a\", \"b\"]}\n",
    "schema = pa.schema({\"foo\": pa.int32(), \"bar\": pa_dict})\n",
    "table = pa.table(data, schema=schema)\n",
    "\n",
    "# serialize in arrow and loading to pandas works\n",
    "pa.parquet.write_table(table, \"demo.parquet\")\n",
    "df = pd.read_parquet(\"demo.parquet\", dtype_backend=\"pyarrow\")\n",
    "\n",
    "assert df.bar.dtype == pd_dict  # ✔ the dtype is dictionary[int32,string]\n",
    "\n",
    "# # saving and re-loading doesn't\n",
    "# df.to_parquet(\"demo2.parquet\")\n",
    "# pd.read_parquet(\"demo2.parquet\", dtype_backend=\"pyarrow\")"
   ]
  },
  {
   "cell_type": "code",
   "execution_count": null,
   "metadata": {
    "execution": {
     "iopub.execute_input": "2023-08-03T22:22:13.902430Z",
     "iopub.status.busy": "2023-08-03T22:22:13.901737Z",
     "iopub.status.idle": "2023-08-03T22:22:13.937018Z",
     "shell.execute_reply": "2023-08-03T22:22:13.936300Z",
     "shell.execute_reply.started": "2023-08-03T22:22:13.902404Z"
    }
   },
   "outputs": [],
   "source": [
    "pa.__version__"
   ]
  },
  {
   "cell_type": "code",
   "execution_count": null,
   "metadata": {
    "execution": {
     "iopub.execute_input": "2023-08-03T21:55:43.022323Z",
     "iopub.status.busy": "2023-08-03T21:55:43.021912Z",
     "iopub.status.idle": "2023-08-03T21:55:46.911472Z",
     "shell.execute_reply": "2023-08-03T21:55:46.911035Z",
     "shell.execute_reply.started": "2023-08-03T21:55:43.022300Z"
    }
   },
   "outputs": [],
   "source": [
    "ds.timeseries.hist(figsize=(20, 12), density=True, log=True, bins=20);"
   ]
  },
  {
   "cell_type": "code",
   "execution_count": null,
   "metadata": {
    "execution": {
     "iopub.execute_input": "2023-08-03T20:25:56.123886Z",
     "iopub.status.busy": "2023-08-03T20:25:56.123499Z",
     "iopub.status.idle": "2023-08-03T20:25:56.157165Z",
     "shell.execute_reply": "2023-08-03T20:25:56.156506Z",
     "shell.execute_reply.started": "2023-08-03T20:25:56.123853Z"
    }
   },
   "outputs": [],
   "source": [
    "import pandas as pd\n",
    "import pyarrow as pa"
   ]
  },
  {
   "cell_type": "code",
   "execution_count": null,
   "metadata": {
    "execution": {
     "iopub.execute_input": "2023-08-03T20:26:25.771370Z",
     "iopub.status.busy": "2023-08-03T20:26:25.771101Z",
     "iopub.status.idle": "2023-08-03T20:26:25.836015Z",
     "shell.execute_reply": "2023-08-03T20:26:25.835629Z",
     "shell.execute_reply.started": "2023-08-03T20:26:25.771353Z"
    }
   },
   "outputs": [],
   "source": [
    "ts = ds.timeseries.astype({\"wd\": pd.ArrowDtype(pa.dictionary(pa.int32(), pa.string()))})"
   ]
  },
  {
   "cell_type": "code",
   "execution_count": null,
   "metadata": {
    "execution": {
     "iopub.execute_input": "2023-08-03T20:52:36.159038Z",
     "iopub.status.busy": "2023-08-03T20:52:36.158585Z",
     "iopub.status.idle": "2023-08-03T20:52:36.245105Z",
     "shell.execute_reply": "2023-08-03T20:52:36.244561Z",
     "shell.execute_reply.started": "2023-08-03T20:52:36.159028Z"
    }
   },
   "outputs": [],
   "source": [
    "import pandas as pd\n",
    "import pyarrow as pa\n",
    "\n",
    "pa_dict = pa.dictionary(pa.int32(), pa.string())\n",
    "pd_dict = pd.ArrowDtype(pa_dict)\n",
    "\n",
    "# create table in pyarrow\n",
    "data = {\"foo\": [1, 2], \"bar\": [\"a\", \"b\"]}\n",
    "schema = pa.schema({\"foo\": pa.int32(), \"bar\": pa_dict})\n",
    "table = pa.table(data, schema=schema)\n",
    "\n",
    "# serliaze in arrow and loading to pandas works\n",
    "pa.parquet.write_table(table, \"demo.parquet\")\n",
    "df = pd.read_parquet(\"demo.parquet\", dtype_backend=\"pyarrow\")\n",
    "\n",
    "assert df.bar.dtype == pd_dict  # ✔ the dtype is dictionary[int32,string]\n",
    "\n",
    "# saving and re-loading doesn't\n",
    "df.to_parquet(\"demo2.parquet\")\n",
    "pd.read_parquet(\"demo2.parquet\", dtype_backend=\"pyarrow\")"
   ]
  },
  {
   "cell_type": "code",
   "execution_count": null,
   "metadata": {},
   "outputs": [],
   "source": []
  }
 ],
 "metadata": {
  "kernelspec": {
   "display_name": "Python 3 (ipykernel)",
   "language": "python",
   "name": "python3"
  },
  "language_info": {
   "codemirror_mode": {
    "name": "ipython",
    "version": 3
   },
   "file_extension": ".py",
   "mimetype": "text/x-python",
   "name": "python",
   "nbconvert_exporter": "python",
   "pygments_lexer": "ipython3",
   "version": "3.10.11"
  }
 },
 "nbformat": 4,
 "nbformat_minor": 4
}
