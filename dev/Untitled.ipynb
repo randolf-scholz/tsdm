{
 "cells": [
  {
   "cell_type": "markdown",
   "metadata": {},
   "source": [
    "# Sample Template"
   ]
  },
  {
   "cell_type": "markdown",
   "metadata": {},
   "source": [
    "Here is some sample text, and a first block of code"
   ]
  },
  {
   "cell_type": "code",
   "execution_count": null,
   "metadata": {
    "tags": []
   },
   "outputs": [],
   "source": [
    "%config InteractiveShell.ast_node_interactivity='last_expr_or_assign'  # always print last expr."
   ]
  },
  {
   "cell_type": "code",
   "execution_count": null,
   "metadata": {},
   "outputs": [],
   "source": [
    "import re"
   ]
  },
  {
   "cell_type": "code",
   "execution_count": null,
   "metadata": {},
   "outputs": [],
   "source": [
    "def ignore_subgroups(pattern: str | re.Pattern, /) -> str:\n",
    "    \"\"\"Ignore all named groups in the given pattern.\"\"\"\n",
    "    return re.sub(r\"\\(\\?P<[^>]+>\", r\"(?:\", pattern)\n",
    "\n",
    "\n",
    "# https://peps.python.org/pep-0440/#appendix-b-parsing-version-strings-with-regular-expressions\n",
    "VERSION = r\"\"\"(?ix:                                       # case-insensitive, verbose\n",
    "    v?(?:\n",
    "        (?:(?P<epoch>[0-9]+)!)?                           # epoch\n",
    "        (?P<release>[0-9]+(?:\\.[0-9]+)*)                  # release segment\n",
    "        (?P<pre>                                          # pre-release\n",
    "            [-_.]?\n",
    "            (?P<pre_l>(?:a|b|c|rc|alpha|beta|pre|preview))\n",
    "            [-_.]?\n",
    "            (?P<pre_n>[0-9]+)?\n",
    "        )?\n",
    "        (?P<post>                                         # post release\n",
    "            (?:-(?P<post_n1>[0-9]+))\n",
    "            |\n",
    "            (?:\n",
    "                [-_.]?\n",
    "                (?P<post_l>post|rev|r)\n",
    "                [-_.]?\n",
    "                (?P<post_n2>[0-9]+)?\n",
    "            )\n",
    "        )?\n",
    "        (?P<dev>                                          # dev release\n",
    "            [-_.]?\n",
    "            (?P<dev_l>dev)\n",
    "            [-_.]?\n",
    "            (?P<dev_n>[0-9]+)?\n",
    "        )?\n",
    "    )\n",
    "    (?:\\+(?P<local>[a-z0-9]+(?:[-_.][a-z0-9]+)*))?        # local version\n",
    ")\"\"\"\n",
    "r\"^([1-9][0-9]*!)?(0|[1-9][0-9]*)(\\.(0|[1-9][0-9]*))*((a|b|rc)(0|[1-9][0-9]*))?(\\.post(0|[1-9][0-9]*))?(\\.dev(0|[1-9][0-9]*))?$\"\n",
    "VERSION_GROUP = rf\"\"\"(?P<version>{ignore_subgroups(VERSION)})\"\"\"\n",
    "VERSION_REGEX: re.Pattern = re.compile(VERSION_GROUP)\n",
    "\n",
    "VERSION_REGEX.groups"
   ]
  },
  {
   "cell_type": "code",
   "execution_count": null,
   "metadata": {},
   "outputs": [],
   "source": [
    "NAME = re.compile(r\"\"\"\\b[a-zA-Z0-9](?:[a-zA-Z0-9._-]*[a-zA-Z0-9])?\\b\"\"\")\n",
    "NAME_GROUP = rf\"\"\"(?P<name>{NAME.pattern})\"\"\"\n",
    "NAME_REGEX = re.compile(NAME_GROUP)\n",
    "assert NAME_REGEX.groups == 1, f\"NAME_REGEX has {NAME_REGEX.groups} groups.\""
   ]
  },
  {
   "cell_type": "code",
   "execution_count": null,
   "metadata": {},
   "outputs": [],
   "source": [
    "import pyarrow as pa\n",
    "\n",
    "pa_x = pa.scalar(None, type=pa.int64())\n",
    "pa_y = pa.compute.greater(pa_x, None)\n",
    "result = pa_y.as_py()  # None\n",
    "\n",
    "py_x = pa_x.as_py()\n",
    "py_y = (\n",
    "    py_x > 0\n",
    ")  # TypeError: '>' not supported between instances of 'NoneType' and 'int'"
   ]
  },
  {
   "cell_type": "code",
   "execution_count": null,
   "metadata": {},
   "outputs": [],
   "source": [
    "re.compile(r\"(?ix:\\w+)\").groups"
   ]
  },
  {
   "cell_type": "code",
   "execution_count": null,
   "metadata": {},
   "outputs": [],
   "source": [
    "dir(VaERSION_REGEX)"
   ]
  },
  {
   "cell_type": "code",
   "execution_count": null,
   "metadata": {},
   "outputs": [],
   "source": [
    "# https://peps.python.org/pep-0508/#names\n",
    "# NOTE: we modify this regex a bit to allow to match inside context\n",
    "NAME = re.compile(r\"\"\"\\b[a-zA-Z0-9](?:[a-zA-Z0-9._-]*[a-zA-Z0-9])?\\b\"\"\")\n",
    "NAME_GROUP = rf\"\"\"(?P<name>{NAME})\"\"\"\n",
    "NAME_REGEX = re.compile(NAME_GROUP)\n",
    "assert NAME_REGEX.groups == 1\n",
    "\n",
    "# NOTE: to get a list of extras, match NAME_PATTERN with EXTRAS_PATTERN\n",
    "EXTRAS = rf\"\"\"\\[\\s*(?:{NAME})(?:\\s*,{NAME})*\\s*\\]\"\"\"\n",
    "EXTRAS_GROUP = rf\"\"\"(?P<extras>{EXTRAS})\"\"\"\n",
    "EXTRAS_REGEX = re.compile(EXTRAS_GROUP)\n",
    "assert EXTRAS_REGEX.groups == 1\n",
    "\n",
    "PROJECT_DEP = rf\"\"\"[\"']{NAME_GROUP}{EXTRAS}?\\s*>=\\s*{VERSION_GROUP}\"\"\"\n",
    "PROJECT_DEP_GROUP = rf\"\"\"(?P<DEPENDENCY>{PROJECT_DEP})\"\"\"\n",
    "PROJECT_DEP_REGEX = re.compile(PROJECT_DEP_GROUP)"
   ]
  },
  {
   "cell_type": "code",
   "execution_count": null,
   "metadata": {},
   "outputs": [],
   "source": []
  },
  {
   "cell_type": "code",
   "execution_count": null,
   "metadata": {},
   "outputs": [],
   "source": []
  },
  {
   "cell_type": "code",
   "execution_count": null,
   "metadata": {},
   "outputs": [],
   "source": [
    "NAME = re.compile(r\"\"\"\\b[a-zA-Z0-9](?:[a-zA-Z0-9._-]*[a-zA-Z0-9])?\\b\"\"\")\n",
    "NAME_GROUP = re.compile(rf\"\"\"(?P<name>{NAME.pattern})\"\"\")\n",
    "NAME_REGEX = re.compile(NAME_GROUP)"
   ]
  },
  {
   "cell_type": "code",
   "execution_count": null,
   "metadata": {},
   "outputs": [],
   "source": [
    "PROJECT_DEP = rf\"\"\"[\"']{NAME_GROUP}{EXTRAS}?\\s*>=\\s*{VERSION_GROUP}\"\"\"\n",
    "PROJECT_DEP_GROUP = rf\"\"\"(?P<DEPENDENCY>{PROJECT_DEP})\"\"\"\n",
    "PROJECT_DEP_REGEX = re.compile(PROJECT_DEP_GROUP)"
   ]
  },
  {
   "cell_type": "code",
   "execution_count": null,
   "metadata": {},
   "outputs": [],
   "source": [
    "import re\n",
    "\n",
    "\n",
    "def is_canonical(version):\n",
    "    return (\n",
    "        re.match(\n",
    "            r\"^([1-9][0-9]*!)?(0|[1-9][0-9]*)(\\.(0|[1-9][0-9]*))*((a|b|rc)(0|[1-9][0-9]*))?(\\.post(0|[1-9][0-9]*))?(\\.dev(0|[1-9][0-9]*))?$\",\n",
    "            version,\n",
    "        )\n",
    "        is not None\n",
    "    )"
   ]
  },
  {
   "cell_type": "code",
   "execution_count": null,
   "metadata": {},
   "outputs": [],
   "source": [
    "VERSION_PATTERN = r\"\"\"\n",
    "    v?\n",
    "    (?:\n",
    "        (?:(?P<epoch>[0-9]+)!)?                           # epoch\n",
    "        (?P<release>[0-9]+(?:\\.[0-9]+)*)                  # release segment\n",
    "        (?P<pre>                                          # pre-release\n",
    "            [-_\\.]?\n",
    "            (?P<pre_l>(a|b|c|rc|alpha|beta|pre|preview))\n",
    "            [-_\\.]?\n",
    "            (?P<pre_n>[0-9]+)?\n",
    "        )?\n",
    "        (?P<post>                                         # post release\n",
    "            (?:-(?P<post_n1>[0-9]+))\n",
    "            |\n",
    "            (?:\n",
    "                [-_\\.]?\n",
    "                (?P<post_l>post|rev|r)\n",
    "                [-_\\.]?\n",
    "                (?P<post_n2>[0-9]+)?\n",
    "            )\n",
    "        )?\n",
    "        (?P<dev>                                          # dev release\n",
    "            [-_\\.]?\n",
    "            (?P<dev_l>dev)\n",
    "            [-_\\.]?\n",
    "            (?P<dev_n>[0-9]+)?\n",
    "        )?\n",
    "    )\n",
    "    (?:\\+(?P<local>[a-z0-9]+(?:[-_\\.][a-z0-9]+)*))?       # local version\n",
    "\"\"\"\n",
    "_regex = re.compile(VERSION_PATTERN, re.VERBOSE | re.IGNORECASE)\n",
    "\n",
    "\n",
    "def is_canonical2(version):\n",
    "    return re.match(_regex, version) is not None\n",
    "\n",
    "\n",
    "is_canonical2(\"0.1.23\")"
   ]
  },
  {
   "cell_type": "code",
   "execution_count": null,
   "metadata": {},
   "outputs": [],
   "source": [
    "VERSION = r\"\"\"(?ix:                                       # case-insensitive, verbose\n",
    "    v?(?:\n",
    "        (?:(?P<epoch>[0-9]+)!)?                           # epoch\n",
    "        (?P<release>[0-9]+(?:\\.[0-9]+)*)                  # release segment\n",
    "        (?P<pre>                                          # pre-release\n",
    "            [-_\\.]?\n",
    "            (?P<pre_l>(a|b|c|rc|alpha|beta|pre|preview))\n",
    "            [-_\\.]?\n",
    "            (?P<pre_n>[0-9]+)?\n",
    "        )?\n",
    "        (?P<post>                                         # post release\n",
    "            (?:-(?P<post_n1>[0-9]+))\n",
    "            |\n",
    "            (?:\n",
    "                [-_\\.]?\n",
    "                (?P<post_l>post|rev|r)\n",
    "                [-_\\.]?\n",
    "                (?P<post_n2>[0-9]+)?\n",
    "            )\n",
    "        )?\n",
    "        (?P<dev>                                          # dev release\n",
    "            [-_\\.]?\n",
    "            (?P<dev_l>dev)\n",
    "            [-_\\.]?\n",
    "            (?P<dev_n>[0-9]+)?\n",
    "        )?\n",
    "    )\n",
    "    (?:\\+(?P<local>[a-z0-9]+(?:[-_\\.][a-z0-9]+)*))?        # local version\n",
    ")\"\"\"\n",
    "VERSION_GROUP = rf\"\"\"(?P<version>{VERSION})\"\"\"\n",
    "VERSION_REGEX = re.compile(VERSION)\n",
    "\n",
    "\n",
    "def is_canonical3(version):\n",
    "    return re.match(VERSION_REGEX, version) is not None\n",
    "\n",
    "\n",
    "is_canonical3(\"aga.aga.aga\")"
   ]
  },
  {
   "cell_type": "code",
   "execution_count": null,
   "metadata": {},
   "outputs": [],
   "source": [
    "VERSION_REGEX.match(\"0.1.23\")"
   ]
  },
  {
   "cell_type": "code",
   "execution_count": null,
   "metadata": {},
   "outputs": [],
   "source": []
  },
  {
   "cell_type": "code",
   "execution_count": null,
   "metadata": {},
   "outputs": [],
   "source": [
    "VERSION_REGEX.match(\".1.23\")"
   ]
  },
  {
   "cell_type": "code",
   "execution_count": null,
   "metadata": {},
   "outputs": [],
   "source": []
  },
  {
   "cell_type": "code",
   "execution_count": null,
   "metadata": {},
   "outputs": [],
   "source": [
    "import re"
   ]
  },
  {
   "cell_type": "code",
   "execution_count": null,
   "metadata": {},
   "outputs": [],
   "source": [
    "is_canonical2(\"0.1.23\")"
   ]
  },
  {
   "cell_type": "code",
   "execution_count": null,
   "metadata": {},
   "outputs": [],
   "source": []
  },
  {
   "cell_type": "code",
   "execution_count": null,
   "metadata": {},
   "outputs": [],
   "source": []
  },
  {
   "cell_type": "code",
   "execution_count": null,
   "metadata": {},
   "outputs": [],
   "source": []
  },
  {
   "cell_type": "code",
   "execution_count": null,
   "metadata": {},
   "outputs": [],
   "source": [
    "tests = r\"\"\"\n",
    "black[ jupyterlab , d ]\n",
    "pandas[numpy]\n",
    "pkg[   ext1 , ext2, ext3, ext4, ext5]\n",
    "a \"witch\" and her \"broom\" is one\n",
    "\"\"\""
   ]
  },
  {
   "cell_type": "code",
   "execution_count": null,
   "metadata": {},
   "outputs": [],
   "source": [
    "pattern = r'\"[^\\\"]+\"'\n",
    "matches = re.findall(pattern, tests)"
   ]
  },
  {
   "cell_type": "code",
   "execution_count": null,
   "metadata": {},
   "outputs": [],
   "source": [
    "name = r\"(\\b[\\w-]+\\b)\"\n",
    "extras = f\"\\[(?:[,\\s*]?{name}[,\\s*]?)*\\]\"\n",
    "\n",
    "pattern = r\"\\[\\s*(?:(?:\\b[\\w-]+\\b\\s*,\\s*)*(\\b[\\w-]+\\b)(?:\\s*,\\s*\\b[\\w-]+\\b)*)+\\s*\\]\"\n",
    "regex = re.compile(pattern, flags=re.VERBOSE)\n",
    "# matches = list(re.finditer(pattern, tests))\n",
    "matches = re.findall(pattern, tests)"
   ]
  },
  {
   "cell_type": "code",
   "execution_count": null,
   "metadata": {},
   "outputs": [],
   "source": [
    "?re.compile"
   ]
  },
  {
   "cell_type": "code",
   "execution_count": null,
   "metadata": {},
   "outputs": [],
   "source": [
    "# https://peps.python.org/pep-0440/#appendix-b-parsing-version-strings-with-regular-expressions\n",
    "VERSION_PATTERN = \"\"\"\n",
    "v?\n",
    "(?:\n",
    "    (?:(?P<epoch>[0-9]+)!)?                           # epoch\n",
    "    (?P<release>[0-9]+(?:\\.[0-9]+)*)                  # release segment\n",
    "    (?P<pre>                                          # pre-release\n",
    "        [-_\\.]?\n",
    "        (?P<pre_l>(a|b|c|rc|alpha|beta|pre|preview))\n",
    "        [-_\\.]?\n",
    "        (?P<pre_n>[0-9]+)?\n",
    "    )?\n",
    "    (?P<post>                                         # post release\n",
    "        (?:-(?P<post_n1>[0-9]+))\n",
    "        |\n",
    "        (?:\n",
    "            [-_\\.]?\n",
    "            (?P<post_l>post|rev|r)\n",
    "            [-_\\.]?\n",
    "            (?P<post_n2>[0-9]+)?\n",
    "        )\n",
    "    )?\n",
    "    (?P<dev>                                          # dev release\n",
    "        [-_\\.]?\n",
    "        (?P<dev_l>dev)\n",
    "        [-_\\.]?\n",
    "        (?P<dev_n>[0-9]+)?\n",
    "    )?\n",
    ")\n",
    "(?:\\+(?P<local>[a-z0-9]+(?:[-_\\.][a-z0-9]+)*))?       # local version\n",
    "\"\"\"\n",
    "\n",
    "VERSION_REGEX: re.Pattern = re.compile(\n",
    "    f\"\"\"(?P<version>{VERSION_PATTERN})\"\"\",\n",
    "    re.VERBOSE | re.IGNORECASE,\n",
    ")\n",
    "\n",
    "# https://peps.python.org/pep-0508/#names\n",
    "NAME_PATTERN = r\"[A-Z0-9]|[A-Z0-9][A-Z0-9._-]*[A-Z0-9]\"\n",
    "NAME_REGEX = re.compile(\n",
    "    f\"(?P<name>{NAME_PATTERN})\",\n",
    "    re.IGNORECASE,\n",
    ")\n",
    "\n",
    "EXTRAS_PATTERN = r\"\\n\\[\\s*(?:{NAME_PATTERN}\\s*,\\s*)*{NAME_PATTERN}\\s*\\]\"\n",
    "EXTRAS_REGEX = re.compile(\n",
    "    f\"(?P<extras>{EXTRAS_PATTERN})\",\n",
    "    re.IGNORECASE,\n",
    ")"
   ]
  },
  {
   "cell_type": "code",
   "execution_count": null,
   "metadata": {},
   "outputs": [],
   "source": [
    "EXTRAS_PATTERN.format(NAME_PATTERN=NAME_PATTERN)"
   ]
  },
  {
   "cell_type": "code",
   "execution_count": null,
   "metadata": {},
   "outputs": [],
   "source": [
    "EXTRAS_PATTERN = f\"\\n\\[\\s*(?:{NAME_PATTERN}\\s*,\\s*)*{NAME_PATTERN}\\s*\\]\""
   ]
  },
  {
   "cell_type": "code",
   "execution_count": null,
   "metadata": {},
   "outputs": [],
   "source": [
    "rf\" \\{{\""
   ]
  },
  {
   "cell_type": "code",
   "execution_count": null,
   "metadata": {},
   "outputs": [],
   "source": [
    "r\" \\{\""
   ]
  },
  {
   "cell_type": "code",
   "execution_count": null,
   "metadata": {},
   "outputs": [],
   "source": [
    "EXTRAS_PATTERN"
   ]
  },
  {
   "cell_type": "code",
   "execution_count": null,
   "metadata": {},
   "outputs": [],
   "source": [
    "\\[\\s*  (  (\\b[\\w-]+\\b)  (\\s*,\\s*)?  )*  \\s*\\]"
   ]
  }
 ],
 "metadata": {
  "kernelspec": {
   "display_name": "Python 3 (ipykernel)",
   "language": "python",
   "name": "python3"
  },
  "language_info": {
   "codemirror_mode": {
    "name": "ipython",
    "version": 3
   },
   "file_extension": ".py",
   "mimetype": "text/x-python",
   "name": "python",
   "nbconvert_exporter": "python",
   "pygments_lexer": "ipython3",
   "version": "3.11.4"
  }
 },
 "nbformat": 4,
 "nbformat_minor": 4
}
