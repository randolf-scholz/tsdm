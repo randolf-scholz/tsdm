{
 "cells": [
  {
   "cell_type": "markdown",
   "metadata": {},
   "source": [
    "# Sample Template"
   ]
  },
  {
   "cell_type": "markdown",
   "metadata": {},
   "source": [
    "Here is some sample text, and a first block of code"
   ]
  },
  {
   "cell_type": "code",
   "execution_count": null,
   "metadata": {
    "execution": {
     "iopub.execute_input": "2023-07-26T15:08:01.479995Z",
     "iopub.status.busy": "2023-07-26T15:08:01.479729Z",
     "iopub.status.idle": "2023-07-26T15:08:01.665707Z",
     "shell.execute_reply": "2023-07-26T15:08:01.665269Z",
     "shell.execute_reply.started": "2023-07-26T15:08:01.479977Z"
    },
    "tags": []
   },
   "outputs": [],
   "source": [
    "import numpy as np\n",
    "import matplotlib.pyplot as plt"
   ]
  },
  {
   "cell_type": "code",
   "execution_count": null,
   "metadata": {
    "execution": {
     "iopub.execute_input": "2023-07-26T15:09:36.099889Z",
     "iopub.status.busy": "2023-07-26T15:09:36.099698Z",
     "iopub.status.idle": "2023-07-26T15:09:36.320768Z",
     "shell.execute_reply": "2023-07-26T15:09:36.320157Z",
     "shell.execute_reply.started": "2023-07-26T15:09:36.099876Z"
    },
    "tags": []
   },
   "outputs": [],
   "source": [
    "N = 1_000_000\n",
    "eps = np.random.randn(N)\n",
    "\n",
    "plt.hist(eps, density=True, bins=100);"
   ]
  },
  {
   "cell_type": "code",
   "execution_count": null,
   "metadata": {
    "execution": {
     "iopub.execute_input": "2023-07-26T15:13:13.434568Z",
     "iopub.status.busy": "2023-07-26T15:13:13.434402Z",
     "iopub.status.idle": "2023-07-26T15:13:14.007810Z",
     "shell.execute_reply": "2023-07-26T15:13:14.007471Z",
     "shell.execute_reply.started": "2023-07-26T15:13:13.434556Z"
    },
    "tags": []
   },
   "outputs": [],
   "source": [
    "psi = lambda e: 1 + 10 * e - e**2 + e**3\n",
    "r = psi(eps)\n",
    "plt.hist(r, density=True, bins=100, log=True)\n",
    "r.mean(), (r**2).mean(), (r**3).mean()"
   ]
  },
  {
   "cell_type": "code",
   "execution_count": null,
   "metadata": {},
   "outputs": [],
   "source": [
    "# some random dictionaries\n",
    "\n",
    "a = {\"a\": 1, \"b\": 2, \"c\": 3}\n",
    "b = {\"a\": 1, \"b\": 2, \"c\": 3}\n",
    "c = {\"a\": 1, \"b\": 2, \"c\": 3}\n",
    "dicts = [a, b, c]\n",
    "set.intersection(*map(set, dicts))"
   ]
  },
  {
   "cell_type": "code",
   "execution_count": null,
   "metadata": {},
   "outputs": [],
   "source": []
  }
 ],
 "metadata": {
  "kernelspec": {
   "display_name": "Python 3 (ipykernel)",
   "language": "python",
   "name": "python3"
  },
  "language_info": {
   "codemirror_mode": {
    "name": "ipython",
    "version": 3
   },
   "file_extension": ".py",
   "mimetype": "text/x-python",
   "name": "python",
   "nbconvert_exporter": "python",
   "pygments_lexer": "ipython3",
   "version": "3.11.3"
  }
 },
 "nbformat": 4,
 "nbformat_minor": 4
}
