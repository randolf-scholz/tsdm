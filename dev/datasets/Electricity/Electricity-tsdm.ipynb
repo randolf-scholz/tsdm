{
 "cells": [
  {
   "cell_type": "markdown",
   "metadata": {},
   "source": [
    "# Title"
   ]
  },
  {
   "cell_type": "code",
   "execution_count": null,
   "metadata": {
    "execution": {
     "iopub.execute_input": "2023-04-27T13:09:12.289643Z",
     "iopub.status.busy": "2023-04-27T13:09:12.289533Z",
     "iopub.status.idle": "2023-04-27T13:09:12.304874Z",
     "shell.execute_reply": "2023-04-27T13:09:12.304421Z",
     "shell.execute_reply.started": "2023-04-27T13:09:12.289630Z"
    },
    "tags": []
   },
   "outputs": [],
   "source": [
    "%config InteractiveShell.ast_node_interactivity='last_expr_or_assign'  # always print last expr.\n",
    "%config InlineBackend.figure_format = 'svg'\n",
    "%load_ext autoreload\n",
    "%autoreload 2\n",
    "\n",
    "import logging\n",
    "\n",
    "logging.basicConfig(level=logging.INFO)"
   ]
  },
  {
   "cell_type": "code",
   "execution_count": null,
   "metadata": {
    "execution": {
     "iopub.execute_input": "2023-04-27T13:09:12.305824Z",
     "iopub.status.busy": "2023-04-27T13:09:12.305673Z",
     "iopub.status.idle": "2023-04-27T13:09:15.552167Z",
     "shell.execute_reply": "2023-04-27T13:09:15.551743Z",
     "shell.execute_reply.started": "2023-04-27T13:09:12.305813Z"
    },
    "tags": []
   },
   "outputs": [],
   "source": [
    "from tsdm.datasets import Electricity"
   ]
  },
  {
   "cell_type": "code",
   "execution_count": null,
   "metadata": {
    "execution": {
     "iopub.execute_input": "2023-04-27T13:09:15.552947Z",
     "iopub.status.busy": "2023-04-27T13:09:15.552634Z",
     "iopub.status.idle": "2023-04-27T13:09:15.935071Z",
     "shell.execute_reply": "2023-04-27T13:09:15.934733Z",
     "shell.execute_reply.started": "2023-04-27T13:09:15.552935Z"
    },
    "tags": []
   },
   "outputs": [],
   "source": [
    "ds = Electricity()"
   ]
  },
  {
   "cell_type": "code",
   "execution_count": null,
   "metadata": {
    "execution": {
     "iopub.execute_input": "2023-04-27T13:27:38.332338Z",
     "iopub.status.busy": "2023-04-27T13:27:38.332039Z",
     "iopub.status.idle": "2023-04-27T13:27:42.208939Z",
     "shell.execute_reply": "2023-04-27T13:27:42.208544Z",
     "shell.execute_reply.started": "2023-04-27T13:27:38.332314Z"
    },
    "tags": []
   },
   "outputs": [],
   "source": [
    "%matplotlib inline\n",
    "ds.table.where(ds.table > 0).isna().sum(axis=1).plot(ylabel=\"zero-values\")"
   ]
  },
  {
   "cell_type": "code",
   "execution_count": null,
   "metadata": {},
   "outputs": [],
   "source": []
  }
 ],
 "metadata": {
  "kernelspec": {
   "display_name": "Python 3 (ipykernel)",
   "language": "python",
   "name": "python3"
  },
  "language_info": {
   "codemirror_mode": {
    "name": "ipython",
    "version": 3
   },
   "file_extension": ".py",
   "mimetype": "text/x-python",
   "name": "python",
   "nbconvert_exporter": "python",
   "pygments_lexer": "ipython3",
   "version": "3.11.3"
  }
 },
 "nbformat": 4,
 "nbformat_minor": 4
}
