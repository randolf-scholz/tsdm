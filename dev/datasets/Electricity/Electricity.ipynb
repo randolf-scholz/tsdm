{
 "cells": [
  {
   "cell_type": "code",
   "execution_count": null,
   "id": "477f4583-3894-4f81-8ff1-2bbcf5bc4959",
   "metadata": {},
   "outputs": [],
   "source": [
    "%config InteractiveShell.ast_node_interactivity='last_expr_or_assign'  # always print last expr.\n",
    "%config InlineBackend.figure_format = 'svg'\n",
    "%load_ext autoreload\n",
    "%autoreload 2\n",
    "%matplotlib inline\n",
    "\n",
    "import logging\n",
    "\n",
    "logging.basicConfig(level=logging.INFO)"
   ]
  },
  {
   "cell_type": "code",
   "execution_count": null,
   "id": "0f1bde03-b78a-49cf-852f-2a63bde503c3",
   "metadata": {},
   "outputs": [],
   "source": [
    "import numpy as np\n",
    "import pandas\n",
    "\n",
    "from tsdm.datasets import Electricity"
   ]
  },
  {
   "cell_type": "code",
   "execution_count": null,
   "id": "880e25bb-a8e0-43fe-8558-f1a1e879fcc8",
   "metadata": {
    "tags": []
   },
   "outputs": [],
   "source": [
    "x = Electricity()"
   ]
  },
  {
   "cell_type": "code",
   "execution_count": null,
   "id": "9d5dcf1e-3178-44a6-b9c0-72c011a291af",
   "metadata": {},
   "outputs": [],
   "source": [
    "pandas.date_range(\"2011\", \"2015\", freq=\"1Y\")"
   ]
  },
  {
   "cell_type": "code",
   "execution_count": null,
   "id": "eb95ec45-6284-4d84-9ba8-6261d37326f0",
   "metadata": {},
   "outputs": [],
   "source": [
    "ds = Electricity().dataset\n",
    "x = ds.copy()\n",
    "x = x.resample(\"1h\").sum()\n",
    "mask = x == 0.0\n",
    "x[mask] = float(\"nan\")\n",
    "\n",
    "ymin = x.min().min()\n",
    "ymax = x.max().max()\n",
    "xmin = np.datetime64(\"2010-10\")\n",
    "xmax = np.datetime64(\"2015-04\")"
   ]
  },
  {
   "cell_type": "code",
   "execution_count": null,
   "id": "82878624-495f-48b4-bab6-b36d9cb383bb",
   "metadata": {},
   "outputs": [],
   "source": [
    "xlabels = dates = [str(i) for i in range(2011, 2016)]\n",
    "xticks = np.array(dates).astype(np.datetime64)\n",
    "yticks = [1, 1000, 1000000]"
   ]
  },
  {
   "cell_type": "markdown",
   "id": "32f8e9c3-8ea2-4479-ada8-0cc5cdec8eef",
   "metadata": {},
   "source": [
    "Every year in March time change day (which has only 23 hours) the values between 1:00 am and 2:00 am are zero for all points. Every year in October time change day (which has 25 hours) the values between 1:00 am and 2:00 am aggregate the consumption of two hours. "
   ]
  },
  {
   "cell_type": "code",
   "execution_count": null,
   "id": "eb5e3a2d-7c5c-4b37-95f8-c9ce4e0b1fe8",
   "metadata": {},
   "outputs": [],
   "source": [
    "import matplotlib.pyplot as plt"
   ]
  },
  {
   "cell_type": "code",
   "execution_count": null,
   "id": "c7aaeea5-96b5-454a-a467-9a043226738e",
   "metadata": {},
   "outputs": [],
   "source": [
    "plt.style.use(\"bmh\")\n",
    "\n",
    "\n",
    "def make_figure(cols):\n",
    "    fig, axes = plt.subplots(\n",
    "        ncols=3,\n",
    "        nrows=8,\n",
    "        figsize=(8.27, 11.69),\n",
    "        constrained_layout=True,\n",
    "        sharex=True,\n",
    "        sharey=True,\n",
    "    )\n",
    "    for col, ax in zip(cols, axes.flatten()):\n",
    "        data = x[col].rolling(4).sum()  # kWH aggregation\n",
    "        data = data.rolling(24 * 7).mean()  # weekly aggregation\n",
    "        ax.semilogy(data.index, data.values, lw=1)\n",
    "        ax.set_ylim(0.1, 1_000_000)\n",
    "        ax.set_xlim(xmin, xmax)\n",
    "        ax.set_title(col)\n",
    "        ax.set_yticks(yticks)\n",
    "        ax.set_xticks(xticks, labels=xlabels)\n",
    "    return fig, axes\n",
    "\n",
    "\n",
    "fig, _ = make_figure(ds.columns)\n",
    "fig.savefig(\"Electricity.pdf\", orientation=\"portrait\")"
   ]
  },
  {
   "cell_type": "code",
   "execution_count": null,
   "id": "3d49551b-eba5-4be7-b23d-3585b74634c4",
   "metadata": {},
   "outputs": [],
   "source": [
    "%matplotlib agg\n",
    "from matplotlib.backends.backend_pdf import PdfPages\n",
    "from tqdm.auto import trange\n",
    "\n",
    "plt.style.use(\"bmh\")\n",
    "\n",
    "L = len(ds.columns)\n",
    "B = 24\n",
    "\n",
    "with PdfPages(\"electricity-booklet.pdf\") as pdf:\n",
    "    for idx in trange(0, L, B):\n",
    "        cols = ds.columns[idx : idx + B]\n",
    "        fig, _ = make_figure(cols)\n",
    "        pdf.savefig(fig)\n",
    "        plt.close(fig)"
   ]
  },
  {
   "cell_type": "markdown",
   "id": "34d74a61-065a-458f-a3e6-2102c693368d",
   "metadata": {},
   "source": [
    "### 2.1 Triplet Format\n",
    "\n",
    "The data is represented as a set of triplets (time, variable, value). All NaNs are dropped."
   ]
  },
  {
   "cell_type": "code",
   "execution_count": null,
   "id": "1b9e5de4-5a26-49fe-b6c5-c89f6287a321",
   "metadata": {},
   "outputs": [],
   "source": [
    "from tsdm.encoders.functional import (\n",
    "    make_dense_triplets,\n",
    "    make_masked_format,\n",
    "    make_sparse_triplets,\n",
    ")"
   ]
  },
  {
   "cell_type": "code",
   "execution_count": null,
   "id": "229ed818",
   "metadata": {},
   "outputs": [],
   "source": [
    "dense_x = make_dense_triplets(x)\n",
    "dense_x"
   ]
  },
  {
   "cell_type": "markdown",
   "id": "8ceb87f0-2039-400b-8589-2ded34cbe625",
   "metadata": {},
   "source": [
    "### 2.2 Sparse Triplet format\n",
    "\n",
    "The same as before, but the variable tensor is encoded in a one-hot fashion, and the tensor is stored as a sparse tensor"
   ]
  },
  {
   "cell_type": "code",
   "execution_count": null,
   "id": "432a3ee5",
   "metadata": {},
   "outputs": [],
   "source": [
    "sparse_x = make_sparse_triplets(x)\n",
    "sparse_x"
   ]
  },
  {
   "cell_type": "markdown",
   "id": "518a0d26-2136-4345-908f-d5a440956f4e",
   "metadata": {},
   "source": [
    "### 2.3 Masked Format\n",
    "\n",
    "Here we get 3 tensors:\n",
    "\n",
    "- x: the original data\n",
    "- m: a boolean mask, 1: value observed, 0: value not observed (NaN)\n",
    "- d: time since the channel was last observed"
   ]
  },
  {
   "cell_type": "code",
   "execution_count": null,
   "id": "6231394d",
   "metadata": {},
   "outputs": [],
   "source": [
    "x, m, d = make_masked_format(x)\n",
    "display(x, m, d)"
   ]
  },
  {
   "cell_type": "markdown",
   "id": "080c5fec-38b8-41ee-a2ab-4584a9d67c1e",
   "metadata": {},
   "source": [
    "## 3. Visualizing the data"
   ]
  },
  {
   "cell_type": "code",
   "execution_count": null,
   "id": "75e6c0f6-b6f9-49bb-b5de-f2bd51f96fa3",
   "metadata": {},
   "outputs": [],
   "source": [
    "df = Electricity().dataset\n",
    "ΔT = np.diff(df.index)\n",
    "Δt = ΔT[0].astype(\"timedelta64[m]\")\n",
    "assert np.all(ΔT == Δt)\n",
    "N, M = df.shape\n",
    "# remove first year from the data (useless zeros)\n",
    "span = np.timedelta64(365, \"D\") // Δt\n",
    "df = df.iloc[span:]"
   ]
  },
  {
   "cell_type": "code",
   "execution_count": null,
   "id": "d2543421-fb20-44f5-a142-22d7a0c36d24",
   "metadata": {},
   "outputs": [],
   "source": [
    "%config InlineBackend.figure_format = 'retina'\n",
    "%matplotlib inline\n",
    "from matplotlib import pyplot as plt\n",
    "\n",
    "fig, ax = plt.subplots(\n",
    "    nrows=4, ncols=2, figsize=(24, 9), tight_layout=True, sharex=\"col\", sharey=True\n",
    ")\n",
    "ax[1, 0].set_title(\"1h rolling average\")\n",
    "ax[1, 0].set_title(\"24h rolling average\")\n",
    "ax[2, 0].set_title(\"7d rolling average\")\n",
    "selection = np.random.randint(low=0, high=M, size=5)\n",
    "# selection = [319]\n",
    "\n",
    "a = np.datetime64(\"2013-01-01\")\n",
    "b = np.datetime64(\"2013-02-01\")\n",
    "mask = (df.index >= a) & (df.index <= b)\n",
    "\n",
    "\n",
    "for k, timedelta in enumerate(\n",
    "    (Δt, np.timedelta64(1, \"h\"), np.timedelta64(24, \"h\"), np.timedelta64(7, \"D\"))\n",
    "):\n",
    "    for l in range(2):\n",
    "        if l == 0:\n",
    "            data = df.rolling(window=timedelta // Δt, min_periods=1, axis=0).mean()\n",
    "        if l == 1:\n",
    "            a = np.datetime64(\"2013-01-01\")\n",
    "            b = np.datetime64(\"2013-02-01\")\n",
    "            mask = (df.index >= a) & (df.index <= b)\n",
    "            data = (\n",
    "                df[mask].rolling(window=timedelta // Δt, min_periods=1, axis=0).mean()\n",
    "            )\n",
    "\n",
    "        for col in data.iloc[:, selection]:\n",
    "            ax[k, l].plot(data.index, data[col])\n",
    "        ax[k, l].set_title(f\"{timedelta}-rolling average\")\n",
    "        ax[k, l].set_ylabel(\"electricity consumption in kW\")"
   ]
  },
  {
   "cell_type": "code",
   "execution_count": null,
   "id": "885d2365-422c-4769-a9c8-a2765e62103f",
   "metadata": {},
   "outputs": [],
   "source": []
  }
 ],
 "metadata": {
  "kernelspec": {
   "display_name": "Python 3 (ipykernel)",
   "language": "python",
   "name": "python3"
  },
  "language_info": {
   "codemirror_mode": {
    "name": "ipython",
    "version": 3
   },
   "file_extension": ".py",
   "mimetype": "text/x-python",
   "name": "python",
   "nbconvert_exporter": "python",
   "pygments_lexer": "ipython3",
   "version": "3.11.3"
  }
 },
 "nbformat": 4,
 "nbformat_minor": 5
}
