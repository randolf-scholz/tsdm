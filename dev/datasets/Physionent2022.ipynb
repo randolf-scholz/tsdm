{
 "cells": [
  {
   "cell_type": "markdown",
   "metadata": {},
   "source": [
    "# Sample Template"
   ]
  },
  {
   "cell_type": "code",
   "execution_count": null,
   "metadata": {},
   "outputs": [],
   "source": [
    "%config InteractiveShell.ast_node_interactivity='last_expr_or_assign'  # always print last expr.\n",
    "%config InlineBackend.figure_format = 'svg'\n",
    "%load_ext autoreload\n",
    "%autoreload 2\n",
    "%matplotlib inline\n",
    "\n",
    "import logging\n",
    "\n",
    "logging.basicConfig(level=logging.INFO)"
   ]
  },
  {
   "cell_type": "code",
   "execution_count": null,
   "metadata": {},
   "outputs": [],
   "source": [
    "from tsdm.datasets import SingleFrameDataset\n",
    "\n",
    "\n",
    "class PhysioNet2022(SingleFrameDataset):\n",
    "    BASE_URL: str = (\n",
    "        r\"https://physionet.org/static/published-projects/circor-heart-sound/\"\n",
    "    )\n",
    "    r\"\"\"HTTP address from where the dataset can be downloaded\"\"\"\n",
    "    INFO_URL: str = r\"https://moody-challenge.physionet.org/2022/\"\n",
    "    r\"\"\"HTTP address containing additional information about the dataset\"\"\"\n",
    "    INFO = \"https://physionet.org/content/circor-heart-sound/1.0.3/\"\n",
    "\n",
    "    # source_urls = {\n",
    "    #     \"A\" : r\"https://archive.physionet.org/users/shared/challenge-2019/training_setA.zip\",\n",
    "    #     \"B\" : r\"https://archive.physionet.org/users/shared/challenge-2019/training_setB.zip\",\n",
    "    # }\n",
    "\n",
    "    index = [\"timeseries\", \"metadata\"]\n",
    "    rawdata_files = \"the-circor-digiscope-phonocardiogram-dataset-1.0.3.zip\"\n",
    "    # dataset_files = None\n",
    "\n",
    "    # def __init__(self):\n",
    "    #     self.rawdata_files = [\n",
    "    #         self.rawdata_path / item\n",
    "    #         for item in (\"training_setA.zip\", \"training_setB.zip\")\n",
    "    #     ]\n",
    "\n",
    "    def _clean(self):\n",
    "        pass\n",
    "\n",
    "    def _load(self):\n",
    "        pass"
   ]
  },
  {
   "cell_type": "code",
   "execution_count": null,
   "metadata": {},
   "outputs": [],
   "source": [
    "ds = PhysioNet2022()"
   ]
  },
  {
   "cell_type": "markdown",
   "metadata": {},
   "source": [
    "## A second heading"
   ]
  },
  {
   "cell_type": "markdown",
   "metadata": {},
   "source": [
    "and some more text"
   ]
  }
 ],
 "metadata": {
  "kernelspec": {
   "display_name": "Python 3 (ipykernel)",
   "language": "python",
   "name": "python3"
  },
  "language_info": {
   "codemirror_mode": {
    "name": "ipython",
    "version": 3
   },
   "file_extension": ".py",
   "mimetype": "text/x-python",
   "name": "python",
   "nbconvert_exporter": "python",
   "pygments_lexer": "ipython3",
   "version": "3.10.5"
  }
 },
 "nbformat": 4,
 "nbformat_minor": 4
}
