{
 "cells": [
  {
   "cell_type": "code",
   "execution_count": null,
   "id": "5ee9e40a-5b3b-4649-ae84-c8defd1e9297",
   "metadata": {
    "tags": [
     "pyflyby-cell"
    ]
   },
   "outputs": [],
   "source": [
    "%config InteractiveShell.ast_node_interactivity='last_expr_or_assign'  # always print last expr.\n",
    "\n",
    "from tsdm.datasets.synthetic import DampedPendulum_Ansari2023 as Dataset\n",
    "\n",
    "dataset = Dataset()"
   ]
  },
  {
   "cell_type": "code",
   "execution_count": null,
   "id": "38bcca81-9351-4306-9e40-a4d911b47751",
   "metadata": {},
   "outputs": [],
   "source": [
    "from tsdm import tasks\n",
    "\n",
    "task = tasks.DampedPendulum_Ansari2023()"
   ]
  },
  {
   "cell_type": "code",
   "execution_count": null,
   "id": "129790b9-cfb8-48fc-a084-3614334b94c9",
   "metadata": {},
   "outputs": [],
   "source": [
    "from torch.utils.data import DataLoader\n",
    "\n",
    "sampler = task.samplers[0, \"train\"]\n",
    "generator = task.generators[0, \"train\"]\n",
    "dloader = DataLoader(generator, sampler=sampler, collate_fn=lambda x: x, batch_size=20)"
   ]
  },
  {
   "cell_type": "code",
   "execution_count": null,
   "id": "35aabb5e-fc97-41e8-95cb-7802989dd7c8",
   "metadata": {},
   "outputs": [],
   "source": [
    "dloader = task.dataloaders[0, \"train\"]"
   ]
  },
  {
   "cell_type": "code",
   "execution_count": null,
   "id": "562ff8c2-26d9-49ea-a49a-429eb846ccf9",
   "metadata": {},
   "outputs": [],
   "source": [
    "len(next(iter(dloader)))"
   ]
  }
 ],
 "metadata": {
  "kernelspec": {
   "display_name": "Python 3 (ipykernel)",
   "language": "python",
   "name": "python3"
  },
  "language_info": {
   "codemirror_mode": {
    "name": "ipython",
    "version": 3
   },
   "file_extension": ".py",
   "mimetype": "text/x-python",
   "name": "python",
   "nbconvert_exporter": "python",
   "pygments_lexer": "ipython3",
   "version": "3.10.13"
  }
 },
 "nbformat": 4,
 "nbformat_minor": 5
}
