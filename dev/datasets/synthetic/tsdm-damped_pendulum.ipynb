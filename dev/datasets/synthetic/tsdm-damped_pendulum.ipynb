{
 "cells": [
  {
   "cell_type": "code",
   "execution_count": null,
   "id": "5ee9e40a-5b3b-4649-ae84-c8defd1e9297",
   "metadata": {
    "tags": [
     "pyflyby-cell"
    ]
   },
   "outputs": [],
   "source": [
    "%config InteractiveShell.ast_node_interactivity='last_expr_or_assign'  # always print last expr.\n",
    "\n",
    "from tsdm.datasets.synthetic import DampedPendulum_Ansari2023 as Dataset\n",
    "\n",
    "dataset = Dataset()"
   ]
  },
  {
   "cell_type": "code",
   "execution_count": null,
   "id": "38bcca81-9351-4306-9e40-a4d911b47751",
   "metadata": {},
   "outputs": [],
   "source": [
    "from tsdm import tasks\n",
    "\n",
    "task = tasks.DampedPendulum_Ansari2023()"
   ]
  },
  {
   "cell_type": "code",
   "execution_count": null,
   "id": "f2960cbe-a60d-4746-a2d0-8891ac18dd11",
   "metadata": {},
   "outputs": [],
   "source": [
    "len(list(task.samplers[0, \"test\"]))"
   ]
  },
  {
   "cell_type": "code",
   "execution_count": null,
   "id": "8517187e-c2bd-4333-88da-99fcbf5c58dd",
   "metadata": {},
   "outputs": [],
   "source": []
  }
 ],
 "metadata": {
  "kernelspec": {
   "display_name": "Python 3 (ipykernel)",
   "language": "python",
   "name": "python3"
  },
  "language_info": {
   "codemirror_mode": {
    "name": "ipython",
    "version": 3
   },
   "file_extension": ".py",
   "mimetype": "text/x-python",
   "name": "python",
   "nbconvert_exporter": "python",
   "pygments_lexer": "ipython3",
   "version": "3.10.13"
  }
 },
 "nbformat": 4,
 "nbformat_minor": 5
}
