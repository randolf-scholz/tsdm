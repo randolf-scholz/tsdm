{
 "cells": [
  {
   "cell_type": "code",
   "execution_count": null,
   "id": "5ee9e40a-5b3b-4649-ae84-c8defd1e9297",
   "metadata": {
    "tags": [
     "pyflyby-cell"
    ]
   },
   "outputs": [],
   "source": [
    "from tsdm.datasets.synthetic import DampedPendulum as Dataset\n",
    "\n",
    "ds = Dataset()\n",
    "ds"
   ]
  },
  {
   "cell_type": "code",
   "execution_count": null,
   "id": "437ecf83-4b50-4d8a-b822-e79c559af595",
   "metadata": {},
   "outputs": [],
   "source": [
    "from tsdm.datasets.timeseries import DampedPendulum\n",
    "\n",
    "ds = DampedPendulum()\n",
    "ds"
   ]
  },
  {
   "cell_type": "code",
   "execution_count": null,
   "id": "38bcca81-9351-4306-9e40-a4d911b47751",
   "metadata": {},
   "outputs": [],
   "source": []
  }
 ],
 "metadata": {
  "kernelspec": {
   "display_name": "Python 3 (ipykernel)",
   "language": "python",
   "name": "python3"
  },
  "language_info": {
   "codemirror_mode": {
    "name": "ipython",
    "version": 3
   },
   "file_extension": ".py",
   "mimetype": "text/x-python",
   "name": "python",
   "nbconvert_exporter": "python",
   "pygments_lexer": "ipython3",
   "version": "3.10.13"
  }
 },
 "nbformat": 4,
 "nbformat_minor": 5
}
