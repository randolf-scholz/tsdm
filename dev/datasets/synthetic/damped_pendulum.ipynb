{
 "cells": [
  {
   "cell_type": "code",
   "execution_count": null,
   "id": "5ee9e40a-5b3b-4649-ae84-c8defd1e9297",
   "metadata": {
    "tags": [
     "pyflyby-cell"
    ]
   },
   "outputs": [],
   "source": [
    "import enum\n",
    "from typing import Any, final\n",
    "\n",
    "import numpy as np\n",
    "import pandas as pd\n",
    "from pandas import DataFrame, Index\n",
    "from scipy.stats import norm as univariate_normal\n",
    "from tqdm.autonotebook import trange\n",
    "\n",
    "from tsdm.datasets.base import BaseDataset\n",
    "from tsdm.random import generators"
   ]
  },
  {
   "cell_type": "code",
   "execution_count": null,
   "id": "6a9c8b71-2fa0-4bfa-be51-e01b2095bc3f",
   "metadata": {},
   "outputs": [],
   "source": [
    "from tsdm.datasets.synthetic import DampedPendulum\n",
    "\n",
    "self = DampedPendulum(initialize=False)\n",
    "\n",
    "rawdata_files = []\n",
    "num_sequences = 7000\n",
    "step = 0.1\n",
    "t_min = 0.0\n",
    "t_max = 15.0"
   ]
  },
  {
   "cell_type": "code",
   "execution_count": null,
   "id": "38f43e37-48fd-451d-be9f-5ba05b5b7707",
   "metadata": {},
   "outputs": [],
   "source": [
    "# generate time range\n",
    "t_range = np.arange(self.t_min, self.t_max + self.step / 2, self.step)\n",
    "assert t_range[0] == self.t_min\n",
    "assert t_range[-1] == self.t_max\n",
    "assert np.allclose(np.diff(t_range), self.step)\n",
    "\n",
    "sequences = []\n",
    "for k in trange(self.num_sequences, desc=\"generating sequences\"):\n",
    "    sequences.append(self.generator.rvs(t_range))"
   ]
  },
  {
   "cell_type": "code",
   "execution_count": null,
   "id": "a4e849f2-ad02-4afd-8268-408ab26434d6",
   "metadata": {},
   "outputs": [],
   "source": [
    "pd.concat(\n",
    "    {\n",
    "        k: DataFrame(\n",
    "            seq,\n",
    "            index=Index(t_range, name=\"time\"),\n",
    "            columns=[\"theta\", \"omega\"],\n",
    "            dtype=\"float32[pyarrow]\",\n",
    "        )\n",
    "        for k, seq in enumerate(sequences)\n",
    "    },\n",
    "    names=[\"ID\"],\n",
    ")"
   ]
  },
  {
   "cell_type": "code",
   "execution_count": null,
   "id": "38d79616-5bdf-4c6d-a6d3-86d11de752a2",
   "metadata": {},
   "outputs": [],
   "source": [
    "DataFrame(sequences)"
   ]
  },
  {
   "cell_type": "code",
   "execution_count": null,
   "id": "ee1124cb-ba31-4fce-8244-24197544c041",
   "metadata": {},
   "outputs": [],
   "source": []
  }
 ],
 "metadata": {
  "kernelspec": {
   "display_name": "Python 3 (ipykernel)",
   "language": "python",
   "name": "python3"
  },
  "language_info": {
   "codemirror_mode": {
    "name": "ipython",
    "version": 3
   },
   "file_extension": ".py",
   "mimetype": "text/x-python",
   "name": "python",
   "nbconvert_exporter": "python",
   "pygments_lexer": "ipython3",
   "version": "3.10.13"
  }
 },
 "nbformat": 4,
 "nbformat_minor": 5
}
