{
 "cells": [
  {
   "cell_type": "markdown",
   "metadata": {},
   "source": [
    "# MIMIC 4 data - dataset construction prescriptions"
   ]
  },
  {
   "cell_type": "markdown",
   "metadata": {},
   "source": [
    "Code taken from GRU-ODE-Bayes preprocessing; simplified and adapted for MIMIC 4 1.0"
   ]
  },
  {
   "cell_type": "code",
   "execution_count": null,
   "metadata": {
    "execution": {
     "iopub.execute_input": "2022-09-12T10:31:12.203995Z",
     "iopub.status.busy": "2022-09-12T10:31:12.203701Z",
     "iopub.status.idle": "2022-09-12T10:31:12.461178Z",
     "shell.execute_reply": "2022-09-12T10:31:12.460732Z",
     "shell.execute_reply.started": "2022-09-12T10:31:12.203937Z"
    }
   },
   "outputs": [],
   "source": [
    "import gzip\n",
    "from zipfile import ZipFile\n",
    "\n",
    "import pandas as pd\n",
    "import pyarrow\n",
    "import pyarrow.csv\n",
    "import pyarrow.parquet"
   ]
  },
  {
   "cell_type": "code",
   "execution_count": null,
   "metadata": {
    "execution": {
     "iopub.execute_input": "2022-09-12T10:31:12.462157Z",
     "iopub.status.busy": "2022-09-12T10:31:12.461961Z",
     "iopub.status.idle": "2022-09-12T10:31:12.464900Z",
     "shell.execute_reply": "2022-09-12T10:31:12.464570Z",
     "shell.execute_reply.started": "2022-09-12T10:31:12.462147Z"
    }
   },
   "outputs": [],
   "source": [
    "pd.set_option(\"display.max_rows\", 50)\n",
    "pd.set_option(\"display.max_columns\", 300)"
   ]
  },
  {
   "cell_type": "code",
   "execution_count": null,
   "metadata": {
    "execution": {
     "iopub.execute_input": "2022-09-12T10:31:12.465541Z",
     "iopub.status.busy": "2022-09-12T10:31:12.465391Z",
     "iopub.status.idle": "2022-09-12T10:31:12.514893Z",
     "shell.execute_reply": "2022-09-12T10:31:12.514448Z",
     "shell.execute_reply.started": "2022-09-12T10:31:12.465521Z"
    }
   },
   "outputs": [],
   "source": [
    "admissions = pd.read_parquet(\"admissions_processed.parquet\")"
   ]
  },
  {
   "cell_type": "code",
   "execution_count": null,
   "metadata": {
    "execution": {
     "iopub.execute_input": "2022-09-12T10:31:12.515658Z",
     "iopub.status.busy": "2022-09-12T10:31:12.515492Z",
     "iopub.status.idle": "2022-09-12T10:31:12.520361Z",
     "shell.execute_reply": "2022-09-12T10:31:12.519687Z",
     "shell.execute_reply.started": "2022-09-12T10:31:12.515646Z"
    }
   },
   "outputs": [],
   "source": [
    "dataset_file = \"mimic-iv-1.0.zip\"\n",
    "\n",
    "files = {\n",
    "    \"prescriptions\": \"mimic-iv-1.0/hosp/prescriptions.csv.gz\",\n",
    "}\n",
    "column_types = {\n",
    "    \"prescriptions\": {\n",
    "        \"subject_id\": \"int32\",\n",
    "        \"hadm_id\": \"int32\",\n",
    "        \"pharmacy_id\": \"int32\",\n",
    "        \"starttime\": \"timestamp[s]\",\n",
    "        \"stoptime\": \"timestamp[s]\",\n",
    "        \"drug_type\": \"string\",\n",
    "        \"drug\": \"string\",\n",
    "        \"gsn\": \"string\",\n",
    "        \"ndc\": \"float32\",\n",
    "        \"prod_strength\": \"string\",\n",
    "        \"form_rx\": \"string\",\n",
    "        \"dose_val_rx\": \"string\",  # float or interval[float]\n",
    "        \"dose_unit_rx\": \"string\",\n",
    "        \"form_val_disp\": \"string\",  # float or interval[float]\n",
    "        \"form_unit_disp\": \"string\",\n",
    "        \"doses_per_24_hrs\": \"int32\",\n",
    "        \"route\": \"string\",\n",
    "    }\n",
    "}"
   ]
  },
  {
   "cell_type": "code",
   "execution_count": null,
   "metadata": {
    "execution": {
     "iopub.execute_input": "2022-09-12T10:31:12.521318Z",
     "iopub.status.busy": "2022-09-12T10:31:12.521120Z",
     "iopub.status.idle": "2022-09-12T10:31:24.174477Z",
     "shell.execute_reply": "2022-09-12T10:31:24.173894Z",
     "shell.execute_reply.started": "2022-09-12T10:31:12.521304Z"
    },
    "tags": []
   },
   "outputs": [],
   "source": [
    "%%time\n",
    "key = \"prescriptions\"\n",
    "with (\n",
    "    ZipFile(dataset_file) as archive,\n",
    "    archive.open(files[key]) as compressed_file,\n",
    "    gzip.open(compressed_file) as file,\n",
    "):\n",
    "    prescriptions = pyarrow.csv.read_csv(\n",
    "        file,\n",
    "        convert_options=pyarrow.csv.ConvertOptions(\n",
    "            column_types=column_types[key],\n",
    "            auto_dict_encode=True,\n",
    "            strings_can_be_null=True,\n",
    "            null_values=[\"\"],\n",
    "        ),\n",
    "    )\n",
    "\n",
    "# set categoricals\n",
    "for col, dtype in column_types[key].items():\n",
    "    if dtype == \"string\":\n",
    "        index = prescriptions.column_names.index(col)\n",
    "        categories = prescriptions[col].dictionary_encode()\n",
    "        prescriptions = prescriptions.set_column(index, col, categories)\n",
    "\n",
    "pyarrow.parquet.write_table(prescriptions, f\"{key}.parquet\")\n",
    "prescriptions.schema"
   ]
  },
  {
   "cell_type": "markdown",
   "metadata": {},
   "source": [
    "## Store and reload as pandas"
   ]
  },
  {
   "cell_type": "code",
   "execution_count": null,
   "metadata": {
    "execution": {
     "iopub.execute_input": "2022-09-12T10:31:24.175179Z",
     "iopub.status.busy": "2022-09-12T10:31:24.175047Z",
     "iopub.status.idle": "2022-09-12T10:31:35.583104Z",
     "shell.execute_reply": "2022-09-12T10:31:35.582226Z",
     "shell.execute_reply.started": "2022-09-12T10:31:24.175167Z"
    },
    "tags": []
   },
   "outputs": [],
   "source": [
    "with pd.option_context(\"string_storage\", \"pyarrow\"):\n",
    "    prescriptions = pd.read_parquet(f\"{key}.parquet\", use_nullable_dtypes=True)\n",
    "\n",
    "pd.DataFrame({\"type\": prescriptions.dtypes, \"uniques\": prescriptions.nunique()})"
   ]
  },
  {
   "cell_type": "markdown",
   "metadata": {},
   "source": [
    "### Only choose previously selected admission ids"
   ]
  },
  {
   "cell_type": "code",
   "execution_count": null,
   "metadata": {
    "execution": {
     "iopub.execute_input": "2022-09-12T10:31:35.584757Z",
     "iopub.status.busy": "2022-09-12T10:31:35.584612Z",
     "iopub.status.idle": "2022-09-12T10:31:35.810561Z",
     "shell.execute_reply": "2022-09-12T10:31:35.809701Z",
     "shell.execute_reply.started": "2022-09-12T10:31:35.584745Z"
    },
    "tags": []
   },
   "outputs": [],
   "source": [
    "prescriptions = prescriptions[prescriptions[\"hadm_id\"].isin(admissions[\"hadm_id\"])]\n",
    "print(f\"Number of events remaining: {prescriptions.shape}\")\n",
    "print(f\"Number of patients remaining: {prescriptions['subject_id'].nunique()}\")"
   ]
  },
  {
   "cell_type": "markdown",
   "metadata": {},
   "source": [
    "# Select entries whose drug name is in the list from the paper."
   ]
  },
  {
   "cell_type": "code",
   "execution_count": null,
   "metadata": {
    "execution": {
     "iopub.execute_input": "2022-09-12T10:31:35.811406Z",
     "iopub.status.busy": "2022-09-12T10:31:35.811254Z",
     "iopub.status.idle": "2022-09-12T10:31:38.552650Z",
     "shell.execute_reply": "2022-09-12T10:31:38.552204Z",
     "shell.execute_reply.started": "2022-09-12T10:31:35.811394Z"
    },
    "tags": []
   },
   "outputs": [],
   "source": [
    "drugs_list = [\n",
    "    \"Acetaminophen\",\n",
    "    \"Aspirin\",\n",
    "    \"Bisacodyl\",\n",
    "    \"Insulin\",\n",
    "    \"Heparin\",\n",
    "    \"Docusate Sodium\",\n",
    "    \"D5W\",\n",
    "    \"Humulin-R Insulin\",\n",
    "    \"Potassium Chloride\",\n",
    "    \"Magnesium Sulfate\",\n",
    "    \"Metoprolol Tartrate\",\n",
    "    \"Sodium Chloride 0.9%  Flush\",\n",
    "    \"Pantoprazole\",\n",
    "]\n",
    "prescriptions = prescriptions[prescriptions[\"drug\"].isin(drugs_list)]\n",
    "print(f\"Number of events remaining: {prescriptions.shape}\")\n",
    "print(f\"Number of patients remaining: {prescriptions['subject_id'].nunique()}\")\n",
    "prescriptions.groupby(\"drug\")[\"dose_unit_rx\"].value_counts()"
   ]
  },
  {
   "cell_type": "markdown",
   "metadata": {},
   "source": [
    "# Units correction"
   ]
  },
  {
   "cell_type": "code",
   "execution_count": null,
   "metadata": {
    "execution": {
     "iopub.execute_input": "2022-09-12T10:31:38.553400Z",
     "iopub.status.busy": "2022-09-12T10:31:38.553251Z",
     "iopub.status.idle": "2022-09-12T10:31:38.594469Z",
     "shell.execute_reply": "2022-09-12T10:31:38.593800Z",
     "shell.execute_reply.started": "2022-09-12T10:31:38.553387Z"
    },
    "tags": []
   },
   "outputs": [],
   "source": [
    "prescriptions = prescriptions[prescriptions[\"dose_unit_rx\"].notna()]\n",
    "print(f\"Number of events remaining: {prescriptions.shape}\")\n",
    "print(f\"Number of patients remaining: {prescriptions['subject_id'].nunique()}\")"
   ]
  },
  {
   "cell_type": "code",
   "execution_count": null,
   "metadata": {
    "execution": {
     "iopub.execute_input": "2022-09-12T10:31:38.595567Z",
     "iopub.status.busy": "2022-09-12T10:31:38.595370Z",
     "iopub.status.idle": "2022-09-12T10:31:38.622357Z",
     "shell.execute_reply": "2022-09-12T10:31:38.621499Z",
     "shell.execute_reply.started": "2022-09-12T10:31:38.595549Z"
    },
    "tags": []
   },
   "outputs": [],
   "source": [
    "check_dose_unit_rx = {\n",
    "    \"Acetaminophen\": \"mg\",\n",
    "    \"D5W\": \"mL\",\n",
    "    \"Heparin\": \"UNIT\",\n",
    "    \"Insulin\": \"UNIT\",\n",
    "    \"Magnesium Sulfate\": \"gm\",\n",
    "    \"Potassium Chloride\": \"mEq\",\n",
    "    \"Bisacodyl\": \"mg\",\n",
    "    \"Pantoprazole\": \"mg\",\n",
    "}\n",
    "\n",
    "MASK = pd.Series(False, index=prescriptions.index)\n",
    "for drug, unit in check_dose_unit_rx.items():\n",
    "    mask = (prescriptions[\"drug\"] == drug) & (prescriptions[\"dose_unit_rx\"] != unit)\n",
    "    print(f\"Removing {mask.sum():5d} entries - bad data in {drug} (drop {unit})\")\n",
    "    MASK |= mask\n",
    "\n",
    "prescriptions = prescriptions[~MASK]"
   ]
  },
  {
   "cell_type": "markdown",
   "metadata": {},
   "source": [
    "# Fixing units"
   ]
  },
  {
   "cell_type": "code",
   "execution_count": null,
   "metadata": {
    "execution": {
     "iopub.execute_input": "2022-09-12T10:31:38.623114Z",
     "iopub.status.busy": "2022-09-12T10:31:38.622975Z",
     "iopub.status.idle": "2022-09-12T10:31:41.291542Z",
     "shell.execute_reply": "2022-09-12T10:31:41.291041Z",
     "shell.execute_reply.started": "2022-09-12T10:31:38.623103Z"
    },
    "tags": []
   },
   "outputs": [],
   "source": [
    "prescriptions[\"dose_unit_rx\"].replace(\"mL\", \"ml\", inplace=True)\n",
    "prescriptions.groupby(\"drug\")[\"dose_unit_rx\"].value_counts()"
   ]
  },
  {
   "cell_type": "markdown",
   "metadata": {
    "execution": {
     "iopub.status.busy": "2022-09-12T00:56:41.529466Z",
     "iopub.status.idle": "2022-09-12T00:56:41.529608Z",
     "shell.execute_reply": "2022-09-12T00:56:41.529539Z",
     "shell.execute_reply.started": "2022-09-12T00:56:41.529533Z"
    }
   },
   "source": [
    "### To avoid confounding labels with labels from other tables, we add \"drug\" to the name"
   ]
  },
  {
   "cell_type": "code",
   "execution_count": null,
   "metadata": {
    "execution": {
     "iopub.execute_input": "2022-09-12T10:31:41.292309Z",
     "iopub.status.busy": "2022-09-12T10:31:41.292106Z",
     "iopub.status.idle": "2022-09-12T10:31:41.296607Z",
     "shell.execute_reply": "2022-09-12T10:31:41.296266Z",
     "shell.execute_reply.started": "2022-09-12T10:31:41.292296Z"
    },
    "tags": []
   },
   "outputs": [],
   "source": [
    "prescriptions.starttime"
   ]
  },
  {
   "cell_type": "code",
   "execution_count": null,
   "metadata": {
    "execution": {
     "iopub.execute_input": "2022-09-12T10:31:41.297251Z",
     "iopub.status.busy": "2022-09-12T10:31:41.297076Z",
     "iopub.status.idle": "2022-09-12T10:31:41.316423Z",
     "shell.execute_reply": "2022-09-12T10:31:41.315846Z",
     "shell.execute_reply.started": "2022-09-12T10:31:41.297239Z"
    },
    "tags": []
   },
   "outputs": [],
   "source": [
    "prescriptions[\"charttime\"] = prescriptions[\"starttime\"]"
   ]
  },
  {
   "cell_type": "code",
   "execution_count": null,
   "metadata": {
    "execution": {
     "iopub.execute_input": "2022-09-12T10:31:41.317141Z",
     "iopub.status.busy": "2022-09-12T10:31:41.317007Z",
     "iopub.status.idle": "2022-09-12T10:31:41.531098Z",
     "shell.execute_reply": "2022-09-12T10:31:41.530585Z",
     "shell.execute_reply.started": "2022-09-12T10:31:41.317130Z"
    },
    "tags": []
   },
   "outputs": [],
   "source": [
    "prescriptions.to_parquet(\"prescriptions_processed.parquet\")"
   ]
  },
  {
   "cell_type": "code",
   "execution_count": null,
   "metadata": {},
   "outputs": [],
   "source": []
  }
 ],
 "metadata": {
  "kernelspec": {
   "display_name": "Python 3 (ipykernel)",
   "language": "python",
   "name": "python3"
  },
  "language_info": {
   "codemirror_mode": {
    "name": "ipython",
    "version": 3
   },
   "file_extension": ".py",
   "mimetype": "text/x-python",
   "name": "python",
   "nbconvert_exporter": "python",
   "pygments_lexer": "ipython3",
   "version": "3.10.6"
  }
 },
 "nbformat": 4,
 "nbformat_minor": 4
}
