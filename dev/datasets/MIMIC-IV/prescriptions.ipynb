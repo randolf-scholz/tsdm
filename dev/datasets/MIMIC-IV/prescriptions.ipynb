{
 "cells": [
  {
   "cell_type": "markdown",
   "metadata": {},
   "source": [
    "# MIMIC 4 data - dataset construction prescriptions"
   ]
  },
  {
   "cell_type": "code",
   "execution_count": null,
   "metadata": {
    "execution": {
     "iopub.execute_input": "2022-09-12T18:02:07.584009Z",
     "iopub.status.busy": "2022-09-12T18:02:07.583883Z",
     "iopub.status.idle": "2022-09-12T18:02:07.861260Z",
     "shell.execute_reply": "2022-09-12T18:02:07.860764Z",
     "shell.execute_reply.started": "2022-09-12T18:02:07.583974Z"
    },
    "tags": []
   },
   "outputs": [],
   "source": [
    "import gzip\n",
    "from pathlib import Path\n",
    "from zipfile import ZipFile\n",
    "\n",
    "import numpy as np\n",
    "import pandas as pd\n",
    "import pyarrow\n",
    "import pyarrow.csv\n",
    "import pyarrow.parquet"
   ]
  },
  {
   "cell_type": "markdown",
   "metadata": {},
   "source": [
    "# Load `prescriptions` table"
   ]
  },
  {
   "cell_type": "markdown",
   "metadata": {},
   "source": [
    "## Table Schema"
   ]
  },
  {
   "cell_type": "code",
   "execution_count": null,
   "metadata": {
    "execution": {
     "iopub.execute_input": "2022-09-12T18:02:07.862416Z",
     "iopub.status.busy": "2022-09-12T18:02:07.862243Z",
     "iopub.status.idle": "2022-09-12T18:02:07.866155Z",
     "shell.execute_reply": "2022-09-12T18:02:07.865495Z",
     "shell.execute_reply.started": "2022-09-12T18:02:07.862405Z"
    },
    "tags": []
   },
   "outputs": [],
   "source": [
    "rawdata_file = Path.cwd() / \"mimic-iv-1.0.zip\"\n",
    "dataset_path = Path.cwd() / \"processed\"\n",
    "rawdata_path = Path.cwd() / \"raw\"\n",
    "\n",
    "files = {\n",
    "    \"prescriptions\": \"mimic-iv-1.0/hosp/prescriptions.csv.gz\",\n",
    "}\n",
    "\n",
    "CATEGORY = pyarrow.dictionary(\"int32\", \"string\")\n",
    "\n",
    "\n",
    "column_types = {\n",
    "    \"prescriptions\": {\n",
    "        \"subject_id\": \"int32\",\n",
    "        \"hadm_id\": \"int32\",\n",
    "        \"pharmacy_id\": \"int32\",\n",
    "        \"starttime\": \"timestamp[s]\",\n",
    "        \"stoptime\": \"timestamp[s]\",\n",
    "        \"drug_type\": CATEGORY,\n",
    "        \"drug\": CATEGORY,\n",
    "        \"gsn\": CATEGORY,\n",
    "        \"ndc\": \"float32\",\n",
    "        \"prod_strength\": CATEGORY,\n",
    "        \"form_rx\": CATEGORY,\n",
    "        \"dose_val_rx\": CATEGORY,  # float or interval[float]\n",
    "        \"dose_unit_rx\": CATEGORY,\n",
    "        \"form_val_disp\": CATEGORY,  # float or interval[float]\n",
    "        \"form_unit_disp\": CATEGORY,\n",
    "        \"doses_per_24_hrs\": \"float32\",\n",
    "        \"route\": CATEGORY,\n",
    "    }\n",
    "}"
   ]
  },
  {
   "cell_type": "markdown",
   "metadata": {},
   "source": [
    "## Load Prescriptions"
   ]
  },
  {
   "cell_type": "code",
   "execution_count": null,
   "metadata": {
    "execution": {
     "iopub.execute_input": "2022-09-12T18:02:07.867093Z",
     "iopub.status.busy": "2022-09-12T18:02:07.866953Z",
     "iopub.status.idle": "2022-09-12T18:02:14.484033Z",
     "shell.execute_reply": "2022-09-12T18:02:14.483540Z",
     "shell.execute_reply.started": "2022-09-12T18:02:07.867081Z"
    },
    "tags": []
   },
   "outputs": [],
   "source": [
    "%%time\n",
    "key = \"prescriptions\"\n",
    "with (\n",
    "    ZipFile(rawdata_file) as archive,\n",
    "    archive.open(files[key]) as compressed_file,\n",
    "    gzip.open(compressed_file) as file,\n",
    "):\n",
    "    prescriptions = pyarrow.csv.read_csv(\n",
    "        file,\n",
    "        convert_options=pyarrow.csv.ConvertOptions(\n",
    "            column_types=column_types[key],\n",
    "            strings_can_be_null=True,\n",
    "            null_values=[\"\"],\n",
    "        ),\n",
    "    )\n",
    "\n",
    "prescriptions.schema"
   ]
  },
  {
   "cell_type": "markdown",
   "metadata": {},
   "source": [
    "## Store and reload as pandas"
   ]
  },
  {
   "cell_type": "code",
   "execution_count": null,
   "metadata": {
    "execution": {
     "iopub.execute_input": "2022-09-12T18:02:14.484747Z",
     "iopub.status.busy": "2022-09-12T18:02:14.484599Z",
     "iopub.status.idle": "2022-09-12T18:02:21.999018Z",
     "shell.execute_reply": "2022-09-12T18:02:21.998547Z",
     "shell.execute_reply.started": "2022-09-12T18:02:14.484732Z"
    },
    "tags": []
   },
   "outputs": [],
   "source": [
    "pyarrow.parquet.write_table(prescriptions, f\"{key}.parquet\")\n",
    "prescriptions = prescriptions.to_pandas(self_destruct=True)\n",
    "prescriptions"
   ]
  },
  {
   "cell_type": "markdown",
   "metadata": {},
   "source": [
    "# Filter Dataset"
   ]
  },
  {
   "cell_type": "markdown",
   "metadata": {},
   "source": [
    "## Only choose previously selected admission ids"
   ]
  },
  {
   "cell_type": "code",
   "execution_count": null,
   "metadata": {
    "execution": {
     "iopub.execute_input": "2022-09-12T18:02:21.999637Z",
     "iopub.status.busy": "2022-09-12T18:02:21.999496Z",
     "iopub.status.idle": "2022-09-12T18:02:22.194771Z",
     "shell.execute_reply": "2022-09-12T18:02:22.194117Z",
     "shell.execute_reply.started": "2022-09-12T18:02:21.999623Z"
    },
    "tags": []
   },
   "outputs": [],
   "source": [
    "admissions = pd.read_parquet(dataset_path / \"admissions_processed.parquet\")\n",
    "prescriptions = prescriptions[prescriptions[\"hadm_id\"].isin(admissions[\"hadm_id\"])]\n",
    "print(f\"Number of events remaining: {prescriptions.shape}\")\n",
    "print(f\"Number of patients remaining: {prescriptions['subject_id'].nunique()}\")"
   ]
  },
  {
   "cell_type": "markdown",
   "metadata": {},
   "source": [
    "## Select entries whose drug name is in the list from the paper."
   ]
  },
  {
   "cell_type": "code",
   "execution_count": null,
   "metadata": {
    "execution": {
     "iopub.execute_input": "2022-09-12T18:02:22.195353Z",
     "iopub.status.busy": "2022-09-12T18:02:22.195211Z",
     "iopub.status.idle": "2022-09-12T18:02:25.146655Z",
     "shell.execute_reply": "2022-09-12T18:02:25.146087Z",
     "shell.execute_reply.started": "2022-09-12T18:02:22.195342Z"
    },
    "tags": []
   },
   "outputs": [],
   "source": [
    "drugs_list = [\n",
    "    \"Acetaminophen\",\n",
    "    \"Aspirin\",\n",
    "    \"Bisacodyl\",\n",
    "    \"Insulin\",\n",
    "    \"Heparin\",\n",
    "    \"Docusate Sodium\",\n",
    "    \"D5W\",\n",
    "    \"Humulin-R Insulin\",\n",
    "    \"Potassium Chloride\",\n",
    "    \"Magnesium Sulfate\",\n",
    "    \"Metoprolol Tartrate\",\n",
    "    \"Sodium Chloride 0.9%  Flush\",\n",
    "    \"Pantoprazole\",\n",
    "]\n",
    "prescriptions = prescriptions[prescriptions[\"drug\"].isin(drugs_list)]\n",
    "print(f\"Number of events remaining: {prescriptions.shape}\")\n",
    "print(f\"Number of patients remaining: {prescriptions['subject_id'].nunique()}\")\n",
    "prescriptions.groupby(\"drug\")[\"dose_unit_rx\"].value_counts()"
   ]
  },
  {
   "cell_type": "markdown",
   "metadata": {},
   "source": [
    "# Correct Units"
   ]
  },
  {
   "cell_type": "code",
   "execution_count": null,
   "metadata": {
    "execution": {
     "iopub.execute_input": "2022-09-12T18:02:25.148133Z",
     "iopub.status.busy": "2022-09-12T18:02:25.147927Z",
     "iopub.status.idle": "2022-09-12T18:02:25.164003Z",
     "shell.execute_reply": "2022-09-12T18:02:25.163158Z",
     "shell.execute_reply.started": "2022-09-12T18:02:25.148120Z"
    },
    "tags": []
   },
   "outputs": [],
   "source": [
    "prescriptions = prescriptions[prescriptions[\"dose_unit_rx\"].notna()]\n",
    "print(f\"Number of events remaining: {prescriptions.shape}\")\n",
    "print(f\"Number of patients remaining: {prescriptions['subject_id'].nunique()}\")"
   ]
  },
  {
   "cell_type": "code",
   "execution_count": null,
   "metadata": {
    "execution": {
     "iopub.execute_input": "2022-09-12T18:02:25.164841Z",
     "iopub.status.busy": "2022-09-12T18:02:25.164620Z",
     "iopub.status.idle": "2022-09-12T18:02:25.197724Z",
     "shell.execute_reply": "2022-09-12T18:02:25.196911Z",
     "shell.execute_reply.started": "2022-09-12T18:02:25.164827Z"
    },
    "tags": []
   },
   "outputs": [],
   "source": [
    "check_dose_unit_rx = {\n",
    "    \"Acetaminophen\": \"mg\",\n",
    "    \"D5W\": \"mL\",\n",
    "    \"Heparin\": \"UNIT\",\n",
    "    \"Insulin\": \"UNIT\",\n",
    "    \"Magnesium Sulfate\": \"gm\",\n",
    "    \"Potassium Chloride\": \"mEq\",\n",
    "    \"Bisacodyl\": \"mg\",\n",
    "    \"Pantoprazole\": \"mg\",\n",
    "}\n",
    "\n",
    "MASK = pd.Series(False, index=prescriptions.index)\n",
    "for drug, unit in check_dose_unit_rx.items():\n",
    "    mask = (prescriptions[\"drug\"] == drug) & (prescriptions[\"dose_unit_rx\"] != unit)\n",
    "    print(f\"Removing {mask.sum():5d} entries - bad data in {drug} (drop {unit})\")\n",
    "    MASK |= mask\n",
    "\n",
    "prescriptions = prescriptions[~MASK].copy()"
   ]
  },
  {
   "cell_type": "code",
   "execution_count": null,
   "metadata": {
    "execution": {
     "iopub.execute_input": "2022-09-12T18:02:25.198616Z",
     "iopub.status.busy": "2022-09-12T18:02:25.198487Z",
     "iopub.status.idle": "2022-09-12T18:02:28.962486Z",
     "shell.execute_reply": "2022-09-12T18:02:28.961986Z",
     "shell.execute_reply.started": "2022-09-12T18:02:25.198604Z"
    },
    "tags": []
   },
   "outputs": [],
   "source": [
    "prescriptions[\"dose_unit_rx\"].replace(\"mL\", \"ml\", inplace=True)\n",
    "prescriptions.groupby(\"drug\")[\"dose_unit_rx\"].value_counts()"
   ]
  },
  {
   "cell_type": "markdown",
   "metadata": {
    "execution": {
     "iopub.status.busy": "2022-09-12T00:56:41.529466Z",
     "iopub.status.idle": "2022-09-12T00:56:41.529608Z",
     "shell.execute_reply": "2022-09-12T00:56:41.529539Z",
     "shell.execute_reply.started": "2022-09-12T00:56:41.529533Z"
    }
   },
   "source": [
    "# Serialize Pre-processed DataFrame"
   ]
  },
  {
   "cell_type": "code",
   "execution_count": null,
   "metadata": {
    "execution": {
     "iopub.execute_input": "2022-09-12T18:02:28.963327Z",
     "iopub.status.busy": "2022-09-12T18:02:28.963128Z",
     "iopub.status.idle": "2022-09-12T18:02:29.334493Z",
     "shell.execute_reply": "2022-09-12T18:02:29.333698Z",
     "shell.execute_reply.started": "2022-09-12T18:02:28.963310Z"
    },
    "tags": []
   },
   "outputs": [],
   "source": [
    "prescriptions[\"charttime\"] = prescriptions[\"starttime\"]\n",
    "\n",
    "# Clean categories\n",
    "def clean_categories(df):\n",
    "    for col in df:\n",
    "        if df[col].dtype == \"category\":\n",
    "            df[col] = df[col].cat.remove_unused_categories()\n",
    "    return df\n",
    "\n",
    "\n",
    "prescriptions = clean_categories(prescriptions)\n",
    "prescriptions.to_parquet(dataset_path / \"prescriptions_processed.parquet\")"
   ]
  }
 ],
 "metadata": {
  "kernelspec": {
   "display_name": "Python 3 (ipykernel)",
   "language": "python",
   "name": "python3"
  },
  "language_info": {
   "codemirror_mode": {
    "name": "ipython",
    "version": 3
   },
   "file_extension": ".py",
   "mimetype": "text/x-python",
   "name": "python",
   "nbconvert_exporter": "python",
   "pygments_lexer": "ipython3",
   "version": "3.10.6"
  }
 },
 "nbformat": 4,
 "nbformat_minor": 4
}
