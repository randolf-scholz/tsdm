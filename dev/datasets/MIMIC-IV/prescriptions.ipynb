{
 "cells": [
  {
   "cell_type": "markdown",
   "metadata": {},
   "source": [
    "# MIMIC 4 data - dataset construction prescriptions"
   ]
  },
  {
   "cell_type": "markdown",
   "metadata": {},
   "source": [
    "Code taken from GRU-ODE-Bayes preprocessing; simplified and adapted for MIMIC 4 1.0"
   ]
  },
  {
   "cell_type": "code",
   "execution_count": null,
   "metadata": {
    "execution": {
     "iopub.execute_input": "2022-09-12T01:01:21.023627Z",
     "iopub.status.busy": "2022-09-12T01:01:21.023507Z",
     "iopub.status.idle": "2022-09-12T01:01:21.244365Z",
     "shell.execute_reply": "2022-09-12T01:01:21.244029Z",
     "shell.execute_reply.started": "2022-09-12T01:01:21.023597Z"
    }
   },
   "outputs": [],
   "source": [
    "import gzip\n",
    "from zipfile import ZipFile\n",
    "\n",
    "import pandas as pd\n",
    "import pyarrow\n",
    "import pyarrow.csv\n",
    "import pyarrow.parquet"
   ]
  },
  {
   "cell_type": "code",
   "execution_count": null,
   "metadata": {
    "execution": {
     "iopub.execute_input": "2022-09-12T01:01:21.245312Z",
     "iopub.status.busy": "2022-09-12T01:01:21.245155Z",
     "iopub.status.idle": "2022-09-12T01:01:21.247189Z",
     "shell.execute_reply": "2022-09-12T01:01:21.246923Z",
     "shell.execute_reply.started": "2022-09-12T01:01:21.245300Z"
    }
   },
   "outputs": [],
   "source": [
    "pd.set_option(\"display.max_rows\", 50)\n",
    "pd.set_option(\"display.max_columns\", 300)"
   ]
  },
  {
   "cell_type": "code",
   "execution_count": null,
   "metadata": {
    "execution": {
     "iopub.execute_input": "2022-09-12T01:01:21.247625Z",
     "iopub.status.busy": "2022-09-12T01:01:21.247526Z",
     "iopub.status.idle": "2022-09-12T01:01:21.270682Z",
     "shell.execute_reply": "2022-09-12T01:01:21.270136Z",
     "shell.execute_reply.started": "2022-09-12T01:01:21.247615Z"
    }
   },
   "outputs": [],
   "source": [
    "admissions = pd.read_parquet(\"admissions_processed.parquet\")"
   ]
  },
  {
   "cell_type": "code",
   "execution_count": null,
   "metadata": {
    "execution": {
     "iopub.execute_input": "2022-09-12T01:01:21.271303Z",
     "iopub.status.busy": "2022-09-12T01:01:21.271173Z",
     "iopub.status.idle": "2022-09-12T01:01:21.273948Z",
     "shell.execute_reply": "2022-09-12T01:01:21.273653Z",
     "shell.execute_reply.started": "2022-09-12T01:01:21.271291Z"
    }
   },
   "outputs": [],
   "source": [
    "dataset_file = \"mimic-iv-1.0.zip\"\n",
    "\n",
    "files = {\n",
    "    \"prescriptions\": \"mimic-iv-1.0/hosp/prescriptions.csv.gz\",\n",
    "}\n",
    "column_types = {\n",
    "    \"prescriptions\": {\n",
    "        \"subject_id\": \"int32\",\n",
    "        \"hadm_id\": \"int32\",\n",
    "        \"pharmacy_id\": \"int32\",\n",
    "        \"starttime\": \"timestamp[s]\",\n",
    "        \"stoptime\": \"timestamp[s]\",\n",
    "        \"drug_type\": \"string\",\n",
    "        \"drug\": \"string\",\n",
    "        \"gsn\": \"string\",\n",
    "        \"ndc\": \"float32\",\n",
    "        \"prod_strength\": \"string\",\n",
    "        \"form_rx\": \"string\",\n",
    "        \"dose_val_rx\": \"string\",  # float or interval[float]\n",
    "        \"dose_unit_rx\": \"string\",\n",
    "        \"form_val_disp\": \"string\",  # float or interval[float]\n",
    "        \"form_unit_disp\": \"string\",\n",
    "        \"doses_per_24_hrs\": \"int32\",\n",
    "        \"route\": \"string\",\n",
    "    }\n",
    "}"
   ]
  },
  {
   "cell_type": "code",
   "execution_count": null,
   "metadata": {
    "execution": {
     "iopub.execute_input": "2022-09-12T01:01:21.274561Z",
     "iopub.status.busy": "2022-09-12T01:01:21.274422Z",
     "iopub.status.idle": "2022-09-12T01:01:33.074133Z",
     "shell.execute_reply": "2022-09-12T01:01:33.073710Z",
     "shell.execute_reply.started": "2022-09-12T01:01:21.274549Z"
    },
    "tags": []
   },
   "outputs": [],
   "source": [
    "%%time\n",
    "key = \"prescriptions\"\n",
    "with (\n",
    "    ZipFile(dataset_file) as archive,\n",
    "    archive.open(files[key]) as compressed_file,\n",
    "    gzip.open(compressed_file) as file,\n",
    "):\n",
    "    prescriptions = pyarrow.csv.read_csv(\n",
    "        file,\n",
    "        convert_options=pyarrow.csv.ConvertOptions(\n",
    "            column_types=column_types[key],\n",
    "            auto_dict_encode=True,\n",
    "            strings_can_be_null=True,\n",
    "            null_values=[\"\"],\n",
    "        ),\n",
    "    )\n",
    "\n",
    "# set categoricals\n",
    "for col, dtype in column_types[key].items():\n",
    "    if dtype == \"string\":\n",
    "        index = prescriptions.column_names.index(col)\n",
    "        categories = prescriptions[col].dictionary_encode()\n",
    "        prescriptions = prescriptions.set_column(index, col, categories)\n",
    "\n",
    "pyarrow.parquet.write_table(prescriptions, f\"{key}.parquet\")\n",
    "prescriptions.schema"
   ]
  },
  {
   "cell_type": "markdown",
   "metadata": {},
   "source": [
    "## Store and reload as pandas"
   ]
  },
  {
   "cell_type": "code",
   "execution_count": null,
   "metadata": {
    "execution": {
     "iopub.execute_input": "2022-09-12T01:01:33.074814Z",
     "iopub.status.busy": "2022-09-12T01:01:33.074696Z",
     "iopub.status.idle": "2022-09-12T01:01:47.552051Z",
     "shell.execute_reply": "2022-09-12T01:01:47.551741Z",
     "shell.execute_reply.started": "2022-09-12T01:01:33.074802Z"
    },
    "tags": []
   },
   "outputs": [],
   "source": [
    "with pd.option_context(\"string_storage\", \"pyarrow\"):\n",
    "    prescriptions = pd.read_parquet(f\"{key}.parquet\", use_nullable_dtypes=True)\n",
    "\n",
    "pd.DataFrame({\"type\": prescriptions.dtypes, \"uniques\": prescriptions.nunique()})"
   ]
  },
  {
   "cell_type": "markdown",
   "metadata": {},
   "source": [
    "### Only choose previously selected admission ids"
   ]
  },
  {
   "cell_type": "code",
   "execution_count": null,
   "metadata": {
    "execution": {
     "iopub.execute_input": "2022-09-12T01:01:47.553252Z",
     "iopub.status.busy": "2022-09-12T01:01:47.553111Z",
     "iopub.status.idle": "2022-09-12T01:01:47.850594Z",
     "shell.execute_reply": "2022-09-12T01:01:47.850246Z",
     "shell.execute_reply.started": "2022-09-12T01:01:47.553240Z"
    },
    "tags": []
   },
   "outputs": [],
   "source": [
    "prescriptions = prescriptions[prescriptions[\"hadm_id\"].isin(admissions[\"hadm_id\"])]\n",
    "print(f\"Number of events remaining: {prescriptions.shape}\")\n",
    "print(f\"Number of patients remaining: {prescriptions['subject_id'].nunique()}\")"
   ]
  },
  {
   "cell_type": "markdown",
   "metadata": {},
   "source": [
    "# Select entries whose drug name is in the list from the paper."
   ]
  },
  {
   "cell_type": "code",
   "execution_count": null,
   "metadata": {
    "execution": {
     "iopub.execute_input": "2022-09-12T01:01:47.851199Z",
     "iopub.status.busy": "2022-09-12T01:01:47.851057Z",
     "iopub.status.idle": "2022-09-12T01:01:51.573431Z",
     "shell.execute_reply": "2022-09-12T01:01:51.573130Z",
     "shell.execute_reply.started": "2022-09-12T01:01:47.851188Z"
    },
    "tags": []
   },
   "outputs": [],
   "source": [
    "drugs_list = [\n",
    "    \"Acetaminophen\",\n",
    "    \"Aspirin\",\n",
    "    \"Bisacodyl\",\n",
    "    \"Insulin\",\n",
    "    \"Heparin\",\n",
    "    \"Docusate Sodium\",\n",
    "    \"D5W\",\n",
    "    \"Humulin-R Insulin\",\n",
    "    \"Potassium Chloride\",\n",
    "    \"Magnesium Sulfate\",\n",
    "    \"Metoprolol Tartrate\",\n",
    "    \"Sodium Chloride 0.9%  Flush\",\n",
    "    \"Pantoprazole\",\n",
    "]\n",
    "prescriptions = prescriptions[prescriptions[\"drug\"].isin(drugs_list)]\n",
    "print(f\"Number of events remaining: {prescriptions.shape}\")\n",
    "print(f\"Number of patients remaining: {prescriptions['subject_id'].nunique()}\")\n",
    "prescriptions.groupby(\"drug\")[\"dose_unit_rx\"].value_counts()"
   ]
  },
  {
   "cell_type": "markdown",
   "metadata": {},
   "source": [
    "# Units correction"
   ]
  },
  {
   "cell_type": "code",
   "execution_count": null,
   "metadata": {
    "execution": {
     "iopub.execute_input": "2022-09-12T01:01:51.573969Z",
     "iopub.status.busy": "2022-09-12T01:01:51.573862Z",
     "iopub.status.idle": "2022-09-12T01:01:51.614915Z",
     "shell.execute_reply": "2022-09-12T01:01:51.614503Z",
     "shell.execute_reply.started": "2022-09-12T01:01:51.573958Z"
    },
    "tags": []
   },
   "outputs": [],
   "source": [
    "prescriptions = prescriptions[prescriptions[\"dose_unit_rx\"].notna()]\n",
    "print(f\"Number of events remaining: {prescriptions.shape}\")\n",
    "print(f\"Number of patients remaining: {prescriptions['subject_id'].nunique()}\")"
   ]
  },
  {
   "cell_type": "code",
   "execution_count": null,
   "metadata": {
    "execution": {
     "iopub.execute_input": "2022-09-12T01:01:51.615523Z",
     "iopub.status.busy": "2022-09-12T01:01:51.615413Z",
     "iopub.status.idle": "2022-09-12T01:01:51.644574Z",
     "shell.execute_reply": "2022-09-12T01:01:51.644245Z",
     "shell.execute_reply.started": "2022-09-12T01:01:51.615512Z"
    },
    "tags": []
   },
   "outputs": [],
   "source": [
    "check_dose_unit_rx = {\n",
    "    \"Acetaminophen\": \"mg\",\n",
    "    \"D5W\": \"mL\",\n",
    "    \"Heparin\": \"UNIT\",\n",
    "    \"Insulin\": \"UNIT\",\n",
    "    \"Magnesium Sulfate\": \"gm\",\n",
    "    \"Potassium Chloride\": \"mEq\",\n",
    "    \"Bisacodyl\": \"mg\",\n",
    "    \"Pantoprazole\": \"mg\",\n",
    "}\n",
    "\n",
    "MASK = pd.Series(False, index=prescriptions.index)\n",
    "for drug, unit in check_dose_unit_rx.items():\n",
    "    mask = (prescriptions[\"drug\"] == drug) & (prescriptions[\"dose_unit_rx\"] != unit)\n",
    "    print(f\"Removing {mask.sum():5d} entries - bad data in {drug} (drop {unit})\")\n",
    "    MASK |= mask\n",
    "\n",
    "prescriptions = prescriptions[~MASK]"
   ]
  },
  {
   "cell_type": "markdown",
   "metadata": {},
   "source": [
    "# Fixing units"
   ]
  },
  {
   "cell_type": "code",
   "execution_count": null,
   "metadata": {
    "execution": {
     "iopub.execute_input": "2022-09-12T01:01:51.645128Z",
     "iopub.status.busy": "2022-09-12T01:01:51.645022Z",
     "iopub.status.idle": "2022-09-12T01:01:55.289909Z",
     "shell.execute_reply": "2022-09-12T01:01:55.289608Z",
     "shell.execute_reply.started": "2022-09-12T01:01:51.645117Z"
    },
    "tags": []
   },
   "outputs": [],
   "source": [
    "prescriptions[\"dose_unit_rx\"].replace(\"mL\", \"ml\", inplace=True)\n",
    "prescriptions.groupby(\"drug\")[\"dose_unit_rx\"].value_counts()"
   ]
  },
  {
   "cell_type": "markdown",
   "metadata": {
    "execution": {
     "iopub.status.busy": "2022-09-12T00:56:41.529466Z",
     "iopub.status.idle": "2022-09-12T00:56:41.529608Z",
     "shell.execute_reply": "2022-09-12T00:56:41.529539Z",
     "shell.execute_reply.started": "2022-09-12T00:56:41.529533Z"
    }
   },
   "source": [
    "### To avoid confounding labels with labels from other tables, we add \"drug\" to the name"
   ]
  },
  {
   "cell_type": "code",
   "execution_count": null,
   "metadata": {
    "execution": {
     "iopub.execute_input": "2022-09-12T01:01:55.290465Z",
     "iopub.status.busy": "2022-09-12T01:01:55.290354Z",
     "iopub.status.idle": "2022-09-12T01:01:55.293813Z",
     "shell.execute_reply": "2022-09-12T01:01:55.293452Z",
     "shell.execute_reply.started": "2022-09-12T01:01:55.290455Z"
    },
    "tags": []
   },
   "outputs": [],
   "source": [
    "prescriptions.starttime"
   ]
  },
  {
   "cell_type": "code",
   "execution_count": null,
   "metadata": {
    "execution": {
     "iopub.execute_input": "2022-09-12T01:04:07.336319Z",
     "iopub.status.busy": "2022-09-12T01:04:07.336150Z",
     "iopub.status.idle": "2022-09-12T01:04:07.338734Z",
     "shell.execute_reply": "2022-09-12T01:04:07.338423Z",
     "shell.execute_reply.started": "2022-09-12T01:04:07.336307Z"
    },
    "tags": []
   },
   "outputs": [],
   "source": [
    "prescriptions[\"charttime\"] = prescriptions[\"starttime\"]"
   ]
  },
  {
   "cell_type": "code",
   "execution_count": null,
   "metadata": {
    "execution": {
     "iopub.execute_input": "2022-09-12T01:04:08.209831Z",
     "iopub.status.busy": "2022-09-12T01:04:08.209576Z",
     "iopub.status.idle": "2022-09-12T01:04:08.437548Z",
     "shell.execute_reply": "2022-09-12T01:04:08.437197Z",
     "shell.execute_reply.started": "2022-09-12T01:04:08.209819Z"
    },
    "tags": []
   },
   "outputs": [],
   "source": [
    "prescriptions.to_parquet(\"prescriptions_processed.parquet\")"
   ]
  },
  {
   "cell_type": "code",
   "execution_count": null,
   "metadata": {},
   "outputs": [],
   "source": []
  }
 ],
 "metadata": {
  "kernelspec": {
   "display_name": "Python 3 (ipykernel)",
   "language": "python",
   "name": "python3"
  },
  "language_info": {
   "codemirror_mode": {
    "name": "ipython",
    "version": 3
   },
   "file_extension": ".py",
   "mimetype": "text/x-python",
   "name": "python",
   "nbconvert_exporter": "python",
   "pygments_lexer": "ipython3",
   "version": "3.10.6"
  }
 },
 "nbformat": 4,
 "nbformat_minor": 4
}
