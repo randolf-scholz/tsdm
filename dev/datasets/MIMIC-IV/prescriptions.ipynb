{
 "cells": [
  {
   "cell_type": "markdown",
   "metadata": {},
   "source": [
    "# MIMIC 4 data - dataset construction prescriptions"
   ]
  },
  {
   "cell_type": "code",
   "execution_count": null,
   "metadata": {
    "execution": {
     "iopub.execute_input": "2022-09-13T21:21:59.291548Z",
     "iopub.status.busy": "2022-09-13T21:21:59.291423Z",
     "iopub.status.idle": "2022-09-13T21:21:59.526293Z",
     "shell.execute_reply": "2022-09-13T21:21:59.525855Z",
     "shell.execute_reply.started": "2022-09-13T21:21:59.291517Z"
    },
    "tags": []
   },
   "outputs": [],
   "source": [
    "import gzip\n",
    "from pathlib import Path\n",
    "from zipfile import ZipFile\n",
    "\n",
    "import pandas as pd\n",
    "import pyarrow\n",
    "import pyarrow.csv\n",
    "import pyarrow.parquet"
   ]
  },
  {
   "cell_type": "markdown",
   "metadata": {},
   "source": [
    "# Load `prescriptions` table"
   ]
  },
  {
   "cell_type": "markdown",
   "metadata": {},
   "source": [
    "## Table Schema"
   ]
  },
  {
   "cell_type": "code",
   "execution_count": null,
   "metadata": {
    "execution": {
     "iopub.execute_input": "2022-09-13T21:21:59.527446Z",
     "iopub.status.busy": "2022-09-13T21:21:59.527281Z",
     "iopub.status.idle": "2022-09-13T21:21:59.532342Z",
     "shell.execute_reply": "2022-09-13T21:21:59.531959Z",
     "shell.execute_reply.started": "2022-09-13T21:21:59.527434Z"
    },
    "tags": []
   },
   "outputs": [],
   "source": [
    "rawdata_file = Path.cwd() / \"mimic-iv-1.0.zip\"\n",
    "dataset_path = Path.cwd() / \"processed\"\n",
    "rawdata_path = Path.cwd() / \"raw\"\n",
    "\n",
    "files = {\n",
    "    \"prescriptions\": \"mimic-iv-1.0/hosp/prescriptions.csv.gz\",\n",
    "}\n",
    "\n",
    "CATEGORY = pyarrow.dictionary(\"int32\", \"string\")\n",
    "ID_TYPE = \"int32\"  # pyarrow.dictionary(\"int32\", \"int32\", ordered=True)\n",
    "\n",
    "\n",
    "column_types = {\n",
    "    \"prescriptions\": {\n",
    "        \"subject_id\": \"int32\",\n",
    "        \"hadm_id\": \"int32\",\n",
    "        \"pharmacy_id\": \"int32\",\n",
    "        \"starttime\": \"timestamp[s]\",\n",
    "        \"stoptime\": \"timestamp[s]\",\n",
    "        \"drug_type\": CATEGORY,\n",
    "        \"drug\": CATEGORY,\n",
    "        \"gsn\": CATEGORY,\n",
    "        \"ndc\": \"float32\",\n",
    "        \"prod_strength\": CATEGORY,\n",
    "        \"form_rx\": CATEGORY,\n",
    "        \"dose_val_rx\": \"string\",  # float or interval[float]\n",
    "        \"dose_unit_rx\": CATEGORY,\n",
    "        \"form_val_disp\": CATEGORY,  # float or interval[float]\n",
    "        \"form_unit_disp\": CATEGORY,\n",
    "        \"doses_per_24_hrs\": \"float32\",\n",
    "        \"route\": CATEGORY,\n",
    "    }\n",
    "}\n",
    "\n",
    "null_values = [\n",
    "    \"-\",\n",
    "    \"-1.#IND\",\n",
    "    \"-1.#QNAN\",\n",
    "    \"-NaN\",\n",
    "    \"-nan\",\n",
    "    \"?\",\n",
    "    \"\",\n",
    "    \"#N/A N/A\",\n",
    "    \"#N/A\",\n",
    "    \"#NA\",\n",
    "    \"#na\",\n",
    "    \"<N/A>\",\n",
    "    \"<n/a>\",\n",
    "    \"<NA>\",\n",
    "    \"<na>\",\n",
    "    \"1.#IND\",\n",
    "    \"1.#QNAN\",\n",
    "    \"INFORMATION NOT AVAILABLE\",\n",
    "    \"N/A\",\n",
    "    \"n/a\",\n",
    "    \"NA\",\n",
    "    \"na\",\n",
    "    \"NAN\",\n",
    "    \"NaN\",\n",
    "    \"nan\",\n",
    "    \"NONE\",\n",
    "    \"None\",\n",
    "    \"none\",\n",
    "    \"NULL\",\n",
    "    \"NULL\",\n",
    "    \"Null\",\n",
    "    \"null\",\n",
    "    \"UNABLE TO OBTAIN\",\n",
    "    \"UNKNOWN\",\n",
    "    \"unknown\",\n",
    "]\n",
    "\n",
    "types_map = {\n",
    "    \"string\": pd.StringDtype(),\n",
    "    \"bool\": pd.BooleanDtype(),\n",
    "    \"int8\": pd.Int8Dtype(),\n",
    "    \"int16\": pd.Int16Dtype(),\n",
    "    \"int32\": pd.Int32Dtype(),\n",
    "    \"int64\": pd.Int64Dtype(),\n",
    "    \"uint8\": pd.UInt8Dtype(),\n",
    "    \"uint16\": pd.UInt16Dtype(),\n",
    "    \"uint32\": pd.UInt32Dtype(),\n",
    "    \"uint64\": pd.UInt64Dtype(),\n",
    "}"
   ]
  },
  {
   "cell_type": "markdown",
   "metadata": {},
   "source": [
    "## Load Prescriptions"
   ]
  },
  {
   "cell_type": "code",
   "execution_count": null,
   "metadata": {
    "execution": {
     "iopub.execute_input": "2022-09-13T21:21:59.533010Z",
     "iopub.status.busy": "2022-09-13T21:21:59.532901Z",
     "iopub.status.idle": "2022-09-13T21:22:05.318672Z",
     "shell.execute_reply": "2022-09-13T21:22:05.318316Z",
     "shell.execute_reply.started": "2022-09-13T21:21:59.532999Z"
    },
    "tags": []
   },
   "outputs": [],
   "source": [
    "%%time\n",
    "key = \"prescriptions\"\n",
    "with (\n",
    "    ZipFile(rawdata_file) as archive,\n",
    "    archive.open(files[key]) as compressed_file,\n",
    "    gzip.open(compressed_file) as file,\n",
    "):\n",
    "    prescriptions = pyarrow.csv.read_csv(\n",
    "        file,\n",
    "        convert_options=pyarrow.csv.ConvertOptions(\n",
    "            column_types=column_types[key],\n",
    "            strings_can_be_null=True,\n",
    "            null_values=null_values,\n",
    "        ),\n",
    "    )\n",
    "\n",
    "prescriptions.shape, prescriptions.schema"
   ]
  },
  {
   "cell_type": "markdown",
   "metadata": {},
   "source": [
    "## Store and reload as pandas"
   ]
  },
  {
   "cell_type": "code",
   "execution_count": null,
   "metadata": {
    "execution": {
     "iopub.execute_input": "2022-09-13T21:22:05.319254Z",
     "iopub.status.busy": "2022-09-13T21:22:05.319143Z",
     "iopub.status.idle": "2022-09-13T21:22:13.985878Z",
     "shell.execute_reply": "2022-09-13T21:22:13.985573Z",
     "shell.execute_reply.started": "2022-09-13T21:22:05.319243Z"
    },
    "tags": []
   },
   "outputs": [],
   "source": [
    "pyarrow.parquet.write_table(prescriptions, rawdata_path / f\"{key}.parquet\")\n",
    "prescriptions = prescriptions.to_pandas(self_destruct=True, types_mapper=types_map.get)\n",
    "prescriptions"
   ]
  },
  {
   "cell_type": "markdown",
   "metadata": {},
   "source": [
    "# Filter Dataset"
   ]
  },
  {
   "cell_type": "markdown",
   "metadata": {},
   "source": [
    "## Only choose previously selected admission ids"
   ]
  },
  {
   "cell_type": "code",
   "execution_count": null,
   "metadata": {
    "execution": {
     "iopub.execute_input": "2022-09-13T21:22:13.986407Z",
     "iopub.status.busy": "2022-09-13T21:22:13.986300Z",
     "iopub.status.idle": "2022-09-13T21:22:15.314155Z",
     "shell.execute_reply": "2022-09-13T21:22:15.313824Z",
     "shell.execute_reply.started": "2022-09-13T21:22:13.986396Z"
    },
    "tags": []
   },
   "outputs": [],
   "source": [
    "admissions = pd.read_parquet(dataset_path / \"admissions_processed.parquet\")\n",
    "\n",
    "for key in [\"hadm_id\", \"subject_id\"]:\n",
    "    mask = prescriptions[key].isin(admissions[key])\n",
    "    prescriptions = prescriptions[mask]\n",
    "    print(f\"Removing {(~mask).sum()} {key}\")\n",
    "    print(f\"Number of patients remaining: {prescriptions['subject_id'].nunique()}\")\n",
    "    print(f\"Number of admissions remaining: {prescriptions['hadm_id'].nunique()}\")\n",
    "    print(f\"Number of events remaining: {prescriptions.shape}\")"
   ]
  },
  {
   "cell_type": "markdown",
   "metadata": {},
   "source": [
    "## Only keep data with valid starttime"
   ]
  },
  {
   "cell_type": "code",
   "execution_count": null,
   "metadata": {
    "execution": {
     "iopub.execute_input": "2022-09-13T21:22:15.314716Z",
     "iopub.status.busy": "2022-09-13T21:22:15.314606Z",
     "iopub.status.idle": "2022-09-13T21:22:15.410483Z",
     "shell.execute_reply": "2022-09-13T21:22:15.410066Z",
     "shell.execute_reply.started": "2022-09-13T21:22:15.314705Z"
    }
   },
   "outputs": [],
   "source": [
    "mask = prescriptions[\"starttime\"].notna()\n",
    "prescriptions = prescriptions[mask]"
   ]
  },
  {
   "cell_type": "markdown",
   "metadata": {},
   "source": [
    "## Only keep data with float-value measurement"
   ]
  },
  {
   "cell_type": "code",
   "execution_count": null,
   "metadata": {
    "execution": {
     "iopub.execute_input": "2022-09-13T21:22:15.411602Z",
     "iopub.status.busy": "2022-09-13T21:22:15.411491Z",
     "iopub.status.idle": "2022-09-13T21:22:16.259004Z",
     "shell.execute_reply": "2022-09-13T21:22:16.258648Z",
     "shell.execute_reply.started": "2022-09-13T21:22:15.411591Z"
    },
    "tags": []
   },
   "outputs": [],
   "source": [
    "mask = pd.to_numeric(prescriptions[\"dose_val_rx\"], errors=\"coerce\").notna()\n",
    "prescriptions = prescriptions[mask]\n",
    "prescriptions[\"dose_val_rx\"] = prescriptions[\"dose_val_rx\"].astype(\"float32\")"
   ]
  },
  {
   "cell_type": "markdown",
   "metadata": {},
   "source": [
    "## Select entries whose drug name is in the list from the paper."
   ]
  },
  {
   "cell_type": "code",
   "execution_count": null,
   "metadata": {
    "execution": {
     "iopub.execute_input": "2022-09-13T21:22:16.259595Z",
     "iopub.status.busy": "2022-09-13T21:22:16.259483Z",
     "iopub.status.idle": "2022-09-13T21:22:19.858938Z",
     "shell.execute_reply": "2022-09-13T21:22:19.858555Z",
     "shell.execute_reply.started": "2022-09-13T21:22:16.259584Z"
    },
    "tags": []
   },
   "outputs": [],
   "source": [
    "drugs_list = [\n",
    "    \"Acetaminophen\",\n",
    "    \"Aspirin\",\n",
    "    \"Bisacodyl\",\n",
    "    \"Insulin\",\n",
    "    \"Heparin\",\n",
    "    \"Docusate Sodium\",\n",
    "    \"D5W\",\n",
    "    \"Humulin-R Insulin\",\n",
    "    \"Potassium Chloride\",\n",
    "    \"Magnesium Sulfate\",\n",
    "    \"Metoprolol Tartrate\",\n",
    "    \"Sodium Chloride 0.9%  Flush\",\n",
    "    \"Pantoprazole\",\n",
    "]\n",
    "\n",
    "prescriptions = prescriptions[prescriptions[\"drug\"].isin(drugs_list)]\n",
    "print(f\"Number of events remaining: {prescriptions.shape}\")\n",
    "print(f\"Number of patients remaining: {prescriptions['subject_id'].nunique()}\")\n",
    "prescriptions.groupby(\"drug\")[\"dose_unit_rx\"].value_counts()"
   ]
  },
  {
   "cell_type": "markdown",
   "metadata": {},
   "source": [
    "# Correct Units"
   ]
  },
  {
   "cell_type": "code",
   "execution_count": null,
   "metadata": {
    "execution": {
     "iopub.execute_input": "2022-09-13T21:22:19.859548Z",
     "iopub.status.busy": "2022-09-13T21:22:19.859437Z",
     "iopub.status.idle": "2022-09-13T21:22:19.890325Z",
     "shell.execute_reply": "2022-09-13T21:22:19.889895Z",
     "shell.execute_reply.started": "2022-09-13T21:22:19.859538Z"
    },
    "tags": []
   },
   "outputs": [],
   "source": [
    "prescriptions = prescriptions[prescriptions[\"dose_unit_rx\"].notna()]\n",
    "print(f\"Number of events remaining: {prescriptions.shape}\")\n",
    "print(f\"Number of patients remaining: {prescriptions['subject_id'].nunique()}\")"
   ]
  },
  {
   "cell_type": "code",
   "execution_count": null,
   "metadata": {
    "execution": {
     "iopub.execute_input": "2022-09-13T21:22:19.890943Z",
     "iopub.status.busy": "2022-09-13T21:22:19.890832Z",
     "iopub.status.idle": "2022-09-13T21:22:23.545785Z",
     "shell.execute_reply": "2022-09-13T21:22:23.545413Z",
     "shell.execute_reply.started": "2022-09-13T21:22:19.890933Z"
    },
    "tags": []
   },
   "outputs": [],
   "source": [
    "prescriptions[\"dose_unit_rx\"].replace(\"mL\", \"ml\", inplace=True)\n",
    "\n",
    "check_dose_unit_rx = {\n",
    "    \"Acetaminophen\": \"mg\",\n",
    "    \"D5W\": \"ml\",\n",
    "    \"Heparin\": \"UNIT\",\n",
    "    \"Insulin\": \"UNIT\",\n",
    "    \"Magnesium Sulfate\": \"gm\",\n",
    "    \"Potassium Chloride\": \"mEq\",\n",
    "    \"Bisacodyl\": \"mg\",\n",
    "    \"Pantoprazole\": \"mg\",\n",
    "}\n",
    "\n",
    "MASK = pd.Series(False, index=prescriptions.index)\n",
    "for drug, unit in check_dose_unit_rx.items():\n",
    "    mask = (prescriptions[\"drug\"] == drug) & (prescriptions[\"dose_unit_rx\"] != unit)\n",
    "    print(f\"Removing {mask.sum():5d} entries - bad data in {drug} (drop {unit})\")\n",
    "    MASK |= mask\n",
    "\n",
    "prescriptions = prescriptions[~MASK].copy()\n",
    "prescriptions.groupby(\"drug\")[\"dose_unit_rx\"].value_counts()"
   ]
  },
  {
   "cell_type": "markdown",
   "metadata": {
    "execution": {
     "iopub.status.busy": "2022-09-12T00:56:41.529466Z",
     "iopub.status.idle": "2022-09-12T00:56:41.529608Z",
     "shell.execute_reply": "2022-09-12T00:56:41.529539Z",
     "shell.execute_reply.started": "2022-09-12T00:56:41.529533Z"
    }
   },
   "source": [
    "# Serialize Pre-processed DataFrame"
   ]
  },
  {
   "cell_type": "code",
   "execution_count": null,
   "metadata": {
    "execution": {
     "iopub.execute_input": "2022-09-13T21:22:23.546403Z",
     "iopub.status.busy": "2022-09-13T21:22:23.546287Z",
     "iopub.status.idle": "2022-09-13T21:22:23.889052Z",
     "shell.execute_reply": "2022-09-13T21:22:23.888677Z",
     "shell.execute_reply.started": "2022-09-13T21:22:23.546392Z"
    },
    "tags": []
   },
   "outputs": [],
   "source": [
    "prescriptions[\"charttime\"] = prescriptions[\"starttime\"]\n",
    "\n",
    "# To avoid confounding labels with labels from other tables, we add \"drug\" to the name\n",
    "prescriptions[\"drug\"] = prescriptions[\"drug\"].astype(\"string\") + \" (prescription)\"\n",
    "prescriptions[\"drug\"] = prescriptions[\"drug\"].astype(\"category\")\n",
    "\n",
    "\n",
    "# Clean categories\n",
    "def clean_categories(df):\n",
    "    for col in df:\n",
    "        if df[col].dtype == \"category\":\n",
    "            df[col] = df[col].cat.remove_unused_categories()\n",
    "    return df\n",
    "\n",
    "\n",
    "prescriptions = clean_categories(prescriptions)\n",
    "prescriptions.to_parquet(dataset_path / \"prescriptions_processed.parquet\")\n",
    "prescriptions.shape, prescriptions.dtypes"
   ]
  }
 ],
 "metadata": {
  "kernelspec": {
   "display_name": "Python 3 (ipykernel)",
   "language": "python",
   "name": "python3"
  },
  "language_info": {
   "codemirror_mode": {
    "name": "ipython",
    "version": 3
   },
   "file_extension": ".py",
   "mimetype": "text/x-python",
   "name": "python",
   "nbconvert_exporter": "python",
   "pygments_lexer": "ipython3",
   "version": "3.10.6"
  }
 },
 "nbformat": 4,
 "nbformat_minor": 4
}
