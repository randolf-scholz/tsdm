{
 "cells": [
  {
   "cell_type": "markdown",
   "metadata": {
    "pycharm": {
     "name": "#%% md\n"
    }
   },
   "source": [
    "# Sample Template"
   ]
  },
  {
   "cell_type": "markdown",
   "metadata": {
    "pycharm": {
     "name": "#%% md\n"
    }
   },
   "source": [
    "Here is some sample text, and a first block of code"
   ]
  },
  {
   "cell_type": "code",
   "execution_count": null,
   "metadata": {
    "execution": {
     "iopub.execute_input": "2022-09-13T20:41:08.773214Z",
     "iopub.status.busy": "2022-09-13T20:41:08.773020Z",
     "iopub.status.idle": "2022-09-13T20:41:10.626450Z",
     "shell.execute_reply": "2022-09-13T20:41:10.626065Z",
     "shell.execute_reply.started": "2022-09-13T20:41:08.773175Z"
    },
    "pycharm": {
     "name": "#%%\n"
    }
   },
   "outputs": [],
   "source": [
    "import tsdm"
   ]
  },
  {
   "cell_type": "code",
   "execution_count": null,
   "metadata": {
    "execution": {
     "iopub.execute_input": "2022-09-13T20:41:20.617265Z",
     "iopub.status.busy": "2022-09-13T20:41:20.616996Z",
     "iopub.status.idle": "2022-09-13T20:41:20.831416Z",
     "shell.execute_reply": "2022-09-13T20:41:20.831020Z",
     "shell.execute_reply.started": "2022-09-13T20:41:20.617253Z"
    },
    "pycharm": {
     "name": "#%%\n"
    }
   },
   "outputs": [],
   "source": [
    "ds = tsdm.datasets.MIMIC_III()"
   ]
  },
  {
   "cell_type": "code",
   "execution_count": null,
   "metadata": {
    "execution": {
     "iopub.execute_input": "2022-09-13T20:41:28.155099Z",
     "iopub.status.busy": "2022-09-13T20:41:28.154665Z",
     "iopub.status.idle": "2022-09-13T20:41:28.232949Z",
     "shell.execute_reply": "2022-09-13T20:41:28.232553Z",
     "shell.execute_reply.started": "2022-09-13T20:41:28.155086Z"
    },
    "pycharm": {
     "name": "#%%\n"
    },
    "tags": []
   },
   "outputs": [],
   "source": [
    "ds.observations"
   ]
  },
  {
   "cell_type": "markdown",
   "metadata": {
    "pycharm": {
     "name": "#%% md\n"
    }
   },
   "source": [
    "## A second heading"
   ]
  },
  {
   "cell_type": "markdown",
   "metadata": {
    "pycharm": {
     "name": "#%% md\n"
    }
   },
   "source": [
    "and some more text"
   ]
  },
  {
   "cell_type": "code",
   "execution_count": null,
   "metadata": {
    "pycharm": {
     "name": "#%%\n"
    }
   },
   "outputs": [],
   "source": []
  }
 ],
 "metadata": {
  "kernelspec": {
   "display_name": "Python 3 (ipykernel)",
   "language": "python",
   "name": "python3"
  },
  "language_info": {
   "codemirror_mode": {
    "name": "ipython",
    "version": 3
   },
   "file_extension": ".py",
   "mimetype": "text/x-python",
   "name": "python",
   "nbconvert_exporter": "python",
   "pygments_lexer": "ipython3",
   "version": "3.10.6"
  }
 },
 "nbformat": 4,
 "nbformat_minor": 4
}
