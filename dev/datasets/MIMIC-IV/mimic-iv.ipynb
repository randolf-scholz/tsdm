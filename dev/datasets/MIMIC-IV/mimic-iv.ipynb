{
 "cells": [
  {
   "cell_type": "code",
   "execution_count": null,
   "id": "20191951-beec-414a-b3c6-89dca8277ad2",
   "metadata": {
    "execution": {
     "iopub.execute_input": "2022-09-14T19:42:27.157448Z",
     "iopub.status.busy": "2022-09-14T19:42:27.156996Z",
     "iopub.status.idle": "2022-09-14T19:42:27.581600Z",
     "shell.execute_reply": "2022-09-14T19:42:27.581225Z",
     "shell.execute_reply.started": "2022-09-14T19:42:27.157397Z"
    },
    "pycharm": {
     "name": "#%%\n"
    },
    "tags": []
   },
   "outputs": [],
   "source": [
    "%config InteractiveShell.ast_node_interactivity='last_expr_or_assign'  # always print last expr.\n",
    "%config InlineBackend.figure_format = 'svg'\n",
    "%load_ext autoreload\n",
    "%autoreload 2\n",
    "%matplotlib inline\n",
    "import logging"
   ]
  },
  {
   "cell_type": "code",
   "execution_count": null,
   "id": "249a82c9-3e62-4956-bfbf-8d11507be107",
   "metadata": {
    "execution": {
     "iopub.execute_input": "2022-09-14T19:42:27.582611Z",
     "iopub.status.busy": "2022-09-14T19:42:27.582463Z",
     "iopub.status.idle": "2022-09-14T19:42:27.589594Z",
     "shell.execute_reply": "2022-09-14T19:42:27.589011Z",
     "shell.execute_reply.started": "2022-09-14T19:42:27.582600Z"
    },
    "tags": []
   },
   "outputs": [],
   "source": [
    "logging.basicConfig(level=logging.INFO)"
   ]
  },
  {
   "cell_type": "code",
   "execution_count": null,
   "id": "f6de19c7-28ab-4b61-afb0-cec25804eee0",
   "metadata": {
    "execution": {
     "iopub.execute_input": "2022-09-14T19:42:27.590196Z",
     "iopub.status.busy": "2022-09-14T19:42:27.590088Z",
     "iopub.status.idle": "2022-09-14T19:42:27.762508Z",
     "shell.execute_reply": "2022-09-14T19:42:27.762109Z",
     "shell.execute_reply.started": "2022-09-14T19:42:27.590185Z"
    },
    "pycharm": {
     "name": "#%%\n"
    },
    "tags": []
   },
   "outputs": [],
   "source": [
    "import numpy as np\n",
    "import pandas as pd"
   ]
  },
  {
   "cell_type": "code",
   "execution_count": null,
   "id": "d8d2914d-5568-4098-823a-69cd69a1ff27",
   "metadata": {
    "execution": {
     "iopub.execute_input": "2022-09-14T19:42:29.810879Z",
     "iopub.status.busy": "2022-09-14T19:42:29.810531Z",
     "iopub.status.idle": "2022-09-14T19:42:30.744253Z",
     "shell.execute_reply": "2022-09-14T19:42:30.743815Z",
     "shell.execute_reply.started": "2022-09-14T19:42:29.810864Z"
    },
    "tags": []
   },
   "outputs": [],
   "source": [
    "import tsdm\n",
    "from tsdm.datasets import *"
   ]
  },
  {
   "cell_type": "code",
   "execution_count": null,
   "id": "a5a878df-afe7-4070-8829-01834f79d45e",
   "metadata": {
    "execution": {
     "iopub.execute_input": "2022-09-14T19:42:33.397802Z",
     "iopub.status.busy": "2022-09-14T19:42:33.397417Z",
     "iopub.status.idle": "2022-09-14T19:42:33.413687Z",
     "shell.execute_reply": "2022-09-14T19:42:33.413342Z",
     "shell.execute_reply.started": "2022-09-14T19:42:33.397789Z"
    },
    "tags": []
   },
   "outputs": [],
   "source": [
    "MultiFrameDataset.RAWDATA_DIR"
   ]
  },
  {
   "cell_type": "code",
   "execution_count": null,
   "id": "62668a90-9bd6-4786-a8db-adfd8823b6e6",
   "metadata": {
    "execution": {
     "iopub.execute_input": "2022-09-14T19:42:35.615852Z",
     "iopub.status.busy": "2022-09-14T19:42:35.615557Z",
     "iopub.status.idle": "2022-09-14T19:42:35.630247Z",
     "shell.execute_reply": "2022-09-14T19:42:35.629899Z",
     "shell.execute_reply.started": "2022-09-14T19:42:35.615840Z"
    },
    "tags": []
   },
   "outputs": [],
   "source": [
    "MultiFrameDataset[MIMIC_III].RAWDATA_DIR"
   ]
  },
  {
   "cell_type": "code",
   "execution_count": null,
   "id": "99ec859e-080e-481b-9ac0-05bb52861ff9",
   "metadata": {
    "execution": {
     "iopub.execute_input": "2022-09-14T19:44:42.776039Z",
     "iopub.status.busy": "2022-09-14T19:44:42.775821Z",
     "iopub.status.idle": "2022-09-14T19:44:43.311811Z",
     "shell.execute_reply": "2022-09-14T19:44:43.311390Z",
     "shell.execute_reply.started": "2022-09-14T19:44:42.776024Z"
    }
   },
   "outputs": [],
   "source": [
    "type(None, None)"
   ]
  },
  {
   "cell_type": "code",
   "execution_count": null,
   "id": "1d7dde79-fa12-4889-a121-421df74cba9f",
   "metadata": {
    "execution": {
     "iopub.execute_input": "2022-09-14T19:45:38.946444Z",
     "iopub.status.busy": "2022-09-14T19:45:38.946001Z",
     "iopub.status.idle": "2022-09-14T19:45:39.562834Z",
     "shell.execute_reply": "2022-09-14T19:45:39.562312Z",
     "shell.execute_reply.started": "2022-09-14T19:45:38.946429Z"
    },
    "tags": []
   },
   "outputs": [],
   "source": [
    "MIMIC_IV_Bilos2021()[\"timeseries\"]"
   ]
  },
  {
   "cell_type": "code",
   "execution_count": null,
   "id": "c58d3934-8fa7-4d09-bbb4-464c39c2f94c",
   "metadata": {
    "execution": {
     "iopub.execute_input": "2022-09-14T19:32:53.449998Z",
     "iopub.status.busy": "2022-09-14T19:32:53.449813Z",
     "iopub.status.idle": "2022-09-14T19:32:53.966344Z",
     "shell.execute_reply": "2022-09-14T19:32:53.965642Z",
     "shell.execute_reply.started": "2022-09-14T19:32:53.449985Z"
    }
   },
   "outputs": [],
   "source": [
    "raise"
   ]
  },
  {
   "cell_type": "code",
   "execution_count": null,
   "id": "b4391740-6f13-4811-8410-036e98c21ec6",
   "metadata": {
    "execution": {
     "iopub.status.busy": "2022-09-14T19:32:53.966721Z",
     "iopub.status.idle": "2022-09-14T19:32:53.966871Z",
     "shell.execute_reply": "2022-09-14T19:32:53.966804Z",
     "shell.execute_reply.started": "2022-09-14T19:32:53.966796Z"
    },
    "tags": []
   },
   "outputs": [],
   "source": [
    "MIMIC_IV_Bilos2021.RAWDATA_DIR"
   ]
  },
  {
   "cell_type": "code",
   "execution_count": null,
   "id": "58eb9f28-226d-497a-b34f-b6bfa0e37063",
   "metadata": {
    "execution": {
     "iopub.status.busy": "2022-09-14T19:32:53.967246Z",
     "iopub.status.idle": "2022-09-14T19:32:53.967391Z",
     "shell.execute_reply": "2022-09-14T19:32:53.967324Z",
     "shell.execute_reply.started": "2022-09-14T19:32:53.967317Z"
    },
    "tags": []
   },
   "outputs": [],
   "source": [
    "MIMIC_IV_Bilos2021[MIMIC_III]"
   ]
  },
  {
   "cell_type": "code",
   "execution_count": null,
   "id": "ff2facb4-8230-4151-aba0-cb8a362ae522",
   "metadata": {
    "tags": []
   },
   "outputs": [],
   "source": []
  },
  {
   "cell_type": "code",
   "execution_count": null,
   "id": "633557b5-21cc-4652-9dfd-3fe92e0babc1",
   "metadata": {},
   "outputs": [],
   "source": []
  },
  {
   "cell_type": "code",
   "execution_count": null,
   "id": "6f0fd552-7729-419d-a300-df6b23037cfe",
   "metadata": {
    "execution": {
     "iopub.status.busy": "2022-09-14T19:32:53.967835Z",
     "iopub.status.idle": "2022-09-14T19:32:53.967980Z",
     "shell.execute_reply": "2022-09-14T19:32:53.967913Z",
     "shell.execute_reply.started": "2022-09-14T19:32:53.967906Z"
    },
    "tags": []
   },
   "outputs": [],
   "source": [
    "from abc import ABCMeta"
   ]
  },
  {
   "cell_type": "code",
   "execution_count": null,
   "id": "1a217df1-ffd9-42c8-97b2-14b9462e861f",
   "metadata": {
    "execution": {
     "iopub.status.busy": "2022-09-14T19:32:53.968513Z",
     "iopub.status.idle": "2022-09-14T19:32:53.968657Z",
     "shell.execute_reply": "2022-09-14T19:32:53.968590Z",
     "shell.execute_reply.started": "2022-09-14T19:32:53.968583Z"
    },
    "tags": []
   },
   "outputs": [],
   "source": [
    "class A(ABCMeta):\n",
    "    ..."
   ]
  },
  {
   "cell_type": "code",
   "execution_count": null,
   "id": "7c1486e2-7d32-4986-8bd9-5dc11323406f",
   "metadata": {
    "execution": {
     "iopub.status.busy": "2022-09-14T19:32:53.969075Z",
     "iopub.status.idle": "2022-09-14T19:32:53.969217Z",
     "shell.execute_reply": "2022-09-14T19:32:53.969151Z",
     "shell.execute_reply.started": "2022-09-14T19:32:53.969144Z"
    },
    "tags": []
   },
   "outputs": [],
   "source": [
    "A[int]"
   ]
  },
  {
   "cell_type": "code",
   "execution_count": null,
   "id": "1016b407-645a-4899-a164-b2e30b1f891f",
   "metadata": {
    "execution": {
     "iopub.status.busy": "2022-09-14T19:32:53.969707Z",
     "iopub.status.idle": "2022-09-14T19:32:53.969938Z",
     "shell.execute_reply": "2022-09-14T19:32:53.969869Z",
     "shell.execute_reply.started": "2022-09-14T19:32:53.969861Z"
    },
    "tags": []
   },
   "outputs": [],
   "source": [
    "type(KIWI_RUNS[\"test\"])"
   ]
  },
  {
   "cell_type": "code",
   "execution_count": null,
   "id": "18e7e29a-f1be-42ce-bb49-a3652e7aa33c",
   "metadata": {
    "execution": {
     "iopub.status.busy": "2022-09-14T19:32:53.970284Z",
     "iopub.status.idle": "2022-09-14T19:32:53.970425Z",
     "shell.execute_reply": "2022-09-14T19:32:53.970359Z",
     "shell.execute_reply.started": "2022-09-14T19:32:53.970352Z"
    },
    "tags": []
   },
   "outputs": [],
   "source": [
    "T = MultiFrameDataset[MIMIC_III]"
   ]
  },
  {
   "cell_type": "code",
   "execution_count": null,
   "id": "a5101a81-f686-43e7-b190-d6324280eb92",
   "metadata": {
    "execution": {
     "iopub.status.busy": "2022-09-14T19:32:53.971068Z",
     "iopub.status.idle": "2022-09-14T19:32:53.971233Z",
     "shell.execute_reply": "2022-09-14T19:32:53.971166Z",
     "shell.execute_reply.started": "2022-09-14T19:32:53.971158Z"
    },
    "tags": []
   },
   "outputs": [],
   "source": [
    "KIWI_RUNS[\"1\"]"
   ]
  },
  {
   "cell_type": "code",
   "execution_count": null,
   "id": "caf30bc9-4e83-4870-83c2-1e7f7c556eeb",
   "metadata": {
    "execution": {
     "iopub.status.busy": "2022-09-14T19:32:53.971709Z",
     "iopub.status.idle": "2022-09-14T19:32:53.971874Z",
     "shell.execute_reply": "2022-09-14T19:32:53.971808Z",
     "shell.execute_reply.started": "2022-09-14T19:32:53.971800Z"
    }
   },
   "outputs": [],
   "source": [
    "ts[\"timeseries\"]"
   ]
  },
  {
   "cell_type": "code",
   "execution_count": null,
   "id": "a6908d84-1c0a-43c4-9968-d3dcdacb047a",
   "metadata": {
    "execution": {
     "iopub.status.busy": "2022-09-14T19:32:53.972333Z",
     "iopub.status.idle": "2022-09-14T19:32:53.972471Z",
     "shell.execute_reply": "2022-09-14T19:32:53.972406Z",
     "shell.execute_reply.started": "2022-09-14T19:32:53.972400Z"
    },
    "tags": []
   },
   "outputs": [],
   "source": [
    "tsdm.datasets.MIMIC_IV_Bilos2021.RAWDATA_DIR"
   ]
  },
  {
   "cell_type": "code",
   "execution_count": null,
   "id": "d833e8e1-9dcd-4710-87e2-71a5a572cbf3",
   "metadata": {
    "execution": {
     "iopub.status.busy": "2022-09-14T19:32:53.972990Z",
     "iopub.status.idle": "2022-09-14T19:32:53.973161Z",
     "shell.execute_reply": "2022-09-14T19:32:53.973095Z",
     "shell.execute_reply.started": "2022-09-14T19:32:53.973087Z"
    },
    "tags": []
   },
   "outputs": [],
   "source": [
    "import tsdm\n",
    "\n",
    "ds = tsdm.datasets.MIMIC_IV_Bilos2021()\n",
    "ts = ds[\"timeseries\"]"
   ]
  },
  {
   "cell_type": "code",
   "execution_count": null,
   "id": "7ae6e848-457d-4c7a-a73b-82bbc23c477a",
   "metadata": {
    "execution": {
     "iopub.status.busy": "2022-09-14T19:32:53.973588Z",
     "iopub.status.idle": "2022-09-14T19:32:53.973726Z",
     "shell.execute_reply": "2022-09-14T19:32:53.973661Z",
     "shell.execute_reply.started": "2022-09-14T19:32:53.973654Z"
    },
    "tags": []
   },
   "outputs": [],
   "source": [
    "class Meta(type):\n",
    "    def __getitem__(self, arg):\n",
    "        print(\"__getitem__:\", arg)\n",
    "\n",
    "\n",
    "class X(metaclass=Meta):\n",
    "    ...\n",
    "\n",
    "\n",
    "X[\"hello\"]  # output: __getitem__ hello"
   ]
  },
  {
   "cell_type": "code",
   "execution_count": null,
   "id": "d2d196c1-7339-44b8-8c9c-2e3fdf8ac5fd",
   "metadata": {
    "execution": {
     "iopub.status.busy": "2022-09-14T19:32:53.974184Z",
     "iopub.status.idle": "2022-09-14T19:32:53.974322Z",
     "shell.execute_reply": "2022-09-14T19:32:53.974258Z",
     "shell.execute_reply.started": "2022-09-14T19:32:53.974251Z"
    },
    "tags": []
   },
   "outputs": [],
   "source": [
    "Meta[int]"
   ]
  },
  {
   "cell_type": "code",
   "execution_count": null,
   "id": "5d6921e7-7c3e-40b0-b8cc-8dc809c2b302",
   "metadata": {
    "execution": {
     "iopub.status.busy": "2022-09-14T19:32:53.974738Z",
     "iopub.status.idle": "2022-09-14T19:32:53.974913Z",
     "shell.execute_reply": "2022-09-14T19:32:53.974845Z",
     "shell.execute_reply.started": "2022-09-14T19:32:53.974838Z"
    }
   },
   "outputs": [],
   "source": [
    "task = tsdm.tasks.MIMIC_IV_Bilos()"
   ]
  },
  {
   "cell_type": "code",
   "execution_count": null,
   "id": "32d93572-8ce8-4eb1-a78c-1218dabc3eae",
   "metadata": {
    "execution": {
     "iopub.status.busy": "2022-09-14T19:32:53.975357Z",
     "iopub.status.idle": "2022-09-14T19:32:53.975499Z",
     "shell.execute_reply": "2022-09-14T19:32:53.975433Z",
     "shell.execute_reply.started": "2022-09-14T19:32:53.975426Z"
    },
    "tags": []
   },
   "outputs": [],
   "source": [
    "task.splits.keys()"
   ]
  },
  {
   "cell_type": "code",
   "execution_count": null,
   "id": "9bc6c00b",
   "metadata": {
    "execution": {
     "iopub.status.busy": "2022-09-14T19:32:53.975861Z",
     "iopub.status.idle": "2022-09-14T19:32:53.976001Z",
     "shell.execute_reply": "2022-09-14T19:32:53.975936Z",
     "shell.execute_reply.started": "2022-09-14T19:32:53.975929Z"
    },
    "jupyter": {
     "outputs_hidden": false
    },
    "pycharm": {
     "name": "#%%\n"
    }
   },
   "outputs": [],
   "source": [
    "import torch"
   ]
  },
  {
   "cell_type": "code",
   "execution_count": null,
   "id": "2250ce4b-de62-4888-b08e-55de69ef7523",
   "metadata": {
    "execution": {
     "iopub.status.busy": "2022-09-14T19:32:53.976456Z",
     "iopub.status.idle": "2022-09-14T19:32:53.976642Z",
     "shell.execute_reply": "2022-09-14T19:32:53.976552Z",
     "shell.execute_reply.started": "2022-09-14T19:32:53.976541Z"
    },
    "tags": []
   },
   "outputs": [],
   "source": [
    "device = torch.device(\"cuda\")"
   ]
  },
  {
   "cell_type": "code",
   "execution_count": null,
   "id": "a94439cf-4782-42b8-af88-7086ad1368f7",
   "metadata": {
    "execution": {
     "iopub.status.busy": "2022-09-14T19:32:53.977570Z",
     "iopub.status.idle": "2022-09-14T19:32:53.977731Z",
     "shell.execute_reply": "2022-09-14T19:32:53.977657Z",
     "shell.execute_reply.started": "2022-09-14T19:32:53.977650Z"
    }
   },
   "outputs": [],
   "source": [
    "A"
   ]
  },
  {
   "cell_type": "code",
   "execution_count": null,
   "id": "38ba78b8-a763-4b91-8d58-a14cf2ba3792",
   "metadata": {
    "execution": {
     "iopub.status.busy": "2022-09-14T19:32:53.978233Z",
     "iopub.status.idle": "2022-09-14T19:32:53.978378Z",
     "shell.execute_reply": "2022-09-14T19:32:53.978311Z",
     "shell.execute_reply.started": "2022-09-14T19:32:53.978304Z"
    },
    "tags": []
   },
   "outputs": [],
   "source": [
    "import torch\n",
    "\n",
    "A = torch.randn(5, 5, device=device, requires_grad=True)  # 5×5\n",
    "t = torch.rand(3, device=device)  # 7×3\n",
    "At = torch.einsum(\"ij, ...s -> ...sij\", A, t)  # 7×3×5×5\n",
    "eAt = torch.linalg.matrix_exp(At)  # 7×3×5×5\n",
    "s = torch.linalg.norm(At)  # 1\n",
    "s.backward()"
   ]
  },
  {
   "cell_type": "code",
   "execution_count": null,
   "id": "b476ba77-e11b-4f49-9ccb-0f12e18d1249",
   "metadata": {
    "execution": {
     "iopub.status.busy": "2022-09-14T19:32:53.978744Z",
     "iopub.status.idle": "2022-09-14T19:32:53.978878Z",
     "shell.execute_reply": "2022-09-14T19:32:53.978815Z",
     "shell.execute_reply.started": "2022-09-14T19:32:53.978809Z"
    },
    "tags": []
   },
   "outputs": [],
   "source": [
    "At.shape"
   ]
  },
  {
   "cell_type": "code",
   "execution_count": null,
   "id": "7d693b99-7345-4af6-b00d-15effdaccbff",
   "metadata": {
    "execution": {
     "iopub.status.busy": "2022-09-14T19:32:53.979420Z",
     "iopub.status.idle": "2022-09-14T19:32:53.979719Z",
     "shell.execute_reply": "2022-09-14T19:32:53.979623Z",
     "shell.execute_reply.started": "2022-09-14T19:32:53.979612Z"
    }
   },
   "outputs": [],
   "source": [
    "s.shape"
   ]
  },
  {
   "cell_type": "code",
   "execution_count": null,
   "id": "63c4d4d9-312d-4d44-926f-c80901f79816",
   "metadata": {},
   "outputs": [],
   "source": []
  }
 ],
 "metadata": {
  "kernelspec": {
   "display_name": "Python 3 (ipykernel)",
   "language": "python",
   "name": "python3"
  },
  "language_info": {
   "codemirror_mode": {
    "name": "ipython",
    "version": 3
   },
   "file_extension": ".py",
   "mimetype": "text/x-python",
   "name": "python",
   "nbconvert_exporter": "python",
   "pygments_lexer": "ipython3",
   "version": "3.10.6"
  }
 },
 "nbformat": 4,
 "nbformat_minor": 5
}
