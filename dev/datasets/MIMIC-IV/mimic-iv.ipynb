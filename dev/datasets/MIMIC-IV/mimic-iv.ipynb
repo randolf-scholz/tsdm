{
 "cells": [
  {
   "cell_type": "code",
   "execution_count": null,
   "id": "20191951-beec-414a-b3c6-89dca8277ad2",
   "metadata": {
    "execution": {
     "iopub.execute_input": "2022-09-14T01:09:46.661964Z",
     "iopub.status.busy": "2022-09-14T01:09:46.661804Z",
     "iopub.status.idle": "2022-09-14T01:09:47.097576Z",
     "shell.execute_reply": "2022-09-14T01:09:47.097204Z",
     "shell.execute_reply.started": "2022-09-14T01:09:46.661925Z"
    },
    "pycharm": {
     "name": "#%%\n"
    },
    "tags": []
   },
   "outputs": [],
   "source": [
    "%config InteractiveShell.ast_node_interactivity='last_expr_or_assign'  # always print last expr.\n",
    "%config InlineBackend.figure_format = 'svg'\n",
    "%load_ext autoreload\n",
    "%autoreload 2\n",
    "%matplotlib inline"
   ]
  },
  {
   "cell_type": "code",
   "execution_count": null,
   "id": "f6de19c7-28ab-4b61-afb0-cec25804eee0",
   "metadata": {
    "execution": {
     "iopub.execute_input": "2022-09-14T02:10:36.342237Z",
     "iopub.status.busy": "2022-09-14T02:10:36.342062Z",
     "iopub.status.idle": "2022-09-14T02:10:36.344450Z",
     "shell.execute_reply": "2022-09-14T02:10:36.344121Z",
     "shell.execute_reply.started": "2022-09-14T02:10:36.342225Z"
    },
    "pycharm": {
     "name": "#%%\n"
    }
   },
   "outputs": [],
   "source": [
    "import pandas as pd\n",
    "import numpy as np"
   ]
  },
  {
   "cell_type": "code",
   "execution_count": null,
   "id": "376b4cbd-ca70-4373-902a-03573489a03a",
   "metadata": {
    "execution": {
     "iopub.execute_input": "2022-09-14T02:12:24.494636Z",
     "iopub.status.busy": "2022-09-14T02:12:24.494459Z",
     "iopub.status.idle": "2022-09-14T02:12:24.768069Z",
     "shell.execute_reply": "2022-09-14T02:12:24.767715Z",
     "shell.execute_reply.started": "2022-09-14T02:12:24.494624Z"
    },
    "pycharm": {
     "name": "#%%\n"
    },
    "tags": []
   },
   "outputs": [],
   "source": [
    "import tsdm\n",
    "\n",
    "ds = tsdm.datasets.MIMIC_IV()"
   ]
  },
  {
   "cell_type": "code",
   "execution_count": null,
   "id": "42ca18c7-c7a4-4714-a91b-67c6567b24cd",
   "metadata": {
    "execution": {
     "iopub.execute_input": "2022-09-14T02:12:39.131400Z",
     "iopub.status.busy": "2022-09-14T02:12:39.131213Z",
     "iopub.status.idle": "2022-09-14T02:12:39.215747Z",
     "shell.execute_reply": "2022-09-14T02:12:39.215239Z",
     "shell.execute_reply.started": "2022-09-14T02:12:39.131386Z"
    },
    "pycharm": {
     "name": "#%%\n"
    },
    "tags": []
   },
   "outputs": [],
   "source": [
    "ds.timeseries.reset_index()[\"time_stamp\"].max()"
   ]
  },
  {
   "cell_type": "code",
   "execution_count": null,
   "id": "94982dea-30ee-40b5-8270-30aad8a63282",
   "metadata": {
    "execution": {
     "iopub.execute_input": "2022-09-14T02:12:55.541635Z",
     "iopub.status.busy": "2022-09-14T02:12:55.541459Z",
     "iopub.status.idle": "2022-09-14T02:12:55.544438Z",
     "shell.execute_reply": "2022-09-14T02:12:55.544041Z",
     "shell.execute_reply.started": "2022-09-14T02:12:55.541624Z"
    },
    "pycharm": {
     "name": "#%%\n"
    }
   },
   "outputs": [],
   "source": [
    "36 * 60"
   ]
  },
  {
   "cell_type": "code",
   "execution_count": null,
   "id": "8bead45e-e254-44f6-96f0-e1bdcc45feb7",
   "metadata": {
    "execution": {
     "iopub.execute_input": "2022-09-14T02:12:47.147251Z",
     "iopub.status.busy": "2022-09-14T02:12:47.147078Z",
     "iopub.status.idle": "2022-09-14T02:12:47.149952Z",
     "shell.execute_reply": "2022-09-14T02:12:47.149625Z",
     "shell.execute_reply.started": "2022-09-14T02:12:47.147240Z"
    },
    "pycharm": {
     "name": "#%%\n"
    }
   },
   "outputs": [],
   "source": [
    "2879 / 60"
   ]
  },
  {
   "cell_type": "code",
   "execution_count": null,
   "id": "9038c3fb-84f5-459a-8d0a-016e5394ffea",
   "metadata": {
    "execution": {
     "iopub.execute_input": "2022-09-14T02:11:14.213377Z",
     "iopub.status.busy": "2022-09-14T02:11:14.213203Z",
     "iopub.status.idle": "2022-09-14T02:11:14.290329Z",
     "shell.execute_reply": "2022-09-14T02:11:14.289922Z",
     "shell.execute_reply.started": "2022-09-14T02:11:14.213366Z"
    },
    "pycharm": {
     "name": "#%%\n"
    },
    "tags": []
   },
   "outputs": [],
   "source": [
    "import tsdm\n",
    "\n",
    "ds = tsdm.datasets.MIMIC_III()\n",
    "ds.timeseries.reset_index()[\"TIME_STAMP\"].max()"
   ]
  },
  {
   "cell_type": "code",
   "execution_count": null,
   "id": "92634f02-8b3d-4a49-abbd-c6b594960c39",
   "metadata": {
    "execution": {
     "iopub.execute_input": "2022-09-14T01:57:25.920086Z",
     "iopub.status.busy": "2022-09-14T01:57:25.919895Z",
     "iopub.status.idle": "2022-09-14T01:57:26.001762Z",
     "shell.execute_reply": "2022-09-14T01:57:26.001358Z",
     "shell.execute_reply.started": "2022-09-14T01:57:25.920074Z"
    },
    "pycharm": {
     "name": "#%%\n"
    }
   },
   "outputs": [],
   "source": [
    "ds = tsdm.datasets.MIMIC_III()"
   ]
  },
  {
   "cell_type": "code",
   "execution_count": null,
   "id": "a39c853a-1798-44aa-8b22-c0f6ef60a711",
   "metadata": {
    "execution": {
     "iopub.execute_input": "2022-09-14T01:57:29.567561Z",
     "iopub.status.busy": "2022-09-14T01:57:29.567388Z",
     "iopub.status.idle": "2022-09-14T01:57:29.644014Z",
     "shell.execute_reply": "2022-09-14T01:57:29.643344Z",
     "shell.execute_reply.started": "2022-09-14T01:57:29.567549Z"
    },
    "pycharm": {
     "name": "#%%\n"
    }
   },
   "outputs": [],
   "source": [
    "ds.timeseries"
   ]
  },
  {
   "cell_type": "code",
   "execution_count": null,
   "id": "8e6a1d21-8d8f-4f01-ab98-1c4ef4bef991",
   "metadata": {
    "execution": {
     "iopub.execute_input": "2022-09-14T01:25:08.012931Z",
     "iopub.status.busy": "2022-09-14T01:25:08.012737Z",
     "iopub.status.idle": "2022-09-14T01:25:09.496159Z",
     "shell.execute_reply": "2022-09-14T01:25:09.495825Z",
     "shell.execute_reply.started": "2022-09-14T01:25:08.012893Z"
    },
    "pycharm": {
     "name": "#%%\n"
    },
    "tags": []
   },
   "outputs": [],
   "source": [
    "import tsdm\n",
    "\n",
    "ds = tsdm.datasets.MIMIC_IV(initialize=False)"
   ]
  },
  {
   "cell_type": "code",
   "execution_count": null,
   "id": "814b3f79-54a2-46dc-ab9f-acb61a61d302",
   "metadata": {
    "execution": {
     "iopub.execute_input": "2022-09-14T01:28:26.163469Z",
     "iopub.status.busy": "2022-09-14T01:28:26.163275Z",
     "iopub.status.idle": "2022-09-14T01:28:26.165669Z",
     "shell.execute_reply": "2022-09-14T01:28:26.165303Z",
     "shell.execute_reply.started": "2022-09-14T01:28:26.163454Z"
    },
    "pycharm": {
     "name": "#%%\n"
    },
    "tags": []
   },
   "outputs": [],
   "source": [
    "import hashlib\n",
    "\n",
    "from pathlib import Path"
   ]
  },
  {
   "cell_type": "code",
   "execution_count": null,
   "id": "fdf6bd08-5b9e-4505-81e7-be558d2c2d06",
   "metadata": {
    "execution": {
     "iopub.execute_input": "2022-09-14T01:48:14.997415Z",
     "iopub.status.busy": "2022-09-14T01:48:14.997245Z",
     "iopub.status.idle": "2022-09-14T01:48:14.999699Z",
     "shell.execute_reply": "2022-09-14T01:48:14.999323Z",
     "shell.execute_reply.started": "2022-09-14T01:48:14.997403Z"
    },
    "pycharm": {
     "name": "#%%\n"
    },
    "tags": []
   },
   "outputs": [],
   "source": [
    "path = Path(\"/home/rscholz/.tsdm/rawdata/MIMIC_III/complete_tensor.csv\")"
   ]
  },
  {
   "cell_type": "code",
   "execution_count": null,
   "id": "a4998e1a-e1ba-49ec-9242-7665658ec4ee",
   "metadata": {
    "execution": {
     "iopub.execute_input": "2022-09-14T01:48:15.229799Z",
     "iopub.status.busy": "2022-09-14T01:48:15.229324Z",
     "iopub.status.idle": "2022-09-14T01:48:16.426038Z",
     "shell.execute_reply": "2022-09-14T01:48:16.425554Z",
     "shell.execute_reply.started": "2022-09-14T01:48:15.229785Z"
    },
    "pycharm": {
     "name": "#%%\n"
    },
    "tags": []
   },
   "outputs": [],
   "source": [
    "pd.read_csv(path)"
   ]
  },
  {
   "cell_type": "code",
   "execution_count": null,
   "id": "d3065907-b22c-4bea-a9b8-dbbd7e60a9ec",
   "metadata": {
    "execution": {
     "iopub.execute_input": "2022-09-14T01:48:21.022951Z",
     "iopub.status.busy": "2022-09-14T01:48:21.022479Z",
     "iopub.status.idle": "2022-09-14T01:48:21.024850Z",
     "shell.execute_reply": "2022-09-14T01:48:21.024525Z",
     "shell.execute_reply.started": "2022-09-14T01:48:21.022938Z"
    },
    "pycharm": {
     "name": "#%%\n"
    },
    "tags": []
   },
   "outputs": [],
   "source": [
    "path = Path(\"/home/rscholz/.tsdm/rawdata/MIMIC_IV/full_dataset.csv\")"
   ]
  },
  {
   "cell_type": "code",
   "execution_count": null,
   "id": "f73b0ceb-0b16-402f-937f-54398b0cedb9",
   "metadata": {
    "execution": {
     "iopub.execute_input": "2022-09-14T02:10:04.689752Z",
     "iopub.status.busy": "2022-09-14T02:10:04.689577Z",
     "iopub.status.idle": "2022-09-14T02:10:04.691889Z",
     "shell.execute_reply": "2022-09-14T02:10:04.691557Z",
     "shell.execute_reply.started": "2022-09-14T02:10:04.689740Z"
    },
    "pycharm": {
     "name": "#%%\n"
    },
    "tags": []
   },
   "outputs": [],
   "source": []
  }
 ],
 "metadata": {
  "kernelspec": {
   "display_name": "Python 3 (ipykernel)",
   "language": "python",
   "name": "python3"
  },
  "language_info": {
   "codemirror_mode": {
    "name": "ipython",
    "version": 3
   },
   "file_extension": ".py",
   "mimetype": "text/x-python",
   "name": "python",
   "nbconvert_exporter": "python",
   "pygments_lexer": "ipython3",
   "version": "3.10.6"
  }
 },
 "nbformat": 4,
 "nbformat_minor": 5
}
