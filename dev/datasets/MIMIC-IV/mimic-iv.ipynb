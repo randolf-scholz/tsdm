{
 "cells": [
  {
   "cell_type": "code",
   "execution_count": null,
   "id": "20191951-beec-414a-b3c6-89dca8277ad2",
   "metadata": {
    "execution": {
     "iopub.execute_input": "2022-09-15T00:08:37.635801Z",
     "iopub.status.busy": "2022-09-15T00:08:37.635683Z",
     "iopub.status.idle": "2022-09-15T00:08:38.054606Z",
     "shell.execute_reply": "2022-09-15T00:08:38.054256Z",
     "shell.execute_reply.started": "2022-09-15T00:08:37.635771Z"
    },
    "pycharm": {
     "name": "#%%\n"
    },
    "tags": []
   },
   "outputs": [],
   "source": [
    "%config InteractiveShell.ast_node_interactivity='last_expr_or_assign'  # always print last expr.\n",
    "%config InlineBackend.figure_format = 'svg'\n",
    "%load_ext autoreload\n",
    "%autoreload 2\n",
    "%matplotlib inline\n",
    "import logging"
   ]
  },
  {
   "cell_type": "code",
   "execution_count": null,
   "id": "249a82c9-3e62-4956-bfbf-8d11507be107",
   "metadata": {
    "execution": {
     "iopub.execute_input": "2022-09-15T00:08:38.055622Z",
     "iopub.status.busy": "2022-09-15T00:08:38.055405Z",
     "iopub.status.idle": "2022-09-15T00:08:38.064922Z",
     "shell.execute_reply": "2022-09-15T00:08:38.062267Z",
     "shell.execute_reply.started": "2022-09-15T00:08:38.055611Z"
    },
    "tags": []
   },
   "outputs": [],
   "source": [
    "logging.basicConfig(level=logging.INFO)"
   ]
  },
  {
   "cell_type": "code",
   "execution_count": null,
   "id": "f6de19c7-28ab-4b61-afb0-cec25804eee0",
   "metadata": {
    "execution": {
     "iopub.execute_input": "2022-09-15T00:08:38.065815Z",
     "iopub.status.busy": "2022-09-15T00:08:38.065653Z",
     "iopub.status.idle": "2022-09-15T00:08:38.234577Z",
     "shell.execute_reply": "2022-09-15T00:08:38.234185Z",
     "shell.execute_reply.started": "2022-09-15T00:08:38.065797Z"
    },
    "pycharm": {
     "name": "#%%\n"
    },
    "tags": []
   },
   "outputs": [],
   "source": [
    "import numpy as np\n",
    "import pandas as pd"
   ]
  },
  {
   "cell_type": "code",
   "execution_count": null,
   "id": "d8d2914d-5568-4098-823a-69cd69a1ff27",
   "metadata": {
    "execution": {
     "iopub.execute_input": "2022-09-15T00:08:38.235296Z",
     "iopub.status.busy": "2022-09-15T00:08:38.235092Z",
     "iopub.status.idle": "2022-09-15T00:08:39.115154Z",
     "shell.execute_reply": "2022-09-15T00:08:39.114764Z",
     "shell.execute_reply.started": "2022-09-15T00:08:38.235284Z"
    },
    "tags": []
   },
   "outputs": [],
   "source": [
    "import tsdm\n",
    "from tsdm.datasets import *"
   ]
  },
  {
   "cell_type": "code",
   "execution_count": null,
   "id": "f0f2efa6-a04d-41d6-a0f7-92bbfde93dec",
   "metadata": {
    "execution": {
     "iopub.execute_input": "2022-09-15T00:08:39.115955Z",
     "iopub.status.busy": "2022-09-15T00:08:39.115665Z",
     "iopub.status.idle": "2022-09-15T00:08:43.553644Z",
     "shell.execute_reply": "2022-09-15T00:08:43.553276Z",
     "shell.execute_reply.started": "2022-09-15T00:08:39.115942Z"
    },
    "tags": []
   },
   "outputs": [],
   "source": [
    "task = tsdm.tasks.MIMIC_IV_Bilos2021()"
   ]
  },
  {
   "cell_type": "code",
   "execution_count": null,
   "id": "eb3130d9-b481-4733-a797-0137bd68d0c4",
   "metadata": {
    "execution": {
     "iopub.execute_input": "2022-09-15T00:11:52.709754Z",
     "iopub.status.busy": "2022-09-15T00:11:52.709577Z",
     "iopub.status.idle": "2022-09-15T00:11:52.723791Z",
     "shell.execute_reply": "2022-09-15T00:11:52.723457Z",
     "shell.execute_reply.started": "2022-09-15T00:11:52.709743Z"
    },
    "tags": []
   },
   "outputs": [],
   "source": [
    "from tsdm.utils.data import folds"
   ]
  },
  {
   "cell_type": "code",
   "execution_count": null,
   "id": "2032769d-8702-41e5-a2e5-7eab2c57b001",
   "metadata": {
    "execution": {
     "iopub.execute_input": "2022-09-15T00:12:13.871605Z",
     "iopub.status.busy": "2022-09-15T00:12:13.871272Z",
     "iopub.status.idle": "2022-09-15T00:12:13.887422Z",
     "shell.execute_reply": "2022-09-15T00:12:13.887131Z",
     "shell.execute_reply.started": "2022-09-15T00:12:13.871592Z"
    }
   },
   "outputs": [],
   "source": [
    "task.folds"
   ]
  },
  {
   "cell_type": "code",
   "execution_count": null,
   "id": "9f4527de-2747-4363-a52a-2f8e883d42aa",
   "metadata": {
    "execution": {
     "iopub.execute_input": "2022-09-15T00:16:22.730732Z",
     "iopub.status.busy": "2022-09-15T00:16:22.730555Z",
     "iopub.status.idle": "2022-09-15T00:16:22.746549Z",
     "shell.execute_reply": "2022-09-15T00:16:22.746163Z",
     "shell.execute_reply.started": "2022-09-15T00:16:22.730719Z"
    }
   },
   "outputs": [],
   "source": [
    "from itertools import product\n",
    "\n",
    "index = list(product(range(5), (\"train\", \"valid\", \"test\")))"
   ]
  },
  {
   "cell_type": "code",
   "execution_count": null,
   "id": "19e59432-97c2-4e8a-bdda-74da88112373",
   "metadata": {
    "execution": {
     "iopub.execute_input": "2022-09-15T00:32:14.320896Z",
     "iopub.status.busy": "2022-09-15T00:32:14.320720Z",
     "iopub.status.idle": "2022-09-15T00:32:14.339289Z",
     "shell.execute_reply": "2022-09-15T00:32:14.338998Z",
     "shell.execute_reply.started": "2022-09-15T00:32:14.320884Z"
    },
    "tags": []
   },
   "outputs": [],
   "source": [
    "task.split_idx"
   ]
  },
  {
   "cell_type": "code",
   "execution_count": null,
   "id": "83977c21-c13b-4ac9-b57a-06d28c29eb78",
   "metadata": {
    "execution": {
     "iopub.execute_input": "2022-09-15T00:08:43.570513Z",
     "iopub.status.busy": "2022-09-15T00:08:43.570244Z",
     "iopub.status.idle": "2022-09-15T00:08:44.085519Z",
     "shell.execute_reply": "2022-09-15T00:08:44.084479Z",
     "shell.execute_reply.started": "2022-09-15T00:08:43.570501Z"
    }
   },
   "outputs": [],
   "source": [
    "raise"
   ]
  },
  {
   "cell_type": "code",
   "execution_count": null,
   "id": "db7b4a28-8dd6-42a7-9b10-827a60375917",
   "metadata": {
    "execution": {
     "iopub.status.busy": "2022-09-15T00:08:44.085930Z",
     "iopub.status.idle": "2022-09-15T00:08:44.086079Z",
     "shell.execute_reply": "2022-09-15T00:08:44.086010Z",
     "shell.execute_reply.started": "2022-09-15T00:08:44.086002Z"
    },
    "tags": []
   },
   "outputs": [],
   "source": [
    "ts.dropna(how=\"all\")"
   ]
  },
  {
   "cell_type": "code",
   "execution_count": null,
   "id": "1d7dde79-fa12-4889-a121-421df74cba9f",
   "metadata": {
    "execution": {
     "iopub.status.busy": "2022-09-15T00:08:44.086555Z",
     "iopub.status.idle": "2022-09-15T00:08:44.086700Z",
     "shell.execute_reply": "2022-09-15T00:08:44.086629Z",
     "shell.execute_reply.started": "2022-09-15T00:08:44.086623Z"
    },
    "tags": []
   },
   "outputs": [],
   "source": [
    "ts = MIMIC_IV_Bilos2021()[\"timeseries\"]"
   ]
  },
  {
   "cell_type": "code",
   "execution_count": null,
   "id": "003bbe51-c125-44a8-b962-f179263dcecb",
   "metadata": {
    "execution": {
     "iopub.status.busy": "2022-09-15T00:08:44.087057Z",
     "iopub.status.idle": "2022-09-15T00:08:44.087191Z",
     "shell.execute_reply": "2022-09-15T00:08:44.087128Z",
     "shell.execute_reply.started": "2022-09-15T00:08:44.087121Z"
    },
    "tags": []
   },
   "outputs": [],
   "source": [
    "from tsdm.encoders import *"
   ]
  },
  {
   "cell_type": "code",
   "execution_count": null,
   "id": "039dbe5a-b607-480d-99b5-4ff344c9d214",
   "metadata": {
    "execution": {
     "iopub.status.busy": "2022-09-15T00:08:44.087649Z",
     "iopub.status.idle": "2022-09-15T00:08:44.087787Z",
     "shell.execute_reply": "2022-09-15T00:08:44.087722Z",
     "shell.execute_reply.started": "2022-09-15T00:08:44.087715Z"
    },
    "tags": []
   },
   "outputs": [],
   "source": [
    "encoder = FrameEncoder(\n",
    "    column_encoders=Standardizer(),\n",
    "    index_encoders={\"time_stamp\": MinMaxScaler()},\n",
    ")"
   ]
  },
  {
   "cell_type": "code",
   "execution_count": null,
   "id": "27b3c3b2-1774-4c83-bfcf-ab666788514d",
   "metadata": {
    "execution": {
     "iopub.status.busy": "2022-09-15T00:08:44.088224Z",
     "iopub.status.idle": "2022-09-15T00:08:44.088360Z",
     "shell.execute_reply": "2022-09-15T00:08:44.088296Z",
     "shell.execute_reply.started": "2022-09-15T00:08:44.088289Z"
    },
    "tags": []
   },
   "outputs": [],
   "source": [
    "ts.std().sort_values()"
   ]
  },
  {
   "cell_type": "code",
   "execution_count": null,
   "id": "30fa997e-dd8d-470f-afe5-541437e268d8",
   "metadata": {
    "execution": {
     "iopub.status.busy": "2022-09-15T00:08:44.088769Z",
     "iopub.status.idle": "2022-09-15T00:08:44.088902Z",
     "shell.execute_reply": "2022-09-15T00:08:44.088839Z",
     "shell.execute_reply.started": "2022-09-15T00:08:44.088833Z"
    },
    "tags": []
   },
   "outputs": [],
   "source": [
    "encoder.fit(ts)"
   ]
  },
  {
   "cell_type": "code",
   "execution_count": null,
   "id": "759c137c-c3e5-4781-b692-1db26e48b3cf",
   "metadata": {
    "execution": {
     "iopub.status.busy": "2022-09-15T00:08:44.089256Z",
     "iopub.status.idle": "2022-09-15T00:08:44.089389Z",
     "shell.execute_reply": "2022-09-15T00:08:44.089326Z",
     "shell.execute_reply.started": "2022-09-15T00:08:44.089319Z"
    },
    "tags": []
   },
   "outputs": [],
   "source": [
    "encoder.encode(ts)"
   ]
  },
  {
   "cell_type": "code",
   "execution_count": null,
   "id": "98241c8f-097c-4b87-98cc-684d3adb5934",
   "metadata": {
    "execution": {
     "iopub.status.busy": "2022-09-15T00:08:44.089813Z",
     "iopub.status.idle": "2022-09-15T00:08:44.089947Z",
     "shell.execute_reply": "2022-09-15T00:08:44.089884Z",
     "shell.execute_reply.started": "2022-09-15T00:08:44.089877Z"
    },
    "tags": []
   },
   "outputs": [],
   "source": [
    "encoder = tsdm.encoders.Standardizer()\n",
    "encoder.fit(ts)\n",
    "encoded = encoder.encode(ts)"
   ]
  },
  {
   "cell_type": "code",
   "execution_count": null,
   "id": "e345343a-dd48-4cad-83bc-25947ca3ff6b",
   "metadata": {
    "execution": {
     "iopub.status.busy": "2022-09-15T00:08:44.090369Z",
     "iopub.status.idle": "2022-09-15T00:08:44.090509Z",
     "shell.execute_reply": "2022-09-15T00:08:44.090444Z",
     "shell.execute_reply.started": "2022-09-15T00:08:44.090438Z"
    },
    "tags": []
   },
   "outputs": [],
   "source": [
    "encoded.std()"
   ]
  },
  {
   "cell_type": "code",
   "execution_count": null,
   "id": "995fc181-d313-4272-bf3e-95fc872613db",
   "metadata": {},
   "outputs": [],
   "source": []
  },
  {
   "cell_type": "code",
   "execution_count": null,
   "id": "c58d3934-8fa7-4d09-bbb4-464c39c2f94c",
   "metadata": {
    "execution": {
     "iopub.status.busy": "2022-09-15T00:08:44.090843Z",
     "iopub.status.idle": "2022-09-15T00:08:44.091028Z",
     "shell.execute_reply": "2022-09-15T00:08:44.090966Z",
     "shell.execute_reply.started": "2022-09-15T00:08:44.090960Z"
    }
   },
   "outputs": [],
   "source": [
    "raise"
   ]
  },
  {
   "cell_type": "code",
   "execution_count": null,
   "id": "b4391740-6f13-4811-8410-036e98c21ec6",
   "metadata": {
    "execution": {
     "iopub.status.busy": "2022-09-15T00:08:44.091352Z",
     "iopub.status.idle": "2022-09-15T00:08:44.091481Z",
     "shell.execute_reply": "2022-09-15T00:08:44.091419Z",
     "shell.execute_reply.started": "2022-09-15T00:08:44.091413Z"
    },
    "tags": []
   },
   "outputs": [],
   "source": [
    "MIMIC_IV_Bilos2021.RAWDATA_DIR"
   ]
  },
  {
   "cell_type": "code",
   "execution_count": null,
   "id": "58eb9f28-226d-497a-b34f-b6bfa0e37063",
   "metadata": {
    "execution": {
     "iopub.status.busy": "2022-09-15T00:08:44.091871Z",
     "iopub.status.idle": "2022-09-15T00:08:44.092037Z",
     "shell.execute_reply": "2022-09-15T00:08:44.091968Z",
     "shell.execute_reply.started": "2022-09-15T00:08:44.091961Z"
    },
    "tags": []
   },
   "outputs": [],
   "source": [
    "MIMIC_IV_Bilos2021[MIMIC_III]"
   ]
  },
  {
   "cell_type": "code",
   "execution_count": null,
   "id": "ff2facb4-8230-4151-aba0-cb8a362ae522",
   "metadata": {
    "tags": []
   },
   "outputs": [],
   "source": []
  },
  {
   "cell_type": "code",
   "execution_count": null,
   "id": "633557b5-21cc-4652-9dfd-3fe92e0babc1",
   "metadata": {},
   "outputs": [],
   "source": []
  },
  {
   "cell_type": "code",
   "execution_count": null,
   "id": "6f0fd552-7729-419d-a300-df6b23037cfe",
   "metadata": {
    "execution": {
     "iopub.status.busy": "2022-09-15T00:08:44.092455Z",
     "iopub.status.idle": "2022-09-15T00:08:44.092586Z",
     "shell.execute_reply": "2022-09-15T00:08:44.092524Z",
     "shell.execute_reply.started": "2022-09-15T00:08:44.092518Z"
    },
    "tags": []
   },
   "outputs": [],
   "source": [
    "from abc import ABCMeta"
   ]
  },
  {
   "cell_type": "code",
   "execution_count": null,
   "id": "1a217df1-ffd9-42c8-97b2-14b9462e861f",
   "metadata": {
    "execution": {
     "iopub.status.busy": "2022-09-15T00:08:44.093000Z",
     "iopub.status.idle": "2022-09-15T00:08:44.093128Z",
     "shell.execute_reply": "2022-09-15T00:08:44.093068Z",
     "shell.execute_reply.started": "2022-09-15T00:08:44.093061Z"
    },
    "tags": []
   },
   "outputs": [],
   "source": [
    "class A(ABCMeta):\n",
    "    ..."
   ]
  },
  {
   "cell_type": "code",
   "execution_count": null,
   "id": "7c1486e2-7d32-4986-8bd9-5dc11323406f",
   "metadata": {
    "execution": {
     "iopub.status.busy": "2022-09-15T00:08:44.093521Z",
     "iopub.status.idle": "2022-09-15T00:08:44.093726Z",
     "shell.execute_reply": "2022-09-15T00:08:44.093664Z",
     "shell.execute_reply.started": "2022-09-15T00:08:44.093657Z"
    },
    "tags": []
   },
   "outputs": [],
   "source": [
    "A[int]"
   ]
  },
  {
   "cell_type": "code",
   "execution_count": null,
   "id": "1016b407-645a-4899-a164-b2e30b1f891f",
   "metadata": {
    "execution": {
     "iopub.status.busy": "2022-09-15T00:08:44.094191Z",
     "iopub.status.idle": "2022-09-15T00:08:44.094339Z",
     "shell.execute_reply": "2022-09-15T00:08:44.094271Z",
     "shell.execute_reply.started": "2022-09-15T00:08:44.094264Z"
    },
    "tags": []
   },
   "outputs": [],
   "source": [
    "type(KIWI_RUNS[\"test\"])"
   ]
  },
  {
   "cell_type": "code",
   "execution_count": null,
   "id": "18e7e29a-f1be-42ce-bb49-a3652e7aa33c",
   "metadata": {
    "execution": {
     "iopub.status.busy": "2022-09-15T00:08:44.094830Z",
     "iopub.status.idle": "2022-09-15T00:08:44.094967Z",
     "shell.execute_reply": "2022-09-15T00:08:44.094903Z",
     "shell.execute_reply.started": "2022-09-15T00:08:44.094897Z"
    },
    "tags": []
   },
   "outputs": [],
   "source": [
    "T = MultiFrameDataset[MIMIC_III]"
   ]
  },
  {
   "cell_type": "code",
   "execution_count": null,
   "id": "a5101a81-f686-43e7-b190-d6324280eb92",
   "metadata": {
    "execution": {
     "iopub.status.busy": "2022-09-15T00:08:44.095406Z",
     "iopub.status.idle": "2022-09-15T00:08:44.095542Z",
     "shell.execute_reply": "2022-09-15T00:08:44.095480Z",
     "shell.execute_reply.started": "2022-09-15T00:08:44.095473Z"
    },
    "tags": []
   },
   "outputs": [],
   "source": [
    "KIWI_RUNS[\"1\"]"
   ]
  },
  {
   "cell_type": "code",
   "execution_count": null,
   "id": "caf30bc9-4e83-4870-83c2-1e7f7c556eeb",
   "metadata": {
    "execution": {
     "iopub.status.busy": "2022-09-15T00:08:44.096406Z",
     "iopub.status.idle": "2022-09-15T00:08:44.096548Z",
     "shell.execute_reply": "2022-09-15T00:08:44.096483Z",
     "shell.execute_reply.started": "2022-09-15T00:08:44.096476Z"
    }
   },
   "outputs": [],
   "source": [
    "ts[\"timeseries\"]"
   ]
  },
  {
   "cell_type": "code",
   "execution_count": null,
   "id": "a6908d84-1c0a-43c4-9968-d3dcdacb047a",
   "metadata": {
    "execution": {
     "iopub.status.busy": "2022-09-15T00:08:44.096886Z",
     "iopub.status.idle": "2022-09-15T00:08:44.097021Z",
     "shell.execute_reply": "2022-09-15T00:08:44.096957Z",
     "shell.execute_reply.started": "2022-09-15T00:08:44.096950Z"
    },
    "tags": []
   },
   "outputs": [],
   "source": [
    "tsdm.datasets.MIMIC_IV_Bilos2021.RAWDATA_DIR"
   ]
  },
  {
   "cell_type": "code",
   "execution_count": null,
   "id": "d833e8e1-9dcd-4710-87e2-71a5a572cbf3",
   "metadata": {
    "execution": {
     "iopub.status.busy": "2022-09-15T00:08:44.097477Z",
     "iopub.status.idle": "2022-09-15T00:08:44.097611Z",
     "shell.execute_reply": "2022-09-15T00:08:44.097548Z",
     "shell.execute_reply.started": "2022-09-15T00:08:44.097542Z"
    },
    "tags": []
   },
   "outputs": [],
   "source": [
    "import tsdm\n",
    "\n",
    "ds = tsdm.datasets.MIMIC_IV_Bilos2021()\n",
    "ts = ds[\"timeseries\"]"
   ]
  },
  {
   "cell_type": "code",
   "execution_count": null,
   "id": "7ae6e848-457d-4c7a-a73b-82bbc23c477a",
   "metadata": {
    "execution": {
     "iopub.status.busy": "2022-09-15T00:08:44.098012Z",
     "iopub.status.idle": "2022-09-15T00:08:44.098147Z",
     "shell.execute_reply": "2022-09-15T00:08:44.098083Z",
     "shell.execute_reply.started": "2022-09-15T00:08:44.098077Z"
    },
    "tags": []
   },
   "outputs": [],
   "source": [
    "class Meta(type):\n",
    "    def __getitem__(self, arg):\n",
    "        print(\"__getitem__:\", arg)\n",
    "\n",
    "\n",
    "class X(metaclass=Meta):\n",
    "    ...\n",
    "\n",
    "\n",
    "X[\"hello\"]  # output: __getitem__ hello"
   ]
  },
  {
   "cell_type": "code",
   "execution_count": null,
   "id": "d2d196c1-7339-44b8-8c9c-2e3fdf8ac5fd",
   "metadata": {
    "execution": {
     "iopub.status.busy": "2022-09-15T00:08:44.098543Z",
     "iopub.status.idle": "2022-09-15T00:08:44.098740Z",
     "shell.execute_reply": "2022-09-15T00:08:44.098676Z",
     "shell.execute_reply.started": "2022-09-15T00:08:44.098669Z"
    },
    "tags": []
   },
   "outputs": [],
   "source": [
    "Meta[int]"
   ]
  },
  {
   "cell_type": "code",
   "execution_count": null,
   "id": "5d6921e7-7c3e-40b0-b8cc-8dc809c2b302",
   "metadata": {
    "execution": {
     "iopub.status.busy": "2022-09-15T00:08:44.099137Z",
     "iopub.status.idle": "2022-09-15T00:08:44.099270Z",
     "shell.execute_reply": "2022-09-15T00:08:44.099207Z",
     "shell.execute_reply.started": "2022-09-15T00:08:44.099200Z"
    }
   },
   "outputs": [],
   "source": [
    "task = tsdm.tasks.MIMIC_IV_Bilos()"
   ]
  },
  {
   "cell_type": "code",
   "execution_count": null,
   "id": "32d93572-8ce8-4eb1-a78c-1218dabc3eae",
   "metadata": {
    "execution": {
     "iopub.status.busy": "2022-09-15T00:08:44.100619Z",
     "iopub.status.idle": "2022-09-15T00:08:44.100775Z",
     "shell.execute_reply": "2022-09-15T00:08:44.100712Z",
     "shell.execute_reply.started": "2022-09-15T00:08:44.100705Z"
    },
    "tags": []
   },
   "outputs": [],
   "source": [
    "task.splits.keys()"
   ]
  },
  {
   "cell_type": "code",
   "execution_count": null,
   "id": "9bc6c00b",
   "metadata": {
    "execution": {
     "iopub.status.busy": "2022-09-15T00:08:44.101222Z",
     "iopub.status.idle": "2022-09-15T00:08:44.101357Z",
     "shell.execute_reply": "2022-09-15T00:08:44.101294Z",
     "shell.execute_reply.started": "2022-09-15T00:08:44.101288Z"
    },
    "jupyter": {
     "outputs_hidden": false
    },
    "pycharm": {
     "name": "#%%\n"
    }
   },
   "outputs": [],
   "source": [
    "import torch"
   ]
  },
  {
   "cell_type": "code",
   "execution_count": null,
   "id": "2250ce4b-de62-4888-b08e-55de69ef7523",
   "metadata": {
    "execution": {
     "iopub.status.busy": "2022-09-15T00:08:44.101738Z",
     "iopub.status.idle": "2022-09-15T00:08:44.101872Z",
     "shell.execute_reply": "2022-09-15T00:08:44.101808Z",
     "shell.execute_reply.started": "2022-09-15T00:08:44.101801Z"
    },
    "tags": []
   },
   "outputs": [],
   "source": [
    "device = torch.device(\"cuda\")"
   ]
  },
  {
   "cell_type": "code",
   "execution_count": null,
   "id": "a94439cf-4782-42b8-af88-7086ad1368f7",
   "metadata": {
    "execution": {
     "iopub.status.busy": "2022-09-15T00:08:44.102318Z",
     "iopub.status.idle": "2022-09-15T00:08:44.102514Z",
     "shell.execute_reply": "2022-09-15T00:08:44.102450Z",
     "shell.execute_reply.started": "2022-09-15T00:08:44.102443Z"
    }
   },
   "outputs": [],
   "source": [
    "A"
   ]
  },
  {
   "cell_type": "code",
   "execution_count": null,
   "id": "38ba78b8-a763-4b91-8d58-a14cf2ba3792",
   "metadata": {
    "execution": {
     "iopub.status.busy": "2022-09-15T00:08:44.102891Z",
     "iopub.status.idle": "2022-09-15T00:08:44.103021Z",
     "shell.execute_reply": "2022-09-15T00:08:44.102960Z",
     "shell.execute_reply.started": "2022-09-15T00:08:44.102953Z"
    },
    "tags": []
   },
   "outputs": [],
   "source": [
    "import torch\n",
    "\n",
    "A = torch.randn(5, 5, device=device, requires_grad=True)  # 5×5\n",
    "t = torch.rand(3, device=device)  # 7×3\n",
    "At = torch.einsum(\"ij, ...s -> ...sij\", A, t)  # 7×3×5×5\n",
    "eAt = torch.linalg.matrix_exp(At)  # 7×3×5×5\n",
    "s = torch.linalg.norm(At)  # 1\n",
    "s.backward()"
   ]
  },
  {
   "cell_type": "code",
   "execution_count": null,
   "id": "b476ba77-e11b-4f49-9ccb-0f12e18d1249",
   "metadata": {
    "execution": {
     "iopub.status.busy": "2022-09-15T00:08:44.103440Z",
     "iopub.status.idle": "2022-09-15T00:08:44.103635Z",
     "shell.execute_reply": "2022-09-15T00:08:44.103572Z",
     "shell.execute_reply.started": "2022-09-15T00:08:44.103565Z"
    },
    "tags": []
   },
   "outputs": [],
   "source": [
    "At.shape"
   ]
  },
  {
   "cell_type": "code",
   "execution_count": null,
   "id": "7d693b99-7345-4af6-b00d-15effdaccbff",
   "metadata": {
    "execution": {
     "iopub.status.busy": "2022-09-15T00:08:44.104010Z",
     "iopub.status.idle": "2022-09-15T00:08:44.104450Z",
     "shell.execute_reply": "2022-09-15T00:08:44.104386Z",
     "shell.execute_reply.started": "2022-09-15T00:08:44.104379Z"
    }
   },
   "outputs": [],
   "source": [
    "s.shape"
   ]
  },
  {
   "cell_type": "code",
   "execution_count": null,
   "id": "63c4d4d9-312d-4d44-926f-c80901f79816",
   "metadata": {},
   "outputs": [],
   "source": []
  }
 ],
 "metadata": {
  "kernelspec": {
   "display_name": "Python 3 (ipykernel)",
   "language": "python",
   "name": "python3"
  },
  "language_info": {
   "codemirror_mode": {
    "name": "ipython",
    "version": 3
   },
   "file_extension": ".py",
   "mimetype": "text/x-python",
   "name": "python",
   "nbconvert_exporter": "python",
   "pygments_lexer": "ipython3",
   "version": "3.10.6"
  }
 },
 "nbformat": 4,
 "nbformat_minor": 5
}
