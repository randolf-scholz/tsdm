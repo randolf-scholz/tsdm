{
 "cells": [
  {
   "cell_type": "code",
   "execution_count": null,
   "metadata": {
    "execution": {
     "iopub.execute_input": "2023-04-07T22:42:52.102498Z",
     "iopub.status.busy": "2023-04-07T22:42:52.102159Z",
     "iopub.status.idle": "2023-04-07T22:42:52.105836Z",
     "shell.execute_reply": "2023-04-07T22:42:52.105294Z",
     "shell.execute_reply.started": "2023-04-07T22:42:52.102474Z"
    },
    "tags": []
   },
   "outputs": [],
   "source": [
    "# import resource\n",
    "\n",
    "\n",
    "# def limit_memory(maxsize):\n",
    "#     soft, hard = resource.getrlimit(resource.RLIMIT_AS)\n",
    "#     # MEMORY LIMIT IN BYTES\n",
    "#     resource.setrlimit(resource.RLIMIT_AS, (maxsize, hard))\n",
    "\n",
    "\n",
    "# # IN GIGABYTE\n",
    "# limit_memory(30 * 1024 * 1024 * 1024)"
   ]
  },
  {
   "cell_type": "code",
   "execution_count": null,
   "metadata": {
    "execution": {
     "iopub.execute_input": "2023-04-07T22:42:52.107511Z",
     "iopub.status.busy": "2023-04-07T22:42:52.107047Z",
     "iopub.status.idle": "2023-04-07T22:42:55.430220Z",
     "shell.execute_reply": "2023-04-07T22:42:55.429732Z",
     "shell.execute_reply.started": "2023-04-07T22:42:52.107490Z"
    },
    "pycharm": {
     "name": "#%%\n"
    },
    "tags": []
   },
   "outputs": [],
   "source": [
    "%config InteractiveShell.ast_node_interactivity='last_expr_or_assign'  # always print last expr.\n",
    "%config InlineBackend.figure_format = 'svg'\n",
    "%load_ext autoreload\n",
    "%autoreload 2\n",
    "%matplotlib inline\n",
    "\n",
    "import gzip\n",
    "from pathlib import Path\n",
    "from zipfile import ZipFile\n",
    "\n",
    "import pandas as pd\n",
    "import pyarrow as pa\n",
    "from pandas import DataFrame\n",
    "from pyarrow import parquet\n",
    "from tqdm.autonotebook import tqdm\n",
    "\n",
    "from tsdm.datasets import MIMIC_IV"
   ]
  },
  {
   "cell_type": "code",
   "execution_count": null,
   "metadata": {
    "execution": {
     "iopub.execute_input": "2023-04-07T22:42:55.431016Z",
     "iopub.status.busy": "2023-04-07T22:42:55.430761Z",
     "iopub.status.idle": "2023-04-07T22:42:55.466342Z",
     "shell.execute_reply": "2023-04-07T22:42:55.465942Z",
     "shell.execute_reply.started": "2023-04-07T22:42:55.431005Z"
    },
    "tags": []
   },
   "outputs": [],
   "source": [
    "# ds = MIMIC_IV(initialize=False)\n",
    "# ds.rawdata_paths\n",
    "\n",
    "DATASET_PATH = Path(\"custom_processed\")\n",
    "RAWDATA_PATH = Path(\"mimic-iv-2.2.zip\")"
   ]
  },
  {
   "cell_type": "code",
   "execution_count": null,
   "metadata": {
    "execution": {
     "iopub.execute_input": "2023-04-07T22:42:55.466943Z",
     "iopub.status.busy": "2023-04-07T22:42:55.466831Z",
     "iopub.status.idle": "2023-04-07T22:42:55.503375Z",
     "shell.execute_reply": "2023-04-07T22:42:55.502970Z",
     "shell.execute_reply.started": "2023-04-07T22:42:55.466932Z"
    },
    "tags": []
   },
   "outputs": [],
   "source": [
    "filelist = [\n",
    "    \"mimic-iv-2.2/CHANGELOG.txt\",\n",
    "    \"mimic-iv-2.2/LICENSE.txt\",\n",
    "    \"mimic-iv-2.2/SHA256SUMS.txt\",\n",
    "    \"mimic-iv-2.2/hosp/admissions.csv.gz\",\n",
    "    \"mimic-iv-2.2/hosp/d_hcpcs.csv.gz\",\n",
    "    \"mimic-iv-2.2/hosp/d_icd_diagnoses.csv.gz\",\n",
    "    \"mimic-iv-2.2/hosp/d_icd_procedures.csv.gz\",\n",
    "    \"mimic-iv-2.2/hosp/d_labitems.csv.gz\",\n",
    "    \"mimic-iv-2.2/hosp/diagnoses_icd.csv.gz\",\n",
    "    \"mimic-iv-2.2/hosp/drgcodes.csv.gz\",\n",
    "    \"mimic-iv-2.2/hosp/emar.csv.gz\",\n",
    "    \"mimic-iv-2.2/hosp/emar_detail.csv.gz\",\n",
    "    \"mimic-iv-2.2/hosp/hcpcsevents.csv.gz\",\n",
    "    \"mimic-iv-2.2/hosp/labevents.csv.gz\",\n",
    "    \"mimic-iv-2.2/hosp/microbiologyevents.csv.gz\",\n",
    "    \"mimic-iv-2.2/hosp/omr.csv.gz\",\n",
    "    \"mimic-iv-2.2/hosp/patients.csv.gz\",\n",
    "    \"mimic-iv-2.2/hosp/pharmacy.csv.gz\",\n",
    "    \"mimic-iv-2.2/hosp/poe.csv.gz\",\n",
    "    \"mimic-iv-2.2/hosp/poe_detail.csv.gz\",\n",
    "    \"mimic-iv-2.2/hosp/prescriptions.csv.gz\",\n",
    "    \"mimic-iv-2.2/hosp/procedures_icd.csv.gz\",\n",
    "    \"mimic-iv-2.2/hosp/provider.csv.gz\",\n",
    "    \"mimic-iv-2.2/hosp/services.csv.gz\",\n",
    "    \"mimic-iv-2.2/hosp/transfers.csv.gz\",\n",
    "    \"mimic-iv-2.2/icu/caregiver.csv.gz\",\n",
    "    \"mimic-iv-2.2/icu/chartevents.csv.gz\",\n",
    "    \"mimic-iv-2.2/icu/d_items.csv.gz\",\n",
    "    \"mimic-iv-2.2/icu/datetimeevents.csv.gz\",\n",
    "    \"mimic-iv-2.2/icu/icustays.csv.gz\",\n",
    "    \"mimic-iv-2.2/icu/ingredientevents.csv.gz\",\n",
    "    \"mimic-iv-2.2/icu/inputevents.csv.gz\",\n",
    "    \"mimic-iv-2.2/icu/outputevents.csv.gz\",\n",
    "    \"mimic-iv-2.2/icu/procedureevents.csv.gz\",\n",
    "]"
   ]
  },
  {
   "cell_type": "code",
   "execution_count": null,
   "metadata": {
    "execution": {
     "iopub.execute_input": "2023-04-07T22:55:43.643403Z",
     "iopub.status.busy": "2023-04-07T22:55:43.643041Z",
     "iopub.status.idle": "2023-04-07T22:55:43.705307Z",
     "shell.execute_reply": "2023-04-07T22:55:43.704978Z",
     "shell.execute_reply.started": "2023-04-07T22:55:43.643376Z"
    },
    "tags": []
   },
   "outputs": [],
   "source": [
    "with ZipFile(RAWDATA_PATH, \"r\") as file:\n",
    "    if not file.namelist() == filelist:\n",
    "        raise ValueError(\"The dataset contains unknown files!\")\n",
    "\n",
    "\n",
    "def load_gz_table(archive, fname, **options):\n",
    "    with archive.open(str(fname), \"r\") as compressed_file:\n",
    "        with gzip.open(compressed_file, \"r\") as file:\n",
    "            # table = pd.read_csv(file)\n",
    "            # return table\n",
    "            table = pa.csv.read_csv(file, **options)\n",
    "            return table\n",
    "\n",
    "\n",
    "def load_txt(archive, fname):\n",
    "    with archive.open(str(fname), \"r\") as file:\n",
    "        return str(file.read(), encoding=\"utf8\")\n",
    "\n",
    "\n",
    "def get_table(fname, **options) -> DataFrame:\n",
    "    fname = Path(fname)\n",
    "    with ZipFile(RAWDATA_PATH, \"r\") as archive:\n",
    "        match fname.suffix:\n",
    "            case \".gz\":\n",
    "                return load_gz_table(archive, fname, **options)\n",
    "            case \".txt\":\n",
    "                return load_txt(archive, fname, **options)\n",
    "            case _:\n",
    "                raise ValueError\n",
    "\n",
    "\n",
    "def table_info(table) -> None:\n",
    "    print(len(table))\n",
    "    for name, col in tqdm(zip(table.column_names, table.columns)):\n",
    "        uniques = pa.compute.count_distinct(col).as_py()\n",
    "        nulls = pa.compute.mean(pa.compute.is_null(col)).as_py()\n",
    "        dtype = str(col.type)\n",
    "        print(f\"{name:32s}  {dtype=:12s}  {uniques=:12d}  {nulls=:.2f}\")\n",
    "\n",
    "\n",
    "with ZipFile(RAWDATA_PATH, \"r\") as file:\n",
    "    if not file.namelist() == filelist:\n",
    "        raise ValueError(\"The dataset contains unknown files!\")\n",
    "    print(dir(file))\n",
    "\n",
    "    filesizes = {info.filename: info.file_size for info in file.infolist()}\n",
    "    # print([x.filename for x in file.infolist()])\n",
    "\n",
    "pd.Series({key: filesizes[key] for key in filesizes})"
   ]
  },
  {
   "cell_type": "code",
   "execution_count": null,
   "metadata": {
    "tags": []
   },
   "outputs": [],
   "source": []
  },
  {
   "cell_type": "code",
   "execution_count": null,
   "metadata": {
    "execution": {
     "iopub.execute_input": "2023-04-07T22:59:55.699915Z",
     "iopub.status.busy": "2023-04-07T22:59:55.699524Z",
     "iopub.status.idle": "2023-04-07T22:59:55.740129Z",
     "shell.execute_reply": "2023-04-07T22:59:55.739598Z",
     "shell.execute_reply.started": "2023-04-07T22:59:55.699892Z"
    },
    "tags": []
   },
   "outputs": [],
   "source": [
    "ID_TYPE = \"uint32\"\n",
    "VALUE_TYPE = \"float32\"\n",
    "TIME_TYPE = \"timestamp[s]\"\n",
    "BOOL_TYPE = \"bool\"\n",
    "STRING_TYPE = \"string\"\n",
    "CATEGORY = pa.dictionary(\"uint32\", \"string\")\n",
    "\n",
    "\n",
    "column_types = dict(\n",
    "    chartevents={\n",
    "        \"subject_id\": ID_TYPE,\n",
    "        \"hadm_id\": ID_TYPE,\n",
    "        \"stay_id\": ID_TYPE,\n",
    "        \"caregiver_id\": ID_TYPE,\n",
    "        \"itemid\": ID_TYPE,\n",
    "        \"charttime\": \"timestamp[s]\",\n",
    "        \"storetime\": \"timestamp[s]\",\n",
    "        \"value\": \"string\",\n",
    "        \"valuenum\": \"float32\",\n",
    "        \"valueuom\": \"string\",\n",
    "        \"warning\": \"bool\",\n",
    "    },\n",
    "    inputevents={\n",
    "        \"subject_id\": ID_TYPE,\n",
    "        \"hadm_id\": ID_TYPE,\n",
    "        \"stay_id\": ID_TYPE,\n",
    "        \"caregiver_id\": ID_TYPE,\n",
    "        \"starttime\": \"timestamp[s]\",\n",
    "        \"endtime\": \"timestamp[s]\",\n",
    "        \"storetime\": \"timestamp[s]\",\n",
    "        \"itemid\": ID_TYPE,\n",
    "        \"amount\": \"float32\",\n",
    "        \"amountuom\": \"string\",\n",
    "        \"rate\": \"float32\",\n",
    "        \"rateuom\": \"string\",\n",
    "        \"orderid\": ID_TYPE,\n",
    "        \"linkorderid\": ID_TYPE,\n",
    "        \"ordercategoryname\": \"string\",\n",
    "        \"secondaryordercategoryname\": \"string\",\n",
    "        \"ordercomponenttypedescription\": \"string\",\n",
    "        \"ordercategorydescription\": \"string\",\n",
    "        \"patientweight\": \"float32\",\n",
    "        \"totalamount\": \"float32\",\n",
    "        \"totalamountuom\": \"string\",\n",
    "        \"isopenbag\": \"bool\",\n",
    "        \"continueinnextdept\": \"bool\",\n",
    "        \"statusdescription\": \"string\",\n",
    "        \"originalamount\": \"float32\",\n",
    "        \"originalrate\": \"float32\",\n",
    "    },\n",
    "    outputevents={\n",
    "        \"subject_id\": ID_TYPE,\n",
    "        \"hadm_id\": ID_TYPE,\n",
    "        \"stay_id\": ID_TYPE,\n",
    "        \"caregiver_id\": ID_TYPE,\n",
    "        \"charttime\": \"timestamp[s]\",\n",
    "        \"storetime\": \"timestamp[s]\",\n",
    "        \"itemid\": ID_TYPE,\n",
    "        \"value\": \"float32\",\n",
    "        \"valueuom\": \"string\",\n",
    "    },\n",
    "    procedureevents={\n",
    "        \"subject_id\": ID_TYPE,\n",
    "        \"hadm_id\": ID_TYPE,\n",
    "        \"stay_id\": ID_TYPE,\n",
    "        \"caregiver_id\": ID_TYPE,\n",
    "        \"starttime\": \"timestamp[s]\",\n",
    "        \"endtime\": \"timestamp[s]\",\n",
    "        \"storetime\": \"timestamp[ns]\",\n",
    "        \"itemid\": ID_TYPE,\n",
    "        \"value\": \"float32\",\n",
    "        \"valueuom\": \"string\",\n",
    "        \"location\": \"string\",\n",
    "        \"locationcategory\": \"string\",\n",
    "        \"orderid\": ID_TYPE,\n",
    "        \"linkorderid\": ID_TYPE,\n",
    "        \"ordercategoryname\": \"string\",\n",
    "        \"ordercategorydescription\": \"string\",\n",
    "        \"patientweight\": \"float32\",\n",
    "        \"isopenbag\": \"bool\",\n",
    "        \"continueinnextdept\": \"bool\",\n",
    "        \"statusdescription\": \"string\",\n",
    "        \"originalamount\": \"float32\",\n",
    "        \"originalrate\": \"bool\",\n",
    "    },\n",
    "    datetimeevents={\n",
    "        \"subject_id\": ID_TYPE,\n",
    "        \"hadm_id\": ID_TYPE,\n",
    "        \"stay_id\": ID_TYPE,\n",
    "        \"caregiver_id\": ID_TYPE,\n",
    "        \"charttime\": \"timestamp[s]\",\n",
    "        \"storetime\": \"timestamp[s]\",\n",
    "        \"itemid\": ID_TYPE,\n",
    "        \"value\": \"timestamp[s]\",\n",
    "        \"valueuom\": \"string\",\n",
    "        \"warning\": \"bool\",\n",
    "    },\n",
    "    ingredientevents={\n",
    "        \"subject_id\": ID_TYPE,\n",
    "        \"hadm_id\": ID_TYPE,\n",
    "        \"stay_id\": ID_TYPE,\n",
    "        \"caregiver_id\": ID_TYPE,\n",
    "        \"starttime\": TIME_TYPE,\n",
    "        \"endtime\": TIME_TYPE,\n",
    "        \"storetime\": TIME_TYPE,\n",
    "        \"itemid\": ID_TYPE,\n",
    "        \"amount\": VALUE_TYPE,\n",
    "        \"amountuom\": STRING_TYPE,\n",
    "        \"rate\": VALUE_TYPE,\n",
    "        \"rateuom\": STRING_TYPE,\n",
    "        \"orderid\": ID_TYPE,\n",
    "        \"linkorderid\": ID_TYPE,\n",
    "        \"statusdescription\": STRING_TYPE,\n",
    "        \"originalamount\": VALUE_TYPE,\n",
    "        \"originalrate\": VALUE_TYPE,\n",
    "    },\n",
    "    icustays={\n",
    "    \"subject_id\"           : ID_TYPE,\n",
    "    \"hadm_id\"              : ID_TYPE,\n",
    "    \"stay_id\"              : ID_TYPE,\n",
    "    \"first_careunit\"       : string,  \n",
    " category#    \"last_careunit\"        : string,  # category\n",
    "    \"intime\"               : TIME_TYPE,\n",
    "    \"outtime\"              : TIME_TYPE,\n",
    "    \"los\"                  : VALUE_TYPE,\n",
    "    }\n",
    ");"
   ]
  },
  {
   "cell_type": "code",
   "execution_count": null,
   "metadata": {},
   "outputs": [],
   "source": []
  },
  {
   "cell_type": "code",
   "execution_count": null,
   "metadata": {
    "execution": {
     "iopub.execute_input": "2023-04-07T22:59:56.224551Z",
     "iopub.status.busy": "2023-04-07T22:59:56.224276Z",
     "iopub.status.idle": "2023-04-07T22:59:56.259635Z",
     "shell.execute_reply": "2023-04-07T22:59:56.259156Z",
     "shell.execute_reply.started": "2023-04-07T22:59:56.224538Z"
    },
    "tags": []
   },
   "outputs": [],
   "source": [
    "# mimic-iv-2.2/icu/caregiver.csv.gz                   35893\n",
    "# mimic-iv-2.2/icu/d_items.csv.gz                     57476\n",
    "# mimic-iv-2.2/icu/icustays.csv.gz                  2614571"
   ]
  },
  {
   "cell_type": "markdown",
   "metadata": {},
   "source": [
    "## icustays"
   ]
  },
  {
   "cell_type": "code",
   "execution_count": null,
   "metadata": {
    "execution": {
     "iopub.execute_input": "2023-04-07T23:01:20.765391Z",
     "iopub.status.busy": "2023-04-07T23:01:20.765102Z",
     "iopub.status.idle": "2023-04-07T23:01:20.921957Z",
     "shell.execute_reply": "2023-04-07T23:01:20.921560Z",
     "shell.execute_reply.started": "2023-04-07T23:01:20.765377Z"
    },
    "tags": []
   },
   "outputs": [],
   "source": [
    "table = get_table(\n",
    "    \"mimic-iv-2.2/icu/icustays.csv.gz\",\n",
    "    convert_options=pa.csv.ConvertOptions(\n",
    "        # column_types=column_types[\"ingredientevents\"],\n",
    "        strings_can_be_null=True,\n",
    "        # null_values=null_values,\n",
    "    ),\n",
    ")\n",
    "table_info(table)\n",
    "pa.compute.unique(table[\"los\"])"
   ]
  },
  {
   "cell_type": "markdown",
   "metadata": {
    "tags": []
   },
   "source": [
    "## ingredientevents"
   ]
  },
  {
   "cell_type": "code",
   "execution_count": null,
   "metadata": {
    "execution": {
     "iopub.execute_input": "2023-04-07T22:59:56.969157Z",
     "iopub.status.busy": "2023-04-07T22:59:56.968960Z",
     "iopub.status.idle": "2023-04-07T23:00:06.189411Z",
     "shell.execute_reply": "2023-04-07T23:00:06.188893Z",
     "shell.execute_reply.started": "2023-04-07T22:59:56.969144Z"
    },
    "tags": []
   },
   "outputs": [],
   "source": [
    "table = get_table(\n",
    "    \"mimic-iv-2.2/icu/ingredientevents.csv.gz\",\n",
    "    convert_options=pa.csv.ConvertOptions(\n",
    "        column_types=column_types[\"ingredientevents\"],\n",
    "        strings_can_be_null=True,\n",
    "        # null_values=null_values,\n",
    "    ),\n",
    ")\n",
    "table_info(table)\n",
    "# pa.compute.unique(table[\"valueuom\"])"
   ]
  },
  {
   "cell_type": "markdown",
   "metadata": {},
   "source": [
    "## datetimeevents"
   ]
  },
  {
   "cell_type": "code",
   "execution_count": null,
   "metadata": {
    "execution": {
     "iopub.execute_input": "2023-04-07T22:55:48.531190Z",
     "iopub.status.busy": "2023-04-07T22:55:48.530935Z",
     "iopub.status.idle": "2023-04-07T22:55:50.816532Z",
     "shell.execute_reply": "2023-04-07T22:55:50.816094Z",
     "shell.execute_reply.started": "2023-04-07T22:55:48.531178Z"
    },
    "tags": []
   },
   "outputs": [],
   "source": [
    "table = get_table(\n",
    "    \"mimic-iv-2.2/icu/datetimeevents.csv.gz\",\n",
    "    convert_options=pa.csv.ConvertOptions(\n",
    "        column_types=column_types[\"datetimeevents\"],\n",
    "        strings_can_be_null=True,\n",
    "        # null_values=null_values,\n",
    "    ),\n",
    ")\n",
    "table_info(table)\n",
    "pa.compute.unique(table[\"valueuom\"])"
   ]
  },
  {
   "cell_type": "markdown",
   "metadata": {},
   "source": [
    "## Procedureeventes"
   ]
  },
  {
   "cell_type": "code",
   "execution_count": null,
   "metadata": {
    "execution": {
     "iopub.execute_input": "2023-04-07T22:51:48.829725Z",
     "iopub.status.busy": "2023-04-07T22:51:48.829434Z",
     "iopub.status.idle": "2023-04-07T22:51:49.705274Z",
     "shell.execute_reply": "2023-04-07T22:51:49.704830Z",
     "shell.execute_reply.started": "2023-04-07T22:51:48.829702Z"
    },
    "tags": []
   },
   "outputs": [],
   "source": [
    "table = get_table(\n",
    "    \"mimic-iv-2.2/icu/procedureevents.csv.gz\",\n",
    "    convert_options=pa.csv.ConvertOptions(\n",
    "        column_types=column_types[\"procedureevents\"],\n",
    "        strings_can_be_null=True,\n",
    "        # null_values=null_values,\n",
    "    ),\n",
    ")\n",
    "table_info(table)\n",
    "pa.compute.unique(table[\"ordercategoryname\"])"
   ]
  },
  {
   "cell_type": "markdown",
   "metadata": {
    "execution": {
     "iopub.execute_input": "2023-04-07T22:42:55.584368Z",
     "iopub.status.busy": "2023-04-07T22:42:55.584085Z",
     "iopub.status.idle": "2023-04-07T22:42:55.618118Z",
     "shell.execute_reply": "2023-04-07T22:42:55.617662Z",
     "shell.execute_reply.started": "2023-04-07T22:42:55.584357Z"
    },
    "tags": []
   },
   "source": [
    "## Inputevents"
   ]
  },
  {
   "cell_type": "code",
   "execution_count": null,
   "metadata": {
    "execution": {
     "iopub.execute_input": "2023-04-07T22:46:09.518097Z",
     "iopub.status.busy": "2023-04-07T22:46:09.517401Z",
     "iopub.status.idle": "2023-04-07T22:46:21.358704Z",
     "shell.execute_reply": "2023-04-07T22:46:21.358119Z",
     "shell.execute_reply.started": "2023-04-07T22:46:09.518083Z"
    },
    "tags": []
   },
   "outputs": [],
   "source": [
    "table = get_table(\n",
    "    \"mimic-iv-2.2/icu/inputevents.csv.gz\",\n",
    "    convert_options=pa.csv.ConvertOptions(\n",
    "        column_types=column_types[\"inputevents\"],\n",
    "        strings_can_be_null=True,\n",
    "        # null_values=null_values,\n",
    "    ),\n",
    ")\n",
    "table_info(table)"
   ]
  },
  {
   "cell_type": "markdown",
   "metadata": {},
   "source": [
    "## Outputevents"
   ]
  },
  {
   "cell_type": "code",
   "execution_count": null,
   "metadata": {
    "execution": {
     "iopub.execute_input": "2023-04-07T22:45:41.232009Z",
     "iopub.status.busy": "2023-04-07T22:45:41.231778Z",
     "iopub.status.idle": "2023-04-07T22:45:42.943739Z",
     "shell.execute_reply": "2023-04-07T22:45:42.943203Z",
     "shell.execute_reply.started": "2023-04-07T22:45:41.231993Z"
    },
    "tags": []
   },
   "outputs": [],
   "source": [
    "table = get_table(\n",
    "    \"mimic-iv-2.2/icu/outputevents.csv.gz\",\n",
    "    convert_options=pa.csv.ConvertOptions(\n",
    "        column_types=column_types[\"outputevents\"],\n",
    "        strings_can_be_null=True,\n",
    "        # null_values=null_values,\n",
    "    ),\n",
    ")\n",
    "table_info(table)"
   ]
  },
  {
   "cell_type": "code",
   "execution_count": null,
   "metadata": {},
   "outputs": [],
   "source": []
  },
  {
   "cell_type": "code",
   "execution_count": null,
   "metadata": {},
   "outputs": [],
   "source": []
  },
  {
   "cell_type": "code",
   "execution_count": null,
   "metadata": {},
   "outputs": [],
   "source": []
  },
  {
   "cell_type": "code",
   "execution_count": null,
   "metadata": {},
   "outputs": [],
   "source": []
  },
  {
   "cell_type": "code",
   "execution_count": null,
   "metadata": {
    "execution": {
     "iopub.execute_input": "2023-04-07T22:43:07.650057Z",
     "iopub.status.busy": "2023-04-07T22:43:07.649834Z",
     "iopub.status.idle": "2023-04-07T22:43:08.042683Z",
     "shell.execute_reply": "2023-04-07T22:43:08.041852Z",
     "shell.execute_reply.started": "2023-04-07T22:43:07.650044Z"
    },
    "tags": []
   },
   "outputs": [],
   "source": [
    "raise"
   ]
  },
  {
   "cell_type": "markdown",
   "metadata": {},
   "source": [
    "# Encode Chartevents"
   ]
  },
  {
   "cell_type": "code",
   "execution_count": null,
   "metadata": {
    "execution": {
     "iopub.status.busy": "2023-04-07T22:43:08.043143Z",
     "iopub.status.idle": "2023-04-07T22:43:08.043298Z",
     "shell.execute_reply": "2023-04-07T22:43:08.043225Z",
     "shell.execute_reply.started": "2023-04-07T22:43:08.043218Z"
    },
    "tags": []
   },
   "outputs": [],
   "source": [
    "table = get_table(\n",
    "    \"mimic-iv-2.2/icu/chartevents.csv.gz\",\n",
    "    convert_options=pa.csv.ConvertOptions(\n",
    "        column_types=column_types[\"chartevents\"],\n",
    "        strings_can_be_null=True,\n",
    "        # null_values=null_values,\n",
    "    ),\n",
    ")\n",
    "\n",
    "for name, col in tqdm(zip(table.column_names, table.columns)):\n",
    "    uniques = pa.compute.count_distinct(col)\n",
    "    nulls = pa.compute.mean(pa.compute.is_null(col))\n",
    "    print(f\"{name}, {uniques=}  {nulls=}\")"
   ]
  },
  {
   "cell_type": "code",
   "execution_count": null,
   "metadata": {
    "execution": {
     "iopub.status.busy": "2023-04-07T22:43:08.043977Z",
     "iopub.status.idle": "2023-04-07T22:43:08.044133Z",
     "shell.execute_reply": "2023-04-07T22:43:08.044057Z",
     "shell.execute_reply.started": "2023-04-07T22:43:08.044050Z"
    },
    "tags": []
   },
   "outputs": [],
   "source": [
    "# drop everything that has null value or null valueuom\n",
    "val_null = pa.compute.is_null(table[\"value\"])\n",
    "uom_null = pa.compute.is_null(table[\"valueuom\"])\n",
    "mask = pa.compute.invert(pa.compute.or_(val_null, uom_null))\n",
    "table = pa.compute.filter(table, mask)\n",
    "table.schema"
   ]
  },
  {
   "cell_type": "markdown",
   "metadata": {},
   "source": [
    "# cast valueuom to dict and value to float"
   ]
  },
  {
   "cell_type": "code",
   "execution_count": null,
   "metadata": {
    "execution": {
     "iopub.status.busy": "2023-04-07T22:43:08.044595Z",
     "iopub.status.idle": "2023-04-07T22:43:08.044751Z",
     "shell.execute_reply": "2023-04-07T22:43:08.044674Z",
     "shell.execute_reply.started": "2023-04-07T22:43:08.044667Z"
    },
    "tags": []
   },
   "outputs": [],
   "source": [
    "table = table.set_column(\n",
    "    table.column_names.index(\"value\"),\n",
    "    \"value\",\n",
    "    pa.compute.cast(table.column(\"value\"), pa.float32()),\n",
    ")\n",
    "table = table.set_column(\n",
    "    table.column_names.index(\"valueuom\"),\n",
    "    \"valueuom\",\n",
    "    pa.compute.dictionary_encode(table[\"valueuom\"]),\n",
    ")\n",
    "table.schema"
   ]
  },
  {
   "cell_type": "code",
   "execution_count": null,
   "metadata": {
    "execution": {
     "iopub.status.busy": "2023-04-07T22:43:08.045180Z",
     "iopub.status.idle": "2023-04-07T22:43:08.045330Z",
     "shell.execute_reply": "2023-04-07T22:43:08.045263Z",
     "shell.execute_reply.started": "2023-04-07T22:43:08.045256Z"
    },
    "tags": []
   },
   "outputs": [],
   "source": [
    "parquet.write_table(table, DATASET_PATH / \"chartevents.parquet\")"
   ]
  },
  {
   "cell_type": "markdown",
   "metadata": {},
   "source": [
    "# with polars"
   ]
  },
  {
   "cell_type": "code",
   "execution_count": null,
   "metadata": {
    "execution": {
     "iopub.status.busy": "2023-04-07T22:43:08.045692Z",
     "iopub.status.idle": "2023-04-07T22:43:08.045825Z",
     "shell.execute_reply": "2023-04-07T22:43:08.045763Z",
     "shell.execute_reply.started": "2023-04-07T22:43:08.045757Z"
    },
    "tags": []
   },
   "outputs": [],
   "source": [
    "import polars as pl\n",
    "\n",
    "with ZipFile(ds.rawdata_paths, \"r\") as file:\n",
    "    if not file.namelist() == filelist:\n",
    "        raise ValueError(\"The dataset contains unknown files!\")\n",
    "\n",
    "\n",
    "def load_gz_table(archive, fname, **options):\n",
    "    with archive.open(str(fname), \"r\") as compressed_file:\n",
    "        with gzip.open(compressed_file, \"r\") as file:\n",
    "            # table = pd.read_csv(file)\n",
    "            # return table\n",
    "            return pl.read_csv(file, **options)\n",
    "            # table = pyarrow.csv.read_csv(file, **options)\n",
    "            # return table\n",
    "\n",
    "\n",
    "def load_txt(archive, fname):\n",
    "    with archive.open(str(fname), \"r\") as file:\n",
    "        return str(file.read(), encoding=\"utf8\")\n",
    "\n",
    "\n",
    "def get_table(fname, **options) -> DataFrame:\n",
    "    fname = Path(fname)\n",
    "    with ZipFile(ds.rawdata_paths, \"r\") as archive:\n",
    "        match fname.suffix:\n",
    "            case \".gz\":\n",
    "                return load_gz_table(archive, fname, **options)\n",
    "            case \".txt\":\n",
    "                return load_txt(archive, fname, **options)\n",
    "            case _:\n",
    "                raise ValueError"
   ]
  },
  {
   "cell_type": "code",
   "execution_count": null,
   "metadata": {
    "execution": {
     "iopub.status.busy": "2023-04-07T22:43:08.046375Z",
     "iopub.status.idle": "2023-04-07T22:43:08.046529Z",
     "shell.execute_reply": "2023-04-07T22:43:08.046464Z",
     "shell.execute_reply.started": "2023-04-07T22:43:08.046457Z"
    },
    "tags": []
   },
   "outputs": [],
   "source": [
    "dtypes = {\n",
    "    \"subject_id\": pl.datatypes.UInt32(),\n",
    "    \"hadm_id\": pl.datatypes.UInt32(),\n",
    "    \"stay_id\": pl.datatypes.UInt32(),\n",
    "    \"itemid\": pl.datatypes.UInt32(),\n",
    "    \"charttime\": pl.datatypes.Datetime(),\n",
    "    \"storetime\": pl.datatypes.Datetime(),\n",
    "    \"value\": pl.datatypes.Utf8(),\n",
    "    \"valuenum\": pl.datatypes.Float32(),\n",
    "    \"valueuom\": pl.datatypes.Utf8(),\n",
    "    \"warning\": pl.datatypes.Boolean(),\n",
    "}\n",
    "\n",
    "\n",
    "table = get_table(\"mimic-iv-1.0/icu/chartevents.csv.gz\", dtypes=dtypes)"
   ]
  },
  {
   "cell_type": "code",
   "execution_count": null,
   "metadata": {},
   "outputs": [],
   "source": []
  }
 ],
 "metadata": {
  "kernelspec": {
   "display_name": "Python 3 (ipykernel)",
   "language": "python",
   "name": "python3"
  },
  "language_info": {
   "codemirror_mode": {
    "name": "ipython",
    "version": 3
   },
   "file_extension": ".py",
   "mimetype": "text/x-python",
   "name": "python",
   "nbconvert_exporter": "python",
   "pygments_lexer": "ipython3",
   "version": "3.10.6"
  }
 },
 "nbformat": 4,
 "nbformat_minor": 4
}
