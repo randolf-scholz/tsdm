{
 "cells": [
  {
   "cell_type": "code",
   "execution_count": null,
   "metadata": {
    "execution": {
     "iopub.execute_input": "2023-04-18T18:17:14.140085Z",
     "iopub.status.busy": "2023-04-18T18:17:14.139976Z",
     "iopub.status.idle": "2023-04-18T18:17:14.142848Z",
     "shell.execute_reply": "2023-04-18T18:17:14.142235Z",
     "shell.execute_reply.started": "2023-04-18T18:17:14.140073Z"
    },
    "tags": []
   },
   "outputs": [],
   "source": [
    "# import resource\n",
    "\n",
    "\n",
    "# def limit_memory(maxsize):\n",
    "#     soft, hard = resource.getrlimit(resource.RLIMIT_AS)\n",
    "#     # MEMORY LIMIT IN BYTES\n",
    "#     resource.setrlimit(resource.RLIMIT_AS, (maxsize, hard))\n",
    "\n",
    "\n",
    "# # IN GIGABYTE\n",
    "# limit_memory(30 * 1024 * 1024 * 1024)"
   ]
  },
  {
   "cell_type": "code",
   "execution_count": null,
   "metadata": {
    "execution": {
     "iopub.execute_input": "2023-04-18T18:17:14.144184Z",
     "iopub.status.busy": "2023-04-18T18:17:14.143713Z",
     "iopub.status.idle": "2023-04-18T18:17:20.214918Z",
     "shell.execute_reply": "2023-04-18T18:17:20.214340Z",
     "shell.execute_reply.started": "2023-04-18T18:17:14.144171Z"
    },
    "pycharm": {
     "name": "#%%\n"
    },
    "tags": []
   },
   "outputs": [],
   "source": [
    "%config InteractiveShell.ast_node_interactivity='last_expr_or_assign'  # always print last expr.\n",
    "%config InlineBackend.figure_format = 'svg'\n",
    "%load_ext autoreload\n",
    "%autoreload 2\n",
    "%matplotlib inline\n",
    "\n",
    "import gzip\n",
    "from functools import reduce\n",
    "from pathlib import Path\n",
    "from zipfile import ZipFile\n",
    "\n",
    "import polars as pl\n",
    "import pandas as pd\n",
    "import pyarrow as pa\n",
    "from pandas import DataFrame\n",
    "from pyarrow import parquet\n",
    "from tqdm.autonotebook import tqdm\n",
    "\n",
    "from tsdm.datasets import MIMIC_IV"
   ]
  },
  {
   "cell_type": "code",
   "execution_count": null,
   "metadata": {
    "execution": {
     "iopub.execute_input": "2023-04-18T18:17:20.216129Z",
     "iopub.status.busy": "2023-04-18T18:17:20.215695Z",
     "iopub.status.idle": "2023-04-18T18:17:20.258961Z",
     "shell.execute_reply": "2023-04-18T18:17:20.258459Z",
     "shell.execute_reply.started": "2023-04-18T18:17:20.216113Z"
    },
    "tags": []
   },
   "outputs": [],
   "source": [
    "# ds = MIMIC_IV(initialize=False)\n",
    "# ds.rawdata_paths\n",
    "\n",
    "DATASET_PATH = Path(\"custom_processed\")\n",
    "RAWDATA_PATH = Path(\"mimic-iv-2.2.zip\")"
   ]
  },
  {
   "cell_type": "code",
   "execution_count": null,
   "metadata": {
    "execution": {
     "iopub.execute_input": "2023-04-18T18:17:20.261376Z",
     "iopub.status.busy": "2023-04-18T18:17:20.261256Z",
     "iopub.status.idle": "2023-04-18T18:17:20.304164Z",
     "shell.execute_reply": "2023-04-18T18:17:20.303696Z",
     "shell.execute_reply.started": "2023-04-18T18:17:20.261362Z"
    },
    "tags": []
   },
   "outputs": [],
   "source": [
    "filelist = [\n",
    "    \"mimic-iv-2.2/CHANGELOG.txt\",\n",
    "    \"mimic-iv-2.2/LICENSE.txt\",\n",
    "    \"mimic-iv-2.2/SHA256SUMS.txt\",\n",
    "    \"mimic-iv-2.2/hosp/admissions.csv.gz\",\n",
    "    \"mimic-iv-2.2/hosp/d_hcpcs.csv.gz\",\n",
    "    \"mimic-iv-2.2/hosp/d_icd_diagnoses.csv.gz\",\n",
    "    \"mimic-iv-2.2/hosp/d_icd_procedures.csv.gz\",\n",
    "    \"mimic-iv-2.2/hosp/d_labitems.csv.gz\",\n",
    "    \"mimic-iv-2.2/hosp/diagnoses_icd.csv.gz\",\n",
    "    \"mimic-iv-2.2/hosp/drgcodes.csv.gz\",\n",
    "    \"mimic-iv-2.2/hosp/emar.csv.gz\",\n",
    "    \"mimic-iv-2.2/hosp/emar_detail.csv.gz\",\n",
    "    \"mimic-iv-2.2/hosp/hcpcsevents.csv.gz\",\n",
    "    \"mimic-iv-2.2/hosp/labevents.csv.gz\",\n",
    "    \"mimic-iv-2.2/hosp/microbiologyevents.csv.gz\",\n",
    "    \"mimic-iv-2.2/hosp/omr.csv.gz\",\n",
    "    \"mimic-iv-2.2/hosp/patients.csv.gz\",\n",
    "    \"mimic-iv-2.2/hosp/pharmacy.csv.gz\",\n",
    "    \"mimic-iv-2.2/hosp/poe.csv.gz\",\n",
    "    \"mimic-iv-2.2/hosp/poe_detail.csv.gz\",\n",
    "    \"mimic-iv-2.2/hosp/prescriptions.csv.gz\",\n",
    "    \"mimic-iv-2.2/hosp/procedures_icd.csv.gz\",\n",
    "    \"mimic-iv-2.2/hosp/provider.csv.gz\",\n",
    "    \"mimic-iv-2.2/hosp/services.csv.gz\",\n",
    "    \"mimic-iv-2.2/hosp/transfers.csv.gz\",\n",
    "    \"mimic-iv-2.2/icu/caregiver.csv.gz\",\n",
    "    \"mimic-iv-2.2/icu/chartevents.csv.gz\",\n",
    "    \"mimic-iv-2.2/icu/d_items.csv.gz\",\n",
    "    \"mimic-iv-2.2/icu/datetimeevents.csv.gz\",\n",
    "    \"mimic-iv-2.2/icu/icustays.csv.gz\",\n",
    "    \"mimic-iv-2.2/icu/ingredientevents.csv.gz\",\n",
    "    \"mimic-iv-2.2/icu/inputevents.csv.gz\",\n",
    "    \"mimic-iv-2.2/icu/outputevents.csv.gz\",\n",
    "    \"mimic-iv-2.2/icu/procedureevents.csv.gz\",\n",
    "]"
   ]
  },
  {
   "cell_type": "code",
   "execution_count": null,
   "metadata": {
    "execution": {
     "iopub.execute_input": "2023-04-18T18:17:20.305298Z",
     "iopub.status.busy": "2023-04-18T18:17:20.305126Z",
     "iopub.status.idle": "2023-04-18T18:17:20.356932Z",
     "shell.execute_reply": "2023-04-18T18:17:20.356614Z",
     "shell.execute_reply.started": "2023-04-18T18:17:20.305283Z"
    },
    "tags": []
   },
   "outputs": [],
   "source": [
    "with ZipFile(RAWDATA_PATH, \"r\") as file:\n",
    "    a = set(file.namelist())\n",
    "    b = set(filelist)\n",
    "    if not a == b:\n",
    "        raise ValueError(f\"The dataset contains unknown files {a-b}!\")\n",
    "\n",
    "\n",
    "def load_gz_table(archive, fname, **options):\n",
    "    with archive.open(str(fname), \"r\") as compressed_file:\n",
    "        with gzip.open(compressed_file, \"r\") as file:\n",
    "            # table = pd.read_csv(file)\n",
    "            # return table\n",
    "            table = pa.csv.read_csv(file, **options)\n",
    "            return table\n",
    "\n",
    "\n",
    "def load_txt(archive, fname):\n",
    "    with archive.open(str(fname), \"r\") as file:\n",
    "        return str(file.read(), encoding=\"utf8\")\n",
    "\n",
    "\n",
    "def compute_entropy(value_counts) -> float:\n",
    "    counts = pa.compute.struct_field(value_counts, 1)\n",
    "    n = len(counts)\n",
    "    freqs = pa.compute.divide(\n",
    "        pa.compute.cast(counts, pa.float64()),\n",
    "        pa.compute.sum(counts),\n",
    "    )\n",
    "\n",
    "    H = pa.compute.divide(\n",
    "        pa.compute.sum(pa.compute.multiply(freqs, pa.compute.log2(freqs))),\n",
    "        pa.compute.log2(n),\n",
    "    )\n",
    "    return -H.as_py()\n",
    "\n",
    "\n",
    "def get_table(fname, **options) -> DataFrame:\n",
    "    fname = Path(fname)\n",
    "    with ZipFile(RAWDATA_PATH, \"r\") as archive:\n",
    "        match fname.suffix:\n",
    "            case \".gz\":\n",
    "                return load_gz_table(archive, fname, **options)\n",
    "            case \".txt\":\n",
    "                return load_txt(archive, fname, **options)\n",
    "            case _:\n",
    "                raise ValueError\n",
    "\n",
    "\n",
    "def table_info(table) -> None:\n",
    "    size = table.nbytes / (1024 * 1024 * 1024)\n",
    "    print(f\"shape={table.shape}  {size=:.3f} GiB\")\n",
    "    max_key = max(map(len, table.column_names))\n",
    "    for name, col in tqdm(zip(table.column_names, table.columns)):\n",
    "        num_total = len(col)\n",
    "        num_null = pa.compute.sum(pa.compute.is_null(col)).as_py()\n",
    "        value_counts = col.value_counts()\n",
    "        num_uniques = len(value_counts) - bool(num_null)\n",
    "        nulls = f\"{num_null / num_total:7.2%}\" if num_null else f\"{'None':7s}\"\n",
    "        uniques = (\n",
    "            num_uniques / (num_total - num_null)\n",
    "            if num_total > num_null\n",
    "            else num_uniques / num_total\n",
    "        )\n",
    "        entropy = compute_entropy(value_counts)\n",
    "        dtype = str(col.type)[:10]\n",
    "        print(\n",
    "            f\"{name:{max_key}s}  {nulls=:s}  {num_uniques=:9d} ({uniques:7.2%})  {entropy=:7.2%}  {dtype=:s}\"\n",
    "        )\n",
    "\n",
    "\n",
    "def filter_nulls(table: pa.Table, cols: list[str], aggregation=\"or\") -> pa.Table:\n",
    "    def or_(variables):\n",
    "        n = len(variables)\n",
    "        if n == 0:\n",
    "            return False\n",
    "        if n == 1:\n",
    "            return variables[0]\n",
    "        return pa.compute.or_(\n",
    "            or_(variables[: n // 2]),\n",
    "            or_(variables[n // 2 :]),\n",
    "        )\n",
    "\n",
    "    def and_(variables):\n",
    "        n = len(variables)\n",
    "        if n == 0:\n",
    "            return True\n",
    "        if n == 1:\n",
    "            return variables[0]\n",
    "        return pa.compute.and_(\n",
    "            or_(variables[: n // 2]),\n",
    "            or_(variables[n // 2 :]),\n",
    "        )\n",
    "\n",
    "    masks = [table[col].is_null() for col in cols]\n",
    "    mask = pa.compute.invert(or_(masks))\n",
    "    return table.filter(mask)\n",
    "\n",
    "\n",
    "with ZipFile(RAWDATA_PATH, \"r\") as file:\n",
    "    if not file.namelist() == filelist:\n",
    "        raise ValueError(\"The dataset contains unknown files!\")\n",
    "    print(dir(file))\n",
    "\n",
    "    filesizes = {info.filename: info.file_size for info in file.infolist()}\n",
    "    # print([x.filename for x in file.infolist()])\n",
    "\n",
    "pd.Series({key: filesizes[key] for key in filesizes})"
   ]
  },
  {
   "cell_type": "code",
   "execution_count": null,
   "metadata": {
    "execution": {
     "iopub.execute_input": "2023-04-18T18:17:20.357510Z",
     "iopub.status.busy": "2023-04-18T18:17:20.357391Z",
     "iopub.status.idle": "2023-04-18T18:17:20.405635Z",
     "shell.execute_reply": "2023-04-18T18:17:20.405161Z",
     "shell.execute_reply.started": "2023-04-18T18:17:20.357499Z"
    },
    "tags": []
   },
   "outputs": [],
   "source": [
    "ID_TYPE = \"uint32\"\n",
    "VALUE_TYPE = \"float32\"\n",
    "TIME_TYPE = \"timestamp[s]\"\n",
    "DATE_TYPE = \"date32[day]\"\n",
    "BOOL_TYPE = \"bool\"\n",
    "STRING_TYPE = \"string\"\n",
    "DICT_TYPE = pa.dictionary(\"int32\", \"string\")\n",
    "\n",
    "\n",
    "NULL_VALUES = [\n",
    "    \"\",\n",
    "    \" \",\n",
    "    \"  \",\n",
    "    \"   \",\n",
    "    \"    \",\n",
    "    \"     \",\n",
    "    \"      \",\n",
    "    \"       \",\n",
    "    \"        \",\n",
    "    \"-\",\n",
    "    \"---\",\n",
    "    \"----\",\n",
    "    \"-----\",\n",
    "    \"-------\",\n",
    "    \"?\",\n",
    "    \"UNABLE TO OBTAIN\",\n",
    "    \"UNKNOWN\",\n",
    "    \"Unknown\",\n",
    "    \"unknown\",\n",
    "    \".\",\n",
    "    \".*.\",\n",
    "    \"___.\",\n",
    "    \"_\",\n",
    "    \"__\",\n",
    "    \"___\",\n",
    "]\n",
    "TRUE_VALUES = [\"Y\", \"Yes\", \"1\"]\n",
    "FALSE_VALUES = [\"N\", \"No\", \"0\"]\n",
    "\n",
    "\n",
    "column_types = dict(\n",
    "    chartevents={\n",
    "        \"subject_id\": ID_TYPE,\n",
    "        \"hadm_id\": ID_TYPE,\n",
    "        \"stay_id\": ID_TYPE,\n",
    "        \"caregiver_id\": ID_TYPE,\n",
    "        \"itemid\": ID_TYPE,\n",
    "        \"charttime\": TIME_TYPE,\n",
    "        \"storetime\": TIME_TYPE,\n",
    "        \"value\": STRING_TYPE,  # string → float\n",
    "        \"valuenum\": VALUE_TYPE,\n",
    "        \"valueuom\": DICT_TYPE,\n",
    "        \"warning\": BOOL_TYPE,\n",
    "    },\n",
    "    inputevents={\n",
    "        \"subject_id\": ID_TYPE,\n",
    "        \"hadm_id\": ID_TYPE,\n",
    "        \"stay_id\": ID_TYPE,\n",
    "        \"caregiver_id\": ID_TYPE,\n",
    "        \"starttime\": TIME_TYPE,\n",
    "        \"endtime\": TIME_TYPE,\n",
    "        \"storetime\": TIME_TYPE,\n",
    "        \"itemid\": ID_TYPE,\n",
    "        \"amount\": VALUE_TYPE,\n",
    "        \"amountuom\": DICT_TYPE,\n",
    "        \"rate\": VALUE_TYPE,\n",
    "        \"rateuom\": DICT_TYPE,\n",
    "        \"orderid\": ID_TYPE,\n",
    "        \"linkorderid\": ID_TYPE,\n",
    "        \"ordercategoryname\": DICT_TYPE,\n",
    "        \"secondaryordercategoryname\": DICT_TYPE,\n",
    "        \"ordercomponenttypedescription\": DICT_TYPE,\n",
    "        \"ordercategorydescription\": DICT_TYPE,\n",
    "        \"patientweight\": VALUE_TYPE,\n",
    "        \"totalamount\": VALUE_TYPE,\n",
    "        \"totalamountuom\": DICT_TYPE,\n",
    "        \"isopenbag\": BOOL_TYPE,\n",
    "        \"continueinnextdept\": BOOL_TYPE,\n",
    "        \"statusdescription\": DICT_TYPE,\n",
    "        \"originalamount\": VALUE_TYPE,\n",
    "        \"originalrate\": VALUE_TYPE,\n",
    "    },\n",
    "    outputevents={\n",
    "        \"subject_id\": ID_TYPE,\n",
    "        \"hadm_id\": ID_TYPE,\n",
    "        \"stay_id\": ID_TYPE,\n",
    "        \"caregiver_id\": ID_TYPE,\n",
    "        \"charttime\": TIME_TYPE,\n",
    "        \"storetime\": TIME_TYPE,\n",
    "        \"itemid\": ID_TYPE,\n",
    "        \"value\": VALUE_TYPE,\n",
    "        \"valueuom\": DICT_TYPE,\n",
    "    },\n",
    "    procedureevents={\n",
    "        \"subject_id\": ID_TYPE,\n",
    "        \"hadm_id\": ID_TYPE,\n",
    "        \"stay_id\": ID_TYPE,\n",
    "        \"caregiver_id\": ID_TYPE,\n",
    "        \"starttime\": TIME_TYPE,\n",
    "        \"endtime\": TIME_TYPE,\n",
    "        # \"storetime\": TIME_TYPE,\n",
    "        \"itemid\": ID_TYPE,\n",
    "        \"value\": VALUE_TYPE,\n",
    "        \"valueuom\": DICT_TYPE,\n",
    "        \"location\": DICT_TYPE,\n",
    "        \"locationcategory\": DICT_TYPE,\n",
    "        \"orderid\": ID_TYPE,\n",
    "        \"linkorderid\": ID_TYPE,\n",
    "        \"ordercategoryname\": DICT_TYPE,\n",
    "        \"ordercategorydescription\": DICT_TYPE,\n",
    "        \"patientweight\": VALUE_TYPE,\n",
    "        \"isopenbag\": BOOL_TYPE,\n",
    "        \"continueinnextdept\": BOOL_TYPE,\n",
    "        \"statusdescription\": DICT_TYPE,\n",
    "        \"originalamount\": VALUE_TYPE,\n",
    "        \"originalrate\": BOOL_TYPE,\n",
    "    },\n",
    "    datetimeevents={\n",
    "        \"subject_id\": ID_TYPE,\n",
    "        \"hadm_id\": ID_TYPE,\n",
    "        \"stay_id\": ID_TYPE,\n",
    "        \"caregiver_id\": ID_TYPE,\n",
    "        \"charttime\": TIME_TYPE,\n",
    "        \"storetime\": TIME_TYPE,\n",
    "        \"itemid\": ID_TYPE,\n",
    "        \"value\": TIME_TYPE,\n",
    "        \"valueuom\": DICT_TYPE,\n",
    "        \"warning\": BOOL_TYPE,\n",
    "    },\n",
    "    ingredientevents={\n",
    "        \"subject_id\": ID_TYPE,\n",
    "        \"hadm_id\": ID_TYPE,\n",
    "        \"stay_id\": ID_TYPE,\n",
    "        \"caregiver_id\": ID_TYPE,\n",
    "        \"starttime\": TIME_TYPE,\n",
    "        \"endtime\": TIME_TYPE,\n",
    "        \"storetime\": TIME_TYPE,\n",
    "        \"itemid\": ID_TYPE,\n",
    "        \"amount\": VALUE_TYPE,\n",
    "        \"amountuom\": DICT_TYPE,\n",
    "        \"rate\": VALUE_TYPE,\n",
    "        \"rateuom\": DICT_TYPE,\n",
    "        \"orderid\": ID_TYPE,\n",
    "        \"linkorderid\": ID_TYPE,\n",
    "        \"statusdescription\": DICT_TYPE,\n",
    "        \"originalamount\": VALUE_TYPE,\n",
    "        \"originalrate\": VALUE_TYPE,\n",
    "    },\n",
    "    icustays={\n",
    "        \"subject_id\": ID_TYPE,\n",
    "        \"hadm_id\": ID_TYPE,\n",
    "        \"stay_id\": ID_TYPE,\n",
    "        \"first_careunit\": DICT_TYPE,\n",
    "        \"last_careunit\": DICT_TYPE,\n",
    "        \"intime\": TIME_TYPE,\n",
    "        \"outtime\": TIME_TYPE,\n",
    "        \"los\": VALUE_TYPE,\n",
    "    },\n",
    "    d_items={\n",
    "        \"itemid\": ID_TYPE,\n",
    "        \"label\": STRING_TYPE,\n",
    "        \"abbreviation\": STRING_TYPE,\n",
    "        \"linksto\": DICT_TYPE,\n",
    "        \"category\": DICT_TYPE,\n",
    "        \"unitname\": DICT_TYPE,\n",
    "        \"param_type\": DICT_TYPE,\n",
    "        \"lownormalvalue\": VALUE_TYPE,\n",
    "        \"highnormalvalue\": VALUE_TYPE,\n",
    "    },\n",
    "    caregiver={\n",
    "        \"caregiver_id\": ID_TYPE,\n",
    "    },\n",
    ");"
   ]
  },
  {
   "cell_type": "code",
   "execution_count": null,
   "metadata": {
    "execution": {
     "iopub.execute_input": "2023-04-18T15:08:11.826797Z",
     "iopub.status.busy": "2023-04-18T15:08:11.826600Z",
     "iopub.status.idle": "2023-04-18T15:08:11.878600Z",
     "shell.execute_reply": "2023-04-18T15:08:11.878040Z",
     "shell.execute_reply.started": "2023-04-18T15:08:11.826780Z"
    },
    "tags": []
   },
   "outputs": [],
   "source": [
    "column_types = dict(\n",
    "    transfers={\n",
    "        \"subject_id\": ID_TYPE,\n",
    "        \"hadm_id\": ID_TYPE,\n",
    "        \"transfer_id\": ID_TYPE,\n",
    "        \"eventtype\": DICT_TYPE,\n",
    "        \"careunit\": DICT_TYPE,\n",
    "        \"intime\": TIME_TYPE,\n",
    "        \"outtime\": TIME_TYPE,\n",
    "    },\n",
    "    admissions={\n",
    "        \"subject_id\": ID_TYPE,\n",
    "        \"hadm_id\": ID_TYPE,\n",
    "        \"admittime\": TIME_TYPE,\n",
    "        \"dischtime\": TIME_TYPE,\n",
    "        \"deathtime\": TIME_TYPE,\n",
    "        \"admission_type\": DICT_TYPE,\n",
    "        \"admit_provider_id\": DICT_TYPE,\n",
    "        \"admission_location\": DICT_TYPE,\n",
    "        \"discharge_location\": DICT_TYPE,\n",
    "        \"insurance\": DICT_TYPE,\n",
    "        \"language\": DICT_TYPE,\n",
    "        \"marital_status\": DICT_TYPE,\n",
    "        \"race\": DICT_TYPE,\n",
    "        \"edregtime\": TIME_TYPE,\n",
    "        \"edouttime\": TIME_TYPE,\n",
    "        \"hospital_expire_flag\": BOOL_TYPE,\n",
    "    },\n",
    "    services={\n",
    "        \"subject_id\": ID_TYPE,\n",
    "        \"hadm_id\": ID_TYPE,\n",
    "        \"transfertime\": TIME_TYPE,\n",
    "        \"prev_service\": DICT_TYPE,\n",
    "        \"curr_service\": DICT_TYPE,\n",
    "    },\n",
    "    provider={\n",
    "        \"provider_id\": STRING_TYPE,\n",
    "    },\n",
    "    procedures_icd={\n",
    "        \"subject_id\": ID_TYPE,\n",
    "        \"hadm_id\": ID_TYPE,\n",
    "        \"seq_num\": ID_TYPE,\n",
    "        \"chartdate\": DATE_TYPE,\n",
    "        \"icd_code\": DICT_TYPE,\n",
    "        \"icd_version\": ID_TYPE,\n",
    "    },\n",
    "    prescriptions={\n",
    "        \"subject_id\": ID_TYPE,\n",
    "        \"hadm_id\": ID_TYPE,\n",
    "        \"pharmacy_id\": ID_TYPE,\n",
    "        \"poe_id\": STRING_TYPE,\n",
    "        \"poe_seq\": ID_TYPE,\n",
    "        \"order_provider_id\": DICT_TYPE,\n",
    "        \"starttime\": TIME_TYPE,\n",
    "        \"stoptime\": TIME_TYPE,\n",
    "        \"drug_type\": DICT_TYPE,\n",
    "        \"drug\": DICT_TYPE,\n",
    "        \"formulary_drug_cd\": DICT_TYPE,\n",
    "        \"gsn\": DICT_TYPE,\n",
    "        \"ndc\": DICT_TYPE,\n",
    "        \"prod_strength\": DICT_TYPE,\n",
    "        \"form_rx\": DICT_TYPE,\n",
    "        \"dose_val_rx\": STRING_TYPE,  # string → float\n",
    "        \"dose_unit_rx\": DICT_TYPE,\n",
    "        \"form_val_disp\": STRING_TYPE,  # string → float\n",
    "        \"form_unit_disp\": DICT_TYPE,\n",
    "        \"doses_per_24_hrs\": VALUE_TYPE,\n",
    "        \"route\": DICT_TYPE,\n",
    "    },\n",
    "    poe_detail={\n",
    "        \"poe_id\": STRING_TYPE,\n",
    "        \"poe_seq\": ID_TYPE,\n",
    "        \"subject_id\": ID_TYPE,\n",
    "        \"field_name\": DICT_TYPE,\n",
    "        \"field_value\": STRING_TYPE,  # unstack column\n",
    "    },\n",
    "    poe={\n",
    "        \"poe_id\": STRING_TYPE,\n",
    "        \"poe_seq\": ID_TYPE,\n",
    "        \"subject_id\": ID_TYPE,\n",
    "        \"hadm_id\": ID_TYPE,\n",
    "        \"ordertime\": TIME_TYPE,\n",
    "        \"order_type\": DICT_TYPE,\n",
    "        \"order_subtype\": DICT_TYPE,\n",
    "        \"transaction_type\": DICT_TYPE,\n",
    "        \"discontinue_of_poe_id\": STRING_TYPE,\n",
    "        \"discontinued_by_poe_id\": STRING_TYPE,\n",
    "        \"order_provider_id\": DICT_TYPE,\n",
    "        \"order_status\": DICT_TYPE,\n",
    "    },\n",
    "    pharmacy={\n",
    "        \"subject_id\": ID_TYPE,\n",
    "        \"hadm_id\": ID_TYPE,\n",
    "        \"pharmacy_id\": ID_TYPE,\n",
    "        \"poe_id\": STRING_TYPE,\n",
    "        \"starttime\": TIME_TYPE,\n",
    "        \"stoptime\": TIME_TYPE,\n",
    "        \"medication\": DICT_TYPE,\n",
    "        \"proc_type\": DICT_TYPE,\n",
    "        \"status\": DICT_TYPE,\n",
    "        \"entertime\": TIME_TYPE,\n",
    "        \"verifiedtime\": TIME_TYPE,\n",
    "        \"route\": DICT_TYPE,\n",
    "        \"frequency\": DICT_TYPE,\n",
    "        \"disp_sched\": DICT_TYPE,\n",
    "        \"infusion_type\": DICT_TYPE,\n",
    "        \"sliding_scale\": BOOL_TYPE,\n",
    "        \"lockout_interval\": DICT_TYPE,\n",
    "        \"basal_rate\": VALUE_TYPE,\n",
    "        \"one_hr_max\": DICT_TYPE,\n",
    "        \"doses_per_24_hrs\": VALUE_TYPE,\n",
    "        \"duration\": VALUE_TYPE,\n",
    "        \"duration_interval\": DICT_TYPE,\n",
    "        \"expiration_value\": VALUE_TYPE,\n",
    "        \"expiration_unit\": DICT_TYPE,\n",
    "        \"expirationdate\": TIME_TYPE,\n",
    "        \"dispensation\": DICT_TYPE,\n",
    "        \"fill_quantity\": DICT_TYPE,\n",
    "    },\n",
    "    patients={\n",
    "        \"subject_id\": ID_TYPE,\n",
    "        \"gender\": DICT_TYPE,\n",
    "        \"anchor_age\": ID_TYPE,\n",
    "        \"anchor_year\": ID_TYPE,\n",
    "        \"anchor_year_group\": DICT_TYPE,\n",
    "        \"dod\": DATE_TYPE,\n",
    "    },\n",
    "    omr={\n",
    "        \"subject_id\": ID_TYPE,\n",
    "        \"chartdate\": DATE_TYPE,\n",
    "        \"seq_num\": ID_TYPE,\n",
    "        \"result_name\": STRING_TYPE,  # unstack\n",
    "        \"result_value\": STRING_TYPE,  # unstack\n",
    "        # split blood pressure into 2 floats (blood pressure systolic/diastolic).\n",
    "    },\n",
    "    microbiologyevents={\n",
    "        \"microevent_id\": ID_TYPE,\n",
    "        \"subject_id\": ID_TYPE,\n",
    "        \"hadm_id\": ID_TYPE,\n",
    "        \"micro_specimen_id\": ID_TYPE,\n",
    "        \"order_provider_id\": DICT_TYPE,\n",
    "        \"chartdate\": TIME_TYPE,\n",
    "        \"charttime\": TIME_TYPE,\n",
    "        \"spec_itemid\": ID_TYPE,\n",
    "        \"spec_type_desc\": DICT_TYPE,\n",
    "        \"test_seq\": ID_TYPE,\n",
    "        \"storedate\": TIME_TYPE,\n",
    "        \"storetime\": TIME_TYPE,\n",
    "        \"test_itemid\": ID_TYPE,\n",
    "        \"test_name\": DICT_TYPE,\n",
    "        \"org_itemid\": ID_TYPE,\n",
    "        \"org_name\": DICT_TYPE,\n",
    "        \"isolate_num\": ID_TYPE,\n",
    "        \"quantity\": DICT_TYPE,\n",
    "        \"ab_itemid\": ID_TYPE,\n",
    "        \"ab_name\": DICT_TYPE,\n",
    "        \"dilution_text\": STRING_TYPE,  # convert to float\n",
    "        \"dilution_comparison\": DICT_TYPE,\n",
    "        \"dilution_value\": VALUE_TYPE,\n",
    "        \"interpretation\": DICT_TYPE,\n",
    "        \"comments\": STRING_TYPE,\n",
    "    },\n",
    "    labevents={\n",
    "        \"labevent_id\": ID_TYPE,\n",
    "        \"subject_id\": ID_TYPE,\n",
    "        \"hadm_id\": ID_TYPE,\n",
    "        \"specimen_id\": ID_TYPE,\n",
    "        \"itemid\": ID_TYPE,\n",
    "        \"order_provider_id\": DICT_TYPE,\n",
    "        \"charttime\": TIME_TYPE,\n",
    "        \"storetime\": TIME_TYPE,\n",
    "        \"value\": STRING_TYPE,  # cast Float32\n",
    "        \"valuenum\": VALUE_TYPE,\n",
    "        \"valueuom\": DICT_TYPE,\n",
    "        \"ref_range_lower\": VALUE_TYPE,\n",
    "        \"ref_range_upper\": VALUE_TYPE,\n",
    "        \"flag\": DICT_TYPE,\n",
    "        \"priority\": DICT_TYPE,\n",
    "        \"comments\": STRING_TYPE,\n",
    "    },\n",
    "    hcpcsevents={\n",
    "        \"subject_id\": ID_TYPE,\n",
    "        \"hadm_id\": ID_TYPE,\n",
    "        \"chartdate\": DATE_TYPE,\n",
    "        \"hcpcs_cd\": DICT_TYPE,\n",
    "        \"seq_num\": ID_TYPE,\n",
    "        \"short_description\": DICT_TYPE,\n",
    "    },\n",
    "    emar_detail={\n",
    "        \"subject_id\": ID_TYPE,\n",
    "        \"emar_id\": STRING_TYPE,\n",
    "        \"emar_seq\": ID_TYPE,\n",
    "        \"parent_field_ordinal\": DICT_TYPE,\n",
    "        \"administration_type\": DICT_TYPE,\n",
    "        \"pharmacy_id\": ID_TYPE,\n",
    "        \"barcode_type\": DICT_TYPE,\n",
    "        \"reason_for_no_barcode\": DICT_TYPE,\n",
    "        \"complete_dose_not_given\": BOOL_TYPE,\n",
    "        \"dose_due\": STRING_TYPE,  # cast float\n",
    "        \"dose_due_unit\": DICT_TYPE,\n",
    "        \"dose_given\": STRING_TYPE,  # cast float\n",
    "        \"dose_given_unit\": DICT_TYPE,\n",
    "        \"will_remainder_of_dose_be_given\": BOOL_TYPE,\n",
    "        \"product_amount_given\": STRING_TYPE,  # cast float\n",
    "        \"product_unit\": DICT_TYPE,\n",
    "        \"product_code\": DICT_TYPE,\n",
    "        \"product_description\": DICT_TYPE,\n",
    "        \"product_description_other\": DICT_TYPE,\n",
    "        \"prior_infusion_rate\": STRING_TYPE,  # cast float\n",
    "        \"infusion_rate\": STRING_TYPE,  # cast float\n",
    "        \"infusion_rate_adjustment\": DICT_TYPE,\n",
    "        \"infusion_rate_adjustment_amount\": STRING_TYPE,  # cast float\n",
    "        \"infusion_rate_unit\": DICT_TYPE,\n",
    "        \"route\": DICT_TYPE,\n",
    "        \"infusion_complete\": BOOL_TYPE,\n",
    "        \"completion_interval\": DICT_TYPE,\n",
    "        \"new_iv_bag_hung\": BOOL_TYPE,\n",
    "        \"continued_infusion_in_other_location\": BOOL_TYPE,\n",
    "        \"restart_interval\": DICT_TYPE,\n",
    "        \"side\": DICT_TYPE,\n",
    "        \"site\": DICT_TYPE,\n",
    "        \"non_formulary_visual_verification\": BOOL_TYPE,\n",
    "    },\n",
    "    emar={\n",
    "        \"subject_id\": ID_TYPE,\n",
    "        \"hadm_id\": ID_TYPE,\n",
    "        \"emar_id\": STRING_TYPE,\n",
    "        \"emar_seq\": ID_TYPE,\n",
    "        \"poe_id\": STRING_TYPE,\n",
    "        \"pharmacy_id\": ID_TYPE,\n",
    "        \"enter_provider_id\": DICT_TYPE,\n",
    "        \"charttime\": TIME_TYPE,\n",
    "        \"medication\": DICT_TYPE,\n",
    "        \"event_txt\": DICT_TYPE,\n",
    "        \"scheduletime\": TIME_TYPE,\n",
    "        \"storetime\": TIME_TYPE,\n",
    "    },\n",
    "    drgcodes={\n",
    "        \"subject_id\": ID_TYPE,\n",
    "        \"hadm_id\": ID_TYPE,\n",
    "        \"drg_type\": DICT_TYPE,\n",
    "        \"drg_code\": ID_TYPE,\n",
    "        \"description\": DICT_TYPE,\n",
    "        \"drg_severity\": ID_TYPE,\n",
    "        \"drg_mortality\": ID_TYPE,\n",
    "    },\n",
    "    diagnoses_icd={\n",
    "        \"subject_id\": ID_TYPE,\n",
    "        \"hadm_id\": ID_TYPE,\n",
    "        \"seq_num\": ID_TYPE,\n",
    "        \"icd_code\": DICT_TYPE,\n",
    "        \"icd_version\": ID_TYPE,\n",
    "    },\n",
    "    d_labitems={\n",
    "        \"itemid\": ID_TYPE,\n",
    "        \"label\": STRING_TYPE,\n",
    "        \"fluid\": DICT_TYPE,\n",
    "        \"category\": DICT_TYPE,\n",
    "    },\n",
    "    d_icd_procedures={\n",
    "        \"icd_code\": STRING_TYPE,\n",
    "        \"icd_version\": ID_TYPE,\n",
    "        \"long_title\": STRING_TYPE,\n",
    "    },\n",
    "    d_icd_diagnoses={\n",
    "        \"icd_code\": STRING_TYPE,\n",
    "        \"icd_version\": ID_TYPE,\n",
    "        \"long_title\": STRING_TYPE,\n",
    "    },\n",
    "    d_hcpcs={\n",
    "        \"code\": STRING_TYPE,\n",
    "        \"category\": ID_TYPE,\n",
    "        \"long_description\": STRING_TYPE,\n",
    "        \"short_description\": \"dictionary\",\n",
    "    },\n",
    ");"
   ]
  },
  {
   "cell_type": "markdown",
   "metadata": {},
   "source": [
    "## d_hcpcs"
   ]
  },
  {
   "cell_type": "code",
   "execution_count": null,
   "metadata": {
    "execution": {
     "iopub.execute_input": "2023-04-18T15:08:14.717147Z",
     "iopub.status.busy": "2023-04-18T15:08:14.716748Z",
     "iopub.status.idle": "2023-04-18T15:08:14.810020Z",
     "shell.execute_reply": "2023-04-18T15:08:14.808741Z",
     "shell.execute_reply.started": "2023-04-18T15:08:14.717117Z"
    },
    "tags": []
   },
   "outputs": [],
   "source": [
    "table = get_table(\n",
    "    \"mimic-iv-2.2/hosp/d_hcpcs.csv.gz\",\n",
    "    convert_options=pa.csv.ConvertOptions(\n",
    "        column_types=column_types[\"d_hcpcs\"],\n",
    "        strings_can_be_null=True,\n",
    "        null_values=NULL_VALUES,\n",
    "        true_values=TRUE_VALUES,\n",
    "        false_values=FALSE_VALUES,\n",
    "    ),\n",
    ")\n",
    "table_info(table)\n",
    "# pa.compute.unique(table[\"poe_seq\"])"
   ]
  },
  {
   "cell_type": "markdown",
   "metadata": {},
   "source": [
    "## d_icd_diagnoses"
   ]
  },
  {
   "cell_type": "code",
   "execution_count": null,
   "metadata": {
    "execution": {
     "iopub.execute_input": "2023-04-09T23:33:30.131618Z",
     "iopub.status.busy": "2023-04-09T23:33:30.131151Z",
     "iopub.status.idle": "2023-04-09T23:33:30.376238Z",
     "shell.execute_reply": "2023-04-09T23:33:30.375753Z",
     "shell.execute_reply.started": "2023-04-09T23:33:30.131592Z"
    },
    "tags": []
   },
   "outputs": [],
   "source": [
    "table = get_table(\n",
    "    \"mimic-iv-2.2/hosp/d_icd_diagnoses.csv.gz\",\n",
    "    convert_options=pa.csv.ConvertOptions(\n",
    "        column_types=column_types[\"d_icd_diagnoses\"],\n",
    "        strings_can_be_null=True,\n",
    "        null_values=NULL_VALUES,\n",
    "        true_values=TRUE_VALUES,\n",
    "        false_values=FALSE_VALUES,\n",
    "    ),\n",
    ")\n",
    "table_info(table)\n",
    "# pa.compute.unique(table[\"poe_seq\"])"
   ]
  },
  {
   "cell_type": "markdown",
   "metadata": {},
   "source": [
    "## d_icd_procedures"
   ]
  },
  {
   "cell_type": "code",
   "execution_count": null,
   "metadata": {
    "execution": {
     "iopub.execute_input": "2023-04-09T23:33:27.784383Z",
     "iopub.status.busy": "2023-04-09T23:33:27.783931Z",
     "iopub.status.idle": "2023-04-09T23:33:28.013975Z",
     "shell.execute_reply": "2023-04-09T23:33:28.013415Z",
     "shell.execute_reply.started": "2023-04-09T23:33:27.784349Z"
    },
    "tags": []
   },
   "outputs": [],
   "source": [
    "table = get_table(\n",
    "    \"mimic-iv-2.2/hosp/d_icd_procedures.csv.gz\",\n",
    "    convert_options=pa.csv.ConvertOptions(\n",
    "        # column_types=column_types[\"d_icd_procedures\"],\n",
    "        strings_can_be_null=True,\n",
    "        null_values=NULL_VALUES,\n",
    "        true_values=TRUE_VALUES,\n",
    "        false_values=FALSE_VALUES,\n",
    "    ),\n",
    ")\n",
    "table_info(table)\n",
    "# pa.compute.unique(table[\"poe_seq\"])"
   ]
  },
  {
   "cell_type": "markdown",
   "metadata": {},
   "source": [
    "## d_labitems"
   ]
  },
  {
   "cell_type": "code",
   "execution_count": null,
   "metadata": {
    "execution": {
     "iopub.execute_input": "2023-04-09T23:33:12.842108Z",
     "iopub.status.busy": "2023-04-09T23:33:12.841828Z",
     "iopub.status.idle": "2023-04-09T23:33:13.028346Z",
     "shell.execute_reply": "2023-04-09T23:33:13.027904Z",
     "shell.execute_reply.started": "2023-04-09T23:33:12.842095Z"
    },
    "tags": []
   },
   "outputs": [],
   "source": [
    "table = get_table(\n",
    "    \"mimic-iv-2.2/hosp/d_labitems.csv.gz\",\n",
    "    convert_options=pa.csv.ConvertOptions(\n",
    "        column_types=column_types[\"d_labitems\"],\n",
    "        strings_can_be_null=True,\n",
    "        null_values=NULL_VALUES,\n",
    "        true_values=TRUE_VALUES,\n",
    "        false_values=FALSE_VALUES,\n",
    "    ),\n",
    ")\n",
    "null_cols = [\"label\"]\n",
    "table_info(table)\n",
    "# pa.compute.unique(table[\"poe_seq\"])"
   ]
  },
  {
   "cell_type": "markdown",
   "metadata": {},
   "source": [
    "## diagnoses_icd"
   ]
  },
  {
   "cell_type": "code",
   "execution_count": null,
   "metadata": {
    "execution": {
     "iopub.execute_input": "2023-04-09T23:33:09.458906Z",
     "iopub.status.busy": "2023-04-09T23:33:09.458664Z",
     "iopub.status.idle": "2023-04-09T23:33:10.263013Z",
     "shell.execute_reply": "2023-04-09T23:33:10.262557Z",
     "shell.execute_reply.started": "2023-04-09T23:33:09.458893Z"
    },
    "tags": []
   },
   "outputs": [],
   "source": [
    "table = get_table(\n",
    "    \"mimic-iv-2.2/hosp/diagnoses_icd.csv.gz\",\n",
    "    convert_options=pa.csv.ConvertOptions(\n",
    "        column_types=column_types[\"diagnoses_icd\"],\n",
    "        strings_can_be_null=True,\n",
    "        null_values=NULL_VALUES,\n",
    "        true_values=TRUE_VALUES,\n",
    "        false_values=FALSE_VALUES,\n",
    "    ),\n",
    ")\n",
    "table_info(table)\n",
    "# sorted(pa.compute.unique(table[\"los\"]).drop_null().to_pylist())"
   ]
  },
  {
   "cell_type": "markdown",
   "metadata": {},
   "source": [
    "## drgcodes"
   ]
  },
  {
   "cell_type": "code",
   "execution_count": null,
   "metadata": {
    "execution": {
     "iopub.execute_input": "2023-04-09T23:33:02.985206Z",
     "iopub.status.busy": "2023-04-09T23:33:02.984936Z",
     "iopub.status.idle": "2023-04-09T23:33:03.970012Z",
     "shell.execute_reply": "2023-04-09T23:33:03.969506Z",
     "shell.execute_reply.started": "2023-04-09T23:33:02.985191Z"
    },
    "tags": []
   },
   "outputs": [],
   "source": [
    "table = get_table(\n",
    "    \"mimic-iv-2.2/hosp/drgcodes.csv.gz\",\n",
    "    convert_options=pa.csv.ConvertOptions(\n",
    "        column_types=column_types[\"drgcodes\"],\n",
    "        strings_can_be_null=True,\n",
    "        null_values=NULL_VALUES,\n",
    "        true_values=TRUE_VALUES,\n",
    "        false_values=FALSE_VALUES,\n",
    "    ),\n",
    ")\n",
    "table_info(table)\n",
    "# sorted(pa.compute.unique(table[\"los\"]).drop_null().to_pylist())"
   ]
  },
  {
   "cell_type": "markdown",
   "metadata": {},
   "source": [
    "## emar"
   ]
  },
  {
   "cell_type": "code",
   "execution_count": null,
   "metadata": {
    "execution": {
     "iopub.execute_input": "2023-04-09T23:30:56.974855Z",
     "iopub.status.busy": "2023-04-09T23:30:56.974627Z",
     "iopub.status.idle": "2023-04-09T23:31:22.915679Z",
     "shell.execute_reply": "2023-04-09T23:31:22.915104Z",
     "shell.execute_reply.started": "2023-04-09T23:30:56.974842Z"
    },
    "tags": []
   },
   "outputs": [],
   "source": [
    "table = get_table(\n",
    "    \"mimic-iv-2.2/hosp/emar.csv.gz\",\n",
    "    convert_options=pa.csv.ConvertOptions(\n",
    "        column_types=column_types[\"emar\"],\n",
    "        strings_can_be_null=True,\n",
    "        null_values=NULL_VALUES,\n",
    "        true_values=TRUE_VALUES,\n",
    "        false_values=FALSE_VALUES,\n",
    "    ),\n",
    ")\n",
    "null_cols = [\"hadm_id\", \"scheduletime\", \"medication\", \"event_txt\"]\n",
    "table_info(table)\n",
    "# sorted(pa.compute.unique(table[\"medication\"]).drop_null().to_pylist())"
   ]
  },
  {
   "cell_type": "markdown",
   "metadata": {},
   "source": [
    "## emar_detail"
   ]
  },
  {
   "cell_type": "code",
   "execution_count": null,
   "metadata": {
    "execution": {
     "iopub.execute_input": "2023-04-09T23:27:29.473050Z",
     "iopub.status.busy": "2023-04-09T23:27:29.472763Z",
     "iopub.status.idle": "2023-04-09T23:27:57.163392Z",
     "shell.execute_reply": "2023-04-09T23:27:57.162862Z",
     "shell.execute_reply.started": "2023-04-09T23:27:29.473037Z"
    },
    "tags": []
   },
   "outputs": [],
   "source": [
    "table = get_table(\n",
    "    \"mimic-iv-2.2/hosp/emar_detail.csv.gz\",\n",
    "    convert_options=pa.csv.ConvertOptions(\n",
    "        column_types=column_types[\"emar_detail\"],\n",
    "        strings_can_be_null=True,\n",
    "        null_values=NULL_VALUES,\n",
    "        true_values=TRUE_VALUES,\n",
    "        false_values=FALSE_VALUES,\n",
    "    ),\n",
    ")\n",
    "table_info(table)\n",
    "# sorted(pa.compute.unique(table[\"los\"]).drop_null().to_pylist())"
   ]
  },
  {
   "cell_type": "code",
   "execution_count": null,
   "metadata": {
    "execution": {
     "iopub.execute_input": "2023-04-09T23:28:37.965879Z",
     "iopub.status.busy": "2023-04-09T23:28:37.965582Z",
     "iopub.status.idle": "2023-04-09T23:30:47.961240Z",
     "shell.execute_reply": "2023-04-09T23:30:47.960589Z",
     "shell.execute_reply.started": "2023-04-09T23:28:37.965864Z"
    },
    "tags": []
   },
   "outputs": [],
   "source": [
    "recast_columns = {\n",
    "    \"dose_due\": VALUE_TYPE,\n",
    "    \"dose_given\": VALUE_TYPE,\n",
    "    \"product_amount_given\": VALUE_TYPE,\n",
    "    \"prior_infusion_rate\": VALUE_TYPE,\n",
    "    \"infusion_rate\": VALUE_TYPE,\n",
    "    \"infusion_rate_adjustment_amount\": VALUE_TYPE,\n",
    "}\n",
    "\n",
    "for col in recast_columns:\n",
    "    array = pa.compute.utf8_trim_whitespace(table[col])\n",
    "\n",
    "    prior_null = pa.compute.is_null(array)\n",
    "    post_null = pa.compute.is_null(\n",
    "        pa.Array.from_pandas(\n",
    "            pd.to_numeric(\n",
    "                pd.Series(array, dtype=\"string[pyarrow]\"),\n",
    "                errors=\"coerce\",\n",
    "                dtype_backend=\"pyarrow\",\n",
    "                downcast=pa.float32(),\n",
    "            )\n",
    "        )\n",
    "    )\n",
    "\n",
    "    # mask the values that were initially null or can be cast to float.\n",
    "    mask = pa.compute.or_(\n",
    "        prior_null,\n",
    "        pa.compute.invert(post_null),\n",
    "    )\n",
    "    dropped = 1 - pa.compute.mean(mask).as_py()\n",
    "    print(f\"Dropping {dropped:.4%} of rows: {col} can't be cast to float!\")\n",
    "    table = table.filter(mask)\n",
    "    table = table.set_column(\n",
    "        table.column_names.index(col),\n",
    "        col,\n",
    "        pa.compute.cast(\n",
    "            array.filter(mask),\n",
    "            pa.float32(),\n",
    "        ),\n",
    "    )\n",
    "table_info(table)"
   ]
  },
  {
   "cell_type": "markdown",
   "metadata": {},
   "source": [
    "## hcpcsevents"
   ]
  },
  {
   "cell_type": "code",
   "execution_count": null,
   "metadata": {
    "execution": {
     "iopub.execute_input": "2023-04-09T23:27:18.982905Z",
     "iopub.status.busy": "2023-04-09T23:27:18.982503Z",
     "iopub.status.idle": "2023-04-09T23:27:19.214264Z",
     "shell.execute_reply": "2023-04-09T23:27:19.213722Z",
     "shell.execute_reply.started": "2023-04-09T23:27:18.982892Z"
    },
    "tags": []
   },
   "outputs": [],
   "source": [
    "table = get_table(\n",
    "    \"mimic-iv-2.2/hosp/hcpcsevents.csv.gz\",\n",
    "    convert_options=pa.csv.ConvertOptions(\n",
    "        column_types=column_types[\"hcpcsevents\"],\n",
    "        strings_can_be_null=True,\n",
    "        null_values=NULL_VALUES,\n",
    "        true_values=TRUE_VALUES,\n",
    "        false_values=FALSE_VALUES,\n",
    "    ),\n",
    ")\n",
    "table_info(table)\n",
    "# sorted(pa.compute.unique(table[\"los\"]).drop_null().to_pylist())"
   ]
  },
  {
   "cell_type": "markdown",
   "metadata": {},
   "source": [
    "## Labevents"
   ]
  },
  {
   "cell_type": "code",
   "execution_count": null,
   "metadata": {
    "execution": {
     "iopub.execute_input": "2023-04-09T23:18:33.004513Z",
     "iopub.status.busy": "2023-04-09T23:18:33.003921Z",
     "iopub.status.idle": "2023-04-09T23:19:49.521675Z",
     "shell.execute_reply": "2023-04-09T23:19:49.521125Z",
     "shell.execute_reply.started": "2023-04-09T23:18:33.004489Z"
    },
    "tags": []
   },
   "outputs": [],
   "source": [
    "table = get_table(\n",
    "    \"mimic-iv-2.2/hosp/labevents.csv.gz\",\n",
    "    convert_options=pa.csv.ConvertOptions(\n",
    "        column_types=column_types[\"labevents\"],\n",
    "        strings_can_be_null=True,\n",
    "        null_values=NULL_VALUES,\n",
    "        true_values=TRUE_VALUES,\n",
    "        false_values=FALSE_VALUES,\n",
    "    ),\n",
    ")\n",
    "null_cols = [\"storetime\"]\n",
    "table_info(table)\n",
    "# sorted(pa.compute.unique(table[\"los\"]).drop_null().to_pylist())"
   ]
  },
  {
   "cell_type": "markdown",
   "metadata": {
    "tags": []
   },
   "source": [
    "### drop everything that has no hadm_id or null value or null valueuom"
   ]
  },
  {
   "cell_type": "code",
   "execution_count": null,
   "metadata": {
    "execution": {
     "iopub.execute_input": "2023-04-09T23:25:43.871250Z",
     "iopub.status.busy": "2023-04-09T23:25:43.870763Z",
     "iopub.status.idle": "2023-04-09T23:26:02.495709Z",
     "shell.execute_reply": "2023-04-09T23:26:02.495220Z",
     "shell.execute_reply.started": "2023-04-09T23:25:43.871236Z"
    },
    "tags": []
   },
   "outputs": [],
   "source": [
    "adm_null = pa.compute.is_null(table[\"hadm_id\"])\n",
    "val_null = pa.compute.is_null(table[\"value\"])\n",
    "num_null = pa.compute.is_null(table[\"valuenum\"])\n",
    "uom_null = pa.compute.is_null(table[\"valueuom\"])\n",
    "mask = pa.compute.invert(\n",
    "    pa.compute.or_(\n",
    "        pa.compute.or_(adm_null, val_null),\n",
    "        pa.compute.or_(num_null, uom_null),\n",
    "    )\n",
    ")\n",
    "table = pa.compute.filter(table, mask)\n",
    "\n",
    "# cast value to float\n",
    "table = table.set_column(\n",
    "    table.column_names.index(\"value\"),\n",
    "    \"value\",\n",
    "    pa.compute.cast(table.column(\"value\"), pa.float32()),\n",
    ")\n",
    "assert pa.compute.all(pa.compute.equal(table[\"value\"], table[\"valuenum\"])).as_py()\n",
    "table_info(table)"
   ]
  },
  {
   "cell_type": "markdown",
   "metadata": {},
   "source": [
    "## microbiologyevents"
   ]
  },
  {
   "cell_type": "code",
   "execution_count": null,
   "metadata": {
    "execution": {
     "iopub.execute_input": "2023-04-09T23:16:52.087242Z",
     "iopub.status.busy": "2023-04-09T23:16:52.086746Z",
     "iopub.status.idle": "2023-04-09T23:16:55.678155Z",
     "shell.execute_reply": "2023-04-09T23:16:55.677685Z",
     "shell.execute_reply.started": "2023-04-09T23:16:52.087227Z"
    },
    "tags": []
   },
   "outputs": [],
   "source": [
    "table = get_table(\n",
    "    \"mimic-iv-2.2/hosp/microbiologyevents.csv.gz\",\n",
    "    convert_options=pa.csv.ConvertOptions(\n",
    "        column_types=column_types[\"microbiologyevents\"],\n",
    "        strings_can_be_null=True,\n",
    "        null_values=NULL_VALUES,\n",
    "        true_values=TRUE_VALUES,\n",
    "        false_values=FALSE_VALUES,\n",
    "    ),\n",
    ")\n",
    "null_cols = [\"storedate\", \"storetime\", \"spec_type_desc\"]\n",
    "table_info(table)\n",
    "# sorted(pa.compute.unique(table[\"los\"]).drop_null().to_pylist())"
   ]
  },
  {
   "cell_type": "markdown",
   "metadata": {},
   "source": [
    "### Check dilution"
   ]
  },
  {
   "cell_type": "code",
   "execution_count": null,
   "metadata": {
    "execution": {
     "iopub.execute_input": "2023-04-09T16:26:03.999278Z",
     "iopub.status.busy": "2023-04-09T16:26:03.998987Z",
     "iopub.status.idle": "2023-04-09T16:26:04.225204Z",
     "shell.execute_reply": "2023-04-09T16:26:04.224718Z",
     "shell.execute_reply.started": "2023-04-09T16:26:03.999263Z"
    },
    "tags": []
   },
   "outputs": [],
   "source": [
    "dilution = table[\"dilution_text\"]\n",
    "dilution = pa.compute.replace_substring(dilution, \"<\", \"\")\n",
    "dilution = pa.compute.replace_substring(dilution, \">\", \"\")\n",
    "dilution = pa.compute.replace_substring(dilution, \"=\", \"\")\n",
    "dilution = pa.compute.cast(dilution, pa.float32())\n",
    "assert (\n",
    "    pa.compute.all(\n",
    "        pa.compute.equal(dilution, table[\"dilution_value\"]).drop_null()\n",
    "    ).as_py()\n",
    "    is True\n",
    ")"
   ]
  },
  {
   "cell_type": "markdown",
   "metadata": {},
   "source": [
    "## omr"
   ]
  },
  {
   "cell_type": "code",
   "execution_count": null,
   "metadata": {
    "execution": {
     "iopub.execute_input": "2023-04-09T23:09:54.227473Z",
     "iopub.status.busy": "2023-04-09T23:09:54.227175Z",
     "iopub.status.idle": "2023-04-09T23:09:55.394474Z",
     "shell.execute_reply": "2023-04-09T23:09:55.393809Z",
     "shell.execute_reply.started": "2023-04-09T23:09:54.227460Z"
    },
    "tags": []
   },
   "outputs": [],
   "source": [
    "table = get_table(\n",
    "    \"mimic-iv-2.2/hosp/omr.csv.gz\",\n",
    "    convert_options=pa.csv.ConvertOptions(\n",
    "        column_types=column_types[\"omr\"],\n",
    "        strings_can_be_null=True,\n",
    "        null_values=NULL_VALUES,\n",
    "        true_values=TRUE_VALUES,\n",
    "        false_values=FALSE_VALUES,\n",
    "    ),\n",
    ")\n",
    "table_info(table)\n",
    "# sorted(pa.compute.unique(table[\"los\"]).drop_null().to_pylist())"
   ]
  },
  {
   "cell_type": "markdown",
   "metadata": {
    "execution": {
     "iopub.execute_input": "2023-04-09T22:00:07.283689Z",
     "iopub.status.busy": "2023-04-09T22:00:07.283574Z",
     "iopub.status.idle": "2023-04-09T22:00:12.128355Z",
     "shell.execute_reply": "2023-04-09T22:00:12.127899Z",
     "shell.execute_reply.started": "2023-04-09T22:00:07.283677Z"
    },
    "tags": []
   },
   "source": [
    "### split results_value (two values stored for blood pressure)"
   ]
  },
  {
   "cell_type": "code",
   "execution_count": null,
   "metadata": {
    "execution": {
     "iopub.execute_input": "2023-04-09T23:09:55.395449Z",
     "iopub.status.busy": "2023-04-09T23:09:55.395328Z",
     "iopub.status.idle": "2023-04-09T23:10:16.596519Z",
     "shell.execute_reply": "2023-04-09T23:10:16.595692Z",
     "shell.execute_reply.started": "2023-04-09T23:09:55.395437Z"
    },
    "tags": []
   },
   "outputs": [],
   "source": [
    "table = table.set_column(\n",
    "    table.column_names.index(\"result_value\"),\n",
    "    \"result_value\",\n",
    "    pa.compute.split_pattern(table[\"result_value\"], \"/\"),\n",
    ")\n",
    "\n",
    "df = table.to_pandas().pivot(\n",
    "    index=[\"subject_id\", \"seq_num\", \"chartdate\"],\n",
    "    columns=\"result_name\",\n",
    "    values=\"result_value\",\n",
    ")\n",
    "\n",
    "for col in (pbar := tqdm(df.columns)):\n",
    "    pbar.set_postfix(column=f\"{col!r}\")\n",
    "    s = df.pop(col).copy()\n",
    "    m = s.isna()\n",
    "    s.loc[m] = [[]] * m.sum()\n",
    "    columns = (\n",
    "        [f\"{col} (systolic)\", f\"{col} (diastolic)\"]\n",
    "        if \"blood pressure\" in col.lower()\n",
    "        else [col]\n",
    "    )\n",
    "    frame = pd.DataFrame(s.to_list(), columns=columns, index=s.index)\n",
    "    for new_col in frame:\n",
    "        df[new_col] = pd.to_numeric(\n",
    "            frame[new_col],\n",
    "            errors=\"coerce\",\n",
    "            downcast=pa.float32(),\n",
    "            dtype_backend=\"pyarrow\",\n",
    "        ).astype(\n",
    "            \"float[pyarrow]\"\n",
    "        )  # required due to \"Weight (Lbs)\"\n",
    "        # contains bad data: 210237760.0, the nearest float is 210237758.0\n",
    "table = pa.Table.from_pandas(df.dropna(how=\"all\").reset_index())\n",
    "table_info(table)"
   ]
  },
  {
   "cell_type": "markdown",
   "metadata": {},
   "source": [
    "## patients"
   ]
  },
  {
   "cell_type": "code",
   "execution_count": null,
   "metadata": {
    "execution": {
     "iopub.execute_input": "2023-04-09T23:07:31.323483Z",
     "iopub.status.busy": "2023-04-09T23:07:31.323186Z",
     "iopub.status.idle": "2023-04-09T23:07:31.719332Z",
     "shell.execute_reply": "2023-04-09T23:07:31.718995Z",
     "shell.execute_reply.started": "2023-04-09T23:07:31.323469Z"
    },
    "tags": []
   },
   "outputs": [],
   "source": [
    "table = get_table(\n",
    "    \"mimic-iv-2.2/hosp/patients.csv.gz\",\n",
    "    convert_options=pa.csv.ConvertOptions(\n",
    "        column_types=column_types[\"patients\"],\n",
    "        strings_can_be_null=True,\n",
    "        null_values=NULL_VALUES,\n",
    "        true_values=TRUE_VALUES,\n",
    "        false_values=FALSE_VALUES,\n",
    "    ),\n",
    ")\n",
    "table_info(table)\n",
    "# sorted(pa.compute.unique(table[\"los\"]).drop_null().to_pylist())"
   ]
  },
  {
   "cell_type": "markdown",
   "metadata": {},
   "source": [
    "## pharmacy"
   ]
  },
  {
   "cell_type": "code",
   "execution_count": null,
   "metadata": {
    "execution": {
     "iopub.execute_input": "2023-04-09T23:06:21.426532Z",
     "iopub.status.busy": "2023-04-09T23:06:21.425802Z",
     "iopub.status.idle": "2023-04-09T23:06:39.929548Z",
     "shell.execute_reply": "2023-04-09T23:06:39.928953Z",
     "shell.execute_reply.started": "2023-04-09T23:06:21.426505Z"
    },
    "tags": []
   },
   "outputs": [],
   "source": [
    "table = get_table(\n",
    "    \"mimic-iv-2.2/hosp/pharmacy.csv.gz\",\n",
    "    convert_options=pa.csv.ConvertOptions(\n",
    "        column_types=column_types[\"pharmacy\"],\n",
    "        strings_can_be_null=True,\n",
    "        null_values=NULL_VALUES,\n",
    "        true_values=TRUE_VALUES,\n",
    "        false_values=FALSE_VALUES,\n",
    "    ),\n",
    ")\n",
    "table_info(table)\n",
    "# sorted(pa.compute.unique(table[\"los\"]).drop_null().to_pylist())"
   ]
  },
  {
   "cell_type": "code",
   "execution_count": null,
   "metadata": {
    "execution": {
     "iopub.execute_input": "2023-04-09T23:06:39.930836Z",
     "iopub.status.busy": "2023-04-09T23:06:39.930502Z",
     "iopub.status.idle": "2023-04-09T23:06:51.261648Z",
     "shell.execute_reply": "2023-04-09T23:06:51.261092Z",
     "shell.execute_reply.started": "2023-04-09T23:06:39.930822Z"
    },
    "tags": []
   },
   "outputs": [],
   "source": [
    "null_cols = [\n",
    "    \"subject_id\",\n",
    "    \"hadm_id\",\n",
    "    \"pharmacy_id\",\n",
    "    \"poe_id\",\n",
    "    \"starttime\",\n",
    "    \"stoptime\",\n",
    "    \"medication\",\n",
    "    \"proc_type\",\n",
    "    \"status\",\n",
    "    \"entertime\",\n",
    "    \"verifiedtime\",\n",
    "    \"route\",\n",
    "    \"frequency\",\n",
    "    # \"disp_sched\",\n",
    "    # \"infusion_type\",\n",
    "    # \"sliding_scale\",\n",
    "    # \"lockout_interval\",\n",
    "    # \"basal_rate\",\n",
    "    # \"one_hr_max\",\n",
    "    # \"doses_per_24_hrs\",\n",
    "    # \"duration\",\n",
    "    \"duration_interval\",\n",
    "    # \"expiration_value\",\n",
    "    \"expiration_unit\",\n",
    "    # \"expirationdate\",\n",
    "    \"dispensation\",\n",
    "    # \"fill_quantity\",\n",
    "]\n",
    "table_info(filter_nulls(table, null_cols))"
   ]
  },
  {
   "cell_type": "markdown",
   "metadata": {},
   "source": [
    "## poe"
   ]
  },
  {
   "cell_type": "code",
   "execution_count": null,
   "metadata": {
    "execution": {
     "iopub.execute_input": "2023-04-09T23:03:30.196704Z",
     "iopub.status.busy": "2023-04-09T23:03:30.196443Z",
     "iopub.status.idle": "2023-04-09T23:03:58.478977Z",
     "shell.execute_reply": "2023-04-09T23:03:58.478533Z",
     "shell.execute_reply.started": "2023-04-09T23:03:30.196690Z"
    },
    "tags": []
   },
   "outputs": [],
   "source": [
    "table = get_table(\n",
    "    \"mimic-iv-2.2/hosp/poe.csv.gz\",\n",
    "    convert_options=pa.csv.ConvertOptions(\n",
    "        column_types=column_types[\"poe\"],\n",
    "        strings_can_be_null=True,\n",
    "        null_values=NULL_VALUES,\n",
    "        true_values=TRUE_VALUES,\n",
    "        false_values=FALSE_VALUES,\n",
    "    ),\n",
    ")\n",
    "null_cols = [\"order_provider_id\"]\n",
    "table_info(table)\n",
    "# sorted(pa.compute.unique(table[\"los\"]).drop_null().to_pylist())"
   ]
  },
  {
   "cell_type": "markdown",
   "metadata": {},
   "source": [
    "## poe_detail"
   ]
  },
  {
   "cell_type": "code",
   "execution_count": null,
   "metadata": {
    "execution": {
     "iopub.execute_input": "2023-04-09T23:03:11.254050Z",
     "iopub.status.busy": "2023-04-09T23:03:11.253492Z",
     "iopub.status.idle": "2023-04-09T23:03:12.732299Z",
     "shell.execute_reply": "2023-04-09T23:03:12.731885Z",
     "shell.execute_reply.started": "2023-04-09T23:03:11.254024Z"
    },
    "tags": []
   },
   "outputs": [],
   "source": [
    "table = get_table(\n",
    "    \"mimic-iv-2.2/hosp/poe_detail.csv.gz\",\n",
    "    convert_options=pa.csv.ConvertOptions(\n",
    "        column_types=column_types[\"poe_detail\"],\n",
    "        strings_can_be_null=True,\n",
    "        null_values=NULL_VALUES,\n",
    "        true_values=TRUE_VALUES,\n",
    "        false_values=FALSE_VALUES,\n",
    "    ),\n",
    ")\n",
    "table_info(table)\n",
    "#"
   ]
  },
  {
   "cell_type": "markdown",
   "metadata": {},
   "source": [
    "### unstack fields"
   ]
  },
  {
   "cell_type": "code",
   "execution_count": null,
   "metadata": {
    "execution": {
     "iopub.execute_input": "2023-04-09T23:03:12.733144Z",
     "iopub.status.busy": "2023-04-09T23:03:12.732998Z",
     "iopub.status.idle": "2023-04-09T23:03:20.266536Z",
     "shell.execute_reply": "2023-04-09T23:03:20.266078Z",
     "shell.execute_reply.started": "2023-04-09T23:03:12.733132Z"
    },
    "tags": []
   },
   "outputs": [],
   "source": [
    "unstacked_dtypes = {\n",
    "    \"Admit category\": \"category\",\n",
    "    \"Admit to\": \"category\",\n",
    "    \"Code status\": \"category\",\n",
    "    \"Consult Status\": \"category\",\n",
    "    \"Consult Status Time\": \"datetime64[ns]\",\n",
    "    \"Discharge Planning\": \"category\",\n",
    "    \"Discharge When\": \"category\",\n",
    "    \"Indication\": \"category\",\n",
    "    \"Level of Urgency\": \"category\",\n",
    "    \"Transfer to\": \"category\",\n",
    "    \"Tubes & Drains type\": \"category\",\n",
    "}\n",
    "\n",
    "df = (\n",
    "    table.to_pandas()\n",
    "    .pivot(\n",
    "        index=[\"poe_id\", \"poe_seq\", \"subject_id\"],\n",
    "        columns=\"field_name\",\n",
    "        values=\"field_value\",\n",
    "    )\n",
    "    .dropna(how=\"all\")\n",
    "    .astype(unstacked_dtypes)\n",
    "    .reset_index()\n",
    ")\n",
    "table_info(pa.Table.from_pandas(df))"
   ]
  },
  {
   "cell_type": "markdown",
   "metadata": {},
   "source": [
    "## prescriptions"
   ]
  },
  {
   "cell_type": "code",
   "execution_count": null,
   "metadata": {
    "execution": {
     "iopub.execute_input": "2023-04-09T22:57:25.821025Z",
     "iopub.status.busy": "2023-04-09T22:57:25.820720Z",
     "iopub.status.idle": "2023-04-09T22:57:43.898356Z",
     "shell.execute_reply": "2023-04-09T22:57:43.897809Z",
     "shell.execute_reply.started": "2023-04-09T22:57:25.821008Z"
    },
    "tags": []
   },
   "outputs": [],
   "source": [
    "table = get_table(\n",
    "    \"mimic-iv-2.2/hosp/prescriptions.csv.gz\",\n",
    "    convert_options=pa.csv.ConvertOptions(\n",
    "        column_types=column_types[\"prescriptions\"],\n",
    "        strings_can_be_null=True,\n",
    "        null_values=NULL_VALUES,\n",
    "        true_values=TRUE_VALUES,\n",
    "        false_values=FALSE_VALUES,\n",
    "    ),\n",
    ")\n",
    "table_info(table)\n",
    "# sorted(pa.compute.unique(table[\"los\"]).drop_null().to_pylist())"
   ]
  },
  {
   "cell_type": "markdown",
   "metadata": {},
   "source": [
    "### drop val columns that are not float"
   ]
  },
  {
   "cell_type": "code",
   "execution_count": null,
   "metadata": {
    "execution": {
     "iopub.execute_input": "2023-04-09T22:57:43.899269Z",
     "iopub.status.busy": "2023-04-09T22:57:43.899151Z",
     "iopub.status.idle": "2023-04-09T22:58:04.099437Z",
     "shell.execute_reply": "2023-04-09T22:58:04.098802Z",
     "shell.execute_reply.started": "2023-04-09T22:57:43.899257Z"
    },
    "tags": []
   },
   "outputs": [],
   "source": [
    "table = table.set_column(\n",
    "    table.column_names.index(\"dose_val_rx\"),\n",
    "    \"dose_val_rx\",\n",
    "    pa.Array.from_pandas(\n",
    "        pd.to_numeric(\n",
    "            pd.Series(table[\"dose_val_rx\"]),\n",
    "            errors=\"coerce\",\n",
    "            dtype_backend=\"pyarrow\",\n",
    "            downcast=pa.float32(),\n",
    "        )\n",
    "    ),\n",
    ")\n",
    "table = table.set_column(\n",
    "    table.column_names.index(\"form_val_disp\"),\n",
    "    \"form_val_disp\",\n",
    "    pa.Array.from_pandas(\n",
    "        pd.to_numeric(\n",
    "            pd.Series(table[\"form_val_disp\"]),\n",
    "            errors=\"coerce\",\n",
    "            dtype_backend=\"pyarrow\",\n",
    "            downcast=pa.float32(),\n",
    "        )\n",
    "    ),\n",
    ")\n",
    "table_info(table)"
   ]
  },
  {
   "cell_type": "code",
   "execution_count": null,
   "metadata": {
    "execution": {
     "iopub.execute_input": "2023-04-09T22:58:17.210527Z",
     "iopub.status.busy": "2023-04-09T22:58:17.210228Z",
     "iopub.status.idle": "2023-04-09T22:58:27.250542Z",
     "shell.execute_reply": "2023-04-09T22:58:27.250100Z",
     "shell.execute_reply.started": "2023-04-09T22:58:17.210512Z"
    },
    "tags": []
   },
   "outputs": [],
   "source": [
    "filter_null_cols = [\n",
    "    \"subject_id\",\n",
    "    \"hadm_id\",\n",
    "    \"pharmacy_id\",\n",
    "    \"poe_id\",\n",
    "    \"poe_seq\",\n",
    "    \"order_provider_id\",\n",
    "    \"starttime\",\n",
    "    \"stoptime\",\n",
    "    \"drug_type\",\n",
    "    \"drug\",\n",
    "    \"formulary_drug_cd\",\n",
    "    # \"gsn\",\n",
    "    \"ndc\",\n",
    "    \"prod_strength\",\n",
    "    # \"form_rx\",\n",
    "    \"dose_val_rx\",\n",
    "    \"dose_unit_rx\",\n",
    "    \"form_val_disp\",\n",
    "    \"form_unit_disp\",\n",
    "    # \"doses_per_24_hrs\",\n",
    "    \"route\",\n",
    "]\n",
    "table_info(filter_nulls(table, filter_null_cols))"
   ]
  },
  {
   "cell_type": "markdown",
   "metadata": {},
   "source": [
    "## procedures_icd"
   ]
  },
  {
   "cell_type": "code",
   "execution_count": null,
   "metadata": {
    "execution": {
     "iopub.execute_input": "2023-04-09T22:59:08.333227Z",
     "iopub.status.busy": "2023-04-09T22:59:08.332863Z",
     "iopub.status.idle": "2023-04-09T22:59:08.770342Z",
     "shell.execute_reply": "2023-04-09T22:59:08.769640Z",
     "shell.execute_reply.started": "2023-04-09T22:59:08.333214Z"
    },
    "tags": []
   },
   "outputs": [],
   "source": [
    "table = get_table(\n",
    "    \"mimic-iv-2.2/hosp/procedures_icd.csv.gz\",\n",
    "    convert_options=pa.csv.ConvertOptions(\n",
    "        column_types=column_types[\"procedures_icd\"],\n",
    "        strings_can_be_null=True,\n",
    "        null_values=NULL_VALUES,\n",
    "        true_values=TRUE_VALUES,\n",
    "        false_values=FALSE_VALUES,\n",
    "    ),\n",
    ")\n",
    "table_info(table)\n",
    "# sorted(pa.compute.unique(table[\"los\"]).drop_null().to_pylist())"
   ]
  },
  {
   "cell_type": "markdown",
   "metadata": {},
   "source": [
    "## provider"
   ]
  },
  {
   "cell_type": "code",
   "execution_count": null,
   "metadata": {
    "execution": {
     "iopub.execute_input": "2023-04-09T22:59:10.743809Z",
     "iopub.status.busy": "2023-04-09T22:59:10.743537Z",
     "iopub.status.idle": "2023-04-09T22:59:10.933432Z",
     "shell.execute_reply": "2023-04-09T22:59:10.933020Z",
     "shell.execute_reply.started": "2023-04-09T22:59:10.743794Z"
    },
    "tags": []
   },
   "outputs": [],
   "source": [
    "table = get_table(\n",
    "    \"mimic-iv-2.2/hosp/provider.csv.gz\",\n",
    "    convert_options=pa.csv.ConvertOptions(\n",
    "        column_types=column_types[\"provider\"],\n",
    "        null_values=NULL_VALUES,\n",
    "        true_values=TRUE_VALUES,\n",
    "        false_values=FALSE_VALUES,\n",
    "    ),\n",
    ")\n",
    "table_info(table)\n",
    "# sorted(pa.compute.unique(table[\"los\"]).drop_null().to_pylist())"
   ]
  },
  {
   "cell_type": "markdown",
   "metadata": {},
   "source": [
    "## services"
   ]
  },
  {
   "cell_type": "code",
   "execution_count": null,
   "metadata": {
    "execution": {
     "iopub.execute_input": "2023-04-09T22:59:12.796430Z",
     "iopub.status.busy": "2023-04-09T22:59:12.796013Z",
     "iopub.status.idle": "2023-04-09T22:59:13.324833Z",
     "shell.execute_reply": "2023-04-09T22:59:13.324423Z",
     "shell.execute_reply.started": "2023-04-09T22:59:12.796415Z"
    },
    "tags": []
   },
   "outputs": [],
   "source": [
    "table = get_table(\n",
    "    \"mimic-iv-2.2/hosp/services.csv.gz\",\n",
    "    convert_options=pa.csv.ConvertOptions(\n",
    "        column_types=column_types[\"services\"],\n",
    "        strings_can_be_null=True,\n",
    "        null_values=NULL_VALUES,\n",
    "        true_values=TRUE_VALUES,\n",
    "        false_values=FALSE_VALUES,\n",
    "    ),\n",
    ")\n",
    "table_info(table)\n",
    "# sorted(pa.compute.unique(table[\"los\"]).drop_null().to_pylist())"
   ]
  },
  {
   "cell_type": "markdown",
   "metadata": {},
   "source": [
    "## admissions"
   ]
  },
  {
   "cell_type": "code",
   "execution_count": null,
   "metadata": {
    "execution": {
     "iopub.execute_input": "2023-04-09T22:59:55.532535Z",
     "iopub.status.busy": "2023-04-09T22:59:55.532253Z",
     "iopub.status.idle": "2023-04-09T22:59:56.277415Z",
     "shell.execute_reply": "2023-04-09T22:59:56.276905Z",
     "shell.execute_reply.started": "2023-04-09T22:59:55.532519Z"
    },
    "tags": []
   },
   "outputs": [],
   "source": [
    "table = get_table(\n",
    "    \"mimic-iv-2.2/hosp/admissions.csv.gz\",\n",
    "    convert_options=pa.csv.ConvertOptions(\n",
    "        column_types=column_types[\"admissions\"],\n",
    "        strings_can_be_null=True,\n",
    "        null_values=NULL_VALUES,\n",
    "        true_values=TRUE_VALUES,\n",
    "        false_values=FALSE_VALUES,\n",
    "    ),\n",
    ")\n",
    "filter_null_cols = [\"admit_provider_id\"]\n",
    "table_info(table)\n",
    "# sorted(pa.compute.unique(table[\"los\"]).drop_null().to_pylist())"
   ]
  },
  {
   "cell_type": "markdown",
   "metadata": {
    "tags": []
   },
   "source": [
    "## transfers"
   ]
  },
  {
   "cell_type": "code",
   "execution_count": null,
   "metadata": {
    "execution": {
     "iopub.execute_input": "2023-04-09T23:02:09.566168Z",
     "iopub.status.busy": "2023-04-09T23:02:09.565908Z",
     "iopub.status.idle": "2023-04-09T23:02:11.309615Z",
     "shell.execute_reply": "2023-04-09T23:02:11.309169Z",
     "shell.execute_reply.started": "2023-04-09T23:02:09.566154Z"
    },
    "tags": []
   },
   "outputs": [],
   "source": [
    "table = get_table(\n",
    "    \"mimic-iv-2.2/hosp/transfers.csv.gz\",\n",
    "    convert_options=pa.csv.ConvertOptions(\n",
    "        column_types=column_types[\"transfers\"],\n",
    "        strings_can_be_null=True,\n",
    "        null_values=NULL_VALUES,\n",
    "        true_values=TRUE_VALUES,\n",
    "        false_values=FALSE_VALUES,\n",
    "    ),\n",
    ")\n",
    "table_info(table)\n",
    "# sorted(pa.compute.unique(table[\"los\"]).drop_null().to_pylist())"
   ]
  },
  {
   "cell_type": "code",
   "execution_count": null,
   "metadata": {
    "execution": {
     "iopub.status.busy": "2023-04-09T15:45:14.379152Z",
     "iopub.status.idle": "2023-04-09T15:45:14.379293Z",
     "shell.execute_reply": "2023-04-09T15:45:14.379225Z",
     "shell.execute_reply.started": "2023-04-09T15:45:14.379218Z"
    }
   },
   "outputs": [],
   "source": [
    "raise"
   ]
  },
  {
   "cell_type": "markdown",
   "metadata": {},
   "source": [
    "# ICU tables"
   ]
  },
  {
   "cell_type": "markdown",
   "metadata": {},
   "source": [
    "## caregiver"
   ]
  },
  {
   "cell_type": "code",
   "execution_count": null,
   "metadata": {
    "execution": {
     "iopub.execute_input": "2023-04-09T23:39:31.722110Z",
     "iopub.status.busy": "2023-04-09T23:39:31.721838Z",
     "iopub.status.idle": "2023-04-09T23:39:31.801193Z",
     "shell.execute_reply": "2023-04-09T23:39:31.800751Z",
     "shell.execute_reply.started": "2023-04-09T23:39:31.722096Z"
    },
    "tags": []
   },
   "outputs": [],
   "source": [
    "table = get_table(\n",
    "    \"mimic-iv-2.2/icu/caregiver.csv.gz\",\n",
    "    convert_options=pa.csv.ConvertOptions(\n",
    "        column_types=column_types[\"caregiver\"],\n",
    "        strings_can_be_null=True,\n",
    "        null_values=NULL_VALUES,\n",
    "        true_values=TRUE_VALUES,\n",
    "        false_values=FALSE_VALUES,\n",
    "    ),\n",
    ")\n",
    "table_info(table)\n",
    "# sorted(pa.compute.unique(table[\"los\"]).drop_null().to_pylist())"
   ]
  },
  {
   "cell_type": "markdown",
   "metadata": {},
   "source": [
    "## d_items"
   ]
  },
  {
   "cell_type": "code",
   "execution_count": null,
   "metadata": {
    "execution": {
     "iopub.execute_input": "2023-04-09T23:39:34.925121Z",
     "iopub.status.busy": "2023-04-09T23:39:34.924884Z",
     "iopub.status.idle": "2023-04-09T23:39:35.027856Z",
     "shell.execute_reply": "2023-04-09T23:39:35.027434Z",
     "shell.execute_reply.started": "2023-04-09T23:39:34.925108Z"
    },
    "tags": []
   },
   "outputs": [],
   "source": [
    "table = get_table(\n",
    "    \"mimic-iv-2.2/icu/d_items.csv.gz\",\n",
    "    convert_options=pa.csv.ConvertOptions(\n",
    "        column_types=column_types[\"d_items\"],\n",
    "        strings_can_be_null=True,\n",
    "        null_values=NULL_VALUES,\n",
    "        true_values=TRUE_VALUES,\n",
    "        false_values=FALSE_VALUES,\n",
    "    ),\n",
    ")\n",
    "table_info(table)\n",
    "# sorted(pa.compute.unique(table[\"los\"]).drop_null().to_pylist())"
   ]
  },
  {
   "cell_type": "markdown",
   "metadata": {},
   "source": [
    "## icustays"
   ]
  },
  {
   "cell_type": "code",
   "execution_count": null,
   "metadata": {
    "execution": {
     "iopub.execute_input": "2023-04-09T23:39:39.009986Z",
     "iopub.status.busy": "2023-04-09T23:39:39.009753Z",
     "iopub.status.idle": "2023-04-09T23:39:39.160030Z",
     "shell.execute_reply": "2023-04-09T23:39:39.159633Z",
     "shell.execute_reply.started": "2023-04-09T23:39:39.009973Z"
    },
    "tags": []
   },
   "outputs": [],
   "source": [
    "table = get_table(\n",
    "    \"mimic-iv-2.2/icu/icustays.csv.gz\",\n",
    "    convert_options=pa.csv.ConvertOptions(\n",
    "        column_types=column_types[\"icustays\"],\n",
    "        strings_can_be_null=True,\n",
    "        null_values=NULL_VALUES,\n",
    "        true_values=TRUE_VALUES,\n",
    "        false_values=FALSE_VALUES,\n",
    "    ),\n",
    ")\n",
    "table_info(table)\n",
    "# sorted(pa.compute.unique(table[\"los\"]).drop_null().to_pylist())"
   ]
  },
  {
   "cell_type": "markdown",
   "metadata": {
    "tags": []
   },
   "source": [
    "## ingredientevents"
   ]
  },
  {
   "cell_type": "code",
   "execution_count": null,
   "metadata": {
    "execution": {
     "iopub.execute_input": "2023-04-09T23:39:42.924033Z",
     "iopub.status.busy": "2023-04-09T23:39:42.923787Z",
     "iopub.status.idle": "2023-04-09T23:39:53.271592Z",
     "shell.execute_reply": "2023-04-09T23:39:53.270985Z",
     "shell.execute_reply.started": "2023-04-09T23:39:42.924020Z"
    },
    "tags": []
   },
   "outputs": [],
   "source": [
    "table = get_table(\n",
    "    \"mimic-iv-2.2/icu/ingredientevents.csv.gz\",\n",
    "    convert_options=pa.csv.ConvertOptions(\n",
    "        column_types=column_types[\"ingredientevents\"],\n",
    "        strings_can_be_null=True,\n",
    "        null_values=NULL_VALUES,\n",
    "        true_values=TRUE_VALUES,\n",
    "        false_values=FALSE_VALUES,\n",
    "    ),\n",
    ")\n",
    "table_info(table)\n",
    "# sorted(pa.compute.unique(table[\"los\"]).drop_null().to_pylist())"
   ]
  },
  {
   "cell_type": "markdown",
   "metadata": {},
   "source": [
    "## datetimeevents"
   ]
  },
  {
   "cell_type": "code",
   "execution_count": null,
   "metadata": {
    "execution": {
     "iopub.execute_input": "2023-04-09T23:40:30.447582Z",
     "iopub.status.busy": "2023-04-09T23:40:30.447297Z",
     "iopub.status.idle": "2023-04-09T23:40:33.030557Z",
     "shell.execute_reply": "2023-04-09T23:40:33.030103Z",
     "shell.execute_reply.started": "2023-04-09T23:40:30.447565Z"
    },
    "tags": []
   },
   "outputs": [],
   "source": [
    "table = get_table(\n",
    "    \"mimic-iv-2.2/icu/datetimeevents.csv.gz\",\n",
    "    convert_options=pa.csv.ConvertOptions(\n",
    "        column_types=column_types[\"datetimeevents\"],\n",
    "        strings_can_be_null=True,\n",
    "        null_values=NULL_VALUES,\n",
    "        true_values=TRUE_VALUES,\n",
    "        false_values=FALSE_VALUES,\n",
    "    ),\n",
    ")\n",
    "table_info(table)\n",
    "# sorted(pa.compute.unique(table[\"los\"]).drop_null().to_pylist())"
   ]
  },
  {
   "cell_type": "markdown",
   "metadata": {},
   "source": [
    "## Procedureeventes"
   ]
  },
  {
   "cell_type": "code",
   "execution_count": null,
   "metadata": {
    "execution": {
     "iopub.execute_input": "2023-04-18T18:13:37.169936Z",
     "iopub.status.busy": "2023-04-18T18:13:37.169748Z",
     "iopub.status.idle": "2023-04-18T18:13:38.001736Z",
     "shell.execute_reply": "2023-04-18T18:13:38.001386Z",
     "shell.execute_reply.started": "2023-04-18T18:13:37.169924Z"
    },
    "tags": []
   },
   "outputs": [],
   "source": [
    "table = get_table(\n",
    "    \"mimic-iv-2.2/icu/procedureevents.csv.gz\",\n",
    "    convert_options=pa.csv.ConvertOptions(\n",
    "        column_types=column_types[\"procedureevents\"],\n",
    "        strings_can_be_null=True,\n",
    "        null_values=NULL_VALUES,\n",
    "        true_values=TRUE_VALUES,\n",
    "        false_values=FALSE_VALUES,\n",
    "    ),\n",
    ")\n",
    "table = table.set_column(\n",
    "    table.column_names.index(\"storetime\"),\n",
    "    \"storetime\",\n",
    "    table[\"storetime\"].cast(TIME_TYPE, safe=False),\n",
    ")\n",
    "table_info(table)\n",
    "# sorted(pa.compute.unique(table[\"los\"]).drop_null().to_pylist())"
   ]
  },
  {
   "cell_type": "markdown",
   "metadata": {
    "execution": {
     "iopub.execute_input": "2023-04-07T22:42:55.584368Z",
     "iopub.status.busy": "2023-04-07T22:42:55.584085Z",
     "iopub.status.idle": "2023-04-07T22:42:55.618118Z",
     "shell.execute_reply": "2023-04-07T22:42:55.617662Z",
     "shell.execute_reply.started": "2023-04-07T22:42:55.584357Z"
    },
    "tags": []
   },
   "source": [
    "## Inputevents"
   ]
  },
  {
   "cell_type": "code",
   "execution_count": null,
   "metadata": {
    "execution": {
     "iopub.execute_input": "2023-04-09T23:49:28.529834Z",
     "iopub.status.busy": "2023-04-09T23:49:28.529523Z",
     "iopub.status.idle": "2023-04-09T23:49:41.946948Z",
     "shell.execute_reply": "2023-04-09T23:49:41.946360Z",
     "shell.execute_reply.started": "2023-04-09T23:49:28.529814Z"
    },
    "tags": []
   },
   "outputs": [],
   "source": [
    "table = get_table(\n",
    "    \"mimic-iv-2.2/icu/inputevents.csv.gz\",\n",
    "    convert_options=pa.csv.ConvertOptions(\n",
    "        column_types=column_types[\"inputevents\"],\n",
    "        strings_can_be_null=True,\n",
    "        null_values=NULL_VALUES,\n",
    "        true_values=TRUE_VALUES,\n",
    "        false_values=FALSE_VALUES,\n",
    "    ),\n",
    ")\n",
    "table_info(table)\n",
    "# sorted(pa.compute.unique(table[\"los\"]).drop_null().to_pylist())"
   ]
  },
  {
   "cell_type": "markdown",
   "metadata": {},
   "source": [
    "## Outputevents"
   ]
  },
  {
   "cell_type": "code",
   "execution_count": null,
   "metadata": {
    "execution": {
     "iopub.execute_input": "2023-04-09T23:50:19.969867Z",
     "iopub.status.busy": "2023-04-09T23:50:19.969418Z",
     "iopub.status.idle": "2023-04-09T23:50:21.939308Z",
     "shell.execute_reply": "2023-04-09T23:50:21.938890Z",
     "shell.execute_reply.started": "2023-04-09T23:50:19.969842Z"
    },
    "tags": []
   },
   "outputs": [],
   "source": [
    "table = get_table(\n",
    "    \"mimic-iv-2.2/icu/outputevents.csv.gz\",\n",
    "    convert_options=pa.csv.ConvertOptions(\n",
    "        column_types=column_types[\"outputevents\"],\n",
    "        strings_can_be_null=True,\n",
    "        null_values=NULL_VALUES,\n",
    "        true_values=TRUE_VALUES,\n",
    "        false_values=FALSE_VALUES,\n",
    "    ),\n",
    ")\n",
    "table_info(table)\n",
    "# sorted(pa.compute.unique(table[\"los\"]).drop_null().to_pylist())"
   ]
  },
  {
   "cell_type": "markdown",
   "metadata": {},
   "source": [
    "## Chartevents"
   ]
  },
  {
   "cell_type": "code",
   "execution_count": null,
   "metadata": {
    "execution": {
     "iopub.execute_input": "2023-04-18T18:17:23.325414Z",
     "iopub.status.busy": "2023-04-18T18:17:23.325218Z",
     "iopub.status.idle": "2023-04-18T18:18:49.359386Z",
     "shell.execute_reply": "2023-04-18T18:18:49.358883Z",
     "shell.execute_reply.started": "2023-04-18T18:17:23.325400Z"
    },
    "tags": []
   },
   "outputs": [],
   "source": [
    "table = get_table(\n",
    "    \"mimic-iv-2.2/icu/chartevents.csv.gz\",\n",
    "    convert_options=pa.csv.ConvertOptions(\n",
    "        column_types=column_types[\"chartevents\"],\n",
    "        strings_can_be_null=True,\n",
    "        null_values=NULL_VALUES,\n",
    "        true_values=TRUE_VALUES,\n",
    "        false_values=FALSE_VALUES,\n",
    "    ),\n",
    ")\n",
    "table_info(table)\n",
    "# sorted(pa.compute.unique(table[\"los\"]).drop_null().to_pylist())"
   ]
  },
  {
   "cell_type": "markdown",
   "metadata": {
    "execution": {
     "iopub.status.busy": "2023-04-07T22:43:08.043977Z",
     "iopub.status.idle": "2023-04-07T22:43:08.044133Z",
     "shell.execute_reply": "2023-04-07T22:43:08.044057Z",
     "shell.execute_reply.started": "2023-04-07T22:43:08.044050Z"
    },
    "tags": []
   },
   "source": [
    "### drop everything that has no valueuom"
   ]
  },
  {
   "cell_type": "code",
   "execution_count": null,
   "metadata": {
    "execution": {
     "iopub.execute_input": "2023-04-18T18:23:13.896628Z",
     "iopub.status.busy": "2023-04-18T18:23:13.896422Z",
     "iopub.status.idle": "2023-04-18T18:23:23.357473Z",
     "shell.execute_reply": "2023-04-18T18:23:23.356937Z",
     "shell.execute_reply.started": "2023-04-18T18:23:13.896607Z"
    },
    "tags": []
   },
   "outputs": [],
   "source": [
    "table = filter_nulls(table, [\"valueuom\"])\n",
    "table = table.set_column(\n",
    "    table.column_names.index(\"value\"),\n",
    "    \"value\",\n",
    "    pa.compute.cast(table.column(\"value\"), pa.float32()),\n",
    ")\n",
    "table_info(table)"
   ]
  },
  {
   "cell_type": "code",
   "execution_count": null,
   "metadata": {
    "execution": {
     "iopub.execute_input": "2023-04-18T18:40:27.960217Z",
     "iopub.status.busy": "2023-04-18T18:40:27.960054Z",
     "iopub.status.idle": "2023-04-18T18:40:56.718683Z",
     "shell.execute_reply": "2023-04-18T18:40:56.718087Z",
     "shell.execute_reply.started": "2023-04-18T18:40:27.960205Z"
    },
    "tags": []
   },
   "outputs": [],
   "source": [
    "df = pl.from_arrow(table).pivot(index=\"charttime\", columns=\"valueuom\", values=\"value\")"
   ]
  },
  {
   "cell_type": "code",
   "execution_count": null,
   "metadata": {
    "execution": {
     "iopub.execute_input": "2023-04-10T00:20:52.261481Z",
     "iopub.status.busy": "2023-04-10T00:20:52.261360Z",
     "iopub.status.idle": "2023-04-10T00:21:00.176274Z",
     "shell.execute_reply": "2023-04-10T00:21:00.175890Z",
     "shell.execute_reply.started": "2023-04-10T00:20:52.261469Z"
    },
    "tags": []
   },
   "outputs": [],
   "source": [
    "parquet.write_table(table, DATASET_PATH / \"chartevents.parquet\")"
   ]
  },
  {
   "cell_type": "markdown",
   "metadata": {},
   "source": [
    "# with polars"
   ]
  },
  {
   "cell_type": "code",
   "execution_count": null,
   "metadata": {
    "execution": {
     "iopub.status.busy": "2023-04-09T15:45:14.389081Z",
     "iopub.status.idle": "2023-04-09T15:45:14.389228Z",
     "shell.execute_reply": "2023-04-09T15:45:14.389160Z",
     "shell.execute_reply.started": "2023-04-09T15:45:14.389152Z"
    },
    "tags": []
   },
   "outputs": [],
   "source": [
    "import polars as pl\n",
    "\n",
    "with ZipFile(ds.rawdata_paths, \"r\") as file:\n",
    "    if not file.namelist() == filelist:\n",
    "        raise ValueError(\"The dataset contains unknown files!\")\n",
    "\n",
    "\n",
    "def load_gz_table(archive, fname, **options):\n",
    "    with archive.open(str(fname), \"r\") as compressed_file:\n",
    "        with gzip.open(compressed_file, \"r\") as file:\n",
    "            # table = pd.read_csv(file)\n",
    "            # return table\n",
    "            return pl.read_csv(file, **options)\n",
    "            # table = pyarrow.csv.read_csv(file, **options)\n",
    "            # return table\n",
    "\n",
    "\n",
    "def load_txt(archive, fname):\n",
    "    with archive.open(str(fname), \"r\") as file:\n",
    "        return str(file.read(), encoding=\"utf8\")\n",
    "\n",
    "\n",
    "def get_table(fname, **options) -> DataFrame:\n",
    "    fname = Path(fname)\n",
    "    with ZipFile(ds.rawdata_paths, \"r\") as archive:\n",
    "        match fname.suffix:\n",
    "            case \".gz\":\n",
    "                return load_gz_table(archive, fname, **options)\n",
    "            case \".txt\":\n",
    "                return load_txt(archive, fname, **options)\n",
    "            case _:\n",
    "                raise ValueError"
   ]
  },
  {
   "cell_type": "code",
   "execution_count": null,
   "metadata": {
    "execution": {
     "iopub.status.busy": "2023-04-09T15:45:14.389973Z",
     "iopub.status.idle": "2023-04-09T15:45:14.390193Z",
     "shell.execute_reply": "2023-04-09T15:45:14.390091Z",
     "shell.execute_reply.started": "2023-04-09T15:45:14.390080Z"
    },
    "tags": []
   },
   "outputs": [],
   "source": [
    "dtypes = {\n",
    "    \"subject_id\": pl.datatypes.UInt32(),\n",
    "    \"hadm_id\": pl.datatypes.UInt32(),\n",
    "    \"stay_id\": pl.datatypes.UInt32(),\n",
    "    \"itemid\": pl.datatypes.UInt32(),\n",
    "    \"charttime\": pl.datatypes.Datetime(),\n",
    "    \"storetime\": pl.datatypes.Datetime(),\n",
    "    \"value\": pl.datatypes.Utf8(),\n",
    "    \"valuenum\": pl.datatypes.Float32(),\n",
    "    \"valueuom\": pl.datatypes.Utf8(),\n",
    "    \"warning\": pl.datatypes.Boolean(),\n",
    "}\n",
    "\n",
    "\n",
    "table = get_table(\"mimic-iv-1.0/icu/chartevents.csv.gz\", dtypes=dtypes)"
   ]
  },
  {
   "cell_type": "code",
   "execution_count": null,
   "metadata": {},
   "outputs": [],
   "source": []
  }
 ],
 "metadata": {
  "kernelspec": {
   "display_name": "Python 3 (ipykernel)",
   "language": "python",
   "name": "python3"
  },
  "language_info": {
   "codemirror_mode": {
    "name": "ipython",
    "version": 3
   },
   "file_extension": ".py",
   "mimetype": "text/x-python",
   "name": "python",
   "nbconvert_exporter": "python",
   "pygments_lexer": "ipython3",
   "version": "3.11.3"
  }
 },
 "nbformat": 4,
 "nbformat_minor": 4
}
