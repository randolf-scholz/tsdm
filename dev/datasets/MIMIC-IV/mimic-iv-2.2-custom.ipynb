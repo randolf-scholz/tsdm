{
 "cells": [
  {
   "cell_type": "code",
   "execution_count": null,
   "metadata": {
    "tags": []
   },
   "outputs": [],
   "source": [
    "%config InteractiveShell.ast_node_interactivity='last_expr_or_assign'  # always print last expr.\n",
    "%config InlineBackend.figure_format = 'svg'\n",
    "%load_ext autoreload\n",
    "%autoreload 2\n",
    "%matplotlib inline\n",
    "\n",
    "import logging\n",
    "\n",
    "logging.basicConfig(level=logging.INFO)"
   ]
  },
  {
   "cell_type": "code",
   "execution_count": null,
   "metadata": {
    "pycharm": {
     "name": "#%%\n"
    },
    "tags": []
   },
   "outputs": [],
   "source": [
    "import gzip\n",
    "from pathlib import Path\n",
    "from zipfile import ZipFile\n",
    "\n",
    "import pandas as pd\n",
    "import polars as pl\n",
    "import pyarrow as pa\n",
    "from pandas import DataFrame\n",
    "from pyarrow import csv, parquet\n",
    "from tqdm.autonotebook import tqdm"
   ]
  },
  {
   "cell_type": "code",
   "execution_count": null,
   "metadata": {
    "tags": []
   },
   "outputs": [],
   "source": [
    "import tsdm\n",
    "\n",
    "self = tsdm.datasets.MIMIC_IV_RAW(initialize=False)\n",
    "self.table_names\n",
    "\n",
    "RAWDATA_PATH = self.rawdata_paths[f\"mimic-iv-{self.__version__}.zip\"]"
   ]
  },
  {
   "cell_type": "code",
   "execution_count": null,
   "metadata": {
    "tags": []
   },
   "outputs": [],
   "source": [
    "filelist = [\n",
    "    \"mimic-iv-2.2/CHANGELOG.txt\",\n",
    "    \"mimic-iv-2.2/LICENSE.txt\",\n",
    "    \"mimic-iv-2.2/SHA256SUMS.txt\",\n",
    "    \"mimic-iv-2.2/hosp/admissions.csv.gz\",\n",
    "    \"mimic-iv-2.2/hosp/d_hcpcs.csv.gz\",\n",
    "    \"mimic-iv-2.2/hosp/d_icd_diagnoses.csv.gz\",\n",
    "    \"mimic-iv-2.2/hosp/d_icd_procedures.csv.gz\",\n",
    "    \"mimic-iv-2.2/hosp/d_labitems.csv.gz\",\n",
    "    \"mimic-iv-2.2/hosp/diagnoses_icd.csv.gz\",\n",
    "    \"mimic-iv-2.2/hosp/drgcodes.csv.gz\",\n",
    "    \"mimic-iv-2.2/hosp/emar.csv.gz\",\n",
    "    \"mimic-iv-2.2/hosp/emar_detail.csv.gz\",\n",
    "    \"mimic-iv-2.2/hosp/hcpcsevents.csv.gz\",\n",
    "    \"mimic-iv-2.2/hosp/labevents.csv.gz\",\n",
    "    \"mimic-iv-2.2/hosp/microbiologyevents.csv.gz\",\n",
    "    \"mimic-iv-2.2/hosp/omr.csv.gz\",\n",
    "    \"mimic-iv-2.2/hosp/patients.csv.gz\",\n",
    "    \"mimic-iv-2.2/hosp/pharmacy.csv.gz\",\n",
    "    \"mimic-iv-2.2/hosp/poe.csv.gz\",\n",
    "    \"mimic-iv-2.2/hosp/poe_detail.csv.gz\",\n",
    "    \"mimic-iv-2.2/hosp/prescriptions.csv.gz\",\n",
    "    \"mimic-iv-2.2/hosp/procedures_icd.csv.gz\",\n",
    "    \"mimic-iv-2.2/hosp/provider.csv.gz\",\n",
    "    \"mimic-iv-2.2/hosp/services.csv.gz\",\n",
    "    \"mimic-iv-2.2/hosp/transfers.csv.gz\",\n",
    "    \"mimic-iv-2.2/icu/caregiver.csv.gz\",\n",
    "    \"mimic-iv-2.2/icu/chartevents.csv.gz\",\n",
    "    \"mimic-iv-2.2/icu/d_items.csv.gz\",\n",
    "    \"mimic-iv-2.2/icu/datetimeevents.csv.gz\",\n",
    "    \"mimic-iv-2.2/icu/icustays.csv.gz\",\n",
    "    \"mimic-iv-2.2/icu/ingredientevents.csv.gz\",\n",
    "    \"mimic-iv-2.2/icu/inputevents.csv.gz\",\n",
    "    \"mimic-iv-2.2/icu/outputevents.csv.gz\",\n",
    "    \"mimic-iv-2.2/icu/procedureevents.csv.gz\",\n",
    "]\n",
    "\n",
    "with ZipFile(RAWDATA_PATH, \"r\") as file:\n",
    "    a = set(file.namelist())\n",
    "    b = set(filelist)\n",
    "    if not a == b:\n",
    "        raise ValueError(f\"The dataset contains unknown files {a-b}!\")\n",
    "    filesizes = {info.filename: info.file_size for info in file.infolist()}\n",
    "pd.Series({key: filesizes[key] for key in sorted(filesizes, key=filesizes.get)})"
   ]
  },
  {
   "cell_type": "code",
   "execution_count": null,
   "metadata": {
    "tags": []
   },
   "outputs": [],
   "source": [
    "from tsdm.datasets.schema.mimic_iv import (\n",
    "    FALSE_VALUES,\n",
    "    NULL_VALUES,\n",
    "    SCHEMAS,\n",
    "    TRUE_VALUES,\n",
    ")\n",
    "\n",
    "TYPES_MAP = {\n",
    "    \"int64[pyarrow]\": \"ID_TYPE\",\n",
    "    \"string[pyarrow]\": \"STRING_TYPE\",\n",
    "    \"timestamp[s][pyarrow]\": \"TIME_TYPE\",\n",
    "    \"double[pyarrow]\": \"VALUE_TYPE\",\n",
    "}"
   ]
  },
  {
   "cell_type": "code",
   "execution_count": null,
   "metadata": {
    "tags": []
   },
   "outputs": [],
   "source": [
    "from tsdm.utils.data import cast_columns, filter_nulls, table_info\n",
    "\n",
    "\n",
    "def load_pandas(fname, **kwargs):\n",
    "    with ZipFile(RAWDATA_PATH, \"r\") as archive:\n",
    "        with archive.open(fname) as file:\n",
    "            options = {\n",
    "                \"dtype_backend\": \"pyarrow\",\n",
    "                \"compression\": \"gzip\",\n",
    "            } | kwargs\n",
    "            return pd.read_csv(file, **options)\n",
    "\n",
    "\n",
    "def load_gz_table(archive, fname, **options):\n",
    "    with archive.open(str(fname), \"r\") as compressed_file:\n",
    "        with gzip.open(compressed_file, \"r\") as file:\n",
    "            # table = pd.read_csv(file)\n",
    "            # return table\n",
    "            table = csv.read_csv(file, **options)\n",
    "            return table\n",
    "\n",
    "\n",
    "def load_txt(archive, fname):\n",
    "    with archive.open(str(fname), \"r\") as file:\n",
    "        return str(file.read(), encoding=\"utf8\")\n",
    "\n",
    "\n",
    "def get_table(fname, **options) -> DataFrame:\n",
    "    fname = Path(fname)\n",
    "    with ZipFile(RAWDATA_PATH, \"r\") as archive:\n",
    "        match fname.suffix:\n",
    "            case \".gz\":\n",
    "                return load_gz_table(archive, fname, **options)\n",
    "            case \".txt\":\n",
    "                return load_txt(archive, fname, **options)\n",
    "            case _:\n",
    "                raise ValueError\n",
    "\n",
    "\n",
    "def get_types(table):\n",
    "    return table.to_pandas(types_mapper=pd.ArrowDtype).dtypes.astype(str).map(TYPES_MAP)"
   ]
  },
  {
   "cell_type": "code",
   "execution_count": null,
   "metadata": {
    "tags": []
   },
   "outputs": [],
   "source": [
    "ID_TYPE = pa.uint32()\n",
    "VALUE_TYPE = pa.float32()\n",
    "TIME_TYPE = pa.timestamp(\"s\")\n",
    "DATE_TYPE = pa.date32()\n",
    "BOOL_TYPE = pa.bool_()\n",
    "STRING_TYPE = pa.string()\n",
    "DICT_TYPE = pa.dictionary(pa.int32(), pa.string())\n",
    "NULL_TYPE = pa.null()\n",
    "TEXT_TYPE = pa.large_utf8()"
   ]
  },
  {
   "cell_type": "markdown",
   "metadata": {},
   "source": [
    "# metadata"
   ]
  },
  {
   "cell_type": "code",
   "execution_count": null,
   "metadata": {
    "tags": []
   },
   "outputs": [],
   "source": [
    "r = get_table(\n",
    "    \"mimic-iv-2.2/SHA256SUMS.txt\",\n",
    ")\n",
    "print(r)"
   ]
  },
  {
   "cell_type": "markdown",
   "metadata": {},
   "source": [
    "# HOSP Tables"
   ]
  },
  {
   "cell_type": "markdown",
   "metadata": {},
   "source": [
    "## admissions"
   ]
  },
  {
   "cell_type": "code",
   "execution_count": null,
   "metadata": {
    "tags": []
   },
   "outputs": [],
   "source": [
    "table = get_table(\n",
    "    \"mimic-iv-2.2/hosp/admissions.csv.gz\",\n",
    "    convert_options=pa.csv.ConvertOptions(\n",
    "        column_types=SCHEMAS[\"admissions\"],\n",
    "        strings_can_be_null=True,\n",
    "        null_values=NULL_VALUES,\n",
    "        true_values=TRUE_VALUES,\n",
    "        false_values=FALSE_VALUES,\n",
    "    ),\n",
    ").combine_chunks()\n",
    "table_info(table)"
   ]
  },
  {
   "cell_type": "markdown",
   "metadata": {},
   "source": [
    "## d_hcpcs"
   ]
  },
  {
   "cell_type": "code",
   "execution_count": null,
   "metadata": {
    "tags": []
   },
   "outputs": [],
   "source": [
    "table = get_table(\n",
    "    \"mimic-iv-2.2/hosp/d_hcpcs.csv.gz\",\n",
    "    convert_options=pa.csv.ConvertOptions(\n",
    "        column_types=SCHEMAS[\"d_hcpcs\"],\n",
    "        strings_can_be_null=True,\n",
    "        null_values=NULL_VALUES,\n",
    "        true_values=TRUE_VALUES,\n",
    "        false_values=FALSE_VALUES,\n",
    "    ),\n",
    ").combine_chunks()\n",
    "table_info(table)"
   ]
  },
  {
   "cell_type": "markdown",
   "metadata": {},
   "source": [
    "## d_icd_diagnoses"
   ]
  },
  {
   "cell_type": "code",
   "execution_count": null,
   "metadata": {
    "tags": []
   },
   "outputs": [],
   "source": [
    "table = get_table(\n",
    "    \"mimic-iv-2.2/hosp/d_icd_diagnoses.csv.gz\",\n",
    "    convert_options=pa.csv.ConvertOptions(\n",
    "        column_types=SCHEMAS[\"d_icd_diagnoses\"],\n",
    "        strings_can_be_null=True,\n",
    "        null_values=NULL_VALUES,\n",
    "        true_values=TRUE_VALUES,\n",
    "        false_values=FALSE_VALUES,\n",
    "    ),\n",
    ").combine_chunks()\n",
    "table_info(table)"
   ]
  },
  {
   "cell_type": "markdown",
   "metadata": {},
   "source": [
    "## d_icd_procedures"
   ]
  },
  {
   "cell_type": "code",
   "execution_count": null,
   "metadata": {
    "tags": []
   },
   "outputs": [],
   "source": [
    "table = get_table(\n",
    "    \"mimic-iv-2.2/hosp/d_icd_procedures.csv.gz\",\n",
    "    convert_options=pa.csv.ConvertOptions(\n",
    "        # column_types=SCHEMAS[\"d_icd_procedures\"],\n",
    "        strings_can_be_null=True,\n",
    "        null_values=NULL_VALUES,\n",
    "        true_values=TRUE_VALUES,\n",
    "        false_values=FALSE_VALUES,\n",
    "    ),\n",
    ").combine_chunks()\n",
    "table_info(table)"
   ]
  },
  {
   "cell_type": "markdown",
   "metadata": {},
   "source": [
    "## d_labitems"
   ]
  },
  {
   "cell_type": "code",
   "execution_count": null,
   "metadata": {
    "tags": []
   },
   "outputs": [],
   "source": [
    "table = get_table(\n",
    "    \"mimic-iv-2.2/hosp/d_labitems.csv.gz\",\n",
    "    convert_options=pa.csv.ConvertOptions(\n",
    "        column_types=SCHEMAS[\"d_labitems\"],\n",
    "        strings_can_be_null=True,\n",
    "        null_values=NULL_VALUES,\n",
    "        true_values=TRUE_VALUES,\n",
    "        false_values=FALSE_VALUES,\n",
    "    ),\n",
    ").combine_chunks()\n",
    "null_cols = [\"label\"]\n",
    "table_info(table)"
   ]
  },
  {
   "cell_type": "markdown",
   "metadata": {},
   "source": [
    "## diagnoses_icd"
   ]
  },
  {
   "cell_type": "code",
   "execution_count": null,
   "metadata": {
    "tags": []
   },
   "outputs": [],
   "source": [
    "table = get_table(\n",
    "    \"mimic-iv-2.2/hosp/diagnoses_icd.csv.gz\",\n",
    "    convert_options=pa.csv.ConvertOptions(\n",
    "        column_types=SCHEMAS[\"diagnoses_icd\"],\n",
    "        strings_can_be_null=True,\n",
    "        null_values=NULL_VALUES,\n",
    "        true_values=TRUE_VALUES,\n",
    "        false_values=FALSE_VALUES,\n",
    "    ),\n",
    ").combine_chunks()\n",
    "table_info(table)"
   ]
  },
  {
   "cell_type": "markdown",
   "metadata": {},
   "source": [
    "## drgcodes"
   ]
  },
  {
   "cell_type": "code",
   "execution_count": null,
   "metadata": {
    "tags": []
   },
   "outputs": [],
   "source": [
    "table = get_table(\n",
    "    \"mimic-iv-2.2/hosp/drgcodes.csv.gz\",\n",
    "    convert_options=pa.csv.ConvertOptions(\n",
    "        column_types=SCHEMAS[\"drgcodes\"],\n",
    "        strings_can_be_null=True,\n",
    "        null_values=NULL_VALUES,\n",
    "        true_values=TRUE_VALUES,\n",
    "        false_values=FALSE_VALUES,\n",
    "    ),\n",
    ").combine_chunks()\n",
    "table_info(table)"
   ]
  },
  {
   "cell_type": "markdown",
   "metadata": {},
   "source": [
    "## emar"
   ]
  },
  {
   "cell_type": "code",
   "execution_count": null,
   "metadata": {
    "tags": []
   },
   "outputs": [],
   "source": [
    "table = get_table(\n",
    "    \"mimic-iv-2.2/hosp/emar.csv.gz\",\n",
    "    convert_options=pa.csv.ConvertOptions(\n",
    "        column_types=SCHEMAS[\"emar\"],\n",
    "        strings_can_be_null=True,\n",
    "        null_values=NULL_VALUES,\n",
    "        true_values=TRUE_VALUES,\n",
    "        false_values=FALSE_VALUES,\n",
    "    ),\n",
    ").combine_chunks()\n",
    "table_info(table)"
   ]
  },
  {
   "cell_type": "code",
   "execution_count": null,
   "metadata": {
    "tags": []
   },
   "outputs": [],
   "source": [
    "table = filter_nulls(table, [\"hadm_id\", \"scheduletime\"])\n",
    "table_info(table)"
   ]
  },
  {
   "cell_type": "markdown",
   "metadata": {},
   "source": [
    "## emar_detail"
   ]
  },
  {
   "cell_type": "code",
   "execution_count": null,
   "metadata": {
    "tags": []
   },
   "outputs": [],
   "source": [
    "table = get_table(\n",
    "    \"mimic-iv-2.2/hosp/emar_detail.csv.gz\",\n",
    "    convert_options=pa.csv.ConvertOptions(\n",
    "        column_types=SCHEMAS[\"emar_detail\"],\n",
    "        strings_can_be_null=True,\n",
    "        null_values=NULL_VALUES,\n",
    "        true_values=TRUE_VALUES,\n",
    "        false_values=FALSE_VALUES,\n",
    "    ),\n",
    ").combine_chunks()\n",
    "table_info(table)"
   ]
  },
  {
   "cell_type": "code",
   "execution_count": null,
   "metadata": {
    "tags": []
   },
   "outputs": [],
   "source": [
    "recast_columns = {\n",
    "    \"dose_due\": VALUE_TYPE,\n",
    "    \"dose_given\": VALUE_TYPE,\n",
    "    \"product_amount_given\": VALUE_TYPE,\n",
    "    \"prior_infusion_rate\": VALUE_TYPE,\n",
    "    \"infusion_rate\": VALUE_TYPE,\n",
    "    \"infusion_rate_adjustment_amount\": VALUE_TYPE,\n",
    "}\n",
    "\n",
    "for col in recast_columns:\n",
    "    array = pa.compute.utf8_trim_whitespace(table[col])\n",
    "\n",
    "    prior_null = pa.compute.is_null(array)\n",
    "    post_null = pa.compute.is_null(\n",
    "        pa.Array.from_pandas(\n",
    "            pd.to_numeric(\n",
    "                pd.Series(array, dtype=\"string[pyarrow]\"),\n",
    "                errors=\"coerce\",\n",
    "                dtype_backend=\"pyarrow\",\n",
    "                downcast=pa.float32(),\n",
    "            )\n",
    "        )\n",
    "    )\n",
    "\n",
    "    # mask the values that were initially null or can be cast to float.\n",
    "    mask = pa.compute.or_(\n",
    "        prior_null,\n",
    "        pa.compute.invert(post_null),\n",
    "    )\n",
    "    dropped = 1 - pa.compute.mean(mask).as_py()\n",
    "    print(f\"Dropping {dropped:.4%} of rows: {col} can't be cast to float!\")\n",
    "    table = table.filter(mask)\n",
    "    table = table.set_column(\n",
    "        table.column_names.index(col),\n",
    "        col,\n",
    "        pa.compute.cast(\n",
    "            array.filter(mask),\n",
    "            pa.float32(),\n",
    "        ),\n",
    "    )\n",
    "table_info(table)"
   ]
  },
  {
   "cell_type": "markdown",
   "metadata": {},
   "source": [
    "## hcpcsevents"
   ]
  },
  {
   "cell_type": "code",
   "execution_count": null,
   "metadata": {
    "tags": []
   },
   "outputs": [],
   "source": [
    "table = get_table(\n",
    "    \"mimic-iv-2.2/hosp/hcpcsevents.csv.gz\",\n",
    "    convert_options=pa.csv.ConvertOptions(\n",
    "        column_types=SCHEMAS[\"hcpcsevents\"],\n",
    "        strings_can_be_null=True,\n",
    "        null_values=NULL_VALUES,\n",
    "        true_values=TRUE_VALUES,\n",
    "        false_values=FALSE_VALUES,\n",
    "    ),\n",
    ").combine_chunks()\n",
    "table_info(table)"
   ]
  },
  {
   "cell_type": "markdown",
   "metadata": {},
   "source": [
    "## Labevents"
   ]
  },
  {
   "cell_type": "code",
   "execution_count": null,
   "metadata": {
    "tags": []
   },
   "outputs": [],
   "source": [
    "table = get_table(\n",
    "    \"mimic-iv-2.2/hosp/labevents.csv.gz\",\n",
    "    convert_options=pa.csv.ConvertOptions(\n",
    "        column_types=SCHEMAS[\"labevents\"],\n",
    "        strings_can_be_null=True,\n",
    "        null_values=NULL_VALUES,\n",
    "        true_values=TRUE_VALUES,\n",
    "        false_values=FALSE_VALUES,\n",
    "    ),\n",
    ").combine_chunks()\n",
    "table_info(table)"
   ]
  },
  {
   "cell_type": "code",
   "execution_count": null,
   "metadata": {
    "tags": []
   },
   "outputs": [],
   "source": [
    "table = filter_nulls(table, \"hadm_id\", \"storetime\")\n",
    "table = filter_nulls(table, \"value\", \"valuenum\", \"valueuom\")\n",
    "table = cast_columns(table, value=\"float32\")\n",
    "assert table[\"value\"] == table[\"valuenum\"]\n",
    "table = table.drop(\"valuenum\")\n",
    "table_info(table)"
   ]
  },
  {
   "cell_type": "markdown",
   "metadata": {},
   "source": [
    "## microbiologyevents"
   ]
  },
  {
   "cell_type": "code",
   "execution_count": null,
   "metadata": {
    "tags": []
   },
   "outputs": [],
   "source": [
    "table = get_table(\n",
    "    \"mimic-iv-2.2/hosp/microbiologyevents.csv.gz\",\n",
    "    convert_options=pa.csv.ConvertOptions(\n",
    "        column_types=SCHEMAS[\"microbiologyevents\"],\n",
    "        strings_can_be_null=True,\n",
    "        null_values=NULL_VALUES,\n",
    "        true_values=TRUE_VALUES,\n",
    "        false_values=FALSE_VALUES,\n",
    "    ),\n",
    ")\n",
    "null_cols = [\"storedate\", \"storetime\", \"spec_type_desc\"]\n",
    "table_info(table)\n",
    "# sorted(pa.compute.unique(table[\"los\"]).drop_null().to_pylist())"
   ]
  },
  {
   "cell_type": "markdown",
   "metadata": {},
   "source": [
    "### Check dilution"
   ]
  },
  {
   "cell_type": "code",
   "execution_count": null,
   "metadata": {
    "tags": []
   },
   "outputs": [],
   "source": [
    "dilution = table[\"dilution_text\"]\n",
    "dilution = pa.compute.replace_substring(dilution, \"<\", \"\")\n",
    "dilution = pa.compute.replace_substring(dilution, \">\", \"\")\n",
    "dilution = pa.compute.replace_substring(dilution, \"=\", \"\")\n",
    "dilution = pa.compute.cast(dilution, pa.float32())\n",
    "assert (\n",
    "    pa.compute.all(\n",
    "        pa.compute.equal(dilution, table[\"dilution_value\"]).drop_null()\n",
    "    ).as_py()\n",
    "    is True\n",
    ")"
   ]
  },
  {
   "cell_type": "markdown",
   "metadata": {},
   "source": [
    "## omr"
   ]
  },
  {
   "cell_type": "code",
   "execution_count": null,
   "metadata": {
    "tags": []
   },
   "outputs": [],
   "source": [
    "table = get_table(\n",
    "    \"mimic-iv-2.2/hosp/omr.csv.gz\",\n",
    "    convert_options=pa.csv.ConvertOptions(\n",
    "        column_types=SCHEMAS[\"omr\"],\n",
    "        strings_can_be_null=True,\n",
    "        null_values=NULL_VALUES,\n",
    "        true_values=TRUE_VALUES,\n",
    "        false_values=FALSE_VALUES,\n",
    "    ),\n",
    ").combine_chunks()\n",
    "table_info(table)"
   ]
  },
  {
   "cell_type": "markdown",
   "metadata": {
    "tags": []
   },
   "source": [
    "### split results_value (two values stored for blood pressure)"
   ]
  },
  {
   "cell_type": "code",
   "execution_count": null,
   "metadata": {
    "tags": []
   },
   "outputs": [],
   "source": [
    "table = table.set_column(\n",
    "    table.column_names.index(\"result_value\"),\n",
    "    \"result_value\",\n",
    "    pa.compute.split_pattern(table[\"result_value\"], \"/\"),\n",
    ")\n",
    "\n",
    "df = table.to_pandas().pivot(\n",
    "    index=[\"subject_id\", \"seq_num\", \"chartdate\"],\n",
    "    columns=\"result_name\",\n",
    "    values=\"result_value\",\n",
    ")"
   ]
  },
  {
   "cell_type": "code",
   "execution_count": null,
   "metadata": {
    "tags": []
   },
   "outputs": [],
   "source": [
    "for col in (pbar := tqdm(df.columns)):\n",
    "    pbar.set_postfix(column=f\"{col!r}\")\n",
    "    s = df.pop(col).copy()\n",
    "    m = s.isna()\n",
    "    s.loc[m] = [[]] * m.sum()\n",
    "    columns = (\n",
    "        [f\"{col} (systolic)\", f\"{col} (diastolic)\"]\n",
    "        if \"blood pressure\" in col.lower()\n",
    "        else [col]\n",
    "    )\n",
    "    dtype = \"float[pyarrow]\" if col != \"eGFR\" else \"string[pyarrow]\"\n",
    "    frame = pd.DataFrame(s.to_list(), columns=columns, index=s.index, dtype=dtype)\n",
    "    # for new_col in frame:\n",
    "    df[columns] = frame\n",
    "    # [new_col]#.astype(\"float[pyarrow]\")  # required due to \"Weight (Lbs)\"\n",
    "    # contains bad data: 210237760.0, the nearest float is 210237758.0"
   ]
  },
  {
   "cell_type": "code",
   "execution_count": null,
   "metadata": {
    "tags": []
   },
   "outputs": [],
   "source": [
    "table = pa.Table.from_pandas(df.dropna(how=\"all\").reset_index())\n",
    "table_info(table)"
   ]
  },
  {
   "cell_type": "markdown",
   "metadata": {},
   "source": [
    "## patients"
   ]
  },
  {
   "cell_type": "code",
   "execution_count": null,
   "metadata": {
    "tags": []
   },
   "outputs": [],
   "source": [
    "table = get_table(\n",
    "    \"mimic-iv-2.2/hosp/patients.csv.gz\",\n",
    "    convert_options=pa.csv.ConvertOptions(\n",
    "        column_types=SCHEMAS[\"patients\"],\n",
    "        strings_can_be_null=True,\n",
    "        null_values=NULL_VALUES,\n",
    "        true_values=TRUE_VALUES,\n",
    "        false_values=FALSE_VALUES,\n",
    "    ),\n",
    ").combine_chunks()\n",
    "table_info(table)"
   ]
  },
  {
   "cell_type": "markdown",
   "metadata": {},
   "source": [
    "## pharmacy"
   ]
  },
  {
   "cell_type": "code",
   "execution_count": null,
   "metadata": {
    "tags": []
   },
   "outputs": [],
   "source": [
    "table = get_table(\n",
    "    \"mimic-iv-2.2/hosp/pharmacy.csv.gz\",\n",
    "    convert_options=pa.csv.ConvertOptions(\n",
    "        column_types=SCHEMAS[\"pharmacy\"],\n",
    "        strings_can_be_null=True,\n",
    "        null_values=NULL_VALUES,\n",
    "        true_values=TRUE_VALUES,\n",
    "        false_values=FALSE_VALUES,\n",
    "    ),\n",
    ").combine_chunks()\n",
    "table_info(table)"
   ]
  },
  {
   "cell_type": "code",
   "execution_count": null,
   "metadata": {
    "tags": []
   },
   "outputs": [],
   "source": [
    "null_cols = [\n",
    "    \"subject_id\",\n",
    "    \"hadm_id\",\n",
    "    \"pharmacy_id\",\n",
    "    \"poe_id\",\n",
    "    \"starttime\",\n",
    "    \"stoptime\",\n",
    "    \"medication\",\n",
    "    \"proc_type\",\n",
    "    \"status\",\n",
    "    \"entertime\",\n",
    "    \"verifiedtime\",\n",
    "    \"route\",\n",
    "    \"frequency\",\n",
    "    # \"disp_sched\",\n",
    "    # \"infusion_type\",\n",
    "    # \"sliding_scale\",\n",
    "    # \"lockout_interval\",\n",
    "    # \"basal_rate\",\n",
    "    # \"one_hr_max\",\n",
    "    # \"doses_per_24_hrs\",\n",
    "    # \"duration\",\n",
    "    \"duration_interval\",\n",
    "    # \"expiration_value\",\n",
    "    \"expiration_unit\",\n",
    "    # \"expirationdate\",\n",
    "    \"dispensation\",\n",
    "    # \"fill_quantity\",\n",
    "]\n",
    "table_info(filter_nulls(table, null_cols))"
   ]
  },
  {
   "cell_type": "markdown",
   "metadata": {},
   "source": [
    "## poe"
   ]
  },
  {
   "cell_type": "code",
   "execution_count": null,
   "metadata": {
    "tags": []
   },
   "outputs": [],
   "source": [
    "table = get_table(\n",
    "    \"mimic-iv-2.2/hosp/poe.csv.gz\",\n",
    "    convert_options=pa.csv.ConvertOptions(\n",
    "        column_types=SCHEMAS[\"poe\"],\n",
    "        strings_can_be_null=True,\n",
    "        null_values=NULL_VALUES,\n",
    "        true_values=TRUE_VALUES,\n",
    "        false_values=FALSE_VALUES,\n",
    "    ),\n",
    ").combine_chunks()\n",
    "table_info(table)"
   ]
  },
  {
   "cell_type": "markdown",
   "metadata": {},
   "source": [
    "## poe_detail"
   ]
  },
  {
   "cell_type": "code",
   "execution_count": null,
   "metadata": {
    "tags": []
   },
   "outputs": [],
   "source": [
    "table = get_table(\n",
    "    \"mimic-iv-2.2/hosp/poe_detail.csv.gz\",\n",
    "    convert_options=pa.csv.ConvertOptions(\n",
    "        column_types=SCHEMAS[\"poe_detail\"],\n",
    "        strings_can_be_null=True,\n",
    "        null_values=NULL_VALUES,\n",
    "        true_values=TRUE_VALUES,\n",
    "        false_values=FALSE_VALUES,\n",
    "    ),\n",
    ").combine_chunks()\n",
    "table_info(table)"
   ]
  },
  {
   "cell_type": "markdown",
   "metadata": {},
   "source": [
    "### unstack fields"
   ]
  },
  {
   "cell_type": "code",
   "execution_count": null,
   "metadata": {
    "tags": []
   },
   "outputs": [],
   "source": [
    "unstacked_dtypes = {\n",
    "    # fmt: off\n",
    "    \"Admit category\":      DICT_TYPE,\n",
    "    \"Admit to\":            DICT_TYPE,\n",
    "    \"Code status\":         DICT_TYPE,\n",
    "    \"Consult Status\":      DICT_TYPE,\n",
    "    \"Consult Status Time\": TIME_TYPE,\n",
    "    \"Discharge Planning\":  DICT_TYPE,\n",
    "    \"Discharge When\":      DICT_TYPE,\n",
    "    \"Indication\":          DICT_TYPE,\n",
    "    \"Level of Urgency\":    DICT_TYPE,\n",
    "    \"Transfer to\":         DICT_TYPE,\n",
    "    \"Tubes & Drains type\": DICT_TYPE,\n",
    "    # fmt: on\n",
    "}\n",
    "\n",
    "unstacked_dtypes = {k: pd.ArrowDtype(v) for k, v in unstacked_dtypes.items()}\n",
    "\n",
    "df = (\n",
    "    table.to_pandas(types_mapper=pd.ArrowDtype)\n",
    "    .pivot(\n",
    "        index=[\"poe_id\", \"poe_seq\", \"subject_id\"],\n",
    "        columns=\"field_name\",\n",
    "        values=\"field_value\",\n",
    "    )\n",
    "    .reset_index()\n",
    ")\n",
    "table2 = pa.Table.from_pandas(df)\n",
    "table_info(table2)"
   ]
  },
  {
   "cell_type": "markdown",
   "metadata": {},
   "source": [
    "## prescriptions"
   ]
  },
  {
   "cell_type": "code",
   "execution_count": null,
   "metadata": {
    "tags": []
   },
   "outputs": [],
   "source": [
    "table = get_table(\n",
    "    \"mimic-iv-2.2/hosp/prescriptions.csv.gz\",\n",
    "    convert_options=pa.csv.ConvertOptions(\n",
    "        column_types=SCHEMAS[\"prescriptions\"],\n",
    "        strings_can_be_null=True,\n",
    "        null_values=NULL_VALUES,\n",
    "        true_values=TRUE_VALUES,\n",
    "        false_values=FALSE_VALUES,\n",
    "    ),\n",
    ").combine_chunks()\n",
    "table_info(table)"
   ]
  },
  {
   "cell_type": "markdown",
   "metadata": {},
   "source": [
    "### drop val columns that are not float"
   ]
  },
  {
   "cell_type": "code",
   "execution_count": null,
   "metadata": {
    "tags": []
   },
   "outputs": [],
   "source": [
    "table = table.set_column(\n",
    "    table.column_names.index(\"dose_val_rx\"),\n",
    "    \"dose_val_rx\",\n",
    "    pa.Array.from_pandas(\n",
    "        pd.to_numeric(\n",
    "            pd.Series(table[\"dose_val_rx\"]),\n",
    "            errors=\"coerce\",\n",
    "            dtype_backend=\"pyarrow\",\n",
    "            downcast=pa.float32(),\n",
    "        )\n",
    "    ),\n",
    ")\n",
    "table = table.set_column(\n",
    "    table.column_names.index(\"form_val_disp\"),\n",
    "    \"form_val_disp\",\n",
    "    pa.Array.from_pandas(\n",
    "        pd.to_numeric(\n",
    "            pd.Series(table[\"form_val_disp\"]),\n",
    "            errors=\"coerce\",\n",
    "            dtype_backend=\"pyarrow\",\n",
    "            downcast=pa.float32(),\n",
    "        )\n",
    "    ),\n",
    ")\n",
    "table_info(table)"
   ]
  },
  {
   "cell_type": "code",
   "execution_count": null,
   "metadata": {
    "tags": []
   },
   "outputs": [],
   "source": [
    "filter_null_cols = [\n",
    "    \"subject_id\",\n",
    "    \"hadm_id\",\n",
    "    \"pharmacy_id\",\n",
    "    \"poe_id\",\n",
    "    \"poe_seq\",\n",
    "    \"order_provider_id\",\n",
    "    \"starttime\",\n",
    "    \"stoptime\",\n",
    "    \"drug_type\",\n",
    "    \"drug\",\n",
    "    \"formulary_drug_cd\",\n",
    "    # \"gsn\",\n",
    "    \"ndc\",\n",
    "    \"prod_strength\",\n",
    "    # \"form_rx\",\n",
    "    \"dose_val_rx\",\n",
    "    \"dose_unit_rx\",\n",
    "    \"form_val_disp\",\n",
    "    \"form_unit_disp\",\n",
    "    # \"doses_per_24_hrs\",\n",
    "    \"route\",\n",
    "]\n",
    "table_info(filter_nulls(table, filter_null_cols))"
   ]
  },
  {
   "cell_type": "markdown",
   "metadata": {},
   "source": [
    "## procedures_icd"
   ]
  },
  {
   "cell_type": "code",
   "execution_count": null,
   "metadata": {
    "tags": []
   },
   "outputs": [],
   "source": [
    "table = get_table(\n",
    "    \"mimic-iv-2.2/hosp/procedures_icd.csv.gz\",\n",
    "    convert_options=pa.csv.ConvertOptions(\n",
    "        column_types=SCHEMAS[\"procedures_icd\"],\n",
    "        strings_can_be_null=True,\n",
    "        null_values=NULL_VALUES,\n",
    "        true_values=TRUE_VALUES,\n",
    "        false_values=FALSE_VALUES,\n",
    "    ),\n",
    ").combine_chunks()\n",
    "table_info(table)"
   ]
  },
  {
   "cell_type": "markdown",
   "metadata": {},
   "source": [
    "## provider"
   ]
  },
  {
   "cell_type": "code",
   "execution_count": null,
   "metadata": {
    "tags": []
   },
   "outputs": [],
   "source": [
    "table = get_table(\n",
    "    \"mimic-iv-2.2/hosp/provider.csv.gz\",\n",
    "    convert_options=pa.csv.ConvertOptions(\n",
    "        column_types=SCHEMAS[\"provider\"],\n",
    "        null_values=NULL_VALUES,\n",
    "        true_values=TRUE_VALUES,\n",
    "        false_values=FALSE_VALUES,\n",
    "    ),\n",
    ").combine_chunks()\n",
    "table_info(table)"
   ]
  },
  {
   "cell_type": "markdown",
   "metadata": {},
   "source": [
    "## services"
   ]
  },
  {
   "cell_type": "code",
   "execution_count": null,
   "metadata": {
    "tags": []
   },
   "outputs": [],
   "source": [
    "table = get_table(\n",
    "    \"mimic-iv-2.2/hosp/services.csv.gz\",\n",
    "    convert_options=pa.csv.ConvertOptions(\n",
    "        column_types=SCHEMAS[\"services\"],\n",
    "        strings_can_be_null=True,\n",
    "        null_values=NULL_VALUES,\n",
    "        true_values=TRUE_VALUES,\n",
    "        false_values=FALSE_VALUES,\n",
    "    ),\n",
    ").combine_chunks()\n",
    "table_info(table)"
   ]
  },
  {
   "cell_type": "markdown",
   "metadata": {
    "tags": []
   },
   "source": [
    "## transfers"
   ]
  },
  {
   "cell_type": "code",
   "execution_count": null,
   "metadata": {
    "tags": []
   },
   "outputs": [],
   "source": [
    "table = get_table(\n",
    "    \"mimic-iv-2.2/hosp/transfers.csv.gz\",\n",
    "    convert_options=pa.csv.ConvertOptions(\n",
    "        column_types=SCHEMAS[\"transfers\"],\n",
    "        strings_can_be_null=True,\n",
    "        null_values=NULL_VALUES,\n",
    "        true_values=TRUE_VALUES,\n",
    "        false_values=FALSE_VALUES,\n",
    "    ),\n",
    ").combine_chunks()\n",
    "table_info(table)"
   ]
  },
  {
   "cell_type": "markdown",
   "metadata": {},
   "source": [
    "# ICU tables"
   ]
  },
  {
   "cell_type": "markdown",
   "metadata": {},
   "source": [
    "## caregiver"
   ]
  },
  {
   "cell_type": "code",
   "execution_count": null,
   "metadata": {
    "tags": []
   },
   "outputs": [],
   "source": [
    "table = get_table(\n",
    "    \"mimic-iv-2.2/icu/caregiver.csv.gz\",\n",
    "    convert_options=pa.csv.ConvertOptions(\n",
    "        column_types=SCHEMAS[\"caregiver\"],\n",
    "        strings_can_be_null=True,\n",
    "        null_values=NULL_VALUES,\n",
    "        true_values=TRUE_VALUES,\n",
    "        false_values=FALSE_VALUES,\n",
    "    ),\n",
    ").combine_chunks()\n",
    "table_info(table)"
   ]
  },
  {
   "cell_type": "markdown",
   "metadata": {},
   "source": [
    "## d_items"
   ]
  },
  {
   "cell_type": "code",
   "execution_count": null,
   "metadata": {
    "tags": []
   },
   "outputs": [],
   "source": [
    "table = get_table(\n",
    "    \"mimic-iv-2.2/icu/d_items.csv.gz\",\n",
    "    convert_options=pa.csv.ConvertOptions(\n",
    "        column_types=SCHEMAS[\"d_items\"],\n",
    "        strings_can_be_null=True,\n",
    "        null_values=NULL_VALUES,\n",
    "        true_values=TRUE_VALUES,\n",
    "        false_values=FALSE_VALUES,\n",
    "    ),\n",
    ").combine_chunks()\n",
    "table_info(table)"
   ]
  },
  {
   "cell_type": "markdown",
   "metadata": {},
   "source": [
    "## Chartevents"
   ]
  },
  {
   "cell_type": "code",
   "execution_count": null,
   "metadata": {
    "tags": []
   },
   "outputs": [],
   "source": [
    "table = get_table(\n",
    "    \"mimic-iv-2.2/icu/chartevents.csv.gz\",\n",
    "    convert_options=pa.csv.ConvertOptions(\n",
    "        column_types=SCHEMAS[\"chartevents\"],\n",
    "        strings_can_be_null=True,\n",
    "        null_values=NULL_VALUES,\n",
    "        true_values=TRUE_VALUES,\n",
    "        false_values=FALSE_VALUES,\n",
    "    ),\n",
    ").combine_chunks()\n",
    "table_info(table)"
   ]
  },
  {
   "cell_type": "markdown",
   "metadata": {
    "tags": []
   },
   "source": [
    "### drop everything that has no valueuom"
   ]
  },
  {
   "cell_type": "code",
   "execution_count": null,
   "metadata": {
    "tags": []
   },
   "outputs": [],
   "source": [
    "table = filter_nulls(table, [\"valueuom\"])\n",
    "table = table.set_column(\n",
    "    table.column_names.index(\"value\"),\n",
    "    \"value\",\n",
    "    pa.compute.cast(table.column(\"value\"), pa.float32()),\n",
    ")\n",
    "table_info(table)"
   ]
  },
  {
   "cell_type": "code",
   "execution_count": null,
   "metadata": {
    "tags": []
   },
   "outputs": [],
   "source": [
    "df = pl.from_arrow(table).pivot(index=\"charttime\", columns=\"itemid\", values=\"value\")"
   ]
  },
  {
   "cell_type": "code",
   "execution_count": null,
   "metadata": {
    "tags": []
   },
   "outputs": [],
   "source": [
    "parquet.write_table(table, DATASET_PATH / \"chartevents.parquet\")"
   ]
  },
  {
   "cell_type": "markdown",
   "metadata": {},
   "source": [
    "## datetimeevents"
   ]
  },
  {
   "cell_type": "code",
   "execution_count": null,
   "metadata": {
    "tags": []
   },
   "outputs": [],
   "source": [
    "table = get_table(\n",
    "    \"mimic-iv-2.2/icu/datetimeevents.csv.gz\",\n",
    "    convert_options=pa.csv.ConvertOptions(\n",
    "        column_types=SCHEMAS[\"datetimeevents\"],\n",
    "        strings_can_be_null=True,\n",
    "        null_values=NULL_VALUES,\n",
    "        true_values=TRUE_VALUES,\n",
    "        false_values=FALSE_VALUES,\n",
    "    ),\n",
    ").combine_chunks()\n",
    "table_info(table)"
   ]
  },
  {
   "cell_type": "markdown",
   "metadata": {},
   "source": [
    "## icustays"
   ]
  },
  {
   "cell_type": "code",
   "execution_count": null,
   "metadata": {
    "tags": []
   },
   "outputs": [],
   "source": [
    "table = get_table(\n",
    "    \"mimic-iv-2.2/icu/icustays.csv.gz\",\n",
    "    convert_options=pa.csv.ConvertOptions(\n",
    "        column_types=SCHEMAS[\"icustays\"],\n",
    "        strings_can_be_null=True,\n",
    "        null_values=NULL_VALUES,\n",
    "        true_values=TRUE_VALUES,\n",
    "        false_values=FALSE_VALUES,\n",
    "    ),\n",
    ").combine_chunks()\n",
    "table_info(table)"
   ]
  },
  {
   "cell_type": "markdown",
   "metadata": {
    "tags": []
   },
   "source": [
    "## ingredientevents"
   ]
  },
  {
   "cell_type": "code",
   "execution_count": null,
   "metadata": {
    "tags": []
   },
   "outputs": [],
   "source": [
    "table = get_table(\n",
    "    \"mimic-iv-2.2/icu/ingredientevents.csv.gz\",\n",
    "    convert_options=pa.csv.ConvertOptions(\n",
    "        column_types=SCHEMAS[\"ingredientevents\"],\n",
    "        strings_can_be_null=True,\n",
    "        null_values=NULL_VALUES,\n",
    "        true_values=TRUE_VALUES,\n",
    "        false_values=FALSE_VALUES,\n",
    "    ),\n",
    ").combine_chunks()\n",
    "table_info(table)"
   ]
  },
  {
   "cell_type": "markdown",
   "metadata": {
    "tags": []
   },
   "source": [
    "## Inputevents"
   ]
  },
  {
   "cell_type": "code",
   "execution_count": null,
   "metadata": {
    "tags": []
   },
   "outputs": [],
   "source": [
    "table = get_table(\n",
    "    \"mimic-iv-2.2/icu/inputevents.csv.gz\",\n",
    "    convert_options=pa.csv.ConvertOptions(\n",
    "        column_types=SCHEMAS[\"inputevents\"],\n",
    "        strings_can_be_null=True,\n",
    "        null_values=NULL_VALUES,\n",
    "        true_values=TRUE_VALUES,\n",
    "        false_values=FALSE_VALUES,\n",
    "    ),\n",
    ").combine_chunks()\n",
    "table_info(table)"
   ]
  },
  {
   "cell_type": "markdown",
   "metadata": {},
   "source": [
    "## Outputevents"
   ]
  },
  {
   "cell_type": "code",
   "execution_count": null,
   "metadata": {
    "tags": []
   },
   "outputs": [],
   "source": [
    "table = get_table(\n",
    "    \"mimic-iv-2.2/icu/outputevents.csv.gz\",\n",
    "    convert_options=pa.csv.ConvertOptions(\n",
    "        column_types=SCHEMAS[\"outputevents\"],\n",
    "        strings_can_be_null=True,\n",
    "        null_values=NULL_VALUES,\n",
    "        true_values=TRUE_VALUES,\n",
    "        false_values=FALSE_VALUES,\n",
    "    ),\n",
    ").combine_chunks()\n",
    "table_info(table)"
   ]
  },
  {
   "cell_type": "markdown",
   "metadata": {},
   "source": [
    "## Procedureeventes"
   ]
  },
  {
   "cell_type": "code",
   "execution_count": null,
   "metadata": {
    "tags": []
   },
   "outputs": [],
   "source": [
    "table = get_table(\n",
    "    \"mimic-iv-2.2/icu/procedureevents.csv.gz\",\n",
    "    convert_options=pa.csv.ConvertOptions(\n",
    "        column_types=SCHEMAS[\"procedureevents\"],\n",
    "        strings_can_be_null=True,\n",
    "        null_values=NULL_VALUES,\n",
    "        true_values=TRUE_VALUES,\n",
    "        false_values=FALSE_VALUES,\n",
    "    ),\n",
    ").combine_chunks()\n",
    "table_info(table)"
   ]
  },
  {
   "cell_type": "markdown",
   "metadata": {},
   "source": [
    "### cast storetime to timestamp[s]"
   ]
  },
  {
   "cell_type": "code",
   "execution_count": null,
   "metadata": {},
   "outputs": [],
   "source": [
    "table = table.set_column(\n",
    "    table.column_names.index(\"storetime\"),\n",
    "    \"storetime\",\n",
    "    table[\"storetime\"].cast(TIME_TYPE, safe=False),\n",
    ")"
   ]
  },
  {
   "cell_type": "markdown",
   "metadata": {},
   "source": [
    "### unstack value - add procedure duration"
   ]
  },
  {
   "cell_type": "code",
   "execution_count": null,
   "metadata": {},
   "outputs": [],
   "source": [
    "s = (\n",
    "    table.to_pandas(types_mapper=pd.ArrowDtype)\n",
    "    .pivot(\n",
    "        index=[\"orderid\"],\n",
    "        columns=\"valueuom\",\n",
    "        values=\"value\",\n",
    "    )\n",
    "    .fillna(0)\n",
    "    .dot(\n",
    "        pd.Series(\n",
    "            {\n",
    "                \"None\": 0,\n",
    "                \"min\": 60,\n",
    "                \"day\": 60 * 60 * 24,\n",
    "                \"hour\": 60 * 60,\n",
    "            },\n",
    "            dtype=\"duration[s][pyarrow]\",\n",
    "            name=\"time\",\n",
    "        )\n",
    "    )\n",
    ")\n",
    "\n",
    "table = table.set_column(\n",
    "    len(table.column_names),\n",
    "    \"procedure_duration\",\n",
    "    pa.Array.from_pandas(s).cast(\"duration[s]\", safe=False),\n",
    ")"
   ]
  },
  {
   "cell_type": "markdown",
   "metadata": {},
   "source": [
    "# with polars"
   ]
  },
  {
   "cell_type": "code",
   "execution_count": null,
   "metadata": {
    "tags": []
   },
   "outputs": [],
   "source": [
    "import polars as pl\n",
    "\n",
    "with ZipFile(ds.rawdata_paths, \"r\") as file:\n",
    "    if not file.namelist() == filelist:\n",
    "        raise ValueError(\"The dataset contains unknown files!\")\n",
    "\n",
    "\n",
    "def load_gz_table(archive, fname, **options):\n",
    "    with archive.open(str(fname), \"r\") as compressed_file:\n",
    "        with gzip.open(compressed_file, \"r\") as file:\n",
    "            # table = pd.read_csv(file)\n",
    "            # return table\n",
    "            return pl.read_csv(file, **options)\n",
    "            # table = pyarrow.csv.read_csv(file, **options)\n",
    "            # return table\n",
    "\n",
    "\n",
    "def load_txt(archive, fname):\n",
    "    with archive.open(str(fname), \"r\") as file:\n",
    "        return str(file.read(), encoding=\"utf8\")\n",
    "\n",
    "\n",
    "def get_table(fname, **options) -> DataFrame:\n",
    "    fname = Path(fname)\n",
    "    with ZipFile(ds.rawdata_paths, \"r\") as archive:\n",
    "        match fname.suffix:\n",
    "            case \".gz\":\n",
    "                return load_gz_table(archive, fname, **options)\n",
    "            case \".txt\":\n",
    "                return load_txt(archive, fname, **options)\n",
    "            case _:\n",
    "                raise ValueError"
   ]
  }
 ],
 "metadata": {
  "kernelspec": {
   "display_name": "Python 3 (ipykernel)",
   "language": "python",
   "name": "python3"
  },
  "language_info": {
   "codemirror_mode": {
    "name": "ipython",
    "version": 3
   },
   "file_extension": ".py",
   "mimetype": "text/x-python",
   "name": "python",
   "nbconvert_exporter": "python",
   "pygments_lexer": "ipython3",
   "version": "3.11.6"
  }
 },
 "nbformat": 4,
 "nbformat_minor": 4
}
