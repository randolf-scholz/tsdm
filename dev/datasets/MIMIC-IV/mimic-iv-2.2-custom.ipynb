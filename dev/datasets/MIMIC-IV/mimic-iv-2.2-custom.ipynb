{
 "cells": [
  {
   "cell_type": "code",
   "execution_count": null,
   "metadata": {
    "execution": {
     "iopub.execute_input": "2023-08-15T17:58:26.617225Z",
     "iopub.status.busy": "2023-08-15T17:58:26.617073Z",
     "iopub.status.idle": "2023-08-15T17:58:26.620743Z",
     "shell.execute_reply": "2023-08-15T17:58:26.620028Z",
     "shell.execute_reply.started": "2023-08-15T17:58:26.617212Z"
    },
    "tags": []
   },
   "outputs": [],
   "source": [
    "# import resource\n",
    "\n",
    "\n",
    "# def limit_memory(maxsize):\n",
    "#     soft, hard = resource.getrlimit(resource.RLIMIT_AS)\n",
    "#     # MEMORY LIMIT IN BYTES\n",
    "#     resource.setrlimit(resource.RLIMIT_AS, (maxsize, hard))\n",
    "\n",
    "\n",
    "# # IN GIGABYTE\n",
    "# limit_memory(30 * 1024 * 1024 * 1024)"
   ]
  },
  {
   "cell_type": "code",
   "execution_count": null,
   "metadata": {
    "execution": {
     "iopub.execute_input": "2023-08-15T18:07:48.505766Z",
     "iopub.status.busy": "2023-08-15T18:07:48.505648Z",
     "iopub.status.idle": "2023-08-15T18:07:48.942719Z",
     "shell.execute_reply": "2023-08-15T18:07:48.942114Z",
     "shell.execute_reply.started": "2023-08-15T18:07:48.505753Z"
    },
    "tags": []
   },
   "outputs": [],
   "source": [
    "%config InteractiveShell.ast_node_interactivity='last_expr_or_assign'  # always print last expr.\n",
    "%config InlineBackend.figure_format = 'svg'\n",
    "%load_ext autoreload\n",
    "%autoreload 2\n",
    "%matplotlib inline\n",
    "\n",
    "import logging\n",
    "\n",
    "logging.basicConfig(level=logging.INFO)"
   ]
  },
  {
   "cell_type": "code",
   "execution_count": null,
   "metadata": {
    "execution": {
     "iopub.execute_input": "2023-08-15T18:07:48.944095Z",
     "iopub.status.busy": "2023-08-15T18:07:48.943846Z",
     "iopub.status.idle": "2023-08-15T18:07:49.539527Z",
     "shell.execute_reply": "2023-08-15T18:07:49.539127Z",
     "shell.execute_reply.started": "2023-08-15T18:07:48.944080Z"
    },
    "pycharm": {
     "name": "#%%\n"
    },
    "tags": []
   },
   "outputs": [],
   "source": [
    "import gzip\n",
    "import os\n",
    "import subprocess\n",
    "from getpass import getpass\n",
    "from pathlib import Path\n",
    "from zipfile import ZipFile\n",
    "\n",
    "import pandas as pd\n",
    "import polars as pl\n",
    "import pyarrow as pa\n",
    "from pandas import DataFrame\n",
    "from pyarrow import csv, parquet\n",
    "from tqdm.autonotebook import tqdm"
   ]
  },
  {
   "cell_type": "code",
   "execution_count": null,
   "metadata": {
    "execution": {
     "iopub.execute_input": "2023-08-15T18:07:49.540132Z",
     "iopub.status.busy": "2023-08-15T18:07:49.539969Z",
     "iopub.status.idle": "2023-08-15T18:07:55.187637Z",
     "shell.execute_reply": "2023-08-15T18:07:55.187183Z",
     "shell.execute_reply.started": "2023-08-15T18:07:49.540120Z"
    },
    "tags": []
   },
   "outputs": [],
   "source": [
    "import tsdm\n",
    "\n",
    "self = tsdm.datasets.MIMIC_IV(initialize=False)\n",
    "self.table_names\n",
    "\n",
    "RAWDATA_PATH = self.rawdata_paths[f\"mimic-iv-{self.__version__}.zip\"]"
   ]
  },
  {
   "cell_type": "code",
   "execution_count": null,
   "metadata": {
    "execution": {
     "iopub.execute_input": "2023-08-15T18:07:55.188470Z",
     "iopub.status.busy": "2023-08-15T18:07:55.188132Z",
     "iopub.status.idle": "2023-08-15T18:07:55.237690Z",
     "shell.execute_reply": "2023-08-15T18:07:55.237343Z",
     "shell.execute_reply.started": "2023-08-15T18:07:55.188457Z"
    },
    "tags": []
   },
   "outputs": [],
   "source": [
    "filelist = [\n",
    "    \"mimic-iv-2.2/CHANGELOG.txt\",\n",
    "    \"mimic-iv-2.2/LICENSE.txt\",\n",
    "    \"mimic-iv-2.2/SHA256SUMS.txt\",\n",
    "    \"mimic-iv-2.2/hosp/admissions.csv.gz\",\n",
    "    \"mimic-iv-2.2/hosp/d_hcpcs.csv.gz\",\n",
    "    \"mimic-iv-2.2/hosp/d_icd_diagnoses.csv.gz\",\n",
    "    \"mimic-iv-2.2/hosp/d_icd_procedures.csv.gz\",\n",
    "    \"mimic-iv-2.2/hosp/d_labitems.csv.gz\",\n",
    "    \"mimic-iv-2.2/hosp/diagnoses_icd.csv.gz\",\n",
    "    \"mimic-iv-2.2/hosp/drgcodes.csv.gz\",\n",
    "    \"mimic-iv-2.2/hosp/emar.csv.gz\",\n",
    "    \"mimic-iv-2.2/hosp/emar_detail.csv.gz\",\n",
    "    \"mimic-iv-2.2/hosp/hcpcsevents.csv.gz\",\n",
    "    \"mimic-iv-2.2/hosp/labevents.csv.gz\",\n",
    "    \"mimic-iv-2.2/hosp/microbiologyevents.csv.gz\",\n",
    "    \"mimic-iv-2.2/hosp/omr.csv.gz\",\n",
    "    \"mimic-iv-2.2/hosp/patients.csv.gz\",\n",
    "    \"mimic-iv-2.2/hosp/pharmacy.csv.gz\",\n",
    "    \"mimic-iv-2.2/hosp/poe.csv.gz\",\n",
    "    \"mimic-iv-2.2/hosp/poe_detail.csv.gz\",\n",
    "    \"mimic-iv-2.2/hosp/prescriptions.csv.gz\",\n",
    "    \"mimic-iv-2.2/hosp/procedures_icd.csv.gz\",\n",
    "    \"mimic-iv-2.2/hosp/provider.csv.gz\",\n",
    "    \"mimic-iv-2.2/hosp/services.csv.gz\",\n",
    "    \"mimic-iv-2.2/hosp/transfers.csv.gz\",\n",
    "    \"mimic-iv-2.2/icu/caregiver.csv.gz\",\n",
    "    \"mimic-iv-2.2/icu/chartevents.csv.gz\",\n",
    "    \"mimic-iv-2.2/icu/d_items.csv.gz\",\n",
    "    \"mimic-iv-2.2/icu/datetimeevents.csv.gz\",\n",
    "    \"mimic-iv-2.2/icu/icustays.csv.gz\",\n",
    "    \"mimic-iv-2.2/icu/ingredientevents.csv.gz\",\n",
    "    \"mimic-iv-2.2/icu/inputevents.csv.gz\",\n",
    "    \"mimic-iv-2.2/icu/outputevents.csv.gz\",\n",
    "    \"mimic-iv-2.2/icu/procedureevents.csv.gz\",\n",
    "]\n",
    "\n",
    "with ZipFile(RAWDATA_PATH, \"r\") as file:\n",
    "    a = set(file.namelist())\n",
    "    b = set(filelist)\n",
    "    if not a == b:\n",
    "        raise ValueError(f\"The dataset contains unknown files {a-b}!\")\n",
    "    filesizes = {info.filename: info.file_size for info in file.infolist()}\n",
    "pd.Series({key: filesizes[key] for key in sorted(filesizes, key=filesizes.get)})"
   ]
  },
  {
   "cell_type": "code",
   "execution_count": null,
   "metadata": {
    "execution": {
     "iopub.execute_input": "2023-08-15T18:07:55.239356Z",
     "iopub.status.busy": "2023-08-15T18:07:55.239122Z",
     "iopub.status.idle": "2023-08-15T18:07:55.286302Z",
     "shell.execute_reply": "2023-08-15T18:07:55.285949Z",
     "shell.execute_reply.started": "2023-08-15T18:07:55.239344Z"
    },
    "tags": []
   },
   "outputs": [],
   "source": [
    "from tsdm.datasets.schema.mimic_iv import (\n",
    "    FALSE_VALUES,\n",
    "    KEYS,\n",
    "    NULL_VALUES,\n",
    "    SCHEMAS,\n",
    "    TRUE_VALUES,\n",
    ")\n",
    "\n",
    "TYPES_MAP = {\n",
    "    \"int64[pyarrow]\": \"ID_TYPE\",\n",
    "    \"string[pyarrow]\": \"STRING_TYPE\",\n",
    "    \"timestamp[s][pyarrow]\": \"TIME_TYPE\",\n",
    "    \"double[pyarrow]\": \"VALUE_TYPE\",\n",
    "}"
   ]
  },
  {
   "cell_type": "code",
   "execution_count": null,
   "metadata": {
    "execution": {
     "iopub.execute_input": "2023-08-15T18:07:55.287347Z",
     "iopub.status.busy": "2023-08-15T18:07:55.287179Z",
     "iopub.status.idle": "2023-08-15T18:07:55.334233Z",
     "shell.execute_reply": "2023-08-15T18:07:55.333518Z",
     "shell.execute_reply.started": "2023-08-15T18:07:55.287335Z"
    },
    "tags": []
   },
   "outputs": [],
   "source": [
    "from tsdm.utils.data import (\n",
    "    cast_columns,\n",
    "    compute_entropy,\n",
    "    filter_nulls,\n",
    "    strip_whitespace,\n",
    "    table_info,\n",
    ")\n",
    "\n",
    "\n",
    "def load_pandas(fname, **kwargs):\n",
    "    with ZipFile(RAWDATA_PATH, \"r\") as archive:\n",
    "        with archive.open(fname) as file:\n",
    "            options = {\n",
    "                \"dtype_backend\": \"pyarrow\",\n",
    "                \"compression\": \"gzip\",\n",
    "            } | kwargs\n",
    "            return pd.read_csv(file, **options)\n",
    "\n",
    "\n",
    "def load_gz_table(archive, fname, **options):\n",
    "    with archive.open(str(fname), \"r\") as compressed_file:\n",
    "        with gzip.open(compressed_file, \"r\") as file:\n",
    "            # table = pd.read_csv(file)\n",
    "            # return table\n",
    "            table = csv.read_csv(file, **options)\n",
    "            return table\n",
    "\n",
    "\n",
    "def load_txt(archive, fname):\n",
    "    with archive.open(str(fname), \"r\") as file:\n",
    "        return str(file.read(), encoding=\"utf8\")\n",
    "\n",
    "\n",
    "def get_table(fname, **options) -> DataFrame:\n",
    "    fname = Path(fname)\n",
    "    with ZipFile(RAWDATA_PATH, \"r\") as archive:\n",
    "        match fname.suffix:\n",
    "            case \".gz\":\n",
    "                return load_gz_table(archive, fname, **options)\n",
    "            case \".txt\":\n",
    "                return load_txt(archive, fname, **options)\n",
    "            case _:\n",
    "                raise ValueError\n",
    "\n",
    "\n",
    "def get_types(table):\n",
    "    return table.to_pandas(types_mapper=pd.ArrowDtype).dtypes.astype(str).map(TYPES_MAP)"
   ]
  },
  {
   "cell_type": "code",
   "execution_count": null,
   "metadata": {
    "execution": {
     "iopub.execute_input": "2023-08-15T18:07:55.335271Z",
     "iopub.status.busy": "2023-08-15T18:07:55.335134Z",
     "iopub.status.idle": "2023-08-15T18:07:55.398626Z",
     "shell.execute_reply": "2023-08-15T18:07:55.397850Z",
     "shell.execute_reply.started": "2023-08-15T18:07:55.335252Z"
    },
    "tags": []
   },
   "outputs": [],
   "source": [
    "ID_TYPE = pa.uint32()\n",
    "VALUE_TYPE = pa.float32()\n",
    "TIME_TYPE = pa.timestamp(\"s\")\n",
    "DATE_TYPE = pa.date32()\n",
    "BOOL_TYPE = pa.bool_()\n",
    "STRING_TYPE = pa.string()\n",
    "DICT_TYPE = pa.dictionary(pa.int32(), pa.string())\n",
    "NULL_TYPE = pa.null()\n",
    "TEXT_TYPE = pa.large_utf8()"
   ]
  },
  {
   "cell_type": "markdown",
   "metadata": {},
   "source": [
    "# HOSP Tables"
   ]
  },
  {
   "cell_type": "markdown",
   "metadata": {},
   "source": [
    "## admissions"
   ]
  },
  {
   "cell_type": "code",
   "execution_count": null,
   "metadata": {
    "execution": {
     "iopub.execute_input": "2023-08-15T14:42:03.167782Z",
     "iopub.status.busy": "2023-08-15T14:42:03.167562Z",
     "iopub.status.idle": "2023-08-15T14:42:03.921065Z",
     "shell.execute_reply": "2023-08-15T14:42:03.920292Z",
     "shell.execute_reply.started": "2023-08-15T14:42:03.167764Z"
    },
    "tags": []
   },
   "outputs": [],
   "source": [
    "table = get_table(\n",
    "    \"mimic-iv-2.2/hosp/admissions.csv.gz\",\n",
    "    convert_options=pa.csv.ConvertOptions(\n",
    "        column_types=SCHEMAS[\"admissions\"],\n",
    "        strings_can_be_null=True,\n",
    "        null_values=NULL_VALUES,\n",
    "        true_values=TRUE_VALUES,\n",
    "        false_values=FALSE_VALUES,\n",
    "    ),\n",
    ").combine_chunks()\n",
    "table_info(table)"
   ]
  },
  {
   "cell_type": "markdown",
   "metadata": {},
   "source": [
    "## d_hcpcs"
   ]
  },
  {
   "cell_type": "code",
   "execution_count": null,
   "metadata": {
    "execution": {
     "iopub.execute_input": "2023-08-15T14:30:19.056518Z",
     "iopub.status.busy": "2023-08-15T14:30:19.056303Z",
     "iopub.status.idle": "2023-08-15T14:30:19.120131Z",
     "shell.execute_reply": "2023-08-15T14:30:19.119779Z",
     "shell.execute_reply.started": "2023-08-15T14:30:19.056505Z"
    },
    "tags": []
   },
   "outputs": [],
   "source": [
    "table = get_table(\n",
    "    \"mimic-iv-2.2/hosp/d_hcpcs.csv.gz\",\n",
    "    convert_options=pa.csv.ConvertOptions(\n",
    "        column_types=SCHEMAS[\"d_hcpcs\"],\n",
    "        strings_can_be_null=True,\n",
    "        null_values=NULL_VALUES,\n",
    "        true_values=TRUE_VALUES,\n",
    "        false_values=FALSE_VALUES,\n",
    "    ),\n",
    ").combine_chunks()\n",
    "table_info(table)"
   ]
  },
  {
   "cell_type": "markdown",
   "metadata": {},
   "source": [
    "## d_icd_diagnoses"
   ]
  },
  {
   "cell_type": "code",
   "execution_count": null,
   "metadata": {
    "execution": {
     "iopub.execute_input": "2023-08-15T14:30:20.324332Z",
     "iopub.status.busy": "2023-08-15T14:30:20.324111Z",
     "iopub.status.idle": "2023-08-15T14:30:20.406113Z",
     "shell.execute_reply": "2023-08-15T14:30:20.405673Z",
     "shell.execute_reply.started": "2023-08-15T14:30:20.324316Z"
    },
    "tags": []
   },
   "outputs": [],
   "source": [
    "table = get_table(\n",
    "    \"mimic-iv-2.2/hosp/d_icd_diagnoses.csv.gz\",\n",
    "    convert_options=pa.csv.ConvertOptions(\n",
    "        column_types=SCHEMAS[\"d_icd_diagnoses\"],\n",
    "        strings_can_be_null=True,\n",
    "        null_values=NULL_VALUES,\n",
    "        true_values=TRUE_VALUES,\n",
    "        false_values=FALSE_VALUES,\n",
    "    ),\n",
    ").combine_chunks()\n",
    "table_info(table)"
   ]
  },
  {
   "cell_type": "markdown",
   "metadata": {},
   "source": [
    "## d_icd_procedures"
   ]
  },
  {
   "cell_type": "code",
   "execution_count": null,
   "metadata": {
    "execution": {
     "iopub.execute_input": "2023-08-15T14:30:27.855229Z",
     "iopub.status.busy": "2023-08-15T14:30:27.855066Z",
     "iopub.status.idle": "2023-08-15T14:30:27.950561Z",
     "shell.execute_reply": "2023-08-15T14:30:27.950221Z",
     "shell.execute_reply.started": "2023-08-15T14:30:27.855218Z"
    },
    "tags": []
   },
   "outputs": [],
   "source": [
    "table = get_table(\n",
    "    \"mimic-iv-2.2/hosp/d_icd_procedures.csv.gz\",\n",
    "    convert_options=pa.csv.ConvertOptions(\n",
    "        # column_types=SCHEMAS[\"d_icd_procedures\"],\n",
    "        strings_can_be_null=True,\n",
    "        null_values=NULL_VALUES,\n",
    "        true_values=TRUE_VALUES,\n",
    "        false_values=FALSE_VALUES,\n",
    "    ),\n",
    ").combine_chunks()\n",
    "table_info(table)"
   ]
  },
  {
   "cell_type": "markdown",
   "metadata": {},
   "source": [
    "## d_labitems"
   ]
  },
  {
   "cell_type": "code",
   "execution_count": null,
   "metadata": {
    "execution": {
     "iopub.execute_input": "2023-08-15T14:30:30.903974Z",
     "iopub.status.busy": "2023-08-15T14:30:30.903810Z",
     "iopub.status.idle": "2023-08-15T14:30:30.945655Z",
     "shell.execute_reply": "2023-08-15T14:30:30.945251Z",
     "shell.execute_reply.started": "2023-08-15T14:30:30.903963Z"
    },
    "tags": []
   },
   "outputs": [],
   "source": [
    "table = get_table(\n",
    "    \"mimic-iv-2.2/hosp/d_labitems.csv.gz\",\n",
    "    convert_options=pa.csv.ConvertOptions(\n",
    "        column_types=SCHEMAS[\"d_labitems\"],\n",
    "        strings_can_be_null=True,\n",
    "        null_values=NULL_VALUES,\n",
    "        true_values=TRUE_VALUES,\n",
    "        false_values=FALSE_VALUES,\n",
    "    ),\n",
    ").combine_chunks()\n",
    "null_cols = [\"label\"]\n",
    "table_info(table)"
   ]
  },
  {
   "cell_type": "markdown",
   "metadata": {},
   "source": [
    "## diagnoses_icd"
   ]
  },
  {
   "cell_type": "code",
   "execution_count": null,
   "metadata": {
    "execution": {
     "iopub.execute_input": "2023-08-15T14:30:44.863703Z",
     "iopub.status.busy": "2023-08-15T14:30:44.863516Z",
     "iopub.status.idle": "2023-08-15T14:30:45.463569Z",
     "shell.execute_reply": "2023-08-15T14:30:45.463111Z",
     "shell.execute_reply.started": "2023-08-15T14:30:44.863691Z"
    },
    "tags": []
   },
   "outputs": [],
   "source": [
    "table = get_table(\n",
    "    \"mimic-iv-2.2/hosp/diagnoses_icd.csv.gz\",\n",
    "    convert_options=pa.csv.ConvertOptions(\n",
    "        column_types=SCHEMAS[\"diagnoses_icd\"],\n",
    "        strings_can_be_null=True,\n",
    "        null_values=NULL_VALUES,\n",
    "        true_values=TRUE_VALUES,\n",
    "        false_values=FALSE_VALUES,\n",
    "    ),\n",
    ").combine_chunks()\n",
    "table_info(table)"
   ]
  },
  {
   "cell_type": "markdown",
   "metadata": {},
   "source": [
    "## drgcodes"
   ]
  },
  {
   "cell_type": "code",
   "execution_count": null,
   "metadata": {
    "execution": {
     "iopub.execute_input": "2023-08-10T15:23:30.325185Z",
     "iopub.status.busy": "2023-08-10T15:23:30.324971Z",
     "iopub.status.idle": "2023-08-10T15:23:30.359101Z",
     "shell.execute_reply": "2023-08-10T15:23:30.358448Z",
     "shell.execute_reply.started": "2023-08-10T15:23:30.325172Z"
    },
    "tags": []
   },
   "outputs": [],
   "source": [
    "from tsdm.datasets.schema.mimic_iv import SCHEMAS"
   ]
  },
  {
   "cell_type": "code",
   "execution_count": null,
   "metadata": {
    "execution": {
     "iopub.execute_input": "2023-08-15T14:30:52.624996Z",
     "iopub.status.busy": "2023-08-15T14:30:52.624820Z",
     "iopub.status.idle": "2023-08-15T14:30:52.872639Z",
     "shell.execute_reply": "2023-08-15T14:30:52.872234Z",
     "shell.execute_reply.started": "2023-08-15T14:30:52.624982Z"
    },
    "tags": []
   },
   "outputs": [],
   "source": [
    "table = get_table(\n",
    "    \"mimic-iv-2.2/hosp/drgcodes.csv.gz\",\n",
    "    convert_options=pa.csv.ConvertOptions(\n",
    "        column_types=SCHEMAS[\"drgcodes\"],\n",
    "        strings_can_be_null=True,\n",
    "        null_values=NULL_VALUES,\n",
    "        true_values=TRUE_VALUES,\n",
    "        false_values=FALSE_VALUES,\n",
    "    ),\n",
    ").combine_chunks()\n",
    "table_info(table)"
   ]
  },
  {
   "cell_type": "markdown",
   "metadata": {},
   "source": [
    "## emar"
   ]
  },
  {
   "cell_type": "code",
   "execution_count": null,
   "metadata": {
    "execution": {
     "iopub.execute_input": "2023-08-15T14:31:24.254259Z",
     "iopub.status.busy": "2023-08-15T14:31:24.253739Z",
     "iopub.status.idle": "2023-08-15T14:31:46.998333Z",
     "shell.execute_reply": "2023-08-15T14:31:46.997995Z",
     "shell.execute_reply.started": "2023-08-15T14:31:24.254242Z"
    },
    "tags": []
   },
   "outputs": [],
   "source": [
    "table = get_table(\n",
    "    \"mimic-iv-2.2/hosp/emar.csv.gz\",\n",
    "    convert_options=pa.csv.ConvertOptions(\n",
    "        column_types=SCHEMAS[\"emar\"],\n",
    "        strings_can_be_null=True,\n",
    "        null_values=NULL_VALUES,\n",
    "        true_values=TRUE_VALUES,\n",
    "        false_values=FALSE_VALUES,\n",
    "    ),\n",
    ").combine_chunks()\n",
    "table_info(table)"
   ]
  },
  {
   "cell_type": "code",
   "execution_count": null,
   "metadata": {
    "execution": {
     "iopub.execute_input": "2023-08-10T15:30:51.146910Z",
     "iopub.status.busy": "2023-08-10T15:30:51.146748Z",
     "iopub.status.idle": "2023-08-10T15:31:03.058121Z",
     "shell.execute_reply": "2023-08-10T15:31:03.057547Z",
     "shell.execute_reply.started": "2023-08-10T15:30:51.146899Z"
    },
    "tags": []
   },
   "outputs": [],
   "source": [
    "table = filter_nulls(table, [\"hadm_id\", \"scheduletime\"])\n",
    "table_info(table)"
   ]
  },
  {
   "cell_type": "markdown",
   "metadata": {},
   "source": [
    "## emar_detail"
   ]
  },
  {
   "cell_type": "code",
   "execution_count": null,
   "metadata": {
    "execution": {
     "iopub.execute_input": "2023-08-15T14:45:18.299443Z",
     "iopub.status.busy": "2023-08-15T14:45:18.299244Z",
     "iopub.status.idle": "2023-08-15T14:45:50.059148Z",
     "shell.execute_reply": "2023-08-15T14:45:50.058666Z",
     "shell.execute_reply.started": "2023-08-15T14:45:18.299415Z"
    },
    "tags": []
   },
   "outputs": [],
   "source": [
    "table = get_table(\n",
    "    \"mimic-iv-2.2/hosp/emar_detail.csv.gz\",\n",
    "    convert_options=pa.csv.ConvertOptions(\n",
    "        column_types=SCHEMAS[\"emar_detail\"],\n",
    "        strings_can_be_null=True,\n",
    "        null_values=NULL_VALUES,\n",
    "        true_values=TRUE_VALUES,\n",
    "        false_values=FALSE_VALUES,\n",
    "    ),\n",
    ").combine_chunks()\n",
    "table_info(table)"
   ]
  },
  {
   "cell_type": "code",
   "execution_count": null,
   "metadata": {
    "execution": {
     "iopub.execute_input": "2023-08-10T18:30:09.911784Z",
     "iopub.status.busy": "2023-08-10T18:30:09.911593Z",
     "iopub.status.idle": "2023-08-10T18:30:51.733811Z",
     "shell.execute_reply": "2023-08-10T18:30:51.733164Z",
     "shell.execute_reply.started": "2023-08-10T18:30:09.911771Z"
    },
    "tags": []
   },
   "outputs": [],
   "source": [
    "recast_columns = {\n",
    "    \"dose_due\": VALUE_TYPE,\n",
    "    \"dose_given\": VALUE_TYPE,\n",
    "    \"product_amount_given\": VALUE_TYPE,\n",
    "    \"prior_infusion_rate\": VALUE_TYPE,\n",
    "    \"infusion_rate\": VALUE_TYPE,\n",
    "    \"infusion_rate_adjustment_amount\": VALUE_TYPE,\n",
    "}\n",
    "\n",
    "for col in recast_columns:\n",
    "    array = pa.compute.utf8_trim_whitespace(table[col])\n",
    "\n",
    "    prior_null = pa.compute.is_null(array)\n",
    "    post_null = pa.compute.is_null(\n",
    "        pa.Array.from_pandas(\n",
    "            pd.to_numeric(\n",
    "                pd.Series(array, dtype=\"string[pyarrow]\"),\n",
    "                errors=\"coerce\",\n",
    "                dtype_backend=\"pyarrow\",\n",
    "                downcast=pa.float32(),\n",
    "            )\n",
    "        )\n",
    "    )\n",
    "\n",
    "    # mask the values that were initially null or can be cast to float.\n",
    "    mask = pa.compute.or_(\n",
    "        prior_null,\n",
    "        pa.compute.invert(post_null),\n",
    "    )\n",
    "    dropped = 1 - pa.compute.mean(mask).as_py()\n",
    "    print(f\"Dropping {dropped:.4%} of rows: {col} can't be cast to float!\")\n",
    "    table = table.filter(mask)\n",
    "    table = table.set_column(\n",
    "        table.column_names.index(col),\n",
    "        col,\n",
    "        pa.compute.cast(\n",
    "            array.filter(mask),\n",
    "            pa.float32(),\n",
    "        ),\n",
    "    )\n",
    "table_info(table)"
   ]
  },
  {
   "cell_type": "markdown",
   "metadata": {},
   "source": [
    "## hcpcsevents"
   ]
  },
  {
   "cell_type": "code",
   "execution_count": null,
   "metadata": {
    "execution": {
     "iopub.execute_input": "2023-08-15T14:58:16.373180Z",
     "iopub.status.busy": "2023-08-15T14:58:16.372950Z",
     "iopub.status.idle": "2023-08-15T14:58:16.475866Z",
     "shell.execute_reply": "2023-08-15T14:58:16.475521Z",
     "shell.execute_reply.started": "2023-08-15T14:58:16.373166Z"
    },
    "tags": []
   },
   "outputs": [],
   "source": [
    "table = get_table(\n",
    "    \"mimic-iv-2.2/hosp/hcpcsevents.csv.gz\",\n",
    "    convert_options=pa.csv.ConvertOptions(\n",
    "        column_types=SCHEMAS[\"hcpcsevents\"],\n",
    "        strings_can_be_null=True,\n",
    "        null_values=NULL_VALUES,\n",
    "        true_values=TRUE_VALUES,\n",
    "        false_values=FALSE_VALUES,\n",
    "    ),\n",
    ").combine_chunks()\n",
    "table_info(table)\n",
    "# sorted(pa.compute.unique(table[\"los\"]).drop_null().to_pylist())"
   ]
  },
  {
   "cell_type": "markdown",
   "metadata": {},
   "source": [
    "## Labevents"
   ]
  },
  {
   "cell_type": "code",
   "execution_count": null,
   "metadata": {
    "execution": {
     "iopub.execute_input": "2023-08-15T15:46:15.543964Z",
     "iopub.status.busy": "2023-08-15T15:46:15.543235Z",
     "iopub.status.idle": "2023-08-15T15:47:30.660542Z",
     "shell.execute_reply": "2023-08-15T15:47:30.660147Z",
     "shell.execute_reply.started": "2023-08-15T15:46:15.543945Z"
    },
    "tags": []
   },
   "outputs": [],
   "source": [
    "table = get_table(\n",
    "    \"mimic-iv-2.2/hosp/labevents.csv.gz\",\n",
    "    convert_options=pa.csv.ConvertOptions(\n",
    "        column_types=SCHEMAS[\"labevents\"],\n",
    "        strings_can_be_null=True,\n",
    "        null_values=NULL_VALUES,\n",
    "        true_values=TRUE_VALUES,\n",
    "        false_values=FALSE_VALUES,\n",
    "    ),\n",
    ").combine_chunks()\n",
    "table_info(table)"
   ]
  },
  {
   "cell_type": "code",
   "execution_count": null,
   "metadata": {
    "execution": {
     "iopub.execute_input": "2023-08-15T15:47:30.661449Z",
     "iopub.status.busy": "2023-08-15T15:47:30.661210Z",
     "iopub.status.idle": "2023-08-15T15:47:43.773320Z",
     "shell.execute_reply": "2023-08-15T15:47:43.772889Z",
     "shell.execute_reply.started": "2023-08-15T15:47:30.661436Z"
    },
    "tags": []
   },
   "outputs": [],
   "source": [
    "null_cols = [\"hadm_id\", \"storetime\", \"value\", \"valuenum\", \"valueuom\"]\n",
    "table = filter_nulls(table, null_cols)\n",
    "table_info(table)"
   ]
  },
  {
   "cell_type": "markdown",
   "metadata": {
    "tags": []
   },
   "source": [
    "### cast value to float"
   ]
  },
  {
   "cell_type": "code",
   "execution_count": null,
   "metadata": {
    "execution": {
     "iopub.execute_input": "2023-08-15T15:47:50.210469Z",
     "iopub.status.busy": "2023-08-15T15:47:50.210237Z",
     "iopub.status.idle": "2023-08-15T15:48:02.143970Z",
     "shell.execute_reply": "2023-08-15T15:48:02.143423Z",
     "shell.execute_reply.started": "2023-08-15T15:47:50.210455Z"
    },
    "tags": []
   },
   "outputs": [],
   "source": [
    "# cast value to float\n",
    "table = table.set_column(\n",
    "    table.column_names.index(\"value\"),\n",
    "    \"value\",\n",
    "    pa.compute.cast(table.column(\"value\"), pa.float32()),\n",
    ")\n",
    "assert pa.compute.all(pa.compute.equal(table[\"value\"], table[\"valuenum\"])).as_py()\n",
    "table_info(table)"
   ]
  },
  {
   "cell_type": "markdown",
   "metadata": {},
   "source": [
    "## Unstack on value -- out of memory..."
   ]
  },
  {
   "cell_type": "code",
   "execution_count": null,
   "metadata": {
    "execution": {
     "iopub.execute_input": "2023-08-15T15:35:58.791462Z",
     "iopub.status.busy": "2023-08-15T15:35:58.791294Z"
    },
    "tags": []
   },
   "outputs": [],
   "source": [
    "df = (\n",
    "    table.to_pandas(types_mapper=pd.ArrowDtype)\n",
    "    .pivot(\n",
    "        index=[\"labevent_id\", \"subject_id\", \"hadm_id\"],\n",
    "        columns=\"valueuom\",\n",
    "        values=\"value\",\n",
    "    )\n",
    "    .dropna(how=\"all\")\n",
    "    .astype(unstacked_dtypes)\n",
    "    .reset_index()\n",
    ")\n",
    "table2 = pa.Table.from_pandas(df)\n",
    "table_info(table2)"
   ]
  },
  {
   "cell_type": "markdown",
   "metadata": {},
   "source": [
    "## microbiologyevents"
   ]
  },
  {
   "cell_type": "code",
   "execution_count": null,
   "metadata": {
    "execution": {
     "iopub.execute_input": "2023-08-15T15:14:19.463980Z",
     "iopub.status.busy": "2023-08-15T15:14:19.463808Z",
     "iopub.status.idle": "2023-08-15T15:14:22.479426Z",
     "shell.execute_reply": "2023-08-15T15:14:22.479020Z",
     "shell.execute_reply.started": "2023-08-15T15:14:19.463967Z"
    },
    "tags": []
   },
   "outputs": [],
   "source": [
    "table = get_table(\n",
    "    \"mimic-iv-2.2/hosp/microbiologyevents.csv.gz\",\n",
    "    convert_options=pa.csv.ConvertOptions(\n",
    "        column_types=SCHEMAS[\"microbiologyevents\"],\n",
    "        strings_can_be_null=True,\n",
    "        null_values=NULL_VALUES,\n",
    "        true_values=TRUE_VALUES,\n",
    "        false_values=FALSE_VALUES,\n",
    "    ),\n",
    ")\n",
    "null_cols = [\"storedate\", \"storetime\", \"spec_type_desc\"]\n",
    "table_info(table)\n",
    "# sorted(pa.compute.unique(table[\"los\"]).drop_null().to_pylist())"
   ]
  },
  {
   "cell_type": "markdown",
   "metadata": {},
   "source": [
    "### Check dilution"
   ]
  },
  {
   "cell_type": "code",
   "execution_count": null,
   "metadata": {
    "execution": {
     "iopub.execute_input": "2023-04-09T16:26:03.999278Z",
     "iopub.status.busy": "2023-04-09T16:26:03.998987Z",
     "iopub.status.idle": "2023-04-09T16:26:04.225204Z",
     "shell.execute_reply": "2023-04-09T16:26:04.224718Z",
     "shell.execute_reply.started": "2023-04-09T16:26:03.999263Z"
    },
    "tags": []
   },
   "outputs": [],
   "source": [
    "dilution = table[\"dilution_text\"]\n",
    "dilution = pa.compute.replace_substring(dilution, \"<\", \"\")\n",
    "dilution = pa.compute.replace_substring(dilution, \">\", \"\")\n",
    "dilution = pa.compute.replace_substring(dilution, \"=\", \"\")\n",
    "dilution = pa.compute.cast(dilution, pa.float32())\n",
    "assert (\n",
    "    pa.compute.all(\n",
    "        pa.compute.equal(dilution, table[\"dilution_value\"]).drop_null()\n",
    "    ).as_py()\n",
    "    is True\n",
    ")"
   ]
  },
  {
   "cell_type": "markdown",
   "metadata": {},
   "source": [
    "## omr"
   ]
  },
  {
   "cell_type": "code",
   "execution_count": null,
   "metadata": {
    "execution": {
     "iopub.execute_input": "2023-08-15T16:47:42.462646Z",
     "iopub.status.busy": "2023-08-15T16:47:42.462094Z",
     "iopub.status.idle": "2023-08-15T16:47:43.496453Z",
     "shell.execute_reply": "2023-08-15T16:47:43.496093Z",
     "shell.execute_reply.started": "2023-08-15T16:47:42.462606Z"
    },
    "tags": []
   },
   "outputs": [],
   "source": [
    "table = get_table(\n",
    "    \"mimic-iv-2.2/hosp/omr.csv.gz\",\n",
    "    convert_options=pa.csv.ConvertOptions(\n",
    "        column_types=SCHEMAS[\"omr\"],\n",
    "        strings_can_be_null=True,\n",
    "        null_values=NULL_VALUES,\n",
    "        true_values=TRUE_VALUES,\n",
    "        false_values=FALSE_VALUES,\n",
    "    ),\n",
    ").combine_chunks()\n",
    "table_info(table)"
   ]
  },
  {
   "cell_type": "markdown",
   "metadata": {
    "execution": {
     "iopub.execute_input": "2023-04-09T22:00:07.283689Z",
     "iopub.status.busy": "2023-04-09T22:00:07.283574Z",
     "iopub.status.idle": "2023-04-09T22:00:12.128355Z",
     "shell.execute_reply": "2023-04-09T22:00:12.127899Z",
     "shell.execute_reply.started": "2023-04-09T22:00:07.283677Z"
    },
    "tags": []
   },
   "source": [
    "### split results_value (two values stored for blood pressure)"
   ]
  },
  {
   "cell_type": "code",
   "execution_count": null,
   "metadata": {
    "execution": {
     "iopub.execute_input": "2023-08-15T16:47:50.044420Z",
     "iopub.status.busy": "2023-08-15T16:47:50.043957Z",
     "iopub.status.idle": "2023-08-15T16:48:11.713064Z",
     "shell.execute_reply": "2023-08-15T16:48:11.712567Z",
     "shell.execute_reply.started": "2023-08-15T16:47:50.044402Z"
    },
    "tags": []
   },
   "outputs": [],
   "source": [
    "table = table.set_column(\n",
    "    table.column_names.index(\"result_value\"),\n",
    "    \"result_value\",\n",
    "    pa.compute.split_pattern(table[\"result_value\"], \"/\"),\n",
    ")\n",
    "\n",
    "df = table.to_pandas().pivot(\n",
    "    index=[\"subject_id\", \"seq_num\", \"chartdate\"],\n",
    "    columns=\"result_name\",\n",
    "    values=\"result_value\",\n",
    ")\n",
    "\n",
    "for col in (pbar := tqdm(df.columns)):\n",
    "    pbar.set_postfix(column=f\"{col!r}\")\n",
    "    s = df.pop(col).copy()\n",
    "    m = s.isna()\n",
    "    s.loc[m] = [[]] * m.sum()\n",
    "    columns = (\n",
    "        [f\"{col} (systolic)\", f\"{col} (diastolic)\"]\n",
    "        if \"blood pressure\" in col.lower()\n",
    "        else [col]\n",
    "    )\n",
    "    frame = pd.DataFrame(s.to_list(), columns=columns, index=s.index)\n",
    "    for new_col in frame:\n",
    "        df[new_col] = pd.to_numeric(\n",
    "            frame[new_col],\n",
    "            errors=\"coerce\",\n",
    "            downcast=pa.float32(),\n",
    "            dtype_backend=\"pyarrow\",\n",
    "        ).astype(\n",
    "            \"float[pyarrow]\"\n",
    "        )  # required due to \"Weight (Lbs)\"\n",
    "        # contains bad data: 210237760.0, the nearest float is 210237758.0\n",
    "table = pa.Table.from_pandas(df.dropna(how=\"all\").reset_index())\n",
    "table_info(table)"
   ]
  },
  {
   "cell_type": "markdown",
   "metadata": {},
   "source": [
    "## patients"
   ]
  },
  {
   "cell_type": "code",
   "execution_count": null,
   "metadata": {
    "execution": {
     "iopub.execute_input": "2023-08-15T15:16:03.741704Z",
     "iopub.status.busy": "2023-08-15T15:16:03.741468Z",
     "iopub.status.idle": "2023-08-15T15:16:03.862988Z",
     "shell.execute_reply": "2023-08-15T15:16:03.862663Z",
     "shell.execute_reply.started": "2023-08-15T15:16:03.741689Z"
    },
    "tags": []
   },
   "outputs": [],
   "source": [
    "table = get_table(\n",
    "    \"mimic-iv-2.2/hosp/patients.csv.gz\",\n",
    "    convert_options=pa.csv.ConvertOptions(\n",
    "        column_types=SCHEMAS[\"patients\"],\n",
    "        strings_can_be_null=True,\n",
    "        null_values=NULL_VALUES,\n",
    "        true_values=TRUE_VALUES,\n",
    "        false_values=FALSE_VALUES,\n",
    "    ),\n",
    ").combine_chunks()\n",
    "table_info(table)"
   ]
  },
  {
   "cell_type": "markdown",
   "metadata": {},
   "source": [
    "## pharmacy"
   ]
  },
  {
   "cell_type": "code",
   "execution_count": null,
   "metadata": {
    "execution": {
     "iopub.execute_input": "2023-08-15T15:16:50.827453Z",
     "iopub.status.busy": "2023-08-15T15:16:50.826989Z",
     "iopub.status.idle": "2023-08-15T15:17:06.295541Z",
     "shell.execute_reply": "2023-08-15T15:17:06.294953Z",
     "shell.execute_reply.started": "2023-08-15T15:16:50.827437Z"
    },
    "tags": []
   },
   "outputs": [],
   "source": [
    "table = get_table(\n",
    "    \"mimic-iv-2.2/hosp/pharmacy.csv.gz\",\n",
    "    convert_options=pa.csv.ConvertOptions(\n",
    "        column_types=SCHEMAS[\"pharmacy\"],\n",
    "        strings_can_be_null=True,\n",
    "        null_values=NULL_VALUES,\n",
    "        true_values=TRUE_VALUES,\n",
    "        false_values=FALSE_VALUES,\n",
    "    ),\n",
    ").combine_chunks()\n",
    "table_info(table)"
   ]
  },
  {
   "cell_type": "code",
   "execution_count": null,
   "metadata": {
    "execution": {
     "iopub.execute_input": "2023-04-09T23:06:39.930836Z",
     "iopub.status.busy": "2023-04-09T23:06:39.930502Z",
     "iopub.status.idle": "2023-04-09T23:06:51.261648Z",
     "shell.execute_reply": "2023-04-09T23:06:51.261092Z",
     "shell.execute_reply.started": "2023-04-09T23:06:39.930822Z"
    },
    "tags": []
   },
   "outputs": [],
   "source": [
    "null_cols = [\n",
    "    \"subject_id\",\n",
    "    \"hadm_id\",\n",
    "    \"pharmacy_id\",\n",
    "    \"poe_id\",\n",
    "    \"starttime\",\n",
    "    \"stoptime\",\n",
    "    \"medication\",\n",
    "    \"proc_type\",\n",
    "    \"status\",\n",
    "    \"entertime\",\n",
    "    \"verifiedtime\",\n",
    "    \"route\",\n",
    "    \"frequency\",\n",
    "    # \"disp_sched\",\n",
    "    # \"infusion_type\",\n",
    "    # \"sliding_scale\",\n",
    "    # \"lockout_interval\",\n",
    "    # \"basal_rate\",\n",
    "    # \"one_hr_max\",\n",
    "    # \"doses_per_24_hrs\",\n",
    "    # \"duration\",\n",
    "    \"duration_interval\",\n",
    "    # \"expiration_value\",\n",
    "    \"expiration_unit\",\n",
    "    # \"expirationdate\",\n",
    "    \"dispensation\",\n",
    "    # \"fill_quantity\",\n",
    "]\n",
    "table_info(filter_nulls(table, null_cols))"
   ]
  },
  {
   "cell_type": "markdown",
   "metadata": {},
   "source": [
    "## poe"
   ]
  },
  {
   "cell_type": "code",
   "execution_count": null,
   "metadata": {
    "execution": {
     "iopub.execute_input": "2023-08-15T15:20:55.493945Z",
     "iopub.status.busy": "2023-08-15T15:20:55.493674Z",
     "iopub.status.idle": "2023-08-15T15:21:19.439388Z",
     "shell.execute_reply": "2023-08-15T15:21:19.438907Z",
     "shell.execute_reply.started": "2023-08-15T15:20:55.493931Z"
    },
    "tags": []
   },
   "outputs": [],
   "source": [
    "table = get_table(\n",
    "    \"mimic-iv-2.2/hosp/poe.csv.gz\",\n",
    "    convert_options=pa.csv.ConvertOptions(\n",
    "        column_types=SCHEMAS[\"poe\"],\n",
    "        strings_can_be_null=True,\n",
    "        null_values=NULL_VALUES,\n",
    "        true_values=TRUE_VALUES,\n",
    "        false_values=FALSE_VALUES,\n",
    "    ),\n",
    ").combine_chunks()\n",
    "table_info(table)"
   ]
  },
  {
   "cell_type": "markdown",
   "metadata": {},
   "source": [
    "## poe_detail"
   ]
  },
  {
   "cell_type": "code",
   "execution_count": null,
   "metadata": {
    "execution": {
     "iopub.execute_input": "2023-08-15T15:26:40.947268Z",
     "iopub.status.busy": "2023-08-15T15:26:40.946650Z",
     "iopub.status.idle": "2023-08-15T15:26:42.091273Z",
     "shell.execute_reply": "2023-08-15T15:26:42.090835Z",
     "shell.execute_reply.started": "2023-08-15T15:26:40.947239Z"
    },
    "tags": []
   },
   "outputs": [],
   "source": [
    "table = get_table(\n",
    "    \"mimic-iv-2.2/hosp/poe_detail.csv.gz\",\n",
    "    convert_options=pa.csv.ConvertOptions(\n",
    "        column_types=SCHEMAS[\"poe_detail\"],\n",
    "        strings_can_be_null=True,\n",
    "        null_values=NULL_VALUES,\n",
    "        true_values=TRUE_VALUES,\n",
    "        false_values=FALSE_VALUES,\n",
    "    ),\n",
    ").combine_chunks()\n",
    "table_info(table)"
   ]
  },
  {
   "cell_type": "markdown",
   "metadata": {},
   "source": [
    "### unstack fields"
   ]
  },
  {
   "cell_type": "code",
   "execution_count": null,
   "metadata": {
    "execution": {
     "iopub.execute_input": "2023-08-15T15:26:42.092015Z",
     "iopub.status.busy": "2023-08-15T15:26:42.091893Z",
     "iopub.status.idle": "2023-08-15T15:26:45.960870Z",
     "shell.execute_reply": "2023-08-15T15:26:45.960422Z",
     "shell.execute_reply.started": "2023-08-15T15:26:42.092005Z"
    },
    "tags": []
   },
   "outputs": [],
   "source": [
    "unstacked_dtypes = {\n",
    "    # fmt: off\n",
    "    \"Admit category\":      DICT_TYPE,\n",
    "    \"Admit to\":            DICT_TYPE,\n",
    "    \"Code status\":         DICT_TYPE,\n",
    "    \"Consult Status\":      DICT_TYPE,\n",
    "    \"Consult Status Time\": TIME_TYPE,\n",
    "    \"Discharge Planning\":  DICT_TYPE,\n",
    "    \"Discharge When\":      DICT_TYPE,\n",
    "    \"Indication\":          DICT_TYPE,\n",
    "    \"Level of Urgency\":    DICT_TYPE,\n",
    "    \"Transfer to\":         DICT_TYPE,\n",
    "    \"Tubes & Drains type\": DICT_TYPE,\n",
    "    # fmt: on\n",
    "}\n",
    "\n",
    "unstacked_dtypes = {k: pd.ArrowDtype(v) for k, v in unstacked_dtypes.items()}\n",
    "\n",
    "df = (\n",
    "    table.to_pandas(types_mapper=pd.ArrowDtype)\n",
    "    .pivot(\n",
    "        index=[\"poe_id\", \"poe_seq\", \"subject_id\"],\n",
    "        columns=\"field_name\",\n",
    "        values=\"field_value\",\n",
    "    )\n",
    "    .dropna(how=\"all\")\n",
    "    .astype(unstacked_dtypes)\n",
    "    .reset_index()\n",
    ")\n",
    "table2 = pa.Table.from_pandas(df)\n",
    "table_info(table2)"
   ]
  },
  {
   "cell_type": "markdown",
   "metadata": {},
   "source": [
    "## prescriptions"
   ]
  },
  {
   "cell_type": "code",
   "execution_count": null,
   "metadata": {
    "execution": {
     "iopub.execute_input": "2023-08-15T16:51:40.749653Z",
     "iopub.status.busy": "2023-08-15T16:51:40.748770Z",
     "iopub.status.idle": "2023-08-15T16:51:57.494007Z",
     "shell.execute_reply": "2023-08-15T16:51:57.493469Z",
     "shell.execute_reply.started": "2023-08-15T16:51:40.749609Z"
    },
    "tags": []
   },
   "outputs": [],
   "source": [
    "table = get_table(\n",
    "    \"mimic-iv-2.2/hosp/prescriptions.csv.gz\",\n",
    "    convert_options=pa.csv.ConvertOptions(\n",
    "        column_types=SCHEMAS[\"prescriptions\"],\n",
    "        strings_can_be_null=True,\n",
    "        null_values=NULL_VALUES,\n",
    "        true_values=TRUE_VALUES,\n",
    "        false_values=FALSE_VALUES,\n",
    "    ),\n",
    ").combine_chunks()\n",
    "table_info(table)"
   ]
  },
  {
   "cell_type": "markdown",
   "metadata": {},
   "source": [
    "### drop val columns that are not float"
   ]
  },
  {
   "cell_type": "code",
   "execution_count": null,
   "metadata": {
    "execution": {
     "iopub.execute_input": "2023-04-09T22:57:43.899269Z",
     "iopub.status.busy": "2023-04-09T22:57:43.899151Z",
     "iopub.status.idle": "2023-04-09T22:58:04.099437Z",
     "shell.execute_reply": "2023-04-09T22:58:04.098802Z",
     "shell.execute_reply.started": "2023-04-09T22:57:43.899257Z"
    },
    "tags": []
   },
   "outputs": [],
   "source": [
    "table = table.set_column(\n",
    "    table.column_names.index(\"dose_val_rx\"),\n",
    "    \"dose_val_rx\",\n",
    "    pa.Array.from_pandas(\n",
    "        pd.to_numeric(\n",
    "            pd.Series(table[\"dose_val_rx\"]),\n",
    "            errors=\"coerce\",\n",
    "            dtype_backend=\"pyarrow\",\n",
    "            downcast=pa.float32(),\n",
    "        )\n",
    "    ),\n",
    ")\n",
    "table = table.set_column(\n",
    "    table.column_names.index(\"form_val_disp\"),\n",
    "    \"form_val_disp\",\n",
    "    pa.Array.from_pandas(\n",
    "        pd.to_numeric(\n",
    "            pd.Series(table[\"form_val_disp\"]),\n",
    "            errors=\"coerce\",\n",
    "            dtype_backend=\"pyarrow\",\n",
    "            downcast=pa.float32(),\n",
    "        )\n",
    "    ),\n",
    ")\n",
    "table_info(table)"
   ]
  },
  {
   "cell_type": "code",
   "execution_count": null,
   "metadata": {
    "execution": {
     "iopub.execute_input": "2023-04-09T22:58:17.210527Z",
     "iopub.status.busy": "2023-04-09T22:58:17.210228Z",
     "iopub.status.idle": "2023-04-09T22:58:27.250542Z",
     "shell.execute_reply": "2023-04-09T22:58:27.250100Z",
     "shell.execute_reply.started": "2023-04-09T22:58:17.210512Z"
    },
    "tags": []
   },
   "outputs": [],
   "source": [
    "filter_null_cols = [\n",
    "    \"subject_id\",\n",
    "    \"hadm_id\",\n",
    "    \"pharmacy_id\",\n",
    "    \"poe_id\",\n",
    "    \"poe_seq\",\n",
    "    \"order_provider_id\",\n",
    "    \"starttime\",\n",
    "    \"stoptime\",\n",
    "    \"drug_type\",\n",
    "    \"drug\",\n",
    "    \"formulary_drug_cd\",\n",
    "    # \"gsn\",\n",
    "    \"ndc\",\n",
    "    \"prod_strength\",\n",
    "    # \"form_rx\",\n",
    "    \"dose_val_rx\",\n",
    "    \"dose_unit_rx\",\n",
    "    \"form_val_disp\",\n",
    "    \"form_unit_disp\",\n",
    "    # \"doses_per_24_hrs\",\n",
    "    \"route\",\n",
    "]\n",
    "table_info(filter_nulls(table, filter_null_cols))"
   ]
  },
  {
   "cell_type": "markdown",
   "metadata": {},
   "source": [
    "## procedures_icd"
   ]
  },
  {
   "cell_type": "code",
   "execution_count": null,
   "metadata": {
    "execution": {
     "iopub.execute_input": "2023-08-15T16:53:04.269606Z",
     "iopub.status.busy": "2023-08-15T16:53:04.269357Z",
     "iopub.status.idle": "2023-08-15T16:53:04.567731Z",
     "shell.execute_reply": "2023-08-15T16:53:04.567195Z",
     "shell.execute_reply.started": "2023-08-15T16:53:04.269592Z"
    },
    "tags": []
   },
   "outputs": [],
   "source": [
    "table = get_table(\n",
    "    \"mimic-iv-2.2/hosp/procedures_icd.csv.gz\",\n",
    "    convert_options=pa.csv.ConvertOptions(\n",
    "        column_types=SCHEMAS[\"procedures_icd\"],\n",
    "        strings_can_be_null=True,\n",
    "        null_values=NULL_VALUES,\n",
    "        true_values=TRUE_VALUES,\n",
    "        false_values=FALSE_VALUES,\n",
    "    ),\n",
    ").combine_chunks()\n",
    "table_info(table)"
   ]
  },
  {
   "cell_type": "markdown",
   "metadata": {},
   "source": [
    "## provider"
   ]
  },
  {
   "cell_type": "code",
   "execution_count": null,
   "metadata": {
    "execution": {
     "iopub.execute_input": "2023-08-15T16:54:07.890901Z",
     "iopub.status.busy": "2023-08-15T16:54:07.890206Z",
     "iopub.status.idle": "2023-08-15T16:54:07.953024Z",
     "shell.execute_reply": "2023-08-15T16:54:07.952513Z",
     "shell.execute_reply.started": "2023-08-15T16:54:07.890882Z"
    },
    "tags": []
   },
   "outputs": [],
   "source": [
    "table = get_table(\n",
    "    \"mimic-iv-2.2/hosp/provider.csv.gz\",\n",
    "    convert_options=pa.csv.ConvertOptions(\n",
    "        column_types=SCHEMAS[\"provider\"],\n",
    "        null_values=NULL_VALUES,\n",
    "        true_values=TRUE_VALUES,\n",
    "        false_values=FALSE_VALUES,\n",
    "    ),\n",
    ").combine_chunks()\n",
    "table_info(table)"
   ]
  },
  {
   "cell_type": "markdown",
   "metadata": {},
   "source": [
    "## services"
   ]
  },
  {
   "cell_type": "code",
   "execution_count": null,
   "metadata": {
    "execution": {
     "iopub.execute_input": "2023-08-15T16:54:17.527096Z",
     "iopub.status.busy": "2023-08-15T16:54:17.526637Z",
     "iopub.status.idle": "2023-08-15T16:54:17.787829Z",
     "shell.execute_reply": "2023-08-15T16:54:17.787430Z",
     "shell.execute_reply.started": "2023-08-15T16:54:17.527071Z"
    },
    "tags": []
   },
   "outputs": [],
   "source": [
    "table = get_table(\n",
    "    \"mimic-iv-2.2/hosp/services.csv.gz\",\n",
    "    convert_options=pa.csv.ConvertOptions(\n",
    "        column_types=SCHEMAS[\"services\"],\n",
    "        strings_can_be_null=True,\n",
    "        null_values=NULL_VALUES,\n",
    "        true_values=TRUE_VALUES,\n",
    "        false_values=FALSE_VALUES,\n",
    "    ),\n",
    ").combine_chunks()\n",
    "table_info(table)"
   ]
  },
  {
   "cell_type": "markdown",
   "metadata": {
    "tags": []
   },
   "source": [
    "## transfers"
   ]
  },
  {
   "cell_type": "code",
   "execution_count": null,
   "metadata": {
    "execution": {
     "iopub.execute_input": "2023-08-15T16:54:31.885635Z",
     "iopub.status.busy": "2023-08-15T16:54:31.885410Z",
     "iopub.status.idle": "2023-08-15T16:54:33.856539Z",
     "shell.execute_reply": "2023-08-15T16:54:33.856178Z",
     "shell.execute_reply.started": "2023-08-15T16:54:31.885619Z"
    },
    "tags": []
   },
   "outputs": [],
   "source": [
    "table = get_table(\n",
    "    \"mimic-iv-2.2/hosp/transfers.csv.gz\",\n",
    "    convert_options=pa.csv.ConvertOptions(\n",
    "        column_types=SCHEMAS[\"transfers\"],\n",
    "        strings_can_be_null=True,\n",
    "        null_values=NULL_VALUES,\n",
    "        true_values=TRUE_VALUES,\n",
    "        false_values=FALSE_VALUES,\n",
    "    ),\n",
    ").combine_chunks()\n",
    "table_info(table)"
   ]
  },
  {
   "cell_type": "markdown",
   "metadata": {},
   "source": [
    "# ICU tables"
   ]
  },
  {
   "cell_type": "markdown",
   "metadata": {},
   "source": [
    "## caregiver"
   ]
  },
  {
   "cell_type": "code",
   "execution_count": null,
   "metadata": {
    "execution": {
     "iopub.execute_input": "2023-08-15T18:08:04.938143Z",
     "iopub.status.busy": "2023-08-15T18:08:04.937951Z",
     "iopub.status.idle": "2023-08-15T18:08:05.007383Z",
     "shell.execute_reply": "2023-08-15T18:08:05.007052Z",
     "shell.execute_reply.started": "2023-08-15T18:08:04.938128Z"
    },
    "tags": []
   },
   "outputs": [],
   "source": [
    "table = get_table(\n",
    "    \"mimic-iv-2.2/icu/caregiver.csv.gz\",\n",
    "    convert_options=pa.csv.ConvertOptions(\n",
    "        column_types=SCHEMAS[\"caregiver\"],\n",
    "        strings_can_be_null=True,\n",
    "        null_values=NULL_VALUES,\n",
    "        true_values=TRUE_VALUES,\n",
    "        false_values=FALSE_VALUES,\n",
    "    ),\n",
    ").combine_chunks()\n",
    "table_info(table)"
   ]
  },
  {
   "cell_type": "markdown",
   "metadata": {},
   "source": [
    "## d_items"
   ]
  },
  {
   "cell_type": "code",
   "execution_count": null,
   "metadata": {
    "execution": {
     "iopub.execute_input": "2023-08-15T18:08:06.158510Z",
     "iopub.status.busy": "2023-08-15T18:08:06.157786Z",
     "iopub.status.idle": "2023-08-15T18:08:06.209816Z",
     "shell.execute_reply": "2023-08-15T18:08:06.209479Z",
     "shell.execute_reply.started": "2023-08-15T18:08:06.158494Z"
    },
    "tags": []
   },
   "outputs": [],
   "source": [
    "table = get_table(\n",
    "    \"mimic-iv-2.2/icu/d_items.csv.gz\",\n",
    "    convert_options=pa.csv.ConvertOptions(\n",
    "        column_types=SCHEMAS[\"d_items\"],\n",
    "        strings_can_be_null=True,\n",
    "        null_values=NULL_VALUES,\n",
    "        true_values=TRUE_VALUES,\n",
    "        false_values=FALSE_VALUES,\n",
    "    ),\n",
    ").combine_chunks()\n",
    "table_info(table)"
   ]
  },
  {
   "cell_type": "markdown",
   "metadata": {},
   "source": [
    "## Chartevents"
   ]
  },
  {
   "cell_type": "code",
   "execution_count": null,
   "metadata": {
    "execution": {
     "iopub.execute_input": "2023-08-15T18:08:07.349755Z",
     "iopub.status.busy": "2023-08-15T18:08:07.349567Z",
     "iopub.status.idle": "2023-08-15T18:09:33.069296Z",
     "shell.execute_reply": "2023-08-15T18:09:33.068768Z",
     "shell.execute_reply.started": "2023-08-15T18:08:07.349740Z"
    },
    "tags": []
   },
   "outputs": [],
   "source": [
    "table = get_table(\n",
    "    \"mimic-iv-2.2/icu/chartevents.csv.gz\",\n",
    "    convert_options=pa.csv.ConvertOptions(\n",
    "        column_types=SCHEMAS[\"chartevents\"],\n",
    "        strings_can_be_null=True,\n",
    "        null_values=NULL_VALUES,\n",
    "        true_values=TRUE_VALUES,\n",
    "        false_values=FALSE_VALUES,\n",
    "    ),\n",
    ").combine_chunks()\n",
    "table_info(table)"
   ]
  },
  {
   "cell_type": "markdown",
   "metadata": {
    "execution": {
     "iopub.status.busy": "2023-04-07T22:43:08.043977Z",
     "iopub.status.idle": "2023-04-07T22:43:08.044133Z",
     "shell.execute_reply": "2023-04-07T22:43:08.044057Z",
     "shell.execute_reply.started": "2023-04-07T22:43:08.044050Z"
    },
    "tags": []
   },
   "source": [
    "### drop everything that has no valueuom"
   ]
  },
  {
   "cell_type": "code",
   "execution_count": null,
   "metadata": {
    "execution": {
     "iopub.execute_input": "2023-08-15T18:09:33.070012Z",
     "iopub.status.busy": "2023-08-15T18:09:33.069884Z",
     "iopub.status.idle": "2023-08-15T18:09:42.814612Z",
     "shell.execute_reply": "2023-08-15T18:09:42.814239Z",
     "shell.execute_reply.started": "2023-08-15T18:09:33.070002Z"
    },
    "tags": []
   },
   "outputs": [],
   "source": [
    "table = filter_nulls(table, [\"valueuom\"])\n",
    "table = table.set_column(\n",
    "    table.column_names.index(\"value\"),\n",
    "    \"value\",\n",
    "    pa.compute.cast(table.column(\"value\"), pa.float32()),\n",
    ")\n",
    "table_info(table)"
   ]
  },
  {
   "cell_type": "code",
   "execution_count": null,
   "metadata": {
    "execution": {
     "iopub.execute_input": "2023-08-15T18:07:04.962980Z",
     "iopub.status.busy": "2023-08-15T18:07:04.962790Z"
    },
    "tags": []
   },
   "outputs": [],
   "source": [
    "df = pl.from_arrow(table).pivot(index=\"charttime\", columns=\"itemid\", values=\"value\")"
   ]
  },
  {
   "cell_type": "code",
   "execution_count": null,
   "metadata": {
    "execution": {
     "iopub.execute_input": "2023-04-10T00:20:52.261481Z",
     "iopub.status.busy": "2023-04-10T00:20:52.261360Z",
     "iopub.status.idle": "2023-04-10T00:21:00.176274Z",
     "shell.execute_reply": "2023-04-10T00:21:00.175890Z",
     "shell.execute_reply.started": "2023-04-10T00:20:52.261469Z"
    },
    "tags": []
   },
   "outputs": [],
   "source": [
    "parquet.write_table(table, DATASET_PATH / \"chartevents.parquet\")"
   ]
  },
  {
   "cell_type": "markdown",
   "metadata": {},
   "source": [
    "## datetimeevents"
   ]
  },
  {
   "cell_type": "code",
   "execution_count": null,
   "metadata": {
    "execution": {
     "iopub.execute_input": "2023-08-15T16:56:53.266444Z",
     "iopub.status.busy": "2023-08-15T16:56:53.266155Z",
     "iopub.status.idle": "2023-08-15T16:56:56.628098Z",
     "shell.execute_reply": "2023-08-15T16:56:56.627407Z",
     "shell.execute_reply.started": "2023-08-15T16:56:53.266421Z"
    },
    "tags": []
   },
   "outputs": [],
   "source": [
    "table = get_table(\n",
    "    \"mimic-iv-2.2/icu/datetimeevents.csv.gz\",\n",
    "    convert_options=pa.csv.ConvertOptions(\n",
    "        column_types=SCHEMAS[\"datetimeevents\"],\n",
    "        strings_can_be_null=True,\n",
    "        null_values=NULL_VALUES,\n",
    "        true_values=TRUE_VALUES,\n",
    "        false_values=FALSE_VALUES,\n",
    "    ),\n",
    ").combine_chunks()\n",
    "table_info(table)"
   ]
  },
  {
   "cell_type": "markdown",
   "metadata": {},
   "source": [
    "## icustays"
   ]
  },
  {
   "cell_type": "code",
   "execution_count": null,
   "metadata": {
    "execution": {
     "iopub.execute_input": "2023-08-15T16:55:51.671145Z",
     "iopub.status.busy": "2023-08-15T16:55:51.670672Z",
     "iopub.status.idle": "2023-08-15T16:55:51.811374Z",
     "shell.execute_reply": "2023-08-15T16:55:51.810935Z",
     "shell.execute_reply.started": "2023-08-15T16:55:51.671112Z"
    },
    "tags": []
   },
   "outputs": [],
   "source": [
    "table = get_table(\n",
    "    \"mimic-iv-2.2/icu/icustays.csv.gz\",\n",
    "    convert_options=pa.csv.ConvertOptions(\n",
    "        column_types=SCHEMAS[\"icustays\"],\n",
    "        strings_can_be_null=True,\n",
    "        null_values=NULL_VALUES,\n",
    "        true_values=TRUE_VALUES,\n",
    "        false_values=FALSE_VALUES,\n",
    "    ),\n",
    ").combine_chunks()\n",
    "table_info(table)"
   ]
  },
  {
   "cell_type": "markdown",
   "metadata": {
    "tags": []
   },
   "source": [
    "## ingredientevents"
   ]
  },
  {
   "cell_type": "code",
   "execution_count": null,
   "metadata": {
    "execution": {
     "iopub.execute_input": "2023-08-15T16:55:52.523773Z",
     "iopub.status.busy": "2023-08-15T16:55:52.523596Z",
     "iopub.status.idle": "2023-08-15T16:56:03.256667Z",
     "shell.execute_reply": "2023-08-15T16:56:03.255960Z",
     "shell.execute_reply.started": "2023-08-15T16:55:52.523761Z"
    },
    "tags": []
   },
   "outputs": [],
   "source": [
    "table = get_table(\n",
    "    \"mimic-iv-2.2/icu/ingredientevents.csv.gz\",\n",
    "    convert_options=pa.csv.ConvertOptions(\n",
    "        column_types=SCHEMAS[\"ingredientevents\"],\n",
    "        strings_can_be_null=True,\n",
    "        null_values=NULL_VALUES,\n",
    "        true_values=TRUE_VALUES,\n",
    "        false_values=FALSE_VALUES,\n",
    "    ),\n",
    ").combine_chunks()\n",
    "table_info(table)"
   ]
  },
  {
   "cell_type": "markdown",
   "metadata": {
    "execution": {
     "iopub.execute_input": "2023-04-07T22:42:55.584368Z",
     "iopub.status.busy": "2023-04-07T22:42:55.584085Z",
     "iopub.status.idle": "2023-04-07T22:42:55.618118Z",
     "shell.execute_reply": "2023-04-07T22:42:55.617662Z",
     "shell.execute_reply.started": "2023-04-07T22:42:55.584357Z"
    },
    "tags": []
   },
   "source": [
    "## Inputevents"
   ]
  },
  {
   "cell_type": "code",
   "execution_count": null,
   "metadata": {
    "execution": {
     "iopub.execute_input": "2023-08-15T16:57:46.105288Z",
     "iopub.status.busy": "2023-08-15T16:57:46.104976Z",
     "iopub.status.idle": "2023-08-15T16:58:00.837597Z",
     "shell.execute_reply": "2023-08-15T16:58:00.837144Z",
     "shell.execute_reply.started": "2023-08-15T16:57:46.105266Z"
    },
    "tags": []
   },
   "outputs": [],
   "source": [
    "table = get_table(\n",
    "    \"mimic-iv-2.2/icu/inputevents.csv.gz\",\n",
    "    convert_options=pa.csv.ConvertOptions(\n",
    "        column_types=SCHEMAS[\"inputevents\"],\n",
    "        strings_can_be_null=True,\n",
    "        null_values=NULL_VALUES,\n",
    "        true_values=TRUE_VALUES,\n",
    "        false_values=FALSE_VALUES,\n",
    "    ),\n",
    ").combine_chunks()\n",
    "table_info(table)"
   ]
  },
  {
   "cell_type": "markdown",
   "metadata": {},
   "source": [
    "## Outputevents"
   ]
  },
  {
   "cell_type": "code",
   "execution_count": null,
   "metadata": {
    "execution": {
     "iopub.execute_input": "2023-08-15T17:00:17.032917Z",
     "iopub.status.busy": "2023-08-15T17:00:17.032454Z",
     "iopub.status.idle": "2023-08-15T17:00:19.214071Z",
     "shell.execute_reply": "2023-08-15T17:00:19.213662Z",
     "shell.execute_reply.started": "2023-08-15T17:00:17.032877Z"
    },
    "tags": []
   },
   "outputs": [],
   "source": [
    "table = get_table(\n",
    "    \"mimic-iv-2.2/icu/outputevents.csv.gz\",\n",
    "    convert_options=pa.csv.ConvertOptions(\n",
    "        column_types=SCHEMAS[\"outputevents\"],\n",
    "        strings_can_be_null=True,\n",
    "        null_values=NULL_VALUES,\n",
    "        true_values=TRUE_VALUES,\n",
    "        false_values=FALSE_VALUES,\n",
    "    ),\n",
    ").combine_chunks()\n",
    "table_info(table)"
   ]
  },
  {
   "cell_type": "markdown",
   "metadata": {},
   "source": [
    "## Procedureeventes"
   ]
  },
  {
   "cell_type": "code",
   "execution_count": null,
   "metadata": {
    "execution": {
     "iopub.execute_input": "2023-08-15T17:23:32.392895Z",
     "iopub.status.busy": "2023-08-15T17:23:32.392718Z",
     "iopub.status.idle": "2023-08-15T17:23:33.249067Z",
     "shell.execute_reply": "2023-08-15T17:23:33.248659Z",
     "shell.execute_reply.started": "2023-08-15T17:23:32.392883Z"
    },
    "tags": []
   },
   "outputs": [],
   "source": [
    "table = get_table(\n",
    "    \"mimic-iv-2.2/icu/procedureevents.csv.gz\",\n",
    "    convert_options=pa.csv.ConvertOptions(\n",
    "        column_types=SCHEMAS[\"procedureevents\"],\n",
    "        strings_can_be_null=True,\n",
    "        null_values=NULL_VALUES,\n",
    "        true_values=TRUE_VALUES,\n",
    "        false_values=FALSE_VALUES,\n",
    "    ),\n",
    ").combine_chunks()\n",
    "table_info(table)"
   ]
  },
  {
   "cell_type": "markdown",
   "metadata": {},
   "source": [
    "### cast storetime to timestamp[s]"
   ]
  },
  {
   "cell_type": "code",
   "execution_count": null,
   "metadata": {
    "execution": {
     "iopub.execute_input": "2023-08-15T17:23:57.952375Z",
     "iopub.status.busy": "2023-08-15T17:23:57.952107Z",
     "iopub.status.idle": "2023-08-15T17:23:58.010059Z",
     "shell.execute_reply": "2023-08-15T17:23:58.009516Z",
     "shell.execute_reply.started": "2023-08-15T17:23:57.952360Z"
    }
   },
   "outputs": [],
   "source": [
    "table = table.set_column(\n",
    "    table.column_names.index(\"storetime\"),\n",
    "    \"storetime\",\n",
    "    table[\"storetime\"].cast(TIME_TYPE, safe=False),\n",
    ")"
   ]
  },
  {
   "cell_type": "markdown",
   "metadata": {},
   "source": [
    "### unstack value - add procedure duration"
   ]
  },
  {
   "cell_type": "code",
   "execution_count": null,
   "metadata": {
    "execution": {
     "iopub.execute_input": "2023-08-15T17:57:52.375817Z",
     "iopub.status.busy": "2023-08-15T17:57:52.375197Z",
     "iopub.status.idle": "2023-08-15T17:57:54.638312Z",
     "shell.execute_reply": "2023-08-15T17:57:54.637970Z",
     "shell.execute_reply.started": "2023-08-15T17:57:52.375784Z"
    }
   },
   "outputs": [],
   "source": [
    "s = (\n",
    "    table.to_pandas(types_mapper=pd.ArrowDtype)\n",
    "    .pivot(\n",
    "        index=[\"orderid\"],\n",
    "        columns=\"valueuom\",\n",
    "        values=\"value\",\n",
    "    )\n",
    "    .fillna(0)\n",
    "    .dot(\n",
    "        pd.Series(\n",
    "            {\n",
    "                \"None\": 0,\n",
    "                \"min\": 60,\n",
    "                \"day\": 60 * 60 * 24,\n",
    "                \"hour\": 60 * 60,\n",
    "            },\n",
    "            dtype=\"duration[s][pyarrow]\",\n",
    "            name=\"time\",\n",
    "        )\n",
    "    )\n",
    ")\n",
    "\n",
    "table = table.set_column(\n",
    "    len(table.column_names),\n",
    "    \"procedure_duration\",\n",
    "    pa.Array.from_pandas(s).cast(\"duration[s]\", safe=False),\n",
    ")"
   ]
  },
  {
   "cell_type": "markdown",
   "metadata": {},
   "source": [
    "# with polars"
   ]
  },
  {
   "cell_type": "code",
   "execution_count": null,
   "metadata": {
    "execution": {
     "iopub.status.busy": "2023-04-09T15:45:14.389081Z",
     "iopub.status.idle": "2023-04-09T15:45:14.389228Z",
     "shell.execute_reply": "2023-04-09T15:45:14.389160Z",
     "shell.execute_reply.started": "2023-04-09T15:45:14.389152Z"
    },
    "tags": []
   },
   "outputs": [],
   "source": [
    "import polars as pl\n",
    "\n",
    "with ZipFile(ds.rawdata_paths, \"r\") as file:\n",
    "    if not file.namelist() == filelist:\n",
    "        raise ValueError(\"The dataset contains unknown files!\")\n",
    "\n",
    "\n",
    "def load_gz_table(archive, fname, **options):\n",
    "    with archive.open(str(fname), \"r\") as compressed_file:\n",
    "        with gzip.open(compressed_file, \"r\") as file:\n",
    "            # table = pd.read_csv(file)\n",
    "            # return table\n",
    "            return pl.read_csv(file, **options)\n",
    "            # table = pyarrow.csv.read_csv(file, **options)\n",
    "            # return table\n",
    "\n",
    "\n",
    "def load_txt(archive, fname):\n",
    "    with archive.open(str(fname), \"r\") as file:\n",
    "        return str(file.read(), encoding=\"utf8\")\n",
    "\n",
    "\n",
    "def get_table(fname, **options) -> DataFrame:\n",
    "    fname = Path(fname)\n",
    "    with ZipFile(ds.rawdata_paths, \"r\") as archive:\n",
    "        match fname.suffix:\n",
    "            case \".gz\":\n",
    "                return load_gz_table(archive, fname, **options)\n",
    "            case \".txt\":\n",
    "                return load_txt(archive, fname, **options)\n",
    "            case _:\n",
    "                raise ValueError"
   ]
  },
  {
   "cell_type": "code",
   "execution_count": null,
   "metadata": {
    "execution": {
     "iopub.status.busy": "2023-04-09T15:45:14.389973Z",
     "iopub.status.idle": "2023-04-09T15:45:14.390193Z",
     "shell.execute_reply": "2023-04-09T15:45:14.390091Z",
     "shell.execute_reply.started": "2023-04-09T15:45:14.390080Z"
    },
    "tags": []
   },
   "outputs": [],
   "source": [
    "dtypes = {\n",
    "    \"subject_id\": pl.datatypes.UInt32(),\n",
    "    \"hadm_id\": pl.datatypes.UInt32(),\n",
    "    \"stay_id\": pl.datatypes.UInt32(),\n",
    "    \"itemid\": pl.datatypes.UInt32(),\n",
    "    \"charttime\": pl.datatypes.Datetime(),\n",
    "    \"storetime\": pl.datatypes.Datetime(),\n",
    "    \"value\": pl.datatypes.Utf8(),\n",
    "    \"valuenum\": pl.datatypes.Float32(),\n",
    "    \"valueuom\": pl.datatypes.Utf8(),\n",
    "    \"warning\": pl.datatypes.Boolean(),\n",
    "}\n",
    "\n",
    "\n",
    "table = get_table(\"mimic-iv-1.0/icu/chartevents.csv.gz\", dtypes=dtypes)"
   ]
  },
  {
   "cell_type": "code",
   "execution_count": null,
   "metadata": {},
   "outputs": [],
   "source": []
  }
 ],
 "metadata": {
  "kernelspec": {
   "display_name": "Python 3 (ipykernel)",
   "language": "python",
   "name": "python3"
  },
  "language_info": {
   "codemirror_mode": {
    "name": "ipython",
    "version": 3
   },
   "file_extension": ".py",
   "mimetype": "text/x-python",
   "name": "python",
   "nbconvert_exporter": "python",
   "pygments_lexer": "ipython3",
   "version": "3.11.3"
  }
 },
 "nbformat": 4,
 "nbformat_minor": 4
}
