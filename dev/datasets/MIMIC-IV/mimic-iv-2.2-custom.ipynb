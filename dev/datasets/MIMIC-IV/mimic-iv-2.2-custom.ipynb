{
 "cells": [
  {
   "cell_type": "code",
   "execution_count": null,
   "metadata": {
    "execution": {
     "iopub.execute_input": "2023-05-03T13:55:43.081487Z",
     "iopub.status.busy": "2023-05-03T13:55:43.081031Z",
     "iopub.status.idle": "2023-05-03T13:55:43.089031Z",
     "shell.execute_reply": "2023-05-03T13:55:43.088651Z",
     "shell.execute_reply.started": "2023-05-03T13:55:43.081444Z"
    },
    "tags": []
   },
   "outputs": [],
   "source": [
    "# import resource\n",
    "\n",
    "\n",
    "# def limit_memory(maxsize):\n",
    "#     soft, hard = resource.getrlimit(resource.RLIMIT_AS)\n",
    "#     # MEMORY LIMIT IN BYTES\n",
    "#     resource.setrlimit(resource.RLIMIT_AS, (maxsize, hard))\n",
    "\n",
    "\n",
    "# # IN GIGABYTE\n",
    "# limit_memory(30 * 1024 * 1024 * 1024)"
   ]
  },
  {
   "cell_type": "code",
   "execution_count": null,
   "metadata": {
    "execution": {
     "iopub.execute_input": "2023-08-10T15:22:05.648679Z",
     "iopub.status.busy": "2023-08-10T15:22:05.648313Z",
     "iopub.status.idle": "2023-08-10T15:22:05.984698Z",
     "shell.execute_reply": "2023-08-10T15:22:05.984267Z",
     "shell.execute_reply.started": "2023-08-10T15:22:05.648651Z"
    },
    "tags": []
   },
   "outputs": [],
   "source": [
    "%config InteractiveShell.ast_node_interactivity='last_expr_or_assign'  # always print last expr.\n",
    "%config InlineBackend.figure_format = 'svg'\n",
    "%load_ext autoreload\n",
    "%autoreload 2\n",
    "%matplotlib inline\n",
    "\n",
    "import logging\n",
    "\n",
    "logging.basicConfig(level=logging.INFO)"
   ]
  },
  {
   "cell_type": "code",
   "execution_count": null,
   "metadata": {
    "execution": {
     "iopub.execute_input": "2023-08-10T15:22:05.985532Z",
     "iopub.status.busy": "2023-08-10T15:22:05.985386Z",
     "iopub.status.idle": "2023-08-10T15:22:06.263184Z",
     "shell.execute_reply": "2023-08-10T15:22:06.262775Z",
     "shell.execute_reply.started": "2023-08-10T15:22:05.985522Z"
    },
    "pycharm": {
     "name": "#%%\n"
    },
    "tags": []
   },
   "outputs": [],
   "source": [
    "import gzip\n",
    "import os\n",
    "import subprocess\n",
    "from getpass import getpass\n",
    "from pathlib import Path\n",
    "from zipfile import ZipFile\n",
    "\n",
    "import pandas as pd\n",
    "import polars as pl\n",
    "import pyarrow as pa\n",
    "from pandas import DataFrame\n",
    "from pyarrow import csv, parquet\n",
    "from tqdm.autonotebook import tqdm"
   ]
  },
  {
   "cell_type": "code",
   "execution_count": null,
   "metadata": {
    "execution": {
     "iopub.execute_input": "2023-08-10T15:22:06.267288Z",
     "iopub.status.busy": "2023-08-10T15:22:06.267196Z",
     "iopub.status.idle": "2023-08-10T15:22:09.115905Z",
     "shell.execute_reply": "2023-08-10T15:22:09.115400Z",
     "shell.execute_reply.started": "2023-08-10T15:22:06.267277Z"
    },
    "tags": []
   },
   "outputs": [],
   "source": [
    "import tsdm\n",
    "\n",
    "self = tsdm.datasets.MIMIC_IV(initialize=False)\n",
    "self.table_names\n",
    "\n",
    "RAWDATA_PATH = self.rawdata_paths[f\"mimic-iv-{self.__version__}.zip\"]"
   ]
  },
  {
   "cell_type": "code",
   "execution_count": null,
   "metadata": {
    "execution": {
     "iopub.execute_input": "2023-08-10T15:22:09.117149Z",
     "iopub.status.busy": "2023-08-10T15:22:09.116647Z",
     "iopub.status.idle": "2023-08-10T15:22:09.158430Z",
     "shell.execute_reply": "2023-08-10T15:22:09.158117Z",
     "shell.execute_reply.started": "2023-08-10T15:22:09.117134Z"
    },
    "tags": []
   },
   "outputs": [],
   "source": [
    "filelist = [\n",
    "    \"mimic-iv-2.2/CHANGELOG.txt\",\n",
    "    \"mimic-iv-2.2/LICENSE.txt\",\n",
    "    \"mimic-iv-2.2/SHA256SUMS.txt\",\n",
    "    \"mimic-iv-2.2/hosp/admissions.csv.gz\",\n",
    "    \"mimic-iv-2.2/hosp/d_hcpcs.csv.gz\",\n",
    "    \"mimic-iv-2.2/hosp/d_icd_diagnoses.csv.gz\",\n",
    "    \"mimic-iv-2.2/hosp/d_icd_procedures.csv.gz\",\n",
    "    \"mimic-iv-2.2/hosp/d_labitems.csv.gz\",\n",
    "    \"mimic-iv-2.2/hosp/diagnoses_icd.csv.gz\",\n",
    "    \"mimic-iv-2.2/hosp/drgcodes.csv.gz\",\n",
    "    \"mimic-iv-2.2/hosp/emar.csv.gz\",\n",
    "    \"mimic-iv-2.2/hosp/emar_detail.csv.gz\",\n",
    "    \"mimic-iv-2.2/hosp/hcpcsevents.csv.gz\",\n",
    "    \"mimic-iv-2.2/hosp/labevents.csv.gz\",\n",
    "    \"mimic-iv-2.2/hosp/microbiologyevents.csv.gz\",\n",
    "    \"mimic-iv-2.2/hosp/omr.csv.gz\",\n",
    "    \"mimic-iv-2.2/hosp/patients.csv.gz\",\n",
    "    \"mimic-iv-2.2/hosp/pharmacy.csv.gz\",\n",
    "    \"mimic-iv-2.2/hosp/poe.csv.gz\",\n",
    "    \"mimic-iv-2.2/hosp/poe_detail.csv.gz\",\n",
    "    \"mimic-iv-2.2/hosp/prescriptions.csv.gz\",\n",
    "    \"mimic-iv-2.2/hosp/procedures_icd.csv.gz\",\n",
    "    \"mimic-iv-2.2/hosp/provider.csv.gz\",\n",
    "    \"mimic-iv-2.2/hosp/services.csv.gz\",\n",
    "    \"mimic-iv-2.2/hosp/transfers.csv.gz\",\n",
    "    \"mimic-iv-2.2/icu/caregiver.csv.gz\",\n",
    "    \"mimic-iv-2.2/icu/chartevents.csv.gz\",\n",
    "    \"mimic-iv-2.2/icu/d_items.csv.gz\",\n",
    "    \"mimic-iv-2.2/icu/datetimeevents.csv.gz\",\n",
    "    \"mimic-iv-2.2/icu/icustays.csv.gz\",\n",
    "    \"mimic-iv-2.2/icu/ingredientevents.csv.gz\",\n",
    "    \"mimic-iv-2.2/icu/inputevents.csv.gz\",\n",
    "    \"mimic-iv-2.2/icu/outputevents.csv.gz\",\n",
    "    \"mimic-iv-2.2/icu/procedureevents.csv.gz\",\n",
    "]\n",
    "\n",
    "with ZipFile(RAWDATA_PATH, \"r\") as file:\n",
    "    a = set(file.namelist())\n",
    "    b = set(filelist)\n",
    "    if not a == b:\n",
    "        raise ValueError(f\"The dataset contains unknown files {a-b}!\")\n",
    "    filesizes = {info.filename: info.file_size for info in file.infolist()}\n",
    "pd.Series({key: filesizes[key] for key in sorted(filesizes, key=filesizes.get)})"
   ]
  },
  {
   "cell_type": "code",
   "execution_count": null,
   "metadata": {
    "execution": {
     "iopub.execute_input": "2023-08-10T15:22:09.159020Z",
     "iopub.status.busy": "2023-08-10T15:22:09.158889Z",
     "iopub.status.idle": "2023-08-10T15:22:09.197788Z",
     "shell.execute_reply": "2023-08-10T15:22:09.197384Z",
     "shell.execute_reply.started": "2023-08-10T15:22:09.159010Z"
    },
    "tags": []
   },
   "outputs": [],
   "source": [
    "from tsdm.datasets.schema.mimic_iv import (\n",
    "    FALSE_VALUES,\n",
    "    KEYS,\n",
    "    NULL_VALUES,\n",
    "    SCHEMAS,\n",
    "    TRUE_VALUES,\n",
    ")\n",
    "\n",
    "TYPES_MAP = {\n",
    "    \"int64[pyarrow]\": \"ID_TYPE\",\n",
    "    \"string[pyarrow]\": \"STRING_TYPE\",\n",
    "    \"timestamp[s][pyarrow]\": \"TIME_TYPE\",\n",
    "    \"double[pyarrow]\": \"VALUE_TYPE\",\n",
    "}"
   ]
  },
  {
   "cell_type": "code",
   "execution_count": null,
   "metadata": {
    "execution": {
     "iopub.execute_input": "2023-08-10T15:22:09.198656Z",
     "iopub.status.busy": "2023-08-10T15:22:09.198463Z",
     "iopub.status.idle": "2023-08-10T15:22:09.242250Z",
     "shell.execute_reply": "2023-08-10T15:22:09.241860Z",
     "shell.execute_reply.started": "2023-08-10T15:22:09.198640Z"
    },
    "tags": []
   },
   "outputs": [],
   "source": [
    "from tsdm.utils.data import (\n",
    "    cast_columns,\n",
    "    compute_entropy,\n",
    "    filter_nulls,\n",
    "    strip_whitespace,\n",
    "    table_info,\n",
    ")\n",
    "\n",
    "\n",
    "def load_pandas(fname, **kwargs):\n",
    "    with ZipFile(RAWDATA_PATH, \"r\") as archive:\n",
    "        with archive.open(fname) as file:\n",
    "            options = {\n",
    "                \"dtype_backend\": \"pyarrow\",\n",
    "                \"compression\": \"gzip\",\n",
    "            } | kwargs\n",
    "            return pd.read_csv(file, **options)\n",
    "\n",
    "\n",
    "def load_gz_table(archive, fname, **options):\n",
    "    with archive.open(str(fname), \"r\") as compressed_file:\n",
    "        with gzip.open(compressed_file, \"r\") as file:\n",
    "            # table = pd.read_csv(file)\n",
    "            # return table\n",
    "            table = csv.read_csv(file, **options)\n",
    "            return table\n",
    "\n",
    "\n",
    "def load_txt(archive, fname):\n",
    "    with archive.open(str(fname), \"r\") as file:\n",
    "        return str(file.read(), encoding=\"utf8\")\n",
    "\n",
    "\n",
    "def get_table(fname, **options) -> DataFrame:\n",
    "    fname = Path(fname)\n",
    "    with ZipFile(RAWDATA_PATH, \"r\") as archive:\n",
    "        match fname.suffix:\n",
    "            case \".gz\":\n",
    "                return load_gz_table(archive, fname, **options)\n",
    "            case \".txt\":\n",
    "                return load_txt(archive, fname, **options)\n",
    "            case _:\n",
    "                raise ValueError\n",
    "\n",
    "\n",
    "def get_types(table):\n",
    "    return table.to_pandas(types_mapper=pd.ArrowDtype).dtypes.astype(str).map(TYPES_MAP)"
   ]
  },
  {
   "cell_type": "code",
   "execution_count": null,
   "metadata": {
    "execution": {
     "iopub.execute_input": "2023-08-10T15:22:09.242971Z",
     "iopub.status.busy": "2023-08-10T15:22:09.242814Z",
     "iopub.status.idle": "2023-08-10T15:22:09.290975Z",
     "shell.execute_reply": "2023-08-10T15:22:09.290535Z",
     "shell.execute_reply.started": "2023-08-10T15:22:09.242959Z"
    },
    "tags": []
   },
   "outputs": [],
   "source": [
    "# def load_gz_table(archive, fname, **options):\n",
    "#     with archive.open(str(fname), \"r\") as compressed_file:\n",
    "#         with gzip.open(compressed_file, \"r\") as file:\n",
    "#             # table = pd.read_csv(file)\n",
    "#             # return table\n",
    "#             table = pa.csv.read_csv(file, **options)\n",
    "#             return table\n",
    "\n",
    "\n",
    "# def load_txt(archive, fname):\n",
    "#     with archive.open(str(fname), \"r\") as file:\n",
    "#         return str(file.read(), encoding=\"utf8\")\n",
    "\n",
    "\n",
    "# def compute_entropy(value_counts) -> float:\n",
    "#     counts = pa.compute.struct_field(value_counts, 1)\n",
    "#     n = len(counts)\n",
    "#     freqs = pa.compute.divide(\n",
    "#         pa.compute.cast(counts, pa.float64()),\n",
    "#         pa.compute.sum(counts),\n",
    "#     )\n",
    "\n",
    "#     H = pa.compute.divide(\n",
    "#         pa.compute.sum(pa.compute.multiply(freqs, pa.compute.log2(freqs))),\n",
    "#         pa.compute.log2(n),\n",
    "#     )\n",
    "#     return -H.as_py()\n",
    "\n",
    "\n",
    "# def get_table(fname, **options) -> DataFrame:\n",
    "#     fname = Path(fname)\n",
    "#     with ZipFile(RAWDATA_PATH, \"r\") as archive:\n",
    "#         match fname.suffix:\n",
    "#             case \".gz\":\n",
    "#                 return load_gz_table(archive, fname, **options)\n",
    "#             case \".txt\":\n",
    "#                 return load_txt(archive, fname, **options)\n",
    "#             case _:\n",
    "#                 raise ValueError\n",
    "\n",
    "\n",
    "# def table_info(table) -> None:\n",
    "#     size = table.nbytes / (1024 * 1024 * 1024)\n",
    "#     print(f\"shape={table.shape}  {size=:.3f} GiB\")\n",
    "#     max_key = max(map(len, table.column_names))\n",
    "#     for name, col in tqdm(zip(table.column_names, table.columns)):\n",
    "#         num_total = len(col)\n",
    "#         num_null = pa.compute.sum(pa.compute.is_null(col)).as_py()\n",
    "#         value_counts = col.value_counts()\n",
    "#         num_uniques = len(value_counts) - bool(num_null)\n",
    "#         nulls = f\"{num_null / num_total:7.2%}\" if num_null else f\"{'None':7s}\"\n",
    "#         uniques = (\n",
    "#             num_uniques / (num_total - num_null)\n",
    "#             if num_total > num_null\n",
    "#             else num_uniques / num_total\n",
    "#         )\n",
    "#         entropy = compute_entropy(value_counts)\n",
    "#         dtype = str(col.type)[:10]\n",
    "#         print(\n",
    "#             f\"{name:{max_key}s}  {nulls=:s}  {num_uniques=:9d} ({uniques:7.2%})  {entropy=:7.2%}  {dtype=:s}\"\n",
    "#         )\n",
    "\n",
    "\n",
    "# def filter_nulls(table: pa.Table, cols: list[str], aggregation=\"or\") -> pa.Table:\n",
    "#     def or_(variables):\n",
    "#         n = len(variables)\n",
    "#         if n == 0:\n",
    "#             return False\n",
    "#         if n == 1:\n",
    "#             return variables[0]\n",
    "#         return pa.compute.or_(\n",
    "#             or_(variables[: n // 2]),\n",
    "#             or_(variables[n // 2 :]),\n",
    "#         )\n",
    "\n",
    "#     def and_(variables):\n",
    "#         n = len(variables)\n",
    "#         if n == 0:\n",
    "#             return True\n",
    "#         if n == 1:\n",
    "#             return variables[0]\n",
    "#         return pa.compute.and_(\n",
    "#             or_(variables[: n // 2]),\n",
    "#             or_(variables[n // 2 :]),\n",
    "#         )\n",
    "\n",
    "#     masks = [table[col].is_null() for col in cols]\n",
    "#     mask = pa.compute.invert(or_(masks))\n",
    "#     return table.filter(mask)\n",
    "\n",
    "\n",
    "# with ZipFile(RAWDATA_PATH, \"r\") as file:\n",
    "#     if not file.namelist() == filelist:\n",
    "#         raise ValueError(\"The dataset contains unknown files!\")\n",
    "#     print(dir(file))\n",
    "\n",
    "\n",
    "#     # print([x.filename for x in file.infolist()])"
   ]
  },
  {
   "cell_type": "code",
   "execution_count": null,
   "metadata": {
    "execution": {
     "iopub.execute_input": "2023-08-10T15:22:09.293404Z",
     "iopub.status.busy": "2023-08-10T15:22:09.293297Z",
     "iopub.status.idle": "2023-08-10T15:22:09.328109Z",
     "shell.execute_reply": "2023-08-10T15:22:09.327592Z",
     "shell.execute_reply.started": "2023-08-10T15:22:09.293392Z"
    },
    "tags": []
   },
   "outputs": [],
   "source": [
    "ID_TYPE = pa.uint32()\n",
    "VALUE_TYPE = pa.float32()\n",
    "TIME_TYPE = pa.timestamp(\"s\")\n",
    "DATE_TYPE = pa.date32()\n",
    "BOOL_TYPE = pa.bool_()\n",
    "STRING_TYPE = pa.string()\n",
    "DICT_TYPE = pa.dictionary(pa.int32(), pa.string())\n",
    "NULL_TYPE = pa.null()\n",
    "TEXT_TYPE = pa.large_utf8()"
   ]
  },
  {
   "cell_type": "markdown",
   "metadata": {},
   "source": [
    "## admissions"
   ]
  },
  {
   "cell_type": "code",
   "execution_count": null,
   "metadata": {
    "execution": {
     "iopub.execute_input": "2023-08-10T15:22:09.328663Z",
     "iopub.status.busy": "2023-08-10T15:22:09.328549Z",
     "iopub.status.idle": "2023-08-10T15:22:09.854977Z",
     "shell.execute_reply": "2023-08-10T15:22:09.854518Z",
     "shell.execute_reply.started": "2023-08-10T15:22:09.328652Z"
    },
    "tags": []
   },
   "outputs": [],
   "source": [
    "table = get_table(\n",
    "    \"mimic-iv-2.2/hosp/admissions.csv.gz\",\n",
    "    convert_options=pa.csv.ConvertOptions(\n",
    "        column_types=SCHEMAS[\"admissions\"],\n",
    "        strings_can_be_null=True,\n",
    "        null_values=NULL_VALUES,\n",
    "        true_values=TRUE_VALUES,\n",
    "        false_values=FALSE_VALUES,\n",
    "    ),\n",
    ").combine_chunks()\n",
    "table_info(table)\n",
    "# sorted(pa.compute.unique(table[\"los\"]).drop_null().to_pylist())\n",
    "# table = filter_nulls(table, [\"admit_provider_id\"])\n",
    "# table_info(table)"
   ]
  },
  {
   "cell_type": "markdown",
   "metadata": {},
   "source": [
    "## d_hcpcs"
   ]
  },
  {
   "cell_type": "code",
   "execution_count": null,
   "metadata": {
    "execution": {
     "iopub.execute_input": "2023-08-10T15:26:57.279251Z",
     "iopub.status.busy": "2023-08-10T15:26:57.279092Z",
     "iopub.status.idle": "2023-08-10T15:26:57.362039Z",
     "shell.execute_reply": "2023-08-10T15:26:57.361689Z",
     "shell.execute_reply.started": "2023-08-10T15:26:57.279240Z"
    },
    "tags": []
   },
   "outputs": [],
   "source": [
    "table = get_table(\n",
    "    \"mimic-iv-2.2/hosp/d_hcpcs.csv.gz\",\n",
    "    convert_options=pa.csv.ConvertOptions(\n",
    "        column_types=SCHEMAS[\"d_hcpcs\"],\n",
    "        strings_can_be_null=True,\n",
    "        null_values=NULL_VALUES,\n",
    "        true_values=TRUE_VALUES,\n",
    "        false_values=FALSE_VALUES,\n",
    "    ),\n",
    ").combine_chunks()\n",
    "table_info(table)\n",
    "# pa.compute.unique(table[\"poe_seq\"])"
   ]
  },
  {
   "cell_type": "markdown",
   "metadata": {},
   "source": [
    "## d_icd_diagnoses"
   ]
  },
  {
   "cell_type": "code",
   "execution_count": null,
   "metadata": {
    "execution": {
     "iopub.execute_input": "2023-08-10T15:22:14.811752Z",
     "iopub.status.busy": "2023-08-10T15:22:14.811502Z",
     "iopub.status.idle": "2023-08-10T15:22:14.921212Z",
     "shell.execute_reply": "2023-08-10T15:22:14.920630Z",
     "shell.execute_reply.started": "2023-08-10T15:22:14.811733Z"
    },
    "tags": []
   },
   "outputs": [],
   "source": [
    "table = get_table(\n",
    "    \"mimic-iv-2.2/hosp/d_icd_diagnoses.csv.gz\",\n",
    "    convert_options=pa.csv.ConvertOptions(\n",
    "        column_types=SCHEMAS[\"d_icd_diagnoses\"],\n",
    "        strings_can_be_null=True,\n",
    "        null_values=NULL_VALUES,\n",
    "        true_values=TRUE_VALUES,\n",
    "        false_values=FALSE_VALUES,\n",
    "    ),\n",
    ").combine_chunks()\n",
    "table_info(table)\n",
    "# pa.compute.unique(table[\"poe_seq\"])"
   ]
  },
  {
   "cell_type": "markdown",
   "metadata": {},
   "source": [
    "## d_icd_procedures"
   ]
  },
  {
   "cell_type": "code",
   "execution_count": null,
   "metadata": {
    "execution": {
     "iopub.execute_input": "2023-08-10T15:22:21.066080Z",
     "iopub.status.busy": "2023-08-10T15:22:21.065842Z",
     "iopub.status.idle": "2023-08-10T15:22:21.156821Z",
     "shell.execute_reply": "2023-08-10T15:22:21.156505Z",
     "shell.execute_reply.started": "2023-08-10T15:22:21.066066Z"
    },
    "tags": []
   },
   "outputs": [],
   "source": [
    "table = get_table(\n",
    "    \"mimic-iv-2.2/hosp/d_icd_procedures.csv.gz\",\n",
    "    convert_options=pa.csv.ConvertOptions(\n",
    "        # column_types=SCHEMAS[\"d_icd_procedures\"],\n",
    "        strings_can_be_null=True,\n",
    "        null_values=NULL_VALUES,\n",
    "        true_values=TRUE_VALUES,\n",
    "        false_values=FALSE_VALUES,\n",
    "    ),\n",
    ").combine_chunks()\n",
    "table_info(table)\n",
    "# pa.compute.unique(table[\"poe_seq\"])"
   ]
  },
  {
   "cell_type": "markdown",
   "metadata": {},
   "source": [
    "## d_labitems"
   ]
  },
  {
   "cell_type": "code",
   "execution_count": null,
   "metadata": {
    "execution": {
     "iopub.execute_input": "2023-08-10T15:22:22.289061Z",
     "iopub.status.busy": "2023-08-10T15:22:22.287924Z",
     "iopub.status.idle": "2023-08-10T15:22:22.341354Z",
     "shell.execute_reply": "2023-08-10T15:22:22.340964Z",
     "shell.execute_reply.started": "2023-08-10T15:22:22.289003Z"
    },
    "tags": []
   },
   "outputs": [],
   "source": [
    "table = get_table(\n",
    "    \"mimic-iv-2.2/hosp/d_labitems.csv.gz\",\n",
    "    convert_options=pa.csv.ConvertOptions(\n",
    "        column_types=SCHEMAS[\"d_labitems\"],\n",
    "        strings_can_be_null=True,\n",
    "        null_values=NULL_VALUES,\n",
    "        true_values=TRUE_VALUES,\n",
    "        false_values=FALSE_VALUES,\n",
    "    ),\n",
    ").combine_chunks()\n",
    "null_cols = [\"label\"]\n",
    "table_info(table)\n",
    "# pa.compute.unique(table[\"poe_seq\"])"
   ]
  },
  {
   "cell_type": "markdown",
   "metadata": {},
   "source": [
    "## diagnoses_icd"
   ]
  },
  {
   "cell_type": "code",
   "execution_count": null,
   "metadata": {
    "execution": {
     "iopub.execute_input": "2023-08-10T15:22:58.972851Z",
     "iopub.status.busy": "2023-08-10T15:22:58.972676Z",
     "iopub.status.idle": "2023-08-10T15:22:59.621979Z",
     "shell.execute_reply": "2023-08-10T15:22:59.621510Z",
     "shell.execute_reply.started": "2023-08-10T15:22:58.972839Z"
    },
    "tags": []
   },
   "outputs": [],
   "source": [
    "table = get_table(\n",
    "    \"mimic-iv-2.2/hosp/diagnoses_icd.csv.gz\",\n",
    "    convert_options=pa.csv.ConvertOptions(\n",
    "        column_types=SCHEMAS[\"diagnoses_icd\"],\n",
    "        strings_can_be_null=True,\n",
    "        null_values=NULL_VALUES,\n",
    "        true_values=TRUE_VALUES,\n",
    "        false_values=FALSE_VALUES,\n",
    "    ),\n",
    ")\n",
    "table_info(table)\n",
    "# sorted(pa.compute.unique(table[\"los\"]).drop_null().to_pylist())"
   ]
  },
  {
   "cell_type": "markdown",
   "metadata": {},
   "source": [
    "## drgcodes"
   ]
  },
  {
   "cell_type": "code",
   "execution_count": null,
   "metadata": {
    "execution": {
     "iopub.execute_input": "2023-08-10T15:23:30.325185Z",
     "iopub.status.busy": "2023-08-10T15:23:30.324971Z",
     "iopub.status.idle": "2023-08-10T15:23:30.359101Z",
     "shell.execute_reply": "2023-08-10T15:23:30.358448Z",
     "shell.execute_reply.started": "2023-08-10T15:23:30.325172Z"
    },
    "tags": []
   },
   "outputs": [],
   "source": [
    "from tsdm.datasets.schema.mimic_iv import SCHEMAS"
   ]
  },
  {
   "cell_type": "code",
   "execution_count": null,
   "metadata": {
    "execution": {
     "iopub.execute_input": "2023-08-10T15:23:30.976566Z",
     "iopub.status.busy": "2023-08-10T15:23:30.976397Z",
     "iopub.status.idle": "2023-08-10T15:23:31.196041Z",
     "shell.execute_reply": "2023-08-10T15:23:31.195651Z",
     "shell.execute_reply.started": "2023-08-10T15:23:30.976554Z"
    },
    "tags": []
   },
   "outputs": [],
   "source": [
    "table = get_table(\n",
    "    \"mimic-iv-2.2/hosp/drgcodes.csv.gz\",\n",
    "    convert_options=pa.csv.ConvertOptions(\n",
    "        column_types=SCHEMAS[\"drgcodes\"],\n",
    "        strings_can_be_null=True,\n",
    "        null_values=NULL_VALUES,\n",
    "        true_values=TRUE_VALUES,\n",
    "        false_values=FALSE_VALUES,\n",
    "    ),\n",
    ").combine_chunks()\n",
    "table_info(table)\n",
    "# sorted(pa.compute.unique(table[\"los\"]).drop_null().to_pylist())"
   ]
  },
  {
   "cell_type": "markdown",
   "metadata": {},
   "source": [
    "## emar"
   ]
  },
  {
   "cell_type": "code",
   "execution_count": null,
   "metadata": {
    "execution": {
     "iopub.execute_input": "2023-08-10T15:27:41.371002Z",
     "iopub.status.busy": "2023-08-10T15:27:41.370808Z",
     "iopub.status.idle": "2023-08-10T15:28:03.898635Z",
     "shell.execute_reply": "2023-08-10T15:28:03.898113Z",
     "shell.execute_reply.started": "2023-08-10T15:27:41.370988Z"
    },
    "tags": []
   },
   "outputs": [],
   "source": [
    "table = get_table(\n",
    "    \"mimic-iv-2.2/hosp/emar.csv.gz\",\n",
    "    convert_options=pa.csv.ConvertOptions(\n",
    "        column_types=SCHEMAS[\"emar\"],\n",
    "        strings_can_be_null=True,\n",
    "        null_values=NULL_VALUES,\n",
    "        true_values=TRUE_VALUES,\n",
    "        false_values=FALSE_VALUES,\n",
    "    ),\n",
    ").combine_chunks()\n",
    "table_info(table)"
   ]
  },
  {
   "cell_type": "code",
   "execution_count": null,
   "metadata": {
    "execution": {
     "iopub.execute_input": "2023-08-10T15:30:51.146910Z",
     "iopub.status.busy": "2023-08-10T15:30:51.146748Z",
     "iopub.status.idle": "2023-08-10T15:31:03.058121Z",
     "shell.execute_reply": "2023-08-10T15:31:03.057547Z",
     "shell.execute_reply.started": "2023-08-10T15:30:51.146899Z"
    },
    "tags": []
   },
   "outputs": [],
   "source": [
    "table = filter_nulls(table, [\"hadm_id\", \"scheduletime\"])\n",
    "table_info(table)"
   ]
  },
  {
   "cell_type": "markdown",
   "metadata": {},
   "source": [
    "## emar_detail"
   ]
  },
  {
   "cell_type": "code",
   "execution_count": null,
   "metadata": {},
   "outputs": [],
   "source": [
    "from tsdm.datasets.schema.mimic_iv import SCHEMAS\n",
    "\n",
    "table[\"medication\"].unique()"
   ]
  },
  {
   "cell_type": "code",
   "execution_count": null,
   "metadata": {
    "execution": {
     "iopub.execute_input": "2023-08-10T15:32:05.310292Z",
     "iopub.status.busy": "2023-08-10T15:32:05.310115Z",
     "iopub.status.idle": "2023-08-10T15:32:33.733417Z",
     "shell.execute_reply": "2023-08-10T15:32:33.733071Z",
     "shell.execute_reply.started": "2023-08-10T15:32:05.310279Z"
    },
    "tags": []
   },
   "outputs": [],
   "source": [
    "table = get_table(\n",
    "    \"mimic-iv-2.2/hosp/emar_detail.csv.gz\",\n",
    "    convert_options=pa.csv.ConvertOptions(\n",
    "        column_types=SCHEMAS[\"emar_detail\"],\n",
    "        strings_can_be_null=True,\n",
    "        null_values=NULL_VALUES,\n",
    "        true_values=TRUE_VALUES,\n",
    "        false_values=FALSE_VALUES,\n",
    "    ),\n",
    ").combine_chunks()\n",
    "table_info(table)"
   ]
  },
  {
   "cell_type": "code",
   "execution_count": null,
   "metadata": {
    "execution": {
     "iopub.execute_input": "2023-08-10T15:32:43.278496Z",
     "iopub.status.busy": "2023-08-10T15:32:43.278223Z",
     "iopub.status.idle": "2023-08-10T15:35:36.309175Z",
     "shell.execute_reply": "2023-08-10T15:35:36.308642Z",
     "shell.execute_reply.started": "2023-08-10T15:32:43.278481Z"
    },
    "tags": []
   },
   "outputs": [],
   "source": [
    "recast_columns = {\n",
    "    \"dose_due\": VALUE_TYPE,\n",
    "    \"dose_given\": VALUE_TYPE,\n",
    "    \"product_amount_given\": VALUE_TYPE,\n",
    "    \"prior_infusion_rate\": VALUE_TYPE,\n",
    "    \"infusion_rate\": VALUE_TYPE,\n",
    "    \"infusion_rate_adjustment_amount\": VALUE_TYPE,\n",
    "}\n",
    "\n",
    "for col in recast_columns:\n",
    "    array = pa.compute.utf8_trim_whitespace(table[col])\n",
    "\n",
    "    prior_null = pa.compute.is_null(array)\n",
    "    post_null = pa.compute.is_null(\n",
    "        pa.Array.from_pandas(\n",
    "            pd.to_numeric(\n",
    "                pd.Series(array, dtype=\"string[pyarrow]\"),\n",
    "                errors=\"coerce\",\n",
    "                dtype_backend=\"pyarrow\",\n",
    "                downcast=pa.float32(),\n",
    "            )\n",
    "        )\n",
    "    )\n",
    "\n",
    "    # mask the values that were initially null or can be cast to float.\n",
    "    mask = pa.compute.or_(\n",
    "        prior_null,\n",
    "        pa.compute.invert(post_null),\n",
    "    )\n",
    "    dropped = 1 - pa.compute.mean(mask).as_py()\n",
    "    print(f\"Dropping {dropped:.4%} of rows: {col} can't be cast to float!\")\n",
    "    table = table.filter(mask)\n",
    "    table = table.set_column(\n",
    "        table.column_names.index(col),\n",
    "        col,\n",
    "        pa.compute.cast(\n",
    "            array.filter(mask),\n",
    "            pa.float32(),\n",
    "        ),\n",
    "    )\n",
    "table_info(table)"
   ]
  },
  {
   "cell_type": "markdown",
   "metadata": {},
   "source": [
    "## hcpcsevents"
   ]
  },
  {
   "cell_type": "code",
   "execution_count": null,
   "metadata": {
    "execution": {
     "iopub.execute_input": "2023-05-03T13:37:34.936148Z",
     "iopub.status.busy": "2023-05-03T13:37:34.935900Z",
     "iopub.status.idle": "2023-05-03T13:37:35.050637Z",
     "shell.execute_reply": "2023-05-03T13:37:35.050153Z",
     "shell.execute_reply.started": "2023-05-03T13:37:34.936132Z"
    },
    "tags": []
   },
   "outputs": [],
   "source": [
    "table = get_table(\n",
    "    \"mimic-iv-2.2/hosp/hcpcsevents.csv.gz\",\n",
    "    convert_options=pa.csv.ConvertOptions(\n",
    "        column_types=SCHEMAS[\"hcpcsevents\"],\n",
    "        strings_can_be_null=True,\n",
    "        null_values=NULL_VALUES,\n",
    "        true_values=TRUE_VALUES,\n",
    "        false_values=FALSE_VALUES,\n",
    "    ),\n",
    ").combine_chunks()\n",
    "table_info(table)\n",
    "# sorted(pa.compute.unique(table[\"los\"]).drop_null().to_pylist())"
   ]
  },
  {
   "cell_type": "markdown",
   "metadata": {},
   "source": [
    "## Labevents"
   ]
  },
  {
   "cell_type": "code",
   "execution_count": null,
   "metadata": {
    "execution": {
     "iopub.execute_input": "2023-05-03T13:37:50.610837Z",
     "iopub.status.busy": "2023-05-03T13:37:50.610655Z",
     "iopub.status.idle": "2023-05-03T13:38:59.156028Z",
     "shell.execute_reply": "2023-05-03T13:38:59.155419Z",
     "shell.execute_reply.started": "2023-05-03T13:37:50.610826Z"
    },
    "tags": []
   },
   "outputs": [],
   "source": [
    "table = get_table(\n",
    "    \"mimic-iv-2.2/hosp/labevents.csv.gz\",\n",
    "    convert_options=pa.csv.ConvertOptions(\n",
    "        column_types=SCHEMAS[\"labevents\"],\n",
    "        strings_can_be_null=True,\n",
    "        null_values=NULL_VALUES,\n",
    "        true_values=TRUE_VALUES,\n",
    "        false_values=FALSE_VALUES,\n",
    "    ),\n",
    ").combine_chunks()\n",
    "table_info(table)\n",
    "# sorted(pa.compute.unique(table[\"los\"]).drop_null().to_pylist())"
   ]
  },
  {
   "cell_type": "code",
   "execution_count": null,
   "metadata": {
    "execution": {
     "iopub.execute_input": "2023-05-03T13:40:31.731340Z",
     "iopub.status.busy": "2023-05-03T13:40:31.731170Z",
     "iopub.status.idle": "2023-05-03T13:40:46.789970Z",
     "shell.execute_reply": "2023-05-03T13:40:46.789427Z",
     "shell.execute_reply.started": "2023-05-03T13:40:31.731328Z"
    },
    "tags": []
   },
   "outputs": [],
   "source": [
    "null_cols = [\"hadm_id\", \"storetime\", \"value\", \"valuenum\", \"valueuom\"]\n",
    "table = filter_nulls(table, null_cols)\n",
    "table_info(table)"
   ]
  },
  {
   "cell_type": "markdown",
   "metadata": {
    "tags": []
   },
   "source": [
    "### drop everything that has no hadm_id or null value or null valueuom"
   ]
  },
  {
   "cell_type": "code",
   "execution_count": null,
   "metadata": {
    "execution": {
     "iopub.execute_input": "2023-04-09T23:25:43.871250Z",
     "iopub.status.busy": "2023-04-09T23:25:43.870763Z",
     "iopub.status.idle": "2023-04-09T23:26:02.495709Z",
     "shell.execute_reply": "2023-04-09T23:26:02.495220Z",
     "shell.execute_reply.started": "2023-04-09T23:25:43.871236Z"
    },
    "tags": []
   },
   "outputs": [],
   "source": [
    "adm_null = pa.compute.is_null(table[\"hadm_id\"])\n",
    "val_null = pa.compute.is_null(table[\"value\"])\n",
    "num_null = pa.compute.is_null(table[\"valuenum\"])\n",
    "uom_null = pa.compute.is_null(table[\"valueuom\"])\n",
    "mask = pa.compute.invert(\n",
    "    pa.compute.or_(\n",
    "        pa.compute.or_(adm_null, val_null),\n",
    "        pa.compute.or_(num_null, uom_null),\n",
    "    )\n",
    ")\n",
    "table = pa.compute.filter(table, mask)\n",
    "\n",
    "# cast value to float\n",
    "table = table.set_column(\n",
    "    table.column_names.index(\"value\"),\n",
    "    \"value\",\n",
    "    pa.compute.cast(table.column(\"value\"), pa.float32()),\n",
    ")\n",
    "assert pa.compute.all(pa.compute.equal(table[\"value\"], table[\"valuenum\"])).as_py()\n",
    "table_info(table)"
   ]
  },
  {
   "cell_type": "markdown",
   "metadata": {},
   "source": [
    "## microbiologyevents"
   ]
  },
  {
   "cell_type": "code",
   "execution_count": null,
   "metadata": {
    "execution": {
     "iopub.execute_input": "2023-05-03T14:55:37.338352Z",
     "iopub.status.busy": "2023-05-03T14:55:37.338104Z",
     "iopub.status.idle": "2023-05-03T14:55:37.375968Z",
     "shell.execute_reply": "2023-05-03T14:55:37.375143Z",
     "shell.execute_reply.started": "2023-05-03T14:55:37.338336Z"
    },
    "tags": []
   },
   "outputs": [],
   "source": [
    "pa.list_(pa.string()).value_type"
   ]
  },
  {
   "cell_type": "code",
   "execution_count": null,
   "metadata": {
    "execution": {
     "iopub.execute_input": "2023-05-03T14:54:44.799902Z",
     "iopub.status.busy": "2023-05-03T14:54:44.799687Z",
     "iopub.status.idle": "2023-05-03T14:54:44.838937Z",
     "shell.execute_reply": "2023-05-03T14:54:44.838358Z",
     "shell.execute_reply.started": "2023-05-03T14:54:44.799881Z"
    },
    "tags": []
   },
   "outputs": [],
   "source": [
    "dir(pa.dictionary(pa.int32(), pa.string()))"
   ]
  },
  {
   "cell_type": "code",
   "execution_count": null,
   "metadata": {
    "execution": {
     "iopub.execute_input": "2023-04-09T23:16:52.087242Z",
     "iopub.status.busy": "2023-04-09T23:16:52.086746Z",
     "iopub.status.idle": "2023-04-09T23:16:55.678155Z",
     "shell.execute_reply": "2023-04-09T23:16:55.677685Z",
     "shell.execute_reply.started": "2023-04-09T23:16:52.087227Z"
    },
    "tags": []
   },
   "outputs": [],
   "source": [
    "table = get_table(\n",
    "    \"mimic-iv-2.2/hosp/microbiologyevents.csv.gz\",\n",
    "    convert_options=pa.csv.ConvertOptions(\n",
    "        column_types=SCHEMAS[\"microbiologyevents\"],\n",
    "        strings_can_be_null=True,\n",
    "        null_values=NULL_VALUES,\n",
    "        true_values=TRUE_VALUES,\n",
    "        false_values=FALSE_VALUES,\n",
    "    ),\n",
    ")\n",
    "null_cols = [\"storedate\", \"storetime\", \"spec_type_desc\"]\n",
    "table_info(table)\n",
    "# sorted(pa.compute.unique(table[\"los\"]).drop_null().to_pylist())"
   ]
  },
  {
   "cell_type": "markdown",
   "metadata": {},
   "source": [
    "### Check dilution"
   ]
  },
  {
   "cell_type": "code",
   "execution_count": null,
   "metadata": {
    "execution": {
     "iopub.execute_input": "2023-04-09T16:26:03.999278Z",
     "iopub.status.busy": "2023-04-09T16:26:03.998987Z",
     "iopub.status.idle": "2023-04-09T16:26:04.225204Z",
     "shell.execute_reply": "2023-04-09T16:26:04.224718Z",
     "shell.execute_reply.started": "2023-04-09T16:26:03.999263Z"
    },
    "tags": []
   },
   "outputs": [],
   "source": [
    "dilution = table[\"dilution_text\"]\n",
    "dilution = pa.compute.replace_substring(dilution, \"<\", \"\")\n",
    "dilution = pa.compute.replace_substring(dilution, \">\", \"\")\n",
    "dilution = pa.compute.replace_substring(dilution, \"=\", \"\")\n",
    "dilution = pa.compute.cast(dilution, pa.float32())\n",
    "assert (\n",
    "    pa.compute.all(\n",
    "        pa.compute.equal(dilution, table[\"dilution_value\"]).drop_null()\n",
    "    ).as_py()\n",
    "    is True\n",
    ")"
   ]
  },
  {
   "cell_type": "markdown",
   "metadata": {},
   "source": [
    "## omr"
   ]
  },
  {
   "cell_type": "code",
   "execution_count": null,
   "metadata": {
    "execution": {
     "iopub.execute_input": "2023-04-09T23:09:54.227473Z",
     "iopub.status.busy": "2023-04-09T23:09:54.227175Z",
     "iopub.status.idle": "2023-04-09T23:09:55.394474Z",
     "shell.execute_reply": "2023-04-09T23:09:55.393809Z",
     "shell.execute_reply.started": "2023-04-09T23:09:54.227460Z"
    },
    "tags": []
   },
   "outputs": [],
   "source": [
    "table = get_table(\n",
    "    \"mimic-iv-2.2/hosp/omr.csv.gz\",\n",
    "    convert_options=pa.csv.ConvertOptions(\n",
    "        column_types=SCHEMAS[\"omr\"],\n",
    "        strings_can_be_null=True,\n",
    "        null_values=NULL_VALUES,\n",
    "        true_values=TRUE_VALUES,\n",
    "        false_values=FALSE_VALUES,\n",
    "    ),\n",
    ").combine_chunks()\n",
    "table_info(table)\n",
    "# sorted(pa.compute.unique(table[\"los\"]).drop_null().to_pylist())"
   ]
  },
  {
   "cell_type": "markdown",
   "metadata": {
    "execution": {
     "iopub.execute_input": "2023-04-09T22:00:07.283689Z",
     "iopub.status.busy": "2023-04-09T22:00:07.283574Z",
     "iopub.status.idle": "2023-04-09T22:00:12.128355Z",
     "shell.execute_reply": "2023-04-09T22:00:12.127899Z",
     "shell.execute_reply.started": "2023-04-09T22:00:07.283677Z"
    },
    "tags": []
   },
   "source": [
    "### split results_value (two values stored for blood pressure)"
   ]
  },
  {
   "cell_type": "code",
   "execution_count": null,
   "metadata": {
    "execution": {
     "iopub.execute_input": "2023-04-09T23:09:55.395449Z",
     "iopub.status.busy": "2023-04-09T23:09:55.395328Z",
     "iopub.status.idle": "2023-04-09T23:10:16.596519Z",
     "shell.execute_reply": "2023-04-09T23:10:16.595692Z",
     "shell.execute_reply.started": "2023-04-09T23:09:55.395437Z"
    },
    "tags": []
   },
   "outputs": [],
   "source": [
    "table = table.set_column(\n",
    "    table.column_names.index(\"result_value\"),\n",
    "    \"result_value\",\n",
    "    pa.compute.split_pattern(table[\"result_value\"], \"/\"),\n",
    ")\n",
    "\n",
    "df = table.to_pandas().pivot(\n",
    "    index=[\"subject_id\", \"seq_num\", \"chartdate\"],\n",
    "    columns=\"result_name\",\n",
    "    values=\"result_value\",\n",
    ")\n",
    "\n",
    "for col in (pbar := tqdm(df.columns)):\n",
    "    pbar.set_postfix(column=f\"{col!r}\")\n",
    "    s = df.pop(col).copy()\n",
    "    m = s.isna()\n",
    "    s.loc[m] = [[]] * m.sum()\n",
    "    columns = (\n",
    "        [f\"{col} (systolic)\", f\"{col} (diastolic)\"]\n",
    "        if \"blood pressure\" in col.lower()\n",
    "        else [col]\n",
    "    )\n",
    "    frame = pd.DataFrame(s.to_list(), columns=columns, index=s.index)\n",
    "    for new_col in frame:\n",
    "        df[new_col] = pd.to_numeric(\n",
    "            frame[new_col],\n",
    "            errors=\"coerce\",\n",
    "            downcast=pa.float32(),\n",
    "            dtype_backend=\"pyarrow\",\n",
    "        ).astype(\n",
    "            \"float[pyarrow]\"\n",
    "        )  # required due to \"Weight (Lbs)\"\n",
    "        # contains bad data: 210237760.0, the nearest float is 210237758.0\n",
    "table = pa.Table.from_pandas(df.dropna(how=\"all\").reset_index())\n",
    "table_info(table)"
   ]
  },
  {
   "cell_type": "markdown",
   "metadata": {},
   "source": [
    "## patients"
   ]
  },
  {
   "cell_type": "code",
   "execution_count": null,
   "metadata": {
    "execution": {
     "iopub.execute_input": "2023-04-09T23:07:31.323483Z",
     "iopub.status.busy": "2023-04-09T23:07:31.323186Z",
     "iopub.status.idle": "2023-04-09T23:07:31.719332Z",
     "shell.execute_reply": "2023-04-09T23:07:31.718995Z",
     "shell.execute_reply.started": "2023-04-09T23:07:31.323469Z"
    },
    "tags": []
   },
   "outputs": [],
   "source": [
    "table = get_table(\n",
    "    \"mimic-iv-2.2/hosp/patients.csv.gz\",\n",
    "    convert_options=pa.csv.ConvertOptions(\n",
    "        column_types=SCHEMAS[\"patients\"],\n",
    "        strings_can_be_null=True,\n",
    "        null_values=NULL_VALUES,\n",
    "        true_values=TRUE_VALUES,\n",
    "        false_values=FALSE_VALUES,\n",
    "    ),\n",
    ").combine_chunks()\n",
    "table_info(table)\n",
    "# sorted(pa.compute.unique(table[\"los\"]).drop_null().to_pylist())"
   ]
  },
  {
   "cell_type": "markdown",
   "metadata": {},
   "source": [
    "## pharmacy"
   ]
  },
  {
   "cell_type": "code",
   "execution_count": null,
   "metadata": {
    "execution": {
     "iopub.execute_input": "2023-04-09T23:06:21.426532Z",
     "iopub.status.busy": "2023-04-09T23:06:21.425802Z",
     "iopub.status.idle": "2023-04-09T23:06:39.929548Z",
     "shell.execute_reply": "2023-04-09T23:06:39.928953Z",
     "shell.execute_reply.started": "2023-04-09T23:06:21.426505Z"
    },
    "tags": []
   },
   "outputs": [],
   "source": [
    "table = get_table(\n",
    "    \"mimic-iv-2.2/hosp/pharmacy.csv.gz\",\n",
    "    convert_options=pa.csv.ConvertOptions(\n",
    "        column_types=SCHEMAS[\"pharmacy\"],\n",
    "        strings_can_be_null=True,\n",
    "        null_values=NULL_VALUES,\n",
    "        true_values=TRUE_VALUES,\n",
    "        false_values=FALSE_VALUES,\n",
    "    ),\n",
    ").combine_chunks()\n",
    "table_info(table)\n",
    "# sorted(pa.compute.unique(table[\"los\"]).drop_null().to_pylist())"
   ]
  },
  {
   "cell_type": "code",
   "execution_count": null,
   "metadata": {
    "execution": {
     "iopub.execute_input": "2023-04-09T23:06:39.930836Z",
     "iopub.status.busy": "2023-04-09T23:06:39.930502Z",
     "iopub.status.idle": "2023-04-09T23:06:51.261648Z",
     "shell.execute_reply": "2023-04-09T23:06:51.261092Z",
     "shell.execute_reply.started": "2023-04-09T23:06:39.930822Z"
    },
    "tags": []
   },
   "outputs": [],
   "source": [
    "null_cols = [\n",
    "    \"subject_id\",\n",
    "    \"hadm_id\",\n",
    "    \"pharmacy_id\",\n",
    "    \"poe_id\",\n",
    "    \"starttime\",\n",
    "    \"stoptime\",\n",
    "    \"medication\",\n",
    "    \"proc_type\",\n",
    "    \"status\",\n",
    "    \"entertime\",\n",
    "    \"verifiedtime\",\n",
    "    \"route\",\n",
    "    \"frequency\",\n",
    "    # \"disp_sched\",\n",
    "    # \"infusion_type\",\n",
    "    # \"sliding_scale\",\n",
    "    # \"lockout_interval\",\n",
    "    # \"basal_rate\",\n",
    "    # \"one_hr_max\",\n",
    "    # \"doses_per_24_hrs\",\n",
    "    # \"duration\",\n",
    "    \"duration_interval\",\n",
    "    # \"expiration_value\",\n",
    "    \"expiration_unit\",\n",
    "    # \"expirationdate\",\n",
    "    \"dispensation\",\n",
    "    # \"fill_quantity\",\n",
    "]\n",
    "table_info(filter_nulls(table, null_cols))"
   ]
  },
  {
   "cell_type": "markdown",
   "metadata": {},
   "source": [
    "## poe"
   ]
  },
  {
   "cell_type": "code",
   "execution_count": null,
   "metadata": {
    "execution": {
     "iopub.execute_input": "2023-04-09T23:03:30.196704Z",
     "iopub.status.busy": "2023-04-09T23:03:30.196443Z",
     "iopub.status.idle": "2023-04-09T23:03:58.478977Z",
     "shell.execute_reply": "2023-04-09T23:03:58.478533Z",
     "shell.execute_reply.started": "2023-04-09T23:03:30.196690Z"
    },
    "tags": []
   },
   "outputs": [],
   "source": [
    "table = get_table(\n",
    "    \"mimic-iv-2.2/hosp/poe.csv.gz\",\n",
    "    convert_options=pa.csv.ConvertOptions(\n",
    "        column_types=SCHEMAS[\"poe\"],\n",
    "        strings_can_be_null=True,\n",
    "        null_values=NULL_VALUES,\n",
    "        true_values=TRUE_VALUES,\n",
    "        false_values=FALSE_VALUES,\n",
    "    ),\n",
    ").combine_chunks()\n",
    "null_cols = [\"order_provider_id\"]\n",
    "table_info(table)\n",
    "# sorted(pa.compute.unique(table[\"los\"]).drop_null().to_pylist())"
   ]
  },
  {
   "cell_type": "markdown",
   "metadata": {},
   "source": [
    "## poe_detail"
   ]
  },
  {
   "cell_type": "code",
   "execution_count": null,
   "metadata": {
    "execution": {
     "iopub.execute_input": "2023-04-18T22:37:56.938649Z",
     "iopub.status.busy": "2023-04-18T22:37:56.938427Z",
     "iopub.status.idle": "2023-04-18T22:37:58.189957Z",
     "shell.execute_reply": "2023-04-18T22:37:58.189545Z",
     "shell.execute_reply.started": "2023-04-18T22:37:56.938636Z"
    },
    "tags": []
   },
   "outputs": [],
   "source": [
    "table = get_table(\n",
    "    \"mimic-iv-2.2/hosp/poe_detail.csv.gz\",\n",
    "    convert_options=pa.csv.ConvertOptions(\n",
    "        column_types=SCHEMAS[\"poe_detail\"],\n",
    "        strings_can_be_null=True,\n",
    "        null_values=NULL_VALUES,\n",
    "        true_values=TRUE_VALUES,\n",
    "        false_values=FALSE_VALUES,\n",
    "    ),\n",
    ").combine_chunks()\n",
    "table_info(table)\n",
    "#"
   ]
  },
  {
   "cell_type": "markdown",
   "metadata": {},
   "source": [
    "### unstack fields"
   ]
  },
  {
   "cell_type": "code",
   "execution_count": null,
   "metadata": {
    "execution": {
     "iopub.execute_input": "2023-04-18T22:38:00.898649Z",
     "iopub.status.busy": "2023-04-18T22:38:00.898350Z",
     "iopub.status.idle": "2023-04-18T22:38:07.967699Z",
     "shell.execute_reply": "2023-04-18T22:38:07.967050Z",
     "shell.execute_reply.started": "2023-04-18T22:38:00.898635Z"
    },
    "tags": []
   },
   "outputs": [],
   "source": [
    "unstacked_dtypes = {\n",
    "    \"Admit category\": \"category\",\n",
    "    \"Admit to\": \"category\",\n",
    "    \"Code status\": \"category\",\n",
    "    \"Consult Status\": \"category\",\n",
    "    \"Consult Status Time\": \"datetime64[ns]\",\n",
    "    \"Discharge Planning\": \"category\",\n",
    "    \"Discharge When\": \"category\",\n",
    "    \"Indication\": \"category\",\n",
    "    \"Level of Urgency\": \"category\",\n",
    "    \"Transfer to\": \"category\",\n",
    "    \"Tubes & Drains type\": \"category\",\n",
    "}\n",
    "\n",
    "df = (\n",
    "    table.to_pandas()\n",
    "    .pivot(\n",
    "        index=[\"poe_id\", \"poe_seq\", \"subject_id\"],\n",
    "        columns=\"field_name\",\n",
    "        values=\"field_value\",\n",
    "    )\n",
    "    .dropna(how=\"all\")\n",
    "    .astype(unstacked_dtypes)\n",
    "    .reset_index()\n",
    ")\n",
    "table_info(pa.Table.from_pandas(df))"
   ]
  },
  {
   "cell_type": "markdown",
   "metadata": {},
   "source": [
    "## prescriptions"
   ]
  },
  {
   "cell_type": "code",
   "execution_count": null,
   "metadata": {
    "execution": {
     "iopub.execute_input": "2023-04-09T22:57:25.821025Z",
     "iopub.status.busy": "2023-04-09T22:57:25.820720Z",
     "iopub.status.idle": "2023-04-09T22:57:43.898356Z",
     "shell.execute_reply": "2023-04-09T22:57:43.897809Z",
     "shell.execute_reply.started": "2023-04-09T22:57:25.821008Z"
    },
    "tags": []
   },
   "outputs": [],
   "source": [
    "table = get_table(\n",
    "    \"mimic-iv-2.2/hosp/prescriptions.csv.gz\",\n",
    "    convert_options=pa.csv.ConvertOptions(\n",
    "        column_types=SCHEMAS[\"prescriptions\"],\n",
    "        strings_can_be_null=True,\n",
    "        null_values=NULL_VALUES,\n",
    "        true_values=TRUE_VALUES,\n",
    "        false_values=FALSE_VALUES,\n",
    "    ),\n",
    ").combine_chunks()\n",
    "table_info(table)\n",
    "# sorted(pa.compute.unique(table[\"los\"]).drop_null().to_pylist())"
   ]
  },
  {
   "cell_type": "markdown",
   "metadata": {},
   "source": [
    "### drop val columns that are not float"
   ]
  },
  {
   "cell_type": "code",
   "execution_count": null,
   "metadata": {
    "execution": {
     "iopub.execute_input": "2023-04-09T22:57:43.899269Z",
     "iopub.status.busy": "2023-04-09T22:57:43.899151Z",
     "iopub.status.idle": "2023-04-09T22:58:04.099437Z",
     "shell.execute_reply": "2023-04-09T22:58:04.098802Z",
     "shell.execute_reply.started": "2023-04-09T22:57:43.899257Z"
    },
    "tags": []
   },
   "outputs": [],
   "source": [
    "table = table.set_column(\n",
    "    table.column_names.index(\"dose_val_rx\"),\n",
    "    \"dose_val_rx\",\n",
    "    pa.Array.from_pandas(\n",
    "        pd.to_numeric(\n",
    "            pd.Series(table[\"dose_val_rx\"]),\n",
    "            errors=\"coerce\",\n",
    "            dtype_backend=\"pyarrow\",\n",
    "            downcast=pa.float32(),\n",
    "        )\n",
    "    ),\n",
    ")\n",
    "table = table.set_column(\n",
    "    table.column_names.index(\"form_val_disp\"),\n",
    "    \"form_val_disp\",\n",
    "    pa.Array.from_pandas(\n",
    "        pd.to_numeric(\n",
    "            pd.Series(table[\"form_val_disp\"]),\n",
    "            errors=\"coerce\",\n",
    "            dtype_backend=\"pyarrow\",\n",
    "            downcast=pa.float32(),\n",
    "        )\n",
    "    ),\n",
    ")\n",
    "table_info(table)"
   ]
  },
  {
   "cell_type": "code",
   "execution_count": null,
   "metadata": {
    "execution": {
     "iopub.execute_input": "2023-04-09T22:58:17.210527Z",
     "iopub.status.busy": "2023-04-09T22:58:17.210228Z",
     "iopub.status.idle": "2023-04-09T22:58:27.250542Z",
     "shell.execute_reply": "2023-04-09T22:58:27.250100Z",
     "shell.execute_reply.started": "2023-04-09T22:58:17.210512Z"
    },
    "tags": []
   },
   "outputs": [],
   "source": [
    "filter_null_cols = [\n",
    "    \"subject_id\",\n",
    "    \"hadm_id\",\n",
    "    \"pharmacy_id\",\n",
    "    \"poe_id\",\n",
    "    \"poe_seq\",\n",
    "    \"order_provider_id\",\n",
    "    \"starttime\",\n",
    "    \"stoptime\",\n",
    "    \"drug_type\",\n",
    "    \"drug\",\n",
    "    \"formulary_drug_cd\",\n",
    "    # \"gsn\",\n",
    "    \"ndc\",\n",
    "    \"prod_strength\",\n",
    "    # \"form_rx\",\n",
    "    \"dose_val_rx\",\n",
    "    \"dose_unit_rx\",\n",
    "    \"form_val_disp\",\n",
    "    \"form_unit_disp\",\n",
    "    # \"doses_per_24_hrs\",\n",
    "    \"route\",\n",
    "]\n",
    "table_info(filter_nulls(table, filter_null_cols))"
   ]
  },
  {
   "cell_type": "markdown",
   "metadata": {},
   "source": [
    "## procedures_icd"
   ]
  },
  {
   "cell_type": "code",
   "execution_count": null,
   "metadata": {
    "execution": {
     "iopub.execute_input": "2023-04-09T22:59:08.333227Z",
     "iopub.status.busy": "2023-04-09T22:59:08.332863Z",
     "iopub.status.idle": "2023-04-09T22:59:08.770342Z",
     "shell.execute_reply": "2023-04-09T22:59:08.769640Z",
     "shell.execute_reply.started": "2023-04-09T22:59:08.333214Z"
    },
    "tags": []
   },
   "outputs": [],
   "source": [
    "table = get_table(\n",
    "    \"mimic-iv-2.2/hosp/procedures_icd.csv.gz\",\n",
    "    convert_options=pa.csv.ConvertOptions(\n",
    "        column_types=SCHEMAS[\"procedures_icd\"],\n",
    "        strings_can_be_null=True,\n",
    "        null_values=NULL_VALUES,\n",
    "        true_values=TRUE_VALUES,\n",
    "        false_values=FALSE_VALUES,\n",
    "    ),\n",
    ").combine_chunks()\n",
    "table_info(table)\n",
    "# sorted(pa.compute.unique(table[\"los\"]).drop_null().to_pylist())"
   ]
  },
  {
   "cell_type": "markdown",
   "metadata": {},
   "source": [
    "## provider"
   ]
  },
  {
   "cell_type": "code",
   "execution_count": null,
   "metadata": {
    "execution": {
     "iopub.execute_input": "2023-04-09T22:59:10.743809Z",
     "iopub.status.busy": "2023-04-09T22:59:10.743537Z",
     "iopub.status.idle": "2023-04-09T22:59:10.933432Z",
     "shell.execute_reply": "2023-04-09T22:59:10.933020Z",
     "shell.execute_reply.started": "2023-04-09T22:59:10.743794Z"
    },
    "tags": []
   },
   "outputs": [],
   "source": [
    "table = get_table(\n",
    "    \"mimic-iv-2.2/hosp/provider.csv.gz\",\n",
    "    convert_options=pa.csv.ConvertOptions(\n",
    "        column_types=SCHEMAS[\"provider\"],\n",
    "        null_values=NULL_VALUES,\n",
    "        true_values=TRUE_VALUES,\n",
    "        false_values=FALSE_VALUES,\n",
    "    ),\n",
    ").combine_chunks()\n",
    "table_info(table)\n",
    "# sorted(pa.compute.unique(table[\"los\"]).drop_null().to_pylist())"
   ]
  },
  {
   "cell_type": "markdown",
   "metadata": {},
   "source": [
    "## services"
   ]
  },
  {
   "cell_type": "code",
   "execution_count": null,
   "metadata": {
    "execution": {
     "iopub.execute_input": "2023-04-09T22:59:12.796430Z",
     "iopub.status.busy": "2023-04-09T22:59:12.796013Z",
     "iopub.status.idle": "2023-04-09T22:59:13.324833Z",
     "shell.execute_reply": "2023-04-09T22:59:13.324423Z",
     "shell.execute_reply.started": "2023-04-09T22:59:12.796415Z"
    },
    "tags": []
   },
   "outputs": [],
   "source": [
    "table = get_table(\n",
    "    \"mimic-iv-2.2/hosp/services.csv.gz\",\n",
    "    convert_options=pa.csv.ConvertOptions(\n",
    "        column_types=SCHEMAS[\"services\"],\n",
    "        strings_can_be_null=True,\n",
    "        null_values=NULL_VALUES,\n",
    "        true_values=TRUE_VALUES,\n",
    "        false_values=FALSE_VALUES,\n",
    "    ),\n",
    ").combine_chunks()\n",
    "table_info(table)\n",
    "# sorted(pa.compute.unique(table[\"los\"]).drop_null().to_pylist())"
   ]
  },
  {
   "cell_type": "markdown",
   "metadata": {
    "tags": []
   },
   "source": [
    "## transfers"
   ]
  },
  {
   "cell_type": "code",
   "execution_count": null,
   "metadata": {
    "execution": {
     "iopub.execute_input": "2023-04-09T23:02:09.566168Z",
     "iopub.status.busy": "2023-04-09T23:02:09.565908Z",
     "iopub.status.idle": "2023-04-09T23:02:11.309615Z",
     "shell.execute_reply": "2023-04-09T23:02:11.309169Z",
     "shell.execute_reply.started": "2023-04-09T23:02:09.566154Z"
    },
    "tags": []
   },
   "outputs": [],
   "source": [
    "table = get_table(\n",
    "    \"mimic-iv-2.2/hosp/transfers.csv.gz\",\n",
    "    convert_options=pa.csv.ConvertOptions(\n",
    "        column_types=SCHEMAS[\"transfers\"],\n",
    "        strings_can_be_null=True,\n",
    "        null_values=NULL_VALUES,\n",
    "        true_values=TRUE_VALUES,\n",
    "        false_values=FALSE_VALUES,\n",
    "    ),\n",
    ").combine_chunks()\n",
    "table_info(table)\n",
    "# sorted(pa.compute.unique(table[\"los\"]).drop_null().to_pylist())"
   ]
  },
  {
   "cell_type": "code",
   "execution_count": null,
   "metadata": {
    "execution": {
     "iopub.status.busy": "2023-04-09T15:45:14.379152Z",
     "iopub.status.idle": "2023-04-09T15:45:14.379293Z",
     "shell.execute_reply": "2023-04-09T15:45:14.379225Z",
     "shell.execute_reply.started": "2023-04-09T15:45:14.379218Z"
    }
   },
   "outputs": [],
   "source": [
    "raise"
   ]
  },
  {
   "cell_type": "markdown",
   "metadata": {},
   "source": [
    "# ICU tables"
   ]
  },
  {
   "cell_type": "markdown",
   "metadata": {},
   "source": [
    "## caregiver"
   ]
  },
  {
   "cell_type": "code",
   "execution_count": null,
   "metadata": {
    "execution": {
     "iopub.execute_input": "2023-04-09T23:39:31.722110Z",
     "iopub.status.busy": "2023-04-09T23:39:31.721838Z",
     "iopub.status.idle": "2023-04-09T23:39:31.801193Z",
     "shell.execute_reply": "2023-04-09T23:39:31.800751Z",
     "shell.execute_reply.started": "2023-04-09T23:39:31.722096Z"
    },
    "tags": []
   },
   "outputs": [],
   "source": [
    "table = get_table(\n",
    "    \"mimic-iv-2.2/icu/caregiver.csv.gz\",\n",
    "    convert_options=pa.csv.ConvertOptions(\n",
    "        column_types=SCHEMAS[\"caregiver\"],\n",
    "        strings_can_be_null=True,\n",
    "        null_values=NULL_VALUES,\n",
    "        true_values=TRUE_VALUES,\n",
    "        false_values=FALSE_VALUES,\n",
    "    ),\n",
    ")\n",
    "table_info(table)\n",
    "# sorted(pa.compute.unique(table[\"los\"]).drop_null().to_pylist())"
   ]
  },
  {
   "cell_type": "markdown",
   "metadata": {},
   "source": [
    "## d_items"
   ]
  },
  {
   "cell_type": "code",
   "execution_count": null,
   "metadata": {
    "execution": {
     "iopub.execute_input": "2023-04-09T23:39:34.925121Z",
     "iopub.status.busy": "2023-04-09T23:39:34.924884Z",
     "iopub.status.idle": "2023-04-09T23:39:35.027856Z",
     "shell.execute_reply": "2023-04-09T23:39:35.027434Z",
     "shell.execute_reply.started": "2023-04-09T23:39:34.925108Z"
    },
    "tags": []
   },
   "outputs": [],
   "source": [
    "table = get_table(\n",
    "    \"mimic-iv-2.2/icu/d_items.csv.gz\",\n",
    "    convert_options=pa.csv.ConvertOptions(\n",
    "        column_types=SCHEMAS[\"d_items\"],\n",
    "        strings_can_be_null=True,\n",
    "        null_values=NULL_VALUES,\n",
    "        true_values=TRUE_VALUES,\n",
    "        false_values=FALSE_VALUES,\n",
    "    ),\n",
    ")\n",
    "table_info(table)\n",
    "# sorted(pa.compute.unique(table[\"los\"]).drop_null().to_pylist())"
   ]
  },
  {
   "cell_type": "markdown",
   "metadata": {},
   "source": [
    "## icustays"
   ]
  },
  {
   "cell_type": "code",
   "execution_count": null,
   "metadata": {
    "execution": {
     "iopub.execute_input": "2023-04-09T23:39:39.009986Z",
     "iopub.status.busy": "2023-04-09T23:39:39.009753Z",
     "iopub.status.idle": "2023-04-09T23:39:39.160030Z",
     "shell.execute_reply": "2023-04-09T23:39:39.159633Z",
     "shell.execute_reply.started": "2023-04-09T23:39:39.009973Z"
    },
    "tags": []
   },
   "outputs": [],
   "source": [
    "table = get_table(\n",
    "    \"mimic-iv-2.2/icu/icustays.csv.gz\",\n",
    "    convert_options=pa.csv.ConvertOptions(\n",
    "        column_types=SCHEMAS[\"icustays\"],\n",
    "        strings_can_be_null=True,\n",
    "        null_values=NULL_VALUES,\n",
    "        true_values=TRUE_VALUES,\n",
    "        false_values=FALSE_VALUES,\n",
    "    ),\n",
    ")\n",
    "table_info(table)\n",
    "# sorted(pa.compute.unique(table[\"los\"]).drop_null().to_pylist())"
   ]
  },
  {
   "cell_type": "markdown",
   "metadata": {
    "tags": []
   },
   "source": [
    "## ingredientevents"
   ]
  },
  {
   "cell_type": "code",
   "execution_count": null,
   "metadata": {
    "execution": {
     "iopub.execute_input": "2023-04-09T23:39:42.924033Z",
     "iopub.status.busy": "2023-04-09T23:39:42.923787Z",
     "iopub.status.idle": "2023-04-09T23:39:53.271592Z",
     "shell.execute_reply": "2023-04-09T23:39:53.270985Z",
     "shell.execute_reply.started": "2023-04-09T23:39:42.924020Z"
    },
    "tags": []
   },
   "outputs": [],
   "source": [
    "table = get_table(\n",
    "    \"mimic-iv-2.2/icu/ingredientevents.csv.gz\",\n",
    "    convert_options=pa.csv.ConvertOptions(\n",
    "        column_types=SCHEMAS[\"ingredientevents\"],\n",
    "        strings_can_be_null=True,\n",
    "        null_values=NULL_VALUES,\n",
    "        true_values=TRUE_VALUES,\n",
    "        false_values=FALSE_VALUES,\n",
    "    ),\n",
    ")\n",
    "table_info(table)\n",
    "# sorted(pa.compute.unique(table[\"los\"]).drop_null().to_pylist())"
   ]
  },
  {
   "cell_type": "markdown",
   "metadata": {},
   "source": [
    "## datetimeevents"
   ]
  },
  {
   "cell_type": "code",
   "execution_count": null,
   "metadata": {
    "execution": {
     "iopub.execute_input": "2023-04-09T23:40:30.447582Z",
     "iopub.status.busy": "2023-04-09T23:40:30.447297Z",
     "iopub.status.idle": "2023-04-09T23:40:33.030557Z",
     "shell.execute_reply": "2023-04-09T23:40:33.030103Z",
     "shell.execute_reply.started": "2023-04-09T23:40:30.447565Z"
    },
    "tags": []
   },
   "outputs": [],
   "source": [
    "table = get_table(\n",
    "    \"mimic-iv-2.2/icu/datetimeevents.csv.gz\",\n",
    "    convert_options=pa.csv.ConvertOptions(\n",
    "        column_types=SCHEMAS[\"datetimeevents\"],\n",
    "        strings_can_be_null=True,\n",
    "        null_values=NULL_VALUES,\n",
    "        true_values=TRUE_VALUES,\n",
    "        false_values=FALSE_VALUES,\n",
    "    ),\n",
    ")\n",
    "table_info(table)\n",
    "# sorted(pa.compute.unique(table[\"los\"]).drop_null().to_pylist())"
   ]
  },
  {
   "cell_type": "markdown",
   "metadata": {},
   "source": [
    "## Procedureeventes"
   ]
  },
  {
   "cell_type": "code",
   "execution_count": null,
   "metadata": {
    "execution": {
     "iopub.execute_input": "2023-04-18T18:13:37.169936Z",
     "iopub.status.busy": "2023-04-18T18:13:37.169748Z",
     "iopub.status.idle": "2023-04-18T18:13:38.001736Z",
     "shell.execute_reply": "2023-04-18T18:13:38.001386Z",
     "shell.execute_reply.started": "2023-04-18T18:13:37.169924Z"
    },
    "tags": []
   },
   "outputs": [],
   "source": [
    "table = get_table(\n",
    "    \"mimic-iv-2.2/icu/procedureevents.csv.gz\",\n",
    "    convert_options=pa.csv.ConvertOptions(\n",
    "        column_types=SCHEMAS[\"procedureevents\"],\n",
    "        strings_can_be_null=True,\n",
    "        null_values=NULL_VALUES,\n",
    "        true_values=TRUE_VALUES,\n",
    "        false_values=FALSE_VALUES,\n",
    "    ),\n",
    ")\n",
    "table = table.set_column(\n",
    "    table.column_names.index(\"storetime\"),\n",
    "    \"storetime\",\n",
    "    table[\"storetime\"].cast(TIME_TYPE, safe=False),\n",
    ")\n",
    "table_info(table)\n",
    "# sorted(pa.compute.unique(table[\"los\"]).drop_null().to_pylist())"
   ]
  },
  {
   "cell_type": "markdown",
   "metadata": {
    "execution": {
     "iopub.execute_input": "2023-04-07T22:42:55.584368Z",
     "iopub.status.busy": "2023-04-07T22:42:55.584085Z",
     "iopub.status.idle": "2023-04-07T22:42:55.618118Z",
     "shell.execute_reply": "2023-04-07T22:42:55.617662Z",
     "shell.execute_reply.started": "2023-04-07T22:42:55.584357Z"
    },
    "tags": []
   },
   "source": [
    "## Inputevents"
   ]
  },
  {
   "cell_type": "code",
   "execution_count": null,
   "metadata": {
    "execution": {
     "iopub.execute_input": "2023-04-09T23:49:28.529834Z",
     "iopub.status.busy": "2023-04-09T23:49:28.529523Z",
     "iopub.status.idle": "2023-04-09T23:49:41.946948Z",
     "shell.execute_reply": "2023-04-09T23:49:41.946360Z",
     "shell.execute_reply.started": "2023-04-09T23:49:28.529814Z"
    },
    "tags": []
   },
   "outputs": [],
   "source": [
    "table = get_table(\n",
    "    \"mimic-iv-2.2/icu/inputevents.csv.gz\",\n",
    "    convert_options=pa.csv.ConvertOptions(\n",
    "        column_types=SCHEMAS[\"inputevents\"],\n",
    "        strings_can_be_null=True,\n",
    "        null_values=NULL_VALUES,\n",
    "        true_values=TRUE_VALUES,\n",
    "        false_values=FALSE_VALUES,\n",
    "    ),\n",
    ")\n",
    "table_info(table)\n",
    "# sorted(pa.compute.unique(table[\"los\"]).drop_null().to_pylist())"
   ]
  },
  {
   "cell_type": "markdown",
   "metadata": {},
   "source": [
    "## Outputevents"
   ]
  },
  {
   "cell_type": "code",
   "execution_count": null,
   "metadata": {
    "execution": {
     "iopub.execute_input": "2023-04-09T23:50:19.969867Z",
     "iopub.status.busy": "2023-04-09T23:50:19.969418Z",
     "iopub.status.idle": "2023-04-09T23:50:21.939308Z",
     "shell.execute_reply": "2023-04-09T23:50:21.938890Z",
     "shell.execute_reply.started": "2023-04-09T23:50:19.969842Z"
    },
    "tags": []
   },
   "outputs": [],
   "source": [
    "table = get_table(\n",
    "    \"mimic-iv-2.2/icu/outputevents.csv.gz\",\n",
    "    convert_options=pa.csv.ConvertOptions(\n",
    "        column_types=SCHEMAS[\"outputevents\"],\n",
    "        strings_can_be_null=True,\n",
    "        null_values=NULL_VALUES,\n",
    "        true_values=TRUE_VALUES,\n",
    "        false_values=FALSE_VALUES,\n",
    "    ),\n",
    ")\n",
    "table_info(table)\n",
    "# sorted(pa.compute.unique(table[\"los\"]).drop_null().to_pylist())"
   ]
  },
  {
   "cell_type": "markdown",
   "metadata": {},
   "source": [
    "## Chartevents"
   ]
  },
  {
   "cell_type": "code",
   "execution_count": null,
   "metadata": {
    "execution": {
     "iopub.execute_input": "2023-04-18T18:17:23.325414Z",
     "iopub.status.busy": "2023-04-18T18:17:23.325218Z",
     "iopub.status.idle": "2023-04-18T18:18:49.359386Z",
     "shell.execute_reply": "2023-04-18T18:18:49.358883Z",
     "shell.execute_reply.started": "2023-04-18T18:17:23.325400Z"
    },
    "tags": []
   },
   "outputs": [],
   "source": [
    "table = get_table(\n",
    "    \"mimic-iv-2.2/icu/chartevents.csv.gz\",\n",
    "    convert_options=pa.csv.ConvertOptions(\n",
    "        column_types=SCHEMAS[\"chartevents\"],\n",
    "        strings_can_be_null=True,\n",
    "        null_values=NULL_VALUES,\n",
    "        true_values=TRUE_VALUES,\n",
    "        false_values=FALSE_VALUES,\n",
    "    ),\n",
    ")\n",
    "table_info(table)\n",
    "# sorted(pa.compute.unique(table[\"los\"]).drop_null().to_pylist())"
   ]
  },
  {
   "cell_type": "markdown",
   "metadata": {
    "execution": {
     "iopub.status.busy": "2023-04-07T22:43:08.043977Z",
     "iopub.status.idle": "2023-04-07T22:43:08.044133Z",
     "shell.execute_reply": "2023-04-07T22:43:08.044057Z",
     "shell.execute_reply.started": "2023-04-07T22:43:08.044050Z"
    },
    "tags": []
   },
   "source": [
    "### drop everything that has no valueuom"
   ]
  },
  {
   "cell_type": "code",
   "execution_count": null,
   "metadata": {
    "execution": {
     "iopub.execute_input": "2023-04-18T18:23:13.896628Z",
     "iopub.status.busy": "2023-04-18T18:23:13.896422Z",
     "iopub.status.idle": "2023-04-18T18:23:23.357473Z",
     "shell.execute_reply": "2023-04-18T18:23:23.356937Z",
     "shell.execute_reply.started": "2023-04-18T18:23:13.896607Z"
    },
    "tags": []
   },
   "outputs": [],
   "source": [
    "table = filter_nulls(table, [\"valueuom\"])\n",
    "table = table.set_column(\n",
    "    table.column_names.index(\"value\"),\n",
    "    \"value\",\n",
    "    pa.compute.cast(table.column(\"value\"), pa.float32()),\n",
    ")\n",
    "table_info(table)"
   ]
  },
  {
   "cell_type": "code",
   "execution_count": null,
   "metadata": {
    "execution": {
     "iopub.execute_input": "2023-04-18T18:40:27.960217Z",
     "iopub.status.busy": "2023-04-18T18:40:27.960054Z",
     "iopub.status.idle": "2023-04-18T18:40:56.718683Z",
     "shell.execute_reply": "2023-04-18T18:40:56.718087Z",
     "shell.execute_reply.started": "2023-04-18T18:40:27.960205Z"
    },
    "tags": []
   },
   "outputs": [],
   "source": [
    "df = pl.from_arrow(table).pivot(index=\"charttime\", columns=\"valueuom\", values=\"value\")"
   ]
  },
  {
   "cell_type": "code",
   "execution_count": null,
   "metadata": {
    "execution": {
     "iopub.execute_input": "2023-04-10T00:20:52.261481Z",
     "iopub.status.busy": "2023-04-10T00:20:52.261360Z",
     "iopub.status.idle": "2023-04-10T00:21:00.176274Z",
     "shell.execute_reply": "2023-04-10T00:21:00.175890Z",
     "shell.execute_reply.started": "2023-04-10T00:20:52.261469Z"
    },
    "tags": []
   },
   "outputs": [],
   "source": [
    "parquet.write_table(table, DATASET_PATH / \"chartevents.parquet\")"
   ]
  },
  {
   "cell_type": "markdown",
   "metadata": {},
   "source": [
    "# with polars"
   ]
  },
  {
   "cell_type": "code",
   "execution_count": null,
   "metadata": {
    "execution": {
     "iopub.status.busy": "2023-04-09T15:45:14.389081Z",
     "iopub.status.idle": "2023-04-09T15:45:14.389228Z",
     "shell.execute_reply": "2023-04-09T15:45:14.389160Z",
     "shell.execute_reply.started": "2023-04-09T15:45:14.389152Z"
    },
    "tags": []
   },
   "outputs": [],
   "source": [
    "import polars as pl\n",
    "\n",
    "with ZipFile(ds.rawdata_paths, \"r\") as file:\n",
    "    if not file.namelist() == filelist:\n",
    "        raise ValueError(\"The dataset contains unknown files!\")\n",
    "\n",
    "\n",
    "def load_gz_table(archive, fname, **options):\n",
    "    with archive.open(str(fname), \"r\") as compressed_file:\n",
    "        with gzip.open(compressed_file, \"r\") as file:\n",
    "            # table = pd.read_csv(file)\n",
    "            # return table\n",
    "            return pl.read_csv(file, **options)\n",
    "            # table = pyarrow.csv.read_csv(file, **options)\n",
    "            # return table\n",
    "\n",
    "\n",
    "def load_txt(archive, fname):\n",
    "    with archive.open(str(fname), \"r\") as file:\n",
    "        return str(file.read(), encoding=\"utf8\")\n",
    "\n",
    "\n",
    "def get_table(fname, **options) -> DataFrame:\n",
    "    fname = Path(fname)\n",
    "    with ZipFile(ds.rawdata_paths, \"r\") as archive:\n",
    "        match fname.suffix:\n",
    "            case \".gz\":\n",
    "                return load_gz_table(archive, fname, **options)\n",
    "            case \".txt\":\n",
    "                return load_txt(archive, fname, **options)\n",
    "            case _:\n",
    "                raise ValueError"
   ]
  },
  {
   "cell_type": "code",
   "execution_count": null,
   "metadata": {
    "execution": {
     "iopub.status.busy": "2023-04-09T15:45:14.389973Z",
     "iopub.status.idle": "2023-04-09T15:45:14.390193Z",
     "shell.execute_reply": "2023-04-09T15:45:14.390091Z",
     "shell.execute_reply.started": "2023-04-09T15:45:14.390080Z"
    },
    "tags": []
   },
   "outputs": [],
   "source": [
    "dtypes = {\n",
    "    \"subject_id\": pl.datatypes.UInt32(),\n",
    "    \"hadm_id\": pl.datatypes.UInt32(),\n",
    "    \"stay_id\": pl.datatypes.UInt32(),\n",
    "    \"itemid\": pl.datatypes.UInt32(),\n",
    "    \"charttime\": pl.datatypes.Datetime(),\n",
    "    \"storetime\": pl.datatypes.Datetime(),\n",
    "    \"value\": pl.datatypes.Utf8(),\n",
    "    \"valuenum\": pl.datatypes.Float32(),\n",
    "    \"valueuom\": pl.datatypes.Utf8(),\n",
    "    \"warning\": pl.datatypes.Boolean(),\n",
    "}\n",
    "\n",
    "\n",
    "table = get_table(\"mimic-iv-1.0/icu/chartevents.csv.gz\", dtypes=dtypes)"
   ]
  },
  {
   "cell_type": "code",
   "execution_count": null,
   "metadata": {},
   "outputs": [],
   "source": []
  }
 ],
 "metadata": {
  "kernelspec": {
   "display_name": "Python 3 (ipykernel)",
   "language": "python",
   "name": "python3"
  },
  "language_info": {
   "codemirror_mode": {
    "name": "ipython",
    "version": 3
   },
   "file_extension": ".py",
   "mimetype": "text/x-python",
   "name": "python",
   "nbconvert_exporter": "python",
   "pygments_lexer": "ipython3",
   "version": "3.11.3"
  }
 },
 "nbformat": 4,
 "nbformat_minor": 4
}
