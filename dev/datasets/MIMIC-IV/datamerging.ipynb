{
 "cells": [
  {
   "cell_type": "markdown",
   "metadata": {},
   "source": [
    "# Merging all data sources"
   ]
  },
  {
   "cell_type": "code",
   "execution_count": null,
   "metadata": {
    "execution": {
     "iopub.execute_input": "2022-09-12T10:58:43.076909Z",
     "iopub.status.busy": "2022-09-12T10:58:43.076681Z",
     "iopub.status.idle": "2022-09-12T10:58:43.685359Z",
     "shell.execute_reply": "2022-09-12T10:58:43.684798Z",
     "shell.execute_reply.started": "2022-09-12T10:58:43.076863Z"
    },
    "tags": []
   },
   "outputs": [],
   "source": [
    "import datetime\n",
    "import gzip\n",
    "from datetime import timedelta\n",
    "from zipfile import ZipFile\n",
    "\n",
    "import matplotlib.pyplot as plt\n",
    "import numpy as np\n",
    "import pandas as pd\n",
    "import pyarrow\n",
    "import pyarrow.csv\n",
    "import pyarrow.parquet"
   ]
  },
  {
   "cell_type": "markdown",
   "metadata": {},
   "source": [
    "Load all the previously processed data from the source files in the MIMIC4 dataset. <br/>Unify column naming across data sources and merge to one dataframe."
   ]
  },
  {
   "cell_type": "code",
   "execution_count": null,
   "metadata": {
    "execution": {
     "iopub.execute_input": "2022-09-12T10:58:43.938062Z",
     "iopub.status.busy": "2022-09-12T10:58:43.937485Z",
     "iopub.status.idle": "2022-09-12T10:58:43.940814Z",
     "shell.execute_reply": "2022-09-12T10:58:43.940403Z",
     "shell.execute_reply.started": "2022-09-12T10:58:43.938044Z"
    },
    "tags": []
   },
   "outputs": [],
   "source": [
    "pd.set_option(\"display.max_rows\", 50)\n",
    "pd.set_option(\"display.max_columns\", 300)"
   ]
  },
  {
   "cell_type": "code",
   "execution_count": null,
   "metadata": {
    "execution": {
     "iopub.execute_input": "2022-09-12T11:48:51.265670Z",
     "iopub.status.busy": "2022-09-12T11:48:51.265439Z",
     "iopub.status.idle": "2022-09-12T11:48:51.883082Z",
     "shell.execute_reply": "2022-09-12T11:48:51.882038Z",
     "shell.execute_reply.started": "2022-09-12T11:48:51.265655Z"
    },
    "tags": []
   },
   "outputs": [],
   "source": [
    "with pd.option_context(\"string_storage\", \"pyarrow\"):\n",
    "    labevents = pd.read_parquet(\n",
    "        \"labevents_processed.parquet\",\n",
    "        columns=[\"subject_id\", \"hadm_id\", \"charttime\", \"valuenum\", \"label\"],\n",
    "    )\n",
    "    inputevents = pd.read_parquet(\n",
    "        \"inputevents_processed.parquet\",\n",
    "        columns=[\"subject_id\", \"hadm_id\", \"charttime\", \"amount\", \"label\"],\n",
    "    )\n",
    "    outputevents = pd.read_parquet(\n",
    "        \"outputevents_processed.parquet\",\n",
    "        columns=[\"subject_id\", \"hadm_id\", \"charttime\", \"value\", \"label\"],\n",
    "    )\n",
    "    prescriptions = pd.read_parquet(\n",
    "        \"prescriptions_processed.parquet\",\n",
    "        columns=[\"subject_id\", \"hadm_id\", \"charttime\", \"dose_val_rx\", \"drug\"],\n",
    "    )"
   ]
  },
  {
   "cell_type": "code",
   "execution_count": null,
   "metadata": {
    "execution": {
     "iopub.execute_input": "2022-09-12T11:00:13.689349Z",
     "iopub.status.busy": "2022-09-12T11:00:13.689143Z",
     "iopub.status.idle": "2022-09-12T11:00:17.362808Z",
     "shell.execute_reply": "2022-09-12T11:00:17.362407Z",
     "shell.execute_reply.started": "2022-09-12T11:00:13.689336Z"
    },
    "tags": []
   },
   "outputs": [],
   "source": [
    "for frame in (labevents, inputevents, outputevents, prescriptions):\n",
    "    display(pd.DataFrame({\"type\": frame.dtypes, \"uniques\": frame.nunique()}))"
   ]
  },
  {
   "cell_type": "code",
   "execution_count": null,
   "metadata": {},
   "outputs": [],
   "source": []
  },
  {
   "cell_type": "code",
   "execution_count": null,
   "metadata": {},
   "outputs": [],
   "source": []
  },
  {
   "cell_type": "code",
   "execution_count": null,
   "metadata": {},
   "outputs": [],
   "source": [
    "lab_df = pd.read_csv(\"/path/processed/lab_processed.csv\")[\n",
    "    [\"subject_id\", \"hadm_id\", \"charttime\", \"valuenum\", \"label\"]\n",
    "]\n",
    "inputs_df = pd.read_csv(\"/path/processed/inputs_processed.csv\")[\n",
    "    [\"subject_id\", \"hadm_id\", \"charttime\", \"amount\", \"label\"]\n",
    "]\n",
    "outputs_df = pd.read_csv(\"/path/processed/outputs_processed.csv\")[\n",
    "    [\"subject_id\", \"hadm_id\", \"charttime\", \"value\", \"label\"]\n",
    "]\n",
    "presc_df = pd.read_csv(\"/path/processed/prescriptions_processed.csv\")[\n",
    "    [\"subject_id\", \"hadm_id\", \"charttime\", \"dose_val_rx\", \"drug\"]\n",
    "]"
   ]
  },
  {
   "cell_type": "code",
   "execution_count": null,
   "metadata": {},
   "outputs": [],
   "source": [
    "# Change the name of amount. Valuenum for every table\n",
    "inputs_df[\"valuenum\"] = inputs_df[\"amount\"]\n",
    "inputs_df.head()\n",
    "inputs_df = inputs_df.drop(columns=[\"amount\"]).copy()\n",
    "\n",
    "outputs_df[\"valuenum\"] = outputs_df[\"value\"]\n",
    "outputs_df = outputs_df.drop(columns=[\"value\"]).copy()\n",
    "\n",
    "presc_df[\"valuenum\"] = presc_df[\"dose_val_rx\"]\n",
    "presc_df = presc_df.drop(columns=[\"dose_val_rx\"]).copy()\n",
    "presc_df[\"label\"] = presc_df[\"drug\"]\n",
    "presc_df = presc_df.drop(columns=[\"drug\"]).copy()\n",
    "presc_df = presc_df.drop((presc_df[\"valuenum\"] == \"3-10\").index)\n",
    "\n",
    "# Tag to distinguish between lab and inputs events\n",
    "inputs_df[\"Origin\"] = \"Inputs\"\n",
    "lab_df[\"Origin\"] = \"Lab\"\n",
    "outputs_df[\"Origin\"] = \"Outputs\"\n",
    "presc_df[\"Origin\"] = \"Prescriptions\"\n",
    "\n",
    "# merge both dfs.\n",
    "merged_df1 = (inputs_df.append(lab_df)).reset_index()\n",
    "merged_df2 = (merged_df1.append(outputs_df)).reset_index()\n",
    "merged_df2.drop(columns=\"level_0\", inplace=True)\n",
    "merged_df = (merged_df2.append(presc_df)).reset_index()\n",
    "\n",
    "# Check that all labels have different names.\n",
    "assert merged_df[\"label\"].nunique() == (\n",
    "    inputs_df[\"label\"].nunique()\n",
    "    + lab_df[\"label\"].nunique()\n",
    "    + outputs_df[\"label\"].nunique()\n",
    "    + presc_df[\"label\"].nunique()\n",
    ")"
   ]
  },
  {
   "cell_type": "code",
   "execution_count": null,
   "metadata": {},
   "outputs": [],
   "source": [
    "# set the timestamp as the time delta between the first chart time for each admission\n",
    "merged_df[\"charttime\"] = pd.to_datetime(\n",
    "    merged_df[\"charttime\"], format=\"%Y-%m-%d %H:%M:%S\"\n",
    ")\n",
    "ref_time = merged_df.groupby(\"hadm_id\")[\"charttime\"].min()\n",
    "merged_df_1 = pd.merge(\n",
    "    ref_time.to_frame(name=\"ref_time\"), merged_df, left_index=True, right_on=\"hadm_id\"\n",
    ")\n",
    "merged_df_1[\"time_stamp\"] = merged_df_1[\"charttime\"] - merged_df_1[\"ref_time\"]\n",
    "assert len(merged_df_1.loc[merged_df_1[\"time_stamp\"] < timedelta(hours=0)].index) == 0"
   ]
  },
  {
   "cell_type": "code",
   "execution_count": null,
   "metadata": {},
   "outputs": [],
   "source": [
    "# Create a label code (int) for the labels.\n",
    "label_dict = dict(\n",
    "    zip(\n",
    "        list(merged_df_1[\"label\"].unique()),\n",
    "        range(len(list(merged_df_1[\"label\"].unique()))),\n",
    "    )\n",
    ")\n",
    "merged_df_1[\"label_code\"] = merged_df_1[\"label\"].map(label_dict)\n",
    "\n",
    "merged_df_short = merged_df_1[\n",
    "    [\"hadm_id\", \"valuenum\", \"time_stamp\", \"label_code\", \"Origin\"]\n",
    "]"
   ]
  },
  {
   "cell_type": "code",
   "execution_count": null,
   "metadata": {},
   "outputs": [],
   "source": [
    "label_dict_df = pd.Series(merged_df_1[\"label\"].unique()).reset_index()\n",
    "label_dict_df.columns = [\"index\", \"label\"]\n",
    "label_dict_df[\"label_code\"] = label_dict_df[\"label\"].map(label_dict)\n",
    "label_dict_df.drop(columns=[\"index\"], inplace=True)\n",
    "label_dict_df.to_csv(\"/path/processed/label_dict.csv\")"
   ]
  },
  {
   "cell_type": "code",
   "execution_count": null,
   "metadata": {},
   "outputs": [],
   "source": [
    "merged_df_short[\"valuenum\"] = merged_df_short[\"valuenum\"].astype(float)"
   ]
  },
  {
   "cell_type": "code",
   "execution_count": null,
   "metadata": {},
   "outputs": [],
   "source": [
    "# select only values within first 48 hours\n",
    "merged_df_short = merged_df_short.loc[\n",
    "    (merged_df_short[\"time_stamp\"] < timedelta(hours=48))\n",
    "]\n",
    "merged_df_short[\"time_stamp\"] = (\n",
    "    merged_df_short[\"time_stamp\"].dt.total_seconds().div(60).astype(int)\n",
    ")\n",
    "print(\"Number of patients considered: \" + str(merged_df_short[\"hadm_id\"].nunique()))\n",
    "assert len(merged_df_short.loc[merged_df_short[\"time_stamp\"] > 2880].index) == 0"
   ]
  },
  {
   "cell_type": "code",
   "execution_count": null,
   "metadata": {},
   "outputs": [],
   "source": [
    "# drop columns that are not needed for final dataset\n",
    "merged_df_short.drop([\"Origin\"], axis=1, inplace=True)\n",
    "complete_df = merged_df_short"
   ]
  },
  {
   "cell_type": "code",
   "execution_count": null,
   "metadata": {},
   "outputs": [],
   "source": [
    "# create value- and mask- columns and fill with data\n",
    "labels = complete_df[\"label_code\"].unique()\n",
    "value_columns = []\n",
    "mask_columns = []\n",
    "for num in labels:\n",
    "    name = \"Value_label_\" + str(num)\n",
    "    name2 = \"Mask_label_\" + str(num)\n",
    "    value_columns.append(name)\n",
    "    mask_columns.append(name2)\n",
    "    complete_df[name] = 0\n",
    "    complete_df[name2] = 0\n",
    "    complete_df[name] = complete_df[name].astype(float)"
   ]
  },
  {
   "cell_type": "code",
   "execution_count": null,
   "metadata": {},
   "outputs": [],
   "source": [
    "complete_df.dropna(inplace=True)\n",
    "for index, row in complete_df.iterrows():\n",
    "    name = \"Value_label_\" + str(row[\"label_code\"].astype(int))\n",
    "    name2 = \"Mask_label_\" + str(row[\"label_code\"].astype(int))\n",
    "    complete_df.at[index, name] = row[\"valuenum\"]\n",
    "    complete_df.at[index, name2] = 1"
   ]
  },
  {
   "cell_type": "code",
   "execution_count": null,
   "metadata": {},
   "outputs": [],
   "source": [
    "# drop all unneccesary columns and do sanity check\n",
    "complete_df.drop([\"valuenum\", \"label_code\"], axis=1, inplace=True)\n",
    "complete_df = complete_df.groupby([\"hadm_id\", \"time_stamp\"], as_index=False).max()\n",
    "for x in mask_columns:\n",
    "    assert len(complete_df.loc[complete_df[x] > 1]) == 0\n",
    "complete_df"
   ]
  },
  {
   "cell_type": "code",
   "execution_count": null,
   "metadata": {},
   "outputs": [],
   "source": [
    "complete_df.to_csv(\"/path/processed/full_dataset.csv\", index=False)"
   ]
  }
 ],
 "metadata": {
  "kernelspec": {
   "display_name": "Python 3 (ipykernel)",
   "language": "python",
   "name": "python3"
  },
  "language_info": {
   "codemirror_mode": {
    "name": "ipython",
    "version": 3
   },
   "file_extension": ".py",
   "mimetype": "text/x-python",
   "name": "python",
   "nbconvert_exporter": "python",
   "pygments_lexer": "ipython3",
   "version": "3.10.6"
  }
 },
 "nbformat": 4,
 "nbformat_minor": 4
}
