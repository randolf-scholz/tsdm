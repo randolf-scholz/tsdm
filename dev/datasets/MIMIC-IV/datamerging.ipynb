{
 "cells": [
  {
   "cell_type": "markdown",
   "metadata": {},
   "source": [
    "# Merging all data sources"
   ]
  },
  {
   "cell_type": "code",
   "execution_count": null,
   "metadata": {
    "execution": {
     "iopub.execute_input": "2022-09-14T00:39:47.847567Z",
     "iopub.status.busy": "2022-09-14T00:39:47.847393Z",
     "iopub.status.idle": "2022-09-14T00:39:48.067973Z",
     "shell.execute_reply": "2022-09-14T00:39:48.067622Z",
     "shell.execute_reply.started": "2022-09-14T00:39:47.847522Z"
    },
    "tags": []
   },
   "outputs": [],
   "source": [
    "from pathlib import Path\n",
    "\n",
    "import pandas as pd"
   ]
  },
  {
   "cell_type": "markdown",
   "metadata": {},
   "source": [
    "# Load processed tables"
   ]
  },
  {
   "cell_type": "code",
   "execution_count": null,
   "metadata": {
    "execution": {
     "iopub.execute_input": "2022-09-14T00:39:48.068935Z",
     "iopub.status.busy": "2022-09-14T00:39:48.068776Z",
     "iopub.status.idle": "2022-09-14T00:39:48.593358Z",
     "shell.execute_reply": "2022-09-14T00:39:48.593055Z",
     "shell.execute_reply.started": "2022-09-14T00:39:48.068924Z"
    },
    "tags": []
   },
   "outputs": [],
   "source": [
    "rawdata_file = Path.cwd() / \"mimic-iv-1.0.zip\"\n",
    "dataset_path = Path.cwd() / \"processed\"\n",
    "rawdata_path = Path.cwd() / \"raw\"\n",
    "\n",
    "\n",
    "with pd.option_context(\"string_storage\", \"pyarrow\"):\n",
    "    admissions = pd.read_parquet(dataset_path / \"admissions_processed.parquet\")\n",
    "\n",
    "    labevents = pd.read_parquet(\n",
    "        dataset_path / \"labevents_processed.parquet\",\n",
    "        columns=[\"subject_id\", \"hadm_id\", \"charttime\", \"valuenum\", \"label\"],\n",
    "    )\n",
    "    inputevents = pd.read_parquet(\n",
    "        dataset_path / \"inputevents_processed.parquet\",\n",
    "        columns=[\"subject_id\", \"hadm_id\", \"charttime\", \"amount\", \"label\"],\n",
    "    )\n",
    "    outputevents = pd.read_parquet(\n",
    "        dataset_path / \"outputevents_processed.parquet\",\n",
    "        columns=[\"subject_id\", \"hadm_id\", \"charttime\", \"value\", \"label\"],\n",
    "    )\n",
    "    prescriptions = pd.read_parquet(\n",
    "        dataset_path / \"prescriptions_processed.parquet\",\n",
    "        columns=[\"subject_id\", \"hadm_id\", \"charttime\", \"dose_val_rx\", \"drug\"],\n",
    "    )\n",
    "\n",
    "admissions"
   ]
  },
  {
   "cell_type": "code",
   "execution_count": null,
   "metadata": {
    "execution": {
     "iopub.execute_input": "2022-09-14T00:39:48.593894Z",
     "iopub.status.busy": "2022-09-14T00:39:48.593785Z",
     "iopub.status.idle": "2022-09-14T00:39:51.212487Z",
     "shell.execute_reply": "2022-09-14T00:39:51.212124Z",
     "shell.execute_reply.started": "2022-09-14T00:39:48.593882Z"
    },
    "tags": []
   },
   "outputs": [],
   "source": [
    "for table in (labevents, inputevents, outputevents, prescriptions):\n",
    "    display(table.shape)\n",
    "    display(pd.DataFrame({\"type\": table.dtypes, \"uniques\": table.nunique()}))"
   ]
  },
  {
   "cell_type": "markdown",
   "metadata": {},
   "source": [
    "## Change the name of amount. Valuenum for every table"
   ]
  },
  {
   "cell_type": "code",
   "execution_count": null,
   "metadata": {
    "execution": {
     "iopub.execute_input": "2022-09-14T00:39:51.213067Z",
     "iopub.status.busy": "2022-09-14T00:39:51.212958Z",
     "iopub.status.idle": "2022-09-14T00:39:51.249281Z",
     "shell.execute_reply": "2022-09-14T00:39:51.248866Z",
     "shell.execute_reply.started": "2022-09-14T00:39:51.213057Z"
    },
    "tags": []
   },
   "outputs": [],
   "source": [
    "inputevents = inputevents.rename(columns={\"amount\": \"valuenum\"})\n",
    "outputevents = outputevents.rename(columns={\"value\": \"valuenum\"})\n",
    "prescriptions = prescriptions.rename(columns={\"dose_val_rx\": \"valuenum\"})\n",
    "prescriptions = prescriptions.rename(columns={\"drug\": \"label\"})"
   ]
  },
  {
   "cell_type": "markdown",
   "metadata": {},
   "source": [
    "## Merge the tables"
   ]
  },
  {
   "cell_type": "code",
   "execution_count": null,
   "metadata": {
    "execution": {
     "iopub.execute_input": "2022-09-14T00:39:51.249902Z",
     "iopub.status.busy": "2022-09-14T00:39:51.249793Z",
     "iopub.status.idle": "2022-09-14T00:39:54.602853Z",
     "shell.execute_reply": "2022-09-14T00:39:54.602467Z",
     "shell.execute_reply.started": "2022-09-14T00:39:51.249892Z"
    },
    "tags": []
   },
   "outputs": [],
   "source": [
    "tables = {\n",
    "    \"inputevent\": inputevents,\n",
    "    \"labevent\": labevents,\n",
    "    \"outputevent\": outputevents,\n",
    "    \"prescription\": prescriptions,\n",
    "}\n",
    "\n",
    "merged_df = pd.concat(tables, names=[\"type\"]).reset_index(drop=True)\n",
    "assert all(merged_df.notna())\n",
    "merged_df"
   ]
  },
  {
   "cell_type": "markdown",
   "metadata": {},
   "source": [
    "## Validate that all labels have different names."
   ]
  },
  {
   "cell_type": "code",
   "execution_count": null,
   "metadata": {
    "execution": {
     "iopub.execute_input": "2022-09-14T00:39:54.603485Z",
     "iopub.status.busy": "2022-09-14T00:39:54.603375Z",
     "iopub.status.idle": "2022-09-14T00:39:55.164954Z",
     "shell.execute_reply": "2022-09-14T00:39:55.164550Z",
     "shell.execute_reply.started": "2022-09-14T00:39:54.603474Z"
    },
    "tags": []
   },
   "outputs": [],
   "source": [
    "assert merged_df[\"label\"].nunique() == (\n",
    "    inputevents[\"label\"].nunique()\n",
    "    + labevents[\"label\"].nunique()\n",
    "    + outputevents[\"label\"].nunique()\n",
    "    + prescriptions[\"label\"].nunique()\n",
    ")"
   ]
  },
  {
   "cell_type": "markdown",
   "metadata": {},
   "source": [
    "## Validate that all subject_id / hadm_id pairs are unique"
   ]
  },
  {
   "cell_type": "code",
   "execution_count": null,
   "metadata": {
    "execution": {
     "iopub.execute_input": "2022-09-14T00:39:55.166397Z",
     "iopub.status.busy": "2022-09-14T00:39:55.166284Z",
     "iopub.status.idle": "2022-09-14T00:39:56.796273Z",
     "shell.execute_reply": "2022-09-14T00:39:56.795857Z",
     "shell.execute_reply.started": "2022-09-14T00:39:55.166386Z"
    },
    "tags": []
   },
   "outputs": [],
   "source": [
    "assert all(merged_df.groupby(\"subject_id\")[\"hadm_id\"].nunique() == 1)\n",
    "assert all(merged_df.groupby(\"hadm_id\")[\"subject_id\"].nunique() == 1)"
   ]
  },
  {
   "cell_type": "markdown",
   "metadata": {},
   "source": [
    "## Create Metadata tensor"
   ]
  },
  {
   "cell_type": "code",
   "execution_count": null,
   "metadata": {
    "execution": {
     "iopub.execute_input": "2022-09-14T00:39:56.796857Z",
     "iopub.status.busy": "2022-09-14T00:39:56.796748Z",
     "iopub.status.idle": "2022-09-14T00:39:58.183920Z",
     "shell.execute_reply": "2022-09-14T00:39:58.183447Z",
     "shell.execute_reply.started": "2022-09-14T00:39:56.796846Z"
    },
    "tags": []
   },
   "outputs": [],
   "source": [
    "metadata = admissions.copy().sort_values(by=[\"subject_id\"])\n",
    "\n",
    "for key in [\"hadm_id\", \"subject_id\"]:\n",
    "    mask = metadata[key].isin(merged_df[key])\n",
    "    metadata = metadata[mask]\n",
    "    print(f\"Removing {(~mask).sum()} {key}\")\n",
    "    print(f\"Number of patients remaining: {metadata['subject_id'].nunique()}\")\n",
    "    print(f\"Number of admissions remaining: {metadata['hadm_id'].nunique()}\")\n",
    "    print(f\"Number of events remaining: {metadata.shape}\")"
   ]
  },
  {
   "cell_type": "markdown",
   "metadata": {},
   "source": [
    "# Filter tables"
   ]
  },
  {
   "cell_type": "markdown",
   "metadata": {},
   "source": [
    "## Only keep data with duration in bounds"
   ]
  },
  {
   "cell_type": "code",
   "execution_count": null,
   "metadata": {
    "execution": {
     "iopub.execute_input": "2022-09-14T00:39:58.184553Z",
     "iopub.status.busy": "2022-09-14T00:39:58.184443Z",
     "iopub.status.idle": "2022-09-14T00:39:58.189394Z",
     "shell.execute_reply": "2022-09-14T00:39:58.188965Z",
     "shell.execute_reply.started": "2022-09-14T00:39:58.184543Z"
    },
    "tags": []
   },
   "outputs": [],
   "source": [
    "mintime = metadata.set_index(\"subject_id\")[[\"admittime\", \"edregtime\"]].min(axis=1)"
   ]
  },
  {
   "cell_type": "code",
   "execution_count": null,
   "metadata": {
    "execution": {
     "iopub.execute_input": "2022-09-14T00:39:58.189991Z",
     "iopub.status.busy": "2022-09-14T00:39:58.189885Z",
     "iopub.status.idle": "2022-09-14T00:39:58.546993Z",
     "shell.execute_reply": "2022-09-14T00:39:58.546617Z",
     "shell.execute_reply.started": "2022-09-14T00:39:58.189981Z"
    },
    "jp-MarkdownHeadingCollapsed": true,
    "tags": []
   },
   "outputs": [],
   "source": [
    "delta = (\n",
    "    merged_df.groupby(\"subject_id\")[\"charttime\"].max()\n",
    "    - merged_df.groupby(\"subject_id\")[\"charttime\"].min()\n",
    ")\n",
    "mask = delta < metadata.set_index(\"subject_id\")[\"elapsed_time\"]\n",
    "mask.mean()"
   ]
  },
  {
   "cell_type": "markdown",
   "metadata": {},
   "source": [
    "## Only keep data chose `charttime` > `admittime`"
   ]
  },
  {
   "cell_type": "code",
   "execution_count": null,
   "metadata": {
    "execution": {
     "iopub.execute_input": "2022-09-14T00:39:58.547553Z",
     "iopub.status.busy": "2022-09-14T00:39:58.547446Z",
     "iopub.status.idle": "2022-09-14T00:39:58.723013Z",
     "shell.execute_reply": "2022-09-14T00:39:58.722658Z",
     "shell.execute_reply.started": "2022-09-14T00:39:58.547543Z"
    },
    "tags": []
   },
   "outputs": [],
   "source": [
    "mask = (\n",
    "    merged_df.groupby(\"subject_id\")[\"charttime\"].min()\n",
    "    >= metadata.set_index(\"subject_id\")[\"admittime\"]\n",
    ")\n",
    "mask.mean()"
   ]
  },
  {
   "cell_type": "code",
   "execution_count": null,
   "metadata": {
    "execution": {
     "iopub.execute_input": "2022-09-14T00:39:58.723578Z",
     "iopub.status.busy": "2022-09-14T00:39:58.723472Z",
     "iopub.status.idle": "2022-09-14T00:39:58.897703Z",
     "shell.execute_reply": "2022-09-14T00:39:58.897339Z",
     "shell.execute_reply.started": "2022-09-14T00:39:58.723568Z"
    }
   },
   "outputs": [],
   "source": [
    "mask = (\n",
    "    merged_df.groupby(\"subject_id\")[\"charttime\"].min()\n",
    "    >= metadata.set_index(\"subject_id\")[\"edregtime\"]\n",
    ")\n",
    "mask.mean()"
   ]
  },
  {
   "cell_type": "code",
   "execution_count": null,
   "metadata": {
    "execution": {
     "iopub.execute_input": "2022-09-14T00:39:58.898294Z",
     "iopub.status.busy": "2022-09-14T00:39:58.898185Z",
     "iopub.status.idle": "2022-09-14T00:39:59.073987Z",
     "shell.execute_reply": "2022-09-14T00:39:59.073625Z",
     "shell.execute_reply.started": "2022-09-14T00:39:58.898283Z"
    },
    "tags": []
   },
   "outputs": [],
   "source": [
    "mask = merged_df.groupby(\"subject_id\")[\"charttime\"].min() >= mintime\n",
    "mask.mean()"
   ]
  },
  {
   "cell_type": "markdown",
   "metadata": {},
   "source": [
    "## Only keep data chose `charttime` < `dischtime`"
   ]
  },
  {
   "cell_type": "code",
   "execution_count": null,
   "metadata": {
    "execution": {
     "iopub.execute_input": "2022-09-14T00:39:59.074546Z",
     "iopub.status.busy": "2022-09-14T00:39:59.074440Z",
     "iopub.status.idle": "2022-09-14T00:39:59.262282Z",
     "shell.execute_reply": "2022-09-14T00:39:59.261850Z",
     "shell.execute_reply.started": "2022-09-14T00:39:59.074536Z"
    },
    "tags": []
   },
   "outputs": [],
   "source": [
    "mask &= (\n",
    "    merged_df.groupby(\"subject_id\")[\"charttime\"].max()\n",
    "    <= metadata.set_index(\"subject_id\")[\"dischtime\"]\n",
    ")\n",
    "mask.mean()"
   ]
  },
  {
   "cell_type": "markdown",
   "metadata": {},
   "source": [
    "## Only keep data chose `charttime` ends within the (2d, 29d) bound"
   ]
  },
  {
   "cell_type": "code",
   "execution_count": null,
   "metadata": {
    "execution": {
     "iopub.execute_input": "2022-09-14T00:39:59.262884Z",
     "iopub.status.busy": "2022-09-14T00:39:59.262769Z",
     "iopub.status.idle": "2022-09-14T00:39:59.453466Z",
     "shell.execute_reply": "2022-09-14T00:39:59.453101Z",
     "shell.execute_reply.started": "2022-09-14T00:39:59.262874Z"
    },
    "tags": []
   },
   "outputs": [],
   "source": [
    "lb = mintime + pd.Timedelta(\"2d\")\n",
    "ub = mintime + pd.Timedelta(\"29d\")\n",
    "et = merged_df.groupby(\"subject_id\")[\"charttime\"].max()\n",
    "mask &= (lb <= et) & (et <= ub)\n",
    "mask.mean()"
   ]
  },
  {
   "cell_type": "markdown",
   "metadata": {},
   "source": [
    "### Note: combined masks ⟹ only ~ 70 % of data remains"
   ]
  },
  {
   "cell_type": "markdown",
   "metadata": {},
   "source": [
    "# Add timestamps and Label Codes"
   ]
  },
  {
   "cell_type": "markdown",
   "metadata": {
    "tags": []
   },
   "source": [
    "## Create timestamps"
   ]
  },
  {
   "cell_type": "code",
   "execution_count": null,
   "metadata": {
    "execution": {
     "iopub.execute_input": "2022-09-14T00:39:59.454038Z",
     "iopub.status.busy": "2022-09-14T00:39:59.453930Z",
     "iopub.status.idle": "2022-09-14T00:40:02.007884Z",
     "shell.execute_reply": "2022-09-14T00:40:02.007431Z",
     "shell.execute_reply.started": "2022-09-14T00:39:59.454027Z"
    },
    "tags": []
   },
   "outputs": [],
   "source": [
    "reftime = merged_df.groupby(\"subject_id\")[\"charttime\"].min()\n",
    "reftime = reftime.rename(\"reftime\")\n",
    "metadata = metadata.join(reftime, on=\"subject_id\")\n",
    "merged_df = pd.merge(reftime, merged_df, left_index=True, right_on=\"subject_id\")\n",
    "merged_df[\"time_stamp\"] = merged_df[\"charttime\"] - merged_df[\"reftime\"]\n",
    "merged_df = merged_df.drop(columns=[\"reftime\"])"
   ]
  },
  {
   "cell_type": "markdown",
   "metadata": {
    "execution": {
     "iopub.status.busy": "2022-09-12T22:00:52.819013Z",
     "iopub.status.idle": "2022-09-12T22:00:52.819165Z",
     "shell.execute_reply": "2022-09-12T22:00:52.819084Z",
     "shell.execute_reply.started": "2022-09-12T22:00:52.819078Z"
    }
   },
   "source": [
    "## Create label codes."
   ]
  },
  {
   "cell_type": "code",
   "execution_count": null,
   "metadata": {
    "execution": {
     "iopub.execute_input": "2022-09-14T00:40:02.008514Z",
     "iopub.status.busy": "2022-09-14T00:40:02.008402Z",
     "iopub.status.idle": "2022-09-14T00:40:08.865031Z",
     "shell.execute_reply": "2022-09-14T00:40:08.864604Z",
     "shell.execute_reply.started": "2022-09-14T00:40:02.008504Z"
    },
    "tags": []
   },
   "outputs": [],
   "source": [
    "merged_df[\"label\"] = merged_df[\"label\"].astype(\"string\").astype(\"category\")\n",
    "merged_df[\"label_code\"] = merged_df[\"label\"].cat.codes\n",
    "merged_df = merged_df.sort_values([\"hadm_id\", \"valuenum\", \"time_stamp\", \"label_code\"])\n",
    "merged_df"
   ]
  },
  {
   "cell_type": "markdown",
   "metadata": {
    "execution": {
     "iopub.status.busy": "2022-09-12T22:00:52.820386Z",
     "iopub.status.idle": "2022-09-12T22:00:52.820516Z",
     "shell.execute_reply": "2022-09-12T22:00:52.820454Z",
     "shell.execute_reply.started": "2022-09-12T22:00:52.820448Z"
    }
   },
   "source": [
    "## select only values within first 48 hours"
   ]
  },
  {
   "cell_type": "code",
   "execution_count": null,
   "metadata": {
    "execution": {
     "iopub.execute_input": "2022-09-14T00:40:08.865778Z",
     "iopub.status.busy": "2022-09-14T00:40:08.865608Z",
     "iopub.status.idle": "2022-09-14T00:40:09.668110Z",
     "shell.execute_reply": "2022-09-14T00:40:09.667657Z",
     "shell.execute_reply.started": "2022-09-14T00:40:08.865761Z"
    },
    "tags": []
   },
   "outputs": [],
   "source": [
    "mask = merged_df[\"time_stamp\"] < pd.Timedelta(48, \"h\")\n",
    "merged_df = merged_df[mask].copy()\n",
    "print(f\"Number of patients considered: {merged_df['hadm_id'].nunique()}\")\n",
    "assert all(merged_df[\"time_stamp\"] < pd.Timedelta(48, \"h\"))"
   ]
  },
  {
   "cell_type": "markdown",
   "metadata": {},
   "source": [
    "## Convert time_stamp to minutes"
   ]
  },
  {
   "cell_type": "code",
   "execution_count": null,
   "metadata": {
    "execution": {
     "iopub.execute_input": "2022-09-14T00:40:09.668878Z",
     "iopub.status.busy": "2022-09-14T00:40:09.668707Z",
     "iopub.status.idle": "2022-09-14T00:40:09.744592Z",
     "shell.execute_reply": "2022-09-14T00:40:09.744138Z",
     "shell.execute_reply.started": "2022-09-14T00:40:09.668862Z"
    },
    "tags": []
   },
   "outputs": [],
   "source": [
    "merged_df[\"time_stamp\"] = merged_df[\"time_stamp\"].dt.total_seconds().div(60).astype(int)"
   ]
  },
  {
   "cell_type": "markdown",
   "metadata": {
    "tags": []
   },
   "source": [
    "# Finalize and Serialize Tensors"
   ]
  },
  {
   "cell_type": "markdown",
   "metadata": {
    "execution": {
     "iopub.status.busy": "2022-09-12T22:00:52.820878Z",
     "iopub.status.idle": "2022-09-12T22:00:52.821013Z",
     "shell.execute_reply": "2022-09-12T22:00:52.820949Z",
     "shell.execute_reply.started": "2022-09-12T22:00:52.820942Z"
    }
   },
   "source": [
    "## Select columns used in final dataset"
   ]
  },
  {
   "cell_type": "code",
   "execution_count": null,
   "metadata": {
    "execution": {
     "iopub.execute_input": "2022-09-14T00:40:09.745432Z",
     "iopub.status.busy": "2022-09-14T00:40:09.745272Z",
     "iopub.status.idle": "2022-09-14T00:40:11.889821Z",
     "shell.execute_reply": "2022-09-14T00:40:11.889453Z",
     "shell.execute_reply.started": "2022-09-14T00:40:09.745417Z"
    },
    "tags": []
   },
   "outputs": [],
   "source": [
    "selection = [\"subject_id\", \"time_stamp\", \"label_code\", \"valuenum\"]\n",
    "timeseries = merged_df[selection].copy()\n",
    "timeseries = timeseries.sort_values(by=selection)\n",
    "timeseries = timeseries.set_index([\"subject_id\", \"time_stamp\"])\n",
    "timeseries.to_parquet(dataset_path / \"timeseries_triplet.parquet\")\n",
    "print(timeseries.shape, timeseries.dtypes)\n",
    "timeseries"
   ]
  },
  {
   "cell_type": "markdown",
   "metadata": {},
   "source": [
    "## Save Metadata Tensor"
   ]
  },
  {
   "cell_type": "code",
   "execution_count": null,
   "metadata": {
    "execution": {
     "iopub.execute_input": "2022-09-14T00:40:11.890434Z",
     "iopub.status.busy": "2022-09-14T00:40:11.890290Z",
     "iopub.status.idle": "2022-09-14T00:40:11.915197Z",
     "shell.execute_reply": "2022-09-14T00:40:11.914888Z",
     "shell.execute_reply.started": "2022-09-14T00:40:11.890423Z"
    },
    "tags": []
   },
   "outputs": [],
   "source": [
    "selection = [\n",
    "    \"subject_id\",\n",
    "    \"reftime\",\n",
    "    \"admission_type\",\n",
    "    \"admission_location\",\n",
    "    \"discharge_location\",\n",
    "    \"insurance\",\n",
    "    \"language\",\n",
    "    \"marital_status\",\n",
    "    \"ethnicity\",\n",
    "    \"hospital_expire_flag\",\n",
    "    \"gender\",\n",
    "    \"anchor_age\",\n",
    "    \"anchor_year\",\n",
    "    \"anchor_year_group\",\n",
    "]\n",
    "metadata = metadata[selection]\n",
    "metadata = metadata.set_index(\"subject_id\")\n",
    "metadata = metadata.sort_index()\n",
    "metadata.to_parquet(dataset_path / \"metadata.parquet\")\n",
    "print(metadata.shape, metadata.dtypes)\n",
    "metadata"
   ]
  },
  {
   "cell_type": "markdown",
   "metadata": {},
   "source": [
    "## Create label table"
   ]
  },
  {
   "cell_type": "code",
   "execution_count": null,
   "metadata": {
    "execution": {
     "iopub.execute_input": "2022-09-14T00:40:11.916873Z",
     "iopub.status.busy": "2022-09-14T00:40:11.916740Z",
     "iopub.status.idle": "2022-09-14T00:40:11.928837Z",
     "shell.execute_reply": "2022-09-14T00:40:11.928446Z",
     "shell.execute_reply.started": "2022-09-14T00:40:11.916861Z"
    },
    "tags": []
   },
   "outputs": [],
   "source": [
    "cat_type = merged_df[\"label\"].dtype\n",
    "labels = pd.Series(cat_type.categories, name=\"label\", dtype=cat_type)\n",
    "labels = labels.to_frame()\n",
    "label_origin = pd.Series(\n",
    "    {\n",
    "        key: name\n",
    "        for name, table in tables.items()\n",
    "        for key in table[\"label\"].cat.categories\n",
    "    },\n",
    "    name=\"origin\",\n",
    "    dtype=\"category\",\n",
    ")\n",
    "label_origin.index.name = \"label\"\n",
    "label_origin.index = label_origin.index.astype(cat_type)\n",
    "labels = pd.merge(labels, label_origin, right_index=True, left_on=\"label\")\n",
    "labels[\"code\"] = labels[\"label\"].cat.codes\n",
    "labels.to_parquet(dataset_path / \"labels.parquet\")\n",
    "print(labels.dtypes)\n",
    "labels"
   ]
  },
  {
   "cell_type": "markdown",
   "metadata": {},
   "source": [
    "# Create Sparse Representation"
   ]
  },
  {
   "cell_type": "code",
   "execution_count": null,
   "metadata": {
    "execution": {
     "iopub.execute_input": "2022-09-14T00:40:11.929411Z",
     "iopub.status.busy": "2022-09-14T00:40:11.929291Z",
     "iopub.status.idle": "2022-09-14T00:40:26.551013Z",
     "shell.execute_reply": "2022-09-14T00:40:26.550566Z",
     "shell.execute_reply.started": "2022-09-14T00:40:11.929400Z"
    },
    "tags": []
   },
   "outputs": [],
   "source": [
    "from tsdm.encoders import TripletDecoder\n",
    "\n",
    "encoder = TripletDecoder(value_name=\"valuenum\", var_name=\"label_code\")\n",
    "encoder.fit(timeseries)\n",
    "encoded = encoder.encode(timeseries)\n",
    "assert len(encoded.index.unique()) == len(encoded)\n",
    "encoded.columns = encoded.columns.astype(\"string\")\n",
    "encoded.to_parquet(dataset_path / \"timeseries.parquet\")\n",
    "encoded"
   ]
  }
 ],
 "metadata": {
  "kernelspec": {
   "display_name": "Python 3 (ipykernel)",
   "language": "python",
   "name": "python3"
  },
  "language_info": {
   "codemirror_mode": {
    "name": "ipython",
    "version": 3
   },
   "file_extension": ".py",
   "mimetype": "text/x-python",
   "name": "python",
   "nbconvert_exporter": "python",
   "pygments_lexer": "ipython3",
   "version": "3.10.6"
  }
 },
 "nbformat": 4,
 "nbformat_minor": 4
}
