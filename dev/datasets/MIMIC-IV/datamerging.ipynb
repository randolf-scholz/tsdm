{
 "cells": [
  {
   "cell_type": "markdown",
   "metadata": {},
   "source": [
    "# Merging all data sources"
   ]
  },
  {
   "cell_type": "code",
   "execution_count": null,
   "metadata": {
    "execution": {
     "iopub.execute_input": "2022-09-14T23:11:29.190328Z",
     "iopub.status.busy": "2022-09-14T23:11:29.190195Z",
     "iopub.status.idle": "2022-09-14T23:11:29.434585Z",
     "shell.execute_reply": "2022-09-14T23:11:29.434180Z",
     "shell.execute_reply.started": "2022-09-14T23:11:29.190289Z"
    },
    "tags": []
   },
   "outputs": [],
   "source": [
    "from pathlib import Path\n",
    "\n",
    "import pandas as pd"
   ]
  },
  {
   "cell_type": "markdown",
   "metadata": {},
   "source": [
    "# Load processed tables"
   ]
  },
  {
   "cell_type": "code",
   "execution_count": null,
   "metadata": {
    "execution": {
     "iopub.execute_input": "2022-09-14T23:11:29.435722Z",
     "iopub.status.busy": "2022-09-14T23:11:29.435555Z",
     "iopub.status.idle": "2022-09-14T23:11:29.976398Z",
     "shell.execute_reply": "2022-09-14T23:11:29.975950Z",
     "shell.execute_reply.started": "2022-09-14T23:11:29.435710Z"
    },
    "tags": []
   },
   "outputs": [],
   "source": [
    "rawdata_file = Path.cwd() / \"mimic-iv-1.0.zip\"\n",
    "dataset_path = Path.cwd() / \"processed\"\n",
    "rawdata_path = Path.cwd() / \"raw\"\n",
    "\n",
    "\n",
    "with pd.option_context(\"string_storage\", \"pyarrow\"):\n",
    "    admissions = pd.read_parquet(dataset_path / \"admissions_processed.parquet\")\n",
    "\n",
    "    labevents = pd.read_parquet(\n",
    "        dataset_path / \"labevents_processed.parquet\",\n",
    "        columns=[\"subject_id\", \"hadm_id\", \"charttime\", \"valuenum\", \"label\"],\n",
    "    )\n",
    "    inputevents = pd.read_parquet(\n",
    "        dataset_path / \"inputevents_processed.parquet\",\n",
    "        columns=[\"subject_id\", \"hadm_id\", \"charttime\", \"amount\", \"label\"],\n",
    "    )\n",
    "    outputevents = pd.read_parquet(\n",
    "        dataset_path / \"outputevents_processed.parquet\",\n",
    "        columns=[\"subject_id\", \"hadm_id\", \"charttime\", \"value\", \"label\"],\n",
    "    )\n",
    "    prescriptions = pd.read_parquet(\n",
    "        dataset_path / \"prescriptions_processed.parquet\",\n",
    "        columns=[\"subject_id\", \"hadm_id\", \"charttime\", \"dose_val_rx\", \"drug\"],\n",
    "    )\n",
    "\n",
    "admissions"
   ]
  },
  {
   "cell_type": "code",
   "execution_count": null,
   "metadata": {
    "execution": {
     "iopub.execute_input": "2022-09-14T23:11:29.977434Z",
     "iopub.status.busy": "2022-09-14T23:11:29.977038Z",
     "iopub.status.idle": "2022-09-14T23:11:32.718498Z",
     "shell.execute_reply": "2022-09-14T23:11:32.718074Z",
     "shell.execute_reply.started": "2022-09-14T23:11:29.977415Z"
    },
    "tags": []
   },
   "outputs": [],
   "source": [
    "for table in (labevents, inputevents, outputevents, prescriptions):\n",
    "    display(table.shape)\n",
    "    display(pd.DataFrame({\"type\": table.dtypes, \"uniques\": table.nunique()}))"
   ]
  },
  {
   "cell_type": "markdown",
   "metadata": {},
   "source": [
    "## Change the name of amount. Valuenum for every table"
   ]
  },
  {
   "cell_type": "code",
   "execution_count": null,
   "metadata": {
    "execution": {
     "iopub.execute_input": "2022-09-14T23:11:32.719145Z",
     "iopub.status.busy": "2022-09-14T23:11:32.719029Z",
     "iopub.status.idle": "2022-09-14T23:11:32.757927Z",
     "shell.execute_reply": "2022-09-14T23:11:32.757459Z",
     "shell.execute_reply.started": "2022-09-14T23:11:32.719133Z"
    },
    "tags": []
   },
   "outputs": [],
   "source": [
    "inputevents = inputevents.rename(columns={\"amount\": \"valuenum\"})\n",
    "outputevents = outputevents.rename(columns={\"value\": \"valuenum\"})\n",
    "prescriptions = prescriptions.rename(columns={\"dose_val_rx\": \"valuenum\"})\n",
    "prescriptions = prescriptions.rename(columns={\"drug\": \"label\"})"
   ]
  },
  {
   "cell_type": "markdown",
   "metadata": {},
   "source": [
    "## Merge the tables"
   ]
  },
  {
   "cell_type": "code",
   "execution_count": null,
   "metadata": {
    "execution": {
     "iopub.execute_input": "2022-09-14T23:11:32.758557Z",
     "iopub.status.busy": "2022-09-14T23:11:32.758444Z",
     "iopub.status.idle": "2022-09-14T23:11:36.190952Z",
     "shell.execute_reply": "2022-09-14T23:11:36.190596Z",
     "shell.execute_reply.started": "2022-09-14T23:11:32.758546Z"
    },
    "tags": []
   },
   "outputs": [],
   "source": [
    "tables = {\n",
    "    \"inputevent\": inputevents,\n",
    "    \"labevent\": labevents,\n",
    "    \"outputevent\": outputevents,\n",
    "    \"prescription\": prescriptions,\n",
    "}\n",
    "\n",
    "merged_df = pd.concat(tables, names=[\"type\"]).reset_index(drop=True)\n",
    "assert all(merged_df.notna())\n",
    "merged_df"
   ]
  },
  {
   "cell_type": "markdown",
   "metadata": {},
   "source": [
    "## Validate that all labels have different names."
   ]
  },
  {
   "cell_type": "code",
   "execution_count": null,
   "metadata": {
    "execution": {
     "iopub.execute_input": "2022-09-14T23:11:36.191584Z",
     "iopub.status.busy": "2022-09-14T23:11:36.191461Z",
     "iopub.status.idle": "2022-09-14T23:11:36.757515Z",
     "shell.execute_reply": "2022-09-14T23:11:36.757167Z",
     "shell.execute_reply.started": "2022-09-14T23:11:36.191571Z"
    },
    "tags": []
   },
   "outputs": [],
   "source": [
    "assert merged_df[\"label\"].nunique() == (\n",
    "    inputevents[\"label\"].nunique()\n",
    "    + labevents[\"label\"].nunique()\n",
    "    + outputevents[\"label\"].nunique()\n",
    "    + prescriptions[\"label\"].nunique()\n",
    ")"
   ]
  },
  {
   "cell_type": "markdown",
   "metadata": {},
   "source": [
    "## Validate that all subject_id / hadm_id pairs are unique"
   ]
  },
  {
   "cell_type": "code",
   "execution_count": null,
   "metadata": {
    "execution": {
     "iopub.execute_input": "2022-09-14T23:11:36.758890Z",
     "iopub.status.busy": "2022-09-14T23:11:36.758751Z",
     "iopub.status.idle": "2022-09-14T23:11:38.477947Z",
     "shell.execute_reply": "2022-09-14T23:11:38.477529Z",
     "shell.execute_reply.started": "2022-09-14T23:11:36.758879Z"
    },
    "tags": []
   },
   "outputs": [],
   "source": [
    "assert all(merged_df.groupby(\"subject_id\")[\"hadm_id\"].nunique() == 1)\n",
    "assert all(merged_df.groupby(\"hadm_id\")[\"subject_id\"].nunique() == 1)"
   ]
  },
  {
   "cell_type": "markdown",
   "metadata": {},
   "source": [
    "## Create Metadata tensor"
   ]
  },
  {
   "cell_type": "code",
   "execution_count": null,
   "metadata": {
    "execution": {
     "iopub.execute_input": "2022-09-14T23:11:38.478548Z",
     "iopub.status.busy": "2022-09-14T23:11:38.478434Z",
     "iopub.status.idle": "2022-09-14T23:11:39.970277Z",
     "shell.execute_reply": "2022-09-14T23:11:39.969869Z",
     "shell.execute_reply.started": "2022-09-14T23:11:38.478537Z"
    },
    "tags": []
   },
   "outputs": [],
   "source": [
    "metadata = admissions.copy().sort_values(by=[\"subject_id\"])\n",
    "\n",
    "for key in [\"hadm_id\", \"subject_id\"]:\n",
    "    mask = metadata[key].isin(merged_df[key])\n",
    "    metadata = metadata[mask]\n",
    "    print(f\"Removing {(~mask).sum()} {key}\")\n",
    "    print(f\"Number of patients remaining: {metadata['subject_id'].nunique()}\")\n",
    "    print(f\"Number of admissions remaining: {metadata['hadm_id'].nunique()}\")\n",
    "    print(f\"Number of events remaining: {metadata.shape}\")"
   ]
  },
  {
   "cell_type": "markdown",
   "metadata": {},
   "source": [
    "# Filter tables"
   ]
  },
  {
   "cell_type": "markdown",
   "metadata": {},
   "source": [
    "## Only keep data with duration in bounds"
   ]
  },
  {
   "cell_type": "code",
   "execution_count": null,
   "metadata": {
    "execution": {
     "iopub.execute_input": "2022-09-14T23:11:39.970922Z",
     "iopub.status.busy": "2022-09-14T23:11:39.970803Z",
     "iopub.status.idle": "2022-09-14T23:11:39.975979Z",
     "shell.execute_reply": "2022-09-14T23:11:39.975663Z",
     "shell.execute_reply.started": "2022-09-14T23:11:39.970910Z"
    },
    "tags": []
   },
   "outputs": [],
   "source": [
    "mintime = metadata.set_index(\"subject_id\")[[\"admittime\", \"edregtime\"]].min(axis=1)"
   ]
  },
  {
   "cell_type": "code",
   "execution_count": null,
   "metadata": {
    "execution": {
     "iopub.execute_input": "2022-09-14T23:11:39.976557Z",
     "iopub.status.busy": "2022-09-14T23:11:39.976448Z",
     "iopub.status.idle": "2022-09-14T23:11:40.356721Z",
     "shell.execute_reply": "2022-09-14T23:11:40.356416Z",
     "shell.execute_reply.started": "2022-09-14T23:11:39.976546Z"
    },
    "jp-MarkdownHeadingCollapsed": true,
    "tags": []
   },
   "outputs": [],
   "source": [
    "delta = (\n",
    "    merged_df.groupby(\"subject_id\")[\"charttime\"].max()\n",
    "    - merged_df.groupby(\"subject_id\")[\"charttime\"].min()\n",
    ")\n",
    "mask = delta < metadata.set_index(\"subject_id\")[\"elapsed_time\"]\n",
    "mask.mean()"
   ]
  },
  {
   "cell_type": "markdown",
   "metadata": {},
   "source": [
    "## Only keep data chose `charttime` > `admittime`"
   ]
  },
  {
   "cell_type": "code",
   "execution_count": null,
   "metadata": {
    "execution": {
     "iopub.execute_input": "2022-09-14T23:11:40.357292Z",
     "iopub.status.busy": "2022-09-14T23:11:40.357157Z",
     "iopub.status.idle": "2022-09-14T23:11:40.542938Z",
     "shell.execute_reply": "2022-09-14T23:11:40.542641Z",
     "shell.execute_reply.started": "2022-09-14T23:11:40.357281Z"
    },
    "tags": []
   },
   "outputs": [],
   "source": [
    "mask = (\n",
    "    merged_df.groupby(\"subject_id\")[\"charttime\"].min()\n",
    "    >= metadata.set_index(\"subject_id\")[\"admittime\"]\n",
    ")\n",
    "mask.mean()"
   ]
  },
  {
   "cell_type": "code",
   "execution_count": null,
   "metadata": {
    "execution": {
     "iopub.execute_input": "2022-09-14T23:11:40.543486Z",
     "iopub.status.busy": "2022-09-14T23:11:40.543380Z",
     "iopub.status.idle": "2022-09-14T23:11:40.721351Z",
     "shell.execute_reply": "2022-09-14T23:11:40.721020Z",
     "shell.execute_reply.started": "2022-09-14T23:11:40.543476Z"
    }
   },
   "outputs": [],
   "source": [
    "mask = (\n",
    "    merged_df.groupby(\"subject_id\")[\"charttime\"].min()\n",
    "    >= metadata.set_index(\"subject_id\")[\"edregtime\"]\n",
    ")\n",
    "mask.mean()"
   ]
  },
  {
   "cell_type": "code",
   "execution_count": null,
   "metadata": {
    "execution": {
     "iopub.execute_input": "2022-09-14T23:11:40.721895Z",
     "iopub.status.busy": "2022-09-14T23:11:40.721787Z",
     "iopub.status.idle": "2022-09-14T23:11:40.913871Z",
     "shell.execute_reply": "2022-09-14T23:11:40.913498Z",
     "shell.execute_reply.started": "2022-09-14T23:11:40.721884Z"
    },
    "tags": []
   },
   "outputs": [],
   "source": [
    "mask = merged_df.groupby(\"subject_id\")[\"charttime\"].min() >= mintime\n",
    "mask.mean()"
   ]
  },
  {
   "cell_type": "markdown",
   "metadata": {},
   "source": [
    "## Only keep data chose `charttime` < `dischtime`"
   ]
  },
  {
   "cell_type": "code",
   "execution_count": null,
   "metadata": {
    "execution": {
     "iopub.execute_input": "2022-09-14T23:11:40.914489Z",
     "iopub.status.busy": "2022-09-14T23:11:40.914369Z",
     "iopub.status.idle": "2022-09-14T23:11:41.110388Z",
     "shell.execute_reply": "2022-09-14T23:11:41.109991Z",
     "shell.execute_reply.started": "2022-09-14T23:11:40.914478Z"
    },
    "tags": []
   },
   "outputs": [],
   "source": [
    "mask &= (\n",
    "    merged_df.groupby(\"subject_id\")[\"charttime\"].max()\n",
    "    <= metadata.set_index(\"subject_id\")[\"dischtime\"]\n",
    ")\n",
    "mask.mean()"
   ]
  },
  {
   "cell_type": "markdown",
   "metadata": {},
   "source": [
    "## Only keep data chose `charttime` ends within the (2d, 29d) bound"
   ]
  },
  {
   "cell_type": "code",
   "execution_count": null,
   "metadata": {
    "execution": {
     "iopub.execute_input": "2022-09-14T23:11:41.111017Z",
     "iopub.status.busy": "2022-09-14T23:11:41.110895Z",
     "iopub.status.idle": "2022-09-14T23:11:41.309902Z",
     "shell.execute_reply": "2022-09-14T23:11:41.309541Z",
     "shell.execute_reply.started": "2022-09-14T23:11:41.111005Z"
    },
    "tags": []
   },
   "outputs": [],
   "source": [
    "lb = mintime + pd.Timedelta(\"2d\")\n",
    "ub = mintime + pd.Timedelta(\"29d\")\n",
    "et = merged_df.groupby(\"subject_id\")[\"charttime\"].max()\n",
    "mask &= (lb <= et) & (et <= ub)\n",
    "mask.mean()"
   ]
  },
  {
   "cell_type": "markdown",
   "metadata": {},
   "source": [
    "### Note: combined masks ⟹ only ~ 70 % of data remains"
   ]
  },
  {
   "cell_type": "markdown",
   "metadata": {},
   "source": [
    "# Add timestamps and Label Codes"
   ]
  },
  {
   "cell_type": "markdown",
   "metadata": {
    "tags": []
   },
   "source": [
    "## Create timestamps"
   ]
  },
  {
   "cell_type": "code",
   "execution_count": null,
   "metadata": {
    "execution": {
     "iopub.execute_input": "2022-09-14T23:11:41.310461Z",
     "iopub.status.busy": "2022-09-14T23:11:41.310354Z",
     "iopub.status.idle": "2022-09-14T23:11:43.978507Z",
     "shell.execute_reply": "2022-09-14T23:11:43.978087Z",
     "shell.execute_reply.started": "2022-09-14T23:11:41.310451Z"
    },
    "tags": []
   },
   "outputs": [],
   "source": [
    "reftime = merged_df.groupby(\"subject_id\")[\"charttime\"].min()\n",
    "reftime = reftime.rename(\"reftime\")\n",
    "metadata = metadata.join(reftime, on=\"subject_id\")\n",
    "merged_df = pd.merge(reftime, merged_df, left_index=True, right_on=\"subject_id\")\n",
    "merged_df[\"time_stamp\"] = merged_df[\"charttime\"] - merged_df[\"reftime\"]\n",
    "merged_df = merged_df.drop(columns=[\"reftime\"])"
   ]
  },
  {
   "cell_type": "markdown",
   "metadata": {
    "execution": {
     "iopub.status.busy": "2022-09-12T22:00:52.819013Z",
     "iopub.status.idle": "2022-09-12T22:00:52.819165Z",
     "shell.execute_reply": "2022-09-12T22:00:52.819084Z",
     "shell.execute_reply.started": "2022-09-12T22:00:52.819078Z"
    }
   },
   "source": [
    "## Create label codes."
   ]
  },
  {
   "cell_type": "code",
   "execution_count": null,
   "metadata": {
    "execution": {
     "iopub.execute_input": "2022-09-14T23:11:43.979116Z",
     "iopub.status.busy": "2022-09-14T23:11:43.979004Z",
     "iopub.status.idle": "2022-09-14T23:11:51.059782Z",
     "shell.execute_reply": "2022-09-14T23:11:51.059423Z",
     "shell.execute_reply.started": "2022-09-14T23:11:43.979105Z"
    },
    "tags": []
   },
   "outputs": [],
   "source": [
    "merged_df[\"label\"] = merged_df[\"label\"].astype(\"string\").astype(\"category\")\n",
    "merged_df[\"label_code\"] = merged_df[\"label\"].cat.codes\n",
    "merged_df = merged_df.sort_values([\"hadm_id\", \"valuenum\", \"time_stamp\", \"label_code\"])\n",
    "merged_df"
   ]
  },
  {
   "cell_type": "markdown",
   "metadata": {
    "execution": {
     "iopub.status.busy": "2022-09-12T22:00:52.820386Z",
     "iopub.status.idle": "2022-09-12T22:00:52.820516Z",
     "shell.execute_reply": "2022-09-12T22:00:52.820454Z",
     "shell.execute_reply.started": "2022-09-12T22:00:52.820448Z"
    }
   },
   "source": [
    "## select only values within first 48 hours"
   ]
  },
  {
   "cell_type": "code",
   "execution_count": null,
   "metadata": {
    "execution": {
     "iopub.execute_input": "2022-09-14T23:11:51.060397Z",
     "iopub.status.busy": "2022-09-14T23:11:51.060285Z",
     "iopub.status.idle": "2022-09-14T23:11:51.825011Z",
     "shell.execute_reply": "2022-09-14T23:11:51.824570Z",
     "shell.execute_reply.started": "2022-09-14T23:11:51.060386Z"
    },
    "tags": []
   },
   "outputs": [],
   "source": [
    "mask = merged_df[\"time_stamp\"] < pd.Timedelta(48, \"h\")\n",
    "merged_df = merged_df[mask].copy()\n",
    "print(f\"Number of patients considered: {merged_df['hadm_id'].nunique()}\")\n",
    "assert all(merged_df[\"time_stamp\"] < pd.Timedelta(48, \"h\"))"
   ]
  },
  {
   "cell_type": "markdown",
   "metadata": {},
   "source": [
    "## Convert time_stamp to minutes"
   ]
  },
  {
   "cell_type": "code",
   "execution_count": null,
   "metadata": {
    "execution": {
     "iopub.execute_input": "2022-09-14T23:11:51.825644Z",
     "iopub.status.busy": "2022-09-14T23:11:51.825531Z",
     "iopub.status.idle": "2022-09-14T23:11:51.902044Z",
     "shell.execute_reply": "2022-09-14T23:11:51.901583Z",
     "shell.execute_reply.started": "2022-09-14T23:11:51.825633Z"
    },
    "tags": []
   },
   "outputs": [],
   "source": [
    "merged_df[\"time_stamp\"] = merged_df[\"time_stamp\"].dt.total_seconds().div(60).astype(int)"
   ]
  },
  {
   "cell_type": "markdown",
   "metadata": {
    "tags": []
   },
   "source": [
    "# Finalize and Serialize Tensors"
   ]
  },
  {
   "cell_type": "markdown",
   "metadata": {
    "execution": {
     "iopub.status.busy": "2022-09-12T22:00:52.820878Z",
     "iopub.status.idle": "2022-09-12T22:00:52.821013Z",
     "shell.execute_reply": "2022-09-12T22:00:52.820949Z",
     "shell.execute_reply.started": "2022-09-12T22:00:52.820942Z"
    }
   },
   "source": [
    "## Select columns used in final dataset"
   ]
  },
  {
   "cell_type": "code",
   "execution_count": null,
   "metadata": {
    "execution": {
     "iopub.execute_input": "2022-09-14T23:11:51.902689Z",
     "iopub.status.busy": "2022-09-14T23:11:51.902574Z",
     "iopub.status.idle": "2022-09-14T23:11:51.905535Z",
     "shell.execute_reply": "2022-09-14T23:11:51.905230Z",
     "shell.execute_reply.started": "2022-09-14T23:11:51.902677Z"
    },
    "tags": []
   },
   "outputs": [],
   "source": [
    "LABELS = merged_df[\"label\"].dtype\n",
    "LABELS"
   ]
  },
  {
   "cell_type": "code",
   "execution_count": null,
   "metadata": {
    "execution": {
     "iopub.execute_input": "2022-09-14T23:11:51.906072Z",
     "iopub.status.busy": "2022-09-14T23:11:51.905969Z",
     "iopub.status.idle": "2022-09-14T23:11:54.013770Z",
     "shell.execute_reply": "2022-09-14T23:11:54.013263Z",
     "shell.execute_reply.started": "2022-09-14T23:11:51.906062Z"
    },
    "tags": []
   },
   "outputs": [],
   "source": [
    "selection = [\"subject_id\", \"time_stamp\", \"label\", \"valuenum\"]\n",
    "timeseries = merged_df[selection].copy()\n",
    "timeseries = timeseries.sort_values(by=selection)\n",
    "timeseries = timeseries.set_index([\"subject_id\", \"time_stamp\"])\n",
    "timeseries.to_parquet(dataset_path / \"timeseries_triplet.parquet\")\n",
    "print(timeseries.shape, timeseries.dtypes)\n",
    "timeseries"
   ]
  },
  {
   "cell_type": "markdown",
   "metadata": {},
   "source": [
    "## Sparse Representation"
   ]
  },
  {
   "cell_type": "code",
   "execution_count": null,
   "metadata": {
    "execution": {
     "iopub.execute_input": "2022-09-14T23:11:54.015481Z",
     "iopub.status.busy": "2022-09-14T23:11:54.015365Z",
     "iopub.status.idle": "2022-09-14T23:12:09.123276Z",
     "shell.execute_reply": "2022-09-14T23:12:09.122789Z",
     "shell.execute_reply.started": "2022-09-14T23:11:54.015470Z"
    },
    "tags": []
   },
   "outputs": [],
   "source": [
    "from tsdm.encoders import TripletDecoder\n",
    "\n",
    "timeseries.label = timeseries.label.astype(LABELS)\n",
    "encoder = TripletDecoder(value_name=\"valuenum\", var_name=\"label\")\n",
    "encoder.fit(timeseries)\n",
    "encoded = encoder.encode(timeseries)\n",
    "assert len(encoded.index.unique()) == len(encoded)\n",
    "encoded.columns = encoded.columns.astype(\"string\")\n",
    "encoded.to_parquet(dataset_path / \"timeseries.parquet\")\n",
    "encoded.columns = encoded.columns.astype(LABELS)\n",
    "encoded"
   ]
  },
  {
   "cell_type": "markdown",
   "metadata": {},
   "source": [
    "## Save Metadata Tensor"
   ]
  },
  {
   "cell_type": "code",
   "execution_count": null,
   "metadata": {
    "execution": {
     "iopub.execute_input": "2022-09-14T23:12:09.124237Z",
     "iopub.status.busy": "2022-09-14T23:12:09.123716Z",
     "iopub.status.idle": "2022-09-14T23:12:09.150767Z",
     "shell.execute_reply": "2022-09-14T23:12:09.150395Z",
     "shell.execute_reply.started": "2022-09-14T23:12:09.124226Z"
    },
    "tags": []
   },
   "outputs": [],
   "source": [
    "selection = [\n",
    "    \"subject_id\",\n",
    "    \"reftime\",\n",
    "    \"admission_type\",\n",
    "    \"admission_location\",\n",
    "    \"discharge_location\",\n",
    "    \"insurance\",\n",
    "    \"language\",\n",
    "    \"marital_status\",\n",
    "    \"ethnicity\",\n",
    "    \"hospital_expire_flag\",\n",
    "    \"gender\",\n",
    "    \"anchor_age\",\n",
    "    \"anchor_year\",\n",
    "    \"anchor_year_group\",\n",
    "]\n",
    "metadata = metadata[selection]\n",
    "metadata = metadata.set_index(\"subject_id\")\n",
    "metadata = metadata.sort_index()\n",
    "metadata.to_parquet(dataset_path / \"metadata.parquet\")\n",
    "print(metadata.shape, metadata.dtypes)\n",
    "metadata"
   ]
  },
  {
   "cell_type": "markdown",
   "metadata": {},
   "source": [
    "## Create label table"
   ]
  },
  {
   "cell_type": "code",
   "execution_count": null,
   "metadata": {
    "execution": {
     "iopub.execute_input": "2022-09-14T23:12:09.151377Z",
     "iopub.status.busy": "2022-09-14T23:12:09.151264Z",
     "iopub.status.idle": "2022-09-14T23:12:11.663576Z",
     "shell.execute_reply": "2022-09-14T23:12:11.663215Z",
     "shell.execute_reply.started": "2022-09-14T23:12:09.151366Z"
    },
    "tags": []
   },
   "outputs": [],
   "source": [
    "labels = pd.Series(LABELS.categories, name=\"label\", dtype=LABELS)\n",
    "labels = labels.to_frame()\n",
    "label_origin = pd.Series(\n",
    "    {\n",
    "        key: name\n",
    "        for name, table in tables.items()\n",
    "        for key in table[\"label\"].cat.categories\n",
    "    },\n",
    "    name=\"origin\",\n",
    "    dtype=\"category\",\n",
    ")\n",
    "label_origin.index.name = \"label\"\n",
    "label_origin.index = label_origin.index.astype(LABELS)\n",
    "labels = pd.merge(labels, label_origin, right_index=True, left_on=\"label\")\n",
    "labels[\"code\"] = labels[\"label\"].cat.codes\n",
    "missing = encoded.isna().mean().rename(\"missing\").astype(\"float32\")\n",
    "means = encoded.mean().rename(\"mean\").astype(\"float32\")\n",
    "stdvs = encoded.std().rename(\"stdv\").astype(\"float32\")\n",
    "labels = labels.join(missing, on=\"label\")\n",
    "labels = labels.join(means, on=\"label\")\n",
    "labels = labels.join(stdvs, on=\"label\")\n",
    "labels.to_parquet(dataset_path / \"labels.parquet\")\n",
    "print(labels.dtypes)\n",
    "labels"
   ]
  }
 ],
 "metadata": {
  "jupytext": {
   "formats": "ipynb,auto:nomarker"
  },
  "kernelspec": {
   "display_name": "Python 3 (ipykernel)",
   "language": "python",
   "name": "python3"
  },
  "language_info": {
   "codemirror_mode": {
    "name": "ipython",
    "version": 3
   },
   "file_extension": ".py",
   "mimetype": "text/x-python",
   "name": "python",
   "nbconvert_exporter": "python",
   "pygments_lexer": "ipython3",
   "version": "3.10.6"
  }
 },
 "nbformat": 4,
 "nbformat_minor": 4
}
