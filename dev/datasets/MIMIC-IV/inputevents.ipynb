{
 "cells": [
  {
   "cell_type": "markdown",
   "metadata": {},
   "source": [
    "# MIMIC 4 data - dataset construction inputevents"
   ]
  },
  {
   "cell_type": "markdown",
   "metadata": {},
   "source": [
    "Code taken from GRU-ODE-Bayes preprocessing; simplified and adapted for MIMIC 4 1.0"
   ]
  },
  {
   "cell_type": "code",
   "execution_count": null,
   "metadata": {
    "execution": {
     "iopub.execute_input": "2022-09-09T21:29:23.312030Z",
     "iopub.status.busy": "2022-09-09T21:29:23.311908Z",
     "iopub.status.idle": "2022-09-09T21:29:23.873974Z",
     "shell.execute_reply": "2022-09-09T21:29:23.872942Z",
     "shell.execute_reply.started": "2022-09-09T21:29:23.311998Z"
    },
    "tags": []
   },
   "outputs": [],
   "source": [
    "import gzip\n",
    "import os\n",
    "from datetime import datetime\n",
    "from zipfile import ZipFile\n",
    "\n",
    "import matplotlib.pyplot as plt\n",
    "import numpy as np\n",
    "import pandas as pd\n",
    "import pyarrow\n",
    "import pyarrow.csv\n",
    "import pyarrow.parquet"
   ]
  },
  {
   "cell_type": "code",
   "execution_count": null,
   "metadata": {
    "execution": {
     "iopub.execute_input": "2022-09-09T21:29:23.874902Z",
     "iopub.status.busy": "2022-09-09T21:29:23.874712Z",
     "iopub.status.idle": "2022-09-09T21:29:23.914718Z",
     "shell.execute_reply": "2022-09-09T21:29:23.914183Z",
     "shell.execute_reply.started": "2022-09-09T21:29:23.874890Z"
    },
    "tags": []
   },
   "outputs": [],
   "source": [
    "admissions = pd.read_parquet(\"admissions_processed.parquet\")\n",
    "admissions.head()"
   ]
  },
  {
   "cell_type": "code",
   "execution_count": null,
   "metadata": {
    "execution": {
     "iopub.execute_input": "2022-09-09T21:29:23.915922Z",
     "iopub.status.busy": "2022-09-09T21:29:23.915617Z",
     "iopub.status.idle": "2022-09-09T21:29:23.920420Z",
     "shell.execute_reply": "2022-09-09T21:29:23.919663Z",
     "shell.execute_reply.started": "2022-09-09T21:29:23.915898Z"
    },
    "tags": []
   },
   "outputs": [],
   "source": [
    "dataset_file = \"mimic-iv-1.0.zip\"\n",
    "\n",
    "files = {\n",
    "    \"inputevents\": \"mimic-iv-1.0/icu/inputevents.csv.gz\",\n",
    "    \"inputitems\": \"mimic-iv-1.0/icu/d_items.csv.gz\",\n",
    "}\n",
    "\n",
    "column_types = {\n",
    "    \"inputevents\": {\n",
    "        \"amount\": \"float32\",\n",
    "        \"amountuom\": \"string\",\n",
    "        \"cancelreason\": \"int32\",\n",
    "        \"continueinnextdept\": \"bool\",\n",
    "        \"endtime\": \"timestamp[s]\",\n",
    "        \"hadm_id\": \"int32\",\n",
    "        \"isopenbag\": \"bool\",\n",
    "        \"itemid\": \"int32\",\n",
    "        \"linkorderid\": \"int32\",\n",
    "        \"ordercategorydescription\": \"string\",\n",
    "        \"ordercategoryname\": \"string\",\n",
    "        \"ordercomponenttypedescription\": \"string\",\n",
    "        \"orderid\": \"int32\",\n",
    "        \"originalamount\": \"float32\",\n",
    "        \"originalrate\": \"float32\",\n",
    "        \"patientweight\": \"float32\",\n",
    "        \"rate\": \"float32\",\n",
    "        \"rateuom\": \"string\",\n",
    "        \"secondaryordercategoryname\": \"string\",\n",
    "        \"starttime\": \"timestamp[s]\",\n",
    "        \"statusdescription\": \"string\",\n",
    "        \"stay_id\": \"int32\",\n",
    "        \"storetime\": \"timestamp[s]\",\n",
    "        \"subject_id\": \"int32\",\n",
    "        \"totalamount\": \"float32\",\n",
    "        \"totalamountuom\": \"string\",\n",
    "    },\n",
    "    \"inputitems\": {\n",
    "        \"abbreviation\": \"string\",\n",
    "        \"category\": \"string\",\n",
    "        \"highnormalvalue\": \"float32\",\n",
    "        \"itemid\": \"int32\",\n",
    "        \"label\": \"string\",\n",
    "        \"linksto\": \"string\",\n",
    "        \"lownormalvalue\": \"float32\",\n",
    "        \"param_type\": \"string\",\n",
    "        \"unitname\": \"string\",\n",
    "    },\n",
    "}"
   ]
  },
  {
   "cell_type": "code",
   "execution_count": null,
   "metadata": {
    "execution": {
     "iopub.execute_input": "2022-09-09T21:29:23.920973Z",
     "iopub.status.busy": "2022-09-09T21:29:23.920853Z",
     "iopub.status.idle": "2022-09-09T21:29:29.792991Z",
     "shell.execute_reply": "2022-09-09T21:29:29.792560Z",
     "shell.execute_reply.started": "2022-09-09T21:29:23.920962Z"
    },
    "tags": []
   },
   "outputs": [],
   "source": [
    "# shape: (10M, 26) ⇝ 0.3B values.\n",
    "key = \"inputevents\"\n",
    "with (\n",
    "    ZipFile(dataset_file) as archive,\n",
    "    archive.open(files[key]) as compressed_file,\n",
    "    gzip.open(compressed_file) as file,\n",
    "):\n",
    "    inputevents = pyarrow.csv.read_csv(\n",
    "        file,\n",
    "        convert_options=pyarrow.csv.ConvertOptions(\n",
    "            column_types=column_types[key],\n",
    "            auto_dict_encode=True,\n",
    "            strings_can_be_null=True,\n",
    "            null_values=[\"\"],\n",
    "        ),\n",
    "    )"
   ]
  },
  {
   "cell_type": "code",
   "execution_count": null,
   "metadata": {
    "execution": {
     "iopub.execute_input": "2022-09-09T21:29:29.794188Z",
     "iopub.status.busy": "2022-09-09T21:29:29.794064Z",
     "iopub.status.idle": "2022-09-09T21:29:30.772201Z",
     "shell.execute_reply": "2022-09-09T21:29:30.771774Z",
     "shell.execute_reply.started": "2022-09-09T21:29:29.794178Z"
    },
    "tags": []
   },
   "outputs": [],
   "source": [
    "# set categoricals\n",
    "for col, dtype in column_types[key].items():\n",
    "    if dtype == \"string\":\n",
    "        index = inputevents.column_names.index(col)\n",
    "        categories = inputevents[col].dictionary_encode()\n",
    "        inputevents = inputevents.set_column(index, col, categories)\n",
    "\n",
    "inputevents"
   ]
  },
  {
   "cell_type": "markdown",
   "metadata": {},
   "source": [
    "### Store and reload as pandas"
   ]
  },
  {
   "cell_type": "code",
   "execution_count": null,
   "metadata": {
    "execution": {
     "iopub.execute_input": "2022-09-09T21:29:30.772880Z",
     "iopub.status.busy": "2022-09-09T21:29:30.772758Z",
     "iopub.status.idle": "2022-09-09T21:29:34.472790Z",
     "shell.execute_reply": "2022-09-09T21:29:34.472308Z",
     "shell.execute_reply.started": "2022-09-09T21:29:30.772870Z"
    },
    "tags": []
   },
   "outputs": [],
   "source": [
    "pyarrow.parquet.write_table(inputevents, f\"{key}.parquet\")\n",
    "del inputevents\n",
    "with pd.option_context(\"string_storage\", \"pyarrow\"):\n",
    "    inputevents = pd.read_parquet(f\"{key}.parquet\", use_nullable_dtypes=True)\n",
    "print(f\"Number of events remaining: {len(inputevents)}\")"
   ]
  },
  {
   "cell_type": "markdown",
   "metadata": {},
   "source": [
    "### Only keep inputevents associated with the selected patients"
   ]
  },
  {
   "cell_type": "code",
   "execution_count": null,
   "metadata": {
    "execution": {
     "iopub.execute_input": "2022-09-09T21:29:34.473390Z",
     "iopub.status.busy": "2022-09-09T21:29:34.473264Z",
     "iopub.status.idle": "2022-09-09T21:29:34.820108Z",
     "shell.execute_reply": "2022-09-09T21:29:34.819545Z",
     "shell.execute_reply.started": "2022-09-09T21:29:34.473379Z"
    },
    "tags": []
   },
   "outputs": [],
   "source": [
    "mask = inputevents[\"hadm_id\"].isin(admissions[\"hadm_id\"])\n",
    "inputevents = inputevents[mask]\n",
    "print(f\"Number of events remaining: {inputevents.shape}\")\n",
    "print(f\"Number of patients remaining: {inputevents['subject_id'].nunique()}\")"
   ]
  },
  {
   "cell_type": "markdown",
   "metadata": {
    "execution": {
     "iopub.execute_input": "2022-09-09T17:34:10.168103Z",
     "iopub.status.busy": "2022-09-09T17:34:10.167815Z",
     "iopub.status.idle": "2022-09-09T17:34:10.193256Z",
     "shell.execute_reply": "2022-09-09T17:34:10.192617Z",
     "shell.execute_reply.started": "2022-09-09T17:34:10.168084Z"
    },
    "tags": []
   },
   "source": [
    "### Only keep columns of interest"
   ]
  },
  {
   "cell_type": "code",
   "execution_count": null,
   "metadata": {
    "execution": {
     "iopub.execute_input": "2022-09-09T21:29:34.820826Z",
     "iopub.status.busy": "2022-09-09T21:29:34.820649Z",
     "iopub.status.idle": "2022-09-09T21:29:34.833118Z",
     "shell.execute_reply": "2022-09-09T21:29:34.832758Z",
     "shell.execute_reply.started": "2022-09-09T21:29:34.820815Z"
    },
    "tags": []
   },
   "outputs": [],
   "source": [
    "selected_columns = [\n",
    "    \"amount\",\n",
    "    \"amountuom\",\n",
    "    \"endtime\",\n",
    "    \"hadm_id\",\n",
    "    \"itemid\",\n",
    "    \"ordercategorydescription\",\n",
    "    \"patientweight\",\n",
    "    \"rate\",\n",
    "    \"rateuom\",\n",
    "    \"starttime\",\n",
    "    \"subject_id\",\n",
    "]\n",
    "\n",
    "inputevents = inputevents[selected_columns]"
   ]
  },
  {
   "cell_type": "markdown",
   "metadata": {},
   "source": [
    "### Load item table"
   ]
  },
  {
   "cell_type": "code",
   "execution_count": null,
   "metadata": {
    "execution": {
     "iopub.execute_input": "2022-09-09T21:29:34.834154Z",
     "iopub.status.busy": "2022-09-09T21:29:34.834031Z",
     "iopub.status.idle": "2022-09-09T21:29:34.853648Z",
     "shell.execute_reply": "2022-09-09T21:29:34.853030Z",
     "shell.execute_reply.started": "2022-09-09T21:29:34.834143Z"
    },
    "tags": []
   },
   "outputs": [],
   "source": [
    "key = \"inputitems\"\n",
    "with (\n",
    "    ZipFile(dataset_file) as archive,\n",
    "    archive.open(files[key]) as compressed_file,\n",
    "    gzip.open(compressed_file) as file,\n",
    "):\n",
    "    inputitems = pyarrow.csv.read_csv(\n",
    "        file,\n",
    "        convert_options=pyarrow.csv.ConvertOptions(\n",
    "            column_types=column_types[key],\n",
    "            strings_can_be_null=True,\n",
    "            null_values=[\"\"],\n",
    "        ),\n",
    "    )\n",
    "\n",
    "inputitems.shape"
   ]
  },
  {
   "cell_type": "markdown",
   "metadata": {},
   "source": [
    "### Store and reload as pandas"
   ]
  },
  {
   "cell_type": "code",
   "execution_count": null,
   "metadata": {
    "execution": {
     "iopub.execute_input": "2022-09-09T21:29:34.855214Z",
     "iopub.status.busy": "2022-09-09T21:29:34.854773Z",
     "iopub.status.idle": "2022-09-09T21:29:34.869856Z",
     "shell.execute_reply": "2022-09-09T21:29:34.869037Z",
     "shell.execute_reply.started": "2022-09-09T21:29:34.855184Z"
    },
    "tags": []
   },
   "outputs": [],
   "source": [
    "pyarrow.parquet.write_table(inputitems, f\"{key}.parquet\")\n",
    "del inputitems\n",
    "with pd.option_context(\"string_storage\", \"pyarrow\"):\n",
    "    inputitems = pd.read_parquet(f\"{key}.parquet\", use_nullable_dtypes=True)\n",
    "print(f\"Number of events remaining: {inputitems.shape}\")"
   ]
  },
  {
   "cell_type": "markdown",
   "metadata": {},
   "source": [
    "### Merge with Items, keep only common items"
   ]
  },
  {
   "cell_type": "code",
   "execution_count": null,
   "metadata": {
    "execution": {
     "iopub.execute_input": "2022-09-09T21:29:34.870984Z",
     "iopub.status.busy": "2022-09-09T21:29:34.870826Z",
     "iopub.status.idle": "2022-09-09T21:29:35.531772Z",
     "shell.execute_reply": "2022-09-09T21:29:35.531445Z",
     "shell.execute_reply.started": "2022-09-09T21:29:34.870970Z"
    },
    "tags": []
   },
   "outputs": [],
   "source": [
    "inputevents = pd.merge(inputevents, inputitems, on=\"itemid\")\n",
    "print(f\"Number of events remaining: {inputevents.shape}\")\n",
    "print(f\"Number of patients remaining: {inputevents['subject_id'].nunique()}\")"
   ]
  },
  {
   "cell_type": "code",
   "execution_count": null,
   "metadata": {
    "execution": {
     "iopub.execute_input": "2022-09-09T21:29:35.532437Z",
     "iopub.status.busy": "2022-09-09T21:29:35.532308Z",
     "iopub.status.idle": "2022-09-09T21:29:36.100335Z",
     "shell.execute_reply": "2022-09-09T21:29:36.100007Z",
     "shell.execute_reply.started": "2022-09-09T21:29:35.532426Z"
    },
    "tags": []
   },
   "outputs": [],
   "source": [
    "item_freq = inputevents.groupby(\"label\")[\"subject_id\"].nunique()\n",
    "common_items = item_freq.sort_values(ascending=False).index[:50]\n",
    "inputevents = inputevents[inputevents[\"label\"].isin(common_items)]\n",
    "print(f\"Number of events remaining: {inputevents.shape}\")\n",
    "print(f\"Number of patients remaining: {inputevents['subject_id'].nunique()}\")"
   ]
  },
  {
   "cell_type": "code",
   "execution_count": null,
   "metadata": {
    "execution": {
     "iopub.execute_input": "2022-09-09T21:29:36.100995Z",
     "iopub.status.busy": "2022-09-09T21:29:36.100864Z",
     "iopub.status.idle": "2022-09-09T21:29:36.251367Z",
     "shell.execute_reply": "2022-09-09T21:29:36.250777Z",
     "shell.execute_reply.started": "2022-09-09T21:29:36.100984Z"
    },
    "tags": []
   },
   "outputs": [],
   "source": [
    "with pd.option_context(\"display.max_rows\", None, \"display.max_columns\", None):\n",
    "    print(inputevents.groupby(\"label\")[\"amountuom\"].value_counts())"
   ]
  },
  {
   "cell_type": "markdown",
   "metadata": {},
   "source": [
    "## Clean up bad data entries"
   ]
  },
  {
   "cell_type": "code",
   "execution_count": null,
   "metadata": {
    "execution": {
     "iopub.execute_input": "2022-09-09T21:29:36.254034Z",
     "iopub.status.busy": "2022-09-09T21:29:36.253803Z",
     "iopub.status.idle": "2022-09-09T21:29:36.267603Z",
     "shell.execute_reply": "2022-09-09T21:29:36.267147Z",
     "shell.execute_reply.started": "2022-09-09T21:29:36.254013Z"
    },
    "tags": []
   },
   "outputs": [],
   "source": [
    "BACKUP = inputevents.copy()"
   ]
  },
  {
   "cell_type": "code",
   "execution_count": null,
   "metadata": {
    "execution": {
     "iopub.execute_input": "2022-09-09T21:29:36.268391Z",
     "iopub.status.busy": "2022-09-09T21:29:36.268259Z",
     "iopub.status.idle": "2022-09-09T21:29:37.035300Z",
     "shell.execute_reply": "2022-09-09T21:29:37.034886Z",
     "shell.execute_reply.started": "2022-09-09T21:29:36.268379Z"
    },
    "tags": []
   },
   "outputs": [],
   "source": [
    "check_amountuom = {  # MIMIC-III and MIMIC-IV\n",
    "    \"Cefazolin\": \"dose\",\n",
    "    \"Cefepime\": \"dose\",\n",
    "    \"Ceftriaxone\": \"dose\",\n",
    "    \"Ciprofloxacin\": \"dose\",\n",
    "    \"Famotidine (Pepcid)\": \"dose\",\n",
    "    \"Fentanyl (Concentrate)\": \"mg\",\n",
    "    \"Heparin Sodium (Prophylaxis)\": \"dose\",\n",
    "    \"Hydromorphone (Dilaudid)\": \"mg\",\n",
    "    \"Magnesium Sulfate\": \"grams\",\n",
    "    \"Propofol\": \"mg\",\n",
    "    \"Metoprolol\": \"mg\",\n",
    "    \"Piperacillin/Tazobactam (Zosyn)\": \"dose\",\n",
    "    \"Metronidazole\": \"dose\",\n",
    "    \"Ranitidine (Prophylaxis)\": \"dose\",\n",
    "    \"Vancomycin\": \"dose\",\n",
    "    \"Pantoprazole (Protonix\": \"dose\",\n",
    "} | {  # MIMIC-IV specific\n",
    "    \"Acetaminophen-IV\": \"mg\",\n",
    "    \"D5 1/2NS\": \"ml\",\n",
    "    \"LR\": \"ml\",\n",
    "    \"NaCl 0.9%\": \"ml\",\n",
    "    \"OR Crystalloid Intake\": \"ml\",\n",
    "    \"PO Intake\": \"ml\",\n",
    "    \"Pre-Admission/Non-ICU Intake\": \"ml\",\n",
    "}\n",
    "\n",
    "MASK = pd.Series(False, index=inputevents.index)\n",
    "\n",
    "for key, val in check_amountuom.items():\n",
    "    mask = (inputevents[\"label\"] == key) & (inputevents[\"amountuom\"] != val)\n",
    "    diff = mask & ~MASK\n",
    "    print(f\"Removing {mask.sum():5d} entries - bad data in {key} (drop {val})\")\n",
    "    MASK |= mask\n",
    "\n",
    "inputevents = inputevents.drop(inputevents[MASK].index)"
   ]
  },
  {
   "cell_type": "code",
   "execution_count": null,
   "metadata": {
    "execution": {
     "iopub.execute_input": "2022-09-09T21:29:37.035952Z",
     "iopub.status.busy": "2022-09-09T21:29:37.035794Z",
     "iopub.status.idle": "2022-09-09T21:29:39.222070Z",
     "shell.execute_reply": "2022-09-09T21:29:39.221241Z",
     "shell.execute_reply.started": "2022-09-09T21:29:37.035940Z"
    },
    "tags": []
   },
   "outputs": [],
   "source": [
    "key = \"Fentanyl (Concentrate)\"\n",
    "mask = (inputevents[\"label\"] == key) & (inputevents[\"amountuom\"] == \"mg\")\n",
    "print(f\"Modifying {mask.sum():5d} entries - bad data in {key} (remove the non mg)\")\n",
    "inputevents.loc[mask, \"amount\"] *= 1000\n",
    "inputevents.loc[mask, \"amountuom\"] = \"mcg\"\n",
    "\n",
    "\n",
    "key = \"Fentanyl\"\n",
    "mask = (inputevents[\"label\"] == key) & (inputevents[\"amountuom\"] == \"mg\")\n",
    "print(f\"Modifying {mask.sum():5d} entries - bad data in {key} (put the mg to mcg)\")\n",
    "inputevents.loc[mask, \"amount\"] *= 1000\n",
    "inputevents.loc[mask, \"amountuom\"] = \"mcg\"\n",
    "\n",
    "\n",
    "key = \"Pantoprazole (Protonix)\"\n",
    "mask = (inputevents[\"label\"] == key) & (\n",
    "    inputevents[\"ordercategorydescription\"] == \"Continuous Med\"\n",
    ")\n",
    "print(\n",
    "    f\"Modifying {mask.sum():5d} entries - bad data in {key} (divide in two)\"\n",
    "    \"drug shot or continuous treatment and create a new item id for the continuous version\"\n",
    ")\n",
    "inputevents.loc[mask, \"label\"] = \"Pantoprazole (Protonix) Continuous\"\n",
    "inputevents.loc[mask, \"itemid\"] = 2217441\n",
    "\n",
    "\n",
    "key = \"Dexmedetomidine (Precedex)\"\n",
    "mask = (inputevents[\"label\"] == key) & (inputevents[\"amountuom\"] == \"mcg\")\n",
    "print(f\"Modifying {mask.sum():5d} entries - bad data in {key} (cast all to mg)\")\n",
    "inputevents.loc[mask, \"amount\"] /= 1000\n",
    "inputevents.loc[mask, \"amountuom\"] = \"mg\""
   ]
  },
  {
   "cell_type": "code",
   "execution_count": null,
   "metadata": {
    "execution": {
     "iopub.execute_input": "2022-09-09T21:29:39.223183Z",
     "iopub.status.busy": "2022-09-09T21:29:39.223004Z",
     "iopub.status.idle": "2022-09-09T21:29:39.341389Z",
     "shell.execute_reply": "2022-09-09T21:29:39.340960Z",
     "shell.execute_reply.started": "2022-09-09T21:29:39.223171Z"
    },
    "tags": []
   },
   "outputs": [],
   "source": [
    "# Verify\n",
    "with pd.option_context(\"display.max_rows\", None, \"display.max_columns\", None):\n",
    "    print(inputevents.groupby(\"label\")[\"amountuom\"].value_counts())"
   ]
  },
  {
   "cell_type": "code",
   "execution_count": null,
   "metadata": {
    "execution": {
     "iopub.execute_input": "2022-09-09T21:29:39.342068Z",
     "iopub.status.busy": "2022-09-09T21:29:39.341914Z",
     "iopub.status.idle": "2022-09-09T21:29:39.453633Z",
     "shell.execute_reply": "2022-09-09T21:29:39.453245Z",
     "shell.execute_reply.started": "2022-09-09T21:29:39.342055Z"
    },
    "tags": []
   },
   "outputs": [],
   "source": [
    "# same thing for inputs given in rates\n",
    "with pd.option_context(\"display.max_rows\", None, \"display.max_columns\", None):\n",
    "    print(inputevents.groupby(\"label\")[\"rateuom\"].value_counts())"
   ]
  },
  {
   "cell_type": "code",
   "execution_count": null,
   "metadata": {
    "execution": {
     "iopub.execute_input": "2022-09-09T21:29:39.454443Z",
     "iopub.status.busy": "2022-09-09T21:29:39.454188Z",
     "iopub.status.idle": "2022-09-09T21:29:39.456868Z",
     "shell.execute_reply": "2022-09-09T21:29:39.456554Z",
     "shell.execute_reply.started": "2022-09-09T21:29:39.454430Z"
    },
    "tags": []
   },
   "outputs": [],
   "source": [
    "check_rateuom = {\n",
    "    \"Dextrose 5%\": \"mL/hour\",\n",
    "    \"Magnesium Sulfate (Bolus)\": \"mL/hour\",\n",
    "    \"NaCl 0.9%\": \"mL/hour\",\n",
    "    \"Piggyback\": \"mL/hour\",\n",
    "    \"Packed Red Blood Cells\": \"mL/hour\",\n",
    "    \"Acetaminophen-IV\": \"mg/min\",\n",
    "    \"Fentanyl (Concentrate)\": \"mcg/hour\",\n",
    "    \"Phenylephrine\": \"mcg/kg/min\",\n",
    "    \"Sterile Water\": \"mL/hour\",\n",
    "}"
   ]
  },
  {
   "cell_type": "code",
   "execution_count": null,
   "metadata": {
    "execution": {
     "iopub.execute_input": "2022-09-09T21:29:39.457828Z",
     "iopub.status.busy": "2022-09-09T21:29:39.457691Z",
     "iopub.status.idle": "2022-09-09T21:29:40.029295Z",
     "shell.execute_reply": "2022-09-09T21:29:40.028917Z",
     "shell.execute_reply.started": "2022-09-09T21:29:39.457815Z"
    },
    "tags": []
   },
   "outputs": [],
   "source": [
    "MASK = pd.Series(False, index=inputevents.index)\n",
    "\n",
    "for key, val in check_rateuom.items():\n",
    "    mask = (inputevents[\"label\"] == key) & (inputevents[\"rateuom\"] != val)\n",
    "    diff = mask & ~MASK\n",
    "    print(f\"Removing {mask.sum():5d} entries - bad data in {key} (drop {val})\")\n",
    "    MASK |= mask\n",
    "\n",
    "inputevents = inputevents.drop(inputevents[MASK].index)"
   ]
  },
  {
   "cell_type": "code",
   "execution_count": null,
   "metadata": {
    "execution": {
     "iopub.execute_input": "2022-09-09T21:29:40.029948Z",
     "iopub.status.busy": "2022-09-09T21:29:40.029784Z",
     "iopub.status.idle": "2022-09-09T21:29:40.126573Z",
     "shell.execute_reply": "2022-09-09T21:29:40.126123Z",
     "shell.execute_reply.started": "2022-09-09T21:29:40.029936Z"
    },
    "tags": []
   },
   "outputs": [],
   "source": [
    "# Check if a single unit per drug\n",
    "with pd.option_context(\"display.max_rows\", None, \"display.max_columns\", None):\n",
    "    print(inputevents.groupby(\"label\")[\"rateuom\"].value_counts())"
   ]
  },
  {
   "cell_type": "markdown",
   "metadata": {},
   "source": [
    "## Testing if the computed amounts are OK"
   ]
  },
  {
   "cell_type": "code",
   "execution_count": null,
   "metadata": {
    "execution": {
     "iopub.execute_input": "2022-09-09T21:29:40.127427Z",
     "iopub.status.busy": "2022-09-09T21:29:40.127246Z",
     "iopub.status.idle": "2022-09-09T21:29:40.395451Z",
     "shell.execute_reply": "2022-09-09T21:29:40.395129Z",
     "shell.execute_reply.started": "2022-09-09T21:29:40.127412Z"
    },
    "tags": []
   },
   "outputs": [],
   "source": [
    "duration = inputevents.endtime - inputevents.starttime\n",
    "total_hours = duration / np.timedelta64(1, \"h\")\n",
    "units = inputevents[\"rateuom\"].dropna().unique()\n",
    "\n",
    "for unit in units:\n",
    "    mask = inputevents[\"rate\"].notnull() & (inputevents[\"rateuom\"] == unit)\n",
    "    df = inputevents[mask]\n",
    "    time = total_hours[mask] * 60 ** (\"min\" in unit)\n",
    "\n",
    "    amount_units = df[\"amountuom\"].unique()\n",
    "    assert len(amount_units) == 1\n",
    "\n",
    "    if \"kg\" in unit:\n",
    "        amount = df[\"rate\"] * time * df[\"patientweight\"]\n",
    "        discrepancy = amount / 1000 - df[\"amount\"]\n",
    "    else:\n",
    "        amount = df[\"rate\"] * time\n",
    "        discrepancy = amount - df[\"amount\"]\n",
    "\n",
    "    print(f\"{unit=:12} {amount_units[0]=:8} {discrepancy.max()=:.6f}\")\n",
    "    assert all(discrepancy < 0.01)"
   ]
  },
  {
   "cell_type": "markdown",
   "metadata": {},
   "source": [
    "# Creating splits"
   ]
  },
  {
   "cell_type": "code",
   "execution_count": null,
   "metadata": {
    "execution": {
     "iopub.execute_input": "2022-09-09T21:29:40.396074Z",
     "iopub.status.busy": "2022-09-09T21:29:40.395934Z",
     "iopub.status.idle": "2022-09-09T21:29:40.659329Z",
     "shell.execute_reply": "2022-09-09T21:29:40.658975Z",
     "shell.execute_reply.started": "2022-09-09T21:29:40.396062Z"
    },
    "tags": []
   },
   "outputs": [],
   "source": [
    "FREQ = pd.Timedelta(\"30min\")\n",
    "has_rate = inputevents[\"rate\"].notnull()\n",
    "is_early = duration <= FREQ\n",
    "\n",
    "splits = {}\n",
    "\n",
    "# The first dataframe contains the entries with no rate but with extended duration inputs (over 0.5 hour)\n",
    "splits[0] = inputevents[~has_rate & ~is_early].copy()\n",
    "\n",
    "# The second dataframe contains the entries with no rate and low duration entries (<0.5hour)\n",
    "splits[1] = inputevents[~has_rate & is_early].copy()\n",
    "\n",
    "# The third dataframe contains the entries with a rate and extended duration inputs (over 0.5 hour)\n",
    "splits[2] = inputevents[has_rate & ~is_early].copy()\n",
    "\n",
    "# The forth dataframe contains the entries with a rate and low duration entries (< 0.5 hour)\n",
    "splits[3] = inputevents[has_rate & is_early].copy()\n",
    "\n",
    "# Check if split is complete\n",
    "assert sum(map(len, splits.values())) == len(inputevents)"
   ]
  },
  {
   "cell_type": "code",
   "execution_count": null,
   "metadata": {
    "execution": {
     "iopub.execute_input": "2022-09-09T21:29:40.659920Z",
     "iopub.status.busy": "2022-09-09T21:29:40.659796Z",
     "iopub.status.idle": "2022-09-09T21:31:50.232702Z",
     "shell.execute_reply": "2022-09-09T21:31:50.232002Z",
     "shell.execute_reply.started": "2022-09-09T21:29:40.659910Z"
    },
    "tags": []
   },
   "outputs": [],
   "source": [
    "# We then create the admninistration time as a shifted version of the STARTTIME.\n",
    "\n",
    "\n",
    "def create_range(x):\n",
    "    return pd.date_range(start=x.iat[0], freq=FREQ, periods=len(x))\n",
    "\n",
    "\n",
    "# preprocess late split\n",
    "df = splits[0]\n",
    "df[\"Repeat\"] = np.ceil(duration[df.index] / FREQ).astype(int)\n",
    "df = df.reindex(df.index.repeat(df[\"Repeat\"]))\n",
    "df[\"charttime\"] = df[\"starttime\"].groupby(level=0).transform(create_range)\n",
    "df[\"amount\"] /= df[\"Repeat\"]\n",
    "splits[0] = df\n",
    "\n",
    "# preprocess other late split\n",
    "df = splits[2]\n",
    "df[\"Repeat\"] = np.ceil(duration[df.index] / FREQ).astype(int)\n",
    "df = df.reindex(df.index.repeat(df[\"Repeat\"]))\n",
    "df[\"charttime\"] = df[\"starttime\"].groupby(level=0).transform(create_range)\n",
    "df[\"amount\"] /= df[\"Repeat\"]\n",
    "splits[2] = df\n",
    "\n",
    "# For the early splits, we do not add repeats.\n",
    "splits[1][\"charttime\"] = splits[1][\"starttime\"]\n",
    "splits[3][\"charttime\"] = splits[3][\"starttime\"]"
   ]
  },
  {
   "cell_type": "code",
   "execution_count": null,
   "metadata": {
    "execution": {
     "iopub.execute_input": "2022-09-09T21:31:50.234121Z",
     "iopub.status.busy": "2022-09-09T21:31:50.233431Z",
     "iopub.status.idle": "2022-09-09T21:32:15.521711Z",
     "shell.execute_reply": "2022-09-09T21:32:15.520996Z",
     "shell.execute_reply.started": "2022-09-09T21:31:50.234090Z"
    },
    "tags": []
   },
   "outputs": [],
   "source": [
    "# Eventually, we merge all 4splits into one.\n",
    "# The result is a dataset with discrete inputs for each treatment.\n",
    "result = pd.concat(splits, names=[\"split\"])\n",
    "result = result.reset_index(level=1, drop=True)\n",
    "result = result.reset_index()\n",
    "result = result.set_index([\"split\", \"subject_id\", \"charttime\", \"label\"])\n",
    "result = result.sort_index()\n",
    "result"
   ]
  },
  {
   "cell_type": "code",
   "execution_count": null,
   "metadata": {
    "execution": {
     "iopub.execute_input": "2022-09-09T21:32:15.522536Z",
     "iopub.status.busy": "2022-09-09T21:32:15.522402Z",
     "iopub.status.idle": "2022-09-09T21:32:20.413859Z",
     "shell.execute_reply": "2022-09-09T21:32:20.413136Z",
     "shell.execute_reply.started": "2022-09-09T21:32:15.522523Z"
    }
   },
   "outputs": [],
   "source": [
    "result.to_parquet(\"inputs_processed.parquet\")\n",
    "result[\"hadm_id\"].nunique()"
   ]
  },
  {
   "cell_type": "code",
   "execution_count": null,
   "metadata": {},
   "outputs": [],
   "source": []
  }
 ],
 "metadata": {
  "kernelspec": {
   "display_name": "Python 3 (ipykernel)",
   "language": "python",
   "name": "python3"
  },
  "language_info": {
   "codemirror_mode": {
    "name": "ipython",
    "version": 3
   },
   "file_extension": ".py",
   "mimetype": "text/x-python",
   "name": "python",
   "nbconvert_exporter": "python",
   "pygments_lexer": "ipython3",
   "version": "3.10.6"
  }
 },
 "nbformat": 4,
 "nbformat_minor": 4
}
