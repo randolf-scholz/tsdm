{
 "cells": [
  {
   "cell_type": "markdown",
   "metadata": {},
   "source": [
    "# MIMIC 4 data - dataset construction inputevents"
   ]
  },
  {
   "cell_type": "markdown",
   "metadata": {},
   "source": [
    "Code taken from GRU-ODE-Bayes preprocessing; simplified and adapted for MIMIC 4 1.0"
   ]
  },
  {
   "cell_type": "code",
   "execution_count": null,
   "metadata": {
    "execution": {
     "iopub.execute_input": "2022-09-12T11:42:20.165755Z",
     "iopub.status.busy": "2022-09-12T11:42:20.165614Z",
     "iopub.status.idle": "2022-09-12T11:42:20.434100Z",
     "shell.execute_reply": "2022-09-12T11:42:20.433626Z",
     "shell.execute_reply.started": "2022-09-12T11:42:20.165715Z"
    },
    "tags": []
   },
   "outputs": [],
   "source": [
    "import gzip\n",
    "from zipfile import ZipFile\n",
    "\n",
    "import numpy as np\n",
    "import pandas as pd\n",
    "import pyarrow\n",
    "import pyarrow.csv\n",
    "import pyarrow.parquet"
   ]
  },
  {
   "cell_type": "code",
   "execution_count": null,
   "metadata": {
    "execution": {
     "iopub.execute_input": "2022-09-12T11:42:20.435099Z",
     "iopub.status.busy": "2022-09-12T11:42:20.434927Z",
     "iopub.status.idle": "2022-09-12T11:42:20.487016Z",
     "shell.execute_reply": "2022-09-12T11:42:20.486221Z",
     "shell.execute_reply.started": "2022-09-12T11:42:20.435088Z"
    },
    "tags": []
   },
   "outputs": [],
   "source": [
    "admissions = pd.read_parquet(\"admissions_processed.parquet\")\n",
    "admissions.head()"
   ]
  },
  {
   "cell_type": "code",
   "execution_count": null,
   "metadata": {
    "execution": {
     "iopub.execute_input": "2022-09-12T11:42:20.487959Z",
     "iopub.status.busy": "2022-09-12T11:42:20.487813Z",
     "iopub.status.idle": "2022-09-12T11:42:20.493408Z",
     "shell.execute_reply": "2022-09-12T11:42:20.492630Z",
     "shell.execute_reply.started": "2022-09-12T11:42:20.487945Z"
    },
    "tags": []
   },
   "outputs": [],
   "source": [
    "dataset_file = \"mimic-iv-1.0.zip\"\n",
    "\n",
    "files = {\n",
    "    \"inputevents\": \"mimic-iv-1.0/icu/inputevents.csv.gz\",\n",
    "    \"inputitems\": \"mimic-iv-1.0/icu/d_items.csv.gz\",\n",
    "}\n",
    "\n",
    "column_types = {\n",
    "    \"inputevents\": {\n",
    "        \"amount\": \"float32\",\n",
    "        \"amountuom\": \"string\",\n",
    "        \"cancelreason\": \"int32\",\n",
    "        \"continueinnextdept\": \"bool\",\n",
    "        \"endtime\": \"timestamp[s]\",\n",
    "        \"hadm_id\": \"int32\",\n",
    "        \"isopenbag\": \"bool\",\n",
    "        \"itemid\": \"int32\",\n",
    "        \"linkorderid\": \"int32\",\n",
    "        \"ordercategorydescription\": \"string\",\n",
    "        \"ordercategoryname\": \"string\",\n",
    "        \"ordercomponenttypedescription\": \"string\",\n",
    "        \"orderid\": \"int32\",\n",
    "        \"originalamount\": \"float32\",\n",
    "        \"originalrate\": \"float32\",\n",
    "        \"patientweight\": \"float32\",\n",
    "        \"rate\": \"float32\",\n",
    "        \"rateuom\": \"string\",\n",
    "        \"secondaryordercategoryname\": \"string\",\n",
    "        \"starttime\": \"timestamp[s]\",\n",
    "        \"statusdescription\": \"string\",\n",
    "        \"stay_id\": \"int32\",\n",
    "        \"storetime\": \"timestamp[s]\",\n",
    "        \"subject_id\": \"int32\",\n",
    "        \"totalamount\": \"float32\",\n",
    "        \"totalamountuom\": \"string\",\n",
    "    },\n",
    "    \"inputitems\": {\n",
    "        \"abbreviation\": \"string\",\n",
    "        \"category\": \"string\",\n",
    "        \"highnormalvalue\": \"float32\",\n",
    "        \"itemid\": \"int32\",\n",
    "        \"label\": \"string\",\n",
    "        \"linksto\": \"string\",\n",
    "        \"lownormalvalue\": \"float32\",\n",
    "        \"param_type\": \"string\",\n",
    "        \"unitname\": \"string\",\n",
    "    },\n",
    "}"
   ]
  },
  {
   "cell_type": "code",
   "execution_count": null,
   "metadata": {
    "execution": {
     "iopub.execute_input": "2022-09-12T11:42:20.494121Z",
     "iopub.status.busy": "2022-09-12T11:42:20.493992Z",
     "iopub.status.idle": "2022-09-12T11:42:26.826808Z",
     "shell.execute_reply": "2022-09-12T11:42:26.826245Z",
     "shell.execute_reply.started": "2022-09-12T11:42:20.494109Z"
    },
    "tags": []
   },
   "outputs": [],
   "source": [
    "# shape: (10M, 26) ⇝ 0.3B values.\n",
    "key = \"inputevents\"\n",
    "with (\n",
    "    ZipFile(dataset_file) as archive,\n",
    "    archive.open(files[key]) as compressed_file,\n",
    "    gzip.open(compressed_file) as file,\n",
    "):\n",
    "    inputevents = pyarrow.csv.read_csv(\n",
    "        file,\n",
    "        convert_options=pyarrow.csv.ConvertOptions(\n",
    "            column_types=column_types[key],\n",
    "            auto_dict_encode=True,\n",
    "            strings_can_be_null=True,\n",
    "            null_values=[\"\"],\n",
    "        ),\n",
    "    )\n",
    "\n",
    "# pd.DataFrame({\"type\": prescriptions.dtypes, \"uniques\": prescriptions.nunique()})"
   ]
  },
  {
   "cell_type": "code",
   "execution_count": null,
   "metadata": {
    "execution": {
     "iopub.execute_input": "2022-09-12T11:42:26.827511Z",
     "iopub.status.busy": "2022-09-12T11:42:26.827387Z",
     "iopub.status.idle": "2022-09-12T11:42:27.872581Z",
     "shell.execute_reply": "2022-09-12T11:42:27.872180Z",
     "shell.execute_reply.started": "2022-09-12T11:42:26.827501Z"
    },
    "tags": []
   },
   "outputs": [],
   "source": [
    "# set categoricals\n",
    "for col, dtype in column_types[key].items():\n",
    "    if dtype == \"string\":\n",
    "        index = inputevents.column_names.index(col)\n",
    "        categories = inputevents[col].dictionary_encode()\n",
    "        inputevents = inputevents.set_column(index, col, categories)\n",
    "\n",
    "inputevents"
   ]
  },
  {
   "cell_type": "markdown",
   "metadata": {},
   "source": [
    "### Store and reload as pandas"
   ]
  },
  {
   "cell_type": "code",
   "execution_count": null,
   "metadata": {
    "execution": {
     "iopub.execute_input": "2022-09-12T11:42:27.873193Z",
     "iopub.status.busy": "2022-09-12T11:42:27.873043Z",
     "iopub.status.idle": "2022-09-12T11:42:31.918302Z",
     "shell.execute_reply": "2022-09-12T11:42:31.917650Z",
     "shell.execute_reply.started": "2022-09-12T11:42:27.873182Z"
    },
    "tags": []
   },
   "outputs": [],
   "source": [
    "pyarrow.parquet.write_table(inputevents, f\"{key}.parquet\")\n",
    "del inputevents\n",
    "with pd.option_context(\"string_storage\", \"pyarrow\"):\n",
    "    inputevents = pd.read_parquet(f\"{key}.parquet\", use_nullable_dtypes=True)\n",
    "print(f\"Number of events remaining: {len(inputevents)}\")"
   ]
  },
  {
   "cell_type": "markdown",
   "metadata": {},
   "source": [
    "### Only keep inputevents associated with the selected patients"
   ]
  },
  {
   "cell_type": "code",
   "execution_count": null,
   "metadata": {
    "execution": {
     "iopub.execute_input": "2022-09-12T11:42:31.920617Z",
     "iopub.status.busy": "2022-09-12T11:42:31.920396Z",
     "iopub.status.idle": "2022-09-12T11:42:32.449507Z",
     "shell.execute_reply": "2022-09-12T11:42:32.448710Z",
     "shell.execute_reply.started": "2022-09-12T11:42:31.920597Z"
    },
    "tags": []
   },
   "outputs": [],
   "source": [
    "mask = inputevents[\"hadm_id\"].isin(admissions[\"hadm_id\"])\n",
    "inputevents = inputevents[mask]\n",
    "print(f\"Number of events remaining: {inputevents.shape}\")\n",
    "print(f\"Number of patients remaining: {inputevents['subject_id'].nunique()}\")"
   ]
  },
  {
   "cell_type": "markdown",
   "metadata": {
    "execution": {
     "iopub.execute_input": "2022-09-09T17:34:10.168103Z",
     "iopub.status.busy": "2022-09-09T17:34:10.167815Z",
     "iopub.status.idle": "2022-09-09T17:34:10.193256Z",
     "shell.execute_reply": "2022-09-09T17:34:10.192617Z",
     "shell.execute_reply.started": "2022-09-09T17:34:10.168084Z"
    },
    "tags": []
   },
   "source": [
    "### Only keep columns of interest"
   ]
  },
  {
   "cell_type": "code",
   "execution_count": null,
   "metadata": {
    "execution": {
     "iopub.execute_input": "2022-09-12T11:42:32.450476Z",
     "iopub.status.busy": "2022-09-12T11:42:32.450288Z",
     "iopub.status.idle": "2022-09-12T11:42:32.465073Z",
     "shell.execute_reply": "2022-09-12T11:42:32.464500Z",
     "shell.execute_reply.started": "2022-09-12T11:42:32.450460Z"
    },
    "tags": []
   },
   "outputs": [],
   "source": [
    "selected_columns = [\n",
    "    \"amount\",\n",
    "    \"amountuom\",\n",
    "    \"endtime\",\n",
    "    \"hadm_id\",\n",
    "    \"itemid\",\n",
    "    \"ordercategorydescription\",\n",
    "    \"patientweight\",\n",
    "    \"rate\",\n",
    "    \"rateuom\",\n",
    "    \"starttime\",\n",
    "    \"subject_id\",\n",
    "]\n",
    "\n",
    "inputevents = inputevents[selected_columns]"
   ]
  },
  {
   "cell_type": "markdown",
   "metadata": {},
   "source": [
    "### Load item table"
   ]
  },
  {
   "cell_type": "code",
   "execution_count": null,
   "metadata": {
    "execution": {
     "iopub.execute_input": "2022-09-12T11:42:32.466167Z",
     "iopub.status.busy": "2022-09-12T11:42:32.465889Z",
     "iopub.status.idle": "2022-09-12T11:42:32.512259Z",
     "shell.execute_reply": "2022-09-12T11:42:32.511676Z",
     "shell.execute_reply.started": "2022-09-12T11:42:32.466150Z"
    },
    "tags": []
   },
   "outputs": [],
   "source": [
    "key = \"inputitems\"\n",
    "with (\n",
    "    ZipFile(dataset_file) as archive,\n",
    "    archive.open(files[key]) as compressed_file,\n",
    "    gzip.open(compressed_file) as file,\n",
    "):\n",
    "    inputitems = pyarrow.csv.read_csv(\n",
    "        file,\n",
    "        convert_options=pyarrow.csv.ConvertOptions(\n",
    "            column_types=column_types[key],\n",
    "            strings_can_be_null=True,\n",
    "            null_values=[\"\"],\n",
    "        ),\n",
    "    )\n",
    "\n",
    "inputitems.shape"
   ]
  },
  {
   "cell_type": "markdown",
   "metadata": {},
   "source": [
    "### Store and reload as pandas"
   ]
  },
  {
   "cell_type": "code",
   "execution_count": null,
   "metadata": {
    "execution": {
     "iopub.execute_input": "2022-09-12T11:42:32.513213Z",
     "iopub.status.busy": "2022-09-12T11:42:32.513025Z",
     "iopub.status.idle": "2022-09-12T11:42:32.528641Z",
     "shell.execute_reply": "2022-09-12T11:42:32.527708Z",
     "shell.execute_reply.started": "2022-09-12T11:42:32.513197Z"
    },
    "tags": []
   },
   "outputs": [],
   "source": [
    "pyarrow.parquet.write_table(inputitems, f\"{key}.parquet\")\n",
    "del inputitems\n",
    "with pd.option_context(\"string_storage\", \"pyarrow\"):\n",
    "    inputitems = pd.read_parquet(f\"{key}.parquet\", use_nullable_dtypes=True)\n",
    "print(f\"Number of events remaining: {inputitems.shape}\")"
   ]
  },
  {
   "cell_type": "markdown",
   "metadata": {},
   "source": [
    "### Merge with Items, keep only common items"
   ]
  },
  {
   "cell_type": "code",
   "execution_count": null,
   "metadata": {
    "execution": {
     "iopub.execute_input": "2022-09-12T11:42:32.530349Z",
     "iopub.status.busy": "2022-09-12T11:42:32.529725Z",
     "iopub.status.idle": "2022-09-12T11:42:33.530283Z",
     "shell.execute_reply": "2022-09-12T11:42:33.525665Z",
     "shell.execute_reply.started": "2022-09-12T11:42:32.530317Z"
    },
    "tags": []
   },
   "outputs": [],
   "source": [
    "inputevents = pd.merge(inputevents, inputitems, on=\"itemid\")\n",
    "print(f\"Number of events remaining: {inputevents.shape}\")\n",
    "print(f\"Number of patients remaining: {inputevents['subject_id'].nunique()}\")"
   ]
  },
  {
   "cell_type": "code",
   "execution_count": null,
   "metadata": {
    "execution": {
     "iopub.execute_input": "2022-09-12T11:42:33.532815Z",
     "iopub.status.busy": "2022-09-12T11:42:33.531659Z",
     "iopub.status.idle": "2022-09-12T11:42:34.535783Z",
     "shell.execute_reply": "2022-09-12T11:42:34.535030Z",
     "shell.execute_reply.started": "2022-09-12T11:42:33.532734Z"
    },
    "tags": []
   },
   "outputs": [],
   "source": [
    "item_freq = inputevents.groupby(\"label\")[\"subject_id\"].nunique()\n",
    "common_items = item_freq.sort_values(ascending=False).index[:50]\n",
    "inputevents = inputevents[inputevents[\"label\"].isin(common_items)]\n",
    "print(f\"Number of events remaining: {inputevents.shape}\")\n",
    "print(f\"Number of patients remaining: {inputevents['subject_id'].nunique()}\")"
   ]
  },
  {
   "cell_type": "code",
   "execution_count": null,
   "metadata": {
    "execution": {
     "iopub.execute_input": "2022-09-12T11:42:34.536946Z",
     "iopub.status.busy": "2022-09-12T11:42:34.536681Z",
     "iopub.status.idle": "2022-09-12T11:42:34.744461Z",
     "shell.execute_reply": "2022-09-12T11:42:34.743659Z",
     "shell.execute_reply.started": "2022-09-12T11:42:34.536926Z"
    },
    "tags": []
   },
   "outputs": [],
   "source": [
    "with pd.option_context(\"display.max_rows\", None, \"display.max_columns\", None):\n",
    "    print(inputevents.groupby(\"label\")[\"amountuom\"].value_counts())"
   ]
  },
  {
   "cell_type": "markdown",
   "metadata": {},
   "source": [
    "## Clean up bad data entries"
   ]
  },
  {
   "cell_type": "code",
   "execution_count": null,
   "metadata": {
    "execution": {
     "iopub.execute_input": "2022-09-12T11:42:34.745766Z",
     "iopub.status.busy": "2022-09-12T11:42:34.745495Z",
     "iopub.status.idle": "2022-09-12T11:42:34.767359Z",
     "shell.execute_reply": "2022-09-12T11:42:34.766664Z",
     "shell.execute_reply.started": "2022-09-12T11:42:34.745745Z"
    },
    "tags": []
   },
   "outputs": [],
   "source": [
    "BACKUP = inputevents.copy()"
   ]
  },
  {
   "cell_type": "code",
   "execution_count": null,
   "metadata": {
    "execution": {
     "iopub.execute_input": "2022-09-12T11:42:34.768608Z",
     "iopub.status.busy": "2022-09-12T11:42:34.768319Z",
     "iopub.status.idle": "2022-09-12T11:42:35.900920Z",
     "shell.execute_reply": "2022-09-12T11:42:35.899888Z",
     "shell.execute_reply.started": "2022-09-12T11:42:34.768585Z"
    },
    "tags": []
   },
   "outputs": [],
   "source": [
    "check_amountuom = {  # MIMIC-III and MIMIC-IV\n",
    "    \"Cefazolin\": \"dose\",\n",
    "    \"Cefepime\": \"dose\",\n",
    "    \"Ceftriaxone\": \"dose\",\n",
    "    \"Ciprofloxacin\": \"dose\",\n",
    "    \"Famotidine (Pepcid)\": \"dose\",\n",
    "    \"Fentanyl (Concentrate)\": \"mg\",\n",
    "    \"Heparin Sodium (Prophylaxis)\": \"dose\",\n",
    "    \"Hydromorphone (Dilaudid)\": \"mg\",\n",
    "    \"Magnesium Sulfate\": \"grams\",\n",
    "    \"Propofol\": \"mg\",\n",
    "    \"Metoprolol\": \"mg\",\n",
    "    \"Piperacillin/Tazobactam (Zosyn)\": \"dose\",\n",
    "    \"Metronidazole\": \"dose\",\n",
    "    \"Ranitidine (Prophylaxis)\": \"dose\",\n",
    "    \"Vancomycin\": \"dose\",\n",
    "    \"Pantoprazole (Protonix\": \"dose\",\n",
    "} | {  # MIMIC-IV specific\n",
    "    \"Acetaminophen-IV\": \"mg\",\n",
    "    \"D5 1/2NS\": \"ml\",\n",
    "    \"LR\": \"ml\",\n",
    "    \"NaCl 0.9%\": \"ml\",\n",
    "    \"OR Crystalloid Intake\": \"ml\",\n",
    "    \"PO Intake\": \"ml\",\n",
    "    \"Pre-Admission/Non-ICU Intake\": \"ml\",\n",
    "}\n",
    "\n",
    "MASK = pd.Series(False, index=inputevents.index)\n",
    "\n",
    "for drug, unit in check_amountuom.items():\n",
    "    mask = (inputevents[\"label\"] == drug) & (inputevents[\"amountuom\"] != unit)\n",
    "    print(f\"Removing {mask.sum():5d} entries - bad data in {drug} (drop {unit})\")\n",
    "    MASK |= mask\n",
    "\n",
    "inputevents = inputevents[~MASK]"
   ]
  },
  {
   "cell_type": "code",
   "execution_count": null,
   "metadata": {
    "execution": {
     "iopub.execute_input": "2022-09-12T11:42:35.902054Z",
     "iopub.status.busy": "2022-09-12T11:42:35.901841Z",
     "iopub.status.idle": "2022-09-12T11:42:39.787102Z",
     "shell.execute_reply": "2022-09-12T11:42:39.786398Z",
     "shell.execute_reply.started": "2022-09-12T11:42:35.902027Z"
    },
    "tags": []
   },
   "outputs": [],
   "source": [
    "key = \"Fentanyl (Concentrate)\"\n",
    "mask = (inputevents[\"label\"] == key) & (inputevents[\"amountuom\"] == \"mg\")\n",
    "print(f\"Modifying {mask.sum():5d} entries - bad data in {key} (remove the non mg)\")\n",
    "inputevents.loc[mask, \"amount\"] *= 1000\n",
    "inputevents.loc[mask, \"amountuom\"] = \"mcg\"\n",
    "\n",
    "\n",
    "key = \"Fentanyl\"\n",
    "mask = (inputevents[\"label\"] == key) & (inputevents[\"amountuom\"] == \"mg\")\n",
    "print(f\"Modifying {mask.sum():5d} entries - bad data in {key} (put the mg to mcg)\")\n",
    "inputevents.loc[mask, \"amount\"] *= 1000\n",
    "inputevents.loc[mask, \"amountuom\"] = \"mcg\"\n",
    "\n",
    "\n",
    "key = \"Pantoprazole (Protonix)\"\n",
    "mask = (inputevents[\"label\"] == key) & (\n",
    "    inputevents[\"ordercategorydescription\"] == \"Continuous Med\"\n",
    ")\n",
    "print(\n",
    "    f\"Modifying {mask.sum():5d} entries - bad data in {key} (divide in two)\"\n",
    "    \"drug shot or continuous treatment and create a new item id for the continuous version\"\n",
    ")\n",
    "inputevents.loc[mask, \"label\"] = \"Pantoprazole (Protonix) Continuous\"\n",
    "inputevents.loc[mask, \"itemid\"] = 2217441\n",
    "\n",
    "\n",
    "key = \"Dexmedetomidine (Precedex)\"\n",
    "mask = (inputevents[\"label\"] == key) & (inputevents[\"amountuom\"] == \"mcg\")\n",
    "print(f\"Modifying {mask.sum():5d} entries - bad data in {key} (cast all to mg)\")\n",
    "inputevents.loc[mask, \"amount\"] /= 1000\n",
    "inputevents.loc[mask, \"amountuom\"] = \"mg\""
   ]
  },
  {
   "cell_type": "code",
   "execution_count": null,
   "metadata": {
    "execution": {
     "iopub.execute_input": "2022-09-12T11:42:39.787798Z",
     "iopub.status.busy": "2022-09-12T11:42:39.787650Z",
     "iopub.status.idle": "2022-09-12T11:42:39.930450Z",
     "shell.execute_reply": "2022-09-12T11:42:39.929856Z",
     "shell.execute_reply.started": "2022-09-12T11:42:39.787785Z"
    },
    "tags": []
   },
   "outputs": [],
   "source": [
    "# Verify\n",
    "with pd.option_context(\"display.max_rows\", None, \"display.max_columns\", None):\n",
    "    print(inputevents.groupby(\"label\")[\"amountuom\"].value_counts())"
   ]
  },
  {
   "cell_type": "code",
   "execution_count": null,
   "metadata": {
    "execution": {
     "iopub.execute_input": "2022-09-12T11:42:39.931246Z",
     "iopub.status.busy": "2022-09-12T11:42:39.931082Z",
     "iopub.status.idle": "2022-09-12T11:42:40.089354Z",
     "shell.execute_reply": "2022-09-12T11:42:40.088715Z",
     "shell.execute_reply.started": "2022-09-12T11:42:39.931232Z"
    },
    "tags": []
   },
   "outputs": [],
   "source": [
    "# same thing for inputs given in rates\n",
    "with pd.option_context(\"display.max_rows\", None, \"display.max_columns\", None):\n",
    "    print(inputevents.groupby(\"label\")[\"rateuom\"].value_counts())"
   ]
  },
  {
   "cell_type": "code",
   "execution_count": null,
   "metadata": {
    "execution": {
     "iopub.execute_input": "2022-09-12T11:42:40.090367Z",
     "iopub.status.busy": "2022-09-12T11:42:40.090129Z",
     "iopub.status.idle": "2022-09-12T11:42:40.093626Z",
     "shell.execute_reply": "2022-09-12T11:42:40.093027Z",
     "shell.execute_reply.started": "2022-09-12T11:42:40.090351Z"
    },
    "tags": []
   },
   "outputs": [],
   "source": [
    "check_rateuom = {\n",
    "    \"Dextrose 5%\": \"mL/hour\",\n",
    "    \"Magnesium Sulfate (Bolus)\": \"mL/hour\",\n",
    "    \"NaCl 0.9%\": \"mL/hour\",\n",
    "    \"Piggyback\": \"mL/hour\",\n",
    "    \"Packed Red Blood Cells\": \"mL/hour\",\n",
    "    \"Acetaminophen-IV\": \"mg/min\",\n",
    "    \"Fentanyl (Concentrate)\": \"mcg/hour\",\n",
    "    \"Phenylephrine\": \"mcg/kg/min\",\n",
    "    \"Sterile Water\": \"mL/hour\",\n",
    "}"
   ]
  },
  {
   "cell_type": "code",
   "execution_count": null,
   "metadata": {
    "execution": {
     "iopub.execute_input": "2022-09-12T11:42:40.094427Z",
     "iopub.status.busy": "2022-09-12T11:42:40.094280Z",
     "iopub.status.idle": "2022-09-12T11:42:40.732673Z",
     "shell.execute_reply": "2022-09-12T11:42:40.731828Z",
     "shell.execute_reply.started": "2022-09-12T11:42:40.094414Z"
    },
    "tags": []
   },
   "outputs": [],
   "source": [
    "MASK = pd.Series(False, index=inputevents.index)\n",
    "\n",
    "for drug, unit in check_rateuom.items():\n",
    "    mask = (inputevents[\"label\"] == drug) & (inputevents[\"rateuom\"] != unit)\n",
    "    print(f\"Removing {mask.sum():5d} entries - bad data in {drug} (drop {unit})\")\n",
    "    MASK |= mask\n",
    "\n",
    "inputevents = inputevents[~MASK]"
   ]
  },
  {
   "cell_type": "code",
   "execution_count": null,
   "metadata": {
    "execution": {
     "iopub.execute_input": "2022-09-12T11:42:40.733515Z",
     "iopub.status.busy": "2022-09-12T11:42:40.733334Z",
     "iopub.status.idle": "2022-09-12T11:42:40.863922Z",
     "shell.execute_reply": "2022-09-12T11:42:40.863213Z",
     "shell.execute_reply.started": "2022-09-12T11:42:40.733499Z"
    },
    "tags": []
   },
   "outputs": [],
   "source": [
    "# Check if a single unit per drug\n",
    "with pd.option_context(\"display.max_rows\", None, \"display.max_columns\", None):\n",
    "    print(inputevents.groupby(\"label\")[\"rateuom\"].value_counts())"
   ]
  },
  {
   "cell_type": "markdown",
   "metadata": {},
   "source": [
    "## Testing if the computed amounts are OK"
   ]
  },
  {
   "cell_type": "code",
   "execution_count": null,
   "metadata": {
    "execution": {
     "iopub.execute_input": "2022-09-12T11:42:40.866424Z",
     "iopub.status.busy": "2022-09-12T11:42:40.866243Z",
     "iopub.status.idle": "2022-09-12T11:42:41.203541Z",
     "shell.execute_reply": "2022-09-12T11:42:41.202953Z",
     "shell.execute_reply.started": "2022-09-12T11:42:40.866409Z"
    },
    "tags": []
   },
   "outputs": [],
   "source": [
    "duration = inputevents.endtime - inputevents.starttime\n",
    "total_hours = duration / np.timedelta64(1, \"h\")\n",
    "units = inputevents[\"rateuom\"].dropna().unique()\n",
    "\n",
    "for unit in units:\n",
    "    mask = inputevents[\"rate\"].notnull() & (inputevents[\"rateuom\"] == unit)\n",
    "    df = inputevents[mask]\n",
    "    time = total_hours[mask] * 60 ** (\"min\" in unit)\n",
    "\n",
    "    amount_units = df[\"amountuom\"].unique()\n",
    "    assert len(amount_units) == 1\n",
    "\n",
    "    if \"kg\" in unit:\n",
    "        amount = df[\"rate\"] * time * df[\"patientweight\"]\n",
    "        discrepancy = amount / 1000 - df[\"amount\"]\n",
    "    else:\n",
    "        amount = df[\"rate\"] * time\n",
    "        discrepancy = amount - df[\"amount\"]\n",
    "\n",
    "    print(f\"{unit=:12} {amount_units[0]=:8} {discrepancy.max()=:.6f}\")\n",
    "    assert all(discrepancy < 0.01)"
   ]
  },
  {
   "cell_type": "markdown",
   "metadata": {},
   "source": [
    "# Creating splits"
   ]
  },
  {
   "cell_type": "code",
   "execution_count": null,
   "metadata": {
    "execution": {
     "iopub.execute_input": "2022-09-12T11:42:41.204807Z",
     "iopub.status.busy": "2022-09-12T11:42:41.204305Z",
     "iopub.status.idle": "2022-09-12T11:42:41.615981Z",
     "shell.execute_reply": "2022-09-12T11:42:41.615284Z",
     "shell.execute_reply.started": "2022-09-12T11:42:41.204789Z"
    },
    "tags": []
   },
   "outputs": [],
   "source": [
    "FREQ = pd.Timedelta(\"30min\")\n",
    "has_rate = inputevents[\"rate\"].notnull()\n",
    "is_early = duration <= FREQ\n",
    "\n",
    "splits = {}\n",
    "\n",
    "# The first dataframe contains the entries with no rate but with extended duration inputs (over 0.5 hour)\n",
    "splits[0] = inputevents[~has_rate & ~is_early].copy()\n",
    "\n",
    "# The second dataframe contains the entries with no rate and low duration entries (<0.5hour)\n",
    "splits[1] = inputevents[~has_rate & is_early].copy()\n",
    "\n",
    "# The third dataframe contains the entries with a rate and extended duration inputs (over 0.5 hour)\n",
    "splits[2] = inputevents[has_rate & ~is_early].copy()\n",
    "\n",
    "# The forth dataframe contains the entries with a rate and low duration entries (< 0.5 hour)\n",
    "splits[3] = inputevents[has_rate & is_early].copy()\n",
    "\n",
    "# Check if split is complete\n",
    "assert sum(map(len, splits.values())) == len(inputevents)"
   ]
  },
  {
   "cell_type": "code",
   "execution_count": null,
   "metadata": {
    "execution": {
     "iopub.execute_input": "2022-09-12T11:42:41.617323Z",
     "iopub.status.busy": "2022-09-12T11:42:41.617026Z",
     "iopub.status.idle": "2022-09-12T11:42:43.959863Z",
     "shell.execute_reply": "2022-09-12T11:42:43.959094Z",
     "shell.execute_reply.started": "2022-09-12T11:42:41.617304Z"
    },
    "tags": []
   },
   "outputs": [],
   "source": [
    "# We then create the admninistration time as a shifted version of the STARTTIME.\n",
    "\n",
    "# preprocess late split\n",
    "df = splits[0]\n",
    "df[\"Repeat\"] = (duration[df.index] / FREQ).apply(np.ceil).astype(\"Int32\")\n",
    "df = df.reindex(df.index.repeat(df[\"Repeat\"]))\n",
    "step = df[\"starttime\"].groupby(level=0).cumcount()\n",
    "df[\"charttime\"] = df[\"starttime\"] + step * FREQ\n",
    "df[\"amount\"] = (df[\"amount\"] / df[\"Repeat\"]).astype(\"float32\")\n",
    "splits[0] = df\n",
    "\n",
    "# preprocess other late split\n",
    "df = splits[2]\n",
    "df[\"Repeat\"] = (duration[df.index] / FREQ).apply(np.ceil).astype(\"Int32\")\n",
    "df = df.reindex(df.index.repeat(df[\"Repeat\"]))\n",
    "step = df[\"starttime\"].groupby(level=0).cumcount()\n",
    "df[\"charttime\"] = df[\"starttime\"] + step * FREQ\n",
    "df[\"amount\"] = (df[\"amount\"] / df[\"Repeat\"]).astype(\"float32\")\n",
    "splits[2] = df\n",
    "\n",
    "# For the early splits, we do not add repeats.\n",
    "splits[1][\"charttime\"] = splits[1][\"starttime\"]\n",
    "splits[3][\"charttime\"] = splits[3][\"starttime\"]"
   ]
  },
  {
   "cell_type": "code",
   "execution_count": null,
   "metadata": {
    "execution": {
     "iopub.execute_input": "2022-09-12T11:42:43.960562Z",
     "iopub.status.busy": "2022-09-12T11:42:43.960410Z",
     "iopub.status.idle": "2022-09-12T11:42:55.072334Z",
     "shell.execute_reply": "2022-09-12T11:42:55.071454Z",
     "shell.execute_reply.started": "2022-09-12T11:42:43.960549Z"
    },
    "tags": []
   },
   "outputs": [],
   "source": [
    "# Eventually, we merge all 4splits into one.\n",
    "# The result is a dataset with discrete inputs for each treatment.\n",
    "result = pd.concat(splits, names=[\"split\"])\n",
    "result = result.reset_index(level=1, drop=True)\n",
    "result = result.reset_index()\n",
    "result = result.set_index([\"split\", \"subject_id\", \"charttime\", \"label\"])\n",
    "result = result.sort_index()\n",
    "result"
   ]
  },
  {
   "cell_type": "code",
   "execution_count": null,
   "metadata": {
    "execution": {
     "iopub.execute_input": "2022-09-12T11:42:55.073094Z",
     "iopub.status.busy": "2022-09-12T11:42:55.072922Z",
     "iopub.status.idle": "2022-09-12T11:42:59.925853Z",
     "shell.execute_reply": "2022-09-12T11:42:59.925332Z",
     "shell.execute_reply.started": "2022-09-12T11:42:55.073080Z"
    },
    "tags": []
   },
   "outputs": [],
   "source": [
    "result.reset_index().to_parquet(\"inputevents_processed.parquet\")"
   ]
  }
 ],
 "metadata": {
  "kernelspec": {
   "display_name": "Python 3 (ipykernel)",
   "language": "python",
   "name": "python3"
  },
  "language_info": {
   "codemirror_mode": {
    "name": "ipython",
    "version": 3
   },
   "file_extension": ".py",
   "mimetype": "text/x-python",
   "name": "python",
   "nbconvert_exporter": "python",
   "pygments_lexer": "ipython3",
   "version": "3.10.6"
  }
 },
 "nbformat": 4,
 "nbformat_minor": 4
}
