{
 "cells": [
  {
   "cell_type": "markdown",
   "metadata": {},
   "source": [
    "# MIMIC 4 data - dataset construction inputevents"
   ]
  },
  {
   "cell_type": "markdown",
   "metadata": {},
   "source": [
    "Code taken from GRU-ODE-Bayes preprocessing; simplified and adapted for MIMIC 4 1.0"
   ]
  },
  {
   "cell_type": "code",
   "execution_count": null,
   "metadata": {
    "execution": {
     "iopub.execute_input": "2022-09-12T01:02:25.619561Z",
     "iopub.status.busy": "2022-09-12T01:02:25.619375Z",
     "iopub.status.idle": "2022-09-12T01:02:25.859127Z",
     "shell.execute_reply": "2022-09-12T01:02:25.858801Z",
     "shell.execute_reply.started": "2022-09-12T01:02:25.619517Z"
    },
    "tags": []
   },
   "outputs": [],
   "source": [
    "import gzip\n",
    "from zipfile import ZipFile\n",
    "\n",
    "import numpy as np\n",
    "import pandas as pd\n",
    "import pyarrow\n",
    "import pyarrow.csv\n",
    "import pyarrow.parquet"
   ]
  },
  {
   "cell_type": "code",
   "execution_count": null,
   "metadata": {
    "execution": {
     "iopub.execute_input": "2022-09-12T01:02:25.860156Z",
     "iopub.status.busy": "2022-09-12T01:02:25.859960Z",
     "iopub.status.idle": "2022-09-12T01:02:25.892331Z",
     "shell.execute_reply": "2022-09-12T01:02:25.892004Z",
     "shell.execute_reply.started": "2022-09-12T01:02:25.860144Z"
    },
    "tags": []
   },
   "outputs": [],
   "source": [
    "admissions = pd.read_parquet(\"admissions_processed.parquet\")\n",
    "admissions.head()"
   ]
  },
  {
   "cell_type": "code",
   "execution_count": null,
   "metadata": {
    "execution": {
     "iopub.execute_input": "2022-09-12T01:02:25.892869Z",
     "iopub.status.busy": "2022-09-12T01:02:25.892761Z",
     "iopub.status.idle": "2022-09-12T01:02:25.896606Z",
     "shell.execute_reply": "2022-09-12T01:02:25.896344Z",
     "shell.execute_reply.started": "2022-09-12T01:02:25.892858Z"
    },
    "tags": []
   },
   "outputs": [],
   "source": [
    "dataset_file = \"mimic-iv-1.0.zip\"\n",
    "\n",
    "files = {\n",
    "    \"inputevents\": \"mimic-iv-1.0/icu/inputevents.csv.gz\",\n",
    "    \"inputitems\": \"mimic-iv-1.0/icu/d_items.csv.gz\",\n",
    "}\n",
    "\n",
    "column_types = {\n",
    "    \"inputevents\": {\n",
    "        \"amount\": \"float32\",\n",
    "        \"amountuom\": \"string\",\n",
    "        \"cancelreason\": \"int32\",\n",
    "        \"continueinnextdept\": \"bool\",\n",
    "        \"endtime\": \"timestamp[s]\",\n",
    "        \"hadm_id\": \"int32\",\n",
    "        \"isopenbag\": \"bool\",\n",
    "        \"itemid\": \"int32\",\n",
    "        \"linkorderid\": \"int32\",\n",
    "        \"ordercategorydescription\": \"string\",\n",
    "        \"ordercategoryname\": \"string\",\n",
    "        \"ordercomponenttypedescription\": \"string\",\n",
    "        \"orderid\": \"int32\",\n",
    "        \"originalamount\": \"float32\",\n",
    "        \"originalrate\": \"float32\",\n",
    "        \"patientweight\": \"float32\",\n",
    "        \"rate\": \"float32\",\n",
    "        \"rateuom\": \"string\",\n",
    "        \"secondaryordercategoryname\": \"string\",\n",
    "        \"starttime\": \"timestamp[s]\",\n",
    "        \"statusdescription\": \"string\",\n",
    "        \"stay_id\": \"int32\",\n",
    "        \"storetime\": \"timestamp[s]\",\n",
    "        \"subject_id\": \"int32\",\n",
    "        \"totalamount\": \"float32\",\n",
    "        \"totalamountuom\": \"string\",\n",
    "    },\n",
    "    \"inputitems\": {\n",
    "        \"abbreviation\": \"string\",\n",
    "        \"category\": \"string\",\n",
    "        \"highnormalvalue\": \"float32\",\n",
    "        \"itemid\": \"int32\",\n",
    "        \"label\": \"string\",\n",
    "        \"linksto\": \"string\",\n",
    "        \"lownormalvalue\": \"float32\",\n",
    "        \"param_type\": \"string\",\n",
    "        \"unitname\": \"string\",\n",
    "    },\n",
    "}"
   ]
  },
  {
   "cell_type": "code",
   "execution_count": null,
   "metadata": {
    "execution": {
     "iopub.execute_input": "2022-09-12T01:02:25.897063Z",
     "iopub.status.busy": "2022-09-12T01:02:25.896962Z",
     "iopub.status.idle": "2022-09-12T01:02:31.255551Z",
     "shell.execute_reply": "2022-09-12T01:02:31.255155Z",
     "shell.execute_reply.started": "2022-09-12T01:02:25.897054Z"
    },
    "tags": []
   },
   "outputs": [],
   "source": [
    "# shape: (10M, 26) ⇝ 0.3B values.\n",
    "key = \"inputevents\"\n",
    "with (\n",
    "    ZipFile(dataset_file) as archive,\n",
    "    archive.open(files[key]) as compressed_file,\n",
    "    gzip.open(compressed_file) as file,\n",
    "):\n",
    "    inputevents = pyarrow.csv.read_csv(\n",
    "        file,\n",
    "        convert_options=pyarrow.csv.ConvertOptions(\n",
    "            column_types=column_types[key],\n",
    "            auto_dict_encode=True,\n",
    "            strings_can_be_null=True,\n",
    "            null_values=[\"\"],\n",
    "        ),\n",
    "    )"
   ]
  },
  {
   "cell_type": "code",
   "execution_count": null,
   "metadata": {
    "execution": {
     "iopub.execute_input": "2022-09-12T01:02:31.256344Z",
     "iopub.status.busy": "2022-09-12T01:02:31.256152Z",
     "iopub.status.idle": "2022-09-12T01:02:32.385018Z",
     "shell.execute_reply": "2022-09-12T01:02:32.384620Z",
     "shell.execute_reply.started": "2022-09-12T01:02:31.256323Z"
    },
    "tags": []
   },
   "outputs": [],
   "source": [
    "# set categoricals\n",
    "for col, dtype in column_types[key].items():\n",
    "    if dtype == \"string\":\n",
    "        index = inputevents.column_names.index(col)\n",
    "        categories = inputevents[col].dictionary_encode()\n",
    "        inputevents = inputevents.set_column(index, col, categories)\n",
    "\n",
    "inputevents"
   ]
  },
  {
   "cell_type": "markdown",
   "metadata": {},
   "source": [
    "### Store and reload as pandas"
   ]
  },
  {
   "cell_type": "code",
   "execution_count": null,
   "metadata": {
    "execution": {
     "iopub.execute_input": "2022-09-12T01:02:32.385621Z",
     "iopub.status.busy": "2022-09-12T01:02:32.385508Z",
     "iopub.status.idle": "2022-09-12T01:02:36.367844Z",
     "shell.execute_reply": "2022-09-12T01:02:36.367437Z",
     "shell.execute_reply.started": "2022-09-12T01:02:32.385610Z"
    },
    "tags": []
   },
   "outputs": [],
   "source": [
    "pyarrow.parquet.write_table(inputevents, f\"{key}.parquet\")\n",
    "del inputevents\n",
    "with pd.option_context(\"string_storage\", \"pyarrow\"):\n",
    "    inputevents = pd.read_parquet(f\"{key}.parquet\", use_nullable_dtypes=True)\n",
    "print(f\"Number of events remaining: {len(inputevents)}\")"
   ]
  },
  {
   "cell_type": "markdown",
   "metadata": {},
   "source": [
    "### Only keep inputevents associated with the selected patients"
   ]
  },
  {
   "cell_type": "code",
   "execution_count": null,
   "metadata": {
    "execution": {
     "iopub.execute_input": "2022-09-12T01:02:36.369266Z",
     "iopub.status.busy": "2022-09-12T01:02:36.369150Z",
     "iopub.status.idle": "2022-09-12T01:02:36.772172Z",
     "shell.execute_reply": "2022-09-12T01:02:36.771756Z",
     "shell.execute_reply.started": "2022-09-12T01:02:36.369255Z"
    },
    "tags": []
   },
   "outputs": [],
   "source": [
    "mask = inputevents[\"hadm_id\"].isin(admissions[\"hadm_id\"])\n",
    "inputevents = inputevents[mask]\n",
    "print(f\"Number of events remaining: {inputevents.shape}\")\n",
    "print(f\"Number of patients remaining: {inputevents['subject_id'].nunique()}\")"
   ]
  },
  {
   "cell_type": "markdown",
   "metadata": {
    "execution": {
     "iopub.execute_input": "2022-09-09T17:34:10.168103Z",
     "iopub.status.busy": "2022-09-09T17:34:10.167815Z",
     "iopub.status.idle": "2022-09-09T17:34:10.193256Z",
     "shell.execute_reply": "2022-09-09T17:34:10.192617Z",
     "shell.execute_reply.started": "2022-09-09T17:34:10.168084Z"
    },
    "tags": []
   },
   "source": [
    "### Only keep columns of interest"
   ]
  },
  {
   "cell_type": "code",
   "execution_count": null,
   "metadata": {
    "execution": {
     "iopub.execute_input": "2022-09-12T01:02:36.772798Z",
     "iopub.status.busy": "2022-09-12T01:02:36.772675Z",
     "iopub.status.idle": "2022-09-12T01:02:36.784321Z",
     "shell.execute_reply": "2022-09-12T01:02:36.783926Z",
     "shell.execute_reply.started": "2022-09-12T01:02:36.772787Z"
    },
    "tags": []
   },
   "outputs": [],
   "source": [
    "selected_columns = [\n",
    "    \"amount\",\n",
    "    \"amountuom\",\n",
    "    \"endtime\",\n",
    "    \"hadm_id\",\n",
    "    \"itemid\",\n",
    "    \"ordercategorydescription\",\n",
    "    \"patientweight\",\n",
    "    \"rate\",\n",
    "    \"rateuom\",\n",
    "    \"starttime\",\n",
    "    \"subject_id\",\n",
    "]\n",
    "\n",
    "inputevents = inputevents[selected_columns]"
   ]
  },
  {
   "cell_type": "markdown",
   "metadata": {},
   "source": [
    "### Load item table"
   ]
  },
  {
   "cell_type": "code",
   "execution_count": null,
   "metadata": {
    "execution": {
     "iopub.execute_input": "2022-09-12T01:02:36.784929Z",
     "iopub.status.busy": "2022-09-12T01:02:36.784817Z",
     "iopub.status.idle": "2022-09-12T01:02:36.798438Z",
     "shell.execute_reply": "2022-09-12T01:02:36.798068Z",
     "shell.execute_reply.started": "2022-09-12T01:02:36.784918Z"
    },
    "tags": []
   },
   "outputs": [],
   "source": [
    "key = \"inputitems\"\n",
    "with (\n",
    "    ZipFile(dataset_file) as archive,\n",
    "    archive.open(files[key]) as compressed_file,\n",
    "    gzip.open(compressed_file) as file,\n",
    "):\n",
    "    inputitems = pyarrow.csv.read_csv(\n",
    "        file,\n",
    "        convert_options=pyarrow.csv.ConvertOptions(\n",
    "            column_types=column_types[key],\n",
    "            strings_can_be_null=True,\n",
    "            null_values=[\"\"],\n",
    "        ),\n",
    "    )\n",
    "\n",
    "inputitems.shape"
   ]
  },
  {
   "cell_type": "markdown",
   "metadata": {},
   "source": [
    "### Store and reload as pandas"
   ]
  },
  {
   "cell_type": "code",
   "execution_count": null,
   "metadata": {
    "execution": {
     "iopub.execute_input": "2022-09-12T01:02:36.799035Z",
     "iopub.status.busy": "2022-09-12T01:02:36.798925Z",
     "iopub.status.idle": "2022-09-12T01:02:36.806474Z",
     "shell.execute_reply": "2022-09-12T01:02:36.806109Z",
     "shell.execute_reply.started": "2022-09-12T01:02:36.799025Z"
    },
    "tags": []
   },
   "outputs": [],
   "source": [
    "pyarrow.parquet.write_table(inputitems, f\"{key}.parquet\")\n",
    "del inputitems\n",
    "with pd.option_context(\"string_storage\", \"pyarrow\"):\n",
    "    inputitems = pd.read_parquet(f\"{key}.parquet\", use_nullable_dtypes=True)\n",
    "print(f\"Number of events remaining: {inputitems.shape}\")"
   ]
  },
  {
   "cell_type": "markdown",
   "metadata": {},
   "source": [
    "### Merge with Items, keep only common items"
   ]
  },
  {
   "cell_type": "code",
   "execution_count": null,
   "metadata": {
    "execution": {
     "iopub.execute_input": "2022-09-12T01:02:36.807056Z",
     "iopub.status.busy": "2022-09-12T01:02:36.806947Z",
     "iopub.status.idle": "2022-09-12T01:02:37.375884Z",
     "shell.execute_reply": "2022-09-12T01:02:37.375448Z",
     "shell.execute_reply.started": "2022-09-12T01:02:36.807045Z"
    },
    "tags": []
   },
   "outputs": [],
   "source": [
    "inputevents = pd.merge(inputevents, inputitems, on=\"itemid\")\n",
    "print(f\"Number of events remaining: {inputevents.shape}\")\n",
    "print(f\"Number of patients remaining: {inputevents['subject_id'].nunique()}\")"
   ]
  },
  {
   "cell_type": "code",
   "execution_count": null,
   "metadata": {
    "execution": {
     "iopub.execute_input": "2022-09-12T01:02:37.376506Z",
     "iopub.status.busy": "2022-09-12T01:02:37.376394Z",
     "iopub.status.idle": "2022-09-12T01:02:37.919708Z",
     "shell.execute_reply": "2022-09-12T01:02:37.919233Z",
     "shell.execute_reply.started": "2022-09-12T01:02:37.376495Z"
    },
    "tags": []
   },
   "outputs": [],
   "source": [
    "item_freq = inputevents.groupby(\"label\")[\"subject_id\"].nunique()\n",
    "common_items = item_freq.sort_values(ascending=False).index[:50]\n",
    "inputevents = inputevents[inputevents[\"label\"].isin(common_items)]\n",
    "print(f\"Number of events remaining: {inputevents.shape}\")\n",
    "print(f\"Number of patients remaining: {inputevents['subject_id'].nunique()}\")"
   ]
  },
  {
   "cell_type": "code",
   "execution_count": null,
   "metadata": {
    "execution": {
     "iopub.execute_input": "2022-09-12T01:02:37.920504Z",
     "iopub.status.busy": "2022-09-12T01:02:37.920331Z",
     "iopub.status.idle": "2022-09-12T01:02:38.031091Z",
     "shell.execute_reply": "2022-09-12T01:02:38.030610Z",
     "shell.execute_reply.started": "2022-09-12T01:02:37.920487Z"
    },
    "tags": []
   },
   "outputs": [],
   "source": [
    "with pd.option_context(\"display.max_rows\", None, \"display.max_columns\", None):\n",
    "    print(inputevents.groupby(\"label\")[\"amountuom\"].value_counts())"
   ]
  },
  {
   "cell_type": "markdown",
   "metadata": {},
   "source": [
    "## Clean up bad data entries"
   ]
  },
  {
   "cell_type": "code",
   "execution_count": null,
   "metadata": {
    "execution": {
     "iopub.execute_input": "2022-09-12T01:02:38.031755Z",
     "iopub.status.busy": "2022-09-12T01:02:38.031634Z",
     "iopub.status.idle": "2022-09-12T01:02:38.041304Z",
     "shell.execute_reply": "2022-09-12T01:02:38.040888Z",
     "shell.execute_reply.started": "2022-09-12T01:02:38.031743Z"
    },
    "tags": []
   },
   "outputs": [],
   "source": [
    "BACKUP = inputevents.copy()"
   ]
  },
  {
   "cell_type": "code",
   "execution_count": null,
   "metadata": {
    "execution": {
     "iopub.execute_input": "2022-09-12T01:02:38.041985Z",
     "iopub.status.busy": "2022-09-12T01:02:38.041870Z",
     "iopub.status.idle": "2022-09-12T01:02:38.645458Z",
     "shell.execute_reply": "2022-09-12T01:02:38.645013Z",
     "shell.execute_reply.started": "2022-09-12T01:02:38.041973Z"
    },
    "tags": []
   },
   "outputs": [],
   "source": [
    "check_amountuom = {  # MIMIC-III and MIMIC-IV\n",
    "    \"Cefazolin\": \"dose\",\n",
    "    \"Cefepime\": \"dose\",\n",
    "    \"Ceftriaxone\": \"dose\",\n",
    "    \"Ciprofloxacin\": \"dose\",\n",
    "    \"Famotidine (Pepcid)\": \"dose\",\n",
    "    \"Fentanyl (Concentrate)\": \"mg\",\n",
    "    \"Heparin Sodium (Prophylaxis)\": \"dose\",\n",
    "    \"Hydromorphone (Dilaudid)\": \"mg\",\n",
    "    \"Magnesium Sulfate\": \"grams\",\n",
    "    \"Propofol\": \"mg\",\n",
    "    \"Metoprolol\": \"mg\",\n",
    "    \"Piperacillin/Tazobactam (Zosyn)\": \"dose\",\n",
    "    \"Metronidazole\": \"dose\",\n",
    "    \"Ranitidine (Prophylaxis)\": \"dose\",\n",
    "    \"Vancomycin\": \"dose\",\n",
    "    \"Pantoprazole (Protonix\": \"dose\",\n",
    "} | {  # MIMIC-IV specific\n",
    "    \"Acetaminophen-IV\": \"mg\",\n",
    "    \"D5 1/2NS\": \"ml\",\n",
    "    \"LR\": \"ml\",\n",
    "    \"NaCl 0.9%\": \"ml\",\n",
    "    \"OR Crystalloid Intake\": \"ml\",\n",
    "    \"PO Intake\": \"ml\",\n",
    "    \"Pre-Admission/Non-ICU Intake\": \"ml\",\n",
    "}\n",
    "\n",
    "MASK = pd.Series(False, index=inputevents.index)\n",
    "\n",
    "for drug, unit in check_amountuom.items():\n",
    "    mask = (inputevents[\"label\"] == drug) & (inputevents[\"amountuom\"] != unit)\n",
    "    print(f\"Removing {mask.sum():5d} entries - bad data in {drug} (drop {unit})\")\n",
    "    MASK |= mask\n",
    "\n",
    "inputevents = inputevents[~MASK]"
   ]
  },
  {
   "cell_type": "code",
   "execution_count": null,
   "metadata": {
    "execution": {
     "iopub.execute_input": "2022-09-12T01:02:38.646066Z",
     "iopub.status.busy": "2022-09-12T01:02:38.645955Z",
     "iopub.status.idle": "2022-09-12T01:02:40.865309Z",
     "shell.execute_reply": "2022-09-12T01:02:40.864900Z",
     "shell.execute_reply.started": "2022-09-12T01:02:38.646055Z"
    },
    "tags": []
   },
   "outputs": [],
   "source": [
    "key = \"Fentanyl (Concentrate)\"\n",
    "mask = (inputevents[\"label\"] == key) & (inputevents[\"amountuom\"] == \"mg\")\n",
    "print(f\"Modifying {mask.sum():5d} entries - bad data in {key} (remove the non mg)\")\n",
    "inputevents.loc[mask, \"amount\"] *= 1000\n",
    "inputevents.loc[mask, \"amountuom\"] = \"mcg\"\n",
    "\n",
    "\n",
    "key = \"Fentanyl\"\n",
    "mask = (inputevents[\"label\"] == key) & (inputevents[\"amountuom\"] == \"mg\")\n",
    "print(f\"Modifying {mask.sum():5d} entries - bad data in {key} (put the mg to mcg)\")\n",
    "inputevents.loc[mask, \"amount\"] *= 1000\n",
    "inputevents.loc[mask, \"amountuom\"] = \"mcg\"\n",
    "\n",
    "\n",
    "key = \"Pantoprazole (Protonix)\"\n",
    "mask = (inputevents[\"label\"] == key) & (\n",
    "    inputevents[\"ordercategorydescription\"] == \"Continuous Med\"\n",
    ")\n",
    "print(\n",
    "    f\"Modifying {mask.sum():5d} entries - bad data in {key} (divide in two)\"\n",
    "    \"drug shot or continuous treatment and create a new item id for the continuous version\"\n",
    ")\n",
    "inputevents.loc[mask, \"label\"] = \"Pantoprazole (Protonix) Continuous\"\n",
    "inputevents.loc[mask, \"itemid\"] = 2217441\n",
    "\n",
    "\n",
    "key = \"Dexmedetomidine (Precedex)\"\n",
    "mask = (inputevents[\"label\"] == key) & (inputevents[\"amountuom\"] == \"mcg\")\n",
    "print(f\"Modifying {mask.sum():5d} entries - bad data in {key} (cast all to mg)\")\n",
    "inputevents.loc[mask, \"amount\"] /= 1000\n",
    "inputevents.loc[mask, \"amountuom\"] = \"mg\""
   ]
  },
  {
   "cell_type": "code",
   "execution_count": null,
   "metadata": {
    "execution": {
     "iopub.execute_input": "2022-09-12T01:02:40.865887Z",
     "iopub.status.busy": "2022-09-12T01:02:40.865776Z",
     "iopub.status.idle": "2022-09-12T01:02:40.985845Z",
     "shell.execute_reply": "2022-09-12T01:02:40.985451Z",
     "shell.execute_reply.started": "2022-09-12T01:02:40.865876Z"
    },
    "tags": []
   },
   "outputs": [],
   "source": [
    "# Verify\n",
    "with pd.option_context(\"display.max_rows\", None, \"display.max_columns\", None):\n",
    "    print(inputevents.groupby(\"label\")[\"amountuom\"].value_counts())"
   ]
  },
  {
   "cell_type": "code",
   "execution_count": null,
   "metadata": {
    "execution": {
     "iopub.execute_input": "2022-09-12T01:02:40.986449Z",
     "iopub.status.busy": "2022-09-12T01:02:40.986336Z",
     "iopub.status.idle": "2022-09-12T01:02:41.106249Z",
     "shell.execute_reply": "2022-09-12T01:02:41.105857Z",
     "shell.execute_reply.started": "2022-09-12T01:02:40.986438Z"
    },
    "tags": []
   },
   "outputs": [],
   "source": [
    "# same thing for inputs given in rates\n",
    "with pd.option_context(\"display.max_rows\", None, \"display.max_columns\", None):\n",
    "    print(inputevents.groupby(\"label\")[\"rateuom\"].value_counts())"
   ]
  },
  {
   "cell_type": "code",
   "execution_count": null,
   "metadata": {
    "execution": {
     "iopub.execute_input": "2022-09-12T01:02:41.106852Z",
     "iopub.status.busy": "2022-09-12T01:02:41.106743Z",
     "iopub.status.idle": "2022-09-12T01:02:41.109131Z",
     "shell.execute_reply": "2022-09-12T01:02:41.108758Z",
     "shell.execute_reply.started": "2022-09-12T01:02:41.106841Z"
    },
    "tags": []
   },
   "outputs": [],
   "source": [
    "check_rateuom = {\n",
    "    \"Dextrose 5%\": \"mL/hour\",\n",
    "    \"Magnesium Sulfate (Bolus)\": \"mL/hour\",\n",
    "    \"NaCl 0.9%\": \"mL/hour\",\n",
    "    \"Piggyback\": \"mL/hour\",\n",
    "    \"Packed Red Blood Cells\": \"mL/hour\",\n",
    "    \"Acetaminophen-IV\": \"mg/min\",\n",
    "    \"Fentanyl (Concentrate)\": \"mcg/hour\",\n",
    "    \"Phenylephrine\": \"mcg/kg/min\",\n",
    "    \"Sterile Water\": \"mL/hour\",\n",
    "}"
   ]
  },
  {
   "cell_type": "code",
   "execution_count": null,
   "metadata": {
    "execution": {
     "iopub.execute_input": "2022-09-12T01:02:41.109817Z",
     "iopub.status.busy": "2022-09-12T01:02:41.109541Z",
     "iopub.status.idle": "2022-09-12T01:02:41.510816Z",
     "shell.execute_reply": "2022-09-12T01:02:41.510378Z",
     "shell.execute_reply.started": "2022-09-12T01:02:41.109805Z"
    },
    "tags": []
   },
   "outputs": [],
   "source": [
    "MASK = pd.Series(False, index=inputevents.index)\n",
    "\n",
    "for drug, unit in check_rateuom.items():\n",
    "    mask = (inputevents[\"label\"] == drug) & (inputevents[\"rateuom\"] != unit)\n",
    "    print(f\"Removing {mask.sum():5d} entries - bad data in {drug} (drop {unit})\")\n",
    "    MASK |= mask\n",
    "\n",
    "inputevents = inputevents[~MASK]"
   ]
  },
  {
   "cell_type": "code",
   "execution_count": null,
   "metadata": {
    "execution": {
     "iopub.execute_input": "2022-09-12T01:02:41.511472Z",
     "iopub.status.busy": "2022-09-12T01:02:41.511357Z",
     "iopub.status.idle": "2022-09-12T01:02:41.613742Z",
     "shell.execute_reply": "2022-09-12T01:02:41.613336Z",
     "shell.execute_reply.started": "2022-09-12T01:02:41.511461Z"
    },
    "tags": []
   },
   "outputs": [],
   "source": [
    "# Check if a single unit per drug\n",
    "with pd.option_context(\"display.max_rows\", None, \"display.max_columns\", None):\n",
    "    print(inputevents.groupby(\"label\")[\"rateuom\"].value_counts())"
   ]
  },
  {
   "cell_type": "markdown",
   "metadata": {},
   "source": [
    "## Testing if the computed amounts are OK"
   ]
  },
  {
   "cell_type": "code",
   "execution_count": null,
   "metadata": {
    "execution": {
     "iopub.execute_input": "2022-09-12T01:02:41.615584Z",
     "iopub.status.busy": "2022-09-12T01:02:41.615465Z",
     "iopub.status.idle": "2022-09-12T01:02:41.841115Z",
     "shell.execute_reply": "2022-09-12T01:02:41.840706Z",
     "shell.execute_reply.started": "2022-09-12T01:02:41.615573Z"
    },
    "tags": []
   },
   "outputs": [],
   "source": [
    "duration = inputevents.endtime - inputevents.starttime\n",
    "total_hours = duration / np.timedelta64(1, \"h\")\n",
    "units = inputevents[\"rateuom\"].dropna().unique()\n",
    "\n",
    "for unit in units:\n",
    "    mask = inputevents[\"rate\"].notnull() & (inputevents[\"rateuom\"] == unit)\n",
    "    df = inputevents[mask]\n",
    "    time = total_hours[mask] * 60 ** (\"min\" in unit)\n",
    "\n",
    "    amount_units = df[\"amountuom\"].unique()\n",
    "    assert len(amount_units) == 1\n",
    "\n",
    "    if \"kg\" in unit:\n",
    "        amount = df[\"rate\"] * time * df[\"patientweight\"]\n",
    "        discrepancy = amount / 1000 - df[\"amount\"]\n",
    "    else:\n",
    "        amount = df[\"rate\"] * time\n",
    "        discrepancy = amount - df[\"amount\"]\n",
    "\n",
    "    print(f\"{unit=:12} {amount_units[0]=:8} {discrepancy.max()=:.6f}\")\n",
    "    assert all(discrepancy < 0.01)"
   ]
  },
  {
   "cell_type": "markdown",
   "metadata": {},
   "source": [
    "# Creating splits"
   ]
  },
  {
   "cell_type": "code",
   "execution_count": null,
   "metadata": {
    "execution": {
     "iopub.execute_input": "2022-09-12T01:02:41.841718Z",
     "iopub.status.busy": "2022-09-12T01:02:41.841606Z",
     "iopub.status.idle": "2022-09-12T01:02:42.057908Z",
     "shell.execute_reply": "2022-09-12T01:02:42.057500Z",
     "shell.execute_reply.started": "2022-09-12T01:02:41.841707Z"
    },
    "tags": []
   },
   "outputs": [],
   "source": [
    "FREQ = pd.Timedelta(\"30min\")\n",
    "has_rate = inputevents[\"rate\"].notnull()\n",
    "is_early = duration <= FREQ\n",
    "\n",
    "splits = {}\n",
    "\n",
    "# The first dataframe contains the entries with no rate but with extended duration inputs (over 0.5 hour)\n",
    "splits[0] = inputevents[~has_rate & ~is_early].copy()\n",
    "\n",
    "# The second dataframe contains the entries with no rate and low duration entries (<0.5hour)\n",
    "splits[1] = inputevents[~has_rate & is_early].copy()\n",
    "\n",
    "# The third dataframe contains the entries with a rate and extended duration inputs (over 0.5 hour)\n",
    "splits[2] = inputevents[has_rate & ~is_early].copy()\n",
    "\n",
    "# The forth dataframe contains the entries with a rate and low duration entries (< 0.5 hour)\n",
    "splits[3] = inputevents[has_rate & is_early].copy()\n",
    "\n",
    "# Check if split is complete\n",
    "assert sum(map(len, splits.values())) == len(inputevents)"
   ]
  },
  {
   "cell_type": "code",
   "execution_count": null,
   "metadata": {
    "execution": {
     "iopub.execute_input": "2022-09-12T01:02:42.058630Z",
     "iopub.status.busy": "2022-09-12T01:02:42.058516Z",
     "iopub.status.idle": "2022-09-12T01:04:47.233223Z",
     "shell.execute_reply": "2022-09-12T01:04:47.232824Z",
     "shell.execute_reply.started": "2022-09-12T01:02:42.058619Z"
    },
    "tags": []
   },
   "outputs": [],
   "source": [
    "# We then create the admninistration time as a shifted version of the STARTTIME.\n",
    "\n",
    "\n",
    "def create_range(x):\n",
    "    return pd.date_range(start=x.iat[0], freq=FREQ, periods=len(x))\n",
    "\n",
    "\n",
    "# preprocess late split\n",
    "df = splits[0]\n",
    "df[\"Repeat\"] = np.ceil(duration[df.index] / FREQ).astype(int)\n",
    "df = df.reindex(df.index.repeat(df[\"Repeat\"]))\n",
    "df[\"charttime\"] = df[\"starttime\"].groupby(level=0).transform(create_range)\n",
    "df[\"amount\"] /= df[\"Repeat\"]\n",
    "splits[0] = df\n",
    "\n",
    "# preprocess other late split\n",
    "df = splits[2]\n",
    "df[\"Repeat\"] = np.ceil(duration[df.index] / FREQ).astype(int)\n",
    "df = df.reindex(df.index.repeat(df[\"Repeat\"]))\n",
    "df[\"charttime\"] = df[\"starttime\"].groupby(level=0).transform(create_range)\n",
    "df[\"amount\"] /= df[\"Repeat\"]\n",
    "splits[2] = df\n",
    "\n",
    "# For the early splits, we do not add repeats.\n",
    "splits[1][\"charttime\"] = splits[1][\"starttime\"]\n",
    "splits[3][\"charttime\"] = splits[3][\"starttime\"]"
   ]
  },
  {
   "cell_type": "code",
   "execution_count": null,
   "metadata": {
    "execution": {
     "iopub.execute_input": "2022-09-12T01:04:47.233892Z",
     "iopub.status.busy": "2022-09-12T01:04:47.233782Z",
     "iopub.status.idle": "2022-09-12T01:04:55.259038Z",
     "shell.execute_reply": "2022-09-12T01:04:55.258617Z",
     "shell.execute_reply.started": "2022-09-12T01:04:47.233881Z"
    },
    "tags": []
   },
   "outputs": [],
   "source": [
    "# Eventually, we merge all 4splits into one.\n",
    "# The result is a dataset with discrete inputs for each treatment.\n",
    "result = pd.concat(splits, names=[\"split\"])\n",
    "result = result.reset_index(level=1, drop=True)\n",
    "result = result.reset_index()\n",
    "result = result.set_index([\"split\", \"subject_id\", \"charttime\", \"label\"])\n",
    "result = result.sort_index()\n",
    "result"
   ]
  },
  {
   "cell_type": "code",
   "execution_count": null,
   "metadata": {
    "execution": {
     "iopub.execute_input": "2022-09-12T01:04:55.259653Z",
     "iopub.status.busy": "2022-09-12T01:04:55.259541Z",
     "iopub.status.idle": "2022-09-12T01:04:59.205979Z",
     "shell.execute_reply": "2022-09-12T01:04:59.205584Z",
     "shell.execute_reply.started": "2022-09-12T01:04:55.259642Z"
    },
    "tags": []
   },
   "outputs": [],
   "source": [
    "result.to_parquet(\"inputevents_processed.parquet\")"
   ]
  }
 ],
 "metadata": {
  "kernelspec": {
   "display_name": "Python 3 (ipykernel)",
   "language": "python",
   "name": "python3"
  },
  "language_info": {
   "codemirror_mode": {
    "name": "ipython",
    "version": 3
   },
   "file_extension": ".py",
   "mimetype": "text/x-python",
   "name": "python",
   "nbconvert_exporter": "python",
   "pygments_lexer": "ipython3",
   "version": "3.10.6"
  }
 },
 "nbformat": 4,
 "nbformat_minor": 4
}
