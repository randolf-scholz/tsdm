{
 "cells": [
  {
   "cell_type": "markdown",
   "metadata": {},
   "source": [
    "# MIMIC 4 data - dataset construction inputevents"
   ]
  },
  {
   "cell_type": "markdown",
   "metadata": {},
   "source": [
    "Code taken from GRU-ODE-Bayes preprocessing; simplified and adapted for MIMIC 4 1.0"
   ]
  },
  {
   "cell_type": "code",
   "execution_count": null,
   "metadata": {
    "execution": {
     "iopub.execute_input": "2022-09-12T17:56:46.718523Z",
     "iopub.status.busy": "2022-09-12T17:56:46.718275Z",
     "iopub.status.idle": "2022-09-12T17:56:47.023796Z",
     "shell.execute_reply": "2022-09-12T17:56:47.023420Z",
     "shell.execute_reply.started": "2022-09-12T17:56:46.718481Z"
    },
    "tags": []
   },
   "outputs": [],
   "source": [
    "import gzip\n",
    "from pathlib import Path\n",
    "from zipfile import ZipFile\n",
    "\n",
    "import numpy as np\n",
    "import pandas as pd\n",
    "import pyarrow\n",
    "import pyarrow.csv\n",
    "import pyarrow.parquet"
   ]
  },
  {
   "cell_type": "markdown",
   "metadata": {
    "tags": []
   },
   "source": [
    "# Load `inputevents` and `inputitems` tables"
   ]
  },
  {
   "cell_type": "markdown",
   "metadata": {},
   "source": [
    "## Table Schema"
   ]
  },
  {
   "cell_type": "code",
   "execution_count": null,
   "metadata": {
    "execution": {
     "iopub.execute_input": "2022-09-12T17:56:47.024692Z",
     "iopub.status.busy": "2022-09-12T17:56:47.024456Z",
     "iopub.status.idle": "2022-09-12T17:56:47.028904Z",
     "shell.execute_reply": "2022-09-12T17:56:47.028438Z",
     "shell.execute_reply.started": "2022-09-12T17:56:47.024680Z"
    },
    "tags": []
   },
   "outputs": [],
   "source": [
    "rawdata_file = Path.cwd() / \"mimic-iv-1.0.zip\"\n",
    "dataset_path = Path.cwd() / \"processed\"\n",
    "rawdata_path = Path.cwd() / \"raw\"\n",
    "\n",
    "\n",
    "files = {\n",
    "    \"inputevents\": \"mimic-iv-1.0/icu/inputevents.csv.gz\",\n",
    "    \"inputitems\": \"mimic-iv-1.0/icu/d_items.csv.gz\",\n",
    "}\n",
    "\n",
    "CATEGORY = pyarrow.dictionary(\"int32\", \"string\")\n",
    "\n",
    "column_types = {\n",
    "    \"inputevents\": {\n",
    "        \"amount\": \"float32\",\n",
    "        \"amountuom\": CATEGORY,\n",
    "        \"cancelreason\": \"int32\",\n",
    "        \"continueinnextdept\": \"bool\",\n",
    "        \"endtime\": \"timestamp[s]\",\n",
    "        \"hadm_id\": \"int32\",\n",
    "        \"isopenbag\": \"bool\",\n",
    "        \"itemid\": \"int32\",\n",
    "        \"linkorderid\": \"int32\",\n",
    "        \"ordercategorydescription\": CATEGORY,\n",
    "        \"ordercategoryname\": CATEGORY,\n",
    "        \"ordercomponenttypedescription\": CATEGORY,\n",
    "        \"orderid\": \"int32\",\n",
    "        \"originalamount\": \"float32\",\n",
    "        \"originalrate\": \"float32\",\n",
    "        \"patientweight\": \"float32\",\n",
    "        \"rate\": \"float32\",\n",
    "        \"rateuom\": CATEGORY,\n",
    "        \"secondaryordercategoryname\": CATEGORY,\n",
    "        \"starttime\": \"timestamp[s]\",\n",
    "        \"statusdescription\": CATEGORY,\n",
    "        \"stay_id\": \"int32\",\n",
    "        \"storetime\": \"timestamp[s]\",\n",
    "        \"subject_id\": \"int32\",\n",
    "        \"totalamount\": \"float32\",\n",
    "        \"totalamountuom\": CATEGORY,\n",
    "    },\n",
    "    \"inputitems\": {\n",
    "        \"abbreviation\": CATEGORY,\n",
    "        \"category\": CATEGORY,\n",
    "        \"highnormalvalue\": \"float32\",\n",
    "        \"itemid\": \"int32\",\n",
    "        \"label\": CATEGORY,\n",
    "        \"linksto\": CATEGORY,\n",
    "        \"lownormalvalue\": \"float32\",\n",
    "        \"param_type\": CATEGORY,\n",
    "        \"unitname\": CATEGORY,\n",
    "    },\n",
    "}"
   ]
  },
  {
   "cell_type": "markdown",
   "metadata": {},
   "source": [
    "## Load `Inputevents`"
   ]
  },
  {
   "cell_type": "code",
   "execution_count": null,
   "metadata": {
    "execution": {
     "iopub.execute_input": "2022-09-12T17:56:47.029813Z",
     "iopub.status.busy": "2022-09-12T17:56:47.029696Z",
     "iopub.status.idle": "2022-09-12T17:56:55.149931Z",
     "shell.execute_reply": "2022-09-12T17:56:55.149170Z",
     "shell.execute_reply.started": "2022-09-12T17:56:47.029803Z"
    },
    "tags": []
   },
   "outputs": [],
   "source": [
    "# shape: (10M, 26) ⇝ 0.3B values.\n",
    "key = \"inputevents\"\n",
    "with (\n",
    "    ZipFile(rawdata_file) as archive,\n",
    "    archive.open(files[key]) as compressed_file,\n",
    "    gzip.open(compressed_file) as file,\n",
    "):\n",
    "    inputevents = pyarrow.csv.read_csv(\n",
    "        file,\n",
    "        convert_options=pyarrow.csv.ConvertOptions(\n",
    "            column_types=column_types[key],\n",
    "            strings_can_be_null=True,\n",
    "            null_values=[\"\"],\n",
    "        ),\n",
    "    )\n",
    "inputevents.schema"
   ]
  },
  {
   "cell_type": "markdown",
   "metadata": {},
   "source": [
    "### Store and reload as pandas"
   ]
  },
  {
   "cell_type": "code",
   "execution_count": null,
   "metadata": {
    "execution": {
     "iopub.execute_input": "2022-09-12T17:56:55.150950Z",
     "iopub.status.busy": "2022-09-12T17:56:55.150748Z",
     "iopub.status.idle": "2022-09-12T17:57:06.967353Z",
     "shell.execute_reply": "2022-09-12T17:57:06.966719Z",
     "shell.execute_reply.started": "2022-09-12T17:56:55.150932Z"
    },
    "tags": []
   },
   "outputs": [],
   "source": [
    "pyarrow.parquet.write_table(inputevents, rawdata_path / f\"{key}.parquet\")\n",
    "inputevents = inputevents.to_pandas(self_destruct=True)\n",
    "pd.DataFrame({\"type\": inputevents.dtypes, \"uniques\": inputevents.nunique()})"
   ]
  },
  {
   "cell_type": "markdown",
   "metadata": {},
   "source": [
    "## Load `inputitems`"
   ]
  },
  {
   "cell_type": "code",
   "execution_count": null,
   "metadata": {
    "execution": {
     "iopub.execute_input": "2022-09-12T17:57:06.968987Z",
     "iopub.status.busy": "2022-09-12T17:57:06.968774Z",
     "iopub.status.idle": "2022-09-12T17:57:06.988774Z",
     "shell.execute_reply": "2022-09-12T17:57:06.988193Z",
     "shell.execute_reply.started": "2022-09-12T17:57:06.968972Z"
    },
    "tags": []
   },
   "outputs": [],
   "source": [
    "key = \"inputitems\"\n",
    "with (\n",
    "    ZipFile(rawdata_file) as archive,\n",
    "    archive.open(files[key]) as compressed_file,\n",
    "    gzip.open(compressed_file) as file,\n",
    "):\n",
    "    inputitems = pyarrow.csv.read_csv(\n",
    "        file,\n",
    "        convert_options=pyarrow.csv.ConvertOptions(\n",
    "            column_types=column_types[key],\n",
    "            strings_can_be_null=True,\n",
    "            null_values=[\"\"],\n",
    "        ),\n",
    "    )\n",
    "\n",
    "inputitems.schema"
   ]
  },
  {
   "cell_type": "markdown",
   "metadata": {},
   "source": [
    "### Store and reload as pandas"
   ]
  },
  {
   "cell_type": "code",
   "execution_count": null,
   "metadata": {
    "execution": {
     "iopub.execute_input": "2022-09-12T17:57:06.989463Z",
     "iopub.status.busy": "2022-09-12T17:57:06.989290Z",
     "iopub.status.idle": "2022-09-12T17:57:07.017423Z",
     "shell.execute_reply": "2022-09-12T17:57:07.016704Z",
     "shell.execute_reply.started": "2022-09-12T17:57:06.989443Z"
    }
   },
   "outputs": [],
   "source": [
    "pyarrow.parquet.write_table(inputitems, rawdata_path / f\"{key}.parquet\")\n",
    "inputitems = inputitems.to_pandas(self_destruct=True)\n",
    "inputitems"
   ]
  },
  {
   "cell_type": "code",
   "execution_count": null,
   "metadata": {
    "execution": {
     "iopub.execute_input": "2022-09-12T17:57:07.018339Z",
     "iopub.status.busy": "2022-09-12T17:57:07.018162Z",
     "iopub.status.idle": "2022-09-12T17:57:07.031076Z",
     "shell.execute_reply": "2022-09-12T17:57:07.030611Z",
     "shell.execute_reply.started": "2022-09-12T17:57:07.018324Z"
    }
   },
   "outputs": [],
   "source": [
    "inputitems"
   ]
  },
  {
   "cell_type": "markdown",
   "metadata": {},
   "source": [
    "# Select relevant Subset of Data"
   ]
  },
  {
   "cell_type": "markdown",
   "metadata": {},
   "source": [
    "## Only keep selected Admissions"
   ]
  },
  {
   "cell_type": "code",
   "execution_count": null,
   "metadata": {
    "execution": {
     "iopub.execute_input": "2022-09-12T17:57:07.032118Z",
     "iopub.status.busy": "2022-09-12T17:57:07.031894Z",
     "iopub.status.idle": "2022-09-12T17:57:07.311729Z",
     "shell.execute_reply": "2022-09-12T17:57:07.311032Z",
     "shell.execute_reply.started": "2022-09-12T17:57:07.032103Z"
    },
    "tags": []
   },
   "outputs": [],
   "source": [
    "admissions = pd.read_parquet(dataset_path / \"admissions_processed.parquet\")\n",
    "mask = inputevents[\"hadm_id\"].isin(admissions[\"hadm_id\"])\n",
    "inputevents = inputevents[mask]\n",
    "print(f\"Number of events remaining: {inputevents.shape}\")\n",
    "print(f\"Number of patients remaining: {inputevents['subject_id'].nunique()}\")"
   ]
  },
  {
   "cell_type": "markdown",
   "metadata": {
    "execution": {
     "iopub.execute_input": "2022-09-09T17:34:10.168103Z",
     "iopub.status.busy": "2022-09-09T17:34:10.167815Z",
     "iopub.status.idle": "2022-09-09T17:34:10.193256Z",
     "shell.execute_reply": "2022-09-09T17:34:10.192617Z",
     "shell.execute_reply.started": "2022-09-09T17:34:10.168084Z"
    },
    "tags": []
   },
   "source": [
    "## Only keep columns of interest"
   ]
  },
  {
   "cell_type": "code",
   "execution_count": null,
   "metadata": {
    "execution": {
     "iopub.execute_input": "2022-09-12T17:57:07.312709Z",
     "iopub.status.busy": "2022-09-12T17:57:07.312511Z",
     "iopub.status.idle": "2022-09-12T17:57:07.344606Z",
     "shell.execute_reply": "2022-09-12T17:57:07.343916Z",
     "shell.execute_reply.started": "2022-09-12T17:57:07.312694Z"
    },
    "tags": []
   },
   "outputs": [],
   "source": [
    "selected_columns = [\n",
    "    \"amount\",\n",
    "    \"amountuom\",\n",
    "    \"endtime\",\n",
    "    \"hadm_id\",\n",
    "    \"itemid\",\n",
    "    \"ordercategorydescription\",\n",
    "    \"patientweight\",\n",
    "    \"rate\",\n",
    "    \"rateuom\",\n",
    "    \"starttime\",\n",
    "    \"subject_id\",\n",
    "]\n",
    "\n",
    "inputevents = inputevents[selected_columns]"
   ]
  },
  {
   "cell_type": "markdown",
   "metadata": {},
   "source": [
    "## Only keep common items"
   ]
  },
  {
   "cell_type": "code",
   "execution_count": null,
   "metadata": {
    "execution": {
     "iopub.execute_input": "2022-09-12T17:57:07.345477Z",
     "iopub.status.busy": "2022-09-12T17:57:07.345301Z",
     "iopub.status.idle": "2022-09-12T17:57:07.667066Z",
     "shell.execute_reply": "2022-09-12T17:57:07.666356Z",
     "shell.execute_reply.started": "2022-09-12T17:57:07.345462Z"
    },
    "tags": []
   },
   "outputs": [],
   "source": [
    "inputevents = pd.merge(inputevents, inputitems, on=\"itemid\")\n",
    "print(f\"Number of events remaining: {inputevents.shape}\")\n",
    "print(f\"Number of patients remaining: {inputevents['subject_id'].nunique()}\")"
   ]
  },
  {
   "cell_type": "code",
   "execution_count": null,
   "metadata": {
    "execution": {
     "iopub.execute_input": "2022-09-12T17:57:07.667946Z",
     "iopub.status.busy": "2022-09-12T17:57:07.667795Z",
     "iopub.status.idle": "2022-09-12T17:57:08.031917Z",
     "shell.execute_reply": "2022-09-12T17:57:08.031203Z",
     "shell.execute_reply.started": "2022-09-12T17:57:07.667933Z"
    },
    "tags": []
   },
   "outputs": [],
   "source": [
    "item_freq = inputevents.groupby(\"label\")[\"subject_id\"].nunique()\n",
    "common_items = item_freq.sort_values(ascending=False).index[:50]\n",
    "inputevents = inputevents[inputevents[\"label\"].isin(common_items)]\n",
    "print(f\"Number of events remaining: {inputevents.shape}\")\n",
    "print(f\"Number of patients remaining: {inputevents['subject_id'].nunique()}\")"
   ]
  },
  {
   "cell_type": "code",
   "execution_count": null,
   "metadata": {
    "execution": {
     "iopub.execute_input": "2022-09-12T17:57:08.032817Z",
     "iopub.status.busy": "2022-09-12T17:57:08.032658Z",
     "iopub.status.idle": "2022-09-12T17:57:10.086829Z",
     "shell.execute_reply": "2022-09-12T17:57:10.086007Z",
     "shell.execute_reply.started": "2022-09-12T17:57:08.032804Z"
    },
    "tags": []
   },
   "outputs": [],
   "source": [
    "with pd.option_context(\"display.max_rows\", None, \"display.max_columns\", None):\n",
    "    print(inputevents.groupby(\"label\")[\"amountuom\"].value_counts())"
   ]
  },
  {
   "cell_type": "markdown",
   "metadata": {},
   "source": [
    "# Clean up bad data entries"
   ]
  },
  {
   "cell_type": "markdown",
   "metadata": {},
   "source": [
    "## Only keep drugs with correct dosage"
   ]
  },
  {
   "cell_type": "code",
   "execution_count": null,
   "metadata": {
    "execution": {
     "iopub.execute_input": "2022-09-12T17:57:10.087903Z",
     "iopub.status.busy": "2022-09-12T17:57:10.087756Z",
     "iopub.status.idle": "2022-09-12T17:57:10.268706Z",
     "shell.execute_reply": "2022-09-12T17:57:10.268079Z",
     "shell.execute_reply.started": "2022-09-12T17:57:10.087889Z"
    },
    "tags": []
   },
   "outputs": [],
   "source": [
    "check_amountuom = {  # MIMIC-III and MIMIC-IV\n",
    "    \"Cefazolin\": \"dose\",\n",
    "    \"Cefepime\": \"dose\",\n",
    "    \"Ceftriaxone\": \"dose\",\n",
    "    \"Ciprofloxacin\": \"dose\",\n",
    "    \"Famotidine (Pepcid)\": \"dose\",\n",
    "    \"Fentanyl (Concentrate)\": \"mg\",\n",
    "    \"Heparin Sodium (Prophylaxis)\": \"dose\",\n",
    "    \"Hydromorphone (Dilaudid)\": \"mg\",\n",
    "    \"Magnesium Sulfate\": \"grams\",\n",
    "    \"Propofol\": \"mg\",\n",
    "    \"Metoprolol\": \"mg\",\n",
    "    \"Piperacillin/Tazobactam (Zosyn)\": \"dose\",\n",
    "    \"Metronidazole\": \"dose\",\n",
    "    \"Ranitidine (Prophylaxis)\": \"dose\",\n",
    "    \"Vancomycin\": \"dose\",\n",
    "    \"Pantoprazole (Protonix\": \"dose\",\n",
    "} | {  # MIMIC-IV specific\n",
    "    \"Acetaminophen-IV\": \"mg\",\n",
    "    \"D5 1/2NS\": \"ml\",\n",
    "    \"LR\": \"ml\",\n",
    "    \"NaCl 0.9%\": \"ml\",\n",
    "    \"OR Crystalloid Intake\": \"ml\",\n",
    "    \"PO Intake\": \"ml\",\n",
    "    \"Pre-Admission/Non-ICU Intake\": \"ml\",\n",
    "}\n",
    "\n",
    "MASK = pd.Series(False, index=inputevents.index)\n",
    "\n",
    "for drug, unit in check_amountuom.items():\n",
    "    mask = (inputevents[\"label\"] == drug) & (inputevents[\"amountuom\"] != unit)\n",
    "    print(f\"Removing {mask.sum():5d} entries - bad data in {drug} (drop {unit})\")\n",
    "    MASK |= mask\n",
    "\n",
    "inputevents = inputevents[~MASK].copy()"
   ]
  },
  {
   "cell_type": "markdown",
   "metadata": {},
   "source": [
    "## Convert to standard units"
   ]
  },
  {
   "cell_type": "code",
   "execution_count": null,
   "metadata": {
    "execution": {
     "iopub.execute_input": "2022-09-12T17:57:10.270604Z",
     "iopub.status.busy": "2022-09-12T17:57:10.270456Z",
     "iopub.status.idle": "2022-09-12T17:57:10.297350Z",
     "shell.execute_reply": "2022-09-12T17:57:10.296491Z",
     "shell.execute_reply.started": "2022-09-12T17:57:10.270591Z"
    },
    "tags": []
   },
   "outputs": [],
   "source": [
    "key = \"Fentanyl (Concentrate)\"\n",
    "mask = (inputevents[\"label\"] == key) & (inputevents[\"amountuom\"] == \"mg\")\n",
    "print(f\"Modifying {mask.sum():5d} entries - bad data in {key} (remove the non mg)\")\n",
    "inputevents.loc[mask, \"amount\"] *= 1000\n",
    "inputevents.loc[mask, \"amountuom\"] = \"mcg\"\n",
    "\n",
    "\n",
    "key = \"Fentanyl\"\n",
    "mask = (inputevents[\"label\"] == key) & (inputevents[\"amountuom\"] == \"mg\")\n",
    "print(f\"Modifying {mask.sum():5d} entries - bad data in {key} (put the mg to mcg)\")\n",
    "inputevents.loc[mask, \"amount\"] *= 1000\n",
    "inputevents.loc[mask, \"amountuom\"] = \"mcg\"\n",
    "\n",
    "\n",
    "key = \"Pantoprazole (Protonix)\"\n",
    "mask = (inputevents[\"label\"] == key) & (\n",
    "    inputevents[\"ordercategorydescription\"] == \"Continuous Med\"\n",
    ")\n",
    "print(\n",
    "    f\"Modifying {mask.sum():5d} entries - bad data in {key} (divide in two)\"\n",
    "    \"drug shot or continuous treatment and create a new item id for the continuous version\"\n",
    ")\n",
    "inputevents[\"label\"] = inputevents[\"label\"].cat.add_categories(\n",
    "    \"Pantoprazole (Protonix) Continuous\"\n",
    ")\n",
    "inputevents.loc[mask, \"label\"] = \"Pantoprazole (Protonix) Continuous\"\n",
    "inputevents.loc[mask, \"itemid\"] = 2217441\n",
    "\n",
    "\n",
    "key = \"Dexmedetomidine (Precedex)\"\n",
    "mask = (inputevents[\"label\"] == key) & (inputevents[\"amountuom\"] == \"mcg\")\n",
    "print(f\"Modifying {mask.sum():5d} entries - bad data in {key} (cast all to mg)\")\n",
    "inputevents.loc[mask, \"amount\"] /= 1000\n",
    "inputevents.loc[mask, \"amountuom\"] = \"mg\""
   ]
  },
  {
   "cell_type": "code",
   "execution_count": null,
   "metadata": {
    "execution": {
     "iopub.execute_input": "2022-09-12T17:57:10.298082Z",
     "iopub.status.busy": "2022-09-12T17:57:10.297911Z",
     "iopub.status.idle": "2022-09-12T17:57:12.141490Z",
     "shell.execute_reply": "2022-09-12T17:57:12.140768Z",
     "shell.execute_reply.started": "2022-09-12T17:57:10.298069Z"
    },
    "tags": []
   },
   "outputs": [],
   "source": [
    "with pd.option_context(\"display.max_rows\", None, \"display.max_columns\", None):\n",
    "    print(inputevents.groupby(\"label\")[\"amountuom\"].value_counts())"
   ]
  },
  {
   "cell_type": "markdown",
   "metadata": {},
   "source": [
    "## Validate prescription rates"
   ]
  },
  {
   "cell_type": "code",
   "execution_count": null,
   "metadata": {
    "execution": {
     "iopub.execute_input": "2022-09-12T17:57:12.142347Z",
     "iopub.status.busy": "2022-09-12T17:57:12.142200Z",
     "iopub.status.idle": "2022-09-12T17:57:12.145490Z",
     "shell.execute_reply": "2022-09-12T17:57:12.144666Z",
     "shell.execute_reply.started": "2022-09-12T17:57:12.142332Z"
    },
    "tags": []
   },
   "outputs": [],
   "source": [
    "check_rateuom = {\n",
    "    \"Dextrose 5%\": \"mL/hour\",\n",
    "    \"Magnesium Sulfate (Bolus)\": \"mL/hour\",\n",
    "    \"NaCl 0.9%\": \"mL/hour\",\n",
    "    \"Piggyback\": \"mL/hour\",\n",
    "    \"Packed Red Blood Cells\": \"mL/hour\",\n",
    "    \"Acetaminophen-IV\": \"mg/min\",\n",
    "    \"Fentanyl (Concentrate)\": \"mcg/hour\",\n",
    "    \"Phenylephrine\": \"mcg/kg/min\",\n",
    "    \"Sterile Water\": \"mL/hour\",\n",
    "}"
   ]
  },
  {
   "cell_type": "code",
   "execution_count": null,
   "metadata": {
    "execution": {
     "iopub.execute_input": "2022-09-12T17:57:12.146277Z",
     "iopub.status.busy": "2022-09-12T17:57:12.146141Z",
     "iopub.status.idle": "2022-09-12T17:57:12.314661Z",
     "shell.execute_reply": "2022-09-12T17:57:12.313997Z",
     "shell.execute_reply.started": "2022-09-12T17:57:12.146261Z"
    },
    "tags": []
   },
   "outputs": [],
   "source": [
    "MASK = pd.Series(False, index=inputevents.index)\n",
    "\n",
    "for drug, unit in check_rateuom.items():\n",
    "    mask = (inputevents[\"label\"] == drug) & (inputevents[\"rateuom\"] != unit)\n",
    "    print(f\"Removing {mask.sum():5d} entries - bad data in {drug} (drop {unit})\")\n",
    "    MASK |= mask\n",
    "\n",
    "inputevents = inputevents[~MASK].copy()"
   ]
  },
  {
   "cell_type": "markdown",
   "metadata": {
    "execution": {
     "iopub.execute_input": "2022-09-12T14:53:24.968865Z",
     "iopub.status.busy": "2022-09-12T14:53:24.968728Z",
     "iopub.status.idle": "2022-09-12T14:53:26.729553Z",
     "shell.execute_reply": "2022-09-12T14:53:26.728830Z",
     "shell.execute_reply.started": "2022-09-12T14:53:24.968852Z"
    },
    "tags": []
   },
   "source": [
    "### Check if a single unit per drug"
   ]
  },
  {
   "cell_type": "code",
   "execution_count": null,
   "metadata": {
    "execution": {
     "iopub.execute_input": "2022-09-12T17:57:12.315592Z",
     "iopub.status.busy": "2022-09-12T17:57:12.315446Z",
     "iopub.status.idle": "2022-09-12T17:57:13.700651Z",
     "shell.execute_reply": "2022-09-12T17:57:13.700223Z",
     "shell.execute_reply.started": "2022-09-12T17:57:12.315580Z"
    },
    "tags": []
   },
   "outputs": [],
   "source": [
    "for drug, frame in inputevents.groupby(\"label\"):\n",
    "    usage_by_unit = frame[\"rateuom\"].value_counts()\n",
    "    assert (usage_by_unit != 0).sum() in (0, 1)"
   ]
  },
  {
   "cell_type": "markdown",
   "metadata": {},
   "source": [
    "## Validate computed amounts agree with reported amounts"
   ]
  },
  {
   "cell_type": "code",
   "execution_count": null,
   "metadata": {
    "execution": {
     "iopub.execute_input": "2022-09-12T17:57:13.701374Z",
     "iopub.status.busy": "2022-09-12T17:57:13.701223Z",
     "iopub.status.idle": "2022-09-12T17:57:13.866142Z",
     "shell.execute_reply": "2022-09-12T17:57:13.865279Z",
     "shell.execute_reply.started": "2022-09-12T17:57:13.701362Z"
    },
    "tags": []
   },
   "outputs": [],
   "source": [
    "duration = inputevents.endtime - inputevents.starttime\n",
    "total_hours = duration / np.timedelta64(1, \"h\")\n",
    "units = inputevents[\"rateuom\"].dropna().unique()\n",
    "\n",
    "for unit in units:\n",
    "    mask = inputevents[\"rate\"].notnull() & (inputevents[\"rateuom\"] == unit)\n",
    "    df = inputevents[mask]\n",
    "    time = total_hours[mask] * 60 ** (\"min\" in unit)\n",
    "\n",
    "    amount_units = df[\"amountuom\"].unique()\n",
    "    assert len(amount_units) == 1\n",
    "\n",
    "    if \"kg\" in unit:\n",
    "        amount = df[\"rate\"] * time * df[\"patientweight\"]\n",
    "        discrepancy = amount / 1000 - df[\"amount\"]\n",
    "    else:\n",
    "        amount = df[\"rate\"] * time\n",
    "        discrepancy = amount - df[\"amount\"]\n",
    "\n",
    "    print(f\"{unit=:12} {amount_units[0]=:8} {discrepancy.max()=:.6f}\")\n",
    "    assert all(discrepancy < 0.01)"
   ]
  },
  {
   "cell_type": "markdown",
   "metadata": {},
   "source": [
    "# Create data splits"
   ]
  },
  {
   "cell_type": "code",
   "execution_count": null,
   "metadata": {
    "execution": {
     "iopub.execute_input": "2022-09-12T17:57:13.866864Z",
     "iopub.status.busy": "2022-09-12T17:57:13.866705Z",
     "iopub.status.idle": "2022-09-12T17:57:13.967453Z",
     "shell.execute_reply": "2022-09-12T17:57:13.966750Z",
     "shell.execute_reply.started": "2022-09-12T17:57:13.866852Z"
    },
    "tags": []
   },
   "outputs": [],
   "source": [
    "FREQ = pd.Timedelta(\"30min\")\n",
    "has_rate = inputevents[\"rate\"].notnull()\n",
    "is_early = duration <= FREQ\n",
    "\n",
    "splits = {}\n",
    "\n",
    "# The first dataframe contains the entries with no rate but with extended duration inputs (over 0.5 hour)\n",
    "splits[0] = inputevents[~has_rate & ~is_early].copy()\n",
    "\n",
    "# The second dataframe contains the entries with no rate and low duration entries (<0.5hour)\n",
    "splits[1] = inputevents[~has_rate & is_early].copy()\n",
    "\n",
    "# The third dataframe contains the entries with a rate and extended duration inputs (over 0.5 hour)\n",
    "splits[2] = inputevents[has_rate & ~is_early].copy()\n",
    "\n",
    "# The forth dataframe contains the entries with a rate and low duration entries (< 0.5 hour)\n",
    "splits[3] = inputevents[has_rate & is_early].copy()\n",
    "\n",
    "# Check if split is complete\n",
    "assert sum(map(len, splits.values())) == len(inputevents)"
   ]
  },
  {
   "cell_type": "code",
   "execution_count": null,
   "metadata": {
    "execution": {
     "iopub.execute_input": "2022-09-12T17:57:13.968167Z",
     "iopub.status.busy": "2022-09-12T17:57:13.968024Z",
     "iopub.status.idle": "2022-09-12T17:57:15.181135Z",
     "shell.execute_reply": "2022-09-12T17:57:15.180639Z",
     "shell.execute_reply.started": "2022-09-12T17:57:13.968155Z"
    },
    "tags": []
   },
   "outputs": [],
   "source": [
    "# We then create the admninistration time as a shifted version of the STARTTIME.\n",
    "\n",
    "# preprocess late split\n",
    "df = splits[0]\n",
    "df[\"Repeat\"] = (duration[df.index] / FREQ).apply(np.ceil).astype(\"Int32\")\n",
    "df = df.reindex(df.index.repeat(df[\"Repeat\"]))\n",
    "step = df[\"starttime\"].groupby(level=0).cumcount()\n",
    "df[\"charttime\"] = df[\"starttime\"] + step * FREQ\n",
    "df[\"amount\"] = (df[\"amount\"] / df[\"Repeat\"]).astype(\"float32\")\n",
    "splits[0] = df\n",
    "\n",
    "# preprocess other late split\n",
    "df = splits[2]\n",
    "df[\"Repeat\"] = (duration[df.index] / FREQ).apply(np.ceil).astype(\"Int32\")\n",
    "df = df.reindex(df.index.repeat(df[\"Repeat\"]))\n",
    "step = df[\"starttime\"].groupby(level=0).cumcount()\n",
    "df[\"charttime\"] = df[\"starttime\"] + step * FREQ\n",
    "df[\"amount\"] = (df[\"amount\"] / df[\"Repeat\"]).astype(\"float32\")\n",
    "splits[2] = df\n",
    "\n",
    "# For the early splits, we do not add repeats.\n",
    "splits[1][\"charttime\"] = splits[1][\"starttime\"]\n",
    "splits[3][\"charttime\"] = splits[3][\"starttime\"]"
   ]
  },
  {
   "cell_type": "markdown",
   "metadata": {
    "execution": {
     "iopub.execute_input": "2022-09-12T14:53:28.440744Z",
     "iopub.status.busy": "2022-09-12T14:53:28.440557Z",
     "iopub.status.idle": "2022-09-12T14:53:37.217190Z",
     "shell.execute_reply": "2022-09-12T14:53:37.216582Z",
     "shell.execute_reply.started": "2022-09-12T14:53:28.440722Z"
    },
    "tags": []
   },
   "source": [
    "### Merge splits"
   ]
  },
  {
   "cell_type": "code",
   "execution_count": null,
   "metadata": {
    "execution": {
     "iopub.execute_input": "2022-09-12T17:57:15.181911Z",
     "iopub.status.busy": "2022-09-12T17:57:15.181747Z",
     "iopub.status.idle": "2022-09-12T17:57:22.860228Z",
     "shell.execute_reply": "2022-09-12T17:57:22.859385Z",
     "shell.execute_reply.started": "2022-09-12T17:57:15.181898Z"
    },
    "tags": []
   },
   "outputs": [],
   "source": [
    "# The result is a dataset with discrete inputs for each treatment.\n",
    "inputevents = pd.concat(splits, names=[\"split\"])\n",
    "inputevents = inputevents.reset_index(level=1, drop=True)\n",
    "inputevents = inputevents.reset_index()\n",
    "inputevents = inputevents.set_index([\"split\", \"subject_id\", \"charttime\", \"label\"])\n",
    "inputevents = inputevents.sort_index()\n",
    "inputevents"
   ]
  },
  {
   "cell_type": "markdown",
   "metadata": {},
   "source": [
    "# Serialize Pre-processed DataFrame"
   ]
  },
  {
   "cell_type": "code",
   "execution_count": null,
   "metadata": {
    "execution": {
     "iopub.execute_input": "2022-09-12T17:57:22.861930Z",
     "iopub.status.busy": "2022-09-12T17:57:22.861508Z",
     "iopub.status.idle": "2022-09-12T17:57:28.850918Z",
     "shell.execute_reply": "2022-09-12T17:57:28.850378Z",
     "shell.execute_reply.started": "2022-09-12T17:57:22.861888Z"
    },
    "tags": []
   },
   "outputs": [],
   "source": [
    "# Clean categories\n",
    "def clean_categories(df):\n",
    "    for col in df:\n",
    "        if df[col].dtype == \"category\":\n",
    "            df[col] = df[col].cat.remove_unused_categories()\n",
    "    return df\n",
    "\n",
    "\n",
    "inputevents = clean_categories(inputevents)\n",
    "inputevents.reset_index().to_parquet(dataset_path / \"inputevents_processed.parquet\")"
   ]
  }
 ],
 "metadata": {
  "kernelspec": {
   "display_name": "Python 3 (ipykernel)",
   "language": "python",
   "name": "python3"
  },
  "language_info": {
   "codemirror_mode": {
    "name": "ipython",
    "version": 3
   },
   "file_extension": ".py",
   "mimetype": "text/x-python",
   "name": "python",
   "nbconvert_exporter": "python",
   "pygments_lexer": "ipython3",
   "version": "3.10.6"
  }
 },
 "nbformat": 4,
 "nbformat_minor": 4
}
