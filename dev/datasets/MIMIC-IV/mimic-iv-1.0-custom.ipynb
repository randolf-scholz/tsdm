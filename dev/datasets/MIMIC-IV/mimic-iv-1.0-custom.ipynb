{
 "cells": [
  {
   "cell_type": "code",
   "execution_count": null,
   "metadata": {
    "execution": {
     "iopub.execute_input": "2023-04-07T11:01:07.973897Z",
     "iopub.status.busy": "2023-04-07T11:01:07.973679Z",
     "iopub.status.idle": "2023-04-07T11:01:07.983790Z",
     "shell.execute_reply": "2023-04-07T11:01:07.982761Z",
     "shell.execute_reply.started": "2023-04-07T11:01:07.973872Z"
    },
    "tags": []
   },
   "outputs": [],
   "source": [
    "import resource\n",
    "\n",
    "\n",
    "def limit_memory(maxsize):\n",
    "    soft, hard = resource.getrlimit(resource.RLIMIT_AS)\n",
    "    # MEMORY LIMIT IN BYTES\n",
    "    resource.setrlimit(resource.RLIMIT_AS, (maxsize, hard))\n",
    "\n",
    "\n",
    "# IN GIGABYTE\n",
    "limit_memory(30 * 1024 * 1024 * 1024)"
   ]
  },
  {
   "cell_type": "code",
   "execution_count": null,
   "metadata": {
    "execution": {
     "iopub.execute_input": "2023-04-07T11:01:07.985905Z",
     "iopub.status.busy": "2023-04-07T11:01:07.985581Z",
     "iopub.status.idle": "2023-04-07T11:01:13.930745Z",
     "shell.execute_reply": "2023-04-07T11:01:13.930052Z",
     "shell.execute_reply.started": "2023-04-07T11:01:07.985884Z"
    },
    "pycharm": {
     "name": "#%%\n"
    },
    "tags": []
   },
   "outputs": [],
   "source": [
    "%config InteractiveShell.ast_node_interactivity='last_expr_or_assign'  # always print last expr.\n",
    "%config InlineBackend.figure_format = 'svg'\n",
    "%load_ext autoreload\n",
    "%autoreload 2\n",
    "%matplotlib inline\n",
    "\n",
    "import gzip\n",
    "from pathlib import Path\n",
    "from zipfile import ZipFile\n",
    "\n",
    "import pandas as pd\n",
    "import pyarrow\n",
    "from pandas import DataFrame\n",
    "from tqdm.autonotebook import tqdm\n",
    "\n",
    "from tsdm.datasets import MIMIC_IV"
   ]
  },
  {
   "cell_type": "code",
   "execution_count": null,
   "metadata": {
    "execution": {
     "iopub.execute_input": "2023-04-07T11:01:23.294135Z",
     "iopub.status.busy": "2023-04-07T11:01:23.293859Z",
     "iopub.status.idle": "2023-04-07T11:01:23.337514Z",
     "shell.execute_reply": "2023-04-07T11:01:23.337035Z",
     "shell.execute_reply.started": "2023-04-07T11:01:23.294122Z"
    },
    "tags": []
   },
   "outputs": [],
   "source": [
    "ds = MIMIC_IV(initialize=False)\n",
    "ds.rawdata_paths"
   ]
  },
  {
   "cell_type": "code",
   "execution_count": null,
   "metadata": {
    "execution": {
     "iopub.execute_input": "2023-04-07T11:01:24.861738Z",
     "iopub.status.busy": "2023-04-07T11:01:24.861356Z",
     "iopub.status.idle": "2023-04-07T11:01:24.913110Z",
     "shell.execute_reply": "2023-04-07T11:01:24.912659Z",
     "shell.execute_reply.started": "2023-04-07T11:01:24.861719Z"
    },
    "tags": []
   },
   "outputs": [],
   "source": [
    "filelist = [\n",
    "    \"mimic-iv-1.0/LICENSE.txt\",\n",
    "    \"mimic-iv-1.0/SHA256SUMS.txt\",\n",
    "    \"mimic-iv-1.0/core/admissions.csv.gz\",\n",
    "    \"mimic-iv-1.0/core/patients.csv.gz\",\n",
    "    \"mimic-iv-1.0/core/transfers.csv.gz\",\n",
    "    \"mimic-iv-1.0/hosp/d_hcpcs.csv.gz\",\n",
    "    \"mimic-iv-1.0/hosp/d_icd_diagnoses.csv.gz\",\n",
    "    \"mimic-iv-1.0/hosp/d_icd_procedures.csv.gz\",\n",
    "    \"mimic-iv-1.0/hosp/d_labitems.csv.gz\",\n",
    "    \"mimic-iv-1.0/hosp/diagnoses_icd.csv.gz\",\n",
    "    \"mimic-iv-1.0/hosp/drgcodes.csv.gz\",\n",
    "    \"mimic-iv-1.0/hosp/emar.csv.gz\",\n",
    "    \"mimic-iv-1.0/hosp/emar_detail.csv.gz\",\n",
    "    \"mimic-iv-1.0/hosp/hcpcsevents.csv.gz\",\n",
    "    \"mimic-iv-1.0/hosp/labevents.csv.gz\",\n",
    "    \"mimic-iv-1.0/hosp/microbiologyevents.csv.gz\",\n",
    "    \"mimic-iv-1.0/hosp/pharmacy.csv.gz\",\n",
    "    \"mimic-iv-1.0/hosp/poe.csv.gz\",\n",
    "    \"mimic-iv-1.0/hosp/poe_detail.csv.gz\",\n",
    "    \"mimic-iv-1.0/hosp/prescriptions.csv.gz\",\n",
    "    \"mimic-iv-1.0/hosp/procedures_icd.csv.gz\",\n",
    "    \"mimic-iv-1.0/hosp/services.csv.gz\",\n",
    "    \"mimic-iv-1.0/icu/chartevents.csv.gz\",\n",
    "    \"mimic-iv-1.0/icu/d_items.csv.gz\",\n",
    "    \"mimic-iv-1.0/icu/datetimeevents.csv.gz\",\n",
    "    \"mimic-iv-1.0/icu/icustays.csv.gz\",\n",
    "    \"mimic-iv-1.0/icu/inputevents.csv.gz\",\n",
    "    \"mimic-iv-1.0/icu/outputevents.csv.gz\",\n",
    "    \"mimic-iv-1.0/icu/procedureevents.csv.gz\",\n",
    "]"
   ]
  },
  {
   "cell_type": "code",
   "execution_count": null,
   "metadata": {
    "execution": {
     "iopub.execute_input": "2023-04-07T11:02:56.971537Z",
     "iopub.status.busy": "2023-04-07T11:02:56.971041Z",
     "iopub.status.idle": "2023-04-07T11:02:57.005806Z",
     "shell.execute_reply": "2023-04-07T11:02:57.005368Z",
     "shell.execute_reply.started": "2023-04-07T11:02:56.971524Z"
    },
    "tags": []
   },
   "outputs": [],
   "source": [
    "PATH = \"mimic-iv-2.2.zip\"\n",
    "\n",
    "with ZipFile(PATH, \"r\") as file:\n",
    "    # if not file.namelist() == filelist:\n",
    "    #     raise ValueError(\"The dataset contains unknown files!\")\n",
    "    # print(dir(file))\n",
    "\n",
    "    filesizes = {info.filename: info.file_size for info in file.infolist()}\n",
    "    print([x.filename for x in file.infolist()])"
   ]
  },
  {
   "cell_type": "code",
   "execution_count": null,
   "metadata": {
    "execution": {
     "iopub.execute_input": "2023-04-04T17:04:44.309208Z",
     "iopub.status.busy": "2023-04-04T17:04:44.309012Z",
     "iopub.status.idle": "2023-04-04T17:04:44.368451Z",
     "shell.execute_reply": "2023-04-04T17:04:44.367482Z",
     "shell.execute_reply.started": "2023-04-04T17:04:44.309191Z"
    },
    "tags": []
   },
   "outputs": [],
   "source": [
    "{key: filesizes[key] for key in sorted(filesizes, key=filesizes.get)}"
   ]
  },
  {
   "cell_type": "code",
   "execution_count": null,
   "metadata": {
    "execution": {
     "iopub.execute_input": "2023-04-04T17:04:44.369535Z",
     "iopub.status.busy": "2023-04-04T17:04:44.369365Z",
     "iopub.status.idle": "2023-04-04T17:04:44.426857Z",
     "shell.execute_reply": "2023-04-04T17:04:44.426400Z",
     "shell.execute_reply.started": "2023-04-04T17:04:44.369520Z"
    },
    "tags": []
   },
   "outputs": [],
   "source": [
    "with ZipFile(ds.rawdata_paths, \"r\") as file:\n",
    "    if not file.namelist() == filelist:\n",
    "        raise ValueError(\"The dataset contains unknown files!\")\n",
    "\n",
    "\n",
    "def load_gz_table(archive, fname, **options):\n",
    "    with archive.open(str(fname), \"r\") as compressed_file:\n",
    "        with gzip.open(compressed_file, \"r\") as file:\n",
    "            # table = pd.read_csv(file)\n",
    "            # return table\n",
    "            table = pyarrow.csv.read_csv(file, **options)\n",
    "            return table\n",
    "\n",
    "\n",
    "def load_txt(archive, fname):\n",
    "    with archive.open(str(fname), \"r\") as file:\n",
    "        return str(file.read(), encoding=\"utf8\")\n",
    "\n",
    "\n",
    "def get_table(fname, **options) -> DataFrame:\n",
    "    fname = Path(fname)\n",
    "    with ZipFile(ds.rawdata_paths, \"r\") as archive:\n",
    "        match fname.suffix:\n",
    "            case \".gz\":\n",
    "                return load_gz_table(archive, fname, **options)\n",
    "            case \".txt\":\n",
    "                return load_txt(archive, fname, **options)\n",
    "            case _:\n",
    "                raise ValueError"
   ]
  },
  {
   "cell_type": "code",
   "execution_count": null,
   "metadata": {},
   "outputs": [],
   "source": []
  },
  {
   "cell_type": "code",
   "execution_count": null,
   "metadata": {},
   "outputs": [],
   "source": []
  },
  {
   "cell_type": "code",
   "execution_count": null,
   "metadata": {
    "execution": {
     "iopub.execute_input": "2023-04-04T17:04:44.429227Z",
     "iopub.status.busy": "2023-04-04T17:04:44.428858Z",
     "iopub.status.idle": "2023-04-04T17:04:44.484345Z",
     "shell.execute_reply": "2023-04-04T17:04:44.483888Z",
     "shell.execute_reply.started": "2023-04-04T17:04:44.429208Z"
    },
    "tags": []
   },
   "outputs": [],
   "source": [
    "ID_TYPE = \"uint32\"\n",
    "CATEGORY = pyarrow.dictionary(\"uint32\", \"string\")\n",
    "\n",
    "\n",
    "column_types = dict(\n",
    "    chartevents={\n",
    "        \"subject_id\": ID_TYPE,\n",
    "        \"hadm_id\": ID_TYPE,\n",
    "        \"stay_id\": ID_TYPE,\n",
    "        \"itemid\": ID_TYPE,\n",
    "        \"charttime\": \"timestamp[s]\",\n",
    "        \"storetime\": \"timestamp[s]\",\n",
    "        \"value\": \"string\",\n",
    "        \"valuenum\": \"float32\",\n",
    "        \"valueuom\": \"string\",\n",
    "        \"warning\": \"bool\",\n",
    "    }\n",
    ")\n",
    "\n",
    "convert_options = pyarrow.csv.ConvertOptions(\n",
    "    column_types=column_types[\"chartevents\"],\n",
    "    strings_can_be_null=True,\n",
    "    # null_values=null_values,\n",
    ")"
   ]
  },
  {
   "cell_type": "code",
   "execution_count": null,
   "metadata": {
    "execution": {
     "iopub.execute_input": "2023-04-04T17:04:44.484998Z",
     "iopub.status.busy": "2023-04-04T17:04:44.484878Z",
     "iopub.status.idle": "2023-04-04T17:05:40.469891Z",
     "shell.execute_reply": "2023-04-04T17:05:40.469530Z",
     "shell.execute_reply.started": "2023-04-04T17:04:44.484987Z"
    },
    "tags": []
   },
   "outputs": [],
   "source": [
    "table = get_table(\n",
    "    \"mimic-iv-1.0/icu/chartevents.csv.gz\", convert_options=convert_options\n",
    ")\n",
    "# convert dictionary\n",
    "table = table.set_column(\n",
    "    table.column_names.index(\"valueuom\"),\n",
    "    \"valueuom\",\n",
    "    pyarrow.compute.cast(\n",
    "        table.column(\"valueuom\").dictionary_encode(),\n",
    "        pyarrow.dictionary(\"uint8\", \"string\"),\n",
    "    ),\n",
    ")\n",
    "table.schema"
   ]
  },
  {
   "cell_type": "code",
   "execution_count": null,
   "metadata": {
    "execution": {
     "iopub.execute_input": "2023-04-04T17:17:44.692095Z",
     "iopub.status.busy": "2023-04-04T17:17:44.691760Z",
     "iopub.status.idle": "2023-04-04T17:18:02.836920Z",
     "shell.execute_reply": "2023-04-04T17:18:02.836330Z",
     "shell.execute_reply.started": "2023-04-04T17:17:44.692075Z"
    }
   },
   "outputs": [],
   "source": [
    "for name, col in tqdm(zip(table.column_names, table.columns)):\n",
    "    c = pyarrow.compute.count_distinct(col)\n",
    "    print(f\"{name}, {c}\")"
   ]
  },
  {
   "cell_type": "code",
   "execution_count": null,
   "metadata": {
    "execution": {
     "iopub.execute_input": "2023-04-04T17:21:36.447580Z",
     "iopub.status.busy": "2023-04-04T17:21:36.447337Z",
     "iopub.status.idle": "2023-04-04T17:21:37.810109Z",
     "shell.execute_reply": "2023-04-04T17:21:37.809738Z",
     "shell.execute_reply.started": "2023-04-04T17:21:36.447563Z"
    },
    "tags": []
   },
   "outputs": [],
   "source": [
    "# ~ 89M"
   ]
  },
  {
   "cell_type": "code",
   "execution_count": null,
   "metadata": {
    "execution": {
     "iopub.execute_input": "2023-04-04T17:23:46.117215Z",
     "iopub.status.busy": "2023-04-04T17:23:46.116965Z",
     "iopub.status.idle": "2023-04-04T17:23:51.605164Z",
     "shell.execute_reply": "2023-04-04T17:23:51.604748Z",
     "shell.execute_reply.started": "2023-04-04T17:23:46.117203Z"
    },
    "tags": []
   },
   "outputs": [],
   "source": [
    "# create version of table with numerical value\n",
    "\n",
    "mask = pyarrow.compute.utf8_is_numeric(table[\"value\"])\n",
    "table_value_is_numeric = table.filter(mask)\n",
    "table_value_is_numeric = table_value_is_numeric.set_column(\n",
    "    table_value_is_numeric.column_names.index(\"value\"),\n",
    "    \"value\",\n",
    "    pyarrow.compute.cast(table_value_is_numeric[\"value\"], \"float32\"),\n",
    ")"
   ]
  },
  {
   "cell_type": "code",
   "execution_count": null,
   "metadata": {},
   "outputs": [],
   "source": []
  },
  {
   "cell_type": "code",
   "execution_count": null,
   "metadata": {},
   "outputs": [],
   "source": []
  },
  {
   "cell_type": "code",
   "execution_count": null,
   "metadata": {},
   "outputs": [],
   "source": []
  },
  {
   "cell_type": "code",
   "execution_count": null,
   "metadata": {
    "execution": {
     "iopub.execute_input": "2023-04-04T17:19:44.364659Z",
     "iopub.status.busy": "2023-04-04T17:19:44.364476Z",
     "iopub.status.idle": "2023-04-04T17:19:45.126779Z",
     "shell.execute_reply": "2023-04-04T17:19:45.126319Z",
     "shell.execute_reply.started": "2023-04-04T17:19:44.364647Z"
    }
   },
   "outputs": [],
   "source": [
    "pyarrow.compute.unique(table[\"valuenum\"])"
   ]
  },
  {
   "cell_type": "code",
   "execution_count": null,
   "metadata": {},
   "outputs": [],
   "source": [
    "table.filter()"
   ]
  },
  {
   "cell_type": "code",
   "execution_count": null,
   "metadata": {
    "execution": {
     "iopub.execute_input": "2023-04-04T17:21:01.354229Z",
     "iopub.status.busy": "2023-04-04T17:21:01.353968Z",
     "iopub.status.idle": "2023-04-04T17:21:02.712486Z",
     "shell.execute_reply": "2023-04-04T17:21:02.712138Z",
     "shell.execute_reply.started": "2023-04-04T17:21:01.354214Z"
    },
    "tags": []
   },
   "outputs": [],
   "source": []
  },
  {
   "cell_type": "code",
   "execution_count": null,
   "metadata": {
    "execution": {
     "iopub.execute_input": "2023-04-04T17:05:40.470538Z",
     "iopub.status.busy": "2023-04-04T17:05:40.470402Z",
     "iopub.status.idle": "2023-04-04T17:05:40.917947Z",
     "shell.execute_reply": "2023-04-04T17:05:40.917040Z",
     "shell.execute_reply.started": "2023-04-04T17:05:40.470528Z"
    }
   },
   "outputs": [],
   "source": [
    "raise"
   ]
  },
  {
   "cell_type": "code",
   "execution_count": null,
   "metadata": {
    "tags": []
   },
   "outputs": [],
   "source": []
  },
  {
   "cell_type": "code",
   "execution_count": null,
   "metadata": {
    "execution": {
     "iopub.status.busy": "2023-04-04T17:05:40.918746Z",
     "iopub.status.idle": "2023-04-04T17:05:40.918999Z",
     "shell.execute_reply": "2023-04-04T17:05:40.918900Z",
     "shell.execute_reply.started": "2023-04-04T17:05:40.918892Z"
    },
    "tags": []
   },
   "outputs": [],
   "source": [
    "pyarrow.categorical"
   ]
  },
  {
   "cell_type": "code",
   "execution_count": null,
   "metadata": {
    "execution": {
     "iopub.status.busy": "2023-04-04T17:05:40.919956Z",
     "iopub.status.idle": "2023-04-04T17:05:40.920125Z",
     "shell.execute_reply": "2023-04-04T17:05:40.920052Z",
     "shell.execute_reply.started": "2023-04-04T17:05:40.920045Z"
    }
   },
   "outputs": [],
   "source": [
    "raise"
   ]
  },
  {
   "cell_type": "code",
   "execution_count": null,
   "metadata": {
    "execution": {
     "iopub.status.busy": "2023-04-04T17:05:40.920891Z",
     "iopub.status.idle": "2023-04-04T17:05:40.921049Z",
     "shell.execute_reply": "2023-04-04T17:05:40.920987Z",
     "shell.execute_reply.started": "2023-04-04T17:05:40.920981Z"
    }
   },
   "outputs": [],
   "source": []
  },
  {
   "cell_type": "code",
   "execution_count": null,
   "metadata": {
    "execution": {
     "iopub.status.busy": "2023-04-04T17:05:40.921615Z",
     "iopub.status.idle": "2023-04-04T17:05:40.921763Z",
     "shell.execute_reply": "2023-04-04T17:05:40.921701Z",
     "shell.execute_reply.started": "2023-04-04T17:05:40.921695Z"
    }
   },
   "outputs": [],
   "source": [
    "pyarrow.compute.unique(table[\"valueuom\"])"
   ]
  },
  {
   "cell_type": "markdown",
   "metadata": {},
   "source": [
    "# with polars"
   ]
  },
  {
   "cell_type": "code",
   "execution_count": null,
   "metadata": {
    "execution": {
     "iopub.status.busy": "2023-04-04T17:05:40.922316Z",
     "iopub.status.idle": "2023-04-04T17:05:40.922468Z",
     "shell.execute_reply": "2023-04-04T17:05:40.922407Z",
     "shell.execute_reply.started": "2023-04-04T17:05:40.922402Z"
    },
    "tags": []
   },
   "outputs": [],
   "source": [
    "import polars as pl\n",
    "\n",
    "with ZipFile(ds.rawdata_paths, \"r\") as file:\n",
    "    if not file.namelist() == filelist:\n",
    "        raise ValueError(\"The dataset contains unknown files!\")\n",
    "\n",
    "\n",
    "def load_gz_table(archive, fname, **options):\n",
    "    with archive.open(str(fname), \"r\") as compressed_file:\n",
    "        with gzip.open(compressed_file, \"r\") as file:\n",
    "            # table = pd.read_csv(file)\n",
    "            # return table\n",
    "            return pl.read_csv(file, **options)\n",
    "            # table = pyarrow.csv.read_csv(file, **options)\n",
    "            # return table\n",
    "\n",
    "\n",
    "def load_txt(archive, fname):\n",
    "    with archive.open(str(fname), \"r\") as file:\n",
    "        return str(file.read(), encoding=\"utf8\")\n",
    "\n",
    "\n",
    "def get_table(fname, **options) -> DataFrame:\n",
    "    fname = Path(fname)\n",
    "    with ZipFile(ds.rawdata_paths, \"r\") as archive:\n",
    "        match fname.suffix:\n",
    "            case \".gz\":\n",
    "                return load_gz_table(archive, fname, **options)\n",
    "            case \".txt\":\n",
    "                return load_txt(archive, fname, **options)\n",
    "            case _:\n",
    "                raise ValueError"
   ]
  },
  {
   "cell_type": "code",
   "execution_count": null,
   "metadata": {
    "execution": {
     "iopub.status.busy": "2023-04-04T17:05:40.922914Z",
     "iopub.status.idle": "2023-04-04T17:05:40.923053Z",
     "shell.execute_reply": "2023-04-04T17:05:40.922989Z",
     "shell.execute_reply.started": "2023-04-04T17:05:40.922982Z"
    },
    "tags": []
   },
   "outputs": [],
   "source": [
    "dtypes = {\n",
    "    \"subject_id\": pl.datatypes.UInt32(),\n",
    "    \"hadm_id\": pl.datatypes.UInt32(),\n",
    "    \"stay_id\": pl.datatypes.UInt32(),\n",
    "    \"itemid\": pl.datatypes.UInt32(),\n",
    "    \"charttime\": pl.datatypes.Datetime(),\n",
    "    \"storetime\": pl.datatypes.Datetime(),\n",
    "    \"value\": pl.datatypes.Utf8(),\n",
    "    \"valuenum\": pl.datatypes.Float32(),\n",
    "    \"valueuom\": pl.datatypes.Utf8(),\n",
    "    \"warning\": pl.datatypes.Boolean(),\n",
    "}\n",
    "\n",
    "\n",
    "table = get_table(\"mimic-iv-1.0/icu/chartevents.csv.gz\", dtypes=dtypes)"
   ]
  },
  {
   "cell_type": "code",
   "execution_count": null,
   "metadata": {
    "execution": {
     "iopub.status.busy": "2023-04-04T17:05:40.923753Z",
     "iopub.status.idle": "2023-04-04T17:05:40.924033Z",
     "shell.execute_reply": "2023-04-04T17:05:40.923967Z",
     "shell.execute_reply.started": "2023-04-04T17:05:40.923957Z"
    }
   },
   "outputs": [],
   "source": [
    "pl.datatypes.U"
   ]
  },
  {
   "cell_type": "code",
   "execution_count": null,
   "metadata": {
    "execution": {
     "iopub.status.busy": "2023-04-04T17:05:40.924431Z",
     "iopub.status.idle": "2023-04-04T17:05:40.924565Z",
     "shell.execute_reply": "2023-04-04T17:05:40.924503Z",
     "shell.execute_reply.started": "2023-04-04T17:05:40.924498Z"
    },
    "tags": []
   },
   "outputs": [],
   "source": [
    "pyarrow.compute.count_distinct(table)"
   ]
  },
  {
   "cell_type": "code",
   "execution_count": null,
   "metadata": {
    "tags": []
   },
   "outputs": [],
   "source": []
  },
  {
   "cell_type": "code",
   "execution_count": null,
   "metadata": {
    "tags": []
   },
   "outputs": [],
   "source": []
  },
  {
   "cell_type": "code",
   "execution_count": null,
   "metadata": {
    "execution": {
     "iopub.status.busy": "2023-04-04T17:05:40.925149Z",
     "iopub.status.idle": "2023-04-04T17:05:40.925303Z",
     "shell.execute_reply": "2023-04-04T17:05:40.925241Z",
     "shell.execute_reply.started": "2023-04-04T17:05:40.925235Z"
    },
    "tags": []
   },
   "outputs": [],
   "source": [
    "df = pl.from_arrow(table)"
   ]
  },
  {
   "cell_type": "code",
   "execution_count": null,
   "metadata": {
    "execution": {
     "iopub.status.busy": "2023-04-04T17:05:40.925737Z",
     "iopub.status.idle": "2023-04-04T17:05:40.925865Z",
     "shell.execute_reply": "2023-04-04T17:05:40.925808Z",
     "shell.execute_reply.started": "2023-04-04T17:05:40.925802Z"
    }
   },
   "outputs": [],
   "source": [
    "?pyarrow.compute.count_distinct"
   ]
  },
  {
   "cell_type": "code",
   "execution_count": null,
   "metadata": {
    "tags": []
   },
   "outputs": [],
   "source": []
  },
  {
   "cell_type": "code",
   "execution_count": null,
   "metadata": {
    "execution": {
     "iopub.status.busy": "2023-04-04T17:05:40.926320Z",
     "iopub.status.idle": "2023-04-04T17:05:40.926460Z",
     "shell.execute_reply": "2023-04-04T17:05:40.926398Z",
     "shell.execute_reply.started": "2023-04-04T17:05:40.926391Z"
    },
    "tags": []
   },
   "outputs": [],
   "source": [
    "next(iter(table)).name"
   ]
  },
  {
   "cell_type": "code",
   "execution_count": null,
   "metadata": {},
   "outputs": [],
   "source": []
  }
 ],
 "metadata": {
  "kernelspec": {
   "display_name": "Python 3 (ipykernel)",
   "language": "python",
   "name": "python3"
  },
  "language_info": {
   "codemirror_mode": {
    "name": "ipython",
    "version": 3
   },
   "file_extension": ".py",
   "mimetype": "text/x-python",
   "name": "python",
   "nbconvert_exporter": "python",
   "pygments_lexer": "ipython3",
   "version": "3.10.6"
  }
 },
 "nbformat": 4,
 "nbformat_minor": 4
}
