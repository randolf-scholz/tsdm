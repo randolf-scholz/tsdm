{
 "cells": [
  {
   "cell_type": "markdown",
   "metadata": {},
   "source": [
    "# MIMIC 4 data - dataset construction inputevents"
   ]
  },
  {
   "cell_type": "markdown",
   "metadata": {},
   "source": [
    "Code taken from GRU-ODE-Bayes preprocessing; simplified and adapted for MIMIC 4 1.0"
   ]
  },
  {
   "cell_type": "code",
   "execution_count": null,
   "metadata": {
    "execution": {
     "iopub.execute_input": "2022-09-12T17:59:04.162276Z",
     "iopub.status.busy": "2022-09-12T17:59:04.162120Z",
     "iopub.status.idle": "2022-09-12T17:59:04.449573Z",
     "shell.execute_reply": "2022-09-12T17:59:04.449018Z",
     "shell.execute_reply.started": "2022-09-12T17:59:04.162235Z"
    }
   },
   "outputs": [],
   "source": [
    "import gzip\n",
    "from pathlib import Path\n",
    "from zipfile import ZipFile\n",
    "\n",
    "import numpy as np\n",
    "import pandas as pd\n",
    "import pyarrow\n",
    "import pyarrow.csv\n",
    "import pyarrow.parquet"
   ]
  },
  {
   "cell_type": "markdown",
   "metadata": {
    "tags": []
   },
   "source": [
    "# Load `inputevents` and `inputitems` tables"
   ]
  },
  {
   "cell_type": "markdown",
   "metadata": {},
   "source": [
    "## Table Schema"
   ]
  },
  {
   "cell_type": "code",
   "execution_count": null,
   "metadata": {
    "execution": {
     "iopub.execute_input": "2022-09-12T17:59:04.450685Z",
     "iopub.status.busy": "2022-09-12T17:59:04.450516Z",
     "iopub.status.idle": "2022-09-12T17:59:04.453574Z",
     "shell.execute_reply": "2022-09-12T17:59:04.453224Z",
     "shell.execute_reply.started": "2022-09-12T17:59:04.450674Z"
    }
   },
   "outputs": [],
   "source": [
    "rawdata_file = Path.cwd() / \"mimic-iv-1.0.zip\"\n",
    "dataset_path = Path.cwd() / \"processed\"\n",
    "rawdata_path = Path.cwd() / \"raw\"\n",
    "\n",
    "files = {\n",
    "    \"outputevents\": \"mimic-iv-1.0/icu/outputevents.csv.gz\",\n",
    "}\n",
    "\n",
    "CATEGORY = pyarrow.dictionary(\"int32\", \"string\")\n",
    "\n",
    "column_types = {\n",
    "    \"outputevents\": {\n",
    "        \"subject_id\": \"int32\",\n",
    "        \"hadm_id\": \"int32\",\n",
    "        \"stay_id\": \"int32\",\n",
    "        \"charttime\": \"timestamp[s]\",\n",
    "        \"storetime\": \"timestamp[s]\",\n",
    "        \"value\": \"float32\",\n",
    "        \"valueuom\": CATEGORY,\n",
    "    }\n",
    "}"
   ]
  },
  {
   "cell_type": "code",
   "execution_count": null,
   "metadata": {
    "execution": {
     "iopub.execute_input": "2022-09-12T17:59:04.454157Z",
     "iopub.status.busy": "2022-09-12T17:59:04.454034Z",
     "iopub.status.idle": "2022-09-12T17:59:05.260142Z",
     "shell.execute_reply": "2022-09-12T17:59:05.259637Z",
     "shell.execute_reply.started": "2022-09-12T17:59:04.454146Z"
    }
   },
   "outputs": [],
   "source": [
    "key = \"outputevents\"\n",
    "with (\n",
    "    ZipFile(rawdata_file) as archive,\n",
    "    archive.open(files[key]) as compressed_file,\n",
    "    gzip.open(compressed_file) as file,\n",
    "):\n",
    "    outputevents = pyarrow.csv.read_csv(\n",
    "        file,\n",
    "        convert_options=pyarrow.csv.ConvertOptions(\n",
    "            column_types=column_types[key],\n",
    "            strings_can_be_null=True,\n",
    "            null_values=[\"\"],\n",
    "        ),\n",
    "    )\n",
    "\n",
    "outputevents.schema"
   ]
  },
  {
   "cell_type": "markdown",
   "metadata": {},
   "source": [
    "## Store and reload as pandas"
   ]
  },
  {
   "cell_type": "code",
   "execution_count": null,
   "metadata": {
    "execution": {
     "iopub.execute_input": "2022-09-12T17:59:05.260884Z",
     "iopub.status.busy": "2022-09-12T17:59:05.260680Z",
     "iopub.status.idle": "2022-09-12T17:59:05.741769Z",
     "shell.execute_reply": "2022-09-12T17:59:05.740044Z",
     "shell.execute_reply.started": "2022-09-12T17:59:05.260865Z"
    },
    "tags": []
   },
   "outputs": [],
   "source": [
    "pyarrow.parquet.write_table(outputevents, rawdata_path / f\"{key}.parquet\")\n",
    "outputevents = outputevents.to_pandas(self_destruct=True)\n",
    "outputevents"
   ]
  },
  {
   "cell_type": "markdown",
   "metadata": {},
   "source": [
    "## Load the input items"
   ]
  },
  {
   "cell_type": "code",
   "execution_count": null,
   "metadata": {
    "execution": {
     "iopub.execute_input": "2022-09-12T17:59:05.742830Z",
     "iopub.status.busy": "2022-09-12T17:59:05.742517Z",
     "iopub.status.idle": "2022-09-12T17:59:05.767108Z",
     "shell.execute_reply": "2022-09-12T17:59:05.766552Z",
     "shell.execute_reply.started": "2022-09-12T17:59:05.742814Z"
    }
   },
   "outputs": [],
   "source": [
    "key = \"inputitems\"\n",
    "with pd.option_context(\"string_storage\", \"pyarrow\"):\n",
    "    inputitems = pd.read_parquet(\n",
    "        rawdata_path / f\"{key}.parquet\", use_nullable_dtypes=True\n",
    "    )\n",
    "inputitems"
   ]
  },
  {
   "cell_type": "markdown",
   "metadata": {},
   "source": [
    "# Filter Dataset"
   ]
  },
  {
   "cell_type": "markdown",
   "metadata": {},
   "source": [
    "## Only choose previously selected admission ids"
   ]
  },
  {
   "cell_type": "code",
   "execution_count": null,
   "metadata": {
    "execution": {
     "iopub.execute_input": "2022-09-12T17:59:05.767825Z",
     "iopub.status.busy": "2022-09-12T17:59:05.767643Z",
     "iopub.status.idle": "2022-09-12T17:59:05.869301Z",
     "shell.execute_reply": "2022-09-12T17:59:05.868655Z",
     "shell.execute_reply.started": "2022-09-12T17:59:05.767814Z"
    },
    "tags": []
   },
   "outputs": [],
   "source": [
    "admissions = pd.read_parquet(dataset_path / \"admissions_processed.parquet\")\n",
    "outputevents = outputevents[outputevents[\"hadm_id\"].isin(admissions[\"hadm_id\"])]\n",
    "print(f\"Number of patients remaining: {outputevents['subject_id'].nunique()}\")"
   ]
  },
  {
   "cell_type": "markdown",
   "metadata": {},
   "source": [
    "## Merge on items &  keep only common ones"
   ]
  },
  {
   "cell_type": "code",
   "execution_count": null,
   "metadata": {
    "execution": {
     "iopub.execute_input": "2022-09-12T17:59:05.870635Z",
     "iopub.status.busy": "2022-09-12T17:59:05.870457Z",
     "iopub.status.idle": "2022-09-12T17:59:06.029764Z",
     "shell.execute_reply": "2022-09-12T17:59:06.029249Z",
     "shell.execute_reply.started": "2022-09-12T17:59:05.870621Z"
    },
    "tags": []
   },
   "outputs": [],
   "source": [
    "outputevents = pd.merge(outputevents, inputitems, on=\"itemid\")\n",
    "n_best = 15\n",
    "item_freq = outputevents.groupby(\"label\")[\"subject_id\"].nunique()\n",
    "item_freq = item_freq.sort_values(ascending=False)\n",
    "common_items = item_freq.index[:n_best]\n",
    "common_items"
   ]
  },
  {
   "cell_type": "code",
   "execution_count": null,
   "metadata": {
    "execution": {
     "iopub.execute_input": "2022-09-12T17:59:06.030430Z",
     "iopub.status.busy": "2022-09-12T17:59:06.030301Z",
     "iopub.status.idle": "2022-09-12T17:59:06.084307Z",
     "shell.execute_reply": "2022-09-12T17:59:06.083735Z",
     "shell.execute_reply.started": "2022-09-12T17:59:06.030420Z"
    },
    "tags": []
   },
   "outputs": [],
   "source": [
    "outputevents = outputevents[outputevents[\"label\"].isin(common_items)]\n",
    "print(f\"Number of events remaining: {outputevents.shape}\")\n",
    "print(f\"Number of patients remaining: {outputevents['subject_id'].nunique()}\")"
   ]
  },
  {
   "cell_type": "code",
   "execution_count": null,
   "metadata": {
    "execution": {
     "iopub.execute_input": "2022-09-12T17:59:06.085484Z",
     "iopub.status.busy": "2022-09-12T17:59:06.085242Z",
     "iopub.status.idle": "2022-09-12T17:59:06.088651Z",
     "shell.execute_reply": "2022-09-12T17:59:06.088177Z",
     "shell.execute_reply.started": "2022-09-12T17:59:06.085462Z"
    },
    "tags": []
   },
   "outputs": [],
   "source": [
    "common_items = [\n",
    "    \"Chest Tube #1\",\n",
    "    \"Emesis\",\n",
    "    \"Fecal Bag\",\n",
    "    \"Foley\",\n",
    "    \"Jackson Pratt #1\",\n",
    "    \"Nasogastric\",\n",
    "    \"OR EBL\",\n",
    "    \"OR Urine\",\n",
    "    \"Oral Gastric\",\n",
    "    \"Pre-Admission\",\n",
    "    \"Stool\",\n",
    "    \"Straight Cath\",\n",
    "    \"TF Residual Output\",\n",
    "    \"TF Residual\",\n",
    "    \"Void\",\n",
    "]"
   ]
  },
  {
   "cell_type": "code",
   "execution_count": null,
   "metadata": {
    "execution": {
     "iopub.execute_input": "2022-09-12T17:59:06.089542Z",
     "iopub.status.busy": "2022-09-12T17:59:06.089192Z",
     "iopub.status.idle": "2022-09-12T17:59:06.096430Z",
     "shell.execute_reply": "2022-09-12T17:59:06.095718Z",
     "shell.execute_reply.started": "2022-09-12T17:59:06.089526Z"
    },
    "tags": []
   },
   "outputs": [],
   "source": [
    "alt_list = [\n",
    "    \"Chest Tube #1\",\n",
    "    \"Chest Tube #2\",\n",
    "    \"Condom Cath\",\n",
    "    \"Fecal Bag\",\n",
    "    \"Foley\",\n",
    "    \"Gastric Gastric Tube\",\n",
    "    \"Jackson Pratt #1\",\n",
    "    \"OR EBL\",\n",
    "    \"Ostomy (output)\",\n",
    "    \"Pre-Admission\",\n",
    "    \"Stool Out Stool\",\n",
    "    \"TF Residual\",\n",
    "    \"Ultrafiltrate Ultrafiltrate\",\n",
    "    \"Urine Out Incontinent\",\n",
    "    \"Void\",\n",
    "]"
   ]
  },
  {
   "cell_type": "code",
   "execution_count": null,
   "metadata": {
    "execution": {
     "iopub.execute_input": "2022-09-12T17:59:06.097153Z",
     "iopub.status.busy": "2022-09-12T17:59:06.096984Z",
     "iopub.status.idle": "2022-09-12T17:59:06.103977Z",
     "shell.execute_reply": "2022-09-12T17:59:06.103622Z",
     "shell.execute_reply.started": "2022-09-12T17:59:06.097138Z"
    },
    "tags": []
   },
   "outputs": [],
   "source": [
    "used_labels = [\n",
    "    \"Chest Tube\",\n",
    "    \"Emesis\",\n",
    "    \"Fecal Bag\",\n",
    "    \"Foley\",\n",
    "    \"Jackson Pratt\",\n",
    "    \"Nasogastric\",\n",
    "    \"OR EBL\",\n",
    "    \"OR Urine\",\n",
    "    \"Oral Gastric\",\n",
    "    \"Pre-Admission\",\n",
    "    \"Stool\",\n",
    "    \"Straight Cath\",\n",
    "    \"TF Residual Output\",\n",
    "    \"TF Residual\",\n",
    "    \"Void\",\n",
    "]"
   ]
  },
  {
   "cell_type": "markdown",
   "metadata": {},
   "source": [
    "## Verification that all input labels have the same amounts units"
   ]
  },
  {
   "cell_type": "code",
   "execution_count": null,
   "metadata": {
    "execution": {
     "iopub.execute_input": "2022-09-12T17:59:06.104649Z",
     "iopub.status.busy": "2022-09-12T17:59:06.104477Z",
     "iopub.status.idle": "2022-09-12T17:59:07.017169Z",
     "shell.execute_reply": "2022-09-12T17:59:07.016472Z",
     "shell.execute_reply.started": "2022-09-12T17:59:06.104633Z"
    },
    "tags": []
   },
   "outputs": [],
   "source": [
    "assert outputevents[\"valueuom\"].nunique() == 1\n",
    "outputevents.groupby(\"label\")[\"valueuom\"].value_counts()"
   ]
  },
  {
   "cell_type": "markdown",
   "metadata": {},
   "source": [
    "# Serialize Pre-processed DataFrame"
   ]
  },
  {
   "cell_type": "code",
   "execution_count": null,
   "metadata": {
    "execution": {
     "iopub.execute_input": "2022-09-12T17:59:07.018069Z",
     "iopub.status.busy": "2022-09-12T17:59:07.017856Z",
     "iopub.status.idle": "2022-09-12T17:59:07.382874Z",
     "shell.execute_reply": "2022-09-12T17:59:07.382387Z",
     "shell.execute_reply.started": "2022-09-12T17:59:07.018049Z"
    },
    "tags": []
   },
   "outputs": [],
   "source": [
    "# Clean categories\n",
    "def clean_categories(df):\n",
    "    for col in df:\n",
    "        if df[col].dtype == \"category\":\n",
    "            df[col] = df[col].cat.remove_unused_categories()\n",
    "    return df\n",
    "\n",
    "\n",
    "outputevents = clean_categories(outputevents)\n",
    "outputevents.to_parquet(dataset_path / \"outputevents_processed.parquet\")"
   ]
  }
 ],
 "metadata": {
  "kernelspec": {
   "display_name": "Python 3 (ipykernel)",
   "language": "python",
   "name": "python3"
  },
  "language_info": {
   "codemirror_mode": {
    "name": "ipython",
    "version": 3
   },
   "file_extension": ".py",
   "mimetype": "text/x-python",
   "name": "python",
   "nbconvert_exporter": "python",
   "pygments_lexer": "ipython3",
   "version": "3.10.6"
  }
 },
 "nbformat": 4,
 "nbformat_minor": 4
}
