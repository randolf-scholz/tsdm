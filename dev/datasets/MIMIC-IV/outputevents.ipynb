{
 "cells": [
  {
   "cell_type": "markdown",
   "metadata": {},
   "source": [
    "# MIMIC 4 data - dataset construction inputevents"
   ]
  },
  {
   "cell_type": "markdown",
   "metadata": {},
   "source": [
    "Code taken from GRU-ODE-Bayes preprocessing; simplified and adapted for MIMIC 4 1.0"
   ]
  },
  {
   "cell_type": "code",
   "execution_count": null,
   "metadata": {
    "execution": {
     "iopub.execute_input": "2022-09-12T10:12:15.746487Z",
     "iopub.status.busy": "2022-09-12T10:12:15.745823Z",
     "iopub.status.idle": "2022-09-12T10:12:16.017516Z",
     "shell.execute_reply": "2022-09-12T10:12:16.017049Z",
     "shell.execute_reply.started": "2022-09-12T10:12:15.746445Z"
    }
   },
   "outputs": [],
   "source": [
    "from zipfile import ZipFile\n",
    "\n",
    "import pandas as pd"
   ]
  },
  {
   "cell_type": "code",
   "execution_count": null,
   "metadata": {
    "execution": {
     "iopub.execute_input": "2022-09-12T10:12:16.019102Z",
     "iopub.status.busy": "2022-09-12T10:12:16.018908Z",
     "iopub.status.idle": "2022-09-12T10:12:16.021684Z",
     "shell.execute_reply": "2022-09-12T10:12:16.020902Z",
     "shell.execute_reply.started": "2022-09-12T10:12:16.019089Z"
    }
   },
   "outputs": [],
   "source": [
    "pd.set_option(\"display.max_rows\", 50)\n",
    "pd.set_option(\"display.max_columns\", 300)"
   ]
  },
  {
   "cell_type": "code",
   "execution_count": null,
   "metadata": {
    "execution": {
     "iopub.execute_input": "2022-09-12T10:12:16.022963Z",
     "iopub.status.busy": "2022-09-12T10:12:16.022674Z",
     "iopub.status.idle": "2022-09-12T10:12:16.075520Z",
     "shell.execute_reply": "2022-09-12T10:12:16.074965Z",
     "shell.execute_reply.started": "2022-09-12T10:12:16.022936Z"
    }
   },
   "outputs": [],
   "source": [
    "admissions = pd.read_parquet(\"admissions_processed.parquet\")"
   ]
  },
  {
   "cell_type": "code",
   "execution_count": null,
   "metadata": {
    "execution": {
     "iopub.execute_input": "2022-09-12T10:12:16.076160Z",
     "iopub.status.busy": "2022-09-12T10:12:16.076027Z",
     "iopub.status.idle": "2022-09-12T10:12:16.079282Z",
     "shell.execute_reply": "2022-09-12T10:12:16.078787Z",
     "shell.execute_reply.started": "2022-09-12T10:12:16.076150Z"
    }
   },
   "outputs": [],
   "source": [
    "dataset_file = \"mimic-iv-1.0.zip\"\n",
    "\n",
    "files = {\n",
    "    \"outputevents\": \"mimic-iv-1.0/icu/outputevents.csv.gz\",\n",
    "}\n",
    "column_types = {\n",
    "    \"outputevents\": {\n",
    "        \"subject_id\": \"int32\",\n",
    "        \"hadm_id\": \"int32\",\n",
    "        \"stay_id\": \"int32\",\n",
    "        \"charttime\": \"datetime64\",\n",
    "        \"storetime\": \"datetime64\",\n",
    "        \"value\": \"float32\",\n",
    "        \"valueuom\": \"string\",\n",
    "    }\n",
    "}"
   ]
  },
  {
   "cell_type": "code",
   "execution_count": null,
   "metadata": {
    "execution": {
     "iopub.execute_input": "2022-09-12T10:12:16.080557Z",
     "iopub.status.busy": "2022-09-12T10:12:16.080397Z",
     "iopub.status.idle": "2022-09-12T10:12:20.404300Z",
     "shell.execute_reply": "2022-09-12T10:12:20.403730Z",
     "shell.execute_reply.started": "2022-09-12T10:12:16.080546Z"
    }
   },
   "outputs": [],
   "source": [
    "key = \"outputevents\"\n",
    "with (\n",
    "    ZipFile(dataset_file) as archive,\n",
    "    archive.open(files[key]) as file,\n",
    "    # gzip.open(compressed_file) as file,\n",
    "):\n",
    "    outputevents = pd.read_csv(\n",
    "        file,\n",
    "        compression=\"gzip\",\n",
    "        parse_dates=[k for k, v in column_types[key].items() if v == \"datetime64\"],\n",
    "        dtype={k: v for k, v in column_types[key].items() if v != \"datetime64\"},\n",
    "    )\n",
    "\n",
    "pd.DataFrame({\"type\": outputevents.dtypes, \"uniques\": outputevents.nunique()})"
   ]
  },
  {
   "cell_type": "markdown",
   "metadata": {},
   "source": [
    "## Only choose previously selected admission ids"
   ]
  },
  {
   "cell_type": "code",
   "execution_count": null,
   "metadata": {
    "execution": {
     "iopub.execute_input": "2022-09-12T10:12:20.404868Z",
     "iopub.status.busy": "2022-09-12T10:12:20.404725Z",
     "iopub.status.idle": "2022-09-12T10:12:20.483006Z",
     "shell.execute_reply": "2022-09-12T10:12:20.482436Z",
     "shell.execute_reply.started": "2022-09-12T10:12:20.404857Z"
    }
   },
   "outputs": [],
   "source": [
    "outputevents = outputevents[outputevents[\"hadm_id\"].isin(admissions[\"hadm_id\"])]\n",
    "print(f\"Number of patients remaining: {outputevents['subject_id'].nunique()}\")"
   ]
  },
  {
   "cell_type": "markdown",
   "metadata": {},
   "source": [
    "## Load the input items"
   ]
  },
  {
   "cell_type": "code",
   "execution_count": null,
   "metadata": {
    "execution": {
     "iopub.execute_input": "2022-09-12T10:12:20.483758Z",
     "iopub.status.busy": "2022-09-12T10:12:20.483624Z",
     "iopub.status.idle": "2022-09-12T10:12:20.500817Z",
     "shell.execute_reply": "2022-09-12T10:12:20.500260Z",
     "shell.execute_reply.started": "2022-09-12T10:12:20.483747Z"
    }
   },
   "outputs": [],
   "source": [
    "key = \"inputitems\"\n",
    "with pd.option_context(\"string_storage\", \"pyarrow\"):\n",
    "    inputitems = pd.read_parquet(f\"{key}.parquet\", use_nullable_dtypes=True)\n",
    "inputitems"
   ]
  },
  {
   "cell_type": "markdown",
   "metadata": {},
   "source": [
    "## Merge on items &  keep only common ones"
   ]
  },
  {
   "cell_type": "code",
   "execution_count": null,
   "metadata": {
    "execution": {
     "iopub.execute_input": "2022-09-12T10:12:20.501873Z",
     "iopub.status.busy": "2022-09-12T10:12:20.501355Z",
     "iopub.status.idle": "2022-09-12T10:12:20.742748Z",
     "shell.execute_reply": "2022-09-12T10:12:20.742226Z",
     "shell.execute_reply.started": "2022-09-12T10:12:20.501818Z"
    }
   },
   "outputs": [],
   "source": [
    "outputevents = pd.merge(outputevents, inputitems, on=\"itemid\")\n",
    "n_best = 15\n",
    "item_freq = outputevents.groupby(\"label\")[\"subject_id\"].nunique()\n",
    "item_freq = item_freq.sort_values(ascending=False)\n",
    "common_items = item_freq.index[:n_best]\n",
    "common_items"
   ]
  },
  {
   "cell_type": "code",
   "execution_count": null,
   "metadata": {
    "execution": {
     "iopub.execute_input": "2022-09-12T10:12:20.743525Z",
     "iopub.status.busy": "2022-09-12T10:12:20.743365Z",
     "iopub.status.idle": "2022-09-12T10:12:20.861846Z",
     "shell.execute_reply": "2022-09-12T10:12:20.861129Z",
     "shell.execute_reply.started": "2022-09-12T10:12:20.743512Z"
    }
   },
   "outputs": [],
   "source": [
    "outputevents = outputevents[outputevents[\"label\"].isin(common_items)]\n",
    "print(f\"Number of events remaining: {outputevents.shape}\")\n",
    "print(f\"Number of patients remaining: {outputevents['subject_id'].nunique()}\")"
   ]
  },
  {
   "cell_type": "code",
   "execution_count": null,
   "metadata": {
    "execution": {
     "iopub.execute_input": "2022-09-12T10:12:20.862427Z",
     "iopub.status.busy": "2022-09-12T10:12:20.862314Z",
     "iopub.status.idle": "2022-09-12T10:12:20.866471Z",
     "shell.execute_reply": "2022-09-12T10:12:20.865498Z",
     "shell.execute_reply.started": "2022-09-12T10:12:20.862416Z"
    }
   },
   "outputs": [],
   "source": [
    "common_items = [\n",
    "    \"Chest Tube #1\",\n",
    "    \"Emesis\",\n",
    "    \"Fecal Bag\",\n",
    "    \"Foley\",\n",
    "    \"Jackson Pratt #1\",\n",
    "    \"Nasogastric\",\n",
    "    \"OR EBL\",\n",
    "    \"OR Urine\",\n",
    "    \"Oral Gastric\",\n",
    "    \"Pre-Admission\",\n",
    "    \"Stool\",\n",
    "    \"Straight Cath\",\n",
    "    \"TF Residual Output\",\n",
    "    \"TF Residual\",\n",
    "    \"Void\",\n",
    "]"
   ]
  },
  {
   "cell_type": "code",
   "execution_count": null,
   "metadata": {
    "execution": {
     "iopub.execute_input": "2022-09-12T10:12:20.867782Z",
     "iopub.status.busy": "2022-09-12T10:12:20.867534Z",
     "iopub.status.idle": "2022-09-12T10:12:20.875510Z",
     "shell.execute_reply": "2022-09-12T10:12:20.874998Z",
     "shell.execute_reply.started": "2022-09-12T10:12:20.867757Z"
    }
   },
   "outputs": [],
   "source": [
    "alt_list = [\n",
    "    \"Chest Tube #1\",\n",
    "    \"Chest Tube #2\",\n",
    "    \"Condom Cath\",\n",
    "    \"Fecal Bag\",\n",
    "    \"Foley\",\n",
    "    \"Gastric Gastric Tube\",\n",
    "    \"Jackson Pratt #1\",\n",
    "    \"OR EBL\",\n",
    "    \"Ostomy (output)\",\n",
    "    \"Pre-Admission\",\n",
    "    \"Stool Out Stool\",\n",
    "    \"TF Residual\",\n",
    "    \"Ultrafiltrate Ultrafiltrate\",\n",
    "    \"Urine Out Incontinent\",\n",
    "    \"Void\",\n",
    "]"
   ]
  },
  {
   "cell_type": "code",
   "execution_count": null,
   "metadata": {
    "execution": {
     "iopub.execute_input": "2022-09-12T10:12:20.876163Z",
     "iopub.status.busy": "2022-09-12T10:12:20.875984Z",
     "iopub.status.idle": "2022-09-12T10:12:20.884362Z",
     "shell.execute_reply": "2022-09-12T10:12:20.883460Z",
     "shell.execute_reply.started": "2022-09-12T10:12:20.876153Z"
    }
   },
   "outputs": [],
   "source": [
    "used_labels = [\n",
    "    \"Chest Tube\",\n",
    "    \"Emesis\",\n",
    "    \"Fecal Bag\",\n",
    "    \"Foley\",\n",
    "    \"Jackson Pratt\",\n",
    "    \"Nasogastric\",\n",
    "    \"OR EBL\",\n",
    "    \"OR Urine\",\n",
    "    \"Oral Gastric\",\n",
    "    \"Pre-Admission\",\n",
    "    \"Stool\",\n",
    "    \"Straight Cath\",\n",
    "    \"TF Residual Output\",\n",
    "    \"TF Residual\",\n",
    "    \"Void\",\n",
    "]"
   ]
  },
  {
   "cell_type": "markdown",
   "metadata": {},
   "source": [
    "### Verification that all input labels have the same amounts units"
   ]
  },
  {
   "cell_type": "code",
   "execution_count": null,
   "metadata": {
    "execution": {
     "iopub.execute_input": "2022-09-12T10:12:20.885103Z",
     "iopub.status.busy": "2022-09-12T10:12:20.884983Z",
     "iopub.status.idle": "2022-09-12T10:12:21.016022Z",
     "shell.execute_reply": "2022-09-12T10:12:21.015350Z",
     "shell.execute_reply.started": "2022-09-12T10:12:20.885093Z"
    }
   },
   "outputs": [],
   "source": [
    "assert outputevents[\"valueuom\"].nunique() == 1\n",
    "outputevents.groupby(\"label\")[\"valueuom\"].value_counts()"
   ]
  },
  {
   "cell_type": "code",
   "execution_count": null,
   "metadata": {
    "execution": {
     "iopub.execute_input": "2022-09-12T10:12:21.017945Z",
     "iopub.status.busy": "2022-09-12T10:12:21.017785Z",
     "iopub.status.idle": "2022-09-12T10:12:21.398663Z",
     "shell.execute_reply": "2022-09-12T10:12:21.397865Z",
     "shell.execute_reply.started": "2022-09-12T10:12:21.017933Z"
    }
   },
   "outputs": [],
   "source": [
    "outputevents.to_parquet(\"outputevents_processed.parquet\")"
   ]
  },
  {
   "cell_type": "code",
   "execution_count": null,
   "metadata": {},
   "outputs": [],
   "source": []
  }
 ],
 "metadata": {
  "kernelspec": {
   "display_name": "Python 3 (ipykernel)",
   "language": "python",
   "name": "python3"
  },
  "language_info": {
   "codemirror_mode": {
    "name": "ipython",
    "version": 3
   },
   "file_extension": ".py",
   "mimetype": "text/x-python",
   "name": "python",
   "nbconvert_exporter": "python",
   "pygments_lexer": "ipython3",
   "version": "3.10.6"
  }
 },
 "nbformat": 4,
 "nbformat_minor": 4
}
