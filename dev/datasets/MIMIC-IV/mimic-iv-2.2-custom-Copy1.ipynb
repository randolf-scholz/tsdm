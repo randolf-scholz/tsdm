{
 "cells": [
  {
   "cell_type": "code",
   "execution_count": null,
   "metadata": {
    "tags": []
   },
   "outputs": [],
   "source": [
    "# import resource\n",
    "\n",
    "\n",
    "# def limit_memory(maxsize):\n",
    "#     soft, hard = resource.getrlimit(resource.RLIMIT_AS)\n",
    "#     # MEMORY LIMIT IN BYTES\n",
    "#     resource.setrlimit(resource.RLIMIT_AS, (maxsize, hard))\n",
    "\n",
    "\n",
    "# # IN GIGABYTE\n",
    "# limit_memory(30 * 1024 * 1024 * 1024)"
   ]
  },
  {
   "cell_type": "code",
   "execution_count": null,
   "metadata": {
    "tags": [],
    "pycharm": {
     "name": "#%%\n"
    }
   },
   "outputs": [],
   "source": [
    "%config InteractiveShell.ast_node_interactivity='last_expr_or_assign'  # always print last expr.\n",
    "%config InlineBackend.figure_format = 'svg'\n",
    "%load_ext autoreload\n",
    "%autoreload 2\n",
    "%matplotlib inline\n",
    "\n",
    "import gzip\n",
    "from pathlib import Path\n",
    "from zipfile import ZipFile\n",
    "\n",
    "import pandas as pd\n",
    "import pyarrow as pa\n",
    "from pandas import DataFrame\n",
    "from pyarrow import csv, parquet\n",
    "from tqdm.autonotebook import tqdm"
   ]
  },
  {
   "cell_type": "code",
   "execution_count": null,
   "metadata": {
    "tags": []
   },
   "outputs": [],
   "source": [
    "# ds = MIMIC_IV(initialize=False)\n",
    "# ds.rawdata_paths\n",
    "\n",
    "DATASET_PATH = Path(\"custom_processed\")\n",
    "RAWDATA_PATH = Path(\"mimic-iv-2.2.zip\")"
   ]
  },
  {
   "cell_type": "code",
   "execution_count": null,
   "metadata": {
    "tags": []
   },
   "outputs": [],
   "source": [
    "filelist = [\n",
    "    \"mimic-iv-2.2/CHANGELOG.txt\",\n",
    "    \"mimic-iv-2.2/LICENSE.txt\",\n",
    "    \"mimic-iv-2.2/SHA256SUMS.txt\",\n",
    "    \"mimic-iv-2.2/hosp/admissions.csv.gz\",\n",
    "    \"mimic-iv-2.2/hosp/d_hcpcs.csv.gz\",\n",
    "    \"mimic-iv-2.2/hosp/d_icd_diagnoses.csv.gz\",\n",
    "    \"mimic-iv-2.2/hosp/d_icd_procedures.csv.gz\",\n",
    "    \"mimic-iv-2.2/hosp/d_labitems.csv.gz\",\n",
    "    \"mimic-iv-2.2/hosp/diagnoses_icd.csv.gz\",\n",
    "    \"mimic-iv-2.2/hosp/drgcodes.csv.gz\",\n",
    "    \"mimic-iv-2.2/hosp/emar.csv.gz\",\n",
    "    \"mimic-iv-2.2/hosp/emar_detail.csv.gz\",\n",
    "    \"mimic-iv-2.2/hosp/hcpcsevents.csv.gz\",\n",
    "    \"mimic-iv-2.2/hosp/labevents.csv.gz\",\n",
    "    \"mimic-iv-2.2/hosp/microbiologyevents.csv.gz\",\n",
    "    \"mimic-iv-2.2/hosp/omr.csv.gz\",\n",
    "    \"mimic-iv-2.2/hosp/patients.csv.gz\",\n",
    "    \"mimic-iv-2.2/hosp/pharmacy.csv.gz\",\n",
    "    \"mimic-iv-2.2/hosp/poe.csv.gz\",\n",
    "    \"mimic-iv-2.2/hosp/poe_detail.csv.gz\",\n",
    "    \"mimic-iv-2.2/hosp/prescriptions.csv.gz\",\n",
    "    \"mimic-iv-2.2/hosp/procedures_icd.csv.gz\",\n",
    "    \"mimic-iv-2.2/hosp/provider.csv.gz\",\n",
    "    \"mimic-iv-2.2/hosp/services.csv.gz\",\n",
    "    \"mimic-iv-2.2/hosp/transfers.csv.gz\",\n",
    "    \"mimic-iv-2.2/icu/caregiver.csv.gz\",\n",
    "    \"mimic-iv-2.2/icu/chartevents.csv.gz\",\n",
    "    \"mimic-iv-2.2/icu/d_items.csv.gz\",\n",
    "    \"mimic-iv-2.2/icu/datetimeevents.csv.gz\",\n",
    "    \"mimic-iv-2.2/icu/icustays.csv.gz\",\n",
    "    \"mimic-iv-2.2/icu/ingredientevents.csv.gz\",\n",
    "    \"mimic-iv-2.2/icu/inputevents.csv.gz\",\n",
    "    \"mimic-iv-2.2/icu/outputevents.csv.gz\",\n",
    "    \"mimic-iv-2.2/icu/procedureevents.csv.gz\",\n",
    "]"
   ]
  },
  {
   "cell_type": "code",
   "execution_count": null,
   "metadata": {
    "tags": []
   },
   "outputs": [],
   "source": [
    "with ZipFile(RAWDATA_PATH, \"r\") as file:\n",
    "    a = set(file.namelist())\n",
    "    b = set(filelist)\n",
    "    if not a == b:\n",
    "        raise ValueError(f\"The dataset contains unknown files {a-b}!\")\n",
    "\n",
    "\n",
    "def load_gz_table(archive, fname, **options):\n",
    "    with archive.open(str(fname), \"r\") as compressed_file:\n",
    "        with gzip.open(compressed_file, \"r\") as file:\n",
    "            # table = pd.read_csv(file)\n",
    "            # return table\n",
    "            table = csv.read_csv(file, **options)\n",
    "            return table\n",
    "\n",
    "\n",
    "def load_txt(archive, fname):\n",
    "    with archive.open(str(fname), \"r\") as file:\n",
    "        return str(file.read(), encoding=\"utf8\")\n",
    "\n",
    "\n",
    "def compute_entropy(value_counts, normalize: bool = False) -> float:\n",
    "    counts = pa.compute.struct_field(value_counts, 1)\n",
    "    len(counts)\n",
    "    freqs = pa.compute.divide(\n",
    "        pa.compute.cast(counts, pa.float64()),\n",
    "        pa.compute.sum(counts),\n",
    "    )\n",
    "\n",
    "    H = pa.compute.sum(pa.compute.multiply(freqs, pa.compute.log2(freqs)))\n",
    "\n",
    "    if normalize:\n",
    "        H = pa.compute.divide(H, pa.compute.log2(len(counts)))\n",
    "\n",
    "    return -H.as_py()\n",
    "\n",
    "\n",
    "def get_table(fname, **options) -> DataFrame:\n",
    "    fname = Path(fname)\n",
    "    with ZipFile(RAWDATA_PATH, \"r\") as archive:\n",
    "        match fname.suffix:\n",
    "            case \".gz\":\n",
    "                return load_gz_table(archive, fname, **options)\n",
    "            case \".txt\":\n",
    "                return load_txt(archive, fname, **options)\n",
    "            case _:\n",
    "                raise ValueError\n",
    "\n",
    "\n",
    "def table_info(table) -> None:\n",
    "    print(len(table))\n",
    "    for name, col in tqdm(zip(table.column_names, table.columns)):\n",
    "        num_total = len(col)\n",
    "        num_null = pa.compute.sum(pa.compute.is_null(col)).as_py()\n",
    "        value_counts = col.value_counts()\n",
    "        num_uniques = len(value_counts)\n",
    "        nulls = num_null / num_total\n",
    "        uniques = num_uniques / (num_total - num_null)\n",
    "        entropy = compute_entropy(value_counts)\n",
    "        dtype = str(col.type)\n",
    "        print(f\"{name:24s}  {nulls=:7.2%}  {uniques=:7.2%}  {entropy=:.3f}  {dtype=:s}\")\n",
    "\n",
    "\n",
    "with ZipFile(RAWDATA_PATH, \"r\") as file:\n",
    "    if not file.namelist() == filelist:\n",
    "        raise ValueError(\"The dataset contains unknown files!\")\n",
    "    print(dir(file))\n",
    "\n",
    "    filesizes = {info.filename: info.file_size for info in file.infolist()}\n",
    "    # print([x.filename for x in file.infolist()])\n",
    "\n",
    "pd.Series({key: filesizes[key] for key in filesizes})"
   ]
  },
  {
   "cell_type": "code",
   "execution_count": null,
   "metadata": {
    "tags": []
   },
   "outputs": [],
   "source": [
    "ID_TYPE = \"uint32\"\n",
    "VALUE_TYPE = \"float32\"\n",
    "TIME_TYPE = \"timestamp[s]\"\n",
    "DATE_TYPE = \"date32[day]\"\n",
    "BOOL_TYPE = \"bool\"\n",
    "STRING_TYPE = \"string\"\n",
    "DICT_TYPE = pa.dictionary(\"int32\", \"string\")\n",
    "\n",
    "\n",
    "column_types = dict(\n",
    "    chartevents={\n",
    "        \"subject_id\": ID_TYPE,\n",
    "        \"hadm_id\": ID_TYPE,\n",
    "        \"stay_id\": ID_TYPE,\n",
    "        \"caregiver_id\": ID_TYPE,\n",
    "        \"itemid\": ID_TYPE,\n",
    "        \"charttime\": \"timestamp[s]\",\n",
    "        \"storetime\": \"timestamp[s]\",\n",
    "        \"value\": \"string\",\n",
    "        \"valuenum\": \"float32\",\n",
    "        \"valueuom\": \"string\",\n",
    "        \"warning\": \"bool\",\n",
    "    },\n",
    "    inputevents={\n",
    "        \"subject_id\": ID_TYPE,\n",
    "        \"hadm_id\": ID_TYPE,\n",
    "        \"stay_id\": ID_TYPE,\n",
    "        \"caregiver_id\": ID_TYPE,\n",
    "        \"starttime\": \"timestamp[s]\",\n",
    "        \"endtime\": \"timestamp[s]\",\n",
    "        \"storetime\": \"timestamp[s]\",\n",
    "        \"itemid\": ID_TYPE,\n",
    "        \"amount\": \"float32\",\n",
    "        \"amountuom\": \"string\",\n",
    "        \"rate\": \"float32\",\n",
    "        \"rateuom\": \"string\",\n",
    "        \"orderid\": ID_TYPE,\n",
    "        \"linkorderid\": ID_TYPE,\n",
    "        \"ordercategoryname\": \"string\",\n",
    "        \"secondaryordercategoryname\": \"string\",\n",
    "        \"ordercomponenttypedescription\": \"string\",\n",
    "        \"ordercategorydescription\": \"string\",\n",
    "        \"patientweight\": \"float32\",\n",
    "        \"totalamount\": \"float32\",\n",
    "        \"totalamountuom\": \"string\",\n",
    "        \"isopenbag\": \"bool\",\n",
    "        \"continueinnextdept\": \"bool\",\n",
    "        \"statusdescription\": \"string\",\n",
    "        \"originalamount\": \"float32\",\n",
    "        \"originalrate\": \"float32\",\n",
    "    },\n",
    "    outputevents={\n",
    "        \"subject_id\": ID_TYPE,\n",
    "        \"hadm_id\": ID_TYPE,\n",
    "        \"stay_id\": ID_TYPE,\n",
    "        \"caregiver_id\": ID_TYPE,\n",
    "        \"charttime\": TIME_TYPE,\n",
    "        \"storetime\": TIME_TYPE,\n",
    "        \"itemid\": ID_TYPE,\n",
    "        \"value\": VALUE_TYPE,\n",
    "        \"valueuom\": \"string\",\n",
    "    },\n",
    "    procedureevents={\n",
    "        \"subject_id\": ID_TYPE,\n",
    "        \"hadm_id\": ID_TYPE,\n",
    "        \"stay_id\": ID_TYPE,\n",
    "        \"caregiver_id\": ID_TYPE,\n",
    "        \"starttime\": \"timestamp[s]\",\n",
    "        \"endtime\": \"timestamp[s]\",\n",
    "        \"storetime\": \"timestamp[ns]\",\n",
    "        \"itemid\": ID_TYPE,\n",
    "        \"value\": \"float32\",\n",
    "        \"valueuom\": \"string\",\n",
    "        \"location\": \"string\",\n",
    "        \"locationcategory\": \"string\",\n",
    "        \"orderid\": ID_TYPE,\n",
    "        \"linkorderid\": ID_TYPE,\n",
    "        \"ordercategoryname\": \"string\",\n",
    "        \"ordercategorydescription\": \"string\",\n",
    "        \"patientweight\": \"float32\",\n",
    "        \"isopenbag\": \"bool\",\n",
    "        \"continueinnextdept\": \"bool\",\n",
    "        \"statusdescription\": \"string\",\n",
    "        \"originalamount\": \"float32\",\n",
    "        \"originalrate\": \"bool\",\n",
    "    },\n",
    "    datetimeevents={\n",
    "        \"subject_id\": ID_TYPE,\n",
    "        \"hadm_id\": ID_TYPE,\n",
    "        \"stay_id\": ID_TYPE,\n",
    "        \"caregiver_id\": ID_TYPE,\n",
    "        \"charttime\": \"timestamp[s]\",\n",
    "        \"storetime\": \"timestamp[s]\",\n",
    "        \"itemid\": ID_TYPE,\n",
    "        \"value\": \"timestamp[s]\",\n",
    "        \"valueuom\": \"string\",\n",
    "        \"warning\": \"bool\",\n",
    "    },\n",
    "    ingredientevents={\n",
    "        \"subject_id\": ID_TYPE,\n",
    "        \"hadm_id\": ID_TYPE,\n",
    "        \"stay_id\": ID_TYPE,\n",
    "        \"caregiver_id\": ID_TYPE,\n",
    "        \"starttime\": TIME_TYPE,\n",
    "        \"endtime\": TIME_TYPE,\n",
    "        \"storetime\": TIME_TYPE,\n",
    "        \"itemid\": ID_TYPE,\n",
    "        \"amount\": VALUE_TYPE,\n",
    "        \"amountuom\": STRING_TYPE,\n",
    "        \"rate\": VALUE_TYPE,\n",
    "        \"rateuom\": STRING_TYPE,\n",
    "        \"orderid\": ID_TYPE,\n",
    "        \"linkorderid\": ID_TYPE,\n",
    "        \"statusdescription\": STRING_TYPE,\n",
    "        \"originalamount\": VALUE_TYPE,\n",
    "        \"originalrate\": VALUE_TYPE,\n",
    "    },\n",
    "    icustays={\n",
    "        \"subject_id\": ID_TYPE,\n",
    "        \"hadm_id\": ID_TYPE,\n",
    "        \"stay_id\": ID_TYPE,\n",
    "        \"first_careunit\": STRING_TYPE,  # category\n",
    "        \"last_careunit\": STRING_TYPE,  # category\n",
    "        \"intime\": TIME_TYPE,\n",
    "        \"outtime\": TIME_TYPE,\n",
    "        \"los\": VALUE_TYPE,\n",
    "    },\n",
    "    d_items={\n",
    "        \"itemid\": ID_TYPE,\n",
    "        \"label\": STRING_TYPE,\n",
    "        \"abbreviation\": STRING_TYPE,\n",
    "        \"linksto\": STRING_TYPE,\n",
    "        \"category\": STRING_TYPE,\n",
    "        \"unitname\": STRING_TYPE,\n",
    "        \"param_type\": STRING_TYPE,\n",
    "        \"lownormalvalue\": VALUE_TYPE,\n",
    "        \"highnormalvalue\": VALUE_TYPE,\n",
    "    },\n",
    "    caregiver={\n",
    "        \"caregiver_id\": ID_TYPE,\n",
    "    },\n",
    "    transfers={\n",
    "        \"subject_id\": ID_TYPE,\n",
    "        \"hadm_id\": ID_TYPE,\n",
    "        \"transfer_id\": ID_TYPE,\n",
    "        \"eventtype\": STRING_TYPE,\n",
    "        \"careunit\": STRING_TYPE,\n",
    "        \"intime\": TIME_TYPE,\n",
    "        \"outtime\": TIME_TYPE,\n",
    "    },\n",
    "    admissions={\n",
    "        \"subject_id\": ID_TYPE,\n",
    "        \"hadm_id\": ID_TYPE,\n",
    "        \"admittime\": TIME_TYPE,\n",
    "        \"dischtime\": TIME_TYPE,\n",
    "        \"deathtime\": TIME_TYPE,\n",
    "        \"admission_type\": STRING_TYPE,\n",
    "        \"admit_provider_id\": STRING_TYPE,\n",
    "        \"admission_location\": STRING_TYPE,\n",
    "        \"discharge_location\": STRING_TYPE,\n",
    "        \"insurance\": STRING_TYPE,\n",
    "        \"language\": STRING_TYPE,\n",
    "        \"marital_status\": STRING_TYPE,\n",
    "        \"race\": STRING_TYPE,\n",
    "        \"edregtime\": TIME_TYPE,\n",
    "        \"edouttime\": TIME_TYPE,\n",
    "        \"hospital_expire_flag\": BOOL_TYPE,\n",
    "    },\n",
    "    services={\n",
    "        \"subject_id\": ID_TYPE,\n",
    "        \"hadm_id\": ID_TYPE,\n",
    "        \"transfertime\": TIME_TYPE,\n",
    "        \"prev_service\": STRING_TYPE,\n",
    "        \"curr_service\": STRING_TYPE,\n",
    "    },\n",
    "    provider={\n",
    "        \"provider_id\": STRING_TYPE,\n",
    "    },\n",
    "    procedures_icd={\n",
    "        \"subject_id\": ID_TYPE,\n",
    "        \"hadm_id\": ID_TYPE,\n",
    "        \"seq_num\": ID_TYPE,\n",
    "        \"chartdate\": DATE_TYPE,\n",
    "        \"icd_code\": STRING_TYPE,\n",
    "        \"icd_version\": ID_TYPE,\n",
    "    },\n",
    "    prescriptions={\n",
    "        \"subject_id\": ID_TYPE,\n",
    "        \"hadm_id\": ID_TYPE,\n",
    "        \"pharmacy_id\": ID_TYPE,\n",
    "        \"poe_id\": STRING_TYPE,\n",
    "        \"poe_seq\": ID_TYPE,\n",
    "        \"order_provider_id\": STRING_TYPE,\n",
    "        \"starttime\": TIME_TYPE,\n",
    "        \"stoptime\": TIME_TYPE,\n",
    "        \"drug_type\": STRING_TYPE,\n",
    "        \"drug\": STRING_TYPE,\n",
    "        \"formulary_drug_cd\": STRING_TYPE,\n",
    "        \"gsn\": STRING_TYPE,\n",
    "        \"ndc\": STRING_TYPE,\n",
    "        \"prod_strength\": STRING_TYPE,\n",
    "        \"form_rx\": STRING_TYPE,\n",
    "        \"dose_val_rx\": STRING_TYPE,  # cast to float32\n",
    "        \"dose_unit_rx\": STRING_TYPE,\n",
    "        \"form_val_disp\": STRING_TYPE,  # cast to float32\n",
    "        \"form_unit_disp\": STRING_TYPE,\n",
    "        \"doses_per_24_hrs\": VALUE_TYPE,\n",
    "        \"route\": STRING_TYPE,\n",
    "    },\n",
    "    poe_detail={\n",
    "        \"poe_id\": STRING_TYPE,\n",
    "        \"poe_seq\": ID_TYPE,\n",
    "        \"subject_id\": ID_TYPE,\n",
    "        \"field_name\": STRING_TYPE,\n",
    "        \"field_value\": STRING_TYPE,\n",
    "    },\n",
    "    poe={\n",
    "        \"poe_id\": STRING_TYPE,\n",
    "        \"poe_seq\": ID_TYPE,\n",
    "        \"subject_id\": ID_TYPE,\n",
    "        \"hadm_id\": ID_TYPE,\n",
    "        \"ordertime\": TIME_TYPE,\n",
    "        \"order_type\": STRING_TYPE,\n",
    "        \"order_subtype\": STRING_TYPE,\n",
    "        \"transaction_type\": STRING_TYPE,\n",
    "        \"discontinue_of_poe_id\": STRING_TYPE,\n",
    "        \"discontinued_by_poe_id\": STRING_TYPE,\n",
    "        \"order_provider_id\": STRING_TYPE,\n",
    "        \"order_status\": STRING_TYPE,\n",
    "    },\n",
    "    pharmacy={\n",
    "        \"subject_id\": ID_TYPE,\n",
    "        \"hadm_id\": ID_TYPE,\n",
    "        \"pharmacy_id\": ID_TYPE,\n",
    "        \"poe_id\": STRING_TYPE,\n",
    "        \"starttime\": TIME_TYPE,\n",
    "        \"stoptime\": TIME_TYPE,\n",
    "        \"medication\": STRING_TYPE,\n",
    "        \"proc_type\": STRING_TYPE,\n",
    "        \"status\": STRING_TYPE,\n",
    "        \"entertime\": TIME_TYPE,\n",
    "        \"verifiedtime\": TIME_TYPE,\n",
    "        \"route\": STRING_TYPE,\n",
    "        \"frequency\": STRING_TYPE,\n",
    "        \"disp_sched\": STRING_TYPE,\n",
    "        \"infusion_type\": STRING_TYPE,\n",
    "        \"sliding_scale\": BOOL_TYPE,\n",
    "        \"lockout_interval\": STRING_TYPE,\n",
    "        \"basal_rate\": VALUE_TYPE,\n",
    "        \"one_hr_max\": STRING_TYPE,\n",
    "        \"doses_per_24_hrs\": VALUE_TYPE,\n",
    "        \"duration\": VALUE_TYPE,\n",
    "        \"duration_interval\": STRING_TYPE,\n",
    "        \"expiration_value\": VALUE_TYPE,\n",
    "        \"expiration_unit\": STRING_TYPE,\n",
    "        \"expirationdate\": TIME_TYPE,\n",
    "        \"dispensation\": STRING_TYPE,\n",
    "        \"fill_quantity\": STRING_TYPE,\n",
    "    },\n",
    "    patients={\n",
    "        \"subject_id\": ID_TYPE,\n",
    "        \"gender\": STRING_TYPE,\n",
    "        \"anchor_age\": ID_TYPE,\n",
    "        \"anchor_year\": ID_TYPE,\n",
    "        \"anchor_year_group\": STRING_TYPE,\n",
    "        \"dod\": DATE_TYPE,\n",
    "    },\n",
    "    omr={\n",
    "        \"subject_id\": ID_TYPE,\n",
    "        \"chartdate\": DATE_TYPE,\n",
    "        \"seq_num\": ID_TYPE,\n",
    "        \"result_name\": STRING_TYPE,\n",
    "        \"result_value\": (\n",
    "            STRING_TYPE\n",
    "        ),  # split into 2 floats (blood pressure systolic/diastolic).\n",
    "    },\n",
    "    microbiologyevents={\n",
    "        \"microevent_id\": ID_TYPE,\n",
    "        \"subject_id\": ID_TYPE,\n",
    "        \"hadm_id\": ID_TYPE,\n",
    "        \"micro_specimen_id\": ID_TYPE,\n",
    "        \"order_provider_id\": STRING_TYPE,\n",
    "        \"chartdate\": TIME_TYPE,\n",
    "        \"charttime\": TIME_TYPE,\n",
    "        \"spec_itemid\": ID_TYPE,\n",
    "        \"spec_type_desc\": STRING_TYPE,\n",
    "        \"test_seq\": ID_TYPE,\n",
    "        \"storedate\": TIME_TYPE,\n",
    "        \"storetime\": TIME_TYPE,\n",
    "        \"test_itemid\": ID_TYPE,\n",
    "        \"test_name\": STRING_TYPE,\n",
    "        \"org_itemid\": ID_TYPE,\n",
    "        \"org_name\": STRING_TYPE,\n",
    "        \"isolate_num\": ID_TYPE,\n",
    "        \"quantity\": STRING_TYPE,\n",
    "        \"ab_itemid\": ID_TYPE,\n",
    "        \"ab_name\": STRING_TYPE,\n",
    "        \"dilution_text\": STRING_TYPE,  # convert to float\n",
    "        \"dilution_comparison\": STRING_TYPE,\n",
    "        \"dilution_value\": VALUE_TYPE,\n",
    "        \"interpretation\": STRING_TYPE,\n",
    "        \"comments\": STRING_TYPE,\n",
    "    },\n",
    "    labevents={\n",
    "        \"labevent_id\": ID_TYPE,\n",
    "        \"subject_id\": ID_TYPE,\n",
    "        \"hadm_id\": ID_TYPE,\n",
    "        \"specimen_id\": ID_TYPE,\n",
    "        \"itemid\": ID_TYPE,\n",
    "        \"order_provider_id\": DICT_TYPE,\n",
    "        \"charttime\": TIME_TYPE,\n",
    "        \"storetime\": TIME_TYPE,\n",
    "        \"value\": DICT_TYPE,  # cast Float32\n",
    "        \"valuenum\": STRING_TYPE,  # cast Float32\n",
    "        \"valueuom\": DICT_TYPE,\n",
    "        \"ref_range_lower\": VALUE_TYPE,\n",
    "        \"ref_range_upper\": VALUE_TYPE,\n",
    "        \"flag\": DICT_TYPE,\n",
    "        \"priority\": DICT_TYPE,\n",
    "        \"comments\": STRING_TYPE,\n",
    "    },\n",
    "    hcpcsevents={\n",
    "        \"subject_id\": ID_TYPE,\n",
    "        \"hadm_id\": ID_TYPE,\n",
    "        \"chartdate\": DATE_TYPE,\n",
    "        \"hcpcs_cd\": DICT_TYPE,\n",
    "        \"seq_num\": ID_TYPE,\n",
    "        \"short_description\": DICT_TYPE,\n",
    "    },\n",
    "    emar_detail={\n",
    "        \"subject_id\": ID_TYPE,\n",
    "        \"emar_id\": STRING_TYPE,\n",
    "        \"emar_seq\": ID_TYPE,\n",
    "        \"parent_field_ordinal\": DICT_TYPE,\n",
    "        \"administration_type\": DICT_TYPE,\n",
    "        \"pharmacy_id\": ID_TYPE,\n",
    "        \"barcode_type\": DICT_TYPE,\n",
    "        \"reason_for_no_barcode\": STRING_TYPE,\n",
    "        \"complete_dose_not_given\": BOOL_TYPE,\n",
    "        \"dose_due\": STRING_TYPE,  # cast float\n",
    "        \"dose_due_unit\": DICT_TYPE,\n",
    "        \"dose_given\": STRING_TYPE,  # cast float\n",
    "        \"dose_given_unit\": DICT_TYPE,\n",
    "        \"will_remainder_of_dose_be_given\": BOOL_TYPE,\n",
    "        \"product_amount_given\": STRING_TYPE,  # cast float\n",
    "        \"product_unit\": DICT_TYPE,\n",
    "        \"product_code\": DICT_TYPE,\n",
    "        \"product_description\": STRING_TYPE,\n",
    "        \"product_description_other\": STRING_TYPE,\n",
    "        \"prior_infusion_rate\": STRING_TYPE,  # cast float\n",
    "        \"infusion_rate\": STRING_TYPE,  # cast float\n",
    "        \"infusion_rate_adjustment\": DICT_TYPE,\n",
    "        \"infusion_rate_adjustment_amount\": STRING_TYPE,  # cast float\n",
    "        \"infusion_rate_unit\": DICT_TYPE,\n",
    "        \"route\": DICT_TYPE,\n",
    "        \"infusion_complete\": BOOL_TYPE,\n",
    "        \"completion_interval\": DICT_TYPE,\n",
    "        \"new_iv_bag_hung\": BOOL_TYPE,\n",
    "        \"continued_infusion_in_other_location\": BOOL_TYPE,\n",
    "        \"restart_interval\": DICT_TYPE,\n",
    "        \"side\": DICT_TYPE,\n",
    "        \"site\": DICT_TYPE,\n",
    "        \"non_formulary_visual_verification\": BOOL_TYPE,\n",
    "    },\n",
    "    emar={\n",
    "        \"subject_id\": ID_TYPE,\n",
    "        \"hadm_id\": ID_TYPE,\n",
    "        \"emar_id\": STRING_TYPE,\n",
    "        \"emar_seq\": ID_TYPE,\n",
    "        \"poe_id\": STRING_TYPE,\n",
    "        \"pharmacy_id\": ID_TYPE,\n",
    "        \"enter_provider_id\": DICT_TYPE,\n",
    "        \"charttime\": TIME_TYPE,\n",
    "        \"medication\": DICT_TYPE,\n",
    "        \"event_txt\": DICT_TYPE,\n",
    "        \"scheduletime\": TIME_TYPE,\n",
    "        \"storetime\": TIME_TYPE,\n",
    "    },\n",
    "    drgcodes={\n",
    "        \"subject_id\": ID_TYPE,\n",
    "        \"hadm_id\": ID_TYPE,\n",
    "        \"drg_type\": DICT_TYPE,\n",
    "        \"drg_code\": ID_TYPE,\n",
    "        \"description\": DICT_TYPE,\n",
    "        \"drg_severity\": ID_TYPE,\n",
    "        \"drg_mortality\": ID_TYPE,\n",
    "    },\n",
    "    diagnoses_icd={\n",
    "        \"subject_id\": ID_TYPE,\n",
    "        \"hadm_id\": ID_TYPE,\n",
    "        \"seq_num\": ID_TYPE,\n",
    "        \"icd_code\": DICT_TYPE,\n",
    "        \"icd_version\": ID_TYPE,\n",
    "    },\n",
    "    d_labitems={\n",
    "        \"itemid\": ID_TYPE,\n",
    "        \"label\": STRING_TYPE,\n",
    "        \"fluid\": DICT_TYPE,\n",
    "        \"category\": DICT_TYPE,\n",
    "    },\n",
    "    d_icd_procedures={\n",
    "        \"icd_code\": STRING_TYPE,\n",
    "        \"icd_version\": ID_TYPE,\n",
    "        \"long_title\": STRING_TYPE,\n",
    "    },\n",
    "    d_icd_diagnoses={\n",
    "        \"icd_code\": STRING_TYPE,\n",
    "        \"icd_version\": ID_TYPE,\n",
    "        \"long_title\": STRING_TYPE,\n",
    "    },\n",
    "    d_hcpcs={\n",
    "        \"code\": STRING_TYPE,\n",
    "        \"category\": ID_TYPE,\n",
    "        \"long_description\": STRING_TYPE,\n",
    "        \"short_description\": DICT_TYPE,\n",
    "    },\n",
    ");"
   ]
  },
  {
   "cell_type": "markdown",
   "metadata": {},
   "source": [
    "## d_hcpcs"
   ]
  },
  {
   "cell_type": "code",
   "execution_count": null,
   "metadata": {
    "tags": []
   },
   "outputs": [],
   "source": [
    "table = get_table(\n",
    "    \"mimic-iv-2.2/hosp/d_hcpcs.csv.gz\",\n",
    "    convert_options=csv.ConvertOptions(\n",
    "        column_types=column_types[\"d_hcpcs\"],\n",
    "        strings_can_be_null=True,\n",
    "        # null_values=[\"\", \"___\"],\n",
    "        # true_values=[\"Yes\", \"Y\"],\n",
    "        # false_values=[\"No\", \"N\"],\n",
    "    ),\n",
    ")\n",
    "table_info(table)\n",
    "# pa.compute.unique(table[\"poe_seq\"])"
   ]
  },
  {
   "cell_type": "markdown",
   "metadata": {},
   "source": [
    "## d_icd_diagnoses"
   ]
  },
  {
   "cell_type": "code",
   "execution_count": null,
   "metadata": {
    "tags": []
   },
   "outputs": [],
   "source": [
    "table = get_table(\n",
    "    \"mimic-iv-2.2/hosp/d_icd_diagnoses.csv.gz\",\n",
    "    convert_options=csv.ConvertOptions(\n",
    "        column_types=column_types[\"d_icd_diagnoses\"],\n",
    "        strings_can_be_null=True,\n",
    "        # null_values=[\"\", \"___\"],\n",
    "        # true_values=[\"Yes\", \"Y\"],\n",
    "        # false_values=[\"No\", \"N\"],\n",
    "    ),\n",
    ")\n",
    "table_info(table)\n",
    "# pa.compute.unique(table[\"poe_seq\"])"
   ]
  },
  {
   "cell_type": "markdown",
   "metadata": {},
   "source": [
    "## d_icd_procedures"
   ]
  },
  {
   "cell_type": "code",
   "execution_count": null,
   "metadata": {
    "tags": []
   },
   "outputs": [],
   "source": [
    "table = get_table(\n",
    "    \"mimic-iv-2.2/hosp/d_icd_procedures.csv.gz\",\n",
    "    convert_options=csv.ConvertOptions(\n",
    "        # column_types=column_types[\"d_icd_procedures\"],\n",
    "        strings_can_be_null=True,\n",
    "        # null_values=[\"\", \"___\"],\n",
    "        # true_values=[\"Yes\", \"Y\"],\n",
    "        # false_values=[\"No\", \"N\"],\n",
    "    ),\n",
    ")\n",
    "table_info(table)\n",
    "# pa.compute.unique(table[\"poe_seq\"])"
   ]
  },
  {
   "cell_type": "markdown",
   "metadata": {},
   "source": [
    "## d_labitems"
   ]
  },
  {
   "cell_type": "code",
   "execution_count": null,
   "metadata": {
    "tags": []
   },
   "outputs": [],
   "source": [
    "table = get_table(\n",
    "    \"mimic-iv-2.2/hosp/d_labitems.csv.gz\",\n",
    "    convert_options=csv.ConvertOptions(\n",
    "        column_types=column_types[\"d_labitems\"],\n",
    "        strings_can_be_null=True,\n",
    "        # null_values=[\"\", \"___\"],\n",
    "        # true_values=[\"Yes\", \"Y\"],\n",
    "        # false_values=[\"No\", \"N\"],\n",
    "    ),\n",
    ")\n",
    "table_info(table)\n",
    "# pa.compute.unique(table[\"poe_seq\"])"
   ]
  },
  {
   "cell_type": "markdown",
   "metadata": {},
   "source": [
    "## diagnoses_icd"
   ]
  },
  {
   "cell_type": "code",
   "execution_count": null,
   "metadata": {
    "tags": []
   },
   "outputs": [],
   "source": [
    "table = get_table(\n",
    "    \"mimic-iv-2.2/hosp/diagnoses_icd.csv.gz\",\n",
    "    convert_options=csv.ConvertOptions(\n",
    "        column_types=column_types[\"diagnoses_icd\"],\n",
    "        strings_can_be_null=True,\n",
    "        # null_values=[\"\", \"___\"],\n",
    "        # true_values=[\"Yes\", \"Y\"],\n",
    "        # false_values=[\"No\", \"N\"],\n",
    "    ),\n",
    ")\n",
    "table_info(table)\n",
    "# pa.compute.unique(table[\"poe_seq\"])"
   ]
  },
  {
   "cell_type": "markdown",
   "metadata": {},
   "source": [
    "## drgcodes"
   ]
  },
  {
   "cell_type": "code",
   "execution_count": null,
   "metadata": {
    "tags": []
   },
   "outputs": [],
   "source": [
    "table = get_table(\n",
    "    \"mimic-iv-2.2/hosp/drgcodes.csv.gz\",\n",
    "    convert_options=csv.ConvertOptions(\n",
    "        column_types=column_types[\"drgcodes\"],\n",
    "        strings_can_be_null=True,\n",
    "        # null_values=[\"\", \"___\"],\n",
    "        # true_values=[\"Yes\", \"Y\"],\n",
    "        # false_values=[\"No\", \"N\"],\n",
    "    ),\n",
    ")\n",
    "table_info(table)\n",
    "# pa.compute.unique(table[\"poe_seq\"])"
   ]
  },
  {
   "cell_type": "markdown",
   "metadata": {},
   "source": [
    "## emar"
   ]
  },
  {
   "cell_type": "code",
   "execution_count": null,
   "metadata": {
    "tags": []
   },
   "outputs": [],
   "source": [
    "table = get_table(\n",
    "    \"mimic-iv-2.2/hosp/emar.csv.gz\",\n",
    "    convert_options=csv.ConvertOptions(\n",
    "        column_types=column_types[\"emar\"],\n",
    "        strings_can_be_null=True,\n",
    "        # null_values=[\"\", \"___\"],\n",
    "        # true_values=[\"Yes\", \"Y\"],\n",
    "        # false_values=[\"No\", \"N\"],\n",
    "    ),\n",
    ")\n",
    "table_info(table)\n",
    "# pa.compute.unique(table[\"poe_seq\"])"
   ]
  },
  {
   "cell_type": "markdown",
   "metadata": {},
   "source": [
    "## emar_detail"
   ]
  },
  {
   "cell_type": "code",
   "execution_count": null,
   "metadata": {
    "tags": []
   },
   "outputs": [],
   "source": [
    "table = get_table(\n",
    "    \"mimic-iv-2.2/hosp/emar_detail.csv.gz\",\n",
    "    convert_options=csv.ConvertOptions(\n",
    "        column_types=column_types[\"emar_detail\"],\n",
    "        strings_can_be_null=True,\n",
    "        null_values=[\"\", \"___\"],\n",
    "        true_values=[\"Yes\", \"Y\"],\n",
    "        false_values=[\"No\", \"N\"],\n",
    "    ),\n",
    ")\n",
    "table_info(table)\n",
    "# pa.compute.unique(table[\"poe_seq\"])"
   ]
  },
  {
   "cell_type": "code",
   "execution_count": null,
   "metadata": {
    "tags": []
   },
   "outputs": [],
   "source": [
    "recast_columns = {\n",
    "    \"dose_due\": VALUE_TYPE,\n",
    "    \"dose_given\": VALUE_TYPE,\n",
    "    \"product_amount_given\": VALUE_TYPE,\n",
    "    \"prior_infusion_rate\": VALUE_TYPE,\n",
    "    \"infusion_rate\": VALUE_TYPE,\n",
    "    \"infusion_rate_adjustment_amount\": VALUE_TYPE,\n",
    "}"
   ]
  },
  {
   "cell_type": "code",
   "execution_count": null,
   "metadata": {
    "tags": []
   },
   "outputs": [],
   "source": [
    "for col in recast_columns:\n",
    "    array = pa.compute.utf8_trim_whitespace(table[col])\n",
    "\n",
    "    try:\n",
    "        table = table.set_column(\n",
    "            table.column_names.index(col),\n",
    "            col,\n",
    "            pa.compute.cast(array, pa.float32()),\n",
    "        )\n",
    "    except pa.ArrowInvalid:\n",
    "        pass\n",
    "    else:\n",
    "        continue\n",
    "\n",
    "    prior_null = pa.compute.is_null(array)\n",
    "    post_null = pa.compute.is_null(\n",
    "        pa.Array.from_pandas(\n",
    "            pd.to_numeric(\n",
    "                pd.Series(array, dtype=\"string[pyarrow]\"),\n",
    "                errors=\"coerce\",\n",
    "                dtype_backend=\"pyarrow\",\n",
    "                downcast=pa.float32(),\n",
    "            )\n",
    "        )\n",
    "    )\n",
    "\n",
    "    # mask the values that were initially null or can be cast to float.\n",
    "    mask = pa.compute.or_(\n",
    "        prior_null,\n",
    "        pa.compute.invert(post_null),\n",
    "    )\n",
    "    dropped = 1 - pa.compute.mean(mask).as_py()\n",
    "    print(f\"Dropping {dropped:.4%} of rows: {col} can't be cast to float!\")\n",
    "    table = table.filter(mask)\n",
    "    table = table.set_column(\n",
    "        table.column_names.index(col),\n",
    "        col,\n",
    "        pa.compute.cast(\n",
    "            array.filter(mask),\n",
    "            pa.float32(),\n",
    "        ),\n",
    "    )"
   ]
  },
  {
   "cell_type": "markdown",
   "metadata": {},
   "source": [
    "## hcpcsevents"
   ]
  },
  {
   "cell_type": "code",
   "execution_count": null,
   "metadata": {
    "tags": []
   },
   "outputs": [],
   "source": [
    "table = get_table(\n",
    "    \"mimic-iv-2.2/hosp/hcpcsevents.csv.gz\",\n",
    "    convert_options=csv.ConvertOptions(\n",
    "        column_types=column_types[\"hcpcsevents\"],\n",
    "        strings_can_be_null=True,\n",
    "        # null_values=[\"\", \"___\"],\n",
    "    ),\n",
    ")\n",
    "table_info(table)\n",
    "# pa.compute.unique(table[\"poe_seq\"])"
   ]
  },
  {
   "cell_type": "markdown",
   "metadata": {},
   "source": [
    "## Labevents"
   ]
  },
  {
   "cell_type": "code",
   "execution_count": null,
   "metadata": {
    "tags": []
   },
   "outputs": [],
   "source": [
    "table = get_table(\n",
    "    \"mimic-iv-2.2/hosp/labevents.csv.gz\",\n",
    "    convert_options=csv.ConvertOptions(\n",
    "        column_types=column_types[\"labevents\"],\n",
    "        strings_can_be_null=True,\n",
    "        null_values=[\"\", \"___\"],\n",
    "    ),\n",
    ")"
   ]
  },
  {
   "cell_type": "code",
   "execution_count": null,
   "metadata": {},
   "outputs": [],
   "source": [
    "table.schema"
   ]
  },
  {
   "cell_type": "code",
   "execution_count": null,
   "metadata": {},
   "outputs": [],
   "source": [
    "%timeit table[\"value\"].value_counts();"
   ]
  },
  {
   "cell_type": "code",
   "execution_count": null,
   "metadata": {},
   "outputs": [],
   "source": [
    "%timeit table[\"value\"].combine_chunks().value_counts();"
   ]
  },
  {
   "cell_type": "code",
   "execution_count": null,
   "metadata": {},
   "outputs": [],
   "source": [
    "len(table[\"value\"].unique())"
   ]
  },
  {
   "cell_type": "code",
   "execution_count": null,
   "metadata": {},
   "outputs": [],
   "source": [
    "x = table[\"value\"].cast(pa.string()).combine_chunks().value_counts()"
   ]
  },
  {
   "cell_type": "code",
   "execution_count": null,
   "metadata": {},
   "outputs": [],
   "source": [
    "for col in table.column_names:\n",
    "    print(col, compute_entropy(table[col].combine_chunks().value_counts()))"
   ]
  },
  {
   "cell_type": "code",
   "execution_count": null,
   "metadata": {},
   "outputs": [],
   "source": [
    "import matplotlib.pyplot as plt"
   ]
  },
  {
   "cell_type": "code",
   "execution_count": null,
   "metadata": {},
   "outputs": [],
   "source": [
    "vals = table[\"value\"].drop_null().combine_chunks().value_counts()\n",
    "counts = vals.field(1).sort().cast(pa.float64())\n",
    "freq = pa.compute.divide(counts, counts.sum())"
   ]
  },
  {
   "cell_type": "code",
   "execution_count": null,
   "metadata": {},
   "outputs": [],
   "source": [
    "compute_entropy(vals, normalize=True)"
   ]
  },
  {
   "cell_type": "code",
   "execution_count": null,
   "metadata": {},
   "outputs": [],
   "source": [
    "fig, ax = plt.subplots(figsize=(5, 3))\n",
    "ax.set_xlabel(\"value_counts: frequency\")\n",
    "ax.set_ylabel(\"value_counts: likelihood\")\n",
    "# ax.set_xscale(\"log\")\n",
    "ax.hist(freq, bins=20, log=True);"
   ]
  },
  {
   "cell_type": "markdown",
   "metadata": {
    "tags": []
   },
   "source": [
    "### drop everything that has no hadm_id or null value or null valueuom"
   ]
  },
  {
   "cell_type": "code",
   "execution_count": null,
   "metadata": {
    "tags": []
   },
   "outputs": [],
   "source": [
    "adm_null = pa.compute.is_null(table[\"hadm_id\"])\n",
    "val_null = pa.compute.is_null(table[\"value\"])\n",
    "num_null = pa.compute.is_null(table[\"valuenum\"])\n",
    "uom_null = pa.compute.is_null(table[\"valueuom\"])\n",
    "mask = pa.compute.invert(\n",
    "    pa.compute.or_(\n",
    "        pa.compute.or_(adm_null, val_null),\n",
    "        pa.compute.or_(num_null, uom_null),\n",
    "    )\n",
    ")\n",
    "table = pa.compute.filter(table, mask)\n",
    "table_info(table)"
   ]
  },
  {
   "cell_type": "markdown",
   "metadata": {},
   "source": [
    "### cast value/valuenum to float"
   ]
  },
  {
   "cell_type": "code",
   "execution_count": null,
   "metadata": {
    "tags": []
   },
   "outputs": [],
   "source": [
    "table = table.set_column(\n",
    "    table.column_names.index(\"value\"),\n",
    "    \"value\",\n",
    "    pa.compute.cast(table.column(\"value\"), pa.float32()),\n",
    ")\n",
    "table = table.set_column(\n",
    "    table.column_names.index(\"valuenum\"),\n",
    "    \"valuenum\",\n",
    "    pa.compute.cast(table.column(\"valuenum\"), pa.float32()),\n",
    ")\n",
    "assert pa.compute.all(pa.compute.equal(table[\"value\"], table[\"valuenum\"])).as_py()\n",
    "table.schema"
   ]
  },
  {
   "cell_type": "markdown",
   "metadata": {},
   "source": [
    "## microbiologyevents"
   ]
  },
  {
   "cell_type": "code",
   "execution_count": null,
   "metadata": {
    "tags": []
   },
   "outputs": [],
   "source": [
    "table = get_table(\n",
    "    \"mimic-iv-2.2/hosp/microbiologyevents.csv.gz\",\n",
    "    convert_options=csv.ConvertOptions(\n",
    "        column_types=column_types[\"microbiologyevents\"],\n",
    "        strings_can_be_null=True,\n",
    "        # null_values=null_values,\n",
    "    ),\n",
    ")\n",
    "table_info(table)\n",
    "# pa.compute.unique(table[\"poe_seq\"])"
   ]
  },
  {
   "cell_type": "markdown",
   "metadata": {},
   "source": [
    "### convert  dilution"
   ]
  },
  {
   "cell_type": "code",
   "execution_count": null,
   "metadata": {},
   "outputs": [],
   "source": [
    "dilution = table[\"dilution_text\"]\n",
    "dilution = pa.compute.replace_substring(dilution, \"<\", \"\")\n",
    "dilution = pa.compute.replace_substring(dilution, \">\", \"\")\n",
    "dilution = pa.compute.replace_substring(dilution, \"=\", \"\")\n",
    "dilution = pa.compute.cast(dilution, pa.float32())"
   ]
  },
  {
   "cell_type": "markdown",
   "metadata": {},
   "source": [
    "## omr"
   ]
  },
  {
   "cell_type": "code",
   "execution_count": null,
   "metadata": {
    "tags": []
   },
   "outputs": [],
   "source": [
    "table = get_table(\n",
    "    \"mimic-iv-2.2/hosp/omr.csv.gz\",\n",
    "    convert_options=csv.ConvertOptions(\n",
    "        column_types=column_types[\"omr\"],\n",
    "        strings_can_be_null=True,\n",
    "        # null_values=null_values,\n",
    "    ),\n",
    ")\n",
    "table_info(table)\n",
    "# pa.compute.unique(table[\"poe_seq\"])"
   ]
  },
  {
   "cell_type": "code",
   "execution_count": null,
   "metadata": {
    "tags": []
   },
   "outputs": [],
   "source": [
    "s = pd.Series(\n",
    "    table[\"result_value\"],\n",
    "    dtype=\"string[pyarrow]\",\n",
    ").str.split(\"/\", expand=True)\n",
    "\n",
    "mask = pd.to_numeric(s[0], dtype_backend=\"pyarrow\", errors=\"coerce\").notnull()\n",
    "\n",
    "\n",
    "# add the columns to the table\n",
    "table = table.set_column(\n",
    "    table.column_names.index(\"result_value\") + 1,\n",
    "    \"result_value_B\",\n",
    "    pa.array(s[1]),\n",
    ")\n",
    "\n",
    "table = table.set_column(\n",
    "    table.column_names.index(\"result_value\") + 0,\n",
    "    \"result_value_A\",\n",
    "    pa.array(s[0]),\n",
    ")\n",
    "\n",
    "# apply mask filtering\n",
    "table = pa.compute.filter(table, pa.array(mask))\n",
    "\n",
    "# cast values to float\n",
    "table = table.set_column(\n",
    "    table.column_names.index(\"result_value_A\"),\n",
    "    \"result_value_A\",\n",
    "    pa.compute.cast(table[\"result_value_A\"], pa.float32()),\n",
    ")\n",
    "\n",
    "table = table.set_column(\n",
    "    table.column_names.index(\"result_value_B\"),\n",
    "    \"result_value_B\",\n",
    "    pa.compute.cast(table[\"result_value_B\"], pa.float32()),\n",
    ")\n",
    "table_info(table)"
   ]
  },
  {
   "cell_type": "markdown",
   "metadata": {},
   "source": [
    "## patients"
   ]
  },
  {
   "cell_type": "code",
   "execution_count": null,
   "metadata": {
    "tags": []
   },
   "outputs": [],
   "source": [
    "table = get_table(\n",
    "    \"mimic-iv-2.2/hosp/patients.csv.gz\",\n",
    "    convert_options=csv.ConvertOptions(\n",
    "        column_types=column_types[\"patients\"],\n",
    "        strings_can_be_null=True,\n",
    "        # null_values=null_values,\n",
    "    ),\n",
    ")\n",
    "table_info(table)\n",
    "# pa.compute.unique(table[\"poe_seq\"])"
   ]
  },
  {
   "cell_type": "markdown",
   "metadata": {},
   "source": [
    "## pharmacy"
   ]
  },
  {
   "cell_type": "code",
   "execution_count": null,
   "metadata": {
    "tags": []
   },
   "outputs": [],
   "source": [
    "table = get_table(\n",
    "    \"mimic-iv-2.2/hosp/pharmacy.csv.gz\",\n",
    "    convert_options=csv.ConvertOptions(\n",
    "        column_types=column_types[\"pharmacy\"],\n",
    "        strings_can_be_null=True,\n",
    "        false_values=[\"N\"],\n",
    "        true_values=[\"Y\"],\n",
    "        # null_values=null_values,\n",
    "    ),\n",
    ")\n",
    "table_info(table)\n",
    "# pa.compute.unique(table[\"poe_seq\"])"
   ]
  },
  {
   "cell_type": "markdown",
   "metadata": {},
   "source": [
    "## poe"
   ]
  },
  {
   "cell_type": "code",
   "execution_count": null,
   "metadata": {
    "tags": []
   },
   "outputs": [],
   "source": [
    "table = get_table(\n",
    "    \"mimic-iv-2.2/hosp/poe.csv.gz\",\n",
    "    convert_options=csv.ConvertOptions(\n",
    "        column_types=column_types[\"poe\"],\n",
    "        strings_can_be_null=True,\n",
    "        # null_values=null_values,\n",
    "    ),\n",
    ")\n",
    "table_info(table)\n",
    "# pa.compute.unique(table[\"poe_seq\"])"
   ]
  },
  {
   "cell_type": "markdown",
   "metadata": {},
   "source": [
    "## poe_detail"
   ]
  },
  {
   "cell_type": "code",
   "execution_count": null,
   "metadata": {
    "tags": []
   },
   "outputs": [],
   "source": [
    "table = get_table(\n",
    "    \"mimic-iv-2.2/hosp/poe_detail.csv.gz\",\n",
    "    convert_options=csv.ConvertOptions(\n",
    "        column_types=column_types[\"poe_detail\"],\n",
    "        strings_can_be_null=True,\n",
    "        # null_values=null_values,\n",
    "    ),\n",
    ")\n",
    "table_info(table)\n",
    "# pa.compute.unique(table[\"poe_seq\"])"
   ]
  },
  {
   "cell_type": "markdown",
   "metadata": {},
   "source": [
    "## prescriptions"
   ]
  },
  {
   "cell_type": "code",
   "execution_count": null,
   "metadata": {
    "tags": []
   },
   "outputs": [],
   "source": [
    "table = get_table(\n",
    "    \"mimic-iv-2.2/hosp/prescriptions.csv.gz\",\n",
    "    convert_options=csv.ConvertOptions(\n",
    "        column_types=column_types[\"prescriptions\"],\n",
    "        strings_can_be_null=True,\n",
    "        # null_values=null_values,\n",
    "    ),\n",
    ")\n",
    "table_info(table)\n",
    "# pa.compute.unique(table[\"poe_seq\"])"
   ]
  },
  {
   "cell_type": "markdown",
   "metadata": {},
   "source": [
    "### drop val columns that are not float"
   ]
  },
  {
   "cell_type": "code",
   "execution_count": null,
   "metadata": {
    "tags": []
   },
   "outputs": [],
   "source": [
    "mask_dose = pd.to_numeric(\n",
    "    pd.Series(table[\"dose_val_rx\"]),\n",
    "    errors=\"coerce\",\n",
    "    dtype_backend=\"pyarrow\",\n",
    "    downcast=pa.float32(),\n",
    ").notnull()\n",
    "mask_form = pd.to_numeric(\n",
    "    pd.Series(table[\"form_val_disp\"]),\n",
    "    errors=\"coerce\",\n",
    "    dtype_backend=\"pyarrow\",\n",
    "    downcast=pa.float32(),\n",
    ").notnull()\n",
    "\n",
    "\n",
    "mask = pa.array(mask_dose & mask_form)\n",
    "table = pa.compute.filter(table, mask)\n",
    "\n",
    "table = table.set_column(\n",
    "    table.column_names.index(\"dose_val_rx\"),\n",
    "    \"dose_val_rx\",\n",
    "    pa.compute.cast(table.column(\"dose_val_rx\"), pa.float32()),\n",
    ")\n",
    "table = table.set_column(\n",
    "    table.column_names.index(\"form_val_disp\"),\n",
    "    \"form_val_disp\",\n",
    "    pa.compute.cast(table.column(\"form_val_disp\"), pa.float32()),\n",
    ")\n",
    "table_info(table)"
   ]
  },
  {
   "cell_type": "markdown",
   "metadata": {},
   "source": [
    "## procedures_icd"
   ]
  },
  {
   "cell_type": "code",
   "execution_count": null,
   "metadata": {
    "tags": []
   },
   "outputs": [],
   "source": [
    "table = get_table(\n",
    "    \"mimic-iv-2.2/hosp/procedures_icd.csv.gz\",\n",
    "    convert_options=csv.ConvertOptions(\n",
    "        column_types=column_types[\"procedures_icd\"],\n",
    "        strings_can_be_null=True,\n",
    "        # null_values=null_values,\n",
    "    ),\n",
    ")\n",
    "table_info(table)\n",
    "# pa.compute.unique(table[\"chartdate\"])"
   ]
  },
  {
   "cell_type": "markdown",
   "metadata": {},
   "source": [
    "## provider"
   ]
  },
  {
   "cell_type": "code",
   "execution_count": null,
   "metadata": {
    "tags": []
   },
   "outputs": [],
   "source": [
    "table = get_table(\n",
    "    \"mimic-iv-2.2/hosp/provider.csv.gz\",\n",
    "    convert_options=csv.ConvertOptions(\n",
    "        column_types=column_types[\"provider\"],\n",
    "        strings_can_be_null=True,\n",
    "        # null_values=null_values,\n",
    "    ),\n",
    ")\n",
    "table_info(table)\n",
    "# pa.compute.unique(table[\"los\"])"
   ]
  },
  {
   "cell_type": "markdown",
   "metadata": {},
   "source": [
    "## services"
   ]
  },
  {
   "cell_type": "code",
   "execution_count": null,
   "metadata": {
    "tags": []
   },
   "outputs": [],
   "source": [
    "table = get_table(\n",
    "    \"mimic-iv-2.2/hosp/services.csv.gz\",\n",
    "    convert_options=csv.ConvertOptions(\n",
    "        column_types=column_types[\"services\"],\n",
    "        strings_can_be_null=True,\n",
    "        # null_values=null_values,\n",
    "    ),\n",
    ")\n",
    "table_info(table)\n",
    "# pa.compute.unique(table[\"los\"])"
   ]
  },
  {
   "cell_type": "markdown",
   "metadata": {},
   "source": [
    "## admissions"
   ]
  },
  {
   "cell_type": "code",
   "execution_count": null,
   "metadata": {
    "tags": []
   },
   "outputs": [],
   "source": [
    "table = get_table(\n",
    "    \"mimic-iv-2.2/hosp/admissions.csv.gz\",\n",
    "    convert_options=csv.ConvertOptions(\n",
    "        column_types=column_types[\"admissions\"],\n",
    "        strings_can_be_null=True,\n",
    "        # null_values=null_values,\n",
    "    ),\n",
    ")\n",
    "table_info(table)\n",
    "# pa.compute.unique(table[\"los\"])"
   ]
  },
  {
   "cell_type": "markdown",
   "metadata": {},
   "source": [
    "## transfers"
   ]
  },
  {
   "cell_type": "code",
   "execution_count": null,
   "metadata": {
    "tags": []
   },
   "outputs": [],
   "source": [
    "table = get_table(\n",
    "    \"mimic-iv-2.2/hosp/transfers.csv.gz\",\n",
    "    convert_options=csv.ConvertOptions(\n",
    "        column_types=column_types[\"transfers\"],\n",
    "        strings_can_be_null=True,\n",
    "        # null_values=null_values,\n",
    "    ),\n",
    ")\n",
    "table_info(table)\n",
    "# pa.compute.unique(table[\"los\"])"
   ]
  },
  {
   "cell_type": "markdown",
   "metadata": {},
   "source": [
    "# ICU tables"
   ]
  },
  {
   "cell_type": "markdown",
   "metadata": {},
   "source": [
    "## caregiver"
   ]
  },
  {
   "cell_type": "code",
   "execution_count": null,
   "metadata": {
    "tags": []
   },
   "outputs": [],
   "source": [
    "table = get_table(\n",
    "    \"mimic-iv-2.2/icu/caregiver.csv.gz\",\n",
    "    convert_options=csv.ConvertOptions(\n",
    "        column_types=column_types[\"caregiver\"],\n",
    "        strings_can_be_null=True,\n",
    "        # null_values=null_values,\n",
    "    ),\n",
    ")\n",
    "table_info(table)\n",
    "# pa.compute.unique(table[\"los\"])"
   ]
  },
  {
   "cell_type": "markdown",
   "metadata": {},
   "source": [
    "## d_items"
   ]
  },
  {
   "cell_type": "code",
   "execution_count": null,
   "metadata": {
    "tags": []
   },
   "outputs": [],
   "source": [
    "table = get_table(\n",
    "    \"mimic-iv-2.2/icu/d_items.csv.gz\",\n",
    "    convert_options=csv.ConvertOptions(\n",
    "        column_types=column_types[\"d_items\"],\n",
    "        strings_can_be_null=True,\n",
    "        # null_values=null_values,\n",
    "    ),\n",
    ")\n",
    "table_info(table)\n",
    "# pa.compute.unique(table[\"los\"])"
   ]
  },
  {
   "cell_type": "markdown",
   "metadata": {},
   "source": [
    "## icustays"
   ]
  },
  {
   "cell_type": "code",
   "execution_count": null,
   "metadata": {
    "tags": []
   },
   "outputs": [],
   "source": [
    "table = get_table(\n",
    "    \"mimic-iv-2.2/icu/icustays.csv.gz\",\n",
    "    convert_options=csv.ConvertOptions(\n",
    "        column_types=column_types[\"icustays\"],\n",
    "        strings_can_be_null=True,\n",
    "        # null_values=null_values,\n",
    "    ),\n",
    ")\n",
    "table_info(table)\n",
    "# pa.compute.unique(table[\"los\"])"
   ]
  },
  {
   "cell_type": "markdown",
   "metadata": {
    "tags": []
   },
   "source": [
    "## ingredientevents"
   ]
  },
  {
   "cell_type": "code",
   "execution_count": null,
   "metadata": {
    "tags": []
   },
   "outputs": [],
   "source": [
    "table = get_table(\n",
    "    \"mimic-iv-2.2/icu/ingredientevents.csv.gz\",\n",
    "    convert_options=csv.ConvertOptions(\n",
    "        column_types=column_types[\"ingredientevents\"],\n",
    "        strings_can_be_null=True,\n",
    "        # null_values=null_values,\n",
    "    ),\n",
    ")\n",
    "table_info(table)\n",
    "# pa.compute.unique(table[\"valueuom\"])"
   ]
  },
  {
   "cell_type": "markdown",
   "metadata": {},
   "source": [
    "## datetimeevents"
   ]
  },
  {
   "cell_type": "code",
   "execution_count": null,
   "metadata": {
    "tags": []
   },
   "outputs": [],
   "source": [
    "table = get_table(\n",
    "    \"mimic-iv-2.2/icu/datetimeevents.csv.gz\",\n",
    "    convert_options=csv.ConvertOptions(\n",
    "        column_types=column_types[\"datetimeevents\"],\n",
    "        strings_can_be_null=True,\n",
    "        # null_values=null_values,\n",
    "    ),\n",
    ")\n",
    "table_info(table)\n",
    "pa.compute.unique(table[\"valueuom\"])"
   ]
  },
  {
   "cell_type": "markdown",
   "metadata": {},
   "source": [
    "## Procedureeventes"
   ]
  },
  {
   "cell_type": "code",
   "execution_count": null,
   "metadata": {
    "tags": []
   },
   "outputs": [],
   "source": [
    "table = get_table(\n",
    "    \"mimic-iv-2.2/icu/procedureevents.csv.gz\",\n",
    "    convert_options=csv.ConvertOptions(\n",
    "        column_types=column_types[\"procedureevents\"],\n",
    "        strings_can_be_null=True,\n",
    "        # null_values=null_values,\n",
    "    ),\n",
    ")\n",
    "table_info(table)\n",
    "pa.compute.unique(table[\"ordercategoryname\"])"
   ]
  },
  {
   "cell_type": "markdown",
   "metadata": {
    "tags": []
   },
   "source": [
    "## Inputevents"
   ]
  },
  {
   "cell_type": "code",
   "execution_count": null,
   "metadata": {
    "tags": []
   },
   "outputs": [],
   "source": [
    "table = get_table(\n",
    "    \"mimic-iv-2.2/icu/inputevents.csv.gz\",\n",
    "    convert_options=csv.ConvertOptions(\n",
    "        column_types=column_types[\"inputevents\"],\n",
    "        strings_can_be_null=True,\n",
    "        # null_values=null_values,\n",
    "    ),\n",
    ")\n",
    "table_info(table)"
   ]
  },
  {
   "cell_type": "markdown",
   "metadata": {},
   "source": [
    "## Outputevents"
   ]
  },
  {
   "cell_type": "code",
   "execution_count": null,
   "metadata": {
    "tags": []
   },
   "outputs": [],
   "source": [
    "table = get_table(\n",
    "    \"mimic-iv-2.2/icu/outputevents.csv.gz\",\n",
    "    convert_options=csv.ConvertOptions(\n",
    "        column_types=column_types[\"outputevents\"],\n",
    "        strings_can_be_null=True,\n",
    "        # null_values=null_values,\n",
    "    ),\n",
    ")\n",
    "table_info(table)"
   ]
  },
  {
   "cell_type": "code",
   "execution_count": null,
   "metadata": {},
   "outputs": [],
   "source": []
  },
  {
   "cell_type": "code",
   "execution_count": null,
   "metadata": {},
   "outputs": [],
   "source": []
  },
  {
   "cell_type": "markdown",
   "metadata": {},
   "source": [
    "## Chartevents"
   ]
  },
  {
   "cell_type": "code",
   "execution_count": null,
   "metadata": {
    "tags": []
   },
   "outputs": [],
   "source": [
    "table = get_table(\n",
    "    \"mimic-iv-2.2/icu/chartevents.csv.gz\",\n",
    "    convert_options=csv.ConvertOptions(\n",
    "        column_types=column_types[\"chartevents\"],\n",
    "        strings_can_be_null=True,\n",
    "        # null_values=null_values,\n",
    "    ),\n",
    ")"
   ]
  },
  {
   "cell_type": "code",
   "execution_count": null,
   "metadata": {
    "tags": []
   },
   "outputs": [],
   "source": [
    "for name, col in tqdm(zip(table.column_names, table.columns)):\n",
    "    uniques = pa.compute.count_distinct(col)\n",
    "    nulls = pa.compute.mean(pa.compute.is_null(col))\n",
    "    print(f\"{name}, {uniques=}  {nulls=}\")"
   ]
  },
  {
   "cell_type": "markdown",
   "metadata": {
    "tags": []
   },
   "source": [
    "### drop everything that has null value or null valueuom"
   ]
  },
  {
   "cell_type": "code",
   "execution_count": null,
   "metadata": {
    "tags": []
   },
   "outputs": [],
   "source": [
    "val_null = pa.compute.is_null(table[\"value\"])\n",
    "uom_null = pa.compute.is_null(table[\"valueuom\"])\n",
    "mask = pa.compute.invert(pa.compute.or_(val_null, uom_null))\n",
    "table = pa.compute.filter(table, mask)\n",
    "table.schema"
   ]
  },
  {
   "cell_type": "markdown",
   "metadata": {},
   "source": [
    "### cast valueuom to dict and value to float"
   ]
  },
  {
   "cell_type": "code",
   "execution_count": null,
   "metadata": {
    "tags": []
   },
   "outputs": [],
   "source": [
    "table = table.set_column(\n",
    "    table.column_names.index(\"value\"),\n",
    "    \"value\",\n",
    "    pa.compute.cast(table.column(\"value\"), pa.float32()),\n",
    ")\n",
    "table = table.set_column(\n",
    "    table.column_names.index(\"valueuom\"),\n",
    "    \"valueuom\",\n",
    "    pa.compute.dictionary_encode(table[\"valueuom\"]),\n",
    ")\n",
    "table.schema"
   ]
  },
  {
   "cell_type": "code",
   "execution_count": null,
   "metadata": {
    "tags": []
   },
   "outputs": [],
   "source": [
    "parquet.write_table(table, DATASET_PATH / \"chartevents.parquet\")"
   ]
  },
  {
   "cell_type": "markdown",
   "metadata": {},
   "source": [
    "# with polars"
   ]
  },
  {
   "cell_type": "code",
   "execution_count": null,
   "metadata": {
    "tags": []
   },
   "outputs": [],
   "source": [
    "import polars as pl\n",
    "\n",
    "with ZipFile(ds.rawdata_paths, \"r\") as file:\n",
    "    if not file.namelist() == filelist:\n",
    "        raise ValueError(\"The dataset contains unknown files!\")\n",
    "\n",
    "\n",
    "def load_gz_table(archive, fname, **options):\n",
    "    with archive.open(str(fname), \"r\") as compressed_file:\n",
    "        with gzip.open(compressed_file, \"r\") as file:\n",
    "            # table = pd.read_csv(file)\n",
    "            # return table\n",
    "            return pl.read_csv(file, **options)\n",
    "            # table = pyarrow.csv.read_csv(file, **options)\n",
    "            # return table\n",
    "\n",
    "\n",
    "def load_txt(archive, fname):\n",
    "    with archive.open(str(fname), \"r\") as file:\n",
    "        return str(file.read(), encoding=\"utf8\")\n",
    "\n",
    "\n",
    "def get_table(fname, **options) -> DataFrame:\n",
    "    fname = Path(fname)\n",
    "    with ZipFile(ds.rawdata_paths, \"r\") as archive:\n",
    "        match fname.suffix:\n",
    "            case \".gz\":\n",
    "                return load_gz_table(archive, fname, **options)\n",
    "            case \".txt\":\n",
    "                return load_txt(archive, fname, **options)\n",
    "            case _:\n",
    "                raise ValueError"
   ]
  },
  {
   "cell_type": "code",
   "execution_count": null,
   "metadata": {
    "tags": []
   },
   "outputs": [],
   "source": [
    "dtypes = {\n",
    "    \"subject_id\": pl.datatypes.UInt32(),\n",
    "    \"hadm_id\": pl.datatypes.UInt32(),\n",
    "    \"stay_id\": pl.datatypes.UInt32(),\n",
    "    \"itemid\": pl.datatypes.UInt32(),\n",
    "    \"charttime\": pl.datatypes.Datetime(),\n",
    "    \"storetime\": pl.datatypes.Datetime(),\n",
    "    \"value\": pl.datatypes.Utf8(),\n",
    "    \"valuenum\": pl.datatypes.Float32(),\n",
    "    \"valueuom\": pl.datatypes.Utf8(),\n",
    "    \"warning\": pl.datatypes.Boolean(),\n",
    "}\n",
    "\n",
    "\n",
    "table = get_table(\"mimic-iv-1.0/icu/chartevents.csv.gz\", dtypes=dtypes)"
   ]
  },
  {
   "cell_type": "code",
   "execution_count": null,
   "metadata": {},
   "outputs": [],
   "source": []
  }
 ],
 "metadata": {
  "kernelspec": {
   "display_name": "Python 3 (ipykernel)",
   "language": "python",
   "name": "python3"
  },
  "language_info": {
   "codemirror_mode": {
    "name": "ipython",
    "version": 3
   },
   "file_extension": ".py",
   "mimetype": "text/x-python",
   "name": "python",
   "nbconvert_exporter": "python",
   "pygments_lexer": "ipython3",
   "version": "3.11.6"
  }
 },
 "nbformat": 4,
 "nbformat_minor": 4
}
