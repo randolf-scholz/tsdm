{
 "cells": [
  {
   "cell_type": "code",
   "execution_count": null,
   "metadata": {
    "execution": {
     "iopub.execute_input": "2023-08-18T02:03:41.567219Z",
     "iopub.status.busy": "2023-08-18T02:03:41.566896Z",
     "iopub.status.idle": "2023-08-18T02:03:41.989488Z",
     "shell.execute_reply": "2023-08-18T02:03:41.988779Z",
     "shell.execute_reply.started": "2023-08-18T02:03:41.567181Z"
    },
    "tags": []
   },
   "outputs": [],
   "source": [
    "%config InteractiveShell.ast_node_interactivity='last_expr_or_assign'  # always print last expr.\n",
    "%config InlineBackend.figure_format = 'svg'\n",
    "%load_ext autoreload\n",
    "%autoreload 2\n",
    "%matplotlib inline\n",
    "\n",
    "import logging\n",
    "\n",
    "logging.basicConfig(level=logging.INFO)\n",
    "LOGGER = logging.getLogger(__name__)"
   ]
  },
  {
   "cell_type": "code",
   "execution_count": null,
   "metadata": {
    "execution": {
     "iopub.execute_input": "2023-08-18T02:03:41.991004Z",
     "iopub.status.busy": "2023-08-18T02:03:41.990800Z",
     "iopub.status.idle": "2023-08-18T02:03:45.956312Z",
     "shell.execute_reply": "2023-08-18T02:03:45.955533Z",
     "shell.execute_reply.started": "2023-08-18T02:03:41.990989Z"
    },
    "tags": []
   },
   "outputs": [],
   "source": [
    "import tsdm"
   ]
  },
  {
   "cell_type": "code",
   "execution_count": null,
   "metadata": {
    "execution": {
     "iopub.execute_input": "2023-08-18T02:03:45.957573Z",
     "iopub.status.busy": "2023-08-18T02:03:45.957180Z",
     "iopub.status.idle": "2023-08-18T02:03:46.004752Z",
     "shell.execute_reply": "2023-08-18T02:03:46.003905Z",
     "shell.execute_reply.started": "2023-08-18T02:03:45.957557Z"
    },
    "tags": []
   },
   "outputs": [],
   "source": [
    "tsdm.datasets.MIMIC_IV.RAWDATA_DIR"
   ]
  },
  {
   "cell_type": "code",
   "execution_count": null,
   "metadata": {
    "execution": {
     "iopub.execute_input": "2023-08-18T02:03:46.005675Z",
     "iopub.status.busy": "2023-08-18T02:03:46.005524Z",
     "iopub.status.idle": "2023-08-18T02:03:59.166177Z",
     "shell.execute_reply": "2023-08-18T02:03:59.165591Z",
     "shell.execute_reply.started": "2023-08-18T02:03:46.005661Z"
    },
    "tags": []
   },
   "outputs": [],
   "source": [
    "self = tsdm.datasets.MIMIC_IV(initialize=True)"
   ]
  },
  {
   "cell_type": "code",
   "execution_count": null,
   "metadata": {
    "execution": {
     "iopub.execute_input": "2023-08-18T02:05:05.113307Z",
     "iopub.status.busy": "2023-08-18T02:05:05.113155Z",
     "iopub.status.idle": "2023-08-18T02:05:05.172452Z",
     "shell.execute_reply": "2023-08-18T02:05:05.171831Z",
     "shell.execute_reply.started": "2023-08-18T02:05:05.113291Z"
    },
    "tags": []
   },
   "outputs": [],
   "source": [
    "self.chartevents"
   ]
  },
  {
   "cell_type": "code",
   "execution_count": null,
   "metadata": {
    "execution": {
     "iopub.execute_input": "2023-08-18T02:05:52.333836Z",
     "iopub.status.busy": "2023-08-18T02:05:52.333476Z",
     "iopub.status.idle": "2023-08-18T02:05:52.385943Z",
     "shell.execute_reply": "2023-08-18T02:05:52.385414Z",
     "shell.execute_reply.started": "2023-08-18T02:05:52.333819Z"
    },
    "tags": []
   },
   "outputs": [],
   "source": [
    "display({k: v.shape for k, v in self.items()})"
   ]
  },
  {
   "cell_type": "code",
   "execution_count": null,
   "metadata": {},
   "outputs": [],
   "source": []
  }
 ],
 "metadata": {
  "kernelspec": {
   "display_name": "Python 3 (ipykernel)",
   "language": "python",
   "name": "python3"
  },
  "language_info": {
   "codemirror_mode": {
    "name": "ipython",
    "version": 3
   },
   "file_extension": ".py",
   "mimetype": "text/x-python",
   "name": "python",
   "nbconvert_exporter": "python",
   "pygments_lexer": "ipython3",
   "version": "3.10.11"
  }
 },
 "nbformat": 4,
 "nbformat_minor": 4
}
