{
 "cells": [
  {
   "cell_type": "code",
   "execution_count": null,
   "metadata": {
    "execution": {
     "iopub.execute_input": "2023-08-10T09:41:11.609804Z",
     "iopub.status.busy": "2023-08-10T09:41:11.609632Z",
     "iopub.status.idle": "2023-08-10T09:41:11.913048Z",
     "shell.execute_reply": "2023-08-10T09:41:11.912626Z",
     "shell.execute_reply.started": "2023-08-10T09:41:11.609790Z"
    },
    "tags": []
   },
   "outputs": [],
   "source": [
    "%config InteractiveShell.ast_node_interactivity='last_expr_or_assign'  # always print last expr.\n",
    "%config InlineBackend.figure_format = 'svg'\n",
    "%load_ext autoreload\n",
    "%autoreload 2\n",
    "%matplotlib inline\n",
    "\n",
    "import logging\n",
    "\n",
    "logging.basicConfig(level=logging.INFO)\n",
    "LOGGER = logging.getLogger(__name__)"
   ]
  },
  {
   "cell_type": "code",
   "execution_count": null,
   "metadata": {
    "execution": {
     "iopub.execute_input": "2023-08-10T09:41:11.913795Z",
     "iopub.status.busy": "2023-08-10T09:41:11.913643Z",
     "iopub.status.idle": "2023-08-10T09:41:14.832316Z",
     "shell.execute_reply": "2023-08-10T09:41:14.831868Z",
     "shell.execute_reply.started": "2023-08-10T09:41:11.913781Z"
    },
    "tags": []
   },
   "outputs": [],
   "source": [
    "import tsdm"
   ]
  },
  {
   "cell_type": "code",
   "execution_count": null,
   "metadata": {
    "execution": {
     "iopub.execute_input": "2023-08-10T09:41:17.466452Z",
     "iopub.status.busy": "2023-08-10T09:41:17.466217Z",
     "iopub.status.idle": "2023-08-10T09:41:17.512083Z",
     "shell.execute_reply": "2023-08-10T09:41:17.511709Z",
     "shell.execute_reply.started": "2023-08-10T09:41:17.466437Z"
    },
    "tags": []
   },
   "outputs": [],
   "source": [
    "self = tsdm.datasets.MIMIC_IV(initialize=False)"
   ]
  },
  {
   "cell_type": "code",
   "execution_count": null,
   "metadata": {
    "execution": {
     "iopub.execute_input": "2023-08-10T09:41:18.295297Z",
     "iopub.status.busy": "2023-08-10T09:41:18.295139Z",
     "iopub.status.idle": "2023-08-10T12:34:37.868372Z",
     "shell.execute_reply": "2023-08-10T12:34:37.867898Z",
     "shell.execute_reply.started": "2023-08-10T09:41:18.295285Z"
    },
    "tags": []
   },
   "outputs": [],
   "source": [
    "self.download()"
   ]
  },
  {
   "cell_type": "code",
   "execution_count": null,
   "metadata": {
    "execution": {
     "iopub.execute_input": "2023-08-07T17:11:13.865200Z",
     "iopub.status.busy": "2023-08-07T17:11:13.864867Z",
     "iopub.status.idle": "2023-08-07T19:53:56.640155Z",
     "shell.execute_reply": "2023-08-07T19:53:56.639477Z",
     "shell.execute_reply.started": "2023-08-07T17:11:13.865184Z"
    },
    "tags": []
   },
   "outputs": [],
   "source": []
  },
  {
   "cell_type": "code",
   "execution_count": null,
   "metadata": {
    "execution": {
     "iopub.execute_input": "2023-08-07T13:17:55.354951Z",
     "iopub.status.busy": "2023-08-07T13:17:55.354425Z",
     "iopub.status.idle": "2023-08-07T13:17:55.405073Z",
     "shell.execute_reply": "2023-08-07T13:17:55.404582Z",
     "shell.execute_reply.started": "2023-08-07T13:17:55.354924Z"
    },
    "tags": []
   },
   "outputs": [],
   "source": []
  },
  {
   "cell_type": "code",
   "execution_count": null,
   "metadata": {},
   "outputs": [],
   "source": []
  }
 ],
 "metadata": {
  "kernelspec": {
   "display_name": "Python 3 (ipykernel)",
   "language": "python",
   "name": "python3"
  },
  "language_info": {
   "codemirror_mode": {
    "name": "ipython",
    "version": 3
   },
   "file_extension": ".py",
   "mimetype": "text/x-python",
   "name": "python",
   "nbconvert_exporter": "python",
   "pygments_lexer": "ipython3",
   "version": "3.11.3"
  }
 },
 "nbformat": 4,
 "nbformat_minor": 4
}
