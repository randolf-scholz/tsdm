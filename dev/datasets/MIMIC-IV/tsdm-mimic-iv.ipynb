{
 "cells": [
  {
   "cell_type": "code",
   "execution_count": null,
   "metadata": {
    "execution": {
     "iopub.execute_input": "2023-08-07T17:10:45.952515Z",
     "iopub.status.busy": "2023-08-07T17:10:45.951954Z",
     "iopub.status.idle": "2023-08-07T17:10:46.367045Z",
     "shell.execute_reply": "2023-08-07T17:10:46.366372Z",
     "shell.execute_reply.started": "2023-08-07T17:10:45.952485Z"
    },
    "tags": []
   },
   "outputs": [],
   "source": [
    "%config InteractiveShell.ast_node_interactivity='last_expr_or_assign'  # always print last expr.\n",
    "%config InlineBackend.figure_format = 'svg'\n",
    "%load_ext autoreload\n",
    "%autoreload 2\n",
    "%matplotlib inline\n",
    "\n",
    "import logging\n",
    "\n",
    "logging.basicConfig(level=logging.INFO)\n",
    "LOGGER = logging.getLogger(__name__)"
   ]
  },
  {
   "cell_type": "code",
   "execution_count": null,
   "metadata": {
    "execution": {
     "iopub.execute_input": "2023-08-07T17:10:46.368337Z",
     "iopub.status.busy": "2023-08-07T17:10:46.368108Z",
     "iopub.status.idle": "2023-08-07T17:10:50.048712Z",
     "shell.execute_reply": "2023-08-07T17:10:50.047879Z",
     "shell.execute_reply.started": "2023-08-07T17:10:46.368323Z"
    },
    "tags": []
   },
   "outputs": [],
   "source": [
    "import tsdm\n",
    "from collections.abc import Mapping\n",
    "from getpass import getpass\n",
    "from typing import Literal, TypeAlias, get_args\n",
    "\n",
    "from pandas import DataFrame\n",
    "\n",
    "from tsdm.datasets.base import MultiTableDataset"
   ]
  },
  {
   "cell_type": "code",
   "execution_count": null,
   "metadata": {
    "execution": {
     "iopub.execute_input": "2023-08-07T17:10:50.049772Z",
     "iopub.status.busy": "2023-08-07T17:10:50.049397Z",
     "iopub.status.idle": "2023-08-07T17:10:50.096335Z",
     "shell.execute_reply": "2023-08-07T17:10:50.095666Z",
     "shell.execute_reply.started": "2023-08-07T17:10:50.049756Z"
    },
    "tags": []
   },
   "outputs": [],
   "source": [
    "self = tsdm.datasets.MIMIC_IV(initialize=False, version=\"1.0\")"
   ]
  },
  {
   "cell_type": "code",
   "execution_count": null,
   "metadata": {
    "execution": {
     "iopub.execute_input": "2023-08-07T17:10:53.765069Z",
     "iopub.status.busy": "2023-08-07T17:10:53.764870Z",
     "iopub.status.idle": "2023-08-07T17:11:10.404905Z",
     "shell.execute_reply": "2023-08-07T17:11:10.403921Z",
     "shell.execute_reply.started": "2023-08-07T17:10:53.765055Z"
    },
    "tags": []
   },
   "outputs": [],
   "source": [
    "username = input(\"MIMIC-III username: \")\n",
    "password = getpass(prompt=\"MIMIC-III password: \", stream=None)\n",
    "headers = {\"User-Agent\": \"Wget/1.21.2\"}\n",
    "fname = \"here.zip\"\n",
    "url = self.BASE_URL + f\"{self.__version__}/\""
   ]
  },
  {
   "cell_type": "code",
   "execution_count": null,
   "metadata": {
    "execution": {
     "iopub.execute_input": "2023-08-07T17:11:13.865200Z",
     "iopub.status.busy": "2023-08-07T17:11:13.864867Z",
     "iopub.status.idle": "2023-08-07T19:53:56.640155Z",
     "shell.execute_reply": "2023-08-07T19:53:56.639477Z",
     "shell.execute_reply.started": "2023-08-07T17:11:13.865184Z"
    },
    "tags": []
   },
   "outputs": [],
   "source": [
    "self.download()"
   ]
  },
  {
   "cell_type": "code",
   "execution_count": null,
   "metadata": {
    "execution": {
     "iopub.execute_input": "2023-08-07T13:17:55.354951Z",
     "iopub.status.busy": "2023-08-07T13:17:55.354425Z",
     "iopub.status.idle": "2023-08-07T13:17:55.405073Z",
     "shell.execute_reply": "2023-08-07T13:17:55.404582Z",
     "shell.execute_reply.started": "2023-08-07T13:17:55.354924Z"
    },
    "tags": []
   },
   "outputs": [],
   "source": []
  },
  {
   "cell_type": "code",
   "execution_count": null,
   "metadata": {},
   "outputs": [],
   "source": []
  }
 ],
 "metadata": {
  "kernelspec": {
   "display_name": "Python 3 (ipykernel)",
   "language": "python",
   "name": "python3"
  },
  "language_info": {
   "codemirror_mode": {
    "name": "ipython",
    "version": 3
   },
   "file_extension": ".py",
   "mimetype": "text/x-python",
   "name": "python",
   "nbconvert_exporter": "python",
   "pygments_lexer": "ipython3",
   "version": "3.10.11"
  }
 },
 "nbformat": 4,
 "nbformat_minor": 4
}
