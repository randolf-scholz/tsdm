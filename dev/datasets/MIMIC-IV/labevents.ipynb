{
 "cells": [
  {
   "cell_type": "markdown",
   "metadata": {},
   "source": [
    "# MIMIC 4 data - dataset construction labevents"
   ]
  },
  {
   "cell_type": "markdown",
   "metadata": {},
   "source": [
    "Code taken from GRU-ODE-Bayes preprocessing; simplified and adapted for MIMIC 4 1.0"
   ]
  },
  {
   "cell_type": "code",
   "execution_count": null,
   "metadata": {
    "execution": {
     "iopub.execute_input": "2022-09-12T17:54:47.780472Z",
     "iopub.status.busy": "2022-09-12T17:54:47.779865Z",
     "iopub.status.idle": "2022-09-12T17:54:48.179210Z",
     "shell.execute_reply": "2022-09-12T17:54:48.178792Z",
     "shell.execute_reply.started": "2022-09-12T17:54:47.780429Z"
    },
    "tags": []
   },
   "outputs": [],
   "source": [
    "import gzip\n",
    "from pathlib import Path\n",
    "from zipfile import ZipFile\n",
    "\n",
    "import pandas as pd\n",
    "import pyarrow\n",
    "import pyarrow.csv\n",
    "import pyarrow.parquet"
   ]
  },
  {
   "cell_type": "markdown",
   "metadata": {},
   "source": [
    "# Load `labevents` and `labitems` tables"
   ]
  },
  {
   "cell_type": "markdown",
   "metadata": {},
   "source": [
    "## Table Schema"
   ]
  },
  {
   "cell_type": "code",
   "execution_count": null,
   "metadata": {
    "execution": {
     "iopub.execute_input": "2022-09-12T17:54:48.180094Z",
     "iopub.status.busy": "2022-09-12T17:54:48.179925Z",
     "iopub.status.idle": "2022-09-12T17:54:48.183974Z",
     "shell.execute_reply": "2022-09-12T17:54:48.183573Z",
     "shell.execute_reply.started": "2022-09-12T17:54:48.180084Z"
    },
    "tags": []
   },
   "outputs": [],
   "source": [
    "rawdata_file = Path.cwd() / \"mimic-iv-1.0.zip\"\n",
    "dataset_path = Path.cwd() / \"processed\"\n",
    "rawdata_path = Path.cwd() / \"raw\"\n",
    "\n",
    "files = {\n",
    "    \"labevents\": \"mimic-iv-1.0/hosp/labevents.csv.gz\",\n",
    "    \"labitems\": \"mimic-iv-1.0/hosp/d_labitems.csv.gz\",\n",
    "}\n",
    "\n",
    "CATEGORY = pyarrow.dictionary(\"int32\", \"string\")\n",
    "\n",
    "column_types = {\n",
    "    \"labevents\": {\n",
    "        \"labevent_id\": \"int32\",\n",
    "        \"subject_id\": \"int32\",\n",
    "        \"hadm_id\": \"int32\",\n",
    "        \"specimen_id\": \"int32\",\n",
    "        \"itemid\": \"int32\",\n",
    "        \"charttime\": \"timestamp[s]\",\n",
    "        \"storetime\": \"timestamp[s]\",\n",
    "        \"value\": CATEGORY,\n",
    "        \"valuenum\": \"float32\",\n",
    "        \"valueuom\": CATEGORY,\n",
    "        \"ref_range_lower\": \"float32\",\n",
    "        \"ref_range_upper\": \"float32\",\n",
    "        \"flag\": CATEGORY,\n",
    "        \"priority\": CATEGORY,\n",
    "        \"comments\": CATEGORY,\n",
    "    },\n",
    "    \"labitems\": {\n",
    "        \"itemid\": \"int32\",\n",
    "        \"label\": CATEGORY,\n",
    "        \"fluid\": CATEGORY,\n",
    "        \"category\": CATEGORY,\n",
    "        \"loinc_code\": CATEGORY,\n",
    "    },\n",
    "}"
   ]
  },
  {
   "cell_type": "markdown",
   "metadata": {},
   "source": [
    "## Load `labevents` table"
   ]
  },
  {
   "cell_type": "code",
   "execution_count": null,
   "metadata": {
    "execution": {
     "iopub.execute_input": "2022-09-12T17:54:48.184592Z",
     "iopub.status.busy": "2022-09-12T17:54:48.184489Z",
     "iopub.status.idle": "2022-09-12T17:55:46.331456Z",
     "shell.execute_reply": "2022-09-12T17:55:46.330700Z",
     "shell.execute_reply.started": "2022-09-12T17:54:48.184583Z"
    },
    "tags": []
   },
   "outputs": [],
   "source": [
    "# shape: (120M, 15) ⇝ 1.8B values.\n",
    "key = \"labevents\"\n",
    "with (\n",
    "    ZipFile(rawdata_file) as archive,\n",
    "    archive.open(files[key]) as compressed_file,\n",
    "    gzip.open(compressed_file) as file,\n",
    "):\n",
    "    labevents = pyarrow.csv.read_csv(\n",
    "        file,\n",
    "        convert_options=pyarrow.csv.ConvertOptions(\n",
    "            column_types=column_types[key],\n",
    "            strings_can_be_null=True,\n",
    "            null_values=[\"\"],\n",
    "        ),\n",
    "    )\n",
    "\n",
    "labevents.schema"
   ]
  },
  {
   "cell_type": "markdown",
   "metadata": {},
   "source": [
    "## Store and reload as pandas"
   ]
  },
  {
   "cell_type": "code",
   "execution_count": null,
   "metadata": {
    "execution": {
     "iopub.execute_input": "2022-09-12T17:55:46.332419Z",
     "iopub.status.busy": "2022-09-12T17:55:46.332224Z",
     "iopub.status.idle": "2022-09-12T17:56:25.460615Z",
     "shell.execute_reply": "2022-09-12T17:56:25.460024Z",
     "shell.execute_reply.started": "2022-09-12T17:55:46.332403Z"
    },
    "tags": []
   },
   "outputs": [],
   "source": [
    "pyarrow.parquet.write_table(labevents, rawdata_path / f\"{key}.parquet\")\n",
    "\n",
    "labevents = labevents.to_pandas(self_destruct=True)\n",
    "labevents"
   ]
  },
  {
   "cell_type": "markdown",
   "metadata": {},
   "source": [
    "## Load `labitems` table"
   ]
  },
  {
   "cell_type": "code",
   "execution_count": null,
   "metadata": {
    "execution": {
     "iopub.execute_input": "2022-09-12T17:56:25.462769Z",
     "iopub.status.busy": "2022-09-12T17:56:25.462428Z",
     "iopub.status.idle": "2022-09-12T17:56:25.482840Z",
     "shell.execute_reply": "2022-09-12T17:56:25.482313Z",
     "shell.execute_reply.started": "2022-09-12T17:56:25.462745Z"
    },
    "tags": []
   },
   "outputs": [],
   "source": [
    "# shape: (120M, 15) ⇝ 1.8B values.\n",
    "key = \"labitems\"\n",
    "with (\n",
    "    ZipFile(rawdata_file) as archive,\n",
    "    archive.open(files[key]) as compressed_file,\n",
    "    gzip.open(compressed_file) as file,\n",
    "):\n",
    "    labitems = pyarrow.csv.read_csv(\n",
    "        file,\n",
    "        convert_options=pyarrow.csv.ConvertOptions(\n",
    "            column_types=column_types[key],\n",
    "            strings_can_be_null=True,\n",
    "            null_values=[\"\"],\n",
    "        ),\n",
    "    )\n",
    "\n",
    "labitems.schema"
   ]
  },
  {
   "cell_type": "markdown",
   "metadata": {},
   "source": [
    "## Store and reload as pandas"
   ]
  },
  {
   "cell_type": "code",
   "execution_count": null,
   "metadata": {
    "execution": {
     "iopub.execute_input": "2022-09-12T17:56:25.483734Z",
     "iopub.status.busy": "2022-09-12T17:56:25.483547Z",
     "iopub.status.idle": "2022-09-12T17:56:25.514917Z",
     "shell.execute_reply": "2022-09-12T17:56:25.514096Z",
     "shell.execute_reply.started": "2022-09-12T17:56:25.483718Z"
    },
    "tags": []
   },
   "outputs": [],
   "source": [
    "pyarrow.parquet.write_table(labitems, rawdata_path / f\"{key}.parquet\")\n",
    "\n",
    "labitems = labitems.to_pandas(self_destruct=True)\n",
    "labitems"
   ]
  },
  {
   "cell_type": "markdown",
   "metadata": {},
   "source": [
    "# Filter Dataset"
   ]
  },
  {
   "cell_type": "markdown",
   "metadata": {
    "tags": []
   },
   "source": [
    "## Only keep labevents associated with the selected patients"
   ]
  },
  {
   "cell_type": "code",
   "execution_count": null,
   "metadata": {
    "execution": {
     "iopub.execute_input": "2022-09-12T17:56:25.515865Z",
     "iopub.status.busy": "2022-09-12T17:56:25.515649Z",
     "iopub.status.idle": "2022-09-12T17:56:27.938222Z",
     "shell.execute_reply": "2022-09-12T17:56:27.937351Z",
     "shell.execute_reply.started": "2022-09-12T17:56:25.515848Z"
    },
    "tags": []
   },
   "outputs": [],
   "source": [
    "admissions = pd.read_parquet(dataset_path / \"admissions_processed.parquet\")\n",
    "labevents = labevents[labevents.hadm_id.isin(admissions.hadm_id)]\n",
    "print(f\"Number of events remaining: {labevents.shape}\")\n",
    "print(f\"Number of patients remaining: {labevents.subject_id.nunique()}\")"
   ]
  },
  {
   "cell_type": "markdown",
   "metadata": {},
   "source": [
    "## Merge on `ItemID`, only select tests that were given to many people"
   ]
  },
  {
   "cell_type": "code",
   "execution_count": null,
   "metadata": {
    "execution": {
     "iopub.execute_input": "2022-09-12T17:56:27.939504Z",
     "iopub.status.busy": "2022-09-12T17:56:27.939316Z",
     "iopub.status.idle": "2022-09-12T17:56:29.814294Z",
     "shell.execute_reply": "2022-09-12T17:56:29.813096Z",
     "shell.execute_reply.started": "2022-09-12T17:56:27.939486Z"
    },
    "tags": []
   },
   "outputs": [],
   "source": [
    "labevents = pd.merge(labevents, labitems, on=\"itemid\")"
   ]
  },
  {
   "cell_type": "code",
   "execution_count": null,
   "metadata": {
    "execution": {
     "iopub.execute_input": "2022-09-12T17:56:29.815839Z",
     "iopub.status.busy": "2022-09-12T17:56:29.815569Z",
     "iopub.status.idle": "2022-09-12T17:56:30.495066Z",
     "shell.execute_reply": "2022-09-12T17:56:30.494156Z",
     "shell.execute_reply.started": "2022-09-12T17:56:29.815818Z"
    },
    "tags": []
   },
   "outputs": [],
   "source": [
    "selected_variables = [\n",
    "    \"Albumin\",\n",
    "    \"Alanine Aminotransferase (ALT)\",\n",
    "    \"Alkaline Phosphatase\",\n",
    "    \"Anion Gap\",\n",
    "    \"Asparate Aminotransferase (AST)\",\n",
    "    \"Base Excess\",\n",
    "    \"Basophils\",\n",
    "    \"Bicarbonate\",\n",
    "    \"Bilirubin, Total\",\n",
    "    \"Calcium, Total\",\n",
    "    \"Calculated Total CO2\",\n",
    "    \"Chloride\",\n",
    "    \"Creatinine\",\n",
    "    \"Eosinophils\",\n",
    "    \"Glucose\",\n",
    "    \"Hematocrit\",\n",
    "    \"Hemoglobin\",\n",
    "    \"Lactate\",\n",
    "    \"Lymphocytes\",\n",
    "    \"MCH\",\n",
    "    \"MCV\",\n",
    "    \"Magnesium\",\n",
    "    \"Monocytes\",\n",
    "    \"Neutrophils\",\n",
    "    \"PT\",\n",
    "    \"PTT\",\n",
    "    \"Phosphate\",\n",
    "    \"Platelet Count\",\n",
    "    \"Potassium\",\n",
    "    \"RDW\",\n",
    "    \"Red Blood Cells\",\n",
    "    \"Sodium\",\n",
    "    \"Specific Gravity\",\n",
    "    \"Urea Nitrogen\",\n",
    "    \"White Blood Cells\",\n",
    "    \"pCO2\",\n",
    "    \"pH\",\n",
    "    \"pO2\",\n",
    "]\n",
    "\n",
    "labevents = labevents[labevents[\"label\"].isin(selected_variables)]\n",
    "print(f\"Number of patients remaining: {labevents.subject_id.nunique()}\")"
   ]
  },
  {
   "cell_type": "code",
   "execution_count": null,
   "metadata": {
    "execution": {
     "iopub.execute_input": "2022-09-12T17:56:30.496503Z",
     "iopub.status.busy": "2022-09-12T17:56:30.496221Z",
     "iopub.status.idle": "2022-09-12T17:56:30.500560Z",
     "shell.execute_reply": "2022-09-12T17:56:30.499853Z",
     "shell.execute_reply.started": "2022-09-12T17:56:30.496486Z"
    },
    "tags": []
   },
   "outputs": [],
   "source": [
    "# test_freq = labevents.groupby(\"label\")[\"subject_id\"].nunique()\n",
    "# common_tests = test_freq.sort_values(ascending=False).index[:150]\n",
    "# labevents = labevents[labevents[\"label\"].isin(common_tests)]\n",
    "# print(f\"Number of patients remaining: {labevents.subject_id.nunique()}\")"
   ]
  },
  {
   "cell_type": "markdown",
   "metadata": {},
   "source": [
    "# Serialize Pre-processed DataFrame"
   ]
  },
  {
   "cell_type": "code",
   "execution_count": null,
   "metadata": {
    "execution": {
     "iopub.execute_input": "2022-09-12T17:56:30.501804Z",
     "iopub.status.busy": "2022-09-12T17:56:30.501570Z",
     "iopub.status.idle": "2022-09-12T17:56:34.439148Z",
     "shell.execute_reply": "2022-09-12T17:56:34.438643Z",
     "shell.execute_reply.started": "2022-09-12T17:56:30.501782Z"
    },
    "tags": []
   },
   "outputs": [],
   "source": [
    "# Clean categories\n",
    "def clean_categories(df):\n",
    "    for col in df:\n",
    "        if df[col].dtype == \"category\":\n",
    "            df[col] = df[col].cat.remove_unused_categories()\n",
    "    return df\n",
    "\n",
    "\n",
    "labevents = clean_categories(labevents)\n",
    "labevents.to_parquet(dataset_path / \"labevents_processed.parquet\")"
   ]
  }
 ],
 "metadata": {
  "kernelspec": {
   "display_name": "Python 3 (ipykernel)",
   "language": "python",
   "name": "python3"
  },
  "language_info": {
   "codemirror_mode": {
    "name": "ipython",
    "version": 3
   },
   "file_extension": ".py",
   "mimetype": "text/x-python",
   "name": "python",
   "nbconvert_exporter": "python",
   "pygments_lexer": "ipython3",
   "version": "3.10.6"
  }
 },
 "nbformat": 4,
 "nbformat_minor": 4
}
