{
 "cells": [
  {
   "cell_type": "markdown",
   "metadata": {},
   "source": [
    "# MIMIC 4 data - dataset construction labevents"
   ]
  },
  {
   "cell_type": "markdown",
   "metadata": {},
   "source": [
    "Code taken from GRU-ODE-Bayes preprocessing; simplified and adapted for MIMIC 4 1.0"
   ]
  },
  {
   "cell_type": "code",
   "execution_count": null,
   "metadata": {
    "execution": {
     "iopub.execute_input": "2022-09-09T16:57:39.191132Z",
     "iopub.status.busy": "2022-09-09T16:57:39.190993Z",
     "iopub.status.idle": "2022-09-09T16:57:39.196972Z",
     "shell.execute_reply": "2022-09-09T16:57:39.196338Z",
     "shell.execute_reply.started": "2022-09-09T16:57:39.191102Z"
    }
   },
   "outputs": [],
   "source": [
    "%load_ext autotime"
   ]
  },
  {
   "cell_type": "code",
   "execution_count": null,
   "metadata": {
    "execution": {
     "iopub.execute_input": "2022-09-09T16:57:39.199321Z",
     "iopub.status.busy": "2022-09-09T16:57:39.198877Z",
     "iopub.status.idle": "2022-09-09T16:57:40.121575Z",
     "shell.execute_reply": "2022-09-09T16:57:40.120793Z",
     "shell.execute_reply.started": "2022-09-09T16:57:39.199306Z"
    },
    "tags": []
   },
   "outputs": [],
   "source": [
    "import os\n",
    "from datetime import datetime, timedelta\n",
    "\n",
    "import matplotlib.pyplot as plt\n",
    "import numpy as np\n",
    "import pandas as pd\n",
    "from sklearn.model_selection import train_test_split"
   ]
  },
  {
   "cell_type": "code",
   "execution_count": null,
   "metadata": {
    "execution": {
     "iopub.execute_input": "2022-09-09T16:57:40.122397Z",
     "iopub.status.busy": "2022-09-09T16:57:40.122189Z",
     "iopub.status.idle": "2022-09-09T16:57:40.125300Z",
     "shell.execute_reply": "2022-09-09T16:57:40.124883Z",
     "shell.execute_reply.started": "2022-09-09T16:57:40.122385Z"
    },
    "tags": []
   },
   "outputs": [],
   "source": [
    "pd.set_option(\"display.max_rows\", 50)\n",
    "pd.set_option(\"display.max_columns\", 300)"
   ]
  },
  {
   "cell_type": "code",
   "execution_count": null,
   "metadata": {
    "execution": {
     "iopub.execute_input": "2022-09-09T16:57:40.125912Z",
     "iopub.status.busy": "2022-09-09T16:57:40.125783Z",
     "iopub.status.idle": "2022-09-09T16:57:40.206604Z",
     "shell.execute_reply": "2022-09-09T16:57:40.206052Z",
     "shell.execute_reply.started": "2022-09-09T16:57:40.125902Z"
    },
    "tags": []
   },
   "outputs": [],
   "source": [
    "admissions = pd.read_parquet(\"admissions_processed.parquet\")\n",
    "admissions.head()"
   ]
  },
  {
   "cell_type": "code",
   "execution_count": null,
   "metadata": {
    "execution": {
     "iopub.execute_input": "2022-09-09T16:57:40.207370Z",
     "iopub.status.busy": "2022-09-09T16:57:40.207221Z",
     "iopub.status.idle": "2022-09-09T16:57:40.210882Z",
     "shell.execute_reply": "2022-09-09T16:57:40.210178Z",
     "shell.execute_reply.started": "2022-09-09T16:57:40.207357Z"
    },
    "tags": []
   },
   "outputs": [],
   "source": [
    "import gzip\n",
    "from zipfile import ZipFile\n",
    "\n",
    "import pyarrow\n",
    "import pyarrow.csv\n",
    "import pyarrow.parquet"
   ]
  },
  {
   "cell_type": "code",
   "execution_count": null,
   "metadata": {
    "execution": {
     "iopub.execute_input": "2022-09-09T16:57:40.211783Z",
     "iopub.status.busy": "2022-09-09T16:57:40.211640Z",
     "iopub.status.idle": "2022-09-09T16:57:40.219098Z",
     "shell.execute_reply": "2022-09-09T16:57:40.218659Z",
     "shell.execute_reply.started": "2022-09-09T16:57:40.211771Z"
    },
    "tags": []
   },
   "outputs": [],
   "source": [
    "dataset_file = \"mimic-iv-1.0.zip\"\n",
    "\n",
    "files = {\n",
    "    \"labevents\": \"mimic-iv-1.0/hosp/labevents.csv.gz\",\n",
    "    \"labitems\": \"mimic-iv-1.0/hosp/d_labitems.csv.gz\",\n",
    "}\n",
    "\n",
    "column_types = {\n",
    "    \"labevents\": {\n",
    "        \"labevent_id\": \"int32\",\n",
    "        \"subject_id\": \"int32\",\n",
    "        \"hadm_id\": \"int32\",\n",
    "        \"specimen_id\": \"int32\",\n",
    "        \"itemid\": \"int32\",\n",
    "        \"charttime\": \"timestamp[s]\",\n",
    "        \"storetime\": \"timestamp[s]\",\n",
    "        \"value\": \"string\",\n",
    "        \"valuenum\": \"float32\",\n",
    "        \"valueuom\": \"string\",\n",
    "        \"ref_range_lower\": \"float32\",\n",
    "        \"ref_range_upper\": \"float32\",\n",
    "        \"flag\": \"string\",\n",
    "        \"priority\": \"string\",\n",
    "        \"comments\": \"string\",\n",
    "    },\n",
    "    \"labitems\": {\n",
    "        \"itemid\": \"int32\",\n",
    "        \"label\": \"string\",\n",
    "        \"fluid\": \"string\",\n",
    "        \"category\": \"string\",\n",
    "        \"loinc_code\": \"string\",\n",
    "    },\n",
    "}"
   ]
  },
  {
   "cell_type": "code",
   "execution_count": null,
   "metadata": {
    "execution": {
     "iopub.execute_input": "2022-09-09T16:57:40.220441Z",
     "iopub.status.busy": "2022-09-09T16:57:40.220222Z",
     "iopub.status.idle": "2022-09-09T16:58:30.861091Z",
     "shell.execute_reply": "2022-09-09T16:58:30.860283Z",
     "shell.execute_reply.started": "2022-09-09T16:57:40.220430Z"
    },
    "tags": []
   },
   "outputs": [],
   "source": [
    "# shape: (120M, 15) ⇝ 1.8B values.\n",
    "key = \"labevents\"\n",
    "with (\n",
    "    ZipFile(dataset_file) as archive,\n",
    "    archive.open(files[key]) as compressed_file,\n",
    "    gzip.open(compressed_file) as file,\n",
    "):\n",
    "    labevents = pyarrow.csv.read_csv(\n",
    "        file,\n",
    "        convert_options=pyarrow.csv.ConvertOptions(\n",
    "            column_types=column_types[key],\n",
    "            strings_can_be_null=True,\n",
    "            null_values=[\"\"],\n",
    "        ),\n",
    "    )"
   ]
  },
  {
   "cell_type": "markdown",
   "metadata": {},
   "source": [
    "### Store and reload as pandas"
   ]
  },
  {
   "cell_type": "code",
   "execution_count": null,
   "metadata": {
    "execution": {
     "iopub.execute_input": "2022-09-09T16:58:30.862015Z",
     "iopub.status.busy": "2022-09-09T16:58:30.861813Z",
     "iopub.status.idle": "2022-09-09T16:59:05.978291Z",
     "shell.execute_reply": "2022-09-09T16:59:05.977616Z",
     "shell.execute_reply.started": "2022-09-09T16:58:30.861998Z"
    },
    "tags": []
   },
   "outputs": [],
   "source": [
    "pyarrow.parquet.write_table(labevents, f\"{key}.parquet\")\n",
    "del labevents"
   ]
  },
  {
   "cell_type": "code",
   "execution_count": null,
   "metadata": {
    "execution": {
     "iopub.execute_input": "2022-09-09T16:59:05.979333Z",
     "iopub.status.busy": "2022-09-09T16:59:05.979110Z",
     "iopub.status.idle": "2022-09-09T16:59:43.915171Z",
     "shell.execute_reply": "2022-09-09T16:59:43.914381Z",
     "shell.execute_reply.started": "2022-09-09T16:59:05.979313Z"
    },
    "tags": []
   },
   "outputs": [],
   "source": [
    "with pd.option_context(\"string_storage\", \"pyarrow\"):\n",
    "    labevents = pd.read_parquet(f\"{key}.parquet\", use_nullable_dtypes=True)\n",
    "print(f\"Number of events remaining in the dataframe: {len(labevents)}\")"
   ]
  },
  {
   "cell_type": "markdown",
   "metadata": {
    "tags": []
   },
   "source": [
    "### Only keep labevents associated with the selected patients"
   ]
  },
  {
   "cell_type": "code",
   "execution_count": null,
   "metadata": {
    "execution": {
     "iopub.execute_input": "2022-09-09T16:59:43.916816Z",
     "iopub.status.busy": "2022-09-09T16:59:43.916426Z",
     "iopub.status.idle": "2022-09-09T17:00:05.621774Z",
     "shell.execute_reply": "2022-09-09T17:00:05.621262Z",
     "shell.execute_reply.started": "2022-09-09T16:59:43.916796Z"
    },
    "tags": []
   },
   "outputs": [],
   "source": [
    "labevents = labevents[labevents.hadm_id.isin(admissions.hadm_id)]\n",
    "print(f\"Number of events remaining: {len(labevents)}\")\n",
    "print(f\"Number of patients remaining: {labevents.subject_id.nunique()}\")"
   ]
  },
  {
   "cell_type": "markdown",
   "metadata": {},
   "source": [
    "### Load Labitems table"
   ]
  },
  {
   "cell_type": "code",
   "execution_count": null,
   "metadata": {
    "execution": {
     "iopub.execute_input": "2022-09-09T17:00:05.622496Z",
     "iopub.status.busy": "2022-09-09T17:00:05.622349Z",
     "iopub.status.idle": "2022-09-09T17:00:05.666231Z",
     "shell.execute_reply": "2022-09-09T17:00:05.665540Z",
     "shell.execute_reply.started": "2022-09-09T17:00:05.622484Z"
    },
    "tags": []
   },
   "outputs": [],
   "source": [
    "# shape: (120M, 15) ⇝ 1.8B values.\n",
    "key = \"labitems\"\n",
    "with (\n",
    "    ZipFile(dataset_file) as archive,\n",
    "    archive.open(files[key]) as compressed_file,\n",
    "    gzip.open(compressed_file) as file,\n",
    "):\n",
    "    labitems = pyarrow.csv.read_csv(\n",
    "        file,\n",
    "        convert_options=pyarrow.csv.ConvertOptions(\n",
    "            column_types=column_types[key],\n",
    "            strings_can_be_null=True,\n",
    "            null_values=[\"\"],\n",
    "        ),\n",
    "    )"
   ]
  },
  {
   "cell_type": "markdown",
   "metadata": {},
   "source": [
    "#### Store and reload"
   ]
  },
  {
   "cell_type": "code",
   "execution_count": null,
   "metadata": {
    "execution": {
     "iopub.execute_input": "2022-09-09T17:00:05.667555Z",
     "iopub.status.busy": "2022-09-09T17:00:05.667230Z",
     "iopub.status.idle": "2022-09-09T17:00:05.716129Z",
     "shell.execute_reply": "2022-09-09T17:00:05.715638Z",
     "shell.execute_reply.started": "2022-09-09T17:00:05.667531Z"
    },
    "tags": []
   },
   "outputs": [],
   "source": [
    "pyarrow.parquet.write_table(labitems, f\"{key}.parquet\")\n",
    "\n",
    "with pd.option_context(\"string_storage\", \"pyarrow\"):\n",
    "    labitems = pd.read_parquet(f\"{key}.parquet\", use_nullable_dtypes=True)\n",
    "\n",
    "labitems.dtypes"
   ]
  },
  {
   "cell_type": "markdown",
   "metadata": {},
   "source": [
    "### Merge on ItemID, only select tests that were given to many people"
   ]
  },
  {
   "cell_type": "code",
   "execution_count": null,
   "metadata": {
    "execution": {
     "iopub.execute_input": "2022-09-09T17:00:05.716998Z",
     "iopub.status.busy": "2022-09-09T17:00:05.716839Z",
     "iopub.status.idle": "2022-09-09T17:00:05.720611Z",
     "shell.execute_reply": "2022-09-09T17:00:05.720181Z",
     "shell.execute_reply.started": "2022-09-09T17:00:05.716985Z"
    }
   },
   "outputs": [],
   "source": [
    "selected_variables = [\n",
    "    \"Albumin\",\n",
    "    \"Alanine Aminotransferase (ALT)\",\n",
    "    \"Alkaline Phosphatase\",\n",
    "    \"Anion Gap\",\n",
    "    \"Asparate Aminotransferase (AST)\",\n",
    "    \"Base Excess\",\n",
    "    \"Basophils\",\n",
    "    \"Bicarbonate\",\n",
    "    \"Bilirubin, Total\",\n",
    "    \"Calcium, Total\",\n",
    "    \"Calculated Total CO2\",\n",
    "    \"Chloride\",\n",
    "    \"Creatinine\",\n",
    "    \"Eosinophils\",\n",
    "    \"Glucose\",\n",
    "    \"Hematocrit\",\n",
    "    \"Hemoglobin\",\n",
    "    \"Lactate\",\n",
    "    \"Lymphocytes\",\n",
    "    \"MCH\",\n",
    "    \"MCV\",\n",
    "    \"Magnesium\",\n",
    "    \"Monocytes\",\n",
    "    \"Neutrophils\",\n",
    "    \"PT\",\n",
    "    \"PTT\",\n",
    "    \"Phosphate\",\n",
    "    \"Platelet Count\",\n",
    "    \"Potassium\",\n",
    "    \"RDW\",\n",
    "    \"Red Blood Cells\",\n",
    "    \"Sodium\",\n",
    "    \"Specific Gravity\",\n",
    "    \"Urea Nitrogen\",\n",
    "    \"White Blood Cells\",\n",
    "    \"pCO2\",\n",
    "    \"pH\",\n",
    "    \"pO2\",\n",
    "]"
   ]
  },
  {
   "cell_type": "code",
   "execution_count": null,
   "metadata": {
    "execution": {
     "iopub.execute_input": "2022-09-09T17:00:05.721300Z",
     "iopub.status.busy": "2022-09-09T17:00:05.721149Z",
     "iopub.status.idle": "2022-09-09T17:00:08.936693Z",
     "shell.execute_reply": "2022-09-09T17:00:08.936162Z",
     "shell.execute_reply.started": "2022-09-09T17:00:05.721288Z"
    }
   },
   "outputs": [],
   "source": [
    "labevents = pd.merge(labevents, labitems, on=\"itemid\")"
   ]
  },
  {
   "cell_type": "code",
   "execution_count": null,
   "metadata": {
    "execution": {
     "iopub.execute_input": "2022-09-09T17:00:08.937370Z",
     "iopub.status.busy": "2022-09-09T17:00:08.937240Z",
     "iopub.status.idle": "2022-09-09T17:00:08.939917Z",
     "shell.execute_reply": "2022-09-09T17:00:08.939566Z",
     "shell.execute_reply.started": "2022-09-09T17:00:08.937358Z"
    }
   },
   "outputs": [],
   "source": [
    "# test_freq = labevents.groupby(\"label\")[\"subject_id\"].nunique()\n",
    "# common_tests = test_freq.sort_values(ascending=False).index[:150]\n",
    "# labevents = labevents[labevents[\"label\"].isin(common_tests)]\n",
    "# print(f\"Number of patients remaining: {labevents.subject_id.nunique()}\")"
   ]
  },
  {
   "cell_type": "code",
   "execution_count": null,
   "metadata": {
    "execution": {
     "iopub.execute_input": "2022-09-09T17:00:08.940590Z",
     "iopub.status.busy": "2022-09-09T17:00:08.940415Z",
     "iopub.status.idle": "2022-09-09T17:00:10.168759Z",
     "shell.execute_reply": "2022-09-09T17:00:10.168084Z",
     "shell.execute_reply.started": "2022-09-09T17:00:08.940578Z"
    }
   },
   "outputs": [],
   "source": [
    "labevents = labevents[labevents[\"label\"].isin(selected_variables)]\n",
    "print(f\"Number of patients remaining: {labevents.subject_id.nunique()}\")"
   ]
  },
  {
   "cell_type": "code",
   "execution_count": null,
   "metadata": {
    "execution": {
     "iopub.execute_input": "2022-09-09T17:00:10.169842Z",
     "iopub.status.busy": "2022-09-09T17:00:10.169596Z",
     "iopub.status.idle": "2022-09-09T17:00:10.202369Z",
     "shell.execute_reply": "2022-09-09T17:00:10.201637Z",
     "shell.execute_reply.started": "2022-09-09T17:00:10.169813Z"
    }
   },
   "outputs": [],
   "source": [
    "labevents"
   ]
  },
  {
   "cell_type": "code",
   "execution_count": null,
   "metadata": {
    "execution": {
     "iopub.execute_input": "2022-09-09T17:00:10.203391Z",
     "iopub.status.busy": "2022-09-09T17:00:10.203185Z",
     "iopub.status.idle": "2022-09-09T17:00:12.423366Z",
     "shell.execute_reply": "2022-09-09T17:00:12.422924Z",
     "shell.execute_reply.started": "2022-09-09T17:00:10.203370Z"
    },
    "tags": []
   },
   "outputs": [],
   "source": [
    "labevents.to_parquet(\"labevents_processed.parquet\")"
   ]
  }
 ],
 "metadata": {
  "kernelspec": {
   "display_name": "Python 3 (ipykernel)",
   "language": "python",
   "name": "python3"
  },
  "language_info": {
   "codemirror_mode": {
    "name": "ipython",
    "version": 3
   },
   "file_extension": ".py",
   "mimetype": "text/x-python",
   "name": "python",
   "nbconvert_exporter": "python",
   "pygments_lexer": "ipython3",
   "version": "3.10.6"
  }
 },
 "nbformat": 4,
 "nbformat_minor": 4
}
