{
 "cells": [
  {
   "cell_type": "markdown",
   "metadata": {},
   "source": [
    "# MIMIC 4 data - dataset construction labevents"
   ]
  },
  {
   "cell_type": "markdown",
   "metadata": {},
   "source": [
    "Code taken from GRU-ODE-Bayes preprocessing; simplified and adapted for MIMIC 4 1.0"
   ]
  },
  {
   "cell_type": "code",
   "execution_count": null,
   "metadata": {
    "execution": {
     "iopub.execute_input": "2022-09-12T09:07:06.584016Z",
     "iopub.status.busy": "2022-09-12T09:07:06.583755Z",
     "iopub.status.idle": "2022-09-12T09:07:06.845761Z",
     "shell.execute_reply": "2022-09-12T09:07:06.844525Z",
     "shell.execute_reply.started": "2022-09-12T09:07:06.583960Z"
    },
    "tags": []
   },
   "outputs": [],
   "source": [
    "import gzip\n",
    "from zipfile import ZipFile\n",
    "\n",
    "import pandas as pd\n",
    "import pyarrow\n",
    "import pyarrow.csv\n",
    "import pyarrow.parquet"
   ]
  },
  {
   "cell_type": "code",
   "execution_count": null,
   "metadata": {
    "execution": {
     "iopub.execute_input": "2022-09-12T09:07:06.847427Z",
     "iopub.status.busy": "2022-09-12T09:07:06.847195Z",
     "iopub.status.idle": "2022-09-12T09:07:06.850998Z",
     "shell.execute_reply": "2022-09-12T09:07:06.850490Z",
     "shell.execute_reply.started": "2022-09-12T09:07:06.847397Z"
    },
    "tags": []
   },
   "outputs": [],
   "source": [
    "pd.set_option(\"display.max_rows\", 50)\n",
    "pd.set_option(\"display.max_columns\", 300)"
   ]
  },
  {
   "cell_type": "code",
   "execution_count": null,
   "metadata": {
    "execution": {
     "iopub.execute_input": "2022-09-12T09:07:06.851915Z",
     "iopub.status.busy": "2022-09-12T09:07:06.851709Z",
     "iopub.status.idle": "2022-09-12T09:07:06.914121Z",
     "shell.execute_reply": "2022-09-12T09:07:06.913127Z",
     "shell.execute_reply.started": "2022-09-12T09:07:06.851894Z"
    },
    "tags": []
   },
   "outputs": [],
   "source": [
    "admissions = pd.read_parquet(\"admissions_processed.parquet\")\n",
    "admissions.head()"
   ]
  },
  {
   "cell_type": "code",
   "execution_count": null,
   "metadata": {
    "execution": {
     "iopub.execute_input": "2022-09-12T09:07:06.914879Z",
     "iopub.status.busy": "2022-09-12T09:07:06.914740Z",
     "iopub.status.idle": "2022-09-12T09:07:06.918411Z",
     "shell.execute_reply": "2022-09-12T09:07:06.918038Z",
     "shell.execute_reply.started": "2022-09-12T09:07:06.914866Z"
    },
    "tags": []
   },
   "outputs": [],
   "source": [
    "dataset_file = \"mimic-iv-1.0.zip\"\n",
    "\n",
    "files = {\n",
    "    \"labevents\": \"mimic-iv-1.0/hosp/labevents.csv.gz\",\n",
    "    \"labitems\": \"mimic-iv-1.0/hosp/d_labitems.csv.gz\",\n",
    "}\n",
    "\n",
    "column_types = {\n",
    "    \"labevents\": {\n",
    "        \"labevent_id\": \"int32\",\n",
    "        \"subject_id\": \"int32\",\n",
    "        \"hadm_id\": \"int32\",\n",
    "        \"specimen_id\": \"int32\",\n",
    "        \"itemid\": \"int32\",\n",
    "        \"charttime\": \"timestamp[s]\",\n",
    "        \"storetime\": \"timestamp[s]\",\n",
    "        \"value\": \"string\",\n",
    "        \"valuenum\": \"float32\",\n",
    "        \"valueuom\": \"string\",\n",
    "        \"ref_range_lower\": \"float32\",\n",
    "        \"ref_range_upper\": \"float32\",\n",
    "        \"flag\": \"string\",\n",
    "        \"priority\": \"string\",\n",
    "        \"comments\": \"string\",\n",
    "    },\n",
    "    \"labitems\": {\n",
    "        \"itemid\": \"int32\",\n",
    "        \"label\": \"string\",\n",
    "        \"fluid\": \"string\",\n",
    "        \"category\": \"string\",\n",
    "        \"loinc_code\": \"string\",\n",
    "    },\n",
    "}"
   ]
  },
  {
   "cell_type": "code",
   "execution_count": null,
   "metadata": {
    "execution": {
     "iopub.execute_input": "2022-09-12T09:07:06.919023Z",
     "iopub.status.busy": "2022-09-12T09:07:06.918896Z",
     "iopub.status.idle": "2022-09-12T09:07:46.830150Z",
     "shell.execute_reply": "2022-09-12T09:07:46.829473Z",
     "shell.execute_reply.started": "2022-09-12T09:07:06.919010Z"
    },
    "tags": []
   },
   "outputs": [],
   "source": [
    "# shape: (120M, 15) ⇝ 1.8B values.\n",
    "key = \"labevents\"\n",
    "with (\n",
    "    ZipFile(dataset_file) as archive,\n",
    "    archive.open(files[key]) as compressed_file,\n",
    "    gzip.open(compressed_file) as file,\n",
    "):\n",
    "    labevents = pyarrow.csv.read_csv(\n",
    "        file,\n",
    "        convert_options=pyarrow.csv.ConvertOptions(\n",
    "            column_types=column_types[key],\n",
    "            strings_can_be_null=True,\n",
    "            null_values=[\"\"],\n",
    "        ),\n",
    "    )\n",
    "\n",
    "# pd.DataFrame({\"type\": prescriptions.dtypes, \"uniques\": prescriptions.nunique()})"
   ]
  },
  {
   "cell_type": "markdown",
   "metadata": {},
   "source": [
    "### Store and reload as pandas"
   ]
  },
  {
   "cell_type": "code",
   "execution_count": null,
   "metadata": {
    "execution": {
     "iopub.execute_input": "2022-09-12T09:07:46.830847Z",
     "iopub.status.busy": "2022-09-12T09:07:46.830693Z",
     "iopub.status.idle": "2022-09-12T09:08:15.493202Z",
     "shell.execute_reply": "2022-09-12T09:08:15.492597Z",
     "shell.execute_reply.started": "2022-09-12T09:07:46.830833Z"
    },
    "tags": []
   },
   "outputs": [],
   "source": [
    "pyarrow.parquet.write_table(labevents, f\"{key}.parquet\")\n",
    "del labevents"
   ]
  },
  {
   "cell_type": "code",
   "execution_count": null,
   "metadata": {
    "execution": {
     "iopub.execute_input": "2022-09-12T09:08:15.494742Z",
     "iopub.status.busy": "2022-09-12T09:08:15.494542Z",
     "iopub.status.idle": "2022-09-12T09:08:28.911015Z",
     "shell.execute_reply": "2022-09-12T09:08:28.910256Z",
     "shell.execute_reply.started": "2022-09-12T09:08:15.494724Z"
    },
    "tags": []
   },
   "outputs": [],
   "source": [
    "with pd.option_context(\"string_storage\", \"pyarrow\"):\n",
    "    labevents = pd.read_parquet(f\"{key}.parquet\", use_nullable_dtypes=True)\n",
    "print(f\"Number of events remaining in the dataframe: {labevents.shape}\")"
   ]
  },
  {
   "cell_type": "markdown",
   "metadata": {
    "tags": []
   },
   "source": [
    "### Only keep labevents associated with the selected patients"
   ]
  },
  {
   "cell_type": "code",
   "execution_count": null,
   "metadata": {
    "execution": {
     "iopub.execute_input": "2022-09-12T09:08:28.911990Z",
     "iopub.status.busy": "2022-09-12T09:08:28.911787Z",
     "iopub.status.idle": "2022-09-12T09:08:33.396289Z",
     "shell.execute_reply": "2022-09-12T09:08:33.395678Z",
     "shell.execute_reply.started": "2022-09-12T09:08:28.911973Z"
    },
    "tags": []
   },
   "outputs": [],
   "source": [
    "labevents = labevents[labevents.hadm_id.isin(admissions.hadm_id)]\n",
    "print(f\"Number of events remaining: {labevents.shape}\")\n",
    "print(f\"Number of patients remaining: {labevents.subject_id.nunique()}\")"
   ]
  },
  {
   "cell_type": "markdown",
   "metadata": {},
   "source": [
    "### Load Labitems table"
   ]
  },
  {
   "cell_type": "code",
   "execution_count": null,
   "metadata": {
    "execution": {
     "iopub.execute_input": "2022-09-12T09:08:33.397002Z",
     "iopub.status.busy": "2022-09-12T09:08:33.396839Z",
     "iopub.status.idle": "2022-09-12T09:08:33.421348Z",
     "shell.execute_reply": "2022-09-12T09:08:33.420827Z",
     "shell.execute_reply.started": "2022-09-12T09:08:33.396988Z"
    },
    "tags": []
   },
   "outputs": [],
   "source": [
    "# shape: (120M, 15) ⇝ 1.8B values.\n",
    "key = \"labitems\"\n",
    "with (\n",
    "    ZipFile(dataset_file) as archive,\n",
    "    archive.open(files[key]) as compressed_file,\n",
    "    gzip.open(compressed_file) as file,\n",
    "):\n",
    "    labitems = pyarrow.csv.read_csv(\n",
    "        file,\n",
    "        convert_options=pyarrow.csv.ConvertOptions(\n",
    "            column_types=column_types[key],\n",
    "            strings_can_be_null=True,\n",
    "            null_values=[\"\"],\n",
    "        ),\n",
    "    )"
   ]
  },
  {
   "cell_type": "markdown",
   "metadata": {},
   "source": [
    "#### Store and reload"
   ]
  },
  {
   "cell_type": "code",
   "execution_count": null,
   "metadata": {
    "execution": {
     "iopub.execute_input": "2022-09-12T09:08:33.422091Z",
     "iopub.status.busy": "2022-09-12T09:08:33.421865Z",
     "iopub.status.idle": "2022-09-12T09:08:33.432995Z",
     "shell.execute_reply": "2022-09-12T09:08:33.432504Z",
     "shell.execute_reply.started": "2022-09-12T09:08:33.422078Z"
    },
    "tags": []
   },
   "outputs": [],
   "source": [
    "pyarrow.parquet.write_table(labitems, f\"{key}.parquet\")\n",
    "\n",
    "with pd.option_context(\"string_storage\", \"pyarrow\"):\n",
    "    labitems = pd.read_parquet(f\"{key}.parquet\", use_nullable_dtypes=True)\n",
    "\n",
    "labitems.dtypes"
   ]
  },
  {
   "cell_type": "markdown",
   "metadata": {},
   "source": [
    "### Merge on ItemID, only select tests that were given to many people"
   ]
  },
  {
   "cell_type": "code",
   "execution_count": null,
   "metadata": {
    "execution": {
     "iopub.execute_input": "2022-09-12T09:08:33.434090Z",
     "iopub.status.busy": "2022-09-12T09:08:33.433862Z",
     "iopub.status.idle": "2022-09-12T09:08:33.438795Z",
     "shell.execute_reply": "2022-09-12T09:08:33.437974Z",
     "shell.execute_reply.started": "2022-09-12T09:08:33.434068Z"
    }
   },
   "outputs": [],
   "source": [
    "selected_variables = [\n",
    "    \"Albumin\",\n",
    "    \"Alanine Aminotransferase (ALT)\",\n",
    "    \"Alkaline Phosphatase\",\n",
    "    \"Anion Gap\",\n",
    "    \"Asparate Aminotransferase (AST)\",\n",
    "    \"Base Excess\",\n",
    "    \"Basophils\",\n",
    "    \"Bicarbonate\",\n",
    "    \"Bilirubin, Total\",\n",
    "    \"Calcium, Total\",\n",
    "    \"Calculated Total CO2\",\n",
    "    \"Chloride\",\n",
    "    \"Creatinine\",\n",
    "    \"Eosinophils\",\n",
    "    \"Glucose\",\n",
    "    \"Hematocrit\",\n",
    "    \"Hemoglobin\",\n",
    "    \"Lactate\",\n",
    "    \"Lymphocytes\",\n",
    "    \"MCH\",\n",
    "    \"MCV\",\n",
    "    \"Magnesium\",\n",
    "    \"Monocytes\",\n",
    "    \"Neutrophils\",\n",
    "    \"PT\",\n",
    "    \"PTT\",\n",
    "    \"Phosphate\",\n",
    "    \"Platelet Count\",\n",
    "    \"Potassium\",\n",
    "    \"RDW\",\n",
    "    \"Red Blood Cells\",\n",
    "    \"Sodium\",\n",
    "    \"Specific Gravity\",\n",
    "    \"Urea Nitrogen\",\n",
    "    \"White Blood Cells\",\n",
    "    \"pCO2\",\n",
    "    \"pH\",\n",
    "    \"pO2\",\n",
    "]"
   ]
  },
  {
   "cell_type": "code",
   "execution_count": null,
   "metadata": {
    "execution": {
     "iopub.execute_input": "2022-09-12T09:08:33.439785Z",
     "iopub.status.busy": "2022-09-12T09:08:33.439541Z",
     "iopub.status.idle": "2022-09-12T09:08:35.687741Z",
     "shell.execute_reply": "2022-09-12T09:08:35.687334Z",
     "shell.execute_reply.started": "2022-09-12T09:08:33.439755Z"
    }
   },
   "outputs": [],
   "source": [
    "labevents = pd.merge(labevents, labitems, on=\"itemid\")"
   ]
  },
  {
   "cell_type": "code",
   "execution_count": null,
   "metadata": {
    "execution": {
     "iopub.execute_input": "2022-09-12T09:08:35.688457Z",
     "iopub.status.busy": "2022-09-12T09:08:35.688277Z",
     "iopub.status.idle": "2022-09-12T09:08:35.691548Z",
     "shell.execute_reply": "2022-09-12T09:08:35.690680Z",
     "shell.execute_reply.started": "2022-09-12T09:08:35.688445Z"
    }
   },
   "outputs": [],
   "source": [
    "# test_freq = labevents.groupby(\"label\")[\"subject_id\"].nunique()\n",
    "# common_tests = test_freq.sort_values(ascending=False).index[:150]\n",
    "# labevents = labevents[labevents[\"label\"].isin(common_tests)]\n",
    "# print(f\"Number of patients remaining: {labevents.subject_id.nunique()}\")"
   ]
  },
  {
   "cell_type": "code",
   "execution_count": null,
   "metadata": {
    "execution": {
     "iopub.execute_input": "2022-09-12T09:08:35.692476Z",
     "iopub.status.busy": "2022-09-12T09:08:35.692301Z",
     "iopub.status.idle": "2022-09-12T09:08:36.690846Z",
     "shell.execute_reply": "2022-09-12T09:08:36.689820Z",
     "shell.execute_reply.started": "2022-09-12T09:08:35.692462Z"
    }
   },
   "outputs": [],
   "source": [
    "labevents = labevents[labevents[\"label\"].isin(selected_variables)]\n",
    "print(f\"Number of patients remaining: {labevents.subject_id.nunique()}\")"
   ]
  },
  {
   "cell_type": "code",
   "execution_count": null,
   "metadata": {
    "execution": {
     "iopub.execute_input": "2022-09-12T09:08:36.691501Z",
     "iopub.status.busy": "2022-09-12T09:08:36.691354Z",
     "iopub.status.idle": "2022-09-12T09:08:38.533071Z",
     "shell.execute_reply": "2022-09-12T09:08:38.532553Z",
     "shell.execute_reply.started": "2022-09-12T09:08:36.691480Z"
    },
    "tags": []
   },
   "outputs": [],
   "source": [
    "labevents.to_parquet(\"labevents_processed.parquet\")"
   ]
  }
 ],
 "metadata": {
  "kernelspec": {
   "display_name": "Python 3 (ipykernel)",
   "language": "python",
   "name": "python3"
  },
  "language_info": {
   "codemirror_mode": {
    "name": "ipython",
    "version": 3
   },
   "file_extension": ".py",
   "mimetype": "text/x-python",
   "name": "python",
   "nbconvert_exporter": "python",
   "pygments_lexer": "ipython3",
   "version": "3.10.6"
  }
 },
 "nbformat": 4,
 "nbformat_minor": 4
}
