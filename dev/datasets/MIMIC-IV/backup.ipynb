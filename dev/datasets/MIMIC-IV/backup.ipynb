{
 "cells": [
  {
   "cell_type": "code",
   "execution_count": null,
   "metadata": {},
   "outputs": [],
   "source": [
    "# split results_value\n",
    "table = table.set_column(\n",
    "    table.column_names.index(\"result_value\"),\n",
    "    \"result_value\",\n",
    "    pa.compute.split_pattern(table[\"result_value\"], \"/\"),\n",
    ")\n",
    "\n",
    "df = table.to_pandas().pivot(\n",
    "    index=[\"subject_id\", \"seq_num\", \"chartdate\"],\n",
    "    columns=\"result_name\",\n",
    "    values=\"result_value\",\n",
    ")\n",
    "\n",
    "DF = df.copy()\n",
    "\n",
    "# cols = [\n",
    "#     \"Blood Pressure\",\n",
    "#     \"Weight (Lbs)\",\n",
    "#     \"BMI (kg/m2)\",\n",
    "#     \"Height (Inches)\",\n",
    "#     \"Blood Pressure Sitting\",\n",
    "#     \"Blood Pressure Standing (1 min)\",\n",
    "#     \"Blood Pressure Lying\",\n",
    "#     \"Blood Pressure Standing (3 mins)\",\n",
    "#     \"BMI\",\n",
    "#     \"Weight\",\n",
    "#     \"Blood Pressure Standing\",\n",
    "#     \"eGFR\",\n",
    "#     \"Height\",\n",
    "# ]\n",
    "\n",
    "for col in df.columns:\n",
    "    s = df.pop(col)\n",
    "    m = s.isna()\n",
    "    s.loc[m] = [[]] * m.sum()\n",
    "    columns = (\n",
    "        [f\"{col} (systolic)\", f\"{col} (diastolic)\"]\n",
    "        if \"blood pressure\" in col.lower()\n",
    "        else [col]\n",
    "    )\n",
    "    frame = pd.DataFrame(s.to_list(), columns=columns)\n",
    "    for new_col in frame:\n",
    "        df[new_col] = pd.to_numeric(\n",
    "            frame.pop(new_col),\n",
    "            errors=\"coerce\",\n",
    "            downcast=pa.float32(),\n",
    "            dtype_backend=\"pyarrow\",\n",
    "        )"
   ]
  }
 ],
 "metadata": {
  "kernelspec": {
   "display_name": "Python 3 (ipykernel)",
   "language": "python",
   "name": "python3"
  },
  "language_info": {
   "codemirror_mode": {
    "name": "ipython",
    "version": 3
   },
   "file_extension": ".py",
   "mimetype": "text/x-python",
   "name": "python",
   "nbconvert_exporter": "python",
   "pygments_lexer": "ipython3",
   "version": "3.10.6"
  }
 },
 "nbformat": 4,
 "nbformat_minor": 4
}
