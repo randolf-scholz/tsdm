{
 "cells": [
  {
   "cell_type": "markdown",
   "metadata": {},
   "source": [
    "# MIMIC 4 data - dataset construction admissions"
   ]
  },
  {
   "cell_type": "code",
   "execution_count": null,
   "metadata": {
    "execution": {
     "iopub.execute_input": "2023-03-22T19:07:33.095156Z",
     "iopub.status.busy": "2023-03-22T19:07:33.094776Z",
     "iopub.status.idle": "2023-03-22T19:07:33.604176Z",
     "shell.execute_reply": "2023-03-22T19:07:33.603764Z",
     "shell.execute_reply.started": "2023-03-22T19:07:33.095123Z"
    },
    "tags": []
   },
   "outputs": [],
   "source": [
    "import gzip\n",
    "from pathlib import Path\n",
    "from zipfile import ZipFile\n",
    "\n",
    "import pandas as pd\n",
    "import pyarrow\n",
    "import pyarrow.csv\n",
    "import pyarrow.parquet"
   ]
  },
  {
   "cell_type": "markdown",
   "metadata": {
    "tags": []
   },
   "source": [
    "# Load `admissions` table"
   ]
  },
  {
   "cell_type": "markdown",
   "metadata": {},
   "source": [
    "## Table Schema"
   ]
  },
  {
   "cell_type": "code",
   "execution_count": null,
   "metadata": {
    "execution": {
     "iopub.execute_input": "2023-03-22T19:07:33.605002Z",
     "iopub.status.busy": "2023-03-22T19:07:33.604838Z",
     "iopub.status.idle": "2023-03-22T19:07:33.609968Z",
     "shell.execute_reply": "2023-03-22T19:07:33.609696Z",
     "shell.execute_reply.started": "2023-03-22T19:07:33.604991Z"
    },
    "tags": []
   },
   "outputs": [],
   "source": [
    "rawdata_file = Path.cwd() / \"mimic-iv-1.0.zip\"\n",
    "dataset_path = Path.cwd() / \"processed\"\n",
    "rawdata_path = Path.cwd() / \"raw\"\n",
    "\n",
    "files = {\n",
    "    \"admissions\": \"mimic-iv-1.0/core/admissions.csv.gz\",\n",
    "    \"patients\": \"mimic-iv-1.0/core/patients.csv.gz\",\n",
    "    \"chartevents\": \"mimic-iv-1.0/icu/chartevents.csv.gz\",\n",
    "}\n",
    "\n",
    "CATEGORY = pyarrow.dictionary(\"int32\", \"string\")\n",
    "ID_TYPE = \"int32\"  # pyarrow.dictionary(\"int32\", \"int32\", ordered=True)\n",
    "\n",
    "column_types = {\n",
    "    \"admissions\": {\n",
    "        \"subject_id\": ID_TYPE,\n",
    "        \"hadm_id\": ID_TYPE,\n",
    "        \"admittime\": \"timestamp[s]\",\n",
    "        \"dischtime\": \"timestamp[s]\",\n",
    "        \"deathtime\": \"timestamp[s]\",\n",
    "        \"admission_type\": CATEGORY,\n",
    "        \"admission_location\": CATEGORY,\n",
    "        \"discharge_location\": CATEGORY,\n",
    "        \"insurance\": CATEGORY,\n",
    "        \"language\": CATEGORY,\n",
    "        \"marital_status\": CATEGORY,\n",
    "        \"ethnicity\": CATEGORY,\n",
    "        \"edregtime\": \"timestamp[s]\",\n",
    "        \"edouttime\": \"timestamp[s]\",\n",
    "        \"hospital_expire_flag\": \"bool\",\n",
    "    },\n",
    "    \"patients\": {\n",
    "        \"subject_id\": ID_TYPE,\n",
    "        \"gender\": CATEGORY,\n",
    "        \"anchor_age\": \"int32\",\n",
    "        \"anchor_year\": \"int32\",\n",
    "        \"anchor_year_group\": CATEGORY,\n",
    "        \"dod\": \"timestamp[s]\",\n",
    "    },\n",
    "    \"chartevents\": {\n",
    "        \"subject_id\": ID_TYPE,\n",
    "        \"hadm_id\": ID_TYPE,\n",
    "        \"stay_id\": ID_TYPE,\n",
    "        \"itemid\": ID_TYPE,\n",
    "        \"charttime\": \"timestamp[s]\",\n",
    "        \"storetime\": \"timestamp[s]\",\n",
    "        # \"value\": CATEGORY,\n",
    "        \"valuenum\": \"float32\",\n",
    "        \"valueuom\": CATEGORY,\n",
    "        \"warning\": \"bool\",\n",
    "    },\n",
    "}\n",
    "\n",
    "\n",
    "null_values = [\n",
    "    \"-\",\n",
    "    \"-1.#IND\",\n",
    "    \"-1.#QNAN\",\n",
    "    \"-NaN\",\n",
    "    \"-nan\",\n",
    "    \"?\",\n",
    "    \"\",\n",
    "    \"#N/A N/A\",\n",
    "    \"#N/A\",\n",
    "    \"#NA\",\n",
    "    \"#na\",\n",
    "    \"<N/A>\",\n",
    "    \"<n/a>\",\n",
    "    \"<NA>\",\n",
    "    \"<na>\",\n",
    "    \"1.#IND\",\n",
    "    \"1.#QNAN\",\n",
    "    \"INFORMATION NOT AVAILABLE\",\n",
    "    \"N/A\",\n",
    "    \"n/a\",\n",
    "    \"NA\",\n",
    "    \"na\",\n",
    "    \"NAN\",\n",
    "    \"NaN\",\n",
    "    \"nan\",\n",
    "    \"NONE\",\n",
    "    \"None\",\n",
    "    \"none\",\n",
    "    \"NULL\",\n",
    "    \"NULL\",\n",
    "    \"Null\",\n",
    "    \"null\",\n",
    "    \"UNABLE TO OBTAIN\",\n",
    "    \"UNKNOWN\",\n",
    "    \"unknown\",\n",
    "]\n",
    "\n",
    "# types_map = {\n",
    "#     \"string\": pd.StringDtype(),\n",
    "#     \"bool\": pd.BooleanDtype(),\n",
    "#     \"int8\": pd.Int8Dtype(),\n",
    "#     \"int16\": pd.Int16Dtype(),\n",
    "#     \"int32\": a),\n",
    "#     \"int64\": pd.Int64Dtype(),\n",
    "#     \"uint8\": pd.UInt8Dtype(),\n",
    "#     \"uint16\": pd.UInt16Dtype(),\n",
    "#     \"uint32\": pd.UInt32Dtype(),\n",
    "#     \"uint64\": pd.UInt64Dtype(),\n",
    "# }"
   ]
  },
  {
   "cell_type": "code",
   "execution_count": null,
   "metadata": {},
   "outputs": [],
   "source": []
  },
  {
   "cell_type": "markdown",
   "metadata": {},
   "source": [
    "## Load `admissions` table"
   ]
  },
  {
   "cell_type": "code",
   "execution_count": null,
   "metadata": {
    "execution": {
     "iopub.execute_input": "2023-03-22T19:07:33.610422Z",
     "iopub.status.busy": "2023-03-22T19:07:33.610324Z",
     "iopub.status.idle": "2023-03-22T19:07:33.871594Z",
     "shell.execute_reply": "2023-03-22T19:07:33.871136Z",
     "shell.execute_reply.started": "2023-03-22T19:07:33.610412Z"
    },
    "tags": []
   },
   "outputs": [],
   "source": [
    "key = \"admissions\"\n",
    "with (\n",
    "    ZipFile(rawdata_file) as archive,\n",
    "    archive.open(files[key]) as compressed_file,\n",
    "    gzip.open(compressed_file) as file,\n",
    "):\n",
    "    admissions = pyarrow.csv.read_csv(\n",
    "        file,\n",
    "        convert_options=pyarrow.csv.ConvertOptions(\n",
    "            column_types=column_types[key],\n",
    "            strings_can_be_null=True,\n",
    "            null_values=null_values,\n",
    "        ),\n",
    "    )\n",
    "\n",
    "admissions.shape, admissions.schema"
   ]
  },
  {
   "cell_type": "code",
   "execution_count": null,
   "metadata": {
    "execution": {
     "iopub.execute_input": "2023-03-22T19:07:33.872511Z",
     "iopub.status.busy": "2023-03-22T19:07:33.872391Z",
     "iopub.status.idle": "2023-03-22T19:07:34.159012Z",
     "shell.execute_reply": "2023-03-22T19:07:34.158701Z",
     "shell.execute_reply.started": "2023-03-22T19:07:33.872501Z"
    },
    "tags": []
   },
   "outputs": [],
   "source": [
    "pyarrow.parquet.write_table(admissions, rawdata_path / f\"{key}.parquet\")\n",
    "admissions = admissions.to_pandas(self_destruct=True)  # , types_mapper=types_map.get)\n",
    "admissions"
   ]
  },
  {
   "cell_type": "markdown",
   "metadata": {
    "tags": []
   },
   "source": [
    "## Load `patients` table"
   ]
  },
  {
   "cell_type": "code",
   "execution_count": null,
   "metadata": {
    "execution": {
     "iopub.execute_input": "2023-03-22T19:07:34.159652Z",
     "iopub.status.busy": "2023-03-22T19:07:34.159481Z",
     "iopub.status.idle": "2023-03-22T19:07:34.219577Z",
     "shell.execute_reply": "2023-03-22T19:07:34.219222Z",
     "shell.execute_reply.started": "2023-03-22T19:07:34.159637Z"
    },
    "tags": []
   },
   "outputs": [],
   "source": [
    "key = \"patients\"\n",
    "with (\n",
    "    ZipFile(rawdata_file) as archive,\n",
    "    archive.open(files[key]) as compressed_file,\n",
    "    gzip.open(compressed_file) as file,\n",
    "):\n",
    "    patients = pyarrow.csv.read_csv(\n",
    "        file,\n",
    "        convert_options=pyarrow.csv.ConvertOptions(\n",
    "            column_types=column_types[key],\n",
    "            strings_can_be_null=True,\n",
    "            null_values=null_values,\n",
    "        ),\n",
    "    )\n",
    "patients.shape, patients.schema"
   ]
  },
  {
   "cell_type": "code",
   "execution_count": null,
   "metadata": {
    "execution": {
     "iopub.execute_input": "2023-03-22T19:07:34.220167Z",
     "iopub.status.busy": "2023-03-22T19:07:34.219999Z",
     "iopub.status.idle": "2023-03-22T19:07:34.274542Z",
     "shell.execute_reply": "2023-03-22T19:07:34.274100Z",
     "shell.execute_reply.started": "2023-03-22T19:07:34.220157Z"
    },
    "tags": []
   },
   "outputs": [],
   "source": [
    "pyarrow.parquet.write_table(patients, rawdata_path / f\"{key}.parquet\")\n",
    "patients = patients.to_pandas(self_destruct=True)  # , types_mapper=types_map.get)\n",
    "patients"
   ]
  },
  {
   "cell_type": "markdown",
   "metadata": {},
   "source": [
    "## Load `chartevents` table"
   ]
  },
  {
   "cell_type": "code",
   "execution_count": null,
   "metadata": {
    "execution": {
     "iopub.execute_input": "2023-03-22T19:07:34.275403Z",
     "iopub.status.busy": "2023-03-22T19:07:34.275207Z",
     "iopub.status.idle": "2023-03-22T19:08:26.687204Z",
     "shell.execute_reply": "2023-03-22T19:08:26.686870Z",
     "shell.execute_reply.started": "2023-03-22T19:07:34.275391Z"
    },
    "tags": []
   },
   "outputs": [],
   "source": [
    "# shape: (330M, 10) ⇝ 3.3B values\n",
    "key = \"chartevents\"\n",
    "with (\n",
    "    ZipFile(rawdata_file) as archive,\n",
    "    archive.open(files[key]) as compressed_file,\n",
    "    gzip.open(compressed_file) as file,\n",
    "):\n",
    "    chartevents = pyarrow.csv.read_csv(\n",
    "        file,\n",
    "        convert_options=pyarrow.csv.ConvertOptions(\n",
    "            column_types=column_types[key],\n",
    "            strings_can_be_null=True,\n",
    "            null_values=null_values,\n",
    "        ),\n",
    "    )\n",
    "\n",
    "chartevents.shape, chartevents.schema"
   ]
  },
  {
   "cell_type": "code",
   "execution_count": null,
   "metadata": {
    "execution": {
     "iopub.execute_input": "2023-03-22T19:08:26.688012Z",
     "iopub.status.busy": "2023-03-22T19:08:26.687898Z",
     "iopub.status.idle": "2023-03-22T19:08:34.956649Z",
     "shell.execute_reply": "2023-03-22T19:08:34.956057Z",
     "shell.execute_reply.started": "2023-03-22T19:08:26.688002Z"
    },
    "tags": []
   },
   "outputs": [],
   "source": [
    "chartevents = chartevents.to_pandas(self_destruct=True)  # , types_mapper=types_map.get)"
   ]
  },
  {
   "cell_type": "code",
   "execution_count": null,
   "metadata": {
    "execution": {
     "iopub.execute_input": "2023-03-22T19:08:34.957272Z",
     "iopub.status.busy": "2023-03-22T19:08:34.957163Z",
     "iopub.status.idle": "2023-03-22T19:08:41.030075Z",
     "shell.execute_reply": "2023-03-22T19:08:41.029511Z",
     "shell.execute_reply.started": "2023-03-22T19:08:34.957262Z"
    },
    "tags": []
   },
   "outputs": [],
   "source": [
    "chartevents = chartevents.astype({\"value\": \"string\"})"
   ]
  },
  {
   "cell_type": "code",
   "execution_count": null,
   "metadata": {
    "execution": {
     "iopub.execute_input": "2023-03-22T19:08:41.041272Z",
     "iopub.status.busy": "2023-03-22T19:08:41.041109Z",
     "iopub.status.idle": "2023-03-22T19:08:47.158496Z",
     "shell.execute_reply": "2023-03-22T19:08:47.157980Z",
     "shell.execute_reply.started": "2023-03-22T19:08:41.041261Z"
    },
    "tags": []
   },
   "outputs": [],
   "source": [
    "mask = (\n",
    "    chartevents.value.notnull()\n",
    "    | chartevents.valuenum.notnull()\n",
    "    | chartevents.valueuom.notnull()\n",
    ")"
   ]
  },
  {
   "cell_type": "code",
   "execution_count": null,
   "metadata": {
    "execution": {
     "iopub.execute_input": "2023-03-22T19:08:47.158991Z",
     "iopub.status.busy": "2023-03-22T19:08:47.158890Z",
     "iopub.status.idle": "2023-03-22T19:09:01.350089Z",
     "shell.execute_reply": "2023-03-22T19:09:01.349522Z",
     "shell.execute_reply.started": "2023-03-22T19:08:47.158981Z"
    },
    "tags": []
   },
   "outputs": [],
   "source": [
    "chartevents = chartevents.loc[mask]"
   ]
  },
  {
   "cell_type": "code",
   "execution_count": null,
   "metadata": {
    "execution": {
     "iopub.execute_input": "2023-03-22T19:09:01.350704Z",
     "iopub.status.busy": "2023-03-22T19:09:01.350599Z",
     "iopub.status.idle": "2023-03-22T19:09:19.467495Z",
     "shell.execute_reply": "2023-03-22T19:09:19.467092Z",
     "shell.execute_reply.started": "2023-03-22T19:09:01.350694Z"
    },
    "tags": []
   },
   "outputs": [],
   "source": [
    "float_mask = chartevents.value.str.isnumeric()"
   ]
  },
  {
   "cell_type": "code",
   "execution_count": null,
   "metadata": {
    "execution": {
     "iopub.execute_input": "2023-03-22T19:09:19.468033Z",
     "iopub.status.busy": "2023-03-22T19:09:19.467927Z",
     "iopub.status.idle": "2023-03-22T19:09:27.782609Z",
     "shell.execute_reply": "2023-03-22T19:09:27.781938Z",
     "shell.execute_reply.started": "2023-03-22T19:09:19.468023Z"
    },
    "tags": []
   },
   "outputs": [],
   "source": [
    "floats = chartevents.loc[float_mask, \"value\"].astype(\"float32\")"
   ]
  },
  {
   "cell_type": "code",
   "execution_count": null,
   "metadata": {
    "execution": {
     "iopub.execute_input": "2023-03-22T19:09:27.783164Z",
     "iopub.status.busy": "2023-03-22T19:09:27.783065Z",
     "iopub.status.idle": "2023-03-22T19:09:28.618362Z",
     "shell.execute_reply": "2023-03-22T19:09:28.617953Z",
     "shell.execute_reply.started": "2023-03-22T19:09:27.783155Z"
    }
   },
   "outputs": [],
   "source": [
    "others = chartevents.loc[float_mask, \"valuenum\"]"
   ]
  },
  {
   "cell_type": "code",
   "execution_count": null,
   "metadata": {
    "execution": {
     "iopub.execute_input": "2023-03-22T19:10:29.143929Z",
     "iopub.status.busy": "2023-03-22T19:10:29.143721Z",
     "iopub.status.idle": "2023-03-22T19:10:29.295302Z",
     "shell.execute_reply": "2023-03-22T19:10:29.294877Z",
     "shell.execute_reply.started": "2023-03-22T19:10:29.143917Z"
    },
    "tags": []
   },
   "outputs": [],
   "source": [
    "floats != others"
   ]
  },
  {
   "cell_type": "code",
   "execution_count": null,
   "metadata": {
    "execution": {
     "iopub.execute_input": "2023-03-22T19:09:28.618976Z",
     "iopub.status.busy": "2023-03-22T19:09:28.618806Z",
     "iopub.status.idle": "2023-03-22T19:09:28.767692Z",
     "shell.execute_reply": "2023-03-22T19:09:28.766772Z",
     "shell.execute_reply.started": "2023-03-22T19:09:28.618963Z"
    },
    "tags": []
   },
   "outputs": [],
   "source": [
    "raise"
   ]
  },
  {
   "cell_type": "code",
   "execution_count": null,
   "metadata": {
    "execution": {
     "iopub.status.busy": "2023-03-22T19:09:28.768034Z",
     "iopub.status.idle": "2023-03-22T19:09:28.768161Z",
     "shell.execute_reply": "2023-03-22T19:09:28.768102Z",
     "shell.execute_reply.started": "2023-03-22T19:09:28.768096Z"
    },
    "tags": []
   },
   "outputs": [],
   "source": [
    "chartevents.loc[chartevents.valuenum.isna()]"
   ]
  },
  {
   "cell_type": "code",
   "execution_count": null,
   "metadata": {
    "execution": {
     "iopub.status.busy": "2023-03-22T19:09:28.768673Z",
     "iopub.status.idle": "2023-03-22T19:09:28.768788Z",
     "shell.execute_reply": "2023-03-22T19:09:28.768736Z",
     "shell.execute_reply.started": "2023-03-22T19:09:28.768731Z"
    }
   },
   "outputs": [],
   "source": [
    "chartevents.valuenum.notnull().mean()"
   ]
  },
  {
   "cell_type": "code",
   "execution_count": null,
   "metadata": {
    "execution": {
     "iopub.status.busy": "2023-03-22T19:09:28.769572Z",
     "iopub.status.idle": "2023-03-22T19:09:28.769694Z",
     "shell.execute_reply": "2023-03-22T19:09:28.769638Z",
     "shell.execute_reply.started": "2023-03-22T19:09:28.769632Z"
    },
    "tags": []
   },
   "outputs": [],
   "source": [
    "chartevents.valueuom.notnull().mean()"
   ]
  },
  {
   "cell_type": "code",
   "execution_count": null,
   "metadata": {
    "execution": {
     "iopub.status.busy": "2023-03-22T19:09:28.770143Z",
     "iopub.status.idle": "2023-03-22T19:09:28.770255Z",
     "shell.execute_reply": "2023-03-22T19:09:28.770203Z",
     "shell.execute_reply.started": "2023-03-22T19:09:28.770198Z"
    }
   },
   "outputs": [],
   "source": [
    "raise"
   ]
  },
  {
   "cell_type": "code",
   "execution_count": null,
   "metadata": {
    "execution": {
     "iopub.status.busy": "2023-03-22T19:09:28.770559Z",
     "iopub.status.idle": "2023-03-22T19:09:28.770668Z",
     "shell.execute_reply": "2023-03-22T19:09:28.770617Z",
     "shell.execute_reply.started": "2023-03-22T19:09:28.770611Z"
    },
    "tags": []
   },
   "outputs": [],
   "source": [
    "pyarrow.compute.nu"
   ]
  },
  {
   "cell_type": "code",
   "execution_count": null,
   "metadata": {
    "execution": {
     "iopub.status.busy": "2023-03-22T19:09:28.771108Z",
     "iopub.status.idle": "2023-03-22T19:09:28.771219Z",
     "shell.execute_reply": "2023-03-22T19:09:28.771166Z",
     "shell.execute_reply.started": "2023-03-22T19:09:28.771161Z"
    }
   },
   "outputs": [],
   "source": [
    "raise"
   ]
  },
  {
   "cell_type": "code",
   "execution_count": null,
   "metadata": {
    "execution": {
     "iopub.status.busy": "2023-03-22T19:09:28.771612Z",
     "iopub.status.idle": "2023-03-22T19:09:28.771729Z",
     "shell.execute_reply": "2023-03-22T19:09:28.771675Z",
     "shell.execute_reply.started": "2023-03-22T19:09:28.771670Z"
    },
    "tags": []
   },
   "outputs": [],
   "source": [
    "pyarrow.parquet.write_table(chartevents, rawdata_path / f\"{key}.parquet\")\n",
    "chartevents = chartevents.to_pandas(self_destruct=True, types_mapper=types_map.get)\n",
    "chartevents"
   ]
  },
  {
   "cell_type": "code",
   "execution_count": null,
   "metadata": {
    "execution": {
     "iopub.status.busy": "2023-03-22T19:09:28.772266Z",
     "iopub.status.idle": "2023-03-22T19:09:28.772385Z",
     "shell.execute_reply": "2023-03-22T19:09:28.772331Z",
     "shell.execute_reply.started": "2023-03-22T19:09:28.772325Z"
    }
   },
   "outputs": [],
   "source": [
    "raise"
   ]
  },
  {
   "cell_type": "code",
   "execution_count": null,
   "metadata": {
    "execution": {
     "iopub.status.busy": "2023-03-22T19:09:28.772774Z",
     "iopub.status.idle": "2023-03-22T19:09:28.772890Z",
     "shell.execute_reply": "2023-03-22T19:09:28.772836Z",
     "shell.execute_reply.started": "2023-03-22T19:09:28.772830Z"
    },
    "tags": []
   },
   "outputs": [],
   "source": [
    "chartevents = chartevents[\n",
    "    chartevents.value.notna()\n",
    "    | chartevents.valuenum.notna()\n",
    "    | chartevents.valueuom.notna()\n",
    "]"
   ]
  },
  {
   "cell_type": "code",
   "execution_count": null,
   "metadata": {
    "execution": {
     "iopub.status.busy": "2023-03-22T19:09:28.773272Z",
     "iopub.status.idle": "2023-03-22T19:09:28.773454Z",
     "shell.execute_reply": "2023-03-22T19:09:28.773383Z",
     "shell.execute_reply.started": "2023-03-22T19:09:28.773377Z"
    }
   },
   "outputs": [],
   "source": [
    "raise"
   ]
  },
  {
   "cell_type": "code",
   "execution_count": null,
   "metadata": {
    "execution": {
     "iopub.status.busy": "2023-03-22T19:09:28.773828Z",
     "iopub.status.idle": "2023-03-22T19:09:28.773938Z",
     "shell.execute_reply": "2023-03-22T19:09:28.773887Z",
     "shell.execute_reply.started": "2023-03-22T19:09:28.773881Z"
    },
    "tags": []
   },
   "outputs": [],
   "source": [
    "all_missing = c.sum(\n",
    "    c.equal(\n",
    "        c.add(\n",
    "            c.add(\n",
    "                c.cast(c.is_null(chartevents[\"value\"]), \"int64\"),\n",
    "                c.cast(c.is_null(chartevents[\"valuenum\"]), \"int64\"),\n",
    "            ),\n",
    "            c.cast(c.is_null(chartevents[\"valueuom\"]), \"int64\"),\n",
    "        ),\n",
    "        3,\n",
    "    )\n",
    ")"
   ]
  },
  {
   "cell_type": "code",
   "execution_count": null,
   "metadata": {
    "execution": {
     "iopub.status.busy": "2023-03-22T19:09:28.774278Z",
     "iopub.status.idle": "2023-03-22T19:09:28.774398Z",
     "shell.execute_reply": "2023-03-22T19:09:28.774343Z",
     "shell.execute_reply.started": "2023-03-22T19:09:28.774337Z"
    },
    "tags": []
   },
   "outputs": [],
   "source": [
    "pyarrow.compute.sum(null_values)"
   ]
  },
  {
   "cell_type": "code",
   "execution_count": null,
   "metadata": {
    "execution": {
     "iopub.status.busy": "2023-03-22T19:09:28.774750Z",
     "iopub.status.idle": "2023-03-22T19:09:28.774863Z",
     "shell.execute_reply": "2023-03-22T19:09:28.774810Z",
     "shell.execute_reply.started": "2023-03-22T19:09:28.774804Z"
    }
   },
   "outputs": [],
   "source": [
    "float_values.drop_null"
   ]
  },
  {
   "cell_type": "code",
   "execution_count": null,
   "metadata": {
    "execution": {
     "iopub.status.busy": "2023-03-22T19:09:28.775240Z",
     "iopub.status.idle": "2023-03-22T19:09:28.775352Z",
     "shell.execute_reply": "2023-03-22T19:09:28.775299Z",
     "shell.execute_reply.started": "2023-03-22T19:09:28.775294Z"
    },
    "tags": []
   },
   "outputs": [],
   "source": [
    "pyarrow.compute.sum(pyarrow.compute.equal(float_values, other_values).drop_null())"
   ]
  },
  {
   "cell_type": "code",
   "execution_count": null,
   "metadata": {},
   "outputs": [],
   "source": []
  },
  {
   "cell_type": "code",
   "execution_count": null,
   "metadata": {
    "execution": {
     "iopub.status.busy": "2023-03-22T19:09:28.775652Z",
     "iopub.status.idle": "2023-03-22T19:09:28.775761Z",
     "shell.execute_reply": "2023-03-22T19:09:28.775710Z",
     "shell.execute_reply.started": "2023-03-22T19:09:28.775704Z"
    }
   },
   "outputs": [],
   "source": [
    "chartevents"
   ]
  },
  {
   "cell_type": "code",
   "execution_count": null,
   "metadata": {
    "execution": {
     "iopub.status.busy": "2023-03-22T19:09:28.776115Z",
     "iopub.status.idle": "2023-03-22T19:09:28.776227Z",
     "shell.execute_reply": "2023-03-22T19:09:28.776174Z",
     "shell.execute_reply.started": "2023-03-22T19:09:28.776169Z"
    },
    "tags": []
   },
   "outputs": [],
   "source": [
    "float_mask = pyarrow.compute.utf8_is_numeric(chartevents[\"value\"])"
   ]
  },
  {
   "cell_type": "code",
   "execution_count": null,
   "metadata": {
    "execution": {
     "iopub.status.busy": "2023-03-22T19:09:28.776529Z",
     "iopub.status.idle": "2023-03-22T19:09:28.776647Z",
     "shell.execute_reply": "2023-03-22T19:09:28.776592Z",
     "shell.execute_reply.started": "2023-03-22T19:09:28.776586Z"
    },
    "tags": []
   },
   "outputs": [],
   "source": [
    "other_values = pyarrow.compute.filter(chartevents[\"valuenum\"], float_mask)"
   ]
  },
  {
   "cell_type": "code",
   "execution_count": null,
   "metadata": {
    "execution": {
     "iopub.status.busy": "2023-03-22T19:09:28.776960Z",
     "iopub.status.idle": "2023-03-22T19:09:28.777072Z",
     "shell.execute_reply": "2023-03-22T19:09:28.777020Z",
     "shell.execute_reply.started": "2023-03-22T19:09:28.777014Z"
    },
    "tags": []
   },
   "outputs": [],
   "source": [
    "float_values = pyarrow.compute.cast(\n",
    "    pyarrow.compute.filter(chartevents[\"value\"], float_mask), \"float32\"\n",
    ")"
   ]
  },
  {
   "cell_type": "code",
   "execution_count": null,
   "metadata": {
    "execution": {
     "iopub.status.busy": "2023-03-22T19:09:28.777543Z",
     "iopub.status.idle": "2023-03-22T19:09:28.777653Z",
     "shell.execute_reply": "2023-03-22T19:09:28.777600Z",
     "shell.execute_reply.started": "2023-03-22T19:09:28.777595Z"
    },
    "tags": []
   },
   "outputs": [],
   "source": [
    "null_values = pyarrow.compute.is_null(chartevents[\"value\"])"
   ]
  },
  {
   "cell_type": "code",
   "execution_count": null,
   "metadata": {
    "execution": {
     "iopub.status.busy": "2023-03-22T19:09:28.777922Z",
     "iopub.status.idle": "2023-03-22T19:09:28.778032Z",
     "shell.execute_reply": "2023-03-22T19:09:28.777980Z",
     "shell.execute_reply.started": "2023-03-22T19:09:28.777974Z"
    }
   },
   "outputs": [],
   "source": [
    "from pyarrow import compute as c"
   ]
  },
  {
   "cell_type": "code",
   "execution_count": null,
   "metadata": {
    "execution": {
     "iopub.status.busy": "2023-03-22T19:09:28.778391Z",
     "iopub.status.idle": "2023-03-22T19:09:28.778499Z",
     "shell.execute_reply": "2023-03-22T19:09:28.778447Z",
     "shell.execute_reply.started": "2023-03-22T19:09:28.778442Z"
    }
   },
   "outputs": [],
   "source": [
    "all_missing"
   ]
  },
  {
   "cell_type": "code",
   "execution_count": null,
   "metadata": {},
   "outputs": [],
   "source": []
  },
  {
   "cell_type": "code",
   "execution_count": null,
   "metadata": {},
   "outputs": [],
   "source": []
  },
  {
   "cell_type": "code",
   "execution_count": null,
   "metadata": {},
   "outputs": [],
   "source": []
  },
  {
   "cell_type": "code",
   "execution_count": null,
   "metadata": {},
   "outputs": [],
   "source": []
  },
  {
   "cell_type": "markdown",
   "metadata": {},
   "source": [
    "# Filter Dataset"
   ]
  },
  {
   "cell_type": "markdown",
   "metadata": {},
   "source": [
    "# Merge patients and admissions"
   ]
  },
  {
   "cell_type": "code",
   "execution_count": null,
   "metadata": {
    "execution": {
     "iopub.status.busy": "2023-03-22T19:09:28.778860Z",
     "iopub.status.idle": "2023-03-22T19:09:28.778986Z",
     "shell.execute_reply": "2023-03-22T19:09:28.778930Z",
     "shell.execute_reply.started": "2023-03-22T19:09:28.778925Z"
    }
   },
   "outputs": [],
   "source": [
    "admissions = pd.merge(admissions, patients, on=\"subject_id\")"
   ]
  },
  {
   "cell_type": "markdown",
   "metadata": {},
   "source": [
    "## Only keep patients with single admission"
   ]
  },
  {
   "cell_type": "code",
   "execution_count": null,
   "metadata": {
    "execution": {
     "iopub.status.busy": "2023-03-22T19:09:28.779686Z",
     "iopub.status.idle": "2023-03-22T19:09:28.779818Z",
     "shell.execute_reply": "2023-03-22T19:09:28.779756Z",
     "shell.execute_reply.started": "2023-03-22T19:09:28.779750Z"
    },
    "tags": []
   },
   "outputs": [],
   "source": [
    "single_admissions = admissions.groupby(\"subject_id\")[\"hadm_id\"].nunique() == 1\n",
    "selected_patients = single_admissions[single_admissions].index\n",
    "mask = admissions[\"subject_id\"].isin(selected_patients)\n",
    "admissions = admissions[mask].copy()\n",
    "print(f\"Removing {(~mask).sum()} patients with multiple admissions!\")\n",
    "print(f\"Number of patients   remaining: {admissions['subject_id'].nunique()}\")\n",
    "print(f\"Number of admissions remaining: {admissions['hadm_id'].nunique()}\")"
   ]
  },
  {
   "cell_type": "markdown",
   "metadata": {},
   "source": [
    "## Only keep admissions with single patient associated"
   ]
  },
  {
   "cell_type": "code",
   "execution_count": null,
   "metadata": {
    "execution": {
     "iopub.status.busy": "2023-03-22T19:09:28.780141Z",
     "iopub.status.idle": "2023-03-22T19:09:28.780253Z",
     "shell.execute_reply": "2023-03-22T19:09:28.780199Z",
     "shell.execute_reply.started": "2023-03-22T19:09:28.780194Z"
    },
    "tags": []
   },
   "outputs": [],
   "source": [
    "single_admissions = admissions.groupby(\"hadm_id\")[\"subject_id\"].nunique() == 1\n",
    "selected_admissions = single_admissions[single_admissions].index\n",
    "mask = admissions[\"hadm_id\"].isin(selected_admissions)\n",
    "admissions = admissions[mask].copy()\n",
    "print(f\"Removing {(~mask).sum()} admissions with multiple patients!\")\n",
    "print(f\"Number of patients   remaining: {admissions['subject_id'].nunique()}\")\n",
    "print(f\"Number of admissions remaining: {admissions['hadm_id'].nunique()}\")"
   ]
  },
  {
   "cell_type": "markdown",
   "metadata": {},
   "source": [
    "## Only keep patients that stayed between 2 and 29 days"
   ]
  },
  {
   "cell_type": "code",
   "execution_count": null,
   "metadata": {
    "execution": {
     "iopub.status.busy": "2023-03-22T19:09:28.780576Z",
     "iopub.status.idle": "2023-03-22T19:09:28.780687Z",
     "shell.execute_reply": "2023-03-22T19:09:28.780634Z",
     "shell.execute_reply.started": "2023-03-22T19:09:28.780629Z"
    },
    "tags": []
   },
   "outputs": [],
   "source": [
    "admissions[\"elapsed_time\"] = admissions[\"dischtime\"] - admissions[\"admittime\"]\n",
    "elapsed_days = admissions[\"elapsed_time\"].dt.days\n",
    "admissions = admissions[(elapsed_days > 2) & (elapsed_days < 30)].copy()\n",
    "print(f\"Number of patients remainin in the dataframe: {admissions.shape}\")"
   ]
  },
  {
   "cell_type": "markdown",
   "metadata": {},
   "source": [
    "## Only keep patients older than 15"
   ]
  },
  {
   "cell_type": "code",
   "execution_count": null,
   "metadata": {
    "execution": {
     "iopub.status.busy": "2023-03-22T19:09:28.781043Z",
     "iopub.status.idle": "2023-03-22T19:09:28.781151Z",
     "shell.execute_reply": "2023-03-22T19:09:28.781101Z",
     "shell.execute_reply.started": "2023-03-22T19:09:28.781096Z"
    },
    "tags": []
   },
   "outputs": [],
   "source": [
    "admissions = admissions[admissions[\"anchor_age\"] > 15]\n",
    "print(f\"Number of patients remainin in the dataframe: {admissions.shape}\")"
   ]
  },
  {
   "cell_type": "markdown",
   "metadata": {},
   "source": [
    "## Only keep Patients that have time series data associated with them"
   ]
  },
  {
   "cell_type": "code",
   "execution_count": null,
   "metadata": {
    "execution": {
     "iopub.status.busy": "2023-03-22T19:09:28.781496Z",
     "iopub.status.idle": "2023-03-22T19:09:28.781606Z",
     "shell.execute_reply": "2023-03-22T19:09:28.781555Z",
     "shell.execute_reply.started": "2023-03-22T19:09:28.781549Z"
    },
    "tags": []
   },
   "outputs": [],
   "source": [
    "admissions = admissions[admissions.hadm_id.isin(chartevents.hadm_id)]\n",
    "print(f\"Number of patients remainin in the dataframe: {admissions.shape}\")"
   ]
  },
  {
   "cell_type": "markdown",
   "metadata": {},
   "source": [
    "# Serialize Pre-processed DataFrame"
   ]
  },
  {
   "cell_type": "code",
   "execution_count": null,
   "metadata": {
    "execution": {
     "iopub.status.busy": "2023-03-22T19:09:28.782012Z",
     "iopub.status.idle": "2023-03-22T19:09:28.782173Z",
     "shell.execute_reply": "2023-03-22T19:09:28.782093Z",
     "shell.execute_reply.started": "2023-03-22T19:09:28.782086Z"
    },
    "tags": []
   },
   "outputs": [],
   "source": [
    "# Clean categories\n",
    "def clean_categories(df):\n",
    "    for col in df:\n",
    "        if df[col].dtype == \"category\":\n",
    "            df[col] = df[col].cat.remove_unused_categories()\n",
    "    return df\n",
    "\n",
    "\n",
    "admissions = clean_categories(admissions)\n",
    "admissions.to_parquet(dataset_path / \"admissions_processed.parquet\")\n",
    "admissions.shape, admissions.dtypes"
   ]
  }
 ],
 "metadata": {
  "kernelspec": {
   "display_name": "Python 3 (ipykernel)",
   "language": "python",
   "name": "python3"
  },
  "language_info": {
   "codemirror_mode": {
    "name": "ipython",
    "version": 3
   },
   "file_extension": ".py",
   "mimetype": "text/x-python",
   "name": "python",
   "nbconvert_exporter": "python",
   "pygments_lexer": "ipython3",
   "version": "3.10.9"
  },
  "toc-autonumbering": false,
  "toc-showcode": false,
  "toc-showmarkdowntxt": false,
  "toc-showtags": false
 },
 "nbformat": 4,
 "nbformat_minor": 4
}
