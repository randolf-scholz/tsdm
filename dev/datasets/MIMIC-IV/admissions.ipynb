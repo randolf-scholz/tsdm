{
 "cells": [
  {
   "cell_type": "markdown",
   "metadata": {},
   "source": [
    "# MIMIC 4 data - dataset construction admissions"
   ]
  },
  {
   "cell_type": "markdown",
   "metadata": {},
   "source": [
    "Code taken from GRU-ODE-Bayes preprocessing; simplified and adapted for MIMIC 4 1.0"
   ]
  },
  {
   "cell_type": "code",
   "execution_count": null,
   "metadata": {
    "execution": {
     "iopub.execute_input": "2022-09-09T15:57:46.175876Z",
     "iopub.status.busy": "2022-09-09T15:57:46.175743Z",
     "iopub.status.idle": "2022-09-09T15:57:46.188671Z",
     "shell.execute_reply": "2022-09-09T15:57:46.187893Z",
     "shell.execute_reply.started": "2022-09-09T15:57:46.175839Z"
    },
    "tags": []
   },
   "outputs": [],
   "source": [
    "%load_ext autotime"
   ]
  },
  {
   "cell_type": "code",
   "execution_count": null,
   "metadata": {
    "execution": {
     "iopub.execute_input": "2022-09-09T15:57:46.190877Z",
     "iopub.status.busy": "2022-09-09T15:57:46.190453Z",
     "iopub.status.idle": "2022-09-09T15:57:46.805800Z",
     "shell.execute_reply": "2022-09-09T15:57:46.804728Z",
     "shell.execute_reply.started": "2022-09-09T15:57:46.190857Z"
    }
   },
   "outputs": [],
   "source": [
    "import gzip\n",
    "import os\n",
    "from datetime import datetime, timedelta\n",
    "from zipfile import ZipFile\n",
    "\n",
    "import matplotlib.pyplot as plt\n",
    "import numpy as np\n",
    "import pandas as pd"
   ]
  },
  {
   "cell_type": "code",
   "execution_count": null,
   "metadata": {
    "execution": {
     "iopub.execute_input": "2022-09-09T15:57:46.807292Z",
     "iopub.status.busy": "2022-09-09T15:57:46.807038Z",
     "iopub.status.idle": "2022-09-09T15:57:46.814017Z",
     "shell.execute_reply": "2022-09-09T15:57:46.813552Z",
     "shell.execute_reply.started": "2022-09-09T15:57:46.807278Z"
    }
   },
   "outputs": [],
   "source": [
    "dataset_file = \"mimic-iv-1.0.zip\"\n",
    "\n",
    "files = {\n",
    "    \"admissions\": \"mimic-iv-1.0/core/admissions.csv.gz\",\n",
    "    \"patients\": \"mimic-iv-1.0/core/patients.csv.gz\",\n",
    "    \"chartevents\": \"mimic-iv-1.0/icu/chartevents.csv.gz\",\n",
    "}\n",
    "\n",
    "dtypes = {\n",
    "    \"admissions\": {\n",
    "        \"subject_id\": \"int32\",\n",
    "        \"hadm_id\": \"int32\",\n",
    "        \"admittime\": \"datetime64\",\n",
    "        \"dischtime\": \"datetime64\",\n",
    "        \"deathtime\": \"datetime64\",\n",
    "        \"admission_type\": \"string\",\n",
    "        \"admission_location\": \"string\",\n",
    "        \"discharge_location\": \"string\",\n",
    "        \"insurance\": \"string\",\n",
    "        \"language\": \"string\",\n",
    "        \"marital_status\": \"string\",\n",
    "        \"ethnicity\": \"string\",\n",
    "        \"edregtime\": \"datetime64\",\n",
    "        \"edouttime\": \"datetime64\",\n",
    "        \"hospital_expire_flag\": \"bool\",\n",
    "    },\n",
    "    \"patients\": {\n",
    "        \"subject_id\": \"int32\",\n",
    "        \"gender\": \"string\",\n",
    "        \"anchor_age\": \"int32\",\n",
    "        \"anchor_year\": \"int32\",\n",
    "        \"anchor_year_group\": \"string\",\n",
    "        \"dod\": \"datetime64\",\n",
    "    },\n",
    "    \"chartevents\": {\n",
    "        \"subject_id\": \"int32\",\n",
    "        \"hadm_id\": \"int32\",\n",
    "        \"stay_id\": \"int32\",\n",
    "        \"itemid\": \"int32\",\n",
    "        \"charttime\": \"datetime64\",\n",
    "        \"storetime\": \"datetime64\",\n",
    "        \"value\": \"string[pyarrow]\",\n",
    "        \"valuenum\": \"float32\",\n",
    "        \"valueuom\": \"string[pyarrow]\",\n",
    "        \"warning\": \"bool\",\n",
    "    },\n",
    "}\n",
    "\n",
    "na_values = {\n",
    "    \"admissions\": {\n",
    "        \"subject_id\": [],\n",
    "        \"hadm_id\": [],\n",
    "        \"admittime\": [],\n",
    "        \"dischtime\": [],\n",
    "        \"deathtime\": [],\n",
    "        \"admission_type\": [],\n",
    "        \"admission_location\": [\"INFORMATION NOT AVAILABLE\"],\n",
    "        \"discharge_location\": [],\n",
    "        \"insurance\": [],\n",
    "        \"language\": [\"?\"],\n",
    "        \"marital_status\": [],\n",
    "        \"ethnicity\": [\"UNKNOWN\", \"UNABLE TO OBTAIN\"],\n",
    "        \"edregtime\": [],\n",
    "        \"edouttime\": [],\n",
    "        \"hospital_expire_flag\": [],\n",
    "    },\n",
    "    \"patients\": {\n",
    "        \"subject_id\": [],\n",
    "        \"gender\": [],\n",
    "        \"anchor_age\": [],\n",
    "        \"anchor_year\": [],\n",
    "        \"anchor_year_group\": [],\n",
    "        \"dod\": [],\n",
    "    },\n",
    "    \"chartevents\": {\n",
    "        \"subject_id\": [],\n",
    "        \"hadm_id\": [],\n",
    "        \"stay_id\": [],\n",
    "        \"itemid\": [],\n",
    "        \"charttime\": [],\n",
    "        \"storetime\": [],\n",
    "        \"value\": [\"\"],\n",
    "        \"valuenum\": [],\n",
    "        \"valueuom\": [\"\"],\n",
    "        \"warning\": [],\n",
    "    },\n",
    "}"
   ]
  },
  {
   "cell_type": "markdown",
   "metadata": {},
   "source": [
    "### Load Admissions and Patients tables"
   ]
  },
  {
   "cell_type": "code",
   "execution_count": null,
   "metadata": {
    "execution": {
     "iopub.execute_input": "2022-09-09T15:57:46.814677Z",
     "iopub.status.busy": "2022-09-09T15:57:46.814560Z",
     "iopub.status.idle": "2022-09-09T15:57:48.943329Z",
     "shell.execute_reply": "2022-09-09T15:57:48.942555Z",
     "shell.execute_reply.started": "2022-09-09T15:57:46.814666Z"
    }
   },
   "outputs": [],
   "source": [
    "with ZipFile(dataset_file) as archive:\n",
    "\n",
    "    key = \"admissions\"\n",
    "    with archive.open(files[key], \"r\") as file:\n",
    "        admissions = pd.read_csv(\n",
    "            file,\n",
    "            compression=\"gzip\",\n",
    "            parse_dates=[k for k, v in dtypes[key].items() if v == \"datetime64\"],\n",
    "            dtype={k: v for k, v in dtypes[key].items() if v != \"datetime64\"},\n",
    "            na_values=na_values[key],\n",
    "            index_col=\"subject_id\",\n",
    "        )\n",
    "\n",
    "    key = \"patients\"\n",
    "    with archive.open(files[key], \"r\") as file:\n",
    "        patients = pd.read_csv(\n",
    "            file,\n",
    "            compression=\"gzip\",\n",
    "            parse_dates=[k for k, v in dtypes[key].items() if v == \"datetime64\"],\n",
    "            dtype={k: v for k, v in dtypes[key].items() if v != \"datetime64\"},\n",
    "            na_values=na_values[key],\n",
    "            index_col=\"subject_id\",\n",
    "        )\n",
    "\n",
    "data = pd.merge(patients, admissions, on=\"subject_id\")\n",
    "data"
   ]
  },
  {
   "cell_type": "markdown",
   "metadata": {},
   "source": [
    "### Only keep patients with single admission"
   ]
  },
  {
   "cell_type": "code",
   "execution_count": null,
   "metadata": {
    "execution": {
     "iopub.execute_input": "2022-09-09T15:57:48.944213Z",
     "iopub.status.busy": "2022-09-09T15:57:48.944064Z",
     "iopub.status.idle": "2022-09-09T15:57:49.335823Z",
     "shell.execute_reply": "2022-09-09T15:57:49.335226Z",
     "shell.execute_reply.started": "2022-09-09T15:57:48.944201Z"
    }
   },
   "outputs": [],
   "source": [
    "num_admissions = data.groupby(\"subject_id\")[\"hadm_id\"].nunique()\n",
    "subject_ids = num_admissions[num_admissions == 1].index\n",
    "data = data.loc[subject_ids]\n",
    "print(f\"Number of patients remaining in the dataframe: {len(data)}\")"
   ]
  },
  {
   "cell_type": "markdown",
   "metadata": {},
   "source": [
    "### Only keep patients that stayed between 2 and 29 days"
   ]
  },
  {
   "cell_type": "code",
   "execution_count": null,
   "metadata": {
    "execution": {
     "iopub.execute_input": "2022-09-09T15:57:49.336439Z",
     "iopub.status.busy": "2022-09-09T15:57:49.336305Z",
     "iopub.status.idle": "2022-09-09T15:57:49.357562Z",
     "shell.execute_reply": "2022-09-09T15:57:49.356938Z",
     "shell.execute_reply.started": "2022-09-09T15:57:49.336423Z"
    }
   },
   "outputs": [],
   "source": [
    "data[\"elapsed_time\"] = data[\"dischtime\"] - data[\"admittime\"]\n",
    "data[\"elapsed_days\"] = data[\"elapsed_time\"].dt.days\n",
    "data = data.loc[(data[\"elapsed_days\"] > 2) & (data[\"elapsed_days\"] < 30)]\n",
    "print(f\"Number of patients remaining in the dataframe: {len(data)}\")"
   ]
  },
  {
   "cell_type": "markdown",
   "metadata": {},
   "source": [
    "### Only keep patients older than 15"
   ]
  },
  {
   "cell_type": "code",
   "execution_count": null,
   "metadata": {
    "execution": {
     "iopub.execute_input": "2022-09-09T15:57:49.359444Z",
     "iopub.status.busy": "2022-09-09T15:57:49.359185Z",
     "iopub.status.idle": "2022-09-09T15:57:49.370348Z",
     "shell.execute_reply": "2022-09-09T15:57:49.369951Z",
     "shell.execute_reply.started": "2022-09-09T15:57:49.359427Z"
    }
   },
   "outputs": [],
   "source": [
    "data = data[data[\"anchor_age\"] > 15]\n",
    "print(f\"Number of patients remaining in the dataframe: {len(data)}\")"
   ]
  },
  {
   "cell_type": "markdown",
   "metadata": {},
   "source": [
    "### Load Chartevents table"
   ]
  },
  {
   "cell_type": "code",
   "execution_count": null,
   "metadata": {
    "execution": {
     "iopub.execute_input": "2022-09-09T15:57:49.371201Z",
     "iopub.status.busy": "2022-09-09T15:57:49.371011Z",
     "iopub.status.idle": "2022-09-09T15:57:49.385165Z",
     "shell.execute_reply": "2022-09-09T15:57:49.384759Z",
     "shell.execute_reply.started": "2022-09-09T15:57:49.371188Z"
    }
   },
   "outputs": [],
   "source": [
    "import pyarrow as pa\n",
    "import pyarrow.csv\n",
    "import pyarrow.parquet\n",
    "\n",
    "convert_options = pyarrow.csv.ConvertOptions(\n",
    "    column_types={\n",
    "        \"subject_id\": \"int32\",\n",
    "        \"hadm_id\": \"int32\",\n",
    "        \"stay_id\": \"int32\",\n",
    "        \"itemid\": \"int32\",\n",
    "        \"charttime\": \"timestamp[s]\",\n",
    "        \"storetime\": \"timestamp[s]\",\n",
    "        \"value\": \"string\",\n",
    "        \"valuenum\": \"float32\",\n",
    "        \"valueuom\": \"string\",\n",
    "        \"warning\": \"bool\",\n",
    "    },\n",
    "    strings_can_be_null=True,\n",
    "    null_values=[\"\"],\n",
    ")"
   ]
  },
  {
   "cell_type": "code",
   "execution_count": null,
   "metadata": {
    "execution": {
     "iopub.execute_input": "2022-09-09T15:57:49.385873Z",
     "iopub.status.busy": "2022-09-09T15:57:49.385684Z",
     "iopub.status.idle": "2022-09-09T15:59:05.937066Z",
     "shell.execute_reply": "2022-09-09T15:59:05.936343Z",
     "shell.execute_reply.started": "2022-09-09T15:57:49.385860Z"
    },
    "tags": []
   },
   "outputs": [],
   "source": [
    "# shape: (330M, 10) ⇝ 3.3B values\n",
    "key = \"chartevents\"\n",
    "with (\n",
    "    ZipFile(dataset_file) as archive,\n",
    "    archive.open(files[key]) as compressed_file,\n",
    "    gzip.open(compressed_file) as file,\n",
    "):\n",
    "    chartevents = pyarrow.csv.read_csv(file, convert_options=convert_options)"
   ]
  },
  {
   "cell_type": "code",
   "execution_count": null,
   "metadata": {
    "execution": {
     "iopub.execute_input": "2022-09-09T15:59:05.938057Z",
     "iopub.status.busy": "2022-09-09T15:59:05.937855Z",
     "iopub.status.idle": "2022-09-09T15:59:50.965398Z",
     "shell.execute_reply": "2022-09-09T15:59:50.964683Z",
     "shell.execute_reply.started": "2022-09-09T15:59:05.938039Z"
    }
   },
   "outputs": [],
   "source": [
    "pyarrow.parquet.write_table(chartevents, \"chartevents.parquet\")\n",
    "del chartevents"
   ]
  },
  {
   "cell_type": "code",
   "execution_count": null,
   "metadata": {
    "execution": {
     "iopub.execute_input": "2022-09-09T15:59:50.966808Z",
     "iopub.status.busy": "2022-09-09T15:59:50.966110Z",
     "iopub.status.idle": "2022-09-09T16:00:39.626555Z",
     "shell.execute_reply": "2022-09-09T16:00:39.625593Z",
     "shell.execute_reply.started": "2022-09-09T15:59:50.966789Z"
    }
   },
   "outputs": [],
   "source": [
    "with pd.option_context(\"string_storage\", \"pyarrow\"):\n",
    "    chartevents = pd.read_parquet(\"chartevents.parquet\", use_nullable_dtypes=True)\n",
    "chartevents.dtypes"
   ]
  },
  {
   "cell_type": "markdown",
   "metadata": {},
   "source": [
    "### Only keep Patients that have time series data associated with them"
   ]
  },
  {
   "cell_type": "code",
   "execution_count": null,
   "metadata": {
    "execution": {
     "iopub.execute_input": "2022-09-09T16:00:39.628445Z",
     "iopub.status.busy": "2022-09-09T16:00:39.628021Z",
     "iopub.status.idle": "2022-09-09T16:00:59.052399Z",
     "shell.execute_reply": "2022-09-09T16:00:59.051970Z",
     "shell.execute_reply.started": "2022-09-09T16:00:39.628429Z"
    }
   },
   "outputs": [],
   "source": [
    "data = data[data.hadm_id.isin(chartevents.hadm_id)]\n",
    "print(f\"Number of patients remaining in the dataframe: {len(data)}\")"
   ]
  },
  {
   "cell_type": "markdown",
   "metadata": {},
   "source": [
    "## Store result"
   ]
  },
  {
   "cell_type": "code",
   "execution_count": null,
   "metadata": {
    "execution": {
     "iopub.execute_input": "2022-09-09T16:00:59.053160Z",
     "iopub.status.busy": "2022-09-09T16:00:59.052942Z",
     "iopub.status.idle": "2022-09-09T16:00:59.114034Z",
     "shell.execute_reply": "2022-09-09T16:00:59.113385Z",
     "shell.execute_reply.started": "2022-09-09T16:00:59.053146Z"
    },
    "tags": []
   },
   "outputs": [],
   "source": [
    "data.to_parquet(\"admissions_processed.parquet\")"
   ]
  }
 ],
 "metadata": {
  "kernelspec": {
   "display_name": "Python 3 (ipykernel)",
   "language": "python",
   "name": "python3"
  },
  "language_info": {
   "codemirror_mode": {
    "name": "ipython",
    "version": 3
   },
   "file_extension": ".py",
   "mimetype": "text/x-python",
   "name": "python",
   "nbconvert_exporter": "python",
   "pygments_lexer": "ipython3",
   "version": "3.10.6"
  },
  "toc-autonumbering": false,
  "toc-showcode": false,
  "toc-showmarkdowntxt": false,
  "toc-showtags": false
 },
 "nbformat": 4,
 "nbformat_minor": 4
}
