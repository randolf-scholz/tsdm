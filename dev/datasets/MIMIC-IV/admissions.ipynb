{
 "cells": [
  {
   "cell_type": "markdown",
   "metadata": {},
   "source": [
    "# MIMIC 4 data - dataset construction admissions"
   ]
  },
  {
   "cell_type": "code",
   "execution_count": null,
   "metadata": {
    "execution": {
     "iopub.execute_input": "2022-09-13T21:09:25.432485Z",
     "iopub.status.busy": "2022-09-13T21:09:25.432341Z",
     "iopub.status.idle": "2022-09-13T21:09:25.659917Z",
     "shell.execute_reply": "2022-09-13T21:09:25.659549Z",
     "shell.execute_reply.started": "2022-09-13T21:09:25.432458Z"
    },
    "tags": []
   },
   "outputs": [],
   "source": [
    "import gzip\n",
    "from pathlib import Path\n",
    "from zipfile import ZipFile\n",
    "\n",
    "import pandas as pd\n",
    "import pyarrow\n",
    "import pyarrow.csv\n",
    "import pyarrow.parquet"
   ]
  },
  {
   "cell_type": "markdown",
   "metadata": {
    "tags": []
   },
   "source": [
    "# Load `admissions` table"
   ]
  },
  {
   "cell_type": "markdown",
   "metadata": {},
   "source": [
    "## Table Schema"
   ]
  },
  {
   "cell_type": "code",
   "execution_count": null,
   "metadata": {
    "execution": {
     "iopub.execute_input": "2022-09-13T21:09:25.661070Z",
     "iopub.status.busy": "2022-09-13T21:09:25.660910Z",
     "iopub.status.idle": "2022-09-13T21:09:25.666344Z",
     "shell.execute_reply": "2022-09-13T21:09:25.665992Z",
     "shell.execute_reply.started": "2022-09-13T21:09:25.661060Z"
    },
    "tags": []
   },
   "outputs": [],
   "source": [
    "rawdata_file = Path.cwd() / \"mimic-iv-1.0.zip\"\n",
    "dataset_path = Path.cwd() / \"processed\"\n",
    "rawdata_path = Path.cwd() / \"raw\"\n",
    "\n",
    "files = {\n",
    "    \"admissions\": \"mimic-iv-1.0/core/admissions.csv.gz\",\n",
    "    \"patients\": \"mimic-iv-1.0/core/patients.csv.gz\",\n",
    "    \"chartevents\": \"mimic-iv-1.0/icu/chartevents.csv.gz\",\n",
    "}\n",
    "\n",
    "CATEGORY = pyarrow.dictionary(\"int32\", \"string\")\n",
    "ID_TYPE = \"int32\"  # pyarrow.dictionary(\"int32\", \"int32\", ordered=True)\n",
    "\n",
    "column_types = {\n",
    "    \"admissions\": {\n",
    "        \"subject_id\": ID_TYPE,\n",
    "        \"hadm_id\": ID_TYPE,\n",
    "        \"admittime\": \"timestamp[s]\",\n",
    "        \"dischtime\": \"timestamp[s]\",\n",
    "        \"deathtime\": \"timestamp[s]\",\n",
    "        \"admission_type\": CATEGORY,\n",
    "        \"admission_location\": CATEGORY,\n",
    "        \"discharge_location\": CATEGORY,\n",
    "        \"insurance\": CATEGORY,\n",
    "        \"language\": CATEGORY,\n",
    "        \"marital_status\": CATEGORY,\n",
    "        \"ethnicity\": CATEGORY,\n",
    "        \"edregtime\": \"timestamp[s]\",\n",
    "        \"edouttime\": \"timestamp[s]\",\n",
    "        \"hospital_expire_flag\": \"bool\",\n",
    "    },\n",
    "    \"patients\": {\n",
    "        \"subject_id\": ID_TYPE,\n",
    "        \"gender\": CATEGORY,\n",
    "        \"anchor_age\": \"int32\",\n",
    "        \"anchor_year\": \"int32\",\n",
    "        \"anchor_year_group\": CATEGORY,\n",
    "        \"dod\": \"timestamp[s]\",\n",
    "    },\n",
    "    \"chartevents\": {\n",
    "        \"subject_id\": ID_TYPE,\n",
    "        \"hadm_id\": ID_TYPE,\n",
    "        \"stay_id\": ID_TYPE,\n",
    "        \"itemid\": ID_TYPE,\n",
    "        \"charttime\": \"timestamp[s]\",\n",
    "        \"storetime\": \"timestamp[s]\",\n",
    "        \"value\": CATEGORY,\n",
    "        \"valuenum\": \"float32\",\n",
    "        \"valueuom\": CATEGORY,\n",
    "        \"warning\": \"bool\",\n",
    "    },\n",
    "}\n",
    "\n",
    "\n",
    "null_values = [\n",
    "    \"-\",\n",
    "    \"-1.#IND\",\n",
    "    \"-1.#QNAN\",\n",
    "    \"-NaN\",\n",
    "    \"-nan\",\n",
    "    \"?\",\n",
    "    \"\",\n",
    "    \"#N/A N/A\",\n",
    "    \"#N/A\",\n",
    "    \"#NA\",\n",
    "    \"#na\",\n",
    "    \"<N/A>\",\n",
    "    \"<n/a>\",\n",
    "    \"<NA>\",\n",
    "    \"<na>\",\n",
    "    \"1.#IND\",\n",
    "    \"1.#QNAN\",\n",
    "    \"INFORMATION NOT AVAILABLE\",\n",
    "    \"N/A\",\n",
    "    \"n/a\",\n",
    "    \"NA\",\n",
    "    \"na\",\n",
    "    \"NAN\",\n",
    "    \"NaN\",\n",
    "    \"nan\",\n",
    "    \"NONE\",\n",
    "    \"None\",\n",
    "    \"none\",\n",
    "    \"NULL\",\n",
    "    \"NULL\",\n",
    "    \"Null\",\n",
    "    \"null\",\n",
    "    \"UNABLE TO OBTAIN\",\n",
    "    \"UNKNOWN\",\n",
    "    \"unknown\",\n",
    "]\n",
    "\n",
    "types_map = {\n",
    "    \"string\": pd.StringDtype(),\n",
    "    \"bool\": pd.BooleanDtype(),\n",
    "    \"int8\": pd.Int8Dtype(),\n",
    "    \"int16\": pd.Int16Dtype(),\n",
    "    \"int32\": pd.Int32Dtype(),\n",
    "    \"int64\": pd.Int64Dtype(),\n",
    "    \"uint8\": pd.UInt8Dtype(),\n",
    "    \"uint16\": pd.UInt16Dtype(),\n",
    "    \"uint32\": pd.UInt32Dtype(),\n",
    "    \"uint64\": pd.UInt64Dtype(),\n",
    "}"
   ]
  },
  {
   "cell_type": "markdown",
   "metadata": {},
   "source": [
    "## Load `admissions` table"
   ]
  },
  {
   "cell_type": "code",
   "execution_count": null,
   "metadata": {
    "execution": {
     "iopub.execute_input": "2022-09-13T21:09:25.666921Z",
     "iopub.status.busy": "2022-09-13T21:09:25.666816Z",
     "iopub.status.idle": "2022-09-13T21:09:25.910594Z",
     "shell.execute_reply": "2022-09-13T21:09:25.910216Z",
     "shell.execute_reply.started": "2022-09-13T21:09:25.666911Z"
    },
    "tags": []
   },
   "outputs": [],
   "source": [
    "key = \"admissions\"\n",
    "with (\n",
    "    ZipFile(rawdata_file) as archive,\n",
    "    archive.open(files[key]) as compressed_file,\n",
    "    gzip.open(compressed_file) as file,\n",
    "):\n",
    "    admissions = pyarrow.csv.read_csv(\n",
    "        file,\n",
    "        convert_options=pyarrow.csv.ConvertOptions(\n",
    "            column_types=column_types[key],\n",
    "            strings_can_be_null=True,\n",
    "            null_values=null_values,\n",
    "        ),\n",
    "    )\n",
    "\n",
    "admissions.shape, admissions.schema"
   ]
  },
  {
   "cell_type": "code",
   "execution_count": null,
   "metadata": {
    "execution": {
     "iopub.execute_input": "2022-09-13T21:09:25.911190Z",
     "iopub.status.busy": "2022-09-13T21:09:25.911079Z",
     "iopub.status.idle": "2022-09-13T21:09:26.204550Z",
     "shell.execute_reply": "2022-09-13T21:09:26.204153Z",
     "shell.execute_reply.started": "2022-09-13T21:09:25.911179Z"
    },
    "tags": []
   },
   "outputs": [],
   "source": [
    "pyarrow.parquet.write_table(admissions, rawdata_path / f\"{key}.parquet\")\n",
    "admissions = admissions.to_pandas(self_destruct=True, types_mapper=types_map.get)\n",
    "admissions"
   ]
  },
  {
   "cell_type": "markdown",
   "metadata": {
    "tags": []
   },
   "source": [
    "## Load `patients` table"
   ]
  },
  {
   "cell_type": "code",
   "execution_count": null,
   "metadata": {
    "execution": {
     "iopub.execute_input": "2022-09-13T21:09:26.205143Z",
     "iopub.status.busy": "2022-09-13T21:09:26.205033Z",
     "iopub.status.idle": "2022-09-13T21:09:26.260006Z",
     "shell.execute_reply": "2022-09-13T21:09:26.259649Z",
     "shell.execute_reply.started": "2022-09-13T21:09:26.205132Z"
    },
    "tags": []
   },
   "outputs": [],
   "source": [
    "key = \"patients\"\n",
    "with (\n",
    "    ZipFile(rawdata_file) as archive,\n",
    "    archive.open(files[key]) as compressed_file,\n",
    "    gzip.open(compressed_file) as file,\n",
    "):\n",
    "    patients = pyarrow.csv.read_csv(\n",
    "        file,\n",
    "        convert_options=pyarrow.csv.ConvertOptions(\n",
    "            column_types=column_types[key],\n",
    "            strings_can_be_null=True,\n",
    "            null_values=null_values,\n",
    "        ),\n",
    "    )\n",
    "patients.shape, patients.schema"
   ]
  },
  {
   "cell_type": "code",
   "execution_count": null,
   "metadata": {
    "execution": {
     "iopub.execute_input": "2022-09-13T21:09:26.260646Z",
     "iopub.status.busy": "2022-09-13T21:09:26.260519Z",
     "iopub.status.idle": "2022-09-13T21:09:26.319331Z",
     "shell.execute_reply": "2022-09-13T21:09:26.318966Z",
     "shell.execute_reply.started": "2022-09-13T21:09:26.260635Z"
    },
    "tags": []
   },
   "outputs": [],
   "source": [
    "pyarrow.parquet.write_table(patients, rawdata_path / f\"{key}.parquet\")\n",
    "patients = patients.to_pandas(self_destruct=True, types_mapper=types_map.get)\n",
    "patients"
   ]
  },
  {
   "cell_type": "markdown",
   "metadata": {},
   "source": [
    "## Load `chartevents` table"
   ]
  },
  {
   "cell_type": "code",
   "execution_count": null,
   "metadata": {
    "execution": {
     "iopub.execute_input": "2022-09-13T21:09:26.320674Z",
     "iopub.status.busy": "2022-09-13T21:09:26.320531Z",
     "iopub.status.idle": "2022-09-13T21:10:12.399872Z",
     "shell.execute_reply": "2022-09-13T21:10:12.399502Z",
     "shell.execute_reply.started": "2022-09-13T21:09:26.320663Z"
    },
    "tags": []
   },
   "outputs": [],
   "source": [
    "# shape: (330M, 10) ⇝ 3.3B values\n",
    "key = \"chartevents\"\n",
    "with (\n",
    "    ZipFile(rawdata_file) as archive,\n",
    "    archive.open(files[key]) as compressed_file,\n",
    "    gzip.open(compressed_file) as file,\n",
    "):\n",
    "    chartevents = pyarrow.csv.read_csv(\n",
    "        file,\n",
    "        convert_options=pyarrow.csv.ConvertOptions(\n",
    "            column_types=column_types[key],\n",
    "            strings_can_be_null=True,\n",
    "            null_values=null_values,\n",
    "        ),\n",
    "    )\n",
    "\n",
    "chartevents.shape, chartevents.schema"
   ]
  },
  {
   "cell_type": "code",
   "execution_count": null,
   "metadata": {
    "execution": {
     "iopub.execute_input": "2022-09-13T21:10:12.400477Z",
     "iopub.status.busy": "2022-09-13T21:10:12.400364Z",
     "iopub.status.idle": "2022-09-13T21:10:58.761115Z",
     "shell.execute_reply": "2022-09-13T21:10:58.760814Z",
     "shell.execute_reply.started": "2022-09-13T21:10:12.400466Z"
    },
    "tags": []
   },
   "outputs": [],
   "source": [
    "pyarrow.parquet.write_table(chartevents, rawdata_path / f\"{key}.parquet\")\n",
    "chartevents = chartevents.to_pandas(self_destruct=True, types_mapper=types_map.get)\n",
    "chartevents"
   ]
  },
  {
   "cell_type": "markdown",
   "metadata": {},
   "source": [
    "# Filter Dataset"
   ]
  },
  {
   "cell_type": "markdown",
   "metadata": {},
   "source": [
    "# Merge patients and admissions"
   ]
  },
  {
   "cell_type": "code",
   "execution_count": null,
   "metadata": {
    "execution": {
     "iopub.execute_input": "2022-09-13T21:10:58.761723Z",
     "iopub.status.busy": "2022-09-13T21:10:58.761541Z",
     "iopub.status.idle": "2022-09-13T21:10:58.967961Z",
     "shell.execute_reply": "2022-09-13T21:10:58.967613Z",
     "shell.execute_reply.started": "2022-09-13T21:10:58.761712Z"
    }
   },
   "outputs": [],
   "source": [
    "admissions = pd.merge(admissions, patients, on=\"subject_id\")"
   ]
  },
  {
   "cell_type": "markdown",
   "metadata": {},
   "source": [
    "## Only keep patients with single admission"
   ]
  },
  {
   "cell_type": "code",
   "execution_count": null,
   "metadata": {
    "execution": {
     "iopub.execute_input": "2022-09-13T21:10:58.968521Z",
     "iopub.status.busy": "2022-09-13T21:10:58.968412Z",
     "iopub.status.idle": "2022-09-13T21:10:59.256925Z",
     "shell.execute_reply": "2022-09-13T21:10:59.256603Z",
     "shell.execute_reply.started": "2022-09-13T21:10:58.968511Z"
    },
    "tags": []
   },
   "outputs": [],
   "source": [
    "single_admissions = admissions.groupby(\"subject_id\")[\"hadm_id\"].nunique() == 1\n",
    "selected_patients = single_admissions[single_admissions].index\n",
    "mask = admissions[\"subject_id\"].isin(selected_patients)\n",
    "admissions = admissions[mask].copy()\n",
    "print(f\"Removing {(~mask).sum()} patients with multiple admissions!\")\n",
    "print(f\"Number of patients   remaining: {admissions['subject_id'].nunique()}\")\n",
    "print(f\"Number of admissions remaining: {admissions['hadm_id'].nunique()}\")"
   ]
  },
  {
   "cell_type": "markdown",
   "metadata": {},
   "source": [
    "## Only keep admissions with single patient associated"
   ]
  },
  {
   "cell_type": "code",
   "execution_count": null,
   "metadata": {
    "execution": {
     "iopub.execute_input": "2022-09-13T21:10:59.257480Z",
     "iopub.status.busy": "2022-09-13T21:10:59.257371Z",
     "iopub.status.idle": "2022-09-13T21:10:59.406411Z",
     "shell.execute_reply": "2022-09-13T21:10:59.406098Z",
     "shell.execute_reply.started": "2022-09-13T21:10:59.257469Z"
    },
    "tags": []
   },
   "outputs": [],
   "source": [
    "single_admissions = admissions.groupby(\"hadm_id\")[\"subject_id\"].nunique() == 1\n",
    "selected_admissions = single_admissions[single_admissions].index\n",
    "mask = admissions[\"hadm_id\"].isin(selected_admissions)\n",
    "admissions = admissions[mask].copy()\n",
    "print(f\"Removing {(~mask).sum()} admissions with multiple patients!\")\n",
    "print(f\"Number of patients   remaining: {admissions['subject_id'].nunique()}\")\n",
    "print(f\"Number of admissions remaining: {admissions['hadm_id'].nunique()}\")"
   ]
  },
  {
   "cell_type": "markdown",
   "metadata": {},
   "source": [
    "## Only keep patients that stayed between 2 and 29 days"
   ]
  },
  {
   "cell_type": "code",
   "execution_count": null,
   "metadata": {
    "execution": {
     "iopub.execute_input": "2022-09-13T21:10:59.406960Z",
     "iopub.status.busy": "2022-09-13T21:10:59.406852Z",
     "iopub.status.idle": "2022-09-13T21:10:59.417176Z",
     "shell.execute_reply": "2022-09-13T21:10:59.416775Z",
     "shell.execute_reply.started": "2022-09-13T21:10:59.406950Z"
    },
    "tags": []
   },
   "outputs": [],
   "source": [
    "admissions[\"elapsed_time\"] = admissions[\"dischtime\"] - admissions[\"admittime\"]\n",
    "elapsed_days = admissions[\"elapsed_time\"].dt.days\n",
    "admissions = admissions[(elapsed_days > 2) & (elapsed_days < 30)].copy()\n",
    "print(f\"Number of patients remainin in the dataframe: {admissions.shape}\")"
   ]
  },
  {
   "cell_type": "markdown",
   "metadata": {},
   "source": [
    "## Only keep patients older than 15"
   ]
  },
  {
   "cell_type": "code",
   "execution_count": null,
   "metadata": {
    "execution": {
     "iopub.execute_input": "2022-09-13T21:10:59.418095Z",
     "iopub.status.busy": "2022-09-13T21:10:59.417782Z",
     "iopub.status.idle": "2022-09-13T21:10:59.423922Z",
     "shell.execute_reply": "2022-09-13T21:10:59.423498Z",
     "shell.execute_reply.started": "2022-09-13T21:10:59.418080Z"
    },
    "tags": []
   },
   "outputs": [],
   "source": [
    "admissions = admissions[admissions[\"anchor_age\"] > 15]\n",
    "print(f\"Number of patients remainin in the dataframe: {admissions.shape}\")"
   ]
  },
  {
   "cell_type": "markdown",
   "metadata": {},
   "source": [
    "## Only keep Patients that have time series data associated with them"
   ]
  },
  {
   "cell_type": "code",
   "execution_count": null,
   "metadata": {
    "execution": {
     "iopub.execute_input": "2022-09-13T21:10:59.424691Z",
     "iopub.status.busy": "2022-09-13T21:10:59.424528Z",
     "iopub.status.idle": "2022-09-13T21:11:10.931101Z",
     "shell.execute_reply": "2022-09-13T21:11:10.930663Z",
     "shell.execute_reply.started": "2022-09-13T21:10:59.424676Z"
    },
    "tags": []
   },
   "outputs": [],
   "source": [
    "admissions = admissions[admissions.hadm_id.isin(chartevents.hadm_id)]\n",
    "print(f\"Number of patients remainin in the dataframe: {admissions.shape}\")"
   ]
  },
  {
   "cell_type": "markdown",
   "metadata": {},
   "source": [
    "# Serialize Pre-processed DataFrame"
   ]
  },
  {
   "cell_type": "code",
   "execution_count": null,
   "metadata": {
    "execution": {
     "iopub.execute_input": "2022-09-13T21:11:10.931696Z",
     "iopub.status.busy": "2022-09-13T21:11:10.931586Z",
     "iopub.status.idle": "2022-09-13T21:11:10.956534Z",
     "shell.execute_reply": "2022-09-13T21:11:10.956162Z",
     "shell.execute_reply.started": "2022-09-13T21:11:10.931686Z"
    },
    "tags": []
   },
   "outputs": [],
   "source": [
    "# Clean categories\n",
    "def clean_categories(df):\n",
    "    for col in df:\n",
    "        if df[col].dtype == \"category\":\n",
    "            df[col] = df[col].cat.remove_unused_categories()\n",
    "    return df\n",
    "\n",
    "\n",
    "admissions = clean_categories(admissions)\n",
    "admissions.to_parquet(dataset_path / \"admissions_processed.parquet\")\n",
    "admissions.shape, admissions.dtypes"
   ]
  }
 ],
 "metadata": {
  "kernelspec": {
   "display_name": "Python 3 (ipykernel)",
   "language": "python",
   "name": "python3"
  },
  "language_info": {
   "codemirror_mode": {
    "name": "ipython",
    "version": 3
   },
   "file_extension": ".py",
   "mimetype": "text/x-python",
   "name": "python",
   "nbconvert_exporter": "python",
   "pygments_lexer": "ipython3",
   "version": "3.10.6"
  },
  "toc-autonumbering": false,
  "toc-showcode": false,
  "toc-showmarkdowntxt": false,
  "toc-showtags": false
 },
 "nbformat": 4,
 "nbformat_minor": 4
}
