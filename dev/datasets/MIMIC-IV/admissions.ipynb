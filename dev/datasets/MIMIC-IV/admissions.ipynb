{
 "cells": [
  {
   "cell_type": "markdown",
   "metadata": {},
   "source": [
    "# MIMIC 4 data - dataset construction admissions"
   ]
  },
  {
   "cell_type": "markdown",
   "metadata": {},
   "source": [
    "Code taken from GRU-ODE-Bayes preprocessing; simplified and adapted for MIMIC 4 1.0"
   ]
  },
  {
   "cell_type": "code",
   "execution_count": null,
   "metadata": {
    "execution": {
     "iopub.execute_input": "2022-09-12T09:03:17.053337Z",
     "iopub.status.busy": "2022-09-12T09:03:17.053012Z",
     "iopub.status.idle": "2022-09-12T09:03:17.939164Z",
     "shell.execute_reply": "2022-09-12T09:03:17.938684Z",
     "shell.execute_reply.started": "2022-09-12T09:03:17.053291Z"
    }
   },
   "outputs": [],
   "source": [
    "import gzip\n",
    "import os\n",
    "from datetime import datetime, timedelta\n",
    "from zipfile import ZipFile\n",
    "\n",
    "import matplotlib.pyplot as plt\n",
    "import numpy as np\n",
    "import pandas as pd"
   ]
  },
  {
   "cell_type": "code",
   "execution_count": null,
   "metadata": {
    "execution": {
     "iopub.execute_input": "2022-09-12T09:03:17.940161Z",
     "iopub.status.busy": "2022-09-12T09:03:17.939972Z",
     "iopub.status.idle": "2022-09-12T09:03:17.945610Z",
     "shell.execute_reply": "2022-09-12T09:03:17.944828Z",
     "shell.execute_reply.started": "2022-09-12T09:03:17.940149Z"
    }
   },
   "outputs": [],
   "source": [
    "dataset_file = \"mimic-iv-1.0.zip\"\n",
    "\n",
    "files = {\n",
    "    \"admissions\": \"mimic-iv-1.0/core/admissions.csv.gz\",\n",
    "    \"patients\": \"mimic-iv-1.0/core/patients.csv.gz\",\n",
    "    \"chartevents\": \"mimic-iv-1.0/icu/chartevents.csv.gz\",\n",
    "}\n",
    "\n",
    "dtypes = {\n",
    "    \"admissions\": {\n",
    "        \"subject_id\": \"int32\",\n",
    "        \"hadm_id\": \"int32\",\n",
    "        \"admittime\": \"datetime64\",\n",
    "        \"dischtime\": \"datetime64\",\n",
    "        \"deathtime\": \"datetime64\",\n",
    "        \"admission_type\": \"string\",\n",
    "        \"admission_location\": \"string\",\n",
    "        \"discharge_location\": \"string\",\n",
    "        \"insurance\": \"string\",\n",
    "        \"language\": \"string\",\n",
    "        \"marital_status\": \"string\",\n",
    "        \"ethnicity\": \"string\",\n",
    "        \"edregtime\": \"datetime64\",\n",
    "        \"edouttime\": \"datetime64\",\n",
    "        \"hospital_expire_flag\": \"bool\",\n",
    "    },\n",
    "    \"patients\": {\n",
    "        \"subject_id\": \"int32\",\n",
    "        \"gender\": \"string\",\n",
    "        \"anchor_age\": \"int32\",\n",
    "        \"anchor_year\": \"int32\",\n",
    "        \"anchor_year_group\": \"string\",\n",
    "        \"dod\": \"datetime64\",\n",
    "    },\n",
    "    \"chartevents\": {\n",
    "        \"subject_id\": \"int32\",\n",
    "        \"hadm_id\": \"int32\",\n",
    "        \"stay_id\": \"int32\",\n",
    "        \"itemid\": \"int32\",\n",
    "        \"charttime\": \"datetime64\",\n",
    "        \"storetime\": \"datetime64\",\n",
    "        \"value\": \"string[pyarrow]\",\n",
    "        \"valuenum\": \"float32\",\n",
    "        \"valueuom\": \"string[pyarrow]\",\n",
    "        \"warning\": \"bool\",\n",
    "    },\n",
    "}\n",
    "\n",
    "na_values = {\n",
    "    \"admissions\": {\n",
    "        \"subject_id\": [],\n",
    "        \"hadm_id\": [],\n",
    "        \"admittime\": [],\n",
    "        \"dischtime\": [],\n",
    "        \"deathtime\": [],\n",
    "        \"admission_type\": [],\n",
    "        \"admission_location\": [\"INFORMATION NOT AVAILABLE\"],\n",
    "        \"discharge_location\": [],\n",
    "        \"insurance\": [],\n",
    "        \"language\": [\"?\"],\n",
    "        \"marital_status\": [],\n",
    "        \"ethnicity\": [\"UNKNOWN\", \"UNABLE TO OBTAIN\"],\n",
    "        \"edregtime\": [],\n",
    "        \"edouttime\": [],\n",
    "        \"hospital_expire_flag\": [],\n",
    "    },\n",
    "    \"patients\": {\n",
    "        \"subject_id\": [],\n",
    "        \"gender\": [],\n",
    "        \"anchor_age\": [],\n",
    "        \"anchor_year\": [],\n",
    "        \"anchor_year_group\": [],\n",
    "        \"dod\": [],\n",
    "    },\n",
    "    \"chartevents\": {\n",
    "        \"subject_id\": [],\n",
    "        \"hadm_id\": [],\n",
    "        \"stay_id\": [],\n",
    "        \"itemid\": [],\n",
    "        \"charttime\": [],\n",
    "        \"storetime\": [],\n",
    "        \"value\": [\"\"],\n",
    "        \"valuenum\": [],\n",
    "        \"valueuom\": [\"\"],\n",
    "        \"warning\": [],\n",
    "    },\n",
    "}"
   ]
  },
  {
   "cell_type": "markdown",
   "metadata": {},
   "source": [
    "### Load Admissions and Patients tables"
   ]
  },
  {
   "cell_type": "code",
   "execution_count": null,
   "metadata": {
    "execution": {
     "iopub.execute_input": "2022-09-12T09:03:17.946710Z",
     "iopub.status.busy": "2022-09-12T09:03:17.946489Z",
     "iopub.status.idle": "2022-09-12T09:03:19.766439Z",
     "shell.execute_reply": "2022-09-12T09:03:19.766016Z",
     "shell.execute_reply.started": "2022-09-12T09:03:17.946696Z"
    }
   },
   "outputs": [],
   "source": [
    "with ZipFile(dataset_file) as archive:\n",
    "\n",
    "    key = \"admissions\"\n",
    "    with archive.open(files[key], \"r\") as file:\n",
    "        admissions = pd.read_csv(\n",
    "            file,\n",
    "            compression=\"gzip\",\n",
    "            parse_dates=[k for k, v in dtypes[key].items() if v == \"datetime64\"],\n",
    "            dtype={k: v for k, v in dtypes[key].items() if v != \"datetime64\"},\n",
    "            na_values=na_values[key],\n",
    "            index_col=\"subject_id\",\n",
    "        )\n",
    "\n",
    "    key = \"patients\"\n",
    "    with archive.open(files[key], \"r\") as file:\n",
    "        patients = pd.read_csv(\n",
    "            file,\n",
    "            compression=\"gzip\",\n",
    "            parse_dates=[k for k, v in dtypes[key].items() if v == \"datetime64\"],\n",
    "            dtype={k: v for k, v in dtypes[key].items() if v != \"datetime64\"},\n",
    "            na_values=na_values[key],\n",
    "            index_col=\"subject_id\",\n",
    "        )\n",
    "\n",
    "data = pd.merge(patients, admissions, on=\"subject_id\")\n",
    "data"
   ]
  },
  {
   "cell_type": "markdown",
   "metadata": {},
   "source": [
    "### Only keep patients with single admission"
   ]
  },
  {
   "cell_type": "code",
   "execution_count": null,
   "metadata": {
    "execution": {
     "iopub.execute_input": "2022-09-12T09:03:19.767140Z",
     "iopub.status.busy": "2022-09-12T09:03:19.766967Z",
     "iopub.status.idle": "2022-09-12T09:03:20.070241Z",
     "shell.execute_reply": "2022-09-12T09:03:20.069793Z",
     "shell.execute_reply.started": "2022-09-12T09:03:19.767127Z"
    }
   },
   "outputs": [],
   "source": [
    "num_admissions = data.groupby(\"subject_id\")[\"hadm_id\"].nunique()\n",
    "subject_ids = num_admissions[num_admissions == 1].index\n",
    "data = data.loc[subject_ids]\n",
    "print(f\"Number of patients remaining in the dataframe: {len(data)}\")"
   ]
  },
  {
   "cell_type": "markdown",
   "metadata": {},
   "source": [
    "### Only keep patients that stayed between 2 and 29 days"
   ]
  },
  {
   "cell_type": "code",
   "execution_count": null,
   "metadata": {
    "execution": {
     "iopub.execute_input": "2022-09-12T09:03:20.070899Z",
     "iopub.status.busy": "2022-09-12T09:03:20.070744Z",
     "iopub.status.idle": "2022-09-12T09:03:20.090133Z",
     "shell.execute_reply": "2022-09-12T09:03:20.089308Z",
     "shell.execute_reply.started": "2022-09-12T09:03:20.070888Z"
    }
   },
   "outputs": [],
   "source": [
    "data[\"elapsed_time\"] = data[\"dischtime\"] - data[\"admittime\"]\n",
    "data[\"elapsed_days\"] = data[\"elapsed_time\"].dt.days\n",
    "data = data.loc[(data[\"elapsed_days\"] > 2) & (data[\"elapsed_days\"] < 30)]\n",
    "print(f\"Number of patients remaining in the dataframe: {len(data)}\")"
   ]
  },
  {
   "cell_type": "markdown",
   "metadata": {},
   "source": [
    "### Only keep patients older than 15"
   ]
  },
  {
   "cell_type": "code",
   "execution_count": null,
   "metadata": {
    "execution": {
     "iopub.execute_input": "2022-09-12T09:03:20.090910Z",
     "iopub.status.busy": "2022-09-12T09:03:20.090751Z",
     "iopub.status.idle": "2022-09-12T09:03:20.101651Z",
     "shell.execute_reply": "2022-09-12T09:03:20.101012Z",
     "shell.execute_reply.started": "2022-09-12T09:03:20.090898Z"
    }
   },
   "outputs": [],
   "source": [
    "data = data[data[\"anchor_age\"] > 15]\n",
    "print(f\"Number of patients remaining in the dataframe: {len(data)}\")"
   ]
  },
  {
   "cell_type": "markdown",
   "metadata": {},
   "source": [
    "### Load Chartevents table"
   ]
  },
  {
   "cell_type": "code",
   "execution_count": null,
   "metadata": {
    "execution": {
     "iopub.execute_input": "2022-09-12T09:03:20.103989Z",
     "iopub.status.busy": "2022-09-12T09:03:20.103664Z",
     "iopub.status.idle": "2022-09-12T09:03:20.136095Z",
     "shell.execute_reply": "2022-09-12T09:03:20.135685Z",
     "shell.execute_reply.started": "2022-09-12T09:03:20.103965Z"
    }
   },
   "outputs": [],
   "source": [
    "import pyarrow as pa\n",
    "import pyarrow.csv\n",
    "import pyarrow.parquet\n",
    "\n",
    "convert_options = pyarrow.csv.ConvertOptions(\n",
    "    column_types={\n",
    "        \"subject_id\": \"int32\",\n",
    "        \"hadm_id\": \"int32\",\n",
    "        \"stay_id\": \"int32\",\n",
    "        \"itemid\": \"int32\",\n",
    "        \"charttime\": \"timestamp[s]\",\n",
    "        \"storetime\": \"timestamp[s]\",\n",
    "        \"value\": \"string\",\n",
    "        \"valuenum\": \"float32\",\n",
    "        \"valueuom\": \"string\",\n",
    "        \"warning\": \"bool\",\n",
    "    },\n",
    "    strings_can_be_null=True,\n",
    "    null_values=[\"\"],\n",
    ")"
   ]
  },
  {
   "cell_type": "code",
   "execution_count": null,
   "metadata": {
    "execution": {
     "iopub.execute_input": "2022-09-12T09:03:20.136782Z",
     "iopub.status.busy": "2022-09-12T09:03:20.136577Z",
     "iopub.status.idle": "2022-09-12T09:04:19.029083Z",
     "shell.execute_reply": "2022-09-12T09:04:19.028476Z",
     "shell.execute_reply.started": "2022-09-12T09:03:20.136772Z"
    },
    "tags": []
   },
   "outputs": [],
   "source": [
    "# shape: (330M, 10) ⇝ 3.3B values\n",
    "key = \"chartevents\"\n",
    "with (\n",
    "    ZipFile(dataset_file) as archive,\n",
    "    archive.open(files[key]) as compressed_file,\n",
    "    gzip.open(compressed_file) as file,\n",
    "):\n",
    "    chartevents = pyarrow.csv.read_csv(file, convert_options=convert_options)"
   ]
  },
  {
   "cell_type": "code",
   "execution_count": null,
   "metadata": {
    "execution": {
     "iopub.execute_input": "2022-09-12T09:04:19.029776Z",
     "iopub.status.busy": "2022-09-12T09:04:19.029604Z",
     "iopub.status.idle": "2022-09-12T09:04:54.815640Z",
     "shell.execute_reply": "2022-09-12T09:04:54.814760Z",
     "shell.execute_reply.started": "2022-09-12T09:04:19.029761Z"
    }
   },
   "outputs": [],
   "source": [
    "pyarrow.parquet.write_table(chartevents, \"chartevents.parquet\")\n",
    "del chartevents"
   ]
  },
  {
   "cell_type": "code",
   "execution_count": null,
   "metadata": {
    "execution": {
     "iopub.execute_input": "2022-09-12T09:04:54.816516Z",
     "iopub.status.busy": "2022-09-12T09:04:54.816353Z",
     "iopub.status.idle": "2022-09-12T09:05:18.471909Z",
     "shell.execute_reply": "2022-09-12T09:05:18.471344Z",
     "shell.execute_reply.started": "2022-09-12T09:04:54.816503Z"
    }
   },
   "outputs": [],
   "source": [
    "with pd.option_context(\"string_storage\", \"pyarrow\"):\n",
    "    chartevents = pd.read_parquet(\"chartevents.parquet\", use_nullable_dtypes=True)\n",
    "chartevents.dtypes"
   ]
  },
  {
   "cell_type": "markdown",
   "metadata": {},
   "source": [
    "### Only keep Patients that have time series data associated with them"
   ]
  },
  {
   "cell_type": "code",
   "execution_count": null,
   "metadata": {
    "execution": {
     "iopub.execute_input": "2022-09-12T09:05:18.472944Z",
     "iopub.status.busy": "2022-09-12T09:05:18.472709Z",
     "iopub.status.idle": "2022-09-12T09:05:31.800166Z",
     "shell.execute_reply": "2022-09-12T09:05:31.799502Z",
     "shell.execute_reply.started": "2022-09-12T09:05:18.472922Z"
    }
   },
   "outputs": [],
   "source": [
    "data = data[data.hadm_id.isin(chartevents.hadm_id)]\n",
    "print(f\"Number of patients remaining in the dataframe: {len(data)}\")"
   ]
  },
  {
   "cell_type": "markdown",
   "metadata": {},
   "source": [
    "## Store result"
   ]
  },
  {
   "cell_type": "code",
   "execution_count": null,
   "metadata": {
    "execution": {
     "iopub.execute_input": "2022-09-12T09:05:31.800936Z",
     "iopub.status.busy": "2022-09-12T09:05:31.800819Z",
     "iopub.status.idle": "2022-09-12T09:05:31.840259Z",
     "shell.execute_reply": "2022-09-12T09:05:31.839707Z",
     "shell.execute_reply.started": "2022-09-12T09:05:31.800925Z"
    },
    "tags": []
   },
   "outputs": [],
   "source": [
    "data.to_parquet(\"admissions_processed.parquet\")"
   ]
  }
 ],
 "metadata": {
  "kernelspec": {
   "display_name": "Python 3 (ipykernel)",
   "language": "python",
   "name": "python3"
  },
  "language_info": {
   "codemirror_mode": {
    "name": "ipython",
    "version": 3
   },
   "file_extension": ".py",
   "mimetype": "text/x-python",
   "name": "python",
   "nbconvert_exporter": "python",
   "pygments_lexer": "ipython3",
   "version": "3.10.6"
  },
  "toc-autonumbering": false,
  "toc-showcode": false,
  "toc-showmarkdowntxt": false,
  "toc-showtags": false
 },
 "nbformat": 4,
 "nbformat_minor": 4
}
