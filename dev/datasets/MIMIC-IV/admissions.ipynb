{
 "cells": [
  {
   "cell_type": "markdown",
   "metadata": {},
   "source": [
    "# MIMIC 4 data - dataset construction admissions"
   ]
  },
  {
   "cell_type": "markdown",
   "metadata": {},
   "source": [
    "Code taken from GRU-ODE-Bayes preprocessing; simplified and adapted for MIMIC 4 1.0"
   ]
  },
  {
   "cell_type": "code",
   "execution_count": null,
   "metadata": {
    "execution": {
     "iopub.execute_input": "2022-09-12T17:52:07.291906Z",
     "iopub.status.busy": "2022-09-12T17:52:07.291733Z",
     "iopub.status.idle": "2022-09-12T17:52:07.593139Z",
     "shell.execute_reply": "2022-09-12T17:52:07.592713Z",
     "shell.execute_reply.started": "2022-09-12T17:52:07.291870Z"
    },
    "tags": []
   },
   "outputs": [],
   "source": [
    "import gzip\n",
    "from pathlib import Path\n",
    "from zipfile import ZipFile\n",
    "\n",
    "import pandas as pd\n",
    "import pyarrow as pa\n",
    "import pyarrow.csv\n",
    "import pyarrow.parquet"
   ]
  },
  {
   "cell_type": "markdown",
   "metadata": {
    "tags": []
   },
   "source": [
    "# Load `admissions` table"
   ]
  },
  {
   "cell_type": "markdown",
   "metadata": {},
   "source": [
    "## Table Schema"
   ]
  },
  {
   "cell_type": "code",
   "execution_count": null,
   "metadata": {
    "execution": {
     "iopub.execute_input": "2022-09-12T17:52:07.594157Z",
     "iopub.status.busy": "2022-09-12T17:52:07.593916Z",
     "iopub.status.idle": "2022-09-12T17:52:07.600076Z",
     "shell.execute_reply": "2022-09-12T17:52:07.599717Z",
     "shell.execute_reply.started": "2022-09-12T17:52:07.594145Z"
    },
    "tags": []
   },
   "outputs": [],
   "source": [
    "rawdata_file = Path.cwd() / \"mimic-iv-1.0.zip\"\n",
    "dataset_path = Path.cwd() / \"processed\"\n",
    "rawdata_path = Path.cwd() / \"raw\"\n",
    "\n",
    "files = {\n",
    "    \"admissions\": \"mimic-iv-1.0/core/admissions.csv.gz\",\n",
    "    \"patients\": \"mimic-iv-1.0/core/patients.csv.gz\",\n",
    "    \"chartevents\": \"mimic-iv-1.0/icu/chartevents.csv.gz\",\n",
    "}\n",
    "\n",
    "CATEGORY = pyarrow.dictionary(\"int32\", \"string\")\n",
    "\n",
    "column_types = {\n",
    "    \"chartevents\": {\n",
    "        \"subject_id\": \"int32\",\n",
    "        \"hadm_id\": \"int32\",\n",
    "        \"stay_id\": \"int32\",\n",
    "        \"itemid\": \"int32\",\n",
    "        \"charttime\": \"timestamp[s]\",\n",
    "        \"storetime\": \"timestamp[s]\",\n",
    "        \"value\": CATEGORY,\n",
    "        \"valuenum\": \"float32\",\n",
    "        \"valueuom\": CATEGORY,\n",
    "        \"warning\": \"bool\",\n",
    "    }\n",
    "}\n",
    "\n",
    "\n",
    "dtypes = {\n",
    "    \"admissions\": {\n",
    "        \"subject_id\": \"int32\",\n",
    "        \"hadm_id\": \"int32\",\n",
    "        \"admittime\": \"datetime64\",\n",
    "        \"dischtime\": \"datetime64\",\n",
    "        \"deathtime\": \"datetime64\",\n",
    "        \"admission_type\": \"string\",\n",
    "        \"admission_location\": \"string\",\n",
    "        \"discharge_location\": \"string\",\n",
    "        \"insurance\": \"string\",\n",
    "        \"language\": \"string\",\n",
    "        \"marital_status\": \"string\",\n",
    "        \"ethnicity\": \"string\",\n",
    "        \"edregtime\": \"datetime64\",\n",
    "        \"edouttime\": \"datetime64\",\n",
    "        \"hospital_expire_flag\": \"bool\",\n",
    "    },\n",
    "    \"patients\": {\n",
    "        \"subject_id\": \"int32\",\n",
    "        \"gender\": \"string\",\n",
    "        \"anchor_age\": \"int32\",\n",
    "        \"anchor_year\": \"int32\",\n",
    "        \"anchor_year_group\": \"string\",\n",
    "        \"dod\": \"datetime64\",\n",
    "    },\n",
    "}\n",
    "\n",
    "na_values = {\n",
    "    \"admissions\": {\n",
    "        \"subject_id\": [],\n",
    "        \"hadm_id\": [],\n",
    "        \"admittime\": [],\n",
    "        \"dischtime\": [],\n",
    "        \"deathtime\": [],\n",
    "        \"admission_type\": [],\n",
    "        \"admission_location\": [\"INFORMATION NOT AVAILABLE\"],\n",
    "        \"discharge_location\": [],\n",
    "        \"insurance\": [],\n",
    "        \"language\": [\"?\"],\n",
    "        \"marital_status\": [],\n",
    "        \"ethnicity\": [\"UNKNOWN\", \"UNABLE TO OBTAIN\"],\n",
    "        \"edregtime\": [],\n",
    "        \"edouttime\": [],\n",
    "        \"hospital_expire_flag\": [],\n",
    "    },\n",
    "    \"patients\": {\n",
    "        \"subject_id\": [],\n",
    "        \"gender\": [],\n",
    "        \"anchor_age\": [],\n",
    "        \"anchor_year\": [],\n",
    "        \"anchor_year_group\": [],\n",
    "        \"dod\": [],\n",
    "    },\n",
    "}"
   ]
  },
  {
   "cell_type": "markdown",
   "metadata": {},
   "source": [
    "## Load `admissions` and `patients` tables"
   ]
  },
  {
   "cell_type": "code",
   "execution_count": null,
   "metadata": {
    "execution": {
     "iopub.execute_input": "2022-09-12T17:52:07.600699Z",
     "iopub.status.busy": "2022-09-12T17:52:07.600533Z",
     "iopub.status.idle": "2022-09-12T17:52:09.878828Z",
     "shell.execute_reply": "2022-09-12T17:52:09.878371Z",
     "shell.execute_reply.started": "2022-09-12T17:52:07.600687Z"
    },
    "tags": []
   },
   "outputs": [],
   "source": [
    "with ZipFile(rawdata_file) as archive:\n",
    "    key = \"admissions\"\n",
    "    with archive.open(files[key], \"r\") as file:\n",
    "        admissions = pd.read_csv(\n",
    "            file,\n",
    "            compression=\"gzip\",\n",
    "            parse_dates=[k for k, v in dtypes[key].items() if v == \"datetime64\"],\n",
    "            dtype={k: v for k, v in dtypes[key].items() if v != \"datetime64\"},\n",
    "            na_values=na_values[key],\n",
    "        )\n",
    "    admissions.to_parquet(rawdata_path / f\"{key}.parquet\")\n",
    "\n",
    "    key = \"patients\"\n",
    "    with archive.open(files[key], \"r\") as file:\n",
    "        patients = pd.read_csv(\n",
    "            file,\n",
    "            compression=\"gzip\",\n",
    "            parse_dates=[k for k, v in dtypes[key].items() if v == \"datetime64\"],\n",
    "            dtype={k: v for k, v in dtypes[key].items() if v != \"datetime64\"},\n",
    "            na_values=na_values[key],\n",
    "        )\n",
    "    patients.to_parquet(rawdata_path / f\"{key}.parquet\")\n",
    "\n",
    "\n",
    "admissions = pd.merge(admissions, patients, on=\"subject_id\")\n",
    "admissions"
   ]
  },
  {
   "cell_type": "markdown",
   "metadata": {},
   "source": [
    "## Load `chartevents` table"
   ]
  },
  {
   "cell_type": "code",
   "execution_count": null,
   "metadata": {
    "execution": {
     "iopub.execute_input": "2022-09-12T17:52:09.879453Z",
     "iopub.status.busy": "2022-09-12T17:52:09.879341Z",
     "iopub.status.idle": "2022-09-12T17:53:31.300138Z",
     "shell.execute_reply": "2022-09-12T17:53:31.299533Z",
     "shell.execute_reply.started": "2022-09-12T17:52:09.879443Z"
    },
    "tags": []
   },
   "outputs": [],
   "source": [
    "# shape: (330M, 10) ⇝ 3.3B values\n",
    "key = \"chartevents\"\n",
    "with (\n",
    "    ZipFile(rawdata_file) as archive,\n",
    "    archive.open(files[key]) as compressed_file,\n",
    "    gzip.open(compressed_file) as file,\n",
    "):\n",
    "    chartevents = pyarrow.csv.read_csv(\n",
    "        file,\n",
    "        convert_options=pyarrow.csv.ConvertOptions(\n",
    "            column_types=column_types[key],\n",
    "            strings_can_be_null=True,\n",
    "            null_values=[\"\"],\n",
    "        ),\n",
    "    )\n",
    "\n",
    "chartevents.schema"
   ]
  },
  {
   "cell_type": "code",
   "execution_count": null,
   "metadata": {
    "execution": {
     "iopub.execute_input": "2022-09-12T17:53:31.301713Z",
     "iopub.status.busy": "2022-09-12T17:53:31.301528Z",
     "iopub.status.idle": "2022-09-12T17:54:27.362629Z",
     "shell.execute_reply": "2022-09-12T17:54:27.361796Z",
     "shell.execute_reply.started": "2022-09-12T17:53:31.301699Z"
    },
    "tags": []
   },
   "outputs": [],
   "source": [
    "pyarrow.parquet.write_table(chartevents, rawdata_path / f\"{key}.parquet\")\n",
    "chartevents = chartevents.to_pandas(self_destruct=True)\n",
    "chartevents"
   ]
  },
  {
   "cell_type": "markdown",
   "metadata": {},
   "source": [
    "# Filter Dataset"
   ]
  },
  {
   "cell_type": "markdown",
   "metadata": {},
   "source": [
    "## Only keep patients with single admission"
   ]
  },
  {
   "cell_type": "code",
   "execution_count": null,
   "metadata": {
    "execution": {
     "iopub.execute_input": "2022-09-12T17:54:27.364091Z",
     "iopub.status.busy": "2022-09-12T17:54:27.363854Z",
     "iopub.status.idle": "2022-09-12T17:54:27.644711Z",
     "shell.execute_reply": "2022-09-12T17:54:27.643987Z",
     "shell.execute_reply.started": "2022-09-12T17:54:27.364072Z"
    },
    "tags": []
   },
   "outputs": [],
   "source": [
    "num_admissions = admissions.groupby(\"subject_id\")[\"hadm_id\"].nunique()\n",
    "selected_subjects = num_admissions[num_admissions == 1].index\n",
    "mask = admissions[\"subject_id\"].isin(selected_subjects)\n",
    "admissions = admissions[mask].copy()\n",
    "print(f\"Number of patients remainin in the dataframe: {admissions.shape}\")"
   ]
  },
  {
   "cell_type": "markdown",
   "metadata": {},
   "source": [
    "## Only keep patients that stayed between 2 and 29 days"
   ]
  },
  {
   "cell_type": "code",
   "execution_count": null,
   "metadata": {
    "execution": {
     "iopub.execute_input": "2022-09-12T17:54:27.645673Z",
     "iopub.status.busy": "2022-09-12T17:54:27.645483Z",
     "iopub.status.idle": "2022-09-12T17:54:27.681045Z",
     "shell.execute_reply": "2022-09-12T17:54:27.680243Z",
     "shell.execute_reply.started": "2022-09-12T17:54:27.645656Z"
    },
    "tags": []
   },
   "outputs": [],
   "source": [
    "admissions[\"elapsed_time\"] = admissions[\"dischtime\"] - admissions[\"admittime\"]\n",
    "admissions[\"elapsed_days\"] = admissions[\"elapsed_time\"].dt.days\n",
    "mask = (admissions[\"elapsed_days\"] > 2) & (admissions[\"elapsed_days\"] < 30)\n",
    "admissions = admissions[mask].copy()\n",
    "print(f\"Number of patients remainin in the dataframe: {admissions.shape}\")"
   ]
  },
  {
   "cell_type": "markdown",
   "metadata": {},
   "source": [
    "## Only keep patients older than 15"
   ]
  },
  {
   "cell_type": "code",
   "execution_count": null,
   "metadata": {
    "execution": {
     "iopub.execute_input": "2022-09-12T17:54:27.682167Z",
     "iopub.status.busy": "2022-09-12T17:54:27.681947Z",
     "iopub.status.idle": "2022-09-12T17:54:27.695864Z",
     "shell.execute_reply": "2022-09-12T17:54:27.695084Z",
     "shell.execute_reply.started": "2022-09-12T17:54:27.682143Z"
    },
    "tags": []
   },
   "outputs": [],
   "source": [
    "admissions = admissions[admissions[\"anchor_age\"] > 15]\n",
    "print(f\"Number of patients remainin in the dataframe: {admissions.shape}\")"
   ]
  },
  {
   "cell_type": "markdown",
   "metadata": {},
   "source": [
    "## Only keep Patients that have time series data associated with them"
   ]
  },
  {
   "cell_type": "code",
   "execution_count": null,
   "metadata": {
    "execution": {
     "iopub.execute_input": "2022-09-12T17:54:27.696875Z",
     "iopub.status.busy": "2022-09-12T17:54:27.696691Z",
     "iopub.status.idle": "2022-09-12T17:54:29.509647Z",
     "shell.execute_reply": "2022-09-12T17:54:29.509009Z",
     "shell.execute_reply.started": "2022-09-12T17:54:27.696859Z"
    },
    "tags": []
   },
   "outputs": [],
   "source": [
    "admissions = admissions[admissions.hadm_id.isin(chartevents.hadm_id)]\n",
    "print(f\"Number of patients remainin in the dataframe: {admissions.shape}\")"
   ]
  },
  {
   "cell_type": "markdown",
   "metadata": {},
   "source": [
    "# Serialize Pre-processed DataFrame"
   ]
  },
  {
   "cell_type": "code",
   "execution_count": null,
   "metadata": {
    "execution": {
     "iopub.execute_input": "2022-09-12T17:54:29.510769Z",
     "iopub.status.busy": "2022-09-12T17:54:29.510541Z",
     "iopub.status.idle": "2022-09-12T17:54:29.575584Z",
     "shell.execute_reply": "2022-09-12T17:54:29.574773Z",
     "shell.execute_reply.started": "2022-09-12T17:54:29.510752Z"
    },
    "tags": []
   },
   "outputs": [],
   "source": [
    "# Clean categories\n",
    "def clean_categories(df):\n",
    "    for col in df:\n",
    "        if df[col].dtype == \"category\":\n",
    "            df[col] = df[col].cat.remove_unused_categories()\n",
    "    return df\n",
    "\n",
    "\n",
    "admissions = clean_categories(admissions)\n",
    "admissions.to_parquet(dataset_path / \"admissions_processed.parquet\")"
   ]
  }
 ],
 "metadata": {
  "kernelspec": {
   "display_name": "Python 3 (ipykernel)",
   "language": "python",
   "name": "python3"
  },
  "language_info": {
   "codemirror_mode": {
    "name": "ipython",
    "version": 3
   },
   "file_extension": ".py",
   "mimetype": "text/x-python",
   "name": "python",
   "nbconvert_exporter": "python",
   "pygments_lexer": "ipython3",
   "version": "3.10.6"
  },
  "toc-autonumbering": false,
  "toc-showcode": false,
  "toc-showmarkdowntxt": false,
  "toc-showtags": false
 },
 "nbformat": 4,
 "nbformat_minor": 4
}
