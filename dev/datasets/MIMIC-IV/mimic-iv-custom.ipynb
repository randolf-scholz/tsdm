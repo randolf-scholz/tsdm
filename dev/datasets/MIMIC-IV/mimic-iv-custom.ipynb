{
 "cells": [
  {
   "cell_type": "code",
   "execution_count": null,
   "metadata": {
    "execution": {
     "iopub.execute_input": "2023-03-22T10:27:16.005427Z",
     "iopub.status.busy": "2023-03-22T10:27:16.004651Z",
     "iopub.status.idle": "2023-03-22T10:27:16.038090Z",
     "shell.execute_reply": "2023-03-22T10:27:16.037448Z",
     "shell.execute_reply.started": "2023-03-22T10:27:16.005391Z"
    },
    "pycharm": {
     "name": "#%%\n"
    },
    "tags": []
   },
   "outputs": [],
   "source": [
    "%config InteractiveShell.ast_node_interactivity='last_expr_or_assign'  # always print last expr.\n",
    "%config InlineBackend.figure_format = 'svg'\n",
    "%load_ext autoreload\n",
    "%autoreload 2\n",
    "%matplotlib inline\n",
    "\n",
    "import gzip\n",
    "from pathlib import Path\n",
    "from zipfile import ZipFile\n",
    "\n",
    "import pyarrow\n",
    "from pandas import DataFrame\n",
    "import pandas as pd\n",
    "from tqdm.autonotebook import tqdm\n",
    "\n",
    "from tsdm.datasets import MIMIC_IV"
   ]
  },
  {
   "cell_type": "code",
   "execution_count": null,
   "metadata": {
    "execution": {
     "iopub.execute_input": "2023-03-22T10:27:16.199263Z",
     "iopub.status.busy": "2023-03-22T10:27:16.198309Z",
     "iopub.status.idle": "2023-03-22T10:27:16.230509Z",
     "shell.execute_reply": "2023-03-22T10:27:16.229986Z",
     "shell.execute_reply.started": "2023-03-22T10:27:16.199230Z"
    },
    "tags": []
   },
   "outputs": [],
   "source": [
    "ds = MIMIC_IV(initialize=False)\n",
    "ds.rawdata_paths"
   ]
  },
  {
   "cell_type": "code",
   "execution_count": null,
   "metadata": {
    "execution": {
     "iopub.execute_input": "2023-03-22T10:27:16.339569Z",
     "iopub.status.busy": "2023-03-22T10:27:16.339236Z",
     "iopub.status.idle": "2023-03-22T10:27:16.365437Z",
     "shell.execute_reply": "2023-03-22T10:27:16.364973Z",
     "shell.execute_reply.started": "2023-03-22T10:27:16.339529Z"
    },
    "tags": []
   },
   "outputs": [],
   "source": [
    "filelist = [\n",
    "    \"mimic-iv-1.0/LICENSE.txt\",\n",
    "    \"mimic-iv-1.0/SHA256SUMS.txt\",\n",
    "    \"mimic-iv-1.0/core/admissions.csv.gz\",\n",
    "    \"mimic-iv-1.0/core/patients.csv.gz\",\n",
    "    \"mimic-iv-1.0/core/transfers.csv.gz\",\n",
    "    \"mimic-iv-1.0/hosp/d_hcpcs.csv.gz\",\n",
    "    \"mimic-iv-1.0/hosp/d_icd_diagnoses.csv.gz\",\n",
    "    \"mimic-iv-1.0/hosp/d_icd_procedures.csv.gz\",\n",
    "    \"mimic-iv-1.0/hosp/d_labitems.csv.gz\",\n",
    "    \"mimic-iv-1.0/hosp/diagnoses_icd.csv.gz\",\n",
    "    \"mimic-iv-1.0/hosp/drgcodes.csv.gz\",\n",
    "    \"mimic-iv-1.0/hosp/emar.csv.gz\",\n",
    "    \"mimic-iv-1.0/hosp/emar_detail.csv.gz\",\n",
    "    \"mimic-iv-1.0/hosp/hcpcsevents.csv.gz\",\n",
    "    \"mimic-iv-1.0/hosp/labevents.csv.gz\",\n",
    "    \"mimic-iv-1.0/hosp/microbiologyevents.csv.gz\",\n",
    "    \"mimic-iv-1.0/hosp/pharmacy.csv.gz\",\n",
    "    \"mimic-iv-1.0/hosp/poe.csv.gz\",\n",
    "    \"mimic-iv-1.0/hosp/poe_detail.csv.gz\",\n",
    "    \"mimic-iv-1.0/hosp/prescriptions.csv.gz\",\n",
    "    \"mimic-iv-1.0/hosp/procedures_icd.csv.gz\",\n",
    "    \"mimic-iv-1.0/hosp/services.csv.gz\",\n",
    "    \"mimic-iv-1.0/icu/chartevents.csv.gz\",\n",
    "    \"mimic-iv-1.0/icu/d_items.csv.gz\",\n",
    "    \"mimic-iv-1.0/icu/datetimeevents.csv.gz\",\n",
    "    \"mimic-iv-1.0/icu/icustays.csv.gz\",\n",
    "    \"mimic-iv-1.0/icu/inputevents.csv.gz\",\n",
    "    \"mimic-iv-1.0/icu/outputevents.csv.gz\",\n",
    "    \"mimic-iv-1.0/icu/procedureevents.csv.gz\",\n",
    "]"
   ]
  },
  {
   "cell_type": "code",
   "execution_count": null,
   "metadata": {
    "execution": {
     "iopub.execute_input": "2023-03-22T10:27:16.478218Z",
     "iopub.status.busy": "2023-03-22T10:27:16.477854Z",
     "iopub.status.idle": "2023-03-22T10:27:16.537453Z",
     "shell.execute_reply": "2023-03-22T10:27:16.537073Z",
     "shell.execute_reply.started": "2023-03-22T10:27:16.478187Z"
    },
    "tags": []
   },
   "outputs": [],
   "source": [
    "with ZipFile(ds.rawdata_paths, \"r\") as file:\n",
    "    if not file.namelist() == filelist:\n",
    "        raise ValueError(\"The dataset contains unknown files!\")\n",
    "    print(dir(file))\n",
    "\n",
    "    filesizes = {info.filename: info.file_size for info in file.infolist()}\n",
    "    # print(file.infolist())"
   ]
  },
  {
   "cell_type": "code",
   "execution_count": null,
   "metadata": {
    "execution": {
     "iopub.execute_input": "2023-03-22T10:27:16.816455Z",
     "iopub.status.busy": "2023-03-22T10:27:16.815458Z",
     "iopub.status.idle": "2023-03-22T10:27:16.839439Z",
     "shell.execute_reply": "2023-03-22T10:27:16.838740Z",
     "shell.execute_reply.started": "2023-03-22T10:27:16.816395Z"
    },
    "tags": []
   },
   "outputs": [],
   "source": [
    "{key: filesizes[key] for key in sorted(filesizes, key=filesizes.get)}"
   ]
  },
  {
   "cell_type": "code",
   "execution_count": null,
   "metadata": {
    "execution": {
     "iopub.execute_input": "2023-03-22T10:27:28.884822Z",
     "iopub.status.busy": "2023-03-22T10:27:28.884484Z",
     "iopub.status.idle": "2023-03-22T10:27:28.913827Z",
     "shell.execute_reply": "2023-03-22T10:27:28.913437Z",
     "shell.execute_reply.started": "2023-03-22T10:27:28.884799Z"
    },
    "tags": []
   },
   "outputs": [],
   "source": [
    "df = get_table(\"mimic-iv-1.0/icu/chartevents.csv.gz\")"
   ]
  },
  {
   "cell_type": "code",
   "execution_count": null,
   "metadata": {
    "execution": {
     "iopub.execute_input": "2023-03-22T10:27:32.876266Z",
     "iopub.status.busy": "2023-03-22T10:27:32.875413Z",
     "iopub.status.idle": "2023-03-22T10:27:32.900684Z",
     "shell.execute_reply": "2023-03-22T10:27:32.900227Z",
     "shell.execute_reply.started": "2023-03-22T10:27:32.876219Z"
    }
   },
   "outputs": [],
   "source": [
    "df.dtypes"
   ]
  },
  {
   "cell_type": "code",
   "execution_count": null,
   "metadata": {
    "execution": {
     "iopub.execute_input": "2023-03-22T10:27:19.982498Z",
     "iopub.status.busy": "2023-03-22T10:27:19.982334Z",
     "iopub.status.idle": "2023-03-22T10:27:20.004154Z",
     "shell.execute_reply": "2023-03-22T10:27:20.003710Z",
     "shell.execute_reply.started": "2023-03-22T10:27:19.982487Z"
    },
    "tags": []
   },
   "outputs": [],
   "source": [
    "with ZipFile(ds.rawdata_paths, \"r\") as file:\n",
    "    if not file.namelist() == filelist:\n",
    "        raise ValueError(\"The dataset contains unknown files!\")\n",
    "\n",
    "\n",
    "def load_gz_table(archive, fname):\n",
    "    with archive.open(str(fname), \"r\") as compressed_file:\n",
    "        with gzip.open(compressed_file, \"r\") as file:\n",
    "            table = pd.read_csv(file, nrows=1000)\n",
    "            return table\n",
    "            table = pyarrow.csv.read_csv(file)\n",
    "            return table\n",
    "\n",
    "\n",
    "def load_txt(archive, fname):\n",
    "    with archive.open(str(fname), \"r\") as file:\n",
    "        return str(file.read(), encoding=\"utf8\")\n",
    "\n",
    "\n",
    "def get_table(fname) -> DataFrame:\n",
    "    fname = Path(fname)\n",
    "    with ZipFile(ds.rawdata_paths, \"r\") as archive:\n",
    "        match fname.suffix:\n",
    "            case \".gz\":\n",
    "                return load_gz_table(archive, fname)\n",
    "            case \".txt\":\n",
    "                return load_txt(archive, fname)\n",
    "            case _:\n",
    "                raise ValueError"
   ]
  },
  {
   "cell_type": "code",
   "execution_count": null,
   "metadata": {
    "execution": {
     "iopub.execute_input": "2023-03-22T10:12:59.552304Z",
     "iopub.status.busy": "2023-03-22T10:12:59.551985Z",
     "iopub.status.idle": "2023-03-22T10:12:59.572647Z",
     "shell.execute_reply": "2023-03-22T10:12:59.572205Z",
     "shell.execute_reply.started": "2023-03-22T10:12:59.552284Z"
    },
    "tags": []
   },
   "outputs": [],
   "source": [
    "ds.rawdata_paths / \"mimic-iv-1.0/icu/procedureevents.csv.gz\""
   ]
  },
  {
   "cell_type": "code",
   "execution_count": null,
   "metadata": {},
   "outputs": [],
   "source": [
    "get_table(name)"
   ]
  },
  {
   "cell_type": "code",
   "execution_count": null,
   "metadata": {
    "execution": {
     "iopub.execute_input": "2023-03-22T10:12:27.755969Z",
     "iopub.status.busy": "2023-03-22T10:12:27.755804Z",
     "iopub.status.idle": "2023-03-22T10:12:28.003847Z",
     "shell.execute_reply": "2023-03-22T10:12:28.003122Z",
     "shell.execute_reply.started": "2023-03-22T10:12:27.755958Z"
    },
    "tags": []
   },
   "outputs": [],
   "source": [
    "tables = {Path(name).stem: get_table(name) for name in tqdm(filelist)}"
   ]
  },
  {
   "cell_type": "code",
   "execution_count": null,
   "metadata": {},
   "outputs": [],
   "source": []
  },
  {
   "cell_type": "code",
   "execution_count": null,
   "metadata": {},
   "outputs": [],
   "source": []
  },
  {
   "cell_type": "code",
   "execution_count": null,
   "metadata": {
    "execution": {
     "iopub.execute_input": "2023-03-22T10:04:52.281464Z",
     "iopub.status.busy": "2023-03-22T10:04:52.281029Z",
     "iopub.status.idle": "2023-03-22T10:04:52.443596Z",
     "shell.execute_reply": "2023-03-22T10:04:52.443212Z",
     "shell.execute_reply.started": "2023-03-22T10:04:52.281450Z"
    },
    "tags": []
   },
   "outputs": [],
   "source": [
    "table = get_table(\"mimic-iv-1.0/hosp/procedures_icd.csv.gz\")"
   ]
  },
  {
   "cell_type": "code",
   "execution_count": null,
   "metadata": {},
   "outputs": [],
   "source": []
  },
  {
   "cell_type": "code",
   "execution_count": null,
   "metadata": {},
   "outputs": [],
   "source": []
  }
 ],
 "metadata": {
  "kernelspec": {
   "display_name": "Python 3 (ipykernel)",
   "language": "python",
   "name": "python3"
  },
  "language_info": {
   "codemirror_mode": {
    "name": "ipython",
    "version": 3
   },
   "file_extension": ".py",
   "mimetype": "text/x-python",
   "name": "python",
   "nbconvert_exporter": "python",
   "pygments_lexer": "ipython3",
   "version": "3.10.9"
  }
 },
 "nbformat": 4,
 "nbformat_minor": 4
}
