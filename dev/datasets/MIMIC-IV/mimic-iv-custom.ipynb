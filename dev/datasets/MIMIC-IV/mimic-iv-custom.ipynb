{
 "cells": [
  {
   "cell_type": "code",
   "execution_count": null,
   "metadata": {
    "execution": {
     "iopub.execute_input": "2023-03-22T18:20:37.141760Z",
     "iopub.status.busy": "2023-03-22T18:20:37.141670Z",
     "iopub.status.idle": "2023-03-22T18:20:38.903177Z",
     "shell.execute_reply": "2023-03-22T18:20:38.902471Z",
     "shell.execute_reply.started": "2023-03-22T18:20:37.141749Z"
    },
    "pycharm": {
     "name": "#%%\n"
    },
    "tags": []
   },
   "outputs": [],
   "source": [
    "%config InteractiveShell.ast_node_interactivity='last_expr_or_assign'  # always print last expr.\n",
    "%config InlineBackend.figure_format = 'svg'\n",
    "%load_ext autoreload\n",
    "%autoreload 2\n",
    "%matplotlib inline\n",
    "\n",
    "import gzip\n",
    "from pathlib import Path\n",
    "from zipfile import ZipFile\n",
    "\n",
    "import pandas as pd\n",
    "import pyarrow\n",
    "from pandas import DataFrame\n",
    "from tqdm.autonotebook import tqdm\n",
    "\n",
    "from tsdm.datasets import MIMIC_IV"
   ]
  },
  {
   "cell_type": "code",
   "execution_count": null,
   "metadata": {
    "execution": {
     "iopub.execute_input": "2023-03-22T18:20:38.904405Z",
     "iopub.status.busy": "2023-03-22T18:20:38.904165Z",
     "iopub.status.idle": "2023-03-22T18:20:38.926807Z",
     "shell.execute_reply": "2023-03-22T18:20:38.926163Z",
     "shell.execute_reply.started": "2023-03-22T18:20:38.904391Z"
    },
    "tags": []
   },
   "outputs": [],
   "source": [
    "ds = MIMIC_IV(initialize=False)\n",
    "ds.rawdata_paths"
   ]
  },
  {
   "cell_type": "code",
   "execution_count": null,
   "metadata": {
    "execution": {
     "iopub.execute_input": "2023-03-22T18:20:38.927547Z",
     "iopub.status.busy": "2023-03-22T18:20:38.927413Z",
     "iopub.status.idle": "2023-03-22T18:20:38.951285Z",
     "shell.execute_reply": "2023-03-22T18:20:38.950547Z",
     "shell.execute_reply.started": "2023-03-22T18:20:38.927534Z"
    },
    "tags": []
   },
   "outputs": [],
   "source": [
    "filelist = [\n",
    "    \"mimic-iv-1.0/LICENSE.txt\",\n",
    "    \"mimic-iv-1.0/SHA256SUMS.txt\",\n",
    "    \"mimic-iv-1.0/core/admissions.csv.gz\",\n",
    "    \"mimic-iv-1.0/core/patients.csv.gz\",\n",
    "    \"mimic-iv-1.0/core/transfers.csv.gz\",\n",
    "    \"mimic-iv-1.0/hosp/d_hcpcs.csv.gz\",\n",
    "    \"mimic-iv-1.0/hosp/d_icd_diagnoses.csv.gz\",\n",
    "    \"mimic-iv-1.0/hosp/d_icd_procedures.csv.gz\",\n",
    "    \"mimic-iv-1.0/hosp/d_labitems.csv.gz\",\n",
    "    \"mimic-iv-1.0/hosp/diagnoses_icd.csv.gz\",\n",
    "    \"mimic-iv-1.0/hosp/drgcodes.csv.gz\",\n",
    "    \"mimic-iv-1.0/hosp/emar.csv.gz\",\n",
    "    \"mimic-iv-1.0/hosp/emar_detail.csv.gz\",\n",
    "    \"mimic-iv-1.0/hosp/hcpcsevents.csv.gz\",\n",
    "    \"mimic-iv-1.0/hosp/labevents.csv.gz\",\n",
    "    \"mimic-iv-1.0/hosp/microbiologyevents.csv.gz\",\n",
    "    \"mimic-iv-1.0/hosp/pharmacy.csv.gz\",\n",
    "    \"mimic-iv-1.0/hosp/poe.csv.gz\",\n",
    "    \"mimic-iv-1.0/hosp/poe_detail.csv.gz\",\n",
    "    \"mimic-iv-1.0/hosp/prescriptions.csv.gz\",\n",
    "    \"mimic-iv-1.0/hosp/procedures_icd.csv.gz\",\n",
    "    \"mimic-iv-1.0/hosp/services.csv.gz\",\n",
    "    \"mimic-iv-1.0/icu/chartevents.csv.gz\",\n",
    "    \"mimic-iv-1.0/icu/d_items.csv.gz\",\n",
    "    \"mimic-iv-1.0/icu/datetimeevents.csv.gz\",\n",
    "    \"mimic-iv-1.0/icu/icustays.csv.gz\",\n",
    "    \"mimic-iv-1.0/icu/inputevents.csv.gz\",\n",
    "    \"mimic-iv-1.0/icu/outputevents.csv.gz\",\n",
    "    \"mimic-iv-1.0/icu/procedureevents.csv.gz\",\n",
    "]"
   ]
  },
  {
   "cell_type": "code",
   "execution_count": null,
   "metadata": {
    "execution": {
     "iopub.execute_input": "2023-03-22T18:20:38.951972Z",
     "iopub.status.busy": "2023-03-22T18:20:38.951840Z",
     "iopub.status.idle": "2023-03-22T18:20:38.973868Z",
     "shell.execute_reply": "2023-03-22T18:20:38.973227Z",
     "shell.execute_reply.started": "2023-03-22T18:20:38.951960Z"
    },
    "tags": []
   },
   "outputs": [],
   "source": [
    "with ZipFile(ds.rawdata_paths, \"r\") as file:\n",
    "    if not file.namelist() == filelist:\n",
    "        raise ValueError(\"The dataset contains unknown files!\")\n",
    "    print(dir(file))\n",
    "\n",
    "    filesizes = {info.filename: info.file_size for info in file.infolist()}\n",
    "    # print(file.infolist())"
   ]
  },
  {
   "cell_type": "code",
   "execution_count": null,
   "metadata": {
    "execution": {
     "iopub.execute_input": "2023-03-22T18:20:38.974565Z",
     "iopub.status.busy": "2023-03-22T18:20:38.974388Z",
     "iopub.status.idle": "2023-03-22T18:20:38.997371Z",
     "shell.execute_reply": "2023-03-22T18:20:38.997016Z",
     "shell.execute_reply.started": "2023-03-22T18:20:38.974551Z"
    },
    "tags": []
   },
   "outputs": [],
   "source": [
    "{key: filesizes[key] for key in sorted(filesizes, key=filesizes.get)}"
   ]
  },
  {
   "cell_type": "code",
   "execution_count": null,
   "metadata": {
    "execution": {
     "iopub.execute_input": "2023-03-22T18:20:38.998016Z",
     "iopub.status.busy": "2023-03-22T18:20:38.997824Z",
     "iopub.status.idle": "2023-03-22T18:20:39.022043Z",
     "shell.execute_reply": "2023-03-22T18:20:39.021441Z",
     "shell.execute_reply.started": "2023-03-22T18:20:38.998005Z"
    },
    "tags": []
   },
   "outputs": [],
   "source": [
    "with ZipFile(ds.rawdata_paths, \"r\") as file:\n",
    "    if not file.namelist() == filelist:\n",
    "        raise ValueError(\"The dataset contains unknown files!\")\n",
    "\n",
    "\n",
    "def load_gz_table(archive, fname):\n",
    "    with archive.open(str(fname), \"r\") as compressed_file:\n",
    "        with gzip.open(compressed_file, \"r\") as file:\n",
    "            # table = pd.read_csv(file)\n",
    "            # return table\n",
    "            table = pyarrow.csv.read_csv(file)\n",
    "            return table\n",
    "\n",
    "\n",
    "def load_txt(archive, fname):\n",
    "    with archive.open(str(fname), \"r\") as file:\n",
    "        return str(file.read(), encoding=\"utf8\")\n",
    "\n",
    "\n",
    "def get_table(fname) -> DataFrame:\n",
    "    fname = Path(fname)\n",
    "    with ZipFile(ds.rawdata_paths, \"r\") as archive:\n",
    "        match fname.suffix:\n",
    "            case \".gz\":\n",
    "                return load_gz_table(archive, fname)\n",
    "            case \".txt\":\n",
    "                return load_txt(archive, fname)\n",
    "            case _:\n",
    "                raise ValueError"
   ]
  },
  {
   "cell_type": "code",
   "execution_count": null,
   "metadata": {
    "execution": {
     "iopub.execute_input": "2023-03-22T18:21:00.035365Z",
     "iopub.status.busy": "2023-03-22T18:21:00.034242Z"
    },
    "tags": []
   },
   "outputs": [],
   "source": [
    "chartevents = {\n",
    "    \"subject_id\": ID_TYPE,\n",
    "    \"hadm_id\": ID_TYPE,\n",
    "    \"stay_id\": ID_TYPE,\n",
    "    \"itemid\": ID_TYPE,\n",
    "    \"charttime\": \"timestamp[s]\",\n",
    "    \"storetime\": \"timestamp[s]\",\n",
    "    \"value\": \"string\",\n",
    "    \"valuenum\": \"float32\",\n",
    "    \"valueuom\": CATEGORY,\n",
    "    \"warning\": \"bool\",\n",
    "}\n",
    "\n",
    "table = get_table(\"mimic-iv-1.0/icu/chartevents.csv.gz\");"
   ]
  },
  {
   "cell_type": "code",
   "execution_count": null,
   "metadata": {},
   "outputs": [],
   "source": []
  }
 ],
 "metadata": {
  "kernelspec": {
   "display_name": "Python 3 (ipykernel)",
   "language": "python",
   "name": "python3"
  },
  "language_info": {
   "codemirror_mode": {
    "name": "ipython",
    "version": 3
   },
   "file_extension": ".py",
   "mimetype": "text/x-python",
   "name": "python",
   "nbconvert_exporter": "python",
   "pygments_lexer": "ipython3",
   "version": "3.10.9"
  }
 },
 "nbformat": 4,
 "nbformat_minor": 4
}
