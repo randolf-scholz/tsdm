{
 "cells": [
  {
   "cell_type": "code",
   "execution_count": null,
   "id": "dfc2ead8-8747-401c-89a1-b7410515ebe4",
   "metadata": {},
   "outputs": [],
   "source": [
    "import math\n",
    "import time\n",
    "\n",
    "import matplotlib.pyplot as plt\n",
    "import numpy as np\n",
    "import pandas as pd\n",
    "import torch\n",
    "import torch.nn as nn\n",
    "\n",
    "torch.manual_seed(0)\n",
    "np.random.seed(0)\n",
    "input_window = 19\n",
    "output_window = 1\n",
    "batch_size = 1\n",
    "start_lr = 0.00001\n",
    "scheduler_gamma = 0.87\n",
    "epochs = 10\n",
    "\n",
    "from sklearn.preprocessing import RobustScaler\n",
    "\n",
    "# scaler = StandardScaler()\n",
    "scaler = RobustScaler()\n",
    "\n",
    "data_folder = \"run475\"\n",
    "data_file = \"A2.csv\"\n",
    "target = \"DOT\"\n",
    "\n",
    "feature_size = 1\n",
    "# The flag decides if the loss will be calculted over all\n",
    "# or just the predicted values.\n",
    "calculate_loss_over_all_values = False\n",
    "device = torch.device(\"cuda\" if torch.cuda.is_available() else \"cpu\")\n",
    "\n",
    "print(\"data_folder: \" + data_folder)\n",
    "print(\"data_file: \" + data_file)\n",
    "print(\"target: \" + target)\n",
    "print(\"input_window: \" + str(input_window))\n",
    "print(\"output_window: \" + str(output_window))\n",
    "print(\"batch_size: \" + str(batch_size))\n",
    "print(\"start_lr: \" + str(start_lr))\n",
    "print(\"epochs: \" + str(epochs))\n",
    "print(\"feature_size: \" + str(feature_size))\n",
    "\n",
    "# print(\"Loss: \" + loss)\n",
    "print(\"Loss RMSE\")\n",
    "print(\"===================================\")"
   ]
  },
  {
   "cell_type": "code",
   "execution_count": null,
   "id": "c29fcdf8-a878-438f-83d5-d972136af7b2",
   "metadata": {},
   "outputs": [],
   "source": [
    "class RMSELoss(nn.Module):\n",
    "    def __init__(self):\n",
    "        super().__init__()\n",
    "        self.mse = nn.MSELoss()\n",
    "\n",
    "    def forward(self, yhat, y):\n",
    "        return torch.sqrt(self.mse(yhat, y))\n",
    "\n",
    "\n",
    "criterion = RMSELoss()"
   ]
  },
  {
   "cell_type": "code",
   "execution_count": null,
   "id": "59d5f996-7d35-422d-9cbb-9f13f273c193",
   "metadata": {},
   "outputs": [],
   "source": [
    "data = pd.read_pickle(\"kiwi_experiments_and_run_355.pk\")"
   ]
  },
  {
   "cell_type": "code",
   "execution_count": null,
   "id": "24f204f6-7c5a-47b6-bc51-f4b048172c01",
   "metadata": {},
   "outputs": [],
   "source": [
    "runs = data.keys()\n",
    "run_id = 482\n",
    "print(runs)"
   ]
  },
  {
   "cell_type": "code",
   "execution_count": null,
   "id": "9e0c500e-61fa-41b9-8557-72e3232a3480",
   "metadata": {},
   "outputs": [],
   "source": [
    "experiments = data[482].keys()\n",
    "experiment_id_1 = 16282\n",
    "experiment_id_2 = 16283\n",
    "experiment_id_3 = 16284\n",
    "print(experiments)"
   ]
  },
  {
   "cell_type": "code",
   "execution_count": null,
   "id": "734ac93c-9ace-43b2-be07-26789ad1b069",
   "metadata": {},
   "outputs": [],
   "source": [
    "metadata = data[run_id][experiment_id_1][\"metadata\"]\n",
    "setpoints = data[run_id][experiment_id_1][\"setpoints\"]\n",
    "measurements_reactor = data[run_id][experiment_id_1][\"measurements_reactor\"]\n",
    "measurements_array = data[run_id][experiment_id_1][\"measurements_array\"]\n",
    "measurements_aggregated = data[run_id][experiment_id_1][\"measurements_aggregated\"]\n",
    "# print(data[run_id][experiment_id].keys())"
   ]
  },
  {
   "cell_type": "code",
   "execution_count": null,
   "id": "640d45ae-cf41-4653-8215-cf67a0f5b800",
   "metadata": {},
   "outputs": [],
   "source": []
  },
  {
   "cell_type": "code",
   "execution_count": null,
   "id": "d0054cc7-f3ca-45a2-9c49-2cb7bb6794a0",
   "metadata": {},
   "outputs": [],
   "source": [
    "print(data[run_id][experiment_id_1][\"metadata\"])"
   ]
  },
  {
   "cell_type": "code",
   "execution_count": null,
   "id": "63357c76-f9d5-4e4c-b872-1a3dfb4d11f2",
   "metadata": {},
   "outputs": [],
   "source": [
    "df_metadata = pd.DataFrame(data=metadata)\n",
    "df_metadata"
   ]
  },
  {
   "cell_type": "code",
   "execution_count": null,
   "id": "8c98a115-509b-495a-8fdd-5b0c889a386d",
   "metadata": {},
   "outputs": [],
   "source": [
    "df_setpoints = pd.DataFrame(data=setpoints)\n",
    "df_setpoints"
   ]
  },
  {
   "cell_type": "code",
   "execution_count": null,
   "id": "4ced8bb4-93fa-4ee3-973c-b6fcd99752ef",
   "metadata": {},
   "outputs": [],
   "source": [
    "df_setpoints.describe()"
   ]
  },
  {
   "cell_type": "code",
   "execution_count": null,
   "id": "de80e4fb-c902-4fdd-9238-fd448c1cf477",
   "metadata": {},
   "outputs": [],
   "source": [
    "df_measurements_reactor = pd.DataFrame(data=measurements_reactor)\n",
    "df_measurements_reactor"
   ]
  },
  {
   "cell_type": "code",
   "execution_count": null,
   "id": "e802e78d-8a76-469e-8ea2-926595ab5d48",
   "metadata": {},
   "outputs": [],
   "source": [
    "df_measurements_reactor.describe()"
   ]
  },
  {
   "cell_type": "code",
   "execution_count": null,
   "id": "11b7ea91-bd46-452d-887b-847c9e2b5c59",
   "metadata": {},
   "outputs": [],
   "source": [
    "df_measurements_array = pd.DataFrame(data=measurements_array)\n",
    "df_measurements_array"
   ]
  },
  {
   "cell_type": "code",
   "execution_count": null,
   "id": "b02b9239-645e-48b9-936d-fa29edb5a23f",
   "metadata": {},
   "outputs": [],
   "source": [
    "print(df_measurements_array.describe())"
   ]
  },
  {
   "cell_type": "code",
   "execution_count": null,
   "id": "2833296c-fa52-46dc-b1e2-88f2e7b1cb7c",
   "metadata": {},
   "outputs": [],
   "source": [
    "df_measurements_array.isnull().sum()"
   ]
  },
  {
   "cell_type": "code",
   "execution_count": null,
   "id": "e2931c41-fdb2-4a32-b3f3-4130a92bc50e",
   "metadata": {},
   "outputs": [],
   "source": [
    "df_measurements_array.size"
   ]
  },
  {
   "cell_type": "code",
   "execution_count": null,
   "id": "28a152b8-9c5a-4180-ac16-99ca5b95e23f",
   "metadata": {},
   "outputs": [],
   "source": [
    "df_measurements_aggregated = pd.DataFrame(data=measurements_aggregated)\n",
    "df_measurements_aggregated"
   ]
  },
  {
   "cell_type": "code",
   "execution_count": null,
   "id": "a09fbf2a-6017-4912-8b3f-96a1853e1040",
   "metadata": {},
   "outputs": [],
   "source": [
    "print(df_measurements_aggregated.describe())"
   ]
  },
  {
   "cell_type": "code",
   "execution_count": null,
   "id": "57b2b4ac-b7b4-48df-8e75-1cf8c7e3e20c",
   "metadata": {},
   "outputs": [],
   "source": [
    "print(df_measurements_aggregated.size)\n",
    "print(df_measurements_aggregated.isnull().sum())"
   ]
  },
  {
   "cell_type": "code",
   "execution_count": null,
   "id": "e449c273-7be8-4f90-ad16-6197988b7b47",
   "metadata": {},
   "outputs": [],
   "source": [
    "# plt.figure(figsize=(12,8))\n",
    "# plt.grid(True, which='both')\n",
    "# plt.plot(df_measurements_aggregated['DOT'])\n",
    "# plt.show()"
   ]
  },
  {
   "cell_type": "code",
   "execution_count": null,
   "id": "4e9d34d5-55dd-477f-a3bd-6ea529c94dad",
   "metadata": {},
   "outputs": [],
   "source": [
    "# %matplotlib inline\n",
    "# plt.figure(figsize=(24,4))\n",
    "# plt.grid(True)\n",
    "# plt.style.use('seaborn-whitegrid')\n",
    "# plt.ylim([80,100])\n",
    "# plt.plot(df_measurements_aggregated['DOT'], 'ob')\n",
    "# plt.style.use('default')\n",
    "# plt.title(\"DOT\")\n",
    "# plt.show()"
   ]
  },
  {
   "cell_type": "code",
   "execution_count": null,
   "id": "de3860e8-400a-42da-8b7a-b191a5710520",
   "metadata": {},
   "outputs": [],
   "source": [
    "fill_DOT = (\n",
    "    df_measurements_aggregated[\"DOT\"].fillna(method=\"ffill\").fillna(method=\"bfill\")\n",
    ")"
   ]
  },
  {
   "cell_type": "code",
   "execution_count": null,
   "id": "14841889-5042-4822-8ae5-db6b8761c08b",
   "metadata": {},
   "outputs": [],
   "source": [
    "train_set = data[run_id][experiment_id_1][\"measurements_aggregated\"][target]\n",
    "valid_set = data[run_id][experiment_id_2][\"measurements_aggregated\"][target]\n",
    "test_set = data[run_id][experiment_id_3][\"measurements_aggregated\"][target]\n",
    "\n",
    "train_control = data[run_id][experiment_id_1][\"measurements_aggregated\"][\n",
    "    \"Cumulated_feed_volume_glucose\"\n",
    "]\n",
    "valid_control = data[run_id][experiment_id_2][\"measurements_aggregated\"][\n",
    "    \"Cumulated_feed_volume_glucose\"\n",
    "]\n",
    "test_control = data[run_id][experiment_id_3][\"measurements_aggregated\"][\n",
    "    \"Cumulated_feed_volume_glucose\"\n",
    "]"
   ]
  },
  {
   "cell_type": "code",
   "execution_count": null,
   "id": "b88fce8c-2be0-4831-b1d0-70690435b9c6",
   "metadata": {},
   "outputs": [],
   "source": [
    "# print(train_set)\n",
    "# print(valid_set)\n",
    "# print(test_set)"
   ]
  },
  {
   "cell_type": "code",
   "execution_count": null,
   "id": "d1770bbc-61de-4e82-b2e7-1de9d1cbbcd5",
   "metadata": {},
   "outputs": [],
   "source": [
    "train_set_fill = (\n",
    "    data[run_id][experiment_id_1][\"measurements_aggregated\"][target]\n",
    "    .fillna(method=\"ffill\")\n",
    "    .fillna(method=\"bfill\")\n",
    ")\n",
    "valid_set_fill = (\n",
    "    data[run_id][experiment_id_2][\"measurements_aggregated\"][target]\n",
    "    .fillna(method=\"ffill\")\n",
    "    .fillna(method=\"bfill\")\n",
    ")\n",
    "test_set_fill = (\n",
    "    data[run_id][experiment_id_3][\"measurements_aggregated\"][target]\n",
    "    .fillna(method=\"ffill\")\n",
    "    .fillna(method=\"bfill\")\n",
    ")"
   ]
  },
  {
   "cell_type": "code",
   "execution_count": null,
   "id": "cc8a768c-afee-46b9-9177-740dbf1580c6",
   "metadata": {},
   "outputs": [],
   "source": [
    "# %matplotlib inline\n",
    "# plt.figure(figsize=(20,4))\n",
    "# plt.grid(True)\n",
    "# plt.plot(test_set_fill, marker=\"o\", markersize=4, color='g')\n",
    "# plt.style.use('default')\n",
    "# plt.title(\"DOT\")\n",
    "# plt.show()"
   ]
  },
  {
   "cell_type": "code",
   "execution_count": null,
   "id": "177439cc-d6ad-4cb7-a4ab-da4b914995d0",
   "metadata": {},
   "outputs": [],
   "source": []
  },
  {
   "cell_type": "code",
   "execution_count": null,
   "id": "db240686-0701-4144-8458-a580f663779e",
   "metadata": {},
   "outputs": [],
   "source": [
    "class PositionalEncoding(nn.Module):\n",
    "    def __init__(self, d_model, max_len=1000):\n",
    "        super(PositionalEncoding, self).__init__()\n",
    "        pe = torch.zeros(max_len, d_model)\n",
    "        position = torch.arange(0, max_len, dtype=torch.float).unsqueeze(1)\n",
    "        div_term = torch.exp(\n",
    "            torch.arange(0, d_model, 2).float() * (-math.log(1000.0) / d_model)\n",
    "        )\n",
    "        pe[:, 0::2] = torch.sin(position * div_term)\n",
    "        pe[:, 1::2] = torch.cos(position * div_term)\n",
    "        pe = pe.unsqueeze(0).transpose(0, 1)\n",
    "        # pe.requires_grad = False\n",
    "        self.register_buffer(\"pe\", pe)\n",
    "\n",
    "    def forward(self, x):\n",
    "        return x + self.pe[: x.size(0), :]\n",
    "\n",
    "\n",
    "class Transformer_TS(nn.Module):\n",
    "    def __init__(\n",
    "        self,\n",
    "        nhidden=1024,\n",
    "        num_layers=1,\n",
    "        nhead=8,\n",
    "        dropout=0.1,\n",
    "        in_channels=input_window,\n",
    "        out_channels=output_window,\n",
    "    ):\n",
    "        super(Transformer_TS, self).__init__()\n",
    "        self.model_type = \"Transformer for TS\"\n",
    "\n",
    "        self.src_mask = None\n",
    "        self.pos_encoder = PositionalEncoding(nhidden)\n",
    "\n",
    "        self.encoder_layer = nn.TransformerEncoderLayer(\n",
    "            d_model=nhidden, nhead=nhead, dropout=dropout\n",
    "        )\n",
    "        self.transformer_encoder = nn.TransformerEncoder(\n",
    "            self.encoder_layer, num_layers=num_layers\n",
    "        )\n",
    "        self.decoder = nn.Linear(nhidden, 1)  # nn.Linear(nhidden,1)\n",
    "        self.init_weights()\n",
    "\n",
    "        self.conv1 = self.contract_block(in_channels, 48, 3, 1)\n",
    "        self.conv2 = self.contract_block(48, 96, 3, 1)\n",
    "        self.conv3 = self.contract_block(96, 192, 3, 1)\n",
    "        self.conv4 = self.contract_block(192, 384, 3, 1)\n",
    "\n",
    "        self.upconv4 = self.expand_block(384, 192, 3, 1)\n",
    "        self.upconv3 = self.expand_block(192 * 2, 96, 3, 1)\n",
    "        self.upconv2 = self.expand_block(96 * 2, 48, 3, 1)\n",
    "        self.upconv1 = self.expand_block(48 * 2, out_channels, 3, 1)\n",
    "\n",
    "    def init_weights(self):\n",
    "        initrange = 0.1\n",
    "        self.decoder.bias.data.zero_()\n",
    "        self.decoder.weight.data.uniform_(-initrange, initrange)\n",
    "\n",
    "    def forward(self, src):\n",
    "        if self.src_mask is None or self.src_mask.size(0) != len(src):\n",
    "            device = src.device\n",
    "            mask = self._generate_square_subsequent_mask(len(src)).to(device)\n",
    "            self.src_mask = mask\n",
    "\n",
    "        src = self.pos_encoder(src)\n",
    "        output = self.transformer_encoder(src, self.src_mask)\n",
    "\n",
    "        # u-net block\n",
    "        output = torch.reshape(\n",
    "            output, (output.shape[1], output.shape[0], output.shape[2])\n",
    "        )\n",
    "\n",
    "        conv1 = self.conv1(output)\n",
    "        conv2 = self.conv2(conv1)\n",
    "        conv3 = self.conv3(conv2)\n",
    "        conv4 = self.conv4(conv3)\n",
    "\n",
    "        upconv4 = self.upconv4(conv4)\n",
    "        upconv3 = self.upconv3(torch.cat([upconv4, conv3], 1))\n",
    "        upconv2 = self.upconv2(torch.cat([upconv3, conv2], 1))\n",
    "        upconv1 = self.upconv1(torch.cat([upconv2, conv1], 1))\n",
    "\n",
    "        upconv1 = torch.reshape(\n",
    "            upconv1, (upconv1.shape[1], upconv1.shape[0], upconv1.shape[2])\n",
    "        )\n",
    "        # u-net block\n",
    "\n",
    "        output = self.decoder(upconv1)\n",
    "        return output\n",
    "\n",
    "    def _generate_square_subsequent_mask(self, sz):\n",
    "        mask = (torch.triu(torch.ones(sz, sz)) == 1).transpose(0, 1)\n",
    "        mask = (\n",
    "            mask.float()\n",
    "            .masked_fill(mask == 0, float(\"-inf\"))\n",
    "            .masked_fill(mask == 1, float(0.0))\n",
    "        )\n",
    "        return mask\n",
    "\n",
    "    def contract_block(self, in_channels, out_channels, kernel_size, padding):\n",
    "        contract = nn.Sequential(\n",
    "            torch.nn.Conv1d(\n",
    "                in_channels,\n",
    "                out_channels,\n",
    "                kernel_size=kernel_size,\n",
    "                stride=1,\n",
    "                padding=padding,\n",
    "            ),\n",
    "            # torch.nn.BatchNorm1d(out_channels),\n",
    "            # torch.nn.ReLU(),\n",
    "            torch.nn.Conv1d(\n",
    "                out_channels,\n",
    "                out_channels,\n",
    "                kernel_size=kernel_size,\n",
    "                stride=1,\n",
    "                padding=padding,\n",
    "            ),\n",
    "            # torch.nn.BatchNorm1d(out_channels),\n",
    "            # torch.nn.ReLU(),\n",
    "            torch.nn.MaxPool1d(kernel_size=3, stride=2, padding=1),\n",
    "            torch.nn.Dropout(p=0.1),\n",
    "        )\n",
    "\n",
    "        return contract\n",
    "\n",
    "    def expand_block(self, in_channels, out_channels, kernel_size, padding):\n",
    "        expand = nn.Sequential(\n",
    "            torch.nn.Conv1d(\n",
    "                in_channels, out_channels, kernel_size, stride=1, padding=padding\n",
    "            ),\n",
    "            # torch.nn.BatchNorm1d(out_channels),\n",
    "            # torch.nn.ReLU(),\n",
    "            torch.nn.Conv1d(\n",
    "                out_channels, out_channels, kernel_size, stride=1, padding=padding\n",
    "            ),\n",
    "            # torch.nn.BatchNorm1d(out_channels),\n",
    "            # torch.nn.ReLU(),\n",
    "            torch.nn.ConvTranspose1d(\n",
    "                out_channels,\n",
    "                out_channels,\n",
    "                kernel_size=3,\n",
    "                stride=2,\n",
    "                padding=1,\n",
    "                output_padding=1,\n",
    "            ),\n",
    "            torch.nn.Dropout(p=0.1),\n",
    "        )\n",
    "        return expand"
   ]
  },
  {
   "cell_type": "code",
   "execution_count": null,
   "id": "2423a213-b1a8-4f20-9c75-1b60b7f1e4bf",
   "metadata": {},
   "outputs": [],
   "source": [
    "def create_inout_sequences(input_data, input_window):\n",
    "    inout_seq = []\n",
    "    L = len(input_data)\n",
    "    for i in range(L - input_window):\n",
    "        train_seq = np.append(\n",
    "            input_data[i : i + input_window][:-output_window], output_window * [0]\n",
    "        )\n",
    "        train_label = input_data[i : i + input_window]\n",
    "        # train_label = input_data[i+output_window:i+input_window+output_window]\n",
    "        inout_seq.append((train_seq, train_label))\n",
    "    return torch.FloatTensor(inout_seq)"
   ]
  },
  {
   "cell_type": "code",
   "execution_count": null,
   "id": "9edbddd8-bf33-442e-8a29-e6549bd89e74",
   "metadata": {},
   "outputs": [],
   "source": [
    "def get_data(dataset=data_file, target=target):\n",
    "    train_data = train_set_fill\n",
    "    valid_data = valid_set_fill\n",
    "    test_data = test_set_fill\n",
    "\n",
    "    train_data = scaler.fit_transform(train_data.to_numpy().reshape(-1, 1)).reshape(-1)\n",
    "    valid_data = scaler.transform(valid_data.to_numpy().reshape(-1, 1)).reshape(-1)\n",
    "    test_data = scaler.transform(test_data.to_numpy().reshape(-1, 1)).reshape(-1)\n",
    "\n",
    "    train_sequence = create_inout_sequences(train_data, input_window)\n",
    "    train_sequence = train_sequence[:-output_window]\n",
    "\n",
    "    valid_sequence = create_inout_sequences(valid_data, input_window)\n",
    "    valid_sequence = valid_sequence[:-output_window]\n",
    "\n",
    "    test_sequence = create_inout_sequences(test_data, input_window)\n",
    "    test_sequence = test_sequence[:-output_window]\n",
    "\n",
    "    return (\n",
    "        train_sequence.to(device),\n",
    "        valid_sequence.to(device),\n",
    "        test_sequence.to(device),\n",
    "    )"
   ]
  },
  {
   "cell_type": "code",
   "execution_count": null,
   "id": "2d981376-d358-473e-80fa-277efb3c14ca",
   "metadata": {},
   "outputs": [],
   "source": [
    "def get_batch(source, i, batch_size, feature_size=feature_size):\n",
    "    seq_len = min(batch_size, len(source) - 1 - i)\n",
    "    data = source[i : i + seq_len]\n",
    "    observation = torch.stack(\n",
    "        torch.stack([item[0] for item in data]).chunk(input_window, feature_size)\n",
    "    )  # 1 is feature size\n",
    "    target = torch.stack(\n",
    "        torch.stack([item[1] for item in data]).chunk(input_window, feature_size)\n",
    "    )\n",
    "    return observation, target"
   ]
  },
  {
   "cell_type": "code",
   "execution_count": null,
   "id": "6e6d0664-225b-4c49-85b8-4aa32e103fec",
   "metadata": {},
   "outputs": [],
   "source": [
    "def train(train_data):\n",
    "    model.train()  # Turn on the train mode\n",
    "    total_loss = 0.0\n",
    "    start_time = time.time()\n",
    "\n",
    "    for batch, i in enumerate(range(0, len(train_data) - 1, batch_size)):\n",
    "        data, targets = get_batch(train_data, i, batch_size, feature_size)\n",
    "        optimizer.zero_grad()\n",
    "        output = model(data)\n",
    "\n",
    "        if calculate_loss_over_all_values:\n",
    "            loss = criterion(output, targets)\n",
    "        else:\n",
    "            loss = criterion(output[-output_window:], targets[-output_window:])\n",
    "\n",
    "        loss.backward()\n",
    "        torch.nn.utils.clip_grad_norm_(model.parameters(), 0.5)\n",
    "        optimizer.step()\n",
    "\n",
    "        total_loss += loss.item()\n",
    "        log_interval = int(len(train_data) / batch_size / 2)  # / 5\n",
    "        if batch % log_interval == 0 and batch > 0:\n",
    "            cur_loss = total_loss / log_interval\n",
    "            elapsed = time.time() - start_time\n",
    "            print(\n",
    "                \"| epoch {:3d}/{} | {:5d}/{:5d} batches | \"\n",
    "                \"lr {:02.10f} | {:6.2f} ms | \"\n",
    "                \"loss {:5.5f}\".format(\n",
    "                    epoch,\n",
    "                    epochs,\n",
    "                    batch,\n",
    "                    len(train_data) // batch_size,\n",
    "                    scheduler.get_last_lr()[0],\n",
    "                    elapsed * 1000 / log_interval,\n",
    "                    cur_loss,\n",
    "                )\n",
    "            )\n",
    "            total_loss = 0\n",
    "            start_time = time.time()"
   ]
  },
  {
   "cell_type": "code",
   "execution_count": null,
   "id": "dbb9459d-d3f4-49e5-9de2-b3778594283f",
   "metadata": {},
   "outputs": [],
   "source": []
  },
  {
   "cell_type": "code",
   "execution_count": null,
   "id": "36c07db6-4c4d-449e-abca-63f4cc1f75cf",
   "metadata": {},
   "outputs": [],
   "source": [
    "def evaluate(eval_model, data_source):\n",
    "    eval_model.eval()\n",
    "    total_loss = 0.0\n",
    "    eval_batch_size = 1\n",
    "    outputs = []\n",
    "    with torch.no_grad():\n",
    "        for i in range(0, len(data_source) - 1, eval_batch_size):\n",
    "            data, targets = get_batch(data_source, i, eval_batch_size, feature_size)\n",
    "            output = eval_model(data)\n",
    "            outputs.append(output)\n",
    "            if calculate_loss_over_all_values:\n",
    "                total_loss += len(data[0]) * criterion(output, targets).cpu().item()\n",
    "            else:\n",
    "                total_loss += (\n",
    "                    len(data[0])\n",
    "                    * criterion(output[-output_window:], targets[-output_window:])\n",
    "                    .cpu()\n",
    "                    .item()\n",
    "                )\n",
    "    return total_loss / len(data_source), outputs"
   ]
  },
  {
   "cell_type": "code",
   "execution_count": null,
   "id": "21bad343-4ac6-4ce2-85a5-4834e08ca18d",
   "metadata": {},
   "outputs": [],
   "source": [
    "train_data, val_data, test_data = get_data()\n",
    "\n",
    "model = Transformer_TS().to(device)\n",
    "\n",
    "lr = start_lr\n",
    "lrs = []\n",
    "\n",
    "optimizer = torch.optim.AdamW(model.parameters(), lr=lr)\n",
    "\n",
    "scheduler = torch.optim.lr_scheduler.StepLR(\n",
    "    optimizer, step_size=2.0, gamma=scheduler_gamma\n",
    ")\n",
    "# scheduler1 = torch.optim.lr_scheduler.ExponentialLR(optimizer, gamma=0.9)\n",
    "# scheduler2 = torch.optim.lr_scheduler.StepLR(optimizer, step_size=3, gamma=0.1)\n",
    "\n",
    "best_val_loss = float(\"inf\")\n",
    "future_horizon = output_window"
   ]
  },
  {
   "cell_type": "code",
   "execution_count": null,
   "id": "9f82e021-33ea-4bb2-8fb2-77bf7f286034",
   "metadata": {},
   "outputs": [],
   "source": [
    "for epoch in range(1, epochs + 1):\n",
    "    epoch_start_time = time.time()\n",
    "    train(train_data)\n",
    "\n",
    "    if epoch % 5 == 0:\n",
    "        pass\n",
    "        # val_loss = plot_and_loss(model, val_data, epoch)\n",
    "        # predict_future(model, val_data, future_horizon)\n",
    "    else:\n",
    "        val_loss, _ = evaluate(model, val_data)\n",
    "\n",
    "    print(\"-\" * 100)\n",
    "\n",
    "    print(\n",
    "        \"| end of epoch {:3d}/{} | time: {:5.2f}s | valid loss {:5.5f}\".format(\n",
    "            epoch, epochs, (time.time() - epoch_start_time), val_loss\n",
    "        )\n",
    "    )\n",
    "    print(\"-\" * 100)\n",
    "    scheduler.step()\n",
    "\n",
    "print(\"evaluate test_data:\")\n",
    "rmse, predicted_test = evaluate(model, test_data)\n",
    "print(rmse)"
   ]
  },
  {
   "cell_type": "code",
   "execution_count": null,
   "id": "9f734ed0-aae0-43f8-94bf-de21a5bb52ab",
   "metadata": {},
   "outputs": [],
   "source": []
  },
  {
   "cell_type": "code",
   "execution_count": null,
   "id": "5458c887-bad8-4d00-9e4d-7a525e7962af",
   "metadata": {},
   "outputs": [],
   "source": [
    "def convert_to_np_array(predicted_test):\n",
    "    length = len(predicted_test)\n",
    "    outputs = []\n",
    "    for i in range(length):\n",
    "        outputs.append(predicted_test[i][0][0][0].cpu().item())\n",
    "    return np.array(outputs).reshape(-1, 1)"
   ]
  },
  {
   "cell_type": "code",
   "execution_count": null,
   "id": "88068d3d-3d1c-4834-aa7a-a94e217ffacd",
   "metadata": {},
   "outputs": [],
   "source": [
    "predicted_test = convert_to_np_array(predicted_test)"
   ]
  },
  {
   "cell_type": "code",
   "execution_count": null,
   "id": "df59bcfb-1aa8-4d67-8768-38a10b9b41da",
   "metadata": {},
   "outputs": [],
   "source": [
    "inversed = scaler.inverse_transform(predicted_test)"
   ]
  },
  {
   "cell_type": "code",
   "execution_count": null,
   "id": "d9ce6784-b5af-47eb-bc1e-fb01adf86a7a",
   "metadata": {},
   "outputs": [],
   "source": [
    "# print(inversed)\n",
    "print(len(inversed))\n",
    "print(len(predicted_test))"
   ]
  },
  {
   "cell_type": "code",
   "execution_count": null,
   "id": "d351aeeb-ad03-40fc-9477-a67d9f0595e9",
   "metadata": {},
   "outputs": [],
   "source": [
    "plt.figure(figsize=(20, 4))\n",
    "plt.grid(True)\n",
    "plt.style.use(\"default\")\n",
    "plt.title(target)\n",
    "plt.plot(test_set_fill, marker=\"o\", markersize=4, color=\"g\", label=\"groundtruth values\")\n",
    "plt.plot(inversed, marker=\"o\", markersize=4, color=\"b\", label=\"predicted values\")\n",
    "plt.legend(loc=\"best\")\n",
    "plt.savefig(\n",
    "    \"graph/run_id_{},experiment_id_{},target_{}.png\".format(\n",
    "        run_id, experiment_id_3, target\n",
    "    )\n",
    ")\n",
    "plt.show()"
   ]
  },
  {
   "cell_type": "code",
   "execution_count": null,
   "id": "f3898466-7d25-45f2-af77-452d178e8c33",
   "metadata": {},
   "outputs": [],
   "source": []
  }
 ],
 "metadata": {
  "kernelspec": {
   "display_name": "Python 3 (ipykernel)",
   "language": "python",
   "name": "python3"
  },
  "language_info": {
   "codemirror_mode": {
    "name": "ipython",
    "version": 3
   },
   "file_extension": ".py",
   "mimetype": "text/x-python",
   "name": "python",
   "nbconvert_exporter": "python",
   "pygments_lexer": "ipython3",
   "version": "3.10.6"
  }
 },
 "nbformat": 4,
 "nbformat_minor": 5
}
