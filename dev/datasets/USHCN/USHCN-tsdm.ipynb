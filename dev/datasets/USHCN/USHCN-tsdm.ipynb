{
 "cells": [
  {
   "cell_type": "markdown",
   "metadata": {},
   "source": [
    "# USHCN Dataset"
   ]
  },
  {
   "cell_type": "code",
   "execution_count": null,
   "metadata": {},
   "source": [
    "%config InteractiveShell.ast_node_interactivity='last_expr_or_assign'  # always print last expr.\n",
    "%config InlineBackend.figure_format = 'svg'\n",
    "%load_ext autoreload\n",
    "%autoreload 2\n",
    "%matplotlib inline\n",
    "\n",
    "import logging\n",
    "\n",
    "logging.basicConfig(level=logging.INFO)"
   ],
   "outputs": []
  },
  {
   "cell_type": "code",
   "execution_count": null,
   "metadata": {
    "tags": []
   },
   "source": [
    "%%time\n",
    "from tsdm.datasets import USHCN\n",
    "\n",
    "ds = USHCN()"
   ],
   "outputs": []
  },
  {
   "cell_type": "code",
   "execution_count": null,
   "metadata": {},
   "source": [
    "ds.us_daily"
   ],
   "outputs": []
  },
  {
   "cell_type": "code",
   "execution_count": null,
   "metadata": {},
   "source": [
    "import os\n",
    "\n",
    "os.environ[\"MODIN_ENGINE\"] = \"ray\"  # Modin will use Ray\n",
    "# os.environ[\"MODIN_ENGINE\"] = \"dask\"  # Modin will use Dask"
   ],
   "outputs": []
  },
  {
   "cell_type": "code",
   "execution_count": null,
   "metadata": {},
   "source": [
    "import modin.pandas as mpd\n",
    "import pandas\n",
    "import pandas as pd"
   ],
   "outputs": []
  },
  {
   "cell_type": "code",
   "execution_count": null,
   "metadata": {},
   "source": [
    "colspecs: dict[str | tuple[str, int], tuple[int, int]] = {\n",
    "    \"COOP_ID\": (1, 6),\n",
    "    \"YEAR\": (7, 10),\n",
    "    \"MONTH\": (11, 12),\n",
    "    \"ELEMENT\": (13, 16),\n",
    "}\n",
    "\n",
    "for k, i in enumerate(range(17, 258, 8)):\n",
    "    colspecs |= {\n",
    "        (\"VALUE\", k + 1): (i, i + 4),\n",
    "        (\"MFLAG\", k + 1): (i + 5, i + 5),\n",
    "        (\"QFLAG\", k + 1): (i + 6, i + 6),\n",
    "        (\"SFLAG\", k + 1): (i + 7, i + 7),\n",
    "    }\n",
    "\n",
    "MFLAGS = pandas.CategoricalDtype(list(\"BDHKLOPTW\"))\n",
    "QFLAGS = pandas.CategoricalDtype(list(\"DGIKLMNORSTWXZ\"))\n",
    "SFLAGS = pandas.CategoricalDtype(list(\"067ABFGHKMNRSTUWXZ\"))\n",
    "ELEMENTS = pandas.CategoricalDtype((\"PRCP\", \"SNOW\", \"SNWD\", \"TMAX\", \"TMIN\"))\n",
    "\n",
    "dtypes = {\n",
    "    \"COOP_ID\": pandas.Int32Dtype(),\n",
    "    \"YEAR\": pandas.UInt16Dtype(),\n",
    "    \"MONTH\": pandas.UInt8Dtype(),\n",
    "    \"ELEMENT\": ELEMENTS,\n",
    "    \"VALUE\": pandas.Int16Dtype(),\n",
    "    \"MFLAG\": MFLAGS,\n",
    "    \"QFLAG\": QFLAGS,\n",
    "    \"SFLAG\": SFLAGS,\n",
    "}\n",
    "\n",
    "# dtypes but with same index as colspec.\n",
    "dtype = {\n",
    "    key: dtypes[key[0]] if isinstance(key, tuple) else dtypes[key] for key in colspecs\n",
    "}\n",
    "\n",
    "# pandas wants list[tuple[int, int]], 0 indexed, half open intervals.\n",
    "cspec = [(a - 1, b) for a, b in colspecs.values()]\n",
    "\n",
    "# per column values to be interpreted as nan\n",
    "na_values = {(\"VALUE\", k): \"-9999\" for k in range(1, 32)}\n",
    "us_daily_path = \"/home/rscholz/.tsdm/rawdata/USHCN/us.txt.gz\""
   ],
   "outputs": []
  },
  {
   "cell_type": "code",
   "execution_count": null,
   "metadata": {
    "tags": []
   },
   "source": [
    "%%time\n",
    "ds = mpd.read_fwf(\n",
    "    us_daily_path,\n",
    "    colspecs=cspec,\n",
    "    names=colspecs,\n",
    "    na_values=na_values,\n",
    "    dtype=dtype,\n",
    "    compression=\"gzip\",\n",
    ")"
   ],
   "outputs": []
  },
  {
   "cell_type": "code",
   "execution_count": null,
   "metadata": {},
   "source": [
    "ds"
   ],
   "outputs": []
  },
  {
   "cell_type": "code",
   "execution_count": null,
   "metadata": {},
   "source": [
    "%%time\n",
    "df = pd.read_fwf(\n",
    "    us_daily_path,\n",
    "    colspecs=cspec,\n",
    "    names=colspecs,\n",
    "    na_values=na_values,\n",
    "    dtype=dtype,\n",
    "    compression=\"gzip\",\n",
    ")"
   ],
   "outputs": []
  },
  {
   "cell_type": "code",
   "execution_count": null,
   "metadata": {},
   "source": [
    "df"
   ],
   "outputs": []
  },
  {
   "cell_type": "code",
   "execution_count": null,
   "metadata": {},
   "source": [
    "ds[(\"VALUE\", 1)].min()"
   ],
   "outputs": []
  },
  {
   "cell_type": "code",
   "execution_count": null,
   "metadata": {},
   "source": [
    "id_cols = [\"COOP_ID\", \"YEAR\", \"MONTH\", \"ELEMENT\"]\n",
    "data_cols = [col for col in ds.columns if col not in id_cols]\n",
    "columns = mpd.DataFrame(data_cols, columns=[\"VAR\", \"DAY\"])\n",
    "columns = columns.astype({\"VAR\": \"string\", \"DAY\": \"uint8\"})\n",
    "columns = columns.astype(\"category\")"
   ],
   "outputs": []
  },
  {
   "cell_type": "code",
   "execution_count": null,
   "metadata": {},
   "source": [
    "data = ds[data_cols]\n",
    "data.columns = pandas.MultiIndex.from_frame(columns)"
   ],
   "outputs": []
  },
  {
   "cell_type": "code",
   "execution_count": null,
   "metadata": {},
   "source": [
    "data = data.stack(level=\"DAY\", dropna=True).reset_index(level=\"DAY\")"
   ],
   "outputs": []
  },
  {
   "cell_type": "code",
   "execution_count": null,
   "metadata": {},
   "source": [
    "_dtypes = {k: v for k, v in dtypes.items() if k in data.columns} | {\n",
    "    \"DAY\": \"int8\",\n",
    "}\n",
    "data = data.astype(_dtypes)\n",
    "\n",
    "# recombine data columns with original data\n",
    "data = ds[id_cols].join(data, how=\"inner\")\n",
    "data = data.astype(dtypes | {\"DAY\": \"int8\"})"
   ],
   "outputs": []
  },
  {
   "cell_type": "code",
   "execution_count": null,
   "metadata": {},
   "source": [
    "data = data.reset_index(drop=True)\n",
    "datetimes = mpd.to_datetime(data[[\"YEAR\", \"MONTH\", \"DAY\"]], errors=\"coerce\")\n",
    "data = data.drop(columns=[\"YEAR\", \"MONTH\", \"DAY\"])\n",
    "data[\"time\"] = datetimes\n",
    "data = data.set_index([\"COOP_ID\", \"time\"])"
   ],
   "outputs": []
  },
  {
   "cell_type": "code",
   "execution_count": null,
   "metadata": {},
   "source": [
    "data.isna().sum()"
   ],
   "outputs": []
  },
  {
   "cell_type": "code",
   "execution_count": null,
   "metadata": {},
   "source": [
    "data = data.set_index(\"time\", append=True)"
   ],
   "outputs": []
  },
  {
   "cell_type": "code",
   "execution_count": null,
   "metadata": {},
   "source": [
    "data.reindex(\n",
    "    columns=[\n",
    "        \"ELEMENT\",\n",
    "        \"MFLAG\",\n",
    "        \"QFLAG\",\n",
    "        \"SFLAG\",\n",
    "        \"VALUE\",\n",
    "    ]\n",
    ")"
   ],
   "outputs": []
  },
  {
   "cell_type": "code",
   "execution_count": null,
   "metadata": {},
   "source": [
    "data = data.sort_values(by=[\"COOP_ID\", \"time\", \"ELEMENT\"])"
   ],
   "outputs": []
  },
  {
   "cell_type": "code",
   "execution_count": null,
   "metadata": {
    "tags": []
   },
   "source": [
    "%%time\n",
    "ds = pd.read_fwf(\n",
    "    us_daily_path,\n",
    "    colspecs=cspec,\n",
    "    names=colspecs,\n",
    "    na_values=na_values,\n",
    "    dtype=dtype,\n",
    "    compression=\"gzip\",\n",
    ")"
   ],
   "outputs": []
  },
  {
   "cell_type": "code",
   "execution_count": null,
   "metadata": {},
   "source": [],
   "outputs": []
  },
  {
   "cell_type": "code",
   "execution_count": null,
   "metadata": {},
   "source": [
    "%%time\n",
    "id_cols = [\"COOP_ID\", \"YEAR\", \"MONTH\", \"ELEMENT\"]\n",
    "data_cols = [col for col in ds.columns if col not in id_cols]\n",
    "# Turn tuple[VALUE/FLAG, DAY] indices to multi-index:\n",
    "columns = mpd.MultiIndex.from_tuples(ds[data_cols], names=[\"VAR\", \"DAY\"])\n",
    "data = mpd.DataFrame(ds[data_cols], columns=columns)"
   ],
   "outputs": []
  },
  {
   "cell_type": "code",
   "execution_count": null,
   "metadata": {},
   "source": [
    "%%time\n",
    "DDS = data.stack(level=\"DAY\", dropna=True).reset_index(level=\"DAY\")"
   ],
   "outputs": []
  },
  {
   "cell_type": "code",
   "execution_count": null,
   "metadata": {},
   "source": [
    "data.dtypes.loc[\"MFLAG\"].unique()"
   ],
   "outputs": []
  },
  {
   "cell_type": "code",
   "execution_count": null,
   "metadata": {},
   "source": [
    "ds[id_cols].join(DDS, how=\"inner\")"
   ],
   "outputs": []
  },
  {
   "cell_type": "code",
   "execution_count": null,
   "metadata": {},
   "source": [
    "data"
   ],
   "outputs": []
  },
  {
   "cell_type": "code",
   "execution_count": null,
   "metadata": {},
   "source": [],
   "outputs": []
  },
  {
   "cell_type": "code",
   "execution_count": null,
   "metadata": {},
   "source": [
    "DDS.astype({k: v for k, v in dtypes.items() if k in DDS.columns}).info()"
   ],
   "outputs": []
  },
  {
   "cell_type": "code",
   "execution_count": null,
   "metadata": {},
   "source": [
    "data.dtypes"
   ],
   "outputs": []
  },
  {
   "cell_type": "code",
   "execution_count": null,
   "metadata": {},
   "source": [
    "DDS.MFLAG.unique()"
   ],
   "outputs": []
  },
  {
   "cell_type": "code",
   "execution_count": null,
   "metadata": {},
   "source": [
    "columns = (\n",
    "    mpd.DataFrame(data_cols, columns=[\"VAR\", \"DAY\"])\n",
    "    .astype({\"VAR\": \"string\", \"DAY\": \"uint8\"})\n",
    "    .astype(\"category\")\n",
    ")\n",
    "columns = mpd.MultiIndex.from_frame(columns)"
   ],
   "outputs": []
  },
  {
   "cell_type": "code",
   "execution_count": null,
   "metadata": {},
   "source": [
    "data.info()"
   ],
   "outputs": []
  },
  {
   "cell_type": "code",
   "execution_count": null,
   "metadata": {},
   "source": [
    "data = mpd.DataFrame(ds[data_cols])\n",
    "data.columns = columns"
   ],
   "outputs": []
  },
  {
   "cell_type": "code",
   "execution_count": null,
   "metadata": {},
   "source": [
    "%%time\n",
    "data = mpd.DataFrame(ds[data_cols], columns=columns)"
   ],
   "outputs": []
  },
  {
   "cell_type": "code",
   "execution_count": null,
   "metadata": {},
   "source": [
    "ds"
   ],
   "outputs": []
  },
  {
   "cell_type": "code",
   "execution_count": null,
   "metadata": {},
   "source": [
    "data"
   ],
   "outputs": []
  },
  {
   "cell_type": "code",
   "execution_count": null,
   "metadata": {},
   "source": [
    "?TextFileReader"
   ],
   "outputs": []
  },
  {
   "cell_type": "code",
   "execution_count": null,
   "metadata": {},
   "source": [],
   "outputs": []
  },
  {
   "cell_type": "code",
   "execution_count": null,
   "metadata": {},
   "source": [
    "%%time\n",
    "df = pd.read_fwf(\"/home/rscholz/.tsdm/rawdata/USHCN/us.txt.gz\", compression=\"gzip\")"
   ],
   "outputs": []
  },
  {
   "cell_type": "code",
   "execution_count": null,
   "metadata": {},
   "source": [
    "%%time\n",
    "df = mpd.read_fwf(\"/home/rscholz/.tsdm/rawdata/USHCN/us.txt.gz\", compression=\"gzip\")"
   ],
   "outputs": []
  },
  {
   "cell_type": "code",
   "execution_count": null,
   "metadata": {
    "tags": []
   },
   "source": [],
   "outputs": []
  },
  {
   "cell_type": "code",
   "execution_count": null,
   "metadata": {},
   "source": [],
   "outputs": []
  },
  {
   "cell_type": "code",
   "execution_count": null,
   "metadata": {},
   "source": [],
   "outputs": []
  },
  {
   "cell_type": "code",
   "execution_count": null,
   "metadata": {},
   "source": [],
   "outputs": []
  },
  {
   "cell_type": "code",
   "execution_count": null,
   "metadata": {},
   "source": [],
   "outputs": []
  },
  {
   "cell_type": "code",
   "execution_count": null,
   "metadata": {},
   "source": [],
   "outputs": []
  },
  {
   "cell_type": "code",
   "execution_count": null,
   "metadata": {},
   "source": [],
   "outputs": []
  },
  {
   "cell_type": "code",
   "execution_count": null,
   "metadata": {},
   "source": [
    "import importlib.util"
   ],
   "outputs": []
  },
  {
   "cell_type": "code",
   "execution_count": null,
   "metadata": {},
   "source": [
    "importlib.util.find_spec(\"modin\")"
   ],
   "outputs": []
  },
  {
   "cell_type": "code",
   "execution_count": null,
   "metadata": {},
   "source": [
    "importlib.import_module(\"modin\")"
   ],
   "outputs": []
  },
  {
   "cell_type": "code",
   "execution_count": null,
   "metadata": {},
   "source": [
    "ds.download()"
   ],
   "outputs": []
  },
  {
   "cell_type": "code",
   "execution_count": null,
   "metadata": {},
   "source": [
    "ds.us_daily"
   ],
   "outputs": []
  },
  {
   "cell_type": "code",
   "execution_count": null,
   "metadata": {},
   "source": [
    "df = ds._load(key=\"stations\")"
   ],
   "outputs": []
  },
  {
   "cell_type": "code",
   "execution_count": null,
   "metadata": {},
   "source": [
    "df.COMPONENT_1.replace(to_replace=\"------\", value=pandas.NA)"
   ],
   "outputs": []
  },
  {
   "cell_type": "code",
   "execution_count": null,
   "metadata": {},
   "source": [],
   "outputs": []
  },
  {
   "cell_type": "code",
   "execution_count": null,
   "metadata": {},
   "source": [
    "ds.stations"
   ],
   "outputs": []
  },
  {
   "cell_type": "code",
   "execution_count": null,
   "metadata": {},
   "source": [
    "ds.stations"
   ],
   "outputs": []
  },
  {
   "cell_type": "code",
   "execution_count": null,
   "metadata": {},
   "source": [
    "import os\n",
    "\n",
    "os.environ[\"MODIN_ENGINE\"] = \"dask\"  # Modin will use Dask\n",
    "import ray\n",
    "from modin import pandas as pd\n",
    "\n",
    "ray.init()"
   ],
   "outputs": []
  },
  {
   "cell_type": "code",
   "execution_count": null,
   "metadata": {},
   "source": [],
   "outputs": []
  },
  {
   "cell_type": "code",
   "execution_count": null,
   "metadata": {},
   "source": [
    "ds.us_daily"
   ],
   "outputs": []
  },
  {
   "cell_type": "code",
   "execution_count": null,
   "metadata": {},
   "source": [
    "dir(dd)"
   ],
   "outputs": []
  },
  {
   "cell_type": "code",
   "execution_count": null,
   "metadata": {},
   "source": [
    "import os\n",
    "\n",
    "import dask.dataframe as dd\n",
    "\n",
    "df = dd.from_pandas(\n",
    "    ds.us_daily[[\"YEAR\", \"MONTH\", \"DAY\"]], name=\"ts\", npartitions=os.cpu_count()\n",
    ")"
   ],
   "outputs": []
  },
  {
   "cell_type": "code",
   "execution_count": null,
   "metadata": {},
   "source": [
    "time = dd.to_datetime(df, errors=\"coerce\").compute()"
   ],
   "outputs": []
  },
  {
   "cell_type": "code",
   "execution_count": null,
   "metadata": {},
   "source": [
    "ds.stations"
   ],
   "outputs": []
  },
  {
   "cell_type": "code",
   "execution_count": null,
   "metadata": {},
   "source": [
    "ds.us_daily[\"time\"] = time"
   ],
   "outputs": []
  },
  {
   "cell_type": "code",
   "execution_count": null,
   "metadata": {},
   "source": [
    "ds.us_daily"
   ],
   "outputs": []
  },
  {
   "cell_type": "code",
   "execution_count": null,
   "metadata": {},
   "source": [
    "pd.to_datetime(\n",
    "    ds.us_daily[[\"YEAR\", \"MONTH\", \"DAY\"]].iloc[:100_000_000],\n",
    "    errors=\"coerce\",\n",
    "    cache=False,\n",
    "    infer_datetime_format=True,\n",
    ")"
   ],
   "outputs": []
  },
  {
   "cell_type": "code",
   "execution_count": null,
   "metadata": {},
   "source": [
    "ds.us_daily"
   ],
   "outputs": []
  }
 ],
 "metadata": {
  "kernelspec": {
   "display_name": "Python 3 (ipykernel)",
   "language": "python",
   "name": "python3"
  },
  "language_info": {
   "codemirror_mode": {
    "name": "ipython",
    "version": 3
   },
   "file_extension": ".py",
   "mimetype": "text/x-python",
   "name": "python",
   "nbconvert_exporter": "python",
   "pygments_lexer": "ipython3",
   "version": "3.10.4"
  }
 },
 "nbformat": 4,
 "nbformat_minor": 4
}
