{
 "cells": [
  {
   "cell_type": "code",
   "execution_count": null,
   "id": "20191951-beec-414a-b3c6-89dca8277ad2",
   "metadata": {
    "tags": []
   },
   "outputs": [],
   "source": [
    "%config InteractiveShell.ast_node_interactivity='last_expr_or_assign'  # always print last expr.\n",
    "%config InlineBackend.figure_format = 'svg'\n",
    "%load_ext autoreload\n",
    "%autoreload 2\n",
    "%matplotlib inline"
   ]
  },
  {
   "cell_type": "code",
   "execution_count": null,
   "id": "57a9a38e-6bdd-4205-aaf3-3ac77447f886",
   "metadata": {
    "tags": []
   },
   "outputs": [],
   "source": [
    "from tsdm.datasets import USHCN_SmallChunkedSporadic\n",
    "\n",
    "dataset = USHCN_SmallChunkedSporadic()\n",
    "dataset"
   ]
  },
  {
   "cell_type": "code",
   "execution_count": null,
   "id": "3cd371fd-925b-4f9a-9c6d-b1640e6d9ffe",
   "metadata": {
    "tags": []
   },
   "outputs": [],
   "source": [
    "from tsdm.tasks import USHCN_DeBrouwer2019\n",
    "\n",
    "task = USHCN_DeBrouwer2019()\n",
    "task.dataset"
   ]
  },
  {
   "cell_type": "code",
   "execution_count": null,
   "id": "414fff3d-7958-4d42-b728-076ed1b57b6c",
   "metadata": {
    "tags": []
   },
   "outputs": [],
   "source": [
    "from tsdm.tasks.ushcn_debrouwer2019 import ushcn_collate\n",
    "\n",
    "dloader_config_train = {\n",
    "    \"batch_size\": 32,\n",
    "    \"shuffle\": True,\n",
    "    \"drop_last\": True,\n",
    "    \"pin_memory\": True,\n",
    "    \"num_workers\": 4,\n",
    "    \"collate_fn\": ushcn_collate,\n",
    "}\n",
    "\n",
    "\n",
    "trainloader = task.get_dataloader((0, \"train\"), **dloader_config_train)\n",
    "batch = next(iter(trainloader))\n",
    "batch"
   ]
  },
  {
   "cell_type": "code",
   "execution_count": null,
   "id": "1ea1dd6e-1196-4673-985d-4b749e45860c",
   "metadata": {},
   "outputs": [],
   "source": []
  }
 ],
 "metadata": {
  "kernelspec": {
   "display_name": "Python 3 (ipykernel)",
   "language": "python",
   "name": "python3"
  },
  "language_info": {
   "codemirror_mode": {
    "name": "ipython",
    "version": 3
   },
   "file_extension": ".py",
   "mimetype": "text/x-python",
   "name": "python",
   "nbconvert_exporter": "python",
   "pygments_lexer": "ipython3",
   "version": "3.10.6"
  }
 },
 "nbformat": 4,
 "nbformat_minor": 5
}
