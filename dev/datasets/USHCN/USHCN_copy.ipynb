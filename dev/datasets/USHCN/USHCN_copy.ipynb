{
 "cells": [
  {
   "cell_type": "markdown",
   "metadata": {},
   "source": [
    "# Title"
   ]
  },
  {
   "cell_type": "code",
   "execution_count": null,
   "metadata": {},
   "outputs": [],
   "source": [
    "%config InteractiveShell.ast_node_interactivity='last_expr_or_assign'  # always print last expr.\n",
    "%config InlineBackend.figure_format = 'svg'\n",
    "%load_ext autoreload\n",
    "%autoreload 2\n",
    "%matplotlib inline\n",
    "import pandas\n",
    "\n",
    "pandas.options.display.max_rows = 6"
   ]
  },
  {
   "cell_type": "code",
   "execution_count": null,
   "metadata": {},
   "outputs": [],
   "source": [
    "from tsdm.datasets import BaseDataset"
   ]
  },
  {
   "cell_type": "code",
   "execution_count": null,
   "metadata": {
    "tags": []
   },
   "outputs": [],
   "source": [
    "class USHCN(BaseDataset):\n",
    "    url = \"https://cdiac.ess-dive.lbl.gov/ftp/ushcn_daily/\""
   ]
  },
  {
   "cell_type": "code",
   "execution_count": null,
   "metadata": {
    "tags": []
   },
   "outputs": [],
   "source": [
    "# USHCN.download()"
   ]
  },
  {
   "cell_type": "markdown",
   "metadata": {},
   "source": [
    "# State Codes"
   ]
  },
  {
   "cell_type": "code",
   "execution_count": null,
   "metadata": {},
   "outputs": [],
   "source": [
    "# Best viewed with elastic tabstops!\n",
    "state_codes = \"\"\"\n",
    "State\tPostal Abbr.\tFIPS code\n",
    "Alabama\tAL\t01\n",
    "Alaska\tAK\t02\n",
    "Arizona\tAZ\t04\n",
    "Arkansas\tAR\t05\n",
    "California\tCA\t06\n",
    "Colorado\tCO\t08\n",
    "Connecticut\tCT\t09\n",
    "Delaware\tDE\t10\n",
    "District of Columbia\tDC\t11\n",
    "Florida\tFL\t12\n",
    "Georgia\tGA\t13\n",
    "Hawaii\tHI\t15\n",
    "Idaho\tID\t16\n",
    "Illinois\tIL\t17\n",
    "Indiana\tIN\t18\n",
    "Iowa\tIA\t19\n",
    "Kansas\tKS\t20\n",
    "Kentucky\tKY\t21\n",
    "Louisiana\tLA\t22\n",
    "Maine\tME\t23\n",
    "Maryland\tMD\t24\n",
    "Massachusetts\tMA\t25\n",
    "Michigan\tMI\t26\n",
    "Minnesota\tMN\t27\n",
    "Mississippi\tMS\t28\n",
    "Missouri\tMO\t29\n",
    "Montana\tMT\t30\n",
    "Nebraska\tNE\t31\n",
    "Nevada\tNV\t32\n",
    "New Hampshire\tNH\t33\n",
    "New Jersey\tNJ\t34\n",
    "New Mexico\tNM\t35\n",
    "New York\tNY\t36\n",
    "North Carolina\tNC\t37\n",
    "North Dakota\tND\t38\n",
    "Ohio\tOH\t39\n",
    "Oklahoma\tOK\t40\n",
    "Oregon\tOR\t41\n",
    "Pennsylvania\tPA\t42\n",
    "Puerto Rico\tPR\t72\n",
    "Rhode Island\tRI\t44\n",
    "South Carolina\tSC\t45\n",
    "South Dakota\tSD\t46\n",
    "Tennessee\tTN\t47\n",
    "Texas\tTX\t48\n",
    "Utah\tUT\t49\n",
    "Vermont\tVT\t50\n",
    "Virginia\tVA\t51\n",
    "Virgin Islands\tVI\t78\n",
    "Washington\tWA\t53\n",
    "West Virginia\tWV\t54\n",
    "Wisconsin\tWI\t55\n",
    "Wyoming\tWY\t56\n",
    "\"\"\"\n",
    "\n",
    "state_dtypes = {\n",
    "    \"State\": pandas.StringDtype(),\n",
    "    \"Postal Abbr.\": pandas.CategoricalDtype(ordered=True),\n",
    "    \"FIPS code\": pandas.CategoricalDtype(ordered=True),\n",
    "}"
   ]
  },
  {
   "cell_type": "code",
   "execution_count": null,
   "metadata": {},
   "outputs": [],
   "source": [
    "from io import StringIO\n",
    "\n",
    "states = pandas.read_csv(\n",
    "    StringIO(state_codes), sep=\"\\t\", dtype=state_dtypes, index_col=\"Postal Abbr.\"\n",
    ")"
   ]
  },
  {
   "cell_type": "markdown",
   "metadata": {},
   "source": [
    "# Stations Meta-Data"
   ]
  },
  {
   "cell_type": "code",
   "execution_count": null,
   "metadata": {},
   "outputs": [],
   "source": [
    "station_colspecs = {\n",
    "    \"COOP_ID\": (1, 6),\n",
    "    \"LATITUDE\": (8, 15),\n",
    "    \"LONGITUDE\": (17, 25),\n",
    "    \"ELEVATION\": (27, 32),\n",
    "    \"STATE\": (34, 35),\n",
    "    \"NAME\": (37, 66),\n",
    "    \"COMPONENT_1\": (68, 73),\n",
    "    \"COMPONENT_2\": (75, 80),\n",
    "    \"COMPONENT_3\": (82, 87),\n",
    "    \"UTC_OFFSET\": (89, 90),\n",
    "}\n",
    "\n",
    "# fix colspec to 0-index, half open interval\n",
    "station_colspecs = {key: (a - 1, b) for key, (a, b) in station_colspecs.items()}\n",
    "\n",
    "station_dtypes = {\n",
    "    \"COOP_ID\": pandas.CategoricalDtype(ordered=True),\n",
    "    \"LATITUDE\": pandas.Float32Dtype(),\n",
    "    \"LONGITUDE\": pandas.Float32Dtype(),\n",
    "    \"ELEVATION\": pandas.Float32Dtype(),\n",
    "    \"STATE\": states.index.dtype,\n",
    "    \"NAME\": pandas.StringDtype(),\n",
    "    \"COMPONENT_1\": pandas.CategoricalDtype(ordered=True),\n",
    "    \"COMPONENT_2\": pandas.CategoricalDtype(ordered=True),\n",
    "    \"COMPONENT_3\": pandas.CategoricalDtype(ordered=True),\n",
    "    \"UTC_OFFSET\": \"timedelta64[h]\",\n",
    "}\n",
    "\n",
    "station_na_values = {\n",
    "    \"ELEVATION\": -999.9,\n",
    "    \"COMPONENT_1\": \"------\",\n",
    "    \"COMPONENT_2\": \"------\",\n",
    "    \"COMPONENT_3\": \"------\",\n",
    "}"
   ]
  },
  {
   "cell_type": "code",
   "execution_count": null,
   "metadata": {},
   "outputs": [],
   "source": [
    "stations_filename = \"ushcn-stations.txt\"\n",
    "stations_filepath = USHCN.rawdata_path.joinpath(stations_filename)\n",
    "stations = pandas.read_fwf(\n",
    "    stations_filepath,\n",
    "    na_values=station_na_values,\n",
    "    colspecs=list(station_colspecs.values()),\n",
    "    header=0,\n",
    "    names=station_colspecs,\n",
    "    dtype=station_dtypes,\n",
    ")\n",
    "COOP_IDS = pandas.CategoricalDtype(stations.COOP_ID, ordered=True)\n",
    "stations.astype({\n",
    "    \"COOP_ID\": COOP_IDS,\n",
    "    \"COMPONENT_1\": COOP_IDS,\n",
    "    \"COMPONENT_2\": COOP_IDS,\n",
    "    \"COMPONENT_3\": COOP_IDS,\n",
    "})"
   ]
  },
  {
   "cell_type": "markdown",
   "metadata": {},
   "source": [
    "# Station Data"
   ]
  },
  {
   "cell_type": "code",
   "execution_count": null,
   "metadata": {
    "tags": []
   },
   "outputs": [],
   "source": [
    "MFLAGS = pandas.CategoricalDtype(\n",
    "    categories=(\"B\", \"D\", \"H\", \"K\", \"L\", \"O\", \"P\", \"T\", \"W\")\n",
    ")\n",
    "QFLAGS = pandas.CategoricalDtype(\n",
    "    categories=(\"D\", \"G\", \"I\", \"K\", \"L\", \"M\", \"N\", \"O\", \"R\", \"S\", \"T\", \"W\", \"X\", \"Z\")\n",
    ")\n",
    "SFLAGS = pandas.CategoricalDtype(\n",
    "    categories=(\n",
    "        \"0\",\n",
    "        \"6\",\n",
    "        \"7\",\n",
    "        \"A\",\n",
    "        \"B\",\n",
    "        \"F\",\n",
    "        \"G\",\n",
    "        \"H\",\n",
    "        \"K\",\n",
    "        \"M\",\n",
    "        \"N\",\n",
    "        \"R\",\n",
    "        \"S\",\n",
    "        \"T\",\n",
    "        \"U\",\n",
    "        \"W\",\n",
    "        \"X\",\n",
    "        \"Z\",\n",
    "    )\n",
    ")\n",
    "ELEMENTS = pandas.CategoricalDtype(categories=(\"PRCP\", \"SNOW\", \"SNWD\", \"TMAX\", \"TMIN\"))\n",
    "\n",
    "\n",
    "dtypes = {\n",
    "    \"COOP_ID\": COOP_IDS,\n",
    "    \"YEAR\": pandas.Int16Dtype(),\n",
    "    \"MONTH\": pandas.Int16Dtype(),\n",
    "    \"ELEMENT\": ELEMENTS,\n",
    "    \"VALUE\": pandas.Int16Dtype(),\n",
    "    \"MFLAG\": MFLAGS,\n",
    "    \"QFLAG\": QFLAGS,\n",
    "    \"SFLAG\": SFLAGS,\n",
    "}\n",
    "\n",
    "# column start, stop, dtype\n",
    "colspecs = {\n",
    "    \"COOP_ID\": (1, 6),\n",
    "    \"YEAR\": (7, 10),\n",
    "    \"MONTH\": (11, 12),\n",
    "    \"ELEMENT\": (13, 16),\n",
    "}\n",
    "\n",
    "for k, i in enumerate(range(17, 258, 8)):\n",
    "    colspecs |= {\n",
    "        (\"VALUE\", k + 1): (i, i + 4),\n",
    "        (\"MFLAG\", k + 1): (i + 5, i + 5),\n",
    "        (\"QFLAG\", k + 1): (i + 6, i + 6),\n",
    "        (\"SFLAG\", k + 1): (i + 7, i + 7),\n",
    "    }\n",
    "\n",
    "    # dtype |= {\n",
    "    #     f\"VALUE-{k+1}\" : integer,\n",
    "    #     f\"MFLAG-{k+1}\" : mflag_types,\n",
    "    #     f\"QFLAG-{k+1}\" : qflag_types,\n",
    "    #     f\"SFLAG-{k+1}\" : sflag_types,\n",
    "    # }\n",
    "\n",
    "\n",
    "# These should coincide with the description in data_format.txt\n",
    "widths = [b - a + 1 for a, b in colspecs.values()]\n",
    "dtype = {\n",
    "    key: dtypes[key[0]] if isinstance(key, tuple) else dtypes[key] for key in colspecs\n",
    "}\n",
    "\n",
    "cspec = [(a - 1, b - 1) for a, b in colspecs.values()]\n",
    "# na_values = [-9999]\n",
    "# ds = pandas.read_fwf(\"state32.txt\", names=colspecs, widths=widths, header=None, dtype=dtype, na_values=-9999)"
   ]
  },
  {
   "cell_type": "code",
   "execution_count": null,
   "metadata": {},
   "outputs": [],
   "source": [
    "import gzip\n",
    "\n",
    "fname = \"state01_AL.txt\"\n",
    "fpath = USHCN.rawdata_path.joinpath(fname + \".gz\")"
   ]
  },
  {
   "cell_type": "code",
   "execution_count": null,
   "metadata": {},
   "outputs": [],
   "source": [
    "%%time\n",
    "with gzip.open(fpath) as file:\n",
    "    ds = pandas.read_fwf(\n",
    "        file, names=colspecs, widths=widths, header=None, dtype=dtype, na_values=-9999\n",
    "    )\n",
    "\n",
    "ds"
   ]
  },
  {
   "cell_type": "markdown",
   "metadata": {},
   "source": [
    "# preprocessing the data"
   ]
  },
  {
   "cell_type": "code",
   "execution_count": null,
   "metadata": {},
   "outputs": [],
   "source": [
    "id_cols = [\"COOP_ID\", \"YEAR\", \"MONTH\", \"ELEMENT\"]\n",
    "data_cols = [\"VALUE\", \"MFLAG\", \"QFLAG\", \"SFLAG\"]\n",
    "data_cols = [col for col in ds.columns if col not in id_cols]\n",
    "columns = pandas.MultiIndex.from_tuples(ds[data_cols], names=[\"VAR\", \"DAY\"])\n",
    "data = pandas.DataFrame(ds[data_cols], columns=columns)\n",
    "data.index.name = \"INDEX\"\n",
    "data"
   ]
  },
  {
   "cell_type": "code",
   "execution_count": null,
   "metadata": {},
   "outputs": [],
   "source": [
    "%%time\n",
    "# Pure magic https://stackoverflow.com/a/27044843/9318372\n",
    "data = data.stack(level=\"DAY\", dropna=False).reset_index(level=\"DAY\")"
   ]
  },
  {
   "cell_type": "code",
   "execution_count": null,
   "metadata": {},
   "outputs": [],
   "source": [
    "%%time\n",
    "data = ds[id_cols].join(data, how=\"inner\").reset_index()\n",
    "data = data.astype(dtypes | {\"DAY\": integer})\n",
    "data = data[\n",
    "    [\"COOP_ID\", \"YEAR\", \"MONTH\", \"DAY\", \"ELEMENT\", \"MFLAG\", \"QFLAG\", \"SFLAG\", \"VALUE\"]\n",
    "]"
   ]
  },
  {
   "cell_type": "code",
   "execution_count": null,
   "metadata": {},
   "outputs": [],
   "source": [
    "%%time\n",
    "mask = pandas.isna(data[[\"MFLAG\", \"QFLAG\", \"SFLAG\", \"VALUE\"]]).sum(axis=1) < 4\n",
    "data = data[mask]\n",
    "data = data.sort_values(by=[\"YEAR\", \"MONTH\", \"DAY\", \"COOP_ID\", \"ELEMENT\"]).reset_index(\n",
    "    drop=True\n",
    ")\n",
    "data"
   ]
  },
  {
   "cell_type": "markdown",
   "metadata": {},
   "source": [
    "# ALternative: Use Modin for speedup"
   ]
  },
  {
   "cell_type": "code",
   "execution_count": null,
   "metadata": {
    "tags": []
   },
   "outputs": [],
   "source": [
    "rayimport os\n",
    "import ray\n",
    "ray.init()\n",
    "\n",
    "os.environ[\"MODIN_ENGINE\"] = \"ray\"  # Modin will use Ray\n",
    "# os.environ[\"MODIN_ENGINE\"] = \"dask\"  # Modin will use Dask"
   ]
  },
  {
   "cell_type": "code",
   "execution_count": null,
   "metadata": {
    "tags": []
   },
   "outputs": [],
   "source": [
    "# problem: currently only works uncompressed.\n",
    "\n",
    "from modin import pandas as pd\n",
    "\n",
    "fname = \"us.txt\"\n",
    "fpath2 = USHCN.rawdata_path.joinpath(fname)"
   ]
  },
  {
   "cell_type": "code",
   "execution_count": null,
   "metadata": {},
   "outputs": [],
   "source": [
    "%%time\n",
    "ds = pd.read_fwf(\n",
    "    fpath2, names=colspecs, widths=widths, header=None, na_values=-9999, dtype=dtype\n",
    ")"
   ]
  },
  {
   "cell_type": "code",
   "execution_count": null,
   "metadata": {},
   "outputs": [],
   "source": [
    "id_cols = [\"COOP_ID\", \"YEAR\", \"MONTH\", \"ELEMENT\"]\n",
    "data_cols = [\"VALUE\", \"MFLAG\", \"QFLAG\", \"SFLAG\"]\n",
    "data_cols = [col for col in ds.columns if col not in id_cols]\n",
    "columns = pd.MultiIndex.from_tuples(ds[data_cols], names=[\"VAR\", \"DAY\"])\n",
    "data = pd.DataFrame(ds[data_cols], columns=columns)\n",
    "# data.columns  = columns\n",
    "# data.index.name=\"INDEX\"\n",
    "data"
   ]
  },
  {
   "cell_type": "code",
   "execution_count": null,
   "metadata": {},
   "outputs": [],
   "source": []
  },
  {
   "cell_type": "code",
   "execution_count": null,
   "metadata": {},
   "outputs": [],
   "source": []
  },
  {
   "cell_type": "code",
   "execution_count": null,
   "metadata": {},
   "outputs": [],
   "source": [
    "pd.DataFrame(data)"
   ]
  },
  {
   "cell_type": "code",
   "execution_count": null,
   "metadata": {
    "tags": []
   },
   "outputs": [],
   "source": [
    "%%time\n",
    "# Pure magic https://stackoverflow.com/a/27044843/9318372\n",
    "data = data.stack(level=\"DAY\", dropna=False).reset_index(level=\"DAY\")"
   ]
  },
  {
   "cell_type": "code",
   "execution_count": null,
   "metadata": {},
   "outputs": [],
   "source": [
    "%%time\n",
    "data = ds[id_cols]._to_pandas().join(data, how=\"inner\").reset_index()\n",
    "data = data.astype(dtypes | {\"DAY\": integer})\n",
    "data = data[\n",
    "    [\"COOP_ID\", \"YEAR\", \"MONTH\", \"DAY\", \"ELEMENT\", \"MFLAG\", \"QFLAG\", \"SFLAG\", \"VALUE\"]\n",
    "]"
   ]
  },
  {
   "cell_type": "code",
   "execution_count": null,
   "metadata": {},
   "outputs": [],
   "source": [
    "%%time\n",
    "mask = pandas.isna(data[[\"MFLAG\", \"QFLAG\", \"SFLAG\", \"VALUE\"]]).sum(axis=1) < 4\n",
    "data = data[mask]\n",
    "data = data.sort_values(by=[\"YEAR\", \"MONTH\", \"DAY\", \"COOP_ID\", \"ELEMENT\"]).reset_index(\n",
    "    drop=True\n",
    ")\n",
    "data"
   ]
  }
 ],
 "metadata": {
  "kernelspec": {
   "display_name": "Python 3 (ipykernel)",
   "language": "python",
   "name": "python3"
  },
  "language_info": {
   "codemirror_mode": {
    "name": "ipython",
    "version": 3
   },
   "file_extension": ".py",
   "mimetype": "text/x-python",
   "name": "python",
   "nbconvert_exporter": "python",
   "pygments_lexer": "ipython3",
   "version": "3.9.7"
  }
 },
 "nbformat": 4,
 "nbformat_minor": 4
}
