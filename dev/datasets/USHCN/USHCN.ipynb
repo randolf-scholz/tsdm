{
 "cells": [
  {
   "cell_type": "markdown",
   "metadata": {},
   "source": [
    "# Title"
   ]
  },
  {
   "cell_type": "code",
   "execution_count": null,
   "metadata": {},
   "outputs": [],
   "source": [
    "%config InteractiveShell.ast_node_interactivity='last_expr_or_assign'  # always print last expr.\n",
    "%config InlineBackend.figure_format = 'svg'\n",
    "%load_ext autoreload\n",
    "%autoreload 2\n",
    "%matplotlib inline\n",
    "\n",
    "import pandas\n",
    "\n",
    "pandas.options.display.max_rows = 6"
   ]
  },
  {
   "cell_type": "code",
   "execution_count": null,
   "metadata": {},
   "outputs": [],
   "source": [
    "from tsdm.datasets import BaseDataset"
   ]
  },
  {
   "cell_type": "code",
   "execution_count": null,
   "metadata": {
    "tags": []
   },
   "outputs": [],
   "source": [
    "class USHCN(BaseDataset):\n",
    "    url = \"https://cdiac.ess-dive.lbl.gov/ftp/ushcn_daily/\"\n",
    "\n",
    "\n",
    "# USHCN.download()"
   ]
  },
  {
   "cell_type": "markdown",
   "metadata": {},
   "source": [
    "# State Codes"
   ]
  },
  {
   "cell_type": "code",
   "execution_count": null,
   "metadata": {},
   "outputs": [],
   "source": [
    "# Best viewed with elastic tabstops!\n",
    "from io import StringIO\n",
    "\n",
    "STATE_CODES = r\"\"\"\n",
    "ID\tAbbr.\tState\n",
    "01\tAL\tAlabama\n",
    "02\tAZ\tArizona\n",
    "03\tAR\tArkansas\n",
    "04\tCA\tCalifornia\n",
    "05\tCO\tColorado\n",
    "06\tCT\tConnecticut\n",
    "07\tDE\tDelaware\n",
    "08\tFL\tFlorida\n",
    "09\tGA\tGeorgia\n",
    "10\tID\tIdaho\n",
    "11\tIL\tIdaho\n",
    "12\tIN\tIndiana\n",
    "13\tIA\tIowa\n",
    "14\tKS\tKansas\n",
    "15\tKY\tKentucky\n",
    "16\tLA\tLouisiana\n",
    "17\tME\tMaine\n",
    "18\tMD\tMaryland\n",
    "19\tMA\tMassachusetts\n",
    "20\tMI\tMichigan\n",
    "21\tMN\tMinnesota\n",
    "22\tMS\tMississippi\n",
    "23\tMO\tMissouri\n",
    "24\tMT\tMontana\n",
    "25\tNE\tNebraska\n",
    "26\tNV\tNevada\n",
    "27\tNH\tNewHampshire\n",
    "28\tNJ\tNewJersey\n",
    "29\tNM\tNewMexico\n",
    "30\tNY\tNewYork\n",
    "31\tNC\tNorthCarolina\n",
    "32\tND\tNorthDakota\n",
    "33\tOH\tOhio\n",
    "34\tOK\tOklahoma\n",
    "35\tOR\tOregon\n",
    "36\tPA\tPennsylvania\n",
    "37\tRI\tRhodeIsland\n",
    "38\tSC\tSouthCarolina\n",
    "39\tSD\tSouthDakota\n",
    "40\tTN\tTennessee\n",
    "41\tTX\tTexas\n",
    "42\tUT\tUtah\n",
    "43\tVT\tVermont\n",
    "44\tVA\tVirginia\n",
    "45\tWA\tWashington\n",
    "46\tWV\tWestVirginia\n",
    "47\tWI\tWisconsin\n",
    "48\tWY\tWyoming\n",
    "\"\"\"\n",
    "\n",
    "\n",
    "state_dtypes = {\n",
    "    \"ID\": pandas.CategoricalDtype(ordered=True),\n",
    "    \"Abbr.\": pandas.CategoricalDtype(ordered=True),\n",
    "    \"State\": pandas.StringDtype(),\n",
    "}\n",
    "states = pandas.read_csv(StringIO(STATE_CODES), sep=\"\\t\", dtype=state_dtypes)"
   ]
  },
  {
   "cell_type": "code",
   "execution_count": null,
   "metadata": {},
   "outputs": [],
   "source": [
    "states.to_parquet(\"a.pq\")\n",
    "states2 = pandas.read_parquet(\"a.pq\")\n",
    "pandas.testing.assert_frame_equal(states, states2)"
   ]
  },
  {
   "cell_type": "markdown",
   "metadata": {},
   "source": [
    "# Stations Meta-Data"
   ]
  },
  {
   "cell_type": "code",
   "execution_count": null,
   "metadata": {},
   "outputs": [],
   "source": [
    "station_colspecs = {\n",
    "    \"COOP_ID\": (1, 6),\n",
    "    \"LATITUDE\": (8, 15),\n",
    "    \"LONGITUDE\": (17, 25),\n",
    "    \"ELEVATION\": (27, 32),\n",
    "    \"STATE\": (34, 35),\n",
    "    \"NAME\": (37, 66),\n",
    "    \"COMPONENT_1\": (68, 73),\n",
    "    \"COMPONENT_2\": (75, 80),\n",
    "    \"COMPONENT_3\": (82, 87),\n",
    "    \"UTC_OFFSET\": (89, 90),\n",
    "}\n",
    "\n",
    "# fix colspec to 0-index, half open interval\n",
    "station_colspecs = {key: (a - 1, b) for key, (a, b) in station_colspecs.items()}\n",
    "\n",
    "station_dtypes = {\n",
    "    \"COOP_ID\": pandas.CategoricalDtype(ordered=True),\n",
    "    \"LATITUDE\": pandas.Float32Dtype(),\n",
    "    \"LONGITUDE\": pandas.Float32Dtype(),\n",
    "    \"ELEVATION\": pandas.Float32Dtype(),\n",
    "    \"STATE\": states.ID.dtype,\n",
    "    \"NAME\": pandas.StringDtype(),\n",
    "    \"COMPONENT_1\": pandas.CategoricalDtype(ordered=True),\n",
    "    \"COMPONENT_2\": pandas.CategoricalDtype(ordered=True),\n",
    "    \"COMPONENT_3\": pandas.CategoricalDtype(ordered=True),\n",
    "    \"UTC_OFFSET\": \"timedelta64[h]\",\n",
    "}\n",
    "\n",
    "station_na_values = {\n",
    "    \"ELEVATION\": -999.9,\n",
    "    \"COMPONENT_1\": \"------\",\n",
    "    \"COMPONENT_2\": \"------\",\n",
    "    \"COMPONENT_3\": \"------\",\n",
    "}"
   ]
  },
  {
   "cell_type": "code",
   "execution_count": null,
   "metadata": {},
   "outputs": [],
   "source": [
    "stations_filename = \"ushcn-stations.txt\"\n",
    "stations_filepath = USHCN.rawdata_dir.joinpath(stations_filename)\n",
    "stations = pandas.read_fwf(\n",
    "    stations_filepath,\n",
    "    na_values=station_na_values,\n",
    "    colspecs=list(station_colspecs.values()),\n",
    "    header=0,\n",
    "    names=station_colspecs,\n",
    "    dtype=station_dtypes,\n",
    ")\n",
    "COOP_IDS = pandas.CategoricalDtype(stations.COOP_ID, ordered=True)\n",
    "stations.astype(\n",
    "    {\n",
    "        \"COOP_ID\": COOP_IDS,\n",
    "        \"COMPONENT_1\": COOP_IDS,\n",
    "        \"COMPONENT_2\": COOP_IDS,\n",
    "        \"COMPONENT_3\": COOP_IDS,\n",
    "    }\n",
    ")"
   ]
  },
  {
   "cell_type": "markdown",
   "metadata": {},
   "source": [
    "# Station Data"
   ]
  },
  {
   "cell_type": "code",
   "execution_count": null,
   "metadata": {
    "tags": []
   },
   "outputs": [],
   "source": [
    "MFLAGS = pandas.CategoricalDtype((\"B\", \"D\", \"H\", \"K\", \"L\", \"O\", \"P\", \"T\", \"W\"))\n",
    "QFLAGS = pandas.CategoricalDtype(\n",
    "    (\"D\", \"G\", \"I\", \"K\", \"L\", \"M\", \"N\", \"O\", \"R\", \"S\", \"T\", \"W\", \"X\", \"Z\")\n",
    ")\n",
    "SFLAGS = pandas.CategoricalDtype(\n",
    "    (\n",
    "        \"0\",\n",
    "        \"6\",\n",
    "        \"7\",\n",
    "        \"A\",\n",
    "        \"B\",\n",
    "        \"F\",\n",
    "        \"G\",\n",
    "        \"H\",\n",
    "        \"K\",\n",
    "        \"M\",\n",
    "        \"N\",\n",
    "        \"R\",\n",
    "        \"S\",\n",
    "        \"T\",\n",
    "        \"U\",\n",
    "        \"W\",\n",
    "        \"X\",\n",
    "        \"Z\",\n",
    "    )\n",
    ")\n",
    "ELEMENTS = pandas.CategoricalDtype((\"PRCP\", \"SNOW\", \"SNWD\", \"TMAX\", \"TMIN\"))\n",
    "\n",
    "\n",
    "dtypes = {\n",
    "    \"COOP_ID\": COOP_IDS,\n",
    "    \"YEAR\": pandas.UInt16Dtype(),\n",
    "    \"MONTH\": pandas.UInt8Dtype(),\n",
    "    \"ELEMENT\": ELEMENTS,\n",
    "    \"VALUE\": pandas.Int16Dtype(),\n",
    "    \"MFLAG\": MFLAGS,\n",
    "    \"QFLAG\": QFLAGS,\n",
    "    \"SFLAG\": SFLAGS,\n",
    "}\n",
    "\n",
    "# column start, stop, dtype\n",
    "colspecs = {\n",
    "    \"COOP_ID\": (1, 6),\n",
    "    \"YEAR\": (7, 10),\n",
    "    \"MONTH\": (11, 12),\n",
    "    \"ELEMENT\": (13, 16),\n",
    "}\n",
    "\n",
    "for k, i in enumerate(range(17, 258, 8)):\n",
    "    colspecs |= {\n",
    "        (\"VALUE\", k + 1): (i, i + 4),\n",
    "        (\"MFLAG\", k + 1): (i + 5, i + 5),\n",
    "        (\"QFLAG\", k + 1): (i + 6, i + 6),\n",
    "        (\"SFLAG\", k + 1): (i + 7, i + 7),\n",
    "    }\n",
    "\n",
    "    # dtype |= {\n",
    "    #     f\"VALUE-{k+1}\" : integer,\n",
    "    #     f\"MFLAG-{k+1}\" : mflag_types,\n",
    "    #     f\"QFLAG-{k+1}\" : qflag_types,\n",
    "    #     f\"SFLAG-{k+1}\" : sflag_types,\n",
    "    # }\n",
    "\n",
    "\n",
    "# These should coincide with the description in data_format.txt\n",
    "widths = [b - a + 1 for a, b in colspecs.values()]\n",
    "dtype = {\n",
    "    key: (dtypes[key[0]] if isinstance(key, tuple) else dtypes[key]) for key in colspecs\n",
    "}\n",
    "\n",
    "cspec = [(a - 1, b - 1) for a, b in colspecs.values()]\n",
    "na_values = {(\"VALUE\", k): -9999 for k in range(1, 32)}\n",
    "# ds = pandas.read_fwf(\"state32.txt\", names=colspecs, widths=widths, header=None, dtype=dtype, na_values=-9999)"
   ]
  },
  {
   "cell_type": "code",
   "execution_count": null,
   "metadata": {},
   "outputs": [],
   "source": [
    "from zipfile import ZipFile\n",
    "import gzip\n",
    "\n",
    "fname = \"state01_AL.txt\"\n",
    "fpath = USHCN.rawdata_dir.joinpath(\"us.txt\")"
   ]
  },
  {
   "cell_type": "code",
   "execution_count": null,
   "metadata": {},
   "outputs": [],
   "source": [
    "from modin import pandas as pd"
   ]
  },
  {
   "cell_type": "code",
   "execution_count": null,
   "metadata": {},
   "outputs": [],
   "source": [
    "%%time\n",
    "ds = pd.read_fwf(\n",
    "    fpath, names=colspecs, widths=widths, header=None, dtype=dtype, na_values=-9999\n",
    ")"
   ]
  },
  {
   "cell_type": "code",
   "execution_count": null,
   "metadata": {},
   "outputs": [],
   "source": [
    "times = ds[[\"YEAR\", \"MONTH\"]]"
   ]
  },
  {
   "cell_type": "code",
   "execution_count": null,
   "metadata": {},
   "outputs": [],
   "source": [
    "pd.to_datetime(times, errors=\"coerce\")"
   ]
  },
  {
   "cell_type": "code",
   "execution_count": null,
   "metadata": {},
   "outputs": [],
   "source": [
    "daskframe.from_pandas(ds._to_pandas(), chunksize=12)"
   ]
  },
  {
   "cell_type": "code",
   "execution_count": null,
   "metadata": {},
   "outputs": [],
   "source": [
    "%%time\n",
    "with gzip.open(fpath) as file:\n",
    "    ds = pandas.read_fwf(\n",
    "        file, names=colspecs, widths=widths, header=None, dtype=dtype, na_values=-9999\n",
    "    )\n",
    "\n",
    "ds"
   ]
  },
  {
   "cell_type": "code",
   "execution_count": null,
   "metadata": {},
   "outputs": [],
   "source": [
    "ds[(\"QFLAG\", 1)].fill_na"
   ]
  },
  {
   "cell_type": "markdown",
   "metadata": {
    "tags": []
   },
   "source": [
    "# preprocessing the data"
   ]
  },
  {
   "cell_type": "code",
   "execution_count": null,
   "metadata": {},
   "outputs": [],
   "source": [
    "id_cols = [\"COOP_ID\", \"YEAR\", \"MONTH\", \"ELEMENT\"]\n",
    "data_cols = [\"VALUE\", \"MFLAG\", \"QFLAG\", \"SFLAG\"]\n",
    "data_cols = [col for col in ds.columns if col not in id_cols]\n",
    "columns = pandas.MultiIndex.from_tuples(ds[data_cols], names=[\"VAR\", \"DAY\"])\n",
    "data = pandas.DataFrame(ds[data_cols], columns=columns)\n",
    "data.index.name = \"INDEX\"\n",
    "data"
   ]
  },
  {
   "cell_type": "code",
   "execution_count": null,
   "metadata": {},
   "outputs": [],
   "source": [
    "%%time\n",
    "# Pure magic https://stackoverflow.com/a/27044843/9318372\n",
    "data = data.stack(level=\"DAY\", dropna=False).reset_index(level=\"DAY\")"
   ]
  },
  {
   "cell_type": "code",
   "execution_count": null,
   "metadata": {},
   "outputs": [],
   "source": [
    "%%time\n",
    "data = ds[id_cols].join(data, how=\"inner\").reset_index()\n",
    "data = data.astype(dtypes | {\"DAY\": integer})\n",
    "data = data[\n",
    "    [\"COOP_ID\", \"YEAR\", \"MONTH\", \"DAY\", \"ELEMENT\", \"MFLAG\", \"QFLAG\", \"SFLAG\", \"VALUE\"]\n",
    "]"
   ]
  },
  {
   "cell_type": "code",
   "execution_count": null,
   "metadata": {},
   "outputs": [],
   "source": [
    "%%time\n",
    "mask = pandas.isna(data[[\"MFLAG\", \"QFLAG\", \"SFLAG\", \"VALUE\"]]).sum(axis=1) < 4\n",
    "data = data[mask]\n",
    "data = data.sort_values(by=[\"YEAR\", \"MONTH\", \"DAY\", \"COOP_ID\", \"ELEMENT\"]).reset_index(\n",
    "    drop=True\n",
    ")\n",
    "data"
   ]
  },
  {
   "cell_type": "markdown",
   "metadata": {},
   "source": [
    "# ALternative: Use Modin for speedup"
   ]
  },
  {
   "cell_type": "code",
   "execution_count": null,
   "metadata": {},
   "outputs": [],
   "source": [
    "import os\n",
    "\n",
    "os.environ[\"MODIN_ENGINE\"] = \"ray\"\n",
    "from modin import pandas as pd"
   ]
  },
  {
   "cell_type": "code",
   "execution_count": null,
   "metadata": {},
   "outputs": [],
   "source": [
    "import sys"
   ]
  },
  {
   "cell_type": "code",
   "execution_count": null,
   "metadata": {},
   "outputs": [],
   "source": [
    "{\"ray\", \"modin\"} <= sys.modules.keys()"
   ]
  },
  {
   "cell_type": "code",
   "execution_count": null,
   "metadata": {
    "tags": []
   },
   "outputs": [],
   "source": [
    "import os\n",
    "import ray"
   ]
  },
  {
   "cell_type": "code",
   "execution_count": null,
   "metadata": {
    "tags": []
   },
   "outputs": [],
   "source": [
    "ray.init(num_cpus=os.cpu_count() - 2)\n",
    "\n",
    "os.environ[\"MODIN_ENGINE\"] = \"ray\"  # Modin will use Ray\n",
    "# os.environ[\"MODIN_ENGINE\"] = \"dask\"  # Modin will use Dask"
   ]
  },
  {
   "cell_type": "code",
   "execution_count": null,
   "metadata": {
    "tags": []
   },
   "outputs": [],
   "source": [
    "# problem: currently only works uncompressed.\n",
    "\n",
    "from modin import pandas as pd\n",
    "\n",
    "fname = \"us.txt\"\n",
    "fpath2 = USHCN.rawdata_path.joinpath(fname)"
   ]
  },
  {
   "cell_type": "code",
   "execution_count": null,
   "metadata": {},
   "outputs": [],
   "source": [
    "%%time\n",
    "ds = pd.read_fwf(\n",
    "    fpath2, names=colspecs, widths=widths, header=None, na_values=-9999, dtype=dtype\n",
    ")"
   ]
  },
  {
   "cell_type": "code",
   "execution_count": null,
   "metadata": {},
   "outputs": [],
   "source": [
    "id_cols = [\"COOP_ID\", \"YEAR\", \"MONTH\", \"ELEMENT\"]\n",
    "data_cols = [\"VALUE\", \"MFLAG\", \"QFLAG\", \"SFLAG\"]\n",
    "data_cols = [col for col in ds.columns if col not in id_cols]\n",
    "columns = pd.MultiIndex.from_tuples(ds[data_cols], names=[\"VAR\", \"DAY\"])\n",
    "data = pd.DataFrame(ds[data_cols])\n",
    "data.columns = columns\n",
    "data"
   ]
  },
  {
   "cell_type": "code",
   "execution_count": null,
   "metadata": {
    "tags": []
   },
   "outputs": [],
   "source": [
    "%%time\n",
    "# Pure magic https://stackoverflow.com/a/27044843/9318372\n",
    "data = data.stack(level=\"DAY\", dropna=True).reset_index(level=\"DAY\")"
   ]
  },
  {
   "cell_type": "code",
   "execution_count": null,
   "metadata": {
    "tags": []
   },
   "outputs": [],
   "source": [
    "%%time\n",
    "_dtypes = {k: v for k, v in dtypes.items() if k in data.columns} | {\n",
    "    \"DAY\": pandas.UInt8Dtype()\n",
    "}\n",
    "data = data.astype(_dtypes)"
   ]
  },
  {
   "cell_type": "code",
   "execution_count": null,
   "metadata": {
    "tags": []
   },
   "outputs": [],
   "source": [
    "%%time\n",
    "data = ds[id_cols].join(data, how=\"inner\")"
   ]
  },
  {
   "cell_type": "code",
   "execution_count": null,
   "metadata": {},
   "outputs": [],
   "source": [
    "data.info()"
   ]
  },
  {
   "cell_type": "code",
   "execution_count": null,
   "metadata": {},
   "outputs": [],
   "source": [
    "data[[\"COOP_ID\"]].info()"
   ]
  },
  {
   "cell_type": "code",
   "execution_count": null,
   "metadata": {},
   "outputs": [],
   "source": [
    "data = data.reset_index(drop=True)"
   ]
  },
  {
   "cell_type": "code",
   "execution_count": null,
   "metadata": {},
   "outputs": [],
   "source": [
    "data.to_parquet(USHCN.dataset_file)"
   ]
  },
  {
   "cell_type": "code",
   "execution_count": null,
   "metadata": {
    "tags": []
   },
   "outputs": [],
   "source": [
    "%%time\n",
    "data = data[\n",
    "    [\"COOP_ID\", \"YEAR\", \"MONTH\", \"DAY\", \"ELEMENT\", \"MFLAG\", \"QFLAG\", \"SFLAG\", \"VALUE\"]\n",
    "]\n",
    "data = data.sort_values(by=[\"YEAR\", \"MONTH\", \"DAY\", \"COOP_ID\", \"ELEMENT\"]).reset_index(\n",
    "    drop=True\n",
    ")"
   ]
  },
  {
   "cell_type": "code",
   "execution_count": null,
   "metadata": {},
   "outputs": [],
   "source": [
    "%%time\n",
    "df2 = pd.read_feather(USHCN.dataset_path.joinpath(\"USHCN.feather\"))"
   ]
  },
  {
   "cell_type": "code",
   "execution_count": null,
   "metadata": {},
   "outputs": [],
   "source": [
    "%%time\n",
    "df2 = pd.read_parquet(USHCN.dataset_path.joinpath(\"USHCN.parquet\"))"
   ]
  },
  {
   "cell_type": "code",
   "execution_count": null,
   "metadata": {},
   "outputs": [],
   "source": [
    "%%time\n",
    "mask = pandas.isna(data[[\"MFLAG\", \"QFLAG\", \"SFLAG\", \"VALUE\"]]).sum(axis=1) < 4\n",
    "data = data[mask]\n",
    "data"
   ]
  }
 ],
 "metadata": {
  "kernelspec": {
   "display_name": "Python 3 (ipykernel)",
   "language": "python",
   "name": "python3"
  },
  "language_info": {
   "codemirror_mode": {
    "name": "ipython",
    "version": 3
   },
   "file_extension": ".py",
   "mimetype": "text/x-python",
   "name": "python",
   "nbconvert_exporter": "python",
   "pygments_lexer": "ipython3",
   "version": "3.10.4"
  }
 },
 "nbformat": 4,
 "nbformat_minor": 4
}
