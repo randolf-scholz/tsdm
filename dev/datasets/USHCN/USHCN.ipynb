{
 "cells": [
  {
   "cell_type": "markdown",
   "metadata": {},
   "source": [
    "# Title"
   ]
  },
  {
   "cell_type": "code",
   "execution_count": null,
   "metadata": {
    "execution": {
     "iopub.execute_input": "2023-05-02T14:37:32.817726Z",
     "iopub.status.busy": "2023-05-02T14:37:32.817598Z",
     "iopub.status.idle": "2023-05-02T14:37:33.286713Z",
     "shell.execute_reply": "2023-05-02T14:37:33.286282Z",
     "shell.execute_reply.started": "2023-05-02T14:37:32.817713Z"
    },
    "tags": []
   },
   "outputs": [],
   "source": [
    "%config InteractiveShell.ast_node_interactivity='last_expr_or_assign'  # always print last expr.\n",
    "%config InlineBackend.figure_format = 'svg'\n",
    "%load_ext autoreload\n",
    "%autoreload 2\n",
    "%matplotlib inline\n",
    "\n",
    "import logging\n",
    "\n",
    "import pandas\n",
    "\n",
    "logging.basicConfig(level=logging.INFO)\n",
    "pandas.options.display.max_rows = 6"
   ]
  },
  {
   "cell_type": "code",
   "execution_count": null,
   "metadata": {
    "execution": {
     "iopub.execute_input": "2023-05-02T14:37:33.287776Z",
     "iopub.status.busy": "2023-05-02T14:37:33.287562Z",
     "iopub.status.idle": "2023-05-02T14:37:36.123306Z",
     "shell.execute_reply": "2023-05-02T14:37:36.122799Z",
     "shell.execute_reply.started": "2023-05-02T14:37:33.287764Z"
    },
    "tags": []
   },
   "outputs": [],
   "source": [
    "from tsdm.datasets import USHCN"
   ]
  },
  {
   "cell_type": "code",
   "execution_count": null,
   "metadata": {
    "execution": {
     "iopub.execute_input": "2023-05-02T14:37:36.124138Z",
     "iopub.status.busy": "2023-05-02T14:37:36.123826Z",
     "iopub.status.idle": "2023-05-02T14:37:44.093538Z",
     "shell.execute_reply": "2023-05-02T14:37:44.093214Z",
     "shell.execute_reply.started": "2023-05-02T14:37:36.124125Z"
    },
    "tags": []
   },
   "outputs": [],
   "source": [
    "self = USHCN()"
   ]
  },
  {
   "cell_type": "code",
   "execution_count": null,
   "metadata": {
    "execution": {
     "iopub.execute_input": "2023-05-02T14:37:44.094082Z",
     "iopub.status.busy": "2023-05-02T14:37:44.093969Z",
     "iopub.status.idle": "2023-05-02T14:37:44.137005Z",
     "shell.execute_reply": "2023-05-02T14:37:44.136664Z",
     "shell.execute_reply.started": "2023-05-02T14:37:44.094071Z"
    },
    "tags": []
   },
   "outputs": [],
   "source": [
    "self.timeseries"
   ]
  },
  {
   "cell_type": "code",
   "execution_count": null,
   "metadata": {
    "execution": {
     "iopub.execute_input": "2023-05-02T14:37:44.137764Z",
     "iopub.status.busy": "2023-05-02T14:37:44.137608Z",
     "iopub.status.idle": "2023-05-02T14:37:45.279851Z",
     "shell.execute_reply": "2023-05-02T14:37:45.279425Z",
     "shell.execute_reply.started": "2023-05-02T14:37:44.137750Z"
    },
    "tags": []
   },
   "outputs": [],
   "source": [
    "self.timeseries.describe(percentiles=[0.01, 0.99]).T"
   ]
  },
  {
   "cell_type": "code",
   "execution_count": null,
   "metadata": {
    "execution": {
     "iopub.execute_input": "2023-05-02T14:37:45.280352Z",
     "iopub.status.busy": "2023-05-02T14:37:45.280247Z",
     "iopub.status.idle": "2023-05-02T14:37:48.669842Z",
     "shell.execute_reply": "2023-05-02T14:37:48.669353Z",
     "shell.execute_reply.started": "2023-05-02T14:37:45.280343Z"
    },
    "tags": []
   },
   "outputs": [],
   "source": [
    "self.timeseries.hist(bins=20, figsize=(16, 10), log=True, density=True);"
   ]
  },
  {
   "cell_type": "code",
   "execution_count": null,
   "metadata": {
    "execution": {
     "iopub.execute_input": "2023-05-02T14:38:40.909774Z",
     "iopub.status.busy": "2023-05-02T14:38:40.909576Z",
     "iopub.status.idle": "2023-05-02T14:38:40.963360Z",
     "shell.execute_reply": "2023-05-02T14:38:40.962766Z",
     "shell.execute_reply.started": "2023-05-02T14:38:40.909752Z"
    },
    "tags": []
   },
   "outputs": [],
   "source": [
    "self.metadata.describe().T"
   ]
  },
  {
   "cell_type": "code",
   "execution_count": null,
   "metadata": {
    "execution": {
     "iopub.execute_input": "2023-05-02T14:37:48.721965Z",
     "iopub.status.busy": "2023-05-02T14:37:48.721847Z",
     "iopub.status.idle": "2023-05-02T14:37:49.449618Z",
     "shell.execute_reply": "2023-05-02T14:37:49.449319Z",
     "shell.execute_reply.started": "2023-05-02T14:37:48.721953Z"
    },
    "tags": []
   },
   "outputs": [],
   "source": [
    "self.metadata.hist(bins=20, figsize=(16, 10));"
   ]
  }
 ],
 "metadata": {
  "kernelspec": {
   "display_name": "Python 3 (ipykernel)",
   "language": "python",
   "name": "python3"
  },
  "language_info": {
   "codemirror_mode": {
    "name": "ipython",
    "version": 3
   },
   "file_extension": ".py",
   "mimetype": "text/x-python",
   "name": "python",
   "nbconvert_exporter": "python",
   "pygments_lexer": "ipython3",
   "version": "3.11.3"
  }
 },
 "nbformat": 4,
 "nbformat_minor": 4
}
