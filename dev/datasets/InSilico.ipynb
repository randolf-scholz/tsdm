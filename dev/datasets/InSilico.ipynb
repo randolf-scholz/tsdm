{
 "cells": [
  {
   "cell_type": "code",
   "execution_count": null,
   "id": "aa0654e6-74c4-41d6-a8de-ebfebd48c925",
   "metadata": {},
   "outputs": [],
   "source": [
    "from pathlib import Path\n",
    "\n",
    "import matplotlib.pyplot as plt\n",
    "import pandas as pd"
   ]
  },
  {
   "cell_type": "code",
   "execution_count": null,
   "id": "4570d622-d55a-465d-b35a-c94712516a1e",
   "metadata": {},
   "outputs": [],
   "source": [
    "dfs = {}\n",
    "for file in Path(\"new_TF2_data\").glob(\"*.txt\"):\n",
    "    df = pd.read_csv(file, index_col=0, parse_dates=[0])\n",
    "    df = df.rename_axis(index=\"time\")\n",
    "    df[\"DOTm\"] /= 100\n",
    "    df.name = \"run_\" + \"\".join([c for c in file.name if c.isdigit()])\n",
    "    dfs[df.name] = df\n",
    "\n",
    "df"
   ]
  },
  {
   "cell_type": "code",
   "execution_count": null,
   "id": "8067b0db-4155-4464-a8de-b48f6af70c50",
   "metadata": {},
   "outputs": [],
   "source": [
    "import matplotlib.dates as mdates"
   ]
  },
  {
   "cell_type": "code",
   "execution_count": null,
   "id": "20635b7d-5e29-4355-b061-9e011b5ff237",
   "metadata": {},
   "outputs": [],
   "source": [
    "plt.style.use(\"ggplot\")\n",
    "fig, axes = plt.subplots(\n",
    "    nrows=2,\n",
    "    ncols=4,\n",
    "    figsize=(16, 8),\n",
    "    sharex=True,\n",
    "    sharey=True,\n",
    "    tight_layout=True,\n",
    "    subplot_kw={\"yscale\": \"log\"},\n",
    ")\n",
    "\n",
    "for df, ax in zip(dfs.values(), axes.flatten()):\n",
    "    x = df.index\n",
    "    for col in df.columns:\n",
    "        if col in (\"Biomass\", \"Substrate\", \"Acetate\", \"Product\"):\n",
    "            y = df[col]\n",
    "            mask = pd.notna(y)\n",
    "            (line,) = ax.plot(x[mask], y[mask], ls=\"--\", lw=1, marker=\"*\")\n",
    "            ax.plot(x, y, color=line.get_color(), lw=1.5)\n",
    "    ax.set_title(df.name)\n",
    "    ax.xaxis.set_major_formatter(mdates.DateFormatter(\"%H:%M\"))\n",
    "    ax.tick_params(\"x\", labelrotation=60)"
   ]
  },
  {
   "cell_type": "code",
   "execution_count": null,
   "id": "414330c4-3eb6-43fe-8760-f85dff030d7c",
   "metadata": {},
   "outputs": [],
   "source": [
    "import os\n",
    "\n",
    "if os.path.exists(\"in_silico_data.h5\"):\n",
    "    os.remove(\"in_silico_data.h5\")\n",
    "\n",
    "for df in dfs.values():\n",
    "    df.to_hdf(\"in_silico_data.h5\", key=df.name, mode=\"a\")"
   ]
  },
  {
   "cell_type": "code",
   "execution_count": null,
   "id": "aa236a24-e0ff-4682-ba0d-4fbc0f12b586",
   "metadata": {},
   "outputs": [],
   "source": [
    "import h5py\n",
    "import pandas as pd\n",
    "\n",
    "with h5py.File(\"in_silico_data.h5\", \"r\") as file:\n",
    "    read_dfs = {}\n",
    "    for key in file.keys():\n",
    "        read_dfs[key] = pd.read_hdf(\"in_silico_data.h5\", key=key)"
   ]
  },
  {
   "cell_type": "code",
   "execution_count": null,
   "id": "1ad9c05f-a431-4eb5-acaf-eb5accdbc4a6",
   "metadata": {},
   "outputs": [],
   "source": [
    "for key in dfs:\n",
    "    pd.testing.assert_frame_equal(dfs[key], read_dfs[key])"
   ]
  },
  {
   "cell_type": "code",
   "execution_count": null,
   "id": "2322926e-b9af-47b0-80bd-9166303343b5",
   "metadata": {},
   "outputs": [],
   "source": [
    "read_dfs[\"run_16130\"]"
   ]
  },
  {
   "cell_type": "code",
   "execution_count": null,
   "id": "9ed389c3-e092-4798-90d3-f089d670c909",
   "metadata": {},
   "outputs": [],
   "source": [
    "tables = list(dfs.values())\n",
    "\n",
    "for col in tables[0].columns:\n",
    "    print(f\">>> {col} <<<\")\n",
    "    for df in tables:\n",
    "        print(df[col].min(), df[col].max())"
   ]
  },
  {
   "cell_type": "code",
   "execution_count": null,
   "id": "3824373a-c738-4f5f-ab8d-e82b0571f7c6",
   "metadata": {},
   "outputs": [],
   "source": []
  }
 ],
 "metadata": {
  "kernelspec": {
   "display_name": "Python 3 (ipykernel)",
   "language": "python",
   "name": "python3"
  },
  "language_info": {
   "codemirror_mode": {
    "name": "ipython",
    "version": 3
   },
   "file_extension": ".py",
   "mimetype": "text/x-python",
   "name": "python",
   "nbconvert_exporter": "python",
   "pygments_lexer": "ipython3",
   "version": "3.11.3"
  }
 },
 "nbformat": 4,
 "nbformat_minor": 5
}
