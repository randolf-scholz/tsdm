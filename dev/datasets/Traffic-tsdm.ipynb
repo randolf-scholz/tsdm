{
 "cells": [
  {
   "cell_type": "markdown",
   "id": "644fc9a2-7b35-483d-860e-d1e77185c197",
   "metadata": {
    "tags": []
   },
   "source": [
    "# Traffic Dataset\n",
    "\n",
    "There are two files for each fold, the data file and the labels file. We have split the 440 time series between train and test folds, but you are of course free to merge them to consider a different cross validation setting.\n",
    "- The PEMS_train textfile has 263 lines. Each line describes a time-series provided as a matrix. The matrix syntax is that of Matlab, e.g. [ a b ; c d] is the matrix with row vectors [a b] and [c d] in that order. Each matrix describes the different occupancies rates (963 lines, one for each station/detector) sampled every 10 minutes during the day (144 columns).\n",
    "- The PEMS_trainlabel text describes, for each day of measurements described above, the day of the week on which the data was sampled, namely an integer between 1 (Mon.) and 7 (Sun.).\n",
    "\n",
    "- PEMS_test and PEMS_testlabels are formatted in the same way, except that there are 173 test instances.\n",
    "\n",
    "- The permutation that I used to shuffle the dataset is given in the randperm file. If you need to rearrange the data so that it follows the calendar order, you should merge train and test samples and reorder them using the inverse permutation of randperm."
   ]
  },
  {
   "cell_type": "code",
   "execution_count": null,
   "id": "48ad4886-bf56-4f02-83f8-e949b5a12e6b",
   "metadata": {},
   "outputs": [],
   "source": [
    "%config InteractiveShell.ast_node_interactivity='last_expr_or_assign'  # always print last expr.\n",
    "%config InlineBackend.figure_format = 'svg'\n",
    "%load_ext autoreload\n",
    "%autoreload 2\n",
    "%matplotlib inline\n",
    "\n",
    "import logging\n",
    "logging.basicConfig(level=logging.INFO)"
   ]
  },
  {
   "cell_type": "code",
   "execution_count": null,
   "id": "d1e22b6e-7e7c-436a-8b70-828745d0ead8",
   "metadata": {},
   "outputs": [],
   "source": [
    "import pandas\n",
    "from tsdm.datasets import Traffic"
   ]
  },
  {
   "cell_type": "code",
   "execution_count": null,
   "id": "a89c7343-aff5-4aba-93e3-526b44c7b70d",
   "metadata": {
    "tags": []
   },
   "outputs": [],
   "source": [
    "ds = Traffic()"
   ]
  },
  {
   "cell_type": "code",
   "execution_count": null,
   "id": "bf1ff3fd-6874-47fa-9e66-bc2df3b430f7",
   "metadata": {},
   "outputs": [],
   "source": [
    "ds"
   ]
  },
  {
   "cell_type": "code",
   "execution_count": null,
   "id": "b7afcf90-3d47-487d-9fc7-151a5bc101b4",
   "metadata": {},
   "outputs": [],
   "source": [
    "ds.dataset"
   ]
  },
  {
   "cell_type": "code",
   "execution_count": null,
   "id": "ebe07a6b-7657-464d-bdbc-019ce007e19a",
   "metadata": {},
   "outputs": [],
   "source": [
    "list(iter(ds))"
   ]
  },
  {
   "cell_type": "code",
   "execution_count": null,
   "id": "26dae7ca-aba6-4983-8f85-0f468c8e7cd9",
   "metadata": {},
   "outputs": [],
   "source": [
    "from pandas import Series, DataFrame\n",
    "from collections.abc import Mapping"
   ]
  },
  {
   "cell_type": "code",
   "execution_count": null,
   "id": "5db05d24-4c44-4a72-b7b9-e9ce9f9a808e",
   "metadata": {},
   "outputs": [],
   "source": [
    "s = Series(range(3), index=[\"keys\", \"values\", \"items\"])"
   ]
  },
  {
   "cell_type": "code",
   "execution_count": null,
   "id": "bceb5e88-5394-422c-aafc-4ee7e471ca61",
   "metadata": {},
   "outputs": [],
   "source": [
    "isinstance(s, Mapping)"
   ]
  },
  {
   "cell_type": "code",
   "execution_count": null,
   "id": "81b80437-3a61-473d-948c-e7c9443f24fe",
   "metadata": {},
   "outputs": [],
   "source": [
    "from time import perf_counter\n"
   ]
  },
  {
   "cell_type": "code",
   "execution_count": null,
   "id": "f08b2769-790e-4eb8-bccc-9de5948e0772",
   "metadata": {},
   "outputs": [],
   "source": []
  },
  {
   "cell_type": "code",
   "execution_count": null,
   "id": "048dcc4a-9680-41f8-b4e6-ab1f976c33e2",
   "metadata": {},
   "outputs": [],
   "source": [
    "start = perf_counter()\n",
    "s = Series(data=ds.dataset.values(), index=ds.dataset.keys(),  dtype=object)\n",
    "display(s)\n",
    "end = perf_counter() -start"
   ]
  },
  {
   "cell_type": "code",
   "execution_count": null,
   "id": "92c5e048-1398-437e-9ad2-56626cacf214",
   "metadata": {},
   "outputs": [],
   "source": [
    "start = perf_counter()\n",
    "display(ds.dataset)"
   ]
  },
  {
   "cell_type": "code",
   "execution_count": null,
   "id": "9ea8c4e9-d9ac-46c5-b081-b8a12f7097a8",
   "metadata": {},
   "outputs": [],
   "source": []
  },
  {
   "cell_type": "code",
   "execution_count": null,
   "id": "7db884ee-9a08-4574-8d22-ee0ab3035d3e",
   "metadata": {},
   "outputs": [],
   "source": []
  }
 ],
 "metadata": {
  "kernelspec": {
   "display_name": "Python 3 (ipykernel)",
   "language": "python",
   "name": "python3"
  },
  "language_info": {
   "codemirror_mode": {
    "name": "ipython",
    "version": 3
   },
   "file_extension": ".py",
   "mimetype": "text/x-python",
   "name": "python",
   "nbconvert_exporter": "python",
   "pygments_lexer": "ipython3",
   "version": "3.9.7"
  }
 },
 "nbformat": 4,
 "nbformat_minor": 5
}
