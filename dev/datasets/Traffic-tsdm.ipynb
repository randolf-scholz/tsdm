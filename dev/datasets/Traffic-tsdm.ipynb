{
 "cells": [
  {
   "cell_type": "markdown",
   "id": "644fc9a2-7b35-483d-860e-d1e77185c197",
   "metadata": {
    "tags": []
   },
   "source": [
    "# Traffic Dataset\n",
    "\n",
    "There are two files for each fold, the data file and the labels file. We have split the 440 time series between train and test folds, but you are of course free to merge them to consider a different cross validation setting.\n",
    "- The PEMS_train textfile has 263 lines. Each line describes a time-series provided as a matrix. The matrix syntax is that of Matlab, e.g. [ a b ; c d] is the matrix with row vectors [a b] and [c d] in that order. Each matrix describes the different occupancies rates (963 lines, one for each station/detector) sampled every 10 minutes during the day (144 columns).\n",
    "- The PEMS_trainlabel text describes, for each day of measurements described above, the day of the week on which the data was sampled, namely an integer between 1 (Mon.) and 7 (Sun.).\n",
    "\n",
    "- PEMS_test and PEMS_testlabels are formatted in the same way, except that there are 173 test instances.\n",
    "\n",
    "- The permutation that I used to shuffle the dataset is given in the randperm file. If you need to rearrange the data so that it follows the calendar order, you should merge train and test samples and reorder them using the inverse permutation of randperm."
   ]
  },
  {
   "cell_type": "code",
   "execution_count": null,
   "id": "48ad4886-bf56-4f02-83f8-e949b5a12e6b",
   "metadata": {},
   "outputs": [],
   "source": [
    "%config InteractiveShell.ast_node_interactivity='last_expr_or_assign'  # always print last expr.\n",
    "%config InlineBackend.figure_format = 'svg'\n",
    "%load_ext autoreload\n",
    "%autoreload 2\n",
    "%matplotlib inline\n",
    "\n",
    "import logging\n",
    "\n",
    "logging.basicConfig(level=logging.NOTSET)"
   ]
  },
  {
   "cell_type": "code",
   "execution_count": null,
   "id": "d1e22b6e-7e7c-436a-8b70-828745d0ead8",
   "metadata": {
    "tags": []
   },
   "outputs": [],
   "source": [
    "import pandas\n",
    "from tsdm.datasets import Traffic"
   ]
  },
  {
   "cell_type": "code",
   "execution_count": null,
   "id": "a89c7343-aff5-4aba-93e3-526b44c7b70d",
   "metadata": {
    "tags": []
   },
   "outputs": [],
   "source": [
    "ds = Traffic()"
   ]
  },
  {
   "cell_type": "code",
   "execution_count": null,
   "id": "4fd66b26-c49c-45b7-ae7d-18430ed41e16",
   "metadata": {},
   "outputs": [],
   "source": [
    "ds.timeseries"
   ]
  }
 ],
 "metadata": {
  "kernelspec": {
   "display_name": "Python 3 (ipykernel)",
   "language": "python",
   "name": "python3"
  },
  "language_info": {
   "codemirror_mode": {
    "name": "ipython",
    "version": 3
   },
   "file_extension": ".py",
   "mimetype": "text/x-python",
   "name": "python",
   "nbconvert_exporter": "python",
   "pygments_lexer": "ipython3",
   "version": "3.10.5"
  }
 },
 "nbformat": 4,
 "nbformat_minor": 5
}
