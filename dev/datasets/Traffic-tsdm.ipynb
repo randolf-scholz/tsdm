{
 "cells": [
  {
   "cell_type": "markdown",
   "id": "644fc9a2-7b35-483d-860e-d1e77185c197",
   "metadata": {
    "tags": []
   },
   "source": [
    "# Traffic Dataset\n",
    "\n",
    "There are two files for each fold, the data file and the labels file. We have split the 440 time series between train and test folds, but you are of course free to merge them to consider a different cross validation setting.\n",
    "- The PEMS_train textfile has 263 lines. Each line describes a time-series provided as a matrix. The matrix syntax is that of Matlab, e.g. [ a b ; c d] is the matrix with row vectors [a b] and [c d] in that order. Each matrix describes the different occupancies rates (963 lines, one for each station/detector) sampled every 10 minutes during the day (144 columns).\n",
    "- The PEMS_trainlabel text describes, for each day of measurements described above, the day of the week on which the data was sampled, namely an integer between 1 (Mon.) and 7 (Sun.).\n",
    "\n",
    "- PEMS_test and PEMS_testlabels are formatted in the same way, except that there are 173 test instances.\n",
    "\n",
    "- The permutation that I used to shuffle the dataset is given in the randperm file. If you need to rearrange the data so that it follows the calendar order, you should merge train and test samples and reorder them using the inverse permutation of randperm."
   ]
  },
  {
   "cell_type": "code",
   "execution_count": null,
   "id": "48ad4886-bf56-4f02-83f8-e949b5a12e6b",
   "metadata": {},
   "outputs": [],
   "source": [
    "%config InteractiveShell.ast_node_interactivity='last_expr_or_assign'  # always print last expr.\n",
    "%config InlineBackend.figure_format = 'svg'\n",
    "%load_ext autoreload\n",
    "%autoreload 2\n",
    "%matplotlib inline\n",
    "\n",
    "import logging\n",
    "\n",
    "logging.basicConfig(level=logging.INFO)"
   ]
  },
  {
   "cell_type": "code",
   "execution_count": null,
   "id": "d1e22b6e-7e7c-436a-8b70-828745d0ead8",
   "metadata": {},
   "outputs": [],
   "source": [
    "import pandas\n",
    "from tsdm.datasets import Traffic"
   ]
  },
  {
   "cell_type": "code",
   "execution_count": null,
   "id": "a89c7343-aff5-4aba-93e3-526b44c7b70d",
   "metadata": {
    "tags": []
   },
   "outputs": [],
   "source": [
    "ds = Traffic(initialize=False)"
   ]
  },
  {
   "cell_type": "code",
   "execution_count": null,
   "id": "04130818-3902-44d7-832a-74a0808f4cf5",
   "metadata": {},
   "outputs": [],
   "source": [
    "ds.randperm"
   ]
  },
  {
   "cell_type": "code",
   "execution_count": null,
   "id": "c2d826f4-6aec-4484-9110-60440432369c",
   "metadata": {},
   "outputs": [],
   "source": [
    "raise"
   ]
  },
  {
   "cell_type": "code",
   "execution_count": null,
   "id": "329b3f8c-7edc-4787-8c77-d83205655a7b",
   "metadata": {},
   "outputs": [],
   "source": [
    "class attribute:\n",
    "    __slots__ = (\"payload\",)\n",
    "\n",
    "    def __init__(self, item):\n",
    "        self.payload = item\n",
    "\n",
    "    def __get__(self, obj, type=None):\n",
    "        return self.payload"
   ]
  },
  {
   "cell_type": "code",
   "execution_count": null,
   "id": "64061229-abf6-4025-9906-05dee13c56ff",
   "metadata": {},
   "outputs": [],
   "source": [
    "from functools import wraps"
   ]
  },
  {
   "cell_type": "code",
   "execution_count": null,
   "id": "f0cf3fbb-a4e1-4bb9-bc9c-579e1954de72",
   "metadata": {},
   "outputs": [],
   "source": [
    "def attribute(\n",
    "    func,\n",
    "):\n",
    "    \"\"\"An Attribute\"\"\"\n",
    "\n",
    "    @wraps(func, updated=())\n",
    "    class _attribute:\n",
    "        # \"\"\"Ineternal Attribute\"\"\"\n",
    "        # __slots__ = (\"func\", \"payload\", \"__doc__\")\n",
    "        senitel = object()\n",
    "        # __doc__ = \"trololol\"\n",
    "\n",
    "        def __init__(self, func):\n",
    "            \"\"\"lol\"\"\"\n",
    "            self.func = func\n",
    "            self.payload = self.senitel\n",
    "\n",
    "        def __get__(self, obj, type=None):\n",
    "            \"\"\"blub\"\"\"\n",
    "            if obj is None:\n",
    "                self.__doc__ = func.__doc__\n",
    "                return self\n",
    "            if self.payload is self.senitel:\n",
    "                self.payload = self.func(obj)\n",
    "            return self.payload\n",
    "\n",
    "        def __set__(self, obj, value):\n",
    "            \"\"\"bla\"\"\"\n",
    "            raise NotImplementedError()\n",
    "\n",
    "    return _attribute(func)"
   ]
  },
  {
   "cell_type": "code",
   "execution_count": null,
   "id": "a3af581e-3d63-44eb-b763-bc07974b7bd8",
   "metadata": {},
   "outputs": [],
   "source": [
    "from time import sleep"
   ]
  },
  {
   "cell_type": "code",
   "execution_count": null,
   "id": "4f87dabb-941b-49a8-8033-99894c165212",
   "metadata": {},
   "outputs": [],
   "source": [
    "class Foo:\n",
    "    x = 3\n",
    "\n",
    "    @attribute\n",
    "    def slow(self):\n",
    "        \"\"\"This attribute is expensive to compute!\"\"\"\n",
    "        print(\"computing\")\n",
    "        return self.x + 42"
   ]
  },
  {
   "cell_type": "code",
   "execution_count": null,
   "id": "66f0bba5-ac33-4f5c-a69f-9a9de34d8d04",
   "metadata": {},
   "outputs": [],
   "source": [
    "help(Foo)"
   ]
  },
  {
   "cell_type": "code",
   "execution_count": null,
   "id": "2756772f-b7b3-4d35-8747-e0159a3cebe2",
   "metadata": {},
   "outputs": [],
   "source": [
    "Foo.slow.__doc__"
   ]
  },
  {
   "cell_type": "code",
   "execution_count": null,
   "id": "eda4d03f-d00a-4e28-ab8f-e3e938a80050",
   "metadata": {},
   "outputs": [],
   "source": [
    "help(Foo.slow)"
   ]
  },
  {
   "cell_type": "code",
   "execution_count": null,
   "id": "1f32e42f-3f25-486c-a3df-a40f632a33c6",
   "metadata": {},
   "outputs": [],
   "source": [
    "import os\n",
    "\n",
    "\n",
    "class DirectorySize:\n",
    "    def __get__(self, obj, objtype=None):\n",
    "        return len(os.listdir(obj.dirname))\n",
    "\n",
    "\n",
    "class Directory:\n",
    "\n",
    "    size = DirectorySize()  # Descriptor instance\n",
    "\n",
    "    def __init__(self, dirname):\n",
    "        self.dirname = dirname  # Regular instance attribute"
   ]
  },
  {
   "cell_type": "code",
   "execution_count": null,
   "id": "6d2a2f83-cb54-4502-a706-a0760d0780a8",
   "metadata": {},
   "outputs": [],
   "source": [
    "help(Directory)"
   ]
  },
  {
   "cell_type": "code",
   "execution_count": null,
   "id": "2043363f-76aa-44b2-96ff-b825bf2b9996",
   "metadata": {},
   "outputs": [],
   "source": [
    "Foo.slow"
   ]
  },
  {
   "cell_type": "code",
   "execution_count": null,
   "id": "e6a24023-0790-43dc-a9ee-214adef65ad7",
   "metadata": {},
   "outputs": [],
   "source": [
    "obj = Foo()"
   ]
  },
  {
   "cell_type": "code",
   "execution_count": null,
   "id": "8e9346ce-9040-4091-9c82-9f2446c24c1b",
   "metadata": {},
   "outputs": [],
   "source": [
    "help(Foo)"
   ]
  },
  {
   "cell_type": "code",
   "execution_count": null,
   "id": "bb9262d2-4e4f-430d-96e1-9d04f7d8d5cc",
   "metadata": {},
   "outputs": [],
   "source": [
    "type(Foo.a)"
   ]
  },
  {
   "cell_type": "code",
   "execution_count": null,
   "id": "e372b65f-19a1-4c8d-bf20-8eafd4846852",
   "metadata": {},
   "outputs": [],
   "source": [
    "Foo.a"
   ]
  },
  {
   "cell_type": "code",
   "execution_count": null,
   "id": "3858b109-f837-4c14-8666-3d594732c1ae",
   "metadata": {},
   "outputs": [],
   "source": [
    "from types import MethodType"
   ]
  },
  {
   "cell_type": "code",
   "execution_count": null,
   "id": "5f2b0fbf-055c-48b7-b986-08f4e3cc27f6",
   "metadata": {},
   "outputs": [],
   "source": [
    "?MethodType"
   ]
  },
  {
   "cell_type": "code",
   "execution_count": null,
   "id": "bf1ff3fd-6874-47fa-9e66-bc2df3b430f7",
   "metadata": {},
   "outputs": [],
   "source": [
    "ds"
   ]
  },
  {
   "cell_type": "code",
   "execution_count": null,
   "id": "b7afcf90-3d47-487d-9fc7-151a5bc101b4",
   "metadata": {},
   "outputs": [],
   "source": [
    "ds.dataset"
   ]
  },
  {
   "cell_type": "code",
   "execution_count": null,
   "id": "ebe07a6b-7657-464d-bdbc-019ce007e19a",
   "metadata": {},
   "outputs": [],
   "source": [
    "list(iter(ds))"
   ]
  },
  {
   "cell_type": "code",
   "execution_count": null,
   "id": "26dae7ca-aba6-4983-8f85-0f468c8e7cd9",
   "metadata": {},
   "outputs": [],
   "source": [
    "from pandas import Series, DataFrame\n",
    "from collections.abc import Mapping"
   ]
  },
  {
   "cell_type": "code",
   "execution_count": null,
   "id": "5db05d24-4c44-4a72-b7b9-e9ce9f9a808e",
   "metadata": {},
   "outputs": [],
   "source": [
    "s = Series(range(3), index=[\"keys\", \"values\", \"items\"])"
   ]
  },
  {
   "cell_type": "code",
   "execution_count": null,
   "id": "bceb5e88-5394-422c-aafc-4ee7e471ca61",
   "metadata": {},
   "outputs": [],
   "source": [
    "isinstance(s, Mapping)"
   ]
  },
  {
   "cell_type": "code",
   "execution_count": null,
   "id": "81b80437-3a61-473d-948c-e7c9443f24fe",
   "metadata": {},
   "outputs": [],
   "source": [
    "from time import perf_counter"
   ]
  },
  {
   "cell_type": "code",
   "execution_count": null,
   "id": "f08b2769-790e-4eb8-bccc-9de5948e0772",
   "metadata": {},
   "outputs": [],
   "source": []
  },
  {
   "cell_type": "code",
   "execution_count": null,
   "id": "048dcc4a-9680-41f8-b4e6-ab1f976c33e2",
   "metadata": {},
   "outputs": [],
   "source": [
    "start = perf_counter()\n",
    "s = Series(data=ds.dataset.values(), index=ds.dataset.keys(), dtype=object)\n",
    "display(s)\n",
    "end = perf_counter() - start"
   ]
  },
  {
   "cell_type": "code",
   "execution_count": null,
   "id": "92c5e048-1398-437e-9ad2-56626cacf214",
   "metadata": {},
   "outputs": [],
   "source": [
    "start = perf_counter()\n",
    "display(ds.dataset)"
   ]
  },
  {
   "cell_type": "code",
   "execution_count": null,
   "id": "9ea8c4e9-d9ac-46c5-b081-b8a12f7097a8",
   "metadata": {},
   "outputs": [],
   "source": []
  },
  {
   "cell_type": "code",
   "execution_count": null,
   "id": "7db884ee-9a08-4574-8d22-ee0ab3035d3e",
   "metadata": {},
   "outputs": [],
   "source": []
  }
 ],
 "metadata": {
  "kernelspec": {
   "display_name": "Python 3 (ipykernel)",
   "language": "python",
   "name": "python3"
  },
  "language_info": {
   "codemirror_mode": {
    "name": "ipython",
    "version": 3
   },
   "file_extension": ".py",
   "mimetype": "text/x-python",
   "name": "python",
   "nbconvert_exporter": "python",
   "pygments_lexer": "ipython3",
   "version": "3.10.4"
  }
 },
 "nbformat": 4,
 "nbformat_minor": 5
}
