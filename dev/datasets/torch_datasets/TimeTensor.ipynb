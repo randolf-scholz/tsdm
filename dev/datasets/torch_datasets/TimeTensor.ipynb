{
 "cells": [
  {
   "cell_type": "code",
   "execution_count": null,
   "id": "4d3e0b7f-a746-4350-971e-6606d7cb6405",
   "metadata": {},
   "source": [
    "%config InteractiveShell.ast_node_interactivity='last_expr_or_assign'  # always print last expr.\n",
    "%config InlineBackend.figure_format = 'svg'\n",
    "%load_ext autoreload\n",
    "%autoreload 2\n",
    "%matplotlib inline"
   ],
   "outputs": []
  },
  {
   "cell_type": "code",
   "execution_count": null,
   "id": "0549b911-9ff4-4e3d-957e-264bf21b15e1",
   "metadata": {},
   "source": [
    "import torch\n",
    "from pandas import DataFrame\n",
    "from torch import Tensor\n",
    "\n",
    "import tsdm"
   ],
   "outputs": []
  },
  {
   "cell_type": "code",
   "execution_count": null,
   "id": "9dcfb687-2e53-40cb-bfc3-2b2975275f00",
   "metadata": {},
   "source": [
    "ds = tsdm.datasets.ETT()[\"ETTh1\"]"
   ],
   "outputs": []
  },
  {
   "cell_type": "code",
   "execution_count": null,
   "id": "b391d1f2-9b8c-4d50-bd4e-097f5f82c62d",
   "metadata": {},
   "source": [
    "?torch.Tensor"
   ],
   "outputs": []
  },
  {
   "cell_type": "code",
   "execution_count": null,
   "id": "ec52c669-2853-45a9-a53c-edc6c8818d32",
   "metadata": {},
   "source": [
    "class TimeTensor(Tensor):\n",
    "    def __new__(cls, *args, index, **kwargs):\n",
    "        print(\"__new__\", f\"{args=}\", f\"{index=}\", f\"{kwargs=}\", sep=\"\\n\\t\")\n",
    "        return super().__new__(cls, *args, **kwargs)\n",
    "\n",
    "    def __init__(self, /, *args, index, **kwargs):\n",
    "        print(\n",
    "            \"__init__\", f\"{args=}\", f\"{index=}\", f\"{kwargs=}\", f\"{kwargs=}\", sep=\"\\n\\t\"\n",
    "        )\n",
    "        super().__init__()\n",
    "        self.index = index"
   ],
   "outputs": []
  },
  {
   "cell_type": "code",
   "execution_count": null,
   "id": "13d29536-3767-499f-a6fe-f0e22cddae00",
   "metadata": {},
   "source": [
    "?ds.index.get_indexer"
   ],
   "outputs": []
  },
  {
   "cell_type": "code",
   "execution_count": null,
   "id": "ecfb134d-9ec0-413b-bc87-0722e68ef478",
   "metadata": {},
   "source": [
    "ds.index.is_monotonic_increasing"
   ],
   "outputs": []
  },
  {
   "cell_type": "code",
   "execution_count": null,
   "id": "4efdf252-5d2e-4501-bd75-005f18352c70",
   "metadata": {},
   "source": [
    "from pandas import Timestamp"
   ],
   "outputs": []
  },
  {
   "cell_type": "code",
   "execution_count": null,
   "id": "560947cc-f1e9-4f5e-9fb8-1efc8cc4c9b7",
   "metadata": {},
   "source": [
    "ds.loc[\"2016-07-01\":\"2017-06-30\"]\n",
    "ds.loc[Timestamp(\"2016-07-01\") : Timestamp(\"2017-06-30\")]"
   ],
   "outputs": []
  },
  {
   "cell_type": "code",
   "execution_count": null,
   "id": "6dc6cfaf-b590-47cc-a072-570128ca24ac",
   "metadata": {},
   "source": [
    "ds.index.get_loc(\"2016-07-01\"), ds.index.get_loc(Timestamp(\"2016-07-01\"))"
   ],
   "outputs": []
  },
  {
   "cell_type": "code",
   "execution_count": null,
   "id": "d123882d-ef6b-459a-b918-55b455aa4b06",
   "metadata": {},
   "source": [
    "ds.index.get_loc(Timestamp(\"2017-06-30\")), ds.index.get_loc(\"2017-06-30\")"
   ],
   "outputs": []
  },
  {
   "cell_type": "code",
   "execution_count": null,
   "id": "1699928e-335d-4bd0-934f-e106a9b5172a",
   "metadata": {},
   "source": [
    "DataFrame(ds.index).reset_index().set_index(\"date\").loc[\n",
    "    \"2016-07-01\":\"2017-06-30\"\n",
    "].values"
   ],
   "outputs": []
  },
  {
   "cell_type": "code",
   "execution_count": null,
   "id": "2bd1d634-e15a-4269-a272-1ee90b49d7f5",
   "metadata": {},
   "source": [
    "ds.get_loc[\"2016-07-01\":\"2017-06-30\"]"
   ],
   "outputs": []
  },
  {
   "cell_type": "code",
   "execution_count": null,
   "id": "364e925e-90d3-4d8e-a97c-3324092b0709",
   "metadata": {},
   "source": [
    "idex = DataFrame(ds.index)\n",
    "idex.get_loc[\"2016-07-01\":\"2017-06-30\"]"
   ],
   "outputs": []
  },
  {
   "cell_type": "code",
   "execution_count": null,
   "id": "14068cee-3739-433f-866c-0d2d14e84b44",
   "metadata": {},
   "source": "ds.index.get_loc[\"2016-07-01\":\"2017-06-30\"]",
   "outputs": []
  },
  {
   "cell_type": "code",
   "execution_count": null,
   "id": "1620f45e-ef2e-4986-9ee0-7de133c81905",
   "metadata": {},
   "source": [
    "T = TimeTensor(ds.values, index=ds.index)"
   ],
   "outputs": []
  },
  {
   "cell_type": "code",
   "execution_count": null,
   "id": "35eff657-ae36-41f4-aafd-cdaff5b4140a",
   "metadata": {},
   "source": [
    "T.index"
   ],
   "outputs": []
  },
  {
   "cell_type": "code",
   "execution_count": null,
   "id": "71f82cd8-57c3-486a-aafc-0100b19bcb1e",
   "metadata": {},
   "source": "torch.tensor(ds.dataset.values)",
   "outputs": []
  },
  {
   "cell_type": "code",
   "execution_count": null,
   "id": "4b003430-c23e-4fd1-98af-f016480aa3df",
   "metadata": {},
   "source": [
    "repr(ds)"
   ],
   "outputs": []
  },
  {
   "cell_type": "code",
   "execution_count": null,
   "id": "2962fbdb-cbe9-4f10-b75f-dce95b7cad67",
   "metadata": {},
   "source": [
    "repr(ds)"
   ],
   "outputs": []
  },
  {
   "cell_type": "code",
   "execution_count": null,
   "id": "a761af2e-81b7-43f5-be71-50fdab3cf730",
   "metadata": {},
   "source": [
    "ds"
   ],
   "outputs": []
  },
  {
   "cell_type": "code",
   "execution_count": null,
   "id": "92dbb1be-ecb9-47dc-bd45-c35151eb6f21",
   "metadata": {},
   "source": [],
   "outputs": []
  }
 ],
 "metadata": {
  "kernelspec": {
   "display_name": "Python 3 (ipykernel)",
   "language": "python",
   "name": "python3"
  },
  "language_info": {
   "codemirror_mode": {
    "name": "ipython",
    "version": 3
   },
   "file_extension": ".py",
   "mimetype": "text/x-python",
   "name": "python",
   "nbconvert_exporter": "python",
   "pygments_lexer": "ipython3",
   "version": "3.9.7"
  }
 },
 "nbformat": 4,
 "nbformat_minor": 5
}
