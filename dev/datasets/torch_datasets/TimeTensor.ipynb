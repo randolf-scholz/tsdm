{
 "cells": [
  {
   "cell_type": "code",
   "execution_count": null,
   "id": "4d3e0b7f-a746-4350-971e-6606d7cb6405",
   "metadata": {},
   "outputs": [],
   "source": [
    "%config InteractiveShell.ast_node_interactivity='last_expr_or_assign'  # always print last expr.\n",
    "%config InlineBackend.figure_format = 'svg'\n",
    "%load_ext autoreload\n",
    "%autoreload 2\n",
    "%matplotlib inline"
   ]
  },
  {
   "cell_type": "code",
   "execution_count": null,
   "id": "0549b911-9ff4-4e3d-957e-264bf21b15e1",
   "metadata": {},
   "outputs": [],
   "source": [
    "import torch\n",
    "from pandas import DataFrame\n",
    "from torch import Tensor\n",
    "\n",
    "import tsdm"
   ]
  },
  {
   "cell_type": "code",
   "execution_count": null,
   "id": "9dcfb687-2e53-40cb-bfc3-2b2975275f00",
   "metadata": {},
   "outputs": [],
   "source": [
    "ds = tsdm.datasets.ETT()[\"ETTh1\"]"
   ]
  },
  {
   "cell_type": "code",
   "execution_count": null,
   "id": "b391d1f2-9b8c-4d50-bd4e-097f5f82c62d",
   "metadata": {},
   "outputs": [],
   "source": [
    "?torch.Tensor"
   ]
  },
  {
   "cell_type": "code",
   "execution_count": null,
   "id": "ec52c669-2853-45a9-a53c-edc6c8818d32",
   "metadata": {},
   "outputs": [],
   "source": [
    "class TimeTensor(Tensor):\n",
    "    def __new__(cls, *args, index, **kwargs):\n",
    "        print(\"__new__\", f\"{args=}\", f\"{index=}\", f\"{kwargs=}\", sep=\"\\n\\t\")\n",
    "        return super().__new__(cls, *args, **kwargs)\n",
    "\n",
    "    def __init__(self, /, *args, index, **kwargs):\n",
    "        print(\n",
    "            \"__init__\", f\"{args=}\", f\"{index=}\", f\"{kwargs=}\", f\"{kwargs=}\", sep=\"\\n\\t\"\n",
    "        )\n",
    "        super().__init__()\n",
    "        self.index = index"
   ]
  },
  {
   "cell_type": "code",
   "execution_count": null,
   "id": "13d29536-3767-499f-a6fe-f0e22cddae00",
   "metadata": {},
   "outputs": [],
   "source": [
    "?ds.index.get_indexer"
   ]
  },
  {
   "cell_type": "code",
   "execution_count": null,
   "id": "ecfb134d-9ec0-413b-bc87-0722e68ef478",
   "metadata": {},
   "outputs": [],
   "source": [
    "ds.index.is_monotonic_increasing"
   ]
  },
  {
   "cell_type": "code",
   "execution_count": null,
   "id": "4efdf252-5d2e-4501-bd75-005f18352c70",
   "metadata": {},
   "outputs": [],
   "source": [
    "from pandas import Timestamp"
   ]
  },
  {
   "cell_type": "code",
   "execution_count": null,
   "id": "560947cc-f1e9-4f5e-9fb8-1efc8cc4c9b7",
   "metadata": {},
   "outputs": [],
   "source": [
    "ds.loc[\"2016-07-01\":\"2017-06-30\"]\n",
    "ds.loc[Timestamp(\"2016-07-01\") : Timestamp(\"2017-06-30\")]"
   ]
  },
  {
   "cell_type": "code",
   "execution_count": null,
   "id": "6dc6cfaf-b590-47cc-a072-570128ca24ac",
   "metadata": {},
   "outputs": [],
   "source": [
    "ds.index.get_loc(\"2016-07-01\"), ds.index.get_loc(Timestamp(\"2016-07-01\"))"
   ]
  },
  {
   "cell_type": "code",
   "execution_count": null,
   "id": "d123882d-ef6b-459a-b918-55b455aa4b06",
   "metadata": {},
   "outputs": [],
   "source": [
    "ds.index.get_loc(Timestamp(\"2017-06-30\")), ds.index.get_loc(\"2017-06-30\")"
   ]
  },
  {
   "cell_type": "code",
   "execution_count": null,
   "id": "1699928e-335d-4bd0-934f-e106a9b5172a",
   "metadata": {},
   "outputs": [],
   "source": [
    "DataFrame(ds.index).reset_index().set_index(\"date\").loc[\n",
    "    \"2016-07-01\":\"2017-06-30\"\n",
    "].values"
   ]
  },
  {
   "cell_type": "code",
   "execution_count": null,
   "id": "2bd1d634-e15a-4269-a272-1ee90b49d7f5",
   "metadata": {},
   "outputs": [],
   "source": [
    "ds.get_loc[\"2016-07-01\":\"2017-06-30\"]"
   ]
  },
  {
   "cell_type": "code",
   "execution_count": null,
   "id": "364e925e-90d3-4d8e-a97c-3324092b0709",
   "metadata": {},
   "outputs": [],
   "source": [
    "idex = DataFrame(ds.index)\n",
    "idex.get_loc[\"2016-07-01\":\"2017-06-30\"]"
   ]
  },
  {
   "cell_type": "code",
   "execution_count": null,
   "id": "14068cee-3739-433f-866c-0d2d14e84b44",
   "metadata": {},
   "outputs": [],
   "source": [
    "ds.index.get_loc([\"2016-07-01\":\"2017-06-30\"])"
   ]
  },
  {
   "cell_type": "code",
   "execution_count": null,
   "id": "1620f45e-ef2e-4986-9ee0-7de133c81905",
   "metadata": {},
   "outputs": [],
   "source": [
    "T = TimeTensor(ds.values, index=ds.index)"
   ]
  },
  {
   "cell_type": "code",
   "execution_count": null,
   "id": "35eff657-ae36-41f4-aafd-cdaff5b4140a",
   "metadata": {},
   "outputs": [],
   "source": [
    "T.index"
   ]
  },
  {
   "cell_type": "code",
   "execution_count": null,
   "id": "71f82cd8-57c3-486a-aafc-0100b19bcb1e",
   "metadata": {},
   "outputs": [],
   "source": [
    "a\n",
    "torch.tensor(ds.dataset.values)"
   ]
  },
  {
   "cell_type": "code",
   "execution_count": null,
   "id": "4b003430-c23e-4fd1-98af-f016480aa3df",
   "metadata": {},
   "outputs": [],
   "source": [
    "repr(ds)"
   ]
  },
  {
   "cell_type": "code",
   "execution_count": null,
   "id": "2962fbdb-cbe9-4f10-b75f-dce95b7cad67",
   "metadata": {},
   "outputs": [],
   "source": [
    "repr(ds)"
   ]
  },
  {
   "cell_type": "code",
   "execution_count": null,
   "id": "a761af2e-81b7-43f5-be71-50fdab3cf730",
   "metadata": {},
   "outputs": [],
   "source": [
    "ds"
   ]
  },
  {
   "cell_type": "code",
   "execution_count": null,
   "id": "92dbb1be-ecb9-47dc-bd45-c35151eb6f21",
   "metadata": {},
   "outputs": [],
   "source": []
  }
 ],
 "metadata": {
  "kernelspec": {
   "display_name": "Python 3 (ipykernel)",
   "language": "python",
   "name": "python3"
  },
  "language_info": {
   "codemirror_mode": {
    "name": "ipython",
    "version": 3
   },
   "file_extension": ".py",
   "mimetype": "text/x-python",
   "name": "python",
   "nbconvert_exporter": "python",
   "pygments_lexer": "ipython3",
   "version": "3.9.7"
  }
 },
 "nbformat": 4,
 "nbformat_minor": 5
}
