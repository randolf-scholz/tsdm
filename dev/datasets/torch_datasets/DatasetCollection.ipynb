{
 "cells": [
  {
   "cell_type": "code",
   "execution_count": null,
   "id": "20191951-beec-414a-b3c6-89dca8277ad2",
   "metadata": {},
   "outputs": [],
   "source": [
    "%config InteractiveShell.ast_node_interactivity='last_expr_or_assign'  # always print last expr.\n",
    "%config InlineBackend.figure_format = 'svg'\n",
    "%load_ext autoreload\n",
    "%autoreload 2\n",
    "%matplotlib inline"
   ]
  },
  {
   "cell_type": "code",
   "execution_count": null,
   "id": "58b7f6d7",
   "metadata": {},
   "outputs": [],
   "source": [
    "from tsdm.datasets import DatasetCollection"
   ]
  },
  {
   "cell_type": "code",
   "execution_count": null,
   "id": "c01d4aa7-a336-4b78-9aef-09981d248e91",
   "metadata": {},
   "outputs": [],
   "source": []
  },
  {
   "cell_type": "code",
   "execution_count": null,
   "id": "6d4e7f79-ea8c-447e-8e2e-a1417f6dd04a",
   "metadata": {},
   "outputs": [],
   "source": [
    "datasets = {1: [1, 20], \"a0\": 2}"
   ]
  },
  {
   "cell_type": "code",
   "execution_count": null,
   "id": "d695b42b",
   "metadata": {},
   "outputs": [],
   "source": [
    "dsc = DatasetCollection(datasets)"
   ]
  },
  {
   "cell_type": "code",
   "execution_count": null,
   "id": "f40c8211-1536-45e5-a7cb-eec10959ee83",
   "metadata": {},
   "outputs": [],
   "source": [
    "list(dsc.items())"
   ]
  },
  {
   "cell_type": "code",
   "execution_count": null,
   "id": "8375a218-95ec-429d-a35a-606565465a7e",
   "metadata": {},
   "outputs": [],
   "source": []
  }
 ],
 "metadata": {
  "kernelspec": {
   "display_name": "Python 3 (ipykernel)",
   "language": "python",
   "name": "python3"
  },
  "language_info": {
   "codemirror_mode": {
    "name": "ipython",
    "version": 3
   },
   "file_extension": ".py",
   "mimetype": "text/x-python",
   "name": "python",
   "nbconvert_exporter": "python",
   "pygments_lexer": "ipython3",
   "version": "3.9.7"
  }
 },
 "nbformat": 4,
 "nbformat_minor": 5
}
