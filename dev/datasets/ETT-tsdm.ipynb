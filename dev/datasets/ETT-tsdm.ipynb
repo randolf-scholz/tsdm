{
 "cells": [
  {
   "cell_type": "code",
   "execution_count": null,
   "id": "5447f69d-9cb0-4fe7-a2ac-4a13cd5701b1",
   "metadata": {},
   "outputs": [],
   "source": [
    "%config InteractiveShell.ast_node_interactivity='last_expr_or_assign'  # always print last expr.\n",
    "%config InlineBackend.figure_format = 'svg'\n",
    "%load_ext autoreload\n",
    "%autoreload 2\n",
    "%matplotlib inline\n",
    "\n",
    "import logging\n",
    "\n",
    "logging.basicConfig(level=logging.INFO)"
   ]
  },
  {
   "cell_type": "code",
   "execution_count": null,
   "id": "2a221990-7613-4005-8dcf-aee3e9e9443b",
   "metadata": {},
   "outputs": [],
   "source": [
    "from tsdm.datasets import ETT"
   ]
  },
  {
   "cell_type": "code",
   "execution_count": null,
   "id": "d2ae44a1-0592-420f-bf57-58c8179b6aa0",
   "metadata": {
    "tags": []
   },
   "outputs": [],
   "source": [
    "ds = ETT()"
   ]
  },
  {
   "cell_type": "code",
   "execution_count": null,
   "id": "e0128f40-1978-4aaa-bd2e-a5a1461b497e",
   "metadata": {},
   "outputs": [],
   "source": [
    "ds.ETTm1"
   ]
  }
 ],
 "metadata": {
  "kernelspec": {
   "display_name": "Python 3 (ipykernel)",
   "language": "python",
   "name": "python3"
  },
  "language_info": {
   "codemirror_mode": {
    "name": "ipython",
    "version": 3
   },
   "file_extension": ".py",
   "mimetype": "text/x-python",
   "name": "python",
   "nbconvert_exporter": "python",
   "pygments_lexer": "ipython3",
   "version": "3.10.5"
  }
 },
 "nbformat": 4,
 "nbformat_minor": 5
}
