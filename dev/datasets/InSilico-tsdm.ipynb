{
 "cells": [
  {
   "cell_type": "code",
   "execution_count": null,
   "id": "48ad4886-bf56-4f02-83f8-e949b5a12e6b",
   "metadata": {
    "execution": {
     "iopub.execute_input": "2023-05-02T17:20:19.688699Z",
     "iopub.status.busy": "2023-05-02T17:20:19.687930Z",
     "iopub.status.idle": "2023-05-02T17:20:20.047294Z",
     "shell.execute_reply": "2023-05-02T17:20:20.046832Z",
     "shell.execute_reply.started": "2023-05-02T17:20:19.688648Z"
    },
    "tags": []
   },
   "outputs": [],
   "source": [
    "%config InteractiveShell.ast_node_interactivity='last_expr_or_assign'  # always print last expr.\n",
    "%config InlineBackend.figure_format = 'svg'\n",
    "%load_ext autoreload\n",
    "%autoreload 2\n",
    "%matplotlib inline\n",
    "\n",
    "import logging\n",
    "\n",
    "logging.basicConfig(level=logging.INFO)"
   ]
  },
  {
   "cell_type": "code",
   "execution_count": null,
   "id": "6bcb1005-18e6-4c07-b955-44a48a97a025",
   "metadata": {
    "execution": {
     "iopub.execute_input": "2023-05-02T17:20:20.048224Z",
     "iopub.status.busy": "2023-05-02T17:20:20.048017Z",
     "iopub.status.idle": "2023-05-02T17:20:23.239702Z",
     "shell.execute_reply": "2023-05-02T17:20:23.239011Z",
     "shell.execute_reply.started": "2023-05-02T17:20:20.048212Z"
    },
    "tags": []
   },
   "outputs": [],
   "source": [
    "from tsdm.datasets import InSilicoData\n",
    "\n",
    "self = InSilicoData()"
   ]
  },
  {
   "cell_type": "code",
   "execution_count": null,
   "id": "1be74551-e68c-45be-bfca-a28a785bec4d",
   "metadata": {
    "execution": {
     "iopub.execute_input": "2023-05-02T17:11:26.578911Z",
     "iopub.status.busy": "2023-05-02T17:11:26.577874Z",
     "iopub.status.idle": "2023-05-02T17:11:26.691738Z",
     "shell.execute_reply": "2023-05-02T17:11:26.691337Z",
     "shell.execute_reply.started": "2023-05-02T17:11:26.578860Z"
    },
    "tags": []
   },
   "outputs": [],
   "source": [
    "self.table.describe(percentiles=[0.01, 0.99]).T"
   ]
  },
  {
   "cell_type": "code",
   "execution_count": null,
   "id": "f5053c88-93bb-451a-aaf4-20ccb9028bfd",
   "metadata": {},
   "outputs": [],
   "source": [
    "ds.dataset.info()"
   ]
  }
 ],
 "metadata": {
  "kernelspec": {
   "display_name": "Python 3 (ipykernel)",
   "language": "python",
   "name": "python3"
  },
  "language_info": {
   "codemirror_mode": {
    "name": "ipython",
    "version": 3
   },
   "file_extension": ".py",
   "mimetype": "text/x-python",
   "name": "python",
   "nbconvert_exporter": "python",
   "pygments_lexer": "ipython3",
   "version": "3.11.3"
  }
 },
 "nbformat": 4,
 "nbformat_minor": 5
}
