{
 "cells": [
  {
   "cell_type": "code",
   "execution_count": null,
   "id": "48ad4886-bf56-4f02-83f8-e949b5a12e6b",
   "metadata": {},
   "outputs": [],
   "source": [
    "%config InteractiveShell.ast_node_interactivity='last_expr_or_assign'  # always print last expr.\n",
    "%config InlineBackend.figure_format = 'svg'\n",
    "%load_ext autoreload\n",
    "%autoreload 2\n",
    "%matplotlib inline\n",
    "\n",
    "import logging\n",
    "\n",
    "logging.basicConfig(level=logging.DEBUG)"
   ]
  },
  {
   "cell_type": "code",
   "execution_count": null,
   "id": "d1e22b6e-7e7c-436a-8b70-828745d0ead8",
   "metadata": {
    "tags": []
   },
   "outputs": [],
   "source": [
    "from tsdm.datasets import BaseDataset, SimpleDataset, Dataset\n",
    "import tsdm\n",
    "import getpass"
   ]
  },
  {
   "cell_type": "code",
   "execution_count": null,
   "id": "e8667d9f-8e78-49df-a45a-96cecc3fcd00",
   "metadata": {},
   "outputs": [],
   "source": []
  },
  {
   "cell_type": "code",
   "execution_count": null,
   "id": "19b6c1b4-736c-4ea5-8025-d068d2936d23",
   "metadata": {},
   "outputs": [],
   "source": []
  },
  {
   "cell_type": "code",
   "execution_count": null,
   "id": "7461896b-b634-4d84-822b-3ebcb19580f8",
   "metadata": {},
   "outputs": [],
   "source": [
    "import logging\n",
    "import subprocess\n",
    "\n",
    "LOGGER = logging.getLogger(__name__)\n",
    "import os\n",
    "\n",
    "\n",
    "class MIMIC_III(BaseDataset):\n",
    "    url = r\"https://physionet.org/files/mimiciii/1.4/\"\n",
    "    dataset_files = \"\"\n",
    "    rawdata_files = \"\"\n",
    "\n",
    "    def clean(self):\n",
    "        NotImplemented\n",
    "\n",
    "    def load(self):\n",
    "        NotImplemented\n",
    "\n",
    "    def download(self, *args, **kwargs):\n",
    "        r\"\"\"Download the dataset and stores it in `cls.rawdata_path`.\n",
    "\n",
    "        The default downloader checks if\n",
    "\n",
    "        1. The url points to kaggle.com => uses `kaggle competition download`\n",
    "        2. The url points to github.com => checkout directory with `svn`\n",
    "        3. Else simply use `wget` to download the `cls.url` content,\n",
    "\n",
    "        Overwrite if you need custom downloader\n",
    "        \"\"\"\n",
    "        cut_dirs = self.url.count(\"/\") - 3\n",
    "\n",
    "        user = input(\"MIMIC-III username: \")\n",
    "        password = getpass(prompt=\"MIMIC-III password: \", stream=None)\n",
    "\n",
    "        os.environ[\"PASSWORD\"] = password\n",
    "\n",
    "        url = self.url if url is None else url\n",
    "\n",
    "        subprocess.run(\n",
    "            f\"wget --user {user} --password $PASSWORD -c -r -np -nH -N \"\n",
    "            f\"--cut-dirs {cut_dirs} -P '{self.rawdata_dir}' {url}\",\n",
    "            shell=True,\n",
    "            check=True,\n",
    "        )"
   ]
  },
  {
   "cell_type": "code",
   "execution_count": null,
   "id": "0b80aa09-3286-4025-a203-2aee8c633b02",
   "metadata": {
    "tags": []
   },
   "outputs": [],
   "source": [
    "ds = MIMIC_III()\n",
    "# ds.download()"
   ]
  },
  {
   "cell_type": "code",
   "execution_count": null,
   "id": "613bc57d-a57c-4ec1-a46b-30aadfd38737",
   "metadata": {},
   "outputs": [],
   "source": [
    "ds.download()"
   ]
  },
  {
   "cell_type": "code",
   "execution_count": null,
   "id": "7b3edcfd-cb10-4ebb-9a30-01495079cf0d",
   "metadata": {},
   "outputs": [],
   "source": [
    "ds.downloadDO()"
   ]
  },
  {
   "cell_type": "code",
   "execution_count": null,
   "id": "7e7a3c91-08a1-45d3-ba80-58573bb3a974",
   "metadata": {},
   "outputs": [],
   "source": [
    "ds = tsdm.datasets.Electricity()"
   ]
  },
  {
   "cell_type": "code",
   "execution_count": null,
   "id": "853e83dc-babe-497d-9b35-b8547173218a",
   "metadata": {
    "tags": []
   },
   "outputs": [],
   "source": [
    "ds.download()"
   ]
  },
  {
   "cell_type": "code",
   "execution_count": null,
   "id": "f735c2cf-6598-4a30-941b-0b52cb22e2bf",
   "metadata": {},
   "outputs": [],
   "source": [
    "import os\n",
    "\n",
    "path = tsdm.config.DATASETDIR / \"MIMIC_III\"\n",
    "assert path.exists()\n",
    "os.listdir(path)\n",
    "import pandas as pd\n",
    "\n",
    "df = pd.read_feather(path / \"observations.feather\")\n",
    "df = df.astype({\"LABEL_CODE\": \"int16\", \"VALUENORM\": \"float32\"})\n",
    "df.to_feather(path / \"mimic_iii.feather\")"
   ]
  },
  {
   "cell_type": "code",
   "execution_count": null,
   "id": "a248938b-e03a-417f-bf6d-9f1c344e20f6",
   "metadata": {},
   "outputs": [],
   "source": [
    "df.groupby([\"LABEL_CODE\"])[\"VALUENORM\"].mean()"
   ]
  },
  {
   "cell_type": "code",
   "execution_count": null,
   "id": "a8f8b8bd-dfb1-45b2-bd23-3dd530bb1d01",
   "metadata": {},
   "outputs": [],
   "source": [
    "stats = pd.read_feather(path / \"stats.feather\")\n",
    "stats = stats.astype({\"LABEL_CODE\": \"int16\"})\n",
    "stats.to_feather(path / \"stats.feather\")\n",
    "stats"
   ]
  },
  {
   "cell_type": "code",
   "execution_count": null,
   "id": "2e0db4e7-45f1-4bd1-97a5-745bb567a05d",
   "metadata": {},
   "outputs": [],
   "source": [
    "tsdm.datasets.USHCN_SmallChunkedSporadic()"
   ]
  },
  {
   "cell_type": "code",
   "execution_count": null,
   "id": "59e4c0d5-e9a2-4107-addd-d7413ad9deb0",
   "metadata": {},
   "outputs": [],
   "source": []
  }
 ],
 "metadata": {
  "kernelspec": {
   "display_name": "Python 3 (ipykernel)",
   "language": "python",
   "name": "python3"
  },
  "language_info": {
   "codemirror_mode": {
    "name": "ipython",
    "version": 3
   },
   "file_extension": ".py",
   "mimetype": "text/x-python",
   "name": "python",
   "nbconvert_exporter": "python",
   "pygments_lexer": "ipython3",
   "version": "3.9.12"
  }
 },
 "nbformat": 4,
 "nbformat_minor": 5
}
