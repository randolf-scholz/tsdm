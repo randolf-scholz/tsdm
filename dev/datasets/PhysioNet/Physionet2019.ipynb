{
 "cells": [
  {
   "cell_type": "markdown",
   "metadata": {},
   "source": [
    "# PhysioNet2019 Implementation"
   ]
  },
  {
   "cell_type": "code",
   "execution_count": null,
   "metadata": {},
   "outputs": [],
   "source": [
    "%config InteractiveShell.ast_node_interactivity='last_expr_or_assign'  # always print last expr.\n",
    "%config InlineBackend.figure_format = 'svg'\n",
    "%load_ext autoreload\n",
    "%autoreload 2\n",
    "%matplotlib inline\n",
    "\n",
    "import logging\n",
    "\n",
    "logging.basicConfig(level=logging.INFO)"
   ]
  },
  {
   "cell_type": "code",
   "execution_count": null,
   "metadata": {},
   "outputs": [],
   "source": [
    "from tsdm.datasets import SingleFrameDataset\n",
    "from pandas import DataFrame\n",
    "import pandas as pd\n",
    "from pathlib import Path\n",
    "from functools import cached_property\n",
    "\n",
    "\n",
    "class PhysioNet2019(SingleFrameDataset):\n",
    "    BASE_URL: str = r\"https://archive.physionet.org/users/shared/challenge-2019/\"\n",
    "    r\"\"\"HTTP address from where the dataset can be downloaded\"\"\"\n",
    "    INFO_URL: str = r\"https://physionet.org/content/challenge-2019/\"\n",
    "    r\"\"\"HTTP address containing additional information about the dataset\"\"\"\n",
    "\n",
    "    rawdata_files: dict[str, str] = {\"A\": \"training_setA.zip\", \"B\": \"training_setB.zip\"}\n",
    "\n",
    "    @cached_property\n",
    "    def units(self) -> DataFrame:\n",
    "        units = [\n",
    "            # Vital signs (columns 1-8)\n",
    "            (\"HR\", \"Heart rate\", \"beats per minute\"),\n",
    "            (\"O2Sat\", \"Pulse oximetry\", \"%\"),\n",
    "            (\"Temp\", \"Temperature\", \"Deg C\"),\n",
    "            (\"SBP\", \"Systolic BP\", \"mm Hg\"),\n",
    "            (\"MAP\", \"Mean arterial pressure\", \"mm Hg\"),\n",
    "            (\"DBP\", \"Diastolic BP\", \"mm Hg\"),\n",
    "            (\"Resp\", \"Respiration rate\", \"breaths per minute\"),\n",
    "            (\"EtCO2\", \"End tidal carbon dioxide\", \"mm Hg\"),\n",
    "            # Laboratory values (columns 9-34)\n",
    "            (\"BaseExcess\", \"Measure of excess bicarbonate\", \"mmol/L\"),\n",
    "            (\"HCO3\", \"Bicarbonate\", \"mmol/L\"),\n",
    "            (\"FiO2\", \"Fraction of inspired oxygen\", \"%\"),\n",
    "            (\"pH\", \"N/A\", \"N/A\"),\n",
    "            (\n",
    "                \"PaCO2\",\n",
    "                \"Partial pressure of carbon dioxide from arterial blood\",\n",
    "                \"mm Hg\",\n",
    "            ),\n",
    "            (\"SaO2\", \"Oxygen saturation from arterial blood\", \"%\"),\n",
    "            (\"AST\", \"Aspartate transaminase\", \"IU/L\"),\n",
    "            (\"BUN\", \"Blood urea nitrogen\", \"mg/dL\"),\n",
    "            (\"Alkalinephos\", \"Alkaline phosphatase\", \"IU/L\"),\n",
    "            (\"Calcium\", \"N/A\", \"mg/dL\"),\n",
    "            (\"Chloride\", \"N/A\", \"mmol/L\"),\n",
    "            (\"Creatinine\", \"N/A\", \"mg/dL\"),\n",
    "            (\"Bilirubin_direct\", \"Bilirubin direct\", \"mg/dL\"),\n",
    "            (\"Glucose\", \"Serum glucose\", \"mg/dL\"),\n",
    "            (\"Lactate\", \"Lactic acid\", \"mg/dL\"),\n",
    "            (\"Magnesium\", \"N/A\", \"mmol/dL\"),\n",
    "            (\"Phosphate\", \"N/A\", \"mg/dL\"),\n",
    "            (\"Potassium\", \"N/A\", \"mmol/L\"),\n",
    "            (\"Bilirubin_total\", \"Total bilirubin\", \"mg/dL\"),\n",
    "            (\"TroponinI\", \"Troponin I\", \"ng/mL\"),\n",
    "            (\"Hct\", \"Hematocrit\", \"%\"),\n",
    "            (\"Hgb\", \"Hemoglobin\", \"g/dL\"),\n",
    "            (\"PTT\", \"partial thromboplastin time\", \"seconds\"),\n",
    "            (\"WBC\", \"Leukocyte count\", \"count*10^3/µL\"),\n",
    "            (\"Fibrinogen\", \"N/A\", \"mg/dL\"),\n",
    "            (\"Platelets\", \"N/A\", \"count*10^3/µL\"),\n",
    "            # Demographics (columns 35-40)\n",
    "            (\"Age\", \"Years (100 for patients 90 or above)\"),\n",
    "            (\"Gender\", \"Female (0) or Male (1)\", \"N/A\"),\n",
    "            (\"Unit1\", \"Administrative identifier for ICU unit\", \"MICU\"),\n",
    "            (\"Unit2\", \"Administrative identifier for ICU unit\", \"SICU\"),\n",
    "            (\"HospAdmTime\", \"Hours between hospital admit and ICU admit\", \"N/A\"),\n",
    "            (\"ICULOS\", \"ICU length-of-stay (hours since ICU admit)\", \"N/A\"),\n",
    "            # Outcome (column 41)\n",
    "            (\n",
    "                \"SepsisLabel\",\n",
    "                \"For sepsis patients, SepsisLabel is 1 if t≥tsepsis−6 and 0 if t<tsepsis−6. \"\n",
    "                \"For non-sepsis patients, SepsisLabel is 0.\",\n",
    "                \"N/A\",\n",
    "            ),\n",
    "        ]\n",
    "\n",
    "        units = pd.DataFrame(\n",
    "            units, columns=[\"variable\", \"description\", \"unit\"], dtype=\"string\"\n",
    "        )\n",
    "        units = units.replace(\"N/A\", pd.NA)\n",
    "        units = units.set_index(\"variable\")\n",
    "\n",
    "        dtypes = {key: \"Float32\" for key in units.index} | {\n",
    "            \"Gender\": \"boolean\",\n",
    "            \"Unit1\": \"boolean\",\n",
    "            \"Unit2\": \"boolean\",\n",
    "            \"ICULOS\": \"Int32\",\n",
    "            \"SepsisLabel\": \"boolean\",\n",
    "        }\n",
    "\n",
    "        units[\"dtype\"] = pd.Series(dtypes)\n",
    "        return units\n",
    "\n",
    "    def _get_frame(self, path) -> DataFrame:\n",
    "        with ZipFile(path) as archive, tqdm(archive.namelist()) as progress_bar:\n",
    "            frames = {}\n",
    "            progress_bar.set_description(f\"Loading patient data {path.stem}\")\n",
    "\n",
    "            for compressed_file in progress_bar:\n",
    "                path = Path(compressed_file)\n",
    "                name = path.stem[1:]\n",
    "                if not path.suffix == \".psv\":\n",
    "                    continue\n",
    "                with archive.open(compressed_file) as file:\n",
    "                    df = pd.read_csv(file, sep=\"|\", header=0)\n",
    "                    frames[name] = df\n",
    "\n",
    "        self.LOGGER.info(\"Concatingating DataFrames\")\n",
    "        frame = pd.concat(frames, names=[\"patient\", \"time\"])\n",
    "        frame = frame.astype(self.units[\"dtype\"])\n",
    "        frame.columns.name = \"variable\"\n",
    "        return frame\n",
    "\n",
    "    def _clean(self) -> DataFrame:\n",
    "        frames = {\n",
    "            key: self._get_frame(path) for key, path in self.rawdata_paths.items()\n",
    "        }\n",
    "        frame = pd.concat(frames, names=[\"set\"])\n",
    "        return frame"
   ]
  },
  {
   "cell_type": "code",
   "execution_count": null,
   "metadata": {},
   "outputs": [],
   "source": [
    "ds = PhysioNet2019()"
   ]
  },
  {
   "cell_type": "code",
   "execution_count": null,
   "metadata": {},
   "outputs": [],
   "source": [
    "ds.units"
   ]
  },
  {
   "cell_type": "code",
   "execution_count": null,
   "metadata": {},
   "outputs": [],
   "source": [
    "ds.info()"
   ]
  },
  {
   "cell_type": "code",
   "execution_count": null,
   "metadata": {},
   "outputs": [],
   "source": [
    "ds.rawdata_paths"
   ]
  },
  {
   "cell_type": "markdown",
   "metadata": {},
   "source": [
    "## Metadata"
   ]
  },
  {
   "cell_type": "code",
   "execution_count": null,
   "metadata": {},
   "outputs": [],
   "source": [
    "units = [\n",
    "    # Vital signs (columns 1-8)\n",
    "    (\"HR\", \"Heart rate\", \"beats per minute\"),\n",
    "    (\"O2Sat\", \"Pulse oximetry\", \"%\"),\n",
    "    (\"Temp\", \"Temperature\", \"Deg C\"),\n",
    "    (\"SBP\", \"Systolic BP\", \"mm Hg\"),\n",
    "    (\"MAP\", \"Mean arterial pressure\", \"mm Hg\"),\n",
    "    (\"DBP\", \"Diastolic BP\", \"mm Hg\"),\n",
    "    (\"Resp\", \"Respiration rate\", \"breaths per minute\"),\n",
    "    (\"EtCO2\", \"End tidal carbon dioxide\", \"mm Hg\"),\n",
    "    # Laboratory values (columns 9-34)\n",
    "    (\"BaseExcess\", \"Measure of excess bicarbonate\", \"mmol/L\"),\n",
    "    (\"HCO3\", \"Bicarbonate\", \"mmol/L\"),\n",
    "    (\"FiO2\", \"Fraction of inspired oxygen\", \"%\"),\n",
    "    (\"pH\", \"N/A\", \"N/A\"),\n",
    "    (\"PaCO2\", \"Partial pressure of carbon dioxide from arterial blood\", \"mm Hg\"),\n",
    "    (\"SaO2\", \"Oxygen saturation from arterial blood\", \"%\"),\n",
    "    (\"AST\", \"Aspartate transaminase\", \"IU/L\"),\n",
    "    (\"BUN\", \"Blood urea nitrogen\", \"mg/dL\"),\n",
    "    (\"Alkalinephos\", \"Alkaline phosphatase\", \"IU/L\"),\n",
    "    (\"Calcium\", \"N/A\", \"mg/dL\"),\n",
    "    (\"Chloride\", \"N/A\", \"mmol/L\"),\n",
    "    (\"Creatinine\", \"N/A\", \"mg/dL\"),\n",
    "    (\"Bilirubin_direct\", \"Bilirubin direct\", \"mg/dL\"),\n",
    "    (\"Glucose\", \"Serum glucose\", \"mg/dL\"),\n",
    "    (\"Lactate\", \"Lactic acid\", \"mg/dL\"),\n",
    "    (\"Magnesium\", \"N/A\", \"mmol/dL\"),\n",
    "    (\"Phosphate\", \"N/A\", \"mg/dL\"),\n",
    "    (\"Potassium\", \"N/A\", \"mmol/L\"),\n",
    "    (\"Bilirubin_total\", \"Total bilirubin\", \"mg/dL\"),\n",
    "    (\"TroponinI\", \"Troponin I\", \"ng/mL\"),\n",
    "    (\"Hct\", \"Hematocrit\", \"%\"),\n",
    "    (\"Hgb\", \"Hemoglobin\", \"g/dL\"),\n",
    "    (\"PTT\", \"partial thromboplastin time\", \"seconds\"),\n",
    "    (\"WBC\", \"Leukocyte count\", \"count*10^3/µL\"),\n",
    "    (\"Fibrinogen\", \"N/A\", \"mg/dL\"),\n",
    "    (\"Platelets\", \"N/A\", \"count*10^3/µL\"),\n",
    "    # Demographics (columns 35-40)\n",
    "    (\"Age\", \"Years (100 for patients 90 or above)\"),\n",
    "    (\"Gender\", \"Female (0) or Male (1)\", \"N/A\"),\n",
    "    (\"Unit1\", \"Administrative identifier for ICU unit\", \"MICU\"),\n",
    "    (\"Unit2\", \"Administrative identifier for ICU unit\", \"SICU\"),\n",
    "    (\"HospAdmTime\", \"Hours between hospital admit and ICU admit\", \"N/A\"),\n",
    "    (\"ICULOS\", \"ICU length-of-stay (hours since ICU admit)\", \"N/A\"),\n",
    "    # Outcome (column 41)\n",
    "    (\n",
    "        \"SepsisLabel\",\n",
    "        \"For sepsis patients, SepsisLabel is 1 if t≥tsepsis−6 and 0 if t<tsepsis−6. \"\n",
    "        \"For non-sepsis patients, SepsisLabel is 0.\",\n",
    "        \"N/A\",\n",
    "    ),\n",
    "]\n",
    "\n",
    "units = pd.DataFrame(units, columns=[\"variable\", \"description\", \"unit\"], dtype=\"string\")\n",
    "units = units.replace(\"N/A\", pd.NA)\n",
    "units = units.set_index(\"variable\")\n",
    "\n",
    "dtypes = {key: \"Float32\" for key in units.index} | {\n",
    "    \"Gender\": \"boolean\",\n",
    "    \"Unit1\": \"boolean\",\n",
    "    \"Unit2\": \"boolean\",\n",
    "    \"ICULOS\": \"Int32\",\n",
    "    \"SepsisLabel\": \"boolean\",\n",
    "}\n",
    "\n",
    "units[\"dtype\"] = pd.Series(dtypes)"
   ]
  },
  {
   "cell_type": "code",
   "execution_count": null,
   "metadata": {},
   "outputs": [],
   "source": [
    "units"
   ]
  },
  {
   "cell_type": "code",
   "execution_count": null,
   "metadata": {},
   "outputs": [],
   "source": [
    "pth = ds.rawdata_paths[0]"
   ]
  },
  {
   "cell_type": "code",
   "execution_count": null,
   "metadata": {},
   "outputs": [],
   "source": [
    "for col in df.columns:\n",
    "    try:\n",
    "        df[col].astype(\"Int32\")\n",
    "    except:\n",
    "        print(col)"
   ]
  },
  {
   "cell_type": "code",
   "execution_count": null,
   "metadata": {},
   "outputs": [],
   "source": [
    "df[\"HR\"].unique()"
   ]
  },
  {
   "cell_type": "code",
   "execution_count": null,
   "metadata": {},
   "outputs": [],
   "source": [
    "file = \"/home/rscholz/.tsdm/rawdata/PhysioNet2019/training_setA/training/p000001.psv\"\n",
    "df = pd.read_csv(file, sep=\"|\", header=0)"
   ]
  },
  {
   "cell_type": "markdown",
   "metadata": {},
   "source": [
    "## Loading all files"
   ]
  },
  {
   "cell_type": "code",
   "execution_count": null,
   "metadata": {},
   "outputs": [],
   "source": [
    "from tqdm.autonotebook import tqdm, trange"
   ]
  },
  {
   "cell_type": "code",
   "execution_count": null,
   "metadata": {},
   "outputs": [],
   "source": [
    "from zipfile import ZipFile\n",
    "from pathlib import Path\n",
    "import pandas as pd"
   ]
  },
  {
   "cell_type": "code",
   "execution_count": null,
   "metadata": {},
   "outputs": [],
   "source": [
    "pth = ds.rawdata_paths[1]\n",
    "\n",
    "with ZipFile(pth) as archive, tqdm(archive.namelist()) as progress_bar:\n",
    "    frames = {}\n",
    "    progress_bar.set_description(f\"Loading patient data\")\n",
    "\n",
    "    for compressed_file in progress_bar:\n",
    "        path = Path(compressed_file)\n",
    "        name = path.stem[1:]\n",
    "        if not path.suffix == \".psv\":\n",
    "            continue\n",
    "        with archive.open(compressed_file) as file:\n",
    "            df = pd.read_csv(file, sep=\"|\", header=0)\n",
    "            frames[name] = df"
   ]
  },
  {
   "cell_type": "code",
   "execution_count": null,
   "metadata": {},
   "outputs": [],
   "source": [
    "%%time\n",
    "FRAME = pd.concat(frames, names=[\"patient\", \"time\"]);"
   ]
  },
  {
   "cell_type": "code",
   "execution_count": null,
   "metadata": {},
   "outputs": [],
   "source": [
    "FRAME = FRAME.astype(dtypes)"
   ]
  },
  {
   "cell_type": "code",
   "execution_count": null,
   "metadata": {},
   "outputs": [],
   "source": [
    "FRAME.EtCO2.unique()"
   ]
  },
  {
   "cell_type": "code",
   "execution_count": null,
   "metadata": {},
   "outputs": [],
   "source": [
    "FRAME"
   ]
  },
  {
   "cell_type": "code",
   "execution_count": null,
   "metadata": {},
   "outputs": [],
   "source": [
    "def _get_frame(path):\n",
    "    with ZipFile(path) as archive, tqdm(\n",
    "        archive.namelist(), leave=False\n",
    "    ) as progress_bar:\n",
    "        frames = {}\n",
    "        progress_bar.set_description(f\"Loading patient data {path.stem}\")\n",
    "\n",
    "        for compressed_file in progress_bar:\n",
    "            path = Path(compressed_file)\n",
    "            name = path.stem[1:]\n",
    "            if not path.suffix == \".psv\":\n",
    "                continue\n",
    "            with archive.open(compressed_file) as file:\n",
    "                df = pd.read_csv(file, sep=\"|\", header=0)\n",
    "                frames[name] = df\n",
    "\n",
    "    frame = pd.concat(frames, names=[\"patient\", \"time\"])\n",
    "    frame = frame.astype(units[\"dtype\"])\n",
    "    frame.columns.name = \"variable\"\n",
    "    return frame"
   ]
  },
  {
   "cell_type": "code",
   "execution_count": null,
   "metadata": {},
   "outputs": [],
   "source": []
  },
  {
   "cell_type": "code",
   "execution_count": null,
   "metadata": {},
   "outputs": [],
   "source": [
    "import os\n",
    "from pathlib import Path"
   ]
  },
  {
   "cell_type": "code",
   "execution_count": null,
   "metadata": {},
   "outputs": [],
   "source": [
    "from typing import Union"
   ]
  },
  {
   "cell_type": "code",
   "execution_count": null,
   "metadata": {},
   "outputs": [],
   "source": [
    "Union[str, int].__args__"
   ]
  },
  {
   "cell_type": "code",
   "execution_count": null,
   "metadata": {},
   "outputs": [],
   "source": [
    "split = {key: frame.index.unique(level=\"patient\") for key, frame in frames.items()}\n",
    "pd.Series(split)"
   ]
  },
  {
   "cell_type": "code",
   "execution_count": null,
   "metadata": {},
   "outputs": [],
   "source": [
    "%%time\n",
    "frame = pd.concat(frames, names=[\"set\"])"
   ]
  },
  {
   "cell_type": "code",
   "execution_count": null,
   "metadata": {},
   "outputs": [],
   "source": [
    "frame"
   ]
  },
  {
   "cell_type": "code",
   "execution_count": null,
   "metadata": {},
   "outputs": [],
   "source": [
    "frames = {key: _get_frame(path) for key, path in ds.rawdata_paths.items()}\n",
    "frame = pandas.concat(frames)"
   ]
  },
  {
   "cell_type": "code",
   "execution_count": null,
   "metadata": {},
   "outputs": [],
   "source": [
    "ds.rawdata_paths"
   ]
  },
  {
   "cell_type": "code",
   "execution_count": null,
   "metadata": {},
   "outputs": [],
   "source": [
    "{key: path for key, path in ds.rawdata_paths.items()}"
   ]
  },
  {
   "cell_type": "code",
   "execution_count": null,
   "metadata": {},
   "outputs": [],
   "source": []
  }
 ],
 "metadata": {
  "kernelspec": {
   "display_name": "Python 3 (ipykernel)",
   "language": "python",
   "name": "python3"
  },
  "language_info": {
   "codemirror_mode": {
    "name": "ipython",
    "version": 3
   },
   "file_extension": ".py",
   "mimetype": "text/x-python",
   "name": "python",
   "nbconvert_exporter": "python",
   "pygments_lexer": "ipython3",
   "version": "3.10.5"
  }
 },
 "nbformat": 4,
 "nbformat_minor": 4
}
