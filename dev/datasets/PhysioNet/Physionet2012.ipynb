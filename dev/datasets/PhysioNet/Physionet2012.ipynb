{
 "cells": [
  {
   "cell_type": "markdown",
   "metadata": {},
   "source": [
    "# PhysioNet 2012"
   ]
  },
  {
   "cell_type": "code",
   "execution_count": null,
   "metadata": {
    "execution": {
     "iopub.execute_input": "2023-05-02T11:06:47.330220Z",
     "iopub.status.busy": "2023-05-02T11:06:47.329333Z"
    },
    "tags": []
   },
   "outputs": [],
   "source": [
    "import os\n",
    "import tarfile\n",
    "import tempfile\n",
    "from collections.abc import Mapping\n",
    "from typing import IO, Any, Literal, TypeAlias\n",
    "\n",
    "import matplotlib.pyplot as plt\n",
    "import numpy as np\n",
    "import pandas as pd\n",
    "from pandas import DataFrame\n",
    "from tqdm.autonotebook import tqdm\n",
    "\n",
    "from tsdm.datasets.base import MultiTableDataset\n",
    "from tsdm.encoders import TripletDecoder\n",
    "from tsdm.types.aliases import PathLike"
   ]
  },
  {
   "cell_type": "code",
   "execution_count": null,
   "metadata": {
    "tags": []
   },
   "outputs": [],
   "source": [
    "import logging\n",
    "\n",
    "logging.basicConfig(level=logging.INFO)\n",
    "\n",
    "import tsdm"
   ]
  },
  {
   "cell_type": "code",
   "execution_count": null,
   "metadata": {
    "tags": []
   },
   "outputs": [],
   "source": [
    "self = tsdm.datasets.PhysioNet2012()"
   ]
  },
  {
   "cell_type": "code",
   "execution_count": null,
   "metadata": {
    "execution": {
     "iopub.execute_input": "2023-05-02T10:47:41.063033Z",
     "iopub.status.busy": "2023-05-02T10:47:41.062804Z",
     "iopub.status.idle": "2023-05-02T10:47:41.429969Z",
     "shell.execute_reply": "2023-05-02T10:47:41.429297Z",
     "shell.execute_reply.started": "2023-05-02T10:47:41.063016Z"
    },
    "tags": []
   },
   "outputs": [],
   "source": [
    "self.timeseries.describe(percentiles=[0.01, 0.99]).T"
   ]
  },
  {
   "cell_type": "code",
   "execution_count": null,
   "metadata": {
    "execution": {
     "iopub.execute_input": "2023-05-02T11:03:29.444557Z",
     "iopub.status.busy": "2023-05-02T11:03:29.444323Z",
     "iopub.status.idle": "2023-05-02T11:03:29.604806Z",
     "shell.execute_reply": "2023-05-02T11:03:29.604358Z",
     "shell.execute_reply.started": "2023-05-02T11:03:29.444533Z"
    },
    "tags": []
   },
   "outputs": [],
   "source": [
    "ts.loc[160208].HR.plot(figsize=(20, 20))"
   ]
  },
  {
   "cell_type": "code",
   "execution_count": null,
   "metadata": {
    "execution": {
     "iopub.execute_input": "2023-05-02T11:02:48.605148Z",
     "iopub.status.busy": "2023-05-02T11:02:48.604955Z",
     "iopub.status.idle": "2023-05-02T11:02:48.664647Z",
     "shell.execute_reply": "2023-05-02T11:02:48.664066Z",
     "shell.execute_reply.started": "2023-05-02T11:02:48.605135Z"
    },
    "tags": []
   },
   "outputs": [],
   "source": [
    "ts.loc[ts.HR == 0]"
   ]
  },
  {
   "cell_type": "code",
   "execution_count": null,
   "metadata": {},
   "outputs": [],
   "source": []
  },
  {
   "cell_type": "code",
   "execution_count": null,
   "metadata": {
    "execution": {
     "iopub.execute_input": "2023-05-02T10:58:32.143062Z",
     "iopub.status.busy": "2023-05-02T10:58:32.142846Z",
     "iopub.status.idle": "2023-05-02T10:58:32.153450Z",
     "shell.execute_reply": "2023-05-02T10:58:32.152982Z",
     "shell.execute_reply.started": "2023-05-02T10:58:32.143048Z"
    },
    "tags": []
   },
   "outputs": [],
   "source": [
    "self.timeseries.Temp.value_counts().sort_index().head()"
   ]
  },
  {
   "cell_type": "code",
   "execution_count": null,
   "metadata": {},
   "outputs": [],
   "source": []
  },
  {
   "cell_type": "code",
   "execution_count": null,
   "metadata": {
    "execution": {
     "iopub.execute_input": "2023-05-02T10:57:58.084985Z",
     "iopub.status.busy": "2023-05-02T10:57:58.084818Z",
     "iopub.status.idle": "2023-05-02T10:57:58.095194Z",
     "shell.execute_reply": "2023-05-02T10:57:58.094505Z",
     "shell.execute_reply.started": "2023-05-02T10:57:58.084973Z"
    },
    "tags": []
   },
   "outputs": [],
   "source": [
    "self.timeseries.SysABP.value_counts().sort_index().head()"
   ]
  },
  {
   "cell_type": "code",
   "execution_count": null,
   "metadata": {
    "execution": {
     "iopub.execute_input": "2023-05-02T10:46:07.688007Z",
     "iopub.status.busy": "2023-05-02T10:46:07.687779Z",
     "iopub.status.idle": "2023-05-02T10:46:10.577396Z",
     "shell.execute_reply": "2023-05-02T10:46:10.576739Z",
     "shell.execute_reply.started": "2023-05-02T10:46:07.687991Z"
    },
    "tags": []
   },
   "outputs": [],
   "source": [
    "self.timeseries.hist(bins=20, figsize=(20, 15));"
   ]
  },
  {
   "cell_type": "code",
   "execution_count": null,
   "metadata": {
    "execution": {
     "iopub.execute_input": "2023-05-02T10:46:11.549743Z",
     "iopub.status.busy": "2023-05-02T10:46:11.549493Z",
     "iopub.status.idle": "2023-05-02T10:46:15.025478Z",
     "shell.execute_reply": "2023-05-02T10:46:15.024763Z",
     "shell.execute_reply.started": "2023-05-02T10:46:11.549724Z"
    },
    "tags": []
   },
   "outputs": [],
   "source": [
    "self.timeseries.hist(bins=20, figsize=(20, 15), log=True);"
   ]
  },
  {
   "cell_type": "code",
   "execution_count": null,
   "metadata": {
    "execution": {
     "iopub.execute_input": "2023-04-28T18:42:37.483996Z",
     "iopub.status.busy": "2023-04-28T18:42:37.483817Z",
     "iopub.status.idle": "2023-04-28T18:42:37.818962Z",
     "shell.execute_reply": "2023-04-28T18:42:37.818637Z",
     "shell.execute_reply.started": "2023-04-28T18:42:37.483982Z"
    },
    "tags": []
   },
   "outputs": [],
   "source": [
    "self.metadata.hist(bins=20);"
   ]
  }
 ],
 "metadata": {
  "kernelspec": {
   "display_name": "Python 3 (ipykernel)",
   "language": "python",
   "name": "python3"
  },
  "language_info": {
   "codemirror_mode": {
    "name": "ipython",
    "version": 3
   },
   "file_extension": ".py",
   "mimetype": "text/x-python",
   "name": "python",
   "nbconvert_exporter": "python",
   "pygments_lexer": "ipython3",
   "version": "3.11.3"
  }
 },
 "nbformat": 4,
 "nbformat_minor": 4
}
