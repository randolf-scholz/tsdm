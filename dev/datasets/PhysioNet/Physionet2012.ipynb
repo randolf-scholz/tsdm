{
 "cells": [
  {
   "cell_type": "markdown",
   "metadata": {},
   "source": [
    "# PhysioNet 2012"
   ]
  },
  {
   "cell_type": "code",
   "execution_count": null,
   "metadata": {
    "execution": {
     "iopub.execute_input": "2023-04-28T18:41:10.593981Z",
     "iopub.status.busy": "2023-04-28T18:41:10.593467Z",
     "iopub.status.idle": "2023-04-28T18:41:13.809274Z",
     "shell.execute_reply": "2023-04-28T18:41:13.808824Z",
     "shell.execute_reply.started": "2023-04-28T18:41:10.593937Z"
    },
    "tags": []
   },
   "outputs": [],
   "source": [
    "import os\n",
    "import tarfile\n",
    "import tempfile\n",
    "from collections.abc import Mapping\n",
    "from typing import IO, Any, Literal, TypeAlias\n",
    "import matplotlib.pyplot as plt\n",
    "\n",
    "import numpy as np\n",
    "import pandas as pd\n",
    "from pandas import DataFrame\n",
    "from tqdm.autonotebook import tqdm\n",
    "\n",
    "from tsdm.datasets.base import MultiTableDataset\n",
    "from tsdm.encoders import TripletDecoder\n",
    "from tsdm.types.aliases import PathLike"
   ]
  },
  {
   "cell_type": "code",
   "execution_count": null,
   "metadata": {
    "execution": {
     "iopub.execute_input": "2023-04-28T18:41:13.810333Z",
     "iopub.status.busy": "2023-04-28T18:41:13.809975Z",
     "iopub.status.idle": "2023-04-28T18:41:13.812911Z",
     "shell.execute_reply": "2023-04-28T18:41:13.812568Z",
     "shell.execute_reply.started": "2023-04-28T18:41:13.810320Z"
    },
    "tags": []
   },
   "outputs": [],
   "source": [
    "import tsdm"
   ]
  },
  {
   "cell_type": "code",
   "execution_count": null,
   "metadata": {
    "execution": {
     "iopub.execute_input": "2023-04-28T18:41:13.817647Z",
     "iopub.status.busy": "2023-04-28T18:41:13.817469Z",
     "iopub.status.idle": "2023-04-28T18:42:15.302954Z",
     "shell.execute_reply": "2023-04-28T18:42:15.302563Z",
     "shell.execute_reply.started": "2023-04-28T18:41:13.817635Z"
    },
    "tags": []
   },
   "outputs": [],
   "source": [
    "self = tsdm.datasets.PhysioNet2012()"
   ]
  },
  {
   "cell_type": "code",
   "execution_count": null,
   "metadata": {
    "execution": {
     "iopub.execute_input": "2023-04-28T18:42:15.303587Z",
     "iopub.status.busy": "2023-04-28T18:42:15.303453Z",
     "iopub.status.idle": "2023-04-28T18:42:15.321242Z",
     "shell.execute_reply": "2023-04-28T18:42:15.320894Z",
     "shell.execute_reply.started": "2023-04-28T18:42:15.303575Z"
    },
    "tags": []
   },
   "outputs": [],
   "source": [
    "self.metadata.describe().T"
   ]
  },
  {
   "cell_type": "code",
   "execution_count": null,
   "metadata": {
    "execution": {
     "iopub.execute_input": "2023-04-28T18:42:15.321943Z",
     "iopub.status.busy": "2023-04-28T18:42:15.321753Z",
     "iopub.status.idle": "2023-04-28T18:42:18.170866Z",
     "shell.execute_reply": "2023-04-28T18:42:18.170557Z",
     "shell.execute_reply.started": "2023-04-28T18:42:15.321930Z"
    },
    "tags": []
   },
   "outputs": [],
   "source": [
    "self.timeseries.hist(bins=20, figsize=(20, 15));"
   ]
  },
  {
   "cell_type": "code",
   "execution_count": null,
   "metadata": {
    "execution": {
     "iopub.execute_input": "2023-04-28T18:42:18.172649Z",
     "iopub.status.busy": "2023-04-28T18:42:18.172420Z",
     "iopub.status.idle": "2023-04-28T18:42:21.685348Z",
     "shell.execute_reply": "2023-04-28T18:42:21.684945Z",
     "shell.execute_reply.started": "2023-04-28T18:42:18.172638Z"
    },
    "tags": []
   },
   "outputs": [],
   "source": [
    "self.timeseries.hist(bins=20, figsize=(20, 15), log=True);"
   ]
  },
  {
   "cell_type": "code",
   "execution_count": null,
   "metadata": {
    "execution": {
     "iopub.execute_input": "2023-04-28T18:42:37.483996Z",
     "iopub.status.busy": "2023-04-28T18:42:37.483817Z",
     "iopub.status.idle": "2023-04-28T18:42:37.818962Z",
     "shell.execute_reply": "2023-04-28T18:42:37.818637Z",
     "shell.execute_reply.started": "2023-04-28T18:42:37.483982Z"
    },
    "tags": []
   },
   "outputs": [],
   "source": [
    "self.metadata.hist(bins=20);"
   ]
  }
 ],
 "metadata": {
  "kernelspec": {
   "display_name": "Python 3 (ipykernel)",
   "language": "python",
   "name": "python3"
  },
  "language_info": {
   "codemirror_mode": {
    "name": "ipython",
    "version": 3
   },
   "file_extension": ".py",
   "mimetype": "text/x-python",
   "name": "python",
   "nbconvert_exporter": "python",
   "pygments_lexer": "ipython3",
   "version": "3.11.3"
  }
 },
 "nbformat": 4,
 "nbformat_minor": 4
}
