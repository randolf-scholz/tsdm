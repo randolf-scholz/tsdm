{
 "cells": [
  {
   "cell_type": "markdown",
   "metadata": {},
   "source": [
    "# PhysioNet2019 Implementation"
   ]
  },
  {
   "cell_type": "code",
   "execution_count": null,
   "metadata": {
    "execution": {
     "iopub.execute_input": "2023-05-02T16:43:14.696454Z",
     "iopub.status.busy": "2023-05-02T16:43:14.696301Z",
     "iopub.status.idle": "2023-05-02T16:43:15.202409Z",
     "shell.execute_reply": "2023-05-02T16:43:15.201914Z",
     "shell.execute_reply.started": "2023-05-02T16:43:14.696439Z"
    },
    "tags": []
   },
   "outputs": [],
   "source": [
    "%config InteractiveShell.ast_node_interactivity='last_expr_or_assign'  # always print last expr.\n",
    "%config InlineBackend.figure_format = 'svg'\n",
    "%load_ext autoreload\n",
    "%autoreload 2\n",
    "%matplotlib inline\n",
    "\n",
    "import logging\n",
    "import numpy as np\n",
    "import pandas as pd\n",
    "\n",
    "logging.basicConfig(level=logging.INFO)"
   ]
  },
  {
   "cell_type": "code",
   "execution_count": null,
   "metadata": {
    "execution": {
     "iopub.execute_input": "2023-05-02T16:43:15.203430Z",
     "iopub.status.busy": "2023-05-02T16:43:15.203210Z",
     "iopub.status.idle": "2023-05-02T16:43:18.223661Z",
     "shell.execute_reply": "2023-05-02T16:43:18.223089Z",
     "shell.execute_reply.started": "2023-05-02T16:43:15.203418Z"
    },
    "tags": []
   },
   "outputs": [],
   "source": [
    "import tsdm"
   ]
  },
  {
   "cell_type": "code",
   "execution_count": null,
   "metadata": {
    "execution": {
     "iopub.execute_input": "2023-05-02T16:43:18.224518Z",
     "iopub.status.busy": "2023-05-02T16:43:18.224176Z",
     "iopub.status.idle": "2023-05-02T16:50:36.154579Z",
     "shell.execute_reply": "2023-05-02T16:50:36.154042Z",
     "shell.execute_reply.started": "2023-05-02T16:43:18.224503Z"
    },
    "tags": []
   },
   "outputs": [],
   "source": [
    "self = tsdm.datasets.PhysioNet2019()"
   ]
  },
  {
   "cell_type": "code",
   "execution_count": null,
   "metadata": {
    "execution": {
     "iopub.execute_input": "2023-05-02T16:50:36.155346Z",
     "iopub.status.busy": "2023-05-02T16:50:36.155184Z",
     "iopub.status.idle": "2023-05-02T16:50:36.204757Z",
     "shell.execute_reply": "2023-05-02T16:50:36.204400Z",
     "shell.execute_reply.started": "2023-05-02T16:50:36.155331Z"
    },
    "tags": []
   },
   "outputs": [],
   "source": [
    "self.metadata_description"
   ]
  },
  {
   "cell_type": "code",
   "execution_count": null,
   "metadata": {
    "execution": {
     "iopub.execute_input": "2023-05-02T16:50:36.205911Z",
     "iopub.status.busy": "2023-05-02T16:50:36.205700Z",
     "iopub.status.idle": "2023-05-02T16:50:36.266879Z",
     "shell.execute_reply": "2023-05-02T16:50:36.266498Z",
     "shell.execute_reply.started": "2023-05-02T16:50:36.205879Z"
    },
    "tags": []
   },
   "outputs": [],
   "source": [
    "self.timeseries"
   ]
  },
  {
   "cell_type": "code",
   "execution_count": null,
   "metadata": {
    "execution": {
     "iopub.execute_input": "2023-05-02T16:50:36.267959Z",
     "iopub.status.busy": "2023-05-02T16:50:36.267446Z",
     "iopub.status.idle": "2023-05-02T16:50:36.920056Z",
     "shell.execute_reply": "2023-05-02T16:50:36.919127Z",
     "shell.execute_reply.started": "2023-05-02T16:50:36.267943Z"
    },
    "tags": []
   },
   "outputs": [],
   "source": [
    "self.timeseries.describe(percentiles=[0.01, 0.99]).T"
   ]
  },
  {
   "cell_type": "code",
   "execution_count": null,
   "metadata": {
    "execution": {
     "iopub.execute_input": "2023-05-02T16:50:36.920842Z",
     "iopub.status.busy": "2023-05-02T16:50:36.920693Z",
     "iopub.status.idle": "2023-05-02T16:50:40.155537Z",
     "shell.execute_reply": "2023-05-02T16:50:40.155023Z",
     "shell.execute_reply.started": "2023-05-02T16:50:36.920829Z"
    },
    "tags": []
   },
   "outputs": [],
   "source": [
    "self.timeseries.hist(bins=20, figsize=(20, 15));"
   ]
  },
  {
   "cell_type": "code",
   "execution_count": null,
   "metadata": {
    "execution": {
     "iopub.execute_input": "2023-05-02T16:50:40.156219Z",
     "iopub.status.busy": "2023-05-02T16:50:40.156086Z",
     "iopub.status.idle": "2023-05-02T16:50:45.201425Z",
     "shell.execute_reply": "2023-05-02T16:50:45.200922Z",
     "shell.execute_reply.started": "2023-05-02T16:50:40.156206Z"
    },
    "tags": []
   },
   "outputs": [],
   "source": [
    "self.timeseries.hist(bins=20, figsize=(20, 15), log=True, density=True);"
   ]
  },
  {
   "cell_type": "code",
   "execution_count": null,
   "metadata": {
    "execution": {
     "iopub.execute_input": "2023-05-02T16:50:45.202201Z",
     "iopub.status.busy": "2023-05-02T16:50:45.202052Z",
     "iopub.status.idle": "2023-05-02T16:50:45.246145Z",
     "shell.execute_reply": "2023-05-02T16:50:45.245630Z",
     "shell.execute_reply.started": "2023-05-02T16:50:45.202184Z"
    },
    "tags": []
   },
   "outputs": [],
   "source": [
    "self.metadata"
   ]
  },
  {
   "cell_type": "code",
   "execution_count": null,
   "metadata": {
    "execution": {
     "iopub.execute_input": "2023-06-28T16:45:18.353148Z",
     "iopub.status.busy": "2023-06-28T16:45:18.352945Z",
     "iopub.status.idle": "2023-06-28T16:45:21.443348Z",
     "shell.execute_reply": "2023-06-28T16:45:21.442961Z",
     "shell.execute_reply.started": "2023-06-28T16:45:18.353133Z"
    }
   },
   "outputs": [],
   "source": [
    "from tsdm.types.variables import (\n",
    "    any_co as T_co,\n",
    "    any_var as T,\n",
    ")"
   ]
  },
  {
   "cell_type": "code",
   "execution_count": null,
   "metadata": {
    "execution": {
     "iopub.execute_input": "2023-06-29T16:46:09.109568Z",
     "iopub.status.busy": "2023-06-29T16:46:09.108878Z",
     "iopub.status.idle": "2023-06-29T16:46:09.113390Z",
     "shell.execute_reply": "2023-06-29T16:46:09.112708Z",
     "shell.execute_reply.started": "2023-06-29T16:46:09.109550Z"
    }
   },
   "outputs": [],
   "source": [
    "from types import NoneType, EllipsisType, NotImplementedType\n",
    "\n",
    "x = None\n",
    "\n",
    "match x:\n",
    "    case NoneType():  # ✔\n",
    "        print(x)\n",
    "    case EllipsisType():  # ✔\n",
    "        print(x)\n",
    "    case NotImplementedType():  # ✔\n",
    "        print(x)\n",
    "    case _:\n",
    "        print(\"Not Matched!\")\n",
    "\n",
    "match x:\n",
    "    case None:\n",
    "        print(x)\n",
    "    case Ellipsis:  # ✘ SyntaxError\n",
    "        print(x)\n",
    "    case NotImplemented:  # ✘ SyntaxError\n",
    "        print(x)\n",
    "    case _:\n",
    "        print(\"Not Matched!\")"
   ]
  },
  {
   "cell_type": "code",
   "execution_count": null,
   "metadata": {
    "execution": {
     "iopub.execute_input": "2023-06-29T16:39:25.868990Z",
     "iopub.status.busy": "2023-06-29T16:39:25.868749Z",
     "iopub.status.idle": "2023-06-29T16:39:25.872345Z",
     "shell.execute_reply": "2023-06-29T16:39:25.871983Z",
     "shell.execute_reply.started": "2023-06-29T16:39:25.868966Z"
    }
   },
   "outputs": [],
   "source": [
    "x"
   ]
  },
  {
   "cell_type": "code",
   "execution_count": null,
   "metadata": {
    "execution": {
     "iopub.execute_input": "2023-06-29T16:38:43.068470Z",
     "iopub.status.busy": "2023-06-29T16:38:43.068164Z",
     "iopub.status.idle": "2023-06-29T16:38:43.073132Z",
     "shell.execute_reply": "2023-06-29T16:38:43.072790Z",
     "shell.execute_reply.started": "2023-06-29T16:38:43.068454Z"
    }
   },
   "outputs": [],
   "source": [
    "type(None)"
   ]
  },
  {
   "cell_type": "code",
   "execution_count": null,
   "metadata": {},
   "outputs": [],
   "source": []
  }
 ],
 "metadata": {
  "kernelspec": {
   "display_name": "Python 3 (ipykernel)",
   "language": "python",
   "name": "python3"
  },
  "language_info": {
   "codemirror_mode": {
    "name": "ipython",
    "version": 3
   },
   "file_extension": ".py",
   "mimetype": "text/x-python",
   "name": "python",
   "nbconvert_exporter": "python",
   "pygments_lexer": "ipython3",
   "version": "3.10.11"
  }
 },
 "nbformat": 4,
 "nbformat_minor": 4
}
