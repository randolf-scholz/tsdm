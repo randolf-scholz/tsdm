{
 "cells": [
  {
   "cell_type": "markdown",
   "metadata": {},
   "source": [
    "# PhysioNet2019 Implementation"
   ]
  },
  {
   "cell_type": "code",
   "execution_count": null,
   "metadata": {
    "execution": {
     "iopub.execute_input": "2023-05-02T13:24:18.597454Z",
     "iopub.status.busy": "2023-05-02T13:24:18.597333Z",
     "iopub.status.idle": "2023-05-02T13:24:19.084346Z",
     "shell.execute_reply": "2023-05-02T13:24:19.083838Z",
     "shell.execute_reply.started": "2023-05-02T13:24:18.597439Z"
    },
    "tags": []
   },
   "outputs": [],
   "source": [
    "%config InteractiveShell.ast_node_interactivity='last_expr_or_assign'  # always print last expr.\n",
    "%config InlineBackend.figure_format = 'svg'\n",
    "%load_ext autoreload\n",
    "%autoreload 2\n",
    "%matplotlib inline\n",
    "\n",
    "import logging\n",
    "import numpy as np\n",
    "import pandas as pd\n",
    "\n",
    "logging.basicConfig(level=logging.INFO)"
   ]
  },
  {
   "cell_type": "code",
   "execution_count": null,
   "metadata": {
    "execution": {
     "iopub.execute_input": "2023-05-02T13:24:19.085354Z",
     "iopub.status.busy": "2023-05-02T13:24:19.085177Z",
     "iopub.status.idle": "2023-05-02T13:24:21.885855Z",
     "shell.execute_reply": "2023-05-02T13:24:21.885181Z",
     "shell.execute_reply.started": "2023-05-02T13:24:19.085342Z"
    },
    "tags": []
   },
   "outputs": [],
   "source": [
    "import tsdm"
   ]
  },
  {
   "cell_type": "code",
   "execution_count": null,
   "metadata": {
    "execution": {
     "iopub.execute_input": "2023-05-02T13:24:21.886606Z",
     "iopub.status.busy": "2023-05-02T13:24:21.886323Z",
     "iopub.status.idle": "2023-05-02T13:24:22.152842Z",
     "shell.execute_reply": "2023-05-02T13:24:22.152311Z",
     "shell.execute_reply.started": "2023-05-02T13:24:21.886594Z"
    },
    "tags": []
   },
   "outputs": [],
   "source": [
    "self = tsdm.datasets.PhysioNet2019()"
   ]
  },
  {
   "cell_type": "code",
   "execution_count": null,
   "metadata": {
    "execution": {
     "iopub.execute_input": "2023-05-02T13:25:07.580694Z",
     "iopub.status.busy": "2023-05-02T13:25:07.580530Z",
     "iopub.status.idle": "2023-05-02T13:25:07.640806Z",
     "shell.execute_reply": "2023-05-02T13:25:07.640374Z",
     "shell.execute_reply.started": "2023-05-02T13:25:07.580682Z"
    },
    "tags": []
   },
   "outputs": [],
   "source": [
    "self.timeseries"
   ]
  },
  {
   "cell_type": "code",
   "execution_count": null,
   "metadata": {
    "execution": {
     "iopub.execute_input": "2023-05-02T13:24:22.153374Z",
     "iopub.status.busy": "2023-05-02T13:24:22.153246Z",
     "iopub.status.idle": "2023-05-02T13:24:22.709609Z",
     "shell.execute_reply": "2023-05-02T13:24:22.709191Z",
     "shell.execute_reply.started": "2023-05-02T13:24:22.153362Z"
    },
    "tags": []
   },
   "outputs": [],
   "source": [
    "self.timeseries.describe(percentiles=[0.01, 0.99]).T"
   ]
  },
  {
   "cell_type": "code",
   "execution_count": null,
   "metadata": {
    "execution": {
     "iopub.execute_input": "2023-05-02T13:24:22.710147Z",
     "iopub.status.busy": "2023-05-02T13:24:22.710033Z",
     "iopub.status.idle": "2023-05-02T13:24:25.800418Z",
     "shell.execute_reply": "2023-05-02T13:24:25.799827Z",
     "shell.execute_reply.started": "2023-05-02T13:24:22.710136Z"
    },
    "tags": []
   },
   "outputs": [],
   "source": [
    "self.timeseries.hist(bins=20, figsize=(20, 15));"
   ]
  },
  {
   "cell_type": "code",
   "execution_count": null,
   "metadata": {
    "execution": {
     "iopub.execute_input": "2023-05-02T13:24:25.800985Z",
     "iopub.status.busy": "2023-05-02T13:24:25.800868Z",
     "iopub.status.idle": "2023-05-02T13:24:30.214619Z",
     "shell.execute_reply": "2023-05-02T13:24:30.214306Z",
     "shell.execute_reply.started": "2023-05-02T13:24:25.800972Z"
    },
    "tags": []
   },
   "outputs": [],
   "source": [
    "self.timeseries.hist(bins=20, figsize=(20, 15), log=True, density=True);"
   ]
  },
  {
   "cell_type": "code",
   "execution_count": null,
   "metadata": {
    "execution": {
     "iopub.execute_input": "2023-05-02T13:24:48.351014Z",
     "iopub.status.busy": "2023-05-02T13:24:48.350767Z",
     "iopub.status.idle": "2023-05-02T13:24:48.394897Z",
     "shell.execute_reply": "2023-05-02T13:24:48.394473Z",
     "shell.execute_reply.started": "2023-05-02T13:24:48.350993Z"
    },
    "tags": []
   },
   "outputs": [],
   "source": [
    "self.metadata"
   ]
  },
  {
   "cell_type": "code",
   "execution_count": null,
   "metadata": {},
   "outputs": [],
   "source": []
  },
  {
   "cell_type": "code",
   "execution_count": null,
   "metadata": {},
   "outputs": [],
   "source": []
  }
 ],
 "metadata": {
  "kernelspec": {
   "display_name": "Python 3 (ipykernel)",
   "language": "python",
   "name": "python3"
  },
  "language_info": {
   "codemirror_mode": {
    "name": "ipython",
    "version": 3
   },
   "file_extension": ".py",
   "mimetype": "text/x-python",
   "name": "python",
   "nbconvert_exporter": "python",
   "pygments_lexer": "ipython3",
   "version": "3.11.3"
  }
 },
 "nbformat": 4,
 "nbformat_minor": 4
}
