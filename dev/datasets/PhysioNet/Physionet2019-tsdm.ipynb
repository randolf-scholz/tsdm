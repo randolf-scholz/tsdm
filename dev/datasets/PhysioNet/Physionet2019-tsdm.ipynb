{
 "cells": [
  {
   "cell_type": "markdown",
   "metadata": {},
   "source": [
    "# PhysioNet2019 Implementation"
   ]
  },
  {
   "cell_type": "code",
   "execution_count": null,
   "metadata": {
    "execution": {
     "iopub.execute_input": "2023-05-01T22:56:39.577187Z",
     "iopub.status.busy": "2023-05-01T22:56:39.577011Z",
     "iopub.status.idle": "2023-05-01T22:56:39.895175Z",
     "shell.execute_reply": "2023-05-01T22:56:39.894721Z",
     "shell.execute_reply.started": "2023-05-01T22:56:39.577169Z"
    },
    "tags": []
   },
   "outputs": [],
   "source": [
    "%config InteractiveShell.ast_node_interactivity='last_expr_or_assign'  # always print last expr.\n",
    "%config InlineBackend.figure_format = 'svg'\n",
    "%load_ext autoreload\n",
    "%autoreload 2\n",
    "%matplotlib inline\n",
    "\n",
    "import logging\n",
    "\n",
    "logging.basicConfig(level=logging.INFO)"
   ]
  },
  {
   "cell_type": "code",
   "execution_count": null,
   "metadata": {
    "execution": {
     "iopub.execute_input": "2023-05-01T22:56:39.896099Z",
     "iopub.status.busy": "2023-05-01T22:56:39.895922Z",
     "iopub.status.idle": "2023-05-01T22:56:42.840651Z",
     "shell.execute_reply": "2023-05-01T22:56:42.840185Z",
     "shell.execute_reply.started": "2023-05-01T22:56:39.896088Z"
    },
    "tags": []
   },
   "outputs": [],
   "source": [
    "from tsdm.datasets import PhysioNet2019\n",
    "\n",
    "self = PhysioNet2019(initialize=False)"
   ]
  },
  {
   "cell_type": "code",
   "execution_count": null,
   "metadata": {
    "execution": {
     "iopub.execute_input": "2023-05-01T23:07:24.816137Z",
     "iopub.status.busy": "2023-05-01T23:07:24.815817Z",
     "iopub.status.idle": "2023-05-01T23:07:25.562167Z",
     "shell.execute_reply": "2023-05-01T23:07:25.561718Z",
     "shell.execute_reply.started": "2023-05-01T23:07:24.816109Z"
    },
    "tags": []
   },
   "outputs": [],
   "source": [
    "self.info()"
   ]
  },
  {
   "cell_type": "code",
   "execution_count": null,
   "metadata": {
    "execution": {
     "iopub.execute_input": "2023-05-01T23:10:05.069088Z",
     "iopub.status.busy": "2023-05-01T23:10:05.068911Z",
     "iopub.status.idle": "2023-05-01T23:11:15.999521Z",
     "shell.execute_reply": "2023-05-01T23:11:15.999017Z",
     "shell.execute_reply.started": "2023-05-01T23:10:05.069076Z"
    },
    "tags": []
   },
   "outputs": [],
   "source": [
    "table = pd.concat(tabel, names=[\"patient\"]).reset_index(-1, drop=True)"
   ]
  },
  {
   "cell_type": "code",
   "execution_count": null,
   "metadata": {
    "execution": {
     "iopub.execute_input": "2023-05-01T23:11:30.098463Z",
     "iopub.status.busy": "2023-05-01T23:11:30.098276Z",
     "iopub.status.idle": "2023-05-01T23:11:30.203184Z",
     "shell.execute_reply": "2023-05-01T23:11:30.202808Z",
     "shell.execute_reply.started": "2023-05-01T23:11:30.098450Z"
    },
    "tags": []
   },
   "outputs": [],
   "source": [
    "all(table.groupby(\"patient\").Gender.nunique() == 1)"
   ]
  },
  {
   "cell_type": "code",
   "execution_count": null,
   "metadata": {},
   "outputs": [],
   "source": []
  },
  {
   "cell_type": "code",
   "execution_count": null,
   "metadata": {},
   "outputs": [],
   "source": []
  },
  {
   "cell_type": "code",
   "execution_count": null,
   "metadata": {
    "execution": {
     "iopub.execute_input": "2023-05-01T22:56:53.436939Z",
     "iopub.status.busy": "2023-05-01T22:56:53.436703Z",
     "iopub.status.idle": "2023-05-01T22:59:03.506074Z",
     "shell.execute_reply": "2023-05-01T22:59:03.505612Z",
     "shell.execute_reply.started": "2023-05-01T22:56:53.436926Z"
    },
    "tags": []
   },
   "outputs": [],
   "source": [
    "tabel = self._get_frame(\"training_setA.zip\")"
   ]
  },
  {
   "cell_type": "code",
   "execution_count": null,
   "metadata": {},
   "outputs": [],
   "source": []
  },
  {
   "cell_type": "code",
   "execution_count": null,
   "metadata": {},
   "outputs": [],
   "source": []
  },
  {
   "cell_type": "code",
   "execution_count": null,
   "metadata": {},
   "outputs": [],
   "source": []
  },
  {
   "cell_type": "code",
   "execution_count": null,
   "metadata": {
    "execution": {
     "iopub.execute_input": "2023-05-01T22:45:02.981247Z",
     "iopub.status.busy": "2023-05-01T22:45:02.981018Z",
     "iopub.status.idle": "2023-05-01T22:45:03.025023Z",
     "shell.execute_reply": "2023-05-01T22:45:03.024420Z",
     "shell.execute_reply.started": "2023-05-01T22:45:02.981234Z"
    },
    "tags": []
   },
   "outputs": [],
   "source": [
    "nthreads = max(mp.cpu_count() - 2, 1)"
   ]
  },
  {
   "cell_type": "code",
   "execution_count": null,
   "metadata": {
    "execution": {
     "iopub.execute_input": "2023-05-01T23:00:17.074380Z",
     "iopub.status.busy": "2023-05-01T23:00:17.074137Z",
     "iopub.status.idle": "2023-05-01T23:00:17.115543Z",
     "shell.execute_reply": "2023-05-01T23:00:17.115023Z",
     "shell.execute_reply.started": "2023-05-01T23:00:17.074361Z"
    },
    "tags": []
   },
   "outputs": [],
   "source": [
    "import multiprocessing as mp\n",
    "from functools import cached_property, partial\n",
    "from typing import Collection\n",
    "from zipfile import ZipFile\n",
    "\n",
    "import numpy as np\n",
    "import pandas as pd\n",
    "from pandas import DataFrame\n",
    "from tqdm.autonotebook import tqdm\n",
    "\n",
    "from tsdm.datasets.base import MultiTableDataset\n",
    "from tsdm.types.variables import str_var as Key"
   ]
  },
  {
   "cell_type": "code",
   "execution_count": null,
   "metadata": {
    "execution": {
     "iopub.execute_input": "2023-05-01T22:28:24.155571Z",
     "iopub.status.busy": "2023-05-01T22:28:24.155398Z",
     "iopub.status.idle": "2023-05-01T22:28:24.267535Z",
     "shell.execute_reply": "2023-05-01T22:28:24.267104Z",
     "shell.execute_reply.started": "2023-05-01T22:28:24.155559Z"
    },
    "tags": []
   },
   "outputs": [],
   "source": [
    "key = self.rawdata_paths[fname], \"r\"\n",
    "\n",
    "with ZipFile(self.rawdata_paths[fname], \"r\") as archive:\n",
    "    files = [fname for fname in archive.namelist() if fname.endswith(\".psv\")]"
   ]
  },
  {
   "cell_type": "code",
   "execution_count": null,
   "metadata": {},
   "outputs": [],
   "source": []
  }
 ],
 "metadata": {
  "kernelspec": {
   "display_name": "Python 3 (ipykernel)",
   "language": "python",
   "name": "python3"
  },
  "language_info": {
   "codemirror_mode": {
    "name": "ipython",
    "version": 3
   },
   "file_extension": ".py",
   "mimetype": "text/x-python",
   "name": "python",
   "nbconvert_exporter": "python",
   "pygments_lexer": "ipython3",
   "version": "3.10.6"
  }
 },
 "nbformat": 4,
 "nbformat_minor": 4
}
