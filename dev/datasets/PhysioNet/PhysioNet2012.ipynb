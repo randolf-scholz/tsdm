{
 "cells": [
  {
   "cell_type": "markdown",
   "metadata": {},
   "source": [
    "# PhysioNet 2012"
   ]
  },
  {
   "cell_type": "code",
   "execution_count": null,
   "metadata": {
    "tags": []
   },
   "source": [
    "import logging\n",
    "\n",
    "logging.basicConfig(level=logging.INFO)\n",
    "\n",
    "import tsdm"
   ],
   "outputs": []
  },
  {
   "cell_type": "code",
   "execution_count": null,
   "metadata": {
    "tags": []
   },
   "source": [
    "self = tsdm.datasets.PhysioNet2012()\n",
    "self"
   ],
   "outputs": []
  },
  {
   "cell_type": "code",
   "execution_count": null,
   "metadata": {
    "tags": []
   },
   "source": [
    "self.timeseries"
   ],
   "outputs": []
  },
  {
   "cell_type": "code",
   "execution_count": null,
   "metadata": {
    "tags": []
   },
   "source": [
    "self.timeseries_description"
   ],
   "outputs": []
  },
  {
   "cell_type": "code",
   "execution_count": null,
   "metadata": {
    "tags": []
   },
   "source": [
    "self.timeseries.describe(percentiles=[0.01, 0.99]).T"
   ],
   "outputs": []
  },
  {
   "cell_type": "markdown",
   "metadata": {},
   "source": [
    "## Histograms"
   ]
  },
  {
   "cell_type": "code",
   "execution_count": null,
   "metadata": {
    "tags": []
   },
   "source": [
    "self.timeseries.hist(bins=20, figsize=(20, 15));"
   ],
   "outputs": []
  },
  {
   "cell_type": "markdown",
   "metadata": {},
   "source": [
    "## Marginal densities"
   ]
  },
  {
   "cell_type": "code",
   "execution_count": null,
   "metadata": {
    "tags": []
   },
   "source": [
    "self.timeseries.hist(bins=20, figsize=(20, 15), log=True, density=True);"
   ],
   "outputs": []
  },
  {
   "cell_type": "code",
   "execution_count": null,
   "metadata": {
    "tags": []
   },
   "source": [
    "self.metadata.hist(bins=20);"
   ],
   "outputs": []
  },
  {
   "cell_type": "code",
   "execution_count": null,
   "metadata": {},
   "source": [],
   "outputs": []
  },
  {
   "cell_type": "code",
   "execution_count": null,
   "metadata": {
    "tags": []
   },
   "source": [
    "data = [\n",
    "    # fmt: off\n",
    "    (\"PM2.5\", 0,    None, True, True, \"μg/m³\", \"PM2.5 concentration\"),\n",
    "    (\"PM10\",  0,    None, True, True, \"μg/m³\", \"PM10 concentration\" ),\n",
    "    (\"SO2\",   0,    None, True, True, \"μg/m³\", \"SO2 concentration\"  ),\n",
    "    (\"NO2\",   0,    None, True, True, \"μg/m³\", \"NO2 concentration\"  ),\n",
    "    (\"CO\",    0,    None, True, True, \"μg/m³\", \"CO concentration\"   ),\n",
    "    (\"O3\",    0,    None, True, True, \"μg/m³\", \"O3 concentration\"   ),\n",
    "    (\"TEMP\",  None, None, True, True, \"°C\",    \"temperature\"        ),\n",
    "    (\"PRES\",  0,    None, True, True, \"hPa\",   \"pressure\"           ),\n",
    "    (\"DEWP\",  None, None, True, True, \"°C\",    \"dew point\"          ),\n",
    "    (\"RAIN\",  0,    None, True, True, \"mm\",    \"precipitation\"      ),\n",
    "    (\"wd\",    None, None, True, True, None,    \"wind direction\"     ),\n",
    "    (\"WSPM\",  0,    None, True, True, \"m/s\",   \"wind speed\"         ),\n",
    "    # fmt: on\n",
    "]"
   ],
   "outputs": []
  },
  {
   "cell_type": "code",
   "execution_count": null,
   "metadata": {
    "tags": []
   },
   "source": [
    "import pyarrow as pa"
   ],
   "outputs": []
  },
  {
   "cell_type": "code",
   "execution_count": null,
   "metadata": {
    "tags": []
   },
   "source": [
    "table = pa.Table.from_pandas(\n",
    "    VF.reset_index()[[\"lower\", \"upper\", \"lower_included\", \"upper_included\"]]\n",
    ")"
   ],
   "outputs": []
  },
  {
   "cell_type": "code",
   "execution_count": null,
   "metadata": {
    "tags": []
   },
   "source": [
    "len([arr.combine_chunks() for arr in table])"
   ],
   "outputs": []
  },
  {
   "cell_type": "code",
   "execution_count": null,
   "metadata": {
    "tags": []
   },
   "source": [
    "dir(pa.parquet)"
   ],
   "outputs": []
  },
  {
   "cell_type": "code",
   "execution_count": null,
   "metadata": {
    "tags": []
   },
   "source": [
    "arr = pa.StructArray.from_arrays(\n",
    "    [arr.combine_chunks() for arr in table], fields=list(interval)\n",
    ")"
   ],
   "outputs": []
  },
  {
   "cell_type": "code",
   "execution_count": null,
   "metadata": {
    "tags": []
   },
   "source": [
    "t = pa.table([arr], names=[\"interval\"])"
   ],
   "outputs": []
  },
  {
   "cell_type": "code",
   "execution_count": null,
   "metadata": {
    "tags": []
   },
   "source": [
    "pa.parquet.write_table(t, \"foo\")"
   ],
   "outputs": []
  },
  {
   "cell_type": "code",
   "execution_count": null,
   "metadata": {},
   "source": [],
   "outputs": []
  },
  {
   "cell_type": "code",
   "execution_count": null,
   "metadata": {
    "tags": []
   },
   "source": [
    "interval = pa.struct({\n",
    "    \"lower\": pa.float32(),\n",
    "    \"upper\": pa.float32(),\n",
    "    \"lower_included\": pa.bool_(),\n",
    "    \"upper_included\": pa.bool_(),\n",
    "})\n",
    "interval"
   ],
   "outputs": []
  },
  {
   "cell_type": "code",
   "execution_count": null,
   "metadata": {
    "tags": []
   },
   "source": [],
   "outputs": []
  },
  {
   "cell_type": "code",
   "execution_count": null,
   "metadata": {},
   "source": [],
   "outputs": []
  }
 ],
 "metadata": {
  "kernelspec": {
   "display_name": "Python 3 (ipykernel)",
   "language": "python",
   "name": "python3"
  },
  "language_info": {
   "codemirror_mode": {
    "name": "ipython",
    "version": 3
   },
   "file_extension": ".py",
   "mimetype": "text/x-python",
   "name": "python",
   "nbconvert_exporter": "python",
   "pygments_lexer": "ipython3",
   "version": "3.10.6"
  }
 },
 "nbformat": 4,
 "nbformat_minor": 4
}
