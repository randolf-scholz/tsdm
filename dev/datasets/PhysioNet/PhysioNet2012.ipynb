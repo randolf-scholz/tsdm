{
 "cells": [
  {
   "cell_type": "markdown",
   "metadata": {},
   "source": [
    "# PhysioNet 2012"
   ]
  },
  {
   "cell_type": "code",
   "execution_count": null,
   "metadata": {
    "execution": {
     "iopub.execute_input": "2023-05-02T11:13:51.626676Z",
     "iopub.status.busy": "2023-05-02T11:13:51.626504Z",
     "iopub.status.idle": "2023-05-02T11:13:54.870413Z",
     "shell.execute_reply": "2023-05-02T11:13:54.869920Z",
     "shell.execute_reply.started": "2023-05-02T11:13:51.626654Z"
    },
    "tags": []
   },
   "outputs": [],
   "source": [
    "import os\n",
    "import tarfile\n",
    "import tempfile\n",
    "from collections.abc import Mapping\n",
    "from typing import IO, Any, Literal, TypeAlias\n",
    "\n",
    "import matplotlib.pyplot as plt\n",
    "import numpy as np\n",
    "import pandas as pd\n",
    "from pandas import DataFrame\n",
    "from tqdm.autonotebook import tqdm\n",
    "\n",
    "from tsdm.datasets.base import MultiTableDataset\n",
    "from tsdm.encoders import TripletDecoder\n",
    "from tsdm.types.aliases import PathLike"
   ]
  },
  {
   "cell_type": "code",
   "execution_count": null,
   "metadata": {
    "execution": {
     "iopub.execute_input": "2023-05-02T11:13:54.871583Z",
     "iopub.status.busy": "2023-05-02T11:13:54.871248Z",
     "iopub.status.idle": "2023-05-02T11:13:54.874840Z",
     "shell.execute_reply": "2023-05-02T11:13:54.874199Z",
     "shell.execute_reply.started": "2023-05-02T11:13:54.871568Z"
    },
    "tags": []
   },
   "outputs": [],
   "source": [
    "import logging\n",
    "\n",
    "logging.basicConfig(level=logging.INFO)\n",
    "\n",
    "import tsdm"
   ]
  },
  {
   "cell_type": "code",
   "execution_count": null,
   "metadata": {
    "execution": {
     "iopub.execute_input": "2023-05-02T11:13:54.875482Z",
     "iopub.status.busy": "2023-05-02T11:13:54.875377Z",
     "iopub.status.idle": "2023-05-02T11:13:54.983846Z",
     "shell.execute_reply": "2023-05-02T11:13:54.983352Z",
     "shell.execute_reply.started": "2023-05-02T11:13:54.875472Z"
    },
    "tags": []
   },
   "outputs": [],
   "source": [
    "self = tsdm.datasets.PhysioNet2012()"
   ]
  },
  {
   "cell_type": "code",
   "execution_count": null,
   "metadata": {
    "execution": {
     "iopub.execute_input": "2023-05-02T11:13:54.984637Z",
     "iopub.status.busy": "2023-05-02T11:13:54.984477Z",
     "iopub.status.idle": "2023-05-02T11:13:55.401712Z",
     "shell.execute_reply": "2023-05-02T11:13:55.401199Z",
     "shell.execute_reply.started": "2023-05-02T11:13:54.984624Z"
    },
    "tags": []
   },
   "outputs": [],
   "source": [
    "self.timeseries.describe(percentiles=[0.01, 0.99]).T"
   ]
  },
  {
   "cell_type": "markdown",
   "metadata": {},
   "source": [
    "## Histograms"
   ]
  },
  {
   "cell_type": "code",
   "execution_count": null,
   "metadata": {
    "execution": {
     "iopub.execute_input": "2023-05-02T11:13:55.402379Z",
     "iopub.status.busy": "2023-05-02T11:13:55.402240Z",
     "iopub.status.idle": "2023-05-02T11:13:58.745945Z",
     "shell.execute_reply": "2023-05-02T11:13:58.745482Z",
     "shell.execute_reply.started": "2023-05-02T11:13:55.402367Z"
    },
    "tags": []
   },
   "outputs": [],
   "source": [
    "self.timeseries.hist(bins=20, figsize=(20, 15));"
   ]
  },
  {
   "cell_type": "markdown",
   "metadata": {},
   "source": [
    "## Marginal densities"
   ]
  },
  {
   "cell_type": "code",
   "execution_count": null,
   "metadata": {
    "execution": {
     "iopub.execute_input": "2023-05-02T11:13:58.746695Z",
     "iopub.status.busy": "2023-05-02T11:13:58.746517Z",
     "iopub.status.idle": "2023-05-02T11:14:02.948624Z",
     "shell.execute_reply": "2023-05-02T11:14:02.948139Z",
     "shell.execute_reply.started": "2023-05-02T11:13:58.746683Z"
    },
    "tags": []
   },
   "outputs": [],
   "source": [
    "self.timeseries.hist(bins=20, figsize=(20, 15), log=True, density=True);"
   ]
  },
  {
   "cell_type": "code",
   "execution_count": null,
   "metadata": {
    "execution": {
     "iopub.execute_input": "2023-05-02T11:14:02.949795Z",
     "iopub.status.busy": "2023-05-02T11:14:02.949654Z",
     "iopub.status.idle": "2023-05-02T11:14:03.384325Z",
     "shell.execute_reply": "2023-05-02T11:14:03.383710Z",
     "shell.execute_reply.started": "2023-05-02T11:14:02.949784Z"
    },
    "tags": []
   },
   "outputs": [],
   "source": [
    "self.metadata.hist(bins=20);"
   ]
  }
 ],
 "metadata": {
  "kernelspec": {
   "display_name": "Python 3 (ipykernel)",
   "language": "python",
   "name": "python3"
  },
  "language_info": {
   "codemirror_mode": {
    "name": "ipython",
    "version": 3
   },
   "file_extension": ".py",
   "mimetype": "text/x-python",
   "name": "python",
   "nbconvert_exporter": "python",
   "pygments_lexer": "ipython3",
   "version": "3.11.3"
  }
 },
 "nbformat": 4,
 "nbformat_minor": 4
}
