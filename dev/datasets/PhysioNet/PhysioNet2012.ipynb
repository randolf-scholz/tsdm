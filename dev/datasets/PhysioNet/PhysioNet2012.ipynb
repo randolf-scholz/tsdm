{
 "cells": [
  {
   "cell_type": "markdown",
   "metadata": {},
   "source": [
    "# PhysioNet 2012"
   ]
  },
  {
   "cell_type": "code",
   "execution_count": null,
   "metadata": {
    "tags": []
   },
   "outputs": [],
   "source": [
    "import logging\n",
    "\n",
    "logging.basicConfig(level=logging.INFO)\n",
    "\n",
    "import tsdm"
   ]
  },
  {
   "cell_type": "code",
   "execution_count": null,
   "metadata": {
    "tags": []
   },
   "outputs": [],
   "source": [
    "self = tsdm.datasets.PhysioNet2012()\n",
    "self"
   ]
  },
  {
   "cell_type": "code",
   "execution_count": null,
   "metadata": {
    "tags": []
   },
   "outputs": [],
   "source": [
    "self.timeseries"
   ]
  },
  {
   "cell_type": "code",
   "execution_count": null,
   "metadata": {
    "tags": []
   },
   "outputs": [],
   "source": [
    "self.timeseries_description"
   ]
  },
  {
   "cell_type": "code",
   "execution_count": null,
   "metadata": {
    "tags": []
   },
   "outputs": [],
   "source": [
    "self.timeseries.describe(percentiles=[0.01, 0.99]).T"
   ]
  },
  {
   "cell_type": "markdown",
   "metadata": {},
   "source": [
    "## Histograms"
   ]
  },
  {
   "cell_type": "code",
   "execution_count": null,
   "metadata": {
    "tags": []
   },
   "outputs": [],
   "source": [
    "self.timeseries.hist(bins=20, figsize=(20, 15));"
   ]
  },
  {
   "cell_type": "markdown",
   "metadata": {},
   "source": [
    "## Marginal densities"
   ]
  },
  {
   "cell_type": "code",
   "execution_count": null,
   "metadata": {
    "tags": []
   },
   "outputs": [],
   "source": [
    "self.timeseries.hist(bins=20, figsize=(20, 15), log=True, density=True);"
   ]
  },
  {
   "cell_type": "code",
   "execution_count": null,
   "metadata": {
    "tags": []
   },
   "outputs": [],
   "source": [
    "self.metadata.hist(bins=20);"
   ]
  },
  {
   "cell_type": "code",
   "execution_count": null,
   "metadata": {},
   "outputs": [],
   "source": []
  },
  {
   "cell_type": "code",
   "execution_count": null,
   "metadata": {
    "tags": []
   },
   "outputs": [],
   "source": [
    "data = [\n",
    "    # fmt: off\n",
    "    (\"PM2.5\", 0,    None, True, True, \"μg/m³\", \"PM2.5 concentration\"),\n",
    "    (\"PM10\",  0,    None, True, True, \"μg/m³\", \"PM10 concentration\" ),\n",
    "    (\"SO2\",   0,    None, True, True, \"μg/m³\", \"SO2 concentration\"  ),\n",
    "    (\"NO2\",   0,    None, True, True, \"μg/m³\", \"NO2 concentration\"  ),\n",
    "    (\"CO\",    0,    None, True, True, \"μg/m³\", \"CO concentration\"   ),\n",
    "    (\"O3\",    0,    None, True, True, \"μg/m³\", \"O3 concentration\"   ),\n",
    "    (\"TEMP\",  None, None, True, True, \"°C\",    \"temperature\"        ),\n",
    "    (\"PRES\",  0,    None, True, True, \"hPa\",   \"pressure\"           ),\n",
    "    (\"DEWP\",  None, None, True, True, \"°C\",    \"dew point\"          ),\n",
    "    (\"RAIN\",  0,    None, True, True, \"mm\",    \"precipitation\"      ),\n",
    "    (\"wd\",    None, None, True, True, None,    \"wind direction\"     ),\n",
    "    (\"WSPM\",  0,    None, True, True, \"m/s\",   \"wind speed\"         ),\n",
    "    # fmt: on\n",
    "]"
   ]
  },
  {
   "cell_type": "code",
   "execution_count": null,
   "metadata": {
    "tags": []
   },
   "outputs": [],
   "source": [
    "import pyarrow as pa"
   ]
  },
  {
   "cell_type": "code",
   "execution_count": null,
   "metadata": {
    "tags": []
   },
   "outputs": [],
   "source": [
    "table = pa.Table.from_pandas(\n",
    "    VF.reset_index()[[\"lower\", \"upper\", \"lower_included\", \"upper_included\"]]\n",
    ")"
   ]
  },
  {
   "cell_type": "code",
   "execution_count": null,
   "metadata": {
    "tags": []
   },
   "outputs": [],
   "source": [
    "len([arr.combine_chunks() for arr in table])"
   ]
  },
  {
   "cell_type": "code",
   "execution_count": null,
   "metadata": {
    "tags": []
   },
   "outputs": [],
   "source": [
    "dir(pa.parquet)"
   ]
  },
  {
   "cell_type": "code",
   "execution_count": null,
   "metadata": {
    "tags": []
   },
   "outputs": [],
   "source": [
    "arr = pa.StructArray.from_arrays(\n",
    "    [arr.combine_chunks() for arr in table], fields=list(interval)\n",
    ")"
   ]
  },
  {
   "cell_type": "code",
   "execution_count": null,
   "metadata": {
    "tags": []
   },
   "outputs": [],
   "source": [
    "t = pa.table([arr], names=[\"interval\"])"
   ]
  },
  {
   "cell_type": "code",
   "execution_count": null,
   "metadata": {
    "tags": []
   },
   "outputs": [],
   "source": [
    "pa.parquet.write_table(t, \"foo\")"
   ]
  },
  {
   "cell_type": "code",
   "execution_count": null,
   "metadata": {},
   "outputs": [],
   "source": []
  },
  {
   "cell_type": "code",
   "execution_count": null,
   "metadata": {
    "tags": []
   },
   "outputs": [],
   "source": [
    "interval = pa.struct({\n",
    "    \"lower\": pa.float32(),\n",
    "    \"upper\": pa.float32(),\n",
    "    \"lower_included\": pa.bool_(),\n",
    "    \"upper_included\": pa.bool_(),\n",
    "})\n",
    "interval"
   ]
  },
  {
   "cell_type": "code",
   "execution_count": null,
   "metadata": {
    "tags": []
   },
   "outputs": [],
   "source": []
  },
  {
   "cell_type": "code",
   "execution_count": null,
   "metadata": {},
   "outputs": [],
   "source": []
  }
 ],
 "metadata": {
  "kernelspec": {
   "display_name": "Python 3 (ipykernel)",
   "language": "python",
   "name": "python3"
  },
  "language_info": {
   "codemirror_mode": {
    "name": "ipython",
    "version": 3
   },
   "file_extension": ".py",
   "mimetype": "text/x-python",
   "name": "python",
   "nbconvert_exporter": "python",
   "pygments_lexer": "ipython3",
   "version": "3.10.6"
  }
 },
 "nbformat": 4,
 "nbformat_minor": 4
}
