{
 "cells": [
  {
   "cell_type": "markdown",
   "metadata": {},
   "source": [
    "# PhysioNet 2012"
   ]
  },
  {
   "cell_type": "code",
   "execution_count": null,
   "metadata": {
    "execution": {
     "iopub.execute_input": "2023-05-04T12:44:55.577191Z",
     "iopub.status.busy": "2023-05-04T12:44:55.577013Z",
     "iopub.status.idle": "2023-05-04T12:44:58.687682Z",
     "shell.execute_reply": "2023-05-04T12:44:58.687168Z",
     "shell.execute_reply.started": "2023-05-04T12:44:55.577178Z"
    },
    "tags": []
   },
   "outputs": [],
   "source": [
    "import os\n",
    "import tarfile\n",
    "import tempfile\n",
    "from collections.abc import Mapping\n",
    "from typing import IO, Any, Literal, TypeAlias\n",
    "\n",
    "import matplotlib.pyplot as plt\n",
    "import numpy as np\n",
    "import pandas as pd\n",
    "from pandas import DataFrame\n",
    "from tqdm.autonotebook import tqdm\n",
    "\n",
    "from tsdm.datasets.base import MultiTableDataset\n",
    "from tsdm.encoders import TripletDecoder\n",
    "from tsdm.types.aliases import PathLike"
   ]
  },
  {
   "cell_type": "code",
   "execution_count": null,
   "metadata": {
    "execution": {
     "iopub.execute_input": "2023-05-04T12:44:58.688902Z",
     "iopub.status.busy": "2023-05-04T12:44:58.688562Z",
     "iopub.status.idle": "2023-05-04T12:44:58.690989Z",
     "shell.execute_reply": "2023-05-04T12:44:58.690694Z",
     "shell.execute_reply.started": "2023-05-04T12:44:58.688887Z"
    },
    "tags": []
   },
   "outputs": [],
   "source": [
    "import logging\n",
    "\n",
    "logging.basicConfig(level=logging.INFO)\n",
    "\n",
    "import tsdm"
   ]
  },
  {
   "cell_type": "code",
   "execution_count": null,
   "metadata": {
    "execution": {
     "iopub.execute_input": "2023-05-04T12:46:22.257455Z",
     "iopub.status.busy": "2023-05-04T12:46:22.257267Z",
     "iopub.status.idle": "2023-05-04T12:46:22.353583Z",
     "shell.execute_reply": "2023-05-04T12:46:22.353178Z",
     "shell.execute_reply.started": "2023-05-04T12:46:22.257442Z"
    },
    "tags": []
   },
   "outputs": [],
   "source": [
    "self = tsdm.datasets.PhysioNet2012()\n",
    "self"
   ]
  },
  {
   "cell_type": "code",
   "execution_count": null,
   "metadata": {
    "execution": {
     "iopub.execute_input": "2023-05-04T12:45:02.856218Z",
     "iopub.status.busy": "2023-05-04T12:45:02.856029Z",
     "iopub.status.idle": "2023-05-04T12:45:02.886050Z",
     "shell.execute_reply": "2023-05-04T12:45:02.885378Z",
     "shell.execute_reply.started": "2023-05-04T12:45:02.856204Z"
    },
    "tags": []
   },
   "outputs": [],
   "source": [
    "self.timeseries"
   ]
  },
  {
   "cell_type": "code",
   "execution_count": null,
   "metadata": {
    "execution": {
     "iopub.execute_input": "2023-05-04T12:45:07.999560Z",
     "iopub.status.busy": "2023-05-04T12:45:07.999396Z",
     "iopub.status.idle": "2023-05-04T12:45:08.007658Z",
     "shell.execute_reply": "2023-05-04T12:45:08.007365Z",
     "shell.execute_reply.started": "2023-05-04T12:45:07.999547Z"
    },
    "tags": []
   },
   "outputs": [],
   "source": [
    "self.timeseries_description"
   ]
  },
  {
   "cell_type": "code",
   "execution_count": null,
   "metadata": {
    "execution": {
     "iopub.execute_input": "2023-05-02T16:02:13.597279Z",
     "iopub.status.busy": "2023-05-02T16:02:13.597053Z",
     "iopub.status.idle": "2023-05-02T16:02:13.984571Z",
     "shell.execute_reply": "2023-05-02T16:02:13.984057Z",
     "shell.execute_reply.started": "2023-05-02T16:02:13.597260Z"
    },
    "tags": []
   },
   "outputs": [],
   "source": [
    "self.timeseries.describe(percentiles=[0.01, 0.99]).T"
   ]
  },
  {
   "cell_type": "markdown",
   "metadata": {},
   "source": [
    "## Histograms"
   ]
  },
  {
   "cell_type": "code",
   "execution_count": null,
   "metadata": {
    "execution": {
     "iopub.execute_input": "2023-05-02T16:02:13.985168Z",
     "iopub.status.busy": "2023-05-02T16:02:13.985053Z",
     "iopub.status.idle": "2023-05-02T16:02:16.905186Z",
     "shell.execute_reply": "2023-05-02T16:02:16.904790Z",
     "shell.execute_reply.started": "2023-05-02T16:02:13.985157Z"
    },
    "tags": []
   },
   "outputs": [],
   "source": [
    "self.timeseries.hist(bins=20, figsize=(20, 15));"
   ]
  },
  {
   "cell_type": "markdown",
   "metadata": {},
   "source": [
    "## Marginal densities"
   ]
  },
  {
   "cell_type": "code",
   "execution_count": null,
   "metadata": {
    "execution": {
     "iopub.execute_input": "2023-05-02T16:02:16.905787Z",
     "iopub.status.busy": "2023-05-02T16:02:16.905664Z",
     "iopub.status.idle": "2023-05-02T16:02:20.464539Z",
     "shell.execute_reply": "2023-05-02T16:02:20.463886Z",
     "shell.execute_reply.started": "2023-05-02T16:02:16.905774Z"
    },
    "tags": []
   },
   "outputs": [],
   "source": [
    "self.timeseries.hist(bins=20, figsize=(20, 15), log=True, density=True);"
   ]
  },
  {
   "cell_type": "code",
   "execution_count": null,
   "metadata": {
    "execution": {
     "iopub.execute_input": "2023-05-02T16:02:20.465746Z",
     "iopub.status.busy": "2023-05-02T16:02:20.465610Z",
     "iopub.status.idle": "2023-05-02T16:02:20.924925Z",
     "shell.execute_reply": "2023-05-02T16:02:20.924426Z",
     "shell.execute_reply.started": "2023-05-02T16:02:20.465735Z"
    },
    "tags": []
   },
   "outputs": [],
   "source": [
    "self.metadata.hist(bins=20);"
   ]
  },
  {
   "cell_type": "code",
   "execution_count": null,
   "metadata": {},
   "outputs": [],
   "source": []
  },
  {
   "cell_type": "code",
   "execution_count": null,
   "metadata": {
    "execution": {
     "iopub.execute_input": "2023-05-04T13:31:52.240021Z",
     "iopub.status.busy": "2023-05-04T13:31:52.239843Z",
     "iopub.status.idle": "2023-05-04T13:31:52.243795Z",
     "shell.execute_reply": "2023-05-04T13:31:52.243420Z",
     "shell.execute_reply.started": "2023-05-04T13:31:52.240009Z"
    },
    "tags": []
   },
   "outputs": [],
   "source": [
    "data = [\n",
    "    # fmt: off\n",
    "    (\"PM2.5\", 0,    None, True, True, \"μg/m³\", \"PM2.5 concentration\"),\n",
    "    (\"PM10\",  0,    None, True, True, \"μg/m³\", \"PM10 concentration\" ),\n",
    "    (\"SO2\",   0,    None, True, True, \"μg/m³\", \"SO2 concentration\"  ),\n",
    "    (\"NO2\",   0,    None, True, True, \"μg/m³\", \"NO2 concentration\"  ),\n",
    "    (\"CO\",    0,    None, True, True, \"μg/m³\", \"CO concentration\"   ),\n",
    "    (\"O3\",    0,    None, True, True, \"μg/m³\", \"O3 concentration\"   ),\n",
    "    (\"TEMP\",  None, None, True, True, \"°C\",    \"temperature\"        ),\n",
    "    (\"PRES\",  0,    None, True, True, \"hPa\",   \"pressure\"           ),\n",
    "    (\"DEWP\",  None, None, True, True, \"°C\",    \"dew point\"          ),\n",
    "    (\"RAIN\",  0,    None, True, True, \"mm\",    \"precipitation\"      ),\n",
    "    (\"wd\",    None, None, True, True, None,    \"wind direction\"     ),\n",
    "    (\"WSPM\",  0,    None, True, True, \"m/s\",   \"wind speed\"         ),\n",
    "    # fmt: on\n",
    "]"
   ]
  },
  {
   "cell_type": "code",
   "execution_count": null,
   "metadata": {
    "execution": {
     "iopub.execute_input": "2023-05-04T13:36:09.761410Z",
     "iopub.status.busy": "2023-05-04T13:36:09.761250Z",
     "iopub.status.idle": "2023-05-04T13:36:09.763556Z",
     "shell.execute_reply": "2023-05-04T13:36:09.763238Z",
     "shell.execute_reply.started": "2023-05-04T13:36:09.761398Z"
    },
    "tags": []
   },
   "outputs": [],
   "source": [
    "import pyarrow as pa"
   ]
  },
  {
   "cell_type": "code",
   "execution_count": null,
   "metadata": {
    "execution": {
     "iopub.execute_input": "2023-05-04T13:48:01.165099Z",
     "iopub.status.busy": "2023-05-04T13:48:01.164717Z",
     "iopub.status.idle": "2023-05-04T13:48:01.169806Z",
     "shell.execute_reply": "2023-05-04T13:48:01.169325Z",
     "shell.execute_reply.started": "2023-05-04T13:48:01.165085Z"
    },
    "tags": []
   },
   "outputs": [],
   "source": [
    "table = pa.Table.from_pandas(\n",
    "    VF.reset_index()[[\"lower\", \"upper\", \"lower_included\", \"upper_included\"]]\n",
    ")"
   ]
  },
  {
   "cell_type": "code",
   "execution_count": null,
   "metadata": {
    "execution": {
     "iopub.execute_input": "2023-05-04T13:48:02.228710Z",
     "iopub.status.busy": "2023-05-04T13:48:02.228549Z",
     "iopub.status.idle": "2023-05-04T13:48:02.231983Z",
     "shell.execute_reply": "2023-05-04T13:48:02.231665Z",
     "shell.execute_reply.started": "2023-05-04T13:48:02.228699Z"
    },
    "tags": []
   },
   "outputs": [],
   "source": [
    "len([arr.combine_chunks() for arr in table])"
   ]
  },
  {
   "cell_type": "code",
   "execution_count": null,
   "metadata": {
    "execution": {
     "iopub.execute_input": "2023-05-04T13:49:30.088977Z",
     "iopub.status.busy": "2023-05-04T13:49:30.088783Z",
     "iopub.status.idle": "2023-05-04T13:49:30.092275Z",
     "shell.execute_reply": "2023-05-04T13:49:30.091843Z",
     "shell.execute_reply.started": "2023-05-04T13:49:30.088966Z"
    },
    "tags": []
   },
   "outputs": [],
   "source": [
    "dir(pa.parquet)"
   ]
  },
  {
   "cell_type": "code",
   "execution_count": null,
   "metadata": {
    "execution": {
     "iopub.execute_input": "2023-05-04T13:52:06.105840Z",
     "iopub.status.busy": "2023-05-04T13:52:06.105678Z",
     "iopub.status.idle": "2023-05-04T13:52:06.108506Z",
     "shell.execute_reply": "2023-05-04T13:52:06.108145Z",
     "shell.execute_reply.started": "2023-05-04T13:52:06.105828Z"
    },
    "tags": []
   },
   "outputs": [],
   "source": [
    "arr = pa.StructArray.from_arrays(\n",
    "    [arr.combine_chunks() for arr in table], fields=list(interval)\n",
    ")"
   ]
  },
  {
   "cell_type": "code",
   "execution_count": null,
   "metadata": {
    "execution": {
     "iopub.execute_input": "2023-05-04T13:52:34.697227Z",
     "iopub.status.busy": "2023-05-04T13:52:34.697000Z",
     "iopub.status.idle": "2023-05-04T13:52:34.699832Z",
     "shell.execute_reply": "2023-05-04T13:52:34.699392Z",
     "shell.execute_reply.started": "2023-05-04T13:52:34.697215Z"
    },
    "tags": []
   },
   "outputs": [],
   "source": [
    "t = pa.table([arr], names=[\"interval\"])"
   ]
  },
  {
   "cell_type": "code",
   "execution_count": null,
   "metadata": {
    "execution": {
     "iopub.execute_input": "2023-05-04T13:52:51.379768Z",
     "iopub.status.busy": "2023-05-04T13:52:51.379151Z",
     "iopub.status.idle": "2023-05-04T13:52:51.388665Z",
     "shell.execute_reply": "2023-05-04T13:52:51.388148Z",
     "shell.execute_reply.started": "2023-05-04T13:52:51.379741Z"
    },
    "tags": []
   },
   "outputs": [],
   "source": [
    "pa.parquet.write_table(t, \"foo\")"
   ]
  },
  {
   "cell_type": "code",
   "execution_count": null,
   "metadata": {},
   "outputs": [],
   "source": []
  },
  {
   "cell_type": "code",
   "execution_count": null,
   "metadata": {
    "execution": {
     "iopub.execute_input": "2023-05-04T13:41:17.581937Z",
     "iopub.status.busy": "2023-05-04T13:41:17.581779Z",
     "iopub.status.idle": "2023-05-04T13:41:17.585342Z",
     "shell.execute_reply": "2023-05-04T13:41:17.585039Z",
     "shell.execute_reply.started": "2023-05-04T13:41:17.581925Z"
    },
    "tags": []
   },
   "outputs": [],
   "source": [
    "interval = pa.struct(\n",
    "    {\n",
    "        \"lower\": pa.float32(),\n",
    "        \"upper\": pa.float32(),\n",
    "        \"lower_included\": pa.bool_(),\n",
    "        \"upper_included\": pa.bool_(),\n",
    "    }\n",
    ")\n",
    "interval"
   ]
  },
  {
   "cell_type": "code",
   "execution_count": null,
   "metadata": {
    "execution": {
     "iopub.execute_input": "2023-05-04T13:44:35.779961Z",
     "iopub.status.busy": "2023-05-04T13:44:35.779773Z",
     "iopub.status.idle": "2023-05-04T13:44:35.783874Z",
     "shell.execute_reply": "2023-05-04T13:44:35.783593Z",
     "shell.execute_reply.started": "2023-05-04T13:44:35.779948Z"
    },
    "tags": []
   },
   "outputs": [],
   "source": []
  },
  {
   "cell_type": "code",
   "execution_count": null,
   "metadata": {},
   "outputs": [],
   "source": []
  }
 ],
 "metadata": {
  "kernelspec": {
   "display_name": "Python 3 (ipykernel)",
   "language": "python",
   "name": "python3"
  },
  "language_info": {
   "codemirror_mode": {
    "name": "ipython",
    "version": 3
   },
   "file_extension": ".py",
   "mimetype": "text/x-python",
   "name": "python",
   "nbconvert_exporter": "python",
   "pygments_lexer": "ipython3",
   "version": "3.10.6"
  }
 },
 "nbformat": 4,
 "nbformat_minor": 4
}
