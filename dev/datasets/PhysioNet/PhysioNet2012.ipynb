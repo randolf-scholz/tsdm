{
 "cells": [
  {
   "cell_type": "markdown",
   "metadata": {},
   "source": [
    "# PhysioNet 2012"
   ]
  },
  {
   "cell_type": "code",
   "execution_count": null,
   "metadata": {
    "execution": {
     "iopub.execute_input": "2023-05-02T16:01:03.628320Z",
     "iopub.status.busy": "2023-05-02T16:01:03.628161Z",
     "iopub.status.idle": "2023-05-02T16:01:06.834371Z",
     "shell.execute_reply": "2023-05-02T16:01:06.833954Z",
     "shell.execute_reply.started": "2023-05-02T16:01:03.628300Z"
    },
    "tags": []
   },
   "outputs": [],
   "source": [
    "import os\n",
    "import tarfile\n",
    "import tempfile\n",
    "from collections.abc import Mapping\n",
    "from typing import IO, Any, Literal, TypeAlias\n",
    "\n",
    "import matplotlib.pyplot as plt\n",
    "import numpy as np\n",
    "import pandas as pd\n",
    "from pandas import DataFrame\n",
    "from tqdm.autonotebook import tqdm\n",
    "\n",
    "from tsdm.datasets.base import MultiTableDataset\n",
    "from tsdm.encoders import TripletDecoder\n",
    "from tsdm.types.aliases import PathLike"
   ]
  },
  {
   "cell_type": "code",
   "execution_count": null,
   "metadata": {
    "execution": {
     "iopub.execute_input": "2023-05-02T16:01:06.835537Z",
     "iopub.status.busy": "2023-05-02T16:01:06.835221Z",
     "iopub.status.idle": "2023-05-02T16:01:06.838436Z",
     "shell.execute_reply": "2023-05-02T16:01:06.837967Z",
     "shell.execute_reply.started": "2023-05-02T16:01:06.835523Z"
    },
    "tags": []
   },
   "outputs": [],
   "source": [
    "import logging\n",
    "\n",
    "logging.basicConfig(level=logging.INFO)\n",
    "\n",
    "import tsdm"
   ]
  },
  {
   "cell_type": "code",
   "execution_count": null,
   "metadata": {
    "execution": {
     "iopub.execute_input": "2023-05-02T16:01:06.839040Z",
     "iopub.status.busy": "2023-05-02T16:01:06.838933Z",
     "iopub.status.idle": "2023-05-02T16:02:13.596476Z",
     "shell.execute_reply": "2023-05-02T16:02:13.596039Z",
     "shell.execute_reply.started": "2023-05-02T16:01:06.839029Z"
    },
    "tags": []
   },
   "outputs": [],
   "source": [
    "self = tsdm.datasets.PhysioNet2012()"
   ]
  },
  {
   "cell_type": "code",
   "execution_count": null,
   "metadata": {
    "execution": {
     "iopub.execute_input": "2023-05-02T16:02:13.597279Z",
     "iopub.status.busy": "2023-05-02T16:02:13.597053Z",
     "iopub.status.idle": "2023-05-02T16:02:13.984571Z",
     "shell.execute_reply": "2023-05-02T16:02:13.984057Z",
     "shell.execute_reply.started": "2023-05-02T16:02:13.597260Z"
    },
    "tags": []
   },
   "outputs": [],
   "source": [
    "self.timeseries.describe(percentiles=[0.01, 0.99]).T"
   ]
  },
  {
   "cell_type": "markdown",
   "metadata": {},
   "source": [
    "## Histograms"
   ]
  },
  {
   "cell_type": "code",
   "execution_count": null,
   "metadata": {
    "execution": {
     "iopub.execute_input": "2023-05-02T16:02:13.985168Z",
     "iopub.status.busy": "2023-05-02T16:02:13.985053Z",
     "iopub.status.idle": "2023-05-02T16:02:16.905186Z",
     "shell.execute_reply": "2023-05-02T16:02:16.904790Z",
     "shell.execute_reply.started": "2023-05-02T16:02:13.985157Z"
    },
    "tags": []
   },
   "outputs": [],
   "source": [
    "self.timeseries.hist(bins=20, figsize=(20, 15));"
   ]
  },
  {
   "cell_type": "markdown",
   "metadata": {},
   "source": [
    "## Marginal densities"
   ]
  },
  {
   "cell_type": "code",
   "execution_count": null,
   "metadata": {
    "execution": {
     "iopub.execute_input": "2023-05-02T16:02:16.905787Z",
     "iopub.status.busy": "2023-05-02T16:02:16.905664Z",
     "iopub.status.idle": "2023-05-02T16:02:20.464539Z",
     "shell.execute_reply": "2023-05-02T16:02:20.463886Z",
     "shell.execute_reply.started": "2023-05-02T16:02:16.905774Z"
    },
    "tags": []
   },
   "outputs": [],
   "source": [
    "self.timeseries.hist(bins=20, figsize=(20, 15), log=True, density=True);"
   ]
  },
  {
   "cell_type": "code",
   "execution_count": null,
   "metadata": {
    "execution": {
     "iopub.execute_input": "2023-05-02T16:02:20.465746Z",
     "iopub.status.busy": "2023-05-02T16:02:20.465610Z",
     "iopub.status.idle": "2023-05-02T16:02:20.924925Z",
     "shell.execute_reply": "2023-05-02T16:02:20.924426Z",
     "shell.execute_reply.started": "2023-05-02T16:02:20.465735Z"
    },
    "tags": []
   },
   "outputs": [],
   "source": [
    "self.metadata.hist(bins=20);"
   ]
  }
 ],
 "metadata": {
  "kernelspec": {
   "display_name": "Python 3 (ipykernel)",
   "language": "python",
   "name": "python3"
  },
  "language_info": {
   "codemirror_mode": {
    "name": "ipython",
    "version": 3
   },
   "file_extension": ".py",
   "mimetype": "text/x-python",
   "name": "python",
   "nbconvert_exporter": "python",
   "pygments_lexer": "ipython3",
   "version": "3.11.3"
  }
 },
 "nbformat": 4,
 "nbformat_minor": 4
}
