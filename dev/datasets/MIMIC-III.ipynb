{
 "cells": [
  {
   "cell_type": "code",
   "execution_count": null,
   "id": "48ad4886-bf56-4f02-83f8-e949b5a12e6b",
   "metadata": {},
   "outputs": [],
   "source": [
    "%config InteractiveShell.ast_node_interactivity='last_expr_or_assign'  # always print last expr.\n",
    "%config InlineBackend.figure_format = 'svg'\n",
    "%load_ext autoreload\n",
    "%autoreload 2\n",
    "%matplotlib inline"
   ]
  },
  {
   "cell_type": "code",
   "execution_count": null,
   "id": "d0310ea1-a4f4-4ab1-9fa2-579c1012a837",
   "metadata": {},
   "outputs": [],
   "source": [
    "import logging\n",
    "\n",
    "LOGGER = logging.getLogger(__name__)"
   ]
  },
  {
   "cell_type": "code",
   "execution_count": null,
   "id": "a65c9ae7-abd7-45d1-ae39-01f94bd30f9e",
   "metadata": {},
   "outputs": [],
   "source": [
    "import tsdm\n",
    "\n",
    "tsdm.config.RAWDATADIR"
   ]
  },
  {
   "cell_type": "code",
   "execution_count": null,
   "id": "45391f13-c9a4-4e11-a68f-37dec817d2d5",
   "metadata": {},
   "outputs": [],
   "source": [
    "import os\n",
    "import subprocess\n",
    "from getpass import getpass\n",
    "\n",
    "from tsdm.datasets.base import BaseDataset\n",
    "\n",
    "\n",
    "class MIMIC_III(BaseDataset):\n",
    "    base_url: str = r\"https://physionet.org/files/mimiciii/1.4/\"\n",
    "    info_url: str = r\"https://physionet.org/content/mimiciii/1.4/\"\n",
    "    dataset_files = \"observations.feather\"\n",
    "    rawdata_files = NotImplemented\n",
    "\n",
    "    def clean(self):\n",
    "        print(\n",
    "            \"Please manually apply the code found at\"\n",
    "            \"https://github.com/edebrouwer/gru_ode_bayes/tree/master/data_preproc/MIMIC\"\n",
    "            \"Use the data from the folder tsdm.config.RAWDATADIR (typically ~/.tsdm/rawdata/MIMIC_III)\"\n",
    "            \"You'll need to unzip the files, e.g. with `gunzip *.gz`\"\n",
    "        )\n",
    "\n",
    "    def load(self):\n",
    "        NotImplemented\n",
    "\n",
    "    def download(self, *, url=None):\n",
    "        cut_dirs = self.base_url.count(\"/\") - 3\n",
    "        url = self.base_url if url is None else url\n",
    "        user = input(\"MIMIC-III username: \")\n",
    "        password = getpass(prompt=\"MIMIC-III password: \", stream=None)\n",
    "\n",
    "        os.environ[\"PASSWORD\"] = password\n",
    "\n",
    "        subprocess.run(\n",
    "            f\"wget --user {user} --password $PASSWORD -c -r -np -nH -N \"\n",
    "            f\"--cut-dirs {cut_dirs} -P '{self.rawdata_dir}' {url}\",\n",
    "            shell=True,\n",
    "            check=True,\n",
    "        )"
   ]
  },
  {
   "cell_type": "code",
   "execution_count": null,
   "id": "2c4911b2-6a3a-41a3-998d-c9d3c6c2c5f9",
   "metadata": {
    "tags": []
   },
   "outputs": [],
   "source": [
    "ds = MIMIC_III()\n",
    "ds.download()"
   ]
  },
  {
   "cell_type": "code",
   "execution_count": null,
   "id": "ee23c88c-78a2-40f6-a82f-fe041fc79db3",
   "metadata": {},
   "outputs": [],
   "source": [
    "# 5 fold CV\n",
    "\n",
    "\n",
    "# 20% Valid\n",
    "# 10% test"
   ]
  },
  {
   "cell_type": "code",
   "execution_count": null,
   "id": "81cb1415-92bf-4536-b366-2015f7c72458",
   "metadata": {},
   "outputs": [],
   "source": []
  }
 ],
 "metadata": {
  "kernelspec": {
   "display_name": "Python 3 (ipykernel)",
   "language": "python",
   "name": "python3"
  },
  "language_info": {
   "codemirror_mode": {
    "name": "ipython",
    "version": 3
   },
   "file_extension": ".py",
   "mimetype": "text/x-python",
   "name": "python",
   "nbconvert_exporter": "python",
   "pygments_lexer": "ipython3",
   "version": "3.9.12"
  }
 },
 "nbformat": 4,
 "nbformat_minor": 5
}
