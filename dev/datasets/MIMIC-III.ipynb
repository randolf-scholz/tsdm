{
 "cells": [
  {
   "cell_type": "code",
   "execution_count": null,
   "id": "48ad4886-bf56-4f02-83f8-e949b5a12e6b",
   "metadata": {},
   "outputs": [],
   "source": [
    "%config InteractiveShell.ast_node_interactivity='last_expr_or_assign'  # always print last expr.\n",
    "%config InlineBackend.figure_format = 'svg'\n",
    "%load_ext autoreload\n",
    "%autoreload 2\n",
    "%matplotlib inline"
   ]
  },
  {
   "cell_type": "code",
   "execution_count": null,
   "id": "d0310ea1-a4f4-4ab1-9fa2-579c1012a837",
   "metadata": {},
   "outputs": [],
   "source": [
    "import logging\n",
    "\n",
    "logging.basicConfig(level=logging.DEBUG)\n",
    "LOGGER = logging.getLogger(__name__)"
   ]
  },
  {
   "cell_type": "code",
   "execution_count": null,
   "id": "a3804f02-cd1c-4c65-b8e1-adc481f53f3f",
   "metadata": {
    "tags": []
   },
   "outputs": [],
   "source": [
    "import tsdm"
   ]
  },
  {
   "cell_type": "code",
   "execution_count": null,
   "id": "45391f13-c9a4-4e11-a68f-37dec817d2d5",
   "metadata": {
    "tags": []
   },
   "outputs": [],
   "source": [
    "import os\n",
    "import subprocess\n",
    "from getpass import getpass\n",
    "\n",
    "import pandas as pd\n",
    "\n",
    "from tsdm.datasets.base import BaseDataset, SimpleDataset\n",
    "\n",
    "\n",
    "class MIMIC_III(SimpleDataset):\n",
    "    base_url: str = r\"https://physionet.org/content/mimiciii/get-zip/1.4/\"\n",
    "    info_url: str = r\"https://physionet.org/content/mimiciii/1.4/\"\n",
    "    # dataset_files = \"observations.feather\"\n",
    "    \n",
    "    @property\n",
    "    def rawdata_files(self):\n",
    "        return self.rawdata_dir / \"mimic-iii-clinical-database-1.4.zip\"\n",
    "\n",
    "    def _clean(self):\n",
    "        if not (self.rawdata_dir / \"complete_tensor.csv\").exists():\n",
    "            raise RuntimeError(\n",
    "                \"Please apply the preprocessing code found at\"\n",
    "                \"\\nhttps://github.com/edebrouwer/gru_ode_bayes/\"\n",
    "                f\"\\nPut the resulting file 'complete_tensor.csv' in {self.rawdata_dir}\"\n",
    "            )\n",
    "\n",
    "    def _load(self):\n",
    "        # return NotImplemented\n",
    "        return pd.read_feather(self.rawdata_dir / self.rawdata_files)\n",
    "\n",
    "    def _download(self):\n",
    "        cut_dirs = self.base_url.count(\"/\") - 3\n",
    "        user = input(\"MIMIC-III username: \")\n",
    "        password = getpass(prompt=\"MIMIC-III password: \", stream=None)\n",
    "\n",
    "        os.environ[\"PASSWORD\"] = password\n",
    "\n",
    "        subprocess.run(\n",
    "            f\"wget --user {user} --password $PASSWORD -c -r -np -nH -N \"\n",
    "            f\"--cut-dirs {cut_dirs} -P '{self.rawdata_dir}' {self.base_url} \"\n",
    "            shell=True,\n",
    "            check=True,\n",
    "        )\n",
    "        \n",
    "        file = self.rawdata_dir / \"index.html\"\n",
    "        assert "
   ]
  },
  {
   "cell_type": "code",
   "execution_count": null,
   "id": "9fe030cc-d4c9-41c2-a4bf-b9fb99acad5a",
   "metadata": {},
   "outputs": [],
   "source": [
    "ds = MIMIC_III()\n",
    "# ds.rawdata_files_exist()"
   ]
  }
 ],
 "metadata": {
  "kernelspec": {
   "display_name": "Python 3 (ipykernel)",
   "language": "python",
   "name": "python3"
  },
  "language_info": {
   "codemirror_mode": {
    "name": "ipython",
    "version": 3
   },
   "file_extension": ".py",
   "mimetype": "text/x-python",
   "name": "python",
   "nbconvert_exporter": "python",
   "pygments_lexer": "ipython3",
   "version": "3.9.12"
  }
 },
 "nbformat": 4,
 "nbformat_minor": 5
}
