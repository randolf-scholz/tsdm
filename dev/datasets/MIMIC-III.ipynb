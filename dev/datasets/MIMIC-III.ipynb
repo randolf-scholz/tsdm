{
 "cells": [
  {
   "cell_type": "code",
   "execution_count": 1,
   "id": "48ad4886-bf56-4f02-83f8-e949b5a12e6b",
   "metadata": {},
   "outputs": [],
   "source": [
    "%config InteractiveShell.ast_node_interactivity='last_expr_or_assign'  # always print last expr.\n",
    "%config InlineBackend.figure_format = 'svg'\n",
    "%load_ext autoreload\n",
    "%autoreload 2\n",
    "%matplotlib inline"
   ]
  },
  {
   "cell_type": "code",
   "execution_count": 2,
   "id": "d1e22b6e-7e7c-436a-8b70-828745d0ead8",
   "metadata": {},
   "outputs": [],
   "source": [
    "from tsdm.datasets import BaseDataset\n",
    "\n",
    "import getpass"
   ]
  },
  {
   "cell_type": "code",
   "execution_count": 3,
   "id": "7461896b-b634-4d84-822b-3ebcb19580f8",
   "metadata": {},
   "outputs": [],
   "source": [
    "import logging\n",
    "import subprocess\n",
    "LOGGER = logging.getLogger(__name__)\n",
    "import os\n",
    "\n",
    "\n",
    "class MIMIC_III(BaseDataset):\n",
    "    url = r\"https://physionet.org/files/mimiciii/1.4/\"\n",
    "    \n",
    "    \n",
    "    \n",
    "    \n",
    "    @classmethod\n",
    "    def download(cls):\n",
    "        r\"\"\"Download the dataset and stores it in `cls.rawdata_path`.\n",
    "\n",
    "        The default downloader checks if\n",
    "\n",
    "        1. The url points to kaggle.com => uses `kaggle competition download`\n",
    "        2. The url points to github.com => checkout directory with `svn`\n",
    "        3. Else simply use `wget` to download the `cls.url` content,\n",
    "\n",
    "        Overwrite if you need custom downloader\n",
    "        \"\"\"\n",
    "        if cls.url is None:\n",
    "            LOGGER.info(\"Dataset '%s' provides no url. Assumed offline\", cls.__name__)\n",
    "            return\n",
    "\n",
    "        dataset = cls.__name__\n",
    "        LOGGER.info(\"Obtaining dataset '%s' from %s\", dataset, cls.url)\n",
    "\n",
    "        cut_dirs = cls.url.count(\"/\") - 3\n",
    "            \n",
    "        user = input(\"MIMIC-III username\")\n",
    "        password = getpass.getpass(prompt='MIMIC-III password: ', stream=None)\n",
    "        \n",
    "        os.environ[\"PASSWORD\"] = password\n",
    "        \n",
    "        subprocess.run(\n",
    "            f\"wget --user {user} --password $PASSWORD -c -r -np -nH -N --cut-dirs {cut_dirs} -P '{cls.rawdata_path}' {cls.url}\",\n",
    "            shell=True,\n",
    "            check=True,\n",
    "        )\n",
    "\n",
    "        LOGGER.info(\"Finished importing dataset '%s' from %s\", dataset, cls.url)\n"
   ]
  },
  {
   "cell_type": "code",
   "execution_count": 4,
   "id": "0b80aa09-3286-4025-a203-2aee8c633b02",
   "metadata": {
    "scrolled": true,
    "tags": []
   },
   "outputs": [],
   "source": [
    "MIMIC_III.download()"
   ]
  },
  {
   "cell_type": "code",
   "execution_count": null,
   "id": "45391f13-c9a4-4e11-a68f-37dec817d2d5",
   "metadata": {},
   "outputs": [],
   "source": []
  }
 ],
 "metadata": {
  "kernelspec": {
   "display_name": "Python 3 (ipykernel)",
   "language": "python",
   "name": "python3"
  },
  "language_info": {
   "codemirror_mode": {
    "name": "ipython",
    "version": 3
   },
   "file_extension": ".py",
   "mimetype": "text/x-python",
   "name": "python",
   "nbconvert_exporter": "python",
   "pygments_lexer": "ipython3",
   "version": "3.9.7"
  }
 },
 "nbformat": 4,
 "nbformat_minor": 5
}
