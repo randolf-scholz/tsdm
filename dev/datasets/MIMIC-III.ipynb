{
 "cells": [
  {
   "cell_type": "code",
   "execution_count": null,
   "id": "48ad4886-bf56-4f02-83f8-e949b5a12e6b",
   "metadata": {},
   "outputs": [],
   "source": [
    "%config InteractiveShell.ast_node_interactivity='last_expr_or_assign'  # always print last expr.\n",
    "%config InlineBackend.figure_format = 'svg'\n",
    "%load_ext autoreload\n",
    "%autoreload 2\n",
    "%matplotlib inline"
   ]
  },
  {
   "cell_type": "code",
   "execution_count": null,
   "id": "d0310ea1-a4f4-4ab1-9fa2-579c1012a837",
   "metadata": {},
   "outputs": [],
   "source": [
    "import logging\n",
    "\n",
    "logging.basicConfig(level=logging.DEBUG)\n",
    "LOGGER = logging.getLogger(__name__)"
   ]
  },
  {
   "cell_type": "code",
   "execution_count": null,
   "id": "a3804f02-cd1c-4c65-b8e1-adc481f53f3f",
   "metadata": {
    "tags": []
   },
   "outputs": [],
   "source": [
    "import tsdm"
   ]
  },
  {
   "cell_type": "code",
   "execution_count": null,
   "id": "45391f13-c9a4-4e11-a68f-37dec817d2d5",
   "metadata": {},
   "outputs": [],
   "source": [
    "import os\n",
    "import pandas as pd\n",
    "import subprocess\n",
    "from getpass import getpass\n",
    "\n",
    "from tsdm.datasets.base import BaseDataset, SimpleDataset\n",
    "\n",
    "\n",
    "class MIMIC_III(SimpleDataset):\n",
    "    base_url: str = r\"https://physionet.org/content/mimiciii/get-zip/1.4/\"\n",
    "    info_url: str = r\"https://physionet.org/content/mimiciii/1.4/\"\n",
    "    # dataset_files = \"observations.feather\"\n",
    "    # rawdata_files = \"mimic-iii-clinical-database-1.4.zip\"\n",
    "    rawdata_files = \"index.hml\"\n",
    "\n",
    "    def _clean(self):\n",
    "        print(\n",
    "            \"Please manually apply the code found at\"\n",
    "            \"https://github.com/edebrouwer/gru_ode_bayes/tree/master/data_preproc/MIMIC\"\n",
    "            \"Use the data from the folder tsdm.config.RAWDATADIR (typically ~/.tsdm/rawdata/MIMIC_III)\"\n",
    "            \"You'll need to unzip the files, e.g. with `gunzip *.gz`\"\n",
    "        )\n",
    "\n",
    "    def _load(self):\n",
    "        # return NotImplemented\n",
    "        return pd.read_feather(self.rawdata_dir / self.rawdata_files)\n",
    "\n",
    "    def _download(self, *, url=None):\n",
    "        cut_dirs = self.base_url.count(\"/\") - 3\n",
    "        url = self.base_url if url is None else url\n",
    "        user = input(\"MIMIC-III username: \")\n",
    "        password = getpass(prompt=\"MIMIC-III password: \", stream=None)\n",
    "\n",
    "        os.environ[\"PASSWORD\"] = password\n",
    "\n",
    "        subprocess.run(\n",
    "            f\"wget --user {user} --password $PASSWORD -c -r -np -nH -N \"\n",
    "            f\"--cut-dirs {cut_dirs} -P '{self.rawdata_dir}' {url}\",\n",
    "            shell=True,\n",
    "            check=True,\n",
    "        )"
   ]
  },
  {
   "cell_type": "code",
   "execution_count": null,
   "id": "9fe030cc-d4c9-41c2-a4bf-b9fb99acad5a",
   "metadata": {},
   "outputs": [],
   "source": [
    "ds = MIMIC_III(initialize=False)"
   ]
  },
  {
   "cell_type": "code",
   "execution_count": null,
   "id": "2c4911b2-6a3a-41a3-998d-c9d3c6c2c5f9",
   "metadata": {
    "tags": []
   },
   "outputs": [],
   "source": [
    "ds = MIMIC_III()"
   ]
  },
  {
   "cell_type": "code",
   "execution_count": null,
   "id": "ee23c88c-78a2-40f6-a82f-fe041fc79db3",
   "metadata": {},
   "outputs": [],
   "source": [
    "# 5 fold CV\n",
    "\n",
    "\n",
    "# 20% Valid\n",
    "# 10% test"
   ]
  },
  {
   "cell_type": "code",
   "execution_count": null,
   "id": "81cb1415-92bf-4536-b366-2015f7c72458",
   "metadata": {},
   "outputs": [],
   "source": [
    "import tsdm\n",
    "from tsdm.datasets import ETT"
   ]
  },
  {
   "cell_type": "code",
   "execution_count": null,
   "id": "9b3ac892-53a0-403d-9c5c-0ec026df3a45",
   "metadata": {},
   "outputs": [],
   "source": [
    "ds = ETT()\n",
    "ds[\"ETTh1\"]"
   ]
  },
  {
   "cell_type": "code",
   "execution_count": null,
   "id": "c103d5ac-5540-47b4-bb19-ed0b36686abb",
   "metadata": {},
   "outputs": [],
   "source": [
    "tsdm.datasets.DATASETS"
   ]
  },
  {
   "cell_type": "code",
   "execution_count": null,
   "id": "6df9d4d2-7b3b-48aa-89ee-1e579927dba9",
   "metadata": {},
   "outputs": [],
   "source": [
    "for DS in tsdm.datasets.DATASETS.values():\n",
    "    print(DS.base_url)"
   ]
  },
  {
   "cell_type": "code",
   "execution_count": null,
   "id": "f3940396-8c69-4fb6-b18f-7d8d87747c03",
   "metadata": {},
   "outputs": [],
   "source": [
    "import logging\n",
    "\n",
    "logging.basicConfig(level=logging.DEBUG)\n",
    "LOGGER = logging.getLogger(__name__)"
   ]
  },
  {
   "cell_type": "code",
   "execution_count": null,
   "id": "c6269cb4-4066-447e-ba58-25b2add453a3",
   "metadata": {
    "tags": []
   },
   "outputs": [],
   "source": [
    "import tsdm"
   ]
  },
  {
   "cell_type": "code",
   "execution_count": null,
   "id": "679c6e04-2c52-4899-a929-437d14e109c0",
   "metadata": {
    "tags": []
   },
   "outputs": [],
   "source": [
    "ds = tsdm.datasets.KIWI_RUNS()\n",
    "ds.timeseries"
   ]
  },
  {
   "cell_type": "code",
   "execution_count": null,
   "id": "38cfb046-3923-4219-8ac4-522dec46f91c",
   "metadata": {},
   "outputs": [],
   "source": []
  }
 ],
 "metadata": {
  "kernelspec": {
   "display_name": "Python 3 (ipykernel)",
   "language": "python",
   "name": "python3"
  },
  "language_info": {
   "codemirror_mode": {
    "name": "ipython",
    "version": 3
   },
   "file_extension": ".py",
   "mimetype": "text/x-python",
   "name": "python",
   "nbconvert_exporter": "python",
   "pygments_lexer": "ipython3",
   "version": "3.9.12"
  }
 },
 "nbformat": 4,
 "nbformat_minor": 5
}
