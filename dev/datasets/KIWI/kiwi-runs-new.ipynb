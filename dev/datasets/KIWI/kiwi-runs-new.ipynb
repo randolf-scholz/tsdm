{
 "cells": [
  {
   "cell_type": "markdown",
   "id": "05fa9448-f0ce-4435-9ab4-148f3b304c23",
   "metadata": {},
   "source": [
    "# Improved Dataset Pipeline"
   ]
  },
  {
   "cell_type": "code",
   "execution_count": null,
   "id": "20191951-beec-414a-b3c6-89dca8277ad2",
   "metadata": {
    "execution": {
     "iopub.execute_input": "2022-10-17T18:57:59.941275Z",
     "iopub.status.busy": "2022-10-17T18:57:59.941103Z",
     "iopub.status.idle": "2022-10-17T18:58:00.262568Z",
     "shell.execute_reply": "2022-10-17T18:58:00.262165Z",
     "shell.execute_reply.started": "2022-10-17T18:57:59.941230Z"
    },
    "tags": []
   },
   "outputs": [],
   "source": [
    "%config InteractiveShell.ast_node_interactivity='last_expr_or_assign'  # always print last expr.\n",
    "%config InlineBackend.figure_format = 'svg'\n",
    "%load_ext autoreload\n",
    "%autoreload 2\n",
    "%matplotlib inline"
   ]
  },
  {
   "cell_type": "code",
   "execution_count": null,
   "id": "58b7f6d7",
   "metadata": {
    "execution": {
     "iopub.execute_input": "2022-10-17T18:58:00.263740Z",
     "iopub.status.busy": "2022-10-17T18:58:00.263488Z",
     "iopub.status.idle": "2022-10-17T18:58:01.416660Z",
     "shell.execute_reply": "2022-10-17T18:58:01.415354Z",
     "shell.execute_reply.started": "2022-10-17T18:58:00.263727Z"
    },
    "tags": []
   },
   "outputs": [],
   "source": [
    "import tsdm\n",
    "from tsdm.random.stats import data_overview"
   ]
  },
  {
   "cell_type": "code",
   "execution_count": null,
   "id": "1862636d-677f-4f35-98d0-5ec84cdff3ce",
   "metadata": {
    "execution": {
     "iopub.execute_input": "2022-10-17T18:58:01.417834Z",
     "iopub.status.busy": "2022-10-17T18:58:01.417483Z",
     "iopub.status.idle": "2022-10-17T18:58:01.448193Z",
     "shell.execute_reply": "2022-10-17T18:58:01.447760Z",
     "shell.execute_reply.started": "2022-10-17T18:58:01.417819Z"
    },
    "tags": []
   },
   "outputs": [],
   "source": [
    "import pickle\n",
    "\n",
    "import numpy as np\n",
    "import pandas as pd\n",
    "from pandas import DataFrame, Series\n",
    "\n",
    "\n",
    "def float_is_int(series: Series) -> bool:\n",
    "    r\"\"\"Check if all float values are integers.\"\"\"\n",
    "    mask = pd.notna(series)\n",
    "    return series[mask].apply(float.is_integer).all()\n",
    "\n",
    "\n",
    "def get_integer_cols(table: DataFrame) -> set[str]:\n",
    "    r\"\"\"Get all columns that contain only integers.\"\"\"\n",
    "    cols = set()\n",
    "    for col in table:\n",
    "        if np.issubdtype(table[col].dtype, np.integer):\n",
    "            # __logger__.debug(\"Integer column                       : %s\", col)\n",
    "            cols.add(col)\n",
    "        elif np.issubdtype(table[col].dtype, np.floating) and float_is_int(table[col]):\n",
    "            # __logger__.debug(\"Integer column pretending to be float: %s\", col)\n",
    "            cols.add(col)\n",
    "    return cols"
   ]
  },
  {
   "cell_type": "code",
   "execution_count": null,
   "id": "d695b42b",
   "metadata": {
    "execution": {
     "iopub.execute_input": "2022-10-17T18:58:01.448959Z",
     "iopub.status.busy": "2022-10-17T18:58:01.448783Z",
     "iopub.status.idle": "2022-10-17T18:58:01.477974Z",
     "shell.execute_reply": "2022-10-17T18:58:01.477463Z",
     "shell.execute_reply.started": "2022-10-17T18:58:01.448947Z"
    },
    "tags": []
   },
   "outputs": [],
   "source": [
    "ds = tsdm.datasets.KIWI_RUNS(initialize=False)"
   ]
  },
  {
   "cell_type": "code",
   "execution_count": null,
   "id": "8ec8945f-fad1-4ca9-8a42-f4ffd90336b2",
   "metadata": {
    "execution": {
     "iopub.execute_input": "2022-10-17T18:58:01.479236Z",
     "iopub.status.busy": "2022-10-17T18:58:01.478676Z",
     "iopub.status.idle": "2022-10-17T18:58:01.851533Z",
     "shell.execute_reply": "2022-10-17T18:58:01.851003Z",
     "shell.execute_reply.started": "2022-10-17T18:58:01.479213Z"
    },
    "tags": []
   },
   "outputs": [],
   "source": [
    "with open(ds.rawdata_paths, \"rb\") as file:\n",
    "    ds.LOGGER.info(\"Loading raw data from %s\", ds.rawdata_paths)\n",
    "    data = pickle.load(file)"
   ]
  },
  {
   "cell_type": "code",
   "execution_count": null,
   "id": "ee7d1c73-c0a6-40b4-8b45-30ea3537086e",
   "metadata": {
    "execution": {
     "iopub.execute_input": "2022-10-17T18:58:01.852325Z",
     "iopub.status.busy": "2022-10-17T18:58:01.852136Z",
     "iopub.status.idle": "2022-10-17T18:58:01.879804Z",
     "shell.execute_reply": "2022-10-17T18:58:01.879198Z",
     "shell.execute_reply.started": "2022-10-17T18:58:01.852308Z"
    },
    "tags": []
   },
   "outputs": [],
   "source": [
    "data.keys()"
   ]
  },
  {
   "cell_type": "code",
   "execution_count": null,
   "id": "48dda4c8-8e52-4068-996a-73ab2c2e4a06",
   "metadata": {
    "execution": {
     "iopub.execute_input": "2022-10-17T18:58:01.882025Z",
     "iopub.status.busy": "2022-10-17T18:58:01.881839Z",
     "iopub.status.idle": "2022-10-17T18:58:01.912912Z",
     "shell.execute_reply": "2022-10-17T18:58:01.912237Z",
     "shell.execute_reply.started": "2022-10-17T18:58:01.882011Z"
    },
    "tags": []
   },
   "outputs": [],
   "source": [
    "data[439].keys()"
   ]
  },
  {
   "cell_type": "code",
   "execution_count": null,
   "id": "795e55ff-1212-467b-a475-b35cfd278480",
   "metadata": {
    "execution": {
     "iopub.execute_input": "2022-10-17T18:58:01.914224Z",
     "iopub.status.busy": "2022-10-17T18:58:01.913894Z",
     "iopub.status.idle": "2022-10-17T18:58:01.942468Z",
     "shell.execute_reply": "2022-10-17T18:58:01.941645Z",
     "shell.execute_reply.started": "2022-10-17T18:58:01.914197Z"
    },
    "tags": []
   },
   "outputs": [],
   "source": [
    "data[439][15325].keys()"
   ]
  },
  {
   "cell_type": "code",
   "execution_count": null,
   "id": "4026eb17-9994-49b7-a5c8-be8b182a2ab1",
   "metadata": {
    "execution": {
     "iopub.execute_input": "2022-10-17T18:58:01.944308Z",
     "iopub.status.busy": "2022-10-17T18:58:01.943849Z",
     "iopub.status.idle": "2022-10-17T18:58:01.986789Z",
     "shell.execute_reply": "2022-10-17T18:58:01.986041Z",
     "shell.execute_reply.started": "2022-10-17T18:58:01.944275Z"
    },
    "tags": []
   },
   "outputs": [],
   "source": [
    "data[439][15325][\"metadata\"]"
   ]
  },
  {
   "cell_type": "markdown",
   "id": "87abcad9-67d2-4c03-b4d3-438d6e0f2c58",
   "metadata": {},
   "source": [
    "## Metadata"
   ]
  },
  {
   "cell_type": "code",
   "execution_count": null,
   "id": "4567b273-23d3-4a1b-be85-427d93c8254f",
   "metadata": {
    "execution": {
     "iopub.execute_input": "2022-10-17T18:58:01.987773Z",
     "iopub.status.busy": "2022-10-17T18:58:01.987565Z",
     "iopub.status.idle": "2022-10-17T18:58:02.224565Z",
     "shell.execute_reply": "2022-10-17T18:58:02.223983Z",
     "shell.execute_reply.started": "2022-10-17T18:58:01.987754Z"
    },
    "tags": []
   },
   "outputs": [],
   "source": [
    "metadata = {\n",
    "    (outer_key, inner_key): tables[\"metadata\"]\n",
    "    for outer_key, experiment in data.items()\n",
    "    for inner_key, tables in experiment.items()\n",
    "}\n",
    "\n",
    "metadata = pd.concat(metadata, names=[\"run_id\", \"exp_id\"])\n",
    "\n",
    "mu_sets = metadata[\"description_x\"].str.split(\" \", expand=True)\n",
    "mu_sets.columns = [\"name\", \"percent\", \"amount\", \"unit\", \"chemical\"]\n",
    "mu_sets[\"percent\"] = mu_sets[\"percent\"].str.split(\"%\", expand=True)[0]\n",
    "metadata[\"μ_set\"] = mu_sets[\"percent\"]\n",
    "metadata[\"IPTG\"] = mu_sets[\"amount\"]"
   ]
  },
  {
   "cell_type": "code",
   "execution_count": null,
   "id": "4fce2038-d7af-42f3-9df4-a1b837cf3ac0",
   "metadata": {
    "execution": {
     "iopub.execute_input": "2022-10-17T18:58:02.225315Z",
     "iopub.status.busy": "2022-10-17T18:58:02.225160Z",
     "iopub.status.idle": "2022-10-17T18:58:02.283492Z",
     "shell.execute_reply": "2022-10-17T18:58:02.282843Z",
     "shell.execute_reply.started": "2022-10-17T18:58:02.225294Z"
    },
    "tags": []
   },
   "outputs": [],
   "source": [
    "# fmt: off\n",
    "column_dtypes = {\n",
    "    \"experiment_id\"          : \"Int32\",\n",
    "    \"bioreactor_id\"          : \"Int32\",\n",
    "    \"container_number\"       : \"Int32\",\n",
    "    \"profile_id\"             : \"Int32\",\n",
    "    \"starter_culture_id\"     : \"Int32\",\n",
    "    \"inactivation_method_id\" : \"Int32\",\n",
    "    \"description_x\"          : \"string[pyarrow]\",\n",
    "    \"color\"                  : \"string[pyarrow]\",\n",
    "    \"profile_name\"           : \"string[pyarrow]\",\n",
    "    \"folder_id_x\"            : \"Int32\",\n",
    "    \"organism_id\"            : \"Int32\",\n",
    "    \"plasmid_id\"             : \"Int32\",\n",
    "    \"medium_id\"              : \"Int32\",\n",
    "    \"description_y\"          : \"string[pyarrow]\",\n",
    "    \"run_id\"                 : \"Int32\",\n",
    "    \"Acetate_Dilution\"       : \"Int32\",\n",
    "    \"Feed_concentration_glc\" : \"Int32\",\n",
    "    \"InducerConcentration\"   : \"Int32\",\n",
    "    \"OD_Dilution\"            : \"Int32\",\n",
    "    \"Stir_Max_Restarts\"      : \"Int32\",\n",
    "    \"pH_correction_factor\"   : \"Float32\",\n",
    "    \"ph_Base_conc\"           : \"Float32\",\n",
    "    \"ph_Ki\"                  : \"Float32\",\n",
    "    \"ph_Kp\"                  : \"Float32\",\n",
    "    \"ph_Tolerance\"           : \"Float32\",\n",
    "    \"run_name\"               : \"string[pyarrow]\",\n",
    "    \"folder_id_y\"            : \"Int32\",\n",
    "    \"pms_id\"                 : \"Int32\",\n",
    "    \"status_id\"              : \"Int32\",\n",
    "    \"start_time\"             : \"datetime64[ns]\",\n",
    "    \"end_time\"               : \"datetime64[ns]\",\n",
    "    \"description\"            : \"string[pyarrow]\",\n",
    "    \"conclusion\"             : \"string[pyarrow]\",\n",
    "    \"container_label\"        : \"string[pyarrow]\",\n",
    "    \"is_template\"            : \"Int32\",\n",
    "    \"Glucose_Dilution\"       : \"Int32\",\n",
    "    \"ph_Acid_conc\"           : \"Int32\",\n",
    "    # added columns\n",
    "    \"μ_set\"                  : \"Int32\",\n",
    "    \"IPTG\"                   : \"Float32\",\n",
    "}\n",
    "# fmt: of\n",
    "metadata = metadata.astype(column_dtypes)\n",
    "tmin = metadata[\"start_time\"]\n",
    "tmax = metadata[\"end_time\"]\n",
    "data_overview(metadata)"
   ]
  },
  {
   "cell_type": "code",
   "execution_count": null,
   "id": "9281c01f-bed1-41c1-a245-7ed9b0269872",
   "metadata": {
    "execution": {
     "iopub.execute_input": "2022-10-18T07:22:54.105123Z",
     "iopub.status.busy": "2022-10-18T07:22:54.104902Z",
     "iopub.status.idle": "2022-10-18T07:22:54.144407Z",
     "shell.execute_reply": "2022-10-18T07:22:54.143516Z",
     "shell.execute_reply.started": "2022-10-18T07:22:54.105109Z"
    },
    "tags": []
   },
   "outputs": [],
   "source": [
    "# fmt: off\n",
    "selected_columns = {\n",
    "    \"experiment_id\"          : True,\n",
    "    \"bioreactor_id\"          : True,\n",
    "    \"container_number\"       : True,\n",
    "    \"profile_id\"             : False,\n",
    "    \"description_x\"          : False,\n",
    "    \"color\"                  : True,\n",
    "    \"profile_name\"           : True,\n",
    "    \"plasmid_id\"             : True,\n",
    "    \"run_id\"                 : True,\n",
    "    \"Feed_concentration_glc\" : True,\n",
    "    \"OD_Dilution\"            : True,\n",
    "    \"pH_correction_factor\"   : True,\n",
    "    \"ph_Tolerance\"           : True,\n",
    "    \"run_name\"               : False,\n",
    "    \"folder_id_y\"            : False,\n",
    "    \"start_time\"             : False,\n",
    "    \"end_time\"               : False,\n",
    "    \"description\"            : False,\n",
    "    \"μ_set\"                  : True,\n",
    "    \"IPTG\"                   : True,\n",
    "}\n",
    "# fmt: on\n",
    "selected_columns = [key for key, val in selected_columns.items() if val]\n",
    "metadata = metadata[selected_columns]\n",
    "data_overview(metadata)"
   ]
  },
  {
   "cell_type": "markdown",
   "id": "93a7edc5-42d1-4a8c-90f5-bc6423adf8f8",
   "metadata": {},
   "source": [
    "## Setpoints"
   ]
  },
  {
   "cell_type": "code",
   "execution_count": null,
   "id": "ac7618ba-d4ee-4443-af1c-40a8d91e9384",
   "metadata": {
    "execution": {
     "iopub.execute_input": "2022-10-17T18:58:02.320396Z",
     "iopub.status.busy": "2022-10-17T18:58:02.320242Z",
     "iopub.status.idle": "2022-10-17T18:58:02.442594Z",
     "shell.execute_reply": "2022-10-17T18:58:02.442055Z",
     "shell.execute_reply.started": "2022-10-17T18:58:02.320383Z"
    },
    "tags": []
   },
   "outputs": [],
   "source": [
    "setpoints = {\n",
    "    (outer_key, inner_key): tables[\"setpoints\"]\n",
    "    for outer_key, experiment in data.items()\n",
    "    for inner_key, tables in experiment.items()\n",
    "}\n",
    "\n",
    "setpoints = pd.concat(setpoints, names=[\"run_id\", \"exp_id\"], verify_integrity=True)\n",
    "setpoints = setpoints.reset_index(-1, drop=True)"
   ]
  },
  {
   "cell_type": "code",
   "execution_count": null,
   "id": "c49e68c1-70ea-4633-a02f-d481e721bd2f",
   "metadata": {
    "execution": {
     "iopub.execute_input": "2022-10-17T18:58:02.443240Z",
     "iopub.status.busy": "2022-10-17T18:58:02.443090Z",
     "iopub.status.idle": "2022-10-17T18:58:02.529812Z",
     "shell.execute_reply": "2022-10-17T18:58:02.529143Z",
     "shell.execute_reply.started": "2022-10-17T18:58:02.443229Z"
    },
    "tags": []
   },
   "outputs": [],
   "source": [
    "# fmt: off\n",
    "column_dtypes = {\n",
    "    \"cultivation_age\"             : \"Int32\",\n",
    "    \"setpoint_id\"                 : \"Int32\",\n",
    "    \"unit\"                        : \"string[pyarrow]\",\n",
    "    \"Feed_glc_cum_setpoints\"      : \"Int32\",\n",
    "    \"Flow_Air\"                    : \"Int32\",\n",
    "    \"InducerConcentration\"        : \"Float32\",\n",
    "    \"Puls_AceticAcid\"             : \"Int32\",\n",
    "    \"Puls_Glucose\"                : \"Int32\",\n",
    "    \"Puls_Medium\"                 : \"Int32\",\n",
    "    \"StirringSpeed\"               : \"Int32\",\n",
    "    \"pH\"                          : \"Float32\",\n",
    "    \"Flow_Nitrogen\"               : \"Int32\",\n",
    "    \"Flow_O2\"                     : \"Int32\",\n",
    "    \"Feed_dextrine_cum_setpoints\" : \"Int32\",\n",
    "    \"Temperature\"                 : \"Int32\",\n",
    "}\n",
    "# fmt: on\n",
    "\n",
    "na_values = {\n",
    "    \"unit\": [\"-\"],\n",
    "}\n",
    "setpoints = setpoints.astype(column_dtypes)\n",
    "setpoints[\"unit\"] = setpoints[\"unit\"].replace(\"-\", pd.NA)\n",
    "data_overview(setpoints)"
   ]
  },
  {
   "cell_type": "code",
   "execution_count": null,
   "id": "45df1dcc-6bf2-4b0b-80f1-7ab07eda6490",
   "metadata": {
    "execution": {
     "iopub.execute_input": "2022-10-17T18:58:02.530595Z",
     "iopub.status.busy": "2022-10-17T18:58:02.530376Z",
     "iopub.status.idle": "2022-10-17T18:58:02.562857Z",
     "shell.execute_reply": "2022-10-17T18:58:02.562173Z",
     "shell.execute_reply.started": "2022-10-17T18:58:02.530580Z"
    },
    "tags": []
   },
   "outputs": [],
   "source": [
    "# fmt: off\n",
    "selected_columns = {\n",
    "    \"cultivation_age\"             : True,\n",
    "    \"setpoint_id\"                 : False,\n",
    "    \"unit\"                        : True,\n",
    "    \"Feed_glc_cum_setpoints\"      : True,\n",
    "    \"Flow_Air\"                    : True,\n",
    "    \"InducerConcentration\"        : True,\n",
    "    \"Puls_AceticAcid\"             : False,\n",
    "    \"Puls_Glucose\"                : False,\n",
    "    \"Puls_Medium\"                 : False,\n",
    "    \"StirringSpeed\"               : True,\n",
    "    \"pH\"                          : True,\n",
    "    \"Flow_Nitrogen\"               : False,\n",
    "    \"Flow_O2\"                     : False,\n",
    "    \"Feed_dextrine_cum_setpoints\" : False,\n",
    "    \"Temperature\"                 : False,\n",
    "}\n",
    "# fmt: on\n",
    "selected_columns = [key for key, val in selected_columns.items() if val]\n",
    "setpoints = setpoints[selected_columns]"
   ]
  },
  {
   "cell_type": "markdown",
   "id": "3d8edab1-4ffa-4acd-af45-087fc04cd2b9",
   "metadata": {},
   "source": [
    "## Measurements Reactor"
   ]
  },
  {
   "cell_type": "code",
   "execution_count": null,
   "id": "b197d3f5-8e21-41d2-8b38-d5fe3764e5d6",
   "metadata": {
    "execution": {
     "iopub.execute_input": "2022-10-17T18:58:02.564150Z",
     "iopub.status.busy": "2022-10-17T18:58:02.563945Z",
     "iopub.status.idle": "2022-10-17T18:58:02.941314Z",
     "shell.execute_reply": "2022-10-17T18:58:02.940659Z",
     "shell.execute_reply.started": "2022-10-17T18:58:02.564134Z"
    },
    "tags": []
   },
   "outputs": [],
   "source": [
    "measurements_reactor = {\n",
    "    (outer_key, inner_key): tables[\"measurements_reactor\"]\n",
    "    for outer_key, experiment in data.items()\n",
    "    for inner_key, tables in experiment.items()\n",
    "}\n",
    "\n",
    "measurements_reactor = pd.concat(\n",
    "    measurements_reactor, names=[\"run_id\", \"exp_id\"], verify_integrity=True\n",
    ")\n",
    "measurements_reactor = measurements_reactor.reset_index(-1, drop=True)"
   ]
  },
  {
   "cell_type": "markdown",
   "id": "d11bfabb-f727-4746-b40e-b9db79630f6d",
   "metadata": {},
   "source": [
    "## Measurements Array"
   ]
  },
  {
   "cell_type": "code",
   "execution_count": null,
   "id": "8ae0c965-382f-4c25-b37a-5c6db778c121",
   "metadata": {
    "execution": {
     "iopub.execute_input": "2022-10-17T18:58:02.942302Z",
     "iopub.status.busy": "2022-10-17T18:58:02.942094Z",
     "iopub.status.idle": "2022-10-17T18:58:03.032152Z",
     "shell.execute_reply": "2022-10-17T18:58:03.031351Z",
     "shell.execute_reply.started": "2022-10-17T18:58:02.942290Z"
    },
    "tags": []
   },
   "outputs": [],
   "source": [
    "measurements_array = {\n",
    "    (outer_key, inner_key): tables[\"measurements_array\"]\n",
    "    for outer_key, experiment in data.items()\n",
    "    for inner_key, tables in experiment.items()\n",
    "}\n",
    "\n",
    "measurements_array = pd.concat(\n",
    "    measurements_array, names=[\"run_id\", \"exp_id\"], verify_integrity=True\n",
    ")\n",
    "measurements_array = measurements_array.reset_index(-1, drop=True)"
   ]
  },
  {
   "cell_type": "markdown",
   "id": "8dd6996d-6eb5-4d31-86de-4e12b0f24a04",
   "metadata": {},
   "source": [
    "## Measurements Aggregated"
   ]
  },
  {
   "cell_type": "code",
   "execution_count": null,
   "id": "fbf3ee8c-dac7-4f5b-809d-7e4be078d02e",
   "metadata": {
    "execution": {
     "iopub.execute_input": "2022-10-18T07:18:25.780202Z",
     "iopub.status.busy": "2022-10-18T07:18:25.779414Z",
     "iopub.status.idle": "2022-10-18T07:18:26.081803Z",
     "shell.execute_reply": "2022-10-18T07:18:26.081163Z",
     "shell.execute_reply.started": "2022-10-18T07:18:25.780185Z"
    },
    "tags": []
   },
   "outputs": [],
   "source": [
    "measurements_aggregated = {\n",
    "    (outer_key, inner_key): tables[\"measurements_aggregated\"]\n",
    "    for outer_key, experiment in data.items()\n",
    "    for inner_key, tables in experiment.items()\n",
    "}\n",
    "\n",
    "measurements_aggregated = pd.concat(\n",
    "    measurements_aggregated, names=[\"run_id\", \"exp_id\"], verify_integrity=True\n",
    ")\n",
    "measurements_aggregated = measurements_aggregated.reset_index(-1, drop=True)\n",
    "measurements_aggregated = measurements_aggregated.set_index(\n",
    "    \"measurement_time\", append=True\n",
    ")"
   ]
  },
  {
   "cell_type": "code",
   "execution_count": null,
   "id": "561342c9-9847-44dc-86b5-9b89dca6652a",
   "metadata": {
    "execution": {
     "iopub.execute_input": "2022-10-18T07:18:26.618701Z",
     "iopub.status.busy": "2022-10-18T07:18:26.618345Z",
     "iopub.status.idle": "2022-10-18T07:18:27.434500Z",
     "shell.execute_reply": "2022-10-18T07:18:27.433829Z",
     "shell.execute_reply.started": "2022-10-18T07:18:26.618690Z"
    },
    "tags": []
   },
   "outputs": [],
   "source": [
    "# fmt: off\n",
    "column_dtypes = {\n",
    "    # \"measurement_time\"                : \"datetime64[ns]\",\n",
    "    \"unit\"                            : \"string[pyarrow]\",\n",
    "    \"Flow_Air\"                        : \"Int32\",\n",
    "    \"Flow_Nitrogen\"                   : \"Int32\",\n",
    "    \"Flow_O2\"                         : \"Int32\",\n",
    "    \"StirringSpeed\"                   : \"Int32\",\n",
    "    \"Temperature\"                     : \"Float32\",\n",
    "    \"Acetate\"                         : \"Float32\",\n",
    "    \"Base\"                            : \"Int32\",\n",
    "    \"Cumulated_feed_volume_glucose\"   : \"Int32\",\n",
    "    \"Cumulated_feed_volume_medium\"    : \"Float32\",\n",
    "    \"DOT\"                             : \"Float32\",\n",
    "    \"Fluo_GFP\"                        : \"Float32\",\n",
    "    \"Glucose\"                         : \"Float32\",\n",
    "    \"OD600\"                           : \"Float32\",\n",
    "    \"Probe_Volume\"                    : \"Int32\",\n",
    "    \"pH\"                              : \"Float32\",\n",
    "    \"InducerConcentration\"            : \"Float32\",\n",
    "    \"remark\"                          : \"string\",\n",
    "    \"Volume\"                          : \"Float32\",\n",
    "    \"Acid\"                            : \"Int32\",\n",
    "}\n",
    "\n",
    "na_values = {\n",
    "    \"unit\" : [\"-\"],\n",
    "    \"remark\" : [\"value written to setpoints has been transferred to this table.\"],\n",
    "}\n",
    "measurements_aggregated[\"unit\"].replace(\"-\", pd.NA, inplace=True)\n",
    "# fmt: on\n",
    "measurements_aggregated = measurements_aggregated.astype(column_dtypes)\n",
    "data_overview(measurements_aggregated, index_col=\"measurement_time\")"
   ]
  },
  {
   "cell_type": "code",
   "execution_count": null,
   "id": "a6cc638b-4cc1-4087-b998-5f8e86586ba8",
   "metadata": {
    "execution": {
     "iopub.execute_input": "2022-10-18T07:18:27.637583Z",
     "iopub.status.busy": "2022-10-18T07:18:27.637377Z",
     "iopub.status.idle": "2022-10-18T07:18:27.961829Z",
     "shell.execute_reply": "2022-10-18T07:18:27.961127Z",
     "shell.execute_reply.started": "2022-10-18T07:18:27.637570Z"
    },
    "tags": []
   },
   "outputs": [],
   "source": [
    "uniques_per_run_id = measurements_aggregated.groupby(\"run_id\").nunique()\n",
    "(uniques_per_run_id > 1).sum() > 1"
   ]
  },
  {
   "cell_type": "code",
   "execution_count": null,
   "id": "41b35d0b-3579-4119-a083-958b23b51099",
   "metadata": {
    "execution": {
     "iopub.execute_input": "2022-10-18T07:19:26.894125Z",
     "iopub.status.busy": "2022-10-18T07:19:26.893889Z",
     "iopub.status.idle": "2022-10-18T07:19:26.939570Z",
     "shell.execute_reply": "2022-10-18T07:19:26.938510Z",
     "shell.execute_reply.started": "2022-10-18T07:19:26.894107Z"
    },
    "tags": []
   },
   "outputs": [],
   "source": [
    "# fmt: off\n",
    "selected_columns = {\n",
    "    \"unit\"                          : False,\n",
    "    \"Flow_Air\"                      : True,\n",
    "    \"Flow_Nitrogen\"                 : False,\n",
    "    \"Flow_O2\"                       : False,\n",
    "    \"StirringSpeed\"                 : True,\n",
    "    \"Temperature\"                   : True,\n",
    "    \"Acetate\"                       : True,\n",
    "    \"Base\"                          : True,\n",
    "    \"Cumulated_feed_volume_glucose\" : True,\n",
    "    \"Cumulated_feed_volume_medium\"  : True,\n",
    "    \"DOT\"                           : True,\n",
    "    \"Fluo_GFP\"                      : True,\n",
    "    \"Glucose\"                       : True,\n",
    "    \"OD600\"                         : True,\n",
    "    \"Probe_Volume\"                  : True,\n",
    "    \"pH\"                            : True,\n",
    "    \"InducerConcentration\"          : True,\n",
    "    \"remark\"                        : False,\n",
    "    \"Volume\"                        : True,\n",
    "    \"Acid\"                          : False,\n",
    "}\n",
    "selected_columns = [key for key, val in selected_columns.items() if val]\n",
    "# fmt: on\n",
    "measurements_aggregated = measurements_aggregated.loc[:, selected_columns]"
   ]
  },
  {
   "cell_type": "markdown",
   "id": "9bf5cdc7-0f9b-45da-9e2a-6444d5f1e0d5",
   "metadata": {},
   "source": [
    "## Aggregate overlapping measurements excluding duplicates"
   ]
  },
  {
   "cell_type": "code",
   "execution_count": null,
   "id": "b06bc052-910b-45c6-89ef-98fd206e4cf2",
   "metadata": {
    "execution": {
     "iopub.execute_input": "2022-10-17T19:48:48.980412Z",
     "iopub.status.busy": "2022-10-17T19:48:48.980199Z",
     "iopub.status.idle": "2022-10-17T19:48:49.433153Z",
     "shell.execute_reply": "2022-10-17T19:48:49.432520Z",
     "shell.execute_reply.started": "2022-10-17T19:48:48.980401Z"
    }
   },
   "outputs": [],
   "source": [
    "measurements_aggregated.groupby([\"run_id\", \"exp_id\", \"measurement_time\"]).mean()"
   ]
  },
  {
   "cell_type": "code",
   "execution_count": null,
   "id": "d43e5b04-a460-467b-8de7-2cd2a0dc0eb5",
   "metadata": {
    "execution": {
     "iopub.execute_input": "2022-10-17T19:48:06.237405Z",
     "iopub.status.busy": "2022-10-17T19:48:06.237185Z",
     "iopub.status.idle": "2022-10-17T19:48:07.505632Z",
     "shell.execute_reply": "2022-10-17T19:48:07.505121Z",
     "shell.execute_reply.started": "2022-10-17T19:48:06.237391Z"
    },
    "tags": []
   },
   "outputs": [],
   "source": [
    "uniques_per_timestamp = measurements_aggregated.groupby(\n",
    "    [\"run_id\", \"exp_id\", \"measurement_time\"]\n",
    ").nunique()\n",
    "mask = (uniques_per_timestamp <= 1).all(axis=\"columns\")\n",
    "\n",
    "uniques_per_timestamp = measurements_aggregated.groupby(\n",
    "    [\"run_id\", \"exp_id\", \"measurement_time\"]\n",
    ").nunique()\n",
    "measurements_aggregated.loc[(439, 15325, \"2020-12-09 09:48:38\")]"
   ]
  },
  {
   "cell_type": "code",
   "execution_count": null,
   "id": "9258e08d-bcdd-4d09-a812-9cb95693e731",
   "metadata": {
    "execution": {
     "iopub.execute_input": "2022-10-17T19:48:26.956232Z",
     "iopub.status.busy": "2022-10-17T19:48:26.955999Z",
     "iopub.status.idle": "2022-10-17T19:48:27.581899Z",
     "shell.execute_reply": "2022-10-17T19:48:27.581365Z",
     "shell.execute_reply.started": "2022-10-17T19:48:26.956213Z"
    },
    "tags": []
   },
   "outputs": [],
   "source": [
    "df = (\n",
    "    measurements_aggregated.loc[mask]\n",
    "    .groupby([\"run_id\", \"exp_id\", \"measurement_time\"])\n",
    "    .mean()\n",
    ")\n",
    "pd.concat([df, measurements_aggregated.loc[~mask]]).sort_index()"
   ]
  },
  {
   "cell_type": "code",
   "execution_count": null,
   "id": "44620192-03f0-4d1f-bffa-6753a71430c2",
   "metadata": {
    "execution": {
     "iopub.status.busy": "2022-10-17T18:58:05.026737Z",
     "iopub.status.idle": "2022-10-17T18:58:05.026909Z",
     "shell.execute_reply": "2022-10-17T18:58:05.026841Z",
     "shell.execute_reply.started": "2022-10-17T18:58:05.026832Z"
    }
   },
   "outputs": [],
   "source": [
    "# fmt: off\n",
    "BOUNDS = {\n",
    "    \"Acetate\":              (0, 2.5),       # concentration like\n",
    "    \"Glucose\":              (0, 20),        # concentration like\n",
    "    \"DOT\":                  (0, 100),       # percent like\n",
    "    \"OD600\":                (0, 100),       # percent like\n",
    "    \"FlowAir\":              (0, None),      # possibly log-transform\n",
    "    \"Base\":                 (0, None),      # possibly log-transform\n",
    "    \"Volume\":               (0, None),      # possibly log-transform\n",
    "    \"CumulatedFeedGlucose\": (0, None),      # possibly log-transform\n",
    "    \"CumulatedFeedMedium\":  (0, None),      # possibly log-transform\n",
    "    \"ProbeVolume\":          (0, None),      # possibly log-transform\n",
    "    \"StirringSpeed\":        (0, None),      # possibly log-transform\n",
    "    \"InducerConcentration\": (0, None),      # possibly log-transform\n",
    "    \"FluoGFP\":              (0, 1_000_000),\n",
    "    \"pH\":                   (4, 10),        # log scale\n",
    "    \"Temperature\":          (20, 45),\n",
    "}\n",
    "# fmt: on"
   ]
  },
  {
   "cell_type": "code",
   "execution_count": null,
   "id": "f30bd8dc-9e50-4316-867c-99b07c5d8752",
   "metadata": {},
   "outputs": [],
   "source": []
  }
 ],
 "metadata": {
  "kernelspec": {
   "display_name": "Python 3 (ipykernel)",
   "language": "python",
   "name": "python3"
  },
  "language_info": {
   "codemirror_mode": {
    "name": "ipython",
    "version": 3
   },
   "file_extension": ".py",
   "mimetype": "text/x-python",
   "name": "python",
   "nbconvert_exporter": "python",
   "pygments_lexer": "ipython3",
   "version": "3.10.6"
  }
 },
 "nbformat": 4,
 "nbformat_minor": 5
}
