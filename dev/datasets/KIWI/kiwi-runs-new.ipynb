{
 "cells": [
  {
   "cell_type": "markdown",
   "id": "05fa9448-f0ce-4435-9ab4-148f3b304c23",
   "metadata": {},
   "source": [
    "# Improved Dataset Pipeline"
   ]
  },
  {
   "cell_type": "code",
   "execution_count": null,
   "id": "20191951-beec-414a-b3c6-89dca8277ad2",
   "metadata": {
    "execution": {
     "iopub.execute_input": "2022-10-13T13:01:34.950773Z",
     "iopub.status.busy": "2022-10-13T13:01:34.950529Z",
     "iopub.status.idle": "2022-10-13T13:01:35.260196Z",
     "shell.execute_reply": "2022-10-13T13:01:35.259735Z",
     "shell.execute_reply.started": "2022-10-13T13:01:34.950734Z"
    }
   },
   "outputs": [],
   "source": [
    "%config InteractiveShell.ast_node_interactivity='last_expr_or_assign'  # always print last expr.\n",
    "%config InlineBackend.figure_format = 'svg'\n",
    "%load_ext autoreload\n",
    "%autoreload 2\n",
    "%matplotlib inline"
   ]
  },
  {
   "cell_type": "code",
   "execution_count": null,
   "id": "58b7f6d7",
   "metadata": {
    "execution": {
     "iopub.execute_input": "2022-10-13T13:01:35.261154Z",
     "iopub.status.busy": "2022-10-13T13:01:35.260997Z",
     "iopub.status.idle": "2022-10-13T13:01:36.360371Z",
     "shell.execute_reply": "2022-10-13T13:01:36.359595Z",
     "shell.execute_reply.started": "2022-10-13T13:01:35.261144Z"
    },
    "tags": []
   },
   "outputs": [],
   "source": [
    "import tsdm\n",
    "from tsdm.random.stats import data_overview"
   ]
  },
  {
   "cell_type": "code",
   "execution_count": null,
   "id": "1862636d-677f-4f35-98d0-5ec84cdff3ce",
   "metadata": {
    "execution": {
     "iopub.execute_input": "2022-10-13T13:01:36.361249Z",
     "iopub.status.busy": "2022-10-13T13:01:36.360992Z",
     "iopub.status.idle": "2022-10-13T13:01:36.380670Z",
     "shell.execute_reply": "2022-10-13T13:01:36.379992Z",
     "shell.execute_reply.started": "2022-10-13T13:01:36.361236Z"
    }
   },
   "outputs": [],
   "source": [
    "import pickle\n",
    "\n",
    "import pandas as pd"
   ]
  },
  {
   "cell_type": "code",
   "execution_count": null,
   "id": "d695b42b",
   "metadata": {
    "execution": {
     "iopub.execute_input": "2022-10-13T13:01:36.381415Z",
     "iopub.status.busy": "2022-10-13T13:01:36.381286Z",
     "iopub.status.idle": "2022-10-13T13:01:36.407139Z",
     "shell.execute_reply": "2022-10-13T13:01:36.406451Z",
     "shell.execute_reply.started": "2022-10-13T13:01:36.381404Z"
    },
    "tags": []
   },
   "outputs": [],
   "source": [
    "ds = tsdm.datasets.KIWI_RUNS(initialize=False)"
   ]
  },
  {
   "cell_type": "code",
   "execution_count": null,
   "id": "8ec8945f-fad1-4ca9-8a42-f4ffd90336b2",
   "metadata": {
    "execution": {
     "iopub.execute_input": "2022-10-13T13:01:36.408268Z",
     "iopub.status.busy": "2022-10-13T13:01:36.408056Z",
     "iopub.status.idle": "2022-10-13T13:01:36.814763Z",
     "shell.execute_reply": "2022-10-13T13:01:36.814259Z",
     "shell.execute_reply.started": "2022-10-13T13:01:36.408253Z"
    },
    "tags": []
   },
   "outputs": [],
   "source": [
    "with open(ds.rawdata_paths, \"rb\") as file:\n",
    "    ds.LOGGER.info(\"Loading raw data from %s\", ds.rawdata_paths)\n",
    "    data = pickle.load(file)"
   ]
  },
  {
   "cell_type": "code",
   "execution_count": null,
   "id": "ee7d1c73-c0a6-40b4-8b45-30ea3537086e",
   "metadata": {
    "execution": {
     "iopub.execute_input": "2022-10-13T13:01:36.815392Z",
     "iopub.status.busy": "2022-10-13T13:01:36.815256Z",
     "iopub.status.idle": "2022-10-13T13:01:36.836477Z",
     "shell.execute_reply": "2022-10-13T13:01:36.835942Z",
     "shell.execute_reply.started": "2022-10-13T13:01:36.815382Z"
    },
    "tags": []
   },
   "outputs": [],
   "source": [
    "data.keys()"
   ]
  },
  {
   "cell_type": "code",
   "execution_count": null,
   "id": "48dda4c8-8e52-4068-996a-73ab2c2e4a06",
   "metadata": {
    "execution": {
     "iopub.execute_input": "2022-10-13T13:01:36.838015Z",
     "iopub.status.busy": "2022-10-13T13:01:36.837818Z",
     "iopub.status.idle": "2022-10-13T13:01:36.864075Z",
     "shell.execute_reply": "2022-10-13T13:01:36.863369Z",
     "shell.execute_reply.started": "2022-10-13T13:01:36.838001Z"
    },
    "tags": []
   },
   "outputs": [],
   "source": [
    "data[439].keys()"
   ]
  },
  {
   "cell_type": "code",
   "execution_count": null,
   "id": "795e55ff-1212-467b-a475-b35cfd278480",
   "metadata": {
    "execution": {
     "iopub.execute_input": "2022-10-13T13:01:36.865492Z",
     "iopub.status.busy": "2022-10-13T13:01:36.865269Z",
     "iopub.status.idle": "2022-10-13T13:01:36.896345Z",
     "shell.execute_reply": "2022-10-13T13:01:36.895742Z",
     "shell.execute_reply.started": "2022-10-13T13:01:36.865463Z"
    },
    "tags": []
   },
   "outputs": [],
   "source": [
    "data[439][15325].keys()"
   ]
  },
  {
   "cell_type": "code",
   "execution_count": null,
   "id": "4026eb17-9994-49b7-a5c8-be8b182a2ab1",
   "metadata": {
    "execution": {
     "iopub.execute_input": "2022-10-13T13:01:36.897052Z",
     "iopub.status.busy": "2022-10-13T13:01:36.896899Z",
     "iopub.status.idle": "2022-10-13T13:01:36.933077Z",
     "shell.execute_reply": "2022-10-13T13:01:36.931844Z",
     "shell.execute_reply.started": "2022-10-13T13:01:36.897040Z"
    },
    "tags": []
   },
   "outputs": [],
   "source": [
    "data[439][15325][\"metadata\"]"
   ]
  },
  {
   "cell_type": "markdown",
   "id": "87abcad9-67d2-4c03-b4d3-438d6e0f2c58",
   "metadata": {},
   "source": [
    "## Metadata"
   ]
  },
  {
   "cell_type": "code",
   "execution_count": null,
   "id": "4567b273-23d3-4a1b-be85-427d93c8254f",
   "metadata": {
    "execution": {
     "iopub.execute_input": "2022-10-13T13:01:36.934146Z",
     "iopub.status.busy": "2022-10-13T13:01:36.933989Z",
     "iopub.status.idle": "2022-10-13T13:01:37.188237Z",
     "shell.execute_reply": "2022-10-13T13:01:37.187793Z",
     "shell.execute_reply.started": "2022-10-13T13:01:36.934134Z"
    }
   },
   "outputs": [],
   "source": [
    "metadata = {\n",
    "    (outer_key, inner_key): tables[\"metadata\"]\n",
    "    for outer_key, experiment in data.items()\n",
    "    for inner_key, tables in experiment.items()\n",
    "}\n",
    "\n",
    "metadata = pd.concat(metadata, names=[\"run_id\", \"exp_id\"])"
   ]
  },
  {
   "cell_type": "markdown",
   "id": "93a7edc5-42d1-4a8c-90f5-bc6423adf8f8",
   "metadata": {},
   "source": [
    "## Setpoints"
   ]
  },
  {
   "cell_type": "code",
   "execution_count": null,
   "id": "6d523cde-0d09-4d80-8eca-aaa5a273ca4e",
   "metadata": {
    "execution": {
     "iopub.execute_input": "2022-10-13T13:01:37.188957Z",
     "iopub.status.busy": "2022-10-13T13:01:37.188814Z",
     "iopub.status.idle": "2022-10-13T13:01:37.210200Z",
     "shell.execute_reply": "2022-10-13T13:01:37.209745Z",
     "shell.execute_reply.started": "2022-10-13T13:01:37.188946Z"
    }
   },
   "outputs": [],
   "source": [
    "# fmt: off\n",
    "column_dtypes = {\n",
    "    \"cultivation_age\"             : \"int64\",\n",
    "    \"setpoint_id\"                 : \"int64\",\n",
    "    \"unit\"                        : \"object\",\n",
    "    \"Feed_glc_cum_setpoints\"      : \"float64\",\n",
    "    \"Flow_Air\"                    : \"float64\",\n",
    "    \"InducerConcentration\"        : \"float64\",\n",
    "    \"Puls_AceticAcid\"             : \"float64\",\n",
    "    \"Puls_Glucose\"                : \"float64\",\n",
    "    \"Puls_Medium\"                 : \"float64\",\n",
    "    \"StirringSpeed\"               : \"float64\",\n",
    "    \"pH\"                          : \"float64\",\n",
    "    \"Flow_Nitrogen\"               : \"float64\",\n",
    "    \"Flow_O2\"                     : \"float64\",\n",
    "    \"Feed_dextrine_cum_setpoints\" : \"float64\",\n",
    "    \"Temperature\"                 : \"float64\",\n",
    "}\n",
    "# fmt: on"
   ]
  },
  {
   "cell_type": "code",
   "execution_count": null,
   "id": "ac7618ba-d4ee-4443-af1c-40a8d91e9384",
   "metadata": {
    "execution": {
     "iopub.execute_input": "2022-10-13T13:01:37.210867Z",
     "iopub.status.busy": "2022-10-13T13:01:37.210746Z",
     "iopub.status.idle": "2022-10-13T13:01:37.323135Z",
     "shell.execute_reply": "2022-10-13T13:01:37.322428Z",
     "shell.execute_reply.started": "2022-10-13T13:01:37.210856Z"
    },
    "tags": []
   },
   "outputs": [],
   "source": [
    "setpoints = {\n",
    "    (outer_key, inner_key): tables[\"setpoints\"]\n",
    "    for outer_key, experiment in data.items()\n",
    "    for inner_key, tables in experiment.items()\n",
    "}\n",
    "\n",
    "setpoints = pd.concat(setpoints, names=[\"run_id\", \"exp_id\"], verify_integrity=True)\n",
    "setpoints = setpoints.reset_index(-1, drop=True)\n",
    "\n",
    "setpoints.columns == [\n",
    "    \"cultivation_age\",\n",
    "    \"setpoint_id\",\n",
    "    \"unit\",\n",
    "    \"Feed_glc_cum_setpoints\",\n",
    "    \"Flow_Air\",\n",
    "    \"InducerConcentration\",\n",
    "    \"Puls_AceticAcid\",\n",
    "    \"Puls_Glucose\",\n",
    "    \"Puls_Medium\",\n",
    "    \"StirringSpeed\",\n",
    "    \"pH\",\n",
    "    \"Flow_Nitrogen\",\n",
    "    \"Flow_O2\",\n",
    "    \"Feed_dextrine_cum_setpoints\",\n",
    "    \"Temperature\",\n",
    "]"
   ]
  },
  {
   "cell_type": "code",
   "execution_count": null,
   "id": "bbd070ae-4aa0-4e1b-966d-c3811a6b4deb",
   "metadata": {
    "execution": {
     "iopub.execute_input": "2022-10-13T13:01:37.323889Z",
     "iopub.status.busy": "2022-10-13T13:01:37.323721Z",
     "iopub.status.idle": "2022-10-13T13:01:39.025280Z",
     "shell.execute_reply": "2022-10-13T13:01:39.024109Z",
     "shell.execute_reply.started": "2022-10-13T13:01:37.323877Z"
    },
    "tags": []
   },
   "outputs": [],
   "source": [
    "data_overview(setpoints)"
   ]
  },
  {
   "cell_type": "markdown",
   "id": "3d8edab1-4ffa-4acd-af45-087fc04cd2b9",
   "metadata": {},
   "source": [
    "## Measurements Reactor"
   ]
  },
  {
   "cell_type": "code",
   "execution_count": null,
   "id": "b197d3f5-8e21-41d2-8b38-d5fe3764e5d6",
   "metadata": {
    "execution": {
     "iopub.status.busy": "2022-10-13T13:01:39.025754Z",
     "iopub.status.idle": "2022-10-13T13:01:39.025990Z",
     "shell.execute_reply": "2022-10-13T13:01:39.025912Z",
     "shell.execute_reply.started": "2022-10-13T13:01:39.025903Z"
    },
    "tags": []
   },
   "outputs": [],
   "source": [
    "measurements_reactor = {\n",
    "    (outer_key, inner_key): tables[\"measurements_reactor\"]\n",
    "    for outer_key, experiment in data.items()\n",
    "    for inner_key, tables in experiment.items()\n",
    "}\n",
    "\n",
    "measurements_reactor = pd.concat(\n",
    "    measurements_reactor, names=[\"run_id\", \"exp_id\"], verify_integrity=True\n",
    ")\n",
    "measurements_reactor = measurements_reactor.reset_index(-1, drop=True)"
   ]
  },
  {
   "cell_type": "markdown",
   "id": "d11bfabb-f727-4746-b40e-b9db79630f6d",
   "metadata": {},
   "source": [
    "## Measurements Array"
   ]
  },
  {
   "cell_type": "code",
   "execution_count": null,
   "id": "8ae0c965-382f-4c25-b37a-5c6db778c121",
   "metadata": {
    "execution": {
     "iopub.status.busy": "2022-10-13T13:01:39.026656Z",
     "iopub.status.idle": "2022-10-13T13:01:39.026822Z",
     "shell.execute_reply": "2022-10-13T13:01:39.026750Z",
     "shell.execute_reply.started": "2022-10-13T13:01:39.026743Z"
    },
    "tags": []
   },
   "outputs": [],
   "source": [
    "measurements_array = {\n",
    "    (outer_key, inner_key): tables[\"measurements_array\"]\n",
    "    for outer_key, experiment in data.items()\n",
    "    for inner_key, tables in experiment.items()\n",
    "}\n",
    "\n",
    "measurements_array = pd.concat(\n",
    "    measurements_array, names=[\"run_id\", \"exp_id\"], verify_integrity=True\n",
    ")\n",
    "measurements_array = measurements_array.reset_index(-1, drop=True)"
   ]
  },
  {
   "cell_type": "markdown",
   "id": "8dd6996d-6eb5-4d31-86de-4e12b0f24a04",
   "metadata": {},
   "source": [
    "## Measurements Aggregated"
   ]
  },
  {
   "cell_type": "code",
   "execution_count": null,
   "id": "fbf3ee8c-dac7-4f5b-809d-7e4be078d02e",
   "metadata": {
    "execution": {
     "iopub.status.busy": "2022-10-13T13:01:39.027405Z",
     "iopub.status.idle": "2022-10-13T13:01:39.027580Z",
     "shell.execute_reply": "2022-10-13T13:01:39.027509Z",
     "shell.execute_reply.started": "2022-10-13T13:01:39.027502Z"
    }
   },
   "outputs": [],
   "source": [
    "measurements_aggregated = {\n",
    "    (outer_key, inner_key): tables[\"measurements_aggregated\"]\n",
    "    for outer_key, experiment in data.items()\n",
    "    for inner_key, tables in experiment.items()\n",
    "}\n",
    "\n",
    "measurements_aggregated = pd.concat(\n",
    "    measurements_aggregated, names=[\"run_id\", \"exp_id\"], verify_integrity=True\n",
    ")\n",
    "measurements_aggregated = measurements_aggregated.reset_index(-1, drop=True)"
   ]
  },
  {
   "cell_type": "code",
   "execution_count": null,
   "id": "ccf940b3-dc1f-490d-a6ad-54396f6c918f",
   "metadata": {},
   "outputs": [],
   "source": []
  }
 ],
 "metadata": {
  "kernelspec": {
   "display_name": "Python 3 (ipykernel)",
   "language": "python",
   "name": "python3"
  },
  "language_info": {
   "codemirror_mode": {
    "name": "ipython",
    "version": 3
   },
   "file_extension": ".py",
   "mimetype": "text/x-python",
   "name": "python",
   "nbconvert_exporter": "python",
   "pygments_lexer": "ipython3",
   "version": "3.10.6"
  }
 },
 "nbformat": 4,
 "nbformat_minor": 5
}
