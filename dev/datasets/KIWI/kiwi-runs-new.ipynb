{
 "cells": [
  {
   "cell_type": "markdown",
   "id": "05fa9448-f0ce-4435-9ab4-148f3b304c23",
   "metadata": {},
   "source": [
    "# Improved Dataset Pipeline"
   ]
  },
  {
   "cell_type": "code",
   "execution_count": null,
   "id": "20191951-beec-414a-b3c6-89dca8277ad2",
   "metadata": {
    "tags": []
   },
   "outputs": [],
   "source": [
    "%config InteractiveShell.ast_node_interactivity='last_expr_or_assign'  # always print last expr.\n",
    "%config InlineBackend.figure_format = 'svg'\n",
    "%load_ext autoreload\n",
    "%autoreload 2\n",
    "%matplotlib inline"
   ]
  },
  {
   "cell_type": "code",
   "execution_count": null,
   "id": "699f07e5-2af0-4bbf-a2b9-544ae0ad0a87",
   "metadata": {},
   "outputs": [],
   "source": [
    "import pickle\n",
    "\n",
    "import numpy as np\n",
    "import pandas as pd\n",
    "from pandas import DataFrame, Series\n",
    "\n",
    "import tsdm\n",
    "from tsdm.random.stats import data_overview"
   ]
  },
  {
   "cell_type": "code",
   "execution_count": null,
   "id": "bec0fb97-aa06-4d71-9c9d-ca2e427ed164",
   "metadata": {
    "tags": []
   },
   "outputs": [],
   "source": [
    "# fmt: off\n",
    "column_dtypes = {\n",
    "    \"metadata\": {\n",
    "        # \"experiment_id\"          : \"Int32\",\n",
    "        \"bioreactor_id\"          : \"Int32\",\n",
    "        \"container_number\"       : \"Int32\",\n",
    "        \"profile_id\"             : \"Int32\",\n",
    "        \"starter_culture_id\"     : \"Int32\",\n",
    "        \"inactivation_method_id\" : \"Int32\",\n",
    "        \"description_x\"          : \"string[pyarrow]\",\n",
    "        \"color\"                  : \"string[pyarrow]\",\n",
    "        \"profile_name\"           : \"string[pyarrow]\",\n",
    "        \"folder_id_x\"            : \"Int32\",\n",
    "        \"organism_id\"            : \"Int32\",\n",
    "        \"plasmid_id\"             : \"Int32\",\n",
    "        \"medium_id\"              : \"Int32\",\n",
    "        \"description_y\"          : \"string[pyarrow]\",\n",
    "        # \"run_id\"                 : \"Int32\",\n",
    "        \"Acetate_Dilution\"       : \"Int32\",\n",
    "        \"Feed_concentration_glc\" : \"Int32\",\n",
    "        \"InducerConcentration\"   : \"Int32\",\n",
    "        \"OD_Dilution\"            : \"Int32\",\n",
    "        \"Stir_Max_Restarts\"      : \"Int32\",\n",
    "        \"pH_correction_factor\"   : \"Float32\",\n",
    "        \"ph_Base_conc\"           : \"Float32\",\n",
    "        \"ph_Ki\"                  : \"Float32\",\n",
    "        \"ph_Kp\"                  : \"Float32\",\n",
    "        \"ph_Tolerance\"           : \"Float32\",\n",
    "        \"run_name\"               : \"string[pyarrow]\",\n",
    "        \"folder_id_y\"            : \"Int32\",\n",
    "        \"pms_id\"                 : \"Int32\",\n",
    "        \"status_id\"              : \"Int32\",\n",
    "        \"start_time\"             : \"datetime64[ns]\",\n",
    "        \"end_time\"               : \"datetime64[ns]\",\n",
    "        \"description\"            : \"string[pyarrow]\",\n",
    "        \"conclusion\"             : \"string[pyarrow]\",\n",
    "        \"container_label\"        : \"string[pyarrow]\",\n",
    "        \"is_template\"            : \"Int32\",\n",
    "        \"Glucose_Dilution\"       : \"Int32\",\n",
    "        \"ph_Acid_conc\"           : \"Int32\",\n",
    "        # added columns\n",
    "        \"μ_set\"                  : \"Int32\",\n",
    "        \"IPTG\"                   : \"Float32\",\n",
    "    },\n",
    "    \"timeseries\": {\n",
    "        # \"measurement_time\"              : \"datetime64[ns]\",\n",
    "        \"unit\"                            : \"string[pyarrow]\",\n",
    "        \"Flow_Air\"                        : \"Int32\",\n",
    "        \"Flow_Nitrogen\"                   : \"Int32\",\n",
    "        \"Flow_O2\"                         : \"Int32\",\n",
    "        \"StirringSpeed\"                   : \"Int32\",\n",
    "        \"Temperature\"                     : \"Float32\",\n",
    "        \"Acetate\"                         : \"Float32\",\n",
    "        \"Base\"                            : \"Int32\",\n",
    "        \"Cumulated_feed_volume_glucose\"   : \"Int32\",\n",
    "        \"Cumulated_feed_volume_medium\"    : \"Float32\",\n",
    "        \"DOT\"                             : \"Float32\",\n",
    "        \"Fluo_GFP\"                        : \"Float32\",\n",
    "        \"Glucose\"                         : \"Float32\",\n",
    "        \"OD600\"                           : \"Float32\",\n",
    "        \"Probe_Volume\"                    : \"Int32\",\n",
    "        \"pH\"                              : \"Float32\",\n",
    "        \"InducerConcentration\"            : \"Float32\",\n",
    "        \"remark\"                          : \"string\",\n",
    "        \"Volume\"                          : \"Float32\",\n",
    "        \"Acid\"                            : \"Int32\",\n",
    "    },\n",
    "    \"setpoints\" : {\n",
    "        \"cultivation_age\"             : \"Int32\",\n",
    "        \"setpoint_id\"                 : \"Int32\",\n",
    "        \"unit\"                        : \"string[pyarrow]\",\n",
    "        \"Feed_glc_cum_setpoints\"      : \"Int32\",\n",
    "        \"Flow_Air\"                    : \"Int32\",\n",
    "        \"InducerConcentration\"        : \"Float32\",\n",
    "        \"Puls_AceticAcid\"             : \"Int32\",\n",
    "        \"Puls_Glucose\"                : \"Int32\",\n",
    "        \"Puls_Medium\"                 : \"Int32\",\n",
    "        \"StirringSpeed\"               : \"Int32\",\n",
    "        \"pH\"                          : \"Float32\",\n",
    "        \"Flow_Nitrogen\"               : \"Int32\",\n",
    "        \"Flow_O2\"                     : \"Int32\",\n",
    "        \"Feed_dextrine_cum_setpoints\" : \"Int32\",\n",
    "        \"Temperature\"                 : \"Int32\",\n",
    "    },\n",
    "    \"metadata_features\" : {\n",
    "        \"unit\"  : \"string[pyarrow]\",\n",
    "        \"scale\" : \"string[pyarrow]\",\n",
    "        \"lower\" : \"Float32\",\n",
    "        \"upper\" : \"Float32\",\n",
    "    },\n",
    "    \"timeseries_features\" : {\n",
    "        \"unit\"  : \"string[pyarrow]\",\n",
    "        \"scale\" : \"string[pyarrow]\",\n",
    "        \"lower\" : \"Float32\",\n",
    "        \"upper\" : \"Float32\",\n",
    "    },\n",
    "    \"setpoints_features\" : {\n",
    "        \"unit\"  : \"string[pyarrow]\",\n",
    "        \"scale\" : \"string[pyarrow]\",\n",
    "        \"lower\" : \"Float32\",\n",
    "        \"upper\" : \"Float32\",\n",
    "    },\n",
    "}\n",
    "# fmt: on\n",
    "\n",
    "# fmt: off\n",
    "selected_columns = {\n",
    "    \"metadata\" : {\n",
    "        # \"experiment_id\"          : True,\n",
    "        \"bioreactor_id\"          : True,\n",
    "        \"container_number\"       : True,\n",
    "        \"profile_id\"             : False,\n",
    "        \"description_x\"          : False,\n",
    "        \"color\"                  : True,\n",
    "        \"profile_name\"           : True,\n",
    "        \"plasmid_id\"             : True,\n",
    "        # \"run_id\"                 : True,\n",
    "        \"Feed_concentration_glc\" : True,\n",
    "        \"OD_Dilution\"            : True,\n",
    "        \"pH_correction_factor\"   : True,\n",
    "        \"ph_Tolerance\"           : True,\n",
    "        \"run_name\"               : False,\n",
    "        \"folder_id_y\"            : False,\n",
    "        \"start_time\"             : False,\n",
    "        \"end_time\"               : False,\n",
    "        \"description\"            : False,\n",
    "        \"μ_set\"                  : True,\n",
    "        \"IPTG\"                   : True,\n",
    "    },\n",
    "    \"setpoints\": {\n",
    "        \"cultivation_age\"             : False,\n",
    "        \"setpoint_id\"                 : False,\n",
    "        \"unit\"                        : False,\n",
    "        \"Feed_glc_cum_setpoints\"      : True,\n",
    "        \"Flow_Air\"                    : True,\n",
    "        \"InducerConcentration\"        : True,\n",
    "        \"Puls_AceticAcid\"             : False,\n",
    "        \"Puls_Glucose\"                : False,\n",
    "        \"Puls_Medium\"                 : False,\n",
    "        \"StirringSpeed\"               : True,\n",
    "        \"pH\"                          : True,\n",
    "        \"Flow_Nitrogen\"               : False,\n",
    "        \"Flow_O2\"                     : False,\n",
    "        \"Feed_dextrine_cum_setpoints\" : False,\n",
    "        \"Temperature\"                 : False,\n",
    "    },\n",
    "    \"timeseries\" :  {\n",
    "        \"unit\"                          : False,\n",
    "        \"Flow_Air\"                      : True,\n",
    "        \"Flow_Nitrogen\"                 : False,\n",
    "        \"Flow_O2\"                       : False,\n",
    "        \"StirringSpeed\"                 : True,\n",
    "        \"Temperature\"                   : True,\n",
    "        \"Acetate\"                       : True,\n",
    "        \"Base\"                          : True,\n",
    "        \"Cumulated_feed_volume_glucose\" : True,\n",
    "        \"Cumulated_feed_volume_medium\"  : True,\n",
    "        \"DOT\"                           : True,\n",
    "        \"Fluo_GFP\"                      : True,\n",
    "        \"Glucose\"                       : True,\n",
    "        \"OD600\"                         : True,\n",
    "        \"Probe_Volume\"                  : True,\n",
    "        \"pH\"                            : True,\n",
    "        \"InducerConcentration\"          : True,\n",
    "        \"remark\"                        : False,\n",
    "        \"Volume\"                        : False,\n",
    "        \"Acid\"                          : False,\n",
    "    }\n",
    "}\n",
    "# fmt: on"
   ]
  },
  {
   "cell_type": "code",
   "execution_count": null,
   "id": "1862636d-677f-4f35-98d0-5ec84cdff3ce",
   "metadata": {
    "tags": []
   },
   "outputs": [],
   "source": [
    "def float_is_int(series: Series) -> bool:\n",
    "    r\"\"\"Check if all float values are integers.\"\"\"\n",
    "    mask = pd.notna(series)\n",
    "    return series[mask].apply(float.is_integer).all()\n",
    "\n",
    "\n",
    "def get_integer_cols(table: DataFrame) -> set[str]:\n",
    "    r\"\"\"Get all columns that contain only integers.\"\"\"\n",
    "    cols = set()\n",
    "    for col in table:\n",
    "        if np.issubdtype(table[col].dtype, np.integer):\n",
    "            # __logger__.debug(\"Integer column                       : %s\", col)\n",
    "            cols.add(col)\n",
    "        elif np.issubdtype(table[col].dtype, np.floating) and float_is_int(table[col]):\n",
    "            # __logger__.debug(\"Integer column pretending to be float: %s\", col)\n",
    "            cols.add(col)\n",
    "    return cols"
   ]
  },
  {
   "cell_type": "code",
   "execution_count": null,
   "id": "d695b42b",
   "metadata": {
    "tags": []
   },
   "outputs": [],
   "source": [
    "ds = tsdm.datasets.KIWI_RUNS(initialize=False)"
   ]
  },
  {
   "cell_type": "code",
   "execution_count": null,
   "id": "8ec8945f-fad1-4ca9-8a42-f4ffd90336b2",
   "metadata": {
    "tags": []
   },
   "outputs": [],
   "source": [
    "with open(ds.rawdata_paths, \"rb\") as file:\n",
    "    ds.LOGGER.info(\"Loading raw data from %s\", ds.rawdata_paths)\n",
    "    data = pickle.load(file)"
   ]
  },
  {
   "cell_type": "code",
   "execution_count": null,
   "id": "ee7d1c73-c0a6-40b4-8b45-30ea3537086e",
   "metadata": {
    "tags": []
   },
   "outputs": [],
   "source": [
    "data.keys()"
   ]
  },
  {
   "cell_type": "code",
   "execution_count": null,
   "id": "48dda4c8-8e52-4068-996a-73ab2c2e4a06",
   "metadata": {
    "tags": []
   },
   "outputs": [],
   "source": [
    "data[439].keys()"
   ]
  },
  {
   "cell_type": "code",
   "execution_count": null,
   "id": "795e55ff-1212-467b-a475-b35cfd278480",
   "metadata": {
    "tags": []
   },
   "outputs": [],
   "source": [
    "data[439][15325].keys()"
   ]
  },
  {
   "cell_type": "code",
   "execution_count": null,
   "id": "4026eb17-9994-49b7-a5c8-be8b182a2ab1",
   "metadata": {
    "tags": []
   },
   "outputs": [],
   "source": [
    "data[439][15325][\"metadata\"]"
   ]
  },
  {
   "cell_type": "markdown",
   "id": "87abcad9-67d2-4c03-b4d3-438d6e0f2c58",
   "metadata": {},
   "source": [
    "# Metadata"
   ]
  },
  {
   "cell_type": "markdown",
   "id": "979a2632-f2b3-4ee0-bb2d-d522574ee2e6",
   "metadata": {},
   "source": [
    "## Generate DataFrame"
   ]
  },
  {
   "cell_type": "code",
   "execution_count": null,
   "id": "957fde93-e7c2-4ac0-96c7-8730415b48b9",
   "metadata": {
    "tags": []
   },
   "outputs": [],
   "source": [
    "metadata = {\n",
    "    (outer_key, inner_key): tables[\"metadata\"]\n",
    "    for outer_key, experiment in data.items()\n",
    "    for inner_key, tables in experiment.items()\n",
    "}\n",
    "\n",
    "metadata = pd.concat(metadata, names=[\"run_id\", \"experiment_id\"])\n",
    "metadata = metadata.reset_index(-1, drop=True)\n",
    "metadata = metadata.drop(columns=[\"run_id\", \"experiment_id\"])"
   ]
  },
  {
   "cell_type": "markdown",
   "id": "f6cdb00e-b74d-4fee-b2a8-f59302dc16cc",
   "metadata": {},
   "source": [
    "### Generate μ-set columns"
   ]
  },
  {
   "cell_type": "code",
   "execution_count": null,
   "id": "76047f3d-dbc7-41e7-a1f9-fea6802cbbe9",
   "metadata": {
    "tags": []
   },
   "outputs": [],
   "source": [
    "mu_sets = metadata[\"description_x\"].str.split(\" \", expand=True)\n",
    "mu_sets = mu_sets.astype(\"string[pyarrow]\")\n",
    "mu_sets.columns = [\"name\", \"percent\", \"amount\", \"unit\", \"chemical\"]\n",
    "mu_sets[\"percent\"] = mu_sets[\"percent\"].str.split(\"%\", expand=True)[0]\n",
    "metadata[\"μ_set\"] = mu_sets[\"percent\"]\n",
    "metadata[\"IPTG\"] = mu_sets[\"amount\"]"
   ]
  },
  {
   "cell_type": "markdown",
   "id": "b4baab3a-9263-4630-b5d2-bc8f3a36c38c",
   "metadata": {
    "tags": []
   },
   "source": [
    "### fix datatypes"
   ]
  },
  {
   "cell_type": "code",
   "execution_count": null,
   "id": "c265b8a1-6cea-44f1-b619-9550cc3e3b5c",
   "metadata": {
    "tags": []
   },
   "outputs": [],
   "source": [
    "metadata = metadata.astype(column_dtypes[\"metadata\"])\n",
    "data_overview(metadata)"
   ]
  },
  {
   "cell_type": "markdown",
   "id": "66c6a37f-9216-497f-b216-1211bf6121b4",
   "metadata": {},
   "source": [
    "### Select columns"
   ]
  },
  {
   "cell_type": "code",
   "execution_count": null,
   "id": "9281c01f-bed1-41c1-a245-7ed9b0269872",
   "metadata": {
    "tags": []
   },
   "outputs": [],
   "source": [
    "tmin = metadata[\"start_time\"]\n",
    "tmax = metadata[\"end_time\"]\n",
    "columns = [key for key, val in selected_columns[\"metadata\"].items() if val]\n",
    "metadata = metadata[columns]"
   ]
  },
  {
   "cell_type": "markdown",
   "id": "c8ef3561-81f9-4a8b-9a48-944ef871c88b",
   "metadata": {},
   "source": [
    "## Metadata Features"
   ]
  },
  {
   "cell_type": "code",
   "execution_count": null,
   "id": "0ecd339a-9170-4a0b-aa3e-e27fe14b5332",
   "metadata": {
    "tags": []
   },
   "outputs": [],
   "source": [
    "units = {}\n",
    "mask = mu_sets[\"amount\"].notna()\n",
    "mu_set_unit = list(mu_sets[\"unit\"].loc[mask].unique())\n",
    "assert len(mu_set_unit) == 1\n",
    "units[\"IPTG\"] = mu_set_unit[0]\n",
    "units[\"μ_set\"] = \"%\"\n",
    "units"
   ]
  },
  {
   "cell_type": "code",
   "execution_count": null,
   "id": "85ff8f33-2eeb-4bc9-b51a-0d8e6e379d97",
   "metadata": {
    "tags": []
   },
   "outputs": [],
   "source": [
    "# fmt: off\n",
    "metadata_features = {\n",
    "    # column                   [unit, scale, lower bound, upper bound]\n",
    "    \"bioreactor_id\"          : [pd.NA, \"category\", pd.NA, pd.NA ],\n",
    "    \"container_number\"       : [pd.NA, \"category\", pd.NA, pd.NA ],\n",
    "    \"color\"                  : [pd.NA, \"category\", pd.NA, pd.NA ],\n",
    "    \"profile_name\"           : [pd.NA, \"category\", pd.NA, pd.NA ],\n",
    "    \"plasmid_id\"             : [pd.NA, \"category\", pd.NA, pd.NA ],\n",
    "    \"Feed_concentration_glc\" : [\"g/L\", \"absolute\", pd.NA, pd.NA ],\n",
    "    \"OD_Dilution\"            : [\"%\",   \"percent\",  0,     100   ],\n",
    "    \"pH_correction_factor\"   : [pd.NA, \"factor\",   0,     np.inf],\n",
    "    \"ph_Tolerance\"           : [pd.NA, \"linear\",   0,     np.inf],\n",
    "    \"μ_set\"                  : [\"%\",   \"percent\",  0,     100   ],\n",
    "    \"IPTG\"                   : [\"mM\",  \"absolute\", 0,     np.inf],\n",
    "}\n",
    "# fmt: on\n",
    "\n",
    "metadata_features = DataFrame.from_dict(\n",
    "    metadata_features, orient=\"index\", columns=column_dtypes[\"metadata_features\"]\n",
    ")\n",
    "metadata_features = metadata_features.astype(column_dtypes[\"metadata_features\"])"
   ]
  },
  {
   "cell_type": "markdown",
   "id": "335924f4-c339-4074-8ca4-a5b8f29ce5b4",
   "metadata": {},
   "source": [
    "## Remove values out of bounds"
   ]
  },
  {
   "cell_type": "code",
   "execution_count": null,
   "id": "69393b3a-169a-42f4-893c-c6f346547c12",
   "metadata": {
    "tags": []
   },
   "outputs": [],
   "source": [
    "for col in metadata:\n",
    "    lower = metadata_features.loc[col, \"lower\"]\n",
    "    upper = metadata_features.loc[col, \"upper\"]\n",
    "    value = metadata[col]\n",
    "    mask = (lower > value) | (value > upper)\n",
    "    if mask.any():\n",
    "        print(f\"Removing {mask.mean():.2%} of data that does not match {col} bounds\")\n",
    "        metadata.loc[mask, col] = pd.NA"
   ]
  },
  {
   "cell_type": "markdown",
   "id": "f84583b7-7061-4ef4-b3c7-bccdbe83c7f4",
   "metadata": {},
   "source": [
    "## Finalize Tables"
   ]
  },
  {
   "cell_type": "code",
   "execution_count": null,
   "id": "32081d20-4842-4b5f-871d-3f2907e597e6",
   "metadata": {
    "tags": []
   },
   "outputs": [],
   "source": [
    "metadata = metadata.dropna(how=\"all\")\n",
    "metadata.to_parquet(\"metadata.parquet\")\n",
    "metadata_features.to_parquet(\"metadata_features.parquet\")"
   ]
  },
  {
   "cell_type": "markdown",
   "id": "8dd6996d-6eb5-4d31-86de-4e12b0f24a04",
   "metadata": {},
   "source": [
    "# Timeseries"
   ]
  },
  {
   "cell_type": "markdown",
   "id": "0967adfa-138b-4f3f-a7d8-088bce4de30d",
   "metadata": {},
   "source": [
    "## Generate DataFrame"
   ]
  },
  {
   "cell_type": "code",
   "execution_count": null,
   "id": "fbf3ee8c-dac7-4f5b-809d-7e4be078d02e",
   "metadata": {
    "tags": []
   },
   "outputs": [],
   "source": [
    "timeseries = {\n",
    "    (outer_key, inner_key): tables[\"measurements_aggregated\"]\n",
    "    for outer_key, experiment in data.items()\n",
    "    for inner_key, tables in experiment.items()\n",
    "}\n",
    "\n",
    "timeseries = pd.concat(\n",
    "    timeseries, names=[\"run_id\", \"experiment_id\"], verify_integrity=True\n",
    ")\n",
    "timeseries = timeseries.reset_index(-1, drop=True)\n",
    "timeseries = timeseries.set_index(\"measurement_time\", append=True)\n",
    "\n",
    "\n",
    "# fix data types\n",
    "timeseries = timeseries.astype(column_dtypes[\"timeseries\"])\n",
    "\n",
    "# replace spurious na values\n",
    "timeseries[\"unit\"].replace(\"-\", pd.NA, inplace=True)\n",
    "data_overview(timeseries, index_col=\"measurement_time\")"
   ]
  },
  {
   "cell_type": "markdown",
   "id": "52534bbd-9d7f-407d-86ee-84db9a77ebbf",
   "metadata": {},
   "source": [
    "## Select columns"
   ]
  },
  {
   "cell_type": "code",
   "execution_count": null,
   "id": "4fc39f51-84f5-43a7-9cc2-5eddcb1d7100",
   "metadata": {
    "tags": []
   },
   "outputs": [],
   "source": [
    "timeseries_units = timeseries[\"unit\"]\n",
    "timeseries = timeseries.drop(columns=[\"unit\"])\n",
    "# remove non-informative columns\n",
    "# columns with single value carry no information\n",
    "mask = timeseries.nunique() > 1\n",
    "# only keep columns that appear in at least half of the runs\n",
    "mask &= (timeseries.groupby(\"run_id\").nunique() > 0).mean() > 0.5\n",
    "timeseries = timeseries[timeseries.columns[mask]]"
   ]
  },
  {
   "cell_type": "markdown",
   "id": "32fd673e-a176-4ecd-940d-b6c46c54d124",
   "metadata": {},
   "source": [
    "## Validate units"
   ]
  },
  {
   "cell_type": "code",
   "execution_count": null,
   "id": "7ad43d3c-0110-42cb-95b4-1cfd1eab0c14",
   "metadata": {
    "tags": []
   },
   "outputs": [],
   "source": [
    "assert all(timeseries.notna().sum(axis=1) <= 1), \"multiple measurements!\"\n",
    "\n",
    "units = {}\n",
    "for col in timeseries:\n",
    "    mask = timeseries[col].notna()\n",
    "    units[col] = list(timeseries_units.loc[mask].unique())\n",
    "    assert len(units[col]) == 1, f\"Multiple different units in {col}!\"\n",
    "\n",
    "units = Series({k: v[0] for k, v in units.items()}, dtype=\"string[pyarrow]\")\n",
    "units[[\"Acetate\", \"OD600\", \"DOT\", \"pH\"]] = [\"%\", \"%\", \"%\", \"pH\"]\n",
    "units"
   ]
  },
  {
   "cell_type": "code",
   "execution_count": null,
   "id": "a6cc638b-4cc1-4087-b998-5f8e86586ba8",
   "metadata": {
    "tags": []
   },
   "outputs": [],
   "source": [
    "# Check data is non-trivial\n",
    "uniques_per_run_id = timeseries.groupby(\"run_id\").nunique()\n",
    "assert ((uniques_per_run_id > 1).sum() > 1).all()"
   ]
  },
  {
   "cell_type": "markdown",
   "id": "0b3e0a76-8493-4b35-880b-e1e3f8328024",
   "metadata": {},
   "source": [
    "## Select Columns"
   ]
  },
  {
   "cell_type": "code",
   "execution_count": null,
   "id": "41b35d0b-3579-4119-a083-958b23b51099",
   "metadata": {
    "tags": []
   },
   "outputs": [],
   "source": [
    "columns = [key for key, val in selected_columns[\"timeseries\"].items() if val]\n",
    "timeseries = timeseries[columns]"
   ]
  },
  {
   "cell_type": "markdown",
   "id": "a198b34b-b58c-4d6a-8a33-64c51b90d3e9",
   "metadata": {},
   "source": [
    "## Timeseries Features"
   ]
  },
  {
   "cell_type": "code",
   "execution_count": null,
   "id": "28757fdd-fdf8-49e5-b8a4-c1ad0e4c71bb",
   "metadata": {
    "tags": []
   },
   "outputs": [],
   "source": [
    "data_overview(timeseries)"
   ]
  },
  {
   "cell_type": "code",
   "execution_count": null,
   "id": "05e2427c-efc4-465c-9cdc-9e17e9d33dac",
   "metadata": {
    "tags": []
   },
   "outputs": [],
   "source": [
    "# fmt: off\n",
    "timeseries_features = {\n",
    "    \"Acetate\"                       : [\"%\",      \"percent\",   0,   100      ],\n",
    "    \"Base\"                          : [\"uL\",     \"absolute\",  0,   np.inf   ],\n",
    "    \"Cumulated_feed_volume_glucose\" : [\"uL\",     \"absolute\",  0,   np.inf   ],\n",
    "    \"Cumulated_feed_volume_medium\"  : [\"uL\",     \"absolute\",  0,   np.inf   ],\n",
    "    \"DOT\"                           : [\"%\",      \"percent\",   0,   100      ],\n",
    "    \"Flow_Air\"                      : [\"Ln/min\", \"absolute\",  0,   np.inf   ],\n",
    "    \"Fluo_GFP\"                      : [\"RFU\",    \"absolute\",  0,   1_000_000],\n",
    "    \"Glucose\"                       : [\"g/L\",    \"absolute\",  0,   20       ],\n",
    "    \"InducerConcentration\"          : [\"mM\",     \"absolute\",  0,   np.inf   ],\n",
    "    \"OD600\"                         : [\"%\",      \"percent\",   0,   100      ],\n",
    "    \"Probe_Volume\"                  : [\"uL\",     \"absolute\",  0,   np.inf   ],\n",
    "    \"StirringSpeed\"                 : [\"U/min\",  \"absolute\",  0,   np.inf   ],\n",
    "    \"Temperature\"                   : [\"°C\",     \"linear\",    20,  45       ],\n",
    "    \"Volume\"                        : [\"mL\",     \"absolute\",  0,   np.inf   ],\n",
    "    \"pH\"                            : [\"pH\",     \"linear\",    4,   10       ],\n",
    "}\n",
    "# fmt: on\n",
    "\n",
    "timeseries_features = DataFrame.from_dict(\n",
    "    timeseries_features,\n",
    "    orient=\"index\",\n",
    "    columns=column_dtypes[\"timeseries_features\"],\n",
    ")\n",
    "timeseries_features = timeseries_features.astype(column_dtypes[\"timeseries_features\"])"
   ]
  },
  {
   "cell_type": "markdown",
   "id": "616ee06d-b527-499f-9380-8731141fc60f",
   "metadata": {},
   "source": [
    "## Clean data"
   ]
  },
  {
   "cell_type": "code",
   "execution_count": null,
   "id": "41b591a3-feb3-4ac3-a3e4-414ca16b6fef",
   "metadata": {
    "tags": []
   },
   "outputs": [],
   "source": [
    "%matplotlib inline\n",
    "fig = timeseries.hist(figsize=(24, 6), density=True, log=True, bins=20, layout=(3, 5));"
   ]
  },
  {
   "cell_type": "markdown",
   "id": "2228e374-941b-42c8-9f51-049bbd04e397",
   "metadata": {},
   "source": [
    "## Remove values out of bounds"
   ]
  },
  {
   "cell_type": "code",
   "execution_count": null,
   "id": "91cd4699-f2f8-42e3-abe4-1e4ae5fd5e1c",
   "metadata": {
    "tags": []
   },
   "outputs": [],
   "source": [
    "for col in timeseries:\n",
    "    lower = timeseries_features.loc[col, \"lower\"]\n",
    "    upper = timeseries_features.loc[col, \"upper\"]\n",
    "    value = timeseries[col]\n",
    "    mask = (lower > value) | (value > upper)\n",
    "    if mask.any():\n",
    "        print(f\"Removing {mask.mean():.2%} of data that does not match {col} bounds\")\n",
    "        timeseries.loc[mask, col] = pd.NA"
   ]
  },
  {
   "cell_type": "code",
   "execution_count": null,
   "id": "36242d3c-92ae-4b44-8976-e85de612855c",
   "metadata": {},
   "outputs": [],
   "source": [
    "%matplotlib inline\n",
    "fig = timeseries.hist(figsize=(24, 6), density=True, log=True, bins=20, layout=(3, 5));"
   ]
  },
  {
   "cell_type": "markdown",
   "id": "8180c219-0bf0-403f-aa5f-2bc8e3ad2c84",
   "metadata": {},
   "source": [
    "## Remove data outside of time bounds"
   ]
  },
  {
   "cell_type": "code",
   "execution_count": null,
   "id": "c022d6e3-6378-4f38-b8ad-5bafcc95689d",
   "metadata": {
    "tags": []
   },
   "outputs": [],
   "source": [
    "ts = timeseries.reset_index(\"measurement_time\")\n",
    "ts = ts.join([tmin, tmax])\n",
    "cond = (ts[\"start_time\"] <= ts[\"measurement_time\"]) & (\n",
    "    ts[\"measurement_time\"] <= ts[\"end_time\"]\n",
    ")\n",
    "print(f\"Removing {(~cond).mean():.2%} of data that does not match tmin/tmax\")\n",
    "ts = ts[cond]\n",
    "ts[\"measurement_time\"] = ts[\"measurement_time\"] - ts[\"start_time\"]\n",
    "ts = ts.set_index(\"measurement_time\", append=True)\n",
    "timeseries = ts[timeseries.columns]"
   ]
  },
  {
   "cell_type": "markdown",
   "id": "82176a5c-0c01-4559-b289-21cc6e5270cb",
   "metadata": {},
   "source": [
    "## KIWI_RUNS - The booklet"
   ]
  },
  {
   "cell_type": "code",
   "execution_count": null,
   "id": "af6b124a-dd67-4103-b223-ac391b3c40df",
   "metadata": {
    "tags": []
   },
   "outputs": [],
   "source": [
    "def make_all_plots(key, ts):\n",
    "    ts = ts.astype(\"float32\")\n",
    "    T = ((ts.index - ts.index[0]) / Timedelta(\"1h\")).values\n",
    "    fig, axes = plt.subplots(\n",
    "        nrows=5, ncols=3, figsize=(10, 14), constrained_layout=True, sharex=True\n",
    "    )\n",
    "    for col, ax in zip(ts.columns, axes.flatten()):\n",
    "        vals = ts[col]\n",
    "        mask = pandas.notna(vals)\n",
    "        ax.plot(\n",
    "            T[mask],\n",
    "            vals[mask],\n",
    "            ls=\"-\",\n",
    "            lw=0.5,\n",
    "            marker=\".\",\n",
    "            ms=3,\n",
    "        )\n",
    "        ax.set_title(snake2camel(col))\n",
    "\n",
    "        ymin, ymax = overview[\"min\"][col], overview[\"max\"][col]\n",
    "        ypad = (ymax - ymin) / 20.0\n",
    "        ax.set_ylim(ymin - ypad, ymax + ypad)\n",
    "        xmin, xmax = 0, (tmax - tmin).max() / np.timedelta64(1, \"h\")\n",
    "        xpad = (xmax - xmin) / 20.0\n",
    "        ax.set_xlim(xmin - xpad, xmax + xpad)\n",
    "    fig.suptitle(f\"Run {key[0]} -- Experiment {key[1]}\")\n",
    "    return fig"
   ]
  },
  {
   "cell_type": "code",
   "execution_count": null,
   "id": "c86e9b0c-9e7e-491d-8c90-3f861e8f0c19",
   "metadata": {
    "tags": []
   },
   "outputs": [],
   "source": [
    "import matplotlib.pyplot as plt\n",
    "import pandas\n",
    "from matplotlib.backends.backend_pdf import PdfPages\n",
    "from pandas import DataFrame, Series, Timedelta\n",
    "from tqdm.auto import tqdm\n",
    "\n",
    "from tsdm.utils.strings import snake2camel\n",
    "\n",
    "overview = data_overview(timeseries)\n",
    "plt.style.use(\"bmh\")\n",
    "plt.rcParams[\"axes.axisbelow\"] = True\n",
    "ts = timeseries.copy()\n",
    "ts = ts[sorted(ts.columns, key=snake2camel)]\n",
    "key = 439, 15325\n",
    "ts = ts.loc[key]\n",
    "\n",
    "fig = make_all_plots(key, ts);"
   ]
  },
  {
   "cell_type": "code",
   "execution_count": null,
   "id": "efb2fdf2-70e8-49fd-b0ab-96a3160eb5da",
   "metadata": {
    "jp-MarkdownHeadingCollapsed": true,
    "tags": []
   },
   "outputs": [],
   "source": [
    "%matplotlib agg\n",
    "\n",
    "ts = timeseries.copy()\n",
    "ts = ts[sorted(ts.columns, key=snake2camel)]\n",
    "\n",
    "with PdfPages(\"kiwi-runs-booklet.pdf\") as pdf:\n",
    "    groups = ts.groupby([\"run_id\", \"experiment_id\"])\n",
    "\n",
    "    for key, slc in tqdm(groups):\n",
    "        slc = slc.reset_index([\"run_id\", \"experiment_id\"], drop=True)\n",
    "        fig = make_all_plots(key, slc)\n",
    "        pdf.savefig(fig)\n",
    "        plt.close(fig)\n",
    "        break"
   ]
  },
  {
   "cell_type": "markdown",
   "id": "1dbe6579-b2f7-4649-823e-b2f403655e01",
   "metadata": {},
   "source": [
    "## Aggregate Measurements (non-desctructive)"
   ]
  },
  {
   "cell_type": "code",
   "execution_count": null,
   "id": "aae707f0-1721-4ddc-be13-5eec1aac81fd",
   "metadata": {
    "tags": []
   },
   "outputs": [],
   "source": [
    "# total number of rows expected\n",
    "total_rows = (\n",
    "    timeseries.notna()\n",
    "    .groupby([\"run_id\", \"experiment_id\", \"measurement_time\"])\n",
    "    .sum()\n",
    "    .max(axis=1)\n",
    "    .sum()\n",
    ")"
   ]
  },
  {
   "cell_type": "code",
   "execution_count": null,
   "id": "ab8b1351-810b-4a6c-9b93-a8dab9cac0fa",
   "metadata": {
    "tags": []
   },
   "outputs": [],
   "source": [
    "# https://stackoverflow.com/questions/74115705\n",
    "# TODO: is there a way to do it without stacking?\n",
    "ts = timeseries.stack().to_frame(name=\"val\")\n",
    "counts = ts.groupby(level=[0, 1, 2, 3]).cumcount()\n",
    "timeseries = (\n",
    "    ts.set_index(counts, append=True)\n",
    "    .loc[:, \"val\"]\n",
    "    .unstack(level=3)\n",
    "    .reindex(timeseries.columns, axis=1)\n",
    "    .reset_index(level=3, drop=True)\n",
    "    .astype(timeseries.dtypes)\n",
    ")"
   ]
  },
  {
   "cell_type": "markdown",
   "id": "31223a0d-159c-4425-ae76-eab3a05c6693",
   "metadata": {},
   "source": [
    "## Finalize Tables"
   ]
  },
  {
   "cell_type": "code",
   "execution_count": null,
   "id": "c763bbcb-4e71-4d83-a9a4-11aca3e85098",
   "metadata": {},
   "outputs": [],
   "source": [
    "timeseries = timeseries.dropna(how=\"all\")\n",
    "timeseries = timeseries.sort_values([\"run_id\", \"experiment_id\", \"measurement_time\"])\n",
    "timeseries.to_parquet(\"timeseries.parquet\")\n",
    "timeseries_features.to_parquet(\"timeseries_features.parquet\")"
   ]
  },
  {
   "cell_type": "markdown",
   "id": "e7a9064d-b1ff-49ec-91dc-292a1116cfed",
   "metadata": {},
   "source": [
    "# Setpoints"
   ]
  },
  {
   "cell_type": "code",
   "execution_count": null,
   "id": "ac7618ba-d4ee-4443-af1c-40a8d91e9384",
   "metadata": {
    "tags": []
   },
   "outputs": [],
   "source": [
    "setpoints = {\n",
    "    (outer_key, inner_key): tables[\"setpoints\"]\n",
    "    for outer_key, experiment in data.items()\n",
    "    for inner_key, tables in experiment.items()\n",
    "}\n",
    "\n",
    "setpoints = pd.concat(\n",
    "    setpoints, names=[\"run_id\", \"experiment_id\"], verify_integrity=True\n",
    ")\n",
    "setpoints = setpoints.reset_index(-1, drop=True)\n",
    "\n",
    "setpoints = setpoints.astype(column_dtypes[\"setpoints\"])\n",
    "setpoints[\"unit\"] = setpoints[\"unit\"].replace(\"-\", pd.NA)\n",
    "setpoints = setpoints.set_index(\"cultivation_age\", append=True)"
   ]
  },
  {
   "cell_type": "markdown",
   "id": "3e1f41bc-9693-4436-b51e-bcf13c1634a7",
   "metadata": {},
   "source": [
    "## Select columns"
   ]
  },
  {
   "cell_type": "code",
   "execution_count": null,
   "id": "50d5b98f-b31c-425f-9591-2c828aed777c",
   "metadata": {
    "tags": []
   },
   "outputs": [],
   "source": [
    "setpoints_units = setpoints[\"unit\"]\n",
    "setpoints = setpoints.drop(columns=[\"setpoint_id\", \"unit\"])\n",
    "display(data_overview(setpoints))\n",
    "\n",
    "# remove non-informative columns\n",
    "mask = setpoints.nunique() > 1\n",
    "setpoints = setpoints[setpoints.columns[mask]]"
   ]
  },
  {
   "cell_type": "markdown",
   "id": "e1cb2f0a-1af6-47de-a960-31612c6e4ef9",
   "metadata": {},
   "source": [
    "## Validate units"
   ]
  },
  {
   "cell_type": "code",
   "execution_count": null,
   "id": "61db0841-04c8-4dc2-8abc-f6baf58391e8",
   "metadata": {
    "tags": []
   },
   "outputs": [],
   "source": [
    "assert all(setpoints.notna().sum(axis=1) <= 1), \"multiple measurements!\"\n",
    "\n",
    "units = {}\n",
    "for col in setpoints:\n",
    "    mask = setpoints[col].notna()\n",
    "    units[col] = list(setpoints_units.loc[mask].unique())\n",
    "    assert len(units[col]) == 1, f\"Multiple different units in {col}!\"\n",
    "\n",
    "units = Series({k: v[0] for k, v in units.items()}, dtype=\"string[pyarrow]\")\n",
    "units[\"pH\"] = \"pH\"\n",
    "units"
   ]
  },
  {
   "cell_type": "markdown",
   "id": "2b967141-a3b1-42b5-9e6d-c87e25ef4b31",
   "metadata": {},
   "source": [
    "## Setpoint Features"
   ]
  },
  {
   "cell_type": "code",
   "execution_count": null,
   "id": "f619d6af-4256-4664-9932-22bd71b84e3c",
   "metadata": {},
   "outputs": [],
   "source": [
    "data_overview(setpoints)"
   ]
  },
  {
   "cell_type": "code",
   "execution_count": null,
   "id": "a9023cee-348d-474d-9f9f-08801e5da7a5",
   "metadata": {},
   "outputs": [],
   "source": [
    "# fmt: off\n",
    "setpoints_features = {\n",
    "    \"Feed_glc_cum_setpoints\" : [\"µL\",     \"absolute\", 0,    None],\n",
    "    \"Flow_Air\"               : [\"Ln/min\", \"absolute\", 0,    10.0],\n",
    "    \"InducerConcentration\"   : [\"mM\",     \"absolute\", 0,    2.0 ],\n",
    "    \"StirringSpeed\"          : [\"U/min\",  \"absolute\", 2000, 3000],\n",
    "    \"pH\"                     : [\"pH\",     \"linear\",   6.0,  7.5 ],\n",
    "}\n",
    "# fmt: on\n",
    "setpoints_features = DataFrame.from_dict(\n",
    "    setpoints_features,\n",
    "    orient=\"index\",\n",
    "    columns=column_dtypes[\"setpoints_features\"],\n",
    ")\n",
    "setpoints_features = setpoints_features.astype(column_dtypes[\"setpoints_features\"])"
   ]
  },
  {
   "cell_type": "markdown",
   "id": "82308cdd-a1cd-43a2-b5bb-5877507d9882",
   "metadata": {},
   "source": [
    "## Remove values out of bounds"
   ]
  },
  {
   "cell_type": "code",
   "execution_count": null,
   "id": "e8258a18-4a52-463a-86d8-baf156d54fe7",
   "metadata": {
    "tags": []
   },
   "outputs": [],
   "source": [
    "for col in setpoints:\n",
    "    lower = setpoints_features.loc[col, \"lower\"]\n",
    "    upper = setpoints_features.loc[col, \"upper\"]\n",
    "    value = setpoints[col]\n",
    "    mask = (lower > value) | (value > upper)\n",
    "    if mask.any():\n",
    "        print(f\"Removing {mask.mean():.2%} of data that does not match {col} bounds\")\n",
    "        setpoints.loc[mask, col] = pd.NA"
   ]
  },
  {
   "cell_type": "markdown",
   "id": "263f76a1-8e58-4ffa-bb5e-25c2a683d579",
   "metadata": {},
   "source": [
    "## Finalize Tables"
   ]
  },
  {
   "cell_type": "code",
   "execution_count": null,
   "id": "653aceb1-5963-4896-b98c-cbd6c35c7960",
   "metadata": {
    "tags": []
   },
   "outputs": [],
   "source": [
    "setpoints = setpoints.dropna(how=\"all\")\n",
    "setpoints.to_parquet(\"setpoints.parquet\")\n",
    "setpoints_features.to_parquet(\"setpoints_features.parquet\")"
   ]
  },
  {
   "cell_type": "markdown",
   "id": "878456ab-006b-43f5-8edb-55ab5135d8f8",
   "metadata": {},
   "source": [
    "# Measurements Reactor"
   ]
  },
  {
   "cell_type": "code",
   "execution_count": null,
   "id": "b197d3f5-8e21-41d2-8b38-d5fe3764e5d6",
   "metadata": {
    "tags": []
   },
   "outputs": [],
   "source": [
    "measurements_reactor = {\n",
    "    (outer_key, inner_key): tables[\"measurements_reactor\"]\n",
    "    for outer_key, experiment in data.items()\n",
    "    for inner_key, tables in experiment.items()\n",
    "}\n",
    "\n",
    "measurements_reactor = pd.concat(\n",
    "    measurements_reactor, names=[\"run_id\", \"experiment_id\"], verify_integrity=True\n",
    ")\n",
    "measurements_reactor = measurements_reactor.reset_index(-1, drop=True)"
   ]
  },
  {
   "cell_type": "markdown",
   "id": "6b1222a3-0644-4606-a55e-a7a182ffd56b",
   "metadata": {},
   "source": [
    "# Measurements Array"
   ]
  },
  {
   "cell_type": "code",
   "execution_count": null,
   "id": "8ae0c965-382f-4c25-b37a-5c6db778c121",
   "metadata": {
    "tags": []
   },
   "outputs": [],
   "source": [
    "measurements_array = {\n",
    "    (outer_key, inner_key): tables[\"measurements_array\"]\n",
    "    for outer_key, experiment in data.items()\n",
    "    for inner_key, tables in experiment.items()\n",
    "}\n",
    "\n",
    "measurements_array = pd.concat(\n",
    "    measurements_array, names=[\"run_id\", \"experiment_id\"], verify_integrity=True\n",
    ")\n",
    "measurements_array = measurements_array.reset_index(-1, drop=True)"
   ]
  },
  {
   "cell_type": "code",
   "execution_count": null,
   "id": "c4053235-3de1-4438-8f8e-bf84c8049fe8",
   "metadata": {
    "tags": []
   },
   "outputs": [],
   "source": [
    "index = timeseries.index.to_frame().reset_index(drop=True)"
   ]
  },
  {
   "cell_type": "code",
   "execution_count": null,
   "id": "b14f62ee-721b-482c-b38a-dc07ef4b6dcf",
   "metadata": {
    "tags": []
   },
   "outputs": [],
   "source": [
    "timeseries.index[0]"
   ]
  },
  {
   "cell_type": "code",
   "execution_count": null,
   "id": "13d87817-380e-4d0f-b90c-b2f25df1fbb9",
   "metadata": {},
   "outputs": [],
   "source": [
    "timeseries"
   ]
  },
  {
   "cell_type": "code",
   "execution_count": null,
   "id": "89d63ea3-0a94-4f19-8a38-44a1b7bf7726",
   "metadata": {
    "tags": []
   },
   "outputs": [],
   "source": [
    "timeseries.loc[index.loc[0]]"
   ]
  },
  {
   "cell_type": "code",
   "execution_count": null,
   "id": "cd6d1c3f-8eca-4c6b-adeb-3dd953ed6805",
   "metadata": {},
   "outputs": [],
   "source": []
  },
  {
   "cell_type": "code",
   "execution_count": null,
   "id": "db361b0b-08e1-4135-8f83-f7acab848d1a",
   "metadata": {
    "tags": []
   },
   "outputs": [],
   "source": [
    "n = len(timeseries.columns)\n",
    "m = len(timeseries.index)"
   ]
  },
  {
   "cell_type": "code",
   "execution_count": null,
   "id": "ca1aef0e-dfb0-46ee-b700-998248b1f6fb",
   "metadata": {},
   "outputs": [],
   "source": [
    "from collections import Counter"
   ]
  },
  {
   "cell_type": "code",
   "execution_count": null,
   "id": "716d8a32-0414-4313-a464-4305b2d5484c",
   "metadata": {},
   "outputs": [],
   "source": [
    "x = [\"eggs\", \"ham\", \"eggs\"]"
   ]
  },
  {
   "cell_type": "code",
   "execution_count": null,
   "id": "c404f391-38ef-436e-8533-2cb25f5c01e4",
   "metadata": {
    "tags": []
   },
   "outputs": [],
   "source": [
    "next(iter(timeseries.itertuples()))"
   ]
  },
  {
   "cell_type": "code",
   "execution_count": null,
   "id": "1192daa1-8f8a-4820-a676-477bb7a67229",
   "metadata": {},
   "outputs": [],
   "source": [
    "mdict = Counter((hash(y) for y in x))"
   ]
  },
  {
   "cell_type": "code",
   "execution_count": null,
   "id": "ca0c0f0d-c890-4520-97eb-508b4bb2c13a",
   "metadata": {
    "tags": []
   },
   "outputs": [],
   "source": [
    "c = Counter([\"eggs\", \"ham\", \"eggs\"])"
   ]
  },
  {
   "cell_type": "code",
   "execution_count": null,
   "id": "b85e0330-d581-43f4-af4a-b499281af714",
   "metadata": {},
   "outputs": [],
   "source": [
    "set(c.items())"
   ]
  },
  {
   "cell_type": "code",
   "execution_count": null,
   "id": "632f8628-c9f2-44a6-8cef-19a58caacc68",
   "metadata": {
    "tags": []
   },
   "outputs": [],
   "source": [
    "dict(c)"
   ]
  },
  {
   "cell_type": "code",
   "execution_count": null,
   "id": "6c123bd1-0635-4ad7-a076-4a0c6e9ef737",
   "metadata": {},
   "outputs": [],
   "source": [
    "pi = np.random.permutation(n)"
   ]
  },
  {
   "cell_type": "code",
   "execution_count": null,
   "id": "df5c774a-244a-4ca1-b479-c042e69abc0e",
   "metadata": {
    "tags": []
   },
   "outputs": [],
   "source": [
    "elwise = pandas.util.hash_pandas_object(timeseries, index=True)"
   ]
  },
  {
   "cell_type": "code",
   "execution_count": null,
   "id": "5b8b98ea-e5f6-4e2e-b9b8-63a239f90303",
   "metadata": {
    "tags": []
   },
   "outputs": [],
   "source": [
    "hash(tuple(elwise))"
   ]
  },
  {
   "cell_type": "code",
   "execution_count": null,
   "id": "18c41d0f-8b4a-4424-a96e-6c700d9dc323",
   "metadata": {},
   "outputs": [],
   "source": [
    "row_hash = pandas.util.hash_pandas_object(timeseries).reset_index(drop=True)"
   ]
  },
  {
   "cell_type": "code",
   "execution_count": null,
   "id": "d5fceb4d-9fca-4e66-81fc-76d633709c1f",
   "metadata": {
    "tags": []
   },
   "outputs": [],
   "source": [
    "frozenset(row_hash.iteritems())"
   ]
  },
  {
   "cell_type": "code",
   "execution_count": null,
   "id": "f1db9371-475e-4f1c-8a28-13588a65e367",
   "metadata": {
    "tags": []
   },
   "outputs": [],
   "source": [
    "pandas.util.hash_pandas_object(timeseries).reset_index(drop=True).reset_index()"
   ]
  },
  {
   "cell_type": "code",
   "execution_count": null,
   "id": "b44be05c-6876-4b01-b9c9-12a041a50ca8",
   "metadata": {
    "tags": []
   },
   "outputs": [],
   "source": [
    "hash(frozenset(elwise.iloc[np.random.permutation(m)]))"
   ]
  },
  {
   "cell_type": "code",
   "execution_count": null,
   "id": "cdc34d2c-9177-4d0f-b2fb-a1ebe3d1b684",
   "metadata": {
    "tags": []
   },
   "outputs": [],
   "source": [
    "hash(frozenset(elwise))"
   ]
  },
  {
   "cell_type": "code",
   "execution_count": null,
   "id": "74bea440-43d8-4ff0-ac5f-5c5dfc2feab5",
   "metadata": {},
   "outputs": [],
   "source": [
    "pandas.util.hash_pandas_object(timeseries, index=False)"
   ]
  },
  {
   "cell_type": "code",
   "execution_count": null,
   "id": "0d0a19f7-283c-4f71-ac08-84ff0f18fe1f",
   "metadata": {},
   "outputs": [],
   "source": []
  }
 ],
 "metadata": {
  "kernelspec": {
   "display_name": "Python 3 (ipykernel)",
   "language": "python",
   "name": "python3"
  },
  "language_info": {
   "codemirror_mode": {
    "name": "ipython",
    "version": 3
   },
   "file_extension": ".py",
   "mimetype": "text/x-python",
   "name": "python",
   "nbconvert_exporter": "python",
   "pygments_lexer": "ipython3",
   "version": "3.10.6"
  }
 },
 "nbformat": 4,
 "nbformat_minor": 5
}
