{
 "cells": [
  {
   "cell_type": "code",
   "execution_count": null,
   "id": "20191951-beec-414a-b3c6-89dca8277ad2",
   "metadata": {
    "execution": {
     "iopub.execute_input": "2022-10-31T11:16:17.093488Z",
     "iopub.status.busy": "2022-10-31T11:16:17.093263Z",
     "iopub.status.idle": "2022-10-31T11:16:17.507261Z",
     "shell.execute_reply": "2022-10-31T11:16:17.506602Z",
     "shell.execute_reply.started": "2022-10-31T11:16:17.093419Z"
    },
    "tags": []
   },
   "outputs": [],
   "source": [
    "%config InteractiveShell.ast_node_interactivity='last_expr_or_assign'  # always print last expr.\n",
    "%config InlineBackend.figure_format = 'svg'\n",
    "%load_ext autoreload\n",
    "%autoreload 2\n",
    "%matplotlib inline"
   ]
  },
  {
   "cell_type": "code",
   "execution_count": null,
   "id": "71d6d898-643d-4a60-b993-5ec5f51a1284",
   "metadata": {
    "execution": {
     "iopub.execute_input": "2022-10-31T11:16:17.508879Z",
     "iopub.status.busy": "2022-10-31T11:16:17.508609Z",
     "iopub.status.idle": "2022-10-31T11:16:19.806142Z",
     "shell.execute_reply": "2022-10-31T11:16:19.805668Z",
     "shell.execute_reply.started": "2022-10-31T11:16:17.508858Z"
    }
   },
   "outputs": [],
   "source": [
    "from torch.utils.data import Dataset as TorchDataset\n",
    "from pandas import DataFrame, Index, Series\n",
    "from tsdm.random.samplers import HierarchicalSampler, SlidingWindowSampler\n",
    "from tsdm.datasets import TimeSeriesCollection"
   ]
  },
  {
   "cell_type": "code",
   "execution_count": null,
   "id": "6be3680d-aeaa-4abd-a715-c42d31abc218",
   "metadata": {
    "execution": {
     "iopub.execute_input": "2022-10-31T11:16:19.807547Z",
     "iopub.status.busy": "2022-10-31T11:16:19.806901Z",
     "iopub.status.idle": "2022-10-31T11:16:19.831531Z",
     "shell.execute_reply": "2022-10-31T11:16:19.831069Z",
     "shell.execute_reply.started": "2022-10-31T11:16:19.807512Z"
    },
    "tags": []
   },
   "outputs": [],
   "source": [
    "import logging\n",
    "\n",
    "logging.basicConfig(level=logging.INFO)"
   ]
  },
  {
   "cell_type": "code",
   "execution_count": null,
   "id": "58b7f6d7",
   "metadata": {
    "execution": {
     "iopub.execute_input": "2022-10-31T11:16:19.832477Z",
     "iopub.status.busy": "2022-10-31T11:16:19.832232Z",
     "iopub.status.idle": "2022-10-31T11:16:19.858005Z",
     "shell.execute_reply": "2022-10-31T11:16:19.857482Z",
     "shell.execute_reply.started": "2022-10-31T11:16:19.832447Z"
    },
    "tags": []
   },
   "outputs": [],
   "source": [
    "import tsdm"
   ]
  },
  {
   "cell_type": "code",
   "execution_count": null,
   "id": "d695b42b",
   "metadata": {
    "execution": {
     "iopub.execute_input": "2022-10-31T11:16:19.859075Z",
     "iopub.status.busy": "2022-10-31T11:16:19.858757Z",
     "iopub.status.idle": "2022-10-31T11:16:20.931630Z",
     "shell.execute_reply": "2022-10-31T11:16:20.930995Z",
     "shell.execute_reply.started": "2022-10-31T11:16:19.859053Z"
    },
    "tags": []
   },
   "outputs": [],
   "source": [
    "ds = tsdm.datasets.KIWI_RUNS()"
   ]
  },
  {
   "cell_type": "code",
   "execution_count": null,
   "id": "9559b04f-7e1c-418c-bd02-05595ba47454",
   "metadata": {
    "execution": {
     "iopub.execute_input": "2022-10-31T11:16:20.932960Z",
     "iopub.status.busy": "2022-10-31T11:16:20.932608Z",
     "iopub.status.idle": "2022-10-31T11:16:20.969543Z",
     "shell.execute_reply": "2022-10-31T11:16:20.968859Z",
     "shell.execute_reply.started": "2022-10-31T11:16:20.932933Z"
    },
    "tags": []
   },
   "outputs": [],
   "source": [
    "ds.time_features.dtypes"
   ]
  },
  {
   "cell_type": "code",
   "execution_count": null,
   "id": "4633d0b1-df21-4d34-9de1-67979aef0d8d",
   "metadata": {
    "execution": {
     "iopub.execute_input": "2022-10-31T11:16:20.973142Z",
     "iopub.status.busy": "2022-10-31T11:16:20.972652Z",
     "iopub.status.idle": "2022-10-31T11:16:21.005837Z",
     "shell.execute_reply": "2022-10-31T11:16:21.005280Z",
     "shell.execute_reply.started": "2022-10-31T11:16:20.973118Z"
    },
    "tags": []
   },
   "outputs": [],
   "source": [
    "TSC = TimeSeriesCollection(\n",
    "    index=ds.index,\n",
    "    timeseries=ds.timeseries,\n",
    "    metadata=ds.metadata,\n",
    "    time_features=ds.time_features,\n",
    "    value_features=ds.value_features,\n",
    "    metadata_features=ds.metadata_features,\n",
    ")"
   ]
  },
  {
   "cell_type": "markdown",
   "id": "e8e91e81-c5e5-4d71-9415-ba61b8614e46",
   "metadata": {},
   "source": [
    "## Sampler"
   ]
  },
  {
   "cell_type": "code",
   "execution_count": null,
   "id": "efd95902-a95d-419b-b991-ad806441073b",
   "metadata": {
    "execution": {
     "iopub.execute_input": "2022-10-31T11:16:21.006962Z",
     "iopub.status.busy": "2022-10-31T11:16:21.006545Z",
     "iopub.status.idle": "2022-10-31T11:16:21.062597Z",
     "shell.execute_reply": "2022-10-31T11:16:21.061791Z",
     "shell.execute_reply.started": "2022-10-31T11:16:21.006945Z"
    },
    "tags": []
   },
   "outputs": [],
   "source": [
    "ts = ds.timeseries.loc[(439, 15325)]"
   ]
  },
  {
   "cell_type": "code",
   "execution_count": null,
   "id": "f6dd2d2a-a7fd-4166-9626-1e3789bfb8a3",
   "metadata": {
    "execution": {
     "iopub.execute_input": "2022-10-31T11:16:21.064047Z",
     "iopub.status.busy": "2022-10-31T11:16:21.063654Z",
     "iopub.status.idle": "2022-10-31T11:16:21.103833Z",
     "shell.execute_reply": "2022-10-31T11:16:21.103207Z",
     "shell.execute_reply.started": "2022-10-31T11:16:21.064017Z"
    },
    "tags": []
   },
   "outputs": [],
   "source": [
    "sampler = SlidingWindowSampler(ts.index, horizons=[\"2h\", \"1h\"], stride=\"1h\")"
   ]
  },
  {
   "cell_type": "code",
   "execution_count": null,
   "id": "2b74748f-97f9-4bba-9a7c-b1e3be49a607",
   "metadata": {
    "execution": {
     "iopub.execute_input": "2022-10-31T11:16:21.105212Z",
     "iopub.status.busy": "2022-10-31T11:16:21.104774Z",
     "iopub.status.idle": "2022-10-31T11:16:21.134477Z",
     "shell.execute_reply": "2022-10-31T11:16:21.133900Z",
     "shell.execute_reply.started": "2022-10-31T11:16:21.105193Z"
    },
    "tags": []
   },
   "outputs": [],
   "source": [
    "next(iter(sampler))"
   ]
  },
  {
   "cell_type": "markdown",
   "id": "b219160a-32f8-425d-8a7f-45de6e7fadbe",
   "metadata": {},
   "source": [
    "## Construct the Sampler"
   ]
  },
  {
   "cell_type": "code",
   "execution_count": null,
   "id": "43ee6e08-bec7-4a0d-b2f7-60dd7809195d",
   "metadata": {
    "execution": {
     "iopub.execute_input": "2022-10-31T11:16:21.135682Z",
     "iopub.status.busy": "2022-10-31T11:16:21.135351Z",
     "iopub.status.idle": "2022-10-31T11:16:21.166214Z",
     "shell.execute_reply": "2022-10-31T11:16:21.165612Z",
     "shell.execute_reply.started": "2022-10-31T11:16:21.135652Z"
    },
    "tags": []
   },
   "outputs": [],
   "source": [
    "TSC"
   ]
  },
  {
   "cell_type": "code",
   "execution_count": null,
   "id": "2ce0855f-fd9b-4d4c-aed6-e9f2b8aee1f7",
   "metadata": {
    "execution": {
     "iopub.execute_input": "2022-10-31T11:16:21.167193Z",
     "iopub.status.busy": "2022-10-31T11:16:21.166901Z",
     "iopub.status.idle": "2022-10-31T11:16:21.194925Z",
     "shell.execute_reply": "2022-10-31T11:16:21.194005Z",
     "shell.execute_reply.started": "2022-10-31T11:16:21.167173Z"
    },
    "tags": []
   },
   "outputs": [],
   "source": [
    "from torch.utils.data import RandomSampler, SubsetRandomSampler"
   ]
  },
  {
   "cell_type": "code",
   "execution_count": null,
   "id": "58d423e1-21a5-40c3-a1dd-208d628e2615",
   "metadata": {
    "execution": {
     "iopub.execute_input": "2022-10-31T11:16:21.196174Z",
     "iopub.status.busy": "2022-10-31T11:16:21.195896Z",
     "iopub.status.idle": "2022-10-31T11:16:21.238468Z",
     "shell.execute_reply": "2022-10-31T11:16:21.237683Z",
     "shell.execute_reply.started": "2022-10-31T11:16:21.196156Z"
    },
    "tags": []
   },
   "outputs": [],
   "source": [
    "next(iter(SubsetRandomSampler(TSC.index)))"
   ]
  },
  {
   "cell_type": "code",
   "execution_count": null,
   "id": "279c8037-4aca-40fb-935d-18ad475f42df",
   "metadata": {
    "execution": {
     "iopub.execute_input": "2022-10-31T11:16:21.240059Z",
     "iopub.status.busy": "2022-10-31T11:16:21.239626Z",
     "iopub.status.idle": "2022-10-31T11:16:21.273904Z",
     "shell.execute_reply": "2022-10-31T11:16:21.273084Z",
     "shell.execute_reply.started": "2022-10-31T11:16:21.240020Z"
    },
    "tags": []
   },
   "outputs": [],
   "source": [
    "TSC[(439, 15325)]"
   ]
  },
  {
   "cell_type": "code",
   "execution_count": null,
   "id": "0384afb0-25d9-467f-bf14-a29eb03f091b",
   "metadata": {
    "execution": {
     "iopub.execute_input": "2022-10-31T11:16:21.275407Z",
     "iopub.status.busy": "2022-10-31T11:16:21.274994Z",
     "iopub.status.idle": "2022-10-31T11:16:21.766175Z",
     "shell.execute_reply": "2022-10-31T11:16:21.765562Z",
     "shell.execute_reply.started": "2022-10-31T11:16:21.275376Z"
    },
    "tags": []
   },
   "outputs": [],
   "source": [
    "subsamplers = {\n",
    "    key: SlidingWindowSampler(ds.timeseries.index, horizons=[\"2h\", \"1h\"], stride=\"1h\")\n",
    "    for key, ds in TSC.items()\n",
    "}\n",
    "sampler = HierarchicalSampler(TSC, subsamplers, shuffle=False)"
   ]
  },
  {
   "cell_type": "code",
   "execution_count": null,
   "id": "bb5a3769-0073-4baf-ae49-e91b33b24bb7",
   "metadata": {
    "execution": {
     "iopub.execute_input": "2022-10-31T11:16:21.767228Z",
     "iopub.status.busy": "2022-10-31T11:16:21.766927Z",
     "iopub.status.idle": "2022-10-31T11:16:21.795451Z",
     "shell.execute_reply": "2022-10-31T11:16:21.794810Z",
     "shell.execute_reply.started": "2022-10-31T11:16:21.767212Z"
    },
    "tags": []
   },
   "outputs": [],
   "source": [
    "outer_key, (forecasting_horizon, prediction_horizon) = next(iter(sampler))"
   ]
  },
  {
   "cell_type": "code",
   "execution_count": null,
   "id": "c1ecc647-69a2-42de-952d-c229fcbeef01",
   "metadata": {
    "execution": {
     "iopub.execute_input": "2022-10-31T11:16:21.796391Z",
     "iopub.status.busy": "2022-10-31T11:16:21.796197Z",
     "iopub.status.idle": "2022-10-31T11:16:21.844090Z",
     "shell.execute_reply": "2022-10-31T11:16:21.843462Z",
     "shell.execute_reply.started": "2022-10-31T11:16:21.796374Z"
    },
    "tags": []
   },
   "outputs": [],
   "source": [
    "TSC[outer_key][forecasting_horizon]"
   ]
  },
  {
   "cell_type": "markdown",
   "id": "e2cb2ce9-e485-47ff-a6b0-836931f1b127",
   "metadata": {},
   "source": [
    "# TimeSeriesCollectionForecastingTask"
   ]
  },
  {
   "cell_type": "markdown",
   "id": "9ed37422-1c97-46e7-a987-59b7fb2e6a16",
   "metadata": {},
   "source": [
    "## TimeSeriesCollection Sample"
   ]
  },
  {
   "cell_type": "code",
   "execution_count": null,
   "id": "8748717f-34ad-481a-84f4-0fa9eb7a48e8",
   "metadata": {
    "execution": {
     "iopub.execute_input": "2022-10-31T11:16:21.845294Z",
     "iopub.status.busy": "2022-10-31T11:16:21.844962Z",
     "iopub.status.idle": "2022-10-31T11:16:21.872879Z",
     "shell.execute_reply": "2022-10-31T11:16:21.872083Z",
     "shell.execute_reply.started": "2022-10-31T11:16:21.845277Z"
    },
    "tags": []
   },
   "outputs": [],
   "source": [
    "from typing import NamedTuple\n",
    "\n",
    "\n",
    "class Inputs(NamedTuple):\n",
    "    \"\"\"tuple of inputs\"\"\"\n",
    "\n",
    "    t: int\n",
    "    x: int\n",
    "    t_target: int\n",
    "    metadata: int\n",
    "\n",
    "\n",
    "class Sample(NamedTuple):\n",
    "    \"\"\"A sample for forecasting task\"\"\"\n",
    "\n",
    "    key: int\n",
    "    inputs: Inputs\n",
    "    targets: int\n",
    "    # originals: int"
   ]
  },
  {
   "cell_type": "code",
   "execution_count": null,
   "id": "471b4f60-d1b9-4da5-b454-0817e2eae54a",
   "metadata": {
    "execution": {
     "iopub.execute_input": "2022-10-31T11:16:21.874024Z",
     "iopub.status.busy": "2022-10-31T11:16:21.873726Z",
     "iopub.status.idle": "2022-10-31T11:16:22.674046Z",
     "shell.execute_reply": "2022-10-31T11:16:22.672982Z",
     "shell.execute_reply.started": "2022-10-31T11:16:21.874006Z"
    },
    "tags": []
   },
   "outputs": [],
   "source": [
    "@dataclass\n",
    "class TimeSeriesCollectionForecastingTask(TorchDataset):\n",
    "    r\"\"\"Create Sample from TSC.\"\"\"\n",
    "\n",
    "    dataset: TimeSeriesCollection\n",
    "    targets: Index\n",
    "    controls: Index\n",
    "    observables: Index\n",
    "\n",
    "    def __getitem__(self, key) -> Sample:\n",
    "        assert isinstance(key, tuple) and len(key) == 2\n",
    "        outer_key, inner_key = key\n",
    "        assert isinstance(inner_key, list) and len(inner_key) == 2\n",
    "        observation_horizon, forecasting_horizon = inner_key\n",
    "\n",
    "        tsd = self.dataset[outer_key]\n",
    "        md = tsd.metadata\n",
    "\n",
    "        obs = tsd[observation_horizon]\n",
    "        pre = tsd[forecasting_horizon]\n",
    "        horizon = observation_horizon | forecasting_horizon\n",
    "        ts = tsd[horizon]\n",
    "\n",
    "        return Sample(\n",
    "            key=outer_key,\n",
    "            inputs=Inputs(ts, obs, ts, pre),\n",
    "            targets=pre,\n",
    "        )"
   ]
  },
  {
   "cell_type": "code",
   "execution_count": null,
   "id": "92c0ec74-d425-400d-96fd-2c1b084989d6",
   "metadata": {
    "execution": {
     "iopub.status.busy": "2022-10-31T11:16:22.674772Z",
     "iopub.status.idle": "2022-10-31T11:16:22.675030Z",
     "shell.execute_reply": "2022-10-31T11:16:22.674921Z",
     "shell.execute_reply.started": "2022-10-31T11:16:22.674911Z"
    },
    "tags": []
   },
   "outputs": [],
   "source": [
    "key = next(iter(sampler))"
   ]
  },
  {
   "cell_type": "code",
   "execution_count": null,
   "id": "dbe87c6a-ae52-42d5-9f9f-1ba22051e4ce",
   "metadata": {
    "execution": {
     "iopub.status.busy": "2022-10-31T11:16:22.675706Z",
     "iopub.status.idle": "2022-10-31T11:16:22.675906Z",
     "shell.execute_reply": "2022-10-31T11:16:22.675814Z",
     "shell.execute_reply.started": "2022-10-31T11:16:22.675804Z"
    },
    "tags": []
   },
   "outputs": [],
   "source": [
    "task = TimeSeriesCollectionForecastingTask(\n",
    "    TSC, targets=None, controls=None, observables=None\n",
    ")\n",
    "task[key]"
   ]
  },
  {
   "cell_type": "code",
   "execution_count": null,
   "id": "f825dfad-be22-403c-898d-6c8a6c3a1b47",
   "metadata": {},
   "outputs": [],
   "source": []
  },
  {
   "cell_type": "code",
   "execution_count": null,
   "id": "257d851f-3332-4c6c-8181-bd07242b719c",
   "metadata": {},
   "outputs": [],
   "source": []
  },
  {
   "cell_type": "markdown",
   "id": "d36d7806-3b49-4f26-91b0-bd308e651396",
   "metadata": {},
   "source": [
    "# Mapping Dataset"
   ]
  },
  {
   "cell_type": "code",
   "execution_count": null,
   "id": "7d14ab4f-58ae-42bd-8d2e-a18a60b1248b",
   "metadata": {
    "execution": {
     "iopub.status.busy": "2022-10-31T11:16:22.676689Z",
     "iopub.status.idle": "2022-10-31T11:16:22.677136Z",
     "shell.execute_reply": "2022-10-31T11:16:22.676962Z",
     "shell.execute_reply.started": "2022-10-31T11:16:22.676951Z"
    },
    "tags": []
   },
   "outputs": [],
   "source": [
    "d = dict(enumerate(\"asdfghjkl\"))"
   ]
  },
  {
   "cell_type": "code",
   "execution_count": null,
   "id": "7d6fc26a-a7b5-4807-ad93-6baad3664ceb",
   "metadata": {
    "execution": {
     "iopub.status.busy": "2022-10-31T11:16:22.677793Z",
     "iopub.status.idle": "2022-10-31T11:16:22.678143Z",
     "shell.execute_reply": "2022-10-31T11:16:22.678041Z",
     "shell.execute_reply.started": "2022-10-31T11:16:22.678030Z"
    },
    "tags": []
   },
   "outputs": [],
   "source": [
    "from collections.abc import Mapping\n",
    "from dataclasses import dataclass\n",
    "\n",
    "from torch.utils.data import Dataset"
   ]
  },
  {
   "cell_type": "code",
   "execution_count": null,
   "id": "9c58945f-54cc-4b5b-be23-4b1b73ac4877",
   "metadata": {
    "execution": {
     "iopub.status.busy": "2022-10-31T11:16:22.678720Z",
     "iopub.status.idle": "2022-10-31T11:16:22.678935Z",
     "shell.execute_reply": "2022-10-31T11:16:22.678831Z",
     "shell.execute_reply.started": "2022-10-31T11:16:22.678822Z"
    },
    "tags": []
   },
   "outputs": [],
   "source": [
    "@dataclass\n",
    "class MyMapping(Dataset, Mapping):\n",
    "    internal_dict: dict\n",
    "\n",
    "    def __iter__(self):\n",
    "        return iter(self.internal_dict)\n",
    "\n",
    "    def __getitem__(self, key):\n",
    "        return self.internal_dict[key]\n",
    "\n",
    "    def __len__(self):\n",
    "        return len(self.internal_dict)"
   ]
  },
  {
   "cell_type": "code",
   "execution_count": null,
   "id": "010228c4-ed98-4958-becd-c8646e3681ec",
   "metadata": {
    "execution": {
     "iopub.status.busy": "2022-10-31T11:16:22.679695Z",
     "iopub.status.idle": "2022-10-31T11:16:22.680073Z",
     "shell.execute_reply": "2022-10-31T11:16:22.679970Z",
     "shell.execute_reply.started": "2022-10-31T11:16:22.679960Z"
    },
    "tags": []
   },
   "outputs": [],
   "source": [
    "from torch.utils.data import DataLoader\n",
    "\n",
    "dataloader = DataLoader(MyMapping(d))"
   ]
  }
 ],
 "metadata": {
  "kernelspec": {
   "display_name": "Python 3 (ipykernel)",
   "language": "python",
   "name": "python3"
  },
  "language_info": {
   "codemirror_mode": {
    "name": "ipython",
    "version": 3
   },
   "file_extension": ".py",
   "mimetype": "text/x-python",
   "name": "python",
   "nbconvert_exporter": "python",
   "pygments_lexer": "ipython3",
   "version": "3.10.6"
  }
 },
 "nbformat": 4,
 "nbformat_minor": 5
}
