{
 "cells": [
  {
   "cell_type": "code",
   "execution_count": null,
   "id": "20191951-beec-414a-b3c6-89dca8277ad2",
   "metadata": {
    "execution": {
     "iopub.execute_input": "2022-11-07T20:04:49.912692Z",
     "iopub.status.busy": "2022-11-07T20:04:49.912585Z",
     "iopub.status.idle": "2022-11-07T20:04:50.189521Z",
     "shell.execute_reply": "2022-11-07T20:04:50.189043Z",
     "shell.execute_reply.started": "2022-11-07T20:04:49.912665Z"
    },
    "tags": []
   },
   "outputs": [],
   "source": [
    "%config InteractiveShell.ast_node_interactivity='last_expr_or_assign'  # always print last expr.\n",
    "%config InlineBackend.figure_format = 'svg'\n",
    "%load_ext autoreload\n",
    "%autoreload 2\n",
    "%matplotlib inline"
   ]
  },
  {
   "cell_type": "code",
   "execution_count": null,
   "id": "71d6d898-643d-4a60-b993-5ec5f51a1284",
   "metadata": {
    "execution": {
     "iopub.execute_input": "2022-11-07T20:04:50.190678Z",
     "iopub.status.busy": "2022-11-07T20:04:50.190530Z",
     "iopub.status.idle": "2022-11-07T20:04:51.452829Z",
     "shell.execute_reply": "2022-11-07T20:04:51.452321Z",
     "shell.execute_reply.started": "2022-11-07T20:04:50.190667Z"
    },
    "tags": []
   },
   "outputs": [],
   "source": [
    "from pandas import DataFrame, Index, Series\n",
    "from torch.utils.data import Dataset as TorchDataset\n",
    "\n",
    "import tsdm\n",
    "from tsdm.datasets import TimeSeriesCollection\n",
    "from tsdm.random.samplers import HierarchicalSampler, SlidingWindowSampler"
   ]
  },
  {
   "cell_type": "code",
   "execution_count": null,
   "id": "6be3680d-aeaa-4abd-a715-c42d31abc218",
   "metadata": {
    "execution": {
     "iopub.execute_input": "2022-11-07T20:04:51.453701Z",
     "iopub.status.busy": "2022-11-07T20:04:51.453428Z",
     "iopub.status.idle": "2022-11-07T20:04:51.474639Z",
     "shell.execute_reply": "2022-11-07T20:04:51.474072Z",
     "shell.execute_reply.started": "2022-11-07T20:04:51.453685Z"
    },
    "tags": []
   },
   "outputs": [],
   "source": [
    "import logging\n",
    "\n",
    "logging.basicConfig(level=logging.INFO)"
   ]
  },
  {
   "cell_type": "code",
   "execution_count": null,
   "id": "d695b42b",
   "metadata": {
    "execution": {
     "iopub.execute_input": "2022-11-07T20:04:51.475588Z",
     "iopub.status.busy": "2022-11-07T20:04:51.475467Z",
     "iopub.status.idle": "2022-11-07T20:04:52.301559Z",
     "shell.execute_reply": "2022-11-07T20:04:52.301069Z",
     "shell.execute_reply.started": "2022-11-07T20:04:51.475576Z"
    },
    "tags": []
   },
   "outputs": [],
   "source": [
    "ds = tsdm.datasets.KIWI_RUNS()"
   ]
  },
  {
   "cell_type": "code",
   "execution_count": null,
   "id": "f9389f9c-7bc4-4f61-8ff8-774e1398b091",
   "metadata": {
    "execution": {
     "iopub.execute_input": "2022-11-07T20:04:52.302217Z",
     "iopub.status.busy": "2022-11-07T20:04:52.302105Z",
     "iopub.status.idle": "2022-11-07T20:04:52.333815Z",
     "shell.execute_reply": "2022-11-07T20:04:52.333335Z",
     "shell.execute_reply.started": "2022-11-07T20:04:52.302206Z"
    }
   },
   "outputs": [],
   "source": [
    "ds.timeseries"
   ]
  },
  {
   "cell_type": "code",
   "execution_count": null,
   "id": "0cfa02aa-f3e3-4be2-a86b-c7a0cf2f33bf",
   "metadata": {
    "execution": {
     "iopub.execute_input": "2022-11-07T20:04:52.334624Z",
     "iopub.status.busy": "2022-11-07T20:04:52.334511Z",
     "iopub.status.idle": "2022-11-07T20:04:52.366156Z",
     "shell.execute_reply": "2022-11-07T20:04:52.365627Z",
     "shell.execute_reply.started": "2022-11-07T20:04:52.334613Z"
    }
   },
   "outputs": [],
   "source": [
    "ds.timeseries"
   ]
  },
  {
   "cell_type": "code",
   "execution_count": null,
   "id": "9559b04f-7e1c-418c-bd02-05595ba47454",
   "metadata": {
    "execution": {
     "iopub.execute_input": "2022-11-07T20:04:52.367721Z",
     "iopub.status.busy": "2022-11-07T20:04:52.367604Z",
     "iopub.status.idle": "2022-11-07T20:04:52.387053Z",
     "shell.execute_reply": "2022-11-07T20:04:52.386636Z",
     "shell.execute_reply.started": "2022-11-07T20:04:52.367711Z"
    },
    "tags": []
   },
   "outputs": [],
   "source": [
    "ds.time_features.dtypes"
   ]
  },
  {
   "cell_type": "code",
   "execution_count": null,
   "id": "7d80d9de-cfde-4502-8f88-b842650cdaa7",
   "metadata": {
    "execution": {
     "iopub.execute_input": "2022-11-07T20:04:52.387617Z",
     "iopub.status.busy": "2022-11-07T20:04:52.387511Z",
     "iopub.status.idle": "2022-11-07T20:04:52.404734Z",
     "shell.execute_reply": "2022-11-07T20:04:52.404340Z",
     "shell.execute_reply.started": "2022-11-07T20:04:52.387607Z"
    }
   },
   "outputs": [],
   "source": [
    "from tsdm.datasets import KIWI"
   ]
  },
  {
   "cell_type": "code",
   "execution_count": null,
   "id": "0974f5b3-46a2-4874-a8cb-2d085ed512e6",
   "metadata": {
    "execution": {
     "iopub.execute_input": "2022-11-07T20:04:52.405323Z",
     "iopub.status.busy": "2022-11-07T20:04:52.405212Z",
     "iopub.status.idle": "2022-11-07T20:04:53.206703Z",
     "shell.execute_reply": "2022-11-07T20:04:53.206256Z",
     "shell.execute_reply.started": "2022-11-07T20:04:52.405312Z"
    },
    "tags": []
   },
   "outputs": [],
   "source": [
    "ds = KIWI()\n",
    "ds"
   ]
  },
  {
   "cell_type": "code",
   "execution_count": null,
   "id": "de473727-3786-4e75-a642-0523d50b6cc0",
   "metadata": {
    "execution": {
     "iopub.execute_input": "2022-11-07T20:04:53.207349Z",
     "iopub.status.busy": "2022-11-07T20:04:53.207237Z",
     "iopub.status.idle": "2022-11-07T20:04:53.231426Z",
     "shell.execute_reply": "2022-11-07T20:04:53.230959Z",
     "shell.execute_reply.started": "2022-11-07T20:04:53.207339Z"
    },
    "tags": []
   },
   "outputs": [],
   "source": [
    "ds[439, 15325]"
   ]
  },
  {
   "cell_type": "code",
   "execution_count": null,
   "id": "4ccf4807-d19f-4af4-9b02-6d37f7c1862d",
   "metadata": {
    "execution": {
     "iopub.execute_input": "2022-11-07T20:04:53.232077Z",
     "iopub.status.busy": "2022-11-07T20:04:53.231964Z",
     "iopub.status.idle": "2022-11-07T20:04:54.106827Z",
     "shell.execute_reply": "2022-11-07T20:04:54.106356Z",
     "shell.execute_reply.started": "2022-11-07T20:04:53.232066Z"
    },
    "tags": []
   },
   "outputs": [],
   "source": [
    "from tsdm.tasks import KIWI_RUNS_TASK\n",
    "\n",
    "\n",
    "task = KIWI_RUNS_TASK()"
   ]
  },
  {
   "cell_type": "code",
   "execution_count": null,
   "id": "8fea1b96-9594-403c-ae79-3feee596e0fe",
   "metadata": {
    "execution": {
     "iopub.execute_input": "2022-11-07T20:04:54.107485Z",
     "iopub.status.busy": "2022-11-07T20:04:54.107371Z",
     "iopub.status.idle": "2022-11-07T20:04:54.125259Z",
     "shell.execute_reply": "2022-11-07T20:04:54.124645Z",
     "shell.execute_reply.started": "2022-11-07T20:04:54.107474Z"
    },
    "tags": []
   },
   "outputs": [],
   "source": [
    "from tsdm.utils.strings import *"
   ]
  },
  {
   "cell_type": "code",
   "execution_count": null,
   "id": "ef09af5f-786a-4957-851d-75f6b035fe55",
   "metadata": {
    "execution": {
     "iopub.execute_input": "2022-11-07T20:04:54.125944Z",
     "iopub.status.busy": "2022-11-07T20:04:54.125835Z",
     "iopub.status.idle": "2022-11-07T20:04:56.720177Z",
     "shell.execute_reply": "2022-11-07T20:04:56.719759Z",
     "shell.execute_reply.started": "2022-11-07T20:04:54.125933Z"
    },
    "tags": []
   },
   "outputs": [],
   "source": [
    "print(repr_mapping(task.splits, recursive=0))"
   ]
  },
  {
   "cell_type": "code",
   "execution_count": null,
   "id": "ae00e688-d6d1-4994-a10e-c559fde2a9df",
   "metadata": {
    "execution": {
     "iopub.execute_input": "2022-11-07T20:04:56.720799Z",
     "iopub.status.busy": "2022-11-07T20:04:56.720686Z",
     "iopub.status.idle": "2022-11-07T20:04:56.750097Z",
     "shell.execute_reply": "2022-11-07T20:04:56.749628Z",
     "shell.execute_reply.started": "2022-11-07T20:04:56.720789Z"
    },
    "tags": []
   },
   "outputs": [],
   "source": [
    "task.split_idx_sparse"
   ]
  },
  {
   "cell_type": "code",
   "execution_count": null,
   "id": "b7305601-980d-40cf-8e3f-ce4b1e18404f",
   "metadata": {
    "execution": {
     "iopub.execute_input": "2022-11-07T20:04:56.750740Z",
     "iopub.status.busy": "2022-11-07T20:04:56.750632Z",
     "iopub.status.idle": "2022-11-07T20:04:56.775001Z",
     "shell.execute_reply": "2022-11-07T20:04:56.774522Z",
     "shell.execute_reply.started": "2022-11-07T20:04:56.750730Z"
    },
    "tags": []
   },
   "outputs": [],
   "source": [
    "task.split_idx"
   ]
  },
  {
   "cell_type": "code",
   "execution_count": null,
   "id": "947e157c-95c1-425b-bbc4-8048bb610dec",
   "metadata": {
    "execution": {
     "iopub.execute_input": "2022-11-07T20:46:33.841188Z",
     "iopub.status.busy": "2022-11-07T20:46:33.840603Z",
     "iopub.status.idle": "2022-11-07T20:46:33.885812Z",
     "shell.execute_reply": "2022-11-07T20:46:33.885277Z",
     "shell.execute_reply.started": "2022-11-07T20:46:33.841163Z"
    },
    "tags": []
   },
   "outputs": [],
   "source": [
    "TimeSeriesCollection(timeseries=ds.timeseries).timeseries"
   ]
  },
  {
   "cell_type": "code",
   "execution_count": null,
   "id": "4633d0b1-df21-4d34-9de1-67979aef0d8d",
   "metadata": {
    "execution": {
     "iopub.execute_input": "2022-11-07T20:04:56.775686Z",
     "iopub.status.busy": "2022-11-07T20:04:56.775575Z",
     "iopub.status.idle": "2022-11-07T20:04:56.795600Z",
     "shell.execute_reply": "2022-11-07T20:04:56.795141Z",
     "shell.execute_reply.started": "2022-11-07T20:04:56.775676Z"
    },
    "tags": []
   },
   "outputs": [],
   "source": [
    "TSC = TimeSeriesCollection(\n",
    "    index=ds.index,\n",
    "    timeseries=ds.timeseries,\n",
    "    metadata=ds.metadata,\n",
    "    time_features=ds.time_features,\n",
    "    value_features=ds.value_features,\n",
    "    metadata_features=ds.metadata_features,\n",
    ")"
   ]
  },
  {
   "cell_type": "markdown",
   "id": "e8e91e81-c5e5-4d71-9415-ba61b8614e46",
   "metadata": {},
   "source": [
    "## Sampler"
   ]
  },
  {
   "cell_type": "code",
   "execution_count": null,
   "id": "efd95902-a95d-419b-b991-ad806441073b",
   "metadata": {
    "execution": {
     "iopub.execute_input": "2022-11-07T20:04:56.796196Z",
     "iopub.status.busy": "2022-11-07T20:04:56.796084Z",
     "iopub.status.idle": "2022-11-07T20:04:56.826807Z",
     "shell.execute_reply": "2022-11-07T20:04:56.826352Z",
     "shell.execute_reply.started": "2022-11-07T20:04:56.796180Z"
    },
    "tags": []
   },
   "outputs": [],
   "source": [
    "ts = ds.timeseries.loc[(439, 15325)]"
   ]
  },
  {
   "cell_type": "code",
   "execution_count": null,
   "id": "f6dd2d2a-a7fd-4166-9626-1e3789bfb8a3",
   "metadata": {
    "execution": {
     "iopub.execute_input": "2022-11-07T20:04:56.827391Z",
     "iopub.status.busy": "2022-11-07T20:04:56.827269Z",
     "iopub.status.idle": "2022-11-07T20:04:56.846014Z",
     "shell.execute_reply": "2022-11-07T20:04:56.845673Z",
     "shell.execute_reply.started": "2022-11-07T20:04:56.827379Z"
    },
    "tags": []
   },
   "outputs": [],
   "source": [
    "sampler = SlidingWindowSampler(ts.index, horizons=[\"2h\", \"1h\"], stride=\"1h\")"
   ]
  },
  {
   "cell_type": "code",
   "execution_count": null,
   "id": "2b74748f-97f9-4bba-9a7c-b1e3be49a607",
   "metadata": {
    "execution": {
     "iopub.execute_input": "2022-11-07T20:04:56.846618Z",
     "iopub.status.busy": "2022-11-07T20:04:56.846509Z",
     "iopub.status.idle": "2022-11-07T20:04:56.866152Z",
     "shell.execute_reply": "2022-11-07T20:04:56.865720Z",
     "shell.execute_reply.started": "2022-11-07T20:04:56.846608Z"
    },
    "tags": []
   },
   "outputs": [],
   "source": [
    "next(iter(sampler))"
   ]
  },
  {
   "cell_type": "markdown",
   "id": "b219160a-32f8-425d-8a7f-45de6e7fadbe",
   "metadata": {},
   "source": [
    "## Construct the Sampler"
   ]
  },
  {
   "cell_type": "code",
   "execution_count": null,
   "id": "2ce0855f-fd9b-4d4c-aed6-e9f2b8aee1f7",
   "metadata": {
    "execution": {
     "iopub.execute_input": "2022-11-07T20:04:56.889227Z",
     "iopub.status.busy": "2022-11-07T20:04:56.889121Z",
     "iopub.status.idle": "2022-11-07T20:04:56.908714Z",
     "shell.execute_reply": "2022-11-07T20:04:56.907948Z",
     "shell.execute_reply.started": "2022-11-07T20:04:56.889216Z"
    },
    "tags": []
   },
   "outputs": [],
   "source": [
    "from torch.utils.data import RandomSampler, SubsetRandomSampler"
   ]
  },
  {
   "cell_type": "code",
   "execution_count": null,
   "id": "58d423e1-21a5-40c3-a1dd-208d628e2615",
   "metadata": {
    "execution": {
     "iopub.execute_input": "2022-11-07T20:04:56.911316Z",
     "iopub.status.busy": "2022-11-07T20:04:56.911199Z",
     "iopub.status.idle": "2022-11-07T20:04:56.930608Z",
     "shell.execute_reply": "2022-11-07T20:04:56.930243Z",
     "shell.execute_reply.started": "2022-11-07T20:04:56.911306Z"
    },
    "tags": []
   },
   "outputs": [],
   "source": [
    "next(iter(SubsetRandomSampler(TSC.index)))"
   ]
  },
  {
   "cell_type": "code",
   "execution_count": null,
   "id": "279c8037-4aca-40fb-935d-18ad475f42df",
   "metadata": {
    "execution": {
     "iopub.execute_input": "2022-11-07T20:04:56.931215Z",
     "iopub.status.busy": "2022-11-07T20:04:56.931100Z",
     "iopub.status.idle": "2022-11-07T20:04:56.953394Z",
     "shell.execute_reply": "2022-11-07T20:04:56.953026Z",
     "shell.execute_reply.started": "2022-11-07T20:04:56.931204Z"
    },
    "tags": []
   },
   "outputs": [],
   "source": [
    "TSC[(439, 15325)]"
   ]
  },
  {
   "cell_type": "code",
   "execution_count": null,
   "id": "0384afb0-25d9-467f-bf14-a29eb03f091b",
   "metadata": {
    "execution": {
     "iopub.execute_input": "2022-11-07T20:04:56.954003Z",
     "iopub.status.busy": "2022-11-07T20:04:56.953888Z",
     "iopub.status.idle": "2022-11-07T20:04:57.662284Z",
     "shell.execute_reply": "2022-11-07T20:04:57.661872Z",
     "shell.execute_reply.started": "2022-11-07T20:04:56.953992Z"
    },
    "tags": []
   },
   "outputs": [],
   "source": [
    "subsamplers = {\n",
    "    key: SlidingWindowSampler(ds.timeseries.index, horizons=[\"2h\", \"1h\"], stride=\"1h\")\n",
    "    for key, ds in TSC.items()\n",
    "}\n",
    "sampler = HierarchicalSampler(TSC, subsamplers, shuffle=False)"
   ]
  },
  {
   "cell_type": "code",
   "execution_count": null,
   "id": "73fe1d3b-fef1-41cd-9967-826b195691b2",
   "metadata": {
    "execution": {
     "iopub.execute_input": "2022-11-07T20:15:41.682269Z",
     "iopub.status.busy": "2022-11-07T20:15:41.681777Z",
     "iopub.status.idle": "2022-11-07T20:15:41.764223Z",
     "shell.execute_reply": "2022-11-07T20:15:41.763817Z",
     "shell.execute_reply.started": "2022-11-07T20:15:41.682252Z"
    },
    "tags": []
   },
   "outputs": [],
   "source": [
    "from tsdm.datasets import InSilicoData\n",
    "\n",
    "ds = InSilicoData()\n",
    "\n",
    "ds.timeseries"
   ]
  },
  {
   "cell_type": "code",
   "execution_count": null,
   "id": "bb5a3769-0073-4baf-ae49-e91b33b24bb7",
   "metadata": {
    "execution": {
     "iopub.execute_input": "2022-11-07T20:04:57.662869Z",
     "iopub.status.busy": "2022-11-07T20:04:57.662762Z",
     "iopub.status.idle": "2022-11-07T20:04:57.681748Z",
     "shell.execute_reply": "2022-11-07T20:04:57.681284Z",
     "shell.execute_reply.started": "2022-11-07T20:04:57.662859Z"
    },
    "tags": []
   },
   "outputs": [],
   "source": [
    "outer_key, (forecasting_horizon, prediction_horizon) = next(iter(sampler))"
   ]
  },
  {
   "cell_type": "code",
   "execution_count": null,
   "id": "c1ecc647-69a2-42de-952d-c229fcbeef01",
   "metadata": {
    "execution": {
     "iopub.execute_input": "2022-11-07T20:04:57.682334Z",
     "iopub.status.busy": "2022-11-07T20:04:57.682227Z",
     "iopub.status.idle": "2022-11-07T20:04:57.713597Z",
     "shell.execute_reply": "2022-11-07T20:04:57.713125Z",
     "shell.execute_reply.started": "2022-11-07T20:04:57.682324Z"
    },
    "tags": []
   },
   "outputs": [],
   "source": [
    "TSC[outer_key][forecasting_horizon]"
   ]
  },
  {
   "cell_type": "markdown",
   "id": "e2cb2ce9-e485-47ff-a6b0-836931f1b127",
   "metadata": {},
   "source": [
    "# TimeSeriesCollectionForecastingTask"
   ]
  },
  {
   "cell_type": "code",
   "execution_count": null,
   "id": "4c31eb35-d161-4f97-82f5-6fd16c99d8f6",
   "metadata": {
    "execution": {
     "iopub.execute_input": "2022-11-07T20:04:57.714203Z",
     "iopub.status.busy": "2022-11-07T20:04:57.714096Z",
     "iopub.status.idle": "2022-11-07T20:04:57.733829Z",
     "shell.execute_reply": "2022-11-07T20:04:57.733375Z",
     "shell.execute_reply.started": "2022-11-07T20:04:57.714193Z"
    },
    "tags": []
   },
   "outputs": [],
   "source": [
    "TSC"
   ]
  },
  {
   "cell_type": "code",
   "execution_count": null,
   "id": "508a1a20-d989-4bdc-b446-aaa2db89bda3",
   "metadata": {
    "execution": {
     "iopub.execute_input": "2022-11-07T20:04:57.734527Z",
     "iopub.status.busy": "2022-11-07T20:04:57.734421Z",
     "iopub.status.idle": "2022-11-07T20:04:57.753557Z",
     "shell.execute_reply": "2022-11-07T20:04:57.753070Z",
     "shell.execute_reply.started": "2022-11-07T20:04:57.734516Z"
    },
    "tags": []
   },
   "outputs": [],
   "source": [
    "from tsdm.tasks import TimeSeriesTaskDataset\n",
    "\n",
    "targets = [\"Base\", \"DOT\", \"Glucose\", \"OD600\"]\n",
    "observables = [\n",
    "    \"Base\",\n",
    "    \"DOT\",\n",
    "    \"Glucose\",\n",
    "    \"OD600\",\n",
    "    \"Acetate\",\n",
    "    \"Fluo_GFP\",\n",
    "    \"pH\",\n",
    "]\n",
    "covariates = [\n",
    "    \"Cumulated_feed_volume_glucose\",\n",
    "    \"Cumulated_feed_volume_medium\",\n",
    "    \"InducerConcentration\",\n",
    "    \"StirringSpeed\",\n",
    "    \"Flow_Air\",\n",
    "    \"Temperature\",\n",
    "    \"Probe_Volume\",\n",
    "]"
   ]
  },
  {
   "cell_type": "code",
   "execution_count": null,
   "id": "a3dddf42-f2e0-4a8f-b9c8-59218a1f139d",
   "metadata": {
    "execution": {
     "iopub.execute_input": "2022-11-07T20:04:57.754092Z",
     "iopub.status.busy": "2022-11-07T20:04:57.753990Z",
     "iopub.status.idle": "2022-11-07T20:04:57.786949Z",
     "shell.execute_reply": "2022-11-07T20:04:57.786453Z",
     "shell.execute_reply.started": "2022-11-07T20:04:57.754083Z"
    },
    "tags": []
   },
   "outputs": [],
   "source": [
    "key = next(iter(sampler))\n",
    "outer_key, (observation_horizon, forecasting_horizon) = key\n",
    "TSC[outer_key][observation_horizon]"
   ]
  },
  {
   "cell_type": "code",
   "execution_count": null,
   "id": "038cb882-3b7f-4f6f-a46e-c7d87b6901a8",
   "metadata": {
    "execution": {
     "iopub.execute_input": "2022-11-07T20:04:57.787569Z",
     "iopub.status.busy": "2022-11-07T20:04:57.787459Z",
     "iopub.status.idle": "2022-11-07T20:04:57.809263Z",
     "shell.execute_reply": "2022-11-07T20:04:57.808960Z",
     "shell.execute_reply.started": "2022-11-07T20:04:57.787558Z"
    },
    "tags": []
   },
   "outputs": [],
   "source": [
    "TSC[439, 15325]"
   ]
  },
  {
   "cell_type": "code",
   "execution_count": null,
   "id": "fadeed9c-e6e0-4a44-848c-478344a17da5",
   "metadata": {},
   "outputs": [],
   "source": []
  },
  {
   "cell_type": "markdown",
   "id": "734441b2-75b4-4068-acf6-d15ce39efed0",
   "metadata": {},
   "source": [
    "# Collction Test"
   ]
  },
  {
   "cell_type": "code",
   "execution_count": null,
   "id": "33cbe739-2e1a-4cd2-b756-8e083d9ef3ee",
   "metadata": {
    "execution": {
     "iopub.execute_input": "2022-11-07T20:04:57.809847Z",
     "iopub.status.busy": "2022-11-07T20:04:57.809741Z",
     "iopub.status.idle": "2022-11-07T20:04:57.848025Z",
     "shell.execute_reply": "2022-11-07T20:04:57.847267Z",
     "shell.execute_reply.started": "2022-11-07T20:04:57.809837Z"
    },
    "tags": []
   },
   "outputs": [],
   "source": [
    "task = TimeSeriesTaskDataset(\n",
    "    TSC,\n",
    "    targets=targets,\n",
    "    observables=observables,\n",
    "    covariates=covariates,\n",
    "    sample_format=(\"sparse\", \"sparse\"),\n",
    ")\n",
    "sample = task[key]"
   ]
  },
  {
   "cell_type": "markdown",
   "id": "2869b606-fa62-4652-99ed-03ae128acd19",
   "metadata": {},
   "source": [
    "# Dataset Test"
   ]
  },
  {
   "cell_type": "code",
   "execution_count": null,
   "id": "32b938ec-6366-4fa7-b3b3-786a01dcf3da",
   "metadata": {
    "execution": {
     "iopub.execute_input": "2022-11-07T20:05:22.446776Z",
     "iopub.status.busy": "2022-11-07T20:05:22.446498Z",
     "iopub.status.idle": "2022-11-07T20:05:22.503032Z",
     "shell.execute_reply": "2022-11-07T20:05:22.502418Z",
     "shell.execute_reply.started": "2022-11-07T20:05:22.446754Z"
    },
    "tags": []
   },
   "outputs": [],
   "source": [
    "task = TimeSeriesTaskDataset(\n",
    "    TSC[439, 15325],\n",
    "    targets=targets,\n",
    "    observables=observables,\n",
    "    covariates=covariates,\n",
    "    sample_format=(\"masked\", \"masked\"),\n",
    ")\n",
    "sample = task[key[1]]"
   ]
  },
  {
   "cell_type": "code",
   "execution_count": null,
   "id": "77a1fda4-15d8-4291-b6de-9a98b75ecb33",
   "metadata": {
    "execution": {
     "iopub.execute_input": "2022-11-07T20:04:57.886399Z",
     "iopub.status.busy": "2022-11-07T20:04:57.886282Z",
     "iopub.status.idle": "2022-11-07T20:04:57.986596Z",
     "shell.execute_reply": "2022-11-07T20:04:57.985935Z",
     "shell.execute_reply.started": "2022-11-07T20:04:57.886388Z"
    }
   },
   "outputs": [],
   "source": [
    "raise"
   ]
  },
  {
   "cell_type": "code",
   "execution_count": null,
   "id": "62abd56d-dbb3-4de4-bb92-0a552e5765b1",
   "metadata": {
    "execution": {
     "iopub.status.busy": "2022-11-07T20:04:57.986927Z",
     "iopub.status.idle": "2022-11-07T20:04:57.987070Z",
     "shell.execute_reply": "2022-11-07T20:04:57.987002Z",
     "shell.execute_reply.started": "2022-11-07T20:04:57.986995Z"
    }
   },
   "outputs": [],
   "source": [
    "if sample.inputs.t_target is not None:\n",
    "    diff = sample.inputs.t_target.index.difference(sample.targets.y.index)\n",
    "    sample.inputs.t_target.drop(diff, inplace=True)\n",
    "sample"
   ]
  },
  {
   "cell_type": "code",
   "execution_count": null,
   "id": "e733c93e-ac41-4c6b-b7cb-f08dd69cdac7",
   "metadata": {
    "execution": {
     "iopub.status.busy": "2022-11-07T20:04:57.987590Z",
     "iopub.status.idle": "2022-11-07T20:04:57.987730Z",
     "shell.execute_reply": "2022-11-07T20:04:57.987665Z",
     "shell.execute_reply.started": "2022-11-07T20:04:57.987659Z"
    }
   },
   "outputs": [],
   "source": [
    "raise"
   ]
  },
  {
   "cell_type": "code",
   "execution_count": null,
   "id": "ca5d1e4f-410e-466d-a4ad-ce084ab47aaa",
   "metadata": {
    "execution": {
     "iopub.status.busy": "2022-11-07T20:04:57.988338Z",
     "iopub.status.idle": "2022-11-07T20:04:57.988481Z",
     "shell.execute_reply": "2022-11-07T20:04:57.988417Z",
     "shell.execute_reply.started": "2022-11-07T20:04:57.988410Z"
    },
    "tags": []
   },
   "outputs": [],
   "source": [
    "diff = sample.inputs.t_target.index.difference(sample.targets.y.index)\n",
    "sample.inputs.t_target.drop(diff, inplace=True)\n",
    "sample"
   ]
  },
  {
   "cell_type": "code",
   "execution_count": null,
   "id": "17fde7ae-4be9-44ae-a2c4-c7e90448ac4b",
   "metadata": {
    "execution": {
     "iopub.status.busy": "2022-11-07T20:04:57.988820Z",
     "iopub.status.idle": "2022-11-07T20:04:57.988956Z",
     "shell.execute_reply": "2022-11-07T20:04:57.988894Z",
     "shell.execute_reply.started": "2022-11-07T20:04:57.988887Z"
    }
   },
   "outputs": [],
   "source": [
    "raise"
   ]
  },
  {
   "cell_type": "markdown",
   "id": "d36d7806-3b49-4f26-91b0-bd308e651396",
   "metadata": {},
   "source": [
    "# Mapping Dataset"
   ]
  },
  {
   "cell_type": "code",
   "execution_count": null,
   "id": "7d14ab4f-58ae-42bd-8d2e-a18a60b1248b",
   "metadata": {
    "execution": {
     "iopub.status.busy": "2022-11-07T20:04:57.989519Z",
     "iopub.status.idle": "2022-11-07T20:04:57.989655Z",
     "shell.execute_reply": "2022-11-07T20:04:57.989591Z",
     "shell.execute_reply.started": "2022-11-07T20:04:57.989585Z"
    },
    "tags": []
   },
   "outputs": [],
   "source": [
    "d = dict(enumerate(\"asdfghjkl\"))"
   ]
  },
  {
   "cell_type": "code",
   "execution_count": null,
   "id": "7d6fc26a-a7b5-4807-ad93-6baad3664ceb",
   "metadata": {
    "execution": {
     "iopub.status.busy": "2022-11-07T20:04:57.990129Z",
     "iopub.status.idle": "2022-11-07T20:04:57.990268Z",
     "shell.execute_reply": "2022-11-07T20:04:57.990204Z",
     "shell.execute_reply.started": "2022-11-07T20:04:57.990197Z"
    },
    "tags": []
   },
   "outputs": [],
   "source": [
    "from collections.abc import Mapping\n",
    "from dataclasses import dataclass\n",
    "\n",
    "from torch.utils.data import Dataset"
   ]
  },
  {
   "cell_type": "code",
   "execution_count": null,
   "id": "9c58945f-54cc-4b5b-be23-4b1b73ac4877",
   "metadata": {
    "execution": {
     "iopub.status.busy": "2022-11-07T20:04:57.990908Z",
     "iopub.status.idle": "2022-11-07T20:04:57.991048Z",
     "shell.execute_reply": "2022-11-07T20:04:57.990984Z",
     "shell.execute_reply.started": "2022-11-07T20:04:57.990978Z"
    },
    "tags": []
   },
   "outputs": [],
   "source": [
    "@dataclass\n",
    "class MyMapping(Dataset, Mapping):\n",
    "    internal_dict: dict\n",
    "\n",
    "    def __iter__(self):\n",
    "        return iter(self.internal_dict)\n",
    "\n",
    "    def __getitem__(self, key):\n",
    "        return self.internal_dict[key]\n",
    "\n",
    "    def __len__(self):\n",
    "        return len(self.internal_dict)"
   ]
  },
  {
   "cell_type": "code",
   "execution_count": null,
   "id": "010228c4-ed98-4958-becd-c8646e3681ec",
   "metadata": {
    "execution": {
     "iopub.status.busy": "2022-11-07T20:04:57.991651Z",
     "iopub.status.idle": "2022-11-07T20:04:57.991796Z",
     "shell.execute_reply": "2022-11-07T20:04:57.991728Z",
     "shell.execute_reply.started": "2022-11-07T20:04:57.991721Z"
    },
    "tags": []
   },
   "outputs": [],
   "source": [
    "from torch.utils.data import DataLoader\n",
    "\n",
    "dataloader = DataLoader(MyMapping(d))"
   ]
  },
  {
   "cell_type": "code",
   "execution_count": null,
   "id": "1c961a18-66d1-4b99-a1b4-46fdf12a3311",
   "metadata": {},
   "outputs": [],
   "source": []
  },
  {
   "cell_type": "code",
   "execution_count": null,
   "id": "d96010ec-5762-4d3d-acdb-b23e7a3f5717",
   "metadata": {},
   "outputs": [],
   "source": []
  },
  {
   "cell_type": "code",
   "execution_count": null,
   "id": "c432b694-6a00-4269-8688-b807061ca921",
   "metadata": {
    "execution": {
     "iopub.status.busy": "2022-11-07T20:04:57.992250Z",
     "iopub.status.idle": "2022-11-07T20:04:57.992390Z",
     "shell.execute_reply": "2022-11-07T20:04:57.992326Z",
     "shell.execute_reply.started": "2022-11-07T20:04:57.992318Z"
    }
   },
   "outputs": [],
   "source": [
    "from typing import Any, Callable, Sequence\n",
    "\n",
    "\n",
    "def flatten_dict(\n",
    "    d: dict[str, Any],\n",
    "    /,\n",
    "    *,\n",
    "    recursive: bool = True,\n",
    "    join_fn: Callable[[Sequence[str]], str] = \".\".join,\n",
    ") -> dict[str, Any]:\n",
    "    r\"\"\"Flatten dictionaries recursively.\"\"\"\n",
    "    result = {}\n",
    "    for key, item in d.items():\n",
    "        if isinstance(item, dict) and recursive:\n",
    "            subdict = flatten_dict(item, recursive=True, join_fn=join_fn)\n",
    "            for subkey, subitem in subdict.items():\n",
    "                result[join_fn((key, subkey))] = subitem\n",
    "        else:\n",
    "            result[key] = item\n",
    "    return result\n",
    "\n",
    "\n",
    "def unflatten_dict(\n",
    "    d: dict[str, Any],\n",
    "    /,\n",
    "    *,\n",
    "    recursive: bool = True,\n",
    "    split_fn: Callable[[str], Sequence[str]] = lambda s: s.split(\".\", maxsplit=1),\n",
    ") -> dict[str, Any]:\n",
    "    r\"\"\"Unflatten dictionaries recursively.\"\"\"\n",
    "    result = {}\n",
    "    for key, item in d.items():\n",
    "        split = split_fn(key)\n",
    "        result.setdefault(split[0], {})\n",
    "        if len(split) > 1 and recursive:\n",
    "            assert len(split) == 2\n",
    "            subdict = unflatten_dict(\n",
    "                {split[1]: item}, recursive=recursive, split_fn=split_fn\n",
    "            )\n",
    "            result[split[0]] |= subdict\n",
    "        else:\n",
    "            result[split[0]] = item\n",
    "    return result\n",
    "\n",
    "\n",
    "a = {\n",
    "    \"a\": True,\n",
    "    \"b\": 42,\n",
    "    \"c\": \"foo\",\n",
    "    \"foo\": {\"a\": 1, \"b\": 2, \"c\": 3},\n",
    "    \"bar\": {\"a\": {\"a\": 1}, \"b\": {\"a\": 1}, \"c\": {\"a\": 1}},\n",
    "    \"baz\": {\"a\": True, \"b\": 2},  # <-- does not work!\n",
    "}\n",
    "\n",
    "print(flat := flatten_dict(a))\n",
    "print(unflat := unflatten_dict(a))\n",
    "assert unflat == a"
   ]
  },
  {
   "cell_type": "code",
   "execution_count": null,
   "id": "fdfe587a-9f2d-4fb7-b29d-cd85d8f30d62",
   "metadata": {
    "execution": {
     "iopub.status.busy": "2022-11-07T20:04:57.992829Z",
     "iopub.status.idle": "2022-11-07T20:04:57.992961Z",
     "shell.execute_reply": "2022-11-07T20:04:57.992898Z",
     "shell.execute_reply.started": "2022-11-07T20:04:57.992892Z"
    }
   },
   "outputs": [],
   "source": [
    "flat"
   ]
  },
  {
   "cell_type": "code",
   "execution_count": null,
   "id": "20385cb7-6254-4f2a-a927-05293482ae25",
   "metadata": {
    "execution": {
     "iopub.status.busy": "2022-11-07T20:04:57.993394Z",
     "iopub.status.idle": "2022-11-07T20:04:57.993525Z",
     "shell.execute_reply": "2022-11-07T20:04:57.993464Z",
     "shell.execute_reply.started": "2022-11-07T20:04:57.993457Z"
    }
   },
   "outputs": [],
   "source": [
    "unflatten_dict(flat)"
   ]
  },
  {
   "cell_type": "code",
   "execution_count": null,
   "id": "94d402b5-155e-45f0-a1d6-269b7e95e2dd",
   "metadata": {
    "execution": {
     "iopub.status.busy": "2022-11-07T20:04:57.994044Z",
     "iopub.status.idle": "2022-11-07T20:04:57.994176Z",
     "shell.execute_reply": "2022-11-07T20:04:57.994114Z",
     "shell.execute_reply.started": "2022-11-07T20:04:57.994108Z"
    }
   },
   "outputs": [],
   "source": [
    "\"a\".split(\".\")"
   ]
  },
  {
   "cell_type": "code",
   "execution_count": null,
   "id": "cbb9ae7e-bd86-49ce-a26c-c46fdbc261db",
   "metadata": {
    "execution": {
     "iopub.status.busy": "2022-11-07T20:04:57.994613Z",
     "iopub.status.idle": "2022-11-07T20:04:57.994746Z",
     "shell.execute_reply": "2022-11-07T20:04:57.994681Z",
     "shell.execute_reply.started": "2022-11-07T20:04:57.994675Z"
    }
   },
   "outputs": [],
   "source": [
    "dir(\".\")"
   ]
  },
  {
   "cell_type": "code",
   "execution_count": null,
   "id": "4c6918b2-9140-43a5-945b-e451a7a971b2",
   "metadata": {},
   "outputs": [],
   "source": []
  }
 ],
 "metadata": {
  "kernelspec": {
   "display_name": "Python 3 (ipykernel)",
   "language": "python",
   "name": "python3"
  },
  "language_info": {
   "codemirror_mode": {
    "name": "ipython",
    "version": 3
   },
   "file_extension": ".py",
   "mimetype": "text/x-python",
   "name": "python",
   "nbconvert_exporter": "python",
   "pygments_lexer": "ipython3",
   "version": "3.10.6"
  }
 },
 "nbformat": 4,
 "nbformat_minor": 5
}
