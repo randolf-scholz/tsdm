{
 "cells": [
  {
   "cell_type": "code",
   "execution_count": null,
   "id": "20191951-beec-414a-b3c6-89dca8277ad2",
   "metadata": {
    "execution": {
     "iopub.execute_input": "2022-11-04T13:04:54.055509Z",
     "iopub.status.busy": "2022-11-04T13:04:54.055191Z",
     "iopub.status.idle": "2022-11-04T13:04:54.343521Z",
     "shell.execute_reply": "2022-11-04T13:04:54.343101Z",
     "shell.execute_reply.started": "2022-11-04T13:04:54.055463Z"
    },
    "tags": []
   },
   "outputs": [],
   "source": [
    "%config InteractiveShell.ast_node_interactivity='last_expr_or_assign'  # always print last expr.\n",
    "%config InlineBackend.figure_format = 'svg'\n",
    "%load_ext autoreload\n",
    "%autoreload 2\n",
    "%matplotlib inline"
   ]
  },
  {
   "cell_type": "code",
   "execution_count": null,
   "id": "71d6d898-643d-4a60-b993-5ec5f51a1284",
   "metadata": {
    "execution": {
     "iopub.execute_input": "2022-11-04T13:04:54.344593Z",
     "iopub.status.busy": "2022-11-04T13:04:54.344359Z",
     "iopub.status.idle": "2022-11-04T13:04:55.291320Z",
     "shell.execute_reply": "2022-11-04T13:04:55.290855Z",
     "shell.execute_reply.started": "2022-11-04T13:04:54.344581Z"
    },
    "tags": []
   },
   "outputs": [],
   "source": [
    "from pandas import DataFrame, Index, Series\n",
    "from torch.utils.data import Dataset as TorchDataset\n",
    "\n",
    "import tsdm\n",
    "from tsdm.datasets import TimeSeriesCollection\n",
    "from tsdm.random.samplers import HierarchicalSampler, SlidingWindowSampler"
   ]
  },
  {
   "cell_type": "code",
   "execution_count": null,
   "id": "6be3680d-aeaa-4abd-a715-c42d31abc218",
   "metadata": {
    "execution": {
     "iopub.execute_input": "2022-11-04T13:04:55.291949Z",
     "iopub.status.busy": "2022-11-04T13:04:55.291750Z",
     "iopub.status.idle": "2022-11-04T13:04:55.308393Z",
     "shell.execute_reply": "2022-11-04T13:04:55.307979Z",
     "shell.execute_reply.started": "2022-11-04T13:04:55.291939Z"
    },
    "tags": []
   },
   "outputs": [],
   "source": [
    "import logging\n",
    "\n",
    "logging.basicConfig(level=logging.INFO)"
   ]
  },
  {
   "cell_type": "code",
   "execution_count": null,
   "id": "d695b42b",
   "metadata": {
    "execution": {
     "iopub.execute_input": "2022-11-04T13:04:55.309058Z",
     "iopub.status.busy": "2022-11-04T13:04:55.308891Z",
     "iopub.status.idle": "2022-11-04T13:04:56.005083Z",
     "shell.execute_reply": "2022-11-04T13:04:56.004409Z",
     "shell.execute_reply.started": "2022-11-04T13:04:55.309040Z"
    },
    "tags": []
   },
   "outputs": [],
   "source": [
    "ds = tsdm.datasets.KIWI_RUNS()"
   ]
  },
  {
   "cell_type": "code",
   "execution_count": null,
   "id": "9559b04f-7e1c-418c-bd02-05595ba47454",
   "metadata": {
    "execution": {
     "iopub.execute_input": "2022-11-04T13:04:56.005899Z",
     "iopub.status.busy": "2022-11-04T13:04:56.005725Z",
     "iopub.status.idle": "2022-11-04T13:04:56.029973Z",
     "shell.execute_reply": "2022-11-04T13:04:56.029356Z",
     "shell.execute_reply.started": "2022-11-04T13:04:56.005886Z"
    },
    "tags": []
   },
   "outputs": [],
   "source": [
    "ds.time_features.dtypes"
   ]
  },
  {
   "cell_type": "code",
   "execution_count": null,
   "id": "4633d0b1-df21-4d34-9de1-67979aef0d8d",
   "metadata": {
    "execution": {
     "iopub.execute_input": "2022-11-04T13:04:56.030808Z",
     "iopub.status.busy": "2022-11-04T13:04:56.030605Z",
     "iopub.status.idle": "2022-11-04T13:04:56.055189Z",
     "shell.execute_reply": "2022-11-04T13:04:56.054686Z",
     "shell.execute_reply.started": "2022-11-04T13:04:56.030793Z"
    },
    "tags": []
   },
   "outputs": [],
   "source": [
    "TSC = TimeSeriesCollection(\n",
    "    index=ds.index,\n",
    "    timeseries=ds.timeseries,\n",
    "    metadata=ds.metadata,\n",
    "    time_features=ds.time_features,\n",
    "    value_features=ds.value_features,\n",
    "    metadata_features=ds.metadata_features,\n",
    ")"
   ]
  },
  {
   "cell_type": "markdown",
   "id": "e8e91e81-c5e5-4d71-9415-ba61b8614e46",
   "metadata": {},
   "source": [
    "## Sampler"
   ]
  },
  {
   "cell_type": "code",
   "execution_count": null,
   "id": "efd95902-a95d-419b-b991-ad806441073b",
   "metadata": {
    "execution": {
     "iopub.execute_input": "2022-11-04T13:04:56.056840Z",
     "iopub.status.busy": "2022-11-04T13:04:56.056653Z",
     "iopub.status.idle": "2022-11-04T13:04:56.099086Z",
     "shell.execute_reply": "2022-11-04T13:04:56.098453Z",
     "shell.execute_reply.started": "2022-11-04T13:04:56.056828Z"
    },
    "tags": []
   },
   "outputs": [],
   "source": [
    "ts = ds.timeseries.loc[(439, 15325)]"
   ]
  },
  {
   "cell_type": "code",
   "execution_count": null,
   "id": "f6dd2d2a-a7fd-4166-9626-1e3789bfb8a3",
   "metadata": {
    "execution": {
     "iopub.execute_input": "2022-11-04T13:04:56.099853Z",
     "iopub.status.busy": "2022-11-04T13:04:56.099709Z",
     "iopub.status.idle": "2022-11-04T13:04:56.120904Z",
     "shell.execute_reply": "2022-11-04T13:04:56.120449Z",
     "shell.execute_reply.started": "2022-11-04T13:04:56.099840Z"
    },
    "tags": []
   },
   "outputs": [],
   "source": [
    "sampler = SlidingWindowSampler(ts.index, horizons=[\"2h\", \"1h\"], stride=\"1h\")"
   ]
  },
  {
   "cell_type": "code",
   "execution_count": null,
   "id": "2b74748f-97f9-4bba-9a7c-b1e3be49a607",
   "metadata": {
    "execution": {
     "iopub.execute_input": "2022-11-04T13:04:56.121692Z",
     "iopub.status.busy": "2022-11-04T13:04:56.121492Z",
     "iopub.status.idle": "2022-11-04T13:04:56.143778Z",
     "shell.execute_reply": "2022-11-04T13:04:56.143103Z",
     "shell.execute_reply.started": "2022-11-04T13:04:56.121680Z"
    },
    "tags": []
   },
   "outputs": [],
   "source": [
    "next(iter(sampler))"
   ]
  },
  {
   "cell_type": "markdown",
   "id": "b219160a-32f8-425d-8a7f-45de6e7fadbe",
   "metadata": {},
   "source": [
    "## Construct the Sampler"
   ]
  },
  {
   "cell_type": "code",
   "execution_count": null,
   "id": "43ee6e08-bec7-4a0d-b2f7-60dd7809195d",
   "metadata": {
    "execution": {
     "iopub.execute_input": "2022-11-04T13:04:56.144364Z",
     "iopub.status.busy": "2022-11-04T13:04:56.144225Z",
     "iopub.status.idle": "2022-11-04T13:04:56.167061Z",
     "shell.execute_reply": "2022-11-04T13:04:56.166540Z",
     "shell.execute_reply.started": "2022-11-04T13:04:56.144352Z"
    },
    "tags": []
   },
   "outputs": [],
   "source": [
    "TSC"
   ]
  },
  {
   "cell_type": "code",
   "execution_count": null,
   "id": "2ce0855f-fd9b-4d4c-aed6-e9f2b8aee1f7",
   "metadata": {
    "execution": {
     "iopub.execute_input": "2022-11-04T13:04:56.167708Z",
     "iopub.status.busy": "2022-11-04T13:04:56.167588Z",
     "iopub.status.idle": "2022-11-04T13:04:56.191386Z",
     "shell.execute_reply": "2022-11-04T13:04:56.190600Z",
     "shell.execute_reply.started": "2022-11-04T13:04:56.167698Z"
    },
    "tags": []
   },
   "outputs": [],
   "source": [
    "from torch.utils.data import RandomSampler, SubsetRandomSampler"
   ]
  },
  {
   "cell_type": "code",
   "execution_count": null,
   "id": "58d423e1-21a5-40c3-a1dd-208d628e2615",
   "metadata": {
    "execution": {
     "iopub.execute_input": "2022-11-04T13:04:56.191995Z",
     "iopub.status.busy": "2022-11-04T13:04:56.191857Z",
     "iopub.status.idle": "2022-11-04T13:04:56.214732Z",
     "shell.execute_reply": "2022-11-04T13:04:56.213976Z",
     "shell.execute_reply.started": "2022-11-04T13:04:56.191985Z"
    },
    "tags": []
   },
   "outputs": [],
   "source": [
    "next(iter(SubsetRandomSampler(TSC.index)))"
   ]
  },
  {
   "cell_type": "code",
   "execution_count": null,
   "id": "279c8037-4aca-40fb-935d-18ad475f42df",
   "metadata": {
    "execution": {
     "iopub.execute_input": "2022-11-04T13:04:56.215485Z",
     "iopub.status.busy": "2022-11-04T13:04:56.215282Z",
     "iopub.status.idle": "2022-11-04T13:04:56.240155Z",
     "shell.execute_reply": "2022-11-04T13:04:56.239775Z",
     "shell.execute_reply.started": "2022-11-04T13:04:56.215472Z"
    },
    "tags": []
   },
   "outputs": [],
   "source": [
    "TSC[(439, 15325)]"
   ]
  },
  {
   "cell_type": "code",
   "execution_count": null,
   "id": "0384afb0-25d9-467f-bf14-a29eb03f091b",
   "metadata": {
    "execution": {
     "iopub.execute_input": "2022-11-04T13:04:56.240804Z",
     "iopub.status.busy": "2022-11-04T13:04:56.240615Z",
     "iopub.status.idle": "2022-11-04T13:04:56.581393Z",
     "shell.execute_reply": "2022-11-04T13:04:56.580699Z",
     "shell.execute_reply.started": "2022-11-04T13:04:56.240792Z"
    },
    "tags": []
   },
   "outputs": [],
   "source": [
    "subsamplers = {\n",
    "    key: SlidingWindowSampler(ds.timeseries.index, horizons=[\"2h\", \"1h\"], stride=\"1h\")\n",
    "    for key, ds in TSC.items()\n",
    "}\n",
    "sampler = HierarchicalSampler(TSC, subsamplers, shuffle=False)"
   ]
  },
  {
   "cell_type": "code",
   "execution_count": null,
   "id": "bb5a3769-0073-4baf-ae49-e91b33b24bb7",
   "metadata": {
    "execution": {
     "iopub.execute_input": "2022-11-04T13:04:56.582034Z",
     "iopub.status.busy": "2022-11-04T13:04:56.581906Z",
     "iopub.status.idle": "2022-11-04T13:04:56.600949Z",
     "shell.execute_reply": "2022-11-04T13:04:56.600447Z",
     "shell.execute_reply.started": "2022-11-04T13:04:56.582025Z"
    },
    "tags": []
   },
   "outputs": [],
   "source": [
    "outer_key, (forecasting_horizon, prediction_horizon) = next(iter(sampler))"
   ]
  },
  {
   "cell_type": "code",
   "execution_count": null,
   "id": "c1ecc647-69a2-42de-952d-c229fcbeef01",
   "metadata": {
    "execution": {
     "iopub.execute_input": "2022-11-04T13:04:56.601493Z",
     "iopub.status.busy": "2022-11-04T13:04:56.601365Z",
     "iopub.status.idle": "2022-11-04T13:04:56.636780Z",
     "shell.execute_reply": "2022-11-04T13:04:56.636307Z",
     "shell.execute_reply.started": "2022-11-04T13:04:56.601481Z"
    },
    "tags": []
   },
   "outputs": [],
   "source": [
    "TSC[outer_key][forecasting_horizon]"
   ]
  },
  {
   "cell_type": "markdown",
   "id": "e2cb2ce9-e485-47ff-a6b0-836931f1b127",
   "metadata": {},
   "source": [
    "# TimeSeriesCollectionForecastingTask"
   ]
  },
  {
   "cell_type": "code",
   "execution_count": null,
   "id": "4c31eb35-d161-4f97-82f5-6fd16c99d8f6",
   "metadata": {
    "execution": {
     "iopub.execute_input": "2022-11-04T13:04:56.637477Z",
     "iopub.status.busy": "2022-11-04T13:04:56.637301Z",
     "iopub.status.idle": "2022-11-04T13:04:56.656665Z",
     "shell.execute_reply": "2022-11-04T13:04:56.656056Z",
     "shell.execute_reply.started": "2022-11-04T13:04:56.637466Z"
    }
   },
   "outputs": [],
   "source": [
    "TSC"
   ]
  },
  {
   "cell_type": "code",
   "execution_count": null,
   "id": "508a1a20-d989-4bdc-b446-aaa2db89bda3",
   "metadata": {
    "execution": {
     "iopub.execute_input": "2022-11-04T13:04:56.657534Z",
     "iopub.status.busy": "2022-11-04T13:04:56.657354Z",
     "iopub.status.idle": "2022-11-04T13:04:56.676970Z",
     "shell.execute_reply": "2022-11-04T13:04:56.676522Z",
     "shell.execute_reply.started": "2022-11-04T13:04:56.657519Z"
    },
    "tags": []
   },
   "outputs": [],
   "source": [
    "from tsdm.tasks import TimeSeriesCollectionTask\n",
    "\n",
    "targets = [\"Base\", \"DOT\", \"Glucose\", \"OD600\"]\n",
    "observables = [\n",
    "    \"Base\",\n",
    "    \"DOT\",\n",
    "    \"Glucose\",\n",
    "    \"OD600\",\n",
    "    \"Acetate\",\n",
    "    \"Fluo_GFP\",\n",
    "    \"pH\",\n",
    "]\n",
    "covariates = [\n",
    "    \"Cumulated_feed_volume_glucose\",\n",
    "    \"Cumulated_feed_volume_medium\",\n",
    "    \"InducerConcentration\",\n",
    "    \"StirringSpeed\",\n",
    "    \"Flow_Air\",\n",
    "    \"Temperature\",\n",
    "    \"Probe_Volume\",\n",
    "]"
   ]
  },
  {
   "cell_type": "code",
   "execution_count": null,
   "id": "a3dddf42-f2e0-4a8f-b9c8-59218a1f139d",
   "metadata": {
    "execution": {
     "iopub.execute_input": "2022-11-04T13:04:56.677670Z",
     "iopub.status.busy": "2022-11-04T13:04:56.677535Z",
     "iopub.status.idle": "2022-11-04T13:04:56.709589Z",
     "shell.execute_reply": "2022-11-04T13:04:56.708890Z",
     "shell.execute_reply.started": "2022-11-04T13:04:56.677658Z"
    },
    "tags": []
   },
   "outputs": [],
   "source": [
    "key = next(iter(sampler))\n",
    "outer_key, (observation_horizon, forecasting_horizon) = key\n",
    "TSC[outer_key][observation_horizon]"
   ]
  },
  {
   "cell_type": "code",
   "execution_count": null,
   "id": "33cbe739-2e1a-4cd2-b756-8e083d9ef3ee",
   "metadata": {
    "execution": {
     "iopub.execute_input": "2022-11-04T13:05:23.071339Z",
     "iopub.status.busy": "2022-11-04T13:05:23.071095Z",
     "iopub.status.idle": "2022-11-04T13:05:23.114082Z",
     "shell.execute_reply": "2022-11-04T13:05:23.113513Z",
     "shell.execute_reply.started": "2022-11-04T13:05:23.071322Z"
    },
    "tags": []
   },
   "outputs": [],
   "source": [
    "task = TimeSeriesCollectionTask(\n",
    "    TSC,\n",
    "    targets=targets,\n",
    "    observables=observables,\n",
    "    covariates=covariates,\n",
    "    sample_format=(\"sparse\", \"sparse\"),\n",
    ")\n",
    "sample = task[key]"
   ]
  },
  {
   "cell_type": "code",
   "execution_count": null,
   "id": "62abd56d-dbb3-4de4-bb92-0a552e5765b1",
   "metadata": {
    "execution": {
     "iopub.status.busy": "2022-11-04T13:04:57.218442Z",
     "iopub.status.idle": "2022-11-04T13:04:57.218574Z",
     "shell.execute_reply": "2022-11-04T13:04:57.218515Z",
     "shell.execute_reply.started": "2022-11-04T13:04:57.218508Z"
    }
   },
   "outputs": [],
   "source": [
    "if sample.inputs.t_target is not None:\n",
    "    diff = sample.inputs.t_target.index.difference(sample.targets.y.index)\n",
    "    sample.inputs.t_target.drop(diff, inplace=True)\n",
    "sample"
   ]
  },
  {
   "cell_type": "code",
   "execution_count": null,
   "id": "e733c93e-ac41-4c6b-b7cb-f08dd69cdac7",
   "metadata": {
    "execution": {
     "iopub.status.busy": "2022-11-04T13:04:57.219125Z",
     "iopub.status.idle": "2022-11-04T13:04:57.219260Z",
     "shell.execute_reply": "2022-11-04T13:04:57.219198Z",
     "shell.execute_reply.started": "2022-11-04T13:04:57.219192Z"
    }
   },
   "outputs": [],
   "source": [
    "raise"
   ]
  },
  {
   "cell_type": "code",
   "execution_count": null,
   "id": "ca5d1e4f-410e-466d-a4ad-ce084ab47aaa",
   "metadata": {
    "execution": {
     "iopub.status.busy": "2022-11-04T13:04:57.219785Z",
     "iopub.status.idle": "2022-11-04T13:04:57.219915Z",
     "shell.execute_reply": "2022-11-04T13:04:57.219853Z",
     "shell.execute_reply.started": "2022-11-04T13:04:57.219847Z"
    },
    "tags": []
   },
   "outputs": [],
   "source": [
    "diff = sample.inputs.t_target.index.difference(sample.targets.y.index)\n",
    "sample.inputs.t_target.drop(diff, inplace=True)\n",
    "sample"
   ]
  },
  {
   "cell_type": "code",
   "execution_count": null,
   "id": "17fde7ae-4be9-44ae-a2c4-c7e90448ac4b",
   "metadata": {
    "execution": {
     "iopub.status.busy": "2022-11-04T13:04:57.220283Z",
     "iopub.status.idle": "2022-11-04T13:04:57.220417Z",
     "shell.execute_reply": "2022-11-04T13:04:57.220348Z",
     "shell.execute_reply.started": "2022-11-04T13:04:57.220342Z"
    }
   },
   "outputs": [],
   "source": [
    "raise"
   ]
  },
  {
   "cell_type": "markdown",
   "id": "d36d7806-3b49-4f26-91b0-bd308e651396",
   "metadata": {},
   "source": [
    "# Mapping Dataset"
   ]
  },
  {
   "cell_type": "code",
   "execution_count": null,
   "id": "7d14ab4f-58ae-42bd-8d2e-a18a60b1248b",
   "metadata": {
    "execution": {
     "iopub.status.busy": "2022-11-04T13:04:57.221068Z",
     "iopub.status.idle": "2022-11-04T13:04:57.221233Z",
     "shell.execute_reply": "2022-11-04T13:04:57.221148Z",
     "shell.execute_reply.started": "2022-11-04T13:04:57.221141Z"
    },
    "tags": []
   },
   "outputs": [],
   "source": [
    "d = dict(enumerate(\"asdfghjkl\"))"
   ]
  },
  {
   "cell_type": "code",
   "execution_count": null,
   "id": "7d6fc26a-a7b5-4807-ad93-6baad3664ceb",
   "metadata": {
    "execution": {
     "iopub.status.busy": "2022-11-04T13:04:57.221646Z",
     "iopub.status.idle": "2022-11-04T13:04:57.221812Z",
     "shell.execute_reply": "2022-11-04T13:04:57.221729Z",
     "shell.execute_reply.started": "2022-11-04T13:04:57.221721Z"
    },
    "tags": []
   },
   "outputs": [],
   "source": [
    "from collections.abc import Mapping\n",
    "from dataclasses import dataclass\n",
    "\n",
    "from torch.utils.data import Dataset"
   ]
  },
  {
   "cell_type": "code",
   "execution_count": null,
   "id": "9c58945f-54cc-4b5b-be23-4b1b73ac4877",
   "metadata": {
    "execution": {
     "iopub.status.busy": "2022-11-04T13:04:57.222440Z",
     "iopub.status.idle": "2022-11-04T13:04:57.222611Z",
     "shell.execute_reply": "2022-11-04T13:04:57.222537Z",
     "shell.execute_reply.started": "2022-11-04T13:04:57.222530Z"
    },
    "tags": []
   },
   "outputs": [],
   "source": [
    "@dataclass\n",
    "class MyMapping(Dataset, Mapping):\n",
    "    internal_dict: dict\n",
    "\n",
    "    def __iter__(self):\n",
    "        return iter(self.internal_dict)\n",
    "\n",
    "    def __getitem__(self, key):\n",
    "        return self.internal_dict[key]\n",
    "\n",
    "    def __len__(self):\n",
    "        return len(self.internal_dict)"
   ]
  },
  {
   "cell_type": "code",
   "execution_count": null,
   "id": "010228c4-ed98-4958-becd-c8646e3681ec",
   "metadata": {
    "execution": {
     "iopub.status.busy": "2022-11-04T13:04:57.223268Z",
     "iopub.status.idle": "2022-11-04T13:04:57.223468Z",
     "shell.execute_reply": "2022-11-04T13:04:57.223380Z",
     "shell.execute_reply.started": "2022-11-04T13:04:57.223371Z"
    },
    "tags": []
   },
   "outputs": [],
   "source": [
    "from torch.utils.data import DataLoader\n",
    "\n",
    "dataloader = DataLoader(MyMapping(d))"
   ]
  }
 ],
 "metadata": {
  "kernelspec": {
   "display_name": "Python 3 (ipykernel)",
   "language": "python",
   "name": "python3"
  },
  "language_info": {
   "codemirror_mode": {
    "name": "ipython",
    "version": 3
   },
   "file_extension": ".py",
   "mimetype": "text/x-python",
   "name": "python",
   "nbconvert_exporter": "python",
   "pygments_lexer": "ipython3",
   "version": "3.10.6"
  }
 },
 "nbformat": 4,
 "nbformat_minor": 5
}
