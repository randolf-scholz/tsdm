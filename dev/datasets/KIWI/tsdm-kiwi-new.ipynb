{
 "cells": [
  {
   "cell_type": "code",
   "execution_count": null,
   "id": "20191951-beec-414a-b3c6-89dca8277ad2",
   "metadata": {
    "tags": []
   },
   "outputs": [],
   "source": [
    "%config InteractiveShell.ast_node_interactivity='last_expr_or_assign'  # always print last expr.\n",
    "%config InlineBackend.figure_format = 'svg'\n",
    "%load_ext autoreload\n",
    "%autoreload 2\n",
    "%matplotlib inline"
   ]
  },
  {
   "cell_type": "code",
   "execution_count": null,
   "id": "71d6d898-643d-4a60-b993-5ec5f51a1284",
   "metadata": {
    "tags": []
   },
   "outputs": [],
   "source": [
    "import tsdm\n",
    "from tsdm.datasets import TimeSeriesCollection\n",
    "from tsdm.random.samplers import HierarchicalSampler, SlidingWindowSampler"
   ]
  },
  {
   "cell_type": "code",
   "execution_count": null,
   "id": "6be3680d-aeaa-4abd-a715-c42d31abc218",
   "metadata": {
    "tags": []
   },
   "outputs": [],
   "source": [
    "import logging\n",
    "\n",
    "logging.basicConfig(level=logging.INFO)"
   ]
  },
  {
   "cell_type": "code",
   "execution_count": null,
   "id": "d695b42b",
   "metadata": {
    "tags": []
   },
   "outputs": [],
   "source": [
    "ds = tsdm.datasets.KIWI_RUNS()"
   ]
  },
  {
   "cell_type": "code",
   "execution_count": null,
   "id": "f9389f9c-7bc4-4f61-8ff8-774e1398b091",
   "metadata": {},
   "outputs": [],
   "source": [
    "ds.timeseries"
   ]
  },
  {
   "cell_type": "code",
   "execution_count": null,
   "id": "0cfa02aa-f3e3-4be2-a86b-c7a0cf2f33bf",
   "metadata": {},
   "outputs": [],
   "source": [
    "ds.timeseries"
   ]
  },
  {
   "cell_type": "code",
   "execution_count": null,
   "id": "9559b04f-7e1c-418c-bd02-05595ba47454",
   "metadata": {
    "tags": []
   },
   "outputs": [],
   "source": [
    "ds.time_features.dtypes"
   ]
  },
  {
   "cell_type": "code",
   "execution_count": null,
   "id": "7d80d9de-cfde-4502-8f88-b842650cdaa7",
   "metadata": {},
   "outputs": [],
   "source": [
    "from tsdm.datasets import KIWI"
   ]
  },
  {
   "cell_type": "code",
   "execution_count": null,
   "id": "0974f5b3-46a2-4874-a8cb-2d085ed512e6",
   "metadata": {
    "tags": []
   },
   "outputs": [],
   "source": [
    "ds = KIWI()\n",
    "ds"
   ]
  },
  {
   "cell_type": "code",
   "execution_count": null,
   "id": "de473727-3786-4e75-a642-0523d50b6cc0",
   "metadata": {
    "tags": []
   },
   "outputs": [],
   "source": [
    "ds[439, 15325]"
   ]
  },
  {
   "cell_type": "code",
   "execution_count": null,
   "id": "4ccf4807-d19f-4af4-9b02-6d37f7c1862d",
   "metadata": {
    "tags": []
   },
   "outputs": [],
   "source": [
    "from tsdm.tasks import KIWI_RUNS_TASK\n",
    "\n",
    "task = KIWI_RUNS_TASK()"
   ]
  },
  {
   "cell_type": "code",
   "execution_count": null,
   "id": "4633d0b1-df21-4d34-9de1-67979aef0d8d",
   "metadata": {
    "tags": []
   },
   "outputs": [],
   "source": [
    "TSC = TimeSeriesCollection(\n",
    "    index=ds.index,\n",
    "    timeseries=ds.timeseries,\n",
    "    metadata=ds.metadata,\n",
    "    time_features=ds.time_features,\n",
    "    value_features=ds.value_features,\n",
    "    metadata_features=ds.metadata_features,\n",
    ")"
   ]
  },
  {
   "cell_type": "markdown",
   "id": "e8e91e81-c5e5-4d71-9415-ba61b8614e46",
   "metadata": {},
   "source": [
    "## Sampler"
   ]
  },
  {
   "cell_type": "code",
   "execution_count": null,
   "id": "efd95902-a95d-419b-b991-ad806441073b",
   "metadata": {
    "tags": []
   },
   "outputs": [],
   "source": [
    "ts = ds.timeseries.loc[(439, 15325)]"
   ]
  },
  {
   "cell_type": "code",
   "execution_count": null,
   "id": "f6dd2d2a-a7fd-4166-9626-1e3789bfb8a3",
   "metadata": {
    "tags": []
   },
   "outputs": [],
   "source": [
    "sampler = SlidingWindowSampler(ts.index, horizons=[\"2h\", \"1h\"], stride=\"1h\")"
   ]
  },
  {
   "cell_type": "code",
   "execution_count": null,
   "id": "2b74748f-97f9-4bba-9a7c-b1e3be49a607",
   "metadata": {
    "tags": []
   },
   "outputs": [],
   "source": [
    "next(iter(sampler))"
   ]
  },
  {
   "cell_type": "markdown",
   "id": "b219160a-32f8-425d-8a7f-45de6e7fadbe",
   "metadata": {},
   "source": [
    "## Construct the Sampler"
   ]
  },
  {
   "cell_type": "code",
   "execution_count": null,
   "id": "d3435aa9-795f-46da-a125-1edc93faed89",
   "metadata": {
    "tags": []
   },
   "outputs": [],
   "source": [
    "from tsdm.datasets import *\n",
    "from tsdm.tasks import *"
   ]
  },
  {
   "cell_type": "code",
   "execution_count": null,
   "id": "309e57f2-5486-409c-abfb-af74382d9076",
   "metadata": {
    "tags": []
   },
   "outputs": [],
   "source": [
    "task = KiwiTask()\n",
    "task.splits[0, \"train\"]"
   ]
  },
  {
   "cell_type": "code",
   "execution_count": null,
   "id": "800aa74d-8d61-4034-b4a0-fe2b1ff98b7d",
   "metadata": {
    "tags": []
   },
   "outputs": [],
   "source": [
    "task.train_partition"
   ]
  },
  {
   "cell_type": "code",
   "execution_count": null,
   "id": "45753c46-51a5-4440-b3f5-a5fb0d464d55",
   "metadata": {
    "tags": []
   },
   "outputs": [],
   "source": [
    "task.dataloaders[0, \"train\"]"
   ]
  },
  {
   "cell_type": "code",
   "execution_count": null,
   "id": "4881e322-46a4-4cd6-8ca0-e5331543eb28",
   "metadata": {
    "tags": []
   },
   "outputs": [],
   "source": [
    "task = InSilicoTask()\n",
    "task.validate_folds()"
   ]
  },
  {
   "cell_type": "code",
   "execution_count": null,
   "id": "f5a2e728-d136-44f0-95cd-6d980ae4b73d",
   "metadata": {
    "tags": []
   },
   "outputs": [],
   "source": [
    "mask = task.folds[0, \"train\"]\n",
    "mask"
   ]
  },
  {
   "cell_type": "code",
   "execution_count": null,
   "id": "e5898760-9049-41ba-bc21-0917b0248fb7",
   "metadata": {
    "tags": []
   },
   "outputs": [],
   "source": [
    "task.dataset.timeseries.loc[mask[mask].index]"
   ]
  },
  {
   "cell_type": "code",
   "execution_count": null,
   "id": "d66ad181-8544-4288-b394-a4f040b85484",
   "metadata": {
    "tags": []
   },
   "outputs": [],
   "source": [
    "df"
   ]
  },
  {
   "cell_type": "code",
   "execution_count": null,
   "id": "e1ba4ab7-f6c8-4853-b326-63e9ac41f444",
   "metadata": {
    "tags": []
   },
   "outputs": [],
   "source": [
    "idx = self.dataset.index\n",
    "\n",
    "df = idx.to_frame(index=False).set_index(idx.names)\n",
    "\n",
    "groups = df.groupby(idx.names, sort=False).ngroup()"
   ]
  },
  {
   "cell_type": "code",
   "execution_count": null,
   "id": "824b5f12-dff8-46c9-a301-34ddd829ca90",
   "metadata": {
    "tags": []
   },
   "outputs": [],
   "source": [
    "groups"
   ]
  },
  {
   "cell_type": "code",
   "execution_count": null,
   "id": "13af6cba-cdb8-45ea-a5fd-e283ad8be47f",
   "metadata": {
    "tags": []
   },
   "outputs": [],
   "source": [
    "groups.name"
   ]
  },
  {
   "cell_type": "code",
   "execution_count": null,
   "id": "3e37d074-8128-4b35-9d42-d2ba66baa8d5",
   "metadata": {
    "tags": []
   },
   "outputs": [],
   "source": [
    "fold"
   ]
  },
  {
   "cell_type": "code",
   "execution_count": null,
   "id": "9bfa6c06-9504-4100-a7d9-e1c37394543e",
   "metadata": {
    "tags": []
   },
   "outputs": [],
   "source": [
    "fold = task.folds[0, \"train\"]\n",
    "# task.dataset[fold]"
   ]
  },
  {
   "cell_type": "code",
   "execution_count": null,
   "id": "4c7324e1-5f40-470e-a534-ac18e34e133e",
   "metadata": {
    "tags": []
   },
   "outputs": [],
   "source": [
    "task.splits[0, \"train\"]"
   ]
  },
  {
   "cell_type": "code",
   "execution_count": null,
   "id": "0c7944e8-9c54-4e79-a384-153b7a6f06e8",
   "metadata": {
    "tags": []
   },
   "outputs": [],
   "source": [
    "task.index"
   ]
  },
  {
   "cell_type": "code",
   "execution_count": null,
   "id": "df8757d7-cde9-4e3f-b8b3-c7f42e4d1667",
   "metadata": {
    "tags": []
   },
   "outputs": [],
   "source": [
    "task.splits[0, \"train\"]"
   ]
  },
  {
   "cell_type": "code",
   "execution_count": null,
   "id": "ba97885d-fd83-4bd3-bbc9-37734770d1aa",
   "metadata": {
    "tags": []
   },
   "outputs": [],
   "source": [
    "KiwiTask().folds"
   ]
  },
  {
   "cell_type": "code",
   "execution_count": null,
   "id": "39e72c86-c5a9-48ac-ae0b-44bd1e30f87b",
   "metadata": {},
   "outputs": [],
   "source": []
  },
  {
   "cell_type": "code",
   "execution_count": null,
   "id": "6af21674-d019-4b88-aced-a7e2634b56e4",
   "metadata": {
    "tags": []
   },
   "outputs": [],
   "source": [
    "TimeSeriesCollection(InSilicoData().dataset)[16130]"
   ]
  },
  {
   "cell_type": "code",
   "execution_count": null,
   "id": "2ce0855f-fd9b-4d4c-aed6-e9f2b8aee1f7",
   "metadata": {
    "tags": []
   },
   "outputs": [],
   "source": [
    "from torch.utils.data import SubsetRandomSampler"
   ]
  },
  {
   "cell_type": "code",
   "execution_count": null,
   "id": "7bef2bcd-eff0-4c1b-acde-e56c6e95a884",
   "metadata": {
    "tags": []
   },
   "outputs": [],
   "source": [
    "from tsdm.tasks import KiwiTask"
   ]
  },
  {
   "cell_type": "code",
   "execution_count": null,
   "id": "16db445d-cab2-4197-a111-ea683bf3daaa",
   "metadata": {
    "tags": []
   },
   "outputs": [],
   "source": [
    "task = KiwiTask()"
   ]
  },
  {
   "cell_type": "code",
   "execution_count": null,
   "id": "58d423e1-21a5-40c3-a1dd-208d628e2615",
   "metadata": {
    "tags": []
   },
   "outputs": [],
   "source": [
    "next(iter(SubsetRandomSampler(TSC.index)))"
   ]
  },
  {
   "cell_type": "code",
   "execution_count": null,
   "id": "279c8037-4aca-40fb-935d-18ad475f42df",
   "metadata": {
    "tags": []
   },
   "outputs": [],
   "source": [
    "TSC[(439, 15325)]"
   ]
  },
  {
   "cell_type": "code",
   "execution_count": null,
   "id": "0384afb0-25d9-467f-bf14-a29eb03f091b",
   "metadata": {
    "tags": []
   },
   "outputs": [],
   "source": [
    "subsamplers = {\n",
    "    key: SlidingWindowSampler(ds.timeseries.index, horizons=[\"2h\", \"1h\"], stride=\"1h\")\n",
    "    for key, ds in TSC.items()\n",
    "}\n",
    "sampler = HierarchicalSampler(TSC, subsamplers, shuffle=False)"
   ]
  },
  {
   "cell_type": "code",
   "execution_count": null,
   "id": "73fe1d3b-fef1-41cd-9967-826b195691b2",
   "metadata": {
    "tags": []
   },
   "outputs": [],
   "source": [
    "from tsdm.datasets import InSilicoData\n",
    "\n",
    "ds = InSilicoData()\n",
    "\n",
    "ds.timeseries"
   ]
  },
  {
   "cell_type": "code",
   "execution_count": null,
   "id": "bb5a3769-0073-4baf-ae49-e91b33b24bb7",
   "metadata": {
    "tags": []
   },
   "outputs": [],
   "source": [
    "outer_key, (forecasting_horizon, prediction_horizon) = next(iter(sampler))"
   ]
  },
  {
   "cell_type": "code",
   "execution_count": null,
   "id": "c1ecc647-69a2-42de-952d-c229fcbeef01",
   "metadata": {
    "tags": []
   },
   "outputs": [],
   "source": [
    "TSC[outer_key][forecasting_horizon]"
   ]
  },
  {
   "cell_type": "markdown",
   "id": "e2cb2ce9-e485-47ff-a6b0-836931f1b127",
   "metadata": {},
   "source": [
    "# TimeSeriesCollectionForecastingTask"
   ]
  },
  {
   "cell_type": "code",
   "execution_count": null,
   "id": "4c31eb35-d161-4f97-82f5-6fd16c99d8f6",
   "metadata": {
    "tags": []
   },
   "outputs": [],
   "source": [
    "TSC"
   ]
  },
  {
   "cell_type": "code",
   "execution_count": null,
   "id": "508a1a20-d989-4bdc-b446-aaa2db89bda3",
   "metadata": {
    "tags": []
   },
   "outputs": [],
   "source": [
    "from tsdm.tasks import TimeSeriesTaskDataset\n",
    "\n",
    "targets = [\"Base\", \"DOT\", \"Glucose\", \"OD600\"]\n",
    "observables = [\n",
    "    \"Base\",\n",
    "    \"DOT\",\n",
    "    \"Glucose\",\n",
    "    \"OD600\",\n",
    "    \"Acetate\",\n",
    "    \"Fluo_GFP\",\n",
    "    \"pH\",\n",
    "]\n",
    "covariates = [\n",
    "    \"Cumulated_feed_volume_glucose\",\n",
    "    \"Cumulated_feed_volume_medium\",\n",
    "    \"InducerConcentration\",\n",
    "    \"StirringSpeed\",\n",
    "    \"Flow_Air\",\n",
    "    \"Temperature\",\n",
    "    \"Probe_Volume\",\n",
    "]"
   ]
  },
  {
   "cell_type": "code",
   "execution_count": null,
   "id": "a3dddf42-f2e0-4a8f-b9c8-59218a1f139d",
   "metadata": {
    "tags": []
   },
   "outputs": [],
   "source": [
    "key = next(iter(sampler))\n",
    "outer_key, (observation_horizon, forecasting_horizon) = key\n",
    "TSC[outer_key][observation_horizon]"
   ]
  },
  {
   "cell_type": "code",
   "execution_count": null,
   "id": "038cb882-3b7f-4f6f-a46e-c7d87b6901a8",
   "metadata": {
    "tags": []
   },
   "outputs": [],
   "source": [
    "TSC[439, 15325]"
   ]
  },
  {
   "cell_type": "code",
   "execution_count": null,
   "id": "fadeed9c-e6e0-4a44-848c-478344a17da5",
   "metadata": {},
   "outputs": [],
   "source": []
  },
  {
   "cell_type": "markdown",
   "id": "734441b2-75b4-4068-acf6-d15ce39efed0",
   "metadata": {},
   "source": [
    "# Collction Test"
   ]
  },
  {
   "cell_type": "code",
   "execution_count": null,
   "id": "33cbe739-2e1a-4cd2-b756-8e083d9ef3ee",
   "metadata": {
    "tags": []
   },
   "outputs": [],
   "source": [
    "task = TimeSeriesTaskDataset(\n",
    "    TSC,\n",
    "    targets=targets,\n",
    "    observables=observables,\n",
    "    covariates=covariates,\n",
    "    sample_format=(\"sparse\", \"sparse\"),\n",
    ")\n",
    "sample = task[key]"
   ]
  },
  {
   "cell_type": "markdown",
   "id": "2869b606-fa62-4652-99ed-03ae128acd19",
   "metadata": {},
   "source": [
    "# Dataset Test"
   ]
  },
  {
   "cell_type": "code",
   "execution_count": null,
   "id": "32b938ec-6366-4fa7-b3b3-786a01dcf3da",
   "metadata": {
    "tags": []
   },
   "outputs": [],
   "source": [
    "task = TimeSeriesTaskDataset(\n",
    "    TSC[439, 15325],\n",
    "    targets=targets,\n",
    "    observables=observables,\n",
    "    covariates=covariates,\n",
    "    sample_format=(\"masked\", \"masked\"),\n",
    ")\n",
    "sample = task[key[1]]"
   ]
  },
  {
   "cell_type": "code",
   "execution_count": null,
   "id": "77a1fda4-15d8-4291-b6de-9a98b75ecb33",
   "metadata": {},
   "outputs": [],
   "source": [
    "raise"
   ]
  },
  {
   "cell_type": "code",
   "execution_count": null,
   "id": "62abd56d-dbb3-4de4-bb92-0a552e5765b1",
   "metadata": {},
   "outputs": [],
   "source": [
    "if sample.inputs.t_target is not None:\n",
    "    diff = sample.inputs.t_target.index.difference(sample.targets.y.index)\n",
    "    sample.inputs.t_target.drop(diff, inplace=True)\n",
    "sample"
   ]
  },
  {
   "cell_type": "code",
   "execution_count": null,
   "id": "e733c93e-ac41-4c6b-b7cb-f08dd69cdac7",
   "metadata": {},
   "outputs": [],
   "source": [
    "raise"
   ]
  },
  {
   "cell_type": "code",
   "execution_count": null,
   "id": "ca5d1e4f-410e-466d-a4ad-ce084ab47aaa",
   "metadata": {
    "tags": []
   },
   "outputs": [],
   "source": [
    "diff = sample.inputs.t_target.index.difference(sample.targets.y.index)\n",
    "sample.inputs.t_target.drop(diff, inplace=True)\n",
    "sample"
   ]
  },
  {
   "cell_type": "code",
   "execution_count": null,
   "id": "17fde7ae-4be9-44ae-a2c4-c7e90448ac4b",
   "metadata": {},
   "outputs": [],
   "source": [
    "raise"
   ]
  },
  {
   "cell_type": "markdown",
   "id": "d36d7806-3b49-4f26-91b0-bd308e651396",
   "metadata": {},
   "source": [
    "# Mapping Dataset"
   ]
  },
  {
   "cell_type": "code",
   "execution_count": null,
   "id": "7d14ab4f-58ae-42bd-8d2e-a18a60b1248b",
   "metadata": {
    "tags": []
   },
   "outputs": [],
   "source": [
    "d = dict(enumerate(\"asdfghjkl\"))"
   ]
  },
  {
   "cell_type": "code",
   "execution_count": null,
   "id": "7d6fc26a-a7b5-4807-ad93-6baad3664ceb",
   "metadata": {
    "tags": []
   },
   "outputs": [],
   "source": [
    "from collections.abc import Mapping\n",
    "from dataclasses import dataclass\n",
    "\n",
    "from torch.utils.data import Dataset"
   ]
  },
  {
   "cell_type": "code",
   "execution_count": null,
   "id": "9c58945f-54cc-4b5b-be23-4b1b73ac4877",
   "metadata": {
    "tags": []
   },
   "outputs": [],
   "source": [
    "@dataclass\n",
    "class MyMapping(Dataset, Mapping):\n",
    "    internal_dict: dict\n",
    "\n",
    "    def __iter__(self):\n",
    "        return iter(self.internal_dict)\n",
    "\n",
    "    def __getitem__(self, key):\n",
    "        return self.internal_dict[key]\n",
    "\n",
    "    def __len__(self):\n",
    "        return len(self.internal_dict)"
   ]
  },
  {
   "cell_type": "code",
   "execution_count": null,
   "id": "010228c4-ed98-4958-becd-c8646e3681ec",
   "metadata": {
    "tags": []
   },
   "outputs": [],
   "source": [
    "from torch.utils.data import DataLoader\n",
    "\n",
    "dataloader = DataLoader(MyMapping(d))"
   ]
  },
  {
   "cell_type": "code",
   "execution_count": null,
   "id": "1c961a18-66d1-4b99-a1b4-46fdf12a3311",
   "metadata": {},
   "outputs": [],
   "source": []
  },
  {
   "cell_type": "code",
   "execution_count": null,
   "id": "d96010ec-5762-4d3d-acdb-b23e7a3f5717",
   "metadata": {},
   "outputs": [],
   "source": []
  },
  {
   "cell_type": "code",
   "execution_count": null,
   "id": "c432b694-6a00-4269-8688-b807061ca921",
   "metadata": {},
   "outputs": [],
   "source": [
    "from typing import Any, Callable, Sequence\n",
    "\n",
    "\n",
    "def flatten_dict(\n",
    "    d: dict[str, Any],\n",
    "    /,\n",
    "    *,\n",
    "    recursive: bool = True,\n",
    "    join_fn: Callable[[Sequence[str]], str] = \".\".join,\n",
    ") -> dict[str, Any]:\n",
    "    r\"\"\"Flatten dictionaries recursively.\"\"\"\n",
    "    result = {}\n",
    "    for key, item in d.items():\n",
    "        if isinstance(item, dict) and recursive:\n",
    "            subdict = flatten_dict(item, recursive=True, join_fn=join_fn)\n",
    "            for subkey, subitem in subdict.items():\n",
    "                result[join_fn((key, subkey))] = subitem\n",
    "        else:\n",
    "            result[key] = item\n",
    "    return result\n",
    "\n",
    "\n",
    "def unflatten_dict(\n",
    "    d: dict[str, Any],\n",
    "    /,\n",
    "    *,\n",
    "    recursive: bool = True,\n",
    "    split_fn: Callable[[str], Sequence[str]] = lambda s: s.split(\".\", maxsplit=1),\n",
    ") -> dict[str, Any]:\n",
    "    r\"\"\"Unflatten dictionaries recursively.\"\"\"\n",
    "    result = {}\n",
    "    for key, item in d.items():\n",
    "        split = split_fn(key)\n",
    "        result.setdefault(split[0], {})\n",
    "        if len(split) > 1 and recursive:\n",
    "            assert len(split) == 2\n",
    "            subdict = unflatten_dict(\n",
    "                {split[1]: item}, recursive=recursive, split_fn=split_fn\n",
    "            )\n",
    "            result[split[0]] |= subdict\n",
    "        else:\n",
    "            result[split[0]] = item\n",
    "    return result\n",
    "\n",
    "\n",
    "a = {\n",
    "    \"a\": True,\n",
    "    \"b\": 42,\n",
    "    \"c\": \"foo\",\n",
    "    \"foo\": {\"a\": 1, \"b\": 2, \"c\": 3},\n",
    "    \"bar\": {\"a\": {\"a\": 1}, \"b\": {\"a\": 1}, \"c\": {\"a\": 1}},\n",
    "    \"baz\": {\"a\": True, \"b\": 2},  # <-- does not work!\n",
    "}\n",
    "\n",
    "print(flat := flatten_dict(a))\n",
    "print(unflat := unflatten_dict(a))\n",
    "assert unflat == a"
   ]
  },
  {
   "cell_type": "code",
   "execution_count": null,
   "id": "fdfe587a-9f2d-4fb7-b29d-cd85d8f30d62",
   "metadata": {},
   "outputs": [],
   "source": [
    "flat"
   ]
  },
  {
   "cell_type": "code",
   "execution_count": null,
   "id": "20385cb7-6254-4f2a-a927-05293482ae25",
   "metadata": {},
   "outputs": [],
   "source": [
    "unflatten_dict(flat)"
   ]
  },
  {
   "cell_type": "code",
   "execution_count": null,
   "id": "94d402b5-155e-45f0-a1d6-269b7e95e2dd",
   "metadata": {},
   "outputs": [],
   "source": [
    "\"a\".split(\".\")"
   ]
  },
  {
   "cell_type": "code",
   "execution_count": null,
   "id": "cbb9ae7e-bd86-49ce-a26c-c46fdbc261db",
   "metadata": {},
   "outputs": [],
   "source": [
    "dir(\".\")"
   ]
  },
  {
   "cell_type": "code",
   "execution_count": null,
   "id": "4c6918b2-9140-43a5-945b-e451a7a971b2",
   "metadata": {},
   "outputs": [],
   "source": []
  }
 ],
 "metadata": {
  "kernelspec": {
   "display_name": "Python 3 (ipykernel)",
   "language": "python",
   "name": "python3"
  },
  "language_info": {
   "codemirror_mode": {
    "name": "ipython",
    "version": 3
   },
   "file_extension": ".py",
   "mimetype": "text/x-python",
   "name": "python",
   "nbconvert_exporter": "python",
   "pygments_lexer": "ipython3",
   "version": "3.10.8"
  }
 },
 "nbformat": 4,
 "nbformat_minor": 5
}
