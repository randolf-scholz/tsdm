{
 "cells": [
  {
   "cell_type": "code",
   "execution_count": null,
   "id": "20191951-beec-414a-b3c6-89dca8277ad2",
   "metadata": {
    "execution": {
     "iopub.execute_input": "2022-11-08T22:43:41.196431Z",
     "iopub.status.busy": "2022-11-08T22:43:41.196212Z",
     "iopub.status.idle": "2022-11-08T22:43:41.498749Z",
     "shell.execute_reply": "2022-11-08T22:43:41.498360Z",
     "shell.execute_reply.started": "2022-11-08T22:43:41.196380Z"
    },
    "tags": []
   },
   "outputs": [],
   "source": [
    "%config InteractiveShell.ast_node_interactivity='last_expr_or_assign'  # always print last expr.\n",
    "%config InlineBackend.figure_format = 'svg'\n",
    "%load_ext autoreload\n",
    "%autoreload 2\n",
    "%matplotlib inline"
   ]
  },
  {
   "cell_type": "code",
   "execution_count": null,
   "id": "71d6d898-643d-4a60-b993-5ec5f51a1284",
   "metadata": {
    "execution": {
     "iopub.execute_input": "2022-11-08T22:43:41.500163Z",
     "iopub.status.busy": "2022-11-08T22:43:41.499887Z",
     "iopub.status.idle": "2022-11-08T22:43:42.805939Z",
     "shell.execute_reply": "2022-11-08T22:43:42.805509Z",
     "shell.execute_reply.started": "2022-11-08T22:43:41.500146Z"
    },
    "tags": []
   },
   "outputs": [],
   "source": [
    "from pandas import DataFrame, Index, Series\n",
    "from torch.utils.data import Dataset as TorchDataset\n",
    "\n",
    "import tsdm\n",
    "from tsdm.datasets import TimeSeriesCollection\n",
    "from tsdm.random.samplers import HierarchicalSampler, SlidingWindowSampler"
   ]
  },
  {
   "cell_type": "code",
   "execution_count": null,
   "id": "6be3680d-aeaa-4abd-a715-c42d31abc218",
   "metadata": {
    "execution": {
     "iopub.execute_input": "2022-11-08T22:43:42.806751Z",
     "iopub.status.busy": "2022-11-08T22:43:42.806459Z",
     "iopub.status.idle": "2022-11-08T22:43:42.827050Z",
     "shell.execute_reply": "2022-11-08T22:43:42.826640Z",
     "shell.execute_reply.started": "2022-11-08T22:43:42.806739Z"
    },
    "tags": []
   },
   "outputs": [],
   "source": [
    "import logging\n",
    "\n",
    "logging.basicConfig(level=logging.INFO)"
   ]
  },
  {
   "cell_type": "code",
   "execution_count": null,
   "id": "d695b42b",
   "metadata": {
    "execution": {
     "iopub.execute_input": "2022-11-08T22:43:42.827716Z",
     "iopub.status.busy": "2022-11-08T22:43:42.827603Z",
     "iopub.status.idle": "2022-11-08T22:43:43.671929Z",
     "shell.execute_reply": "2022-11-08T22:43:43.671619Z",
     "shell.execute_reply.started": "2022-11-08T22:43:42.827705Z"
    },
    "tags": []
   },
   "outputs": [],
   "source": [
    "ds = tsdm.datasets.KIWI_RUNS()"
   ]
  },
  {
   "cell_type": "code",
   "execution_count": null,
   "id": "f9389f9c-7bc4-4f61-8ff8-774e1398b091",
   "metadata": {
    "execution": {
     "iopub.execute_input": "2022-11-08T22:43:43.672548Z",
     "iopub.status.busy": "2022-11-08T22:43:43.672433Z",
     "iopub.status.idle": "2022-11-08T22:43:43.705281Z",
     "shell.execute_reply": "2022-11-08T22:43:43.704671Z",
     "shell.execute_reply.started": "2022-11-08T22:43:43.672538Z"
    }
   },
   "outputs": [],
   "source": [
    "ds.timeseries"
   ]
  },
  {
   "cell_type": "code",
   "execution_count": null,
   "id": "0cfa02aa-f3e3-4be2-a86b-c7a0cf2f33bf",
   "metadata": {
    "execution": {
     "iopub.execute_input": "2022-11-08T22:43:43.706103Z",
     "iopub.status.busy": "2022-11-08T22:43:43.705898Z",
     "iopub.status.idle": "2022-11-08T22:43:43.739771Z",
     "shell.execute_reply": "2022-11-08T22:43:43.739360Z",
     "shell.execute_reply.started": "2022-11-08T22:43:43.706087Z"
    }
   },
   "outputs": [],
   "source": [
    "ds.timeseries"
   ]
  },
  {
   "cell_type": "code",
   "execution_count": null,
   "id": "9559b04f-7e1c-418c-bd02-05595ba47454",
   "metadata": {
    "execution": {
     "iopub.execute_input": "2022-11-08T22:43:43.741187Z",
     "iopub.status.busy": "2022-11-08T22:43:43.741042Z",
     "iopub.status.idle": "2022-11-08T22:43:43.762705Z",
     "shell.execute_reply": "2022-11-08T22:43:43.762227Z",
     "shell.execute_reply.started": "2022-11-08T22:43:43.741177Z"
    },
    "tags": []
   },
   "outputs": [],
   "source": [
    "ds.time_features.dtypes"
   ]
  },
  {
   "cell_type": "code",
   "execution_count": null,
   "id": "7d80d9de-cfde-4502-8f88-b842650cdaa7",
   "metadata": {
    "execution": {
     "iopub.execute_input": "2022-11-08T22:43:43.763329Z",
     "iopub.status.busy": "2022-11-08T22:43:43.763221Z",
     "iopub.status.idle": "2022-11-08T22:43:43.787733Z",
     "shell.execute_reply": "2022-11-08T22:43:43.787244Z",
     "shell.execute_reply.started": "2022-11-08T22:43:43.763318Z"
    }
   },
   "outputs": [],
   "source": [
    "from tsdm.datasets import KIWI"
   ]
  },
  {
   "cell_type": "code",
   "execution_count": null,
   "id": "0974f5b3-46a2-4874-a8cb-2d085ed512e6",
   "metadata": {
    "execution": {
     "iopub.execute_input": "2022-11-08T22:43:43.788432Z",
     "iopub.status.busy": "2022-11-08T22:43:43.788320Z",
     "iopub.status.idle": "2022-11-08T22:43:44.632734Z",
     "shell.execute_reply": "2022-11-08T22:43:44.632419Z",
     "shell.execute_reply.started": "2022-11-08T22:43:43.788422Z"
    },
    "tags": []
   },
   "outputs": [],
   "source": [
    "ds = KIWI()\n",
    "ds"
   ]
  },
  {
   "cell_type": "code",
   "execution_count": null,
   "id": "de473727-3786-4e75-a642-0523d50b6cc0",
   "metadata": {
    "execution": {
     "iopub.execute_input": "2022-11-08T22:43:44.633343Z",
     "iopub.status.busy": "2022-11-08T22:43:44.633197Z",
     "iopub.status.idle": "2022-11-08T22:43:44.658544Z",
     "shell.execute_reply": "2022-11-08T22:43:44.658134Z",
     "shell.execute_reply.started": "2022-11-08T22:43:44.633331Z"
    },
    "tags": []
   },
   "outputs": [],
   "source": [
    "ds[439, 15325]"
   ]
  },
  {
   "cell_type": "code",
   "execution_count": null,
   "id": "4ccf4807-d19f-4af4-9b02-6d37f7c1862d",
   "metadata": {
    "execution": {
     "iopub.execute_input": "2022-11-08T22:43:44.659104Z",
     "iopub.status.busy": "2022-11-08T22:43:44.658999Z",
     "iopub.status.idle": "2022-11-08T22:43:45.574617Z",
     "shell.execute_reply": "2022-11-08T22:43:45.574131Z",
     "shell.execute_reply.started": "2022-11-08T22:43:44.659093Z"
    },
    "tags": []
   },
   "outputs": [],
   "source": [
    "from tsdm.tasks import KIWI_RUNS_TASK\n",
    "\n",
    "\n",
    "task = KIWI_RUNS_TASK()"
   ]
  },
  {
   "cell_type": "code",
   "execution_count": null,
   "id": "4633d0b1-df21-4d34-9de1-67979aef0d8d",
   "metadata": {
    "execution": {
     "iopub.execute_input": "2022-11-08T22:43:45.575178Z",
     "iopub.status.busy": "2022-11-08T22:43:45.575069Z",
     "iopub.status.idle": "2022-11-08T22:43:45.595583Z",
     "shell.execute_reply": "2022-11-08T22:43:45.595199Z",
     "shell.execute_reply.started": "2022-11-08T22:43:45.575168Z"
    },
    "tags": []
   },
   "outputs": [],
   "source": [
    "TSC = TimeSeriesCollection(\n",
    "    index=ds.index,\n",
    "    timeseries=ds.timeseries,\n",
    "    metadata=ds.metadata,\n",
    "    time_features=ds.time_features,\n",
    "    value_features=ds.value_features,\n",
    "    metadata_features=ds.metadata_features,\n",
    ")"
   ]
  },
  {
   "cell_type": "markdown",
   "id": "e8e91e81-c5e5-4d71-9415-ba61b8614e46",
   "metadata": {},
   "source": [
    "## Sampler"
   ]
  },
  {
   "cell_type": "code",
   "execution_count": null,
   "id": "efd95902-a95d-419b-b991-ad806441073b",
   "metadata": {
    "execution": {
     "iopub.execute_input": "2022-11-08T22:43:45.596177Z",
     "iopub.status.busy": "2022-11-08T22:43:45.596065Z",
     "iopub.status.idle": "2022-11-08T22:43:45.628366Z",
     "shell.execute_reply": "2022-11-08T22:43:45.627853Z",
     "shell.execute_reply.started": "2022-11-08T22:43:45.596166Z"
    },
    "tags": []
   },
   "outputs": [],
   "source": [
    "ts = ds.timeseries.loc[(439, 15325)]"
   ]
  },
  {
   "cell_type": "code",
   "execution_count": null,
   "id": "f6dd2d2a-a7fd-4166-9626-1e3789bfb8a3",
   "metadata": {
    "execution": {
     "iopub.execute_input": "2022-11-08T22:43:45.629111Z",
     "iopub.status.busy": "2022-11-08T22:43:45.628993Z",
     "iopub.status.idle": "2022-11-08T22:43:45.648964Z",
     "shell.execute_reply": "2022-11-08T22:43:45.648578Z",
     "shell.execute_reply.started": "2022-11-08T22:43:45.629100Z"
    },
    "tags": []
   },
   "outputs": [],
   "source": [
    "sampler = SlidingWindowSampler(ts.index, horizons=[\"2h\", \"1h\"], stride=\"1h\")"
   ]
  },
  {
   "cell_type": "code",
   "execution_count": null,
   "id": "2b74748f-97f9-4bba-9a7c-b1e3be49a607",
   "metadata": {
    "execution": {
     "iopub.execute_input": "2022-11-08T22:43:45.649753Z",
     "iopub.status.busy": "2022-11-08T22:43:45.649517Z",
     "iopub.status.idle": "2022-11-08T22:43:45.669241Z",
     "shell.execute_reply": "2022-11-08T22:43:45.668929Z",
     "shell.execute_reply.started": "2022-11-08T22:43:45.649739Z"
    },
    "tags": []
   },
   "outputs": [],
   "source": [
    "next(iter(sampler))"
   ]
  },
  {
   "cell_type": "markdown",
   "id": "b219160a-32f8-425d-8a7f-45de6e7fadbe",
   "metadata": {},
   "source": [
    "## Construct the Sampler"
   ]
  },
  {
   "cell_type": "code",
   "execution_count": null,
   "id": "2ce0855f-fd9b-4d4c-aed6-e9f2b8aee1f7",
   "metadata": {
    "execution": {
     "iopub.execute_input": "2022-11-09T00:53:04.848691Z",
     "iopub.status.busy": "2022-11-09T00:53:04.848347Z",
     "iopub.status.idle": "2022-11-09T00:53:05.596593Z",
     "shell.execute_reply": "2022-11-09T00:53:05.596090Z",
     "shell.execute_reply.started": "2022-11-09T00:53:04.848612Z"
    },
    "tags": []
   },
   "outputs": [],
   "source": [
    "from torch.utils.data import RandomSampler, SubsetRandomSampler"
   ]
  },
  {
   "cell_type": "code",
   "execution_count": null,
   "id": "7bef2bcd-eff0-4c1b-acde-e56c6e95a884",
   "metadata": {
    "execution": {
     "iopub.execute_input": "2022-11-09T01:04:27.209665Z",
     "iopub.status.busy": "2022-11-09T01:04:27.209114Z",
     "iopub.status.idle": "2022-11-09T01:04:28.786310Z",
     "shell.execute_reply": "2022-11-09T01:04:28.785785Z",
     "shell.execute_reply.started": "2022-11-09T01:04:27.209599Z"
    },
    "tags": []
   },
   "outputs": [],
   "source": [
    "from tsdm.tasks import KiwiTask"
   ]
  },
  {
   "cell_type": "code",
   "execution_count": null,
   "id": "16db445d-cab2-4197-a111-ea683bf3daaa",
   "metadata": {
    "execution": {
     "iopub.execute_input": "2022-11-09T01:04:28.787278Z",
     "iopub.status.busy": "2022-11-09T01:04:28.787069Z",
     "iopub.status.idle": "2022-11-09T01:04:29.628455Z",
     "shell.execute_reply": "2022-11-09T01:04:29.627994Z",
     "shell.execute_reply.started": "2022-11-09T01:04:28.787266Z"
    },
    "tags": []
   },
   "outputs": [],
   "source": [
    "task = KiwiTask()"
   ]
  },
  {
   "cell_type": "code",
   "execution_count": null,
   "id": "58d423e1-21a5-40c3-a1dd-208d628e2615",
   "metadata": {
    "execution": {
     "iopub.execute_input": "2022-11-08T22:43:45.689389Z",
     "iopub.status.busy": "2022-11-08T22:43:45.689272Z",
     "iopub.status.idle": "2022-11-08T22:43:45.712182Z",
     "shell.execute_reply": "2022-11-08T22:43:45.711682Z",
     "shell.execute_reply.started": "2022-11-08T22:43:45.689378Z"
    },
    "tags": []
   },
   "outputs": [],
   "source": [
    "next(iter(SubsetRandomSampler(TSC.index)))"
   ]
  },
  {
   "cell_type": "code",
   "execution_count": null,
   "id": "279c8037-4aca-40fb-935d-18ad475f42df",
   "metadata": {
    "execution": {
     "iopub.execute_input": "2022-11-08T22:43:45.712860Z",
     "iopub.status.busy": "2022-11-08T22:43:45.712721Z",
     "iopub.status.idle": "2022-11-08T22:43:45.735616Z",
     "shell.execute_reply": "2022-11-08T22:43:45.735257Z",
     "shell.execute_reply.started": "2022-11-08T22:43:45.712847Z"
    },
    "tags": []
   },
   "outputs": [],
   "source": [
    "TSC[(439, 15325)]"
   ]
  },
  {
   "cell_type": "code",
   "execution_count": null,
   "id": "0384afb0-25d9-467f-bf14-a29eb03f091b",
   "metadata": {
    "execution": {
     "iopub.execute_input": "2022-11-08T22:43:45.736230Z",
     "iopub.status.busy": "2022-11-08T22:43:45.736109Z",
     "iopub.status.idle": "2022-11-08T22:43:46.446227Z",
     "shell.execute_reply": "2022-11-08T22:43:46.445784Z",
     "shell.execute_reply.started": "2022-11-08T22:43:45.736219Z"
    },
    "tags": []
   },
   "outputs": [],
   "source": [
    "subsamplers = {\n",
    "    key: SlidingWindowSampler(ds.timeseries.index, horizons=[\"2h\", \"1h\"], stride=\"1h\")\n",
    "    for key, ds in TSC.items()\n",
    "}\n",
    "sampler = HierarchicalSampler(TSC, subsamplers, shuffle=False)"
   ]
  },
  {
   "cell_type": "code",
   "execution_count": null,
   "id": "73fe1d3b-fef1-41cd-9967-826b195691b2",
   "metadata": {
    "execution": {
     "iopub.execute_input": "2022-11-08T22:43:46.446978Z",
     "iopub.status.busy": "2022-11-08T22:43:46.446807Z",
     "iopub.status.idle": "2022-11-08T22:43:46.486246Z",
     "shell.execute_reply": "2022-11-08T22:43:46.485607Z",
     "shell.execute_reply.started": "2022-11-08T22:43:46.446962Z"
    },
    "tags": []
   },
   "outputs": [],
   "source": [
    "from tsdm.datasets import InSilicoData\n",
    "\n",
    "ds = InSilicoData()\n",
    "\n",
    "ds.timeseries"
   ]
  },
  {
   "cell_type": "code",
   "execution_count": null,
   "id": "bb5a3769-0073-4baf-ae49-e91b33b24bb7",
   "metadata": {
    "execution": {
     "iopub.execute_input": "2022-11-08T22:43:46.487086Z",
     "iopub.status.busy": "2022-11-08T22:43:46.486913Z",
     "iopub.status.idle": "2022-11-08T22:43:46.506589Z",
     "shell.execute_reply": "2022-11-08T22:43:46.506121Z",
     "shell.execute_reply.started": "2022-11-08T22:43:46.487070Z"
    },
    "tags": []
   },
   "outputs": [],
   "source": [
    "outer_key, (forecasting_horizon, prediction_horizon) = next(iter(sampler))"
   ]
  },
  {
   "cell_type": "code",
   "execution_count": null,
   "id": "c1ecc647-69a2-42de-952d-c229fcbeef01",
   "metadata": {
    "execution": {
     "iopub.execute_input": "2022-11-08T22:43:46.509666Z",
     "iopub.status.busy": "2022-11-08T22:43:46.509537Z",
     "iopub.status.idle": "2022-11-08T22:43:46.543770Z",
     "shell.execute_reply": "2022-11-08T22:43:46.543133Z",
     "shell.execute_reply.started": "2022-11-08T22:43:46.509656Z"
    },
    "tags": []
   },
   "outputs": [],
   "source": [
    "TSC[outer_key][forecasting_horizon]"
   ]
  },
  {
   "cell_type": "markdown",
   "id": "e2cb2ce9-e485-47ff-a6b0-836931f1b127",
   "metadata": {},
   "source": [
    "# TimeSeriesCollectionForecastingTask"
   ]
  },
  {
   "cell_type": "code",
   "execution_count": null,
   "id": "4c31eb35-d161-4f97-82f5-6fd16c99d8f6",
   "metadata": {
    "execution": {
     "iopub.execute_input": "2022-11-08T22:43:46.544511Z",
     "iopub.status.busy": "2022-11-08T22:43:46.544390Z",
     "iopub.status.idle": "2022-11-08T22:43:46.566194Z",
     "shell.execute_reply": "2022-11-08T22:43:46.565457Z",
     "shell.execute_reply.started": "2022-11-08T22:43:46.544499Z"
    },
    "tags": []
   },
   "outputs": [],
   "source": [
    "TSC"
   ]
  },
  {
   "cell_type": "code",
   "execution_count": null,
   "id": "508a1a20-d989-4bdc-b446-aaa2db89bda3",
   "metadata": {
    "execution": {
     "iopub.execute_input": "2022-11-08T22:43:46.567046Z",
     "iopub.status.busy": "2022-11-08T22:43:46.566928Z",
     "iopub.status.idle": "2022-11-08T22:43:46.586758Z",
     "shell.execute_reply": "2022-11-08T22:43:46.586342Z",
     "shell.execute_reply.started": "2022-11-08T22:43:46.567035Z"
    },
    "tags": []
   },
   "outputs": [],
   "source": [
    "from tsdm.tasks import TimeSeriesTaskDataset\n",
    "\n",
    "targets = [\"Base\", \"DOT\", \"Glucose\", \"OD600\"]\n",
    "observables = [\n",
    "    \"Base\",\n",
    "    \"DOT\",\n",
    "    \"Glucose\",\n",
    "    \"OD600\",\n",
    "    \"Acetate\",\n",
    "    \"Fluo_GFP\",\n",
    "    \"pH\",\n",
    "]\n",
    "covariates = [\n",
    "    \"Cumulated_feed_volume_glucose\",\n",
    "    \"Cumulated_feed_volume_medium\",\n",
    "    \"InducerConcentration\",\n",
    "    \"StirringSpeed\",\n",
    "    \"Flow_Air\",\n",
    "    \"Temperature\",\n",
    "    \"Probe_Volume\",\n",
    "]"
   ]
  },
  {
   "cell_type": "code",
   "execution_count": null,
   "id": "a3dddf42-f2e0-4a8f-b9c8-59218a1f139d",
   "metadata": {
    "execution": {
     "iopub.execute_input": "2022-11-08T22:43:46.587375Z",
     "iopub.status.busy": "2022-11-08T22:43:46.587259Z",
     "iopub.status.idle": "2022-11-08T22:43:46.624855Z",
     "shell.execute_reply": "2022-11-08T22:43:46.624345Z",
     "shell.execute_reply.started": "2022-11-08T22:43:46.587364Z"
    },
    "tags": []
   },
   "outputs": [],
   "source": [
    "key = next(iter(sampler))\n",
    "outer_key, (observation_horizon, forecasting_horizon) = key\n",
    "TSC[outer_key][observation_horizon]"
   ]
  },
  {
   "cell_type": "code",
   "execution_count": null,
   "id": "038cb882-3b7f-4f6f-a46e-c7d87b6901a8",
   "metadata": {
    "execution": {
     "iopub.execute_input": "2022-11-08T22:43:46.625617Z",
     "iopub.status.busy": "2022-11-08T22:43:46.625466Z",
     "iopub.status.idle": "2022-11-08T22:43:46.653463Z",
     "shell.execute_reply": "2022-11-08T22:43:46.653109Z",
     "shell.execute_reply.started": "2022-11-08T22:43:46.625603Z"
    },
    "tags": []
   },
   "outputs": [],
   "source": [
    "TSC[439, 15325]"
   ]
  },
  {
   "cell_type": "code",
   "execution_count": null,
   "id": "fadeed9c-e6e0-4a44-848c-478344a17da5",
   "metadata": {},
   "outputs": [],
   "source": []
  },
  {
   "cell_type": "markdown",
   "id": "734441b2-75b4-4068-acf6-d15ce39efed0",
   "metadata": {},
   "source": [
    "# Collction Test"
   ]
  },
  {
   "cell_type": "code",
   "execution_count": null,
   "id": "33cbe739-2e1a-4cd2-b756-8e083d9ef3ee",
   "metadata": {
    "execution": {
     "iopub.execute_input": "2022-11-08T22:43:46.654064Z",
     "iopub.status.busy": "2022-11-08T22:43:46.653932Z",
     "iopub.status.idle": "2022-11-08T22:43:46.770736Z",
     "shell.execute_reply": "2022-11-08T22:43:46.770251Z",
     "shell.execute_reply.started": "2022-11-08T22:43:46.654051Z"
    },
    "tags": []
   },
   "outputs": [],
   "source": [
    "task = TimeSeriesTaskDataset(\n",
    "    TSC,\n",
    "    targets=targets,\n",
    "    observables=observables,\n",
    "    covariates=covariates,\n",
    "    sample_format=(\"sparse\", \"sparse\"),\n",
    ")\n",
    "sample = task[key]"
   ]
  },
  {
   "cell_type": "markdown",
   "id": "2869b606-fa62-4652-99ed-03ae128acd19",
   "metadata": {},
   "source": [
    "# Dataset Test"
   ]
  },
  {
   "cell_type": "code",
   "execution_count": null,
   "id": "32b938ec-6366-4fa7-b3b3-786a01dcf3da",
   "metadata": {
    "execution": {
     "iopub.execute_input": "2022-11-08T22:43:46.771309Z",
     "iopub.status.busy": "2022-11-08T22:43:46.771202Z",
     "iopub.status.idle": "2022-11-08T22:43:46.804012Z",
     "shell.execute_reply": "2022-11-08T22:43:46.803638Z",
     "shell.execute_reply.started": "2022-11-08T22:43:46.771299Z"
    },
    "tags": []
   },
   "outputs": [],
   "source": [
    "task = TimeSeriesTaskDataset(\n",
    "    TSC[439, 15325],\n",
    "    targets=targets,\n",
    "    observables=observables,\n",
    "    covariates=covariates,\n",
    "    sample_format=(\"masked\", \"masked\"),\n",
    ")\n",
    "sample = task[key[1]]"
   ]
  },
  {
   "cell_type": "code",
   "execution_count": null,
   "id": "77a1fda4-15d8-4291-b6de-9a98b75ecb33",
   "metadata": {
    "execution": {
     "iopub.execute_input": "2022-11-08T22:43:46.804610Z",
     "iopub.status.busy": "2022-11-08T22:43:46.804500Z",
     "iopub.status.idle": "2022-11-08T22:43:46.909678Z",
     "shell.execute_reply": "2022-11-08T22:43:46.908982Z",
     "shell.execute_reply.started": "2022-11-08T22:43:46.804599Z"
    }
   },
   "outputs": [],
   "source": [
    "raise"
   ]
  },
  {
   "cell_type": "code",
   "execution_count": null,
   "id": "62abd56d-dbb3-4de4-bb92-0a552e5765b1",
   "metadata": {
    "execution": {
     "iopub.status.busy": "2022-11-08T22:43:46.910282Z",
     "iopub.status.idle": "2022-11-08T22:43:46.910503Z",
     "shell.execute_reply": "2022-11-08T22:43:46.910400Z",
     "shell.execute_reply.started": "2022-11-08T22:43:46.910389Z"
    }
   },
   "outputs": [],
   "source": [
    "if sample.inputs.t_target is not None:\n",
    "    diff = sample.inputs.t_target.index.difference(sample.targets.y.index)\n",
    "    sample.inputs.t_target.drop(diff, inplace=True)\n",
    "sample"
   ]
  },
  {
   "cell_type": "code",
   "execution_count": null,
   "id": "e733c93e-ac41-4c6b-b7cb-f08dd69cdac7",
   "metadata": {
    "execution": {
     "iopub.status.busy": "2022-11-08T22:43:46.911280Z",
     "iopub.status.idle": "2022-11-08T22:43:46.911450Z",
     "shell.execute_reply": "2022-11-08T22:43:46.911365Z",
     "shell.execute_reply.started": "2022-11-08T22:43:46.911358Z"
    }
   },
   "outputs": [],
   "source": [
    "raise"
   ]
  },
  {
   "cell_type": "code",
   "execution_count": null,
   "id": "ca5d1e4f-410e-466d-a4ad-ce084ab47aaa",
   "metadata": {
    "execution": {
     "iopub.status.busy": "2022-11-08T22:43:46.911954Z",
     "iopub.status.idle": "2022-11-08T22:43:46.912136Z",
     "shell.execute_reply": "2022-11-08T22:43:46.912039Z",
     "shell.execute_reply.started": "2022-11-08T22:43:46.912029Z"
    },
    "tags": []
   },
   "outputs": [],
   "source": [
    "diff = sample.inputs.t_target.index.difference(sample.targets.y.index)\n",
    "sample.inputs.t_target.drop(diff, inplace=True)\n",
    "sample"
   ]
  },
  {
   "cell_type": "code",
   "execution_count": null,
   "id": "17fde7ae-4be9-44ae-a2c4-c7e90448ac4b",
   "metadata": {
    "execution": {
     "iopub.status.busy": "2022-11-08T22:43:46.912626Z",
     "iopub.status.idle": "2022-11-08T22:43:46.912835Z",
     "shell.execute_reply": "2022-11-08T22:43:46.912738Z",
     "shell.execute_reply.started": "2022-11-08T22:43:46.912728Z"
    }
   },
   "outputs": [],
   "source": [
    "raise"
   ]
  },
  {
   "cell_type": "markdown",
   "id": "d36d7806-3b49-4f26-91b0-bd308e651396",
   "metadata": {},
   "source": [
    "# Mapping Dataset"
   ]
  },
  {
   "cell_type": "code",
   "execution_count": null,
   "id": "7d14ab4f-58ae-42bd-8d2e-a18a60b1248b",
   "metadata": {
    "execution": {
     "iopub.status.busy": "2022-11-08T22:43:46.913319Z",
     "iopub.status.idle": "2022-11-08T22:43:46.913531Z",
     "shell.execute_reply": "2022-11-08T22:43:46.913426Z",
     "shell.execute_reply.started": "2022-11-08T22:43:46.913416Z"
    },
    "tags": []
   },
   "outputs": [],
   "source": [
    "d = dict(enumerate(\"asdfghjkl\"))"
   ]
  },
  {
   "cell_type": "code",
   "execution_count": null,
   "id": "7d6fc26a-a7b5-4807-ad93-6baad3664ceb",
   "metadata": {
    "execution": {
     "iopub.status.busy": "2022-11-08T22:43:46.914329Z",
     "iopub.status.idle": "2022-11-08T22:43:46.914545Z",
     "shell.execute_reply": "2022-11-08T22:43:46.914444Z",
     "shell.execute_reply.started": "2022-11-08T22:43:46.914434Z"
    },
    "tags": []
   },
   "outputs": [],
   "source": [
    "from collections.abc import Mapping\n",
    "from dataclasses import dataclass\n",
    "\n",
    "from torch.utils.data import Dataset"
   ]
  },
  {
   "cell_type": "code",
   "execution_count": null,
   "id": "9c58945f-54cc-4b5b-be23-4b1b73ac4877",
   "metadata": {
    "execution": {
     "iopub.status.busy": "2022-11-08T22:43:46.915247Z",
     "iopub.status.idle": "2022-11-08T22:43:46.915470Z",
     "shell.execute_reply": "2022-11-08T22:43:46.915362Z",
     "shell.execute_reply.started": "2022-11-08T22:43:46.915353Z"
    },
    "tags": []
   },
   "outputs": [],
   "source": [
    "@dataclass\n",
    "class MyMapping(Dataset, Mapping):\n",
    "    internal_dict: dict\n",
    "\n",
    "    def __iter__(self):\n",
    "        return iter(self.internal_dict)\n",
    "\n",
    "    def __getitem__(self, key):\n",
    "        return self.internal_dict[key]\n",
    "\n",
    "    def __len__(self):\n",
    "        return len(self.internal_dict)"
   ]
  },
  {
   "cell_type": "code",
   "execution_count": null,
   "id": "010228c4-ed98-4958-becd-c8646e3681ec",
   "metadata": {
    "execution": {
     "iopub.status.busy": "2022-11-08T22:43:46.916375Z",
     "iopub.status.idle": "2022-11-08T22:43:46.916607Z",
     "shell.execute_reply": "2022-11-08T22:43:46.916497Z",
     "shell.execute_reply.started": "2022-11-08T22:43:46.916486Z"
    },
    "tags": []
   },
   "outputs": [],
   "source": [
    "from torch.utils.data import DataLoader\n",
    "\n",
    "dataloader = DataLoader(MyMapping(d))"
   ]
  },
  {
   "cell_type": "code",
   "execution_count": null,
   "id": "1c961a18-66d1-4b99-a1b4-46fdf12a3311",
   "metadata": {},
   "outputs": [],
   "source": []
  },
  {
   "cell_type": "code",
   "execution_count": null,
   "id": "d96010ec-5762-4d3d-acdb-b23e7a3f5717",
   "metadata": {},
   "outputs": [],
   "source": []
  },
  {
   "cell_type": "code",
   "execution_count": null,
   "id": "c432b694-6a00-4269-8688-b807061ca921",
   "metadata": {
    "execution": {
     "iopub.status.busy": "2022-11-08T22:43:46.917022Z",
     "iopub.status.idle": "2022-11-08T22:43:46.917201Z",
     "shell.execute_reply": "2022-11-08T22:43:46.917114Z",
     "shell.execute_reply.started": "2022-11-08T22:43:46.917106Z"
    }
   },
   "outputs": [],
   "source": [
    "from typing import Any, Callable, Sequence\n",
    "\n",
    "\n",
    "def flatten_dict(\n",
    "    d: dict[str, Any],\n",
    "    /,\n",
    "    *,\n",
    "    recursive: bool = True,\n",
    "    join_fn: Callable[[Sequence[str]], str] = \".\".join,\n",
    ") -> dict[str, Any]:\n",
    "    r\"\"\"Flatten dictionaries recursively.\"\"\"\n",
    "    result = {}\n",
    "    for key, item in d.items():\n",
    "        if isinstance(item, dict) and recursive:\n",
    "            subdict = flatten_dict(item, recursive=True, join_fn=join_fn)\n",
    "            for subkey, subitem in subdict.items():\n",
    "                result[join_fn((key, subkey))] = subitem\n",
    "        else:\n",
    "            result[key] = item\n",
    "    return result\n",
    "\n",
    "\n",
    "def unflatten_dict(\n",
    "    d: dict[str, Any],\n",
    "    /,\n",
    "    *,\n",
    "    recursive: bool = True,\n",
    "    split_fn: Callable[[str], Sequence[str]] = lambda s: s.split(\".\", maxsplit=1),\n",
    ") -> dict[str, Any]:\n",
    "    r\"\"\"Unflatten dictionaries recursively.\"\"\"\n",
    "    result = {}\n",
    "    for key, item in d.items():\n",
    "        split = split_fn(key)\n",
    "        result.setdefault(split[0], {})\n",
    "        if len(split) > 1 and recursive:\n",
    "            assert len(split) == 2\n",
    "            subdict = unflatten_dict(\n",
    "                {split[1]: item}, recursive=recursive, split_fn=split_fn\n",
    "            )\n",
    "            result[split[0]] |= subdict\n",
    "        else:\n",
    "            result[split[0]] = item\n",
    "    return result\n",
    "\n",
    "\n",
    "a = {\n",
    "    \"a\": True,\n",
    "    \"b\": 42,\n",
    "    \"c\": \"foo\",\n",
    "    \"foo\": {\"a\": 1, \"b\": 2, \"c\": 3},\n",
    "    \"bar\": {\"a\": {\"a\": 1}, \"b\": {\"a\": 1}, \"c\": {\"a\": 1}},\n",
    "    \"baz\": {\"a\": True, \"b\": 2},  # <-- does not work!\n",
    "}\n",
    "\n",
    "print(flat := flatten_dict(a))\n",
    "print(unflat := unflatten_dict(a))\n",
    "assert unflat == a"
   ]
  },
  {
   "cell_type": "code",
   "execution_count": null,
   "id": "fdfe587a-9f2d-4fb7-b29d-cd85d8f30d62",
   "metadata": {
    "execution": {
     "iopub.status.busy": "2022-11-08T22:43:46.918046Z",
     "iopub.status.idle": "2022-11-08T22:43:46.918279Z",
     "shell.execute_reply": "2022-11-08T22:43:46.918164Z",
     "shell.execute_reply.started": "2022-11-08T22:43:46.918154Z"
    }
   },
   "outputs": [],
   "source": [
    "flat"
   ]
  },
  {
   "cell_type": "code",
   "execution_count": null,
   "id": "20385cb7-6254-4f2a-a927-05293482ae25",
   "metadata": {
    "execution": {
     "iopub.status.busy": "2022-11-08T22:43:46.918742Z",
     "iopub.status.idle": "2022-11-08T22:43:46.918937Z",
     "shell.execute_reply": "2022-11-08T22:43:46.918844Z",
     "shell.execute_reply.started": "2022-11-08T22:43:46.918835Z"
    }
   },
   "outputs": [],
   "source": [
    "unflatten_dict(flat)"
   ]
  },
  {
   "cell_type": "code",
   "execution_count": null,
   "id": "94d402b5-155e-45f0-a1d6-269b7e95e2dd",
   "metadata": {
    "execution": {
     "iopub.status.busy": "2022-11-08T22:43:46.919807Z",
     "iopub.status.idle": "2022-11-08T22:43:46.920036Z",
     "shell.execute_reply": "2022-11-08T22:43:46.919935Z",
     "shell.execute_reply.started": "2022-11-08T22:43:46.919925Z"
    }
   },
   "outputs": [],
   "source": [
    "\"a\".split(\".\")"
   ]
  },
  {
   "cell_type": "code",
   "execution_count": null,
   "id": "cbb9ae7e-bd86-49ce-a26c-c46fdbc261db",
   "metadata": {
    "execution": {
     "iopub.status.busy": "2022-11-08T22:43:46.920477Z",
     "iopub.status.idle": "2022-11-08T22:43:46.920676Z",
     "shell.execute_reply": "2022-11-08T22:43:46.920578Z",
     "shell.execute_reply.started": "2022-11-08T22:43:46.920569Z"
    }
   },
   "outputs": [],
   "source": [
    "dir(\".\")"
   ]
  },
  {
   "cell_type": "code",
   "execution_count": null,
   "id": "4c6918b2-9140-43a5-945b-e451a7a971b2",
   "metadata": {},
   "outputs": [],
   "source": []
  }
 ],
 "metadata": {
  "kernelspec": {
   "display_name": "Python 3 (ipykernel)",
   "language": "python",
   "name": "python3"
  },
  "language_info": {
   "codemirror_mode": {
    "name": "ipython",
    "version": 3
   },
   "file_extension": ".py",
   "mimetype": "text/x-python",
   "name": "python",
   "nbconvert_exporter": "python",
   "pygments_lexer": "ipython3",
   "version": "3.10.6"
  }
 },
 "nbformat": 4,
 "nbformat_minor": 5
}
