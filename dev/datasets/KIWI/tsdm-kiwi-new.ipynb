{
 "cells": [
  {
   "cell_type": "code",
   "execution_count": null,
   "id": "20191951-beec-414a-b3c6-89dca8277ad2",
   "metadata": {
    "tags": []
   },
   "outputs": [],
   "source": [
    "%config InteractiveShell.ast_node_interactivity='last_expr_or_assign'  # always print last expr.\n",
    "%config InlineBackend.figure_format = 'svg'\n",
    "%load_ext autoreload\n",
    "%autoreload 2\n",
    "%matplotlib inline"
   ]
  },
  {
   "cell_type": "code",
   "execution_count": null,
   "id": "71d6d898-643d-4a60-b993-5ec5f51a1284",
   "metadata": {},
   "outputs": [],
   "source": [
    "from pandas import DataFrame, Index, Series\n",
    "from torch.utils.data import Dataset as TorchDataset\n",
    "\n",
    "import tsdm\n",
    "from tsdm.datasets import TimeSeriesCollection\n",
    "from tsdm.random.samplers import HierarchicalSampler, SlidingWindowSampler"
   ]
  },
  {
   "cell_type": "code",
   "execution_count": null,
   "id": "6be3680d-aeaa-4abd-a715-c42d31abc218",
   "metadata": {
    "tags": []
   },
   "outputs": [],
   "source": [
    "import logging\n",
    "\n",
    "logging.basicConfig(level=logging.INFO)"
   ]
  },
  {
   "cell_type": "code",
   "execution_count": null,
   "id": "d695b42b",
   "metadata": {
    "tags": []
   },
   "outputs": [],
   "source": [
    "ds = tsdm.datasets.KIWI_RUNS()"
   ]
  },
  {
   "cell_type": "code",
   "execution_count": null,
   "id": "f9389f9c-7bc4-4f61-8ff8-774e1398b091",
   "metadata": {},
   "outputs": [],
   "source": [
    "ds.timeseries"
   ]
  },
  {
   "cell_type": "code",
   "execution_count": null,
   "id": "0cfa02aa-f3e3-4be2-a86b-c7a0cf2f33bf",
   "metadata": {},
   "outputs": [],
   "source": [
    "ds.timeseries"
   ]
  },
  {
   "cell_type": "code",
   "execution_count": null,
   "id": "9559b04f-7e1c-418c-bd02-05595ba47454",
   "metadata": {
    "tags": []
   },
   "outputs": [],
   "source": [
    "ds.time_features.dtypes"
   ]
  },
  {
   "cell_type": "code",
   "execution_count": null,
   "id": "7d80d9de-cfde-4502-8f88-b842650cdaa7",
   "metadata": {},
   "outputs": [],
   "source": [
    "from tsdm.datasets import KIWI"
   ]
  },
  {
   "cell_type": "code",
   "execution_count": null,
   "id": "0974f5b3-46a2-4874-a8cb-2d085ed512e6",
   "metadata": {},
   "outputs": [],
   "source": [
    "ds = KIWI()\n",
    "ds"
   ]
  },
  {
   "cell_type": "code",
   "execution_count": null,
   "id": "a67be928-f987-443d-a14e-75fa06edf621",
   "metadata": {},
   "outputs": [],
   "source": [
    "ds.index"
   ]
  },
  {
   "cell_type": "code",
   "execution_count": null,
   "id": "de473727-3786-4e75-a642-0523d50b6cc0",
   "metadata": {},
   "outputs": [],
   "source": [
    "ds[439, 15325]"
   ]
  },
  {
   "cell_type": "code",
   "execution_count": null,
   "id": "4ccf4807-d19f-4af4-9b02-6d37f7c1862d",
   "metadata": {},
   "outputs": [],
   "source": []
  },
  {
   "cell_type": "code",
   "execution_count": null,
   "id": "b7305601-980d-40cf-8e3f-ce4b1e18404f",
   "metadata": {},
   "outputs": [],
   "source": []
  },
  {
   "cell_type": "code",
   "execution_count": null,
   "id": "c4a11cd0-71a8-4b64-b246-a754b5875fea",
   "metadata": {},
   "outputs": [],
   "source": []
  },
  {
   "cell_type": "code",
   "execution_count": null,
   "id": "4633d0b1-df21-4d34-9de1-67979aef0d8d",
   "metadata": {
    "tags": []
   },
   "outputs": [],
   "source": [
    "TSC = TimeSeriesCollection(\n",
    "    index=ds.index,\n",
    "    timeseries=ds.timeseries,\n",
    "    metadata=ds.metadata,\n",
    "    time_features=ds.time_features,\n",
    "    value_features=ds.value_features,\n",
    "    metadata_features=ds.metadata_features,\n",
    ")"
   ]
  },
  {
   "cell_type": "markdown",
   "id": "e8e91e81-c5e5-4d71-9415-ba61b8614e46",
   "metadata": {},
   "source": [
    "## Sampler"
   ]
  },
  {
   "cell_type": "code",
   "execution_count": null,
   "id": "efd95902-a95d-419b-b991-ad806441073b",
   "metadata": {
    "tags": []
   },
   "outputs": [],
   "source": [
    "ts = ds.timeseries.loc[(439, 15325)]"
   ]
  },
  {
   "cell_type": "code",
   "execution_count": null,
   "id": "f6dd2d2a-a7fd-4166-9626-1e3789bfb8a3",
   "metadata": {
    "tags": []
   },
   "outputs": [],
   "source": [
    "sampler = SlidingWindowSampler(ts.index, horizons=[\"2h\", \"1h\"], stride=\"1h\")"
   ]
  },
  {
   "cell_type": "code",
   "execution_count": null,
   "id": "2b74748f-97f9-4bba-9a7c-b1e3be49a607",
   "metadata": {
    "tags": []
   },
   "outputs": [],
   "source": [
    "next(iter(sampler))"
   ]
  },
  {
   "cell_type": "markdown",
   "id": "b219160a-32f8-425d-8a7f-45de6e7fadbe",
   "metadata": {},
   "source": [
    "## Construct the Sampler"
   ]
  },
  {
   "cell_type": "code",
   "execution_count": null,
   "id": "43ee6e08-bec7-4a0d-b2f7-60dd7809195d",
   "metadata": {
    "tags": []
   },
   "outputs": [],
   "source": [
    "TSC"
   ]
  },
  {
   "cell_type": "code",
   "execution_count": null,
   "id": "2ce0855f-fd9b-4d4c-aed6-e9f2b8aee1f7",
   "metadata": {
    "tags": []
   },
   "outputs": [],
   "source": [
    "from torch.utils.data import RandomSampler, SubsetRandomSampler"
   ]
  },
  {
   "cell_type": "code",
   "execution_count": null,
   "id": "58d423e1-21a5-40c3-a1dd-208d628e2615",
   "metadata": {
    "tags": []
   },
   "outputs": [],
   "source": [
    "next(iter(SubsetRandomSampler(TSC.index)))"
   ]
  },
  {
   "cell_type": "code",
   "execution_count": null,
   "id": "279c8037-4aca-40fb-935d-18ad475f42df",
   "metadata": {
    "tags": []
   },
   "outputs": [],
   "source": [
    "TSC[(439, 15325)]"
   ]
  },
  {
   "cell_type": "code",
   "execution_count": null,
   "id": "0384afb0-25d9-467f-bf14-a29eb03f091b",
   "metadata": {
    "tags": []
   },
   "outputs": [],
   "source": [
    "subsamplers = {\n",
    "    key: SlidingWindowSampler(ds.timeseries.index, horizons=[\"2h\", \"1h\"], stride=\"1h\")\n",
    "    for key, ds in TSC.items()\n",
    "}\n",
    "sampler = HierarchicalSampler(TSC, subsamplers, shuffle=False)"
   ]
  },
  {
   "cell_type": "code",
   "execution_count": null,
   "id": "bb5a3769-0073-4baf-ae49-e91b33b24bb7",
   "metadata": {
    "tags": []
   },
   "outputs": [],
   "source": [
    "outer_key, (forecasting_horizon, prediction_horizon) = next(iter(sampler))"
   ]
  },
  {
   "cell_type": "code",
   "execution_count": null,
   "id": "c1ecc647-69a2-42de-952d-c229fcbeef01",
   "metadata": {
    "tags": []
   },
   "outputs": [],
   "source": [
    "TSC[outer_key][forecasting_horizon]"
   ]
  },
  {
   "cell_type": "markdown",
   "id": "e2cb2ce9-e485-47ff-a6b0-836931f1b127",
   "metadata": {},
   "source": [
    "# TimeSeriesCollectionForecastingTask"
   ]
  },
  {
   "cell_type": "markdown",
   "id": "9ed37422-1c97-46e7-a987-59b7fb2e6a16",
   "metadata": {},
   "source": [
    "## TimeSeriesCollection Sample"
   ]
  },
  {
   "cell_type": "code",
   "execution_count": null,
   "id": "8748717f-34ad-481a-84f4-0fa9eb7a48e8",
   "metadata": {
    "tags": []
   },
   "outputs": [],
   "source": [
    "from typing import NamedTuple\n",
    "\n",
    "from tsdm.utils.strings import *\n",
    "\n",
    "\n",
    "class Inputs(NamedTuple):\n",
    "    \"\"\"tuple of inputs\"\"\"\n",
    "\n",
    "    t: int\n",
    "    x: int\n",
    "    t_target: int\n",
    "    metadata: int\n",
    "\n",
    "    def __repr__(self):\n",
    "        return repr_namedtuple(self, recursive=False)\n",
    "\n",
    "\n",
    "class Sample(NamedTuple):\n",
    "    \"\"\"A sample for forecasting task\"\"\"\n",
    "\n",
    "    key: int\n",
    "    inputs: Inputs\n",
    "    targets: int\n",
    "    # originals: int\n",
    "\n",
    "    def __repr__(self):\n",
    "        return repr_namedtuple(self, recursive=False)"
   ]
  },
  {
   "cell_type": "code",
   "execution_count": null,
   "id": "471b4f60-d1b9-4da5-b454-0817e2eae54a",
   "metadata": {
    "tags": []
   },
   "outputs": [],
   "source": [
    "from dataclasses import dataclass\n",
    "\n",
    "\n",
    "@dataclass\n",
    "class TimeSeriesCollectionForecastingTask(TorchDataset):\n",
    "    r\"\"\"Creates sample from a TimeSeriesCollection.\"\"\"\n",
    "\n",
    "    dataset: TimeSeriesCollection\n",
    "    targets: Index\n",
    "    controls: Index\n",
    "    observables: Index\n",
    "\n",
    "    def __getitem__(self, key) -> Sample:\n",
    "        assert isinstance(key, tuple) and len(key) == 2\n",
    "        outer_key, inner_key = key\n",
    "        assert isinstance(inner_key, list) and len(inner_key) == 2\n",
    "        observation_horizon, forecasting_horizon = inner_key\n",
    "\n",
    "        tsd = self.dataset[outer_key]\n",
    "        md = tsd.metadata\n",
    "\n",
    "        obs = tsd[observation_horizon]\n",
    "        pre = tsd[forecasting_horizon]\n",
    "        horizon = observation_horizon | forecasting_horizon\n",
    "        ts = tsd[horizon]\n",
    "\n",
    "        return Sample(\n",
    "            key=outer_key,\n",
    "            inputs=Inputs(ts, obs, ts, pre),\n",
    "            targets=pre,\n",
    "        )"
   ]
  },
  {
   "cell_type": "code",
   "execution_count": null,
   "id": "92c0ec74-d425-400d-96fd-2c1b084989d6",
   "metadata": {
    "tags": []
   },
   "outputs": [],
   "source": [
    "key = next(iter(sampler))"
   ]
  },
  {
   "cell_type": "code",
   "execution_count": null,
   "id": "dbe87c6a-ae52-42d5-9f9f-1ba22051e4ce",
   "metadata": {
    "tags": []
   },
   "outputs": [],
   "source": [
    "task = TimeSeriesCollectionForecastingTask(\n",
    "    TSC, targets=None, controls=None, observables=None\n",
    ")\n",
    "task[key]"
   ]
  },
  {
   "cell_type": "markdown",
   "id": "d36d7806-3b49-4f26-91b0-bd308e651396",
   "metadata": {},
   "source": [
    "# Mapping Dataset"
   ]
  },
  {
   "cell_type": "code",
   "execution_count": null,
   "id": "7d14ab4f-58ae-42bd-8d2e-a18a60b1248b",
   "metadata": {
    "tags": []
   },
   "outputs": [],
   "source": [
    "d = dict(enumerate(\"asdfghjkl\"))"
   ]
  },
  {
   "cell_type": "code",
   "execution_count": null,
   "id": "7d6fc26a-a7b5-4807-ad93-6baad3664ceb",
   "metadata": {
    "tags": []
   },
   "outputs": [],
   "source": [
    "from collections.abc import Mapping\n",
    "from dataclasses import dataclass\n",
    "\n",
    "from torch.utils.data import Dataset"
   ]
  },
  {
   "cell_type": "code",
   "execution_count": null,
   "id": "9c58945f-54cc-4b5b-be23-4b1b73ac4877",
   "metadata": {
    "tags": []
   },
   "outputs": [],
   "source": [
    "@dataclass\n",
    "class MyMapping(Dataset, Mapping):\n",
    "    internal_dict: dict\n",
    "\n",
    "    def __iter__(self):\n",
    "        return iter(self.internal_dict)\n",
    "\n",
    "    def __getitem__(self, key):\n",
    "        return self.internal_dict[key]\n",
    "\n",
    "    def __len__(self):\n",
    "        return len(self.internal_dict)"
   ]
  },
  {
   "cell_type": "code",
   "execution_count": null,
   "id": "010228c4-ed98-4958-becd-c8646e3681ec",
   "metadata": {
    "tags": []
   },
   "outputs": [],
   "source": [
    "from torch.utils.data import DataLoader\n",
    "\n",
    "dataloader = DataLoader(MyMapping(d))"
   ]
  },
  {
   "cell_type": "code",
   "execution_count": null,
   "id": "1c961a18-66d1-4b99-a1b4-46fdf12a3311",
   "metadata": {},
   "outputs": [],
   "source": []
  },
  {
   "cell_type": "code",
   "execution_count": null,
   "id": "d96010ec-5762-4d3d-acdb-b23e7a3f5717",
   "metadata": {},
   "outputs": [],
   "source": []
  },
  {
   "cell_type": "code",
   "execution_count": null,
   "id": "c432b694-6a00-4269-8688-b807061ca921",
   "metadata": {},
   "outputs": [],
   "source": [
    "from typing import Any, Callable, Sequence\n",
    "\n",
    "\n",
    "def flatten_dict(\n",
    "    d: dict[str, Any],\n",
    "    /,\n",
    "    *,\n",
    "    recursive: bool = True,\n",
    "    join_fn: Callable[[Sequence[str]], str] = \".\".join,\n",
    ") -> dict[str, Any]:\n",
    "    r\"\"\"Flatten dictionaries recursively.\"\"\"\n",
    "    result = {}\n",
    "    for key, item in d.items():\n",
    "        if isinstance(item, dict) and recursive:\n",
    "            subdict = flatten_dict(item, recursive=True, join_fn=join_fn)\n",
    "            for subkey, subitem in subdict.items():\n",
    "                result[join_fn((key, subkey))] = subitem\n",
    "        else:\n",
    "            result[key] = item\n",
    "    return result\n",
    "\n",
    "\n",
    "def unflatten_dict(\n",
    "    d: dict[str, Any],\n",
    "    /,\n",
    "    *,\n",
    "    recursive: bool = True,\n",
    "    split_fn: Callable[[str], Sequence[str]] = lambda s: s.split(\".\", maxsplit=1),\n",
    ") -> dict[str, Any]:\n",
    "    r\"\"\"Unflatten dictionaries recursively.\"\"\"\n",
    "    result = {}\n",
    "    for key, item in d.items():\n",
    "        split = split_fn(key)\n",
    "        result.setdefault(split[0], {})\n",
    "        if len(split) > 1 and recursive:\n",
    "            assert len(split) == 2\n",
    "            subdict = unflatten_dict(\n",
    "                {split[1]: item}, recursive=recursive, split_fn=split_fn\n",
    "            )\n",
    "            result[split[0]] |= subdict\n",
    "        else:\n",
    "            result[split[0]] = item\n",
    "    return result\n",
    "\n",
    "\n",
    "a = {\n",
    "    \"a\": True,\n",
    "    \"b\": 42,\n",
    "    \"c\": \"foo\",\n",
    "    \"foo\": {\"a\": 1, \"b\": 2, \"c\": 3},\n",
    "    \"bar\": {\"a\": {\"a\": 1}, \"b\": {\"a\": 1}, \"c\": {\"a\": 1}},\n",
    "    \"baz\": {\"a\": True, \"b\": 2},  # <-- does not work!\n",
    "}\n",
    "\n",
    "print(flat := flatten_dict(a))\n",
    "print(unflat := unflatten_dict(a))\n",
    "assert unflat == a"
   ]
  },
  {
   "cell_type": "code",
   "execution_count": null,
   "id": "fdfe587a-9f2d-4fb7-b29d-cd85d8f30d62",
   "metadata": {},
   "outputs": [],
   "source": [
    "flat"
   ]
  },
  {
   "cell_type": "code",
   "execution_count": null,
   "id": "20385cb7-6254-4f2a-a927-05293482ae25",
   "metadata": {},
   "outputs": [],
   "source": [
    "unflatten_dict(flat)"
   ]
  },
  {
   "cell_type": "code",
   "execution_count": null,
   "id": "94d402b5-155e-45f0-a1d6-269b7e95e2dd",
   "metadata": {},
   "outputs": [],
   "source": [
    "\"a\".split(\".\")"
   ]
  },
  {
   "cell_type": "code",
   "execution_count": null,
   "id": "cbb9ae7e-bd86-49ce-a26c-c46fdbc261db",
   "metadata": {},
   "outputs": [],
   "source": [
    "dir(\".\")"
   ]
  },
  {
   "cell_type": "code",
   "execution_count": null,
   "id": "4c6918b2-9140-43a5-945b-e451a7a971b2",
   "metadata": {},
   "outputs": [],
   "source": []
  }
 ],
 "metadata": {
  "kernelspec": {
   "display_name": "Python 3 (ipykernel)",
   "language": "python",
   "name": "python3"
  },
  "language_info": {
   "codemirror_mode": {
    "name": "ipython",
    "version": 3
   },
   "file_extension": ".py",
   "mimetype": "text/x-python",
   "name": "python",
   "nbconvert_exporter": "python",
   "pygments_lexer": "ipython3",
   "version": "3.10.6"
  }
 },
 "nbformat": 4,
 "nbformat_minor": 5
}
