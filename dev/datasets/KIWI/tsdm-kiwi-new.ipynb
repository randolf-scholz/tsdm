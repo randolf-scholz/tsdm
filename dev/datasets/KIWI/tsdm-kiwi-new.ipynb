{
 "cells": [
  {
   "cell_type": "code",
   "execution_count": null,
   "id": "20191951-beec-414a-b3c6-89dca8277ad2",
   "metadata": {
    "execution": {
     "iopub.execute_input": "2022-11-04T19:11:58.696629Z",
     "iopub.status.busy": "2022-11-04T19:11:58.696367Z",
     "iopub.status.idle": "2022-11-04T19:11:58.965821Z",
     "shell.execute_reply": "2022-11-04T19:11:58.965379Z",
     "shell.execute_reply.started": "2022-11-04T19:11:58.696596Z"
    },
    "tags": []
   },
   "outputs": [],
   "source": [
    "%config InteractiveShell.ast_node_interactivity='last_expr_or_assign'  # always print last expr.\n",
    "%config InlineBackend.figure_format = 'svg'\n",
    "%load_ext autoreload\n",
    "%autoreload 2\n",
    "%matplotlib inline"
   ]
  },
  {
   "cell_type": "code",
   "execution_count": null,
   "id": "71d6d898-643d-4a60-b993-5ec5f51a1284",
   "metadata": {
    "execution": {
     "iopub.execute_input": "2022-11-04T19:11:58.966826Z",
     "iopub.status.busy": "2022-11-04T19:11:58.966626Z",
     "iopub.status.idle": "2022-11-04T19:11:59.962773Z",
     "shell.execute_reply": "2022-11-04T19:11:59.962252Z",
     "shell.execute_reply.started": "2022-11-04T19:11:58.966816Z"
    },
    "tags": []
   },
   "outputs": [],
   "source": [
    "from pandas import DataFrame, Index, Series\n",
    "from torch.utils.data import Dataset as TorchDataset\n",
    "\n",
    "import tsdm\n",
    "from tsdm.datasets import TimeSeriesCollection\n",
    "from tsdm.random.samplers import HierarchicalSampler, SlidingWindowSampler"
   ]
  },
  {
   "cell_type": "code",
   "execution_count": null,
   "id": "6be3680d-aeaa-4abd-a715-c42d31abc218",
   "metadata": {
    "execution": {
     "iopub.execute_input": "2022-11-04T19:11:59.963501Z",
     "iopub.status.busy": "2022-11-04T19:11:59.963301Z",
     "iopub.status.idle": "2022-11-04T19:11:59.981923Z",
     "shell.execute_reply": "2022-11-04T19:11:59.981381Z",
     "shell.execute_reply.started": "2022-11-04T19:11:59.963491Z"
    },
    "tags": []
   },
   "outputs": [],
   "source": [
    "import logging\n",
    "\n",
    "logging.basicConfig(level=logging.INFO)"
   ]
  },
  {
   "cell_type": "code",
   "execution_count": null,
   "id": "d695b42b",
   "metadata": {
    "execution": {
     "iopub.execute_input": "2022-11-04T19:11:59.982674Z",
     "iopub.status.busy": "2022-11-04T19:11:59.982460Z",
     "iopub.status.idle": "2022-11-04T19:12:00.665828Z",
     "shell.execute_reply": "2022-11-04T19:12:00.665239Z",
     "shell.execute_reply.started": "2022-11-04T19:11:59.982658Z"
    },
    "tags": []
   },
   "outputs": [],
   "source": [
    "ds = tsdm.datasets.KIWI_RUNS()"
   ]
  },
  {
   "cell_type": "code",
   "execution_count": null,
   "id": "f9389f9c-7bc4-4f61-8ff8-774e1398b091",
   "metadata": {},
   "outputs": [],
   "source": [
    "ds.timeseries"
   ]
  },
  {
   "cell_type": "code",
   "execution_count": null,
   "id": "0cfa02aa-f3e3-4be2-a86b-c7a0cf2f33bf",
   "metadata": {},
   "outputs": [],
   "source": [
    "ds.timeseries"
   ]
  },
  {
   "cell_type": "code",
   "execution_count": null,
   "id": "9559b04f-7e1c-418c-bd02-05595ba47454",
   "metadata": {
    "execution": {
     "iopub.execute_input": "2022-11-04T19:12:00.667175Z",
     "iopub.status.busy": "2022-11-04T19:12:00.666878Z",
     "iopub.status.idle": "2022-11-04T19:12:00.695690Z",
     "shell.execute_reply": "2022-11-04T19:12:00.695115Z",
     "shell.execute_reply.started": "2022-11-04T19:12:00.667154Z"
    },
    "tags": []
   },
   "outputs": [],
   "source": [
    "ds.time_features.dtypes"
   ]
  },
  {
   "cell_type": "code",
   "execution_count": null,
   "id": "7d80d9de-cfde-4502-8f88-b842650cdaa7",
   "metadata": {},
   "outputs": [],
   "source": [
    "from tsdm.datasets import KIWI"
   ]
  },
  {
   "cell_type": "code",
   "execution_count": null,
   "id": "0974f5b3-46a2-4874-a8cb-2d085ed512e6",
   "metadata": {},
   "outputs": [],
   "source": [
    "ds = KIWI()\n",
    "ds"
   ]
  },
  {
   "cell_type": "code",
   "execution_count": null,
   "id": "a67be928-f987-443d-a14e-75fa06edf621",
   "metadata": {},
   "outputs": [],
   "source": [
    "ds.index"
   ]
  },
  {
   "cell_type": "code",
   "execution_count": null,
   "id": "de473727-3786-4e75-a642-0523d50b6cc0",
   "metadata": {},
   "outputs": [],
   "source": [
    "ds[439, 15325]"
   ]
  },
  {
   "cell_type": "code",
   "execution_count": null,
   "id": "4ccf4807-d19f-4af4-9b02-6d37f7c1862d",
   "metadata": {},
   "outputs": [],
   "source": []
  },
  {
   "cell_type": "code",
   "execution_count": null,
   "id": "b7305601-980d-40cf-8e3f-ce4b1e18404f",
   "metadata": {},
   "outputs": [],
   "source": []
  },
  {
   "cell_type": "code",
   "execution_count": null,
   "id": "c4a11cd0-71a8-4b64-b246-a754b5875fea",
   "metadata": {},
   "outputs": [],
   "source": []
  },
  {
   "cell_type": "code",
   "execution_count": null,
   "id": "4633d0b1-df21-4d34-9de1-67979aef0d8d",
   "metadata": {
    "execution": {
     "iopub.execute_input": "2022-11-04T19:12:00.697063Z",
     "iopub.status.busy": "2022-11-04T19:12:00.696525Z",
     "iopub.status.idle": "2022-11-04T19:12:00.725979Z",
     "shell.execute_reply": "2022-11-04T19:12:00.725472Z",
     "shell.execute_reply.started": "2022-11-04T19:12:00.697015Z"
    },
    "tags": []
   },
   "outputs": [],
   "source": [
    "TSC = TimeSeriesCollection(\n",
    "    index=ds.index,\n",
    "    timeseries=ds.timeseries,\n",
    "    metadata=ds.metadata,\n",
    "    time_features=ds.time_features,\n",
    "    value_features=ds.value_features,\n",
    "    metadata_features=ds.metadata_features,\n",
    ")"
   ]
  },
  {
   "cell_type": "markdown",
   "id": "e8e91e81-c5e5-4d71-9415-ba61b8614e46",
   "metadata": {},
   "source": [
    "## Sampler"
   ]
  },
  {
   "cell_type": "code",
   "execution_count": null,
   "id": "efd95902-a95d-419b-b991-ad806441073b",
   "metadata": {
    "execution": {
     "iopub.execute_input": "2022-11-04T19:12:00.728523Z",
     "iopub.status.busy": "2022-11-04T19:12:00.728261Z",
     "iopub.status.idle": "2022-11-04T19:12:00.771268Z",
     "shell.execute_reply": "2022-11-04T19:12:00.770808Z",
     "shell.execute_reply.started": "2022-11-04T19:12:00.728505Z"
    },
    "tags": []
   },
   "outputs": [],
   "source": [
    "ts = ds.timeseries.loc[(439, 15325)]"
   ]
  },
  {
   "cell_type": "code",
   "execution_count": null,
   "id": "f6dd2d2a-a7fd-4166-9626-1e3789bfb8a3",
   "metadata": {
    "execution": {
     "iopub.execute_input": "2022-11-04T19:12:00.772327Z",
     "iopub.status.busy": "2022-11-04T19:12:00.771925Z",
     "iopub.status.idle": "2022-11-04T19:12:00.796936Z",
     "shell.execute_reply": "2022-11-04T19:12:00.796360Z",
     "shell.execute_reply.started": "2022-11-04T19:12:00.772302Z"
    },
    "tags": []
   },
   "outputs": [],
   "source": [
    "sampler = SlidingWindowSampler(ts.index, horizons=[\"2h\", \"1h\"], stride=\"1h\")"
   ]
  },
  {
   "cell_type": "code",
   "execution_count": null,
   "id": "2b74748f-97f9-4bba-9a7c-b1e3be49a607",
   "metadata": {
    "execution": {
     "iopub.execute_input": "2022-11-04T19:12:00.798391Z",
     "iopub.status.busy": "2022-11-04T19:12:00.798085Z",
     "iopub.status.idle": "2022-11-04T19:12:00.820434Z",
     "shell.execute_reply": "2022-11-04T19:12:00.820060Z",
     "shell.execute_reply.started": "2022-11-04T19:12:00.798378Z"
    },
    "tags": []
   },
   "outputs": [],
   "source": [
    "next(iter(sampler))"
   ]
  },
  {
   "cell_type": "markdown",
   "id": "b219160a-32f8-425d-8a7f-45de6e7fadbe",
   "metadata": {},
   "source": [
    "## Construct the Sampler"
   ]
  },
  {
   "cell_type": "code",
   "execution_count": null,
   "id": "43ee6e08-bec7-4a0d-b2f7-60dd7809195d",
   "metadata": {
    "execution": {
     "iopub.execute_input": "2022-11-04T19:12:00.821078Z",
     "iopub.status.busy": "2022-11-04T19:12:00.820914Z",
     "iopub.status.idle": "2022-11-04T19:12:00.843762Z",
     "shell.execute_reply": "2022-11-04T19:12:00.843407Z",
     "shell.execute_reply.started": "2022-11-04T19:12:00.821066Z"
    },
    "tags": []
   },
   "outputs": [],
   "source": [
    "TSC"
   ]
  },
  {
   "cell_type": "code",
   "execution_count": null,
   "id": "2ce0855f-fd9b-4d4c-aed6-e9f2b8aee1f7",
   "metadata": {
    "execution": {
     "iopub.execute_input": "2022-11-04T19:12:00.844427Z",
     "iopub.status.busy": "2022-11-04T19:12:00.844228Z",
     "iopub.status.idle": "2022-11-04T19:12:00.867349Z",
     "shell.execute_reply": "2022-11-04T19:12:00.866889Z",
     "shell.execute_reply.started": "2022-11-04T19:12:00.844403Z"
    },
    "tags": []
   },
   "outputs": [],
   "source": [
    "from torch.utils.data import RandomSampler, SubsetRandomSampler"
   ]
  },
  {
   "cell_type": "code",
   "execution_count": null,
   "id": "58d423e1-21a5-40c3-a1dd-208d628e2615",
   "metadata": {
    "execution": {
     "iopub.execute_input": "2022-11-04T19:12:00.868335Z",
     "iopub.status.busy": "2022-11-04T19:12:00.868093Z",
     "iopub.status.idle": "2022-11-04T19:12:00.890789Z",
     "shell.execute_reply": "2022-11-04T19:12:00.890223Z",
     "shell.execute_reply.started": "2022-11-04T19:12:00.868319Z"
    },
    "tags": []
   },
   "outputs": [],
   "source": [
    "next(iter(SubsetRandomSampler(TSC.index)))"
   ]
  },
  {
   "cell_type": "code",
   "execution_count": null,
   "id": "279c8037-4aca-40fb-935d-18ad475f42df",
   "metadata": {
    "execution": {
     "iopub.execute_input": "2022-11-04T19:12:00.891453Z",
     "iopub.status.busy": "2022-11-04T19:12:00.891325Z",
     "iopub.status.idle": "2022-11-04T19:12:00.926992Z",
     "shell.execute_reply": "2022-11-04T19:12:00.926455Z",
     "shell.execute_reply.started": "2022-11-04T19:12:00.891442Z"
    },
    "tags": []
   },
   "outputs": [],
   "source": [
    "TSC[(439, 15325)]"
   ]
  },
  {
   "cell_type": "code",
   "execution_count": null,
   "id": "0384afb0-25d9-467f-bf14-a29eb03f091b",
   "metadata": {
    "execution": {
     "iopub.execute_input": "2022-11-04T19:12:00.927841Z",
     "iopub.status.busy": "2022-11-04T19:12:00.927656Z",
     "iopub.status.idle": "2022-11-04T19:12:01.571629Z",
     "shell.execute_reply": "2022-11-04T19:12:01.571109Z",
     "shell.execute_reply.started": "2022-11-04T19:12:00.927822Z"
    },
    "tags": []
   },
   "outputs": [],
   "source": [
    "subsamplers = {\n",
    "    key: SlidingWindowSampler(ds.timeseries.index, horizons=[\"2h\", \"1h\"], stride=\"1h\")\n",
    "    for key, ds in TSC.items()\n",
    "}\n",
    "sampler = HierarchicalSampler(TSC, subsamplers, shuffle=False)"
   ]
  },
  {
   "cell_type": "code",
   "execution_count": null,
   "id": "bb5a3769-0073-4baf-ae49-e91b33b24bb7",
   "metadata": {
    "execution": {
     "iopub.execute_input": "2022-11-04T19:12:01.572363Z",
     "iopub.status.busy": "2022-11-04T19:12:01.572218Z",
     "iopub.status.idle": "2022-11-04T19:12:01.590825Z",
     "shell.execute_reply": "2022-11-04T19:12:01.590179Z",
     "shell.execute_reply.started": "2022-11-04T19:12:01.572351Z"
    },
    "tags": []
   },
   "outputs": [],
   "source": [
    "outer_key, (forecasting_horizon, prediction_horizon) = next(iter(sampler))"
   ]
  },
  {
   "cell_type": "code",
   "execution_count": null,
   "id": "c1ecc647-69a2-42de-952d-c229fcbeef01",
   "metadata": {
    "execution": {
     "iopub.execute_input": "2022-11-04T19:12:01.591528Z",
     "iopub.status.busy": "2022-11-04T19:12:01.591413Z",
     "iopub.status.idle": "2022-11-04T19:12:01.627203Z",
     "shell.execute_reply": "2022-11-04T19:12:01.626868Z",
     "shell.execute_reply.started": "2022-11-04T19:12:01.591519Z"
    },
    "tags": []
   },
   "outputs": [],
   "source": [
    "TSC[outer_key][forecasting_horizon]"
   ]
  },
  {
   "cell_type": "markdown",
   "id": "e2cb2ce9-e485-47ff-a6b0-836931f1b127",
   "metadata": {},
   "source": [
    "# TimeSeriesCollectionForecastingTask"
   ]
  },
  {
   "cell_type": "code",
   "execution_count": null,
   "id": "4c31eb35-d161-4f97-82f5-6fd16c99d8f6",
   "metadata": {
    "execution": {
     "iopub.execute_input": "2022-11-04T19:12:01.627811Z",
     "iopub.status.busy": "2022-11-04T19:12:01.627632Z",
     "iopub.status.idle": "2022-11-04T19:12:01.647835Z",
     "shell.execute_reply": "2022-11-04T19:12:01.647396Z",
     "shell.execute_reply.started": "2022-11-04T19:12:01.627799Z"
    }
   },
   "outputs": [],
   "source": [
    "TSC"
   ]
  },
  {
   "cell_type": "code",
   "execution_count": null,
   "id": "508a1a20-d989-4bdc-b446-aaa2db89bda3",
   "metadata": {
    "execution": {
     "iopub.execute_input": "2022-11-04T19:12:01.648520Z",
     "iopub.status.busy": "2022-11-04T19:12:01.648348Z",
     "iopub.status.idle": "2022-11-04T19:12:01.669743Z",
     "shell.execute_reply": "2022-11-04T19:12:01.669200Z",
     "shell.execute_reply.started": "2022-11-04T19:12:01.648509Z"
    },
    "tags": []
   },
   "outputs": [],
   "source": [
    "from tsdm.tasks import TimeSeriesCollectionTask\n",
    "\n",
    "targets = [\"Base\", \"DOT\", \"Glucose\", \"OD600\"]\n",
    "observables = [\n",
    "    \"Base\",\n",
    "    \"DOT\",\n",
    "    \"Glucose\",\n",
    "    \"OD600\",\n",
    "    \"Acetate\",\n",
    "    \"Fluo_GFP\",\n",
    "    \"pH\",\n",
    "]\n",
    "covariates = [\n",
    "    \"Cumulated_feed_volume_glucose\",\n",
    "    \"Cumulated_feed_volume_medium\",\n",
    "    \"InducerConcentration\",\n",
    "    \"StirringSpeed\",\n",
    "    \"Flow_Air\",\n",
    "    \"Temperature\",\n",
    "    \"Probe_Volume\",\n",
    "]"
   ]
  },
  {
   "cell_type": "code",
   "execution_count": null,
   "id": "a3dddf42-f2e0-4a8f-b9c8-59218a1f139d",
   "metadata": {
    "execution": {
     "iopub.execute_input": "2022-11-04T19:12:01.670569Z",
     "iopub.status.busy": "2022-11-04T19:12:01.670400Z",
     "iopub.status.idle": "2022-11-04T19:12:01.705386Z",
     "shell.execute_reply": "2022-11-04T19:12:01.704892Z",
     "shell.execute_reply.started": "2022-11-04T19:12:01.670557Z"
    },
    "tags": []
   },
   "outputs": [],
   "source": [
    "key = next(iter(sampler))\n",
    "outer_key, (observation_horizon, forecasting_horizon) = key\n",
    "TSC[outer_key][observation_horizon]"
   ]
  },
  {
   "cell_type": "code",
   "execution_count": null,
   "id": "33cbe739-2e1a-4cd2-b756-8e083d9ef3ee",
   "metadata": {
    "execution": {
     "iopub.execute_input": "2022-11-04T19:12:01.706385Z",
     "iopub.status.busy": "2022-11-04T19:12:01.706204Z",
     "iopub.status.idle": "2022-11-04T19:12:01.741021Z",
     "shell.execute_reply": "2022-11-04T19:12:01.740632Z",
     "shell.execute_reply.started": "2022-11-04T19:12:01.706355Z"
    },
    "tags": []
   },
   "outputs": [],
   "source": [
    "task = TimeSeriesCollectionTask(\n",
    "    TSC,\n",
    "    targets=targets,\n",
    "    observables=observables,\n",
    "    covariates=covariates,\n",
    "    sample_format=(\"masked\", \"sparse\"),\n",
    ")\n",
    "sample = task[key]"
   ]
  },
  {
   "cell_type": "code",
   "execution_count": null,
   "id": "1dedbe10-bb18-4df8-8595-0f7194b64bc2",
   "metadata": {
    "execution": {
     "iopub.execute_input": "2022-11-04T19:12:01.741716Z",
     "iopub.status.busy": "2022-11-04T19:12:01.741544Z",
     "iopub.status.idle": "2022-11-04T19:12:01.767629Z",
     "shell.execute_reply": "2022-11-04T19:12:01.766822Z",
     "shell.execute_reply.started": "2022-11-04T19:12:01.741704Z"
    },
    "tags": []
   },
   "outputs": [],
   "source": [
    "sample.inputs.metadata"
   ]
  },
  {
   "cell_type": "code",
   "execution_count": null,
   "id": "ff730e68-2cfd-4ff5-b23d-fb641367b398",
   "metadata": {
    "execution": {
     "iopub.execute_input": "2022-11-04T19:12:01.771039Z",
     "iopub.status.busy": "2022-11-04T19:12:01.770698Z",
     "iopub.status.idle": "2022-11-04T19:12:01.985459Z",
     "shell.execute_reply": "2022-11-04T19:12:01.984759Z",
     "shell.execute_reply.started": "2022-11-04T19:12:01.771003Z"
    },
    "tags": []
   },
   "outputs": [],
   "source": [
    "TSC.metadata.at[[(439, 15325), (439, 15326)]]"
   ]
  },
  {
   "cell_type": "code",
   "execution_count": null,
   "id": "77a1fda4-15d8-4291-b6de-9a98b75ecb33",
   "metadata": {
    "execution": {
     "iopub.status.busy": "2022-11-04T19:12:01.986038Z",
     "iopub.status.idle": "2022-11-04T19:12:01.986206Z",
     "shell.execute_reply": "2022-11-04T19:12:01.986129Z",
     "shell.execute_reply.started": "2022-11-04T19:12:01.986121Z"
    }
   },
   "outputs": [],
   "source": [
    "raise"
   ]
  },
  {
   "cell_type": "code",
   "execution_count": null,
   "id": "62abd56d-dbb3-4de4-bb92-0a552e5765b1",
   "metadata": {
    "execution": {
     "iopub.status.busy": "2022-11-04T19:12:01.986992Z",
     "iopub.status.idle": "2022-11-04T19:12:01.987139Z",
     "shell.execute_reply": "2022-11-04T19:12:01.987071Z",
     "shell.execute_reply.started": "2022-11-04T19:12:01.987064Z"
    }
   },
   "outputs": [],
   "source": [
    "if sample.inputs.t_target is not None:\n",
    "    diff = sample.inputs.t_target.index.difference(sample.targets.y.index)\n",
    "    sample.inputs.t_target.drop(diff, inplace=True)\n",
    "sample"
   ]
  },
  {
   "cell_type": "code",
   "execution_count": null,
   "id": "e733c93e-ac41-4c6b-b7cb-f08dd69cdac7",
   "metadata": {
    "execution": {
     "iopub.status.busy": "2022-11-04T19:12:01.987690Z",
     "iopub.status.idle": "2022-11-04T19:12:01.987911Z",
     "shell.execute_reply": "2022-11-04T19:12:01.987791Z",
     "shell.execute_reply.started": "2022-11-04T19:12:01.987784Z"
    }
   },
   "outputs": [],
   "source": [
    "raise"
   ]
  },
  {
   "cell_type": "code",
   "execution_count": null,
   "id": "ca5d1e4f-410e-466d-a4ad-ce084ab47aaa",
   "metadata": {
    "execution": {
     "iopub.status.busy": "2022-11-04T19:12:01.988714Z",
     "iopub.status.idle": "2022-11-04T19:12:01.988883Z",
     "shell.execute_reply": "2022-11-04T19:12:01.988806Z",
     "shell.execute_reply.started": "2022-11-04T19:12:01.988798Z"
    },
    "tags": []
   },
   "outputs": [],
   "source": [
    "diff = sample.inputs.t_target.index.difference(sample.targets.y.index)\n",
    "sample.inputs.t_target.drop(diff, inplace=True)\n",
    "sample"
   ]
  },
  {
   "cell_type": "code",
   "execution_count": null,
   "id": "17fde7ae-4be9-44ae-a2c4-c7e90448ac4b",
   "metadata": {
    "execution": {
     "iopub.status.busy": "2022-11-04T19:12:01.989804Z",
     "iopub.status.idle": "2022-11-04T19:12:01.989987Z",
     "shell.execute_reply": "2022-11-04T19:12:01.989909Z",
     "shell.execute_reply.started": "2022-11-04T19:12:01.989901Z"
    }
   },
   "outputs": [],
   "source": [
    "raise"
   ]
  },
  {
   "cell_type": "markdown",
   "id": "d36d7806-3b49-4f26-91b0-bd308e651396",
   "metadata": {},
   "source": [
    "# Mapping Dataset"
   ]
  },
  {
   "cell_type": "code",
   "execution_count": null,
   "id": "7d14ab4f-58ae-42bd-8d2e-a18a60b1248b",
   "metadata": {
    "execution": {
     "iopub.status.busy": "2022-11-04T19:12:01.990515Z",
     "iopub.status.idle": "2022-11-04T19:12:01.990655Z",
     "shell.execute_reply": "2022-11-04T19:12:01.990591Z",
     "shell.execute_reply.started": "2022-11-04T19:12:01.990585Z"
    },
    "tags": []
   },
   "outputs": [],
   "source": [
    "d = dict(enumerate(\"asdfghjkl\"))"
   ]
  },
  {
   "cell_type": "code",
   "execution_count": null,
   "id": "7d6fc26a-a7b5-4807-ad93-6baad3664ceb",
   "metadata": {
    "execution": {
     "iopub.status.busy": "2022-11-04T19:12:01.991274Z",
     "iopub.status.idle": "2022-11-04T19:12:01.991410Z",
     "shell.execute_reply": "2022-11-04T19:12:01.991347Z",
     "shell.execute_reply.started": "2022-11-04T19:12:01.991341Z"
    },
    "tags": []
   },
   "outputs": [],
   "source": [
    "from collections.abc import Mapping\n",
    "from dataclasses import dataclass\n",
    "\n",
    "from torch.utils.data import Dataset"
   ]
  },
  {
   "cell_type": "code",
   "execution_count": null,
   "id": "9c58945f-54cc-4b5b-be23-4b1b73ac4877",
   "metadata": {
    "execution": {
     "iopub.status.busy": "2022-11-04T19:12:01.992198Z",
     "iopub.status.idle": "2022-11-04T19:12:01.992360Z",
     "shell.execute_reply": "2022-11-04T19:12:01.992286Z",
     "shell.execute_reply.started": "2022-11-04T19:12:01.992279Z"
    },
    "tags": []
   },
   "outputs": [],
   "source": [
    "@dataclass\n",
    "class MyMapping(Dataset, Mapping):\n",
    "    internal_dict: dict\n",
    "\n",
    "    def __iter__(self):\n",
    "        return iter(self.internal_dict)\n",
    "\n",
    "    def __getitem__(self, key):\n",
    "        return self.internal_dict[key]\n",
    "\n",
    "    def __len__(self):\n",
    "        return len(self.internal_dict)"
   ]
  },
  {
   "cell_type": "code",
   "execution_count": null,
   "id": "010228c4-ed98-4958-becd-c8646e3681ec",
   "metadata": {
    "execution": {
     "iopub.status.busy": "2022-11-04T19:12:01.993113Z",
     "iopub.status.idle": "2022-11-04T19:12:01.993357Z",
     "shell.execute_reply": "2022-11-04T19:12:01.993252Z",
     "shell.execute_reply.started": "2022-11-04T19:12:01.993241Z"
    },
    "tags": []
   },
   "outputs": [],
   "source": [
    "from torch.utils.data import DataLoader\n",
    "\n",
    "dataloader = DataLoader(MyMapping(d))"
   ]
  },
  {
   "cell_type": "code",
   "execution_count": null,
   "id": "1c961a18-66d1-4b99-a1b4-46fdf12a3311",
   "metadata": {},
   "outputs": [],
   "source": []
  },
  {
   "cell_type": "code",
   "execution_count": null,
   "id": "d96010ec-5762-4d3d-acdb-b23e7a3f5717",
   "metadata": {},
   "outputs": [],
   "source": []
  },
  {
   "cell_type": "code",
   "execution_count": null,
   "id": "c432b694-6a00-4269-8688-b807061ca921",
   "metadata": {},
   "outputs": [],
   "source": [
    "from typing import Any, Callable, Sequence\n",
    "\n",
    "\n",
    "def flatten_dict(\n",
    "    d: dict[str, Any],\n",
    "    /,\n",
    "    *,\n",
    "    recursive: bool = True,\n",
    "    join_fn: Callable[[Sequence[str]], str] = \".\".join,\n",
    ") -> dict[str, Any]:\n",
    "    r\"\"\"Flatten dictionaries recursively.\"\"\"\n",
    "    result = {}\n",
    "    for key, item in d.items():\n",
    "        if isinstance(item, dict) and recursive:\n",
    "            subdict = flatten_dict(item, recursive=True, join_fn=join_fn)\n",
    "            for subkey, subitem in subdict.items():\n",
    "                result[join_fn((key, subkey))] = subitem\n",
    "        else:\n",
    "            result[key] = item\n",
    "    return result\n",
    "\n",
    "\n",
    "def unflatten_dict(\n",
    "    d: dict[str, Any],\n",
    "    /,\n",
    "    *,\n",
    "    recursive: bool = True,\n",
    "    split_fn: Callable[[str], Sequence[str]] = lambda s: s.split(\".\", maxsplit=1),\n",
    ") -> dict[str, Any]:\n",
    "    r\"\"\"Unflatten dictionaries recursively.\"\"\"\n",
    "    result = {}\n",
    "    for key, item in d.items():\n",
    "        split = split_fn(key)\n",
    "        result.setdefault(split[0], {})\n",
    "        if len(split) > 1 and recursive:\n",
    "            assert len(split) == 2\n",
    "            subdict = unflatten_dict(\n",
    "                {split[1]: item}, recursive=recursive, split_fn=split_fn\n",
    "            )\n",
    "            result[split[0]] |= subdict\n",
    "        else:\n",
    "            result[split[0]] = item\n",
    "    return result\n",
    "\n",
    "\n",
    "a = {\n",
    "    \"a\": True,\n",
    "    \"b\": 42,\n",
    "    \"c\": \"foo\",\n",
    "    \"foo\": {\"a\": 1, \"b\": 2, \"c\": 3},\n",
    "    \"bar\": {\"a\": {\"a\": 1}, \"b\": {\"a\": 1}, \"c\": {\"a\": 1}},\n",
    "    \"baz\": {\"a\": True, \"b\": 2},  # <-- does not work!\n",
    "}\n",
    "\n",
    "print(flat := flatten_dict(a))\n",
    "print(unflat := unflatten_dict(a))\n",
    "assert unflat == a"
   ]
  },
  {
   "cell_type": "code",
   "execution_count": null,
   "id": "fdfe587a-9f2d-4fb7-b29d-cd85d8f30d62",
   "metadata": {},
   "outputs": [],
   "source": [
    "flat"
   ]
  },
  {
   "cell_type": "code",
   "execution_count": null,
   "id": "20385cb7-6254-4f2a-a927-05293482ae25",
   "metadata": {},
   "outputs": [],
   "source": [
    "unflatten_dict(flat)"
   ]
  },
  {
   "cell_type": "code",
   "execution_count": null,
   "id": "94d402b5-155e-45f0-a1d6-269b7e95e2dd",
   "metadata": {},
   "outputs": [],
   "source": [
    "\"a\".split(\".\")"
   ]
  },
  {
   "cell_type": "code",
   "execution_count": null,
   "id": "cbb9ae7e-bd86-49ce-a26c-c46fdbc261db",
   "metadata": {},
   "outputs": [],
   "source": [
    "dir(\".\")"
   ]
  },
  {
   "cell_type": "code",
   "execution_count": null,
   "id": "4c6918b2-9140-43a5-945b-e451a7a971b2",
   "metadata": {},
   "outputs": [],
   "source": []
  }
 ],
 "metadata": {
  "kernelspec": {
   "display_name": "Python 3 (ipykernel)",
   "language": "python",
   "name": "python3"
  },
  "language_info": {
   "codemirror_mode": {
    "name": "ipython",
    "version": 3
   },
   "file_extension": ".py",
   "mimetype": "text/x-python",
   "name": "python",
   "nbconvert_exporter": "python",
   "pygments_lexer": "ipython3",
   "version": "3.10.6"
  }
 },
 "nbformat": 4,
 "nbformat_minor": 5
}
