{
 "cells": [
  {
   "cell_type": "markdown",
   "id": "05fa9448-f0ce-4435-9ab4-148f3b304c23",
   "metadata": {},
   "source": [
    "# Improved Dataset Pipeline"
   ]
  },
  {
   "cell_type": "code",
   "execution_count": null,
   "id": "20191951-beec-414a-b3c6-89dca8277ad2",
   "metadata": {
    "execution": {
     "iopub.execute_input": "2022-10-18T16:04:29.349817Z",
     "iopub.status.busy": "2022-10-18T16:04:29.349677Z",
     "iopub.status.idle": "2022-10-18T16:04:29.642681Z",
     "shell.execute_reply": "2022-10-18T16:04:29.642238Z",
     "shell.execute_reply.started": "2022-10-18T16:04:29.349781Z"
    },
    "tags": []
   },
   "outputs": [],
   "source": [
    "%config InteractiveShell.ast_node_interactivity='last_expr_or_assign'  # always print last expr.\n",
    "%config InlineBackend.figure_format = 'svg'\n",
    "%load_ext autoreload\n",
    "%autoreload 2\n",
    "%matplotlib inline"
   ]
  },
  {
   "cell_type": "code",
   "execution_count": null,
   "id": "699f07e5-2af0-4bbf-a2b9-544ae0ad0a87",
   "metadata": {
    "execution": {
     "iopub.execute_input": "2022-10-18T16:04:29.643679Z",
     "iopub.status.busy": "2022-10-18T16:04:29.643512Z",
     "iopub.status.idle": "2022-10-18T16:04:30.712160Z",
     "shell.execute_reply": "2022-10-18T16:04:30.711697Z",
     "shell.execute_reply.started": "2022-10-18T16:04:29.643669Z"
    }
   },
   "outputs": [],
   "source": [
    "import pickle\n",
    "\n",
    "import numpy as np\n",
    "import pandas as pd\n",
    "from pandas import DataFrame, Series\n",
    "\n",
    "import tsdm\n",
    "from tsdm.random.stats import data_overview"
   ]
  },
  {
   "cell_type": "code",
   "execution_count": null,
   "id": "bec0fb97-aa06-4d71-9c9d-ca2e427ed164",
   "metadata": {
    "execution": {
     "iopub.execute_input": "2022-10-18T16:06:24.720871Z",
     "iopub.status.busy": "2022-10-18T16:06:24.720592Z",
     "iopub.status.idle": "2022-10-18T16:06:24.752501Z",
     "shell.execute_reply": "2022-10-18T16:06:24.751703Z",
     "shell.execute_reply.started": "2022-10-18T16:06:24.720852Z"
    },
    "tags": []
   },
   "outputs": [],
   "source": [
    "# fmt: off\n",
    "column_dtypes = {\n",
    "    \"metadata\": {\n",
    "        # \"experiment_id\"          : \"Int32\",\n",
    "        \"bioreactor_id\"          : \"Int32\",\n",
    "        \"container_number\"       : \"Int32\",\n",
    "        \"profile_id\"             : \"Int32\",\n",
    "        \"starter_culture_id\"     : \"Int32\",\n",
    "        \"inactivation_method_id\" : \"Int32\",\n",
    "        \"description_x\"          : \"string[pyarrow]\",\n",
    "        \"color\"                  : \"string[pyarrow]\",\n",
    "        \"profile_name\"           : \"string[pyarrow]\",\n",
    "        \"folder_id_x\"            : \"Int32\",\n",
    "        \"organism_id\"            : \"Int32\",\n",
    "        \"plasmid_id\"             : \"Int32\",\n",
    "        \"medium_id\"              : \"Int32\",\n",
    "        \"description_y\"          : \"string[pyarrow]\",\n",
    "        # \"run_id\"                 : \"Int32\",\n",
    "        \"Acetate_Dilution\"       : \"Int32\",\n",
    "        \"Feed_concentration_glc\" : \"Int32\",\n",
    "        \"InducerConcentration\"   : \"Int32\",\n",
    "        \"OD_Dilution\"            : \"Int32\",\n",
    "        \"Stir_Max_Restarts\"      : \"Int32\",\n",
    "        \"pH_correction_factor\"   : \"Float32\",\n",
    "        \"ph_Base_conc\"           : \"Float32\",\n",
    "        \"ph_Ki\"                  : \"Float32\",\n",
    "        \"ph_Kp\"                  : \"Float32\",\n",
    "        \"ph_Tolerance\"           : \"Float32\",\n",
    "        \"run_name\"               : \"string[pyarrow]\",\n",
    "        \"folder_id_y\"            : \"Int32\",\n",
    "        \"pms_id\"                 : \"Int32\",\n",
    "        \"status_id\"              : \"Int32\",\n",
    "        \"start_time\"             : \"datetime64[ns]\",\n",
    "        \"end_time\"               : \"datetime64[ns]\",\n",
    "        \"description\"            : \"string[pyarrow]\",\n",
    "        \"conclusion\"             : \"string[pyarrow]\",\n",
    "        \"container_label\"        : \"string[pyarrow]\",\n",
    "        \"is_template\"            : \"Int32\",\n",
    "        \"Glucose_Dilution\"       : \"Int32\",\n",
    "        \"ph_Acid_conc\"           : \"Int32\",\n",
    "        # added columns\n",
    "        \"μ_set\"                  : \"Int32\",\n",
    "        \"IPTG\"                   : \"Float32\",\n",
    "    },\n",
    "    \"timeseries\": {\n",
    "        # \"measurement_time\"              : \"datetime64[ns]\",\n",
    "        \"unit\"                            : \"string[pyarrow]\",\n",
    "        \"Flow_Air\"                        : \"Int32\",\n",
    "        \"Flow_Nitrogen\"                   : \"Int32\",\n",
    "        \"Flow_O2\"                         : \"Int32\",\n",
    "        \"StirringSpeed\"                   : \"Int32\",\n",
    "        \"Temperature\"                     : \"Float32\",\n",
    "        \"Acetate\"                         : \"Float32\",\n",
    "        \"Base\"                            : \"Int32\",\n",
    "        \"Cumulated_feed_volume_glucose\"   : \"Int32\",\n",
    "        \"Cumulated_feed_volume_medium\"    : \"Float32\",\n",
    "        \"DOT\"                             : \"Float32\",\n",
    "        \"Fluo_GFP\"                        : \"Float32\",\n",
    "        \"Glucose\"                         : \"Float32\",\n",
    "        \"OD600\"                           : \"Float32\",\n",
    "        \"Probe_Volume\"                    : \"Int32\",\n",
    "        \"pH\"                              : \"Float32\",\n",
    "        \"InducerConcentration\"            : \"Float32\",\n",
    "        \"remark\"                          : \"string\",\n",
    "        \"Volume\"                          : \"Float32\",\n",
    "        \"Acid\"                            : \"Int32\",\n",
    "    },\n",
    "    \"setpoints\" : {\n",
    "        \"cultivation_age\"             : \"Int32\",\n",
    "        \"setpoint_id\"                 : \"Int32\",\n",
    "        \"unit\"                        : \"string[pyarrow]\",\n",
    "        \"Feed_glc_cum_setpoints\"      : \"Int32\",\n",
    "        \"Flow_Air\"                    : \"Int32\",\n",
    "        \"InducerConcentration\"        : \"Float32\",\n",
    "        \"Puls_AceticAcid\"             : \"Int32\",\n",
    "        \"Puls_Glucose\"                : \"Int32\",\n",
    "        \"Puls_Medium\"                 : \"Int32\",\n",
    "        \"StirringSpeed\"               : \"Int32\",\n",
    "        \"pH\"                          : \"Float32\",\n",
    "        \"Flow_Nitrogen\"               : \"Int32\",\n",
    "        \"Flow_O2\"                     : \"Int32\",\n",
    "        \"Feed_dextrine_cum_setpoints\" : \"Int32\",\n",
    "        \"Temperature\"                 : \"Int32\",\n",
    "    },\n",
    "    \"metadata_features\" : {\n",
    "        \"unit\"  : \"string[pyarrow]\",\n",
    "        \"scale\" : \"string[pyarrow]\",\n",
    "        \"lower\" : \"Float32\",\n",
    "        \"upper\" : \"Float32\",\n",
    "    },\n",
    "    \"timeseries_features\" : {\n",
    "        \"unit\"  : \"string[pyarrow]\",\n",
    "        \"scale\" : \"string[pyarrow]\",\n",
    "        \"lower\" : \"Float32\",\n",
    "        \"upper\" : \"Float32\",\n",
    "    },\n",
    "    \"setpoints_features\" : {\n",
    "        \"unit\"  : \"string[pyarrow]\",\n",
    "        \"scale\" : \"string[pyarrow]\",\n",
    "        \"lower\" : \"Float32\",\n",
    "        \"upper\" : \"Float32\",\n",
    "    },\n",
    "}\n",
    "# fmt: on\n",
    "\n",
    "# fmt: off\n",
    "selected_columns = {\n",
    "    \"metadata\" : {\n",
    "        # \"experiment_id\"          : True,\n",
    "        \"bioreactor_id\"          : True,\n",
    "        \"container_number\"       : True,\n",
    "        \"profile_id\"             : False,\n",
    "        \"description_x\"          : False,\n",
    "        \"color\"                  : True,\n",
    "        \"profile_name\"           : True,\n",
    "        \"plasmid_id\"             : True,\n",
    "        # \"run_id\"                 : True,\n",
    "        \"Feed_concentration_glc\" : True,\n",
    "        \"OD_Dilution\"            : True,\n",
    "        \"pH_correction_factor\"   : True,\n",
    "        \"ph_Tolerance\"           : True,\n",
    "        \"run_name\"               : False,\n",
    "        \"folder_id_y\"            : False,\n",
    "        \"start_time\"             : False,\n",
    "        \"end_time\"               : False,\n",
    "        \"description\"            : False,\n",
    "        \"μ_set\"                  : True,\n",
    "        \"IPTG\"                   : True,\n",
    "    },\n",
    "    \"setpoints\": {\n",
    "        \"cultivation_age\"             : False,\n",
    "        \"setpoint_id\"                 : False,\n",
    "        \"unit\"                        : False,\n",
    "        \"Feed_glc_cum_setpoints\"      : True,\n",
    "        \"Flow_Air\"                    : True,\n",
    "        \"InducerConcentration\"        : True,\n",
    "        \"Puls_AceticAcid\"             : False,\n",
    "        \"Puls_Glucose\"                : False,\n",
    "        \"Puls_Medium\"                 : False,\n",
    "        \"StirringSpeed\"               : True,\n",
    "        \"pH\"                          : True,\n",
    "        \"Flow_Nitrogen\"               : False,\n",
    "        \"Flow_O2\"                     : False,\n",
    "        \"Feed_dextrine_cum_setpoints\" : False,\n",
    "        \"Temperature\"                 : False,\n",
    "    },\n",
    "    \"timeseries\" :  {\n",
    "        \"unit\"                          : False,\n",
    "        \"Flow_Air\"                      : True,\n",
    "        \"Flow_Nitrogen\"                 : False,\n",
    "        \"Flow_O2\"                       : False,\n",
    "        \"StirringSpeed\"                 : True,\n",
    "        \"Temperature\"                   : True,\n",
    "        \"Acetate\"                       : True,\n",
    "        \"Base\"                          : True,\n",
    "        \"Cumulated_feed_volume_glucose\" : True,\n",
    "        \"Cumulated_feed_volume_medium\"  : True,\n",
    "        \"DOT\"                           : True,\n",
    "        \"Fluo_GFP\"                      : True,\n",
    "        \"Glucose\"                       : True,\n",
    "        \"OD600\"                         : True,\n",
    "        \"Probe_Volume\"                  : True,\n",
    "        \"pH\"                            : True,\n",
    "        \"InducerConcentration\"          : True,\n",
    "        \"remark\"                        : False,\n",
    "        \"Volume\"                        : True,\n",
    "        \"Acid\"                          : False,\n",
    "    }\n",
    "}\n",
    "# fmt: on\n",
    "\n",
    "# fmt: off\n",
    "metadata_features = {\n",
    "    # column                   [unit, scale, lower bound, upper bound]\n",
    "    \"bioreactor_id\"          : [pd.NA, \"category\", pd.NA, pd.NA],\n",
    "    \"container_number\"       : [pd.NA, \"category\", pd.NA, pd.NA],\n",
    "    \"color\"                  : [pd.NA, \"category\", pd.NA, pd.NA],\n",
    "    \"profile_name\"           : [pd.NA, \"category\", pd.NA, pd.NA],\n",
    "    \"plasmid_id\"             : [pd.NA, \"category\", pd.NA, pd.NA],\n",
    "    \"Feed_concentration_glc\" : [\"g/L\", \"absolute\", pd.NA, pd.NA],\n",
    "    \"OD_Dilution\"            : [\"%\",   \"percent\",  0,     100  ],\n",
    "    \"pH_correction_factor\"   : [pd.NA, \"factor\",   0,     None ],\n",
    "    \"ph_Tolerance\"           : [pd.NA, \"linear\",   0,     None ],\n",
    "    \"μ_set\"                  : [\"%\",   \"percent\",  0,     100  ],\n",
    "    \"IPTG\"                   : [\"mM\",  \"absolute\", 0,     None ],\n",
    "}\n",
    "# fmt: on\n",
    "\n",
    "# fmt: off\n",
    "timeseries_features = {\n",
    "    \"Acetate\"                       : [\"%\",      \"percent\",   0,   2.5      ],\n",
    "    \"Base\"                          : [\"uL\",     \"absolute\",  0,   None     ],\n",
    "    \"Cumulated_feed_volume_glucose\" : [\"uL\",     \"absolute\",  0,   None     ],\n",
    "    \"Cumulated_feed_volume_medium\"  : [\"uL\",     \"absolute\",  0,   None     ],\n",
    "    \"DOT\"                           : [\"%\",      \"percent\",   0,   100      ],\n",
    "    \"Flow_Air\"                      : [\"Ln/min\", \"absolute\",  0,   None     ],\n",
    "    \"Fluo_GFP\"                      : [\"RFU\",    \"absolute\",  0,   1_000_000],\n",
    "    \"Glucose\"                       : [\"g/L\",    \"absolute\",  0,   20       ],\n",
    "    \"InducerConcentration\"          : [\"mM\",     \"absolute\",  0,   None     ],\n",
    "    \"OD600\"                         : [\"%\",      \"percent\",   0,   100      ],\n",
    "    \"Probe_Volume\"                  : [\"uL\",     \"absolute\",  0,   None     ],\n",
    "    \"StirringSpeed\"                 : [\"U/min\",  \"absolute\",  0,   None     ],\n",
    "    \"Temperature\"                   : [\"°C\",     \"linear\",    20,  45       ],\n",
    "    \"Volume\"                        : [\"mL\",     \"absolute\",  0,   None     ],\n",
    "    \"pH\"                            : [\"pH\",     \"linear\",    4,   10       ],\n",
    "}\n",
    "# fmt: on"
   ]
  },
  {
   "cell_type": "code",
   "execution_count": null,
   "id": "1862636d-677f-4f35-98d0-5ec84cdff3ce",
   "metadata": {
    "execution": {
     "iopub.execute_input": "2022-10-18T16:04:30.748959Z",
     "iopub.status.busy": "2022-10-18T16:04:30.748802Z",
     "iopub.status.idle": "2022-10-18T16:04:30.776461Z",
     "shell.execute_reply": "2022-10-18T16:04:30.775304Z",
     "shell.execute_reply.started": "2022-10-18T16:04:30.748947Z"
    },
    "tags": []
   },
   "outputs": [],
   "source": [
    "def float_is_int(series: Series) -> bool:\n",
    "    r\"\"\"Check if all float values are integers.\"\"\"\n",
    "    mask = pd.notna(series)\n",
    "    return series[mask].apply(float.is_integer).all()\n",
    "\n",
    "\n",
    "def get_integer_cols(table: DataFrame) -> set[str]:\n",
    "    r\"\"\"Get all columns that contain only integers.\"\"\"\n",
    "    cols = set()\n",
    "    for col in table:\n",
    "        if np.issubdtype(table[col].dtype, np.integer):\n",
    "            # __logger__.debug(\"Integer column                       : %s\", col)\n",
    "            cols.add(col)\n",
    "        elif np.issubdtype(table[col].dtype, np.floating) and float_is_int(table[col]):\n",
    "            # __logger__.debug(\"Integer column pretending to be float: %s\", col)\n",
    "            cols.add(col)\n",
    "    return cols"
   ]
  },
  {
   "cell_type": "code",
   "execution_count": null,
   "id": "d695b42b",
   "metadata": {
    "execution": {
     "iopub.execute_input": "2022-10-18T16:04:30.777246Z",
     "iopub.status.busy": "2022-10-18T16:04:30.777119Z",
     "iopub.status.idle": "2022-10-18T16:04:30.803761Z",
     "shell.execute_reply": "2022-10-18T16:04:30.802626Z",
     "shell.execute_reply.started": "2022-10-18T16:04:30.777235Z"
    },
    "tags": []
   },
   "outputs": [],
   "source": [
    "ds = tsdm.datasets.KIWI_RUNS(initialize=False)"
   ]
  },
  {
   "cell_type": "code",
   "execution_count": null,
   "id": "8ec8945f-fad1-4ca9-8a42-f4ffd90336b2",
   "metadata": {
    "execution": {
     "iopub.execute_input": "2022-10-18T16:04:30.805626Z",
     "iopub.status.busy": "2022-10-18T16:04:30.805376Z",
     "iopub.status.idle": "2022-10-18T16:04:31.167474Z",
     "shell.execute_reply": "2022-10-18T16:04:31.167007Z",
     "shell.execute_reply.started": "2022-10-18T16:04:30.805610Z"
    },
    "tags": []
   },
   "outputs": [],
   "source": [
    "with open(ds.rawdata_paths, \"rb\") as file:\n",
    "    ds.LOGGER.info(\"Loading raw data from %s\", ds.rawdata_paths)\n",
    "    data = pickle.load(file)"
   ]
  },
  {
   "cell_type": "code",
   "execution_count": null,
   "id": "ee7d1c73-c0a6-40b4-8b45-30ea3537086e",
   "metadata": {
    "execution": {
     "iopub.execute_input": "2022-10-18T16:04:31.168908Z",
     "iopub.status.busy": "2022-10-18T16:04:31.168724Z",
     "iopub.status.idle": "2022-10-18T16:04:31.189298Z",
     "shell.execute_reply": "2022-10-18T16:04:31.188413Z",
     "shell.execute_reply.started": "2022-10-18T16:04:31.168897Z"
    },
    "tags": []
   },
   "outputs": [],
   "source": [
    "data.keys()"
   ]
  },
  {
   "cell_type": "code",
   "execution_count": null,
   "id": "48dda4c8-8e52-4068-996a-73ab2c2e4a06",
   "metadata": {
    "execution": {
     "iopub.execute_input": "2022-10-18T16:04:31.190019Z",
     "iopub.status.busy": "2022-10-18T16:04:31.189846Z",
     "iopub.status.idle": "2022-10-18T16:04:31.213064Z",
     "shell.execute_reply": "2022-10-18T16:04:31.212595Z",
     "shell.execute_reply.started": "2022-10-18T16:04:31.190007Z"
    },
    "tags": []
   },
   "outputs": [],
   "source": [
    "data[439].keys()"
   ]
  },
  {
   "cell_type": "code",
   "execution_count": null,
   "id": "795e55ff-1212-467b-a475-b35cfd278480",
   "metadata": {
    "execution": {
     "iopub.execute_input": "2022-10-18T16:04:31.213734Z",
     "iopub.status.busy": "2022-10-18T16:04:31.213598Z",
     "iopub.status.idle": "2022-10-18T16:04:31.237661Z",
     "shell.execute_reply": "2022-10-18T16:04:31.237195Z",
     "shell.execute_reply.started": "2022-10-18T16:04:31.213723Z"
    },
    "tags": []
   },
   "outputs": [],
   "source": [
    "data[439][15325].keys()"
   ]
  },
  {
   "cell_type": "code",
   "execution_count": null,
   "id": "4026eb17-9994-49b7-a5c8-be8b182a2ab1",
   "metadata": {
    "execution": {
     "iopub.execute_input": "2022-10-18T16:04:31.238424Z",
     "iopub.status.busy": "2022-10-18T16:04:31.238279Z",
     "iopub.status.idle": "2022-10-18T16:04:31.276474Z",
     "shell.execute_reply": "2022-10-18T16:04:31.276026Z",
     "shell.execute_reply.started": "2022-10-18T16:04:31.238411Z"
    },
    "tags": []
   },
   "outputs": [],
   "source": [
    "data[439][15325][\"metadata\"]"
   ]
  },
  {
   "cell_type": "markdown",
   "id": "87abcad9-67d2-4c03-b4d3-438d6e0f2c58",
   "metadata": {},
   "source": [
    "# Metadata"
   ]
  },
  {
   "cell_type": "markdown",
   "id": "0c5ba234-2c70-4600-99f8-15ce435bf257",
   "metadata": {},
   "source": [
    "## Implementation"
   ]
  },
  {
   "cell_type": "code",
   "execution_count": null,
   "id": "0dd83332-9256-489e-9ac3-45f893fb6c95",
   "metadata": {
    "execution": {
     "iopub.execute_input": "2022-10-18T16:04:31.277446Z",
     "iopub.status.busy": "2022-10-18T16:04:31.277290Z",
     "iopub.status.idle": "2022-10-18T16:04:31.546901Z",
     "shell.execute_reply": "2022-10-18T16:04:31.546267Z",
     "shell.execute_reply.started": "2022-10-18T16:04:31.277432Z"
    },
    "tags": []
   },
   "outputs": [],
   "source": [
    "metadata = {\n",
    "    (outer_key, inner_key): tables[\"metadata\"]\n",
    "    for outer_key, experiment in data.items()\n",
    "    for inner_key, tables in experiment.items()\n",
    "}\n",
    "metadata = pd.concat(metadata, names=[\"run_id\", \"exp_id\"])\n",
    "\n",
    "# generate μ_set column\n",
    "mu_sets = metadata[\"description_x\"].str.split(\" \", expand=True)\n",
    "mu_sets = mu_sets.astype(\"string[pyarrow]\")\n",
    "mu_sets.columns = [\"name\", \"percent\", \"amount\", \"unit\", \"chemical\"]\n",
    "mu_sets[\"percent\"] = mu_sets[\"percent\"].str.split(\"%\", expand=True)[0]\n",
    "metadata[\"μ_set\"] = mu_sets[\"percent\"]\n",
    "metadata[\"IPTG\"] = mu_sets[\"amount\"]\n",
    "\n",
    "# cast dtypes\n",
    "metadata = metadata.astype(column_dtypes[\"metadata\"])\n",
    "\n",
    "# validate units of μ-set\n",
    "mask = mu_sets[\"amount\"].notna()\n",
    "mu_set_unit = list(mu_sets[\"unit\"].loc[mask].unique())\n",
    "assert len(mu_set_unit) == 1\n",
    "assert mu_set_unit[0] == \"mM\"\n",
    "\n",
    "tmin = metadata[\"start_time\"]\n",
    "tmax = metadata[\"end_time\"]\n",
    "# tmin.to_parquet(self.dataset_paths[\"tmin\"])\n",
    "# tmax.to_parquet(self.dataset_paths[\"tmax\"])\n",
    "\n",
    "columns = [key for key, val in selected_columns[\"metadata\"].items() if val]\n",
    "metadata = metadata[columns]\n",
    "# metadata.to_parquet(self.dataset_paths[\"metadata\"])\n",
    "\n",
    "# metadata_features\n",
    "assert set(metadata_features) == set(metadata)\n",
    "metadata_features = DataFrame.from_dict(\n",
    "    metadata_features,\n",
    "    orient=\"index\",\n",
    "    columns=column_dtypes[\"metadata_features\"],\n",
    ")\n",
    "metadata_features = metadata_features.astype(column_dtypes[\"metadata_features\"])\n",
    "# metadata_features.to_parquet(self.dataset_paths[\"metadata_features\"])"
   ]
  },
  {
   "cell_type": "markdown",
   "id": "946b6d50-adad-40fe-9332-e295bd736487",
   "metadata": {},
   "source": [
    "## Manual"
   ]
  },
  {
   "cell_type": "code",
   "execution_count": null,
   "id": "4567b273-23d3-4a1b-be85-427d93c8254f",
   "metadata": {
    "execution": {
     "iopub.execute_input": "2022-10-18T16:04:31.547594Z",
     "iopub.status.busy": "2022-10-18T16:04:31.547451Z",
     "iopub.status.idle": "2022-10-18T16:04:31.780715Z",
     "shell.execute_reply": "2022-10-18T16:04:31.780321Z",
     "shell.execute_reply.started": "2022-10-18T16:04:31.547583Z"
    },
    "tags": []
   },
   "outputs": [],
   "source": [
    "metadata = {\n",
    "    (outer_key, inner_key): tables[\"metadata\"]\n",
    "    for outer_key, experiment in data.items()\n",
    "    for inner_key, tables in experiment.items()\n",
    "}\n",
    "\n",
    "metadata = pd.concat(metadata, names=[\"run_id\", \"exp_id\"])\n",
    "metadata = metadata.drop(columns=[\"run_id\", \"experiment_id\"])\n",
    "\n",
    "mu_sets = metadata[\"description_x\"].str.split(\" \", expand=True)\n",
    "mu_sets = mu_sets.astype(\"string[pyarrow]\")\n",
    "mu_sets.columns = [\"name\", \"percent\", \"amount\", \"unit\", \"chemical\"]\n",
    "mu_sets[\"percent\"] = mu_sets[\"percent\"].str.split(\"%\", expand=True)[0]\n",
    "metadata[\"μ_set\"] = mu_sets[\"percent\"]\n",
    "metadata[\"IPTG\"] = mu_sets[\"amount\"]"
   ]
  },
  {
   "cell_type": "code",
   "execution_count": null,
   "id": "4fce2038-d7af-42f3-9df4-a1b837cf3ac0",
   "metadata": {
    "execution": {
     "iopub.execute_input": "2022-10-18T16:04:31.781344Z",
     "iopub.status.busy": "2022-10-18T16:04:31.781192Z",
     "iopub.status.idle": "2022-10-18T16:04:31.832721Z",
     "shell.execute_reply": "2022-10-18T16:04:31.832296Z",
     "shell.execute_reply.started": "2022-10-18T16:04:31.781333Z"
    },
    "tags": []
   },
   "outputs": [],
   "source": [
    "metadata = metadata.astype(column_dtypes[\"metadata\"])\n",
    "tmin = metadata[\"start_time\"]\n",
    "tmax = metadata[\"end_time\"]\n",
    "data_overview(metadata)"
   ]
  },
  {
   "cell_type": "code",
   "execution_count": null,
   "id": "c0cc63bd-c5c2-44f7-8d61-023418cbdf91",
   "metadata": {
    "execution": {
     "iopub.execute_input": "2022-10-18T16:04:31.833330Z",
     "iopub.status.busy": "2022-10-18T16:04:31.833212Z",
     "iopub.status.idle": "2022-10-18T16:04:31.859283Z",
     "shell.execute_reply": "2022-10-18T16:04:31.858513Z",
     "shell.execute_reply.started": "2022-10-18T16:04:31.833319Z"
    }
   },
   "outputs": [],
   "source": [
    "units = {}\n",
    "mask = mu_sets[\"amount\"].notna()\n",
    "mu_set_unit = list(mu_sets[\"unit\"].loc[mask].unique())\n",
    "assert len(mu_set_unit) == 1\n",
    "units[\"IPTG\"] = mu_set_unit[0]\n",
    "units[\"μ_set\"] = \"%\""
   ]
  },
  {
   "cell_type": "code",
   "execution_count": null,
   "id": "9281c01f-bed1-41c1-a245-7ed9b0269872",
   "metadata": {
    "execution": {
     "iopub.execute_input": "2022-10-18T16:04:31.859991Z",
     "iopub.status.busy": "2022-10-18T16:04:31.859852Z",
     "iopub.status.idle": "2022-10-18T16:04:31.897763Z",
     "shell.execute_reply": "2022-10-18T16:04:31.897361Z",
     "shell.execute_reply.started": "2022-10-18T16:04:31.859979Z"
    },
    "tags": []
   },
   "outputs": [],
   "source": [
    "columns = [key for key, val in selected_columns[\"metadata\"].items() if val]\n",
    "metadata = metadata[columns]\n",
    "data_overview(metadata)"
   ]
  },
  {
   "cell_type": "markdown",
   "id": "c8ef3561-81f9-4a8b-9a48-944ef871c88b",
   "metadata": {},
   "source": [
    "## Metadata Features"
   ]
  },
  {
   "cell_type": "code",
   "execution_count": null,
   "id": "85ff8f33-2eeb-4bc9-b51a-0d8e6e379d97",
   "metadata": {
    "execution": {
     "iopub.execute_input": "2022-10-18T16:04:31.898467Z",
     "iopub.status.busy": "2022-10-18T16:04:31.898327Z",
     "iopub.status.idle": "2022-10-18T16:04:31.930799Z",
     "shell.execute_reply": "2022-10-18T16:04:31.930314Z",
     "shell.execute_reply.started": "2022-10-18T16:04:31.898456Z"
    },
    "tags": []
   },
   "outputs": [],
   "source": [
    "metadata_features = DataFrame.from_dict(\n",
    "    metadata_features, orient=\"index\", columns=column_dtypes[\"metadata_features\"]\n",
    ")\n",
    "metadata_features = metadata_features.astype(column_dtypes[\"metadata_features\"])"
   ]
  },
  {
   "cell_type": "code",
   "execution_count": null,
   "id": "c783e650-f060-428f-afef-15ac1081efab",
   "metadata": {
    "execution": {
     "iopub.execute_input": "2022-10-18T16:04:31.931490Z",
     "iopub.status.busy": "2022-10-18T16:04:31.931362Z",
     "iopub.status.idle": "2022-10-18T16:04:31.954483Z",
     "shell.execute_reply": "2022-10-18T16:04:31.953909Z",
     "shell.execute_reply.started": "2022-10-18T16:04:31.931478Z"
    }
   },
   "outputs": [],
   "source": [
    "# fmt: off\n",
    "units = {\n",
    "    \"bioreactor_id\"          : pd.NA,\n",
    "    \"container_number\"       : pd.NA,\n",
    "    \"color\"                  : pd.NA,\n",
    "    \"profile_name\"           : pd.NA,\n",
    "    \"plasmid_id\"             : pd.NA,\n",
    "    \"Feed_concentration_glc\" : \"g/L\",\n",
    "    \"OD_Dilution\"            : \"%\",\n",
    "    \"pH_correction_factor\"   : pd.NA,\n",
    "    \"ph_Tolerance\"           : pd.NA,\n",
    "    \"μ_set\"                  : \"%\",\n",
    "    \"IPTG\"                   : \"mM\",\n",
    "}\n",
    "\n",
    "bounds = {}\n",
    "# fmt: on"
   ]
  },
  {
   "cell_type": "markdown",
   "id": "93a7edc5-42d1-4a8c-90f5-bc6423adf8f8",
   "metadata": {},
   "source": [
    "# Setpoints"
   ]
  },
  {
   "cell_type": "code",
   "execution_count": null,
   "id": "ac7618ba-d4ee-4443-af1c-40a8d91e9384",
   "metadata": {
    "execution": {
     "iopub.execute_input": "2022-10-18T16:15:39.138087Z",
     "iopub.status.busy": "2022-10-18T16:15:39.137743Z",
     "iopub.status.idle": "2022-10-18T16:15:39.292392Z",
     "shell.execute_reply": "2022-10-18T16:15:39.291788Z",
     "shell.execute_reply.started": "2022-10-18T16:15:39.138063Z"
    },
    "tags": []
   },
   "outputs": [],
   "source": [
    "setpoints = {\n",
    "    (outer_key, inner_key): tables[\"setpoints\"]\n",
    "    for outer_key, experiment in data.items()\n",
    "    for inner_key, tables in experiment.items()\n",
    "}\n",
    "\n",
    "setpoints = pd.concat(setpoints, names=[\"run_id\", \"exp_id\"], verify_integrity=True)\n",
    "setpoints = setpoints.reset_index(-1, drop=True)\n",
    "\n",
    "setpoints = setpoints.astype(column_dtypes[\"setpoints\"])\n",
    "setpoints[\"unit\"] = setpoints[\"unit\"].replace(\"-\", pd.NA)\n",
    "setpoints = setpoints.set_index(\"cultivation_age\", append=True)"
   ]
  },
  {
   "cell_type": "markdown",
   "id": "7a81ed0c-b298-459e-a830-ac49afc03a05",
   "metadata": {},
   "source": [
    "### validate units - make sure units are always measured in the same quantity"
   ]
  },
  {
   "cell_type": "code",
   "execution_count": null,
   "id": "6d651565-9f87-43fa-9dc0-f26429058e5f",
   "metadata": {
    "execution": {
     "iopub.execute_input": "2022-10-18T16:04:32.142881Z",
     "iopub.status.busy": "2022-10-18T16:04:32.142659Z",
     "iopub.status.idle": "2022-10-18T16:04:32.167885Z",
     "shell.execute_reply": "2022-10-18T16:04:32.166889Z",
     "shell.execute_reply.started": "2022-10-18T16:04:32.142868Z"
    },
    "tags": []
   },
   "outputs": [],
   "source": [
    "values = [\n",
    "    \"Feed_glc_cum_setpoints\",\n",
    "    \"Flow_Air\",\n",
    "    \"InducerConcentration\",\n",
    "    \"Puls_AceticAcid\",\n",
    "    \"Puls_Glucose\",\n",
    "    \"Puls_Medium\",\n",
    "    \"StirringSpeed\",\n",
    "    \"pH\",\n",
    "    \"Flow_Nitrogen\",\n",
    "    \"Flow_O2\",\n",
    "    \"Feed_dextrine_cum_setpoints\",\n",
    "    \"Temperature\",\n",
    "]\n",
    "assert all(setpoints[values].notna().sum(axis=1) == 1), \"multiple measurements!\""
   ]
  },
  {
   "cell_type": "markdown",
   "id": "c6ffef0d-d2c6-4ad8-a3c5-7f167100d82b",
   "metadata": {
    "execution": {
     "iopub.execute_input": "2022-10-18T16:04:32.168880Z",
     "iopub.status.busy": "2022-10-18T16:04:32.168683Z",
     "iopub.status.idle": "2022-10-18T16:04:32.199080Z",
     "shell.execute_reply": "2022-10-18T16:04:32.198666Z",
     "shell.execute_reply.started": "2022-10-18T16:04:32.168866Z"
    },
    "tags": []
   },
   "source": [
    "### use the column of the notna values to look up unit values"
   ]
  },
  {
   "cell_type": "code",
   "execution_count": null,
   "id": "a6d2fe8f-42a2-4091-b07a-65ddcfda2d00",
   "metadata": {
    "execution": {
     "iopub.execute_input": "2022-10-18T16:04:32.168880Z",
     "iopub.status.busy": "2022-10-18T16:04:32.168683Z",
     "iopub.status.idle": "2022-10-18T16:04:32.199080Z",
     "shell.execute_reply": "2022-10-18T16:04:32.198666Z",
     "shell.execute_reply.started": "2022-10-18T16:04:32.168866Z"
    },
    "tags": []
   },
   "outputs": [],
   "source": [
    "units = {}\n",
    "for col in values:\n",
    "    mask = setpoints[col].notna()\n",
    "    units[col] = list(setpoints.loc[mask, \"unit\"].unique())\n",
    "    assert len(units[col]) == 1, f\"Multiple different units in {col}!\"\n",
    "\n",
    "units = Series({k: v[0] for k, v in units.items()}, dtype=\"string[pyarrow]\")\n",
    "units[\"pH\"] = \"pH\"\n",
    "units"
   ]
  },
  {
   "cell_type": "code",
   "execution_count": null,
   "id": "45df1dcc-6bf2-4b0b-80f1-7ab07eda6490",
   "metadata": {
    "execution": {
     "iopub.execute_input": "2022-10-18T16:04:32.201671Z",
     "iopub.status.busy": "2022-10-18T16:04:32.201434Z",
     "iopub.status.idle": "2022-10-18T16:04:32.234391Z",
     "shell.execute_reply": "2022-10-18T16:04:32.233894Z",
     "shell.execute_reply.started": "2022-10-18T16:04:32.201656Z"
    },
    "tags": []
   },
   "outputs": [],
   "source": [
    "columns = [key for key, val in selected_columns[\"setpoints\"].items() if val]\n",
    "setpoints = setpoints[columns]"
   ]
  },
  {
   "cell_type": "markdown",
   "id": "a061fbe2-3c2a-47a7-820d-8c3992cb1437",
   "metadata": {},
   "source": [
    "## Setpoint Features"
   ]
  },
  {
   "cell_type": "code",
   "execution_count": null,
   "id": "1787afc0-7de2-4f06-8483-2c8c09d909ca",
   "metadata": {
    "execution": {
     "iopub.execute_input": "2022-10-18T16:18:43.966843Z",
     "iopub.status.busy": "2022-10-18T16:18:43.966497Z",
     "iopub.status.idle": "2022-10-18T16:18:43.994058Z",
     "shell.execute_reply": "2022-10-18T16:18:43.992998Z",
     "shell.execute_reply.started": "2022-10-18T16:18:43.966823Z"
    },
    "tags": []
   },
   "outputs": [],
   "source": [
    "setpoints_features = DataFrame.from_dict(\n",
    "    setpoints_features, orient=\"index\", columns=column_dtypes[\"setpoints_features\"]\n",
    ")\n",
    "setpoints_features = setpoints_features.astype(column_dtypes[\"setpoints_features\"])"
   ]
  },
  {
   "cell_type": "markdown",
   "id": "8dd6996d-6eb5-4d31-86de-4e12b0f24a04",
   "metadata": {},
   "source": [
    "# Timeseries"
   ]
  },
  {
   "cell_type": "code",
   "execution_count": null,
   "id": "fbf3ee8c-dac7-4f5b-809d-7e4be078d02e",
   "metadata": {
    "execution": {
     "iopub.execute_input": "2022-10-18T16:04:32.235359Z",
     "iopub.status.busy": "2022-10-18T16:04:32.235201Z",
     "iopub.status.idle": "2022-10-18T16:04:32.590378Z",
     "shell.execute_reply": "2022-10-18T16:04:32.589969Z",
     "shell.execute_reply.started": "2022-10-18T16:04:32.235346Z"
    },
    "tags": []
   },
   "outputs": [],
   "source": [
    "measurements_aggregated = {\n",
    "    (outer_key, inner_key): tables[\"measurements_aggregated\"]\n",
    "    for outer_key, experiment in data.items()\n",
    "    for inner_key, tables in experiment.items()\n",
    "}\n",
    "\n",
    "measurements_aggregated = pd.concat(\n",
    "    measurements_aggregated, names=[\"run_id\", \"exp_id\"], verify_integrity=True\n",
    ")\n",
    "measurements_aggregated = measurements_aggregated.reset_index(-1, drop=True)\n",
    "measurements_aggregated = measurements_aggregated.set_index(\n",
    "    \"measurement_time\", append=True\n",
    ")"
   ]
  },
  {
   "cell_type": "code",
   "execution_count": null,
   "id": "561342c9-9847-44dc-86b5-9b89dca6652a",
   "metadata": {
    "execution": {
     "iopub.execute_input": "2022-10-18T16:04:32.591060Z",
     "iopub.status.busy": "2022-10-18T16:04:32.590917Z",
     "iopub.status.idle": "2022-10-18T16:04:33.468356Z",
     "shell.execute_reply": "2022-10-18T16:04:33.467837Z",
     "shell.execute_reply.started": "2022-10-18T16:04:32.591050Z"
    },
    "tags": []
   },
   "outputs": [],
   "source": [
    "measurements_aggregated = measurements_aggregated.astype(column_dtypes[\"timeseries\"])\n",
    "measurements_aggregated[\"unit\"].replace(\"-\", pd.NA, inplace=True)\n",
    "data_overview(measurements_aggregated, index_col=\"measurement_time\")"
   ]
  },
  {
   "cell_type": "markdown",
   "id": "32fd673e-a176-4ecd-940d-b6c46c54d124",
   "metadata": {},
   "source": [
    "## Fix units"
   ]
  },
  {
   "cell_type": "code",
   "execution_count": null,
   "id": "15f56565-786b-4dc7-bb1e-3681d6a1a246",
   "metadata": {
    "execution": {
     "iopub.execute_input": "2022-10-18T16:04:33.469491Z",
     "iopub.status.busy": "2022-10-18T16:04:33.469300Z",
     "iopub.status.idle": "2022-10-18T16:04:33.515095Z",
     "shell.execute_reply": "2022-10-18T16:04:33.514628Z",
     "shell.execute_reply.started": "2022-10-18T16:04:33.469481Z"
    },
    "tags": []
   },
   "outputs": [],
   "source": [
    "# use the column of the notna values to look up unit values\n",
    "values = measurements_aggregated[\"unit\"]\n",
    "units = {}\n",
    "for col in measurements_aggregated.columns.drop(\"unit\"):\n",
    "    mask = measurements_aggregated[col].notna()\n",
    "    units[col] = list(values.loc[mask].unique())\n",
    "    assert len(units[col]) == 1, f\"Multiple different units in {col}!\"\n",
    "\n",
    "units = Series({k: v[0] for k, v in units.items()}, dtype=\"string[pyarrow]\")\n",
    "units[[\"Acetate\", \"OD600\", \"DOT\", \"pH\"]] = [\"%\", \"%\", \"%\", \"pH\"]\n",
    "units"
   ]
  },
  {
   "cell_type": "code",
   "execution_count": null,
   "id": "a6cc638b-4cc1-4087-b998-5f8e86586ba8",
   "metadata": {
    "execution": {
     "iopub.execute_input": "2022-10-18T16:04:33.515854Z",
     "iopub.status.busy": "2022-10-18T16:04:33.515681Z",
     "iopub.status.idle": "2022-10-18T16:04:33.848916Z",
     "shell.execute_reply": "2022-10-18T16:04:33.848570Z",
     "shell.execute_reply.started": "2022-10-18T16:04:33.515840Z"
    },
    "tags": []
   },
   "outputs": [],
   "source": [
    "uniques_per_run_id = measurements_aggregated.groupby(\"run_id\").nunique()\n",
    "(uniques_per_run_id > 1).sum() > 1"
   ]
  },
  {
   "cell_type": "code",
   "execution_count": null,
   "id": "41b35d0b-3579-4119-a083-958b23b51099",
   "metadata": {
    "execution": {
     "iopub.execute_input": "2022-10-18T16:04:33.849631Z",
     "iopub.status.busy": "2022-10-18T16:04:33.849479Z",
     "iopub.status.idle": "2022-10-18T16:04:33.889304Z",
     "shell.execute_reply": "2022-10-18T16:04:33.888765Z",
     "shell.execute_reply.started": "2022-10-18T16:04:33.849618Z"
    },
    "tags": []
   },
   "outputs": [],
   "source": [
    "# fmt: off\n",
    "columns = [key for key, val in selected_columns[\"timeseries\"].items() if val]\n",
    "# fmt: on\n",
    "measurements_aggregated = measurements_aggregated[columns]"
   ]
  },
  {
   "cell_type": "markdown",
   "id": "9bf5cdc7-0f9b-45da-9e2a-6444d5f1e0d5",
   "metadata": {},
   "source": [
    "## Aggregate overlapping measurements excluding duplicates"
   ]
  },
  {
   "cell_type": "code",
   "execution_count": null,
   "id": "b06bc052-910b-45c6-89ef-98fd206e4cf2",
   "metadata": {
    "execution": {
     "iopub.execute_input": "2022-10-18T16:04:33.889962Z",
     "iopub.status.busy": "2022-10-18T16:04:33.889830Z",
     "iopub.status.idle": "2022-10-18T16:04:34.330153Z",
     "shell.execute_reply": "2022-10-18T16:04:34.329781Z",
     "shell.execute_reply.started": "2022-10-18T16:04:33.889951Z"
    }
   },
   "outputs": [],
   "source": [
    "measurements_aggregated.groupby([\"run_id\", \"exp_id\", \"measurement_time\"]).mean()"
   ]
  },
  {
   "cell_type": "code",
   "execution_count": null,
   "id": "d43e5b04-a460-467b-8de7-2cd2a0dc0eb5",
   "metadata": {
    "execution": {
     "iopub.execute_input": "2022-10-18T16:04:34.330755Z",
     "iopub.status.busy": "2022-10-18T16:04:34.330627Z",
     "iopub.status.idle": "2022-10-18T16:04:35.030252Z",
     "shell.execute_reply": "2022-10-18T16:04:35.029920Z",
     "shell.execute_reply.started": "2022-10-18T16:04:34.330744Z"
    },
    "tags": []
   },
   "outputs": [],
   "source": [
    "uniques_per_timestamp = measurements_aggregated.groupby(\n",
    "    [\"run_id\", \"exp_id\", \"measurement_time\"]\n",
    ").nunique()\n",
    "mask = (uniques_per_timestamp <= 1).all(axis=\"columns\")\n",
    "\n",
    "uniques_per_timestamp = measurements_aggregated.groupby(\n",
    "    [\"run_id\", \"exp_id\", \"measurement_time\"]\n",
    ").nunique()\n",
    "measurements_aggregated.loc[(439, 15325, \"2020-12-09 09:48:38\")]"
   ]
  },
  {
   "cell_type": "code",
   "execution_count": null,
   "id": "9258e08d-bcdd-4d09-a812-9cb95693e731",
   "metadata": {
    "execution": {
     "iopub.execute_input": "2022-10-18T16:04:35.030894Z",
     "iopub.status.busy": "2022-10-18T16:04:35.030754Z",
     "iopub.status.idle": "2022-10-18T16:04:35.617189Z",
     "shell.execute_reply": "2022-10-18T16:04:35.616704Z",
     "shell.execute_reply.started": "2022-10-18T16:04:35.030883Z"
    },
    "tags": []
   },
   "outputs": [],
   "source": [
    "df = (\n",
    "    measurements_aggregated.loc[mask]\n",
    "    .groupby([\"run_id\", \"exp_id\", \"measurement_time\"])\n",
    "    .mean()\n",
    ")\n",
    "pd.concat([df, measurements_aggregated.loc[~mask]]).sort_index()"
   ]
  },
  {
   "cell_type": "code",
   "execution_count": null,
   "id": "f14b4b23-60ee-46b6-bdc9-24ea1663763e",
   "metadata": {
    "execution": {
     "iopub.execute_input": "2022-10-18T16:04:35.618051Z",
     "iopub.status.busy": "2022-10-18T16:04:35.617875Z",
     "iopub.status.idle": "2022-10-18T16:04:35.640091Z",
     "shell.execute_reply": "2022-10-18T16:04:35.639756Z",
     "shell.execute_reply.started": "2022-10-18T16:04:35.618036Z"
    },
    "tags": []
   },
   "outputs": [],
   "source": [
    "columns = [key for key, val in selected_columns[\"timeseries\"].items() if val]\n",
    "units[columns]"
   ]
  },
  {
   "cell_type": "markdown",
   "id": "a198b34b-b58c-4d6a-8a33-64c51b90d3e9",
   "metadata": {},
   "source": [
    "## Timeseries Features"
   ]
  },
  {
   "cell_type": "code",
   "execution_count": null,
   "id": "05e2427c-efc4-465c-9cdc-9e17e9d33dac",
   "metadata": {
    "execution": {
     "iopub.execute_input": "2022-10-18T16:06:27.425125Z",
     "iopub.status.busy": "2022-10-18T16:06:27.424912Z",
     "iopub.status.idle": "2022-10-18T16:06:27.452355Z",
     "shell.execute_reply": "2022-10-18T16:06:27.451723Z",
     "shell.execute_reply.started": "2022-10-18T16:06:27.425111Z"
    },
    "tags": []
   },
   "outputs": [],
   "source": [
    "timeseries_features = DataFrame.from_dict(\n",
    "    timeseries_features, orient=\"index\", columns=column_dtypes[\"timeseries_features\"]\n",
    ")\n",
    "timeseries_features = timeseries_features.astype(column_dtypes[\"timeseries_features\"])"
   ]
  },
  {
   "cell_type": "markdown",
   "id": "878456ab-006b-43f5-8edb-55ab5135d8f8",
   "metadata": {},
   "source": [
    "# Measurements Reactor"
   ]
  },
  {
   "cell_type": "code",
   "execution_count": null,
   "id": "b197d3f5-8e21-41d2-8b38-d5fe3764e5d6",
   "metadata": {
    "execution": {
     "iopub.execute_input": "2022-10-18T16:04:35.640723Z",
     "iopub.status.busy": "2022-10-18T16:04:35.640572Z",
     "iopub.status.idle": "2022-10-18T16:04:35.936258Z",
     "shell.execute_reply": "2022-10-18T16:04:35.935247Z",
     "shell.execute_reply.started": "2022-10-18T16:04:35.640712Z"
    },
    "tags": []
   },
   "outputs": [],
   "source": [
    "measurements_reactor = {\n",
    "    (outer_key, inner_key): tables[\"measurements_reactor\"]\n",
    "    for outer_key, experiment in data.items()\n",
    "    for inner_key, tables in experiment.items()\n",
    "}\n",
    "\n",
    "measurements_reactor = pd.concat(\n",
    "    measurements_reactor, names=[\"run_id\", \"exp_id\"], verify_integrity=True\n",
    ")\n",
    "measurements_reactor = measurements_reactor.reset_index(-1, drop=True)"
   ]
  },
  {
   "cell_type": "markdown",
   "id": "6b1222a3-0644-4606-a55e-a7a182ffd56b",
   "metadata": {},
   "source": [
    "# Measurements Array"
   ]
  },
  {
   "cell_type": "code",
   "execution_count": null,
   "id": "8ae0c965-382f-4c25-b37a-5c6db778c121",
   "metadata": {
    "execution": {
     "iopub.execute_input": "2022-10-18T16:04:35.937339Z",
     "iopub.status.busy": "2022-10-18T16:04:35.937223Z",
     "iopub.status.idle": "2022-10-18T16:04:36.023969Z",
     "shell.execute_reply": "2022-10-18T16:04:36.023493Z",
     "shell.execute_reply.started": "2022-10-18T16:04:35.937329Z"
    },
    "tags": []
   },
   "outputs": [],
   "source": [
    "measurements_array = {\n",
    "    (outer_key, inner_key): tables[\"measurements_array\"]\n",
    "    for outer_key, experiment in data.items()\n",
    "    for inner_key, tables in experiment.items()\n",
    "}\n",
    "\n",
    "measurements_array = pd.concat(\n",
    "    measurements_array, names=[\"run_id\", \"exp_id\"], verify_integrity=True\n",
    ")\n",
    "measurements_array = measurements_array.reset_index(-1, drop=True)"
   ]
  }
 ],
 "metadata": {
  "kernelspec": {
   "display_name": "Python 3 (ipykernel)",
   "language": "python",
   "name": "python3"
  },
  "language_info": {
   "codemirror_mode": {
    "name": "ipython",
    "version": 3
   },
   "file_extension": ".py",
   "mimetype": "text/x-python",
   "name": "python",
   "nbconvert_exporter": "python",
   "pygments_lexer": "ipython3",
   "version": "3.10.6"
  }
 },
 "nbformat": 4,
 "nbformat_minor": 5
}
