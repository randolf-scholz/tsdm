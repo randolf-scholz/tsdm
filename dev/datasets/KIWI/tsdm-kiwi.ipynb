{
 "cells": [
  {
   "cell_type": "code",
   "execution_count": null,
   "id": "20191951-beec-414a-b3c6-89dca8277ad2",
   "metadata": {
    "execution": {
     "iopub.execute_input": "2022-10-19T17:52:14.814040Z",
     "iopub.status.busy": "2022-10-19T17:52:14.813820Z",
     "iopub.status.idle": "2022-10-19T17:52:15.112167Z",
     "shell.execute_reply": "2022-10-19T17:52:15.111768Z",
     "shell.execute_reply.started": "2022-10-19T17:52:14.813988Z"
    }
   },
   "outputs": [],
   "source": [
    "%config InteractiveShell.ast_node_interactivity='last_expr_or_assign'  # always print last expr.\n",
    "%config InlineBackend.figure_format = 'svg'\n",
    "%load_ext autoreload\n",
    "%autoreload 2\n",
    "%matplotlib inline"
   ]
  },
  {
   "cell_type": "code",
   "execution_count": null,
   "id": "58b7f6d7",
   "metadata": {
    "execution": {
     "iopub.execute_input": "2022-10-19T17:52:15.113036Z",
     "iopub.status.busy": "2022-10-19T17:52:15.112885Z",
     "iopub.status.idle": "2022-10-19T17:52:16.132351Z",
     "shell.execute_reply": "2022-10-19T17:52:16.131756Z",
     "shell.execute_reply.started": "2022-10-19T17:52:15.113025Z"
    },
    "tags": []
   },
   "outputs": [],
   "source": [
    "import tsdm\n",
    "import tsdm.datasets.kiwi_runs_new"
   ]
  },
  {
   "cell_type": "code",
   "execution_count": null,
   "id": "d695b42b",
   "metadata": {
    "execution": {
     "iopub.execute_input": "2022-10-19T17:52:16.133763Z",
     "iopub.status.busy": "2022-10-19T17:52:16.133365Z",
     "iopub.status.idle": "2022-10-19T17:52:16.248709Z",
     "shell.execute_reply": "2022-10-19T17:52:16.247891Z",
     "shell.execute_reply.started": "2022-10-19T17:52:16.133744Z"
    },
    "tags": []
   },
   "outputs": [],
   "source": [
    "ds = tsdm.datasets.kiwi_runs_new.KIWI_RUNS()"
   ]
  },
  {
   "cell_type": "code",
   "execution_count": null,
   "id": "78c5c7c3-f88b-41aa-b347-b816f379b09e",
   "metadata": {
    "execution": {
     "iopub.execute_input": "2022-10-19T17:52:38.538678Z",
     "iopub.status.busy": "2022-10-19T17:52:38.538455Z",
     "iopub.status.idle": "2022-10-19T17:52:38.573834Z",
     "shell.execute_reply": "2022-10-19T17:52:38.573448Z",
     "shell.execute_reply.started": "2022-10-19T17:52:38.538665Z"
    },
    "tags": []
   },
   "outputs": [],
   "source": [
    "ds.timeseries"
   ]
  }
 ],
 "metadata": {
  "kernelspec": {
   "display_name": "Python 3 (ipykernel)",
   "language": "python",
   "name": "python3"
  },
  "language_info": {
   "codemirror_mode": {
    "name": "ipython",
    "version": 3
   },
   "file_extension": ".py",
   "mimetype": "text/x-python",
   "name": "python",
   "nbconvert_exporter": "python",
   "pygments_lexer": "ipython3",
   "version": "3.10.6"
  }
 },
 "nbformat": 4,
 "nbformat_minor": 5
}
