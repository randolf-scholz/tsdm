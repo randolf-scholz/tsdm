{
 "cells": [
  {
   "cell_type": "code",
   "execution_count": null,
   "id": "20191951-beec-414a-b3c6-89dca8277ad2",
   "metadata": {
    "execution": {
     "iopub.execute_input": "2022-10-20T21:08:19.832438Z",
     "iopub.status.busy": "2022-10-20T21:08:19.832228Z",
     "iopub.status.idle": "2022-10-20T21:08:20.121978Z",
     "shell.execute_reply": "2022-10-20T21:08:20.121551Z",
     "shell.execute_reply.started": "2022-10-20T21:08:19.832405Z"
    },
    "tags": []
   },
   "outputs": [],
   "source": [
    "%config InteractiveShell.ast_node_interactivity='last_expr_or_assign'  # always print last expr.\n",
    "%config InlineBackend.figure_format = 'svg'\n",
    "%load_ext autoreload\n",
    "%autoreload 2\n",
    "%matplotlib inline"
   ]
  },
  {
   "cell_type": "code",
   "execution_count": null,
   "id": "6be3680d-aeaa-4abd-a715-c42d31abc218",
   "metadata": {
    "execution": {
     "iopub.execute_input": "2022-10-20T21:08:20.122556Z",
     "iopub.status.busy": "2022-10-20T21:08:20.122415Z",
     "iopub.status.idle": "2022-10-20T21:08:20.131122Z",
     "shell.execute_reply": "2022-10-20T21:08:20.130656Z",
     "shell.execute_reply.started": "2022-10-20T21:08:20.122545Z"
    },
    "tags": []
   },
   "outputs": [],
   "source": [
    "import logging\n",
    "\n",
    "logging.basicConfig(level=logging.INFO)"
   ]
  },
  {
   "cell_type": "code",
   "execution_count": null,
   "id": "58b7f6d7",
   "metadata": {
    "execution": {
     "iopub.execute_input": "2022-10-20T21:08:20.132371Z",
     "iopub.status.busy": "2022-10-20T21:08:20.132219Z",
     "iopub.status.idle": "2022-10-20T21:08:21.103366Z",
     "shell.execute_reply": "2022-10-20T21:08:21.102937Z",
     "shell.execute_reply.started": "2022-10-20T21:08:20.132356Z"
    },
    "tags": []
   },
   "outputs": [],
   "source": [
    "import tsdm"
   ]
  },
  {
   "cell_type": "code",
   "execution_count": null,
   "id": "d695b42b",
   "metadata": {
    "execution": {
     "iopub.execute_input": "2022-10-20T21:08:21.104045Z",
     "iopub.status.busy": "2022-10-20T21:08:21.103829Z",
     "iopub.status.idle": "2022-10-20T21:08:21.618499Z",
     "shell.execute_reply": "2022-10-20T21:08:21.617994Z",
     "shell.execute_reply.started": "2022-10-20T21:08:21.104034Z"
    },
    "tags": []
   },
   "outputs": [],
   "source": [
    "ds = tsdm.datasets.KIWI_RUNS()"
   ]
  },
  {
   "cell_type": "code",
   "execution_count": null,
   "id": "9559b04f-7e1c-418c-bd02-05595ba47454",
   "metadata": {
    "execution": {
     "iopub.execute_input": "2022-10-20T21:08:21.619836Z",
     "iopub.status.busy": "2022-10-20T21:08:21.619597Z",
     "iopub.status.idle": "2022-10-20T21:08:21.645886Z",
     "shell.execute_reply": "2022-10-20T21:08:21.645466Z",
     "shell.execute_reply.started": "2022-10-20T21:08:21.619819Z"
    },
    "tags": []
   },
   "outputs": [],
   "source": [
    "ds.time_features.dtypes"
   ]
  },
  {
   "cell_type": "code",
   "execution_count": null,
   "id": "2a7ee28c-abf4-4795-9e17-03443f007aa3",
   "metadata": {
    "execution": {
     "iopub.execute_input": "2022-10-20T21:08:21.646696Z",
     "iopub.status.busy": "2022-10-20T21:08:21.646491Z",
     "iopub.status.idle": "2022-10-20T21:08:21.669542Z",
     "shell.execute_reply": "2022-10-20T21:08:21.668992Z",
     "shell.execute_reply.started": "2022-10-20T21:08:21.646682Z"
    },
    "tags": []
   },
   "outputs": [],
   "source": [
    "from tsdm.datasets import TimeSeriesCollection"
   ]
  },
  {
   "cell_type": "code",
   "execution_count": null,
   "id": "4633d0b1-df21-4d34-9de1-67979aef0d8d",
   "metadata": {
    "execution": {
     "iopub.execute_input": "2022-10-20T21:08:21.670359Z",
     "iopub.status.busy": "2022-10-20T21:08:21.670186Z",
     "iopub.status.idle": "2022-10-20T21:08:21.698814Z",
     "shell.execute_reply": "2022-10-20T21:08:21.698210Z",
     "shell.execute_reply.started": "2022-10-20T21:08:21.670346Z"
    },
    "tags": []
   },
   "outputs": [],
   "source": [
    "TSC = TimeSeriesCollection(\n",
    "    ds.index,\n",
    "    ds.timeseries,\n",
    "    ds.metadata,\n",
    "    time_features=ds.time_features,\n",
    "    value_features=ds.value_features,\n",
    "    metadata_features=ds.metadata_features,\n",
    ")"
   ]
  },
  {
   "cell_type": "code",
   "execution_count": null,
   "id": "aa6a1c97-e354-4ca8-8f4d-44ef4f25e76c",
   "metadata": {
    "execution": {
     "iopub.execute_input": "2022-10-20T21:08:21.699558Z",
     "iopub.status.busy": "2022-10-20T21:08:21.699429Z",
     "iopub.status.idle": "2022-10-20T21:08:21.727859Z",
     "shell.execute_reply": "2022-10-20T21:08:21.727272Z",
     "shell.execute_reply.started": "2022-10-20T21:08:21.699546Z"
    },
    "tags": []
   },
   "outputs": [],
   "source": [
    "TSC[439, 15325]"
   ]
  },
  {
   "cell_type": "code",
   "execution_count": null,
   "id": "dc0993d3-3954-468d-9cab-47dffac88888",
   "metadata": {
    "execution": {
     "iopub.execute_input": "2022-10-20T21:08:44.481363Z",
     "iopub.status.busy": "2022-10-20T21:08:44.480718Z",
     "iopub.status.idle": "2022-10-20T21:08:44.504732Z",
     "shell.execute_reply": "2022-10-20T21:08:44.504205Z",
     "shell.execute_reply.started": "2022-10-20T21:08:44.481346Z"
    },
    "tags": []
   },
   "outputs": [],
   "source": [
    "TSC[439]"
   ]
  },
  {
   "cell_type": "code",
   "execution_count": null,
   "id": "122f06e6-e990-4bea-bddb-ea9b88de5100",
   "metadata": {
    "execution": {
     "iopub.execute_input": "2022-10-20T21:08:21.755229Z",
     "iopub.status.busy": "2022-10-20T21:08:21.755068Z",
     "iopub.status.idle": "2022-10-20T21:08:22.197004Z",
     "shell.execute_reply": "2022-10-20T21:08:22.196470Z",
     "shell.execute_reply.started": "2022-10-20T21:08:21.755215Z"
    },
    "tags": []
   },
   "outputs": [],
   "source": [
    "ds.timeseries.index.droplevel(-1).unique()"
   ]
  },
  {
   "cell_type": "code",
   "execution_count": null,
   "id": "e3db22fd-15e6-4974-85f2-9a5055a65bef",
   "metadata": {},
   "outputs": [],
   "source": []
  }
 ],
 "metadata": {
  "kernelspec": {
   "display_name": "Python 3 (ipykernel)",
   "language": "python",
   "name": "python3"
  },
  "language_info": {
   "codemirror_mode": {
    "name": "ipython",
    "version": 3
   },
   "file_extension": ".py",
   "mimetype": "text/x-python",
   "name": "python",
   "nbconvert_exporter": "python",
   "pygments_lexer": "ipython3",
   "version": "3.10.6"
  }
 },
 "nbformat": 4,
 "nbformat_minor": 5
}
