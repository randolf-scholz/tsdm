{
 "cells": [
  {
   "cell_type": "code",
   "execution_count": null,
   "id": "20191951-beec-414a-b3c6-89dca8277ad2",
   "metadata": {
    "execution": {
     "iopub.execute_input": "2022-10-20T16:34:36.121964Z",
     "iopub.status.busy": "2022-10-20T16:34:36.121743Z",
     "iopub.status.idle": "2022-10-20T16:34:36.399694Z",
     "shell.execute_reply": "2022-10-20T16:34:36.399306Z",
     "shell.execute_reply.started": "2022-10-20T16:34:36.121914Z"
    }
   },
   "outputs": [],
   "source": [
    "%config InteractiveShell.ast_node_interactivity='last_expr_or_assign'  # always print last expr.\n",
    "%config InlineBackend.figure_format = 'svg'\n",
    "%load_ext autoreload\n",
    "%autoreload 2\n",
    "%matplotlib inline"
   ]
  },
  {
   "cell_type": "code",
   "execution_count": null,
   "id": "6be3680d-aeaa-4abd-a715-c42d31abc218",
   "metadata": {
    "execution": {
     "iopub.execute_input": "2022-10-20T16:34:36.400594Z",
     "iopub.status.busy": "2022-10-20T16:34:36.400427Z",
     "iopub.status.idle": "2022-10-20T16:34:36.409807Z",
     "shell.execute_reply": "2022-10-20T16:34:36.408889Z",
     "shell.execute_reply.started": "2022-10-20T16:34:36.400584Z"
    }
   },
   "outputs": [],
   "source": [
    "import logging\n",
    "\n",
    "logging.basicConfig(level=logging.INFO)"
   ]
  },
  {
   "cell_type": "code",
   "execution_count": null,
   "id": "58b7f6d7",
   "metadata": {
    "execution": {
     "iopub.execute_input": "2022-10-20T16:34:36.410436Z",
     "iopub.status.busy": "2022-10-20T16:34:36.410310Z",
     "iopub.status.idle": "2022-10-20T16:34:37.407426Z",
     "shell.execute_reply": "2022-10-20T16:34:37.406977Z",
     "shell.execute_reply.started": "2022-10-20T16:34:36.410426Z"
    },
    "tags": []
   },
   "outputs": [],
   "source": [
    "import tsdm"
   ]
  },
  {
   "cell_type": "code",
   "execution_count": null,
   "id": "d695b42b",
   "metadata": {
    "execution": {
     "iopub.execute_input": "2022-10-20T16:34:37.408293Z",
     "iopub.status.busy": "2022-10-20T16:34:37.408025Z",
     "iopub.status.idle": "2022-10-20T16:34:41.934925Z",
     "shell.execute_reply": "2022-10-20T16:34:41.933969Z",
     "shell.execute_reply.started": "2022-10-20T16:34:37.408280Z"
    },
    "tags": []
   },
   "outputs": [],
   "source": [
    "ds = tsdm.datasets.KIWI_RUNS()"
   ]
  },
  {
   "cell_type": "code",
   "execution_count": null,
   "id": "7428cf0a-9481-44a5-8723-4af65ceb840a",
   "metadata": {
    "execution": {
     "iopub.execute_input": "2022-10-20T16:34:41.936334Z",
     "iopub.status.busy": "2022-10-20T16:34:41.935913Z",
     "iopub.status.idle": "2022-10-20T16:34:41.964738Z",
     "shell.execute_reply": "2022-10-20T16:34:41.963908Z",
     "shell.execute_reply.started": "2022-10-20T16:34:41.936278Z"
    },
    "tags": []
   },
   "outputs": [],
   "source": [
    "ds = tsdm.datasets.KIWI_RUNS(initialize=False)"
   ]
  },
  {
   "cell_type": "code",
   "execution_count": null,
   "id": "864eea4d-532f-415c-8725-80f019effe6f",
   "metadata": {
    "execution": {
     "iopub.execute_input": "2022-10-20T16:35:06.397704Z",
     "iopub.status.busy": "2022-10-20T16:35:06.397501Z",
     "iopub.status.idle": "2022-10-20T16:35:06.864748Z",
     "shell.execute_reply": "2022-10-20T16:35:06.864122Z",
     "shell.execute_reply.started": "2022-10-20T16:35:06.397690Z"
    },
    "tags": []
   },
   "outputs": [],
   "source": [
    "ds.index_features"
   ]
  },
  {
   "cell_type": "code",
   "execution_count": null,
   "id": "0c9d3015-f1ef-469d-89c4-1b960bfa41dd",
   "metadata": {
    "execution": {
     "iopub.execute_input": "2022-10-20T16:36:34.388019Z",
     "iopub.status.busy": "2022-10-20T16:36:34.387322Z",
     "iopub.status.idle": "2022-10-20T16:36:34.421207Z",
     "shell.execute_reply": "2022-10-20T16:36:34.420595Z",
     "shell.execute_reply.started": "2022-10-20T16:36:34.387969Z"
    },
    "tags": []
   },
   "outputs": [],
   "source": [
    "ds.index.to_"
   ]
  },
  {
   "cell_type": "code",
   "execution_count": null,
   "id": "0cdd34cb-67fc-45ee-b871-114a2a51115d",
   "metadata": {},
   "outputs": [],
   "source": []
  }
 ],
 "metadata": {
  "kernelspec": {
   "display_name": "Python 3 (ipykernel)",
   "language": "python",
   "name": "python3"
  },
  "language_info": {
   "codemirror_mode": {
    "name": "ipython",
    "version": 3
   },
   "file_extension": ".py",
   "mimetype": "text/x-python",
   "name": "python",
   "nbconvert_exporter": "python",
   "pygments_lexer": "ipython3",
   "version": "3.10.6"
  }
 },
 "nbformat": 4,
 "nbformat_minor": 5
}
