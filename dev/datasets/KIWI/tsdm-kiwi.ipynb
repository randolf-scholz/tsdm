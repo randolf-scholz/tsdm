{
 "cells": [
  {
   "cell_type": "code",
   "execution_count": null,
   "id": "20191951-beec-414a-b3c6-89dca8277ad2",
   "metadata": {
    "execution": {
     "iopub.execute_input": "2022-10-20T18:57:51.640257Z",
     "iopub.status.busy": "2022-10-20T18:57:51.639944Z",
     "iopub.status.idle": "2022-10-20T18:57:51.925236Z",
     "shell.execute_reply": "2022-10-20T18:57:51.924892Z",
     "shell.execute_reply.started": "2022-10-20T18:57:51.640206Z"
    },
    "tags": []
   },
   "outputs": [],
   "source": [
    "%config InteractiveShell.ast_node_interactivity='last_expr_or_assign'  # always print last expr.\n",
    "%config InlineBackend.figure_format = 'svg'\n",
    "%load_ext autoreload\n",
    "%autoreload 2\n",
    "%matplotlib inline"
   ]
  },
  {
   "cell_type": "code",
   "execution_count": null,
   "id": "6be3680d-aeaa-4abd-a715-c42d31abc218",
   "metadata": {
    "execution": {
     "iopub.execute_input": "2022-10-20T18:57:51.926389Z",
     "iopub.status.busy": "2022-10-20T18:57:51.926176Z",
     "iopub.status.idle": "2022-10-20T18:57:51.934875Z",
     "shell.execute_reply": "2022-10-20T18:57:51.934443Z",
     "shell.execute_reply.started": "2022-10-20T18:57:51.926369Z"
    },
    "tags": []
   },
   "outputs": [],
   "source": [
    "import logging\n",
    "\n",
    "logging.basicConfig(level=logging.INFO)"
   ]
  },
  {
   "cell_type": "code",
   "execution_count": null,
   "id": "58b7f6d7",
   "metadata": {
    "execution": {
     "iopub.execute_input": "2022-10-20T18:57:51.935653Z",
     "iopub.status.busy": "2022-10-20T18:57:51.935446Z",
     "iopub.status.idle": "2022-10-20T18:57:52.970070Z",
     "shell.execute_reply": "2022-10-20T18:57:52.969603Z",
     "shell.execute_reply.started": "2022-10-20T18:57:51.935639Z"
    },
    "tags": []
   },
   "outputs": [],
   "source": [
    "import tsdm"
   ]
  },
  {
   "cell_type": "code",
   "execution_count": null,
   "id": "d695b42b",
   "metadata": {
    "execution": {
     "iopub.execute_input": "2022-10-20T18:57:52.970827Z",
     "iopub.status.busy": "2022-10-20T18:57:52.970604Z",
     "iopub.status.idle": "2022-10-20T18:57:57.661768Z",
     "shell.execute_reply": "2022-10-20T18:57:57.661320Z",
     "shell.execute_reply.started": "2022-10-20T18:57:52.970815Z"
    },
    "tags": []
   },
   "outputs": [],
   "source": [
    "ds = tsdm.datasets.KIWI_RUNS()"
   ]
  },
  {
   "cell_type": "code",
   "execution_count": null,
   "id": "9559b04f-7e1c-418c-bd02-05595ba47454",
   "metadata": {
    "execution": {
     "iopub.execute_input": "2022-10-20T18:58:11.707151Z",
     "iopub.status.busy": "2022-10-20T18:58:11.706901Z",
     "iopub.status.idle": "2022-10-20T18:58:11.740576Z",
     "shell.execute_reply": "2022-10-20T18:58:11.739812Z",
     "shell.execute_reply.started": "2022-10-20T18:58:11.707127Z"
    },
    "tags": []
   },
   "outputs": [],
   "source": [
    "ds.timeseries"
   ]
  },
  {
   "cell_type": "code",
   "execution_count": null,
   "id": "2a7ee28c-abf4-4795-9e17-03443f007aa3",
   "metadata": {},
   "outputs": [],
   "source": []
  }
 ],
 "metadata": {
  "kernelspec": {
   "display_name": "Python 3 (ipykernel)",
   "language": "python",
   "name": "python3"
  },
  "language_info": {
   "codemirror_mode": {
    "name": "ipython",
    "version": 3
   },
   "file_extension": ".py",
   "mimetype": "text/x-python",
   "name": "python",
   "nbconvert_exporter": "python",
   "pygments_lexer": "ipython3",
   "version": "3.10.6"
  }
 },
 "nbformat": 4,
 "nbformat_minor": 5
}
