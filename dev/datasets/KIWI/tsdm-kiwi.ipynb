{
 "cells": [
  {
   "cell_type": "code",
   "execution_count": null,
   "id": "20191951-beec-414a-b3c6-89dca8277ad2",
   "metadata": {
    "execution": {
     "iopub.execute_input": "2022-10-20T13:00:56.126078Z",
     "iopub.status.busy": "2022-10-20T13:00:56.125889Z",
     "iopub.status.idle": "2022-10-20T13:00:56.511390Z",
     "shell.execute_reply": "2022-10-20T13:00:56.511048Z",
     "shell.execute_reply.started": "2022-10-20T13:00:56.126031Z"
    }
   },
   "outputs": [],
   "source": [
    "%config InteractiveShell.ast_node_interactivity='last_expr_or_assign'  # always print last expr.\n",
    "%config InlineBackend.figure_format = 'svg'\n",
    "%load_ext autoreload\n",
    "%autoreload 2\n",
    "%matplotlib inline"
   ]
  },
  {
   "cell_type": "code",
   "execution_count": null,
   "id": "58b7f6d7",
   "metadata": {
    "execution": {
     "iopub.execute_input": "2022-10-20T13:00:56.512298Z",
     "iopub.status.busy": "2022-10-20T13:00:56.512122Z",
     "iopub.status.idle": "2022-10-20T13:00:58.509631Z",
     "shell.execute_reply": "2022-10-20T13:00:58.508814Z",
     "shell.execute_reply.started": "2022-10-20T13:00:56.512286Z"
    },
    "tags": []
   },
   "outputs": [],
   "source": [
    "import tsdm"
   ]
  },
  {
   "cell_type": "code",
   "execution_count": null,
   "id": "d695b42b",
   "metadata": {
    "execution": {
     "iopub.execute_input": "2022-10-20T13:00:58.511710Z",
     "iopub.status.busy": "2022-10-20T13:00:58.510408Z",
     "iopub.status.idle": "2022-10-20T13:00:58.670294Z",
     "shell.execute_reply": "2022-10-20T13:00:58.669778Z",
     "shell.execute_reply.started": "2022-10-20T13:00:58.511686Z"
    },
    "tags": []
   },
   "outputs": [],
   "source": [
    "ds = tsdm.datasets.KIWI_RUNS()"
   ]
  },
  {
   "cell_type": "code",
   "execution_count": null,
   "id": "78c5c7c3-f88b-41aa-b347-b816f379b09e",
   "metadata": {
    "execution": {
     "iopub.execute_input": "2022-10-20T13:00:58.671307Z",
     "iopub.status.busy": "2022-10-20T13:00:58.671102Z",
     "iopub.status.idle": "2022-10-20T13:00:58.709466Z",
     "shell.execute_reply": "2022-10-20T13:00:58.708963Z",
     "shell.execute_reply.started": "2022-10-20T13:00:58.671287Z"
    },
    "tags": []
   },
   "outputs": [],
   "source": [
    "ds.timeseries"
   ]
  },
  {
   "cell_type": "code",
   "execution_count": null,
   "id": "da3fe483-cef5-4acd-b1d2-e5792c82571f",
   "metadata": {
    "execution": {
     "iopub.execute_input": "2022-10-20T13:05:28.421161Z",
     "iopub.status.busy": "2022-10-20T13:05:28.420169Z",
     "iopub.status.idle": "2022-10-20T13:05:28.446302Z",
     "shell.execute_reply": "2022-10-20T13:05:28.445724Z",
     "shell.execute_reply.started": "2022-10-20T13:05:28.421142Z"
    },
    "tags": []
   },
   "outputs": [],
   "source": [
    "ds.metadata_features"
   ]
  },
  {
   "cell_type": "code",
   "execution_count": null,
   "id": "87243956-f1da-4d07-a8ae-8b516546c2a1",
   "metadata": {},
   "outputs": [],
   "source": []
  }
 ],
 "metadata": {
  "kernelspec": {
   "display_name": "Python 3 (ipykernel)",
   "language": "python",
   "name": "python3"
  },
  "language_info": {
   "codemirror_mode": {
    "name": "ipython",
    "version": 3
   },
   "file_extension": ".py",
   "mimetype": "text/x-python",
   "name": "python",
   "nbconvert_exporter": "python",
   "pygments_lexer": "ipython3",
   "version": "3.10.6"
  }
 },
 "nbformat": 4,
 "nbformat_minor": 5
}
