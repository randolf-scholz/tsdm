{
 "cells": [
  {
   "cell_type": "code",
   "execution_count": null,
   "id": "20191951-beec-414a-b3c6-89dca8277ad2",
   "metadata": {
    "execution": {
     "iopub.execute_input": "2022-10-20T20:50:59.853029Z",
     "iopub.status.busy": "2022-10-20T20:50:59.852842Z",
     "iopub.status.idle": "2022-10-20T20:51:00.337874Z",
     "shell.execute_reply": "2022-10-20T20:51:00.337272Z",
     "shell.execute_reply.started": "2022-10-20T20:50:59.852979Z"
    },
    "tags": []
   },
   "outputs": [],
   "source": [
    "%config InteractiveShell.ast_node_interactivity='last_expr_or_assign'  # always print last expr.\n",
    "%config InlineBackend.figure_format = 'svg'\n",
    "%load_ext autoreload\n",
    "%autoreload 2\n",
    "%matplotlib inline"
   ]
  },
  {
   "cell_type": "code",
   "execution_count": null,
   "id": "6be3680d-aeaa-4abd-a715-c42d31abc218",
   "metadata": {
    "execution": {
     "iopub.execute_input": "2022-10-20T20:51:00.339562Z",
     "iopub.status.busy": "2022-10-20T20:51:00.339263Z",
     "iopub.status.idle": "2022-10-20T20:51:00.352093Z",
     "shell.execute_reply": "2022-10-20T20:51:00.351225Z",
     "shell.execute_reply.started": "2022-10-20T20:51:00.339543Z"
    },
    "tags": []
   },
   "outputs": [],
   "source": [
    "import logging\n",
    "\n",
    "logging.basicConfig(level=logging.INFO)"
   ]
  },
  {
   "cell_type": "code",
   "execution_count": null,
   "id": "58b7f6d7",
   "metadata": {
    "execution": {
     "iopub.execute_input": "2022-10-20T20:51:00.353368Z",
     "iopub.status.busy": "2022-10-20T20:51:00.353137Z",
     "iopub.status.idle": "2022-10-20T20:51:02.161553Z",
     "shell.execute_reply": "2022-10-20T20:51:02.160736Z",
     "shell.execute_reply.started": "2022-10-20T20:51:00.353347Z"
    },
    "tags": []
   },
   "outputs": [],
   "source": [
    "import tsdm"
   ]
  },
  {
   "cell_type": "code",
   "execution_count": null,
   "id": "d695b42b",
   "metadata": {
    "execution": {
     "iopub.execute_input": "2022-10-20T20:51:02.163009Z",
     "iopub.status.busy": "2022-10-20T20:51:02.162597Z",
     "iopub.status.idle": "2022-10-20T20:51:03.034798Z",
     "shell.execute_reply": "2022-10-20T20:51:03.034156Z",
     "shell.execute_reply.started": "2022-10-20T20:51:02.162983Z"
    },
    "tags": []
   },
   "outputs": [],
   "source": [
    "ds = tsdm.datasets.KIWI_RUNS()"
   ]
  },
  {
   "cell_type": "code",
   "execution_count": null,
   "id": "9559b04f-7e1c-418c-bd02-05595ba47454",
   "metadata": {
    "execution": {
     "iopub.execute_input": "2022-10-20T20:51:03.036095Z",
     "iopub.status.busy": "2022-10-20T20:51:03.035736Z",
     "iopub.status.idle": "2022-10-20T20:51:03.093365Z",
     "shell.execute_reply": "2022-10-20T20:51:03.092630Z",
     "shell.execute_reply.started": "2022-10-20T20:51:03.036070Z"
    },
    "tags": []
   },
   "outputs": [],
   "source": [
    "ds.timeseries"
   ]
  },
  {
   "cell_type": "code",
   "execution_count": null,
   "id": "2a7ee28c-abf4-4795-9e17-03443f007aa3",
   "metadata": {
    "execution": {
     "iopub.execute_input": "2022-10-20T20:51:03.094666Z",
     "iopub.status.busy": "2022-10-20T20:51:03.094240Z",
     "iopub.status.idle": "2022-10-20T20:51:03.122413Z",
     "shell.execute_reply": "2022-10-20T20:51:03.121720Z",
     "shell.execute_reply.started": "2022-10-20T20:51:03.094642Z"
    },
    "tags": []
   },
   "outputs": [],
   "source": [
    "from tsdm.datasets import TimeSeriesCollection"
   ]
  },
  {
   "cell_type": "code",
   "execution_count": null,
   "id": "fa678357-5717-42d0-9f09-44738372a52d",
   "metadata": {
    "execution": {
     "iopub.execute_input": "2022-10-20T20:51:03.124428Z",
     "iopub.status.busy": "2022-10-20T20:51:03.124152Z",
     "iopub.status.idle": "2022-10-20T20:51:03.161730Z",
     "shell.execute_reply": "2022-10-20T20:51:03.160838Z",
     "shell.execute_reply.started": "2022-10-20T20:51:03.124409Z"
    },
    "tags": []
   },
   "outputs": [],
   "source": [
    "str(tuple(ds.timeseries.shape))"
   ]
  },
  {
   "cell_type": "code",
   "execution_count": null,
   "id": "4633d0b1-df21-4d34-9de1-67979aef0d8d",
   "metadata": {
    "execution": {
     "iopub.execute_input": "2022-10-20T20:51:03.163025Z",
     "iopub.status.busy": "2022-10-20T20:51:03.162740Z",
     "iopub.status.idle": "2022-10-20T20:51:03.197360Z",
     "shell.execute_reply": "2022-10-20T20:51:03.196725Z",
     "shell.execute_reply.started": "2022-10-20T20:51:03.163006Z"
    },
    "tags": []
   },
   "outputs": [],
   "source": [
    "TSC = TimeSeriesCollection(\n",
    "    ds.index,\n",
    "    ds.timeseries,\n",
    "    ds.metadata,\n",
    "    time_features=ds.time_features,\n",
    "    value_features=ds.value_features,\n",
    "    metadata_features=ds.metadata_features,\n",
    ")"
   ]
  },
  {
   "cell_type": "code",
   "execution_count": null,
   "id": "b6f7ca59-1f1f-4457-b109-414f27ea005e",
   "metadata": {
    "execution": {
     "iopub.execute_input": "2022-10-20T20:51:03.198406Z",
     "iopub.status.busy": "2022-10-20T20:51:03.198162Z",
     "iopub.status.idle": "2022-10-20T20:51:03.230187Z",
     "shell.execute_reply": "2022-10-20T20:51:03.229577Z",
     "shell.execute_reply.started": "2022-10-20T20:51:03.198383Z"
    },
    "tags": []
   },
   "outputs": [],
   "source": [
    "TSC.__dataclass_fields__"
   ]
  },
  {
   "cell_type": "code",
   "execution_count": null,
   "id": "80056e16-0a2d-4d9c-8169-17f99c60fe91",
   "metadata": {
    "execution": {
     "iopub.execute_input": "2022-10-20T20:51:03.231162Z",
     "iopub.status.busy": "2022-10-20T20:51:03.230897Z",
     "iopub.status.idle": "2022-10-20T20:51:03.266391Z",
     "shell.execute_reply": "2022-10-20T20:51:03.265399Z",
     "shell.execute_reply.started": "2022-10-20T20:51:03.231143Z"
    }
   },
   "outputs": [],
   "source": [
    "import dataclasses"
   ]
  },
  {
   "cell_type": "code",
   "execution_count": null,
   "id": "c05d712c-2c29-4815-9f74-c4bdfdfc6e53",
   "metadata": {
    "execution": {
     "iopub.execute_input": "2022-10-20T20:51:03.267929Z",
     "iopub.status.busy": "2022-10-20T20:51:03.267461Z",
     "iopub.status.idle": "2022-10-20T20:51:03.312556Z",
     "shell.execute_reply": "2022-10-20T20:51:03.311800Z",
     "shell.execute_reply.started": "2022-10-20T20:51:03.267869Z"
    },
    "tags": []
   },
   "outputs": [],
   "source": [
    "dataclasses.is_dataclass(type(TSC))"
   ]
  },
  {
   "cell_type": "code",
   "execution_count": null,
   "id": "22ec5d8e-ceac-4c9d-a791-08cc31932d46",
   "metadata": {
    "execution": {
     "iopub.execute_input": "2022-10-20T20:51:03.313924Z",
     "iopub.status.busy": "2022-10-20T20:51:03.313647Z",
     "iopub.status.idle": "2022-10-20T20:51:03.352700Z",
     "shell.execute_reply": "2022-10-20T20:51:03.351577Z",
     "shell.execute_reply.started": "2022-10-20T20:51:03.313902Z"
    }
   },
   "outputs": [],
   "source": [
    "dir(TSC)"
   ]
  },
  {
   "cell_type": "code",
   "execution_count": null,
   "id": "aa6a1c97-e354-4ca8-8f4d-44ef4f25e76c",
   "metadata": {},
   "outputs": [],
   "source": []
  }
 ],
 "metadata": {
  "kernelspec": {
   "display_name": "Python 3 (ipykernel)",
   "language": "python",
   "name": "python3"
  },
  "language_info": {
   "codemirror_mode": {
    "name": "ipython",
    "version": 3
   },
   "file_extension": ".py",
   "mimetype": "text/x-python",
   "name": "python",
   "nbconvert_exporter": "python",
   "pygments_lexer": "ipython3",
   "version": "3.10.6"
  }
 },
 "nbformat": 4,
 "nbformat_minor": 5
}
