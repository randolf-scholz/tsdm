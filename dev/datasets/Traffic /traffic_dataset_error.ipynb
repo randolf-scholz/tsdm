{
 "cells": [
  {
   "cell_type": "code",
   "execution_count": null,
   "metadata": {
    "tags": []
   },
   "outputs": [],
   "source": [
    "%config InteractiveShell.ast_node_interactivity='last_expr_or_assign'  # always print last expr.\n",
    "\n",
    "from io import StringIO\n",
    "from zipfile import ZipFile\n",
    "\n",
    "import pandas as pd"
   ]
  },
  {
   "cell_type": "markdown",
   "metadata": {},
   "source": [
    "## What is wrong?\n",
    "\n",
    "I believe, that contrary to what is states on https://archive.ics.uci.edu/ml/datasets/PEMS-SF,\n",
    "the weekday encoding is not 1=Monday to 7=Sunday, but American calendar style 1=Sunday to 7=Saturday.\n",
    "\n",
    "This is because, if we use the former, than the decoded labels do not agree with the supposed dates!\n",
    "I was able to reverse engineer what I think are the correct dates."
   ]
  },
  {
   "cell_type": "markdown",
   "metadata": {},
   "source": [
    "## Load the labels"
   ]
  },
  {
   "cell_type": "code",
   "execution_count": null,
   "metadata": {
    "tags": []
   },
   "outputs": [],
   "source": [
    "def _reformat(s: str, replacements: dict) -> str:\n",
    "    r\"\"\"Replace multiple substrings via dict.\n",
    "\n",
    "    References:\n",
    "        https://stackoverflow.com/a/64500851/9318372\n",
    "    \"\"\"\n",
    "    *_, result = (s := s.replace(c, r) for c, r in replacements.items())  # noqa: F841\n",
    "    return result\n",
    "\n",
    "\n",
    "with ZipFile(\"PEMS-SF.zip\") as archive:\n",
    "    with archive.open(\"randperm\") as file:\n",
    "        content = file.read().decode(\"utf8\")\n",
    "        content = _reformat(content, {\"[\": \"\", \"]\": \"\", \" \": \"\\n\"})\n",
    "        randperm = pd.read_csv(\n",
    "            StringIO(content),\n",
    "            names=[\"randperm\"],\n",
    "            dtype=\"uint16\",\n",
    "        ).squeeze()\n",
    "        randperm -= 1  # python uses 0-based indexing\n",
    "        invperm = randperm.copy().argsort()\n",
    "\n",
    "    with archive.open(\"PEMS_trainlabels\") as file:\n",
    "        content = file.read().decode(\"utf8\")\n",
    "        content = _reformat(content, {\"[\": \"\", \"]\": \"\\n\", \" \": \"\\n\"})\n",
    "        trainlabels = pd.read_csv(\n",
    "            StringIO(content), names=[\"label\"], dtype=\"uint8\"\n",
    "        ).squeeze()\n",
    "\n",
    "    with archive.open(\"PEMS_testlabels\") as file:\n",
    "        content = file.read().decode(\"utf8\")\n",
    "        content = _reformat(content, {\"[\": \"\", \"]\": \"\", \" \": \"\\n\"})\n",
    "        testlabels = pd.read_csv(\n",
    "            StringIO(content), names=[\"label\"], dtype=\"uint8\"\n",
    "        ).squeeze()\n",
    "\n",
    "# compine labels\n",
    "labels = pd.concat([trainlabels, testlabels])"
   ]
  },
  {
   "cell_type": "markdown",
   "metadata": {},
   "source": [
    "## Using Anomalies listed by N-BEATS"
   ]
  },
  {
   "cell_type": "code",
   "execution_count": null,
   "metadata": {
    "tags": []
   },
   "outputs": [],
   "source": [
    "weekdays = {\n",
    "    1: \"Monday\",\n",
    "    2: \"Tuesday\",\n",
    "    3: \"Wednesday\",\n",
    "    4: \"Thursday\",\n",
    "    5: \"Friday\",\n",
    "    6: \"Saturday\",\n",
    "    7: \"Sunday\",\n",
    "}\n",
    "anomalies = pd.DatetimeIndex({\n",
    "    \"Jan. 1, 2008\": \"New Year’s Day\",\n",
    "    \"Jan. 21, 2008\": \"Martin Luther King Jr. Day\",\n",
    "    \"Feb. 18, 2008\": \"Washington’s Birthday\",\n",
    "    \"Mar. 9, 2008\": \"Anomaly day\",\n",
    "    \"May 26, 2008\": \"Memorial Day\",\n",
    "    \"Jul. 4, 2008\": \"Independence Day\",\n",
    "    \"Sep. 1, 2008\": \"Labor Day\",\n",
    "    \"Oct. 13, 2008\": \"Columbus Day\",\n",
    "    \"Nov. 11, 2008\": \"Veterans Day\",\n",
    "    \"Nov. 27, 2008\": \"Thanksgiving\",\n",
    "    \"Dec. 25, 2008\": \"Christmas Day\",\n",
    "    \"Jan. 1, 2009\": \"New Year’s Day\",\n",
    "    \"Jan. 19, 2009\": \"Martin Luther King Jr. Day\",\n",
    "    \"Feb. 16, 2009\": \"Washington’s Birthday\",\n",
    "    \"Mar. 8, 2009\": \"Anomaly day\",\n",
    "})\n",
    "dates = pd.date_range(\"2008-01-01\", \"2009-03-30\", freq=\"d\", name=\"day\")\n",
    "\n",
    "# remove anomalies\n",
    "valid_dates = dates[~dates.isin(anomalies)]"
   ]
  },
  {
   "cell_type": "code",
   "execution_count": null,
   "metadata": {
    "tags": []
   },
   "outputs": [],
   "source": [
    "# compine labels\n",
    "labels = pd.concat([trainlabels, testlabels])\n",
    "\n",
    "# apply inverse permutation\n",
    "labels = labels.iloc[invperm]\n",
    "\n",
    "# set dates\n",
    "labels.index = valid_dates\n",
    "\n",
    "# decode the labels\n",
    "labels = labels.map(weekdays)\n",
    "\n",
    "# compare day name with encoded day name\n",
    "labels = labels.to_frame().assign(actual_weekday=labels.index.day_name())\n",
    "matches = labels.label == labels.actual_weekday\n",
    "if all(matches):\n",
    "    print(\"All encoded labels match with the day name!\")\n",
    "else:\n",
    "    print(\"Mismatches detected!\")\n",
    "    print(labels[~matches])"
   ]
  },
  {
   "cell_type": "markdown",
   "metadata": {},
   "source": [
    "## Using reverse-engineered dates"
   ]
  },
  {
   "cell_type": "code",
   "execution_count": null,
   "metadata": {
    "tags": []
   },
   "outputs": [],
   "source": [
    "weekdays = {\n",
    "    1: \"Sunday\",\n",
    "    2: \"Monday\",\n",
    "    3: \"Tuesday\",\n",
    "    4: \"Wednesday\",\n",
    "    5: \"Thursday\",\n",
    "    6: \"Friday\",\n",
    "    7: \"Saturday\",\n",
    "}\n",
    "\n",
    "anomalies = pd.DatetimeIndex({\n",
    "    \"2008-01-01\": \"New Year’s Day\",\n",
    "    \"2008-01-21\": \"Martin Luther King Jr. Day\",\n",
    "    \"2008-02-18\": \"Washington’s Birthday\",\n",
    "    \"2008-03-09\": \"anomaly\",\n",
    "    \"2008-05-26\": \"Memorial Day\",\n",
    "    \"2008-07-04\": \"Independence Day\",\n",
    "    \"2008-09-01\": \"Labor Day\",\n",
    "    \"2008-10-20\": \"???\",\n",
    "    \"2008-11-17\": \"???\",\n",
    "    \"2008-12-07\": \"???\",\n",
    "    \"2009-02-23\": \"???\",\n",
    "})\n",
    "\n",
    "dates = pd.date_range(\"2008-01-01\", \"2009-03-26\", freq=\"d\", name=\"day\")\n",
    "\n",
    "# remove anomalies\n",
    "valid_dates = dates[~dates.isin(anomalies)]"
   ]
  },
  {
   "cell_type": "code",
   "execution_count": null,
   "metadata": {
    "tags": []
   },
   "outputs": [],
   "source": [
    "# compine labels\n",
    "labels = pd.concat([trainlabels, testlabels])\n",
    "\n",
    "# apply inverse permutation\n",
    "labels = labels.iloc[invperm]\n",
    "\n",
    "# set dates\n",
    "labels.index = valid_dates\n",
    "\n",
    "# decode the labels\n",
    "labels = labels.map(weekdays)\n",
    "\n",
    "# compare day name with encoded day name\n",
    "labels = labels.to_frame().assign(actual_weekday=labels.index.day_name())\n",
    "matches = labels.label == labels.actual_weekday\n",
    "if all(matches):\n",
    "    print(\"All encoded labels match with the day name!\")\n",
    "else:\n",
    "    print(\"Mismatches detected!\")\n",
    "    print(labels[~matches])"
   ]
  }
 ],
 "metadata": {
  "kernelspec": {
   "display_name": "Python 3 (ipykernel)",
   "language": "python",
   "name": "python3"
  },
  "language_info": {
   "codemirror_mode": {
    "name": "ipython",
    "version": 3
   },
   "file_extension": ".py",
   "mimetype": "text/x-python",
   "name": "python",
   "nbconvert_exporter": "python",
   "pygments_lexer": "ipython3",
   "version": "3.11.3"
  }
 },
 "nbformat": 4,
 "nbformat_minor": 4
}
