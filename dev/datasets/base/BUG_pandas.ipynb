{
 "cells": [
  {
   "cell_type": "markdown",
   "id": "f4a9b762-dddf-43ea-ac08-770924b35b16",
   "metadata": {},
   "source": [
    "# BUG: `DatetimeIndex` slicing: `df.loc[\"2020-01-01\": \"2020-01-01\"]` gives different result than `df.loc[Timestamp(\"2020-01-01\"): Timestamp(\"2020-01-01\")]` "
   ]
  },
  {
   "cell_type": "markdown",
   "id": "347fcafb-a9b1-4264-b3d0-1bb8c5e3618a",
   "metadata": {},
   "source": [
    "One would expect that both times the same data is selected. It is debatable which one of the two results is the \"correct\" one; essentially this is the question of whether one wants an inclusive range or not by default.\n",
    "\n",
    "In any case I would definitely call it a bug though that both calls return different slices.  It is just way too easy to trip over this behavior and accidentally get a wrong slice!\n",
    "\n",
    "The reason for the different slices seems to be that using the string or `Timestamp` return different things:\n",
    "\n",
    "- `df.index.get_loc(a) →slice(0, 96, None) `\n",
    "- `df.index.get_loc(ta) →0 `\n",
    "- `df.index.get_loc(b) →slice(192, 288, None) `\n",
    "- `df.index.get_loc(tb) →192 `\n",
    "\n",
    "In particular, `df.loc[\"2020-01-01\"]` returns all data collected on January first, whereas `df.loc[Timestamp(\"2020-01-01\")]` returns only the single datapoint collected at `2020-01-01 00:00:00`.\n",
    "\n",
    "The [documentation](https://pandas.pydata.org/pandas-docs/stable/user_guide/timeseries.html#indexing) says that\n",
    "\n",
    "> This type of slicing will work on a DataFrame with a DatetimeIndex as well. Since the partial string selection is a form of label slicing, the endpoints will be included. This would include matching times on an included date"
   ]
  },
  {
   "cell_type": "code",
   "execution_count": null,
   "id": "393a13bb-433a-47ea-928f-dea85ec9d232",
   "metadata": {},
   "outputs": [],
   "source": [
    "from pandas import DataFrame, Period, Timestamp, date_range\n",
    "\n",
    "ts = date_range(start=\"2020-01-01\", end=\"2020-02-01\", freq=\"15min\")\n",
    "df = DataFrame(range(len(ts)), index=ts)\n",
    "\n",
    "a = \"2020-01-01\"\n",
    "b = \"2020-01-03\"\n",
    "ta = Timestamp(a)\n",
    "tb = Timestamp(b)\n",
    "\n",
    "print(df.index.get_loc(a), df.index.get_loc(ta))\n",
    "print(df.index.get_loc(b), df.index.get_loc(tb))\n",
    "print(df.loc[a:b])\n",
    "print(df.loc[ta:tb])"
   ]
  },
  {
   "cell_type": "code",
   "execution_count": null,
   "id": "79458a9d-1318-45be-96c7-ced1e0087fc2",
   "metadata": {},
   "outputs": [],
   "source": [
    "str(Timestamp(a))"
   ]
  },
  {
   "cell_type": "code",
   "execution_count": null,
   "id": "636930ad-7dbb-46d1-8ca4-ad25af646e1c",
   "metadata": {},
   "outputs": [],
   "source": [
    "print(df[a:b])\n",
    "print(df[ta:tb])"
   ]
  },
  {
   "cell_type": "code",
   "execution_count": null,
   "id": "92c24be8-de23-4336-8984-c63a7e4778fa",
   "metadata": {},
   "outputs": [],
   "source": [
    "Period(\"2020-01-01 to 2020-01-03\")"
   ]
  },
  {
   "cell_type": "code",
   "execution_count": null,
   "id": "74a246d2-a94e-4a3d-81ae-13b978924c3c",
   "metadata": {},
   "outputs": [],
   "source": [
    "df.loc[Timestamp(\"2020-01-01\")]"
   ]
  },
  {
   "cell_type": "code",
   "execution_count": null,
   "id": "22484f77-ee53-4fc0-b0ad-a843f0519f5b",
   "metadata": {},
   "outputs": [],
   "source": [
    "df.index"
   ]
  },
  {
   "cell_type": "code",
   "execution_count": null,
   "id": "c3125bfc-78e0-4cdc-b95e-0cd3dc9c1745",
   "metadata": {},
   "outputs": [],
   "source": [
    "import pandas\n",
    "\n",
    "pandas.show_versions()"
   ]
  },
  {
   "cell_type": "code",
   "execution_count": null,
   "id": "b7be2e45-3bb0-4ae9-825c-9be8226ebbbb",
   "metadata": {},
   "outputs": [],
   "source": []
  }
 ],
 "metadata": {
  "kernelspec": {
   "display_name": "Python 3 (ipykernel)",
   "language": "python",
   "name": "python3"
  },
  "language_info": {
   "codemirror_mode": {
    "name": "ipython",
    "version": 3
   },
   "file_extension": ".py",
   "mimetype": "text/x-python",
   "name": "python",
   "nbconvert_exporter": "python",
   "pygments_lexer": "ipython3",
   "version": "3.9.7"
  }
 },
 "nbformat": 4,
 "nbformat_minor": 5
}
