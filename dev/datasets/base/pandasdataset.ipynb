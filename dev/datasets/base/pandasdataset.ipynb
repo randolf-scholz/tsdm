{
 "cells": [
  {
   "cell_type": "code",
   "execution_count": null,
   "id": "20191951-beec-414a-b3c6-89dca8277ad2",
   "metadata": {
    "execution": {
     "iopub.execute_input": "2022-10-19T13:20:27.600225Z",
     "iopub.status.busy": "2022-10-19T13:20:27.600097Z",
     "iopub.status.idle": "2022-10-19T13:20:27.908972Z",
     "shell.execute_reply": "2022-10-19T13:20:27.908645Z",
     "shell.execute_reply.started": "2022-10-19T13:20:27.600189Z"
    }
   },
   "outputs": [],
   "source": [
    "%config InteractiveShell.ast_node_interactivity='last_expr_or_assign'  # always print last expr.\n",
    "%config InlineBackend.figure_format = 'svg'\n",
    "%load_ext autoreload\n",
    "%autoreload 2\n",
    "%matplotlib inline"
   ]
  },
  {
   "cell_type": "code",
   "execution_count": null,
   "id": "58b7f6d7",
   "metadata": {
    "execution": {
     "iopub.execute_input": "2022-10-19T13:20:27.909843Z",
     "iopub.status.busy": "2022-10-19T13:20:27.909681Z",
     "iopub.status.idle": "2022-10-19T13:20:28.937172Z",
     "shell.execute_reply": "2022-10-19T13:20:28.936632Z",
     "shell.execute_reply.started": "2022-10-19T13:20:27.909831Z"
    }
   },
   "outputs": [],
   "source": [
    "import inspect\n",
    "import logging\n",
    "import os\n",
    "import subprocess\n",
    "import warnings\n",
    "import webbrowser\n",
    "from abc import ABC, ABCMeta, abstractmethod\n",
    "from collections.abc import Hashable, Iterator, Mapping, MutableMapping, Sequence\n",
    "from functools import cached_property, partial\n",
    "from hashlib import sha256\n",
    "from pathlib import Path\n",
    "from typing import Any, ClassVar, Generic, Optional, TypeAlias, overload\n",
    "from urllib.parse import urlparse\n",
    "\n",
    "import pandas\n",
    "from pandas import DataFrame, Index, Series\n",
    "\n",
    "from tsdm.config import DATASETDIR, RAWDATADIR\n",
    "from tsdm.utils import flatten_nested, paths_exists, prepend_path\n",
    "from tsdm.utils.remote import download\n",
    "from tsdm.utils.types import KeyVar, Nested, PathType\n",
    "from tsdm.datasets.base import BaseDatasetMetaClass, BaseDataset"
   ]
  },
  {
   "cell_type": "code",
   "execution_count": null,
   "id": "55e1c40c-f097-4cbe-83a2-cf9de2fb0aa7",
   "metadata": {
    "execution": {
     "iopub.execute_input": "2022-10-19T14:24:34.856102Z",
     "iopub.status.busy": "2022-10-19T14:24:34.855845Z",
     "iopub.status.idle": "2022-10-19T14:24:34.877424Z",
     "shell.execute_reply": "2022-10-19T14:24:34.876573Z",
     "shell.execute_reply.started": "2022-10-19T14:24:34.856087Z"
    },
    "tags": []
   },
   "outputs": [],
   "source": [
    "import tsdm\n",
    "\n",
    "ds = tsdm.datasets.KIWI_RUNS(initialize=False)\n",
    "ds.download_table.__doc__"
   ]
  },
  {
   "cell_type": "code",
   "execution_count": null,
   "id": "d695b42b",
   "metadata": {
    "execution": {
     "iopub.execute_input": "2022-10-19T13:24:19.506606Z",
     "iopub.status.busy": "2022-10-19T13:24:19.506152Z",
     "iopub.status.idle": "2022-10-19T13:24:19.545774Z",
     "shell.execute_reply": "2022-10-19T13:24:19.544930Z",
     "shell.execute_reply.started": "2022-10-19T13:24:19.506575Z"
    },
    "tags": []
   },
   "outputs": [],
   "source": [
    "PandasObject: TypeAlias = Index | Series | DataFrame\n",
    "DATASET_OBJECT: TypeAlias = Series | DataFrame\n",
    "r\"\"\"Type hint for pandas objects.\"\"\"\n",
    "\n",
    "\n",
    "class PandasDataset(BaseDataset, ABC, Mapping[KeyVar, PandasObject]):\n",
    "    r\"\"\"Base class for datasets that consist of multiple pandas objects.\n",
    "\n",
    "    - Each subclass must contain a dictionary `tables`, so that keys(), values(), etc.\n",
    "    point to this dictionary\n",
    "    - Each subclass optionally may behave like a dataclass, i.e. all tables are reachable\n",
    "    as lazily loaded properties.\n",
    "    - Each table should have a hash value stored that can be compared against when loading it.\n",
    "\n",
    "    -\n",
    "\n",
    "    \"\"\"\n",
    "\n",
    "    DEFAULT_FILE_FORMAT: str = \"parquet\"\n",
    "    r\"\"\"Default format for the dataset.\"\"\"\n",
    "    RAWDATA_SHA256: Optional[str | Mapping[str, str]] = None\n",
    "    r\"\"\"SHA256 hash value of the raw data file(s).\"\"\"\n",
    "    RAWDATA_SHAPE: Optional[tuple[int, ...] | Mapping[str, tuple[int, ...]]] = None\n",
    "    r\"\"\"Reference shape of the raw data file(s).\"\"\"\n",
    "\n",
    "    @staticmethod\n",
    "    def serialize(frame: DATASET_OBJECT, path: Path, /, **kwargs: Any) -> None:\n",
    "        r\"\"\"Serialize the dataset.\"\"\"\n",
    "        file_type = path.suffix\n",
    "        assert file_type.startswith(\".\"), \"File must have a suffix!\"\n",
    "        file_type = file_type[1:]\n",
    "\n",
    "        if isinstance(frame, Series):\n",
    "            frame = frame.to_frame()\n",
    "\n",
    "        if hasattr(frame, f\"to_{file_type}\"):\n",
    "            pandas_writer = getattr(frame, f\"to_{file_type}\")\n",
    "            pandas_writer(path, **kwargs)\n",
    "            return\n",
    "\n",
    "        raise NotImplementedError(f\"No loader for {file_type=}\")\n",
    "\n",
    "    @staticmethod\n",
    "    def deserialize(path: Path, /, *, squeeze: bool = True) -> DATASET_OBJECT:\n",
    "        r\"\"\"Deserialize the dataset.\"\"\"\n",
    "        file_type = path.suffix\n",
    "        assert file_type.startswith(\".\"), \"File must have a suffix!\"\n",
    "        file_type = file_type[1:]\n",
    "\n",
    "        if hasattr(pandas, f\"read_{file_type}\"):\n",
    "            pandas_loader = getattr(pandas, f\"read_{file_type}\")\n",
    "            pandas_object = pandas_loader(path)\n",
    "            return pandas_object.squeeze() if squeeze else pandas_object\n",
    "\n",
    "        raise NotImplementedError(f\"No loader for {file_type=}\")\n",
    "\n",
    "    def validate(\n",
    "        self,\n",
    "        filespec: Nested[str | Path],\n",
    "        /,\n",
    "        *,\n",
    "        reference: Optional[str | Mapping[str, str]] = None,\n",
    "    ) -> None:\n",
    "        r\"\"\"Validate the file hash.\"\"\"\n",
    "        self.LOGGER.debug(\"Starting to validate dataset\")\n",
    "\n",
    "        if isinstance(filespec, Mapping):\n",
    "            for value in filespec.values():\n",
    "                self.validate(value, reference=reference)\n",
    "            return\n",
    "        if isinstance(filespec, Sequence) and not isinstance(filespec, (str, Path)):\n",
    "            for value in filespec:\n",
    "                self.validate(value, reference=reference)\n",
    "            return\n",
    "\n",
    "        assert isinstance(filespec, (str, Path)), f\"{filespec=} wrong type!\"\n",
    "        file = Path(filespec)\n",
    "\n",
    "        if not file.exists():\n",
    "            raise FileNotFoundError(f\"File '{file.name}' does not exist!\")\n",
    "\n",
    "        filehash = sha256(file.read_bytes()).hexdigest()\n",
    "\n",
    "        if reference is None:\n",
    "            warnings.warn(\n",
    "                f\"File '{file.name}' cannot be validated as no hash is stored in {self.__class__}.\"\n",
    "                f\"The filehash is '{filehash}'.\"\n",
    "            )\n",
    "\n",
    "        elif isinstance(reference, str):\n",
    "            if filehash != reference:\n",
    "                warnings.warn(\n",
    "                    f\"File '{file.name}' failed to validate!\"\n",
    "                    f\"File hash '{filehash}' does not match reference '{reference}'.\"\n",
    "                    f\"𝗜𝗴𝗻𝗼𝗿𝗲 𝘁𝗵𝗶𝘀 𝘄𝗮𝗿𝗻𝗶𝗻𝗴 𝗶𝗳 𝘁𝗵𝗲 𝗳𝗶𝗹𝗲 𝗳𝗼𝗿𝗺𝗮𝘁 𝗶𝘀 𝗽𝗮𝗿𝗾𝘂𝗲𝘁.\"\n",
    "                )\n",
    "            self.LOGGER.info(\n",
    "                f\"File '{file.name}' validated successfully '{filehash=}'.\"\n",
    "            )\n",
    "\n",
    "        elif isinstance(reference, Mapping):\n",
    "            if not (file.name in reference) ^ (file.stem in reference):\n",
    "                warnings.warn(\n",
    "                    f\"File '{file.name}' cannot be validated as it is not contained in {reference}.\"\n",
    "                    f\"The filehash is '{filehash}'.\"\n",
    "                    f\"𝗜𝗴𝗻𝗼𝗿𝗲 𝘁𝗵𝗶𝘀 𝘄𝗮𝗿𝗻𝗶𝗻𝗴 𝗶𝗳 𝘁𝗵𝗲 𝗳𝗶𝗹𝗲 𝗳𝗼𝗿𝗺𝗮𝘁 𝗶𝘀 𝗽𝗮𝗿𝗾𝘂𝗲𝘁.\"\n",
    "                )\n",
    "            elif file.name in reference and filehash != reference[file.name]:\n",
    "                warnings.warn(\n",
    "                    f\"File '{file.name}' failed to validate!\"\n",
    "                    f\"File hash '{filehash}' does not match reference '{reference[file.name]}'.\"\n",
    "                    f\"𝗜𝗴𝗻𝗼𝗿𝗲 𝘁𝗵𝗶𝘀 𝘄𝗮𝗿𝗻𝗶𝗻𝗴 𝗶𝗳 𝘁𝗵𝗲 𝗳𝗶𝗹𝗲 𝗳𝗼𝗿𝗺𝗮𝘁 𝗶𝘀 𝗽𝗮𝗿𝗾𝘂𝗲𝘁.\"\n",
    "                )\n",
    "            elif file.stem in reference and filehash != reference[file.stem]:\n",
    "                warnings.warn(\n",
    "                    f\"File '{file.name}' failed to validate!\"\n",
    "                    f\"File hash '{filehash}' does not match reference '{reference[file.stem]}'.\"\n",
    "                    f\"𝗜𝗴𝗻𝗼𝗿𝗲 𝘁𝗵𝗶𝘀 𝘄𝗮𝗿𝗻𝗶𝗻𝗴 𝗶𝗳 𝘁𝗵𝗲 𝗳𝗶𝗹𝗲 𝗳𝗼𝗿𝗺𝗮𝘁 𝗶𝘀 𝗽𝗮𝗿𝗾𝘂𝗲𝘁.\"\n",
    "                )\n",
    "            else:\n",
    "                self.LOGGER.info(\n",
    "                    f\"File '{file.name}' validated successfully '{filehash=}'.\"\n",
    "                )\n",
    "        else:\n",
    "            raise TypeError(f\"Unsupported type for {reference=}.\")\n",
    "\n",
    "        self.LOGGER.debug(\"Finished validating file.\")"
   ]
  },
  {
   "cell_type": "code",
   "execution_count": null,
   "id": "68681ae4-ad51-4760-bab7-ed27819f54ef",
   "metadata": {
    "execution": {
     "iopub.execute_input": "2022-10-19T16:39:22.644867Z",
     "iopub.status.busy": "2022-10-19T16:39:22.644686Z",
     "iopub.status.idle": "2022-10-19T16:39:24.375856Z",
     "shell.execute_reply": "2022-10-19T16:39:24.375200Z",
     "shell.execute_reply.started": "2022-10-19T16:39:22.644828Z"
    },
    "tags": []
   },
   "outputs": [],
   "source": [
    "import tsdm"
   ]
  },
  {
   "cell_type": "code",
   "execution_count": null,
   "id": "180e9169-b2ec-468a-b021-069ebca038b6",
   "metadata": {},
   "outputs": [],
   "source": [
    "tsdm.datasets.kiwi_runsKIWI_RUNS"
   ]
  },
  {
   "cell_type": "code",
   "execution_count": null,
   "id": "20eed8fa-5256-4fa0-aae4-7295dc08ae6e",
   "metadata": {
    "execution": {
     "iopub.execute_input": "2022-10-19T15:56:13.045476Z",
     "iopub.status.busy": "2022-10-19T15:56:13.044958Z",
     "iopub.status.idle": "2022-10-19T15:56:13.068384Z",
     "shell.execute_reply": "2022-10-19T15:56:13.068015Z",
     "shell.execute_reply.started": "2022-10-19T15:56:13.045438Z"
    }
   },
   "outputs": [],
   "source": [
    "KEYS = Literal[\"us_daily\", \"states\", \"stations\"]"
   ]
  },
  {
   "cell_type": "code",
   "execution_count": null,
   "id": "43d0d776-9f21-4298-a54e-7283580386b6",
   "metadata": {
    "execution": {
     "iopub.execute_input": "2022-10-19T15:56:19.100949Z",
     "iopub.status.busy": "2022-10-19T15:56:19.100363Z",
     "iopub.status.idle": "2022-10-19T15:56:19.676798Z",
     "shell.execute_reply": "2022-10-19T15:56:19.676357Z",
     "shell.execute_reply.started": "2022-10-19T15:56:19.100908Z"
    }
   },
   "outputs": [],
   "source": [
    "KEYS[0]"
   ]
  },
  {
   "cell_type": "code",
   "execution_count": null,
   "id": "ec232f5d-a0b2-478a-8a60-c5e5a20ecf08",
   "metadata": {},
   "outputs": [],
   "source": []
  }
 ],
 "metadata": {
  "kernelspec": {
   "display_name": "Python 3 (ipykernel)",
   "language": "python",
   "name": "python3"
  },
  "language_info": {
   "codemirror_mode": {
    "name": "ipython",
    "version": 3
   },
   "file_extension": ".py",
   "mimetype": "text/x-python",
   "name": "python",
   "nbconvert_exporter": "python",
   "pygments_lexer": "ipython3",
   "version": "3.10.6"
  }
 },
 "nbformat": 4,
 "nbformat_minor": 5
}
