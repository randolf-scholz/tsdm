{
 "cells": [
  {
   "cell_type": "code",
   "execution_count": null,
   "id": "fc226edd-7b8d-4d38-9208-b6cf432706c3",
   "metadata": {},
   "outputs": [],
   "source": [
    "%config InteractiveShell.ast_node_interactivity='last_expr_or_assign'"
   ]
  },
  {
   "cell_type": "code",
   "execution_count": null,
   "id": "7ecb88a4-a926-4c01-8809-4da8b1591303",
   "metadata": {},
   "outputs": [],
   "source": [
    "from tsdm.datasets import MIMIC_III_DeBrouwer2019\n",
    "\n",
    "\n",
    "ds = MIMIC_III_DeBrouwer2019()"
   ]
  },
  {
   "cell_type": "code",
   "execution_count": null,
   "id": "a3962d9b-a155-4138-b278-21da647703db",
   "metadata": {},
   "outputs": [],
   "source": [
    "ds.rawdata_paths"
   ]
  },
  {
   "cell_type": "code",
   "execution_count": null,
   "id": "5c44228e-82c0-4361-8fa2-ed4e0f1b18e5",
   "metadata": {},
   "outputs": [],
   "source": [
    "import pandas as pd\n",
    "\n",
    "raw = pd.read_csv(ds.rawdata_paths[\"complete_tensor.csv\"])"
   ]
  },
  {
   "cell_type": "code",
   "execution_count": null,
   "id": "fabb0415-c2eb-4c8c-b137-00bcd9af1d21",
   "metadata": {},
   "outputs": [],
   "source": []
  }
 ],
 "metadata": {
  "kernelspec": {
   "display_name": "Python 3 (ipykernel)",
   "language": "python",
   "name": "python3"
  },
  "language_info": {
   "codemirror_mode": {
    "name": "ipython",
    "version": 3
   },
   "file_extension": ".py",
   "mimetype": "text/x-python",
   "name": "python",
   "nbconvert_exporter": "python",
   "pygments_lexer": "ipython3",
   "version": "3.11.6"
  }
 },
 "nbformat": 4,
 "nbformat_minor": 5
}
