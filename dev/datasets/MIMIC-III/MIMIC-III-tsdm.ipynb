{
 "cells": [
  {
   "cell_type": "code",
   "execution_count": null,
   "id": "48ad4886-bf56-4f02-83f8-e949b5a12e6b",
   "metadata": {
    "tags": []
   },
   "outputs": [],
   "source": [
    "%config InteractiveShell.ast_node_interactivity='last_expr_or_assign'  # always print last expr.\n",
    "%config InlineBackend.figure_format = 'svg'\n",
    "%load_ext autoreload\n",
    "%autoreload 2\n",
    "%matplotlib inline\n",
    "\n",
    "import logging\n",
    "\n",
    "logging.basicConfig(level=logging.INFO)"
   ]
  },
  {
   "cell_type": "code",
   "execution_count": null,
   "id": "59e4c0d5-e9a2-4107-addd-d7413ad9deb0",
   "metadata": {
    "tags": []
   },
   "outputs": [],
   "source": [
    "import gzip\n",
    "from pathlib import Path\n",
    "from zipfile import ZipFile\n",
    "\n",
    "import pandas as pd\n",
    "import pyarrow as pa\n",
    "from pandas import DataFrame\n",
    "from pyarrow import csv\n",
    "\n",
    "import tsdm"
   ]
  },
  {
   "cell_type": "code",
   "execution_count": null,
   "id": "803f3527-25d4-4667-9b5c-8d9554c714da",
   "metadata": {
    "tags": []
   },
   "outputs": [],
   "source": [
    "self = tsdm.datasets.MIMIC_III(initialize=False)\n",
    "RAWDATA_PATH = self.rawdata_paths[f\"mimic-iii-clinical-database-{self.__version__}.zip\"]\n",
    "self.table_names"
   ]
  },
  {
   "cell_type": "code",
   "execution_count": null,
   "id": "83405683-7c8b-4312-804e-5f3ff4d3a0da",
   "metadata": {
    "tags": []
   },
   "outputs": [],
   "source": [
    "from tsdm.datasets.schema.mimic_iii import (\n",
    "    FALSE_VALUES,\n",
    "    NULL_VALUES,\n",
    "    SCHEMAS,\n",
    "    TRUE_VALUES,\n",
    ")\n",
    "\n",
    "TYPES_MAP = {\n",
    "    \"int64[pyarrow]\": \"ID_TYPE\",\n",
    "    \"string[pyarrow]\": \"STRING_TYPE\",\n",
    "    \"timestamp[s][pyarrow]\": \"TIME_TYPE\",\n",
    "    \"double[pyarrow]\": \"VALUE_TYPE\",\n",
    "}"
   ]
  },
  {
   "cell_type": "code",
   "execution_count": null,
   "id": "9dc97558-9323-4db3-8b25-a7ec16fd98a1",
   "metadata": {
    "tags": []
   },
   "outputs": [],
   "source": [
    "from tsdm.utils.data import filter_nulls, table_info\n",
    "\n",
    "\n",
    "def load_pandas(fname, **kwargs):\n",
    "    with ZipFile(RAWDATA_PATH, \"r\") as archive:\n",
    "        with archive.open(fname) as file:\n",
    "            options = {\n",
    "                \"dtype_backend\": \"pyarrow\",\n",
    "                \"compression\": \"gzip\",\n",
    "            } | kwargs\n",
    "            return pd.read_csv(file, **options)\n",
    "\n",
    "\n",
    "def load_gz_table(archive, fname, **options):\n",
    "    with archive.open(str(fname), \"r\") as compressed_file:\n",
    "        with gzip.open(compressed_file, \"r\") as file:\n",
    "            # table = pd.read_csv(file)\n",
    "            # return table\n",
    "            table = csv.read_csv(file, **options)\n",
    "            return table\n",
    "\n",
    "\n",
    "def load_txt(archive, fname):\n",
    "    with archive.open(str(fname), \"r\") as file:\n",
    "        return str(file.read(), encoding=\"utf8\")\n",
    "\n",
    "\n",
    "def get_table(fname, **options) -> DataFrame:\n",
    "    fname = Path(fname)\n",
    "    with ZipFile(RAWDATA_PATH, \"r\") as archive:\n",
    "        match fname.suffix:\n",
    "            case \".gz\":\n",
    "                return load_gz_table(archive, fname, **options)\n",
    "            case \".txt\":\n",
    "                return load_txt(archive, fname, **options)\n",
    "            case _:\n",
    "                raise ValueError\n",
    "\n",
    "\n",
    "def get_types(table):\n",
    "    return table.to_pandas(types_mapper=pd.ArrowDtype).dtypes.astype(str).map(TYPES_MAP)"
   ]
  },
  {
   "cell_type": "markdown",
   "id": "52850eef-daea-43ce-93fc-b511c7b79d0b",
   "metadata": {},
   "source": [
    "## ADMISSIONS"
   ]
  },
  {
   "cell_type": "code",
   "execution_count": null,
   "id": "f48a7ba1-ec75-46f6-9e89-d3b4a94775e8",
   "metadata": {
    "tags": []
   },
   "outputs": [],
   "source": [
    "table = get_table(\n",
    "    \"mimic-iii-clinical-database-1.4/ADMISSIONS.csv.gz\",\n",
    "    convert_options=csv.ConvertOptions(\n",
    "        column_types=SCHEMAS[\"ADMISSIONS\"],\n",
    "        strings_can_be_null=True,\n",
    "        null_values=NULL_VALUES,\n",
    "        true_values=TRUE_VALUES,\n",
    "        false_values=FALSE_VALUES,\n",
    "    ),\n",
    ").combine_chunks()\n",
    "table_info(table)"
   ]
  },
  {
   "cell_type": "markdown",
   "id": "c455435b-e217-4bf5-8720-82c86ff4ae1b",
   "metadata": {},
   "source": [
    "## CALLOUT"
   ]
  },
  {
   "cell_type": "code",
   "execution_count": null,
   "id": "35f154f6-76d1-4c41-8c74-d80e2db65b2f",
   "metadata": {
    "tags": []
   },
   "outputs": [],
   "source": [
    "table = get_table(\n",
    "    \"mimic-iii-clinical-database-1.4/CALLOUT.csv.gz\",\n",
    "    convert_options=csv.ConvertOptions(\n",
    "        column_types=SCHEMAS[\"CALLOUT\"],\n",
    "        strings_can_be_null=True,\n",
    "        null_values=NULL_VALUES,\n",
    "        true_values=TRUE_VALUES,\n",
    "        false_values=FALSE_VALUES,\n",
    "    ),\n",
    ").combine_chunks()\n",
    "table_info(table)"
   ]
  },
  {
   "cell_type": "markdown",
   "id": "89c00f81-aa63-4ee6-9f5e-64d4363923c9",
   "metadata": {},
   "source": [
    "## CAREGIVERS"
   ]
  },
  {
   "cell_type": "code",
   "execution_count": null,
   "id": "e34a0a36-20aa-4a12-babe-ab1f34ba3f25",
   "metadata": {
    "tags": []
   },
   "outputs": [],
   "source": [
    "table = get_table(\n",
    "    \"mimic-iii-clinical-database-1.4/CAREGIVERS.csv.gz\",\n",
    "    convert_options=csv.ConvertOptions(\n",
    "        column_types=SCHEMAS[\"CAREGIVERS\"],\n",
    "        strings_can_be_null=True,\n",
    "        null_values=NULL_VALUES,\n",
    "        true_values=TRUE_VALUES,\n",
    "        false_values=FALSE_VALUES,\n",
    "    ),\n",
    ").combine_chunks()\n",
    "table_info(table)"
   ]
  },
  {
   "cell_type": "markdown",
   "id": "13d6f1d2-5169-4824-bcfd-ea25fac40b16",
   "metadata": {},
   "source": [
    "## CHARTEVENTS"
   ]
  },
  {
   "cell_type": "code",
   "execution_count": null,
   "id": "f3cea8b9-5fb2-4681-acf8-753946293a3d",
   "metadata": {
    "tags": []
   },
   "outputs": [],
   "source": [
    "table = get_table(\n",
    "    \"mimic-iii-clinical-database-1.4/CHARTEVENTS.csv.gz\",\n",
    "    convert_options=csv.ConvertOptions(\n",
    "        column_types=SCHEMAS[\"CHARTEVENTS\"],\n",
    "        strings_can_be_null=True,\n",
    "        null_values=NULL_VALUES,\n",
    "        true_values=TRUE_VALUES,\n",
    "        false_values=FALSE_VALUES,\n",
    "    ),\n",
    ").combine_chunks()\n",
    "table_info(table)"
   ]
  },
  {
   "cell_type": "code",
   "execution_count": null,
   "id": "35f6e4a3-db5b-4ffc-a362-1df86e7e7ea4",
   "metadata": {
    "tags": []
   },
   "outputs": [],
   "source": [
    "table_info(filter_nulls(table, [\"ICUSTAY_ID\", \"VALUE\", \"VALUENUM\", \"VALUEUOM\"]))"
   ]
  },
  {
   "cell_type": "markdown",
   "id": "ff5db089-1d87-4e2d-b9fe-0e838a6f8228",
   "metadata": {},
   "source": [
    "## CPTEVENTS"
   ]
  },
  {
   "cell_type": "code",
   "execution_count": null,
   "id": "058dde38-71e5-493f-93dc-07e02a5152b2",
   "metadata": {
    "tags": []
   },
   "outputs": [],
   "source": [
    "table = (\n",
    "    get_table(\n",
    "        \"mimic-iii-clinical-database-1.4/CPTEVENTS.csv.gz\",\n",
    "        convert_options=csv.ConvertOptions(\n",
    "            column_types=SCHEMAS[\"CPTEVENTS\"],\n",
    "            strings_can_be_null=True,\n",
    "            null_values=NULL_VALUES,\n",
    "            true_values=TRUE_VALUES,\n",
    "            false_values=FALSE_VALUES,\n",
    "        ),\n",
    "    )\n",
    "    .combine_chunks()\n",
    "    .cast(pa.schema(SCHEMAS[\"CPTEVENTS\"] | {\"CHARTDATE\": DATE_TYPE}))\n",
    ")\n",
    "table_info(table)"
   ]
  },
  {
   "cell_type": "markdown",
   "id": "34d43437-9694-4b3a-bc27-f40b4fad68d0",
   "metadata": {},
   "source": [
    "## DATETIMEEVENTS"
   ]
  },
  {
   "cell_type": "code",
   "execution_count": null,
   "id": "ea154d1a-c100-4f8d-8352-afe71d71f9c5",
   "metadata": {
    "tags": []
   },
   "outputs": [],
   "source": [
    "table = get_table(\n",
    "    \"mimic-iii-clinical-database-1.4/DATETIMEEVENTS.csv.gz\",\n",
    "    convert_options=csv.ConvertOptions(\n",
    "        column_types=SCHEMAS[\"DATETIMEEVENTS\"],\n",
    "        strings_can_be_null=True,\n",
    "        null_values=NULL_VALUES,\n",
    "        true_values=TRUE_VALUES,\n",
    "        false_values=FALSE_VALUES,\n",
    "    ),\n",
    ").combine_chunks()\n",
    "table_info(table)"
   ]
  },
  {
   "cell_type": "markdown",
   "id": "878ebfa7-cf5a-45aa-8e11-9d4d57a851af",
   "metadata": {
    "tags": []
   },
   "source": [
    "## DIAGNOSES_ICD"
   ]
  },
  {
   "cell_type": "code",
   "execution_count": null,
   "id": "51c6699f-789b-424b-aca7-0d3bde9cc6c8",
   "metadata": {
    "tags": []
   },
   "outputs": [],
   "source": [
    "table = get_table(\n",
    "    \"mimic-iii-clinical-database-1.4/DIAGNOSES_ICD.csv.gz\",\n",
    "    convert_options=csv.ConvertOptions(\n",
    "        column_types=SCHEMAS[\"DIAGNOSES_ICD\"],\n",
    "        strings_can_be_null=True,\n",
    "        null_values=NULL_VALUES,\n",
    "        true_values=TRUE_VALUES,\n",
    "        false_values=FALSE_VALUES,\n",
    "    ),\n",
    ").combine_chunks()\n",
    "table_info(table)"
   ]
  },
  {
   "cell_type": "markdown",
   "id": "c6467453-f2cc-4830-91e8-5e9df0cd5ac2",
   "metadata": {},
   "source": [
    "## DRGCODES"
   ]
  },
  {
   "cell_type": "code",
   "execution_count": null,
   "id": "34029dfb-1b96-45c6-ae13-18f0094cca44",
   "metadata": {
    "tags": []
   },
   "outputs": [],
   "source": [
    "table = get_table(\n",
    "    \"mimic-iii-clinical-database-1.4/DRGCODES.csv.gz\",\n",
    "    convert_options=csv.ConvertOptions(\n",
    "        column_types=SCHEMAS[\"DRGCODES\"],\n",
    "        strings_can_be_null=True,\n",
    "        null_values=NULL_VALUES,\n",
    "        true_values=TRUE_VALUES,\n",
    "        false_values=FALSE_VALUES,\n",
    "    ),\n",
    ").combine_chunks()\n",
    "table_info(table)"
   ]
  },
  {
   "cell_type": "markdown",
   "id": "8fe229bd-f030-4263-bc87-91bc8bfabdeb",
   "metadata": {
    "tags": []
   },
   "source": [
    "## D_CPT"
   ]
  },
  {
   "cell_type": "code",
   "execution_count": null,
   "id": "e25fda45-a0df-4cd7-9fac-6f427b16df87",
   "metadata": {
    "tags": []
   },
   "outputs": [],
   "source": [
    "table = get_table(\n",
    "    \"mimic-iii-clinical-database-1.4/D_CPT.csv.gz\",\n",
    "    convert_options=csv.ConvertOptions(\n",
    "        column_types=SCHEMAS[\"D_CPT\"],\n",
    "        strings_can_be_null=True,\n",
    "        null_values=NULL_VALUES,\n",
    "        true_values=TRUE_VALUES,\n",
    "        false_values=FALSE_VALUES,\n",
    "    ),\n",
    ").combine_chunks()\n",
    "table_info(table)"
   ]
  },
  {
   "cell_type": "markdown",
   "id": "ec4d2129-6233-4e44-858a-1c4c0a4e12bf",
   "metadata": {
    "tags": []
   },
   "source": [
    "## D_ICD_DIAGNOSES"
   ]
  },
  {
   "cell_type": "code",
   "execution_count": null,
   "id": "3f9d10db-92fb-4a6f-a68a-2bf254379706",
   "metadata": {
    "tags": []
   },
   "outputs": [],
   "source": [
    "table = get_table(\n",
    "    \"mimic-iii-clinical-database-1.4/D_ICD_DIAGNOSES.csv.gz\",\n",
    "    convert_options=csv.ConvertOptions(\n",
    "        column_types=SCHEMAS[\"D_ICD_DIAGNOSES\"],\n",
    "        strings_can_be_null=True,\n",
    "        null_values=NULL_VALUES,\n",
    "        true_values=TRUE_VALUES,\n",
    "        false_values=FALSE_VALUES,\n",
    "    ),\n",
    ").combine_chunks()\n",
    "table_info(table)"
   ]
  },
  {
   "cell_type": "markdown",
   "id": "94dd2c9f-d576-4493-802a-a16b2b177578",
   "metadata": {
    "tags": []
   },
   "source": [
    "## D_ICD_PROCEDURES"
   ]
  },
  {
   "cell_type": "code",
   "execution_count": null,
   "id": "864dcb97-003d-48ba-a62e-80f0ebb1b676",
   "metadata": {
    "tags": []
   },
   "outputs": [],
   "source": [
    "table = get_table(\n",
    "    \"mimic-iii-clinical-database-1.4/D_ICD_PROCEDURES.csv.gz\",\n",
    "    convert_options=csv.ConvertOptions(\n",
    "        column_types=SCHEMAS[\"D_ICD_PROCEDURES\"],\n",
    "        strings_can_be_null=True,\n",
    "        null_values=NULL_VALUES,\n",
    "        true_values=TRUE_VALUES,\n",
    "        false_values=FALSE_VALUES,\n",
    "    ),\n",
    ").combine_chunks()\n",
    "table_info(table)"
   ]
  },
  {
   "cell_type": "markdown",
   "id": "6be3e43f-ba86-42a6-8198-5439b9da7c3a",
   "metadata": {},
   "source": [
    "## D_ITEMS"
   ]
  },
  {
   "cell_type": "code",
   "execution_count": null,
   "id": "9109e920-464d-4b68-bd52-7f4c0bb65da9",
   "metadata": {
    "tags": []
   },
   "outputs": [],
   "source": [
    "table = get_table(\n",
    "    \"mimic-iii-clinical-database-1.4/D_ITEMS.csv.gz\",\n",
    "    convert_options=csv.ConvertOptions(\n",
    "        column_types=SCHEMAS[\"D_ITEMS\"],\n",
    "        strings_can_be_null=True,\n",
    "        null_values=NULL_VALUES,\n",
    "        true_values=TRUE_VALUES,\n",
    "        false_values=FALSE_VALUES,\n",
    "    ),\n",
    ").combine_chunks()\n",
    "table_info(table)"
   ]
  },
  {
   "cell_type": "markdown",
   "id": "16082e77-9cc9-49b5-b315-3643ee7a4bdd",
   "metadata": {
    "tags": []
   },
   "source": [
    "## D_LABITEMS"
   ]
  },
  {
   "cell_type": "code",
   "execution_count": null,
   "id": "aa765c9b-00b4-41ad-a1e5-335a16a88aff",
   "metadata": {
    "tags": []
   },
   "outputs": [],
   "source": [
    "table = get_table(\n",
    "    \"mimic-iii-clinical-database-1.4/D_LABITEMS.csv.gz\",\n",
    "    convert_options=csv.ConvertOptions(\n",
    "        column_types=SCHEMAS[\"D_LABITEMS\"],\n",
    "        strings_can_be_null=True,\n",
    "        null_values=NULL_VALUES,\n",
    "        true_values=TRUE_VALUES,\n",
    "        false_values=FALSE_VALUES,\n",
    "    ),\n",
    ").combine_chunks()\n",
    "table_info(table)"
   ]
  },
  {
   "cell_type": "markdown",
   "id": "1a67e3c3-1a6b-4ee8-b908-dedea21f22c7",
   "metadata": {
    "tags": []
   },
   "source": [
    "## ICUSTAYS"
   ]
  },
  {
   "cell_type": "code",
   "execution_count": null,
   "id": "b2be9347-6791-4ca6-9d8c-6a49565cdbee",
   "metadata": {
    "tags": []
   },
   "outputs": [],
   "source": [
    "table = get_table(\n",
    "    \"mimic-iii-clinical-database-1.4/ICUSTAYS.csv.gz\",\n",
    "    convert_options=csv.ConvertOptions(\n",
    "        column_types=SCHEMAS[\"ICUSTAYS\"],\n",
    "        strings_can_be_null=True,\n",
    "        null_values=NULL_VALUES,\n",
    "        true_values=TRUE_VALUES,\n",
    "        false_values=FALSE_VALUES,\n",
    "    ),\n",
    ").combine_chunks()\n",
    "table_info(table)"
   ]
  },
  {
   "cell_type": "markdown",
   "id": "e3ddf21a-dbb8-490c-8f4d-58fa61ca0f84",
   "metadata": {},
   "source": [
    "## INPUTEVENTS_CV"
   ]
  },
  {
   "cell_type": "code",
   "execution_count": null,
   "id": "99753121-282f-442a-b2ed-a4a6f4b9023b",
   "metadata": {
    "tags": []
   },
   "outputs": [],
   "source": [
    "table = get_table(\n",
    "    \"mimic-iii-clinical-database-1.4/INPUTEVENTS_CV.csv.gz\",\n",
    "    convert_options=csv.ConvertOptions(\n",
    "        column_types=SCHEMAS[\"INPUTEVENTS_CV\"],\n",
    "        strings_can_be_null=True,\n",
    "        null_values=NULL_VALUES,\n",
    "        true_values=TRUE_VALUES,\n",
    "        false_values=FALSE_VALUES,\n",
    "    ),\n",
    ").combine_chunks()\n",
    "table_info(table)"
   ]
  },
  {
   "cell_type": "markdown",
   "id": "24f668ce-d96c-4ec9-981e-b7664552b2fc",
   "metadata": {},
   "source": [
    "## INPUTEVENTS_MV"
   ]
  },
  {
   "cell_type": "code",
   "execution_count": null,
   "id": "053b7d6f-7866-494b-82e8-07f97de30cf6",
   "metadata": {
    "tags": []
   },
   "outputs": [],
   "source": [
    "table = get_table(\n",
    "    \"mimic-iii-clinical-database-1.4/INPUTEVENTS_MV.csv.gz\",\n",
    "    convert_options=csv.ConvertOptions(\n",
    "        column_types=SCHEMAS[\"INPUTEVENTS_MV\"],\n",
    "        strings_can_be_null=True,\n",
    "        null_values=NULL_VALUES,\n",
    "        true_values=TRUE_VALUES,\n",
    "        false_values=FALSE_VALUES,\n",
    "    ),\n",
    ").combine_chunks()\n",
    "table_info(table)"
   ]
  },
  {
   "cell_type": "markdown",
   "id": "1019e2dd-fa98-4a1c-9658-8dea913d0fa4",
   "metadata": {},
   "source": [
    "## LABEVENTS"
   ]
  },
  {
   "cell_type": "code",
   "execution_count": null,
   "id": "003ba14c-48c4-468f-b5f8-c50bc456abb3",
   "metadata": {
    "tags": []
   },
   "outputs": [],
   "source": [
    "table = get_table(\n",
    "    \"mimic-iii-clinical-database-1.4/LABEVENTS.csv.gz\",\n",
    "    convert_options=csv.ConvertOptions(\n",
    "        column_types=SCHEMAS[\"LABEVENTS\"],\n",
    "        strings_can_be_null=True,\n",
    "        null_values=NULL_VALUES,\n",
    "        true_values=TRUE_VALUES,\n",
    "        false_values=FALSE_VALUES,\n",
    "    ),\n",
    ").combine_chunks()\n",
    "table_info(table)"
   ]
  },
  {
   "cell_type": "code",
   "execution_count": null,
   "id": "115fce27-1435-43bc-a900-be407ed4ad4a",
   "metadata": {
    "tags": []
   },
   "outputs": [],
   "source": [
    "table_info(filter_nulls(table, [\"VALUE\", \"VALUENUM\", \"VALUEUOM\"]))"
   ]
  },
  {
   "cell_type": "markdown",
   "id": "d6d79e0e-7d71-4fc4-a024-0ffc87fb6b31",
   "metadata": {},
   "source": [
    "## MICROBIOLOGYEVENTS"
   ]
  },
  {
   "cell_type": "code",
   "execution_count": null,
   "id": "7f479d54-c0f8-42d5-9422-c9b52de7eb35",
   "metadata": {
    "tags": []
   },
   "outputs": [],
   "source": [
    "table = (\n",
    "    get_table(\n",
    "        \"mimic-iii-clinical-database-1.4/MICROBIOLOGYEVENTS.csv.gz\",\n",
    "        convert_options=csv.ConvertOptions(\n",
    "            column_types=SCHEMAS[\"MICROBIOLOGYEVENTS\"],\n",
    "            strings_can_be_null=True,\n",
    "            null_values=NULL_VALUES,\n",
    "            true_values=TRUE_VALUES,\n",
    "            false_values=FALSE_VALUES,\n",
    "        ),\n",
    "    )\n",
    "    .combine_chunks()\n",
    "    .cast(pa.schema(SCHEMAS[\"MICROBIOLOGYEVENTS\"] | {\"CHARTDATE\": DATE_TYPE}))\n",
    ")\n",
    "table_info(table)"
   ]
  },
  {
   "cell_type": "markdown",
   "id": "282ce40e-a440-4d64-9f66-e876a37b1c4b",
   "metadata": {},
   "source": [
    "## NOTEEVENTS"
   ]
  },
  {
   "cell_type": "code",
   "execution_count": null,
   "id": "a91fe279-ee94-4726-a85d-eee042bb3468",
   "metadata": {
    "tags": []
   },
   "outputs": [],
   "source": [
    "table = get_table(\n",
    "    \"mimic-iii-clinical-database-1.4/NOTEEVENTS.csv.gz\",\n",
    "    convert_options=pa.csv.ConvertOptions(\n",
    "        column_types=SCHEMAS[\"NOTEEVENTS\"],\n",
    "        strings_can_be_null=True,\n",
    "        null_values=NULL_VALUES,\n",
    "        true_values=TRUE_VALUES,\n",
    "        false_values=FALSE_VALUES,\n",
    "    ),\n",
    "    parse_options=pa.csv.ParseOptions(newlines_in_values=True),\n",
    ").combine_chunks()\n",
    "table_info(table)"
   ]
  },
  {
   "cell_type": "markdown",
   "id": "f0c6fda8-570d-45c6-a413-59c3d1bf0246",
   "metadata": {},
   "source": [
    "## OUTPUTEVENTS"
   ]
  },
  {
   "cell_type": "code",
   "execution_count": null,
   "id": "85862556-61d1-4d87-ab09-4f4e38739f44",
   "metadata": {
    "tags": []
   },
   "outputs": [],
   "source": [
    "table = get_table(\n",
    "    \"mimic-iii-clinical-database-1.4/OUTPUTEVENTS.csv.gz\",\n",
    "    convert_options=csv.ConvertOptions(\n",
    "        column_types=SCHEMAS[\"OUTPUTEVENTS\"],\n",
    "        strings_can_be_null=True,\n",
    "        null_values=NULL_VALUES,\n",
    "        true_values=TRUE_VALUES,\n",
    "        false_values=FALSE_VALUES,\n",
    "    ),\n",
    ").combine_chunks()\n",
    "table_info(table)"
   ]
  },
  {
   "cell_type": "code",
   "execution_count": null,
   "id": "34f66128-24a5-4e09-a999-5114b68d26a0",
   "metadata": {
    "tags": []
   },
   "outputs": [],
   "source": [
    "table_info(filter_nulls(table, [\"VALUE\", \"VALUEUOM\"]))"
   ]
  },
  {
   "cell_type": "markdown",
   "id": "313437db-6122-4403-adc2-abf04ec6cab8",
   "metadata": {},
   "source": [
    "## PATIENTS"
   ]
  },
  {
   "cell_type": "code",
   "execution_count": null,
   "id": "fdcee926-12f5-4684-9c72-32a80b272609",
   "metadata": {
    "tags": []
   },
   "outputs": [],
   "source": [
    "table = (\n",
    "    get_table(\n",
    "        \"mimic-iii-clinical-database-1.4/PATIENTS.csv.gz\",\n",
    "        convert_options=csv.ConvertOptions(\n",
    "            column_types=SCHEMAS[\"PATIENTS\"],\n",
    "            strings_can_be_null=True,\n",
    "            null_values=NULL_VALUES,\n",
    "            true_values=TRUE_VALUES,\n",
    "            false_values=FALSE_VALUES,\n",
    "        ),\n",
    "    )\n",
    "    .cast(\n",
    "        pa.schema(\n",
    "            SCHEMAS[\"PATIENTS\"]\n",
    "            | {key: DATE_TYPE for key in (\"DOB\", \"DOD\", \"DOD_HOSP\", \"DOD_SSN\")}\n",
    "        )\n",
    "    )\n",
    "    .combine_chunks()\n",
    ")\n",
    "table_info(table)"
   ]
  },
  {
   "cell_type": "markdown",
   "id": "a2379edb-8dd1-4c69-bca6-3637d25b23ea",
   "metadata": {},
   "source": [
    "## PRESCRIPTIONS"
   ]
  },
  {
   "cell_type": "code",
   "execution_count": null,
   "id": "cd9ff462-161c-41a9-8010-b7e652f092ae",
   "metadata": {
    "tags": []
   },
   "outputs": [],
   "source": [
    "table = (\n",
    "    get_table(\n",
    "        \"mimic-iii-clinical-database-1.4/PRESCRIPTIONS.csv.gz\",\n",
    "        convert_options=csv.ConvertOptions(\n",
    "            column_types=SCHEMAS[\"PRESCRIPTIONS\"],\n",
    "            strings_can_be_null=True,\n",
    "            null_values=NULL_VALUES,\n",
    "            true_values=TRUE_VALUES,\n",
    "            false_values=FALSE_VALUES,\n",
    "        ),\n",
    "    )\n",
    "    .combine_chunks()\n",
    "    .cast(\n",
    "        pa.schema(\n",
    "            SCHEMAS[\"PRESCRIPTIONS\"] | {\"STARTDATE\": DATE_TYPE, \"ENDDATE\": DATE_TYPE}\n",
    "        )\n",
    "    )\n",
    ")\n",
    "table_info(table)"
   ]
  },
  {
   "cell_type": "markdown",
   "id": "2b01072a-3acb-4ac1-b84e-fcb986ee3a1d",
   "metadata": {
    "tags": []
   },
   "source": [
    "## PROCEDUREEVENTS_MV"
   ]
  },
  {
   "cell_type": "code",
   "execution_count": null,
   "id": "0d7b601e-805f-482e-ae92-d6fab35b9afa",
   "metadata": {
    "tags": []
   },
   "outputs": [],
   "source": [
    "table = get_table(\n",
    "    \"mimic-iii-clinical-database-1.4/PROCEDUREEVENTS_MV.csv.gz\",\n",
    "    convert_options=csv.ConvertOptions(\n",
    "        column_types=SCHEMAS[\"PROCEDUREEVENTS_MV\"],\n",
    "        strings_can_be_null=True,\n",
    "        null_values=NULL_VALUES,\n",
    "        true_values=TRUE_VALUES,\n",
    "        false_values=FALSE_VALUES,\n",
    "    ),\n",
    ").combine_chunks()\n",
    "table_info(table)"
   ]
  },
  {
   "cell_type": "markdown",
   "id": "1d74e012-7df0-4128-9a2a-8581c46666f8",
   "metadata": {
    "tags": []
   },
   "source": [
    "## PROCEDURES_ICD"
   ]
  },
  {
   "cell_type": "code",
   "execution_count": null,
   "id": "456c1ac4-b2ad-4922-ae51-e25ea046d52a",
   "metadata": {
    "tags": []
   },
   "outputs": [],
   "source": [
    "table = get_table(\n",
    "    \"mimic-iii-clinical-database-1.4/PROCEDURES_ICD.csv.gz\",\n",
    "    convert_options=csv.ConvertOptions(\n",
    "        column_types=SCHEMAS[\"PROCEDURES_ICD\"],\n",
    "        strings_can_be_null=True,\n",
    "        null_values=NULL_VALUES,\n",
    "        true_values=TRUE_VALUES,\n",
    "        false_values=FALSE_VALUES,\n",
    "    ),\n",
    ").combine_chunks()\n",
    "table_info(table)"
   ]
  },
  {
   "cell_type": "markdown",
   "id": "0353c3cb-fadc-483e-bc83-7b6ccc24312c",
   "metadata": {
    "tags": []
   },
   "source": [
    "## SERVICES"
   ]
  },
  {
   "cell_type": "code",
   "execution_count": null,
   "id": "72830480-0303-4ad3-affa-9e25d157010b",
   "metadata": {
    "tags": []
   },
   "outputs": [],
   "source": [
    "table = get_table(\n",
    "    \"mimic-iii-clinical-database-1.4/SERVICES.csv.gz\",\n",
    "    convert_options=csv.ConvertOptions(\n",
    "        column_types=SCHEMAS[\"SERVICES\"],\n",
    "        strings_can_be_null=True,\n",
    "        null_values=NULL_VALUES,\n",
    "        true_values=TRUE_VALUES,\n",
    "        false_values=FALSE_VALUES,\n",
    "    ),\n",
    ").combine_chunks()\n",
    "table_info(table)"
   ]
  },
  {
   "cell_type": "markdown",
   "id": "cbd6e6bf-bddc-4eb4-8b63-74ff05e95ce8",
   "metadata": {},
   "source": [
    "## TRANSFERS"
   ]
  },
  {
   "cell_type": "code",
   "execution_count": null,
   "id": "b6547a2a-5cc1-406c-8ea5-4a186fe2bdf7",
   "metadata": {
    "tags": []
   },
   "outputs": [],
   "source": [
    "table = get_table(\n",
    "    \"mimic-iii-clinical-database-1.4/TRANSFERS.csv.gz\",\n",
    "    convert_options=csv.ConvertOptions(\n",
    "        column_types=SCHEMAS[\"TRANSFERS\"],\n",
    "        strings_can_be_null=True,\n",
    "        null_values=NULL_VALUES,\n",
    "        true_values=TRUE_VALUES,\n",
    "        false_values=FALSE_VALUES,\n",
    "    ),\n",
    ").combine_chunks()\n",
    "table_info(table)"
   ]
  },
  {
   "cell_type": "markdown",
   "id": "a4b0e8d5-5766-40dd-a895-089d6d435ad8",
   "metadata": {},
   "source": [
    "## FIN"
   ]
  }
 ],
 "metadata": {
  "kernelspec": {
   "display_name": "Python 3 (ipykernel)",
   "language": "python",
   "name": "python3"
  },
  "language_info": {
   "codemirror_mode": {
    "name": "ipython",
    "version": 3
   },
   "file_extension": ".py",
   "mimetype": "text/x-python",
   "name": "python",
   "nbconvert_exporter": "python",
   "pygments_lexer": "ipython3",
   "version": "3.10.11"
  }
 },
 "nbformat": 4,
 "nbformat_minor": 5
}
