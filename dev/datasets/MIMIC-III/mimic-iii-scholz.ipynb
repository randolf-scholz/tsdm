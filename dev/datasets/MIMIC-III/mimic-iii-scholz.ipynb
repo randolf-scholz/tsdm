{
 "cells": [
  {
   "cell_type": "code",
   "execution_count": null,
   "id": "cef3d9ae-4b74-4b55-88d4-522b7b6793d8",
   "metadata": {
    "tags": []
   },
   "source": [
    "%config InteractiveShell.ast_node_interactivity='last_expr_or_assign'  # always print last expr.\n",
    "%config InlineBackend.figure_format = 'svg'\n",
    "%load_ext autoreload\n",
    "%autoreload 2\n",
    "\n",
    "import logging\n",
    "\n",
    "logging.basicConfig(level=logging.INFO)\n",
    "\n",
    "import numpy as np\n",
    "import pandas as pd\n",
    "import tsdm\n",
    "import polars as pl\n",
    "import pyarrow as pa\n",
    "\n",
    "ARROW_DURATION_TYPES = {\n",
    "    pd.ArrowDtype(pa.duration(unit)) for unit in [\"s\", \"ms\", \"us\", \"ns\"]\n",
    "}\n",
    "\n",
    "ARROW_TIMESTAMP_TYPES = {\n",
    "    pd.ArrowDtype(pa.timestamp(unit)) for unit in [\"s\", \"ms\", \"us\", \"ns\"]\n",
    "}\n",
    "\n",
    "ARROW_DATE_TYPES = {pd.ArrowDtype(pa.date32()), pd.ArrowDtype(pa.date64())}\n",
    "\n",
    "\n",
    "def map_dtypes(df):\n",
    "    \"\"\"Converts pyarrow date/timestamp/duration types to numpy equivalents.\n",
    "\n",
    "    Rationale: pyarrow types are currently bugged and do not support all operations.\n",
    "    \"\"\"\n",
    "\n",
    "    for col, dtype in df.dtypes.items():\n",
    "        if dtype in ARROW_DURATION_TYPES:\n",
    "            df[col] = df[col].astype(\"timedelta64[ms]\")\n",
    "        elif dtype in ARROW_TIMESTAMP_TYPES:\n",
    "            df[col] = df[col].astype(\"datetime64[ms]\")\n",
    "        elif dtype in ARROW_DATE_TYPES:\n",
    "            df[col] = df[col].astype(\"datetime64[s]\")\n",
    "    return df"
   ],
   "outputs": []
  },
  {
   "cell_type": "code",
   "execution_count": null,
   "id": "a75810aa",
   "metadata": {},
   "source": [
    "ds = tsdm.datasets.MIMIC_III()"
   ],
   "outputs": []
  },
  {
   "cell_type": "code",
   "execution_count": null,
   "id": "6a67ce0f-7da5-40b7-ad85-9cd703d39f37",
   "metadata": {},
   "source": [
    "# map dtypes in all tables.\n",
    "for name, table in ds.tables.items():\n",
    "    ds.tables[name] = map_dtypes(table)\n",
    "\n",
    "ds"
   ],
   "outputs": []
  },
  {
   "cell_type": "markdown",
   "id": "e3642ab8",
   "metadata": {},
   "source": [
    "## Processing Metadata"
   ]
  },
  {
   "cell_type": "code",
   "execution_count": null,
   "id": "255a9adf-2a92-4e8d-b007-fc3c2ca2f70b",
   "metadata": {},
   "source": [
    "# Preprocessing\n",
    "admissions = ds.ADMISSIONS\n",
    "patients = ds.PATIENTS\n",
    "metadata = pd.merge(admissions, patients, on=\"SUBJECT_ID\")\n",
    "metadata = metadata.assign(ELAPSED_TIME=metadata.DISCHTIME - metadata.ADMITTIME)\n",
    "# select patients with unique ID\n",
    "counts = metadata[\"SUBJECT_ID\"].value_counts()\n",
    "unique_patients = counts[counts == 1].index\n",
    "metadata = metadata.loc[metadata[\"SUBJECT_ID\"].isin(unique_patients)].reset_index(\n",
    "    drop=True\n",
    ")\n",
    "# select patients with 2-30 days of data.\n",
    "# NOTE: Code by GRU-ODE-Bayes used `ELAPSED_TIME.dt.day > 2` but this is incorrect,\n",
    "#  because it will select patients with at least 72 hours of data.\n",
    "metadata = metadata.loc[\n",
    "    (metadata.ELAPSED_TIME >= \"2d\") & (metadata.ELAPSED_TIME <= \"30d\")\n",
    "]\n",
    "# select patients with age between 15 and 100 years at admission.\n",
    "YEAR = np.timedelta64(365, \"D\")\n",
    "metadata = metadata.assign(AGE=metadata.ADMITTIME - metadata.DOB)\n",
    "metadata = metadata.loc[(metadata.AGE >= 15 * YEAR) & (metadata.AGE <= 100 * YEAR)]\n",
    "# select patients with chartevents data.\n",
    "metadata = metadata.loc[metadata.HAS_CHARTEVENTS_DATA]\n",
    "\n",
    "# select relevant columns.\n",
    "metadata = metadata[[\n",
    "    \"SUBJECT_ID\",\n",
    "    \"HADM_ID\",\n",
    "    \"ADMITTIME\",\n",
    "    \"DISCHTIME\",\n",
    "    \"AGE\",\n",
    "    \"ETHNICITY\",\n",
    "    \"GENDER\",\n",
    "    \"INSURANCE\",\n",
    "    \"MARITAL_STATUS\",\n",
    "    \"RELIGION\",\n",
    "]]"
   ],
   "outputs": []
  },
  {
   "cell_type": "markdown",
   "id": "dc83abd9",
   "metadata": {},
   "source": [
    "## Processing Inputevents (metavision system only)"
   ]
  },
  {
   "cell_type": "code",
   "execution_count": null,
   "id": "8dbe82f3",
   "metadata": {},
   "source": [
    "inputevents = ds.INPUTEVENTS_MV"
   ],
   "outputs": []
  },
  {
   "cell_type": "code",
   "execution_count": null,
   "id": "12587172",
   "metadata": {},
   "source": [
    "# select relevant patients.\n",
    "inputevents = inputevents.loc[inputevents.HADM_ID.isin(metadata.HADM_ID)]\n",
    "d_items = ds.D_ITEMS\n",
    "inputs = pd.merge(inputevents, d_items, on=\"ITEMID\")"
   ],
   "outputs": []
  },
  {
   "cell_type": "code",
   "execution_count": null,
   "id": "b771dd0f",
   "metadata": {},
   "source": [
    "# drop items without ICUSTAY_ID.\n",
    "inputs = inputs.loc[inputs.ICUSTAY_ID.notnull()]"
   ],
   "outputs": []
  },
  {
   "cell_type": "code",
   "execution_count": null,
   "id": "ebcc7adf",
   "metadata": {},
   "source": [
    "retained_list = [\n",
    "    \"Albumin 5%\",\n",
    "    \"Calcium Gluconate\",\n",
    "    \"D5 1/2NS\",\n",
    "    \"Dextrose 5%\",\n",
    "    \"Furosemide (Lasix)\",\n",
    "    \"GT Flush\",\n",
    "    \"Gastric Meds\",\n",
    "    \"Heparin Sodium\",\n",
    "    \"Hydralazine\",\n",
    "    \"Insulin - Glargine\",\n",
    "    \"Insulin - Humalog\",\n",
    "    \"Insulin - Regular\",\n",
    "    \"K Phos\",\n",
    "    \"KCL (Bolus)\",\n",
    "    \"LR\",\n",
    "    \"Lorazepam (Ativan)\",\n",
    "    \"Magnesium Sulfate (Bolus)\",\n",
    "    \"Magnesium Sulfate\",\n",
    "    \"Metoprolol\",\n",
    "    \"Midazolam (Versed)\",\n",
    "    \"Morphine Sulfate\",\n",
    "    \"Nitroglycerin\",\n",
    "    \"Norepinephrine\",\n",
    "    \"OR Cell Saver Intake\",\n",
    "    \"OR Crystalloid Intake\",\n",
    "    \"PO Intake\",\n",
    "    \"Packed Red Blood Cells\",\n",
    "    \"Phenylephrine\",\n",
    "    \"Piggyback\",\n",
    "    \"Potassium Chloride\",\n",
    "    \"Solution\",\n",
    "    \"Sterile Water\",\n",
    "]"
   ],
   "outputs": []
  },
  {
   "cell_type": "code",
   "execution_count": null,
   "id": "75ae363d",
   "metadata": {},
   "source": [
    "# select items with more than 5000 measurements.\n",
    "item_counts = inputs[\"ITEMID\"].value_counts()\n",
    "top_items = item_counts.loc[item_counts > 5000].index\n",
    "inputs = inputs.loc[inputs.ITEMID.isin(top_items)]"
   ],
   "outputs": []
  },
  {
   "cell_type": "code",
   "execution_count": null,
   "id": "572fbefc",
   "metadata": {},
   "source": [],
   "outputs": []
  },
  {
   "cell_type": "code",
   "execution_count": null,
   "id": "ecd04453",
   "metadata": {},
   "source": [],
   "outputs": []
  },
  {
   "cell_type": "code",
   "execution_count": null,
   "id": "3eca6b23",
   "metadata": {},
   "source": [],
   "outputs": []
  }
 ],
 "metadata": {
  "kernelspec": {
   "display_name": "Python 3 (ipykernel)",
   "language": "python",
   "name": "python3"
  },
  "language_info": {
   "codemirror_mode": {
    "name": "ipython",
    "version": 3
   },
   "file_extension": ".py",
   "mimetype": "text/x-python",
   "name": "python",
   "nbconvert_exporter": "python",
   "pygments_lexer": "ipython3",
   "version": "3.11.6"
  }
 },
 "nbformat": 4,
 "nbformat_minor": 5
}
