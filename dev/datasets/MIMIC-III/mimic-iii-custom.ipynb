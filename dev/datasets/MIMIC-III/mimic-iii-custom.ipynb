{
 "cells": [
  {
   "cell_type": "code",
   "execution_count": null,
   "id": "cef3d9ae-4b74-4b55-88d4-522b7b6793d8",
   "metadata": {
    "execution": {
     "iopub.execute_input": "2023-04-26T16:02:51.060405Z",
     "iopub.status.busy": "2023-04-26T16:02:51.060287Z",
     "iopub.status.idle": "2023-04-26T16:02:54.598686Z",
     "shell.execute_reply": "2023-04-26T16:02:54.598091Z",
     "shell.execute_reply.started": "2023-04-26T16:02:51.060393Z"
    },
    "tags": []
   },
   "outputs": [],
   "source": [
    "%config InteractiveShell.ast_node_interactivity='last_expr_or_assign'  # always print last expr.\n",
    "%config InlineBackend.figure_format = 'svg'\n",
    "%load_ext autoreload\n",
    "%autoreload 2\n",
    "\n",
    "import logging\n",
    "\n",
    "logging.basicConfig(level=logging.INFO)\n",
    "\n",
    "from tsdm.datasets import *"
   ]
  },
  {
   "cell_type": "code",
   "execution_count": null,
   "id": "49457e31-971e-4f77-96a0-f668c6073b71",
   "metadata": {
    "execution": {
     "iopub.execute_input": "2023-04-26T16:02:54.599795Z",
     "iopub.status.busy": "2023-04-26T16:02:54.599468Z",
     "iopub.status.idle": "2023-04-26T16:02:54.714933Z",
     "shell.execute_reply": "2023-04-26T16:02:54.714637Z",
     "shell.execute_reply.started": "2023-04-26T16:02:54.599781Z"
    },
    "tags": []
   },
   "outputs": [],
   "source": [
    "self = MIMIC_III_DeBrouwer2019()"
   ]
  },
  {
   "cell_type": "code",
   "execution_count": null,
   "id": "5accd19e-2526-486d-b18f-01a7d44fc8f1",
   "metadata": {
    "execution": {
     "iopub.execute_input": "2023-04-26T16:18:57.365510Z",
     "iopub.status.busy": "2023-04-26T16:18:57.364981Z",
     "iopub.status.idle": "2023-04-26T16:18:57.738878Z",
     "shell.execute_reply": "2023-04-26T16:18:57.738350Z",
     "shell.execute_reply.started": "2023-04-26T16:18:57.365493Z"
    },
    "tags": []
   },
   "outputs": [],
   "source": [
    "x: [1, 2] = 2"
   ]
  },
  {
   "cell_type": "code",
   "execution_count": null,
   "id": "131bddcc-cab7-4fed-8d93-746891c88767",
   "metadata": {
    "execution": {
     "iopub.execute_input": "2023-04-26T16:04:07.546603Z",
     "iopub.status.busy": "2023-04-26T16:04:07.546380Z",
     "iopub.status.idle": "2023-04-26T16:04:07.594552Z",
     "shell.execute_reply": "2023-04-26T16:04:07.594095Z",
     "shell.execute_reply.started": "2023-04-26T16:04:07.546588Z"
    },
    "tags": []
   },
   "outputs": [],
   "source": [
    "\"0\".isidentifier()"
   ]
  },
  {
   "cell_type": "code",
   "execution_count": null,
   "id": "f47887f5-0ef1-4f64-bb87-291ec0f8c79b",
   "metadata": {
    "execution": {
     "iopub.execute_input": "2023-04-26T16:13:30.304702Z",
     "iopub.status.busy": "2023-04-26T16:13:30.304469Z",
     "iopub.status.idle": "2023-04-26T16:13:44.006136Z",
     "shell.execute_reply": "2023-04-26T16:13:44.005717Z",
     "shell.execute_reply.started": "2023-04-26T16:13:30.304688Z"
    },
    "tags": []
   },
   "outputs": [],
   "source": [
    "import matplotlib.pyplot as plt\n",
    "\n",
    "\n",
    "fig, axes = plt.subplots(16, 6, figsize=(20, 32), constrained_layout=True, sharey=True)\n",
    "\n",
    "for col, ax in zip(self.timeseries, axes.flatten()):\n",
    "    self.timeseries[col].hist(ax=ax, density=True, log=True, bins=20)\n",
    "    ax.set_ylim(10**-6, 1)"
   ]
  },
  {
   "cell_type": "code",
   "execution_count": null,
   "id": "12deea56-4c88-43c7-b6cf-362a5fced9ad",
   "metadata": {
    "execution": {
     "iopub.execute_input": "2023-04-26T16:03:16.522964Z",
     "iopub.status.busy": "2023-04-26T16:03:16.522827Z",
     "iopub.status.idle": "2023-04-26T16:03:16.565057Z",
     "shell.execute_reply": "2023-04-26T16:03:16.564682Z",
     "shell.execute_reply.started": "2023-04-26T16:03:16.522951Z"
    },
    "tags": []
   },
   "outputs": [],
   "source": [
    "%matplotlib inline\n",
    "\n",
    "(self.metadata[\"min\"] == 0).mean()"
   ]
  },
  {
   "cell_type": "code",
   "execution_count": null,
   "id": "dc87dcd5-55c9-46d7-8ae8-bd4c9c365611",
   "metadata": {
    "execution": {
     "iopub.execute_input": "2023-04-26T16:02:15.358167Z",
     "iopub.status.busy": "2023-04-26T16:02:15.357920Z",
     "iopub.status.idle": "2023-04-26T16:02:15.402485Z",
     "shell.execute_reply": "2023-04-26T16:02:15.401952Z",
     "shell.execute_reply.started": "2023-04-26T16:02:15.358152Z"
    },
    "tags": []
   },
   "outputs": [],
   "source": [
    "import pandas as pd\n",
    "from pandas import DataFrame"
   ]
  },
  {
   "cell_type": "code",
   "execution_count": null,
   "id": "1b75963e-1b6b-4105-86f4-0921415e7e2e",
   "metadata": {
    "execution": {
     "iopub.execute_input": "2023-04-26T15:21:48.195067Z",
     "iopub.status.busy": "2023-04-26T15:21:48.194865Z",
     "iopub.status.idle": "2023-04-26T15:21:49.611216Z",
     "shell.execute_reply": "2023-04-26T15:21:49.610846Z",
     "shell.execute_reply.started": "2023-04-26T15:21:48.195055Z"
    },
    "tags": []
   },
   "outputs": [],
   "source": [
    "self.LOGGER.info(\"Loading main file.\")\n",
    "ts = pd.read_csv(self.rawdata_paths[\"complete_tensor.csv\"], index_col=0)\n",
    "\n",
    "# Check shape.\n",
    "if ts.shape != self.rawdata_shapes[\"complete_tensor.csv\"]:\n",
    "    raise ValueError(\n",
    "        f\"The {ts.shape=} is not correct.\"\n",
    "        \"Please apply the modified preprocessing using bin_k=2, as outlined in\"\n",
    "        \"the appendix. The resulting tensor should have 3082224 rows and 7 columns.\"\n",
    "    )\n",
    "\n",
    "ts = ts.astype(self.rawdata_schemas[\"complete_tensor.csv\"]).sort_values(\n",
    "    by=[\"UNIQUE_ID\", \"TIME_STAMP\"]\n",
    ")"
   ]
  },
  {
   "cell_type": "code",
   "execution_count": null,
   "id": "9f19fe33-a405-4d6e-8a3d-b494045208eb",
   "metadata": {
    "execution": {
     "iopub.execute_input": "2023-04-26T15:21:49.612052Z",
     "iopub.status.busy": "2023-04-26T15:21:49.611903Z",
     "iopub.status.idle": "2023-04-26T15:21:49.836680Z",
     "shell.execute_reply": "2023-04-26T15:21:49.836220Z",
     "shell.execute_reply.started": "2023-04-26T15:21:49.612040Z"
    },
    "tags": []
   },
   "outputs": [],
   "source": [
    "means = ts.groupby(\"LABEL_CODE\").mean()[\"VALUENUM\"].rename(\"MEANS\")\n",
    "stdvs = ts.groupby(\"LABEL_CODE\").std()[\"VALUENUM\"].rename(\"STDVS\")\n",
    "stats = (\n",
    "    DataFrame([means, stdvs])\n",
    "    .T.reset_index()\n",
    "    .astype(\n",
    "        {\n",
    "            \"LABEL_CODE\": \"int16\",\n",
    "            \"MEANS\": \"float32\",\n",
    "            \"STDVS\": \"float32\",\n",
    "        }\n",
    "    )\n",
    ")"
   ]
  },
  {
   "cell_type": "code",
   "execution_count": null,
   "id": "96fd4f28-e474-4392-9acd-1624b06b7a12",
   "metadata": {
    "execution": {
     "iopub.execute_input": "2023-04-26T15:21:49.837408Z",
     "iopub.status.busy": "2023-04-26T15:21:49.837295Z",
     "iopub.status.idle": "2023-04-26T15:21:51.511060Z",
     "shell.execute_reply": "2023-04-26T15:21:51.510596Z",
     "shell.execute_reply.started": "2023-04-26T15:21:49.837398Z"
    },
    "tags": []
   },
   "outputs": [],
   "source": [
    "ts = (\n",
    "    ts[[\"UNIQUE_ID\", \"TIME_STAMP\", \"LABEL_CODE\", \"VALUENUM\"]]\n",
    "    .reset_index(drop=True)\n",
    "    .set_index([\"UNIQUE_ID\", \"TIME_STAMP\"])\n",
    "    .pivot(columns=\"LABEL_CODE\", values=\"VALUENUM\")\n",
    "    .sort_index()\n",
    "    .sort_index(axis=1)\n",
    ")"
   ]
  },
  {
   "cell_type": "code",
   "execution_count": null,
   "id": "e35805c3-992f-48c3-bd47-a0f298ac80d5",
   "metadata": {
    "execution": {
     "iopub.execute_input": "2023-04-26T15:27:34.138567Z",
     "iopub.status.busy": "2023-04-26T15:27:34.138261Z",
     "iopub.status.idle": "2023-04-26T15:27:35.210550Z",
     "shell.execute_reply": "2023-04-26T15:27:35.210106Z",
     "shell.execute_reply.started": "2023-04-26T15:27:34.138546Z"
    },
    "tags": []
   },
   "outputs": [],
   "source": [
    "ts.describe().T"
   ]
  },
  {
   "cell_type": "code",
   "execution_count": null,
   "id": "89826bca-b90c-44ad-878f-79931b46f7f8",
   "metadata": {
    "execution": {
     "iopub.execute_input": "2023-04-26T15:21:27.698173Z",
     "iopub.status.busy": "2023-04-26T15:21:27.698001Z",
     "iopub.status.idle": "2023-04-26T15:21:27.944144Z",
     "shell.execute_reply": "2023-04-26T15:21:27.943740Z",
     "shell.execute_reply.started": "2023-04-26T15:21:27.698161Z"
    },
    "tags": []
   },
   "outputs": [],
   "source": [
    "ts.mean()"
   ]
  },
  {
   "cell_type": "code",
   "execution_count": null,
   "id": "fa070ba9-0aad-4c1e-9451-0545dffa889a",
   "metadata": {},
   "outputs": [],
   "source": []
  }
 ],
 "metadata": {
  "kernelspec": {
   "display_name": "Python 3 (ipykernel)",
   "language": "python",
   "name": "python3"
  },
  "language_info": {
   "codemirror_mode": {
    "name": "ipython",
    "version": 3
   },
   "file_extension": ".py",
   "mimetype": "text/x-python",
   "name": "python",
   "nbconvert_exporter": "python",
   "pygments_lexer": "ipython3",
   "version": "3.11.3"
  }
 },
 "nbformat": 4,
 "nbformat_minor": 5
}
