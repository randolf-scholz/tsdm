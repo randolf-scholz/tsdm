{
 "cells": [
  {
   "cell_type": "code",
   "execution_count": null,
   "id": "cef3d9ae-4b74-4b55-88d4-522b7b6793d8",
   "metadata": {
    "execution": {
     "iopub.execute_input": "2023-03-22T09:45:06.583651Z",
     "iopub.status.busy": "2023-03-22T09:45:06.583452Z",
     "iopub.status.idle": "2023-03-22T09:45:06.621157Z",
     "shell.execute_reply": "2023-03-22T09:45:06.620810Z",
     "shell.execute_reply.started": "2023-03-22T09:45:06.583638Z"
    },
    "tags": []
   },
   "outputs": [],
   "source": [
    "%config InteractiveShell.ast_node_interactivity='last_expr_or_assign'  # always print last expr.\n",
    "%config InlineBackend.figure_format = 'svg'\n",
    "%load_ext autoreload\n",
    "%autoreload 2\n",
    "%matplotlib inline\n",
    "\n",
    "from tsdm.datasets import MIMIC_III"
   ]
  },
  {
   "cell_type": "code",
   "execution_count": null,
   "id": "49457e31-971e-4f77-96a0-f668c6073b71",
   "metadata": {
    "execution": {
     "iopub.execute_input": "2023-03-22T09:45:11.148944Z",
     "iopub.status.busy": "2023-03-22T09:45:11.148468Z",
     "iopub.status.idle": "2023-03-22T09:45:45.938872Z",
     "shell.execute_reply": "2023-03-22T09:45:45.938237Z",
     "shell.execute_reply.started": "2023-03-22T09:45:11.148906Z"
    },
    "tags": []
   },
   "outputs": [],
   "source": [
    "MIMIC_III()"
   ]
  },
  {
   "cell_type": "code",
   "execution_count": null,
   "id": "1b75963e-1b6b-4105-86f4-0921415e7e2e",
   "metadata": {},
   "outputs": [],
   "source": []
  }
 ],
 "metadata": {
  "kernelspec": {
   "display_name": "Python 3 (ipykernel)",
   "language": "python",
   "name": "python3"
  },
  "language_info": {
   "codemirror_mode": {
    "name": "ipython",
    "version": 3
   },
   "file_extension": ".py",
   "mimetype": "text/x-python",
   "name": "python",
   "nbconvert_exporter": "python",
   "pygments_lexer": "ipython3",
   "version": "3.10.6"
  }
 },
 "nbformat": 4,
 "nbformat_minor": 5
}
