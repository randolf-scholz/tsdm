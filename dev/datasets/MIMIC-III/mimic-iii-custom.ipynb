{
 "cells": [
  {
   "cell_type": "code",
   "execution_count": null,
   "id": "cef3d9ae-4b74-4b55-88d4-522b7b6793d8",
   "metadata": {
    "execution": {
     "iopub.execute_input": "2023-08-06T23:19:56.790350Z",
     "iopub.status.busy": "2023-08-06T23:19:56.790064Z",
     "iopub.status.idle": "2023-08-06T23:20:00.891104Z",
     "shell.execute_reply": "2023-08-06T23:20:00.890270Z",
     "shell.execute_reply.started": "2023-08-06T23:19:56.790321Z"
    },
    "tags": []
   },
   "outputs": [],
   "source": [
    "%config InteractiveShell.ast_node_interactivity='last_expr_or_assign'  # always print last expr.\n",
    "%config InlineBackend.figure_format = 'svg'\n",
    "%load_ext autoreload\n",
    "%autoreload 2\n",
    "\n",
    "import logging\n",
    "\n",
    "logging.basicConfig(level=logging.INFO)\n",
    "\n",
    "from tsdm.datasets import *"
   ]
  },
  {
   "cell_type": "code",
   "execution_count": null,
   "id": "3cf828da-067d-421f-b42c-7eb75d5bf092",
   "metadata": {
    "execution": {
     "iopub.execute_input": "2023-08-07T08:04:51.619926Z",
     "iopub.status.busy": "2023-08-07T08:04:51.619092Z",
     "iopub.status.idle": "2023-08-07T08:04:51.685784Z",
     "shell.execute_reply": "2023-08-07T08:04:51.685175Z",
     "shell.execute_reply.started": "2023-08-07T08:04:51.619880Z"
    },
    "tags": []
   },
   "outputs": [],
   "source": [
    "import tsdm\n",
    "from tsdm.utils.remote import download\n",
    "\n",
    "import os\n",
    "import subprocess\n",
    "from getpass import getpass"
   ]
  },
  {
   "cell_type": "code",
   "execution_count": null,
   "id": "f8994b08-1282-4cc8-a327-a0628b1edad6",
   "metadata": {
    "execution": {
     "iopub.execute_input": "2023-08-07T08:06:13.130614Z",
     "iopub.status.busy": "2023-08-07T08:06:13.130127Z",
     "iopub.status.idle": "2023-08-07T08:06:13.203169Z",
     "shell.execute_reply": "2023-08-07T08:06:13.202477Z",
     "shell.execute_reply.started": "2023-08-07T08:06:13.130570Z"
    },
    "tags": []
   },
   "outputs": [],
   "source": [
    "ds = tsdm.datasets.MIMIC_III(initialize=False, version=\"1.2\")"
   ]
  },
  {
   "cell_type": "code",
   "execution_count": null,
   "id": "f20e1621-e499-49d8-8ab9-6610887837ec",
   "metadata": {
    "execution": {
     "iopub.execute_input": "2023-08-07T08:06:13.882502Z",
     "iopub.status.busy": "2023-08-07T08:06:13.881626Z",
     "iopub.status.idle": "2023-08-07T08:06:24.361512Z",
     "shell.execute_reply": "2023-08-07T08:06:24.360695Z",
     "shell.execute_reply.started": "2023-08-07T08:06:13.882465Z"
    },
    "tags": []
   },
   "outputs": [],
   "source": [
    "ds.download()"
   ]
  },
  {
   "cell_type": "code",
   "execution_count": null,
   "id": "144779dd-d237-463e-a208-e8d4eb9b711a",
   "metadata": {
    "execution": {
     "iopub.execute_input": "2023-08-07T08:06:44.863850Z",
     "iopub.status.busy": "2023-08-07T08:06:44.863122Z",
     "iopub.status.idle": "2023-08-07T08:06:44.930190Z",
     "shell.execute_reply": "2023-08-07T08:06:44.929694Z",
     "shell.execute_reply.started": "2023-08-07T08:06:44.863816Z"
    },
    "tags": []
   },
   "outputs": [],
   "source": [
    "ds.HOME_URL"
   ]
  },
  {
   "cell_type": "code",
   "execution_count": null,
   "id": "bc83f70a-7bb6-4e48-b542-23f78ef3de77",
   "metadata": {
    "execution": {
     "iopub.execute_input": "2023-08-07T12:22:35.963216Z",
     "iopub.status.busy": "2023-08-07T12:22:35.962173Z",
     "iopub.status.idle": "2023-08-07T12:22:36.034454Z",
     "shell.execute_reply": "2023-08-07T12:22:36.033731Z",
     "shell.execute_reply.started": "2023-08-07T12:22:35.963166Z"
    },
    "tags": []
   },
   "outputs": [],
   "source": [
    "tuple(map(int, \"1.3\".split(\".\"))) <= (1, 4)"
   ]
  },
  {
   "cell_type": "code",
   "execution_count": null,
   "id": "78e07e93-34ad-40fa-98ae-0bd01e588066",
   "metadata": {
    "execution": {
     "iopub.execute_input": "2023-08-07T12:32:01.731437Z",
     "iopub.status.busy": "2023-08-07T12:32:01.731156Z",
     "iopub.status.idle": "2023-08-07T12:32:01.771556Z",
     "shell.execute_reply": "2023-08-07T12:32:01.771038Z",
     "shell.execute_reply.started": "2023-08-07T12:32:01.731421Z"
    },
    "tags": []
   },
   "outputs": [],
   "source": [
    "from typing import Literal"
   ]
  },
  {
   "cell_type": "code",
   "execution_count": null,
   "id": "1fb39e36-5caf-48eb-b9d8-47068c2e6c22",
   "metadata": {
    "execution": {
     "iopub.execute_input": "2023-08-07T12:33:54.811883Z",
     "iopub.status.busy": "2023-08-07T12:33:54.811560Z",
     "iopub.status.idle": "2023-08-07T12:33:54.855934Z",
     "shell.execute_reply": "2023-08-07T12:33:54.855409Z",
     "shell.execute_reply.started": "2023-08-07T12:33:54.811867Z"
    },
    "tags": []
   },
   "outputs": [],
   "source": [
    "x = Literal[\"a\", \"b\"]"
   ]
  },
  {
   "cell_type": "code",
   "execution_count": null,
   "id": "d8ba648b-3ab5-4010-8ffc-9719af776757",
   "metadata": {
    "execution": {
     "iopub.execute_input": "2023-08-07T12:34:01.190928Z",
     "iopub.status.busy": "2023-08-07T12:34:01.190512Z",
     "iopub.status.idle": "2023-08-07T12:34:01.251539Z",
     "shell.execute_reply": "2023-08-07T12:34:01.251098Z",
     "shell.execute_reply.started": "2023-08-07T12:34:01.190904Z"
    },
    "tags": []
   },
   "outputs": [],
   "source": [
    "from typing import get_args"
   ]
  },
  {
   "cell_type": "code",
   "execution_count": null,
   "id": "5febc86e-7b8f-4255-8c54-c6af4fcaee37",
   "metadata": {
    "execution": {
     "iopub.execute_input": "2023-08-07T12:34:04.571112Z",
     "iopub.status.busy": "2023-08-07T12:34:04.570801Z",
     "iopub.status.idle": "2023-08-07T12:34:04.639675Z",
     "shell.execute_reply": "2023-08-07T12:34:04.638842Z",
     "shell.execute_reply.started": "2023-08-07T12:34:04.571095Z"
    },
    "tags": []
   },
   "outputs": [],
   "source": [
    "get_args(x)"
   ]
  },
  {
   "cell_type": "code",
   "execution_count": null,
   "id": "dd058aee-12d9-47e8-86d3-943f58f0859f",
   "metadata": {
    "execution": {
     "iopub.execute_input": "2023-08-06T22:44:53.059636Z",
     "iopub.status.busy": "2023-08-06T22:44:53.059426Z",
     "iopub.status.idle": "2023-08-06T22:44:53.101650Z",
     "shell.execute_reply": "2023-08-06T22:44:53.101047Z",
     "shell.execute_reply.started": "2023-08-06T22:44:53.059621Z"
    },
    "tags": []
   },
   "outputs": [],
   "source": [
    "url = ds.BASE_URL.format(version=\"1.4\")\n",
    "fname = \"mimic-iii-clinical-database-1.4.zip\""
   ]
  },
  {
   "cell_type": "code",
   "execution_count": null,
   "id": "022ffd7c-ad33-46c4-b9c7-f81596653802",
   "metadata": {
    "execution": {
     "iopub.execute_input": "2023-08-06T22:42:44.226940Z",
     "iopub.status.busy": "2023-08-06T22:42:44.226037Z",
     "iopub.status.idle": "2023-08-06T22:43:00.483511Z",
     "shell.execute_reply": "2023-08-06T22:43:00.482366Z",
     "shell.execute_reply.started": "2023-08-06T22:42:44.226909Z"
    },
    "tags": []
   },
   "outputs": [],
   "source": [
    "username = input(\"MIMIC-III username: \")\n",
    "password = getpass(prompt=\"MIMIC-III password: \", stream=None)"
   ]
  },
  {
   "cell_type": "code",
   "execution_count": null,
   "id": "7d7af035-3861-48c2-8bd0-4e0ac336315b",
   "metadata": {},
   "outputs": [],
   "source": []
  },
  {
   "cell_type": "code",
   "execution_count": null,
   "id": "87d19ae4-ac29-4c6e-8b6a-6b390e5c9717",
   "metadata": {
    "execution": {
     "iopub.execute_input": "2023-08-06T22:44:19.904750Z",
     "iopub.status.busy": "2023-08-06T22:44:19.903963Z",
     "iopub.status.idle": "2023-08-06T22:44:19.974973Z",
     "shell.execute_reply": "2023-08-06T22:44:19.974441Z",
     "shell.execute_reply.started": "2023-08-06T22:44:19.904717Z"
    },
    "tags": []
   },
   "outputs": [],
   "source": [
    "headers = {\n",
    "    \"User-Agent\": \"Wget/1.21.2\",\n",
    "}"
   ]
  },
  {
   "cell_type": "code",
   "execution_count": null,
   "id": "49d7912b-c473-4478-a96a-39e5636f6b33",
   "metadata": {
    "execution": {
     "iopub.execute_input": "2023-08-06T22:44:55.493578Z",
     "iopub.status.busy": "2023-08-06T22:44:55.493230Z",
     "iopub.status.idle": "2023-08-06T22:45:00.537696Z",
     "shell.execute_reply": "2023-08-06T22:45:00.537047Z",
     "shell.execute_reply.started": "2023-08-06T22:44:55.493563Z"
    },
    "tags": []
   },
   "outputs": [],
   "source": [
    "download(url, fname, headers=headers, username=username, password=password)"
   ]
  },
  {
   "cell_type": "code",
   "execution_count": null,
   "id": "f8f5f7f2-0d6e-4a64-80a9-787be98bf761",
   "metadata": {},
   "outputs": [],
   "source": []
  },
  {
   "cell_type": "code",
   "execution_count": null,
   "id": "a6440129-0f39-449f-8c61-00b970031ab2",
   "metadata": {},
   "outputs": [],
   "source": []
  },
  {
   "cell_type": "code",
   "execution_count": null,
   "id": "49457e31-971e-4f77-96a0-f668c6073b71",
   "metadata": {
    "execution": {
     "iopub.execute_input": "2023-04-26T16:02:54.599795Z",
     "iopub.status.busy": "2023-04-26T16:02:54.599468Z",
     "iopub.status.idle": "2023-04-26T16:02:54.714933Z",
     "shell.execute_reply": "2023-04-26T16:02:54.714637Z",
     "shell.execute_reply.started": "2023-04-26T16:02:54.599781Z"
    },
    "tags": []
   },
   "outputs": [],
   "source": [
    "self = MIMIC_III_DeBrouwer2019()"
   ]
  },
  {
   "cell_type": "code",
   "execution_count": null,
   "id": "5accd19e-2526-486d-b18f-01a7d44fc8f1",
   "metadata": {
    "execution": {
     "iopub.execute_input": "2023-04-26T16:18:57.365510Z",
     "iopub.status.busy": "2023-04-26T16:18:57.364981Z",
     "iopub.status.idle": "2023-04-26T16:18:57.738878Z",
     "shell.execute_reply": "2023-04-26T16:18:57.738350Z",
     "shell.execute_reply.started": "2023-04-26T16:18:57.365493Z"
    },
    "tags": []
   },
   "outputs": [],
   "source": [
    "x: [1, 2] = 2"
   ]
  },
  {
   "cell_type": "code",
   "execution_count": null,
   "id": "131bddcc-cab7-4fed-8d93-746891c88767",
   "metadata": {
    "execution": {
     "iopub.execute_input": "2023-04-26T16:04:07.546603Z",
     "iopub.status.busy": "2023-04-26T16:04:07.546380Z",
     "iopub.status.idle": "2023-04-26T16:04:07.594552Z",
     "shell.execute_reply": "2023-04-26T16:04:07.594095Z",
     "shell.execute_reply.started": "2023-04-26T16:04:07.546588Z"
    },
    "tags": []
   },
   "outputs": [],
   "source": [
    "\"0\".isidentifier()"
   ]
  },
  {
   "cell_type": "code",
   "execution_count": null,
   "id": "f47887f5-0ef1-4f64-bb87-291ec0f8c79b",
   "metadata": {
    "execution": {
     "iopub.execute_input": "2023-04-26T16:13:30.304702Z",
     "iopub.status.busy": "2023-04-26T16:13:30.304469Z",
     "iopub.status.idle": "2023-04-26T16:13:44.006136Z",
     "shell.execute_reply": "2023-04-26T16:13:44.005717Z",
     "shell.execute_reply.started": "2023-04-26T16:13:30.304688Z"
    },
    "tags": []
   },
   "outputs": [],
   "source": [
    "import matplotlib.pyplot as plt\n",
    "\n",
    "\n",
    "fig, axes = plt.subplots(16, 6, figsize=(20, 32), constrained_layout=True, sharey=True)\n",
    "\n",
    "for col, ax in zip(self.timeseries, axes.flatten()):\n",
    "    self.timeseries[col].hist(ax=ax, density=True, log=True, bins=20)\n",
    "    ax.set_ylim(10**-6, 1)"
   ]
  },
  {
   "cell_type": "code",
   "execution_count": null,
   "id": "12deea56-4c88-43c7-b6cf-362a5fced9ad",
   "metadata": {
    "execution": {
     "iopub.execute_input": "2023-04-26T16:03:16.522964Z",
     "iopub.status.busy": "2023-04-26T16:03:16.522827Z",
     "iopub.status.idle": "2023-04-26T16:03:16.565057Z",
     "shell.execute_reply": "2023-04-26T16:03:16.564682Z",
     "shell.execute_reply.started": "2023-04-26T16:03:16.522951Z"
    },
    "tags": []
   },
   "outputs": [],
   "source": [
    "%matplotlib inline\n",
    "\n",
    "(self.metadata[\"min\"] == 0).mean()"
   ]
  },
  {
   "cell_type": "code",
   "execution_count": null,
   "id": "dc87dcd5-55c9-46d7-8ae8-bd4c9c365611",
   "metadata": {
    "execution": {
     "iopub.execute_input": "2023-04-26T16:02:15.358167Z",
     "iopub.status.busy": "2023-04-26T16:02:15.357920Z",
     "iopub.status.idle": "2023-04-26T16:02:15.402485Z",
     "shell.execute_reply": "2023-04-26T16:02:15.401952Z",
     "shell.execute_reply.started": "2023-04-26T16:02:15.358152Z"
    },
    "tags": []
   },
   "outputs": [],
   "source": [
    "import pandas as pd\n",
    "from pandas import DataFrame"
   ]
  },
  {
   "cell_type": "code",
   "execution_count": null,
   "id": "1b75963e-1b6b-4105-86f4-0921415e7e2e",
   "metadata": {
    "execution": {
     "iopub.execute_input": "2023-04-26T15:21:48.195067Z",
     "iopub.status.busy": "2023-04-26T15:21:48.194865Z",
     "iopub.status.idle": "2023-04-26T15:21:49.611216Z",
     "shell.execute_reply": "2023-04-26T15:21:49.610846Z",
     "shell.execute_reply.started": "2023-04-26T15:21:48.195055Z"
    },
    "tags": []
   },
   "outputs": [],
   "source": [
    "self.LOGGER.info(\"Loading main file.\")\n",
    "ts = pd.read_csv(self.rawdata_paths[\"complete_tensor.csv\"], index_col=0)\n",
    "\n",
    "# Check shape.\n",
    "if ts.shape != self.rawdata_shapes[\"complete_tensor.csv\"]:\n",
    "    raise ValueError(\n",
    "        f\"The {ts.shape=} is not correct.\"\n",
    "        \"Please apply the modified preprocessing using bin_k=2, as outlined in\"\n",
    "        \"the appendix. The resulting tensor should have 3082224 rows and 7 columns.\"\n",
    "    )\n",
    "\n",
    "ts = ts.astype(self.rawdata_schemas[\"complete_tensor.csv\"]).sort_values(\n",
    "    by=[\"UNIQUE_ID\", \"TIME_STAMP\"]\n",
    ")"
   ]
  },
  {
   "cell_type": "code",
   "execution_count": null,
   "id": "9f19fe33-a405-4d6e-8a3d-b494045208eb",
   "metadata": {
    "execution": {
     "iopub.execute_input": "2023-04-26T15:21:49.612052Z",
     "iopub.status.busy": "2023-04-26T15:21:49.611903Z",
     "iopub.status.idle": "2023-04-26T15:21:49.836680Z",
     "shell.execute_reply": "2023-04-26T15:21:49.836220Z",
     "shell.execute_reply.started": "2023-04-26T15:21:49.612040Z"
    },
    "tags": []
   },
   "outputs": [],
   "source": [
    "means = ts.groupby(\"LABEL_CODE\").mean()[\"VALUENUM\"].rename(\"MEANS\")\n",
    "stdvs = ts.groupby(\"LABEL_CODE\").std()[\"VALUENUM\"].rename(\"STDVS\")\n",
    "stats = (\n",
    "    DataFrame([means, stdvs])\n",
    "    .T.reset_index()\n",
    "    .astype(\n",
    "        {\n",
    "            \"LABEL_CODE\": \"int16\",\n",
    "            \"MEANS\": \"float32\",\n",
    "            \"STDVS\": \"float32\",\n",
    "        }\n",
    "    )\n",
    ")"
   ]
  },
  {
   "cell_type": "code",
   "execution_count": null,
   "id": "96fd4f28-e474-4392-9acd-1624b06b7a12",
   "metadata": {
    "execution": {
     "iopub.execute_input": "2023-04-26T15:21:49.837408Z",
     "iopub.status.busy": "2023-04-26T15:21:49.837295Z",
     "iopub.status.idle": "2023-04-26T15:21:51.511060Z",
     "shell.execute_reply": "2023-04-26T15:21:51.510596Z",
     "shell.execute_reply.started": "2023-04-26T15:21:49.837398Z"
    },
    "tags": []
   },
   "outputs": [],
   "source": [
    "ts = (\n",
    "    ts[[\"UNIQUE_ID\", \"TIME_STAMP\", \"LABEL_CODE\", \"VALUENUM\"]]\n",
    "    .reset_index(drop=True)\n",
    "    .set_index([\"UNIQUE_ID\", \"TIME_STAMP\"])\n",
    "    .pivot(columns=\"LABEL_CODE\", values=\"VALUENUM\")\n",
    "    .sort_index()\n",
    "    .sort_index(axis=1)\n",
    ")"
   ]
  },
  {
   "cell_type": "code",
   "execution_count": null,
   "id": "e35805c3-992f-48c3-bd47-a0f298ac80d5",
   "metadata": {
    "execution": {
     "iopub.execute_input": "2023-04-26T15:27:34.138567Z",
     "iopub.status.busy": "2023-04-26T15:27:34.138261Z",
     "iopub.status.idle": "2023-04-26T15:27:35.210550Z",
     "shell.execute_reply": "2023-04-26T15:27:35.210106Z",
     "shell.execute_reply.started": "2023-04-26T15:27:34.138546Z"
    },
    "tags": []
   },
   "outputs": [],
   "source": [
    "ts.describe().T"
   ]
  },
  {
   "cell_type": "code",
   "execution_count": null,
   "id": "89826bca-b90c-44ad-878f-79931b46f7f8",
   "metadata": {
    "execution": {
     "iopub.execute_input": "2023-04-26T15:21:27.698173Z",
     "iopub.status.busy": "2023-04-26T15:21:27.698001Z",
     "iopub.status.idle": "2023-04-26T15:21:27.944144Z",
     "shell.execute_reply": "2023-04-26T15:21:27.943740Z",
     "shell.execute_reply.started": "2023-04-26T15:21:27.698161Z"
    },
    "tags": []
   },
   "outputs": [],
   "source": [
    "ts.mean()"
   ]
  },
  {
   "cell_type": "code",
   "execution_count": null,
   "id": "fa070ba9-0aad-4c1e-9451-0545dffa889a",
   "metadata": {},
   "outputs": [],
   "source": []
  }
 ],
 "metadata": {
  "kernelspec": {
   "display_name": "Python 3 (ipykernel)",
   "language": "python",
   "name": "python3"
  },
  "language_info": {
   "codemirror_mode": {
    "name": "ipython",
    "version": 3
   },
   "file_extension": ".py",
   "mimetype": "text/x-python",
   "name": "python",
   "nbconvert_exporter": "python",
   "pygments_lexer": "ipython3",
   "version": "3.10.11"
  }
 },
 "nbformat": 4,
 "nbformat_minor": 5
}
