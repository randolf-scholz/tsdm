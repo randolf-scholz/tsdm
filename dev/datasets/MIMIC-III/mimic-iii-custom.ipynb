{
 "cells": [
  {
   "cell_type": "code",
   "execution_count": 1,
   "id": "cef3d9ae-4b74-4b55-88d4-522b7b6793d8",
   "metadata": {
    "execution": {
     "iopub.execute_input": "2023-10-09T19:20:43.115363Z",
     "iopub.status.busy": "2023-10-09T19:20:43.114609Z",
     "iopub.status.idle": "2023-10-09T19:20:47.696539Z",
     "shell.execute_reply": "2023-10-09T19:20:47.695785Z",
     "shell.execute_reply.started": "2023-10-09T19:20:43.115330Z"
    },
    "tags": []
   },
   "outputs": [
    {
     "name": "stderr",
     "output_type": "stream",
     "text": [
      "INFO:tsdm.config._config.Config:Available Models: {'Latent-ODE', 'M-RNN', 'TPA', 'IP-Net', 'NCDE', 'ODE-RNN', 'Informer', 'mTAN', 'SET-TS', 'GRU-ODE-Bayes', 'NODE', 'TFT', 'BRITS', 'N-BEATS'}\n",
      "INFO:tsdm.config._config.Config:Available Datasets: {'M4', 'M5', 'tourism1', 'UWAVE', 'Household Consumption', 'Physionet 2012', 'Air Quality', 'tourism2', 'Electricity', 'Human Activity', 'Physionet 2019', 'USHCN', 'Traffic', 'MuJoCo', 'Air Quality Multi-Site', 'M3', 'Character Trajectories'}\n",
      "INFO:numexpr.utils:Note: NumExpr detected 24 cores but \"NUMEXPR_MAX_THREADS\" not set, so enforcing safe limit of 8.\n",
      "INFO:numexpr.utils:NumExpr defaulting to 8 threads.\n",
      "/home/rscholz/Projects/KIWI/tsdm/src/tsdm/datasets/base.py:37: TqdmExperimentalWarning: Using `tqdm.autonotebook.tqdm` in notebook mode. Use `tqdm.tqdm` instead to force console mode (e.g. in jupyter console)\n",
      "  from tqdm.autonotebook import tqdm\n",
      "2023-10-09 21:20:46.007212: E tensorflow/compiler/xla/stream_executor/cuda/cuda_dnn.cc:9342] Unable to register cuDNN factory: Attempting to register factory for plugin cuDNN when one has already been registered\n",
      "2023-10-09 21:20:46.007251: E tensorflow/compiler/xla/stream_executor/cuda/cuda_fft.cc:609] Unable to register cuFFT factory: Attempting to register factory for plugin cuFFT when one has already been registered\n",
      "2023-10-09 21:20:46.007273: E tensorflow/compiler/xla/stream_executor/cuda/cuda_blas.cc:1518] Unable to register cuBLAS factory: Attempting to register factory for plugin cuBLAS when one has already been registered\n",
      "2023-10-09 21:20:46.013353: I tensorflow/core/platform/cpu_feature_guard.cc:182] This TensorFlow binary is optimized to use available CPU instructions in performance-critical operations.\n",
      "To enable the following instructions: AVX2 FMA, in other operations, rebuild TensorFlow with the appropriate compiler flags.\n",
      "2023-10-09 21:20:46.786905: W tensorflow/compiler/tf2tensorrt/utils/py_utils.cc:38] TF-TRT Warning: Could not find TensorRT\n"
     ]
    }
   ],
   "source": [
    "%config InteractiveShell.ast_node_interactivity='last_expr_or_assign'  # always print last expr.\n",
    "%config InlineBackend.figure_format = 'svg'\n",
    "%load_ext autoreload\n",
    "%autoreload 2\n",
    "\n",
    "import logging\n",
    "\n",
    "logging.basicConfig(level=logging.INFO)\n",
    "import tsdm"
   ]
  },
  {
   "cell_type": "code",
   "execution_count": null,
   "id": "1394618a-93c5-48c7-84dc-22cc07d70f1c",
   "metadata": {
    "execution": {
     "iopub.execute_input": "2023-10-09T19:20:47.697996Z",
     "iopub.status.busy": "2023-10-09T19:20:47.697590Z"
    }
   },
   "outputs": [
    {
     "name": "stdin",
     "output_type": "stream",
     "text": [
      "MIMIC-III username:  rscholz\n",
      "MIMIC-III password:  ········\n"
     ]
    },
    {
     "data": {
      "application/vnd.jupyter.widget-view+json": {
       "model_id": "fc80607ef6d440a1a562ba45fb7215ea",
       "version_major": 2,
       "version_minor": 0
      },
      "text/plain": [
       "Downloading https://physionet.org/content/mimiciii/get-zip/1.4/:   0%|          | 0.00/6.17G [00:00<?, ?iB/s]"
      ]
     },
     "metadata": {},
     "output_type": "display_data"
    }
   ],
   "source": [
    "ds = tsdm.datasets.MIMIC_III()"
   ]
  },
  {
   "cell_type": "code",
   "execution_count": null,
   "id": "b39f000e-0737-4611-952e-e0a7d203f21c",
   "metadata": {},
   "outputs": [],
   "source": []
  },
  {
   "cell_type": "code",
   "execution_count": null,
   "id": "67b99b61-8d1e-4624-bea6-0f39de59dbbe",
   "metadata": {},
   "outputs": [],
   "source": []
  },
  {
   "cell_type": "code",
   "execution_count": null,
   "id": "81639bd2-d27f-4268-8cdb-a7d9fa61def4",
   "metadata": {},
   "outputs": [],
   "source": [
    "ds.timeseries"
   ]
  },
  {
   "cell_type": "code",
   "execution_count": null,
   "id": "8279fbf8-afe5-4673-b69e-02b08e4c0a90",
   "metadata": {},
   "outputs": [],
   "source": [
    "hasattr(type(ds), \"timeseries\")"
   ]
  },
  {
   "cell_type": "code",
   "execution_count": null,
   "id": "10902022-2369-4ba1-906e-bbf976e9e56f",
   "metadata": {},
   "outputs": [],
   "source": []
  },
  {
   "cell_type": "code",
   "execution_count": null,
   "id": "af1fea95-8925-4841-8b14-bb1d98ac4433",
   "metadata": {},
   "outputs": [],
   "source": []
  },
  {
   "cell_type": "code",
   "execution_count": null,
   "id": "b075a073-dd91-471a-833d-474bfdbc2718",
   "metadata": {},
   "outputs": [],
   "source": []
  },
  {
   "cell_type": "code",
   "execution_count": null,
   "id": "eb52d451-c952-4a27-882a-2e8b34149746",
   "metadata": {},
   "outputs": [],
   "source": []
  },
  {
   "cell_type": "code",
   "execution_count": null,
   "id": "689c64e8-9c81-4e52-a42e-da5e46ec5f36",
   "metadata": {},
   "outputs": [],
   "source": []
  },
  {
   "cell_type": "code",
   "execution_count": null,
   "id": "efef5528-c033-4100-966e-548a1c21589a",
   "metadata": {},
   "outputs": [],
   "source": []
  },
  {
   "cell_type": "code",
   "execution_count": null,
   "id": "7fbfcd2a-ddb0-4551-80e0-888b68d6858d",
   "metadata": {},
   "outputs": [],
   "source": []
  },
  {
   "cell_type": "code",
   "execution_count": null,
   "id": "3cf828da-067d-421f-b42c-7eb75d5bf092",
   "metadata": {
    "tags": []
   },
   "outputs": [],
   "source": [
    "from getpass import getpass\n",
    "\n",
    "import tsdm\n",
    "from tsdm.utils.remote import download"
   ]
  },
  {
   "cell_type": "code",
   "execution_count": null,
   "id": "f8994b08-1282-4cc8-a327-a0628b1edad6",
   "metadata": {
    "tags": []
   },
   "outputs": [],
   "source": [
    "ds = tsdm.datasets.MIMIC_III(initialize=False, version=\"1.2\")"
   ]
  },
  {
   "cell_type": "code",
   "execution_count": null,
   "id": "f20e1621-e499-49d8-8ab9-6610887837ec",
   "metadata": {
    "tags": []
   },
   "outputs": [],
   "source": [
    "ds.download()"
   ]
  },
  {
   "cell_type": "code",
   "execution_count": null,
   "id": "144779dd-d237-463e-a208-e8d4eb9b711a",
   "metadata": {
    "tags": []
   },
   "outputs": [],
   "source": [
    "ds.HOME_URL"
   ]
  },
  {
   "cell_type": "code",
   "execution_count": null,
   "id": "bc83f70a-7bb6-4e48-b542-23f78ef3de77",
   "metadata": {
    "tags": []
   },
   "outputs": [],
   "source": [
    "tuple(map(int, \"1.3\".split(\".\"))) <= (1, 4)"
   ]
  },
  {
   "cell_type": "code",
   "execution_count": null,
   "id": "78e07e93-34ad-40fa-98ae-0bd01e588066",
   "metadata": {
    "tags": []
   },
   "outputs": [],
   "source": [
    "from typing import Literal"
   ]
  },
  {
   "cell_type": "code",
   "execution_count": null,
   "id": "1fb39e36-5caf-48eb-b9d8-47068c2e6c22",
   "metadata": {
    "tags": []
   },
   "outputs": [],
   "source": [
    "x = Literal[\"a\", \"b\"]"
   ]
  },
  {
   "cell_type": "code",
   "execution_count": null,
   "id": "d8ba648b-3ab5-4010-8ffc-9719af776757",
   "metadata": {
    "tags": []
   },
   "outputs": [],
   "source": [
    "from typing import get_args"
   ]
  },
  {
   "cell_type": "code",
   "execution_count": null,
   "id": "5febc86e-7b8f-4255-8c54-c6af4fcaee37",
   "metadata": {
    "tags": []
   },
   "outputs": [],
   "source": [
    "get_args(x)"
   ]
  },
  {
   "cell_type": "code",
   "execution_count": null,
   "id": "dd058aee-12d9-47e8-86d3-943f58f0859f",
   "metadata": {
    "tags": []
   },
   "outputs": [],
   "source": [
    "url = ds.BASE_URL.format(version=\"1.4\")\n",
    "fname = \"mimic-iii-clinical-database-1.4.zip\""
   ]
  },
  {
   "cell_type": "code",
   "execution_count": null,
   "id": "022ffd7c-ad33-46c4-b9c7-f81596653802",
   "metadata": {
    "tags": []
   },
   "outputs": [],
   "source": [
    "username = input(\"MIMIC-III username: \")\n",
    "password = getpass(prompt=\"MIMIC-III password: \", stream=None)"
   ]
  },
  {
   "cell_type": "code",
   "execution_count": null,
   "id": "7d7af035-3861-48c2-8bd0-4e0ac336315b",
   "metadata": {},
   "outputs": [],
   "source": []
  },
  {
   "cell_type": "code",
   "execution_count": null,
   "id": "87d19ae4-ac29-4c6e-8b6a-6b390e5c9717",
   "metadata": {
    "tags": []
   },
   "outputs": [],
   "source": [
    "headers = {\n",
    "    \"User-Agent\": \"Wget/1.21.2\",\n",
    "}"
   ]
  },
  {
   "cell_type": "code",
   "execution_count": null,
   "id": "49d7912b-c473-4478-a96a-39e5636f6b33",
   "metadata": {
    "tags": []
   },
   "outputs": [],
   "source": [
    "download(url, fname, headers=headers, username=username, password=password)"
   ]
  },
  {
   "cell_type": "code",
   "execution_count": null,
   "id": "f8f5f7f2-0d6e-4a64-80a9-787be98bf761",
   "metadata": {},
   "outputs": [],
   "source": []
  },
  {
   "cell_type": "code",
   "execution_count": null,
   "id": "a6440129-0f39-449f-8c61-00b970031ab2",
   "metadata": {},
   "outputs": [],
   "source": []
  },
  {
   "cell_type": "code",
   "execution_count": null,
   "id": "49457e31-971e-4f77-96a0-f668c6073b71",
   "metadata": {
    "tags": []
   },
   "outputs": [],
   "source": [
    "self = MIMIC_III_DeBrouwer2019()"
   ]
  },
  {
   "cell_type": "code",
   "execution_count": null,
   "id": "5accd19e-2526-486d-b18f-01a7d44fc8f1",
   "metadata": {
    "tags": []
   },
   "outputs": [],
   "source": [
    "x: [1, 2] = 2"
   ]
  },
  {
   "cell_type": "code",
   "execution_count": null,
   "id": "131bddcc-cab7-4fed-8d93-746891c88767",
   "metadata": {
    "tags": []
   },
   "outputs": [],
   "source": [
    "\"0\".isidentifier()"
   ]
  },
  {
   "cell_type": "code",
   "execution_count": null,
   "id": "f47887f5-0ef1-4f64-bb87-291ec0f8c79b",
   "metadata": {
    "tags": []
   },
   "outputs": [],
   "source": [
    "import matplotlib.pyplot as plt\n",
    "\n",
    "fig, axes = plt.subplots(16, 6, figsize=(20, 32), constrained_layout=True, sharey=True)\n",
    "\n",
    "for col, ax in zip(self.timeseries, axes.flatten()):\n",
    "    self.timeseries[col].hist(ax=ax, density=True, log=True, bins=20)\n",
    "    ax.set_ylim(10**-6, 1)"
   ]
  },
  {
   "cell_type": "code",
   "execution_count": null,
   "id": "12deea56-4c88-43c7-b6cf-362a5fced9ad",
   "metadata": {
    "tags": []
   },
   "outputs": [],
   "source": [
    "%matplotlib inline\n",
    "\n",
    "(self.metadata[\"min\"] == 0).mean()"
   ]
  },
  {
   "cell_type": "code",
   "execution_count": null,
   "id": "dc87dcd5-55c9-46d7-8ae8-bd4c9c365611",
   "metadata": {
    "tags": []
   },
   "outputs": [],
   "source": [
    "import pandas as pd\n",
    "from pandas import DataFrame"
   ]
  },
  {
   "cell_type": "code",
   "execution_count": null,
   "id": "1b75963e-1b6b-4105-86f4-0921415e7e2e",
   "metadata": {
    "tags": []
   },
   "outputs": [],
   "source": [
    "self.LOGGER.info(\"Loading main file.\")\n",
    "ts = pd.read_csv(self.rawdata_paths[\"complete_tensor.csv\"], index_col=0)\n",
    "\n",
    "# Check shape.\n",
    "if ts.shape != self.rawdata_shapes[\"complete_tensor.csv\"]:\n",
    "    raise ValueError(\n",
    "        f\"The {ts.shape=} is not correct.\"\n",
    "        \"Please apply the modified preprocessing using bin_k=2, as outlined in\"\n",
    "        \"the appendix. The resulting tensor should have 3082224 rows and 7 columns.\"\n",
    "    )\n",
    "\n",
    "ts = ts.astype(self.rawdata_schemas[\"complete_tensor.csv\"]).sort_values(\n",
    "    by=[\"UNIQUE_ID\", \"TIME_STAMP\"]\n",
    ")"
   ]
  },
  {
   "cell_type": "code",
   "execution_count": null,
   "id": "9f19fe33-a405-4d6e-8a3d-b494045208eb",
   "metadata": {
    "tags": []
   },
   "outputs": [],
   "source": [
    "means = ts.groupby(\"LABEL_CODE\").mean()[\"VALUENUM\"].rename(\"MEANS\")\n",
    "stdvs = ts.groupby(\"LABEL_CODE\").std()[\"VALUENUM\"].rename(\"STDVS\")\n",
    "stats = (\n",
    "    DataFrame([means, stdvs])\n",
    "    .T.reset_index()\n",
    "    .astype(\n",
    "        {\n",
    "            \"LABEL_CODE\": \"int16\",\n",
    "            \"MEANS\": \"float32\",\n",
    "            \"STDVS\": \"float32\",\n",
    "        }\n",
    "    )\n",
    ")"
   ]
  },
  {
   "cell_type": "code",
   "execution_count": null,
   "id": "96fd4f28-e474-4392-9acd-1624b06b7a12",
   "metadata": {
    "tags": []
   },
   "outputs": [],
   "source": [
    "ts = (\n",
    "    ts[[\"UNIQUE_ID\", \"TIME_STAMP\", \"LABEL_CODE\", \"VALUENUM\"]]\n",
    "    .reset_index(drop=True)\n",
    "    .set_index([\"UNIQUE_ID\", \"TIME_STAMP\"])\n",
    "    .pivot(columns=\"LABEL_CODE\", values=\"VALUENUM\")\n",
    "    .sort_index()\n",
    "    .sort_index(axis=1)\n",
    ")"
   ]
  },
  {
   "cell_type": "code",
   "execution_count": null,
   "id": "e35805c3-992f-48c3-bd47-a0f298ac80d5",
   "metadata": {
    "tags": []
   },
   "outputs": [],
   "source": [
    "ts.describe().T"
   ]
  },
  {
   "cell_type": "code",
   "execution_count": null,
   "id": "89826bca-b90c-44ad-878f-79931b46f7f8",
   "metadata": {
    "tags": []
   },
   "outputs": [],
   "source": [
    "ts.mean()"
   ]
  },
  {
   "cell_type": "code",
   "execution_count": null,
   "id": "fa070ba9-0aad-4c1e-9451-0545dffa889a",
   "metadata": {},
   "outputs": [],
   "source": []
  }
 ],
 "metadata": {
  "kernelspec": {
   "display_name": "Python 3 (ipykernel)",
   "language": "python",
   "name": "python3"
  },
  "language_info": {
   "codemirror_mode": {
    "name": "ipython",
    "version": 3
   },
   "file_extension": ".py",
   "mimetype": "text/x-python",
   "name": "python",
   "nbconvert_exporter": "python",
   "pygments_lexer": "ipython3",
   "version": "3.10.11"
  }
 },
 "nbformat": 4,
 "nbformat_minor": 5
}
