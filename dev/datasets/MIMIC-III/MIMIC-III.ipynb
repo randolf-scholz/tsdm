{
 "cells": [
  {
   "cell_type": "code",
   "execution_count": null,
   "id": "48ad4886-bf56-4f02-83f8-e949b5a12e6b",
   "metadata": {
    "execution": {
     "iopub.execute_input": "2023-08-08T00:15:27.233610Z",
     "iopub.status.busy": "2023-08-08T00:15:27.233094Z",
     "iopub.status.idle": "2023-08-08T00:15:27.672142Z",
     "shell.execute_reply": "2023-08-08T00:15:27.671632Z",
     "shell.execute_reply.started": "2023-08-08T00:15:27.233576Z"
    },
    "tags": []
   },
   "outputs": [],
   "source": [
    "%config InteractiveShell.ast_node_interactivity='last_expr_or_assign'  # always print last expr.\n",
    "%config InlineBackend.figure_format = 'svg'\n",
    "%load_ext autoreload\n",
    "%autoreload 2\n",
    "%matplotlib inline\n",
    "\n",
    "import logging\n",
    "\n",
    "logging.basicConfig(level=logging.INFO)\n",
    "LOGGER = logging.getLogger(__name__)"
   ]
  },
  {
   "cell_type": "code",
   "execution_count": null,
   "id": "a3804f02-cd1c-4c65-b8e1-adc481f53f3f",
   "metadata": {
    "execution": {
     "iopub.execute_input": "2023-08-08T00:15:27.673386Z",
     "iopub.status.busy": "2023-08-08T00:15:27.673192Z",
     "iopub.status.idle": "2023-08-08T00:15:31.441459Z",
     "shell.execute_reply": "2023-08-08T00:15:31.440881Z",
     "shell.execute_reply.started": "2023-08-08T00:15:27.673372Z"
    },
    "tags": []
   },
   "outputs": [],
   "source": [
    "import tsdm"
   ]
  },
  {
   "cell_type": "code",
   "execution_count": null,
   "id": "bc4964ea-1c07-45ab-a5ec-88ff37c90106",
   "metadata": {
    "execution": {
     "iopub.execute_input": "2023-08-08T00:15:31.442641Z",
     "iopub.status.busy": "2023-08-08T00:15:31.442179Z",
     "iopub.status.idle": "2023-08-08T00:15:43.392468Z",
     "shell.execute_reply": "2023-08-08T00:15:43.391697Z",
     "shell.execute_reply.started": "2023-08-08T00:15:31.442625Z"
    },
    "tags": []
   },
   "outputs": [],
   "source": [
    "ds = tsdm.datasets.MIMIC_III()"
   ]
  },
  {
   "cell_type": "code",
   "execution_count": null,
   "id": "a3d40be2-00e1-47cb-a12f-f3a517d97084",
   "metadata": {
    "execution": {
     "iopub.execute_input": "2023-08-08T00:16:55.273720Z",
     "iopub.status.busy": "2023-08-08T00:16:55.273398Z",
     "iopub.status.idle": "2023-08-08T00:16:55.316463Z",
     "shell.execute_reply": "2023-08-08T00:16:55.316029Z",
     "shell.execute_reply.started": "2023-08-08T00:16:55.273703Z"
    },
    "tags": []
   },
   "outputs": [],
   "source": [
    "dir(ds)"
   ]
  },
  {
   "cell_type": "code",
   "execution_count": null,
   "id": "23a84ed9-fef0-4208-a6b0-2293fe6a33c2",
   "metadata": {},
   "outputs": [],
   "source": []
  }
 ],
 "metadata": {
  "kernelspec": {
   "display_name": "Python 3 (ipykernel)",
   "language": "python",
   "name": "python3"
  },
  "language_info": {
   "codemirror_mode": {
    "name": "ipython",
    "version": 3
   },
   "file_extension": ".py",
   "mimetype": "text/x-python",
   "name": "python",
   "nbconvert_exporter": "python",
   "pygments_lexer": "ipython3",
   "version": "3.10.11"
  }
 },
 "nbformat": 4,
 "nbformat_minor": 5
}
