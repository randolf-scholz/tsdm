{
 "cells": [
  {
   "cell_type": "code",
   "execution_count": null,
   "id": "48ad4886-bf56-4f02-83f8-e949b5a12e6b",
   "metadata": {
    "tags": []
   },
   "source": [
    "%config InteractiveShell.ast_node_interactivity='last_expr_or_assign'  # always print last expr.\n",
    "%config InlineBackend.figure_format = 'svg'\n",
    "%load_ext autoreload\n",
    "%autoreload 2\n",
    "%matplotlib inline\n",
    "\n",
    "import logging\n",
    "\n",
    "logging.basicConfig(level=logging.INFO)\n",
    "LOGGER = logging.getLogger(__name__)"
   ],
   "outputs": []
  },
  {
   "cell_type": "code",
   "execution_count": null,
   "id": "a3804f02-cd1c-4c65-b8e1-adc481f53f3f",
   "metadata": {
    "tags": []
   },
   "source": [
    "import tsdm"
   ],
   "outputs": []
  },
  {
   "cell_type": "code",
   "execution_count": null,
   "id": "bc4964ea-1c07-45ab-a5ec-88ff37c90106",
   "metadata": {
    "tags": []
   },
   "source": [
    "ds = tsdm.datasets.MIMIC_III()"
   ],
   "outputs": []
  },
  {
   "cell_type": "code",
   "execution_count": null,
   "id": "9eb76e6a-3bb4-4a89-af4f-d4abf50b71d5",
   "metadata": {},
   "source": [],
   "outputs": []
  }
 ],
 "metadata": {
  "kernelspec": {
   "display_name": "Python 3 (ipykernel)",
   "language": "python",
   "name": "python3"
  },
  "language_info": {
   "codemirror_mode": {
    "name": "ipython",
    "version": 3
   },
   "file_extension": ".py",
   "mimetype": "text/x-python",
   "name": "python",
   "nbconvert_exporter": "python",
   "pygments_lexer": "ipython3",
   "version": "3.10.13"
  }
 },
 "nbformat": 4,
 "nbformat_minor": 5
}
