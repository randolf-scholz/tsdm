{
 "cells": [
  {
   "cell_type": "code",
   "execution_count": 1,
   "metadata": {},
   "outputs": [],
   "source": [
    "#%config InteractiveShell.ast_node_interactivity='last_expr_or_assign'  # always print last expr.\n",
    "%config InlineBackend.figure_format = 'svg'\n",
    "%load_ext autoreload\n",
    "%autoreload 2"
   ]
  },
  {
   "cell_type": "code",
   "execution_count": 16,
   "metadata": {},
   "outputs": [],
   "source": [
    "from tsdm.datasets import BeijingAirQuality\n",
    "import pandas"
   ]
  },
  {
   "cell_type": "code",
   "execution_count": 13,
   "metadata": {},
   "outputs": [],
   "source": [
    "ds = BeijingAirQuality.dataset"
   ]
  },
  {
   "cell_type": "code",
   "execution_count": 5,
   "metadata": {},
   "outputs": [],
   "source": [
    "BeijingAirQuality.dataset.dtypes"
   ]
  },
  {
   "cell_type": "code",
   "execution_count": 2,
   "metadata": {},
   "outputs": [],
   "source": [
    "import sys"
   ]
  },
  {
   "cell_type": "code",
   "execution_count": 3,
   "metadata": {},
   "outputs": [],
   "source": [
    "import tsdm\n",
    "import zipfile\n",
    "import os\n",
    "import pandas as pd\n",
    "\n",
    "\n",
    "def totime(x):\n",
    "    return pd.Timestamp(year=x[1], month=x[2], day=x[3], hour=x[4])"
   ]
  },
  {
   "cell_type": "code",
   "execution_count": 4,
   "metadata": {},
   "outputs": [],
   "source": [
    "ds = tsdm.datasets.BeijingAirQuality\n",
    "\n",
    "file_path = ds.rawdata_path.joinpath(\"PRSA2017_Data_20130301-20170228.zip\")\n",
    "data_path = ds.rawdata_path.joinpath(\"PRSA_Data_20130301-20170228\")"
   ]
  },
  {
   "cell_type": "code",
   "execution_count": 8,
   "metadata": {},
   "outputs": [],
   "source": [
    "if not os.path.exists(data_path):\n",
    "    with zipfile.ZipFile(file_path, \"r\") as zip_ref:\n",
    "        zip_ref.extractall(ds.rawdata_path)"
   ]
  },
  {
   "cell_type": "code",
   "execution_count": 9,
   "metadata": {},
   "outputs": [],
   "source": [
    "stations = []\n",
    "\n",
    "for csv in os.listdir(data_path):\n",
    "\n",
    "    df = pd.read_csv(data_path.joinpath(csv))\n",
    "\n",
    "    # Make multiple date columns to pd.Timestamp\n",
    "    df[\"Timestamp\"] = df.apply(totime, axis=1)\n",
    "\n",
    "    # Remove date columns and index\n",
    "    df = df.drop(labels=[\"No\", \"year\", \"month\", \"day\", \"hour\"], axis=1)\n",
    "    stations.append(df)\n",
    "\n",
    "df = pd.concat(stations, ignore_index=True)"
   ]
  },
  {
   "cell_type": "code",
   "execution_count": null,
   "metadata": {},
   "outputs": [],
   "source": []
  }
 ],
 "metadata": {
  "kernelspec": {
   "display_name": "Python 3 (ipykernel)",
   "language": "python",
   "name": "python3"
  },
  "language_info": {
   "codemirror_mode": {
    "name": "ipython",
    "version": 3
   },
   "file_extension": ".py",
   "mimetype": "text/x-python",
   "name": "python",
   "nbconvert_exporter": "python",
   "pygments_lexer": "ipython3",
   "version": "3.9.7"
  }
 },
 "nbformat": 4,
 "nbformat_minor": 4
}
