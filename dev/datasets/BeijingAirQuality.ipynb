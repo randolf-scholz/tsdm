{
 "cells": [
  {
   "cell_type": "code",
   "execution_count": null,
   "metadata": {
    "execution": {
     "iopub.execute_input": "2023-04-27T12:59:59.596841Z",
     "iopub.status.busy": "2023-04-27T12:59:59.596391Z",
     "iopub.status.idle": "2023-04-27T12:59:59.921747Z",
     "shell.execute_reply": "2023-04-27T12:59:59.921433Z",
     "shell.execute_reply.started": "2023-04-27T12:59:59.596802Z"
    },
    "tags": []
   },
   "outputs": [],
   "source": [
    "%config InteractiveShell.ast_node_interactivity='last_expr_or_assign'  # always print last expr.\n",
    "%config InlineBackend.figure_format = 'svg'\n",
    "%load_ext autoreload\n",
    "%autoreload 2\n",
    "%matplotlib inline\n",
    "\n",
    "import logging\n",
    "\n",
    "logging.basicConfig(level=logging.INFO)"
   ]
  },
  {
   "cell_type": "code",
   "execution_count": null,
   "metadata": {
    "execution": {
     "iopub.execute_input": "2023-04-27T12:59:59.922570Z",
     "iopub.status.busy": "2023-04-27T12:59:59.922379Z",
     "iopub.status.idle": "2023-04-27T13:00:02.893269Z",
     "shell.execute_reply": "2023-04-27T13:00:02.892573Z",
     "shell.execute_reply.started": "2023-04-27T12:59:59.922558Z"
    },
    "tags": []
   },
   "outputs": [],
   "source": [
    "from zipfile import ZipFile\n",
    "\n",
    "import pandas as pd\n",
    "from pandas import DataFrame, Timestamp\n",
    "\n",
    "from tsdm.datasets import BeijingAirQuality"
   ]
  },
  {
   "cell_type": "code",
   "execution_count": null,
   "metadata": {
    "execution": {
     "iopub.execute_input": "2023-04-27T13:00:02.899858Z",
     "iopub.status.busy": "2023-04-27T13:00:02.899664Z",
     "iopub.status.idle": "2023-04-27T13:00:02.939984Z",
     "shell.execute_reply": "2023-04-27T13:00:02.939611Z",
     "shell.execute_reply.started": "2023-04-27T13:00:02.899845Z"
    },
    "tags": []
   },
   "outputs": [],
   "source": [
    "self = BeijingAirQuality(initialize=False)"
   ]
  },
  {
   "cell_type": "code",
   "execution_count": null,
   "metadata": {
    "execution": {
     "iopub.execute_input": "2023-04-27T13:00:13.845486Z",
     "iopub.status.busy": "2023-04-27T13:00:13.845221Z",
     "iopub.status.idle": "2023-04-27T13:00:13.893440Z",
     "shell.execute_reply": "2023-04-27T13:00:13.892968Z",
     "shell.execute_reply.started": "2023-04-27T13:00:13.845462Z"
    },
    "tags": []
   },
   "outputs": [],
   "source": [
    "self"
   ]
  },
  {
   "cell_type": "code",
   "execution_count": null,
   "metadata": {
    "execution": {
     "iopub.execute_input": "2023-04-27T11:58:09.357170Z",
     "iopub.status.busy": "2023-04-27T11:58:09.356864Z",
     "iopub.status.idle": "2023-04-27T11:58:09.397400Z",
     "shell.execute_reply": "2023-04-27T11:58:09.396998Z",
     "shell.execute_reply.started": "2023-04-27T11:58:09.357147Z"
    },
    "tags": []
   },
   "outputs": [],
   "source": [
    "hasattr(self.table, \"_repr_html_\")"
   ]
  },
  {
   "cell_type": "code",
   "execution_count": null,
   "metadata": {
    "execution": {
     "iopub.execute_input": "2023-04-27T11:58:22.646515Z",
     "iopub.status.busy": "2023-04-27T11:58:22.646339Z",
     "iopub.status.idle": "2023-04-27T11:58:22.697207Z",
     "shell.execute_reply": "2023-04-27T11:58:22.696887Z",
     "shell.execute_reply.started": "2023-04-27T11:58:22.646501Z"
    },
    "tags": []
   },
   "outputs": [],
   "source": [
    "self._repr_html_()"
   ]
  },
  {
   "cell_type": "code",
   "execution_count": null,
   "metadata": {},
   "outputs": [],
   "source": []
  }
 ],
 "metadata": {
  "kernelspec": {
   "display_name": "Python 3 (ipykernel)",
   "language": "python",
   "name": "python3"
  },
  "language_info": {
   "codemirror_mode": {
    "name": "ipython",
    "version": 3
   },
   "file_extension": ".py",
   "mimetype": "text/x-python",
   "name": "python",
   "nbconvert_exporter": "python",
   "pygments_lexer": "ipython3",
   "version": "3.11.3"
  }
 },
 "nbformat": 4,
 "nbformat_minor": 4
}
