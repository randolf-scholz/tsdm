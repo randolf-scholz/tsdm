{
 "cells": [
  {
   "cell_type": "code",
   "execution_count": null,
   "metadata": {
    "execution": {
     "iopub.execute_input": "2023-05-02T15:21:24.679079Z",
     "iopub.status.busy": "2023-05-02T15:21:24.678563Z",
     "iopub.status.idle": "2023-05-02T15:21:25.004347Z",
     "shell.execute_reply": "2023-05-02T15:21:25.003775Z",
     "shell.execute_reply.started": "2023-05-02T15:21:24.679038Z"
    },
    "tags": []
   },
   "outputs": [],
   "source": [
    "%config InteractiveShell.ast_node_interactivity='last_expr_or_assign'  # always print last expr.\n",
    "%config InlineBackend.figure_format = 'svg'\n",
    "%load_ext autoreload\n",
    "%autoreload 2\n",
    "%matplotlib inline\n",
    "\n",
    "import logging\n",
    "\n",
    "logging.basicConfig(level=logging.INFO)"
   ]
  },
  {
   "cell_type": "code",
   "execution_count": null,
   "metadata": {
    "execution": {
     "iopub.execute_input": "2023-05-02T15:21:25.005145Z",
     "iopub.status.busy": "2023-05-02T15:21:25.004999Z",
     "iopub.status.idle": "2023-05-02T15:21:27.965995Z",
     "shell.execute_reply": "2023-05-02T15:21:27.965442Z",
     "shell.execute_reply.started": "2023-05-02T15:21:25.005135Z"
    },
    "tags": []
   },
   "outputs": [],
   "source": [
    "from zipfile import ZipFile\n",
    "\n",
    "import pandas as pd\n",
    "from pandas import DataFrame, Timestamp\n",
    "\n",
    "from tsdm.datasets import BeijingAirQuality"
   ]
  },
  {
   "cell_type": "code",
   "execution_count": null,
   "metadata": {
    "execution": {
     "iopub.execute_input": "2023-05-02T15:21:27.969870Z",
     "iopub.status.busy": "2023-05-02T15:21:27.969782Z",
     "iopub.status.idle": "2023-05-02T15:21:31.270206Z",
     "shell.execute_reply": "2023-05-02T15:21:31.269872Z",
     "shell.execute_reply.started": "2023-05-02T15:21:27.969860Z"
    },
    "tags": []
   },
   "outputs": [],
   "source": [
    "self = BeijingAirQuality()"
   ]
  },
  {
   "cell_type": "code",
   "execution_count": null,
   "metadata": {
    "execution": {
     "iopub.execute_input": "2023-05-02T15:22:33.470863Z",
     "iopub.status.busy": "2023-05-02T15:22:33.470648Z",
     "iopub.status.idle": "2023-05-02T15:22:33.533083Z",
     "shell.execute_reply": "2023-05-02T15:22:33.532553Z",
     "shell.execute_reply.started": "2023-05-02T15:22:33.470846Z"
    },
    "tags": []
   },
   "outputs": [],
   "source": [
    "self.timeseries"
   ]
  },
  {
   "cell_type": "code",
   "execution_count": null,
   "metadata": {
    "execution": {
     "iopub.execute_input": "2023-05-02T15:22:40.146365Z",
     "iopub.status.busy": "2023-05-02T15:22:40.145866Z",
     "iopub.status.idle": "2023-05-02T15:22:41.794536Z",
     "shell.execute_reply": "2023-05-02T15:22:41.794165Z",
     "shell.execute_reply.started": "2023-05-02T15:22:40.146341Z"
    },
    "tags": []
   },
   "outputs": [],
   "source": [
    "self.timeseries.hist(figsize=(15, 10), bins=20, log=True);"
   ]
  },
  {
   "cell_type": "code",
   "execution_count": null,
   "metadata": {
    "execution": {
     "iopub.execute_input": "2023-05-02T15:12:42.190242Z",
     "iopub.status.busy": "2023-05-02T15:12:42.189977Z",
     "iopub.status.idle": "2023-05-02T15:12:42.234872Z",
     "shell.execute_reply": "2023-05-02T15:12:42.234224Z",
     "shell.execute_reply.started": "2023-05-02T15:12:42.190224Z"
    },
    "tags": []
   },
   "outputs": [],
   "source": [
    "self.table.iloc[0, 3] = None"
   ]
  },
  {
   "cell_type": "code",
   "execution_count": null,
   "metadata": {
    "execution": {
     "iopub.execute_input": "2023-05-02T15:12:44.742065Z",
     "iopub.status.busy": "2023-05-02T15:12:44.741800Z",
     "iopub.status.idle": "2023-05-02T15:12:44.795938Z",
     "shell.execute_reply": "2023-05-02T15:12:44.795352Z",
     "shell.execute_reply.started": "2023-05-02T15:12:44.742046Z"
    },
    "tags": []
   },
   "outputs": [],
   "source": [
    "self.table"
   ]
  },
  {
   "cell_type": "code",
   "execution_count": null,
   "metadata": {},
   "outputs": [],
   "source": []
  }
 ],
 "metadata": {
  "kernelspec": {
   "display_name": "Python 3 (ipykernel)",
   "language": "python",
   "name": "python3"
  },
  "language_info": {
   "codemirror_mode": {
    "name": "ipython",
    "version": 3
   },
   "file_extension": ".py",
   "mimetype": "text/x-python",
   "name": "python",
   "nbconvert_exporter": "python",
   "pygments_lexer": "ipython3",
   "version": "3.11.3"
  }
 },
 "nbformat": 4,
 "nbformat_minor": 4
}
