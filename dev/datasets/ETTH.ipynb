{
 "cells": [
  {
   "cell_type": "code",
   "execution_count": 1,
   "id": "0f5a60ec-d789-4813-ac17-e38811b760df",
   "metadata": {},
   "outputs": [],
   "source": [
    "from tsdm.datasets import BaseDataset"
   ]
  },
  {
   "cell_type": "code",
   "execution_count": 2,
   "id": "a5452d84-4a20-4508-bdc3-a6808d397331",
   "metadata": {},
   "outputs": [],
   "source": [
    "class ETTH(BaseDataset):\n",
    "    url = \"https://github.com/zhouhaoyi/ETDataset/tree/main/ETT-small\"\n",
    "    "
   ]
  },
  {
   "cell_type": "code",
   "execution_count": 3,
   "id": "fe6c6c49-bdb4-404e-a745-d7318d28a0d8",
   "metadata": {},
   "outputs": [],
   "source": [
    "ETTH.download()"
   ]
  },
  {
   "cell_type": "code",
   "execution_count": null,
   "id": "f336909b-4c7d-44fd-bbc5-ae30f848de82",
   "metadata": {},
   "outputs": [],
   "source": []
  }
 ],
 "metadata": {
  "kernelspec": {
   "display_name": "Python 3 (ipykernel)",
   "language": "python",
   "name": "python3"
  },
  "language_info": {
   "codemirror_mode": {
    "name": "ipython",
    "version": 3
   },
   "file_extension": ".py",
   "mimetype": "text/x-python",
   "name": "python",
   "nbconvert_exporter": "python",
   "pygments_lexer": "ipython3",
   "version": "3.9.7"
  }
 },
 "nbformat": 4,
 "nbformat_minor": 5
}
