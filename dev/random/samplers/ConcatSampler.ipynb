{
 "cells": [
  {
   "cell_type": "markdown",
   "id": "6c15ad62-5a8b-4bd4-b678-4d57b17f3837",
   "metadata": {},
   "source": [
    "# ConcatSampler\n",
    "\n",
    "Sample uniformly from either of the given samplers."
   ]
  },
  {
   "cell_type": "code",
   "execution_count": null,
   "id": "20191951-beec-414a-b3c6-89dca8277ad2",
   "metadata": {},
   "outputs": [],
   "source": [
    "%config InteractiveShell.ast_node_interactivity='last_expr_or_assign'  # always print last expr.\n",
    "%config InlineBackend.figure_format = 'svg'\n",
    "%load_ext autoreload\n",
    "%autoreload 2\n",
    "%matplotlibinline"
   ]
  },
  {
   "cell_type": "code",
   "execution_count": null,
   "id": "58b7f6d7",
   "metadata": {},
   "outputs": [],
   "source": [
    "from tsdm.random.samplers import *"
   ]
  },
  {
   "cell_type": "code",
   "execution_count": null,
   "id": "d695b42b",
   "metadata": {},
   "outputs": [],
   "source": [
    "class ConcatSampler(BaseSampler):\n",
    "    \"\"\"Given multiple samplers, create a new one\"\"\"\n",
    "\n",
    "    def __init__(self, *samplers) -> None: ...\n",
    "\n",
    "    def __len__(self) -> int:\n",
    "        r\"\"\"Return the length of the sampler.\"\"\""
   ]
  },
  {
   "cell_type": "code",
   "execution_count": null,
   "id": "1728f8c2-cbca-4eac-83c9-d53f12e3dada",
   "metadata": {},
   "outputs": [],
   "source": [
    "ConcatSampler()"
   ]
  },
  {
   "cell_type": "code",
   "execution_count": null,
   "id": "2c252bb5-cade-4956-9c37-ebcc67af951c",
   "metadata": {},
   "outputs": [],
   "source": []
  }
 ],
 "metadata": {
  "kernelspec": {
   "display_name": "Python 3 (ipykernel)",
   "language": "python",
   "name": "python3"
  },
  "language_info": {
   "codemirror_mode": {
    "name": "ipython",
    "version": 3
   },
   "file_extension": ".py",
   "mimetype": "text/x-python",
   "name": "python",
   "nbconvert_exporter": "python",
   "pygments_lexer": "ipython3",
   "version": "3.9.10"
  }
 },
 "nbformat": 4,
 "nbformat_minor": 5
}
