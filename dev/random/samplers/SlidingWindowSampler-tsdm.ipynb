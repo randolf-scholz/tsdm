{
 "cells": [
  {
   "cell_type": "markdown",
   "metadata": {},
   "source": [
    "# SlidingWindowSampler"
   ]
  },
  {
   "cell_type": "code",
   "execution_count": null,
   "metadata": {},
   "source": [
    "%config InteractiveShell.ast_node_interactivity='last_expr_or_assign'  # always print last expr.\n",
    "%config InlineBackend.figure_format = 'svg'\n",
    "%load_ext autoreload\n",
    "%autoreload 2\n",
    "%matplotlib inline\n",
    "\n",
    "import logging\n",
    "\n",
    "logging.basicConfig(level=logging.INFO)"
   ],
   "outputs": []
  },
  {
   "cell_type": "code",
   "execution_count": null,
   "metadata": {},
   "source": [
    "import numpy as np\n",
    "import pandas as pd\n",
    "\n",
    "np.set_printoptions(precision=4, floatmode=\"fixed\", suppress=True)\n",
    "rng = np.random.default_rng()"
   ],
   "outputs": []
  },
  {
   "cell_type": "code",
   "execution_count": null,
   "metadata": {},
   "source": [
    "from tsdm.datasets import KIWI_RUNS\n",
    "from tsdm.random.samplers import SlidingWindowSampler"
   ],
   "outputs": []
  },
  {
   "cell_type": "code",
   "execution_count": null,
   "metadata": {},
   "source": [
    "import numpy as np\n",
    "import pandas as pd\n",
    "from pandas import Index, Series"
   ],
   "outputs": []
  },
  {
   "cell_type": "markdown",
   "metadata": {},
   "source": [
    "# Synthetic test"
   ]
  },
  {
   "cell_type": "code",
   "execution_count": null,
   "metadata": {},
   "source": [
    "stride = \"5m\"\n",
    "mode = \"points\"\n",
    "horizons = \"15m\"\n",
    "shuffle = False\n",
    "\n",
    "tds = pd.Series(pd.to_timedelta(np.random.rand(200), \"m\"))\n",
    "tmin = pd.Timestamp(0)\n",
    "tmax = tmin + pd.Timedelta(2, \"h\")\n",
    "T = pd.concat([Series([tmin]), tmin + tds.cumsum(), Series([tmax])])\n",
    "T = T.reset_index(drop=True)\n",
    "I = Index(T)"
   ],
   "outputs": []
  },
  {
   "cell_type": "code",
   "execution_count": null,
   "metadata": {
    "tags": []
   },
   "source": [
    "sampler = SlidingWindowSampler(\n",
    "    I, stride=stride, horizons=\"15m\", mode=\"masks\", shuffle=shuffle\n",
    ")\n",
    "indices = list(sampler)"
   ],
   "outputs": []
  },
  {
   "cell_type": "markdown",
   "metadata": {},
   "source": [
    "## Realworld Test"
   ]
  },
  {
   "cell_type": "code",
   "execution_count": null,
   "metadata": {},
   "source": [
    "ds = KIWI_RUNS()\n",
    "KEY = (439, 15325)\n",
    "ts = ds.timeseries"
   ],
   "outputs": []
  },
  {
   "cell_type": "code",
   "execution_count": null,
   "metadata": {},
   "source": [
    "X = ts.loc[KEY]"
   ],
   "outputs": []
  },
  {
   "cell_type": "code",
   "execution_count": null,
   "metadata": {},
   "source": [
    "T = ts.index.to_frame().loc[KEY]\n",
    "T = T[\"measurement_time\"]"
   ],
   "outputs": []
  },
  {
   "cell_type": "markdown",
   "metadata": {},
   "source": [
    "## Sampler in masks mode"
   ]
  },
  {
   "cell_type": "code",
   "execution_count": null,
   "metadata": {
    "tags": []
   },
   "source": [
    "self = SlidingWindowSampler(T, stride=\"15m\", horizons=[\"2h\", \"1h\"], mode=\"masks\")\n",
    "indices = list(self)\n",
    "obs_horizon, pred_horizon = indices[0]\n",
    "X.loc[pred_horizon]"
   ],
   "outputs": []
  },
  {
   "cell_type": "markdown",
   "metadata": {},
   "source": [
    "## Sampler in slices mode"
   ]
  },
  {
   "cell_type": "code",
   "execution_count": null,
   "metadata": {},
   "source": [
    "self = SlidingWindowSampler(T, stride=\"15m\", horizons=[\"2h\", \"1h\"], mode=\"slices\")\n",
    "indices = list(self)\n",
    "obs_horizon, pred_horizon = indices[0]\n",
    "X.loc[pred_horizon]"
   ],
   "outputs": []
  },
  {
   "cell_type": "markdown",
   "metadata": {},
   "source": [
    "## Sampler in points mode"
   ]
  },
  {
   "cell_type": "code",
   "execution_count": null,
   "metadata": {},
   "source": [
    "self = SlidingWindowSampler(T, stride=\"15m\", horizons=[\"2h\", \"1h\"], mode=\"points\")\n",
    "indices = list(self)\n",
    "start, mid, stop = indices[0]\n",
    "X.loc[mid:stop]"
   ],
   "outputs": []
  }
 ],
 "metadata": {
  "kernelspec": {
   "display_name": "Python 3 (ipykernel)",
   "language": "python",
   "name": "python3"
  },
  "language_info": {
   "codemirror_mode": {
    "name": "ipython",
    "version": 3
   },
   "file_extension": ".py",
   "mimetype": "text/x-python",
   "name": "python",
   "nbconvert_exporter": "python",
   "pygments_lexer": "ipython3",
   "version": "3.10.5"
  }
 },
 "nbformat": 4,
 "nbformat_minor": 4
}
