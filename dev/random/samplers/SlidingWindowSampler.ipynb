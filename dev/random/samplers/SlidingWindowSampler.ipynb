{
 "cells": [
  {
   "cell_type": "markdown",
   "metadata": {},
   "source": [
    "# SlidingWindowSampler"
   ]
  },
  {
   "cell_type": "code",
   "execution_count": null,
   "metadata": {},
   "outputs": [],
   "source": [
    "%config InteractiveShell.ast_node_interactivity='last_expr_or_assign'  # always print last expr.\n",
    "%config InlineBackend.figure_format = 'svg'\n",
    "%load_ext autoreload\n",
    "%autoreload 2\n",
    "%matplotlib inline\n",
    "\n",
    "import logging\n",
    "\n",
    "logging.basicConfig(level=logging.INFO)"
   ]
  },
  {
   "cell_type": "code",
   "execution_count": null,
   "metadata": {},
   "outputs": [],
   "source": [
    "import numpy as np\n",
    "\n",
    "np.set_printoptions(precision=4, floatmode=\"fixed\", suppress=True)\n",
    "rng = np.random.default_rng()"
   ]
  },
  {
   "cell_type": "code",
   "execution_count": null,
   "metadata": {},
   "outputs": [],
   "source": [
    "from tsdm.random.samplers import BaseSampler"
   ]
  },
  {
   "cell_type": "code",
   "execution_count": null,
   "metadata": {},
   "outputs": [],
   "source": [
    "from collections.abc import Iterable, Sequence\n",
    "from typing import Generic, Literal, Optional, TypeVar, Union"
   ]
  },
  {
   "cell_type": "code",
   "execution_count": null,
   "metadata": {},
   "outputs": [],
   "source": [
    "from datetime import datetime as py_dt, timedelta as py_td\n",
    "\n",
    "from numpy import (\n",
    "    datetime64 as np_dt,\n",
    "    floating as np_float,\n",
    "    integer as np_int,\n",
    "    timedelta64 as np_td,\n",
    ")\n",
    "from pandas import Timedelta as pd_td, Timestamp as pd_dt\n",
    "\n",
    "TimestampLike = TypeVar(\"TimestampLike\", py_dt, np_dt, pd_dt)\n",
    "TimedeltaLike = TypeVar(\"TimedeltaLike\", py_td, np_td, pd_td)\n",
    "\n",
    "TimestampLike = TypeVar(\"TimestampLike\", py_dt, np_dt, pd_dt)\n",
    "TimedeltaLike = TypeVar(\"TimedeltaLike\", py_td, np_td, pd_td)\n",
    "\n",
    "TimeLike = TypeVar(\n",
    "    \"TimeLike\", int, float, np_int, np_float, py_dt, np_dt, pd_dt, py_td, np_td, pd_td\n",
    ")"
   ]
  },
  {
   "cell_type": "code",
   "execution_count": null,
   "metadata": {},
   "outputs": [],
   "source": [
    "t0 = np.timedelta64(5, \"s\")\n",
    "t1 = np.timedelta64(3, \"s\")\n",
    "\n",
    "max(t0, t1)"
   ]
  },
  {
   "cell_type": "code",
   "execution_count": null,
   "metadata": {},
   "outputs": [],
   "source": [
    "from tsdm.random.samplers._samplers import grid"
   ]
  },
  {
   "cell_type": "code",
   "execution_count": null,
   "metadata": {},
   "outputs": [],
   "source": [
    "class SlidingWindowSampler(BaseSampler, Generic[TimeLike]):\n",
    "    r\"\"\"Sampler that generates sliding windows over an interval.\n",
    "\n",
    "    The `SlidingWindowSampler` generates tuples.\n",
    "\n",
    "    Inputs:\n",
    "    - Ordered timestamps T\n",
    "    - Starting time t_0\n",
    "    - Final time t_f\n",
    "    - stride ∆t (how much the sampler advances at each step)\n",
    "        default, depending on data type of T:\n",
    "           - integer: GCD(∆T)\n",
    "           - float: max(⌊AVG(∆T)⌋, ε)\n",
    "           - timestamp: resolution dependent.\n",
    "    - horizons: TimeDelta or Tuple[TimeDelta]\n",
    "\n",
    "    The sampler will return tuples of len(horizons)+1.\n",
    "    \"\"\"\n",
    "\n",
    "    shuffle: bool\n",
    "    return_mask: bool\n",
    "    return_slice: bool\n",
    "    total_horizon: TimeLike\n",
    "\n",
    "    def __init__(\n",
    "        self,\n",
    "        data_source: Sequence[TimeLike],\n",
    "        /,\n",
    "        *,\n",
    "        stride: TimeLike,\n",
    "        horizons: Union[TimeLike, Sequence[TimeLike]],\n",
    "        shuffle: bool = False,\n",
    "        tmin: Optional[TimeLike] = None,\n",
    "        tmax: Optional[TimeLike] = None,\n",
    "        mode: Literal[\"masks\", \"slices\", \"points\"] = \"masks\",\n",
    "    ):\n",
    "        super().__init__(data_source)\n",
    "        self.shuffle = shuffle\n",
    "\n",
    "        if not isinstance(horizons, Iterable):\n",
    "            horizons = [horizons]\n",
    "        else:\n",
    "            horizons = list(horizons)\n",
    "\n",
    "        self.horizons = np.array(horizons)\n",
    "        self.total_horizon = sum(self.horizons)\n",
    "        self.mode = mode\n",
    "        self.stride = stride\n",
    "\n",
    "        self.tmin = self.data[0] if tmin is None else tmin\n",
    "        self.tmax = self.data[-1] if tmax is None else tmax\n",
    "\n",
    "        # this gives us the correct zero, depending on the dtype\n",
    "        self.zero_td = self.tmin - self.tmin\n",
    "        self.zero_dt = 0 * self.tmin\n",
    "\n",
    "        assert self.stride > self.zero_dt, \"stride cannot be zero.\"\n",
    "\n",
    "        print(self.horizons)\n",
    "        cumulative_horizons = np.concatenate([[self.zero_td], self.horizons])\n",
    "        cumulative_horizons = np.cumsum(cumulative_horizons)\n",
    "\n",
    "        self.start_values = self.tmin + cumulative_horizons\n",
    "\n",
    "        # precompute the possible slices\n",
    "        print(tmin, tmax, self.total_horizon)\n",
    "        self.grid = np.array(grid(self.tmin, self.tmax, self.total_horizon))\n",
    "\n",
    "    def __len__(self):\n",
    "        return len(self.data)\n",
    "\n",
    "    @staticmethod\n",
    "    def __make__points__(vals):\n",
    "        return vals\n",
    "\n",
    "    @staticmethod\n",
    "    def __make__slices__(vals):\n",
    "        return tuple(slice(x, y) for x, y in zip(vals[:-1], vals[1:]))\n",
    "\n",
    "    def __make__masks__(self, vals):\n",
    "        return tuple(\n",
    "            (x <= self.data) & (self.data < y) for x, y in zip(vals[:-1], vals[1:])\n",
    "        )\n",
    "\n",
    "    def __iter__(self):\n",
    "        \"\"\"Iterate through.\n",
    "\n",
    "        For each k, we return a tuple:\n",
    "\n",
    "        if return_stops:\n",
    "        - $(x₀ + k⋅∆t, x₁+k⋅∆t, …, xₘ+k⋅∆t)$\n",
    "        if return_slices:\n",
    "        - $(slice(x₀ + k⋅∆t, x₁+k⋅∆t), …, slice(xₘ₋₁+k⋅∆t, xₘ+k⋅∆t))$\n",
    "        if return_masks:\n",
    "        - $(mask₁, …, maskₘ$\n",
    "\n",
    "        \"\"\"\n",
    "        yield_fn = {\n",
    "            \"masks\": self.__make__masks__,\n",
    "            \"points\": self.__make__points__,\n",
    "            \"slices\": self.__make__slices__,\n",
    "        }[self.mode]\n",
    "\n",
    "        if self.shuffle:\n",
    "            perm = np.random.permutation(len(self.grid))\n",
    "            for k in self.grid[perm]:\n",
    "                vals = self.start_values + k * self.stride\n",
    "                yield yield_fn(vals)\n",
    "            return\n",
    "\n",
    "        # faster non-shuffle code path\n",
    "        vals = self.start_values\n",
    "        for k in self.grid:\n",
    "            vals += self.stride\n",
    "            yield yield_fn(vals)"
   ]
  },
  {
   "cell_type": "code",
   "execution_count": null,
   "metadata": {},
   "outputs": [],
   "source": [
    "td = np.arange(100)\n",
    "\n",
    "obj = SlidingWindowSampler(td, stride=1, horizons=[5, 3], shuffle=True, mode=\"points\")\n",
    "obj.start_values"
   ]
  },
  {
   "cell_type": "markdown",
   "metadata": {},
   "source": [
    "## Manual execution"
   ]
  },
  {
   "cell_type": "code",
   "execution_count": null,
   "metadata": {},
   "outputs": [],
   "source": [
    "import datetime as dt\n",
    "from datetime import datetime as py_dt, timedelta as py_td\n",
    "from typing import Sequence, cast\n",
    "\n",
    "import numpy as np\n",
    "import pandas as pd\n",
    "from numpy.typing import NDArray\n",
    "from pandas import DataFrame, Series, Timedelta, Timestamp\n",
    "\n",
    "from tsdm.random.samplers import grid\n",
    "from tsdm.utils.types.time import NumpyDTVar, NumpyTDVar"
   ]
  },
  {
   "cell_type": "code",
   "execution_count": null,
   "metadata": {},
   "outputs": [],
   "source": [
    "stride = \"5m\"\n",
    "mode = \"points\"\n",
    "horizons = [\"15m\", \"30m\"]\n",
    "shuffle = False\n",
    "\n",
    "tds = pd.Series(pd.to_timedelta(np.random.rand(200), \"m\"))\n",
    "tmin = pd.Timestamp(0)\n",
    "tmax = tmin + pd.Timedelta(2, \"h\")\n",
    "T = pd.concat([Series([tmin]), tmin + tds.cumsum(), Series([tmax])])\n",
    "T = T.reset_index(drop=True)\n",
    "\n",
    "tmin = None\n",
    "tmax = None"
   ]
  },
  {
   "cell_type": "code",
   "execution_count": null,
   "metadata": {},
   "outputs": [],
   "source": [
    "class Dummy: ...\n",
    "\n",
    "\n",
    "self = Dummy()\n",
    "\n",
    "self.data = T\n",
    "\n",
    "# coerce non-numpy types to numpy.\n",
    "horizons = Timedelta(horizons) if isinstance(horizons, str) else horizons\n",
    "stride = Timedelta(stride) if isinstance(stride, str) else stride\n",
    "tmin = Timestamp(tmin) if isinstance(tmin, str) else tmin\n",
    "tmax = Timestamp(tmax) if isinstance(tmax, str) else tmax\n",
    "\n",
    "self.shuffle = shuffle\n",
    "self.mode = mode\n",
    "self.stride = stride\n",
    "\n",
    "if tmin is None:\n",
    "    if isinstance(self.data, (Series, DataFrame)):\n",
    "        self.tmin = self.data.iloc[0]\n",
    "    else:\n",
    "        self.tmin = self.data[0]\n",
    "else:\n",
    "    self.tmin = tmin\n",
    "\n",
    "if tmax is None:\n",
    "    if isinstance(self.data, (Series, DataFrame)):\n",
    "        self.tmax = self.data.iloc[-1]\n",
    "    else:\n",
    "        self.tmax = self.data[-1]\n",
    "else:\n",
    "    self.tmax = tmax\n",
    "\n",
    "# this gives us the correct zero, depending on the dtype\n",
    "self.zero_td = cast(NumpyTDVar, self.tmin - self.tmin)\n",
    "assert self.stride > self.zero_td, \"stride cannot be zero.\""
   ]
  },
  {
   "cell_type": "code",
   "execution_count": null,
   "metadata": {},
   "outputs": [],
   "source": [
    "self.horizons"
   ]
  },
  {
   "cell_type": "code",
   "execution_count": null,
   "metadata": {},
   "outputs": [],
   "source": [
    "self.horizons.insert(0, self.zero_td)"
   ]
  },
  {
   "cell_type": "code",
   "execution_count": null,
   "metadata": {},
   "outputs": [],
   "source": [
    "if isinstance(horizons, Sequence):\n",
    "    self.multi_horizon = True\n",
    "    if isinstance(horizons[0], (str, Timedelta, py_td)):\n",
    "        self.horizons = pd.to_timedelta(horizons)\n",
    "        self.cumulative_horizons = \n",
    "    else:\n",
    "        self.horizons = np.array(horizons)\n",
    "\n",
    "    self.total_horizon = self.horizons.sum()\n",
    "    self.cumulative_horizons = np.cumsum([[self.zero_td], self.horizons])\n",
    "\n",
    "else:\n",
    "    self.multi_horizon = False\n",
    "    self.horizons = horizons\n",
    "    self.total_horizon = self.horizons\n",
    "    self.cumulative_horizons = np.cumsum([self.zero_td, self.horizons])"
   ]
  },
  {
   "cell_type": "code",
   "execution_count": null,
   "metadata": {},
   "outputs": [],
   "source": [
    "self.data"
   ]
  },
  {
   "cell_type": "code",
   "execution_count": null,
   "metadata": {},
   "outputs": [],
   "source": [
    "self.cumulative_horizons"
   ]
  },
  {
   "cell_type": "code",
   "execution_count": null,
   "metadata": {},
   "outputs": [],
   "source": [
    "self.start_values = cast(\n",
    "    NDArray[NumpyDTVar],\n",
    "    self.tmin + self.cumulative_horizons,  # type: ignore[call-overload, operator]\n",
    ")\n",
    "\n",
    "self.offset = cast(\n",
    "    NumpyDTVar,\n",
    "    self.tmin + self.total_horizon,  # type: ignore[call-overload, operator]\n",
    ")\n",
    "\n",
    "# precompute the possible slices\n",
    "self.grid = np.array(grid(self.tmin, self.tmax, self.stride))"
   ]
  },
  {
   "cell_type": "code",
   "execution_count": null,
   "metadata": {},
   "outputs": [],
   "source": [
    "dt.datetime(2020, 1, 1) + dt.timedelta(1)"
   ]
  },
  {
   "cell_type": "code",
   "execution_count": null,
   "metadata": {},
   "outputs": [],
   "source": [
    "cumulative_horizons = np.cumsum(cumulative_horizons)\n",
    "\n",
    "self.start_values = cast(\n",
    "    NDArray[NumpyDTVar],\n",
    "    self.tmin + cumulative_horizons,  # type: ignore[call-overload, operator]\n",
    ")\n",
    "\n",
    "self.offset = cast(\n",
    "    NumpyDTVar,\n",
    "    self.tmin + self.total_horizon,  # type: ignore[call-overload, operator]\n",
    ")\n",
    "\n",
    "# precompute the possible slices\n",
    "self.grid = np.array(grid(self.tmin, self.tmax, self.stride))"
   ]
  },
  {
   "cell_type": "code",
   "execution_count": null,
   "metadata": {},
   "outputs": [],
   "source": [
    "self.horizons"
   ]
  },
  {
   "cell_type": "code",
   "execution_count": null,
   "metadata": {},
   "outputs": [],
   "source": [
    "np.array(self.tmin)"
   ]
  },
  {
   "cell_type": "code",
   "execution_count": null,
   "metadata": {},
   "outputs": [],
   "source": [
    "self.tmax"
   ]
  },
  {
   "cell_type": "code",
   "execution_count": null,
   "metadata": {},
   "outputs": [],
   "source": [
    "self.tmin"
   ]
  },
  {
   "cell_type": "code",
   "execution_count": null,
   "metadata": {},
   "outputs": [],
   "source": [
    "cumulative_horizons"
   ]
  },
  {
   "cell_type": "code",
   "execution_count": null,
   "metadata": {},
   "outputs": [],
   "source": [
    "self.offset"
   ]
  },
  {
   "cell_type": "code",
   "execution_count": null,
   "metadata": {},
   "outputs": [],
   "source": []
  },
  {
   "cell_type": "code",
   "execution_count": null,
   "metadata": {},
   "outputs": [],
   "source": []
  }
 ],
 "metadata": {
  "kernelspec": {
   "display_name": "Python 3 (ipykernel)",
   "language": "python",
   "name": "python3"
  },
  "language_info": {
   "codemirror_mode": {
    "name": "ipython",
    "version": 3
   },
   "file_extension": ".py",
   "mimetype": "text/x-python",
   "name": "python",
   "nbconvert_exporter": "python",
   "pygments_lexer": "ipython3",
   "version": "3.10.5"
  }
 },
 "nbformat": 4,
 "nbformat_minor": 4
}
