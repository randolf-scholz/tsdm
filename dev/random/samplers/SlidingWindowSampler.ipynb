{
 "cells": [
  {
   "cell_type": "markdown",
   "metadata": {},
   "source": [
    "# SlidingWindowSampler"
   ]
  },
  {
   "cell_type": "code",
   "execution_count": null,
   "metadata": {},
   "outputs": [],
   "source": [
    "%config InteractiveShell.ast_node_interactivity='last_expr_or_assign'  # always print last expr.\n",
    "%config InlineBackend.figure_format = 'svg'\n",
    "%load_ext autoreload\n",
    "%autoreload 2\n",
    "%matplotlib inline\n",
    "\n",
    "import logging\n",
    "\n",
    "logging.basicConfig(level=logging.INFO)"
   ]
  },
  {
   "cell_type": "code",
   "execution_count": null,
   "metadata": {},
   "outputs": [],
   "source": [
    "import matplotlib.pyplot as plt\n",
    "import numpy as np\n",
    "\n",
    "np.set_printoptions(precision=4, floatmode=\"fixed\", suppress=True)\n",
    "rng = np.random.default_rng()"
   ]
  },
  {
   "cell_type": "code",
   "execution_count": null,
   "metadata": {},
   "outputs": [],
   "source": [
    "from torch.utils.data import Sampler\n",
    "\n",
    "from tsdm.random.samplers import BaseSampler"
   ]
  },
  {
   "cell_type": "code",
   "execution_count": null,
   "metadata": {},
   "outputs": [],
   "source": [
    "from typing import Generic, TypeVar, Union\n",
    "from collections.abc import Sequence"
   ]
  },
  {
   "cell_type": "code",
   "execution_count": null,
   "metadata": {},
   "outputs": [],
   "source": [
    "from datetime import datetime as py_dt\n",
    "from datetime import timedelta as py_td\n",
    "from numpy import datetime64 as np_dt\n",
    "from numpy import floating as np_float\n",
    "from numpy import integer as np_int\n",
    "from numpy import timedelta64 as np_td\n",
    "from pandas import Timedelta as pd_td\n",
    "from pandas import Timestamp as pd_dt\n",
    "\n",
    "TimestampLike = TypeVar(\"TimestampLike\", py_dt, np_dt, pd_dt)\n",
    "TimedeltaLike = TypeVar(\"TimedeltaLike\", py_td, np_td, pd_td)\n",
    "\n",
    "TimestampLike = TypeVar(\"TimestampLike\", py_dt, np_dt, pd_dt)\n",
    "TimedeltaLike = TypeVar(\"TimedeltaLike\", py_td, np_td, pd_td)\n",
    "\n",
    "TimeLike = TypeVar(\n",
    "    \"TimeLike\", int, float, np_int, np_float, py_dt, np_dt, pd_dt, py_td, np_td, pd_td\n",
    ")"
   ]
  },
  {
   "cell_type": "code",
   "execution_count": null,
   "metadata": {},
   "outputs": [],
   "source": [
    "class SlidingWindowSampler(BaseSampler, Generic[TimeLike]):\n",
    "    r\"\"\"Sampler that generates sliding windows over an interval.\n",
    "\n",
    "    The `SlidingWindowSampler` generates tuples.\n",
    "\n",
    "    Inputs:\n",
    "    - Ordered timestamps T\n",
    "    - Starting time t_0\n",
    "    - Final time t_f\n",
    "    - stride ∆t (how much the sampler advances at each step)\n",
    "        default, depending on data type of T:\n",
    "           - integer: GCD(∆T)\n",
    "           - float: max(⌊AVG(∆T)⌋, ε)\n",
    "           - timestamp: resolution dependent.\n",
    "    - horizons: TimeDelta or Tuple[TimeDelta]\n",
    "\n",
    "    The sampler will return tuples of len(horizons)+1.\n",
    "    \"\"\"\n",
    "\n",
    "    def __init__(\n",
    "        self,\n",
    "        data_source: Sequence[TimeLike],\n",
    "        /,\n",
    "        *,\n",
    "        stride: TimeLike,\n",
    "        horizons: Union[TimeLike, tuple[TimeLike]],\n",
    "        shuffle: bool = False,\n",
    "        return_mask: bool = True,\n",
    "    ):\n",
    "        super().__init__(data_source)\n",
    "        self.data = data_source\n",
    "        self.shuffle = shuffle"
   ]
  },
  {
   "cell_type": "code",
   "execution_count": null,
   "metadata": {},
   "outputs": [],
   "source": []
  }
 ],
 "metadata": {
  "kernelspec": {
   "display_name": "Python 3 (ipykernel)",
   "language": "python",
   "name": "python3"
  },
  "language_info": {
   "codemirror_mode": {
    "name": "ipython",
    "version": 3
   },
   "file_extension": ".py",
   "mimetype": "text/x-python",
   "name": "python",
   "nbconvert_exporter": "python",
   "pygments_lexer": "ipython3",
   "version": "3.10.5"
  }
 },
 "nbformat": 4,
 "nbformat_minor": 4
}
