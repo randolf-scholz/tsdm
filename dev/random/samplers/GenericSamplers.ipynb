{
 "cells": [
  {
   "cell_type": "markdown",
   "metadata": {},
   "source": [
    "# Generic Samplers\n",
    "\n",
    "We create Sampler classes for Recursive Data Types, in particular `Mapping` and `Sequence`/`Collection`.\n"
   ]
  },
  {
   "cell_type": "code",
   "execution_count": null,
   "metadata": {},
   "outputs": [],
   "source": [
    "%config InteractiveShell.ast_node_interactivity='last_expr_or_assign'  # always print last expr.\n",
    "%config InlineBackend.figure_format = 'svg'\n",
    "%load_ext autoreload\n",
    "%autoreload 2\n",
    "%matplotlib inline\n",
    "\n",
    "import logging\n",
    "\n",
    "logging.basicConfig(level=logging.INFO)"
   ]
  },
  {
   "cell_type": "code",
   "execution_count": null,
   "metadata": {},
   "outputs": [],
   "source": [
    "import numpy as np\n",
    "\n",
    "np.set_printoptions(precision=4, floatmode=\"fixed\", suppress=True)\n",
    "rng = np.random.default_rng()"
   ]
  },
  {
   "cell_type": "code",
   "execution_count": null,
   "metadata": {},
   "outputs": [],
   "source": [
    "import logging\n",
    "from collections.abc import Iterator, Mapping\n",
    "from itertools import chain\n",
    "from typing import Iterator, Optional, Union\n",
    "\n",
    "from tsdm.utils.types import KeyType, ValueType"
   ]
  },
  {
   "cell_type": "code",
   "execution_count": null,
   "metadata": {},
   "outputs": [],
   "source": [
    "from torch.utils.data import Sampler"
   ]
  },
  {
   "cell_type": "code",
   "execution_count": null,
   "metadata": {},
   "outputs": [],
   "source": [
    "class MappingSampler(Sampler):\n",
    "    r\"\"\"Samples randomly from a given Mapping object.\"\"\"\n",
    "\n",
    "    # idx: Index\n",
    "    # r\"\"\"The shared index.\"\"\"\n",
    "    early_stop: bool = False\n",
    "    r\"\"\"Whether to stop sampling when the index is exhausted.\"\"\"\n",
    "    shuffle: bool = True\n",
    "    r\"\"\"Whether to sample in random order.\"\"\"\n",
    "    sizes: Series\n",
    "    r\"\"\"The sizes of the subsamplers.\"\"\"\n",
    "    partition: Series\n",
    "    r\"\"\"Contains each key a number of times equal to the size of the subsampler.\"\"\"\n",
    "    subsamplers: Optional[Mapping[KeyType, Sampler]]\n",
    "    r\"\"\"The subsamplers to sample from the collection.\"\"\"\n",
    "\n",
    "    def __init__(\n",
    "        self,\n",
    "        data_source: Mapping[KeyType, ValueType],\n",
    "        subsamplers: Optional[Union[Mapping[KeyType, Sampler]]] = None,\n",
    "        shuffle: bool = True,\n",
    "        early_stop: bool = False,\n",
    "    ):\n",
    "        super().__init__(data_source)\n",
    "        self.data = data_source\n",
    "        self.shuffle = shuffle\n",
    "        self.idx = data_source.keys()\n",
    "        self.subsamplers = dict(subsamplers)\n",
    "        self.early_stop = early_stop\n",
    "        self.sizes = Series({key: len(self.subsamplers[key]) for key in self.idx})\n",
    "\n",
    "        if early_stop:\n",
    "            # sample min(map(len, subsamplers)) from each subsampler\n",
    "            partition = list(chain(*([key] * min(self.sizes) for key in self.idx)))\n",
    "        else:\n",
    "            # sample len(subsampler) from each subsampler\n",
    "            partition = list(chain(*([key] * self.sizes[key] for key in self.idx)))\n",
    "        self.partition = Series(partition)\n",
    "\n",
    "    def __len__(self):\n",
    "        r\"\"\"Return the maximum allowed index.\"\"\"\n",
    "        if self.subsamplers is None:\n",
    "            return len(self.data)\n",
    "        if self.early_stop:\n",
    "            return min(self.sizes) * len(self.subsamplers)\n",
    "        return sum(self.sizes)\n",
    "\n",
    "    def __iter__(self) -> Iterator:\n",
    "        r\"\"\"Return indices of the samples.\n",
    "\n",
    "        When ``early_stop=True``, it will sample precisely min() * len(subsamplers) samples.\n",
    "        When ``early_stop=False``, it will sample all samples.\n",
    "        \"\"\"\n",
    "        if self.subsamplers is None:\n",
    "            perm = np.random.permutation(self.keys())\n",
    "            return iter(perm)\n",
    "\n",
    "        activate_iterators = {\n",
    "            key: iter(sampler) for key, sampler in self.subsamplers.items()\n",
    "        }\n",
    "        perm = np.random.permutation(self.partition)\n",
    "\n",
    "        for key in perm:\n",
    "            yield key, next(activate_iterators[key])\n",
    "\n",
    "    def __getitem__(self, key: KeyType) -> ValueType:\n",
    "        r\"\"\"Return the data for the given key.\"\"\"\n",
    "        return self.data[key]"
   ]
  },
  {
   "cell_type": "code",
   "execution_count": null,
   "metadata": {},
   "outputs": [],
   "source": [
    "class HierarchicalSampler(Sampler):\n",
    "    \"\"\"Either: Initialize with nested dictionary\n",
    "\n",
    "    - can handle arbitrary nestedness\n",
    "\n",
    "    Or: tell what subsampler to use\n",
    "\n",
    "    - can handle product types.\n",
    "    - allow parametrization as input.\n",
    "    \"\"\"\n",
    "\n",
    "    index: nested_dict\n",
    "    samplers: nested_dict"
   ]
  }
 ],
 "metadata": {
  "kernelspec": {
   "display_name": "Python 3 (ipykernel)",
   "language": "python",
   "name": "python3"
  },
  "language_info": {
   "codemirror_mode": {
    "name": "ipython",
    "version": 3
   },
   "file_extension": ".py",
   "mimetype": "text/x-python",
   "name": "python",
   "nbconvert_exporter": "python",
   "pygments_lexer": "ipython3",
   "version": "3.10.11"
  }
 },
 "nbformat": 4,
 "nbformat_minor": 4
}
