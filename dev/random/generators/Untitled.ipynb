{
 "cells": [
  {
   "cell_type": "code",
   "execution_count": null,
   "id": "d6ad8c3b-4789-4b9c-aee6-ec701be76808",
   "metadata": {},
   "outputs": [],
   "source": [
    "%config InteractiveShell.ast_node_interactivity='last_expr_or_assign'  # always print last expr.\n",
    "\n",
    "import tsdm\n",
    "from tsdm.random.generators import DampedPendulum, LoktaVolterra, BouncingBall"
   ]
  },
  {
   "cell_type": "code",
   "execution_count": null,
   "id": "e27d4811-d0d1-4c9e-b8d2-b66a0b08cb82",
   "metadata": {},
   "outputs": [],
   "source": [
    "import numpy as np\n",
    "\n",
    "t_min, t_max = -10, 20\n",
    "batch_size = 5\n",
    "n_dim = 2\n",
    "t = np.linspace(-10, 20, 1000);"
   ]
  },
  {
   "cell_type": "code",
   "execution_count": null,
   "id": "eabb5716-3b7a-4397-9d10-500e5b01f3c9",
   "metadata": {},
   "outputs": [],
   "source": [
    "gen1 = DampedPendulum()"
   ]
  },
  {
   "cell_type": "code",
   "execution_count": null,
   "id": "04c8ac56-6c78-4068-9947-26b5ff15287b",
   "metadata": {},
   "outputs": [],
   "source": [
    "x = 3\n",
    "y = \"a\"\n",
    "\n",
    "match x, y:\n",
    "    case int(), str():\n",
    "        print(0)"
   ]
  },
  {
   "cell_type": "code",
   "execution_count": null,
   "id": "dc467fa6-ec10-460b-abd7-4464fb868558",
   "metadata": {},
   "outputs": [],
   "source": []
  },
  {
   "cell_type": "code",
   "execution_count": null,
   "id": "d30317c1-67af-48c8-98fa-4f100d8050ef",
   "metadata": {},
   "outputs": [],
   "source": []
  },
  {
   "cell_type": "code",
   "execution_count": null,
   "id": "d0169be6-ed01-49a3-9ac5-b65997ac9753",
   "metadata": {},
   "outputs": [],
   "source": [
    "gen1.rvs(t)"
   ]
  },
  {
   "cell_type": "code",
   "execution_count": null,
   "id": "85a25b70-7a14-43b9-8764-31bb423bd417",
   "metadata": {},
   "outputs": [],
   "source": []
  }
 ],
 "metadata": {
  "kernelspec": {
   "display_name": "Python 3 (ipykernel)",
   "language": "python",
   "name": "python3"
  },
  "language_info": {
   "codemirror_mode": {
    "name": "ipython",
    "version": 3
   },
   "file_extension": ".py",
   "mimetype": "text/x-python",
   "name": "python",
   "nbconvert_exporter": "python",
   "pygments_lexer": "ipython3",
   "version": "3.10.13"
  }
 },
 "nbformat": 4,
 "nbformat_minor": 5
}
