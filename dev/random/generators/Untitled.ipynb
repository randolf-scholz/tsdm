{
 "cells": [
  {
   "cell_type": "code",
   "execution_count": null,
   "id": "0895067b-28e4-4a86-a1a6-959dd104dd54",
   "metadata": {},
   "outputs": [],
   "source": [
    "import tsdm"
   ]
  },
  {
   "cell_type": "code",
   "execution_count": null,
   "id": "7ef1abf3-da21-44a5-8a98-5c29efecec40",
   "metadata": {},
   "outputs": [],
   "source": [
    "import logging\n",
    "from typing import NamedTuple\n",
    "\n",
    "import numpy\n",
    "import pyarrow as pa\n",
    "import torch\n",
    "from numpy import ndarray\n",
    "from numpy.typing import NDArray\n",
    "from pandas import DataFrame, Index, Series\n",
    "from torch import Tensor\n",
    "\n",
    "from tsdm.types.protocols import Array, NTuple, SupportsShape\n",
    "from typing_extensions import get_args, get_type_hints, get_protocol_members"
   ]
  },
  {
   "cell_type": "code",
   "execution_count": null,
   "id": "29e1245f-1cd7-4704-b8be-5cc05ddfe4fe",
   "metadata": {},
   "outputs": [],
   "source": [
    "get_protocol_members(Array)"
   ]
  },
  {
   "cell_type": "code",
   "execution_count": null,
   "id": "6cb5b57c-8f55-48f2-a2aa-57f1b7f030be",
   "metadata": {},
   "outputs": [],
   "source": [
    "import dataclasses\n",
    "from collections.abc import Iterator, Mapping, Sequence\n",
    "from typing import (\n",
    "    Any,\n",
    "    NamedTuple,\n",
    "    Protocol,\n",
    "    TypeGuard,\n",
    "    TypeVar,\n",
    "    get_type_hints,\n",
    "    overload,\n",
    "    runtime_checkable,\n",
    ")\n",
    "\n",
    "from typing_extensions import Self, SupportsIndex, get_original_bases\n",
    "\n",
    "from tsdm.types.variables import any_co as T_co, key_contra, scalar_co, value_co"
   ]
  },
  {
   "cell_type": "code",
   "execution_count": null,
   "id": "3293f81d-7178-4cf6-811e-34a81c6244cd",
   "metadata": {},
   "outputs": [],
   "source": [
    "class Array(Protocol[scalar_co]):\n",
    "    r\"\"\"Protocol for array-like objects (tensors with single data type).\n",
    "\n",
    "    Matches with\n",
    "\n",
    "    - `numpy.ndarray`\n",
    "    - `torch.Tensor`\n",
    "    - `tensorflow.Tensor`\n",
    "    - `jax.numpy.ndarray`\n",
    "    - `pandas.Series`\n",
    "\n",
    "    Does not match with\n",
    "\n",
    "    - `pandas.DataFrame`\n",
    "    - `pyarrow.Table`\n",
    "    - `pyarrow.Array`\n",
    "    \"\"\"\n",
    "\n",
    "    @property\n",
    "    def ndim(self) -> int:\n",
    "        r\"\"\"Number of dimensions.\"\"\"\n",
    "        ...\n",
    "\n",
    "    @property\n",
    "    def dtype(self) -> scalar_co:\n",
    "        r\"\"\"Yield the data type of the array.\"\"\"\n",
    "        ...\n",
    "\n",
    "    @property\n",
    "    def shape(self) -> Sequence[int]:\n",
    "        \"\"\"Yield the shape of the array.\"\"\"\n",
    "        ...\n",
    "\n",
    "    def __len__(self) -> int:\n",
    "        \"\"\"Number of elements along first axis.\"\"\"\n",
    "        ...\n",
    "\n",
    "    def __getitem__(self, key: Any) -> Self:\n",
    "        \"\"\"Return an element/slice of the table.\"\"\"\n",
    "        ...\n",
    "\n",
    "    def __iter__(self) -> Iterator[Self]:\n",
    "        \"\"\"Iterate over the first dimension.\"\"\""
   ]
  },
  {
   "cell_type": "code",
   "execution_count": null,
   "id": "e019aee1-b443-469f-af22-d32dfb93ff58",
   "metadata": {},
   "outputs": [],
   "source": []
  },
  {
   "cell_type": "code",
   "execution_count": null,
   "id": "15f15921-d518-44af-afa3-d14aae386d22",
   "metadata": {},
   "outputs": [],
   "source": []
  },
  {
   "cell_type": "code",
   "execution_count": null,
   "id": "adb75716-2055-49f4-9b87-cfc96eec9fab",
   "metadata": {},
   "outputs": [],
   "source": [
    "import inspect"
   ]
  },
  {
   "cell_type": "code",
   "execution_count": null,
   "id": "fad8dbd9-10b1-4bf2-8ef1-1214a7011fdc",
   "metadata": {},
   "outputs": [],
   "source": [
    "a = dict(inspect.getmembers(Protocol))\n",
    "# print(a)\n",
    "b = dict(inspect.getmembers(Array))\n",
    "# print(b)\n",
    "\n",
    "for k, v in b.items():\n",
    "    if k not in a or v != a[k]:\n",
    "        print(\"Not inherited:\", k, v)"
   ]
  },
  {
   "cell_type": "code",
   "execution_count": null,
   "id": "cf61cf6b-4db5-4d14-ae37-89934cf53965",
   "metadata": {},
   "outputs": [],
   "source": [
    "from typing_extensions import get_protocol_members"
   ]
  },
  {
   "cell_type": "code",
   "execution_count": null,
   "id": "97a0df4a-74c2-4591-9175-f9ec4901a9a5",
   "metadata": {},
   "outputs": [],
   "source": [
    "get_protocol_members(Array)"
   ]
  },
  {
   "cell_type": "code",
   "execution_count": null,
   "id": "128b2db0-d17c-4ccd-a1d2-92f234e1e1e4",
   "metadata": {},
   "outputs": [],
   "source": [
    "{key for key in Array.__dict__ if key not in Protocol.__dict__}"
   ]
  },
  {
   "cell_type": "code",
   "execution_count": null,
   "id": "62ebecf4-ee88-4365-a296-389fefa39d6b",
   "metadata": {},
   "outputs": [],
   "source": [
    "Array.__dict__"
   ]
  },
  {
   "cell_type": "code",
   "execution_count": null,
   "id": "0fdb9802-0767-44fd-b871-dafb9aff5824",
   "metadata": {},
   "outputs": [],
   "source": []
  },
  {
   "cell_type": "code",
   "execution_count": null,
   "id": "c056b6b4-4eb2-4f7b-87a7-476c3a8efa58",
   "metadata": {},
   "outputs": [],
   "source": [
    "set(dir(Array)) - set(dir(Protocol)) - {\"__orig_bases__\", \"__weakref__\", \"__dict__\"}"
   ]
  },
  {
   "cell_type": "code",
   "execution_count": null,
   "id": "9aa1f466-83cf-4b7d-a39c-f84717b2d87d",
   "metadata": {},
   "outputs": [],
   "source": [
    "dict(inspect.getmembers(Array))"
   ]
  },
  {
   "cell_type": "code",
   "execution_count": null,
   "id": "c9a88fd3-7133-45b5-a02e-b81350101187",
   "metadata": {},
   "outputs": [],
   "source": [
    "Array.__parameters__"
   ]
  },
  {
   "cell_type": "code",
   "execution_count": null,
   "id": "ffd9e624-4ef0-4493-8e6e-456d4dc49e80",
   "metadata": {},
   "outputs": [],
   "source": [
    "Protocol.__dict__"
   ]
  },
  {
   "cell_type": "code",
   "execution_count": null,
   "id": "73a848be-3c9f-4646-817e-8ccbb3d08c48",
   "metadata": {},
   "outputs": [],
   "source": [
    "set(dir(Array)) - set(dir(Protocol))"
   ]
  },
  {
   "cell_type": "code",
   "execution_count": null,
   "id": "f0248134-90ae-43c2-858c-5a3d6ca6c3e4",
   "metadata": {},
   "outputs": [],
   "source": [
    "dir(Array)"
   ]
  },
  {
   "cell_type": "code",
   "execution_count": null,
   "id": "2285de41-0f4c-4de2-a05d-a043463828d8",
   "metadata": {},
   "outputs": [],
   "source": [
    "data = [1, 2, 3]\n",
    "arrays = {\n",
    "    \"torch_tensor\": torch.tensor(data),\n",
    "    \"numpy_ndarray\": ndarray(data),\n",
    "    \"pandas_series\": Series(data),\n",
    "    \"pyarrow_array\": pa.array(data),\n",
    "}\n",
    "shared_attrs = set.intersection(*(set(dir(arr)) for arr in arrays.values()))\n",
    "array_attrs = set(dir(Array))"
   ]
  },
  {
   "cell_type": "code",
   "execution_count": null,
   "id": "613e2407-8170-40b5-bc4a-215a3c531f5e",
   "metadata": {},
   "outputs": [],
   "source": [
    "missing_attrs = array_attrs - shared_attrs"
   ]
  },
  {
   "cell_type": "code",
   "execution_count": null,
   "id": "da5a29e1-d7ae-4963-a738-68da82bfa746",
   "metadata": {},
   "outputs": [],
   "source": [
    "missing_attrs"
   ]
  },
  {
   "cell_type": "code",
   "execution_count": null,
   "id": "358174a2-5c2b-48bd-9bd2-f32276af19ba",
   "metadata": {},
   "outputs": [],
   "source": [
    "get_type_hints(Array)"
   ]
  },
  {
   "cell_type": "code",
   "execution_count": null,
   "id": "bb5f1132-e85a-47c7-8de6-92094df51e31",
   "metadata": {},
   "outputs": [],
   "source": []
  },
  {
   "cell_type": "code",
   "execution_count": null,
   "id": "c9e6ec9a-e729-4728-b297-927b5dd94c28",
   "metadata": {},
   "outputs": [],
   "source": []
  },
  {
   "cell_type": "code",
   "execution_count": null,
   "id": "cf9c6d88-01fd-4b87-928b-0440ef76e2d6",
   "metadata": {},
   "outputs": [],
   "source": [
    "Array.__slots__"
   ]
  },
  {
   "cell_type": "code",
   "execution_count": null,
   "id": "7599d86a-41e3-4dda-9334-4784e5a6b5c2",
   "metadata": {},
   "outputs": [],
   "source": [
    "get_type_hints(Array)"
   ]
  },
  {
   "cell_type": "code",
   "execution_count": null,
   "id": "750e8e3c-a81c-4d60-87ea-1347de09f3e0",
   "metadata": {},
   "outputs": [],
   "source": [
    "dir(Array)"
   ]
  },
  {
   "cell_type": "code",
   "execution_count": null,
   "id": "8120ef95-9326-4d57-8023-55b89b5e3dd8",
   "metadata": {},
   "outputs": [],
   "source": []
  }
 ],
 "metadata": {
  "kernelspec": {
   "display_name": "Python 3 (ipykernel)",
   "language": "python",
   "name": "python3"
  },
  "language_info": {
   "codemirror_mode": {
    "name": "ipython",
    "version": 3
   },
   "file_extension": ".py",
   "mimetype": "text/x-python",
   "name": "python",
   "nbconvert_exporter": "python",
   "pygments_lexer": "ipython3",
   "version": "3.10.13"
  }
 },
 "nbformat": 4,
 "nbformat_minor": 5
}
