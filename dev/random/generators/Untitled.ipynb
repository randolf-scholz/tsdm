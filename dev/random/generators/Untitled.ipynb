{
 "cells": [
  {
   "cell_type": "code",
   "execution_count": null,
   "id": "582e7fe3-c050-4f97-a145-0ed1b3bbc2f8",
   "metadata": {},
   "outputs": [],
   "source": [
    "import numpy as np\n",
    "\n",
    "U = 1000\n",
    "I = 100\n",
    "R = np.random.choice([0, 1], (U, I))\n",
    "dU = R.sum(axis=1)\n",
    "dI = R.sum(axis=0)\n",
    "\n",
    "DU_invsqrt = np.diag(1 / np.sqrt(dU))\n",
    "DI_invsqrt = np.diag(1 / np.sqrt(dI))\n",
    "\n",
    "R_tilde = DU_invsqrt @ R @ DI_invsqrt\n",
    "svd = np.linalg.svd(R_tilde)\n",
    "svd.S"
   ]
  },
  {
   "cell_type": "code",
   "execution_count": null,
   "id": "495183cd-0cfa-472b-8f7f-fa4c3e534930",
   "metadata": {},
   "outputs": [],
   "source": []
  },
  {
   "cell_type": "code",
   "execution_count": null,
   "id": "a42b1fcf-4793-42f9-ac38-8c04581bc8e5",
   "metadata": {},
   "outputs": [],
   "source": [
    "DI.shape"
   ]
  },
  {
   "cell_type": "code",
   "execution_count": null,
   "id": "f65af8d3-2d87-4d9e-986a-1d9f05550569",
   "metadata": {},
   "outputs": [],
   "source": []
  },
  {
   "cell_type": "code",
   "execution_count": null,
   "id": "ca275fa9-dc5e-42b5-9e1d-dcbdc4fc609e",
   "metadata": {},
   "outputs": [],
   "source": []
  },
  {
   "cell_type": "code",
   "execution_count": null,
   "id": "b8a8e037-ae93-43b8-badf-b7abe5ce77ad",
   "metadata": {},
   "outputs": [],
   "source": [
    "import numpy as np"
   ]
  },
  {
   "cell_type": "code",
   "execution_count": null,
   "id": "e8cdce35-02ec-4f2c-813c-73e061e29179",
   "metadata": {},
   "outputs": [],
   "source": [
    "x0 = y0[..., 0]\n",
    "v0 = y0[..., 1]\n",
    "\n",
    "# mod out period\n",
    "period = 4 / abs(v0)\n",
    "t = np.mod.outer(t, period)\n",
    "t = np.moveaxis(t, 0, -1)  # move time axis to back\n",
    "\n",
    "next_wall = np.sign(v0)  # the next wall the ball will hit\n",
    "time_to_wall = (next_wall - x0) / v0"
   ]
  },
  {
   "cell_type": "code",
   "execution_count": null,
   "id": "489f3ae2-8460-4b39-b90b-6fe81584592a",
   "metadata": {},
   "outputs": [],
   "source": [
    "np.moveaxis(t, 0, -1).shape"
   ]
  },
  {
   "cell_type": "code",
   "execution_count": null,
   "id": "98ae8e10-603a-47a5-87a6-de51a926f45d",
   "metadata": {},
   "outputs": [],
   "source": [
    "next_wall = np.sign(v0)  # the next wall the ball will hit\n",
    "time_to_wall = (next_wall - x0) / v0"
   ]
  },
  {
   "cell_type": "code",
   "execution_count": null,
   "id": "9dea615f-d8df-418b-a585-7fb6fe268c24",
   "metadata": {},
   "outputs": [],
   "source": [
    "t.shape"
   ]
  },
  {
   "cell_type": "code",
   "execution_count": null,
   "id": "a440c21e-a443-4477-a405-ffd6e97864b4",
   "metadata": {},
   "outputs": [],
   "source": [
    "v0 * t"
   ]
  },
  {
   "cell_type": "code",
   "execution_count": null,
   "id": "8815d0cc-ade0-4e88-9958-5329a4b44056",
   "metadata": {},
   "outputs": [],
   "source": [
    "t.shape"
   ]
  },
  {
   "cell_type": "code",
   "execution_count": null,
   "id": "f907e32b-f7f2-4d9a-ab10-d8751a832a08",
   "metadata": {},
   "outputs": [],
   "source": [
    "def solve_ivp(t, *, y0: np.ndarray) -> np.ndarray:\n",
    "    \"\"\"Solve the initial value problem.\n",
    "\n",
    "    Signature: ``[(N,), (..., 2)] -> (..., N)``\n",
    "    \"\"\"\n",
    "    x0 = y0[..., 0]\n",
    "    v0 = y0[..., 1]\n",
    "\n",
    "    # mod out period\n",
    "    period = 4 / abs(v0)\n",
    "    half_period = 2 / abs(v0)\n",
    "    t = np.mod.outer(t, period)\n",
    "\n",
    "    next_wall = np.sign(v0)  # the next wall the ball will hit\n",
    "\n",
    "    t1 = (next_wall - x0) / v0\n",
    "    t2 = t1 + half_period\n",
    "    t3 = t2 + half_period\n",
    "\n",
    "    x = np.select(\n",
    "        [\n",
    "            t <= t1,\n",
    "            (t > t1) & (t <= t2),\n",
    "            t > t2,\n",
    "        ],\n",
    "        [\n",
    "            x0 + v0 * t,\n",
    "            next_wall - v0 * (t - t1),\n",
    "            -next_wall + v0 * (t - t2),\n",
    "        ],\n",
    "    )\n",
    "    assert x.min() >= -1 and x.max() <= +1\n",
    "\n",
    "    # move time axis to the back\n",
    "    x = np.moveaxis(x, 0, -1)\n",
    "    return x"
   ]
  },
  {
   "cell_type": "code",
   "execution_count": null,
   "id": "9dc62acc-097b-4daf-8da4-1abae9645e65",
   "metadata": {},
   "outputs": [],
   "source": [
    "x0 = y0[..., 0]\n",
    "v0 = y0[..., 1]\n",
    "\n",
    "# mod out period\n",
    "period = 4 / abs(v0)\n",
    "half_period = 2 / abs(v0)\n",
    "t = np.mod.outer(t, period)\n",
    "\n",
    "next_wall = np.sign(v0)  # the next wall the ball will hit\n",
    "\n",
    "t1 = (next_wall - x0) / v0\n",
    "t2 = t1 + half_period\n",
    "t3 = t2 + half_period\n",
    "\n",
    "x = np.select(\n",
    "    [\n",
    "        t <= t1,\n",
    "        (t > t1) & (t <= t2),\n",
    "        t > t2,\n",
    "    ],\n",
    "    [\n",
    "        x0 + v0 * t,\n",
    "        next_wall - v0 * (t - t1),\n",
    "        -next_wall + v0 * (t - t2),\n",
    "    ],\n",
    ")\n",
    "assert x.min() >= -1 and x.max() <= +1"
   ]
  },
  {
   "cell_type": "code",
   "execution_count": null,
   "id": "3596dd74-54eb-46de-8e28-1254b4d6402a",
   "metadata": {},
   "outputs": [],
   "source": [
    "t2.min(), t2.max()"
   ]
  },
  {
   "cell_type": "code",
   "execution_count": null,
   "id": "a818a2c5-5c4b-4653-b267-68d50bc1347f",
   "metadata": {},
   "outputs": [],
   "source": [
    "abs(t2) < half_period"
   ]
  },
  {
   "cell_type": "code",
   "execution_count": null,
   "id": "85d37f01-5a7f-404b-a3f3-a05c904223d2",
   "metadata": {},
   "outputs": [],
   "source": []
  },
  {
   "cell_type": "code",
   "execution_count": null,
   "id": "bbd33850-08aa-4680-b1f3-96664879032a",
   "metadata": {},
   "outputs": [],
   "source": [
    "v0 * half_period"
   ]
  },
  {
   "cell_type": "code",
   "execution_count": null,
   "id": "0984f24a-ed2d-4ac5-891d-cbecec06a1af",
   "metadata": {},
   "outputs": [],
   "source": [
    "x.min()"
   ]
  },
  {
   "cell_type": "code",
   "execution_count": null,
   "id": "62937604-35bd-4b2d-bb86-e251811491e6",
   "metadata": {},
   "outputs": [],
   "source": [
    "(v0 * half_period).max()"
   ]
  },
  {
   "cell_type": "code",
   "execution_count": null,
   "id": "cdc2fa23-0063-4621-8384-71c26b38577c",
   "metadata": {},
   "outputs": [],
   "source": [
    "x.max()"
   ]
  },
  {
   "cell_type": "code",
   "execution_count": null,
   "id": "d10b4d57-3263-4757-824a-3832cc5b9a26",
   "metadata": {},
   "outputs": [],
   "source": [
    "from scipy.stats import truncnorm"
   ]
  },
  {
   "cell_type": "code",
   "execution_count": null,
   "id": "7559f428-239d-4b62-a694-892d4c20a06f",
   "metadata": {},
   "outputs": [],
   "source": [
    "truncnorm"
   ]
  },
  {
   "cell_type": "code",
   "execution_count": null,
   "id": "97a57d6c-8a08-440e-82a7-b859746daad1",
   "metadata": {},
   "outputs": [],
   "source": [
    "y0"
   ]
  },
  {
   "cell_type": "code",
   "execution_count": null,
   "id": "0ec43d2e-e7ea-4a3d-8529-a1015707652a",
   "metadata": {},
   "outputs": [],
   "source": [
    "import re"
   ]
  },
  {
   "cell_type": "code",
   "execution_count": null,
   "id": "5aecf2bc-8f3b-4bcb-b38f-e2d5c4651bbc",
   "metadata": {},
   "outputs": [],
   "source": [
    "pattern = re.compile('(?<=[:\\n]\\n)\\s*\"\"\"')\n",
    "\n",
    "pattern.findall(file)"
   ]
  },
  {
   "cell_type": "code",
   "execution_count": null,
   "id": "0bd75acb-6d8f-41e4-81e4-bd6934918f17",
   "metadata": {},
   "outputs": [],
   "source": [
    "file = r'''\n",
    "#!/usr/bin/env python\n",
    "\"\"\"Check whether attributes in annotations shadow directly imported symbols.\n",
    "\n",
    "Example:\n",
    "    >>> import collections.abc as abc\n",
    "    >>> from collections.abc import Sequence\n",
    "    >>>\n",
    "    >>> def foo(x: abc.Sequence) -> abc.Sequence:\n",
    "    >>>     return x\n",
    "\n",
    "    Would raise an error because `pd.DataFrame` shadows directly imported `DataFrame`.\n",
    "\"\"\"\n",
    "\n",
    "__all__ = [\n",
    "    \"get_pure_attributes\",\n",
    "    \"get_full_attribute_parent\",\n",
    "    \"get_imported_symbols\",\n",
    "    \"get_imported_attributes\",\n",
    "    \"check_file\",\n",
    "    \"main\",\n",
    "]\n",
    "\n",
    "\n",
    "import argparse\n",
    "import ast\n",
    "import logging\n",
    "import sys\n",
    "from ast import AST, Attribute, Name\n",
    "from collections.abc import Iterator\n",
    "from pathlib import Path\n",
    "from typing import TypeGuard\n",
    "\n",
    "from assorted_hooks.utils import get_python_files\n",
    "\n",
    "__logger__ = logging.getLogger(__name__)\n",
    "\n",
    "\n",
    "def is_pure_attribute(node: AST, /) -> TypeGuard[Attribute]:\n",
    "    \"\"\"Check whether a node is a pure attribute.\"\"\"\n",
    "    return isinstance(node, Attribute) and (\n",
    "        isinstance(node.value, Name) or is_pure_attribute(node.value)\n",
    "    )\n",
    "\n",
    "\n",
    "def get_pure_attributes(tree: AST, /) -> Iterator[Attribute]:\n",
    "    \"\"\"Get all nodes that consist only of attributes.\"\"\"\n",
    "    for node in ast.walk(tree):\n",
    "        if is_pure_attribute(node):\n",
    "            yield node\n",
    "\n",
    "\n",
    "def get_full_attribute_parent(node: Attribute | Name, /) -> tuple[Name, str]:\n",
    "    \"\"\"Get the parent of an attribute node.\"\"\"\n",
    "    if isinstance(node, Attribute):\n",
    "        if not isinstance(node.value, Attribute | Name):\n",
    "            raise ValueError(\n",
    "                f\"Expected Attribute or Name, got {type(node.value)} {vars(node.value)=}\"\n",
    "            )\n",
    "        parent, string = get_full_attribute_parent(node.value)\n",
    "        return parent, f\"{string}.{node.attr}\"\n",
    "\n",
    "    if not isinstance(node, Name):\n",
    "        raise ValueError(f\"Expected ast.Name, got {type(node)=}  {vars(node.value)=}\")\n",
    "\n",
    "    return node, node.id\n",
    "\n",
    "\n",
    "def get_imported_symbols(tree: AST, /) -> dict[str, str]:\n",
    "    \"\"\"Get all imported symbols.\"\"\"\n",
    "    imported_symbols = {}\n",
    "\n",
    "    for node in ast.walk(tree):\n",
    "        if isinstance(node, ast.Import):\n",
    "            for alias in node.names:\n",
    "                imported_symbols[alias.asname or alias.name] = alias.name\n",
    "        elif isinstance(node, ast.ImportFrom):\n",
    "            module_name = node.module\n",
    "            if module_name is not None:\n",
    "                for alias in node.names:\n",
    "                    full_name = f\"{module_name}.{alias.name}\"\n",
    "                    imported_symbols[alias.asname or alias.name] = full_name\n",
    "\n",
    "    return imported_symbols\n",
    "\n",
    "\n",
    "def get_imported_attributes(tree: AST, /) -> Iterator[tuple[Attribute, Name, str]]:\n",
    "    \"\"\"Finds attributes that can be replaced by directly imported symbols.\"\"\"\n",
    "    imported_symbols = get_imported_symbols(tree)\n",
    "\n",
    "    for node in get_pure_attributes(tree):\n",
    "        if node.attr in imported_symbols:\n",
    "            # parent = get_full_attribute_string(node)\n",
    "            parent, string = get_full_attribute_parent(node)\n",
    "\n",
    "            head, tail = string.split(\".\", maxsplit=1)\n",
    "            assert head == parent.id\n",
    "\n",
    "            # e.g. DataFrame -> pandas.DataFrame\n",
    "            matched_symbol = imported_symbols[node.attr]\n",
    "            is_match = matched_symbol == string\n",
    "\n",
    "            # need to check if parent is imported as well to catch pd.DataFrame\n",
    "            if parent.id in imported_symbols:\n",
    "                parent_alias = imported_symbols[parent.id]  # e.g. pd -> pandas\n",
    "                is_match |= matched_symbol == f\"{parent_alias}.{tail}\"\n",
    "\n",
    "            if is_match:\n",
    "                yield node, parent, string\n",
    "\n",
    "\n",
    "def check_file(file_path: Path, /, *, debug: bool = False) -> bool:\n",
    "    \"\"\"Finds shadowed attributes in a file.\"\"\"\n",
    "    passed = True\n",
    "\n",
    "    # Your code here\n",
    "    with open(file_path, \"r\", encoding=\"utf8\") as file:\n",
    "        tree = ast.parse(file.read())\n",
    "\n",
    "    # find all violations\n",
    "    for node, _, string in get_imported_attributes(tree):\n",
    "        passed = False\n",
    "        print(\n",
    "            f\"{file_path!s}:{node.lineno!s}\"\n",
    "            f\" use directly imported {node.attr!r} instead of {string!r}\"\n",
    "        )\n",
    "\n",
    "    if not passed and debug:\n",
    "        imported_symbols = get_imported_symbols(tree)\n",
    "        pad = \" \" * 4\n",
    "        max_key_len = max(map(len, imported_symbols), default=0)\n",
    "        print(pad, \"Imported symbols:\")\n",
    "        for key, value in imported_symbols.items():\n",
    "            print(2 * pad, f\"{key:{max_key_len}} -> {value}\")\n",
    "\n",
    "    return passed\n",
    "\n",
    "\n",
    "def main() -> None:\n",
    "    \"\"\"Main function.\"\"\"\n",
    "    parser = argparse.ArgumentParser(\n",
    "        description=\"Checks that Bar is used instead of foo.Bar if both foo and Bar are imported.\",\n",
    "        formatter_class=argparse.ArgumentDefaultsHelpFormatter,\n",
    "    )\n",
    "    parser.add_argument(\n",
    "        \"files\",\n",
    "        nargs=\"+\",\n",
    "        type=str,\n",
    "        help=\"One or multiple files, folders or file patterns.\",\n",
    "    )\n",
    "    parser.add_argument(\n",
    "        \"--debug\",\n",
    "        action=argparse.BooleanOptionalAction,\n",
    "        type=bool,\n",
    "        default=False,\n",
    "        help=\"Print debug information.\",\n",
    "    )\n",
    "    args = parser.parse_args()\n",
    "\n",
    "    if args.debug:\n",
    "        logging.basicConfig(stream=sys.stdout, level=logging.DEBUG)\n",
    "        __logger__.debug(\"args: %s\", vars(args))\n",
    "\n",
    "    # find all files\n",
    "    files: list[Path] = get_python_files(args.files)\n",
    "\n",
    "    # apply script to all files\n",
    "    passed = True\n",
    "    for file in files:\n",
    "        __logger__.debug('Checking \"%s:0\"', file)\n",
    "        try:\n",
    "            passed &= check_file(file, debug=args.debug)\n",
    "        except Exception as exc:\n",
    "            raise RuntimeError(f\"{file!s}: Checking file failed!\") from exc\n",
    "\n",
    "    if not passed:\n",
    "        sys.exit(1)\n",
    "\n",
    "\n",
    "if __name__ == \"__main__\":\n",
    "    main()\n",
    "'''"
   ]
  },
  {
   "cell_type": "code",
   "execution_count": null,
   "id": "f5051434-b548-4bdf-8f63-ec12d96b1383",
   "metadata": {},
   "outputs": [],
   "source": []
  },
  {
   "cell_type": "code",
   "execution_count": null,
   "id": "abfd053f-f41e-4cb3-ad49-b4f93ce2ec0e",
   "metadata": {},
   "outputs": [],
   "source": []
  },
  {
   "cell_type": "code",
   "execution_count": null,
   "id": "09a90ee7-347c-4776-a5a6-ef721fd65779",
   "metadata": {},
   "outputs": [],
   "source": [
    "truncnorm.rvs(-1, +1, loc=y0, scale=0.1)"
   ]
  },
  {
   "cell_type": "code",
   "execution_count": null,
   "id": "f047ed9d-ce97-49eb-8498-44f05b5fb752",
   "metadata": {},
   "outputs": [],
   "source": [
    "t = np.linspace(-10, 20, 2000)\n",
    "y0 = np.random.uniform(-0.5, 0.7, size=(5, 2))\n",
    "x = solve_ivp(t, y0=y0)\n",
    "\n",
    "import matplotlib.pyplot as plt\n",
    "\n",
    "plt.plot(t, x[0], t, x[1], t, x[3])"
   ]
  },
  {
   "cell_type": "code",
   "execution_count": null,
   "id": "30c01c4f-b05a-43ee-9a54-3c0167c95734",
   "metadata": {},
   "outputs": [],
   "source": [
    "x.shape"
   ]
  },
  {
   "cell_type": "code",
   "execution_count": null,
   "id": "f16c2753-57f6-4d4b-a6ff-bf5d1d7705a1",
   "metadata": {},
   "outputs": [],
   "source": [
    "t.shape"
   ]
  },
  {
   "cell_type": "code",
   "execution_count": null,
   "id": "26e38ef6-0aa0-4fc6-9b06-29aa510c8c45",
   "metadata": {},
   "outputs": [],
   "source": [
    "import argparse\n",
    "import os\n",
    "from pathlib import Path\n",
    "\n",
    "import numpy as np\n",
    "from tqdm.auto import tqdm\n",
    "\n",
    "\n",
    "def generate_sequence(low=-1, high=1.0, vel=None, num_steps=300):\n",
    "    y = np.random.uniform(low=low, high=high)\n",
    "    if vel is None:\n",
    "        vel = np.random.uniform(low=0.05, high=0.5) * np.random.choice([-1, 1])\n",
    "    noise_scale = 0.05\n",
    "    points = [y + noise_scale * np.random.randn(1)]\n",
    "    step_size = 0.1\n",
    "    for i in range(num_steps - 1):\n",
    "        y = y + vel * step_size\n",
    "        points.append(y + noise_scale * np.random.randn(1))\n",
    "        if y <= low or y >= high:\n",
    "            vel = -vel\n",
    "    return np.stack(points)\n",
    "\n",
    "\n",
    "def generate_sequences(num_samples, vels=None, num_steps=300):\n",
    "    all_target = []\n",
    "    for _ in tqdm(range(num_samples)):\n",
    "        chosen_v = np.random.choice(vels) if vels is not None else None\n",
    "        y = generate_sequence(vel=chosen_v, num_steps=num_steps)\n",
    "        all_target.append(y)\n",
    "    all_target = np.stack(all_target)\n",
    "    return all_target\n",
    "\n",
    "\n",
    "def generate_dataset(\n",
    "    seed=42,\n",
    "    vels=None,\n",
    "    dataset_path=None,\n",
    "    n_train=5000,\n",
    "    n_val=500,\n",
    "    n_test=500,\n",
    "    n_timesteps=300,\n",
    "    file_prefix=\"\",\n",
    "):\n",
    "    if dataset_path is None:\n",
    "        dataset_path = \"./bouncing_ball/\"\n",
    "    os.makedirs(dataset_path, exist_ok=True)\n",
    "\n",
    "    np.random.seed(seed=seed)\n",
    "\n",
    "    obs_train = generate_sequences(n_train, vels=vels, num_steps=n_timesteps)\n",
    "    obs_val = generate_sequences(n_val, vels=vels, num_steps=n_timesteps)\n",
    "    obs_test = generate_sequences(n_test, vels=vels, num_steps=n_timesteps)\n",
    "\n",
    "    np.savez(os.path.join(dataset_path, f\"{file_prefix}train.npz\"), target=obs_train)\n",
    "    np.savez(os.path.join(dataset_path, f\"{file_prefix}val.npz\"), target=obs_val)\n",
    "    np.savez(os.path.join(dataset_path, f\"{file_prefix}test.npz\"), target=obs_test)\n",
    "\n",
    "\n",
    "# if __name__ == \"__main__\":\n",
    "#     parser = argparse.ArgumentParser()\n",
    "#     parser.add_argument(\n",
    "#         \"--num_vels\",\n",
    "#         type=int,\n",
    "#         default=0,\n",
    "#         help=\"Number of fixed velocities, 0 indicates ranodm velocity for every sample\",\n",
    "#         choices=[0, 1, 2, 5],\n",
    "#     )\n",
    "#     args = parser.parse_args()\n",
    "\n",
    "#     data_path = str(Path(__file__).resolve().parent / \"bouncing_ball\")\n",
    "#     print(f\"Saving dataset to: {data_path}.\")\n",
    "#     vels = None\n",
    "#     if args.num_vels == 0:\n",
    "#         vels = None\n",
    "#         print(\"Generating dataset with random velocties...\")\n",
    "#         generate_dataset(file_prefix=\"rv_\", vels=vels, dataset_path=data_path)\n",
    "#     elif args.num_vels == 1:\n",
    "#         vels = [0.2]\n",
    "#         print(\"Generating dataset with 1 veloctity...\")\n",
    "#         generate_dataset(file_prefix=\"1fv_\", vels=vels, dataset_path=data_path)\n",
    "#     elif args.num_vels == 2:\n",
    "#         vels = [0.2, 0.4]\n",
    "#         print(\"Generating dataset with 2 velocties...\")\n",
    "#         generate_dataset(file_prefix=\"2fv_\", vels=vels, dataset_path=data_path)\n",
    "#     elif args.num_vels == 5:\n",
    "#         vels = [0.1, 0.2, 0.3, 0.4, 0.5]\n",
    "#         print(\"Generating dataset with 5 velocties...\")\n",
    "#         generate_dataset(file_prefix=\"5fv_\", vels=vels, dataset_path=data_path)"
   ]
  },
  {
   "cell_type": "code",
   "execution_count": null,
   "id": "76bbd5ec-779f-4736-ba67-5f25406fff2b",
   "metadata": {},
   "outputs": [],
   "source": [
    "sequences = generate_sequences(5000, None, 300)"
   ]
  },
  {
   "cell_type": "code",
   "execution_count": null,
   "id": "a87fcd62-4c66-4d58-8823-af9423a39d23",
   "metadata": {},
   "outputs": [],
   "source": [
    "sequences[0].max()"
   ]
  },
  {
   "cell_type": "code",
   "execution_count": null,
   "id": "94ebe822-d4c3-48b4-9cb5-98f03a223c49",
   "metadata": {},
   "outputs": [],
   "source": []
  },
  {
   "cell_type": "code",
   "execution_count": null,
   "id": "fc006aad-96da-48ab-b4cc-ea66f30168ac",
   "metadata": {},
   "outputs": [],
   "source": []
  },
  {
   "cell_type": "code",
   "execution_count": null,
   "id": "8ce93117-627b-4454-9b4a-22bda08a6136",
   "metadata": {},
   "outputs": [],
   "source": []
  },
  {
   "cell_type": "code",
   "execution_count": null,
   "id": "94140356-c135-4ed4-b466-ea6f622dc959",
   "metadata": {},
   "outputs": [],
   "source": []
  },
  {
   "cell_type": "code",
   "execution_count": null,
   "id": "5c72d076-5ee9-444b-afb3-cd748308131e",
   "metadata": {},
   "outputs": [],
   "source": []
  },
  {
   "cell_type": "code",
   "execution_count": null,
   "id": "ccac2f38-32f0-4cd9-b44c-d29804676fcd",
   "metadata": {},
   "outputs": [],
   "source": []
  },
  {
   "cell_type": "code",
   "execution_count": null,
   "id": "76058231-8ebe-4d25-850c-7f1ed3c6b8b4",
   "metadata": {},
   "outputs": [],
   "source": [
    "class Foo: ..."
   ]
  },
  {
   "cell_type": "code",
   "execution_count": null,
   "id": "b4072aa6-cca3-4489-ba0e-2b7a296d97e3",
   "metadata": {},
   "outputs": [],
   "source": [
    "Foo.__class__ = int"
   ]
  },
  {
   "cell_type": "code",
   "execution_count": null,
   "id": "1cfc968f-d318-4262-9d5e-7cbd6f86089e",
   "metadata": {},
   "outputs": [],
   "source": [
    "import torch\n",
    "from torch import jit, nn"
   ]
  },
  {
   "cell_type": "code",
   "execution_count": null,
   "id": "ac58ba8d-5e9e-481c-8b96-46d3a5967a2c",
   "metadata": {},
   "outputs": [],
   "source": [
    "slc = slice(1, 10, 0)"
   ]
  },
  {
   "cell_type": "code",
   "execution_count": null,
   "id": "854c7754-1db3-4c04-94e4-4450f4f5d8e8",
   "metadata": {},
   "outputs": [],
   "source": [
    "[1:3] = [ , , ]"
   ]
  },
  {
   "cell_type": "code",
   "execution_count": null,
   "id": "0abf6e8b-fa14-429d-8988-caa0bbc8c857",
   "metadata": {},
   "outputs": [],
   "source": [
    "import numpy as np"
   ]
  },
  {
   "cell_type": "code",
   "execution_count": null,
   "id": "4259b8f1-aae1-4bbf-9870-e75857f0f64f",
   "metadata": {},
   "outputs": [],
   "source": [
    "np.random.uniform()"
   ]
  },
  {
   "cell_type": "code",
   "execution_count": null,
   "id": "5060e288-bdb3-4236-bf6e-24db7ddce04c",
   "metadata": {},
   "outputs": [],
   "source": [
    "gen = np.random.default_rng()"
   ]
  },
  {
   "cell_type": "code",
   "execution_count": null,
   "id": "8635ee07-c0d4-4654-a5f7-e5689f565a5e",
   "metadata": {},
   "outputs": [],
   "source": [
    "dir(gen)"
   ]
  },
  {
   "cell_type": "code",
   "execution_count": null,
   "id": "a3e145bd-6dad-4ca5-8016-b704632fa111",
   "metadata": {},
   "outputs": [],
   "source": [
    "from abc import ABC, ABCMeta, abstractmethod\n",
    "from typing import Protocol\n",
    "\n",
    "\n",
    "class Foo:\n",
    "    @abstractmethod\n",
    "    def bar(self) -> str:\n",
    "        print(self.__class__)"
   ]
  },
  {
   "cell_type": "code",
   "execution_count": null,
   "id": "f06b6d9c-913a-4fbe-8cdb-eb82c8ad8112",
   "metadata": {},
   "outputs": [],
   "source": [
    "issubclass(Protocol, ABCMeta)"
   ]
  },
  {
   "cell_type": "code",
   "execution_count": null,
   "id": "9ff74ff3-c52a-48f5-a3f9-a32a0676c491",
   "metadata": {},
   "outputs": [],
   "source": [
    "stats.norm.rvs(size=())"
   ]
  },
  {
   "cell_type": "code",
   "execution_count": null,
   "id": "c04d99e3-648a-436e-8bcf-b4840ebab11b",
   "metadata": {},
   "outputs": [],
   "source": []
  },
  {
   "cell_type": "code",
   "execution_count": null,
   "id": "d407505a-44b3-4dea-8aac-064011dbc85f",
   "metadata": {},
   "outputs": [],
   "source": [
    "class Foo()"
   ]
  },
  {
   "cell_type": "code",
   "execution_count": null,
   "id": "272533a1-1cfd-47ab-bcd2-40f117787b6c",
   "metadata": {},
   "outputs": [],
   "source": [
    "class Bar(Foo): ..."
   ]
  },
  {
   "cell_type": "code",
   "execution_count": null,
   "id": "23673749-b419-4721-a7fe-dd95bcea2786",
   "metadata": {},
   "outputs": [],
   "source": [
    "Bar()"
   ]
  },
  {
   "cell_type": "code",
   "execution_count": null,
   "id": "ec8af781-4e13-4d23-813f-90cffaeea05d",
   "metadata": {},
   "outputs": [],
   "source": [
    "l = list(range(10))\n",
    "l[len(l) + 1] = -1"
   ]
  },
  {
   "cell_type": "code",
   "execution_count": null,
   "id": "75eaa8ff-b9bf-4419-91b4-71afdbaa1ece",
   "metadata": {},
   "outputs": [],
   "source": [
    "from scipy import stats"
   ]
  },
  {
   "cell_type": "code",
   "execution_count": null,
   "id": "0871be68-6680-45d4-900c-08523678ed33",
   "metadata": {},
   "outputs": [],
   "source": [
    "stats.norm(0, 1).stats(moments=\"mvsk\")"
   ]
  },
  {
   "cell_type": "code",
   "execution_count": null,
   "id": "d5078a8b-817f-4fe1-8044-8997dc732ca3",
   "metadata": {},
   "outputs": [],
   "source": [
    "from typing_extensions import is_protocol"
   ]
  },
  {
   "cell_type": "code",
   "execution_count": null,
   "id": "f971f7a6-a9cc-460e-ab88-ce868e967de0",
   "metadata": {},
   "outputs": [],
   "source": [
    "import typing\n",
    "from collections import abc"
   ]
  },
  {
   "cell_type": "code",
   "execution_count": null,
   "id": "586a2e1b-bf63-4b74-a41f-f1b38e568b55",
   "metadata": {},
   "outputs": [],
   "source": [
    "is_protocol(abc.Sized)"
   ]
  },
  {
   "cell_type": "code",
   "execution_count": null,
   "id": "4418fa72-960a-45f4-9ff1-3f00d81e5b9b",
   "metadata": {},
   "outputs": [],
   "source": [
    "l = list(range(10))\n",
    "l[len(l) + 7 :] = [-1]  # works"
   ]
  },
  {
   "cell_type": "code",
   "execution_count": null,
   "id": "a5440b6d-fb7e-47b9-80ee-a0c9ff8aab44",
   "metadata": {},
   "outputs": [],
   "source": [
    "l"
   ]
  },
  {
   "cell_type": "code",
   "execution_count": null,
   "id": "35d36cad-6963-4ab3-9b07-30e401300203",
   "metadata": {},
   "outputs": [],
   "source": [
    "items = [0, 1, 2, 3]\n",
    "items[-17:2], items[-17:0], items[-17:-1]"
   ]
  },
  {
   "cell_type": "code",
   "execution_count": null,
   "id": "55b75122-22dd-4a41-ae3f-6efe90e20be1",
   "metadata": {},
   "outputs": [],
   "source": [
    "items = [0, 1, 2, 3]\n",
    "items[-17:-16] = [-1]\n",
    "items"
   ]
  },
  {
   "cell_type": "code",
   "execution_count": null,
   "id": "7be82e0d-91f3-472d-bf07-1e74da8cbd42",
   "metadata": {},
   "outputs": [],
   "source": [
    "r = range(slc.start, slc.stop, 1)"
   ]
  },
  {
   "cell_type": "code",
   "execution_count": null,
   "id": "bf61fb45-dfad-4840-bada-cc3b07087563",
   "metadata": {},
   "outputs": [],
   "source": [
    "l = list(range(10))\n",
    "l[1:3] = [-1, -1, -1]  # lhs: len=2, rhs: len=3\n",
    "print(l)  # [0, -1, -1, -1, 3, 4, 5, 6, 7, 8, 9]\n",
    "len(l)"
   ]
  },
  {
   "cell_type": "code",
   "execution_count": null,
   "id": "806718ab-9685-4b75-86da-b61dce5a9c09",
   "metadata": {},
   "outputs": [],
   "source": [
    "l = list(range(10))\n",
    "l[1:3] = [-1, -1, -1]  # lhs: len=2, rhs: len=3"
   ]
  },
  {
   "cell_type": "code",
   "execution_count": null,
   "id": "2d0a80fe-c7ac-4af8-be62-dddb7d4f5dcc",
   "metadata": {},
   "outputs": [],
   "source": [
    "l = list(range(10))\n",
    "l[1:3:2] = [-1, -1, -1]  # errors"
   ]
  },
  {
   "cell_type": "code",
   "execution_count": null,
   "id": "6e0f8d74-3b07-41af-a8f1-475b95e1976d",
   "metadata": {},
   "outputs": [],
   "source": [
    "l = list(range(10))\n",
    "l[1:5:2] = [-1, -1, -1]  # errors"
   ]
  },
  {
   "cell_type": "code",
   "execution_count": null,
   "id": "5c0a481e-0685-42cb-b6bb-95148bf7d75a",
   "metadata": {},
   "outputs": [],
   "source": [
    "l = list(range(10))\n",
    "l[1:6:2] = [-1, -1, -1]  # ✔"
   ]
  },
  {
   "cell_type": "code",
   "execution_count": null,
   "id": "1d23882c-7d02-454a-875c-2acde46e1460",
   "metadata": {},
   "outputs": [],
   "source": [
    "l[1:3]"
   ]
  },
  {
   "cell_type": "code",
   "execution_count": null,
   "id": "6389b6dd-3bf7-49ee-a7cf-8f87d9347d6a",
   "metadata": {},
   "outputs": [],
   "source": [
    "list(r)"
   ]
  },
  {
   "cell_type": "code",
   "execution_count": null,
   "id": "e273a2f0-e7a8-4e04-8050-6016fb1be88d",
   "metadata": {},
   "outputs": [],
   "source": [
    "list(r)"
   ]
  },
  {
   "cell_type": "code",
   "execution_count": null,
   "id": "52d5126f-aaef-44bf-aa0e-5fd34e605477",
   "metadata": {},
   "outputs": [],
   "source": [
    "from collections.abc import Sequence"
   ]
  },
  {
   "cell_type": "code",
   "execution_count": null,
   "id": "7edfd1d4-960c-4444-9c35-e137c7b96250",
   "metadata": {},
   "outputs": [],
   "source": [
    "set(dir(Sequence)) - set(dir(m))"
   ]
  },
  {
   "cell_type": "code",
   "execution_count": null,
   "id": "5e35e1ed-4e94-488d-bb67-d857e059d291",
   "metadata": {},
   "outputs": [],
   "source": [
    "m = nn.Sequential(nn.Linear(4, 4), nn.Linear(4, 4))"
   ]
  },
  {
   "cell_type": "code",
   "execution_count": null,
   "id": "eb345d40-c5c3-4597-8419-c68bdeb371a6",
   "metadata": {},
   "outputs": [],
   "source": [
    "jit.script(m).extend"
   ]
  },
  {
   "cell_type": "code",
   "execution_count": null,
   "id": "0895067b-28e4-4a86-a1a6-959dd104dd54",
   "metadata": {},
   "outputs": [],
   "source": [
    "import tsdm"
   ]
  },
  {
   "cell_type": "code",
   "execution_count": null,
   "id": "7ef1abf3-da21-44a5-8a98-5c29efecec40",
   "metadata": {},
   "outputs": [],
   "source": [
    "import logging\n",
    "from typing import NamedTuple\n",
    "\n",
    "import numpy\n",
    "import pyarrow as pa\n",
    "import torch\n",
    "from numpy import ndarray\n",
    "from numpy.typing import NDArray\n",
    "from pandas import DataFrame, Index, Series\n",
    "from torch import Tensor\n",
    "from typing_extensions import get_args, get_protocol_members, get_type_hints\n",
    "\n",
    "from tsdm.types.protocols import Array, NTuple, SupportsShape"
   ]
  },
  {
   "cell_type": "code",
   "execution_count": null,
   "id": "29e1245f-1cd7-4704-b8be-5cc05ddfe4fe",
   "metadata": {},
   "outputs": [],
   "source": [
    "get_protocol_members(Array)"
   ]
  },
  {
   "cell_type": "code",
   "execution_count": null,
   "id": "6cb5b57c-8f55-48f2-a2aa-57f1b7f030be",
   "metadata": {},
   "outputs": [],
   "source": [
    "import dataclasses\n",
    "from collections.abc import Iterator, Mapping, Sequence\n",
    "from typing import (\n",
    "    Any,\n",
    "    NamedTuple,\n",
    "    Protocol,\n",
    "    TypeGuard,\n",
    "    TypeVar,\n",
    "    get_type_hints,\n",
    "    overload,\n",
    "    runtime_checkable,\n",
    ")\n",
    "\n",
    "from typing_extensions import Self, SupportsIndex, get_original_bases\n",
    "\n",
    "from tsdm.types.variables import any_co as T_co\n",
    "from tsdm.types.variables import key_contra, scalar_co, value_co"
   ]
  },
  {
   "cell_type": "code",
   "execution_count": null,
   "id": "3293f81d-7178-4cf6-811e-34a81c6244cd",
   "metadata": {},
   "outputs": [],
   "source": [
    "class Array(Protocol[scalar_co]):\n",
    "    r\"\"\"Protocol for array-like objects (tensors with single data type).\n",
    "\n",
    "    Matches with\n",
    "\n",
    "    - `numpy.ndarray`\n",
    "    - `torch.Tensor`\n",
    "    - `tensorflow.Tensor`\n",
    "    - `jax.numpy.ndarray`\n",
    "    - `pandas.Series`\n",
    "\n",
    "    Does not match with\n",
    "\n",
    "    - `pandas.DataFrame`\n",
    "    - `pyarrow.Table`\n",
    "    - `pyarrow.Array`\n",
    "    \"\"\"\n",
    "\n",
    "    @property\n",
    "    def ndim(self) -> int:\n",
    "        r\"\"\"Number of dimensions.\"\"\"\n",
    "        ...\n",
    "\n",
    "    @property\n",
    "    def dtype(self) -> scalar_co:\n",
    "        r\"\"\"Yield the data type of the array.\"\"\"\n",
    "        ...\n",
    "\n",
    "    @property\n",
    "    def shape(self) -> Sequence[int]:\n",
    "        \"\"\"Yield the shape of the array.\"\"\"\n",
    "        ...\n",
    "\n",
    "    def __len__(self) -> int:\n",
    "        \"\"\"Number of elements along first axis.\"\"\"\n",
    "        ...\n",
    "\n",
    "    def __getitem__(self, key: Any) -> Self:\n",
    "        \"\"\"Return an element/slice of the table.\"\"\"\n",
    "        ...\n",
    "\n",
    "    def __iter__(self) -> Iterator[Self]:\n",
    "        \"\"\"Iterate over the first dimension.\"\"\""
   ]
  },
  {
   "cell_type": "code",
   "execution_count": null,
   "id": "e019aee1-b443-469f-af22-d32dfb93ff58",
   "metadata": {},
   "outputs": [],
   "source": []
  },
  {
   "cell_type": "code",
   "execution_count": null,
   "id": "15f15921-d518-44af-afa3-d14aae386d22",
   "metadata": {},
   "outputs": [],
   "source": []
  },
  {
   "cell_type": "code",
   "execution_count": null,
   "id": "adb75716-2055-49f4-9b87-cfc96eec9fab",
   "metadata": {},
   "outputs": [],
   "source": [
    "import inspect"
   ]
  },
  {
   "cell_type": "code",
   "execution_count": null,
   "id": "fad8dbd9-10b1-4bf2-8ef1-1214a7011fdc",
   "metadata": {},
   "outputs": [],
   "source": [
    "a = dict(inspect.getmembers(Protocol))\n",
    "# print(a)\n",
    "b = dict(inspect.getmembers(Array))\n",
    "# print(b)\n",
    "\n",
    "for k, v in b.items():\n",
    "    if k not in a or v != a[k]:\n",
    "        print(\"Not inherited:\", k, v)"
   ]
  },
  {
   "cell_type": "code",
   "execution_count": null,
   "id": "cf61cf6b-4db5-4d14-ae37-89934cf53965",
   "metadata": {},
   "outputs": [],
   "source": [
    "from typing_extensions import get_protocol_members"
   ]
  },
  {
   "cell_type": "code",
   "execution_count": null,
   "id": "97a0df4a-74c2-4591-9175-f9ec4901a9a5",
   "metadata": {},
   "outputs": [],
   "source": [
    "get_protocol_members(Array)"
   ]
  },
  {
   "cell_type": "code",
   "execution_count": null,
   "id": "128b2db0-d17c-4ccd-a1d2-92f234e1e1e4",
   "metadata": {},
   "outputs": [],
   "source": [
    "{key for key in Array.__dict__ if key not in Protocol.__dict__}"
   ]
  },
  {
   "cell_type": "code",
   "execution_count": null,
   "id": "62ebecf4-ee88-4365-a296-389fefa39d6b",
   "metadata": {},
   "outputs": [],
   "source": [
    "Array.__dict__"
   ]
  },
  {
   "cell_type": "code",
   "execution_count": null,
   "id": "0fdb9802-0767-44fd-b871-dafb9aff5824",
   "metadata": {},
   "outputs": [],
   "source": []
  },
  {
   "cell_type": "code",
   "execution_count": null,
   "id": "c056b6b4-4eb2-4f7b-87a7-476c3a8efa58",
   "metadata": {},
   "outputs": [],
   "source": [
    "set(dir(Array)) - set(dir(Protocol)) - {\"__orig_bases__\", \"__weakref__\", \"__dict__\"}"
   ]
  },
  {
   "cell_type": "code",
   "execution_count": null,
   "id": "9aa1f466-83cf-4b7d-a39c-f84717b2d87d",
   "metadata": {},
   "outputs": [],
   "source": [
    "dict(inspect.getmembers(Array))"
   ]
  },
  {
   "cell_type": "code",
   "execution_count": null,
   "id": "c9a88fd3-7133-45b5-a02e-b81350101187",
   "metadata": {},
   "outputs": [],
   "source": [
    "Array.__parameters__"
   ]
  },
  {
   "cell_type": "code",
   "execution_count": null,
   "id": "ffd9e624-4ef0-4493-8e6e-456d4dc49e80",
   "metadata": {},
   "outputs": [],
   "source": [
    "Protocol.__dict__"
   ]
  },
  {
   "cell_type": "code",
   "execution_count": null,
   "id": "73a848be-3c9f-4646-817e-8ccbb3d08c48",
   "metadata": {},
   "outputs": [],
   "source": [
    "set(dir(Array)) - set(dir(Protocol))"
   ]
  },
  {
   "cell_type": "code",
   "execution_count": null,
   "id": "f0248134-90ae-43c2-858c-5a3d6ca6c3e4",
   "metadata": {},
   "outputs": [],
   "source": [
    "dir(Array)"
   ]
  },
  {
   "cell_type": "code",
   "execution_count": null,
   "id": "2285de41-0f4c-4de2-a05d-a043463828d8",
   "metadata": {},
   "outputs": [],
   "source": [
    "data = [1, 2, 3]\n",
    "arrays = {\n",
    "    \"torch_tensor\": torch.tensor(data),\n",
    "    \"numpy_ndarray\": ndarray(data),\n",
    "    \"pandas_series\": Series(data),\n",
    "    \"pyarrow_array\": pa.array(data),\n",
    "}\n",
    "shared_attrs = set.intersection(*(set(dir(arr)) for arr in arrays.values()))\n",
    "array_attrs = set(dir(Array))"
   ]
  },
  {
   "cell_type": "code",
   "execution_count": null,
   "id": "613e2407-8170-40b5-bc4a-215a3c531f5e",
   "metadata": {},
   "outputs": [],
   "source": [
    "missing_attrs = array_attrs - shared_attrs"
   ]
  },
  {
   "cell_type": "code",
   "execution_count": null,
   "id": "da5a29e1-d7ae-4963-a738-68da82bfa746",
   "metadata": {},
   "outputs": [],
   "source": [
    "missing_attrs"
   ]
  },
  {
   "cell_type": "code",
   "execution_count": null,
   "id": "358174a2-5c2b-48bd-9bd2-f32276af19ba",
   "metadata": {},
   "outputs": [],
   "source": [
    "get_type_hints(Array)"
   ]
  },
  {
   "cell_type": "code",
   "execution_count": null,
   "id": "bb5f1132-e85a-47c7-8de6-92094df51e31",
   "metadata": {},
   "outputs": [],
   "source": []
  },
  {
   "cell_type": "code",
   "execution_count": null,
   "id": "c9e6ec9a-e729-4728-b297-927b5dd94c28",
   "metadata": {},
   "outputs": [],
   "source": []
  },
  {
   "cell_type": "code",
   "execution_count": null,
   "id": "cf9c6d88-01fd-4b87-928b-0440ef76e2d6",
   "metadata": {},
   "outputs": [],
   "source": [
    "Array.__slots__"
   ]
  },
  {
   "cell_type": "code",
   "execution_count": null,
   "id": "7599d86a-41e3-4dda-9334-4784e5a6b5c2",
   "metadata": {},
   "outputs": [],
   "source": [
    "get_type_hints(Array)"
   ]
  },
  {
   "cell_type": "code",
   "execution_count": null,
   "id": "750e8e3c-a81c-4d60-87ea-1347de09f3e0",
   "metadata": {},
   "outputs": [],
   "source": [
    "dir(Array)"
   ]
  },
  {
   "cell_type": "code",
   "execution_count": null,
   "id": "8120ef95-9326-4d57-8023-55b89b5e3dd8",
   "metadata": {},
   "outputs": [],
   "source": []
  }
 ],
 "metadata": {
  "kernelspec": {
   "display_name": "Python 3 (ipykernel)",
   "language": "python",
   "name": "python3"
  },
  "language_info": {
   "codemirror_mode": {
    "name": "ipython",
    "version": 3
   },
   "file_extension": ".py",
   "mimetype": "text/x-python",
   "name": "python",
   "nbconvert_exporter": "python",
   "pygments_lexer": "ipython3",
   "version": "3.10.13"
  }
 },
 "nbformat": 4,
 "nbformat_minor": 5
}
