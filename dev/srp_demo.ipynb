{
 "cells": [
  {
   "cell_type": "code",
   "execution_count": null,
   "id": "20191951-beec-414a-b3c6-89dca8277ad2",
   "metadata": {},
   "outputs": [],
   "source": [
    "%config InteractiveShell.ast_node_interactivity='last_expr_or_assign'  # always print last expr.\n",
    "%config InlineBackend.figure_format = 'svg'\n",
    "%load_ext autoreload\n",
    "%autoreload 2\n",
    "%matplotlib inline"
   ]
  },
  {
   "cell_type": "code",
   "execution_count": null,
   "id": "58b7f6d7",
   "metadata": {},
   "outputs": [],
   "source": [
    "import matplotlib.pyplot as plt\n",
    "import numpy as np\n",
    "\n",
    "from tsdm.datasets import KiwiDataset"
   ]
  },
  {
   "cell_type": "code",
   "execution_count": null,
   "id": "d695b42b",
   "metadata": {
    "tags": []
   },
   "outputs": [],
   "source": [
    "%matplotlib inline\n",
    "\n",
    "dataset = KiwiDataset()\n",
    "ts = dataset.timeseries\n",
    "ts = ts.loc[439, 15325]\n",
    "ts[\"DOT\"].plot()"
   ]
  },
  {
   "cell_type": "code",
   "execution_count": null,
   "id": "4225d442-53bb-4b76-b20c-f1ba4ab84ddc",
   "metadata": {
    "tags": []
   },
   "outputs": [],
   "source": [
    "resolution = \"15min\"\n",
    "\n",
    "s = ts[\"DOT\"].astype(float)\n",
    "s = s.dropna()\n",
    "m = (s.index > \"2h\") & (s.index < \"8h\")\n",
    "s = s[m]\n",
    "t = s.index.values / np.timedelta64(1, \"h\")\n",
    "\n",
    "m = s.index > \"7h\"\n",
    "\n",
    "lambda q: s.rolling(resolution, center=True).quantile(q)\n",
    "upper = s.rolling(resolution, center=True).quantile(0.95)\n",
    "lower = s.rolling(resolution, center=True).quantile(0.05)\n",
    "\n",
    "fig, ax = plt.subplots(figsize=(8, 5))\n",
    "\n",
    "ax.plot(t, s, \".b\", t, upper, \":r\", t, lower, \":g\")\n",
    "ax.axvspan(t[~m].min(), t[~m].max(), color=\"grey\", alpha=0.3)\n",
    "ax.axvspan(t[m].min(), t[m].max(), color=\"green\", alpha=0.3)"
   ]
  },
  {
   "cell_type": "code",
   "execution_count": null,
   "id": "1a74c5a9-681d-45c2-b59a-ea6c298e2ea6",
   "metadata": {
    "tags": []
   },
   "outputs": [],
   "source": [
    "import matplotlib.pyplot as plt\n",
    "\n",
    "resolution = \"15min\"\n",
    "\n",
    "s = ts[\"DOT\"].astype(float)\n",
    "s = s.dropna()\n",
    "s = s.resample(resolution).quantile(0.95)\n",
    "upper = s.rolling(\"1s\").quantile(0.95)\n",
    "lower = s.rolling(\"1s\").quantile(0.05)\n",
    "\n",
    "fig, ax = plt.subplots(figsize=(8, 5))\n",
    "\n",
    "ax.plot(s.index, s, \".b\", s.index, upper, \"-r\", s.index, lower, \"-g\");"
   ]
  },
  {
   "cell_type": "markdown",
   "id": "92bd6bcf-a898-4a8f-9b9e-ecba57d6f2d4",
   "metadata": {
    "tags": []
   },
   "source": [
    "# Forecasting libraries\n",
    "\n",
    "https://unit8co.github.io/darts/generated_api/darts.models.forecasting.html\n",
    "\n",
    "https://pytorch-forecasting.readthedocs.io/en/stable/api/pytorch_forecasting.models.deepar.DeepAR.html"
   ]
  },
  {
   "cell_type": "code",
   "execution_count": null,
   "id": "81e0271a-c9f0-4ff3-80c9-d6f54b7a3961",
   "metadata": {},
   "outputs": [],
   "source": []
  }
 ],
 "metadata": {
  "kernelspec": {
   "display_name": "Python 3 (ipykernel)",
   "language": "python",
   "name": "python3"
  },
  "language_info": {
   "codemirror_mode": {
    "name": "ipython",
    "version": 3
   },
   "file_extension": ".py",
   "mimetype": "text/x-python",
   "name": "python",
   "nbconvert_exporter": "python",
   "pygments_lexer": "ipython3",
   "version": "3.10.8"
  }
 },
 "nbformat": 4,
 "nbformat_minor": 5
}
