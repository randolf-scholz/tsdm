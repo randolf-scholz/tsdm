{
 "cells": [
  {
   "cell_type": "code",
   "execution_count": null,
   "id": "20191951-beec-414a-b3c6-89dca8277ad2",
   "metadata": {
    "execution": {
     "iopub.execute_input": "2022-11-21T14:28:45.713080Z",
     "iopub.status.busy": "2022-11-21T14:28:45.712961Z",
     "iopub.status.idle": "2022-11-21T14:28:46.034846Z",
     "shell.execute_reply": "2022-11-21T14:28:46.034358Z",
     "shell.execute_reply.started": "2022-11-21T14:28:45.713043Z"
    }
   },
   "outputs": [],
   "source": [
    "%config InteractiveShell.ast_node_interactivity='last_expr_or_assign'  # always print last expr.\n",
    "%config InlineBackend.figure_format = 'svg'\n",
    "%load_ext autoreload\n",
    "%autoreload 2\n",
    "%matplotlib inline"
   ]
  },
  {
   "cell_type": "code",
   "execution_count": null,
   "id": "58b7f6d7",
   "metadata": {
    "execution": {
     "iopub.execute_input": "2022-11-21T14:28:46.035814Z",
     "iopub.status.busy": "2022-11-21T14:28:46.035675Z",
     "iopub.status.idle": "2022-11-21T14:28:47.834288Z",
     "shell.execute_reply": "2022-11-21T14:28:47.833869Z",
     "shell.execute_reply.started": "2022-11-21T14:28:46.035805Z"
    }
   },
   "outputs": [],
   "source": [
    "import matplotlib.pyplot as plt\n",
    "import numpy as np\n",
    "\n",
    "from tsdm.datasets import KiwiDataset"
   ]
  },
  {
   "cell_type": "code",
   "execution_count": null,
   "id": "d695b42b",
   "metadata": {
    "execution": {
     "iopub.execute_input": "2022-11-21T14:28:47.834951Z",
     "iopub.status.busy": "2022-11-21T14:28:47.834737Z",
     "iopub.status.idle": "2022-11-21T14:28:48.892716Z",
     "shell.execute_reply": "2022-11-21T14:28:48.891744Z",
     "shell.execute_reply.started": "2022-11-21T14:28:47.834939Z"
    },
    "tags": []
   },
   "outputs": [],
   "source": [
    "%matplotlib inline\n",
    "\n",
    "dataset = KiwiDataset()\n",
    "ts = dataset.timeseries\n",
    "ts = ts.loc[439, 15325]\n",
    "ts[\"DOT\"].plot()"
   ]
  },
  {
   "cell_type": "code",
   "execution_count": null,
   "id": "4225d442-53bb-4b76-b20c-f1ba4ab84ddc",
   "metadata": {
    "execution": {
     "iopub.execute_input": "2022-11-21T15:41:17.378515Z",
     "iopub.status.busy": "2022-11-21T15:41:17.378029Z",
     "iopub.status.idle": "2022-11-21T15:41:17.653016Z",
     "shell.execute_reply": "2022-11-21T15:41:17.652665Z",
     "shell.execute_reply.started": "2022-11-21T15:41:17.378477Z"
    },
    "tags": []
   },
   "outputs": [],
   "source": [
    "resolution = \"15min\"\n",
    "\n",
    "s = ts[\"DOT\"].astype(float)\n",
    "s = s.dropna()\n",
    "m = (s.index > \"2h\") & (s.index < \"8h\")\n",
    "s = s[m]\n",
    "t = s.index.values / np.timedelta64(1, \"h\")\n",
    "\n",
    "m = s.index > \"7h\"\n",
    "\n",
    "lambda q: s.rolling(resolution, center=True).quantile(q)\n",
    "upper = s.rolling(resolution, center=True).quantile(0.95)\n",
    "lower = s.rolling(resolution, center=True).quantile(0.05)\n",
    "\n",
    "fig, ax = plt.subplots(figsize=(8, 5))\n",
    "\n",
    "ax.plot(t, s, \".b\", t, upper, \":r\", t, lower, \":g\")\n",
    "ax.axvspan(t[~m].min(), t[~m].max(), color=\"grey\", alpha=0.3)\n",
    "ax.axvspan(t[m].min(), t[m].max(), color=\"green\", alpha=0.3)"
   ]
  },
  {
   "cell_type": "code",
   "execution_count": null,
   "id": "1a74c5a9-681d-45c2-b59a-ea6c298e2ea6",
   "metadata": {
    "execution": {
     "iopub.execute_input": "2022-11-21T14:28:49.073130Z",
     "iopub.status.busy": "2022-11-21T14:28:49.072951Z",
     "iopub.status.idle": "2022-11-21T14:28:49.183778Z",
     "shell.execute_reply": "2022-11-21T14:28:49.183332Z",
     "shell.execute_reply.started": "2022-11-21T14:28:49.073114Z"
    },
    "tags": []
   },
   "outputs": [],
   "source": [
    "import matplotlib.pyplot as plt\n",
    "\n",
    "resolution = \"15min\"\n",
    "\n",
    "s = ts[\"DOT\"].astype(float)\n",
    "s = s.dropna()\n",
    "s = s.resample(resolution).quantile(0.95)\n",
    "upper = s.rolling(\"1s\").quantile(0.95)\n",
    "lower = s.rolling(\"1s\").quantile(0.05)\n",
    "\n",
    "fig, ax = plt.subplots(figsize=(8, 5))\n",
    "\n",
    "ax.plot(s.index, s, \".b\", s.index, upper, \"-r\", s.index, lower, \"-g\");"
   ]
  },
  {
   "cell_type": "markdown",
   "id": "92bd6bcf-a898-4a8f-9b9e-ecba57d6f2d4",
   "metadata": {
    "execution": {
     "iopub.execute_input": "2022-11-21T13:35:18.228181Z",
     "iopub.status.busy": "2022-11-21T13:35:18.227974Z",
     "iopub.status.idle": "2022-11-21T13:35:18.423227Z",
     "shell.execute_reply": "2022-11-21T13:35:18.422066Z",
     "shell.execute_reply.started": "2022-11-21T13:35:18.228169Z"
    },
    "tags": []
   },
   "source": [
    "# Forecasting libraries\n",
    "\n",
    "https://unit8co.github.io/darts/generated_api/darts.models.forecasting.html\n",
    "\n",
    "https://pytorch-forecasting.readthedocs.io/en/stable/api/pytorch_forecasting.models.deepar.DeepAR.html"
   ]
  },
  {
   "cell_type": "code",
   "execution_count": null,
   "id": "81e0271a-c9f0-4ff3-80c9-d6f54b7a3961",
   "metadata": {},
   "outputs": [],
   "source": []
  }
 ],
 "metadata": {
  "kernelspec": {
   "display_name": "Python 3 (ipykernel)",
   "language": "python",
   "name": "python3"
  },
  "language_info": {
   "codemirror_mode": {
    "name": "ipython",
    "version": 3
   },
   "file_extension": ".py",
   "mimetype": "text/x-python",
   "name": "python",
   "nbconvert_exporter": "python",
   "pygments_lexer": "ipython3",
   "version": "3.10.6"
  }
 },
 "nbformat": 4,
 "nbformat_minor": 5
}
