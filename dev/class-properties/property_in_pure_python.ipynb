{
 "cells": [
  {
   "cell_type": "markdown",
   "metadata": {},
   "source": [
    "# Title"
   ]
  },
  {
   "cell_type": "code",
   "execution_count": null,
   "metadata": {},
   "outputs": [],
   "source": [
    "%config InteractiveShell.ast_node_interactivity='last_expr_or_assign'  # always print last expr.\n",
    "%config InlineBackend.figure_format = 'svg'\n",
    "%load_ext autoreload\n",
    "%autoreload 2\n",
    "%matplotlib inline"
   ]
  },
  {
   "cell_type": "code",
   "execution_count": null,
   "metadata": {},
   "outputs": [],
   "source": [
    "class ClassMethod:\n",
    "    \"Emulate PyClassMethod_Type() in Objects/funcobject.c\"\n",
    "\n",
    "    def __init__(self, f):\n",
    "        self.f = f\n",
    "\n",
    "    def __get__(self, obj, cls=None):\n",
    "        if cls is None:\n",
    "            cls = type(obj)\n",
    "        if hasattr(type(self.f), \"__get__\"):\n",
    "            return self.f.__get__(cls, cls)\n",
    "        return MethodType(self.f, cls)"
   ]
  },
  {
   "cell_type": "code",
   "execution_count": null,
   "metadata": {},
   "outputs": [],
   "source": [
    "class MethodType:\n",
    "    \"Emulate PyMethod_Type in Objects/classobject.c\"\n",
    "\n",
    "    def __init__(self, func, obj):\n",
    "        self.__func__ = func\n",
    "        self.__self__ = obj\n",
    "\n",
    "    def __call__(self, *args, **kwargs):\n",
    "        func = self.__func__\n",
    "        obj = self.__self__\n",
    "        return func(obj, *args, **kwargs)"
   ]
  },
  {
   "cell_type": "code",
   "execution_count": null,
   "metadata": {},
   "outputs": [],
   "source": [
    "class Property:\n",
    "    \"Emulate PyProperty_Type() in Objects/descrobject.c\"\n",
    "\n",
    "    def __init__(self, fget=None, fset=None, fdel=None, doc=None):\n",
    "        self.fget = fget\n",
    "        self.fset = fset\n",
    "        self.fdel = fdel\n",
    "        if doc is None and fget is not None:\n",
    "            doc = fget.__doc__\n",
    "        self.__doc__ = doc\n",
    "        self._name = \"\"\n",
    "\n",
    "    def __set_name__(self, owner, name):\n",
    "        self._name = name\n",
    "\n",
    "    def __get__(self, obj, objtype=None):\n",
    "        if obj is None:\n",
    "            return self\n",
    "        if self.fget is None:\n",
    "            raise AttributeError(f\"unreadable attribute {self._name}\")\n",
    "        return self.fget(obj)\n",
    "\n",
    "    def __set__(self, obj, value):\n",
    "        if self.fset is None:\n",
    "            raise AttributeError(f\"can't set attribute {self._name}\")\n",
    "        self.fset(obj, value)\n",
    "\n",
    "    def __delete__(self, obj):\n",
    "        if self.fdel is None:\n",
    "            raise AttributeError(f\"can't delete attribute {self._name}\")\n",
    "        self.fdel(obj)\n",
    "\n",
    "    def getter(self, fget):\n",
    "        prop = type(self)(fget, self.fset, self.fdel, self.__doc__)\n",
    "        prop._name = self._name\n",
    "        return prop\n",
    "\n",
    "    def setter(self, fset):\n",
    "        prop = type(self)(self.fget, fset, self.fdel, self.__doc__)\n",
    "        prop._name = self._name\n",
    "        return prop\n",
    "\n",
    "    def deleter(self, fdel):\n",
    "        prop = type(self)(self.fget, self.fset, fdel, self.__doc__)\n",
    "        prop._name = self._name\n",
    "        return prop"
   ]
  },
  {
   "cell_type": "code",
   "execution_count": null,
   "metadata": {},
   "outputs": [],
   "source": []
  }
 ],
 "metadata": {
  "kernelspec": {
   "display_name": "Python 3 (ipykernel)",
   "language": "python",
   "name": "python3"
  },
  "language_info": {
   "codemirror_mode": {
    "name": "ipython",
    "version": 3
   },
   "file_extension": ".py",
   "mimetype": "text/x-python",
   "name": "python",
   "nbconvert_exporter": "python",
   "pygments_lexer": "ipython3",
   "version": "3.9.7"
  }
 },
 "nbformat": 4,
 "nbformat_minor": 4
}
