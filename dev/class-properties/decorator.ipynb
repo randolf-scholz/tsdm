{
 "cells": [
  {
   "cell_type": "code",
   "execution_count": null,
   "metadata": {},
   "outputs": [],
   "source": [
    "import sys\n",
    "\n",
    "sys.version"
   ]
  },
  {
   "cell_type": "code",
   "execution_count": null,
   "metadata": {},
   "outputs": [],
   "source": [
    "class Property(property):\n",
    "    \"Emulate PyProperty_Type() in Objects/descrobject.c\"\n",
    "\n",
    "    def __new__(cls, *args, **kwargs):\n",
    "        print(cls, args, kwargs)\n",
    "        obj = super().__new__(cls)\n",
    "        print(obj)\n",
    "        return obj\n",
    "\n",
    "    def __init__(self, fget=None, fset=None, fdel=None, doc=None):\n",
    "        print(self, fget, fset, fget, doc)\n",
    "        self.fget = fget\n",
    "        self.fset = fset\n",
    "        self.fdel = fdel\n",
    "        if doc is None and fget is not None:\n",
    "            doc = fget.__doc__\n",
    "        self.__doc__ = doc\n",
    "\n",
    "    def __get__(self, obj, objtype=None):\n",
    "        if obj is None:\n",
    "            return self\n",
    "        if self.fget is None:\n",
    "            raise AttributeError(\"unreadable attribute\")\n",
    "        return self.fget(obj)\n",
    "\n",
    "    def __set__(self, obj, value):\n",
    "        if self.fset is None:\n",
    "            raise AttributeError(\"can't set attribute\")\n",
    "        self.fset(obj, value)\n",
    "\n",
    "    def __delete__(self, obj):\n",
    "        if self.fdel is None:\n",
    "            raise AttributeError(\"can't delete attribute\")\n",
    "        self.fdel(obj)\n",
    "\n",
    "    def getter(self, fget):\n",
    "        return type(self)(fget, self.fset, self.fdel, self.__doc__)\n",
    "\n",
    "    def setter(self, fset):\n",
    "        return type(self)(self.fget, fset, self.fdel, self.__doc__)\n",
    "\n",
    "    def deleter(self, fdel):\n",
    "        return type(self)(self.fget, self.fset, fdel, self.__doc__)"
   ]
  },
  {
   "cell_type": "code",
   "execution_count": null,
   "metadata": {},
   "outputs": [],
   "source": [
    "from abc import ABC, ABCMeta\n",
    "from time import sleep\n",
    "\n",
    "\n",
    "def compute(obj, s):\n",
    "    print(f\"Computing {s} of {obj} ...\", end=\"\")\n",
    "    sleep(3)\n",
    "    print(\"DONE!\")\n",
    "    return \"Phew, that was a lot of work!\"\n",
    "\n",
    "\n",
    "class MyMetaClass(ABCMeta):\n",
    "    @property\n",
    "    def expensive_metaclass_property(cls):\n",
    "        \"\"\"This may take a while to compute!\"\"\"\n",
    "        return compute(cls, \"metaclass property\")\n",
    "\n",
    "\n",
    "class MyBaseClass(ABC, metaclass=MyMetaClass):\n",
    "    @classmethod\n",
    "    def expensive_class_property(cls):\n",
    "        \"\"\"This may take a while to compute!\"\"\"\n",
    "        return compute(cls, \"class property\")\n",
    "\n",
    "    @Property\n",
    "    def expensive_instance_property(self):\n",
    "        \"\"\"This may take a while to compute!\"\"\"\n",
    "        return compute(self, \"instance property\")\n",
    "\n",
    "\n",
    "class MyClass(MyBaseClass):\n",
    "    \"\"\"Some subclass of MyBaseClass\"\"\"\n",
    "\n",
    "\n",
    "# help(MyClass)"
   ]
  },
  {
   "cell_type": "code",
   "execution_count": null,
   "metadata": {},
   "outputs": [],
   "source": []
  }
 ],
 "metadata": {
  "kernelspec": {
   "display_name": "Python 3 (ipykernel)",
   "language": "python",
   "name": "python3"
  },
  "language_info": {
   "codemirror_mode": {
    "name": "ipython",
    "version": 3
   },
   "file_extension": ".py",
   "mimetype": "text/x-python",
   "name": "python",
   "nbconvert_exporter": "python",
   "pygments_lexer": "ipython3",
   "version": "3.9.7"
  }
 },
 "nbformat": 4,
 "nbformat_minor": 4
}
