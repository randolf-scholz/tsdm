{
 "cells": [
  {
   "cell_type": "markdown",
   "metadata": {},
   "source": [
    "# Title"
   ]
  },
  {
   "cell_type": "code",
   "execution_count": null,
   "metadata": {},
   "outputs": [],
   "source": [
    "%config InteractiveShell.ast_node_interactivity='last_expr_or_assign'  # always print last expr.\n",
    "%config InlineBackend.figure_format = 'svg'\n",
    "%load_ext autoreload\n",
    "%autoreload 2\n",
    "%matplotlib inline"
   ]
  },
  {
   "cell_type": "code",
   "execution_count": null,
   "metadata": {},
   "outputs": [],
   "source": [
    "import numpy as np\n",
    "\n",
    "np.set_printoptions(precision=4, floatmode=\"fixed\", suppress=True)\n",
    "rng = np.random.default_rng()"
   ]
  },
  {
   "cell_type": "code",
   "execution_count": null,
   "metadata": {},
   "outputs": [],
   "source": [
    "def compute(s):\n",
    "    print(f\"Computing {s}...\")\n",
    "    return f\"{s} result\"\n",
    "\n",
    "\n",
    "class MethodType:\n",
    "    \"Emulate PyMethod_Type in Objects/classobject.c\"\n",
    "\n",
    "    def __init__(self, func, obj):\n",
    "        self.__func__ = func\n",
    "        self.__self__ = obj\n",
    "\n",
    "    def __call__(self, *args, **kwargs):\n",
    "        func = self.__func__\n",
    "        obj = self.__self__\n",
    "        return func(obj, *args, **kwargs)\n",
    "\n",
    "\n",
    "def issubclassable(cls):\n",
    "    try:\n",
    "\n",
    "        class _(cls): ...\n",
    "\n",
    "    except:\n",
    "        return False\n",
    "    return True\n",
    "\n",
    "\n",
    "class BaseDecorator:\n",
    "    def __init__(self, obj):\n",
    "        if hasattr(obj, \"__func__\"):\n",
    "            self.__func__ = obj.__func__\n",
    "        else:  # was never decorated before.\n",
    "            self.__func__ = obj\n",
    "\n",
    "    def __call__(self, *args, **kwargs):\n",
    "        return self.__func__.__call__(*args**kwargs)\n",
    "\n",
    "\n",
    "def Property(func):\n",
    "    class Wrapped(property):\n",
    "        @property\n",
    "        def __func__(self):\n",
    "            return self.fget\n",
    "\n",
    "    return Wrapped(func)\n",
    "\n",
    "\n",
    "def ClassMethod(func):\n",
    "    if issubclassable(type(func)):\n",
    "\n",
    "        class Wrapped(type(func)):\n",
    "            def __get__(self, obj, cls=None):\n",
    "                if cls is None:\n",
    "                    cls = type(obj)\n",
    "                if hasattr(type(self.__func__), \"__get__\"):\n",
    "                    return self.__func__.__get__(cls)\n",
    "                return MethodType(self.__func__, cls)\n",
    "\n",
    "        return Wrapped(func)\n",
    "\n",
    "    return classmethod(func)"
   ]
  },
  {
   "cell_type": "code",
   "execution_count": null,
   "metadata": {
    "tags": []
   },
   "outputs": [],
   "source": [
    "class A:\n",
    "    # python 3.9\n",
    "\n",
    "    @classmethod\n",
    "    @property\n",
    "    def clsproperty(cls):\n",
    "        \"\"\"A python 3.9 class-property\"\"\"\n",
    "        return compute(f\"{cls.__name__}'s clsproperty\")\n",
    "\n",
    "    @classmethod\n",
    "    def clsmethod(cls):\n",
    "        \"\"\"A python 3.9 class-method\"\"\"\n",
    "        return compute(f\"{cls.__name__}'s clsmethod\")\n",
    "\n",
    "    @property\n",
    "    def instproperty(self):\n",
    "        \"\"\"A python 3.9 instance-property\"\"\"\n",
    "        return compute(f\"{self}'s instproperty\")\n",
    "\n",
    "    # our modified versions\n",
    "\n",
    "    @ClassMethod\n",
    "    @Property\n",
    "    def myclsproperty(cls):\n",
    "        \"\"\"A custom class-property\"\"\"\n",
    "        return compute(f\"{cls.__name__}'s myclsproperty\")\n",
    "\n",
    "    @ClassMethod\n",
    "    def myclsmethod(cls):\n",
    "        \"\"\"A custom classmethod\"\"\"\n",
    "        return compute(f\"{cls.__name__}'s myclsmethod\")\n",
    "\n",
    "    @Property\n",
    "    def myinstproperty(self):\n",
    "        \"\"\"A custom instance-property\"\"\"\n",
    "        return compute(f\"{self}'s myinstproperty\")\n",
    "\n",
    "\n",
    "print(A.__dict__)\n",
    "help(A)"
   ]
  },
  {
   "cell_type": "code",
   "execution_count": null,
   "metadata": {},
   "outputs": [],
   "source": [
    "class MethodType:\n",
    "    \"Emulate PyMethod_Type in Objects/classobject.c\"\n",
    "\n",
    "    def __init__(self, func, obj):\n",
    "        self.__func__ = func\n",
    "        self.__self__ = obj\n",
    "\n",
    "    def __call__(self, *args, **kwargs):\n",
    "        func = self.__func__\n",
    "        obj = self.__self__\n",
    "        return func(obj, *args, **kwargs)\n",
    "\n",
    "\n",
    "class ClassMethod:\n",
    "    \"Emulate PyClassMethod_Type() in Objects/funcobject.c\"\n",
    "\n",
    "    def __init__(self, f):\n",
    "        self.f = f\n",
    "\n",
    "    def __get__(self, obj, cls=None):\n",
    "        if cls is None:\n",
    "            cls = type(obj)\n",
    "        if hasattr(type(self.f), \"__get__\"):\n",
    "            return self.f.__get__(cls)\n",
    "        return MethodType(self.f, cls)\n",
    "\n",
    "\n",
    "class Property:\n",
    "    \"Emulate PyProperty_Type() in Objects/descrobject.c\"\n",
    "\n",
    "    def __init__(self, fget=None, fset=None, fdel=None, doc=None):\n",
    "        self.fget = fget\n",
    "        self.fset = fset\n",
    "        self.fdel = fdel\n",
    "        if doc is None and fget is not None:\n",
    "            doc = fget.__doc__\n",
    "        self.__doc__ = doc\n",
    "\n",
    "    def __get__(self, obj, objtype=None):\n",
    "        if obj is None:\n",
    "            return self\n",
    "        if self.fget is None:\n",
    "            raise AttributeError(\"unreadable attribute\")\n",
    "        return self.fget(obj)\n",
    "\n",
    "    def __set__(self, obj, value):\n",
    "        if self.fset is None:\n",
    "            raise AttributeError(\"can't set attribute\")\n",
    "        self.fset(obj, value)\n",
    "\n",
    "    def __delete__(self, obj):\n",
    "        if self.fdel is None:\n",
    "            raise AttributeError(\"can't delete attribute\")\n",
    "        self.fdel(obj)\n",
    "\n",
    "    def getter(self, fget):\n",
    "        return type(self)(fget, self.fset, self.fdel, self.__doc__)\n",
    "\n",
    "    def setter(self, fset):\n",
    "        return type(self)(self.fget, fset, self.fdel, self.__doc__)\n",
    "\n",
    "    def deleter(self, fdel):\n",
    "        return type(self)(self.fget, self.fset, fdel, self.__doc__)"
   ]
  },
  {
   "cell_type": "code",
   "execution_count": null,
   "metadata": {},
   "outputs": [],
   "source": [
    "class ClassProperty(property):\n",
    "    \"Emulate PyClassMethod_Type() in Objects/funcobject.c\"\n",
    "\n",
    "    def __init__(self, f, *args, **kwargs):\n",
    "        f = property(f)\n",
    "        super().__init__(f, *args, **kwargs)\n",
    "\n",
    "    def __get__(self, obj, cls=None):\n",
    "        if cls is None:\n",
    "            cls = type(obj)\n",
    "        if hasattr(type(self.fget), \"__get__\"):\n",
    "            return self.fget.__get__(cls)\n",
    "        return MethodType(self.fget, cls)"
   ]
  },
  {
   "cell_type": "code",
   "execution_count": null,
   "metadata": {},
   "outputs": [],
   "source": [
    "A.__dict__[\"prop\"].__dir__()"
   ]
  },
  {
   "cell_type": "code",
   "execution_count": null,
   "metadata": {},
   "outputs": [],
   "source": [
    "A.myclsprop.__func__"
   ]
  },
  {
   "cell_type": "code",
   "execution_count": null,
   "metadata": {},
   "outputs": [],
   "source": [
    "A.__dict__[\"myclsprop\"].__dict__[\"__func__\"]"
   ]
  },
  {
   "cell_type": "code",
   "execution_count": null,
   "metadata": {},
   "outputs": [],
   "source": [
    "function = type(lambda: None)"
   ]
  },
  {
   "cell_type": "code",
   "execution_count": null,
   "metadata": {},
   "outputs": [],
   "source": [
    "class _(function): ..."
   ]
  },
  {
   "cell_type": "code",
   "execution_count": null,
   "metadata": {},
   "outputs": [],
   "source": [
    "A.__dict__[\"myclsprop\"].__dir__()"
   ]
  },
  {
   "cell_type": "code",
   "execution_count": null,
   "metadata": {},
   "outputs": [],
   "source": []
  }
 ],
 "metadata": {
  "kernelspec": {
   "display_name": "Python 3 (ipykernel)",
   "language": "python",
   "name": "python3"
  },
  "language_info": {
   "codemirror_mode": {
    "name": "ipython",
    "version": 3
   },
   "file_extension": ".py",
   "mimetype": "text/x-python",
   "name": "python",
   "nbconvert_exporter": "python",
   "pygments_lexer": "ipython3",
   "version": "3.9.7"
  }
 },
 "nbformat": 4,
 "nbformat_minor": 4
}
