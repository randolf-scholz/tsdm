{
 "cells": [
  {
   "cell_type": "markdown",
   "metadata": {},
   "source": [
    "# BUG: `pivot_table` performance with MultiIndex 5x worse than it should be."
   ]
  },
  {
   "cell_type": "code",
   "execution_count": 1,
   "metadata": {},
   "outputs": [],
   "source": [
    "%config InteractiveShell.ast_node_interactivity='last_expr_or_assign'  # always print last expr.\n",
    "%config InlineBackend.figure_format = 'svg'\n",
    "%load_ext autoreload\n",
    "%autoreload 2\n",
    "%matplotlib inline"
   ]
  },
  {
   "cell_type": "code",
   "execution_count": 2,
   "metadata": {},
   "outputs": [],
   "source": [
    "import pandas as pd"
   ]
  },
  {
   "cell_type": "code",
   "execution_count": 3,
   "metadata": {},
   "outputs": [],
   "source": [
    "from itertools import product\n",
    "from string import ascii_lowercase\n",
    "\n",
    "import numpy as np\n",
    "from pandas import DataFrame, Index, MultiIndex, date_range\n",
    "\n",
    "level0 = [\"foo\", \"bar\", \"baz\"]\n",
    "level1 = list(range(2**6))\n",
    "level2 = date_range(\"1990\", \"2022\")\n",
    "\n",
    "index = MultiIndex.from_product(\n",
    "    [level0, level1, level2], names=[\"outer\", \"inner\", \"time\"]\n",
    ")\n",
    "\n",
    "variables = list(ascii_lowercase)\n",
    "df = DataFrame(np.random.randn(len(index), 1), index=index, columns=[\"value\"])\n",
    "df[\"variable\"] = np.random.choice(variables, len(index))\n",
    "df"
   ]
  },
  {
   "cell_type": "code",
   "execution_count": 7,
   "metadata": {},
   "outputs": [],
   "source": [
    "7, 168, 12685"
   ]
  },
  {
   "cell_type": "code",
   "execution_count": 10,
   "metadata": {},
   "outputs": [],
   "source": [
    "df.pivot_table(index=df.index.names, columns=\"variable\", values=\"value\", dropna=False)"
   ]
  },
  {
   "cell_type": "code",
   "execution_count": 8,
   "metadata": {},
   "outputs": [],
   "source": [
    "%%timeit -n 1 -r 1\n",
    "df.pivot_table(index=df.index.names, columns=\"variable\", values=\"value\", dropna=False)"
   ]
  },
  {
   "cell_type": "code",
   "execution_count": 9,
   "metadata": {},
   "outputs": [],
   "source": [
    "%%timeit -n 1 -r 1\n",
    "x = df.pivot_table(index=df.index, columns=\"variable\", values=\"value\", dropna=False)\n",
    "x.index = MultiIndex.from_tuples(x.index, names=df.index.names)"
   ]
  },
  {
   "cell_type": "code",
   "execution_count": 33,
   "metadata": {},
   "outputs": [],
   "source": [
    "%%timeit -n 1 -r 1\n",
    "df.pivot_table(index=df.index.names, columns=\"variable\", values=\"value\")"
   ]
  },
  {
   "cell_type": "code",
   "execution_count": 18,
   "metadata": {},
   "outputs": [],
   "source": [
    "ascii_letters"
   ]
  },
  {
   "cell_type": "code",
   "execution_count": 4,
   "metadata": {},
   "outputs": [],
   "source": [
    "df = pd.DataFrame(\n",
    "    {\n",
    "        \"number\": [\"one\", \"two\", \"one\", \"three\"],\n",
    "        \"letter\": [\"a\", \"a\", \"b\", \"b\"],\n",
    "        \"y\": [1, 2, np.nan, np.nan],\n",
    "        \"x\": [1, 2, 3, 4],\n",
    "    }\n",
    ")"
   ]
  },
  {
   "cell_type": "code",
   "execution_count": 6,
   "metadata": {},
   "outputs": [],
   "source": [
    "result = df.pivot_table(\n",
    "    values=\"y\", columns=[\"number\", \"letter\"], index=\"x\", observed=True, dropna=False\n",
    ")"
   ]
  },
  {
   "cell_type": "code",
   "execution_count": null,
   "metadata": {},
   "outputs": [],
   "source": []
  }
 ],
 "metadata": {
  "kernelspec": {
   "display_name": "Python 3 (ipykernel)",
   "language": "python",
   "name": "python3"
  },
  "language_info": {
   "codemirror_mode": {
    "name": "ipython",
    "version": 3
   },
   "file_extension": ".py",
   "mimetype": "text/x-python",
   "name": "python",
   "nbconvert_exporter": "python",
   "pygments_lexer": "ipython3",
   "version": "3.9.10"
  }
 },
 "nbformat": 4,
 "nbformat_minor": 4
}
