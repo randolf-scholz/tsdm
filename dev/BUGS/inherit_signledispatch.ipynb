{
 "cells": [
  {
   "cell_type": "code",
   "execution_count": null,
   "id": "254938e7-b553-42a7-9bb8-abe0e0fd72b8",
   "metadata": {},
   "outputs": [],
   "source": [
    "from abc import ABC, abstractmethod\n",
    "from typing import Optional\n",
    "\n",
    "\n",
    "class Base(ABC):\n",
    "    @property\n",
    "    @abstractmethod\n",
    "    def index(self) -> list[str]: ...\n",
    "\n",
    "    @abstractmethod\n",
    "    def load(self, *, key: Optional[str] = None, **kwargs) -> None:\n",
    "        # pre code that all subclasses should execute\n",
    "        print(f\"Loading {key=}\")\n",
    "\n",
    "        # Case-specific code that all subclasses should execute\n",
    "        if key is None:  # key=None ⇝ load everything\n",
    "            for idx in self.index:\n",
    "                self.load(key=idx, **kwargs)\n",
    "            return\n",
    "\n",
    "        # case key ≠ None ⇝ This is what the user needs to implement\n",
    "        raise NotImplementedError\n",
    "\n",
    "        # post code that all subclasses should execute\n",
    "        print(f\"Finished loading {key=}\")"
   ]
  },
  {
   "cell_type": "code",
   "execution_count": null,
   "id": "20191951-beec-414a-b3c6-89dca8277ad2",
   "metadata": {},
   "outputs": [],
   "source": [
    "%config InteractiveShell.ast_node_interactivity='last_expr_or_assign'  # always print last expr.\n",
    "%config InlineBackend.figure_format = 'svg'\n",
    "%load_ext autoreload\n",
    "%autoreload 2\n",
    "%matplotlib inline"
   ]
  },
  {
   "cell_type": "code",
   "execution_count": null,
   "id": "a8c836b3-8163-4bed-87a6-89b7ff273c37",
   "metadata": {},
   "outputs": [],
   "source": [
    "import logging\n",
    "\n",
    "logging.basicConfig(level=logging.INFO)"
   ]
  },
  {
   "cell_type": "code",
   "execution_count": null,
   "id": "2f136f92-8b56-463c-a6c5-4c4515094692",
   "metadata": {},
   "outputs": [],
   "source": [
    "logging.debug(\"test\")"
   ]
  },
  {
   "cell_type": "code",
   "execution_count": null,
   "id": "58b7f6d7",
   "metadata": {},
   "outputs": [],
   "source": []
  },
  {
   "cell_type": "code",
   "execution_count": null,
   "id": "4cdd38ae-3c83-402f-a275-b91ed9f11622",
   "metadata": {},
   "outputs": [],
   "source": [
    "from abc import ABC, abstractmethod\n",
    "from functools import singledispatchmethod\n",
    "from typing import Optional\n",
    "\n",
    "\n",
    "class Base(ABC):\n",
    "    @property\n",
    "    @abstractmethod\n",
    "    def index(self) -> list[str]: ...\n",
    "\n",
    "    @singledispatchmethod\n",
    "    def load(self, key: Optional[str]) -> None:\n",
    "        raise NotImplementedError\n",
    "\n",
    "    @load.register\n",
    "    def _(self, key: None, **kw) -> None:\n",
    "        # I do not want to repeat this piece of code for all subclasses\n",
    "        for idx in self.index:\n",
    "            self.load(idx, **kw)\n",
    "\n",
    "    @load.register\n",
    "    @abstractmethod\n",
    "    def _(self, key: str, **kw) -> None:\n",
    "        # this is what the user should implement.\n",
    "        ..."
   ]
  },
  {
   "cell_type": "code",
   "execution_count": null,
   "id": "6f9ca2cf-1515-4b0e-bbc7-74efa94e1033",
   "metadata": {},
   "outputs": [],
   "source": [
    "class Foo(Base):\n",
    "    index = [\"a\", \"b\", \"c\"]\n",
    "\n",
    "    @Base.load.register\n",
    "    def _(self, key: str) -> None:\n",
    "        assert key in self.index\n",
    "        print(f\"loaded {key=}\")\n",
    "\n",
    "\n",
    "class Bar(Base):\n",
    "    index = [\"a\", \"b\", \"c\"]"
   ]
  },
  {
   "cell_type": "code",
   "execution_count": null,
   "id": "07c7fddf-c7ae-4d3a-ab11-4c5182351fc1",
   "metadata": {},
   "outputs": [],
   "source": [
    "obj = Foo()\n",
    "obj.load(None)"
   ]
  },
  {
   "cell_type": "code",
   "execution_count": null,
   "id": "6412938f-8b20-46c3-9759-7bd0965eaf3c",
   "metadata": {},
   "outputs": [],
   "source": [
    "class Foo:\n",
    "    index = [\"a\", \"b\", \"c\"]\n",
    "\n",
    "    @singledispatchmethod\n",
    "    def load(self, key: Optional[str] = None) -> None:\n",
    "        prin\n",
    "        raise NotImplementedError()\n",
    "\n",
    "    @load.register\n",
    "    def _(self, key: None = None) -> None:\n",
    "        print(f\"loaded {key=}\")\n",
    "\n",
    "    @load.register\n",
    "    def _(self, key: str) -> None:\n",
    "        print(f\"loaded {key=}\")"
   ]
  },
  {
   "cell_type": "code",
   "execution_count": null,
   "id": "0c31fc38-8465-4110-9a54-304e95f6d127",
   "metadata": {},
   "outputs": [],
   "source": [
    "from functools import singledispatch\n",
    "from typing import Optional\n",
    "\n",
    "\n",
    "@singledispatch\n",
    "def load(key: Optional[str] = None, /) -> None:\n",
    "    raise NotImplementedError\n",
    "\n",
    "\n",
    "@load.register\n",
    "def _(key: None, /) -> None:\n",
    "    print(f\"loaded {key=}\")\n",
    "\n",
    "\n",
    "@load.register\n",
    "def _(key: str, /) -> None:\n",
    "    print(f\"loaded {key=}\")\n",
    "\n",
    "\n",
    "load()"
   ]
  },
  {
   "cell_type": "code",
   "execution_count": null,
   "id": "fd64c0e8-2fc2-403f-bed0-81ed396d1f13",
   "metadata": {},
   "outputs": [],
   "source": []
  },
  {
   "cell_type": "code",
   "execution_count": null,
   "id": "e8f5df92-c804-4dcf-afab-2085e9f967ff",
   "metadata": {},
   "outputs": [],
   "source": [
    "obj = Foo()\n",
    "obj.load()"
   ]
  },
  {
   "cell_type": "code",
   "execution_count": null,
   "id": "91ee14ee-fe12-4bbe-9a79-08e85e0a0326",
   "metadata": {},
   "outputs": [],
   "source": [
    "class Base(ABC):\n",
    "    @property\n",
    "    @abstractmethod\n",
    "    def index(self) -> list[str]: ...\n",
    "\n",
    "    @abstractmethod\n",
    "    def load(self, *, key: Optional[str] = None, **kwargs) -> None:\n",
    "        # pre code that all subclasses should execute\n",
    "        print(f\"Loading {key=}\")\n",
    "\n",
    "        # Case-specific code that all subclasses should execute\n",
    "        if key is None:  # key=None ⇝ load everything\n",
    "            for idx in self.index:\n",
    "                self.load(key=idx, **kwargs)\n",
    "            return\n",
    "\n",
    "        # case key ≠ None ⇝ This is what the user needs to implement\n",
    "        raise NotImplementedError\n",
    "\n",
    "        # post code that all subclasses should execute\n",
    "        print(f\"Finished loading {key=}\")\n",
    "\n",
    "\n",
    "class Foo(Base):\n",
    "    index = [\"a\", \"b\", \"c\"]\n",
    "\n",
    "    def load(self, *, key: Optional[str] = None) -> None:\n",
    "        if key is None:\n",
    "            for idx in self.index:\n",
    "                self.load(key=idx)\n",
    "            return\n",
    "\n",
    "        print(f\"loaded {key=}\")"
   ]
  },
  {
   "cell_type": "code",
   "execution_count": null,
   "id": "de03e464-c6ad-4c71-9111-07e59a1582a2",
   "metadata": {},
   "outputs": [],
   "source": []
  },
  {
   "cell_type": "code",
   "execution_count": null,
   "id": "5733ebd4-0973-4ff6-90fd-8ef0e8c9bced",
   "metadata": {},
   "outputs": [],
   "source": []
  },
  {
   "cell_type": "code",
   "execution_count": null,
   "id": "928c9052-0ce2-446c-9e56-d6e557fca987",
   "metadata": {},
   "outputs": [],
   "source": [
    "class Base(ABC):\n",
    "    @property\n",
    "    @abstractmethod\n",
    "    def index(self) -> list[str]: ...\n",
    "\n",
    "    @abstractmethod\n",
    "    def _load(self, *, key: str, **kwargs) -> None: ...\n",
    "\n",
    "    def load(self, *, key: Optional[str] = None, **kwargs) -> None:\n",
    "        # pre code that all subclasses should execute\n",
    "        print(f\"Loading {key=}\")\n",
    "\n",
    "        # Case-specific code that all subclasses should execute\n",
    "        if key is None:  # key=None ⇝ load everything\n",
    "            for idx in self.index:\n",
    "                self.load(key=idx, **kwargs)\n",
    "            return\n",
    "\n",
    "        # case key ≠ None ⇝ This is what the user needs to implement\n",
    "        self._load(key=key, **kwargs)\n",
    "\n",
    "        # post code that all subclasses should execute\n",
    "        print(f\"Finished loading {key=}\")"
   ]
  },
  {
   "cell_type": "code",
   "execution_count": null,
   "id": "a2d71354-bfaf-406b-9536-61e5aaab3090",
   "metadata": {},
   "outputs": [],
   "source": []
  },
  {
   "cell_type": "code",
   "execution_count": null,
   "id": "860d3110-ab49-4c2c-9ab9-cdc44390a305",
   "metadata": {},
   "outputs": [],
   "source": [
    "Foo().load()"
   ]
  },
  {
   "cell_type": "code",
   "execution_count": null,
   "id": "dd56a024-1e65-4038-97c4-00e3e25472a9",
   "metadata": {},
   "outputs": [],
   "source": [
    "class Base(ABC):\n",
    "    @property\n",
    "    @abstractmethod\n",
    "    def index(self) -> list[str]: ...\n",
    "\n",
    "    @abstractmethod\n",
    "    def load(self, key: Optional[str] = None) -> None:\n",
    "        print(f\"called Base.load with {key=}\")\n",
    "        if key is None:\n",
    "            for idx in self.index:\n",
    "                self.load(idx)\n",
    "\n",
    "\n",
    "class Foo(Base):\n",
    "    index = [\"a\", \"b\", \"c\"]\n",
    "    data = {key: \"\" for key in index}\n",
    "\n",
    "    def load(self, key=None):\n",
    "        super().load(key)"
   ]
  },
  {
   "cell_type": "code",
   "execution_count": null,
   "id": "2f0cb4f0-130b-4451-8399-dade16dc51ea",
   "metadata": {},
   "outputs": [],
   "source": [
    "Foo().load()"
   ]
  },
  {
   "cell_type": "code",
   "execution_count": null,
   "id": "2bb9a6af-611f-4c9f-9972-be92d743c3d1",
   "metadata": {},
   "outputs": [],
   "source": []
  }
 ],
 "metadata": {
  "kernelspec": {
   "display_name": "Python 3 (ipykernel)",
   "language": "python",
   "name": "python3"
  },
  "language_info": {
   "codemirror_mode": {
    "name": "ipython",
    "version": 3
   },
   "file_extension": ".py",
   "mimetype": "text/x-python",
   "name": "python",
   "nbconvert_exporter": "python",
   "pygments_lexer": "ipython3",
   "version": "3.9.10"
  }
 },
 "nbformat": 4,
 "nbformat_minor": 5
}
