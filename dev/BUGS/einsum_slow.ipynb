{
 "cells": [
  {
   "cell_type": "markdown",
   "metadata": {},
   "source": [
    "# Title"
   ]
  },
  {
   "cell_type": "code",
   "execution_count": 1,
   "metadata": {},
   "outputs": [],
   "source": [
    "%config InteractiveShell.ast_node_interactivity='last_expr_or_assign'  # always print last expr.\n",
    "%config InlineBackend.figure_format = 'svg'\n",
    "%load_ext autoreload\n",
    "%autoreload 2\n",
    "%matplotlib inline\n",
    "\n",
    "import logging\n",
    "logging.basicConfig(level=logging.INFO)"
   ]
  },
  {
   "cell_type": "code",
   "execution_count": 5,
   "metadata": {},
   "outputs": [],
   "source": [
    "from itertools import product\n",
    "from time import perf_counter\n",
    "\n",
    "import gc\n",
    "import numpy as np\n",
    "import torch\n",
    "import pandas as pd\n",
    "from pandas import DataFrame, MultiIndex, Series\n",
    "from tqdm.auto import tqdm\n",
    "\n",
    "np.set_printoptions(precision=4, floatmode=\"fixed\", suppress=True)\n",
    "rng = np.random.default_rng()"
   ]
  },
  {
   "cell_type": "code",
   "execution_count": 3,
   "metadata": {},
   "outputs": [],
   "source": [
    "reductions = []\n",
    "for a,b in product(\"ijkl\", \"ijkl\"):\n",
    "    if a==b: continue\n",
    "    reduction = f\"{a}{b},ijkl->\" + \"ijkl\".replace(a, \"\").replace(b, \"\")\n",
    "    reductions.append(reduction)\n",
    "\n",
    "framework = [\"numpy\", \"torch\"]\n",
    "dtypes = [\"int32\", \"int64\", \"float32\", \"float64\"]\n",
    "sizes = [64, 128, 256]\n",
    "\n",
    "TORCH_DTYPES = {\"int32\": torch.int32, \"int64\": torch.int64, \"float32\": torch.float32, \"float64\": torch.float64}\n",
    "\n",
    "devices = [torch.device(\"cpu\"), torch.device(\"cuda\")]\n",
    "columns = Series(reductions, name=\"reduction\")\n",
    "index = MultiIndex.from_product(\n",
    "    [sizes, dtypes, framework], names=[\"size\", \"dtype\", \"framework\"]\n",
    ")\n",
    "results = DataFrame(index=index, columns=columns, dtype=float)"
   ]
  },
  {
   "cell_type": "code",
   "execution_count": null,
   "metadata": {},
   "outputs": [],
   "source": [
    "# torch_results\n",
    "for size in tqdm(sizes):\n",
    "    _mat1 = torch.randn((size, size, size, size), device=\"cpu\")\n",
    "    _mat2 = torch.randn((size, size), device=\"cpu\")\n",
    "\n",
    "    for dtype in tqdm(dtypes, leave=False):\n",
    "        mat1 = _mat1.to(dtype=TORCH_DTYPES[dtype])\n",
    "        mat2 = _mat2.to(dtype=TORCH_DTYPES[dtype])\n",
    "\n",
    "        for reduction in tqdm(reductions, leave=False):\n",
    "            gc.disable()\n",
    "            start = perf_counter()\n",
    "            torch.einsum(reduction, mat2, mat1)\n",
    "            stop = perf_counter()\n",
    "            gc.enable()\n",
    "            results.loc[(size, dtype, \"torch\"), reduction] = stop - start"
   ]
  },
  {
   "cell_type": "code",
   "execution_count": null,
   "metadata": {},
   "outputs": [],
   "source": [
    "# numpy results\n",
    "for size in tqdm(sizes):\n",
    "    _mat1 = np.random.normal(size=(size, size, size, size))\n",
    "    _mat2 = np.random.normal(size=(size, size))\n",
    "\n",
    "    for dtype in tqdm(dtypes, leave=False):\n",
    "        mat1 = _mat1.astype(dtype)\n",
    "        mat2 = _mat2.astype(dtype)\n",
    "\n",
    "        for reduction in tqdm(reductions, leave=False):\n",
    "            gc.disable()\n",
    "            start = perf_counter()\n",
    "            np.einsum(reduction, mat2, mat1, optimize=False)\n",
    "            stop = perf_counter()\n",
    "            gc.enable()\n",
    "            results.loc[(size, dtype, \"numpy\"), reduction] = stop - start"
   ]
  },
  {
   "cell_type": "code",
   "execution_count": null,
   "metadata": {},
   "outputs": [],
   "source": [
    "results.round(3).sort_values([\"size\", \"dtype\", \"framework\"])"
   ]
  },
  {
   "cell_type": "code",
   "execution_count": 72,
   "metadata": {},
   "outputs": [],
   "source": [
    "results = pd.read_csv(\"einsum_slow.csv\")\n",
    "results = results.set_index([\"size\", \"dtype\", \"lib\"])\n",
    "results.columns = results.columns.rename(\"reduction\")\n",
    "results = results.transpose()\n",
    "results = results.sort_values(by=[(256, \"float64\", \"numpy\"),(256, \"float32\", \"numpy\")])"
   ]
  },
  {
   "cell_type": "code",
   "execution_count": 73,
   "metadata": {},
   "outputs": [],
   "source": [
    "results.loc[\"min\"] = results.min()\n",
    "results.loc[\"max\"] = results.max()\n",
    "results.loc[\"ratio\"] = results.loc[\"max\"]/results.loc[\"min\"]"
   ]
  },
  {
   "cell_type": "code",
   "execution_count": 74,
   "metadata": {},
   "outputs": [],
   "source": [
    "results"
   ]
  },
  {
   "cell_type": "code",
   "execution_count": 76,
   "metadata": {},
   "outputs": [],
   "source": [
    "results.loc[...,  (slice(None), slice(None), \"numpy\")].round(2)"
   ]
  },
  {
   "cell_type": "code",
   "execution_count": 71,
   "metadata": {},
   "outputs": [],
   "source": [
    "results.loc[...,  (slice(None), slice(None), \"numpy\")].round(2)"
   ]
  },
  {
   "cell_type": "code",
   "execution_count": null,
   "metadata": {},
   "outputs": [],
   "source": []
  }
 ],
 "metadata": {
  "kernelspec": {
   "display_name": "Python 3 (ipykernel)",
   "language": "python",
   "name": "python3"
  },
  "language_info": {
   "codemirror_mode": {
    "name": "ipython",
    "version": 3
   },
   "file_extension": ".py",
   "mimetype": "text/x-python",
   "name": "python",
   "nbconvert_exporter": "python",
   "pygments_lexer": "ipython3",
   "version": "3.9.10"
  }
 },
 "nbformat": 4,
 "nbformat_minor": 4
}
