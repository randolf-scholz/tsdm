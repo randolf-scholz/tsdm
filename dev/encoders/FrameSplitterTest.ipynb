{
 "cells": [
  {
   "cell_type": "code",
   "execution_count": null,
   "id": "8f7460fd-7d93-4530-833a-34fb859a1303",
   "metadata": {},
   "outputs": [],
   "source": []
  },
  {
   "cell_type": "code",
   "execution_count": null,
   "id": "6bb3d9f0-e2e3-4748-a653-684c465da280",
   "metadata": {
    "tags": []
   },
   "outputs": [],
   "source": [
    "encoder = ChainedEncoder(\n",
    "    #\n",
    "    TensorEncoder(),\n",
    "    # FrameSplitter([\"value\", \"measurement_time\", [\"OD600\", \"Acetate\"], ...]),\n",
    "    FrameSplitter([...]),\n",
    "    TripletEncoder(),\n",
    "    FrameEncoder(\n",
    "        Standardizer(),\n",
    "        index_encoders=MinMaxScaler() @ TimeDeltaEncoder(unit=\"s\"),\n",
    "    ),\n",
    ")"
   ]
  },
  {
   "cell_type": "code",
   "execution_count": null,
   "id": "118f1a5a-3224-4087-a5fd-6bb91fd35c0b",
   "metadata": {},
   "outputs": [],
   "source": [
    "data = ts.loc[439, 15325]"
   ]
  },
  {
   "cell_type": "code",
   "execution_count": null,
   "id": "403186d2-d793-42c4-81e3-074e0f7a2a5a",
   "metadata": {},
   "outputs": [],
   "source": [
    "encoder.fit(data)\n",
    "encoded = encoder.encode(data)"
   ]
  },
  {
   "cell_type": "code",
   "execution_count": null,
   "id": "5ca2a287-0fad-4c8a-b0a3-65d31dec2f5c",
   "metadata": {},
   "outputs": [],
   "source": [
    "decoded = encoder.decode(encoded)"
   ]
  },
  {
   "cell_type": "code",
   "execution_count": null,
   "id": "9fd05692-7934-4274-ace4-f8795d805bd3",
   "metadata": {},
   "outputs": [],
   "source": [
    "(data - decoded).abs().max() / (data).abs().mean()"
   ]
  },
  {
   "cell_type": "code",
   "execution_count": null,
   "id": "07f87c83-27b4-4d86-9b06-0abdd5cd1b47",
   "metadata": {},
   "outputs": [],
   "source": [
    "pandas.testing.assert_frame_equal(data, decoded, atol=10e-5)"
   ]
  }
 ],
 "metadata": {
  "kernelspec": {
   "display_name": "Python 3 (ipykernel)",
   "language": "python",
   "name": "python3"
  },
  "language_info": {
   "codemirror_mode": {
    "name": "ipython",
    "version": 3
   },
   "file_extension": ".py",
   "mimetype": "text/x-python",
   "name": "python",
   "nbconvert_exporter": "python",
   "pygments_lexer": "ipython3",
   "version": "3.9.10"
  }
 },
 "nbformat": 4,
 "nbformat_minor": 5
}
