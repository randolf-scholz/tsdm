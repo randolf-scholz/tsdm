{
 "cells": [
  {
   "cell_type": "markdown",
   "metadata": {},
   "source": [
    "# Title"
   ]
  },
  {
   "cell_type": "code",
   "execution_count": null,
   "metadata": {},
   "outputs": [],
   "source": [
    "%config InteractiveShell.ast_node_interactivity='last_expr_or_assign'  # always print last expr.\n",
    "%config InlineBackend.figure_format = 'svg'\n",
    "%load_ext autoreload\n",
    "%autoreload 2\n",
    "%matplotlib inline\n",
    "\n",
    "import logging\n",
    "\n",
    "logging.basicConfig(level=logging.INFO)"
   ]
  },
  {
   "cell_type": "code",
   "execution_count": null,
   "metadata": {},
   "outputs": [],
   "source": [
    "import numpy as np\n",
    "from pandas import DataFrame, DatetimeIndex, Series\n",
    "\n",
    "np.set_printoptions(precision=4, floatmode=\"fixed\", suppress=True)\n",
    "rng = np.random.default_rng()"
   ]
  },
  {
   "cell_type": "code",
   "execution_count": null,
   "metadata": {},
   "outputs": [],
   "source": [
    "from tsdm.datasets import Electricity\n",
    "\n",
    "ds = Electricity()"
   ]
  },
  {
   "cell_type": "code",
   "execution_count": null,
   "metadata": {},
   "outputs": [],
   "source": [
    "dt = ds.index\n",
    "time_resolution = [\n",
    "    dt.year,\n",
    "    dt.month,\n",
    "    dt.day,\n",
    "    dt.hour,\n",
    "    dt.minute,\n",
    "    dt.second,\n",
    "    dt.microsecond,\n",
    "    dt.nanosecond,\n",
    "]"
   ]
  },
  {
   "cell_type": "code",
   "execution_count": null,
   "metadata": {},
   "outputs": [],
   "source": [
    "import pandas as pd\n",
    "\n",
    "pd.Timedelta(ds.index.inferred_freq)"
   ]
  },
  {
   "cell_type": "code",
   "execution_count": null,
   "metadata": {},
   "outputs": [],
   "source": [
    "class SocialTime:\n",
    "    level_codes = {\n",
    "        \"Y\": \"year\",\n",
    "        \"M\": \"month\",\n",
    "        \"W\": \"weekday\",\n",
    "        \"D\": \"day\",\n",
    "        \"h\": \"hour\",\n",
    "        \"m\": \"minute\",\n",
    "        \"s\": \"second\",\n",
    "        \"µ\": \"microsecond\",\n",
    "        \"n\": \"nanosecond\",\n",
    "    }\n",
    "\n",
    "    def __init__(self, levels: str = \"YMWDhms\") -> None:\n",
    "        self.levels = [self.level_codes[k] for k in levels]\n",
    "\n",
    "    def fit(self, x: Series, /) -> None:\n",
    "        self.original_type = type(x)\n",
    "        self.original_name = x.name\n",
    "        self.original_dtype = x.dtype\n",
    "        self.rev_cols = [l for l in self.levels if l != \"weekday\"]\n",
    "        # self.new_names = {level:f\"{x.name}_{level}\" for level in self.levels}\n",
    "        # self.rev_names = {f\"{x.name}_{level}\":level for level in self.levels if level != \"weekday\"}\n",
    "\n",
    "    def encode(self, x, /):\n",
    "        if isinstance(x, DatetimeIndex):\n",
    "            res = {level: getattr(x, level) for level in self.levels}\n",
    "        else:\n",
    "            res = {level: getattr(x, level) for level in self.levels}\n",
    "        return DataFrame.from_dict(res)\n",
    "\n",
    "    def decode(self, x, /):\n",
    "        x = x[self.rev_cols]\n",
    "        s = pd.to_datetime(x)\n",
    "        return self.original_type(s, name=self.original_name, dtype=self.original_dtype)"
   ]
  },
  {
   "cell_type": "code",
   "execution_count": null,
   "metadata": {},
   "outputs": [],
   "source": [
    "enc = SocialTime()\n",
    "enc.fit(ds.index)\n",
    "encoded = enc.encode(ds.index)"
   ]
  },
  {
   "cell_type": "code",
   "execution_count": null,
   "metadata": {},
   "outputs": [],
   "source": [
    "enc.decode(encoded)"
   ]
  },
  {
   "cell_type": "code",
   "execution_count": null,
   "metadata": {},
   "outputs": [],
   "source": [
    "ds.index"
   ]
  },
  {
   "cell_type": "code",
   "execution_count": null,
   "metadata": {},
   "outputs": [],
   "source": [
    "from tsdm.encoders import *"
   ]
  },
  {
   "cell_type": "code",
   "execution_count": null,
   "metadata": {},
   "outputs": [],
   "source": [
    "enc = FrameEncoder(PeriodicEncoder(), duplicate=True) @ SocialTimeEncoder()\n",
    "enc.fit(ds.index)\n",
    "enc.encode(ds.index)"
   ]
  },
  {
   "cell_type": "code",
   "execution_count": null,
   "metadata": {},
   "outputs": [],
   "source": [
    "# from collections.abc import Mapping\n",
    "\n",
    "# class PeriodicSocialTimeEncoder(SocialTimeEncoder):\n",
    "#     r\"\"\"Combines SocialTimeEncoder with PeriodicEncoder using the right frequencies.\"\"\"\n",
    "\n",
    "#     frequencies = {\n",
    "#         \"Y\": 1,\n",
    "#         \"M\": 12,\n",
    "#         \"W\": 7,\n",
    "#         \"D\": 365,\n",
    "#         \"h\": 24,\n",
    "#         \"m\": 60,\n",
    "#         \"s\": 60,\n",
    "#         \"µ\": 1000,\n",
    "#         \"n\": 1000,\n",
    "#     }\n",
    "#     column_encoders: Mapping[str, PeriodicEncoder]\n",
    "#     encoder: BaseEncoder\n",
    "\n",
    "#     def __init__(self, *, levels: str = \"YMWDhms\") -> None:\n",
    "#         super().__init__(levels=levels)\n",
    "#         self.column_encoders = {\n",
    "#             level: PeriodicEncoder(period=self.frequencies[level])\n",
    "#             for level in self.level_code\n",
    "#         }\n",
    "#         self.encoder = FrameEncoder(self.column_encoders) @ SocialTimeEncoder()\n",
    "\n",
    "#     def fit(self, x: Series) -> None:\n",
    "#         self.encoder.fit(x)\n",
    "\n",
    "#     def encode(self, data: Series, /) -> DataFrame:\n",
    "#         return self.encoder.encode(data)\n",
    "\n",
    "#     def decode(self, data: DataFrame, /) -> Series:\n",
    "#         return self.encoder.decode(data)"
   ]
  },
  {
   "cell_type": "code",
   "execution_count": null,
   "metadata": {},
   "outputs": [],
   "source": [
    "# class PeriodicSocialTimeEncoder(SocialTimeEncoder):\n",
    "#     r\"\"\"Combines SocialTimeEncoder with PeriodicEncoder using the right frequencies.\"\"\"\n",
    "\n",
    "#     frequencies = {\n",
    "#         \"year\": 1,\n",
    "#         \"month\": 12,\n",
    "#         \"weekday\": 7,\n",
    "#         \"day\": 365,\n",
    "#         \"hour\": 24,\n",
    "#         \"minute\": 60,\n",
    "#         \"second\": 60,\n",
    "#         \"microsecond\": 1000,\n",
    "#         \"nanosecond\": 1000,\n",
    "#     }\n",
    "#     column_encoders: Mapping[str, PeriodicEncoder]\n",
    "#     encoder: BaseEncoder\n",
    "\n",
    "#     def __new__(cls, levels: str = \"YMWDhms\") -> BaseEncoder:\n",
    "#         self = super().__new__(cls)\n",
    "#         self.__init__(levels)\n",
    "#         column_encoders = {\n",
    "#             level: PeriodicEncoder(period=self.frequencies[level])\n",
    "#             for level in self.levels\n",
    "#         }\n",
    "#         return FrameEncoder(column_encoders) @ self"
   ]
  },
  {
   "cell_type": "code",
   "execution_count": null,
   "metadata": {},
   "outputs": [],
   "source": [
    "enc = PeriodicEncoder(5)\n",
    "weekday = ds.index.weekday\n",
    "enc.fit(weekday)\n",
    "encoded = enc.encode(weekday)\n",
    "decoded = enc.decode(encoded)"
   ]
  },
  {
   "cell_type": "code",
   "execution_count": null,
   "metadata": {},
   "outputs": [],
   "source": [
    "enc = PeriodicSocialTimeEncoder()\n",
    "enc.fit(ds.index)\n",
    "encoded = enc.encode(ds.index)"
   ]
  },
  {
   "cell_type": "code",
   "execution_count": null,
   "metadata": {},
   "outputs": [],
   "source": [
    "something = enc[0].decode(encoded)"
   ]
  },
  {
   "cell_type": "code",
   "execution_count": null,
   "metadata": {},
   "outputs": [],
   "source": [
    "pd.to_datetime(something[set])"
   ]
  },
  {
   "cell_type": "code",
   "execution_count": null,
   "metadata": {},
   "outputs": [],
   "source": [
    "something.max()"
   ]
  },
  {
   "cell_type": "code",
   "execution_count": null,
   "metadata": {},
   "outputs": [],
   "source": [
    "enc[1].decode(something)"
   ]
  },
  {
   "cell_type": "code",
   "execution_count": null,
   "metadata": {},
   "outputs": [],
   "source": [
    "decoded = enc.decode(encoded)"
   ]
  },
  {
   "cell_type": "code",
   "execution_count": null,
   "metadata": {},
   "outputs": [],
   "source": [
    "[encoded[col].unique().size for col in encoded]"
   ]
  },
  {
   "cell_type": "code",
   "execution_count": null,
   "metadata": {},
   "outputs": [],
   "source": [
    "print()"
   ]
  },
  {
   "cell_type": "code",
   "execution_count": null,
   "metadata": {},
   "outputs": [],
   "source": [
    "from pandas.core.indexes.frozen import FrozenList\n",
    "\n",
    "encoded[FrozenList([\"cos_year\", \"sin_year\"])]"
   ]
  },
  {
   "cell_type": "code",
   "execution_count": null,
   "metadata": {},
   "outputs": [],
   "source": []
  }
 ],
 "metadata": {
  "kernelspec": {
   "display_name": "Python 3 (ipykernel)",
   "language": "python",
   "name": "python3"
  },
  "language_info": {
   "codemirror_mode": {
    "name": "ipython",
    "version": 3
   },
   "file_extension": ".py",
   "mimetype": "text/x-python",
   "name": "python",
   "nbconvert_exporter": "python",
   "pygments_lexer": "ipython3",
   "version": "3.9.12"
  }
 },
 "nbformat": 4,
 "nbformat_minor": 4
}
