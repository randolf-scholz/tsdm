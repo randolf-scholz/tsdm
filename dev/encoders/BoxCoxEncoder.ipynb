{
 "cells": [
  {
   "cell_type": "code",
   "execution_count": null,
   "id": "20191951-beec-414a-b3c6-89dca8277ad2",
   "metadata": {
    "pycharm": {
     "name": "#%%\n"
    }
   },
   "outputs": [],
   "source": [
    "%config InteractiveShell.ast_node_interactivity='last_expr_or_assign'  # always print last expr.\n",
    "%config InlineBackend.figure_format = 'svg'\n",
    "%load_ext autoreload\n",
    "%autoreload 2\n",
    "%matplotlib inline"
   ]
  },
  {
   "cell_type": "code",
   "execution_count": null,
   "id": "381482a0-5960-42d2-be28-d4dbfb351347",
   "metadata": {
    "pycharm": {
     "name": "#%%\n"
    }
   },
   "outputs": [],
   "source": [
    "from typing import Optional\n",
    "\n",
    "import numpy as np\n",
    "\n",
    "from tsdm.encoders import BaseEncoder"
   ]
  },
  {
   "cell_type": "code",
   "execution_count": null,
   "id": "8694355a-574e-40a3-b5d1-058d14cf72e4",
   "metadata": {
    "pycharm": {
     "name": "#%%\n"
    }
   },
   "outputs": [],
   "source": [
    "class BoxCoxEncoder(BaseEncoder):\n",
    "    r\"\"\"Encode data on loggarithmic scale.\n",
    "\n",
    "\n",
    "    .. math:: x ↦ \\log(x+c)\n",
    "\n",
    "    We consider multiple ideas for how to fit the parameter $c$\n",
    "\n",
    "    1. Half the minimal non-zero value: `c = min(data[data>0])/2`\n",
    "    2. Square of the first quartile divided by the third quartile (Stahle 2002)\n",
    "    3. Value which minimizes the Wasserstein distance to a mean-0, variance-1 uniform distribution\n",
    "    \"\"\"\n",
    "\n",
    "    AVAILABLE_METHODS = [\"none\", \"wasserstein\", \"minimum\", \"quartile\"]\n",
    "\n",
    "    method: str\n",
    "    param: np.ndarray\n",
    "\n",
    "    def __init__(\n",
    "        self, *, method: str = \"\", initial_param: Optional[np.ndarray] = None\n",
    "    ) -> None:\n",
    "\n",
    "        if method not in self.AVAILABLE_METHODS:\n",
    "            raise ValueError(f\"{method=} unknown. Available: {self.AVAILABLE_METHODS}\")\n",
    "        if method == \"none\" and initial_param is None:\n",
    "            raise ValueError(f\"Needs to provide initial param if no fitting.\")\n",
    "\n",
    "        self.method = method\n",
    "        self.initial_param = initial_param\n",
    "        super().__init__()\n",
    "\n",
    "    @staticmethod\n",
    "    def _wasserstein_uniform(x: np.ndarray, axis=-1) -> np.ndarray:\n",
    "        r\"\"\"Signature: `[..., n] -> ...`.\"\"\"\n",
    "        n = x.shape[axis]\n",
    "        k = np.arange(1, n + 1)\n",
    "        r = x**2 + 2 * np.sqrt(3) * (1 - (2 * k - 1) / N) * x + 3\n",
    "        return np.mean(r, axis=axis)\n",
    "        \n",
    "        \n",
    "    def fit(self, data, /) -> None:\n",
    "\n",
    "        assert np.all(data >= 0)\n",
    "        method  = self.method\n",
    "        \n",
    "        match self.method:\n",
    "            case \"none\":\n",
    "                self.param = self.initial_param\n",
    "            case \"minimum\":\n",
    "                self.param = data[data>0].min() / 2\n",
    "            case \"quartile\":\n",
    "                self.param = ( np.quantile(data, 0.25) / np.quantile(data, 0.75) ) **2\n",
    "            case \"wasserstein\":\n",
    "                \n",
    "\n",
    "    def encode(self, data, /):\n",
    "        # TODO: Use copy on data.\n",
    "        result = data.copy()\n",
    "        mask = data <= 0\n",
    "        result[:] = np.where(mask, self.replacement, np.log2(data))\n",
    "        return result\n",
    "\n",
    "    def decode(self, data, /):\n",
    "        result = 2**data\n",
    "        mask = result < self.threshold\n",
    "        result[:] = np.where(mask, 0, result)\n",
    "        return result"
   ]
  },
  {
   "cell_type": "code",
   "execution_count": null,
   "id": "34dde8cd-d489-47a2-9213-d5a587a69cae",
   "metadata": {
    "pycharm": {
     "name": "#%%\n"
    }
   },
   "outputs": [],
   "source": [
    "def _wasserstein_uniform(x: np.ndarray, axis=-1) -> np.ndarray:\n",
    "    r\"\"\"Signature: `[..., n] -> ...`.\"\"\"\n",
    "    x = np.sort(x, axis=axis)\n",
    "    n = x.shape[axis]\n",
    "    k = np.arange(1, n + 1)\n",
    "    r = x**2 + 2 * np.sqrt(3) * (1 - (2 * k - 1) / n) * x + 3\n",
    "    return np.mean(r, axis=axis)"
   ]
  },
  {
   "cell_type": "code",
   "execution_count": null,
   "id": "2e703a0b",
   "metadata": {
    "pycharm": {
     "is_executing": true,
     "name": "#%%\n"
    }
   },
   "outputs": [],
   "source": [
    "def wasserstein_uniform_generic(x: np.ndarray, axis=) -> np.ndarray:\n",
    "    r\"\"\".. Signature:: `[..., n] -> ...`.\"\"\"\n",
    "\n",
    "\n"
   ]
  },
  {
   "cell_type": "code",
   "execution_count": null,
   "id": "ec1787ed",
   "metadata": {
    "pycharm": {
     "is_executing": true,
     "name": "#%%\n"
    }
   },
   "outputs": [],
   "source": []
  },
  {
   "cell_type": "code",
   "execution_count": null,
   "id": "551c2334-e6af-4186-89cf-e534fa4ed441",
   "metadata": {
    "pycharm": {
     "name": "#%%\n"
    }
   },
   "outputs": [],
   "source": [
    "x = np.random.rand(3, 3, 10000)\n",
    "x = (x - x.mean()) / x.std()"
   ]
  },
  {
   "cell_type": "code",
   "execution_count": null,
   "id": "1822b73b-58e2-4382-b14f-9f9cdaa89f3e",
   "metadata": {
    "pycharm": {
     "name": "#%%\n"
    }
   },
   "outputs": [],
   "source": [
    "_wasserstein_uniform(x)"
   ]
  },
  {
   "cell_type": "code",
   "execution_count": null,
   "id": "9e6c8575-d3d9-42fe-adf7-6dca734ea4b0",
   "metadata": {
    "pycharm": {
     "name": "#%%\n"
    }
   },
   "outputs": [],
   "source": [
    "n = np.array(7)\n",
    "np.arange(1, n + 1)"
   ]
  },
  {
   "cell_type": "code",
   "execution_count": null,
   "id": "d695b42b",
   "metadata": {
    "pycharm": {
     "name": "#%%\n"
    }
   },
   "outputs": [],
   "source": [
    "def iquantile(arr, q, axis=-1):\n",
    "    r\"\"\"Inverse Quantile function for empirical distribution\n",
    "\n",
    "    x_min + ∑ (x_{k+1} -x_k) H(q - k/N)\n",
    "\n",
    "    .. Signature: `[(..., n), 1] -> ...`\n",
    "    \"\"\"\n",
    "    x = np.sort(arr, axis=axis)\n",
    "    dx = np.diff(x, axis=axis)\n",
    "    N = x.shape[axis]\n",
    "    k = np.arange(1, N)\n",
    "    mask = q >= k / N\n",
    "    return x[0] + np.sum(dx[mask], axis=axis)"
   ]
  },
  {
   "cell_type": "code",
   "execution_count": null,
   "id": "9645b3c0-7cb1-4874-8891-356b134298b4",
   "metadata": {
    "pycharm": {
     "name": "#%%\n"
    }
   },
   "outputs": [],
   "source": [
    "data = np.random.rand(1000)"
   ]
  },
  {
   "cell_type": "code",
   "execution_count": null,
   "id": "c2b0fcb8-5b12-4429-aa84-d5b3c0356f45",
   "metadata": {
    "pycharm": {
     "name": "#%%\n"
    }
   },
   "outputs": [],
   "source": [
    "np.quantile(data, 0.85)"
   ]
  },
  {
   "cell_type": "code",
   "execution_count": null,
   "id": "f3f931f9-939d-43bf-a0c5-f540f44b771f",
   "metadata": {
    "pycharm": {
     "name": "#%%\n"
    }
   },
   "outputs": [],
   "source": [
    "iquantile(data, 0.85)"
   ]
  },
  {
   "cell_type": "code",
   "execution_count": null,
   "id": "af245a0d-1bd9-4ba9-b7ef-dd9a4009584e",
   "metadata": {
    "pycharm": {
     "name": "#%%\n"
    }
   },
   "outputs": [],
   "source": []
  }
 ],
 "metadata": {
  "kernelspec": {
   "display_name": "Python 3 (ipykernel)",
   "language": "python",
   "name": "python3"
  },
  "language_info": {
   "codemirror_mode": {
    "name": "ipython",
    "version": 3
   },
   "file_extension": ".py",
   "mimetype": "text/x-python",
   "name": "python",
   "nbconvert_exporter": "python",
   "pygments_lexer": "ipython3",
   "version": "3.10.6"
  }
 },
 "nbformat": 4,
 "nbformat_minor": 5
}
