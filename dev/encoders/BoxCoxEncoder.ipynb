{
 "cells": [
  {
   "cell_type": "code",
   "execution_count": null,
   "id": "20191951-beec-414a-b3c6-89dca8277ad2",
   "metadata": {
    "pycharm": {
     "name": "#%%\n"
    }
   },
   "outputs": [],
   "source": [
    "%config InteractiveShell.ast_node_interactivity='last_expr_or_assign'  # always print last expr.\n",
    "%config InlineBackend.figure_format = 'svg'\n",
    "%load_ext autoreload\n",
    "%autoreload 2\n",
    "%matplotlib inline"
   ]
  },
  {
   "cell_type": "code",
   "execution_count": null,
   "id": "381482a0-5960-42d2-be28-d4dbfb351347",
   "metadata": {
    "pycharm": {
     "name": "#%%\n"
    }
   },
   "outputs": [],
   "source": [
    "from typing import Optional\n",
    "\n",
    "import numpy as np\n",
    "import pandas as pd\n",
    "from matplotlib import pyplot as plt\n",
    "from numpy import pi as π\n",
    "from scipy.optimize import minimize\n",
    "from scipy.special import erfinv\n",
    "\n",
    "from tsdm.encoders import BaseEncoder"
   ]
  },
  {
   "cell_type": "code",
   "execution_count": null,
   "id": "8694355a-574e-40a3-b5d1-058d14cf72e4",
   "metadata": {
    "pycharm": {
     "name": "#%%\n"
    }
   },
   "outputs": [],
   "source": [
    "class BoxCoxEncoder(BaseEncoder):\n",
    "    r\"\"\"Encode data on logarithmic scale.\n",
    "\n",
    "    .. math:: x ↦ \\log(x+c)\n",
    "\n",
    "    We consider multiple ideas for how to fit the parameter $c$\n",
    "\n",
    "    1. Half the minimal non-zero value: `c = min(data[data>0])/2`\n",
    "    2. Square of the first quartile divided by the third quartile (Stahle 2002)\n",
    "    3. Value which minimizes the Wasserstein distance to a mean-0, variance-1 uniform distribution\n",
    "    \"\"\"\n",
    "\n",
    "    AVAILABLE_METHODS = [\"none\", \"wasserstein\", \"minimum\", \"quartile\"]\n",
    "\n",
    "    method: str\n",
    "    param: np.ndarray\n",
    "\n",
    "    def __init__(\n",
    "        self, *, method: str = \"\", initial_param: Optional[np.ndarray] = None\n",
    "    ) -> None:\n",
    "        if method not in self.AVAILABLE_METHODS:\n",
    "            raise ValueError(f\"{method=} unknown. Available: {self.AVAILABLE_METHODS}\")\n",
    "        if method == \"none\" and initial_param is None:\n",
    "            raise ValueError(\"Needs to provide initial param if no fitting.\")\n",
    "\n",
    "        self.method = method\n",
    "        self.initial_param = initial_param\n",
    "        super().__init__()\n",
    "\n",
    "    @staticmethod\n",
    "    def _wasserstein_uniform(x: np.ndarray, axis=-1) -> np.ndarray:\n",
    "        r\"\"\"Signature: `[..., n] -> ...`.\"\"\"\n",
    "        n = x.shape[axis]\n",
    "        k = np.arange(1, n + 1)\n",
    "        r = x**2 + 2 * np.sqrt(3) * (1 - (2 * k - 1) / N) * x + 3\n",
    "        return np.mean(r, axis=axis)\n",
    "\n",
    "    def fit(self, data, /) -> None:\n",
    "        assert np.all(data >= 0)\n",
    "\n",
    "        match self.method:\n",
    "            case \"none\":\n",
    "                self.param = self.initial_param\n",
    "            case \"minimum\":\n",
    "                self.param = data[data > 0].min() / 2\n",
    "            case \"quartile\":\n",
    "                self.param = (np.quantile(data, 0.25) / np.quantile(data, 0.75)) ** 2\n",
    "            case \"wasserstein\": ...\n",
    "\n",
    "    def encode(self, data, /):\n",
    "        # TODO: Use copy on data.\n",
    "        result = data.copy()\n",
    "        mask = data <= 0\n",
    "        result[:] = np.where(mask, self.replacement, np.log2(data))\n",
    "        return result\n",
    "\n",
    "    def decode(self, data, /):\n",
    "        result = 2**data\n",
    "        mask = result < self.threshold\n",
    "        result[:] = np.where(mask, 0, result)\n",
    "        return result"
   ]
  },
  {
   "cell_type": "code",
   "execution_count": null,
   "id": "44999356-460f-4808-a40d-6ff03c0a1124",
   "metadata": {},
   "outputs": [],
   "source": [
    "def construct_loss_wasserstein_uniform(x, model, a=-np.sqrt(3), b=+np.sqrt(3)):\n",
    "    r\"\"\"Construct the loss for the Uniform distribution\n",
    "\n",
    "    .. math::\n",
    "        W₂² = ∑ₖ [αₖxₖ² -2βₖxₖ + αₖC] = ∑ₖ αₖ[xₖ² -2(βₖ/αₖ)xₖ + C]\n",
    "        F^{-1}(q) &= a + (b-a)q\n",
    "        β &= ∫ F^{-1}(q)dq = aq + ½(b-a)q²\n",
    "        C &= ∫_0^1 F^{-1}(q)^2 dq = ⅓(a^2 + ab + b^2)\n",
    "    \"\"\"\n",
    "    if (a, b) == (-np.sqrt(3), +np.sqrt(3)):\n",
    "        C = 1\n",
    "\n",
    "        def integrate_quantile(q):\n",
    "            return np.sqrt(3) * q * (q - 1)\n",
    "\n",
    "    else:\n",
    "        C = (a**2 + a * b + b**2) / 3\n",
    "\n",
    "        def integrate_quantile(q):\n",
    "            return a * q + (b - a) * q**2 / 2\n",
    "\n",
    "    unique, counts = np.unique(x, return_counts=True)\n",
    "    α = counts / np.sum(counts)\n",
    "    p = np.insert(np.cumsum(α), 0, 0).clip(0, 1)\n",
    "    β = integrate_quantile(p[1:]) - integrate_quantile(p[:-1])\n",
    "    μ = (b + a) / 2\n",
    "    σ = abs(b - a) / np.sqrt(12)\n",
    "\n",
    "    def fun(c):\n",
    "        u = model(unique, c)\n",
    "        # transform to target loc-scale\n",
    "        mean = np.mean(u, axis=-1, keepdims=True)\n",
    "        stdv = np.std(u, axis=-1, keepdims=True)\n",
    "        y = (u - mean + μ) * (σ / stdv)\n",
    "        return np.einsum(\"...i, i -> ...\", y**2 - 2 * (β / α) * y + C, α)\n",
    "\n",
    "    return fun"
   ]
  },
  {
   "cell_type": "code",
   "execution_count": null,
   "id": "c9f1c83e-449e-49b7-b2fe-ad22e9cbd7c7",
   "metadata": {},
   "outputs": [],
   "source": [
    "def construct_loss_wasserstein_normal(x, model, μ=0.0, σ=1.0):\n",
    "    r\"\"\"Construct the loss for the Normal distribution\n",
    "\n",
    "    .. math::\n",
    "        W₂² = ∑ₖ [αₖxₖ² -2βₖxₖ + αₖC] = ∑ₖ αₖ[xₖ² -2(βₖ/αₖ)xₖ + C]\n",
    "        F^{-1}(q) &= μ + σ√2\\erf^{-1}(2q-1)\n",
    "        β &= ∫_a^b F^{-1}(q)dq = (b-a)μ - σ/√(2π) (e^{-\\erf^{-1}(2b-1)^2} - e^{-\\erf^{-1}(2a-1)^2}\n",
    "        C &= ∫_0^1 F^{-1}(q)^2 dq = μ^2 + σ^2\n",
    "    \"\"\"\n",
    "    if (μ, σ) == (0, 1):\n",
    "        C = 1\n",
    "\n",
    "        def integrate_quantile(q):\n",
    "            return -np.exp(-erfinv(2 * q - 1) ** 2) / np.sqrt(2 * π)\n",
    "\n",
    "    else:\n",
    "        C = μ**2 + σ**2\n",
    "\n",
    "        def integrate_quantile(q):\n",
    "            return μ * q - σ * np.exp(-erfinv(2 * q - 1) ** 2) / np.sqrt(2 * π)\n",
    "\n",
    "    unique, counts = np.unique(x, return_counts=True)\n",
    "    α = counts / np.sum(counts)\n",
    "    p = np.insert(np.cumsum(α), 0, 0).clip(0, 1)\n",
    "    β = integrate_quantile(p[1:]) - integrate_quantile(p[:-1])\n",
    "\n",
    "    def fun(c):\n",
    "        u = model(unique, c)\n",
    "        # transform to target loc-scale\n",
    "        mean = np.mean(u, axis=-1, keepdims=True)\n",
    "        stdv = np.std(u, axis=-1, keepdims=True)\n",
    "        y = (u - mean + μ) * (σ / stdv)\n",
    "        return np.einsum(\"...i, i -> ...\", y**2 - 2 * (β / α) * y + C, α)\n",
    "\n",
    "    return fun"
   ]
  },
  {
   "cell_type": "code",
   "execution_count": null,
   "id": "5e0c4421-7779-456e-8002-76c51e8454b2",
   "metadata": {},
   "outputs": [],
   "source": [
    "from tsdm.datasets import KIWI_RUNS\n",
    "\n",
    "dataset = KIWI_RUNS()\n",
    "\n",
    "ts = dataset.timeseries\n",
    "\n",
    "data = np.array(ts.Glucose[pd.notna(ts.Glucose)].astype(float))"
   ]
  },
  {
   "cell_type": "code",
   "execution_count": null,
   "id": "793ea14e-5ca0-410b-bc5e-58936500f326",
   "metadata": {},
   "outputs": [],
   "source": [
    "def model(x, c):\n",
    "    return np.log(np.add.outer(c, x))"
   ]
  },
  {
   "cell_type": "markdown",
   "id": "e8fe69fe-def7-4183-92a9-c3bb35475188",
   "metadata": {
    "tags": []
   },
   "source": [
    "# Match Uniform"
   ]
  },
  {
   "cell_type": "code",
   "execution_count": null,
   "id": "8b2621c7-75e2-4116-b069-62af15bfc675",
   "metadata": {},
   "outputs": [],
   "source": [
    "%matplotlib inline\n",
    "fun = construct_loss_wasserstein_uniform(data, model)\n",
    "c = np.logspace(-3, 2)\n",
    "plt.semilogx(c, fun(c))"
   ]
  },
  {
   "cell_type": "code",
   "execution_count": null,
   "id": "f71f40cf-34b7-4ebd-9c44-188ed86d8b14",
   "metadata": {},
   "outputs": [],
   "source": [
    "x0 = np.array([1.0])\n",
    "sol = minimize(\n",
    "    fun,\n",
    "    x0,\n",
    "    method=\"trust-constr\",\n",
    "    # jac=jac,\n",
    "    # hess=hess,\n",
    "    bounds=[(0, np.inf)],\n",
    "    options={\"disp\": True},\n",
    ")\n",
    "\n",
    "values = [\n",
    "    data[data > 0].min() / 2,\n",
    "    np.quantile(data, 0.25) ** 2 / np.quantile(data, 0.75),\n",
    "    np.quantile(data, 0.25) ** 2 / np.quantile(data, 0.75) ** 2,\n",
    "    sol.x.squeeze(),\n",
    "]"
   ]
  },
  {
   "cell_type": "code",
   "execution_count": null,
   "id": "5835cd14-344f-45a3-ae8a-67f657fada08",
   "metadata": {},
   "outputs": [],
   "source": [
    "np.linalg.inv(np.array([[1, 1], [-1, 1]]))"
   ]
  },
  {
   "cell_type": "code",
   "execution_count": null,
   "id": "022dba3d-7212-4fc0-8d38-0145283c69c5",
   "metadata": {},
   "outputs": [],
   "source": [
    "%matplotlib inline\n",
    "\n",
    "from scipy.stats import uniform\n",
    "\n",
    "fig, axes = plt.subplots(\n",
    "    ncols=len(values),\n",
    "    constrained_layout=True,\n",
    "    figsize=(3 * len(values), 3),\n",
    "    sharey=True,\n",
    "    sharex=True,\n",
    ")\n",
    "\n",
    "t = np.linspace(-6, +6, 1024)\n",
    "for val, ax in zip(values, axes):\n",
    "    z = model(data, val)\n",
    "    μ = z.mean()\n",
    "    σ = z.std()\n",
    "    a = μ - np.sqrt(3) * σ\n",
    "    b = μ + np.sqrt(3) * σ\n",
    "    ax.hist(z, density=True, bins=50)\n",
    "    ax.plot(t, uniform.pdf(t, loc=a, scale=b - a))\n",
    "    # ax.set_yscale(\"log\")"
   ]
  },
  {
   "cell_type": "markdown",
   "id": "a5f945f1-3f21-4186-b98d-58a79d7e3c21",
   "metadata": {},
   "source": [
    "# Match Normal"
   ]
  },
  {
   "cell_type": "code",
   "execution_count": null,
   "id": "e4f43ef9-8261-4188-a1c9-4aaa20c650cb",
   "metadata": {},
   "outputs": [],
   "source": [
    "fun = construct_loss_wasserstein_normal(data, model)\n",
    "c = np.logspace(-3, 2)\n",
    "plt.semilogx(c, fun(c))"
   ]
  },
  {
   "cell_type": "code",
   "execution_count": null,
   "id": "31a8a957-5e4b-4c75-b07a-4dc387e9bc6a",
   "metadata": {},
   "outputs": [],
   "source": [
    "x0 = np.array([1.0])\n",
    "sol = minimize(\n",
    "    fun,\n",
    "    x0,\n",
    "    method=\"trust-constr\",\n",
    "    # jac=jac,\n",
    "    # hess=hess,\n",
    "    bounds=[(0, np.inf)],\n",
    "    options={\"disp\": True},\n",
    ")\n",
    "\n",
    "values = [\n",
    "    data[data > 0].min() / 2,\n",
    "    np.quantile(data, 0.25) ** 2 / np.quantile(data, 0.75),\n",
    "    np.quantile(data, 0.25) ** 2 / np.quantile(data, 0.75) ** 2,\n",
    "    sol.x.squeeze(),\n",
    "]"
   ]
  },
  {
   "cell_type": "code",
   "execution_count": null,
   "id": "ef9cb498-4609-430e-915f-0f6ecc31ad6f",
   "metadata": {
    "tags": []
   },
   "outputs": [],
   "source": [
    "%matplotlib inline\n",
    "\n",
    "from scipy.stats import norm as normal\n",
    "\n",
    "fig, axes = plt.subplots(\n",
    "    ncols=len(values),\n",
    "    constrained_layout=True,\n",
    "    figsize=(3 * len(values), 3),\n",
    "    sharey=True,\n",
    "    sharex=True,\n",
    ")\n",
    "\n",
    "t = np.linspace(-6, +6, 1024)\n",
    "for val, ax in zip(values, axes):\n",
    "    z = model(data, val)\n",
    "    μ = z.mean()\n",
    "    σ = z.std()\n",
    "    ax.hist(z, density=True, bins=50)\n",
    "    ax.plot(t, normal.pdf(t, loc=μ, scale=σ))\n",
    "    # ax.set_yscale(\"log\")"
   ]
  }
 ],
 "metadata": {
  "kernelspec": {
   "display_name": "Python 3 (ipykernel)",
   "language": "python",
   "name": "python3"
  },
  "language_info": {
   "codemirror_mode": {
    "name": "ipython",
    "version": 3
   },
   "file_extension": ".py",
   "mimetype": "text/x-python",
   "name": "python",
   "nbconvert_exporter": "python",
   "pygments_lexer": "ipython3",
   "version": "3.10.6"
  }
 },
 "nbformat": 4,
 "nbformat_minor": 5
}
