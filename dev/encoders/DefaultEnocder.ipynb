{
 "cells": [
  {
   "cell_type": "code",
   "execution_count": null,
   "metadata": {},
   "outputs": [],
   "source": [
    "%config InteractiveShell.ast_node_interactivity='last_expr_or_assign'  # always print last expr."
   ]
  },
  {
   "cell_type": "code",
   "execution_count": null,
   "metadata": {},
   "outputs": [],
   "source": [
    "import numpy as np\n",
    "import pandas as pd\n",
    "\n",
    "from tsdm.datasets import KIWI_RUNS\n",
    "from tsdm.encoders import *"
   ]
  },
  {
   "cell_type": "code",
   "execution_count": null,
   "metadata": {},
   "outputs": [],
   "source": [
    "dataset = KIWI_RUNS()\n",
    "ts = dataset.timeseries.astype(float)"
   ]
  },
  {
   "cell_type": "code",
   "execution_count": null,
   "metadata": {},
   "outputs": [],
   "source": [
    "dataset.value_features.scale"
   ]
  },
  {
   "cell_type": "code",
   "execution_count": null,
   "metadata": {},
   "outputs": [],
   "source": [
    "default_encoders = {\n",
    "    \"percent\": LogitBoxCoxEncoder,\n",
    "    \"linear\": IdentityEncoder,\n",
    "    \"absolute\": BoxCoxEncoder,\n",
    "}"
   ]
  },
  {
   "cell_type": "code",
   "execution_count": null,
   "metadata": {},
   "outputs": [],
   "source": [
    "column_encoders = {}\n",
    "for col in ts:\n",
    "    match dataset.value_features.scale[col]:\n",
    "        case \"percent\":\n",
    "            column_encoders[col] = LogitBoxCoxEncoder() @ MinMaxScaler(xmin=0, xmax=100)\n",
    "        case \"linear\":\n",
    "            column_encoders[col] = IdentityEncoder()\n",
    "        case \"absolute\":\n",
    "            column_encoders[col] = BoxCoxEncoder()\n",
    "\n",
    "column_encoders"
   ]
  },
  {
   "cell_type": "markdown",
   "metadata": {},
   "source": [
    "# Encoder Demo"
   ]
  },
  {
   "cell_type": "code",
   "execution_count": null,
   "metadata": {},
   "outputs": [],
   "source": [
    "enc = Standardizer() @ FrameEncoder(\n",
    "    column_encoders,\n",
    "    index_encoders={\n",
    "        \"run_id\": IdentityEncoder(),\n",
    "        \"exp_id\": IdentityEncoder(),\n",
    "        \"measurement_time\": MinMaxScaler() @ TimeDeltaEncoder(),\n",
    "    },\n",
    ")\n",
    "enc.fit(ts)"
   ]
  },
  {
   "cell_type": "code",
   "execution_count": null,
   "metadata": {},
   "outputs": [],
   "source": [
    "%matplotlib inline\n",
    "ts.hist(figsize=(16, 6), layout=(3, 5), bins=20);"
   ]
  },
  {
   "cell_type": "code",
   "execution_count": null,
   "metadata": {},
   "outputs": [],
   "source": [
    "%matplotlib inline\n",
    "encoded = enc.encode(ts)\n",
    "encoded.hist(figsize=(16, 6), layout=(3, 5), bins=20);"
   ]
  },
  {
   "cell_type": "code",
   "execution_count": null,
   "metadata": {},
   "outputs": [],
   "source": [
    "decoded = enc.decode(encoded)\n",
    "((decoded - ts) ** 2).mean()"
   ]
  },
  {
   "cell_type": "code",
   "execution_count": null,
   "metadata": {},
   "outputs": [],
   "source": [
    "decoded"
   ]
  },
  {
   "cell_type": "markdown",
   "metadata": {},
   "source": [
    "## Encoder COmplete"
   ]
  },
  {
   "cell_type": "code",
   "execution_count": null,
   "metadata": {},
   "outputs": [],
   "source": [
    "enc = (\n",
    "    Frame2Tensor(\n",
    "        groups={\n",
    "            \"i\": [\"run_id\", \"exp_id\"],\n",
    "            \"t\": [\"measurement_time\"],\n",
    "            \"x\": ...,\n",
    "        }\n",
    "    )\n",
    "    @ Standardizer()\n",
    "    @ FrameEncoder(\n",
    "        column_encoders,\n",
    "        index_encoders={\n",
    "            \"run_id\": IdentityEncoder(),\n",
    "            \"exp_id\": IdentityEncoder(),\n",
    "            \"measurement_time\": MinMaxScaler() @ TimeDeltaEncoder(),\n",
    "        },\n",
    "    )\n",
    ")\n",
    "enc.fit(ts)"
   ]
  },
  {
   "cell_type": "code",
   "execution_count": null,
   "metadata": {},
   "outputs": [],
   "source": [
    "encoded = enc.encode(ts)"
   ]
  },
  {
   "cell_type": "code",
   "execution_count": null,
   "metadata": {},
   "outputs": [],
   "source": [
    "self = enc[0]"
   ]
  },
  {
   "cell_type": "code",
   "execution_count": null,
   "metadata": {},
   "outputs": [],
   "source": [
    "data = encoded"
   ]
  },
  {
   "cell_type": "code",
   "execution_count": null,
   "metadata": {},
   "outputs": [],
   "source": [
    "self.original_index_columns"
   ]
  },
  {
   "cell_type": "code",
   "execution_count": null,
   "metadata": {},
   "outputs": [],
   "source": [
    "dfs = []\n",
    "for key, tensor in data.items():\n",
    "    tensor = tensor.clone().detach().cpu()\n",
    "    cols = self.groups[key]\n",
    "    df = pd.DataFrame(tensor, columns=cols).astype(self.original_dtypes[cols])\n",
    "    dfs.append(df)\n",
    "\n",
    "df = pd.concat(dfs, axis=\"columns\")\n",
    "df = df.astype(self.original_dtypes)\n",
    "df = df[self.original_columns]\n",
    "df = df.set_index(list(self.original_index_columns))"
   ]
  },
  {
   "cell_type": "code",
   "execution_count": null,
   "metadata": {},
   "outputs": [],
   "source": [
    "decoded = enc.decode(encoded)"
   ]
  },
  {
   "cell_type": "code",
   "execution_count": null,
   "metadata": {},
   "outputs": [],
   "source": []
  }
 ],
 "metadata": {
  "kernelspec": {
   "display_name": "Python 3 (ipykernel)",
   "language": "python",
   "name": "python3"
  },
  "language_info": {
   "codemirror_mode": {
    "name": "ipython",
    "version": 3
   },
   "file_extension": ".py",
   "mimetype": "text/x-python",
   "name": "python",
   "nbconvert_exporter": "python",
   "pygments_lexer": "ipython3",
   "version": "3.10.6"
  }
 },
 "nbformat": 4,
 "nbformat_minor": 4
}
