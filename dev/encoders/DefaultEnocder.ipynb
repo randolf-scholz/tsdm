{
 "cells": [
  {
   "cell_type": "code",
   "execution_count": null,
   "metadata": {},
   "source": [
    "%config InteractiveShell.ast_node_interactivity='last_expr_or_assign'  # always print last expr."
   ],
   "outputs": []
  },
  {
   "cell_type": "code",
   "execution_count": null,
   "metadata": {},
   "source": [
    "from tsdm.datasets import KIWI_RUNS\n",
    "from tsdm.encoders import *"
   ],
   "outputs": []
  },
  {
   "cell_type": "code",
   "execution_count": null,
   "metadata": {},
   "source": [
    "dataset = KIWI_RUNS()\n",
    "ts = dataset.timeseries.astype(float)"
   ],
   "outputs": []
  },
  {
   "cell_type": "code",
   "execution_count": null,
   "metadata": {},
   "source": [
    "column_encoders = {}\n",
    "for col in ts:\n",
    "    match dataset.value_features.scale[col]:\n",
    "        case \"percent\":\n",
    "            column_encoders[col] = LogitBoxCoxEncoder() @ MinMaxScaler(xmin=0, xmax=100)\n",
    "        case \"linear\":\n",
    "            column_encoders[col] = IdentityEncoder()\n",
    "        case \"absolute\":\n",
    "            column_encoders[col] = BoxCoxEncoder()\n",
    "\n",
    "column_encoders"
   ],
   "outputs": []
  },
  {
   "cell_type": "markdown",
   "metadata": {},
   "source": [
    "# Encoder Demo"
   ]
  },
  {
   "cell_type": "code",
   "execution_count": null,
   "metadata": {},
   "source": [
    "enc = Standardizer() @ FrameEncoder(\n",
    "    column_encoders,\n",
    "    index_encoders={\n",
    "        \"run_id\": IdentityEncoder(),\n",
    "        \"experiment_id\": IdentityEncoder(),\n",
    "        \"measurement_time\": MinMaxScaler() @ TimeDeltaEncoder(),\n",
    "    },\n",
    ")\n",
    "enc.fit(ts)"
   ],
   "outputs": []
  },
  {
   "cell_type": "code",
   "execution_count": null,
   "metadata": {},
   "source": [
    "%matplotlib inline\n",
    "ts.hist(figsize=(16, 6), layout=(3, 5), bins=20);"
   ],
   "outputs": []
  },
  {
   "cell_type": "code",
   "execution_count": null,
   "metadata": {},
   "source": [
    "%matplotlib inline\n",
    "encoded = enc.encode(ts)\n",
    "encoded.hist(figsize=(16, 6), layout=(3, 5), bins=20);"
   ],
   "outputs": []
  },
  {
   "cell_type": "code",
   "execution_count": null,
   "metadata": {},
   "source": [
    "decoded = enc.decode(encoded)\n",
    "((decoded - ts) ** 2).mean()"
   ],
   "outputs": []
  },
  {
   "cell_type": "code",
   "execution_count": null,
   "metadata": {},
   "source": [
    "decoded"
   ],
   "outputs": []
  },
  {
   "cell_type": "markdown",
   "metadata": {},
   "source": [
    "## Encoder Complete"
   ]
  },
  {
   "cell_type": "code",
   "execution_count": null,
   "metadata": {},
   "source": [
    "enc = (\n",
    "    Frame2Tensor(\n",
    "        groups={\n",
    "            \"i\": [\"run_id\", \"experiment_id\"],\n",
    "            \"t\": [\"measurement_time\"],\n",
    "            \"x\": ...,\n",
    "        }\n",
    "    )\n",
    "    @ Standardizer()\n",
    "    @ FrameEncoder(\n",
    "        column_encoders,\n",
    "        index_encoders={\n",
    "            \"run_id\": IdentityEncoder(),\n",
    "            \"experiment_id\": IdentityEncoder(),\n",
    "            \"measurement_time\": MinMaxScaler() @ TimeDeltaEncoder(),\n",
    "        },\n",
    "    )\n",
    ")\n",
    "enc.fit(ts)"
   ],
   "outputs": []
  },
  {
   "cell_type": "code",
   "execution_count": null,
   "metadata": {},
   "source": [
    "encoded = enc.encode(ts)"
   ],
   "outputs": []
  },
  {
   "cell_type": "code",
   "execution_count": null,
   "metadata": {},
   "source": [
    "decoded = enc.decode(encoded)"
   ],
   "outputs": []
  }
 ],
 "metadata": {
  "kernelspec": {
   "display_name": "Python 3 (ipykernel)",
   "language": "python",
   "name": "python3"
  },
  "language_info": {
   "codemirror_mode": {
    "name": "ipython",
    "version": 3
   },
   "file_extension": ".py",
   "mimetype": "text/x-python",
   "name": "python",
   "nbconvert_exporter": "python",
   "pygments_lexer": "ipython3",
   "version": "3.10.6"
  }
 },
 "nbformat": 4,
 "nbformat_minor": 4
}
