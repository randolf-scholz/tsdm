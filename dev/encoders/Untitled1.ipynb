{
 "cells": [
  {
   "cell_type": "code",
   "execution_count": null,
   "id": "20191951-beec-414a-b3c6-89dca8277ad2",
   "metadata": {},
   "outputs": [],
   "source": [
    "%config InteractiveShell.ast_node_interactivity='last_expr_or_assign'  # always print last expr.\n",
    "%config InlineBackend.figure_format = 'svg'\n",
    "%load_ext autoreload\n",
    "%autoreload 2\n",
    "%matplotlib inline"
   ]
  },
  {
   "cell_type": "code",
   "execution_count": null,
   "id": "58b7f6d7",
   "metadata": {},
   "outputs": [],
   "source": [
    "import tsdm"
   ]
  },
  {
   "cell_type": "code",
   "execution_count": null,
   "id": "d695b42b",
   "metadata": {},
   "outputs": [],
   "source": [
    "ds = tsdm.datasets.KIWI_RUNS()"
   ]
  },
  {
   "cell_type": "code",
   "execution_count": null,
   "id": "9cd9d5fd-d2ec-44f2-81d2-80415c2b41a0",
   "metadata": {},
   "outputs": [],
   "source": [
    "from tsdm.encoders.functional import make_masked_format"
   ]
  },
  {
   "cell_type": "code",
   "execution_count": null,
   "id": "eb2b29fd-7a00-4051-bac3-d8ed428d4c1e",
   "metadata": {},
   "outputs": [],
   "source": [
    "ts = ds.timeseries.loc[355, 11722]"
   ]
  },
  {
   "cell_type": "code",
   "execution_count": null,
   "id": "03326779-68b2-492b-9a80-72aff894ffbf",
   "metadata": {},
   "outputs": [],
   "source": [
    "import numpy as np"
   ]
  },
  {
   "cell_type": "code",
   "execution_count": null,
   "id": "8cda6bf6-0ae8-4198-8c4c-e3a29d0e75ac",
   "metadata": {},
   "outputs": [],
   "source": [
    "np.zeros(5, dtype=\"datetime64[ns]\")"
   ]
  },
  {
   "cell_type": "code",
   "execution_count": null,
   "id": "47c960c0-f14b-4514-bf08-00d8542891db",
   "metadata": {},
   "outputs": [],
   "source": [
    "x, m, d = make_masked_format(ts)"
   ]
  },
  {
   "cell_type": "code",
   "execution_count": null,
   "id": "d9a1f96a-139b-4329-a39b-a8d67ed2cefd",
   "metadata": {},
   "outputs": [],
   "source": [
    "d"
   ]
  },
  {
   "cell_type": "code",
   "execution_count": null,
   "id": "1543fa1e-f50c-4fc0-855e-e8918a85db51",
   "metadata": {},
   "outputs": [],
   "source": []
  },
  {
   "cell_type": "code",
   "execution_count": null,
   "id": "06921e57-19e8-468a-8616-e0f09c4c8cb6",
   "metadata": {},
   "outputs": [],
   "source": []
  }
 ],
 "metadata": {
  "kernelspec": {
   "display_name": "Python 3 (ipykernel)",
   "language": "python",
   "name": "python3"
  },
  "language_info": {
   "codemirror_mode": {
    "name": "ipython",
    "version": 3
   },
   "file_extension": ".py",
   "mimetype": "text/x-python",
   "name": "python",
   "nbconvert_exporter": "python",
   "pygments_lexer": "ipython3",
   "version": "3.9.10"
  }
 },
 "nbformat": 4,
 "nbformat_minor": 5
}
