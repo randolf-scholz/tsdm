{
 "cells": [
  {
   "cell_type": "markdown",
   "metadata": {},
   "source": [
    "# Title"
   ]
  },
  {
   "cell_type": "code",
   "execution_count": null,
   "metadata": {},
   "outputs": [],
   "source": [
    "%config InteractiveShell.ast_node_interactivity='last_expr_or_assign'  # always print last expr.\n",
    "%config InlineBackend.figure_format = 'svg'\n",
    "%load_ext autoreload\n",
    "%autoreload 2\n",
    "%matplotlib inline"
   ]
  },
  {
   "cell_type": "code",
   "execution_count": null,
   "metadata": {},
   "outputs": [],
   "source": [
    "from collections import defaultdict\n",
    "from typing import Any, Optional, Union\n",
    "\n",
    "import numpy as np\n",
    "import pandas.api.types\n",
    "import torch\n",
    "from pandas import NA, DataFrame, Index, MultiIndex, Series"
   ]
  },
  {
   "cell_type": "code",
   "execution_count": null,
   "metadata": {},
   "outputs": [],
   "source": [
    "from tsdm.datasets import ETTh1\n",
    "\n",
    "ds = ETTh1.dataset"
   ]
  },
  {
   "cell_type": "markdown",
   "metadata": {},
   "source": [
    "## Standardizer"
   ]
  },
  {
   "cell_type": "code",
   "execution_count": null,
   "metadata": {},
   "outputs": [],
   "source": [
    "from tsdm.encoders import Standardizer\n",
    "\n",
    "encoder = Standardizer()\n",
    "encoder.fit(ds)\n",
    "encoded = encoder.encode(ds)"
   ]
  },
  {
   "cell_type": "code",
   "execution_count": null,
   "metadata": {},
   "outputs": [],
   "source": [
    "decoded = encoder.decode(ds)"
   ]
  },
  {
   "cell_type": "markdown",
   "metadata": {},
   "source": [
    "## ChainedEncoder"
   ]
  },
  {
   "cell_type": "code",
   "execution_count": null,
   "metadata": {},
   "outputs": [],
   "source": [
    "enc = Standardizer() @ Standardizer()"
   ]
  },
  {
   "cell_type": "code",
   "execution_count": null,
   "metadata": {},
   "outputs": [],
   "source": [
    "enc.fit(ds)\n",
    "enc[0].mean, enc[1].mean"
   ]
  },
  {
   "cell_type": "code",
   "execution_count": null,
   "metadata": {},
   "outputs": [],
   "source": [
    "encoder = Standardizer()\n",
    "encoder.fit(ds)\n",
    "encoded = encoder.encode(ds)"
   ]
  },
  {
   "cell_type": "code",
   "execution_count": null,
   "metadata": {},
   "outputs": [],
   "source": [
    "decoded = encoder.decode(ds)"
   ]
  },
  {
   "cell_type": "markdown",
   "metadata": {},
   "source": [
    "## DataFrameEncoder"
   ]
  },
  {
   "cell_type": "code",
   "execution_count": null,
   "metadata": {},
   "outputs": [],
   "source": [
    "DataFrame(ds[\"OT\"]).dtypes"
   ]
  },
  {
   "cell_type": "code",
   "execution_count": null,
   "metadata": {},
   "outputs": [],
   "source": [
    "from tsdm.datasets import ETTh1\n",
    "from tsdm.encoders import DataFrameEncoder, DateTimeEncoder, Standardizer\n",
    "\n",
    "ds = ETTh1.dataset\n",
    "\n",
    "encoderA = Standardizer()\n",
    "encoderB = Standardizer()\n",
    "encoderC = Standardizer()\n",
    "\n",
    "encoders = {\n",
    "    \"HUFL\": encoderA,\n",
    "    \"HULL\": encoderB,\n",
    "    \"MUFL\": encoderA,\n",
    "    \"MULL\": encoderC,\n",
    "    \"LUFL\": encoderB,\n",
    "    \"LULL\": encoderB,\n",
    "    \"OT\": encoderB,\n",
    "}"
   ]
  },
  {
   "cell_type": "code",
   "execution_count": null,
   "metadata": {},
   "outputs": [],
   "source": [
    "e = DataFrameEncoder(encoders, index_encoder=DateTimeEncoder(\"h\"))"
   ]
  },
  {
   "cell_type": "code",
   "execution_count": null,
   "metadata": {
    "tags": []
   },
   "outputs": [],
   "source": [
    "e.fit(ds)\n",
    "encoded = e.encode(ds)\n",
    "decoded = e.decode(encoded)\n",
    "pandas.testing.assert_frame_equal(ds, decoded)"
   ]
  },
  {
   "cell_type": "markdown",
   "metadata": {
    "tags": []
   },
   "source": [
    "### DataFrameEncoder Test Implementation"
   ]
  },
  {
   "cell_type": "code",
   "execution_count": null,
   "metadata": {},
   "outputs": [],
   "source": [
    "from tsdm.encoders import BaseEncoder\n",
    "\n",
    "\n",
    "class DataFrameEncoder:\n",
    "    r\"\"\"Combine multiple encoders into a single one.\n",
    "\n",
    "    It is assumed that the DataFrame Modality doesn't change.\n",
    "    \"\"\"\n",
    "\n",
    "    column_encoder: Union[BaseEncoder, dict[Any, BaseEncoder]]\n",
    "    r\"\"\"Encoders for the columns.\"\"\"\n",
    "    index_encoder: Optional[BaseEncoder] = None\n",
    "    r\"\"\"Optional Encoder for the index.\"\"\"\n",
    "    colspec: list[str] = None\n",
    "    r\"\"\"The columns-specification of the DataFrame.\"\"\"\n",
    "    encode_index: bool\n",
    "    r\"\"\"Whether to encode the index.\"\"\"\n",
    "    column_wise: bool\n",
    "    r\"\"\"Whether to encode column-wise\"\"\"\n",
    "    partitions: Optional[dict] = None\n",
    "    r\"\"\"Contains partitions if used column wise\"\"\"\n",
    "\n",
    "    def __init__(\n",
    "        self,\n",
    "        encoders: Union[BaseEncoder, dict[Any, BaseEncoder]],\n",
    "        *,\n",
    "        index_encoder: Optional[BaseEncoder] = None,\n",
    "    ):\n",
    "        r\"\"\"Set up the individual encoders.\n",
    "\n",
    "        Note: the same encoder instance can be used for multiple columns.\n",
    "\n",
    "        Parameters\n",
    "        ----------\n",
    "        encoders\n",
    "        index_encoder\n",
    "        \"\"\"\n",
    "        super().__init__()\n",
    "        self.column_encoder = encoders\n",
    "        self.index_encoder = index_encoder\n",
    "        self.column_wise: bool = isinstance(self.column_encoder, dict)\n",
    "        self.encode_index: bool = index_encoder is not None\n",
    "\n",
    "        if self.encode_index:\n",
    "            _idxenc_spec = {\n",
    "                \"col\": NA,\n",
    "                \"encoder\": self.index_encoder,\n",
    "                \"dim_in\": NA,\n",
    "                \"dim_out\": NA,\n",
    "            }\n",
    "            idxenc_spec = DataFrame.from_records(\n",
    "                _idxenc_spec, index=Index([NA], name=\"partition\")\n",
    "            )\n",
    "        else:\n",
    "            idxenc_spec = DataFrame(\n",
    "                columns=[\"col\", \"encoder\", \"dim_in\", \"dim_out\"],\n",
    "                index=Index([], name=\"partition\"),\n",
    "            )\n",
    "\n",
    "        if not self.column_wise:\n",
    "            _colenc_spec = {\n",
    "                \"col\": NA,\n",
    "                \"encoder\": self.column_encoder,\n",
    "                \"dim_in\": NA,\n",
    "                \"dim_out\": NA,\n",
    "            }\n",
    "            colenc_spec = DataFrame.from_records(\n",
    "                _colenc_spec, index=Index([0], name=\"partition\")\n",
    "            )\n",
    "        else:\n",
    "            keys = self.column_encoder.keys()\n",
    "            assert len(set(keys)) == len(keys), \"Some keys are duplicates!\"\n",
    "\n",
    "            _encoders = tuple(set(self.column_encoder.values()))\n",
    "            encoders = Series(_encoders, name=\"encoder\")\n",
    "            partitions = Series(range(len(_encoders)), name=\"partition\")\n",
    "\n",
    "            _columns = defaultdict(list)\n",
    "            for key, encoder in self.column_encoder.items():\n",
    "                _columns[encoder].append(key)\n",
    "\n",
    "            columns = Series(_columns, name=\"col\")\n",
    "\n",
    "            colenc_spec = DataFrame(encoders, index=partitions)\n",
    "            colenc_spec = colenc_spec.join(columns, on=\"encoder\")\n",
    "            colenc_spec[\"dim_in\"] = colenc_spec[\"col\"].apply(len)\n",
    "            colenc_spec[\"dim_out\"] = pandas.NA\n",
    "\n",
    "        self.spec = pandas.concat(\n",
    "            [idxenc_spec, colenc_spec],\n",
    "            keys=[\"index\", \"columns\"],\n",
    "            names=[\"section\", \"partition\"],\n",
    "        )"
   ]
  },
  {
   "cell_type": "code",
   "execution_count": null,
   "metadata": {},
   "outputs": [],
   "source": [
    "e = DataFrameEncoder(encoders, index_encoder=Standardizer())\n",
    "e.spec"
   ]
  },
  {
   "cell_type": "code",
   "execution_count": null,
   "metadata": {},
   "outputs": [],
   "source": [
    "e.spec.loc[\"index\", \"dim_out\"] = 3\n",
    "torch.randn(3, 4, 5)[..., e.spec.loc[\"index\", \"dim_out\"].item()].shape"
   ]
  },
  {
   "cell_type": "code",
   "execution_count": null,
   "metadata": {},
   "outputs": [],
   "source": [
    "e.spec.loc[\"index\", \"dim_out\"].item()"
   ]
  },
  {
   "cell_type": "code",
   "execution_count": null,
   "metadata": {},
   "outputs": [],
   "source": [
    "torch.Tensor(ds.values).nanmean(axis=None)"
   ]
  },
  {
   "cell_type": "code",
   "execution_count": null,
   "metadata": {},
   "outputs": [],
   "source": [
    "torch.mean(torch.tensor([float(\"nan\"), 2]))"
   ]
  },
  {
   "cell_type": "code",
   "execution_count": null,
   "metadata": {},
   "outputs": [],
   "source": [
    "np.nanstd"
   ]
  },
  {
   "cell_type": "code",
   "execution_count": null,
   "metadata": {},
   "outputs": [],
   "source": [
    "torch.nanmean(torch.Tensor(ds.values), dim=None)"
   ]
  },
  {
   "cell_type": "code",
   "execution_count": null,
   "metadata": {},
   "outputs": [],
   "source": [
    "torch.Tensor(ds.values).nanmean(dim=None)"
   ]
  },
  {
   "cell_type": "code",
   "execution_count": null,
   "metadata": {},
   "outputs": [],
   "source": [
    "ds[\"OT\"].mean()"
   ]
  },
  {
   "cell_type": "code",
   "execution_count": null,
   "metadata": {},
   "outputs": [],
   "source": [
    "indexenc = DataFrame.from_records(\n",
    "    {\"Encoders\": object(), \"dim_in\": 1, \"dim_out\": 5}, index=Index([0])\n",
    ")"
   ]
  },
  {
   "cell_type": "code",
   "execution_count": null,
   "metadata": {},
   "outputs": [],
   "source": [
    "DataFrame.from_dict({\"Encoders\": object(), \"dim_in\": 1, \"dim_out\": 5}, orient=\"index\").T"
   ]
  },
  {
   "cell_type": "code",
   "execution_count": null,
   "metadata": {},
   "outputs": [],
   "source": [
    "pandas.concat(\n",
    "    [indexenc, e.spec], keys=[\"index\", \"columns\"], names=[\"section\", \"partiton\"]\n",
    ")"
   ]
  },
  {
   "cell_type": "code",
   "execution_count": null,
   "metadata": {},
   "outputs": [],
   "source": [
    "idx = MultiIndex(\n",
    "    levels=[[\"index\", \"columns\"], []], codes=[[], []], names=[\"section\", \"partition\"]\n",
    ")"
   ]
  },
  {
   "cell_type": "code",
   "execution_count": null,
   "metadata": {},
   "outputs": [],
   "source": [
    "spec = DataFrame(\n",
    "    columns=[\"col\", \"encoder\", \"dim_in\", \"dim_out\"],\n",
    "    index=Index([], name=\"partition\"),\n",
    "    # index=MultiIndex(\n",
    "    #     levels=[[\"index\", \"columns\"], []],\n",
    "    #     codes=[[], []],\n",
    "    #     names=[\"section\", \"partition\"],\n",
    "    # ),\n",
    ")"
   ]
  },
  {
   "cell_type": "code",
   "execution_count": null,
   "metadata": {},
   "outputs": [],
   "source": [
    "_index_encoder_spec = {\n",
    "    \"col\": NA,\n",
    "    \"encoder\": object(),\n",
    "    \"dim_in\": NA,\n",
    "    \"dim_out\": NA,\n",
    "}\n",
    "index_encoder_spec = DataFrame.from_records(\n",
    "    _index_encoder_spec, index=Index([0], name=\"partition\")\n",
    ")"
   ]
  },
  {
   "cell_type": "markdown",
   "metadata": {},
   "source": [
    "## Concat Encoder"
   ]
  },
  {
   "cell_type": "markdown",
   "metadata": {},
   "source": [
    "## Time2Float"
   ]
  },
  {
   "cell_type": "markdown",
   "metadata": {},
   "source": [
    "## DateTimeEncoder"
   ]
  },
  {
   "cell_type": "code",
   "execution_count": null,
   "metadata": {},
   "outputs": [],
   "source": []
  },
  {
   "cell_type": "markdown",
   "metadata": {},
   "source": [
    "### Combined"
   ]
  },
  {
   "cell_type": "code",
   "execution_count": null,
   "metadata": {},
   "outputs": [],
   "source": [
    "from tsdm.encoders import (\n",
    "    DataFrameEncoder,\n",
    "    DateTimeEncoder,\n",
    "    FloatEncoder,\n",
    "    Standardizer,\n",
    "    TensorEncoder,\n",
    ")"
   ]
  },
  {
   "cell_type": "code",
   "execution_count": null,
   "metadata": {},
   "outputs": [],
   "source": [
    "df_encoder = DataFrameEncoder(\n",
    "    (Standardizer() @ FloatEncoder()), index_encoder=DateTimeEncoder()\n",
    ")\n",
    "\n",
    "Tensorizer = TensorEncoder()\n",
    "\n",
    "encoder = TensorEncoder() @ df_encoder"
   ]
  },
  {
   "cell_type": "code",
   "execution_count": null,
   "metadata": {},
   "outputs": [],
   "source": [
    "from tsdm.datasets import ETTh1\n",
    "\n",
    "ds = ETTh1.dataset"
   ]
  },
  {
   "cell_type": "code",
   "execution_count": null,
   "metadata": {},
   "outputs": [],
   "source": [
    "enc = Standardizer() @ FloatEncoder()\n",
    "enc.fit(ds)"
   ]
  },
  {
   "cell_type": "code",
   "execution_count": null,
   "metadata": {},
   "outputs": [],
   "source": [
    "enc.encode(ds)"
   ]
  },
  {
   "cell_type": "code",
   "execution_count": null,
   "metadata": {},
   "outputs": [],
   "source": [
    "encoder.fit(ds)"
   ]
  },
  {
   "cell_type": "code",
   "execution_count": null,
   "metadata": {},
   "outputs": [],
   "source": [
    "encoded = encoder.encode(ds)"
   ]
  },
  {
   "cell_type": "code",
   "execution_count": null,
   "metadata": {},
   "outputs": [],
   "source": [
    "decoded = encoder.decode(encoded)"
   ]
  },
  {
   "cell_type": "code",
   "execution_count": null,
   "metadata": {},
   "outputs": [],
   "source": [
    "modified = encoded[0] * 2, encoded[1] + 1\n",
    "encoder.decode(modified)"
   ]
  },
  {
   "cell_type": "code",
   "execution_count": null,
   "metadata": {},
   "outputs": [],
   "source": []
  }
 ],
 "metadata": {
  "kernelspec": {
   "display_name": "Python 3 (ipykernel)",
   "language": "python",
   "name": "python3"
  },
  "language_info": {
   "codemirror_mode": {
    "name": "ipython",
    "version": 3
   },
   "file_extension": ".py",
   "mimetype": "text/x-python",
   "name": "python",
   "nbconvert_exporter": "python",
   "pygments_lexer": "ipython3",
   "version": "3.9.10"
  }
 },
 "nbformat": 4,
 "nbformat_minor": 4
}
