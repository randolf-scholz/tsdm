{
 "cells": [
  {
   "cell_type": "markdown",
   "metadata": {},
   "source": [
    "# New Implementation of DataFrameEncoder\n",
    "\n",
    "\n",
    "This time, this class will not be responsible for any splitting purposes.\n",
    "Instead, it will purely act as a column-wise / group-wise transformation."
   ]
  },
  {
   "cell_type": "code",
   "execution_count": 1,
   "metadata": {},
   "outputs": [],
   "source": [
    "%config InteractiveShell.ast_node_interactivity='last_expr_or_assign'  # always print last expr.\n",
    "%config InlineBackend.figure_format = 'svg'\n",
    "%load_ext autoreload\n",
    "%autoreload 2\n",
    "%matplotlib inline\n",
    "\n",
    "import logging\n",
    "logging.basicConfig(level=logging.INFO)"
   ]
  },
  {
   "cell_type": "code",
   "execution_count": 2,
   "metadata": {},
   "outputs": [],
   "source": [
    "import numpy as np\n",
    "import matplotlib.pyplot as plt\n",
    "import logging\n",
    "from abc import ABC, abstractmethod\n",
    "from collections import defaultdict, namedtuple\n",
    "from collections.abc import Callable, Iterable, Mapping, Sequence\n",
    "from functools import singledispatchmethod\n",
    "from typing import Any, Final, Literal, Optional, Union, overload\n",
    "\n",
    "import numpy as np\n",
    "import pandas as pd\n",
    "import pandas.api.types\n",
    "import torch\n",
    "from pandas import NA, DataFrame, DatetimeIndex, Index, Series, Timedelta, Timestamp, MultiIndex\n",
    "from torch import Tensor\n",
    "\n",
    "from tsdm.datasets import TimeTensor\n",
    "from tsdm.util.types import PathType\n",
    "from tsdm.encoders.modular import BaseEncoder\n",
    "np.set_printoptions(precision=4, floatmode='fixed', suppress=True)\n",
    "rng = np.random.default_rng()"
   ]
  },
  {
   "cell_type": "code",
   "execution_count": null,
   "metadata": {},
   "outputs": [],
   "source": [
    "class FrameEncoder(BaseEncoder):\n",
    "    \n",
    "    def __init__(self, data) -> None:\n",
    "        super().__init__()\n",
    "        \n",
    "    def fit(self, data) -> None:\n",
    "        ...\n",
    "        \n",
    "        \n",
    "    def encode(self, data: DataFrame) -> DataFrame:\n",
    "        ...\n",
    "        \n",
    "        \n",
    "    def decode(self, data: DataFrame) -> DataFrame:\n",
    "        ..."
   ]
  }
 ],
 "metadata": {
  "kernelspec": {
   "display_name": "Python 3 (ipykernel)",
   "language": "python",
   "name": "python3"
  },
  "language_info": {
   "codemirror_mode": {
    "name": "ipython",
    "version": 3
   },
   "file_extension": ".py",
   "mimetype": "text/x-python",
   "name": "python",
   "nbconvert_exporter": "python",
   "pygments_lexer": "ipython3",
   "version": "3.9.10"
  }
 },
 "nbformat": 4,
 "nbformat_minor": 4
}
