{
 "cells": [
  {
   "cell_type": "markdown",
   "metadata": {},
   "source": [
    "# TripletDecoder = Inverse of TripletEncoder"
   ]
  },
  {
   "cell_type": "code",
   "execution_count": null,
   "metadata": {},
   "outputs": [],
   "source": [
    "%config InteractiveShell.ast_node_interactivity='last_expr_or_assign'  # always print last expr.\n",
    "%config InlineBackend.figure_format = 'svg'\n",
    "%load_ext autoreload\n",
    "%autoreload 2\n",
    "%matplotlib inline\n",
    "\n",
    "import logging\n",
    "\n",
    "logging.basicConfig(level=logging.INFO)"
   ]
  },
  {
   "cell_type": "code",
   "execution_count": null,
   "metadata": {},
   "outputs": [],
   "source": [
    "from pandas.testing import assert_frame_equal\n",
    "\n",
    "from tsdm.datasets import MIMIC_III, Electricity\n",
    "from tsdm.encoders import TripletDecoder, TripletEncoder"
   ]
  },
  {
   "cell_type": "markdown",
   "metadata": {},
   "source": [
    "## Test on MIMIC"
   ]
  },
  {
   "cell_type": "code",
   "execution_count": null,
   "metadata": {},
   "outputs": [],
   "source": [
    "ds = MIMIC_III()\n",
    "ts = ds.observations.set_index([\"UNIQUE_ID\", \"TIME_STAMP\"])"
   ]
  },
  {
   "cell_type": "code",
   "execution_count": null,
   "metadata": {},
   "outputs": [],
   "source": [
    "decoder = TripletDecoder(value_name=\"VALUENORM\")\n",
    "decoder.fit(ts)\n",
    "decoded = decoder.encode(ts)"
   ]
  },
  {
   "cell_type": "code",
   "execution_count": null,
   "metadata": {},
   "outputs": [],
   "source": [
    "restored = decoder.decode(decoded)\n",
    "restored = restored.set_index(\"LABEL_CODE\", append=True).sort_index(\n",
    "    level=[\"UNIQUE_ID\", \"TIME_STAMP\", \"LABEL_CODE\"]\n",
    ")\n",
    "original = ts.set_index(\"LABEL_CODE\", append=True).sort_index(\n",
    "    level=[\"UNIQUE_ID\", \"TIME_STAMP\", \"LABEL_CODE\"]\n",
    ")\n",
    "assert_frame_equal(original, restored)"
   ]
  },
  {
   "cell_type": "markdown",
   "metadata": {},
   "source": [
    "## Test on Electricity"
   ]
  },
  {
   "cell_type": "code",
   "execution_count": null,
   "metadata": {},
   "outputs": [],
   "source": [
    "ds = Electricity()\n",
    "ts = ds.dataset"
   ]
  },
  {
   "cell_type": "markdown",
   "metadata": {},
   "source": [
    "### Sparse"
   ]
  },
  {
   "cell_type": "code",
   "execution_count": null,
   "metadata": {},
   "outputs": [],
   "source": [
    "encoder = TripletEncoder(sparse=True)\n",
    "encoder.fit(ts)\n",
    "encoded = encoder.encode(ts[:100])"
   ]
  },
  {
   "cell_type": "code",
   "execution_count": null,
   "metadata": {},
   "outputs": [],
   "source": [
    "decoder = TripletDecoder(sparse=True, value_name=\"value\")\n",
    "decoder.fit(encoded)\n",
    "decoded = decoder.encode(encoded)"
   ]
  },
  {
   "cell_type": "code",
   "execution_count": null,
   "metadata": {},
   "outputs": [],
   "source": [
    "restored = decoder.decode(decoded)\n",
    "assert_frame_equal(encoded, restored)"
   ]
  },
  {
   "cell_type": "markdown",
   "metadata": {},
   "source": [
    "## Non-Sparse"
   ]
  },
  {
   "cell_type": "code",
   "execution_count": null,
   "metadata": {},
   "outputs": [],
   "source": [
    "encoder = TripletEncoder(sparse=False)\n",
    "encoder.fit(ts)\n",
    "encoded = encoder.encode(ts[:100])"
   ]
  },
  {
   "cell_type": "code",
   "execution_count": null,
   "metadata": {},
   "outputs": [],
   "source": [
    "decoder = TripletDecoder(sparse=False, value_name=\"value\")\n",
    "decoder.fit(encoded)\n",
    "decoded = decoder.encode(encoded)"
   ]
  },
  {
   "cell_type": "code",
   "execution_count": null,
   "metadata": {},
   "outputs": [],
   "source": [
    "restored = decoder.decode(decoded)\n",
    "assert_frame_equal(encoded, restored)"
   ]
  },
  {
   "cell_type": "code",
   "execution_count": null,
   "metadata": {},
   "outputs": [],
   "source": []
  }
 ],
 "metadata": {
  "kernelspec": {
   "display_name": "Python 3 (ipykernel)",
   "language": "python",
   "name": "python3"
  },
  "language_info": {
   "codemirror_mode": {
    "name": "ipython",
    "version": 3
   },
   "file_extension": ".py",
   "mimetype": "text/x-python",
   "name": "python",
   "nbconvert_exporter": "python",
   "pygments_lexer": "ipython3",
   "version": "3.9.12"
  }
 },
 "nbformat": 4,
 "nbformat_minor": 4
}
