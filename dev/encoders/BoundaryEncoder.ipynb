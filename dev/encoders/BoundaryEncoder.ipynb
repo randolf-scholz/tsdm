{
 "cells": [
  {
   "cell_type": "code",
   "execution_count": null,
   "metadata": {},
   "outputs": [],
   "source": [
    "class BoundaryEncoder(BaseEncoder):\n",
    "    r\"\"\"Encodes data by clipping to boundary Value\"\"\"\n",
    "    \n",
    "    mode: Literal[\"mask\", \"clip\"]\n",
    "    \n",
    "    \n",
    "    def __init__(self, lower, upper, *, mode: Literal[\"mask\", \"clip\"] = \"mask\") -> None:\n",
    "        super().__init__()\n",
    "        self.mode = mode\n",
    "        self.lower = lower\n",
    "        self.upper = upper\n",
    "\n",
    "    def encode(self):\n",
    "    \n",
    "    \n",
    "    \n",
    "    \n",
    "    "
   ]
  },
  {
   "cell_type": "code",
   "execution_count": null,
   "metadata": {},
   "outputs": [],
   "source": []
  },
  {
   "cell_type": "code",
   "execution_count": null,
   "metadata": {},
   "outputs": [],
   "source": []
  }
 ],
 "metadata": {
  "kernelspec": {
   "display_name": "Python 3 (ipykernel)",
   "language": "python",
   "name": "python3"
  },
  "language_info": {
   "codemirror_mode": {
    "name": "ipython",
    "version": 3
   },
   "file_extension": ".py",
   "mimetype": "text/x-python",
   "name": "python",
   "nbconvert_exporter": "python",
   "pygments_lexer": "ipython3",
   "version": "3.10.6"
  }
 },
 "nbformat": 4,
 "nbformat_minor": 4
}
