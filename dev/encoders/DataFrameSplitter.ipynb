{
 "cells": [
  {
   "cell_type": "markdown",
   "metadata": {},
   "source": [
    "# DataFrameSplitter\n",
    "\n",
    "This Encoder splits a DataFrame into multiple DataFrames / Series\n"
   ]
  },
  {
   "cell_type": "code",
   "execution_count": null,
   "metadata": {},
   "outputs": [],
   "source": [
    "%config InteractiveShell.ast_node_interactivity='last_expr_or_assign'  # always print last expr.\n",
    "%config InlineBackend.figure_format = 'svg'\n",
    "%load_ext autoreload\n",
    "%autoreload 2\n",
    "%matplotlib inline\n",
    "\n",
    "# import logging\n",
    "# logging.basicConfig(level=logging.INFO)"
   ]
  },
  {
   "cell_type": "code",
   "execution_count": null,
   "metadata": {},
   "outputs": [],
   "source": [
    "import numpy as np\n",
    "import pandas as pd\n",
    "from pandas import *\n",
    "\n",
    "np.set_printoptions(precision=4, floatmode=\"fixed\", suppress=True)\n",
    "rng = np.random.default_rng()"
   ]
  },
  {
   "cell_type": "code",
   "execution_count": null,
   "metadata": {},
   "outputs": [],
   "source": [
    "from tsdm.encoders import *\n",
    "from tsdm.tasks import KIWI_FINAL_PRODUCT\n",
    "\n",
    "task = KIWI_FINAL_PRODUCT()\n",
    "ts = task.timeseries.sort_index(axis=\"index\").sort_index(axis=\"columns\")"
   ]
  },
  {
   "cell_type": "code",
   "execution_count": null,
   "metadata": {},
   "outputs": [],
   "source": [
    "channel_freq = pd.notna(ts).mean().sort_values()\n",
    "\n",
    "fast_channels = channel_freq[channel_freq >= 0.1].index\n",
    "slow_channels = channel_freq[channel_freq < 0.1].index\n",
    "FAST = ts[fast_channels].dropna(how=\"all\")\n",
    "SLOW = ts[slow_channels].dropna(how=\"all\")\n",
    "groups = {\"fast\": fast_channels, \"slow\": slow_channels}"
   ]
  },
  {
   "cell_type": "code",
   "execution_count": null,
   "metadata": {},
   "outputs": [],
   "source": [
    "from collections.abc import Iterable, Sequence\n",
    "from typing import Any\n",
    "\n",
    "from pandas import DataFrame, Series"
   ]
  },
  {
   "cell_type": "code",
   "execution_count": null,
   "metadata": {},
   "outputs": [],
   "source": [
    "class DataFrameSplitter(BaseEncoder):\n",
    "    columns: Index\n",
    "    dtypes: Series\n",
    "    groups: dict[Any, Sequence[Any]]\n",
    "\n",
    "    @staticmethod\n",
    "    def _pairwise_disjoint(groups: Iterable[Sequence[Any]]) -> bool:\n",
    "        union: set[HashableType] = set().union(*(set(obj) for obj in groups))\n",
    "        n = sum(len(u) for u in groups)\n",
    "        return n == len(union)\n",
    "\n",
    "    def __init__(self, groups: dict[Any, Sequence[Any]]) -> None:\n",
    "        super().__init__()\n",
    "        self.groups = groups\n",
    "        assert self._pairwise_disjoint(self.groups.values())\n",
    "\n",
    "    def fit(self, data) -> None:\n",
    "        self.columns = data.columns\n",
    "        self.dtypes = data.dtypes\n",
    "\n",
    "    def encode(self, data: DataFrame) -> tuple[DataFrame, ...]:\n",
    "        encoded = []\n",
    "        for group, columns in self.groups.items():\n",
    "            encoded.append(data[columns].dropna(how=\"all\"))\n",
    "        return tuple(encoded)\n",
    "\n",
    "    def decode(self, data: tuple[DataFrame, ...]) -> DataFrame:\n",
    "        decoded = pd.concat(data, axis=\"columns\")\n",
    "        decoded = decoded.astype(self.dtypes)\n",
    "        decoded = decoded[self.columns]\n",
    "        return decoded"
   ]
  },
  {
   "cell_type": "code",
   "execution_count": null,
   "metadata": {},
   "outputs": [],
   "source": [
    "encoder = DataFrameSplitter(groups)\n",
    "encoder.fit(ts)\n",
    "encoded = encoder.encode(ts)\n",
    "decoded = encoder.decode(encoded)\n",
    "pd.testing.assert_frame_equal(ts, decoded)"
   ]
  },
  {
   "cell_type": "code",
   "execution_count": null,
   "metadata": {},
   "outputs": [],
   "source": [
    "encoded"
   ]
  },
  {
   "cell_type": "code",
   "execution_count": null,
   "metadata": {},
   "outputs": [],
   "source": [
    "enc = TripletEncoder()\n",
    "enc.fit(encoded[0])\n",
    "enc.encode(encoded[0])"
   ]
  },
  {
   "cell_type": "code",
   "execution_count": null,
   "metadata": {},
   "outputs": [],
   "source": [
    "encoder = (TripletEncoder() | TripletEncoder()) @ DataFrameSplitter(groups)\n",
    "encoder.fit(ts)\n",
    "encoded = encoder.encode(ts)\n",
    "decoded = encoder.decode(encoded)\n",
    "pd.testing.assert_frame_equal(decoded, ts)"
   ]
  },
  {
   "cell_type": "code",
   "execution_count": null,
   "metadata": {},
   "outputs": [],
   "source": []
  }
 ],
 "metadata": {
  "kernelspec": {
   "display_name": "Python 3 (ipykernel)",
   "language": "python",
   "name": "python3"
  },
  "language_info": {
   "codemirror_mode": {
    "name": "ipython",
    "version": 3
   },
   "file_extension": ".py",
   "mimetype": "text/x-python",
   "name": "python",
   "nbconvert_exporter": "python",
   "pygments_lexer": "ipython3",
   "version": "3.9.10"
  }
 },
 "nbformat": 4,
 "nbformat_minor": 4
}
