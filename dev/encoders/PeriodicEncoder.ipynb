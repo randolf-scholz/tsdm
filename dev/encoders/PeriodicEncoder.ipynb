{
 "cells": [
  {
   "cell_type": "markdown",
   "metadata": {},
   "source": [
    "# Title"
   ]
  },
  {
   "cell_type": "code",
   "execution_count": null,
   "metadata": {},
   "source": [
    "%config InteractiveShell.ast_node_interactivity='last_expr_or_assign'  # always print last expr.\n",
    "%config InlineBackend.figure_format = 'svg'\n",
    "%load_ext autoreload\n",
    "%autoreload 2\n",
    "%matplotlib inline\n",
    "\n",
    "import logging\n",
    "\n",
    "logging.basicConfig(level=logging.INFO)"
   ],
   "outputs": []
  },
  {
   "cell_type": "code",
   "execution_count": null,
   "metadata": {},
   "source": [
    "import numpy as np\n",
    "\n",
    "np.set_printoptions(precision=4, floatmode=\"fixed\", suppress=True)\n",
    "rng = np.random.default_rng()"
   ],
   "outputs": []
  },
  {
   "cell_type": "code",
   "execution_count": null,
   "metadata": {},
   "source": [
    "from tsdm.datasets import Electricity\n",
    "\n",
    "ds = Electricity()"
   ],
   "outputs": []
  },
  {
   "cell_type": "code",
   "execution_count": null,
   "metadata": {},
   "source": [
    "dt = ds.index"
   ],
   "outputs": []
  },
  {
   "cell_type": "code",
   "execution_count": null,
   "metadata": {},
   "source": [
    "[dt.year, dt.month, dt.day, dt.hour, dt.minute, dt.second, dt.weekday]"
   ],
   "outputs": []
  },
  {
   "cell_type": "markdown",
   "metadata": {},
   "source": [
    "## PeriodicEncoder\n",
    "\n",
    "convert a periodic integer / float variable to sin/cos waves.\n",
    "It is assumed that the variables takes values 1...N or 0...N-1\n"
   ]
  },
  {
   "cell_type": "code",
   "execution_count": null,
   "metadata": {},
   "source": [
    "from typing import Optional\n",
    "\n",
    "import numpy as np\n",
    "from pandas import DataFrame, Series\n",
    "\n",
    "\n",
    "class PeriodicEncoder:\n",
    "    def __init__(self, period: Optional[int] = None) -> None:\n",
    "        super().__init__()\n",
    "        self.period = period\n",
    "\n",
    "    def fit(self, x) -> None:\n",
    "        self.period = x.max() + 1\n",
    "        self.freq = 2 * np.pi / self.period\n",
    "        self.dtypes = x.dtypes\n",
    "        self.colname = x.name\n",
    "\n",
    "    def encode(self, x: Series) -> DataFrame:\n",
    "        x = self.freq * (x % self.period)  # ensure 0...N-1\n",
    "        return DataFrame(\n",
    "            np.stack([np.cos(x), np.sin(x)]).T,\n",
    "            columns=[f\"cos_{self.colname}\", f\"sin_{self.colname}\"],\n",
    "        )\n",
    "\n",
    "    def decode(self, x: DataFrame) -> Series:\n",
    "        x = np.arctan2(x[f\"sin_{self.colname}\"], x[f\"cos_{self.colname}\"])\n",
    "        x = (x / self.freq) % self.period\n",
    "        return x"
   ],
   "outputs": []
  },
  {
   "cell_type": "code",
   "execution_count": null,
   "metadata": {},
   "source": [
    "encoder = PeriodicEncoder()\n",
    "original = dt.weekday.to_series()"
   ],
   "outputs": []
  },
  {
   "cell_type": "code",
   "execution_count": null,
   "metadata": {},
   "source": [
    "encoder.fit(original)\n",
    "encoded = encoder.encode(original)\n",
    "decoded = encoder.decode(encoded)"
   ],
   "outputs": []
  },
  {
   "cell_type": "code",
   "execution_count": null,
   "metadata": {},
   "source": [
    "dt.weekday.to_series()"
   ],
   "outputs": []
  },
  {
   "cell_type": "code",
   "execution_count": null,
   "metadata": {},
   "source": [
    "import pandas as pd\n",
    "\n",
    "df = pd.DataFrame(np.array([dt.weekday, dt.day]).T, columns=[\"weekday\", \"day\"])"
   ],
   "outputs": []
  },
  {
   "cell_type": "code",
   "execution_count": null,
   "metadata": {},
   "source": [],
   "outputs": []
  },
  {
   "cell_type": "code",
   "execution_count": null,
   "metadata": {},
   "source": [],
   "outputs": []
  },
  {
   "cell_type": "code",
   "execution_count": null,
   "metadata": {},
   "source": [
    "from tsdm.encoders import FrameEncoder"
   ],
   "outputs": []
  },
  {
   "cell_type": "code",
   "execution_count": null,
   "metadata": {},
   "source": [
    "enc = FrameEncoder(\n",
    "    column_encoders={\"weekday\": PeriodicEncoder(), \"day\": PeriodicEncoder()}\n",
    ")\n",
    "enc.fit(df)"
   ],
   "outputs": []
  },
  {
   "cell_type": "code",
   "execution_count": null,
   "metadata": {},
   "source": [
    "encoded = enc.encode(df)\n",
    "decoded = enc.decode(encoded)"
   ],
   "outputs": []
  },
  {
   "cell_type": "code",
   "execution_count": null,
   "metadata": {},
   "source": [],
   "outputs": []
  },
  {
   "cell_type": "code",
   "execution_count": null,
   "metadata": {},
   "source": [],
   "outputs": []
  },
  {
   "cell_type": "code",
   "execution_count": null,
   "metadata": {},
   "source": [
    "dir(dt)"
   ],
   "outputs": []
  },
  {
   "cell_type": "code",
   "execution_count": null,
   "metadata": {},
   "source": [],
   "outputs": []
  }
 ],
 "metadata": {
  "kernelspec": {
   "display_name": "Python 3 (ipykernel)",
   "language": "python",
   "name": "python3"
  },
  "language_info": {
   "codemirror_mode": {
    "name": "ipython",
    "version": 3
   },
   "file_extension": ".py",
   "mimetype": "text/x-python",
   "name": "python",
   "nbconvert_exporter": "python",
   "pygments_lexer": "ipython3",
   "version": "3.9.12"
  }
 },
 "nbformat": 4,
 "nbformat_minor": 4
}
