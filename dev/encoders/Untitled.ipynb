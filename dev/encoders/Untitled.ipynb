{
 "cells": [
  {
   "cell_type": "code",
   "execution_count": null,
   "id": "3e2bbc45-a960-4fe0-908e-a35916de055a",
   "metadata": {},
   "outputs": [],
   "source": [
    "from dataclasses import dataclass"
   ]
  },
  {
   "cell_type": "code",
   "execution_count": null,
   "id": "4abea7ec-3511-4a4f-a9c3-226f1cda3860",
   "metadata": {},
   "outputs": [],
   "source": [
    "@dataclass\n",
    "class Foo:\n",
    "    a: int = 0\n",
    "    _b: float = NotImplemented\n",
    "\n",
    "\n",
    "Foo()"
   ]
  },
  {
   "cell_type": "code",
   "execution_count": null,
   "id": "7e23ddc2-355d-43b8-a82b-3b399793aed0",
   "metadata": {},
   "outputs": [],
   "source": [
    "Foo().__dataclass_fields__[\"a\"].repr"
   ]
  },
  {
   "cell_type": "code",
   "execution_count": null,
   "id": "e77e302d-7c91-4ab6-afee-2fff22f41ca0",
   "metadata": {},
   "outputs": [],
   "source": []
  }
 ],
 "metadata": {
  "kernelspec": {
   "display_name": "Python 3 (ipykernel)",
   "language": "python",
   "name": "python3"
  },
  "language_info": {
   "codemirror_mode": {
    "name": "ipython",
    "version": 3
   },
   "file_extension": ".py",
   "mimetype": "text/x-python",
   "name": "python",
   "nbconvert_exporter": "python",
   "pygments_lexer": "ipython3",
   "version": "3.10.6"
  }
 },
 "nbformat": 4,
 "nbformat_minor": 5
}
