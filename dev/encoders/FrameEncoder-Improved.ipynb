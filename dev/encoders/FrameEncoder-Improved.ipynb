{
 "cells": [
  {
   "cell_type": "markdown",
   "metadata": {},
   "source": [
    "# New Implementation of DataFrameEncoder\n",
    "\n",
    "\n",
    "This time, this class will not be responsible for any splitting purposes.\n",
    "Instead, it will purely act as a column-wise / group-wise transformation."
   ]
  },
  {
   "cell_type": "code",
   "execution_count": null,
   "metadata": {},
   "outputs": [],
   "source": [
    "%config InteractiveShell.ast_node_interactivity='last_expr_or_assign'  # always print last expr.\n",
    "%config InlineBackend.figure_format = 'svg'\n",
    "%load_ext autoreload\n",
    "%autoreload 2\n",
    "%matplotlib inline"
   ]
  },
  {
   "cell_type": "code",
   "execution_count": null,
   "metadata": {},
   "outputs": [],
   "source": [
    "import logging\n",
    "\n",
    "logging.basicConfig(level=logging.INFO)"
   ]
  },
  {
   "cell_type": "code",
   "execution_count": null,
   "metadata": {},
   "outputs": [],
   "source": [
    "import logging\n",
    "from collections.abc import Collection, Hashable, Iterable, Mapping\n",
    "from typing import Optional, Union\n",
    "\n",
    "import numpy as np\n",
    "import pandas as pd\n",
    "import pandas.api.types\n",
    "from pandas import DataFrame, Index, MultiIndex, Series\n",
    "from pandas.core.indexes.frozen import FrozenList\n",
    "\n",
    "from tsdm.encoders import *\n",
    "from tsdm.encoders import BaseEncoder\n",
    "\n",
    "np.set_printoptions(precision=4, floatmode=\"fixed\", suppress=True)\n",
    "rng = np.random.default_rng()"
   ]
  },
  {
   "cell_type": "code",
   "execution_count": null,
   "metadata": {},
   "outputs": [],
   "source": [
    "class FrameEncoder(BaseEncoder):\n",
    "    KEYS = Hashable\n",
    "    columns: Index\n",
    "    dtypes: Series\n",
    "    index_columns: Index\n",
    "    index_dtypes: Series\n",
    "\n",
    "    column_encoders: Optional[Mapping[tuple[KEYS, ...], BaseEncoder]]\n",
    "    r\"\"\"Encoders for the columns.\"\"\"\n",
    "    index_encoders: Optional[Mapping[tuple[KEYS, ...], BaseEncoder]]\n",
    "    r\"\"\"Optional Encoder for the index.\"\"\"\n",
    "    column_decoders: Optional[Mapping[tuple[KEYS, ...], BaseEncoder]]\n",
    "    r\"\"\"Reverse Dictionary from encoded column name -> encoder\"\"\"\n",
    "    index_decoders: Optional[Mapping[tuple[KEYS, ...], BaseEncoder]]\n",
    "    r\"\"\"Reverse Dictionary from encoded index name -> encoder\"\"\"\n",
    "\n",
    "    @staticmethod\n",
    "    def _names(obj) -> Union[str, Iterable[str]]:\n",
    "        if isinstance(obj, MultiIndex):\n",
    "            return FrozenList(obj.names)\n",
    "        if isinstance(obj, (Series, Index)):\n",
    "            return obj.name\n",
    "        if isinstance(obj, DataFrame):\n",
    "            return FrozenList(obj.columns)\n",
    "        raise ValueError\n",
    "\n",
    "    def __init__(\n",
    "        self,\n",
    "        column_encoders: Optional[\n",
    "            Union[BaseEncoder, Mapping[Union[KEYS, Collection[KEYS]], BaseEncoder]]\n",
    "        ] = None,\n",
    "        *,\n",
    "        index_encoders: Optional[\n",
    "            Union[BaseEncoder, Mapping[Union[KEYS, Collection[KEYS]], BaseEncoder]]\n",
    "        ] = None,\n",
    "    ):\n",
    "        super().__init__()\n",
    "        self.column_encoders = column_encoders\n",
    "        self.index_encoders = index_encoders\n",
    "\n",
    "    def fit(self, data: DataFrame) -> None:\n",
    "        data = data.copy()\n",
    "        index = data.index.to_frame()\n",
    "        self.columns = data.columns\n",
    "        self.dtypes = data.dtypes\n",
    "        self.index_columns = index.columns\n",
    "        self.index_dtypes = index.dtypes\n",
    "\n",
    "        if self.column_encoders is None:\n",
    "            self.column_decoders = None\n",
    "        elif isinstance(self.column_encoders, BaseEncoder):\n",
    "            self.column_encoders.fit(data)\n",
    "            self.column_decoders = self.column_encoders\n",
    "        else:\n",
    "            self.column_decoders = {}\n",
    "            for group, encoder in self.column_encoders.items():\n",
    "                encoder.fit(data[group])\n",
    "                encoded = encoder.encode(data[group])\n",
    "                self.column_decoders[self._names(encoded)] = encoder\n",
    "\n",
    "        if self.index_encoders is None:\n",
    "            self.index_decoders = None\n",
    "        elif isinstance(self.index_encoders, BaseEncoder):\n",
    "            self.index_encoders.fit(index)\n",
    "            self.index_decoders = self.index_encoders\n",
    "        else:\n",
    "            self.index_decoders = {}\n",
    "            for group, encoder in self.index_encoders.items():\n",
    "                encoder.fit(index[group])\n",
    "                encoded = encoder.encode(index[group])\n",
    "                self.index_decoders[self._names(encoded)] = encoder\n",
    "\n",
    "    def encode(self, data: DataFrame) -> DataFrame:\n",
    "        data = data.copy(deep=True)\n",
    "        index = data.index.to_frame()\n",
    "        encoded_cols = data\n",
    "        encoded_inds = encoded_cols.index.to_frame()\n",
    "\n",
    "        if self.column_encoders is None:\n",
    "            pass\n",
    "        elif isinstance(self.column_encoders, BaseEncoder):\n",
    "            encoded = self.column_encoders.encode(data)\n",
    "            encoded_cols = encoded_cols.drop(columns=data.columns)\n",
    "            encoded_cols[self._names(encoded)] = encoded\n",
    "        else:\n",
    "            for group, encoder in self.column_encoders.items():\n",
    "                encoded = encoder.encode(data[group])\n",
    "                encoded_cols = encoded_cols.drop(columns=group)\n",
    "                encoded_cols[self._names(encoded)] = encoded\n",
    "\n",
    "        if self.index_encoders is None:\n",
    "            pass\n",
    "        elif isinstance(self.index_encoders, BaseEncoder):\n",
    "            encoded = self.index_encoders.encode(index)\n",
    "            encoded_inds = encoded_inds.drop(columns=index.columns)\n",
    "            encoded_inds[self._names(encoded)] = encoded\n",
    "        else:\n",
    "            for group, encoder in self.index_encoders.items():\n",
    "                encoded = encoder.encode(index[group])\n",
    "                encoded_inds = encoded_inds.drop(columns=group)\n",
    "                encoded_inds[self._names(encoded)] = encoded\n",
    "\n",
    "        # Assemble DataFrame\n",
    "        encoded = DataFrame(encoded_cols)\n",
    "        encoded[self._names(encoded_inds)] = encoded_inds\n",
    "        encoded = encoded.set_index(self._names(encoded_inds))\n",
    "        return encoded\n",
    "\n",
    "    def decode(self, data: DataFrame) -> DataFrame:\n",
    "        data = data.copy(deep=True)\n",
    "        index = data.index.to_frame()\n",
    "        decoded_cols = data\n",
    "        decoded_inds = decoded_cols.index.to_frame()\n",
    "\n",
    "        if self.column_decoders is None:\n",
    "            pass\n",
    "        elif isinstance(self.column_decoders, BaseEncoder):\n",
    "            decoded = self.column_decoders.decode(data)\n",
    "            decoded_cols = decoded_cols.drop(columns=data.columns)\n",
    "            decoded_cols[self._names(decoded)] = decoded\n",
    "        else:\n",
    "            for group, encoder in self.column_decoders.items():\n",
    "                decoded = encoder.decode(data[group])\n",
    "                decoded_cols = decoded_cols.drop(columns=group)\n",
    "                decoded_cols[self._names(decoded)] = decoded\n",
    "\n",
    "        if self.index_decoders is None:\n",
    "            pass\n",
    "        elif isinstance(self.index_decoders, BaseEncoder):\n",
    "            decoded = self.index_decoders.decode(index)\n",
    "            decoded_inds = decoded_inds.drop(columns=index.columns)\n",
    "            decoded_inds[self._names(decoded)] = decoded\n",
    "        else:\n",
    "            for group, encoder in self.index_decoders.items():\n",
    "                decoded = encoder.decode(index[group])\n",
    "                decoded_inds = decoded_inds.drop(columns=group)\n",
    "                decoded_inds[self._names(decoded)] = decoded\n",
    "\n",
    "        # Restore index order + dtypes\n",
    "        decoded_inds = decoded_inds[self.index_columns]\n",
    "        decoded_inds = decoded_inds.astype(self.index_dtypes)\n",
    "\n",
    "        # Assemble DataFrame\n",
    "        decoded = DataFrame(decoded_cols)\n",
    "        decoded[self._names(decoded_inds)] = decoded_inds\n",
    "        decoded = decoded.set_index(self._names(decoded_inds))\n",
    "        decoded = decoded[self.columns]\n",
    "        decoded = decoded.astype(self.dtypes)\n",
    "\n",
    "        return decoded"
   ]
  },
  {
   "cell_type": "code",
   "execution_count": null,
   "metadata": {},
   "outputs": [],
   "source": [
    "from tsdm.tasks import KIWI_FINAL_PRODUCT\n",
    "\n",
    "task = KIWI_FINAL_PRODUCT()\n",
    "ts = task.timeseries.sort_index(axis=\"index\").sort_index(axis=\"columns\")\n",
    "channel_freq = pd.notna(ts).mean().sort_values()\n",
    "fast_channels = FrozenList(channel_freq[channel_freq >= 0.1].index)\n",
    "slow_channels = FrozenList(channel_freq[channel_freq < 0.1].index)\n",
    "FAST = ts[fast_channels].dropna(how=\"all\")\n",
    "SLOW = ts[slow_channels].dropna(how=\"all\")\n",
    "groups = {\"fast\": fast_channels, \"slow\": slow_channels}"
   ]
  },
  {
   "cell_type": "code",
   "execution_count": null,
   "metadata": {},
   "outputs": [],
   "source": [
    "from tsdm.encoders import *\n",
    "\n",
    "enc = FrameEncoder(\n",
    "    column_encoders={\n",
    "        fast_channels: Standardizer(),\n",
    "        slow_channels: MinMaxScaler(),\n",
    "    },\n",
    "    index_encoders={\n",
    "        \"run_id\": IntEncoder(),\n",
    "        \"experiment_id\": IntEncoder(),\n",
    "        \"measurement_time\": DateTimeEncoder(),\n",
    "    },\n",
    ")\n",
    "enc.fit(ts)"
   ]
  },
  {
   "cell_type": "code",
   "execution_count": null,
   "metadata": {},
   "outputs": [],
   "source": [
    "encoded = enc.encode(ts)\n",
    "decoded = enc.decode(encoded)\n",
    "pd.testing.assert_frame_equal(ts, decoded)"
   ]
  },
  {
   "cell_type": "code",
   "execution_count": null,
   "metadata": {},
   "outputs": [],
   "source": [
    "encoded"
   ]
  },
  {
   "cell_type": "code",
   "execution_count": null,
   "metadata": {},
   "outputs": [],
   "source": [
    "T = ts[[]].reset_index(-1)[\"measurement_time\"]"
   ]
  },
  {
   "cell_type": "code",
   "execution_count": null,
   "metadata": {},
   "outputs": [],
   "source": [
    "e = DateTimeEncoder()\n",
    "e.fit(T)\n",
    "e.decode(e.encode(T))"
   ]
  },
  {
   "cell_type": "code",
   "execution_count": null,
   "metadata": {},
   "outputs": [],
   "source": [
    "mask = pd.notna(ts.Acetate)\n",
    "ts.Acetate[mask]"
   ]
  },
  {
   "cell_type": "code",
   "execution_count": null,
   "metadata": {},
   "outputs": [],
   "source": [
    "from types import MethodType\n",
    "\n",
    "ts.to_frame = MethodType(lambda self: self, ts)"
   ]
  },
  {
   "cell_type": "code",
   "execution_count": null,
   "metadata": {},
   "outputs": [],
   "source": []
  },
  {
   "cell_type": "code",
   "execution_count": null,
   "metadata": {},
   "outputs": [],
   "source": [
    "%%timeit\n",
    "ts.to_frame()"
   ]
  },
  {
   "cell_type": "code",
   "execution_count": null,
   "metadata": {},
   "outputs": [],
   "source": [
    "e = MinMaxScaler()\n",
    "\n",
    "e.fit(ts[fast_channels])"
   ]
  },
  {
   "cell_type": "code",
   "execution_count": null,
   "metadata": {},
   "outputs": [],
   "source": [
    "e.xmin.shape"
   ]
  },
  {
   "cell_type": "code",
   "execution_count": null,
   "metadata": {},
   "outputs": [],
   "source": [
    "e.ymin.ndim"
   ]
  },
  {
   "cell_type": "code",
   "execution_count": null,
   "metadata": {},
   "outputs": [],
   "source": []
  },
  {
   "cell_type": "code",
   "execution_count": null,
   "metadata": {},
   "outputs": [],
   "source": [
    "e[3:6].xmin"
   ]
  },
  {
   "cell_type": "code",
   "execution_count": null,
   "metadata": {},
   "outputs": [],
   "source": [
    "e.encode(ts[fast_channels])"
   ]
  }
 ],
 "metadata": {
  "kernelspec": {
   "display_name": "Python 3 (ipykernel)",
   "language": "python",
   "name": "python3"
  },
  "language_info": {
   "codemirror_mode": {
    "name": "ipython",
    "version": 3
   },
   "file_extension": ".py",
   "mimetype": "text/x-python",
   "name": "python",
   "nbconvert_exporter": "python",
   "pygments_lexer": "ipython3",
   "version": "3.10.6"
  }
 },
 "nbformat": 4,
 "nbformat_minor": 4
}
