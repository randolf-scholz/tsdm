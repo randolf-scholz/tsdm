{
 "cells": [
  {
   "cell_type": "code",
   "execution_count": null,
   "metadata": {
    "execution": {
     "iopub.execute_input": "2022-11-14T01:56:40.110502Z",
     "iopub.status.busy": "2022-11-14T01:56:40.110390Z",
     "iopub.status.idle": "2022-11-14T01:56:40.113772Z",
     "shell.execute_reply": "2022-11-14T01:56:40.113288Z",
     "shell.execute_reply.started": "2022-11-14T01:56:40.110491Z"
    },
    "tags": []
   },
   "outputs": [],
   "source": [
    "%matplotlib inline"
   ]
  },
  {
   "cell_type": "code",
   "execution_count": null,
   "metadata": {
    "execution": {
     "iopub.execute_input": "2022-11-14T01:56:40.114320Z",
     "iopub.status.busy": "2022-11-14T01:56:40.114211Z",
     "iopub.status.idle": "2022-11-14T01:56:40.116878Z",
     "shell.execute_reply": "2022-11-14T01:56:40.116449Z",
     "shell.execute_reply.started": "2022-11-14T01:56:40.114310Z"
    },
    "tags": []
   },
   "outputs": [],
   "source": [
    "import matplotlib.pyplot as plt"
   ]
  },
  {
   "cell_type": "code",
   "execution_count": null,
   "metadata": {
    "execution": {
     "iopub.execute_input": "2022-11-14T01:56:40.117420Z",
     "iopub.status.busy": "2022-11-14T01:56:40.117315Z",
     "iopub.status.idle": "2022-11-14T01:56:41.113208Z",
     "shell.execute_reply": "2022-11-14T01:56:41.112730Z",
     "shell.execute_reply.started": "2022-11-14T01:56:40.117410Z"
    },
    "tags": []
   },
   "outputs": [],
   "source": [
    "from tsdm.datasets import KIWI_RUNS\n",
    "\n",
    "dataset = KIWI_RUNS()\n",
    "\n",
    "ts = dataset.timeseries\n",
    "\n",
    "# data = np.array(ts.Glucose[pd.notna(ts.Glucose)].astype(float))\n",
    "data = ts.Glucose.astype(float)\n",
    "_ = plt.hist(data, density=True, bins=50)"
   ]
  },
  {
   "cell_type": "code",
   "execution_count": null,
   "metadata": {
    "execution": {
     "iopub.execute_input": "2022-11-14T01:56:41.113870Z",
     "iopub.status.busy": "2022-11-14T01:56:41.113753Z",
     "iopub.status.idle": "2022-11-14T01:56:41.298528Z",
     "shell.execute_reply": "2022-11-14T01:56:41.297860Z",
     "shell.execute_reply.started": "2022-11-14T01:56:41.113859Z"
    },
    "tags": []
   },
   "outputs": [],
   "source": [
    "from tsdm.encoders import BoxCoxEncoder\n",
    "\n",
    "encoder = BoxCoxEncoder()\n",
    "encoder.fit(data)\n",
    "encoded = encoder.encode(data)\n",
    "_ = plt.hist(encoded, density=True, bins=50)"
   ]
  },
  {
   "cell_type": "code",
   "execution_count": null,
   "metadata": {
    "execution": {
     "iopub.execute_input": "2022-11-14T01:56:41.299271Z",
     "iopub.status.busy": "2022-11-14T01:56:41.299152Z",
     "iopub.status.idle": "2022-11-14T01:56:41.426400Z",
     "shell.execute_reply": "2022-11-14T01:56:41.425940Z",
     "shell.execute_reply.started": "2022-11-14T01:56:41.299260Z"
    },
    "tags": []
   },
   "outputs": [],
   "source": [
    "decoded = encoder.decode(encoded)\n",
    "_ = plt.hist(decoded, density=True, bins=50)"
   ]
  },
  {
   "cell_type": "code",
   "execution_count": null,
   "metadata": {},
   "outputs": [],
   "source": []
  },
  {
   "cell_type": "code",
   "execution_count": null,
   "metadata": {},
   "outputs": [],
   "source": []
  }
 ],
 "metadata": {
  "kernelspec": {
   "display_name": "Python 3 (ipykernel)",
   "language": "python",
   "name": "python3"
  },
  "language_info": {
   "codemirror_mode": {
    "name": "ipython",
    "version": 3
   },
   "file_extension": ".py",
   "mimetype": "text/x-python",
   "name": "python",
   "nbconvert_exporter": "python",
   "pygments_lexer": "ipython3",
   "version": "3.10.6"
  }
 },
 "nbformat": 4,
 "nbformat_minor": 4
}
