{
 "cells": [
  {
   "cell_type": "code",
   "execution_count": null,
   "metadata": {
    "execution": {
     "iopub.execute_input": "2023-07-10T15:56:32.349231Z",
     "iopub.status.busy": "2023-07-10T15:56:32.349041Z",
     "iopub.status.idle": "2023-07-10T15:56:32.364000Z",
     "shell.execute_reply": "2023-07-10T15:56:32.363416Z",
     "shell.execute_reply.started": "2023-07-10T15:56:32.349208Z"
    },
    "tags": []
   },
   "outputs": [],
   "source": [
    "%config InteractiveShell.ast_node_interactivity='last_expr_or_assign'\n",
    "%load_ext autoreload\n",
    "%autoreload 2"
   ]
  },
  {
   "cell_type": "markdown",
   "metadata": {},
   "source": [
    "# Piecewise Linear Encoding\n",
    "\n",
    "NOTE: Implementation details: lookup in sorted array costs $O(\\log(B))$, hence the PLE should cost $O(N⋅\\log(B))$\n",
    "\n",
    "Alternatively, a naive $O(N⋅B)$ implementation is possible, as the memory cost is $N⋅B$ anyway."
   ]
  },
  {
   "cell_type": "code",
   "execution_count": null,
   "metadata": {
    "execution": {
     "iopub.execute_input": "2023-07-10T15:56:59.147585Z",
     "iopub.status.busy": "2023-07-10T15:56:59.146898Z",
     "iopub.status.idle": "2023-07-10T15:56:59.277921Z",
     "shell.execute_reply": "2023-07-10T15:56:59.277275Z",
     "shell.execute_reply.started": "2023-07-10T15:56:59.147524Z"
    },
    "tags": []
   },
   "outputs": [],
   "source": [
    "import numpy as np"
   ]
  },
  {
   "cell_type": "code",
   "execution_count": null,
   "metadata": {
    "execution": {
     "iopub.execute_input": "2023-07-10T17:32:48.939692Z",
     "iopub.status.busy": "2023-07-10T17:32:48.939101Z",
     "iopub.status.idle": "2023-07-10T17:32:48.952274Z",
     "shell.execute_reply": "2023-07-10T17:32:48.951815Z",
     "shell.execute_reply.started": "2023-07-10T17:32:48.939661Z"
    },
    "tags": []
   },
   "outputs": [],
   "source": [
    "x = np.random.randn(13)\n",
    "bins = np.array([-1, 0, 1])\n",
    "dbins = np.diff(bins)"
   ]
  },
  {
   "cell_type": "code",
   "execution_count": null,
   "metadata": {
    "execution": {
     "iopub.execute_input": "2023-07-10T17:38:49.182918Z",
     "iopub.status.busy": "2023-07-10T17:38:49.182669Z",
     "iopub.status.idle": "2023-07-10T17:38:49.193580Z",
     "shell.execute_reply": "2023-07-10T17:38:49.193220Z",
     "shell.execute_reply.started": "2023-07-10T17:38:49.182904Z"
    },
    "tags": []
   },
   "outputs": [],
   "source": [
    "x = 1777.7"
   ]
  },
  {
   "cell_type": "code",
   "execution_count": null,
   "metadata": {
    "execution": {
     "iopub.execute_input": "2023-07-10T17:38:49.984297Z",
     "iopub.status.busy": "2023-07-10T17:38:49.982903Z",
     "iopub.status.idle": "2023-07-10T17:38:50.004373Z",
     "shell.execute_reply": "2023-07-10T17:38:50.003096Z",
     "shell.execute_reply.started": "2023-07-10T17:38:49.984226Z"
    },
    "tags": []
   },
   "outputs": [],
   "source": [
    "mantissa, exponent = np.frexp(x)  # Note: mantissa is [-1, 0.5]∪[0.5, +1]"
   ]
  },
  {
   "cell_type": "code",
   "execution_count": null,
   "metadata": {
    "execution": {
     "iopub.execute_input": "2023-07-10T17:38:50.149865Z",
     "iopub.status.busy": "2023-07-10T17:38:50.149215Z",
     "iopub.status.idle": "2023-07-10T17:38:50.173531Z",
     "shell.execute_reply": "2023-07-10T17:38:50.172026Z",
     "shell.execute_reply.started": "2023-07-10T17:38:50.149828Z"
    },
    "tags": []
   },
   "outputs": [],
   "source": [
    "exponent"
   ]
  },
  {
   "cell_type": "code",
   "execution_count": null,
   "metadata": {
    "execution": {
     "iopub.execute_input": "2023-07-10T17:40:10.536621Z",
     "iopub.status.busy": "2023-07-10T17:40:10.536451Z",
     "iopub.status.idle": "2023-07-10T17:40:10.547052Z",
     "shell.execute_reply": "2023-07-10T17:40:10.546698Z",
     "shell.execute_reply.started": "2023-07-10T17:40:10.536608Z"
    },
    "tags": []
   },
   "outputs": [],
   "source": [
    "np.binary_repr(17)"
   ]
  },
  {
   "cell_type": "code",
   "execution_count": null,
   "metadata": {
    "execution": {
     "iopub.execute_input": "2023-07-10T17:33:50.065234Z",
     "iopub.status.busy": "2023-07-10T17:33:50.065043Z",
     "iopub.status.idle": "2023-07-10T17:33:50.074887Z",
     "shell.execute_reply": "2023-07-10T17:33:50.074537Z",
     "shell.execute_reply.started": "2023-07-10T17:33:50.065219Z"
    },
    "tags": []
   },
   "outputs": [],
   "source": [
    "idx = np.searchsorted(bins, x)"
   ]
  },
  {
   "cell_type": "code",
   "execution_count": null,
   "metadata": {
    "execution": {
     "iopub.execute_input": "2023-07-10T17:32:50.124141Z",
     "iopub.status.busy": "2023-07-10T17:32:50.123421Z",
     "iopub.status.idle": "2023-07-10T17:32:50.155552Z",
     "shell.execute_reply": "2023-07-10T17:32:50.154109Z",
     "shell.execute_reply.started": "2023-07-10T17:32:50.124078Z"
    },
    "tags": []
   },
   "outputs": [],
   "source": [
    "np.less.outer(bins, x).astype(float)"
   ]
  },
  {
   "cell_type": "code",
   "execution_count": null,
   "metadata": {
    "execution": {
     "iopub.execute_input": "2023-07-10T17:38:02.386463Z",
     "iopub.status.busy": "2023-07-10T17:38:02.386183Z",
     "iopub.status.idle": "2023-07-10T17:38:02.396263Z",
     "shell.execute_reply": "2023-07-10T17:38:02.395783Z",
     "shell.execute_reply.started": "2023-07-10T17:38:02.386443Z"
    },
    "tags": []
   },
   "outputs": [],
   "source": [
    "mantissa * 2"
   ]
  },
  {
   "cell_type": "code",
   "execution_count": null,
   "metadata": {
    "execution": {
     "iopub.execute_input": "2023-07-10T16:17:24.720599Z",
     "iopub.status.busy": "2023-07-10T16:17:24.719973Z",
     "iopub.status.idle": "2023-07-10T16:17:24.744911Z",
     "shell.execute_reply": "2023-07-10T16:17:24.743179Z",
     "shell.execute_reply.started": "2023-07-10T16:17:24.720557Z"
    },
    "tags": []
   },
   "outputs": [],
   "source": [
    "bins"
   ]
  },
  {
   "cell_type": "code",
   "execution_count": null,
   "metadata": {
    "execution": {
     "iopub.execute_input": "2023-07-10T16:17:20.665428Z",
     "iopub.status.busy": "2023-07-10T16:17:20.665229Z",
     "iopub.status.idle": "2023-07-10T16:17:20.675687Z",
     "shell.execute_reply": "2023-07-10T16:17:20.675141Z",
     "shell.execute_reply.started": "2023-07-10T16:17:20.665415Z"
    },
    "tags": []
   },
   "outputs": [],
   "source": [
    "x"
   ]
  },
  {
   "cell_type": "code",
   "execution_count": null,
   "metadata": {},
   "outputs": [],
   "source": []
  }
 ],
 "metadata": {
  "kernelspec": {
   "display_name": "Python 3 (ipykernel)",
   "language": "python",
   "name": "python3"
  },
  "language_info": {
   "codemirror_mode": {
    "name": "ipython",
    "version": 3
   },
   "file_extension": ".py",
   "mimetype": "text/x-python",
   "name": "python",
   "nbconvert_exporter": "python",
   "pygments_lexer": "ipython3",
   "version": "3.11.3"
  }
 },
 "nbformat": 4,
 "nbformat_minor": 4
}
