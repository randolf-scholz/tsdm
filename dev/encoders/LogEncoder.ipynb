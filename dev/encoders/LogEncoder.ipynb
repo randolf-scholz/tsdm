{
 "cells": [
  {
   "cell_type": "markdown",
   "metadata": {},
   "source": [
    "# Title"
   ]
  },
  {
   "cell_type": "code",
   "execution_count": null,
   "metadata": {},
   "source": [
    "%config InteractiveShell.ast_node_interactivity='last_expr_or_assign'  # always print last expr.\n",
    "%config InlineBackend.figure_format = 'svg'\n",
    "%load_ext autoreload\n",
    "%autoreload 2\n",
    "%matplotlib inline\n",
    "\n",
    "import logging\n",
    "\n",
    "logging.basicConfig(level=logging.INFO)"
   ],
   "outputs": []
  },
  {
   "cell_type": "code",
   "execution_count": null,
   "metadata": {},
   "source": [
    "import numpy as np\n",
    "import pandas\n",
    "\n",
    "np.set_printoptions(precision=4, floatmode=\"fixed\", suppress=True)\n",
    "rng = np.random.default_rng()"
   ],
   "outputs": []
  },
  {
   "cell_type": "code",
   "execution_count": null,
   "metadata": {},
   "source": [
    "from tsdm.datasets import KIWI_RUNS\n",
    "\n",
    "ds = KIWI_RUNS()\n",
    "# ds.clean(force=True)\n",
    "ts = ds.timeseries\n",
    "ds.units"
   ],
   "outputs": []
  },
  {
   "cell_type": "code",
   "execution_count": null,
   "metadata": {},
   "source": [
    "fluo = ts[[\"Cumulated_feed_volume_glucose\", \"Cumulated_feed_volume_medium\"]].astype(\n",
    "    \"float32\"\n",
    ")\n",
    "(fluo == 0).mean()"
   ],
   "outputs": []
  },
  {
   "cell_type": "code",
   "execution_count": null,
   "metadata": {},
   "source": [
    "from tsdm.encoders import BaseEncoder"
   ],
   "outputs": []
  },
  {
   "cell_type": "code",
   "execution_count": null,
   "metadata": {},
   "source": [
    "class LogEncoder(BaseEncoder):\n",
    "    \"\"\"Encode data on loggarithmic scale.\n",
    "\n",
    "    Uses base 2 by default for lower numerical error and fast computation.\n",
    "    \"\"\"\n",
    "\n",
    "    threshold: np.ndarray\n",
    "    replacement: np.ndarray\n",
    "\n",
    "    def __init__(self) -> None:\n",
    "        super().__init__()\n",
    "\n",
    "    def fit(self, data, /) -> None:\n",
    "        assert np.all(data >= 0)\n",
    "\n",
    "        mask = data == 0\n",
    "        self.threshold = data[~mask].min()\n",
    "        self.replacement = np.log2(self.threshold / 2)\n",
    "\n",
    "    def encode(self, data, /):\n",
    "        # TODO: Use copy on data.\n",
    "        result = data.copy()\n",
    "        mask = data <= 0\n",
    "        result[:] = np.where(mask, self.replacement, np.log2(data))\n",
    "        return result\n",
    "\n",
    "    def decode(self, data, /):\n",
    "        result = 2**data\n",
    "        mask = result < self.threshold\n",
    "        result[:] = np.where(mask, 0, result)\n",
    "        return result"
   ],
   "outputs": []
  },
  {
   "cell_type": "code",
   "execution_count": null,
   "metadata": {},
   "source": [
    "encoder = LogEncoder()\n",
    "encoder.fit(fluo)\n",
    "fluo"
   ],
   "outputs": []
  },
  {
   "cell_type": "code",
   "execution_count": null,
   "metadata": {},
   "source": [
    "encoded = encoder.encode(fluo)"
   ],
   "outputs": []
  },
  {
   "cell_type": "code",
   "execution_count": null,
   "metadata": {},
   "source": [
    "decoded = encoder.decode(encoded)"
   ],
   "outputs": []
  },
  {
   "cell_type": "code",
   "execution_count": null,
   "metadata": {},
   "source": [
    "pandas.testing.assert_frame_equal(fluo, decoded)"
   ],
   "outputs": []
  },
  {
   "cell_type": "code",
   "execution_count": null,
   "metadata": {},
   "source": [
    "(fluo >= 0).all().all().all()"
   ],
   "outputs": []
  },
  {
   "cell_type": "code",
   "execution_count": null,
   "metadata": {},
   "source": [
    "np.all(fluo >= 0)"
   ],
   "outputs": []
  },
  {
   "cell_type": "code",
   "execution_count": null,
   "metadata": {},
   "source": [
    "?fluo.min"
   ],
   "outputs": []
  },
  {
   "cell_type": "code",
   "execution_count": null,
   "metadata": {},
   "source": [],
   "outputs": []
  }
 ],
 "metadata": {
  "kernelspec": {
   "display_name": "Python 3 (ipykernel)",
   "language": "python",
   "name": "python3"
  },
  "language_info": {
   "codemirror_mode": {
    "name": "ipython",
    "version": 3
   },
   "file_extension": ".py",
   "mimetype": "text/x-python",
   "name": "python",
   "nbconvert_exporter": "python",
   "pygments_lexer": "ipython3",
   "version": "3.10.5"
  }
 },
 "nbformat": 4,
 "nbformat_minor": 4
}
