{
 "cells": [
  {
   "cell_type": "markdown",
   "metadata": {},
   "source": [
    "# TripletDecoder = Inverse of TripletEncoder"
   ]
  },
  {
   "cell_type": "code",
   "execution_count": null,
   "metadata": {},
   "outputs": [],
   "source": [
    "%config InteractiveShell.ast_node_interactivity='last_expr_or_assign'  # always print last expr.\n",
    "%config InlineBackend.figure_format = 'svg'\n",
    "%load_ext autoreload\n",
    "%autoreload 2\n",
    "%matplotlib inline\n",
    "\n",
    "import logging\n",
    "\n",
    "logging.basicConfig(level=logging.INFO)"
   ]
  },
  {
   "cell_type": "code",
   "execution_count": null,
   "metadata": {},
   "outputs": [],
   "source": [
    "import numpy as np\n",
    "\n",
    "np.set_printoptions(precision=4, floatmode=\"fixed\", suppress=True)\n",
    "rng = np.random.default_rng()"
   ]
  },
  {
   "cell_type": "code",
   "execution_count": null,
   "metadata": {},
   "outputs": [],
   "source": [
    "import logging\n",
    "from typing import Literal, Optional\n",
    "\n",
    "import numpy as np\n",
    "import pandas as pd\n",
    "import pandas.api.types\n",
    "from pandas import DataFrame, Index, MultiIndex, Series\n",
    "\n",
    "import tsdm\n",
    "from tsdm.encoders import BaseEncoder"
   ]
  },
  {
   "cell_type": "code",
   "execution_count": null,
   "metadata": {},
   "outputs": [],
   "source": [
    "class TripletDecoder(BaseEncoder):\n",
    "    r\"\"\"Encode the data into triplets.\"\"\"\n",
    "\n",
    "    categories: pd.CategoricalDtype\n",
    "    r\"\"\"The stored categories.\"\"\"\n",
    "    dtypes: Series\n",
    "    r\"\"\"The original dtypes.\"\"\"\n",
    "    original_columns: Index\n",
    "    r\"\"\"The original columns.\"\"\"\n",
    "\n",
    "    def __init__(\n",
    "        self,\n",
    "        sparse: bool = True,\n",
    "        values: Optional[str] = None,\n",
    "        variables: Optional[str] = None,\n",
    "        check_categoricals: bool = True,\n",
    "    ) -> None:\n",
    "        r\"\"\"Initialize the encoder.\n",
    "\n",
    "        Parameters\n",
    "        ----------\n",
    "        sparse: bool = True\n",
    "        \"\"\"\n",
    "        super().__init__()\n",
    "        self.sparse = sparse\n",
    "        self.value_name = values\n",
    "        self.var_name = variables\n",
    "        self.check_categoricals = check_categoricals\n",
    "\n",
    "    def fit(self, data: DataFrame, /) -> None:\n",
    "        r\"\"\"Fit the encoder.\n",
    "\n",
    "        Parameters\n",
    "        ----------\n",
    "        data\n",
    "        \"\"\"\n",
    "        self.original_dtypes = data.dtypes\n",
    "        self.original_columns = data.columns\n",
    "\n",
    "        self.value_column = self.value_name or data.columns[0]\n",
    "        self.value_name = self.value_column\n",
    "        print(self.value_column)\n",
    "        assert self.value_column in data.columns\n",
    "\n",
    "        remaining_cols = data.columns.drop(self.value_column)\n",
    "\n",
    "        if self.sparse:\n",
    "            self.channel_columns = remaining_cols\n",
    "            categories = self.channel_columns\n",
    "            self.var_name = self.channel_columns.name or \"variable\"\n",
    "        else:\n",
    "            assert len(remaining_cols) == 1\n",
    "            self.channel_columns = remaining_cols.item()\n",
    "            categories = data[self.channel_columns].unique()\n",
    "            self.var_name = self.channel_columns\n",
    "\n",
    "        if self.check_categoricals and pd.api.types.is_float_dtype(categories):\n",
    "            raise ValueError(\n",
    "                f\"channel_ids found in '{self.var_name}' does no look like a\"\n",
    "                \" categoricals!\\n Please specify `values` and/or `variables`!\\n Or,\"\n",
    "                \" silence this error with `check_categoricals=False`.\"\n",
    "            )\n",
    "\n",
    "        self.categories = pd.CategoricalDtype(np.sort(categories))\n",
    "\n",
    "    def encode(self, data: DataFrame, /) -> DataFrame:\n",
    "        r\"\"\"Decode the data.\"\"\"\n",
    "        if self.sparse:\n",
    "            df = data.loc[:, self.channel_columns].stack()\n",
    "            df = df[df == 1]\n",
    "            df.index = df.index.rename(self.var_name, level=-1)\n",
    "            df = df.reset_index(level=-1)\n",
    "            df[self.value_name] = data[self.value_column]\n",
    "        else:\n",
    "            df = data\n",
    "\n",
    "        df = df.pivot_table(\n",
    "            # TODO: FIX with https://github.com/pandas-dev/pandas/pull/45994\n",
    "            # simply use df.index.names instead then.\n",
    "            index=df.index,\n",
    "            columns=self.var_name,\n",
    "            values=self.value_name,\n",
    "            dropna=False,\n",
    "        )\n",
    "\n",
    "        if isinstance(data.index, MultiIndex):\n",
    "            df.index = MultiIndex.from_tuples(df.index, names=data.index.names)\n",
    "\n",
    "        # re-add missing columns\n",
    "        for cat in self.categories.categories:\n",
    "            if cat not in df.columns:\n",
    "                df[cat] = float(\"nan\")  # TODO: replace with pd.NA when supported\n",
    "\n",
    "        result = df[self.categories.categories]  # fix column order\n",
    "        return result.sort_index()\n",
    "\n",
    "    def decode(\n",
    "        self,\n",
    "        data: DataFrame,\n",
    "        /,\n",
    "        encoded_names: Optional[dict[Literal[\"index\", \"channel\", \"value\"], str]] = None,\n",
    "    ) -> DataFrame:\n",
    "        r\"\"\"Encode the data.\"\"\"\n",
    "        result = data.melt(\n",
    "            ignore_index=False,\n",
    "            var_name=self.var_name,\n",
    "            value_name=self.value_name,\n",
    "        ).dropna()\n",
    "\n",
    "        if self.sparse:\n",
    "            result = pd.get_dummies(\n",
    "                result, columns=[self.var_name], sparse=True, prefix=\"\", prefix_sep=\"\"\n",
    "            )\n",
    "\n",
    "        result = result.astype(self.original_dtypes)\n",
    "        result = result.sort_index()\n",
    "\n",
    "        return result"
   ]
  },
  {
   "cell_type": "code",
   "execution_count": null,
   "metadata": {},
   "outputs": [],
   "source": [
    "ds = tsdm.datasets.MIMIC_III()\n",
    "ts = ds.observations.set_index([\"UNIQUE_ID\", \"TIME_STAMP\"])"
   ]
  },
  {
   "cell_type": "code",
   "execution_count": null,
   "metadata": {},
   "outputs": [],
   "source": [
    "decoder = TripletDecoder(sparse=False)\n",
    "decoder.fit(ts)\n",
    "decoded = decoder.encode(ts[:1000])"
   ]
  },
  {
   "cell_type": "code",
   "execution_count": null,
   "metadata": {},
   "outputs": [],
   "source": [
    "decoder.decode(decoded)"
   ]
  },
  {
   "cell_type": "code",
   "execution_count": null,
   "metadata": {},
   "outputs": [],
   "source": []
  },
  {
   "cell_type": "code",
   "execution_count": null,
   "metadata": {},
   "outputs": [],
   "source": []
  },
  {
   "cell_type": "code",
   "execution_count": null,
   "metadata": {},
   "outputs": [],
   "source": []
  },
  {
   "cell_type": "code",
   "execution_count": null,
   "metadata": {},
   "outputs": [],
   "source": [
    "ds = tsdm.datasets.MIMIC_III()\n",
    "ts = ds.observations.set_index([\"UNIQUE_ID\", \"TIME_STAMP\"])"
   ]
  },
  {
   "cell_type": "code",
   "execution_count": null,
   "metadata": {},
   "outputs": [],
   "source": []
  },
  {
   "cell_type": "code",
   "execution_count": null,
   "metadata": {
    "tags": []
   },
   "outputs": [],
   "source": [
    "enc = TripletDecoder(sparse=False)\n",
    "enc.fit(ts)\n",
    "encoded = enc.encode(ts[:1000])\n",
    "decoded = enc.decode(encoded)"
   ]
  },
  {
   "cell_type": "code",
   "execution_count": null,
   "metadata": {},
   "outputs": [],
   "source": [
    "from tsdm.encoders import TripletEncoder\n",
    "\n",
    "ds = tsdm.datasets.Electricity()\n",
    "ts = ds.dataset\n",
    "encoder = TripletEncoder(sparse=True)\n",
    "encoder.fit(ts)\n",
    "encoded = encoder.encode(ts[:100])"
   ]
  },
  {
   "cell_type": "code",
   "execution_count": null,
   "metadata": {},
   "outputs": [],
   "source": [
    "ts = ts.reset_index().reset_index().set_index([\"index\", \"time\"])"
   ]
  },
  {
   "cell_type": "code",
   "execution_count": null,
   "metadata": {},
   "outputs": [],
   "source": [
    "enc = TripletEncoder(sparse=False)\n",
    "enc.fit(ts)\n",
    "encoded = enc.encode(ts[:1000])"
   ]
  },
  {
   "cell_type": "code",
   "execution_count": null,
   "metadata": {
    "tags": []
   },
   "outputs": [],
   "source": [
    "decoded = enc.decode(encoded)"
   ]
  },
  {
   "cell_type": "code",
   "execution_count": null,
   "metadata": {},
   "outputs": [],
   "source": []
  }
 ],
 "metadata": {
  "kernelspec": {
   "display_name": "Python 3 (ipykernel)",
   "language": "python",
   "name": "python3"
  },
  "language_info": {
   "codemirror_mode": {
    "name": "ipython",
    "version": 3
   },
   "file_extension": ".py",
   "mimetype": "text/x-python",
   "name": "python",
   "nbconvert_exporter": "python",
   "pygments_lexer": "ipython3",
   "version": "3.9.12"
  }
 },
 "nbformat": 4,
 "nbformat_minor": 4
}
