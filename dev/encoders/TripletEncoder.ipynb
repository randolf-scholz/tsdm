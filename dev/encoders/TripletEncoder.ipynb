{
 "cells": [
  {
   "cell_type": "markdown",
   "metadata": {},
   "source": [
    "# Title"
   ]
  },
  {
   "cell_type": "code",
   "execution_count": null,
   "metadata": {},
   "outputs": [],
   "source": [
    "%config InteractiveShell.ast_node_interactivity='last_expr_or_assign'  # always print last expr.\n",
    "%config InlineBackend.figure_format = 'svg'\n",
    "%load_ext autoreload\n",
    "%autoreload 2\n",
    "%matplotlib inline"
   ]
  },
  {
   "cell_type": "code",
   "execution_count": null,
   "metadata": {},
   "outputs": [],
   "source": [
    "import numpy as np\n",
    "\n",
    "np.set_printoptions(precision=4, floatmode=\"fixed\", suppress=True)\n",
    "rng = np.random.default_rng()"
   ]
  },
  {
   "cell_type": "code",
   "execution_count": null,
   "metadata": {},
   "outputs": [],
   "source": [
    "import numpy as np\n",
    "import pandas as pd\n",
    "import pandas.api.types\n",
    "from pandas import DataFrame, MultiIndex, Series\n",
    "\n",
    "from tsdm.encoders import BaseEncoder"
   ]
  },
  {
   "cell_type": "code",
   "execution_count": null,
   "metadata": {},
   "outputs": [],
   "source": [
    "class TripletEncoder(BaseEncoder):\n",
    "    r\"\"\"Encode the data into triplets.\"\"\"\n",
    "\n",
    "    categories: pd.CategoricalDtype\n",
    "    r\"\"\"The stored categories.\"\"\"\n",
    "    dtypes: Series\n",
    "    r\"\"\"The original dtypes.\"\"\"\n",
    "\n",
    "    def __init__(self, sparse: bool = True) -> None:\n",
    "        r\"\"\"Initialize the encoder.\n",
    "\n",
    "        Parameters\n",
    "        ----------\n",
    "        sparse: bool = True\n",
    "        \"\"\"\n",
    "        super().__init__()\n",
    "        self.sparse = sparse\n",
    "\n",
    "    def fit(self, data: DataFrame) -> None:\n",
    "        r\"\"\"Fit the encoder.\n",
    "\n",
    "        Parameters\n",
    "        ----------\n",
    "        data\n",
    "        \"\"\"\n",
    "        self.categories = pd.CategoricalDtype(data.columns)\n",
    "        self.dtypes = data.dtypes\n",
    "        # result = data.melt(ignore_index=False)\n",
    "        # # observed = result[\"value\"].notna()\n",
    "        # # result = result[observed]\n",
    "        # variable = result.columns[0]\n",
    "        # result[variable] = result[variable].astype(pd.StringDtype())\n",
    "        # self.categories = pd.CategoricalDtype(result[variable].unique())\n",
    "\n",
    "    def encode(self, df: DataFrame) -> DataFrame:\n",
    "        r\"\"\"Encode the data.\"\"\"\n",
    "        result = df.melt(ignore_index=False).dropna()\n",
    "        # observed = result[\"value\"].notna()\n",
    "        # result = result[observed]\n",
    "        variable = result.columns[0]\n",
    "        result[variable] = result[variable].astype(pd.StringDtype())\n",
    "        result[variable] = result[variable].astype(self.categories)\n",
    "        result.rename(columns={variable: \"variable\"}, inplace=True)\n",
    "        # result.index.rename(\"time\", inplace=True)\n",
    "        # result.sort_values(by=[\"time\", \"variable\"], inplace=True)\n",
    "        result = result.sort_index()\n",
    "        if not self.sparse:\n",
    "            return result\n",
    "        return pd.get_dummies(\n",
    "            result, columns=[\"variable\"], sparse=True, prefix=\"\", prefix_sep=\"\"\n",
    "        )\n",
    "\n",
    "    def decode(self, data: DataFrame, /) -> DataFrame:\n",
    "        r\"\"\"Decode the data.\"\"\"\n",
    "        if self.sparse:\n",
    "            df = data.iloc[..., 1:].stack()\n",
    "            # df = df[df == 1].stack().reset_index(level=-1)\n",
    "            # df[\"value\"] = data[\"value\"]\n",
    "            # df = df.rename(columns={\"level_1\": \"variable\"})\n",
    "\n",
    "            df = df[df == 1]\n",
    "            df.index = df.index.rename(\"variable\", level=-1)\n",
    "            df = df.reset_index(level=-1)\n",
    "            df[\"value\"] = data[\"value\"]\n",
    "        else:\n",
    "            df = data\n",
    "        df = df.pivot_table(\n",
    "            # TODO: FIX with https://github.com/pandas-dev/pandas/pull/45994\n",
    "            # simply use df.index.names instead then.\n",
    "            index=df.index,\n",
    "            columns=\"variable\",\n",
    "            values=\"value\",\n",
    "            dropna=False,\n",
    "        )\n",
    "        if isinstance(data.index, MultiIndex):\n",
    "            df.index = MultiIndex.from_tuples(df.index, names=data.index.names)\n",
    "\n",
    "        # re-add missing columns\n",
    "        for cat in self.categories.categories:\n",
    "            if cat not in df.columns:\n",
    "                df[cat] = float(\"nan\")  # TODO: replace with pd.NA when supported\n",
    "\n",
    "        result = df[self.categories.categories]  # fix column order\n",
    "        result = result.astype(self.dtypes)\n",
    "        return result"
   ]
  },
  {
   "cell_type": "code",
   "execution_count": null,
   "metadata": {},
   "outputs": [],
   "source": [
    "from tsdm.tasks import KIWI_FINAL_PRODUCT\n",
    "\n",
    "task = KIWI_FINAL_PRODUCT()\n",
    "ts = task.timeseries.sort_index(axis=\"index\").sort_index(axis=\"columns\")\n",
    "channel_freq = pd.notna(ts).mean().sort_values()\n",
    "\n",
    "fast_channels = channel_freq[channel_freq >= 0.1].index\n",
    "slow_channels = channel_freq[channel_freq < 0.1].index\n",
    "FAST = ts[fast_channels].dropna(how=\"all\")\n",
    "SLOW = ts[slow_channels].dropna(how=\"all\")\n",
    "groups = {\"fast\": fast_channels, \"slow\": slow_channels}"
   ]
  },
  {
   "cell_type": "code",
   "execution_count": null,
   "metadata": {},
   "outputs": [],
   "source": [
    "ts = ts.loc[439, 15325]"
   ]
  },
  {
   "cell_type": "code",
   "execution_count": null,
   "metadata": {},
   "outputs": [],
   "source": [
    "enc = TripletEncoder(sparse=True)\n",
    "enc.fit(ts)\n",
    "encoded = enc.encode(ts)"
   ]
  },
  {
   "cell_type": "code",
   "execution_count": null,
   "metadata": {},
   "outputs": [],
   "source": [
    "encoded.index.is_monotonic_increasing"
   ]
  },
  {
   "cell_type": "code",
   "execution_count": null,
   "metadata": {},
   "outputs": [],
   "source": [
    "decoded = enc.decode(encoded)\n",
    "pd.testing.assert_frame_equal(ts, decoded)"
   ]
  },
  {
   "cell_type": "code",
   "execution_count": null,
   "metadata": {},
   "outputs": [],
   "source": [
    "decoded.index.is_monotonic_increasing"
   ]
  },
  {
   "cell_type": "code",
   "execution_count": null,
   "metadata": {},
   "outputs": [],
   "source": [
    "ts"
   ]
  },
  {
   "cell_type": "code",
   "execution_count": null,
   "metadata": {},
   "outputs": [],
   "source": []
  }
 ],
 "metadata": {
  "kernelspec": {
   "display_name": "Python 3 (ipykernel)",
   "language": "python",
   "name": "python3"
  },
  "language_info": {
   "codemirror_mode": {
    "name": "ipython",
    "version": 3
   },
   "file_extension": ".py",
   "mimetype": "text/x-python",
   "name": "python",
   "nbconvert_exporter": "python",
   "pygments_lexer": "ipython3",
   "version": "3.9.12"
  }
 },
 "nbformat": 4,
 "nbformat_minor": 4
}
