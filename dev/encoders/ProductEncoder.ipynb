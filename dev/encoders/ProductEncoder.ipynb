{
 "cells": [
  {
   "cell_type": "markdown",
   "metadata": {},
   "source": [
    "# Title"
   ]
  },
  {
   "cell_type": "code",
   "execution_count": null,
   "metadata": {},
   "outputs": [],
   "source": [
    "%config InteractiveShell.ast_node_interactivity='last_expr_or_assign'  # always print last expr.\n",
    "%config InlineBackend.figure_format = 'svg'\n",
    "%load_ext autoreload\n",
    "%autoreload 1\n",
    "%aimport tsdm\n",
    "%matplotlib inline"
   ]
  },
  {
   "cell_type": "code",
   "execution_count": null,
   "metadata": {},
   "outputs": [],
   "source": [
    "import numpy as np\n",
    "\n",
    "np.set_printoptions(precision=4, floatmode=\"fixed\", suppress=True)\n",
    "rng = np.random.default_rng()"
   ]
  },
  {
   "cell_type": "code",
   "execution_count": null,
   "metadata": {},
   "outputs": [],
   "source": [
    "from tsdm.encoders import *"
   ]
  },
  {
   "cell_type": "code",
   "execution_count": null,
   "metadata": {},
   "outputs": [],
   "source": [
    "({1, 2, 3}, \"a\")"
   ]
  },
  {
   "cell_type": "code",
   "execution_count": null,
   "metadata": {},
   "outputs": [],
   "source": [
    "from collections.abc import Iterable, Sequence\n",
    "from typing import Any\n",
    "\n",
    "\n",
    "class ProductEncoder(BaseEncoder):\n",
    "    encoders: tuple[..., BaseEncoder]\n",
    "\n",
    "    def __init__(self, encoder: Iterable[BaseEncoder], copy: bool = False) -> None:\n",
    "        super().__init__()\n",
    "        self.encoders = tuple(encoders)\n",
    "\n",
    "    def fit(self, data: Sequence[Any]) -> None:\n",
    "        for encoder, x in zip(self.encoders, data):\n",
    "            encoder.fit(x)\n",
    "\n",
    "    def encode(self, data: Sequence[Any]) -> Sequence[Any]:\n",
    "        return tuple(encoder.encode(x) for encoder, x in zip(self.encoders, data))\n",
    "\n",
    "    def decode(self, data: Sequence[Any]) -> Sequence[Any]:\n",
    "        return tuple(encoder.decode(x) for encoder, x in zip(self.encoders, data))"
   ]
  },
  {
   "cell_type": "code",
   "execution_count": null,
   "metadata": {},
   "outputs": [],
   "source": []
  }
 ],
 "metadata": {
  "kernelspec": {
   "display_name": "Python 3 (ipykernel)",
   "language": "python",
   "name": "python3"
  },
  "language_info": {
   "codemirror_mode": {
    "name": "ipython",
    "version": 3
   },
   "file_extension": ".py",
   "mimetype": "text/x-python",
   "name": "python",
   "nbconvert_exporter": "python",
   "pygments_lexer": "ipython3",
   "version": "3.9.10"
  }
 },
 "nbformat": 4,
 "nbformat_minor": 4
}
