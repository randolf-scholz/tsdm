{
 "cells": [
  {
   "cell_type": "markdown",
   "metadata": {},
   "source": [
    "# Title"
   ]
  },
  {
   "cell_type": "code",
   "execution_count": null,
   "metadata": {},
   "outputs": [],
   "source": [
    "%config InteractiveShell.ast_node_interactivity='last_expr_or_assign'  # always print last expr.\n",
    "%config InlineBackend.figure_format = 'svg'\n",
    "%load_ext autoreload\n",
    "%autoreload 2\n",
    "%matplotlib inline"
   ]
  },
  {
   "cell_type": "code",
   "execution_count": null,
   "metadata": {},
   "outputs": [],
   "source": [
    "import numpy as np\n",
    "\n",
    "np.set_printoptions(precision=4, floatmode=\"fixed\", suppress=True)\n",
    "rng = np.random.default_rng()"
   ]
  },
  {
   "cell_type": "code",
   "execution_count": null,
   "metadata": {},
   "outputs": [],
   "source": [
    "# Lazy dict allows storing function and argument pairs when initializing the dictionary,\n",
    "# it calculates the value only when fetching it.\n",
    "# In this examole, if the key starts with '#', it would accept a (function, args) tuple as value and\n",
    "# returns the calculated result when fetching the values.\n",
    "\n",
    "from collections import UserDict\n",
    "\n",
    "\n",
    "class LazyDict(UserDict):\n",
    "    def __init__(self, *args, **kw):\n",
    "        self._raw_dict = dict(*args, **kw)\n",
    "\n",
    "    def __getitem__(self, key):\n",
    "        if key.startswith(\"#\"):\n",
    "            func, arg = self._raw_dict.__getitem__(key)\n",
    "            return func(arg)\n",
    "        return self._raw_dict.__getitem__(key)\n",
    "\n",
    "    def __iter__(self):\n",
    "        return iter(self._raw_dict)\n",
    "\n",
    "    def __len__(self):\n",
    "        return len(self._raw_dict)\n",
    "\n",
    "\n",
    "# Initialize a lazy dict\n",
    "d = LazyDict({\n",
    "    \"#1\": (lambda x: x + 1, 0), \"#2\": (lambda x: x + 2, 0), \"#3\": (lambda x: x + 3, 0)\n",
    "})\n",
    "\n",
    "# Let's try to fetch first two values\n",
    "count = 0\n",
    "for index, value in d.items():\n",
    "    print(d[index])\n",
    "\n",
    "    count += 1\n",
    "    if count >= 1:\n",
    "        break\n",
    "\n",
    "# Output:\n",
    "# 1\n",
    "# 2\n",
    "\n",
    "# Function for \"#3\" doesn't run"
   ]
  },
  {
   "cell_type": "code",
   "execution_count": null,
   "metadata": {},
   "outputs": [],
   "source": []
  },
  {
   "cell_type": "code",
   "execution_count": null,
   "metadata": {},
   "outputs": [],
   "source": [
    "a: int = 3"
   ]
  },
  {
   "cell_type": "code",
   "execution_count": null,
   "metadata": {},
   "outputs": [],
   "source": [
    "class LazyDict(UserDict):\n",
    "    def __init__(self, *args, **kw):\n",
    "        self._raw_dict = dict(*args, **kw)\n",
    "\n",
    "    def __getitem__(self, key):\n",
    "        if key.startswith(\"#\"):\n",
    "            func, arg = self._raw_dict.__getitem__(key)\n",
    "            return func(arg)\n",
    "        return self._raw_dict.__getitem__(key)\n",
    "\n",
    "    def __iter__(self):\n",
    "        return iter(self._raw_dict)\n",
    "\n",
    "    def __len__(self):\n",
    "        return len(self._raw_dict)\n",
    "\n",
    "\n",
    "d: dict[str, typing.Callable] = LazyDict({\n",
    "    \"#1\": (lambda x: x + 1, 0), \"#2\": (lambda x: x + 2, 0), \"#3\": (lambda x: x + 3, 0)\n",
    "})"
   ]
  },
  {
   "cell_type": "code",
   "execution_count": null,
   "metadata": {},
   "outputs": [],
   "source": [
    "import typing\n",
    "\n",
    "typing.get_type_hints(d)"
   ]
  },
  {
   "cell_type": "code",
   "execution_count": null,
   "metadata": {},
   "outputs": [],
   "source": []
  }
 ],
 "metadata": {
  "kernelspec": {
   "display_name": "Python 3 (ipykernel)",
   "language": "python",
   "name": "python3"
  },
  "language_info": {
   "codemirror_mode": {
    "name": "ipython",
    "version": 3
   },
   "file_extension": ".py",
   "mimetype": "text/x-python",
   "name": "python",
   "nbconvert_exporter": "python",
   "pygments_lexer": "ipython3",
   "version": "3.9.7"
  }
 },
 "nbformat": 4,
 "nbformat_minor": 4
}
