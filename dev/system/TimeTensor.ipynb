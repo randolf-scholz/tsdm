{
 "cells": [
  {
   "cell_type": "markdown",
   "metadata": {},
   "source": [
    "# Time Tensor"
   ]
  },
  {
   "cell_type": "code",
   "execution_count": null,
   "metadata": {},
   "outputs": [],
   "source": [
    "%config InteractiveShell.ast_node_interactivity='last_expr_or_assign'  # always print last expr.\n",
    "%config InlineBackend.figure_format = 'svg'\n",
    "%load_ext autoreload\n",
    "%autoreload 2\n",
    "%matplotlib inline"
   ]
  },
  {
   "cell_type": "code",
   "execution_count": null,
   "metadata": {},
   "outputs": [],
   "source": [
    "from typing import Optional, Union\n",
    "\n",
    "import numpy as np\n",
    "import torch\n",
    "from numpy.typing import ArrayLike\n",
    "from pandas import DataFrame, Index, Series\n",
    "from torch import Tensor"
   ]
  },
  {
   "cell_type": "code",
   "execution_count": null,
   "metadata": {},
   "outputs": [],
   "source": [
    "from tsdm.datasets import ETTh1"
   ]
  },
  {
   "cell_type": "code",
   "execution_count": null,
   "metadata": {},
   "outputs": [],
   "source": [
    "ds = ETTh1.dataset"
   ]
  },
  {
   "cell_type": "code",
   "execution_count": null,
   "metadata": {},
   "outputs": [],
   "source": [
    "Tensor(ds.values)"
   ]
  },
  {
   "cell_type": "code",
   "execution_count": null,
   "metadata": {},
   "outputs": [],
   "source": [
    "from torch.utils.data import Dataset, TensorDataset"
   ]
  },
  {
   "cell_type": "code",
   "execution_count": null,
   "metadata": {},
   "outputs": [],
   "source": [
    "class IndexMethodClone:\n",
    "    def __init__(self, data, index_method):\n",
    "        self.data = data\n",
    "        self.index_method = index_method\n",
    "\n",
    "    def __getitem__(self, item):\n",
    "        print(item)\n",
    "        idx = self.index_method[item]\n",
    "        return self.data[idx]"
   ]
  },
  {
   "cell_type": "code",
   "execution_count": null,
   "metadata": {},
   "outputs": [],
   "source": [
    "class TimeTensor(Tensor):\n",
    "    @staticmethod\n",
    "    def __new__(\n",
    "        cls,\n",
    "        x: Union[Tensor, DataFrame, Series, ArrayLike],\n",
    "        *args,\n",
    "        index: Optional[Index] = None,\n",
    "        **kwargs,\n",
    "    ):\n",
    "        print(args, kwargs)\n",
    "        if isinstance(x, DataFrame) or isinstance(x, Series):\n",
    "            assert index is None, \"Index given, but x is DataFrame/Series\"\n",
    "            x = x.values\n",
    "        return super().__new__(cls, x, *args, **kwargs)\n",
    "\n",
    "    def __init__(\n",
    "        self,\n",
    "        x: Union[Tensor, DataFrame, Series, ArrayLike],\n",
    "        index: Optional[Index] = None,\n",
    "    ):\n",
    "        super().__init__()  # optional\n",
    "        if isinstance(x, DataFrame) or isinstance(x, Series):\n",
    "            index = x.index\n",
    "        else:\n",
    "            index = Index(np.arange(len(x))) if index is None else index\n",
    "\n",
    "        self.index = Series(np.arange(len(x)), index=index)\n",
    "        self.loc = IndexMethodClone(self, self.index.loc)\n",
    "        self.iloc = IndexMethodClone(self, self.index.iloc)\n",
    "        self.at = IndexMethodClone(self, self.index.at)\n",
    "        self.iat = IndexMethodClone(self, self.index.iat)"
   ]
  },
  {
   "cell_type": "code",
   "execution_count": null,
   "metadata": {},
   "outputs": [],
   "source": [
    "ts = TimeTensor(ds)"
   ]
  },
  {
   "cell_type": "code",
   "execution_count": null,
   "metadata": {},
   "outputs": [],
   "source": [
    "ts.loc[\"2016\":\"2017\"]"
   ]
  },
  {
   "cell_type": "markdown",
   "metadata": {},
   "source": [
    "### TimeTensor Type hint & Type Check"
   ]
  },
  {
   "cell_type": "code",
   "execution_count": null,
   "metadata": {},
   "outputs": [],
   "source": [
    "IndexedArray = Union[Series, DataFrame, TimeTensor]\n",
    "\n",
    "\n",
    "def is_indexed_array(x) -> bool:\n",
    "    return (\n",
    "        isinstance(x, Series) or isinstance(x, DataFrame) or isinstance(x, TimeTensor)\n",
    "    )"
   ]
  },
  {
   "cell_type": "markdown",
   "metadata": {},
   "source": [
    "## TimeSeriesDataSet"
   ]
  },
  {
   "cell_type": "code",
   "execution_count": null,
   "metadata": {},
   "outputs": [],
   "source": [
    "def tensor_info(x: Tensor) -> str:\n",
    "    return f\"{x.__class__.__name__}[{tuple(x.shape)}, {x.dtype}, {x.device.type}]\""
   ]
  },
  {
   "cell_type": "code",
   "execution_count": null,
   "metadata": {},
   "outputs": [],
   "source": [
    "tensor_info(torch.randn(1, 2, 3))"
   ]
  },
  {
   "cell_type": "code",
   "execution_count": null,
   "metadata": {},
   "outputs": [],
   "source": [
    "from collections.abc import Collection, Iterable, Mapping"
   ]
  },
  {
   "cell_type": "code",
   "execution_count": null,
   "metadata": {},
   "outputs": [],
   "source": [
    "class _TupleIndexMethodClone:\n",
    "    r\"\"\"Clone .loc and similar methods to tensor-like object.\"\"\"\n",
    "\n",
    "    def __init__(\n",
    "        self, data: tuple[ArrayLike, ...], index: tuple[Index, ...], method: str = \"loc\"\n",
    "    ):\n",
    "        self.data = data\n",
    "        self.index = index\n",
    "        self.method = tuple(getattr(idx, method) for idx in self.index)\n",
    "\n",
    "    def __getitem__(self, item):\n",
    "        indices = tuple(method[item] for method in self.method)\n",
    "        return tuple(data[indices] for data in self.data)"
   ]
  },
  {
   "cell_type": "code",
   "execution_count": null,
   "metadata": {},
   "outputs": [],
   "source": [
    "class TimeSeriesDataset(TensorDataset):\n",
    "    \"\"\"A general Time Series Dataset.\n",
    "\n",
    "    Consists of 2 things\n",
    "    - timeseries: TimeTensor / tuple[TimeTensor]\n",
    "    - metadata: Tensor / tuple[Tensor]\n",
    "\n",
    "    When retrieving items, we generally use slices:\n",
    "\n",
    "    - ds[timestamp] = ds[timestamp:timestamp]\n",
    "    - ds[t₀:t₁] = tuple[X[t₀:t₁] for X in self.timeseries], metadata\n",
    "    \"\"\"\n",
    "\n",
    "    def __init__(\n",
    "        self,\n",
    "        *tensors: IndexedArray,\n",
    "        observations: Optional[\n",
    "            Union[\n",
    "                IndexedArray,\n",
    "                tuple[Index, ArrayLike],\n",
    "                dict[Index, ArrayLike],\n",
    "                Collection[IndexedArray],\n",
    "                Collection[tuple[Index, ArrayLike]],\n",
    "            ]\n",
    "        ] = None,\n",
    "        metadata: Optional[Union[Tensor, tuple[Tensor]]] = None,\n",
    "    ):\n",
    "        ts_tensors = []\n",
    "        for tensor in tensors:\n",
    "            ts_tensors.append(TimeTensor(tensor))\n",
    "\n",
    "        if observations is not None:\n",
    "            # Case: IndexedArray\n",
    "            if is_indexed_array(observations):\n",
    "                ts_tensors.append(TimeTensor(observations))\n",
    "            # Case: tuple[Index, ArrayLike],\n",
    "            elif (\n",
    "                isinstance(observations, tuple)\n",
    "                and len(observations) == 2\n",
    "                and isinstance(obseravations[0], Index)\n",
    "            ):\n",
    "                index, tensor = obseravations\n",
    "                ts_tensors.append(TimeTensor(tensor, index=index))\n",
    "            # Case: dict[Index, ArrayLike],\n",
    "            elif isinstance(observations, Mapping):\n",
    "                for index, tensor in observations.items():\n",
    "                    ts_tensors.append(TimeTensor(tensor, index=index))\n",
    "            # Case: Iterable\n",
    "            elif isinstance(observations, Iterable):\n",
    "                observations = list(observations)\n",
    "                firstobs = observations[0]\n",
    "                # Case: Iterable[IndexedArray]\n",
    "                if is_indexed_array(firstobs):\n",
    "                    for tensor in observations:\n",
    "                        ts_tensors.append(TimeTensor(tensor))\n",
    "                # Case: Iterable[tuple(Index, ArrayLike)]\n",
    "                elif (\n",
    "                    isinstance(firstobs, tuple)\n",
    "                    and len(firstobs) == 2\n",
    "                    and isinstance(firstobs[0], Index)\n",
    "                ):\n",
    "                    for index, tensor in observations:\n",
    "                        ts_tensors.append(TimeTensor(tensor, index=index))\n",
    "                else:\n",
    "                    raise ValueError(f\"{observations=} not undertstood\")\n",
    "            else:\n",
    "                raise ValueError(f\"{observations=} not undertstood\")\n",
    "\n",
    "        self.timeseries = tuple(ts_tensors)\n",
    "\n",
    "        if metadata is not None:\n",
    "            if isinstance(metadata, tuple):\n",
    "                self.metadata = tuple(torch.Tensor(tensor) for tensor in metadata)\n",
    "            else:\n",
    "                self.metadata = torch.Tensor(metadata)\n",
    "        else:\n",
    "            self.metadata = None\n",
    "\n",
    "    def __repr__(self) -> str:\n",
    "        pad = r\"  \"\n",
    "\n",
    "        if isinstance(self.timeseries, tuple):\n",
    "            ts_lines = [tensor_info(tensor) for tensor in self.timeseries]\n",
    "        else:\n",
    "            ts_lines = [tensor_info(self.timeseries)]\n",
    "\n",
    "        if self.metadata is None:\n",
    "            md_lines = [f\"{None}\"]\n",
    "        elif isinstance(self.metadata, tuple):\n",
    "            md_lines = [tensor_info(tensor) for tensor in self.metadata]\n",
    "        else:\n",
    "            md_lines = [tensor_info(self.metadata)]\n",
    "\n",
    "        return (\n",
    "            f\"{self.__class__.__name__}(\"\n",
    "            + \"\".join([\"\\n\" + 2 * pad + line for line in ts_lines])\n",
    "            + \"\\n\"\n",
    "            + pad\n",
    "            + \"metadata:\"\n",
    "            + \"\".join([\"\\n\" + 2 * pad + line for line in md_lines])\n",
    "            + \"\\n\"\n",
    "            + \")\"\n",
    "        )\n",
    "\n",
    "    def __len__(self) -> int:\n",
    "        r\"\"\"The length of the longest timeseries.\"\"\"\n",
    "        if isinstance(self.timeseries, tuple):\n",
    "            return max(len(tensor) for tensor in self.timeseries)\n",
    "        return len(self.timeseries)\n",
    "\n",
    "    def __getitem__(self, item):\n",
    "        r\"\"\"Return corresponding slice from each tensor.\"\"\"\n",
    "        return tuple(tensor.loc[item] for tensor in self.timeseries)"
   ]
  },
  {
   "cell_type": "code",
   "execution_count": null,
   "metadata": {},
   "outputs": [],
   "source": [
    "a = TimeSeriesDataset(ds, ds, ds)"
   ]
  },
  {
   "cell_type": "code",
   "execution_count": null,
   "metadata": {},
   "outputs": [],
   "source": [
    "a = TimeSeriesDataset(ds, ds, ds)\n",
    "b = 2"
   ]
  },
  {
   "cell_type": "code",
   "execution_count": null,
   "metadata": {},
   "outputs": [],
   "source": [
    "ds"
   ]
  },
  {
   "cell_type": "code",
   "execution_count": null,
   "metadata": {},
   "outputs": [],
   "source": [
    "torch.randn(5)"
   ]
  },
  {
   "cell_type": "code",
   "execution_count": null,
   "metadata": {},
   "outputs": [],
   "source": [
    "isinstance(ds, ArrayLike)"
   ]
  },
  {
   "cell_type": "code",
   "execution_count": null,
   "metadata": {},
   "outputs": [],
   "source": [
    "ds[\"OT\"].shape"
   ]
  },
  {
   "cell_type": "code",
   "execution_count": null,
   "metadata": {},
   "outputs": [],
   "source": [
    "class TensorDataset(Dataset[tuple[Tensor, ...]]):\n",
    "    r\"\"\"Dataset wrapping tensors.\n",
    "    Each sample will be retrieved by indexing tensors along the first dimension.\n",
    "    Args:\n",
    "        *tensors (Tensor): tensors that have the same size of the first dimension.\n",
    "    \"\"\"\n",
    "\n",
    "    tensors: tuple[Tensor, ...]\n",
    "\n",
    "    def __init__(self, *tensors: Tensor) -> None:\n",
    "        assert all(\n",
    "            tensors[0].size(0) == tensor.size(0) for tensor in tensors\n",
    "        ), \"Size mismatch between tensors\"\n",
    "        self.tensors = tensors\n",
    "\n",
    "    def __getitem__(self, index):\n",
    "        return tuple(tensor[index] for tensor in self.tensors)\n",
    "\n",
    "    def __len__(self):\n",
    "        return self.tensors[0].size(0)"
   ]
  },
  {
   "cell_type": "code",
   "execution_count": null,
   "metadata": {},
   "outputs": [],
   "source": []
  },
  {
   "cell_type": "code",
   "execution_count": null,
   "metadata": {},
   "outputs": [],
   "source": [
    "ts.loc[\"2016-07-01 02:00:00\":\"2016-07-01 02:00:00\"]  # \"2016-07-01 03:00:00\"]"
   ]
  },
  {
   "cell_type": "code",
   "execution_count": null,
   "metadata": {},
   "outputs": [],
   "source": [
    "ts.index[\"2016-07-01 02:00:00\":\"2016-07-01 02:00:00\"]"
   ]
  },
  {
   "cell_type": "code",
   "execution_count": null,
   "metadata": {},
   "outputs": [],
   "source": [
    "from pandas import DataFrame\n",
    "\n",
    "df = DataFrame(np.random.randn(7, 3), index=np.arange(7), columns=[\"A\", \"B\", \"C\"])\n",
    "df.loc[2]"
   ]
  },
  {
   "cell_type": "code",
   "execution_count": null,
   "metadata": {},
   "outputs": [],
   "source": [
    "tuple(range(3))"
   ]
  },
  {
   "cell_type": "code",
   "execution_count": null,
   "metadata": {},
   "outputs": [],
   "source": [
    "torch.Tensor((ds.values, ds.values))"
   ]
  },
  {
   "cell_type": "code",
   "execution_count": null,
   "metadata": {},
   "outputs": [],
   "source": []
  },
  {
   "cell_type": "code",
   "execution_count": null,
   "metadata": {},
   "outputs": [],
   "source": []
  }
 ],
 "metadata": {
  "kernelspec": {
   "display_name": "Python 3 (ipykernel)",
   "language": "python",
   "name": "python3"
  },
  "language_info": {
   "codemirror_mode": {
    "name": "ipython",
    "version": 3
   },
   "file_extension": ".py",
   "mimetype": "text/x-python",
   "name": "python",
   "nbconvert_exporter": "python",
   "pygments_lexer": "ipython3",
   "version": "3.9.7"
  }
 },
 "nbformat": 4,
 "nbformat_minor": 4
}
