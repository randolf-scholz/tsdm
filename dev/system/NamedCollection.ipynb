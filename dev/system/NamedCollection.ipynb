{
 "cells": [
  {
   "cell_type": "markdown",
   "metadata": {},
   "source": [
    "# NamedCollection\n",
    "\n",
    "https://stackoverflow.com/questions/69851853/nametuple-with-a-priori-variable-unknown-number-of-keys-objects"
   ]
  },
  {
   "cell_type": "code",
   "execution_count": null,
   "metadata": {},
   "outputs": [],
   "source": [
    "%config InteractiveShell.ast_node_interactivity='last_expr_or_assign'  # always print last expr.\n",
    "%config InlineBackend.figure_format = 'svg'\n",
    "%load_ext autoreload\n",
    "%autoreload 2\n",
    "%matplotlib inline"
   ]
  },
  {
   "cell_type": "code",
   "execution_count": null,
   "metadata": {},
   "outputs": [],
   "source": [
    "from typing import NamedTuple\n",
    "\n",
    "\n",
    "class MyTup(NamedTuple):\n",
    "    NamedTupleKeyValuePair0: int = 0\n",
    "    NamedTupleKeyValuePair1: int = 1\n",
    "    NamedTupleKeyValuePair2: int = 2\n",
    "    NamedTupleKeyValuePair3: int = 3\n",
    "    NamedTupleKeyValuePair4: int = 4\n",
    "    NamedTupleKeyValuePair5: int = 5\n",
    "    NamedTupleKeyValuePair6: int = 6"
   ]
  },
  {
   "cell_type": "code",
   "execution_count": null,
   "metadata": {},
   "outputs": [],
   "source": [
    "mytup = MyTup()"
   ]
  },
  {
   "cell_type": "code",
   "execution_count": null,
   "metadata": {},
   "outputs": [],
   "source": [
    "from abc import abstractmethod\n",
    "from collections.abc import Collection\n",
    "\n",
    "\n",
    "class NamedCollection(Collection):\n",
    "    \"\"\"Create a NamedTuple on the fly\"\"\"\n",
    "    \n",
    "    \n",
    "    def __init__(self, , /, **kwargs):\n",
    "        \n",
    "    "
   ]
  },
  {
   "cell_type": "code",
   "execution_count": null,
   "metadata": {},
   "outputs": [],
   "source": []
  }
 ],
 "metadata": {
  "kernelspec": {
   "display_name": "Python 3 (ipykernel)",
   "language": "python",
   "name": "python3"
  },
  "language_info": {
   "codemirror_mode": {
    "name": "ipython",
    "version": 3
   },
   "file_extension": ".py",
   "mimetype": "text/x-python",
   "name": "python",
   "nbconvert_exporter": "python",
   "pygments_lexer": "ipython3",
   "version": "3.9.7"
  }
 },
 "nbformat": 4,
 "nbformat_minor": 4
}
