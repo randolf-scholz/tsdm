{
 "cells": [
  {
   "cell_type": "markdown",
   "metadata": {},
   "source": [
    "# Title"
   ]
  },
  {
   "cell_type": "code",
   "execution_count": null,
   "metadata": {},
   "outputs": [],
   "source": [
    "%config InteractiveShell.ast_node_interactivity='last_expr_or_assign'  # always print last expr.\n",
    "%config InlineBackend.figure_format = 'svg'\n",
    "%load_ext autoreload\n",
    "%autoreload 2\n",
    "%matplotlib inline"
   ]
  },
  {
   "cell_type": "code",
   "execution_count": null,
   "metadata": {},
   "outputs": [],
   "source": [
    "dict_attributes = set(dir(dict())) - set(dir(object()))"
   ]
  },
  {
   "cell_type": "markdown",
   "metadata": {},
   "source": [
    "## Remark - Initializing dicts\n",
    "\n",
    "There are 3 ways of initializing `dict`\n",
    "\n",
    "- `dict(**kwargs)`: standard key/values\n",
    "- `dict(Mapping, **kwargs)`:  If a mapping object is given, then\n",
    "    1. A list of keys `list[key]` will be generated via `list(iter(Mapping))`\n",
    "    2. The values will be looked up via `Mapping.__getitem__(key)`\n",
    "- `dict(Iterable, **kwargs)`: If the first item is an iterable, then:\n",
    "    1. A `list[tuple[key, value]]` will be generated via `list(iter(Iterable))`\n"
   ]
  },
  {
   "cell_type": "code",
   "execution_count": null,
   "metadata": {},
   "outputs": [],
   "source": [
    "from collections.abc import Iterable, Mapping, Union\n",
    "from typing import Optional\n",
    "\n",
    "\n",
    "def is_dunder(s: str) -> bool:\n",
    "    return s.startswith(\"__\") and s.endswith(\"__\")\n",
    "\n",
    "\n",
    "class Config(Iterable):\n",
    "    def __init__(\n",
    "        self, __dict__: Optional[Union[Mapping, Iterable]] = None, /, **kwargs\n",
    "    ):\n",
    "        super().__init__()\n",
    "\n",
    "        if __dict__ is not None:\n",
    "            assert not kwargs, \"kwargs not allowed if Mappping given!\"\n",
    "\n",
    "        items = kwargs if __dict__ is None else __dict__\n",
    "\n",
    "        for key in items:\n",
    "            value = items[key]\n",
    "            if isinstance(value, Config):\n",
    "                setattr(self, key, value)\n",
    "            elif is_dunder(key):\n",
    "                raise ValueError(f\"Cannot set dunder key {key=}\")\n",
    "            # Recurse on Mapping\n",
    "            else:\n",
    "                if isinstance(value, Mapping):\n",
    "                    setattr(self, key, Config(value))\n",
    "                else:\n",
    "                    setattr(self, key, value)\n",
    "\n",
    "    def __str__(self):\n",
    "        return self.__class__.__name__\n",
    "\n",
    "    def __format__(self):\n",
    "        return self.__class__.__name__\n",
    "\n",
    "    def __repr__(self, nest_level: int = 0):\n",
    "        print(nest_level)\n",
    "        pad = r\"_\" * 4\n",
    "        start_string = f\"{self.__class__.__name__}(\"\n",
    "        end_string = \")\"\n",
    "\n",
    "        lines = [start_string]\n",
    "\n",
    "        for key, value in self.__dict__.items():\n",
    "            if isinstance(value, Config):\n",
    "                s = pad + f\"{key} = {value.__repr__(nest_level+1)}\"\n",
    "            else:\n",
    "                s = pad + f\"{key} = {value}\"\n",
    "            lines.append(s)\n",
    "        lines.append(end_string)\n",
    "        result = (\"\\n\" + pad * nest_level).join(lines)\n",
    "        # print(result)\n",
    "        return result\n",
    "\n",
    "    def __len__(self):\n",
    "        return self.__dict__.__len__()\n",
    "\n",
    "    def __getitem__(self, key, from_iter=False):\n",
    "        print(f\"__getitem__ called from {id(self)} with {key=} and {from_iter=}\")\n",
    "        value = self.__dict__[key]\n",
    "\n",
    "        if from_iter and isinstance(value, Config):\n",
    "            return dict(value)\n",
    "        return value\n",
    "\n",
    "    def __iter__(self):\n",
    "        print(f\"__iter__ called, {id(self)=}\")\n",
    "        print(f\"{self.__dict__=}\")\n",
    "        for key, value in self.__dict__.items():\n",
    "            # if isinstance(value, Config):\n",
    "            yield key, self.__getitem__(key, from_iter=True)"
   ]
  },
  {
   "cell_type": "code",
   "execution_count": null,
   "metadata": {},
   "outputs": [],
   "source": [
    "Config()"
   ]
  },
  {
   "cell_type": "code",
   "execution_count": null,
   "metadata": {},
   "outputs": [],
   "source": [
    "simple = Config(a=1, b=2)\n",
    "\n",
    "dict(simple, c=1)"
   ]
  },
  {
   "cell_type": "code",
   "execution_count": null,
   "metadata": {},
   "outputs": [],
   "source": [
    "z = Config(a=2, b=2, c=Config(x=1, y=2, z=Config(w=1, o=2)))"
   ]
  },
  {
   "cell_type": "code",
   "execution_count": null,
   "metadata": {},
   "outputs": [],
   "source": [
    "list(iter(z.c.z))"
   ]
  },
  {
   "cell_type": "code",
   "execution_count": null,
   "metadata": {},
   "outputs": [],
   "source": [
    "list(iter(z))"
   ]
  },
  {
   "cell_type": "code",
   "execution_count": null,
   "metadata": {},
   "outputs": [],
   "source": [
    "dict(z)"
   ]
  },
  {
   "cell_type": "code",
   "execution_count": null,
   "metadata": {},
   "outputs": [],
   "source": [
    "z.__dict__"
   ]
  },
  {
   "cell_type": "code",
   "execution_count": null,
   "metadata": {},
   "outputs": [],
   "source": [
    "list(iter(z))"
   ]
  },
  {
   "cell_type": "code",
   "execution_count": null,
   "metadata": {},
   "outputs": [],
   "source": [
    "dict(z)"
   ]
  },
  {
   "cell_type": "code",
   "execution_count": null,
   "metadata": {},
   "outputs": [],
   "source": [
    "d = dict([(1, 2), (3, 4), (5, 6, 7)])"
   ]
  },
  {
   "cell_type": "code",
   "execution_count": null,
   "metadata": {},
   "outputs": [],
   "source": [
    "dict(iter(d))"
   ]
  },
  {
   "cell_type": "code",
   "execution_count": null,
   "metadata": {},
   "outputs": [],
   "source": [
    "dict(z)"
   ]
  },
  {
   "cell_type": "code",
   "execution_count": null,
   "metadata": {},
   "outputs": [],
   "source": [
    "z.__dict__"
   ]
  },
  {
   "cell_type": "code",
   "execution_count": null,
   "metadata": {},
   "outputs": [],
   "source": [
    "from typing import NamedTuple"
   ]
  },
  {
   "cell_type": "code",
   "execution_count": null,
   "metadata": {},
   "outputs": [],
   "source": [
    "class MyTup(NamedTuple):\n",
    "    count: int\n",
    "    index: float"
   ]
  },
  {
   "cell_type": "code",
   "execution_count": null,
   "metadata": {},
   "outputs": [],
   "source": [
    "MyTup(count=2, index=3)"
   ]
  },
  {
   "cell_type": "code",
   "execution_count": null,
   "metadata": {},
   "outputs": [],
   "source": [
    "MyTup(count=2, index=3).count"
   ]
  },
  {
   "cell_type": "code",
   "execution_count": null,
   "metadata": {},
   "outputs": [],
   "source": []
  }
 ],
 "metadata": {
  "kernelspec": {
   "display_name": "Python 3 (ipykernel)",
   "language": "python",
   "name": "python3"
  },
  "language_info": {
   "codemirror_mode": {
    "name": "ipython",
    "version": 3
   },
   "file_extension": ".py",
   "mimetype": "text/x-python",
   "name": "python",
   "nbconvert_exporter": "python",
   "pygments_lexer": "ipython3",
   "version": "3.9.7"
  }
 },
 "nbformat": 4,
 "nbformat_minor": 4
}
