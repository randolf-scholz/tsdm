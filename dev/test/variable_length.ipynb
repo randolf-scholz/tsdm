{
 "cells": [
  {
   "cell_type": "markdown",
   "metadata": {},
   "source": [
    "# Title"
   ]
  },
  {
   "cell_type": "code",
   "execution_count": null,
   "metadata": {},
   "outputs": [],
   "source": [
    "%config InteractiveShell.ast_node_interactivity='last_expr_or_assign'  # always print last expr.\n",
    "%config InlineBackend.figure_format = 'svg'\n",
    "%load_ext autoreload\n",
    "%autoreload 2\n",
    "%matplotlib inline\n",
    "\n",
    "import logging\n",
    "\n",
    "logging.basicConfig(level=logging.INFO)"
   ]
  },
  {
   "cell_type": "code",
   "execution_count": null,
   "metadata": {},
   "outputs": [],
   "source": [
    "from random import randint\n",
    "from typing import Optional, Union\n",
    "\n",
    "import jax\n",
    "import jax.numpy as np\n",
    "import torch\n",
    "from numpy.random import randn\n",
    "from torch import Tensor, nn"
   ]
  },
  {
   "cell_type": "code",
   "execution_count": null,
   "metadata": {},
   "outputs": [],
   "source": [
    "?tf.RaggedTensor.from_nested_value_rowids"
   ]
  },
  {
   "cell_type": "code",
   "execution_count": null,
   "metadata": {},
   "outputs": [],
   "source": [
    "class RecursiveNorm(nn.Module):\n",
    "    def forward(self, x: Union[list, Tensor]) -> Tensor:\n",
    "        if isinstance(x, list):\n",
    "            return sum(self.forward(y) for y in x)\n",
    "        return torch.linalg.norm(x)\n",
    "\n",
    "\n",
    "module = RecursiveNorm()"
   ]
  },
  {
   "cell_type": "code",
   "execution_count": null,
   "metadata": {},
   "outputs": [],
   "source": [
    "def recursive_norm(x: Union[list[np.ndarray], np.ndarray]) -> np.ndarray:\n",
    "    if isinstance(x, list):\n",
    "        return sum(recursive_norm(y) for y in x)\n",
    "    return np.linalg.norm(x)\n",
    "\n",
    "\n",
    "jitted_recursive_norm = jax.jit(recursive_norm)"
   ]
  },
  {
   "cell_type": "code",
   "execution_count": null,
   "metadata": {},
   "outputs": [],
   "source": [
    "jax.pmap(recursive_norm)(data)"
   ]
  },
  {
   "cell_type": "code",
   "execution_count": null,
   "metadata": {},
   "outputs": [],
   "source": [
    "max_length: int = 16\n",
    "max_rank: int = 5\n",
    "n = randint(1, max_rank + 1)\n",
    "shape = tuple(randint(1, max_length + 1) for _ in range(n))\n",
    "shape"
   ]
  },
  {
   "cell_type": "code",
   "execution_count": null,
   "metadata": {},
   "outputs": [],
   "source": [
    "def random_tensor(max__length: int = 16, max_rank: int = 5):\n",
    "    n = randint(1, max_rank)\n",
    "    shape = tuple(randint(1, max_length) for _ in range(n))\n",
    "    return np.array(randn(*shape))\n",
    "\n",
    "\n",
    "def random_nested(max_length=5, max_depth=3, cur_depth=0):\n",
    "    length = randint(1, 5)\n",
    "    if randint(0, 1) and cur_depth < max_depth:\n",
    "        # nest\n",
    "        return [random_nested(cur_depth=cur_depth + 1) for _ in range(length)]\n",
    "    return [random_tensor() for _ in range(length)]\n",
    "\n",
    "\n",
    "def to_torch(x, device: Optional[torch.device] = None):\n",
    "    if isinstance(x, list):\n",
    "        return [to_torch(y) for y in x]\n",
    "    return torch.tensor(x.to_py())\n",
    "\n",
    "\n",
    "tensor = random_tensor()\n",
    "tensor.shape"
   ]
  },
  {
   "cell_type": "code",
   "execution_count": null,
   "metadata": {},
   "outputs": [],
   "source": [
    "data = random_nested()\n",
    "torch_data = to_torch(data)"
   ]
  },
  {
   "cell_type": "code",
   "execution_count": null,
   "metadata": {},
   "outputs": [],
   "source": [
    "%%timeit\n",
    "recursive_norm(data)"
   ]
  },
  {
   "cell_type": "code",
   "execution_count": null,
   "metadata": {},
   "outputs": [],
   "source": [
    "%%timeit\n",
    "jitted_recursive_norm(data)"
   ]
  },
  {
   "cell_type": "code",
   "execution_count": null,
   "metadata": {},
   "outputs": [],
   "source": [
    "%%timeit\n",
    "module(torch_data)"
   ]
  },
  {
   "cell_type": "code",
   "execution_count": null,
   "metadata": {},
   "outputs": [],
   "source": []
  }
 ],
 "metadata": {
  "kernelspec": {
   "display_name": "Python 3 (ipykernel)",
   "language": "python",
   "name": "python3"
  },
  "language_info": {
   "codemirror_mode": {
    "name": "ipython",
    "version": 3
   },
   "file_extension": ".py",
   "mimetype": "text/x-python",
   "name": "python",
   "nbconvert_exporter": "python",
   "pygments_lexer": "ipython3",
   "version": "3.9.10"
  }
 },
 "nbformat": 4,
 "nbformat_minor": 4
}
