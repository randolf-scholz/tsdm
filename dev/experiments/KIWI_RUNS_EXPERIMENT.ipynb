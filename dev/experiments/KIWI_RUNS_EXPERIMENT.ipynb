{
 "cells": [
  {
   "cell_type": "code",
   "execution_count": null,
   "id": "cc22d517-c76d-4da2-ac57-ab077be3396f",
   "metadata": {},
   "outputs": [],
   "source": [
    "%config InteractiveShell.ast_node_interactivity='last_expr_or_assign'  # always print last expr.\n",
    "%config InlineBackend.figure_format = 'svg'\n",
    "%load_ext autoreload\n",
    "%autoreload 2\n",
    "%matplotlib inline"
   ]
  },
  {
   "cell_type": "code",
   "execution_count": null,
   "id": "32b711e2-eb3a-4657-bf46-a52304d1add9",
   "metadata": {},
   "outputs": [],
   "source": [
    "RUN_NAME = \"skew-init\"  # | input(\"enter name for run\")"
   ]
  },
  {
   "cell_type": "code",
   "execution_count": null,
   "id": "880c03d7-324c-4bc8-ae50-5392d4ff4642",
   "metadata": {},
   "outputs": [],
   "source": [
    "import os\n",
    "from datetime import datetime\n",
    "\n",
    "# enable JIT compilation - must be done before loading torch!\n",
    "os.environ[\"PYTORCH_JIT\"] = \"1\""
   ]
  },
  {
   "cell_type": "code",
   "execution_count": null,
   "id": "20e1c36b-b316-486d-bf09-724a98b0f477",
   "metadata": {},
   "outputs": [],
   "source": [
    "from pathlib import Path\n",
    "from time import time\n",
    "from typing import Any\n",
    "\n",
    "import matplotlib.pyplot as plt\n",
    "import numpy as np\n",
    "import pandas\n",
    "import torch\n",
    "import torchinfo\n",
    "from linodenet.models import LinODE, LinODECell, LinODEnet\n",
    "from linodenet.projections.functional import skew_symmetric, symmetric\n",
    "from pandas import DataFrame, Index, Series, Timedelta, Timestamp\n",
    "from torch import Tensor, jit, tensor\n",
    "from torch.optim import SGD, Adam, AdamW\n",
    "from torch.utils.data import BatchSampler, DataLoader\n",
    "from torch.utils.tensorboard import SummaryWriter\n",
    "from tqdm.auto import tqdm, trange\n",
    "\n",
    "import tsdm\n",
    "from tsdm.datasets import DATASETS\n",
    "from tsdm.encoders.functional import time2float\n",
    "from tsdm.logutils import (\n",
    "    log_kernel_information,\n",
    "    log_metrics,\n",
    "    log_model_state,\n",
    "    log_optimizer_state,\n",
    ")\n",
    "from tsdm.metrics import LOSSES\n",
    "from tsdm.tasks import KIWI_RUNS_TASK\n",
    "from tsdm.utils import grad_norm, multi_norm"
   ]
  },
  {
   "cell_type": "markdown",
   "id": "e75c73e6-8f71-4570-ae16-0f01889052b3",
   "metadata": {},
   "source": [
    "# Initialize Task"
   ]
  },
  {
   "cell_type": "code",
   "execution_count": null,
   "id": "f56cda5b-5f0a-44b4-be1c-72c1506258a0",
   "metadata": {},
   "outputs": [],
   "source": [
    "from tsdm.datasets import KIWI_RUNS\n",
    "\n",
    "ds = KIWI_RUNS()"
   ]
  },
  {
   "cell_type": "code",
   "execution_count": null,
   "id": "7eb85c05-454b-44a8-8107-e8f78cd2f89c",
   "metadata": {},
   "outputs": [],
   "source": [
    "ds.batchloader"
   ]
  },
  {
   "cell_type": "code",
   "execution_count": null,
   "id": "b3b8370c-5070-49c6-88be-b503b014daa7",
   "metadata": {},
   "outputs": [],
   "source": []
  },
  {
   "cell_type": "code",
   "execution_count": null,
   "id": "39d4fbcf-6f47-4639-8afb-726dd6a0c6a9",
   "metadata": {},
   "outputs": [],
   "source": [
    "ds.rawdata_path"
   ]
  },
  {
   "cell_type": "code",
   "execution_count": null,
   "id": "cdc7c2cb-35a7-4068-b73e-26958f51c13e",
   "metadata": {},
   "outputs": [],
   "source": [
    "ds.rawdata_paths"
   ]
  },
  {
   "cell_type": "code",
   "execution_count": null,
   "id": "69b05635-5b2a-4408-8407-c7ef2511db71",
   "metadata": {},
   "outputs": [],
   "source": [
    "ts = ds.timeseries"
   ]
  },
  {
   "cell_type": "code",
   "execution_count": null,
   "id": "3c219d74-4f42-4455-91d4-02ff4a891915",
   "metadata": {},
   "outputs": [],
   "source": [
    "ts.loc[355, 11722]"
   ]
  },
  {
   "cell_type": "code",
   "execution_count": null,
   "id": "10ccb53e-8b33-45be-902f-575f1ed5afc6",
   "metadata": {},
   "outputs": [],
   "source": [
    "DEVICE = torch.device(\"cuda\" if torch.cuda.is_available() else \"cpu\")\n",
    "DTYPE = torch.float32\n",
    "NAN = tensor(float(\"nan\"), dtype=DTYPE, device=DEVICE)\n",
    "BATCH_SIZE = 128\n",
    "PRD_HORIZON = 30\n",
    "OBS_HORIZON = 90\n",
    "HORIZON = SEQLEN = OBS_HORIZON + PRD_HORIZON"
   ]
  },
  {
   "cell_type": "code",
   "execution_count": null,
   "id": "a0cfe050-72d6-46c0-b062-e1dbf7ebc93e",
   "metadata": {},
   "outputs": [],
   "source": [
    "task = KIWI_RUNS_TASK(\n",
    "    forecasting_horizon=PRD_HORIZON,\n",
    "    observation_horizon=OBS_HORIZON,\n",
    "    train_batch_size=BATCH_SIZE,\n",
    "    eval_batch_size=2048,\n",
    ")\n",
    "\n",
    "DATASET = TASK.dataset\n",
    "ts = TASK.timeseries\n",
    "md = TASK.metadata\n",
    "NUM_PTS, NUM_DIM = ts.shape"
   ]
  },
  {
   "cell_type": "markdown",
   "id": "3e7ad313-0bca-47ae-a23d-05c1430fb739",
   "metadata": {},
   "source": [
    "## Initialize Loss"
   ]
  },
  {
   "cell_type": "code",
   "execution_count": null,
   "id": "0f3d4183-41f7-484a-9996-37de60eab522",
   "metadata": {},
   "outputs": [],
   "source": [
    "task.get_dataloader((0, \"train\"))"
   ]
  },
  {
   "cell_type": "code",
   "execution_count": null,
   "id": "37747d6f-e91b-4e3f-864f-6b6ecfb9d6b3",
   "metadata": {},
   "outputs": [],
   "source": []
  },
  {
   "cell_type": "code",
   "execution_count": null,
   "id": "c89a3b59-6ef4-4b41-b53e-9b23ef5bbafb",
   "metadata": {},
   "outputs": [],
   "source": [
    "LOSS = TASK.test_metric.to(device=DEVICE)\n",
    "\n",
    "TASK.loss_weights"
   ]
  },
  {
   "cell_type": "markdown",
   "id": "dfde25ec-dea8-462e-9164-45dff7fd7859",
   "metadata": {},
   "source": [
    "## Initialize DataLoaders"
   ]
  },
  {
   "cell_type": "code",
   "execution_count": null,
   "id": "b1f62fa2-dc36-455e-91cf-6b46b8b0e6c2",
   "metadata": {},
   "outputs": [],
   "source": [
    "TRAINLOADER = TASK.batchloader\n",
    "EVALLOADERS = TASK.dataloaders"
   ]
  },
  {
   "cell_type": "markdown",
   "id": "6d1996de-7202-46f1-8c42-70d7622db779",
   "metadata": {},
   "source": [
    "## Hyperparamters"
   ]
  },
  {
   "cell_type": "code",
   "execution_count": null,
   "id": "eeaef85b-c8a3-4cb5-a6ad-bf6312f6f6e8",
   "metadata": {},
   "outputs": [],
   "source": [
    "def join_dicts(d: dict[str, Any]) -> dict[str, Any]:\n",
    "    \"\"\"Recursively join dict by composing keys with '/'.\"\"\"\n",
    "    result = {}\n",
    "    for key, val in d.items():\n",
    "        if isinstance(val, dict):\n",
    "            result |= join_dicts(\n",
    "                {f\"{key}/{subkey}\": item for subkey, item in val.items()}\n",
    "            )\n",
    "        else:\n",
    "            result[key] = val\n",
    "    return result\n",
    "\n",
    "\n",
    "def add_prefix(d: dict[str, Any], /, prefix: str) -> dict[str, Any]:\n",
    "    return {f\"{prefix}/{key}\": item for key, item in d.items()}\n",
    "\n",
    "\n",
    "# OPTIMIZER_CONIFG = {\n",
    "#     \"__name__\": \"SGD\",\n",
    "#     \"lr\": 0.001,\n",
    "#     \"momentum\": 0,\n",
    "#     \"dampening\": 0,\n",
    "#     \"weight_decay\": 0,\n",
    "#     \"nesterov\": False,\n",
    "# }\n",
    "\n",
    "OPTIMIZER_CONIFG = {\n",
    "    \"__name__\": \"Adam\",\n",
    "    \"lr\": 0.01,\n",
    "    \"betas\": (0.9, 0.999),\n",
    "    \"eps\": 1e-08,\n",
    "    \"weight_decay\": 0,\n",
    "    \"amsgrad\": False,\n",
    "}\n",
    "\n",
    "MODEL_CONFIG = {\n",
    "    \"__name__\": \"LinODEnet\",\n",
    "    \"input_size\": NUM_DIM,\n",
    "    \"hidden_size\": 128,\n",
    "    \"embedding_type\": \"concat\",\n",
    "    \"Encoder_cfg\": {\"nblocks\": 10},\n",
    "    \"Decoder_cfg\": {\"nblocks\": 10},\n",
    "    \"System_cfg\": {\n",
    "        \"kernel_initialization\": \"gaussian\",\n",
    "        \"kernel_parametrization\": \"skew_symmetric\",\n",
    "        \"scale\": 0.01,\n",
    "    },\n",
    "}\n",
    "\n",
    "HPARAMS = join_dicts(\n",
    "    {\n",
    "        \"Optimizer\": OPTIMIZER_CONIFG,\n",
    "        \"Model\": MODEL_CONFIG,\n",
    "    }\n",
    ")"
   ]
  },
  {
   "cell_type": "markdown",
   "id": "a32262eb-5d33-49fa-b68d-e2688ac618fe",
   "metadata": {},
   "source": [
    "## Initialize Model"
   ]
  },
  {
   "cell_type": "code",
   "execution_count": null,
   "id": "c3e09543-0692-4f23-af83-912d14a18ac7",
   "metadata": {
    "tags": []
   },
   "outputs": [],
   "source": [
    "MODEL = LinODEnet\n",
    "model = MODEL(**MODEL_CONFIG)\n",
    "model.to(device=DEVICE, dtype=DTYPE)\n",
    "torchinfo.summary(model)"
   ]
  },
  {
   "cell_type": "code",
   "execution_count": null,
   "id": "d2b8bbc7-f3b2-4f5d-a50e-bf3642e7f893",
   "metadata": {},
   "outputs": [],
   "source": [
    "expA = torch.matrix_exp(model.kernel)"
   ]
  },
  {
   "cell_type": "code",
   "execution_count": null,
   "id": "bc50e7e0-0935-4105-9b36-3656c3f96709",
   "metadata": {},
   "outputs": [],
   "source": [
    "torch.linalg.eig(expA).eigenvalues.real.max()"
   ]
  },
  {
   "cell_type": "code",
   "execution_count": null,
   "id": "4517d05b-dfa6-4c95-b959-e494c02e5a46",
   "metadata": {},
   "outputs": [],
   "source": [
    "torch.linalg.eig(model.kernel).eigenvalues.real.max()"
   ]
  },
  {
   "cell_type": "code",
   "execution_count": null,
   "id": "e6cd49d0-de91-437b-bd10-86d4521a24bd",
   "metadata": {},
   "outputs": [],
   "source": [
    "for o in (-np.infty, -2, -1, 1, 2, np.infty, \"fro\", \"nuc\"):\n",
    "    val = torch.linalg.matrix_norm(model.kernel, ord=o).item()\n",
    "    val2 = torch.linalg.matrix_norm(expA, ord=o).item()\n",
    "    o = str(o)\n",
    "    print(f\"{o=:6s}\\t {val=:10.6f} \\t {val2=:10.6f}\")"
   ]
  },
  {
   "cell_type": "markdown",
   "id": "f83e71ba-af79-4c01-a587-3785154e4036",
   "metadata": {
    "tags": []
   },
   "source": [
    "## Initalize Optimizer"
   ]
  },
  {
   "cell_type": "code",
   "execution_count": null,
   "id": "0c34d87a-a015-46c7-8448-19731bbf7d85",
   "metadata": {},
   "outputs": [],
   "source": [
    "from tsdm.optimizers import OPTIMIZERS\n",
    "from tsdm.utils import initialize_from"
   ]
  },
  {
   "cell_type": "code",
   "execution_count": null,
   "id": "efbabd0e-473c-4900-ae00-1819f116c96a",
   "metadata": {
    "tags": []
   },
   "outputs": [],
   "source": [
    "OPTIMIZER_CONIFG |= {\"params\": model.parameters()}\n",
    "optimizer = initialize_from(OPTIMIZERS, **OPTIMIZER_CONIFG)"
   ]
  },
  {
   "cell_type": "markdown",
   "id": "9e3e8ab3-a104-4492-b68a-d7f67e739921",
   "metadata": {
    "tags": []
   },
   "source": [
    "## Utility functions"
   ]
  },
  {
   "cell_type": "code",
   "execution_count": null,
   "id": "2de2a66d-5536-40d9-a209-11ba8d133a99",
   "metadata": {
    "tags": []
   },
   "outputs": [],
   "source": [
    "batch = next(iter(TRAINLOADER[0]))\n",
    "T, X = batch\n",
    "targets = X[..., OBS_HORIZON:, TASK.targets.index].clone()\n",
    "# assert targets.shape == (BATCH_SIZE, PRD_HORIZON, len(TASK.targets))\n",
    "\n",
    "inputs = X.clone()\n",
    "inputs[:, OBS_HORIZON:, TASK.targets.index] = NAN\n",
    "inputs[:, OBS_HORIZON:, TASK.observables.index] = NAN\n",
    "# assert inputs.shape == (BATCH_SIZE, HORIZON, NUM_DIM)"
   ]
  },
  {
   "cell_type": "code",
   "execution_count": null,
   "id": "88ea547d-d10e-420e-8f93-5a32069d99fd",
   "metadata": {
    "tags": []
   },
   "outputs": [],
   "source": [
    "targets = X[..., OBS_HORIZON:, TASK.targets.index].clone()\n",
    "targets.shape"
   ]
  },
  {
   "cell_type": "code",
   "execution_count": null,
   "id": "20388705-69a4-4765-bde4-d27527def516",
   "metadata": {},
   "outputs": [],
   "source": [
    "def prep_batch(batch: tuple[Tensor, Tensor]):\n",
    "    \"\"\"Get batch and create model inputs and targets\"\"\"\n",
    "    T, X = batch\n",
    "    targets = X[..., OBS_HORIZON:, TASK.targets.index].clone()\n",
    "    # assert targets.shape == (BATCH_SIZE, PRD_HORIZON, len(TASK.targets))\n",
    "\n",
    "    inputs = X.clone()\n",
    "    inputs[:, OBS_HORIZON:, TASK.targets.index] = NAN\n",
    "    inputs[:, OBS_HORIZON:, TASK.observables.index] = NAN\n",
    "    # assert inputs.shape == (BATCH_SIZE, HORIZON, NUM_DIM)\n",
    "    return T, inputs, targets\n",
    "\n",
    "\n",
    "def get_all_preds(model, dataloader):\n",
    "    Y, Ŷ = [], []\n",
    "    for batch in (pbar := tqdm(dataloader, leave=False)):\n",
    "        with torch.no_grad():\n",
    "            model.zero_grad()\n",
    "            times, inputs, targets = prep_batch(batch)\n",
    "            outputs = model(times, inputs)\n",
    "            predics = outputs[:, OBS_HORIZON:, TASK.targets.index]\n",
    "            loss = LOSS(targets, predics)\n",
    "            Y.append(targets)\n",
    "            Ŷ.append(predics)\n",
    "        if pbar.n == 5:\n",
    "            break\n",
    "\n",
    "    targets, predics = torch.cat(Y, dim=0), torch.cat(Ŷ, dim=0)\n",
    "    mask = torch.isnan(targets)\n",
    "    targets[mask] = torch.tensor(0.0)\n",
    "    predics[mask] = torch.tensor(0.0)\n",
    "    # scale = 1/torch.mean(mask.to(dtype=torch.float32))\n",
    "    # targets *= scale\n",
    "    # predics *= scale\n",
    "    return targets, predics"
   ]
  },
  {
   "cell_type": "markdown",
   "id": "bf5892b9-c3ad-4b3b-992e-e082b600227c",
   "metadata": {},
   "source": [
    "## Logging Utilities"
   ]
  },
  {
   "cell_type": "code",
   "execution_count": null,
   "id": "d2919d5f-1d1f-4147-aacf-3e50d09230ff",
   "metadata": {},
   "outputs": [],
   "source": [
    "from tsdm.logutils import compute_metrics\n",
    "\n",
    "\n",
    "def log_all(i, model, writer, optimizer):\n",
    "    kernel = model.system.kernel.clone().detach().cpu()\n",
    "    log_kernel_information(i, writer, kernel, histograms=True)\n",
    "    log_optimizer_state(i, writer, optimizer, histograms=True)\n",
    "\n",
    "\n",
    "def log_hparams(i, writer, *, metric_dict, hparam_dict):\n",
    "    hparam_dict |= {\"epoch\": i}\n",
    "    metric_dict = add_prefix(metric_dict, \"hparam\")\n",
    "    writer.add_hparams(hparam_dict=hparam_dict, metric_dict=metric_dict)\n",
    "\n",
    "\n",
    "metrics = {key: LOSSES[key] for key in (\"ND\", \"NRMSE\", \"MSE\", \"MAE\")}\n",
    "# assert any(isinstance(TASK.test_metric, metric) for metric in metrics.values())\n",
    "metrics = {key: LOSSES[key]() for key in (\"ND\", \"NRMSE\", \"MSE\", \"MAE\")} | {\n",
    "    \"WRMSE\": LOSS\n",
    "}\n",
    "\n",
    "print(\"WARMUP\")\n",
    "t = torch.randn(NUM_DIM).to(DEVICE)\n",
    "x = torch.randn(1, NUM_DIM).to(device=DEVICE)\n",
    "y = model(t, x)\n",
    "torch.linalg.norm(y).backward()\n",
    "model.zero_grad()"
   ]
  },
  {
   "cell_type": "code",
   "execution_count": null,
   "id": "d902635f-ae08-43aa-b60b-d21805d83f99",
   "metadata": {},
   "outputs": [],
   "source": [
    "RUN_START = tsdm.utils.now()\n",
    "CHECKPOINTDIR = Path(\n",
    "    f\"checkpoints/{MODEL.__name__}/{DATASET.__name__}/{RUN_NAME}/{RUN_START}\"\n",
    ")\n",
    "CHECKPOINTDIR.mkdir(parents=True, exist_ok=True)\n",
    "LOGGING_DIR = f\"runs/{MODEL.__name__}/{DATASET.__name__}/{RUN_NAME}/{RUN_START}\"\n",
    "writer = SummaryWriter(LOGGING_DIR)"
   ]
  },
  {
   "cell_type": "markdown",
   "id": "62361bf2-16b2-46b0-bc69-71bee7045422",
   "metadata": {
    "tags": []
   },
   "source": [
    "### Training Start"
   ]
  },
  {
   "cell_type": "code",
   "execution_count": null,
   "id": "97e9b5c3-8da4-4e5b-b4a5-f0dfac9ff450",
   "metadata": {
    "tags": []
   },
   "outputs": [],
   "source": [
    "i = -1\n",
    "epoch = 1\n",
    "\n",
    "with torch.no_grad():\n",
    "    # log optimizer state first !!!\n",
    "    # log_optimizer_state(epoch, writer, optimizer, histograms=True)\n",
    "    log_kernel_information(epoch, writer, model.system.kernel, histograms=True)\n",
    "\n",
    "    for key in ((0, \"train\"), (0, \"test\")):\n",
    "        dataloader = EVALLOADERS[key]\n",
    "        y, ŷ = get_all_preds(model, dataloader)\n",
    "        assert torch.isfinite(y).all()\n",
    "        log_metrics(\n",
    "            epoch, writer, metrics=metrics, targets=y, predics=ŷ, prefix=key[1]\n",
    "        )\n",
    "\n",
    "\n",
    "for _ in (epochs := trange(100)):\n",
    "    break\n",
    "    epoch += 1\n",
    "    for batch in (batches := tqdm(TRAINLOADER[0])):\n",
    "        i += 1\n",
    "        # Optimization step\n",
    "        model.zero_grad()\n",
    "        times, inputs, targets = prep_batch(batch)\n",
    "\n",
    "        forward_time = time()\n",
    "        outputs = model(times, inputs)\n",
    "        forward_time = time() - forward_time\n",
    "\n",
    "        predics = outputs[:, OBS_HORIZON:, TASK.targets.index]\n",
    "\n",
    "        # get rid of nan-values in teh targets.\n",
    "        mask = torch.isnan(targets)\n",
    "        targets[mask] = torch.tensor(0.0)\n",
    "        predics[mask] = torch.tensor(0.0)\n",
    "\n",
    "        # # compensate NaN-Value with upscaling\n",
    "        # scale = 1/torch.mean(mask.to(dtype=torch.float32))\n",
    "        # targets *= scale\n",
    "        # predics *= scale\n",
    "\n",
    "        loss = LOSS(targets, predics)\n",
    "\n",
    "        backward_time = time()\n",
    "        loss.backward()\n",
    "        backward_time = time() - backward_time\n",
    "\n",
    "        optimizer.step()\n",
    "\n",
    "        # batch logging\n",
    "        logging_time = time()\n",
    "        with torch.no_grad():\n",
    "            log_metrics(\n",
    "                i,\n",
    "                writer,\n",
    "                metrics=metrics,\n",
    "                targets=targets,\n",
    "                predics=predics,\n",
    "                prefix=\"batch\",\n",
    "            )\n",
    "            log_optimizer_state(i, writer, optimizer, prefix=\"batch\")\n",
    "\n",
    "            lval = loss.clone().detach().cpu().numpy()\n",
    "            gval = grad_norm(list(model.parameters())).clone().detach().cpu().numpy()\n",
    "            if torch.any(torch.isnan(loss)):\n",
    "                raise RuntimeError(\"NaN-value encountered!!\")\n",
    "        logging_time = time() - logging_time\n",
    "\n",
    "        batches.set_postfix(\n",
    "            loss=f\"{lval:.2e}\",\n",
    "            gnorm=f\"{gval:.2e}\",\n",
    "            Δt_forward=f\"{forward_time:.1f}\",\n",
    "            Δt_backward=f\"{backward_time:.1f}\",\n",
    "            Δt_logging=f\"{logging_time:.1f}\",\n",
    "        )\n",
    "\n",
    "    with torch.no_grad():\n",
    "        # log optimizer state first !!!\n",
    "        log_optimizer_state(epoch, writer, optimizer, histograms=True)\n",
    "        log_kernel_information(epoch, writer, model.system.kernel, histograms=True)\n",
    "\n",
    "        for key in ((0, \"train\"), (0, \"test\")):\n",
    "            dataloader = EVALLOADERS[key]\n",
    "            y, ŷ = get_all_preds(model, dataloader)\n",
    "            metric_values = compute_metrics(metrics, targets=y, predics=ŷ)\n",
    "            log_metrics(\n",
    "                epoch, writer, metrics=metrics, values=metric_values, prefix=key[1]\n",
    "            )\n",
    "            # log_hparams(epoch, writer, metric_dict=metric_values, hparam_dict=HPARAMS)\n",
    "\n",
    "        # Model Checkpoint\n",
    "        torch.jit.save(model, CHECKPOINTDIR.joinpath(f\"{MODEL.__name__}-{epochs.n}\"))\n",
    "        torch.save(\n",
    "            {\n",
    "                \"optimizer\": optimizer,\n",
    "                \"epoch\": epoch,\n",
    "                \"batch\": i,\n",
    "            },\n",
    "            CHECKPOINTDIR.joinpath(f\"{optimizer.__class__.__name__}-{epochs.n}\"),\n",
    "        )"
   ]
  },
  {
   "cell_type": "code",
   "execution_count": null,
   "id": "a2e06d49-e5a7-4a0a-8933-9e5bc90ae2dd",
   "metadata": {
    "tags": []
   },
   "outputs": [],
   "source": [
    "buffers = dict(model.named_buffers())"
   ]
  },
  {
   "cell_type": "code",
   "execution_count": null,
   "id": "e56a1195-df32-40f2-9cbf-fa77a5c0e449",
   "metadata": {
    "tags": []
   },
   "outputs": [],
   "source": [
    "timedeltas = model.timedeltas.detach().cpu()\n",
    "xhat_pre = model.xhat_pre.detach().cpu()\n",
    "xhat_post = model.xhat_post.detach().cpu()\n",
    "zhat_pre = model.zhat_pre.detach().cpu()\n",
    "zhat_post = model.zhat_post.detach().cpu()\n",
    "xhat_pre.shape, xhat_post.shape, zhat_pre.shape, zhat_post.shape"
   ]
  },
  {
   "cell_type": "markdown",
   "id": "cbc1d958-5d17-4a53-82eb-2821d8cc2b57",
   "metadata": {},
   "source": [
    "## Relative size change xhat_pre ⟶ xhat_post"
   ]
  },
  {
   "cell_type": "code",
   "execution_count": null,
   "id": "9d726cd8-e8b0-4936-9ff9-4980eed3641a",
   "metadata": {},
   "outputs": [],
   "source": [
    "%matplotlib inline\n",
    "plt.style.use(\"bmh\")\n",
    "\n",
    "BATCH_DIM, LEN, DIM = tuple(xhat_pre.shape)\n",
    "n, m = model.input_size, model.hidden_size\n",
    "\n",
    "\n",
    "def gmean(x, dim=()):\n",
    "    \"\"\"Geometric mean\"\"\"\n",
    "    return torch.exp(torch.mean(torch.log(x), dim=dim))\n",
    "\n",
    "\n",
    "predata = xhat_pre\n",
    "postdata = xhat_post\n",
    "xpremag = torch.mean(\n",
    "    torch.linalg.norm(xhat_pre[1:], dim=-1) / torch.linalg.norm(xhat_pre[:-1], dim=-1),\n",
    "    dim=0,\n",
    ")\n",
    "xpstmag = torch.mean(\n",
    "    torch.linalg.norm(xhat_post[1:], dim=-1)\n",
    "    / torch.linalg.norm(xhat_post[:-1], dim=-1),\n",
    "    dim=0,\n",
    ")\n",
    "zpremag = torch.mean(\n",
    "    torch.linalg.norm(zhat_pre[1:], dim=-1) / torch.linalg.norm(zhat_pre[:-1], dim=-1),\n",
    "    dim=0,\n",
    ")\n",
    "zpstmag = torch.mean(\n",
    "    torch.linalg.norm(zhat_post[1:], dim=-1)\n",
    "    / torch.linalg.norm(zhat_post[:-1], dim=-1),\n",
    "    dim=0,\n",
    ")\n",
    "\n",
    "system_mag = torch.linalg.norm(zhat_pre[:, 1:], dim=-1) / torch.linalg.norm(\n",
    "    zhat_post[:, :-1], dim=-1\n",
    ")\n",
    "system_mag = torch.cat([torch.ones(BATCH_DIM, 1), system_mag], dim=-1)\n",
    "combine_mag = torch.linalg.norm(zhat_post, dim=-1) / torch.linalg.norm(zhat_pre, dim=-1)\n",
    "# system_mag = torch.cat([torch.ones(BATCH_DIM, 1), system_mag], dim=-1)\n",
    "decoder_mag = (torch.linalg.norm(xhat_pre, dim=-1) / n) / (\n",
    "    torch.linalg.norm(zhat_pre, dim=-1) / m\n",
    ")\n",
    "filter_mag = torch.linalg.norm(xhat_post, dim=-1) / torch.linalg.norm(xhat_pre, dim=-1)\n",
    "encoder_mag = (torch.linalg.norm(zhat_post, dim=-1) / m) / (\n",
    "    torch.linalg.norm(xhat_post, dim=-1) / n\n",
    ")\n",
    "\n",
    "filter_mag = torch.mean(filter_mag, dim=0)\n",
    "system_mag = torch.mean(system_mag, dim=0)\n",
    "combine_mag = torch.mean(combine_mag, dim=0)\n",
    "decoder_mag = torch.mean(decoder_mag, dim=0)\n",
    "encoder_mag = torch.mean(encoder_mag, dim=0)\n",
    "\n",
    "fig, ax = plt.subplots(ncols=4, nrows=2, figsize=(15, 8), sharey=\"row\")\n",
    "ax[0, 0].semilogy(xpremag)\n",
    "ax[0, 0].set_title(\n",
    "    r\"Relative Magnitude change $\\hat{x}_t  \\rightarrow \\hat{x}_{t+1}  $\"\n",
    ")\n",
    "ax[0, 1].semilogy(xpstmag)\n",
    "ax[0, 1].set_title(\n",
    "    r\"Relative Magnitude change $\\hat{x}_t' \\rightarrow \\hat{x}_{t+1}' $\"\n",
    ")\n",
    "ax[0, 2].semilogy(zpremag)\n",
    "ax[0, 2].set_title(\n",
    "    r\"Relative Magnitude change $\\hat{z}_t  \\rightarrow \\hat{z}_{t+1}  $\"\n",
    ")\n",
    "ax[0, 3].semilogy(zpstmag)\n",
    "ax[0, 3].set_title(\n",
    "    r\"Relative Magnitude change $\\hat{z}_t' \\rightarrow \\hat{z}_{t+1}' $\"\n",
    ")\n",
    "ax[1, 0].semilogy(decoder_mag)\n",
    "ax[1, 0].set_title(r\"Relative magnitude change $\\hat{z}_t  \\rightarrow \\hat{x}_t$\")\n",
    "# ax[1, 1].semilogy(filter_mag)\n",
    "# ax[1, 1].set_title(r\"Relative magnitude change $\\hat{x}_t  \\rightarrow \\hat{x}_t'$\")\n",
    "# ax[1, 2].semilogy(encoder_mag)\n",
    "# ax[1, 2].set_title(r\"Relative magnitude change $\\hat{x}_t' \\rightarrow \\hat{z}_t'$\")\n",
    "ax[1, 1].semilogy(encoder_mag)\n",
    "ax[1, 1].set_title(r\"Relative magnitude change $\\hat{x}_t' \\rightarrow \\hat{z}_t'$\")\n",
    "ax[1, 2].semilogy(system_mag)\n",
    "ax[1, 2].set_title(r\"Relative magnitude change $\\hat{x}_t' \\rightarrow \\hat{z}_t'$\")\n",
    "ax[1, 3].semilogy(combine_mag)\n",
    "ax[1, 3].set_title(r\"Relative magnitude change $\\hat{z}_t \\rightarrow \\hat{z}_{t}'$\")\n",
    "ax[1, 0].set_yscale(\"log\")\n",
    "fig.savefig(\"Encoder is bad.pdf\")"
   ]
  },
  {
   "cell_type": "code",
   "execution_count": null,
   "id": "b08e62ed-a0cf-43d5-993f-203f0c8f0154",
   "metadata": {},
   "outputs": [],
   "source": [
    "dummy = torch.randn(10_000, m, device=\"cuda\")\n",
    "dummy2 = model.encoder(dummy)\n",
    "dummy1 = torch.linalg.norm(dummy, dim=-1) / m\n",
    "dummy2 = torch.linalg.norm(dummy2, dim=-1) / m\n",
    "chg = (dummy2 / dummy1).clone().detach().cpu().numpy()\n",
    "plt.hist(chg, bins=\"auto\")"
   ]
  },
  {
   "cell_type": "code",
   "execution_count": null,
   "id": "2701d1dd-fb81-4314-8e0a-b1863678b9d9",
   "metadata": {},
   "outputs": [],
   "source": []
  },
  {
   "cell_type": "code",
   "execution_count": null,
   "id": "5519ae9b-3e3e-4594-a007-e45e421b6506",
   "metadata": {},
   "outputs": [],
   "source": [
    "model.decoder"
   ]
  },
  {
   "cell_type": "code",
   "execution_count": null,
   "id": "1a473281-4e5e-4c84-a820-3ea158bb2eec",
   "metadata": {},
   "outputs": [],
   "source": [
    "model.encoder"
   ]
  },
  {
   "cell_type": "code",
   "execution_count": null,
   "id": "020d5ded-e85e-47a7-b61b-a28c95894ea8",
   "metadata": {},
   "outputs": [],
   "source": []
  },
  {
   "cell_type": "code",
   "execution_count": null,
   "id": "4c264182-0a2c-44c8-bca0-27483cbc003d",
   "metadata": {},
   "outputs": [],
   "source": []
  },
  {
   "cell_type": "code",
   "execution_count": null,
   "id": "f23984a6-42e0-4ac8-a960-864b31d20358",
   "metadata": {},
   "outputs": [],
   "source": []
  },
  {
   "cell_type": "code",
   "execution_count": null,
   "id": "2aa401a9-2734-4fbf-8bde-5e689949e422",
   "metadata": {},
   "outputs": [],
   "source": [
    "torch.mean(xpremag), torch.mean(system_mag)"
   ]
  },
  {
   "cell_type": "code",
   "execution_count": null,
   "id": "284d28e4-0f46-43ab-af13-d11f2dfa50e4",
   "metadata": {},
   "outputs": [],
   "source": []
  },
  {
   "cell_type": "code",
   "execution_count": null,
   "id": "6a233ceb-2772-43b1-b78e-97074bd9dba5",
   "metadata": {},
   "outputs": [],
   "source": []
  },
  {
   "cell_type": "code",
   "execution_count": null,
   "id": "6e892a2f-5bfe-4458-b11a-dfdcf4c376d1",
   "metadata": {},
   "outputs": [],
   "source": []
  },
  {
   "cell_type": "code",
   "execution_count": null,
   "id": "19c83b4c-7df7-440a-959f-960db4c7f58a",
   "metadata": {},
   "outputs": [],
   "source": [
    "decoder_mag"
   ]
  },
  {
   "cell_type": "code",
   "execution_count": null,
   "id": "bb6bb138-50ef-4770-a6da-f0d2df2b3fee",
   "metadata": {},
   "outputs": [],
   "source": [
    "torch.linalg.eig(model.kernel).eigenvalues.real.max()"
   ]
  },
  {
   "cell_type": "code",
   "execution_count": null,
   "id": "e010cfcd-e302-46b1-b8d9-865b0abfa76b",
   "metadata": {},
   "outputs": [],
   "source": [
    "model.timedeltas.shape"
   ]
  },
  {
   "cell_type": "code",
   "execution_count": null,
   "id": "6fd57577-f745-4c36-86ba-8ff4e54383f8",
   "metadata": {},
   "outputs": [],
   "source": [
    "torch.linalg.matrix_norm(torch.matrix_exp(model.kernel))"
   ]
  },
  {
   "cell_type": "code",
   "execution_count": null,
   "id": "5b58cd37-ce79-4fdd-9002-f263ea6edfc0",
   "metadata": {},
   "outputs": [],
   "source": [
    "expA = torch.matrix_exp(model.kernel)\n",
    "\n",
    "for o in (-np.infty, -2, -1, 1, 2, np.infty, \"fro\", \"nuc\"):\n",
    "    val = torch.linalg.matrix_norm(model.kernel, ord=o).item()\n",
    "    val2 = torch.linalg.matrix_norm(expA, ord=o).item()\n",
    "    o = str(o)\n",
    "    print(f\"{o=:6s}\\t {val=:10.6f} \\t {val2=:10.6f}\")"
   ]
  },
  {
   "cell_type": "code",
   "execution_count": null,
   "id": "034b8b1f-4669-408e-986f-e9f420446e8c",
   "metadata": {},
   "outputs": [],
   "source": []
  },
  {
   "cell_type": "code",
   "execution_count": null,
   "id": "00386475-06da-4385-a713-c8d8f37f3422",
   "metadata": {},
   "outputs": [],
   "source": [
    "from matplotlib import cm\n",
    "\n",
    "mat = model.kernel.clone().detach().cpu()\n",
    "# mat = 0.5 + (mat - mat.mean()) / (6 * mat.std())\n",
    "# mat = kernel.clip(0, 1)\n",
    "# colormap = cm.get_cmap(\"seismic\")\n",
    "# mat = colormap(mat)\n",
    "# plt.imshow(mat)"
   ]
  },
  {
   "cell_type": "code",
   "execution_count": null,
   "id": "42e7b723-2e6c-4ef2-876e-9054c02da3e7",
   "metadata": {},
   "outputs": [],
   "source": [
    "torch.linalg.norm(mat - mat.t())"
   ]
  },
  {
   "cell_type": "code",
   "execution_count": null,
   "id": "f6b5d521-92c4-4a5d-a4b4-654fbefa4e7a",
   "metadata": {},
   "outputs": [],
   "source": [
    "mat = expA.clone().detach().cpu()\n",
    "mat = 0.5 + (mat - mat.mean()) / (6 * mat.std())\n",
    "mat = kernel.clip(0, 1)\n",
    "colormap = cm.get_cmap(\"seismic\")\n",
    "RGBA = colormap(mat)\n",
    "plt.imshow(RGBA)"
   ]
  },
  {
   "cell_type": "code",
   "execution_count": null,
   "id": "a2d863fe-f497-45da-b0be-6dde2b748f3f",
   "metadata": {},
   "outputs": [],
   "source": []
  },
  {
   "cell_type": "code",
   "execution_count": null,
   "id": "7ddc17af-37be-4926-956f-ffbfe960329b",
   "metadata": {},
   "outputs": [],
   "source": [
    "?torch.linalg.matrix_norm"
   ]
  },
  {
   "cell_type": "code",
   "execution_count": null,
   "id": "1ae0c51c-40c4-4f2c-9c2b-fb33534e2aed",
   "metadata": {},
   "outputs": [],
   "source": [
    "torch.exp(1)"
   ]
  },
  {
   "cell_type": "code",
   "execution_count": null,
   "id": "577843ba-afa3-43b2-ac94-94b1a0151db7",
   "metadata": {},
   "outputs": [],
   "source": [
    "torch.nn.init.calculate_gain(\"leaky_relu\")"
   ]
  },
  {
   "cell_type": "code",
   "execution_count": null,
   "id": "6c17b6db-02c8-4087-a218-77372b45cdd3",
   "metadata": {},
   "outputs": [],
   "source": []
  }
 ],
 "metadata": {
  "kernelspec": {
   "display_name": "Python 3 (ipykernel)",
   "language": "python",
   "name": "python3"
  },
  "language_info": {
   "codemirror_mode": {
    "name": "ipython",
    "version": 3
   },
   "file_extension": ".py",
   "mimetype": "text/x-python",
   "name": "python",
   "nbconvert_exporter": "python",
   "pygments_lexer": "ipython3",
   "version": "3.9.7"
  }
 },
 "nbformat": 4,
 "nbformat_minor": 5
}
