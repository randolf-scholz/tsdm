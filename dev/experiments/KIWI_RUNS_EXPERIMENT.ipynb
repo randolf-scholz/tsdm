{
 "cells": [
  {
   "cell_type": "code",
   "execution_count": 2,
   "id": "cc22d517-c76d-4da2-ac57-ab077be3396f",
   "metadata": {},
   "outputs": [],
   "source": [
    "%config InteractiveShell.ast_node_interactivity='last_expr_or_assign'  # always print last expr.\n",
    "%config InlineBackend.figure_format = 'svg'\n",
    "%load_ext autoreload\n",
    "%autoreload 2\n",
    "%matplotlib inline"
   ]
  },
  {
   "cell_type": "code",
   "execution_count": 3,
   "id": "880c03d7-324c-4bc8-ae50-5392d4ff4642",
   "metadata": {},
   "outputs": [],
   "source": [
    "import os\n",
    "from datetime import datetime\n",
    "\n",
    "# enable JIT compilation - must be done before loading torch!\n",
    "os.environ[\"PYTORCH_JIT\"] = \"1\""
   ]
  },
  {
   "cell_type": "code",
   "execution_count": 4,
   "id": "20e1c36b-b316-486d-bf09-724a98b0f477",
   "metadata": {},
   "outputs": [],
   "source": [
    "import tsdm\n",
    "import torch\n",
    "import pandas\n",
    "import numpy as np\n",
    "from pathlib import Path\n",
    "from pandas import Timedelta, Timestamp, Index, Series, DataFrame\n",
    "from tqdm.auto import trange, tqdm\n",
    "\n",
    "from torch import tensor, Tensor, jit\n",
    "from torch.utils.data import BatchSampler, DataLoader\n",
    "from torch.utils.tensorboard import SummaryWriter\n",
    "from torch.optim import Adam\n",
    "\n",
    "import torchinfo\n",
    "\n",
    "from tsdm.datasets import DATASETS\n",
    "from tsdm.encoders.functional import time2float\n",
    "from tsdm.losses import LOSSES\n",
    "from tsdm.tasks import KIWI_RUNS_TASK\n",
    "from tsdm.util import grad_norm, multi_norm\n",
    "from tsdm.logutils import (\n",
    "    log_optimizer_state,\n",
    "    log_kernel_information,\n",
    "    log_model_state,\n",
    "    log_metrics,\n",
    ")\n",
    "\n",
    "from linodenet.models import LinODEnet, LinODECell, LinODE\n",
    "from linodenet.projections.functional import symmetric, skew_symmetric"
   ]
  },
  {
   "cell_type": "code",
   "execution_count": 5,
   "id": "10ccb53e-8b33-45be-902f-575f1ed5afc6",
   "metadata": {},
   "outputs": [],
   "source": [
    "DEVICE = torch.device(\"cuda\")\n",
    "DTYPE = torch.float32\n",
    "NAN = tensor(float(\"nan\"), dtype=DTYPE, device=DEVICE)\n",
    "BATCH_SIZE = 64\n",
    "PRD_HORIZON = 24\n",
    "OBS_HORIZON = 96\n",
    "SEQLEN = PRD_HORIZON + OBS_HORIZON"
   ]
  },
  {
   "cell_type": "markdown",
   "id": "e75c73e6-8f71-4570-ae16-0f01889052b3",
   "metadata": {},
   "source": [
    "#### Initialize Task"
   ]
  },
  {
   "cell_type": "markdown",
   "id": "20f77d65-7763-49df-9357-2d1f89d2a134",
   "metadata": {},
   "source": [
    "### Controls\n",
    "\n",
    "- Cumulated_feed_volume_glucose\n",
    "- Cumulated_feed_volume_medium\n",
    "- InducerConcentration\n",
    "- StirringSpeed\n",
    "- Flow_Air\n",
    "- Temperature\n",
    "- Probe_Volume"
   ]
  },
  {
   "cell_type": "code",
   "execution_count": 20,
   "id": "2a8b713b-62dd-4d67-83fb-89285a590a18",
   "metadata": {},
   "outputs": [],
   "source": [
    "TASK.timeseries[\"Flow_Air\"].unique()"
   ]
  },
  {
   "cell_type": "code",
   "execution_count": 19,
   "id": "c6f99cd0-bf4b-4756-a550-b8ec910154f4",
   "metadata": {},
   "outputs": [],
   "source": [
    "pandas.isna(TASK.timeseries).mean()"
   ]
  },
  {
   "cell_type": "code",
   "execution_count": 6,
   "id": "a0cfe050-72d6-46c0-b062-e1dbf7ebc93e",
   "metadata": {},
   "outputs": [],
   "source": [
    "TASK = KIWI_RUNS_TASK(\n",
    "    forecasting_horizon=24,\n",
    "    observation_horizon=96,\n",
    "    train_batch_size = 64,\n",
    "    eval_batch_size = 1024,\n",
    ")"
   ]
  },
  {
   "cell_type": "markdown",
   "id": "ca544ccd-6da0-4e49-9de3-fa9e646a6e6f",
   "metadata": {},
   "source": [
    "### Encoding / decoding"
   ]
  },
  {
   "cell_type": "code",
   "execution_count": 16,
   "id": "5dd5ad11-ef89-4ce1-80d0-a2bd056faf76",
   "metadata": {},
   "outputs": [],
   "source": [
    "TASK.metadata"
   ]
  },
  {
   "cell_type": "code",
   "execution_count": 11,
   "id": "938ec0a2-6e47-4e57-ba72-34bf9dbbbe6e",
   "metadata": {},
   "outputs": [],
   "source": [
    "from tsdm.encoders.modular import DateTimeEncoder\n",
    "\n",
    "run = TASK.timeseries.loc[439, 15325]\n",
    "time = run.reset_index()[\"measurement_time\"]"
   ]
  },
  {
   "cell_type": "code",
   "execution_count": 12,
   "id": "c358ed11-0409-4375-a30b-a3342cd200c5",
   "metadata": {},
   "outputs": [],
   "source": [
    "enc = (time - time[0]) / Timedelta(1, \"s\")\n",
    "dec = enc * Timedelta(1, \"s\") + time[0]\n",
    "pandas.testing.assert_series_equal(time, dec)"
   ]
  },
  {
   "cell_type": "code",
   "execution_count": null,
   "id": "56113e79-8874-446d-8561-45e7d1f169e2",
   "metadata": {},
   "outputs": [],
   "source": [
    "time = "
   ]
  },
  {
   "cell_type": "code",
   "execution_count": 15,
   "id": "43105543-bf21-44af-85d8-a58905cf99d6",
   "metadata": {},
   "outputs": [],
   "source": [
    "encoder = DateTimeEncoder()\n",
    "encoder.fit(time)\n",
    "encoded = encoder.encode(time)\n",
    "decoded = encoder.decode(encoded)\n",
    "pandas.testing.assert_series_equal(time, decoded)"
   ]
  },
  {
   "cell_type": "code",
   "execution_count": 14,
   "id": "c89ae16d-f497-48ed-9d19-41bde80dd023",
   "metadata": {},
   "outputs": [],
   "source": []
  },
  {
   "cell_type": "code",
   "execution_count": 59,
   "id": "2b4002b2-0f08-42f4-85e5-1ae2f95f833d",
   "metadata": {},
   "outputs": [],
   "source": [
    "decoded = pandas.to_timedelta(Tensor(enc), unit=\"s\") + time[0]\n"
   ]
  },
  {
   "cell_type": "code",
   "execution_count": 46,
   "id": "c6d39eef-a547-4044-9426-ad385a3701bb",
   "metadata": {},
   "outputs": [],
   "source": [
    "enc"
   ]
  },
  {
   "cell_type": "code",
   "execution_count": null,
   "id": "9a1a3e30-cac9-4246-b5e9-10f825a57379",
   "metadata": {},
   "outputs": [],
   "source": []
  },
  {
   "cell_type": "code",
   "execution_count": 44,
   "id": "b7fc2154-b74b-4845-9259-8126f3a3cc1d",
   "metadata": {},
   "outputs": [],
   "source": [
    "encoded"
   ]
  },
  {
   "cell_type": "code",
   "execution_count": 41,
   "id": "0cbd01e8-ccc3-4699-a6e1-4c6fbf2a34c2",
   "metadata": {},
   "outputs": [],
   "source": [
    "pandas.testing.assert_series_equal(time, decoded)"
   ]
  },
  {
   "cell_type": "code",
   "execution_count": 39,
   "id": "029d8984-a9eb-424a-bef4-50bb58102a8e",
   "metadata": {},
   "outputs": [],
   "source": []
  },
  {
   "cell_type": "code",
   "execution_count": 30,
   "id": "a60e559b-d3ad-418c-baa4-5629c40336ab",
   "metadata": {},
   "outputs": [],
   "source": [
    "time"
   ]
  },
  {
   "cell_type": "code",
   "execution_count": 31,
   "id": "abea1bf8-c58b-41d9-aae3-2edb85c76cfd",
   "metadata": {},
   "outputs": [],
   "source": [
    "decoded"
   ]
  },
  {
   "cell_type": "code",
   "execution_count": 29,
   "id": "5dd5270b-206a-465f-b9ca-b622c27156ea",
   "metadata": {},
   "outputs": [],
   "source": [
    "pandas.testing.assert_series_equal(pandas.Series(time), pandas.Series(decoded))"
   ]
  },
  {
   "cell_type": "code",
   "execution_count": null,
   "id": "0d655187-e94f-4469-a7b9-3f4beda4d6e6",
   "metadata": {},
   "outputs": [],
   "source": [
    "TRAINLOADER = TASK.batchloader\n",
    "EVALLOADERS = TASK.dataloaders"
   ]
  },
  {
   "cell_type": "markdown",
   "id": "47dd514b-c8bf-4eaf-8b6d-212e5444da01",
   "metadata": {},
   "source": [
    "#### Initialize Loss"
   ]
  },
  {
   "cell_type": "code",
   "execution_count": 14,
   "id": "407fbbe0-6226-472f-9f36-24909c18c871",
   "metadata": {},
   "outputs": [],
   "source": [
    "loss_weights = {\n",
    "    \"Base\": 200,\n",
    "    \"DOT\": 100,\n",
    "    \"Glucose\": 10,\n",
    "    \"OD600\": 20,\n",
    "}"
   ]
  },
  {
   "cell_type": "code",
   "execution_count": 15,
   "id": "67776165-2100-4790-9b14-880d9109c5a2",
   "metadata": {},
   "outputs": [],
   "source": [
    "indices = {\n",
    "    TASK.timeseries.columns.get_loc(key) : 1/w for key, w in loss_weights.items()\n",
    "}\n",
    "\n",
    "\n",
    "class WRMSE()\n",
    "    \"\"\"Weighted RMSE loss\n",
    "\n",
    "\n",
    "\n"
   ]
  },
  {
   "cell_type": "code",
   "execution_count": null,
   "id": "85d68f78-547c-4d17-be33-1b1e424421cd",
   "metadata": {},
   "outputs": [],
   "source": [
    "torch.randn(3,4,5,6) * torch.randn(3,4)"
   ]
  },
  {
   "cell_type": "code",
   "execution_count": null,
   "id": "ca682168-f403-466c-b117-1c20b036f6e3",
   "metadata": {},
   "outputs": [],
   "source": []
  },
  {
   "cell_type": "code",
   "execution_count": null,
   "id": "379aaa85-6f65-486a-aba9-b03e1be66406",
   "metadata": {},
   "outputs": [],
   "source": []
  },
  {
   "cell_type": "code",
   "execution_count": 22,
   "id": "63cb19a7-c2b2-4417-88f7-a5d10342878d",
   "metadata": {},
   "outputs": [],
   "source": [
    "TASK.preprocessor.inverse_transform(X.cpu().numpy())"
   ]
  },
  {
   "cell_type": "code",
   "execution_count": 23,
   "id": "2e745777-f637-4a2a-8857-424ce7384123",
   "metadata": {},
   "outputs": [],
   "source": [
    "X.shape"
   ]
  },
  {
   "cell_type": "code",
   "execution_count": 15,
   "id": "d9961c81-1d8e-4646-9fc5-79d980671108",
   "metadata": {},
   "outputs": [],
   "source": []
  },
  {
   "cell_type": "code",
   "execution_count": null,
   "id": "c89a3b59-6ef4-4b41-b53e-9b23ef5bbafb",
   "metadata": {},
   "outputs": [],
   "source": [
    "LOSS = TASK.test_metric"
   ]
  },
  {
   "cell_type": "markdown",
   "id": "59aa5f1e-2c85-42db-933c-fe655f6641fa",
   "metadata": {},
   "source": [
    "#### Initialize Model"
   ]
  },
  {
   "cell_type": "code",
   "execution_count": null,
   "id": "c3e09543-0692-4f23-af83-912d14a18ac7",
   "metadata": {
    "tags": []
   },
   "outputs": [],
   "source": [
    "MODEL = LinODEnet\n",
    "model = MODEL(input_size=NUM_DIM, hidden_size=32, embedding_type=\"concat\")\n",
    "model.to(device=DEVICE, dtype=DTYPE)\n",
    "torchinfo.summary(model)"
   ]
  },
  {
   "cell_type": "markdown",
   "id": "f83e71ba-af79-4c01-a587-3785154e4036",
   "metadata": {
    "tags": []
   },
   "source": [
    "#### Initalize Optimizer"
   ]
  },
  {
   "cell_type": "code",
   "execution_count": null,
   "id": "4c2e1b0a-274f-411a-b414-8bc41084d12c",
   "metadata": {},
   "outputs": [],
   "source": [
    "optimizer = Adam(model.parameters(), lr=0.001)"
   ]
  },
  {
   "cell_type": "markdown",
   "id": "7465f78a-68f6-4d2e-98ef-c92653f75e9c",
   "metadata": {},
   "source": [
    "#### Initialize Logger"
   ]
  },
  {
   "cell_type": "code",
   "execution_count": null,
   "id": "db645a3f-23ed-4dfc-873b-09f6fcece23e",
   "metadata": {},
   "outputs": [],
   "source": [
    "# dataloader for training\n",
    "TRAINLOADER = TASK.get_dataloader(\"train\", batch_size=64)\n",
    "# dataloaders for evaluation\n",
    "eval_loaders = {\n",
    "    split: TASK.get_dataloader(split, batch_size=1024, shuffle=False)\n",
    "    for split in (\"train\", \"valid\", \"test\")\n",
    "}"
   ]
  },
  {
   "cell_type": "markdown",
   "id": "9e3e8ab3-a104-4492-b68a-d7f67e739921",
   "metadata": {
    "tags": []
   },
   "source": [
    "### Utility functions"
   ]
  },
  {
   "cell_type": "code",
   "execution_count": null,
   "id": "20388705-69a4-4765-bde4-d27527def516",
   "metadata": {},
   "outputs": [],
   "source": [
    "@jit.script\n",
    "def prep_batch(batch: tuple[Tensor, Tensor, Tensor], observation_horizon: int):\n",
    "    T, X, Y = batch\n",
    "    targets = Y[..., observation_horizon:].clone()\n",
    "    Y[..., observation_horizon:] = float(\"nan\")  # mask future\n",
    "    X[..., observation_horizon:, :] = float(\"nan\")  # mask future\n",
    "    inputs = torch.cat([X, Y.unsqueeze(-1)], dim=-1)\n",
    "    return T, inputs, targets\n",
    "\n",
    "\n",
    "def get_all_preds(model, dataloader):\n",
    "    Y, Ŷ = [], []\n",
    "    for batch in tqdm(dataloader, leave=False):\n",
    "        with torch.no_grad():\n",
    "            model.zero_grad()\n",
    "            times, inputs, targets = prep_batch(batch, OBS_HORIZON)\n",
    "            outputs, _ = model(times, inputs)\n",
    "            predics = outputs[:, OBS_HORIZON:, -1]\n",
    "            loss = LOSS(predics, targets)\n",
    "            Y.append(targets)\n",
    "            Ŷ.append(predics)\n",
    "\n",
    "    return torch.cat(Y, dim=0), torch.cat(Ŷ, dim=0)"
   ]
  },
  {
   "cell_type": "markdown",
   "id": "bf5892b9-c3ad-4b3b-992e-e082b600227c",
   "metadata": {},
   "source": [
    "# logging utilities"
   ]
  },
  {
   "cell_type": "code",
   "execution_count": null,
   "id": "d2919d5f-1d1f-4147-aacf-3e50d09230ff",
   "metadata": {},
   "outputs": [],
   "source": [
    "def log_all(i, model, writer, optimizer):\n",
    "    kernel = model.system.kernel.clone().detach().cpu()\n",
    "    log_kernel_information(i, writer, kernel, histograms=True)\n",
    "    log_optimizer_state(i, writer, optimizer, histograms=True)"
   ]
  },
  {
   "cell_type": "code",
   "execution_count": null,
   "id": "5f560c2e-7842-4a42-905f-0abf73af7ec1",
   "metadata": {},
   "outputs": [],
   "source": []
  },
  {
   "cell_type": "code",
   "execution_count": null,
   "id": "ee6298fa-fd88-4191-9864-2cc58f73f78e",
   "metadata": {},
   "outputs": [],
   "source": [
    "# warmup - set all gradients to none\n",
    "y, yhat = model(torch.randn(NUM_DIM).cuda(), torch.randn(1, NUM_DIM).cuda())\n",
    "torch.linalg.norm(y).backward()\n",
    "model.zero_grad()"
   ]
  },
  {
   "cell_type": "code",
   "execution_count": null,
   "id": "57a40b96-09b5-4205-bdab-6db58e7675d5",
   "metadata": {},
   "outputs": [],
   "source": []
  },
  {
   "cell_type": "code",
   "execution_count": null,
   "id": "3d718219-e9f8-469b-827b-468c9dca0db7",
   "metadata": {},
   "outputs": [],
   "source": [
    "RUN_START = tsdm.util.now()\n",
    "CHECKPOINTDIR = Path(f\"checkpoints/{RUN_START}/\")\n",
    "CHECKPOINTDIR.mkdir(parents=True, exist_ok=True)\n",
    "\n",
    "writer = SummaryWriter(f\"runs/{MODEL.__name__}/{DATASET.__name__}{RUN_START}\")\n",
    "metrics = {key: LOSSES[key] for key in (\"ND\", \"NRMSE\", \"MSE\", \"MAE\")}\n",
    "assert any(isinstance(TASK.test_metric, metric) for metric in metrics.values())\n",
    "metrics = {key: LOSSES[key]() for key in (\"ND\", \"NRMSE\", \"MSE\", \"MAE\")}"
   ]
  },
  {
   "cell_type": "markdown",
   "id": "62361bf2-16b2-46b0-bc69-71bee7045422",
   "metadata": {},
   "source": [
    "### Training Start"
   ]
  },
  {
   "cell_type": "code",
   "execution_count": null,
   "id": "699e4dfd-0afe-4ab6-8551-2b3f284da403",
   "metadata": {},
   "outputs": [],
   "source": []
  },
  {
   "cell_type": "code",
   "execution_count": null,
   "id": "97e9b5c3-8da4-4e5b-b4a5-f0dfac9ff450",
   "metadata": {},
   "outputs": [],
   "source": [
    "i = -1\n",
    "\n",
    "for epoch in (epochs := trange(100)):\n",
    "    # log\n",
    "    with torch.no_grad():\n",
    "        # log optimizer state first !!!\n",
    "        log_optimizer_state(epoch, writer, optimizer, histograms=True)\n",
    "        log_kernel_information(epoch, writer, model.system.kernel, histograms=True)\n",
    "\n",
    "        for name, dataloader in eval_loaders.items():\n",
    "            y, ŷ = get_all_preds(model, dataloader)\n",
    "            log_metrics(epoch, writer, y, ŷ, metrics, prefix=name)\n",
    "\n",
    "    for batch in (batches := tqdm(TRAINLOADER)):\n",
    "        i += 1\n",
    "        # Optimization step\n",
    "        model.zero_grad()\n",
    "        times, inputs, targets = prep_batch(batch, OBS_HORIZON)\n",
    "        outputs, _ = model(times, inputs)\n",
    "        predics = outputs[:, OBS_HORIZON:, -1]\n",
    "        loss = LOSS(predics, targets)\n",
    "        loss.backward()\n",
    "        optimizer.step()\n",
    "\n",
    "        # batch logging\n",
    "        with torch.no_grad():\n",
    "            i += 1\n",
    "            log_metrics(i, writer, targets, predics, metrics, prefix=\"batch\")\n",
    "            log_optimizer_state(i, writer, optimizer, prefix=\"batch\")\n",
    "\n",
    "            lval = loss.clone().detach().cpu().numpy()\n",
    "            gval = grad_norm(list(model.parameters())).clone().detach().cpu().numpy()\n",
    "            batches.set_postfix(loss=lval, gnorm=gval)\n",
    "\n",
    "            if torch.any(torch.isnan(loss)):\n",
    "                raise RuntimeError(\"NaN-value encountered!!\")\n",
    "\n",
    "    with torch.no_grad():\n",
    "        # log optimizer state first !!!\n",
    "        log_optimizer_state(epoch, writer, optimizer, histograms=True)\n",
    "        log_kernel_information(epoch, writer, model.system.kernel, histograms=True)\n",
    "\n",
    "        for name, dataloader in eval_loaders.items():\n",
    "            y, ŷ = get_all_preds(model, dataloader)\n",
    "            log_metrics(epoch, writer, y, ŷ, metrics, prefix=name)\n",
    "\n",
    "        # Model Checkpoint\n",
    "        torch.jit.save(model, CHECKPOINTDIR.joinpath(f\"{MODEL.__name__}-{epochs.n}\"))\n",
    "        torch.save(\n",
    "            {\n",
    "                \"optimizer\": optimizer,\n",
    "                \"epoch\": epoch,\n",
    "                \"batch\": i,\n",
    "            },\n",
    "            CHECKPOINTDIR.joinpath(f\"{optimizer.__name__}-{epochs.n}\"),\n",
    "        )"
   ]
  },
  {
   "cell_type": "code",
   "execution_count": null,
   "id": "567866f0-a260-427c-b824-8168aa0fe6b7",
   "metadata": {},
   "outputs": [],
   "source": [
    "for name, dataloader in eval_loaders.items():\n",
    "    print(name)\n",
    "    y, ŷ = get_all_preds(model, dataloader)\n",
    "    log_metrics(epoch, writer, y, ŷ, metrics, prefix=name)"
   ]
  },
  {
   "cell_type": "code",
   "execution_count": null,
   "id": "08247a3b-fff0-4111-86f8-840ce239a160",
   "metadata": {},
   "outputs": [],
   "source": [
    "import tensorboard as tb\n",
    "from tensorboard.backend.event_processing import event_accumulator\n",
    "from tensorboard.backend.event_processing.event_accumulator import EventAccumulator"
   ]
  },
  {
   "cell_type": "code",
   "execution_count": null,
   "id": "f9131876-0c87-432a-9724-1a14b4d4f8e6",
   "metadata": {},
   "outputs": [],
   "source": [
    "ea = EventAccumulator(\n",
    "    \"/home/rscholz/Projects/KIWI/tsdm/dev/experiments/runs/LinODEnet/ETTh12021-09-29T02:57:42/events.out.tfevents.1632877062.workstation.373922.0\",\n",
    "    size_guidance={  # see below regarding this argument\n",
    "        event_accumulator.COMPRESSED_HISTOGRAMS: 500,\n",
    "        event_accumulator.IMAGES: 4,\n",
    "        event_accumulator.AUDIO: 4,\n",
    "        event_accumulator.SCALARS: 0,\n",
    "        event_accumulator.HISTOGRAMS: 1,\n",
    "    },\n",
    ")"
   ]
  },
  {
   "cell_type": "code",
   "execution_count": null,
   "id": "d51336fb-3a59-44d4-bb27-c6b10a801d71",
   "metadata": {},
   "outputs": [],
   "source": [
    "ea.Reload()"
   ]
  },
  {
   "cell_type": "code",
   "execution_count": null,
   "id": "f92ae4d0-667a-4708-b5a5-76051f19e390",
   "metadata": {},
   "outputs": [],
   "source": [
    "pandas.DataFrame(ea.Scalars(\"train:metrics/MSE\"))"
   ]
  },
  {
   "cell_type": "code",
   "execution_count": null,
   "id": "d4139f15-5ef5-4564-9e84-fefabc269089",
   "metadata": {},
   "outputs": [],
   "source": []
  },
  {
   "cell_type": "code",
   "execution_count": null,
   "id": "10fcdf6d-a741-4ed6-ba9d-4f33bb68205a",
   "metadata": {},
   "outputs": [],
   "source": []
  },
  {
   "cell_type": "code",
   "execution_count": null,
   "id": "08b130dc-ed31-473a-b8c6-367bd4f548f5",
   "metadata": {},
   "outputs": [],
   "source": []
  },
  {
   "cell_type": "code",
   "execution_count": null,
   "id": "1029f23b-8362-42e1-ae37-fa9b0b88388b",
   "metadata": {},
   "outputs": [],
   "source": [
    "from typing import TypeVar, Union, Sequence, Generic, Callable\n",
    "\n",
    "T = TypeVar('T')\n",
    "S = TypeVar('S')\n",
    "\n",
    "SingleOrSequence = Union[T, Sequence[T], list[S]]"
   ]
  },
  {
   "cell_type": "code",
   "execution_count": null,
   "id": "d36a8188-24c6-460d-bc8a-42b567d77c1d",
   "metadata": {},
   "outputs": [],
   "source": [
    "SingleOrSequence[dict[str, int], float]"
   ]
  },
  {
   "cell_type": "code",
   "execution_count": null,
   "id": "cf736f92-fedb-4f72-aaf5-0981e898b1dd",
   "metadata": {},
   "outputs": [],
   "source": [
    "SingleOrSequence"
   ]
  },
  {
   "cell_type": "code",
   "execution_count": null,
   "id": "a74c3dbc-63b2-4595-8a4c-b6b4e4cc9788",
   "metadata": {},
   "outputs": [],
   "source": [
    "class A:\n",
    "    @classmethod\n",
    "    def __getitem__(cls, item):\n",
    "        return Union[item, Sequence[item]]"
   ]
  },
  {
   "cell_type": "code",
   "execution_count": null,
   "id": "8ea39ae2-274d-4b94-bec5-ebdd5f2a796c",
   "metadata": {},
   "outputs": [],
   "source": [
    "A[int]"
   ]
  },
  {
   "cell_type": "code",
   "execution_count": null,
   "id": "4978890c-99e0-424d-ad7a-dd385c843cfa",
   "metadata": {},
   "outputs": [],
   "source": [
    "Callable[..., int]"
   ]
  },
  {
   "cell_type": "code",
   "execution_count": null,
   "id": "c849e82a-a035-4d6b-8b59-305f5cd53a0c",
   "metadata": {},
   "outputs": [],
   "source": [
    "ObjectType = TypeVar(\"ObjectType\")\n",
    "r\"\"\"Generic type hint for instances.\"\"\"\n",
    "\n",
    "ClassType = TypeVar(\"ClassType\")\n",
    "r\"\"\"Generic type hint for classes.\"\"\"\n",
    "\n",
    "FunctionType = TypeVar(\"FunctionType\")\n",
    "r\"\"\"Generic type hint for function.\"\"\"\n",
    "\n",
    "ReturnType = TypeVar(\"ReturnType\")\n",
    "r\"\"\"Generic type hint for return type.\"\"\"\n",
    "\n",
    "\n",
    "#\n",
    "LookupTable = dict[str, ObjectType]\n",
    "ClassLookupTable = LookupTable[type[ObjectType]]\n",
    "FunctionLookupTable = LookupTable[FunctionType]\n",
    "CallableLookupTable = LookupTable[Callable[..., ReturnType]]\n",
    "CombinedLookupTable = Union[\n",
    "    dict[str, FunctionType],\n",
    "    dict[str, type[ObjectType]],\n",
    "    dict[str, Union[FunctionType, type[ObjectType]]],\n",
    "]"
   ]
  },
  {
   "cell_type": "code",
   "execution_count": null,
   "id": "48280fc5-d561-4329-a8b6-9ac8e9a2f7b4",
   "metadata": {},
   "outputs": [],
   "source": [
    "CallableLookupTable[int]"
   ]
  },
  {
   "cell_type": "code",
   "execution_count": null,
   "id": "4f59ea03-2d2e-4094-bc7c-647ed43a22e9",
   "metadata": {},
   "outputs": [],
   "source": []
  }
 ],
 "metadata": {
  "kernelspec": {
   "display_name": "Python 3 (ipykernel)",
   "language": "python",
   "name": "python3"
  },
  "language_info": {
   "codemirror_mode": {
    "name": "ipython",
    "version": 3
   },
   "file_extension": ".py",
   "mimetype": "text/x-python",
   "name": "python",
   "nbconvert_exporter": "python",
   "pygments_lexer": "ipython3",
   "version": "3.9.7"
  }
 },
 "nbformat": 4,
 "nbformat_minor": 5
}
