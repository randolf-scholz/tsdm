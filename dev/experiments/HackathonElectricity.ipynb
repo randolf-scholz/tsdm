{
 "cells": [
  {
   "cell_type": "code",
   "execution_count": null,
   "id": "cc22d517-c76d-4da2-ac57-ab077be3396f",
   "metadata": {},
   "outputs": [],
   "source": [
    "%config InteractiveShell.ast_node_interactivity='last_expr_or_assign'  # always print last expr.\n",
    "%config InlineBackend.figure_format = 'svg'\n",
    "%load_ext autoreload\n",
    "%autoreload 2"
   ]
  },
  {
   "cell_type": "code",
   "execution_count": null,
   "id": "880c03d7-324c-4bc8-ae50-5392d4ff4642",
   "metadata": {},
   "outputs": [],
   "source": [
    "import os\n",
    "from datetime import datetime\n",
    "\n",
    "# enable JIT compilation - must be done before loading torch!\n",
    "os.environ[\"PYTORCH_JIT\"] = \"1\""
   ]
  },
  {
   "cell_type": "code",
   "execution_count": null,
   "id": "20e1c36b-b316-486d-bf09-724a98b0f477",
   "metadata": {},
   "outputs": [],
   "source": [
    "import tsdm\n",
    "import torch\n",
    "import pandas\n",
    "import numpy as np\n",
    "\n",
    "from tqdm import trange, tqdm\n",
    "from torch import tensor, Tensor, jit\n",
    "from torch.utils.data import BatchSampler, DataLoader\n",
    "from torch.utils.tensorboard import SummaryWriter\n",
    "\n",
    "from tsdm.metrics.functional import nrmse, nd\n",
    "from tsdm.utils.dataloaders import SliceSampler\n",
    "from tsdm.utils import grad_norm\n",
    "from tsdm.datasets import Electricity\n",
    "from tsdm.encoders import time2float\n",
    "\n",
    "from linodenet.models import LinODEnet, LinODECell, LinODE\n",
    "from linodenet.projections import symmetric, skew_symmetric"
   ]
  },
  {
   "cell_type": "markdown",
   "id": "9e3e8ab3-a104-4492-b68a-d7f67e739921",
   "metadata": {},
   "source": [
    "### Utility functions"
   ]
  },
  {
   "cell_type": "code",
   "execution_count": null,
   "id": "640925a0-e0e7-4e29-a00d-34f8832feea7",
   "metadata": {},
   "outputs": [],
   "source": [
    "def now():\n",
    "    return datetime.now().isoformat(timespec=\"seconds\")\n",
    "\n",
    "\n",
    "def symmpart(kernel):\n",
    "    return torch.mean(symmetric(kernel) ** 2) / torch.mean(kernel**2)\n",
    "\n",
    "\n",
    "def skewpart(kenerl):\n",
    "    return torch.mean(skew_symmetric(kernel) ** 2) / torch.mean(kernel**2)"
   ]
  },
  {
   "cell_type": "markdown",
   "id": "9dfe5c80-2903-4964-a647-ca2dd343f959",
   "metadata": {
    "tags": []
   },
   "source": [
    "### Plotting Kernel Utility Function"
   ]
  },
  {
   "cell_type": "code",
   "execution_count": null,
   "id": "339427e8-3938-4a6f-8f48-dd8fdb8dc298",
   "metadata": {},
   "outputs": [],
   "source": [
    "import matplotlib.pyplot as plt\n",
    "\n",
    "\n",
    "def plot_spectrum(kernel):\n",
    "    eigs = torch.linalg.eigvals(kernel).detach().cpu()\n",
    "    fig, ax = plt.subplots(figsize=(12, 6), tight_layout=True)\n",
    "    ax.set_xlim([-2.5, +2.5])\n",
    "    ax.set_ylim([-2.5, +2.5])\n",
    "    ax.set_aspect(\"equal\")\n",
    "    ax.set_xlabel(\"real part\")\n",
    "    ax.set_ylabel(\"imag part\")\n",
    "    ax.scatter(eigs.real, eigs.imag)\n",
    "    return fig"
   ]
  },
  {
   "cell_type": "markdown",
   "id": "37e9dea5-bc71-40f5-a9cc-96644ce2401a",
   "metadata": {},
   "source": [
    "### Setup Code"
   ]
  },
  {
   "cell_type": "code",
   "execution_count": null,
   "id": "549e6730-f83f-4cb9-bbdf-2dc469a08ff2",
   "metadata": {},
   "outputs": [],
   "source": [
    "DEVICE = torch.device(\"cuda\")\n",
    "DTYPE = torch.float32\n",
    "NAN = tensor(float(\"nan\"), dtype=DTYPE, device=DEVICE)\n",
    "DATASET = Electricity.dataset\n",
    "NPTS, NDIM = DATASET.shape\n",
    "SEQLEN = 48\n",
    "PRD_HORIZON = 24\n",
    "OBS_HORIZON = SEQLEN - PRD_HORIZON\n",
    "BATCH_SIZE = 16"
   ]
  },
  {
   "cell_type": "markdown",
   "id": "06a2eeb3-54bc-4ee1-a7da-194b30f64c11",
   "metadata": {},
   "source": [
    "### Dataset preprocessing"
   ]
  },
  {
   "cell_type": "code",
   "execution_count": null,
   "id": "2e2c5c87-df10-47d7-b439-db00102cbd88",
   "metadata": {},
   "outputs": [],
   "source": [
    "# preprocessing cf. NBEATS-paper\n",
    "ds = Electricity.dataset\n",
    "\n",
    "# resample hourly\n",
    "ds = ds.resample(pandas.Timedelta(\"1h\"), label=\"right\").sum()\n",
    "\n",
    "# remove first year\n",
    "ds = ds.loc[pandas.Timestamp(\"2012-01-01\") :]\n",
    "\n",
    "# train-test split\n",
    "ds_train, ds_test = ds.iloc[:-PRD_HORIZON], ds.iloc[-PRD_HORIZON:]  # 168=7*24\n",
    "t_train, t_test = time2float(ds_train.index), time2float(ds_test.index)\n",
    "t_train, t_test = t_train / t_train.max(), t_test / t_test.max()\n",
    "\n",
    "train = torch.cat(  # tuples (t, x)\n",
    "    [\n",
    "        tensor(t_train, device=DEVICE, dtype=DTYPE).unsqueeze(-1),\n",
    "        tensor(ds_train.values, device=DEVICE, dtype=DTYPE),\n",
    "    ],\n",
    "    axis=-1,\n",
    ")"
   ]
  },
  {
   "cell_type": "markdown",
   "id": "8bb4b60d-80fc-473a-b015-f7afc79fb296",
   "metadata": {},
   "source": [
    "### Data Loading Utility Functions"
   ]
  },
  {
   "cell_type": "code",
   "execution_count": null,
   "id": "444a16d6-beaa-4187-a334-cbc8644736cf",
   "metadata": {},
   "outputs": [],
   "source": [
    "sampler = SliceSampler(train, slice_sampler=SEQLEN)\n",
    "sampler = BatchSampler(sampler, batch_size=BATCH_SIZE, drop_last=True)\n",
    "\n",
    "\n",
    "def collate_tensor(tensors: list[tensor]) -> tensor:\n",
    "    r\"\"\"Combine list of tensors into batch\"\"\"\n",
    "    return torch.stack(tensors, axis=0)\n",
    "\n",
    "\n",
    "@jit.script\n",
    "def prep(\n",
    "    batch: Tensor, OBS_HORIZON: int = OBS_HORIZON, NAN: Tensor = NAN\n",
    ") -> tuple[Tensor, Tensor, Tensor]:\n",
    "    t, x = batch[:, :, 0], batch[:, :, 1:]\n",
    "    t_obs, t_pred = t[:, :OBS_HORIZON], t[:, OBS_HORIZON:]\n",
    "    x_obs = x.detach().clone()\n",
    "    x_obs[:, OBS_HORIZON:, :] = NAN\n",
    "    return t, x, x_obs"
   ]
  },
  {
   "cell_type": "code",
   "execution_count": null,
   "id": "7c3db39e-34df-40e3-a7fb-0769b7f135a4",
   "metadata": {
    "tags": []
   },
   "outputs": [],
   "source": [
    "from torch.optim import Adam\n",
    "\n",
    "model = LinODEnet(NDIM, 512, embedding_type=\"concat\")\n",
    "model.to(device=DEVICE, dtype=DTYPE)\n",
    "\n",
    "optimizer = Adam(model.parameters(), lr=0.001)\n",
    "\n",
    "batch = collate_tensor(next(iter(sampler)))\n",
    "t, x = batch[:, :, 0], batch[:, :, 1:]\n",
    "writer = SummaryWriter(f\"runs/LinODEnet/{now()}\")"
   ]
  },
  {
   "cell_type": "code",
   "execution_count": null,
   "id": "9617afad-8cd1-4858-9396-7f08643f63c2",
   "metadata": {},
   "outputs": [],
   "source": [
    "for batch in (pbar := tqdm(sampler)):\n",
    "    batch = collate_tensor(batch)\n",
    "    t, x, x_obs = prep(batch)\n",
    "    x_hat = model(t, x_obs)\n",
    "    loss = torch.mean(nd(x_hat, x))\n",
    "    loss.backward()\n",
    "    optimizer.step()\n",
    "\n",
    "    with torch.no_grad():\n",
    "        pbar.set_postfix(loss=f\"{loss:.2e}\")\n",
    "        kernel = model.system.kernel.detach().cpu()\n",
    "        writer.add_scalar(\n",
    "            \"optim/grad_norm\", grad_norm(list(model.parameters())), pbar.n\n",
    "        )\n",
    "        #         writer.add_scalar(\"optim/momentum\", grad_norm(list(model.parameters())), pbar.n)\n",
    "        #         writer.add_scalar(\"optim/momentum\", grad_norm(list(model.parameters())), pbar.n)\n",
    "        writer.add_scalar(\"train/loss:nd\", loss, pbar.n)\n",
    "        writer.add_scalar(\"train/loss:nrmse\", torch.mean(nrmse(x_hat, x)), pbar.n)\n",
    "\n",
    "        # plot kernel data\n",
    "        writer.add_histogram(\"kernel/histogram\", model.system.kernel, pbar.n)\n",
    "        writer.add_image(\n",
    "            \"kernel/values\", torch.tanh(model.system.kernel), pbar.n, dataformats=\"HW\"\n",
    "        )\n",
    "        writer.add_figure(\"kernel/spectrum\", plot_spectrum(kernel), pbar.n)\n",
    "        writer.add_scalar(\"kernel/skewpart\", skewpart(kernel), pbar.n)\n",
    "        writer.add_scalar(\"kernel/symmpart\", symmpart(kernel), pbar.n)\n",
    "        writer.add_scalar(\"kernel/det\", torch.linalg.det(kernel), pbar.n)\n",
    "        writer.add_scalar(\"kernel/rank\", torch.linalg.matrix_rank(kernel), pbar.n)\n",
    "        writer.add_scalar(\"kernel/trace\", torch.trace(kernel), pbar.n)\n",
    "        writer.add_scalar(\"kernel/cond\", torch.linalg.cond(kernel), pbar.n)\n",
    "        writer.add_scalar(\"kernel/logdet\", torch.linalg.slogdet(kernel)[-1], pbar.n)\n",
    "        writer.add_scalar(\n",
    "            \"kernel/norm:fro\", torch.linalg.matrix_norm(kernel, ord=\"fro\"), pbar.n\n",
    "        )\n",
    "        writer.add_scalar(\n",
    "            \"kernel/norm:nuc\", torch.linalg.matrix_norm(kernel, ord=\"nuc\"), pbar.n\n",
    "        )\n",
    "        writer.add_scalar(\n",
    "            \"kernel/norm:-∞\", torch.linalg.matrix_norm(kernel, ord=-np.inf), pbar.n\n",
    "        )\n",
    "        writer.add_scalar(\n",
    "            \"kernel/norm:-2\", torch.linalg.matrix_norm(kernel, ord=-2), pbar.n\n",
    "        )\n",
    "        writer.add_scalar(\n",
    "            \"kernel/norm:-1\", torch.linalg.matrix_norm(kernel, ord=-1), pbar.n\n",
    "        )\n",
    "        writer.add_scalar(\n",
    "            \"kernel/norm:+1\", torch.linalg.matrix_norm(kernel, ord=+1), pbar.n\n",
    "        )\n",
    "        writer.add_scalar(\n",
    "            \"kernel/norm:+2\", torch.linalg.matrix_norm(kernel, ord=+2), pbar.n\n",
    "        )\n",
    "        writer.add_scalar(\n",
    "            \"kernel/norm:+∞\", torch.linalg.matrix_norm(kernel, ord=+np.inf), pbar.n\n",
    "        )"
   ]
  },
  {
   "cell_type": "code",
   "execution_count": null,
   "id": "b9f963a6-0cad-41a8-9736-579df3ab7b30",
   "metadata": {},
   "outputs": [],
   "source": []
  }
 ],
 "metadata": {
  "kernelspec": {
   "display_name": "Python 3 (ipykernel)",
   "language": "python",
   "name": "python3"
  },
  "language_info": {
   "codemirror_mode": {
    "name": "ipython",
    "version": 3
   },
   "file_extension": ".py",
   "mimetype": "text/x-python",
   "name": "python",
   "nbconvert_exporter": "python",
   "pygments_lexer": "ipython3",
   "version": "3.9.7"
  }
 },
 "nbformat": 4,
 "nbformat_minor": 5
}
