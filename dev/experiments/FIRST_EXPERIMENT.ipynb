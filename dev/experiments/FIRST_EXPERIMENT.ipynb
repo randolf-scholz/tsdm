{
 "cells": [
  {
   "cell_type": "code",
   "execution_count": null,
   "id": "76248692-217e-45cd-a0eb-5b508dbe4688",
   "metadata": {},
   "outputs": [],
   "source": [
    "%config InteractiveShell.ast_node_interactivity='last_expr_or_assign'  # always print last expr.\n",
    "%config InlineBackend.figure_format = 'svg'\n",
    "%load_ext autoreload\n",
    "%autoreload 2"
   ]
  },
  {
   "cell_type": "code",
   "execution_count": null,
   "id": "6e180378-ad98-429f-beed-9ff833c602a9",
   "metadata": {},
   "outputs": [],
   "source": [
    "import pickle\n",
    "import xarray\n",
    "\n",
    "import numpy as np\n",
    "from zipfile import ZipFile\n",
    "\n",
    "import linodenet\n",
    "import matplotlib.pyplot as plt\n",
    "import torch\n",
    "\n",
    "from typing import Sized\n",
    "from tqdm import tqdm, trange\n",
    "from pathlib import Path\n",
    "import pandas\n",
    "from pandas import DataFrame"
   ]
  },
  {
   "cell_type": "code",
   "execution_count": null,
   "id": "26942d6e-c6b5-4e19-b62d-198b9c3d87ba",
   "metadata": {},
   "outputs": [],
   "source": [
    "df = pandas.read_hdf(Path.cwd().parent.joinpath(\"data/some_data_from_db.h5\"))\n",
    "df = df.drop(columns=\"unit\")"
   ]
  },
  {
   "cell_type": "code",
   "execution_count": null,
   "id": "ee9f9cff-039b-40c0-8482-735889047d73",
   "metadata": {},
   "outputs": [],
   "source": [
    "data = df.loc[8627].reset_index().set_index(\"measurement_time\")"
   ]
  },
  {
   "cell_type": "code",
   "execution_count": null,
   "id": "c9e1bd46-0614-4fcf-8dc1-fdcbe2d474f5",
   "metadata": {},
   "outputs": [],
   "source": [
    "from typing import Union, Optional, Callable, Iterator\n",
    "from torch.utils.data import Sampler\n",
    "from numpy.random import Generator\n",
    "\n",
    "\n",
    "# TODO: add exclusive_args decorator\n",
    "class SequentialSliceSampler(Sampler):\n",
    "    r\"\"\"\n",
    "\n",
    "    Default modus operandi:\n",
    "\n",
    "    - Use fixed window size\n",
    "    - Sample starting index uniformly from [0:-window]\n",
    "\n",
    "    Should you want to sample windows of varying size, you may supply a\n",
    "    \"\"\"\n",
    "\n",
    "    def __init__(\n",
    "        self,\n",
    "        data,\n",
    "        slice_sampler: Optional[Union[int, Callable[[], int]]],\n",
    "        sampler: Optional[Callable[[], tuple[int, int]]] = None,\n",
    "    ):\n",
    "        super().__init__(data)\n",
    "        self.data = data\n",
    "        self.rng = np.random.default_rng()\n",
    "        self.idx = np.arange(len(data))\n",
    "        self.slice_sampler = (\n",
    "            slice_sampler if callable(slice_sampler) else (lambda: slice_sampler)\n",
    "        )\n",
    "\n",
    "        def sampler() -> tuple[int, int]:\n",
    "            window_size = self.slice_sampler()\n",
    "            start_index = self.rng.choice(self.idx[:-window_size])\n",
    "            return window_size, start_index\n",
    "\n",
    "        self.sampler = sampler\n",
    "\n",
    "    def __iter__(self) -> Iterator:\n",
    "        while True:\n",
    "            # sample len and index\n",
    "            window_size, start_index = self.sampler()\n",
    "            # return slice\n",
    "            yield self.data.iloc[start_index : start_index + window_size]"
   ]
  },
  {
   "cell_type": "code",
   "execution_count": null,
   "id": "f0ae8db1-2fbc-4e5b-b3d1-30a6767f151e",
   "metadata": {},
   "outputs": [],
   "source": [
    "from tsdm.utils.dtypes import TimeDeltaLike, TimeStampLike"
   ]
  },
  {
   "cell_type": "code",
   "execution_count": null,
   "id": "21224040-0a33-4b61-8d7e-db9e1ca8919e",
   "metadata": {},
   "outputs": [],
   "source": [
    "# TODO: add exclusive_args decorator\n",
    "class TimeSliceSampler(Sampler):\n",
    "    r\"\"\"Sample by time.\n",
    "\n",
    "    Default modus operandi:\n",
    "\n",
    "    - Use fixed window size\n",
    "    - Sample starting index uniformly from [0:-window]\n",
    "\n",
    "    Should you want to sample windows of varying size, you may supply a\n",
    "    \"\"\"\n",
    "\n",
    "    def __init__(\n",
    "        self,\n",
    "        data_source: Optional[Sized],\n",
    "        slice_sampler: Optional[Union[TimeDeltaLike, Callable[[], TimeDeltaLike]]],\n",
    "        sampler: Optional[Callable[[], tuple[TimeDeltaLike, TimeStampLike]]] = None,\n",
    "    ):\n",
    "        \"\"\"Initialize Sampler.\n",
    "\n",
    "        Parameters\n",
    "        ----------\n",
    "        data_source\n",
    "        slice_sampler\n",
    "        sampler\n",
    "        \"\"\"\n",
    "        super().__init__(data_source)\n",
    "        self.data = DataFrame(data_source)\n",
    "        self.idx = np.arange(len(data_source))\n",
    "\n",
    "        self.rng = np.random.default_rng()\n",
    "        self.slice_sampler = (\n",
    "            slice_sampler if callable(slice_sampler) else (lambda: slice_sampler)\n",
    "        )\n",
    "\n",
    "        def sampler() -> tuple[int, int]:\n",
    "            window_size = self.slice_sampler()\n",
    "            start_index = self.rng.choice(self.idx[:-window_size])\n",
    "            return window_size, start_index\n",
    "\n",
    "        self.sampler = sampler\n",
    "\n",
    "    def __iter__(self) -> Iterator:\n",
    "        r\"\"\"Yield random window from dataset\n",
    "\n",
    "        Returns\n",
    "        -------\n",
    "\n",
    "        \"\"\"\n",
    "        while True:\n",
    "            # sample len and index\n",
    "            window_size, start_index = self.sampler()\n",
    "            # return slice\n",
    "            yield self.data.iloc[start_index : start_index + window_size]"
   ]
  },
  {
   "cell_type": "code",
   "execution_count": null,
   "id": "3dc9827c-3b53-4b00-864d-9cb6643ef76d",
   "metadata": {},
   "outputs": [],
   "source": [
    "full, slc = data, data.iloc[[0, 1, 2, 7, 99, 101], [1, 5, 4]]"
   ]
  },
  {
   "cell_type": "code",
   "execution_count": null,
   "id": "8cb30ecb-de32-408d-81d8-ba4630fbe9cc",
   "metadata": {},
   "outputs": [],
   "source": [
    "sampler = torch.utils.data.SequentialSampler(full)\n",
    "dloader = torch.utils.data.dataloader.DataLoader(full, sampler=sampler)"
   ]
  },
  {
   "cell_type": "code",
   "execution_count": null,
   "id": "891fff52-196f-4392-9f8b-41294384e581",
   "metadata": {},
   "outputs": [],
   "source": [
    "xarray.DataArray(\n",
    "    full, dims=[\"obs time\", \"obs val\"], name=\"run 1\"\n",
    ").to_dataframe().memory_usage()"
   ]
  },
  {
   "cell_type": "code",
   "execution_count": null,
   "id": "92e08384-ce3a-4194-bfd1-7e14f00a7aa0",
   "metadata": {},
   "outputs": [],
   "source": [
    "xarray.Dataset(coords={\"full\": xarray.DataArray(full), \"slc\": xarray.DataArray(slc)})"
   ]
  },
  {
   "cell_type": "code",
   "execution_count": null,
   "id": "767d48e7-e8a8-490d-96a9-9eb1d0c28bcb",
   "metadata": {
    "tags": []
   },
   "outputs": [],
   "source": [
    "fig, ax = plt.subplots()\n",
    "\n",
    "for col in (\"Acetate\", \"Acid\", \"Base\", \"DOT\"):\n",
    "    line = ax.plot(data[\"measurement_time\"].iloc[6:-100], data[col].iloc[6:-100])\n",
    "\n",
    "ax.legend([\"Acetate\", \"Acid\", \"Base\", \"DOT\"])"
   ]
  },
  {
   "cell_type": "code",
   "execution_count": null,
   "id": "269b9c59-43fe-418c-b115-33fc73431bfa",
   "metadata": {},
   "outputs": [],
   "source": [
    "ds = torch.tensor(data.values)"
   ]
  },
  {
   "cell_type": "code",
   "execution_count": null,
   "id": "f7c9a7bf-0558-4ff8-80fe-09c8e0d811d0",
   "metadata": {},
   "outputs": [],
   "source": [
    "sampler = BatchSampler(SequentialSampler(ds), batch_size=32, drop_last=True)\n",
    "from torch import Tensor\n",
    "\n",
    "\n",
    "def collate_list(batch: list[Tensor]) -> list[Tensor]:\n",
    "    r\"\"\"Collates list of tensors as list of tensors.\"\"\"\n",
    "    return batch"
   ]
  },
  {
   "cell_type": "code",
   "execution_count": null,
   "id": "27d48598-5c3d-490b-887e-783dff822d10",
   "metadata": {},
   "outputs": [],
   "source": [
    "dloader = DataLoader(TensorDataset(ds), batch_sampler=sampler)\n",
    "\n",
    "idloader = iter(dloader)\n",
    "next(idloader), next(idloader)"
   ]
  },
  {
   "cell_type": "code",
   "execution_count": null,
   "id": "a095bb54-0cb4-491c-a714-5326387ca06b",
   "metadata": {},
   "outputs": [],
   "source": [
    "list(iter(SequentialSampler(ds)))"
   ]
  },
  {
   "cell_type": "code",
   "execution_count": null,
   "id": "284f35f0-5520-447a-b186-04c452aabe55",
   "metadata": {},
   "outputs": [],
   "source": []
  },
  {
   "cell_type": "code",
   "execution_count": null,
   "id": "6ce06e35-94eb-4917-b266-ae7b3e72b992",
   "metadata": {},
   "outputs": [],
   "source": [
    "dir(tsdm)"
   ]
  },
  {
   "cell_type": "code",
   "execution_count": null,
   "id": "dd06f2b7-71f9-4a1d-a945-9325dba6dda0",
   "metadata": {},
   "outputs": [],
   "source": [
    "import numpy"
   ]
  },
  {
   "cell_type": "code",
   "execution_count": null,
   "id": "181f0699-f224-447e-8955-ac752196e701",
   "metadata": {},
   "outputs": [],
   "source": [
    "dir(numpy)"
   ]
  },
  {
   "cell_type": "code",
   "execution_count": null,
   "id": "ae37ec57-7b68-4398-ba8e-76ae5063057f",
   "metadata": {},
   "outputs": [],
   "source": []
  }
 ],
 "metadata": {
  "kernelspec": {
   "display_name": "Python 3 (ipykernel)",
   "language": "python",
   "name": "python3"
  },
  "language_info": {
   "codemirror_mode": {
    "name": "ipython",
    "version": 3
   },
   "file_extension": ".py",
   "mimetype": "text/x-python",
   "name": "python",
   "nbconvert_exporter": "python",
   "pygments_lexer": "ipython3",
   "version": "3.9.7"
  }
 },
 "nbformat": 4,
 "nbformat_minor": 5
}
