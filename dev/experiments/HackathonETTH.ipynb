{
 "cells": [
  {
   "cell_type": "code",
   "execution_count": 1,
   "id": "cc22d517-c76d-4da2-ac57-ab077be3396f",
   "metadata": {},
   "outputs": [],
   "source": [
    "%config InteractiveShell.ast_node_interactivity='last_expr_or_assign'  # always print last expr.\n",
    "%config InlineBackend.figure_format = 'svg'\n",
    "%load_ext autoreload\n",
    "%autoreload 2"
   ]
  },
  {
   "cell_type": "code",
   "execution_count": 2,
   "id": "880c03d7-324c-4bc8-ae50-5392d4ff4642",
   "metadata": {},
   "outputs": [],
   "source": [
    "import os\n",
    "from datetime import datetime\n",
    "\n",
    "# enable JIT compilation - must be done before loading torch!\n",
    "os.environ[\"PYTORCH_JIT\"] = \"1\""
   ]
  },
  {
   "cell_type": "code",
   "execution_count": 3,
   "id": "20e1c36b-b316-486d-bf09-724a98b0f477",
   "metadata": {},
   "outputs": [],
   "source": [
    "import tsdm\n",
    "import torch\n",
    "import pandas\n",
    "import numpy as np\n",
    "\n",
    "from tqdm.auto import trange, tqdm\n",
    "from torch import tensor, Tensor, jit\n",
    "from torch.utils.data import BatchSampler, DataLoader\n",
    "from torch.utils.tensorboard import SummaryWriter\n",
    "\n",
    "from tsdm.losses.functional import nrmse, nd\n",
    "from tsdm.util import grad_norm, multi_norm\n",
    "from tsdm.datasets import Electricity\n",
    "from tsdm.encoders import time2float\n",
    "\n",
    "from linodenet.models import LinODEnet, LinODECell, LinODE\n",
    "from linodenet.projections import symmetric, skew_symmetric"
   ]
  },
  {
   "cell_type": "code",
   "execution_count": 4,
   "id": "10ccb53e-8b33-45be-902f-575f1ed5afc6",
   "metadata": {},
   "outputs": [],
   "source": [
    "DEVICE = torch.device(\"cuda\")\n",
    "DTYPE = torch.float32\n",
    "NAN = tensor(float(\"nan\"), dtype=DTYPE, device=DEVICE)\n",
    "BATCH_SIZE = 16\n",
    "PRD_HORIZON = 24\n",
    "OBS_HORIZON = 96\n",
    "SEQLEN = PRD_HORIZON + OBS_HORIZON"
   ]
  },
  {
   "cell_type": "code",
   "execution_count": 5,
   "id": "32106a95-81de-4df2-872a-4fd60272c2f3",
   "metadata": {},
   "outputs": [],
   "source": [
    "from tsdm.tasks import ETDatasetInformer\n",
    "\n",
    "TASK = ETDatasetInformer(\n",
    "    dataset=\"ETTh1\",\n",
    "    forecasting_horizon=24,\n",
    "    observation_horizon=96,\n",
    "    test_metric=\"MSE\",\n",
    "    time_encoder=\"time2float\",\n",
    ")\n",
    "DATASET = TASK.dataset\n",
    "\n",
    "NUM_PTS, NUM_DIM = DATASET.dataset.shape"
   ]
  },
  {
   "cell_type": "markdown",
   "id": "9e3e8ab3-a104-4492-b68a-d7f67e739921",
   "metadata": {
    "tags": []
   },
   "source": [
    "### Utility functions"
   ]
  },
  {
   "cell_type": "code",
   "execution_count": 6,
   "id": "20388705-69a4-4765-bde4-d27527def516",
   "metadata": {},
   "outputs": [],
   "source": [
    "@jit.script\n",
    "def prep_batch(batch: tuple[Tensor, Tensor, Tensor], observation_horizon: int):\n",
    "    T, X, Y = batch\n",
    "    targets = Y[..., observation_horizon:].clone()\n",
    "    Y[..., observation_horizon:] = float(\"nan\")\n",
    "    inputs = torch.cat([X, Y.unsqueeze(-1)], dim=-1)\n",
    "    return T, inputs, targets\n",
    "\n",
    "\n",
    "def evaluate_model(model, task):\n",
    "    YS = []\n",
    "    YHATS = []\n",
    "    for batch in tqdm(task.get_dataloader(\"test\", batch_size=2760)):\n",
    "        with torch.no_grad():\n",
    "            model.zero_grad()\n",
    "            times, inputs, targets = prep_batch(batch, OBS_HORIZON)\n",
    "            outputs = model(times, inputs)\n",
    "            predics = outputs[:, OBS_HORIZON:, -1]\n",
    "            loss = LOSS(predics, targets)\n",
    "            YS.append(targets)\n",
    "            YHATS.append(predics)\n",
    "\n",
    "    YS = torch.cat(YS, dim=-1)\n",
    "    YHATS = torch.cat(YHATS, dim=-1)\n",
    "    return LOSS(YS, YHATS)"
   ]
  },
  {
   "cell_type": "markdown",
   "id": "bf5892b9-c3ad-4b3b-992e-e082b600227c",
   "metadata": {},
   "source": [
    "# logging utilities"
   ]
  },
  {
   "cell_type": "code",
   "execution_count": 7,
   "id": "d2919d5f-1d1f-4147-aacf-3e50d09230ff",
   "metadata": {},
   "outputs": [],
   "source": [
    "def log_all(i, model, writer, optimizer):\n",
    "    kernel = model.system.kernel.clone().detach().cpu()\n",
    "    log_kernel_information(i, writer, kernel, histograms=True)\n",
    "    log_optimizer_state(i, writer, optimizer, histograms=True)"
   ]
  },
  {
   "cell_type": "markdown",
   "id": "9dfe5c80-2903-4964-a647-ca2dd343f959",
   "metadata": {
    "tags": []
   },
   "source": [
    "### Plotting Kernel Utility Function"
   ]
  },
  {
   "cell_type": "code",
   "execution_count": 15,
   "id": "7c3db39e-34df-40e3-a7fb-0769b7f135a4",
   "metadata": {
    "tags": []
   },
   "outputs": [],
   "source": [
    "from torch.optim import Adam\n",
    "from linodenet.models import LinODEnet\n",
    "from tsdm.util.logging import log_optimizer_state, log_kernel_information\n",
    "\n",
    "MODEL = LinODEnet\n",
    "model = MODEL(input_size=NUM_DIM, hidden_size=32, embedding_type=\"concat\")\n",
    "model.to(device=DEVICE, dtype=DTYPE)\n",
    "writer = SummaryWriter(f\"runs/{MODEL.__name__}/{DATASET.__name__}{tsdm.util.now()}\")\n",
    "LOSS = TASK.test_metric()"
   ]
  },
  {
   "cell_type": "code",
   "execution_count": 16,
   "id": "5f560c2e-7842-4a42-905f-0abf73af7ec1",
   "metadata": {},
   "outputs": [],
   "source": [
    "optimizer = Adam(model.parameters(), lr=0.01)\n",
    "TRAINLOADER = TASK.get_dataloader(\"joint\", batch_size=32)"
   ]
  },
  {
   "cell_type": "code",
   "execution_count": 17,
   "id": "97e9b5c3-8da4-4e5b-b4a5-f0dfac9ff450",
   "metadata": {},
   "outputs": [],
   "source": [
    "for epoch in (epochs := trange(10)):\n",
    "\n",
    "    #     log_all(epochs.n, model, writer, optimizer)\n",
    "\n",
    "    for batch in (batches := tqdm(TRAINLOADER)):\n",
    "        model.zero_grad()\n",
    "        times, inputs, targets = prep_batch(batch, OBS_HORIZON)\n",
    "        outputs = model(times, inputs)\n",
    "        predics = outputs[:, OBS_HORIZON:, -1]\n",
    "        loss = LOSS(predics, targets)\n",
    "        loss.backward()\n",
    "\n",
    "        lval = loss.clone().detach().cpu().numpy()\n",
    "        gval = grad_norm(list(model.parameters())).clone().detach().cpu().numpy()\n",
    "        batches.set_postfix(loss=lval, gnorm=gval)\n",
    "\n",
    "        if torch.any(torch.isnan(loss)):\n",
    "            raise RuntimeError(\"NaN-value encountered!!\")\n",
    "        optimizer.step()\n",
    "\n",
    "    TEST_LOSS = evaluate_model(model, TASK)\n",
    "    print(epoch, TEST_LOSS)"
   ]
  },
  {
   "cell_type": "code",
   "execution_count": 33,
   "id": "a8bf33b2-6142-42ca-93c4-8eb2595bae33",
   "metadata": {},
   "outputs": [],
   "source": [
    "from pathlib import Path\n",
    "\n",
    "path = Path.cwd().joinpath(\"models\")\n",
    "path.mkdir(exist_ok=True)\n",
    "model.save(\"models/full_model.pt\")"
   ]
  },
  {
   "cell_type": "code",
   "execution_count": 40,
   "id": "21564484-467d-4ac2-b8a5-ed96a497e7e9",
   "metadata": {},
   "outputs": [],
   "source": [
    "torch.jit.save(model, path.joinpath(\"full_model.pt\"))"
   ]
  },
  {
   "cell_type": "code",
   "execution_count": 44,
   "id": "ac95aa88-49bc-4ecc-85e9-bc481f9d1485",
   "metadata": {},
   "outputs": [],
   "source": []
  },
  {
   "cell_type": "code",
   "execution_count": 35,
   "id": "22921d07-2a63-440c-ada8-d360593c0b80",
   "metadata": {},
   "outputs": [],
   "source": [
    "model2 = torch.jit.load(\"models/full_model\")"
   ]
  },
  {
   "cell_type": "code",
   "execution_count": null,
   "id": "9617afad-8cd1-4858-9396-7f08643f63c2",
   "metadata": {
    "tags": []
   },
   "outputs": [],
   "source": [
    "for batch in (pbar := tqdm(sampler)):\n",
    "    batch = collate_tensor(batch)\n",
    "    t, x, x_obs = prep(batch)\n",
    "    x_hat = model(t, x_obs)\n",
    "    loss = torch.mean(nd(x_hat, x))\n",
    "    loss.backward()\n",
    "    optimizer.step()\n",
    "\n",
    "    with torch.no_grad():\n",
    "        pbar.set_postfix(loss=f\"{loss:.2e}\")\n",
    "        kernel = model.system.kernel.detach().cpu()\n",
    "        writer.add_scalar(\n",
    "            \"optim/grad_norm\", grad_norm(list(model.parameters())), pbar.n\n",
    "        )\n",
    "        #         writer.add_scalar(\"optim/momentum\", grad_norm(list(model.parameters())), pbar.n)\n",
    "        #         writer.add_scalar(\"optim/momentum\", grad_norm(list(model.parameters())), pbar.n)\n",
    "        writer.add_scalar(\"train/loss:nd\", loss, pbar.n)\n",
    "        writer.add_scalar(\"train/loss:nrmse\", torch.mean(nrmse(x_hat, x)), pbar.n)\n",
    "\n",
    "        # plot kernel data\n",
    "        writer.add_histogram(\"kernel/histogram\", model.system.kernel, pbar.n)\n",
    "        writer.add_image(\n",
    "            \"kernel/values\", torch.tanh(model.system.kernel), pbar.n, dataformats=\"HW\"\n",
    "        )\n",
    "        writer.add_figure(\"kernel/spectrum\", plot_spectrum(kernel), pbar.n)"
   ]
  },
  {
   "cell_type": "code",
   "execution_count": null,
   "id": "eff82eb7-b67f-44d7-9e72-47598de6e5e9",
   "metadata": {},
   "outputs": [],
   "source": []
  }
 ],
 "metadata": {
  "kernelspec": {
   "display_name": "Python 3 (ipykernel)",
   "language": "python",
   "name": "python3"
  },
  "language_info": {
   "codemirror_mode": {
    "name": "ipython",
    "version": 3
   },
   "file_extension": ".py",
   "mimetype": "text/x-python",
   "name": "python",
   "nbconvert_exporter": "python",
   "pygments_lexer": "ipython3",
   "version": "3.9.7"
  }
 },
 "nbformat": 4,
 "nbformat_minor": 5
}
