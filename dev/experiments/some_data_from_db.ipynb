{
 "cells": [
  {
   "cell_type": "code",
   "execution_count": null,
   "id": "c438234c-01f9-4072-86b3-bc2448685c0d",
   "metadata": {},
   "outputs": [],
   "source": [
    "%config InteractiveShell.ast_node_interactivity='last_expr_or_assign'  # always print last expr.\n",
    "%config InlineBackend.figure_format = 'svg'\n",
    "%load_ext autoreload\n",
    "%autoreload 2"
   ]
  },
  {
   "cell_type": "code",
   "execution_count": null,
   "id": "ec81cecc-26f7-4990-b105-0581448ffefa",
   "metadata": {},
   "outputs": [],
   "source": [
    "import pickle\n",
    "import xarray\n",
    "import tsdm\n",
    "import numpy as np\n",
    "from zipfile import ZipFile\n",
    "\n",
    "from tqdm import tqdm, trange\n",
    "from pathlib import Path\n",
    "import pandas\n",
    "from pandas import DataFrame"
   ]
  },
  {
   "cell_type": "code",
   "execution_count": null,
   "id": "842db935-abae-450a-a42a-07805e5123b4",
   "metadata": {},
   "outputs": [],
   "source": [
    "file_path = Path.cwd().parent.joinpath(\"data/some_data_from_db.pk.zip\")\n",
    "zipfile = ZipFile(file_path, \"r\")\n",
    "content = zipfile.namelist()"
   ]
  },
  {
   "cell_type": "code",
   "execution_count": null,
   "id": "683f5dfa-c73c-4e0a-b87a-92967c0c6c97",
   "metadata": {
    "tags": []
   },
   "outputs": [],
   "source": [
    "data: dict[int, list[dict[[\"measurements\", \"meta\"], DataFrame]]] = pickle.load(\n",
    "    zipfile.open(content[0])\n",
    ")"
   ]
  },
  {
   "cell_type": "code",
   "execution_count": null,
   "id": "f1be0db9-f6eb-4f3e-85c7-caeaab3b4cd6",
   "metadata": {},
   "outputs": [],
   "source": [
    "{i: len(x) for i, x in data.items()}"
   ]
  },
  {
   "cell_type": "code",
   "execution_count": null,
   "id": "64a653a5-abcd-4e4e-bded-bf92f358fdee",
   "metadata": {},
   "outputs": [],
   "source": [
    "metadata = pandas.concat(x[\"meta\"] for x in data[8]).set_index(\"experiment_id\")"
   ]
  },
  {
   "cell_type": "code",
   "execution_count": null,
   "id": "43e835f4-82d3-42b0-8407-b65e5cd703f2",
   "metadata": {},
   "outputs": [],
   "source": [
    "pandas.isna(\n",
    "    data[1][0][\"measurements\"].set_index([\"measurement_time\", \"measurement_id\"])\n",
    ")"
   ]
  },
  {
   "cell_type": "code",
   "execution_count": null,
   "id": "37a35fd4-6986-43cc-ac1c-9f54d67109f4",
   "metadata": {},
   "outputs": [],
   "source": []
  },
  {
   "cell_type": "code",
   "execution_count": null,
   "id": "fc04eeb5-feca-4311-8037-138ec8f02dbe",
   "metadata": {},
   "outputs": [],
   "source": [
    "dsets = []\n",
    "\n",
    "for x in tqdm(data[1]):\n",
    "    measurements, metadata = x[\"measurements\"], x[\"meta\"]\n",
    "    #     measurements = measurements.set_index([\"measurement_time\"])\n",
    "    measurements[\"unit\"] = measurements[\"unit\"].astype(pandas.StringDtype())\n",
    "    measurements = measurements.to_xarray()\n",
    "    measurements = measurements.assign_coords(\n",
    "        experiment_id=metadata[\"experiment_id\"][0]\n",
    "    )\n",
    "    measurements = measurements.to_dataframe()\n",
    "    #     metadata = metadata.set_index(\"experiment_id\")\n",
    "    dsets.append(measurements)\n",
    "#     xarray.concat(dsets, dim=\"aga\")"
   ]
  },
  {
   "cell_type": "code",
   "execution_count": null,
   "id": "667a50d6-f392-4c90-b148-aa9285a4ca7b",
   "metadata": {},
   "outputs": [],
   "source": [
    "measurements"
   ]
  },
  {
   "cell_type": "code",
   "execution_count": null,
   "id": "02375aac-3f35-441c-bc5e-241692f05735",
   "metadata": {},
   "outputs": [],
   "source": []
  },
  {
   "cell_type": "code",
   "execution_count": null,
   "id": "61013e27-32e9-49b1-8552-679a0c2d2b37",
   "metadata": {},
   "outputs": [],
   "source": [
    "df = pandas.concat(dsets).set_index(\n",
    "    [\n",
    "        \"experiment_id\",\n",
    "        \"measurement_time\",\n",
    "    ]\n",
    ")\n",
    "df[\"unit\"] = df[\"unit\"].astype(\"category\")\n",
    "df.to_hdf(\n",
    "    Path.cwd().parent.joinpath(\"data/some_data_from_db.h5\"),\n",
    "    key=\"data\",\n",
    "    format=\"table\",\n",
    "    mode=\"w\",\n",
    ")"
   ]
  },
  {
   "cell_type": "code",
   "execution_count": null,
   "id": "b4a4af24-4f2e-4e67-bbfc-5be3b1856a19",
   "metadata": {},
   "outputs": [],
   "source": [
    "pandas.read_hdf(Path.cwd().parent.joinpath(\"data/some_data_from_db.h5\"))"
   ]
  },
  {
   "cell_type": "code",
   "execution_count": null,
   "id": "5b72ce59-6905-4762-8870-72fa83769ba2",
   "metadata": {},
   "outputs": [],
   "source": []
  }
 ],
 "metadata": {
  "kernelspec": {
   "display_name": "Python 3 (ipykernel)",
   "language": "python",
   "name": "python3"
  },
  "language_info": {
   "codemirror_mode": {
    "name": "ipython",
    "version": 3
   },
   "file_extension": ".py",
   "mimetype": "text/x-python",
   "name": "python",
   "nbconvert_exporter": "python",
   "pygments_lexer": "ipython3",
   "version": "3.9.6"
  }
 },
 "nbformat": 4,
 "nbformat_minor": 5
}
