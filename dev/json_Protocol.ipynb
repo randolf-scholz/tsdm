{
 "cells": [
  {
   "cell_type": "code",
   "execution_count": 1,
   "id": "20191951-beec-414a-b3c6-89dca8277ad2",
   "metadata": {},
   "outputs": [],
   "source": [
    "%config InteractiveShell.ast_node_interactivity='last_expr_or_assign'\n",
    "%config InlineBackend.figure_format = 'svg'\n",
    "%load_ext autoreload\n",
    "%autoreload 2\n",
    "%matplotlib inline"
   ]
  },
  {
   "cell_type": "code",
   "execution_count": 1,
   "id": "58b7f6d7",
   "metadata": {
    "execution": {
     "iopub.execute_input": "2023-02-28T16:09:49.965251Z",
     "iopub.status.busy": "2023-02-28T16:09:49.965092Z",
     "iopub.status.idle": "2023-02-28T16:09:49.969826Z",
     "shell.execute_reply": "2023-02-28T16:09:49.969494Z",
     "shell.execute_reply.started": "2023-02-28T16:09:49.965240Z"
    }
   },
   "outputs": [],
   "source": [
    "from typing import Protocol, runtime_checkable, TypeAlias\n",
    "\n",
    "\n",
    "JSON: TypeAlias = None | str | int | float | bool | list[\"JSON\"] | dict[str, \"JSON\"]"
   ]
  },
  {
   "cell_type": "code",
   "execution_count": null,
   "id": "c2652c1e-b054-4112-9f57-8e7628ebfb3c",
   "metadata": {},
   "outputs": [],
   "source": []
  }
 ],
 "metadata": {
  "kernelspec": {
   "display_name": "Python 3 (ipykernel)",
   "language": "python",
   "name": "python3"
  },
  "language_info": {
   "codemirror_mode": {
    "name": "ipython",
    "version": 3
   },
   "file_extension": ".py",
   "mimetype": "text/x-python",
   "name": "python",
   "nbconvert_exporter": "python",
   "pygments_lexer": "ipython3",
   "version": "3.10.9"
  }
 },
 "nbformat": 4,
 "nbformat_minor": 5
}
