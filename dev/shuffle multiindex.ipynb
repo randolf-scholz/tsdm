{
 "cells": [
  {
   "cell_type": "code",
   "execution_count": null,
   "id": "1b86070d-913e-411a-9dd3-eb061d19c25d",
   "metadata": {},
   "outputs": [],
   "source": [
    "%config InteractiveShell.ast_node_interactivity='last_expr_or_assign'  # always print last expr.\n",
    "%config InlineBackend.figure_format = 'svg'\n",
    "%load_ext autoreload\n",
    "%autoreload 2\n",
    "%matplotlib inline"
   ]
  },
  {
   "cell_type": "code",
   "execution_count": null,
   "id": "9db1b907-8966-4032-8c66-df15ead4640c",
   "metadata": {},
   "outputs": [],
   "source": [
    "from io import StringIO\n",
    "\n",
    "import pandas\n",
    "\n",
    "table = \"\"\"   \n",
    "i j  A         B         C\n",
    "0 0  2.400417  0.698638  1.231540\n",
    "  1 -0.023154 -2.110450  0.774964\n",
    "  2 -1.282392 -0.062794  1.471655\n",
    "1 0 -1.081853  0.261876 -1.771075\n",
    "  1 -2.013747 -0.377957 -0.393802\n",
    "  2  1.711172 -0.552468  1.018727\n",
    "2 0  0.155821 -0.222691  0.496586\n",
    "  1  0.563638 -0.756709  1.050212\n",
    "  2 -1.446159 -0.891549  0.256695\n",
    "\"\"\"\n",
    "\n",
    "df = pandas.read_fwf(StringIO(table), dtype={\"i\": \"UInt8\", \"j\": \"UInt8\"})\n",
    "df = df.ffill().set_index([\"i\", \"j\"])\n",
    "\n",
    "i, j = df.index.levels\n",
    "idx = pandas.IndexSlice\n",
    "perm = [2, 0, 1]\n",
    "df.loc[i[perm]]"
   ]
  },
  {
   "cell_type": "markdown",
   "id": "08156307-9bfc-4bee-ba33-947ed4cdcfc9",
   "metadata": {},
   "source": [
    "# Shuffling first index"
   ]
  },
  {
   "cell_type": "code",
   "execution_count": null,
   "id": "edd7b41e-c7e0-4ef9-971d-ab3d722eba7a",
   "metadata": {},
   "outputs": [],
   "source": [
    "df.loc[idx[i[perm], :], :]"
   ]
  },
  {
   "cell_type": "code",
   "execution_count": null,
   "id": "63746786-364a-46b5-b1bb-8e8e46f3d2e9",
   "metadata": {},
   "outputs": [],
   "source": [
    "df.loc[idx[i[perm], j], :]"
   ]
  },
  {
   "cell_type": "markdown",
   "id": "14b1cd6d-47fa-46fb-8dd1-912cec542aee",
   "metadata": {},
   "source": [
    "# Shuffling second index"
   ]
  },
  {
   "cell_type": "code",
   "execution_count": null,
   "id": "5ccf9f1e-8f51-4e28-9b50-d7a713e91cca",
   "metadata": {},
   "outputs": [],
   "source": [
    "df.loc[idx[i, j[perm]], :]"
   ]
  },
  {
   "cell_type": "code",
   "execution_count": null,
   "id": "71af41f2-f4ea-4f58-bb48-cce9d4f527ed",
   "metadata": {},
   "outputs": [],
   "source": [
    "df.loc[idx[:, j[perm]], :]"
   ]
  },
  {
   "cell_type": "markdown",
   "id": "cb415980-9863-498b-9765-827708e3cd65",
   "metadata": {},
   "source": [
    "# Shuffling both"
   ]
  },
  {
   "cell_type": "code",
   "execution_count": null,
   "id": "25d11d84-295e-48fe-a167-423c86a7e7e4",
   "metadata": {},
   "outputs": [],
   "source": [
    "df.loc[idx[i[perm], j[perm]], :]"
   ]
  }
 ],
 "metadata": {
  "kernelspec": {
   "display_name": "Python 3 (ipykernel)",
   "language": "python",
   "name": "python3"
  },
  "language_info": {
   "codemirror_mode": {
    "name": "ipython",
    "version": 3
   },
   "file_extension": ".py",
   "mimetype": "text/x-python",
   "name": "python",
   "nbconvert_exporter": "python",
   "pygments_lexer": "ipython3",
   "version": "3.9.7"
  }
 },
 "nbformat": 4,
 "nbformat_minor": 5
}
