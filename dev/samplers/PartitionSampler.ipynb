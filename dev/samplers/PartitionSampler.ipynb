{
 "cells": [
  {
   "cell_type": "code",
   "execution_count": 1,
   "id": "20191951-beec-414a-b3c6-89dca8277ad2",
   "metadata": {},
   "outputs": [],
   "source": [
    "%config InteractiveShell.ast_node_interactivity='last_expr_or_assign'  # always print last expr.\n",
    "%config InlineBackend.figure_format = 'svg'\n",
    "%load_ext autoreload\n",
    "%autoreload 2\n",
    "%matplotlib inline"
   ]
  },
  {
   "cell_type": "code",
   "execution_count": null,
   "id": "58b7f6d7",
   "metadata": {},
   "outputs": [],
   "source": []
  },
  {
   "cell_type": "markdown",
   "id": "ab242937-06e7-42d7-acf9-59644fd2604a",
   "metadata": {},
   "source": [
    "Goal: we want to create a PartitionSampler\n",
    "\n",
    "The sampler samples ordered n-tuples $a₁≤a₂≤…≤aₙ$\n",
    "\n",
    "Additionally we want to satisfy constraints:\n",
    "\n",
    "\n",
    "- outer bounds: given $l₁≤l₂≤…≤lₙ$ and $u₁≤u₂≤…≤uₙ$ such that $lᵢ≤uᵢ$ we require $lᵢ≤aᵢ≤uᵢ$\n",
    "- distance bounds: we require $lᵢ≤|aᵢ₊₁ - aᵢ|≤uᵢ$\n",
    "\n",
    "Uniform distribution over grids:\n",
    "\n",
    "- We assume each $aᵢ$ lies on a regular grid with step-size $∆ᵢ$ and anchor point $aᵢ^*$.\n",
    "- How do we get all valid samples?\n",
    "\n",
    "\n",
    "\n"
   ]
  },
  {
   "cell_type": "markdown",
   "id": "28c32479-0356-44ce-aab8-265da7d828d9",
   "metadata": {},
   "source": [
    "Example: Sampling observation and forecasting horizons.\n",
    "\n",
    "During training we want to test whether it helps to sample observation and forecasting horizons of varying length"
   ]
  },
  {
   "cell_type": "markdown",
   "id": "99a52335-1759-4df8-a489-9f685ee6d5f4",
   "metadata": {},
   "source": [
    "Goal: We want to avoid combinatorial explosion, otherwise the sampler get large  (at least in the default configuration!)\n",
    "\n",
    "Therefore, we make in the default settings some simplifications:\n",
    "\n",
    "- all points lie on the same grid.\n",
    "- one option is to keep the total size constant ⇝ nice for batching?!\n",
    "- deltas are a multiple of a base delta\n",
    "\n",
    "\n",
    "Solution: recursion! Assume we have a sampler that works for n points.\n",
    "Then we construct a sampler that works for n+1 points."
   ]
  },
  {
   "cell_type": "markdown",
   "id": "798930bb-a5c1-49f3-a9e0-45d5f29776b0",
   "metadata": {},
   "source": [
    "### Special Cases\n",
    "\n",
    "- observation + forecasting horizon, fixed size.\n",
    "    - Simple move the whole tuple forward by stride as long as its possible.\n"
   ]
  }
 ],
 "metadata": {
  "kernelspec": {
   "display_name": "Python 3 (ipykernel)",
   "language": "python",
   "name": "python3"
  },
  "language_info": {
   "codemirror_mode": {
    "name": "ipython",
    "version": 3
   },
   "file_extension": ".py",
   "mimetype": "text/x-python",
   "name": "python",
   "nbconvert_exporter": "python",
   "pygments_lexer": "ipython3",
   "version": "3.9.10"
  }
 },
 "nbformat": 4,
 "nbformat_minor": 5
}
