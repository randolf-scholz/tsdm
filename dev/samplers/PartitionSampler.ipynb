{
 "cells": [
  {
   "cell_type": "code",
   "execution_count": null,
   "id": "20191951-beec-414a-b3c6-89dca8277ad2",
   "metadata": {},
   "outputs": [],
   "source": [
    "%config InteractiveShell.ast_node_interactivity='last_expr_or_assign'  # always print last expr.\n",
    "%config InlineBackend.figure_format = 'svg'\n",
    "%load_ext autoreload\n",
    "%autoreload 2\n",
    "%matplotlib inline"
   ]
  },
  {
   "cell_type": "code",
   "execution_count": null,
   "id": "58b7f6d7",
   "metadata": {},
   "outputs": [],
   "source": []
  },
  {
   "cell_type": "markdown",
   "id": "ab242937-06e7-42d7-acf9-59644fd2604a",
   "metadata": {},
   "source": [
    "#### Goal: we want to create a PartitionSampler\n",
    "\n",
    "The sampler samples ordered n-tuples $a₁≤a₂≤…≤aₙ$\n",
    "\n",
    "Additionally we want to satisfy constraints:\n",
    "\n",
    "\n",
    "- outer bounds: given $l₁≤l₂≤…≤lₙ$ and $u₁≤u₂≤…≤uₙ$ such that $lᵢ≤uᵢ$ we require $lᵢ≤aᵢ≤uᵢ$\n",
    "- distance bounds: we require $lᵢ≤|aᵢ₊₁ - aᵢ|≤uᵢ$\n",
    "\n",
    "Uniform distribution over grids:\n",
    "\n",
    "- We assume each $aᵢ$ lies on a regular grid with step-size $∆ᵢ$ and anchor point $aᵢ^*$.\n",
    "- How do we get all valid samples?\n",
    "\n",
    "\n",
    "\n"
   ]
  },
  {
   "cell_type": "markdown",
   "id": "28c32479-0356-44ce-aab8-265da7d828d9",
   "metadata": {},
   "source": [
    "#### Example: Sampling observation and forecasting horizons.\n",
    "\n",
    "During training we want to test whether it helps to sample observation and forecasting horizons of varying length"
   ]
  },
  {
   "cell_type": "markdown",
   "id": "99a52335-1759-4df8-a489-9f685ee6d5f4",
   "metadata": {},
   "source": [
    "### Goal: We want to avoid combinatorial explosion, otherwise the sampler get large  (at least in the default configuration!)\n",
    "\n",
    "Therefore, we make in the default settings some simplifications:\n",
    "\n",
    "- all points lie on the same grid.\n",
    "- one option is to keep the total size constant ⇝ nice for batching?!\n",
    "- deltas are a multiple of a base delta\n",
    "\n",
    "\n",
    "Solution: recursion! Assume we have a sampler that works for n points.\n",
    "Then we construct a sampler that works for n+1 points."
   ]
  },
  {
   "cell_type": "markdown",
   "id": "798930bb-a5c1-49f3-a9e0-45d5f29776b0",
   "metadata": {},
   "source": [
    "### Special Case: observation + forecasting horizon (triplet $a<b<c$)\n",
    "\n",
    "These are the most important cases from which we derive the generalization.\n",
    "\n",
    "- Fixed observation and forecasting horizon: $c-b = \\text{const.}$ and $b-a = \\text{const.}$\n",
    "    - Either \"real time horizon\" or inter number of datapoints\n",
    "    - Simple move the whole tuple forward by stride as long as its possible.\n",
    "    - Sampling grid:  $\\{(t_k - ∆t_\\text{obs}, t_{k}, t_{k}+ ∆t_\\text{pred}) ∣ t_k = t_\\text{start} + k⋅∆t_\\text{grid}\\}$\n",
    "- Varying size observation horizon\n",
    "    - Observe all data since start of experiment \n",
    "    - Sampling grid:  $\\{(t_\\text{start}, t_{k}, t_{k}+∆t_\\text{pred})∣ t_k = t_\\text{start} +t_\\text{obs} + k⋅∆t_\\text{grid}\\}$\n",
    "- Varying size forecasting horizon\n",
    "    - Forecast for the remaining experiment time (i.e. a-priori fixed $t_\\text{final}$)\n",
    "    - Forecast for 1h, for 2h, for 4h ⟹ aggregate results / given trade-off?\n",
    "    - Sampling grid:  $\\{(t_\\text{k}-∆t_\\text{obs}, t_\\text{k}, t_\\text{final}) ∣ t_k = t_\\text{start} + k⋅∆t_\\text{grid} \\}$\n",
    "- Varying observation + forecasting horizon\n",
    "    - Sampling grid: $\\{(t_\\text{start}, t_\\text{k}, t_\\text{final}) ∣ t_k = t_\\text{start} + k⋅∆t_\\text{grid} \\}$\n",
    "\n",
    "\n"
   ]
  },
  {
   "cell_type": "markdown",
   "id": "7423dc89-ac7e-44ae-b47c-2489ac7cc54d",
   "metadata": {},
   "source": [
    "Note that in all of these cases can be seen as generalizations of\n",
    "\n",
    "$$(a_k, b_k, c_k) = (a_0 + k⋅∆a, b_0 + k⋅∆b, c_0 + k⋅∆c)$$\n",
    "\n",
    "1. Case $\\{(t_k - ∆t_\\text{obs}, t_{k}, t_{k}+ ∆t_\\text{pred}) ∣ t_k = t_\\text{start} + k⋅∆t_\\text{grid}\\}$\n",
    "    - $a_0=t_\\text{start}$\n",
    "    - $b_0=t_\\text{start}+∆t_\\text{obs}$\n",
    "    - $c_0=t_\\text{start}+∆t_\\text{obs}+ ∆t_\\text{pred}$\n",
    "    - $∆a=∆b=∆c=∆t_\\text{grid}$\n",
    "2. Case $\\{(t_\\text{start}, t_{k}, t_{k}+∆t_\\text{pred})∣ t_k = t_\\text{start} +t_\\text{obs}+ k⋅∆t_\\text{grid}\\}$\n",
    "    - $a_0=t_\\text{start}$\n",
    "    - $b_0=t_\\text{start}+∆t_\\text{obs}$\n",
    "    - $c_0=t_\\text{start}+∆t_\\text{obs}+ ∆t_\\text{pred}$\n",
    "    - $∆a=0$, $∆b=∆c=∆t_\\text{grid}$\n",
    "3. Case $\\{(t_\\text{k}-∆t_\\text{obs}, t_\\text{k}, t_\\text{final}) ∣ t_k = t_\\text{start} + k⋅∆t_\\text{grid} \\}$\n",
    "    - $a_0=t_\\text{start}$\n",
    "    - $b_0=t_\\text{start}+∆t_\\text{obs}$\n",
    "    - $c_0=t_\\text{final}$\n",
    "    - $∆a=∆b=∆t_\\text{grid}$, $∆c=0$\n",
    "4. Case $\\{(t_\\text{start}, t_\\text{k}, t_\\text{final}) ∣ t_k = t_\\text{start} + k⋅∆t_\\text{grid} \\}$\n",
    "    - $a_0=t_\\text{start}$\n",
    "    - $b_0=t_\\text{start}+∆t_\\text{obs}$\n",
    "    - $c_0=t_\\text{final}$\n",
    "    - $∆a=∆c=0$, $∆b=∆t_\\text{grid}$\n",
    "    \n",
    "Note that here either $∆t=0$, or $∆t$ is the same for $a,b,c$. otherwise, there is potential for one counter to overtake the other!.\n",
    "These 4 cases also do not cover the case when we can to consider multiple counters of different length.\n",
    "\n",
    "In this case, one satisfying solution is to \"concatenate\" two samplers."
   ]
  },
  {
   "cell_type": "code",
   "execution_count": null,
   "id": "8a8ecea9-15f2-4d41-adf0-4c204dcd7079",
   "metadata": {},
   "outputs": [],
   "source": []
  }
 ],
 "metadata": {
  "kernelspec": {
   "display_name": "Python 3 (ipykernel)",
   "language": "python",
   "name": "python3"
  },
  "language_info": {
   "codemirror_mode": {
    "name": "ipython",
    "version": 3
   },
   "file_extension": ".py",
   "mimetype": "text/x-python",
   "name": "python",
   "nbconvert_exporter": "python",
   "pygments_lexer": "ipython3",
   "version": "3.9.10"
  }
 },
 "nbformat": 4,
 "nbformat_minor": 5
}
