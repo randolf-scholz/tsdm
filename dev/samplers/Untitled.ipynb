{
 "cells": [
  {
   "cell_type": "code",
   "execution_count": 2,
   "id": "20191951-beec-414a-b3c6-89dca8277ad2",
   "metadata": {},
   "outputs": [],
   "source": [
    "%config InteractiveShell.ast_node_interactivity='last_expr_or_assign'  # always print last expr.\n",
    "%config InlineBackend.figure_format = 'svg'\n",
    "%load_ext autoreload\n",
    "%autoreload 2\n",
    "%matplotlib inline"
   ]
  },
  {
   "cell_type": "code",
   "execution_count": 3,
   "id": "58b7f6d7",
   "metadata": {},
   "outputs": [],
   "source": [
    "from pandas import Series\n",
    "import numpy as np"
   ]
  },
  {
   "cell_type": "code",
   "execution_count": 6,
   "id": "d695b42b",
   "metadata": {},
   "outputs": [],
   "source": [
    "s = Series(list(\"asdfghjkl\"))"
   ]
  },
  {
   "cell_type": "code",
   "execution_count": 7,
   "id": "c0d54a5c-6ff1-4dd6-93f2-564ab1d075a9",
   "metadata": {},
   "outputs": [],
   "source": [
    "np.random.permutation(s)"
   ]
  },
  {
   "cell_type": "code",
   "execution_count": 11,
   "id": "01c345f3-f7cf-4a4f-b1af-3ce804dfd4f9",
   "metadata": {},
   "outputs": [],
   "source": [
    "from itertools import chain\n",
    "# x = \n",
    "y = list(chain(*([\"a\",\"b\"], [\"c\"])))"
   ]
  },
  {
   "cell_type": "code",
   "execution_count": 14,
   "id": "e78a88a0-a7de-4a84-b902-f78d58a03020",
   "metadata": {},
   "outputs": [],
   "source": [
    "min(s)"
   ]
  },
  {
   "cell_type": "code",
   "execution_count": 15,
   "id": "d9d18358-e366-497f-b0e0-e3a651510332",
   "metadata": {},
   "outputs": [],
   "source": [
    "Series[str, int]"
   ]
  },
  {
   "cell_type": "code",
   "execution_count": null,
   "id": "a09dfa77-8fef-47bb-aadc-6fc389613337",
   "metadata": {},
   "outputs": [],
   "source": []
  }
 ],
 "metadata": {
  "kernelspec": {
   "display_name": "Python 3 (ipykernel)",
   "language": "python",
   "name": "python3"
  },
  "language_info": {
   "codemirror_mode": {
    "name": "ipython",
    "version": 3
   },
   "file_extension": ".py",
   "mimetype": "text/x-python",
   "name": "python",
   "nbconvert_exporter": "python",
   "pygments_lexer": "ipython3",
   "version": "3.9.7"
  }
 },
 "nbformat": 4,
 "nbformat_minor": 5
}
