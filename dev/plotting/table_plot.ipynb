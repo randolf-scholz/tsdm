{
 "cells": [
  {
   "cell_type": "markdown",
   "metadata": {},
   "source": [
    "# Adding Tables to plot\n",
    "\n",
    "\n",
    "Sources:\n",
    "- https://matplotlib.org/stable/api/_as_gen/matplotlib.pyplot.table.html\n",
    "- https://matplotlib.org/stable/api/_as_gen/matplotlib.axes.Axes.add_table.html"
   ]
  },
  {
   "cell_type": "code",
   "execution_count": null,
   "metadata": {},
   "outputs": [],
   "source": [
    "%config InteractiveShell.ast_node_interactivity='last_expr_or_assign'  # always print last expr.\n",
    "%config InlineBackend.figure_format = 'svg'\n",
    "%load_ext autoreload\n",
    "%autoreload 2\n",
    "%matplotlib inline"
   ]
  },
  {
   "cell_type": "code",
   "execution_count": null,
   "metadata": {},
   "outputs": [],
   "source": [
    "import matplotlib.pyplot as plt\n",
    "import numpy as np\n",
    "\n",
    "rng = np.random.default_rng()\n",
    "np.set_printoptions()"
   ]
  },
  {
   "cell_type": "code",
   "execution_count": null,
   "metadata": {},
   "outputs": [],
   "source": [
    "data = [\n",
    "    [66386, 174296, 75131, 577908, 32015],\n",
    "    [58230, 381139, 78045, 99308, 160454],\n",
    "    [89135, 80552, 152558, 497981, 603535],\n",
    "    [78415, 81858, 150656, 193263, 69638],\n",
    "    [139361, 331509, 343164, 781380, 52269],\n",
    "]\n",
    "\n",
    "columns = (\"Freeze\", \"Wind\", \"Flood\", \"Quake\", \"Hail\")\n",
    "rows = [\"%d year\" % x for x in (100, 50, 20, 10, 5)]\n",
    "\n",
    "values = np.arange(0, 2500, 500)\n",
    "value_increment = 1000\n",
    "\n",
    "# Get some pastel shades for the colors\n",
    "colors = plt.cm.BuPu(np.linspace(0, 0.5, len(rows)))\n",
    "n_rows = len(data)\n",
    "\n",
    "index = np.arange(len(columns)) + 0.3\n",
    "bar_width = 0.4\n",
    "\n",
    "# Initialize the vertical-offset for the stacked bar chart.\n",
    "y_offset = np.zeros(len(columns))\n",
    "\n",
    "fig, ax = plt.subplots(ncols=2, figsize=(16, 10))\n",
    "\n",
    "# Plot bars and create text labels for the table\n",
    "cell_text = []\n",
    "for row in range(n_rows):\n",
    "    ax[0].bar(index, data[row], bar_width, bottom=y_offset, color=colors[row])\n",
    "    y_offset = y_offset + data[row]\n",
    "    cell_text.append([\"%1.1f\" % (x / 1000.0) for x in y_offset])\n",
    "# Reverse colors and text labels to display the last value at the top.\n",
    "colors = colors[::-1]\n",
    "cell_text.reverse()\n",
    "# Add a table at the bottom of the axes\n",
    "the_table = ax[0].table(\n",
    "    cellText=cell_text,\n",
    "    rowLabels=rows,\n",
    "    rowColours=colors,\n",
    "    colLabels=columns,\n",
    "    loc=\"bottom\",\n",
    ")\n",
    "\n",
    "ax[1].scatter(*rng.normal(size=(2, 10)))\n",
    "ax[1].table([[\"a\", \"b\"], [\"c\", \"d\"]], colWidths=[0.1] * 2)"
   ]
  },
  {
   "cell_type": "code",
   "execution_count": null,
   "metadata": {},
   "outputs": [],
   "source": []
  },
  {
   "cell_type": "code",
   "execution_count": null,
   "metadata": {},
   "outputs": [],
   "source": [
    "# Adjust layout to make room for the table:\n",
    "plt.subplots_adjust(left=0.2, bottom=0.2)\n",
    "\n",
    "plt.ylabel(\"Loss in ${0}'s\".format(value_increment))\n",
    "plt.yticks(values * value_increment, [\"%d\" % val for val in values])\n",
    "plt.xticks([])\n",
    "plt.title(\"Loss by Disaster\")"
   ]
  },
  {
   "cell_type": "code",
   "execution_count": null,
   "metadata": {},
   "outputs": [],
   "source": []
  }
 ],
 "metadata": {
  "kernelspec": {
   "display_name": "Python 3 (ipykernel)",
   "language": "python",
   "name": "python3"
  },
  "language_info": {
   "codemirror_mode": {
    "name": "ipython",
    "version": 3
   },
   "file_extension": ".py",
   "mimetype": "text/x-python",
   "name": "python",
   "nbconvert_exporter": "python",
   "pygments_lexer": "ipython3",
   "version": "3.10.6"
  }
 },
 "nbformat": 4,
 "nbformat_minor": 4
}
