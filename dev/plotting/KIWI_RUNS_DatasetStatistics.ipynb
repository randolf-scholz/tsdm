{
 "cells": [
  {
   "cell_type": "code",
   "execution_count": null,
   "metadata": {},
   "outputs": [],
   "source": [
    "%config InteractiveShell.ast_node_interactivity='last_expr_or_assign'  # always print last expr.\n",
    "%config InlineBackend.figure_format = 'svg'\n",
    "%load_ext autoreload\n",
    "%autoreload 2\n",
    "%matplotlib inline"
   ]
  },
  {
   "cell_type": "code",
   "execution_count": null,
   "metadata": {},
   "outputs": [],
   "source": [
    "import matplotlib.pyplot as plt\n",
    "\n",
    "# recommended styles: 'bmh' 'fivethirtyeight' 'ggplot' 'seaborn-darkgrid'\n",
    "plt.style.use(\"bmh\")\n",
    "plt.rcParams[\"axes.axisbelow\"] = True"
   ]
  },
  {
   "cell_type": "code",
   "execution_count": null,
   "metadata": {},
   "outputs": [],
   "source": [
    "import numpy as np\n",
    "import pandas\n",
    "import pandas as pd\n",
    "from pandas import DataFrame, Series, Timedelta\n",
    "\n",
    "from tsdm.utils.strings import snake2camel\n",
    "\n",
    "rng = np.random.default_rng()\n",
    "np.set_printoptions()"
   ]
  },
  {
   "cell_type": "markdown",
   "metadata": {
    "tags": []
   },
   "source": [
    "## Helper Functions"
   ]
  },
  {
   "cell_type": "code",
   "execution_count": null,
   "metadata": {},
   "outputs": [],
   "source": [
    "def update_legend(ax, legend_dict, *, legend_kwargs=None, **kwargs):\n",
    "    \"\"\"Update the legend with a dict[line, \"name\"]. Useful for dynamically updating the legend.\"\"\"\n",
    "    _legend_kwargs = dict(\n",
    "        frameon=False,\n",
    "        loc=\"upper right\",\n",
    "        bbox_to_anchor=(0.75, 0.95, 0.05, 0.05),\n",
    "        mode=\"expand\",\n",
    "    )\n",
    "    legend_kwargs = _legend_kwargs.update(\n",
    "        {} if legend_kwargs is None else legend_kwargs\n",
    "    )\n",
    "    for key, val in kwargs.items():\n",
    "        legend_dict[key] = val\n",
    "    ax.legend(legend_dict.keys(), legend_dict.values(), **legends_kwargs)"
   ]
  },
  {
   "cell_type": "code",
   "execution_count": null,
   "metadata": {},
   "outputs": [],
   "source": [
    "def data_overview(df: DataFrame):\n",
    "    overview = DataFrame(index=df.columns)\n",
    "    mask = pandas.isna(df)\n",
    "    overview[\"# datapoints\"] = (~mask).sum()\n",
    "    overview[\"% missing\"] = (mask.mean() * 100).round(2)\n",
    "    overview[\"min\"] = df.min().round(2)\n",
    "    overview[\"mean\"] = df.mean().round(2)\n",
    "    overview[\"std\"] = df.std().round(2)\n",
    "    overview[\"max\"] = df.max().round(2)\n",
    "    overview[\"unit\"] = units[df.columns]\n",
    "    freq = {}\n",
    "    for col in df:\n",
    "        mask = pandas.notna(df[col])\n",
    "        time = pandas.to_timedelta(df[\"runtime\"][mask], unit=\"h\")\n",
    "        freq[col] = time.diff().mean()\n",
    "    overview[\"freq\"] = Series(freq).round(\"s\").dt.to_pytimedelta().astype(str)\n",
    "    return overview"
   ]
  },
  {
   "cell_type": "markdown",
   "metadata": {},
   "source": [
    "## Some prep work"
   ]
  },
  {
   "cell_type": "code",
   "execution_count": null,
   "metadata": {},
   "outputs": [],
   "source": [
    "from tsdm.datasets import KIWI_RUNS\n",
    "\n",
    "data = KIWI_RUNS.load(\"measurements_aggregated\")\n",
    "data = data.rename(columns={col: snake2camel(col) for col in data})\n",
    "\n",
    "for run_exp in data.reset_index(level=2).index.unique():\n",
    "    time = data.loc[run_exp].index\n",
    "    td = (time - time.min()) / Timedelta(\"1h\")\n",
    "    data.loc[run_exp, \"runtime\"] = td\n",
    "\n",
    "data"
   ]
  },
  {
   "cell_type": "code",
   "execution_count": null,
   "metadata": {},
   "outputs": [],
   "source": [
    "_units = data[\"Unit\"]\n",
    "data = data.drop(columns=\"Unit\")\n",
    "data = data.astype(\"float32\")\n",
    "\n",
    "units = Series(dtype=pandas.StringDtype())\n",
    "\n",
    "for col in data:\n",
    "    if col == \"runtime\":\n",
    "        continue\n",
    "    mask = pandas.notna(data[col])\n",
    "    unit = _units[mask].unique().to_list()\n",
    "    assert len(unit) <= 1, f\"{col}, {unit} {len(unit)}\"\n",
    "    units[col] = unit[0]\n",
    "\n",
    "units[\"DOT\"] = \"%\"\n",
    "units[\"OD600\"] = \"%\"\n",
    "units[\"PH\"] = \"-log[H⁺]\"\n",
    "units[\"Acetate\"] = \"g/L\"\n",
    "units[\"runtime\"] = \"h\"\n",
    "units = units.fillna(pd.NA).astype(\"string\").astype(\"category\")"
   ]
  },
  {
   "cell_type": "markdown",
   "metadata": {},
   "source": [
    "## Overview Raw Data"
   ]
  },
  {
   "cell_type": "code",
   "execution_count": null,
   "metadata": {},
   "outputs": [],
   "source": [
    "overview = data_overview(data.reset_index(level=[0, 1], drop=True))\n",
    "with pd.option_context(\"display.float_format\", \"{:,.2f}\".format):\n",
    "    display(overview)"
   ]
  },
  {
   "cell_type": "code",
   "execution_count": null,
   "metadata": {},
   "outputs": [],
   "source": [
    "fig, axes = plt.subplots(ncols=4, nrows=4, figsize=(12, 12))\n",
    "data[\"runtime\"] = data[\"runtime\"].diff()\n",
    "for col, ax in zip(data, axes.flatten()):\n",
    "    vals = data[col]\n",
    "    mask = pandas.notna(vals)\n",
    "    ax.hist(vals[mask], bins=100, density=True)\n",
    "    ax.set_title(col)\n",
    "    # ax.set_xscale(\"symlog\")\n",
    "    ax.set_yscale(\"log\")"
   ]
  },
  {
   "cell_type": "code",
   "execution_count": null,
   "metadata": {},
   "outputs": [],
   "source": [
    "for col in [\"OD600\", \"DOT\", \"Acetate\", \"Glucose\"]:\n",
    "    print(data[col][data[col] < 0])"
   ]
  },
  {
   "cell_type": "markdown",
   "metadata": {},
   "source": [
    "## Overview cleaned data"
   ]
  },
  {
   "cell_type": "code",
   "execution_count": null,
   "metadata": {},
   "outputs": [],
   "source": [
    "from tsdm.datasets import KIWI_RUNS\n",
    "\n",
    "data = KIWI_RUNS.dataset\n",
    "data = data.rename(columns={col: snake2camel(col) for col in data})"
   ]
  },
  {
   "cell_type": "code",
   "execution_count": null,
   "metadata": {},
   "outputs": [],
   "source": [
    "for run_exp in data.reset_index(level=2).index.unique():\n",
    "    time = data.loc[run_exp].index\n",
    "    td = (time - time.min()) / Timedelta(\"1h\")\n",
    "    data.loc[run_exp, \"runtime\"] = td\n",
    "\n",
    "overview = data_overview(data.reset_index(level=[0, 1], drop=True))\n",
    "with pd.option_context(\"display.float_format\", \"{:,.2f}\".format):\n",
    "    display(overview)"
   ]
  },
  {
   "cell_type": "code",
   "execution_count": null,
   "metadata": {},
   "outputs": [],
   "source": [
    "fig, axes = plt.subplots(ncols=4, nrows=4, figsize=(12, 12))\n",
    "\n",
    "for col, ax in zip(data, axes.flatten()):\n",
    "    vals = data[col]\n",
    "    mask = pandas.notna(vals)\n",
    "    ax.hist(vals[mask], bins=100)\n",
    "    ax.set_title(col)\n",
    "    ax.set_xscale(\"symlog\")\n",
    "    # ax.set_yscale(\"log\")"
   ]
  },
  {
   "cell_type": "markdown",
   "metadata": {},
   "source": [
    "## Overview Task data\n",
    "\n",
    "pretty much the same as cleaned but without run 355"
   ]
  },
  {
   "cell_type": "code",
   "execution_count": null,
   "metadata": {},
   "outputs": [],
   "source": [
    "from tsdm.tasks import KIWI_RUNS_TASK\n",
    "\n",
    "data = KIWI_RUNS_TASK().timeseries\n",
    "data = data.rename(columns={col: snake2camel(col) for col in data})\n",
    "for run_exp in data.reset_index(level=2).index.unique():\n",
    "    time = data.loc[run_exp].index\n",
    "    td = (time - time.min()) / Timedelta(\"1h\")\n",
    "    data.loc[run_exp, \"runtime\"] = td\n",
    "\n",
    "overview = data_overview(data.reset_index(level=[0, 1], drop=True))\n",
    "with pd.option_context(\"display.float_format\", \"{:,.2f}\".format):\n",
    "    display(overview)"
   ]
  },
  {
   "cell_type": "code",
   "execution_count": null,
   "metadata": {},
   "outputs": [],
   "source": [
    "fig, axes = plt.subplots(ncols=5, nrows=3, figsize=(16, 9))\n",
    "\n",
    "for col, ax in zip(data, axes.flatten()):\n",
    "    vals = data[col]\n",
    "    mask = pandas.notna(vals)\n",
    "    ax.hist(vals[mask], bins=50)\n",
    "    ax.set_title(col)\n",
    "    ax.set_xscale(\"symlog\")\n",
    "    ax.set_yscale(\"log\")\n",
    "    ax.spines[\"top\"].set_visible(False)\n",
    "    ax.spines[\"right\"].set_visible(False)\n",
    "    ax.grid(axis=\"x\")"
   ]
  },
  {
   "cell_type": "code",
   "execution_count": null,
   "metadata": {},
   "outputs": [],
   "source": []
  }
 ],
 "metadata": {
  "kernelspec": {
   "display_name": "Python 3 (ipykernel)",
   "language": "python",
   "name": "python3"
  },
  "language_info": {
   "codemirror_mode": {
    "name": "ipython",
    "version": 3
   },
   "file_extension": ".py",
   "mimetype": "text/x-python",
   "name": "python",
   "nbconvert_exporter": "python",
   "pygments_lexer": "ipython3",
   "version": "3.9.7"
  }
 },
 "nbformat": 4,
 "nbformat_minor": 4
}
