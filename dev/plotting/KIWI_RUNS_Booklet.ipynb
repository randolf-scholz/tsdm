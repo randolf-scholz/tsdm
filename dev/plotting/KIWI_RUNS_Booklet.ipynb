{
 "cells": [
  {
   "cell_type": "code",
   "execution_count": null,
   "metadata": {},
   "outputs": [],
   "source": [
    "%config InteractiveShell.ast_node_interactivity='last_expr_or_assign'  # always print last expr.\n",
    "%config InlineBackend.figure_format = 'svg'\n",
    "%load_ext autoreload\n",
    "%autoreload 2\n",
    "%matplotlib inline"
   ]
  },
  {
   "cell_type": "code",
   "execution_count": null,
   "metadata": {},
   "outputs": [],
   "source": [
    "import matplotlib.pyplot as plt\n",
    "\n",
    "plt.style.use(\"bmh\")\n",
    "plt.rcParams[\"axes.axisbelow\"] = True\n",
    "import numpy as np\n",
    "import pandas\n",
    "import pandas as pd\n",
    "from pandas import DataFrame, Timedelta\n",
    "\n",
    "from tsdm.utils.strings import snake2camel\n",
    "\n",
    "rng = np.random.default_rng()\n",
    "np.set_printoptions()"
   ]
  },
  {
   "cell_type": "markdown",
   "metadata": {
    "tags": []
   },
   "source": [
    "## Helper Functions"
   ]
  },
  {
   "cell_type": "code",
   "execution_count": null,
   "metadata": {},
   "outputs": [],
   "source": [
    "def data_overview(df: DataFrame):\n",
    "    overview = DataFrame(index=df.columns)\n",
    "    mask = pandas.isna(df)\n",
    "    overview[\"# datapoints\"] = (~mask).sum()\n",
    "    overview[\"% missing\"] = (mask.mean() * 100).round(2)\n",
    "    overview[\"min\"] = df.min().round(2)\n",
    "    overview[\"mean\"] = df.mean().round(2)\n",
    "    overview[\"std\"] = df.std().round(2)\n",
    "    overview[\"max\"] = df.max().round(2)\n",
    "    return overview"
   ]
  },
  {
   "cell_type": "markdown",
   "metadata": {},
   "source": [
    "## Overview Task data\n",
    "\n",
    "pretty much the same as cleaned but without run 355"
   ]
  },
  {
   "cell_type": "code",
   "execution_count": null,
   "metadata": {
    "tags": []
   },
   "outputs": [],
   "source": [
    "from tsdm.datasets import KIWI_RUNS\n",
    "\n",
    "ds = KIWI_RUNS()\n",
    "\n",
    "data = ds.timeseries.copy()\n",
    "units = ds.units\n",
    "\n",
    "for run_exp in data.reset_index(level=2).index.unique():\n",
    "    time = data.loc[run_exp].index\n",
    "    td = (time.max() - time.min()) / Timedelta(\"1h\")\n",
    "    data.loc[run_exp, \"runtime\"] = td\n",
    "\n",
    "overview = data_overview(data.reset_index(level=[0, 1], drop=True))\n",
    "overview[\"unit\"] = units.loc[ds.timeseries.columns]\n",
    "\n",
    "with pd.option_context(\"display.float_format\", \"{:,.2f}\".format):\n",
    "    display(overview)"
   ]
  },
  {
   "cell_type": "code",
   "execution_count": null,
   "metadata": {},
   "outputs": [],
   "source": [
    "fig, axes = plt.subplots(ncols=4, nrows=4, figsize=(12, 12))\n",
    "\n",
    "for col, ax in zip(data, axes.flatten()):\n",
    "    vals = data[col]\n",
    "    mask = pandas.notna(vals)\n",
    "    ax.hist(vals[mask], bins=59, density=True)\n",
    "    ax.set_title(snake2camel(col))\n",
    "    ax.set_xscale(\"symlog\")\n",
    "    # ax.set_yscale(\"log\")"
   ]
  },
  {
   "cell_type": "markdown",
   "metadata": {},
   "source": [
    "## Plotting specific single Experiment"
   ]
  },
  {
   "cell_type": "code",
   "execution_count": null,
   "metadata": {},
   "outputs": [],
   "source": [
    "def make_all_plots(key, ts):\n",
    "    ts = ts.astype(\"float32\")\n",
    "    T = ((ts.index - ts.index[0]) / Timedelta(\"1h\")).values\n",
    "    fig, axes = plt.subplots(\n",
    "        nrows=5, ncols=3, figsize=(10, 14), constrained_layout=True, sharex=True\n",
    "    )\n",
    "    for col, ax in zip(ts.columns, axes.flatten()):\n",
    "        vals = ts[col]\n",
    "        mask = pandas.notna(vals)\n",
    "        ax.plot(\n",
    "            T[mask],\n",
    "            vals[mask],\n",
    "            ls=\"-\",\n",
    "            lw=0.5,\n",
    "            marker=\".\",\n",
    "            ms=3,\n",
    "        )\n",
    "        ax.set_title(snake2camel(col))\n",
    "\n",
    "        ymin, ymax = overview[\"min\"][col], overview[\"max\"][col]\n",
    "        ypad = (ymax - ymin) / 20\n",
    "        ax.set_ylim(ymin - ypad, ymax + ypad)\n",
    "        xmin, xmax = 0, overview[\"max\"][\"runtime\"]\n",
    "        xpad = (xmax - xmin) / 20\n",
    "        ax.set_xlim(xmin - xpad, xmax + xpad)\n",
    "    fig.suptitle(f\"Run {key[0]} -- Experiment {key[1]}\")\n",
    "    return fig"
   ]
  },
  {
   "cell_type": "code",
   "execution_count": null,
   "metadata": {},
   "outputs": [],
   "source": [
    "ts = ds.timeseries.copy()\n",
    "ts = ts[sorted(ts.columns, key=snake2camel)]\n",
    "key = 439, 15325\n",
    "ts = ts.loc[key]\n",
    "\n",
    "fig = make_all_plots(key, ts);"
   ]
  },
  {
   "cell_type": "markdown",
   "metadata": {},
   "source": [
    "# KIWI_RUNS - The booklet"
   ]
  },
  {
   "cell_type": "code",
   "execution_count": null,
   "metadata": {},
   "outputs": [],
   "source": [
    "from matplotlib.backends.backend_pdf import PdfPages\n",
    "from tqdm.auto import tqdm"
   ]
  },
  {
   "cell_type": "code",
   "execution_count": null,
   "metadata": {},
   "outputs": [],
   "source": [
    "%matplotlib agg\n",
    "\n",
    "ts = ds.timeseries\n",
    "ts = ts[sorted(ts.columns, key=snake2camel)]\n",
    "\n",
    "with PdfPages(\"pics/kiwi-runs-booklet.pdf\") as pdf:\n",
    "    groups = ts.groupby([\"run_id\", \"experiment_id\"])\n",
    "\n",
    "    for key, slc in tqdm(groups):\n",
    "        slc = slc.reset_index([\"run_id\", \"experiment_id\"], drop=True)\n",
    "        fig = make_all_plots(key, slc)\n",
    "        pdf.savefig(fig)\n",
    "        plt.close(fig)"
   ]
  },
  {
   "cell_type": "code",
   "execution_count": null,
   "metadata": {},
   "outputs": [],
   "source": []
  }
 ],
 "metadata": {
  "kernelspec": {
   "display_name": "Python 3 (ipykernel)",
   "language": "python",
   "name": "python3"
  },
  "language_info": {
   "codemirror_mode": {
    "name": "ipython",
    "version": 3
   },
   "file_extension": ".py",
   "mimetype": "text/x-python",
   "name": "python",
   "nbconvert_exporter": "python",
   "pygments_lexer": "ipython3",
   "version": "3.9.10"
  }
 },
 "nbformat": 4,
 "nbformat_minor": 4
}
