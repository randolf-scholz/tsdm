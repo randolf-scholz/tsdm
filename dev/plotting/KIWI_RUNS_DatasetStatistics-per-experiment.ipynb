{
 "cells": [
  {
   "cell_type": "code",
   "execution_count": null,
   "metadata": {},
   "outputs": [],
   "source": [
    "%config InteractiveShell.ast_node_interactivity='last_expr_or_assign'  # always print last expr.\n",
    "%config InlineBackend.figure_format = 'svg'\n",
    "%load_ext autoreload\n",
    "%autoreload 2\n",
    "%matplotlib inline"
   ]
  },
  {
   "cell_type": "code",
   "execution_count": null,
   "metadata": {},
   "outputs": [],
   "source": [
    "import matplotlib.pyplot as plt\n",
    "\n",
    "# recommended styles: 'bmh' 'fivethirtyeight' 'ggplot' 'seaborn-darkgrid'\n",
    "plt.style.use(\"bmh\")\n",
    "plt.rcParams[\"axes.axisbelow\"] = True"
   ]
  },
  {
   "cell_type": "code",
   "execution_count": null,
   "metadata": {},
   "outputs": [],
   "source": [
    "import numpy as np\n",
    "import pandas\n",
    "import pandas as pd\n",
    "from pandas import DataFrame, Series, Timedelta\n",
    "\n",
    "from tsdm.utils.strings import snake2camel\n",
    "\n",
    "rng = np.random.default_rng()\n",
    "np.set_printoptions()"
   ]
  },
  {
   "cell_type": "markdown",
   "metadata": {
    "tags": []
   },
   "source": [
    "## Helper Functions"
   ]
  },
  {
   "cell_type": "code",
   "execution_count": null,
   "metadata": {},
   "outputs": [],
   "source": [
    "def data_overview(df: DataFrame):\n",
    "    overview = DataFrame(index=df.columns)\n",
    "    mask = pandas.isna(df)\n",
    "    overview[\"# datapoints\"] = (~mask).sum()\n",
    "    overview[\"% missing\"] = (mask.mean() * 100).round(2)\n",
    "    overview[\"min\"] = df.min().round(2)\n",
    "    overview[\"mean\"] = df.mean().round(2)\n",
    "    overview[\"std\"] = df.std().round(2)\n",
    "    overview[\"max\"] = df.max().round(2)\n",
    "    # overview[\"unit\"] = units[df.columns]\n",
    "    freq = {}\n",
    "    for col in df:\n",
    "        mask = pandas.notna(df[col])\n",
    "        time = pandas.to_timedelta(df[\"timedelta\"][mask], unit=\"s\")\n",
    "        freq[col] = time.mean()\n",
    "    overview[\"freq\"] = Series(freq).round(\"s\").dt.to_pytimedelta().astype(str)\n",
    "    overview.index.name = units.index.name\n",
    "    return overview"
   ]
  },
  {
   "cell_type": "code",
   "execution_count": null,
   "metadata": {},
   "outputs": [],
   "source": [
    "from tsdm.datasets import KIWI_RUNS\n",
    "\n",
    "data = KIWI_RUNS.timeseries.copy()\n",
    "units = KIWI_RUNS.units.copy()\n",
    "units[\"unit\"] = units[\"unit\"].cat.add_categories(\"s\")\n",
    "units.at[\"timedelta\"] = \"s\"\n",
    "units.at[\"freq\"] = \"s\"\n",
    "units"
   ]
  },
  {
   "cell_type": "code",
   "execution_count": null,
   "metadata": {},
   "outputs": [],
   "source": [
    "data[\"timedelta\"] = Series(float(\"nan\"), dtype=\"timedelta64[ns]\")\n",
    "for run_exp in data.reset_index(level=2).index.unique():\n",
    "    time = Series(data.loc[run_exp].index)\n",
    "    data.loc[run_exp, \"timedelta\"] = (time.diff() / Timedelta(\"1s\")).values\n",
    "data"
   ]
  },
  {
   "cell_type": "code",
   "execution_count": null,
   "metadata": {},
   "outputs": [],
   "source": [
    "data = data.astype(\"float32\")\n",
    "overviews = {}\n",
    "for idx, slc in data.groupby([\"run_id\", \"experiment_id\"]):\n",
    "    overviews[idx] = data_overview(slc)"
   ]
  },
  {
   "cell_type": "code",
   "execution_count": null,
   "metadata": {},
   "outputs": [],
   "source": [
    "omniview = pandas.concat(overviews, names=[\"run_id\", \"experiment_id\"])"
   ]
  },
  {
   "cell_type": "code",
   "execution_count": null,
   "metadata": {},
   "outputs": [],
   "source": [
    "omniview.groupby(\"variable\").mean().round(2)"
   ]
  },
  {
   "cell_type": "code",
   "execution_count": null,
   "metadata": {},
   "outputs": [],
   "source": [
    "overview = data_overview(data.reset_index(level=[0, 1], drop=True))\n",
    "overview[\"unit\"] = units.loc[KIWI_RUNS.timeseries.columns]\n",
    "\n",
    "with pd.option_context(\"display.float_format\", \"{:,.2f}\".format):\n",
    "    display(overview)"
   ]
  },
  {
   "cell_type": "markdown",
   "metadata": {},
   "source": [
    "## Some prep work"
   ]
  },
  {
   "cell_type": "code",
   "execution_count": null,
   "metadata": {},
   "outputs": [],
   "source": [
    "from tsdm.datasets import KIWI_RUNS\n",
    "\n",
    "data = KIWI_RUNS.timeseries.copy()\n",
    "units = KIWI_RUNS.units"
   ]
  },
  {
   "cell_type": "markdown",
   "metadata": {},
   "source": [
    "## Overview Raw Data"
   ]
  },
  {
   "cell_type": "code",
   "execution_count": null,
   "metadata": {},
   "outputs": [],
   "source": [
    "overview = data_overview(data.reset_index(level=[0, 1], drop=True))\n",
    "with pd.option_context(\"display.float_format\", \"{:,.2f}\".format):\n",
    "    display(overview)"
   ]
  },
  {
   "cell_type": "code",
   "execution_count": null,
   "metadata": {},
   "outputs": [],
   "source": [
    "fig, axes = plt.subplots(ncols=4, nrows=4, figsize=(12, 12))\n",
    "data[\"runtime\"] = data[\"runtime\"].diff()\n",
    "for col, ax in zip(data, axes.flatten()):\n",
    "    vals = data[col]\n",
    "    mask = pandas.notna(vals)\n",
    "    ax.hist(vals[mask], bins=100, density=True)\n",
    "    ax.set_title(col)\n",
    "    # ax.set_xscale(\"symlog\")\n",
    "    ax.set_yscale(\"log\")"
   ]
  },
  {
   "cell_type": "code",
   "execution_count": null,
   "metadata": {},
   "outputs": [],
   "source": [
    "for col in [\"OD600\", \"DOT\", \"Acetate\", \"Glucose\"]:\n",
    "    print(data[col][data[col] < 0])"
   ]
  },
  {
   "cell_type": "markdown",
   "metadata": {},
   "source": [
    "## Overview cleaned data"
   ]
  },
  {
   "cell_type": "code",
   "execution_count": null,
   "metadata": {},
   "outputs": [],
   "source": [
    "from tsdm.datasets import KIWI_RUNS\n",
    "\n",
    "data = KIWI_RUNS.dataset\n",
    "data = data.rename(columns={col: snake2camel(col) for col in data})"
   ]
  },
  {
   "cell_type": "code",
   "execution_count": null,
   "metadata": {},
   "outputs": [],
   "source": [
    "for run_exp in data.reset_index(level=2).index.unique():\n",
    "    time = data.loc[run_exp].index\n",
    "    td = (time - time.min()) / Timedelta(\"1h\")\n",
    "    data.loc[run_exp, \"runtime\"] = td\n",
    "\n",
    "overview = data_overview(data.reset_index(level=[0, 1], drop=True))\n",
    "with pd.option_context(\"display.float_format\", \"{:,.2f}\".format):\n",
    "    display(overview)"
   ]
  },
  {
   "cell_type": "code",
   "execution_count": null,
   "metadata": {},
   "outputs": [],
   "source": [
    "fig, axes = plt.subplots(ncols=4, nrows=4, figsize=(12, 12))\n",
    "\n",
    "for col, ax in zip(data, axes.flatten()):\n",
    "    vals = data[col]\n",
    "    mask = pandas.notna(vals)\n",
    "    ax.hist(vals[mask], bins=100)\n",
    "    ax.set_title(col)\n",
    "    ax.set_xscale(\"symlog\")\n",
    "    # ax.set_yscale(\"log\")"
   ]
  },
  {
   "cell_type": "markdown",
   "metadata": {},
   "source": [
    "## Overview Task data\n",
    "\n",
    "pretty much the same as cleaned but without run 355"
   ]
  },
  {
   "cell_type": "code",
   "execution_count": null,
   "metadata": {},
   "outputs": [],
   "source": [
    "from tsdm.tasks import KIWI_RUNS_TASK\n",
    "\n",
    "data = KIWI_RUNS_TASK().timeseries\n",
    "data = data.rename(columns={col: snake2camel(col) for col in data})\n",
    "for run_exp in data.reset_index(level=2).index.unique():\n",
    "    time = data.loc[run_exp].index\n",
    "    td = (time - time.min()) / Timedelta(\"1h\")\n",
    "    data.loc[run_exp, \"runtime\"] = td\n",
    "\n",
    "overview = data_overview(data.reset_index(level=[0, 1], drop=True))\n",
    "with pd.option_context(\"display.float_format\", \"{:,.2f}\".format):\n",
    "    display(overview)"
   ]
  },
  {
   "cell_type": "code",
   "execution_count": null,
   "metadata": {},
   "outputs": [],
   "source": [
    "fig, axes = plt.subplots(ncols=5, nrows=3, figsize=(16, 9))\n",
    "\n",
    "for col, ax in zip(data, axes.flatten()):\n",
    "    vals = data[col]\n",
    "    mask = pandas.notna(vals)\n",
    "    ax.hist(vals[mask], bins=50)\n",
    "    ax.set_title(col)\n",
    "    ax.set_xscale(\"symlog\")\n",
    "    ax.set_yscale(\"log\")\n",
    "    ax.spines[\"top\"].set_visible(False)\n",
    "    ax.spines[\"right\"].set_visible(False)\n",
    "    ax.grid(axis=\"x\")"
   ]
  },
  {
   "cell_type": "code",
   "execution_count": null,
   "metadata": {},
   "outputs": [],
   "source": []
  }
 ],
 "metadata": {
  "kernelspec": {
   "display_name": "Python 3 (ipykernel)",
   "language": "python",
   "name": "python3"
  },
  "language_info": {
   "codemirror_mode": {
    "name": "ipython",
    "version": 3
   },
   "file_extension": ".py",
   "mimetype": "text/x-python",
   "name": "python",
   "nbconvert_exporter": "python",
   "pygments_lexer": "ipython3",
   "version": "3.9.7"
  }
 },
 "nbformat": 4,
 "nbformat_minor": 4
}
