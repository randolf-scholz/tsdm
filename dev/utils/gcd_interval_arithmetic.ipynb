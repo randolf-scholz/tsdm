{
 "cells": [
  {
   "cell_type": "markdown",
   "id": "874a7bf5-8e57-4166-8c84-3c4cb27f6a57",
   "metadata": {},
   "source": [
    "# Approximate Greatest Common Divisors\n",
    "\n",
    "Goal: find approximate GCD:\n",
    "\n",
    "$$ \\gcd\\nolimits_\\varepsilon(x) = \\max\\{y\\mid\\forall i: \\operatorname{dist}(x_i, y\\mathbb Z)\\le \\varepsilon\\} $$\n",
    "\n",
    "\n",
    "Also: Given the set of common approximate divisors $\\mathcal S_\\varepsilon(x) = \\{y\\mid\\forall i: \\operatorname{dist}(x_i, y\\mathbb Z)\\le \\varepsilon\\}$\n",
    "\n",
    "1. Proof that $\\mathcal S(x)$ is a finite union of intervals: $\\mathcal S(x) = \\bigcup_{k=1}^K I_k = \\bigcup_{I\\in\\mathcal I} I$\n",
    "2. Find a way to effectively compute the largest component $I^* = \\operatorname*{argmax}\\limits_{I \\in \\mathcal I} \\sup (I)$\n"
   ]
  },
  {
   "cell_type": "code",
   "execution_count": null,
   "id": "b4def8c2-72cb-4dae-b20c-c52490d9980f",
   "metadata": {},
   "outputs": [],
   "source": [
    "import numpy as np"
   ]
  },
  {
   "cell_type": "markdown",
   "id": "619c6930-d56c-4020-b75a-9a9bd376add0",
   "metadata": {},
   "source": [
    "modulo definition\n",
    "\n",
    "\n",
    "$ a\\mathrel{\\%}n = {\\displaystyle r=a-|n|\\left\\lfloor {\\frac {a}{\\left|n\\right|}}\\right\\rfloor }$"
   ]
  },
  {
   "cell_type": "code",
   "execution_count": null,
   "id": "2f95902d-80df-4030-8e04-0541aef5e929",
   "metadata": {},
   "outputs": [],
   "source": [
    "[x % 3 for x in np.linspace(2, 7, num=12)]"
   ]
  },
  {
   "cell_type": "markdown",
   "id": "8cabc67b-8715-468e-9d93-6f222e7d5f30",
   "metadata": {},
   "source": [
    "Pseudocode for $[a, b] \\mathrel{\\%} c = \\{x\\mathrel{\\%}c\\mid x\\in[a,b]\\}$\n",
    "\n",
    "```python\n",
    "if b-a => c:\n",
    "    return [0, c]\n",
    "elif b%c < a%c:\n",
    "    return [0, b%c], [a%c, c]\n",
    "else a%c < b%c:\n",
    "    return [a%c, b%c]\n",
    "```"
   ]
  },
  {
   "cell_type": "markdown",
   "id": "a7312075-53a7-41b7-83e0-0f7c810c2d93",
   "metadata": {},
   "source": [
    "The, interval modulo interval is $[a, b] \\mathrel{\\%} [c, d] = \\{x\\mathrel{\\%} y\\mid x\\in [a,b], y\\in [c, d]\\}$\n",
    "\n",
    "Q: is there any $y\\in[c, d]$ such that $a \\mathrel{\\%} y = b \\mathrel{\\%}y$ ?\n"
   ]
  },
  {
   "cell_type": "code",
   "execution_count": null,
   "id": "6402b1d8-08d2-4648-894d-880894bba916",
   "metadata": {},
   "outputs": [],
   "source": [
    "from math import floor\n",
    "\n",
    "\n",
    "def mod(a, n):\n",
    "    return a - abs(n) * floor(a / abs(n))"
   ]
  },
  {
   "cell_type": "code",
   "execution_count": null,
   "id": "0b224bf7-7ca7-470b-a4cb-39663ec79faa",
   "metadata": {},
   "outputs": [],
   "source": [
    "import interval\n",
    "\n",
    "\n",
    "class interval(pyinterval.interval):\n",
    "    def __mod__(self, x):\n",
    "        if instance(pyinterval.interval):\n",
    "            pass\n",
    "        else:\n",
    "            return interval( self[0].inf % x, self.[-].sup % x  )\n",
    "            \n",
    "        \n",
    "        "
   ]
  }
 ],
 "metadata": {
  "kernelspec": {
   "display_name": "Python 3",
   "language": "python",
   "name": "python3"
  },
  "language_info": {
   "codemirror_mode": {
    "name": "ipython",
    "version": 3
   },
   "file_extension": ".py",
   "mimetype": "text/x-python",
   "name": "python",
   "nbconvert_exporter": "python",
   "pygments_lexer": "ipython3",
   "version": "3.9.5"
  }
 },
 "nbformat": 4,
 "nbformat_minor": 5
}
