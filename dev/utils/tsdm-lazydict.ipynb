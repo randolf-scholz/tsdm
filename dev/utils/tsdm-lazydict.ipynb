{
 "cells": [
  {
   "cell_type": "markdown",
   "metadata": {},
   "source": [
    "# Title"
   ]
  },
  {
   "cell_type": "code",
   "execution_count": null,
   "metadata": {},
   "source": [
    "%config InteractiveShell.ast_node_interactivity='last_expr_or_assign'  # always print last expr.\n",
    "%config InlineBackend.figure_format = 'svg'\n",
    "%load_ext autoreload\n",
    "%autoreload 2\n",
    "%matplotlib inline"
   ],
   "outputs": []
  },
  {
   "cell_type": "code",
   "execution_count": null,
   "metadata": {},
   "source": [
    "from collections.abc import *\n",
    "from time import sleep\n",
    "\n",
    "from tsdm.utils import LazyDict"
   ],
   "outputs": []
  },
  {
   "cell_type": "code",
   "execution_count": null,
   "metadata": {},
   "source": [
    "def f1():\n",
    "    return 1\n",
    "\n",
    "\n",
    "def f2(x):\n",
    "    return x\n",
    "\n",
    "\n",
    "def f3(x, y):\n",
    "    return 0\n",
    "\n",
    "\n",
    "def f4(x=1):\n",
    "    return 1"
   ],
   "outputs": []
  },
  {
   "cell_type": "code",
   "execution_count": null,
   "metadata": {},
   "source": [
    "d = {\n",
    "    0: f1,\n",
    "    42: f2,\n",
    "}\n",
    "ld = LazyDict(d, a=\"5\")"
   ],
   "outputs": []
  },
  {
   "cell_type": "code",
   "execution_count": null,
   "metadata": {},
   "source": [
    "ld[0]"
   ],
   "outputs": []
  },
  {
   "cell_type": "code",
   "execution_count": null,
   "metadata": {},
   "source": [
    "ld"
   ],
   "outputs": []
  },
  {
   "cell_type": "code",
   "execution_count": null,
   "metadata": {},
   "source": [],
   "outputs": []
  },
  {
   "cell_type": "code",
   "execution_count": null,
   "metadata": {},
   "source": [
    "dict[int].update"
   ],
   "outputs": []
  },
  {
   "cell_type": "code",
   "execution_count": null,
   "metadata": {},
   "source": [
    "ld.get(0)"
   ],
   "outputs": []
  },
  {
   "cell_type": "code",
   "execution_count": null,
   "metadata": {},
   "source": [
    "ld"
   ],
   "outputs": []
  },
  {
   "cell_type": "code",
   "execution_count": null,
   "metadata": {},
   "source": [
    "0 in ld"
   ],
   "outputs": []
  },
  {
   "cell_type": "code",
   "execution_count": null,
   "metadata": {},
   "source": [],
   "outputs": []
  },
  {
   "cell_type": "code",
   "execution_count": null,
   "metadata": {},
   "source": [
    "ld.__getitem__(0)"
   ],
   "outputs": []
  },
  {
   "cell_type": "code",
   "execution_count": null,
   "metadata": {},
   "source": [
    "len(ld)"
   ],
   "outputs": []
  },
  {
   "cell_type": "code",
   "execution_count": null,
   "metadata": {},
   "source": [
    "max([], default=0)"
   ],
   "outputs": []
  },
  {
   "cell_type": "code",
   "execution_count": null,
   "metadata": {},
   "source": [
    "?dict.popitem"
   ],
   "outputs": []
  },
  {
   "cell_type": "code",
   "execution_count": null,
   "metadata": {},
   "source": [
    "?MutableMapping.setdefault"
   ],
   "outputs": []
  },
  {
   "cell_type": "code",
   "execution_count": null,
   "metadata": {},
   "source": [
    "{}.setdefault(0, 0)"
   ],
   "outputs": []
  },
  {
   "cell_type": "code",
   "execution_count": null,
   "metadata": {},
   "source": [
    "set(dir(dict)) - set(dir(MutableMapping))"
   ],
   "outputs": []
  },
  {
   "cell_type": "code",
   "execution_count": null,
   "metadata": {},
   "source": [
    "?dict.get"
   ],
   "outputs": []
  },
  {
   "cell_type": "code",
   "execution_count": null,
   "metadata": {},
   "source": [
    "ld.get(7)"
   ],
   "outputs": []
  },
  {
   "cell_type": "code",
   "execution_count": null,
   "metadata": {},
   "source": [
    "ld[0]"
   ],
   "outputs": []
  },
  {
   "cell_type": "code",
   "execution_count": null,
   "metadata": {},
   "source": [
    "ld.update(b=5)"
   ],
   "outputs": []
  },
  {
   "cell_type": "code",
   "execution_count": null,
   "metadata": {},
   "source": [
    "ld"
   ],
   "outputs": []
  },
  {
   "cell_type": "code",
   "execution_count": null,
   "metadata": {},
   "source": [
    "ld.update({1: 2}, c=4)"
   ],
   "outputs": []
  },
  {
   "cell_type": "code",
   "execution_count": null,
   "metadata": {},
   "source": [
    "ld"
   ],
   "outputs": []
  },
  {
   "cell_type": "code",
   "execution_count": null,
   "metadata": {},
   "source": [
    "ld[0]"
   ],
   "outputs": []
  },
  {
   "cell_type": "code",
   "execution_count": null,
   "metadata": {},
   "source": [
    "ld"
   ],
   "outputs": []
  },
  {
   "cell_type": "code",
   "execution_count": null,
   "metadata": {},
   "source": [
    "from functools import partial"
   ],
   "outputs": []
  },
  {
   "cell_type": "code",
   "execution_count": null,
   "metadata": {},
   "source": [
    "def f(x, k=1):\n",
    "    return x + k"
   ],
   "outputs": []
  },
  {
   "cell_type": "code",
   "execution_count": null,
   "metadata": {},
   "source": [],
   "outputs": []
  },
  {
   "cell_type": "code",
   "execution_count": null,
   "metadata": {},
   "source": [
    "ld"
   ],
   "outputs": []
  },
  {
   "cell_type": "code",
   "execution_count": null,
   "metadata": {},
   "source": [
    "def make_value(*args, **kwargs):\n",
    "    sleep(1)\n",
    "    return 0\n",
    "\n",
    "\n",
    "d = {0: (make_value, (), {})}"
   ],
   "outputs": []
  },
  {
   "cell_type": "code",
   "execution_count": null,
   "metadata": {},
   "source": [
    "def fun(*args, **kwargs):\n",
    "    print(args, type(args))\n",
    "\n",
    "\n",
    "fun({1: 1})"
   ],
   "outputs": []
  },
  {
   "cell_type": "code",
   "execution_count": null,
   "metadata": {},
   "source": [
    "ld = LazyDict(d)\n",
    "ld"
   ],
   "outputs": []
  },
  {
   "cell_type": "code",
   "execution_count": null,
   "metadata": {},
   "source": [
    "ld[0]"
   ],
   "outputs": []
  },
  {
   "cell_type": "code",
   "execution_count": null,
   "metadata": {},
   "source": [
    "from functools import partial\n",
    "\n",
    "\n",
    "def f(*, key=0):\n",
    "    return 2 + key\n",
    "\n",
    "\n",
    "tuples = [\n",
    "    (\"f1\", (lambda x: x, (2,), {})),\n",
    "    (\"f2\", (lambda: \"jo\", (), {})),\n",
    "    (\"f3\", lambda: \"Hello\"),\n",
    "    (\"f4\", partial(f, key=-99)),\n",
    "]"
   ],
   "outputs": []
  },
  {
   "cell_type": "code",
   "execution_count": null,
   "metadata": {},
   "source": [
    "ld = LazyDict(tuples)"
   ],
   "outputs": []
  },
  {
   "cell_type": "code",
   "execution_count": null,
   "metadata": {},
   "source": [
    "ld[\"f4\"]"
   ],
   "outputs": []
  },
  {
   "cell_type": "code",
   "execution_count": null,
   "metadata": {},
   "source": [
    "import inspect"
   ],
   "outputs": []
  },
  {
   "cell_type": "code",
   "execution_count": null,
   "metadata": {},
   "source": [
    "class Foo:\n",
    "    def foo(self, a, *, b, c, d):\n",
    "        pass"
   ],
   "outputs": []
  },
  {
   "cell_type": "code",
   "execution_count": null,
   "metadata": {},
   "source": [
    "Foo.foo()"
   ],
   "outputs": []
  },
  {
   "cell_type": "code",
   "execution_count": null,
   "metadata": {},
   "source": [
    "match {1: 1}:\n",
    "    case dict():\n",
    "        print(f\"{int=}\")"
   ],
   "outputs": []
  },
  {
   "cell_type": "code",
   "execution_count": null,
   "metadata": {},
   "source": [
    "match var:\n",
    "    case int() | float() as var:\n",
    "        print(\"Number\")\n",
    "    case dict({}):\n",
    "        print(\"Dictionary\")\n",
    "    case list() | tuple() | set() as var:\n",
    "        print(\"List, tuple, or set\")\n",
    "    case str():\n",
    "        print(\"String\")\n",
    "    case _:\n",
    "        print(\"Something else\")"
   ],
   "outputs": []
  },
  {
   "cell_type": "code",
   "execution_count": null,
   "metadata": {},
   "source": [
    "import inspect"
   ],
   "outputs": []
  },
  {
   "cell_type": "code",
   "execution_count": null,
   "metadata": {},
   "source": [
    "inspect.Parameter.empty"
   ],
   "outputs": []
  },
  {
   "cell_type": "code",
   "execution_count": null,
   "metadata": {},
   "source": [
    "dir(inspect._ParameterKind)"
   ],
   "outputs": []
  },
  {
   "cell_type": "code",
   "execution_count": null,
   "metadata": {},
   "source": [
    "inspect.Parameter.POSITIONAL_ONLY in inspect._ParameterKind"
   ],
   "outputs": []
  },
  {
   "cell_type": "code",
   "execution_count": null,
   "metadata": {},
   "source": [
    "from collections.abc import Callable\n",
    "\n",
    "x = (lambda x: x,)\n",
    "\n",
    "match x:\n",
    "    case Callable():\n",
    "        print(\"callable\")\n",
    "    case [Callable()]:\n",
    "        print(\"wrapped callable\")\n",
    "    case Callable(), tuple():\n",
    "        print(\"callable+args\")\n",
    "    case Callable(), dict():\n",
    "        print(\"callable+kwargs\")\n",
    "    case Callable(), tuple(), dict():\n",
    "        print(\"callable+args+kwargs\")\n",
    "    case _:\n",
    "        raise"
   ],
   "outputs": []
  },
  {
   "cell_type": "code",
   "execution_count": null,
   "metadata": {},
   "source": [
    "inspect.signature(Foo().foo).parameters"
   ],
   "outputs": []
  },
  {
   "cell_type": "code",
   "execution_count": null,
   "metadata": {},
   "source": [
    "Foo.foo.__code__.co_argcount"
   ],
   "outputs": []
  },
  {
   "cell_type": "code",
   "execution_count": null,
   "metadata": {},
   "source": [
    "import inspect\n",
    "from typing import Any, Callable\n",
    "\n",
    "\n",
    "def get_mandatory_argcount(f: Callable[..., Any]) -> int:\n",
    "    \"\"\"Get the number of mandatory arguments of a function.\"\"\"\n",
    "    sig = inspect.signature(f)\n",
    "\n",
    "    def parameter_is_mandatory(p: inspect.Parameter) -> bool:\n",
    "        return p.default is inspect.Parameter.empty and p.kind not in (\n",
    "            inspect.Parameter.VAR_POSITIONAL,\n",
    "            inspect.Parameter.VAR_KEYWORD,\n",
    "        )\n",
    "\n",
    "    return sum(parameter_is_mandatory(p) for p in sig.parameters.values())\n",
    "\n",
    "\n",
    "# mandatory keyword-only\n",
    "def f1(b=2, *args, c, d=1, **kwds):\n",
    "    pass\n",
    "\n",
    "\n",
    "print(get_mandatory_argcount(f1))\n",
    "\n",
    "\n",
    "# positional only with default\n",
    "def f2(a=1, /, b=3, *args, **kwargs):\n",
    "    pass\n",
    "\n",
    "\n",
    "print(get_mandatory_argcount(f2))"
   ],
   "outputs": []
  },
  {
   "cell_type": "code",
   "execution_count": null,
   "metadata": {},
   "source": [
    "from collections import abc"
   ],
   "outputs": []
  },
  {
   "cell_type": "code",
   "execution_count": null,
   "metadata": {},
   "source": [
    "from typing import Any, NamedTuple\n",
    "\n",
    "\n",
    "class Point(NamedTuple):\n",
    "    x: float\n",
    "    y: float\n",
    "\n",
    "\n",
    "def as_point(p: Any) -> Point:\n",
    "    match p:\n",
    "        case Point():\n",
    "            return p\n",
    "        case x, y:\n",
    "            return Point(x, y)\n",
    "    raise ValueError(p)\n",
    "\n",
    "\n",
    "as_point((1, 1))"
   ],
   "outputs": []
  },
  {
   "cell_type": "code",
   "execution_count": null,
   "metadata": {},
   "source": [
    "for key in dir(abc):\n",
    "    print(f\"{key:20}{type(getattr(abc, key))}\")"
   ],
   "outputs": []
  },
  {
   "cell_type": "code",
   "execution_count": null,
   "metadata": {},
   "source": [
    "type(Collection)"
   ],
   "outputs": []
  },
  {
   "cell_type": "code",
   "execution_count": null,
   "metadata": {},
   "source": [
    "set(inspect._ParameterKind)"
   ],
   "outputs": []
  },
  {
   "cell_type": "code",
   "execution_count": null,
   "metadata": {},
   "source": [
    "inspect.Parameter.POSITIONAL_ONLY in inspect._ParameterKind"
   ],
   "outputs": []
  },
  {
   "cell_type": "code",
   "execution_count": null,
   "metadata": {},
   "source": [
    "str(inspect.Parameter.POSITIONAL_ONLY)"
   ],
   "outputs": []
  },
  {
   "cell_type": "code",
   "execution_count": null,
   "metadata": {},
   "source": [
    "# mandatory keyword-only\n",
    "\n",
    "\n",
    "def f1(b=2, *args, c, d=1, **kwds):\n",
    "    pass\n",
    "\n",
    "\n",
    "# positional only with default\n",
    "def f2(a=1, /, b=3, *args, **kwargs):\n",
    "    pass\n",
    "\n",
    "\n",
    "print(get_mandatory_argcount(f1))\n",
    "print(get_mandatory_argcount(f2))"
   ],
   "outputs": []
  },
  {
   "cell_type": "code",
   "execution_count": null,
   "metadata": {},
   "source": [],
   "outputs": []
  },
  {
   "cell_type": "code",
   "execution_count": null,
   "metadata": {},
   "source": [
    "Para"
   ],
   "outputs": []
  },
  {
   "cell_type": "code",
   "execution_count": null,
   "metadata": {},
   "source": [
    "inspect.signature(f1).parameters[\"b\"].name"
   ],
   "outputs": []
  },
  {
   "cell_type": "code",
   "execution_count": null,
   "metadata": {},
   "source": [
    "True is True"
   ],
   "outputs": []
  },
  {
   "cell_type": "code",
   "execution_count": null,
   "metadata": {},
   "source": [],
   "outputs": []
  }
 ],
 "metadata": {
  "kernelspec": {
   "display_name": "Python 3 (ipykernel)",
   "language": "python",
   "name": "python3"
  },
  "language_info": {
   "codemirror_mode": {
    "name": "ipython",
    "version": 3
   },
   "file_extension": ".py",
   "mimetype": "text/x-python",
   "name": "python",
   "nbconvert_exporter": "python",
   "pygments_lexer": "ipython3",
   "version": "3.10.6"
  }
 },
 "nbformat": 4,
 "nbformat_minor": 4
}
