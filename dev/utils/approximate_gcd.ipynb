{
 "cells": [
  {
   "cell_type": "code",
   "execution_count": null,
   "metadata": {},
   "outputs": [],
   "source": [
    "import logging\n",
    "\n",
    "import numba\n",
    "import numpy as np\n",
    "from numpy.typing import ArrayLike\n",
    "\n",
    "logger = logging.getLogger(__name__)"
   ]
  },
  {
   "cell_type": "markdown",
   "metadata": {},
   "source": [
    "Approximate GCD:\n",
    "\n",
    "\n",
    "$$\\begin{aligned}\n",
    "𝗀𝖼𝖽_ϵ(x) \n",
    "= 𝗆𝖺𝗑\\{y∣ ∀i : 𝖽𝗂𝗌𝗍(x_i, yℤ)≤ϵ\\} \n",
    "= 𝗆𝖺𝗑\\{y∣ ∀i : \\min_{k\\in\\mathbb Z}: |x_i- k y|≤ϵ\\} \n",
    "\\end{aligned}$$\n",
    "\n",
    "\n",
    "\n",
    "$$\\begin{aligned}\n",
    "𝗀𝖼𝖽_{ϵ,\\delta}(x) = 𝗆𝖺𝗑\\{y∣ ∀i:\\min_k |x_i - k y| ≤ \\delta |x_i| + ϵ\\}\n",
    "\\end{aligned}$$\n",
    "\n"
   ]
  },
  {
   "cell_type": "code",
   "execution_count": null,
   "metadata": {},
   "outputs": [],
   "source": [
    "def float_gcd(a, b, rtol=0, atol=1e-02):\n",
    "    t = min(abs(a), abs(b))\n",
    "    while abs(b) > rtol * t + atol:\n",
    "        a, b = b, a % b\n",
    "    return a"
   ]
  },
  {
   "cell_type": "code",
   "execution_count": null,
   "metadata": {},
   "outputs": [],
   "source": []
  },
  {
   "cell_type": "code",
   "execution_count": null,
   "metadata": {},
   "outputs": [],
   "source": [
    "a, b, c = 1.2, 1.4, 1.59999"
   ]
  },
  {
   "cell_type": "code",
   "execution_count": null,
   "metadata": {},
   "outputs": [],
   "source": [
    "eps = 2**-7\n",
    "float_gcd(1, 2 + eps * 2, atol=eps / 16)"
   ]
  },
  {
   "cell_type": "code",
   "execution_count": null,
   "metadata": {},
   "outputs": [],
   "source": [
    "2 + eps * 2"
   ]
  },
  {
   "cell_type": "code",
   "execution_count": null,
   "metadata": {},
   "outputs": [],
   "source": [
    "float_gcd(a, float_gcd(b, c)), float_gcd(b, float_gcd(a, c)), float_gcd(\n",
    "    c, float_gcd(a, b)\n",
    "),"
   ]
  },
  {
   "cell_type": "code",
   "execution_count": null,
   "metadata": {},
   "outputs": [],
   "source": [
    "float_gcd(a, float_gcd(c, b)), float_gcd(b, float_gcd(c, a)), float_gcd(\n",
    "    c, float_gcd(b, a)\n",
    "),"
   ]
  },
  {
   "cell_type": "code",
   "execution_count": null,
   "metadata": {},
   "outputs": [],
   "source": [
    "float_gcd(a, float_gcd(b, c)), float_gcd(b, float_gcd(a, c)), float_gcd(\n",
    "    c, float_gcd(a, b)\n",
    "),"
   ]
  },
  {
   "cell_type": "code",
   "execution_count": null,
   "metadata": {},
   "outputs": [],
   "source": [
    "find set(k| xi - ky ) < eps"
   ]
  },
  {
   "cell_type": "code",
   "execution_count": null,
   "metadata": {},
   "outputs": [],
   "source": [
    "xi > ky => xi - ky < eps =>  k > (xi - eps)/y\n",
    "xi < ky => -xi + ky < eps => k < (xi + eps)/y\n",
    "\n",
    "\n",
    "min_k |xi - ky| => k = floor(xi/y) or k = ceil(xi/y), prolly k = round(xi/y)\n",
    "\n",
    "| xi - round(xi/y) y| < eps"
   ]
  },
  {
   "cell_type": "code",
   "execution_count": null,
   "metadata": {},
   "outputs": [],
   "source": [
    "increase y until round flips...."
   ]
  },
  {
   "cell_type": "code",
   "execution_count": null,
   "metadata": {},
   "outputs": [],
   "source": [
    "desiderata: scale invariance: eps-gcd(a*x) = a*eps-gcd(x) "
   ]
  },
  {
   "cell_type": "code",
   "execution_count": null,
   "metadata": {},
   "outputs": [],
   "source": [
    "1.3, 1.7 \n",
    "\n",
    "\n",
    "\n",
    "eps > 0.2 => 1.5\n",
    "eps < 0.2"
   ]
  },
  {
   "cell_type": "code",
   "execution_count": null,
   "metadata": {},
   "outputs": [],
   "source": [
    "atol rtol\n",
    "\n",
    "|xhat - x| <= rtol*|x| + atol"
   ]
  },
  {
   "cell_type": "code",
   "execution_count": null,
   "metadata": {},
   "outputs": [],
   "source": [
    "def approx_float_gcd(x: ArrayLike, rtol: float = 1e-05, atol: float = 1e-08) -> float:\n",
    "    r\"\"\"Compute approximate GCD of multiple floats.\n",
    "\n",
    "    .. math::\n",
    "        𝗀𝖼𝖽_ϵ(x) = 𝗆𝖺𝗑\\{y∣ ∀i : 𝖽𝗂𝗌𝗍(x_i, yℤ)≤ϵ\\}\n",
    "\n",
    "    .. warning::\n",
    "       This implementation does not work 100% correctly yet!\n",
    "\n",
    "    Parameters\n",
    "    ----------\n",
    "    x: ArrayLike\n",
    "    rtol: float\n",
    "    atol: float\n",
    "\n",
    "    Returns\n",
    "    -------\n",
    "    float\n",
    "\n",
    "    References\n",
    "    ----------\n",
    "    - <https://stackoverflow.com/q/45323619/9318372>\n",
    "    \"\"\"\n",
    "    logger.warning(\n",
    "        \"The implementation of approx_float_gcd does not work 100% correctly yet!\"\n",
    "    )\n",
    "    x = np.asanyarray(x)\n",
    "    x = np.abs(x).flatten()\n",
    "\n",
    "    @numba.njit\n",
    "    def _float_gcd(x: np.ndarray) -> float:\n",
    "        n = len(x)\n",
    "        t = np.min(x)\n",
    "        if n == 1:\n",
    "            return float(x[0])\n",
    "        if n == 2:\n",
    "            while np.abs(x[1]) > rtol * t + atol:\n",
    "                x[0], x[1] = x[1], x[0] % x[1]\n",
    "            return float(x[0])\n",
    "        # n >= 3:\n",
    "        out = np.empty(2)\n",
    "        out[0] = _float_gcd(x[: n // 2])\n",
    "        out[1] = _float_gcd(x[n // 2 :])\n",
    "        return _float_gcd(out)\n",
    "\n",
    "    return _float_gcd(x)"
   ]
  },
  {
   "cell_type": "code",
   "execution_count": null,
   "metadata": {},
   "outputs": [],
   "source": [
    "approx_float_gcd([0, 1, 1.99], rtol=0)"
   ]
  },
  {
   "cell_type": "code",
   "execution_count": null,
   "metadata": {},
   "outputs": [],
   "source": []
  }
 ],
 "metadata": {
  "kernelspec": {
   "display_name": "Python 3 (ipykernel)",
   "language": "python",
   "name": "python3"
  },
  "language_info": {
   "codemirror_mode": {
    "name": "ipython",
    "version": 3
   },
   "file_extension": ".py",
   "mimetype": "text/x-python",
   "name": "python",
   "nbconvert_exporter": "python",
   "pygments_lexer": "ipython3",
   "version": "3.9.6"
  }
 },
 "nbformat": 4,
 "nbformat_minor": 4
}
