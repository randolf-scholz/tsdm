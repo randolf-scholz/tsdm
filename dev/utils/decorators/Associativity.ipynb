{
 "cells": [
  {
   "cell_type": "code",
   "execution_count": null,
   "id": "3c1b561c-ee2a-4af5-9c4c-87b43040bccf",
   "metadata": {},
   "outputs": [],
   "source": [
    "%config InteractiveShell.ast_node_interactivity='last_expr_or_assign'  # always print last expr.\n",
    "%config InlineBackend.figure_format = 'svg'\n",
    "%load_ext autoreload\n",
    "%autoreload 2\n",
    "%matplotlib inline"
   ]
  },
  {
   "cell_type": "code",
   "execution_count": null,
   "id": "42d20976-1fe4-4dcc-aaee-4eea3a1c890b",
   "metadata": {},
   "outputs": [],
   "source": [
    "import logging\n",
    "\n",
    "from tsdm.utils.decorators import timefun, trace\n",
    "\n",
    "logging.basicConfig(level=logging.INFO)"
   ]
  },
  {
   "cell_type": "code",
   "execution_count": null,
   "id": "4cade4cc-c045-4b18-aded-b0a9048cae6e",
   "metadata": {},
   "outputs": [],
   "source": [
    "def compose(f, g):\n",
    "    @f\n",
    "    def wrapper(*args, **kwargs):\n",
    "        return g(*args, **kwargs)\n",
    "\n",
    "    return wrapper"
   ]
  },
  {
   "cell_type": "code",
   "execution_count": null,
   "id": "b3c0ba8d-891e-4700-b18e-fcb3cfbcd859",
   "metadata": {},
   "outputs": [],
   "source": [
    "def myfun(x):\n",
    "    return x"
   ]
  },
  {
   "cell_type": "code",
   "execution_count": null,
   "id": "2833189c-9ed1-45ea-981e-43318d1750df",
   "metadata": {},
   "outputs": [],
   "source": [
    "g = compose(compose(trace, timefun), myfun)\n",
    "h = compose(trace, compose(timefun, myfun))"
   ]
  },
  {
   "cell_type": "code",
   "execution_count": null,
   "id": "5bcfafa4-c5ef-4f9c-a390-4cad49cfd6da",
   "metadata": {},
   "outputs": [],
   "source": [
    "dir(myfun)"
   ]
  },
  {
   "cell_type": "code",
   "execution_count": null,
   "id": "163c51e6-c946-4aef-b35a-8ca220a82fd2",
   "metadata": {},
   "outputs": [],
   "source": [
    "g(2)"
   ]
  },
  {
   "cell_type": "code",
   "execution_count": null,
   "id": "ca80a6ef-5773-48a6-800a-217872865910",
   "metadata": {},
   "outputs": [],
   "source": [
    "h(2)"
   ]
  },
  {
   "cell_type": "code",
   "execution_count": null,
   "id": "a0cb0c5a-acce-4c07-b66a-3024be476e1e",
   "metadata": {},
   "outputs": [],
   "source": [
    "h(2)"
   ]
  },
  {
   "cell_type": "code",
   "execution_count": null,
   "id": "2b5e4308-e7a5-4810-af77-90a122216ecf",
   "metadata": {},
   "outputs": [],
   "source": [
    "@trace\n",
    "@timefun\n",
    "def f(x):\n",
    "    return x\n",
    "\n",
    "\n",
    "f(2)"
   ]
  },
  {
   "cell_type": "code",
   "execution_count": null,
   "id": "cd89ab49-a5a4-4ff8-9d5c-bbd93667e5b6",
   "metadata": {},
   "outputs": [],
   "source": []
  },
  {
   "cell_type": "code",
   "execution_count": null,
   "id": "e795bd2c-438d-4f5f-b187-6449dba8d9fe",
   "metadata": {},
   "outputs": [],
   "source": [
    "h(2)"
   ]
  },
  {
   "cell_type": "code",
   "execution_count": null,
   "id": "7e6e25f5-cb71-473d-b703-9921da2087f6",
   "metadata": {},
   "outputs": [],
   "source": [
    "timefun(trace)"
   ]
  },
  {
   "cell_type": "code",
   "execution_count": null,
   "id": "7d61e77f-f919-4243-a9eb-f439833124e8",
   "metadata": {},
   "outputs": [],
   "source": []
  }
 ],
 "metadata": {
  "kernelspec": {
   "display_name": "Python 3 (ipykernel)",
   "language": "python",
   "name": "python3"
  },
  "language_info": {
   "codemirror_mode": {
    "name": "ipython",
    "version": 3
   },
   "file_extension": ".py",
   "mimetype": "text/x-python",
   "name": "python",
   "nbconvert_exporter": "python",
   "pygments_lexer": "ipython3",
   "version": "3.9.7"
  }
 },
 "nbformat": 4,
 "nbformat_minor": 5
}
