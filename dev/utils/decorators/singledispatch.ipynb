{
 "cells": [
  {
   "cell_type": "code",
   "execution_count": null,
   "id": "f0b26543-0656-436b-bd06-b6356e37fc92",
   "metadata": {},
   "outputs": [],
   "source": [
    "from functools import singledispatch\n",
    "from typing import Union\n",
    "\n",
    "import numpy as np\n",
    "\n",
    "# from numpy.typing.mypy_plugin import ArrayLike\n",
    "import torch\n",
    "from numpy import ndarray\n",
    "from numpy.typing import ArrayLike\n",
    "from torch import Tensor"
   ]
  },
  {
   "cell_type": "code",
   "execution_count": null,
   "id": "e2017a35-95ca-4f49-acd7-65ba5fd896c5",
   "metadata": {},
   "outputs": [],
   "source": [
    "@singledispatch\n",
    "def fun(arg, verbose=False):\n",
    "    if verbose:\n",
    "        print(\"Let me just say,\", end=\" \")\n",
    "    print(arg)\n",
    "\n",
    "\n",
    "@fun.register\n",
    "def _(arg: int, verbose=False):\n",
    "    if verbose:\n",
    "        print(\"Strength in numbers, eh?\", end=\" \")\n",
    "    print(arg)\n",
    "\n",
    "\n",
    "@fun.register\n",
    "def _(arg: list, verbose=False):\n",
    "    if verbose:\n",
    "        print(\"Enumerate this:\")\n",
    "    for i, elem in enumerate(arg):\n",
    "        print(i, elem)"
   ]
  },
  {
   "cell_type": "code",
   "execution_count": null,
   "id": "49cb033f-71fd-48d9-8248-20ea94e0f7cc",
   "metadata": {},
   "outputs": [],
   "source": [
    "@singledispatch\n",
    "def absolute(x: Union[ArrayLike, Tensor]) -> Union[ndarray, Tensor]:\n",
    "    x = np.asarray(x)\n",
    "    return absolute(x)\n",
    "\n",
    "\n",
    "@absolute.register\n",
    "def a(x: Tensor) -> Tensor:\n",
    "    return torch.abs(x)\n",
    "\n",
    "\n",
    "@absolute.register\n",
    "def b(x: ndarray) -> ndarray:\n",
    "    return np.abs(x)"
   ]
  },
  {
   "cell_type": "code",
   "execution_count": null,
   "id": "c7d125a1-ae98-402c-83d7-87bfd3fc8d3d",
   "metadata": {},
   "outputs": [],
   "source": [
    "absolute([1, -2])"
   ]
  },
  {
   "cell_type": "code",
   "execution_count": null,
   "id": "1452ea1b-7794-4710-a7ee-3c2e978ca993",
   "metadata": {},
   "outputs": [],
   "source": [
    "import numpy\n",
    "\n",
    "numpy.show_config()"
   ]
  },
  {
   "cell_type": "code",
   "execution_count": null,
   "id": "072ac228-cb56-4ec0-8d10-64806f20bde6",
   "metadata": {},
   "outputs": [],
   "source": []
  }
 ],
 "metadata": {
  "kernelspec": {
   "display_name": "Python 3 (ipykernel)",
   "language": "python",
   "name": "python3"
  },
  "language_info": {
   "codemirror_mode": {
    "name": "ipython",
    "version": 3
   },
   "file_extension": ".py",
   "mimetype": "text/x-python",
   "name": "python",
   "nbconvert_exporter": "python",
   "pygments_lexer": "ipython3",
   "version": "3.9.5"
  }
 },
 "nbformat": 4,
 "nbformat_minor": 5
}
