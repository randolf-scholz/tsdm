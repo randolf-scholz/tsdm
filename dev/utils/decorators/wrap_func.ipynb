{
 "cells": [
  {
   "cell_type": "markdown",
   "metadata": {},
   "source": [
    "# Title"
   ]
  },
  {
   "cell_type": "code",
   "execution_count": null,
   "metadata": {},
   "outputs": [],
   "source": [
    "%config InteractiveShell.ast_node_interactivity='last_expr_or_assign'  # always print last expr.\n",
    "%config InlineBackend.figure_format = 'svg'\n",
    "%load_ext autoreload\n",
    "%autoreload 2\n",
    "%matplotlib inline\n",
    "\n",
    "import logging\n",
    "\n",
    "logging.basicConfig(level=logging.INFO)\n",
    "__logger__ = logging.getLogger(__name__)"
   ]
  },
  {
   "cell_type": "code",
   "execution_count": null,
   "metadata": {},
   "outputs": [],
   "source": [
    "import numpy as np\n",
    "\n",
    "np.set_printoptions(precision=4, floatmode=\"fixed\", suppress=True)\n",
    "rng = np.random.default_rng()"
   ]
  },
  {
   "cell_type": "code",
   "execution_count": null,
   "metadata": {
    "tags": []
   },
   "outputs": [],
   "source": [
    "# import tsdm\n",
    "# from tsdm.utils.decorators import decorator, wrap_func"
   ]
  },
  {
   "cell_type": "code",
   "execution_count": null,
   "metadata": {},
   "outputs": [],
   "source": [
    "from functools import wraps\n",
    "from typing import Callable, Optional\n",
    "\n",
    "from decorator import decorator\n",
    "\n",
    "\n",
    "@decorator\n",
    "def wrap_func(\n",
    "    func: Callable,\n",
    "    before: Optional[Callable],\n",
    "    after: Optional[Callable],\n",
    "    /,\n",
    ") -> Callable:\n",
    "    r\"\"\"Wrap a function with pre and post hooks.\"\"\"\n",
    "    print(f\"wrap_func called with {dir()=} {locals()=}\")\n",
    "\n",
    "    if before is None and after is None:\n",
    "        __logger__.debug(\"No hooks added to %s\", func)\n",
    "        return func\n",
    "\n",
    "    if before is not None and after is None:\n",
    "        __logger__.debug(\"Adding pre hook %s to %s\", before, func)\n",
    "\n",
    "        @wraps(func)\n",
    "        def _wrapper(*args, **kwargs):\n",
    "            before(*args, **kwargs)\n",
    "            result = func(*args, **kwargs)\n",
    "            return result\n",
    "\n",
    "        return _wrapper\n",
    "\n",
    "    if before is None and after is not None:\n",
    "        __logger__.debug(\"Adding post hook %s to %s\", after, func)\n",
    "\n",
    "        @wraps(func)\n",
    "        def _wrapper(*args, **kwargs):\n",
    "            result = func(*args, **kwargs)\n",
    "            after(*args, **kwargs)\n",
    "            return result\n",
    "\n",
    "        return _wrapper\n",
    "\n",
    "    if before is not None and after is not None:\n",
    "        __logger__.debug(\"Adding pre hook %s to %s\", before, func)\n",
    "        __logger__.debug(\"Adding post hook %s to %s\", after, func)\n",
    "\n",
    "        @wraps(func)\n",
    "        def _wrapper(*args, **kwargs):\n",
    "            before(*args, **kwargs)\n",
    "            result = func(*args, **kwargs)\n",
    "            after(*args, **kwargs)\n",
    "            return result\n",
    "\n",
    "        return _wrapper\n",
    "\n",
    "    raise RuntimeError(f\"Unreachable code reached for {func}\")"
   ]
  },
  {
   "cell_type": "code",
   "execution_count": null,
   "metadata": {},
   "outputs": [],
   "source": [
    "def pre_func(*args, **kwargs):\n",
    "    print(f\"λ={pre_func} called with {args=} {kwargs=}\")\n",
    "\n",
    "\n",
    "def post_func(*args, **kwargs):\n",
    "    print(f\"λ={post_func} called with {args=} {kwargs=}\")\n",
    "\n",
    "\n",
    "def func(x):\n",
    "    return x"
   ]
  },
  {
   "cell_type": "code",
   "execution_count": null,
   "metadata": {},
   "outputs": [],
   "source": [
    "g = wrap_func(func, pre_func)\n",
    "g(\"a\")"
   ]
  },
  {
   "cell_type": "code",
   "execution_count": null,
   "metadata": {},
   "outputs": [],
   "source": [
    "@wrap_func(pre_func, post_func) def f(x):\n",
    "    return x\n",
    "\n",
    "f(\"a\")"
   ]
  },
  {
   "cell_type": "code",
   "execution_count": null,
   "metadata": {},
   "outputs": [],
   "source": [
    "@wrap_func(pre_func, post_func)\n",
    "def f(a=None):\n",
    "    print(f\"{vars(f)=}\")\n",
    "    print(f\"{f.__qualname__=}\")\n",
    "    print(f\"{dir()=}\")\n",
    "    print(f\"{locals()=}\")"
   ]
  },
  {
   "cell_type": "code",
   "execution_count": null,
   "metadata": {},
   "outputs": [],
   "source": [
    "f()"
   ]
  },
  {
   "cell_type": "code",
   "execution_count": null,
   "metadata": {},
   "outputs": [],
   "source": [
    "f.__wrapped__"
   ]
  },
  {
   "cell_type": "code",
   "execution_count": null,
   "metadata": {},
   "outputs": [],
   "source": []
  }
 ],
 "metadata": {
  "kernelspec": {
   "display_name": "Python 3 (ipykernel)",
   "language": "python",
   "name": "python3"
  },
  "language_info": {
   "codemirror_mode": {
    "name": "ipython",
    "version": 3
   },
   "file_extension": ".py",
   "mimetype": "text/x-python",
   "name": "python",
   "nbconvert_exporter": "python",
   "pygments_lexer": "ipython3",
   "version": "3.9.10"
  }
 },
 "nbformat": 4,
 "nbformat_minor": 4
}
