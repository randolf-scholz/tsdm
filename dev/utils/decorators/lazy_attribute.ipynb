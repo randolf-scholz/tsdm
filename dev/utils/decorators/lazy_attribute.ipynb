{
 "cells": [
  {
   "cell_type": "markdown",
   "metadata": {},
   "source": [
    "# Sample Template"
   ]
  },
  {
   "cell_type": "markdown",
   "metadata": {},
   "source": [
    "Here is some sample text, and a first block of code"
   ]
  },
  {
   "cell_type": "code",
   "execution_count": null,
   "metadata": {
    "execution": {
     "iopub.execute_input": "2023-01-09T17:38:31.260328Z",
     "iopub.status.busy": "2023-01-09T17:38:31.259749Z",
     "iopub.status.idle": "2023-01-09T17:38:31.265263Z",
     "shell.execute_reply": "2023-01-09T17:38:31.264117Z",
     "shell.execute_reply.started": "2023-01-09T17:38:31.260287Z"
    }
   },
   "outputs": [],
   "source": [
    "from typing import Callable, Any"
   ]
  },
  {
   "cell_type": "code",
   "execution_count": null,
   "metadata": {
    "execution": {
     "iopub.execute_input": "2023-01-09T17:38:31.607494Z",
     "iopub.status.busy": "2023-01-09T17:38:31.606841Z",
     "iopub.status.idle": "2023-01-09T17:38:31.614721Z",
     "shell.execute_reply": "2023-01-09T17:38:31.613490Z",
     "shell.execute_reply.started": "2023-01-09T17:38:31.607449Z"
    },
    "tags": []
   },
   "outputs": [],
   "source": [
    "class LazyAttribute:\n",
    "    func: Callable\n",
    "    result: Any\n",
    "    expects_object: bool\n",
    "\n",
    "    def __init__(self, func: Callable) -> None:\n",
    "        self.func = func\n",
    "        self.expects_object = False\n",
    "\n",
    "    def __get__(self, obj, objtype=None):\n",
    "        if not hasattr(self, \"result\"):\n",
    "            if self.expects_object:\n",
    "                self.result = self.func(obj)\n",
    "            else:\n",
    "                self.result = self.func()\n",
    "        return self.result"
   ]
  },
  {
   "cell_type": "code",
   "execution_count": null,
   "metadata": {
    "execution": {
     "iopub.execute_input": "2023-01-09T17:40:27.464187Z",
     "iopub.status.busy": "2023-01-09T17:40:27.463136Z",
     "iopub.status.idle": "2023-01-09T17:40:27.469678Z",
     "shell.execute_reply": "2023-01-09T17:40:27.468256Z",
     "shell.execute_reply.started": "2023-01-09T17:40:27.464132Z"
    }
   },
   "outputs": [],
   "source": [
    "def func():\n",
    "    print(\"executed func\")\n",
    "    return 42"
   ]
  },
  {
   "cell_type": "code",
   "execution_count": null,
   "metadata": {
    "execution": {
     "iopub.execute_input": "2023-01-09T17:40:34.561557Z",
     "iopub.status.busy": "2023-01-09T17:40:34.561065Z",
     "iopub.status.idle": "2023-01-09T17:40:34.568094Z",
     "shell.execute_reply": "2023-01-09T17:40:34.566676Z",
     "shell.execute_reply.started": "2023-01-09T17:40:34.561519Z"
    }
   },
   "outputs": [],
   "source": [
    "x = LazyAttribute(func)"
   ]
  },
  {
   "cell_type": "code",
   "execution_count": null,
   "metadata": {
    "execution": {
     "iopub.execute_input": "2023-01-09T17:44:06.601190Z",
     "iopub.status.busy": "2023-01-09T17:44:06.600696Z",
     "iopub.status.idle": "2023-01-09T17:44:06.608981Z",
     "shell.execute_reply": "2023-01-09T17:44:06.608066Z",
     "shell.execute_reply.started": "2023-01-09T17:44:06.601154Z"
    },
    "tags": []
   },
   "outputs": [],
   "source": [
    "x"
   ]
  },
  {
   "cell_type": "code",
   "execution_count": null,
   "metadata": {
    "execution": {
     "iopub.execute_input": "2023-01-09T17:41:28.484361Z",
     "iopub.status.busy": "2023-01-09T17:41:28.483672Z",
     "iopub.status.idle": "2023-01-09T17:41:28.507984Z",
     "shell.execute_reply": "2023-01-09T17:41:28.506370Z",
     "shell.execute_reply.started": "2023-01-09T17:41:28.484316Z"
    },
    "tags": []
   },
   "outputs": [],
   "source": [
    "__module__"
   ]
  },
  {
   "cell_type": "markdown",
   "metadata": {},
   "source": [
    "## A second heading"
   ]
  },
  {
   "cell_type": "markdown",
   "metadata": {},
   "source": [
    "and some more text"
   ]
  },
  {
   "cell_type": "code",
   "execution_count": null,
   "metadata": {},
   "outputs": [],
   "source": []
  }
 ],
 "metadata": {
  "kernelspec": {
   "display_name": "Python 3 (ipykernel)",
   "language": "python",
   "name": "python3"
  },
  "language_info": {
   "codemirror_mode": {
    "name": "ipython",
    "version": 3
   },
   "file_extension": ".py",
   "mimetype": "text/x-python",
   "name": "python",
   "nbconvert_exporter": "python",
   "pygments_lexer": "ipython3",
   "version": "3.10.8"
  }
 },
 "nbformat": 4,
 "nbformat_minor": 4
}
