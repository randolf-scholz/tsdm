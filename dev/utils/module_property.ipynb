{
 "cells": [
  {
   "cell_type": "code",
   "execution_count": null,
   "id": "107befe5-e4c4-43f4-bb1a-b9522beb41ed",
   "metadata": {},
   "outputs": [],
   "source": [
    "from functools import cached_property"
   ]
  },
  {
   "cell_type": "code",
   "execution_count": null,
   "id": "b1bf29e0-71c6-4845-98ce-02f0aa38a53c",
   "metadata": {},
   "outputs": [],
   "source": [
    "import sys\n",
    "\n",
    "\n",
    "class AttrGeter:\n",
    "    def __new__(cls, gt):\n",
    "        if isinstance(gt, cls):\n",
    "            return gt\n",
    "        else:\n",
    "            o = super().__new__(cls)\n",
    "            o.oldgetattr = gt\n",
    "            o.funcmap = {}\n",
    "            return o\n",
    "\n",
    "    def __call__(self, name):\n",
    "        name2 = \"_\" + name\n",
    "        if name2 in self.funcmap:\n",
    "            return self.funcmap[name2]()\n",
    "        else:\n",
    "            return self.oldgetattr(name)\n",
    "\n",
    "    def add(self, func):\n",
    "        self.funcmap[func.__name__] = func\n",
    "\n",
    "\n",
    "def module_property(func):\n",
    "    \"\"\"Decorator to turn module functions into properties.\n",
    "    Function names must be prefixed with an underscore.\"\"\"\n",
    "    module = sys.modules[func.__module__]\n",
    "\n",
    "    def base_getattr(name):\n",
    "        raise AttributeError(f\"module '{module.__name__}' has no attribute '{name}'\")\n",
    "\n",
    "    ag = AttrGeter(getattr(module, \"__getattr__\", base_getattr))\n",
    "    module.__getattr__ = ag\n",
    "    ag.add(func)\n",
    "    return func"
   ]
  },
  {
   "cell_type": "code",
   "execution_count": null,
   "id": "0db4dad3-b53d-48d7-ae3e-3d26cfc3fa8f",
   "metadata": {},
   "outputs": [],
   "source": [
    "# @cached_property\n",
    "\n",
    "\n",
    "@propertize\n",
    "def test():\n",
    "    \"\"\"test_docstring\"\"\"\n",
    "    return 123"
   ]
  },
  {
   "cell_type": "code",
   "execution_count": null,
   "id": "d2b7d152-4480-43d3-a196-d85573236d57",
   "metadata": {},
   "outputs": [],
   "source": [
    "import tsdm"
   ]
  },
  {
   "cell_type": "code",
   "execution_count": null,
   "id": "e426a4e7-cd62-4bfa-b540-d4fd42c42e53",
   "metadata": {},
   "outputs": [],
   "source": [
    "dir(tsdm.utils.decorators)"
   ]
  },
  {
   "cell_type": "code",
   "execution_count": null,
   "id": "08d53120-b125-4c3a-85be-390aad8bcc60",
   "metadata": {},
   "outputs": [],
   "source": []
  },
  {
   "cell_type": "code",
   "execution_count": null,
   "id": "17871f8e-b0e2-4bd2-8c84-710db71d7932",
   "metadata": {},
   "outputs": [],
   "source": [
    "tsdm.utils.decorators.test"
   ]
  },
  {
   "cell_type": "code",
   "execution_count": null,
   "id": "59a4b73b-c13d-48e4-87c5-9f89cb2e0c0b",
   "metadata": {},
   "outputs": [],
   "source": [
    "def propertize(func):\n",
    "    return func()"
   ]
  },
  {
   "cell_type": "code",
   "execution_count": null,
   "id": "efa8cbd5-da6f-496b-a329-ddfb1c5694b6",
   "metadata": {},
   "outputs": [],
   "source": [
    "list(globals().keys())"
   ]
  },
  {
   "cell_type": "code",
   "execution_count": null,
   "id": "c6ca4d7d-75b6-40df-8dc4-013e8700548b",
   "metadata": {},
   "outputs": [],
   "source": []
  },
  {
   "cell_type": "code",
   "execution_count": null,
   "id": "78a7ed04-4c8e-4b4d-99d9-2db5094fa235",
   "metadata": {},
   "outputs": [],
   "source": [
    "dir(cached_property(test))"
   ]
  },
  {
   "cell_type": "code",
   "execution_count": null,
   "id": "cc829b90-74d7-4e28-a5c7-f1586dea885d",
   "metadata": {},
   "outputs": [],
   "source": [
    "dir(property(test))"
   ]
  },
  {
   "cell_type": "code",
   "execution_count": null,
   "id": "380f3722-2271-497d-8c15-96bc86b8e7a6",
   "metadata": {},
   "outputs": [],
   "source": [
    "class Property:\n",
    "    \"Emulate PyProperty_Type() in Objects/descrobject.c\"\n",
    "\n",
    "    def __init__(self, fget=None, fset=None, fdel=None, doc=None):\n",
    "        self.fget = fget\n",
    "        self.fset = fset\n",
    "        self.fdel = fdel\n",
    "        if doc is None and fget is not None:\n",
    "            doc = fget.__doc__\n",
    "        self.__doc__ = doc\n",
    "\n",
    "    def __get__(self, obj, objtype=None):\n",
    "        if obj is None:\n",
    "            return self\n",
    "        if self.fget is None:\n",
    "            raise AttributeError(\"unreadable attribute\")\n",
    "        return self.fget(obj)\n",
    "\n",
    "    def __set__(self, obj, value):\n",
    "        if self.fset is None:\n",
    "            raise AttributeError(\"can't set attribute\")\n",
    "        self.fset(obj, value)\n",
    "\n",
    "    def __delete__(self, obj):\n",
    "        if self.fdel is None:\n",
    "            raise AttributeError(\"can't delete attribute\")\n",
    "        self.fdel(obj)\n",
    "\n",
    "    def getter(self, fget):\n",
    "        return type(self)(fget, self.fset, self.fdel, self.__doc__)\n",
    "\n",
    "    def setter(self, fset):\n",
    "        return type(self)(self.fget, fset, self.fdel, self.__doc__)\n",
    "\n",
    "    def deleter(self, fdel):\n",
    "        return type(self)(self.fget, self.fset, fdel, self.__doc__)"
   ]
  },
  {
   "cell_type": "code",
   "execution_count": null,
   "id": "82c9eb93-16ec-4ec9-a722-426fb9b0d477",
   "metadata": {},
   "outputs": [],
   "source": [
    "class CL:\n",
    "    \n",
    "    "
   ]
  },
  {
   "cell_type": "code",
   "execution_count": null,
   "id": "3c01ead4-7f7b-4cb8-92a2-b64db7184879",
   "metadata": {},
   "outputs": [],
   "source": []
  },
  {
   "cell_type": "code",
   "execution_count": null,
   "id": "3663b52e-23b4-4dff-a8a4-c7dca45e0d69",
   "metadata": {},
   "outputs": [],
   "source": [
    "test.fget()"
   ]
  },
  {
   "cell_type": "code",
   "execution_count": null,
   "id": "c8f86e41-f92e-4c74-a644-e9396c896150",
   "metadata": {},
   "outputs": [],
   "source": [
    "dir(test)"
   ]
  },
  {
   "cell_type": "code",
   "execution_count": null,
   "id": "13b09a2c-532c-49be-8ff2-d9755e584e63",
   "metadata": {},
   "outputs": [],
   "source": []
  },
  {
   "cell_type": "code",
   "execution_count": null,
   "id": "8e8c1437-f1ab-4cdd-b384-9f8d0fb25663",
   "metadata": {},
   "outputs": [],
   "source": [
    "_LR_SCHEDULERS = {\n",
    "    \"LambdaLR\": lr_scheduler.LambdaLR,\n",
    "    \"MultiplicativeLR\": lr_scheduler.MultiplicativeLR,\n",
    "    \"StepLR\": lr_scheduler.StepLR,\n",
    "    \"MultiStepLR\": lr_scheduler.MultiStepLR,\n",
    "    \"ExponentialLR\": lr_scheduler.ExponentialLR,\n",
    "    \"CosineAnnealingLR\": lr_scheduler.CosineAnnealingLR,\n",
    "    \"ReduceLROnPlateau\": lr_scheduler.ReduceLROnPlateau,\n",
    "    \"CyclicLR\": lr_scheduler.CyclicLR,\n",
    "    \"OneCycleLR\": lr_scheduler.OneCycleLR,\n",
    "    \"CosineAnnealingWarmRestarts\": lr_scheduler.CosineAnnealingWarmRestarts,\n",
    "}"
   ]
  },
  {
   "cell_type": "code",
   "execution_count": null,
   "id": "b93c5ef5-b53e-41f1-9ac2-7a9b09da6ae2",
   "metadata": {},
   "outputs": [],
   "source": [
    "import logging\n",
    "from typing import Final, Type\n",
    "\n",
    "import torch\n",
    "from torch.optim import Optimizer\n",
    "\n",
    "logger = logging.getLogger(__name__)"
   ]
  },
  {
   "cell_type": "code",
   "execution_count": null,
   "id": "09a7f527-c878-425d-bcde-260af0bf7d6c",
   "metadata": {},
   "outputs": [],
   "source": [
    "%%timeit\n",
    "\n",
    "OPTIMIZERS: Final[dict[str, Type[Optimizer]]] = {\n",
    "    \"Adadelta\": torch.optim.Adadelta,\n",
    "    # Implements Adadelta algorithm.\n",
    "    \"Adagrad\": torch.optim.Adagrad,\n",
    "    # Implements Adagrad algorithm.\n",
    "    \"Adam\": torch.optim.Adam,\n",
    "    # Implements Adam algorithm.\n",
    "    \"AdamW\": torch.optim.AdamW,\n",
    "    # Implements AdamW algorithm.\n",
    "    \"SparseAdam\": torch.optim.SparseAdam,\n",
    "    # Implements lazy version of Adam algorithm suitable for sparse tensors.\n",
    "    \"Adamax\": torch.optim.Adamax,\n",
    "    # Implements Adamax algorithm (a variant of Adam based on infinity norm).\n",
    "    \"ASGD\": torch.optim.ASGD,\n",
    "    # Implements Averaged Stochastic Gradient Descent.\n",
    "    \"LBFGS\": torch.optim.LBFGS,\n",
    "    # Implements L-BFGS algorithm, heavily inspired by minFunc.\n",
    "    \"RMSprop\": torch.optim.RMSprop,\n",
    "    # Implements RMSprop algorithm.\n",
    "    \"Rprop\": torch.optim.Rprop,\n",
    "    # Implements the resilient backpropagation algorithm.\n",
    "    \"SGD\": torch.optim.SGD,\n",
    "    # Implements stochastic gradient descent (optionally with momentum).\n",
    "}"
   ]
  },
  {
   "cell_type": "code",
   "execution_count": null,
   "id": "960577a7-7b6f-422e-abaa-a0ab0958b69a",
   "metadata": {},
   "outputs": [],
   "source": [
    "%%timeit\n",
    "\n",
    "\n",
    "def _opts():\n",
    "    _OPTIMIZERS: Final[dict[str, Type[Optimizer]]] = {\n",
    "        \"Adadelta\": torch.optim.Adadelta,\n",
    "        # Implements Adadelta algorithm.\n",
    "        \"Adagrad\": torch.optim.Adagrad,\n",
    "        # Implements Adagrad algorithm.\n",
    "        \"Adam\": torch.optim.Adam,\n",
    "        # Implements Adam algorithm.\n",
    "        \"AdamW\": torch.optim.AdamW,\n",
    "        # Implements AdamW algorithm.\n",
    "        \"SparseAdam\": torch.optim.SparseAdam,\n",
    "        # Implements lazy version of Adam algorithm suitable for sparse tensors.\n",
    "        \"Adamax\": torch.optim.Adamax,\n",
    "        # Implements Adamax algorithm (a variant of Adam based on infinity norm).\n",
    "        \"ASGD\": torch.optim.ASGD,\n",
    "        # Implements Averaged Stochastic Gradient Descent.\n",
    "        \"LBFGS\": torch.optim.LBFGS,\n",
    "        # Implements L-BFGS algorithm, heavily inspired by minFunc.\n",
    "        \"RMSprop\": torch.optim.RMSprop,\n",
    "        # Implements RMSprop algorithm.\n",
    "        \"Rprop\": torch.optim.Rprop,\n",
    "        # Implements the resilient backpropagation algorithm.\n",
    "        \"SGD\": torch.optim.SGD,\n",
    "        # Implements stochastic gradient descent (optionally with momentum).\n",
    "    }\n",
    "    return _optimizers"
   ]
  },
  {
   "cell_type": "code",
   "execution_count": null,
   "id": "6b29411d-30c8-4902-80f8-91f48e137bc8",
   "metadata": {},
   "outputs": [],
   "source": []
  }
 ],
 "metadata": {
  "kernelspec": {
   "display_name": "Python 3 (ipykernel)",
   "language": "python",
   "name": "python3"
  },
  "language_info": {
   "codemirror_mode": {
    "name": "ipython",
    "version": 3
   },
   "file_extension": ".py",
   "mimetype": "text/x-python",
   "name": "python",
   "nbconvert_exporter": "python",
   "pygments_lexer": "ipython3",
   "version": "3.9.6"
  }
 },
 "nbformat": 4,
 "nbformat_minor": 5
}
