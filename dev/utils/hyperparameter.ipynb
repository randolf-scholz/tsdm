{
 "cells": [
  {
   "cell_type": "markdown",
   "metadata": {},
   "source": [
    "# Hyperparameter usage"
   ]
  },
  {
   "cell_type": "code",
   "execution_count": 1,
   "metadata": {},
   "outputs": [],
   "source": [
    "%config InteractiveShell.ast_node_interactivity='last_expr_or_assign'  # always print last expr.\n",
    "%config InlineBackend.figure_format = 'svg'\n",
    "%load_ext autoreload\n",
    "%autoreload 2\n",
    "%matplotlib inline"
   ]
  },
  {
   "cell_type": "markdown",
   "metadata": {},
   "source": [
    "## Idea\n",
    "\n",
    "- We need a config file format for storing Hyperparamter combinations on disk.\n",
    "  - contenders: `json`, `yaml`, `toml`\n",
    "  - `json`: pros: widespread use, well-defined specification. cons: lacks human readability\n",
    "  - `yaml`: pros: human readability,  cons: very complicated specification\n",
    "  - `toml`: pros: human readability, simplicity, cons: not as widely used.\n",
    "- We need a python class for storing Hyperparamter combinations in memory.\n",
    "  - contenders: plained nested `dicts`, `attribute-dicts`, `dataclasses`\n",
    "  - plain dicts: pros: easy to understand ect. cons: annoying to use, no key completion\n",
    "  - attribute dicst: pros: nice to use, cons: may require extra packages\n",
    "  - dataclasses: pros: "
   ]
  },
  {
   "cell_type": "markdown",
   "metadata": {},
   "source": [
    "### Automatic dataclass\n",
    "\n",
    "Idea: create a class with signature such that\n",
    "\n",
    "`cfg = Config(name, x=0, y=\"abc\")` is roughly equivalent to\n",
    "\n",
    "```python\n",
    "@dataclass\n",
    "class name_config:\n",
    "    x: int\n",
    "    y: str\n",
    "    \n",
    "    @classmethod\n",
    "    @property\n",
    "    def __name__(cls):\n",
    "        return name\n",
    "\n",
    "cfg = name_config(x=0, y=\"abc\")\n",
    "```\n"
   ]
  },
  {
   "cell_type": "code",
   "execution_count": 97,
   "metadata": {},
   "outputs": [],
   "source": [
    "cf"
   ]
  },
  {
   "cell_type": "code",
   "execution_count": 178,
   "metadata": {},
   "outputs": [],
   "source": [
    "from pydantic import BaseModel\n"
   ]
  },
  {
   "cell_type": "code",
   "execution_count": 181,
   "metadata": {},
   "outputs": [],
   "source": [
    "dir(BaseModel(a=0))"
   ]
  },
  {
   "cell_type": "code",
   "execution_count": 176,
   "metadata": {},
   "outputs": [],
   "source": [
    "from collections.abc import Mapping\n",
    "\n",
    "@dataclass\n",
    "class name_config:\n",
    "    x = 2\n",
    "    y: str = \"\"\n",
    "    \n",
    "    def __getitem__(self, key):\n",
    "        return self.__dict__[key]\n",
    "    \n",
    "    def __setitem__(self, key, value):\n",
    "        assert key in self.__dict__.keys(), \"Cannot add keys!\"\n",
    "        assert isinstance(value, self.__annotations__[key]), \"Wrong type!\"\n",
    "        self.__dict__.__setitem__(key, value)\n",
    "        \n",
    "    def __iter__(self):\n",
    "        return self.__dict__.__iter__()\n",
    "    \n",
    "    def __len__(self):\n",
    "        return self.__dict__.__len__()\n",
    "    \n",
    "cf = name_config()\n",
    "\n",
    "\n",
    "dir(cf)"
   ]
  },
  {
   "cell_type": "code",
   "execution_count": 168,
   "metadata": {},
   "outputs": [],
   "source": [
    "'z' in cf"
   ]
  },
  {
   "cell_type": "code",
   "execution_count": 163,
   "metadata": {},
   "outputs": [],
   "source": [
    "dict(cf)"
   ]
  },
  {
   "cell_type": "code",
   "execution_count": 67,
   "metadata": {},
   "outputs": [],
   "source": [
    "def Config(, **kwargs)\n",
    "    class Beta:\n",
    "        pass"
   ]
  },
  {
   "cell_type": "code",
   "execution_count": 69,
   "metadata": {},
   "outputs": [],
   "source": [
    "dir(Config())"
   ]
  },
  {
   "cell_type": "code",
   "execution_count": 35,
   "metadata": {},
   "outputs": [],
   "source": [
    "\n",
    "\n",
    "# The following class would let you do what you want (works in Python 2 & 3):\n",
    "\n",
    "class Config(dict):\n",
    "    \"\"\" Dictionary subclass whose entries can be accessed by attributes (as well\n",
    "        as normally).\n",
    "\n",
    "    >>> obj = AttrDict()\n",
    "    >>> obj['test'] = 'hi'\n",
    "    >>> print obj.test\n",
    "    hi\n",
    "    >>> del obj.test\n",
    "    >>> obj.test = 'bye'\n",
    "    >>> print obj['test']\n",
    "    bye\n",
    "    >>> print len(obj)\n",
    "    1\n",
    "    >>> obj.clear()\n",
    "    >>> print len(obj)\n",
    "    0\n",
    "    \"\"\"\n",
    "    __forbidden__ = {\n",
    "    'clear',\n",
    "    'copy',\n",
    "    'fromkeys',\n",
    "    'get',\n",
    "    'items',\n",
    "    'keys',\n",
    "    'pop',\n",
    "    'popitem',\n",
    "    'setdefault',\n",
    "    'update',\n",
    "    'values',\n",
    "    }\n",
    "    \n",
    "    def __init__(self, *args, **kwargs):\n",
    "        \n",
    "        assert not (bad_keys := (set(kwargs) & self.__forbidden__ )), f\"Used forbidden keys {bad_keys}\"\n",
    "        assert not any( key.startswith(\"__\") and key.endswith(\"__\") for key in kwargs ), f\"No dunder keys allowed!\"\n",
    "        super(Config, self).__init__(*args, **kwargs)\n",
    "        self.__dict__ = self\n",
    "\n",
    "    # @classmethod\n",
    "    # def from_nested_dicts(cls, data):\n",
    "    #     \"\"\" Construct nested AttrDicts from nested dictionaries. \"\"\"\n",
    "    #     if not isinstance(data, dict):\n",
    "    #         return data\n",
    "    #     else:\n",
    "    #         return cls({key: cls.from_nested_dicts(data[key]) for key in data})"
   ]
  },
  {
   "cell_type": "code",
   "execution_count": 45,
   "metadata": {},
   "outputs": [],
   "source": [
    "cfg = Config(\n",
    "    a = 1,\n",
    "    b = 2,\n",
    "    optimizer = Config(\n",
    "        type=\"Adam\",\n",
    "        config = Config(\n",
    "            lr=0.001,\n",
    "            beta = 0.99\n",
    "        )\n",
    "    )\n",
    ")\n",
    "\n",
    "\n",
    "\n",
    "\n",
    "\n",
    "cfg"
   ]
  },
  {
   "cell_type": "code",
   "execution_count": 22,
   "metadata": {},
   "outputs": [],
   "source": [
    "dir(cfg)"
   ]
  },
  {
   "cell_type": "code",
   "execution_count": 11,
   "metadata": {},
   "outputs": [],
   "source": [
    "from dataclasses import dataclass, asdict\n",
    "\n",
    "@dataclass\n",
    "class AutoConf:\n",
    "    a: int = 0\n",
    "    \n",
    "    @classmethod\n",
    "    @property\n",
    "    def __name__(cls):\n",
    "        return \"ja mei\""
   ]
  },
  {
   "cell_type": "code",
   "execution_count": 14,
   "metadata": {},
   "outputs": [],
   "source": [
    "test()\n"
   ]
  },
  {
   "cell_type": "code",
   "execution_count": 13,
   "metadata": {},
   "outputs": [],
   "source": [
    "dir(test)"
   ]
  },
  {
   "cell_type": "code",
   "execution_count": null,
   "metadata": {},
   "outputs": [],
   "source": []
  }
 ],
 "metadata": {
  "kernelspec": {
   "display_name": "Python 3 (ipykernel)",
   "language": "python",
   "name": "python3"
  },
  "language_info": {
   "codemirror_mode": {
    "name": "ipython",
    "version": 3
   },
   "file_extension": ".py",
   "mimetype": "text/x-python",
   "name": "python",
   "nbconvert_exporter": "python",
   "pygments_lexer": "ipython3",
   "version": "3.9.7"
  }
 },
 "nbformat": 4,
 "nbformat_minor": 4
}
