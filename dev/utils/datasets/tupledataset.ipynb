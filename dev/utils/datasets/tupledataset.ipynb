{
 "cells": [
  {
   "cell_type": "code",
   "execution_count": null,
   "id": "864d24a1-42c7-411e-af2a-8566e458038a",
   "metadata": {
    "execution": {
     "iopub.execute_input": "2022-09-16T17:23:48.831069Z",
     "iopub.status.busy": "2022-09-16T17:23:48.830907Z",
     "iopub.status.idle": "2022-09-16T17:23:48.836178Z",
     "shell.execute_reply": "2022-09-16T17:23:48.835483Z",
     "shell.execute_reply.started": "2022-09-16T17:23:48.831025Z"
    },
    "tags": []
   },
   "outputs": [],
   "source": [
    "from __future__ import annotations\n",
    "\n",
    "from typing import Protocol\n",
    "from typing import TypeVar\n",
    "from abc import ABC, abstractmethod, abstractproperty\n",
    "from typing import NamedTuple, TypeVar\n",
    "from collections import namedtuple"
   ]
  },
  {
   "cell_type": "code",
   "execution_count": null,
   "id": "1a567274-b2d0-48ef-9296-c3dd1214fd52",
   "metadata": {
    "execution": {
     "iopub.execute_input": "2022-09-16T17:23:48.838063Z",
     "iopub.status.busy": "2022-09-16T17:23:48.837803Z",
     "iopub.status.idle": "2022-09-16T17:23:48.854980Z",
     "shell.execute_reply": "2022-09-16T17:23:48.854391Z",
     "shell.execute_reply.started": "2022-09-16T17:23:48.838035Z"
    },
    "tags": []
   },
   "outputs": [],
   "source": [
    "T = TypeVar(\"T\")\n",
    "\n",
    "\n",
    "class _NamedTuple(tuple[T, ...], ABC):\n",
    "    r\"\"\"To check for namedtuple.\"\"\"\n",
    "    __slots__ = ()\n",
    "\n",
    "    @classmethod\n",
    "    @abstractmethod\n",
    "    def _make(cls, iterable) -> _NamedTuple[T, ...]:\n",
    "        ...\n",
    "\n",
    "    @abstractmethod\n",
    "    def _replace(self, /, **kwds) -> None:\n",
    "        ...\n",
    "\n",
    "    @property\n",
    "    @abstractmethod\n",
    "    def _fields(self) -> tuple[T, ...]:\n",
    "        ...\n",
    "\n",
    "    @property\n",
    "    @abstractmethod\n",
    "    def _field_defaults(self) -> dict[str, T]:\n",
    "        ...\n",
    "\n",
    "    @abstractmethod\n",
    "    def _asdict(self) -> dict[str, T]:\n",
    "        ..."
   ]
  },
  {
   "cell_type": "code",
   "execution_count": null,
   "id": "1d8adf0a-a484-4911-b4d9-ccf9579d588d",
   "metadata": {
    "execution": {
     "iopub.execute_input": "2022-09-16T17:23:48.855894Z",
     "iopub.status.busy": "2022-09-16T17:23:48.855690Z",
     "iopub.status.idle": "2022-09-16T17:23:48.862079Z",
     "shell.execute_reply": "2022-09-16T17:23:48.861479Z",
     "shell.execute_reply.started": "2022-09-16T17:23:48.855877Z"
    },
    "tags": []
   },
   "outputs": [],
   "source": [
    "def register_namedtuple(obj, fields: list[str], /, *, name: str):\n",
    "\n",
    "    if not name.isidentifier():\n",
    "        raise ValueError(f\"{name} is not a valid identifier!\")\n",
    "\n",
    "    obj._tuple = namedtuple(name, fields)\n",
    "    _NamedTuple.register(obj._tuple)"
   ]
  },
  {
   "cell_type": "code",
   "execution_count": null,
   "id": "7edcad7c-debf-4980-b131-8aa6d66e686e",
   "metadata": {
    "execution": {
     "iopub.execute_input": "2022-09-16T17:23:48.863389Z",
     "iopub.status.busy": "2022-09-16T17:23:48.863117Z",
     "iopub.status.idle": "2022-09-16T17:23:48.869201Z",
     "shell.execute_reply": "2022-09-16T17:23:48.868730Z",
     "shell.execute_reply.started": "2022-09-16T17:23:48.863362Z"
    },
    "tags": []
   },
   "outputs": [],
   "source": [
    "class Foo:\n",
    "    _tuple: NamedTuple[str, ...]\n",
    "\n",
    "    def __init__(self, fields: list[str]):\n",
    "        register_namedtuple(self, fields, name=\"FooTuple\")"
   ]
  },
  {
   "cell_type": "code",
   "execution_count": null,
   "id": "4e726583-79f1-4855-853d-5f6c0489fe25",
   "metadata": {
    "execution": {
     "iopub.execute_input": "2022-09-16T17:23:54.953031Z",
     "iopub.status.busy": "2022-09-16T17:23:54.952741Z",
     "iopub.status.idle": "2022-09-16T17:23:54.956503Z",
     "shell.execute_reply": "2022-09-16T17:23:54.955627Z",
     "shell.execute_reply.started": "2022-09-16T17:23:54.953006Z"
    },
    "tags": []
   },
   "outputs": [],
   "source": [
    "foo = Foo([\"a\", \"b\", \"c\"])\n",
    "FooTup = foo._tuple\n",
    "footup = foo._tuple(1, 2, 3)"
   ]
  },
  {
   "cell_type": "code",
   "execution_count": null,
   "id": "5719c556-c86f-4341-a1f7-f1a6037e2282",
   "metadata": {
    "execution": {
     "iopub.execute_input": "2022-09-16T17:23:55.778077Z",
     "iopub.status.busy": "2022-09-16T17:23:55.777841Z",
     "iopub.status.idle": "2022-09-16T17:23:55.781814Z",
     "shell.execute_reply": "2022-09-16T17:23:55.781020Z",
     "shell.execute_reply.started": "2022-09-16T17:23:55.778065Z"
    },
    "tags": []
   },
   "outputs": [],
   "source": [
    "assert isinstance(footup, tuple)\n",
    "assert issubclass(FooTup, tuple)\n",
    "assert isinstance(footup, _NamedTuple)\n",
    "assert issubclass(FooTup, _NamedTuple)"
   ]
  },
  {
   "cell_type": "code",
   "execution_count": null,
   "id": "e664ca10-3b4c-42ee-bfa0-0ca807dce1fb",
   "metadata": {
    "execution": {
     "iopub.execute_input": "2022-09-16T17:13:23.704820Z",
     "iopub.status.busy": "2022-09-16T17:13:23.704601Z",
     "iopub.status.idle": "2022-09-16T17:13:23.708307Z",
     "shell.execute_reply": "2022-09-16T17:13:23.707353Z",
     "shell.execute_reply.started": "2022-09-16T17:13:23.704806Z"
    },
    "tags": []
   },
   "outputs": [],
   "source": []
  },
  {
   "cell_type": "code",
   "execution_count": null,
   "id": "7a8f200b-11bf-48ee-a773-23eaa7e73870",
   "metadata": {
    "execution": {
     "iopub.execute_input": "2022-09-16T17:14:39.050672Z",
     "iopub.status.busy": "2022-09-16T17:14:39.050374Z",
     "iopub.status.idle": "2022-09-16T17:14:39.055554Z",
     "shell.execute_reply": "2022-09-16T17:14:39.054874Z",
     "shell.execute_reply.started": "2022-09-16T17:14:39.050653Z"
    },
    "tags": []
   },
   "outputs": [],
   "source": []
  },
  {
   "cell_type": "code",
   "execution_count": null,
   "id": "48d85003-59a6-41ce-8552-7d8637520ba6",
   "metadata": {
    "execution": {
     "iopub.execute_input": "2022-09-16T17:12:28.176543Z",
     "iopub.status.busy": "2022-09-16T17:12:28.176288Z",
     "iopub.status.idle": "2022-09-16T17:12:28.180129Z",
     "shell.execute_reply": "2022-09-16T17:12:28.179711Z",
     "shell.execute_reply.started": "2022-09-16T17:12:28.176527Z"
    },
    "tags": []
   },
   "outputs": [],
   "source": [
    "dir(NamedTuple)"
   ]
  },
  {
   "cell_type": "code",
   "execution_count": null,
   "id": "bb57850e-5730-48f4-885a-95500c5e5d0c",
   "metadata": {
    "execution": {
     "iopub.execute_input": "2022-09-16T16:57:21.409352Z",
     "iopub.status.busy": "2022-09-16T16:57:21.408910Z",
     "iopub.status.idle": "2022-09-16T16:57:21.413085Z",
     "shell.execute_reply": "2022-09-16T16:57:21.412306Z",
     "shell.execute_reply.started": "2022-09-16T16:57:21.409336Z"
    }
   },
   "outputs": [],
   "source": [
    "encoder.tuple"
   ]
  },
  {
   "cell_type": "code",
   "execution_count": null,
   "id": "209d9a1d-1e4d-4acf-b79b-43e784991b88",
   "metadata": {
    "execution": {
     "iopub.execute_input": "2022-09-16T17:00:20.086289Z",
     "iopub.status.busy": "2022-09-16T17:00:20.085968Z",
     "iopub.status.idle": "2022-09-16T17:00:20.090134Z",
     "shell.execute_reply": "2022-09-16T17:00:20.089237Z",
     "shell.execute_reply.started": "2022-09-16T17:00:20.086273Z"
    },
    "tags": []
   },
   "outputs": [],
   "source": [
    "class Point(NamedTuple):\n",
    "    x: float\n",
    "    y: float\n",
    "    z: float = 1"
   ]
  },
  {
   "cell_type": "code",
   "execution_count": null,
   "id": "7a01de70-c16b-4609-a590-f2e3a2523270",
   "metadata": {
    "execution": {
     "iopub.execute_input": "2022-09-16T17:01:06.391992Z",
     "iopub.status.busy": "2022-09-16T17:01:06.391779Z",
     "iopub.status.idle": "2022-09-16T17:01:06.396961Z",
     "shell.execute_reply": "2022-09-16T17:01:06.396358Z",
     "shell.execute_reply.started": "2022-09-16T17:01:06.391979Z"
    },
    "tags": []
   },
   "outputs": [],
   "source": [
    "Point.__dict__"
   ]
  },
  {
   "cell_type": "code",
   "execution_count": null,
   "id": "02918510-85a0-41bb-a668-6c69bd399c62",
   "metadata": {
    "execution": {
     "iopub.execute_input": "2022-09-16T17:00:30.983604Z",
     "iopub.status.busy": "2022-09-16T17:00:30.983241Z",
     "iopub.status.idle": "2022-09-16T17:00:31.018359Z",
     "shell.execute_reply": "2022-09-16T17:00:31.017830Z",
     "shell.execute_reply.started": "2022-09-16T17:00:30.983576Z"
    }
   },
   "outputs": [],
   "source": [
    "inspect.signature(Point._fields)"
   ]
  },
  {
   "cell_type": "code",
   "execution_count": null,
   "id": "a630f395-4122-43e3-8682-5c22f565b488",
   "metadata": {
    "execution": {
     "iopub.execute_input": "2022-09-16T16:59:28.730297Z",
     "iopub.status.busy": "2022-09-16T16:59:28.730091Z",
     "iopub.status.idle": "2022-09-16T16:59:28.756707Z",
     "shell.execute_reply": "2022-09-16T16:59:28.755681Z",
     "shell.execute_reply.started": "2022-09-16T16:59:28.730284Z"
    },
    "tags": []
   },
   "outputs": [],
   "source": [
    "inspect.signature(encoder.tuple._field_defaults)"
   ]
  },
  {
   "cell_type": "code",
   "execution_count": null,
   "id": "a025222a-19f5-4f60-b285-edc070952c4e",
   "metadata": {
    "execution": {
     "iopub.execute_input": "2022-09-16T16:54:18.082141Z",
     "iopub.status.busy": "2022-09-16T16:54:18.081578Z",
     "iopub.status.idle": "2022-09-16T16:54:18.090591Z",
     "shell.execute_reply": "2022-09-16T16:54:18.089758Z",
     "shell.execute_reply.started": "2022-09-16T16:54:18.082110Z"
    },
    "tags": []
   },
   "outputs": [],
   "source": [
    "type(NamedTuple([1, 2, 3]))"
   ]
  },
  {
   "cell_type": "code",
   "execution_count": null,
   "id": "21bed01f-6d8a-4cc5-b395-fc0793d9bd56",
   "metadata": {
    "execution": {
     "iopub.execute_input": "2022-09-16T16:47:43.228325Z",
     "iopub.status.busy": "2022-09-16T16:47:43.228123Z",
     "iopub.status.idle": "2022-09-16T16:47:43.231909Z",
     "shell.execute_reply": "2022-09-16T16:47:43.231292Z",
     "shell.execute_reply.started": "2022-09-16T16:47:43.228314Z"
    }
   },
   "outputs": [],
   "source": [
    "'__match_args__',\n",
    " '__module__',\n",
    " '__slotnames__',\n",
    " '__slots__',\n",
    " '_asdict',\n",
    " '_field_defaults',\n",
    " '_fields',\n",
    " '_make',\n",
    " '_replace',"
   ]
  },
  {
   "cell_type": "code",
   "execution_count": null,
   "id": "2d9e4eb8-e3c2-46ce-b495-5880fab2a95b",
   "metadata": {
    "execution": {
     "iopub.execute_input": "2022-09-16T16:47:43.411526Z",
     "iopub.status.busy": "2022-09-16T16:47:43.411311Z",
     "iopub.status.idle": "2022-09-16T16:47:43.416591Z",
     "shell.execute_reply": "2022-09-16T16:47:43.415684Z",
     "shell.execute_reply.started": "2022-09-16T16:47:43.411512Z"
    },
    "tags": []
   },
   "outputs": [],
   "source": [
    "set(dir(encoder.tuple)) - set(dir(tuple))"
   ]
  },
  {
   "cell_type": "code",
   "execution_count": null,
   "id": "d6b2fab3-e8d9-45be-b1aa-da9c12c02d8f",
   "metadata": {
    "execution": {
     "iopub.execute_input": "2022-09-16T16:51:28.425615Z",
     "iopub.status.busy": "2022-09-16T16:51:28.424931Z",
     "iopub.status.idle": "2022-09-16T16:51:28.429194Z",
     "shell.execute_reply": "2022-09-16T16:51:28.428724Z",
     "shell.execute_reply.started": "2022-09-16T16:51:28.425594Z"
    },
    "tags": []
   },
   "outputs": [],
   "source": [
    "dir(tuple([1, 2, 3]))"
   ]
  },
  {
   "cell_type": "code",
   "execution_count": null,
   "id": "d8c59945-9b19-4dba-9222-6979b9809af2",
   "metadata": {
    "execution": {
     "iopub.execute_input": "2022-09-16T16:52:25.445500Z",
     "iopub.status.busy": "2022-09-16T16:52:25.445203Z",
     "iopub.status.idle": "2022-09-16T16:52:25.449420Z",
     "shell.execute_reply": "2022-09-16T16:52:25.449073Z",
     "shell.execute_reply.started": "2022-09-16T16:52:25.445477Z"
    }
   },
   "outputs": [],
   "source": []
  },
  {
   "cell_type": "code",
   "execution_count": null,
   "id": "75b88c50-1eec-4513-a8ae-7efb11c4b1e1",
   "metadata": {
    "execution": {
     "iopub.execute_input": "2022-09-16T16:52:41.032813Z",
     "iopub.status.busy": "2022-09-16T16:52:41.032608Z",
     "iopub.status.idle": "2022-09-16T16:52:41.036546Z",
     "shell.execute_reply": "2022-09-16T16:52:41.036235Z",
     "shell.execute_reply.started": "2022-09-16T16:52:41.032799Z"
    },
    "tags": []
   },
   "outputs": [],
   "source": [
    "set(dir(encoder.tuple([1, 2], [3]))) - set(dir(tuple([1, 2, 3])))"
   ]
  },
  {
   "cell_type": "code",
   "execution_count": null,
   "id": "2f0c0818-f526-4de5-9ac3-ed1b5ce4bf86",
   "metadata": {
    "execution": {
     "iopub.execute_input": "2022-09-16T16:51:42.560218Z",
     "iopub.status.busy": "2022-09-16T16:51:42.559608Z",
     "iopub.status.idle": "2022-09-16T16:51:42.563577Z",
     "shell.execute_reply": "2022-09-16T16:51:42.563231Z",
     "shell.execute_reply.started": "2022-09-16T16:51:42.560196Z"
    },
    "tags": []
   },
   "outputs": [],
   "source": [
    "set(dir(encoder.tuple)) - set(dir(tuple))"
   ]
  },
  {
   "cell_type": "code",
   "execution_count": null,
   "id": "341f59a3-36f3-4fd9-a1b9-25cf75b89bb0",
   "metadata": {
    "execution": {
     "iopub.execute_input": "2022-09-16T16:40:02.289739Z",
     "iopub.status.busy": "2022-09-16T16:40:02.289372Z",
     "iopub.status.idle": "2022-09-16T16:40:02.293096Z",
     "shell.execute_reply": "2022-09-16T16:40:02.292706Z",
     "shell.execute_reply.started": "2022-09-16T16:40:02.289716Z"
    }
   },
   "outputs": [],
   "source": [
    "import inspect"
   ]
  },
  {
   "cell_type": "code",
   "execution_count": null,
   "id": "01a249fc-a5b4-4fb6-a405-2e8959006b24",
   "metadata": {
    "execution": {
     "iopub.execute_input": "2022-09-16T16:40:51.419894Z",
     "iopub.status.busy": "2022-09-16T16:40:51.419606Z",
     "iopub.status.idle": "2022-09-16T16:40:51.423928Z",
     "shell.execute_reply": "2022-09-16T16:40:51.423570Z",
     "shell.execute_reply.started": "2022-09-16T16:40:51.419868Z"
    }
   },
   "outputs": [],
   "source": []
  },
  {
   "cell_type": "code",
   "execution_count": null,
   "id": "4c4552a5-ae2f-494f-9a5a-94ab4ccd9fda",
   "metadata": {
    "execution": {
     "iopub.execute_input": "2022-09-16T16:40:42.505425Z",
     "iopub.status.busy": "2022-09-16T16:40:42.505100Z",
     "iopub.status.idle": "2022-09-16T16:40:42.509694Z",
     "shell.execute_reply": "2022-09-16T16:40:42.509222Z",
     "shell.execute_reply.started": "2022-09-16T16:40:42.505405Z"
    },
    "tags": []
   },
   "outputs": [],
   "source": [
    "set(dir(encoder.tuple)) - set(dir(tuple))"
   ]
  },
  {
   "cell_type": "code",
   "execution_count": null,
   "id": "ead57fb9-1e86-4d61-9ca1-43eee81bc91f",
   "metadata": {
    "execution": {
     "iopub.execute_input": "2022-09-16T16:40:13.775600Z",
     "iopub.status.busy": "2022-09-16T16:40:13.775189Z",
     "iopub.status.idle": "2022-09-16T16:40:13.780358Z",
     "shell.execute_reply": "2022-09-16T16:40:13.780012Z",
     "shell.execute_reply.started": "2022-09-16T16:40:13.775583Z"
    },
    "tags": []
   },
   "outputs": [],
   "source": []
  },
  {
   "cell_type": "code",
   "execution_count": null,
   "id": "d764fb21-adf1-42b0-9b33-ce832987bcdc",
   "metadata": {
    "execution": {
     "iopub.execute_input": "2022-09-16T16:39:20.144458Z",
     "iopub.status.busy": "2022-09-16T16:39:20.144173Z",
     "iopub.status.idle": "2022-09-16T16:39:20.147840Z",
     "shell.execute_reply": "2022-09-16T16:39:20.147502Z",
     "shell.execute_reply.started": "2022-09-16T16:39:20.144442Z"
    },
    "tags": []
   },
   "outputs": [],
   "source": [
    "issubclass(encoder.tuple, tuple)"
   ]
  },
  {
   "cell_type": "code",
   "execution_count": null,
   "id": "1a46a7d9-b7b8-4ba3-b711-10549a923fa9",
   "metadata": {
    "execution": {
     "iopub.execute_input": "2022-09-16T16:30:58.211235Z",
     "iopub.status.busy": "2022-09-16T16:30:58.211027Z",
     "iopub.status.idle": "2022-09-16T16:30:58.217223Z",
     "shell.execute_reply": "2022-09-16T16:30:58.216801Z",
     "shell.execute_reply.started": "2022-09-16T16:30:58.211221Z"
    },
    "tags": []
   },
   "outputs": [],
   "source": [
    "import gc\n",
    "import pickle\n",
    "import sys\n",
    "from collections import namedtuple\n",
    "\n",
    "\n",
    "class TupleSplitter:\n",
    "    r\"\"\"Splits a tuple into namedtuple, given by the groups.\"\"\"\n",
    "\n",
    "    def __init__(self, groups: dict[str, list[int]], *, name: str = \"Groups\"):\n",
    "        self.groups = groups\n",
    "        self.tuple = namedtuple(name, groups)\n",
    "\n",
    "        # create a unique identifier and store it in globals\n",
    "        self.identifier = (\n",
    "            f\"_{self.tuple.__name__}_{self.__class__.__name__}_{hash(self)}\"\n",
    "        )\n",
    "        self.tuple.__qualname__ = self.identifier\n",
    "\n",
    "        if self.identifier in globals():\n",
    "            raise RuntimeError(f\"A class of name '{self.identifier}' exists!!\")\n",
    "        globals()[self.identifier] = self.tuple\n",
    "\n",
    "    def __call__(self, x: tuple) -> tuple:\n",
    "        return self.tuple(\n",
    "            **{key: tuple(x[k] for k in group) for key, group in self.groups.items()}\n",
    "        )\n",
    "\n",
    "    def __del__(self):\n",
    "        \"\"\"Delete the globals entry when the class instance is deleted.\"\"\"\n",
    "        identifier = self.tuple.__qualname__\n",
    "        if identifier not in globals():\n",
    "            raise RuntimeError(f\"'{identifier}' was already purged!\")\n",
    "        del globals()[identifier]\n",
    "        del self\n",
    "\n",
    "\n",
    "encoder = TupleSplitter({\"a\": [0, 1], \"b\": [2]})\n",
    "groups1 = encoder((\"foo1\", \"bar1\", \"baz1\"))\n",
    "groups2 = encoder((\"foo2\", \"bar2\", \"baz2\"))\n",
    "pickle1 = pickle.dumps(groups1)\n",
    "pickle2 = pickle.dumps(groups2)\n",
    "tuple1 = pickle.loads(pickle1)\n",
    "tuple2 = pickle.loads(pickle2)\n",
    "assert type(groups1) == type(groups2)\n",
    "assert type(tuple1) == type(tuple2)\n",
    "assert type(tuple1) == type(groups1)\n",
    "assert tuple1 == groups1"
   ]
  },
  {
   "cell_type": "code",
   "execution_count": null,
   "id": "39a834ae-54f6-4f5c-b427-cc6fc3168148",
   "metadata": {
    "execution": {
     "iopub.execute_input": "2022-09-16T16:31:23.875314Z",
     "iopub.status.busy": "2022-09-16T16:31:23.875037Z",
     "iopub.status.idle": "2022-09-16T16:31:23.879295Z",
     "shell.execute_reply": "2022-09-16T16:31:23.878738Z",
     "shell.execute_reply.started": "2022-09-16T16:31:23.875293Z"
    },
    "tags": []
   },
   "outputs": [],
   "source": [
    "encoder((1, 2, 3))"
   ]
  },
  {
   "cell_type": "code",
   "execution_count": null,
   "id": "11e8dc08-587d-48c5-a9a2-ea4693e5b57a",
   "metadata": {
    "execution": {
     "iopub.execute_input": "2022-09-16T16:30:42.606554Z",
     "iopub.status.busy": "2022-09-16T16:30:42.606265Z",
     "iopub.status.idle": "2022-09-16T16:30:42.695083Z",
     "shell.execute_reply": "2022-09-16T16:30:42.694715Z",
     "shell.execute_reply.started": "2022-09-16T16:30:42.606532Z"
    },
    "tags": []
   },
   "outputs": [],
   "source": [
    "del encoder\n",
    "gc.collect()\n",
    "# print(sys.getrefcount(identifier))\n",
    "# dir(__main__)"
   ]
  },
  {
   "cell_type": "code",
   "execution_count": null,
   "id": "7ac5fd64-1d79-47bd-a57f-2ac4d5ec8aa0",
   "metadata": {},
   "outputs": [],
   "source": [
    "e"
   ]
  },
  {
   "cell_type": "code",
   "execution_count": null,
   "id": "0b4c45f1-799a-4220-8fb1-ca6539321c2a",
   "metadata": {
    "execution": {
     "iopub.execute_input": "2022-09-16T03:04:49.198189Z",
     "iopub.status.busy": "2022-09-16T03:04:49.198020Z",
     "iopub.status.idle": "2022-09-16T03:04:49.200573Z",
     "shell.execute_reply": "2022-09-16T03:04:49.200298Z",
     "shell.execute_reply.started": "2022-09-16T03:04:49.198176Z"
    },
    "tags": []
   },
   "outputs": [],
   "source": [
    "def doit():\n",
    "    encoder = TupleSplitter({\"a\": [0, 1], \"b\": [2]})\n",
    "    groups1 = encoder((\"foo1\", \"bar1\", \"baz1\"))\n",
    "    groups2 = encoder((\"foo2\", \"bar2\", \"baz2\"))\n",
    "    # pickle1 = pickle.dumps(groups1)\n",
    "    # pickle2 = pickle.dumps(groups2)\n",
    "    # tuple1 = pickle.loads(pickle1)\n",
    "    # tuple2 = pickle.loads(pickle2)"
   ]
  },
  {
   "cell_type": "code",
   "execution_count": null,
   "id": "9a641eec-0398-43c9-9334-d1e3daa6a29c",
   "metadata": {
    "execution": {
     "iopub.execute_input": "2022-09-16T03:04:49.840530Z",
     "iopub.status.busy": "2022-09-16T03:04:49.840064Z",
     "iopub.status.idle": "2022-09-16T03:04:49.842313Z",
     "shell.execute_reply": "2022-09-16T03:04:49.842031Z",
     "shell.execute_reply.started": "2022-09-16T03:04:49.840512Z"
    },
    "tags": []
   },
   "outputs": [],
   "source": [
    "from tqdm.autonotebook import trange"
   ]
  },
  {
   "cell_type": "code",
   "execution_count": null,
   "id": "d845ab4f-f895-479f-aafb-ecc799cbdd1b",
   "metadata": {
    "execution": {
     "iopub.execute_input": "2022-09-16T03:04:50.489316Z",
     "iopub.status.busy": "2022-09-16T03:04:50.488886Z",
     "iopub.status.idle": "2022-09-16T03:04:50.491068Z",
     "shell.execute_reply": "2022-09-16T03:04:50.490766Z",
     "shell.execute_reply.started": "2022-09-16T03:04:50.489302Z"
    },
    "tags": []
   },
   "outputs": [],
   "source": [
    "import os\n",
    "import time\n",
    "\n",
    "import psutil"
   ]
  },
  {
   "cell_type": "code",
   "execution_count": null,
   "id": "5215a173-687c-4dd9-bd28-dea571cf3c00",
   "metadata": {
    "execution": {
     "iopub.execute_input": "2022-09-16T03:05:16.839675Z",
     "iopub.status.busy": "2022-09-16T03:05:16.839509Z",
     "iopub.status.idle": "2022-09-16T03:05:24.684382Z",
     "shell.execute_reply": "2022-09-16T03:05:24.683915Z",
     "shell.execute_reply.started": "2022-09-16T03:05:16.839663Z"
    },
    "tags": []
   },
   "outputs": [],
   "source": [
    "for k in (pbar := trange(1_000_000)):\n",
    "    doit()\n",
    "    if k % 10_000 == 0:\n",
    "        process = psutil.Process(os.getpid())\n",
    "        memory = process.memory_info().rss  # in bytes\n",
    "        pbar.set_postfix(memory=f\"{memory // 1024**2} MiB\")"
   ]
  },
  {
   "cell_type": "code",
   "execution_count": null,
   "id": "face0df9-081d-4932-b4f3-b5676cbef25c",
   "metadata": {},
   "outputs": [],
   "source": [
    "import copyreg\n",
    "import pickle\n",
    "from collections import namedtuple\n",
    "from collections.abc import Iterable, Iterator, Mapping, Sequence\n",
    "from typing import Any, Optional\n",
    "\n",
    "import torch\n",
    "from pandas import DataFrame, MultiIndex, Series\n",
    "from torch import Tensor\n",
    "from torch.utils.data import DataLoader, Dataset\n",
    "\n",
    "from tsdm.utils.strings import repr_mapping"
   ]
  },
  {
   "cell_type": "code",
   "execution_count": null,
   "id": "4f2a15b0-7a1d-4508-9d7e-764cc08e62b0",
   "metadata": {
    "execution": {
     "iopub.execute_input": "2022-09-16T01:55:27.877967Z",
     "iopub.status.busy": "2022-09-16T01:55:27.877790Z",
     "iopub.status.idle": "2022-09-16T01:55:27.882213Z",
     "shell.execute_reply": "2022-09-16T01:55:27.881844Z",
     "shell.execute_reply.started": "2022-09-16T01:55:27.877955Z"
    },
    "tags": []
   },
   "outputs": [],
   "source": [
    "class TupleDataset(Dataset[tuple[Tensor, ...]]):\n",
    "    r\"\"\"Sequential Dataset.\"\"\"\n",
    "\n",
    "    def __init__(\n",
    "        self,\n",
    "        **tensors: dict[str, Tensor],\n",
    "    ):\n",
    "\n",
    "        first = next(iter(tensors.values()))\n",
    "        self.LEN = len(first)\n",
    "\n",
    "        assert all(len(tensor) == len(first) for tensor in tensors.values())\n",
    "\n",
    "        self.tensors = tensors\n",
    "        self.tuple = namedtuple(\"Sample\", tensors.keys())\n",
    "        # copyreg.pickle(self.tuple, namedtuple)\n",
    "        # copyreg.constructor(self.tuple)\n",
    "\n",
    "        tuple_name = f\"{self.tuple.__name__}\"  # {hash(self.tuple)}\"\n",
    "        tuple_qualname = f\"{self.tuple.__name__}{hash(self.tuple)}\"\n",
    "        self.tuple.__qualname__ = tuple_qualname\n",
    "\n",
    "        if tuple_qualname in globals():\n",
    "            raise RuntimeError(\n",
    "                f\"A class of name '{tuple_name}' already present in globals!!\"\n",
    "            )\n",
    "        globals()[tuple_qualname] = self.tuple\n",
    "\n",
    "    def __len__(self):\n",
    "        r\"\"\"Length of the dataset.\"\"\"\n",
    "        return self.LEN\n",
    "\n",
    "    def __getitem__(self, idx) -> tuple[Tensor, ...]:\n",
    "        r\"\"\"Get the same slice from each tensor.\"\"\"\n",
    "        return self.tuple(**{key: tensor[idx] for key, tensor in self.tensors.items()})"
   ]
  },
  {
   "cell_type": "code",
   "execution_count": null,
   "id": "352628cd-31e3-4768-b81f-cb819d588d7b",
   "metadata": {
    "execution": {
     "iopub.execute_input": "2022-09-16T01:55:29.731888Z",
     "iopub.status.busy": "2022-09-16T01:55:29.731561Z",
     "iopub.status.idle": "2022-09-16T01:55:29.750402Z",
     "shell.execute_reply": "2022-09-16T01:55:29.750108Z",
     "shell.execute_reply.started": "2022-09-16T01:55:29.731875Z"
    },
    "tags": []
   },
   "outputs": [],
   "source": [
    "t = torch.randn(100)\n",
    "x = torch.randn(100, 5)"
   ]
  },
  {
   "cell_type": "code",
   "execution_count": null,
   "id": "f8ed8950-a415-472f-80de-afa278ce51c4",
   "metadata": {
    "execution": {
     "iopub.execute_input": "2022-09-16T01:55:29.973582Z",
     "iopub.status.busy": "2022-09-16T01:55:29.973284Z",
     "iopub.status.idle": "2022-09-16T01:55:30.073830Z",
     "shell.execute_reply": "2022-09-16T01:55:30.073385Z",
     "shell.execute_reply.started": "2022-09-16T01:55:29.973568Z"
    },
    "tags": []
   },
   "outputs": [],
   "source": [
    "ds = TupleDataset(t=t, x=x)\n",
    "sample = next(iter(ds))\n",
    "pickle.dumps(sample)\n",
    "dloader = DataLoader(ds, batch_size=10, num_workers=5)\n",
    "iloader = iter(dloader)\n",
    "first = next(iloader)\n",
    "second = next(iloader)\n",
    "\n",
    "for sample in iloader:\n",
    "    pass\n",
    "\n",
    "type(first), type(second), type(sample)"
   ]
  }
 ],
 "metadata": {
  "kernelspec": {
   "display_name": "Python 3 (ipykernel)",
   "language": "python",
   "name": "python3"
  },
  "language_info": {
   "codemirror_mode": {
    "name": "ipython",
    "version": 3
   },
   "file_extension": ".py",
   "mimetype": "text/x-python",
   "name": "python",
   "nbconvert_exporter": "python",
   "pygments_lexer": "ipython3",
   "version": "3.10.6"
  }
 },
 "nbformat": 4,
 "nbformat_minor": 5
}
