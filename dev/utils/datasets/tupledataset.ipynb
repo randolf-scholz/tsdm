{
 "cells": [
  {
   "cell_type": "code",
   "execution_count": null,
   "id": "864d24a1-42c7-411e-af2a-8566e458038a",
   "metadata": {
    "execution": {
     "iopub.execute_input": "2022-09-19T12:27:58.783411Z",
     "iopub.status.busy": "2022-09-19T12:27:58.783200Z",
     "iopub.status.idle": "2022-09-19T12:27:58.788574Z",
     "shell.execute_reply": "2022-09-19T12:27:58.787819Z",
     "shell.execute_reply.started": "2022-09-19T12:27:58.783362Z"
    },
    "tags": []
   },
   "outputs": [],
   "source": [
    "from __future__ import annotations\n",
    "\n",
    "from abc import ABC, abstractmethod, abstractproperty\n",
    "from collections import namedtuple\n",
    "from typing import NamedTuple, Protocol, TypeVar"
   ]
  },
  {
   "cell_type": "code",
   "execution_count": null,
   "id": "1a567274-b2d0-48ef-9296-c3dd1214fd52",
   "metadata": {
    "execution": {
     "iopub.execute_input": "2022-09-16T17:23:48.838063Z",
     "iopub.status.busy": "2022-09-16T17:23:48.837803Z",
     "iopub.status.idle": "2022-09-16T17:23:48.854980Z",
     "shell.execute_reply": "2022-09-16T17:23:48.854391Z",
     "shell.execute_reply.started": "2022-09-16T17:23:48.838035Z"
    },
    "tags": []
   },
   "outputs": [],
   "source": [
    "T = TypeVar(\"T\")\n",
    "\n",
    "\n",
    "class _NamedTuple(tuple[T, ...], ABC):\n",
    "    r\"\"\"To check for namedtuple.\"\"\"\n",
    "    __slots__ = ()\n",
    "\n",
    "    @classmethod\n",
    "    @abstractmethod\n",
    "    def _make(cls, iterable) -> _NamedTuple[T, ...]:\n",
    "        ...\n",
    "\n",
    "    @abstractmethod\n",
    "    def _replace(self, /, **kwds) -> None:\n",
    "        ...\n",
    "\n",
    "    @property\n",
    "    @abstractmethod\n",
    "    def _fields(self) -> tuple[T, ...]:\n",
    "        ...\n",
    "\n",
    "    @property\n",
    "    @abstractmethod\n",
    "    def _field_defaults(self) -> dict[str, T]:\n",
    "        ...\n",
    "\n",
    "    @abstractmethod\n",
    "    def _asdict(self) -> dict[str, T]:\n",
    "        ..."
   ]
  },
  {
   "cell_type": "code",
   "execution_count": null,
   "id": "1d8adf0a-a484-4911-b4d9-ccf9579d588d",
   "metadata": {
    "execution": {
     "iopub.execute_input": "2022-09-16T17:23:48.855894Z",
     "iopub.status.busy": "2022-09-16T17:23:48.855690Z",
     "iopub.status.idle": "2022-09-16T17:23:48.862079Z",
     "shell.execute_reply": "2022-09-16T17:23:48.861479Z",
     "shell.execute_reply.started": "2022-09-16T17:23:48.855877Z"
    },
    "tags": []
   },
   "outputs": [],
   "source": [
    "def register_namedtuple(obj, fields: list[str], /, *, name: str):\n",
    "\n",
    "    if not name.isidentifier():\n",
    "        raise ValueError(f\"{name} is not a valid identifier!\")\n",
    "\n",
    "    obj._tuple = namedtuple(name, fields)\n",
    "    _NamedTuple.register(obj._tuple)"
   ]
  },
  {
   "cell_type": "code",
   "execution_count": null,
   "id": "7edcad7c-debf-4980-b131-8aa6d66e686e",
   "metadata": {
    "execution": {
     "iopub.execute_input": "2022-09-16T17:23:48.863389Z",
     "iopub.status.busy": "2022-09-16T17:23:48.863117Z",
     "iopub.status.idle": "2022-09-16T17:23:48.869201Z",
     "shell.execute_reply": "2022-09-16T17:23:48.868730Z",
     "shell.execute_reply.started": "2022-09-16T17:23:48.863362Z"
    },
    "tags": []
   },
   "outputs": [],
   "source": [
    "class Foo:\n",
    "    _tuple: NamedTuple[str, ...]\n",
    "\n",
    "    def __init__(self, fields: list[str]):\n",
    "        register_namedtuple(self, fields, name=\"FooTuple\")"
   ]
  },
  {
   "cell_type": "code",
   "execution_count": null,
   "id": "4e726583-79f1-4855-853d-5f6c0489fe25",
   "metadata": {
    "execution": {
     "iopub.execute_input": "2022-09-16T17:23:54.953031Z",
     "iopub.status.busy": "2022-09-16T17:23:54.952741Z",
     "iopub.status.idle": "2022-09-16T17:23:54.956503Z",
     "shell.execute_reply": "2022-09-16T17:23:54.955627Z",
     "shell.execute_reply.started": "2022-09-16T17:23:54.953006Z"
    },
    "tags": []
   },
   "outputs": [],
   "source": [
    "foo = Foo([\"a\", \"b\", \"c\"])\n",
    "FooTup = foo._tuple\n",
    "footup = foo._tuple(1, 2, 3)"
   ]
  },
  {
   "cell_type": "code",
   "execution_count": null,
   "id": "5719c556-c86f-4341-a1f7-f1a6037e2282",
   "metadata": {
    "execution": {
     "iopub.execute_input": "2022-09-16T17:23:55.778077Z",
     "iopub.status.busy": "2022-09-16T17:23:55.777841Z",
     "iopub.status.idle": "2022-09-16T17:23:55.781814Z",
     "shell.execute_reply": "2022-09-16T17:23:55.781020Z",
     "shell.execute_reply.started": "2022-09-16T17:23:55.778065Z"
    },
    "tags": []
   },
   "outputs": [],
   "source": [
    "assert isinstance(footup, tuple)\n",
    "assert issubclass(FooTup, tuple)\n",
    "assert isinstance(footup, _NamedTuple)\n",
    "assert issubclass(FooTup, _NamedTuple)"
   ]
  },
  {
   "cell_type": "code",
   "execution_count": null,
   "id": "0414d83c-3808-42be-9aab-7f25d91fd316",
   "metadata": {
    "execution": {
     "iopub.execute_input": "2022-09-16T18:57:25.119400Z",
     "iopub.status.busy": "2022-09-16T18:57:25.119203Z",
     "iopub.status.idle": "2022-09-16T18:57:25.142303Z",
     "shell.execute_reply": "2022-09-16T18:57:25.141632Z",
     "shell.execute_reply.started": "2022-09-16T18:57:25.119388Z"
    },
    "tags": []
   },
   "outputs": [],
   "source": [
    "import gc\n",
    "import pickle\n",
    "import sys"
   ]
  },
  {
   "cell_type": "code",
   "execution_count": null,
   "id": "7ff0867a-353d-4379-8d6d-4fa1f4e6653f",
   "metadata": {
    "execution": {
     "iopub.execute_input": "2022-09-16T19:01:14.909830Z",
     "iopub.status.busy": "2022-09-16T19:01:14.909714Z",
     "iopub.status.idle": "2022-09-16T19:01:14.919675Z",
     "shell.execute_reply": "2022-09-16T19:01:14.919310Z",
     "shell.execute_reply.started": "2022-09-16T19:01:14.909796Z"
    },
    "tags": []
   },
   "outputs": [],
   "source": [
    "from collections import namedtuple\n",
    "\n",
    "\n",
    "class ClassWithTuple:\n",
    "    tuple_id: str\n",
    "    tuple_type: type[tuple]\n",
    "\n",
    "    def __init__(self, name: str, fields: list[str]) -> None:\n",
    "        self.tuple_type = namedtuple(name, fields)\n",
    "        self.tuple_id = f\"_{name}_{self.__class__.__name__}_{hash(self)}\"\n",
    "        self.tuple_type.__qualname__ = self.tuple_id\n",
    "\n",
    "        if self.tuple_id in globals():\n",
    "            raise RuntimeError(f\"A class '{self.tuple_id}' exists!\")\n",
    "        globals()[self.tuple_id] = self.tuple_id\n",
    "\n",
    "    def __del__(self):\n",
    "        del globals()[self.tuple_id]\n",
    "        del self\n",
    "\n",
    "\n",
    "obj = ClassWithTuple(\"FooTuple\", [\"a\", \"b\", \"c\"])\n",
    "obj.tuple_type(1, 2, 3)"
   ]
  },
  {
   "cell_type": "code",
   "execution_count": null,
   "id": "54c5196e-59a7-482b-b6d9-047afd25fd70",
   "metadata": {
    "execution": {
     "iopub.execute_input": "2022-09-16T19:03:22.161298Z",
     "iopub.status.busy": "2022-09-16T19:03:22.161104Z",
     "iopub.status.idle": "2022-09-16T19:03:22.164677Z",
     "shell.execute_reply": "2022-09-16T19:03:22.164223Z",
     "shell.execute_reply.started": "2022-09-16T19:03:22.161286Z"
    }
   },
   "outputs": [],
   "source": [
    "class ClassWithTuple:\n",
    "    tuple_id: str\n",
    "    tuple_type: type[tuple]\n",
    "\n",
    "    def __init__(self, name: str, fields: list[str]) -> None:\n",
    "        self.a, self.b = 1, 2\n",
    "        register_tuple(self, name, fields)"
   ]
  },
  {
   "cell_type": "code",
   "execution_count": null,
   "id": "721dcc08-5912-4e29-bfe3-0086b6b2a980",
   "metadata": {
    "execution": {
     "iopub.execute_input": "2022-09-16T19:03:37.665638Z",
     "iopub.status.busy": "2022-09-16T19:03:37.664908Z",
     "iopub.status.idle": "2022-09-16T19:03:37.669027Z",
     "shell.execute_reply": "2022-09-16T19:03:37.668482Z",
     "shell.execute_reply.started": "2022-09-16T19:03:37.665623Z"
    },
    "tags": []
   },
   "outputs": [],
   "source": [
    "ClassWithTuple(1, 2).b"
   ]
  },
  {
   "cell_type": "code",
   "execution_count": null,
   "id": "9f026151-7b94-4ce1-9c98-284ee3781da1",
   "metadata": {
    "execution": {
     "iopub.execute_input": "2022-09-16T18:57:43.055091Z",
     "iopub.status.busy": "2022-09-16T18:57:43.054855Z",
     "iopub.status.idle": "2022-09-16T18:57:43.076222Z",
     "shell.execute_reply": "2022-09-16T18:57:43.075645Z",
     "shell.execute_reply.started": "2022-09-16T18:57:43.055075Z"
    },
    "tags": []
   },
   "outputs": [],
   "source": [
    "groups1 = obj((\"foo1\", \"bar1\", \"baz1\"))\n",
    "groups2 = obj((\"foo2\", \"bar2\", \"baz2\"))\n",
    "pickle1 = pickle.dumps(groups1)\n",
    "pickle2 = pickle.dumps(groups2)\n",
    "tuple1 = pickle.loads(pickle1)\n",
    "tuple2 = pickle.loads(pickle2)\n",
    "assert type(groups1) == type(groups2)\n",
    "assert type(tuple1) == type(tuple2)\n",
    "assert type(tuple1) == type(groups1)\n",
    "assert tuple1 == groups1"
   ]
  },
  {
   "cell_type": "code",
   "execution_count": null,
   "id": "2c9e98e9-61bd-4b88-9ae0-82e43dc543e8",
   "metadata": {
    "execution": {
     "iopub.execute_input": "2022-09-16T18:40:39.060075Z",
     "iopub.status.busy": "2022-09-16T18:40:39.059826Z",
     "iopub.status.idle": "2022-09-16T18:40:39.063662Z",
     "shell.execute_reply": "2022-09-16T18:40:39.063324Z",
     "shell.execute_reply.started": "2022-09-16T18:40:39.060043Z"
    },
    "tags": []
   },
   "outputs": [],
   "source": [
    "encoder.__del__"
   ]
  },
  {
   "cell_type": "code",
   "execution_count": null,
   "id": "b66c8ff6-3b4e-448f-9b49-3f47ef6d09f3",
   "metadata": {
    "execution": {
     "iopub.execute_input": "2022-09-16T18:35:57.607654Z",
     "iopub.status.busy": "2022-09-16T18:35:57.606791Z",
     "iopub.status.idle": "2022-09-16T18:35:57.610482Z",
     "shell.execute_reply": "2022-09-16T18:35:57.609913Z",
     "shell.execute_reply.started": "2022-09-16T18:35:57.607627Z"
    }
   },
   "outputs": [],
   "source": [
    "o = object()"
   ]
  },
  {
   "cell_type": "code",
   "execution_count": null,
   "id": "3af0f7e5-c13b-49ab-9713-b228e5614043",
   "metadata": {
    "execution": {
     "iopub.execute_input": "2022-09-16T18:36:07.880531Z",
     "iopub.status.busy": "2022-09-16T18:36:07.880240Z",
     "iopub.status.idle": "2022-09-16T18:36:07.890248Z",
     "shell.execute_reply": "2022-09-16T18:36:07.889673Z",
     "shell.execute_reply.started": "2022-09-16T18:36:07.880503Z"
    },
    "tags": []
   },
   "outputs": [],
   "source": [
    "type(o).__del__"
   ]
  },
  {
   "cell_type": "code",
   "execution_count": null,
   "id": "5e62b65c-bfbf-4209-bf75-1358813e01fa",
   "metadata": {
    "execution": {
     "iopub.execute_input": "2022-09-16T18:30:09.925988Z",
     "iopub.status.busy": "2022-09-16T18:30:09.925804Z",
     "iopub.status.idle": "2022-09-16T18:30:09.928953Z",
     "shell.execute_reply": "2022-09-16T18:30:09.928390Z",
     "shell.execute_reply.started": "2022-09-16T18:30:09.925976Z"
    }
   },
   "outputs": [],
   "source": [
    "x = 2"
   ]
  },
  {
   "cell_type": "code",
   "execution_count": null,
   "id": "39a834ae-54f6-4f5c-b427-cc6fc3168148",
   "metadata": {
    "execution": {
     "iopub.execute_input": "2022-09-16T16:31:23.875314Z",
     "iopub.status.busy": "2022-09-16T16:31:23.875037Z",
     "iopub.status.idle": "2022-09-16T16:31:23.879295Z",
     "shell.execute_reply": "2022-09-16T16:31:23.878738Z",
     "shell.execute_reply.started": "2022-09-16T16:31:23.875293Z"
    },
    "tags": []
   },
   "outputs": [],
   "source": [
    "encoder((1, 2, 3))"
   ]
  },
  {
   "cell_type": "code",
   "execution_count": null,
   "id": "11e8dc08-587d-48c5-a9a2-ea4693e5b57a",
   "metadata": {
    "execution": {
     "iopub.execute_input": "2022-09-16T16:30:42.606554Z",
     "iopub.status.busy": "2022-09-16T16:30:42.606265Z",
     "iopub.status.idle": "2022-09-16T16:30:42.695083Z",
     "shell.execute_reply": "2022-09-16T16:30:42.694715Z",
     "shell.execute_reply.started": "2022-09-16T16:30:42.606532Z"
    },
    "tags": []
   },
   "outputs": [],
   "source": [
    "del encoder\n",
    "gc.collect()\n",
    "# print(sys.getrefcount(identifier))\n",
    "# dir(__main__)"
   ]
  },
  {
   "cell_type": "code",
   "execution_count": null,
   "id": "7ac5fd64-1d79-47bd-a57f-2ac4d5ec8aa0",
   "metadata": {},
   "outputs": [],
   "source": [
    "e"
   ]
  },
  {
   "cell_type": "code",
   "execution_count": null,
   "id": "0b4c45f1-799a-4220-8fb1-ca6539321c2a",
   "metadata": {
    "execution": {
     "iopub.execute_input": "2022-09-16T03:04:49.198189Z",
     "iopub.status.busy": "2022-09-16T03:04:49.198020Z",
     "iopub.status.idle": "2022-09-16T03:04:49.200573Z",
     "shell.execute_reply": "2022-09-16T03:04:49.200298Z",
     "shell.execute_reply.started": "2022-09-16T03:04:49.198176Z"
    },
    "tags": []
   },
   "outputs": [],
   "source": [
    "def doit():\n",
    "    encoder = TupleSplitter({\"a\": [0, 1], \"b\": [2]})\n",
    "    groups1 = encoder((\"foo1\", \"bar1\", \"baz1\"))\n",
    "    groups2 = encoder((\"foo2\", \"bar2\", \"baz2\"))\n",
    "    # pickle1 = pickle.dumps(groups1)\n",
    "    # pickle2 = pickle.dumps(groups2)\n",
    "    # tuple1 = pickle.loads(pickle1)\n",
    "    # tuple2 = pickle.loads(pickle2)"
   ]
  },
  {
   "cell_type": "code",
   "execution_count": null,
   "id": "9a641eec-0398-43c9-9334-d1e3daa6a29c",
   "metadata": {
    "execution": {
     "iopub.execute_input": "2022-09-16T03:04:49.840530Z",
     "iopub.status.busy": "2022-09-16T03:04:49.840064Z",
     "iopub.status.idle": "2022-09-16T03:04:49.842313Z",
     "shell.execute_reply": "2022-09-16T03:04:49.842031Z",
     "shell.execute_reply.started": "2022-09-16T03:04:49.840512Z"
    },
    "tags": []
   },
   "outputs": [],
   "source": [
    "from tqdm.autonotebook import trange"
   ]
  },
  {
   "cell_type": "code",
   "execution_count": null,
   "id": "d845ab4f-f895-479f-aafb-ecc799cbdd1b",
   "metadata": {
    "execution": {
     "iopub.execute_input": "2022-09-16T03:04:50.489316Z",
     "iopub.status.busy": "2022-09-16T03:04:50.488886Z",
     "iopub.status.idle": "2022-09-16T03:04:50.491068Z",
     "shell.execute_reply": "2022-09-16T03:04:50.490766Z",
     "shell.execute_reply.started": "2022-09-16T03:04:50.489302Z"
    },
    "tags": []
   },
   "outputs": [],
   "source": [
    "import os\n",
    "import time\n",
    "\n",
    "import psutil"
   ]
  },
  {
   "cell_type": "code",
   "execution_count": null,
   "id": "5215a173-687c-4dd9-bd28-dea571cf3c00",
   "metadata": {
    "execution": {
     "iopub.execute_input": "2022-09-16T03:05:16.839675Z",
     "iopub.status.busy": "2022-09-16T03:05:16.839509Z",
     "iopub.status.idle": "2022-09-16T03:05:24.684382Z",
     "shell.execute_reply": "2022-09-16T03:05:24.683915Z",
     "shell.execute_reply.started": "2022-09-16T03:05:16.839663Z"
    },
    "tags": []
   },
   "outputs": [],
   "source": [
    "for k in (pbar := trange(1_000_000)):\n",
    "    doit()\n",
    "    if k % 10_000 == 0:\n",
    "        process = psutil.Process(os.getpid())\n",
    "        memory = process.memory_info().rss  # in bytes\n",
    "        pbar.set_postfix(memory=f\"{memory // 1024**2} MiB\")"
   ]
  },
  {
   "cell_type": "code",
   "execution_count": null,
   "id": "face0df9-081d-4932-b4f3-b5676cbef25c",
   "metadata": {},
   "outputs": [],
   "source": [
    "import copyreg\n",
    "import pickle\n",
    "from collections import namedtuple\n",
    "from collections.abc import Iterable, Iterator, Mapping, Sequence\n",
    "from typing import Any, Optional\n",
    "\n",
    "import torch\n",
    "from pandas import DataFrame, MultiIndex, Series\n",
    "from torch import Tensor\n",
    "from torch.utils.data import DataLoader, Dataset\n",
    "\n",
    "from tsdm.utils.strings import repr_mapping"
   ]
  },
  {
   "cell_type": "code",
   "execution_count": null,
   "id": "4f2a15b0-7a1d-4508-9d7e-764cc08e62b0",
   "metadata": {
    "execution": {
     "iopub.execute_input": "2022-09-16T01:55:27.877967Z",
     "iopub.status.busy": "2022-09-16T01:55:27.877790Z",
     "iopub.status.idle": "2022-09-16T01:55:27.882213Z",
     "shell.execute_reply": "2022-09-16T01:55:27.881844Z",
     "shell.execute_reply.started": "2022-09-16T01:55:27.877955Z"
    },
    "tags": []
   },
   "outputs": [],
   "source": [
    "class TupleDataset(Dataset[tuple[Tensor, ...]]):\n",
    "    r\"\"\"Sequential Dataset.\"\"\"\n",
    "\n",
    "    def __init__(\n",
    "        self,\n",
    "        **tensors: dict[str, Tensor],\n",
    "    ):\n",
    "\n",
    "        first = next(iter(tensors.values()))\n",
    "        self.LEN = len(first)\n",
    "\n",
    "        assert all(len(tensor) == len(first) for tensor in tensors.values())\n",
    "\n",
    "        self.tensors = tensors\n",
    "        self.tuple = namedtuple(\"Sample\", tensors.keys())\n",
    "        # copyreg.pickle(self.tuple, namedtuple)\n",
    "        # copyreg.constructor(self.tuple)\n",
    "\n",
    "        tuple_name = f\"{self.tuple.__name__}\"  # {hash(self.tuple)}\"\n",
    "        tuple_qualname = f\"{self.tuple.__name__}{hash(self.tuple)}\"\n",
    "        self.tuple.__qualname__ = tuple_qualname\n",
    "\n",
    "        if tuple_qualname in globals():\n",
    "            raise RuntimeError(\n",
    "                f\"A class of name '{tuple_name}' already present in globals!!\"\n",
    "            )\n",
    "        globals()[tuple_qualname] = self.tuple\n",
    "\n",
    "    def __len__(self):\n",
    "        r\"\"\"Length of the dataset.\"\"\"\n",
    "        return self.LEN\n",
    "\n",
    "    def __getitem__(self, idx) -> tuple[Tensor, ...]:\n",
    "        r\"\"\"Get the same slice from each tensor.\"\"\"\n",
    "        return self.tuple(**{key: tensor[idx] for key, tensor in self.tensors.items()})"
   ]
  },
  {
   "cell_type": "code",
   "execution_count": null,
   "id": "352628cd-31e3-4768-b81f-cb819d588d7b",
   "metadata": {
    "execution": {
     "iopub.execute_input": "2022-09-16T01:55:29.731888Z",
     "iopub.status.busy": "2022-09-16T01:55:29.731561Z",
     "iopub.status.idle": "2022-09-16T01:55:29.750402Z",
     "shell.execute_reply": "2022-09-16T01:55:29.750108Z",
     "shell.execute_reply.started": "2022-09-16T01:55:29.731875Z"
    },
    "tags": []
   },
   "outputs": [],
   "source": [
    "t = torch.randn(100)\n",
    "x = torch.randn(100, 5)"
   ]
  },
  {
   "cell_type": "code",
   "execution_count": null,
   "id": "f8ed8950-a415-472f-80de-afa278ce51c4",
   "metadata": {
    "execution": {
     "iopub.execute_input": "2022-09-16T01:55:29.973582Z",
     "iopub.status.busy": "2022-09-16T01:55:29.973284Z",
     "iopub.status.idle": "2022-09-16T01:55:30.073830Z",
     "shell.execute_reply": "2022-09-16T01:55:30.073385Z",
     "shell.execute_reply.started": "2022-09-16T01:55:29.973568Z"
    },
    "tags": []
   },
   "outputs": [],
   "source": [
    "ds = TupleDataset(t=t, x=x)\n",
    "sample = next(iter(ds))\n",
    "pickle.dumps(sample)\n",
    "dloader = DataLoader(ds, batch_size=10, num_workers=5)\n",
    "iloader = iter(dloader)\n",
    "first = next(iloader)\n",
    "second = next(iloader)\n",
    "\n",
    "for sample in iloader:\n",
    "    pass\n",
    "\n",
    "type(first), type(second), type(sample)"
   ]
  },
  {
   "cell_type": "code",
   "execution_count": null,
   "id": "8987aa8c-f6e6-4b62-8e6b-f34cddb093f4",
   "metadata": {
    "execution": {
     "iopub.execute_input": "2022-09-17T22:28:45.550148Z",
     "iopub.status.busy": "2022-09-17T22:28:45.549977Z",
     "iopub.status.idle": "2022-09-17T22:28:45.552116Z",
     "shell.execute_reply": "2022-09-17T22:28:45.551849Z",
     "shell.execute_reply.started": "2022-09-17T22:28:45.550136Z"
    },
    "tags": []
   },
   "outputs": [],
   "source": [
    "from tsdm.datasets import Electricity, Traffic"
   ]
  },
  {
   "cell_type": "code",
   "execution_count": null,
   "id": "5647a854-9d25-41cf-9d3f-96b29a7b8706",
   "metadata": {
    "execution": {
     "iopub.execute_input": "2022-09-17T22:29:06.399272Z",
     "iopub.status.busy": "2022-09-17T22:29:06.398831Z",
     "iopub.status.idle": "2022-09-17T22:29:06.517478Z",
     "shell.execute_reply": "2022-09-17T22:29:06.517136Z",
     "shell.execute_reply.started": "2022-09-17T22:29:06.399258Z"
    },
    "tags": []
   },
   "outputs": [],
   "source": [
    "ds = Traffic()"
   ]
  },
  {
   "cell_type": "code",
   "execution_count": null,
   "id": "18cb609f-2b62-4fba-9600-db8060192c9e",
   "metadata": {
    "execution": {
     "iopub.execute_input": "2022-09-17T22:29:09.953108Z",
     "iopub.status.busy": "2022-09-17T22:29:09.952882Z",
     "iopub.status.idle": "2022-09-17T22:29:09.969057Z",
     "shell.execute_reply": "2022-09-17T22:29:09.968674Z",
     "shell.execute_reply.started": "2022-09-17T22:29:09.953096Z"
    }
   },
   "outputs": [],
   "source": [
    "ds.timeseries"
   ]
  },
  {
   "cell_type": "code",
   "execution_count": null,
   "id": "6e386509-80ed-4e12-8130-8baa5b64a3ab",
   "metadata": {},
   "outputs": [],
   "source": []
  }
 ],
 "metadata": {
  "kernelspec": {
   "display_name": "Python 3 (ipykernel)",
   "language": "python",
   "name": "python3"
  },
  "language_info": {
   "codemirror_mode": {
    "name": "ipython",
    "version": 3
   },
   "file_extension": ".py",
   "mimetype": "text/x-python",
   "name": "python",
   "nbconvert_exporter": "python",
   "pygments_lexer": "ipython3",
   "version": "3.10.6"
  }
 },
 "nbformat": 4,
 "nbformat_minor": 5
}
