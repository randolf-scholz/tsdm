{
 "cells": [
  {
   "cell_type": "code",
   "execution_count": null,
   "id": "52ebd821-8435-435d-b1df-fad7ced2f327",
   "metadata": {
    "execution": {
     "iopub.execute_input": "2022-09-16T03:08:25.327557Z",
     "iopub.status.busy": "2022-09-16T03:08:25.327425Z",
     "iopub.status.idle": "2022-09-16T03:08:25.794074Z",
     "shell.execute_reply": "2022-09-16T03:08:25.793645Z",
     "shell.execute_reply.started": "2022-09-16T03:08:25.327524Z"
    },
    "tags": []
   },
   "outputs": [],
   "source": [
    "import pickle\n",
    "from collections import namedtuple\n",
    "\n",
    "\n",
    "class TupleSplitter:\n",
    "    r\"\"\"Splits a tuple into namedtuple, given by the groups.\"\"\"\n",
    "\n",
    "    def __init__(self, groups: dict[str, list[int]], *, name=\"Groups\"):\n",
    "        self.groups = groups\n",
    "        self.tuple = namedtuple(name, groups)\n",
    "\n",
    "        # create a unique identifier and store it in globals\n",
    "        self.identifier = f\"_{self.tuple.__name__}_{hash(self)}\"\n",
    "        self.tuple.__qualname__ = self.identifier\n",
    "\n",
    "        if self.identifier in globals():\n",
    "            raise RuntimeError(f\"A class of name '{self.identifier}' exists!!\")\n",
    "        globals()[self.identifier] = self.tuple\n",
    "\n",
    "    def __call__(self, x: tuple) -> tuple:\n",
    "        return self.tuple(\n",
    "            **{key: tuple(x[k] for k in group) for key, group in self.groups.items()}\n",
    "        )\n",
    "\n",
    "    def __del__(self):\n",
    "        \"\"\"Delete the globals entry when the class instance is deleted.\"\"\"\n",
    "        identifier = self.tuple.__qualname__\n",
    "        if identifier not in globals():\n",
    "            raise RuntimeError(f\"'{identifier}' was already purged!\")\n",
    "        del globals()[identifier]\n",
    "        del self\n",
    "\n",
    "\n",
    "encoder = TupleSplitter({\"a\": [0, 1], \"b\": [2]})\n",
    "groups1 = encoder((\"foo1\", \"bar1\", \"baz1\"))\n",
    "groups2 = encoder((\"foo2\", \"bar2\", \"baz2\"))\n",
    "pickle1 = pickle.dumps(groups1)\n",
    "pickle2 = pickle.dumps(groups2)\n",
    "tuple1 = pickle.loads(pickle1)\n",
    "tuple2 = pickle.loads(pickle2)\n",
    "assert type(groups1) == type(groups2)\n",
    "assert type(tuple1) == type(tuple2)\n",
    "assert type(tuple1) == type(groups1)\n",
    "assert tuple1 == groups1\n",
    "\n",
    "del encoder\n",
    "gc.collect()\n",
    "print(sys.getrefcount(identifier))\n",
    "dir(__main__)"
   ]
  },
  {
   "cell_type": "code",
   "execution_count": null,
   "id": "0b4c45f1-799a-4220-8fb1-ca6539321c2a",
   "metadata": {
    "execution": {
     "iopub.execute_input": "2022-09-16T03:04:49.198189Z",
     "iopub.status.busy": "2022-09-16T03:04:49.198020Z",
     "iopub.status.idle": "2022-09-16T03:04:49.200573Z",
     "shell.execute_reply": "2022-09-16T03:04:49.200298Z",
     "shell.execute_reply.started": "2022-09-16T03:04:49.198176Z"
    },
    "tags": []
   },
   "outputs": [],
   "source": [
    "def doit():\n",
    "    encoder = TupleSplitter({\"a\": [0, 1], \"b\": [2]})\n",
    "    groups1 = encoder((\"foo1\", \"bar1\", \"baz1\"))\n",
    "    groups2 = encoder((\"foo2\", \"bar2\", \"baz2\"))\n",
    "    # pickle1 = pickle.dumps(groups1)\n",
    "    # pickle2 = pickle.dumps(groups2)\n",
    "    # tuple1 = pickle.loads(pickle1)\n",
    "    # tuple2 = pickle.loads(pickle2)"
   ]
  },
  {
   "cell_type": "code",
   "execution_count": null,
   "id": "9a641eec-0398-43c9-9334-d1e3daa6a29c",
   "metadata": {
    "execution": {
     "iopub.execute_input": "2022-09-16T03:04:49.840530Z",
     "iopub.status.busy": "2022-09-16T03:04:49.840064Z",
     "iopub.status.idle": "2022-09-16T03:04:49.842313Z",
     "shell.execute_reply": "2022-09-16T03:04:49.842031Z",
     "shell.execute_reply.started": "2022-09-16T03:04:49.840512Z"
    },
    "tags": []
   },
   "outputs": [],
   "source": [
    "from tqdm.autonotebook import trange"
   ]
  },
  {
   "cell_type": "code",
   "execution_count": null,
   "id": "d845ab4f-f895-479f-aafb-ecc799cbdd1b",
   "metadata": {
    "execution": {
     "iopub.execute_input": "2022-09-16T03:04:50.489316Z",
     "iopub.status.busy": "2022-09-16T03:04:50.488886Z",
     "iopub.status.idle": "2022-09-16T03:04:50.491068Z",
     "shell.execute_reply": "2022-09-16T03:04:50.490766Z",
     "shell.execute_reply.started": "2022-09-16T03:04:50.489302Z"
    },
    "tags": []
   },
   "outputs": [],
   "source": [
    "import os\n",
    "import time\n",
    "\n",
    "import psutil"
   ]
  },
  {
   "cell_type": "code",
   "execution_count": null,
   "id": "5215a173-687c-4dd9-bd28-dea571cf3c00",
   "metadata": {
    "execution": {
     "iopub.execute_input": "2022-09-16T03:05:16.839675Z",
     "iopub.status.busy": "2022-09-16T03:05:16.839509Z",
     "iopub.status.idle": "2022-09-16T03:05:24.684382Z",
     "shell.execute_reply": "2022-09-16T03:05:24.683915Z",
     "shell.execute_reply.started": "2022-09-16T03:05:16.839663Z"
    },
    "tags": []
   },
   "outputs": [],
   "source": [
    "for k in (pbar := trange(1_000_000)):\n",
    "    doit()\n",
    "    if k % 10_000 == 0:\n",
    "        process = psutil.Process(os.getpid())\n",
    "        memory = process.memory_info().rss  # in bytes\n",
    "        pbar.set_postfix(memory=f\"{memory // 1024**2} MiB\")"
   ]
  },
  {
   "cell_type": "code",
   "execution_count": null,
   "id": "face0df9-081d-4932-b4f3-b5676cbef25c",
   "metadata": {},
   "outputs": [],
   "source": [
    "import copyreg\n",
    "import pickle\n",
    "from collections import namedtuple\n",
    "from collections.abc import Iterable, Iterator, Mapping, Sequence\n",
    "from typing import Any, Optional\n",
    "\n",
    "import torch\n",
    "from pandas import DataFrame, MultiIndex, Series\n",
    "from torch import Tensor\n",
    "from torch.utils.data import DataLoader, Dataset\n",
    "\n",
    "from tsdm.utils.strings import repr_mapping"
   ]
  },
  {
   "cell_type": "code",
   "execution_count": null,
   "id": "4f2a15b0-7a1d-4508-9d7e-764cc08e62b0",
   "metadata": {
    "execution": {
     "iopub.execute_input": "2022-09-16T01:55:27.877967Z",
     "iopub.status.busy": "2022-09-16T01:55:27.877790Z",
     "iopub.status.idle": "2022-09-16T01:55:27.882213Z",
     "shell.execute_reply": "2022-09-16T01:55:27.881844Z",
     "shell.execute_reply.started": "2022-09-16T01:55:27.877955Z"
    },
    "tags": []
   },
   "outputs": [],
   "source": [
    "class TupleDataset(Dataset[tuple[Tensor, ...]]):\n",
    "    r\"\"\"Sequential Dataset.\"\"\"\n",
    "\n",
    "    def __init__(\n",
    "        self,\n",
    "        **tensors: dict[str, Tensor],\n",
    "    ):\n",
    "\n",
    "        first = next(iter(tensors.values()))\n",
    "        self.LEN = len(first)\n",
    "\n",
    "        assert all(len(tensor) == len(first) for tensor in tensors.values())\n",
    "\n",
    "        self.tensors = tensors\n",
    "        self.tuple = namedtuple(\"Sample\", tensors.keys())\n",
    "        # copyreg.pickle(self.tuple, namedtuple)\n",
    "        # copyreg.constructor(self.tuple)\n",
    "\n",
    "        tuple_name = f\"{self.tuple.__name__}\"  # {hash(self.tuple)}\"\n",
    "        tuple_qualname = f\"{self.tuple.__name__}{hash(self.tuple)}\"\n",
    "        self.tuple.__qualname__ = tuple_qualname\n",
    "\n",
    "        if tuple_qualname in globals():\n",
    "            raise RuntimeError(\n",
    "                f\"A class of name '{tuple_name}' already present in globals!!\"\n",
    "            )\n",
    "        globals()[tuple_qualname] = self.tuple\n",
    "\n",
    "    def __len__(self):\n",
    "        r\"\"\"Length of the dataset.\"\"\"\n",
    "        return self.LEN\n",
    "\n",
    "    def __getitem__(self, idx) -> tuple[Tensor, ...]:\n",
    "        r\"\"\"Get the same slice from each tensor.\"\"\"\n",
    "        return self.tuple(**{key: tensor[idx] for key, tensor in self.tensors.items()})"
   ]
  },
  {
   "cell_type": "code",
   "execution_count": null,
   "id": "352628cd-31e3-4768-b81f-cb819d588d7b",
   "metadata": {
    "execution": {
     "iopub.execute_input": "2022-09-16T01:55:29.731888Z",
     "iopub.status.busy": "2022-09-16T01:55:29.731561Z",
     "iopub.status.idle": "2022-09-16T01:55:29.750402Z",
     "shell.execute_reply": "2022-09-16T01:55:29.750108Z",
     "shell.execute_reply.started": "2022-09-16T01:55:29.731875Z"
    },
    "tags": []
   },
   "outputs": [],
   "source": [
    "t = torch.randn(100)\n",
    "x = torch.randn(100, 5)"
   ]
  },
  {
   "cell_type": "code",
   "execution_count": null,
   "id": "f8ed8950-a415-472f-80de-afa278ce51c4",
   "metadata": {
    "execution": {
     "iopub.execute_input": "2022-09-16T01:55:29.973582Z",
     "iopub.status.busy": "2022-09-16T01:55:29.973284Z",
     "iopub.status.idle": "2022-09-16T01:55:30.073830Z",
     "shell.execute_reply": "2022-09-16T01:55:30.073385Z",
     "shell.execute_reply.started": "2022-09-16T01:55:29.973568Z"
    },
    "tags": []
   },
   "outputs": [],
   "source": [
    "ds = TupleDataset(t=t, x=x)\n",
    "sample = next(iter(ds))\n",
    "pickle.dumps(sample)\n",
    "dloader = DataLoader(ds, batch_size=10, num_workers=5)\n",
    "iloader = iter(dloader)\n",
    "first = next(iloader)\n",
    "second = next(iloader)\n",
    "\n",
    "for sample in iloader:\n",
    "    pass\n",
    "\n",
    "type(first), type(second), type(sample)"
   ]
  }
 ],
 "metadata": {
  "kernelspec": {
   "display_name": "Python 3 (ipykernel)",
   "language": "python",
   "name": "python3"
  },
  "language_info": {
   "codemirror_mode": {
    "name": "ipython",
    "version": 3
   },
   "file_extension": ".py",
   "mimetype": "text/x-python",
   "name": "python",
   "nbconvert_exporter": "python",
   "pygments_lexer": "ipython3",
   "version": "3.10.6"
  }
 },
 "nbformat": 4,
 "nbformat_minor": 5
}
