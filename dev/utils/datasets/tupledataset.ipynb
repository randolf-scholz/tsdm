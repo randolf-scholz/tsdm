{
 "cells": [
  {
   "cell_type": "code",
   "execution_count": null,
   "id": "864d24a1-42c7-411e-af2a-8566e458038a",
   "metadata": {
    "tags": []
   },
   "outputs": [],
   "source": [
    "from __future__ import annotations\n",
    "\n",
    "from abc import ABC, abstractmethod\n",
    "from collections import namedtuple\n",
    "from typing import NamedTuple, TypeVar"
   ]
  },
  {
   "cell_type": "code",
   "execution_count": null,
   "id": "1a567274-b2d0-48ef-9296-c3dd1214fd52",
   "metadata": {
    "tags": []
   },
   "outputs": [],
   "source": [
    "T = TypeVar(\"T\")\n",
    "\n",
    "\n",
    "class _NamedTuple(tuple[T, ...], ABC):\n",
    "    r\"\"\"To check for namedtuple.\"\"\"\n",
    "\n",
    "    __slots__ = ()\n",
    "\n",
    "    @classmethod\n",
    "    @abstractmethod\n",
    "    def _make(cls, iterable) -> _NamedTuple[T, ...]: ...\n",
    "\n",
    "    @abstractmethod\n",
    "    def _replace(self, /, **kwds) -> None: ...\n",
    "\n",
    "    @property\n",
    "    @abstractmethod\n",
    "    def _fields(self) -> tuple[T, ...]: ...\n",
    "\n",
    "    @property\n",
    "    @abstractmethod\n",
    "    def _field_defaults(self) -> dict[str, T]: ...\n",
    "\n",
    "    @abstractmethod\n",
    "    def _asdict(self) -> dict[str, T]: ..."
   ]
  },
  {
   "cell_type": "code",
   "execution_count": null,
   "id": "1d8adf0a-a484-4911-b4d9-ccf9579d588d",
   "metadata": {
    "tags": []
   },
   "outputs": [],
   "source": [
    "def register_namedtuple(obj, fields: list[str], /, *, name: str):\n",
    "    if not name.isidentifier():\n",
    "        raise ValueError(f\"{name} is not a valid identifier!\")\n",
    "\n",
    "    obj._tuple = namedtuple(name, fields)\n",
    "    _NamedTuple.register(obj._tuple)"
   ]
  },
  {
   "cell_type": "code",
   "execution_count": null,
   "id": "7edcad7c-debf-4980-b131-8aa6d66e686e",
   "metadata": {
    "tags": []
   },
   "outputs": [],
   "source": [
    "class Foo:\n",
    "    _tuple: NamedTuple[str, ...]\n",
    "\n",
    "    def __init__(self, fields: list[str]):\n",
    "        register_namedtuple(self, fields, name=\"FooTuple\")"
   ]
  },
  {
   "cell_type": "code",
   "execution_count": null,
   "id": "4e726583-79f1-4855-853d-5f6c0489fe25",
   "metadata": {
    "tags": []
   },
   "outputs": [],
   "source": [
    "foo = Foo([\"a\", \"b\", \"c\"])\n",
    "FooTup = foo._tuple\n",
    "footup = foo._tuple(1, 2, 3)"
   ]
  },
  {
   "cell_type": "code",
   "execution_count": null,
   "id": "5719c556-c86f-4341-a1f7-f1a6037e2282",
   "metadata": {
    "tags": []
   },
   "outputs": [],
   "source": [
    "assert isinstance(footup, tuple)\n",
    "assert issubclass(FooTup, tuple)\n",
    "assert isinstance(footup, _NamedTuple)\n",
    "assert issubclass(FooTup, _NamedTuple)"
   ]
  },
  {
   "cell_type": "code",
   "execution_count": null,
   "id": "0414d83c-3808-42be-9aab-7f25d91fd316",
   "metadata": {
    "tags": []
   },
   "outputs": [],
   "source": [
    "import gc\n",
    "import pickle"
   ]
  },
  {
   "cell_type": "code",
   "execution_count": null,
   "id": "7ff0867a-353d-4379-8d6d-4fa1f4e6653f",
   "metadata": {
    "tags": []
   },
   "outputs": [],
   "source": [
    "from collections import namedtuple\n",
    "\n",
    "\n",
    "class ClassWithTuple:\n",
    "    tuple_id: str\n",
    "    tuple_type: type[tuple]\n",
    "\n",
    "    def __init__(self, name: str, fields: list[str]) -> None:\n",
    "        self.tuple_type = namedtuple(name, fields)\n",
    "        self.tuple_id = f\"_{name}_{self.__class__.__name__}_{hash(self)}\"\n",
    "        self.tuple_type.__qualname__ = self.tuple_id\n",
    "\n",
    "        if self.tuple_id in globals():\n",
    "            raise RuntimeError(f\"A class '{self.tuple_id}' exists!\")\n",
    "        globals()[self.tuple_id] = self.tuple_id\n",
    "\n",
    "    def __del__(self):\n",
    "        del globals()[self.tuple_id]\n",
    "        del self\n",
    "\n",
    "\n",
    "obj = ClassWithTuple(\"FooTuple\", [\"a\", \"b\", \"c\"])\n",
    "obj.tuple_type(1, 2, 3)"
   ]
  },
  {
   "cell_type": "code",
   "execution_count": null,
   "id": "54c5196e-59a7-482b-b6d9-047afd25fd70",
   "metadata": {},
   "outputs": [],
   "source": [
    "class ClassWithTuple:\n",
    "    tuple_id: str\n",
    "    tuple_type: type[tuple]\n",
    "\n",
    "    def __init__(self, name: str, fields: list[str]) -> None:\n",
    "        self.a, self.b = 1, 2\n",
    "        register_tuple(self, name, fields)"
   ]
  },
  {
   "cell_type": "code",
   "execution_count": null,
   "id": "721dcc08-5912-4e29-bfe3-0086b6b2a980",
   "metadata": {
    "tags": []
   },
   "outputs": [],
   "source": [
    "ClassWithTuple(1, 2).b"
   ]
  },
  {
   "cell_type": "code",
   "execution_count": null,
   "id": "9f026151-7b94-4ce1-9c98-284ee3781da1",
   "metadata": {
    "tags": []
   },
   "outputs": [],
   "source": [
    "groups1 = obj((\"foo1\", \"bar1\", \"baz1\"))\n",
    "groups2 = obj((\"foo2\", \"bar2\", \"baz2\"))\n",
    "pickle1 = pickle.dumps(groups1)\n",
    "pickle2 = pickle.dumps(groups2)\n",
    "tuple1 = pickle.loads(pickle1)\n",
    "tuple2 = pickle.loads(pickle2)\n",
    "assert type(groups1) == type(groups2)\n",
    "assert type(tuple1) == type(tuple2)\n",
    "assert type(tuple1) == type(groups1)\n",
    "assert tuple1 == groups1"
   ]
  },
  {
   "cell_type": "code",
   "execution_count": null,
   "id": "2c9e98e9-61bd-4b88-9ae0-82e43dc543e8",
   "metadata": {
    "tags": []
   },
   "outputs": [],
   "source": [
    "encoder.__del__"
   ]
  },
  {
   "cell_type": "code",
   "execution_count": null,
   "id": "b66c8ff6-3b4e-448f-9b49-3f47ef6d09f3",
   "metadata": {},
   "outputs": [],
   "source": [
    "o = object()"
   ]
  },
  {
   "cell_type": "code",
   "execution_count": null,
   "id": "3af0f7e5-c13b-49ab-9713-b228e5614043",
   "metadata": {
    "tags": []
   },
   "outputs": [],
   "source": [
    "type(o).__del__"
   ]
  },
  {
   "cell_type": "code",
   "execution_count": null,
   "id": "5e62b65c-bfbf-4209-bf75-1358813e01fa",
   "metadata": {},
   "outputs": [],
   "source": [
    "x = 2"
   ]
  },
  {
   "cell_type": "code",
   "execution_count": null,
   "id": "39a834ae-54f6-4f5c-b427-cc6fc3168148",
   "metadata": {
    "tags": []
   },
   "outputs": [],
   "source": [
    "encoder((1, 2, 3))"
   ]
  },
  {
   "cell_type": "code",
   "execution_count": null,
   "id": "11e8dc08-587d-48c5-a9a2-ea4693e5b57a",
   "metadata": {
    "tags": []
   },
   "outputs": [],
   "source": [
    "del encoder\n",
    "gc.collect()\n",
    "# print(sys.getrefcount(identifier))\n",
    "# dir(__main__)"
   ]
  },
  {
   "cell_type": "code",
   "execution_count": null,
   "id": "7ac5fd64-1d79-47bd-a57f-2ac4d5ec8aa0",
   "metadata": {},
   "outputs": [],
   "source": [
    "e"
   ]
  },
  {
   "cell_type": "code",
   "execution_count": null,
   "id": "0b4c45f1-799a-4220-8fb1-ca6539321c2a",
   "metadata": {
    "tags": []
   },
   "outputs": [],
   "source": [
    "def doit():\n",
    "    encoder = TupleSplitter({\"a\": [0, 1], \"b\": [2]})\n",
    "    encoder((\"foo1\", \"bar1\", \"baz1\"))\n",
    "    encoder((\"foo2\", \"bar2\", \"baz2\"))\n",
    "    # pickle1 = pickle.dumps(groups1)\n",
    "    # pickle2 = pickle.dumps(groups2)\n",
    "    # tuple1 = pickle.loads(pickle1)\n",
    "    # tuple2 = pickle.loads(pickle2)"
   ]
  },
  {
   "cell_type": "code",
   "execution_count": null,
   "id": "9a641eec-0398-43c9-9334-d1e3daa6a29c",
   "metadata": {
    "tags": []
   },
   "outputs": [],
   "source": [
    "from tqdm.autonotebook import trange"
   ]
  },
  {
   "cell_type": "code",
   "execution_count": null,
   "id": "d845ab4f-f895-479f-aafb-ecc799cbdd1b",
   "metadata": {
    "tags": []
   },
   "outputs": [],
   "source": [
    "import os\n",
    "\n",
    "import psutil"
   ]
  },
  {
   "cell_type": "code",
   "execution_count": null,
   "id": "5215a173-687c-4dd9-bd28-dea571cf3c00",
   "metadata": {
    "tags": []
   },
   "outputs": [],
   "source": [
    "for k in (pbar := trange(1_000_000)):\n",
    "    doit()\n",
    "    if k % 10_000 == 0:\n",
    "        process = psutil.Process(os.getpid())\n",
    "        memory = process.memory_info().rss  # in bytes\n",
    "        pbar.set_postfix(memory=f\"{memory // 1024**2} MiB\")"
   ]
  },
  {
   "cell_type": "code",
   "execution_count": null,
   "id": "face0df9-081d-4932-b4f3-b5676cbef25c",
   "metadata": {},
   "outputs": [],
   "source": [
    "import pickle\n",
    "from collections import namedtuple\n",
    "\n",
    "import torch\n",
    "from torch import Tensor\n",
    "from torch.utils.data import DataLoader, Dataset"
   ]
  },
  {
   "cell_type": "code",
   "execution_count": null,
   "id": "4f2a15b0-7a1d-4508-9d7e-764cc08e62b0",
   "metadata": {
    "tags": []
   },
   "outputs": [],
   "source": [
    "class TupleDataset(Dataset[tuple[Tensor, ...]]):\n",
    "    r\"\"\"Sequential Dataset.\"\"\"\n",
    "\n",
    "    def __init__(\n",
    "        self,\n",
    "        **tensors: dict[str, Tensor],\n",
    "    ):\n",
    "        first = next(iter(tensors.values()))\n",
    "        self.LEN = len(first)\n",
    "\n",
    "        assert all(len(tensor) == len(first) for tensor in tensors.values())\n",
    "\n",
    "        self.tensors = tensors\n",
    "        self.tuple = namedtuple(\"Sample\", tensors.keys())\n",
    "        # copyreg.pickle(self.tuple, namedtuple)\n",
    "        # copyreg.constructor(self.tuple)\n",
    "\n",
    "        tuple_name = f\"{self.tuple.__name__}\"  # {hash(self.tuple)}\"\n",
    "        tuple_qualname = f\"{self.tuple.__name__}{hash(self.tuple)}\"\n",
    "        self.tuple.__qualname__ = tuple_qualname\n",
    "\n",
    "        if tuple_qualname in globals():\n",
    "            raise RuntimeError(\n",
    "                f\"A class of name '{tuple_name}' already present in globals!!\"\n",
    "            )\n",
    "        globals()[tuple_qualname] = self.tuple\n",
    "\n",
    "    def __len__(self):\n",
    "        r\"\"\"Length of the dataset.\"\"\"\n",
    "        return self.LEN\n",
    "\n",
    "    def __getitem__(self, idx) -> tuple[Tensor, ...]:\n",
    "        r\"\"\"Get the same slice from each tensor.\"\"\"\n",
    "        return self.tuple(**{key: tensor[idx] for key, tensor in self.tensors.items()})"
   ]
  },
  {
   "cell_type": "code",
   "execution_count": null,
   "id": "352628cd-31e3-4768-b81f-cb819d588d7b",
   "metadata": {
    "tags": []
   },
   "outputs": [],
   "source": [
    "t = torch.randn(100)\n",
    "x = torch.randn(100, 5)"
   ]
  },
  {
   "cell_type": "code",
   "execution_count": null,
   "id": "f8ed8950-a415-472f-80de-afa278ce51c4",
   "metadata": {
    "tags": []
   },
   "outputs": [],
   "source": [
    "ds = TupleDataset(t=t, x=x)\n",
    "sample = next(iter(ds))\n",
    "pickle.dumps(sample)\n",
    "dloader = DataLoader(ds, batch_size=10, num_workers=5)\n",
    "iloader = iter(dloader)\n",
    "first = next(iloader)\n",
    "second = next(iloader)\n",
    "\n",
    "for sample in iloader:\n",
    "    pass\n",
    "\n",
    "type(first), type(second), type(sample)"
   ]
  },
  {
   "cell_type": "code",
   "execution_count": null,
   "id": "8987aa8c-f6e6-4b62-8e6b-f34cddb093f4",
   "metadata": {
    "tags": []
   },
   "outputs": [],
   "source": [
    "from tsdm.datasets import Traffic"
   ]
  },
  {
   "cell_type": "code",
   "execution_count": null,
   "id": "5647a854-9d25-41cf-9d3f-96b29a7b8706",
   "metadata": {
    "tags": []
   },
   "outputs": [],
   "source": [
    "ds = Traffic()"
   ]
  },
  {
   "cell_type": "code",
   "execution_count": null,
   "id": "18cb609f-2b62-4fba-9600-db8060192c9e",
   "metadata": {},
   "outputs": [],
   "source": [
    "ds.timeseries"
   ]
  },
  {
   "cell_type": "code",
   "execution_count": null,
   "id": "6e386509-80ed-4e12-8130-8baa5b64a3ab",
   "metadata": {},
   "outputs": [],
   "source": []
  }
 ],
 "metadata": {
  "kernelspec": {
   "display_name": "Python 3 (ipykernel)",
   "language": "python",
   "name": "python3"
  },
  "language_info": {
   "codemirror_mode": {
    "name": "ipython",
    "version": 3
   },
   "file_extension": ".py",
   "mimetype": "text/x-python",
   "name": "python",
   "nbconvert_exporter": "python",
   "pygments_lexer": "ipython3",
   "version": "3.10.6"
  }
 },
 "nbformat": 4,
 "nbformat_minor": 5
}
