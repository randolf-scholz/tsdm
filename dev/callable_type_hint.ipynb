{
 "cells": [
  {
   "cell_type": "code",
   "execution_count": null,
   "id": "6f4ac6e3-8a9d-44e4-a5c6-a09046944ab9",
   "metadata": {
    "pycharm": {
     "is_executing": true
    }
   },
   "outputs": [],
   "source": [
    "class A:\n",
    "    @classmethod\n",
    "    def __call__(cls):\n",
    "        return 0"
   ]
  },
  {
   "cell_type": "code",
   "execution_count": null,
   "id": "3e3fc5b7-6075-4e59-bdc0-ba32f15639d7",
   "metadata": {},
   "outputs": [],
   "source": [
    "from typing import Callable\n",
    "\n",
    "# from collections.abc import Callable"
   ]
  },
  {
   "cell_type": "code",
   "execution_count": null,
   "id": "0da2f483-3876-41cf-be0e-cb377e41fd75",
   "metadata": {},
   "outputs": [],
   "source": [
    "callable(A), isinstance(A, Callable), isinstance(A, type), issubclass(A, type)"
   ]
  },
  {
   "cell_type": "code",
   "execution_count": null,
   "id": "a2bfcbac-e219-4d9f-97ad-e2a12d094f28",
   "metadata": {},
   "outputs": [],
   "source": [
    "A.__call__"
   ]
  },
  {
   "cell_type": "code",
   "execution_count": null,
   "id": "e51b3e50-cb5e-4bf3-8fc9-a1d7d6fa4a52",
   "metadata": {},
   "outputs": [],
   "source": [
    "callable(A)"
   ]
  },
  {
   "cell_type": "code",
   "execution_count": null,
   "id": "f452bc58-dfa7-4bd4-bac9-c557d4920f16",
   "metadata": {},
   "outputs": [],
   "source": [
    "type(Callable)"
   ]
  },
  {
   "cell_type": "code",
   "execution_count": null,
   "id": "75f87c27-5364-4dcd-b195-109c5847bf1e",
   "metadata": {},
   "outputs": [],
   "source": [
    "def func(__name__: str, **kwargs):\n",
    "    print(__name__, kwargs)"
   ]
  },
  {
   "cell_type": "code",
   "execution_count": null,
   "id": "706e145e-555f-42e9-bb4e-0f97a5c7fe2e",
   "metadata": {},
   "outputs": [],
   "source": [
    "d = {\n",
    "    \"lr\": 0.01,\n",
    "    \"__name__\": \"x\",\n",
    "}"
   ]
  },
  {
   "cell_type": "code",
   "execution_count": null,
   "id": "93cfd4b4-b956-4f7a-ad05-e53c15dd5dbf",
   "metadata": {},
   "outputs": [],
   "source": [
    "func(**d)"
   ]
  },
  {
   "cell_type": "code",
   "execution_count": null,
   "id": "1c9f793b-589a-4d86-91e5-c61896e38d08",
   "metadata": {},
   "outputs": [],
   "source": [
    "import logging\n",
    "from typing import Callable, Generic, TypeVar\n",
    "\n",
    "LOGGER = logging.getLogger(__name__)\n",
    "\n",
    "\n",
    "TYPE = TypeVar(\"TYPE\")\n",
    "r\"\"\"Generic type hint.\"\"\"\n",
    "\n",
    "# ModularType = type[TYPE]\n",
    "# r\"\"\"Generic type hint for modular objects.\"\"\"\n",
    "#\n",
    "# FunctionalType = Callable\n",
    "# r\"\"\"Generic type hint for functional objects.\"\"\"\n",
    "#\n",
    "#\n",
    "# class ModularLookUpTable(Generic[TYPE]):\n",
    "#     def __getitem__(self, key: TYPE) -> dict[str, type[TYPE]]:\n",
    "#         ...\n",
    "#\n",
    "#\n",
    "# class FunctionalLookUpTable(Generic[TYPE]):\n",
    "#     def __getitem__(self, key: TYPE) -> dict[str, type[TYPE]]:\n",
    "#         ...\n",
    "\n",
    "\n",
    "class LookUpTable(Generic[TYPE]):\n",
    "    def __getitem__(self, key: TYPE) -> dict[str, TYPE]: ..."
   ]
  },
  {
   "cell_type": "code",
   "execution_count": null,
   "id": "606ce4ac-4f92-4da2-80b9-0f16aa586e08",
   "metadata": {},
   "outputs": [],
   "source": [
    "LookUpTable[float] == dict[str, float]"
   ]
  },
  {
   "cell_type": "code",
   "execution_count": null,
   "id": "9bff5a93-3731-40b2-afb5-b42f2cb65fb6",
   "metadata": {},
   "outputs": [],
   "source": []
  }
 ],
 "metadata": {
  "kernelspec": {
   "display_name": "Python 3 (ipykernel)",
   "language": "python",
   "name": "python3"
  },
  "language_info": {
   "codemirror_mode": {
    "name": "ipython",
    "version": 3
   },
   "file_extension": ".py",
   "mimetype": "text/x-python",
   "name": "python",
   "nbconvert_exporter": "python",
   "pygments_lexer": "ipython3",
   "version": "3.9.7"
  }
 },
 "nbformat": 4,
 "nbformat_minor": 5
}
