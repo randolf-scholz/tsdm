{
 "cells": [
  {
   "cell_type": "code",
   "execution_count": 2,
   "id": "1056820a-a125-4de9-8f28-bd5e64565196",
   "metadata": {},
   "outputs": [],
   "source": [
    "%config InteractiveShell.ast_node_interactivity='last_expr_or_assign'  # always print last expr.\n",
    "%config InlineBackend.figure_format = 'svg'\n",
    "%load_ext autoreload\n",
    "%autoreload 2"
   ]
  },
  {
   "cell_type": "code",
   "execution_count": 51,
   "id": "c25b2e60-74b8-46ec-adda-68dc45492783",
   "metadata": {
    "tags": []
   },
   "outputs": [],
   "source": [
    "import torch\n",
    "from torch.utils.data import Dataset, DataLoader\n",
    "import numpy as np\n",
    "from torch import Tensor\n",
    "from torch.nn.utils.rnn import pack_sequence, pad_sequence, pack_padded_sequence, pad_packed_sequence, PackedSequence"
   ]
  },
  {
   "cell_type": "code",
   "execution_count": 52,
   "id": "4f28a008-beda-4fd4-bd76-e13077e0559a",
   "metadata": {},
   "outputs": [],
   "source": [
    "import datetime\n",
    "from typing import Final, Type, Union\n",
    "\n",
    "import numpy as np\n",
    "from numpy import datetime64, ndarray, timedelta64\n",
    "from numpy.typing import ArrayLike, NDArray\n",
    "import pandas\n",
    "from pandas import Timedelta, Timestamp\n",
    "\n",
    "TimeStampLike = Union[str, datetime.datetime, np.datetime64, pandas.Timestamp]\n",
    "TimeDeltaLike = Union[str, datetime.timedelta, np.timedelta64, pandas.Timedelta]"
   ]
  },
  {
   "cell_type": "code",
   "execution_count": 53,
   "id": "32739ed0-81d6-4230-b1ac-59611ed0020b",
   "metadata": {},
   "outputs": [],
   "source": [
    "a, b = False, True"
   ]
  },
  {
   "cell_type": "code",
   "execution_count": 49,
   "id": "e73c0aa4-db18-4dbb-a523-91e025959ae5",
   "metadata": {},
   "outputs": [],
   "source": [
    "Timedelta(\"900s\")"
   ]
  },
  {
   "cell_type": "code",
   "execution_count": 56,
   "id": "19b3301c-7900-43e3-88ef-d6356b263267",
   "metadata": {},
   "outputs": [],
   "source": [
    "rng = np.random.default_rng()\n",
    "\n",
    "rng.choice(np.arange(10), size=None)"
   ]
  },
  {
   "cell_type": "code",
   "execution_count": 43,
   "id": "b0c450bc-5cd8-4cca-88cf-9d45ec4e6550",
   "metadata": {},
   "outputs": [],
   "source": [
    "np.arange(15)[a:-b or None]"
   ]
  },
  {
   "cell_type": "code",
   "execution_count": 13,
   "id": "381122d6-45bb-4243-b9b8-ca8dd25339ff",
   "metadata": {},
   "outputs": [],
   "source": [
    "freq = Timedelta(\"15m\")"
   ]
  },
  {
   "cell_type": "code",
   "execution_count": 15,
   "id": "4452577d-70da-4576-a756-8f37aaf7188c",
   "metadata": {},
   "outputs": [],
   "source": [
    "Timestamp(\"today\")"
   ]
  },
  {
   "cell_type": "code",
   "execution_count": 16,
   "id": "ab48881e-fcc6-45d1-a8cb-f43470078361",
   "metadata": {},
   "outputs": [],
   "source": [
    "(Timestamp(\"today\")+Timedelta(\"24h\")).round(freq)"
   ]
  },
  {
   "cell_type": "code",
   "execution_count": 3,
   "id": "250515d4-57e0-4dd0-ade7-2bbcee321a88",
   "metadata": {},
   "outputs": [],
   "source": [
    "import tsdm"
   ]
  },
  {
   "cell_type": "code",
   "execution_count": 6,
   "id": "c7bbfacf-89e8-495d-a77a-e49b7236e5e0",
   "metadata": {},
   "outputs": [],
   "source": [
    "tsdm.random.timesamples(num=10, freq=\"15s\")"
   ]
  },
  {
   "cell_type": "code",
   "execution_count": 2,
   "id": "8551dbc2-f3ab-4e7c-9ed8-8780dbda876a",
   "metadata": {},
   "outputs": [],
   "source": [
    "class VaryingLengthDataset(Dataset):\n",
    "    def __init__(self, n, dmin, dmax):\n",
    "        super().__init__()\n",
    "        self.size = n\n",
    "        self.data = [torch.randint(0, 10, (np.random.randint(dmin, dmax), 2)) for _ in range(n)]\n",
    "        \n",
    "    # a commemt\n",
    "    def __len__(self):\n",
    "        return self.size\n",
    "    \n",
    "    def __getitem__(self, index):\n",
    "        return self.data[index]\n",
    "    \n",
    "    def __repr__(self):\n",
    "        return \"\".join(repr(x.shape) for x in self.data)\n",
    "    \n",
    "def myfun():\n",
    "    pass"
   ]
  },
  {
   "cell_type": "code",
   "execution_count": 137,
   "id": "10bb2856-e08c-462d-9c6a-abd1052571e1",
   "metadata": {},
   "outputs": [],
   "source": [
    "import tsdm"
   ]
  },
  {
   "cell_type": "code",
   "execution_count": null,
   "id": "a20b9948-f444-42b3-9fb5-5e635d040061",
   "metadata": {},
   "outputs": [],
   "source": [
    "tsdm."
   ]
  },
  {
   "cell_type": "code",
   "execution_count": 12,
   "id": "60f3fdbb-01b4-4fdb-9708-c4281b21a6a7",
   "metadata": {},
   "outputs": [],
   "source": [
    "pandas.Timestamp(\"2:00\")"
   ]
  },
  {
   "cell_type": "code",
   "execution_count": 129,
   "id": "cc669572-cd7e-4115-b988-f4551ff4a386",
   "metadata": {},
   "outputs": [],
   "source": [
    "units = { u:np.timedelta64(1, u) for u in (\"Y\", \"M\", \"W\", \"D\", \"h\", \"m\", \"s\", \"us\", \"ns\", \"ps\", \"fs\", \"as\")}\n",
    "base_unit = next(u for u, val in units.items() if freq >= val)"
   ]
  },
  {
   "cell_type": "code",
   "execution_count": 135,
   "id": "96251924-7cb1-4972-99c3-ffdfa43c91a1",
   "metadata": {},
   "outputs": [],
   "source": [
    "freq = pandas.Timedelta(\"15m\")"
   ]
  },
  {
   "cell_type": "code",
   "execution_count": 136,
   "id": "3af4fefd-b7ff-4fcb-8742-6238c3159b32",
   "metadata": {},
   "outputs": [],
   "source": [
    "\n",
    "\n",
    "base"
   ]
  },
  {
   "cell_type": "code",
   "execution_count": 90,
   "id": "a210f718-179d-456b-a274-f5f6bd54e6d7",
   "metadata": {},
   "outputs": [],
   "source": [
    "now = pandas.Timestamp(\"now\")\n",
    "tom = pandas.Timestamp(\"now\") + pandas.Timedelta(\"24h\")\n"
   ]
  },
  {
   "cell_type": "code",
   "execution_count": 91,
   "id": "fd188b51-f043-4a34-aab4-f99694e7cb4e",
   "metadata": {},
   "outputs": [],
   "source": [
    "date_range = pandas.date_range(now, tom, freq=Timedelta(\"17m\"))\n",
    "\n",
    "choice = np.random.default_rng().choice(date_range, size=10, replace=False)"
   ]
  },
  {
   "cell_type": "code",
   "execution_count": 96,
   "id": "1c378820-3de9-49f5-b639-aec1058814f4",
   "metadata": {},
   "outputs": [],
   "source": [
    "choice"
   ]
  },
  {
   "cell_type": "code",
   "execution_count": 103,
   "id": "9f81f491-a31f-404a-a532-a9c637266ddd",
   "metadata": {},
   "outputs": [],
   "source": [
    "np.datetime64(15, 'm')"
   ]
  },
  {
   "cell_type": "code",
   "execution_count": 105,
   "id": "e1e83b52-e825-42c9-97cf-38fd1942298b",
   "metadata": {},
   "outputs": [],
   "source": [
    "choice.astype(np.datetime64(15, 'm'))"
   ]
  },
  {
   "cell_type": "code",
   "execution_count": 74,
   "id": "ad599f7c-36c1-416f-b309-4a2252f02bac",
   "metadata": {},
   "outputs": [],
   "source": [
    "np.diff(np.sort(choice))"
   ]
  },
  {
   "cell_type": "code",
   "execution_count": 82,
   "id": "4a443179-2ac7-4e6f-b4af-9b2d818c4567",
   "metadata": {},
   "outputs": [],
   "source": [
    "import inspect"
   ]
  },
  {
   "cell_type": "code",
   "execution_count": 83,
   "id": "504b3ab8-7fdc-4be9-99b2-fff9d4e1ce68",
   "metadata": {},
   "outputs": [],
   "source": [
    "inspect.getsource(Timestamp)"
   ]
  },
  {
   "cell_type": "code",
   "execution_count": 7,
   "id": "ba06e4da-fa67-4000-803e-2a4fd433aaf0",
   "metadata": {},
   "outputs": [],
   "source": [
    "import numpy"
   ]
  },
  {
   "cell_type": "code",
   "execution_count": 2,
   "id": "7b1476f2-596f-47f9-a519-acde53a606ff",
   "metadata": {},
   "outputs": [],
   "source": [
    "import pandas"
   ]
  },
  {
   "cell_type": "code",
   "execution_count": 6,
   "id": "18027059-719b-4c61-9439-b0af6caaa2ec",
   "metadata": {},
   "outputs": [],
   "source": [
    "type(pandas.Timedelta(\"1s\"))"
   ]
  },
  {
   "cell_type": "code",
   "execution_count": 116,
   "id": "ce19c8f1-449c-4e68-a3e4-5ffdae9b35b7",
   "metadata": {},
   "outputs": [],
   "source": [
    "datetime.datetime?"
   ]
  },
  {
   "cell_type": "code",
   "execution_count": 100,
   "id": "7fd22749-834a-40fc-99c3-2007bae7c6bb",
   "metadata": {},
   "outputs": [],
   "source": [
    "import datetime"
   ]
  },
  {
   "cell_type": "code",
   "execution_count": 112,
   "id": "25c3d10c-a0cd-402d-a500-301c77e5922c",
   "metadata": {},
   "outputs": [],
   "source": [
    "type(datetime.timedelta(seconds=3))"
   ]
  },
  {
   "cell_type": "code",
   "execution_count": 113,
   "id": "d905af0e-feec-443d-8e22-26e2cdf2c51f",
   "metadata": {},
   "outputs": [],
   "source": [
    "issubclass(np.timedelta64, datetime.timedelta)"
   ]
  },
  {
   "cell_type": "code",
   "execution_count": 108,
   "id": "e0a0925a-64a2-4afe-ba95-2b21ead9d828",
   "metadata": {},
   "outputs": [],
   "source": [
    "np.array(datetime.timedelta(seconds=5), dtype=\"timedelta64[s]\").dtype"
   ]
  },
  {
   "cell_type": "code",
   "execution_count": 98,
   "id": "5ecec7d0-7d7f-469e-88ae-c8e8cff00a27",
   "metadata": {},
   "outputs": [],
   "source": [
    "dir(np.typing)"
   ]
  },
  {
   "cell_type": "code",
   "execution_count": 20,
   "id": "eb4c251a-ebff-4296-9e83-49968d9ad2f1",
   "metadata": {},
   "outputs": [],
   "source": [
    "import xarray\n"
   ]
  },
  {
   "cell_type": "code",
   "execution_count": 21,
   "id": "2f02bf49-c254-499a-8dbd-b71cbc995b4e",
   "metadata": {},
   "outputs": [],
   "source": [
    "from tsdm.datasets import InSilicoData\n"
   ]
  },
  {
   "cell_type": "code",
   "execution_count": 25,
   "id": "f74215d4-195e-4f55-81d3-5b9f954b9bcd",
   "metadata": {},
   "outputs": [],
   "source": [
    "dir(InSilicoData)"
   ]
  },
  {
   "cell_type": "code",
   "execution_count": 75,
   "id": "c15bcbf8-be0e-4714-a1ef-62e9b9f60bee",
   "metadata": {},
   "outputs": [],
   "source": [
    "dsets = []\n",
    "\n",
    "for key, val in InSilicoData.dataset.items():\n",
    "    ds = df.to_xarray()\n",
    "    ds = ds.assign_coords(run_id = key)\n",
    "    dsets.append(ds)"
   ]
  },
  {
   "cell_type": "code",
   "execution_count": 77,
   "id": "6d3878a5-0388-4c19-93f2-62fecdc259f0",
   "metadata": {},
   "outputs": [],
   "source": [
    "dsets"
   ]
  },
  {
   "cell_type": "code",
   "execution_count": 96,
   "id": "0d62a87a-0355-4464-b0ac-7c429ace7240",
   "metadata": {},
   "outputs": [],
   "source": [
    "np.datetime64?"
   ]
  },
  {
   "cell_type": "code",
   "execution_count": 91,
   "id": "eaaf4e3c-368c-4e0a-894c-1a4801f4cd07",
   "metadata": {},
   "outputs": [],
   "source": [
    "import numpy as np\n",
    "np.datetime64('now')"
   ]
  },
  {
   "cell_type": "code",
   "execution_count": 95,
   "id": "39762752-e96a-4749-8ce1-dfea35a454d2",
   "metadata": {},
   "outputs": [],
   "source": [
    "np.datetime64(24, 'h')"
   ]
  },
  {
   "cell_type": "code",
   "execution_count": 84,
   "id": "7215e9c2-7ca2-438e-ae8e-f7ee6f644db8",
   "metadata": {},
   "outputs": [],
   "source": [
    "xarray.concat(dsets, dim=\"run_id\").to_dataframe()"
   ]
  },
  {
   "cell_type": "code",
   "execution_count": 38,
   "id": "c64011a5-78eb-4220-9a57-1554dcb6c6be",
   "metadata": {},
   "outputs": [],
   "source": [
    "arrays = [xarray.DataArray(df, name=key) for key, df in InSilicoData.dataset.items()  ]"
   ]
  },
  {
   "cell_type": "code",
   "execution_count": 67,
   "id": "b3d62ec2-3e2f-4707-8899-63165dc68b01",
   "metadata": {},
   "outputs": [],
   "source": [
    "arrays[0]"
   ]
  },
  {
   "cell_type": "code",
   "execution_count": 40,
   "id": "927dfe48-ff9e-4796-843c-ab5cccf9ed81",
   "metadata": {},
   "outputs": [],
   "source": [
    "xarray.merge( arrays)"
   ]
  },
  {
   "cell_type": "code",
   "execution_count": 50,
   "id": "514a8e4d-b8ee-438d-9d2b-58462ff34e72",
   "metadata": {},
   "outputs": [],
   "source": [
    "df = list(InSilicoData.dataset.values())[0]\n",
    "df.name = \"agagaga\""
   ]
  },
  {
   "cell_type": "code",
   "execution_count": null,
   "id": "c4ae83b9-94e2-4e86-b3ce-7bf62f82f400",
   "metadata": {},
   "outputs": [],
   "source": []
  },
  {
   "cell_type": "code",
   "execution_count": 26,
   "id": "a000672d-7847-4683-929d-da38ee94ec84",
   "metadata": {},
   "outputs": [],
   "source": [
    "xarray.Dataset.from_dict(InSilicoData.dataset)"
   ]
  },
  {
   "cell_type": "code",
   "execution_count": 19,
   "id": "5532f499-201b-4155-ab83-6fb49375a681",
   "metadata": {},
   "outputs": [],
   "source": [
    "dir(VaryingLengthDataset)"
   ]
  },
  {
   "cell_type": "markdown",
   "id": "0b04b970-76d2-443a-99d5-d38eaff0485b",
   "metadata": {
    "jp-MarkdownHeadingCollapsed": true,
    "tags": []
   },
   "source": [
    "### Batching this Dataset won't work:"
   ]
  },
  {
   "cell_type": "code",
   "execution_count": null,
   "id": "c6c89313-46dc-444e-af38-ada64a673e6c",
   "metadata": {},
   "outputs": [],
   "source": []
  },
  {
   "cell_type": "code",
   "execution_count": 3,
   "id": "b0f940a5-c2a7-4169-86c0-33784c1f83b0",
   "metadata": {},
   "outputs": [],
   "source": [
    "MyDataset = VaryingLengthDataset(100, 3, 7)\n",
    "\n",
    "try:\n",
    "    next(iter(DataLoader(MyDataset, batch_size=10)))\n",
    "    print(x)\n",
    "except Exception as E:\n",
    "    print(E)"
   ]
  },
  {
   "cell_type": "markdown",
   "id": "47ba7662-f3d1-4f97-af2f-a4f5f1834df0",
   "metadata": {},
   "source": [
    "### Let's try with a custom collate_fn"
   ]
  },
  {
   "cell_type": "code",
   "execution_count": 4,
   "id": "edc15f69-73af-4bec-bc04-43516529b69e",
   "metadata": {},
   "outputs": [],
   "source": [
    "np.random.randint(0, len(MyDataset), 20)"
   ]
  },
  {
   "cell_type": "code",
   "execution_count": 5,
   "id": "cb911e5c-1995-40e3-affd-5e850ddd6e55",
   "metadata": {},
   "outputs": [],
   "source": [
    "batch = [MyDataset[idx] for idx in np.random.randint(0, len(MyDataset), 5)]\n",
    "batch"
   ]
  },
  {
   "cell_type": "code",
   "execution_count": 6,
   "id": "f8d09a43-52bf-4051-a036-64406e07b299",
   "metadata": {},
   "outputs": [],
   "source": [
    "pad_sequence(batch, batch_first=True).shape"
   ]
  },
  {
   "cell_type": "code",
   "execution_count": 7,
   "id": "fe403e14-d692-44d9-8c23-bbc2fbdc7404",
   "metadata": {},
   "outputs": [],
   "source": [
    "def collate_list(batch):\n",
    "    return batch\n",
    "\n",
    "try:\n",
    "    x = next(iter(DataLoader(MyDataset, batch_size=5, collate_fn=collate_list)))\n",
    "    print(x)\n",
    "except Exception as E:\n",
    "    print(E)"
   ]
  },
  {
   "cell_type": "code",
   "execution_count": 8,
   "id": "196eb2ef-e756-4104-87bf-012bd58bba7b",
   "metadata": {},
   "outputs": [],
   "source": [
    "def collate_packed(batch):\n",
    "    batch.sort(key=torch.Tensor.__len__, reverse=True)\n",
    "    return pack_sequence(batch)\n",
    "\n",
    "try:\n",
    "    x = next(iter(DataLoader(MyDataset, batch_size=5, collate_fn=collate_packed)))\n",
    "    print(x)\n",
    "except Exception as E:\n",
    "    print(E)"
   ]
  },
  {
   "cell_type": "code",
   "execution_count": 9,
   "id": "ad82b4c2-42c5-4f09-87b8-ad9ec42f2c7e",
   "metadata": {},
   "outputs": [],
   "source": [
    "batch = next(iter(DataLoader(MyDataset, batch_size=5, collate_fn=collate_list)))\n",
    "[x.T for x in batch]"
   ]
  },
  {
   "cell_type": "code",
   "execution_count": 10,
   "id": "8d5e6f7c-68f2-4529-90de-530909200b36",
   "metadata": {},
   "outputs": [],
   "source": [
    "batch_sorted = batch.copy()\n",
    "batch_sorted.sort(key=torch.Tensor.__len__, reverse=True)\n",
    "[x.T for x in batch_sorted]"
   ]
  },
  {
   "cell_type": "code",
   "execution_count": 11,
   "id": "94a8d19a-6861-4a28-a5af-08b57b655869",
   "metadata": {},
   "outputs": [],
   "source": [
    "batch_packed = pack_sequence(batch_sorted)\n",
    "batch_packed.data.T, batch_packed.batch_sizes"
   ]
  },
  {
   "cell_type": "code",
   "execution_count": 12,
   "id": "26f527d3-18a8-48d7-98a5-5f1b0ccd4d00",
   "metadata": {},
   "outputs": [],
   "source": [
    "batch_pad_packed, lengths = pad_packed_sequence(batch_packed, batch_first=True)\n",
    "torch.swapaxes(batch_pad_packed, 1, 2), lengths"
   ]
  },
  {
   "cell_type": "code",
   "execution_count": 13,
   "id": "536df470-5d42-4b7e-b190-8a8795438d7c",
   "metadata": {},
   "outputs": [],
   "source": [
    "unpacked_batch = [x[:l].T for x, l in zip(batch_pad_packed, lengths)]\n",
    "unpacked_batch"
   ]
  },
  {
   "cell_type": "code",
   "execution_count": 14,
   "id": "527a4298-cd1b-4603-92f7-d88566494d3e",
   "metadata": {},
   "outputs": [],
   "source": [
    "def reconstruct_batch(packed: PackedSequence) -> list[Tensor]:\n",
    "    d = packed.data.shape[-1]\n",
    "    dtype = packed.data.dtype\n",
    "    device = packed.data.device\n",
    "    \n",
    "    lengths = []\n",
    "    b0 = 0\n",
    "    for b in batch_sizes:\n",
    "        \n",
    "        lengths += [b]"
   ]
  },
  {
   "cell_type": "code",
   "execution_count": 15,
   "id": "14fe4866-d154-4a79-abf6-0de8fc7b818b",
   "metadata": {},
   "outputs": [],
   "source": [
    "reconstructed_batch = batch_pad_packed\n",
    "reconstructed_batch"
   ]
  },
  {
   "cell_type": "code",
   "execution_count": 16,
   "id": "9151b9e2-6a83-4754-b156-38ddf9efac6a",
   "metadata": {},
   "outputs": [],
   "source": [
    "batch_pad_packed.shape"
   ]
  },
  {
   "cell_type": "code",
   "execution_count": 17,
   "id": "b2ddc7e3-3dd6-46a8-a164-41b3a334890d",
   "metadata": {},
   "outputs": [],
   "source": [
    "def unpack(packed):\n",
    "    pass"
   ]
  },
  {
   "cell_type": "code",
   "execution_count": 18,
   "id": "502d2bd5-c4c5-452f-87ab-732a68eb9efa",
   "metadata": {},
   "outputs": [],
   "source": [
    "a = MyDataset[:5]\n",
    "a.sort(key=lambda x: len(x))\n",
    "a"
   ]
  }
 ],
 "metadata": {
  "kernelspec": {
   "display_name": "Python 3 (ipykernel)",
   "language": "python",
   "name": "python3"
  },
  "language_info": {
   "codemirror_mode": {
    "name": "ipython",
    "version": 3
   },
   "file_extension": ".py",
   "mimetype": "text/x-python",
   "name": "python",
   "nbconvert_exporter": "python",
   "pygments_lexer": "ipython3",
   "version": "3.9.6"
  }
 },
 "nbformat": 4,
 "nbformat_minor": 5
}
