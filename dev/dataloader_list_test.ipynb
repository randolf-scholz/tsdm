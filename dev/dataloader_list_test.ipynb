{
 "cells": [
  {
   "cell_type": "code",
   "execution_count": 1,
   "id": "c25b2e60-74b8-46ec-adda-68dc45492783",
   "metadata": {},
   "outputs": [],
   "source": [
    "import torch\n",
    "from torch.utils.data import Dataset, DataLoader\n",
    "import numpy as np\n",
    "from torch import Tensor\n",
    "from torch.nn.utils.rnn import pack_sequence, pad_sequence, pack_padded_sequence, pad_packed_sequence, PackedSequence"
   ]
  },
  {
   "cell_type": "code",
   "execution_count": 2,
   "id": "8551dbc2-f3ab-4e7c-9ed8-8780dbda876a",
   "metadata": {},
   "outputs": [],
   "source": [
    "class VaryingLengthDataset(Dataset):\n",
    "    def __init__(self, n, dmin, dmax):\n",
    "        super().__init__()\n",
    "        self.size = n\n",
    "        self.data = [torch.randint(0, 10, (np.random.randint(dmin, dmax), 2)) for _ in range(n)]\n",
    "        \n",
    "    # a commemt\n",
    "    def __len__(self):\n",
    "        return self.size\n",
    "    \n",
    "    def __getitem__(self, index):\n",
    "        return self.data[index]\n",
    "    \n",
    "    def __repr__(self):\n",
    "        return \"\".join(repr(x.shape) for x in self.data)\n",
    "    \n",
    "def myfun():\n",
    "    pass"
   ]
  },
  {
   "cell_type": "code",
   "execution_count": 86,
   "id": "7b1476f2-596f-47f9-a519-acde53a606ff",
   "metadata": {},
   "outputs": [],
   "source": [
    "start = pandas.Timestamp(\"today\")\n",
    "stop = now + pandas.Timedelta(\"24h\")\n",
    "freq = pandas.Timedelta(\"1s\")"
   ]
  },
  {
   "cell_type": "code",
   "execution_count": 2,
   "id": "02fd936c-963d-4ce8-a1d2-0f1545c5b1ed",
   "metadata": {},
   "outputs": [],
   "source": [
    "import tsdm"
   ]
  },
  {
   "cell_type": "code",
   "execution_count": 128,
   "id": "c4cac2fa-924b-4b46-aba9-7b99837a4ee3",
   "metadata": {},
   "outputs": [],
   "source": [
    "np.insert?"
   ]
  },
  {
   "cell_type": "code",
   "execution_count": 112,
   "id": "1ec9e113-036a-45c2-8a42-410eccc5868b",
   "metadata": {},
   "outputs": [],
   "source": [
    "rng = np.random.default_rng()\n",
    "timestamps = rng.choice(time_range, 10)"
   ]
  },
  {
   "cell_type": "code",
   "execution_count": 104,
   "id": "28b7e3f7-11d4-4acb-986e-37b4e88739d1",
   "metadata": {},
   "outputs": [],
   "source": [
    "Timestamp(datetime.datetime(1950, 1, 1))"
   ]
  },
  {
   "cell_type": "code",
   "execution_count": 110,
   "id": "ce19c8f1-449c-4e68-a3e4-5ffdae9b35b7",
   "metadata": {},
   "outputs": [],
   "source": [
    "np.random.shuffle"
   ]
  },
  {
   "cell_type": "code",
   "execution_count": 100,
   "id": "7fd22749-834a-40fc-99c3-2007bae7c6bb",
   "metadata": {},
   "outputs": [],
   "source": [
    "import datetime"
   ]
  },
  {
   "cell_type": "code",
   "execution_count": 112,
   "id": "25c3d10c-a0cd-402d-a500-301c77e5922c",
   "metadata": {},
   "outputs": [],
   "source": [
    "type(datetime.timedelta(seconds=3))"
   ]
  },
  {
   "cell_type": "code",
   "execution_count": 113,
   "id": "d905af0e-feec-443d-8e22-26e2cdf2c51f",
   "metadata": {},
   "outputs": [],
   "source": [
    "issubclass(np.timedelta64, datetime.timedelta)"
   ]
  },
  {
   "cell_type": "code",
   "execution_count": 108,
   "id": "e0a0925a-64a2-4afe-ba95-2b21ead9d828",
   "metadata": {},
   "outputs": [],
   "source": [
    "np.array(datetime.timedelta(seconds=5), dtype=\"timedelta64[s]\").dtype"
   ]
  },
  {
   "cell_type": "code",
   "execution_count": 75,
   "id": "c15bcbf8-be0e-4714-a1ef-62e9b9f60bee",
   "metadata": {},
   "outputs": [],
   "source": [
    "dsets = []\n",
    "\n",
    "for key, val in InSilicoData.dataset.items():\n",
    "    ds = df.to_xarray()\n",
    "    ds = ds.assign_coords(run_id = key)\n",
    "    dsets.append(ds)"
   ]
  },
  {
   "cell_type": "code",
   "execution_count": 77,
   "id": "6d3878a5-0388-4c19-93f2-62fecdc259f0",
   "metadata": {},
   "outputs": [],
   "source": [
    "dsets"
   ]
  },
  {
   "cell_type": "code",
   "execution_count": 96,
   "id": "0d62a87a-0355-4464-b0ac-7c429ace7240",
   "metadata": {},
   "outputs": [],
   "source": [
    "np.datetime64?"
   ]
  },
  {
   "cell_type": "code",
   "execution_count": 91,
   "id": "eaaf4e3c-368c-4e0a-894c-1a4801f4cd07",
   "metadata": {},
   "outputs": [],
   "source": [
    "import numpy as np\n",
    "np.datetime64('now')"
   ]
  },
  {
   "cell_type": "code",
   "execution_count": 95,
   "id": "39762752-e96a-4749-8ce1-dfea35a454d2",
   "metadata": {},
   "outputs": [],
   "source": [
    "np.datetime64(24, 'h')"
   ]
  },
  {
   "cell_type": "code",
   "execution_count": 84,
   "id": "7215e9c2-7ca2-438e-ae8e-f7ee6f644db8",
   "metadata": {},
   "outputs": [],
   "source": [
    "xarray.concat(dsets, dim=\"run_id\").to_dataframe()"
   ]
  },
  {
   "cell_type": "code",
   "execution_count": 38,
   "id": "c64011a5-78eb-4220-9a57-1554dcb6c6be",
   "metadata": {},
   "outputs": [],
   "source": [
    "arrays = [xarray.DataArray(df, name=key) for key, df in InSilicoData.dataset.items()  ]"
   ]
  },
  {
   "cell_type": "code",
   "execution_count": 67,
   "id": "b3d62ec2-3e2f-4707-8899-63165dc68b01",
   "metadata": {},
   "outputs": [],
   "source": [
    "arrays[0]"
   ]
  },
  {
   "cell_type": "code",
   "execution_count": 40,
   "id": "927dfe48-ff9e-4796-843c-ab5cccf9ed81",
   "metadata": {},
   "outputs": [],
   "source": [
    "xarray.merge( arrays)"
   ]
  },
  {
   "cell_type": "code",
   "execution_count": 50,
   "id": "514a8e4d-b8ee-438d-9d2b-58462ff34e72",
   "metadata": {},
   "outputs": [],
   "source": [
    "df = list(InSilicoData.dataset.values())[0]\n",
    "df.name = \"agagaga\""
   ]
  },
  {
   "cell_type": "code",
   "execution_count": null,
   "id": "c4ae83b9-94e2-4e86-b3ce-7bf62f82f400",
   "metadata": {},
   "outputs": [],
   "source": []
  },
  {
   "cell_type": "code",
   "execution_count": 26,
   "id": "a000672d-7847-4683-929d-da38ee94ec84",
   "metadata": {},
   "outputs": [],
   "source": [
    "xarray.Dataset.from_dict(InSilicoData.dataset)"
   ]
  },
  {
   "cell_type": "code",
   "execution_count": 19,
   "id": "5532f499-201b-4155-ab83-6fb49375a681",
   "metadata": {},
   "outputs": [],
   "source": [
    "dir(VaryingLengthDataset)"
   ]
  },
  {
   "cell_type": "markdown",
   "id": "0b04b970-76d2-443a-99d5-d38eaff0485b",
   "metadata": {
    "jp-MarkdownHeadingCollapsed": true,
    "tags": []
   },
   "source": [
    "### Batching this Dataset won't work:"
   ]
  },
  {
   "cell_type": "code",
   "execution_count": null,
   "id": "c6c89313-46dc-444e-af38-ada64a673e6c",
   "metadata": {},
   "outputs": [],
   "source": []
  },
  {
   "cell_type": "code",
   "execution_count": 3,
   "id": "b0f940a5-c2a7-4169-86c0-33784c1f83b0",
   "metadata": {},
   "outputs": [],
   "source": [
    "MyDataset = VaryingLengthDataset(100, 3, 7)\n",
    "\n",
    "try:\n",
    "    next(iter(DataLoader(MyDataset, batch_size=10)))\n",
    "    print(x)\n",
    "except Exception as E:\n",
    "    print(E)"
   ]
  },
  {
   "cell_type": "markdown",
   "id": "47ba7662-f3d1-4f97-af2f-a4f5f1834df0",
   "metadata": {},
   "source": [
    "### Let's try with a custom collate_fn"
   ]
  },
  {
   "cell_type": "code",
   "execution_count": 4,
   "id": "edc15f69-73af-4bec-bc04-43516529b69e",
   "metadata": {},
   "outputs": [],
   "source": [
    "np.random.randint(0, len(MyDataset), 20)"
   ]
  },
  {
   "cell_type": "code",
   "execution_count": 5,
   "id": "cb911e5c-1995-40e3-affd-5e850ddd6e55",
   "metadata": {},
   "outputs": [],
   "source": [
    "batch = [MyDataset[idx] for idx in np.random.randint(0, len(MyDataset), 5)]\n",
    "batch"
   ]
  },
  {
   "cell_type": "code",
   "execution_count": 6,
   "id": "f8d09a43-52bf-4051-a036-64406e07b299",
   "metadata": {},
   "outputs": [],
   "source": [
    "pad_sequence(batch, batch_first=True).shape"
   ]
  },
  {
   "cell_type": "code",
   "execution_count": 7,
   "id": "fe403e14-d692-44d9-8c23-bbc2fbdc7404",
   "metadata": {},
   "outputs": [],
   "source": [
    "def collate_list(batch):\n",
    "    return batch\n",
    "\n",
    "try:\n",
    "    x = next(iter(DataLoader(MyDataset, batch_size=5, collate_fn=collate_list)))\n",
    "    print(x)\n",
    "except Exception as E:\n",
    "    print(E)"
   ]
  },
  {
   "cell_type": "code",
   "execution_count": 8,
   "id": "196eb2ef-e756-4104-87bf-012bd58bba7b",
   "metadata": {},
   "outputs": [],
   "source": [
    "def collate_packed(batch):\n",
    "    batch.sort(key=torch.Tensor.__len__, reverse=True)\n",
    "    return pack_sequence(batch)\n",
    "\n",
    "try:\n",
    "    x = next(iter(DataLoader(MyDataset, batch_size=5, collate_fn=collate_packed)))\n",
    "    print(x)\n",
    "except Exception as E:\n",
    "    print(E)"
   ]
  },
  {
   "cell_type": "code",
   "execution_count": 9,
   "id": "ad82b4c2-42c5-4f09-87b8-ad9ec42f2c7e",
   "metadata": {},
   "outputs": [],
   "source": [
    "batch = next(iter(DataLoader(MyDataset, batch_size=5, collate_fn=collate_list)))\n",
    "[x.T for x in batch]"
   ]
  },
  {
   "cell_type": "code",
   "execution_count": 10,
   "id": "8d5e6f7c-68f2-4529-90de-530909200b36",
   "metadata": {},
   "outputs": [],
   "source": [
    "batch_sorted = batch.copy()\n",
    "batch_sorted.sort(key=torch.Tensor.__len__, reverse=True)\n",
    "[x.T for x in batch_sorted]"
   ]
  },
  {
   "cell_type": "code",
   "execution_count": 11,
   "id": "94a8d19a-6861-4a28-a5af-08b57b655869",
   "metadata": {},
   "outputs": [],
   "source": [
    "batch_packed = pack_sequence(batch_sorted)\n",
    "batch_packed.data.T, batch_packed.batch_sizes"
   ]
  },
  {
   "cell_type": "code",
   "execution_count": 12,
   "id": "26f527d3-18a8-48d7-98a5-5f1b0ccd4d00",
   "metadata": {},
   "outputs": [],
   "source": [
    "batch_pad_packed, lengths = pad_packed_sequence(batch_packed, batch_first=True)\n",
    "torch.swapaxes(batch_pad_packed, 1, 2), lengths"
   ]
  },
  {
   "cell_type": "code",
   "execution_count": 13,
   "id": "536df470-5d42-4b7e-b190-8a8795438d7c",
   "metadata": {},
   "outputs": [],
   "source": [
    "unpacked_batch = [x[:l].T for x, l in zip(batch_pad_packed, lengths)]\n",
    "unpacked_batch"
   ]
  },
  {
   "cell_type": "code",
   "execution_count": 14,
   "id": "527a4298-cd1b-4603-92f7-d88566494d3e",
   "metadata": {},
   "outputs": [],
   "source": [
    "def reconstruct_batch(packed: PackedSequence) -> list[Tensor]:\n",
    "    d = packed.data.shape[-1]\n",
    "    dtype = packed.data.dtype\n",
    "    device = packed.data.device\n",
    "    \n",
    "    lengths = []\n",
    "    b0 = 0\n",
    "    for b in batch_sizes:\n",
    "        \n",
    "        lengths += [b]"
   ]
  },
  {
   "cell_type": "code",
   "execution_count": 15,
   "id": "14fe4866-d154-4a79-abf6-0de8fc7b818b",
   "metadata": {},
   "outputs": [],
   "source": [
    "reconstructed_batch = batch_pad_packed\n",
    "reconstructed_batch"
   ]
  },
  {
   "cell_type": "code",
   "execution_count": 16,
   "id": "9151b9e2-6a83-4754-b156-38ddf9efac6a",
   "metadata": {},
   "outputs": [],
   "source": [
    "batch_pad_packed.shape"
   ]
  },
  {
   "cell_type": "code",
   "execution_count": 17,
   "id": "b2ddc7e3-3dd6-46a8-a164-41b3a334890d",
   "metadata": {},
   "outputs": [],
   "source": [
    "def unpack(packed):\n",
    "    pass"
   ]
  },
  {
   "cell_type": "code",
   "execution_count": 18,
   "id": "502d2bd5-c4c5-452f-87ab-732a68eb9efa",
   "metadata": {},
   "outputs": [],
   "source": [
    "a = MyDataset[:5]\n",
    "a.sort(key=lambda x: len(x))\n",
    "a"
   ]
  }
 ],
 "metadata": {
  "kernelspec": {
   "display_name": "Python 3 (ipykernel)",
   "language": "python",
   "name": "python3"
  },
  "language_info": {
   "codemirror_mode": {
    "name": "ipython",
    "version": 3
   },
   "file_extension": ".py",
   "mimetype": "text/x-python",
   "name": "python",
   "nbconvert_exporter": "python",
   "pygments_lexer": "ipython3",
   "version": "3.9.6"
  }
 },
 "nbformat": 4,
 "nbformat_minor": 5
}
