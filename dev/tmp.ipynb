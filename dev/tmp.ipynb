{
 "cells": [
  {
   "cell_type": "code",
   "execution_count": null,
   "id": "93315a35-3fc0-41be-b4ee-c80ce95cf2a5",
   "metadata": {
    "execution": {
     "iopub.execute_input": "2022-12-01T01:50:26.760755Z",
     "iopub.status.busy": "2022-12-01T01:50:26.760614Z",
     "iopub.status.idle": "2022-12-01T01:50:28.442811Z",
     "shell.execute_reply": "2022-12-01T01:50:28.442251Z",
     "shell.execute_reply.started": "2022-12-01T01:50:26.760710Z"
    },
    "tags": []
   },
   "outputs": [],
   "source": [
    "from tsdm.tasks import KiwiTask"
   ]
  },
  {
   "cell_type": "code",
   "execution_count": null,
   "id": "a41872e8-1129-433e-8fa3-9a4124037fdf",
   "metadata": {
    "tags": []
   },
   "outputs": [],
   "source": []
  },
  {
   "cell_type": "code",
   "execution_count": null,
   "id": "04420330-ff91-4a3b-b17b-ff3241ca1b82",
   "metadata": {
    "execution": {
     "iopub.execute_input": "2022-12-15T15:58:27.294113Z",
     "iopub.status.busy": "2022-12-15T15:58:27.293559Z",
     "iopub.status.idle": "2022-12-15T15:58:27.578163Z",
     "shell.execute_reply": "2022-12-15T15:58:27.577633Z",
     "shell.execute_reply.started": "2022-12-15T15:58:27.294089Z"
    },
    "tags": []
   },
   "outputs": [],
   "source": [
    "import tsdm"
   ]
  },
  {
   "cell_type": "code",
   "execution_count": null,
   "id": "c9e71ecd-e48e-42e4-95f5-9e6c248929e6",
   "metadata": {},
   "outputs": [],
   "source": []
  },
  {
   "cell_type": "code",
   "execution_count": null,
   "id": "ea34e820-2687-4066-99a0-f9a40dd13da9",
   "metadata": {},
   "outputs": [],
   "source": []
  },
  {
   "cell_type": "code",
   "execution_count": null,
   "id": "2812a911-f0a4-4b62-9441-dbc8e74e2669",
   "metadata": {
    "execution": {
     "iopub.execute_input": "2022-12-15T14:28:55.661757Z",
     "iopub.status.busy": "2022-12-15T14:28:55.661531Z",
     "iopub.status.idle": "2022-12-15T14:28:55.699025Z",
     "shell.execute_reply": "2022-12-15T14:28:55.698267Z",
     "shell.execute_reply.started": "2022-12-15T14:28:55.661745Z"
    },
    "tags": []
   },
   "outputs": [],
   "source": [
    "import pandas as pd\n",
    "\n",
    "d = [\n",
    "    (\n",
    "        0,\n",
    "        \"Lorem ipsum dolor sit amet, consectetur adipiscing elit, sed do eiusmod tempor \"\n",
    "        \"incididunt ut labore et dolore magna aliqua. Ut enim ad minim veniam, quis \"\n",
    "        \"nostrud exercitation ullamco laboris nisi ut aliquip ex ea commodo consequat. \"\n",
    "        \"Duis aute irure dolor in reprehenderit in voluptate velit esse cillum dolore \"\n",
    "        \"eu fugiat nulla pariatur. Excepteur sint occaecat cupidatat non proident, \"\n",
    "        \"sunt in culpa qui officia deserunt mollit anim id est laborum.\",\n",
    "        \"https://en.wikipedia.org/wiki/Lorem_ipsum\",\n",
    "    )\n",
    "]\n",
    "df = pd.DataFrame(d, columns=[\"paragraph\", \"text\", \"url\"]).set_index(\"paragraph\")\n",
    "style = df.style.set_properties(\n",
    "    **{\n",
    "        \"inline-size\": \"10cm\",\n",
    "        \"overflow-wrap\": \"break-word\",\n",
    "    },\n",
    "    subset=[\"text\"],\n",
    ").format({\"url\": lambda x: f'<a href=\"{x}\">{x}</a>'})\n",
    "\n",
    "df.style = style  # ✘ AttributeError: can't set attribute 'style'"
   ]
  },
  {
   "cell_type": "code",
   "execution_count": null,
   "id": "b0ee1709-963d-4af5-9108-12d3148e6904",
   "metadata": {
    "execution": {
     "iopub.execute_input": "2022-12-15T14:28:44.008342Z",
     "iopub.status.busy": "2022-12-15T14:28:44.007820Z",
     "iopub.status.idle": "2022-12-15T14:28:44.240782Z",
     "shell.execute_reply": "2022-12-15T14:28:44.240256Z",
     "shell.execute_reply.started": "2022-12-15T14:28:44.008329Z"
    },
    "tags": []
   },
   "outputs": [],
   "source": []
  },
  {
   "cell_type": "code",
   "execution_count": null,
   "id": "c2663823-c461-40dc-834b-81b2e4c9ee90",
   "metadata": {
    "execution": {
     "iopub.execute_input": "2022-12-15T14:01:22.506374Z",
     "iopub.status.busy": "2022-12-15T14:01:22.505802Z",
     "iopub.status.idle": "2022-12-15T14:01:22.510276Z",
     "shell.execute_reply": "2022-12-15T14:01:22.509651Z",
     "shell.execute_reply.started": "2022-12-15T14:01:22.506350Z"
    },
    "tags": []
   },
   "outputs": [],
   "source": [
    "SHARE_URL = \"https://tubcloud.tu-berlin.de/s/P7SAkkaeGtAWJ2L\"\n",
    "INFO_URL = f\"{SHARE_URL}?path=/LinODEnet\"\n",
    "BASE_URL = f\"{SHARE_URL}/download?path=/LinODEnet\"\n",
    "\n",
    "\n",
    "d = [\n",
    "    (\n",
    "        \"2022-11-16\",\n",
    "        \"legacy run\",\n",
    "        f\"{BASE_URL}/2022-11-16-linodenet-152669f30f5e5325bf916b154262eed5.zip\",\n",
    "    ),\n",
    "    (\n",
    "        \"2022-11-24\",\n",
    "        \"legacy run\",\n",
    "        f\"{BASE_URL}/2022-11-24-linodenet-a44fc91eab7a98130266d1c37f072eb5.zip\",\n",
    "    ),\n",
    "    (\n",
    "        \"2022-12-01\",\n",
    "        \"Longer training run (300+ epochs) recommended epochs: 270, 220, 150, 80\",\n",
    "        f\"{BASE_URL}/2022-12-01T04:26:13/f=0_bs=64_lr=0.001_hs=64_ls=128\",\n",
    "    ),\n",
    "]"
   ]
  },
  {
   "cell_type": "code",
   "execution_count": null,
   "id": "b4311b1f-9627-4a43-b4cd-5456dc6bcbfc",
   "metadata": {
    "execution": {
     "iopub.execute_input": "2022-12-15T14:05:09.867292Z",
     "iopub.status.busy": "2022-12-15T14:05:09.866558Z",
     "iopub.status.idle": "2022-12-15T14:05:09.873335Z",
     "shell.execute_reply": "2022-12-15T14:05:09.872752Z",
     "shell.execute_reply.started": "2022-12-15T14:05:09.867266Z"
    },
    "tags": []
   },
   "outputs": [],
   "source": [
    "CHECKPOINTS = (\n",
    "    pd.DataFrame(d, columns=[\"time\", \"note\", \"url\"])\n",
    "    .astype({\"time\": \"string\", \"note\": \"string\"})\n",
    "    .set_index(\"time\")\n",
    "    # .style.format({'url': lambda x: f'<a href=\"{x}\">{x}</a>'})\n",
    "    # .data.style.set_properties(\n",
    "    #     inline_size=\"10cm\",\n",
    "    #     overflow_wrap=\"break-word\",\n",
    "    #     text_align=\"left\",\n",
    "    #     subset=[\"note\"],\n",
    "    # )\n",
    ")"
   ]
  },
  {
   "cell_type": "code",
   "execution_count": null,
   "id": "cde6828a-be5e-4237-86e6-49b1cc3211e7",
   "metadata": {},
   "outputs": [],
   "source": []
  },
  {
   "cell_type": "code",
   "execution_count": null,
   "id": "b9241d72-b89d-4e4c-a10d-8a697d595ec4",
   "metadata": {
    "execution": {
     "iopub.execute_input": "2022-12-15T14:05:56.277001Z",
     "iopub.status.busy": "2022-12-15T14:05:56.276575Z",
     "iopub.status.idle": "2022-12-15T14:05:56.359825Z",
     "shell.execute_reply": "2022-12-15T14:05:56.359245Z",
     "shell.execute_reply.started": "2022-12-15T14:05:56.276987Z"
    },
    "tags": []
   },
   "outputs": [],
   "source": [
    "CHECKPOINTS.style = CHECKPOINTS.style.format(\n",
    "    {\"url\": lambda x: f'<a href=\"{x}\">{x}</a>'}\n",
    ").set_properties(\n",
    "    inline_size=\"10cm\",\n",
    "    overflow_wrap=\"break-word\",\n",
    "    text_align=\"left\",\n",
    "    subset=[\"note\"],\n",
    ")"
   ]
  },
  {
   "cell_type": "code",
   "execution_count": null,
   "id": "e693ba9d-c011-4906-898f-e4c7aae7fa6d",
   "metadata": {
    "execution": {
     "iopub.execute_input": "2022-12-15T13:55:47.757121Z",
     "iopub.status.busy": "2022-12-15T13:55:47.756812Z",
     "iopub.status.idle": "2022-12-15T13:55:47.762354Z",
     "shell.execute_reply": "2022-12-15T13:55:47.761808Z",
     "shell.execute_reply.started": "2022-12-15T13:55:47.757108Z"
    },
    "tags": []
   },
   "outputs": [],
   "source": [
    "type(CHECKPOINTS)"
   ]
  },
  {
   "cell_type": "code",
   "execution_count": null,
   "id": "4b4c2885-0d1e-43ea-a445-c4a1d8a06d39",
   "metadata": {
    "execution": {
     "iopub.execute_input": "2022-12-15T13:35:35.951265Z",
     "iopub.status.busy": "2022-12-15T13:35:35.951031Z",
     "iopub.status.idle": "2022-12-15T13:35:35.959011Z",
     "shell.execute_reply": "2022-12-15T13:35:35.958589Z",
     "shell.execute_reply.started": "2022-12-15T13:35:35.951252Z"
    },
    "tags": []
   },
   "outputs": [],
   "source": [
    "df = (\n",
    "    pd.DataFrame(d, columns=[\"time\", \"note\", \"url\"])\n",
    "    .astype({\"time\": \"string\", \"note\": \"string\"})\n",
    "    .set_index(\"time\")\n",
    ")\n",
    "\n",
    "\n",
    "df = df.style.set_properties(\n",
    "    inline_size=\"10cm\",\n",
    "    overflow_wrap=\"break-word\",\n",
    "    text_align=\"left\",\n",
    ")\n",
    "\n",
    "df"
   ]
  },
  {
   "cell_type": "code",
   "execution_count": null,
   "id": "226f2ed1-ff9d-4f9d-9f8c-05760f2e4c72",
   "metadata": {
    "execution": {
     "iopub.execute_input": "2022-12-15T11:33:28.820978Z",
     "iopub.status.busy": "2022-12-15T11:33:28.820410Z",
     "iopub.status.idle": "2022-12-15T11:33:28.827037Z",
     "shell.execute_reply": "2022-12-15T11:33:28.826500Z",
     "shell.execute_reply.started": "2022-12-15T11:33:28.820954Z"
    },
    "tags": []
   },
   "outputs": [],
   "source": []
  },
  {
   "cell_type": "code",
   "execution_count": null,
   "id": "6f69677a-6fb7-43aa-a3cc-e1d7d75de628",
   "metadata": {
    "execution": {
     "iopub.execute_input": "2022-12-15T11:31:25.455788Z",
     "iopub.status.busy": "2022-12-15T11:31:25.455374Z",
     "iopub.status.idle": "2022-12-15T11:31:25.459867Z",
     "shell.execute_reply": "2022-12-15T11:31:25.459479Z",
     "shell.execute_reply.started": "2022-12-15T11:31:25.455775Z"
    }
   },
   "outputs": [],
   "source": [
    "df"
   ]
  },
  {
   "cell_type": "code",
   "execution_count": null,
   "id": "dca79593-392c-4a22-b03c-a513ae2d4321",
   "metadata": {
    "execution": {
     "iopub.execute_input": "2022-12-15T11:31:31.182007Z",
     "iopub.status.busy": "2022-12-15T11:31:31.181461Z",
     "iopub.status.idle": "2022-12-15T11:31:31.185858Z",
     "shell.execute_reply": "2022-12-15T11:31:31.185418Z",
     "shell.execute_reply.started": "2022-12-15T11:31:31.181984Z"
    },
    "tags": []
   },
   "outputs": [],
   "source": [
    "df[0] = df[0].str.wrap(50)"
   ]
  },
  {
   "cell_type": "code",
   "execution_count": null,
   "id": "48061d31-0d91-4b1f-84e3-912f2f02cb7d",
   "metadata": {
    "execution": {
     "iopub.execute_input": "2022-12-15T11:31:33.239003Z",
     "iopub.status.busy": "2022-12-15T11:31:33.238669Z",
     "iopub.status.idle": "2022-12-15T11:31:33.245100Z",
     "shell.execute_reply": "2022-12-15T11:31:33.244487Z",
     "shell.execute_reply.started": "2022-12-15T11:31:33.238981Z"
    }
   },
   "outputs": [],
   "source": [
    "df"
   ]
  },
  {
   "cell_type": "code",
   "execution_count": null,
   "id": "2078b9b7-1a64-44bc-b343-74fafd59f413",
   "metadata": {
    "execution": {
     "iopub.execute_input": "2022-12-15T11:30:06.151268Z",
     "iopub.status.busy": "2022-12-15T11:30:06.150857Z",
     "iopub.status.idle": "2022-12-15T11:30:06.157085Z",
     "shell.execute_reply": "2022-12-15T11:30:06.156317Z",
     "shell.execute_reply.started": "2022-12-15T11:30:06.151250Z"
    },
    "tags": []
   },
   "outputs": [],
   "source": [
    "with pd.option_context(\"display.max_colwidth\", -1):\n",
    "    display(df)"
   ]
  },
  {
   "cell_type": "code",
   "execution_count": null,
   "id": "0315855a-e177-4b2f-bd7c-276638e4aa8b",
   "metadata": {
    "execution": {
     "iopub.execute_input": "2022-12-01T01:50:28.444063Z",
     "iopub.status.busy": "2022-12-01T01:50:28.443789Z",
     "iopub.status.idle": "2022-12-01T01:50:28.446767Z",
     "shell.execute_reply": "2022-12-01T01:50:28.446247Z",
     "shell.execute_reply.started": "2022-12-01T01:50:28.444050Z"
    },
    "tags": []
   },
   "outputs": [],
   "source": [
    "import torch\n",
    "\n",
    "from tsdm.metrics import TimeSeriesMSE"
   ]
  },
  {
   "cell_type": "code",
   "execution_count": null,
   "id": "4586a6b1-1deb-48a5-936b-4be48f682c6d",
   "metadata": {},
   "outputs": [],
   "source": [
    "https://tubcloud.tu-berlin.de/s/P7SAkkaeGtAWJ2L?path=LinODEnet/demo"
   ]
  },
  {
   "cell_type": "code",
   "execution_count": null,
   "id": "85c45877-6657-4653-98b7-08042178f8c7",
   "metadata": {},
   "outputs": [],
   "source": [
    "https://tubcloud.tu-berlin.de/s/P7SAkkaeGtAWJ2L?path=/LinODEnet"
   ]
  },
  {
   "cell_type": "code",
   "execution_count": null,
   "id": "69aef6c5-4052-4284-95c5-9ebd461d0b7e",
   "metadata": {},
   "outputs": [],
   "source": []
  },
  {
   "cell_type": "code",
   "execution_count": null,
   "id": "2d13e361-52a8-4532-b05e-94194ec87a7d",
   "metadata": {},
   "outputs": [],
   "source": []
  },
  {
   "cell_type": "code",
   "execution_count": null,
   "id": "56d8703a-df2e-494d-8670-53108d512129",
   "metadata": {
    "execution": {
     "iopub.execute_input": "2022-12-01T02:31:55.458714Z",
     "iopub.status.busy": "2022-12-01T02:31:55.458255Z",
     "iopub.status.idle": "2022-12-01T02:31:58.426358Z",
     "shell.execute_reply": "2022-12-01T02:31:58.425964Z",
     "shell.execute_reply.started": "2022-12-01T02:31:55.458691Z"
    },
    "tags": []
   },
   "outputs": [],
   "source": [
    "task = KiwiTask()"
   ]
  },
  {
   "cell_type": "code",
   "execution_count": null,
   "id": "490346b4-bff3-4645-833b-0a6fdea904b1",
   "metadata": {
    "execution": {
     "iopub.execute_input": "2022-12-01T02:32:01.909168Z",
     "iopub.status.busy": "2022-12-01T02:32:01.908655Z",
     "iopub.status.idle": "2022-12-01T02:32:01.915225Z",
     "shell.execute_reply": "2022-12-01T02:32:01.914779Z",
     "shell.execute_reply.started": "2022-12-01T02:32:01.909152Z"
    }
   },
   "outputs": [],
   "source": [
    "task.observation_horizon"
   ]
  },
  {
   "cell_type": "code",
   "execution_count": null,
   "id": "448fec1e-e3e7-42e2-a6a0-d82dbabccd3a",
   "metadata": {
    "execution": {
     "iopub.execute_input": "2022-11-30T22:21:14.172988Z",
     "iopub.status.busy": "2022-11-30T22:21:14.172510Z",
     "iopub.status.idle": "2022-11-30T22:21:14.216657Z",
     "shell.execute_reply": "2022-11-30T22:21:14.215433Z",
     "shell.execute_reply.started": "2022-11-30T22:21:14.172965Z"
    },
    "tags": []
   },
   "outputs": [],
   "source": [
    "ts = task.dataset.timeseries\n",
    "ts"
   ]
  },
  {
   "cell_type": "code",
   "execution_count": null,
   "id": "6213be9d-bebd-41b2-a3a9-225780f57af2",
   "metadata": {
    "execution": {
     "iopub.execute_input": "2022-11-30T22:22:57.464889Z",
     "iopub.status.busy": "2022-11-30T22:22:57.464607Z",
     "iopub.status.idle": "2022-11-30T22:22:57.468568Z",
     "shell.execute_reply": "2022-11-30T22:22:57.468077Z",
     "shell.execute_reply.started": "2022-11-30T22:22:57.464877Z"
    },
    "tags": []
   },
   "outputs": [],
   "source": [
    "task.covariates"
   ]
  },
  {
   "cell_type": "code",
   "execution_count": null,
   "id": "cf336688-e83d-49c3-a506-7f675d15a1c1",
   "metadata": {
    "execution": {
     "iopub.execute_input": "2022-11-30T22:27:54.369394Z",
     "iopub.status.busy": "2022-11-30T22:27:54.368874Z",
     "iopub.status.idle": "2022-11-30T22:27:54.390587Z",
     "shell.execute_reply": "2022-11-30T22:27:54.390139Z",
     "shell.execute_reply.started": "2022-11-30T22:27:54.369369Z"
    }
   },
   "outputs": [],
   "source": [
    "ts"
   ]
  },
  {
   "cell_type": "code",
   "execution_count": null,
   "id": "e98c2d8b-2d07-444c-abb1-4c4045387911",
   "metadata": {
    "execution": {
     "iopub.execute_input": "2022-11-30T22:28:59.003286Z",
     "iopub.status.busy": "2022-11-30T22:28:59.002300Z",
     "iopub.status.idle": "2022-11-30T22:28:59.088268Z",
     "shell.execute_reply": "2022-11-30T22:28:59.087858Z",
     "shell.execute_reply.started": "2022-11-30T22:28:59.003260Z"
    },
    "tags": []
   },
   "outputs": [],
   "source": [
    "ts.loc[:, task.covariates] = (\n",
    "    ts.loc[:, task.covariates]\n",
    "    .groupby([\"run_id\", \"experiment_id\"])\n",
    "    .ffill()\n",
    "    .fillna(0)  # covariates before first entry\n",
    ")"
   ]
  },
  {
   "cell_type": "code",
   "execution_count": null,
   "id": "0d08be90-654f-4626-9413-e95f7c451f2c",
   "metadata": {},
   "outputs": [],
   "source": []
  },
  {
   "cell_type": "code",
   "execution_count": null,
   "id": "84a0c027-0c73-4e49-9503-f0a11296e128",
   "metadata": {
    "execution": {
     "iopub.execute_input": "2022-11-30T22:26:36.489939Z",
     "iopub.status.busy": "2022-11-30T22:26:36.489366Z",
     "iopub.status.idle": "2022-11-30T22:26:36.661642Z",
     "shell.execute_reply": "2022-11-30T22:26:36.661242Z",
     "shell.execute_reply.started": "2022-11-30T22:26:36.489914Z"
    },
    "tags": []
   },
   "outputs": [],
   "source": [
    "%matplotlib inline\n",
    "ts.loc[439, 15325].loc[:, task.covariates].ffill().fillna(0).plot()"
   ]
  },
  {
   "cell_type": "code",
   "execution_count": null,
   "id": "4d0e36cb-025d-46d6-b5af-4536665fd8bd",
   "metadata": {},
   "outputs": [],
   "source": []
  }
 ],
 "metadata": {
  "kernelspec": {
   "display_name": "Python 3 (ipykernel)",
   "language": "python",
   "name": "python3"
  },
  "language_info": {
   "codemirror_mode": {
    "name": "ipython",
    "version": 3
   },
   "file_extension": ".py",
   "mimetype": "text/x-python",
   "name": "python",
   "nbconvert_exporter": "python",
   "pygments_lexer": "ipython3",
   "version": "3.10.8"
  }
 },
 "nbformat": 4,
 "nbformat_minor": 5
}
