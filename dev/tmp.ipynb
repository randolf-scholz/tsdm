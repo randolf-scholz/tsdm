{
 "cells": [
  {
   "cell_type": "code",
   "execution_count": null,
   "id": "07574fc2-760a-4459-a90a-1c96de12484a",
   "metadata": {
    "execution": {
     "iopub.execute_input": "2023-06-28T13:57:54.079011Z",
     "iopub.status.busy": "2023-06-28T13:57:54.078793Z",
     "iopub.status.idle": "2023-06-28T13:57:54.101745Z",
     "shell.execute_reply": "2023-06-28T13:57:54.101403Z",
     "shell.execute_reply.started": "2023-06-28T13:57:54.078997Z"
    },
    "tags": []
   },
   "outputs": [],
   "source": [
    "%config InteractiveShell.ast_node_interactivity='last_expr_or_assign'  # always print last expr.\n",
    "%config InlineBackend.figure_format = 'svg'\n",
    "%load_ext autoreload\n",
    "%autoreload 2\n",
    "%matplotlib inline\n",
    "\n",
    "import logging\n",
    "\n",
    "logging.basicConfig(level=logging.INFO)"
   ]
  },
  {
   "cell_type": "code",
   "execution_count": null,
   "id": "49f21b02-8811-490b-805f-51096a4017e1",
   "metadata": {
    "execution": {
     "iopub.execute_input": "2023-06-29T11:25:35.224539Z",
     "iopub.status.busy": "2023-06-29T11:25:35.224244Z",
     "iopub.status.idle": "2023-06-29T11:25:36.760524Z",
     "shell.execute_reply": "2023-06-29T11:25:36.760065Z",
     "shell.execute_reply.started": "2023-06-29T11:25:35.224510Z"
    }
   },
   "outputs": [],
   "source": [
    "import numpy as np\n",
    "import pandas as pd\n",
    "import torch\n",
    "import pyarrow as pa"
   ]
  },
  {
   "cell_type": "code",
   "execution_count": null,
   "id": "1e387e63-aeae-407a-a8a5-38a2db962471",
   "metadata": {
    "execution": {
     "iopub.execute_input": "2023-06-29T12:56:21.537797Z",
     "iopub.status.busy": "2023-06-29T12:56:21.537530Z",
     "iopub.status.idle": "2023-06-29T12:56:21.575994Z",
     "shell.execute_reply": "2023-06-29T12:56:21.575572Z",
     "shell.execute_reply.started": "2023-06-29T12:56:21.537778Z"
    }
   },
   "outputs": [],
   "source": [
    "torch.ones_like([1, 2, 3])"
   ]
  },
  {
   "cell_type": "code",
   "execution_count": null,
   "id": "a2951f5a-b4d0-475c-96b7-448bad182ad4",
   "metadata": {
    "execution": {
     "iopub.execute_input": "2023-06-29T12:35:18.289670Z",
     "iopub.status.busy": "2023-06-29T12:35:18.289082Z",
     "iopub.status.idle": "2023-06-29T12:35:22.076248Z",
     "shell.execute_reply": "2023-06-29T12:35:22.075813Z",
     "shell.execute_reply.started": "2023-06-29T12:35:18.289619Z"
    }
   },
   "outputs": [],
   "source": [
    "import logging\n",
    "from typing import Any\n",
    "\n",
    "import numpy as np\n",
    "import pandas as pd\n",
    "import torch\n",
    "from pytest import mark, skip\n",
    "\n",
    "from tsdm.encoders.numerical import (\n",
    "    BoundaryEncoder,\n",
    "    LinearScaler,\n",
    "    MinMaxScaler,\n",
    "    StandardScaler,\n",
    "    get_broadcast,\n",
    "    get_reduced_axes,\n",
    ")"
   ]
  },
  {
   "cell_type": "code",
   "execution_count": null,
   "id": "5231c5ac-c5a1-4e56-9463-dae2b145b474",
   "metadata": {
    "execution": {
     "iopub.execute_input": "2023-06-29T12:35:22.077339Z",
     "iopub.status.busy": "2023-06-29T12:35:22.076892Z",
     "iopub.status.idle": "2023-06-29T12:35:22.258600Z",
     "shell.execute_reply": "2023-06-29T12:35:22.257952Z",
     "shell.execute_reply.started": "2023-06-29T12:35:22.077317Z"
    }
   },
   "outputs": [],
   "source": [
    "_data = [-2.0, -1.1, -1.0, -0.9, 0.0, 0.3, 0.5, 1.0, 1.5, 2.0]\n",
    "data: Any\n",
    "\n",
    "match backend:\n",
    "    case \"numpy\":\n",
    "        data = np.array(_data)\n",
    "    case \"torch\":\n",
    "        data = torch.tensor(_data)\n",
    "    case \"pandas\":\n",
    "        data = pd.Series(_data)\n",
    "    case _:\n",
    "        raise ValueError(f\"Unknown backend {backend}\")\n",
    "\n",
    "# test clip + numpy\n",
    "encoder = BoundaryEncoder(-1, +1, mode=\"clip\")\n",
    "encoder.fit(data)\n",
    "encoded = encoder.encode(data)\n",
    "assert all((encoded >= -1) & (encoded <= 1))\n",
    "assert (encoded == -1).sum() == (data <= -1).sum()\n",
    "assert (encoded == +1).sum() == (data >= +1).sum()\n",
    "\n",
    "if isinstance(data, pd.Series):\n",
    "    assert (\n",
    "        isinstance(encoded, pd.Series)\n",
    "        and encoded.shape == data.shape\n",
    "        and encoded.name == data.name\n",
    "        and encoded.index.equals(data.index)\n",
    "    )\n",
    "if isinstance(data, torch.Tensor):\n",
    "    assert isinstance(encoded, torch.Tensor) and encoded.shape == data.shape\n",
    "if isinstance(data, np.ndarray):\n",
    "    assert isinstance(encoded, np.ndarray) and encoded.shape == data.shape\n",
    "\n",
    "# test numpy + mask\n",
    "encoder = BoundaryEncoder(-1, +1, mode=\"mask\")\n",
    "encoder.fit(data)\n",
    "encoded = encoder.encode(data)\n",
    "assert all(np.isnan(encoded) ^ ((encoded >= -1) & (encoded <= 1)))\n",
    "assert np.isnan(encoded).sum() == ((data < -1).sum() + (data > +1).sum())\n",
    "\n",
    "# test fitting with mask\n",
    "encoder = BoundaryEncoder(mode=\"mask\")\n",
    "encoder.fit(data)\n",
    "encoded = encoder.encode(data)\n",
    "decoded = encoder.decode(encoded)\n",
    "assert not any(np.isnan(encoded))\n",
    "assert all(data == encoded)\n",
    "assert all(data == decoded)\n",
    "\n",
    "# encode some data that violates bounds\n",
    "data2 = data * 2\n",
    "encoded2 = encoder.encode(data2)\n",
    "xmin, xmax = data.min(), data.max()\n",
    "mask = (data2 >= xmin) & (data2 <= xmax)\n",
    "assert all(encoded2[mask] == data2[mask])\n",
    "assert all(np.isnan(encoded2[~mask]))\n",
    "\n",
    "# test half-open interval + clip\n",
    "encoder = BoundaryEncoder(0, None, mode=\"clip\")\n",
    "encoder.fit(data)\n",
    "encoded = encoder.encode(data)\n",
    "assert all(encoded >= 0)\n",
    "assert (encoded == 0).sum() == (data <= 0).sum()\n",
    "\n",
    "# test half-open unbounded interval + mask\n",
    "encoder = BoundaryEncoder(0, None, mode=\"mask\")\n",
    "encoder.fit(data)\n",
    "encoded = encoder.encode(data)\n",
    "assert all(np.isnan(encoded) ^ (encoded >= 0))\n",
    "assert np.isnan(encoded).sum() == (data < 0).sum()\n",
    "\n",
    "# test half-open bounded interval + mask\n",
    "encoder = BoundaryEncoder(0, 1, mode=\"mask\", lower_included=False)\n",
    "encoder.fit(data)\n",
    "encoded = encoder.encode(data)\n",
    "assert all(np.isnan(encoded) ^ (encoded > 0))\n",
    "assert np.isnan(encoded).sum() == ((data <= 0).sum() + (data > 1).sum())"
   ]
  },
  {
   "cell_type": "code",
   "execution_count": null,
   "id": "bba686d3-0232-454e-8cfa-498e1e2decf3",
   "metadata": {},
   "outputs": [],
   "source": []
  }
 ],
 "metadata": {
  "kernelspec": {
   "display_name": "Python 3 (ipykernel)",
   "language": "python",
   "name": "python3"
  },
  "language_info": {
   "codemirror_mode": {
    "name": "ipython",
    "version": 3
   },
   "file_extension": ".py",
   "mimetype": "text/x-python",
   "name": "python",
   "nbconvert_exporter": "python",
   "pygments_lexer": "ipython3",
   "version": "3.11.3"
  }
 },
 "nbformat": 4,
 "nbformat_minor": 5
}
