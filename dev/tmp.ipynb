{
 "cells": [
  {
   "cell_type": "code",
   "execution_count": null,
   "id": "07574fc2-760a-4459-a90a-1c96de12484a",
   "metadata": {
    "execution": {
     "iopub.execute_input": "2023-06-21T11:04:38.815630Z",
     "iopub.status.busy": "2023-06-21T11:04:38.815476Z",
     "iopub.status.idle": "2023-06-21T11:04:39.182315Z",
     "shell.execute_reply": "2023-06-21T11:04:39.181883Z",
     "shell.execute_reply.started": "2023-06-21T11:04:38.815618Z"
    },
    "tags": []
   },
   "outputs": [],
   "source": [
    "%config InteractiveShell.ast_node_interactivity='last_expr_or_assign'  # always print last expr.\n",
    "%config InlineBackend.figure_format = 'svg'\n",
    "%load_ext autoreload\n",
    "%autoreload 2\n",
    "%matplotlib inline\n",
    "\n",
    "import logging\n",
    "\n",
    "logging.basicConfig(level=logging.INFO)"
   ]
  },
  {
   "cell_type": "code",
   "execution_count": null,
   "id": "6169a6b4-27c9-4316-a729-44a8415491d5",
   "metadata": {
    "execution": {
     "iopub.execute_input": "2023-06-21T11:04:39.183185Z",
     "iopub.status.busy": "2023-06-21T11:04:39.183034Z",
     "iopub.status.idle": "2023-06-21T11:04:42.303209Z",
     "shell.execute_reply": "2023-06-21T11:04:42.302698Z",
     "shell.execute_reply.started": "2023-06-21T11:04:39.183173Z"
    }
   },
   "outputs": [],
   "source": [
    "import numpy as np\n",
    "import pandas as pd\n",
    "import torch\n",
    "\n",
    "from tsdm.encoders.numerical import BoundaryEncoder"
   ]
  },
  {
   "cell_type": "code",
   "execution_count": null,
   "id": "cad95cf5-b245-43a1-984d-8c287beb72b4",
   "metadata": {
    "execution": {
     "iopub.execute_input": "2023-06-20T18:08:40.089480Z",
     "iopub.status.busy": "2023-06-20T18:08:40.088999Z",
     "iopub.status.idle": "2023-06-20T18:08:40.096920Z",
     "shell.execute_reply": "2023-06-20T18:08:40.096480Z",
     "shell.execute_reply.started": "2023-06-20T18:08:40.089456Z"
    }
   },
   "outputs": [],
   "source": [
    "encoder = BoundaryEncoder(0, 1, mode=\"clip\")\n",
    "data = torch.tensor(np.random.randn(100))\n",
    "encoder.fit(data)\n",
    "encoder.encode(data)"
   ]
  },
  {
   "cell_type": "code",
   "execution_count": null,
   "id": "b595b875-bc7b-45de-bef8-7353b696162e",
   "metadata": {
    "execution": {
     "iopub.execute_input": "2023-06-20T18:13:30.130561Z",
     "iopub.status.busy": "2023-06-20T18:13:30.130332Z",
     "iopub.status.idle": "2023-06-20T18:13:30.134804Z",
     "shell.execute_reply": "2023-06-20T18:13:30.134440Z",
     "shell.execute_reply.started": "2023-06-20T18:13:30.130539Z"
    }
   },
   "outputs": [],
   "source": [
    "np.where(data <= 1, np.where(data >= 0, data, float(\"nan\")), float(\"nan\"))"
   ]
  },
  {
   "cell_type": "code",
   "execution_count": null,
   "id": "09e5b1d1-f64f-4db4-a1b0-61afaf283493",
   "metadata": {
    "execution": {
     "iopub.execute_input": "2023-06-20T18:13:38.448201Z",
     "iopub.status.busy": "2023-06-20T18:13:38.447851Z",
     "iopub.status.idle": "2023-06-20T18:13:38.451975Z",
     "shell.execute_reply": "2023-06-20T18:13:38.451644Z",
     "shell.execute_reply.started": "2023-06-20T18:13:38.448178Z"
    }
   },
   "outputs": [],
   "source": [
    "x <= 1"
   ]
  },
  {
   "cell_type": "code",
   "execution_count": null,
   "id": "349f692d-f4cf-4b86-9bb8-25044736807e",
   "metadata": {
    "execution": {
     "iopub.execute_input": "2023-06-21T10:59:01.678940Z",
     "iopub.status.busy": "2023-06-21T10:59:01.678686Z",
     "iopub.status.idle": "2023-06-21T10:59:01.681982Z",
     "shell.execute_reply": "2023-06-21T10:59:01.681602Z",
     "shell.execute_reply.started": "2023-06-21T10:59:01.678924Z"
    }
   },
   "outputs": [],
   "source": [
    "1 if True else 2 if False else 3"
   ]
  },
  {
   "cell_type": "code",
   "execution_count": null,
   "id": "b020f355-eb07-4939-95d6-a2488fd48feb",
   "metadata": {
    "execution": {
     "iopub.execute_input": "2023-06-21T11:04:53.704801Z",
     "iopub.status.busy": "2023-06-21T11:04:53.704467Z",
     "iopub.status.idle": "2023-06-21T11:04:53.744661Z",
     "shell.execute_reply": "2023-06-21T11:04:53.744215Z",
     "shell.execute_reply.started": "2023-06-21T11:04:53.704779Z"
    }
   },
   "outputs": [],
   "source": [
    "data = np.array([-2.0, -1.1, -1.0, -0.9, 0.0, 0.3, 0.5, 1.0, 1.5, 2.0])\n",
    "\n",
    "# test clip + numpy\n",
    "encoder = BoundaryEncoder(-1, +1, mode=\"clip\")\n",
    "encoder.fit(data)\n",
    "encoded = encoder.encode(data)"
   ]
  },
  {
   "cell_type": "code",
   "execution_count": null,
   "id": "843ce221-0ecc-4fa6-a809-4718f06f8583",
   "metadata": {
    "execution": {
     "iopub.execute_input": "2023-06-21T11:04:54.136501Z",
     "iopub.status.busy": "2023-06-21T11:04:54.136324Z",
     "iopub.status.idle": "2023-06-21T11:04:54.176944Z",
     "shell.execute_reply": "2023-06-21T11:04:54.176531Z",
     "shell.execute_reply.started": "2023-06-21T11:04:54.136487Z"
    }
   },
   "outputs": [],
   "source": [
    "encoded"
   ]
  },
  {
   "cell_type": "code",
   "execution_count": null,
   "id": "0071f446-9ffb-4a7c-94e2-b762cf9220df",
   "metadata": {
    "execution": {
     "iopub.execute_input": "2023-06-21T11:05:39.284066Z",
     "iopub.status.busy": "2023-06-21T11:05:39.283722Z",
     "iopub.status.idle": "2023-06-21T11:05:39.327441Z",
     "shell.execute_reply": "2023-06-21T11:05:39.326954Z",
     "shell.execute_reply.started": "2023-06-21T11:05:39.284039Z"
    }
   },
   "outputs": [],
   "source": [
    "self = encoder"
   ]
  },
  {
   "cell_type": "code",
   "execution_count": null,
   "id": "07fed9c2-1ee2-4f7e-ae8d-0fc2251363f5",
   "metadata": {
    "execution": {
     "iopub.execute_input": "2023-06-21T11:05:46.085532Z",
     "iopub.status.busy": "2023-06-21T11:05:46.084949Z",
     "iopub.status.idle": "2023-06-21T11:05:46.150141Z",
     "shell.execute_reply": "2023-06-21T11:05:46.149551Z",
     "shell.execute_reply.started": "2023-06-21T11:05:46.085495Z"
    }
   },
   "outputs": [],
   "source": [
    "lower_mask = self.lower_compare(data, self.lower_bound)"
   ]
  },
  {
   "cell_type": "code",
   "execution_count": null,
   "id": "f44f727d-e0bb-4fc3-810e-9a67d1c58b86",
   "metadata": {
    "execution": {
     "iopub.execute_input": "2023-06-21T11:06:10.055333Z",
     "iopub.status.busy": "2023-06-21T11:06:10.055082Z",
     "iopub.status.idle": "2023-06-21T11:06:10.416188Z",
     "shell.execute_reply": "2023-06-21T11:06:10.415630Z",
     "shell.execute_reply.started": "2023-06-21T11:06:10.055317Z"
    }
   },
   "outputs": [],
   "source": [
    "self.lower_compare()"
   ]
  },
  {
   "cell_type": "code",
   "execution_count": null,
   "id": "59ea4e2b-1ba4-4c4f-92ee-cc061105cc79",
   "metadata": {},
   "outputs": [],
   "source": []
  }
 ],
 "metadata": {
  "kernelspec": {
   "display_name": "Python 3 (ipykernel)",
   "language": "python",
   "name": "python3"
  },
  "language_info": {
   "codemirror_mode": {
    "name": "ipython",
    "version": 3
   },
   "file_extension": ".py",
   "mimetype": "text/x-python",
   "name": "python",
   "nbconvert_exporter": "python",
   "pygments_lexer": "ipython3",
   "version": "3.11.3"
  }
 },
 "nbformat": 4,
 "nbformat_minor": 5
}
