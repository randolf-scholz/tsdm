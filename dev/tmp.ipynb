{
 "cells": [
  {
   "cell_type": "code",
   "execution_count": null,
   "id": "07574fc2-760a-4459-a90a-1c96de12484a",
   "metadata": {
    "execution": {
     "iopub.execute_input": "2023-06-13T13:01:17.279541Z",
     "iopub.status.busy": "2023-06-13T13:01:17.279303Z",
     "iopub.status.idle": "2023-06-13T13:01:17.672743Z",
     "shell.execute_reply": "2023-06-13T13:01:17.672277Z",
     "shell.execute_reply.started": "2023-06-13T13:01:17.279517Z"
    },
    "tags": []
   },
   "outputs": [],
   "source": [
    "%config InteractiveShell.ast_node_interactivity='last_expr_or_assign'  # always print last expr.\n",
    "%config InlineBackend.figure_format = 'svg'\n",
    "%load_ext autoreload\n",
    "%autoreload 2\n",
    "%matplotlib inline\n",
    "\n",
    "import logging\n",
    "\n",
    "logging.basicConfig(level=logging.INFO)"
   ]
  },
  {
   "cell_type": "code",
   "execution_count": null,
   "id": "58105998-0ec8-4df5-a6de-fca229bb8dfb",
   "metadata": {},
   "outputs": [],
   "source": []
  },
  {
   "cell_type": "code",
   "execution_count": null,
   "id": "839a88a4-812c-4f9c-8091-53b44c409022",
   "metadata": {
    "execution": {
     "iopub.execute_input": "2023-06-13T14:24:58.512567Z",
     "iopub.status.busy": "2023-06-13T14:24:58.512375Z",
     "iopub.status.idle": "2023-06-13T14:24:58.560602Z",
     "shell.execute_reply": "2023-06-13T14:24:58.559773Z",
     "shell.execute_reply.started": "2023-06-13T14:24:58.512554Z"
    },
    "tags": []
   },
   "outputs": [],
   "source": [
    "x = np.arange(5, 100)\n",
    "arr = pa.array(x)\n",
    "pa.compute.divide(arr, arr)"
   ]
  },
  {
   "cell_type": "code",
   "execution_count": null,
   "id": "5f673503-1564-4dc7-8115-1bdac0070a08",
   "metadata": {
    "execution": {
     "iopub.execute_input": "2023-06-13T14:42:23.636921Z",
     "iopub.status.busy": "2023-06-13T14:42:23.636653Z",
     "iopub.status.idle": "2023-06-13T14:42:23.678876Z",
     "shell.execute_reply": "2023-06-13T14:42:23.678128Z",
     "shell.execute_reply.started": "2023-06-13T14:42:23.636902Z"
    },
    "tags": []
   },
   "outputs": [],
   "source": [
    "s.astype(\"timedelta64[ns]\")"
   ]
  },
  {
   "cell_type": "code",
   "execution_count": null,
   "id": "f842d8ff-56c8-4e23-bfe4-8a9001bde7d4",
   "metadata": {},
   "outputs": [],
   "source": []
  },
  {
   "cell_type": "code",
   "execution_count": null,
   "id": "24d6c8f6-36f1-46ee-a826-f5beacf71208",
   "metadata": {
    "execution": {
     "iopub.execute_input": "2023-06-13T14:32:40.315398Z",
     "iopub.status.busy": "2023-06-13T14:32:40.315193Z",
     "iopub.status.idle": "2023-06-13T14:32:40.397306Z",
     "shell.execute_reply": "2023-06-13T14:32:40.396380Z",
     "shell.execute_reply.started": "2023-06-13T14:32:40.315385Z"
    },
    "tags": []
   },
   "outputs": [],
   "source": [
    "import numpy as np\n",
    "import pyarrow as pa\n",
    "\n",
    "dt = np.linspace(0, 100) * np.timedelta64(1, \"s\")\n",
    "arr = pa.array(dt)\n",
    "pa.compute.is_in(arr, arr)"
   ]
  },
  {
   "cell_type": "code",
   "execution_count": null,
   "id": "bd88a546-003f-462a-a7aa-8263299b4318",
   "metadata": {
    "execution": {
     "iopub.execute_input": "2023-06-13T14:48:15.517754Z",
     "iopub.status.busy": "2023-06-13T14:48:15.517496Z",
     "iopub.status.idle": "2023-06-13T14:48:16.533231Z",
     "shell.execute_reply": "2023-06-13T14:48:16.532282Z",
     "shell.execute_reply.started": "2023-06-13T14:48:15.517735Z"
    },
    "tags": []
   },
   "outputs": [],
   "source": [
    "import pandas as pd\n",
    "\n",
    "import tsdm"
   ]
  },
  {
   "cell_type": "code",
   "execution_count": null,
   "id": "6b35de2e-edda-41a8-89da-e656200f241d",
   "metadata": {
    "execution": {
     "iopub.execute_input": "2023-06-13T14:48:32.477368Z",
     "iopub.status.busy": "2023-06-13T14:48:32.477007Z",
     "iopub.status.idle": "2023-06-13T14:48:32.967048Z",
     "shell.execute_reply": "2023-06-13T14:48:32.966466Z",
     "shell.execute_reply.started": "2023-06-13T14:48:32.477345Z"
    },
    "tags": []
   },
   "outputs": [],
   "source": [
    "ds = tsdm.datasets.KIWI_RUNS()\n",
    "\n",
    "ts = ds.timeseries"
   ]
  },
  {
   "cell_type": "code",
   "execution_count": null,
   "id": "0d7eecd1-ae1b-4074-8291-584f0ca607db",
   "metadata": {
    "execution": {
     "iopub.execute_input": "2023-06-13T15:21:34.567815Z",
     "iopub.status.busy": "2023-06-13T15:21:34.567616Z",
     "iopub.status.idle": "2023-06-13T15:21:34.625357Z",
     "shell.execute_reply": "2023-06-13T15:21:34.624500Z",
     "shell.execute_reply.started": "2023-06-13T15:21:34.567802Z"
    },
    "tags": []
   },
   "outputs": [],
   "source": [
    "import numpy as np\n",
    "import pandas as pd\n",
    "import pyarrow as pa\n",
    "\n",
    "s_arrow = pd.Series(np.arange(100), dtype=\"int32[pyarrow]\")\n",
    "s_numpy = pd.Series(np.arange(100), dtype=\"Int32\")\n",
    "\n",
    "s = s_arrow.convert_dtypes(dtype_backend=\"numpy_nullable\")\n",
    "assert s_numpy.dtype == s.dtype"
   ]
  },
  {
   "cell_type": "code",
   "execution_count": null,
   "id": "81444b0d-42dd-4e13-80bf-826912226f79",
   "metadata": {
    "execution": {
     "iopub.execute_input": "2023-06-13T15:20:22.190569Z",
     "iopub.status.busy": "2023-06-13T15:20:22.190287Z",
     "iopub.status.idle": "2023-06-13T15:20:22.232856Z",
     "shell.execute_reply": "2023-06-13T15:20:22.232401Z",
     "shell.execute_reply.started": "2023-06-13T15:20:22.190553Z"
    },
    "tags": []
   },
   "outputs": [],
   "source": [
    "s_numpy = pd.Series(np.arange(100), dtype=\"int32\")"
   ]
  },
  {
   "cell_type": "code",
   "execution_count": null,
   "id": "c981df10-8e5b-445c-9753-274a0b61d3f1",
   "metadata": {
    "execution": {
     "iopub.execute_input": "2023-06-13T15:20:25.112394Z",
     "iopub.status.busy": "2023-06-13T15:20:25.111745Z",
     "iopub.status.idle": "2023-06-13T15:20:25.153356Z",
     "shell.execute_reply": "2023-06-13T15:20:25.152509Z",
     "shell.execute_reply.started": "2023-06-13T15:20:25.112374Z"
    },
    "tags": []
   },
   "outputs": [],
   "source": [
    "s_numpy.convert_dtypes(dtype_backend=\"numpy_nullable\")"
   ]
  },
  {
   "cell_type": "code",
   "execution_count": null,
   "id": "82aaa0ba-42b1-4ece-9c58-20c674cb6d50",
   "metadata": {
    "execution": {
     "iopub.execute_input": "2023-06-13T14:49:00.534382Z",
     "iopub.status.busy": "2023-06-13T14:49:00.534103Z",
     "iopub.status.idle": "2023-06-13T14:49:00.575770Z",
     "shell.execute_reply": "2023-06-13T14:49:00.574454Z",
     "shell.execute_reply.started": "2023-06-13T14:49:00.534366Z"
    },
    "tags": []
   },
   "outputs": [],
   "source": [
    "import torch"
   ]
  },
  {
   "cell_type": "code",
   "execution_count": null,
   "id": "7231a4b1-466a-4185-81dc-994355f57172",
   "metadata": {
    "execution": {
     "iopub.execute_input": "2023-06-13T14:49:33.736835Z",
     "iopub.status.busy": "2023-06-13T14:49:33.736629Z",
     "iopub.status.idle": "2023-06-13T14:49:33.793125Z",
     "shell.execute_reply": "2023-06-13T14:49:33.792459Z",
     "shell.execute_reply.started": "2023-06-13T14:49:33.736822Z"
    },
    "tags": []
   },
   "outputs": [],
   "source": [
    "torch.tensor(ts.iloc[:, 0].values)"
   ]
  },
  {
   "cell_type": "code",
   "execution_count": null,
   "id": "242f186a-fb11-4597-9d97-8071a6b912dc",
   "metadata": {
    "execution": {
     "iopub.execute_input": "2023-06-13T14:59:34.772521Z",
     "iopub.status.busy": "2023-06-13T14:59:34.771351Z",
     "iopub.status.idle": "2023-06-13T14:59:34.832136Z",
     "shell.execute_reply": "2023-06-13T14:59:34.831150Z",
     "shell.execute_reply.started": "2023-06-13T14:59:34.772501Z"
    },
    "tags": []
   },
   "outputs": [],
   "source": [
    "torch.tensor(pa.Array.from_pandas(ts.Flow_Air))"
   ]
  },
  {
   "cell_type": "code",
   "execution_count": null,
   "id": "d3a7f866-aada-4d37-9078-c7093e1299fb",
   "metadata": {
    "execution": {
     "iopub.execute_input": "2023-06-13T15:04:23.558025Z",
     "iopub.status.busy": "2023-06-13T15:04:23.557829Z",
     "iopub.status.idle": "2023-06-13T15:04:23.670293Z",
     "shell.execute_reply": "2023-06-13T15:04:23.669302Z",
     "shell.execute_reply.started": "2023-06-13T15:04:23.558011Z"
    },
    "tags": []
   },
   "outputs": [],
   "source": [
    "ts.astype(\"float32\").dtypes"
   ]
  },
  {
   "cell_type": "code",
   "execution_count": null,
   "id": "27b51c42-0a84-421d-b07b-cf82819e81e6",
   "metadata": {
    "execution": {
     "iopub.execute_input": "2023-06-13T14:58:34.765483Z",
     "iopub.status.busy": "2023-06-13T14:58:34.765294Z",
     "iopub.status.idle": "2023-06-13T14:58:34.836234Z",
     "shell.execute_reply": "2023-06-13T14:58:34.835690Z",
     "shell.execute_reply.started": "2023-06-13T14:58:34.765470Z"
    },
    "tags": []
   },
   "outputs": [],
   "source": [
    "pa.Table.from_pandas(ts).to_pandas().dtypes"
   ]
  },
  {
   "cell_type": "code",
   "execution_count": null,
   "id": "22ae7bff-a6d5-4ea3-8cc2-aebe34bb83f0",
   "metadata": {
    "execution": {
     "iopub.execute_input": "2023-06-13T14:53:46.305615Z",
     "iopub.status.busy": "2023-06-13T14:53:46.305404Z",
     "iopub.status.idle": "2023-06-13T14:53:46.347399Z",
     "shell.execute_reply": "2023-06-13T14:53:46.346546Z",
     "shell.execute_reply.started": "2023-06-13T14:53:46.305602Z"
    },
    "tags": []
   },
   "outputs": [],
   "source": [
    "ts.convert_dtypes(dtype_backend=\"numpy_nullable\").dtypes"
   ]
  },
  {
   "cell_type": "code",
   "execution_count": null,
   "id": "1a820593-3527-4998-b53c-ca4cbcca4357",
   "metadata": {
    "execution": {
     "iopub.execute_input": "2023-06-13T12:48:35.673297Z",
     "iopub.status.busy": "2023-06-13T12:48:35.673125Z",
     "iopub.status.idle": "2023-06-13T12:48:35.712562Z",
     "shell.execute_reply": "2023-06-13T12:48:35.712156Z",
     "shell.execute_reply.started": "2023-06-13T12:48:35.673285Z"
    },
    "tags": []
   },
   "outputs": [],
   "source": [
    "18446744073709551615"
   ]
  },
  {
   "cell_type": "code",
   "execution_count": null,
   "id": "78eee54b-ad42-4b88-aa54-1bbeababf59c",
   "metadata": {
    "execution": {
     "iopub.execute_input": "2023-06-13T12:49:28.853076Z",
     "iopub.status.busy": "2023-06-13T12:49:28.852712Z",
     "iopub.status.idle": "2023-06-13T12:49:28.894769Z",
     "shell.execute_reply": "2023-06-13T12:49:28.894106Z",
     "shell.execute_reply.started": "2023-06-13T12:49:28.853060Z"
    },
    "tags": []
   },
   "outputs": [],
   "source": [
    "2**63 + 2**63 - 1"
   ]
  },
  {
   "cell_type": "code",
   "execution_count": null,
   "id": "2a5e8246-6d4e-4596-bc80-d9a5755c6dbf",
   "metadata": {
    "execution": {
     "iopub.execute_input": "2023-06-13T12:42:36.831446Z",
     "iopub.status.busy": "2023-06-13T12:42:36.831314Z",
     "iopub.status.idle": "2023-06-13T12:42:37.330903Z",
     "shell.execute_reply": "2023-06-13T12:42:37.330187Z",
     "shell.execute_reply.started": "2023-06-13T12:42:36.831432Z"
    },
    "tags": []
   },
   "outputs": [],
   "source": [
    "ds.load(\"metadata\", validate=False)"
   ]
  },
  {
   "cell_type": "code",
   "execution_count": null,
   "id": "068c4f7e-cb10-435b-a05d-37679fd9dfea",
   "metadata": {
    "execution": {
     "iopub.execute_input": "2023-06-13T12:36:45.977172Z",
     "iopub.status.busy": "2023-06-13T12:36:45.976990Z",
     "iopub.status.idle": "2023-06-13T12:36:46.031801Z",
     "shell.execute_reply": "2023-06-13T12:36:46.031331Z",
     "shell.execute_reply.started": "2023-06-13T12:36:45.977162Z"
    },
    "tags": []
   },
   "outputs": [],
   "source": [
    "ds.deserialize(ds.dataset_paths[\"metadata\"])"
   ]
  },
  {
   "cell_type": "code",
   "execution_count": null,
   "id": "6acb34c4-c14b-4d8e-8ff9-2bde17582764",
   "metadata": {
    "execution": {
     "iopub.execute_input": "2023-06-13T12:35:46.925605Z",
     "iopub.status.busy": "2023-06-13T12:35:46.925430Z",
     "iopub.status.idle": "2023-06-13T12:35:46.984725Z",
     "shell.execute_reply": "2023-06-13T12:35:46.984335Z",
     "shell.execute_reply.started": "2023-06-13T12:35:46.925592Z"
    },
    "tags": []
   },
   "outputs": [],
   "source": [
    "pd.read_parquet(ds.dataset_paths[\"metadata\"], dtype_backend=\"pyarrow\")"
   ]
  },
  {
   "cell_type": "code",
   "execution_count": null,
   "id": "55ea1729-370d-4578-9fd7-43565840ca12",
   "metadata": {
    "execution": {
     "iopub.execute_input": "2023-06-13T12:34:18.612300Z",
     "iopub.status.busy": "2023-06-13T12:34:18.612108Z",
     "iopub.status.idle": "2023-06-13T12:34:52.151897Z",
     "shell.execute_reply": "2023-06-13T12:34:52.151371Z",
     "shell.execute_reply.started": "2023-06-13T12:34:18.612286Z"
    },
    "tags": []
   },
   "outputs": [],
   "source": [
    "ds.load(\"metadata\", validate=False)"
   ]
  },
  {
   "cell_type": "code",
   "execution_count": null,
   "id": "f3dd4551-a570-45cc-89c4-4a4528eb2cdf",
   "metadata": {
    "execution": {
     "iopub.execute_input": "2023-06-13T12:31:02.991308Z",
     "iopub.status.busy": "2023-06-13T12:31:02.991091Z",
     "iopub.status.idle": "2023-06-13T12:31:56.898031Z",
     "shell.execute_reply": "2023-06-13T12:31:56.897308Z",
     "shell.execute_reply.started": "2023-06-13T12:31:02.991287Z"
    },
    "tags": []
   },
   "outputs": [],
   "source": [
    "tsdm.tasks.KiwiTask()"
   ]
  },
  {
   "cell_type": "code",
   "execution_count": null,
   "id": "6ed3dd05-225d-48d9-a969-9793edcb3fde",
   "metadata": {
    "execution": {
     "iopub.execute_input": "2023-06-13T12:19:43.770073Z",
     "iopub.status.busy": "2023-06-13T12:19:43.769826Z",
     "iopub.status.idle": "2023-06-13T12:19:43.789703Z",
     "shell.execute_reply": "2023-06-13T12:19:43.789068Z",
     "shell.execute_reply.started": "2023-06-13T12:19:43.770057Z"
    },
    "tags": []
   },
   "outputs": [],
   "source": [
    "import logging\n",
    "\n",
    "from pandas import DataFrame, MultiIndex\n",
    "from torch.utils.data import DataLoader\n",
    "\n",
    "from tsdm.datasets import InSilicoData, TimeSeriesCollection, TimeSeriesDataset\n",
    "from tsdm.random.samplers import HierarchicalSampler, SlidingWindowSampler\n",
    "from tsdm.tasks import InSilicoSampleGenerator, InSilicoTask\n",
    "from tsdm.tasks.base import Sample, TimeSeriesSampleGenerator\n",
    "\n",
    "\"\"\"Test the TimeSeriesSampleGenerator.\"\"\"\n",
    "__logger__ = logging.getLogger(__name__)\n",
    "\n",
    "LOGGER = __logger__.getChild(TimeSeriesSampleGenerator.__name__)\n",
    "LOGGER.info(\"Testing.\")\n",
    "\n",
    "# make dataset\n",
    "dataset = InSilicoData()\n",
    "TSC = TimeSeriesCollection(\n",
    "    timeseries=dataset.timeseries,\n",
    ")\n",
    "\n",
    "# make sampler, generate key\n",
    "subsamplers = {\n",
    "    key: SlidingWindowSampler(ds.timeseries.index, horizons=[\"2h\", \"1h\"], stride=\"1h\")\n",
    "    for key, ds in TSC.items()\n",
    "}\n",
    "sampler = HierarchicalSampler(TSC, subsamplers, shuffle=False)\n",
    "key = next(iter(sampler))\n",
    "\n",
    "# construct the task dataset\n",
    "targets = [\"Biomass\", \"Product\"]\n",
    "observables = [\"Biomass\", \"Substrate\", \"Acetate\", \"DOTm\"]\n",
    "covariates = [\"Volume\", \"Feed\"]\n",
    "\n",
    "task = TimeSeriesSampleGenerator(\n",
    "    TSC,\n",
    "    targets=targets,\n",
    "    observables=observables,\n",
    "    covariates=covariates,\n",
    "    sparse_index=True,\n",
    "    sparse_columns=True,\n",
    ")"
   ]
  },
  {
   "cell_type": "code",
   "execution_count": null,
   "id": "883dd702-6ce1-4ef1-9d36-164c48549e30",
   "metadata": {
    "execution": {
     "iopub.execute_input": "2023-06-13T12:19:53.579289Z",
     "iopub.status.busy": "2023-06-13T12:19:53.579063Z",
     "iopub.status.idle": "2023-06-13T12:19:53.583163Z",
     "shell.execute_reply": "2023-06-13T12:19:53.582825Z",
     "shell.execute_reply.started": "2023-06-13T12:19:53.579273Z"
    },
    "tags": []
   },
   "outputs": [],
   "source": [
    "key"
   ]
  },
  {
   "cell_type": "code",
   "execution_count": null,
   "id": "47db65ec-d860-4a2f-a9bd-f60d843e875a",
   "metadata": {
    "execution": {
     "iopub.execute_input": "2023-06-13T12:20:00.238620Z",
     "iopub.status.busy": "2023-06-13T12:20:00.238378Z",
     "iopub.status.idle": "2023-06-13T12:20:00.683710Z",
     "shell.execute_reply": "2023-06-13T12:20:00.683158Z",
     "shell.execute_reply.started": "2023-06-13T12:20:00.238604Z"
    },
    "tags": []
   },
   "outputs": [],
   "source": [
    "task[key]"
   ]
  },
  {
   "cell_type": "code",
   "execution_count": null,
   "id": "c507a259-e361-4900-bf46-0fdcfc33fb07",
   "metadata": {
    "execution": {
     "iopub.execute_input": "2023-06-13T12:04:54.652392Z",
     "iopub.status.busy": "2023-06-13T12:04:54.652263Z",
     "iopub.status.idle": "2023-06-13T12:04:58.184082Z",
     "shell.execute_reply": "2023-06-13T12:04:58.183624Z",
     "shell.execute_reply.started": "2023-06-13T12:04:54.652381Z"
    },
    "tags": []
   },
   "outputs": [],
   "source": [
    "sample = task[key]"
   ]
  },
  {
   "cell_type": "code",
   "execution_count": null,
   "id": "bb256eef-3861-4d1a-8a8a-53c5a477056c",
   "metadata": {
    "execution": {
     "iopub.execute_input": "2023-06-13T12:04:58.185101Z",
     "iopub.status.busy": "2023-06-13T12:04:58.184800Z",
     "iopub.status.idle": "2023-06-13T12:04:58.198920Z",
     "shell.execute_reply": "2023-06-13T12:04:58.198616Z",
     "shell.execute_reply.started": "2023-06-13T12:04:58.185080Z"
    },
    "tags": []
   },
   "outputs": [],
   "source": [
    "key = next(iter(sampler))\n",
    "idx, (obs, fct) = key\n",
    "generator[key]"
   ]
  },
  {
   "cell_type": "code",
   "execution_count": null,
   "id": "cb82e331-e8d3-416f-8727-4f40c1699181",
   "metadata": {
    "execution": {
     "iopub.execute_input": "2023-06-13T11:58:22.542306Z",
     "iopub.status.busy": "2023-06-13T11:58:22.541261Z",
     "iopub.status.idle": "2023-06-13T11:58:22.565571Z",
     "shell.execute_reply": "2023-06-13T11:58:22.564981Z",
     "shell.execute_reply.started": "2023-06-13T11:58:22.542266Z"
    },
    "tags": []
   },
   "outputs": [],
   "source": [
    "task.dataset[idx][obs]"
   ]
  },
  {
   "cell_type": "code",
   "execution_count": null,
   "id": "7b7c683e-87d1-419a-96d3-9e93254a0170",
   "metadata": {
    "execution": {
     "iopub.execute_input": "2023-06-13T10:56:07.226527Z",
     "iopub.status.busy": "2023-06-13T10:56:07.226274Z",
     "iopub.status.idle": "2023-06-13T10:56:07.229245Z",
     "shell.execute_reply": "2023-06-13T10:56:07.228945Z",
     "shell.execute_reply.started": "2023-06-13T10:56:07.226512Z"
    },
    "tags": []
   },
   "outputs": [],
   "source": [
    "next(iter(generator))"
   ]
  },
  {
   "cell_type": "code",
   "execution_count": null,
   "id": "7848a138-552d-4909-a41f-e6ffffda5903",
   "metadata": {
    "execution": {
     "iopub.execute_input": "2023-06-13T10:56:57.446298Z",
     "iopub.status.busy": "2023-06-13T10:56:57.446108Z",
     "iopub.status.idle": "2023-06-13T10:56:57.449581Z",
     "shell.execute_reply": "2023-06-13T10:56:57.449139Z",
     "shell.execute_reply.started": "2023-06-13T10:56:57.446285Z"
    },
    "tags": []
   },
   "outputs": [],
   "source": [
    "generator.dataset.metaindex"
   ]
  },
  {
   "cell_type": "code",
   "execution_count": null,
   "id": "8e5a446f-34f7-4120-996d-59b2df803a52",
   "metadata": {
    "execution": {
     "iopub.execute_input": "2023-06-13T10:59:51.957056Z",
     "iopub.status.busy": "2023-06-13T10:59:51.956779Z",
     "iopub.status.idle": "2023-06-13T10:59:51.960480Z",
     "shell.execute_reply": "2023-06-13T10:59:51.960106Z",
     "shell.execute_reply.started": "2023-06-13T10:59:51.957039Z"
    },
    "tags": []
   },
   "outputs": [],
   "source": [
    "generator"
   ]
  },
  {
   "cell_type": "code",
   "execution_count": null,
   "id": "21519249-ab4e-4e1f-9fb8-97834ec0c5f4",
   "metadata": {
    "execution": {
     "iopub.execute_input": "2023-06-13T11:31:27.400176Z",
     "iopub.status.busy": "2023-06-13T11:31:27.399949Z",
     "iopub.status.idle": "2023-06-13T11:31:27.403722Z",
     "shell.execute_reply": "2023-06-13T11:31:27.403348Z",
     "shell.execute_reply.started": "2023-06-13T11:31:27.400162Z"
    },
    "tags": []
   },
   "outputs": [],
   "source": [
    "key"
   ]
  },
  {
   "cell_type": "code",
   "execution_count": null,
   "id": "38355aff-c4eb-4c2a-9902-a27f9c13329b",
   "metadata": {
    "execution": {
     "iopub.execute_input": "2023-06-13T11:31:50.516634Z",
     "iopub.status.busy": "2023-06-13T11:31:50.516306Z",
     "iopub.status.idle": "2023-06-13T11:31:50.520052Z",
     "shell.execute_reply": "2023-06-13T11:31:50.519624Z",
     "shell.execute_reply.started": "2023-06-13T11:31:50.516618Z"
    },
    "tags": []
   },
   "outputs": [],
   "source": [
    "ts = task.dataset.timeseries"
   ]
  },
  {
   "cell_type": "code",
   "execution_count": null,
   "id": "959ab222-65b5-4696-92a7-7cb6574f41c0",
   "metadata": {
    "execution": {
     "iopub.execute_input": "2023-06-13T11:44:57.370979Z",
     "iopub.status.busy": "2023-06-13T11:44:57.370504Z",
     "iopub.status.idle": "2023-06-13T11:44:57.374531Z",
     "shell.execute_reply": "2023-06-13T11:44:57.374154Z",
     "shell.execute_reply.started": "2023-06-13T11:44:57.370950Z"
    },
    "tags": []
   },
   "outputs": [],
   "source": [
    "idx, (obs, fct) = key\n",
    "tsd = task.dataset[key[0]]"
   ]
  },
  {
   "cell_type": "code",
   "execution_count": null,
   "id": "f00d6f58-1bf4-4221-9f4b-859f0b29d284",
   "metadata": {
    "execution": {
     "iopub.execute_input": "2023-06-13T11:45:01.655040Z",
     "iopub.status.busy": "2023-06-13T11:45:01.654799Z",
     "iopub.status.idle": "2023-06-13T11:45:01.672229Z",
     "shell.execute_reply": "2023-06-13T11:45:01.671784Z",
     "shell.execute_reply.started": "2023-06-13T11:45:01.655026Z"
    },
    "tags": []
   },
   "outputs": [],
   "source": [
    "tsd[obs]"
   ]
  },
  {
   "cell_type": "code",
   "execution_count": null,
   "id": "339ba105-eecc-4df1-ba94-b937d714d022",
   "metadata": {
    "execution": {
     "iopub.execute_input": "2023-06-13T11:33:53.948412Z",
     "iopub.status.busy": "2023-06-13T11:33:53.948176Z",
     "iopub.status.idle": "2023-06-13T11:33:53.952209Z",
     "shell.execute_reply": "2023-06-13T11:33:53.951758Z",
     "shell.execute_reply.started": "2023-06-13T11:33:53.948396Z"
    },
    "tags": []
   },
   "outputs": [],
   "source": [
    "tsd.timeindex[obs]"
   ]
  },
  {
   "cell_type": "code",
   "execution_count": null,
   "id": "63add27e-124b-4d73-a168-d180455a0b6d",
   "metadata": {
    "execution": {
     "iopub.execute_input": "2023-06-13T11:34:34.855369Z",
     "iopub.status.busy": "2023-06-13T11:34:34.855061Z",
     "iopub.status.idle": "2023-06-13T11:34:34.867950Z",
     "shell.execute_reply": "2023-06-13T11:34:34.867485Z",
     "shell.execute_reply.started": "2023-06-13T11:34:34.855349Z"
    },
    "tags": []
   },
   "outputs": [],
   "source": [
    "tsd.timeseries.loc[obs]"
   ]
  },
  {
   "cell_type": "code",
   "execution_count": null,
   "id": "358f95c7-c43c-4d36-af7e-9a155f64a7d5",
   "metadata": {
    "execution": {
     "iopub.execute_input": "2023-06-13T11:41:34.036754Z",
     "iopub.status.busy": "2023-06-13T11:41:34.036574Z",
     "iopub.status.idle": "2023-06-13T11:41:34.153435Z",
     "shell.execute_reply": "2023-06-13T11:41:34.152791Z",
     "shell.execute_reply.started": "2023-06-13T11:41:34.036741Z"
    },
    "tags": []
   },
   "outputs": [],
   "source": [
    "ts.loc[idx].loc[\"2021-06-28 09:41:57\":\"2021-06-28 12:41:57\"]"
   ]
  },
  {
   "cell_type": "code",
   "execution_count": null,
   "id": "9b749093-b761-452d-828d-f2c2dfe0f4df",
   "metadata": {
    "execution": {
     "iopub.execute_input": "2023-06-13T11:33:19.233886Z",
     "iopub.status.busy": "2023-06-13T11:33:19.233113Z",
     "iopub.status.idle": "2023-06-13T11:33:19.238876Z",
     "shell.execute_reply": "2023-06-13T11:33:19.238429Z",
     "shell.execute_reply.started": "2023-06-13T11:33:19.233868Z"
    },
    "tags": []
   },
   "outputs": [],
   "source": []
  },
  {
   "cell_type": "code",
   "execution_count": null,
   "id": "dda78070-00eb-4b12-ae8a-ae7906e4dc60",
   "metadata": {
    "execution": {
     "iopub.execute_input": "2023-06-13T11:31:15.771845Z",
     "iopub.status.busy": "2023-06-13T11:31:15.771663Z",
     "iopub.status.idle": "2023-06-13T11:31:15.870199Z",
     "shell.execute_reply": "2023-06-13T11:31:15.869459Z",
     "shell.execute_reply.started": "2023-06-13T11:31:15.771832Z"
    },
    "tags": []
   },
   "outputs": [],
   "source": [
    "generator[key]"
   ]
  },
  {
   "cell_type": "code",
   "execution_count": null,
   "id": "6bac9313-fafe-496d-a6d5-fc39f80b7329",
   "metadata": {},
   "outputs": [],
   "source": []
  },
  {
   "cell_type": "code",
   "execution_count": null,
   "id": "f61f765b-5230-4df6-9a0a-b1cc57785951",
   "metadata": {
    "execution": {
     "iopub.execute_input": "2023-06-13T11:43:50.674317Z",
     "iopub.status.busy": "2023-06-13T11:43:50.673701Z",
     "iopub.status.idle": "2023-06-13T11:43:50.749653Z",
     "shell.execute_reply": "2023-06-13T11:43:50.749085Z",
     "shell.execute_reply.started": "2023-06-13T11:43:50.674285Z"
    },
    "tags": []
   },
   "outputs": [],
   "source": [
    "generator[key]"
   ]
  },
  {
   "cell_type": "code",
   "execution_count": null,
   "id": "535ac66c-bc38-4ec0-8774-bd04050b836f",
   "metadata": {
    "execution": {
     "iopub.execute_input": "2023-06-13T10:55:28.843650Z",
     "iopub.status.busy": "2023-06-13T10:55:28.843332Z",
     "iopub.status.idle": "2023-06-13T10:55:28.847194Z",
     "shell.execute_reply": "2023-06-13T10:55:28.846759Z",
     "shell.execute_reply.started": "2023-06-13T10:55:28.843631Z"
    },
    "tags": []
   },
   "outputs": [],
   "source": [
    "key"
   ]
  },
  {
   "cell_type": "code",
   "execution_count": null,
   "id": "393efcf8-d29f-4382-bb40-4ecc41dda0ab",
   "metadata": {
    "execution": {
     "iopub.execute_input": "2023-06-13T10:16:01.532090Z",
     "iopub.status.busy": "2023-06-13T10:16:01.531389Z",
     "iopub.status.idle": "2023-06-13T10:16:07.301862Z",
     "shell.execute_reply": "2023-06-13T10:16:07.301432Z",
     "shell.execute_reply.started": "2023-06-13T10:16:01.532070Z"
    },
    "tags": []
   },
   "outputs": [],
   "source": [
    "from zipfile import ZipFile\n",
    "\n",
    "import pandas as pd\n",
    "from pandas import DataFrame, Timestamp\n",
    "\n",
    "from tsdm.datasets import *\n",
    "from tsdm.datasets.base import SingleTableDataset"
   ]
  },
  {
   "cell_type": "code",
   "execution_count": null,
   "id": "e71c8d6c-d51e-4fa5-bea7-a68b1c5cba0b",
   "metadata": {
    "execution": {
     "iopub.execute_input": "2023-06-13T10:17:08.963570Z",
     "iopub.status.busy": "2023-06-13T10:17:08.963000Z",
     "iopub.status.idle": "2023-06-13T10:17:09.015946Z",
     "shell.execute_reply": "2023-06-13T10:17:09.015249Z",
     "shell.execute_reply.started": "2023-06-13T10:17:08.963549Z"
    },
    "tags": []
   },
   "outputs": [],
   "source": [
    "ds = InSilicoData()"
   ]
  },
  {
   "cell_type": "code",
   "execution_count": null,
   "id": "d3b32c74-100a-41f0-a316-38efe730bdd8",
   "metadata": {
    "execution": {
     "iopub.execute_input": "2023-06-13T10:17:23.149977Z",
     "iopub.status.busy": "2023-06-13T10:17:23.149744Z",
     "iopub.status.idle": "2023-06-13T10:17:23.205172Z",
     "shell.execute_reply": "2023-06-13T10:17:23.204518Z",
     "shell.execute_reply.started": "2023-06-13T10:17:23.149963Z"
    },
    "tags": []
   },
   "outputs": [],
   "source": [
    "ts = ds.timeseries.loc[16130]"
   ]
  },
  {
   "cell_type": "code",
   "execution_count": null,
   "id": "ad3f1ce4-eb0d-400d-a8e5-2338ef34c02e",
   "metadata": {
    "execution": {
     "iopub.execute_input": "2023-06-13T10:18:53.242363Z",
     "iopub.status.busy": "2023-06-13T10:18:53.242185Z",
     "iopub.status.idle": "2023-06-13T10:18:53.283846Z",
     "shell.execute_reply": "2023-06-13T10:18:53.283202Z",
     "shell.execute_reply.started": "2023-06-13T10:18:53.242350Z"
    },
    "tags": []
   },
   "outputs": [],
   "source": [
    "tx = ts.copy(deep=True)\n",
    "tx.index = tx.index.astype(\"datetime64[ns]\")"
   ]
  },
  {
   "cell_type": "code",
   "execution_count": null,
   "id": "6f0d7692-a6d2-49ec-a7b5-3385793c3ac6",
   "metadata": {
    "execution": {
     "iopub.execute_input": "2023-06-13T10:27:59.928425Z",
     "iopub.status.busy": "2023-06-13T10:27:59.928196Z",
     "iopub.status.idle": "2023-06-13T10:28:00.567275Z",
     "shell.execute_reply": "2023-06-13T10:28:00.566671Z",
     "shell.execute_reply.started": "2023-06-13T10:27:59.928410Z"
    },
    "tags": []
   },
   "outputs": [],
   "source": [
    "pd.show_versions()"
   ]
  },
  {
   "cell_type": "code",
   "execution_count": null,
   "id": "09863691-47ab-48bf-a3fc-2ea1e48918f7",
   "metadata": {
    "execution": {
     "iopub.execute_input": "2023-06-13T10:28:42.168085Z",
     "iopub.status.busy": "2023-06-13T10:28:42.167796Z",
     "iopub.status.idle": "2023-06-13T10:28:42.173283Z",
     "shell.execute_reply": "2023-06-13T10:28:42.172854Z",
     "shell.execute_reply.started": "2023-06-13T10:28:42.168070Z"
    },
    "tags": []
   },
   "outputs": [],
   "source": [
    "df2.index"
   ]
  },
  {
   "cell_type": "code",
   "execution_count": null,
   "id": "44c6fecd-0c8a-4e34-bea7-9631614d620e",
   "metadata": {
    "execution": {
     "iopub.execute_input": "2023-06-13T10:33:42.339324Z",
     "iopub.status.busy": "2023-06-13T10:33:42.339143Z",
     "iopub.status.idle": "2023-06-13T10:33:42.665910Z",
     "shell.execute_reply": "2023-06-13T10:33:42.665217Z",
     "shell.execute_reply.started": "2023-06-13T10:33:42.339311Z"
    },
    "tags": []
   },
   "outputs": [],
   "source": [
    "import numpy as np\n",
    "import pandas as pd\n",
    "\n",
    "t = pd.date_range(\"2023-01-01\", \"2023-01-04\", freq=\"1h\")\n",
    "x = np.random.randn(len(t))\n",
    "df = pd.DataFrame(x, index=t, columns=[\"values\"])\n",
    "\n",
    "df.to_parquet(\"frame.parquet\")\n",
    "df2 = pd.read_parquet(\"frame.parquet\", dtype_backend=\"pyarrow\")\n",
    "\n",
    "df[\"2023-01-01\":\"2023-01-02\"]  # ✔\n",
    "df2[\n",
    "    \"2023-01-01\":\"2023-01-02\"\n",
    "]  # ✘ TypeError: '<' not supported between instances of 'datetime.datetime' and 'str'\n",
    "\n",
    "df.loc[df.index[:-5]]  # ✔\n",
    "df2.loc[df2.index[:-5]]  # ✘ AttributeError: 'Index' object has no attribute 'freq'\n",
    "\n",
    "# df2.loc[mask]"
   ]
  },
  {
   "cell_type": "code",
   "execution_count": null,
   "id": "f8d47fc6-4251-49f3-99f6-623e101fc72b",
   "metadata": {
    "execution": {
     "iopub.execute_input": "2023-06-13T10:22:49.892854Z",
     "iopub.status.busy": "2023-06-13T10:22:49.892452Z",
     "iopub.status.idle": "2023-06-13T10:22:49.932599Z",
     "shell.execute_reply": "2023-06-13T10:22:49.931995Z",
     "shell.execute_reply.started": "2023-06-13T10:22:49.892841Z"
    },
    "tags": []
   },
   "outputs": [],
   "source": [
    "df2.index"
   ]
  },
  {
   "cell_type": "code",
   "execution_count": null,
   "id": "90f9a4e6-0f41-495a-96dc-677b4e213844",
   "metadata": {
    "execution": {
     "iopub.execute_input": "2023-06-13T10:20:22.833178Z",
     "iopub.status.busy": "2023-06-13T10:20:22.832928Z",
     "iopub.status.idle": "2023-06-13T10:20:22.871582Z",
     "shell.execute_reply": "2023-06-13T10:20:22.870838Z",
     "shell.execute_reply.started": "2023-06-13T10:20:22.833164Z"
    },
    "tags": []
   },
   "outputs": [],
   "source": [
    "ts.index.dtype"
   ]
  },
  {
   "cell_type": "code",
   "execution_count": null,
   "id": "d937834f-7ada-421d-aaa3-4ac4bf4fafa3",
   "metadata": {},
   "outputs": [],
   "source": []
  },
  {
   "cell_type": "code",
   "execution_count": null,
   "id": "64f8785e-37b5-4d99-a013-471bea7b4814",
   "metadata": {
    "execution": {
     "iopub.execute_input": "2023-06-13T10:19:03.710226Z",
     "iopub.status.busy": "2023-06-13T10:19:03.710037Z",
     "iopub.status.idle": "2023-06-13T10:19:03.763911Z",
     "shell.execute_reply": "2023-06-13T10:19:03.763492Z",
     "shell.execute_reply.started": "2023-06-13T10:19:03.710214Z"
    },
    "tags": []
   },
   "outputs": [],
   "source": [
    "tx[\"2021-06-28 09:41:57\":\"2021-06-28 12:00:00\"]"
   ]
  },
  {
   "cell_type": "code",
   "execution_count": null,
   "id": "e868724e-622d-419a-b40c-59cd3c45f60a",
   "metadata": {
    "execution": {
     "iopub.execute_input": "2023-06-13T10:18:54.306662Z",
     "iopub.status.busy": "2023-06-13T10:18:54.306468Z",
     "iopub.status.idle": "2023-06-13T10:18:54.446163Z",
     "shell.execute_reply": "2023-06-13T10:18:54.445490Z",
     "shell.execute_reply.started": "2023-06-13T10:18:54.306651Z"
    },
    "tags": []
   },
   "outputs": [],
   "source": [
    "ts[\"2021-06-28 09:41:57\":\"2021-06-28 12:00:00\"]"
   ]
  },
  {
   "cell_type": "code",
   "execution_count": null,
   "id": "8ace121d-7ef6-4d46-9844-3872d230d246",
   "metadata": {},
   "outputs": [],
   "source": []
  },
  {
   "cell_type": "code",
   "execution_count": null,
   "id": "15feb952-d050-4ee3-a06a-8915e15d41b3",
   "metadata": {},
   "outputs": [],
   "source": []
  },
  {
   "cell_type": "code",
   "execution_count": null,
   "id": "8a75ed08-ef05-40ad-bd7c-430fd9212127",
   "metadata": {},
   "outputs": [],
   "source": []
  },
  {
   "cell_type": "code",
   "execution_count": null,
   "id": "42a0fee5-4899-4f74-a407-1757b93e066d",
   "metadata": {
    "execution": {
     "iopub.execute_input": "2023-04-27T11:19:17.426198Z",
     "iopub.status.busy": "2023-04-27T11:19:17.426029Z",
     "iopub.status.idle": "2023-04-27T11:19:17.428653Z",
     "shell.execute_reply": "2023-04-27T11:19:17.428217Z",
     "shell.execute_reply.started": "2023-04-27T11:19:17.426184Z"
    },
    "tags": []
   },
   "outputs": [],
   "source": [
    "self = BeijingAirQuality(initialize=False)"
   ]
  },
  {
   "cell_type": "code",
   "execution_count": null,
   "id": "03f9f03b-86fc-42a3-bee0-73827c559fad",
   "metadata": {
    "execution": {
     "iopub.execute_input": "2023-04-27T11:20:03.290055Z",
     "iopub.status.busy": "2023-04-27T11:20:03.289846Z",
     "iopub.status.idle": "2023-04-27T11:20:03.302488Z",
     "shell.execute_reply": "2023-04-27T11:20:03.302052Z",
     "shell.execute_reply.started": "2023-04-27T11:20:03.290041Z"
    },
    "tags": []
   },
   "outputs": [],
   "source": [
    "dtypes = {\"wd\": \"string\", \"station\": \"string\"}\n",
    "new_dtypes = {\"wd\": \"category\", \"station\": \"category\"}\n",
    "\n",
    "self.LOGGER.info(\"Extracting Data.\")\n",
    "file = self.rawdata_paths[\"PRSA2017_Data_20130301-20170228.zip\"]\n",
    "\n",
    "with ZipFile(file) as compressed_archive:\n",
    "    stations = []\n",
    "    for csv_file in compressed_archive.namelist():\n",
    "        with compressed_archive.open(csv_file) as compressed_file:\n",
    "            df = pd.read_csv(compressed_file, dtype=dtypes)\n",
    "        #\n",
    "        # # Make multiple date columns to pandas.Timestamp\n",
    "        # df[\"time\"] = df.apply(_to_time, axis=1)\n",
    "        # # Remove date columns and index\n",
    "        # df = df.drop(labels=[\"No\", \"year\", \"month\", \"day\", \"hour\"], axis=1)\n",
    "        stations.append(df)"
   ]
  },
  {
   "cell_type": "code",
   "execution_count": null,
   "id": "6a70c31e-889f-4bed-aecb-530e4f172979",
   "metadata": {},
   "outputs": [],
   "source": []
  },
  {
   "cell_type": "code",
   "execution_count": null,
   "id": "449b97b3-be92-4d34-9032-459ac7e01d9d",
   "metadata": {
    "execution": {
     "iopub.execute_input": "2023-04-27T08:25:08.936523Z",
     "iopub.status.busy": "2023-04-27T08:25:08.936234Z",
     "iopub.status.idle": "2023-04-27T08:25:08.946442Z",
     "shell.execute_reply": "2023-04-27T08:25:08.945797Z",
     "shell.execute_reply.started": "2023-04-27T08:25:08.936505Z"
    },
    "tags": []
   },
   "outputs": [],
   "source": [
    "from abc import ABC, abstractmethod"
   ]
  },
  {
   "cell_type": "code",
   "execution_count": null,
   "id": "2cf9f36d-067a-47a4-b8d0-798414c7f934",
   "metadata": {
    "execution": {
     "iopub.execute_input": "2023-04-27T08:25:31.545275Z",
     "iopub.status.busy": "2023-04-27T08:25:31.545075Z",
     "iopub.status.idle": "2023-04-27T08:25:31.555495Z",
     "shell.execute_reply": "2023-04-27T08:25:31.554889Z",
     "shell.execute_reply.started": "2023-04-27T08:25:31.545260Z"
    },
    "tags": []
   },
   "outputs": [],
   "source": [
    "class Foo(ABC):\n",
    "    @abstractmethod\n",
    "    def bar(self):\n",
    "        pass"
   ]
  },
  {
   "cell_type": "code",
   "execution_count": null,
   "id": "d7270116-4ed5-4f08-9cd1-ebc83270ba04",
   "metadata": {
    "execution": {
     "iopub.execute_input": "2023-04-27T08:27:31.323240Z",
     "iopub.status.busy": "2023-04-27T08:27:31.322948Z",
     "iopub.status.idle": "2023-04-27T08:27:31.339995Z",
     "shell.execute_reply": "2023-04-27T08:27:31.338939Z",
     "shell.execute_reply.started": "2023-04-27T08:27:31.323211Z"
    },
    "tags": []
   },
   "outputs": [],
   "source": [
    "class MyFoo(Foo):\n",
    "    def __new__(cls, *args, **kwargs):\n",
    "        print(\"__new__ called\")\n",
    "        obj = super().__new__(*args, **kwargs)\n",
    "        print(\"obj created\")\n",
    "        return obj\n",
    "\n",
    "    def __init__(self, *args, **kwargs):\n",
    "        print(\"__init__ called\")\n",
    "        super().__new__(*args, **kwargs)\n",
    "        print(\"obj initialized\")\n",
    "        return"
   ]
  },
  {
   "cell_type": "code",
   "execution_count": null,
   "id": "3a67d800-c953-46ef-928d-27255ccadfa9",
   "metadata": {
    "execution": {
     "iopub.execute_input": "2023-04-27T08:27:31.706622Z",
     "iopub.status.busy": "2023-04-27T08:27:31.706411Z",
     "iopub.status.idle": "2023-04-27T08:27:31.732995Z",
     "shell.execute_reply": "2023-04-27T08:27:31.732192Z",
     "shell.execute_reply.started": "2023-04-27T08:27:31.706607Z"
    },
    "tags": []
   },
   "outputs": [],
   "source": [
    "MyFoo()"
   ]
  },
  {
   "cell_type": "code",
   "execution_count": null,
   "id": "0a08fbb9-a9f0-4c3f-a20b-8b4d50e299d8",
   "metadata": {
    "execution": {
     "iopub.execute_input": "2023-04-24T12:26:15.675728Z",
     "iopub.status.busy": "2023-04-24T12:26:15.675557Z",
     "iopub.status.idle": "2023-04-24T12:26:15.678987Z",
     "shell.execute_reply": "2023-04-24T12:26:15.678619Z",
     "shell.execute_reply.started": "2023-04-24T12:26:15.675715Z"
    },
    "tags": []
   },
   "outputs": [],
   "source": [
    "X = torch.randn(64, 32, 5, 16)\n",
    "Y = torch.randn(64, 32, 5, 16)"
   ]
  },
  {
   "cell_type": "code",
   "execution_count": null,
   "id": "1b5e07d7-7b9c-4e08-8277-48deb07864ba",
   "metadata": {
    "execution": {
     "iopub.execute_input": "2023-04-24T12:26:26.653867Z",
     "iopub.status.busy": "2023-04-24T12:26:26.653619Z",
     "iopub.status.idle": "2023-04-24T12:26:26.657651Z",
     "shell.execute_reply": "2023-04-24T12:26:26.657323Z",
     "shell.execute_reply.started": "2023-04-24T12:26:26.653850Z"
    },
    "tags": []
   },
   "outputs": [],
   "source": [
    "(X - Y).mean()"
   ]
  },
  {
   "cell_type": "code",
   "execution_count": null,
   "id": "9efe4509-f8e0-49b9-8b52-a343f311f2a3",
   "metadata": {
    "execution": {
     "iopub.execute_input": "2023-04-24T18:53:50.574156Z",
     "iopub.status.busy": "2023-04-24T18:53:50.573974Z",
     "iopub.status.idle": "2023-04-24T18:53:50.596046Z",
     "shell.execute_reply": "2023-04-24T18:53:50.595631Z",
     "shell.execute_reply.started": "2023-04-24T18:53:50.574144Z"
    },
    "tags": []
   },
   "outputs": [],
   "source": [
    "from abc import ABCMeta\n",
    "from typing import Any, Callable, Generic, TypeAlias, TypeVar, cast\n",
    "\n",
    "R = TypeVar(\"R\")\n",
    "\n",
    "import typing\n",
    "from types import GenericAlias\n",
    "\n",
    "# _GenericAlias = typing._GenericAlias\n",
    "# _SpecialForm = typing._SpecialForm\n",
    "# _type_check = typing._type_check\n",
    "\n",
    "\n",
    "# @_SpecialForm\n",
    "# def Abstract(self, parameters):\n",
    "#     \"\"\"A special typing construct to mark an attribute as abstract.\"\"\"\n",
    "#     item = _type_check(parameters, f\"{self._name} accepts only a single type.\")\n",
    "#     return _GenericAlias(self, (item,))\n",
    "# #\n",
    "\n",
    "\n",
    "class Abstract(Generic[R]):\n",
    "    def __class_getitem__(cls, klass: type):\n",
    "        return GenericAlias(cls, klass)\n",
    "\n",
    "\n",
    "foo: Abstract[int] = 2\n",
    "reveal_type(foo)\n",
    "reveal_type(bar)"
   ]
  },
  {
   "cell_type": "code",
   "execution_count": null,
   "id": "c6bbd13b-6969-40f2-a3ae-41d149bc02ef",
   "metadata": {
    "execution": {
     "iopub.execute_input": "2023-04-24T18:45:56.744825Z",
     "iopub.status.busy": "2023-04-24T18:45:56.744603Z",
     "iopub.status.idle": "2023-04-24T18:45:56.747301Z",
     "shell.execute_reply": "2023-04-24T18:45:56.747011Z",
     "shell.execute_reply.started": "2023-04-24T18:45:56.744812Z"
    },
    "tags": []
   },
   "outputs": [],
   "source": [
    "from types import GenericAlias\n",
    "from typing import _GenericAlias, _SpecialForm, _type_check\n",
    "\n",
    "\n",
    "@_SpecialForm\n",
    "def Abstract(self, parameters):\n",
    "    \"\"\"A special typing construct to mark an attribute as abstract.\"\"\"\n",
    "    item = _type_check(parameters, f\"{self._name} accepts only a single type.\")\n",
    "    return _GenericAlias(self, (item,))\n",
    "\n",
    "\n",
    "foo: Abstract[int] = 2"
   ]
  },
  {
   "cell_type": "code",
   "execution_count": null,
   "id": "7421700f-3bc2-495e-8ffa-f01d5d7ced1b",
   "metadata": {
    "execution": {
     "iopub.execute_input": "2023-04-24T18:45:57.089357Z",
     "iopub.status.busy": "2023-04-24T18:45:57.089011Z",
     "iopub.status.idle": "2023-04-24T18:45:57.093624Z",
     "shell.execute_reply": "2023-04-24T18:45:57.093048Z",
     "shell.execute_reply.started": "2023-04-24T18:45:57.089328Z"
    },
    "tags": []
   },
   "outputs": [],
   "source": []
  },
  {
   "cell_type": "code",
   "execution_count": null,
   "id": "b488dc73-c0c9-499e-a160-984813e5b81d",
   "metadata": {
    "execution": {
     "iopub.execute_input": "2023-04-24T18:39:23.980610Z",
     "iopub.status.busy": "2023-04-24T18:39:23.980444Z",
     "iopub.status.idle": "2023-04-24T18:39:23.996026Z",
     "shell.execute_reply": "2023-04-24T18:39:23.995422Z",
     "shell.execute_reply.started": "2023-04-24T18:39:23.980597Z"
    },
    "tags": []
   },
   "outputs": [],
   "source": [
    "from abc import ABCMeta\n",
    "from typing import Any, Callable, TypeAlias, TypeVar, cast\n",
    "\n",
    "R = TypeVar(\"R\")\n",
    "\n",
    "\n",
    "class abstract:\n",
    "    def __class_getitem__(cls, item: Any) -> TypeAlias:\n",
    "        item.__is_abstract_attribute__ = True\n",
    "        return item\n",
    "\n",
    "\n",
    "x: abstract[int] = 1\n",
    "# reveal_type(abstract)\n",
    "# reveal_type(abstract[int])\n",
    "print(__annotations__)"
   ]
  },
  {
   "cell_type": "code",
   "execution_count": null,
   "id": "c2484e7e-08f6-47f4-adc0-8375a3ea0f3b",
   "metadata": {
    "execution": {
     "iopub.execute_input": "2023-04-24T18:07:17.486494Z",
     "iopub.status.busy": "2023-04-24T18:07:17.486263Z",
     "iopub.status.idle": "2023-04-24T18:07:17.489663Z",
     "shell.execute_reply": "2023-04-24T18:07:17.489221Z",
     "shell.execute_reply.started": "2023-04-24T18:07:17.486480Z"
    },
    "tags": []
   },
   "outputs": [],
   "source": [
    "__annotations__"
   ]
  },
  {
   "cell_type": "code",
   "execution_count": null,
   "id": "74de4c35-fc36-4efa-8aad-d8106ad442fe",
   "metadata": {
    "execution": {
     "iopub.execute_input": "2023-04-24T18:03:37.037808Z",
     "iopub.status.busy": "2023-04-24T18:03:37.037405Z",
     "iopub.status.idle": "2023-04-24T18:03:37.042519Z",
     "shell.execute_reply": "2023-04-24T18:03:37.041748Z",
     "shell.execute_reply.started": "2023-04-24T18:03:37.037779Z"
    },
    "tags": []
   },
   "outputs": [],
   "source": [
    "from abc import ABC, abstractmethod\n",
    "\n",
    "\n",
    "class Foo(ABC):\n",
    "    @property\n",
    "    @abstractmethod\n",
    "    def myattr(self) -> int:\n",
    "        ...\n",
    "\n",
    "\n",
    "class Bar(Foo):\n",
    "    myattr: int = 0\n",
    "\n",
    "\n",
    "class Baz(Foo):\n",
    "    @property\n",
    "    def myattr(self) -> int:\n",
    "        return 0"
   ]
  },
  {
   "cell_type": "code",
   "execution_count": null,
   "id": "ec9d8344-5fca-412d-8dc9-1fdae65eb969",
   "metadata": {
    "execution": {
     "iopub.execute_input": "2023-04-24T18:03:39.303719Z",
     "iopub.status.busy": "2023-04-24T18:03:39.303510Z",
     "iopub.status.idle": "2023-04-24T18:03:39.313672Z",
     "shell.execute_reply": "2023-04-24T18:03:39.313109Z",
     "shell.execute_reply.started": "2023-04-24T18:03:39.303706Z"
    },
    "tags": []
   },
   "outputs": [],
   "source": [
    "Foo()"
   ]
  },
  {
   "cell_type": "code",
   "execution_count": null,
   "id": "d08cecea-4ce7-4792-9756-528d83a84680",
   "metadata": {
    "execution": {
     "iopub.execute_input": "2023-04-24T17:30:44.431938Z",
     "iopub.status.busy": "2023-04-24T17:30:44.431707Z",
     "iopub.status.idle": "2023-04-24T17:30:44.434612Z",
     "shell.execute_reply": "2023-04-24T17:30:44.434278Z",
     "shell.execute_reply.started": "2023-04-24T17:30:44.431924Z"
    },
    "tags": []
   },
   "outputs": [],
   "source": [
    "Baz.myattr"
   ]
  },
  {
   "cell_type": "code",
   "execution_count": null,
   "id": "dd732a44-a791-4fe2-bc96-288492fe05d7",
   "metadata": {
    "execution": {
     "iopub.execute_input": "2023-04-24T13:56:52.198524Z",
     "iopub.status.busy": "2023-04-24T13:56:52.198181Z",
     "iopub.status.idle": "2023-04-24T13:56:52.202327Z",
     "shell.execute_reply": "2023-04-24T13:56:52.201679Z",
     "shell.execute_reply.started": "2023-04-24T13:56:52.198495Z"
    },
    "tags": []
   },
   "outputs": [],
   "source": [
    "schema = pa.schema({\"foo\": \"int32\", \"bar\": \"float32\"})"
   ]
  },
  {
   "cell_type": "code",
   "execution_count": null,
   "id": "c33c509a-2c94-4ec2-857c-4b823ff43516",
   "metadata": {
    "execution": {
     "iopub.execute_input": "2023-04-24T12:25:25.970857Z",
     "iopub.status.busy": "2023-04-24T12:25:25.970605Z",
     "iopub.status.idle": "2023-04-24T12:25:25.975065Z",
     "shell.execute_reply": "2023-04-24T12:25:25.974563Z",
     "shell.execute_reply.started": "2023-04-24T12:25:25.970829Z"
    },
    "tags": []
   },
   "outputs": [],
   "source": [
    "k = 2\n",
    "X.abs().pow(k).sum(dim=(-2, -1), keepdim=True).mean(dim=(-3), keepdim=True).mean()"
   ]
  },
  {
   "cell_type": "code",
   "execution_count": null,
   "id": "155366bf-132c-4455-bfc3-b7ffe9d5b8c9",
   "metadata": {},
   "outputs": [],
   "source": [
    "X = torch.random.randn"
   ]
  },
  {
   "cell_type": "code",
   "execution_count": null,
   "id": "edf76e02-113b-4cbf-80b5-d4f4f3c78327",
   "metadata": {},
   "outputs": [],
   "source": []
  },
  {
   "cell_type": "code",
   "execution_count": null,
   "id": "ed110bcb-1602-46a1-b2a3-dbabdfe99be5",
   "metadata": {
    "execution": {
     "iopub.execute_input": "2023-04-24T11:35:02.527885Z",
     "iopub.status.busy": "2023-04-24T11:35:02.527642Z",
     "iopub.status.idle": "2023-04-24T11:35:02.550346Z",
     "shell.execute_reply": "2023-04-24T11:35:02.549761Z",
     "shell.execute_reply.started": "2023-04-24T11:35:02.527861Z"
    },
    "tags": []
   },
   "outputs": [],
   "source": [
    "from typing import Final\n",
    "\n",
    "import torch\n",
    "import torch.nn.functional as F\n",
    "from torch import Tensor, jit, nn\n",
    "\n",
    "\n",
    "class Foo(nn.Module):\n",
    "    use_relu: Final[bool]\n",
    "\n",
    "    def __init__(self, use_relu: bool) -> None:\n",
    "        super().__init__()\n",
    "        self.use_relu = use_relu\n",
    "\n",
    "    def forward(self, x: Tensor) -> Tensor:\n",
    "        if self.use_relu:\n",
    "            return F.relu(x)\n",
    "        return torch.tanh(x)\n",
    "\n",
    "\n",
    "model = Foo(use_relu=False)\n",
    "scripted = jit.script(model)\n",
    "assert \"relu\" not in scripted.code\n",
    "assert \"sss\" in scripted.code, print(scripted.code)\n",
    "\n",
    "\n",
    "model = Foo(use_relu=True)\n",
    "scripted = jit.script(model)\n",
    "print(scripted.code)\n",
    "assert \"relu\" in scripted.code\n",
    "assert \"tanh\" not in scripted.code"
   ]
  },
  {
   "cell_type": "code",
   "execution_count": null,
   "id": "3361e98b-eeaa-4f3b-81de-440be63fbf5a",
   "metadata": {
    "execution": {
     "iopub.execute_input": "2023-04-24T11:29:34.242935Z",
     "iopub.status.busy": "2023-04-24T11:29:34.242714Z",
     "iopub.status.idle": "2023-04-24T11:29:34.247604Z",
     "shell.execute_reply": "2023-04-24T11:29:34.247294Z",
     "shell.execute_reply.started": "2023-04-24T11:29:34.242921Z"
    },
    "tags": []
   },
   "outputs": [],
   "source": []
  },
  {
   "cell_type": "code",
   "execution_count": null,
   "id": "6fef88d8-50e2-4ea9-87e0-4274c5e8474c",
   "metadata": {
    "execution": {
     "iopub.execute_input": "2023-04-20T20:45:03.711718Z",
     "iopub.status.busy": "2023-04-20T20:45:03.711506Z",
     "iopub.status.idle": "2023-04-20T20:45:03.741777Z",
     "shell.execute_reply": "2023-04-20T20:45:03.740972Z",
     "shell.execute_reply.started": "2023-04-20T20:45:03.711706Z"
    },
    "tags": []
   },
   "outputs": [],
   "source": [
    "import logging\n",
    "\n",
    "import numpy\n",
    "import pyarrow as pa\n",
    "import torch\n",
    "from numpy import ndarray\n",
    "from numpy.typing import NDArray\n",
    "from pandas import DataFrame, Index, Series\n",
    "from torch import Tensor\n",
    "\n",
    "from tsdm.types.protocols import Array, Table\n",
    "\n",
    "logging.basicConfig(level=logging.INFO)\n",
    "__logger__ = logging.getLogger(__name__)\n",
    "\n",
    "\n",
    "\"\"\"Test the Table protocol (shape and __len__ and __getitem__).\"\"\"\n",
    "LOGGER = __logger__.getChild(Table.__name__)\n",
    "LOGGER.info(\"Testing.\")\n",
    "\n",
    "torch_tensor: Tensor = torch.tensor([1, 2, 3])\n",
    "torch_array: Table = torch_tensor\n",
    "assert isinstance(\n",
    "    torch_array, Table\n",
    "), f\"Missing Attributes: {set(dir(Table)) - set(dir(torch_array))}\"\n",
    "\n",
    "numpy_ndarray: NDArray = ndarray([1, 2, 3])\n",
    "numpy_array: Table = numpy_ndarray\n",
    "assert isinstance(\n",
    "    numpy_array, Table\n",
    "), f\"Missing Attributes: {set(dir(Table)) - set(dir(numpy_array))}\"\n",
    "\n",
    "pandas_frame: DataFrame = DataFrame(numpy.random.randn(3, 3))\n",
    "pandas_array: Table = pandas_frame\n",
    "assert isinstance(\n",
    "    pandas_array, Table\n",
    "), f\"Missing Attributes: {set(dir(Table)) - set(dir(pandas_array))}\"\n",
    "\n",
    "pandas_series: Series = Series([1, 2, 3])\n",
    "pandas_series_array: Table = pandas_series\n",
    "assert isinstance(\n",
    "    pandas_series_array, Table\n",
    "), f\"Missing Attributes: {set(dir(Table)) - set(dir(pandas_series_array))}\"\n",
    "\n",
    "pandas_index: Index = Index([1, 2, 3])\n",
    "pandas_index_array: Table = pandas_index\n",
    "assert isinstance(\n",
    "    pandas_index_array, Table\n",
    "), f\"Missing Attributes: {set(dir(Table)) - set(dir(pandas_index_array))}\"\n",
    "\n",
    "pyarrow_table: pa.Table = pa.Table.from_pandas(pandas_frame)\n",
    "pyarrow_array: Table = pyarrow_table\n",
    "assert isinstance(\n",
    "    pyarrow_array, Table\n",
    "), f\"Missing Attributes: {set(dir(Table)) - set(dir(pyarrow_array))}\"\n",
    "\n",
    "tables = [\n",
    "    torch_array,\n",
    "    numpy_array,\n",
    "    pandas_array,\n",
    "    pandas_series_array,\n",
    "    pandas_index_array,\n",
    "    pyarrow_array,\n",
    "]\n",
    "shared_attrs = set.intersection(*(set(dir(tab)) for tab in tables))\n",
    "__logger__.info(\"Shared attributes/methods of Tables: %s\", shared_attrs)"
   ]
  },
  {
   "cell_type": "code",
   "execution_count": null,
   "id": "fcadae34-1a70-418c-8c09-73d514bac8a7",
   "metadata": {
    "execution": {
     "iopub.execute_input": "2023-04-20T20:46:05.907177Z",
     "iopub.status.busy": "2023-04-20T20:46:05.906705Z",
     "iopub.status.idle": "2023-04-20T20:46:05.924310Z",
     "shell.execute_reply": "2023-04-20T20:46:05.923609Z",
     "shell.execute_reply.started": "2023-04-20T20:46:05.907154Z"
    },
    "tags": []
   },
   "outputs": [],
   "source": [
    "pyarrow_array.type"
   ]
  },
  {
   "cell_type": "code",
   "execution_count": null,
   "id": "8f493f11-a342-4234-ab4a-6cb80107e679",
   "metadata": {
    "execution": {
     "iopub.execute_input": "2023-04-20T20:46:37.132356Z",
     "iopub.status.busy": "2023-04-20T20:46:37.131573Z",
     "iopub.status.idle": "2023-04-20T20:46:37.137527Z",
     "shell.execute_reply": "2023-04-20T20:46:37.136828Z",
     "shell.execute_reply.started": "2023-04-20T20:46:37.132320Z"
    },
    "tags": []
   },
   "outputs": [],
   "source": [
    "(pyarrow_array[0]).type == \"float64\""
   ]
  },
  {
   "cell_type": "code",
   "execution_count": null,
   "id": "eeadf90d-dcb1-4944-ad19-e763b1590aef",
   "metadata": {
    "execution": {
     "iopub.execute_input": "2023-04-20T20:45:35.419654Z",
     "iopub.status.busy": "2023-04-20T20:45:35.419163Z",
     "iopub.status.idle": "2023-04-20T20:45:35.424071Z",
     "shell.execute_reply": "2023-04-20T20:45:35.423543Z",
     "shell.execute_reply.started": "2023-04-20T20:45:35.419628Z"
    },
    "tags": []
   },
   "outputs": [],
   "source": [
    "list(pyarrow_array)[0]"
   ]
  },
  {
   "cell_type": "code",
   "execution_count": null,
   "id": "0c68e4f1-d21d-480f-988a-f9f6364b5428",
   "metadata": {},
   "outputs": [],
   "source": []
  },
  {
   "cell_type": "code",
   "execution_count": null,
   "id": "a4bed622-e99a-43b7-a9be-a5b59ce8ff16",
   "metadata": {
    "execution": {
     "iopub.execute_input": "2023-04-19T13:43:00.037683Z",
     "iopub.status.busy": "2023-04-19T13:43:00.037128Z",
     "iopub.status.idle": "2023-04-19T13:43:00.041414Z",
     "shell.execute_reply": "2023-04-19T13:43:00.041013Z",
     "shell.execute_reply.started": "2023-04-19T13:43:00.037660Z"
    },
    "tags": []
   },
   "outputs": [],
   "source": [
    "import logging\n",
    "from typing import ClassVar\n",
    "\n",
    "\n",
    "class ClassWithLogger:\n",
    "    LOGGER: ClassVar[logging.Logger] = logging.getLogger(f\"{__module__}/{__qualname__}\")\n",
    "\n",
    "\n",
    "logging.basicConfig(level=logging.INFO)\n",
    "ClassWithLogger.LOGGER.info(\"hello world\")"
   ]
  },
  {
   "cell_type": "code",
   "execution_count": null,
   "id": "6d0ced5f-0181-403c-b528-e2e45da4996e",
   "metadata": {
    "execution": {
     "iopub.execute_input": "2023-04-19T14:22:20.454655Z",
     "iopub.status.busy": "2023-04-19T14:22:20.454465Z",
     "iopub.status.idle": "2023-04-19T14:22:20.468891Z",
     "shell.execute_reply": "2023-04-19T14:22:20.468309Z",
     "shell.execute_reply.started": "2023-04-19T14:22:20.454631Z"
    },
    "tags": []
   },
   "outputs": [],
   "source": [
    "locals()"
   ]
  },
  {
   "cell_type": "code",
   "execution_count": null,
   "id": "45b34113-a0af-4aa1-b5ed-ffb86c6997e6",
   "metadata": {
    "execution": {
     "iopub.execute_input": "2023-04-19T14:27:24.373656Z",
     "iopub.status.busy": "2023-04-19T14:27:24.373223Z",
     "iopub.status.idle": "2023-04-19T14:27:24.403668Z",
     "shell.execute_reply": "2023-04-19T14:27:24.402681Z",
     "shell.execute_reply.started": "2023-04-19T14:27:24.373634Z"
    },
    "tags": []
   },
   "outputs": [],
   "source": [
    "import logging\n",
    "from typing import ClassVar\n",
    "\n",
    "\n",
    "class ClassWithLogger:\n",
    "    \"\"\"A class with a logger.\"\"\"\n",
    "\n",
    "    LOGGER: ClassVar[logging.Logger] = logging.getLogger(f\"{__module__}/{__qualname__}\")\n",
    "    b = __name__\n",
    "    c: str = __doc__\n",
    "    # print(dir())\n",
    "    # print(locals())\n",
    "    print(__annotations__)\n",
    "    d: str = \"aga\"\n",
    "    print(__annotations__)\n",
    "    b = __bases__\n",
    "\n",
    "\n",
    "logging.basicConfig(level=logging.INFO)\n",
    "ClassWithLogger.LOGGER.info(\"hello world\")"
   ]
  },
  {
   "cell_type": "code",
   "execution_count": null,
   "id": "3e2e3635-752e-4430-9923-555e8c997282",
   "metadata": {
    "execution": {
     "iopub.execute_input": "2023-04-19T20:50:05.317216Z",
     "iopub.status.busy": "2023-04-19T20:50:05.316713Z",
     "iopub.status.idle": "2023-04-19T20:50:05.320255Z",
     "shell.execute_reply": "2023-04-19T20:50:05.319670Z",
     "shell.execute_reply.started": "2023-04-19T20:50:05.317191Z"
    },
    "tags": []
   },
   "outputs": [],
   "source": [
    "from collections.abc import Mapping\n",
    "from pathlib import Path"
   ]
  },
  {
   "cell_type": "code",
   "execution_count": null,
   "id": "ef8ddbf5-6a8b-4fc4-b31b-b9c2c16a2f01",
   "metadata": {
    "execution": {
     "iopub.execute_input": "2023-04-19T20:57:51.163952Z",
     "iopub.status.busy": "2023-04-19T20:57:51.163360Z",
     "iopub.status.idle": "2023-04-19T20:57:51.166932Z",
     "shell.execute_reply": "2023-04-19T20:57:51.166341Z",
     "shell.execute_reply.started": "2023-04-19T20:57:51.163927Z"
    },
    "tags": []
   },
   "outputs": [],
   "source": []
  },
  {
   "cell_type": "code",
   "execution_count": null,
   "id": "73232078-006b-4222-9a8d-cb5e07abdfc0",
   "metadata": {
    "execution": {
     "iopub.execute_input": "2023-04-19T20:58:01.308805Z",
     "iopub.status.busy": "2023-04-19T20:58:01.308259Z",
     "iopub.status.idle": "2023-04-19T20:58:01.312234Z",
     "shell.execute_reply": "2023-04-19T20:58:01.311597Z",
     "shell.execute_reply.started": "2023-04-19T20:58:01.308778Z"
    },
    "tags": []
   },
   "outputs": [],
   "source": [
    "import logging\n",
    "\n",
    "logger = logging.getLogger()\n",
    "logger.warning(\"something bad\")"
   ]
  },
  {
   "cell_type": "code",
   "execution_count": null,
   "id": "389196f3-6d3c-4946-a693-c646d4daedd6",
   "metadata": {
    "execution": {
     "iopub.execute_input": "2023-04-19T21:10:47.764365Z",
     "iopub.status.busy": "2023-04-19T21:10:47.764011Z",
     "iopub.status.idle": "2023-04-19T21:10:47.769442Z",
     "shell.execute_reply": "2023-04-19T21:10:47.768711Z",
     "shell.execute_reply.started": "2023-04-19T21:10:47.764343Z"
    },
    "tags": []
   },
   "outputs": [],
   "source": [
    "None | Mapping[int, int]"
   ]
  },
  {
   "cell_type": "code",
   "execution_count": null,
   "id": "3833ba22-00d1-4542-9ac7-09875655c5a1",
   "metadata": {
    "execution": {
     "iopub.execute_input": "2023-04-19T20:50:05.778658Z",
     "iopub.status.busy": "2023-04-19T20:50:05.778396Z",
     "iopub.status.idle": "2023-04-19T20:50:05.780857Z",
     "shell.execute_reply": "2023-04-19T20:50:05.780466Z",
     "shell.execute_reply.started": "2023-04-19T20:50:05.778646Z"
    },
    "tags": []
   },
   "outputs": [],
   "source": [
    "hashes = \"a\", \"b\""
   ]
  },
  {
   "cell_type": "code",
   "execution_count": null,
   "id": "4b7b9793-0365-4a5a-bab0-487a0c2d5d35",
   "metadata": {
    "execution": {
     "iopub.execute_input": "2023-04-19T20:50:06.190081Z",
     "iopub.status.busy": "2023-04-19T20:50:06.189805Z",
     "iopub.status.idle": "2023-04-19T20:50:06.192843Z",
     "shell.execute_reply": "2023-04-19T20:50:06.192493Z",
     "shell.execute_reply.started": "2023-04-19T20:50:06.190069Z"
    },
    "tags": []
   },
   "outputs": [],
   "source": [
    "match hashes:\n",
    "    case None:\n",
    "        hash_algorithm, reference = None, None\n",
    "    case Mapping():\n",
    "        hash_algorithm, reference = hashes.get(\n",
    "            str(file),\n",
    "            hashes.get(file.name, hashes.get(file.stem, (None, None))),\n",
    "        )  # try to match by full path, then by name, then by stem\n",
    "    case [hash_algorithm, reference]:\n",
    "        pass"
   ]
  },
  {
   "cell_type": "code",
   "execution_count": null,
   "id": "55859b0a-49d3-4f09-b691-c33249f2c4e4",
   "metadata": {
    "execution": {
     "iopub.execute_input": "2023-04-19T21:24:10.349682Z",
     "iopub.status.busy": "2023-04-19T21:24:10.349450Z",
     "iopub.status.idle": "2023-04-19T21:24:10.696404Z",
     "shell.execute_reply": "2023-04-19T21:24:10.695750Z",
     "shell.execute_reply.started": "2023-04-19T21:24:10.349669Z"
    },
    "tags": []
   },
   "outputs": [],
   "source": [
    "pd.DataFrame().name"
   ]
  },
  {
   "cell_type": "code",
   "execution_count": null,
   "id": "91530f62-94b7-4bff-a7f5-13d5f29c8de2",
   "metadata": {
    "execution": {
     "iopub.execute_input": "2023-04-19T23:23:26.002022Z",
     "iopub.status.busy": "2023-04-19T23:23:26.001796Z",
     "iopub.status.idle": "2023-04-19T23:23:28.305599Z",
     "shell.execute_reply": "2023-04-19T23:23:28.305197Z",
     "shell.execute_reply.started": "2023-04-19T23:23:26.002010Z"
    },
    "tags": []
   },
   "outputs": [],
   "source": [
    "hash(tuple(range(10**8)))"
   ]
  },
  {
   "cell_type": "code",
   "execution_count": null,
   "id": "4562f53b-95b4-4355-9a7f-cff70bd3d76e",
   "metadata": {
    "execution": {
     "iopub.execute_input": "2023-04-19T23:21:11.903854Z",
     "iopub.status.busy": "2023-04-19T23:21:11.903279Z",
     "iopub.status.idle": "2023-04-19T23:21:11.909000Z",
     "shell.execute_reply": "2023-04-19T23:21:11.908427Z",
     "shell.execute_reply.started": "2023-04-19T23:21:11.903829Z"
    },
    "tags": []
   },
   "outputs": [],
   "source": [
    "np.random.randn(5, 3, 3)"
   ]
  },
  {
   "cell_type": "code",
   "execution_count": null,
   "id": "cf54c381-2215-4bc6-a8ee-279d3de9ba96",
   "metadata": {
    "execution": {
     "iopub.execute_input": "2023-04-19T21:32:36.324300Z",
     "iopub.status.busy": "2023-04-19T21:32:36.323644Z",
     "iopub.status.idle": "2023-04-19T21:32:36.328207Z",
     "shell.execute_reply": "2023-04-19T21:32:36.327392Z",
     "shell.execute_reply.started": "2023-04-19T21:32:36.324273Z"
    },
    "tags": []
   },
   "outputs": [],
   "source": [
    "df = pd.DataFrame(np.random.randn(3, 3))\n",
    "index = False"
   ]
  },
  {
   "cell_type": "code",
   "execution_count": null,
   "id": "9fb7a39f-25e1-44d6-abed-9b62703dd15e",
   "metadata": {
    "execution": {
     "iopub.execute_input": "2023-04-19T21:35:15.193333Z",
     "iopub.status.busy": "2023-04-19T21:35:15.192872Z",
     "iopub.status.idle": "2023-04-19T21:35:15.198877Z",
     "shell.execute_reply": "2023-04-19T21:35:15.198235Z",
     "shell.execute_reply.started": "2023-04-19T21:35:15.193311Z"
    },
    "tags": []
   },
   "outputs": [],
   "source": [
    "tuple(pd.util.hash_pandas_object(df.stack(), index=index))"
   ]
  },
  {
   "cell_type": "code",
   "execution_count": null,
   "id": "f7e59f65-a60b-4e1c-af67-0848fa4e02fd",
   "metadata": {
    "execution": {
     "iopub.execute_input": "2023-04-19T21:32:36.661005Z",
     "iopub.status.busy": "2023-04-19T21:32:36.660582Z",
     "iopub.status.idle": "2023-04-19T21:32:36.665259Z",
     "shell.execute_reply": "2023-04-19T21:32:36.664959Z",
     "shell.execute_reply.started": "2023-04-19T21:32:36.660988Z"
    },
    "tags": []
   },
   "outputs": [],
   "source": [
    "pd.DataFrame(np.random.randn(3, 3)).stack()"
   ]
  },
  {
   "cell_type": "code",
   "execution_count": null,
   "id": "bbd563fc-d776-4ece-b2e7-165e5d67790e",
   "metadata": {
    "execution": {
     "iopub.execute_input": "2023-04-19T20:54:56.232026Z",
     "iopub.status.busy": "2023-04-19T20:54:56.231458Z",
     "iopub.status.idle": "2023-04-19T20:54:56.235887Z",
     "shell.execute_reply": "2023-04-19T20:54:56.235291Z",
     "shell.execute_reply.started": "2023-04-19T20:54:56.232001Z"
    },
    "tags": []
   },
   "outputs": [],
   "source": [
    "f\"{str(p)!r}\""
   ]
  },
  {
   "cell_type": "code",
   "execution_count": null,
   "id": "929a2d5a-279a-4c15-a33d-9b369780e000",
   "metadata": {
    "execution": {
     "iopub.execute_input": "2023-04-19T14:28:01.898997Z",
     "iopub.status.busy": "2023-04-19T14:28:01.898247Z",
     "iopub.status.idle": "2023-04-19T14:28:01.902901Z",
     "shell.execute_reply": "2023-04-19T14:28:01.902288Z",
     "shell.execute_reply.started": "2023-04-19T14:28:01.898963Z"
    },
    "tags": []
   },
   "outputs": [],
   "source": [
    "class Foo:\n",
    "    \"\"\"doc\"\"\"\n",
    "\n",
    "    print(locals())\n",
    "    # b = __bases__"
   ]
  },
  {
   "cell_type": "code",
   "execution_count": null,
   "id": "88d73ef3-245d-43fd-afb4-ee2de3bfc32e",
   "metadata": {
    "execution": {
     "iopub.execute_input": "2023-04-19T14:27:38.364016Z",
     "iopub.status.busy": "2023-04-19T14:27:38.363382Z",
     "iopub.status.idle": "2023-04-19T14:27:38.368711Z",
     "shell.execute_reply": "2023-04-19T14:27:38.367987Z",
     "shell.execute_reply.started": "2023-04-19T14:27:38.363993Z"
    },
    "tags": []
   },
   "outputs": [],
   "source": [
    "dir(Foo)"
   ]
  },
  {
   "cell_type": "code",
   "execution_count": null,
   "id": "3d754a46",
   "metadata": {
    "execution": {
     "iopub.execute_input": "2023-03-28T14:43:35.393395Z",
     "iopub.status.busy": "2023-03-28T14:43:35.393174Z",
     "iopub.status.idle": "2023-03-28T14:43:38.274731Z",
     "shell.execute_reply": "2023-03-28T14:43:38.274285Z",
     "shell.execute_reply.started": "2023-03-28T14:43:35.393379Z"
    }
   },
   "outputs": [],
   "source": [
    "import tsdm"
   ]
  },
  {
   "cell_type": "code",
   "execution_count": null,
   "id": "3f45edb1-84bf-43b3-ac9c-e9b6ff04cce6",
   "metadata": {
    "execution": {
     "iopub.execute_input": "2023-03-28T14:43:52.002600Z",
     "iopub.status.busy": "2023-03-28T14:43:52.002328Z",
     "iopub.status.idle": "2023-03-28T14:43:54.925971Z",
     "shell.execute_reply": "2023-03-28T14:43:54.925597Z",
     "shell.execute_reply.started": "2023-03-28T14:43:52.002582Z"
    }
   },
   "outputs": [],
   "source": [
    "task = tsdm.tasks.KiwiTask()"
   ]
  },
  {
   "cell_type": "code",
   "execution_count": null,
   "id": "0fc8764d-9a81-4d3b-ac86-e624cfcc7e4a",
   "metadata": {},
   "outputs": [],
   "source": [
    "obj[...] -> obj.__getitem__(args)"
   ]
  },
  {
   "cell_type": "code",
   "execution_count": null,
   "id": "de0d6e7f-34c0-4ce4-9c0c-770967966662",
   "metadata": {
    "execution": {
     "iopub.execute_input": "2023-03-28T14:53:12.188493Z",
     "iopub.status.busy": "2023-03-28T14:53:12.188230Z",
     "iopub.status.idle": "2023-03-28T14:53:12.192087Z",
     "shell.execute_reply": "2023-03-28T14:53:12.191653Z",
     "shell.execute_reply.started": "2023-03-28T14:53:12.188462Z"
    },
    "tags": []
   },
   "outputs": [],
   "source": [
    "dloader = task.dataloaders[0, \"train\"]"
   ]
  },
  {
   "cell_type": "code",
   "execution_count": null,
   "id": "3f5785ee-5acb-45bb-a79c-564e58d13794",
   "metadata": {
    "execution": {
     "iopub.execute_input": "2023-03-28T14:53:20.275689Z",
     "iopub.status.busy": "2023-03-28T14:53:20.275488Z",
     "iopub.status.idle": "2023-03-28T14:53:21.215585Z",
     "shell.execute_reply": "2023-03-28T14:53:21.215108Z",
     "shell.execute_reply.started": "2023-03-28T14:53:20.275677Z"
    }
   },
   "outputs": [],
   "source": [
    "next(iter(dloader))"
   ]
  },
  {
   "cell_type": "code",
   "execution_count": null,
   "id": "cb40e675-88cf-4801-8171-b5ab6e5e5b31",
   "metadata": {},
   "outputs": [],
   "source": []
  },
  {
   "cell_type": "code",
   "execution_count": null,
   "id": "d12b7ce9-09a3-4ed2-bc53-d81668eadfe1",
   "metadata": {},
   "outputs": [],
   "source": []
  },
  {
   "cell_type": "code",
   "execution_count": null,
   "id": "0d4655ae",
   "metadata": {},
   "outputs": [],
   "source": [
    "from tsdm.logutils import BaseLogger"
   ]
  },
  {
   "cell_type": "code",
   "execution_count": null,
   "id": "d598fb94-0d86-4cc3-af6a-fe6e2ed17bae",
   "metadata": {
    "execution": {
     "iopub.execute_input": "2023-03-07T14:26:36.951172Z",
     "iopub.status.busy": "2023-03-07T14:26:36.951013Z",
     "iopub.status.idle": "2023-03-07T14:26:36.956010Z",
     "shell.execute_reply": "2023-03-07T14:26:36.955645Z",
     "shell.execute_reply.started": "2023-03-07T14:26:36.951160Z"
    },
    "tags": []
   },
   "outputs": [],
   "source": [
    "from dataclasses import dataclass\n",
    "\n",
    "\n",
    "@dataclass\n",
    "class Foo:\n",
    "    _private: int\n",
    "\n",
    "\n",
    "Foo(1)"
   ]
  },
  {
   "cell_type": "code",
   "execution_count": null,
   "id": "3e388b85-b540-4644-869f-7529c6880b09",
   "metadata": {
    "execution": {
     "iopub.execute_input": "2023-04-20T13:32:32.371650Z",
     "iopub.status.busy": "2023-04-20T13:32:32.371136Z",
     "iopub.status.idle": "2023-04-20T13:32:32.374058Z",
     "shell.execute_reply": "2023-04-20T13:32:32.373668Z",
     "shell.execute_reply.started": "2023-04-20T13:32:32.371627Z"
    },
    "tags": []
   },
   "outputs": [],
   "source": [
    "from pathlib import Path"
   ]
  },
  {
   "cell_type": "code",
   "execution_count": null,
   "id": "4f1fd1c8-0dfe-41b5-97fd-4869d7a17d7e",
   "metadata": {
    "execution": {
     "iopub.execute_input": "2023-04-20T13:32:50.341955Z",
     "iopub.status.busy": "2023-04-20T13:32:50.341522Z",
     "iopub.status.idle": "2023-04-20T13:32:50.344913Z",
     "shell.execute_reply": "2023-04-20T13:32:50.344566Z",
     "shell.execute_reply.started": "2023-04-20T13:32:50.341937Z"
    },
    "tags": []
   },
   "outputs": [],
   "source": [
    "Path.cwd() / \"\""
   ]
  },
  {
   "cell_type": "code",
   "execution_count": null,
   "id": "6f1524dd-d2f5-4a72-acc4-4d98d9c412b8",
   "metadata": {},
   "outputs": [],
   "source": []
  },
  {
   "cell_type": "code",
   "execution_count": null,
   "id": "bfb2910d-beb3-4946-9e16-ecf4cdf5f8bf",
   "metadata": {},
   "outputs": [],
   "source": []
  },
  {
   "cell_type": "code",
   "execution_count": null,
   "id": "33496a14-c957-4170-a75e-0f8242eedb28",
   "metadata": {},
   "outputs": [],
   "source": []
  }
 ],
 "metadata": {
  "kernelspec": {
   "display_name": "Python 3 (ipykernel)",
   "language": "python",
   "name": "python3"
  },
  "language_info": {
   "codemirror_mode": {
    "name": "ipython",
    "version": 3
   },
   "file_extension": ".py",
   "mimetype": "text/x-python",
   "name": "python",
   "nbconvert_exporter": "python",
   "pygments_lexer": "ipython3",
   "version": "3.11.3"
  }
 },
 "nbformat": 4,
 "nbformat_minor": 5
}
