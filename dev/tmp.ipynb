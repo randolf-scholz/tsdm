{
 "cells": [
  {
   "cell_type": "code",
   "execution_count": null,
   "id": "8995d570-88ed-4147-8d0f-e8ef165f8e67",
   "metadata": {},
   "outputs": [],
   "source": [
    "def gg():\n",
    "    ..."
   ]
  },
  {
   "cell_type": "code",
   "execution_count": null,
   "id": "acac0028-c245-412b-b041-19ef82922120",
   "metadata": {},
   "outputs": [],
   "source": [
    "gg.__name__"
   ]
  },
  {
   "cell_type": "code",
   "execution_count": null,
   "id": "4cd4fcff-3d1b-45e5-8a41-06a82af3750f",
   "metadata": {},
   "outputs": [],
   "source": [
    "import tsdm"
   ]
  },
  {
   "cell_type": "code",
   "execution_count": null,
   "id": "e99988a1",
   "metadata": {
    "pycharm": {
     "name": "#%%\n"
    }
   },
   "outputs": [],
   "source": [
    "tsdm.__version__\n",
    "\n",
    "ds = tsdm.datasets.InSilicoData()"
   ]
  },
  {
   "cell_type": "code",
   "execution_count": null,
   "id": "14246561",
   "metadata": {
    "pycharm": {
     "name": "#%%\n"
    }
   },
   "outputs": [],
   "source": []
  }
 ],
 "metadata": {
  "kernelspec": {
   "display_name": "Python 3 (ipykernel)",
   "language": "python",
   "name": "python3"
  },
  "language_info": {
   "codemirror_mode": {
    "name": "ipython",
    "version": 3
   },
   "file_extension": ".py",
   "mimetype": "text/x-python",
   "name": "python",
   "nbconvert_exporter": "python",
   "pygments_lexer": "ipython3",
   "version": "3.9.7"
  }
 },
 "nbformat": 4,
 "nbformat_minor": 5
}
