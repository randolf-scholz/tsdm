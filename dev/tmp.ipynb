{
 "cells": [
  {
   "cell_type": "code",
   "execution_count": null,
   "id": "298deace-b88d-407d-b27d-997e7d010308",
   "metadata": {
    "pycharm": {
     "name": "#%%\n"
    }
   },
   "outputs": [],
   "source": [
    "%config InteractiveShell.ast_node_interactivity='last_expr_or_assign'  # always print last expr.\n",
    "%config InlineBackend.figure_format = 'svg'\n",
    "%load_ext autoreload\n",
    "%autoreload 2\n",
    "%matplotlib inline\n",
    "\n",
    "import logging\n",
    "\n",
    "logging.basicConfig(level=logging.INFO)"
   ]
  },
  {
   "cell_type": "code",
   "execution_count": null,
   "id": "0ef9038a-5578-4309-abb6-57787581c608",
   "metadata": {},
   "outputs": [],
   "source": [
    "from typing import NamedTuple"
   ]
  },
  {
   "cell_type": "code",
   "execution_count": null,
   "id": "9f8a9f8b-4334-458c-b0da-be796740f288",
   "metadata": {},
   "outputs": [],
   "source": [
    "class Foo(NamedTuple):\n",
    "    a: float\n",
    "    b: int\n",
    "\n",
    "\n",
    "tuple([1, 2, 3])"
   ]
  },
  {
   "cell_type": "code",
   "execution_count": null,
   "id": "94ce3282",
   "metadata": {
    "pycharm": {
     "is_executing": true,
     "name": "#%%\n"
    }
   },
   "outputs": [],
   "source": [
    "a = 1"
   ]
  },
  {
   "cell_type": "code",
   "execution_count": null,
   "id": "0e7e7a3f",
   "metadata": {
    "pycharm": {
     "name": "#%%\n"
    }
   },
   "outputs": [],
   "source": [
    "import encoders"
   ]
  },
  {
   "cell_type": "code",
   "execution_count": null,
   "id": "141c3e49",
   "metadata": {
    "pycharm": {
     "name": "#%%\n"
    }
   },
   "outputs": [],
   "source": [
    "import sys\n",
    "\n",
    "sys.path"
   ]
  },
  {
   "cell_type": "code",
   "execution_count": null,
   "id": "8c639a93",
   "metadata": {
    "pycharm": {
     "name": "#%%\n"
    }
   },
   "outputs": [],
   "source": [
    "import tsdm"
   ]
  },
  {
   "cell_type": "code",
   "execution_count": null,
   "id": "8c1a63b9",
   "metadata": {
    "pycharm": {
     "name": "#%%\n"
    }
   },
   "outputs": [],
   "source": [
    "encoders.__path__"
   ]
  },
  {
   "cell_type": "code",
   "execution_count": null,
   "id": "d763b7e3",
   "metadata": {
    "pycharm": {
     "name": "#%%\n"
    }
   },
   "outputs": [],
   "source": [
    "import tsdm"
   ]
  },
  {
   "cell_type": "code",
   "execution_count": null,
   "id": "e8af615e",
   "metadata": {
    "pycharm": {
     "name": "#%%\n"
    }
   },
   "outputs": [],
   "source": [
    "dir(tsdm)"
   ]
  },
  {
   "cell_type": "code",
   "execution_count": null,
   "id": "4cd4fcff-3d1b-45e5-8a41-06a82af3750f",
   "metadata": {
    "pycharm": {
     "name": "#%%\n"
    },
    "tags": []
   },
   "outputs": [],
   "source": [
    "import tsdm\n",
    "import pandas as pd"
   ]
  },
  {
   "cell_type": "code",
   "execution_count": null,
   "id": "bd082c85-2dd8-440f-891d-9c208cc9de43",
   "metadata": {
    "pycharm": {
     "name": "#%%\n"
    }
   },
   "outputs": [],
   "source": [
    "DS = tsdm.datasets.USHCN_SmallChunkedSporadic()"
   ]
  },
  {
   "cell_type": "code",
   "execution_count": null,
   "id": "1bef2043-78a2-491f-bd2a-407a235fa50d",
   "metadata": {
    "pycharm": {
     "name": "#%%\n"
    }
   },
   "outputs": [],
   "source": [
    "DS.dataset.sort_index(level=\"Time\")"
   ]
  },
  {
   "cell_type": "code",
   "execution_count": null,
   "id": "9f3600ab-dd25-4742-a380-4a54ec3ab59f",
   "metadata": {
    "pycharm": {
     "name": "#%%\n"
    }
   },
   "outputs": [],
   "source": [
    "dtypes = {\n",
    "    \"ID\": \"int16\",\n",
    "    \"Time\": \"float32\",\n",
    "    \"Value_0\": \"float32\",\n",
    "    \"Value_1\": \"float32\",\n",
    "    \"Value_2\": \"float32\",\n",
    "    \"Value_3\": \"float32\",\n",
    "    \"Value_4\": \"float32\",\n",
    "    \"Mask_0\": \"bool\",\n",
    "    \"Mask_1\": \"bool\",\n",
    "    \"Mask_2\": \"bool\",\n",
    "    \"Mask_3\": \"bool\",\n",
    "    \"Mask_4\": \"bool\",\n",
    "}\n",
    "df = pd.read_csv(PTH, dtype=dtypes)\n",
    "df = pd.DataFrame(df)"
   ]
  },
  {
   "cell_type": "code",
   "execution_count": null,
   "id": "b0b48166-42bf-4284-9cd0-e9cf07359065",
   "metadata": {
    "pycharm": {
     "name": "#%%\n"
    }
   },
   "outputs": [],
   "source": [
    "l = []\n",
    "for k in range(5):\n",
    "    key = f\"CH_{k}\"\n",
    "    l.append(key)\n",
    "    df[key] = df[f\"Value_{k}\"].where(df[f\"Mask_{k}\"])\n",
    "\n",
    "df = df[[\"ID\", \"Time\", *l]].sort_values([\"ID\", \"Time\"])"
   ]
  },
  {
   "cell_type": "code",
   "execution_count": null,
   "id": "0ebc1fb4-5bdf-4708-aff3-fecf6e4627fe",
   "metadata": {
    "pycharm": {
     "name": "#%%\n"
    }
   },
   "outputs": [],
   "source": [
    "df = df.set_index([\"ID\", \"Time\"])"
   ]
  },
  {
   "cell_type": "code",
   "execution_count": null,
   "id": "42fe2287-dc6a-4b1d-8896-d3795886e32a",
   "metadata": {
    "pycharm": {
     "name": "#%%\n"
    }
   },
   "outputs": [],
   "source": [
    "df.dtypes"
   ]
  },
  {
   "cell_type": "code",
   "execution_count": null,
   "id": "4ba7f210-a33a-4976-a259-30e1f1033791",
   "metadata": {
    "pycharm": {
     "name": "#%%\n"
    }
   },
   "outputs": [],
   "source": [
    "ts.Value_0.where(ts.Mask_0)"
   ]
  },
  {
   "cell_type": "code",
   "execution_count": null,
   "id": "ba68a191-dd8f-4083-8620-0072359416de",
   "metadata": {
    "pycharm": {
     "name": "#%%\n"
    }
   },
   "outputs": [],
   "source": []
  },
  {
   "cell_type": "code",
   "execution_count": null,
   "id": "ad22187c-d626-483d-8f02-29320a389634",
   "metadata": {
    "pycharm": {
     "name": "#%%\n"
    }
   },
   "outputs": [],
   "source": []
  },
  {
   "cell_type": "code",
   "execution_count": null,
   "id": "e5dd8e15-443a-4aec-8a88-d6bd7a24aa8e",
   "metadata": {
    "pycharm": {
     "name": "#%%\n"
    }
   },
   "outputs": [],
   "source": [
    "ts[\"ID\"].nunique()"
   ]
  },
  {
   "cell_type": "code",
   "execution_count": null,
   "id": "61ee46cd-4ce9-42f1-b500-7b4cb9653d6b",
   "metadata": {
    "pycharm": {
     "name": "#%%\n"
    }
   },
   "outputs": [],
   "source": [
    "ds = tsdm.datasets.USHCN()"
   ]
  },
  {
   "cell_type": "code",
   "execution_count": null,
   "id": "2f86a6f1-8e88-4a41-8dce-e87e1b884f89",
   "metadata": {
    "pycharm": {
     "name": "#%%\n"
    }
   },
   "outputs": [],
   "source": [
    "from tsdm.encoders import TripletDecoder"
   ]
  },
  {
   "cell_type": "code",
   "execution_count": null,
   "id": "47909d64-5a07-4827-b09d-1b2a7ec4035f",
   "metadata": {
    "pycharm": {
     "name": "#%%\n"
    }
   },
   "outputs": [],
   "source": [
    "ts = ds.us_daily[[\"VALUE\", \"ELEMENT\"]]"
   ]
  },
  {
   "cell_type": "code",
   "execution_count": null,
   "id": "bdc1c5d4-8f13-487b-9246-55f0e71e5176",
   "metadata": {
    "pycharm": {
     "name": "#%%\n"
    }
   },
   "outputs": [],
   "source": [
    "enc = TripletDecoder(value_name=\"VALUE\", var_name=\"ELEMENT\")\n",
    "enc.fit(ts)"
   ]
  },
  {
   "cell_type": "code",
   "execution_count": null,
   "id": "0d4a1d61-429e-4695-bb23-0be16e9f450c",
   "metadata": {
    "pycharm": {
     "name": "#%%\n"
    }
   },
   "outputs": [],
   "source": [
    "import modin.pandas as mpd"
   ]
  },
  {
   "cell_type": "code",
   "execution_count": null,
   "id": "9ad451f9-1408-4da5-9adc-f72a7fe8b54d",
   "metadata": {
    "pycharm": {
     "name": "#%%\n"
    }
   },
   "outputs": [],
   "source": [
    "ts = mpd.DataFrame(ts)"
   ]
  },
  {
   "cell_type": "code",
   "execution_count": null,
   "id": "777458bb-2d8e-4efc-b268-49dcf6d3a6f0",
   "metadata": {
    "pycharm": {
     "name": "#%%\n"
    }
   },
   "outputs": [],
   "source": [
    "s = ts[:1000].reset_index()"
   ]
  },
  {
   "cell_type": "code",
   "execution_count": null,
   "id": "bbe6a566-039f-487b-a88d-3a69a1b74143",
   "metadata": {
    "pycharm": {
     "name": "#%%\n"
    }
   },
   "outputs": [],
   "source": [
    "type(ts)"
   ]
  },
  {
   "cell_type": "code",
   "execution_count": null,
   "id": "9bee601b-ee00-4037-bfa3-79a4c4392f77",
   "metadata": {
    "pycharm": {
     "name": "#%%\n"
    }
   },
   "outputs": [],
   "source": [
    "ts.reset_index().groupby([\"COOP_ID\", \"time\", \"ELEMENT\"])[\"VALUE\"].aggregate(\n",
    "    \"mean\"\n",
    ").unstack()"
   ]
  },
  {
   "cell_type": "code",
   "execution_count": null,
   "id": "cbbd9e03-8ac5-4c57-b452-e47026920f61",
   "metadata": {
    "pycharm": {
     "name": "#%%\n"
    }
   },
   "outputs": [],
   "source": []
  },
  {
   "cell_type": "code",
   "execution_count": null,
   "id": "bf33a3dd-7850-4d5a-8332-61dceaa4d797",
   "metadata": {
    "pycharm": {
     "name": "#%%\n"
    }
   },
   "outputs": [],
   "source": [
    "l = []\n",
    "\n",
    "for value in ts.ELEMENT.unique():\n",
    "    print(value)\n",
    "    mask = ts.ELEMENT == value\n",
    "    l.append(ts.VALUE[mask])"
   ]
  },
  {
   "cell_type": "code",
   "execution_count": null,
   "id": "9f714d70-89d8-4e09-9e51-973ffd654b4e",
   "metadata": {
    "pycharm": {
     "name": "#%%\n"
    }
   },
   "outputs": [],
   "source": [
    "ts.pivot(columns=\"ELEMENT\", values=\"VALUE\")"
   ]
  },
  {
   "cell_type": "code",
   "execution_count": null,
   "id": "fb3141ea-1ec9-4585-8c22-7ade249123a5",
   "metadata": {
    "pycharm": {
     "name": "#%%\n"
    }
   },
   "outputs": [],
   "source": []
  }
 ],
 "metadata": {
  "kernelspec": {
   "display_name": "Python 3 (ipykernel)",
   "language": "python",
   "name": "python3"
  },
  "language_info": {
   "codemirror_mode": {
    "name": "ipython",
    "version": 3
   },
   "file_extension": ".py",
   "mimetype": "text/x-python",
   "name": "python",
   "nbconvert_exporter": "python",
   "pygments_lexer": "ipython3",
   "version": "3.10.6"
  }
 },
 "nbformat": 4,
 "nbformat_minor": 5
}
