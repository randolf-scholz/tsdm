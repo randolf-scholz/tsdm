{
 "cells": [
  {
   "cell_type": "code",
   "execution_count": null,
   "id": "93315a35-3fc0-41be-b4ee-c80ce95cf2a5",
   "metadata": {
    "execution": {
     "iopub.execute_input": "2022-12-01T01:50:26.760755Z",
     "iopub.status.busy": "2022-12-01T01:50:26.760614Z",
     "iopub.status.idle": "2022-12-01T01:50:28.442811Z",
     "shell.execute_reply": "2022-12-01T01:50:28.442251Z",
     "shell.execute_reply.started": "2022-12-01T01:50:26.760710Z"
    },
    "tags": []
   },
   "outputs": [],
   "source": [
    "from tsdm.tasks import KiwiTask"
   ]
  },
  {
   "cell_type": "code",
   "execution_count": null,
   "id": "0315855a-e177-4b2f-bd7c-276638e4aa8b",
   "metadata": {
    "execution": {
     "iopub.execute_input": "2022-12-01T01:50:28.444063Z",
     "iopub.status.busy": "2022-12-01T01:50:28.443789Z",
     "iopub.status.idle": "2022-12-01T01:50:28.446767Z",
     "shell.execute_reply": "2022-12-01T01:50:28.446247Z",
     "shell.execute_reply.started": "2022-12-01T01:50:28.444050Z"
    },
    "tags": []
   },
   "outputs": [],
   "source": [
    "from tsdm.metrics import TimeSeriesMSE\n",
    "import torch"
   ]
  },
  {
   "cell_type": "code",
   "execution_count": null,
   "id": "56d8703a-df2e-494d-8670-53108d512129",
   "metadata": {
    "execution": {
     "iopub.execute_input": "2022-12-01T02:31:55.458714Z",
     "iopub.status.busy": "2022-12-01T02:31:55.458255Z",
     "iopub.status.idle": "2022-12-01T02:31:58.426358Z",
     "shell.execute_reply": "2022-12-01T02:31:58.425964Z",
     "shell.execute_reply.started": "2022-12-01T02:31:55.458691Z"
    },
    "tags": []
   },
   "outputs": [],
   "source": [
    "task = KiwiTask()"
   ]
  },
  {
   "cell_type": "code",
   "execution_count": null,
   "id": "490346b4-bff3-4645-833b-0a6fdea904b1",
   "metadata": {
    "execution": {
     "iopub.execute_input": "2022-12-01T02:32:01.909168Z",
     "iopub.status.busy": "2022-12-01T02:32:01.908655Z",
     "iopub.status.idle": "2022-12-01T02:32:01.915225Z",
     "shell.execute_reply": "2022-12-01T02:32:01.914779Z",
     "shell.execute_reply.started": "2022-12-01T02:32:01.909152Z"
    }
   },
   "outputs": [],
   "source": [
    "task.observation_horizon"
   ]
  },
  {
   "cell_type": "code",
   "execution_count": null,
   "id": "448fec1e-e3e7-42e2-a6a0-d82dbabccd3a",
   "metadata": {
    "execution": {
     "iopub.execute_input": "2022-11-30T22:21:14.172988Z",
     "iopub.status.busy": "2022-11-30T22:21:14.172510Z",
     "iopub.status.idle": "2022-11-30T22:21:14.216657Z",
     "shell.execute_reply": "2022-11-30T22:21:14.215433Z",
     "shell.execute_reply.started": "2022-11-30T22:21:14.172965Z"
    },
    "tags": []
   },
   "outputs": [],
   "source": [
    "ts = task.dataset.timeseries\n",
    "ts"
   ]
  },
  {
   "cell_type": "code",
   "execution_count": null,
   "id": "6213be9d-bebd-41b2-a3a9-225780f57af2",
   "metadata": {
    "execution": {
     "iopub.execute_input": "2022-11-30T22:22:57.464889Z",
     "iopub.status.busy": "2022-11-30T22:22:57.464607Z",
     "iopub.status.idle": "2022-11-30T22:22:57.468568Z",
     "shell.execute_reply": "2022-11-30T22:22:57.468077Z",
     "shell.execute_reply.started": "2022-11-30T22:22:57.464877Z"
    },
    "tags": []
   },
   "outputs": [],
   "source": [
    "task.covariates"
   ]
  },
  {
   "cell_type": "code",
   "execution_count": null,
   "id": "cf336688-e83d-49c3-a506-7f675d15a1c1",
   "metadata": {
    "execution": {
     "iopub.execute_input": "2022-11-30T22:27:54.369394Z",
     "iopub.status.busy": "2022-11-30T22:27:54.368874Z",
     "iopub.status.idle": "2022-11-30T22:27:54.390587Z",
     "shell.execute_reply": "2022-11-30T22:27:54.390139Z",
     "shell.execute_reply.started": "2022-11-30T22:27:54.369369Z"
    }
   },
   "outputs": [],
   "source": [
    "ts"
   ]
  },
  {
   "cell_type": "code",
   "execution_count": null,
   "id": "e98c2d8b-2d07-444c-abb1-4c4045387911",
   "metadata": {
    "execution": {
     "iopub.execute_input": "2022-11-30T22:28:59.003286Z",
     "iopub.status.busy": "2022-11-30T22:28:59.002300Z",
     "iopub.status.idle": "2022-11-30T22:28:59.088268Z",
     "shell.execute_reply": "2022-11-30T22:28:59.087858Z",
     "shell.execute_reply.started": "2022-11-30T22:28:59.003260Z"
    },
    "tags": []
   },
   "outputs": [],
   "source": [
    "ts.loc[:, task.covariates] = (\n",
    "    ts.loc[:, task.covariates]\n",
    "    .groupby([\"run_id\", \"experiment_id\"])\n",
    "    .ffill()\n",
    "    .fillna(0)  # covariates before first entry\n",
    ")"
   ]
  },
  {
   "cell_type": "code",
   "execution_count": null,
   "id": "0d08be90-654f-4626-9413-e95f7c451f2c",
   "metadata": {},
   "outputs": [],
   "source": []
  },
  {
   "cell_type": "code",
   "execution_count": null,
   "id": "84a0c027-0c73-4e49-9503-f0a11296e128",
   "metadata": {
    "execution": {
     "iopub.execute_input": "2022-11-30T22:26:36.489939Z",
     "iopub.status.busy": "2022-11-30T22:26:36.489366Z",
     "iopub.status.idle": "2022-11-30T22:26:36.661642Z",
     "shell.execute_reply": "2022-11-30T22:26:36.661242Z",
     "shell.execute_reply.started": "2022-11-30T22:26:36.489914Z"
    },
    "tags": []
   },
   "outputs": [],
   "source": [
    "%matplotlib inline\n",
    "ts.loc[439, 15325].loc[:, task.covariates].ffill().fillna(0).plot()"
   ]
  },
  {
   "cell_type": "code",
   "execution_count": null,
   "id": "4d0e36cb-025d-46d6-b5af-4536665fd8bd",
   "metadata": {},
   "outputs": [],
   "source": []
  }
 ],
 "metadata": {
  "kernelspec": {
   "display_name": "Python 3 (ipykernel)",
   "language": "python",
   "name": "python3"
  },
  "language_info": {
   "codemirror_mode": {
    "name": "ipython",
    "version": 3
   },
   "file_extension": ".py",
   "mimetype": "text/x-python",
   "name": "python",
   "nbconvert_exporter": "python",
   "pygments_lexer": "ipython3",
   "version": "3.10.6"
  }
 },
 "nbformat": 4,
 "nbformat_minor": 5
}
