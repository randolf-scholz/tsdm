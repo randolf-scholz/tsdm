{
 "cells": [
  {
   "cell_type": "code",
   "execution_count": null,
   "id": "07574fc2-760a-4459-a90a-1c96de12484a",
   "metadata": {
    "execution": {
     "iopub.execute_input": "2023-06-20T17:02:17.460366Z",
     "iopub.status.busy": "2023-06-20T17:02:17.460150Z",
     "iopub.status.idle": "2023-06-20T17:02:17.817075Z",
     "shell.execute_reply": "2023-06-20T17:02:17.816645Z",
     "shell.execute_reply.started": "2023-06-20T17:02:17.460353Z"
    },
    "tags": []
   },
   "outputs": [],
   "source": [
    "%config InteractiveShell.ast_node_interactivity='last_expr_or_assign'  # always print last expr.\n",
    "%config InlineBackend.figure_format = 'svg'\n",
    "%load_ext autoreload\n",
    "%autoreload 2\n",
    "%matplotlib inline\n",
    "\n",
    "import logging\n",
    "\n",
    "logging.basicConfig(level=logging.INFO)"
   ]
  },
  {
   "cell_type": "code",
   "execution_count": null,
   "id": "6169a6b4-27c9-4316-a729-44a8415491d5",
   "metadata": {
    "execution": {
     "iopub.execute_input": "2023-06-20T18:08:36.773642Z",
     "iopub.status.busy": "2023-06-20T18:08:36.773469Z",
     "iopub.status.idle": "2023-06-20T18:08:40.088348Z",
     "shell.execute_reply": "2023-06-20T18:08:40.087899Z",
     "shell.execute_reply.started": "2023-06-20T18:08:36.773629Z"
    }
   },
   "outputs": [],
   "source": [
    "import numpy as np\n",
    "import pandas as pd\n",
    "import torch\n",
    "\n",
    "from tsdm.encoders.numerical import BoundaryEncoder"
   ]
  },
  {
   "cell_type": "code",
   "execution_count": null,
   "id": "cad95cf5-b245-43a1-984d-8c287beb72b4",
   "metadata": {
    "execution": {
     "iopub.execute_input": "2023-06-20T18:08:40.089480Z",
     "iopub.status.busy": "2023-06-20T18:08:40.088999Z",
     "iopub.status.idle": "2023-06-20T18:08:40.096920Z",
     "shell.execute_reply": "2023-06-20T18:08:40.096480Z",
     "shell.execute_reply.started": "2023-06-20T18:08:40.089456Z"
    }
   },
   "outputs": [],
   "source": [
    "encoder = BoundaryEncoder(0, 1, mode=\"clip\")\n",
    "data = torch.tensor(np.random.randn(100))\n",
    "encoder.fit(data)\n",
    "encoder.encode(data)"
   ]
  },
  {
   "cell_type": "code",
   "execution_count": null,
   "id": "b595b875-bc7b-45de-bef8-7353b696162e",
   "metadata": {
    "execution": {
     "iopub.execute_input": "2023-06-20T18:13:30.130561Z",
     "iopub.status.busy": "2023-06-20T18:13:30.130332Z",
     "iopub.status.idle": "2023-06-20T18:13:30.134804Z",
     "shell.execute_reply": "2023-06-20T18:13:30.134440Z",
     "shell.execute_reply.started": "2023-06-20T18:13:30.130539Z"
    }
   },
   "outputs": [],
   "source": [
    "np.where(data <= 1, np.where(data >= 0, data, float(\"nan\")), float(\"nan\"))"
   ]
  },
  {
   "cell_type": "code",
   "execution_count": null,
   "id": "09e5b1d1-f64f-4db4-a1b0-61afaf283493",
   "metadata": {
    "execution": {
     "iopub.execute_input": "2023-06-20T18:13:38.448201Z",
     "iopub.status.busy": "2023-06-20T18:13:38.447851Z",
     "iopub.status.idle": "2023-06-20T18:13:38.451975Z",
     "shell.execute_reply": "2023-06-20T18:13:38.451644Z",
     "shell.execute_reply.started": "2023-06-20T18:13:38.448178Z"
    }
   },
   "outputs": [],
   "source": [
    "x <= 1"
   ]
  },
  {
   "cell_type": "code",
   "execution_count": null,
   "id": "349f692d-f4cf-4b86-9bb8-25044736807e",
   "metadata": {},
   "outputs": [],
   "source": []
  }
 ],
 "metadata": {
  "kernelspec": {
   "display_name": "Python 3 (ipykernel)",
   "language": "python",
   "name": "python3"
  },
  "language_info": {
   "codemirror_mode": {
    "name": "ipython",
    "version": 3
   },
   "file_extension": ".py",
   "mimetype": "text/x-python",
   "name": "python",
   "nbconvert_exporter": "python",
   "pygments_lexer": "ipython3",
   "version": "3.11.3"
  }
 },
 "nbformat": 4,
 "nbformat_minor": 5
}
