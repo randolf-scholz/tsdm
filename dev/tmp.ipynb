{
 "cells": [
  {
   "cell_type": "code",
   "execution_count": null,
   "id": "07574fc2-760a-4459-a90a-1c96de12484a",
   "metadata": {
    "execution": {
     "iopub.execute_input": "2023-02-17T14:51:21.658860Z",
     "iopub.status.busy": "2023-02-17T14:51:21.658757Z",
     "iopub.status.idle": "2023-02-17T14:51:22.023869Z",
     "shell.execute_reply": "2023-02-17T14:51:22.023415Z",
     "shell.execute_reply.started": "2023-02-17T14:51:21.658849Z"
    },
    "tags": []
   },
   "outputs": [],
   "source": [
    "%config InteractiveShell.ast_node_interactivity='last_expr_or_assign'  # always print last expr.\n",
    "%config InlineBackend.figure_format = 'svg'\n",
    "%load_ext autoreload\n",
    "%autoreload 2\n",
    "%matplotlib inline\n",
    "\n",
    "import logging\n",
    "\n",
    "# logging.basicConfig(level=logging.DEBUG)"
   ]
  },
  {
   "cell_type": "code",
   "execution_count": null,
   "id": "a4bed622-e99a-43b7-a9be-a5b59ce8ff16",
   "metadata": {
    "execution": {
     "iopub.execute_input": "2023-04-19T13:43:00.037683Z",
     "iopub.status.busy": "2023-04-19T13:43:00.037128Z",
     "iopub.status.idle": "2023-04-19T13:43:00.041414Z",
     "shell.execute_reply": "2023-04-19T13:43:00.041013Z",
     "shell.execute_reply.started": "2023-04-19T13:43:00.037660Z"
    },
    "tags": []
   },
   "outputs": [],
   "source": [
    "import logging\n",
    "from typing import ClassVar\n",
    "\n",
    "\n",
    "class ClassWithLogger:\n",
    "    LOGGER: ClassVar[logging.Logger] = logging.getLogger(f\"{__module__}/{__qualname__}\")\n",
    "\n",
    "\n",
    "logging.basicConfig(level=logging.INFO)\n",
    "ClassWithLogger.LOGGER.info(\"hello world\")"
   ]
  },
  {
   "cell_type": "code",
   "execution_count": null,
   "id": "6d0ced5f-0181-403c-b528-e2e45da4996e",
   "metadata": {
    "execution": {
     "iopub.execute_input": "2023-04-19T14:22:20.454655Z",
     "iopub.status.busy": "2023-04-19T14:22:20.454465Z",
     "iopub.status.idle": "2023-04-19T14:22:20.468891Z",
     "shell.execute_reply": "2023-04-19T14:22:20.468309Z",
     "shell.execute_reply.started": "2023-04-19T14:22:20.454631Z"
    },
    "tags": []
   },
   "outputs": [],
   "source": [
    "locals()"
   ]
  },
  {
   "cell_type": "code",
   "execution_count": null,
   "id": "45b34113-a0af-4aa1-b5ed-ffb86c6997e6",
   "metadata": {
    "execution": {
     "iopub.execute_input": "2023-04-19T14:27:24.373656Z",
     "iopub.status.busy": "2023-04-19T14:27:24.373223Z",
     "iopub.status.idle": "2023-04-19T14:27:24.403668Z",
     "shell.execute_reply": "2023-04-19T14:27:24.402681Z",
     "shell.execute_reply.started": "2023-04-19T14:27:24.373634Z"
    },
    "tags": []
   },
   "outputs": [],
   "source": [
    "import logging\n",
    "from typing import ClassVar\n",
    "\n",
    "\n",
    "class ClassWithLogger:\n",
    "    \"\"\"A class with a logger.\"\"\"\n",
    "\n",
    "    LOGGER: ClassVar[logging.Logger] = logging.getLogger(f\"{__module__}/{__qualname__}\")\n",
    "    b = __name__\n",
    "    c: str = __doc__\n",
    "    # print(dir())\n",
    "    # print(locals())\n",
    "    print(__annotations__)\n",
    "    d: str = \"aga\"\n",
    "    print(__annotations__)\n",
    "    b = __bases__\n",
    "\n",
    "\n",
    "logging.basicConfig(level=logging.INFO)\n",
    "ClassWithLogger.LOGGER.info(\"hello world\")"
   ]
  },
  {
   "cell_type": "code",
   "execution_count": null,
   "id": "929a2d5a-279a-4c15-a33d-9b369780e000",
   "metadata": {
    "execution": {
     "iopub.execute_input": "2023-04-19T14:28:01.898997Z",
     "iopub.status.busy": "2023-04-19T14:28:01.898247Z",
     "iopub.status.idle": "2023-04-19T14:28:01.902901Z",
     "shell.execute_reply": "2023-04-19T14:28:01.902288Z",
     "shell.execute_reply.started": "2023-04-19T14:28:01.898963Z"
    },
    "tags": []
   },
   "outputs": [],
   "source": [
    "class Foo:\n",
    "    \"\"\"doc\"\"\"\n",
    "\n",
    "    print(locals())\n",
    "    # b = __bases__"
   ]
  },
  {
   "cell_type": "code",
   "execution_count": null,
   "id": "88d73ef3-245d-43fd-afb4-ee2de3bfc32e",
   "metadata": {
    "execution": {
     "iopub.execute_input": "2023-04-19T14:27:38.364016Z",
     "iopub.status.busy": "2023-04-19T14:27:38.363382Z",
     "iopub.status.idle": "2023-04-19T14:27:38.368711Z",
     "shell.execute_reply": "2023-04-19T14:27:38.367987Z",
     "shell.execute_reply.started": "2023-04-19T14:27:38.363993Z"
    },
    "tags": []
   },
   "outputs": [],
   "source": [
    "dir(Foo)"
   ]
  },
  {
   "cell_type": "code",
   "execution_count": null,
   "id": "3d754a46",
   "metadata": {
    "execution": {
     "iopub.execute_input": "2023-03-28T14:43:35.393395Z",
     "iopub.status.busy": "2023-03-28T14:43:35.393174Z",
     "iopub.status.idle": "2023-03-28T14:43:38.274731Z",
     "shell.execute_reply": "2023-03-28T14:43:38.274285Z",
     "shell.execute_reply.started": "2023-03-28T14:43:35.393379Z"
    }
   },
   "outputs": [],
   "source": [
    "import tsdm"
   ]
  },
  {
   "cell_type": "code",
   "execution_count": null,
   "id": "3f45edb1-84bf-43b3-ac9c-e9b6ff04cce6",
   "metadata": {
    "execution": {
     "iopub.execute_input": "2023-03-28T14:43:52.002600Z",
     "iopub.status.busy": "2023-03-28T14:43:52.002328Z",
     "iopub.status.idle": "2023-03-28T14:43:54.925971Z",
     "shell.execute_reply": "2023-03-28T14:43:54.925597Z",
     "shell.execute_reply.started": "2023-03-28T14:43:52.002582Z"
    }
   },
   "outputs": [],
   "source": [
    "task = tsdm.tasks.KiwiTask()"
   ]
  },
  {
   "cell_type": "code",
   "execution_count": null,
   "id": "0fc8764d-9a81-4d3b-ac86-e624cfcc7e4a",
   "metadata": {},
   "outputs": [],
   "source": [
    "obj[...] -> obj.__getitem__(args)"
   ]
  },
  {
   "cell_type": "code",
   "execution_count": null,
   "id": "de0d6e7f-34c0-4ce4-9c0c-770967966662",
   "metadata": {
    "execution": {
     "iopub.execute_input": "2023-03-28T14:53:12.188493Z",
     "iopub.status.busy": "2023-03-28T14:53:12.188230Z",
     "iopub.status.idle": "2023-03-28T14:53:12.192087Z",
     "shell.execute_reply": "2023-03-28T14:53:12.191653Z",
     "shell.execute_reply.started": "2023-03-28T14:53:12.188462Z"
    },
    "tags": []
   },
   "outputs": [],
   "source": [
    "dloader = task.dataloaders[0, \"train\"]"
   ]
  },
  {
   "cell_type": "code",
   "execution_count": null,
   "id": "3f5785ee-5acb-45bb-a79c-564e58d13794",
   "metadata": {
    "execution": {
     "iopub.execute_input": "2023-03-28T14:53:20.275689Z",
     "iopub.status.busy": "2023-03-28T14:53:20.275488Z",
     "iopub.status.idle": "2023-03-28T14:53:21.215585Z",
     "shell.execute_reply": "2023-03-28T14:53:21.215108Z",
     "shell.execute_reply.started": "2023-03-28T14:53:20.275677Z"
    }
   },
   "outputs": [],
   "source": [
    "next(iter(dloader))"
   ]
  },
  {
   "cell_type": "code",
   "execution_count": null,
   "id": "cb40e675-88cf-4801-8171-b5ab6e5e5b31",
   "metadata": {},
   "outputs": [],
   "source": []
  },
  {
   "cell_type": "code",
   "execution_count": null,
   "id": "d12b7ce9-09a3-4ed2-bc53-d81668eadfe1",
   "metadata": {},
   "outputs": [],
   "source": []
  },
  {
   "cell_type": "code",
   "execution_count": null,
   "id": "0d4655ae",
   "metadata": {},
   "outputs": [],
   "source": [
    "from tsdm.logutils import BaseLogger"
   ]
  },
  {
   "cell_type": "code",
   "execution_count": null,
   "id": "d598fb94-0d86-4cc3-af6a-fe6e2ed17bae",
   "metadata": {
    "execution": {
     "iopub.execute_input": "2023-03-07T14:26:36.951172Z",
     "iopub.status.busy": "2023-03-07T14:26:36.951013Z",
     "iopub.status.idle": "2023-03-07T14:26:36.956010Z",
     "shell.execute_reply": "2023-03-07T14:26:36.955645Z",
     "shell.execute_reply.started": "2023-03-07T14:26:36.951160Z"
    },
    "tags": []
   },
   "outputs": [],
   "source": [
    "from dataclasses import dataclass\n",
    "\n",
    "\n",
    "@dataclass\n",
    "class Foo:\n",
    "    _private: int\n",
    "\n",
    "\n",
    "Foo(1)"
   ]
  },
  {
   "cell_type": "code",
   "execution_count": null,
   "id": "3e388b85-b540-4644-869f-7529c6880b09",
   "metadata": {},
   "outputs": [],
   "source": []
  },
  {
   "cell_type": "code",
   "execution_count": null,
   "id": "4f1fd1c8-0dfe-41b5-97fd-4869d7a17d7e",
   "metadata": {},
   "outputs": [],
   "source": []
  },
  {
   "cell_type": "code",
   "execution_count": null,
   "id": "6f1524dd-d2f5-4a72-acc4-4d98d9c412b8",
   "metadata": {},
   "outputs": [],
   "source": []
  },
  {
   "cell_type": "code",
   "execution_count": null,
   "id": "bfb2910d-beb3-4946-9e16-ecf4cdf5f8bf",
   "metadata": {},
   "outputs": [],
   "source": []
  },
  {
   "cell_type": "code",
   "execution_count": null,
   "id": "33496a14-c957-4170-a75e-0f8242eedb28",
   "metadata": {},
   "outputs": [],
   "source": []
  }
 ],
 "metadata": {
  "kernelspec": {
   "display_name": "Python 3 (ipykernel)",
   "language": "python",
   "name": "python3"
  },
  "language_info": {
   "codemirror_mode": {
    "name": "ipython",
    "version": 3
   },
   "file_extension": ".py",
   "mimetype": "text/x-python",
   "name": "python",
   "nbconvert_exporter": "python",
   "pygments_lexer": "ipython3",
   "version": "3.10.6"
  }
 },
 "nbformat": 4,
 "nbformat_minor": 5
}
