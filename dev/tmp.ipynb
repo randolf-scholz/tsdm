{
 "cells": [
  {
   "cell_type": "code",
   "execution_count": null,
   "id": "07574fc2-760a-4459-a90a-1c96de12484a",
   "metadata": {
    "execution": {
     "iopub.execute_input": "2023-06-29T18:45:37.771688Z",
     "iopub.status.busy": "2023-06-29T18:45:37.771478Z",
     "iopub.status.idle": "2023-06-29T18:45:38.154650Z",
     "shell.execute_reply": "2023-06-29T18:45:38.154285Z",
     "shell.execute_reply.started": "2023-06-29T18:45:37.771670Z"
    },
    "tags": []
   },
   "outputs": [],
   "source": [
    "%config InteractiveShell.ast_node_interactivity='last_expr_or_assign'  # always print last expr.\n",
    "%config InlineBackend.figure_format = 'svg'\n",
    "%load_ext autoreload\n",
    "%autoreload 2\n",
    "%matplotlib inline\n",
    "\n",
    "import logging\n",
    "\n",
    "logging.basicConfig(level=logging.INFO)\n",
    "logging.basicConfig(level=logging.INFO)\n",
    "__logger__ = logging.getLogger(__name__)"
   ]
  },
  {
   "cell_type": "code",
   "execution_count": null,
   "id": "49f21b02-8811-490b-805f-51096a4017e1",
   "metadata": {
    "execution": {
     "iopub.execute_input": "2023-06-29T18:45:38.155534Z",
     "iopub.status.busy": "2023-06-29T18:45:38.155338Z",
     "iopub.status.idle": "2023-06-29T18:45:39.469426Z",
     "shell.execute_reply": "2023-06-29T18:45:39.468620Z",
     "shell.execute_reply.started": "2023-06-29T18:45:38.155521Z"
    }
   },
   "outputs": [],
   "source": [
    "import numpy as np\n",
    "import pandas as pd\n",
    "import torch\n",
    "import pyarrow as pa"
   ]
  },
  {
   "cell_type": "code",
   "execution_count": null,
   "id": "a2951f5a-b4d0-475c-96b7-448bad182ad4",
   "metadata": {
    "execution": {
     "iopub.execute_input": "2023-06-29T18:45:39.470143Z",
     "iopub.status.busy": "2023-06-29T18:45:39.469965Z",
     "iopub.status.idle": "2023-06-29T18:45:42.077039Z",
     "shell.execute_reply": "2023-06-29T18:45:42.076380Z",
     "shell.execute_reply.started": "2023-06-29T18:45:39.470132Z"
    }
   },
   "outputs": [],
   "source": [
    "import logging\n",
    "from typing import Any\n",
    "\n",
    "import numpy as np\n",
    "import pandas as pd\n",
    "import torch\n",
    "from pytest import mark, skip\n",
    "\n",
    "from tsdm.encoders.numerical import (\n",
    "    BoundaryEncoder,\n",
    "    LinearScaler,\n",
    "    MinMaxScaler,\n",
    "    StandardScaler,\n",
    "    get_broadcast,\n",
    "    get_reduced_axes,\n",
    ")"
   ]
  },
  {
   "cell_type": "code",
   "execution_count": null,
   "id": "8e0bc5a2-26d6-4293-afd7-f87fc30efc02",
   "metadata": {
    "execution": {
     "iopub.execute_input": "2023-06-29T18:45:42.078526Z",
     "iopub.status.busy": "2023-06-29T18:45:42.077833Z",
     "iopub.status.idle": "2023-06-29T18:45:42.132892Z",
     "shell.execute_reply": "2023-06-29T18:45:42.131577Z",
     "shell.execute_reply.started": "2023-06-29T18:45:42.078507Z"
    }
   },
   "outputs": [],
   "source": [
    "Encoder = MinMaxScaler\n",
    "tensor_type = torch.tensor"
   ]
  },
  {
   "cell_type": "code",
   "execution_count": null,
   "id": "cd1faf48-699d-4efc-a526-730bf9cde06a",
   "metadata": {
    "execution": {
     "iopub.execute_input": "2023-06-29T18:45:42.139822Z",
     "iopub.status.busy": "2023-06-29T18:45:42.139700Z",
     "iopub.status.idle": "2023-06-29T18:45:42.207962Z",
     "shell.execute_reply": "2023-06-29T18:45:42.207620Z",
     "shell.execute_reply.started": "2023-06-29T18:45:42.139810Z"
    }
   },
   "outputs": [],
   "source": [
    "LOGGER = __logger__.getChild(Encoder.__name__)\n",
    "LOGGER.info(\"Testing.\")\n",
    "\n",
    "LOGGER.info(\"Testing without batching.\")\n",
    "X = np.random.rand(3)\n",
    "X = tensor_type(X)\n",
    "encoder = Encoder()\n",
    "encoder.fit(X)\n",
    "encoded = encoder.encode(X)\n",
    "decoded = encoder.decode(encoded)\n",
    "assert np.allclose(X, decoded)\n",
    "assert encoder.params[0].shape == (), f\"{encoder.params}\"\n",
    "\n",
    "LOGGER.info(\"Testing with single batch-dim.\")\n",
    "X = np.random.rand(3, 5)\n",
    "X = tensor_type(X)\n",
    "encoder = Encoder(axis=-1)\n",
    "encoder.fit(X)\n",
    "encoded = encoder.encode(X)\n",
    "decoded = encoder.decode(encoded)\n",
    "assert np.allclose(X, decoded)\n",
    "assert encoder.params[0].shape == (5,), f\"{encoder.params}\""
   ]
  },
  {
   "cell_type": "code",
   "execution_count": null,
   "id": "60429557-378b-4896-ba1a-f6c7697502ba",
   "metadata": {
    "execution": {
     "iopub.execute_input": "2023-06-29T18:36:24.451976Z",
     "iopub.status.busy": "2023-06-29T18:36:24.451638Z",
     "iopub.status.idle": "2023-06-29T18:36:24.516640Z",
     "shell.execute_reply": "2023-06-29T18:36:24.516144Z",
     "shell.execute_reply.started": "2023-06-29T18:36:24.451946Z"
    }
   },
   "outputs": [],
   "source": [
    "encoder.scale"
   ]
  },
  {
   "cell_type": "code",
   "execution_count": null,
   "id": "e2ad6019-30b4-4c8e-90c0-5a28528de4c6",
   "metadata": {
    "execution": {
     "iopub.execute_input": "2023-06-29T18:36:24.518514Z",
     "iopub.status.busy": "2023-06-29T18:36:24.518327Z",
     "iopub.status.idle": "2023-06-29T18:36:24.956863Z",
     "shell.execute_reply": "2023-06-29T18:36:24.956229Z",
     "shell.execute_reply.started": "2023-06-29T18:36:24.518495Z"
    }
   },
   "outputs": [],
   "source": [
    "LOGGER.info(\"Testing slicing.\")\n",
    "encoder = encoder[2]  # select the third encoder\n",
    "Y = encoded\n",
    "# encoder.fit(X[:, 2])\n",
    "encoded = encoder.encode(X[:, 2])\n",
    "decoded = encoder.decode(encoded)\n",
    "assert np.allclose(Y[:, 2], encoded)\n",
    "assert np.allclose(X[:, 2], decoded)\n",
    "assert encoder.params[0].shape == ()"
   ]
  },
  {
   "cell_type": "code",
   "execution_count": null,
   "id": "32959d19-9ab4-44f0-a2af-abcb1756f045",
   "metadata": {
    "execution": {
     "iopub.status.busy": "2023-06-29T18:36:24.957468Z",
     "iopub.status.idle": "2023-06-29T18:36:24.957639Z",
     "shell.execute_reply": "2023-06-29T18:36:24.957574Z",
     "shell.execute_reply.started": "2023-06-29T18:36:24.957565Z"
    }
   },
   "outputs": [],
   "source": [
    "self = encoder\n",
    "item = 2"
   ]
  },
  {
   "cell_type": "code",
   "execution_count": null,
   "id": "02f6e222-8e29-458b-b756-fdb8f39ba936",
   "metadata": {
    "execution": {
     "iopub.status.busy": "2023-06-29T18:36:24.957979Z",
     "iopub.status.idle": "2023-06-29T18:36:24.958103Z",
     "shell.execute_reply": "2023-06-29T18:36:24.958049Z",
     "shell.execute_reply.started": "2023-06-29T18:36:24.958042Z"
    }
   },
   "outputs": [],
   "source": [
    "isinstance(True, np.ndarray)"
   ]
  },
  {
   "cell_type": "code",
   "execution_count": null,
   "id": "1b504fad-2e53-4673-a7fe-1d9645a6e295",
   "metadata": {
    "execution": {
     "iopub.status.busy": "2023-06-29T18:36:24.958796Z",
     "iopub.status.idle": "2023-06-29T18:36:24.958917Z",
     "shell.execute_reply": "2023-06-29T18:36:24.958861Z",
     "shell.execute_reply.started": "2023-06-29T18:36:24.958855Z"
    }
   },
   "outputs": [],
   "source": [
    "from tsdm.backend import Backend, get_backend"
   ]
  },
  {
   "cell_type": "code",
   "execution_count": null,
   "id": "f8a3791e-cf0d-42fd-9865-50845626500c",
   "metadata": {
    "execution": {
     "iopub.status.busy": "2023-06-29T18:36:24.959549Z",
     "iopub.status.idle": "2023-06-29T18:36:24.959773Z",
     "shell.execute_reply": "2023-06-29T18:36:24.959712Z",
     "shell.execute_reply.started": "2023-06-29T18:36:24.959705Z"
    }
   },
   "outputs": [],
   "source": [
    "# slice the parameters\n",
    "xmin = self.xmin[item] if self.xmin.ndim > 0 else self.xmin\n",
    "xmax = self.xmax[item] if self.xmax.ndim > 0 else self.xmax\n",
    "ymin = self.ymin[item] if self.ymin.ndim > 0 else self.ymin\n",
    "ymax = self.ymax[item] if self.ymax.ndim > 0 else self.ymax\n",
    "axis = get_reduced_axes(item, self.axis)"
   ]
  },
  {
   "cell_type": "code",
   "execution_count": null,
   "id": "4e5a5d02-2c2b-44be-a2c3-ddefa47665f5",
   "metadata": {
    "execution": {
     "iopub.status.busy": "2023-06-29T18:36:24.960215Z",
     "iopub.status.idle": "2023-06-29T18:36:24.960482Z",
     "shell.execute_reply": "2023-06-29T18:36:24.960416Z",
     "shell.execute_reply.started": "2023-06-29T18:36:24.960409Z"
    }
   },
   "outputs": [],
   "source": [
    "from abc import ABC, abstractmethod\n",
    "\n",
    "\n",
    "class Foo(ABC):\n",
    "    @property\n",
    "    @abstractmethod\n",
    "    def myattr(self) -> int:\n",
    "        ...\n",
    "\n",
    "    @myattr.setter\n",
    "    @abstractmethod\n",
    "    def myattr(self, x: int, /) -> None:\n",
    "        ...\n",
    "\n",
    "\n",
    "class Bar(Foo):\n",
    "    myattr: int = 1\n",
    "\n",
    "\n",
    "Bar()  # TypeError: Can't instantiate abstract class Bar with abstract method _"
   ]
  },
  {
   "cell_type": "code",
   "execution_count": null,
   "id": "161c2e1d-7745-4cd8-a9d0-bd391874d379",
   "metadata": {},
   "outputs": [],
   "source": []
  },
  {
   "cell_type": "code",
   "execution_count": null,
   "id": "1b3cb670-d2c2-4545-b047-37eae1a0f629",
   "metadata": {
    "execution": {
     "iopub.status.busy": "2023-06-29T18:36:24.960848Z",
     "iopub.status.idle": "2023-06-29T18:36:24.960965Z",
     "shell.execute_reply": "2023-06-29T18:36:24.960911Z",
     "shell.execute_reply.started": "2023-06-29T18:36:24.960904Z"
    }
   },
   "outputs": [],
   "source": [
    "Foo()"
   ]
  },
  {
   "cell_type": "code",
   "execution_count": null,
   "id": "61566e82-a055-429b-ac61-d2769a6f060f",
   "metadata": {
    "execution": {
     "iopub.status.busy": "2023-06-29T18:36:24.961325Z",
     "iopub.status.idle": "2023-06-29T18:36:24.961437Z",
     "shell.execute_reply": "2023-06-29T18:36:24.961386Z",
     "shell.execute_reply.started": "2023-06-29T18:36:24.961380Z"
    }
   },
   "outputs": [],
   "source": [
    "Bar().myattr"
   ]
  },
  {
   "cell_type": "code",
   "execution_count": null,
   "id": "42dc5da6-64c2-4ff9-bea4-8b09240ff264",
   "metadata": {
    "execution": {
     "iopub.status.busy": "2023-06-29T18:36:24.961847Z",
     "iopub.status.idle": "2023-06-29T18:36:24.961962Z",
     "shell.execute_reply": "2023-06-29T18:36:24.961909Z",
     "shell.execute_reply.started": "2023-06-29T18:36:24.961903Z"
    }
   },
   "outputs": [],
   "source": [
    "from typing import TypeAlias\n",
    "\n",
    "Numeric: TypeAlias = int | float\n",
    "\n",
    "assert isinstance(1.2, Numeric)  # ✔\n",
    "\n",
    "match 1.2:\n",
    "    case Numeric():\n",
    "        pass"
   ]
  },
  {
   "cell_type": "code",
   "execution_count": null,
   "id": "01850408-3450-4ae3-8547-b4dfd252caf2",
   "metadata": {},
   "outputs": [],
   "source": []
  },
  {
   "cell_type": "code",
   "execution_count": null,
   "id": "6d8b8925-4f54-496c-a3d9-9ea4c9af759b",
   "metadata": {
    "execution": {
     "iopub.status.busy": "2023-06-29T18:36:24.962347Z",
     "iopub.status.idle": "2023-06-29T18:36:24.962541Z",
     "shell.execute_reply": "2023-06-29T18:36:24.962471Z",
     "shell.execute_reply.started": "2023-06-29T18:36:24.962465Z"
    }
   },
   "outputs": [],
   "source": [
    "set().union()"
   ]
  },
  {
   "cell_type": "code",
   "execution_count": null,
   "id": "feb4990c-af44-430c-9584-f944fdfdd1b2",
   "metadata": {
    "execution": {
     "iopub.status.busy": "2023-06-29T18:36:24.962985Z",
     "iopub.status.idle": "2023-06-29T18:36:24.963219Z",
     "shell.execute_reply": "2023-06-29T18:36:24.963161Z",
     "shell.execute_reply.started": "2023-06-29T18:36:24.963155Z"
    }
   },
   "outputs": [],
   "source": [
    "from typing import TypeAlias\n",
    "\n",
    "A: TypeAlias = int | float\n",
    "\n",
    "obj = 1\n",
    "\n",
    "match obj:\n",
    "    case A():\n",
    "        print(1)"
   ]
  },
  {
   "cell_type": "code",
   "execution_count": null,
   "id": "45b13031-0d2a-41d7-ae8c-afec90c4f4f1",
   "metadata": {},
   "outputs": [],
   "source": []
  },
  {
   "cell_type": "code",
   "execution_count": null,
   "id": "66a54893-beef-4f57-84f2-27228ec89616",
   "metadata": {
    "execution": {
     "iopub.status.busy": "2023-06-29T18:36:24.963526Z",
     "iopub.status.idle": "2023-06-29T18:36:24.963733Z",
     "shell.execute_reply": "2023-06-29T18:36:24.963678Z",
     "shell.execute_reply.started": "2023-06-29T18:36:24.963672Z"
    }
   },
   "outputs": [],
   "source": [
    "a = {1, 2, 3}"
   ]
  },
  {
   "cell_type": "code",
   "execution_count": null,
   "id": "5f31c3b6-d19a-4e84-8b7c-9e6cdba22344",
   "metadata": {
    "execution": {
     "iopub.status.busy": "2023-06-29T18:36:24.964054Z",
     "iopub.status.idle": "2023-06-29T18:36:24.964268Z",
     "shell.execute_reply": "2023-06-29T18:36:24.964211Z",
     "shell.execute_reply.started": "2023-06-29T18:36:24.964204Z"
    }
   },
   "outputs": [],
   "source": [
    "MinMaxScaler(ymin, ymax, xmin=NotImplemented, xmax=xmax, axis=axis).params"
   ]
  },
  {
   "cell_type": "code",
   "execution_count": null,
   "id": "96b5eabd-0abf-4d67-ac0a-f51e633e8112",
   "metadata": {
    "execution": {
     "iopub.status.busy": "2023-06-29T18:36:24.964577Z",
     "iopub.status.idle": "2023-06-29T18:36:24.964783Z",
     "shell.execute_reply": "2023-06-29T18:36:24.964722Z",
     "shell.execute_reply.started": "2023-06-29T18:36:24.964716Z"
    }
   },
   "outputs": [],
   "source": [
    "get_backend(MinMaxScaler(ymin, ymax, xmin=NotImplemented, xmax=xmax, axis=axis).params)"
   ]
  },
  {
   "cell_type": "code",
   "execution_count": null,
   "id": "d1039484-2c68-49de-9f7a-c6a4ef66e4f5",
   "metadata": {
    "execution": {
     "iopub.status.busy": "2023-06-29T18:36:24.965115Z",
     "iopub.status.idle": "2023-06-29T18:36:24.965224Z",
     "shell.execute_reply": "2023-06-29T18:36:24.965172Z",
     "shell.execute_reply.started": "2023-06-29T18:36:24.965167Z"
    }
   },
   "outputs": [],
   "source": [
    "LOGGER.info(\"Testing with many batch-dim.\")\n",
    "# weird input\n",
    "X = np.random.rand(2, 3, 4, 5)\n",
    "X = tensor_type(X)\n",
    "encoder = Encoder(axis=(-2, -1))\n",
    "encoder.fit(X)\n",
    "encoded = encoder.encode(X)\n",
    "decoded = encoder.decode(encoded)\n",
    "assert np.allclose(X, decoded)\n",
    "assert encoder.params[0].shape == (4, 5), f\"{encoder.params}\"\n",
    "\n",
    "# encoder = encoder[:-1]  # select the first two component\n",
    "# # encoder.fit(X)\n",
    "# encoded = encoder.encode(X[:-1])\n",
    "# decoded = encoder.decode(encoded)\n",
    "# assert np.allclose(X, decoded)\n",
    "# assert encoder.params[0].shape == (2, 5)\n",
    "\n",
    "LOGGER.info(\"Testing finished!\")"
   ]
  },
  {
   "cell_type": "code",
   "execution_count": null,
   "id": "bba686d3-0232-454e-8cfa-498e1e2decf3",
   "metadata": {},
   "outputs": [],
   "source": []
  }
 ],
 "metadata": {
  "kernelspec": {
   "display_name": "Python 3 (ipykernel)",
   "language": "python",
   "name": "python3"
  },
  "language_info": {
   "codemirror_mode": {
    "name": "ipython",
    "version": 3
   },
   "file_extension": ".py",
   "mimetype": "text/x-python",
   "name": "python",
   "nbconvert_exporter": "python",
   "pygments_lexer": "ipython3",
   "version": "3.11.3"
  }
 },
 "nbformat": 4,
 "nbformat_minor": 5
}
