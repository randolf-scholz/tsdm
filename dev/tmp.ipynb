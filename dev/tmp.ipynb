{
 "cells": [
  {
   "cell_type": "code",
   "execution_count": null,
   "id": "07574fc2-760a-4459-a90a-1c96de12484a",
   "metadata": {
    "execution": {
     "iopub.execute_input": "2023-02-17T14:51:21.658860Z",
     "iopub.status.busy": "2023-02-17T14:51:21.658757Z",
     "iopub.status.idle": "2023-02-17T14:51:22.023869Z",
     "shell.execute_reply": "2023-02-17T14:51:22.023415Z",
     "shell.execute_reply.started": "2023-02-17T14:51:21.658849Z"
    },
    "tags": []
   },
   "outputs": [],
   "source": [
    "%config InteractiveShell.ast_node_interactivity='last_expr_or_assign'  # always print last expr.\n",
    "%config InlineBackend.figure_format = 'svg'\n",
    "%load_ext autoreload\n",
    "%autoreload 2\n",
    "%matplotlib inline\n",
    "\n",
    "import logging\n",
    "\n",
    "# logging.basicConfig(level=logging.DEBUG)"
   ]
  },
  {
   "cell_type": "code",
   "execution_count": null,
   "id": "3d754a46",
   "metadata": {},
   "outputs": [],
   "source": [
    "import tsdm"
   ]
  },
  {
   "cell_type": "code",
   "execution_count": null,
   "id": "0d4655ae",
   "metadata": {},
   "outputs": [],
   "source": [
    "from tsdm.logutils import BaseLogger"
   ]
  },
  {
   "cell_type": "code",
   "execution_count": null,
   "id": "d598fb94-0d86-4cc3-af6a-fe6e2ed17bae",
   "metadata": {
    "execution": {
     "iopub.execute_input": "2023-03-07T14:26:36.951172Z",
     "iopub.status.busy": "2023-03-07T14:26:36.951013Z",
     "iopub.status.idle": "2023-03-07T14:26:36.956010Z",
     "shell.execute_reply": "2023-03-07T14:26:36.955645Z",
     "shell.execute_reply.started": "2023-03-07T14:26:36.951160Z"
    },
    "tags": []
   },
   "outputs": [],
   "source": [
    "from dataclasses import dataclass\n",
    "\n",
    "\n",
    "@dataclass\n",
    "class Foo:\n",
    "    _private: int\n",
    "\n",
    "\n",
    "Foo(1)"
   ]
  },
  {
   "cell_type": "code",
   "execution_count": null,
   "id": "3e388b85-b540-4644-869f-7529c6880b09",
   "metadata": {},
   "outputs": [],
   "source": []
  },
  {
   "cell_type": "code",
   "execution_count": null,
   "id": "4f1fd1c8-0dfe-41b5-97fd-4869d7a17d7e",
   "metadata": {},
   "outputs": [],
   "source": []
  },
  {
   "cell_type": "code",
   "execution_count": null,
   "id": "6f1524dd-d2f5-4a72-acc4-4d98d9c412b8",
   "metadata": {},
   "outputs": [],
   "source": []
  },
  {
   "cell_type": "code",
   "execution_count": null,
   "id": "bfb2910d-beb3-4946-9e16-ecf4cdf5f8bf",
   "metadata": {},
   "outputs": [],
   "source": []
  },
  {
   "cell_type": "code",
   "execution_count": null,
   "id": "33496a14-c957-4170-a75e-0f8242eedb28",
   "metadata": {},
   "outputs": [],
   "source": []
  }
 ],
 "metadata": {
  "kernelspec": {
   "display_name": "Python 3 (ipykernel)",
   "language": "python",
   "name": "python3"
  },
  "language_info": {
   "codemirror_mode": {
    "name": "ipython",
    "version": 3
   },
   "file_extension": ".py",
   "mimetype": "text/x-python",
   "name": "python",
   "nbconvert_exporter": "python",
   "pygments_lexer": "ipython3",
   "version": "3.10.9"
  }
 },
 "nbformat": 4,
 "nbformat_minor": 5
}
