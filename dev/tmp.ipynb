{
 "cells": [
  {
   "cell_type": "code",
   "execution_count": null,
   "id": "07574fc2-760a-4459-a90a-1c96de12484a",
   "metadata": {
    "execution": {
     "iopub.execute_input": "2023-07-16T08:29:07.389072Z",
     "iopub.status.busy": "2023-07-16T08:29:07.388940Z",
     "iopub.status.idle": "2023-07-16T08:29:07.741790Z",
     "shell.execute_reply": "2023-07-16T08:29:07.741353Z",
     "shell.execute_reply.started": "2023-07-16T08:29:07.389058Z"
    },
    "tags": []
   },
   "outputs": [],
   "source": [
    "%config InteractiveShell.ast_node_interactivity='last_expr_or_assign'  # always print last expr.\n",
    "%config InlineBackend.figure_format = 'svg'\n",
    "%load_ext autoreload\n",
    "%autoreload 2\n",
    "%matplotlib inline\n",
    "\n",
    "import logging\n",
    "\n",
    "logging.basicConfig(level=logging.INFO)\n",
    "__logger__ = logging.getLogger(__name__)"
   ]
  },
  {
   "cell_type": "code",
   "execution_count": null,
   "id": "ee359db7-5743-4505-a2b6-85f20aa699da",
   "metadata": {
    "execution": {
     "iopub.execute_input": "2023-07-16T08:29:07.742726Z",
     "iopub.status.busy": "2023-07-16T08:29:07.742529Z",
     "iopub.status.idle": "2023-07-16T08:29:11.029700Z",
     "shell.execute_reply": "2023-07-16T08:29:11.029086Z",
     "shell.execute_reply.started": "2023-07-16T08:29:07.742715Z"
    },
    "tags": []
   },
   "outputs": [],
   "source": [
    "from tsdm.types.protocols import *"
   ]
  },
  {
   "cell_type": "code",
   "execution_count": null,
   "id": "d06c32f9-6afd-4988-aefd-94e43ed89498",
   "metadata": {
    "execution": {
     "iopub.execute_input": "2023-07-16T09:31:24.515237Z",
     "iopub.status.busy": "2023-07-16T09:31:24.515039Z",
     "iopub.status.idle": "2023-07-16T09:31:24.550405Z",
     "shell.execute_reply": "2023-07-16T09:31:24.549933Z",
     "shell.execute_reply.started": "2023-07-16T09:31:24.515225Z"
    },
    "tags": []
   },
   "outputs": [],
   "source": [
    "class Foo:\n",
    "    pass"
   ]
  },
  {
   "cell_type": "code",
   "execution_count": null,
   "id": "8635b062-a421-4f94-a797-52d8cd1f0e31",
   "metadata": {},
   "outputs": [],
   "source": []
  },
  {
   "cell_type": "code",
   "execution_count": null,
   "id": "afd62809-e5fd-4c58-9320-b9af85cdabd4",
   "metadata": {
    "execution": {
     "iopub.execute_input": "2023-07-16T08:29:11.030501Z",
     "iopub.status.busy": "2023-07-16T08:29:11.030210Z",
     "iopub.status.idle": "2023-07-16T08:29:11.063909Z",
     "shell.execute_reply": "2023-07-16T08:29:11.063515Z",
     "shell.execute_reply.started": "2023-07-16T08:29:11.030489Z"
    },
    "tags": []
   },
   "outputs": [],
   "source": [
    "from typing import *"
   ]
  },
  {
   "cell_type": "code",
   "execution_count": null,
   "id": "f06d33be-486b-4d45-9b4e-186b124fb1bc",
   "metadata": {
    "execution": {
     "iopub.execute_input": "2023-07-16T08:29:33.459502Z",
     "iopub.status.busy": "2023-07-16T08:29:33.459332Z",
     "iopub.status.idle": "2023-07-16T08:29:33.495492Z",
     "shell.execute_reply": "2023-07-16T08:29:33.494954Z",
     "shell.execute_reply.started": "2023-07-16T08:29:33.459490Z"
    },
    "tags": []
   },
   "outputs": [],
   "source": [
    "# assert issubclass(NTuple, tuple)\n",
    "assert not issubclass(tuple, NTuple)\n",
    "\n",
    "assert isinstance((1, 2), tuple)\n",
    "assert not isinstance((1, 2), NTuple)"
   ]
  },
  {
   "cell_type": "code",
   "execution_count": null,
   "id": "97fc3a73-ed49-4893-b30a-23328a4e95f2",
   "metadata": {
    "execution": {
     "iopub.execute_input": "2023-07-16T08:30:15.984681Z",
     "iopub.status.busy": "2023-07-16T08:30:15.984469Z",
     "iopub.status.idle": "2023-07-16T08:30:16.031328Z",
     "shell.execute_reply": "2023-07-16T08:30:16.030801Z",
     "shell.execute_reply.started": "2023-07-16T08:30:15.984669Z"
    },
    "tags": []
   },
   "outputs": [],
   "source": [
    "assert issubclass(NTuple, tuple)"
   ]
  },
  {
   "cell_type": "code",
   "execution_count": null,
   "id": "a30b5674-d891-4fe1-9e26-74ed19850357",
   "metadata": {
    "execution": {
     "iopub.execute_input": "2023-07-16T08:33:44.259535Z",
     "iopub.status.busy": "2023-07-16T08:33:44.259354Z",
     "iopub.status.idle": "2023-07-16T08:33:44.293877Z",
     "shell.execute_reply": "2023-07-16T08:33:44.293508Z",
     "shell.execute_reply.started": "2023-07-16T08:33:44.259521Z"
    },
    "tags": []
   },
   "outputs": [],
   "source": [
    "class FooMeta(type):\n",
    "    def __subclasscheck__(cls, subclass):\n",
    "        print(cls, subclass)\n",
    "        return True"
   ]
  },
  {
   "cell_type": "code",
   "execution_count": null,
   "id": "cf63ad33-a852-4197-a854-a4d7f299d751",
   "metadata": {},
   "outputs": [],
   "source": []
  },
  {
   "cell_type": "code",
   "execution_count": null,
   "id": "786c5789-54ea-4bf7-8414-709555aac317",
   "metadata": {
    "execution": {
     "iopub.execute_input": "2023-07-16T08:33:44.400831Z",
     "iopub.status.busy": "2023-07-16T08:33:44.400665Z",
     "iopub.status.idle": "2023-07-16T08:33:44.436260Z",
     "shell.execute_reply": "2023-07-16T08:33:44.435878Z",
     "shell.execute_reply.started": "2023-07-16T08:33:44.400819Z"
    },
    "tags": []
   },
   "outputs": [],
   "source": [
    "class Foo(metaclass=FooMeta):\n",
    "    ..."
   ]
  },
  {
   "cell_type": "code",
   "execution_count": null,
   "id": "426d3c16-b28f-47d5-9ce6-60b054b868ae",
   "metadata": {
    "execution": {
     "iopub.execute_input": "2023-07-16T08:33:45.175909Z",
     "iopub.status.busy": "2023-07-16T08:33:45.175744Z",
     "iopub.status.idle": "2023-07-16T08:33:45.211595Z",
     "shell.execute_reply": "2023-07-16T08:33:45.211251Z",
     "shell.execute_reply.started": "2023-07-16T08:33:45.175897Z"
    },
    "tags": []
   },
   "outputs": [],
   "source": [
    "issubclass(Foo, tuple)"
   ]
  },
  {
   "cell_type": "code",
   "execution_count": null,
   "id": "fb3fc17c-bf73-416f-b504-d82041a3ebc8",
   "metadata": {
    "execution": {
     "iopub.execute_input": "2023-07-16T08:33:45.643930Z",
     "iopub.status.busy": "2023-07-16T08:33:45.643765Z",
     "iopub.status.idle": "2023-07-16T08:33:45.680976Z",
     "shell.execute_reply": "2023-07-16T08:33:45.680649Z",
     "shell.execute_reply.started": "2023-07-16T08:33:45.643918Z"
    },
    "tags": []
   },
   "outputs": [],
   "source": [
    "issubclass(tuple, Foo)"
   ]
  },
  {
   "cell_type": "code",
   "execution_count": null,
   "id": "4590dca6-48c3-4665-84fd-cbdc3851e8e8",
   "metadata": {
    "execution": {
     "iopub.execute_input": "2023-07-16T08:30:09.493184Z",
     "iopub.status.busy": "2023-07-16T08:30:09.493004Z",
     "iopub.status.idle": "2023-07-16T08:30:09.528761Z",
     "shell.execute_reply": "2023-07-16T08:30:09.528299Z",
     "shell.execute_reply.started": "2023-07-16T08:30:09.493171Z"
    },
    "tags": []
   },
   "outputs": [],
   "source": [
    "assert issubclass(Point, NTuple)"
   ]
  },
  {
   "cell_type": "code",
   "execution_count": null,
   "id": "b3e648e8-e500-4247-b980-81ed2791a7fc",
   "metadata": {
    "execution": {
     "iopub.execute_input": "2023-07-16T08:30:04.970262Z",
     "iopub.status.busy": "2023-07-16T08:30:04.970095Z",
     "iopub.status.idle": "2023-07-16T08:30:05.006046Z",
     "shell.execute_reply": "2023-07-16T08:30:05.005617Z",
     "shell.execute_reply.started": "2023-07-16T08:30:04.970250Z"
    },
    "tags": []
   },
   "outputs": [],
   "source": [
    "# test sample NamedTuple class\n",
    "class Point(NamedTuple):\n",
    "    x: float\n",
    "    y: float\n",
    "\n",
    "\n",
    "assert issubclass(Point, NTuple)\n",
    "# assert issubclass(Point, tuple)\n",
    "# assert not issubclass(tuple, Point)\n",
    "# assert not issubclass(NTuple, Point)"
   ]
  },
  {
   "cell_type": "code",
   "execution_count": null,
   "id": "b771f8a4-be1d-4a7c-bed5-14da765fdabf",
   "metadata": {
    "execution": {
     "iopub.execute_input": "2023-07-16T08:29:24.093923Z",
     "iopub.status.busy": "2023-07-16T08:29:24.093713Z",
     "iopub.status.idle": "2023-07-16T08:29:24.131913Z",
     "shell.execute_reply": "2023-07-16T08:29:24.131468Z",
     "shell.execute_reply.started": "2023-07-16T08:29:24.093896Z"
    },
    "tags": []
   },
   "outputs": [],
   "source": [
    "assert isinstance(Point(1, 2), NTuple)\n",
    "assert not isinstance((1, 2), Point)"
   ]
  },
  {
   "cell_type": "code",
   "execution_count": null,
   "id": "f0c31d9e-cd98-4239-9ae9-7de23ad6b134",
   "metadata": {
    "execution": {
     "iopub.execute_input": "2023-07-16T08:24:07.067797Z",
     "iopub.status.busy": "2023-07-16T08:24:07.067571Z",
     "iopub.status.idle": "2023-07-16T08:24:07.071227Z",
     "shell.execute_reply": "2023-07-16T08:24:07.070876Z",
     "shell.execute_reply.started": "2023-07-16T08:24:07.067783Z"
    },
    "tags": []
   },
   "outputs": [],
   "source": [
    "issubclass(Foo, NTuple), isinstance(Foo(), NTuple), issubclass(Foo, tuple), issubclass(\n",
    "    NTuple, tuple\n",
    "), issubclass(Foo, tuple)"
   ]
  },
  {
   "cell_type": "code",
   "execution_count": null,
   "id": "dc915034-2e5d-4560-a934-67bd443b2102",
   "metadata": {},
   "outputs": [],
   "source": []
  },
  {
   "cell_type": "code",
   "execution_count": null,
   "id": "160e8f72-4c64-4868-ad06-a8d1bf3e817f",
   "metadata": {},
   "outputs": [],
   "source": []
  },
  {
   "cell_type": "code",
   "execution_count": null,
   "id": "99b896d4-c7a9-4646-a0e6-11697a1f9ad2",
   "metadata": {
    "execution": {
     "iopub.execute_input": "2023-07-16T08:36:04.312853Z",
     "iopub.status.busy": "2023-07-16T08:36:04.312560Z",
     "iopub.status.idle": "2023-07-16T08:36:05.349592Z",
     "shell.execute_reply": "2023-07-16T08:36:05.349145Z",
     "shell.execute_reply.started": "2023-07-16T08:36:04.312837Z"
    },
    "tags": []
   },
   "outputs": [],
   "source": [
    "from collections.abc import Iterator, Mapping, Sequence\n",
    "from dataclasses import Field\n",
    "from typing import Any, NamedTuple, Protocol, TypeVar, overload, runtime_checkable\n",
    "\n",
    "from typing_extensions import Self, SupportsIndex, get_original_bases\n",
    "\n",
    "from tsdm.types.variables import any_co as T_co\n",
    "from tsdm.types.variables import any_var as T\n",
    "from tsdm.types.variables import key_contra, key_var, value_co\n",
    "\n",
    "scalar_co = TypeVar(\"scalar_co\", covariant=True)\n",
    "# Either: TypeAlias = Union[T, \"Array[T]\"]\n",
    "A = TypeVar(\"A\", bound=\"Array\")\n",
    "\n",
    "\n",
    "class SelfMap(Protocol):\n",
    "    r\"\"\"A callback for endofunctions.\"\"\"\n",
    "\n",
    "    def __call__(self, __x: T) -> T:\n",
    "        r\"\"\"Returns the result of the endofunction.\"\"\"\n",
    "\n",
    "\n",
    "class SelfMapProto(Protocol[T]):\n",
    "    r\"\"\"A generic protocol for endofunctions.\"\"\"\n",
    "\n",
    "    def __call__(self, __x: T) -> T:\n",
    "        r\"\"\"Returns the result of the endofunction.\"\"\"\n",
    "\n",
    "\n",
    "@runtime_checkable\n",
    "class Dataclass(Protocol):\n",
    "    r\"\"\"Protocol for anonymous dataclasses.\"\"\"\n",
    "\n",
    "    @property\n",
    "    def __dataclass_fields__(self) -> Mapping[str, Field]:\n",
    "        r\"\"\"Return the fields of the dataclass.\"\"\""
   ]
  },
  {
   "cell_type": "code",
   "execution_count": null,
   "id": "41320ec4-d136-499b-81c3-817ad016f73c",
   "metadata": {
    "execution": {
     "iopub.execute_input": "2023-07-16T10:13:48.390053Z",
     "iopub.status.busy": "2023-07-16T10:13:48.389561Z",
     "iopub.status.idle": "2023-07-16T10:13:48.501987Z",
     "shell.execute_reply": "2023-07-16T10:13:48.500679Z",
     "shell.execute_reply.started": "2023-07-16T10:13:48.390016Z"
    },
    "tags": []
   },
   "outputs": [],
   "source": [
    "class NamedTupleMeta(type(Protocol)):\n",
    "    def __subclasscheck__(cls, subclass):\n",
    "        # implements issubclass(subclass, cls)\n",
    "        # if issubclass\n",
    "        print(f\"__subclasscheck__ called {cls=} {subclass=}\")\n",
    "        return True\n",
    "\n",
    "\n",
    "@runtime_checkable\n",
    "class NTuple(Protocol[T_co], metaclass=NamedTupleMeta):\n",
    "    r\"\"\"Protocol for anonymous namedtuple.\n",
    "\n",
    "    References:\n",
    "        - https://github.com/python/typeshed/blob/main/stdlib/builtins.pyi\n",
    "    \"\"\"\n",
    "\n",
    "    # @classmethod\n",
    "    # def __subclasshook__(cls, other: type) -> bool:\n",
    "    #     \"\"\"Cf https://github.com/python/cpython/issues/106363.\"\"\"\n",
    "    #     print(f\"__subclasshook__ called !{cls=}, {other=}\")\n",
    "    #     if cls is tuple:\n",
    "    #         return True\n",
    "    #     if NamedTuple in get_original_bases(other):\n",
    "    #         return True\n",
    "    #     return NotImplemented\n",
    "\n",
    "    # fmt: off\n",
    "    @property\n",
    "    def _fields(self) -> tuple[str, ...]: ...\n",
    "\n",
    "    def _asdict(self) -> Mapping[str, T_co]: ...\n",
    "    # def __new__(cls, __iterable: Iterable[T_co] = ...) -> Self: ...\n",
    "    def __len__(self) -> int: ...\n",
    "    def __contains__(self, __key: object) -> bool: ...\n",
    "    @overload\n",
    "    def __getitem__(self, __key: SupportsIndex) -> T_co: ...\n",
    "    @overload\n",
    "    def __getitem__(self, __key: slice) -> tuple[T_co, ...]: ...\n",
    "    def __iter__(self) -> Iterator[T_co]: ...\n",
    "    # def __lt__(self, __value: tuple[T_co, ...]) -> bool: ...\n",
    "    # def __le__(self, __value: tuple[T_co, ...]) -> bool: ...\n",
    "    # def __gt__(self, __value: tuple[T_co, ...]) -> bool: ...\n",
    "    # def __ge__(self, __value: tuple[T_co, ...]) -> bool: ...\n",
    "    # @overload\n",
    "    # def __add__(self, __value: tuple[T_co, ...]) -> tuple[T_co, ...]: ...\n",
    "    # @overload\n",
    "    # def __add__(self, __value: tuple[T, ...]) -> tuple[T_co | T, ...]: ...\n",
    "    # def __mul__(self, __value: SupportsIndex) -> tuple[T_co, ...]: ...\n",
    "    # def __rmul__(self, __value: SupportsIndex) -> tuple[T_co, ...]: ...\n",
    "    # def count(self, __value: Any) -> int: ...\n",
    "    # def index(self, __value: Any, __start: SupportsIndex = 0, __stop: SupportsIndex = sys.maxsize) -> int: ...\n",
    "    # fmt: on"
   ]
  },
  {
   "cell_type": "code",
   "execution_count": null,
   "id": "d23f57be-fa7c-4960-8469-bfc3cf89fc89",
   "metadata": {
    "execution": {
     "iopub.execute_input": "2023-07-16T10:13:48.512999Z",
     "iopub.status.busy": "2023-07-16T10:13:48.512827Z",
     "iopub.status.idle": "2023-07-16T10:13:48.548957Z",
     "shell.execute_reply": "2023-07-16T10:13:48.548450Z",
     "shell.execute_reply.started": "2023-07-16T10:13:48.512987Z"
    },
    "tags": []
   },
   "outputs": [],
   "source": [
    "issubclass(NTuple, tuple)"
   ]
  },
  {
   "cell_type": "code",
   "execution_count": null,
   "id": "b28fae6e-f362-493f-abf1-ca8d82b2e85a",
   "metadata": {
    "execution": {
     "iopub.execute_input": "2023-07-16T08:45:01.887955Z",
     "iopub.status.busy": "2023-07-16T08:45:01.887450Z",
     "iopub.status.idle": "2023-07-16T08:45:01.972362Z",
     "shell.execute_reply": "2023-07-16T08:45:01.971686Z",
     "shell.execute_reply.started": "2023-07-16T08:45:01.887933Z"
    },
    "tags": []
   },
   "outputs": [],
   "source": [
    "assert not issubclass(tuple, NTuple)\n",
    "\n",
    "assert isinstance((1, 2), tuple)\n",
    "assert not isinstance((1, 2), NTuple)\n",
    "\n",
    "\n",
    "# test sample NamedTuple class\n",
    "class Point(NamedTuple):\n",
    "    x: float\n",
    "    y: float\n",
    "\n",
    "\n",
    "assert issubclass(Point, NTuple)\n",
    "assert issubclass(Point, tuple)\n",
    "assert not issubclass(tuple, Point)\n",
    "assert not issubclass(NTuple, Point)\n",
    "\n",
    "assert isinstance(Point(1, 2), NTuple)\n",
    "assert not isinstance((1, 2), Point)"
   ]
  },
  {
   "cell_type": "code",
   "execution_count": null,
   "id": "ef63f524-5857-46a1-9952-fee320584354",
   "metadata": {},
   "outputs": [],
   "source": []
  },
  {
   "cell_type": "code",
   "execution_count": null,
   "id": "246ac9e6-779b-41e9-a64a-7e62c3efaa54",
   "metadata": {
    "execution": {
     "iopub.execute_input": "2023-07-16T08:38:52.443647Z",
     "iopub.status.busy": "2023-07-16T08:38:52.442817Z",
     "iopub.status.idle": "2023-07-16T08:38:52.484269Z",
     "shell.execute_reply": "2023-07-16T08:38:52.483502Z",
     "shell.execute_reply.started": "2023-07-16T08:38:52.443620Z"
    },
    "tags": []
   },
   "outputs": [],
   "source": [
    "type(Protocol)"
   ]
  },
  {
   "cell_type": "code",
   "execution_count": null,
   "id": "eba55e44-ccb6-4b6c-8dc1-612d9b2dc2bf",
   "metadata": {},
   "outputs": [],
   "source": []
  },
  {
   "cell_type": "code",
   "execution_count": null,
   "id": "47c512cd-3190-469c-ace1-e2ac8585c5ac",
   "metadata": {},
   "outputs": [],
   "source": []
  },
  {
   "cell_type": "code",
   "execution_count": null,
   "id": "5d4264cb-42dc-4222-93c6-83807976ca1b",
   "metadata": {},
   "outputs": [],
   "source": []
  },
  {
   "cell_type": "code",
   "execution_count": null,
   "id": "9a221f6f-8e3e-4d35-a103-3f7d6f3c561c",
   "metadata": {
    "execution": {
     "iopub.execute_input": "2023-07-15T14:56:51.967184Z",
     "iopub.status.busy": "2023-07-15T14:56:51.966938Z",
     "iopub.status.idle": "2023-07-15T14:56:51.973912Z",
     "shell.execute_reply": "2023-07-15T14:56:51.973466Z",
     "shell.execute_reply.started": "2023-07-15T14:56:51.967165Z"
    },
    "tags": []
   },
   "outputs": [],
   "source": [
    "from typing import NamedTuple\n",
    "\n",
    "from typing_extensions import get_original_bases\n",
    "\n",
    "\n",
    "def is_namedtuple_cls(cls):\n",
    "    return NamedTuple in get_original_bases(cls)\n",
    "    # return any(NamedTuple in get_original_bases(supercls) for supercls in cls.__mro__)\n",
    "\n",
    "\n",
    "# def is_namedtuple_cls(cls):\n",
    "#     return issubclass(cls, tuple) and all(\n",
    "#         hasattr(cls, attr) for attr in (\"_fields\", \"_asdict\", \"_make\", \"_replace\")\n",
    "#     )\n",
    "\n",
    "\n",
    "from typing import Any, Protocol, runtime_checkable\n",
    "\n",
    "\n",
    "@runtime_checkable\n",
    "class NamedTupleProto(Protocol):\n",
    "    def _asdict(self) -> dict[str, Any]:\n",
    "        ...\n",
    "\n",
    "    @classmethod\n",
    "    def __subclasshook__(cls, other: type) -> bool:\n",
    "        if NamedTuple in get_original_bases(other):\n",
    "            return True\n",
    "        # if cls is NamedTupleProto and is_namedtuple_cls(other):\n",
    "        #     return True\n",
    "        return NotImplemented\n",
    "\n",
    "\n",
    "class Point(NamedTuple):\n",
    "    x: float\n",
    "    y: float\n",
    "\n",
    "\n",
    "class Bar:\n",
    "    \"\"\"...\"\"\"\n",
    "\n",
    "    _asdict = None\n",
    "\n",
    "\n",
    "isinstance(Point(0, 0), NamedTupleProto), issubclass(\n",
    "    Point, NamedTupleProto\n",
    "), isinstance(Bar(), NamedTupleProto), issubclass(Bar, NamedTupleProto)"
   ]
  },
  {
   "cell_type": "code",
   "execution_count": null,
   "id": "673e4c51-b484-4de7-81f5-fda536f0b40f",
   "metadata": {},
   "outputs": [],
   "source": []
  },
  {
   "cell_type": "code",
   "execution_count": null,
   "id": "edb7a3d6-f781-4116-9c6a-c52a92236d90",
   "metadata": {},
   "outputs": [],
   "source": []
  },
  {
   "cell_type": "code",
   "execution_count": null,
   "id": "92935c8e-b357-4fd9-b742-856813191bba",
   "metadata": {
    "execution": {
     "iopub.execute_input": "2023-07-15T14:24:52.836903Z",
     "iopub.status.busy": "2023-07-15T14:24:52.836549Z",
     "iopub.status.idle": "2023-07-15T14:24:52.840773Z",
     "shell.execute_reply": "2023-07-15T14:24:52.840282Z",
     "shell.execute_reply.started": "2023-07-15T14:24:52.836887Z"
    },
    "tags": []
   },
   "outputs": [],
   "source": []
  },
  {
   "cell_type": "code",
   "execution_count": null,
   "id": "a4c08177-c631-4b74-a7b0-c89831058da6",
   "metadata": {
    "execution": {
     "iopub.execute_input": "2023-07-04T11:20:53.648520Z",
     "iopub.status.busy": "2023-07-04T11:20:53.648154Z",
     "iopub.status.idle": "2023-07-04T11:20:53.654565Z",
     "shell.execute_reply": "2023-07-04T11:20:53.653087Z",
     "shell.execute_reply.started": "2023-07-04T11:20:53.648491Z"
    }
   },
   "outputs": [],
   "source": [
    "import pandas as pd\n",
    "import pyarrow as pa\n",
    "\n",
    "df = pd.DataFrame(\n",
    "    {\n",
    "        \"n_legs\": [None, 4, 5, 100],\n",
    "        \"animals\": [\"Flamingo\", \"Horse\", \"Brittle stars\", \"Centipede\"],\n",
    "    }\n",
    ")\n",
    "table = pa.Table.from_pandas(df)\n",
    "x = table.to_pydict()"
   ]
  },
  {
   "cell_type": "code",
   "execution_count": null,
   "id": "2447579d-9e8f-49d8-b8db-649f7e48fea4",
   "metadata": {
    "execution": {
     "iopub.execute_input": "2023-07-04T11:26:05.069979Z",
     "iopub.status.busy": "2023-07-04T11:26:05.069563Z",
     "iopub.status.idle": "2023-07-04T11:26:05.075280Z",
     "shell.execute_reply": "2023-07-04T11:26:05.074573Z",
     "shell.execute_reply.started": "2023-07-04T11:26:05.069950Z"
    }
   },
   "outputs": [],
   "source": [
    "df.reset_index().to_dict()"
   ]
  },
  {
   "cell_type": "code",
   "execution_count": null,
   "id": "d0c54c9f-f3e6-4bcd-ad20-eeb9c659bf5a",
   "metadata": {
    "execution": {
     "iopub.execute_input": "2023-07-04T11:28:04.671348Z",
     "iopub.status.busy": "2023-07-04T11:28:04.671022Z",
     "iopub.status.idle": "2023-07-04T11:28:04.675827Z",
     "shell.execute_reply": "2023-07-04T11:28:04.675201Z",
     "shell.execute_reply.started": "2023-07-04T11:28:04.671328Z"
    }
   },
   "outputs": [],
   "source": [
    "df.animals.to_dict()"
   ]
  },
  {
   "cell_type": "code",
   "execution_count": null,
   "id": "28dfe19d-8eb7-47a2-8865-f037b46f8697",
   "metadata": {
    "execution": {
     "iopub.execute_input": "2023-07-04T11:30:13.472346Z",
     "iopub.status.busy": "2023-07-04T11:30:13.471988Z",
     "iopub.status.idle": "2023-07-04T11:30:13.475976Z",
     "shell.execute_reply": "2023-07-04T11:30:13.475285Z",
     "shell.execute_reply.started": "2023-07-04T11:30:13.472319Z"
    }
   },
   "outputs": [],
   "source": [
    "arr = table[\"animals\"]"
   ]
  },
  {
   "cell_type": "code",
   "execution_count": null,
   "id": "c04ff3a0-aaa2-4d2c-be21-8ff65711b818",
   "metadata": {
    "execution": {
     "iopub.execute_input": "2023-07-04T11:30:18.448667Z",
     "iopub.status.busy": "2023-07-04T11:30:18.447857Z",
     "iopub.status.idle": "2023-07-04T11:30:18.453482Z",
     "shell.execute_reply": "2023-07-04T11:30:18.452789Z",
     "shell.execute_reply.started": "2023-07-04T11:30:18.448637Z"
    }
   },
   "outputs": [],
   "source": [
    "arr.to_pylist()"
   ]
  },
  {
   "cell_type": "code",
   "execution_count": null,
   "id": "e8a6d16d-96da-4152-aa3b-da0c3d0470d3",
   "metadata": {
    "execution": {
     "iopub.execute_input": "2023-07-04T12:16:16.281836Z",
     "iopub.status.busy": "2023-07-04T12:16:16.281315Z",
     "iopub.status.idle": "2023-07-04T12:16:16.284775Z",
     "shell.execute_reply": "2023-07-04T12:16:16.284290Z",
     "shell.execute_reply.started": "2023-07-04T12:16:16.281821Z"
    }
   },
   "outputs": [],
   "source": [
    "from collections import namedtuple"
   ]
  },
  {
   "cell_type": "code",
   "execution_count": null,
   "id": "b9d3d2de-ff19-402d-87cb-8cf05dec0adc",
   "metadata": {},
   "outputs": [],
   "source": []
  },
  {
   "cell_type": "code",
   "execution_count": null,
   "id": "46d637a8-c359-46a3-b19c-d6fc2eb91732",
   "metadata": {
    "execution": {
     "iopub.execute_input": "2023-07-04T11:21:54.190897Z",
     "iopub.status.busy": "2023-07-04T11:21:54.190083Z",
     "iopub.status.idle": "2023-07-04T11:21:54.197193Z",
     "shell.execute_reply": "2023-07-04T11:21:54.195995Z",
     "shell.execute_reply.started": "2023-07-04T11:21:54.190820Z"
    }
   },
   "outputs": [],
   "source": [
    "hash(tuple((key, tuple(values)) for key, values in table.to_pydict().items()))"
   ]
  },
  {
   "cell_type": "code",
   "execution_count": null,
   "id": "0b31409f-5af0-4f54-b3e8-1e363b471204",
   "metadata": {},
   "outputs": [],
   "source": []
  },
  {
   "cell_type": "code",
   "execution_count": null,
   "id": "49f21b02-8811-490b-805f-51096a4017e1",
   "metadata": {
    "execution": {
     "iopub.execute_input": "2023-07-03T17:24:51.713217Z",
     "iopub.status.busy": "2023-07-03T17:24:51.712968Z",
     "iopub.status.idle": "2023-07-03T17:24:52.660583Z",
     "shell.execute_reply": "2023-07-03T17:24:52.660071Z",
     "shell.execute_reply.started": "2023-07-03T17:24:51.713201Z"
    }
   },
   "outputs": [],
   "source": [
    "import numpy as np\n",
    "import pandas as pd\n",
    "import pyarrow as pa\n",
    "import torch"
   ]
  },
  {
   "cell_type": "code",
   "execution_count": null,
   "id": "df8c2677-0b95-4b8c-b63e-d7bcf44a6287",
   "metadata": {
    "execution": {
     "iopub.execute_input": "2023-07-03T17:25:36.149856Z",
     "iopub.status.busy": "2023-07-03T17:25:36.149604Z",
     "iopub.status.idle": "2023-07-03T17:25:40.096406Z",
     "shell.execute_reply": "2023-07-03T17:25:40.095981Z",
     "shell.execute_reply.started": "2023-07-03T17:25:36.149843Z"
    }
   },
   "outputs": [],
   "source": [
    "import logging\n",
    "import pickle\n",
    "\n",
    "import numpy as np\n",
    "import pandas as pd\n",
    "import pytest\n",
    "import torch\n",
    "from pandas import DataFrame\n",
    "\n",
    "from tsdm.encoders import (\n",
    "    BaseEncoder,\n",
    "    BoundaryEncoder,\n",
    "    BoxCoxEncoder,\n",
    "    FastFrameEncoder,\n",
    "    FrameAsDict,\n",
    "    IdentityEncoder,\n",
    "    LogitBoxCoxEncoder,\n",
    "    MinMaxScaler,\n",
    "    StandardScaler,\n",
    "    TimeDeltaEncoder,\n",
    ")\n",
    "from tsdm.tasks import KiwiTask\n",
    "\n",
    "logging.basicConfig(level=logging.INFO)\n",
    "__logger__ = logging.getLogger(__name__)\n",
    "\n",
    "SplitID = (0, \"train\")\n",
    "\n",
    "task = KiwiTask()\n",
    "ts = task.dataset.timeseries.iloc[:20_000]  # use first 20_000 values only\n",
    "VF = task.dataset.timeseries_description\n",
    "sampler = task.samplers[SplitID]\n",
    "generator = task.generators[SplitID]\n",
    "key = next(iter(sampler))\n",
    "sample = generator[key]\n",
    "x = sample.inputs.x"
   ]
  },
  {
   "cell_type": "code",
   "execution_count": null,
   "id": "57bb9bcf-0201-40b0-9757-bf88acf6b7d0",
   "metadata": {
    "execution": {
     "iopub.execute_input": "2023-07-03T17:25:40.097178Z",
     "iopub.status.busy": "2023-07-03T17:25:40.097064Z",
     "iopub.status.idle": "2023-07-03T17:25:40.137255Z",
     "shell.execute_reply": "2023-07-03T17:25:40.136672Z",
     "shell.execute_reply.started": "2023-07-03T17:25:40.097169Z"
    }
   },
   "outputs": [],
   "source": [
    "# Construct the encoder\n",
    "column_encoders: dict[str, BaseEncoder] = {}\n",
    "for col, scale, lower, upper in VF[[\"scale\", \"lower\", \"upper\"]].itertuples():\n",
    "    match scale:\n",
    "        case \"percent\":\n",
    "            column_encoders[col] = (\n",
    "                LogitBoxCoxEncoder()\n",
    "                @ MinMaxScaler(0, 1, xmin=lower, xmax=upper)\n",
    "                @ BoundaryEncoder(lower, upper, mode=\"clip\")\n",
    "            )\n",
    "        case \"absolute\":\n",
    "            if upper < np.inf:\n",
    "                column_encoders[col] = (\n",
    "                    BoxCoxEncoder()\n",
    "                    # @ MinMaxScaler(lower, upper)\n",
    "                    @ BoundaryEncoder(lower, upper, mode=\"clip\")\n",
    "                )\n",
    "            else:\n",
    "                column_encoders[col] = BoxCoxEncoder() @ BoundaryEncoder(\n",
    "                    lower, upper, mode=\"clip\"\n",
    "                )\n",
    "        case \"linear\":\n",
    "            column_encoders[col] = IdentityEncoder()\n",
    "        case _:\n",
    "            raise ValueError(f\"{scale=} unknown\")\n",
    "\n",
    "encoder = (\n",
    "    FrameAsDict(\n",
    "        groups={\n",
    "            \"key\": [\"run_id\", \"experiment_id\"],\n",
    "            \"T\": [\"measurement_time\"],\n",
    "            \"X\": ...,\n",
    "        },\n",
    "        dtypes={\"T\": \"float32\", \"X\": \"float32\"},\n",
    "        encode_index=True,\n",
    "    )\n",
    "    @ StandardScaler(axis=-1)\n",
    "    @ FastFrameEncoder(\n",
    "        column_encoders=column_encoders,\n",
    "        index_encoders={\"measurement_time\": MinMaxScaler() @ TimeDeltaEncoder()},\n",
    "    )\n",
    ");"
   ]
  },
  {
   "cell_type": "code",
   "execution_count": null,
   "id": "f4233cf4-5129-4538-9287-e82d2787f4fe",
   "metadata": {
    "execution": {
     "iopub.execute_input": "2023-07-03T17:25:40.137945Z",
     "iopub.status.busy": "2023-07-03T17:25:40.137822Z",
     "iopub.status.idle": "2023-07-03T17:25:42.147973Z",
     "shell.execute_reply": "2023-07-03T17:25:42.147489Z",
     "shell.execute_reply.started": "2023-07-03T17:25:40.137934Z"
    }
   },
   "outputs": [],
   "source": [
    "encoder.fit(ts)  # fit encoder to the whole dataset\n",
    "encoded = encoder.encode(ts)\n",
    "decoded = encoder.decode(encoded)\n",
    "MAD = (decoded - ts).abs().mean().mean()\n",
    "assert all(decoded.isna() == ts.isna()), \"NaN pattern mismatch\"\n",
    "assert MAD < 1e-3, \"Large deviations from original values\"\n",
    "# check that the encoded values are within the bounds"
   ]
  },
  {
   "cell_type": "code",
   "execution_count": null,
   "id": "2f15028d-675d-4dca-8435-e96578e7dcd7",
   "metadata": {
    "execution": {
     "iopub.execute_input": "2023-07-03T17:25:42.148834Z",
     "iopub.status.busy": "2023-07-03T17:25:42.148723Z",
     "iopub.status.idle": "2023-07-03T17:25:42.215081Z",
     "shell.execute_reply": "2023-07-03T17:25:42.214601Z",
     "shell.execute_reply.started": "2023-07-03T17:25:42.148823Z"
    }
   },
   "outputs": [],
   "source": [
    "# apply encoder to a single slice\n",
    "encoded = encoder.encode(x)\n",
    "xhat = DataFrame(encoded[\"X\"])\n",
    "assert (xhat.isna().values == x.isna().values).all(), \"NaN pattern mismatch\""
   ]
  },
  {
   "cell_type": "code",
   "execution_count": null,
   "id": "b282169a-da9f-426c-9c03-7d1c0d9f5975",
   "metadata": {
    "execution": {
     "iopub.execute_input": "2023-07-03T17:40:50.203625Z",
     "iopub.status.busy": "2023-07-03T17:40:50.203335Z",
     "iopub.status.idle": "2023-07-03T17:40:50.287927Z",
     "shell.execute_reply": "2023-07-03T17:40:50.287496Z",
     "shell.execute_reply.started": "2023-07-03T17:40:50.203607Z"
    }
   },
   "outputs": [],
   "source": [
    "enc = encoder[-1][\"Acetate\"][-1]\n",
    "enc.encode(ts.Acetate)"
   ]
  },
  {
   "cell_type": "code",
   "execution_count": null,
   "id": "c66c3408-cab6-47b2-92df-e9b55e1369f8",
   "metadata": {
    "execution": {
     "iopub.status.busy": "2023-07-03T16:37:00.388817Z",
     "iopub.status.idle": "2023-07-03T16:37:00.388937Z",
     "shell.execute_reply": "2023-07-03T16:37:00.388882Z",
     "shell.execute_reply.started": "2023-07-03T16:37:00.388876Z"
    }
   },
   "outputs": [],
   "source": [
    "encoded"
   ]
  },
  {
   "cell_type": "code",
   "execution_count": null,
   "id": "3681b13c-b691-419b-b7c1-73e3d072e516",
   "metadata": {
    "execution": {
     "iopub.status.busy": "2023-07-03T16:37:00.389447Z",
     "iopub.status.idle": "2023-07-03T16:37:00.389563Z",
     "shell.execute_reply": "2023-07-03T16:37:00.389510Z",
     "shell.execute_reply.started": "2023-07-03T16:37:00.389505Z"
    }
   },
   "outputs": [],
   "source": [
    "# check that decoded matches with original\n",
    "decoded = encoder.decode(encoded)\n",
    "MAD = (decoded - x).abs().mean().mean()\n",
    "assert all(decoded.isna() == x.isna()), \"NaN pattern mismatch\"\n",
    "assert MAD < 1e-3, \"Large deviations from original values\"\n",
    "\n",
    "# check that decoding random values satisfies bounds\n",
    "rng_data = torch.randn_like(encoded[\"X\"])\n",
    "encoded[\"X\"] = 20 * rng_data  # large std. dev. to ensure that the bounds are violated\n",
    "decoded = encoder.decode(encoded)\n",
    "bounds = pd.concat([decoded.min(), decoded.max()], axis=1, keys=[\"lower\", \"upper\"])\n",
    "for col, lower, upper in bounds.itertuples():\n",
    "    match VF.loc[col, \"scale\"]:\n",
    "        case \"percent\":\n",
    "            assert lower == 0, \"Lower bound violated\"\n",
    "            assert upper == 100, \"Upper bound violated\"\n",
    "        case \"absolute\":\n",
    "            assert lower == 0, \"Lower bound violated\"\n",
    "\n",
    "# test_serialization\n",
    "with open(\"trained_encoder.pickle\", \"wb\") as file:\n",
    "    pickle.dump(encoder, file)\n",
    "\n",
    "with open(\"trained_encoder.pickle\", \"rb\") as file:\n",
    "    loaded_encoder = pickle.load(file)\n",
    "\n",
    "assert isinstance(loaded_encoder, BaseEncoder)"
   ]
  },
  {
   "cell_type": "code",
   "execution_count": null,
   "id": "bba686d3-0232-454e-8cfa-498e1e2decf3",
   "metadata": {},
   "outputs": [],
   "source": []
  }
 ],
 "metadata": {
  "kernelspec": {
   "display_name": "Python 3 (ipykernel)",
   "language": "python",
   "name": "python3"
  },
  "language_info": {
   "codemirror_mode": {
    "name": "ipython",
    "version": 3
   },
   "file_extension": ".py",
   "mimetype": "text/x-python",
   "name": "python",
   "nbconvert_exporter": "python",
   "pygments_lexer": "ipython3",
   "version": "3.11.3"
  }
 },
 "nbformat": 4,
 "nbformat_minor": 5
}
