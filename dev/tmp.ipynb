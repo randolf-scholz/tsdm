{
 "cells": [
  {
   "cell_type": "code",
   "execution_count": null,
   "id": "298deace-b88d-407d-b27d-997e7d010308",
   "metadata": {
    "execution": {
     "iopub.execute_input": "2022-11-09T12:26:54.990967Z",
     "iopub.status.busy": "2022-11-09T12:26:54.990629Z",
     "iopub.status.idle": "2022-11-09T12:26:55.298231Z",
     "shell.execute_reply": "2022-11-09T12:26:55.297800Z",
     "shell.execute_reply.started": "2022-11-09T12:26:54.990891Z"
    },
    "tags": []
   },
   "outputs": [],
   "source": [
    "%config InteractiveShell.ast_node_interactivity='last_expr_or_assign'  # always print last expr.\n",
    "%config InlineBackend.figure_format = 'svg'\n",
    "%load_ext autoreload\n",
    "%autoreload 2\n",
    "%matplotlib inline\n",
    "\n",
    "import logging\n",
    "\n",
    "logging.basicConfig(level=logging.INFO)"
   ]
  },
  {
   "cell_type": "code",
   "execution_count": null,
   "id": "d4920b29",
   "metadata": {},
   "outputs": [],
   "source": [
    "import tsdm"
   ]
  },
  {
   "cell_type": "code",
   "execution_count": null,
   "id": "a599bfd9-e172-4450-b2f4-d7ab12b0b4b4",
   "metadata": {
    "execution": {
     "iopub.execute_input": "2022-11-10T12:53:35.845303Z",
     "iopub.status.busy": "2022-11-10T12:53:35.845156Z",
     "iopub.status.idle": "2022-11-10T12:53:37.279192Z",
     "shell.execute_reply": "2022-11-10T12:53:37.278840Z",
     "shell.execute_reply.started": "2022-11-10T12:53:35.845265Z"
    },
    "tags": []
   },
   "outputs": [],
   "source": [
    "from tsdm.utils import LazyDict"
   ]
  },
  {
   "cell_type": "code",
   "execution_count": null,
   "id": "a2fc7d80-70f9-437c-b9a7-4901f63f6d6c",
   "metadata": {
    "execution": {
     "iopub.execute_input": "2022-11-10T12:53:37.280181Z",
     "iopub.status.busy": "2022-11-10T12:53:37.279907Z",
     "iopub.status.idle": "2022-11-10T12:53:37.285892Z",
     "shell.execute_reply": "2022-11-10T12:53:37.285559Z",
     "shell.execute_reply.started": "2022-11-10T12:53:37.280169Z"
    },
    "tags": []
   },
   "outputs": [],
   "source": [
    "LazyDict() | {1: 1}"
   ]
  },
  {
   "cell_type": "code",
   "execution_count": null,
   "id": "e950c934-47d0-491b-887f-2b77631f85cd",
   "metadata": {
    "execution": {
     "iopub.execute_input": "2022-11-10T12:58:12.800618Z",
     "iopub.status.busy": "2022-11-10T12:58:12.800344Z",
     "iopub.status.idle": "2022-11-10T12:58:12.805403Z",
     "shell.execute_reply": "2022-11-10T12:58:12.804140Z",
     "shell.execute_reply.started": "2022-11-10T12:58:12.800603Z"
    },
    "tags": []
   },
   "outputs": [],
   "source": [
    "dict(LazyDict({1: 1}))"
   ]
  },
  {
   "cell_type": "code",
   "execution_count": null,
   "id": "b09ecde9-9631-4730-b3d4-7f6d97cdf045",
   "metadata": {
    "execution": {
     "iopub.execute_input": "2022-11-10T12:53:37.286497Z",
     "iopub.status.busy": "2022-11-10T12:53:37.286348Z",
     "iopub.status.idle": "2022-11-10T12:53:37.329735Z",
     "shell.execute_reply": "2022-11-10T12:53:37.329312Z",
     "shell.execute_reply.started": "2022-11-10T12:53:37.286485Z"
    },
    "tags": []
   },
   "outputs": [],
   "source": [
    "import warnings\n",
    "\n",
    "?warnings.warn"
   ]
  },
  {
   "cell_type": "code",
   "execution_count": null,
   "id": "87bfadf8-b08a-4ff0-8e26-2eca43b9a0f2",
   "metadata": {
    "execution": {
     "iopub.execute_input": "2022-11-10T12:53:37.330569Z",
     "iopub.status.busy": "2022-11-10T12:53:37.330331Z",
     "iopub.status.idle": "2022-11-10T12:53:37.337569Z",
     "shell.execute_reply": "2022-11-10T12:53:37.337196Z",
     "shell.execute_reply.started": "2022-11-10T12:53:37.330552Z"
    },
    "tags": []
   },
   "outputs": [],
   "source": [
    "ld = LazyDict()\n",
    "ld |= {0: lambda: 0}\n",
    "ld"
   ]
  },
  {
   "cell_type": "code",
   "execution_count": null,
   "id": "90cbb9ff-6efd-4554-8d5e-2e7eec51caba",
   "metadata": {},
   "outputs": [],
   "source": []
  },
  {
   "cell_type": "code",
   "execution_count": null,
   "id": "f6ea4d85-8f53-4076-a98a-274e2fdfdd8c",
   "metadata": {
    "execution": {
     "iopub.execute_input": "2022-11-10T12:45:00.440823Z",
     "iopub.status.busy": "2022-11-10T12:45:00.440705Z",
     "iopub.status.idle": "2022-11-10T12:45:00.640662Z",
     "shell.execute_reply": "2022-11-10T12:45:00.640195Z",
     "shell.execute_reply.started": "2022-11-10T12:45:00.440813Z"
    },
    "tags": []
   },
   "outputs": [],
   "source": [
    "{1: 1} | LazyDict({2: 1})"
   ]
  },
  {
   "cell_type": "code",
   "execution_count": null,
   "id": "3309035f-db43-476d-b77c-b86e0b9a1837",
   "metadata": {
    "execution": {
     "iopub.execute_input": "2022-11-10T12:40:07.551051Z",
     "iopub.status.busy": "2022-11-10T12:40:07.550834Z",
     "iopub.status.idle": "2022-11-10T12:40:07.554241Z",
     "shell.execute_reply": "2022-11-10T12:40:07.553817Z",
     "shell.execute_reply.started": "2022-11-10T12:40:07.551038Z"
    }
   },
   "outputs": [],
   "source": [
    "LazyDict({2: 1}).__or__({1: 1})"
   ]
  },
  {
   "cell_type": "code",
   "execution_count": null,
   "id": "8fd41602-f9a1-47ab-94d9-e4af8894a5d3",
   "metadata": {
    "execution": {
     "iopub.execute_input": "2022-11-10T12:39:54.273651Z",
     "iopub.status.busy": "2022-11-10T12:39:54.273422Z",
     "iopub.status.idle": "2022-11-10T12:39:54.278502Z",
     "shell.execute_reply": "2022-11-10T12:39:54.277945Z",
     "shell.execute_reply.started": "2022-11-10T12:39:54.273637Z"
    },
    "tags": []
   },
   "outputs": [],
   "source": [
    "{1: 1}.__or__(LazyDict({2: 1}))"
   ]
  },
  {
   "cell_type": "code",
   "execution_count": null,
   "id": "512ed1d7-a15a-40ca-8384-a3d745c622bd",
   "metadata": {
    "execution": {
     "iopub.execute_input": "2022-11-10T12:26:48.531000Z",
     "iopub.status.busy": "2022-11-10T12:26:48.530724Z",
     "iopub.status.idle": "2022-11-10T12:26:48.535259Z",
     "shell.execute_reply": "2022-11-10T12:26:48.534737Z",
     "shell.execute_reply.started": "2022-11-10T12:26:48.530980Z"
    },
    "tags": []
   },
   "outputs": [],
   "source": [
    "?dict.__ior__"
   ]
  },
  {
   "cell_type": "code",
   "execution_count": null,
   "id": "f28b5863-2e32-470c-ba8f-dc469f61f4d6",
   "metadata": {
    "execution": {
     "iopub.execute_input": "2022-11-10T12:23:49.369796Z",
     "iopub.status.busy": "2022-11-10T12:23:49.369355Z",
     "iopub.status.idle": "2022-11-10T12:23:49.440103Z",
     "shell.execute_reply": "2022-11-10T12:23:49.439396Z",
     "shell.execute_reply.started": "2022-11-10T12:23:49.369779Z"
    }
   },
   "outputs": [],
   "source": [
    "{}.__or__({1: 1}, {2: 3})"
   ]
  },
  {
   "cell_type": "code",
   "execution_count": null,
   "id": "a789c9a0-2e70-4656-b36b-5b360aa86e4a",
   "metadata": {
    "execution": {
     "iopub.execute_input": "2022-11-10T12:23:05.206057Z",
     "iopub.status.busy": "2022-11-10T12:23:05.205761Z",
     "iopub.status.idle": "2022-11-10T12:23:05.238779Z",
     "shell.execute_reply": "2022-11-10T12:23:05.238190Z",
     "shell.execute_reply.started": "2022-11-10T12:23:05.206013Z"
    }
   },
   "outputs": [],
   "source": [
    "?dict.__or__"
   ]
  },
  {
   "cell_type": "code",
   "execution_count": null,
   "id": "1add2780-1b70-42b9-9698-25a17f769fd1",
   "metadata": {
    "execution": {
     "iopub.execute_input": "2022-11-09T12:26:55.300086Z",
     "iopub.status.busy": "2022-11-09T12:26:55.299604Z",
     "iopub.status.idle": "2022-11-09T12:26:56.673693Z",
     "shell.execute_reply": "2022-11-09T12:26:56.673230Z",
     "shell.execute_reply.started": "2022-11-09T12:26:55.300064Z"
    },
    "tags": []
   },
   "outputs": [],
   "source": [
    "from tsdm.datasets import *\n",
    "from tsdm.tasks import *"
   ]
  },
  {
   "cell_type": "code",
   "execution_count": null,
   "id": "9441c065-6c89-436c-8793-bd9ae10f172a",
   "metadata": {
    "execution": {
     "iopub.execute_input": "2022-11-09T12:26:56.674550Z",
     "iopub.status.busy": "2022-11-09T12:26:56.674178Z",
     "iopub.status.idle": "2022-11-09T12:26:57.515969Z",
     "shell.execute_reply": "2022-11-09T12:26:57.515581Z",
     "shell.execute_reply.started": "2022-11-09T12:26:56.674538Z"
    },
    "tags": []
   },
   "outputs": [],
   "source": [
    "TSC = KiwiDataset()\n",
    "TSC.metadata"
   ]
  },
  {
   "cell_type": "code",
   "execution_count": null,
   "id": "5ca50ad7-0d04-4fb6-9e90-fba5c863c874",
   "metadata": {
    "execution": {
     "iopub.execute_input": "2022-11-09T12:26:57.516610Z",
     "iopub.status.busy": "2022-11-09T12:26:57.516469Z",
     "iopub.status.idle": "2022-11-09T12:26:58.359597Z",
     "shell.execute_reply": "2022-11-09T12:26:58.359199Z",
     "shell.execute_reply.started": "2022-11-09T12:26:57.516597Z"
    },
    "tags": []
   },
   "outputs": [],
   "source": [
    "task = KiwiTask()"
   ]
  },
  {
   "cell_type": "code",
   "execution_count": null,
   "id": "dcfc0649-bf68-4e1f-8c91-3894968efc83",
   "metadata": {
    "execution": {
     "iopub.execute_input": "2022-11-09T12:26:58.360141Z",
     "iopub.status.busy": "2022-11-09T12:26:58.360037Z",
     "iopub.status.idle": "2022-11-09T12:26:58.379081Z",
     "shell.execute_reply": "2022-11-09T12:26:58.378628Z",
     "shell.execute_reply.started": "2022-11-09T12:26:58.360130Z"
    }
   },
   "outputs": [],
   "source": [
    "task.splits"
   ]
  },
  {
   "cell_type": "code",
   "execution_count": null,
   "id": "ff6f589f-531c-4876-b35e-536958a61ff3",
   "metadata": {
    "execution": {
     "iopub.execute_input": "2022-11-09T12:26:58.379675Z",
     "iopub.status.busy": "2022-11-09T12:26:58.379569Z",
     "iopub.status.idle": "2022-11-09T12:26:58.507546Z",
     "shell.execute_reply": "2022-11-09T12:26:58.506987Z",
     "shell.execute_reply.started": "2022-11-09T12:26:58.379665Z"
    },
    "tags": []
   },
   "outputs": [],
   "source": [
    "task.splits[(0, \"test\")]"
   ]
  },
  {
   "cell_type": "code",
   "execution_count": null,
   "id": "a45a7d55-eb3e-4c26-9f65-fe53d09d0d21",
   "metadata": {
    "execution": {
     "iopub.execute_input": "2022-11-09T12:26:58.509045Z",
     "iopub.status.busy": "2022-11-09T12:26:58.508930Z",
     "iopub.status.idle": "2022-11-09T12:26:59.338465Z",
     "shell.execute_reply": "2022-11-09T12:26:59.338166Z",
     "shell.execute_reply.started": "2022-11-09T12:26:58.509034Z"
    },
    "tags": []
   },
   "outputs": [],
   "source": [
    "sampler = task.samplers[(0, \"train\")]"
   ]
  },
  {
   "cell_type": "code",
   "execution_count": null,
   "id": "1ed5f20b-ff46-43fb-bfc0-80a17e800339",
   "metadata": {
    "execution": {
     "iopub.execute_input": "2022-11-09T12:26:59.339008Z",
     "iopub.status.busy": "2022-11-09T12:26:59.338895Z",
     "iopub.status.idle": "2022-11-09T12:26:59.357971Z",
     "shell.execute_reply": "2022-11-09T12:26:59.357677Z",
     "shell.execute_reply.started": "2022-11-09T12:26:59.338997Z"
    },
    "tags": []
   },
   "outputs": [],
   "source": [
    "key = next(iter(sampler))"
   ]
  },
  {
   "cell_type": "code",
   "execution_count": null,
   "id": "856daf49-512c-4617-a29d-8c036914d3bb",
   "metadata": {
    "execution": {
     "iopub.execute_input": "2022-11-09T12:26:59.358509Z",
     "iopub.status.busy": "2022-11-09T12:26:59.358392Z",
     "iopub.status.idle": "2022-11-09T12:26:59.376803Z",
     "shell.execute_reply": "2022-11-09T12:26:59.376266Z",
     "shell.execute_reply.started": "2022-11-09T12:26:59.358497Z"
    },
    "tags": []
   },
   "outputs": [],
   "source": [
    "?set.union"
   ]
  },
  {
   "cell_type": "code",
   "execution_count": null,
   "id": "1afc7439-3e83-451f-85a6-abdd24a446dc",
   "metadata": {
    "execution": {
     "iopub.execute_input": "2022-11-09T12:26:59.377634Z",
     "iopub.status.busy": "2022-11-09T12:26:59.377420Z",
     "iopub.status.idle": "2022-11-09T12:26:59.395972Z",
     "shell.execute_reply": "2022-11-09T12:26:59.395441Z",
     "shell.execute_reply.started": "2022-11-09T12:26:59.377622Z"
    },
    "tags": []
   },
   "outputs": [],
   "source": [
    "set().union([1], [2], [3])"
   ]
  },
  {
   "cell_type": "code",
   "execution_count": null,
   "id": "1812c00e-a3dd-4623-b49a-7462c111c11c",
   "metadata": {
    "execution": {
     "iopub.execute_input": "2022-11-09T12:26:59.397347Z",
     "iopub.status.busy": "2022-11-09T12:26:59.397194Z",
     "iopub.status.idle": "2022-11-09T12:26:59.415826Z",
     "shell.execute_reply": "2022-11-09T12:26:59.415463Z",
     "shell.execute_reply.started": "2022-11-09T12:26:59.397335Z"
    },
    "tags": []
   },
   "outputs": [],
   "source": [
    "generator = task.generators[(0, \"train\")]"
   ]
  },
  {
   "cell_type": "code",
   "execution_count": null,
   "id": "2c3cfbc7-b915-4f89-bc4f-8177bd89d667",
   "metadata": {
    "execution": {
     "iopub.execute_input": "2022-11-09T12:26:59.416442Z",
     "iopub.status.busy": "2022-11-09T12:26:59.416329Z",
     "iopub.status.idle": "2022-11-09T12:26:59.519162Z",
     "shell.execute_reply": "2022-11-09T12:26:59.516313Z",
     "shell.execute_reply.started": "2022-11-09T12:26:59.416431Z"
    },
    "tags": []
   },
   "outputs": [],
   "source": [
    "dataloader.sampler[(439, 15325)].__len__()"
   ]
  },
  {
   "cell_type": "code",
   "execution_count": null,
   "id": "c65d212d-3a65-4071-b373-f23e10ed1c81",
   "metadata": {
    "execution": {
     "iopub.execute_input": "2022-11-09T12:27:06.049194Z",
     "iopub.status.busy": "2022-11-09T12:27:06.049014Z",
     "iopub.status.idle": "2022-11-09T12:27:06.405453Z",
     "shell.execute_reply": "2022-11-09T12:27:06.404928Z",
     "shell.execute_reply.started": "2022-11-09T12:27:06.049182Z"
    },
    "tags": []
   },
   "outputs": [],
   "source": [
    "dataloader = task.dataloaders[0, \"train\"]\n",
    "batch = next(iter(dataloader))"
   ]
  },
  {
   "cell_type": "code",
   "execution_count": null,
   "id": "a5b71afe-7e54-4ce4-a053-4d7a556e2a38",
   "metadata": {
    "execution": {
     "iopub.status.busy": "2022-11-09T12:26:59.520278Z",
     "iopub.status.idle": "2022-11-09T12:26:59.520420Z",
     "shell.execute_reply": "2022-11-09T12:26:59.520354Z",
     "shell.execute_reply.started": "2022-11-09T12:26:59.520348Z"
    },
    "tags": []
   },
   "outputs": [],
   "source": [
    "keys = [k for k in zip(dataloader.sampler, range(12))]"
   ]
  },
  {
   "cell_type": "code",
   "execution_count": null,
   "id": "b9c28991-708e-4cb4-9f64-24c4a3e19eba",
   "metadata": {
    "tags": []
   },
   "outputs": [],
   "source": []
  },
  {
   "cell_type": "code",
   "execution_count": null,
   "id": "39d16eb9-89f9-4aa7-967f-7d7e1a64a06b",
   "metadata": {
    "execution": {
     "iopub.status.busy": "2022-11-09T12:26:59.521062Z",
     "iopub.status.idle": "2022-11-09T12:26:59.521201Z",
     "shell.execute_reply": "2022-11-09T12:26:59.521136Z",
     "shell.execute_reply.started": "2022-11-09T12:26:59.521129Z"
    },
    "tags": []
   },
   "outputs": [],
   "source": [
    "list(None)"
   ]
  },
  {
   "cell_type": "code",
   "execution_count": null,
   "id": "c04d5dcb-2aac-4d0a-a7d9-1e5d7ce492c6",
   "metadata": {
    "execution": {
     "iopub.status.busy": "2022-11-09T12:26:59.521797Z",
     "iopub.status.idle": "2022-11-09T12:26:59.521932Z",
     "shell.execute_reply": "2022-11-09T12:26:59.521869Z",
     "shell.execute_reply.started": "2022-11-09T12:26:59.521863Z"
    }
   },
   "outputs": [],
   "source": [
    "generator.sample_format = \"sparse\""
   ]
  },
  {
   "cell_type": "code",
   "execution_count": null,
   "id": "42290cd1-580e-4da9-9f32-727e9fc78900",
   "metadata": {
    "execution": {
     "iopub.status.busy": "2022-11-09T12:26:59.522305Z",
     "iopub.status.idle": "2022-11-09T12:26:59.522438Z",
     "shell.execute_reply": "2022-11-09T12:26:59.522376Z",
     "shell.execute_reply.started": "2022-11-09T12:26:59.522369Z"
    },
    "tags": []
   },
   "outputs": [],
   "source": [
    "generator[key]"
   ]
  },
  {
   "cell_type": "code",
   "execution_count": null,
   "id": "a38f118d-dc35-4fe7-bfc2-a1911ddfc9f0",
   "metadata": {
    "execution": {
     "iopub.status.busy": "2022-11-09T12:26:59.522839Z",
     "iopub.status.idle": "2022-11-09T12:26:59.522975Z",
     "shell.execute_reply": "2022-11-09T12:26:59.522908Z",
     "shell.execute_reply.started": "2022-11-09T12:26:59.522902Z"
    }
   },
   "outputs": [],
   "source": [
    "generator[key].targets.y"
   ]
  },
  {
   "cell_type": "code",
   "execution_count": null,
   "id": "13311b46-b35a-438d-9ad6-998682835fd2",
   "metadata": {},
   "outputs": [],
   "source": []
  },
  {
   "cell_type": "code",
   "execution_count": null,
   "id": "a2de2198-554a-4761-b11f-8138dd751fe3",
   "metadata": {},
   "outputs": [],
   "source": []
  },
  {
   "cell_type": "code",
   "execution_count": null,
   "id": "de612ef1-eca6-41df-9c27-553ebb8201ef",
   "metadata": {},
   "outputs": [],
   "source": []
  },
  {
   "cell_type": "code",
   "execution_count": null,
   "id": "df71121e-a38b-41e6-a492-96eeb92ead68",
   "metadata": {},
   "outputs": [],
   "source": []
  },
  {
   "cell_type": "code",
   "execution_count": null,
   "id": "f6c09c94-6710-4aaa-b5f2-74dac5ea6026",
   "metadata": {},
   "outputs": [],
   "source": []
  },
  {
   "cell_type": "code",
   "execution_count": null,
   "id": "6d5d9203-6a71-4624-ae38-a55989598d77",
   "metadata": {},
   "outputs": [],
   "source": []
  },
  {
   "cell_type": "code",
   "execution_count": null,
   "id": "4541fcac-c49a-43d7-b2ce-5597eee06414",
   "metadata": {},
   "outputs": [],
   "source": []
  },
  {
   "cell_type": "code",
   "execution_count": null,
   "id": "0e1bc17d-fd9a-452f-b625-a0cbabb8f148",
   "metadata": {
    "execution": {
     "iopub.status.busy": "2022-11-09T12:26:59.523481Z",
     "iopub.status.idle": "2022-11-09T12:26:59.523615Z",
     "shell.execute_reply": "2022-11-09T12:26:59.523553Z",
     "shell.execute_reply.started": "2022-11-09T12:26:59.523547Z"
    },
    "tags": []
   },
   "outputs": [],
   "source": [
    "from dataclasses import KW_ONLY, dataclass, field, InitVar\n",
    "from collections.abc import *\n",
    "from tsdm.datasets import KIWI\n",
    "from tsdm.tasks.base import TimeSeriesTask, TimeSeriesTaskDataset"
   ]
  },
  {
   "cell_type": "code",
   "execution_count": null,
   "id": "eb8308cc-2329-4893-bcaa-8ded4d55db60",
   "metadata": {
    "execution": {
     "iopub.status.busy": "2022-11-09T12:26:59.524036Z",
     "iopub.status.idle": "2022-11-09T12:26:59.524168Z",
     "shell.execute_reply": "2022-11-09T12:26:59.524106Z",
     "shell.execute_reply.started": "2022-11-09T12:26:59.524100Z"
    },
    "tags": []
   },
   "outputs": [],
   "source": [
    "@dataclass\n",
    "class A:\n",
    "    test_metric: InitVar[Callable] = NotImplemented\n",
    "\n",
    "    b: float = 3\n",
    "\n",
    "    @staticmethod\n",
    "    def test_metric():\n",
    "        pass\n",
    "\n",
    "\n",
    "@dataclass\n",
    "class B(A):\n",
    "    @staticmethod\n",
    "    def test_metric():\n",
    "        pass\n",
    "\n",
    "\n",
    "A().test_metric"
   ]
  },
  {
   "cell_type": "code",
   "execution_count": null,
   "id": "42420d36-cee2-4904-abb4-b05ada5117ac",
   "metadata": {
    "execution": {
     "iopub.status.busy": "2022-11-09T12:26:59.524671Z",
     "iopub.status.idle": "2022-11-09T12:26:59.524805Z",
     "shell.execute_reply": "2022-11-09T12:26:59.524742Z",
     "shell.execute_reply.started": "2022-11-09T12:26:59.524736Z"
    },
    "tags": []
   },
   "outputs": [],
   "source": [
    "class KiwiTaskDataset(TimeSeriesTaskDataset):\n",
    "    def __init__(self) -> None:\n",
    "        super().__init__(\n",
    "            dataset=KIWI(),\n",
    "            observables=[\n",
    "                \"Base\",\n",
    "                \"DOT\",\n",
    "                \"Glucose\",\n",
    "                \"OD600\",\n",
    "                \"Acetate\",\n",
    "                \"Fluo_GFP\",\n",
    "                \"Volume\",\n",
    "                \"pH\",\n",
    "            ],\n",
    "            covariates=[\n",
    "                \"Cumulated_feed_volume_glucose\",\n",
    "                \"Cumulated_feed_volume_medium\",\n",
    "                \"InducerConcentration\",\n",
    "                \"StirringSpeed\",\n",
    "                \"Flow_Air\",\n",
    "                \"Temperature\",\n",
    "                \"Probe_Volume\",\n",
    "            ],\n",
    "            targets=[\"Fluo_GFP\"],\n",
    "        )"
   ]
  },
  {
   "cell_type": "code",
   "execution_count": null,
   "id": "33bb7528-c80c-4bc5-a4a7-8203cd98ecb1",
   "metadata": {
    "execution": {
     "iopub.status.busy": "2022-11-09T12:26:59.525399Z",
     "iopub.status.idle": "2022-11-09T12:26:59.525551Z",
     "shell.execute_reply": "2022-11-09T12:26:59.525468Z",
     "shell.execute_reply.started": "2022-11-09T12:26:59.525461Z"
    }
   },
   "outputs": [],
   "source": [
    "KIWI()"
   ]
  },
  {
   "cell_type": "code",
   "execution_count": null,
   "id": "d670e1af-fb37-4f01-ba45-fcc662edfe51",
   "metadata": {
    "execution": {
     "iopub.status.busy": "2022-11-09T12:26:59.526005Z",
     "iopub.status.idle": "2022-11-09T12:26:59.526137Z",
     "shell.execute_reply": "2022-11-09T12:26:59.526075Z",
     "shell.execute_reply.started": "2022-11-09T12:26:59.526069Z"
    },
    "tags": []
   },
   "outputs": [],
   "source": [
    "KiwiTaskDataset()"
   ]
  },
  {
   "cell_type": "code",
   "execution_count": null,
   "id": "75e57aa3-844e-4cf6-becf-1bfda97f5340",
   "metadata": {
    "execution": {
     "iopub.status.busy": "2022-11-09T12:26:59.526839Z",
     "iopub.status.idle": "2022-11-09T12:26:59.526978Z",
     "shell.execute_reply": "2022-11-09T12:26:59.526910Z",
     "shell.execute_reply.started": "2022-11-09T12:26:59.526903Z"
    },
    "tags": []
   },
   "outputs": [],
   "source": [
    "ds.__class__.__bases__"
   ]
  },
  {
   "cell_type": "code",
   "execution_count": null,
   "id": "645ab7b3-a3b5-4233-bf85-b40f1bbaeda1",
   "metadata": {
    "execution": {
     "iopub.status.busy": "2022-11-09T12:26:59.527424Z",
     "iopub.status.idle": "2022-11-09T12:26:59.527559Z",
     "shell.execute_reply": "2022-11-09T12:26:59.527496Z",
     "shell.execute_reply.started": "2022-11-09T12:26:59.527489Z"
    }
   },
   "outputs": [],
   "source": [
    "raise"
   ]
  },
  {
   "cell_type": "code",
   "execution_count": null,
   "id": "a1e1b5ca-ebd5-4510-9647-da82036ed32d",
   "metadata": {
    "execution": {
     "iopub.status.busy": "2022-11-09T12:26:59.529073Z",
     "iopub.status.idle": "2022-11-09T12:26:59.529231Z",
     "shell.execute_reply": "2022-11-09T12:26:59.529166Z",
     "shell.execute_reply.started": "2022-11-09T12:26:59.529159Z"
    },
    "tags": []
   },
   "outputs": [],
   "source": [
    "str(KiwiTaskDataset(KIWI()))"
   ]
  },
  {
   "cell_type": "code",
   "execution_count": null,
   "id": "ff7ddb9e-ca8f-4abc-8832-4660b964a103",
   "metadata": {
    "execution": {
     "iopub.status.busy": "2022-11-09T12:26:59.529748Z",
     "iopub.status.idle": "2022-11-09T12:26:59.529909Z",
     "shell.execute_reply": "2022-11-09T12:26:59.529821Z",
     "shell.execute_reply.started": "2022-11-09T12:26:59.529815Z"
    },
    "tags": []
   },
   "outputs": [],
   "source": [
    "KiwiTaskDataset.__dataclass_fields__.keys()"
   ]
  },
  {
   "cell_type": "code",
   "execution_count": null,
   "id": "d9e95833-f539-4c00-894d-b90bb124479f",
   "metadata": {
    "execution": {
     "iopub.status.busy": "2022-11-09T12:26:59.531339Z",
     "iopub.status.idle": "2022-11-09T12:26:59.531550Z",
     "shell.execute_reply": "2022-11-09T12:26:59.531467Z",
     "shell.execute_reply.started": "2022-11-09T12:26:59.531459Z"
    },
    "tags": []
   },
   "outputs": [],
   "source": [
    "import pandas as pd"
   ]
  },
  {
   "cell_type": "code",
   "execution_count": null,
   "id": "4e0eb66b-9208-4e21-8337-263cb567c76f",
   "metadata": {
    "execution": {
     "iopub.status.busy": "2022-11-09T12:26:59.531975Z",
     "iopub.status.idle": "2022-11-09T12:26:59.532121Z",
     "shell.execute_reply": "2022-11-09T12:26:59.532052Z",
     "shell.execute_reply.started": "2022-11-09T12:26:59.532045Z"
    },
    "tags": []
   },
   "outputs": [],
   "source": [
    "import tsdm\n",
    "\n",
    "ds = tsdm.datasets.InSilicoData()"
   ]
  },
  {
   "cell_type": "code",
   "execution_count": null,
   "id": "65fe0ec1-6b8c-49c7-afee-cfd657af1e8c",
   "metadata": {},
   "outputs": [],
   "source": []
  },
  {
   "cell_type": "code",
   "execution_count": null,
   "id": "38304a5f-9563-488a-be4f-24c6fd14fa74",
   "metadata": {
    "execution": {
     "iopub.status.busy": "2022-11-09T12:26:59.532587Z",
     "iopub.status.idle": "2022-11-09T12:26:59.532734Z",
     "shell.execute_reply": "2022-11-09T12:26:59.532663Z",
     "shell.execute_reply.started": "2022-11-09T12:26:59.532656Z"
    },
    "tags": []
   },
   "outputs": [],
   "source": [
    "import tsdm"
   ]
  },
  {
   "cell_type": "code",
   "execution_count": null,
   "id": "92daee98-0748-4745-b109-3f9ef27f8e1e",
   "metadata": {
    "execution": {
     "iopub.status.busy": "2022-11-09T12:26:59.533166Z",
     "iopub.status.idle": "2022-11-09T12:26:59.533308Z",
     "shell.execute_reply": "2022-11-09T12:26:59.533241Z",
     "shell.execute_reply.started": "2022-11-09T12:26:59.533235Z"
    },
    "tags": []
   },
   "outputs": [],
   "source": [
    "task = tsdm.tasks.MIMIC_IV_Bilos2021()"
   ]
  },
  {
   "cell_type": "code",
   "execution_count": null,
   "id": "df98c692-fa82-4e49-9587-6a12bde52348",
   "metadata": {
    "execution": {
     "iopub.status.busy": "2022-11-09T12:26:59.533822Z",
     "iopub.status.idle": "2022-11-09T12:26:59.533965Z",
     "shell.execute_reply": "2022-11-09T12:26:59.533898Z",
     "shell.execute_reply.started": "2022-11-09T12:26:59.533892Z"
    },
    "tags": []
   },
   "outputs": [],
   "source": [
    "A"
   ]
  },
  {
   "cell_type": "code",
   "execution_count": null,
   "id": "fa77a77c-b6d3-41ac-b693-d6f742d60914",
   "metadata": {
    "execution": {
     "iopub.status.busy": "2022-11-09T12:26:59.534508Z",
     "iopub.status.idle": "2022-11-09T12:26:59.534651Z",
     "shell.execute_reply": "2022-11-09T12:26:59.534583Z",
     "shell.execute_reply.started": "2022-11-09T12:26:59.534577Z"
    }
   },
   "outputs": [],
   "source": [
    "A.loc[0]"
   ]
  },
  {
   "cell_type": "code",
   "execution_count": null,
   "id": "8777c622-9eab-4191-894e-90e02dff45fe",
   "metadata": {
    "execution": {
     "iopub.status.busy": "2022-11-09T12:26:59.535080Z",
     "iopub.status.idle": "2022-11-09T12:26:59.535218Z",
     "shell.execute_reply": "2022-11-09T12:26:59.535153Z",
     "shell.execute_reply.started": "2022-11-09T12:26:59.535146Z"
    },
    "tags": []
   },
   "outputs": [],
   "source": [
    "# A = task.split_idx_sparse.T.copy()"
   ]
  },
  {
   "cell_type": "code",
   "execution_count": null,
   "id": "9b0f443d-af0e-4e8a-aa1f-c8eca8dde812",
   "metadata": {
    "execution": {
     "iopub.status.busy": "2022-11-09T12:26:59.535807Z",
     "iopub.status.idle": "2022-11-09T12:26:59.535952Z",
     "shell.execute_reply": "2022-11-09T12:26:59.535882Z",
     "shell.execute_reply.started": "2022-11-09T12:26:59.535875Z"
    },
    "tags": []
   },
   "outputs": [],
   "source": [
    "pd.concat([A], keys=[0])"
   ]
  },
  {
   "cell_type": "code",
   "execution_count": null,
   "id": "7b9b05c7-2a90-4f87-aedf-0df7d4dec556",
   "metadata": {
    "execution": {
     "iopub.status.busy": "2022-11-09T12:26:59.536252Z",
     "iopub.status.idle": "2022-11-09T12:26:59.536385Z",
     "shell.execute_reply": "2022-11-09T12:26:59.536321Z",
     "shell.execute_reply.started": "2022-11-09T12:26:59.536315Z"
    },
    "tags": []
   },
   "outputs": [],
   "source": [
    "idx = A.index\n",
    "mask = idx.str.lower().isin(train_patterns)\n",
    "value = idx[mask]\n",
    "pd.Series(value.item(), index=idx)"
   ]
  },
  {
   "cell_type": "code",
   "execution_count": null,
   "id": "387fc068-8bfd-421d-b78a-c54988370dad",
   "metadata": {
    "execution": {
     "iopub.status.busy": "2022-11-09T12:26:59.536718Z",
     "iopub.status.idle": "2022-11-09T12:26:59.536850Z",
     "shell.execute_reply": "2022-11-09T12:26:59.536788Z",
     "shell.execute_reply.started": "2022-11-09T12:26:59.536782Z"
    },
    "tags": []
   },
   "outputs": [],
   "source": [
    "pd.Index(task.split_idx_sparse.T.index.to_series().to_dict())"
   ]
  },
  {
   "cell_type": "code",
   "execution_count": null,
   "id": "3e7b559b-8cf5-4f14-a539-b356ec64fdfc",
   "metadata": {
    "execution": {
     "iopub.status.busy": "2022-11-09T12:26:59.537222Z",
     "iopub.status.idle": "2022-11-09T12:26:59.537356Z",
     "shell.execute_reply": "2022-11-09T12:26:59.537293Z",
     "shell.execute_reply.started": "2022-11-09T12:26:59.537286Z"
    },
    "tags": []
   },
   "outputs": [],
   "source": [
    "pd.Index(idx.to_series().to_dict().keys())"
   ]
  },
  {
   "cell_type": "code",
   "execution_count": null,
   "id": "b7c7d990-dda2-4df2-9014-e20cefdbfac9",
   "metadata": {
    "execution": {
     "iopub.status.busy": "2022-11-09T12:26:59.537779Z",
     "iopub.status.idle": "2022-11-09T12:26:59.537913Z",
     "shell.execute_reply": "2022-11-09T12:26:59.537851Z",
     "shell.execute_reply.started": "2022-11-09T12:26:59.537844Z"
    },
    "tags": []
   },
   "outputs": [],
   "source": [
    "A = A.loc[0]\n",
    "idx = A.index\n",
    "names = idx.names\n",
    "*fold, partition = names\n",
    "train_patterns = [\"train\", \"training\"]"
   ]
  },
  {
   "cell_type": "code",
   "execution_count": null,
   "id": "4555d8cb-ef08-4450-af34-44fde7a8bd0e",
   "metadata": {
    "execution": {
     "iopub.status.busy": "2022-11-09T12:26:59.538261Z",
     "iopub.status.idle": "2022-11-09T12:26:59.538392Z",
     "shell.execute_reply": "2022-11-09T12:26:59.538331Z",
     "shell.execute_reply.started": "2022-11-09T12:26:59.538324Z"
    },
    "tags": []
   },
   "outputs": [],
   "source": [
    "idx = idx.to_frame(index=False)\n",
    "idx.partition = idx.partition.str.upper()\n",
    "idx = idx.set_index(names).index"
   ]
  },
  {
   "cell_type": "code",
   "execution_count": null,
   "id": "58d8c19d-35fd-481d-a4ae-b9ac5a42acd6",
   "metadata": {
    "execution": {
     "iopub.status.busy": "2022-11-09T12:26:59.539216Z",
     "iopub.status.idle": "2022-11-09T12:26:59.539355Z",
     "shell.execute_reply": "2022-11-09T12:26:59.539290Z",
     "shell.execute_reply.started": "2022-11-09T12:26:59.539284Z"
    },
    "tags": []
   },
   "outputs": [],
   "source": [
    "T = idx.to_frame()\n",
    "mask = T[partition].str.lower().isin(train_patterns)\n",
    "train_folds = T[mask].copy()\n",
    "train_folds = train_folds.drop(columns=names)\n",
    "train_folds[\"key\"] = list(T[mask].index)\n",
    "if train_folds.index.nlevels > 1:\n",
    "    train_folds = train_folds.droplevel(-1)\n",
    "T = T.drop(columns=names)\n",
    "T = train_folds.join(T, how=\"left\")[\"key\"]"
   ]
  },
  {
   "cell_type": "code",
   "execution_count": null,
   "id": "e025043a-ac01-47aa-93c2-8749f5112d54",
   "metadata": {
    "tags": []
   },
   "outputs": [],
   "source": []
  },
  {
   "cell_type": "code",
   "execution_count": null,
   "id": "0ce9bb94-12e2-44ca-a762-27c706d41064",
   "metadata": {
    "execution": {
     "iopub.status.busy": "2022-11-09T12:26:59.539920Z",
     "iopub.status.idle": "2022-11-09T12:26:59.540061Z",
     "shell.execute_reply": "2022-11-09T12:26:59.539993Z",
     "shell.execute_reply.started": "2022-11-09T12:26:59.539987Z"
    },
    "tags": []
   },
   "outputs": [],
   "source": [
    "result = T.to_dict()"
   ]
  },
  {
   "cell_type": "code",
   "execution_count": null,
   "id": "b984ac1a-8a8c-4df7-9616-620888ab634b",
   "metadata": {
    "tags": []
   },
   "outputs": [],
   "source": []
  },
  {
   "cell_type": "code",
   "execution_count": null,
   "id": "146ed130-4597-415a-b40b-bc4d78432885",
   "metadata": {},
   "outputs": [],
   "source": []
  },
  {
   "cell_type": "code",
   "execution_count": null,
   "id": "31d5f758-2abc-42a2-a949-26e12e18a5b2",
   "metadata": {},
   "outputs": [],
   "source": []
  },
  {
   "cell_type": "code",
   "execution_count": null,
   "id": "5eba50ad-ee6f-4c80-a5c9-338369f44a77",
   "metadata": {},
   "outputs": [],
   "source": []
  },
  {
   "cell_type": "code",
   "execution_count": null,
   "id": "da843ecc-a50b-47a8-ba09-189b6d46f5cc",
   "metadata": {},
   "outputs": [],
   "source": []
  },
  {
   "cell_type": "code",
   "execution_count": null,
   "id": "324cd6a7-41f9-411c-8979-cd28d7211206",
   "metadata": {
    "execution": {
     "iopub.status.busy": "2022-11-09T12:26:59.540812Z",
     "iopub.status.idle": "2022-11-09T12:26:59.540963Z",
     "shell.execute_reply": "2022-11-09T12:26:59.540887Z",
     "shell.execute_reply.started": "2022-11-09T12:26:59.540880Z"
    },
    "tags": []
   },
   "outputs": [],
   "source": [
    "?torch.nn.Module.forward"
   ]
  },
  {
   "cell_type": "code",
   "execution_count": null,
   "id": "ac4bc832-8ad2-4b59-ab55-b17d9a0e92cf",
   "metadata": {
    "execution": {
     "iopub.status.busy": "2022-11-09T12:26:59.541534Z",
     "iopub.status.idle": "2022-11-09T12:26:59.541675Z",
     "shell.execute_reply": "2022-11-09T12:26:59.541609Z",
     "shell.execute_reply.started": "2022-11-09T12:26:59.541603Z"
    },
    "tags": []
   },
   "outputs": [],
   "source": [
    "import tsdm\n",
    "from tsdm.utils.decorators import timefun"
   ]
  },
  {
   "cell_type": "code",
   "execution_count": null,
   "id": "7f2f073f-8b7a-4779-8181-88b373635606",
   "metadata": {
    "execution": {
     "iopub.status.busy": "2022-11-09T12:26:59.542013Z",
     "iopub.status.idle": "2022-11-09T12:26:59.542146Z",
     "shell.execute_reply": "2022-11-09T12:26:59.542084Z",
     "shell.execute_reply.started": "2022-11-09T12:26:59.542077Z"
    },
    "tags": []
   },
   "outputs": [],
   "source": [
    "ds = tsdm.datasets.InSilicoData(initialize=False);"
   ]
  },
  {
   "cell_type": "code",
   "execution_count": null,
   "id": "65c6de5d-8c35-493a-acbe-9615b5f43234",
   "metadata": {
    "execution": {
     "iopub.status.busy": "2022-11-09T12:26:59.542719Z",
     "iopub.status.idle": "2022-11-09T12:26:59.542858Z",
     "shell.execute_reply": "2022-11-09T12:26:59.542793Z",
     "shell.execute_reply.started": "2022-11-09T12:26:59.542786Z"
    },
    "tags": []
   },
   "outputs": [],
   "source": [
    "_, pre_cache_time = timefun(lambda: ds.dataset, append=True)()"
   ]
  },
  {
   "cell_type": "code",
   "execution_count": null,
   "id": "65f2dd0d-73eb-4e79-8993-3349df57716c",
   "metadata": {
    "execution": {
     "iopub.status.busy": "2022-11-09T12:26:59.543265Z",
     "iopub.status.idle": "2022-11-09T12:26:59.543397Z",
     "shell.execute_reply": "2022-11-09T12:26:59.543334Z",
     "shell.execute_reply.started": "2022-11-09T12:26:59.543327Z"
    },
    "tags": []
   },
   "outputs": [],
   "source": [
    "ds = tsdm.datasets.Electricity().dataset"
   ]
  },
  {
   "cell_type": "code",
   "execution_count": null,
   "id": "0b841236-ef61-4d3b-af61-8e45447534a6",
   "metadata": {
    "execution": {
     "iopub.status.busy": "2022-11-09T12:26:59.543853Z",
     "iopub.status.idle": "2022-11-09T12:26:59.543993Z",
     "shell.execute_reply": "2022-11-09T12:26:59.543927Z",
     "shell.execute_reply.started": "2022-11-09T12:26:59.543920Z"
    }
   },
   "outputs": [],
   "source": [
    "%time\n",
    "ds = tsdm.datasets.Electricity(initialize=False);"
   ]
  },
  {
   "cell_type": "code",
   "execution_count": null,
   "id": "0ef9038a-5578-4309-abb6-57787581c608",
   "metadata": {
    "execution": {
     "iopub.status.busy": "2022-11-09T12:26:59.544313Z",
     "iopub.status.idle": "2022-11-09T12:26:59.544446Z",
     "shell.execute_reply": "2022-11-09T12:26:59.544383Z",
     "shell.execute_reply.started": "2022-11-09T12:26:59.544377Z"
    }
   },
   "outputs": [],
   "source": [
    "from typing import NamedTuple"
   ]
  },
  {
   "cell_type": "code",
   "execution_count": null,
   "id": "9f8a9f8b-4334-458c-b0da-be796740f288",
   "metadata": {
    "execution": {
     "iopub.status.busy": "2022-11-09T12:26:59.544914Z",
     "iopub.status.idle": "2022-11-09T12:26:59.545049Z",
     "shell.execute_reply": "2022-11-09T12:26:59.544986Z",
     "shell.execute_reply.started": "2022-11-09T12:26:59.544979Z"
    }
   },
   "outputs": [],
   "source": [
    "class Foo(NamedTuple):\n",
    "    a: float\n",
    "    b: int\n",
    "\n",
    "\n",
    "tuple([1, 2, 3])"
   ]
  },
  {
   "cell_type": "code",
   "execution_count": null,
   "id": "94ce3282",
   "metadata": {
    "execution": {
     "iopub.status.busy": "2022-11-09T12:26:59.545423Z",
     "iopub.status.idle": "2022-11-09T12:26:59.545562Z",
     "shell.execute_reply": "2022-11-09T12:26:59.545494Z",
     "shell.execute_reply.started": "2022-11-09T12:26:59.545487Z"
    },
    "pycharm": {
     "is_executing": true
    }
   },
   "outputs": [],
   "source": [
    "a = 1"
   ]
  },
  {
   "cell_type": "code",
   "execution_count": null,
   "id": "0e7e7a3f",
   "metadata": {
    "execution": {
     "iopub.status.busy": "2022-11-09T12:26:59.545827Z",
     "iopub.status.idle": "2022-11-09T12:26:59.545961Z",
     "shell.execute_reply": "2022-11-09T12:26:59.545895Z",
     "shell.execute_reply.started": "2022-11-09T12:26:59.545889Z"
    }
   },
   "outputs": [],
   "source": [
    "import encoders"
   ]
  },
  {
   "cell_type": "code",
   "execution_count": null,
   "id": "141c3e49",
   "metadata": {
    "execution": {
     "iopub.status.busy": "2022-11-09T12:26:59.546495Z",
     "iopub.status.idle": "2022-11-09T12:26:59.546631Z",
     "shell.execute_reply": "2022-11-09T12:26:59.546567Z",
     "shell.execute_reply.started": "2022-11-09T12:26:59.546561Z"
    }
   },
   "outputs": [],
   "source": [
    "import sys\n",
    "\n",
    "sys.path"
   ]
  },
  {
   "cell_type": "code",
   "execution_count": null,
   "id": "8c639a93",
   "metadata": {
    "execution": {
     "iopub.status.busy": "2022-11-09T12:26:59.547151Z",
     "iopub.status.idle": "2022-11-09T12:26:59.547288Z",
     "shell.execute_reply": "2022-11-09T12:26:59.547223Z",
     "shell.execute_reply.started": "2022-11-09T12:26:59.547217Z"
    }
   },
   "outputs": [],
   "source": [
    "import tsdm"
   ]
  },
  {
   "cell_type": "code",
   "execution_count": null,
   "id": "8c1a63b9",
   "metadata": {
    "execution": {
     "iopub.status.busy": "2022-11-09T12:26:59.547599Z",
     "iopub.status.idle": "2022-11-09T12:26:59.547729Z",
     "shell.execute_reply": "2022-11-09T12:26:59.547668Z",
     "shell.execute_reply.started": "2022-11-09T12:26:59.547662Z"
    }
   },
   "outputs": [],
   "source": [
    "encoders.__path__"
   ]
  },
  {
   "cell_type": "code",
   "execution_count": null,
   "id": "d763b7e3",
   "metadata": {
    "execution": {
     "iopub.status.busy": "2022-11-09T12:26:59.548286Z",
     "iopub.status.idle": "2022-11-09T12:26:59.548423Z",
     "shell.execute_reply": "2022-11-09T12:26:59.548359Z",
     "shell.execute_reply.started": "2022-11-09T12:26:59.548353Z"
    }
   },
   "outputs": [],
   "source": [
    "import tsdm"
   ]
  },
  {
   "cell_type": "code",
   "execution_count": null,
   "id": "e8af615e",
   "metadata": {
    "execution": {
     "iopub.status.busy": "2022-11-09T12:26:59.548767Z",
     "iopub.status.idle": "2022-11-09T12:26:59.548902Z",
     "shell.execute_reply": "2022-11-09T12:26:59.548838Z",
     "shell.execute_reply.started": "2022-11-09T12:26:59.548832Z"
    }
   },
   "outputs": [],
   "source": [
    "dir(tsdm)"
   ]
  },
  {
   "cell_type": "code",
   "execution_count": null,
   "id": "4cd4fcff-3d1b-45e5-8a41-06a82af3750f",
   "metadata": {
    "execution": {
     "iopub.status.busy": "2022-11-09T12:26:59.549325Z",
     "iopub.status.idle": "2022-11-09T12:26:59.549456Z",
     "shell.execute_reply": "2022-11-09T12:26:59.549395Z",
     "shell.execute_reply.started": "2022-11-09T12:26:59.549389Z"
    },
    "tags": []
   },
   "outputs": [],
   "source": [
    "import pandas as pd\n",
    "\n",
    "import tsdm"
   ]
  },
  {
   "cell_type": "code",
   "execution_count": null,
   "id": "bd082c85-2dd8-440f-891d-9c208cc9de43",
   "metadata": {
    "execution": {
     "iopub.status.busy": "2022-11-09T12:26:59.549849Z",
     "iopub.status.idle": "2022-11-09T12:26:59.549980Z",
     "shell.execute_reply": "2022-11-09T12:26:59.549918Z",
     "shell.execute_reply.started": "2022-11-09T12:26:59.549912Z"
    }
   },
   "outputs": [],
   "source": [
    "DS = tsdm.datasets.USHCN_SmallChunkedSporadic()"
   ]
  },
  {
   "cell_type": "code",
   "execution_count": null,
   "id": "1bef2043-78a2-491f-bd2a-407a235fa50d",
   "metadata": {
    "execution": {
     "iopub.status.busy": "2022-11-09T12:26:59.550489Z",
     "iopub.status.idle": "2022-11-09T12:26:59.550631Z",
     "shell.execute_reply": "2022-11-09T12:26:59.550562Z",
     "shell.execute_reply.started": "2022-11-09T12:26:59.550556Z"
    }
   },
   "outputs": [],
   "source": [
    "DS.dataset.sort_index(level=\"Time\")"
   ]
  },
  {
   "cell_type": "code",
   "execution_count": null,
   "id": "9f3600ab-dd25-4742-a380-4a54ec3ab59f",
   "metadata": {
    "execution": {
     "iopub.status.busy": "2022-11-09T12:26:59.551040Z",
     "iopub.status.idle": "2022-11-09T12:26:59.551178Z",
     "shell.execute_reply": "2022-11-09T12:26:59.551112Z",
     "shell.execute_reply.started": "2022-11-09T12:26:59.551105Z"
    }
   },
   "outputs": [],
   "source": [
    "dtypes = {\n",
    "    \"ID\": \"int16\",\n",
    "    \"Time\": \"float32\",\n",
    "    \"Value_0\": \"float32\",\n",
    "    \"Value_1\": \"float32\",\n",
    "    \"Value_2\": \"float32\",\n",
    "    \"Value_3\": \"float32\",\n",
    "    \"Value_4\": \"float32\",\n",
    "    \"Mask_0\": \"bool\",\n",
    "    \"Mask_1\": \"bool\",\n",
    "    \"Mask_2\": \"bool\",\n",
    "    \"Mask_3\": \"bool\",\n",
    "    \"Mask_4\": \"bool\",\n",
    "}\n",
    "df = pd.read_csv(PTH, dtype=dtypes)\n",
    "df = pd.DataFrame(df)"
   ]
  },
  {
   "cell_type": "code",
   "execution_count": null,
   "id": "b0b48166-42bf-4284-9cd0-e9cf07359065",
   "metadata": {
    "execution": {
     "iopub.status.busy": "2022-11-09T12:26:59.551728Z",
     "iopub.status.idle": "2022-11-09T12:26:59.551864Z",
     "shell.execute_reply": "2022-11-09T12:26:59.551800Z",
     "shell.execute_reply.started": "2022-11-09T12:26:59.551794Z"
    }
   },
   "outputs": [],
   "source": [
    "l = []\n",
    "for k in range(5):\n",
    "    key = f\"CH_{k}\"\n",
    "    l.append(key)\n",
    "    df[key] = df[f\"Value_{k}\"].where(df[f\"Mask_{k}\"])\n",
    "\n",
    "df = df[[\"ID\", \"Time\", *l]].sort_values([\"ID\", \"Time\"])"
   ]
  },
  {
   "cell_type": "code",
   "execution_count": null,
   "id": "0ebc1fb4-5bdf-4708-aff3-fecf6e4627fe",
   "metadata": {
    "execution": {
     "iopub.status.busy": "2022-11-09T12:26:59.552193Z",
     "iopub.status.idle": "2022-11-09T12:26:59.552322Z",
     "shell.execute_reply": "2022-11-09T12:26:59.552261Z",
     "shell.execute_reply.started": "2022-11-09T12:26:59.552255Z"
    }
   },
   "outputs": [],
   "source": [
    "df = df.set_index([\"ID\", \"Time\"])"
   ]
  },
  {
   "cell_type": "code",
   "execution_count": null,
   "id": "42fe2287-dc6a-4b1d-8896-d3795886e32a",
   "metadata": {
    "execution": {
     "iopub.status.busy": "2022-11-09T12:26:59.552941Z",
     "iopub.status.idle": "2022-11-09T12:26:59.553075Z",
     "shell.execute_reply": "2022-11-09T12:26:59.553013Z",
     "shell.execute_reply.started": "2022-11-09T12:26:59.553006Z"
    }
   },
   "outputs": [],
   "source": [
    "df.dtypes"
   ]
  },
  {
   "cell_type": "code",
   "execution_count": null,
   "id": "4ba7f210-a33a-4976-a259-30e1f1033791",
   "metadata": {
    "execution": {
     "iopub.status.busy": "2022-11-09T12:26:59.553395Z",
     "iopub.status.idle": "2022-11-09T12:26:59.553529Z",
     "shell.execute_reply": "2022-11-09T12:26:59.553464Z",
     "shell.execute_reply.started": "2022-11-09T12:26:59.553458Z"
    }
   },
   "outputs": [],
   "source": [
    "ts.Value_0.where(ts.Mask_0)"
   ]
  },
  {
   "cell_type": "code",
   "execution_count": null,
   "id": "ba68a191-dd8f-4083-8620-0072359416de",
   "metadata": {},
   "outputs": [],
   "source": []
  },
  {
   "cell_type": "code",
   "execution_count": null,
   "id": "ad22187c-d626-483d-8f02-29320a389634",
   "metadata": {},
   "outputs": [],
   "source": []
  },
  {
   "cell_type": "code",
   "execution_count": null,
   "id": "e5dd8e15-443a-4aec-8a88-d6bd7a24aa8e",
   "metadata": {
    "execution": {
     "iopub.status.busy": "2022-11-09T12:26:59.553861Z",
     "iopub.status.idle": "2022-11-09T12:26:59.553996Z",
     "shell.execute_reply": "2022-11-09T12:26:59.553930Z",
     "shell.execute_reply.started": "2022-11-09T12:26:59.553923Z"
    }
   },
   "outputs": [],
   "source": [
    "ts[\"ID\"].nunique()"
   ]
  },
  {
   "cell_type": "code",
   "execution_count": null,
   "id": "61ee46cd-4ce9-42f1-b500-7b4cb9653d6b",
   "metadata": {
    "execution": {
     "iopub.status.busy": "2022-11-09T12:26:59.554334Z",
     "iopub.status.idle": "2022-11-09T12:26:59.554465Z",
     "shell.execute_reply": "2022-11-09T12:26:59.554403Z",
     "shell.execute_reply.started": "2022-11-09T12:26:59.554396Z"
    }
   },
   "outputs": [],
   "source": [
    "ds = tsdm.datasets.USHCN()"
   ]
  },
  {
   "cell_type": "code",
   "execution_count": null,
   "id": "2f86a6f1-8e88-4a41-8dce-e87e1b884f89",
   "metadata": {
    "execution": {
     "iopub.status.busy": "2022-11-09T12:26:59.555188Z",
     "iopub.status.idle": "2022-11-09T12:26:59.555327Z",
     "shell.execute_reply": "2022-11-09T12:26:59.555261Z",
     "shell.execute_reply.started": "2022-11-09T12:26:59.555255Z"
    }
   },
   "outputs": [],
   "source": [
    "from tsdm.encoders import TripletDecoder"
   ]
  },
  {
   "cell_type": "code",
   "execution_count": null,
   "id": "47909d64-5a07-4827-b09d-1b2a7ec4035f",
   "metadata": {
    "execution": {
     "iopub.status.busy": "2022-11-09T12:26:59.555854Z",
     "iopub.status.idle": "2022-11-09T12:26:59.555990Z",
     "shell.execute_reply": "2022-11-09T12:26:59.555925Z",
     "shell.execute_reply.started": "2022-11-09T12:26:59.555919Z"
    }
   },
   "outputs": [],
   "source": [
    "ts = ds.us_daily[[\"VALUE\", \"ELEMENT\"]]"
   ]
  },
  {
   "cell_type": "code",
   "execution_count": null,
   "id": "bdc1c5d4-8f13-487b-9246-55f0e71e5176",
   "metadata": {
    "execution": {
     "iopub.status.busy": "2022-11-09T12:26:59.556442Z",
     "iopub.status.idle": "2022-11-09T12:26:59.556574Z",
     "shell.execute_reply": "2022-11-09T12:26:59.556511Z",
     "shell.execute_reply.started": "2022-11-09T12:26:59.556505Z"
    }
   },
   "outputs": [],
   "source": [
    "enc = TripletDecoder(value_name=\"VALUE\", var_name=\"ELEMENT\")\n",
    "enc.fit(ts)"
   ]
  },
  {
   "cell_type": "code",
   "execution_count": null,
   "id": "0d4a1d61-429e-4695-bb23-0be16e9f450c",
   "metadata": {
    "execution": {
     "iopub.status.busy": "2022-11-09T12:26:59.557055Z",
     "iopub.status.idle": "2022-11-09T12:26:59.557190Z",
     "shell.execute_reply": "2022-11-09T12:26:59.557126Z",
     "shell.execute_reply.started": "2022-11-09T12:26:59.557120Z"
    }
   },
   "outputs": [],
   "source": [
    "import modin.pandas as mpd"
   ]
  },
  {
   "cell_type": "code",
   "execution_count": null,
   "id": "9ad451f9-1408-4da5-9adc-f72a7fe8b54d",
   "metadata": {
    "execution": {
     "iopub.status.busy": "2022-11-09T12:26:59.557509Z",
     "iopub.status.idle": "2022-11-09T12:26:59.557642Z",
     "shell.execute_reply": "2022-11-09T12:26:59.557581Z",
     "shell.execute_reply.started": "2022-11-09T12:26:59.557575Z"
    }
   },
   "outputs": [],
   "source": [
    "ts = mpd.DataFrame(ts)"
   ]
  },
  {
   "cell_type": "code",
   "execution_count": null,
   "id": "777458bb-2d8e-4efc-b268-49dcf6d3a6f0",
   "metadata": {
    "execution": {
     "iopub.status.busy": "2022-11-09T12:26:59.557900Z",
     "iopub.status.idle": "2022-11-09T12:26:59.558028Z",
     "shell.execute_reply": "2022-11-09T12:26:59.557967Z",
     "shell.execute_reply.started": "2022-11-09T12:26:59.557961Z"
    }
   },
   "outputs": [],
   "source": [
    "s = ts[:1000].reset_index()"
   ]
  },
  {
   "cell_type": "code",
   "execution_count": null,
   "id": "bbe6a566-039f-487b-a88d-3a69a1b74143",
   "metadata": {
    "execution": {
     "iopub.status.busy": "2022-11-09T12:26:59.559014Z",
     "iopub.status.idle": "2022-11-09T12:26:59.559174Z",
     "shell.execute_reply": "2022-11-09T12:26:59.559100Z",
     "shell.execute_reply.started": "2022-11-09T12:26:59.559093Z"
    }
   },
   "outputs": [],
   "source": [
    "type(ts)"
   ]
  },
  {
   "cell_type": "code",
   "execution_count": null,
   "id": "9bee601b-ee00-4037-bfa3-79a4c4392f77",
   "metadata": {
    "execution": {
     "iopub.status.busy": "2022-11-09T12:26:59.559537Z",
     "iopub.status.idle": "2022-11-09T12:26:59.559682Z",
     "shell.execute_reply": "2022-11-09T12:26:59.559614Z",
     "shell.execute_reply.started": "2022-11-09T12:26:59.559607Z"
    }
   },
   "outputs": [],
   "source": [
    "ts.reset_index().groupby([\"COOP_ID\", \"time\", \"ELEMENT\"])[\"VALUE\"].aggregate(\n",
    "    \"mean\"\n",
    ").unstack()"
   ]
  },
  {
   "cell_type": "code",
   "execution_count": null,
   "id": "cbbd9e03-8ac5-4c57-b452-e47026920f61",
   "metadata": {},
   "outputs": [],
   "source": []
  },
  {
   "cell_type": "code",
   "execution_count": null,
   "id": "bf33a3dd-7850-4d5a-8332-61dceaa4d797",
   "metadata": {
    "execution": {
     "iopub.status.busy": "2022-11-09T12:26:59.560215Z",
     "iopub.status.idle": "2022-11-09T12:26:59.560359Z",
     "shell.execute_reply": "2022-11-09T12:26:59.560292Z",
     "shell.execute_reply.started": "2022-11-09T12:26:59.560285Z"
    }
   },
   "outputs": [],
   "source": [
    "l = []\n",
    "\n",
    "for value in ts.ELEMENT.unique():\n",
    "    print(value)\n",
    "    mask = ts.ELEMENT == value\n",
    "    l.append(ts.VALUE[mask])"
   ]
  },
  {
   "cell_type": "code",
   "execution_count": null,
   "id": "9f714d70-89d8-4e09-9e51-973ffd654b4e",
   "metadata": {
    "execution": {
     "iopub.status.busy": "2022-11-09T12:26:59.560891Z",
     "iopub.status.idle": "2022-11-09T12:26:59.561039Z",
     "shell.execute_reply": "2022-11-09T12:26:59.560970Z",
     "shell.execute_reply.started": "2022-11-09T12:26:59.560963Z"
    }
   },
   "outputs": [],
   "source": [
    "ts.pivot(columns=\"ELEMENT\", values=\"VALUE\")"
   ]
  },
  {
   "cell_type": "code",
   "execution_count": null,
   "id": "fb3141ea-1ec9-4585-8c22-7ade249123a5",
   "metadata": {},
   "outputs": [],
   "source": []
  }
 ],
 "metadata": {
  "kernelspec": {
   "display_name": "Python 3 (ipykernel)",
   "language": "python",
   "name": "python3"
  },
  "language_info": {
   "codemirror_mode": {
    "name": "ipython",
    "version": 3
   },
   "file_extension": ".py",
   "mimetype": "text/x-python",
   "name": "python",
   "nbconvert_exporter": "python",
   "pygments_lexer": "ipython3",
   "version": "3.10.6"
  }
 },
 "nbformat": 4,
 "nbformat_minor": 5
}
