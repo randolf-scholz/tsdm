{
 "cells": [
  {
   "cell_type": "code",
   "execution_count": null,
   "id": "298deace-b88d-407d-b27d-997e7d010308",
   "metadata": {
    "execution": {
     "iopub.execute_input": "2022-11-08T15:44:54.165793Z",
     "iopub.status.busy": "2022-11-08T15:44:54.165559Z",
     "iopub.status.idle": "2022-11-08T15:44:54.460975Z",
     "shell.execute_reply": "2022-11-08T15:44:54.460583Z",
     "shell.execute_reply.started": "2022-11-08T15:44:54.165738Z"
    },
    "pycharm": {
     "name": "#%%\n"
    },
    "tags": []
   },
   "outputs": [],
   "source": [
    "%config InteractiveShell.ast_node_interactivity='last_expr_or_assign'  # always print last expr.\n",
    "%config InlineBackend.figure_format = 'svg'\n",
    "%load_ext autoreload\n",
    "%autoreload 2\n",
    "%matplotlib inline\n",
    "\n",
    "import logging\n",
    "\n",
    "logging.basicConfig(level=logging.INFO)"
   ]
  },
  {
   "cell_type": "code",
   "execution_count": null,
   "id": "d9e95833-f539-4c00-894d-b90bb124479f",
   "metadata": {
    "execution": {
     "iopub.execute_input": "2022-11-08T15:44:54.461927Z",
     "iopub.status.busy": "2022-11-08T15:44:54.461778Z",
     "iopub.status.idle": "2022-11-08T15:44:54.663986Z",
     "shell.execute_reply": "2022-11-08T15:44:54.663589Z",
     "shell.execute_reply.started": "2022-11-08T15:44:54.461915Z"
    },
    "tags": []
   },
   "outputs": [],
   "source": [
    "import pandas as pd"
   ]
  },
  {
   "cell_type": "code",
   "execution_count": null,
   "id": "d773d8d4-65de-44d6-8379-4272683f4abf",
   "metadata": {
    "execution": {
     "iopub.execute_input": "2022-11-08T15:45:02.816032Z",
     "iopub.status.busy": "2022-11-08T15:45:02.815652Z",
     "iopub.status.idle": "2022-11-08T15:45:02.836075Z",
     "shell.execute_reply": "2022-11-08T15:45:02.835595Z",
     "shell.execute_reply.started": "2022-11-08T15:45:02.816013Z"
    }
   },
   "outputs": [],
   "source": [
    "dir(ds)"
   ]
  },
  {
   "cell_type": "code",
   "execution_count": null,
   "id": "4e0eb66b-9208-4e21-8337-263cb567c76f",
   "metadata": {
    "execution": {
     "iopub.execute_input": "2022-11-08T15:44:56.984244Z",
     "iopub.status.busy": "2022-11-08T15:44:56.983884Z",
     "iopub.status.idle": "2022-11-08T15:44:58.118989Z",
     "shell.execute_reply": "2022-11-08T15:44:58.118465Z",
     "shell.execute_reply.started": "2022-11-08T15:44:56.984231Z"
    },
    "tags": []
   },
   "outputs": [],
   "source": [
    "import tsdm\n",
    "\n",
    "ds = tsdm.datasets.InSilicoData()"
   ]
  },
  {
   "cell_type": "code",
   "execution_count": null,
   "id": "65fe0ec1-6b8c-49c7-afee-cfd657af1e8c",
   "metadata": {},
   "outputs": [],
   "source": []
  },
  {
   "cell_type": "code",
   "execution_count": null,
   "id": "38304a5f-9563-488a-be4f-24c6fd14fa74",
   "metadata": {
    "execution": {
     "iopub.execute_input": "2022-11-08T09:39:48.812156Z",
     "iopub.status.busy": "2022-11-08T09:39:48.812008Z",
     "iopub.status.idle": "2022-11-08T09:39:50.189200Z",
     "shell.execute_reply": "2022-11-08T09:39:50.188728Z",
     "shell.execute_reply.started": "2022-11-08T09:39:48.812144Z"
    },
    "tags": []
   },
   "outputs": [],
   "source": [
    "import tsdm"
   ]
  },
  {
   "cell_type": "code",
   "execution_count": null,
   "id": "92daee98-0748-4745-b109-3f9ef27f8e1e",
   "metadata": {
    "execution": {
     "iopub.execute_input": "2022-11-08T09:39:50.189941Z",
     "iopub.status.busy": "2022-11-08T09:39:50.189733Z",
     "iopub.status.idle": "2022-11-08T09:39:59.527411Z",
     "shell.execute_reply": "2022-11-08T09:39:59.526904Z",
     "shell.execute_reply.started": "2022-11-08T09:39:50.189930Z"
    },
    "tags": []
   },
   "outputs": [],
   "source": [
    "task = tsdm.tasks.MIMIC_IV_Bilos2021()"
   ]
  },
  {
   "cell_type": "code",
   "execution_count": null,
   "id": "df98c692-fa82-4e49-9587-6a12bde52348",
   "metadata": {
    "execution": {
     "iopub.execute_input": "2022-11-08T11:33:01.728660Z",
     "iopub.status.busy": "2022-11-08T11:33:01.728422Z",
     "iopub.status.idle": "2022-11-08T11:33:01.807582Z",
     "shell.execute_reply": "2022-11-08T11:33:01.806939Z",
     "shell.execute_reply.started": "2022-11-08T11:33:01.728644Z"
    },
    "tags": []
   },
   "outputs": [],
   "source": [
    "A"
   ]
  },
  {
   "cell_type": "code",
   "execution_count": null,
   "id": "fa77a77c-b6d3-41ac-b693-d6f742d60914",
   "metadata": {
    "execution": {
     "iopub.execute_input": "2022-11-08T11:33:22.589651Z",
     "iopub.status.busy": "2022-11-08T11:33:22.589393Z",
     "iopub.status.idle": "2022-11-08T11:33:22.700658Z",
     "shell.execute_reply": "2022-11-08T11:33:22.700142Z",
     "shell.execute_reply.started": "2022-11-08T11:33:22.589637Z"
    }
   },
   "outputs": [],
   "source": [
    "A.loc[0]"
   ]
  },
  {
   "cell_type": "code",
   "execution_count": null,
   "id": "8777c622-9eab-4191-894e-90e02dff45fe",
   "metadata": {
    "execution": {
     "iopub.execute_input": "2022-11-08T11:40:08.334420Z",
     "iopub.status.busy": "2022-11-08T11:40:08.334115Z",
     "iopub.status.idle": "2022-11-08T11:40:08.769773Z",
     "shell.execute_reply": "2022-11-08T11:40:08.769071Z",
     "shell.execute_reply.started": "2022-11-08T11:40:08.334408Z"
    },
    "tags": []
   },
   "outputs": [],
   "source": [
    "# A = task.split_idx_sparse.T.copy()"
   ]
  },
  {
   "cell_type": "code",
   "execution_count": null,
   "id": "9b0f443d-af0e-4e8a-aa1f-c8eca8dde812",
   "metadata": {
    "execution": {
     "iopub.execute_input": "2022-11-08T11:40:46.654591Z",
     "iopub.status.busy": "2022-11-08T11:40:46.654261Z",
     "iopub.status.idle": "2022-11-08T11:40:46.814995Z",
     "shell.execute_reply": "2022-11-08T11:40:46.814518Z",
     "shell.execute_reply.started": "2022-11-08T11:40:46.654578Z"
    },
    "tags": []
   },
   "outputs": [],
   "source": [
    "pd.concat([A], keys=[0])"
   ]
  },
  {
   "cell_type": "code",
   "execution_count": null,
   "id": "7b9b05c7-2a90-4f87-aedf-0df7d4dec556",
   "metadata": {
    "execution": {
     "iopub.execute_input": "2022-11-08T11:48:17.011849Z",
     "iopub.status.busy": "2022-11-08T11:48:17.011665Z",
     "iopub.status.idle": "2022-11-08T11:48:17.031992Z",
     "shell.execute_reply": "2022-11-08T11:48:17.031610Z",
     "shell.execute_reply.started": "2022-11-08T11:48:17.011836Z"
    },
    "tags": []
   },
   "outputs": [],
   "source": [
    "idx = A.index\n",
    "mask = idx.str.lower().isin(train_patterns)\n",
    "value = idx[mask]\n",
    "pd.Series(value.item(), index=idx)"
   ]
  },
  {
   "cell_type": "code",
   "execution_count": null,
   "id": "387fc068-8bfd-421d-b78a-c54988370dad",
   "metadata": {
    "execution": {
     "iopub.execute_input": "2022-11-08T11:52:54.001726Z",
     "iopub.status.busy": "2022-11-08T11:52:54.001430Z",
     "iopub.status.idle": "2022-11-08T11:52:54.353133Z",
     "shell.execute_reply": "2022-11-08T11:52:54.352712Z",
     "shell.execute_reply.started": "2022-11-08T11:52:54.001713Z"
    },
    "tags": []
   },
   "outputs": [],
   "source": [
    "pd.Index(task.split_idx_sparse.T.index.to_series().to_dict())"
   ]
  },
  {
   "cell_type": "code",
   "execution_count": null,
   "id": "3e7b559b-8cf5-4f14-a539-b356ec64fdfc",
   "metadata": {
    "execution": {
     "iopub.execute_input": "2022-11-08T11:50:04.681307Z",
     "iopub.status.busy": "2022-11-08T11:50:04.680750Z",
     "iopub.status.idle": "2022-11-08T11:50:04.712497Z",
     "shell.execute_reply": "2022-11-08T11:50:04.712046Z",
     "shell.execute_reply.started": "2022-11-08T11:50:04.681282Z"
    },
    "tags": []
   },
   "outputs": [],
   "source": [
    "pd.Index(idx.to_series().to_dict().keys())"
   ]
  },
  {
   "cell_type": "code",
   "execution_count": null,
   "id": "b7c7d990-dda2-4df2-9014-e20cefdbfac9",
   "metadata": {
    "execution": {
     "iopub.execute_input": "2022-11-08T11:33:28.921506Z",
     "iopub.status.busy": "2022-11-08T11:33:28.921253Z",
     "iopub.status.idle": "2022-11-08T11:33:29.350420Z",
     "shell.execute_reply": "2022-11-08T11:33:29.350024Z",
     "shell.execute_reply.started": "2022-11-08T11:33:28.921494Z"
    },
    "tags": []
   },
   "outputs": [],
   "source": [
    "A = A.loc[0]\n",
    "idx = A.index\n",
    "names = idx.names\n",
    "*fold, partition = names\n",
    "train_patterns = [\"train\", \"training\"]"
   ]
  },
  {
   "cell_type": "code",
   "execution_count": null,
   "id": "4555d8cb-ef08-4450-af34-44fde7a8bd0e",
   "metadata": {
    "execution": {
     "iopub.execute_input": "2022-11-08T11:33:30.926535Z",
     "iopub.status.busy": "2022-11-08T11:33:30.926261Z",
     "iopub.status.idle": "2022-11-08T11:33:30.947153Z",
     "shell.execute_reply": "2022-11-08T11:33:30.946532Z",
     "shell.execute_reply.started": "2022-11-08T11:33:30.926522Z"
    },
    "tags": []
   },
   "outputs": [],
   "source": [
    "idx = idx.to_frame(index=False)\n",
    "idx.partition = idx.partition.str.upper()\n",
    "idx = idx.set_index(names).index"
   ]
  },
  {
   "cell_type": "code",
   "execution_count": null,
   "id": "58d8c19d-35fd-481d-a4ae-b9ac5a42acd6",
   "metadata": {
    "execution": {
     "iopub.execute_input": "2022-11-08T11:41:52.010325Z",
     "iopub.status.busy": "2022-11-08T11:41:52.009843Z",
     "iopub.status.idle": "2022-11-08T11:41:52.254185Z",
     "shell.execute_reply": "2022-11-08T11:41:52.253766Z",
     "shell.execute_reply.started": "2022-11-08T11:41:52.010293Z"
    },
    "tags": []
   },
   "outputs": [],
   "source": [
    "T = idx.to_frame()\n",
    "mask = T[partition].str.lower().isin(train_patterns)\n",
    "train_folds = T[mask].copy()\n",
    "train_folds = train_folds.drop(columns=names)\n",
    "train_folds[\"key\"] = list(T[mask].index)\n",
    "if train_folds.index.nlevels > 1:\n",
    "    train_folds = train_folds.droplevel(-1)\n",
    "T = T.drop(columns=names)\n",
    "T = train_folds.join(T, how=\"left\")[\"key\"]"
   ]
  },
  {
   "cell_type": "code",
   "execution_count": null,
   "id": "e025043a-ac01-47aa-93c2-8749f5112d54",
   "metadata": {
    "execution": {
     "iopub.execute_input": "2022-11-08T11:36:12.168763Z",
     "iopub.status.busy": "2022-11-08T11:36:12.168199Z",
     "iopub.status.idle": "2022-11-08T11:36:12.219345Z",
     "shell.execute_reply": "2022-11-08T11:36:12.218268Z",
     "shell.execute_reply.started": "2022-11-08T11:36:12.168731Z"
    },
    "tags": []
   },
   "outputs": [],
   "source": []
  },
  {
   "cell_type": "code",
   "execution_count": null,
   "id": "0ce9bb94-12e2-44ca-a762-27c706d41064",
   "metadata": {
    "execution": {
     "iopub.execute_input": "2022-11-08T11:36:08.556253Z",
     "iopub.status.busy": "2022-11-08T11:36:08.555675Z",
     "iopub.status.idle": "2022-11-08T11:36:08.604716Z",
     "shell.execute_reply": "2022-11-08T11:36:08.603954Z",
     "shell.execute_reply.started": "2022-11-08T11:36:08.556229Z"
    },
    "tags": []
   },
   "outputs": [],
   "source": [
    "result = T.to_dict()"
   ]
  },
  {
   "cell_type": "code",
   "execution_count": null,
   "id": "b984ac1a-8a8c-4df7-9616-620888ab634b",
   "metadata": {
    "execution": {
     "iopub.execute_input": "2022-11-08T11:34:37.807011Z",
     "iopub.status.busy": "2022-11-08T11:34:37.806428Z",
     "iopub.status.idle": "2022-11-08T11:34:37.895794Z",
     "shell.execute_reply": "2022-11-08T11:34:37.895154Z",
     "shell.execute_reply.started": "2022-11-08T11:34:37.806986Z"
    },
    "tags": []
   },
   "outputs": [],
   "source": []
  },
  {
   "cell_type": "code",
   "execution_count": null,
   "id": "146ed130-4597-415a-b40b-bc4d78432885",
   "metadata": {},
   "outputs": [],
   "source": []
  },
  {
   "cell_type": "code",
   "execution_count": null,
   "id": "31d5f758-2abc-42a2-a949-26e12e18a5b2",
   "metadata": {},
   "outputs": [],
   "source": []
  },
  {
   "cell_type": "code",
   "execution_count": null,
   "id": "5eba50ad-ee6f-4c80-a5c9-338369f44a77",
   "metadata": {},
   "outputs": [],
   "source": []
  },
  {
   "cell_type": "code",
   "execution_count": null,
   "id": "da843ecc-a50b-47a8-ba09-189b6d46f5cc",
   "metadata": {},
   "outputs": [],
   "source": []
  },
  {
   "cell_type": "code",
   "execution_count": null,
   "id": "324cd6a7-41f9-411c-8979-cd28d7211206",
   "metadata": {
    "execution": {
     "iopub.execute_input": "2022-11-07T00:35:42.643209Z",
     "iopub.status.busy": "2022-11-07T00:35:42.642724Z",
     "iopub.status.idle": "2022-11-07T00:35:42.647974Z",
     "shell.execute_reply": "2022-11-07T00:35:42.647382Z",
     "shell.execute_reply.started": "2022-11-07T00:35:42.643183Z"
    },
    "tags": []
   },
   "outputs": [],
   "source": [
    "?torch.nn.Module.forward"
   ]
  },
  {
   "cell_type": "code",
   "execution_count": null,
   "id": "ac4bc832-8ad2-4b59-ab55-b17d9a0e92cf",
   "metadata": {
    "execution": {
     "iopub.execute_input": "2022-11-03T18:52:21.098992Z",
     "iopub.status.busy": "2022-11-03T18:52:21.098647Z",
     "iopub.status.idle": "2022-11-03T18:52:23.295767Z",
     "shell.execute_reply": "2022-11-03T18:52:23.294832Z",
     "shell.execute_reply.started": "2022-11-03T18:52:21.098944Z"
    },
    "tags": []
   },
   "outputs": [],
   "source": [
    "import tsdm\n",
    "from tsdm.utils.decorators import timefun"
   ]
  },
  {
   "cell_type": "code",
   "execution_count": null,
   "id": "7f2f073f-8b7a-4779-8181-88b373635606",
   "metadata": {
    "execution": {
     "iopub.execute_input": "2022-11-03T18:52:23.299440Z",
     "iopub.status.busy": "2022-11-03T18:52:23.299254Z",
     "iopub.status.idle": "2022-11-03T18:52:23.303215Z",
     "shell.execute_reply": "2022-11-03T18:52:23.302528Z",
     "shell.execute_reply.started": "2022-11-03T18:52:23.299422Z"
    },
    "tags": []
   },
   "outputs": [],
   "source": [
    "ds = tsdm.datasets.InSilicoData(initialize=False);"
   ]
  },
  {
   "cell_type": "code",
   "execution_count": null,
   "id": "65c6de5d-8c35-493a-acbe-9615b5f43234",
   "metadata": {
    "execution": {
     "iopub.execute_input": "2022-11-03T18:52:31.198394Z",
     "iopub.status.busy": "2022-11-03T18:52:31.198158Z",
     "iopub.status.idle": "2022-11-03T18:52:31.327211Z",
     "shell.execute_reply": "2022-11-03T18:52:31.326641Z",
     "shell.execute_reply.started": "2022-11-03T18:52:31.198380Z"
    },
    "tags": []
   },
   "outputs": [],
   "source": [
    "_, pre_cache_time = timefun(lambda: ds.dataset, append=True)()"
   ]
  },
  {
   "cell_type": "code",
   "execution_count": null,
   "id": "65f2dd0d-73eb-4e79-8993-3349df57716c",
   "metadata": {
    "execution": {
     "iopub.execute_input": "2022-11-03T18:44:49.980315Z",
     "iopub.status.busy": "2022-11-03T18:44:49.979716Z",
     "iopub.status.idle": "2022-11-03T18:44:50.349266Z",
     "shell.execute_reply": "2022-11-03T18:44:50.348434Z",
     "shell.execute_reply.started": "2022-11-03T18:44:49.980291Z"
    },
    "tags": []
   },
   "outputs": [],
   "source": [
    "ds = tsdm.datasets.Electricity().dataset"
   ]
  },
  {
   "cell_type": "code",
   "execution_count": null,
   "id": "0b841236-ef61-4d3b-af61-8e45447534a6",
   "metadata": {
    "execution": {
     "iopub.execute_input": "2022-11-03T18:18:30.792465Z",
     "iopub.status.busy": "2022-11-03T18:18:30.791355Z",
     "iopub.status.idle": "2022-11-03T18:18:37.975598Z",
     "shell.execute_reply": "2022-11-03T18:18:37.975072Z",
     "shell.execute_reply.started": "2022-11-03T18:18:30.792416Z"
    }
   },
   "outputs": [],
   "source": [
    "%time\n",
    "ds = tsdm.datasets.Electricity(initialize=False);"
   ]
  },
  {
   "cell_type": "code",
   "execution_count": null,
   "id": "0ef9038a-5578-4309-abb6-57787581c608",
   "metadata": {},
   "outputs": [],
   "source": [
    "from typing import NamedTuple"
   ]
  },
  {
   "cell_type": "code",
   "execution_count": null,
   "id": "9f8a9f8b-4334-458c-b0da-be796740f288",
   "metadata": {},
   "outputs": [],
   "source": [
    "class Foo(NamedTuple):\n",
    "    a: float\n",
    "    b: int\n",
    "\n",
    "\n",
    "tuple([1, 2, 3])"
   ]
  },
  {
   "cell_type": "code",
   "execution_count": null,
   "id": "94ce3282",
   "metadata": {
    "pycharm": {
     "is_executing": true,
     "name": "#%%\n"
    }
   },
   "outputs": [],
   "source": [
    "a = 1"
   ]
  },
  {
   "cell_type": "code",
   "execution_count": null,
   "id": "0e7e7a3f",
   "metadata": {
    "pycharm": {
     "name": "#%%\n"
    }
   },
   "outputs": [],
   "source": [
    "import encoders"
   ]
  },
  {
   "cell_type": "code",
   "execution_count": null,
   "id": "141c3e49",
   "metadata": {
    "pycharm": {
     "name": "#%%\n"
    }
   },
   "outputs": [],
   "source": [
    "import sys\n",
    "\n",
    "sys.path"
   ]
  },
  {
   "cell_type": "code",
   "execution_count": null,
   "id": "8c639a93",
   "metadata": {
    "pycharm": {
     "name": "#%%\n"
    }
   },
   "outputs": [],
   "source": [
    "import tsdm"
   ]
  },
  {
   "cell_type": "code",
   "execution_count": null,
   "id": "8c1a63b9",
   "metadata": {
    "pycharm": {
     "name": "#%%\n"
    }
   },
   "outputs": [],
   "source": [
    "encoders.__path__"
   ]
  },
  {
   "cell_type": "code",
   "execution_count": null,
   "id": "d763b7e3",
   "metadata": {
    "pycharm": {
     "name": "#%%\n"
    }
   },
   "outputs": [],
   "source": [
    "import tsdm"
   ]
  },
  {
   "cell_type": "code",
   "execution_count": null,
   "id": "e8af615e",
   "metadata": {
    "pycharm": {
     "name": "#%%\n"
    }
   },
   "outputs": [],
   "source": [
    "dir(tsdm)"
   ]
  },
  {
   "cell_type": "code",
   "execution_count": null,
   "id": "4cd4fcff-3d1b-45e5-8a41-06a82af3750f",
   "metadata": {
    "pycharm": {
     "name": "#%%\n"
    },
    "tags": []
   },
   "outputs": [],
   "source": [
    "import tsdm\n",
    "import pandas as pd"
   ]
  },
  {
   "cell_type": "code",
   "execution_count": null,
   "id": "bd082c85-2dd8-440f-891d-9c208cc9de43",
   "metadata": {
    "pycharm": {
     "name": "#%%\n"
    }
   },
   "outputs": [],
   "source": [
    "DS = tsdm.datasets.USHCN_SmallChunkedSporadic()"
   ]
  },
  {
   "cell_type": "code",
   "execution_count": null,
   "id": "1bef2043-78a2-491f-bd2a-407a235fa50d",
   "metadata": {
    "pycharm": {
     "name": "#%%\n"
    }
   },
   "outputs": [],
   "source": [
    "DS.dataset.sort_index(level=\"Time\")"
   ]
  },
  {
   "cell_type": "code",
   "execution_count": null,
   "id": "9f3600ab-dd25-4742-a380-4a54ec3ab59f",
   "metadata": {
    "pycharm": {
     "name": "#%%\n"
    }
   },
   "outputs": [],
   "source": [
    "dtypes = {\n",
    "    \"ID\": \"int16\",\n",
    "    \"Time\": \"float32\",\n",
    "    \"Value_0\": \"float32\",\n",
    "    \"Value_1\": \"float32\",\n",
    "    \"Value_2\": \"float32\",\n",
    "    \"Value_3\": \"float32\",\n",
    "    \"Value_4\": \"float32\",\n",
    "    \"Mask_0\": \"bool\",\n",
    "    \"Mask_1\": \"bool\",\n",
    "    \"Mask_2\": \"bool\",\n",
    "    \"Mask_3\": \"bool\",\n",
    "    \"Mask_4\": \"bool\",\n",
    "}\n",
    "df = pd.read_csv(PTH, dtype=dtypes)\n",
    "df = pd.DataFrame(df)"
   ]
  },
  {
   "cell_type": "code",
   "execution_count": null,
   "id": "b0b48166-42bf-4284-9cd0-e9cf07359065",
   "metadata": {
    "pycharm": {
     "name": "#%%\n"
    }
   },
   "outputs": [],
   "source": [
    "l = []\n",
    "for k in range(5):\n",
    "    key = f\"CH_{k}\"\n",
    "    l.append(key)\n",
    "    df[key] = df[f\"Value_{k}\"].where(df[f\"Mask_{k}\"])\n",
    "\n",
    "df = df[[\"ID\", \"Time\", *l]].sort_values([\"ID\", \"Time\"])"
   ]
  },
  {
   "cell_type": "code",
   "execution_count": null,
   "id": "0ebc1fb4-5bdf-4708-aff3-fecf6e4627fe",
   "metadata": {
    "pycharm": {
     "name": "#%%\n"
    }
   },
   "outputs": [],
   "source": [
    "df = df.set_index([\"ID\", \"Time\"])"
   ]
  },
  {
   "cell_type": "code",
   "execution_count": null,
   "id": "42fe2287-dc6a-4b1d-8896-d3795886e32a",
   "metadata": {
    "pycharm": {
     "name": "#%%\n"
    }
   },
   "outputs": [],
   "source": [
    "df.dtypes"
   ]
  },
  {
   "cell_type": "code",
   "execution_count": null,
   "id": "4ba7f210-a33a-4976-a259-30e1f1033791",
   "metadata": {
    "pycharm": {
     "name": "#%%\n"
    }
   },
   "outputs": [],
   "source": [
    "ts.Value_0.where(ts.Mask_0)"
   ]
  },
  {
   "cell_type": "code",
   "execution_count": null,
   "id": "ba68a191-dd8f-4083-8620-0072359416de",
   "metadata": {
    "pycharm": {
     "name": "#%%\n"
    }
   },
   "outputs": [],
   "source": []
  },
  {
   "cell_type": "code",
   "execution_count": null,
   "id": "ad22187c-d626-483d-8f02-29320a389634",
   "metadata": {
    "pycharm": {
     "name": "#%%\n"
    }
   },
   "outputs": [],
   "source": []
  },
  {
   "cell_type": "code",
   "execution_count": null,
   "id": "e5dd8e15-443a-4aec-8a88-d6bd7a24aa8e",
   "metadata": {
    "pycharm": {
     "name": "#%%\n"
    }
   },
   "outputs": [],
   "source": [
    "ts[\"ID\"].nunique()"
   ]
  },
  {
   "cell_type": "code",
   "execution_count": null,
   "id": "61ee46cd-4ce9-42f1-b500-7b4cb9653d6b",
   "metadata": {
    "pycharm": {
     "name": "#%%\n"
    }
   },
   "outputs": [],
   "source": [
    "ds = tsdm.datasets.USHCN()"
   ]
  },
  {
   "cell_type": "code",
   "execution_count": null,
   "id": "2f86a6f1-8e88-4a41-8dce-e87e1b884f89",
   "metadata": {
    "pycharm": {
     "name": "#%%\n"
    }
   },
   "outputs": [],
   "source": [
    "from tsdm.encoders import TripletDecoder"
   ]
  },
  {
   "cell_type": "code",
   "execution_count": null,
   "id": "47909d64-5a07-4827-b09d-1b2a7ec4035f",
   "metadata": {
    "pycharm": {
     "name": "#%%\n"
    }
   },
   "outputs": [],
   "source": [
    "ts = ds.us_daily[[\"VALUE\", \"ELEMENT\"]]"
   ]
  },
  {
   "cell_type": "code",
   "execution_count": null,
   "id": "bdc1c5d4-8f13-487b-9246-55f0e71e5176",
   "metadata": {
    "pycharm": {
     "name": "#%%\n"
    }
   },
   "outputs": [],
   "source": [
    "enc = TripletDecoder(value_name=\"VALUE\", var_name=\"ELEMENT\")\n",
    "enc.fit(ts)"
   ]
  },
  {
   "cell_type": "code",
   "execution_count": null,
   "id": "0d4a1d61-429e-4695-bb23-0be16e9f450c",
   "metadata": {
    "pycharm": {
     "name": "#%%\n"
    }
   },
   "outputs": [],
   "source": [
    "import modin.pandas as mpd"
   ]
  },
  {
   "cell_type": "code",
   "execution_count": null,
   "id": "9ad451f9-1408-4da5-9adc-f72a7fe8b54d",
   "metadata": {
    "pycharm": {
     "name": "#%%\n"
    }
   },
   "outputs": [],
   "source": [
    "ts = mpd.DataFrame(ts)"
   ]
  },
  {
   "cell_type": "code",
   "execution_count": null,
   "id": "777458bb-2d8e-4efc-b268-49dcf6d3a6f0",
   "metadata": {
    "pycharm": {
     "name": "#%%\n"
    }
   },
   "outputs": [],
   "source": [
    "s = ts[:1000].reset_index()"
   ]
  },
  {
   "cell_type": "code",
   "execution_count": null,
   "id": "bbe6a566-039f-487b-a88d-3a69a1b74143",
   "metadata": {
    "pycharm": {
     "name": "#%%\n"
    }
   },
   "outputs": [],
   "source": [
    "type(ts)"
   ]
  },
  {
   "cell_type": "code",
   "execution_count": null,
   "id": "9bee601b-ee00-4037-bfa3-79a4c4392f77",
   "metadata": {
    "pycharm": {
     "name": "#%%\n"
    }
   },
   "outputs": [],
   "source": [
    "ts.reset_index().groupby([\"COOP_ID\", \"time\", \"ELEMENT\"])[\"VALUE\"].aggregate(\n",
    "    \"mean\"\n",
    ").unstack()"
   ]
  },
  {
   "cell_type": "code",
   "execution_count": null,
   "id": "cbbd9e03-8ac5-4c57-b452-e47026920f61",
   "metadata": {
    "pycharm": {
     "name": "#%%\n"
    }
   },
   "outputs": [],
   "source": []
  },
  {
   "cell_type": "code",
   "execution_count": null,
   "id": "bf33a3dd-7850-4d5a-8332-61dceaa4d797",
   "metadata": {
    "pycharm": {
     "name": "#%%\n"
    }
   },
   "outputs": [],
   "source": [
    "l = []\n",
    "\n",
    "for value in ts.ELEMENT.unique():\n",
    "    print(value)\n",
    "    mask = ts.ELEMENT == value\n",
    "    l.append(ts.VALUE[mask])"
   ]
  },
  {
   "cell_type": "code",
   "execution_count": null,
   "id": "9f714d70-89d8-4e09-9e51-973ffd654b4e",
   "metadata": {
    "pycharm": {
     "name": "#%%\n"
    }
   },
   "outputs": [],
   "source": [
    "ts.pivot(columns=\"ELEMENT\", values=\"VALUE\")"
   ]
  },
  {
   "cell_type": "code",
   "execution_count": null,
   "id": "fb3141ea-1ec9-4585-8c22-7ade249123a5",
   "metadata": {
    "pycharm": {
     "name": "#%%\n"
    }
   },
   "outputs": [],
   "source": []
  }
 ],
 "metadata": {
  "kernelspec": {
   "display_name": "Python 3 (ipykernel)",
   "language": "python",
   "name": "python3"
  },
  "language_info": {
   "codemirror_mode": {
    "name": "ipython",
    "version": 3
   },
   "file_extension": ".py",
   "mimetype": "text/x-python",
   "name": "python",
   "nbconvert_exporter": "python",
   "pygments_lexer": "ipython3",
   "version": "3.10.6"
  }
 },
 "nbformat": 4,
 "nbformat_minor": 5
}
