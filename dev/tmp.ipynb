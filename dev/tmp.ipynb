{
 "cells": [
  {
   "cell_type": "code",
   "execution_count": null,
   "id": "07574fc2-760a-4459-a90a-1c96de12484a",
   "metadata": {
    "execution": {
     "iopub.execute_input": "2023-06-26T16:48:39.588569Z",
     "iopub.status.busy": "2023-06-26T16:48:39.588117Z",
     "iopub.status.idle": "2023-06-26T16:48:39.931584Z",
     "shell.execute_reply": "2023-06-26T16:48:39.931084Z",
     "shell.execute_reply.started": "2023-06-26T16:48:39.588527Z"
    },
    "tags": []
   },
   "outputs": [],
   "source": [
    "%config InteractiveShell.ast_node_interactivity='last_expr_or_assign'  # always print last expr.\n",
    "%config InlineBackend.figure_format = 'svg'\n",
    "%load_ext autoreload\n",
    "%autoreload 2\n",
    "%matplotlib inline\n",
    "\n",
    "import logging\n",
    "\n",
    "logging.basicConfig(level=logging.INFO)"
   ]
  },
  {
   "cell_type": "code",
   "execution_count": null,
   "id": "1116df29-5f75-4e57-afe6-18299a11a654",
   "metadata": {
    "execution": {
     "iopub.execute_input": "2023-06-26T16:48:39.937792Z",
     "iopub.status.busy": "2023-06-26T16:48:39.937668Z",
     "iopub.status.idle": "2023-06-26T16:48:43.048364Z",
     "shell.execute_reply": "2023-06-26T16:48:43.047736Z",
     "shell.execute_reply.started": "2023-06-26T16:48:39.937778Z"
    }
   },
   "outputs": [],
   "source": [
    "import numpy as np\n",
    "import pandas as pd\n",
    "import torch\n",
    "from pytest import mark, skip\n",
    "\n",
    "from tsdm.encoders.numerical import (\n",
    "    BoundaryEncoder,\n",
    "    LinearScaler,\n",
    "    MinMaxScaler,\n",
    "    StandardScaler,\n",
    "    get_broadcast,\n",
    "    get_reduced_axes,\n",
    ")\n",
    "\n",
    "logging.basicConfig(level=logging.INFO)\n",
    "__logger__ = logging.getLogger(__name__)"
   ]
  },
  {
   "cell_type": "code",
   "execution_count": null,
   "id": "aaf0d52e-5c25-4fc2-9d5f-a89cef1abc48",
   "metadata": {
    "execution": {
     "iopub.execute_input": "2023-06-26T16:48:43.049830Z",
     "iopub.status.busy": "2023-06-26T16:48:43.049290Z",
     "iopub.status.idle": "2023-06-26T16:48:43.111807Z",
     "shell.execute_reply": "2023-06-26T16:48:43.111363Z",
     "shell.execute_reply.started": "2023-06-26T16:48:43.049791Z"
    }
   },
   "outputs": [],
   "source": [
    "X = pd.DataFrame(np.random.rand(5, 3), columns=[\"a\", \"b\", \"c\"])\n",
    "encoder = StandardScaler(axis=-1)\n",
    "encoder.fit(X)\n",
    "encoded = encoder.encode(X)"
   ]
  },
  {
   "cell_type": "code",
   "execution_count": null,
   "id": "ca04de94-706f-491a-b4ba-8faef020b25c",
   "metadata": {
    "execution": {
     "iopub.execute_input": "2023-06-26T16:53:29.660894Z",
     "iopub.status.busy": "2023-06-26T16:53:29.660216Z",
     "iopub.status.idle": "2023-06-26T16:53:29.720317Z",
     "shell.execute_reply": "2023-06-26T16:53:29.719699Z",
     "shell.execute_reply.started": "2023-06-26T16:53:29.660844Z"
    }
   },
   "outputs": [],
   "source": [
    "Encoder = StandardScaler\n",
    "\n",
    "X = pd.DataFrame(np.random.rand(5, 3), columns=[\"a\", \"b\", \"c\"])\n",
    "encoder = Encoder()\n",
    "\n",
    "# validate fitting\n",
    "encoder.fit(X)\n",
    "assert encoder.params[0].shape == (3,), f\"{encoder.params}\"\n",
    "\n",
    "# validate encoding\n",
    "encoded = encoder.encode(X)\n",
    "assert (\n",
    "    isinstance(encoded, pd.DataFrame)\n",
    "    and encoded.shape == X.shape\n",
    "    and encoded.columns.equals(X.columns)\n",
    "    and encoded.index.equals(X.index)\n",
    ")\n",
    "if Encoder is MinMaxScaler:\n",
    "    assert all(encoded.min() >= 0.0)\n",
    "    assert all(encoded.max() <= 1.0)\n",
    "if Encoder is StandardScaler:\n",
    "    assert np.allclose(encoded.mean(), 0.0)\n",
    "    assert np.allclose(encoded.std(ddof=0), 1.0)\n",
    "\n",
    "# validate decoding\n",
    "decoded = encoder.decode(encoded)\n",
    "pd.testing.assert_frame_equal(X, decoded)\n",
    "assert np.allclose(X, decoded)"
   ]
  },
  {
   "cell_type": "code",
   "execution_count": null,
   "id": "640f8ab5-f483-4ab3-b34d-8e3859c24768",
   "metadata": {
    "execution": {
     "iopub.execute_input": "2023-06-26T16:54:26.457749Z",
     "iopub.status.busy": "2023-06-26T16:54:26.457267Z",
     "iopub.status.idle": "2023-06-26T16:54:26.498652Z",
     "shell.execute_reply": "2023-06-26T16:54:26.498190Z",
     "shell.execute_reply.started": "2023-06-26T16:54:26.457706Z"
    }
   },
   "outputs": [],
   "source": [
    "np.std(X)"
   ]
  },
  {
   "cell_type": "code",
   "execution_count": null,
   "id": "2ac15d59-87df-409a-aff6-35ec64798b7e",
   "metadata": {},
   "outputs": [],
   "source": []
  },
  {
   "cell_type": "code",
   "execution_count": null,
   "id": "75381822-ab55-4c93-a9ca-51c052918733",
   "metadata": {
    "execution": {
     "iopub.execute_input": "2023-06-26T16:53:56.283848Z",
     "iopub.status.busy": "2023-06-26T16:53:56.283639Z",
     "iopub.status.idle": "2023-06-26T16:53:56.326032Z",
     "shell.execute_reply": "2023-06-26T16:53:56.325692Z",
     "shell.execute_reply.started": "2023-06-26T16:53:56.283835Z"
    }
   },
   "outputs": [],
   "source": [
    "encoder.stdv == X.std(ddof=0)"
   ]
  },
  {
   "cell_type": "code",
   "execution_count": null,
   "id": "bea24499-a592-4eec-8f06-7b92aed1562f",
   "metadata": {
    "execution": {
     "iopub.execute_input": "2023-06-26T16:53:34.123155Z",
     "iopub.status.busy": "2023-06-26T16:53:34.121557Z",
     "iopub.status.idle": "2023-06-26T16:53:34.163566Z",
     "shell.execute_reply": "2023-06-26T16:53:34.163105Z",
     "shell.execute_reply.started": "2023-06-26T16:53:34.123133Z"
    }
   },
   "outputs": [],
   "source": [
    "encoded"
   ]
  },
  {
   "cell_type": "code",
   "execution_count": null,
   "id": "85cc1425-6956-405d-9ada-311ec4f088d8",
   "metadata": {
    "execution": {
     "iopub.execute_input": "2023-06-26T16:53:06.124033Z",
     "iopub.status.busy": "2023-06-26T16:53:06.123787Z",
     "iopub.status.idle": "2023-06-26T16:53:06.179703Z",
     "shell.execute_reply": "2023-06-26T16:53:06.179088Z",
     "shell.execute_reply.started": "2023-06-26T16:53:06.124002Z"
    }
   },
   "outputs": [],
   "source": [
    "m = np.mean(X, axis=0)\n",
    "np.sqrt(np.nanmean((X - m) ** 2, axis=0))"
   ]
  },
  {
   "cell_type": "code",
   "execution_count": null,
   "id": "48e442fd-33e6-40a1-ade8-d7a96ead24f9",
   "metadata": {
    "execution": {
     "iopub.execute_input": "2023-06-26T16:52:50.451315Z",
     "iopub.status.busy": "2023-06-26T16:52:50.451036Z",
     "iopub.status.idle": "2023-06-26T16:52:50.491142Z",
     "shell.execute_reply": "2023-06-26T16:52:50.490752Z",
     "shell.execute_reply.started": "2023-06-26T16:52:50.451299Z"
    }
   },
   "outputs": [],
   "source": [
    "np.std(X, axis=0)"
   ]
  },
  {
   "cell_type": "code",
   "execution_count": null,
   "id": "4f319f39-8c78-483f-abe9-674d07c5875b",
   "metadata": {
    "execution": {
     "iopub.execute_input": "2023-06-26T16:49:26.438996Z",
     "iopub.status.busy": "2023-06-26T16:49:26.438558Z",
     "iopub.status.idle": "2023-06-26T16:49:26.478672Z",
     "shell.execute_reply": "2023-06-26T16:49:26.478160Z",
     "shell.execute_reply.started": "2023-06-26T16:49:26.438969Z"
    }
   },
   "outputs": [],
   "source": [
    "encoded.std(ddof=0)"
   ]
  },
  {
   "cell_type": "code",
   "execution_count": null,
   "id": "58b0587a-4467-46ef-b123-dc2690356028",
   "metadata": {},
   "outputs": [],
   "source": []
  },
  {
   "cell_type": "code",
   "execution_count": null,
   "id": "9d7f70e3-0a5d-49b4-a1e6-0734adb48a01",
   "metadata": {
    "execution": {
     "iopub.execute_input": "2023-06-26T16:42:33.893094Z",
     "iopub.status.busy": "2023-06-26T16:42:33.892532Z",
     "iopub.status.idle": "2023-06-26T16:42:33.934431Z",
     "shell.execute_reply": "2023-06-26T16:42:33.934107Z",
     "shell.execute_reply.started": "2023-06-26T16:42:33.893076Z"
    }
   },
   "outputs": [],
   "source": [
    "x = torch.tensor([1,2,3, 4.5, float(\"nan\")])"
   ]
  },
  {
   "cell_type": "code",
   "execution_count": null,
   "id": "895793fc-10f2-4b98-b60d-082113f783ff",
   "metadata": {
    "execution": {
     "iopub.execute_input": "2023-06-26T16:46:24.346487Z",
     "iopub.status.busy": "2023-06-26T16:46:24.345645Z",
     "iopub.status.idle": "2023-06-26T16:46:24.386281Z",
     "shell.execute_reply": "2023-06-26T16:46:24.385940Z",
     "shell.execute_reply.started": "2023-06-26T16:46:24.346467Z"
    }
   },
   "outputs": [],
   "source": [
    "np.array([1,2,3])[:, None]"
   ]
  },
  {
   "cell_type": "code",
   "execution_count": null,
   "id": "f3955889-39da-4343-aa37-1e5641a06761",
   "metadata": {
    "execution": {
     "iopub.execute_input": "2023-06-26T16:04:50.642686Z",
     "iopub.status.busy": "2023-06-26T16:04:50.642437Z",
     "iopub.status.idle": "2023-06-26T16:04:50.710845Z",
     "shell.execute_reply": "2023-06-26T16:04:50.709992Z",
     "shell.execute_reply.started": "2023-06-26T16:04:50.642673Z"
    }
   },
   "outputs": [],
   "source": [
    "X = pd.Series([-1.0, 1.2, 2.7, 3.0], name=\"foo\")\n",
    "encoder = Encoder()\n",
    "\n",
    "# validate fitting\n",
    "encoder.fit(X)\n",
    "assert encoder.params[0].shape == (), f\"{encoder.params}\"\n",
    "\n",
    "# validate encoding\n",
    "encoded = encoder.encode(X)\n",
    "assert (\n",
    "    isinstance(encoded, pd.Series)\n",
    "    and encoded.shape == X.shape\n",
    "    and encoded.name == X.name\n",
    "    and encoded.index.equals(X.index)\n",
    ")\n",
    "if Encoder is MinMaxScaler:\n",
    "    assert all(encoded.min() >= 0.0)\n",
    "    assert all(encoded.max() <= 1.0)\n",
    "if Encoder is StandardScaler:\n",
    "    assert np.allclose(encoded.mean(), 0.0)\n",
    "    assert np.allclose(encoded.std(ddof=0), 1.0)\n",
    "\n",
    "# validate decoding\n",
    "decoded = encoder.decode(encoded)\n",
    "pd.testing.assert_series_equal(X, decoded)\n",
    "assert np.allclose(X, decoded)"
   ]
  },
  {
   "cell_type": "code",
   "execution_count": null,
   "id": "5fc80c50-22a9-4bdf-986e-16149c63b9f4",
   "metadata": {},
   "outputs": [],
   "source": []
  },
  {
   "cell_type": "code",
   "execution_count": null,
   "id": "b3d428d8-f58e-4d87-a829-49cc68fff969",
   "metadata": {},
   "outputs": [],
   "source": []
  },
  {
   "cell_type": "code",
   "execution_count": null,
   "id": "e064a349-1e16-4a28-9d90-6e519a2af7f4",
   "metadata": {
    "execution": {
     "iopub.status.busy": "2023-06-26T16:01:34.053269Z",
     "iopub.status.idle": "2023-06-26T16:01:34.053499Z",
     "shell.execute_reply": "2023-06-26T16:01:34.053412Z",
     "shell.execute_reply.started": "2023-06-26T16:01:34.053400Z"
    }
   },
   "outputs": [],
   "source": [
    "s = pd.Series(np.arange(5) * np.timedelta64(1, \"s\"))"
   ]
  },
  {
   "cell_type": "code",
   "execution_count": null,
   "id": "01b2934d-73e6-4514-a000-0e08448f8815",
   "metadata": {
    "execution": {
     "iopub.status.busy": "2023-06-26T16:01:34.054848Z",
     "iopub.status.idle": "2023-06-26T16:01:34.054997Z",
     "shell.execute_reply": "2023-06-26T16:01:34.054934Z",
     "shell.execute_reply.started": "2023-06-26T16:01:34.054925Z"
    }
   },
   "outputs": [],
   "source": [
    "s / s"
   ]
  },
  {
   "cell_type": "code",
   "execution_count": null,
   "id": "8adeda9f-f931-4e44-b84c-5a23c8307497",
   "metadata": {},
   "outputs": [],
   "source": []
  },
  {
   "cell_type": "code",
   "execution_count": null,
   "id": "63be4879-a6b0-4218-8d86-cc011da6429e",
   "metadata": {
    "execution": {
     "iopub.status.busy": "2023-06-26T16:01:34.055531Z",
     "iopub.status.idle": "2023-06-26T16:01:34.055656Z",
     "shell.execute_reply": "2023-06-26T16:01:34.055600Z",
     "shell.execute_reply.started": "2023-06-26T16:01:34.055594Z"
    }
   },
   "outputs": [],
   "source": [
    "s = pd.Series(5, range(int(1e6)))\n",
    "\n",
    "%timeit s.div(s).fillna(1)"
   ]
  },
  {
   "cell_type": "code",
   "execution_count": null,
   "id": "cbe76d94-da84-4c3b-8c3f-cba4c60270ec",
   "metadata": {
    "execution": {
     "iopub.status.busy": "2023-06-26T16:01:34.056096Z",
     "iopub.status.idle": "2023-06-26T16:01:34.056279Z",
     "shell.execute_reply": "2023-06-26T16:01:34.056215Z",
     "shell.execute_reply.started": "2023-06-26T16:01:34.056207Z"
    }
   },
   "outputs": [],
   "source": [
    "%timeit s.pow(0)"
   ]
  },
  {
   "cell_type": "code",
   "execution_count": null,
   "id": "8a316da8-82b4-4336-a87e-118d8f415054",
   "metadata": {
    "execution": {
     "iopub.status.busy": "2023-06-26T16:01:34.056879Z",
     "iopub.status.idle": "2023-06-26T16:01:34.057067Z",
     "shell.execute_reply": "2023-06-26T16:01:34.057004Z",
     "shell.execute_reply.started": "2023-06-26T16:01:34.056997Z"
    }
   },
   "outputs": [],
   "source": [
    "np.array(-1)**0"
   ]
  },
  {
   "cell_type": "code",
   "execution_count": null,
   "id": "f23be582-7d40-4346-abbf-51f20a1422a6",
   "metadata": {
    "execution": {
     "iopub.status.busy": "2023-06-26T16:01:34.057508Z",
     "iopub.status.idle": "2023-06-26T16:01:34.057636Z",
     "shell.execute_reply": "2023-06-26T16:01:34.057576Z",
     "shell.execute_reply.started": "2023-06-26T16:01:34.057570Z"
    }
   },
   "outputs": [],
   "source": [
    "np.array(float(\"nan\"))**0"
   ]
  },
  {
   "cell_type": "code",
   "execution_count": null,
   "id": "13338a65-973a-4638-a22e-6cbe16b10170",
   "metadata": {
    "execution": {
     "iopub.status.busy": "2023-06-26T16:01:34.058254Z",
     "iopub.status.idle": "2023-06-26T16:01:34.058388Z",
     "shell.execute_reply": "2023-06-26T16:01:34.058335Z",
     "shell.execute_reply.started": "2023-06-26T16:01:34.058329Z"
    }
   },
   "outputs": [],
   "source": [
    "X = pd.Series([-1.0, 1.2, 2.7, 3.0], name=\"foo\")\n",
    "encoder = Encoder(axis=-1)\n",
    "encoder.fit(X)\n",
    "encoded = encoder.encode(X)\n",
    "assert (\n",
    "    isinstance(encoded, pd.Series)\n",
    "    and encoded.shape == X.shape\n",
    "    and encoded.name == X.name\n",
    "    and encoded.index.equals(X.index)\n",
    ")\n",
    "decoded = encoder.decode(encoded)\n",
    "pd.testing.assert_series_equal(X, decoded)\n",
    "assert np.allclose(X, decoded)\n",
    "assert encoder.params[0].shape == (3,), f\"{encoder.params}\"\n",
    "\n",
    "if Encoder is MinMaxScaler:\n",
    "    assert all(encoded.min() >= 0.0)\n",
    "    assert all(encoded.max() <= 1.0)\n",
    "if Encoder is StandardScaler:\n",
    "    assert np.allclose(encoded.mean(), 0.0)\n",
    "    assert np.allclose(encoded.std(ddof=0), 1.0)"
   ]
  },
  {
   "cell_type": "code",
   "execution_count": null,
   "id": "5919f305-e6d5-411e-a1a3-ea166049a061",
   "metadata": {},
   "outputs": [],
   "source": []
  },
  {
   "cell_type": "code",
   "execution_count": null,
   "id": "f28e7f62-aca6-4f69-9f24-ec1309c1b296",
   "metadata": {},
   "outputs": [],
   "source": []
  },
  {
   "cell_type": "code",
   "execution_count": null,
   "id": "e8599dc5-1a11-4b88-8833-831a84870055",
   "metadata": {},
   "outputs": [],
   "source": []
  },
  {
   "cell_type": "code",
   "execution_count": null,
   "id": "f1d019db-d721-4b58-8d54-226c82fbe883",
   "metadata": {
    "execution": {
     "iopub.status.busy": "2023-06-26T16:01:34.058814Z",
     "iopub.status.idle": "2023-06-26T16:01:34.058957Z",
     "shell.execute_reply": "2023-06-26T16:01:34.058899Z",
     "shell.execute_reply.started": "2023-06-26T16:01:34.058892Z"
    }
   },
   "outputs": [],
   "source": [
    "encoder.stdv"
   ]
  },
  {
   "cell_type": "code",
   "execution_count": null,
   "id": "63af5d52-3cda-4eb5-a11b-db93ad2328c9",
   "metadata": {
    "execution": {
     "iopub.status.busy": "2023-06-26T16:01:34.059446Z",
     "iopub.status.idle": "2023-06-26T16:01:34.059573Z",
     "shell.execute_reply": "2023-06-26T16:01:34.059515Z",
     "shell.execute_reply.started": "2023-06-26T16:01:34.059509Z"
    }
   },
   "outputs": [],
   "source": [
    "X.std()"
   ]
  },
  {
   "cell_type": "code",
   "execution_count": null,
   "id": "903bbda0-71bf-4dcd-8cae-c2b0f9715345",
   "metadata": {
    "execution": {
     "iopub.status.busy": "2023-06-26T16:01:34.060102Z",
     "iopub.status.idle": "2023-06-26T16:01:34.060219Z",
     "shell.execute_reply": "2023-06-26T16:01:34.060164Z",
     "shell.execute_reply.started": "2023-06-26T16:01:34.060158Z"
    }
   },
   "outputs": [],
   "source": [
    "raise"
   ]
  },
  {
   "cell_type": "code",
   "execution_count": null,
   "id": "9f7bb470-bc67-46aa-bb0a-a16e5978c3fa",
   "metadata": {},
   "outputs": [],
   "source": []
  },
  {
   "cell_type": "code",
   "execution_count": null,
   "id": "5b8371d1-162e-4601-8a13-3b5f73a45319",
   "metadata": {
    "execution": {
     "iopub.status.busy": "2023-06-26T16:01:34.060641Z",
     "iopub.status.idle": "2023-06-26T16:01:34.060751Z",
     "shell.execute_reply": "2023-06-26T16:01:34.060700Z",
     "shell.execute_reply.started": "2023-06-26T16:01:34.060694Z"
    }
   },
   "outputs": [],
   "source": [
    "encoded.mean()"
   ]
  },
  {
   "cell_type": "code",
   "execution_count": null,
   "id": "c013926e-9c88-40cd-b31f-a60da7f746fe",
   "metadata": {},
   "outputs": [],
   "source": []
  },
  {
   "cell_type": "code",
   "execution_count": null,
   "id": "9a563dd9-fcc8-41b8-bc0e-f88fce419739",
   "metadata": {},
   "outputs": [],
   "source": []
  },
  {
   "cell_type": "code",
   "execution_count": null,
   "id": "4b862fd6-21d5-4389-acee-0ab09ed2e92a",
   "metadata": {
    "execution": {
     "iopub.status.busy": "2023-06-26T16:01:34.062144Z",
     "iopub.status.idle": "2023-06-26T16:01:34.062370Z",
     "shell.execute_reply": "2023-06-26T16:01:34.062268Z",
     "shell.execute_reply.started": "2023-06-26T16:01:34.062259Z"
    }
   },
   "outputs": [],
   "source": [
    "raise"
   ]
  },
  {
   "cell_type": "code",
   "execution_count": null,
   "id": "8da4d463-dd84-48af-a20e-d82ee9a41fac",
   "metadata": {},
   "outputs": [],
   "source": []
  },
  {
   "cell_type": "code",
   "execution_count": null,
   "id": "678df3f7-befb-4461-a475-0f960af849c7",
   "metadata": {
    "execution": {
     "iopub.status.busy": "2023-06-26T16:01:34.063099Z",
     "iopub.status.idle": "2023-06-26T16:01:34.063307Z",
     "shell.execute_reply": "2023-06-26T16:01:34.063202Z",
     "shell.execute_reply.started": "2023-06-26T16:01:34.063193Z"
    }
   },
   "outputs": [],
   "source": [
    "pd.Series(np.arange(4) *np.timedelta64(1, \"s\"))"
   ]
  },
  {
   "cell_type": "code",
   "execution_count": null,
   "id": "12178c56-f282-43d4-bf51-cd9a95bebab3",
   "metadata": {
    "execution": {
     "iopub.status.busy": "2023-06-26T16:01:34.063801Z",
     "iopub.status.idle": "2023-06-26T16:01:34.063993Z",
     "shell.execute_reply": "2023-06-26T16:01:34.063904Z",
     "shell.execute_reply.started": "2023-06-26T16:01:34.063894Z"
    }
   },
   "outputs": [],
   "source": [
    "self = encoder"
   ]
  },
  {
   "cell_type": "code",
   "execution_count": null,
   "id": "f1966570-3963-4b27-9f43-3f6af59330bc",
   "metadata": {
    "execution": {
     "iopub.status.busy": "2023-06-26T16:01:34.064480Z",
     "iopub.status.idle": "2023-06-26T16:01:34.064697Z",
     "shell.execute_reply": "2023-06-26T16:01:34.064589Z",
     "shell.execute_reply.started": "2023-06-26T16:01:34.064579Z"
    }
   },
   "outputs": [],
   "source": [
    "xmin = self.xmin  # [broadcast]\n",
    "xmax = self.xmax  # [broadcast]\n",
    "ymin = self.ymin  # [broadcast]\n",
    "ymax = self.ymax  # [broadcast]\n",
    "xbar = self.xbar  # [broadcast]\n",
    "ybar = self.ybar  # [broadcast]\n",
    "scale = self.scale  # [broadcast]\n",
    "\n",
    "y = (x - xbar) * scale + ybar"
   ]
  },
  {
   "cell_type": "code",
   "execution_count": null,
   "id": "a61c5f12-81d4-4565-ad44-c7133d1ed10b",
   "metadata": {
    "execution": {
     "iopub.status.busy": "2023-06-26T16:01:34.065202Z",
     "iopub.status.idle": "2023-06-26T16:01:34.068142Z",
     "shell.execute_reply": "2023-06-26T16:01:34.067835Z",
     "shell.execute_reply.started": "2023-06-26T16:01:34.067807Z"
    }
   },
   "outputs": [],
   "source": [
    "if self.safe_computation:\n",
    "    # ensure the conditions\n",
    "    # x < xₘᵢₙ ⟹ y < yₘᵢₙ  ∧  x > xₘₐₓ ⟹ y > yₘₐₓ  ∧  x∈[xₘᵢₙ, xₘₐₓ] ⟹ y∈[yₘᵢₙ, yₘₐₓ]\n",
    "    y = self.where(x < xmin, self.clip(y, None, ymin), y)\n",
    "    y = self.where(x > xmax, self.clip(y, ymax, None), y)\n",
    "    y = self.where((x >= xmin) & (x <= xmax), self.clip(y, ymin, ymax), y)"
   ]
  },
  {
   "cell_type": "code",
   "execution_count": null,
   "id": "fd2bda82-7a04-46a4-9b7d-c60620628db7",
   "metadata": {
    "execution": {
     "iopub.status.busy": "2023-06-26T16:01:34.069842Z",
     "iopub.status.idle": "2023-06-26T16:01:34.070087Z",
     "shell.execute_reply": "2023-06-26T16:01:34.069994Z",
     "shell.execute_reply.started": "2023-06-26T16:01:34.069983Z"
    }
   },
   "outputs": [],
   "source": [
    "(x >= xmin) & (x <= xmax)"
   ]
  },
  {
   "cell_type": "code",
   "execution_count": null,
   "id": "d36e8319-fdfa-433d-a0c5-3c02a59dc50d",
   "metadata": {
    "execution": {
     "iopub.status.busy": "2023-06-26T16:01:34.071165Z",
     "iopub.status.idle": "2023-06-26T16:01:34.071404Z",
     "shell.execute_reply": "2023-06-26T16:01:34.071304Z",
     "shell.execute_reply.started": "2023-06-26T16:01:34.071294Z"
    }
   },
   "outputs": [],
   "source": [
    "y.clip(ymin, ymax, axis=1)"
   ]
  },
  {
   "cell_type": "code",
   "execution_count": null,
   "id": "c34a86fc-bcf5-4b20-b6ca-0710b6d82916",
   "metadata": {
    "execution": {
     "iopub.status.busy": "2023-06-26T16:01:34.072023Z",
     "iopub.status.idle": "2023-06-26T16:01:34.072229Z",
     "shell.execute_reply": "2023-06-26T16:01:34.072141Z",
     "shell.execute_reply.started": "2023-06-26T16:01:34.072128Z"
    }
   },
   "outputs": [],
   "source": [
    "self.clip(y, ymin, ymax)"
   ]
  },
  {
   "cell_type": "code",
   "execution_count": null,
   "id": "5f7f0033-f3ab-439d-8adc-12b17f29486f",
   "metadata": {
    "execution": {
     "iopub.status.busy": "2023-06-26T16:01:34.072936Z",
     "iopub.status.idle": "2023-06-26T16:01:34.073121Z",
     "shell.execute_reply": "2023-06-26T16:01:34.073035Z",
     "shell.execute_reply.started": "2023-06-26T16:01:34.073026Z"
    }
   },
   "outputs": [],
   "source": [
    "self.where((x >= xmin) & (x <= xmax), self.clip(y, ymin, ymax), y)"
   ]
  },
  {
   "cell_type": "code",
   "execution_count": null,
   "id": "29eae7d5-c0fa-4360-acef-4c5732fa6b4c",
   "metadata": {
    "execution": {
     "iopub.status.busy": "2023-06-26T16:01:34.075064Z",
     "iopub.status.idle": "2023-06-26T16:01:34.075322Z",
     "shell.execute_reply": "2023-06-26T16:01:34.075218Z",
     "shell.execute_reply.started": "2023-06-26T16:01:34.075207Z"
    }
   },
   "outputs": [],
   "source": [
    "ymin"
   ]
  },
  {
   "cell_type": "code",
   "execution_count": null,
   "id": "ab9cc320-31bc-440a-94d8-b3512c8d6968",
   "metadata": {
    "execution": {
     "iopub.status.busy": "2023-06-26T16:01:34.076154Z",
     "iopub.status.idle": "2023-06-26T16:01:34.076423Z",
     "shell.execute_reply": "2023-06-26T16:01:34.076317Z",
     "shell.execute_reply.started": "2023-06-26T16:01:34.076306Z"
    }
   },
   "outputs": [],
   "source": [
    "y.clip(None, ymin, axis=1).where(x < xmin, y, axis=1)"
   ]
  },
  {
   "cell_type": "code",
   "execution_count": null,
   "id": "9bdcf24e-4dbe-493a-b9eb-215d937cfe56",
   "metadata": {
    "execution": {
     "iopub.status.busy": "2023-06-26T16:01:34.077659Z",
     "iopub.status.idle": "2023-06-26T16:01:34.078090Z",
     "shell.execute_reply": "2023-06-26T16:01:34.077986Z",
     "shell.execute_reply.started": "2023-06-26T16:01:34.077973Z"
    }
   },
   "outputs": [],
   "source": [
    "y = self.where(x < xmin, y.clip(None, ymin, axis=1), y)"
   ]
  },
  {
   "cell_type": "code",
   "execution_count": null,
   "id": "c297717d-639b-4950-a4c0-4ab904968374",
   "metadata": {
    "execution": {
     "iopub.status.busy": "2023-06-26T16:01:34.078747Z",
     "iopub.status.idle": "2023-06-26T16:01:34.079051Z",
     "shell.execute_reply": "2023-06-26T16:01:34.078958Z",
     "shell.execute_reply.started": "2023-06-26T16:01:34.078947Z"
    }
   },
   "outputs": [],
   "source": [
    "(X - encoder.xbar)*encoder.scale + "
   ]
  },
  {
   "cell_type": "code",
   "execution_count": null,
   "id": "e94ef793-43eb-4584-8ba5-ad3216a91047",
   "metadata": {
    "execution": {
     "iopub.status.busy": "2023-06-26T16:01:34.079667Z",
     "iopub.status.idle": "2023-06-26T16:01:34.080048Z",
     "shell.execute_reply": "2023-06-26T16:01:34.079952Z",
     "shell.execute_reply.started": "2023-06-26T16:01:34.079941Z"
    }
   },
   "outputs": [],
   "source": [
    "self = encoder\n",
    "dx = self.xmax - self.xmin\n",
    "dy = self.ymax - self.ymin\n",
    "dy/dx"
   ]
  },
  {
   "cell_type": "code",
   "execution_count": null,
   "id": "4c0cdda7-b9e5-47e5-9b5c-3810a693fc73",
   "metadata": {
    "execution": {
     "iopub.status.busy": "2023-06-26T16:01:34.080599Z",
     "iopub.status.idle": "2023-06-26T16:01:34.081049Z",
     "shell.execute_reply": "2023-06-26T16:01:34.080955Z",
     "shell.execute_reply.started": "2023-06-26T16:01:34.080945Z"
    }
   },
   "outputs": [],
   "source": [
    "raise"
   ]
  },
  {
   "cell_type": "code",
   "execution_count": null,
   "id": "05e18420-0d45-463d-b63b-6f9ee60105f3",
   "metadata": {
    "execution": {
     "iopub.status.busy": "2023-06-26T16:01:34.082273Z",
     "iopub.status.idle": "2023-06-26T16:01:34.082986Z",
     "shell.execute_reply": "2023-06-26T16:01:34.082787Z",
     "shell.execute_reply.started": "2023-06-26T16:01:34.082770Z"
    }
   },
   "outputs": [],
   "source": [
    "encoder.params[0]"
   ]
  },
  {
   "cell_type": "code",
   "execution_count": null,
   "id": "08d92286-979f-43fb-ba9a-4357a6811dec",
   "metadata": {
    "execution": {
     "iopub.status.busy": "2023-06-26T16:01:34.083799Z",
     "iopub.status.idle": "2023-06-26T16:01:34.084713Z",
     "shell.execute_reply": "2023-06-26T16:01:34.084612Z",
     "shell.execute_reply.started": "2023-06-26T16:01:34.084598Z"
    }
   },
   "outputs": [],
   "source": [
    "X.columns.equals?"
   ]
  },
  {
   "cell_type": "code",
   "execution_count": null,
   "id": "9bb7d617-d430-4013-842d-2f189a9501e3",
   "metadata": {
    "execution": {
     "iopub.status.busy": "2023-06-26T16:01:34.085327Z",
     "iopub.status.idle": "2023-06-26T16:01:34.085651Z",
     "shell.execute_reply": "2023-06-26T16:01:34.085548Z",
     "shell.execute_reply.started": "2023-06-26T16:01:34.085535Z"
    }
   },
   "outputs": [],
   "source": [
    "Encoder = MinMaxScaler\n",
    "tensor_type = torch.tensor"
   ]
  },
  {
   "cell_type": "code",
   "execution_count": null,
   "id": "5c20d90c-e0b9-4c19-bff0-fb25c3d36d4c",
   "metadata": {
    "execution": {
     "iopub.status.busy": "2023-06-26T16:01:34.086282Z",
     "iopub.status.idle": "2023-06-26T16:01:34.086496Z",
     "shell.execute_reply": "2023-06-26T16:01:34.086399Z",
     "shell.execute_reply.started": "2023-06-26T16:01:34.086390Z"
    }
   },
   "outputs": [],
   "source": [
    "LOGGER = __logger__.getChild(Encoder.__name__)\n",
    "LOGGER.info(\"Testing.\")\n",
    "\n",
    "LOGGER.info(\"Testing without batching.\")\n",
    "X = np.random.rand(3)\n",
    "X = tensor_type(X)\n",
    "encoder = Encoder()\n",
    "encoder.fit(X)\n",
    "encoded = encoder.encode(X)\n",
    "decoded = encoder.decode(encoded)\n",
    "assert np.allclose(X, decoded)\n",
    "assert encoder.params[0].shape == (), f\"{encoder.params}\"\n",
    "\n",
    "LOGGER.info(\"Testing with single batch-dim.\")\n",
    "X = np.random.rand(3, 5)\n",
    "X = tensor_type(X)\n",
    "encoder = Encoder(axis=-1)\n",
    "encoder.fit(X)\n",
    "encoded = encoder.encode(X)\n",
    "decoded = encoder.decode(encoded)\n",
    "assert np.allclose(X, decoded)\n",
    "assert encoder.params[0].shape == (5,), f\"{encoder.params}\"\n",
    "\n",
    "LOGGER.info(\"Testing slicing.\")\n",
    "encoder = encoder[2]  # select the third encoder\n",
    "Y = encoded\n",
    "# encoder.fit(X[:, 2])\n",
    "encoded = encoder.encode(X[:, 2])\n",
    "decoded = encoder.decode(encoded)\n",
    "assert np.allclose(Y[:, 2], encoded)\n",
    "assert np.allclose(X[:, 2], decoded)\n",
    "assert encoder.params[0].shape == ()"
   ]
  },
  {
   "cell_type": "code",
   "execution_count": null,
   "id": "917185ce-3a7b-4a2f-af86-da269e04d3f6",
   "metadata": {
    "execution": {
     "iopub.status.busy": "2023-06-26T16:01:34.087354Z",
     "iopub.status.idle": "2023-06-26T16:01:34.087552Z",
     "shell.execute_reply": "2023-06-26T16:01:34.087462Z",
     "shell.execute_reply.started": "2023-06-26T16:01:34.087451Z"
    }
   },
   "outputs": [],
   "source": [
    "X"
   ]
  },
  {
   "cell_type": "code",
   "execution_count": null,
   "id": "e71bcbc8-2112-4438-a45e-656088886a1b",
   "metadata": {
    "execution": {
     "iopub.status.busy": "2023-06-26T16:01:34.088515Z",
     "iopub.status.idle": "2023-06-26T16:01:34.088761Z",
     "shell.execute_reply": "2023-06-26T16:01:34.088639Z",
     "shell.execute_reply.started": "2023-06-26T16:01:34.088627Z"
    }
   },
   "outputs": [],
   "source": [
    "encoder.encode(X)"
   ]
  },
  {
   "cell_type": "code",
   "execution_count": null,
   "id": "d99e7fe8-63bf-4ea9-a041-831039d9d4f1",
   "metadata": {
    "execution": {
     "iopub.status.busy": "2023-06-26T16:01:34.090020Z",
     "iopub.status.idle": "2023-06-26T16:01:34.090380Z",
     "shell.execute_reply": "2023-06-26T16:01:34.090283Z",
     "shell.execute_reply.started": "2023-06-26T16:01:34.090270Z"
    }
   },
   "outputs": [],
   "source": [
    "encoder.where"
   ]
  },
  {
   "cell_type": "code",
   "execution_count": null,
   "id": "a9f4aaef-03cb-43b5-b686-d5251dd56851",
   "metadata": {},
   "outputs": [],
   "source": []
  },
  {
   "cell_type": "code",
   "execution_count": null,
   "id": "8ec9fa9c-d87a-4045-bb17-0636218dabf3",
   "metadata": {
    "execution": {
     "iopub.status.busy": "2023-06-26T16:01:34.090809Z",
     "iopub.status.idle": "2023-06-26T16:01:34.090942Z",
     "shell.execute_reply": "2023-06-26T16:01:34.090881Z",
     "shell.execute_reply.started": "2023-06-26T16:01:34.090874Z"
    }
   },
   "outputs": [],
   "source": [
    "LOGGER.info(\"Testing with single batch-dim.\")\n",
    "X = np.random.rand(3, 5)\n",
    "X = tensor_type(X)\n",
    "encoder = Encoder(axis=-1)\n",
    "encoder.fit(X)\n",
    "encoded = encoder.encode(X)\n",
    "decoded = encoder.decode(encoded)\n",
    "assert np.allclose(X, decoded)\n",
    "assert encoder.params[0].shape == (5,), f\"{encoder.params}\""
   ]
  },
  {
   "cell_type": "code",
   "execution_count": null,
   "id": "701fa4ee-c082-48b9-8045-143927c7b9d4",
   "metadata": {
    "execution": {
     "iopub.status.busy": "2023-06-26T16:01:34.091462Z",
     "iopub.status.idle": "2023-06-26T16:01:34.091581Z",
     "shell.execute_reply": "2023-06-26T16:01:34.091527Z",
     "shell.execute_reply.started": "2023-06-26T16:01:34.091521Z"
    }
   },
   "outputs": [],
   "source": [
    "LOGGER.info(\"Testing slicing.\")\n",
    "encoder = encoder[2]  # select the third encoder\n",
    "Y = encoded\n",
    "# encoder.fit(X[:, 2])\n",
    "encoded = encoder.encode(X[:, 2])\n",
    "decoded = encoder.decode(encoded)\n",
    "assert np.allclose(Y[:, 2], encoded)\n",
    "assert np.allclose(X[:, 2], decoded)\n",
    "assert encoder.params[0].shape == ()"
   ]
  },
  {
   "cell_type": "code",
   "execution_count": null,
   "id": "1efd8dd0-8c1d-4fa2-bc9b-1a9c47053f90",
   "metadata": {
    "execution": {
     "iopub.status.busy": "2023-06-26T16:01:34.091867Z",
     "iopub.status.idle": "2023-06-26T16:01:34.091978Z",
     "shell.execute_reply": "2023-06-26T16:01:34.091926Z",
     "shell.execute_reply.started": "2023-06-26T16:01:34.091921Z"
    }
   },
   "outputs": [],
   "source": [
    "from tsdm.utils.backends import KernelProvider, get_backend"
   ]
  },
  {
   "cell_type": "code",
   "execution_count": null,
   "id": "197aec58-5e3b-4dd5-b4bd-6d826215da39",
   "metadata": {
    "execution": {
     "iopub.status.busy": "2023-06-26T16:01:34.092612Z",
     "iopub.status.idle": "2023-06-26T16:01:34.092855Z",
     "shell.execute_reply": "2023-06-26T16:01:34.092747Z",
     "shell.execute_reply.started": "2023-06-26T16:01:34.092736Z"
    }
   },
   "outputs": [],
   "source": [
    "get_backend(encoder.params)"
   ]
  },
  {
   "cell_type": "code",
   "execution_count": null,
   "id": "87a68b5f-7c99-4a8a-b705-ae4c3c850cc4",
   "metadata": {
    "execution": {
     "iopub.status.busy": "2023-06-26T16:01:34.093411Z",
     "iopub.status.idle": "2023-06-26T16:01:34.093613Z",
     "shell.execute_reply": "2023-06-26T16:01:34.093518Z",
     "shell.execute_reply.started": "2023-06-26T16:01:34.093508Z"
    }
   },
   "outputs": [],
   "source": [
    "isinstance(encoder.params[0],"
   ]
  },
  {
   "cell_type": "code",
   "execution_count": null,
   "id": "8acb69d4-ccf3-44cb-beb3-5c46ea36cbda",
   "metadata": {
    "execution": {
     "iopub.status.busy": "2023-06-26T16:01:34.094250Z",
     "iopub.status.idle": "2023-06-26T16:01:34.094674Z",
     "shell.execute_reply": "2023-06-26T16:01:34.094565Z",
     "shell.execute_reply.started": "2023-06-26T16:01:34.094552Z"
    }
   },
   "outputs": [],
   "source": [
    "pd.DataFrame(pd.Series([1, 2, 3], dtype=\"float[pyarrow]\"))"
   ]
  },
  {
   "cell_type": "code",
   "execution_count": null,
   "id": "9657c929-f8a0-43b2-a3e4-d737c74c7c40",
   "metadata": {
    "execution": {
     "iopub.status.busy": "2023-06-26T16:01:34.095312Z",
     "iopub.status.idle": "2023-06-26T16:01:34.095651Z",
     "shell.execute_reply": "2023-06-26T16:01:34.095541Z",
     "shell.execute_reply.started": "2023-06-26T16:01:34.095529Z"
    }
   },
   "outputs": [],
   "source": [
    "pd.Series([1, 2, 3]) > np.array([1.2])"
   ]
  },
  {
   "cell_type": "code",
   "execution_count": null,
   "id": "ded9d37d-3440-4b9d-a068-3693c11dda48",
   "metadata": {
    "execution": {
     "iopub.status.busy": "2023-06-26T16:01:34.096199Z",
     "iopub.status.idle": "2023-06-26T16:01:34.096537Z",
     "shell.execute_reply": "2023-06-26T16:01:34.096430Z",
     "shell.execute_reply.started": "2023-06-26T16:01:34.096418Z"
    }
   },
   "outputs": [],
   "source": [
    "pd.Series([1, 2, 3]) > np.array([1.2])"
   ]
  },
  {
   "cell_type": "code",
   "execution_count": null,
   "id": "6d32537c-1555-4122-84d8-cd3c55ccf2bd",
   "metadata": {
    "execution": {
     "iopub.status.busy": "2023-06-26T16:01:34.097122Z",
     "iopub.status.idle": "2023-06-26T16:01:34.097343Z",
     "shell.execute_reply": "2023-06-26T16:01:34.097245Z",
     "shell.execute_reply.started": "2023-06-26T16:01:34.097232Z"
    }
   },
   "outputs": [],
   "source": [
    "pd.Series([1, 2, 3]).values > np.array([1.2])"
   ]
  },
  {
   "cell_type": "code",
   "execution_count": null,
   "id": "08d1685e-d164-40c3-9651-bb5b87a3ec1b",
   "metadata": {
    "execution": {
     "iopub.status.busy": "2023-06-26T16:01:34.098041Z",
     "iopub.status.idle": "2023-06-26T16:01:34.098362Z",
     "shell.execute_reply": "2023-06-26T16:01:34.098252Z",
     "shell.execute_reply.started": "2023-06-26T16:01:34.098238Z"
    }
   },
   "outputs": [],
   "source": [
    "pd.DataFrame(np.random.randn(7, 2)).values > np.array([0.0])"
   ]
  },
  {
   "cell_type": "code",
   "execution_count": null,
   "id": "79b662b3-1e0c-4969-aa45-9d057de4ed52",
   "metadata": {
    "execution": {
     "iopub.status.busy": "2023-06-26T16:01:34.098789Z",
     "iopub.status.idle": "2023-06-26T16:01:34.098949Z",
     "shell.execute_reply": "2023-06-26T16:01:34.098885Z",
     "shell.execute_reply.started": "2023-06-26T16:01:34.098876Z"
    }
   },
   "outputs": [],
   "source": [
    "np.array([1.2]).shape"
   ]
  },
  {
   "cell_type": "code",
   "execution_count": null,
   "id": "e79d677d-7a62-4a91-9614-b0603e061d20",
   "metadata": {
    "execution": {
     "iopub.status.busy": "2023-06-26T16:01:34.099374Z",
     "iopub.status.idle": "2023-06-26T16:01:34.099502Z",
     "shell.execute_reply": "2023-06-26T16:01:34.099440Z",
     "shell.execute_reply.started": "2023-06-26T16:01:34.099434Z"
    }
   },
   "outputs": [],
   "source": [
    "import numpy as np\n",
    "import pandas as pd\n",
    "\n",
    "val = np.array([0.0])  # shape: (1,)\n",
    "\n",
    "test_shapes = [(1,), (7,), (1, 1), (7, 1), (1, 7)]\n",
    "for shape in test_shapes:\n",
    "    data = np.random.randn(*shape)\n",
    "    assert np.all((pd.DataFrame(data) > val).values.squeeze() == (data > val).squeeze())\n",
    "\n",
    "# however:\n",
    "data = np.random.randn(7)\n",
    "\n",
    "pd.Series(data) > val  # ✘"
   ]
  },
  {
   "cell_type": "code",
   "execution_count": null,
   "id": "cec42382-0945-48fb-8270-17112f382447",
   "metadata": {
    "execution": {
     "iopub.status.busy": "2023-06-26T16:01:34.100282Z",
     "iopub.status.idle": "2023-06-26T16:01:34.100512Z",
     "shell.execute_reply": "2023-06-26T16:01:34.100408Z",
     "shell.execute_reply.started": "2023-06-26T16:01:34.100396Z"
    }
   },
   "outputs": [],
   "source": [
    "pd.DataFrame(data) > val"
   ]
  },
  {
   "cell_type": "code",
   "execution_count": null,
   "id": "3eaec98a-0821-4dee-84b4-0da4261d284b",
   "metadata": {
    "execution": {
     "iopub.status.busy": "2023-06-26T16:01:34.101195Z",
     "iopub.status.idle": "2023-06-26T16:01:34.101410Z",
     "shell.execute_reply": "2023-06-26T16:01:34.101307Z",
     "shell.execute_reply.started": "2023-06-26T16:01:34.101297Z"
    }
   },
   "outputs": [],
   "source": [
    "(pd.DataFrame(data) > val).values.squeeze()"
   ]
  },
  {
   "cell_type": "code",
   "execution_count": null,
   "id": "6ada86ef-905c-4b86-a8f2-986b85ba13a4",
   "metadata": {
    "execution": {
     "iopub.status.busy": "2023-06-26T16:01:34.101942Z",
     "iopub.status.idle": "2023-06-26T16:01:34.102296Z",
     "shell.execute_reply": "2023-06-26T16:01:34.102191Z",
     "shell.execute_reply.started": "2023-06-26T16:01:34.102179Z"
    }
   },
   "outputs": [],
   "source": [
    "(data > val)"
   ]
  },
  {
   "cell_type": "code",
   "execution_count": null,
   "id": "f445f721-e83f-47ef-8de6-a25b3f78fc77",
   "metadata": {
    "execution": {
     "iopub.status.busy": "2023-06-26T16:01:34.102846Z",
     "iopub.status.idle": "2023-06-26T16:01:34.103076Z",
     "shell.execute_reply": "2023-06-26T16:01:34.102968Z",
     "shell.execute_reply.started": "2023-06-26T16:01:34.102957Z"
    }
   },
   "outputs": [],
   "source": [
    "pd.DataFrame(np.random.randn(3, 4, 5, 6))"
   ]
  },
  {
   "cell_type": "code",
   "execution_count": null,
   "id": "17b6e4cb-fe16-47d6-94fc-499e31944589",
   "metadata": {},
   "outputs": [],
   "source": []
  },
  {
   "cell_type": "code",
   "execution_count": null,
   "id": "23aaea95-2db5-49ee-aff9-86261bd468d1",
   "metadata": {
    "execution": {
     "iopub.status.busy": "2023-06-26T16:01:34.103990Z",
     "iopub.status.idle": "2023-06-26T16:01:34.104251Z",
     "shell.execute_reply": "2023-06-26T16:01:34.104143Z",
     "shell.execute_reply.started": "2023-06-26T16:01:34.104132Z"
    }
   },
   "outputs": [],
   "source": [
    "data"
   ]
  },
  {
   "cell_type": "code",
   "execution_count": null,
   "id": "20308f9f-c3fd-4fa5-beb4-32f21ec8851d",
   "metadata": {
    "execution": {
     "iopub.status.busy": "2023-06-26T16:01:34.104964Z",
     "iopub.status.idle": "2023-06-26T16:01:34.105336Z",
     "shell.execute_reply": "2023-06-26T16:01:34.105230Z",
     "shell.execute_reply.started": "2023-06-26T16:01:34.105219Z"
    }
   },
   "outputs": [],
   "source": [
    "np.random.randn(7).item()"
   ]
  },
  {
   "cell_type": "code",
   "execution_count": null,
   "id": "89377d64-bd42-429b-bd11-bb1da0d72acc",
   "metadata": {
    "execution": {
     "iopub.status.busy": "2023-06-26T16:01:34.105817Z",
     "iopub.status.idle": "2023-06-26T16:01:34.106032Z",
     "shell.execute_reply": "2023-06-26T16:01:34.105931Z",
     "shell.execute_reply.started": "2023-06-26T16:01:34.105921Z"
    }
   },
   "outputs": [],
   "source": [
    "val.squeeze()"
   ]
  },
  {
   "cell_type": "code",
   "execution_count": null,
   "id": "83c65ff3-3357-4c8a-b8b3-483eb6952b7f",
   "metadata": {
    "execution": {
     "iopub.status.busy": "2023-06-26T16:01:34.106699Z",
     "iopub.status.idle": "2023-06-26T16:01:34.107028Z",
     "shell.execute_reply": "2023-06-26T16:01:34.106918Z",
     "shell.execute_reply.started": "2023-06-26T16:01:34.106907Z"
    }
   },
   "outputs": [],
   "source": [
    "from typing import NamedTuple"
   ]
  },
  {
   "cell_type": "code",
   "execution_count": null,
   "id": "ae7fab9c-a149-4df2-8be4-d6cf4660c594",
   "metadata": {
    "execution": {
     "iopub.status.busy": "2023-06-26T16:01:34.107567Z",
     "iopub.status.idle": "2023-06-26T16:01:34.107775Z",
     "shell.execute_reply": "2023-06-26T16:01:34.107674Z",
     "shell.execute_reply.started": "2023-06-26T16:01:34.107664Z"
    }
   },
   "outputs": [],
   "source": [
    "class Point(NamedTuple):\n",
    "    x: int\n",
    "    y: int\n",
    "    z: int = 1"
   ]
  },
  {
   "cell_type": "code",
   "execution_count": null,
   "id": "9fcf77b9-e855-4677-91f1-1cef341bf4b7",
   "metadata": {
    "execution": {
     "iopub.status.busy": "2023-06-26T16:01:34.108430Z",
     "iopub.status.idle": "2023-06-26T16:01:34.108790Z",
     "shell.execute_reply": "2023-06-26T16:01:34.108686Z",
     "shell.execute_reply.started": "2023-06-26T16:01:34.108675Z"
    }
   },
   "outputs": [],
   "source": [
    "Point(0, 0) + (0, 0)"
   ]
  },
  {
   "cell_type": "code",
   "execution_count": null,
   "id": "23a10005-b916-4f92-b821-1d87efef26a9",
   "metadata": {},
   "outputs": [],
   "source": []
  }
 ],
 "metadata": {
  "kernelspec": {
   "display_name": "Python 3 (ipykernel)",
   "language": "python",
   "name": "python3"
  },
  "language_info": {
   "codemirror_mode": {
    "name": "ipython",
    "version": 3
   },
   "file_extension": ".py",
   "mimetype": "text/x-python",
   "name": "python",
   "nbconvert_exporter": "python",
   "pygments_lexer": "ipython3",
   "version": "3.11.3"
  }
 },
 "nbformat": 4,
 "nbformat_minor": 5
}
