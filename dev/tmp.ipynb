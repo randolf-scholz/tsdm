{
 "cells": [
  {
   "cell_type": "code",
   "execution_count": null,
   "id": "07574fc2-760a-4459-a90a-1c96de12484a",
   "metadata": {
    "execution": {
     "iopub.execute_input": "2023-06-28T13:57:54.079011Z",
     "iopub.status.busy": "2023-06-28T13:57:54.078793Z",
     "iopub.status.idle": "2023-06-28T13:57:54.101745Z",
     "shell.execute_reply": "2023-06-28T13:57:54.101403Z",
     "shell.execute_reply.started": "2023-06-28T13:57:54.078997Z"
    },
    "tags": []
   },
   "outputs": [],
   "source": [
    "%config InteractiveShell.ast_node_interactivity='last_expr_or_assign'  # always print last expr.\n",
    "%config InlineBackend.figure_format = 'svg'\n",
    "%load_ext autoreload\n",
    "%autoreload 2\n",
    "%matplotlib inline\n",
    "\n",
    "import logging\n",
    "\n",
    "logging.basicConfig(level=logging.INFO)"
   ]
  },
  {
   "cell_type": "code",
   "execution_count": null,
   "id": "49f21b02-8811-490b-805f-51096a4017e1",
   "metadata": {
    "execution": {
     "iopub.execute_input": "2023-06-28T13:57:55.305572Z",
     "iopub.status.busy": "2023-06-28T13:57:55.304220Z",
     "iopub.status.idle": "2023-06-28T13:57:55.321577Z",
     "shell.execute_reply": "2023-06-28T13:57:55.321214Z",
     "shell.execute_reply.started": "2023-06-28T13:57:55.305555Z"
    }
   },
   "outputs": [],
   "source": [
    "import numpy as np\n",
    "import pandas as pd\n",
    "import torch\n",
    "import pyarrow as pa"
   ]
  },
  {
   "cell_type": "code",
   "execution_count": null,
   "id": "8766cdcb-9ca9-48f9-b10b-e6cfc61e7776",
   "metadata": {},
   "outputs": [],
   "source": []
  },
  {
   "cell_type": "code",
   "execution_count": null,
   "id": "36b8cfc4-fd85-43bb-8c50-9f7c65c529a6",
   "metadata": {
    "execution": {
     "iopub.execute_input": "2023-06-28T13:58:21.190021Z",
     "iopub.status.busy": "2023-06-28T13:58:21.189673Z",
     "iopub.status.idle": "2023-06-28T13:58:24.914534Z",
     "shell.execute_reply": "2023-06-28T13:58:24.914039Z",
     "shell.execute_reply.started": "2023-06-28T13:58:21.190002Z"
    }
   },
   "outputs": [],
   "source": [
    "import logging\n",
    "\n",
    "import numpy as np\n",
    "import pandas as pd\n",
    "import torch\n",
    "from pytest import mark, skip\n",
    "\n",
    "from tsdm.encoders.numerical import (\n",
    "    BoundaryEncoder,\n",
    "    LinearScaler,\n",
    "    MinMaxScaler,\n",
    "    StandardScaler,\n",
    "    get_broadcast,\n",
    "    get_reduced_axes,\n",
    ")\n",
    "\n",
    "logging.basicConfig(level=logging.INFO)\n",
    "__logger__ = logging.getLogger(__name__)"
   ]
  },
  {
   "cell_type": "code",
   "execution_count": null,
   "id": "ab947847-e72c-4afb-81cb-42f076c0b1e3",
   "metadata": {
    "execution": {
     "iopub.execute_input": "2023-06-28T13:59:21.609566Z",
     "iopub.status.busy": "2023-06-28T13:59:21.609230Z",
     "iopub.status.idle": "2023-06-28T13:59:21.653520Z",
     "shell.execute_reply": "2023-06-28T13:59:21.653210Z",
     "shell.execute_reply.started": "2023-06-28T13:59:21.609541Z"
    }
   },
   "outputs": [],
   "source": [
    "backend = \"numpy\"\n",
    "\n",
    "_data = [-2.0, -1.1, -1.0, -0.9, 0.0, 0.3, 0.5, 1.0, 1.5, 2.0]\n",
    "\n",
    "match backend:\n",
    "    case \"numpy\":\n",
    "        data = np.array(_data)\n",
    "    case \"torch\":\n",
    "        data = torch.tensor(_data)\n",
    "    case \"pandas\":\n",
    "        data = pd.Series(_data)\n",
    "    case _:\n",
    "        raise ValueError(f\"Unknown backend {backend}\")\n",
    "\n",
    "# test clip + numpy\n",
    "encoder = BoundaryEncoder(-1, +1, mode=\"clip\")\n",
    "encoder.fit(data)\n",
    "encoded = encoder.encode(data)\n",
    "assert all((encoded >= -1) & (encoded <= 1))\n",
    "assert (encoded == -1).sum() == (data <= -1).sum()\n",
    "assert (encoded == +1).sum() == (data >= +1).sum()\n",
    "\n",
    "if isinstance(data, pd.Series):\n",
    "    assert (\n",
    "        isinstance(encoded, pd.Series)\n",
    "        and encoded.shape == data.shape\n",
    "        and encoded.name == data.name\n",
    "        and encoded.index.equals(data.index)\n",
    "    )\n",
    "if isinstance(data, torch.Tensor):\n",
    "    assert isinstance(encoded, torch.Tensor) and encoded.shape == data.shape\n",
    "if isinstance(data, np.ndarray):\n",
    "    assert isinstance(encoded, np.ndarray) and encoded.shape == data.shape\n",
    "\n",
    "# test numpy + mask\n",
    "encoder = BoundaryEncoder(-1, +1, mode=\"mask\")\n",
    "encoder.fit(data)\n",
    "encoded = encoder.encode(data)\n",
    "assert all(np.isnan(encoded) ^ ((encoded >= -1) & (encoded <= 1)))\n",
    "assert np.isnan(encoded).sum() == ((data < -1).sum() + (data > +1).sum())\n",
    "\n",
    "\n",
    "# test fitting with mask\n",
    "encoder = BoundaryEncoder(mode=\"mask\")\n",
    "encoder.fit(data)\n",
    "encoded = encoder.encode(data)\n",
    "decoded = encoder.decode(encoded)\n",
    "assert not any(np.isnan(encoded))\n",
    "assert all(data == encoded)\n",
    "assert all(data == decoded)\n",
    "\n",
    "# encode some data that violates bounds\n",
    "data2 = data * 2\n",
    "encoded2 = encoder.encode(data2)\n",
    "xmin, xmax = data.min(), data.max()\n",
    "mask = (data2 >= xmin) & (data2 <= xmax)\n",
    "assert all(encoded2[mask] == data2[mask])\n",
    "assert all(np.isnan(encoded2[~mask]))"
   ]
  },
  {
   "cell_type": "code",
   "execution_count": null,
   "id": "85879cbe-122b-4dde-be19-d53113042109",
   "metadata": {
    "execution": {
     "iopub.execute_input": "2023-06-28T13:59:26.486301Z",
     "iopub.status.busy": "2023-06-28T13:59:26.486070Z",
     "iopub.status.idle": "2023-06-28T13:59:26.540963Z",
     "shell.execute_reply": "2023-06-28T13:59:26.540583Z",
     "shell.execute_reply.started": "2023-06-28T13:59:26.486288Z"
    }
   },
   "outputs": [],
   "source": [
    "# test half-open interval + clip\n",
    "encoder = BoundaryEncoder(0, None, mode=\"clip\")\n",
    "encoder.fit(data)\n",
    "encoded = encoder.encode(data)\n",
    "assert all(encoded >= 0)\n",
    "assert (encoded == 0).sum() == (data <= 0).sum()"
   ]
  },
  {
   "cell_type": "code",
   "execution_count": null,
   "id": "de2c6d26-f27e-4c46-8452-b8f02e5da63a",
   "metadata": {
    "execution": {
     "iopub.execute_input": "2023-06-28T13:59:45.009309Z",
     "iopub.status.busy": "2023-06-28T13:59:45.009012Z",
     "iopub.status.idle": "2023-06-28T13:59:45.054914Z",
     "shell.execute_reply": "2023-06-28T13:59:45.054490Z",
     "shell.execute_reply.started": "2023-06-28T13:59:45.009295Z"
    }
   },
   "outputs": [],
   "source": [
    "encoder.fit(data)\n",
    "encoded = encoder.encode(data)"
   ]
  },
  {
   "cell_type": "code",
   "execution_count": null,
   "id": "aa332e85-5417-4a2e-9b87-5339e3418fde",
   "metadata": {
    "execution": {
     "iopub.execute_input": "2023-06-28T14:01:44.066282Z",
     "iopub.status.busy": "2023-06-28T14:01:44.066055Z",
     "iopub.status.idle": "2023-06-28T14:01:44.103123Z",
     "shell.execute_reply": "2023-06-28T14:01:44.102771Z",
     "shell.execute_reply.started": "2023-06-28T14:01:44.066270Z"
    }
   },
   "outputs": [],
   "source": [
    "encoder.upper_mask(data)"
   ]
  },
  {
   "cell_type": "code",
   "execution_count": null,
   "id": "1b670d7e-2852-4d42-962e-8a6883582e79",
   "metadata": {
    "execution": {
     "iopub.execute_input": "2023-06-28T14:00:42.886452Z",
     "iopub.status.busy": "2023-06-28T14:00:42.884876Z",
     "iopub.status.idle": "2023-06-28T14:00:42.923542Z",
     "shell.execute_reply": "2023-06-28T14:00:42.923075Z",
     "shell.execute_reply.started": "2023-06-28T14:00:42.886379Z"
    }
   },
   "outputs": [],
   "source": [
    "encoder.upper_bound"
   ]
  },
  {
   "cell_type": "code",
   "execution_count": null,
   "id": "7de284d3-f042-4ac6-9b12-6eb1b3084fd5",
   "metadata": {
    "execution": {
     "iopub.execute_input": "2023-06-28T13:59:26.486301Z",
     "iopub.status.busy": "2023-06-28T13:59:26.486070Z",
     "iopub.status.idle": "2023-06-28T13:59:26.540963Z",
     "shell.execute_reply": "2023-06-28T13:59:26.540583Z",
     "shell.execute_reply.started": "2023-06-28T13:59:26.486288Z"
    }
   },
   "outputs": [],
   "source": [
    "# # test half-open unbounded interval + mask\n",
    "# encoder = BoundaryEncoder(0, None, mode=\"mask\")\n",
    "# encoder.fit(data)\n",
    "# encoded = encoder.encode(data)\n",
    "# assert all(np.isnan(encoded) ^ (encoded >= 0))\n",
    "# assert np.isnan(encoded).sum() == (data < 0).sum()\n",
    "\n",
    "# # test half-open bounded interval + mask\n",
    "# encoder = BoundaryEncoder(0, 1, mode=\"mask\", lower_included=False)\n",
    "# encoder.fit(data)\n",
    "# encoded = encoder.encode(data)\n",
    "# assert all(np.isnan(encoded) ^ (encoded > 0))\n",
    "# assert np.isnan(encoded).sum() == ((data <= 0).sum() + (data > 1).sum())"
   ]
  },
  {
   "cell_type": "code",
   "execution_count": null,
   "id": "5231c5ac-c5a1-4e56-9463-dae2b145b474",
   "metadata": {},
   "outputs": [],
   "source": []
  }
 ],
 "metadata": {
  "kernelspec": {
   "display_name": "Python 3 (ipykernel)",
   "language": "python",
   "name": "python3"
  },
  "language_info": {
   "codemirror_mode": {
    "name": "ipython",
    "version": 3
   },
   "file_extension": ".py",
   "mimetype": "text/x-python",
   "name": "python",
   "nbconvert_exporter": "python",
   "pygments_lexer": "ipython3",
   "version": "3.11.3"
  }
 },
 "nbformat": 4,
 "nbformat_minor": 5
}
