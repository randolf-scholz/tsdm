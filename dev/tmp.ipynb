{
 "cells": [
  {
   "cell_type": "code",
   "execution_count": 1,
   "id": "07574fc2-760a-4459-a90a-1c96de12484a",
   "metadata": {
    "execution": {
     "iopub.execute_input": "2023-06-23T14:41:31.435325Z",
     "iopub.status.busy": "2023-06-23T14:41:31.435060Z",
     "iopub.status.idle": "2023-06-23T14:41:31.852633Z",
     "shell.execute_reply": "2023-06-23T14:41:31.852005Z",
     "shell.execute_reply.started": "2023-06-23T14:41:31.435298Z"
    },
    "tags": []
   },
   "outputs": [],
   "source": [
    "%config InteractiveShell.ast_node_interactivity='last_expr_or_assign'  # always print last expr.\n",
    "%config InlineBackend.figure_format = 'svg'\n",
    "%load_ext autoreload\n",
    "%autoreload 2\n",
    "%matplotlib inline\n",
    "\n",
    "import logging\n",
    "\n",
    "logging.basicConfig(level=logging.INFO)"
   ]
  },
  {
   "cell_type": "code",
   "execution_count": 1,
   "id": "6169a6b4-27c9-4316-a729-44a8415491d5",
   "metadata": {
    "execution": {
     "iopub.execute_input": "2023-06-23T16:55:30.999843Z",
     "iopub.status.busy": "2023-06-23T16:55:30.999242Z",
     "iopub.status.idle": "2023-06-23T16:55:35.049960Z",
     "shell.execute_reply": "2023-06-23T16:55:35.049323Z",
     "shell.execute_reply.started": "2023-06-23T16:55:30.999813Z"
    },
    "tags": []
   },
   "outputs": [
    {
     "name": "stdout",
     "output_type": "stream",
     "text": [
      "Creating folder PosixPath('/home/rscholz/.tsdm/datasets').\n",
      "Creating folder PosixPath('/home/rscholz/.tsdm/models').\n",
      "Creating folder PosixPath('/home/rscholz/.tsdm/logs').\n",
      "Creating folder PosixPath('/home/rscholz/.tsdm/rawdata').\n"
     ]
    },
    {
     "name": "stderr",
     "output_type": "stream",
     "text": [
      "/home/rscholz/Projects/KIWI/tsdm/src/tsdm/utils/data/_data.py:21: TqdmExperimentalWarning: Using `tqdm.autonotebook.tqdm` in notebook mode. Use `tqdm.tqdm` instead to force console mode (e.g. in jupyter console)\n",
      "  from tqdm.autonotebook import tqdm\n",
      "2023-06-23 18:55:33.426384: I tensorflow/core/platform/cpu_feature_guard.cc:182] This TensorFlow binary is optimized to use available CPU instructions in performance-critical operations.\n",
      "To enable the following instructions: AVX2 FMA, in other operations, rebuild TensorFlow with the appropriate compiler flags.\n"
     ]
    }
   ],
   "source": [
    "import numpy as np\n",
    "import pandas as pd\n",
    "import torch\n",
    "\n",
    "from tsdm.encoders.numerical import BoundaryEncoder, MinMaxScaler, get_broadcast, invert_axes"
   ]
  },
  {
   "cell_type": "code",
   "execution_count": 2,
   "id": "7728f327-6fc2-45ca-ace3-af22feaa3ed3",
   "metadata": {
    "execution": {
     "iopub.execute_input": "2023-06-23T16:55:35.051231Z",
     "iopub.status.busy": "2023-06-23T16:55:35.050895Z",
     "iopub.status.idle": "2023-06-23T16:55:35.055594Z",
     "shell.execute_reply": "2023-06-23T16:55:35.054954Z",
     "shell.execute_reply.started": "2023-06-23T16:55:35.051217Z"
    },
    "tags": []
   },
   "outputs": [],
   "source": [
    "shape = (3, 2, 1, 2)\n",
    "axis = None\n",
    "\n",
    "arr = np.random.randn(*shape)\n",
    "broadcast = get_broadcast(arr.shape, axis=axis)\n",
    "m = np.mean(arr, axis=axis)\n",
    "m_ref = np.mean(arr, axis=axis, keepdims=True)\n",
    "assert m[broadcast].shape == m_ref.shape"
   ]
  },
  {
   "cell_type": "code",
   "execution_count": 3,
   "id": "dfe5cf49-de5d-4e27-a0f3-0d359a999c1c",
   "metadata": {
    "execution": {
     "iopub.execute_input": "2023-06-23T16:55:35.056389Z",
     "iopub.status.busy": "2023-06-23T16:55:35.056212Z",
     "iopub.status.idle": "2023-06-23T16:55:35.060824Z",
     "shell.execute_reply": "2023-06-23T16:55:35.060318Z",
     "shell.execute_reply.started": "2023-06-23T16:55:35.056369Z"
    },
    "tags": []
   },
   "outputs": [
    {
     "name": "stdout",
     "output_type": "stream",
     "text": [
      "self.axis=None  axes=()\n"
     ]
    },
    {
     "name": "stderr",
     "output_type": "stream",
     "text": [
      "/home/rscholz/Projects/KIWI/tsdm/src/tsdm/encoders/numerical.py:819: RuntimeWarning: divide by zero encountered in divide\n",
      "  self.scale = np.where(dx, dy / dx, np.ones_like(dx))\n"
     ]
    }
   ],
   "source": [
    "X = np.random.randn(10)\n",
    "encoder = MinMaxScaler(axis=None)\n",
    "encoder.fit(X)\n",
    "encoded = encoder.encode(X)\n",
    "decoded = encoder.decode(encoded)"
   ]
  },
  {
   "cell_type": "code",
   "execution_count": 11,
   "id": "75222c51-eed7-433f-8171-4c1a1afc724d",
   "metadata": {
    "execution": {
     "iopub.execute_input": "2023-06-23T14:42:16.325541Z",
     "iopub.status.busy": "2023-06-23T14:42:16.325129Z",
     "iopub.status.idle": "2023-06-23T14:42:16.371638Z",
     "shell.execute_reply": "2023-06-23T14:42:16.371117Z",
     "shell.execute_reply.started": "2023-06-23T14:42:16.325525Z"
    },
    "tags": []
   },
   "outputs": [
    {
     "data": {
      "text/plain": [
       "(0, 1, 2)"
      ]
     },
     "execution_count": 11,
     "metadata": {},
     "output_type": "execute_result"
    }
   ],
   "source": [
    "invert_axes(3, ())"
   ]
  },
  {
   "cell_type": "code",
   "execution_count": 13,
   "id": "97d52a42-1eb1-4d70-b843-ecff663dfcda",
   "metadata": {
    "execution": {
     "iopub.execute_input": "2023-06-23T14:42:46.128717Z",
     "iopub.status.busy": "2023-06-23T14:42:46.128497Z",
     "iopub.status.idle": "2023-06-23T14:42:46.175325Z",
     "shell.execute_reply": "2023-06-23T14:42:46.174833Z",
     "shell.execute_reply.started": "2023-06-23T14:42:46.128701Z"
    },
    "tags": []
   },
   "outputs": [
    {
     "data": {
      "text/plain": [
       "True"
      ]
     },
     "execution_count": 13,
     "metadata": {},
     "output_type": "execute_result"
    }
   ],
   "source": [
    "2 not in ()"
   ]
  },
  {
   "cell_type": "code",
   "execution_count": null,
   "id": "c22ded53-d265-4beb-b3d5-0050690dbddb",
   "metadata": {},
   "outputs": [],
   "source": []
  },
  {
   "cell_type": "code",
   "execution_count": null,
   "id": "a6e1d278-b989-4c1f-98d5-279eda48ee38",
   "metadata": {},
   "outputs": [],
   "source": []
  },
  {
   "cell_type": "code",
   "execution_count": null,
   "id": "f4b253c2-811d-4b3f-a3ff-9080383b9465",
   "metadata": {},
   "outputs": [],
   "source": []
  },
  {
   "cell_type": "code",
   "execution_count": null,
   "id": "6a2a5ad3-d9fa-45c6-be5e-9114812e9913",
   "metadata": {},
   "outputs": [],
   "source": []
  },
  {
   "cell_type": "code",
   "execution_count": 5,
   "id": "16a1a3ac-4aba-459a-8833-7786b5ed571d",
   "metadata": {
    "execution": {
     "iopub.execute_input": "2023-06-23T14:37:07.610492Z",
     "iopub.status.busy": "2023-06-23T14:37:07.610270Z",
     "iopub.status.idle": "2023-06-23T14:37:07.658216Z",
     "shell.execute_reply": "2023-06-23T14:37:07.657217Z",
     "shell.execute_reply.started": "2023-06-23T14:37:07.610470Z"
    },
    "tags": []
   },
   "outputs": [
    {
     "data": {
      "text/plain": [
       "-1.8504084299334762"
      ]
     },
     "execution_count": 5,
     "metadata": {},
     "output_type": "execute_result"
    }
   ],
   "source": [
    "encoder.xmin"
   ]
  },
  {
   "cell_type": "code",
   "execution_count": 6,
   "id": "d999f797-1484-49d5-9e71-2e139719bd15",
   "metadata": {
    "execution": {
     "iopub.execute_input": "2023-06-23T14:37:23.893512Z",
     "iopub.status.busy": "2023-06-23T14:37:23.893226Z",
     "iopub.status.idle": "2023-06-23T14:37:23.940535Z",
     "shell.execute_reply": "2023-06-23T14:37:23.939898Z",
     "shell.execute_reply.started": "2023-06-23T14:37:23.893495Z"
    },
    "tags": []
   },
   "outputs": [
    {
     "data": {
      "text/plain": [
       "(0,)"
      ]
     },
     "execution_count": 6,
     "metadata": {},
     "output_type": "execute_result"
    }
   ],
   "source": []
  },
  {
   "cell_type": "code",
   "execution_count": null,
   "id": "c2df7e44-c467-44ff-9b7e-4647cd567c85",
   "metadata": {},
   "outputs": [],
   "source": []
  },
  {
   "cell_type": "code",
   "execution_count": null,
   "id": "0a178cfd-4680-4f31-bdd2-5c7e8cbef595",
   "metadata": {},
   "outputs": [],
   "source": []
  },
  {
   "cell_type": "code",
   "execution_count": null,
   "id": "85cd5f34-0a01-417b-b207-a01c791d31d0",
   "metadata": {},
   "outputs": [],
   "source": []
  },
  {
   "cell_type": "code",
   "execution_count": null,
   "id": "c57d55ba-6d44-4bc3-a743-fdc59d7550d9",
   "metadata": {},
   "outputs": [],
   "source": []
  },
  {
   "cell_type": "code",
   "execution_count": 11,
   "id": "aaf7c26c-2093-4cdd-b825-8d8c7f08fe13",
   "metadata": {
    "execution": {
     "iopub.execute_input": "2023-06-23T16:56:17.893074Z",
     "iopub.status.busy": "2023-06-23T16:56:17.892769Z",
     "iopub.status.idle": "2023-06-23T16:56:17.897177Z",
     "shell.execute_reply": "2023-06-23T16:56:17.896540Z",
     "shell.execute_reply.started": "2023-06-23T16:56:17.893057Z"
    },
    "tags": []
   },
   "outputs": [
    {
     "name": "stdout",
     "output_type": "stream",
     "text": [
      "self.axis=-1  axes=(0,)\n"
     ]
    }
   ],
   "source": [
    "X = np.random.randn(100, 5)\n",
    "encoder = MinMaxScaler(axis=-1)\n",
    "encoder.fit(X)\n",
    "encoded = encoder.encode(X)\n",
    "decoded = encoder.decode(encoded)"
   ]
  },
  {
   "cell_type": "code",
   "execution_count": 25,
   "id": "d7c11798-a65e-4adc-9152-d31ae637e7a1",
   "metadata": {
    "execution": {
     "iopub.execute_input": "2023-06-23T17:03:04.931320Z",
     "iopub.status.busy": "2023-06-23T17:03:04.930663Z",
     "iopub.status.idle": "2023-06-23T17:03:04.937084Z",
     "shell.execute_reply": "2023-06-23T17:03:04.936305Z",
     "shell.execute_reply.started": "2023-06-23T17:03:04.931276Z"
    },
    "tags": []
   },
   "outputs": [
    {
     "data": {
      "text/plain": [
       "0.0"
      ]
     },
     "execution_count": 25,
     "metadata": {},
     "output_type": "execute_result"
    }
   ],
   "source": [
    "np.std([1.1])"
   ]
  },
  {
   "cell_type": "code",
   "execution_count": 31,
   "id": "aaf2cc75-4e76-403e-9957-2bb5e69f8800",
   "metadata": {
    "execution": {
     "iopub.execute_input": "2023-06-23T18:30:49.355544Z",
     "iopub.status.busy": "2023-06-23T18:30:49.354953Z",
     "iopub.status.idle": "2023-06-23T18:30:49.358580Z",
     "shell.execute_reply": "2023-06-23T18:30:49.358097Z",
     "shell.execute_reply.started": "2023-06-23T18:30:49.355514Z"
    },
    "tags": []
   },
   "outputs": [],
   "source": [
    "x = {1,2}"
   ]
  },
  {
   "cell_type": "code",
   "execution_count": 38,
   "id": "2ed50c9c-2ed0-4fde-864e-8c833aa4647c",
   "metadata": {
    "execution": {
     "iopub.execute_input": "2023-06-23T18:34:55.272359Z",
     "iopub.status.busy": "2023-06-23T18:34:55.271888Z",
     "iopub.status.idle": "2023-06-23T18:34:55.278924Z",
     "shell.execute_reply": "2023-06-23T18:34:55.277577Z",
     "shell.execute_reply.started": "2023-06-23T18:34:55.272329Z"
    },
    "tags": []
   },
   "outputs": [
    {
     "ename": "SyntaxError",
     "evalue": "invalid syntax (2385539737.py, line 2)",
     "output_type": "error",
     "traceback": [
      "\u001b[0;36m  Cell \u001b[0;32mIn[38], line 2\u001b[0;36m\u001b[0m\n\u001b[0;31m    case {1,2}:\u001b[0m\n\u001b[0m           ^\u001b[0m\n\u001b[0;31mSyntaxError\u001b[0m\u001b[0;31m:\u001b[0m invalid syntax\n"
     ]
    }
   ],
   "source": [
    "match {2,1}:\n",
    "    case {1,2}:\n",
    "        print(\"sets are unordered\")\n",
    "    case (2, 1):\n",
    "        print(\"sad trombone\")"
   ]
  },
  {
   "cell_type": "code",
   "execution_count": 41,
   "id": "6ff2d889-2725-42ce-9c5d-8d7526afc978",
   "metadata": {
    "execution": {
     "iopub.execute_input": "2023-06-23T18:36:29.167861Z",
     "iopub.status.busy": "2023-06-23T18:36:29.167264Z",
     "iopub.status.idle": "2023-06-23T18:36:29.173265Z",
     "shell.execute_reply": "2023-06-23T18:36:29.172220Z",
     "shell.execute_reply.started": "2023-06-23T18:36:29.167831Z"
    },
    "tags": []
   },
   "outputs": [
    {
     "name": "stdout",
     "output_type": "stream",
     "text": [
      "Sets are unordered!\n"
     ]
    }
   ],
   "source": [
    "match {2:0, 1:0}:\n",
    "    case {1:0, 2:0}:\n",
    "        print(\"Sets are unordered!\")"
   ]
  },
  {
   "cell_type": "code",
   "execution_count": 50,
   "id": "7b18d124-6cf8-4733-9484-4d128d15a75f",
   "metadata": {
    "execution": {
     "iopub.execute_input": "2023-06-23T20:02:10.253546Z",
     "iopub.status.busy": "2023-06-23T20:02:10.253101Z",
     "iopub.status.idle": "2023-06-23T20:02:10.260564Z",
     "shell.execute_reply": "2023-06-23T20:02:10.259830Z",
     "shell.execute_reply.started": "2023-06-23T20:02:10.253515Z"
    },
    "tags": []
   },
   "outputs": [
    {
     "data": {
      "text/html": [
       "<div>\n",
       "<style scoped>\n",
       "    .dataframe tbody tr th:only-of-type {\n",
       "        vertical-align: middle;\n",
       "    }\n",
       "\n",
       "    .dataframe tbody tr th {\n",
       "        vertical-align: top;\n",
       "    }\n",
       "\n",
       "    .dataframe thead th {\n",
       "        text-align: right;\n",
       "    }\n",
       "</style>\n",
       "<table border=\"1\" class=\"dataframe\">\n",
       "  <thead>\n",
       "    <tr style=\"text-align: right;\">\n",
       "      <th></th>\n",
       "      <th>0</th>\n",
       "    </tr>\n",
       "  </thead>\n",
       "  <tbody>\n",
       "    <tr>\n",
       "      <th>0</th>\n",
       "      <td>0</td>\n",
       "    </tr>\n",
       "    <tr>\n",
       "      <th>1</th>\n",
       "      <td>0</td>\n",
       "    </tr>\n",
       "    <tr>\n",
       "      <th>2</th>\n",
       "      <td>3</td>\n",
       "    </tr>\n",
       "  </tbody>\n",
       "</table>\n",
       "</div>"
      ],
      "text/plain": [
       "   0\n",
       "0  0\n",
       "1  0\n",
       "2  3"
      ]
     },
     "execution_count": 50,
     "metadata": {},
     "output_type": "execute_result"
    }
   ],
   "source": [
    "pd.DataFrame.where(s.to_frame(), m, 0)"
   ]
  },
  {
   "cell_type": "code",
   "execution_count": 48,
   "id": "c42325f2-889f-4af0-9a66-f89615a17474",
   "metadata": {
    "execution": {
     "iopub.execute_input": "2023-06-23T20:01:37.966550Z",
     "iopub.status.busy": "2023-06-23T20:01:37.966188Z",
     "iopub.status.idle": "2023-06-23T20:01:37.971149Z",
     "shell.execute_reply": "2023-06-23T20:01:37.970385Z",
     "shell.execute_reply.started": "2023-06-23T20:01:37.966520Z"
    },
    "tags": []
   },
   "outputs": [],
   "source": [
    "s = pd.Series([1,2,3])\n",
    "m = s > 2"
   ]
  },
  {
   "cell_type": "code",
   "execution_count": 52,
   "id": "b58c71ca-bf8a-4737-843b-62b3d0330364",
   "metadata": {
    "execution": {
     "iopub.execute_input": "2023-06-23T20:04:34.538232Z",
     "iopub.status.busy": "2023-06-23T20:04:34.537470Z",
     "iopub.status.idle": "2023-06-23T20:04:34.542313Z",
     "shell.execute_reply": "2023-06-23T20:04:34.541329Z",
     "shell.execute_reply.started": "2023-06-23T20:04:34.538199Z"
    },
    "tags": []
   },
   "outputs": [],
   "source": [
    "x = lambda s=0: s"
   ]
  },
  {
   "cell_type": "code",
   "execution_count": 27,
   "id": "d52d79fd-d5a2-406c-9c96-3600a6d518a1",
   "metadata": {
    "execution": {
     "iopub.execute_input": "2023-06-23T17:11:07.084114Z",
     "iopub.status.busy": "2023-06-23T17:11:07.083741Z",
     "iopub.status.idle": "2023-06-23T17:11:07.089069Z",
     "shell.execute_reply": "2023-06-23T17:11:07.088280Z",
     "shell.execute_reply.started": "2023-06-23T17:11:07.084096Z"
    },
    "tags": []
   },
   "outputs": [
    {
     "data": {
      "text/plain": [
       "tensor([ True, False])"
      ]
     },
     "execution_count": 27,
     "metadata": {},
     "output_type": "execute_result"
    }
   ],
   "source": [
    "torch.tensor([1.3, 0.0]).to(bool)"
   ]
  },
  {
   "cell_type": "code",
   "execution_count": 23,
   "id": "152421fc-9b56-4f9c-8043-91cba20eea3a",
   "metadata": {
    "execution": {
     "iopub.execute_input": "2023-06-23T16:57:16.302633Z",
     "iopub.status.busy": "2023-06-23T16:57:16.302284Z",
     "iopub.status.idle": "2023-06-23T16:57:16.445805Z",
     "shell.execute_reply": "2023-06-23T16:57:16.445389Z",
     "shell.execute_reply.started": "2023-06-23T16:57:16.302617Z"
    },
    "tags": []
   },
   "outputs": [
    {
     "data": {
      "image/png": "[encoded data removed]",
      "text/plain": [
       "<Figure size 640x480 with 1 Axes>"
      ]
     },
     "metadata": {},
     "output_type": "display_data"
    }
   ],
   "source": [
    "import matplotlib.pyplot as plt\n",
    "\n",
    "plt.hist(encoded.T[3]);"
   ]
  },
  {
   "cell_type": "code",
   "execution_count": 6,
   "id": "e9b6a6eb-1ed4-47c3-8627-77537dde03a3",
   "metadata": {
    "execution": {
     "iopub.execute_input": "2023-06-23T14:34:45.628938Z",
     "iopub.status.busy": "2023-06-23T14:34:45.628548Z",
     "iopub.status.idle": "2023-06-23T14:34:45.685085Z",
     "shell.execute_reply": "2023-06-23T14:34:45.684577Z",
     "shell.execute_reply.started": "2023-06-23T14:34:45.628922Z"
    },
    "tags": []
   },
   "outputs": [
    {
     "name": "stderr",
     "output_type": "stream",
     "text": [
      "INFO:tsdm.encoders.numerical.MinMaxScaler:Fitting encoder to data.\n"
     ]
    },
    {
     "name": "stdout",
     "output_type": "stream",
     "text": [
      "self.axis=()  axes=(0,)\n"
     ]
    },
    {
     "data": {
      "text/plain": [
       "array([-0.65559192, -0.43700592, -0.29195274, -0.31231232, -1.18899112,\n",
       "        1.04356706, -0.63555727,  1.47616824, -1.42742611,  1.18158063])"
      ]
     },
     "execution_count": 6,
     "metadata": {},
     "output_type": "execute_result"
    }
   ],
   "source": [
    "X = np.random.randn(10)\n",
    "encoder = MinMaxScaler()\n",
    "encoder.fit(X)\n",
    "encoded = encoder.encode(X)\n",
    "decoded = encoder.decode(encoded)"
   ]
  },
  {
   "cell_type": "code",
   "execution_count": null,
   "id": "b1055c24-28ec-4d02-8600-8224c9fca737",
   "metadata": {},
   "outputs": [],
   "source": []
  },
  {
   "cell_type": "code",
   "execution_count": 6,
   "id": "368057e1-59c7-4ae1-b4d9-838a1f24a097",
   "metadata": {
    "execution": {
     "iopub.execute_input": "2023-06-23T12:20:04.935539Z",
     "iopub.status.busy": "2023-06-23T12:20:04.935256Z",
     "iopub.status.idle": "2023-06-23T12:20:04.940509Z",
     "shell.execute_reply": "2023-06-23T12:20:04.939913Z",
     "shell.execute_reply.started": "2023-06-23T12:20:04.935523Z"
    },
    "tags": []
   },
   "outputs": [
    {
     "data": {
      "text/plain": [
       "MinMaxScaler<dataclass>(\n",
       "    ymin : ndarray[(5,), float64],\n",
       "    ymax : ndarray[(5,), float64],\n",
       "    xmin : ndarray[(5,), float64],\n",
       "    xmax : ndarray[(5,), float64],\n",
       "    scale: ndarray[(5,), float64],\n",
       "    axis : -1\n",
       ")"
      ]
     },
     "execution_count": 6,
     "metadata": {},
     "output_type": "execute_result"
    }
   ],
   "source": [
    "encoder"
   ]
  },
  {
   "cell_type": "code",
   "execution_count": 13,
   "id": "8f9cf148-0d60-44ba-b593-9e0c97fb2138",
   "metadata": {
    "execution": {
     "iopub.execute_input": "2023-06-23T12:21:52.393622Z",
     "iopub.status.busy": "2023-06-23T12:21:52.393018Z",
     "iopub.status.idle": "2023-06-23T12:21:52.399321Z",
     "shell.execute_reply": "2023-06-23T12:21:52.398436Z",
     "shell.execute_reply.started": "2023-06-23T12:21:52.393593Z"
    },
    "tags": []
   },
   "outputs": [
    {
     "data": {
      "text/plain": [
       "(slice(None, None, None), None)"
      ]
     },
     "execution_count": 13,
     "metadata": {},
     "output_type": "execute_result"
    }
   ],
   "source": [
    "get_broadcast(X.shape, axis=encoder.axis)"
   ]
  },
  {
   "cell_type": "code",
   "execution_count": 12,
   "id": "c346f087-b745-43e8-a358-0429c0b1e790",
   "metadata": {
    "execution": {
     "iopub.execute_input": "2023-06-23T12:21:25.238409Z",
     "iopub.status.busy": "2023-06-23T12:21:25.237545Z",
     "iopub.status.idle": "2023-06-23T12:21:25.243957Z",
     "shell.execute_reply": "2023-06-23T12:21:25.243146Z",
     "shell.execute_reply.started": "2023-06-23T12:21:25.238379Z"
    },
    "tags": []
   },
   "outputs": [
    {
     "data": {
      "text/plain": [
       "(slice(None, None, None), slice(None, None, None))"
      ]
     },
     "execution_count": 12,
     "metadata": {},
     "output_type": "execute_result"
    }
   ],
   "source": [
    "get_broadcast((10,5), axis=())"
   ]
  },
  {
   "cell_type": "code",
   "execution_count": 16,
   "id": "f8c0ac66-c536-4f8e-a447-6e52025bd4f1",
   "metadata": {
    "execution": {
     "iopub.execute_input": "2023-06-23T14:33:26.464430Z",
     "iopub.status.busy": "2023-06-23T14:33:26.463952Z",
     "iopub.status.idle": "2023-06-23T14:33:26.468648Z",
     "shell.execute_reply": "2023-06-23T14:33:26.468168Z",
     "shell.execute_reply.started": "2023-06-23T14:33:26.464391Z"
    },
    "tags": []
   },
   "outputs": [
    {
     "data": {
      "text/plain": [
       "(3, 2, 1, 2)"
      ]
     },
     "execution_count": 16,
     "metadata": {},
     "output_type": "execute_result"
    }
   ],
   "source": [
    "arr.shape"
   ]
  },
  {
   "cell_type": "code",
   "execution_count": 21,
   "id": "87165372-da1a-4011-9cce-77247e19a7e2",
   "metadata": {
    "execution": {
     "iopub.execute_input": "2023-06-23T14:33:42.911158Z",
     "iopub.status.busy": "2023-06-23T14:33:42.910565Z",
     "iopub.status.idle": "2023-06-23T14:33:42.916382Z",
     "shell.execute_reply": "2023-06-23T14:33:42.915786Z",
     "shell.execute_reply.started": "2023-06-23T14:33:42.911129Z"
    },
    "tags": []
   },
   "outputs": [
    {
     "data": {
      "text/plain": [
       "(3, 2)"
      ]
     },
     "execution_count": 21,
     "metadata": {},
     "output_type": "execute_result"
    }
   ],
   "source": [
    "np.mean(arr, axis=(-1, -2)).shape"
   ]
  },
  {
   "cell_type": "code",
   "execution_count": 19,
   "id": "16892f71-4efb-43ba-b25d-38c4a522bc97",
   "metadata": {
    "execution": {
     "iopub.execute_input": "2023-06-23T11:29:23.966096Z",
     "iopub.status.busy": "2023-06-23T11:29:23.965784Z",
     "iopub.status.idle": "2023-06-23T11:29:24.015324Z",
     "shell.execute_reply": "2023-06-23T11:29:24.014690Z",
     "shell.execute_reply.started": "2023-06-23T11:29:23.966079Z"
    },
    "tags": []
   },
   "outputs": [],
   "source": [
    "def repr_broadcast(x):\n",
    "    items = (\":\" if y == slice(None) else str(y) for y in x)\n",
    "    return f\"[{', '.join(items)}]\""
   ]
  },
  {
   "cell_type": "code",
   "execution_count": 29,
   "id": "57616c55-62ef-4497-8f84-0f7eb236624d",
   "metadata": {
    "execution": {
     "iopub.execute_input": "2023-06-23T11:31:25.884214Z",
     "iopub.status.busy": "2023-06-23T11:31:25.883690Z",
     "iopub.status.idle": "2023-06-23T11:31:25.968905Z",
     "shell.execute_reply": "2023-06-23T11:31:25.968084Z",
     "shell.execute_reply.started": "2023-06-23T11:31:25.884183Z"
    },
    "tags": []
   },
   "outputs": [
    {
     "name": "stdout",
     "output_type": "stream",
     "text": [
      "(3, 4)          (1, -1)         [:, None]\n",
      "(3, 4)          (-1,)           [:, None]\n",
      "(3, 4)          0               [None, :]\n",
      "(3, 4)          None            [None, None]\n",
      "(3, 4)          ()              [:, :]\n",
      "(7,)            (-1,)           [None]\n",
      "(7,)            0               [None]\n",
      "(7,)            None            [None]\n",
      "(7,)            ()              [:]\n"
     ]
    }
   ],
   "source": [
    "for shape in ((3, 4), (7,)):\n",
    "    for axis in ((1, -1), (-1,), 0, None, ()):\n",
    "        if isinstance(axis, tuple) and len(axis) > len(shape):\n",
    "            continue\n",
    "\n",
    "        broadcast = get_broadcast(shape, axis=axis)\n",
    "        print(f\"{str(shape):16s}{str(axis):16s}{repr_broadcast(broadcast)}\")"
   ]
  },
  {
   "cell_type": "code",
   "execution_count": 30,
   "id": "f5fbb4fa-e6a1-4204-8e83-fef1a5f50d30",
   "metadata": {
    "execution": {
     "iopub.execute_input": "2023-06-23T11:31:28.973780Z",
     "iopub.status.busy": "2023-06-23T11:31:28.973339Z",
     "iopub.status.idle": "2023-06-23T11:31:29.041333Z",
     "shell.execute_reply": "2023-06-23T11:31:29.040517Z",
     "shell.execute_reply.started": "2023-06-23T11:31:28.973754Z"
    },
    "tags": []
   },
   "outputs": [
    {
     "name": "stdout",
     "output_type": "stream",
     "text": [
      "(3, 4)          (1, -1)         [None, :]\n",
      "(3, 4)          (-1,)           [None, :]\n",
      "(3, 4)          0               [:, None]\n",
      "(3, 4)          None            [:, :]\n",
      "(3, 4)          ()              [None, None]\n",
      "(7,)            (-1,)           [:]\n",
      "(7,)            0               [:]\n",
      "(7,)            None            [:]\n",
      "(7,)            ()              [None]\n"
     ]
    }
   ],
   "source": [
    "for shape in ((3, 4), (7,)):\n",
    "    for axis in ((1, -1), (-1,), 0, None, ()):\n",
    "        if isinstance(axis, tuple) and len(axis) > len(shape):\n",
    "            continue\n",
    "\n",
    "        broadcast = get_broadcast(shape, axis=axis, keep_axis=True)\n",
    "        print(f\"{str(shape):16s}{str(axis):16s}{repr_broadcast(broadcast)}\")"
   ]
  },
  {
   "cell_type": "code",
   "execution_count": 16,
   "id": "f55d3de2-41ae-4d3e-980c-621e62515385",
   "metadata": {
    "execution": {
     "iopub.execute_input": "2023-06-23T11:25:17.500525Z",
     "iopub.status.busy": "2023-06-23T11:25:17.500133Z",
     "iopub.status.idle": "2023-06-23T11:25:17.565802Z",
     "shell.execute_reply": "2023-06-23T11:25:17.565205Z",
     "shell.execute_reply.started": "2023-06-23T11:25:17.500491Z"
    },
    "tags": []
   },
   "outputs": [
    {
     "data": {
      "text/plain": [
       "(None,)"
      ]
     },
     "execution_count": 16,
     "metadata": {},
     "output_type": "execute_result"
    }
   ],
   "source": [
    "get_broadcast(X.shape, axis=encoder.axis, keep_axis=False)"
   ]
  },
  {
   "cell_type": "code",
   "execution_count": 32,
   "id": "e791abb3-c0f0-4c13-be2a-773d391fdf05",
   "metadata": {
    "execution": {
     "iopub.execute_input": "2023-06-23T11:31:38.108024Z",
     "iopub.status.busy": "2023-06-23T11:31:38.107690Z",
     "iopub.status.idle": "2023-06-23T11:31:38.155039Z",
     "shell.execute_reply": "2023-06-23T11:31:38.153944Z",
     "shell.execute_reply.started": "2023-06-23T11:31:38.108008Z"
    },
    "tags": []
   },
   "outputs": [
    {
     "name": "stderr",
     "output_type": "stream",
     "text": [
      "INFO:tsdm.encoders.numerical.MinMaxScaler:Fitting encoder to data.\n"
     ]
    }
   ],
   "source": [
    "X = np.random.randn(10, 5)\n",
    "encoder = MinMaxScaler(axis=-1)\n",
    "encoder.fit(X)"
   ]
  },
  {
   "cell_type": "code",
   "execution_count": 33,
   "id": "e9ae9e3d-e1fc-4743-a313-6c3a384b4db6",
   "metadata": {
    "execution": {
     "iopub.execute_input": "2023-06-23T11:31:38.515136Z",
     "iopub.status.busy": "2023-06-23T11:31:38.514803Z",
     "iopub.status.idle": "2023-06-23T11:31:38.591290Z",
     "shell.execute_reply": "2023-06-23T11:31:38.590473Z",
     "shell.execute_reply.started": "2023-06-23T11:31:38.515120Z"
    },
    "tags": []
   },
   "outputs": [
    {
     "ename": "ValueError",
     "evalue": "operands could not be broadcast together with shapes (10,5) (5,1) ",
     "output_type": "error",
     "traceback": [
      "\u001b[0;31m---------------------------------------------------------------------------\u001b[0m",
      "\u001b[0;31mValueError\u001b[0m                                Traceback (most recent call last)",
      "Cell \u001b[0;32mIn[33], line 1\u001b[0m\n\u001b[0;32m----> 1\u001b[0m encoded \u001b[38;5;241m=\u001b[39m \u001b[43mencoder\u001b[49m\u001b[38;5;241;43m.\u001b[39;49m\u001b[43mencode\u001b[49m\u001b[43m(\u001b[49m\u001b[43mX\u001b[49m\u001b[43m)\u001b[49m\n\u001b[1;32m      2\u001b[0m decoded \u001b[38;5;241m=\u001b[39m encoder\u001b[38;5;241m.\u001b[39mdecode(encoded)\n",
      "File \u001b[0;32m~/Projects/KIWI/tsdm/src/tsdm/encoders/base.py:133\u001b[0m, in \u001b[0;36mBaseEncoder.__init_subclass__.<locals>.encode\u001b[0;34m(self, data)\u001b[0m\n\u001b[1;32m    131\u001b[0m \u001b[38;5;28;01mif\u001b[39;00m \u001b[38;5;129;01mnot\u001b[39;00m \u001b[38;5;28mself\u001b[39m\u001b[38;5;241m.\u001b[39mis_fitted:\n\u001b[1;32m    132\u001b[0m     \u001b[38;5;28;01mraise\u001b[39;00m \u001b[38;5;167;01mRuntimeError\u001b[39;00m(\u001b[38;5;124m\"\u001b[39m\u001b[38;5;124mEncoder has not been fitted.\u001b[39m\u001b[38;5;124m\"\u001b[39m)\n\u001b[0;32m--> 133\u001b[0m \u001b[38;5;28;01mreturn\u001b[39;00m \u001b[43moriginal_encode\u001b[49m\u001b[43m(\u001b[49m\u001b[38;5;28;43mself\u001b[39;49m\u001b[43m,\u001b[49m\u001b[43m \u001b[49m\u001b[43mdata\u001b[49m\u001b[43m)\u001b[49m\n",
      "File \u001b[0;32m~/Projects/KIWI/tsdm/src/tsdm/encoders/numerical.py:748\u001b[0m, in \u001b[0;36mMinMaxScaler.encode\u001b[0;34m(self, data)\u001b[0m\n\u001b[1;32m    746\u001b[0m scale \u001b[38;5;241m=\u001b[39m \u001b[38;5;28mself\u001b[39m\u001b[38;5;241m.\u001b[39mscale[broadcast]  \u001b[38;5;66;03m# if self.scale.ndim > 1 else self.scale\u001b[39;00m\n\u001b[1;32m    747\u001b[0m ymin \u001b[38;5;241m=\u001b[39m \u001b[38;5;28mself\u001b[39m\u001b[38;5;241m.\u001b[39mymin[broadcast]  \u001b[38;5;66;03m# if self.ymin.ndim > 1 else self.ymin\u001b[39;00m\n\u001b[0;32m--> 748\u001b[0m \u001b[38;5;28;01mreturn\u001b[39;00m (\u001b[43mdata\u001b[49m\u001b[43m \u001b[49m\u001b[38;5;241;43m-\u001b[39;49m\u001b[43m \u001b[49m\u001b[43mxmin\u001b[49m) \u001b[38;5;241m*\u001b[39m scale \u001b[38;5;241m+\u001b[39m ymin\n",
      "\u001b[0;31mValueError\u001b[0m: operands could not be broadcast together with shapes (10,5) (5,1) "
     ]
    }
   ],
   "source": [
    "encoded = encoder.encode(X)\n",
    "decoded = encoder.decode(encoded)"
   ]
  },
  {
   "cell_type": "code",
   "execution_count": 34,
   "id": "708949dd-9090-44cd-abff-d53fff81f675",
   "metadata": {
    "execution": {
     "iopub.execute_input": "2023-06-23T11:31:41.966384Z",
     "iopub.status.busy": "2023-06-23T11:31:41.966048Z",
     "iopub.status.idle": "2023-06-23T11:31:42.012499Z",
     "shell.execute_reply": "2023-06-23T11:31:42.011985Z",
     "shell.execute_reply.started": "2023-06-23T11:31:41.966368Z"
    },
    "tags": []
   },
   "outputs": [
    {
     "data": {
      "text/plain": [
       "(None, slice(None, None, None))"
      ]
     },
     "execution_count": 34,
     "metadata": {},
     "output_type": "execute_result"
    }
   ],
   "source": [
    "get_broadcast(X.shape, axis=encoder.axis, keep_axis=True)"
   ]
  },
  {
   "cell_type": "code",
   "execution_count": 36,
   "id": "14ff5ac3-713a-44c6-a596-1895af02c878",
   "metadata": {
    "execution": {
     "iopub.execute_input": "2023-06-23T12:15:18.258884Z",
     "iopub.status.busy": "2023-06-23T12:15:18.258560Z",
     "iopub.status.idle": "2023-06-23T12:15:18.319049Z",
     "shell.execute_reply": "2023-06-23T12:15:18.318296Z",
     "shell.execute_reply.started": "2023-06-23T12:15:18.258868Z"
    },
    "tags": []
   },
   "outputs": [
    {
     "data": {
      "text/plain": [
       "(None, slice(None, None, None))"
      ]
     },
     "execution_count": 36,
     "metadata": {},
     "output_type": "execute_result"
    }
   ],
   "source": [
    "get_broadcast((10, 5), axis=0)"
   ]
  },
  {
   "cell_type": "code",
   "execution_count": 37,
   "id": "13a25fc3-f947-4b7a-a9f8-d1c4960e0df8",
   "metadata": {
    "execution": {
     "iopub.execute_input": "2023-06-23T12:15:29.222505Z",
     "iopub.status.busy": "2023-06-23T12:15:29.222198Z",
     "iopub.status.idle": "2023-06-23T12:15:29.295079Z",
     "shell.execute_reply": "2023-06-23T12:15:29.294009Z",
     "shell.execute_reply.started": "2023-06-23T12:15:29.222474Z"
    },
    "tags": []
   },
   "outputs": [
    {
     "data": {
      "text/plain": [
       "(slice(None, None, None), None)"
      ]
     },
     "execution_count": 37,
     "metadata": {},
     "output_type": "execute_result"
    }
   ],
   "source": [
    "get_broadcast((10, 5), axis=-1)"
   ]
  },
  {
   "cell_type": "code",
   "execution_count": 5,
   "id": "30380513-3e4f-472b-a64a-3bff41c664ba",
   "metadata": {
    "execution": {
     "iopub.execute_input": "2023-06-23T12:18:15.447345Z",
     "iopub.status.busy": "2023-06-23T12:18:15.447133Z",
     "iopub.status.idle": "2023-06-23T12:18:15.496488Z",
     "shell.execute_reply": "2023-06-23T12:18:15.495981Z",
     "shell.execute_reply.started": "2023-06-23T12:18:15.447330Z"
    },
    "tags": []
   },
   "outputs": [
    {
     "data": {
      "text/plain": [
       "(None,)"
      ]
     },
     "execution_count": 5,
     "metadata": {},
     "output_type": "execute_result"
    }
   ],
   "source": [
    "get_broadcast((7,), axis=None)"
   ]
  },
  {
   "cell_type": "code",
   "execution_count": null,
   "id": "a3dcce07-0f1d-4cea-93aa-e518aa7cc548",
   "metadata": {},
   "outputs": [],
   "source": []
  },
  {
   "cell_type": "code",
   "execution_count": 7,
   "id": "e0f5bbf4-d98d-4171-85b4-698327b0ce31",
   "metadata": {
    "execution": {
     "iopub.execute_input": "2023-06-23T11:23:57.255672Z",
     "iopub.status.busy": "2023-06-23T11:23:57.255273Z",
     "iopub.status.idle": "2023-06-23T11:23:57.329810Z",
     "shell.execute_reply": "2023-06-23T11:23:57.329222Z",
     "shell.execute_reply.started": "2023-06-23T11:23:57.255650Z"
    },
    "tags": []
   },
   "outputs": [
    {
     "ename": "ValueError",
     "evalue": "operands could not be broadcast together with shapes (10,5) (5,1) ",
     "output_type": "error",
     "traceback": [
      "\u001b[0;31m---------------------------------------------------------------------------\u001b[0m",
      "\u001b[0;31mValueError\u001b[0m                                Traceback (most recent call last)",
      "Cell \u001b[0;32mIn[7], line 1\u001b[0m\n\u001b[0;32m----> 1\u001b[0m \u001b[43mencoder\u001b[49m\u001b[38;5;241;43m.\u001b[39;49m\u001b[43mencode\u001b[49m\u001b[43m(\u001b[49m\u001b[43mX\u001b[49m\u001b[43m)\u001b[49m\n",
      "File \u001b[0;32m~/Projects/KIWI/tsdm/src/tsdm/encoders/base.py:133\u001b[0m, in \u001b[0;36mBaseEncoder.__init_subclass__.<locals>.encode\u001b[0;34m(self, data)\u001b[0m\n\u001b[1;32m    131\u001b[0m \u001b[38;5;28;01mif\u001b[39;00m \u001b[38;5;129;01mnot\u001b[39;00m \u001b[38;5;28mself\u001b[39m\u001b[38;5;241m.\u001b[39mis_fitted:\n\u001b[1;32m    132\u001b[0m     \u001b[38;5;28;01mraise\u001b[39;00m \u001b[38;5;167;01mRuntimeError\u001b[39;00m(\u001b[38;5;124m\"\u001b[39m\u001b[38;5;124mEncoder has not been fitted.\u001b[39m\u001b[38;5;124m\"\u001b[39m)\n\u001b[0;32m--> 133\u001b[0m \u001b[38;5;28;01mreturn\u001b[39;00m \u001b[43moriginal_encode\u001b[49m\u001b[43m(\u001b[49m\u001b[38;5;28;43mself\u001b[39;49m\u001b[43m,\u001b[49m\u001b[43m \u001b[49m\u001b[43mdata\u001b[49m\u001b[43m)\u001b[49m\n",
      "File \u001b[0;32m~/Projects/KIWI/tsdm/src/tsdm/encoders/numerical.py:748\u001b[0m, in \u001b[0;36mMinMaxScaler.encode\u001b[0;34m(self, data)\u001b[0m\n\u001b[1;32m    746\u001b[0m scale \u001b[38;5;241m=\u001b[39m \u001b[38;5;28mself\u001b[39m\u001b[38;5;241m.\u001b[39mscale[broadcast]  \u001b[38;5;66;03m# if self.scale.ndim > 1 else self.scale\u001b[39;00m\n\u001b[1;32m    747\u001b[0m ymin \u001b[38;5;241m=\u001b[39m \u001b[38;5;28mself\u001b[39m\u001b[38;5;241m.\u001b[39mymin[broadcast]  \u001b[38;5;66;03m# if self.ymin.ndim > 1 else self.ymin\u001b[39;00m\n\u001b[0;32m--> 748\u001b[0m \u001b[38;5;28;01mreturn\u001b[39;00m (\u001b[43mdata\u001b[49m\u001b[43m \u001b[49m\u001b[38;5;241;43m-\u001b[39;49m\u001b[43m \u001b[49m\u001b[43mxmin\u001b[49m) \u001b[38;5;241m*\u001b[39m scale \u001b[38;5;241m+\u001b[39m ymin\n",
      "\u001b[0;31mValueError\u001b[0m: operands could not be broadcast together with shapes (10,5) (5,1) "
     ]
    }
   ],
   "source": [
    "encoder.encode(X)"
   ]
  },
  {
   "cell_type": "code",
   "execution_count": null,
   "id": "53487fa4-2c94-496a-9276-1934f17ff82d",
   "metadata": {},
   "outputs": [],
   "source": []
  },
  {
   "cell_type": "code",
   "execution_count": 10,
   "id": "d0a814ac-2319-46ef-9b35-a79e7d1da5ad",
   "metadata": {
    "execution": {
     "iopub.execute_input": "2023-06-23T11:20:08.016106Z",
     "iopub.status.busy": "2023-06-23T11:20:08.015502Z",
     "iopub.status.idle": "2023-06-23T11:20:08.022615Z",
     "shell.execute_reply": "2023-06-23T11:20:08.021534Z",
     "shell.execute_reply.started": "2023-06-23T11:20:08.016077Z"
    },
    "tags": []
   },
   "outputs": [
    {
     "data": {
      "text/plain": [
       "(None,)"
      ]
     },
     "execution_count": 10,
     "metadata": {},
     "output_type": "execute_result"
    }
   ],
   "source": [
    "get_broadcast(X.shape, axis=encoder.axis)"
   ]
  },
  {
   "cell_type": "code",
   "execution_count": 7,
   "id": "d41e9e16-616b-457d-85eb-2f851bcf7b0d",
   "metadata": {
    "execution": {
     "iopub.execute_input": "2023-06-23T11:19:21.886054Z",
     "iopub.status.busy": "2023-06-23T11:19:21.885494Z",
     "iopub.status.idle": "2023-06-23T11:19:21.893308Z",
     "shell.execute_reply": "2023-06-23T11:19:21.892389Z",
     "shell.execute_reply.started": "2023-06-23T11:19:21.886023Z"
    },
    "tags": []
   },
   "outputs": [
    {
     "data": {
      "text/plain": [
       "MinMaxScaler<dataclass>(\n",
       "    ymin : 0.0,\n",
       "    ymax : 1.0,\n",
       "    xmin : -2.3487750637723197,\n",
       "    xmax : 2.4128752135108686,\n",
       "    scale: 0.21001122337160827,\n",
       "    axis : None\n",
       ")"
      ]
     },
     "execution_count": 7,
     "metadata": {},
     "output_type": "execute_result"
    }
   ],
   "source": [
    "encoder"
   ]
  }
 ],
 "metadata": {
  "kernelspec": {
   "display_name": "Python 3 (ipykernel)",
   "language": "python",
   "name": "python3"
  },
  "language_info": {
   "codemirror_mode": {
    "name": "ipython",
    "version": 3
   },
   "file_extension": ".py",
   "mimetype": "text/x-python",
   "name": "python",
   "nbconvert_exporter": "python",
   "pygments_lexer": "ipython3",
   "version": "3.10.11"
  }
 },
 "nbformat": 4,
 "nbformat_minor": 5
}
