{
 "cells": [
  {
   "cell_type": "code",
   "execution_count": null,
   "id": "07574fc2-760a-4459-a90a-1c96de12484a",
   "metadata": {
    "execution": {
     "iopub.execute_input": "2023-01-23T23:43:01.154255Z",
     "iopub.status.busy": "2023-01-23T23:43:01.153876Z",
     "iopub.status.idle": "2023-01-23T23:43:01.506440Z",
     "shell.execute_reply": "2023-01-23T23:43:01.506037Z",
     "shell.execute_reply.started": "2023-01-23T23:43:01.154229Z"
    },
    "tags": []
   },
   "outputs": [],
   "source": [
    "%config InteractiveShell.ast_node_interactivity='last_expr_or_assign'  # always print last expr.\n",
    "%config InlineBackend.figure_format = 'svg'\n",
    "%load_ext autoreload\n",
    "%autoreload 2\n",
    "%matplotlib inline\n",
    "\n",
    "import logging\n",
    "\n",
    "logging.basicConfig(level=logging.DEBUG)"
   ]
  },
  {
   "cell_type": "code",
   "execution_count": null,
   "id": "9e7b2617-75a0-4d9c-80de-5b9dd7b03ee6",
   "metadata": {
    "execution": {
     "iopub.execute_input": "2023-01-23T23:53:13.972130Z",
     "iopub.status.busy": "2023-01-23T23:53:13.971788Z",
     "iopub.status.idle": "2023-01-23T23:53:13.993264Z",
     "shell.execute_reply": "2023-01-23T23:53:13.992543Z",
     "shell.execute_reply.started": "2023-01-23T23:53:13.972107Z"
    },
    "tags": []
   },
   "outputs": [],
   "source": [
    "import torch\n",
    "\n",
    "t0 = torch.tensor([0.0])\n",
    "t = torch.sort(torch.rand(9)).values"
   ]
  },
  {
   "cell_type": "code",
   "execution_count": null,
   "id": "c395a389-9f41-4ebd-90ae-8d53d4f36e1e",
   "metadata": {
    "execution": {
     "iopub.execute_input": "2023-01-23T23:53:14.871176Z",
     "iopub.status.busy": "2023-01-23T23:53:14.870694Z",
     "iopub.status.idle": "2023-01-23T23:53:14.892268Z",
     "shell.execute_reply": "2023-01-23T23:53:14.891407Z",
     "shell.execute_reply.started": "2023-01-23T23:53:14.871152Z"
    },
    "tags": []
   },
   "outputs": [],
   "source": [
    "s = torch.rand(5)"
   ]
  },
  {
   "cell_type": "code",
   "execution_count": null,
   "id": "11487f97-84e2-4661-af32-570a7487a358",
   "metadata": {
    "execution": {
     "iopub.execute_input": "2023-01-23T23:53:15.590513Z",
     "iopub.status.busy": "2023-01-23T23:53:15.590154Z",
     "iopub.status.idle": "2023-01-23T23:53:15.602682Z",
     "shell.execute_reply": "2023-01-23T23:53:15.602245Z",
     "shell.execute_reply.started": "2023-01-23T23:53:15.590499Z"
    },
    "tags": []
   },
   "outputs": [],
   "source": [
    "inds = torch.searchsorted(t, s, right=True)"
   ]
  },
  {
   "cell_type": "code",
   "execution_count": null,
   "id": "128ee575-fc8b-4740-bf31-e3430541ea1e",
   "metadata": {
    "execution": {
     "iopub.execute_input": "2023-01-23T23:53:15.777795Z",
     "iopub.status.busy": "2023-01-23T23:53:15.777379Z",
     "iopub.status.idle": "2023-01-23T23:53:15.790223Z",
     "shell.execute_reply": "2023-01-23T23:53:15.789822Z",
     "shell.execute_reply.started": "2023-01-23T23:53:15.777779Z"
    },
    "tags": []
   },
   "outputs": [],
   "source": [
    "T = torch.concat([t0, t])"
   ]
  },
  {
   "cell_type": "code",
   "execution_count": null,
   "id": "7f29a27f-6fa5-4698-88f3-2562996ede9b",
   "metadata": {
    "execution": {
     "iopub.execute_input": "2023-01-23T23:53:16.029763Z",
     "iopub.status.busy": "2023-01-23T23:53:16.029368Z",
     "iopub.status.idle": "2023-01-23T23:53:16.042662Z",
     "shell.execute_reply": "2023-01-23T23:53:16.042144Z",
     "shell.execute_reply.started": "2023-01-23T23:53:16.029742Z"
    },
    "tags": []
   },
   "outputs": [],
   "source": [
    "t"
   ]
  },
  {
   "cell_type": "code",
   "execution_count": null,
   "id": "08e174fe-e2d2-4041-874a-a51e23529c2a",
   "metadata": {
    "execution": {
     "iopub.execute_input": "2023-01-23T23:53:16.370406Z",
     "iopub.status.busy": "2023-01-23T23:53:16.370065Z",
     "iopub.status.idle": "2023-01-23T23:53:16.391028Z",
     "shell.execute_reply": "2023-01-23T23:53:16.390368Z",
     "shell.execute_reply.started": "2023-01-23T23:53:16.370383Z"
    },
    "tags": []
   },
   "outputs": [],
   "source": [
    "s"
   ]
  },
  {
   "cell_type": "code",
   "execution_count": null,
   "id": "42e0499e-83ef-489c-ab5a-15108f1d5010",
   "metadata": {
    "execution": {
     "iopub.execute_input": "2023-01-23T23:53:16.694878Z",
     "iopub.status.busy": "2023-01-23T23:53:16.694225Z",
     "iopub.status.idle": "2023-01-23T23:53:16.716417Z",
     "shell.execute_reply": "2023-01-23T23:53:16.715835Z",
     "shell.execute_reply.started": "2023-01-23T23:53:16.694851Z"
    },
    "tags": []
   },
   "outputs": [],
   "source": [
    "T[inds]"
   ]
  },
  {
   "cell_type": "code",
   "execution_count": null,
   "id": "075f86c8-74a0-4296-b40d-9bb68c337fa6",
   "metadata": {
    "execution": {
     "iopub.execute_input": "2023-01-23T23:43:56.751357Z",
     "iopub.status.busy": "2023-01-23T23:43:56.750830Z",
     "iopub.status.idle": "2023-01-23T23:43:56.770197Z",
     "shell.execute_reply": "2023-01-23T23:43:56.769652Z",
     "shell.execute_reply.started": "2023-01-23T23:43:56.751329Z"
    }
   },
   "outputs": [],
   "source": [
    "?torch.searchsorted"
   ]
  },
  {
   "cell_type": "code",
   "execution_count": null,
   "id": "f423350b-c767-41b2-a0e7-44eec81fda3c",
   "metadata": {},
   "outputs": [],
   "source": []
  }
 ],
 "metadata": {
  "kernelspec": {
   "display_name": "Python 3 (ipykernel)",
   "language": "python",
   "name": "python3"
  },
  "language_info": {
   "codemirror_mode": {
    "name": "ipython",
    "version": 3
   },
   "file_extension": ".py",
   "mimetype": "text/x-python",
   "name": "python",
   "nbconvert_exporter": "python",
   "pygments_lexer": "ipython3",
   "version": "3.10.8"
  }
 },
 "nbformat": 4,
 "nbformat_minor": 5
}
