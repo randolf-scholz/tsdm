{
 "cells": [
  {
   "cell_type": "code",
   "execution_count": null,
   "id": "07574fc2-760a-4459-a90a-1c96de12484a",
   "metadata": {
    "execution": {
     "iopub.execute_input": "2023-02-17T14:51:21.658860Z",
     "iopub.status.busy": "2023-02-17T14:51:21.658757Z",
     "iopub.status.idle": "2023-02-17T14:51:22.023869Z",
     "shell.execute_reply": "2023-02-17T14:51:22.023415Z",
     "shell.execute_reply.started": "2023-02-17T14:51:21.658849Z"
    },
    "tags": []
   },
   "outputs": [],
   "source": [
    "%config InteractiveShell.ast_node_interactivity='last_expr_or_assign'  # always print last expr.\n",
    "%config InlineBackend.figure_format = 'svg'\n",
    "%load_ext autoreload\n",
    "%autoreload 2\n",
    "%matplotlib inline\n",
    "\n",
    "import logging\n",
    "\n",
    "# logging.basicConfig(level=logging.DEBUG)"
   ]
  },
  {
   "cell_type": "markdown",
   "id": "a5449714-2e01-4cf8-b3d9-96310daebc3b",
   "metadata": {},
   "source": [
    "$$    X^t X^T X^⊤ ||| Xᵗ Xᵀ |||  xᵗ  xᵀ ||| x^t x^T x^⊤ $$"
   ]
  },
  {
   "cell_type": "code",
   "execution_count": null,
   "id": "9ae1a662-d3af-4261-be08-4b51775bfe51",
   "metadata": {
    "execution": {
     "iopub.execute_input": "2023-02-17T17:19:06.381566Z",
     "iopub.status.busy": "2023-02-17T17:19:06.381350Z",
     "iopub.status.idle": "2023-02-17T17:19:06.402404Z",
     "shell.execute_reply": "2023-02-17T17:19:06.401908Z",
     "shell.execute_reply.started": "2023-02-17T17:19:06.381553Z"
    }
   },
   "outputs": [],
   "source": [
    "import numpy as np"
   ]
  },
  {
   "cell_type": "code",
   "execution_count": null,
   "id": "8c3f53b8-0d7c-45f4-932c-8ff6b6e9ba6d",
   "metadata": {
    "execution": {
     "iopub.execute_input": "2023-02-17T14:51:22.024900Z",
     "iopub.status.busy": "2023-02-17T14:51:22.024723Z",
     "iopub.status.idle": "2023-02-17T14:51:23.544927Z",
     "shell.execute_reply": "2023-02-17T14:51:23.544522Z",
     "shell.execute_reply.started": "2023-02-17T14:51:22.024888Z"
    },
    "tags": []
   },
   "outputs": [],
   "source": [
    "import tsdm"
   ]
  },
  {
   "cell_type": "code",
   "execution_count": null,
   "id": "5c08a170-baa1-4fe0-9335-69e46dca7fc5",
   "metadata": {
    "execution": {
     "iopub.execute_input": "2023-02-17T14:51:41.076220Z",
     "iopub.status.busy": "2023-02-17T14:51:41.076043Z",
     "iopub.status.idle": "2023-02-17T14:51:44.335823Z",
     "shell.execute_reply": "2023-02-17T14:51:44.335282Z",
     "shell.execute_reply.started": "2023-02-17T14:51:41.076206Z"
    },
    "tags": []
   },
   "outputs": [],
   "source": [
    "task = tsdm.tasks.KiwiTask()"
   ]
  },
  {
   "cell_type": "code",
   "execution_count": null,
   "id": "e429967a-7364-43cd-b169-0517efe61b4f",
   "metadata": {
    "execution": {
     "iopub.execute_input": "2023-02-17T14:21:05.216275Z",
     "iopub.status.busy": "2023-02-17T14:21:05.215968Z",
     "iopub.status.idle": "2023-02-17T14:21:05.237736Z",
     "shell.execute_reply": "2023-02-17T14:21:05.237055Z",
     "shell.execute_reply.started": "2023-02-17T14:21:05.216255Z"
    },
    "tags": []
   },
   "outputs": [],
   "source": [
    "task.make_sampler.__annotations__"
   ]
  },
  {
   "cell_type": "code",
   "execution_count": null,
   "id": "a8e81b33-12fa-40b7-92f6-6ec23351829e",
   "metadata": {
    "execution": {
     "iopub.execute_input": "2023-02-17T14:21:05.740207Z",
     "iopub.status.busy": "2023-02-17T14:21:05.740003Z",
     "iopub.status.idle": "2023-02-17T14:21:05.761081Z",
     "shell.execute_reply": "2023-02-17T14:21:05.760686Z",
     "shell.execute_reply.started": "2023-02-17T14:21:05.740195Z"
    },
    "tags": []
   },
   "outputs": [],
   "source": [
    "task.splits"
   ]
  },
  {
   "cell_type": "code",
   "execution_count": null,
   "id": "cfb0d09e-c240-4516-aa32-ef8346053422",
   "metadata": {
    "execution": {
     "iopub.execute_input": "2023-02-17T14:11:38.039061Z",
     "iopub.status.busy": "2023-02-17T14:11:38.038836Z",
     "iopub.status.idle": "2023-02-17T14:11:38.048291Z",
     "shell.execute_reply": "2023-02-17T14:11:38.047961Z",
     "shell.execute_reply.started": "2023-02-17T14:11:38.039047Z"
    },
    "tags": []
   },
   "outputs": [],
   "source": [
    "task"
   ]
  },
  {
   "cell_type": "code",
   "execution_count": null,
   "id": "cce2dc0e-24ce-4959-aff7-01b093f6058b",
   "metadata": {
    "execution": {
     "iopub.execute_input": "2023-02-17T12:14:22.161165Z",
     "iopub.status.busy": "2023-02-17T12:14:22.160873Z",
     "iopub.status.idle": "2023-02-17T12:14:22.184836Z",
     "shell.execute_reply": "2023-02-17T12:14:22.184222Z",
     "shell.execute_reply.started": "2023-02-17T12:14:22.161143Z"
    },
    "tags": []
   },
   "outputs": [],
   "source": [
    "task.dataloaders"
   ]
  },
  {
   "cell_type": "code",
   "execution_count": null,
   "id": "054b7d9c-5f93-4f4b-995b-dbfee5cbbc22",
   "metadata": {
    "execution": {
     "iopub.execute_input": "2023-02-17T11:46:13.016698Z",
     "iopub.status.busy": "2023-02-17T11:46:13.016504Z",
     "iopub.status.idle": "2023-02-17T11:46:13.770709Z",
     "shell.execute_reply": "2023-02-17T11:46:13.770197Z",
     "shell.execute_reply.started": "2023-02-17T11:46:13.016686Z"
    },
    "tags": []
   },
   "outputs": [],
   "source": [
    "ds = tsdm.datasets.KiwiDataset()"
   ]
  },
  {
   "cell_type": "code",
   "execution_count": null,
   "id": "c8c8a811-3441-4d67-8c88-102ce99a5211",
   "metadata": {
    "execution": {
     "iopub.execute_input": "2023-02-17T13:23:30.351324Z",
     "iopub.status.busy": "2023-02-17T13:23:30.351099Z",
     "iopub.status.idle": "2023-02-17T13:23:30.371894Z",
     "shell.execute_reply": "2023-02-17T13:23:30.371114Z",
     "shell.execute_reply.started": "2023-02-17T13:23:30.351311Z"
    },
    "tags": []
   },
   "outputs": [],
   "source": [
    "class Foo:\n",
    "    def __call__(x: int) -> None:\n",
    "        pass\n",
    "\n",
    "\n",
    "class Bar:\n",
    "    def __call__(x):\n",
    "        pass\n",
    "\n",
    "\n",
    "def f(x: int) -> int:\n",
    "    pass\n",
    "\n",
    "\n",
    "def g(x):\n",
    "    pass\n",
    "\n",
    "\n",
    "h = lambda x: x"
   ]
  },
  {
   "cell_type": "code",
   "execution_count": null,
   "id": "e9520c13-baa6-4ef6-ad55-8fadd4e7374f",
   "metadata": {
    "execution": {
     "iopub.execute_input": "2023-02-17T13:37:31.178885Z",
     "iopub.status.busy": "2023-02-17T13:37:31.178070Z",
     "iopub.status.idle": "2023-02-17T13:37:31.206670Z",
     "shell.execute_reply": "2023-02-17T13:37:31.206113Z",
     "shell.execute_reply.started": "2023-02-17T13:37:31.178814Z"
    },
    "tags": []
   },
   "outputs": [],
   "source": [
    "from typing import Callable\n",
    "from types import FunctionType\n",
    "\n",
    "\n",
    "def foo():\n",
    "    pass\n",
    "\n",
    "\n",
    "assert isinstance(foo, FunctionType)"
   ]
  },
  {
   "cell_type": "code",
   "execution_count": null,
   "id": "8acaff6f-8d01-4caf-9fd6-5477658b6f62",
   "metadata": {
    "execution": {
     "iopub.execute_input": "2023-02-17T13:23:48.129752Z",
     "iopub.status.busy": "2023-02-17T13:23:48.129461Z",
     "iopub.status.idle": "2023-02-17T13:23:48.152211Z",
     "shell.execute_reply": "2023-02-17T13:23:48.151615Z",
     "shell.execute_reply.started": "2023-02-17T13:23:48.129729Z"
    }
   },
   "outputs": [],
   "source": [
    "Bar().__annotations__"
   ]
  },
  {
   "cell_type": "code",
   "execution_count": null,
   "id": "cd5f1785-b034-452f-b2b3-7a2c9f976e1e",
   "metadata": {
    "execution": {
     "iopub.execute_input": "2023-02-17T13:28:18.417559Z",
     "iopub.status.busy": "2023-02-17T13:28:18.417192Z",
     "iopub.status.idle": "2023-02-17T13:28:18.438471Z",
     "shell.execute_reply": "2023-02-17T13:28:18.437684Z",
     "shell.execute_reply.started": "2023-02-17T13:28:18.417530Z"
    },
    "tags": []
   },
   "outputs": [],
   "source": [
    "Foo.__annotations__"
   ]
  },
  {
   "cell_type": "code",
   "execution_count": null,
   "id": "f19146e2-9bbb-434d-b2a8-ae6bd8f5229b",
   "metadata": {
    "execution": {
     "iopub.execute_input": "2023-02-17T13:19:08.460794Z",
     "iopub.status.busy": "2023-02-17T13:19:08.460605Z",
     "iopub.status.idle": "2023-02-17T13:19:08.481587Z",
     "shell.execute_reply": "2023-02-17T13:19:08.481127Z",
     "shell.execute_reply.started": "2023-02-17T13:19:08.460781Z"
    },
    "tags": []
   },
   "outputs": [],
   "source": [
    "g.__annotations__"
   ]
  },
  {
   "cell_type": "code",
   "execution_count": null,
   "id": "2a72a0e0-5851-47d0-9bbb-32f0262ff354",
   "metadata": {
    "execution": {
     "iopub.execute_input": "2023-02-17T13:26:43.039503Z",
     "iopub.status.busy": "2023-02-17T13:26:43.039173Z",
     "iopub.status.idle": "2023-02-17T13:26:43.059195Z",
     "shell.execute_reply": "2023-02-17T13:26:43.058726Z",
     "shell.execute_reply.started": "2023-02-17T13:26:43.039480Z"
    },
    "tags": []
   },
   "outputs": [],
   "source": [
    "from types import FunctionType, LambdaType"
   ]
  },
  {
   "cell_type": "code",
   "execution_count": null,
   "id": "db26aede-ca2e-4357-911c-1ee8d5103853",
   "metadata": {
    "execution": {
     "iopub.execute_input": "2023-02-17T13:26:53.246291Z",
     "iopub.status.busy": "2023-02-17T13:26:53.245812Z",
     "iopub.status.idle": "2023-02-17T13:26:53.270476Z",
     "shell.execute_reply": "2023-02-17T13:26:53.269989Z",
     "shell.execute_reply.started": "2023-02-17T13:26:53.246246Z"
    }
   },
   "outputs": [],
   "source": [
    "issubclass(LambdaType, FunctionType)"
   ]
  },
  {
   "cell_type": "code",
   "execution_count": null,
   "id": "01d562c7-4ecd-46d5-b7e0-882b607ec34b",
   "metadata": {
    "execution": {
     "iopub.execute_input": "2023-02-17T13:25:45.689077Z",
     "iopub.status.busy": "2023-02-17T13:25:45.688871Z",
     "iopub.status.idle": "2023-02-17T13:25:45.711477Z",
     "shell.execute_reply": "2023-02-17T13:25:45.710383Z",
     "shell.execute_reply.started": "2023-02-17T13:25:45.689064Z"
    },
    "tags": []
   },
   "outputs": [],
   "source": [
    "isinstance(Foo(), FunctionType)"
   ]
  },
  {
   "cell_type": "code",
   "execution_count": null,
   "id": "91399828-d3fc-436f-9ac4-2d9691285ab1",
   "metadata": {
    "execution": {
     "iopub.execute_input": "2023-02-17T13:25:24.567138Z",
     "iopub.status.busy": "2023-02-17T13:25:24.566919Z",
     "iopub.status.idle": "2023-02-17T13:25:24.588151Z",
     "shell.execute_reply": "2023-02-17T13:25:24.587192Z",
     "shell.execute_reply.started": "2023-02-17T13:25:24.567125Z"
    }
   },
   "outputs": [],
   "source": [
    "type(g)"
   ]
  },
  {
   "cell_type": "code",
   "execution_count": null,
   "id": "c9dcf9d8-b870-4408-bb95-c0f8fc9dece9",
   "metadata": {
    "execution": {
     "iopub.execute_input": "2023-02-17T13:25:19.970971Z",
     "iopub.status.busy": "2023-02-17T13:25:19.970325Z",
     "iopub.status.idle": "2023-02-17T13:25:19.991959Z",
     "shell.execute_reply": "2023-02-17T13:25:19.991231Z",
     "shell.execute_reply.started": "2023-02-17T13:25:19.970948Z"
    },
    "tags": []
   },
   "outputs": [],
   "source": [
    "type(h)"
   ]
  },
  {
   "cell_type": "code",
   "execution_count": null,
   "id": "241f4e7c-6783-492b-964a-2a83e39d7455",
   "metadata": {
    "execution": {
     "iopub.execute_input": "2023-02-17T11:58:03.437935Z",
     "iopub.status.busy": "2023-02-17T11:58:03.437624Z",
     "iopub.status.idle": "2023-02-17T11:58:03.446629Z",
     "shell.execute_reply": "2023-02-17T11:58:03.446143Z",
     "shell.execute_reply.started": "2023-02-17T11:58:03.437912Z"
    },
    "tags": []
   },
   "outputs": [],
   "source": [
    "ds.metadata_features"
   ]
  },
  {
   "cell_type": "code",
   "execution_count": null,
   "id": "9e7b2617-75a0-4d9c-80de-5b9dd7b03ee6",
   "metadata": {
    "execution": {
     "iopub.execute_input": "2023-01-23T23:53:13.972130Z",
     "iopub.status.busy": "2023-01-23T23:53:13.971788Z",
     "iopub.status.idle": "2023-01-23T23:53:13.993264Z",
     "shell.execute_reply": "2023-01-23T23:53:13.992543Z",
     "shell.execute_reply.started": "2023-01-23T23:53:13.972107Z"
    },
    "tags": []
   },
   "outputs": [],
   "source": [
    "import torch\n",
    "\n",
    "t0 = torch.tensor([0.0])\n",
    "t = torch.sort(torch.rand(9)).values"
   ]
  },
  {
   "cell_type": "code",
   "execution_count": null,
   "id": "c395a389-9f41-4ebd-90ae-8d53d4f36e1e",
   "metadata": {
    "execution": {
     "iopub.execute_input": "2023-01-23T23:53:14.871176Z",
     "iopub.status.busy": "2023-01-23T23:53:14.870694Z",
     "iopub.status.idle": "2023-01-23T23:53:14.892268Z",
     "shell.execute_reply": "2023-01-23T23:53:14.891407Z",
     "shell.execute_reply.started": "2023-01-23T23:53:14.871152Z"
    },
    "tags": []
   },
   "outputs": [],
   "source": [
    "s = torch.rand(5)"
   ]
  },
  {
   "cell_type": "code",
   "execution_count": null,
   "id": "11487f97-84e2-4661-af32-570a7487a358",
   "metadata": {
    "execution": {
     "iopub.execute_input": "2023-01-23T23:53:15.590513Z",
     "iopub.status.busy": "2023-01-23T23:53:15.590154Z",
     "iopub.status.idle": "2023-01-23T23:53:15.602682Z",
     "shell.execute_reply": "2023-01-23T23:53:15.602245Z",
     "shell.execute_reply.started": "2023-01-23T23:53:15.590499Z"
    },
    "tags": []
   },
   "outputs": [],
   "source": [
    "inds = torch.searchsorted(t, s, right=True)"
   ]
  },
  {
   "cell_type": "code",
   "execution_count": null,
   "id": "128ee575-fc8b-4740-bf31-e3430541ea1e",
   "metadata": {
    "execution": {
     "iopub.execute_input": "2023-01-23T23:53:15.777795Z",
     "iopub.status.busy": "2023-01-23T23:53:15.777379Z",
     "iopub.status.idle": "2023-01-23T23:53:15.790223Z",
     "shell.execute_reply": "2023-01-23T23:53:15.789822Z",
     "shell.execute_reply.started": "2023-01-23T23:53:15.777779Z"
    },
    "tags": []
   },
   "outputs": [],
   "source": [
    "T = torch.concat([t0, t])"
   ]
  },
  {
   "cell_type": "code",
   "execution_count": null,
   "id": "7f29a27f-6fa5-4698-88f3-2562996ede9b",
   "metadata": {
    "execution": {
     "iopub.execute_input": "2023-01-23T23:53:16.029763Z",
     "iopub.status.busy": "2023-01-23T23:53:16.029368Z",
     "iopub.status.idle": "2023-01-23T23:53:16.042662Z",
     "shell.execute_reply": "2023-01-23T23:53:16.042144Z",
     "shell.execute_reply.started": "2023-01-23T23:53:16.029742Z"
    },
    "tags": []
   },
   "outputs": [],
   "source": [
    "t"
   ]
  },
  {
   "cell_type": "code",
   "execution_count": null,
   "id": "08e174fe-e2d2-4041-874a-a51e23529c2a",
   "metadata": {
    "execution": {
     "iopub.execute_input": "2023-01-23T23:53:16.370406Z",
     "iopub.status.busy": "2023-01-23T23:53:16.370065Z",
     "iopub.status.idle": "2023-01-23T23:53:16.391028Z",
     "shell.execute_reply": "2023-01-23T23:53:16.390368Z",
     "shell.execute_reply.started": "2023-01-23T23:53:16.370383Z"
    },
    "tags": []
   },
   "outputs": [],
   "source": [
    "s"
   ]
  },
  {
   "cell_type": "code",
   "execution_count": null,
   "id": "42e0499e-83ef-489c-ab5a-15108f1d5010",
   "metadata": {
    "execution": {
     "iopub.execute_input": "2023-01-23T23:53:16.694878Z",
     "iopub.status.busy": "2023-01-23T23:53:16.694225Z",
     "iopub.status.idle": "2023-01-23T23:53:16.716417Z",
     "shell.execute_reply": "2023-01-23T23:53:16.715835Z",
     "shell.execute_reply.started": "2023-01-23T23:53:16.694851Z"
    },
    "tags": []
   },
   "outputs": [],
   "source": [
    "T[inds]"
   ]
  },
  {
   "cell_type": "code",
   "execution_count": null,
   "id": "075f86c8-74a0-4296-b40d-9bb68c337fa6",
   "metadata": {
    "execution": {
     "iopub.execute_input": "2023-01-23T23:43:56.751357Z",
     "iopub.status.busy": "2023-01-23T23:43:56.750830Z",
     "iopub.status.idle": "2023-01-23T23:43:56.770197Z",
     "shell.execute_reply": "2023-01-23T23:43:56.769652Z",
     "shell.execute_reply.started": "2023-01-23T23:43:56.751329Z"
    }
   },
   "outputs": [],
   "source": [
    "?torch.searchsorted"
   ]
  },
  {
   "cell_type": "code",
   "execution_count": null,
   "id": "f423350b-c767-41b2-a0e7-44eec81fda3c",
   "metadata": {},
   "outputs": [],
   "source": []
  }
 ],
 "metadata": {
  "kernelspec": {
   "display_name": "Python 3 (ipykernel)",
   "language": "python",
   "name": "python3"
  },
  "language_info": {
   "codemirror_mode": {
    "name": "ipython",
    "version": 3
   },
   "file_extension": ".py",
   "mimetype": "text/x-python",
   "name": "python",
   "nbconvert_exporter": "python",
   "pygments_lexer": "ipython3",
   "version": "3.10.9"
  }
 },
 "nbformat": 4,
 "nbformat_minor": 5
}
