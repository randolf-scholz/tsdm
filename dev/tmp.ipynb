{
 "cells": [
  {
   "cell_type": "code",
   "execution_count": null,
   "id": "07574fc2-760a-4459-a90a-1c96de12484a",
   "metadata": {
    "execution": {
     "iopub.execute_input": "2023-02-17T14:51:21.658860Z",
     "iopub.status.busy": "2023-02-17T14:51:21.658757Z",
     "iopub.status.idle": "2023-02-17T14:51:22.023869Z",
     "shell.execute_reply": "2023-02-17T14:51:22.023415Z",
     "shell.execute_reply.started": "2023-02-17T14:51:21.658849Z"
    },
    "tags": []
   },
   "outputs": [],
   "source": [
    "%config InteractiveShell.ast_node_interactivity='last_expr_or_assign'  # always print last expr.\n",
    "%config InlineBackend.figure_format = 'svg'\n",
    "%load_ext autoreload\n",
    "%autoreload 2\n",
    "%matplotlib inline\n",
    "\n",
    "import logging\n",
    "\n",
    "# logging.basicConfig(level=logging.DEBUG)"
   ]
  },
  {
   "cell_type": "code",
   "execution_count": null,
   "id": "a4bed622-e99a-43b7-a9be-a5b59ce8ff16",
   "metadata": {
    "execution": {
     "iopub.execute_input": "2023-04-19T13:43:00.037683Z",
     "iopub.status.busy": "2023-04-19T13:43:00.037128Z",
     "iopub.status.idle": "2023-04-19T13:43:00.041414Z",
     "shell.execute_reply": "2023-04-19T13:43:00.041013Z",
     "shell.execute_reply.started": "2023-04-19T13:43:00.037660Z"
    },
    "tags": []
   },
   "outputs": [],
   "source": [
    "import logging\n",
    "from typing import ClassVar\n",
    "\n",
    "\n",
    "class ClassWithLogger:\n",
    "    LOGGER: ClassVar[logging.Logger] = logging.getLogger(f\"{__module__}/{__qualname__}\")\n",
    "\n",
    "\n",
    "logging.basicConfig(level=logging.INFO)\n",
    "ClassWithLogger.LOGGER.info(\"hello world\")"
   ]
  },
  {
   "cell_type": "code",
   "execution_count": null,
   "id": "6d0ced5f-0181-403c-b528-e2e45da4996e",
   "metadata": {
    "execution": {
     "iopub.execute_input": "2023-04-19T14:22:20.454655Z",
     "iopub.status.busy": "2023-04-19T14:22:20.454465Z",
     "iopub.status.idle": "2023-04-19T14:22:20.468891Z",
     "shell.execute_reply": "2023-04-19T14:22:20.468309Z",
     "shell.execute_reply.started": "2023-04-19T14:22:20.454631Z"
    },
    "tags": []
   },
   "outputs": [],
   "source": [
    "locals()"
   ]
  },
  {
   "cell_type": "code",
   "execution_count": null,
   "id": "45b34113-a0af-4aa1-b5ed-ffb86c6997e6",
   "metadata": {
    "execution": {
     "iopub.execute_input": "2023-04-19T14:27:24.373656Z",
     "iopub.status.busy": "2023-04-19T14:27:24.373223Z",
     "iopub.status.idle": "2023-04-19T14:27:24.403668Z",
     "shell.execute_reply": "2023-04-19T14:27:24.402681Z",
     "shell.execute_reply.started": "2023-04-19T14:27:24.373634Z"
    },
    "tags": []
   },
   "outputs": [],
   "source": [
    "import logging\n",
    "from typing import ClassVar\n",
    "\n",
    "\n",
    "class ClassWithLogger:\n",
    "    \"\"\"A class with a logger.\"\"\"\n",
    "\n",
    "    LOGGER: ClassVar[logging.Logger] = logging.getLogger(f\"{__module__}/{__qualname__}\")\n",
    "    b = __name__\n",
    "    c: str = __doc__\n",
    "    # print(dir())\n",
    "    # print(locals())\n",
    "    print(__annotations__)\n",
    "    d: str = \"aga\"\n",
    "    print(__annotations__)\n",
    "    b = __bases__\n",
    "\n",
    "\n",
    "logging.basicConfig(level=logging.INFO)\n",
    "ClassWithLogger.LOGGER.info(\"hello world\")"
   ]
  },
  {
   "cell_type": "code",
   "execution_count": null,
   "id": "3e2e3635-752e-4430-9923-555e8c997282",
   "metadata": {
    "execution": {
     "iopub.execute_input": "2023-04-19T20:50:05.317216Z",
     "iopub.status.busy": "2023-04-19T20:50:05.316713Z",
     "iopub.status.idle": "2023-04-19T20:50:05.320255Z",
     "shell.execute_reply": "2023-04-19T20:50:05.319670Z",
     "shell.execute_reply.started": "2023-04-19T20:50:05.317191Z"
    },
    "tags": []
   },
   "outputs": [],
   "source": [
    "from pathlib import Path\n",
    "from collections.abc import Mapping"
   ]
  },
  {
   "cell_type": "code",
   "execution_count": null,
   "id": "ef8ddbf5-6a8b-4fc4-b31b-b9c2c16a2f01",
   "metadata": {
    "execution": {
     "iopub.execute_input": "2023-04-19T20:57:51.163952Z",
     "iopub.status.busy": "2023-04-19T20:57:51.163360Z",
     "iopub.status.idle": "2023-04-19T20:57:51.166932Z",
     "shell.execute_reply": "2023-04-19T20:57:51.166341Z",
     "shell.execute_reply.started": "2023-04-19T20:57:51.163927Z"
    },
    "tags": []
   },
   "outputs": [],
   "source": []
  },
  {
   "cell_type": "code",
   "execution_count": null,
   "id": "73232078-006b-4222-9a8d-cb5e07abdfc0",
   "metadata": {
    "execution": {
     "iopub.execute_input": "2023-04-19T20:58:01.308805Z",
     "iopub.status.busy": "2023-04-19T20:58:01.308259Z",
     "iopub.status.idle": "2023-04-19T20:58:01.312234Z",
     "shell.execute_reply": "2023-04-19T20:58:01.311597Z",
     "shell.execute_reply.started": "2023-04-19T20:58:01.308778Z"
    },
    "tags": []
   },
   "outputs": [],
   "source": [
    "import logging\n",
    "\n",
    "logger = logging.getLogger()\n",
    "logger.warning(\"something bad\")"
   ]
  },
  {
   "cell_type": "code",
   "execution_count": null,
   "id": "389196f3-6d3c-4946-a693-c646d4daedd6",
   "metadata": {
    "execution": {
     "iopub.execute_input": "2023-04-19T21:10:47.764365Z",
     "iopub.status.busy": "2023-04-19T21:10:47.764011Z",
     "iopub.status.idle": "2023-04-19T21:10:47.769442Z",
     "shell.execute_reply": "2023-04-19T21:10:47.768711Z",
     "shell.execute_reply.started": "2023-04-19T21:10:47.764343Z"
    },
    "tags": []
   },
   "outputs": [],
   "source": [
    "None | Mapping[int, int]"
   ]
  },
  {
   "cell_type": "code",
   "execution_count": null,
   "id": "3833ba22-00d1-4542-9ac7-09875655c5a1",
   "metadata": {
    "execution": {
     "iopub.execute_input": "2023-04-19T20:50:05.778658Z",
     "iopub.status.busy": "2023-04-19T20:50:05.778396Z",
     "iopub.status.idle": "2023-04-19T20:50:05.780857Z",
     "shell.execute_reply": "2023-04-19T20:50:05.780466Z",
     "shell.execute_reply.started": "2023-04-19T20:50:05.778646Z"
    },
    "tags": []
   },
   "outputs": [],
   "source": [
    "hashes = \"a\", \"b\""
   ]
  },
  {
   "cell_type": "code",
   "execution_count": null,
   "id": "4b7b9793-0365-4a5a-bab0-487a0c2d5d35",
   "metadata": {
    "execution": {
     "iopub.execute_input": "2023-04-19T20:50:06.190081Z",
     "iopub.status.busy": "2023-04-19T20:50:06.189805Z",
     "iopub.status.idle": "2023-04-19T20:50:06.192843Z",
     "shell.execute_reply": "2023-04-19T20:50:06.192493Z",
     "shell.execute_reply.started": "2023-04-19T20:50:06.190069Z"
    },
    "tags": []
   },
   "outputs": [],
   "source": [
    "match hashes:\n",
    "    case None:\n",
    "        hash_algorithm, reference = None, None\n",
    "    case Mapping():\n",
    "        hash_algorithm, reference = hashes.get(\n",
    "            str(file),\n",
    "            hashes.get(file.name, hashes.get(file.stem, (None, None))),\n",
    "        )  # try to match by full path, then by name, then by stem\n",
    "    case [hash_algorithm, reference]:\n",
    "        pass"
   ]
  },
  {
   "cell_type": "code",
   "execution_count": null,
   "id": "55859b0a-49d3-4f09-b691-c33249f2c4e4",
   "metadata": {
    "execution": {
     "iopub.execute_input": "2023-04-19T21:24:10.349682Z",
     "iopub.status.busy": "2023-04-19T21:24:10.349450Z",
     "iopub.status.idle": "2023-04-19T21:24:10.696404Z",
     "shell.execute_reply": "2023-04-19T21:24:10.695750Z",
     "shell.execute_reply.started": "2023-04-19T21:24:10.349669Z"
    },
    "tags": []
   },
   "outputs": [],
   "source": [
    "pd.DataFrame().name"
   ]
  },
  {
   "cell_type": "code",
   "execution_count": null,
   "id": "4cfa5e1c-4235-4e06-8eae-cb76c5d91a9f",
   "metadata": {
    "execution": {
     "iopub.execute_input": "2023-04-19T21:31:17.965628Z",
     "iopub.status.busy": "2023-04-19T21:31:17.965142Z",
     "iopub.status.idle": "2023-04-19T21:31:17.968886Z",
     "shell.execute_reply": "2023-04-19T21:31:17.968111Z",
     "shell.execute_reply.started": "2023-04-19T21:31:17.965604Z"
    },
    "tags": []
   },
   "outputs": [],
   "source": [
    "import numpy as np"
   ]
  },
  {
   "cell_type": "code",
   "execution_count": null,
   "id": "cf54c381-2215-4bc6-a8ee-279d3de9ba96",
   "metadata": {
    "execution": {
     "iopub.execute_input": "2023-04-19T21:32:36.324300Z",
     "iopub.status.busy": "2023-04-19T21:32:36.323644Z",
     "iopub.status.idle": "2023-04-19T21:32:36.328207Z",
     "shell.execute_reply": "2023-04-19T21:32:36.327392Z",
     "shell.execute_reply.started": "2023-04-19T21:32:36.324273Z"
    },
    "tags": []
   },
   "outputs": [],
   "source": [
    "df = pd.DataFrame(np.random.randn(3, 3))\n",
    "index = False"
   ]
  },
  {
   "cell_type": "code",
   "execution_count": null,
   "id": "9fb7a39f-25e1-44d6-abed-9b62703dd15e",
   "metadata": {
    "execution": {
     "iopub.execute_input": "2023-04-19T21:35:15.193333Z",
     "iopub.status.busy": "2023-04-19T21:35:15.192872Z",
     "iopub.status.idle": "2023-04-19T21:35:15.198877Z",
     "shell.execute_reply": "2023-04-19T21:35:15.198235Z",
     "shell.execute_reply.started": "2023-04-19T21:35:15.193311Z"
    },
    "tags": []
   },
   "outputs": [],
   "source": [
    "tuple(pd.util.hash_pandas_object(df.stack(), index=index))"
   ]
  },
  {
   "cell_type": "code",
   "execution_count": null,
   "id": "f7e59f65-a60b-4e1c-af67-0848fa4e02fd",
   "metadata": {
    "execution": {
     "iopub.execute_input": "2023-04-19T21:32:36.661005Z",
     "iopub.status.busy": "2023-04-19T21:32:36.660582Z",
     "iopub.status.idle": "2023-04-19T21:32:36.665259Z",
     "shell.execute_reply": "2023-04-19T21:32:36.664959Z",
     "shell.execute_reply.started": "2023-04-19T21:32:36.660988Z"
    },
    "tags": []
   },
   "outputs": [],
   "source": [
    "pd.DataFrame(np.random.randn(3, 3)).stack()"
   ]
  },
  {
   "cell_type": "code",
   "execution_count": null,
   "id": "bbd563fc-d776-4ece-b2e7-165e5d67790e",
   "metadata": {
    "execution": {
     "iopub.execute_input": "2023-04-19T20:54:56.232026Z",
     "iopub.status.busy": "2023-04-19T20:54:56.231458Z",
     "iopub.status.idle": "2023-04-19T20:54:56.235887Z",
     "shell.execute_reply": "2023-04-19T20:54:56.235291Z",
     "shell.execute_reply.started": "2023-04-19T20:54:56.232001Z"
    },
    "tags": []
   },
   "outputs": [],
   "source": [
    "f\"{str(p)!r}\""
   ]
  },
  {
   "cell_type": "code",
   "execution_count": null,
   "id": "929a2d5a-279a-4c15-a33d-9b369780e000",
   "metadata": {
    "execution": {
     "iopub.execute_input": "2023-04-19T14:28:01.898997Z",
     "iopub.status.busy": "2023-04-19T14:28:01.898247Z",
     "iopub.status.idle": "2023-04-19T14:28:01.902901Z",
     "shell.execute_reply": "2023-04-19T14:28:01.902288Z",
     "shell.execute_reply.started": "2023-04-19T14:28:01.898963Z"
    },
    "tags": []
   },
   "outputs": [],
   "source": [
    "class Foo:\n",
    "    \"\"\"doc\"\"\"\n",
    "\n",
    "    print(locals())\n",
    "    # b = __bases__"
   ]
  },
  {
   "cell_type": "code",
   "execution_count": null,
   "id": "88d73ef3-245d-43fd-afb4-ee2de3bfc32e",
   "metadata": {
    "execution": {
     "iopub.execute_input": "2023-04-19T14:27:38.364016Z",
     "iopub.status.busy": "2023-04-19T14:27:38.363382Z",
     "iopub.status.idle": "2023-04-19T14:27:38.368711Z",
     "shell.execute_reply": "2023-04-19T14:27:38.367987Z",
     "shell.execute_reply.started": "2023-04-19T14:27:38.363993Z"
    },
    "tags": []
   },
   "outputs": [],
   "source": [
    "dir(Foo)"
   ]
  },
  {
   "cell_type": "code",
   "execution_count": null,
   "id": "3d754a46",
   "metadata": {
    "execution": {
     "iopub.execute_input": "2023-03-28T14:43:35.393395Z",
     "iopub.status.busy": "2023-03-28T14:43:35.393174Z",
     "iopub.status.idle": "2023-03-28T14:43:38.274731Z",
     "shell.execute_reply": "2023-03-28T14:43:38.274285Z",
     "shell.execute_reply.started": "2023-03-28T14:43:35.393379Z"
    }
   },
   "outputs": [],
   "source": [
    "import tsdm"
   ]
  },
  {
   "cell_type": "code",
   "execution_count": null,
   "id": "3f45edb1-84bf-43b3-ac9c-e9b6ff04cce6",
   "metadata": {
    "execution": {
     "iopub.execute_input": "2023-03-28T14:43:52.002600Z",
     "iopub.status.busy": "2023-03-28T14:43:52.002328Z",
     "iopub.status.idle": "2023-03-28T14:43:54.925971Z",
     "shell.execute_reply": "2023-03-28T14:43:54.925597Z",
     "shell.execute_reply.started": "2023-03-28T14:43:52.002582Z"
    }
   },
   "outputs": [],
   "source": [
    "task = tsdm.tasks.KiwiTask()"
   ]
  },
  {
   "cell_type": "code",
   "execution_count": null,
   "id": "0fc8764d-9a81-4d3b-ac86-e624cfcc7e4a",
   "metadata": {},
   "outputs": [],
   "source": [
    "obj[...] -> obj.__getitem__(args)"
   ]
  },
  {
   "cell_type": "code",
   "execution_count": null,
   "id": "de0d6e7f-34c0-4ce4-9c0c-770967966662",
   "metadata": {
    "execution": {
     "iopub.execute_input": "2023-03-28T14:53:12.188493Z",
     "iopub.status.busy": "2023-03-28T14:53:12.188230Z",
     "iopub.status.idle": "2023-03-28T14:53:12.192087Z",
     "shell.execute_reply": "2023-03-28T14:53:12.191653Z",
     "shell.execute_reply.started": "2023-03-28T14:53:12.188462Z"
    },
    "tags": []
   },
   "outputs": [],
   "source": [
    "dloader = task.dataloaders[0, \"train\"]"
   ]
  },
  {
   "cell_type": "code",
   "execution_count": null,
   "id": "3f5785ee-5acb-45bb-a79c-564e58d13794",
   "metadata": {
    "execution": {
     "iopub.execute_input": "2023-03-28T14:53:20.275689Z",
     "iopub.status.busy": "2023-03-28T14:53:20.275488Z",
     "iopub.status.idle": "2023-03-28T14:53:21.215585Z",
     "shell.execute_reply": "2023-03-28T14:53:21.215108Z",
     "shell.execute_reply.started": "2023-03-28T14:53:20.275677Z"
    }
   },
   "outputs": [],
   "source": [
    "next(iter(dloader))"
   ]
  },
  {
   "cell_type": "code",
   "execution_count": null,
   "id": "cb40e675-88cf-4801-8171-b5ab6e5e5b31",
   "metadata": {},
   "outputs": [],
   "source": []
  },
  {
   "cell_type": "code",
   "execution_count": null,
   "id": "d12b7ce9-09a3-4ed2-bc53-d81668eadfe1",
   "metadata": {},
   "outputs": [],
   "source": []
  },
  {
   "cell_type": "code",
   "execution_count": null,
   "id": "0d4655ae",
   "metadata": {},
   "outputs": [],
   "source": [
    "from tsdm.logutils import BaseLogger"
   ]
  },
  {
   "cell_type": "code",
   "execution_count": null,
   "id": "d598fb94-0d86-4cc3-af6a-fe6e2ed17bae",
   "metadata": {
    "execution": {
     "iopub.execute_input": "2023-03-07T14:26:36.951172Z",
     "iopub.status.busy": "2023-03-07T14:26:36.951013Z",
     "iopub.status.idle": "2023-03-07T14:26:36.956010Z",
     "shell.execute_reply": "2023-03-07T14:26:36.955645Z",
     "shell.execute_reply.started": "2023-03-07T14:26:36.951160Z"
    },
    "tags": []
   },
   "outputs": [],
   "source": [
    "from dataclasses import dataclass\n",
    "\n",
    "\n",
    "@dataclass\n",
    "class Foo:\n",
    "    _private: int\n",
    "\n",
    "\n",
    "Foo(1)"
   ]
  },
  {
   "cell_type": "code",
   "execution_count": null,
   "id": "3e388b85-b540-4644-869f-7529c6880b09",
   "metadata": {},
   "outputs": [],
   "source": []
  },
  {
   "cell_type": "code",
   "execution_count": null,
   "id": "4f1fd1c8-0dfe-41b5-97fd-4869d7a17d7e",
   "metadata": {},
   "outputs": [],
   "source": []
  },
  {
   "cell_type": "code",
   "execution_count": null,
   "id": "6f1524dd-d2f5-4a72-acc4-4d98d9c412b8",
   "metadata": {},
   "outputs": [],
   "source": []
  },
  {
   "cell_type": "code",
   "execution_count": null,
   "id": "bfb2910d-beb3-4946-9e16-ecf4cdf5f8bf",
   "metadata": {},
   "outputs": [],
   "source": []
  },
  {
   "cell_type": "code",
   "execution_count": null,
   "id": "33496a14-c957-4170-a75e-0f8242eedb28",
   "metadata": {},
   "outputs": [],
   "source": []
  }
 ],
 "metadata": {
  "kernelspec": {
   "display_name": "Python 3 (ipykernel)",
   "language": "python",
   "name": "python3"
  },
  "language_info": {
   "codemirror_mode": {
    "name": "ipython",
    "version": 3
   },
   "file_extension": ".py",
   "mimetype": "text/x-python",
   "name": "python",
   "nbconvert_exporter": "python",
   "pygments_lexer": "ipython3",
   "version": "3.10.6"
  }
 },
 "nbformat": 4,
 "nbformat_minor": 5
}
