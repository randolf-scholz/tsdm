{
 "cells": [
  {
   "cell_type": "code",
   "execution_count": null,
   "id": "07574fc2-760a-4459-a90a-1c96de12484a",
   "metadata": {
    "execution": {
     "iopub.execute_input": "2023-01-21T18:52:49.098921Z",
     "iopub.status.busy": "2023-01-21T18:52:49.098242Z",
     "iopub.status.idle": "2023-01-21T18:52:49.144237Z",
     "shell.execute_reply": "2023-01-21T18:52:49.143722Z",
     "shell.execute_reply.started": "2023-01-21T18:52:49.098896Z"
    },
    "tags": []
   },
   "outputs": [],
   "source": [
    "%config InteractiveShell.ast_node_interactivity='last_expr_or_assign'  # always print last expr.\n",
    "%config InlineBackend.figure_format = 'svg'\n",
    "%load_ext autoreload\n",
    "%autoreload 2\n",
    "%matplotlib inline\n",
    "\n",
    "import logging\n",
    "\n",
    "logging.basicConfig(level=logging.DEBUG)"
   ]
  },
  {
   "cell_type": "code",
   "execution_count": null,
   "id": "e2a85cbe-b7df-4596-a8b5-288a138e04a5",
   "metadata": {
    "execution": {
     "iopub.execute_input": "2023-01-21T19:40:57.238047Z",
     "iopub.status.busy": "2023-01-21T19:40:57.237442Z",
     "iopub.status.idle": "2023-01-21T19:40:57.240956Z",
     "shell.execute_reply": "2023-01-21T19:40:57.240320Z",
     "shell.execute_reply.started": "2023-01-21T19:40:57.238023Z"
    }
   },
   "outputs": [],
   "source": [
    "from tsdm.utils import LazyDict"
   ]
  },
  {
   "cell_type": "code",
   "execution_count": null,
   "id": "c910d215-b406-4a47-bffe-7f9c46ffecf1",
   "metadata": {
    "execution": {
     "iopub.execute_input": "2023-01-21T19:41:18.066598Z",
     "iopub.status.busy": "2023-01-21T19:41:18.066049Z",
     "iopub.status.idle": "2023-01-21T19:41:18.072109Z",
     "shell.execute_reply": "2023-01-21T19:41:18.071298Z",
     "shell.execute_reply.started": "2023-01-21T19:41:18.066566Z"
    },
    "tags": []
   },
   "outputs": [],
   "source": [
    "d = LazyDict({1: 1})\n",
    "d.get(1)"
   ]
  },
  {
   "cell_type": "code",
   "execution_count": null,
   "id": "2e4ad4af-8c56-4804-8d29-82016d9b3e77",
   "metadata": {
    "execution": {
     "iopub.execute_input": "2023-01-21T19:41:19.868771Z",
     "iopub.status.busy": "2023-01-21T19:41:19.868161Z",
     "iopub.status.idle": "2023-01-21T19:41:19.873615Z",
     "shell.execute_reply": "2023-01-21T19:41:19.872788Z",
     "shell.execute_reply.started": "2023-01-21T19:41:19.868747Z"
    },
    "tags": []
   },
   "outputs": [],
   "source": [
    "d"
   ]
  },
  {
   "cell_type": "code",
   "execution_count": null,
   "id": "3ea1ad80-2fc8-4b2d-9d15-a13a39973a1b",
   "metadata": {
    "execution": {
     "iopub.execute_input": "2023-01-21T18:52:49.529282Z",
     "iopub.status.busy": "2023-01-21T18:52:49.528624Z",
     "iopub.status.idle": "2023-01-21T18:52:49.559415Z",
     "shell.execute_reply": "2023-01-21T18:52:49.558835Z",
     "shell.execute_reply.started": "2023-01-21T18:52:49.529259Z"
    },
    "tags": []
   },
   "outputs": [],
   "source": [
    "import os\n",
    "import zipfile\n",
    "import requests\n",
    "from pathlib import Path"
   ]
  },
  {
   "cell_type": "code",
   "execution_count": null,
   "id": "ee18ac5d-027a-4663-95f1-730b791bc44e",
   "metadata": {
    "execution": {
     "iopub.execute_input": "2023-01-21T19:19:51.753993Z",
     "iopub.status.busy": "2023-01-21T19:19:51.753789Z",
     "iopub.status.idle": "2023-01-21T19:19:53.421665Z",
     "shell.execute_reply": "2023-01-21T19:19:53.421107Z",
     "shell.execute_reply.started": "2023-01-21T19:19:51.753971Z"
    },
    "tags": []
   },
   "outputs": [],
   "source": [
    "import tsdm"
   ]
  },
  {
   "cell_type": "code",
   "execution_count": null,
   "id": "c3eb98ce-d0e0-42b6-97d4-e909ea80a88e",
   "metadata": {
    "execution": {
     "iopub.execute_input": "2023-01-21T19:19:53.422869Z",
     "iopub.status.busy": "2023-01-21T19:19:53.422626Z",
     "iopub.status.idle": "2023-01-21T19:19:53.425370Z",
     "shell.execute_reply": "2023-01-21T19:19:53.424888Z",
     "shell.execute_reply.started": "2023-01-21T19:19:53.422857Z"
    },
    "tags": []
   },
   "outputs": [],
   "source": [
    "from tsdm.models.pretrained import LinODEnet"
   ]
  },
  {
   "cell_type": "code",
   "execution_count": null,
   "id": "22569c37-6cd4-4cdc-923a-7786c6774cff",
   "metadata": {
    "execution": {
     "iopub.execute_input": "2023-01-21T19:38:11.366900Z",
     "iopub.status.busy": "2023-01-21T19:38:11.366664Z",
     "iopub.status.idle": "2023-01-21T19:38:11.370405Z",
     "shell.execute_reply": "2023-01-21T19:38:11.369981Z",
     "shell.execute_reply.started": "2023-01-21T19:38:11.366887Z"
    },
    "tags": []
   },
   "outputs": [],
   "source": [
    "d = {}\n",
    "?d.get"
   ]
  },
  {
   "cell_type": "code",
   "execution_count": null,
   "id": "f68b5b94-6bec-4dbe-b201-abfd90ccfbdc",
   "metadata": {
    "execution": {
     "iopub.execute_input": "2023-01-21T19:04:21.027530Z",
     "iopub.status.busy": "2023-01-21T19:04:21.026961Z",
     "iopub.status.idle": "2023-01-21T19:04:21.260047Z",
     "shell.execute_reply": "2023-01-21T19:04:21.259629Z",
     "shell.execute_reply.started": "2023-01-21T19:04:21.027515Z"
    },
    "tags": []
   },
   "outputs": [],
   "source": [
    "LinODEnet.available_checkpoints()"
   ]
  },
  {
   "cell_type": "code",
   "execution_count": null,
   "id": "5c0a5bef-ff97-4aef-8157-392c12f378fc",
   "metadata": {
    "execution": {
     "iopub.execute_input": "2023-01-21T19:19:53.425944Z",
     "iopub.status.busy": "2023-01-21T19:19:53.425834Z",
     "iopub.status.idle": "2023-01-21T19:19:53.979792Z",
     "shell.execute_reply": "2023-01-21T19:19:53.979475Z",
     "shell.execute_reply.started": "2023-01-21T19:19:53.425933Z"
    },
    "tags": []
   },
   "outputs": [],
   "source": [
    "LinODEnet.get_checkpoints()"
   ]
  },
  {
   "cell_type": "code",
   "execution_count": null,
   "id": "e6c077e1-4e0a-483b-90dc-68ac08f6c465",
   "metadata": {
    "execution": {
     "iopub.execute_input": "2023-01-21T14:34:39.296110Z",
     "iopub.status.busy": "2023-01-21T14:34:39.295839Z",
     "iopub.status.idle": "2023-01-21T14:34:39.300114Z",
     "shell.execute_reply": "2023-01-21T14:34:39.299514Z",
     "shell.execute_reply.started": "2023-01-21T14:34:39.296088Z"
    },
    "tags": []
   },
   "outputs": [],
   "source": [
    "tsdm.utils._utils.repackage_zip(\"20.zip\")"
   ]
  },
  {
   "cell_type": "code",
   "execution_count": null,
   "id": "bf4cf0f4-3389-4927-986c-d83fea8847b6",
   "metadata": {
    "execution": {
     "iopub.execute_input": "2023-01-21T14:29:10.151502Z",
     "iopub.status.busy": "2023-01-21T14:29:10.151052Z",
     "iopub.status.idle": "2023-01-21T14:29:10.156472Z",
     "shell.execute_reply": "2023-01-21T14:29:10.155949Z",
     "shell.execute_reply.started": "2023-01-21T14:29:10.151477Z"
    },
    "tags": []
   },
   "outputs": [],
   "source": [
    "Path(\"30.zip\").rename(\"20.zip\")"
   ]
  },
  {
   "cell_type": "code",
   "execution_count": null,
   "id": "6593504d-1481-4e08-b8b0-3047f4159991",
   "metadata": {
    "execution": {
     "iopub.execute_input": "2023-01-21T14:21:12.316552Z",
     "iopub.status.busy": "2023-01-21T14:21:12.316213Z",
     "iopub.status.idle": "2023-01-21T14:21:12.319679Z",
     "shell.execute_reply": "2023-01-21T14:21:12.319315Z",
     "shell.execute_reply.started": "2023-01-21T14:21:12.316538Z"
    },
    "tags": []
   },
   "outputs": [],
   "source": [
    "zf = zipfile.ZipFile(\"20.zip\")\n",
    "zf"
   ]
  },
  {
   "cell_type": "code",
   "execution_count": null,
   "id": "2406797a-180e-4d6e-b090-fb96e9636be0",
   "metadata": {
    "execution": {
     "iopub.execute_input": "2023-01-21T13:55:11.176454Z",
     "iopub.status.busy": "2023-01-21T13:55:11.176175Z",
     "iopub.status.idle": "2023-01-21T13:55:11.179882Z",
     "shell.execute_reply": "2023-01-21T13:55:11.179226Z",
     "shell.execute_reply.started": "2023-01-21T13:55:11.176432Z"
    },
    "tags": []
   },
   "outputs": [],
   "source": [
    "p = zf.infolist()[1]"
   ]
  },
  {
   "cell_type": "code",
   "execution_count": null,
   "id": "976735ce-d9ec-4528-b57a-ebd124ca8c1e",
   "metadata": {
    "execution": {
     "iopub.execute_input": "2023-01-21T14:10:26.389813Z",
     "iopub.status.busy": "2023-01-21T14:10:26.389122Z",
     "iopub.status.idle": "2023-01-21T14:10:26.393780Z",
     "shell.execute_reply": "2023-01-21T14:10:26.393160Z",
     "shell.execute_reply.started": "2023-01-21T14:10:26.389788Z"
    },
    "tags": []
   },
   "outputs": [],
   "source": [
    "Path(\"asfagfs/2022-12-01-20.zip\").stem"
   ]
  },
  {
   "cell_type": "code",
   "execution_count": null,
   "id": "13fa4698-a6c9-40c4-87eb-e9889fbb3adc",
   "metadata": {
    "execution": {
     "iopub.execute_input": "2023-01-20T15:31:36.514054Z",
     "iopub.status.busy": "2023-01-20T15:31:36.513832Z",
     "iopub.status.idle": "2023-01-20T15:31:40.671050Z",
     "shell.execute_reply": "2023-01-20T15:31:40.670411Z",
     "shell.execute_reply.started": "2023-01-20T15:31:36.514031Z"
    },
    "tags": []
   },
   "outputs": [],
   "source": [
    "url = \"https://tubcloud.tu-berlin.de/s/P7SAkkaeGtAWJ2L/download?path=/LinODEnet/2022-12-01/20\"\n",
    "local_filename = \"2022-12-01-20.zip\"\n",
    "\n",
    "r = requests.get(url, stream=True)\n",
    "\n",
    "with open(local_filename, \"wb\") as f:\n",
    "    for chunk in r.iter_content(chunk_size=1024):\n",
    "        if chunk:  # filter out keep-alive new chunks\n",
    "            f.write(chunk)\n",
    "\n",
    "with zipfile.ZipFile(local_filename, \"r\") as zip_ref:\n",
    "    zip_ref.extractall(\".\")"
   ]
  },
  {
   "cell_type": "code",
   "execution_count": null,
   "id": "2d19464d-7584-40ab-85b7-284a858d8799",
   "metadata": {},
   "outputs": [],
   "source": []
  },
  {
   "cell_type": "code",
   "execution_count": null,
   "id": "04420330-ff91-4a3b-b17b-ff3241ca1b82",
   "metadata": {
    "execution": {
     "iopub.execute_input": "2023-01-20T15:42:53.897949Z",
     "iopub.status.busy": "2023-01-20T15:42:53.897732Z",
     "iopub.status.idle": "2023-01-20T15:42:55.549258Z",
     "shell.execute_reply": "2023-01-20T15:42:55.548705Z",
     "shell.execute_reply.started": "2023-01-20T15:42:53.897927Z"
    },
    "tags": []
   },
   "outputs": [],
   "source": [
    "import tsdm"
   ]
  },
  {
   "cell_type": "code",
   "execution_count": null,
   "id": "c9e71ecd-e48e-42e4-95f5-9e6c248929e6",
   "metadata": {
    "execution": {
     "iopub.execute_input": "2023-01-20T15:42:55.549982Z",
     "iopub.status.busy": "2023-01-20T15:42:55.549751Z",
     "iopub.status.idle": "2023-01-20T15:42:55.552652Z",
     "shell.execute_reply": "2023-01-20T15:42:55.552195Z",
     "shell.execute_reply.started": "2023-01-20T15:42:55.549970Z"
    },
    "tags": []
   },
   "outputs": [],
   "source": [
    "cls = tsdm.models.pretrained.LinODEnet"
   ]
  },
  {
   "cell_type": "code",
   "execution_count": null,
   "id": "e06a0a2d-bf9a-4545-b3f7-ce8663c66a3b",
   "metadata": {
    "execution": {
     "iopub.execute_input": "2023-01-20T15:42:55.553230Z",
     "iopub.status.busy": "2023-01-20T15:42:55.553117Z",
     "iopub.status.idle": "2023-01-20T15:42:57.624626Z",
     "shell.execute_reply": "2023-01-20T15:42:57.623980Z",
     "shell.execute_reply.started": "2023-01-20T15:42:55.553219Z"
    },
    "tags": []
   },
   "outputs": [],
   "source": [
    "pretrained = cls.from_remote_checkpoint(\"2022-12-01/20\")"
   ]
  },
  {
   "cell_type": "code",
   "execution_count": null,
   "id": "d28a2927-05f5-42b7-9308-9531ee18f447",
   "metadata": {
    "execution": {
     "iopub.execute_input": "2023-01-20T15:40:52.620089Z",
     "iopub.status.busy": "2023-01-20T15:40:52.619517Z",
     "iopub.status.idle": "2023-01-20T15:40:52.623497Z",
     "shell.execute_reply": "2023-01-20T15:40:52.623079Z",
     "shell.execute_reply.started": "2023-01-20T15:40:52.620061Z"
    },
    "tags": []
   },
   "outputs": [],
   "source": [
    "pretrained.rawdata_path"
   ]
  },
  {
   "cell_type": "code",
   "execution_count": null,
   "id": "960876c2-fe6a-41e3-b82b-defface1b2e7",
   "metadata": {
    "execution": {
     "iopub.execute_input": "2023-01-20T14:58:19.676306Z",
     "iopub.status.busy": "2023-01-20T14:58:19.676092Z",
     "iopub.status.idle": "2023-01-20T14:58:19.833364Z",
     "shell.execute_reply": "2023-01-20T14:58:19.832802Z",
     "shell.execute_reply.started": "2023-01-20T14:58:19.676292Z"
    },
    "tags": []
   },
   "outputs": [],
   "source": [
    "# cls.available_checkpoints()\n",
    "model = cls.from_path(\"2022-12-01-linodenet-50-f79c5e885f2182835e7b88ba3205fb33.zip\")\n",
    "model.components[\"model\"]"
   ]
  },
  {
   "cell_type": "code",
   "execution_count": null,
   "id": "3797060d-065c-46c2-9b3c-c4011b648270",
   "metadata": {
    "execution": {
     "iopub.execute_input": "2023-01-20T15:33:44.059340Z",
     "iopub.status.busy": "2023-01-20T15:33:44.058670Z",
     "iopub.status.idle": "2023-01-20T15:33:44.203890Z",
     "shell.execute_reply": "2023-01-20T15:33:44.203319Z",
     "shell.execute_reply.started": "2023-01-20T15:33:44.059315Z"
    },
    "tags": []
   },
   "outputs": [],
   "source": [
    "pretrained = cls.from_remote_checkpoint(\"2022-12-01/30\")"
   ]
  },
  {
   "cell_type": "code",
   "execution_count": null,
   "id": "fce49538-789f-456c-8adb-94f402c3b975",
   "metadata": {
    "execution": {
     "iopub.execute_input": "2023-01-20T14:42:24.015501Z",
     "iopub.status.busy": "2023-01-20T14:42:24.015207Z",
     "iopub.status.idle": "2023-01-20T14:42:24.023514Z",
     "shell.execute_reply": "2023-01-20T14:42:24.022905Z",
     "shell.execute_reply.started": "2023-01-20T14:42:24.015473Z"
    },
    "tags": []
   },
   "outputs": [],
   "source": [
    "model.components[\"model\"]"
   ]
  },
  {
   "cell_type": "code",
   "execution_count": null,
   "id": "ce7a7ecc-7cbf-4bf8-a2d2-62c0875462e2",
   "metadata": {
    "execution": {
     "iopub.execute_input": "2023-01-20T10:41:58.590367Z",
     "iopub.status.busy": "2023-01-20T10:41:58.589874Z",
     "iopub.status.idle": "2023-01-20T10:41:58.592727Z",
     "shell.execute_reply": "2023-01-20T10:41:58.592292Z",
     "shell.execute_reply.started": "2023-01-20T10:41:58.590333Z"
    }
   },
   "outputs": [],
   "source": [
    "import os"
   ]
  },
  {
   "cell_type": "code",
   "execution_count": null,
   "id": "45784a73-d682-4df9-b656-8d82e8767106",
   "metadata": {
    "execution": {
     "iopub.execute_input": "2023-01-20T10:45:00.850623Z",
     "iopub.status.busy": "2023-01-20T10:45:00.850053Z",
     "iopub.status.idle": "2023-01-20T10:45:00.854741Z",
     "shell.execute_reply": "2023-01-20T10:45:00.854039Z",
     "shell.execute_reply.started": "2023-01-20T10:45:00.850599Z"
    },
    "tags": []
   },
   "outputs": [],
   "source": [
    "os.path.isdir(\"2022-12-01-linodenet-50-f79c5e885f2182835e7b88ba3205fb33.zip\")"
   ]
  },
  {
   "cell_type": "code",
   "execution_count": null,
   "id": "1b281391-5566-4b42-a00c-e135a90e0c0e",
   "metadata": {
    "execution": {
     "iopub.execute_input": "2023-01-20T10:44:28.185623Z",
     "iopub.status.busy": "2023-01-20T10:44:28.185051Z",
     "iopub.status.idle": "2023-01-20T10:44:28.189480Z",
     "shell.execute_reply": "2023-01-20T10:44:28.188958Z",
     "shell.execute_reply.started": "2023-01-20T10:44:28.185599Z"
    },
    "tags": []
   },
   "outputs": [],
   "source": [
    "str(model.rawdata_path)"
   ]
  },
  {
   "cell_type": "code",
   "execution_count": null,
   "id": "0487123f-8d0d-4678-84e6-3c46f588b260",
   "metadata": {
    "execution": {
     "iopub.execute_input": "2023-01-20T10:38:50.813267Z",
     "iopub.status.busy": "2023-01-20T10:38:50.812969Z",
     "iopub.status.idle": "2023-01-20T10:38:50.848846Z",
     "shell.execute_reply": "2023-01-20T10:38:50.848419Z",
     "shell.execute_reply.started": "2023-01-20T10:38:50.813254Z"
    },
    "tags": []
   },
   "outputs": [],
   "source": [
    "model.components[\"model\"]"
   ]
  },
  {
   "cell_type": "code",
   "execution_count": null,
   "id": "9e7b2617-75a0-4d9c-80de-5b9dd7b03ee6",
   "metadata": {},
   "outputs": [],
   "source": []
  }
 ],
 "metadata": {
  "kernelspec": {
   "display_name": "Python 3 (ipykernel)",
   "language": "python",
   "name": "python3"
  },
  "language_info": {
   "codemirror_mode": {
    "name": "ipython",
    "version": 3
   },
   "file_extension": ".py",
   "mimetype": "text/x-python",
   "name": "python",
   "nbconvert_exporter": "python",
   "pygments_lexer": "ipython3",
   "version": "3.10.8"
  }
 },
 "nbformat": 4,
 "nbformat_minor": 5
}
