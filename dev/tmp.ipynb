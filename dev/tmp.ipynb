{
 "cells": [
  {
   "cell_type": "code",
   "execution_count": null,
   "id": "298deace-b88d-407d-b27d-997e7d010308",
   "metadata": {
    "execution": {
     "iopub.execute_input": "2022-11-08T21:27:31.238801Z",
     "iopub.status.busy": "2022-11-08T21:27:31.238570Z",
     "iopub.status.idle": "2022-11-08T21:27:31.508255Z",
     "shell.execute_reply": "2022-11-08T21:27:31.507931Z",
     "shell.execute_reply.started": "2022-11-08T21:27:31.238742Z"
    },
    "pycharm": {
     "name": "#%%\n"
    },
    "tags": []
   },
   "outputs": [],
   "source": [
    "%config InteractiveShell.ast_node_interactivity='last_expr_or_assign'  # always print last expr.\n",
    "%config InlineBackend.figure_format = 'svg'\n",
    "%load_ext autoreload\n",
    "%autoreload 2\n",
    "%matplotlib inline\n",
    "\n",
    "import logging\n",
    "\n",
    "logging.basicConfig(level=logging.INFO)"
   ]
  },
  {
   "cell_type": "code",
   "execution_count": null,
   "id": "0e1bc17d-fd9a-452f-b625-a0cbabb8f148",
   "metadata": {
    "execution": {
     "iopub.execute_input": "2022-11-08T22:25:53.162304Z",
     "iopub.status.busy": "2022-11-08T22:25:53.161573Z",
     "iopub.status.idle": "2022-11-08T22:25:53.192743Z",
     "shell.execute_reply": "2022-11-08T22:25:53.191945Z",
     "shell.execute_reply.started": "2022-11-08T22:25:53.162269Z"
    },
    "tags": []
   },
   "outputs": [],
   "source": [
    "from dataclasses import KW_ONLY, dataclass, field, InitVar\n",
    "from collections.abc import *\n",
    "from tsdm.datasets import KIWI\n",
    "from tsdm.tasks.base import TimeSeriesTask, TimeSeriesTaskDataset"
   ]
  },
  {
   "cell_type": "code",
   "execution_count": null,
   "id": "eb8308cc-2329-4893-bcaa-8ded4d55db60",
   "metadata": {
    "execution": {
     "iopub.execute_input": "2022-11-08T22:26:03.860326Z",
     "iopub.status.busy": "2022-11-08T22:26:03.860015Z",
     "iopub.status.idle": "2022-11-08T22:26:03.893777Z",
     "shell.execute_reply": "2022-11-08T22:26:03.893195Z",
     "shell.execute_reply.started": "2022-11-08T22:26:03.860303Z"
    },
    "tags": []
   },
   "outputs": [],
   "source": [
    "@dataclass\n",
    "class A:\n",
    "    test_metric: InitVar[Callable] = NotImplemented\n",
    "\n",
    "    b: float = 3\n",
    "\n",
    "    @staticmethod\n",
    "    def test_metric():\n",
    "        pass\n",
    "\n",
    "\n",
    "@dataclass\n",
    "class B(A):\n",
    "    @staticmethod\n",
    "    def test_metric():\n",
    "        pass\n",
    "\n",
    "\n",
    "A().test_metric"
   ]
  },
  {
   "cell_type": "code",
   "execution_count": null,
   "id": "42420d36-cee2-4904-abb4-b05ada5117ac",
   "metadata": {
    "execution": {
     "iopub.execute_input": "2022-11-08T21:27:32.802992Z",
     "iopub.status.busy": "2022-11-08T21:27:32.802644Z",
     "iopub.status.idle": "2022-11-08T21:27:32.822401Z",
     "shell.execute_reply": "2022-11-08T21:27:32.821980Z",
     "shell.execute_reply.started": "2022-11-08T21:27:32.802973Z"
    },
    "tags": []
   },
   "outputs": [],
   "source": [
    "class KiwiTaskDataset(TimeSeriesTaskDataset):\n",
    "    def __init__(self) -> None:\n",
    "        super().__init__(\n",
    "            dataset=KIWI(),\n",
    "            observables=[\n",
    "                \"Base\",\n",
    "                \"DOT\",\n",
    "                \"Glucose\",\n",
    "                \"OD600\",\n",
    "                \"Acetate\",\n",
    "                \"Fluo_GFP\",\n",
    "                \"Volume\",\n",
    "                \"pH\",\n",
    "            ],\n",
    "            covariates=[\n",
    "                \"Cumulated_feed_volume_glucose\",\n",
    "                \"Cumulated_feed_volume_medium\",\n",
    "                \"InducerConcentration\",\n",
    "                \"StirringSpeed\",\n",
    "                \"Flow_Air\",\n",
    "                \"Temperature\",\n",
    "                \"Probe_Volume\",\n",
    "            ],\n",
    "            targets=[\"Fluo_GFP\"],\n",
    "        )"
   ]
  },
  {
   "cell_type": "code",
   "execution_count": null,
   "id": "33bb7528-c80c-4bc5-a4a7-8203cd98ecb1",
   "metadata": {
    "execution": {
     "iopub.execute_input": "2022-11-08T21:27:32.822999Z",
     "iopub.status.busy": "2022-11-08T21:27:32.822888Z",
     "iopub.status.idle": "2022-11-08T21:27:33.675391Z",
     "shell.execute_reply": "2022-11-08T21:27:33.674924Z",
     "shell.execute_reply.started": "2022-11-08T21:27:32.822989Z"
    }
   },
   "outputs": [],
   "source": [
    "KIWI()"
   ]
  },
  {
   "cell_type": "code",
   "execution_count": null,
   "id": "d670e1af-fb37-4f01-ba45-fcc662edfe51",
   "metadata": {
    "execution": {
     "iopub.execute_input": "2022-11-08T21:27:33.676056Z",
     "iopub.status.busy": "2022-11-08T21:27:33.675943Z",
     "iopub.status.idle": "2022-11-08T21:27:34.505682Z",
     "shell.execute_reply": "2022-11-08T21:27:34.505231Z",
     "shell.execute_reply.started": "2022-11-08T21:27:33.676045Z"
    },
    "tags": []
   },
   "outputs": [],
   "source": [
    "KiwiTaskDataset()"
   ]
  },
  {
   "cell_type": "code",
   "execution_count": null,
   "id": "75e57aa3-844e-4cf6-becf-1bfda97f5340",
   "metadata": {
    "execution": {
     "iopub.execute_input": "2022-11-08T21:27:34.507144Z",
     "iopub.status.busy": "2022-11-08T21:27:34.507028Z",
     "iopub.status.idle": "2022-11-08T21:27:34.688884Z",
     "shell.execute_reply": "2022-11-08T21:27:34.687030Z",
     "shell.execute_reply.started": "2022-11-08T21:27:34.507133Z"
    },
    "tags": []
   },
   "outputs": [],
   "source": [
    "ds.__class__.__bases__"
   ]
  },
  {
   "cell_type": "code",
   "execution_count": null,
   "id": "645ab7b3-a3b5-4233-bf85-b40f1bbaeda1",
   "metadata": {
    "execution": {
     "iopub.status.busy": "2022-11-08T21:27:34.689248Z",
     "iopub.status.idle": "2022-11-08T21:27:34.689397Z",
     "shell.execute_reply": "2022-11-08T21:27:34.689328Z",
     "shell.execute_reply.started": "2022-11-08T21:27:34.689320Z"
    }
   },
   "outputs": [],
   "source": [
    "raise"
   ]
  },
  {
   "cell_type": "code",
   "execution_count": null,
   "id": "a1e1b5ca-ebd5-4510-9647-da82036ed32d",
   "metadata": {
    "execution": {
     "iopub.status.busy": "2022-11-08T21:27:34.690148Z",
     "iopub.status.idle": "2022-11-08T21:27:34.690288Z",
     "shell.execute_reply": "2022-11-08T21:27:34.690224Z",
     "shell.execute_reply.started": "2022-11-08T21:27:34.690217Z"
    },
    "tags": []
   },
   "outputs": [],
   "source": [
    "str(KiwiTaskDataset(KIWI()))"
   ]
  },
  {
   "cell_type": "code",
   "execution_count": null,
   "id": "ff7ddb9e-ca8f-4abc-8832-4660b964a103",
   "metadata": {
    "execution": {
     "iopub.status.busy": "2022-11-08T21:27:34.690919Z",
     "iopub.status.idle": "2022-11-08T21:27:34.691058Z",
     "shell.execute_reply": "2022-11-08T21:27:34.690993Z",
     "shell.execute_reply.started": "2022-11-08T21:27:34.690987Z"
    },
    "tags": []
   },
   "outputs": [],
   "source": [
    "KiwiTaskDataset.__dataclass_fields__.keys()"
   ]
  },
  {
   "cell_type": "code",
   "execution_count": null,
   "id": "d9e95833-f539-4c00-894d-b90bb124479f",
   "metadata": {
    "execution": {
     "iopub.status.busy": "2022-11-08T21:27:34.691851Z",
     "iopub.status.idle": "2022-11-08T21:27:34.691994Z",
     "shell.execute_reply": "2022-11-08T21:27:34.691929Z",
     "shell.execute_reply.started": "2022-11-08T21:27:34.691923Z"
    },
    "tags": []
   },
   "outputs": [],
   "source": [
    "import pandas as pd"
   ]
  },
  {
   "cell_type": "code",
   "execution_count": null,
   "id": "4e0eb66b-9208-4e21-8337-263cb567c76f",
   "metadata": {
    "execution": {
     "iopub.status.busy": "2022-11-08T21:27:34.692718Z",
     "iopub.status.idle": "2022-11-08T21:27:34.692865Z",
     "shell.execute_reply": "2022-11-08T21:27:34.692801Z",
     "shell.execute_reply.started": "2022-11-08T21:27:34.692795Z"
    },
    "tags": []
   },
   "outputs": [],
   "source": [
    "import tsdm\n",
    "\n",
    "ds = tsdm.datasets.InSilicoData()"
   ]
  },
  {
   "cell_type": "code",
   "execution_count": null,
   "id": "65fe0ec1-6b8c-49c7-afee-cfd657af1e8c",
   "metadata": {},
   "outputs": [],
   "source": []
  },
  {
   "cell_type": "code",
   "execution_count": null,
   "id": "38304a5f-9563-488a-be4f-24c6fd14fa74",
   "metadata": {
    "execution": {
     "iopub.status.busy": "2022-11-08T21:27:34.693453Z",
     "iopub.status.idle": "2022-11-08T21:27:34.693591Z",
     "shell.execute_reply": "2022-11-08T21:27:34.693526Z",
     "shell.execute_reply.started": "2022-11-08T21:27:34.693520Z"
    },
    "tags": []
   },
   "outputs": [],
   "source": [
    "import tsdm"
   ]
  },
  {
   "cell_type": "code",
   "execution_count": null,
   "id": "92daee98-0748-4745-b109-3f9ef27f8e1e",
   "metadata": {
    "execution": {
     "iopub.status.busy": "2022-11-08T21:27:34.694220Z",
     "iopub.status.idle": "2022-11-08T21:27:34.694357Z",
     "shell.execute_reply": "2022-11-08T21:27:34.694294Z",
     "shell.execute_reply.started": "2022-11-08T21:27:34.694287Z"
    },
    "tags": []
   },
   "outputs": [],
   "source": [
    "task = tsdm.tasks.MIMIC_IV_Bilos2021()"
   ]
  },
  {
   "cell_type": "code",
   "execution_count": null,
   "id": "df98c692-fa82-4e49-9587-6a12bde52348",
   "metadata": {
    "execution": {
     "iopub.status.busy": "2022-11-08T21:27:34.694848Z",
     "iopub.status.idle": "2022-11-08T21:27:34.694983Z",
     "shell.execute_reply": "2022-11-08T21:27:34.694920Z",
     "shell.execute_reply.started": "2022-11-08T21:27:34.694913Z"
    },
    "tags": []
   },
   "outputs": [],
   "source": [
    "A"
   ]
  },
  {
   "cell_type": "code",
   "execution_count": null,
   "id": "fa77a77c-b6d3-41ac-b693-d6f742d60914",
   "metadata": {
    "execution": {
     "iopub.status.busy": "2022-11-08T21:27:34.695513Z",
     "iopub.status.idle": "2022-11-08T21:27:34.695648Z",
     "shell.execute_reply": "2022-11-08T21:27:34.695584Z",
     "shell.execute_reply.started": "2022-11-08T21:27:34.695578Z"
    }
   },
   "outputs": [],
   "source": [
    "A.loc[0]"
   ]
  },
  {
   "cell_type": "code",
   "execution_count": null,
   "id": "8777c622-9eab-4191-894e-90e02dff45fe",
   "metadata": {
    "execution": {
     "iopub.status.busy": "2022-11-08T21:27:34.696311Z",
     "iopub.status.idle": "2022-11-08T21:27:34.696448Z",
     "shell.execute_reply": "2022-11-08T21:27:34.696385Z",
     "shell.execute_reply.started": "2022-11-08T21:27:34.696378Z"
    },
    "tags": []
   },
   "outputs": [],
   "source": [
    "# A = task.split_idx_sparse.T.copy()"
   ]
  },
  {
   "cell_type": "code",
   "execution_count": null,
   "id": "9b0f443d-af0e-4e8a-aa1f-c8eca8dde812",
   "metadata": {
    "execution": {
     "iopub.status.busy": "2022-11-08T21:27:34.697104Z",
     "iopub.status.idle": "2022-11-08T21:27:34.697240Z",
     "shell.execute_reply": "2022-11-08T21:27:34.697176Z",
     "shell.execute_reply.started": "2022-11-08T21:27:34.697170Z"
    },
    "tags": []
   },
   "outputs": [],
   "source": [
    "pd.concat([A], keys=[0])"
   ]
  },
  {
   "cell_type": "code",
   "execution_count": null,
   "id": "7b9b05c7-2a90-4f87-aedf-0df7d4dec556",
   "metadata": {
    "execution": {
     "iopub.status.busy": "2022-11-08T21:27:34.697802Z",
     "iopub.status.idle": "2022-11-08T21:27:34.697937Z",
     "shell.execute_reply": "2022-11-08T21:27:34.697874Z",
     "shell.execute_reply.started": "2022-11-08T21:27:34.697867Z"
    },
    "tags": []
   },
   "outputs": [],
   "source": [
    "idx = A.index\n",
    "mask = idx.str.lower().isin(train_patterns)\n",
    "value = idx[mask]\n",
    "pd.Series(value.item(), index=idx)"
   ]
  },
  {
   "cell_type": "code",
   "execution_count": null,
   "id": "387fc068-8bfd-421d-b78a-c54988370dad",
   "metadata": {
    "execution": {
     "iopub.status.busy": "2022-11-08T21:27:34.698394Z",
     "iopub.status.idle": "2022-11-08T21:27:34.698526Z",
     "shell.execute_reply": "2022-11-08T21:27:34.698465Z",
     "shell.execute_reply.started": "2022-11-08T21:27:34.698458Z"
    },
    "tags": []
   },
   "outputs": [],
   "source": [
    "pd.Index(task.split_idx_sparse.T.index.to_series().to_dict())"
   ]
  },
  {
   "cell_type": "code",
   "execution_count": null,
   "id": "3e7b559b-8cf5-4f14-a539-b356ec64fdfc",
   "metadata": {
    "execution": {
     "iopub.status.busy": "2022-11-08T21:27:34.698869Z",
     "iopub.status.idle": "2022-11-08T21:27:34.698999Z",
     "shell.execute_reply": "2022-11-08T21:27:34.698937Z",
     "shell.execute_reply.started": "2022-11-08T21:27:34.698931Z"
    },
    "tags": []
   },
   "outputs": [],
   "source": [
    "pd.Index(idx.to_series().to_dict().keys())"
   ]
  },
  {
   "cell_type": "code",
   "execution_count": null,
   "id": "b7c7d990-dda2-4df2-9014-e20cefdbfac9",
   "metadata": {
    "execution": {
     "iopub.status.busy": "2022-11-08T21:27:34.699304Z",
     "iopub.status.idle": "2022-11-08T21:27:34.699434Z",
     "shell.execute_reply": "2022-11-08T21:27:34.699372Z",
     "shell.execute_reply.started": "2022-11-08T21:27:34.699366Z"
    },
    "tags": []
   },
   "outputs": [],
   "source": [
    "A = A.loc[0]\n",
    "idx = A.index\n",
    "names = idx.names\n",
    "*fold, partition = names\n",
    "train_patterns = [\"train\", \"training\"]"
   ]
  },
  {
   "cell_type": "code",
   "execution_count": null,
   "id": "4555d8cb-ef08-4450-af34-44fde7a8bd0e",
   "metadata": {
    "execution": {
     "iopub.status.busy": "2022-11-08T21:27:34.699952Z",
     "iopub.status.idle": "2022-11-08T21:27:34.700086Z",
     "shell.execute_reply": "2022-11-08T21:27:34.700023Z",
     "shell.execute_reply.started": "2022-11-08T21:27:34.700017Z"
    },
    "tags": []
   },
   "outputs": [],
   "source": [
    "idx = idx.to_frame(index=False)\n",
    "idx.partition = idx.partition.str.upper()\n",
    "idx = idx.set_index(names).index"
   ]
  },
  {
   "cell_type": "code",
   "execution_count": null,
   "id": "58d8c19d-35fd-481d-a4ae-b9ac5a42acd6",
   "metadata": {
    "execution": {
     "iopub.status.busy": "2022-11-08T21:27:34.700723Z",
     "iopub.status.idle": "2022-11-08T21:27:34.700858Z",
     "shell.execute_reply": "2022-11-08T21:27:34.700795Z",
     "shell.execute_reply.started": "2022-11-08T21:27:34.700789Z"
    },
    "tags": []
   },
   "outputs": [],
   "source": [
    "T = idx.to_frame()\n",
    "mask = T[partition].str.lower().isin(train_patterns)\n",
    "train_folds = T[mask].copy()\n",
    "train_folds = train_folds.drop(columns=names)\n",
    "train_folds[\"key\"] = list(T[mask].index)\n",
    "if train_folds.index.nlevels > 1:\n",
    "    train_folds = train_folds.droplevel(-1)\n",
    "T = T.drop(columns=names)\n",
    "T = train_folds.join(T, how=\"left\")[\"key\"]"
   ]
  },
  {
   "cell_type": "code",
   "execution_count": null,
   "id": "e025043a-ac01-47aa-93c2-8749f5112d54",
   "metadata": {
    "tags": []
   },
   "outputs": [],
   "source": []
  },
  {
   "cell_type": "code",
   "execution_count": null,
   "id": "0ce9bb94-12e2-44ca-a762-27c706d41064",
   "metadata": {
    "execution": {
     "iopub.status.busy": "2022-11-08T21:27:34.701199Z",
     "iopub.status.idle": "2022-11-08T21:27:34.701330Z",
     "shell.execute_reply": "2022-11-08T21:27:34.701269Z",
     "shell.execute_reply.started": "2022-11-08T21:27:34.701262Z"
    },
    "tags": []
   },
   "outputs": [],
   "source": [
    "result = T.to_dict()"
   ]
  },
  {
   "cell_type": "code",
   "execution_count": null,
   "id": "b984ac1a-8a8c-4df7-9616-620888ab634b",
   "metadata": {
    "tags": []
   },
   "outputs": [],
   "source": []
  },
  {
   "cell_type": "code",
   "execution_count": null,
   "id": "146ed130-4597-415a-b40b-bc4d78432885",
   "metadata": {},
   "outputs": [],
   "source": []
  },
  {
   "cell_type": "code",
   "execution_count": null,
   "id": "31d5f758-2abc-42a2-a949-26e12e18a5b2",
   "metadata": {},
   "outputs": [],
   "source": []
  },
  {
   "cell_type": "code",
   "execution_count": null,
   "id": "5eba50ad-ee6f-4c80-a5c9-338369f44a77",
   "metadata": {},
   "outputs": [],
   "source": []
  },
  {
   "cell_type": "code",
   "execution_count": null,
   "id": "da843ecc-a50b-47a8-ba09-189b6d46f5cc",
   "metadata": {},
   "outputs": [],
   "source": []
  },
  {
   "cell_type": "code",
   "execution_count": null,
   "id": "324cd6a7-41f9-411c-8979-cd28d7211206",
   "metadata": {
    "execution": {
     "iopub.status.busy": "2022-11-08T21:27:34.701715Z",
     "iopub.status.idle": "2022-11-08T21:27:34.701850Z",
     "shell.execute_reply": "2022-11-08T21:27:34.701789Z",
     "shell.execute_reply.started": "2022-11-08T21:27:34.701782Z"
    },
    "tags": []
   },
   "outputs": [],
   "source": [
    "?torch.nn.Module.forward"
   ]
  },
  {
   "cell_type": "code",
   "execution_count": null,
   "id": "ac4bc832-8ad2-4b59-ab55-b17d9a0e92cf",
   "metadata": {
    "execution": {
     "iopub.status.busy": "2022-11-08T21:27:34.702493Z",
     "iopub.status.idle": "2022-11-08T21:27:34.702627Z",
     "shell.execute_reply": "2022-11-08T21:27:34.702565Z",
     "shell.execute_reply.started": "2022-11-08T21:27:34.702558Z"
    },
    "tags": []
   },
   "outputs": [],
   "source": [
    "import tsdm\n",
    "from tsdm.utils.decorators import timefun"
   ]
  },
  {
   "cell_type": "code",
   "execution_count": null,
   "id": "7f2f073f-8b7a-4779-8181-88b373635606",
   "metadata": {
    "execution": {
     "iopub.status.busy": "2022-11-08T21:27:34.703006Z",
     "iopub.status.idle": "2022-11-08T21:27:34.703136Z",
     "shell.execute_reply": "2022-11-08T21:27:34.703074Z",
     "shell.execute_reply.started": "2022-11-08T21:27:34.703068Z"
    },
    "tags": []
   },
   "outputs": [],
   "source": [
    "ds = tsdm.datasets.InSilicoData(initialize=False);"
   ]
  },
  {
   "cell_type": "code",
   "execution_count": null,
   "id": "65c6de5d-8c35-493a-acbe-9615b5f43234",
   "metadata": {
    "execution": {
     "iopub.status.busy": "2022-11-08T21:27:34.703546Z",
     "iopub.status.idle": "2022-11-08T21:27:34.703679Z",
     "shell.execute_reply": "2022-11-08T21:27:34.703615Z",
     "shell.execute_reply.started": "2022-11-08T21:27:34.703609Z"
    },
    "tags": []
   },
   "outputs": [],
   "source": [
    "_, pre_cache_time = timefun(lambda: ds.dataset, append=True)()"
   ]
  },
  {
   "cell_type": "code",
   "execution_count": null,
   "id": "65f2dd0d-73eb-4e79-8993-3349df57716c",
   "metadata": {
    "execution": {
     "iopub.status.busy": "2022-11-08T21:27:34.704173Z",
     "iopub.status.idle": "2022-11-08T21:27:34.704313Z",
     "shell.execute_reply": "2022-11-08T21:27:34.704250Z",
     "shell.execute_reply.started": "2022-11-08T21:27:34.704243Z"
    },
    "tags": []
   },
   "outputs": [],
   "source": [
    "ds = tsdm.datasets.Electricity().dataset"
   ]
  },
  {
   "cell_type": "code",
   "execution_count": null,
   "id": "0b841236-ef61-4d3b-af61-8e45447534a6",
   "metadata": {
    "execution": {
     "iopub.status.busy": "2022-11-08T21:27:34.704771Z",
     "iopub.status.idle": "2022-11-08T21:27:34.704904Z",
     "shell.execute_reply": "2022-11-08T21:27:34.704842Z",
     "shell.execute_reply.started": "2022-11-08T21:27:34.704836Z"
    }
   },
   "outputs": [],
   "source": [
    "%time\n",
    "ds = tsdm.datasets.Electricity(initialize=False);"
   ]
  },
  {
   "cell_type": "code",
   "execution_count": null,
   "id": "0ef9038a-5578-4309-abb6-57787581c608",
   "metadata": {
    "execution": {
     "iopub.status.busy": "2022-11-08T21:27:34.705216Z",
     "iopub.status.idle": "2022-11-08T21:27:34.705345Z",
     "shell.execute_reply": "2022-11-08T21:27:34.705284Z",
     "shell.execute_reply.started": "2022-11-08T21:27:34.705278Z"
    }
   },
   "outputs": [],
   "source": [
    "from typing import NamedTuple"
   ]
  },
  {
   "cell_type": "code",
   "execution_count": null,
   "id": "9f8a9f8b-4334-458c-b0da-be796740f288",
   "metadata": {
    "execution": {
     "iopub.status.busy": "2022-11-08T21:27:34.705611Z",
     "iopub.status.idle": "2022-11-08T21:27:34.705739Z",
     "shell.execute_reply": "2022-11-08T21:27:34.705678Z",
     "shell.execute_reply.started": "2022-11-08T21:27:34.705672Z"
    }
   },
   "outputs": [],
   "source": [
    "class Foo(NamedTuple):\n",
    "    a: float\n",
    "    b: int\n",
    "\n",
    "\n",
    "tuple([1, 2, 3])"
   ]
  },
  {
   "cell_type": "code",
   "execution_count": null,
   "id": "94ce3282",
   "metadata": {
    "execution": {
     "iopub.status.busy": "2022-11-08T21:27:34.706162Z",
     "iopub.status.idle": "2022-11-08T21:27:34.706297Z",
     "shell.execute_reply": "2022-11-08T21:27:34.706236Z",
     "shell.execute_reply.started": "2022-11-08T21:27:34.706229Z"
    },
    "pycharm": {
     "is_executing": true,
     "name": "#%%\n"
    }
   },
   "outputs": [],
   "source": [
    "a = 1"
   ]
  },
  {
   "cell_type": "code",
   "execution_count": null,
   "id": "0e7e7a3f",
   "metadata": {
    "execution": {
     "iopub.status.busy": "2022-11-08T21:27:34.706987Z",
     "iopub.status.idle": "2022-11-08T21:27:34.707124Z",
     "shell.execute_reply": "2022-11-08T21:27:34.707061Z",
     "shell.execute_reply.started": "2022-11-08T21:27:34.707054Z"
    },
    "pycharm": {
     "name": "#%%\n"
    }
   },
   "outputs": [],
   "source": [
    "import encoders"
   ]
  },
  {
   "cell_type": "code",
   "execution_count": null,
   "id": "141c3e49",
   "metadata": {
    "execution": {
     "iopub.status.busy": "2022-11-08T21:27:34.707774Z",
     "iopub.status.idle": "2022-11-08T21:27:34.707912Z",
     "shell.execute_reply": "2022-11-08T21:27:34.707847Z",
     "shell.execute_reply.started": "2022-11-08T21:27:34.707841Z"
    },
    "pycharm": {
     "name": "#%%\n"
    }
   },
   "outputs": [],
   "source": [
    "import sys\n",
    "\n",
    "sys.path"
   ]
  },
  {
   "cell_type": "code",
   "execution_count": null,
   "id": "8c639a93",
   "metadata": {
    "execution": {
     "iopub.status.busy": "2022-11-08T21:27:34.708264Z",
     "iopub.status.idle": "2022-11-08T21:27:34.708393Z",
     "shell.execute_reply": "2022-11-08T21:27:34.708333Z",
     "shell.execute_reply.started": "2022-11-08T21:27:34.708327Z"
    },
    "pycharm": {
     "name": "#%%\n"
    }
   },
   "outputs": [],
   "source": [
    "import tsdm"
   ]
  },
  {
   "cell_type": "code",
   "execution_count": null,
   "id": "8c1a63b9",
   "metadata": {
    "execution": {
     "iopub.status.busy": "2022-11-08T21:27:34.709358Z",
     "iopub.status.idle": "2022-11-08T21:27:34.709740Z",
     "shell.execute_reply": "2022-11-08T21:27:34.709638Z",
     "shell.execute_reply.started": "2022-11-08T21:27:34.709622Z"
    },
    "pycharm": {
     "name": "#%%\n"
    }
   },
   "outputs": [],
   "source": [
    "encoders.__path__"
   ]
  },
  {
   "cell_type": "code",
   "execution_count": null,
   "id": "d763b7e3",
   "metadata": {
    "execution": {
     "iopub.status.busy": "2022-11-08T21:27:34.710140Z",
     "iopub.status.idle": "2022-11-08T21:27:34.710279Z",
     "shell.execute_reply": "2022-11-08T21:27:34.710214Z",
     "shell.execute_reply.started": "2022-11-08T21:27:34.710207Z"
    },
    "pycharm": {
     "name": "#%%\n"
    }
   },
   "outputs": [],
   "source": [
    "import tsdm"
   ]
  },
  {
   "cell_type": "code",
   "execution_count": null,
   "id": "e8af615e",
   "metadata": {
    "execution": {
     "iopub.status.busy": "2022-11-08T21:27:34.710710Z",
     "iopub.status.idle": "2022-11-08T21:27:34.710844Z",
     "shell.execute_reply": "2022-11-08T21:27:34.710781Z",
     "shell.execute_reply.started": "2022-11-08T21:27:34.710774Z"
    },
    "pycharm": {
     "name": "#%%\n"
    }
   },
   "outputs": [],
   "source": [
    "dir(tsdm)"
   ]
  },
  {
   "cell_type": "code",
   "execution_count": null,
   "id": "4cd4fcff-3d1b-45e5-8a41-06a82af3750f",
   "metadata": {
    "execution": {
     "iopub.status.busy": "2022-11-08T21:27:34.711344Z",
     "iopub.status.idle": "2022-11-08T21:27:34.711478Z",
     "shell.execute_reply": "2022-11-08T21:27:34.711415Z",
     "shell.execute_reply.started": "2022-11-08T21:27:34.711408Z"
    },
    "pycharm": {
     "name": "#%%\n"
    },
    "tags": []
   },
   "outputs": [],
   "source": [
    "import pandas as pd\n",
    "\n",
    "import tsdm"
   ]
  },
  {
   "cell_type": "code",
   "execution_count": null,
   "id": "bd082c85-2dd8-440f-891d-9c208cc9de43",
   "metadata": {
    "execution": {
     "iopub.status.busy": "2022-11-08T21:27:34.711914Z",
     "iopub.status.idle": "2022-11-08T21:27:34.712086Z",
     "shell.execute_reply": "2022-11-08T21:27:34.712022Z",
     "shell.execute_reply.started": "2022-11-08T21:27:34.712015Z"
    },
    "pycharm": {
     "name": "#%%\n"
    }
   },
   "outputs": [],
   "source": [
    "DS = tsdm.datasets.USHCN_SmallChunkedSporadic()"
   ]
  },
  {
   "cell_type": "code",
   "execution_count": null,
   "id": "1bef2043-78a2-491f-bd2a-407a235fa50d",
   "metadata": {
    "execution": {
     "iopub.status.busy": "2022-11-08T21:27:34.712567Z",
     "iopub.status.idle": "2022-11-08T21:27:34.712703Z",
     "shell.execute_reply": "2022-11-08T21:27:34.712639Z",
     "shell.execute_reply.started": "2022-11-08T21:27:34.712632Z"
    },
    "pycharm": {
     "name": "#%%\n"
    }
   },
   "outputs": [],
   "source": [
    "DS.dataset.sort_index(level=\"Time\")"
   ]
  },
  {
   "cell_type": "code",
   "execution_count": null,
   "id": "9f3600ab-dd25-4742-a380-4a54ec3ab59f",
   "metadata": {
    "execution": {
     "iopub.status.busy": "2022-11-08T21:27:34.713137Z",
     "iopub.status.idle": "2022-11-08T21:27:34.713304Z",
     "shell.execute_reply": "2022-11-08T21:27:34.713230Z",
     "shell.execute_reply.started": "2022-11-08T21:27:34.713222Z"
    },
    "pycharm": {
     "name": "#%%\n"
    }
   },
   "outputs": [],
   "source": [
    "dtypes = {\n",
    "    \"ID\": \"int16\",\n",
    "    \"Time\": \"float32\",\n",
    "    \"Value_0\": \"float32\",\n",
    "    \"Value_1\": \"float32\",\n",
    "    \"Value_2\": \"float32\",\n",
    "    \"Value_3\": \"float32\",\n",
    "    \"Value_4\": \"float32\",\n",
    "    \"Mask_0\": \"bool\",\n",
    "    \"Mask_1\": \"bool\",\n",
    "    \"Mask_2\": \"bool\",\n",
    "    \"Mask_3\": \"bool\",\n",
    "    \"Mask_4\": \"bool\",\n",
    "}\n",
    "df = pd.read_csv(PTH, dtype=dtypes)\n",
    "df = pd.DataFrame(df)"
   ]
  },
  {
   "cell_type": "code",
   "execution_count": null,
   "id": "b0b48166-42bf-4284-9cd0-e9cf07359065",
   "metadata": {
    "execution": {
     "iopub.status.busy": "2022-11-08T21:27:34.713738Z",
     "iopub.status.idle": "2022-11-08T21:27:34.713872Z",
     "shell.execute_reply": "2022-11-08T21:27:34.713809Z",
     "shell.execute_reply.started": "2022-11-08T21:27:34.713803Z"
    },
    "pycharm": {
     "name": "#%%\n"
    }
   },
   "outputs": [],
   "source": [
    "l = []\n",
    "for k in range(5):\n",
    "    key = f\"CH_{k}\"\n",
    "    l.append(key)\n",
    "    df[key] = df[f\"Value_{k}\"].where(df[f\"Mask_{k}\"])\n",
    "\n",
    "df = df[[\"ID\", \"Time\", *l]].sort_values([\"ID\", \"Time\"])"
   ]
  },
  {
   "cell_type": "code",
   "execution_count": null,
   "id": "0ebc1fb4-5bdf-4708-aff3-fecf6e4627fe",
   "metadata": {
    "execution": {
     "iopub.status.busy": "2022-11-08T21:27:34.714468Z",
     "iopub.status.idle": "2022-11-08T21:27:34.714602Z",
     "shell.execute_reply": "2022-11-08T21:27:34.714538Z",
     "shell.execute_reply.started": "2022-11-08T21:27:34.714532Z"
    },
    "pycharm": {
     "name": "#%%\n"
    }
   },
   "outputs": [],
   "source": [
    "df = df.set_index([\"ID\", \"Time\"])"
   ]
  },
  {
   "cell_type": "code",
   "execution_count": null,
   "id": "42fe2287-dc6a-4b1d-8896-d3795886e32a",
   "metadata": {
    "execution": {
     "iopub.status.busy": "2022-11-08T21:27:34.715121Z",
     "iopub.status.idle": "2022-11-08T21:27:34.715262Z",
     "shell.execute_reply": "2022-11-08T21:27:34.715196Z",
     "shell.execute_reply.started": "2022-11-08T21:27:34.715189Z"
    },
    "pycharm": {
     "name": "#%%\n"
    }
   },
   "outputs": [],
   "source": [
    "df.dtypes"
   ]
  },
  {
   "cell_type": "code",
   "execution_count": null,
   "id": "4ba7f210-a33a-4976-a259-30e1f1033791",
   "metadata": {
    "execution": {
     "iopub.status.busy": "2022-11-08T21:27:34.715673Z",
     "iopub.status.idle": "2022-11-08T21:27:34.715816Z",
     "shell.execute_reply": "2022-11-08T21:27:34.715750Z",
     "shell.execute_reply.started": "2022-11-08T21:27:34.715743Z"
    },
    "pycharm": {
     "name": "#%%\n"
    }
   },
   "outputs": [],
   "source": [
    "ts.Value_0.where(ts.Mask_0)"
   ]
  },
  {
   "cell_type": "code",
   "execution_count": null,
   "id": "ba68a191-dd8f-4083-8620-0072359416de",
   "metadata": {
    "pycharm": {
     "name": "#%%\n"
    }
   },
   "outputs": [],
   "source": []
  },
  {
   "cell_type": "code",
   "execution_count": null,
   "id": "ad22187c-d626-483d-8f02-29320a389634",
   "metadata": {
    "pycharm": {
     "name": "#%%\n"
    }
   },
   "outputs": [],
   "source": []
  },
  {
   "cell_type": "code",
   "execution_count": null,
   "id": "e5dd8e15-443a-4aec-8a88-d6bd7a24aa8e",
   "metadata": {
    "execution": {
     "iopub.status.busy": "2022-11-08T21:27:34.716344Z",
     "iopub.status.idle": "2022-11-08T21:27:34.716485Z",
     "shell.execute_reply": "2022-11-08T21:27:34.716419Z",
     "shell.execute_reply.started": "2022-11-08T21:27:34.716412Z"
    },
    "pycharm": {
     "name": "#%%\n"
    }
   },
   "outputs": [],
   "source": [
    "ts[\"ID\"].nunique()"
   ]
  },
  {
   "cell_type": "code",
   "execution_count": null,
   "id": "61ee46cd-4ce9-42f1-b500-7b4cb9653d6b",
   "metadata": {
    "execution": {
     "iopub.status.busy": "2022-11-08T21:27:34.716934Z",
     "iopub.status.idle": "2022-11-08T21:27:34.717073Z",
     "shell.execute_reply": "2022-11-08T21:27:34.717009Z",
     "shell.execute_reply.started": "2022-11-08T21:27:34.717002Z"
    },
    "pycharm": {
     "name": "#%%\n"
    }
   },
   "outputs": [],
   "source": [
    "ds = tsdm.datasets.USHCN()"
   ]
  },
  {
   "cell_type": "code",
   "execution_count": null,
   "id": "2f86a6f1-8e88-4a41-8dce-e87e1b884f89",
   "metadata": {
    "execution": {
     "iopub.status.busy": "2022-11-08T21:27:34.717515Z",
     "iopub.status.idle": "2022-11-08T21:27:34.717657Z",
     "shell.execute_reply": "2022-11-08T21:27:34.717591Z",
     "shell.execute_reply.started": "2022-11-08T21:27:34.717584Z"
    },
    "pycharm": {
     "name": "#%%\n"
    }
   },
   "outputs": [],
   "source": [
    "from tsdm.encoders import TripletDecoder"
   ]
  },
  {
   "cell_type": "code",
   "execution_count": null,
   "id": "47909d64-5a07-4827-b09d-1b2a7ec4035f",
   "metadata": {
    "execution": {
     "iopub.status.busy": "2022-11-08T21:27:34.718096Z",
     "iopub.status.idle": "2022-11-08T21:27:34.718236Z",
     "shell.execute_reply": "2022-11-08T21:27:34.718170Z",
     "shell.execute_reply.started": "2022-11-08T21:27:34.718164Z"
    },
    "pycharm": {
     "name": "#%%\n"
    }
   },
   "outputs": [],
   "source": [
    "ts = ds.us_daily[[\"VALUE\", \"ELEMENT\"]]"
   ]
  },
  {
   "cell_type": "code",
   "execution_count": null,
   "id": "bdc1c5d4-8f13-487b-9246-55f0e71e5176",
   "metadata": {
    "execution": {
     "iopub.status.busy": "2022-11-08T21:27:34.718654Z",
     "iopub.status.idle": "2022-11-08T21:27:34.718794Z",
     "shell.execute_reply": "2022-11-08T21:27:34.718729Z",
     "shell.execute_reply.started": "2022-11-08T21:27:34.718722Z"
    },
    "pycharm": {
     "name": "#%%\n"
    }
   },
   "outputs": [],
   "source": [
    "enc = TripletDecoder(value_name=\"VALUE\", var_name=\"ELEMENT\")\n",
    "enc.fit(ts)"
   ]
  },
  {
   "cell_type": "code",
   "execution_count": null,
   "id": "0d4a1d61-429e-4695-bb23-0be16e9f450c",
   "metadata": {
    "execution": {
     "iopub.status.busy": "2022-11-08T21:27:34.719493Z",
     "iopub.status.idle": "2022-11-08T21:27:34.719771Z",
     "shell.execute_reply": "2022-11-08T21:27:34.719703Z",
     "shell.execute_reply.started": "2022-11-08T21:27:34.719695Z"
    },
    "pycharm": {
     "name": "#%%\n"
    }
   },
   "outputs": [],
   "source": [
    "import modin.pandas as mpd"
   ]
  },
  {
   "cell_type": "code",
   "execution_count": null,
   "id": "9ad451f9-1408-4da5-9adc-f72a7fe8b54d",
   "metadata": {
    "execution": {
     "iopub.status.busy": "2022-11-08T21:27:34.720146Z",
     "iopub.status.idle": "2022-11-08T21:27:34.720291Z",
     "shell.execute_reply": "2022-11-08T21:27:34.720227Z",
     "shell.execute_reply.started": "2022-11-08T21:27:34.720220Z"
    },
    "pycharm": {
     "name": "#%%\n"
    }
   },
   "outputs": [],
   "source": [
    "ts = mpd.DataFrame(ts)"
   ]
  },
  {
   "cell_type": "code",
   "execution_count": null,
   "id": "777458bb-2d8e-4efc-b268-49dcf6d3a6f0",
   "metadata": {
    "execution": {
     "iopub.status.busy": "2022-11-08T21:27:34.720617Z",
     "iopub.status.idle": "2022-11-08T21:27:34.720802Z",
     "shell.execute_reply": "2022-11-08T21:27:34.720737Z",
     "shell.execute_reply.started": "2022-11-08T21:27:34.720730Z"
    },
    "pycharm": {
     "name": "#%%\n"
    }
   },
   "outputs": [],
   "source": [
    "s = ts[:1000].reset_index()"
   ]
  },
  {
   "cell_type": "code",
   "execution_count": null,
   "id": "bbe6a566-039f-487b-a88d-3a69a1b74143",
   "metadata": {
    "execution": {
     "iopub.status.busy": "2022-11-08T21:27:34.721123Z",
     "iopub.status.idle": "2022-11-08T21:27:34.721271Z",
     "shell.execute_reply": "2022-11-08T21:27:34.721195Z",
     "shell.execute_reply.started": "2022-11-08T21:27:34.721188Z"
    },
    "pycharm": {
     "name": "#%%\n"
    }
   },
   "outputs": [],
   "source": [
    "type(ts)"
   ]
  },
  {
   "cell_type": "code",
   "execution_count": null,
   "id": "9bee601b-ee00-4037-bfa3-79a4c4392f77",
   "metadata": {
    "execution": {
     "iopub.status.busy": "2022-11-08T21:27:34.721713Z",
     "iopub.status.idle": "2022-11-08T21:27:34.721846Z",
     "shell.execute_reply": "2022-11-08T21:27:34.721784Z",
     "shell.execute_reply.started": "2022-11-08T21:27:34.721778Z"
    },
    "pycharm": {
     "name": "#%%\n"
    }
   },
   "outputs": [],
   "source": [
    "ts.reset_index().groupby([\"COOP_ID\", \"time\", \"ELEMENT\"])[\"VALUE\"].aggregate(\n",
    "    \"mean\"\n",
    ").unstack()"
   ]
  },
  {
   "cell_type": "code",
   "execution_count": null,
   "id": "cbbd9e03-8ac5-4c57-b452-e47026920f61",
   "metadata": {
    "pycharm": {
     "name": "#%%\n"
    }
   },
   "outputs": [],
   "source": []
  },
  {
   "cell_type": "code",
   "execution_count": null,
   "id": "bf33a3dd-7850-4d5a-8332-61dceaa4d797",
   "metadata": {
    "execution": {
     "iopub.status.busy": "2022-11-08T21:27:34.722347Z",
     "iopub.status.idle": "2022-11-08T21:27:34.722479Z",
     "shell.execute_reply": "2022-11-08T21:27:34.722417Z",
     "shell.execute_reply.started": "2022-11-08T21:27:34.722410Z"
    },
    "pycharm": {
     "name": "#%%\n"
    }
   },
   "outputs": [],
   "source": [
    "l = []\n",
    "\n",
    "for value in ts.ELEMENT.unique():\n",
    "    print(value)\n",
    "    mask = ts.ELEMENT == value\n",
    "    l.append(ts.VALUE[mask])"
   ]
  },
  {
   "cell_type": "code",
   "execution_count": null,
   "id": "9f714d70-89d8-4e09-9e51-973ffd654b4e",
   "metadata": {
    "execution": {
     "iopub.status.busy": "2022-11-08T21:27:34.722878Z",
     "iopub.status.idle": "2022-11-08T21:27:34.723011Z",
     "shell.execute_reply": "2022-11-08T21:27:34.722949Z",
     "shell.execute_reply.started": "2022-11-08T21:27:34.722942Z"
    },
    "pycharm": {
     "name": "#%%\n"
    }
   },
   "outputs": [],
   "source": [
    "ts.pivot(columns=\"ELEMENT\", values=\"VALUE\")"
   ]
  },
  {
   "cell_type": "code",
   "execution_count": null,
   "id": "fb3141ea-1ec9-4585-8c22-7ade249123a5",
   "metadata": {
    "pycharm": {
     "name": "#%%\n"
    }
   },
   "outputs": [],
   "source": []
  }
 ],
 "metadata": {
  "kernelspec": {
   "display_name": "Python 3 (ipykernel)",
   "language": "python",
   "name": "python3"
  },
  "language_info": {
   "codemirror_mode": {
    "name": "ipython",
    "version": 3
   },
   "file_extension": ".py",
   "mimetype": "text/x-python",
   "name": "python",
   "nbconvert_exporter": "python",
   "pygments_lexer": "ipython3",
   "version": "3.10.6"
  }
 },
 "nbformat": 4,
 "nbformat_minor": 5
}
