{
 "cells": [
  {
   "cell_type": "code",
   "execution_count": 1,
   "id": "8995d570-88ed-4147-8d0f-e8ef165f8e67",
   "metadata": {},
   "outputs": [],
   "source": [
    "def gg():\n",
    "    ..."
   ]
  },
  {
   "cell_type": "code",
   "execution_count": 2,
   "id": "acac0028-c245-412b-b041-19ef82922120",
   "metadata": {},
   "outputs": [],
   "source": [
    "gg.__name__\n"
   ]
  },
  {
   "cell_type": "code",
   "execution_count": null,
   "id": "4cd4fcff-3d1b-45e5-8a41-06a82af3750f",
   "metadata": {},
   "outputs": [],
   "source": []
  }
 ],
 "metadata": {
  "kernelspec": {
   "display_name": "Python 3 (ipykernel)",
   "language": "python",
   "name": "python3"
  },
  "language_info": {
   "codemirror_mode": {
    "name": "ipython",
    "version": 3
   },
   "file_extension": ".py",
   "mimetype": "text/x-python",
   "name": "python",
   "nbconvert_exporter": "python",
   "pygments_lexer": "ipython3",
   "version": "3.9.7"
  }
 },
 "nbformat": 4,
 "nbformat_minor": 5
}
