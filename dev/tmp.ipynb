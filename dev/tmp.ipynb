{
 "cells": [
  {
   "cell_type": "code",
   "execution_count": null,
   "id": "07574fc2-760a-4459-a90a-1c96de12484a",
   "metadata": {
    "execution": {
     "iopub.execute_input": "2023-07-03T17:24:51.402846Z",
     "iopub.status.busy": "2023-07-03T17:24:51.402641Z",
     "iopub.status.idle": "2023-07-03T17:24:51.708372Z",
     "shell.execute_reply": "2023-07-03T17:24:51.707949Z",
     "shell.execute_reply.started": "2023-07-03T17:24:51.402827Z"
    },
    "tags": []
   },
   "outputs": [],
   "source": [
    "%config InteractiveShell.ast_node_interactivity='last_expr_or_assign'  # always print last expr.\n",
    "%config InlineBackend.figure_format = 'svg'\n",
    "%load_ext autoreload\n",
    "%autoreload 2\n",
    "%matplotlib inline\n",
    "\n",
    "import logging\n",
    "\n",
    "logging.basicConfig(level=logging.INFO)\n",
    "__logger__ = logging.getLogger(__name__)"
   ]
  },
  {
   "cell_type": "code",
   "execution_count": null,
   "id": "49f21b02-8811-490b-805f-51096a4017e1",
   "metadata": {
    "execution": {
     "iopub.execute_input": "2023-07-03T17:24:51.713217Z",
     "iopub.status.busy": "2023-07-03T17:24:51.712968Z",
     "iopub.status.idle": "2023-07-03T17:24:52.660583Z",
     "shell.execute_reply": "2023-07-03T17:24:52.660071Z",
     "shell.execute_reply.started": "2023-07-03T17:24:51.713201Z"
    }
   },
   "outputs": [],
   "source": [
    "import numpy as np\n",
    "import pandas as pd\n",
    "import torch\n",
    "import pyarrow as pa"
   ]
  },
  {
   "cell_type": "code",
   "execution_count": null,
   "id": "df8c2677-0b95-4b8c-b63e-d7bcf44a6287",
   "metadata": {
    "execution": {
     "iopub.execute_input": "2023-07-03T17:25:36.149856Z",
     "iopub.status.busy": "2023-07-03T17:25:36.149604Z",
     "iopub.status.idle": "2023-07-03T17:25:40.096406Z",
     "shell.execute_reply": "2023-07-03T17:25:40.095981Z",
     "shell.execute_reply.started": "2023-07-03T17:25:36.149843Z"
    }
   },
   "outputs": [],
   "source": [
    "import logging\n",
    "import pickle\n",
    "\n",
    "import numpy as np\n",
    "import pandas as pd\n",
    "import pytest\n",
    "import torch\n",
    "from pandas import DataFrame\n",
    "\n",
    "from tsdm.encoders import (\n",
    "    BaseEncoder,\n",
    "    BoundaryEncoder,\n",
    "    BoxCoxEncoder,\n",
    "    FastFrameEncoder,\n",
    "    FrameAsDict,\n",
    "    IdentityEncoder,\n",
    "    LogitBoxCoxEncoder,\n",
    "    MinMaxScaler,\n",
    "    StandardScaler,\n",
    "    TimeDeltaEncoder,\n",
    ")\n",
    "from tsdm.tasks import KiwiTask\n",
    "\n",
    "logging.basicConfig(level=logging.INFO)\n",
    "__logger__ = logging.getLogger(__name__)\n",
    "\n",
    "SplitID = (0, \"train\")\n",
    "\n",
    "task = KiwiTask()\n",
    "ts = task.dataset.timeseries.iloc[:20_000]  # use first 20_000 values only\n",
    "VF = task.dataset.timeseries_description\n",
    "sampler = task.samplers[SplitID]\n",
    "generator = task.generators[SplitID]\n",
    "key = next(iter(sampler))\n",
    "sample = generator[key]\n",
    "x = sample.inputs.x"
   ]
  },
  {
   "cell_type": "code",
   "execution_count": null,
   "id": "57bb9bcf-0201-40b0-9757-bf88acf6b7d0",
   "metadata": {
    "execution": {
     "iopub.execute_input": "2023-07-03T17:25:40.097178Z",
     "iopub.status.busy": "2023-07-03T17:25:40.097064Z",
     "iopub.status.idle": "2023-07-03T17:25:40.137255Z",
     "shell.execute_reply": "2023-07-03T17:25:40.136672Z",
     "shell.execute_reply.started": "2023-07-03T17:25:40.097169Z"
    }
   },
   "outputs": [],
   "source": [
    "# Construct the encoder\n",
    "column_encoders: dict[str, BaseEncoder] = {}\n",
    "for col, scale, lower, upper in VF[[\"scale\", \"lower\", \"upper\"]].itertuples():\n",
    "    match scale:\n",
    "        case \"percent\":\n",
    "            column_encoders[col] = (\n",
    "                LogitBoxCoxEncoder()\n",
    "                @ MinMaxScaler(0, 1, xmin=lower, xmax=upper)\n",
    "                @ BoundaryEncoder(lower, upper, mode=\"clip\")\n",
    "            )\n",
    "        case \"absolute\":\n",
    "            if upper < np.inf:\n",
    "                column_encoders[col] = (\n",
    "                    BoxCoxEncoder()\n",
    "                    # @ MinMaxScaler(lower, upper)\n",
    "                    @ BoundaryEncoder(lower, upper, mode=\"clip\")\n",
    "                )\n",
    "            else:\n",
    "                column_encoders[col] = BoxCoxEncoder() @ BoundaryEncoder(\n",
    "                    lower, upper, mode=\"clip\"\n",
    "                )\n",
    "        case \"linear\":\n",
    "            column_encoders[col] = IdentityEncoder()\n",
    "        case _:\n",
    "            raise ValueError(f\"{scale=} unknown\")\n",
    "\n",
    "encoder = (\n",
    "    FrameAsDict(\n",
    "        groups={\n",
    "            \"key\": [\"run_id\", \"experiment_id\"],\n",
    "            \"T\": [\"measurement_time\"],\n",
    "            \"X\": ...,\n",
    "        },\n",
    "        dtypes={\"T\": \"float32\", \"X\": \"float32\"},\n",
    "        encode_index=True,\n",
    "    )\n",
    "    @ StandardScaler(axis=-1)\n",
    "    @ FastFrameEncoder(\n",
    "        column_encoders=column_encoders,\n",
    "        index_encoders={\"measurement_time\": MinMaxScaler() @ TimeDeltaEncoder()},\n",
    "    )\n",
    ");"
   ]
  },
  {
   "cell_type": "code",
   "execution_count": null,
   "id": "f4233cf4-5129-4538-9287-e82d2787f4fe",
   "metadata": {
    "execution": {
     "iopub.execute_input": "2023-07-03T17:25:40.137945Z",
     "iopub.status.busy": "2023-07-03T17:25:40.137822Z",
     "iopub.status.idle": "2023-07-03T17:25:42.147973Z",
     "shell.execute_reply": "2023-07-03T17:25:42.147489Z",
     "shell.execute_reply.started": "2023-07-03T17:25:40.137934Z"
    }
   },
   "outputs": [],
   "source": [
    "encoder.fit(ts)  # fit encoder to the whole dataset\n",
    "encoded = encoder.encode(ts)\n",
    "decoded = encoder.decode(encoded)\n",
    "MAD = (decoded - ts).abs().mean().mean()\n",
    "assert all(decoded.isna() == ts.isna()), \"NaN pattern mismatch\"\n",
    "assert MAD < 1e-3, \"Large deviations from original values\"\n",
    "# check that the encoded values are within the bounds"
   ]
  },
  {
   "cell_type": "code",
   "execution_count": null,
   "id": "2f15028d-675d-4dca-8435-e96578e7dcd7",
   "metadata": {
    "execution": {
     "iopub.execute_input": "2023-07-03T17:25:42.148834Z",
     "iopub.status.busy": "2023-07-03T17:25:42.148723Z",
     "iopub.status.idle": "2023-07-03T17:25:42.215081Z",
     "shell.execute_reply": "2023-07-03T17:25:42.214601Z",
     "shell.execute_reply.started": "2023-07-03T17:25:42.148823Z"
    }
   },
   "outputs": [],
   "source": [
    "# apply encoder to a single slice\n",
    "encoded = encoder.encode(x)\n",
    "xhat = DataFrame(encoded[\"X\"])\n",
    "assert (xhat.isna().values == x.isna().values).all(), \"NaN pattern mismatch\""
   ]
  },
  {
   "cell_type": "code",
   "execution_count": null,
   "id": "b282169a-da9f-426c-9c03-7d1c0d9f5975",
   "metadata": {
    "execution": {
     "iopub.execute_input": "2023-07-03T17:40:50.203625Z",
     "iopub.status.busy": "2023-07-03T17:40:50.203335Z",
     "iopub.status.idle": "2023-07-03T17:40:50.287927Z",
     "shell.execute_reply": "2023-07-03T17:40:50.287496Z",
     "shell.execute_reply.started": "2023-07-03T17:40:50.203607Z"
    }
   },
   "outputs": [],
   "source": [
    "enc = encoder[-1][\"Acetate\"][-1]\n",
    "enc.encode(ts.Acetate)"
   ]
  },
  {
   "cell_type": "code",
   "execution_count": null,
   "id": "c66c3408-cab6-47b2-92df-e9b55e1369f8",
   "metadata": {
    "execution": {
     "iopub.status.busy": "2023-07-03T16:37:00.388817Z",
     "iopub.status.idle": "2023-07-03T16:37:00.388937Z",
     "shell.execute_reply": "2023-07-03T16:37:00.388882Z",
     "shell.execute_reply.started": "2023-07-03T16:37:00.388876Z"
    }
   },
   "outputs": [],
   "source": [
    "encoded"
   ]
  },
  {
   "cell_type": "code",
   "execution_count": null,
   "id": "3681b13c-b691-419b-b7c1-73e3d072e516",
   "metadata": {
    "execution": {
     "iopub.status.busy": "2023-07-03T16:37:00.389447Z",
     "iopub.status.idle": "2023-07-03T16:37:00.389563Z",
     "shell.execute_reply": "2023-07-03T16:37:00.389510Z",
     "shell.execute_reply.started": "2023-07-03T16:37:00.389505Z"
    }
   },
   "outputs": [],
   "source": [
    "# check that decoded matches with original\n",
    "decoded = encoder.decode(encoded)\n",
    "MAD = (decoded - x).abs().mean().mean()\n",
    "assert all(decoded.isna() == x.isna()), \"NaN pattern mismatch\"\n",
    "assert MAD < 1e-3, \"Large deviations from original values\"\n",
    "\n",
    "# check that decoding random values satisfies bounds\n",
    "rng_data = torch.randn_like(encoded[\"X\"])\n",
    "encoded[\"X\"] = 20 * rng_data  # large std. dev. to ensure that the bounds are violated\n",
    "decoded = encoder.decode(encoded)\n",
    "bounds = pd.concat([decoded.min(), decoded.max()], axis=1, keys=[\"lower\", \"upper\"])\n",
    "for col, lower, upper in bounds.itertuples():\n",
    "    match VF.loc[col, \"scale\"]:\n",
    "        case \"percent\":\n",
    "            assert lower == 0, \"Lower bound violated\"\n",
    "            assert upper == 100, \"Upper bound violated\"\n",
    "        case \"absolute\":\n",
    "            assert lower == 0, \"Lower bound violated\"\n",
    "\n",
    "# test_serialization\n",
    "with open(\"trained_encoder.pickle\", \"wb\") as file:\n",
    "    pickle.dump(encoder, file)\n",
    "\n",
    "with open(\"trained_encoder.pickle\", \"rb\") as file:\n",
    "    loaded_encoder = pickle.load(file)\n",
    "\n",
    "assert isinstance(loaded_encoder, BaseEncoder)"
   ]
  },
  {
   "cell_type": "code",
   "execution_count": null,
   "id": "bba686d3-0232-454e-8cfa-498e1e2decf3",
   "metadata": {},
   "outputs": [],
   "source": []
  }
 ],
 "metadata": {
  "kernelspec": {
   "display_name": "Python 3 (ipykernel)",
   "language": "python",
   "name": "python3"
  },
  "language_info": {
   "codemirror_mode": {
    "name": "ipython",
    "version": 3
   },
   "file_extension": ".py",
   "mimetype": "text/x-python",
   "name": "python",
   "nbconvert_exporter": "python",
   "pygments_lexer": "ipython3",
   "version": "3.11.3"
  }
 },
 "nbformat": 4,
 "nbformat_minor": 5
}
