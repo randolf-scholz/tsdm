{
 "cells": [
  {
   "cell_type": "markdown",
   "id": "4340cc9c-9439-4ce3-8f20-397e5506884f",
   "metadata": {},
   "source": [
    "# DataLoader:\n",
    "\n",
    "\n",
    "- should be able to handle: real data, categorical data.\n",
    "- pytorch-forecasting: batching only by sequence length => lacks batching by time interval (e.g. \"get all time steps within the last 60 minutes\")"
   ]
  },
  {
   "cell_type": "code",
   "execution_count": null,
   "id": "3eb16a14-223f-4cbf-a08f-83a1649d9d96",
   "metadata": {},
   "outputs": [],
   "source": [
    "%load_ext autoreload\n",
    "%autoreload 2"
   ]
  },
  {
   "cell_type": "code",
   "execution_count": null,
   "id": "5ce25be9-0756-4d2d-93a9-e2030d819ed8",
   "metadata": {},
   "outputs": [],
   "source": [
    "import numpy as np\n",
    "import pandas as pd\n",
    "import torch\n",
    "from pandas import DataFrame, Series, Timestamp\n",
    "from pandas.tseries.offsets import DateOffset\n",
    "from torch import Tensor\n",
    "\n",
    "pd.set_option(\"display.max_rows\", 5)"
   ]
  },
  {
   "cell_type": "code",
   "execution_count": null,
   "id": "93cf478a-2645-412d-8e8b-6a79fd0ac23f",
   "metadata": {},
   "outputs": [],
   "source": [
    "from tsdm.datasets import Electricity\n",
    "\n",
    "X = Electricity.dataset\n",
    "X"
   ]
  },
  {
   "cell_type": "code",
   "execution_count": null,
   "id": "5511f34a-c3da-4f83-886e-3b8ed56281ed",
   "metadata": {},
   "outputs": [],
   "source": [
    "from tsdm.utils.converters import time2float, time2int\n",
    "\n",
    "time2float(X.index), time2int(X.index)"
   ]
  },
  {
   "cell_type": "code",
   "execution_count": null,
   "id": "86003e3f-058c-4d9d-ac75-c964a0f269e2",
   "metadata": {},
   "outputs": [],
   "source": [
    "from tsdm.utils import is_quasiregular, is_regular, regularity_coefficient, time_gcd\n",
    "\n",
    "print(f\"{is_regular(X.index)=}\")\n",
    "print(f\"{is_quasiregular(X.index)=}\")\n",
    "print(f\"{regularity_coefficient(X.index)=}\")\n",
    "print(f\"{time_gcd(X.index)=}\")"
   ]
  },
  {
   "cell_type": "code",
   "execution_count": null,
   "id": "c7424037-1c0b-4795-9901-b3a071c74c50",
   "metadata": {},
   "outputs": [],
   "source": [
    "static_categoricals: list[str] = ([],)\n",
    "static_reals: list[str] = ([],)\n",
    "time_varying_known_categoricals: list[str] = ([],)\n",
    "time_varying_known_reals: list[str] = ([],)\n",
    "time_varying_unknown_categoricals: list[str] = ([],)\n",
    "time_varying_unknown_reals: list[str] = []"
   ]
  },
  {
   "cell_type": "code",
   "execution_count": null,
   "id": "f95e9330-e9c8-49bf-8270-625a4f670651",
   "metadata": {},
   "outputs": [],
   "source": [
    "x = np.random.randint(low=-5, high=+5, size=(3, 3, 4, 5))\n",
    "mask = np.random.choice([False, True], x.shape)"
   ]
  },
  {
   "cell_type": "code",
   "execution_count": null,
   "id": "7757422a-f806-42f2-a3d6-ecee0c65faf0",
   "metadata": {},
   "outputs": [],
   "source": [
    "ds = Series(x.flatten()).astype(pd.Int64Dtype())\n",
    "ds = ds.where(mask.flatten())\n",
    "ds = ds.astype(\"category\")\n",
    "ds"
   ]
  },
  {
   "cell_type": "code",
   "execution_count": null,
   "id": "e2fa1789-d1bc-4be8-9ed9-939f84bc6901",
   "metadata": {},
   "outputs": [],
   "source": [
    "pd.get_dummies(ds, sparse=True, dtype=float)"
   ]
  },
  {
   "cell_type": "code",
   "execution_count": null,
   "id": "68a89bcb-52eb-4bab-b7e5-33bb561a8e0f",
   "metadata": {},
   "outputs": [],
   "source": [
    "pd.NA"
   ]
  },
  {
   "cell_type": "code",
   "execution_count": null,
   "id": "941097ea-bafb-4fca-9428-6624821fafa1",
   "metadata": {},
   "outputs": [],
   "source": [
    "metadata: dict[str, Tensor]"
   ]
  },
  {
   "cell_type": "code",
   "execution_count": null,
   "id": "666be7f4-9955-4750-8426-24661617572e",
   "metadata": {},
   "outputs": [],
   "source": [
    "from tsdm.utils.converters import make_dense_triplets, time2int\n",
    "\n",
    "df = make_dense_triplets(X).reset_index()\n",
    "df"
   ]
  },
  {
   "cell_type": "code",
   "execution_count": null,
   "id": "77bd85b7-e25f-4781-808c-294808ecdfca",
   "metadata": {},
   "outputs": [],
   "source": [
    "split_dates = [\n",
    "    Timestamp(\"2014-09-01\"),\n",
    "    Timestamp(\"2014-03-31\"),\n",
    "    X.index[-1] - DateOffset(days=7),\n",
    "]\n",
    "assert Series(split_dates).isin(X.index).all()\n",
    "split = split_dates[-1]\n",
    "\n",
    "X_TRAIN = X.loc[:split].copy()\n",
    "X_TEST = X.loc[split:].copy()\n",
    "X_TRAIN"
   ]
  },
  {
   "cell_type": "markdown",
   "id": "b3a372ef-45e7-4465-8998-51aeab62582a",
   "metadata": {},
   "source": [
    "# Pre-processing"
   ]
  },
  {
   "cell_type": "markdown",
   "id": "d4ea3202-ebd3-465b-93a9-79bccb90d593",
   "metadata": {},
   "source": [
    "## Option 1: aggregation via sum /mean"
   ]
  },
  {
   "cell_type": "code",
   "execution_count": null,
   "id": "9c2edc34-b8ca-451b-8d28-1185ec338312",
   "metadata": {},
   "outputs": [],
   "source": [
    "X_TRAIN.resample(\"1H\").sum()\n",
    "X_TEST.resample(\"1H\").mean()"
   ]
  },
  {
   "cell_type": "markdown",
   "id": "3d4f54a1-4d0f-4cfb-9d29-06025f344c60",
   "metadata": {},
   "source": [
    "## Option 2: Normalization"
   ]
  },
  {
   "cell_type": "code",
   "execution_count": null,
   "id": "da5dd5b0-6a7f-4a49-b897-fa4631acf8f5",
   "metadata": {},
   "outputs": [],
   "source": [
    "from sklearn.preprocessing import MinMaxScaler\n",
    "\n",
    "X_TRAIN = X.loc[:split].copy()\n",
    "X_TEST = X.loc[split:].copy()\n",
    "\n",
    "scaler = MinMaxScaler()\n",
    "scaler.fit(X_TRAIN)\n",
    "X_TRAIN.loc[:] = scaler.transform(X_TRAIN)\n",
    "X_TEST.loc[:] = scaler.transform(X_TEST)\n",
    "X_TRAIN"
   ]
  },
  {
   "cell_type": "code",
   "execution_count": null,
   "id": "beb903d1-fd68-40a2-bd47-715135356947",
   "metadata": {},
   "outputs": [],
   "source": [
    "h_train = np.timedelta64(7, \"D\")\n",
    "h_pred = np.timedelta64(24, \"h\")\n",
    "\n",
    "lower = X.index[0]\n",
    "upper = X.index[-1] - h_train - h_pred\n",
    "mask = (X.index >= lower) & (X.index <= upper)\n",
    "t_range = X.index[mask]\n",
    "BATCHSIZE = 3\n",
    "\n",
    "ini = np.random.choice(t_range)\n",
    "mid = ini + h_train\n",
    "end = ini + h_train + h_pred\n",
    "train_mask = (X.index >= ini) & (X.index < mid)\n",
    "train_time = X.index[train_mask]\n",
    "train_data = X.loc[train_time]\n",
    "valid_mask = (X.index >= mid) & (X.index < end)\n",
    "valid_time = X.index[valid_mask]\n",
    "valid_data = X.loc[valid_time]"
   ]
  },
  {
   "cell_type": "code",
   "execution_count": null,
   "id": "44ff0133-dfd4-4a87-87d7-81e3a1286193",
   "metadata": {},
   "outputs": [],
   "source": [
    "class ContinuousTimeSeriesDataset(Dataset):"
   ]
  },
  {
   "cell_type": "code",
   "execution_count": null,
   "id": "ae115274-13cc-42b3-b1ab-38c204ef62bc",
   "metadata": {},
   "outputs": [],
   "source": [
    "from typing import Union\n",
    "\n",
    "from numpy import timedelta64\n",
    "from pandas import DataFrame\n",
    "from torch.utils.data import DataLoader, Dataset\n",
    "\n",
    "\n",
    "class ContinuousTimeSeriesDataset(Dataset):\n",
    "    def __init__(\n",
    "        self,\n",
    "        df: DataFrame,\n",
    "        forecast_horizon: Union[timedelta64, int],\n",
    "        observed_horizon: Union[timedelta64, int],\n",
    "        dtype=torch.float32,\n",
    "        device=torch.device(\"cpu\"),\n",
    "        pack_irregular_timeseries: bool = False,\n",
    "    ):\n",
    "        assert df.index.is_monotonic_increasing, \"Index not sorted!\"\n",
    "        if not df.index.is_monotonic_increasing:\n",
    "            df = df.sort_index(ascending=True)\n",
    "\n",
    "        self.κ = regularity_coefficient(df.index)\n",
    "        self.gcd = time_gcd(df.index)\n",
    "        self.is_regular = is_regular(df.index)\n",
    "\n",
    "        print(f\"Time Series is regular :  {self.is_regular}\")\n",
    "        print(f\"Regularity Coefficient :  {self.κ}\")\n",
    "        print(f\"Greatest Common Divisor:  {self.gcd}\")\n",
    "\n",
    "        assert np.issubdtype(df.index.dtype, np.datetime64), \"This doesn't look\"\n",
    "\n",
    "        self.h_obs = observed_horizon\n",
    "        self.h_pre = forecast_horizon\n",
    "        self.time = df.index\n",
    "        self.T = torch.tensor(time2float(df.index), dtype=dtype)\n",
    "        self.X = torch.tensor(df.values, dtype=dtype)\n",
    "\n",
    "    #         self.lower = df.index[ 0] + observed_horizon\n",
    "    #         self.upper = df.index[-1] - forecast_horizon\n",
    "\n",
    "    #         assert self.lower <= self.upper, \"The horizon is larger than the time range!\"\n",
    "    # uniform sampler on interval\n",
    "\n",
    "    def __len__(self):\n",
    "        return len(self.T)\n",
    "\n",
    "    def __getitem__(self, idx):\n",
    "        return self.T[idx], self.X[idx]"
   ]
  },
  {
   "cell_type": "code",
   "execution_count": null,
   "id": "daf210fd-40b7-4366-8a45-ff40b2ed28c5",
   "metadata": {},
   "outputs": [],
   "source": [
    "DS = ContinuousTimeSeriesDataset(X, forecast_horizon=5, observed_horizon=5)"
   ]
  },
  {
   "cell_type": "code",
   "execution_count": null,
   "id": "17ed95e2-94eb-4cb1-8cd5-d9151a95cf2e",
   "metadata": {},
   "outputs": [],
   "source": [
    "train_loader = DataLoader(DS, batch_size=50)"
   ]
  },
  {
   "cell_type": "code",
   "execution_count": null,
   "id": "394c95b8-5040-4e48-9ee0-5083dfb38ebd",
   "metadata": {},
   "outputs": [],
   "source": [
    "next(iter(train_loader))"
   ]
  },
  {
   "cell_type": "code",
   "execution_count": null,
   "id": "49f60f78-3754-49e3-b160-c2023b7d8d97",
   "metadata": {},
   "outputs": [],
   "source": []
  },
  {
   "cell_type": "code",
   "execution_count": null,
   "id": "ee3526a7-e432-4b47-b597-3dd279a57ca3",
   "metadata": {},
   "outputs": [],
   "source": [
    "class FixedStepTimeSeriesDataset(Dataset):\n",
    "    def __init__(self, df: DataFrame,  \n",
    "                 forecast_horizon: timedelta64,\n",
    "                 observed_horizon: timedelta64,\n",
    "                 dtype = torch.float32,\n",
    "                 device = torch.device('cpu')):\n",
    "        \n",
    "        \n",
    "        assert np.issubdtype(df.index.dtype, np.datetime64), \"This doesn't look\"\n",
    "        assert df.index.is_monotonic_increasing, \"Index not sorted!\" \n",
    "        if not df.index.is_monotonic_increasing\n",
    "            df = df.sort_index(ascending=True)\n",
    "        \n",
    "        ΔT = np.diff(df.index)\n",
    "        Δt = ΔT[0]\n",
    "        assert np.all(ΔT == Δt), \"Time Series irregular!\"\n",
    "        \n",
    "        forecast_steps = timedelta64//\n",
    "        observed_steps = \n",
    "        \n",
    "        self.h_obs = observed_horizon\n",
    "        self.h_pre = forecast_horizon\n",
    "        self.time = pandas.Series(df.index)\n",
    "        self.T = torch.tensor(time2float(df.index), dtype=dtype)\n",
    "        self.X = torch.tensor(df.values, dtype=dtype)\n",
    "        \n",
    "        self.lower = df.index[ 0] + observed_horizon\n",
    "        self.upper = df.index[-1] - forecast_horizon\n",
    "        \n",
    "        assert self.lower <= self.upper, \"The horizon is larger than the time range!\"\n",
    "\n",
    "        min_index = T[T >= T.iloc[ 0] + observed_horizon].index.min()\n",
    "        max_index = T[T <= T.iloc[-1] - forecast_horizon].index.max()\n",
    "        \n",
    "        self.time_range = T[(T >= T.iloc[ 0] + observed_horizon) & (T <= T.iloc[-1] - forecast_horizon)]\n",
    "        \n",
    "    def __len__(self):\n",
    "        return len(self.time_range)\n",
    "    \n",
    "    def __getitem__(self, idx):\n",
    "        idx = self.time_range.index[idx]\n",
    "        \n",
    "        \n",
    "        return self.T[idx], self.X[idx]\n",
    "        "
   ]
  },
  {
   "cell_type": "code",
   "execution_count": null,
   "id": "fb8652fc-40a3-41c8-a5cc-1b354cdcd7a2",
   "metadata": {},
   "outputs": [],
   "source": [
    "T = pandas.Series(df.index)\n",
    "X = df.values"
   ]
  },
  {
   "cell_type": "code",
   "execution_count": null,
   "id": "b53a32b5-1340-4071-9fc4-5c510c7af4a7",
   "metadata": {},
   "outputs": [],
   "source": [
    "forecast_horizon = np.timedelta64(125, \"h\")"
   ]
  },
  {
   "cell_type": "code",
   "execution_count": null,
   "id": "03e76b32-7650-4cbb-809c-c539f1cd8883",
   "metadata": {},
   "outputs": [],
   "source": [
    "T[(T >= T.iloc[0] + observed_horizon) & (T <= T.iloc[-1] - forecast_horizon)].index[0]"
   ]
  },
  {
   "cell_type": "code",
   "execution_count": null,
   "id": "eb9ff5f0-fe1b-40ed-a038-f732b136b9d8",
   "metadata": {},
   "outputs": [],
   "source": [
    "T[T <= T.iloc[-1] - forecast_horizon].index.max()"
   ]
  },
  {
   "cell_type": "code",
   "execution_count": null,
   "id": "33a7fd50-4913-42d7-8c62-779de3d2fccf",
   "metadata": {},
   "outputs": [],
   "source": [
    "T.index"
   ]
  },
  {
   "cell_type": "code",
   "execution_count": null,
   "id": "bdd52e0c-f262-4a63-b4da-e52e77862402",
   "metadata": {},
   "outputs": [],
   "source": [
    "T.diff(2)"
   ]
  },
  {
   "cell_type": "code",
   "execution_count": null,
   "id": "1b074c52-a4c2-483c-abce-f11e1538a76d",
   "metadata": {},
   "outputs": [],
   "source": [
    "T[(T <= T.iloc[-1] - np.timedelta64(125, \"h\") - np.timedelta64(125, \"h\"))].index"
   ]
  },
  {
   "cell_type": "code",
   "execution_count": null,
   "id": "89425515-92b1-409b-8932-d0be93ca0945",
   "metadata": {},
   "outputs": [],
   "source": [
    "import pandas\n",
    "\n",
    "pandas.Series(T)"
   ]
  },
  {
   "cell_type": "code",
   "execution_count": null,
   "id": "190d93e1-cc9f-41ac-9e80-8e7d147dbf86",
   "metadata": {},
   "outputs": [],
   "source": [
    "(T >= T[0] + np.timedelta64(125, \"h\")).argmax()"
   ]
  },
  {
   "cell_type": "code",
   "execution_count": null,
   "id": "d188916c-7520-4667-b62f-a1d92998fee8",
   "metadata": {},
   "outputs": [],
   "source": [
    "T[500]"
   ]
  },
  {
   "cell_type": "code",
   "execution_count": null,
   "id": "e9f40dd8-789a-4278-83d7-ab411804757d",
   "metadata": {},
   "outputs": [],
   "source": [
    "(T < T[-1] - np.timedelta64(125, \"h\"))[::].argmax()"
   ]
  },
  {
   "cell_type": "code",
   "execution_count": null,
   "id": "5821913e-df79-496e-92b2-83c583e9eed2",
   "metadata": {},
   "outputs": [],
   "source": [
    "(T < T[-1] - np.timedelta64(125, \"h\")).sum()"
   ]
  },
  {
   "cell_type": "code",
   "execution_count": null,
   "id": "5cbb0aba-daa7-4c39-85f2-79c0d639fb30",
   "metadata": {},
   "outputs": [],
   "source": [
    "T[139755]"
   ]
  },
  {
   "cell_type": "code",
   "execution_count": null,
   "id": "5c6e96af-1b8f-4100-a148-f715811fc4b8",
   "metadata": {},
   "outputs": [],
   "source": [
    "from torch.utils.data import DataLoader, Dataset"
   ]
  },
  {
   "cell_type": "code",
   "execution_count": null,
   "id": "a8e4855a-d997-4f88-ba8d-31011f2b5e28",
   "metadata": {},
   "outputs": [],
   "source": []
  },
  {
   "cell_type": "code",
   "execution_count": null,
   "id": "c2405b2a-70a5-4fe6-9ba8-69f801399569",
   "metadata": {},
   "outputs": [],
   "source": [
    "class TimeseriesDataset(torch.utils.data.Dataset):   \n",
    "    def __init__(self, df: DataFrame\n",
    "                 forecast_horizon: timedelta64,\n",
    "                 observed_horizon: timedelta64,\n",
    "                ):\n",
    "\n",
    "        assert np.issubdtype(df.index.dtype, np.datetime64), \"This doesn't look like a time series\"\n",
    "\n",
    "        if not df.index.is_monotonic_increasing\n",
    "            warnings.warn(\"Index not sorted! Sorting...\" )\n",
    "            df = df.sort_index(ascending=True)\n",
    "\n",
    "        self.time = df.index\n",
    "        self.T = torch.tensor(time2float(df.index), dtype=dtype)\n",
    "        self.X = torch.tensor(df.values, dtype=dtype)\n",
    "        \n",
    "        self.h_obs = observed_horizon\n",
    "        self.h_pre = forecast_horizon\n",
    "        \n",
    "        self.lower = df.index[ 0] + observed_horizon\n",
    "        self.upper = df.index[-1] - forecast_horizon\n",
    "        \n",
    "        \n",
    "        \n",
    "        \n",
    "    def __len__(self):\n",
    "        return self.X.__len__() - (self.seq_len-1)\n",
    "\n",
    "    def __getitem__(self, index):\n",
    "        return (self.X[index:index+self.seq_len], self.y[index+self.seq_len-1])"
   ]
  },
  {
   "cell_type": "code",
   "execution_count": null,
   "id": "6c21cca3-3717-48a0-a45d-4d3f05cde234",
   "metadata": {},
   "outputs": [],
   "source": []
  },
  {
   "cell_type": "code",
   "execution_count": null,
   "id": "74180c27-b6de-4684-b10d-daf6f82268bc",
   "metadata": {},
   "outputs": [],
   "source": []
  },
  {
   "cell_type": "code",
   "execution_count": null,
   "id": "751d8502-5b51-4ef8-abf6-6082894863b7",
   "metadata": {},
   "outputs": [],
   "source": []
  },
  {
   "cell_type": "code",
   "execution_count": null,
   "id": "e88ad866-10a2-4104-9a3b-5de04c2ae04a",
   "metadata": {},
   "outputs": [],
   "source": []
  },
  {
   "cell_type": "code",
   "execution_count": null,
   "id": "fed8884c-c993-4ed2-9ad9-c7688e09d0c6",
   "metadata": {},
   "outputs": [],
   "source": []
  }
 ],
 "metadata": {
  "kernelspec": {
   "display_name": "Python 3 (ipykernel)",
   "language": "python",
   "name": "python3"
  },
  "language_info": {
   "codemirror_mode": {
    "name": "ipython",
    "version": 3
   },
   "file_extension": ".py",
   "mimetype": "text/x-python",
   "name": "python",
   "nbconvert_exporter": "python",
   "pygments_lexer": "ipython3",
   "version": "3.9.7"
  }
 },
 "nbformat": 4,
 "nbformat_minor": 5
}
