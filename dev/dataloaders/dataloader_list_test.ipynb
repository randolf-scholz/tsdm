{
 "cells": [
  {
   "cell_type": "code",
   "execution_count": null,
   "id": "1056820a-a125-4de9-8f28-bd5e64565196",
   "metadata": {},
   "outputs": [],
   "source": [
    "%config InteractiveShell.ast_node_interactivity='last_expr_or_assign'  # always print last expr.\n",
    "%config InlineBackend.figure_format = 'svg'\n",
    "%load_ext autoreload\n",
    "%autoreload 2"
   ]
  },
  {
   "cell_type": "code",
   "execution_count": null,
   "id": "c25b2e60-74b8-46ec-adda-68dc45492783",
   "metadata": {
    "tags": []
   },
   "outputs": [],
   "source": [
    "import numpy as np\n",
    "import torch\n",
    "import xarray\n",
    "from torch import Tensor\n",
    "from torch.nn.utils.rnn import (\n",
    "    PackedSequence,\n",
    "    pack_sequence,\n",
    "    pad_packed_sequence,\n",
    "    pad_sequence,\n",
    ")\n",
    "from torch.utils.data import DataLoader, Dataset"
   ]
  },
  {
   "cell_type": "code",
   "execution_count": null,
   "id": "4f28a008-beda-4fd4-bd76-e13077e0559a",
   "metadata": {},
   "outputs": [],
   "source": [
    "import datetime\n",
    "from typing import Union\n",
    "\n",
    "import numpy as np\n",
    "import pandas\n",
    "\n",
    "TimeStampLike = Union[str, datetime.datetime, np.datetime64, pandas.Timestamp]\n",
    "TimeDeltaLike = Union[str, datetime.timedelta, np.timedelta64, pandas.Timedelta]"
   ]
  },
  {
   "cell_type": "code",
   "execution_count": null,
   "id": "976793ef-dd99-40ee-9c1c-bcb8c985c2b2",
   "metadata": {},
   "outputs": [],
   "source": [
    "import tsdm\n",
    "from tsdm.datasets import InSilicoData"
   ]
  },
  {
   "cell_type": "code",
   "execution_count": null,
   "id": "c7bbfacf-89e8-495d-a77a-e49b7236e5e0",
   "metadata": {},
   "outputs": [],
   "source": [
    "tsdm.random.sample_timestamps(size=10, freq=\"15s\")"
   ]
  },
  {
   "cell_type": "code",
   "execution_count": null,
   "id": "8551dbc2-f3ab-4e7c-9ed8-8780dbda876a",
   "metadata": {},
   "outputs": [],
   "source": [
    "class VaryingLengthDataset(Dataset):\n",
    "    def __init__(self, n, dmin, dmax):\n",
    "        super().__init__()\n",
    "        self.size = n\n",
    "        self.data = [\n",
    "            torch.randint(0, 10, (np.random.randint(dmin, dmax), 2)) for _ in range(n)\n",
    "        ]\n",
    "\n",
    "    # a commemt\n",
    "    def __len__(self):\n",
    "        return self.size\n",
    "\n",
    "    def __getitem__(self, index):\n",
    "        return self.data[index]\n",
    "\n",
    "    def __repr__(self):\n",
    "        return \"\".join(repr(x.shape) for x in self.data)\n",
    "\n",
    "\n",
    "def myfun():\n",
    "    pass"
   ]
  },
  {
   "cell_type": "code",
   "execution_count": null,
   "id": "c15bcbf8-be0e-4714-a1ef-62e9b9f60bee",
   "metadata": {},
   "outputs": [],
   "source": [
    "dsets = []\n",
    "\n",
    "for key, df in InSilicoData.dataset.items():\n",
    "    ds = df.to_xarray()\n",
    "    ds = ds.assign_coords(run_id=key)\n",
    "    dsets.append(ds)"
   ]
  },
  {
   "cell_type": "code",
   "execution_count": null,
   "id": "64449498-4525-48ef-8d9e-eaa0cd4eccab",
   "metadata": {},
   "outputs": [],
   "source": [
    "xarray.concat(dsets, dim=\"run_id\").to_dataframe()"
   ]
  },
  {
   "cell_type": "code",
   "execution_count": null,
   "id": "6d3878a5-0388-4c19-93f2-62fecdc259f0",
   "metadata": {},
   "outputs": [],
   "source": [
    "dsets"
   ]
  },
  {
   "cell_type": "code",
   "execution_count": null,
   "id": "7215e9c2-7ca2-438e-ae8e-f7ee6f644db8",
   "metadata": {},
   "outputs": [],
   "source": []
  },
  {
   "cell_type": "code",
   "execution_count": null,
   "id": "c64011a5-78eb-4220-9a57-1554dcb6c6be",
   "metadata": {
    "tags": []
   },
   "outputs": [],
   "source": [
    "arrays = [xarray.DataArray(df, name=key) for key, df in InSilicoData.dataset.items()]"
   ]
  },
  {
   "cell_type": "code",
   "execution_count": null,
   "id": "b3d62ec2-3e2f-4707-8899-63165dc68b01",
   "metadata": {},
   "outputs": [],
   "source": [
    "arrays[0]"
   ]
  },
  {
   "cell_type": "code",
   "execution_count": null,
   "id": "927dfe48-ff9e-4796-843c-ab5cccf9ed81",
   "metadata": {},
   "outputs": [],
   "source": [
    "xarray.merge(arrays)"
   ]
  },
  {
   "cell_type": "markdown",
   "id": "0b04b970-76d2-443a-99d5-d38eaff0485b",
   "metadata": {
    "tags": []
   },
   "source": [
    "### Batching this Dataset won't work:"
   ]
  },
  {
   "cell_type": "code",
   "execution_count": null,
   "id": "c6c89313-46dc-444e-af38-ada64a673e6c",
   "metadata": {},
   "outputs": [],
   "source": []
  },
  {
   "cell_type": "code",
   "execution_count": null,
   "id": "b0f940a5-c2a7-4169-86c0-33784c1f83b0",
   "metadata": {},
   "outputs": [],
   "source": [
    "MyDataset = VaryingLengthDataset(100, 3, 7)\n",
    "\n",
    "try:\n",
    "    next(iter(DataLoader(MyDataset, batch_size=10)))\n",
    "    print(x)\n",
    "except Exception as E:\n",
    "    print(E)"
   ]
  },
  {
   "cell_type": "markdown",
   "id": "47ba7662-f3d1-4f97-af2f-a4f5f1834df0",
   "metadata": {},
   "source": [
    "### Let's try with a custom collate_fn"
   ]
  },
  {
   "cell_type": "code",
   "execution_count": null,
   "id": "edc15f69-73af-4bec-bc04-43516529b69e",
   "metadata": {},
   "outputs": [],
   "source": [
    "np.random.randint(0, len(MyDataset), 20)"
   ]
  },
  {
   "cell_type": "code",
   "execution_count": null,
   "id": "cb911e5c-1995-40e3-affd-5e850ddd6e55",
   "metadata": {},
   "outputs": [],
   "source": [
    "batch = [MyDataset[idx] for idx in np.random.randint(0, len(MyDataset), 5)]\n",
    "batch"
   ]
  },
  {
   "cell_type": "code",
   "execution_count": null,
   "id": "f8d09a43-52bf-4051-a036-64406e07b299",
   "metadata": {},
   "outputs": [],
   "source": [
    "pad_sequence(batch, batch_first=True).shape"
   ]
  },
  {
   "cell_type": "code",
   "execution_count": null,
   "id": "fe403e14-d692-44d9-8c23-bbc2fbdc7404",
   "metadata": {},
   "outputs": [],
   "source": [
    "def collate_list(batch):\n",
    "    return batch\n",
    "\n",
    "\n",
    "try:\n",
    "    x = next(iter(DataLoader(MyDataset, batch_size=5, collate_fn=collate_list)))\n",
    "    print(x)\n",
    "except Exception as E:\n",
    "    print(E)"
   ]
  },
  {
   "cell_type": "code",
   "execution_count": null,
   "id": "196eb2ef-e756-4104-87bf-012bd58bba7b",
   "metadata": {},
   "outputs": [],
   "source": [
    "def collate_packed(batch):\n",
    "    batch.sort(key=torch.Tensor.__len__, reverse=True)\n",
    "    return pack_sequence(batch)\n",
    "\n",
    "\n",
    "try:\n",
    "    x = next(iter(DataLoader(MyDataset, batch_size=5, collate_fn=collate_packed)))\n",
    "    print(x)\n",
    "except Exception as E:\n",
    "    print(E)"
   ]
  },
  {
   "cell_type": "code",
   "execution_count": null,
   "id": "ad82b4c2-42c5-4f09-87b8-ad9ec42f2c7e",
   "metadata": {},
   "outputs": [],
   "source": [
    "batch = next(iter(DataLoader(MyDataset, batch_size=5, collate_fn=collate_list)))\n",
    "[x.T for x in batch]"
   ]
  },
  {
   "cell_type": "code",
   "execution_count": null,
   "id": "8d5e6f7c-68f2-4529-90de-530909200b36",
   "metadata": {},
   "outputs": [],
   "source": [
    "batch_sorted = batch.copy()\n",
    "batch_sorted.sort(key=torch.Tensor.__len__, reverse=True)\n",
    "[x.T for x in batch_sorted]"
   ]
  },
  {
   "cell_type": "code",
   "execution_count": null,
   "id": "94a8d19a-6861-4a28-a5af-08b57b655869",
   "metadata": {},
   "outputs": [],
   "source": [
    "batch_packed = pack_sequence(batch_sorted)\n",
    "batch_packed.data.T, batch_packed.batch_sizes"
   ]
  },
  {
   "cell_type": "code",
   "execution_count": null,
   "id": "26f527d3-18a8-48d7-98a5-5f1b0ccd4d00",
   "metadata": {},
   "outputs": [],
   "source": [
    "batch_pad_packed, lengths = pad_packed_sequence(batch_packed, batch_first=True)\n",
    "torch.swapaxes(batch_pad_packed, 1, 2), lengths"
   ]
  },
  {
   "cell_type": "code",
   "execution_count": null,
   "id": "536df470-5d42-4b7e-b190-8a8795438d7c",
   "metadata": {},
   "outputs": [],
   "source": [
    "unpacked_batch = [x[:l].T for x, l in zip(batch_pad_packed, lengths)]\n",
    "unpacked_batch"
   ]
  },
  {
   "cell_type": "code",
   "execution_count": null,
   "id": "527a4298-cd1b-4603-92f7-d88566494d3e",
   "metadata": {},
   "outputs": [],
   "source": [
    "def reconstruct_batch(packed: PackedSequence) -> list[Tensor]:\n",
    "    packed.data.shape[-1]\n",
    "\n",
    "    lengths = []\n",
    "    for b in batch_sizes:\n",
    "        lengths += [b]"
   ]
  },
  {
   "cell_type": "code",
   "execution_count": null,
   "id": "14fe4866-d154-4a79-abf6-0de8fc7b818b",
   "metadata": {},
   "outputs": [],
   "source": [
    "reconstructed_batch = batch_pad_packed\n",
    "reconstructed_batch"
   ]
  },
  {
   "cell_type": "code",
   "execution_count": null,
   "id": "9151b9e2-6a83-4754-b156-38ddf9efac6a",
   "metadata": {},
   "outputs": [],
   "source": [
    "batch_pad_packed.shape"
   ]
  },
  {
   "cell_type": "code",
   "execution_count": null,
   "id": "b2ddc7e3-3dd6-46a8-a164-41b3a334890d",
   "metadata": {},
   "outputs": [],
   "source": [
    "def unpack(packed):\n",
    "    pass"
   ]
  },
  {
   "cell_type": "code",
   "execution_count": null,
   "id": "502d2bd5-c4c5-452f-87ab-732a68eb9efa",
   "metadata": {},
   "outputs": [],
   "source": [
    "a = MyDataset[:5]\n",
    "a.sort(key=lambda x: len(x))\n",
    "a"
   ]
  }
 ],
 "metadata": {
  "kernelspec": {
   "display_name": "Python 3 (ipykernel)",
   "language": "python",
   "name": "python3"
  },
  "language_info": {
   "codemirror_mode": {
    "name": "ipython",
    "version": 3
   },
   "file_extension": ".py",
   "mimetype": "text/x-python",
   "name": "python",
   "nbconvert_exporter": "python",
   "pygments_lexer": "ipython3",
   "version": "3.9.6"
  }
 },
 "nbformat": 4,
 "nbformat_minor": 5
}
