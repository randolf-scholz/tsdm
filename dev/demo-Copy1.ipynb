{
 "cells": [
  {
   "cell_type": "code",
   "execution_count": 1,
   "id": "4c2f520a-6189-404c-b004-268324f42f61",
   "metadata": {},
   "outputs": [],
   "source": [
    "import tsdm\n",
    "import numpy as np\n",
    "from tsdm.datasets import Electricity, DatasetMetaClass"
   ]
  },
  {
   "cell_type": "code",
   "execution_count": 2,
   "id": "96efff8f-ff9a-4c27-ac57-fae326d4af4f",
   "metadata": {},
   "outputs": [],
   "source": [
    "vars(Electricity)"
   ]
  },
  {
   "cell_type": "code",
   "execution_count": 3,
   "id": "0effbab8-54b1-40b3-bfc9-df0f5f8f8369",
   "metadata": {},
   "outputs": [],
   "source": [
    "%%timeit -n 1 -r 1\n",
    "Electricity.dataset"
   ]
  },
  {
   "cell_type": "code",
   "execution_count": 4,
   "id": "4dc99c2c-d32b-4388-a237-e6a9f2d3382d",
   "metadata": {},
   "outputs": [],
   "source": [
    "%%timeit -n 1 -r 1\n",
    "Electricity.dataset"
   ]
  },
  {
   "cell_type": "code",
   "execution_count": 5,
   "id": "b2ae18b9-6c84-4a97-b848-c3a53575dc60",
   "metadata": {},
   "outputs": [],
   "source": [
    "Electricity.clean()"
   ]
  },
  {
   "cell_type": "code",
   "execution_count": 4,
   "id": "5635ec97-401d-4553-8f04-d4ad2f7263ee",
   "metadata": {},
   "outputs": [],
   "source": [
    "Electricity().load()"
   ]
  },
  {
   "cell_type": "code",
   "execution_count": 15,
   "id": "6c80ff8d-72e0-4441-86b6-42331b27dcb9",
   "metadata": {},
   "outputs": [],
   "source": [
    "command = \"wget -r -np -nH --cut-dirs 3 -P '/home/rscholz/.tsdm/rawdata/Electricity' https://archive.ics.uci.edu/ml/machine-learning-databases/00321/\""
   ]
  },
  {
   "cell_type": "code",
   "execution_count": 16,
   "id": "ddbcfbb0-4961-43ca-b07f-7d91a842aaf5",
   "metadata": {},
   "outputs": [],
   "source": [
    "args = ['wget', '-r' ,'-np', '-nH' ,'--cut-dirs=3', \"-P='/home/rscholz/.tsdm/rawdata/Electricity'\" , \"https://archive.ics.uci.edu/ml/machine-learning-databases/00321/\"]\n",
    "args"
   ]
  },
  {
   "cell_type": "code",
   "execution_count": 6,
   "id": "5b07d37e-57e0-49c4-8b47-af1a5a7cc230",
   "metadata": {},
   "outputs": [],
   "source": [
    "import subprocess\n",
    "import shlex"
   ]
  },
  {
   "cell_type": "code",
   "execution_count": 7,
   "id": "8708c1ab-9f6b-4b1e-8d85-2744231aa1b8",
   "metadata": {},
   "outputs": [],
   "source": [
    "#https://stackoverflow.com/a/52576723/9318372"
   ]
  },
  {
   "cell_type": "code",
   "execution_count": 21,
   "id": "19d32f79-b090-4b61-b60d-49896a4daec6",
   "metadata": {},
   "outputs": [],
   "source": [
    "# -*- coding: utf-8 -*-\n",
    "from subprocess import PIPE, Popen\n",
    "import fcntl\n",
    "import os\n",
    "import select\n",
    "import sys\n",
    "\n",
    "proc = Popen(args, stdin = PIPE, stderr = PIPE, stdout = PIPE, shell=True)\n",
    "\n",
    "while proc.poll() == None:\n",
    "    fcntl.fcntl(\n",
    "            proc.stderr.fileno(),\n",
    "            fcntl.F_SETFL,\n",
    "            fcntl.fcntl(proc.stderr.fileno(), fcntl.F_GETFL) | os.O_NONBLOCK,\n",
    "            )\n",
    "\n",
    "    buf = ''\n",
    "    while proc.poll() == None:\n",
    "        readx_err = select.select([proc.stderr.fileno()], [], [], 0.1)[0]\n",
    "        if readx_err:\n",
    "            chunk = proc.stderr.read().decode('utf-8')\n",
    "            buf += chunk\n",
    "            if '\\n' in buf and '%' in buf and '.' in buf:\n",
    "                print (buf.strip().split())\n",
    "                buf = ''\n",
    "        else:\n",
    "            break"
   ]
  },
  {
   "cell_type": "code",
   "execution_count": 24,
   "id": "597574af-2a14-4109-be34-cea0c93491de",
   "metadata": {},
   "outputs": [],
   "source": [
    "def run(args):\n",
    "  with subprocess.Popen(args, stdout=subprocess.PIPE, stderr=subprocess.PIPE) as process:\n",
    "    for line in process.stderr:\n",
    "      print(line.decode('utf8'))"
   ]
  },
  {
   "cell_type": "code",
   "execution_count": 25,
   "id": "09bd8d77-283a-4662-9684-13e391086b0d",
   "metadata": {
    "scrolled": true,
    "tags": []
   },
   "outputs": [],
   "source": [
    "run(args)"
   ]
  },
  {
   "cell_type": "code",
   "execution_count": 15,
   "id": "9e2e80a5-fb3e-497a-8248-34d6f858633a",
   "metadata": {},
   "outputs": [],
   "source": [
    "with subprocess.Popen(command, stdout=subprocess.PIPE, bufsize=0, shell=True) as p:\n",
    "    char = p.stdout.read(1)\n",
    "    while char != b'':\n",
    "        print(char.decode('UTF-8'), end='', flush=True)\n",
    "        char = p.stdout.read(1)"
   ]
  },
  {
   "cell_type": "code",
   "execution_count": 7,
   "id": "59f92b39-4c47-4b4d-9ef8-f312110c1b31",
   "metadata": {},
   "outputs": [],
   "source": [
    "from subprocess import Popen, PIPE, STDOUT\n",
    "\n",
    "def runrealcmd(command):\n",
    "    process = Popen(command, stdout=PIPE, shell=True, stderr=STDOUT, close_fds=True)\n",
    "    for line in iter(process.stdout.readline, b''):\n",
    "        print(line.rstrip().decode('utf8'))\n",
    "    process.stdout.close()\n",
    "    process.wait()\n"
   ]
  },
  {
   "cell_type": "code",
   "execution_count": 12,
   "id": "3b8de3d8-e100-45c1-baaa-3ffa75b1ff48",
   "metadata": {},
   "outputs": [],
   "source": [
    "try:\n",
    "    process = Popen(command, stdout=PIPE, stderr=STDOUT, encoding='utf8', shell=True, bufsize=2, errors='replace')\n",
    "    while process.poll() is None:\n",
    "        for lline in process.stdout:\n",
    "            process.stdout.flush()\n",
    "            print(lline)\n",
    "except Exception as exception:\n",
    "    print(exception)"
   ]
  },
  {
   "cell_type": "code",
   "execution_count": 8,
   "id": "61bd4130-4b7e-422a-b84d-7b70c086f2a7",
   "metadata": {
    "tags": []
   },
   "outputs": [],
   "source": [
    "runrealcmd(command)"
   ]
  },
  {
   "cell_type": "code",
   "execution_count": null,
   "id": "ca95f4d5-8002-4d3f-a621-425cd19c12ff",
   "metadata": {},
   "outputs": [],
   "source": [
    "# invoke process\n",
    "process = subprocess.Popen(shlex.split(command),shell=False,stdout=subprocess.PIPE)\n",
    "\n",
    "# Poll process.stdout to show stdout live\n",
    "while True:\n",
    "    output = process.stdout.readline()\n",
    "    if process.poll() is not None:\n",
    "        break\n",
    "    if output:\n",
    "        print(output.strip())\n",
    "rc = process.poll()"
   ]
  },
  {
   "cell_type": "code",
   "execution_count": null,
   "id": "cf36d5d0-e4d1-4ad7-a560-bd3a798b1b71",
   "metadata": {},
   "outputs": [],
   "source": [
    "Electricity().download()"
   ]
  },
  {
   "cell_type": "code",
   "execution_count": null,
   "id": "20bd6677-8fbd-48cd-9b5e-dad668dc13ec",
   "metadata": {},
   "outputs": [],
   "source": [
    "import signal\n",
    "import subprocess as sp\n",
    "\n",
    "\n",
    "class VerboseCalledProcessError(sp.CalledProcessError):\n",
    "    def __str__(self):\n",
    "        if self.returncode and self.returncode < 0:\n",
    "            try:\n",
    "                msg = \"Command '%s' died with %r.\" % (\n",
    "                    self.cmd, signal.Signals(-self.returncode))\n",
    "            except ValueError:\n",
    "                msg = \"Command '%s' died with unknown signal %d.\" % (\n",
    "                    self.cmd, -self.returncode)\n",
    "        else:\n",
    "            msg = \"Command '%s' returned non-zero exit status %d.\" % (\n",
    "                self.cmd, self.returncode)\n",
    "\n",
    "        return f'{msg}\\n' \\\n",
    "               f'Stdout:\\n' \\\n",
    "               f'{self.output}\\n' \\\n",
    "               f'Stderr:\\n' \\\n",
    "               f'{self.stderr}'\n",
    "\n",
    "\n",
    "def bash(cmd, print_stdout=True, print_stderr=True):\n",
    "    proc = sp.Popen(cmd, stderr=sp.PIPE, stdout=sp.PIPE, shell=True, universal_newlines=True,\n",
    "                    executable='/bin/bash')\n",
    "\n",
    "    all_stdout = []\n",
    "    all_stderr = []\n",
    "    while proc.poll() is None:\n",
    "        for stdout_line in proc.stdout:\n",
    "            if stdout_line != '':\n",
    "                if print_stdout:\n",
    "                    print(stdout_line, end='')\n",
    "                all_stdout.append(stdout_line)\n",
    "        for stderr_line in proc.stderr:\n",
    "            if stderr_line != '':\n",
    "                if print_stderr:\n",
    "                    print(stderr_line, end='', file=sys.stderr)\n",
    "                all_stderr.append(stderr_line)\n",
    "\n",
    "    stdout_text = ''.join(all_stdout)\n",
    "    stderr_text = ''.join(all_stderr)\n",
    "    if proc.wait() != 0:\n",
    "        raise VerboseCalledProcessError(proc.returncode, cmd, stdout_text, stderr_text)"
   ]
  },
  {
   "cell_type": "code",
   "execution_count": null,
   "id": "ac07da27-8cb3-48d8-956a-55daab81e551",
   "metadata": {},
   "outputs": [],
   "source": [
    "bash(\"echo 'hello world'\")"
   ]
  },
  {
   "cell_type": "code",
   "execution_count": null,
   "id": "8b1deb74-c217-4ea5-a38a-3e7e4e6db0d8",
   "metadata": {},
   "outputs": [],
   "source": [
    "np.arange(3).__class__.__name__"
   ]
  },
  {
   "cell_type": "code",
   "execution_count": null,
   "id": "ff3531e5",
   "metadata": {},
   "outputs": [],
   "source": [
    "x = tsdm.load_dataset('electricity')\n",
    "x"
   ]
  },
  {
   "cell_type": "code",
   "execution_count": null,
   "id": "71a91729-9e9e-444e-8c53-b4842d1e3ca5",
   "metadata": {},
   "outputs": [],
   "source": [
    "observed = np.random.choice([True, False], size=x.shape)\n",
    "x = x.where(observed)\n",
    "display(observed, x)"
   ]
  },
  {
   "cell_type": "markdown",
   "id": "34d74a61-065a-458f-a3e6-2102c693368d",
   "metadata": {},
   "source": [
    "### 2.1 Triplet Format\n",
    "\n",
    "The data is represented as a set of triplets (time, variable, value). All NaNs are dropped."
   ]
  },
  {
   "cell_type": "code",
   "execution_count": null,
   "id": "229ed818",
   "metadata": {},
   "outputs": [],
   "source": [
    "dense_x = tsdm.make_dense_triplets(x)\n",
    "dense_x"
   ]
  },
  {
   "cell_type": "markdown",
   "id": "8ceb87f0-2039-400b-8589-2ded34cbe625",
   "metadata": {},
   "source": [
    "### 2.2 Sparse Triplet format\n",
    "\n",
    "The same as before, but the variable tensor is encoded in a one-hot fashion, and the tensor is stored as a sparse tensor"
   ]
  },
  {
   "cell_type": "code",
   "execution_count": null,
   "id": "432a3ee5",
   "metadata": {},
   "outputs": [],
   "source": [
    "sparse_x = tsdm.make_sparse_triplets(x)\n",
    "sparse_x"
   ]
  },
  {
   "cell_type": "markdown",
   "id": "518a0d26-2136-4345-908f-d5a440956f4e",
   "metadata": {},
   "source": [
    "### 2.3 Masked Format\n",
    "\n",
    "Here we get 3 tensors:\n",
    "\n",
    "- x: the original data\n",
    "- m: a boolean mask, 1: value observed, 0: value not observed (NaN)\n",
    "- d: time since the channel was last observed"
   ]
  },
  {
   "cell_type": "code",
   "execution_count": null,
   "id": "6231394d",
   "metadata": {},
   "outputs": [],
   "source": [
    "x, m, d = tsdm.make_masked_format(x)\n",
    "display(x, m, d)"
   ]
  },
  {
   "cell_type": "markdown",
   "id": "080c5fec-38b8-41ee-a2ab-4584a9d67c1e",
   "metadata": {},
   "source": [
    "## 3. Visualizing the data"
   ]
  },
  {
   "cell_type": "code",
   "execution_count": null,
   "id": "75e6c0f6-b6f9-49bb-b5de-f2bd51f96fa3",
   "metadata": {},
   "outputs": [],
   "source": [
    "df = tsdm.load_dataset('electricity')\n",
    "ΔT = np.diff(df.index)\n",
    "Δt = ΔT[0].astype(\"timedelta64[m]\")\n",
    "assert np.all(ΔT == Δt)\n",
    "N, M = df.shape\n",
    "# remove first year from the data (useless zeros)\n",
    "span = np.timedelta64(365, \"D\")//Δt\n",
    "df = df.iloc[span:]"
   ]
  },
  {
   "cell_type": "code",
   "execution_count": null,
   "id": "d2543421-fb20-44f5-a142-22d7a0c36d24",
   "metadata": {},
   "outputs": [],
   "source": [
    "%config InlineBackend.figure_format = 'retina'\n",
    "from matplotlib import pyplot as plt\n",
    "\n",
    "fig, ax = plt.subplots(nrows=3, ncols=2, figsize=(24, 9), tight_layout=True, sharex='col', sharey=True)\n",
    "ax[0,0].set_title(\"24h rolling average\")\n",
    "ax[1,0].set_title(\"7d rolling average\")\n",
    "selection = np.random.randint(low=0, high=M, size=5)\n",
    "# selection = [319]\n",
    "\n",
    "a = np.datetime64('2013-01-01')\n",
    "b = np.datetime64('2013-02-01')\n",
    "mask = (df.index >= a) & (df.index <= b)\n",
    "\n",
    "\n",
    "for k, timedelta in enumerate((Δt, np.timedelta64(24, \"h\"), np.timedelta64(7, \"D\"))):\n",
    "    for l in range(2):\n",
    "        if l==0:\n",
    "            data = df.rolling(window=timedelta//Δt, min_periods=1, axis=0).mean()\n",
    "        if l==1: \n",
    "            a = np.datetime64('2013-01-01')\n",
    "            b = np.datetime64('2013-02-01')\n",
    "            mask = (df.index >= a) & (df.index <= b)\n",
    "            data = df[mask].rolling(window=timedelta//Δt, min_periods=1, axis=0).mean()\n",
    "\n",
    "        for col in data.iloc[:, selection]:\n",
    "            ax[k,l].plot(data.index, data[col])\n",
    "        ax[k,l].set_title(F\"{timedelta}-rolling average\")\n",
    "        ax[k,l].set_ylabel(\"electricity consumption in kW\")"
   ]
  }
 ],
 "metadata": {
  "kernelspec": {
   "display_name": "Python 3 (ipykernel)",
   "language": "python",
   "name": "python3"
  },
  "language_info": {
   "codemirror_mode": {
    "name": "ipython",
    "version": 3
   },
   "file_extension": ".py",
   "mimetype": "text/x-python",
   "name": "python",
   "nbconvert_exporter": "python",
   "pygments_lexer": "ipython3",
   "version": "3.9.6"
  }
 },
 "nbformat": 4,
 "nbformat_minor": 5
}
