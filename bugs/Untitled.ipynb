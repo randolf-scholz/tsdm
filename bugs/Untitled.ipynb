{
  "cells": [
    {
      "cell_type": "raw",
      "metadata": {
        "collapsed": false,
        "pycharm": {
          "name": ""
        }
      },
      "source": []
    }
  ],
  "metadata": {},
  "nbformat": 4,
  "nbformat_minor": 5
}
