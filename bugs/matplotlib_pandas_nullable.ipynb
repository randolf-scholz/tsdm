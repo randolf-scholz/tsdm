{
  "cells": [
    {
      "cell_type": "code",
      "execution_count": 4,
      "metadata": {},
      "outputs": [],
      "source": [
        "import numpy as np\n",
        "import matplotlib.pyplot as plt\n",
        "import pandas as pd\n",
        "\n",
        "x, y = np.random.randn(2, 100)\n",
        "x = pd.Series(x, dtype=\"Float32\")  # <-- pandas nullable type\n",
        "y = pd.Series(y, dtype=\"Float32\")  # <-- pandas nullable type\n",
        "plt.plot(list(x), list(y))  # <-- works fine\n",
        "plt.plot(x, y)  # <-- throws error"
      ]
    },
    {
      "cell_type": "code",
      "execution_count": 18,
      "metadata": {},
      "outputs": [],
      "source": [
        "y.to_numpy()"
      ]
    },
    {
      "cell_type": "code",
      "execution_count": 34,
      "metadata": {},
      "outputs": [],
      "source": [
        "y.to_numpy()"
      ]
    },
    {
      "cell_type": "code",
      "execution_count": 20,
      "metadata": {},
      "outputs": [],
      "source": [
        "x, y = np.random.randn(2, 100)\n",
        "x = pd.Series(x, dtype=\"Float32\")  # <-- pandas nullable type\n",
        "y = pd.Series(y, dtype=\"Float32\")  # <-- pandas nullable type\n",
        "y[y > 0] = pd.NA\n",
        "plt.plot(x.astype(\"float32\"), y.astype(\"float32\"))\n",
        "plt.plot(x.values, y.values)  # <-- works fine\n",
        "plt.plot(x, y)  # <-- throws error"
      ]
    },
    {
      "cell_type": "code",
      "execution_count": 2,
      "metadata": {},
      "outputs": [],
      "source": [
        "import matplotlib\n",
        "\n",
        "print(matplotlib.__version__)"
      ]
    },
    {
      "cell_type": "code",
      "execution_count": 3,
      "metadata": {},
      "outputs": [],
      "source": [
        "import matplotlib\n",
        "\n",
        "print(matplotlib.get_backend())"
      ]
    },
    {
      "cell_type": "code",
      "execution_count": 10,
      "metadata": {},
      "outputs": [],
      "source": [
        "?pd.Float32Dtype"
      ]
    },
    {
      "cell_type": "code",
      "execution_count": 16,
      "metadata": {},
      "outputs": [],
      "source": [
        "(pd.Series([1.3, float(\"nan\"), 4.5], dtype=\"Float32\") / 0) * 0"
      ]
    },
    {
      "cell_type": "code",
      "execution_count": null,
      "metadata": {},
      "outputs": [],
      "source": []
    }
  ],
  "metadata": {
    "kernelspec": {
      "display_name": "Python 3 (ipykernel)",
      "language": "python",
      "name": "python3"
    },
    "language_info": {
      "codemirror_mode": {
        "name": "ipython",
        "version": 3
      },
      "file_extension": ".py",
      "mimetype": "text/x-python",
      "name": "python",
      "nbconvert_exporter": "python",
      "pygments_lexer": "ipython3",
      "version": "3.9.9"
    }
  },
  "nbformat": 4,
  "nbformat_minor": 4
}
