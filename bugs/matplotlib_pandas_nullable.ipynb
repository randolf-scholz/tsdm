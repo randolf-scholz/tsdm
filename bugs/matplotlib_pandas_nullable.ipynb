{
 "cells": [
  {
   "cell_type": "code",
   "execution_count": 4,
   "metadata": {},
   "source": [
    "import numpy as np\n",
    "import matplotlib.pyplot as plt\n",
    "import pandas as pd\n",
    "\n",
    "x, y = np.random.randn(2, 100)\n",
    "x = pd.Series(x, dtype=\"Float32\")  # <-- pandas nullable type\n",
    "y = pd.Series(y, dtype=\"Float32\")  # <-- pandas nullable type\n",
    "plt.plot(list(x), list(y))  # <-- works fine\n",
    "plt.plot(x, y)  # <-- throws error"
   ],
   "outputs": []
  },
  {
   "cell_type": "code",
   "execution_count": 18,
   "metadata": {},
   "source": [
    "y.to_numpy()"
   ],
   "outputs": []
  },
  {
   "cell_type": "code",
   "execution_count": 34,
   "metadata": {},
   "source": [
    "y.to_numpy()"
   ],
   "outputs": []
  },
  {
   "cell_type": "code",
   "execution_count": 20,
   "metadata": {},
   "source": [
    "x, y = np.random.randn(2, 100)\n",
    "x = pd.Series(x, dtype=\"Float32\")  # <-- pandas nullable type\n",
    "y = pd.Series(y, dtype=\"Float32\")  # <-- pandas nullable type\n",
    "y[y > 0] = pd.NA\n",
    "plt.plot(x.astype(\"float32\"), y.astype(\"float32\"))\n",
    "plt.plot(x.values, y.values)  # <-- works fine\n",
    "plt.plot(x, y)  # <-- throws error"
   ],
   "outputs": []
  },
  {
   "cell_type": "code",
   "execution_count": 2,
   "metadata": {},
   "source": [
    "import matplotlib\n",
    "\n",
    "print(matplotlib.__version__)"
   ],
   "outputs": []
  },
  {
   "cell_type": "code",
   "execution_count": 3,
   "metadata": {},
   "source": [
    "import matplotlib\n",
    "\n",
    "print(matplotlib.get_backend())"
   ],
   "outputs": []
  },
  {
   "cell_type": "code",
   "execution_count": 10,
   "metadata": {},
   "source": [
    "?pd.Float32Dtype"
   ],
   "outputs": []
  },
  {
   "cell_type": "code",
   "execution_count": 16,
   "metadata": {},
   "source": [
    "(pd.Series([1.3, float(\"nan\"), 4.5], dtype=\"Float32\") / 0) * 0"
   ],
   "outputs": []
  },
  {
   "cell_type": "code",
   "execution_count": null,
   "metadata": {},
   "source": [],
   "outputs": []
  }
 ],
 "metadata": {
  "kernelspec": {
   "display_name": "Python 3 (ipykernel)",
   "language": "python",
   "name": "python3"
  },
  "language_info": {
   "codemirror_mode": {
    "name": "ipython",
    "version": 3
   },
   "file_extension": ".py",
   "mimetype": "text/x-python",
   "name": "python",
   "nbconvert_exporter": "python",
   "pygments_lexer": "ipython3",
   "version": "3.9.9"
  }
 },
 "nbformat": 4,
 "nbformat_minor": 4
}
