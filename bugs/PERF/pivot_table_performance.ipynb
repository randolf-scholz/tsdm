{
 "cells": [
  {
   "cell_type": "markdown",
   "metadata": {},
   "source": [
    "# BUG: `pivot_table` performance with MultiIndex 5x worse than it should be."
   ]
  },
  {
   "cell_type": "code",
   "execution_count": null,
   "metadata": {},
   "outputs": [],
   "source": [
    "%config InteractiveShell.ast_node_interactivity='last_expr_or_assign'  # always print last expr.\n",
    "%config InlineBackend.figure_format = 'svg'\n",
    "%load_ext autoreload\n",
    "%autoreload 2\n",
    "%matplotlib inline"
   ]
  },
  {
   "cell_type": "code",
   "execution_count": null,
   "metadata": {},
   "outputs": [],
   "source": [
    "import pandas as pd"
   ]
  },
  {
   "cell_type": "code",
   "execution_count": null,
   "metadata": {},
   "outputs": [],
   "source": [
    "from string import ascii_lowercase\n",
    "\n",
    "import numpy as np\n",
    "from pandas import DataFrame, MultiIndex, date_range\n",
    "\n",
    "level0 = [\"foo\", \"bar\", \"baz\"]\n",
    "level1 = list(range(2**6))\n",
    "level2 = date_range(\"1990\", \"2022\")\n",
    "\n",
    "index = MultiIndex.from_product(\n",
    "    [level0, level1, level2], names=[\"outer\", \"inner\", \"time\"]\n",
    ")\n",
    "\n",
    "variables = list(ascii_lowercase)\n",
    "df = DataFrame(np.random.randn(len(index), 1), index=index, columns=[\"value\"])\n",
    "df[\"variable\"] = np.random.choice(variables, len(index))\n",
    "df"
   ]
  },
  {
   "cell_type": "code",
   "execution_count": null,
   "metadata": {},
   "outputs": [],
   "source": [
    "7, 168, 12685"
   ]
  },
  {
   "cell_type": "code",
   "execution_count": null,
   "metadata": {},
   "outputs": [],
   "source": [
    "df.pivot_table(index=df.index.names, columns=\"variable\", values=\"value\", dropna=False)"
   ]
  },
  {
   "cell_type": "code",
   "execution_count": null,
   "metadata": {},
   "outputs": [],
   "source": [
    "%%timeit -n 1 -r 1\n",
    "df.pivot_table(index=df.index.names, columns=\"variable\", values=\"value\", dropna=False)"
   ]
  },
  {
   "cell_type": "code",
   "execution_count": null,
   "metadata": {},
   "outputs": [],
   "source": [
    "%%timeit -n 1 -r 1\n",
    "x = df.pivot_table(index=df.index, columns=\"variable\", values=\"value\", dropna=False)\n",
    "x.index = MultiIndex.from_tuples(x.index, names=df.index.names)"
   ]
  },
  {
   "cell_type": "code",
   "execution_count": null,
   "metadata": {},
   "outputs": [],
   "source": [
    "%%timeit -n 1 -r 1\n",
    "df.pivot_table(index=df.index.names, columns=\"variable\", values=\"value\")"
   ]
  },
  {
   "cell_type": "code",
   "execution_count": null,
   "metadata": {},
   "outputs": [],
   "source": [
    "ascii_letters"
   ]
  },
  {
   "cell_type": "code",
   "execution_count": null,
   "metadata": {},
   "outputs": [],
   "source": [
    "df = pd.DataFrame({\n",
    "    \"number\": [\"one\", \"two\", \"one\", \"three\"],\n",
    "    \"letter\": [\"a\", \"a\", \"b\", \"b\"],\n",
    "    \"y\": [1, 2, np.nan, np.nan],\n",
    "    \"x\": [1, 2, 3, 4],\n",
    "})"
   ]
  },
  {
   "cell_type": "code",
   "execution_count": null,
   "metadata": {},
   "outputs": [],
   "source": [
    "result = df.pivot_table(\n",
    "    values=\"y\", columns=[\"number\", \"letter\"], index=\"x\", observed=True, dropna=False\n",
    ")"
   ]
  },
  {
   "cell_type": "code",
   "execution_count": null,
   "metadata": {},
   "outputs": [],
   "source": [
    "df = DataFrame({\n",
    "    \"amount\": {0: 60000, 1: 100000, 2: 50000, 3: 30000},\n",
    "    \"customer\": {0: \"A\", 1: \"A\", 2: \"B\", 3: \"C\"},\n",
    "    \"month\": {0: 201307, 1: 201309, 2: 201308, 3: 201310},\n",
    "    \"product\": {0: \"a\", 1: \"b\", 2: \"c\", 3: \"d\"},\n",
    "    \"quantity\": {0: 2000000, 1: 500000, 2: 1000000, 3: 1000000},\n",
    "})"
   ]
  },
  {
   "cell_type": "code",
   "execution_count": null,
   "metadata": {},
   "outputs": [],
   "source": [
    "pv_col = (\n",
    "    df.pivot_table(\"quantity\", \"month\", [\"customer\", \"product\"], dropna=False)\n",
    "    .dropna(axis=\"index\", how=\"all\")\n",
    "    .dropna(axis=\"columns\", how=\"all\")\n",
    ")"
   ]
  },
  {
   "cell_type": "code",
   "execution_count": null,
   "metadata": {},
   "outputs": [],
   "source": [
    "pv_ind = (\n",
    "    df.pivot_table(\"quantity\", [\"customer\", \"product\"], \"month\", dropna=False)\n",
    "    .dropna(axis=\"index\", how=\"all\")\n",
    "    .dropna(axis=\"columns\", how=\"all\")\n",
    ")"
   ]
  },
  {
   "cell_type": "code",
   "execution_count": null,
   "metadata": {},
   "outputs": [],
   "source": [
    "m = MultiIndex.from_tuples(\n",
    "    [\n",
    "        (\"A\", \"a\"),\n",
    "        (\"A\", \"b\"),\n",
    "        (\"A\", \"c\"),\n",
    "        (\"A\", \"d\"),\n",
    "        (\"B\", \"a\"),\n",
    "        (\"B\", \"b\"),\n",
    "        (\"B\", \"c\"),\n",
    "        (\"B\", \"d\"),\n",
    "        (\"C\", \"a\"),\n",
    "        (\"C\", \"b\"),\n",
    "        (\"C\", \"c\"),\n",
    "        (\"C\", \"d\"),\n",
    "    ],\n",
    "    names=[\"customer\", \"product\"],\n",
    ")"
   ]
  },
  {
   "cell_type": "code",
   "execution_count": null,
   "metadata": {},
   "outputs": [],
   "source": []
  }
 ],
 "metadata": {
  "kernelspec": {
   "display_name": "Python 3 (ipykernel)",
   "language": "python",
   "name": "python3"
  },
  "language_info": {
   "codemirror_mode": {
    "name": "ipython",
    "version": 3
   },
   "file_extension": ".py",
   "mimetype": "text/x-python",
   "name": "python",
   "nbconvert_exporter": "python",
   "pygments_lexer": "ipython3",
   "version": "3.9.10"
  }
 },
 "nbformat": 4,
 "nbformat_minor": 4
}
