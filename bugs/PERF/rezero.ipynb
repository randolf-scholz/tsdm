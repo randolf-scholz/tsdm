{
 "cells": [
  {
   "cell_type": "code",
   "execution_count": null,
   "metadata": {},
   "source": [
    "%config InteractiveShell.ast_node_interactivity='last_expr_or_assign'  # always print last expr.\n",
    "%config InlineBackend.figure_format = 'svg'\n",
    "%load_ext autoreload\n",
    "%autoreload 2\n",
    "%matplotlib inline"
   ],
   "outputs": []
  },
  {
   "cell_type": "code",
   "execution_count": null,
   "metadata": {},
   "source": [
    "import torch\n",
    "import torch.nn.utils.parametrize as parametrize\n",
    "from torch import Tensor, jit, nn\n",
    "\n",
    "\n",
    "def symmetric(X):\n",
    "    return X.triu() + X.triu(1).transpose(-1, -2)\n",
    "\n",
    "\n",
    "X = torch.rand(3, 3)\n",
    "A = symmetric(X)\n",
    "assert torch.allclose(A, A.T)  # A is symmetric\n",
    "print(A)"
   ],
   "outputs": []
  },
  {
   "cell_type": "code",
   "execution_count": null,
   "metadata": {},
   "source": [
    "class LinearSymmetric(nn.Module):\n",
    "    def __init__(self, n_features):\n",
    "        super().__init__()\n",
    "        self.weight = nn.Parameter(torch.rand(n_features, n_features))\n",
    "\n",
    "    def forward(self, x):\n",
    "        A = symmetric(self.weight)\n",
    "        return x @ A"
   ],
   "outputs": []
  },
  {
   "cell_type": "code",
   "execution_count": null,
   "metadata": {},
   "source": [
    "layer = LinearSymmetric(3)\n",
    "out = layer(torch.rand(8, 3))"
   ],
   "outputs": []
  },
  {
   "cell_type": "code",
   "execution_count": null,
   "metadata": {},
   "source": [
    "class Symmetric(nn.Module):\n",
    "    def forward(self, X):\n",
    "        return X.triu() + X.triu(1).transpose(-1, -2)"
   ],
   "outputs": []
  },
  {
   "cell_type": "code",
   "execution_count": null,
   "metadata": {},
   "source": [
    "layer = nn.Linear(3, 3)\n",
    "parametrize.register_parametrization(layer, \"weight\", Symmetric())"
   ],
   "outputs": []
  },
  {
   "cell_type": "code",
   "execution_count": null,
   "metadata": {},
   "source": [
    "class Skew(nn.Module):\n",
    "    def forward(self, X):\n",
    "        A = X.triu(1)\n",
    "        return A - A.transpose(-1, -2)\n",
    "\n",
    "\n",
    "cnn = nn.Conv2d(in_channels=5, out_channels=8, kernel_size=3)\n",
    "parametrize.register_parametrization(cnn, \"weight\", Skew())\n",
    "# Print a few kernels\n",
    "print(cnn.weight[0, 1])\n",
    "print(cnn.weight[2, 2])"
   ],
   "outputs": []
  },
  {
   "cell_type": "code",
   "execution_count": null,
   "metadata": {},
   "source": [
    "class Rezero(nn.Module):\n",
    "    def __init__(self) -> None:\n",
    "        super().__init__()\n",
    "        self.alpha = nn.Parameter(torch.tensor(0, dtype=float), requires_grad=True)\n",
    "\n",
    "    def forward(self, x: Tensor) -> Tensor:\n",
    "        return self.alpha * x"
   ],
   "outputs": []
  },
  {
   "cell_type": "code",
   "execution_count": null,
   "metadata": {},
   "source": [
    "from torch.optim import SGD\n",
    "from torchinfo import summary"
   ],
   "outputs": []
  },
  {
   "cell_type": "code",
   "execution_count": null,
   "metadata": {},
   "source": [
    "model = nn.Linear(3, 3)\n",
    "\n",
    "\n",
    "parametrize.register_parametrization(model, \"weight\", Rezero())\n",
    "summary(model)"
   ],
   "outputs": []
  },
  {
   "cell_type": "code",
   "execution_count": null,
   "metadata": {},
   "source": [
    "jit.script(model)"
   ],
   "outputs": []
  },
  {
   "cell_type": "code",
   "execution_count": null,
   "metadata": {},
   "source": [
    "optim = SGD(model.parameters(), lr=0.01)"
   ],
   "outputs": []
  },
  {
   "cell_type": "code",
   "execution_count": null,
   "metadata": {},
   "source": [
    "x = torch.randn(10, 3)"
   ],
   "outputs": []
  },
  {
   "cell_type": "code",
   "execution_count": null,
   "metadata": {},
   "source": [
    "model.zero_grad()\n",
    "loss = torch.mean(model(model(x)) ** 2)\n",
    "loss.backward()\n",
    "optim.step()"
   ],
   "outputs": []
  },
  {
   "cell_type": "code",
   "execution_count": null,
   "metadata": {},
   "source": [
    "model.parametrizations.weight[0].alpha"
   ],
   "outputs": []
  },
  {
   "cell_type": "code",
   "execution_count": null,
   "metadata": {},
   "source": [
    "model.weight"
   ],
   "outputs": []
  },
  {
   "cell_type": "code",
   "execution_count": null,
   "metadata": {},
   "source": [
    "model = jit.script(model)"
   ],
   "outputs": []
  },
  {
   "cell_type": "code",
   "execution_count": null,
   "metadata": {},
   "source": [],
   "outputs": []
  },
  {
   "cell_type": "code",
   "execution_count": null,
   "metadata": {},
   "source": [],
   "outputs": []
  },
  {
   "cell_type": "code",
   "execution_count": null,
   "metadata": {},
   "source": [],
   "outputs": []
  },
  {
   "cell_type": "code",
   "execution_count": null,
   "metadata": {},
   "source": [],
   "outputs": []
  },
  {
   "cell_type": "code",
   "execution_count": null,
   "metadata": {},
   "source": [
    "module = nn.ModuleList([nn.Linear(3, 3), nn.Linear(3, 3)])\n",
    "\n",
    "scripted = jit.script(module)\n",
    "scripted + scripted"
   ],
   "outputs": []
  },
  {
   "cell_type": "code",
   "execution_count": null,
   "metadata": {},
   "source": [
    "nn.ModuleList([nn.Linear(3, 3), nn.Linear(3, 3)])\n",
    "module[1:]"
   ],
   "outputs": []
  },
  {
   "cell_type": "code",
   "execution_count": null,
   "metadata": {},
   "source": [
    "module = nn.Sequential(nn.Linear(3, 3), nn.Linear(3, 3), nn.Linear(3, 3))[\n",
    "    1:\n",
    "]  # + nn.Sequential(nn.Linear(3,3), nn.Linear(3,3))"
   ],
   "outputs": []
  },
  {
   "cell_type": "code",
   "execution_count": null,
   "metadata": {},
   "source": [
    "from typing import Final\n",
    "\n",
    "\n",
    "class foo(nn.Module):\n",
    "    a: Final[list[str]] = [\"a\"]"
   ],
   "outputs": []
  },
  {
   "cell_type": "code",
   "execution_count": null,
   "metadata": {},
   "source": [
    "type(jit.script(foo()).a)"
   ],
   "outputs": []
  },
  {
   "cell_type": "code",
   "execution_count": null,
   "metadata": {},
   "source": [
    "type(foo.a)"
   ],
   "outputs": []
  },
  {
   "cell_type": "code",
   "execution_count": null,
   "metadata": {},
   "source": [],
   "outputs": []
  }
 ],
 "metadata": {
  "kernelspec": {
   "display_name": "Python 3 (ipykernel)",
   "language": "python",
   "name": "python3"
  },
  "language_info": {
   "codemirror_mode": {
    "name": "ipython",
    "version": 3
   },
   "file_extension": ".py",
   "mimetype": "text/x-python",
   "name": "python",
   "nbconvert_exporter": "python",
   "pygments_lexer": "ipython3",
   "version": "3.9.12"
  }
 },
 "nbformat": 4,
 "nbformat_minor": 4
}
