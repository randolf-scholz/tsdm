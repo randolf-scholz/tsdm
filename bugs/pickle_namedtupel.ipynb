{
 "cells": [
  {
   "cell_type": "markdown",
   "metadata": {},
   "source": [
    "# Title"
   ]
  },
  {
   "cell_type": "code",
   "execution_count": 1,
   "metadata": {},
   "outputs": [],
   "source": [
    "%config InteractiveShell.ast_node_interactivity='last_expr_or_assign'  # always print last expr.\n",
    "%config InlineBackend.figure_format = 'svg'\n",
    "%load_ext autoreload\n",
    "%autoreload 2\n",
    "%matplotlib inline\n",
    "\n",
    "import logging\n",
    "\n",
    "logging.basicConfig(level=logging.INFO)"
   ]
  },
  {
   "cell_type": "code",
   "execution_count": 2,
   "metadata": {},
   "outputs": [],
   "source": [
    "import matplotlib.pyplot as plt\n",
    "import numpy as np\n",
    "\n",
    "np.set_printoptions(precision=4, floatmode=\"fixed\", suppress=True)\n",
    "rng = np.random.default_rng()"
   ]
  },
  {
   "cell_type": "code",
   "execution_count": 15,
   "metadata": {},
   "outputs": [],
   "source": [
    "import pickle\n",
    "from collections import namedtuple\n",
    "\n",
    "\n",
    "class TupleSplitter:\n",
    "    r\"\"\"Splits a tuple into namedtuple, given by the groups.\"\"\"\n",
    "\n",
    "    def __init__(self, groups: dict[str, list[int]]):\n",
    "        self.groups = groups\n",
    "        self.group_type = namedtuple(\"Groups\", groups)\n",
    "\n",
    "    def __call__(self, x: tuple) -> tuple:\n",
    "        return self.group_type(**{\n",
    "            key: tuple(x[k] for k in group) for key, group in self.groups.items()\n",
    "        })\n",
    "\n",
    "\n",
    "encoder = TupleSplitter({\"a\": [0, 1, 2], \"b\": [2, 3, 4]})\n",
    "encoder((1, 2, 3, 4, 5, 6))\n",
    "\n",
    "pickle.dumps(encoder)"
   ]
  },
  {
   "cell_type": "code",
   "execution_count": 18,
   "metadata": {},
   "outputs": [],
   "source": [
    "tup = (1, 2, 3)\n",
    "setattr(tup, \"a\", tup[0])"
   ]
  },
  {
   "cell_type": "code",
   "execution_count": 12,
   "metadata": {},
   "outputs": [],
   "source": [
    "class ntuple(tuple):\n",
    "    def __new__(cls, *args, **kwargs):\n",
    "        __slots__ = \"foo\", \"bar\"\n",
    "\n",
    "        return super(Foo, cls).__new__(cls, tuple(b))"
   ]
  },
  {
   "cell_type": "code",
   "execution_count": 13,
   "metadata": {},
   "outputs": [],
   "source": []
  },
  {
   "cell_type": "code",
   "execution_count": 14,
   "metadata": {},
   "outputs": [],
   "source": []
  },
  {
   "cell_type": "code",
   "execution_count": null,
   "metadata": {},
   "outputs": [],
   "source": []
  }
 ],
 "metadata": {
  "kernelspec": {
   "display_name": "Python 3 (ipykernel)",
   "language": "python",
   "name": "python3"
  },
  "language_info": {
   "codemirror_mode": {
    "name": "ipython",
    "version": 3
   },
   "file_extension": ".py",
   "mimetype": "text/x-python",
   "name": "python",
   "nbconvert_exporter": "python",
   "pygments_lexer": "ipython3",
   "version": "3.9.10"
  }
 },
 "nbformat": 4,
 "nbformat_minor": 4
}
